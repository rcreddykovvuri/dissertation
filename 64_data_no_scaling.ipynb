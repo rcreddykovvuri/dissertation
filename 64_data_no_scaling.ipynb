{
 "cells": [
  {
   "cell_type": "code",
   "execution_count": 1,
   "id": "bcdb1517",
   "metadata": {},
   "outputs": [],
   "source": [
    "import numpy as np #importing numpy\n",
    "import pandas as pd #importing pandas\n",
    "import PIL #importing pillow for image processing\n",
    "from PIL import Image#importing image from pillow library\n",
    "import skimage#importing skimage library\n",
    "import os#importing os library\n",
    "import time#importing time library\n",
    "\n",
    "#Capture start time of the program\n",
    "start_time = time.time()"
   ]
  },
  {
   "cell_type": "code",
   "execution_count": 2,
   "id": "9ec45970",
   "metadata": {},
   "outputs": [],
   "source": [
    "#changing path\n",
    "os.chdir('D://DKIT//dissertation//Dataset_of_Tomato_Leaves//plantvillage//Preprocessed_data//64//vector//')"
   ]
  },
  {
   "cell_type": "markdown",
   "id": "7139bf53",
   "metadata": {},
   "source": [
    "# KNN on rgb data"
   ]
  },
  {
   "cell_type": "code",
   "execution_count": 3,
   "id": "9386938c",
   "metadata": {},
   "outputs": [],
   "source": [
    "#reading numpy array data\n",
    "rgb_test = np.load('rgb_data.npy')\n",
    "#reading csv file\n",
    "rgb_df = pd.read_csv('rgb_data.csv')"
   ]
  },
  {
   "cell_type": "code",
   "execution_count": 4,
   "id": "40f528b5",
   "metadata": {},
   "outputs": [],
   "source": [
    "loaded = []\n",
    "for i in rgb_test:\n",
    "    k = []\n",
    "    k = np.asarray(i,dtype='uint8')\n",
    "    loaded.append(k)"
   ]
  },
  {
   "cell_type": "code",
   "execution_count": 5,
   "id": "c6d5658c",
   "metadata": {},
   "outputs": [],
   "source": [
    "#assigning features and target\n",
    "features = loaded\n",
    "target = rgb_df['disease']\n",
    "#splitting the data to 80 percent and 20 percent\n",
    "from sklearn.model_selection import train_test_split\n",
    "Ftrain,Ftest,Ltrain,Ltest=train_test_split(features,target, test_size=0.20, random_state=24)"
   ]
  },
  {
   "cell_type": "code",
   "execution_count": 6,
   "id": "6f1171c6",
   "metadata": {},
   "outputs": [],
   "source": [
    "#K-Model on the data\n",
    "from sklearn.neighbors import KNeighborsClassifier\n",
    "kmodel = KNeighborsClassifier(n_neighbors=75)"
   ]
  },
  {
   "cell_type": "code",
   "execution_count": 7,
   "id": "b9fdc978",
   "metadata": {},
   "outputs": [
    {
     "name": "stdout",
     "output_type": "stream",
     "text": [
      "0.5369797041623667\n"
     ]
    }
   ],
   "source": [
    "#k-model fitting and accuracy\n",
    "kmodel.fit(Ftrain,Ltrain)\n",
    "print(kmodel.score(Ftest,Ltest))"
   ]
  },
  {
   "cell_type": "code",
   "execution_count": 8,
   "id": "1fa0433e",
   "metadata": {},
   "outputs": [],
   "source": [
    "#importing classification report and confusion matrix\n",
    "from sklearn.metrics import classification_report, confusion_matrix"
   ]
  },
  {
   "cell_type": "code",
   "execution_count": 9,
   "id": "c5085d40",
   "metadata": {},
   "outputs": [
    {
     "name": "stdout",
     "output_type": "stream",
     "text": [
      "                               precision    recall  f1-score   support\n",
      "\n",
      "               bacterial_spot       0.33      0.81      0.47       345\n",
      "                 early_blight       0.00      0.00      0.00       153\n",
      "                      healthy       0.38      0.73      0.50       234\n",
      "                  late_blight       0.48      0.40      0.44       309\n",
      "                    leaf_mold       0.70      0.52      0.60       145\n",
      "           septoria_leaf_spot       0.69      0.30      0.42       293\n",
      "                  target_spot       0.58      0.16      0.25       240\n",
      "          tomato_mosaic_virus       0.75      0.06      0.10        54\n",
      "tomato_yellow_leaf_curl_virus       0.82      0.75      0.79       854\n",
      "      two-spotted_spider_mite       0.53      0.49      0.51       280\n",
      "\n",
      "                     accuracy                           0.54      2907\n",
      "                    macro avg       0.53      0.42      0.41      2907\n",
      "                 weighted avg       0.58      0.54      0.52      2907\n",
      "\n",
      "[[279   0  37  11   0   0   0   0  17   1]\n",
      " [101   0  11   2   1   5  11   0  15   7]\n",
      " [ 34   0 171  20   1   0   1   0   1   6]\n",
      " [ 60   0  53 125  12  24   2   0  20  13]\n",
      " [ 20   0  15  20  76   2   0   1   8   3]\n",
      " [ 32   0  45  48  15  87   8   0  32  26]\n",
      " [118   0  38   3   0   3  39   0   7  32]\n",
      " [  6   0  11  12   3   0   0   3   6  13]\n",
      " [125   0  52   7   0   4   1   0 644  21]\n",
      " [ 75   0  15  13   0   1   5   0  34 137]]\n"
     ]
    },
    {
     "name": "stderr",
     "output_type": "stream",
     "text": [
      "C:\\Users\\ravic\\anaconda3\\lib\\site-packages\\sklearn\\metrics\\_classification.py:1248: UndefinedMetricWarning: Precision and F-score are ill-defined and being set to 0.0 in labels with no predicted samples. Use `zero_division` parameter to control this behavior.\n",
      "  _warn_prf(average, modifier, msg_start, len(result))\n",
      "C:\\Users\\ravic\\anaconda3\\lib\\site-packages\\sklearn\\metrics\\_classification.py:1248: UndefinedMetricWarning: Precision and F-score are ill-defined and being set to 0.0 in labels with no predicted samples. Use `zero_division` parameter to control this behavior.\n",
      "  _warn_prf(average, modifier, msg_start, len(result))\n",
      "C:\\Users\\ravic\\anaconda3\\lib\\site-packages\\sklearn\\metrics\\_classification.py:1248: UndefinedMetricWarning: Precision and F-score are ill-defined and being set to 0.0 in labels with no predicted samples. Use `zero_division` parameter to control this behavior.\n",
      "  _warn_prf(average, modifier, msg_start, len(result))\n"
     ]
    }
   ],
   "source": [
    "#printing results of the kmodel\n",
    "y_predict = kmodel.fit(Ftrain, Ltrain).predict(Ftest)\n",
    "class_names = target.unique()\n",
    "print(classification_report(Ltest, y_predict, target_names=class_names))\n",
    "print(confusion_matrix(Ltest, y_predict))"
   ]
  },
  {
   "cell_type": "markdown",
   "id": "d5c58638",
   "metadata": {},
   "source": [
    "# Logistic on rgb data"
   ]
  },
  {
   "cell_type": "code",
   "execution_count": 10,
   "id": "a84836ef",
   "metadata": {},
   "outputs": [
    {
     "name": "stdout",
     "output_type": "stream",
     "text": [
      "0.6811145510835913\n"
     ]
    }
   ],
   "source": [
    "#importing logistic data\n",
    "from sklearn.linear_model import LogisticRegression\n",
    "model=LogisticRegression(solver='lbfgs', max_iter=10000)\n",
    "model.fit(Ftrain,Ltrain)\n",
    "print(model.score(Ftest,Ltest))"
   ]
  },
  {
   "cell_type": "code",
   "execution_count": 11,
   "id": "bb13d9a1",
   "metadata": {},
   "outputs": [
    {
     "name": "stdout",
     "output_type": "stream",
     "text": [
      "                               precision    recall  f1-score   support\n",
      "\n",
      "               bacterial_spot       0.61      0.77      0.68       345\n",
      "                 early_blight       0.42      0.40      0.41       153\n",
      "                      healthy       0.68      0.65      0.66       234\n",
      "                  late_blight       0.59      0.59      0.59       309\n",
      "                    leaf_mold       0.66      0.55      0.60       145\n",
      "           septoria_leaf_spot       0.58      0.59      0.59       293\n",
      "                  target_spot       0.55      0.42      0.48       240\n",
      "          tomato_mosaic_virus       0.67      0.72      0.70        54\n",
      "tomato_yellow_leaf_curl_virus       0.89      0.89      0.89       854\n",
      "      two-spotted_spider_mite       0.60      0.61      0.60       280\n",
      "\n",
      "                     accuracy                           0.68      2907\n",
      "                    macro avg       0.62      0.62      0.62      2907\n",
      "                 weighted avg       0.68      0.68      0.68      2907\n",
      "\n",
      "[[265  15   5  18   0   6   6   0  28   2]\n",
      " [ 24  61   2  18   1   9   7   1  12  18]\n",
      " [  8  11 151  15   3  11  23   0   0  12]\n",
      " [ 26  22  19 182  12  21   1   2  11  13]\n",
      " [  4   7   4   7  80  32   1   1   5   4]\n",
      " [ 24   9   6  21  16 173  16   7  11  10]\n",
      " [ 10  10  29  14   4  21 101   2   4  45]\n",
      " [  0   0   1   0   3   8   2  39   0   1]\n",
      " [ 43   5   0  21   1   7   9   1 757  10]\n",
      " [ 32   6   6  13   2   9  18   5  18 171]]\n"
     ]
    }
   ],
   "source": [
    "#classification report\n",
    "y_predict = model.fit(Ftrain, Ltrain).predict(Ftest)\n",
    "class_names = target.unique()\n",
    "print(classification_report(Ltest, y_predict, target_names=class_names))\n",
    "print(confusion_matrix(Ltest, y_predict))"
   ]
  },
  {
   "cell_type": "markdown",
   "id": "6fe194bc",
   "metadata": {},
   "source": [
    "# SVM on RGB data"
   ]
  },
  {
   "cell_type": "code",
   "execution_count": 12,
   "id": "2427ed51",
   "metadata": {},
   "outputs": [
    {
     "name": "stdout",
     "output_type": "stream",
     "text": [
      "0.7650498796009632\n"
     ]
    }
   ],
   "source": [
    "from sklearn.svm import SVC\n",
    "from sklearn.metrics import accuracy_score\n",
    "\n",
    "clf = SVC(kernel='linear')\n",
    "clf.fit(Ftrain,Ltrain)\n",
    "y_pred = clf.predict(Ftest)\n",
    "print(accuracy_score(Ltest,y_pred))"
   ]
  },
  {
   "cell_type": "code",
   "execution_count": 13,
   "id": "bf286604",
   "metadata": {},
   "outputs": [
    {
     "name": "stdout",
     "output_type": "stream",
     "text": [
      "                               precision    recall  f1-score   support\n",
      "\n",
      "               bacterial_spot       0.69      0.85      0.76       345\n",
      "                 early_blight       0.37      0.31      0.34       153\n",
      "                      healthy       0.81      0.81      0.81       234\n",
      "                  late_blight       0.72      0.71      0.71       309\n",
      "                    leaf_mold       0.69      0.68      0.69       145\n",
      "           septoria_leaf_spot       0.73      0.72      0.73       293\n",
      "                  target_spot       0.71      0.62      0.66       240\n",
      "          tomato_mosaic_virus       0.77      0.87      0.82        54\n",
      "tomato_yellow_leaf_curl_virus       0.92      0.90      0.91       854\n",
      "      two-spotted_spider_mite       0.72      0.71      0.71       280\n",
      "\n",
      "                     accuracy                           0.77      2907\n",
      "                    macro avg       0.71      0.72      0.71      2907\n",
      "                 weighted avg       0.76      0.77      0.76      2907\n",
      "\n",
      "[[294  16   2  14   0   1   0   0  18   0]\n",
      " [ 43  48   1  18   1   5  10   1  12  14]\n",
      " [  5   6 189  12   4   5  10   0   0   3]\n",
      " [ 14  23  10 218  10  11   1   0  12  10]\n",
      " [  4   3   4   6  99  21   2   2   3   1]\n",
      " [  8   7   9  10  18 212  10   8   6   5]\n",
      " [  4  16  12   2   3  19 148   2   0  34]\n",
      " [  0   0   0   0   2   4   0  47   0   1]\n",
      " [ 48   4   0  12   2   4   4   0 771   9]\n",
      " [  7   6   6   9   4   7  23   1  19 198]]\n"
     ]
    }
   ],
   "source": [
    "#classification report\n",
    "y_predict = clf.fit(Ftrain, Ltrain).predict(Ftest)\n",
    "class_names = target.unique()\n",
    "print(classification_report(Ltest, y_predict, target_names=class_names))\n",
    "print(confusion_matrix(Ltest, y_predict))"
   ]
  },
  {
   "cell_type": "markdown",
   "id": "73bef6fa",
   "metadata": {},
   "source": [
    "# Random Forest on RGB "
   ]
  },
  {
   "cell_type": "code",
   "execution_count": 14,
   "id": "6bae5a92",
   "metadata": {},
   "outputs": [],
   "source": [
    "from sklearn.ensemble import RandomForestClassifier"
   ]
  },
  {
   "cell_type": "code",
   "execution_count": 15,
   "id": "1d08a15e",
   "metadata": {},
   "outputs": [],
   "source": [
    "classifier_rf = RandomForestClassifier(random_state=42, n_jobs=-1, max_depth=5,n_estimators=100, oob_score=True)"
   ]
  },
  {
   "cell_type": "code",
   "execution_count": 16,
   "id": "938ad007",
   "metadata": {},
   "outputs": [
    {
     "data": {
      "text/plain": [
       "RandomForestClassifier(max_depth=5, n_jobs=-1, oob_score=True, random_state=42)"
      ]
     },
     "execution_count": 16,
     "metadata": {},
     "output_type": "execute_result"
    }
   ],
   "source": [
    "classifier_rf.fit(Ftrain, Ltrain)"
   ]
  },
  {
   "cell_type": "code",
   "execution_count": 17,
   "id": "e1769cec",
   "metadata": {},
   "outputs": [
    {
     "data": {
      "text/plain": [
       "0.5606503785271851"
      ]
     },
     "execution_count": 17,
     "metadata": {},
     "output_type": "execute_result"
    }
   ],
   "source": [
    "classifier_rf.oob_score_"
   ]
  },
  {
   "cell_type": "code",
   "execution_count": 18,
   "id": "13c0682e",
   "metadata": {},
   "outputs": [
    {
     "name": "stdout",
     "output_type": "stream",
     "text": [
      "                               precision    recall  f1-score   support\n",
      "\n",
      "               bacterial_spot       0.80      0.54      0.65       345\n",
      "                 early_blight       0.00      0.00      0.00       153\n",
      "                      healthy       0.59      0.86      0.70       234\n",
      "                  late_blight       0.68      0.30      0.42       309\n",
      "                    leaf_mold       0.73      0.39      0.51       145\n",
      "           septoria_leaf_spot       0.59      0.48      0.53       293\n",
      "                  target_spot       0.53      0.36      0.43       240\n",
      "          tomato_mosaic_virus       0.00      0.00      0.00        54\n",
      "tomato_yellow_leaf_curl_virus       0.50      0.97      0.66       854\n",
      "      two-spotted_spider_mite       0.80      0.13      0.22       280\n",
      "\n",
      "                     accuracy                           0.56      2907\n",
      "                    macro avg       0.52      0.40      0.41      2907\n",
      "                 weighted avg       0.58      0.56      0.51      2907\n",
      "\n",
      "[[188   0  16  10   0   0   5   0 126   0]\n",
      " [ 15   0   6   2   0  17  12   0 100   1]\n",
      " [  2   0 202   4   1   1   1   0  23   0]\n",
      " [  2   0  54  94  10  36  15   0  97   1]\n",
      " [  6   0  18  10  57   7   3   0  44   0]\n",
      " [  2   0  10  10   7 140   3   0 121   0]\n",
      " [ 11   0  19   3   0  25  86   0  90   6]\n",
      " [  0   0   5   2   3   2   0   0  41   1]\n",
      " [  6   0   4   2   0   8   2   0 832   0]\n",
      " [  4   0   6   1   0   2  34   0 197  36]]\n"
     ]
    },
    {
     "name": "stderr",
     "output_type": "stream",
     "text": [
      "C:\\Users\\ravic\\anaconda3\\lib\\site-packages\\sklearn\\metrics\\_classification.py:1248: UndefinedMetricWarning: Precision and F-score are ill-defined and being set to 0.0 in labels with no predicted samples. Use `zero_division` parameter to control this behavior.\n",
      "  _warn_prf(average, modifier, msg_start, len(result))\n",
      "C:\\Users\\ravic\\anaconda3\\lib\\site-packages\\sklearn\\metrics\\_classification.py:1248: UndefinedMetricWarning: Precision and F-score are ill-defined and being set to 0.0 in labels with no predicted samples. Use `zero_division` parameter to control this behavior.\n",
      "  _warn_prf(average, modifier, msg_start, len(result))\n",
      "C:\\Users\\ravic\\anaconda3\\lib\\site-packages\\sklearn\\metrics\\_classification.py:1248: UndefinedMetricWarning: Precision and F-score are ill-defined and being set to 0.0 in labels with no predicted samples. Use `zero_division` parameter to control this behavior.\n",
      "  _warn_prf(average, modifier, msg_start, len(result))\n"
     ]
    }
   ],
   "source": [
    "y_predict = classifier_rf.fit(Ftrain, Ltrain).predict(Ftest)\n",
    "class_names = target.unique()\n",
    "print(classification_report(Ltest, y_predict, target_names=class_names))\n",
    "print(confusion_matrix(Ltest, y_predict))"
   ]
  },
  {
   "cell_type": "markdown",
   "id": "b6a094e4",
   "metadata": {},
   "source": [
    "# Naive Bayes on RGB data"
   ]
  },
  {
   "cell_type": "code",
   "execution_count": 19,
   "id": "a5bc755b",
   "metadata": {},
   "outputs": [
    {
     "data": {
      "text/plain": [
       "GaussianNB()"
      ]
     },
     "execution_count": 19,
     "metadata": {},
     "output_type": "execute_result"
    }
   ],
   "source": [
    "from sklearn.naive_bayes import GaussianNB\n",
    "gnb = GaussianNB()\n",
    "gnb.fit(Ftrain, Ltrain)"
   ]
  },
  {
   "cell_type": "code",
   "execution_count": 20,
   "id": "6d162dcc",
   "metadata": {},
   "outputs": [],
   "source": [
    "y_pred = gnb.predict(Ftest)"
   ]
  },
  {
   "cell_type": "code",
   "execution_count": 21,
   "id": "8f7b4bab",
   "metadata": {},
   "outputs": [
    {
     "data": {
      "text/plain": [
       "0.5039559683522532"
      ]
     },
     "execution_count": 21,
     "metadata": {},
     "output_type": "execute_result"
    }
   ],
   "source": [
    "from sklearn import metrics\n",
    "metrics.accuracy_score(Ltest, y_pred)"
   ]
  },
  {
   "cell_type": "code",
   "execution_count": 22,
   "id": "935808af",
   "metadata": {},
   "outputs": [
    {
     "name": "stdout",
     "output_type": "stream",
     "text": [
      "                               precision    recall  f1-score   support\n",
      "\n",
      "               bacterial_spot       0.55      0.76      0.64       345\n",
      "                 early_blight       0.23      0.29      0.26       153\n",
      "                      healthy       0.41      0.68      0.51       234\n",
      "                  late_blight       0.49      0.29      0.37       309\n",
      "                    leaf_mold       0.52      0.46      0.49       145\n",
      "           septoria_leaf_spot       0.46      0.44      0.45       293\n",
      "                  target_spot       0.51      0.44      0.47       240\n",
      "          tomato_mosaic_virus       0.18      0.74      0.29        54\n",
      "tomato_yellow_leaf_curl_virus       0.89      0.50      0.64       854\n",
      "      two-spotted_spider_mite       0.41      0.51      0.45       280\n",
      "\n",
      "                     accuracy                           0.50      2907\n",
      "                    macro avg       0.47      0.51      0.46      2907\n",
      "                 weighted avg       0.58      0.50      0.51      2907\n",
      "\n",
      "[[261   7  33   7   0   1   7   5  20   4]\n",
      " [ 35  45   2  25   0  10  19   4   5   8]\n",
      " [  5   6 160  10   7   3  24   7   1  11]\n",
      " [  2  47  93  90  17  27   8  16   5   4]\n",
      " [  7   6   5  11  66  21   2  20   2   5]\n",
      " [  7  10  37   8  21 130  19  23  11  27]\n",
      " [ 16  15   3   7   4  23 106  10   2  54]\n",
      " [  3   0   3   0   1   3   0  40   2   2]\n",
      " [125  38  53  19   7  43   4  51 425  89]\n",
      " [ 11  25   4   5   3  21  20  42   7 142]]\n"
     ]
    }
   ],
   "source": [
    "class_names = target.unique()\n",
    "print(classification_report(Ltest, y_pred, target_names=class_names))\n",
    "print(confusion_matrix(Ltest, y_pred))"
   ]
  },
  {
   "cell_type": "markdown",
   "id": "75bb69d9",
   "metadata": {},
   "source": [
    "# Decision Tree on RGB data"
   ]
  },
  {
   "cell_type": "code",
   "execution_count": 23,
   "id": "6a765709",
   "metadata": {},
   "outputs": [],
   "source": [
    "from sklearn.tree import DecisionTreeClassifier\n",
    "classifier_tree = DecisionTreeClassifier()"
   ]
  },
  {
   "cell_type": "code",
   "execution_count": 24,
   "id": "feb5f853",
   "metadata": {},
   "outputs": [
    {
     "data": {
      "text/plain": [
       "0.47746818025455795"
      ]
     },
     "execution_count": 24,
     "metadata": {},
     "output_type": "execute_result"
    }
   ],
   "source": [
    "classifier_tree.fit(Ftrain, Ltrain)\n",
    "classifier_tree.score(Ftest,Ltest)"
   ]
  },
  {
   "cell_type": "code",
   "execution_count": 25,
   "id": "1bdf54ae",
   "metadata": {},
   "outputs": [
    {
     "name": "stdout",
     "output_type": "stream",
     "text": [
      "                               precision    recall  f1-score   support\n",
      "\n",
      "               bacterial_spot       0.48      0.52      0.50       345\n",
      "                 early_blight       0.05      0.05      0.05       153\n",
      "                      healthy       0.61      0.59      0.60       234\n",
      "                  late_blight       0.39      0.41      0.40       309\n",
      "                    leaf_mold       0.37      0.31      0.34       145\n",
      "           septoria_leaf_spot       0.38      0.37      0.37       293\n",
      "                  target_spot       0.32      0.30      0.31       240\n",
      "          tomato_mosaic_virus       0.04      0.06      0.05        54\n",
      "tomato_yellow_leaf_curl_virus       0.72      0.71      0.71       854\n",
      "      two-spotted_spider_mite       0.35      0.36      0.36       280\n",
      "\n",
      "                     accuracy                           0.48      2907\n",
      "                    macro avg       0.37      0.37      0.37      2907\n",
      "                 weighted avg       0.48      0.48      0.48      2907\n",
      "\n",
      "[[181  20  11  19   9  18  18   3  53  13]\n",
      " [ 27   7   9  24   9  14  13   2  29  19]\n",
      " [ 21   6 137  19   4  15  11   5   4  12]\n",
      " [ 24  22  22 127  14  25  11  15  29  20]\n",
      " [ 11   6   2  18  45  17   5   9  21  11]\n",
      " [ 15  14   6  40  17 107  26   9  34  25]\n",
      " [ 21  18  19  21   5  30  71   6  11  38]\n",
      " [  2   2   2   7   6  10   2   3  12   8]\n",
      " [ 56  29   8  36   3  36  24  15 603  44]\n",
      " [ 22  17  10  11  10  11  43   8  46 102]]\n"
     ]
    }
   ],
   "source": [
    "y_predict = classifier_tree.fit(Ftrain, Ltrain).predict(Ftest)\n",
    "class_names = target.unique()\n",
    "print(classification_report(Ltest, y_predict, target_names=class_names))\n",
    "print(confusion_matrix(Ltest, y_predict))"
   ]
  },
  {
   "cell_type": "markdown",
   "id": "c9daaaee",
   "metadata": {},
   "source": [
    "# KNN on grayscale data"
   ]
  },
  {
   "cell_type": "code",
   "execution_count": 26,
   "id": "57a9845e",
   "metadata": {},
   "outputs": [],
   "source": [
    "#reading numpy array data\n",
    "gray_test = np.load('gray_test.npy')\n",
    "#reading csv file\n",
    "gray_df = pd.read_csv('gray_data.csv')"
   ]
  },
  {
   "cell_type": "code",
   "execution_count": 27,
   "id": "25d4fea2",
   "metadata": {},
   "outputs": [],
   "source": [
    "loaded = []\n",
    "for i in gray_test:\n",
    "    k = []\n",
    "    k = np.asarray(i,dtype='uint8')\n",
    "    loaded.append(k)"
   ]
  },
  {
   "cell_type": "code",
   "execution_count": 28,
   "id": "d3abef95",
   "metadata": {},
   "outputs": [],
   "source": [
    "features = loaded\n",
    "target = gray_df['disease']"
   ]
  },
  {
   "cell_type": "code",
   "execution_count": 29,
   "id": "6f75adfd",
   "metadata": {},
   "outputs": [
    {
     "data": {
      "text/plain": [
       "0.5369797041623667"
      ]
     },
     "execution_count": 29,
     "metadata": {},
     "output_type": "execute_result"
    }
   ],
   "source": [
    "kmodel.fit(Ftrain,Ltrain)\n",
    "kmodel.score(Ftest,Ltest)"
   ]
  },
  {
   "cell_type": "code",
   "execution_count": 30,
   "id": "20df9552",
   "metadata": {},
   "outputs": [
    {
     "name": "stdout",
     "output_type": "stream",
     "text": [
      "                               precision    recall  f1-score   support\n",
      "\n",
      "               bacterial_spot       0.33      0.81      0.47       345\n",
      "                 early_blight       0.00      0.00      0.00       153\n",
      "                      healthy       0.38      0.73      0.50       234\n",
      "                  late_blight       0.48      0.40      0.44       309\n",
      "                    leaf_mold       0.70      0.52      0.60       145\n",
      "           septoria_leaf_spot       0.69      0.30      0.42       293\n",
      "                  target_spot       0.58      0.16      0.25       240\n",
      "          tomato_mosaic_virus       0.75      0.06      0.10        54\n",
      "tomato_yellow_leaf_curl_virus       0.82      0.75      0.79       854\n",
      "      two-spotted_spider_mite       0.53      0.49      0.51       280\n",
      "\n",
      "                     accuracy                           0.54      2907\n",
      "                    macro avg       0.53      0.42      0.41      2907\n",
      "                 weighted avg       0.58      0.54      0.52      2907\n",
      "\n",
      "[[279   0  37  11   0   0   0   0  17   1]\n",
      " [101   0  11   2   1   5  11   0  15   7]\n",
      " [ 34   0 171  20   1   0   1   0   1   6]\n",
      " [ 60   0  53 125  12  24   2   0  20  13]\n",
      " [ 20   0  15  20  76   2   0   1   8   3]\n",
      " [ 32   0  45  48  15  87   8   0  32  26]\n",
      " [118   0  38   3   0   3  39   0   7  32]\n",
      " [  6   0  11  12   3   0   0   3   6  13]\n",
      " [125   0  52   7   0   4   1   0 644  21]\n",
      " [ 75   0  15  13   0   1   5   0  34 137]]\n"
     ]
    },
    {
     "name": "stderr",
     "output_type": "stream",
     "text": [
      "C:\\Users\\ravic\\anaconda3\\lib\\site-packages\\sklearn\\metrics\\_classification.py:1248: UndefinedMetricWarning: Precision and F-score are ill-defined and being set to 0.0 in labels with no predicted samples. Use `zero_division` parameter to control this behavior.\n",
      "  _warn_prf(average, modifier, msg_start, len(result))\n",
      "C:\\Users\\ravic\\anaconda3\\lib\\site-packages\\sklearn\\metrics\\_classification.py:1248: UndefinedMetricWarning: Precision and F-score are ill-defined and being set to 0.0 in labels with no predicted samples. Use `zero_division` parameter to control this behavior.\n",
      "  _warn_prf(average, modifier, msg_start, len(result))\n",
      "C:\\Users\\ravic\\anaconda3\\lib\\site-packages\\sklearn\\metrics\\_classification.py:1248: UndefinedMetricWarning: Precision and F-score are ill-defined and being set to 0.0 in labels with no predicted samples. Use `zero_division` parameter to control this behavior.\n",
      "  _warn_prf(average, modifier, msg_start, len(result))\n"
     ]
    }
   ],
   "source": [
    "y_predict = kmodel.fit(Ftrain, Ltrain).predict(Ftest)\n",
    "class_names = target.unique()\n",
    "print(classification_report(Ltest, y_predict, target_names=class_names))\n",
    "print(confusion_matrix(Ltest, y_predict))"
   ]
  },
  {
   "cell_type": "markdown",
   "id": "197eedfc",
   "metadata": {},
   "source": [
    "# Logistic on grayscale data"
   ]
  },
  {
   "cell_type": "code",
   "execution_count": 31,
   "id": "9fd6cafe",
   "metadata": {},
   "outputs": [
    {
     "data": {
      "text/plain": [
       "0.6811145510835913"
      ]
     },
     "execution_count": 31,
     "metadata": {},
     "output_type": "execute_result"
    }
   ],
   "source": [
    "from sklearn.linear_model import LogisticRegression\n",
    "model=LogisticRegression(solver='lbfgs', max_iter=10000)\n",
    "model.fit(Ftrain,Ltrain)\n",
    "model.score(Ftest,Ltest)"
   ]
  },
  {
   "cell_type": "code",
   "execution_count": 32,
   "id": "834920c5",
   "metadata": {},
   "outputs": [
    {
     "name": "stdout",
     "output_type": "stream",
     "text": [
      "                               precision    recall  f1-score   support\n",
      "\n",
      "               bacterial_spot       0.61      0.77      0.68       345\n",
      "                 early_blight       0.42      0.40      0.41       153\n",
      "                      healthy       0.68      0.65      0.66       234\n",
      "                  late_blight       0.59      0.59      0.59       309\n",
      "                    leaf_mold       0.66      0.55      0.60       145\n",
      "           septoria_leaf_spot       0.58      0.59      0.59       293\n",
      "                  target_spot       0.55      0.42      0.48       240\n",
      "          tomato_mosaic_virus       0.67      0.72      0.70        54\n",
      "tomato_yellow_leaf_curl_virus       0.89      0.89      0.89       854\n",
      "      two-spotted_spider_mite       0.60      0.61      0.60       280\n",
      "\n",
      "                     accuracy                           0.68      2907\n",
      "                    macro avg       0.62      0.62      0.62      2907\n",
      "                 weighted avg       0.68      0.68      0.68      2907\n",
      "\n",
      "[[265  15   5  18   0   6   6   0  28   2]\n",
      " [ 24  61   2  18   1   9   7   1  12  18]\n",
      " [  8  11 151  15   3  11  23   0   0  12]\n",
      " [ 26  22  19 182  12  21   1   2  11  13]\n",
      " [  4   7   4   7  80  32   1   1   5   4]\n",
      " [ 24   9   6  21  16 173  16   7  11  10]\n",
      " [ 10  10  29  14   4  21 101   2   4  45]\n",
      " [  0   0   1   0   3   8   2  39   0   1]\n",
      " [ 43   5   0  21   1   7   9   1 757  10]\n",
      " [ 32   6   6  13   2   9  18   5  18 171]]\n"
     ]
    }
   ],
   "source": [
    "y_predict = model.fit(Ftrain, Ltrain).predict(Ftest)\n",
    "class_names = target.unique()\n",
    "print(classification_report(Ltest, y_predict, target_names=class_names))\n",
    "print(confusion_matrix(Ltest, y_predict))"
   ]
  },
  {
   "cell_type": "markdown",
   "id": "5284f869",
   "metadata": {},
   "source": [
    "# SVM on Grayscale data"
   ]
  },
  {
   "cell_type": "code",
   "execution_count": 33,
   "id": "d0db5c80",
   "metadata": {},
   "outputs": [
    {
     "name": "stdout",
     "output_type": "stream",
     "text": [
      "0.7650498796009632\n"
     ]
    }
   ],
   "source": [
    "clf = SVC(kernel='linear')\n",
    "clf.fit(Ftrain,Ltrain)\n",
    "y_pred = clf.predict(Ftest)\n",
    "print(accuracy_score(Ltest,y_pred))"
   ]
  },
  {
   "cell_type": "code",
   "execution_count": 34,
   "id": "05d3b675",
   "metadata": {},
   "outputs": [
    {
     "name": "stdout",
     "output_type": "stream",
     "text": [
      "                               precision    recall  f1-score   support\n",
      "\n",
      "               bacterial_spot       0.69      0.85      0.76       345\n",
      "                 early_blight       0.37      0.31      0.34       153\n",
      "                      healthy       0.81      0.81      0.81       234\n",
      "                  late_blight       0.72      0.71      0.71       309\n",
      "                    leaf_mold       0.69      0.68      0.69       145\n",
      "           septoria_leaf_spot       0.73      0.72      0.73       293\n",
      "                  target_spot       0.71      0.62      0.66       240\n",
      "          tomato_mosaic_virus       0.77      0.87      0.82        54\n",
      "tomato_yellow_leaf_curl_virus       0.92      0.90      0.91       854\n",
      "      two-spotted_spider_mite       0.72      0.71      0.71       280\n",
      "\n",
      "                     accuracy                           0.77      2907\n",
      "                    macro avg       0.71      0.72      0.71      2907\n",
      "                 weighted avg       0.76      0.77      0.76      2907\n",
      "\n",
      "[[294  16   2  14   0   1   0   0  18   0]\n",
      " [ 43  48   1  18   1   5  10   1  12  14]\n",
      " [  5   6 189  12   4   5  10   0   0   3]\n",
      " [ 14  23  10 218  10  11   1   0  12  10]\n",
      " [  4   3   4   6  99  21   2   2   3   1]\n",
      " [  8   7   9  10  18 212  10   8   6   5]\n",
      " [  4  16  12   2   3  19 148   2   0  34]\n",
      " [  0   0   0   0   2   4   0  47   0   1]\n",
      " [ 48   4   0  12   2   4   4   0 771   9]\n",
      " [  7   6   6   9   4   7  23   1  19 198]]\n"
     ]
    }
   ],
   "source": [
    "y_predict = clf.fit(Ftrain, Ltrain).predict(Ftest)\n",
    "class_names = target.unique()\n",
    "print(classification_report(Ltest, y_predict, target_names=class_names))\n",
    "print(confusion_matrix(Ltest, y_predict))"
   ]
  },
  {
   "cell_type": "markdown",
   "id": "576fd580",
   "metadata": {},
   "source": [
    "# Random Forest on Grayscale"
   ]
  },
  {
   "cell_type": "code",
   "execution_count": 35,
   "id": "9dfa979e",
   "metadata": {},
   "outputs": [
    {
     "data": {
      "text/plain": [
       "RandomForestClassifier(max_depth=5, n_jobs=-1, oob_score=True, random_state=42)"
      ]
     },
     "execution_count": 35,
     "metadata": {},
     "output_type": "execute_result"
    }
   ],
   "source": [
    "classifier_rf.fit(Ftrain, Ltrain)"
   ]
  },
  {
   "cell_type": "code",
   "execution_count": 36,
   "id": "2b4347ef",
   "metadata": {},
   "outputs": [
    {
     "data": {
      "text/plain": [
       "0.5606503785271851"
      ]
     },
     "execution_count": 36,
     "metadata": {},
     "output_type": "execute_result"
    }
   ],
   "source": [
    "classifier_rf.oob_score_"
   ]
  },
  {
   "cell_type": "code",
   "execution_count": 37,
   "id": "8b7d285d",
   "metadata": {},
   "outputs": [
    {
     "name": "stdout",
     "output_type": "stream",
     "text": [
      "                               precision    recall  f1-score   support\n",
      "\n",
      "               bacterial_spot       0.80      0.54      0.65       345\n",
      "                 early_blight       0.00      0.00      0.00       153\n",
      "                      healthy       0.59      0.86      0.70       234\n",
      "                  late_blight       0.68      0.30      0.42       309\n",
      "                    leaf_mold       0.73      0.39      0.51       145\n",
      "           septoria_leaf_spot       0.59      0.48      0.53       293\n",
      "                  target_spot       0.53      0.36      0.43       240\n",
      "          tomato_mosaic_virus       0.00      0.00      0.00        54\n",
      "tomato_yellow_leaf_curl_virus       0.50      0.97      0.66       854\n",
      "      two-spotted_spider_mite       0.80      0.13      0.22       280\n",
      "\n",
      "                     accuracy                           0.56      2907\n",
      "                    macro avg       0.52      0.40      0.41      2907\n",
      "                 weighted avg       0.58      0.56      0.51      2907\n",
      "\n",
      "[[188   0  16  10   0   0   5   0 126   0]\n",
      " [ 15   0   6   2   0  17  12   0 100   1]\n",
      " [  2   0 202   4   1   1   1   0  23   0]\n",
      " [  2   0  54  94  10  36  15   0  97   1]\n",
      " [  6   0  18  10  57   7   3   0  44   0]\n",
      " [  2   0  10  10   7 140   3   0 121   0]\n",
      " [ 11   0  19   3   0  25  86   0  90   6]\n",
      " [  0   0   5   2   3   2   0   0  41   1]\n",
      " [  6   0   4   2   0   8   2   0 832   0]\n",
      " [  4   0   6   1   0   2  34   0 197  36]]\n"
     ]
    },
    {
     "name": "stderr",
     "output_type": "stream",
     "text": [
      "C:\\Users\\ravic\\anaconda3\\lib\\site-packages\\sklearn\\metrics\\_classification.py:1248: UndefinedMetricWarning: Precision and F-score are ill-defined and being set to 0.0 in labels with no predicted samples. Use `zero_division` parameter to control this behavior.\n",
      "  _warn_prf(average, modifier, msg_start, len(result))\n",
      "C:\\Users\\ravic\\anaconda3\\lib\\site-packages\\sklearn\\metrics\\_classification.py:1248: UndefinedMetricWarning: Precision and F-score are ill-defined and being set to 0.0 in labels with no predicted samples. Use `zero_division` parameter to control this behavior.\n",
      "  _warn_prf(average, modifier, msg_start, len(result))\n",
      "C:\\Users\\ravic\\anaconda3\\lib\\site-packages\\sklearn\\metrics\\_classification.py:1248: UndefinedMetricWarning: Precision and F-score are ill-defined and being set to 0.0 in labels with no predicted samples. Use `zero_division` parameter to control this behavior.\n",
      "  _warn_prf(average, modifier, msg_start, len(result))\n"
     ]
    }
   ],
   "source": [
    "y_predict = classifier_rf.fit(Ftrain, Ltrain).predict(Ftest)\n",
    "class_names = target.unique()\n",
    "print(classification_report(Ltest, y_predict, target_names=class_names))\n",
    "print(confusion_matrix(Ltest, y_predict))"
   ]
  },
  {
   "cell_type": "markdown",
   "id": "8befce61",
   "metadata": {},
   "source": [
    "# Naive bayes on Grayscale"
   ]
  },
  {
   "cell_type": "code",
   "execution_count": 38,
   "id": "0d1a6d3b",
   "metadata": {},
   "outputs": [
    {
     "data": {
      "text/plain": [
       "GaussianNB()"
      ]
     },
     "execution_count": 38,
     "metadata": {},
     "output_type": "execute_result"
    }
   ],
   "source": [
    "gnb.fit(Ftrain, Ltrain)"
   ]
  },
  {
   "cell_type": "code",
   "execution_count": 39,
   "id": "053c9a09",
   "metadata": {},
   "outputs": [
    {
     "data": {
      "text/plain": [
       "0.5039559683522532"
      ]
     },
     "execution_count": 39,
     "metadata": {},
     "output_type": "execute_result"
    }
   ],
   "source": [
    "y_pred = gnb.predict(Ftest)\n",
    "metrics.accuracy_score(Ltest, y_pred)"
   ]
  },
  {
   "cell_type": "code",
   "execution_count": 40,
   "id": "0e53ae2c",
   "metadata": {},
   "outputs": [
    {
     "name": "stdout",
     "output_type": "stream",
     "text": [
      "                               precision    recall  f1-score   support\n",
      "\n",
      "               bacterial_spot       0.55      0.76      0.64       345\n",
      "                 early_blight       0.23      0.29      0.26       153\n",
      "                      healthy       0.41      0.68      0.51       234\n",
      "                  late_blight       0.49      0.29      0.37       309\n",
      "                    leaf_mold       0.52      0.46      0.49       145\n",
      "           septoria_leaf_spot       0.46      0.44      0.45       293\n",
      "                  target_spot       0.51      0.44      0.47       240\n",
      "          tomato_mosaic_virus       0.18      0.74      0.29        54\n",
      "tomato_yellow_leaf_curl_virus       0.89      0.50      0.64       854\n",
      "      two-spotted_spider_mite       0.41      0.51      0.45       280\n",
      "\n",
      "                     accuracy                           0.50      2907\n",
      "                    macro avg       0.47      0.51      0.46      2907\n",
      "                 weighted avg       0.58      0.50      0.51      2907\n",
      "\n",
      "[[261   7  33   7   0   1   7   5  20   4]\n",
      " [ 35  45   2  25   0  10  19   4   5   8]\n",
      " [  5   6 160  10   7   3  24   7   1  11]\n",
      " [  2  47  93  90  17  27   8  16   5   4]\n",
      " [  7   6   5  11  66  21   2  20   2   5]\n",
      " [  7  10  37   8  21 130  19  23  11  27]\n",
      " [ 16  15   3   7   4  23 106  10   2  54]\n",
      " [  3   0   3   0   1   3   0  40   2   2]\n",
      " [125  38  53  19   7  43   4  51 425  89]\n",
      " [ 11  25   4   5   3  21  20  42   7 142]]\n"
     ]
    }
   ],
   "source": [
    "class_names = target.unique()\n",
    "print(classification_report(Ltest, y_pred, target_names=class_names))\n",
    "print(confusion_matrix(Ltest, y_pred))"
   ]
  },
  {
   "cell_type": "markdown",
   "id": "af8a8fca",
   "metadata": {},
   "source": [
    "# Decision Tree on Grayscale"
   ]
  },
  {
   "cell_type": "code",
   "execution_count": 41,
   "id": "4d1eb3ec",
   "metadata": {},
   "outputs": [
    {
     "data": {
      "text/plain": [
       "0.48125214998280014"
      ]
     },
     "execution_count": 41,
     "metadata": {},
     "output_type": "execute_result"
    }
   ],
   "source": [
    "classifier_tree.fit(Ftrain, Ltrain)\n",
    "classifier_tree.score(Ftest,Ltest)"
   ]
  },
  {
   "cell_type": "code",
   "execution_count": 42,
   "id": "5e93e78c",
   "metadata": {},
   "outputs": [
    {
     "name": "stdout",
     "output_type": "stream",
     "text": [
      "                               precision    recall  f1-score   support\n",
      "\n",
      "               bacterial_spot       0.48      0.52      0.50       345\n",
      "                 early_blight       0.08      0.08      0.08       153\n",
      "                      healthy       0.56      0.58      0.57       234\n",
      "                  late_blight       0.43      0.42      0.43       309\n",
      "                    leaf_mold       0.38      0.35      0.36       145\n",
      "           septoria_leaf_spot       0.40      0.38      0.39       293\n",
      "                  target_spot       0.33      0.29      0.31       240\n",
      "          tomato_mosaic_virus       0.11      0.15      0.13        54\n",
      "tomato_yellow_leaf_curl_virus       0.72      0.71      0.71       854\n",
      "      two-spotted_spider_mite       0.35      0.35      0.35       280\n",
      "\n",
      "                     accuracy                           0.48      2907\n",
      "                    macro avg       0.38      0.38      0.38      2907\n",
      "                 weighted avg       0.48      0.48      0.48      2907\n",
      "\n",
      "[[180  24  17  18  11  19  17   2  48   9]\n",
      " [ 29  13   7  21   7  11   8   6  34  17]\n",
      " [ 15  13 135  22   6  13  15   3   1  11]\n",
      " [ 21  27  18 131  17  23  11   8  27  26]\n",
      " [ 10  12   5  13  51  16   1   8  17  12]\n",
      " [ 11  12  13  36  18 110  27   7  38  21]\n",
      " [ 21  22  20  17   5  22  70   8  13  42]\n",
      " [  1   1   2   6   5  11   1   8  10   9]\n",
      " [ 65  33  10  25   6  40  22  15 603  35]\n",
      " [ 25  14  12  14  10   9  43   7  48  98]]\n"
     ]
    }
   ],
   "source": [
    "y_predict = classifier_tree.fit(Ftrain, Ltrain).predict(Ftest)\n",
    "class_names = target.unique()\n",
    "print(classification_report(Ltest, y_predict, target_names=class_names))\n",
    "print(confusion_matrix(Ltest, y_predict))"
   ]
  },
  {
   "cell_type": "markdown",
   "id": "e42f549f",
   "metadata": {},
   "source": [
    "# KNN on Red channel data"
   ]
  },
  {
   "cell_type": "code",
   "execution_count": 43,
   "id": "cb75cbbd",
   "metadata": {},
   "outputs": [],
   "source": [
    "#reading numpy array data\n",
    "red_test = np.load('red_data.npy')\n",
    "#reading csv file\n",
    "red_df = pd.read_csv('red_data.csv')"
   ]
  },
  {
   "cell_type": "code",
   "execution_count": 44,
   "id": "7fda7839",
   "metadata": {},
   "outputs": [],
   "source": [
    "loaded = []\n",
    "for i in red_test:\n",
    "    k = []\n",
    "    k = np.asarray(i,dtype='uint8')\n",
    "    loaded.append(k)\n",
    "features = loaded\n",
    "target = red_df['disease']"
   ]
  },
  {
   "cell_type": "code",
   "execution_count": 45,
   "id": "683839f2",
   "metadata": {},
   "outputs": [
    {
     "data": {
      "text/plain": [
       "0.5369797041623667"
      ]
     },
     "execution_count": 45,
     "metadata": {},
     "output_type": "execute_result"
    }
   ],
   "source": [
    "kmodel.fit(Ftrain,Ltrain)\n",
    "kmodel.score(Ftest,Ltest)"
   ]
  },
  {
   "cell_type": "code",
   "execution_count": 46,
   "id": "a5863749",
   "metadata": {},
   "outputs": [
    {
     "name": "stdout",
     "output_type": "stream",
     "text": [
      "                               precision    recall  f1-score   support\n",
      "\n",
      "               bacterial_spot       0.33      0.81      0.47       345\n",
      "                 early_blight       0.00      0.00      0.00       153\n",
      "                      healthy       0.38      0.73      0.50       234\n",
      "                  late_blight       0.48      0.40      0.44       309\n",
      "                    leaf_mold       0.70      0.52      0.60       145\n",
      "           septoria_leaf_spot       0.69      0.30      0.42       293\n",
      "                  target_spot       0.58      0.16      0.25       240\n",
      "          tomato_mosaic_virus       0.75      0.06      0.10        54\n",
      "tomato_yellow_leaf_curl_virus       0.82      0.75      0.79       854\n",
      "      two-spotted_spider_mite       0.53      0.49      0.51       280\n",
      "\n",
      "                     accuracy                           0.54      2907\n",
      "                    macro avg       0.53      0.42      0.41      2907\n",
      "                 weighted avg       0.58      0.54      0.52      2907\n",
      "\n",
      "[[279   0  37  11   0   0   0   0  17   1]\n",
      " [101   0  11   2   1   5  11   0  15   7]\n",
      " [ 34   0 171  20   1   0   1   0   1   6]\n",
      " [ 60   0  53 125  12  24   2   0  20  13]\n",
      " [ 20   0  15  20  76   2   0   1   8   3]\n",
      " [ 32   0  45  48  15  87   8   0  32  26]\n",
      " [118   0  38   3   0   3  39   0   7  32]\n",
      " [  6   0  11  12   3   0   0   3   6  13]\n",
      " [125   0  52   7   0   4   1   0 644  21]\n",
      " [ 75   0  15  13   0   1   5   0  34 137]]\n"
     ]
    },
    {
     "name": "stderr",
     "output_type": "stream",
     "text": [
      "C:\\Users\\ravic\\anaconda3\\lib\\site-packages\\sklearn\\metrics\\_classification.py:1248: UndefinedMetricWarning: Precision and F-score are ill-defined and being set to 0.0 in labels with no predicted samples. Use `zero_division` parameter to control this behavior.\n",
      "  _warn_prf(average, modifier, msg_start, len(result))\n",
      "C:\\Users\\ravic\\anaconda3\\lib\\site-packages\\sklearn\\metrics\\_classification.py:1248: UndefinedMetricWarning: Precision and F-score are ill-defined and being set to 0.0 in labels with no predicted samples. Use `zero_division` parameter to control this behavior.\n",
      "  _warn_prf(average, modifier, msg_start, len(result))\n",
      "C:\\Users\\ravic\\anaconda3\\lib\\site-packages\\sklearn\\metrics\\_classification.py:1248: UndefinedMetricWarning: Precision and F-score are ill-defined and being set to 0.0 in labels with no predicted samples. Use `zero_division` parameter to control this behavior.\n",
      "  _warn_prf(average, modifier, msg_start, len(result))\n"
     ]
    }
   ],
   "source": [
    "y_predict = kmodel.fit(Ftrain, Ltrain).predict(Ftest)\n",
    "class_names = target.unique()\n",
    "print(classification_report(Ltest, y_predict, target_names=class_names))\n",
    "print(confusion_matrix(Ltest, y_predict))"
   ]
  },
  {
   "cell_type": "markdown",
   "id": "ffcda594",
   "metadata": {},
   "source": [
    "# Logistic on Red channel data"
   ]
  },
  {
   "cell_type": "code",
   "execution_count": 47,
   "id": "1ed4037b",
   "metadata": {},
   "outputs": [
    {
     "data": {
      "text/plain": [
       "0.6811145510835913"
      ]
     },
     "execution_count": 47,
     "metadata": {},
     "output_type": "execute_result"
    }
   ],
   "source": [
    "model.fit(Ftrain,Ltrain)\n",
    "model.score(Ftest,Ltest)"
   ]
  },
  {
   "cell_type": "code",
   "execution_count": 48,
   "id": "19a14de1",
   "metadata": {},
   "outputs": [
    {
     "name": "stdout",
     "output_type": "stream",
     "text": [
      "                               precision    recall  f1-score   support\n",
      "\n",
      "               bacterial_spot       0.61      0.77      0.68       345\n",
      "                 early_blight       0.42      0.40      0.41       153\n",
      "                      healthy       0.68      0.65      0.66       234\n",
      "                  late_blight       0.59      0.59      0.59       309\n",
      "                    leaf_mold       0.66      0.55      0.60       145\n",
      "           septoria_leaf_spot       0.58      0.59      0.59       293\n",
      "                  target_spot       0.55      0.42      0.48       240\n",
      "          tomato_mosaic_virus       0.67      0.72      0.70        54\n",
      "tomato_yellow_leaf_curl_virus       0.89      0.89      0.89       854\n",
      "      two-spotted_spider_mite       0.60      0.61      0.60       280\n",
      "\n",
      "                     accuracy                           0.68      2907\n",
      "                    macro avg       0.62      0.62      0.62      2907\n",
      "                 weighted avg       0.68      0.68      0.68      2907\n",
      "\n",
      "[[265  15   5  18   0   6   6   0  28   2]\n",
      " [ 24  61   2  18   1   9   7   1  12  18]\n",
      " [  8  11 151  15   3  11  23   0   0  12]\n",
      " [ 26  22  19 182  12  21   1   2  11  13]\n",
      " [  4   7   4   7  80  32   1   1   5   4]\n",
      " [ 24   9   6  21  16 173  16   7  11  10]\n",
      " [ 10  10  29  14   4  21 101   2   4  45]\n",
      " [  0   0   1   0   3   8   2  39   0   1]\n",
      " [ 43   5   0  21   1   7   9   1 757  10]\n",
      " [ 32   6   6  13   2   9  18   5  18 171]]\n"
     ]
    }
   ],
   "source": [
    "y_predict = model.fit(Ftrain, Ltrain).predict(Ftest)\n",
    "class_names = target.unique()\n",
    "print(classification_report(Ltest, y_predict, target_names=class_names))\n",
    "print(confusion_matrix(Ltest, y_predict))"
   ]
  },
  {
   "cell_type": "markdown",
   "id": "dba6d5ce",
   "metadata": {},
   "source": [
    "# SVM on Red channel data"
   ]
  },
  {
   "cell_type": "code",
   "execution_count": 49,
   "id": "6ed153f7",
   "metadata": {},
   "outputs": [
    {
     "name": "stdout",
     "output_type": "stream",
     "text": [
      "0.7650498796009632\n"
     ]
    }
   ],
   "source": [
    "clf.fit(Ftrain,Ltrain)\n",
    "y_pred = clf.predict(Ftest)\n",
    "print(accuracy_score(Ltest,y_pred))"
   ]
  },
  {
   "cell_type": "code",
   "execution_count": 50,
   "id": "369f8272",
   "metadata": {},
   "outputs": [
    {
     "name": "stdout",
     "output_type": "stream",
     "text": [
      "                               precision    recall  f1-score   support\n",
      "\n",
      "               bacterial_spot       0.69      0.85      0.76       345\n",
      "                 early_blight       0.37      0.31      0.34       153\n",
      "                      healthy       0.81      0.81      0.81       234\n",
      "                  late_blight       0.72      0.71      0.71       309\n",
      "                    leaf_mold       0.69      0.68      0.69       145\n",
      "           septoria_leaf_spot       0.73      0.72      0.73       293\n",
      "                  target_spot       0.71      0.62      0.66       240\n",
      "          tomato_mosaic_virus       0.77      0.87      0.82        54\n",
      "tomato_yellow_leaf_curl_virus       0.92      0.90      0.91       854\n",
      "      two-spotted_spider_mite       0.72      0.71      0.71       280\n",
      "\n",
      "                     accuracy                           0.77      2907\n",
      "                    macro avg       0.71      0.72      0.71      2907\n",
      "                 weighted avg       0.76      0.77      0.76      2907\n",
      "\n",
      "[[294  16   2  14   0   1   0   0  18   0]\n",
      " [ 43  48   1  18   1   5  10   1  12  14]\n",
      " [  5   6 189  12   4   5  10   0   0   3]\n",
      " [ 14  23  10 218  10  11   1   0  12  10]\n",
      " [  4   3   4   6  99  21   2   2   3   1]\n",
      " [  8   7   9  10  18 212  10   8   6   5]\n",
      " [  4  16  12   2   3  19 148   2   0  34]\n",
      " [  0   0   0   0   2   4   0  47   0   1]\n",
      " [ 48   4   0  12   2   4   4   0 771   9]\n",
      " [  7   6   6   9   4   7  23   1  19 198]]\n"
     ]
    }
   ],
   "source": [
    "y_predict = clf.fit(Ftrain, Ltrain).predict(Ftest)\n",
    "class_names = target.unique()\n",
    "print(classification_report(Ltest, y_predict, target_names=class_names))\n",
    "print(confusion_matrix(Ltest, y_predict))"
   ]
  },
  {
   "cell_type": "markdown",
   "id": "a670c4d4",
   "metadata": {},
   "source": [
    "# Random forest on Red channel data"
   ]
  },
  {
   "cell_type": "code",
   "execution_count": 51,
   "id": "9e816e9e",
   "metadata": {},
   "outputs": [
    {
     "data": {
      "text/plain": [
       "0.5606503785271851"
      ]
     },
     "execution_count": 51,
     "metadata": {},
     "output_type": "execute_result"
    }
   ],
   "source": [
    "classifier_rf.fit(Ftrain, Ltrain)\n",
    "classifier_rf.oob_score_"
   ]
  },
  {
   "cell_type": "code",
   "execution_count": 52,
   "id": "e404f49d",
   "metadata": {},
   "outputs": [
    {
     "name": "stdout",
     "output_type": "stream",
     "text": [
      "                               precision    recall  f1-score   support\n",
      "\n",
      "               bacterial_spot       0.80      0.54      0.65       345\n",
      "                 early_blight       0.00      0.00      0.00       153\n",
      "                      healthy       0.59      0.86      0.70       234\n",
      "                  late_blight       0.68      0.30      0.42       309\n",
      "                    leaf_mold       0.73      0.39      0.51       145\n",
      "           septoria_leaf_spot       0.59      0.48      0.53       293\n",
      "                  target_spot       0.53      0.36      0.43       240\n",
      "          tomato_mosaic_virus       0.00      0.00      0.00        54\n",
      "tomato_yellow_leaf_curl_virus       0.50      0.97      0.66       854\n",
      "      two-spotted_spider_mite       0.80      0.13      0.22       280\n",
      "\n",
      "                     accuracy                           0.56      2907\n",
      "                    macro avg       0.52      0.40      0.41      2907\n",
      "                 weighted avg       0.58      0.56      0.51      2907\n",
      "\n",
      "[[188   0  16  10   0   0   5   0 126   0]\n",
      " [ 15   0   6   2   0  17  12   0 100   1]\n",
      " [  2   0 202   4   1   1   1   0  23   0]\n",
      " [  2   0  54  94  10  36  15   0  97   1]\n",
      " [  6   0  18  10  57   7   3   0  44   0]\n",
      " [  2   0  10  10   7 140   3   0 121   0]\n",
      " [ 11   0  19   3   0  25  86   0  90   6]\n",
      " [  0   0   5   2   3   2   0   0  41   1]\n",
      " [  6   0   4   2   0   8   2   0 832   0]\n",
      " [  4   0   6   1   0   2  34   0 197  36]]\n"
     ]
    },
    {
     "name": "stderr",
     "output_type": "stream",
     "text": [
      "C:\\Users\\ravic\\anaconda3\\lib\\site-packages\\sklearn\\metrics\\_classification.py:1248: UndefinedMetricWarning: Precision and F-score are ill-defined and being set to 0.0 in labels with no predicted samples. Use `zero_division` parameter to control this behavior.\n",
      "  _warn_prf(average, modifier, msg_start, len(result))\n",
      "C:\\Users\\ravic\\anaconda3\\lib\\site-packages\\sklearn\\metrics\\_classification.py:1248: UndefinedMetricWarning: Precision and F-score are ill-defined and being set to 0.0 in labels with no predicted samples. Use `zero_division` parameter to control this behavior.\n",
      "  _warn_prf(average, modifier, msg_start, len(result))\n",
      "C:\\Users\\ravic\\anaconda3\\lib\\site-packages\\sklearn\\metrics\\_classification.py:1248: UndefinedMetricWarning: Precision and F-score are ill-defined and being set to 0.0 in labels with no predicted samples. Use `zero_division` parameter to control this behavior.\n",
      "  _warn_prf(average, modifier, msg_start, len(result))\n"
     ]
    }
   ],
   "source": [
    "y_predict = classifier_rf.fit(Ftrain, Ltrain).predict(Ftest)\n",
    "class_names = target.unique()\n",
    "print(classification_report(Ltest, y_predict, target_names=class_names))\n",
    "print(confusion_matrix(Ltest, y_predict))"
   ]
  },
  {
   "cell_type": "markdown",
   "id": "e1c2d95a",
   "metadata": {},
   "source": [
    "# Naive Bayes on Red channel data"
   ]
  },
  {
   "cell_type": "code",
   "execution_count": 53,
   "id": "8ec0753c",
   "metadata": {},
   "outputs": [
    {
     "data": {
      "text/plain": [
       "GaussianNB()"
      ]
     },
     "execution_count": 53,
     "metadata": {},
     "output_type": "execute_result"
    }
   ],
   "source": [
    "gnb.fit(Ftrain, Ltrain)"
   ]
  },
  {
   "cell_type": "code",
   "execution_count": 54,
   "id": "9bd3c55d",
   "metadata": {},
   "outputs": [
    {
     "data": {
      "text/plain": [
       "0.5039559683522532"
      ]
     },
     "execution_count": 54,
     "metadata": {},
     "output_type": "execute_result"
    }
   ],
   "source": [
    "y_pred = gnb.predict(Ftest)\n",
    "metrics.accuracy_score(Ltest, y_pred)"
   ]
  },
  {
   "cell_type": "code",
   "execution_count": 55,
   "id": "4c3f9eb9",
   "metadata": {},
   "outputs": [
    {
     "name": "stdout",
     "output_type": "stream",
     "text": [
      "                               precision    recall  f1-score   support\n",
      "\n",
      "               bacterial_spot       0.55      0.76      0.64       345\n",
      "                 early_blight       0.23      0.29      0.26       153\n",
      "                      healthy       0.41      0.68      0.51       234\n",
      "                  late_blight       0.49      0.29      0.37       309\n",
      "                    leaf_mold       0.52      0.46      0.49       145\n",
      "           septoria_leaf_spot       0.46      0.44      0.45       293\n",
      "                  target_spot       0.51      0.44      0.47       240\n",
      "          tomato_mosaic_virus       0.18      0.74      0.29        54\n",
      "tomato_yellow_leaf_curl_virus       0.89      0.50      0.64       854\n",
      "      two-spotted_spider_mite       0.41      0.51      0.45       280\n",
      "\n",
      "                     accuracy                           0.50      2907\n",
      "                    macro avg       0.47      0.51      0.46      2907\n",
      "                 weighted avg       0.58      0.50      0.51      2907\n",
      "\n",
      "[[261   7  33   7   0   1   7   5  20   4]\n",
      " [ 35  45   2  25   0  10  19   4   5   8]\n",
      " [  5   6 160  10   7   3  24   7   1  11]\n",
      " [  2  47  93  90  17  27   8  16   5   4]\n",
      " [  7   6   5  11  66  21   2  20   2   5]\n",
      " [  7  10  37   8  21 130  19  23  11  27]\n",
      " [ 16  15   3   7   4  23 106  10   2  54]\n",
      " [  3   0   3   0   1   3   0  40   2   2]\n",
      " [125  38  53  19   7  43   4  51 425  89]\n",
      " [ 11  25   4   5   3  21  20  42   7 142]]\n"
     ]
    }
   ],
   "source": [
    "class_names = target.unique()\n",
    "print(classification_report(Ltest, y_pred, target_names=class_names))\n",
    "print(confusion_matrix(Ltest, y_pred))"
   ]
  },
  {
   "cell_type": "markdown",
   "id": "b34954bd",
   "metadata": {},
   "source": [
    "# Decision Tree on Red channel"
   ]
  },
  {
   "cell_type": "code",
   "execution_count": 56,
   "id": "3ce8ed83",
   "metadata": {},
   "outputs": [
    {
     "data": {
      "text/plain": [
       "0.4822841417268662"
      ]
     },
     "execution_count": 56,
     "metadata": {},
     "output_type": "execute_result"
    }
   ],
   "source": [
    "classifier_tree.fit(Ftrain, Ltrain)\n",
    "classifier_tree.score(Ftest,Ltest)"
   ]
  },
  {
   "cell_type": "code",
   "execution_count": 57,
   "id": "78b012af",
   "metadata": {},
   "outputs": [
    {
     "name": "stdout",
     "output_type": "stream",
     "text": [
      "                               precision    recall  f1-score   support\n",
      "\n",
      "               bacterial_spot       0.49      0.55      0.52       345\n",
      "                 early_blight       0.07      0.07      0.07       153\n",
      "                      healthy       0.57      0.56      0.57       234\n",
      "                  late_blight       0.41      0.43      0.42       309\n",
      "                    leaf_mold       0.36      0.33      0.34       145\n",
      "           septoria_leaf_spot       0.44      0.39      0.41       293\n",
      "                  target_spot       0.33      0.33      0.33       240\n",
      "          tomato_mosaic_virus       0.05      0.06      0.05        54\n",
      "tomato_yellow_leaf_curl_virus       0.71      0.70      0.71       854\n",
      "      two-spotted_spider_mite       0.37      0.36      0.37       280\n",
      "\n",
      "                     accuracy                           0.49      2907\n",
      "                    macro avg       0.38      0.38      0.38      2907\n",
      "                 weighted avg       0.49      0.49      0.48      2907\n",
      "\n",
      "[[190  20  14  21   7  13  19   3  47  11]\n",
      " [ 23  10  10  26  12  12   9   2  32  17]\n",
      " [ 20   7 131  25   4  10  13   5   5  14]\n",
      " [ 23  31  20 132  13  17  17  10  30  16]\n",
      " [  9  11   7  17  48  14   2   6  23   8]\n",
      " [ 14  12   9  40  14 115  21   7  36  25]\n",
      " [ 21  14  16  21   7  21  79   9  14  38]\n",
      " [  3   0   3   6   9   8   2   3  12   8]\n",
      " [ 65  28   8  25  15  41  23  12 602  35]\n",
      " [ 21  13  10  11   5  12  52   6  49 101]]\n"
     ]
    }
   ],
   "source": [
    "y_predict = classifier_tree.fit(Ftrain, Ltrain).predict(Ftest)\n",
    "class_names = target.unique()\n",
    "print(classification_report(Ltest, y_predict, target_names=class_names))\n",
    "print(confusion_matrix(Ltest, y_predict))"
   ]
  },
  {
   "cell_type": "markdown",
   "id": "21af7568",
   "metadata": {},
   "source": [
    "# KNN on green channel data"
   ]
  },
  {
   "cell_type": "code",
   "execution_count": 58,
   "id": "461b784b",
   "metadata": {},
   "outputs": [
    {
     "data": {
      "text/plain": [
       "0.5369797041623667"
      ]
     },
     "execution_count": 58,
     "metadata": {},
     "output_type": "execute_result"
    }
   ],
   "source": [
    "#reading numpy array data\n",
    "green_test = np.load('green_data.npy')\n",
    "#reading csv file\n",
    "green_df = pd.read_csv('green_data.csv')\n",
    "loaded = []\n",
    "for i in green_test:\n",
    "    k = []\n",
    "    k = np.asarray(i,dtype='uint8')\n",
    "    loaded.append(k)\n",
    "features = loaded\n",
    "target = green_df['disease']\n",
    "kmodel.fit(Ftrain,Ltrain)\n",
    "kmodel.score(Ftest,Ltest)"
   ]
  },
  {
   "cell_type": "code",
   "execution_count": 59,
   "id": "3b84096d",
   "metadata": {},
   "outputs": [
    {
     "name": "stdout",
     "output_type": "stream",
     "text": [
      "                               precision    recall  f1-score   support\n",
      "\n",
      "               bacterial_spot       0.33      0.81      0.47       345\n",
      "                 early_blight       0.00      0.00      0.00       153\n",
      "                      healthy       0.38      0.73      0.50       234\n",
      "                  late_blight       0.48      0.40      0.44       309\n",
      "                    leaf_mold       0.70      0.52      0.60       145\n",
      "           septoria_leaf_spot       0.69      0.30      0.42       293\n",
      "                  target_spot       0.58      0.16      0.25       240\n",
      "          tomato_mosaic_virus       0.75      0.06      0.10        54\n",
      "tomato_yellow_leaf_curl_virus       0.82      0.75      0.79       854\n",
      "      two-spotted_spider_mite       0.53      0.49      0.51       280\n",
      "\n",
      "                     accuracy                           0.54      2907\n",
      "                    macro avg       0.53      0.42      0.41      2907\n",
      "                 weighted avg       0.58      0.54      0.52      2907\n",
      "\n",
      "[[279   0  37  11   0   0   0   0  17   1]\n",
      " [101   0  11   2   1   5  11   0  15   7]\n",
      " [ 34   0 171  20   1   0   1   0   1   6]\n",
      " [ 60   0  53 125  12  24   2   0  20  13]\n",
      " [ 20   0  15  20  76   2   0   1   8   3]\n",
      " [ 32   0  45  48  15  87   8   0  32  26]\n",
      " [118   0  38   3   0   3  39   0   7  32]\n",
      " [  6   0  11  12   3   0   0   3   6  13]\n",
      " [125   0  52   7   0   4   1   0 644  21]\n",
      " [ 75   0  15  13   0   1   5   0  34 137]]\n"
     ]
    },
    {
     "name": "stderr",
     "output_type": "stream",
     "text": [
      "C:\\Users\\ravic\\anaconda3\\lib\\site-packages\\sklearn\\metrics\\_classification.py:1248: UndefinedMetricWarning: Precision and F-score are ill-defined and being set to 0.0 in labels with no predicted samples. Use `zero_division` parameter to control this behavior.\n",
      "  _warn_prf(average, modifier, msg_start, len(result))\n",
      "C:\\Users\\ravic\\anaconda3\\lib\\site-packages\\sklearn\\metrics\\_classification.py:1248: UndefinedMetricWarning: Precision and F-score are ill-defined and being set to 0.0 in labels with no predicted samples. Use `zero_division` parameter to control this behavior.\n",
      "  _warn_prf(average, modifier, msg_start, len(result))\n",
      "C:\\Users\\ravic\\anaconda3\\lib\\site-packages\\sklearn\\metrics\\_classification.py:1248: UndefinedMetricWarning: Precision and F-score are ill-defined and being set to 0.0 in labels with no predicted samples. Use `zero_division` parameter to control this behavior.\n",
      "  _warn_prf(average, modifier, msg_start, len(result))\n"
     ]
    }
   ],
   "source": [
    "y_predict = kmodel.fit(Ftrain, Ltrain).predict(Ftest)\n",
    "class_names = target.unique()\n",
    "print(classification_report(Ltest, y_predict, target_names=class_names))\n",
    "print(confusion_matrix(Ltest, y_predict))"
   ]
  },
  {
   "cell_type": "markdown",
   "id": "71f3ea86",
   "metadata": {},
   "source": [
    "# Logistic on Green channel data"
   ]
  },
  {
   "cell_type": "code",
   "execution_count": 60,
   "id": "28dad6b2",
   "metadata": {},
   "outputs": [
    {
     "data": {
      "text/plain": [
       "0.6811145510835913"
      ]
     },
     "execution_count": 60,
     "metadata": {},
     "output_type": "execute_result"
    }
   ],
   "source": [
    "model.fit(Ftrain,Ltrain)\n",
    "model.score(Ftest,Ltest)"
   ]
  },
  {
   "cell_type": "code",
   "execution_count": 61,
   "id": "839a329f",
   "metadata": {},
   "outputs": [
    {
     "name": "stdout",
     "output_type": "stream",
     "text": [
      "                               precision    recall  f1-score   support\n",
      "\n",
      "               bacterial_spot       0.61      0.77      0.68       345\n",
      "                 early_blight       0.42      0.40      0.41       153\n",
      "                      healthy       0.68      0.65      0.66       234\n",
      "                  late_blight       0.59      0.59      0.59       309\n",
      "                    leaf_mold       0.66      0.55      0.60       145\n",
      "           septoria_leaf_spot       0.58      0.59      0.59       293\n",
      "                  target_spot       0.55      0.42      0.48       240\n",
      "          tomato_mosaic_virus       0.67      0.72      0.70        54\n",
      "tomato_yellow_leaf_curl_virus       0.89      0.89      0.89       854\n",
      "      two-spotted_spider_mite       0.60      0.61      0.60       280\n",
      "\n",
      "                     accuracy                           0.68      2907\n",
      "                    macro avg       0.62      0.62      0.62      2907\n",
      "                 weighted avg       0.68      0.68      0.68      2907\n",
      "\n",
      "[[265  15   5  18   0   6   6   0  28   2]\n",
      " [ 24  61   2  18   1   9   7   1  12  18]\n",
      " [  8  11 151  15   3  11  23   0   0  12]\n",
      " [ 26  22  19 182  12  21   1   2  11  13]\n",
      " [  4   7   4   7  80  32   1   1   5   4]\n",
      " [ 24   9   6  21  16 173  16   7  11  10]\n",
      " [ 10  10  29  14   4  21 101   2   4  45]\n",
      " [  0   0   1   0   3   8   2  39   0   1]\n",
      " [ 43   5   0  21   1   7   9   1 757  10]\n",
      " [ 32   6   6  13   2   9  18   5  18 171]]\n"
     ]
    }
   ],
   "source": [
    "y_predict = model.fit(Ftrain, Ltrain).predict(Ftest)\n",
    "class_names = target.unique()\n",
    "print(classification_report(Ltest, y_predict, target_names=class_names))\n",
    "print(confusion_matrix(Ltest, y_predict))"
   ]
  },
  {
   "cell_type": "markdown",
   "id": "f62f0223",
   "metadata": {},
   "source": [
    "# SVM on green channel data"
   ]
  },
  {
   "cell_type": "code",
   "execution_count": 62,
   "id": "e89e7297",
   "metadata": {},
   "outputs": [
    {
     "name": "stdout",
     "output_type": "stream",
     "text": [
      "0.7650498796009632\n"
     ]
    }
   ],
   "source": [
    "clf.fit(Ftrain,Ltrain)\n",
    "y_pred = clf.predict(Ftest)\n",
    "print(accuracy_score(Ltest,y_pred))"
   ]
  },
  {
   "cell_type": "code",
   "execution_count": 63,
   "id": "0a214a95",
   "metadata": {},
   "outputs": [
    {
     "name": "stdout",
     "output_type": "stream",
     "text": [
      "                               precision    recall  f1-score   support\n",
      "\n",
      "               bacterial_spot       0.69      0.85      0.76       345\n",
      "                 early_blight       0.37      0.31      0.34       153\n",
      "                      healthy       0.81      0.81      0.81       234\n",
      "                  late_blight       0.72      0.71      0.71       309\n",
      "                    leaf_mold       0.69      0.68      0.69       145\n",
      "           septoria_leaf_spot       0.73      0.72      0.73       293\n",
      "                  target_spot       0.71      0.62      0.66       240\n",
      "          tomato_mosaic_virus       0.77      0.87      0.82        54\n",
      "tomato_yellow_leaf_curl_virus       0.92      0.90      0.91       854\n",
      "      two-spotted_spider_mite       0.72      0.71      0.71       280\n",
      "\n",
      "                     accuracy                           0.77      2907\n",
      "                    macro avg       0.71      0.72      0.71      2907\n",
      "                 weighted avg       0.76      0.77      0.76      2907\n",
      "\n",
      "[[294  16   2  14   0   1   0   0  18   0]\n",
      " [ 43  48   1  18   1   5  10   1  12  14]\n",
      " [  5   6 189  12   4   5  10   0   0   3]\n",
      " [ 14  23  10 218  10  11   1   0  12  10]\n",
      " [  4   3   4   6  99  21   2   2   3   1]\n",
      " [  8   7   9  10  18 212  10   8   6   5]\n",
      " [  4  16  12   2   3  19 148   2   0  34]\n",
      " [  0   0   0   0   2   4   0  47   0   1]\n",
      " [ 48   4   0  12   2   4   4   0 771   9]\n",
      " [  7   6   6   9   4   7  23   1  19 198]]\n"
     ]
    }
   ],
   "source": [
    "y_predict = clf.fit(Ftrain, Ltrain).predict(Ftest)\n",
    "class_names = target.unique()\n",
    "print(classification_report(Ltest, y_predict, target_names=class_names))\n",
    "print(confusion_matrix(Ltest, y_predict))"
   ]
  },
  {
   "cell_type": "markdown",
   "id": "4f8e565e",
   "metadata": {},
   "source": [
    "# Random Forest on green channel data"
   ]
  },
  {
   "cell_type": "code",
   "execution_count": 64,
   "id": "96c92f8f",
   "metadata": {},
   "outputs": [
    {
     "data": {
      "text/plain": [
       "0.5606503785271851"
      ]
     },
     "execution_count": 64,
     "metadata": {},
     "output_type": "execute_result"
    }
   ],
   "source": [
    "classifier_rf.fit(Ftrain, Ltrain)\n",
    "classifier_rf.oob_score_"
   ]
  },
  {
   "cell_type": "code",
   "execution_count": 65,
   "id": "a8f818ad",
   "metadata": {},
   "outputs": [
    {
     "name": "stdout",
     "output_type": "stream",
     "text": [
      "                               precision    recall  f1-score   support\n",
      "\n",
      "               bacterial_spot       0.80      0.54      0.65       345\n",
      "                 early_blight       0.00      0.00      0.00       153\n",
      "                      healthy       0.59      0.86      0.70       234\n",
      "                  late_blight       0.68      0.30      0.42       309\n",
      "                    leaf_mold       0.73      0.39      0.51       145\n",
      "           septoria_leaf_spot       0.59      0.48      0.53       293\n",
      "                  target_spot       0.53      0.36      0.43       240\n",
      "          tomato_mosaic_virus       0.00      0.00      0.00        54\n",
      "tomato_yellow_leaf_curl_virus       0.50      0.97      0.66       854\n",
      "      two-spotted_spider_mite       0.80      0.13      0.22       280\n",
      "\n",
      "                     accuracy                           0.56      2907\n",
      "                    macro avg       0.52      0.40      0.41      2907\n",
      "                 weighted avg       0.58      0.56      0.51      2907\n",
      "\n",
      "[[188   0  16  10   0   0   5   0 126   0]\n",
      " [ 15   0   6   2   0  17  12   0 100   1]\n",
      " [  2   0 202   4   1   1   1   0  23   0]\n",
      " [  2   0  54  94  10  36  15   0  97   1]\n",
      " [  6   0  18  10  57   7   3   0  44   0]\n",
      " [  2   0  10  10   7 140   3   0 121   0]\n",
      " [ 11   0  19   3   0  25  86   0  90   6]\n",
      " [  0   0   5   2   3   2   0   0  41   1]\n",
      " [  6   0   4   2   0   8   2   0 832   0]\n",
      " [  4   0   6   1   0   2  34   0 197  36]]\n"
     ]
    },
    {
     "name": "stderr",
     "output_type": "stream",
     "text": [
      "C:\\Users\\ravic\\anaconda3\\lib\\site-packages\\sklearn\\metrics\\_classification.py:1248: UndefinedMetricWarning: Precision and F-score are ill-defined and being set to 0.0 in labels with no predicted samples. Use `zero_division` parameter to control this behavior.\n",
      "  _warn_prf(average, modifier, msg_start, len(result))\n",
      "C:\\Users\\ravic\\anaconda3\\lib\\site-packages\\sklearn\\metrics\\_classification.py:1248: UndefinedMetricWarning: Precision and F-score are ill-defined and being set to 0.0 in labels with no predicted samples. Use `zero_division` parameter to control this behavior.\n",
      "  _warn_prf(average, modifier, msg_start, len(result))\n",
      "C:\\Users\\ravic\\anaconda3\\lib\\site-packages\\sklearn\\metrics\\_classification.py:1248: UndefinedMetricWarning: Precision and F-score are ill-defined and being set to 0.0 in labels with no predicted samples. Use `zero_division` parameter to control this behavior.\n",
      "  _warn_prf(average, modifier, msg_start, len(result))\n"
     ]
    }
   ],
   "source": [
    "y_predict = classifier_rf.fit(Ftrain, Ltrain).predict(Ftest)\n",
    "class_names = target.unique()\n",
    "print(classification_report(Ltest, y_predict, target_names=class_names))\n",
    "print(confusion_matrix(Ltest, y_predict))"
   ]
  },
  {
   "cell_type": "markdown",
   "id": "e9b1cca9",
   "metadata": {},
   "source": [
    "# Naive bayes on Green channel data"
   ]
  },
  {
   "cell_type": "code",
   "execution_count": 66,
   "id": "1136802c",
   "metadata": {},
   "outputs": [
    {
     "data": {
      "text/plain": [
       "0.5039559683522532"
      ]
     },
     "execution_count": 66,
     "metadata": {},
     "output_type": "execute_result"
    }
   ],
   "source": [
    "gnb.fit(Ftrain, Ltrain)\n",
    "y_pred = gnb.predict(Ftest)\n",
    "metrics.accuracy_score(Ltest, y_pred)"
   ]
  },
  {
   "cell_type": "code",
   "execution_count": 67,
   "id": "413e42be",
   "metadata": {},
   "outputs": [
    {
     "name": "stdout",
     "output_type": "stream",
     "text": [
      "                               precision    recall  f1-score   support\n",
      "\n",
      "               bacterial_spot       0.55      0.76      0.64       345\n",
      "                 early_blight       0.23      0.29      0.26       153\n",
      "                      healthy       0.41      0.68      0.51       234\n",
      "                  late_blight       0.49      0.29      0.37       309\n",
      "                    leaf_mold       0.52      0.46      0.49       145\n",
      "           septoria_leaf_spot       0.46      0.44      0.45       293\n",
      "                  target_spot       0.51      0.44      0.47       240\n",
      "          tomato_mosaic_virus       0.18      0.74      0.29        54\n",
      "tomato_yellow_leaf_curl_virus       0.89      0.50      0.64       854\n",
      "      two-spotted_spider_mite       0.41      0.51      0.45       280\n",
      "\n",
      "                     accuracy                           0.50      2907\n",
      "                    macro avg       0.47      0.51      0.46      2907\n",
      "                 weighted avg       0.58      0.50      0.51      2907\n",
      "\n",
      "[[261   7  33   7   0   1   7   5  20   4]\n",
      " [ 35  45   2  25   0  10  19   4   5   8]\n",
      " [  5   6 160  10   7   3  24   7   1  11]\n",
      " [  2  47  93  90  17  27   8  16   5   4]\n",
      " [  7   6   5  11  66  21   2  20   2   5]\n",
      " [  7  10  37   8  21 130  19  23  11  27]\n",
      " [ 16  15   3   7   4  23 106  10   2  54]\n",
      " [  3   0   3   0   1   3   0  40   2   2]\n",
      " [125  38  53  19   7  43   4  51 425  89]\n",
      " [ 11  25   4   5   3  21  20  42   7 142]]\n"
     ]
    }
   ],
   "source": [
    "class_names = target.unique()\n",
    "print(classification_report(Ltest, y_pred, target_names=class_names))\n",
    "print(confusion_matrix(Ltest, y_pred))"
   ]
  },
  {
   "cell_type": "markdown",
   "id": "9002e08b",
   "metadata": {},
   "source": [
    "# Decision Tree on Green channel"
   ]
  },
  {
   "cell_type": "code",
   "execution_count": 68,
   "id": "6b115934",
   "metadata": {},
   "outputs": [
    {
     "data": {
      "text/plain": [
       "0.4908840729274166"
      ]
     },
     "execution_count": 68,
     "metadata": {},
     "output_type": "execute_result"
    }
   ],
   "source": [
    "classifier_tree.fit(Ftrain, Ltrain)\n",
    "classifier_tree.score(Ftest,Ltest)"
   ]
  },
  {
   "cell_type": "code",
   "execution_count": 69,
   "id": "a1694af3",
   "metadata": {},
   "outputs": [
    {
     "name": "stdout",
     "output_type": "stream",
     "text": [
      "                               precision    recall  f1-score   support\n",
      "\n",
      "               bacterial_spot       0.47      0.52      0.49       345\n",
      "                 early_blight       0.07      0.06      0.06       153\n",
      "                      healthy       0.58      0.60      0.59       234\n",
      "                  late_blight       0.42      0.46      0.44       309\n",
      "                    leaf_mold       0.37      0.34      0.36       145\n",
      "           septoria_leaf_spot       0.40      0.38      0.39       293\n",
      "                  target_spot       0.34      0.30      0.32       240\n",
      "          tomato_mosaic_virus       0.12      0.13      0.12        54\n",
      "tomato_yellow_leaf_curl_virus       0.71      0.69      0.70       854\n",
      "      two-spotted_spider_mite       0.34      0.35      0.35       280\n",
      "\n",
      "                     accuracy                           0.48      2907\n",
      "                    macro avg       0.38      0.38      0.38      2907\n",
      "                 weighted avg       0.48      0.48      0.48      2907\n",
      "\n",
      "[[180  20  16  25   9  20  12   0  52  11]\n",
      " [ 26   9  10  22  12  15  11   2  28  18]\n",
      " [ 16   6 141  25   5  10  12   4   4  11]\n",
      " [ 22  21  20 141  11  25  12   6  32  19]\n",
      " [ 11   3   6  19  50  14   3   6  22  11]\n",
      " [ 16  11   8  33  20 111  23   8  38  25]\n",
      " [ 20  17  20  26   6  23  71   8  10  39]\n",
      " [  4   1   1   6   5   9   3   7  10   8]\n",
      " [ 68  27   8  27  10  45  16  15 591  47]\n",
      " [ 22  18  12  14   8   8  46   4  49  99]]\n"
     ]
    }
   ],
   "source": [
    "y_predict = classifier_tree.fit(Ftrain, Ltrain).predict(Ftest)\n",
    "class_names = target.unique()\n",
    "print(classification_report(Ltest, y_predict, target_names=class_names))\n",
    "print(confusion_matrix(Ltest, y_predict))"
   ]
  },
  {
   "cell_type": "markdown",
   "id": "75817642",
   "metadata": {},
   "source": [
    "# KNN on blue channel data"
   ]
  },
  {
   "cell_type": "code",
   "execution_count": 70,
   "id": "531e3624",
   "metadata": {},
   "outputs": [
    {
     "data": {
      "text/plain": [
       "0.5369797041623667"
      ]
     },
     "execution_count": 70,
     "metadata": {},
     "output_type": "execute_result"
    }
   ],
   "source": [
    "#reading numpy array data\n",
    "blue_test = np.load('blue_data.npy')\n",
    "#reading csv file\n",
    "blue_df = pd.read_csv('blue_data.csv')\n",
    "loaded = []\n",
    "for i in gray_test:\n",
    "    k = []\n",
    "    k = np.asarray(i,dtype='uint8')\n",
    "    loaded.append(k)\n",
    "features = loaded\n",
    "target = blue_df['disease']\n",
    "kmodel.fit(Ftrain,Ltrain)\n",
    "kmodel.score(Ftest,Ltest)"
   ]
  },
  {
   "cell_type": "code",
   "execution_count": 71,
   "id": "16330eb3",
   "metadata": {},
   "outputs": [
    {
     "name": "stdout",
     "output_type": "stream",
     "text": [
      "                               precision    recall  f1-score   support\n",
      "\n",
      "               bacterial_spot       0.33      0.81      0.47       345\n",
      "                 early_blight       0.00      0.00      0.00       153\n",
      "                      healthy       0.38      0.73      0.50       234\n",
      "                  late_blight       0.48      0.40      0.44       309\n",
      "                    leaf_mold       0.70      0.52      0.60       145\n",
      "           septoria_leaf_spot       0.69      0.30      0.42       293\n",
      "                  target_spot       0.58      0.16      0.25       240\n",
      "          tomato_mosaic_virus       0.75      0.06      0.10        54\n",
      "tomato_yellow_leaf_curl_virus       0.82      0.75      0.79       854\n",
      "      two-spotted_spider_mite       0.53      0.49      0.51       280\n",
      "\n",
      "                     accuracy                           0.54      2907\n",
      "                    macro avg       0.53      0.42      0.41      2907\n",
      "                 weighted avg       0.58      0.54      0.52      2907\n",
      "\n",
      "[[279   0  37  11   0   0   0   0  17   1]\n",
      " [101   0  11   2   1   5  11   0  15   7]\n",
      " [ 34   0 171  20   1   0   1   0   1   6]\n",
      " [ 60   0  53 125  12  24   2   0  20  13]\n",
      " [ 20   0  15  20  76   2   0   1   8   3]\n",
      " [ 32   0  45  48  15  87   8   0  32  26]\n",
      " [118   0  38   3   0   3  39   0   7  32]\n",
      " [  6   0  11  12   3   0   0   3   6  13]\n",
      " [125   0  52   7   0   4   1   0 644  21]\n",
      " [ 75   0  15  13   0   1   5   0  34 137]]\n"
     ]
    },
    {
     "name": "stderr",
     "output_type": "stream",
     "text": [
      "C:\\Users\\ravic\\anaconda3\\lib\\site-packages\\sklearn\\metrics\\_classification.py:1248: UndefinedMetricWarning: Precision and F-score are ill-defined and being set to 0.0 in labels with no predicted samples. Use `zero_division` parameter to control this behavior.\n",
      "  _warn_prf(average, modifier, msg_start, len(result))\n",
      "C:\\Users\\ravic\\anaconda3\\lib\\site-packages\\sklearn\\metrics\\_classification.py:1248: UndefinedMetricWarning: Precision and F-score are ill-defined and being set to 0.0 in labels with no predicted samples. Use `zero_division` parameter to control this behavior.\n",
      "  _warn_prf(average, modifier, msg_start, len(result))\n",
      "C:\\Users\\ravic\\anaconda3\\lib\\site-packages\\sklearn\\metrics\\_classification.py:1248: UndefinedMetricWarning: Precision and F-score are ill-defined and being set to 0.0 in labels with no predicted samples. Use `zero_division` parameter to control this behavior.\n",
      "  _warn_prf(average, modifier, msg_start, len(result))\n"
     ]
    }
   ],
   "source": [
    "y_predict = kmodel.fit(Ftrain, Ltrain).predict(Ftest)\n",
    "class_names = target.unique()\n",
    "print(classification_report(Ltest, y_predict, target_names=class_names))\n",
    "print(confusion_matrix(Ltest, y_predict))"
   ]
  },
  {
   "cell_type": "markdown",
   "id": "f452a113",
   "metadata": {},
   "source": [
    "# logistic on blue channel data"
   ]
  },
  {
   "cell_type": "code",
   "execution_count": 72,
   "id": "de158586",
   "metadata": {},
   "outputs": [
    {
     "data": {
      "text/plain": [
       "0.6811145510835913"
      ]
     },
     "execution_count": 72,
     "metadata": {},
     "output_type": "execute_result"
    }
   ],
   "source": [
    "model.fit(Ftrain,Ltrain)\n",
    "model.score(Ftest,Ltest)"
   ]
  },
  {
   "cell_type": "code",
   "execution_count": 73,
   "id": "30e98a1a",
   "metadata": {},
   "outputs": [
    {
     "name": "stdout",
     "output_type": "stream",
     "text": [
      "                               precision    recall  f1-score   support\n",
      "\n",
      "               bacterial_spot       0.61      0.77      0.68       345\n",
      "                 early_blight       0.42      0.40      0.41       153\n",
      "                      healthy       0.68      0.65      0.66       234\n",
      "                  late_blight       0.59      0.59      0.59       309\n",
      "                    leaf_mold       0.66      0.55      0.60       145\n",
      "           septoria_leaf_spot       0.58      0.59      0.59       293\n",
      "                  target_spot       0.55      0.42      0.48       240\n",
      "          tomato_mosaic_virus       0.67      0.72      0.70        54\n",
      "tomato_yellow_leaf_curl_virus       0.89      0.89      0.89       854\n",
      "      two-spotted_spider_mite       0.60      0.61      0.60       280\n",
      "\n",
      "                     accuracy                           0.68      2907\n",
      "                    macro avg       0.62      0.62      0.62      2907\n",
      "                 weighted avg       0.68      0.68      0.68      2907\n",
      "\n",
      "[[265  15   5  18   0   6   6   0  28   2]\n",
      " [ 24  61   2  18   1   9   7   1  12  18]\n",
      " [  8  11 151  15   3  11  23   0   0  12]\n",
      " [ 26  22  19 182  12  21   1   2  11  13]\n",
      " [  4   7   4   7  80  32   1   1   5   4]\n",
      " [ 24   9   6  21  16 173  16   7  11  10]\n",
      " [ 10  10  29  14   4  21 101   2   4  45]\n",
      " [  0   0   1   0   3   8   2  39   0   1]\n",
      " [ 43   5   0  21   1   7   9   1 757  10]\n",
      " [ 32   6   6  13   2   9  18   5  18 171]]\n"
     ]
    }
   ],
   "source": [
    "y_predict = model.fit(Ftrain, Ltrain).predict(Ftest)\n",
    "class_names = target.unique()\n",
    "print(classification_report(Ltest, y_predict, target_names=class_names))\n",
    "print(confusion_matrix(Ltest, y_predict))"
   ]
  },
  {
   "cell_type": "markdown",
   "id": "c7585c1d",
   "metadata": {},
   "source": [
    "# SVM on blue channel data"
   ]
  },
  {
   "cell_type": "code",
   "execution_count": 74,
   "id": "06fb4a0f",
   "metadata": {},
   "outputs": [
    {
     "name": "stdout",
     "output_type": "stream",
     "text": [
      "0.7650498796009632\n"
     ]
    }
   ],
   "source": [
    "clf.fit(Ftrain,Ltrain)\n",
    "y_pred = clf.predict(Ftest)\n",
    "print(accuracy_score(Ltest,y_pred))"
   ]
  },
  {
   "cell_type": "code",
   "execution_count": 75,
   "id": "6e1082ce",
   "metadata": {},
   "outputs": [
    {
     "name": "stdout",
     "output_type": "stream",
     "text": [
      "                               precision    recall  f1-score   support\n",
      "\n",
      "               bacterial_spot       0.69      0.85      0.76       345\n",
      "                 early_blight       0.37      0.31      0.34       153\n",
      "                      healthy       0.81      0.81      0.81       234\n",
      "                  late_blight       0.72      0.71      0.71       309\n",
      "                    leaf_mold       0.69      0.68      0.69       145\n",
      "           septoria_leaf_spot       0.73      0.72      0.73       293\n",
      "                  target_spot       0.71      0.62      0.66       240\n",
      "          tomato_mosaic_virus       0.77      0.87      0.82        54\n",
      "tomato_yellow_leaf_curl_virus       0.92      0.90      0.91       854\n",
      "      two-spotted_spider_mite       0.72      0.71      0.71       280\n",
      "\n",
      "                     accuracy                           0.77      2907\n",
      "                    macro avg       0.71      0.72      0.71      2907\n",
      "                 weighted avg       0.76      0.77      0.76      2907\n",
      "\n",
      "[[294  16   2  14   0   1   0   0  18   0]\n",
      " [ 43  48   1  18   1   5  10   1  12  14]\n",
      " [  5   6 189  12   4   5  10   0   0   3]\n",
      " [ 14  23  10 218  10  11   1   0  12  10]\n",
      " [  4   3   4   6  99  21   2   2   3   1]\n",
      " [  8   7   9  10  18 212  10   8   6   5]\n",
      " [  4  16  12   2   3  19 148   2   0  34]\n",
      " [  0   0   0   0   2   4   0  47   0   1]\n",
      " [ 48   4   0  12   2   4   4   0 771   9]\n",
      " [  7   6   6   9   4   7  23   1  19 198]]\n"
     ]
    }
   ],
   "source": [
    "y_predict = clf.fit(Ftrain, Ltrain).predict(Ftest)\n",
    "class_names = target.unique()\n",
    "print(classification_report(Ltest, y_predict, target_names=class_names))\n",
    "print(confusion_matrix(Ltest, y_predict))"
   ]
  },
  {
   "cell_type": "markdown",
   "id": "f4eb8c6c",
   "metadata": {},
   "source": [
    "# Random Forest on blue channel data"
   ]
  },
  {
   "cell_type": "code",
   "execution_count": 76,
   "id": "b71407b2",
   "metadata": {},
   "outputs": [
    {
     "data": {
      "text/plain": [
       "0.5606503785271851"
      ]
     },
     "execution_count": 76,
     "metadata": {},
     "output_type": "execute_result"
    }
   ],
   "source": [
    "classifier_rf.fit(Ftrain, Ltrain)\n",
    "classifier_rf.oob_score_"
   ]
  },
  {
   "cell_type": "code",
   "execution_count": 77,
   "id": "aa723da2",
   "metadata": {},
   "outputs": [
    {
     "name": "stdout",
     "output_type": "stream",
     "text": [
      "                               precision    recall  f1-score   support\n",
      "\n",
      "               bacterial_spot       0.80      0.54      0.65       345\n",
      "                 early_blight       0.00      0.00      0.00       153\n",
      "                      healthy       0.59      0.86      0.70       234\n",
      "                  late_blight       0.68      0.30      0.42       309\n",
      "                    leaf_mold       0.73      0.39      0.51       145\n",
      "           septoria_leaf_spot       0.59      0.48      0.53       293\n",
      "                  target_spot       0.53      0.36      0.43       240\n",
      "          tomato_mosaic_virus       0.00      0.00      0.00        54\n",
      "tomato_yellow_leaf_curl_virus       0.50      0.97      0.66       854\n",
      "      two-spotted_spider_mite       0.80      0.13      0.22       280\n",
      "\n",
      "                     accuracy                           0.56      2907\n",
      "                    macro avg       0.52      0.40      0.41      2907\n",
      "                 weighted avg       0.58      0.56      0.51      2907\n",
      "\n",
      "[[188   0  16  10   0   0   5   0 126   0]\n",
      " [ 15   0   6   2   0  17  12   0 100   1]\n",
      " [  2   0 202   4   1   1   1   0  23   0]\n",
      " [  2   0  54  94  10  36  15   0  97   1]\n",
      " [  6   0  18  10  57   7   3   0  44   0]\n",
      " [  2   0  10  10   7 140   3   0 121   0]\n",
      " [ 11   0  19   3   0  25  86   0  90   6]\n",
      " [  0   0   5   2   3   2   0   0  41   1]\n",
      " [  6   0   4   2   0   8   2   0 832   0]\n",
      " [  4   0   6   1   0   2  34   0 197  36]]\n"
     ]
    },
    {
     "name": "stderr",
     "output_type": "stream",
     "text": [
      "C:\\Users\\ravic\\anaconda3\\lib\\site-packages\\sklearn\\metrics\\_classification.py:1248: UndefinedMetricWarning: Precision and F-score are ill-defined and being set to 0.0 in labels with no predicted samples. Use `zero_division` parameter to control this behavior.\n",
      "  _warn_prf(average, modifier, msg_start, len(result))\n",
      "C:\\Users\\ravic\\anaconda3\\lib\\site-packages\\sklearn\\metrics\\_classification.py:1248: UndefinedMetricWarning: Precision and F-score are ill-defined and being set to 0.0 in labels with no predicted samples. Use `zero_division` parameter to control this behavior.\n",
      "  _warn_prf(average, modifier, msg_start, len(result))\n",
      "C:\\Users\\ravic\\anaconda3\\lib\\site-packages\\sklearn\\metrics\\_classification.py:1248: UndefinedMetricWarning: Precision and F-score are ill-defined and being set to 0.0 in labels with no predicted samples. Use `zero_division` parameter to control this behavior.\n",
      "  _warn_prf(average, modifier, msg_start, len(result))\n"
     ]
    }
   ],
   "source": [
    "y_predict = classifier_rf.fit(Ftrain, Ltrain).predict(Ftest)\n",
    "class_names = target.unique()\n",
    "print(classification_report(Ltest, y_predict, target_names=class_names))\n",
    "print(confusion_matrix(Ltest, y_predict))"
   ]
  },
  {
   "cell_type": "markdown",
   "id": "fb1ca20e",
   "metadata": {},
   "source": [
    "# Naive bayes on blue channel data"
   ]
  },
  {
   "cell_type": "code",
   "execution_count": 78,
   "id": "11ea0b85",
   "metadata": {},
   "outputs": [
    {
     "data": {
      "text/plain": [
       "0.5039559683522532"
      ]
     },
     "execution_count": 78,
     "metadata": {},
     "output_type": "execute_result"
    }
   ],
   "source": [
    "gnb.fit(Ftrain, Ltrain)\n",
    "y_pred = gnb.predict(Ftest)\n",
    "metrics.accuracy_score(Ltest, y_pred)"
   ]
  },
  {
   "cell_type": "code",
   "execution_count": 79,
   "id": "ca5ce1db",
   "metadata": {},
   "outputs": [
    {
     "name": "stdout",
     "output_type": "stream",
     "text": [
      "                               precision    recall  f1-score   support\n",
      "\n",
      "               bacterial_spot       0.55      0.76      0.64       345\n",
      "                 early_blight       0.23      0.29      0.26       153\n",
      "                      healthy       0.41      0.68      0.51       234\n",
      "                  late_blight       0.49      0.29      0.37       309\n",
      "                    leaf_mold       0.52      0.46      0.49       145\n",
      "           septoria_leaf_spot       0.46      0.44      0.45       293\n",
      "                  target_spot       0.51      0.44      0.47       240\n",
      "          tomato_mosaic_virus       0.18      0.74      0.29        54\n",
      "tomato_yellow_leaf_curl_virus       0.89      0.50      0.64       854\n",
      "      two-spotted_spider_mite       0.41      0.51      0.45       280\n",
      "\n",
      "                     accuracy                           0.50      2907\n",
      "                    macro avg       0.47      0.51      0.46      2907\n",
      "                 weighted avg       0.58      0.50      0.51      2907\n",
      "\n",
      "[[261   7  33   7   0   1   7   5  20   4]\n",
      " [ 35  45   2  25   0  10  19   4   5   8]\n",
      " [  5   6 160  10   7   3  24   7   1  11]\n",
      " [  2  47  93  90  17  27   8  16   5   4]\n",
      " [  7   6   5  11  66  21   2  20   2   5]\n",
      " [  7  10  37   8  21 130  19  23  11  27]\n",
      " [ 16  15   3   7   4  23 106  10   2  54]\n",
      " [  3   0   3   0   1   3   0  40   2   2]\n",
      " [125  38  53  19   7  43   4  51 425  89]\n",
      " [ 11  25   4   5   3  21  20  42   7 142]]\n"
     ]
    }
   ],
   "source": [
    "class_names = target.unique()\n",
    "print(classification_report(Ltest, y_pred, target_names=class_names))\n",
    "print(confusion_matrix(Ltest, y_pred))"
   ]
  },
  {
   "cell_type": "markdown",
   "id": "d9c9d428",
   "metadata": {},
   "source": [
    "# Decision Tree on Blue channel"
   ]
  },
  {
   "cell_type": "code",
   "execution_count": 80,
   "id": "cbeebfa6",
   "metadata": {},
   "outputs": [
    {
     "data": {
      "text/plain": [
       "0.4802201582387341"
      ]
     },
     "execution_count": 80,
     "metadata": {},
     "output_type": "execute_result"
    }
   ],
   "source": [
    "classifier_tree.fit(Ftrain, Ltrain)\n",
    "classifier_tree.score(Ftest,Ltest)"
   ]
  },
  {
   "cell_type": "code",
   "execution_count": 81,
   "id": "ef622e2a",
   "metadata": {},
   "outputs": [
    {
     "name": "stdout",
     "output_type": "stream",
     "text": [
      "                               precision    recall  f1-score   support\n",
      "\n",
      "               bacterial_spot       0.48      0.52      0.50       345\n",
      "                 early_blight       0.09      0.08      0.09       153\n",
      "                      healthy       0.58      0.54      0.56       234\n",
      "                  late_blight       0.42      0.45      0.43       309\n",
      "                    leaf_mold       0.38      0.32      0.35       145\n",
      "           septoria_leaf_spot       0.43      0.42      0.43       293\n",
      "                  target_spot       0.33      0.31      0.32       240\n",
      "          tomato_mosaic_virus       0.08      0.09      0.08        54\n",
      "tomato_yellow_leaf_curl_virus       0.71      0.72      0.72       854\n",
      "      two-spotted_spider_mite       0.36      0.35      0.35       280\n",
      "\n",
      "                     accuracy                           0.49      2907\n",
      "                    macro avg       0.39      0.38      0.38      2907\n",
      "                 weighted avg       0.49      0.49      0.49      2907\n",
      "\n",
      "[[181  27  11  23   5  15  16   2  54  11]\n",
      " [ 28  13   9  21   5  17   8   4  30  18]\n",
      " [ 17   3 127  29   4  17  18   5   6   8]\n",
      " [ 22  19  21 139  15  24  18   5  32  14]\n",
      " [  9  10   4  19  47  17   1   3  21  14]\n",
      " [ 13  10   8  34  19 122  21  11  34  21]\n",
      " [ 19  16  17  20   9  21  75   9  10  44]\n",
      " [  3   4   3   4   7   6   1   5  13   8]\n",
      " [ 60  27   9  32   8  35  16  14 615  38]\n",
      " [ 27  17  11  12   6   7  50   6  46  98]]\n"
     ]
    }
   ],
   "source": [
    "y_predict = classifier_tree.fit(Ftrain, Ltrain).predict(Ftest)\n",
    "class_names = target.unique()\n",
    "print(classification_report(Ltest, y_predict, target_names=class_names))\n",
    "print(confusion_matrix(Ltest, y_predict))"
   ]
  }
 ],
 "metadata": {
  "kernelspec": {
   "display_name": "Python 3 (ipykernel)",
   "language": "python",
   "name": "python3"
  },
  "language_info": {
   "codemirror_mode": {
    "name": "ipython",
    "version": 3
   },
   "file_extension": ".py",
   "mimetype": "text/x-python",
   "name": "python",
   "nbconvert_exporter": "python",
   "pygments_lexer": "ipython3",
   "version": "3.9.7"
  }
 },
 "nbformat": 4,
 "nbformat_minor": 5
}
