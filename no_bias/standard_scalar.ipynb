{
 "cells": [
  {
   "cell_type": "code",
   "execution_count": 1,
   "id": "bcdb1517",
   "metadata": {},
   "outputs": [],
   "source": [
    "import numpy as np #importing numpy\n",
    "import pandas as pd #importing pandas\n",
    "import PIL #importing pillow for image processing\n",
    "from PIL import Image#importing image from pillow library\n",
    "import skimage#importing skimage library\n",
    "import os#importing os library\n",
    "import time#importing time library\n",
    "\n",
    "#Capture start time of the program\n",
    "start_time = time.time()"
   ]
  },
  {
   "cell_type": "code",
   "execution_count": 2,
   "id": "9b1ff8ae",
   "metadata": {},
   "outputs": [],
   "source": [
    "from string import digits\n",
    "#code to remove numbers in a string and assigning it to the variable\n",
    "r_digits = str.maketrans('', '', digits)\n",
    "#taking source data folder path to a varible\n",
    "rawdata_path = 'D://DKIT//dissertation//Dataset_of_Tomato_Leaves//plantvillage//Preprocessed_data//no_bias//data//'\n",
    "#changing current librbay to source data\n",
    "os.chdir(rawdata_path)\n",
    "#taking sub-directories to a list\n",
    "dirs = os.listdir()\n",
    "directories = []\n",
    "diseases = []\n",
    "#Taking directories into a list and extract disease name from folder name\n",
    "for x in dirs:\n",
    "    res = x.translate(r_digits).lower()\n",
    "    diseases.append(res)\n",
    "    temp = rawdata_path + x + '//'\n",
    "    directories.append(temp)"
   ]
  },
  {
   "cell_type": "code",
   "execution_count": 3,
   "id": "0e3f1cdc",
   "metadata": {},
   "outputs": [],
   "source": [
    "#creating different dataframes for saving data in different vector forms\n",
    "#gray data\n",
    "gray_df = pd.DataFrame(columns=['mean','disease'])\n",
    "#rgb data\n",
    "rgb_df = pd.DataFrame(columns=['mean','disease'])\n",
    "#red data\n",
    "red_df = pd.DataFrame(columns=['mean','disease'])\n",
    "#green data\n",
    "green_df = pd.DataFrame(columns=['mean','disease'])\n",
    "#blue data\n",
    "blue_df = pd.DataFrame(columns=['mean','disease'])"
   ]
  },
  {
   "cell_type": "code",
   "execution_count": 4,
   "id": "d259b674",
   "metadata": {},
   "outputs": [],
   "source": [
    "#extracting data from images\n",
    "x = 0\n",
    "#creating enpty directories to save the vector from in to a list\n",
    "gray_test = []\n",
    "rgb_final = []\n",
    "red_final = []\n",
    "green_final = []\n",
    "blue_final = []\n",
    "disease = []\n",
    "#reading data directory by directory\n",
    "for i in directories:\n",
    "    os.chdir(i)\n",
    "    k = diseases[x]\n",
    "    pics = os.listdir()\n",
    "    #reading pics one by one in each directory\n",
    "    for j in pics:\n",
    "        temp_list = []\n",
    "        rgb_temp = []\n",
    "        red_temp = []\n",
    "        green_temp = []\n",
    "        blue_temp = []\n",
    "        gray = []\n",
    "        data = []\n",
    "        red = []\n",
    "        green = []\n",
    "        blue = []\n",
    "        #opening the image in rgb format\n",
    "        image = Image.open(j,mode='r')\n",
    "        data = image.convert('RGB')\n",
    "        data = np.array(data)\n",
    "        #extracting only red components\n",
    "        red = data[:,:,0]\n",
    "        #extracting only green components\n",
    "        green = data[:,:,1]\n",
    "        #extracting only blue components\n",
    "        blue = data[:,:,2]\n",
    "        data = data.ravel()\n",
    "        #saving rgb vector data into list\n",
    "        rgb_final.append(data)\n",
    "        rgb_temp.append(np.mean(data))\n",
    "        rgb_temp.append(k)\n",
    "        rgb_df.loc[len(rgb_df)] = rgb_temp\n",
    "        #saving red channel data into dataframe and vector data to a list.\n",
    "        red = red.ravel()\n",
    "        red_final.append(red)\n",
    "        red_temp.append(np.mean(red))\n",
    "        red_temp.append(k)\n",
    "        red_df.loc[len(red_df)] = red_temp\n",
    "        #saving blue channel data into dataframe and vector data to a list.\n",
    "        blue = blue.ravel()\n",
    "        blue_final.append(blue)\n",
    "        blue_temp.append(np.mean(blue))\n",
    "        blue_temp.append(k)\n",
    "        blue_df.loc[len(blue_df)] = blue_temp\n",
    "        #saving green channel data into dataframe and vector data to a list.\n",
    "        green = green.ravel()\n",
    "        green_final.append(green)\n",
    "        green_temp.append(np.mean(green))\n",
    "        green_temp.append(k)\n",
    "        green_df.loc[len(green_df)] = green_temp\n",
    "        #opening the image in gray format\n",
    "        gray = image.convert('L')\n",
    "        gray = np.array(gray)\n",
    "        gray = gray.ravel()\n",
    "        gray_test.append(gray)\n",
    "        temp_list.append(np.mean(gray))\n",
    "        temp_list.append(k)       \n",
    "        gray_df.loc[len(gray_df)] = temp_list\n",
    "    x = x+1"
   ]
  },
  {
   "cell_type": "code",
   "execution_count": 5,
   "id": "9ec45970",
   "metadata": {},
   "outputs": [],
   "source": [
    "#changing path\n",
    "os.chdir('D://DKIT//dissertation//Dataset_of_Tomato_Leaves//plantvillage//Preprocessed_data//no_bias//vector//')"
   ]
  },
  {
   "cell_type": "code",
   "execution_count": 6,
   "id": "9b5459ff",
   "metadata": {},
   "outputs": [],
   "source": [
    "#saving the lists as numpy arrays in the local system\n",
    "np.save('gray_test',gray_test)\n",
    "np.save('rgb_data',rgb_final)\n",
    "np.save('red_data',red_final)\n",
    "np.save('green_data',green_final)\n",
    "np.save('blue_data',blue_final)"
   ]
  },
  {
   "cell_type": "code",
   "execution_count": 7,
   "id": "681ad20a",
   "metadata": {},
   "outputs": [],
   "source": [
    "#saving the dataframe as csv files in the local system\n",
    "gray_df.to_csv('gray_data.csv',index=False)\n",
    "rgb_df.to_csv('rgb_data.csv',index=False)\n",
    "red_df.to_csv('red_data.csv',index=False)\n",
    "green_df.to_csv('green_data.csv',index=False)\n",
    "blue_df.to_csv('blue_data.csv',index=False)"
   ]
  },
  {
   "cell_type": "markdown",
   "id": "7139bf53",
   "metadata": {},
   "source": [
    "# KNN on rgb data"
   ]
  },
  {
   "cell_type": "code",
   "execution_count": 8,
   "id": "9386938c",
   "metadata": {},
   "outputs": [],
   "source": [
    "#reading numpy array data\n",
    "rgb_test = np.load('rgb_data.npy')\n",
    "#reading csv file\n",
    "rgb_df = pd.read_csv('rgb_data.csv')"
   ]
  },
  {
   "cell_type": "code",
   "execution_count": 9,
   "id": "73c06a10",
   "metadata": {},
   "outputs": [],
   "source": [
    "loaded = []\n",
    "for i in rgb_test:\n",
    "    k = []\n",
    "    k = np.asarray(i,dtype='uint8')\n",
    "    loaded.append(k)"
   ]
  },
  {
   "cell_type": "code",
   "execution_count": 10,
   "id": "c6d5658c",
   "metadata": {},
   "outputs": [],
   "source": [
    "#assigning features and target\n",
    "features = loaded\n",
    "target = rgb_df['disease']\n",
    "#splitting the data to 80 percent and 20 percent\n",
    "from sklearn.model_selection import train_test_split\n",
    "Ftrain,Ftest,Ltrain,Ltest=train_test_split(features,target, test_size=0.20, random_state=24)\n",
    "#scaling the data using standard scaler\n",
    "from sklearn.preprocessing import StandardScaler\n",
    "scaler = StandardScaler()\n",
    "Ftrain = scaler.fit_transform(Ftrain)\n",
    "Ftest = scaler.fit_transform(Ftest)"
   ]
  },
  {
   "cell_type": "code",
   "execution_count": 11,
   "id": "6f1171c6",
   "metadata": {},
   "outputs": [],
   "source": [
    "#K-Model on the data\n",
    "from sklearn.neighbors import KNeighborsClassifier\n",
    "kmodel = KNeighborsClassifier(n_neighbors=75)"
   ]
  },
  {
   "cell_type": "code",
   "execution_count": 12,
   "id": "b9fdc978",
   "metadata": {},
   "outputs": [
    {
     "name": "stdout",
     "output_type": "stream",
     "text": [
      "0.38333333333333336\n"
     ]
    }
   ],
   "source": [
    "#k-model fitting and accuracy\n",
    "kmodel.fit(Ftrain,Ltrain)\n",
    "print(kmodel.score(Ftest,Ltest))"
   ]
  },
  {
   "cell_type": "code",
   "execution_count": 13,
   "id": "ee18e5c3",
   "metadata": {},
   "outputs": [],
   "source": [
    "#importing classification report and confusion matrix\n",
    "from sklearn.metrics import classification_report, confusion_matrix"
   ]
  },
  {
   "cell_type": "code",
   "execution_count": 14,
   "id": "bb8fbd00",
   "metadata": {},
   "outputs": [
    {
     "name": "stdout",
     "output_type": "stream",
     "text": [
      "                               precision    recall  f1-score   support\n",
      "\n",
      "               bacterial_spot       0.20      0.77      0.32       115\n",
      "                 early_blight       1.00      0.01      0.02       120\n",
      "                      healthy       0.36      0.66      0.46       125\n",
      "                  late_blight       0.34      0.30      0.32       125\n",
      "                    leaf_mold       0.69      0.58      0.63       127\n",
      "           septoria_leaf_spot       0.64      0.32      0.42       117\n",
      "                  target_spot       0.58      0.12      0.20       115\n",
      "          tomato_mosaic_virus       0.67      0.04      0.07        54\n",
      "tomato_yellow_leaf_curl_virus       0.75      0.42      0.54       114\n",
      "      two-spotted_spider_mite       0.50      0.41      0.45       128\n",
      "\n",
      "                     accuracy                           0.38      1140\n",
      "                    macro avg       0.57      0.36      0.34      1140\n",
      "                 weighted avg       0.57      0.38      0.36      1140\n",
      "\n",
      "[[89  0 16  4  0  0  0  0  6  0]\n",
      " [88  1 12  2  4  5  4  0  0  4]\n",
      " [21  0 82 20  2  0  0  0  0  0]\n",
      " [22  0 42 37  7 10  0  0  1  6]\n",
      " [15  0 17 14 74  2  0  1  0  4]\n",
      " [20  0 22  7 13 37  2  0  7  9]\n",
      " [69  0 21  1  0  0 14  0  0 10]\n",
      " [11  0  4 13  8  0  1  2  0 15]\n",
      " [51  0  7  2  0  1  0  0 48  5]\n",
      " [54  0  5  8  0  3  3  0  2 53]]\n"
     ]
    }
   ],
   "source": [
    "#printing results of the kmodel\n",
    "y_predict = kmodel.fit(Ftrain, Ltrain).predict(Ftest)\n",
    "class_names = target.unique()\n",
    "print(classification_report(Ltest, y_predict, target_names=class_names))\n",
    "print(confusion_matrix(Ltest, y_predict))"
   ]
  },
  {
   "cell_type": "markdown",
   "id": "d5c58638",
   "metadata": {},
   "source": [
    "# Logistic on rgb data"
   ]
  },
  {
   "cell_type": "code",
   "execution_count": 15,
   "id": "a84836ef",
   "metadata": {},
   "outputs": [
    {
     "name": "stdout",
     "output_type": "stream",
     "text": [
      "0.6657894736842105\n"
     ]
    }
   ],
   "source": [
    "#importing logistic data\n",
    "from sklearn.linear_model import LogisticRegression\n",
    "model=LogisticRegression(solver='lbfgs', max_iter=10000)\n",
    "model.fit(Ftrain,Ltrain)\n",
    "print(model.score(Ftest,Ltest))"
   ]
  },
  {
   "cell_type": "code",
   "execution_count": 16,
   "id": "8a6e84a1",
   "metadata": {},
   "outputs": [
    {
     "name": "stdout",
     "output_type": "stream",
     "text": [
      "                               precision    recall  f1-score   support\n",
      "\n",
      "               bacterial_spot       0.54      0.74      0.63       115\n",
      "                 early_blight       0.51      0.40      0.45       120\n",
      "                      healthy       0.83      0.60      0.70       125\n",
      "                  late_blight       0.62      0.64      0.63       125\n",
      "                    leaf_mold       0.75      0.77      0.76       127\n",
      "           septoria_leaf_spot       0.64      0.63      0.64       117\n",
      "                  target_spot       0.59      0.63      0.61       115\n",
      "          tomato_mosaic_virus       0.76      0.87      0.81        54\n",
      "tomato_yellow_leaf_curl_virus       0.82      0.86      0.84       114\n",
      "      two-spotted_spider_mite       0.68      0.63      0.65       128\n",
      "\n",
      "                     accuracy                           0.67      1140\n",
      "                    macro avg       0.67      0.68      0.67      1140\n",
      "                 weighted avg       0.67      0.67      0.66      1140\n",
      "\n",
      "[[85 10  2  8  0  1  0  0  9  0]\n",
      " [28 48  1 14  7  4  8  1  2  7]\n",
      " [ 4  9 75  9  5  1 20  0  0  2]\n",
      " [12  7  4 80  6  9  1  0  3  3]\n",
      " [ 1  5  1  4 98 10  0  1  1  6]\n",
      " [ 5  3  2  5 11 74  3  6  4  4]\n",
      " [ 3  9  5  1  1  7 73  1  0 15]\n",
      " [ 0  0  0  0  1  4  1 47  1  0]\n",
      " [ 6  2  0  3  0  1  1  1 98  2]\n",
      " [12  2  0  5  2  4 16  5  1 81]]\n"
     ]
    }
   ],
   "source": [
    "#classification report\n",
    "y_predict = model.fit(Ftrain, Ltrain).predict(Ftest)\n",
    "class_names = target.unique()\n",
    "print(classification_report(Ltest, y_predict, target_names=class_names))\n",
    "print(confusion_matrix(Ltest, y_predict))"
   ]
  },
  {
   "cell_type": "markdown",
   "id": "6fe194bc",
   "metadata": {},
   "source": [
    "# SVM on RGB data"
   ]
  },
  {
   "cell_type": "code",
   "execution_count": 17,
   "id": "2427ed51",
   "metadata": {},
   "outputs": [
    {
     "name": "stdout",
     "output_type": "stream",
     "text": [
      "0.7157894736842105\n"
     ]
    }
   ],
   "source": [
    "from sklearn.svm import SVC\n",
    "from sklearn.metrics import accuracy_score\n",
    "\n",
    "clf = SVC(kernel='linear')\n",
    "clf.fit(Ftrain,Ltrain)\n",
    "y_pred = clf.predict(Ftest)\n",
    "print(accuracy_score(Ltest,y_pred))"
   ]
  },
  {
   "cell_type": "code",
   "execution_count": 18,
   "id": "d3ce316a",
   "metadata": {},
   "outputs": [
    {
     "name": "stdout",
     "output_type": "stream",
     "text": [
      "                               precision    recall  f1-score   support\n",
      "\n",
      "               bacterial_spot       0.64      0.83      0.72       115\n",
      "                 early_blight       0.54      0.45      0.49       120\n",
      "                      healthy       0.88      0.79      0.84       125\n",
      "                  late_blight       0.65      0.69      0.67       125\n",
      "                    leaf_mold       0.80      0.76      0.78       127\n",
      "           septoria_leaf_spot       0.68      0.65      0.66       117\n",
      "                  target_spot       0.72      0.72      0.72       115\n",
      "          tomato_mosaic_virus       0.79      0.93      0.85        54\n",
      "tomato_yellow_leaf_curl_virus       0.84      0.85      0.85       114\n",
      "      two-spotted_spider_mite       0.66      0.62      0.64       128\n",
      "\n",
      "                     accuracy                           0.72      1140\n",
      "                    macro avg       0.72      0.73      0.72      1140\n",
      "                 weighted avg       0.72      0.72      0.71      1140\n",
      "\n",
      "[[95  7  1  4  0  1  0  0  7  0]\n",
      " [24 54  2 16  5  4  7  0  1  7]\n",
      " [ 4  5 99  5  4  0  6  0  0  2]\n",
      " [10  9  2 86  4  7  1  0  1  5]\n",
      " [ 1  4  2  6 97 12  0  1  0  4]\n",
      " [ 1  4  2  7  9 76  4  6  4  4]\n",
      " [ 4  7  3  0  1  5 83  1  0 11]\n",
      " [ 0  0  0  0  0  1  1 50  0  2]\n",
      " [ 3  5  0  2  0  1  0  1 97  5]\n",
      " [ 7  5  1  6  2  5 14  4  5 79]]\n"
     ]
    }
   ],
   "source": [
    "#classification report\n",
    "y_predict = clf.fit(Ftrain, Ltrain).predict(Ftest)\n",
    "class_names = target.unique()\n",
    "print(classification_report(Ltest, y_predict, target_names=class_names))\n",
    "print(confusion_matrix(Ltest, y_predict))"
   ]
  },
  {
   "cell_type": "markdown",
   "id": "73bef6fa",
   "metadata": {},
   "source": [
    "# Random Forest on RGB "
   ]
  },
  {
   "cell_type": "code",
   "execution_count": 19,
   "id": "6bae5a92",
   "metadata": {},
   "outputs": [],
   "source": [
    "from sklearn.ensemble import RandomForestClassifier"
   ]
  },
  {
   "cell_type": "code",
   "execution_count": 20,
   "id": "1d08a15e",
   "metadata": {},
   "outputs": [],
   "source": [
    "classifier_rf = RandomForestClassifier(random_state=42, n_jobs=-1, max_depth=5,n_estimators=100, oob_score=True)"
   ]
  },
  {
   "cell_type": "code",
   "execution_count": 21,
   "id": "938ad007",
   "metadata": {},
   "outputs": [
    {
     "data": {
      "text/plain": [
       "RandomForestClassifier(max_depth=5, n_jobs=-1, oob_score=True, random_state=42)"
      ]
     },
     "execution_count": 21,
     "metadata": {},
     "output_type": "execute_result"
    }
   ],
   "source": [
    "classifier_rf.fit(Ftrain, Ltrain)"
   ]
  },
  {
   "cell_type": "code",
   "execution_count": 22,
   "id": "e1769cec",
   "metadata": {},
   "outputs": [
    {
     "data": {
      "text/plain": [
       "0.4926518973459092"
      ]
     },
     "execution_count": 22,
     "metadata": {},
     "output_type": "execute_result"
    }
   ],
   "source": [
    "classifier_rf.oob_score_"
   ]
  },
  {
   "cell_type": "code",
   "execution_count": 23,
   "id": "e8e6675c",
   "metadata": {},
   "outputs": [
    {
     "name": "stdout",
     "output_type": "stream",
     "text": [
      "                               precision    recall  f1-score   support\n",
      "\n",
      "               bacterial_spot       0.46      0.68      0.55       115\n",
      "                 early_blight       0.54      0.12      0.19       120\n",
      "                      healthy       0.55      0.59      0.57       125\n",
      "                  late_blight       0.58      0.39      0.47       125\n",
      "                    leaf_mold       0.62      0.62      0.62       127\n",
      "           septoria_leaf_spot       0.44      0.47      0.45       117\n",
      "                  target_spot       0.38      0.57      0.46       115\n",
      "          tomato_mosaic_virus       0.00      0.00      0.00        54\n",
      "tomato_yellow_leaf_curl_virus       0.49      0.80      0.61       114\n",
      "      two-spotted_spider_mite       0.49      0.43      0.46       128\n",
      "\n",
      "                     accuracy                           0.49      1140\n",
      "                    macro avg       0.45      0.47      0.44      1140\n",
      "                 weighted avg       0.48      0.49      0.46      1140\n",
      "\n",
      "[[78  1  7  7  0  1  4  0 17  0]\n",
      " [35 14  5 12  5  7 16  0 18  8]\n",
      " [ 2  0 74  1  4  5 35  0  0  4]\n",
      " [ 8  2 24 49 10 19  3  0  7  3]\n",
      " [ 9  0  6  1 79 14  6  0  6  6]\n",
      " [ 5  2  5  7 14 55  6  0 16  7]\n",
      " [12  2  8  2  0 10 66  0  2 13]\n",
      " [ 1  2  3  1 12  9  5  0 10 11]\n",
      " [ 7  1  1  3  2  3  1  0 91  5]\n",
      " [11  2  2  2  2  3 33  0 18 55]]\n"
     ]
    },
    {
     "name": "stderr",
     "output_type": "stream",
     "text": [
      "C:\\Users\\ravic\\anaconda3\\lib\\site-packages\\sklearn\\metrics\\_classification.py:1248: UndefinedMetricWarning: Precision and F-score are ill-defined and being set to 0.0 in labels with no predicted samples. Use `zero_division` parameter to control this behavior.\n",
      "  _warn_prf(average, modifier, msg_start, len(result))\n",
      "C:\\Users\\ravic\\anaconda3\\lib\\site-packages\\sklearn\\metrics\\_classification.py:1248: UndefinedMetricWarning: Precision and F-score are ill-defined and being set to 0.0 in labels with no predicted samples. Use `zero_division` parameter to control this behavior.\n",
      "  _warn_prf(average, modifier, msg_start, len(result))\n",
      "C:\\Users\\ravic\\anaconda3\\lib\\site-packages\\sklearn\\metrics\\_classification.py:1248: UndefinedMetricWarning: Precision and F-score are ill-defined and being set to 0.0 in labels with no predicted samples. Use `zero_division` parameter to control this behavior.\n",
      "  _warn_prf(average, modifier, msg_start, len(result))\n"
     ]
    }
   ],
   "source": [
    "y_predict = classifier_rf.fit(Ftrain, Ltrain).predict(Ftest)\n",
    "class_names = target.unique()\n",
    "print(classification_report(Ltest, y_predict, target_names=class_names))\n",
    "print(confusion_matrix(Ltest, y_predict))"
   ]
  },
  {
   "cell_type": "markdown",
   "id": "b6a094e4",
   "metadata": {},
   "source": [
    "# Naive Bayes on RGB data"
   ]
  },
  {
   "cell_type": "code",
   "execution_count": 24,
   "id": "a5bc755b",
   "metadata": {},
   "outputs": [
    {
     "data": {
      "text/plain": [
       "GaussianNB()"
      ]
     },
     "execution_count": 24,
     "metadata": {},
     "output_type": "execute_result"
    }
   ],
   "source": [
    "from sklearn.naive_bayes import GaussianNB\n",
    "gnb = GaussianNB()\n",
    "gnb.fit(Ftrain, Ltrain)"
   ]
  },
  {
   "cell_type": "code",
   "execution_count": 25,
   "id": "6d162dcc",
   "metadata": {},
   "outputs": [],
   "source": [
    "y_pred = gnb.predict(Ftest)"
   ]
  },
  {
   "cell_type": "code",
   "execution_count": 26,
   "id": "8f7b4bab",
   "metadata": {},
   "outputs": [
    {
     "data": {
      "text/plain": [
       "0.437719298245614"
      ]
     },
     "execution_count": 26,
     "metadata": {},
     "output_type": "execute_result"
    }
   ],
   "source": [
    "from sklearn import metrics\n",
    "metrics.accuracy_score(Ltest, y_pred)"
   ]
  },
  {
   "cell_type": "code",
   "execution_count": 27,
   "id": "69742172",
   "metadata": {},
   "outputs": [
    {
     "name": "stdout",
     "output_type": "stream",
     "text": [
      "                               precision    recall  f1-score   support\n",
      "\n",
      "               bacterial_spot       0.50      0.71      0.59       115\n",
      "                 early_blight       0.32      0.29      0.31       120\n",
      "                      healthy       0.38      0.49      0.43       125\n",
      "                  late_blight       0.29      0.22      0.25       125\n",
      "                    leaf_mold       0.70      0.40      0.51       127\n",
      "           septoria_leaf_spot       0.40      0.41      0.40       117\n",
      "                  target_spot       0.45      0.41      0.43       115\n",
      "          tomato_mosaic_virus       0.35      0.69      0.46        54\n",
      "tomato_yellow_leaf_curl_virus       0.64      0.45      0.53       114\n",
      "      two-spotted_spider_mite       0.46      0.47      0.46       128\n",
      "\n",
      "                     accuracy                           0.44      1140\n",
      "                    macro avg       0.45      0.45      0.44      1140\n",
      "                 weighted avg       0.45      0.44      0.43      1140\n",
      "\n",
      "[[82  4 17  1  0  1  2  1  7  0]\n",
      " [29 35  1 22  6  6  7  2  4  8]\n",
      " [ 1  8 61 14  3  3 26  1  0  8]\n",
      " [ 1 13 54 27  2 13  2  8  4  1]\n",
      " [11  5  6  8 51 28  2 12  1  3]\n",
      " [ 0  6 15  3  6 48  5 13  6 15]\n",
      " [ 9 15  1 11  1  7 47  3  0 21]\n",
      " [ 3  0  1  0  3  4  0 37  3  3]\n",
      " [17 12  4  6  0  6  1  5 51 12]\n",
      " [10 11  0  1  1  5 12 24  4 60]]\n"
     ]
    }
   ],
   "source": [
    "class_names = target.unique()\n",
    "print(classification_report(Ltest, y_pred, target_names=class_names))\n",
    "print(confusion_matrix(Ltest, y_pred))"
   ]
  },
  {
   "cell_type": "markdown",
   "id": "0d6e0d06",
   "metadata": {},
   "source": [
    "# Decision Tree on RGB data"
   ]
  },
  {
   "cell_type": "code",
   "execution_count": 28,
   "id": "a5fd6907",
   "metadata": {},
   "outputs": [],
   "source": [
    "from sklearn.tree import DecisionTreeClassifier\n",
    "classifier_tree = DecisionTreeClassifier()"
   ]
  },
  {
   "cell_type": "code",
   "execution_count": 29,
   "id": "63eb94fc",
   "metadata": {},
   "outputs": [
    {
     "data": {
      "text/plain": [
       "0.3587719298245614"
      ]
     },
     "execution_count": 29,
     "metadata": {},
     "output_type": "execute_result"
    }
   ],
   "source": [
    "classifier_tree.fit(Ftrain, Ltrain)\n",
    "classifier_tree.score(Ftest,Ltest)"
   ]
  },
  {
   "cell_type": "code",
   "execution_count": 30,
   "id": "2a796fe0",
   "metadata": {},
   "outputs": [
    {
     "name": "stdout",
     "output_type": "stream",
     "text": [
      "                               precision    recall  f1-score   support\n",
      "\n",
      "               bacterial_spot       0.43      0.48      0.45       115\n",
      "                 early_blight       0.20      0.23      0.22       120\n",
      "                      healthy       0.49      0.37      0.42       125\n",
      "                  late_blight       0.37      0.41      0.39       125\n",
      "                    leaf_mold       0.47      0.48      0.47       127\n",
      "           septoria_leaf_spot       0.33      0.32      0.32       117\n",
      "                  target_spot       0.23      0.23      0.23       115\n",
      "          tomato_mosaic_virus       0.20      0.19      0.19        54\n",
      "tomato_yellow_leaf_curl_virus       0.44      0.53      0.48       114\n",
      "      two-spotted_spider_mite       0.40      0.31      0.35       128\n",
      "\n",
      "                     accuracy                           0.36      1140\n",
      "                    macro avg       0.36      0.35      0.35      1140\n",
      "                 weighted avg       0.37      0.36      0.36      1140\n",
      "\n",
      "[[55 16  1  6  5 14  4  0 10  4]\n",
      " [15 28  3 14  7 13 13  3 12 12]\n",
      " [ 8  8 46 13 11  7 12  6  8  6]\n",
      " [ 8 11 14 51  7  9 13  2  8  2]\n",
      " [ 2 12  8 10 61 11  5  8  5  5]\n",
      " [ 9 14  3 12 15 37  6  7 12  2]\n",
      " [ 9 17 13 11  7  8 26  2  6 16]\n",
      " [ 1  4  2  6 11  3  7 10  4  6]\n",
      " [13 14  1  7  1  5  3  2 60  8]\n",
      " [ 9 14  2  9  6  4 24  9 11 40]]\n"
     ]
    }
   ],
   "source": [
    "y_predict = classifier_tree.fit(Ftrain, Ltrain).predict(Ftest)\n",
    "class_names = target.unique()\n",
    "print(classification_report(Ltest, y_predict, target_names=class_names))\n",
    "print(confusion_matrix(Ltest, y_predict))"
   ]
  },
  {
   "cell_type": "markdown",
   "id": "c9daaaee",
   "metadata": {},
   "source": [
    "# KNN on grayscale data"
   ]
  },
  {
   "cell_type": "code",
   "execution_count": 31,
   "id": "57a9845e",
   "metadata": {},
   "outputs": [],
   "source": [
    "#reading numpy array data\n",
    "gray_test = np.load('gray_test.npy')\n",
    "#reading csv file\n",
    "gray_df = pd.read_csv('gray_data.csv')"
   ]
  },
  {
   "cell_type": "code",
   "execution_count": 32,
   "id": "25d4fea2",
   "metadata": {},
   "outputs": [],
   "source": [
    "loaded = []\n",
    "for i in gray_test:\n",
    "    k = []\n",
    "    k = np.asarray(i,dtype='uint8')\n",
    "    loaded.append(k)"
   ]
  },
  {
   "cell_type": "code",
   "execution_count": 33,
   "id": "d3abef95",
   "metadata": {},
   "outputs": [],
   "source": [
    "features = loaded\n",
    "target = gray_df['disease']\n",
    "Ftrain,Ftest,Ltrain,Ltest=train_test_split(features,target, test_size=0.20, random_state=20)\n",
    "Ftrain = scaler.fit_transform(Ftrain)\n",
    "Ftest = scaler.fit_transform(Ftest)"
   ]
  },
  {
   "cell_type": "code",
   "execution_count": 34,
   "id": "6f75adfd",
   "metadata": {},
   "outputs": [
    {
     "data": {
      "text/plain": [
       "0.3192982456140351"
      ]
     },
     "execution_count": 34,
     "metadata": {},
     "output_type": "execute_result"
    }
   ],
   "source": [
    "kmodel.fit(Ftrain,Ltrain)\n",
    "kmodel.score(Ftest,Ltest)"
   ]
  },
  {
   "cell_type": "code",
   "execution_count": 35,
   "id": "db638452",
   "metadata": {},
   "outputs": [
    {
     "name": "stdout",
     "output_type": "stream",
     "text": [
      "                               precision    recall  f1-score   support\n",
      "\n",
      "               bacterial_spot       0.22      0.74      0.35       124\n",
      "                 early_blight       0.00      0.00      0.00       114\n",
      "                      healthy       0.39      0.60      0.47       131\n",
      "                  late_blight       0.25      0.31      0.28       124\n",
      "                    leaf_mold       0.41      0.50      0.45       117\n",
      "           septoria_leaf_spot       0.47      0.39      0.42       114\n",
      "                  target_spot       0.22      0.04      0.06       111\n",
      "          tomato_mosaic_virus       0.00      0.00      0.00        60\n",
      "tomato_yellow_leaf_curl_virus       0.24      0.13      0.17       121\n",
      "      two-spotted_spider_mite       0.59      0.27      0.37       124\n",
      "\n",
      "                     accuracy                           0.32      1140\n",
      "                    macro avg       0.28      0.30      0.26      1140\n",
      "                 weighted avg       0.30      0.32      0.27      1140\n",
      "\n",
      "[[92  0 10 13  3  3  0  0  3  0]\n",
      " [73  0  7  2 14  4  2  0  8  4]\n",
      " [14  0 78 22  7  5  0  0  5  0]\n",
      " [29  0 20 39 14 11  1  0  7  3]\n",
      " [15  0 21 13 58  5  0  0  5  0]\n",
      " [11  0 19 21  9 44  1  0  5  4]\n",
      " [73  0 11  9  0  5  4  0  4  5]\n",
      " [ 7  0 10 14 12  4  0  0  8  5]\n",
      " [47  0 17 15 18  3  2  1 16  2]\n",
      " [48  0  7  5  7 10  8  0  6 33]]\n"
     ]
    },
    {
     "name": "stderr",
     "output_type": "stream",
     "text": [
      "C:\\Users\\ravic\\anaconda3\\lib\\site-packages\\sklearn\\metrics\\_classification.py:1248: UndefinedMetricWarning: Precision and F-score are ill-defined and being set to 0.0 in labels with no predicted samples. Use `zero_division` parameter to control this behavior.\n",
      "  _warn_prf(average, modifier, msg_start, len(result))\n",
      "C:\\Users\\ravic\\anaconda3\\lib\\site-packages\\sklearn\\metrics\\_classification.py:1248: UndefinedMetricWarning: Precision and F-score are ill-defined and being set to 0.0 in labels with no predicted samples. Use `zero_division` parameter to control this behavior.\n",
      "  _warn_prf(average, modifier, msg_start, len(result))\n",
      "C:\\Users\\ravic\\anaconda3\\lib\\site-packages\\sklearn\\metrics\\_classification.py:1248: UndefinedMetricWarning: Precision and F-score are ill-defined and being set to 0.0 in labels with no predicted samples. Use `zero_division` parameter to control this behavior.\n",
      "  _warn_prf(average, modifier, msg_start, len(result))\n"
     ]
    }
   ],
   "source": [
    "y_predict = kmodel.fit(Ftrain, Ltrain).predict(Ftest)\n",
    "class_names = target.unique()\n",
    "print(classification_report(Ltest, y_predict, target_names=class_names))\n",
    "print(confusion_matrix(Ltest, y_predict))"
   ]
  },
  {
   "cell_type": "markdown",
   "id": "197eedfc",
   "metadata": {},
   "source": [
    "# Logistic on grayscale data"
   ]
  },
  {
   "cell_type": "code",
   "execution_count": 36,
   "id": "9fd6cafe",
   "metadata": {},
   "outputs": [
    {
     "data": {
      "text/plain": [
       "0.35"
      ]
     },
     "execution_count": 36,
     "metadata": {},
     "output_type": "execute_result"
    }
   ],
   "source": [
    "from sklearn.linear_model import LogisticRegression\n",
    "model=LogisticRegression(solver='lbfgs', max_iter=10000)\n",
    "model.fit(Ftrain,Ltrain)\n",
    "model.score(Ftest,Ltest)"
   ]
  },
  {
   "cell_type": "code",
   "execution_count": 37,
   "id": "ad468ab9",
   "metadata": {},
   "outputs": [
    {
     "name": "stdout",
     "output_type": "stream",
     "text": [
      "                               precision    recall  f1-score   support\n",
      "\n",
      "               bacterial_spot       0.34      0.45      0.39       124\n",
      "                 early_blight       0.28      0.30      0.29       114\n",
      "                      healthy       0.54      0.40      0.46       131\n",
      "                  late_blight       0.24      0.31      0.27       124\n",
      "                    leaf_mold       0.39      0.39      0.39       117\n",
      "           septoria_leaf_spot       0.36      0.32      0.34       114\n",
      "                  target_spot       0.29      0.20      0.24       111\n",
      "          tomato_mosaic_virus       0.37      0.17      0.23        60\n",
      "tomato_yellow_leaf_curl_virus       0.28      0.32      0.30       121\n",
      "      two-spotted_spider_mite       0.50      0.52      0.51       124\n",
      "\n",
      "                     accuracy                           0.35      1140\n",
      "                    macro avg       0.36      0.34      0.34      1140\n",
      "                 weighted avg       0.36      0.35      0.35      1140\n",
      "\n",
      "[[56 27  4 12 10  4  1  1  5  4]\n",
      " [24 34  3  9  7  4 13  0 10 10]\n",
      " [14  7 52 25  4  5  6  0 13  5]\n",
      " [14 17  8 39 14 12  7  0 11  2]\n",
      " [ 5  4  7 23 46 11  4  2  8  7]\n",
      " [ 4  3  7 22 12 37 11  4  8  6]\n",
      " [22 13  5  5  5  8 22  1 12 18]\n",
      " [ 3  1  2  7  8  7  0 10 20  2]\n",
      " [17 10  2 16  9  5  4  8 39 11]\n",
      " [ 6  7  6  6  4  9  8  1 13 64]]\n"
     ]
    }
   ],
   "source": [
    "y_predict = model.fit(Ftrain, Ltrain).predict(Ftest)\n",
    "class_names = target.unique()\n",
    "print(classification_report(Ltest, y_predict, target_names=class_names))\n",
    "print(confusion_matrix(Ltest, y_predict))"
   ]
  },
  {
   "cell_type": "markdown",
   "id": "5284f869",
   "metadata": {},
   "source": [
    "# SVM on Grayscale data"
   ]
  },
  {
   "cell_type": "code",
   "execution_count": 38,
   "id": "d0db5c80",
   "metadata": {},
   "outputs": [
    {
     "name": "stdout",
     "output_type": "stream",
     "text": [
      "0.4017543859649123\n"
     ]
    }
   ],
   "source": [
    "clf = SVC(kernel='linear')\n",
    "clf.fit(Ftrain,Ltrain)\n",
    "y_pred = clf.predict(Ftest)\n",
    "print(accuracy_score(Ltest,y_pred))"
   ]
  },
  {
   "cell_type": "code",
   "execution_count": 39,
   "id": "907d10fb",
   "metadata": {},
   "outputs": [
    {
     "name": "stdout",
     "output_type": "stream",
     "text": [
      "                               precision    recall  f1-score   support\n",
      "\n",
      "               bacterial_spot       0.34      0.52      0.42       124\n",
      "                 early_blight       0.29      0.33      0.31       114\n",
      "                      healthy       0.61      0.47      0.53       131\n",
      "                  late_blight       0.32      0.35      0.33       124\n",
      "                    leaf_mold       0.47      0.45      0.46       117\n",
      "           septoria_leaf_spot       0.42      0.39      0.40       114\n",
      "                  target_spot       0.31      0.26      0.28       111\n",
      "          tomato_mosaic_virus       0.48      0.22      0.30        60\n",
      "tomato_yellow_leaf_curl_virus       0.35      0.39      0.37       121\n",
      "      two-spotted_spider_mite       0.58      0.52      0.55       124\n",
      "\n",
      "                     accuracy                           0.40      1140\n",
      "                    macro avg       0.42      0.39      0.40      1140\n",
      "                 weighted avg       0.42      0.40      0.40      1140\n",
      "\n",
      "[[65 22  3 10  4  9  1  0  9  1]\n",
      " [24 38  2  5  5  0 19  0 12  9]\n",
      " [22  4 62 12  4 11  3  0 10  3]\n",
      " [13 19 11 43 10 11  8  0  8  1]\n",
      " [ 7  6  6 23 53  9  3  1  4  5]\n",
      " [ 5  5  7 17 11 44 14  5  4  2]\n",
      " [26 15  2  2  7  3 29  0 12 15]\n",
      " [ 2  0  0  5  8  7  0 13 21  4]\n",
      " [16 14  4 14  7  4  5  4 47  6]\n",
      " [ 9  8  4  5  3  6 13  4  8 64]]\n"
     ]
    }
   ],
   "source": [
    "y_predict = clf.fit(Ftrain, Ltrain).predict(Ftest)\n",
    "class_names = target.unique()\n",
    "print(classification_report(Ltest, y_predict, target_names=class_names))\n",
    "print(confusion_matrix(Ltest, y_predict))"
   ]
  },
  {
   "cell_type": "markdown",
   "id": "576fd580",
   "metadata": {},
   "source": [
    "# Random Forest on Grayscale"
   ]
  },
  {
   "cell_type": "code",
   "execution_count": 40,
   "id": "9dfa979e",
   "metadata": {},
   "outputs": [
    {
     "data": {
      "text/plain": [
       "RandomForestClassifier(max_depth=5, n_jobs=-1, oob_score=True, random_state=42)"
      ]
     },
     "execution_count": 40,
     "metadata": {},
     "output_type": "execute_result"
    }
   ],
   "source": [
    "classifier_rf.fit(Ftrain, Ltrain)"
   ]
  },
  {
   "cell_type": "code",
   "execution_count": 41,
   "id": "2b4347ef",
   "metadata": {},
   "outputs": [
    {
     "data": {
      "text/plain": [
       "0.42070629524018427"
      ]
     },
     "execution_count": 41,
     "metadata": {},
     "output_type": "execute_result"
    }
   ],
   "source": [
    "classifier_rf.oob_score_"
   ]
  },
  {
   "cell_type": "code",
   "execution_count": 42,
   "id": "ce5db8b5",
   "metadata": {},
   "outputs": [
    {
     "name": "stdout",
     "output_type": "stream",
     "text": [
      "                               precision    recall  f1-score   support\n",
      "\n",
      "               bacterial_spot       0.41      0.62      0.50       124\n",
      "                 early_blight       0.34      0.15      0.21       114\n",
      "                      healthy       0.49      0.53      0.51       131\n",
      "                  late_blight       0.49      0.30      0.37       124\n",
      "                    leaf_mold       0.46      0.55      0.50       117\n",
      "           septoria_leaf_spot       0.53      0.57      0.55       114\n",
      "                  target_spot       0.35      0.55      0.43       111\n",
      "          tomato_mosaic_virus       0.00      0.00      0.00        60\n",
      "tomato_yellow_leaf_curl_virus       0.33      0.26      0.29       121\n",
      "      two-spotted_spider_mite       0.45      0.55      0.50       124\n",
      "\n",
      "                     accuracy                           0.43      1140\n",
      "                    macro avg       0.38      0.41      0.38      1140\n",
      "                 weighted avg       0.41      0.43      0.41      1140\n",
      "\n",
      "[[77  6 11  5  5  0  4  0 13  3]\n",
      " [42 17  3  1  8 13 20  0  5  5]\n",
      " [ 1  0 70 12  9  3 15  0  8 13]\n",
      " [ 9 11 16 37 14 19 10  0  4  4]\n",
      " [ 9  1  9  2 64  3 18  0  6  5]\n",
      " [ 3  1 10  7 10 65  4  0  6  8]\n",
      " [11  3  6  1  2  7 61  0  2 18]\n",
      " [ 3  0  4  3 11  7  6  0 12 14]\n",
      " [28  7  8  8 12  4 10  0 32 12]\n",
      " [ 4  4  6  0  3  2 27  0 10 68]]\n"
     ]
    },
    {
     "name": "stderr",
     "output_type": "stream",
     "text": [
      "C:\\Users\\ravic\\anaconda3\\lib\\site-packages\\sklearn\\metrics\\_classification.py:1248: UndefinedMetricWarning: Precision and F-score are ill-defined and being set to 0.0 in labels with no predicted samples. Use `zero_division` parameter to control this behavior.\n",
      "  _warn_prf(average, modifier, msg_start, len(result))\n",
      "C:\\Users\\ravic\\anaconda3\\lib\\site-packages\\sklearn\\metrics\\_classification.py:1248: UndefinedMetricWarning: Precision and F-score are ill-defined and being set to 0.0 in labels with no predicted samples. Use `zero_division` parameter to control this behavior.\n",
      "  _warn_prf(average, modifier, msg_start, len(result))\n",
      "C:\\Users\\ravic\\anaconda3\\lib\\site-packages\\sklearn\\metrics\\_classification.py:1248: UndefinedMetricWarning: Precision and F-score are ill-defined and being set to 0.0 in labels with no predicted samples. Use `zero_division` parameter to control this behavior.\n",
      "  _warn_prf(average, modifier, msg_start, len(result))\n"
     ]
    }
   ],
   "source": [
    "y_predict = classifier_rf.fit(Ftrain, Ltrain).predict(Ftest)\n",
    "class_names = target.unique()\n",
    "print(classification_report(Ltest, y_predict, target_names=class_names))\n",
    "print(confusion_matrix(Ltest, y_predict))"
   ]
  },
  {
   "cell_type": "markdown",
   "id": "8befce61",
   "metadata": {},
   "source": [
    "# Naive bayes on Grayscale"
   ]
  },
  {
   "cell_type": "code",
   "execution_count": 43,
   "id": "0d1a6d3b",
   "metadata": {},
   "outputs": [
    {
     "data": {
      "text/plain": [
       "GaussianNB()"
      ]
     },
     "execution_count": 43,
     "metadata": {},
     "output_type": "execute_result"
    }
   ],
   "source": [
    "gnb.fit(Ftrain, Ltrain)"
   ]
  },
  {
   "cell_type": "code",
   "execution_count": 44,
   "id": "053c9a09",
   "metadata": {},
   "outputs": [
    {
     "data": {
      "text/plain": [
       "0.393859649122807"
      ]
     },
     "execution_count": 44,
     "metadata": {},
     "output_type": "execute_result"
    }
   ],
   "source": [
    "y_pred = gnb.predict(Ftest)\n",
    "metrics.accuracy_score(Ltest, y_pred)"
   ]
  },
  {
   "cell_type": "code",
   "execution_count": 45,
   "id": "0ea180f7",
   "metadata": {},
   "outputs": [
    {
     "name": "stdout",
     "output_type": "stream",
     "text": [
      "                               precision    recall  f1-score   support\n",
      "\n",
      "               bacterial_spot       0.48      0.70      0.57       124\n",
      "                 early_blight       0.35      0.32      0.33       114\n",
      "                      healthy       0.43      0.55      0.48       131\n",
      "                  late_blight       0.32      0.20      0.25       124\n",
      "                    leaf_mold       0.62      0.30      0.40       117\n",
      "           septoria_leaf_spot       0.41      0.48      0.44       114\n",
      "                  target_spot       0.40      0.34      0.37       111\n",
      "          tomato_mosaic_virus       0.25      0.55      0.34        60\n",
      "tomato_yellow_leaf_curl_virus       0.28      0.11      0.15       121\n",
      "      two-spotted_spider_mite       0.38      0.44      0.41       124\n",
      "\n",
      "                     accuracy                           0.39      1140\n",
      "                    macro avg       0.39      0.40      0.38      1140\n",
      "                 weighted avg       0.40      0.39      0.38      1140\n",
      "\n",
      "[[87  5 16  2  0  2  3  6  3  0]\n",
      " [27 37  0 18  6  5 10  0  3  8]\n",
      " [ 4  5 72  9  6  3 13  3 10  6]\n",
      " [ 1 23 26 25  3 19  5 17  1  4]\n",
      " [15  3  8  8 35 21  3 13  2  9]\n",
      " [ 3  4 17  5  1 55  9  8  2 10]\n",
      " [ 6 14  4  8  2  7 38  2  2 28]\n",
      " [ 6  0  3  0  2  5  0 33  4  7]\n",
      " [29  9 16  4  0  5  3 27 13 15]\n",
      " [ 4  7  4  0  1 12 11 24  7 54]]\n"
     ]
    }
   ],
   "source": [
    "class_names = target.unique()\n",
    "print(classification_report(Ltest, y_pred, target_names=class_names))\n",
    "print(confusion_matrix(Ltest, y_pred))"
   ]
  },
  {
   "cell_type": "markdown",
   "id": "7adb2a72",
   "metadata": {},
   "source": [
    "# Decision Tree on Grayscale"
   ]
  },
  {
   "cell_type": "code",
   "execution_count": 46,
   "id": "8e38f8b5",
   "metadata": {},
   "outputs": [
    {
     "data": {
      "text/plain": [
       "0.26052631578947366"
      ]
     },
     "execution_count": 46,
     "metadata": {},
     "output_type": "execute_result"
    }
   ],
   "source": [
    "classifier_tree.fit(Ftrain, Ltrain)\n",
    "classifier_tree.score(Ftest,Ltest)"
   ]
  },
  {
   "cell_type": "code",
   "execution_count": 47,
   "id": "838a0a4d",
   "metadata": {},
   "outputs": [
    {
     "name": "stdout",
     "output_type": "stream",
     "text": [
      "                               precision    recall  f1-score   support\n",
      "\n",
      "               bacterial_spot       0.44      0.44      0.44       124\n",
      "                 early_blight       0.17      0.19      0.18       114\n",
      "                      healthy       0.36      0.27      0.31       131\n",
      "                  late_blight       0.24      0.24      0.24       124\n",
      "                    leaf_mold       0.31      0.32      0.31       117\n",
      "           septoria_leaf_spot       0.26      0.29      0.27       114\n",
      "                  target_spot       0.19      0.21      0.20       111\n",
      "          tomato_mosaic_virus       0.14      0.10      0.12        60\n",
      "tomato_yellow_leaf_curl_virus       0.16      0.19      0.18       121\n",
      "      two-spotted_spider_mite       0.31      0.27      0.29       124\n",
      "\n",
      "                     accuracy                           0.26      1140\n",
      "                    macro avg       0.26      0.25      0.25      1140\n",
      "                 weighted avg       0.27      0.26      0.26      1140\n",
      "\n",
      "[[55 15  4  7  9  6  8  3 11  6]\n",
      " [16 22  1 12  7  6 15  4 17 14]\n",
      " [ 1  9 35 20  7 16 13  5 16  9]\n",
      " [ 5 13  7 30 11 22  7  1 16 12]\n",
      " [ 8 12 10  5 37 14  8  3 14  6]\n",
      " [ 4 15  7 15 13 33  7  1 10  9]\n",
      " [10 12  9  9  8  9 23  6 14 11]\n",
      " [ 1  5  6  6  8  8  7  6  9  4]\n",
      " [19 17  9 11 12 10  9  6 23  5]\n",
      " [ 6 12 10  9  6  3 25  9 10 34]]\n"
     ]
    }
   ],
   "source": [
    "y_predict = classifier_tree.fit(Ftrain, Ltrain).predict(Ftest)\n",
    "class_names = target.unique()\n",
    "print(classification_report(Ltest, y_predict, target_names=class_names))\n",
    "print(confusion_matrix(Ltest, y_predict))"
   ]
  },
  {
   "cell_type": "markdown",
   "id": "e42f549f",
   "metadata": {},
   "source": [
    "# KNN on Red channel data"
   ]
  },
  {
   "cell_type": "code",
   "execution_count": 48,
   "id": "cb75cbbd",
   "metadata": {},
   "outputs": [],
   "source": [
    "#reading numpy array data\n",
    "red_test = np.load('red_data.npy')\n",
    "#reading csv file\n",
    "red_df = pd.read_csv('red_data.csv')"
   ]
  },
  {
   "cell_type": "code",
   "execution_count": 49,
   "id": "7fda7839",
   "metadata": {},
   "outputs": [],
   "source": [
    "loaded = []\n",
    "for i in red_test:\n",
    "    k = []\n",
    "    k = np.asarray(i,dtype='uint8')\n",
    "    loaded.append(k)\n",
    "features = loaded\n",
    "target = red_df['disease']\n",
    "Ftrain,Ftest,Ltrain,Ltest=train_test_split(features,target, test_size=0.20, random_state=20)\n",
    "scaler = StandardScaler()\n",
    "Ftrain = scaler.fit_transform(Ftrain)\n",
    "Ftest = scaler.fit_transform(Ftest)"
   ]
  },
  {
   "cell_type": "code",
   "execution_count": 50,
   "id": "683839f2",
   "metadata": {},
   "outputs": [
    {
     "data": {
      "text/plain": [
       "0.35175438596491226"
      ]
     },
     "execution_count": 50,
     "metadata": {},
     "output_type": "execute_result"
    }
   ],
   "source": [
    "kmodel.fit(Ftrain,Ltrain)\n",
    "kmodel.score(Ftest,Ltest)"
   ]
  },
  {
   "cell_type": "code",
   "execution_count": 51,
   "id": "3f0b171c",
   "metadata": {},
   "outputs": [
    {
     "name": "stdout",
     "output_type": "stream",
     "text": [
      "                               precision    recall  f1-score   support\n",
      "\n",
      "               bacterial_spot       0.29      0.72      0.41       124\n",
      "                 early_blight       0.20      0.01      0.02       114\n",
      "                      healthy       0.36      0.69      0.47       131\n",
      "                  late_blight       0.27      0.27      0.27       124\n",
      "                    leaf_mold       0.50      0.45      0.48       117\n",
      "           septoria_leaf_spot       0.41      0.34      0.37       114\n",
      "                  target_spot       0.23      0.10      0.14       111\n",
      "          tomato_mosaic_virus       0.40      0.03      0.06        60\n",
      "tomato_yellow_leaf_curl_virus       0.26      0.20      0.22       121\n",
      "      two-spotted_spider_mite       0.57      0.47      0.51       124\n",
      "\n",
      "                     accuracy                           0.35      1140\n",
      "                    macro avg       0.35      0.33      0.30      1140\n",
      "                 weighted avg       0.35      0.35      0.31      1140\n",
      "\n",
      "[[89  1 14 13  3  1  0  0  3  0]\n",
      " [66  1  9  0 13  6  8  1  6  4]\n",
      " [ 8  0 90 16  3  8  0  0  6  0]\n",
      " [23  0 28 34 10 14  3  1  9  2]\n",
      " [10  0 28 11 53  3  4  0  6  2]\n",
      " [ 8  1 19 23  5 39  8  1  4  6]\n",
      " [51  0 22  6  1  7 11  0  5  8]\n",
      " [ 4  0 12  7  6  5  1  2 13 10]\n",
      " [36  1 21 10 11  2  4  0 24 12]\n",
      " [17  1  9  4  0  9  8  0 18 58]]\n"
     ]
    }
   ],
   "source": [
    "y_predict = kmodel.fit(Ftrain, Ltrain).predict(Ftest)\n",
    "class_names = target.unique()\n",
    "print(classification_report(Ltest, y_predict, target_names=class_names))\n",
    "print(confusion_matrix(Ltest, y_predict))"
   ]
  },
  {
   "cell_type": "markdown",
   "id": "ffcda594",
   "metadata": {},
   "source": [
    "# Logistic on Red channel data"
   ]
  },
  {
   "cell_type": "code",
   "execution_count": 52,
   "id": "1ed4037b",
   "metadata": {},
   "outputs": [
    {
     "data": {
      "text/plain": [
       "0.3631578947368421"
      ]
     },
     "execution_count": 52,
     "metadata": {},
     "output_type": "execute_result"
    }
   ],
   "source": [
    "model.fit(Ftrain,Ltrain)\n",
    "model.score(Ftest,Ltest)"
   ]
  },
  {
   "cell_type": "code",
   "execution_count": 53,
   "id": "19a4a62d",
   "metadata": {},
   "outputs": [
    {
     "name": "stdout",
     "output_type": "stream",
     "text": [
      "                               precision    recall  f1-score   support\n",
      "\n",
      "               bacterial_spot       0.38      0.48      0.42       124\n",
      "                 early_blight       0.26      0.28      0.27       114\n",
      "                      healthy       0.56      0.42      0.48       131\n",
      "                  late_blight       0.21      0.27      0.24       124\n",
      "                    leaf_mold       0.43      0.44      0.44       117\n",
      "           septoria_leaf_spot       0.34      0.31      0.32       114\n",
      "                  target_spot       0.30      0.23      0.26       111\n",
      "          tomato_mosaic_virus       0.39      0.23      0.29        60\n",
      "tomato_yellow_leaf_curl_virus       0.32      0.35      0.33       121\n",
      "      two-spotted_spider_mite       0.52      0.53      0.53       124\n",
      "\n",
      "                     accuracy                           0.36      1140\n",
      "                    macro avg       0.37      0.35      0.36      1140\n",
      "                 weighted avg       0.37      0.36      0.36      1140\n",
      "\n",
      "[[59 30  4 15  7  2  0  0  5  2]\n",
      " [24 32  2  9  7  4 16  1 12  7]\n",
      " [14  6 55 27  4  6  6  0  9  4]\n",
      " [13 13 12 33 12 20  7  0 10  4]\n",
      " [ 5  5  7 24 52  8  6  1  6  3]\n",
      " [ 5  2  4 24 15 35 11  4  8  6]\n",
      " [19 20  4  4  3  7 26  0  8 20]\n",
      " [ 2  0  2  2 11  6  0 14 20  3]\n",
      " [12 11  3 14  9  4  2 13 42 11]\n",
      " [ 3  3  6  4  2 10 14  3 13 66]]\n"
     ]
    }
   ],
   "source": [
    "y_predict = model.fit(Ftrain, Ltrain).predict(Ftest)\n",
    "class_names = target.unique()\n",
    "print(classification_report(Ltest, y_predict, target_names=class_names))\n",
    "print(confusion_matrix(Ltest, y_predict))"
   ]
  },
  {
   "cell_type": "markdown",
   "id": "dba6d5ce",
   "metadata": {},
   "source": [
    "# SVM on Red channel data"
   ]
  },
  {
   "cell_type": "code",
   "execution_count": 54,
   "id": "6ed153f7",
   "metadata": {},
   "outputs": [
    {
     "name": "stdout",
     "output_type": "stream",
     "text": [
      "0.4166666666666667\n"
     ]
    }
   ],
   "source": [
    "clf.fit(Ftrain,Ltrain)\n",
    "y_pred = clf.predict(Ftest)\n",
    "print(accuracy_score(Ltest,y_pred))"
   ]
  },
  {
   "cell_type": "code",
   "execution_count": 55,
   "id": "cb2cb836",
   "metadata": {},
   "outputs": [
    {
     "name": "stdout",
     "output_type": "stream",
     "text": [
      "                               precision    recall  f1-score   support\n",
      "\n",
      "               bacterial_spot       0.35      0.50      0.41       124\n",
      "                 early_blight       0.26      0.27      0.27       114\n",
      "                      healthy       0.63      0.47      0.54       131\n",
      "                  late_blight       0.32      0.39      0.35       124\n",
      "                    leaf_mold       0.48      0.44      0.46       117\n",
      "           septoria_leaf_spot       0.36      0.33      0.35       114\n",
      "                  target_spot       0.39      0.38      0.39       111\n",
      "          tomato_mosaic_virus       0.62      0.30      0.40        60\n",
      "tomato_yellow_leaf_curl_virus       0.41      0.42      0.41       121\n",
      "      two-spotted_spider_mite       0.57      0.57      0.57       124\n",
      "\n",
      "                     accuracy                           0.42      1140\n",
      "                    macro avg       0.44      0.41      0.42      1140\n",
      "                 weighted avg       0.43      0.42      0.42      1140\n",
      "\n",
      "[[62 26  6 15  4  2  2  0  7  0]\n",
      " [28 31  2  6  9  3 18  0 10  7]\n",
      " [22  3 62 17  3  9  4  0  9  2]\n",
      " [13 15  8 48  8 17  6  1  7  1]\n",
      " [ 7  5  8 25 52 10  3  0  3  4]\n",
      " [ 4  7  7 19 13 38 12  4  4  6]\n",
      " [18 14  1  0  2  8 42  0 11 15]\n",
      " [ 2  0  0  3  8  6  0 18 16  7]\n",
      " [14 12  2 12  8  4  5  2 51 11]\n",
      " [ 6  6  2  3  1  9 15  4  7 71]]\n"
     ]
    }
   ],
   "source": [
    "y_predict = clf.fit(Ftrain, Ltrain).predict(Ftest)\n",
    "class_names = target.unique()\n",
    "print(classification_report(Ltest, y_predict, target_names=class_names))\n",
    "print(confusion_matrix(Ltest, y_predict))"
   ]
  },
  {
   "cell_type": "markdown",
   "id": "a670c4d4",
   "metadata": {},
   "source": [
    "# Random forest on Red channel data"
   ]
  },
  {
   "cell_type": "code",
   "execution_count": 56,
   "id": "9e816e9e",
   "metadata": {},
   "outputs": [
    {
     "data": {
      "text/plain": [
       "0.43474446150471596"
      ]
     },
     "execution_count": 56,
     "metadata": {},
     "output_type": "execute_result"
    }
   ],
   "source": [
    "classifier_rf.fit(Ftrain, Ltrain)\n",
    "classifier_rf.oob_score_"
   ]
  },
  {
   "cell_type": "code",
   "execution_count": 57,
   "id": "2c17baee",
   "metadata": {},
   "outputs": [
    {
     "name": "stdout",
     "output_type": "stream",
     "text": [
      "                               precision    recall  f1-score   support\n",
      "\n",
      "               bacterial_spot       0.48      0.62      0.54       124\n",
      "                 early_blight       0.33      0.16      0.21       114\n",
      "                      healthy       0.57      0.62      0.60       131\n",
      "                  late_blight       0.56      0.35      0.43       124\n",
      "                    leaf_mold       0.47      0.57      0.51       117\n",
      "           septoria_leaf_spot       0.45      0.44      0.45       114\n",
      "                  target_spot       0.38      0.66      0.48       111\n",
      "          tomato_mosaic_virus       0.00      0.00      0.00        60\n",
      "tomato_yellow_leaf_curl_virus       0.32      0.26      0.29       121\n",
      "      two-spotted_spider_mite       0.49      0.63      0.55       124\n",
      "\n",
      "                     accuracy                           0.46      1140\n",
      "                    macro avg       0.40      0.43      0.41      1140\n",
      "                 weighted avg       0.43      0.46      0.43      1140\n",
      "\n",
      "[[77  8 11  8  6  1  3  0 10  0]\n",
      " [39 18  1  6 10  8 20  0  3  9]\n",
      " [ 1  2 81  3 11  3 16  0  7  7]\n",
      " [ 7 10 11 43 10 18 14  0  6  5]\n",
      " [ 5  1  7  4 67  8 13  0  4  8]\n",
      " [ 2  3 10  9 14 50  8  0  7 11]\n",
      " [ 6  5  1  0  1  6 73  0  2 17]\n",
      " [ 1  0  2  0 10  9  6  0 19 13]\n",
      " [19  7 14  4 15  7 11  0 32 12]\n",
      " [ 3  1  3  0  0  0 30  0  9 78]]\n"
     ]
    },
    {
     "name": "stderr",
     "output_type": "stream",
     "text": [
      "C:\\Users\\ravic\\anaconda3\\lib\\site-packages\\sklearn\\metrics\\_classification.py:1248: UndefinedMetricWarning: Precision and F-score are ill-defined and being set to 0.0 in labels with no predicted samples. Use `zero_division` parameter to control this behavior.\n",
      "  _warn_prf(average, modifier, msg_start, len(result))\n",
      "C:\\Users\\ravic\\anaconda3\\lib\\site-packages\\sklearn\\metrics\\_classification.py:1248: UndefinedMetricWarning: Precision and F-score are ill-defined and being set to 0.0 in labels with no predicted samples. Use `zero_division` parameter to control this behavior.\n",
      "  _warn_prf(average, modifier, msg_start, len(result))\n",
      "C:\\Users\\ravic\\anaconda3\\lib\\site-packages\\sklearn\\metrics\\_classification.py:1248: UndefinedMetricWarning: Precision and F-score are ill-defined and being set to 0.0 in labels with no predicted samples. Use `zero_division` parameter to control this behavior.\n",
      "  _warn_prf(average, modifier, msg_start, len(result))\n"
     ]
    }
   ],
   "source": [
    "y_predict = classifier_rf.fit(Ftrain, Ltrain).predict(Ftest)\n",
    "class_names = target.unique()\n",
    "print(classification_report(Ltest, y_predict, target_names=class_names))\n",
    "print(confusion_matrix(Ltest, y_predict))"
   ]
  },
  {
   "cell_type": "markdown",
   "id": "e1c2d95a",
   "metadata": {},
   "source": [
    "# Naive Bayes on Red channel data"
   ]
  },
  {
   "cell_type": "code",
   "execution_count": 58,
   "id": "8ec0753c",
   "metadata": {},
   "outputs": [
    {
     "data": {
      "text/plain": [
       "GaussianNB()"
      ]
     },
     "execution_count": 58,
     "metadata": {},
     "output_type": "execute_result"
    }
   ],
   "source": [
    "gnb.fit(Ftrain, Ltrain)"
   ]
  },
  {
   "cell_type": "code",
   "execution_count": 59,
   "id": "9bd3c55d",
   "metadata": {},
   "outputs": [
    {
     "data": {
      "text/plain": [
       "0.42719298245614035"
      ]
     },
     "execution_count": 59,
     "metadata": {},
     "output_type": "execute_result"
    }
   ],
   "source": [
    "y_pred = gnb.predict(Ftest)\n",
    "metrics.accuracy_score(Ltest, y_pred)"
   ]
  },
  {
   "cell_type": "code",
   "execution_count": 60,
   "id": "9ac4f5ac",
   "metadata": {},
   "outputs": [
    {
     "name": "stdout",
     "output_type": "stream",
     "text": [
      "                               precision    recall  f1-score   support\n",
      "\n",
      "               bacterial_spot       0.50      0.70      0.58       124\n",
      "                 early_blight       0.26      0.21      0.23       114\n",
      "                      healthy       0.43      0.61      0.50       131\n",
      "                  late_blight       0.36      0.23      0.28       124\n",
      "                    leaf_mold       0.60      0.38      0.46       117\n",
      "           septoria_leaf_spot       0.38      0.41      0.39       114\n",
      "                  target_spot       0.50      0.46      0.48       111\n",
      "          tomato_mosaic_virus       0.35      0.55      0.43        60\n",
      "tomato_yellow_leaf_curl_virus       0.38      0.15      0.21       121\n",
      "      two-spotted_spider_mite       0.46      0.60      0.52       124\n",
      "\n",
      "                     accuracy                           0.43      1140\n",
      "                    macro avg       0.42      0.43      0.41      1140\n",
      "                 weighted avg       0.42      0.43      0.41      1140\n",
      "\n",
      "[[87  4 22  2  1  2  4  2  0  0]\n",
      " [35 24  0 20 11  8 12  0  1  3]\n",
      " [ 1  3 80  9  7  6  7  2 14  2]\n",
      " [ 1 23 35 29  3 18  5  6  2  2]\n",
      " [ 7  5  9  7 44 19  6  5  4 11]\n",
      " [ 3  6 18  6  3 47  5  6  3 17]\n",
      " [ 7 16  0  4  0  6 51  1  1 25]\n",
      " [ 5  0  3  0  2  4  0 33  3 10]\n",
      " [28  7 18  4  1  6  2 20 18 17]\n",
      " [ 1  6  1  0  1  9 10 20  2 74]]\n"
     ]
    }
   ],
   "source": [
    "class_names = target.unique()\n",
    "print(classification_report(Ltest, y_pred, target_names=class_names))\n",
    "print(confusion_matrix(Ltest, y_pred))"
   ]
  },
  {
   "cell_type": "markdown",
   "id": "0a606422",
   "metadata": {},
   "source": [
    "# Decision Tree on Red channel"
   ]
  },
  {
   "cell_type": "code",
   "execution_count": 61,
   "id": "2b6fe1e7",
   "metadata": {},
   "outputs": [
    {
     "data": {
      "text/plain": [
       "0.2868421052631579"
      ]
     },
     "execution_count": 61,
     "metadata": {},
     "output_type": "execute_result"
    }
   ],
   "source": [
    "classifier_tree.fit(Ftrain, Ltrain)\n",
    "classifier_tree.score(Ftest,Ltest)"
   ]
  },
  {
   "cell_type": "code",
   "execution_count": 62,
   "id": "7c5134cd",
   "metadata": {},
   "outputs": [
    {
     "name": "stdout",
     "output_type": "stream",
     "text": [
      "                               precision    recall  f1-score   support\n",
      "\n",
      "               bacterial_spot       0.37      0.39      0.38       124\n",
      "                 early_blight       0.21      0.23      0.22       114\n",
      "                      healthy       0.38      0.33      0.35       131\n",
      "                  late_blight       0.35      0.40      0.38       124\n",
      "                    leaf_mold       0.41      0.41      0.41       117\n",
      "           septoria_leaf_spot       0.23      0.25      0.24       114\n",
      "                  target_spot       0.25      0.25      0.25       111\n",
      "          tomato_mosaic_virus       0.21      0.18      0.19        60\n",
      "tomato_yellow_leaf_curl_virus       0.24      0.21      0.22       121\n",
      "      two-spotted_spider_mite       0.32      0.31      0.32       124\n",
      "\n",
      "                     accuracy                           0.30      1140\n",
      "                    macro avg       0.30      0.30      0.30      1140\n",
      "                 weighted avg       0.30      0.30      0.30      1140\n",
      "\n",
      "[[48 17  6 10  8  6  9  4 14  2]\n",
      " [20 26  4  8  6  6 16  3 12 13]\n",
      " [13  5 43 19 11 14  8  7  7  4]\n",
      " [10 12  9 50  6 17  6  4  5  5]\n",
      " [ 5  9 14 11 48  8  5  3  7  7]\n",
      " [ 8 10  6 12 14 28 13  3 10 10]\n",
      " [ 5  8 11 12  1 12 28  5  4 25]\n",
      " [ 1  4  3  6 11  6  5 11  7  6]\n",
      " [16 23  8  8  6 12  6  7 25 10]\n",
      " [ 5 12  9  5  5 15 16  6 12 39]]\n"
     ]
    }
   ],
   "source": [
    "y_predict = classifier_tree.fit(Ftrain, Ltrain).predict(Ftest)\n",
    "class_names = target.unique()\n",
    "print(classification_report(Ltest, y_predict, target_names=class_names))\n",
    "print(confusion_matrix(Ltest, y_predict))"
   ]
  },
  {
   "cell_type": "markdown",
   "id": "21af7568",
   "metadata": {},
   "source": [
    "# KNN on green channel data"
   ]
  },
  {
   "cell_type": "code",
   "execution_count": 63,
   "id": "461b784b",
   "metadata": {},
   "outputs": [
    {
     "data": {
      "text/plain": [
       "0.3157894736842105"
      ]
     },
     "execution_count": 63,
     "metadata": {},
     "output_type": "execute_result"
    }
   ],
   "source": [
    "#reading numpy array data\n",
    "green_test = np.load('green_data.npy')\n",
    "#reading csv file\n",
    "green_df = pd.read_csv('green_data.csv')\n",
    "loaded = []\n",
    "for i in green_test:\n",
    "    k = []\n",
    "    k = np.asarray(i,dtype='uint8')\n",
    "    loaded.append(k)\n",
    "features = loaded\n",
    "target = green_df['disease']\n",
    "Ftrain,Ftest,Ltrain,Ltest=train_test_split(features,target, test_size=0.20, random_state=20)\n",
    "scaler = StandardScaler()\n",
    "Ftrain = scaler.fit_transform(Ftrain)\n",
    "Ftest = scaler.fit_transform(Ftest)\n",
    "kmodel.fit(Ftrain,Ltrain)\n",
    "kmodel.score(Ftest,Ltest)"
   ]
  },
  {
   "cell_type": "code",
   "execution_count": 64,
   "id": "5a26601b",
   "metadata": {},
   "outputs": [
    {
     "name": "stdout",
     "output_type": "stream",
     "text": [
      "                               precision    recall  f1-score   support\n",
      "\n",
      "               bacterial_spot       0.21      0.76      0.32       124\n",
      "                 early_blight       0.00      0.00      0.00       114\n",
      "                      healthy       0.39      0.55      0.46       131\n",
      "                  late_blight       0.25      0.30      0.27       124\n",
      "                    leaf_mold       0.36      0.56      0.43       117\n",
      "           septoria_leaf_spot       0.49      0.37      0.42       114\n",
      "                  target_spot       0.43      0.03      0.05       111\n",
      "          tomato_mosaic_virus       0.00      0.00      0.00        60\n",
      "tomato_yellow_leaf_curl_virus       0.57      0.13      0.21       121\n",
      "      two-spotted_spider_mite       0.67      0.25      0.36       124\n",
      "\n",
      "                     accuracy                           0.32      1140\n",
      "                    macro avg       0.34      0.29      0.25      1140\n",
      "                 weighted avg       0.36      0.32      0.27      1140\n",
      "\n",
      "[[94  0  9 11  6  1  0  0  3  0]\n",
      " [82  0  3  4 13  5  0  0  3  4]\n",
      " [22  0 72 19 15  2  0  0  1  0]\n",
      " [37  0 21 37 10 15  0  0  1  3]\n",
      " [16  0 18 13 65  3  0  0  2  0]\n",
      " [ 9  0 23 22 17 42  0  0  1  0]\n",
      " [77  0  9  8  2  7  3  0  0  5]\n",
      " [ 8  0  9 12 24  4  0  0  1  2]\n",
      " [55  0 14 16 17  2  0  0 16  1]\n",
      " [57  0  7  8 13  4  4  0  0 31]]\n"
     ]
    },
    {
     "name": "stderr",
     "output_type": "stream",
     "text": [
      "C:\\Users\\ravic\\anaconda3\\lib\\site-packages\\sklearn\\metrics\\_classification.py:1248: UndefinedMetricWarning: Precision and F-score are ill-defined and being set to 0.0 in labels with no predicted samples. Use `zero_division` parameter to control this behavior.\n",
      "  _warn_prf(average, modifier, msg_start, len(result))\n",
      "C:\\Users\\ravic\\anaconda3\\lib\\site-packages\\sklearn\\metrics\\_classification.py:1248: UndefinedMetricWarning: Precision and F-score are ill-defined and being set to 0.0 in labels with no predicted samples. Use `zero_division` parameter to control this behavior.\n",
      "  _warn_prf(average, modifier, msg_start, len(result))\n",
      "C:\\Users\\ravic\\anaconda3\\lib\\site-packages\\sklearn\\metrics\\_classification.py:1248: UndefinedMetricWarning: Precision and F-score are ill-defined and being set to 0.0 in labels with no predicted samples. Use `zero_division` parameter to control this behavior.\n",
      "  _warn_prf(average, modifier, msg_start, len(result))\n"
     ]
    }
   ],
   "source": [
    "y_predict = kmodel.fit(Ftrain, Ltrain).predict(Ftest)\n",
    "class_names = target.unique()\n",
    "print(classification_report(Ltest, y_predict, target_names=class_names))\n",
    "print(confusion_matrix(Ltest, y_predict))"
   ]
  },
  {
   "cell_type": "markdown",
   "id": "71f3ea86",
   "metadata": {},
   "source": [
    "# Logistic on Green channel data"
   ]
  },
  {
   "cell_type": "code",
   "execution_count": 65,
   "id": "28dad6b2",
   "metadata": {},
   "outputs": [
    {
     "data": {
      "text/plain": [
       "0.34912280701754383"
      ]
     },
     "execution_count": 65,
     "metadata": {},
     "output_type": "execute_result"
    }
   ],
   "source": [
    "model.fit(Ftrain,Ltrain)\n",
    "model.score(Ftest,Ltest)"
   ]
  },
  {
   "cell_type": "code",
   "execution_count": 66,
   "id": "fb6982d8",
   "metadata": {},
   "outputs": [
    {
     "name": "stdout",
     "output_type": "stream",
     "text": [
      "                               precision    recall  f1-score   support\n",
      "\n",
      "               bacterial_spot       0.32      0.45      0.38       124\n",
      "                 early_blight       0.29      0.31      0.30       114\n",
      "                      healthy       0.54      0.39      0.45       131\n",
      "                  late_blight       0.26      0.32      0.29       124\n",
      "                    leaf_mold       0.36      0.40      0.38       117\n",
      "           septoria_leaf_spot       0.38      0.39      0.38       114\n",
      "                  target_spot       0.27      0.18      0.22       111\n",
      "          tomato_mosaic_virus       0.28      0.08      0.13        60\n",
      "tomato_yellow_leaf_curl_virus       0.29      0.34      0.31       121\n",
      "      two-spotted_spider_mite       0.51      0.48      0.49       124\n",
      "\n",
      "                     accuracy                           0.35      1140\n",
      "                    macro avg       0.35      0.33      0.33      1140\n",
      "                 weighted avg       0.36      0.35      0.35      1140\n",
      "\n",
      "[[56 22  4 10  9  8  4  1  6  4]\n",
      " [22 35  4  8  9  3 15  0  7 11]\n",
      " [16 10 51 18  4  9  4  0 14  5]\n",
      " [13 16  8 40 16 11  6  0 12  2]\n",
      " [ 7  3  6 21 47 13  3  2  8  7]\n",
      " [ 4  3  8 19 12 44 10  2  8  4]\n",
      " [28 14  3  7  9  6 20  0 11 13]\n",
      " [ 2  1  3  9 10  8  1  5 19  2]\n",
      " [18  9  4 13 11  6  5  6 41  8]\n",
      " [ 8  7  4  9  5  8  7  2 15 59]]\n"
     ]
    }
   ],
   "source": [
    "y_predict = model.fit(Ftrain, Ltrain).predict(Ftest)\n",
    "class_names = target.unique()\n",
    "print(classification_report(Ltest, y_predict, target_names=class_names))\n",
    "print(confusion_matrix(Ltest, y_predict))"
   ]
  },
  {
   "cell_type": "markdown",
   "id": "f62f0223",
   "metadata": {},
   "source": [
    "# SVM on green channel data"
   ]
  },
  {
   "cell_type": "code",
   "execution_count": 67,
   "id": "e89e7297",
   "metadata": {},
   "outputs": [
    {
     "name": "stdout",
     "output_type": "stream",
     "text": [
      "0.4052631578947368\n"
     ]
    }
   ],
   "source": [
    "clf.fit(Ftrain,Ltrain)\n",
    "y_pred = clf.predict(Ftest)\n",
    "print(accuracy_score(Ltest,y_pred))"
   ]
  },
  {
   "cell_type": "code",
   "execution_count": 68,
   "id": "356165a0",
   "metadata": {},
   "outputs": [
    {
     "name": "stdout",
     "output_type": "stream",
     "text": [
      "                               precision    recall  f1-score   support\n",
      "\n",
      "               bacterial_spot       0.33      0.54      0.41       124\n",
      "                 early_blight       0.27      0.32      0.29       114\n",
      "                      healthy       0.62      0.47      0.54       131\n",
      "                  late_blight       0.31      0.35      0.33       124\n",
      "                    leaf_mold       0.51      0.50      0.51       117\n",
      "           septoria_leaf_spot       0.40      0.40      0.40       114\n",
      "                  target_spot       0.33      0.23      0.28       111\n",
      "          tomato_mosaic_virus       0.53      0.17      0.25        60\n",
      "tomato_yellow_leaf_curl_virus       0.40      0.45      0.42       121\n",
      "      two-spotted_spider_mite       0.59      0.47      0.52       124\n",
      "\n",
      "                     accuracy                           0.41      1140\n",
      "                    macro avg       0.43      0.39      0.39      1140\n",
      "                 weighted avg       0.43      0.41      0.40      1140\n",
      "\n",
      "[[67 24  5  5  3 11  1  0  7  1]\n",
      " [30 36  0  9  5  3 13  0  9  9]\n",
      " [19  7 62 12  3 11  2  1 10  4]\n",
      " [12 21  8 43 11 12  9  0  6  2]\n",
      " [ 8  5  5 18 59  9  3  1  6  3]\n",
      " [ 4  5  8 20 10 46 13  2  5  1]\n",
      " [31 11  3  5  7  4 26  0 11 13]\n",
      " [ 4  0  2  6  9  8  0 10 18  3]\n",
      " [15 12  5 12  5  5  4  4 55  4]\n",
      " [13 13  2  7  4  7  7  1 12 58]]\n"
     ]
    }
   ],
   "source": [
    "y_predict = clf.fit(Ftrain, Ltrain).predict(Ftest)\n",
    "class_names = target.unique()\n",
    "print(classification_report(Ltest, y_predict, target_names=class_names))\n",
    "print(confusion_matrix(Ltest, y_predict))"
   ]
  },
  {
   "cell_type": "markdown",
   "id": "4f8e565e",
   "metadata": {},
   "source": [
    "# Random Forest on green channel data"
   ]
  },
  {
   "cell_type": "code",
   "execution_count": 69,
   "id": "96c92f8f",
   "metadata": {},
   "outputs": [
    {
     "data": {
      "text/plain": [
       "0.40908093880236895"
      ]
     },
     "execution_count": 69,
     "metadata": {},
     "output_type": "execute_result"
    }
   ],
   "source": [
    "classifier_rf.fit(Ftrain, Ltrain)\n",
    "classifier_rf.oob_score_"
   ]
  },
  {
   "cell_type": "code",
   "execution_count": 70,
   "id": "b158d3b7",
   "metadata": {},
   "outputs": [
    {
     "name": "stdout",
     "output_type": "stream",
     "text": [
      "                               precision    recall  f1-score   support\n",
      "\n",
      "               bacterial_spot       0.41      0.64      0.50       124\n",
      "                 early_blight       0.26      0.18      0.21       114\n",
      "                      healthy       0.48      0.56      0.52       131\n",
      "                  late_blight       0.48      0.31      0.38       124\n",
      "                    leaf_mold       0.39      0.48      0.43       117\n",
      "           septoria_leaf_spot       0.49      0.59      0.53       114\n",
      "                  target_spot       0.30      0.51      0.38       111\n",
      "          tomato_mosaic_virus       0.00      0.00      0.00        60\n",
      "tomato_yellow_leaf_curl_virus       0.53      0.22      0.31       121\n",
      "      two-spotted_spider_mite       0.48      0.46      0.47       124\n",
      "\n",
      "                     accuracy                           0.42      1140\n",
      "                    macro avg       0.38      0.40      0.37      1140\n",
      "                 weighted avg       0.41      0.42      0.40      1140\n",
      "\n",
      "[[79  7 13  3 10  1  5  0  4  2]\n",
      " [44 20  3  2  8 10 20  0  3  4]\n",
      " [ 2  1 74 14  8  3 19  0  6  4]\n",
      " [11 10 13 39 12 23  6  0  1  9]\n",
      " [10  5 10  6 56 14 14  0  1  1]\n",
      " [ 3  2 10  8 10 67 10  0  0  4]\n",
      " [ 9  7  2  2  4  8 57  0  4 18]\n",
      " [ 3  1  7  5 14  3 14  0  5  8]\n",
      " [23 14 14  3 15  5  9  0 27 11]\n",
      " [ 8  9  7  0  6  3 34  0  0 57]]\n"
     ]
    },
    {
     "name": "stderr",
     "output_type": "stream",
     "text": [
      "C:\\Users\\ravic\\anaconda3\\lib\\site-packages\\sklearn\\metrics\\_classification.py:1248: UndefinedMetricWarning: Precision and F-score are ill-defined and being set to 0.0 in labels with no predicted samples. Use `zero_division` parameter to control this behavior.\n",
      "  _warn_prf(average, modifier, msg_start, len(result))\n",
      "C:\\Users\\ravic\\anaconda3\\lib\\site-packages\\sklearn\\metrics\\_classification.py:1248: UndefinedMetricWarning: Precision and F-score are ill-defined and being set to 0.0 in labels with no predicted samples. Use `zero_division` parameter to control this behavior.\n",
      "  _warn_prf(average, modifier, msg_start, len(result))\n",
      "C:\\Users\\ravic\\anaconda3\\lib\\site-packages\\sklearn\\metrics\\_classification.py:1248: UndefinedMetricWarning: Precision and F-score are ill-defined and being set to 0.0 in labels with no predicted samples. Use `zero_division` parameter to control this behavior.\n",
      "  _warn_prf(average, modifier, msg_start, len(result))\n"
     ]
    }
   ],
   "source": [
    "y_predict = classifier_rf.fit(Ftrain, Ltrain).predict(Ftest)\n",
    "class_names = target.unique()\n",
    "print(classification_report(Ltest, y_predict, target_names=class_names))\n",
    "print(confusion_matrix(Ltest, y_predict))"
   ]
  },
  {
   "cell_type": "markdown",
   "id": "e9b1cca9",
   "metadata": {},
   "source": [
    "# Naive bayes on Green channel data"
   ]
  },
  {
   "cell_type": "code",
   "execution_count": 71,
   "id": "1136802c",
   "metadata": {},
   "outputs": [
    {
     "data": {
      "text/plain": [
       "0.37719298245614036"
      ]
     },
     "execution_count": 71,
     "metadata": {},
     "output_type": "execute_result"
    }
   ],
   "source": [
    "gnb.fit(Ftrain, Ltrain)\n",
    "y_pred = gnb.predict(Ftest)\n",
    "metrics.accuracy_score(Ltest, y_pred)"
   ]
  },
  {
   "cell_type": "code",
   "execution_count": 72,
   "id": "cb4c448e",
   "metadata": {},
   "outputs": [
    {
     "name": "stdout",
     "output_type": "stream",
     "text": [
      "                               precision    recall  f1-score   support\n",
      "\n",
      "               bacterial_spot       0.48      0.69      0.57       124\n",
      "                 early_blight       0.38      0.36      0.37       114\n",
      "                      healthy       0.47      0.56      0.51       131\n",
      "                  late_blight       0.28      0.19      0.23       124\n",
      "                    leaf_mold       0.50      0.24      0.32       117\n",
      "           septoria_leaf_spot       0.38      0.48      0.42       114\n",
      "                  target_spot       0.42      0.32      0.36       111\n",
      "          tomato_mosaic_virus       0.21      0.48      0.29        60\n",
      "tomato_yellow_leaf_curl_virus       0.17      0.07      0.10       121\n",
      "      two-spotted_spider_mite       0.36      0.41      0.38       124\n",
      "\n",
      "                     accuracy                           0.38      1140\n",
      "                    macro avg       0.36      0.38      0.36      1140\n",
      "                 weighted avg       0.37      0.38      0.36      1140\n",
      "\n",
      "[[86  4 13  2  2  2  1  9  5  0]\n",
      " [24 41  0 18  3  5  8  4  3  8]\n",
      " [ 2  4 73  9  6  1 14  3  9 10]\n",
      " [ 2 23 19 24  2 19  6 23  1  5]\n",
      " [17  3  8 10 28 21  2 18  1  9]\n",
      " [ 2  2 14  6  5 55  7 11  2 10]\n",
      " [ 8 13  4 10  4  7 35  2  3 25]\n",
      " [ 5  0  4  1  4  4  0 29  7  6]\n",
      " [27 10 14  4  0 18  2 21  8 17]\n",
      " [ 6  9  6  1  2 13  8 20  8 51]]\n"
     ]
    }
   ],
   "source": [
    "class_names = target.unique()\n",
    "print(classification_report(Ltest, y_pred, target_names=class_names))\n",
    "print(confusion_matrix(Ltest, y_pred))"
   ]
  },
  {
   "cell_type": "markdown",
   "id": "5e2c336a",
   "metadata": {},
   "source": [
    "# Decision Tree on Green channel"
   ]
  },
  {
   "cell_type": "code",
   "execution_count": 73,
   "id": "11e8600c",
   "metadata": {},
   "outputs": [
    {
     "data": {
      "text/plain": [
       "0.2517543859649123"
      ]
     },
     "execution_count": 73,
     "metadata": {},
     "output_type": "execute_result"
    }
   ],
   "source": [
    "classifier_tree.fit(Ftrain, Ltrain)\n",
    "classifier_tree.score(Ftest,Ltest)"
   ]
  },
  {
   "cell_type": "code",
   "execution_count": 74,
   "id": "ef10f4f8",
   "metadata": {},
   "outputs": [
    {
     "name": "stdout",
     "output_type": "stream",
     "text": [
      "                               precision    recall  f1-score   support\n",
      "\n",
      "               bacterial_spot       0.36      0.40      0.38       124\n",
      "                 early_blight       0.17      0.18      0.17       114\n",
      "                      healthy       0.47      0.42      0.44       131\n",
      "                  late_blight       0.27      0.27      0.27       124\n",
      "                    leaf_mold       0.31      0.37      0.34       117\n",
      "           septoria_leaf_spot       0.33      0.30      0.31       114\n",
      "                  target_spot       0.15      0.15      0.15       111\n",
      "          tomato_mosaic_virus       0.08      0.08      0.08        60\n",
      "tomato_yellow_leaf_curl_virus       0.21      0.20      0.20       121\n",
      "      two-spotted_spider_mite       0.25      0.23      0.24       124\n",
      "\n",
      "                     accuracy                           0.27      1140\n",
      "                    macro avg       0.26      0.26      0.26      1140\n",
      "                 weighted avg       0.27      0.27      0.27      1140\n",
      "\n",
      "[[49 14  2 11 10  4  7  3 14 10]\n",
      " [23 20  9  9  9  5 11  4  9 15]\n",
      " [ 8  5 55  9 10 10 15  6  5  8]\n",
      " [ 9 13  9 33  9 17  9  7 11  7]\n",
      " [ 6  7  8 10 43  6  6  7 13 11]\n",
      " [ 0 12  7 14 13 34 10  9  7  8]\n",
      " [10 14  8 13 14 11 17  6 11  7]\n",
      " [ 1  7  5  9 12  5  5  5  6  5]\n",
      " [20 16  4  5  9  7 12 11 24 13]\n",
      " [10 12 11 11  8  3 18  8 15 28]]\n"
     ]
    }
   ],
   "source": [
    "y_predict = classifier_tree.fit(Ftrain, Ltrain).predict(Ftest)\n",
    "class_names = target.unique()\n",
    "print(classification_report(Ltest, y_predict, target_names=class_names))\n",
    "print(confusion_matrix(Ltest, y_predict))"
   ]
  },
  {
   "cell_type": "markdown",
   "id": "75817642",
   "metadata": {},
   "source": [
    "# KNN on blue channel data"
   ]
  },
  {
   "cell_type": "code",
   "execution_count": 75,
   "id": "531e3624",
   "metadata": {},
   "outputs": [
    {
     "data": {
      "text/plain": [
       "0.3192982456140351"
      ]
     },
     "execution_count": 75,
     "metadata": {},
     "output_type": "execute_result"
    }
   ],
   "source": [
    "#reading numpy array data\n",
    "blue_test = np.load('blue_data.npy')\n",
    "#reading csv file\n",
    "blue_df = pd.read_csv('blue_data.csv')\n",
    "loaded = []\n",
    "for i in gray_test:\n",
    "    k = []\n",
    "    k = np.asarray(i,dtype='uint8')\n",
    "    loaded.append(k)\n",
    "features = loaded\n",
    "target = blue_df['disease']\n",
    "Ftrain,Ftest,Ltrain,Ltest=train_test_split(features,target, test_size=0.20, random_state=20)\n",
    "Ftrain = scaler.fit_transform(Ftrain)\n",
    "Ftest = scaler.fit_transform(Ftest)\n",
    "kmodel.fit(Ftrain,Ltrain)\n",
    "kmodel.score(Ftest,Ltest)"
   ]
  },
  {
   "cell_type": "code",
   "execution_count": 76,
   "id": "db90e093",
   "metadata": {},
   "outputs": [
    {
     "name": "stdout",
     "output_type": "stream",
     "text": [
      "                               precision    recall  f1-score   support\n",
      "\n",
      "               bacterial_spot       0.22      0.74      0.35       124\n",
      "                 early_blight       0.00      0.00      0.00       114\n",
      "                      healthy       0.39      0.60      0.47       131\n",
      "                  late_blight       0.25      0.31      0.28       124\n",
      "                    leaf_mold       0.41      0.50      0.45       117\n",
      "           septoria_leaf_spot       0.47      0.39      0.42       114\n",
      "                  target_spot       0.22      0.04      0.06       111\n",
      "          tomato_mosaic_virus       0.00      0.00      0.00        60\n",
      "tomato_yellow_leaf_curl_virus       0.24      0.13      0.17       121\n",
      "      two-spotted_spider_mite       0.59      0.27      0.37       124\n",
      "\n",
      "                     accuracy                           0.32      1140\n",
      "                    macro avg       0.28      0.30      0.26      1140\n",
      "                 weighted avg       0.30      0.32      0.27      1140\n",
      "\n",
      "[[92  0 10 13  3  3  0  0  3  0]\n",
      " [73  0  7  2 14  4  2  0  8  4]\n",
      " [14  0 78 22  7  5  0  0  5  0]\n",
      " [29  0 20 39 14 11  1  0  7  3]\n",
      " [15  0 21 13 58  5  0  0  5  0]\n",
      " [11  0 19 21  9 44  1  0  5  4]\n",
      " [73  0 11  9  0  5  4  0  4  5]\n",
      " [ 7  0 10 14 12  4  0  0  8  5]\n",
      " [47  0 17 15 18  3  2  1 16  2]\n",
      " [48  0  7  5  7 10  8  0  6 33]]\n"
     ]
    },
    {
     "name": "stderr",
     "output_type": "stream",
     "text": [
      "C:\\Users\\ravic\\anaconda3\\lib\\site-packages\\sklearn\\metrics\\_classification.py:1248: UndefinedMetricWarning: Precision and F-score are ill-defined and being set to 0.0 in labels with no predicted samples. Use `zero_division` parameter to control this behavior.\n",
      "  _warn_prf(average, modifier, msg_start, len(result))\n",
      "C:\\Users\\ravic\\anaconda3\\lib\\site-packages\\sklearn\\metrics\\_classification.py:1248: UndefinedMetricWarning: Precision and F-score are ill-defined and being set to 0.0 in labels with no predicted samples. Use `zero_division` parameter to control this behavior.\n",
      "  _warn_prf(average, modifier, msg_start, len(result))\n",
      "C:\\Users\\ravic\\anaconda3\\lib\\site-packages\\sklearn\\metrics\\_classification.py:1248: UndefinedMetricWarning: Precision and F-score are ill-defined and being set to 0.0 in labels with no predicted samples. Use `zero_division` parameter to control this behavior.\n",
      "  _warn_prf(average, modifier, msg_start, len(result))\n"
     ]
    }
   ],
   "source": [
    "y_predict = kmodel.fit(Ftrain, Ltrain).predict(Ftest)\n",
    "class_names = target.unique()\n",
    "print(classification_report(Ltest, y_predict, target_names=class_names))\n",
    "print(confusion_matrix(Ltest, y_predict))"
   ]
  },
  {
   "cell_type": "markdown",
   "id": "f452a113",
   "metadata": {},
   "source": [
    "# logistic on blue channel data"
   ]
  },
  {
   "cell_type": "code",
   "execution_count": 77,
   "id": "de158586",
   "metadata": {},
   "outputs": [
    {
     "data": {
      "text/plain": [
       "0.35"
      ]
     },
     "execution_count": 77,
     "metadata": {},
     "output_type": "execute_result"
    }
   ],
   "source": [
    "model.fit(Ftrain,Ltrain)\n",
    "model.score(Ftest,Ltest)"
   ]
  },
  {
   "cell_type": "code",
   "execution_count": 78,
   "id": "43a10821",
   "metadata": {},
   "outputs": [
    {
     "name": "stdout",
     "output_type": "stream",
     "text": [
      "                               precision    recall  f1-score   support\n",
      "\n",
      "               bacterial_spot       0.34      0.45      0.39       124\n",
      "                 early_blight       0.28      0.30      0.29       114\n",
      "                      healthy       0.54      0.40      0.46       131\n",
      "                  late_blight       0.24      0.31      0.27       124\n",
      "                    leaf_mold       0.39      0.39      0.39       117\n",
      "           septoria_leaf_spot       0.36      0.32      0.34       114\n",
      "                  target_spot       0.29      0.20      0.24       111\n",
      "          tomato_mosaic_virus       0.37      0.17      0.23        60\n",
      "tomato_yellow_leaf_curl_virus       0.28      0.32      0.30       121\n",
      "      two-spotted_spider_mite       0.50      0.52      0.51       124\n",
      "\n",
      "                     accuracy                           0.35      1140\n",
      "                    macro avg       0.36      0.34      0.34      1140\n",
      "                 weighted avg       0.36      0.35      0.35      1140\n",
      "\n",
      "[[56 27  4 12 10  4  1  1  5  4]\n",
      " [24 34  3  9  7  4 13  0 10 10]\n",
      " [14  7 52 25  4  5  6  0 13  5]\n",
      " [14 17  8 39 14 12  7  0 11  2]\n",
      " [ 5  4  7 23 46 11  4  2  8  7]\n",
      " [ 4  3  7 22 12 37 11  4  8  6]\n",
      " [22 13  5  5  5  8 22  1 12 18]\n",
      " [ 3  1  2  7  8  7  0 10 20  2]\n",
      " [17 10  2 16  9  5  4  8 39 11]\n",
      " [ 6  7  6  6  4  9  8  1 13 64]]\n"
     ]
    }
   ],
   "source": [
    "y_predict = model.fit(Ftrain, Ltrain).predict(Ftest)\n",
    "class_names = target.unique()\n",
    "print(classification_report(Ltest, y_predict, target_names=class_names))\n",
    "print(confusion_matrix(Ltest, y_predict))"
   ]
  },
  {
   "cell_type": "markdown",
   "id": "c7585c1d",
   "metadata": {},
   "source": [
    "# SVM on blue channel data"
   ]
  },
  {
   "cell_type": "code",
   "execution_count": 79,
   "id": "06fb4a0f",
   "metadata": {},
   "outputs": [
    {
     "name": "stdout",
     "output_type": "stream",
     "text": [
      "0.4017543859649123\n"
     ]
    }
   ],
   "source": [
    "clf.fit(Ftrain,Ltrain)\n",
    "y_pred = clf.predict(Ftest)\n",
    "print(accuracy_score(Ltest,y_pred))"
   ]
  },
  {
   "cell_type": "code",
   "execution_count": 80,
   "id": "31601cac",
   "metadata": {},
   "outputs": [
    {
     "name": "stdout",
     "output_type": "stream",
     "text": [
      "                               precision    recall  f1-score   support\n",
      "\n",
      "               bacterial_spot       0.34      0.52      0.42       124\n",
      "                 early_blight       0.29      0.33      0.31       114\n",
      "                      healthy       0.61      0.47      0.53       131\n",
      "                  late_blight       0.32      0.35      0.33       124\n",
      "                    leaf_mold       0.47      0.45      0.46       117\n",
      "           septoria_leaf_spot       0.42      0.39      0.40       114\n",
      "                  target_spot       0.31      0.26      0.28       111\n",
      "          tomato_mosaic_virus       0.48      0.22      0.30        60\n",
      "tomato_yellow_leaf_curl_virus       0.35      0.39      0.37       121\n",
      "      two-spotted_spider_mite       0.58      0.52      0.55       124\n",
      "\n",
      "                     accuracy                           0.40      1140\n",
      "                    macro avg       0.42      0.39      0.40      1140\n",
      "                 weighted avg       0.42      0.40      0.40      1140\n",
      "\n",
      "[[65 22  3 10  4  9  1  0  9  1]\n",
      " [24 38  2  5  5  0 19  0 12  9]\n",
      " [22  4 62 12  4 11  3  0 10  3]\n",
      " [13 19 11 43 10 11  8  0  8  1]\n",
      " [ 7  6  6 23 53  9  3  1  4  5]\n",
      " [ 5  5  7 17 11 44 14  5  4  2]\n",
      " [26 15  2  2  7  3 29  0 12 15]\n",
      " [ 2  0  0  5  8  7  0 13 21  4]\n",
      " [16 14  4 14  7  4  5  4 47  6]\n",
      " [ 9  8  4  5  3  6 13  4  8 64]]\n"
     ]
    }
   ],
   "source": [
    "y_predict = clf.fit(Ftrain, Ltrain).predict(Ftest)\n",
    "class_names = target.unique()\n",
    "print(classification_report(Ltest, y_predict, target_names=class_names))\n",
    "print(confusion_matrix(Ltest, y_predict))"
   ]
  },
  {
   "cell_type": "markdown",
   "id": "f4eb8c6c",
   "metadata": {},
   "source": [
    "# Random Forest on blue channel data"
   ]
  },
  {
   "cell_type": "code",
   "execution_count": 81,
   "id": "b71407b2",
   "metadata": {},
   "outputs": [
    {
     "data": {
      "text/plain": [
       "0.42070629524018427"
      ]
     },
     "execution_count": 81,
     "metadata": {},
     "output_type": "execute_result"
    }
   ],
   "source": [
    "classifier_rf.fit(Ftrain, Ltrain)\n",
    "classifier_rf.oob_score_"
   ]
  },
  {
   "cell_type": "code",
   "execution_count": 82,
   "id": "f3cf2295",
   "metadata": {},
   "outputs": [
    {
     "name": "stdout",
     "output_type": "stream",
     "text": [
      "                               precision    recall  f1-score   support\n",
      "\n",
      "               bacterial_spot       0.41      0.62      0.50       124\n",
      "                 early_blight       0.34      0.15      0.21       114\n",
      "                      healthy       0.49      0.53      0.51       131\n",
      "                  late_blight       0.49      0.30      0.37       124\n",
      "                    leaf_mold       0.46      0.55      0.50       117\n",
      "           septoria_leaf_spot       0.53      0.57      0.55       114\n",
      "                  target_spot       0.35      0.55      0.43       111\n",
      "          tomato_mosaic_virus       0.00      0.00      0.00        60\n",
      "tomato_yellow_leaf_curl_virus       0.33      0.26      0.29       121\n",
      "      two-spotted_spider_mite       0.45      0.55      0.50       124\n",
      "\n",
      "                     accuracy                           0.43      1140\n",
      "                    macro avg       0.38      0.41      0.38      1140\n",
      "                 weighted avg       0.41      0.43      0.41      1140\n",
      "\n",
      "[[77  6 11  5  5  0  4  0 13  3]\n",
      " [42 17  3  1  8 13 20  0  5  5]\n",
      " [ 1  0 70 12  9  3 15  0  8 13]\n",
      " [ 9 11 16 37 14 19 10  0  4  4]\n",
      " [ 9  1  9  2 64  3 18  0  6  5]\n",
      " [ 3  1 10  7 10 65  4  0  6  8]\n",
      " [11  3  6  1  2  7 61  0  2 18]\n",
      " [ 3  0  4  3 11  7  6  0 12 14]\n",
      " [28  7  8  8 12  4 10  0 32 12]\n",
      " [ 4  4  6  0  3  2 27  0 10 68]]\n"
     ]
    },
    {
     "name": "stderr",
     "output_type": "stream",
     "text": [
      "C:\\Users\\ravic\\anaconda3\\lib\\site-packages\\sklearn\\metrics\\_classification.py:1248: UndefinedMetricWarning: Precision and F-score are ill-defined and being set to 0.0 in labels with no predicted samples. Use `zero_division` parameter to control this behavior.\n",
      "  _warn_prf(average, modifier, msg_start, len(result))\n",
      "C:\\Users\\ravic\\anaconda3\\lib\\site-packages\\sklearn\\metrics\\_classification.py:1248: UndefinedMetricWarning: Precision and F-score are ill-defined and being set to 0.0 in labels with no predicted samples. Use `zero_division` parameter to control this behavior.\n",
      "  _warn_prf(average, modifier, msg_start, len(result))\n",
      "C:\\Users\\ravic\\anaconda3\\lib\\site-packages\\sklearn\\metrics\\_classification.py:1248: UndefinedMetricWarning: Precision and F-score are ill-defined and being set to 0.0 in labels with no predicted samples. Use `zero_division` parameter to control this behavior.\n",
      "  _warn_prf(average, modifier, msg_start, len(result))\n"
     ]
    }
   ],
   "source": [
    "y_predict = classifier_rf.fit(Ftrain, Ltrain).predict(Ftest)\n",
    "class_names = target.unique()\n",
    "print(classification_report(Ltest, y_predict, target_names=class_names))\n",
    "print(confusion_matrix(Ltest, y_predict))"
   ]
  },
  {
   "cell_type": "markdown",
   "id": "fb1ca20e",
   "metadata": {},
   "source": [
    "# Naive bayes on blue channel data"
   ]
  },
  {
   "cell_type": "code",
   "execution_count": 83,
   "id": "11ea0b85",
   "metadata": {},
   "outputs": [
    {
     "data": {
      "text/plain": [
       "0.393859649122807"
      ]
     },
     "execution_count": 83,
     "metadata": {},
     "output_type": "execute_result"
    }
   ],
   "source": [
    "gnb.fit(Ftrain, Ltrain)\n",
    "y_pred = gnb.predict(Ftest)\n",
    "metrics.accuracy_score(Ltest, y_pred)"
   ]
  },
  {
   "cell_type": "code",
   "execution_count": 84,
   "id": "0743881e",
   "metadata": {},
   "outputs": [
    {
     "name": "stdout",
     "output_type": "stream",
     "text": [
      "                               precision    recall  f1-score   support\n",
      "\n",
      "               bacterial_spot       0.48      0.70      0.57       124\n",
      "                 early_blight       0.35      0.32      0.33       114\n",
      "                      healthy       0.43      0.55      0.48       131\n",
      "                  late_blight       0.32      0.20      0.25       124\n",
      "                    leaf_mold       0.62      0.30      0.40       117\n",
      "           septoria_leaf_spot       0.41      0.48      0.44       114\n",
      "                  target_spot       0.40      0.34      0.37       111\n",
      "          tomato_mosaic_virus       0.25      0.55      0.34        60\n",
      "tomato_yellow_leaf_curl_virus       0.28      0.11      0.15       121\n",
      "      two-spotted_spider_mite       0.38      0.44      0.41       124\n",
      "\n",
      "                     accuracy                           0.39      1140\n",
      "                    macro avg       0.39      0.40      0.38      1140\n",
      "                 weighted avg       0.40      0.39      0.38      1140\n",
      "\n",
      "[[87  5 16  2  0  2  3  6  3  0]\n",
      " [27 37  0 18  6  5 10  0  3  8]\n",
      " [ 4  5 72  9  6  3 13  3 10  6]\n",
      " [ 1 23 26 25  3 19  5 17  1  4]\n",
      " [15  3  8  8 35 21  3 13  2  9]\n",
      " [ 3  4 17  5  1 55  9  8  2 10]\n",
      " [ 6 14  4  8  2  7 38  2  2 28]\n",
      " [ 6  0  3  0  2  5  0 33  4  7]\n",
      " [29  9 16  4  0  5  3 27 13 15]\n",
      " [ 4  7  4  0  1 12 11 24  7 54]]\n"
     ]
    }
   ],
   "source": [
    "class_names = target.unique()\n",
    "print(classification_report(Ltest, y_pred, target_names=class_names))\n",
    "print(confusion_matrix(Ltest, y_pred))"
   ]
  },
  {
   "cell_type": "markdown",
   "id": "a9f61b1f",
   "metadata": {},
   "source": [
    "# Decision Tree on Blue channel"
   ]
  },
  {
   "cell_type": "code",
   "execution_count": 85,
   "id": "abc489d3",
   "metadata": {},
   "outputs": [
    {
     "data": {
      "text/plain": [
       "0.2771929824561403"
      ]
     },
     "execution_count": 85,
     "metadata": {},
     "output_type": "execute_result"
    }
   ],
   "source": [
    "classifier_tree.fit(Ftrain, Ltrain)\n",
    "classifier_tree.score(Ftest,Ltest)"
   ]
  },
  {
   "cell_type": "code",
   "execution_count": 86,
   "id": "7047e0bb",
   "metadata": {},
   "outputs": [
    {
     "name": "stdout",
     "output_type": "stream",
     "text": [
      "                               precision    recall  f1-score   support\n",
      "\n",
      "               bacterial_spot       0.41      0.42      0.42       124\n",
      "                 early_blight       0.22      0.22      0.22       114\n",
      "                      healthy       0.39      0.29      0.33       131\n",
      "                  late_blight       0.25      0.27      0.26       124\n",
      "                    leaf_mold       0.36      0.32      0.34       117\n",
      "           septoria_leaf_spot       0.30      0.28      0.29       114\n",
      "                  target_spot       0.21      0.22      0.21       111\n",
      "          tomato_mosaic_virus       0.14      0.12      0.13        60\n",
      "tomato_yellow_leaf_curl_virus       0.15      0.19      0.17       121\n",
      "      two-spotted_spider_mite       0.32      0.37      0.34       124\n",
      "\n",
      "                     accuracy                           0.28      1140\n",
      "                    macro avg       0.28      0.27      0.27      1140\n",
      "                 weighted avg       0.28      0.28      0.28      1140\n",
      "\n",
      "[[52 13  4  9 12  4  4  4 12 10]\n",
      " [18 25  4 11  4  3 13  7 14 15]\n",
      " [ 7  4 38 21  7 15  9  3 15 12]\n",
      " [ 9  7  6 33  8 14  9  4 18 16]\n",
      " [ 4 11  7  8 38 11 10  5 14  9]\n",
      " [ 4 11  6 16 12 32  9  4 13  7]\n",
      " [ 8 16  9  7  5 10 24  4 17 11]\n",
      " [ 4  4  1 11  2  7  7  7  8  9]\n",
      " [13 14 13 13 10  9  8  8 23 10]\n",
      " [ 7  7 10  4  7  2 20  4 17 46]]\n"
     ]
    }
   ],
   "source": [
    "y_predict = classifier_tree.fit(Ftrain, Ltrain).predict(Ftest)\n",
    "class_names = target.unique()\n",
    "print(classification_report(Ltest, y_predict, target_names=class_names))\n",
    "print(confusion_matrix(Ltest, y_predict))"
   ]
  },
  {
   "cell_type": "code",
   "execution_count": 87,
   "id": "373a6138",
   "metadata": {},
   "outputs": [
    {
     "name": "stdout",
     "output_type": "stream",
     "text": [
      "32015.804406881332\n"
     ]
    }
   ],
   "source": [
    "end_time = time.time()\n",
    "print(end_time - start_time)"
   ]
  }
 ],
 "metadata": {
  "kernelspec": {
   "display_name": "Python 3 (ipykernel)",
   "language": "python",
   "name": "python3"
  },
  "language_info": {
   "codemirror_mode": {
    "name": "ipython",
    "version": 3
   },
   "file_extension": ".py",
   "mimetype": "text/x-python",
   "name": "python",
   "nbconvert_exporter": "python",
   "pygments_lexer": "ipython3",
   "version": "3.9.7"
  }
 },
 "nbformat": 4,
 "nbformat_minor": 5
}
