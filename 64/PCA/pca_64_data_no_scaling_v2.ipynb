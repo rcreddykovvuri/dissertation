{
 "cells": [
  {
   "cell_type": "code",
   "execution_count": 1,
   "id": "bcdb1517",
   "metadata": {},
   "outputs": [],
   "source": [
    "import numpy as np #importing numpy\n",
    "import pandas as pd #importing pandas\n",
    "import PIL #importing pillow for image processing\n",
    "from PIL import Image#importing image from pillow library\n",
    "import skimage#importing skimage library\n",
    "import os#importing os library\n",
    "import time#importing time library\n",
    "\n",
    "#Capture start time of the program\n",
    "start_time = time.time()"
   ]
  },
  {
   "cell_type": "markdown",
   "id": "e1e76605",
   "metadata": {},
   "source": [
    "# RGB Data"
   ]
  },
  {
   "cell_type": "code",
   "execution_count": 2,
   "id": "c9d1dd08",
   "metadata": {},
   "outputs": [],
   "source": [
    "os.chdir('D://DKIT//dissertation//Dataset_of_Tomato_Leaves//plantvillage//Preprocessed_data//64//PCA//')\n",
    "features = pd.read_csv('rgb.csv')\n",
    "#changing path\n",
    "os.chdir('D://DKIT//dissertation//Dataset_of_Tomato_Leaves//plantvillage//Preprocessed_data//64//vector//')\n",
    "#reading csv file\n",
    "rgb_df = pd.read_csv('rgb_data.csv')\n",
    "features = features.values"
   ]
  },
  {
   "cell_type": "code",
   "execution_count": 3,
   "id": "c6d5658c",
   "metadata": {},
   "outputs": [],
   "source": [
    "#assigning target\n",
    "target = rgb_df['disease']\n",
    "#splitting the data to 80 percent and 20 percent\n",
    "from sklearn.model_selection import train_test_split\n",
    "Ftrain,Ftest,Ltrain,Ltest=train_test_split(features,target, test_size=0.20, random_state=24)"
   ]
  },
  {
   "cell_type": "code",
   "execution_count": 4,
   "id": "1fa0433e",
   "metadata": {},
   "outputs": [],
   "source": [
    "#importing classification report and confusion matrix\n",
    "from sklearn.metrics import classification_report, confusion_matrix"
   ]
  },
  {
   "cell_type": "markdown",
   "id": "d466ef5f",
   "metadata": {},
   "source": [
    "# SVM(poly) on RGB data"
   ]
  },
  {
   "cell_type": "code",
   "execution_count": 5,
   "id": "2427ed51",
   "metadata": {},
   "outputs": [
    {
     "name": "stdout",
     "output_type": "stream",
     "text": [
      "0.586859305125559\n"
     ]
    }
   ],
   "source": [
    "from sklearn.svm import SVC\n",
    "from sklearn.metrics import accuracy_score\n",
    "\n",
    "svm_poly = SVC(kernel='poly')\n",
    "svm_poly.fit(Ftrain,Ltrain)\n",
    "y_pred = svm_poly.predict(Ftest)\n",
    "print(accuracy_score(Ltest,y_pred))"
   ]
  },
  {
   "cell_type": "code",
   "execution_count": 6,
   "id": "bf286604",
   "metadata": {},
   "outputs": [
    {
     "name": "stdout",
     "output_type": "stream",
     "text": [
      "                               precision    recall  f1-score   support\n",
      "\n",
      "               bacterial_spot       0.41      0.74      0.53       345\n",
      "                 early_blight       0.52      0.08      0.14       153\n",
      "                      healthy       0.66      0.67      0.66       234\n",
      "                  late_blight       0.63      0.34      0.44       309\n",
      "                    leaf_mold       0.62      0.21      0.31       145\n",
      "           septoria_leaf_spot       0.45      0.44      0.45       293\n",
      "                  target_spot       0.46      0.40      0.43       240\n",
      "          tomato_mosaic_virus       0.00      0.00      0.00        54\n",
      "tomato_yellow_leaf_curl_virus       0.79      0.91      0.85       854\n",
      "      two-spotted_spider_mite       0.45      0.50      0.47       280\n",
      "\n",
      "                     accuracy                           0.59      2907\n",
      "                    macro avg       0.50      0.43      0.43      2907\n",
      "                 weighted avg       0.58      0.59      0.56      2907\n",
      "\n",
      "[[256   2   1   2   0  11   3   0  58  12]\n",
      " [ 60  12   2   6   3   8  18   0  19  25]\n",
      " [ 39   0 156  18   4   8   8   0   0   1]\n",
      " [ 40   2  37 106   5  47  21   0  36  15]\n",
      " [ 29   3  17   8  30  25  17   0   6  10]\n",
      " [ 38   0  15  16   2 130  22   0  43  27]\n",
      " [ 54   2   3   5   3  16  97   0   2  58]\n",
      " [ 25   0   5   1   0  11   1   0   1  10]\n",
      " [ 42   0   1   2   0  14   1   0 779  15]\n",
      " [ 46   2   1   4   1  18  23   0  45 140]]\n"
     ]
    },
    {
     "name": "stderr",
     "output_type": "stream",
     "text": [
      "C:\\Users\\ravic\\anaconda3\\lib\\site-packages\\sklearn\\metrics\\_classification.py:1248: UndefinedMetricWarning: Precision and F-score are ill-defined and being set to 0.0 in labels with no predicted samples. Use `zero_division` parameter to control this behavior.\n",
      "  _warn_prf(average, modifier, msg_start, len(result))\n",
      "C:\\Users\\ravic\\anaconda3\\lib\\site-packages\\sklearn\\metrics\\_classification.py:1248: UndefinedMetricWarning: Precision and F-score are ill-defined and being set to 0.0 in labels with no predicted samples. Use `zero_division` parameter to control this behavior.\n",
      "  _warn_prf(average, modifier, msg_start, len(result))\n",
      "C:\\Users\\ravic\\anaconda3\\lib\\site-packages\\sklearn\\metrics\\_classification.py:1248: UndefinedMetricWarning: Precision and F-score are ill-defined and being set to 0.0 in labels with no predicted samples. Use `zero_division` parameter to control this behavior.\n",
      "  _warn_prf(average, modifier, msg_start, len(result))\n"
     ]
    }
   ],
   "source": [
    "#classification report\n",
    "y_predict = svm_poly.fit(Ftrain, Ltrain).predict(Ftest)\n",
    "class_names = target.unique()\n",
    "print(classification_report(Ltest, y_predict, target_names=class_names))\n",
    "print(confusion_matrix(Ltest, y_predict))"
   ]
  },
  {
   "cell_type": "markdown",
   "id": "4101cb88",
   "metadata": {},
   "source": [
    "# SVM(RBF) on RGB data"
   ]
  },
  {
   "cell_type": "code",
   "execution_count": 7,
   "id": "235aaf3a",
   "metadata": {},
   "outputs": [
    {
     "name": "stdout",
     "output_type": "stream",
     "text": [
      "0.6501547987616099\n"
     ]
    }
   ],
   "source": [
    "svm_rbf = SVC(kernel='rbf')\n",
    "svm_rbf.fit(Ftrain,Ltrain)\n",
    "y_pred = svm_rbf.predict(Ftest)\n",
    "print(accuracy_score(Ltest,y_pred))"
   ]
  },
  {
   "cell_type": "code",
   "execution_count": 8,
   "id": "1c7ce3a6",
   "metadata": {},
   "outputs": [
    {
     "name": "stdout",
     "output_type": "stream",
     "text": [
      "                               precision    recall  f1-score   support\n",
      "\n",
      "               bacterial_spot       0.60      0.67      0.63       345\n",
      "                 early_blight       0.59      0.19      0.29       153\n",
      "                      healthy       0.66      0.87      0.75       234\n",
      "                  late_blight       0.62      0.45      0.52       309\n",
      "                    leaf_mold       0.62      0.31      0.41       145\n",
      "           septoria_leaf_spot       0.55      0.51      0.53       293\n",
      "                  target_spot       0.51      0.65      0.57       240\n",
      "          tomato_mosaic_virus       1.00      0.02      0.04        54\n",
      "tomato_yellow_leaf_curl_virus       0.79      0.92      0.85       854\n",
      "      two-spotted_spider_mite       0.52      0.55      0.53       280\n",
      "\n",
      "                     accuracy                           0.65      2907\n",
      "                    macro avg       0.65      0.51      0.51      2907\n",
      "                 weighted avg       0.65      0.65      0.63      2907\n",
      "\n",
      "[[230   5   5  11   2   5   8   0  66  13]\n",
      " [ 48  29   1  10   2   7  15   0  22  19]\n",
      " [  2   1 204   9   5   2  10   0   0   1]\n",
      " [ 20   7  37 139   7  35  16   0  33  15]\n",
      " [ 14   2  16  14  45  11  26   0   7  10]\n",
      " [  6   0  20  25   5 150  28   0  37  22]\n",
      " [ 15   2   9   5   6  10 156   0   4  33]\n",
      " [  6   0  10   1   1  16  10   1   0   9]\n",
      " [ 27   0   1   5   0  14   2   0 782  23]\n",
      " [ 16   3   4   5   0  23  32   0  43 154]]\n"
     ]
    }
   ],
   "source": [
    "#classification report\n",
    "y_predict = svm_rbf.fit(Ftrain, Ltrain).predict(Ftest)\n",
    "class_names = target.unique()\n",
    "print(classification_report(Ltest, y_predict, target_names=class_names))\n",
    "print(confusion_matrix(Ltest, y_predict))"
   ]
  },
  {
   "cell_type": "markdown",
   "id": "670ea3cc",
   "metadata": {},
   "source": [
    "# SVM(sigmoid) on RGB data"
   ]
  },
  {
   "cell_type": "code",
   "execution_count": 9,
   "id": "8aaf1a20",
   "metadata": {},
   "outputs": [
    {
     "name": "stdout",
     "output_type": "stream",
     "text": [
      "0.37495700034399726\n"
     ]
    }
   ],
   "source": [
    "svm_si = SVC(kernel='sigmoid')\n",
    "svm_si.fit(Ftrain,Ltrain)\n",
    "y_pred = svm_si.predict(Ftest)\n",
    "print(accuracy_score(Ltest,y_pred))"
   ]
  },
  {
   "cell_type": "code",
   "execution_count": 10,
   "id": "9beeb8fa",
   "metadata": {},
   "outputs": [
    {
     "name": "stdout",
     "output_type": "stream",
     "text": [
      "                               precision    recall  f1-score   support\n",
      "\n",
      "               bacterial_spot       0.38      0.46      0.41       345\n",
      "                 early_blight       0.08      0.12      0.10       153\n",
      "                      healthy       0.30      0.24      0.27       234\n",
      "                  late_blight       0.17      0.30      0.22       309\n",
      "                    leaf_mold       0.09      0.02      0.03       145\n",
      "           septoria_leaf_spot       0.19      0.31      0.24       293\n",
      "                  target_spot       0.28      0.09      0.13       240\n",
      "          tomato_mosaic_virus       0.00      0.00      0.00        54\n",
      "tomato_yellow_leaf_curl_virus       0.79      0.71      0.75       854\n",
      "      two-spotted_spider_mite       0.23      0.15      0.18       280\n",
      "\n",
      "                     accuracy                           0.37      2907\n",
      "                    macro avg       0.25      0.24      0.23      2907\n",
      "                 weighted avg       0.39      0.37      0.37      2907\n",
      "\n",
      "[[158  58   3  80   2  11   4   0  24   5]\n",
      " [ 50  18   4  22   9  26   3   0   9  12]\n",
      " [ 12   2  56 139   3  18   2   0   1   1]\n",
      " [ 45  15  64  94   4  40   8   1  21  17]\n",
      " [  7  10  25  47   3  29  11   0   7   6]\n",
      " [  9   9  20  48   3  92  12   0  56  44]\n",
      " [ 20  35   8  44   7  74  21   0   2  29]\n",
      " [  1   6   2  14   1  25   2   0   1   2]\n",
      " [ 77  38   0  39   0  68   1   0 607  24]\n",
      " [ 41  24   3  14   1 106  10   0  40  41]]\n"
     ]
    }
   ],
   "source": [
    "#classification report\n",
    "y_predict = svm_si.fit(Ftrain, Ltrain).predict(Ftest)\n",
    "class_names = target.unique()\n",
    "print(classification_report(Ltest, y_predict, target_names=class_names))\n",
    "print(confusion_matrix(Ltest, y_predict))"
   ]
  },
  {
   "cell_type": "markdown",
   "id": "f985c500",
   "metadata": {},
   "source": [
    "# Bernouli Naive bayes on RGB data"
   ]
  },
  {
   "cell_type": "code",
   "execution_count": 11,
   "id": "75a3f18f",
   "metadata": {},
   "outputs": [
    {
     "data": {
      "text/plain": [
       "0.43550051599587203"
      ]
     },
     "execution_count": 11,
     "metadata": {},
     "output_type": "execute_result"
    }
   ],
   "source": [
    "from sklearn.naive_bayes import BernoulliNB\n",
    "from sklearn import metrics\n",
    "bnb = BernoulliNB()\n",
    "bnb.fit(Ftrain, Ltrain)\n",
    "y_pred = bnb.predict(Ftest)\n",
    "metrics.accuracy_score(Ltest, y_pred)"
   ]
  },
  {
   "cell_type": "code",
   "execution_count": 12,
   "id": "694c01aa",
   "metadata": {},
   "outputs": [
    {
     "name": "stdout",
     "output_type": "stream",
     "text": [
      "                               precision    recall  f1-score   support\n",
      "\n",
      "               bacterial_spot       0.45      0.63      0.53       345\n",
      "                 early_blight       0.00      0.00      0.00       153\n",
      "                      healthy       0.39      0.71      0.50       234\n",
      "                  late_blight       0.27      0.08      0.13       309\n",
      "                    leaf_mold       0.00      0.00      0.00       145\n",
      "           septoria_leaf_spot       0.27      0.20      0.23       293\n",
      "                  target_spot       0.26      0.40      0.31       240\n",
      "          tomato_mosaic_virus       0.00      0.00      0.00        54\n",
      "tomato_yellow_leaf_curl_virus       0.65      0.69      0.67       854\n",
      "      two-spotted_spider_mite       0.27      0.40      0.32       280\n",
      "\n",
      "                     accuracy                           0.44      2907\n",
      "                    macro avg       0.26      0.31      0.27      2907\n",
      "                 weighted avg       0.38      0.44      0.39      2907\n",
      "\n",
      "[[218   0  15  14   0   9   4   0  54  31]\n",
      " [ 53   0  14   0   0   8  21   0  21  36]\n",
      " [  2   0 165  24   0   3  34   0   6   0]\n",
      " [ 29   0  91  26   0  25  34   0  78  26]\n",
      " [ 11   0  62   0   0  15  29   0  15  13]\n",
      " [  4   0  16  19   0  59  73   0  86  36]\n",
      " [ 27   0  40   0   0  25  95   0   2  51]\n",
      " [  5   0  14   0   0   9  15   0   5   6]\n",
      " [108   0   2  14   0  40   4   0 592  94]\n",
      " [ 24   0   6   0   0  25  63   0  51 111]]\n"
     ]
    },
    {
     "name": "stderr",
     "output_type": "stream",
     "text": [
      "C:\\Users\\ravic\\anaconda3\\lib\\site-packages\\sklearn\\metrics\\_classification.py:1248: UndefinedMetricWarning: Precision and F-score are ill-defined and being set to 0.0 in labels with no predicted samples. Use `zero_division` parameter to control this behavior.\n",
      "  _warn_prf(average, modifier, msg_start, len(result))\n",
      "C:\\Users\\ravic\\anaconda3\\lib\\site-packages\\sklearn\\metrics\\_classification.py:1248: UndefinedMetricWarning: Precision and F-score are ill-defined and being set to 0.0 in labels with no predicted samples. Use `zero_division` parameter to control this behavior.\n",
      "  _warn_prf(average, modifier, msg_start, len(result))\n",
      "C:\\Users\\ravic\\anaconda3\\lib\\site-packages\\sklearn\\metrics\\_classification.py:1248: UndefinedMetricWarning: Precision and F-score are ill-defined and being set to 0.0 in labels with no predicted samples. Use `zero_division` parameter to control this behavior.\n",
      "  _warn_prf(average, modifier, msg_start, len(result))\n"
     ]
    }
   ],
   "source": [
    "class_names = target.unique()\n",
    "print(classification_report(Ltest, y_pred, target_names=class_names))\n",
    "print(confusion_matrix(Ltest, y_pred))"
   ]
  },
  {
   "cell_type": "markdown",
   "id": "67dd930c",
   "metadata": {},
   "source": [
    "# Multinomial Naive bayes on RGB data"
   ]
  },
  {
   "cell_type": "code",
   "execution_count": 13,
   "id": "3b80acde",
   "metadata": {},
   "outputs": [
    {
     "data": {
      "text/plain": [
       "0.43550051599587203"
      ]
     },
     "execution_count": 13,
     "metadata": {},
     "output_type": "execute_result"
    }
   ],
   "source": [
    "from sklearn.naive_bayes import MultinomialNB\n",
    "mnb = BernoulliNB()\n",
    "mnb.fit(Ftrain, Ltrain)\n",
    "y_pred = mnb.predict(Ftest)\n",
    "metrics.accuracy_score(Ltest, y_pred)"
   ]
  },
  {
   "cell_type": "code",
   "execution_count": 14,
   "id": "d6ed705b",
   "metadata": {},
   "outputs": [
    {
     "name": "stdout",
     "output_type": "stream",
     "text": [
      "                               precision    recall  f1-score   support\n",
      "\n",
      "               bacterial_spot       0.45      0.63      0.53       345\n",
      "                 early_blight       0.00      0.00      0.00       153\n",
      "                      healthy       0.39      0.71      0.50       234\n",
      "                  late_blight       0.27      0.08      0.13       309\n",
      "                    leaf_mold       0.00      0.00      0.00       145\n",
      "           septoria_leaf_spot       0.27      0.20      0.23       293\n",
      "                  target_spot       0.26      0.40      0.31       240\n",
      "          tomato_mosaic_virus       0.00      0.00      0.00        54\n",
      "tomato_yellow_leaf_curl_virus       0.65      0.69      0.67       854\n",
      "      two-spotted_spider_mite       0.27      0.40      0.32       280\n",
      "\n",
      "                     accuracy                           0.44      2907\n",
      "                    macro avg       0.26      0.31      0.27      2907\n",
      "                 weighted avg       0.38      0.44      0.39      2907\n",
      "\n",
      "[[218   0  15  14   0   9   4   0  54  31]\n",
      " [ 53   0  14   0   0   8  21   0  21  36]\n",
      " [  2   0 165  24   0   3  34   0   6   0]\n",
      " [ 29   0  91  26   0  25  34   0  78  26]\n",
      " [ 11   0  62   0   0  15  29   0  15  13]\n",
      " [  4   0  16  19   0  59  73   0  86  36]\n",
      " [ 27   0  40   0   0  25  95   0   2  51]\n",
      " [  5   0  14   0   0   9  15   0   5   6]\n",
      " [108   0   2  14   0  40   4   0 592  94]\n",
      " [ 24   0   6   0   0  25  63   0  51 111]]\n"
     ]
    },
    {
     "name": "stderr",
     "output_type": "stream",
     "text": [
      "C:\\Users\\ravic\\anaconda3\\lib\\site-packages\\sklearn\\metrics\\_classification.py:1248: UndefinedMetricWarning: Precision and F-score are ill-defined and being set to 0.0 in labels with no predicted samples. Use `zero_division` parameter to control this behavior.\n",
      "  _warn_prf(average, modifier, msg_start, len(result))\n",
      "C:\\Users\\ravic\\anaconda3\\lib\\site-packages\\sklearn\\metrics\\_classification.py:1248: UndefinedMetricWarning: Precision and F-score are ill-defined and being set to 0.0 in labels with no predicted samples. Use `zero_division` parameter to control this behavior.\n",
      "  _warn_prf(average, modifier, msg_start, len(result))\n",
      "C:\\Users\\ravic\\anaconda3\\lib\\site-packages\\sklearn\\metrics\\_classification.py:1248: UndefinedMetricWarning: Precision and F-score are ill-defined and being set to 0.0 in labels with no predicted samples. Use `zero_division` parameter to control this behavior.\n",
      "  _warn_prf(average, modifier, msg_start, len(result))\n"
     ]
    }
   ],
   "source": [
    "class_names = target.unique()\n",
    "print(classification_report(Ltest, y_pred, target_names=class_names))\n",
    "print(confusion_matrix(Ltest, y_pred))"
   ]
  },
  {
   "cell_type": "markdown",
   "id": "0e8f617d",
   "metadata": {},
   "source": [
    "# Grayscale data"
   ]
  },
  {
   "cell_type": "code",
   "execution_count": 15,
   "id": "57a9845e",
   "metadata": {},
   "outputs": [],
   "source": [
    "os.chdir('D://DKIT//dissertation//Dataset_of_Tomato_Leaves//plantvillage//Preprocessed_data//64//PCA//')\n",
    "features = pd.read_csv('gray.csv')\n",
    "#changing path\n",
    "os.chdir('D://DKIT//dissertation//Dataset_of_Tomato_Leaves//plantvillage//Preprocessed_data//64//vector//')\n",
    "#reading csv file\n",
    "gray_df = pd.read_csv('gray_data.csv')\n",
    "features = features.values"
   ]
  },
  {
   "cell_type": "code",
   "execution_count": 16,
   "id": "d3abef95",
   "metadata": {},
   "outputs": [],
   "source": [
    "#assigning target to split the data\n",
    "target = gray_df['disease']"
   ]
  },
  {
   "cell_type": "code",
   "execution_count": 17,
   "id": "a86eb99c",
   "metadata": {},
   "outputs": [],
   "source": [
    "#splitting the data to train and test\n",
    "Ftrain,Ftest,Ltrain,Ltest=train_test_split(features,target, test_size=0.20, random_state=24)"
   ]
  },
  {
   "cell_type": "markdown",
   "id": "8bfc6d84",
   "metadata": {},
   "source": [
    "# SVM(poly) on grayscale data"
   ]
  },
  {
   "cell_type": "code",
   "execution_count": 18,
   "id": "c9665abf",
   "metadata": {},
   "outputs": [
    {
     "name": "stdout",
     "output_type": "stream",
     "text": [
      "0.3773649810801514\n"
     ]
    }
   ],
   "source": [
    "svm_poly.fit(Ftrain,Ltrain)\n",
    "y_pred = svm_poly.predict(Ftest)\n",
    "print(accuracy_score(Ltest,y_pred))"
   ]
  },
  {
   "cell_type": "code",
   "execution_count": 19,
   "id": "2456eda7",
   "metadata": {},
   "outputs": [
    {
     "name": "stdout",
     "output_type": "stream",
     "text": [
      "                               precision    recall  f1-score   support\n",
      "\n",
      "               bacterial_spot       0.43      0.06      0.11       345\n",
      "                 early_blight       0.25      0.02      0.04       153\n",
      "                      healthy       0.42      0.26      0.32       234\n",
      "                  late_blight       0.59      0.22      0.32       309\n",
      "                    leaf_mold       0.46      0.23      0.31       145\n",
      "           septoria_leaf_spot       0.59      0.28      0.38       293\n",
      "                  target_spot       0.35      0.03      0.05       240\n",
      "          tomato_mosaic_virus       0.00      0.00      0.00        54\n",
      "tomato_yellow_leaf_curl_virus       0.34      0.91      0.50       854\n",
      "      two-spotted_spider_mite       0.45      0.16      0.23       280\n",
      "\n",
      "                     accuracy                           0.38      2907\n",
      "                    macro avg       0.39      0.22      0.23      2907\n",
      "                 weighted avg       0.42      0.38      0.30      2907\n",
      "\n",
      "[[ 22   0   8   3   2   0   3   0 306   1]\n",
      " [  7   3   2   7   3   6   5   0 113   7]\n",
      " [  0   0  62   3   1   1   0   0 167   0]\n",
      " [  7   7  23  67  13  20   4   0 162   6]\n",
      " [  3   1   8   9  33   9   0   0  80   2]\n",
      " [  0   0  10  10  12  81   0   0 175   5]\n",
      " [  2   0   3   3   1   6   7   0 196  22]\n",
      " [  0   0   0   0   1   0   0   0  53   0]\n",
      " [  8   1  30   8   5  13   1   0 778  10]\n",
      " [  2   0   3   3   0   2   0   0 226  44]]\n"
     ]
    },
    {
     "name": "stderr",
     "output_type": "stream",
     "text": [
      "C:\\Users\\ravic\\anaconda3\\lib\\site-packages\\sklearn\\metrics\\_classification.py:1248: UndefinedMetricWarning: Precision and F-score are ill-defined and being set to 0.0 in labels with no predicted samples. Use `zero_division` parameter to control this behavior.\n",
      "  _warn_prf(average, modifier, msg_start, len(result))\n",
      "C:\\Users\\ravic\\anaconda3\\lib\\site-packages\\sklearn\\metrics\\_classification.py:1248: UndefinedMetricWarning: Precision and F-score are ill-defined and being set to 0.0 in labels with no predicted samples. Use `zero_division` parameter to control this behavior.\n",
      "  _warn_prf(average, modifier, msg_start, len(result))\n",
      "C:\\Users\\ravic\\anaconda3\\lib\\site-packages\\sklearn\\metrics\\_classification.py:1248: UndefinedMetricWarning: Precision and F-score are ill-defined and being set to 0.0 in labels with no predicted samples. Use `zero_division` parameter to control this behavior.\n",
      "  _warn_prf(average, modifier, msg_start, len(result))\n"
     ]
    }
   ],
   "source": [
    "#classification report\n",
    "y_predict = svm_poly.fit(Ftrain, Ltrain).predict(Ftest)\n",
    "class_names = target.unique()\n",
    "print(classification_report(Ltest, y_predict, target_names=class_names))\n",
    "print(confusion_matrix(Ltest, y_predict))"
   ]
  },
  {
   "cell_type": "markdown",
   "id": "bd417df9",
   "metadata": {},
   "source": [
    "# SVM(RBF) on grayscale data"
   ]
  },
  {
   "cell_type": "code",
   "execution_count": 20,
   "id": "67772464",
   "metadata": {},
   "outputs": [
    {
     "name": "stdout",
     "output_type": "stream",
     "text": [
      "0.5029239766081871\n"
     ]
    }
   ],
   "source": [
    "svm_rbf.fit(Ftrain,Ltrain)\n",
    "y_pred = svm_rbf.predict(Ftest)\n",
    "print(accuracy_score(Ltest,y_pred))"
   ]
  },
  {
   "cell_type": "code",
   "execution_count": 21,
   "id": "34bbfd97",
   "metadata": {},
   "outputs": [
    {
     "name": "stdout",
     "output_type": "stream",
     "text": [
      "                               precision    recall  f1-score   support\n",
      "\n",
      "               bacterial_spot       0.54      0.41      0.47       345\n",
      "                 early_blight       0.61      0.11      0.19       153\n",
      "                      healthy       0.46      0.76      0.58       234\n",
      "                  late_blight       0.58      0.45      0.51       309\n",
      "                    leaf_mold       0.49      0.40      0.44       145\n",
      "           septoria_leaf_spot       0.57      0.41      0.48       293\n",
      "                  target_spot       0.41      0.31      0.35       240\n",
      "          tomato_mosaic_virus       0.00      0.00      0.00        54\n",
      "tomato_yellow_leaf_curl_virus       0.50      0.71      0.59       854\n",
      "      two-spotted_spider_mite       0.48      0.45      0.46       280\n",
      "\n",
      "                     accuracy                           0.50      2907\n",
      "                    macro avg       0.46      0.40      0.41      2907\n",
      "                 weighted avg       0.50      0.50      0.48      2907\n",
      "\n",
      "[[142   2  15   9   3   0  11   0 159   4]\n",
      " [ 21  17   3  21   6   5  12   0  55  13]\n",
      " [  2   0 179   3   4   1   2   0  38   5]\n",
      " [  7   4  43 140  13  18   9   0  69   6]\n",
      " [  6   1   8  11  58  12   3   0  43   3]\n",
      " [  0   0  39  25  20 120  16   0  61  12]\n",
      " [  5   1   6   6   3  14  75   0  73  57]\n",
      " [  1   0  10   0   1   6   3   0  22  11]\n",
      " [ 69   1  78  23   9  21  22   0 606  25]\n",
      " [  8   2   5   3   2  13  31   0  91 125]]\n"
     ]
    },
    {
     "name": "stderr",
     "output_type": "stream",
     "text": [
      "C:\\Users\\ravic\\anaconda3\\lib\\site-packages\\sklearn\\metrics\\_classification.py:1248: UndefinedMetricWarning: Precision and F-score are ill-defined and being set to 0.0 in labels with no predicted samples. Use `zero_division` parameter to control this behavior.\n",
      "  _warn_prf(average, modifier, msg_start, len(result))\n",
      "C:\\Users\\ravic\\anaconda3\\lib\\site-packages\\sklearn\\metrics\\_classification.py:1248: UndefinedMetricWarning: Precision and F-score are ill-defined and being set to 0.0 in labels with no predicted samples. Use `zero_division` parameter to control this behavior.\n",
      "  _warn_prf(average, modifier, msg_start, len(result))\n",
      "C:\\Users\\ravic\\anaconda3\\lib\\site-packages\\sklearn\\metrics\\_classification.py:1248: UndefinedMetricWarning: Precision and F-score are ill-defined and being set to 0.0 in labels with no predicted samples. Use `zero_division` parameter to control this behavior.\n",
      "  _warn_prf(average, modifier, msg_start, len(result))\n"
     ]
    }
   ],
   "source": [
    "#classification report\n",
    "y_predict = svm_rbf.fit(Ftrain, Ltrain).predict(Ftest)\n",
    "class_names = target.unique()\n",
    "print(classification_report(Ltest, y_predict, target_names=class_names))\n",
    "print(confusion_matrix(Ltest, y_predict))"
   ]
  },
  {
   "cell_type": "markdown",
   "id": "c1ed23e8",
   "metadata": {},
   "source": [
    "# SVM(sigmoid) on Grayscale data"
   ]
  },
  {
   "cell_type": "code",
   "execution_count": 22,
   "id": "b79e8630",
   "metadata": {},
   "outputs": [
    {
     "name": "stdout",
     "output_type": "stream",
     "text": [
      "0.17784657722738217\n"
     ]
    }
   ],
   "source": [
    "svm_si.fit(Ftrain,Ltrain)\n",
    "y_pred = svm_si.predict(Ftest)\n",
    "print(accuracy_score(Ltest,y_pred))"
   ]
  },
  {
   "cell_type": "code",
   "execution_count": 23,
   "id": "c64cd0a6",
   "metadata": {},
   "outputs": [
    {
     "name": "stdout",
     "output_type": "stream",
     "text": [
      "                               precision    recall  f1-score   support\n",
      "\n",
      "               bacterial_spot       0.19      0.19      0.19       345\n",
      "                 early_blight       0.08      0.03      0.05       153\n",
      "                      healthy       0.01      0.00      0.01       234\n",
      "                  late_blight       0.14      0.20      0.16       309\n",
      "                    leaf_mold       0.06      0.03      0.04       145\n",
      "           septoria_leaf_spot       0.14      0.22      0.17       293\n",
      "                  target_spot       0.05      0.01      0.02       240\n",
      "          tomato_mosaic_virus       0.00      0.00      0.00        54\n",
      "tomato_yellow_leaf_curl_virus       0.26      0.35      0.30       854\n",
      "      two-spotted_spider_mite       0.08      0.04      0.06       280\n",
      "\n",
      "                     accuracy                           0.18      2907\n",
      "                    macro avg       0.10      0.11      0.10      2907\n",
      "                 weighted avg       0.15      0.18      0.16      2907\n",
      "\n",
      "[[ 67   8  20  46  10  15  11   3 159   6]\n",
      " [ 27   5   1  27  12  18   6   0  46  11]\n",
      " [ 24   0   1  94   0  19   0   0  96   0]\n",
      " [ 44   1  38  63  12  35   6   0  96  14]\n",
      " [ 12   0  14  34   4  16   0   0  64   1]\n",
      " [  5   4  19  30   4  65   6   2 101  57]\n",
      " [ 18   3   7  15   2  55   3   0 128   9]\n",
      " [  4   0   0   5   0  10   0   0  34   1]\n",
      " [119  29  64 139  17 132  16   3 297  38]\n",
      " [ 27  12   2  12   6  86   8   0 115  12]]\n"
     ]
    }
   ],
   "source": [
    "#classification report\n",
    "y_predict = svm_si.fit(Ftrain, Ltrain).predict(Ftest)\n",
    "class_names = target.unique()\n",
    "print(classification_report(Ltest, y_predict, target_names=class_names))\n",
    "print(confusion_matrix(Ltest, y_predict))"
   ]
  },
  {
   "cell_type": "markdown",
   "id": "8ba631c4",
   "metadata": {},
   "source": [
    "# Bernouli Naive bayes on grayscale data"
   ]
  },
  {
   "cell_type": "code",
   "execution_count": 24,
   "id": "f9c1d1df",
   "metadata": {},
   "outputs": [
    {
     "data": {
      "text/plain": [
       "0.30925352597179223"
      ]
     },
     "execution_count": 24,
     "metadata": {},
     "output_type": "execute_result"
    }
   ],
   "source": [
    "bnb.fit(Ftrain, Ltrain)\n",
    "y_pred = bnb.predict(Ftest)\n",
    "metrics.accuracy_score(Ltest, y_pred)"
   ]
  },
  {
   "cell_type": "code",
   "execution_count": 25,
   "id": "5349d0e6",
   "metadata": {},
   "outputs": [
    {
     "name": "stdout",
     "output_type": "stream",
     "text": [
      "                               precision    recall  f1-score   support\n",
      "\n",
      "               bacterial_spot       0.39      0.11      0.18       345\n",
      "                 early_blight       0.00      0.00      0.00       153\n",
      "                      healthy       0.35      0.37      0.36       234\n",
      "                  late_blight       0.00      0.00      0.00       309\n",
      "                    leaf_mold       0.00      0.00      0.00       145\n",
      "           septoria_leaf_spot       0.23      0.27      0.25       293\n",
      "                  target_spot       0.00      0.00      0.00       240\n",
      "          tomato_mosaic_virus       0.00      0.00      0.00        54\n",
      "tomato_yellow_leaf_curl_virus       0.31      0.81      0.45       854\n",
      "      two-spotted_spider_mite       0.00      0.00      0.00       280\n",
      "\n",
      "                     accuracy                           0.31      2907\n",
      "                    macro avg       0.13      0.16      0.12      2907\n",
      "                 weighted avg       0.19      0.31      0.21      2907\n",
      "\n",
      "[[ 39   0  14   0   0  13   0   0 279   0]\n",
      " [  6   0   1   0   0   8   0   0 138   0]\n",
      " [  3   0  86   0   0  36   0   0 109   0]\n",
      " [  7   0  55   0   0  44   0   0 203   0]\n",
      " [  2   0   7   0   0  20   0   0 116   0]\n",
      " [  0   0  23   0   0  78   0   0 192   0]\n",
      " [  6   0   2   0   0  30   0   0 202   0]\n",
      " [  1   0   1   0   0   8   0   0  44   0]\n",
      " [ 29   0  55   0   0  74   0   0 696   0]\n",
      " [  6   0   0   0   0  28   0   0 246   0]]\n"
     ]
    },
    {
     "name": "stderr",
     "output_type": "stream",
     "text": [
      "C:\\Users\\ravic\\anaconda3\\lib\\site-packages\\sklearn\\metrics\\_classification.py:1248: UndefinedMetricWarning: Precision and F-score are ill-defined and being set to 0.0 in labels with no predicted samples. Use `zero_division` parameter to control this behavior.\n",
      "  _warn_prf(average, modifier, msg_start, len(result))\n",
      "C:\\Users\\ravic\\anaconda3\\lib\\site-packages\\sklearn\\metrics\\_classification.py:1248: UndefinedMetricWarning: Precision and F-score are ill-defined and being set to 0.0 in labels with no predicted samples. Use `zero_division` parameter to control this behavior.\n",
      "  _warn_prf(average, modifier, msg_start, len(result))\n",
      "C:\\Users\\ravic\\anaconda3\\lib\\site-packages\\sklearn\\metrics\\_classification.py:1248: UndefinedMetricWarning: Precision and F-score are ill-defined and being set to 0.0 in labels with no predicted samples. Use `zero_division` parameter to control this behavior.\n",
      "  _warn_prf(average, modifier, msg_start, len(result))\n"
     ]
    }
   ],
   "source": [
    "class_names = target.unique()\n",
    "print(classification_report(Ltest, y_pred, target_names=class_names))\n",
    "print(confusion_matrix(Ltest, y_pred))"
   ]
  },
  {
   "cell_type": "markdown",
   "id": "20b31faf",
   "metadata": {},
   "source": [
    "# Multinomial Naive bayes on Grayscale data"
   ]
  },
  {
   "cell_type": "code",
   "execution_count": 26,
   "id": "5bf3d424",
   "metadata": {},
   "outputs": [
    {
     "data": {
      "text/plain": [
       "0.30925352597179223"
      ]
     },
     "execution_count": 26,
     "metadata": {},
     "output_type": "execute_result"
    }
   ],
   "source": [
    "mnb.fit(Ftrain, Ltrain)\n",
    "y_pred = mnb.predict(Ftest)\n",
    "metrics.accuracy_score(Ltest, y_pred)"
   ]
  },
  {
   "cell_type": "code",
   "execution_count": 27,
   "id": "6ed85664",
   "metadata": {},
   "outputs": [
    {
     "name": "stderr",
     "output_type": "stream",
     "text": [
      "C:\\Users\\ravic\\anaconda3\\lib\\site-packages\\sklearn\\metrics\\_classification.py:1248: UndefinedMetricWarning: Precision and F-score are ill-defined and being set to 0.0 in labels with no predicted samples. Use `zero_division` parameter to control this behavior.\n",
      "  _warn_prf(average, modifier, msg_start, len(result))\n",
      "C:\\Users\\ravic\\anaconda3\\lib\\site-packages\\sklearn\\metrics\\_classification.py:1248: UndefinedMetricWarning: Precision and F-score are ill-defined and being set to 0.0 in labels with no predicted samples. Use `zero_division` parameter to control this behavior.\n",
      "  _warn_prf(average, modifier, msg_start, len(result))\n",
      "C:\\Users\\ravic\\anaconda3\\lib\\site-packages\\sklearn\\metrics\\_classification.py:1248: UndefinedMetricWarning: Precision and F-score are ill-defined and being set to 0.0 in labels with no predicted samples. Use `zero_division` parameter to control this behavior.\n",
      "  _warn_prf(average, modifier, msg_start, len(result))\n"
     ]
    },
    {
     "name": "stdout",
     "output_type": "stream",
     "text": [
      "                               precision    recall  f1-score   support\n",
      "\n",
      "               bacterial_spot       0.39      0.11      0.18       345\n",
      "                 early_blight       0.00      0.00      0.00       153\n",
      "                      healthy       0.35      0.37      0.36       234\n",
      "                  late_blight       0.00      0.00      0.00       309\n",
      "                    leaf_mold       0.00      0.00      0.00       145\n",
      "           septoria_leaf_spot       0.23      0.27      0.25       293\n",
      "                  target_spot       0.00      0.00      0.00       240\n",
      "          tomato_mosaic_virus       0.00      0.00      0.00        54\n",
      "tomato_yellow_leaf_curl_virus       0.31      0.81      0.45       854\n",
      "      two-spotted_spider_mite       0.00      0.00      0.00       280\n",
      "\n",
      "                     accuracy                           0.31      2907\n",
      "                    macro avg       0.13      0.16      0.12      2907\n",
      "                 weighted avg       0.19      0.31      0.21      2907\n",
      "\n",
      "[[ 39   0  14   0   0  13   0   0 279   0]\n",
      " [  6   0   1   0   0   8   0   0 138   0]\n",
      " [  3   0  86   0   0  36   0   0 109   0]\n",
      " [  7   0  55   0   0  44   0   0 203   0]\n",
      " [  2   0   7   0   0  20   0   0 116   0]\n",
      " [  0   0  23   0   0  78   0   0 192   0]\n",
      " [  6   0   2   0   0  30   0   0 202   0]\n",
      " [  1   0   1   0   0   8   0   0  44   0]\n",
      " [ 29   0  55   0   0  74   0   0 696   0]\n",
      " [  6   0   0   0   0  28   0   0 246   0]]\n"
     ]
    }
   ],
   "source": [
    "class_names = target.unique()\n",
    "print(classification_report(Ltest, y_pred, target_names=class_names))\n",
    "print(confusion_matrix(Ltest, y_pred))"
   ]
  },
  {
   "cell_type": "markdown",
   "id": "6f5719a1",
   "metadata": {},
   "source": [
    "# Red Channel data"
   ]
  },
  {
   "cell_type": "code",
   "execution_count": 28,
   "id": "5f8b0e11",
   "metadata": {},
   "outputs": [],
   "source": [
    "os.chdir('D://DKIT//dissertation//Dataset_of_Tomato_Leaves//plantvillage//Preprocessed_data//64//PCA//')\n",
    "features = pd.read_csv('red.csv')\n",
    "#changing path\n",
    "os.chdir('D://DKIT//dissertation//Dataset_of_Tomato_Leaves//plantvillage//Preprocessed_data//64//vector//')\n",
    "#reading csv file\n",
    "red_df = pd.read_csv('red_data.csv')\n",
    "features = features.values\n",
    "target = red_df['disease']\n",
    "#splitting the data to train and test\n",
    "Ftrain,Ftest,Ltrain,Ltest=train_test_split(features,target, test_size=0.20, random_state=24)"
   ]
  },
  {
   "cell_type": "markdown",
   "id": "c81dd4d2",
   "metadata": {},
   "source": [
    "# SVM(poly) on Red data"
   ]
  },
  {
   "cell_type": "code",
   "execution_count": 29,
   "id": "a9cb2e28",
   "metadata": {},
   "outputs": [
    {
     "name": "stdout",
     "output_type": "stream",
     "text": [
      "0.390436876504988\n"
     ]
    }
   ],
   "source": [
    "svm_poly.fit(Ftrain,Ltrain)\n",
    "y_pred = svm_poly.predict(Ftest)\n",
    "print(accuracy_score(Ltest,y_pred))"
   ]
  },
  {
   "cell_type": "code",
   "execution_count": 30,
   "id": "35b2ceaf",
   "metadata": {},
   "outputs": [
    {
     "name": "stdout",
     "output_type": "stream",
     "text": [
      "                               precision    recall  f1-score   support\n",
      "\n",
      "               bacterial_spot       0.61      0.25      0.35       345\n",
      "                 early_blight       0.50      0.03      0.05       153\n",
      "                      healthy       0.39      0.25      0.30       234\n",
      "                  late_blight       0.55      0.23      0.32       309\n",
      "                    leaf_mold       0.46      0.29      0.36       145\n",
      "           septoria_leaf_spot       0.52      0.21      0.30       293\n",
      "                  target_spot       0.29      0.03      0.06       240\n",
      "          tomato_mosaic_virus       0.00      0.00      0.00        54\n",
      "tomato_yellow_leaf_curl_virus       0.35      0.88      0.50       854\n",
      "      two-spotted_spider_mite       0.44      0.20      0.28       280\n",
      "\n",
      "                     accuracy                           0.39      2907\n",
      "                    macro avg       0.41      0.24      0.25      2907\n",
      "                 weighted avg       0.43      0.39      0.33      2907\n",
      "\n",
      "[[ 86   2  13   4   0   1   1   0 237   1]\n",
      " [ 13   4   2   5   3   6   5   0 108   7]\n",
      " [  0   0  58   1   1   1   0   0 173   0]\n",
      " [  7   2  21  70  20  15   6   0 160   8]\n",
      " [  2   0  17  10  42   8   1   0  65   0]\n",
      " [  1   0   5  24  14  62   2   0 172  13]\n",
      " [  1   0   1   2   1   8   8   0 191  28]\n",
      " [  0   0   0   0   1   1   1   0  50   1]\n",
      " [ 30   0  29  10   9  14   0   0 749  13]\n",
      " [  1   0   3   1   0   4   4   0 211  56]]\n"
     ]
    },
    {
     "name": "stderr",
     "output_type": "stream",
     "text": [
      "C:\\Users\\ravic\\anaconda3\\lib\\site-packages\\sklearn\\metrics\\_classification.py:1248: UndefinedMetricWarning: Precision and F-score are ill-defined and being set to 0.0 in labels with no predicted samples. Use `zero_division` parameter to control this behavior.\n",
      "  _warn_prf(average, modifier, msg_start, len(result))\n",
      "C:\\Users\\ravic\\anaconda3\\lib\\site-packages\\sklearn\\metrics\\_classification.py:1248: UndefinedMetricWarning: Precision and F-score are ill-defined and being set to 0.0 in labels with no predicted samples. Use `zero_division` parameter to control this behavior.\n",
      "  _warn_prf(average, modifier, msg_start, len(result))\n",
      "C:\\Users\\ravic\\anaconda3\\lib\\site-packages\\sklearn\\metrics\\_classification.py:1248: UndefinedMetricWarning: Precision and F-score are ill-defined and being set to 0.0 in labels with no predicted samples. Use `zero_division` parameter to control this behavior.\n",
      "  _warn_prf(average, modifier, msg_start, len(result))\n"
     ]
    }
   ],
   "source": [
    "#classification report\n",
    "y_predict = svm_poly.fit(Ftrain, Ltrain).predict(Ftest)\n",
    "class_names = target.unique()\n",
    "print(classification_report(Ltest, y_predict, target_names=class_names))\n",
    "print(confusion_matrix(Ltest, y_predict))"
   ]
  },
  {
   "cell_type": "markdown",
   "id": "bcdfb873",
   "metadata": {},
   "source": [
    "# SVM(RBF) on Red data"
   ]
  },
  {
   "cell_type": "code",
   "execution_count": 31,
   "id": "5e806290",
   "metadata": {},
   "outputs": [
    {
     "name": "stdout",
     "output_type": "stream",
     "text": [
      "0.5184038527691779\n"
     ]
    }
   ],
   "source": [
    "svm_rbf.fit(Ftrain,Ltrain)\n",
    "y_pred = svm_rbf.predict(Ftest)\n",
    "print(accuracy_score(Ltest,y_pred))"
   ]
  },
  {
   "cell_type": "code",
   "execution_count": 32,
   "id": "e613add4",
   "metadata": {},
   "outputs": [
    {
     "name": "stdout",
     "output_type": "stream",
     "text": [
      "                               precision    recall  f1-score   support\n",
      "\n",
      "               bacterial_spot       0.58      0.48      0.53       345\n",
      "                 early_blight       0.70      0.14      0.23       153\n",
      "                      healthy       0.52      0.80      0.63       234\n",
      "                  late_blight       0.57      0.50      0.53       309\n",
      "                    leaf_mold       0.47      0.39      0.43       145\n",
      "           septoria_leaf_spot       0.51      0.33      0.40       293\n",
      "                  target_spot       0.45      0.31      0.37       240\n",
      "          tomato_mosaic_virus       0.00      0.00      0.00        54\n",
      "tomato_yellow_leaf_curl_virus       0.51      0.69      0.58       854\n",
      "      two-spotted_spider_mite       0.51      0.58      0.54       280\n",
      "\n",
      "                     accuracy                           0.52      2907\n",
      "                    macro avg       0.48      0.42      0.42      2907\n",
      "                 weighted avg       0.52      0.52      0.50      2907\n",
      "\n",
      "[[167   2  13  13   3   0   6   0 136   5]\n",
      " [ 23  21   4  15   5   7  11   0  55  12]\n",
      " [  0   0 187   1   5   1   5   0  34   1]\n",
      " [  5   3  29 154  12  18  10   0  71   7]\n",
      " [  8   2  11  11  57  10   1   0  39   6]\n",
      " [  2   0  27  32  20  96  19   0  74  23]\n",
      " [  2   0   5   5   3  19  74   0  77  55]\n",
      " [  0   0   6   0   2   7   3   0  20  16]\n",
      " [ 74   1  73  32  14  23  15   0 588  34]\n",
      " [  6   1   5   9   1   9  20   0  66 163]]\n"
     ]
    },
    {
     "name": "stderr",
     "output_type": "stream",
     "text": [
      "C:\\Users\\ravic\\anaconda3\\lib\\site-packages\\sklearn\\metrics\\_classification.py:1248: UndefinedMetricWarning: Precision and F-score are ill-defined and being set to 0.0 in labels with no predicted samples. Use `zero_division` parameter to control this behavior.\n",
      "  _warn_prf(average, modifier, msg_start, len(result))\n",
      "C:\\Users\\ravic\\anaconda3\\lib\\site-packages\\sklearn\\metrics\\_classification.py:1248: UndefinedMetricWarning: Precision and F-score are ill-defined and being set to 0.0 in labels with no predicted samples. Use `zero_division` parameter to control this behavior.\n",
      "  _warn_prf(average, modifier, msg_start, len(result))\n",
      "C:\\Users\\ravic\\anaconda3\\lib\\site-packages\\sklearn\\metrics\\_classification.py:1248: UndefinedMetricWarning: Precision and F-score are ill-defined and being set to 0.0 in labels with no predicted samples. Use `zero_division` parameter to control this behavior.\n",
      "  _warn_prf(average, modifier, msg_start, len(result))\n"
     ]
    }
   ],
   "source": [
    "#classification report\n",
    "y_predict = svm_rbf.fit(Ftrain, Ltrain).predict(Ftest)\n",
    "class_names = target.unique()\n",
    "print(classification_report(Ltest, y_predict, target_names=class_names))\n",
    "print(confusion_matrix(Ltest, y_predict))"
   ]
  },
  {
   "cell_type": "markdown",
   "id": "558a44ca",
   "metadata": {},
   "source": [
    "# SVM(sigmoid) on Red data"
   ]
  },
  {
   "cell_type": "code",
   "execution_count": 33,
   "id": "dfde7ca8",
   "metadata": {},
   "outputs": [
    {
     "name": "stdout",
     "output_type": "stream",
     "text": [
      "0.1977984176126591\n"
     ]
    }
   ],
   "source": [
    "svm_si.fit(Ftrain,Ltrain)\n",
    "y_pred = svm_si.predict(Ftest)\n",
    "print(accuracy_score(Ltest,y_pred))"
   ]
  },
  {
   "cell_type": "code",
   "execution_count": 34,
   "id": "b58142f8",
   "metadata": {},
   "outputs": [
    {
     "name": "stdout",
     "output_type": "stream",
     "text": [
      "                               precision    recall  f1-score   support\n",
      "\n",
      "               bacterial_spot       0.19      0.17      0.18       345\n",
      "                 early_blight       0.09      0.05      0.06       153\n",
      "                      healthy       0.03      0.02      0.02       234\n",
      "                  late_blight       0.13      0.21      0.16       309\n",
      "                    leaf_mold       0.11      0.12      0.11       145\n",
      "           septoria_leaf_spot       0.15      0.17      0.16       293\n",
      "                  target_spot       0.02      0.00      0.01       240\n",
      "          tomato_mosaic_virus       0.00      0.00      0.00        54\n",
      "tomato_yellow_leaf_curl_virus       0.31      0.41      0.35       854\n",
      "      two-spotted_spider_mite       0.13      0.10      0.11       280\n",
      "\n",
      "                     accuracy                           0.20      2907\n",
      "                    macro avg       0.12      0.12      0.12      2907\n",
      "                 weighted avg       0.17      0.20      0.18      2907\n",
      "\n",
      "[[ 57  15  23  78   9   0   5   1 154   3]\n",
      " [ 19   7   5  29  20  13   3   0  46  11]\n",
      " [ 27   0   4  88   1  13   0   0 101   0]\n",
      " [ 37   5  47  66  22  24   5   0  86  17]\n",
      " [ 17   0   9  23  17   9   3   2  59   6]\n",
      " [  6   3  21  35  19  50   6   1  84  68]\n",
      " [ 10   6   3  13  22  41   1   0 125  19]\n",
      " [  2   1   0   5   3  12   0   0  30   1]\n",
      " [109  30  44 160  32  68   7   1 346  57]\n",
      " [ 12  11   0   3  14 108  11   0  94  27]]\n"
     ]
    }
   ],
   "source": [
    "#classification report\n",
    "y_predict = svm_si.fit(Ftrain, Ltrain).predict(Ftest)\n",
    "class_names = target.unique()\n",
    "print(classification_report(Ltest, y_predict, target_names=class_names))\n",
    "print(confusion_matrix(Ltest, y_predict))"
   ]
  },
  {
   "cell_type": "markdown",
   "id": "5a175c93",
   "metadata": {},
   "source": [
    "# Bernouli Naive bayes on Red data"
   ]
  },
  {
   "cell_type": "code",
   "execution_count": 35,
   "id": "d65fa897",
   "metadata": {},
   "outputs": [
    {
     "data": {
      "text/plain": [
       "0.32610939112487103"
      ]
     },
     "execution_count": 35,
     "metadata": {},
     "output_type": "execute_result"
    }
   ],
   "source": [
    "bnb.fit(Ftrain, Ltrain)\n",
    "y_pred = bnb.predict(Ftest)\n",
    "metrics.accuracy_score(Ltest, y_pred)"
   ]
  },
  {
   "cell_type": "code",
   "execution_count": 36,
   "id": "bdadbf8a",
   "metadata": {},
   "outputs": [
    {
     "name": "stdout",
     "output_type": "stream",
     "text": [
      "                               precision    recall  f1-score   support\n",
      "\n",
      "               bacterial_spot       0.43      0.21      0.28       345\n",
      "                 early_blight       0.00      0.00      0.00       153\n",
      "                      healthy       0.32      0.44      0.37       234\n",
      "                  late_blight       0.00      0.00      0.00       309\n",
      "                    leaf_mold       0.00      0.00      0.00       145\n",
      "           septoria_leaf_spot       0.23      0.26      0.24       293\n",
      "                  target_spot       0.25      0.13      0.17       240\n",
      "          tomato_mosaic_virus       0.00      0.00      0.00        54\n",
      "tomato_yellow_leaf_curl_virus       0.35      0.73      0.47       854\n",
      "      two-spotted_spider_mite       0.24      0.16      0.19       280\n",
      "\n",
      "                     accuracy                           0.33      2907\n",
      "                    macro avg       0.18      0.19      0.17      2907\n",
      "                 weighted avg       0.25      0.33      0.26      2907\n",
      "\n",
      "[[ 73   0  16   0   0  13   5   0 231   7]\n",
      " [ 22   0   6   0   0  11   9   0  92  13]\n",
      " [  3   0 104   0   0  27   1   0  99   0]\n",
      " [  6   0  66   0   0  58  12   0 156  11]\n",
      " [  9   0   7   0   0  20   1   0  99   9]\n",
      " [  1   0  34   0   0  76  10   0 152  20]\n",
      " [  9   0  10   0   0  26  31   0 132  32]\n",
      " [  2   0   3   0   0   5   5   0  38   1]\n",
      " [ 40   0  71   0   0  53  26   0 620  44]\n",
      " [  3   0   7   0   0  39  25   0 162  44]]\n"
     ]
    },
    {
     "name": "stderr",
     "output_type": "stream",
     "text": [
      "C:\\Users\\ravic\\anaconda3\\lib\\site-packages\\sklearn\\metrics\\_classification.py:1248: UndefinedMetricWarning: Precision and F-score are ill-defined and being set to 0.0 in labels with no predicted samples. Use `zero_division` parameter to control this behavior.\n",
      "  _warn_prf(average, modifier, msg_start, len(result))\n",
      "C:\\Users\\ravic\\anaconda3\\lib\\site-packages\\sklearn\\metrics\\_classification.py:1248: UndefinedMetricWarning: Precision and F-score are ill-defined and being set to 0.0 in labels with no predicted samples. Use `zero_division` parameter to control this behavior.\n",
      "  _warn_prf(average, modifier, msg_start, len(result))\n",
      "C:\\Users\\ravic\\anaconda3\\lib\\site-packages\\sklearn\\metrics\\_classification.py:1248: UndefinedMetricWarning: Precision and F-score are ill-defined and being set to 0.0 in labels with no predicted samples. Use `zero_division` parameter to control this behavior.\n",
      "  _warn_prf(average, modifier, msg_start, len(result))\n"
     ]
    }
   ],
   "source": [
    "class_names = target.unique()\n",
    "print(classification_report(Ltest, y_pred, target_names=class_names))\n",
    "print(confusion_matrix(Ltest, y_pred))"
   ]
  },
  {
   "cell_type": "markdown",
   "id": "39255a27",
   "metadata": {},
   "source": [
    "# Multinomial Naive bayes on Red data"
   ]
  },
  {
   "cell_type": "code",
   "execution_count": 37,
   "id": "437843bc",
   "metadata": {},
   "outputs": [
    {
     "data": {
      "text/plain": [
       "0.32610939112487103"
      ]
     },
     "execution_count": 37,
     "metadata": {},
     "output_type": "execute_result"
    }
   ],
   "source": [
    "mnb.fit(Ftrain, Ltrain)\n",
    "y_pred = mnb.predict(Ftest)\n",
    "metrics.accuracy_score(Ltest, y_pred)"
   ]
  },
  {
   "cell_type": "code",
   "execution_count": 38,
   "id": "2bcb0431",
   "metadata": {},
   "outputs": [
    {
     "name": "stderr",
     "output_type": "stream",
     "text": [
      "C:\\Users\\ravic\\anaconda3\\lib\\site-packages\\sklearn\\metrics\\_classification.py:1248: UndefinedMetricWarning: Precision and F-score are ill-defined and being set to 0.0 in labels with no predicted samples. Use `zero_division` parameter to control this behavior.\n",
      "  _warn_prf(average, modifier, msg_start, len(result))\n",
      "C:\\Users\\ravic\\anaconda3\\lib\\site-packages\\sklearn\\metrics\\_classification.py:1248: UndefinedMetricWarning: Precision and F-score are ill-defined and being set to 0.0 in labels with no predicted samples. Use `zero_division` parameter to control this behavior.\n",
      "  _warn_prf(average, modifier, msg_start, len(result))\n",
      "C:\\Users\\ravic\\anaconda3\\lib\\site-packages\\sklearn\\metrics\\_classification.py:1248: UndefinedMetricWarning: Precision and F-score are ill-defined and being set to 0.0 in labels with no predicted samples. Use `zero_division` parameter to control this behavior.\n",
      "  _warn_prf(average, modifier, msg_start, len(result))\n"
     ]
    },
    {
     "name": "stdout",
     "output_type": "stream",
     "text": [
      "                               precision    recall  f1-score   support\n",
      "\n",
      "               bacterial_spot       0.43      0.21      0.28       345\n",
      "                 early_blight       0.00      0.00      0.00       153\n",
      "                      healthy       0.32      0.44      0.37       234\n",
      "                  late_blight       0.00      0.00      0.00       309\n",
      "                    leaf_mold       0.00      0.00      0.00       145\n",
      "           septoria_leaf_spot       0.23      0.26      0.24       293\n",
      "                  target_spot       0.25      0.13      0.17       240\n",
      "          tomato_mosaic_virus       0.00      0.00      0.00        54\n",
      "tomato_yellow_leaf_curl_virus       0.35      0.73      0.47       854\n",
      "      two-spotted_spider_mite       0.24      0.16      0.19       280\n",
      "\n",
      "                     accuracy                           0.33      2907\n",
      "                    macro avg       0.18      0.19      0.17      2907\n",
      "                 weighted avg       0.25      0.33      0.26      2907\n",
      "\n",
      "[[ 73   0  16   0   0  13   5   0 231   7]\n",
      " [ 22   0   6   0   0  11   9   0  92  13]\n",
      " [  3   0 104   0   0  27   1   0  99   0]\n",
      " [  6   0  66   0   0  58  12   0 156  11]\n",
      " [  9   0   7   0   0  20   1   0  99   9]\n",
      " [  1   0  34   0   0  76  10   0 152  20]\n",
      " [  9   0  10   0   0  26  31   0 132  32]\n",
      " [  2   0   3   0   0   5   5   0  38   1]\n",
      " [ 40   0  71   0   0  53  26   0 620  44]\n",
      " [  3   0   7   0   0  39  25   0 162  44]]\n"
     ]
    }
   ],
   "source": [
    "class_names = target.unique()\n",
    "print(classification_report(Ltest, y_pred, target_names=class_names))\n",
    "print(confusion_matrix(Ltest, y_pred))"
   ]
  },
  {
   "cell_type": "markdown",
   "id": "11e4cd00",
   "metadata": {},
   "source": [
    "# Green channel data"
   ]
  },
  {
   "cell_type": "code",
   "execution_count": 39,
   "id": "40feb467",
   "metadata": {},
   "outputs": [],
   "source": [
    "os.chdir('D://DKIT//dissertation//Dataset_of_Tomato_Leaves//plantvillage//Preprocessed_data//64//PCA//')\n",
    "features = pd.read_csv('green.csv')\n",
    "#changing path\n",
    "os.chdir('D://DKIT//dissertation//Dataset_of_Tomato_Leaves//plantvillage//Preprocessed_data//64//vector//')\n",
    "#reading csv file\n",
    "green_df = pd.read_csv('green_data.csv')\n",
    "features = features.values\n",
    "target = green_df['disease']\n",
    "#splitting the data to train and test\n",
    "Ftrain,Ftest,Ltrain,Ltest=train_test_split(features,target, test_size=0.20, random_state=24)"
   ]
  },
  {
   "cell_type": "markdown",
   "id": "9aa0bc22",
   "metadata": {},
   "source": [
    "# SVM(poly) on green data"
   ]
  },
  {
   "cell_type": "code",
   "execution_count": 40,
   "id": "fe39c65e",
   "metadata": {},
   "outputs": [
    {
     "name": "stdout",
     "output_type": "stream",
     "text": [
      "0.3525971792225662\n"
     ]
    }
   ],
   "source": [
    "svm_poly.fit(Ftrain,Ltrain)\n",
    "y_pred = svm_poly.predict(Ftest)\n",
    "print(accuracy_score(Ltest,y_pred))"
   ]
  },
  {
   "cell_type": "code",
   "execution_count": 41,
   "id": "8423b846",
   "metadata": {},
   "outputs": [
    {
     "name": "stdout",
     "output_type": "stream",
     "text": [
      "                               precision    recall  f1-score   support\n",
      "\n",
      "               bacterial_spot       0.30      0.03      0.05       345\n",
      "                 early_blight       0.26      0.03      0.06       153\n",
      "                      healthy       0.41      0.08      0.13       234\n",
      "                  late_blight       0.58      0.19      0.29       309\n",
      "                    leaf_mold       0.43      0.06      0.11       145\n",
      "           septoria_leaf_spot       0.65      0.27      0.38       293\n",
      "                  target_spot       0.14      0.00      0.01       240\n",
      "          tomato_mosaic_virus       0.00      0.00      0.00        54\n",
      "tomato_yellow_leaf_curl_virus       0.33      0.95      0.49       854\n",
      "      two-spotted_spider_mite       0.41      0.12      0.18       280\n",
      "\n",
      "                     accuracy                           0.35      2907\n",
      "                    macro avg       0.35      0.17      0.17      2907\n",
      "                 weighted avg       0.38      0.35      0.25      2907\n",
      "\n",
      "[[  9   0   2   1   1   0   2   0 328   2]\n",
      " [  3   5   2  12   0   3   1   0 119   8]\n",
      " [  0   0  18   1   0   0   0   0 215   0]\n",
      " [  6  11   7  60   8  19   1   0 189   8]\n",
      " [  3   1   0  10   9   4   0   0 115   3]\n",
      " [  0   0   3   8   2  78   0   0 200   2]\n",
      " [  3   0   0   4   0   4   1   0 213  15]\n",
      " [  0   0   0   0   1   0   0   0  53   0]\n",
      " [  4   1  11   5   0  10   2   0 812   9]\n",
      " [  2   1   1   2   0   2   0   0 239  33]]\n"
     ]
    },
    {
     "name": "stderr",
     "output_type": "stream",
     "text": [
      "C:\\Users\\ravic\\anaconda3\\lib\\site-packages\\sklearn\\metrics\\_classification.py:1248: UndefinedMetricWarning: Precision and F-score are ill-defined and being set to 0.0 in labels with no predicted samples. Use `zero_division` parameter to control this behavior.\n",
      "  _warn_prf(average, modifier, msg_start, len(result))\n",
      "C:\\Users\\ravic\\anaconda3\\lib\\site-packages\\sklearn\\metrics\\_classification.py:1248: UndefinedMetricWarning: Precision and F-score are ill-defined and being set to 0.0 in labels with no predicted samples. Use `zero_division` parameter to control this behavior.\n",
      "  _warn_prf(average, modifier, msg_start, len(result))\n",
      "C:\\Users\\ravic\\anaconda3\\lib\\site-packages\\sklearn\\metrics\\_classification.py:1248: UndefinedMetricWarning: Precision and F-score are ill-defined and being set to 0.0 in labels with no predicted samples. Use `zero_division` parameter to control this behavior.\n",
      "  _warn_prf(average, modifier, msg_start, len(result))\n"
     ]
    }
   ],
   "source": [
    "#classification report\n",
    "y_predict = svm_poly.fit(Ftrain, Ltrain).predict(Ftest)\n",
    "class_names = target.unique()\n",
    "print(classification_report(Ltest, y_predict, target_names=class_names))\n",
    "print(confusion_matrix(Ltest, y_predict))"
   ]
  },
  {
   "cell_type": "markdown",
   "id": "6112d4e4",
   "metadata": {},
   "source": [
    "# SVM(RBF) on green data"
   ]
  },
  {
   "cell_type": "code",
   "execution_count": 42,
   "id": "69be936f",
   "metadata": {},
   "outputs": [
    {
     "name": "stdout",
     "output_type": "stream",
     "text": [
      "0.5067079463364293\n"
     ]
    }
   ],
   "source": [
    "svm_rbf.fit(Ftrain,Ltrain)\n",
    "y_pred = svm_rbf.predict(Ftest)\n",
    "print(accuracy_score(Ltest,y_pred))"
   ]
  },
  {
   "cell_type": "code",
   "execution_count": 43,
   "id": "81b4c571",
   "metadata": {},
   "outputs": [
    {
     "name": "stdout",
     "output_type": "stream",
     "text": [
      "                               precision    recall  f1-score   support\n",
      "\n",
      "               bacterial_spot       0.49      0.37      0.42       345\n",
      "                 early_blight       0.67      0.13      0.22       153\n",
      "                      healthy       0.47      0.77      0.58       234\n",
      "                  late_blight       0.62      0.46      0.53       309\n",
      "                    leaf_mold       0.48      0.41      0.45       145\n",
      "           septoria_leaf_spot       0.62      0.43      0.51       293\n",
      "                  target_spot       0.37      0.31      0.34       240\n",
      "          tomato_mosaic_virus       0.00      0.00      0.00        54\n",
      "tomato_yellow_leaf_curl_virus       0.50      0.75      0.60       854\n",
      "      two-spotted_spider_mite       0.51      0.37      0.43       280\n",
      "\n",
      "                     accuracy                           0.51      2907\n",
      "                    macro avg       0.47      0.40      0.41      2907\n",
      "                 weighted avg       0.51      0.51      0.48      2907\n",
      "\n",
      "[[127   1  15   6   8   0  12   0 170   6]\n",
      " [ 23  20   3  19   5   3  13   0  53  14]\n",
      " [  5   0 181   3   5   3   4   0  30   3]\n",
      " [  5   2  45 141  15  13  11   0  68   9]\n",
      " [  6   3  10   7  60   8   2   0  44   5]\n",
      " [  0   0  46  21  14 125  16   0  66   5]\n",
      " [ 10   2  10  11   4  13  75   0  79  36]\n",
      " [  3   0  13   0   1   5   4   0  23   5]\n",
      " [ 68   1  56  13   9  21  28   0 640  18]\n",
      " [ 12   1   6   5   3   9  40   0 100 104]]\n"
     ]
    },
    {
     "name": "stderr",
     "output_type": "stream",
     "text": [
      "C:\\Users\\ravic\\anaconda3\\lib\\site-packages\\sklearn\\metrics\\_classification.py:1248: UndefinedMetricWarning: Precision and F-score are ill-defined and being set to 0.0 in labels with no predicted samples. Use `zero_division` parameter to control this behavior.\n",
      "  _warn_prf(average, modifier, msg_start, len(result))\n",
      "C:\\Users\\ravic\\anaconda3\\lib\\site-packages\\sklearn\\metrics\\_classification.py:1248: UndefinedMetricWarning: Precision and F-score are ill-defined and being set to 0.0 in labels with no predicted samples. Use `zero_division` parameter to control this behavior.\n",
      "  _warn_prf(average, modifier, msg_start, len(result))\n",
      "C:\\Users\\ravic\\anaconda3\\lib\\site-packages\\sklearn\\metrics\\_classification.py:1248: UndefinedMetricWarning: Precision and F-score are ill-defined and being set to 0.0 in labels with no predicted samples. Use `zero_division` parameter to control this behavior.\n",
      "  _warn_prf(average, modifier, msg_start, len(result))\n"
     ]
    }
   ],
   "source": [
    "#classification report\n",
    "y_predict = svm_rbf.fit(Ftrain, Ltrain).predict(Ftest)\n",
    "class_names = target.unique()\n",
    "print(classification_report(Ltest, y_predict, target_names=class_names))\n",
    "print(confusion_matrix(Ltest, y_predict))"
   ]
  },
  {
   "cell_type": "markdown",
   "id": "662d1937",
   "metadata": {},
   "source": [
    "# SVM(sigmoid) on green data"
   ]
  },
  {
   "cell_type": "code",
   "execution_count": 44,
   "id": "7f6adcca",
   "metadata": {},
   "outputs": [
    {
     "name": "stdout",
     "output_type": "stream",
     "text": [
      "0.17784657722738217\n"
     ]
    }
   ],
   "source": [
    "svm_si.fit(Ftrain,Ltrain)\n",
    "y_pred = svm_si.predict(Ftest)\n",
    "print(accuracy_score(Ltest,y_pred))"
   ]
  },
  {
   "cell_type": "code",
   "execution_count": 45,
   "id": "251d68f3",
   "metadata": {},
   "outputs": [
    {
     "name": "stdout",
     "output_type": "stream",
     "text": [
      "                               precision    recall  f1-score   support\n",
      "\n",
      "               bacterial_spot       0.26      0.23      0.25       345\n",
      "                 early_blight       0.10      0.07      0.08       153\n",
      "                      healthy       0.06      0.04      0.05       234\n",
      "                  late_blight       0.11      0.16      0.13       309\n",
      "                    leaf_mold       0.03      0.01      0.01       145\n",
      "           septoria_leaf_spot       0.08      0.10      0.09       293\n",
      "                  target_spot       0.08      0.04      0.05       240\n",
      "          tomato_mosaic_virus       0.00      0.00      0.00        54\n",
      "tomato_yellow_leaf_curl_virus       0.25      0.37      0.30       854\n",
      "      two-spotted_spider_mite       0.07      0.03      0.04       280\n",
      "\n",
      "                     accuracy                           0.18      2907\n",
      "                    macro avg       0.10      0.10      0.10      2907\n",
      "                 weighted avg       0.15      0.18      0.16      2907\n",
      "\n",
      "[[ 81  11  18  59   6  16  25   0 128   1]\n",
      " [ 29  10   5  24   5  13  12   0  46   9]\n",
      " [ 16   0  10  72   0  11   0   0 124   1]\n",
      " [ 41   8  41  48   4  27  13   0 114  13]\n",
      " [  9   1  10  36   1   7   1   0  77   3]\n",
      " [  4   4  16  29   1  29   6   0 157  47]\n",
      " [ 10   2  12  22   1  39   9   0 136   9]\n",
      " [  4   1   3   7   0   2   0   0  37   0]\n",
      " [ 95  48  49 115  14 157  26   1 320  29]\n",
      " [ 24  18   2  18   7  51  16   0 135   9]]\n"
     ]
    }
   ],
   "source": [
    "#classification report\n",
    "y_predict = svm_si.fit(Ftrain, Ltrain).predict(Ftest)\n",
    "class_names = target.unique()\n",
    "print(classification_report(Ltest, y_predict, target_names=class_names))\n",
    "print(confusion_matrix(Ltest, y_predict))"
   ]
  },
  {
   "cell_type": "markdown",
   "id": "8aa412dd",
   "metadata": {},
   "source": [
    "# Bernouli Naive bayes on green data"
   ]
  },
  {
   "cell_type": "code",
   "execution_count": 46,
   "id": "b6622b8d",
   "metadata": {},
   "outputs": [
    {
     "data": {
      "text/plain": [
       "0.304437564499484"
      ]
     },
     "execution_count": 46,
     "metadata": {},
     "output_type": "execute_result"
    }
   ],
   "source": [
    "bnb.fit(Ftrain, Ltrain)\n",
    "y_pred = bnb.predict(Ftest)\n",
    "metrics.accuracy_score(Ltest, y_pred)"
   ]
  },
  {
   "cell_type": "code",
   "execution_count": 47,
   "id": "f3c6b16f",
   "metadata": {},
   "outputs": [
    {
     "name": "stdout",
     "output_type": "stream",
     "text": [
      "                               precision    recall  f1-score   support\n",
      "\n",
      "               bacterial_spot       0.35      0.10      0.15       345\n",
      "                 early_blight       0.00      0.00      0.00       153\n",
      "                      healthy       0.35      0.38      0.36       234\n",
      "                  late_blight       0.00      0.00      0.00       309\n",
      "                    leaf_mold       0.00      0.00      0.00       145\n",
      "           septoria_leaf_spot       0.15      0.09      0.11       293\n",
      "                  target_spot       0.00      0.00      0.00       240\n",
      "          tomato_mosaic_virus       0.00      0.00      0.00        54\n",
      "tomato_yellow_leaf_curl_virus       0.31      0.86      0.46       854\n",
      "      two-spotted_spider_mite       0.00      0.00      0.00       280\n",
      "\n",
      "                     accuracy                           0.30      2907\n",
      "                    macro avg       0.12      0.14      0.11      2907\n",
      "                 weighted avg       0.18      0.30      0.19      2907\n",
      "\n",
      "[[ 33   0  14   0   0  10   0   0 288   0]\n",
      " [  9   0   0   0   0   4   0   0 140   0]\n",
      " [  3   0  89   0   0  30   0   0 112   0]\n",
      " [  8   0  55   0   0  22   0   0 224   0]\n",
      " [  3   0   7   0   0   5   0   0 130   0]\n",
      " [  0   0  24   0   0  26   0   0 243   0]\n",
      " [ 10   0   4   0   0  17   0   0 209   0]\n",
      " [  1   0   3   0   0   2   0   0  48   0]\n",
      " [ 22   0  57   0   0  38   0   0 737   0]\n",
      " [  4   0   1   0   0  22   0   0 253   0]]\n"
     ]
    },
    {
     "name": "stderr",
     "output_type": "stream",
     "text": [
      "C:\\Users\\ravic\\anaconda3\\lib\\site-packages\\sklearn\\metrics\\_classification.py:1248: UndefinedMetricWarning: Precision and F-score are ill-defined and being set to 0.0 in labels with no predicted samples. Use `zero_division` parameter to control this behavior.\n",
      "  _warn_prf(average, modifier, msg_start, len(result))\n",
      "C:\\Users\\ravic\\anaconda3\\lib\\site-packages\\sklearn\\metrics\\_classification.py:1248: UndefinedMetricWarning: Precision and F-score are ill-defined and being set to 0.0 in labels with no predicted samples. Use `zero_division` parameter to control this behavior.\n",
      "  _warn_prf(average, modifier, msg_start, len(result))\n",
      "C:\\Users\\ravic\\anaconda3\\lib\\site-packages\\sklearn\\metrics\\_classification.py:1248: UndefinedMetricWarning: Precision and F-score are ill-defined and being set to 0.0 in labels with no predicted samples. Use `zero_division` parameter to control this behavior.\n",
      "  _warn_prf(average, modifier, msg_start, len(result))\n"
     ]
    }
   ],
   "source": [
    "class_names = target.unique()\n",
    "print(classification_report(Ltest, y_pred, target_names=class_names))\n",
    "print(confusion_matrix(Ltest, y_pred))"
   ]
  },
  {
   "cell_type": "markdown",
   "id": "d144692e",
   "metadata": {},
   "source": [
    "# Multinomial Naive bayes on Green data"
   ]
  },
  {
   "cell_type": "code",
   "execution_count": 48,
   "id": "a7a34c33",
   "metadata": {},
   "outputs": [
    {
     "data": {
      "text/plain": [
       "0.304437564499484"
      ]
     },
     "execution_count": 48,
     "metadata": {},
     "output_type": "execute_result"
    }
   ],
   "source": [
    "mnb.fit(Ftrain, Ltrain)\n",
    "y_pred = mnb.predict(Ftest)\n",
    "metrics.accuracy_score(Ltest, y_pred)"
   ]
  },
  {
   "cell_type": "code",
   "execution_count": 49,
   "id": "441ea45d",
   "metadata": {},
   "outputs": [
    {
     "name": "stderr",
     "output_type": "stream",
     "text": [
      "C:\\Users\\ravic\\anaconda3\\lib\\site-packages\\sklearn\\metrics\\_classification.py:1248: UndefinedMetricWarning: Precision and F-score are ill-defined and being set to 0.0 in labels with no predicted samples. Use `zero_division` parameter to control this behavior.\n",
      "  _warn_prf(average, modifier, msg_start, len(result))\n"
     ]
    },
    {
     "name": "stdout",
     "output_type": "stream",
     "text": [
      "                               precision    recall  f1-score   support\n",
      "\n",
      "               bacterial_spot       0.35      0.10      0.15       345\n",
      "                 early_blight       0.00      0.00      0.00       153\n",
      "                      healthy       0.35      0.38      0.36       234\n",
      "                  late_blight       0.00      0.00      0.00       309\n",
      "                    leaf_mold       0.00      0.00      0.00       145\n",
      "           septoria_leaf_spot       0.15      0.09      0.11       293\n",
      "                  target_spot       0.00      0.00      0.00       240\n",
      "          tomato_mosaic_virus       0.00      0.00      0.00        54\n",
      "tomato_yellow_leaf_curl_virus       0.31      0.86      0.46       854\n",
      "      two-spotted_spider_mite       0.00      0.00      0.00       280\n",
      "\n",
      "                     accuracy                           0.30      2907\n",
      "                    macro avg       0.12      0.14      0.11      2907\n",
      "                 weighted avg       0.18      0.30      0.19      2907\n",
      "\n",
      "[[ 33   0  14   0   0  10   0   0 288   0]\n",
      " [  9   0   0   0   0   4   0   0 140   0]\n",
      " [  3   0  89   0   0  30   0   0 112   0]\n",
      " [  8   0  55   0   0  22   0   0 224   0]\n",
      " [  3   0   7   0   0   5   0   0 130   0]\n",
      " [  0   0  24   0   0  26   0   0 243   0]\n",
      " [ 10   0   4   0   0  17   0   0 209   0]\n",
      " [  1   0   3   0   0   2   0   0  48   0]\n",
      " [ 22   0  57   0   0  38   0   0 737   0]\n",
      " [  4   0   1   0   0  22   0   0 253   0]]\n"
     ]
    },
    {
     "name": "stderr",
     "output_type": "stream",
     "text": [
      "C:\\Users\\ravic\\anaconda3\\lib\\site-packages\\sklearn\\metrics\\_classification.py:1248: UndefinedMetricWarning: Precision and F-score are ill-defined and being set to 0.0 in labels with no predicted samples. Use `zero_division` parameter to control this behavior.\n",
      "  _warn_prf(average, modifier, msg_start, len(result))\n",
      "C:\\Users\\ravic\\anaconda3\\lib\\site-packages\\sklearn\\metrics\\_classification.py:1248: UndefinedMetricWarning: Precision and F-score are ill-defined and being set to 0.0 in labels with no predicted samples. Use `zero_division` parameter to control this behavior.\n",
      "  _warn_prf(average, modifier, msg_start, len(result))\n"
     ]
    }
   ],
   "source": [
    "class_names = target.unique()\n",
    "print(classification_report(Ltest, y_pred, target_names=class_names))\n",
    "print(confusion_matrix(Ltest, y_pred))"
   ]
  },
  {
   "cell_type": "markdown",
   "id": "a6a80ecb",
   "metadata": {},
   "source": [
    "# Blue channel data"
   ]
  },
  {
   "cell_type": "code",
   "execution_count": 50,
   "id": "06094596",
   "metadata": {},
   "outputs": [],
   "source": [
    "os.chdir('D://DKIT//dissertation//Dataset_of_Tomato_Leaves//plantvillage//Preprocessed_data//64//PCA//')\n",
    "features = pd.read_csv('blue.csv')\n",
    "#changing path\n",
    "os.chdir('D://DKIT//dissertation//Dataset_of_Tomato_Leaves//plantvillage//Preprocessed_data//64//vector//')\n",
    "#reading csv file\n",
    "blue_df = pd.read_csv('blue_data.csv')\n",
    "features = features.values\n",
    "target = blue_df['disease']\n",
    "#splitting the data to train and test\n",
    "Ftrain,Ftest,Ltrain,Ltest=train_test_split(features,target, test_size=0.20, random_state=24)"
   ]
  },
  {
   "cell_type": "markdown",
   "id": "4d40997b",
   "metadata": {},
   "source": [
    "# SVM(poly) on blue data"
   ]
  },
  {
   "cell_type": "code",
   "execution_count": 51,
   "id": "39b88095",
   "metadata": {},
   "outputs": [
    {
     "name": "stdout",
     "output_type": "stream",
     "text": [
      "0.4908840729274166\n"
     ]
    }
   ],
   "source": [
    "svm_poly.fit(Ftrain,Ltrain)\n",
    "y_pred = svm_poly.predict(Ftest)\n",
    "print(accuracy_score(Ltest,y_pred))"
   ]
  },
  {
   "cell_type": "code",
   "execution_count": 52,
   "id": "dc98d740",
   "metadata": {},
   "outputs": [
    {
     "name": "stdout",
     "output_type": "stream",
     "text": [
      "                               precision    recall  f1-score   support\n",
      "\n",
      "               bacterial_spot       0.33      0.23      0.27       345\n",
      "                 early_blight       0.25      0.01      0.02       153\n",
      "                      healthy       0.63      0.53      0.57       234\n",
      "                  late_blight       0.64      0.38      0.48       309\n",
      "                    leaf_mold       0.49      0.33      0.40       145\n",
      "           septoria_leaf_spot       0.55      0.45      0.50       293\n",
      "                  target_spot       0.30      0.24      0.27       240\n",
      "          tomato_mosaic_virus       0.00      0.00      0.00        54\n",
      "tomato_yellow_leaf_curl_virus       0.51      0.94      0.66       854\n",
      "      two-spotted_spider_mite       0.34      0.24      0.28       280\n",
      "\n",
      "                     accuracy                           0.49      2907\n",
      "                    macro avg       0.41      0.34      0.35      2907\n",
      "                 weighted avg       0.46      0.49      0.44      2907\n",
      "\n",
      "[[ 79   0   1   6   1   0   4   0 248   6]\n",
      " [ 11   2   4   8   1   7  25   0  85  10]\n",
      " [ 38   0 124  16   2   1  16   0  20  17]\n",
      " [ 25   3  38 118  22  25  16   0  54   8]\n",
      " [  4   3   9   9  48  26  10   0  25  11]\n",
      " [ 11   0   1  13  17 133  15   0  94   9]\n",
      " [ 32   0   7   5   5  22  58   0  67  44]\n",
      " [  6   0   3   2   1   6   5   0  18  13]\n",
      " [ 15   0   6   3   1  14   8   0 799   8]\n",
      " [ 17   0   5   3   0   8  35   0 146  66]]\n"
     ]
    },
    {
     "name": "stderr",
     "output_type": "stream",
     "text": [
      "C:\\Users\\ravic\\anaconda3\\lib\\site-packages\\sklearn\\metrics\\_classification.py:1248: UndefinedMetricWarning: Precision and F-score are ill-defined and being set to 0.0 in labels with no predicted samples. Use `zero_division` parameter to control this behavior.\n",
      "  _warn_prf(average, modifier, msg_start, len(result))\n",
      "C:\\Users\\ravic\\anaconda3\\lib\\site-packages\\sklearn\\metrics\\_classification.py:1248: UndefinedMetricWarning: Precision and F-score are ill-defined and being set to 0.0 in labels with no predicted samples. Use `zero_division` parameter to control this behavior.\n",
      "  _warn_prf(average, modifier, msg_start, len(result))\n",
      "C:\\Users\\ravic\\anaconda3\\lib\\site-packages\\sklearn\\metrics\\_classification.py:1248: UndefinedMetricWarning: Precision and F-score are ill-defined and being set to 0.0 in labels with no predicted samples. Use `zero_division` parameter to control this behavior.\n",
      "  _warn_prf(average, modifier, msg_start, len(result))\n"
     ]
    }
   ],
   "source": [
    "#classification report\n",
    "y_predict = svm_poly.fit(Ftrain, Ltrain).predict(Ftest)\n",
    "class_names = target.unique()\n",
    "print(classification_report(Ltest, y_predict, target_names=class_names))\n",
    "print(confusion_matrix(Ltest, y_predict))"
   ]
  },
  {
   "cell_type": "markdown",
   "id": "5226f4f2",
   "metadata": {},
   "source": [
    "# SVM(RBF) on blue data"
   ]
  },
  {
   "cell_type": "code",
   "execution_count": 53,
   "id": "183a5680",
   "metadata": {},
   "outputs": [
    {
     "name": "stdout",
     "output_type": "stream",
     "text": [
      "0.5775713794289645\n"
     ]
    }
   ],
   "source": [
    "svm_rbf.fit(Ftrain,Ltrain)\n",
    "y_pred = svm_rbf.predict(Ftest)\n",
    "print(accuracy_score(Ltest,y_pred))"
   ]
  },
  {
   "cell_type": "code",
   "execution_count": 54,
   "id": "22270861",
   "metadata": {},
   "outputs": [
    {
     "name": "stdout",
     "output_type": "stream",
     "text": [
      "                               precision    recall  f1-score   support\n",
      "\n",
      "               bacterial_spot       0.53      0.57      0.55       345\n",
      "                 early_blight       0.51      0.12      0.19       153\n",
      "                      healthy       0.61      0.82      0.70       234\n",
      "                  late_blight       0.66      0.49      0.56       309\n",
      "                    leaf_mold       0.53      0.45      0.49       145\n",
      "           septoria_leaf_spot       0.54      0.50      0.52       293\n",
      "                  target_spot       0.39      0.39      0.39       240\n",
      "          tomato_mosaic_virus       0.00      0.00      0.00        54\n",
      "tomato_yellow_leaf_curl_virus       0.66      0.84      0.74       854\n",
      "      two-spotted_spider_mite       0.42      0.36      0.39       280\n",
      "\n",
      "                     accuracy                           0.58      2907\n",
      "                    macro avg       0.49      0.45      0.45      2907\n",
      "                 weighted avg       0.56      0.58      0.55      2907\n",
      "\n",
      "[[196   2  13   5   2   0   6   0 109  12]\n",
      " [ 15  18   6  17   1   8  17   0  61  10]\n",
      " [  9   0 191   9   3   2  13   0   1   6]\n",
      " [ 10   4  41 152  15  25  17   0  39   6]\n",
      " [  2   3   7  19  65  16  10   0  13  10]\n",
      " [ 14   2  12   8  30 146  17   1  52  11]\n",
      " [ 21   1  21   3   3  24  93   0  21  53]\n",
      " [  7   0   7   1   2  14  11   0   2  10]\n",
      " [ 65   4   5  12   0  21  10   0 718  19]\n",
      " [ 33   1  11   5   2  12  42   0  74 100]]\n"
     ]
    }
   ],
   "source": [
    "#classification report\n",
    "y_predict = svm_rbf.fit(Ftrain, Ltrain).predict(Ftest)\n",
    "class_names = target.unique()\n",
    "print(classification_report(Ltest, y_predict, target_names=class_names))\n",
    "print(confusion_matrix(Ltest, y_predict))"
   ]
  },
  {
   "cell_type": "markdown",
   "id": "09f47e7e",
   "metadata": {},
   "source": [
    "# SVM(sigmoid) on blue data"
   ]
  },
  {
   "cell_type": "code",
   "execution_count": 55,
   "id": "4401c844",
   "metadata": {},
   "outputs": [
    {
     "name": "stdout",
     "output_type": "stream",
     "text": [
      "0.283109735122119\n"
     ]
    }
   ],
   "source": [
    "svm_si.fit(Ftrain,Ltrain)\n",
    "y_pred = svm_si.predict(Ftest)\n",
    "print(accuracy_score(Ltest,y_pred))"
   ]
  },
  {
   "cell_type": "code",
   "execution_count": 56,
   "id": "4372e59f",
   "metadata": {},
   "outputs": [
    {
     "name": "stdout",
     "output_type": "stream",
     "text": [
      "                               precision    recall  f1-score   support\n",
      "\n",
      "               bacterial_spot       0.20      0.13      0.16       345\n",
      "                 early_blight       0.05      0.01      0.01       153\n",
      "                      healthy       0.18      0.12      0.15       234\n",
      "                  late_blight       0.13      0.28      0.18       309\n",
      "                    leaf_mold       0.08      0.14      0.11       145\n",
      "           septoria_leaf_spot       0.16      0.25      0.20       293\n",
      "                  target_spot       0.15      0.05      0.08       240\n",
      "          tomato_mosaic_virus       0.00      0.00      0.00        54\n",
      "tomato_yellow_leaf_curl_virus       0.63      0.62      0.62       854\n",
      "      two-spotted_spider_mite       0.12      0.08      0.10       280\n",
      "\n",
      "                     accuracy                           0.28      2907\n",
      "                    macro avg       0.17      0.17      0.16      2907\n",
      "                 weighted avg       0.28      0.28      0.27      2907\n",
      "\n",
      "[[ 46   1   6 130   4  13   1   0 136   8]\n",
      " [  5   1   8  34  22  29   2   0  42  10]\n",
      " [ 21   0  29 142  20  12   7   0   1   2]\n",
      " [ 47   5  80  87  24  20  10   0  13  23]\n",
      " [  2   3   6  51  21  21   8   3  15  15]\n",
      " [  2   0   9  27  62  73  37   4  43  36]\n",
      " [  1   1  10  54  34  97  13   0  13  17]\n",
      " [  0   0   0  14   8  29   1   0   1   1]\n",
      " [ 93  10   2  94  22  56   4   0 531  42]\n",
      " [ 10   1   7  45  37 105   1   0  52  22]]\n"
     ]
    }
   ],
   "source": [
    "#classification report\n",
    "y_predict = svm_si.fit(Ftrain, Ltrain).predict(Ftest)\n",
    "class_names = target.unique()\n",
    "print(classification_report(Ltest, y_predict, target_names=class_names))\n",
    "print(confusion_matrix(Ltest, y_predict))"
   ]
  },
  {
   "cell_type": "markdown",
   "id": "7401f4ab",
   "metadata": {},
   "source": [
    "# Bernouli Naive bayes on blue data"
   ]
  },
  {
   "cell_type": "code",
   "execution_count": 57,
   "id": "a8ddf84b",
   "metadata": {},
   "outputs": [
    {
     "data": {
      "text/plain": [
       "0.413484692122463"
      ]
     },
     "execution_count": 57,
     "metadata": {},
     "output_type": "execute_result"
    }
   ],
   "source": [
    "bnb.fit(Ftrain, Ltrain)\n",
    "y_pred = bnb.predict(Ftest)\n",
    "metrics.accuracy_score(Ltest, y_pred)"
   ]
  },
  {
   "cell_type": "code",
   "execution_count": 58,
   "id": "944621bd",
   "metadata": {},
   "outputs": [
    {
     "name": "stdout",
     "output_type": "stream",
     "text": [
      "                               precision    recall  f1-score   support\n",
      "\n",
      "               bacterial_spot       0.00      0.00      0.00       345\n",
      "                 early_blight       0.00      0.00      0.00       153\n",
      "                      healthy       0.43      0.65      0.52       234\n",
      "                  late_blight       0.28      0.23      0.25       309\n",
      "                    leaf_mold       0.00      0.00      0.00       145\n",
      "           septoria_leaf_spot       0.24      0.48      0.32       293\n",
      "                  target_spot       0.29      0.23      0.26       240\n",
      "          tomato_mosaic_virus       0.00      0.00      0.00        54\n",
      "tomato_yellow_leaf_curl_virus       0.51      0.92      0.66       854\n",
      "      two-spotted_spider_mite       0.00      0.00      0.00       280\n",
      "\n",
      "                     accuracy                           0.41      2907\n",
      "                    macro avg       0.18      0.25      0.20      2907\n",
      "                 weighted avg       0.26      0.41      0.32      2907\n",
      "\n",
      "[[  0   0  36  31   0   8   6   0 264   0]\n",
      " [  0   0  13  16   0  29   8   0  87   0]\n",
      " [  0   0 152  30   0  37  12   0   3   0]\n",
      " [  0   0  88  70   0  55  16   0  80   0]\n",
      " [  0   0   7  29   0  62   7   0  40   0]\n",
      " [  0   0   4   7   0 140  39   0 103   0]\n",
      " [  0   0  27  19   0  99  55   0  40   0]\n",
      " [  0   0   2   8   0  30   7   0   7   0]\n",
      " [  0   0   8  24   0  33   4   0 785   0]\n",
      " [  0   0  15  13   0  94  36   0 122   0]]\n"
     ]
    },
    {
     "name": "stderr",
     "output_type": "stream",
     "text": [
      "C:\\Users\\ravic\\anaconda3\\lib\\site-packages\\sklearn\\metrics\\_classification.py:1248: UndefinedMetricWarning: Precision and F-score are ill-defined and being set to 0.0 in labels with no predicted samples. Use `zero_division` parameter to control this behavior.\n",
      "  _warn_prf(average, modifier, msg_start, len(result))\n",
      "C:\\Users\\ravic\\anaconda3\\lib\\site-packages\\sklearn\\metrics\\_classification.py:1248: UndefinedMetricWarning: Precision and F-score are ill-defined and being set to 0.0 in labels with no predicted samples. Use `zero_division` parameter to control this behavior.\n",
      "  _warn_prf(average, modifier, msg_start, len(result))\n",
      "C:\\Users\\ravic\\anaconda3\\lib\\site-packages\\sklearn\\metrics\\_classification.py:1248: UndefinedMetricWarning: Precision and F-score are ill-defined and being set to 0.0 in labels with no predicted samples. Use `zero_division` parameter to control this behavior.\n",
      "  _warn_prf(average, modifier, msg_start, len(result))\n"
     ]
    }
   ],
   "source": [
    "class_names = target.unique()\n",
    "print(classification_report(Ltest, y_pred, target_names=class_names))\n",
    "print(confusion_matrix(Ltest, y_pred))"
   ]
  },
  {
   "cell_type": "markdown",
   "id": "cbf0037b",
   "metadata": {},
   "source": [
    "# Multinomial Naive bayes on blue data"
   ]
  },
  {
   "cell_type": "code",
   "execution_count": 59,
   "id": "050a9f46",
   "metadata": {},
   "outputs": [
    {
     "data": {
      "text/plain": [
       "0.413484692122463"
      ]
     },
     "execution_count": 59,
     "metadata": {},
     "output_type": "execute_result"
    }
   ],
   "source": [
    "mnb.fit(Ftrain, Ltrain)\n",
    "y_pred = mnb.predict(Ftest)\n",
    "metrics.accuracy_score(Ltest, y_pred)"
   ]
  },
  {
   "cell_type": "code",
   "execution_count": 60,
   "id": "9a916b04",
   "metadata": {},
   "outputs": [
    {
     "name": "stdout",
     "output_type": "stream",
     "text": [
      "                               precision    recall  f1-score   support\n",
      "\n",
      "               bacterial_spot       0.00      0.00      0.00       345\n",
      "                 early_blight       0.00      0.00      0.00       153\n",
      "                      healthy       0.43      0.65      0.52       234\n",
      "                  late_blight       0.28      0.23      0.25       309\n",
      "                    leaf_mold       0.00      0.00      0.00       145\n",
      "           septoria_leaf_spot       0.24      0.48      0.32       293\n",
      "                  target_spot       0.29      0.23      0.26       240\n",
      "          tomato_mosaic_virus       0.00      0.00      0.00        54\n",
      "tomato_yellow_leaf_curl_virus       0.51      0.92      0.66       854\n",
      "      two-spotted_spider_mite       0.00      0.00      0.00       280\n",
      "\n",
      "                     accuracy                           0.41      2907\n",
      "                    macro avg       0.18      0.25      0.20      2907\n",
      "                 weighted avg       0.26      0.41      0.32      2907\n",
      "\n",
      "[[  0   0  36  31   0   8   6   0 264   0]\n",
      " [  0   0  13  16   0  29   8   0  87   0]\n",
      " [  0   0 152  30   0  37  12   0   3   0]\n",
      " [  0   0  88  70   0  55  16   0  80   0]\n",
      " [  0   0   7  29   0  62   7   0  40   0]\n",
      " [  0   0   4   7   0 140  39   0 103   0]\n",
      " [  0   0  27  19   0  99  55   0  40   0]\n",
      " [  0   0   2   8   0  30   7   0   7   0]\n",
      " [  0   0   8  24   0  33   4   0 785   0]\n",
      " [  0   0  15  13   0  94  36   0 122   0]]\n"
     ]
    },
    {
     "name": "stderr",
     "output_type": "stream",
     "text": [
      "C:\\Users\\ravic\\anaconda3\\lib\\site-packages\\sklearn\\metrics\\_classification.py:1248: UndefinedMetricWarning: Precision and F-score are ill-defined and being set to 0.0 in labels with no predicted samples. Use `zero_division` parameter to control this behavior.\n",
      "  _warn_prf(average, modifier, msg_start, len(result))\n",
      "C:\\Users\\ravic\\anaconda3\\lib\\site-packages\\sklearn\\metrics\\_classification.py:1248: UndefinedMetricWarning: Precision and F-score are ill-defined and being set to 0.0 in labels with no predicted samples. Use `zero_division` parameter to control this behavior.\n",
      "  _warn_prf(average, modifier, msg_start, len(result))\n",
      "C:\\Users\\ravic\\anaconda3\\lib\\site-packages\\sklearn\\metrics\\_classification.py:1248: UndefinedMetricWarning: Precision and F-score are ill-defined and being set to 0.0 in labels with no predicted samples. Use `zero_division` parameter to control this behavior.\n",
      "  _warn_prf(average, modifier, msg_start, len(result))\n"
     ]
    }
   ],
   "source": [
    "class_names = target.unique()\n",
    "print(classification_report(Ltest, y_pred, target_names=class_names))\n",
    "print(confusion_matrix(Ltest, y_pred))"
   ]
  },
  {
   "cell_type": "code",
   "execution_count": 61,
   "id": "195a0b21",
   "metadata": {},
   "outputs": [
    {
     "name": "stdout",
     "output_type": "stream",
     "text": [
      "187.84829187393188\n"
     ]
    }
   ],
   "source": [
    "end_time = time.time()\n",
    "print(end_time - start_time)"
   ]
  }
 ],
 "metadata": {
  "kernelspec": {
   "display_name": "Python 3 (ipykernel)",
   "language": "python",
   "name": "python3"
  },
  "language_info": {
   "codemirror_mode": {
    "name": "ipython",
    "version": 3
   },
   "file_extension": ".py",
   "mimetype": "text/x-python",
   "name": "python",
   "nbconvert_exporter": "python",
   "pygments_lexer": "ipython3",
   "version": "3.9.7"
  }
 },
 "nbformat": 4,
 "nbformat_minor": 5
}
