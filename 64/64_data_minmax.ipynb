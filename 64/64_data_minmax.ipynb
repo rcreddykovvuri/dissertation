{
 "cells": [
  {
   "cell_type": "code",
   "execution_count": 1,
   "id": "bcdb1517",
   "metadata": {},
   "outputs": [],
   "source": [
    "import numpy as np #importing numpy\n",
    "import pandas as pd #importing pandas\n",
    "import PIL #importing pillow for image processing\n",
    "from PIL import Image#importing image from pillow library\n",
    "import skimage#importing skimage library\n",
    "import os#importing os library\n",
    "import time#importing time library\n",
    "\n",
    "#Capture start time of the program\n",
    "start_time = time.time()"
   ]
  },
  {
   "cell_type": "code",
   "execution_count": 2,
   "id": "9ec45970",
   "metadata": {},
   "outputs": [],
   "source": [
    "os.chdir('D://DKIT//dissertation//Dataset_of_Tomato_Leaves//plantvillage//Preprocessed_data//64//vector//')"
   ]
  },
  {
   "cell_type": "code",
   "execution_count": 3,
   "id": "cbc71f85",
   "metadata": {},
   "outputs": [],
   "source": [
    "#importing classification report and confusion matrix\n",
    "from sklearn.metrics import classification_report, confusion_matrix"
   ]
  },
  {
   "cell_type": "markdown",
   "id": "7139bf53",
   "metadata": {},
   "source": [
    "# KNN on rgb data"
   ]
  },
  {
   "cell_type": "code",
   "execution_count": 4,
   "id": "9386938c",
   "metadata": {},
   "outputs": [],
   "source": [
    "#reading numpy array data\n",
    "rgb_test = np.load('rgb_data.npy')\n",
    "#reading csv file\n",
    "rgb_df = pd.read_csv('rgb_data.csv')"
   ]
  },
  {
   "cell_type": "code",
   "execution_count": 5,
   "id": "4f95f2f6",
   "metadata": {},
   "outputs": [],
   "source": [
    "loaded = []\n",
    "for i in rgb_test:\n",
    "    k = []\n",
    "    k = np.asarray(i,dtype='uint8')\n",
    "    loaded.append(k)"
   ]
  },
  {
   "cell_type": "code",
   "execution_count": 6,
   "id": "c6d5658c",
   "metadata": {},
   "outputs": [],
   "source": [
    "features = loaded\n",
    "target = rgb_df['disease']\n",
    "from sklearn.preprocessing import MinMaxScaler\n",
    "minmax = MinMaxScaler()\n",
    "from sklearn.model_selection import train_test_split\n",
    "Ftrain,Ftest,Ltrain,Ltest=train_test_split(features,target, test_size=0.20, random_state=24)"
   ]
  },
  {
   "cell_type": "code",
   "execution_count": 7,
   "id": "8cc86824",
   "metadata": {},
   "outputs": [],
   "source": [
    "Ftrain = minmax.fit_transform(Ftrain)\n",
    "Ftest = minmax.fit_transform(Ftest)"
   ]
  },
  {
   "cell_type": "code",
   "execution_count": 8,
   "id": "6f1171c6",
   "metadata": {},
   "outputs": [],
   "source": [
    "from sklearn.neighbors import KNeighborsClassifier\n",
    "kmodel = KNeighborsClassifier(n_neighbors=75)"
   ]
  },
  {
   "cell_type": "code",
   "execution_count": 9,
   "id": "b9fdc978",
   "metadata": {},
   "outputs": [
    {
     "data": {
      "text/plain": [
       "0.5669074647402821"
      ]
     },
     "execution_count": 9,
     "metadata": {},
     "output_type": "execute_result"
    }
   ],
   "source": [
    "kmodel.fit(Ftrain,Ltrain)\n",
    "kmodel.score(Ftest,Ltest)"
   ]
  },
  {
   "cell_type": "code",
   "execution_count": 10,
   "id": "cc56686d",
   "metadata": {},
   "outputs": [
    {
     "name": "stdout",
     "output_type": "stream",
     "text": [
      "                               precision    recall  f1-score   support\n",
      "\n",
      "               bacterial_spot       0.36      0.84      0.50       345\n",
      "                 early_blight       0.00      0.00      0.00       153\n",
      "                      healthy       0.45      0.87      0.59       234\n",
      "                  late_blight       0.52      0.46      0.49       309\n",
      "                    leaf_mold       0.68      0.54      0.60       145\n",
      "           septoria_leaf_spot       0.63      0.45      0.52       293\n",
      "                  target_spot       0.42      0.45      0.44       240\n",
      "          tomato_mosaic_virus       0.62      0.39      0.48        54\n",
      "tomato_yellow_leaf_curl_virus       0.90      0.69      0.78       854\n",
      "      two-spotted_spider_mite       0.77      0.31      0.44       280\n",
      "\n",
      "                     accuracy                           0.57      2907\n",
      "                    macro avg       0.54      0.50      0.48      2907\n",
      "                 weighted avg       0.62      0.57      0.56      2907\n",
      "\n",
      "[[291   0  33  11   0   0   1   0   9   0]\n",
      " [ 89   0  12   6   1   8  24   1  11   1]\n",
      " [ 12   0 203  14   0   0   3   0   0   2]\n",
      " [ 52   0  38 142  17  34   9   2  13   2]\n",
      " [ 19   0  15  20  78   6   2   4   1   0]\n",
      " [ 30   0  31  45  14 131  26   0  12   4]\n",
      " [ 64   0  49   5   0   7 108   4   1   2]\n",
      " [  5   0   9   9   3   2   3  21   1   1]\n",
      " [175   0  42   7   1  14  13   1 587  14]\n",
      " [ 74   0  17  15   0   5  67   1  14  87]]\n"
     ]
    },
    {
     "name": "stderr",
     "output_type": "stream",
     "text": [
      "C:\\Users\\ravic\\anaconda3\\lib\\site-packages\\sklearn\\metrics\\_classification.py:1318: UndefinedMetricWarning: Precision and F-score are ill-defined and being set to 0.0 in labels with no predicted samples. Use `zero_division` parameter to control this behavior.\n",
      "  _warn_prf(average, modifier, msg_start, len(result))\n",
      "C:\\Users\\ravic\\anaconda3\\lib\\site-packages\\sklearn\\metrics\\_classification.py:1318: UndefinedMetricWarning: Precision and F-score are ill-defined and being set to 0.0 in labels with no predicted samples. Use `zero_division` parameter to control this behavior.\n",
      "  _warn_prf(average, modifier, msg_start, len(result))\n",
      "C:\\Users\\ravic\\anaconda3\\lib\\site-packages\\sklearn\\metrics\\_classification.py:1318: UndefinedMetricWarning: Precision and F-score are ill-defined and being set to 0.0 in labels with no predicted samples. Use `zero_division` parameter to control this behavior.\n",
      "  _warn_prf(average, modifier, msg_start, len(result))\n"
     ]
    }
   ],
   "source": [
    "#printing results of the kmodel\n",
    "y_predict = kmodel.fit(Ftrain, Ltrain).predict(Ftest)\n",
    "class_names = target.unique()\n",
    "print(classification_report(Ltest, y_predict, target_names=class_names))\n",
    "print(confusion_matrix(Ltest, y_predict))"
   ]
  },
  {
   "cell_type": "markdown",
   "id": "d5c58638",
   "metadata": {},
   "source": [
    "# Logistic on rgb data"
   ]
  },
  {
   "cell_type": "code",
   "execution_count": 11,
   "id": "a84836ef",
   "metadata": {},
   "outputs": [
    {
     "data": {
      "text/plain": [
       "0.7478500171998624"
      ]
     },
     "execution_count": 11,
     "metadata": {},
     "output_type": "execute_result"
    }
   ],
   "source": [
    "from sklearn.linear_model import LogisticRegression\n",
    "model=LogisticRegression(solver='lbfgs', max_iter=10000)\n",
    "model.fit(Ftrain,Ltrain)\n",
    "model.score(Ftest,Ltest)"
   ]
  },
  {
   "cell_type": "code",
   "execution_count": 12,
   "id": "a1f10c9f",
   "metadata": {},
   "outputs": [
    {
     "name": "stdout",
     "output_type": "stream",
     "text": [
      "                               precision    recall  f1-score   support\n",
      "\n",
      "               bacterial_spot       0.76      0.77      0.77       345\n",
      "                 early_blight       0.31      0.39      0.35       153\n",
      "                      healthy       0.79      0.68      0.73       234\n",
      "                  late_blight       0.54      0.74      0.62       309\n",
      "                    leaf_mold       0.65      0.63      0.64       145\n",
      "           septoria_leaf_spot       0.78      0.61      0.69       293\n",
      "                  target_spot       0.74      0.63      0.68       240\n",
      "          tomato_mosaic_virus       0.75      0.78      0.76        54\n",
      "tomato_yellow_leaf_curl_virus       0.93      0.90      0.91       854\n",
      "      two-spotted_spider_mite       0.81      0.81      0.81       280\n",
      "\n",
      "                     accuracy                           0.75      2907\n",
      "                    macro avg       0.71      0.69      0.70      2907\n",
      "                 weighted avg       0.76      0.75      0.75      2907\n",
      "\n",
      "[[265  30   2  29   0   1   3   0  15   0]\n",
      " [ 20  60   2  33   2   5  16   3   9   3]\n",
      " [  7  16 160  32   3   2  12   0   0   2]\n",
      " [ 15  26   9 229   8   5   0   1  10   6]\n",
      " [  0  12   3  13  91  14   3   0   5   4]\n",
      " [  7  12   3  34  20 180  14   7   9   7]\n",
      " [  6  17  20   8   6  15 151   1   0  16]\n",
      " [  0   0   1   0   3   5   2  42   0   1]\n",
      " [ 24   8   0  28   4   5   1   0 769  15]\n",
      " [  3  10   3  18   2   0   2   2  13 227]]\n"
     ]
    }
   ],
   "source": [
    "#classification report\n",
    "y_predict = model.fit(Ftrain, Ltrain).predict(Ftest)\n",
    "class_names = target.unique()\n",
    "print(classification_report(Ltest, y_predict, target_names=class_names))\n",
    "print(confusion_matrix(Ltest, y_predict))"
   ]
  },
  {
   "cell_type": "markdown",
   "id": "6fe194bc",
   "metadata": {},
   "source": [
    "# SVM on RGB data"
   ]
  },
  {
   "cell_type": "code",
   "execution_count": 13,
   "id": "2427ed51",
   "metadata": {},
   "outputs": [
    {
     "name": "stdout",
     "output_type": "stream",
     "text": [
      "0.7512899896800825\n"
     ]
    }
   ],
   "source": [
    "from sklearn.svm import SVC\n",
    "from sklearn.metrics import accuracy_score\n",
    "\n",
    "clf = SVC(kernel='linear')\n",
    "clf.fit(Ftrain,Ltrain)\n",
    "y_pred = clf.predict(Ftest)\n",
    "print(accuracy_score(Ltest,y_pred))"
   ]
  },
  {
   "cell_type": "code",
   "execution_count": 14,
   "id": "4103cc2e",
   "metadata": {},
   "outputs": [
    {
     "name": "stdout",
     "output_type": "stream",
     "text": [
      "                               precision    recall  f1-score   support\n",
      "\n",
      "               bacterial_spot       0.71      0.79      0.75       345\n",
      "                 early_blight       0.29      0.38      0.33       153\n",
      "                      healthy       0.73      0.85      0.79       234\n",
      "                  late_blight       0.59      0.67      0.63       309\n",
      "                    leaf_mold       0.68      0.63      0.65       145\n",
      "           septoria_leaf_spot       0.72      0.59      0.65       293\n",
      "                  target_spot       0.75      0.70      0.73       240\n",
      "          tomato_mosaic_virus       0.81      0.72      0.76        54\n",
      "tomato_yellow_leaf_curl_virus       0.93      0.89      0.91       854\n",
      "      two-spotted_spider_mite       0.92      0.76      0.83       280\n",
      "\n",
      "                     accuracy                           0.75      2907\n",
      "                    macro avg       0.71      0.70      0.70      2907\n",
      "                 weighted avg       0.77      0.75      0.76      2907\n",
      "\n",
      "[[272  33   3  16   0   1   2   0  18   0]\n",
      " [ 35  58   2  26   3   7  13   1   7   1]\n",
      " [  3   4 199  11   3   2  12   0   0   0]\n",
      " [ 24  29  19 208   6  12   1   0   6   4]\n",
      " [  1   7   8  17  91  13   2   0   4   2]\n",
      " [  4  16  17  36  17 174  15   6   7   1]\n",
      " [ 11  27  17   0   2  11 168   1   1   2]\n",
      " [  0   0   0   0   2  13   0  39   0   0]\n",
      " [ 31  15   0  23   4   5   5   0 762   9]\n",
      " [  4   9   8  16   6   3   5   1  15 213]]\n"
     ]
    }
   ],
   "source": [
    "#classification report\n",
    "y_predict = clf.fit(Ftrain, Ltrain).predict(Ftest)\n",
    "class_names = target.unique()\n",
    "print(classification_report(Ltest, y_predict, target_names=class_names))\n",
    "print(confusion_matrix(Ltest, y_predict))"
   ]
  },
  {
   "cell_type": "markdown",
   "id": "73bef6fa",
   "metadata": {},
   "source": [
    "# Random Forest on RGB "
   ]
  },
  {
   "cell_type": "code",
   "execution_count": 15,
   "id": "6bae5a92",
   "metadata": {},
   "outputs": [],
   "source": [
    "from sklearn.ensemble import RandomForestClassifier"
   ]
  },
  {
   "cell_type": "code",
   "execution_count": 16,
   "id": "1d08a15e",
   "metadata": {},
   "outputs": [],
   "source": [
    "classifier_rf = RandomForestClassifier(random_state=42, n_jobs=-1, max_depth=5,n_estimators=100, oob_score=True)"
   ]
  },
  {
   "cell_type": "code",
   "execution_count": 17,
   "id": "938ad007",
   "metadata": {},
   "outputs": [
    {
     "data": {
      "text/plain": [
       "RandomForestClassifier(max_depth=5, n_jobs=-1, oob_score=True, random_state=42)"
      ]
     },
     "execution_count": 17,
     "metadata": {},
     "output_type": "execute_result"
    }
   ],
   "source": [
    "classifier_rf.fit(Ftrain, Ltrain)"
   ]
  },
  {
   "cell_type": "code",
   "execution_count": 18,
   "id": "e1769cec",
   "metadata": {},
   "outputs": [
    {
     "data": {
      "text/plain": [
       "0.5593599449415003"
      ]
     },
     "execution_count": 18,
     "metadata": {},
     "output_type": "execute_result"
    }
   ],
   "source": [
    "classifier_rf.oob_score_"
   ]
  },
  {
   "cell_type": "code",
   "execution_count": 19,
   "id": "c144f9db",
   "metadata": {},
   "outputs": [
    {
     "name": "stdout",
     "output_type": "stream",
     "text": [
      "                               precision    recall  f1-score   support\n",
      "\n",
      "               bacterial_spot       0.75      0.59      0.66       345\n",
      "                 early_blight       0.00      0.00      0.00       153\n",
      "                      healthy       0.49      0.93      0.64       234\n",
      "                  late_blight       0.54      0.22      0.32       309\n",
      "                    leaf_mold       0.78      0.32      0.45       145\n",
      "           septoria_leaf_spot       0.51      0.51      0.51       293\n",
      "                  target_spot       0.46      0.52      0.49       240\n",
      "          tomato_mosaic_virus       0.00      0.00      0.00        54\n",
      "tomato_yellow_leaf_curl_virus       0.59      0.97      0.73       854\n",
      "      two-spotted_spider_mite       0.86      0.11      0.20       280\n",
      "\n",
      "                     accuracy                           0.57      2907\n",
      "                    macro avg       0.50      0.42      0.40      2907\n",
      "                 weighted avg       0.57      0.57      0.51      2907\n",
      "\n",
      "[[202   0  33  14   0   1  10   0  85   0]\n",
      " [ 21   0   6   6   0  23  24   0  72   1]\n",
      " [  0   0 217   1   1   1   4   0   9   1]\n",
      " [  3   0  91  69   5  50  22   0  69   0]\n",
      " [  9   0  32  12  46  11   9   0  26   0]\n",
      " [  9   0  15  12   5 149   8   0  95   0]\n",
      " [  8   0  24   5   0  36 124   0  41   2]\n",
      " [  4   0   7   4   2   7   6   0  23   1]\n",
      " [  6   0   9   1   0   9   3   0 826   0]\n",
      " [  6   0  11   4   0   6  61   0 160  32]]\n"
     ]
    },
    {
     "name": "stderr",
     "output_type": "stream",
     "text": [
      "C:\\Users\\ravic\\anaconda3\\lib\\site-packages\\sklearn\\metrics\\_classification.py:1318: UndefinedMetricWarning: Precision and F-score are ill-defined and being set to 0.0 in labels with no predicted samples. Use `zero_division` parameter to control this behavior.\n",
      "  _warn_prf(average, modifier, msg_start, len(result))\n",
      "C:\\Users\\ravic\\anaconda3\\lib\\site-packages\\sklearn\\metrics\\_classification.py:1318: UndefinedMetricWarning: Precision and F-score are ill-defined and being set to 0.0 in labels with no predicted samples. Use `zero_division` parameter to control this behavior.\n",
      "  _warn_prf(average, modifier, msg_start, len(result))\n",
      "C:\\Users\\ravic\\anaconda3\\lib\\site-packages\\sklearn\\metrics\\_classification.py:1318: UndefinedMetricWarning: Precision and F-score are ill-defined and being set to 0.0 in labels with no predicted samples. Use `zero_division` parameter to control this behavior.\n",
      "  _warn_prf(average, modifier, msg_start, len(result))\n"
     ]
    }
   ],
   "source": [
    "y_predict = classifier_rf.fit(Ftrain, Ltrain).predict(Ftest)\n",
    "class_names = target.unique()\n",
    "print(classification_report(Ltest, y_predict, target_names=class_names))\n",
    "print(confusion_matrix(Ltest, y_predict))"
   ]
  },
  {
   "cell_type": "markdown",
   "id": "b6a094e4",
   "metadata": {},
   "source": [
    "# Naive Bayes on RGB data"
   ]
  },
  {
   "cell_type": "code",
   "execution_count": 20,
   "id": "a5bc755b",
   "metadata": {},
   "outputs": [
    {
     "data": {
      "text/plain": [
       "GaussianNB()"
      ]
     },
     "execution_count": 20,
     "metadata": {},
     "output_type": "execute_result"
    }
   ],
   "source": [
    "from sklearn.naive_bayes import GaussianNB\n",
    "gnb = GaussianNB()\n",
    "gnb.fit(Ftrain, Ltrain)"
   ]
  },
  {
   "cell_type": "code",
   "execution_count": 21,
   "id": "6d162dcc",
   "metadata": {},
   "outputs": [],
   "source": [
    "y_pred = gnb.predict(Ftest)"
   ]
  },
  {
   "cell_type": "code",
   "execution_count": 22,
   "id": "8f7b4bab",
   "metadata": {},
   "outputs": [
    {
     "data": {
      "text/plain": [
       "0.5118679050567595"
      ]
     },
     "execution_count": 22,
     "metadata": {},
     "output_type": "execute_result"
    }
   ],
   "source": [
    "from sklearn import metrics\n",
    "metrics.accuracy_score(Ltest, y_pred)"
   ]
  },
  {
   "cell_type": "code",
   "execution_count": 23,
   "id": "980b37c5",
   "metadata": {},
   "outputs": [
    {
     "name": "stdout",
     "output_type": "stream",
     "text": [
      "                               precision    recall  f1-score   support\n",
      "\n",
      "               bacterial_spot       0.62      0.69      0.65       345\n",
      "                 early_blight       0.22      0.28      0.25       153\n",
      "                      healthy       0.44      0.68      0.53       234\n",
      "                  late_blight       0.47      0.35      0.40       309\n",
      "                    leaf_mold       0.59      0.43      0.50       145\n",
      "           septoria_leaf_spot       0.36      0.55      0.43       293\n",
      "                  target_spot       0.52      0.49      0.51       240\n",
      "          tomato_mosaic_virus       0.21      0.65      0.32        54\n",
      "tomato_yellow_leaf_curl_virus       0.91      0.49      0.64       854\n",
      "      two-spotted_spider_mite       0.44      0.51      0.47       280\n",
      "\n",
      "                     accuracy                           0.51      2907\n",
      "                    macro avg       0.48      0.51      0.47      2907\n",
      "                 weighted avg       0.59      0.51      0.53      2907\n",
      "\n",
      "[[239  11  34   8   3   8  11   7  17   7]\n",
      " [ 29  43   2  29   0  14  21   4   4   7]\n",
      " [  1   3 158  11   5  12  26   5   0  13]\n",
      " [  0  38  90 107  13  39   4   7   4   7]\n",
      " [  4   4   3  13  63  30   2  19   2   5]\n",
      " [  4   7  38  12  13 161  24  14   8  12]\n",
      " [  8  11   5  14   1  42 117  11   1  30]\n",
      " [  2   0   4   0   2   9   2  35   0   0]\n",
      " [ 88  52  29  29   6  81   2  40 421 106]\n",
      " [ 10  24   0   7   1  55  14  21   4 144]]\n"
     ]
    }
   ],
   "source": [
    "class_names = target.unique()\n",
    "print(classification_report(Ltest, y_pred, target_names=class_names))\n",
    "print(confusion_matrix(Ltest, y_pred))"
   ]
  },
  {
   "cell_type": "markdown",
   "id": "0ce0377b",
   "metadata": {},
   "source": [
    "# Decision Tree on RGB data"
   ]
  },
  {
   "cell_type": "code",
   "execution_count": 24,
   "id": "b9bba328",
   "metadata": {},
   "outputs": [],
   "source": [
    "from sklearn.tree import DecisionTreeClassifier\n",
    "classifier_tree = DecisionTreeClassifier()"
   ]
  },
  {
   "cell_type": "code",
   "execution_count": 25,
   "id": "b98668ce",
   "metadata": {},
   "outputs": [
    {
     "data": {
      "text/plain": [
       "0.47987616099071206"
      ]
     },
     "execution_count": 25,
     "metadata": {},
     "output_type": "execute_result"
    }
   ],
   "source": [
    "classifier_tree.fit(Ftrain, Ltrain)\n",
    "classifier_tree.score(Ftest,Ltest)"
   ]
  },
  {
   "cell_type": "code",
   "execution_count": 26,
   "id": "9fb604d9",
   "metadata": {},
   "outputs": [
    {
     "name": "stdout",
     "output_type": "stream",
     "text": [
      "                               precision    recall  f1-score   support\n",
      "\n",
      "               bacterial_spot       0.49      0.50      0.50       345\n",
      "                 early_blight       0.10      0.12      0.11       153\n",
      "                      healthy       0.53      0.59      0.56       234\n",
      "                  late_blight       0.46      0.47      0.46       309\n",
      "                    leaf_mold       0.39      0.41      0.40       145\n",
      "           septoria_leaf_spot       0.35      0.43      0.39       293\n",
      "                  target_spot       0.39      0.40      0.40       240\n",
      "          tomato_mosaic_virus       0.09      0.11      0.10        54\n",
      "tomato_yellow_leaf_curl_virus       0.74      0.62      0.67       854\n",
      "      two-spotted_spider_mite       0.40      0.36      0.38       280\n",
      "\n",
      "                     accuracy                           0.48      2907\n",
      "                    macro avg       0.39      0.40      0.40      2907\n",
      "                 weighted avg       0.50      0.48      0.49      2907\n",
      "\n",
      "[[174  34  15  21   7  27  23   5  27  12]\n",
      " [ 32  18   7  19   7  16  17   5  21  11]\n",
      " [ 13  10 139  17   7   9  14   7   8  10]\n",
      " [ 14  16  25 144  15  37  18   6  27   7]\n",
      " [  6   9   5   7  60  19   7   6  19   7]\n",
      " [ 14  10  11  30  16 126  17   6  40  23]\n",
      " [ 12  17  23  20   9  24  97   5   8  25]\n",
      " [  5   4   8   5   6  10   7   6   2   1]\n",
      " [ 76  40  15  36  17  53  13  17 530  57]\n",
      " [ 12  17  12  17  10  34  35   6  36 101]]\n"
     ]
    }
   ],
   "source": [
    "y_predict = classifier_tree.fit(Ftrain, Ltrain).predict(Ftest)\n",
    "class_names = target.unique()\n",
    "print(classification_report(Ltest, y_predict, target_names=class_names))\n",
    "print(confusion_matrix(Ltest, y_predict))"
   ]
  },
  {
   "cell_type": "markdown",
   "id": "c9daaaee",
   "metadata": {},
   "source": [
    "# KNN on grayscale data"
   ]
  },
  {
   "cell_type": "code",
   "execution_count": 27,
   "id": "57a9845e",
   "metadata": {},
   "outputs": [],
   "source": [
    "#reading numpy array data\n",
    "gray_test = np.load('gray_test.npy')\n",
    "#reading csv file\n",
    "gray_df = pd.read_csv('gray_data.csv')"
   ]
  },
  {
   "cell_type": "code",
   "execution_count": 28,
   "id": "25d4fea2",
   "metadata": {},
   "outputs": [],
   "source": [
    "loaded = []\n",
    "for i in gray_test:\n",
    "    k = []\n",
    "    k = np.asarray(i,dtype='uint8')\n",
    "    loaded.append(k)"
   ]
  },
  {
   "cell_type": "code",
   "execution_count": 29,
   "id": "d3abef95",
   "metadata": {},
   "outputs": [],
   "source": [
    "features = loaded\n",
    "target = gray_df['disease']\n",
    "Ftrain,Ftest,Ltrain,Ltest=train_test_split(features,target, test_size=0.20, random_state=20)\n",
    "Ftrain = minmax.fit_transform(Ftrain)\n",
    "Ftest = minmax.fit_transform(Ftest)"
   ]
  },
  {
   "cell_type": "code",
   "execution_count": 30,
   "id": "6f75adfd",
   "metadata": {},
   "outputs": [
    {
     "data": {
      "text/plain": [
       "0.456828345373237"
      ]
     },
     "execution_count": 30,
     "metadata": {},
     "output_type": "execute_result"
    }
   ],
   "source": [
    "kmodel.fit(Ftrain,Ltrain)\n",
    "kmodel.score(Ftest,Ltest)"
   ]
  },
  {
   "cell_type": "code",
   "execution_count": 31,
   "id": "77baa349",
   "metadata": {},
   "outputs": [
    {
     "name": "stdout",
     "output_type": "stream",
     "text": [
      "                               precision    recall  f1-score   support\n",
      "\n",
      "               bacterial_spot       0.36      0.78      0.49       349\n",
      "                 early_blight       0.00      0.00      0.00       182\n",
      "                      healthy       0.34      0.66      0.45       258\n",
      "                  late_blight       0.28      0.27      0.28       316\n",
      "                    leaf_mold       0.64      0.43      0.52       145\n",
      "           septoria_leaf_spot       0.45      0.44      0.45       262\n",
      "                  target_spot       0.50      0.33      0.40       229\n",
      "          tomato_mosaic_virus       0.38      0.05      0.09        58\n",
      "tomato_yellow_leaf_curl_virus       0.65      0.55      0.59       857\n",
      "      two-spotted_spider_mite       0.75      0.29      0.41       251\n",
      "\n",
      "                     accuracy                           0.46      2907\n",
      "                    macro avg       0.43      0.38      0.37      2907\n",
      "                 weighted avg       0.48      0.46      0.44      2907\n",
      "\n",
      "[[272   0  32  24   1   4   1   0  15   0]\n",
      " [104   0  11   5   5  11  15   0  29   2]\n",
      " [ 18   0 169  36   0  16   1   0  18   0]\n",
      " [ 57   0  65  86   9  43   7   0  47   2]\n",
      " [ 14   0  21  22  63   5   2   2  16   0]\n",
      " [ 15   0  44  31   5 116   6   0  43   2]\n",
      " [ 67   0  29   7   0  23  76   0  21   6]\n",
      " [  6   0   6   6   3   7   1   3  24   2]\n",
      " [153   0 107  75   9  24   7   1 471  10]\n",
      " [ 54   0  11  16   3  10  37   2  46  72]]\n"
     ]
    },
    {
     "name": "stderr",
     "output_type": "stream",
     "text": [
      "C:\\Users\\ravic\\anaconda3\\lib\\site-packages\\sklearn\\metrics\\_classification.py:1318: UndefinedMetricWarning: Precision and F-score are ill-defined and being set to 0.0 in labels with no predicted samples. Use `zero_division` parameter to control this behavior.\n",
      "  _warn_prf(average, modifier, msg_start, len(result))\n",
      "C:\\Users\\ravic\\anaconda3\\lib\\site-packages\\sklearn\\metrics\\_classification.py:1318: UndefinedMetricWarning: Precision and F-score are ill-defined and being set to 0.0 in labels with no predicted samples. Use `zero_division` parameter to control this behavior.\n",
      "  _warn_prf(average, modifier, msg_start, len(result))\n",
      "C:\\Users\\ravic\\anaconda3\\lib\\site-packages\\sklearn\\metrics\\_classification.py:1318: UndefinedMetricWarning: Precision and F-score are ill-defined and being set to 0.0 in labels with no predicted samples. Use `zero_division` parameter to control this behavior.\n",
      "  _warn_prf(average, modifier, msg_start, len(result))\n"
     ]
    }
   ],
   "source": [
    "#printing results of the kmodel\n",
    "y_predict = kmodel.fit(Ftrain, Ltrain).predict(Ftest)\n",
    "class_names = target.unique()\n",
    "print(classification_report(Ltest, y_predict, target_names=class_names))\n",
    "print(confusion_matrix(Ltest, y_predict))"
   ]
  },
  {
   "cell_type": "markdown",
   "id": "197eedfc",
   "metadata": {},
   "source": [
    "# Logistic on grayscale data"
   ]
  },
  {
   "cell_type": "code",
   "execution_count": 32,
   "id": "9fd6cafe",
   "metadata": {},
   "outputs": [
    {
     "data": {
      "text/plain": [
       "0.44478844169246645"
      ]
     },
     "execution_count": 32,
     "metadata": {},
     "output_type": "execute_result"
    }
   ],
   "source": [
    "from sklearn.linear_model import LogisticRegression\n",
    "model=LogisticRegression(solver='lbfgs', max_iter=10000)\n",
    "model.fit(Ftrain,Ltrain)\n",
    "model.score(Ftest,Ltest)"
   ]
  },
  {
   "cell_type": "code",
   "execution_count": 33,
   "id": "20a6d97e",
   "metadata": {},
   "outputs": [
    {
     "name": "stdout",
     "output_type": "stream",
     "text": [
      "                               precision    recall  f1-score   support\n",
      "\n",
      "               bacterial_spot       0.62      0.38      0.47       349\n",
      "                 early_blight       0.20      0.13      0.15       182\n",
      "                      healthy       0.41      0.40      0.41       258\n",
      "                  late_blight       0.32      0.33      0.32       316\n",
      "                    leaf_mold       0.41      0.40      0.40       145\n",
      "           septoria_leaf_spot       0.42      0.29      0.35       262\n",
      "                  target_spot       0.33      0.41      0.36       229\n",
      "          tomato_mosaic_virus       0.17      0.19      0.18        58\n",
      "tomato_yellow_leaf_curl_virus       0.52      0.73      0.61       857\n",
      "      two-spotted_spider_mite       0.55      0.25      0.34       251\n",
      "\n",
      "                     accuracy                           0.44      2907\n",
      "                    macro avg       0.39      0.35      0.36      2907\n",
      "                 weighted avg       0.45      0.44      0.43      2907\n",
      "\n",
      "[[133  23  14  30   6   7  24   0 109   3]\n",
      " [ 20  23  11  13  10   7  32   1  62   3]\n",
      " [  4   5 104  50   6   6  22   1  57   3]\n",
      " [  8  19  30 104  21  30  18  13  67   6]\n",
      " [  0   5   2  25  58   7   4   4  38   2]\n",
      " [  3   8  21  33  13  77  32   5  68   2]\n",
      " [ 16   9  19  12   7  10  93   2  52   9]\n",
      " [  0   0   0   2   1   0   1  11  43   0]\n",
      " [ 24  13  43  51  15  21  17  22 628  23]\n",
      " [  8  11   7   7   5  18  38   7  88  62]]\n"
     ]
    }
   ],
   "source": [
    "#classification report\n",
    "y_predict = model.fit(Ftrain, Ltrain).predict(Ftest)\n",
    "class_names = target.unique()\n",
    "print(classification_report(Ltest, y_predict, target_names=class_names))\n",
    "print(confusion_matrix(Ltest, y_predict))"
   ]
  },
  {
   "cell_type": "markdown",
   "id": "5284f869",
   "metadata": {},
   "source": [
    "# SVM on Grayscale data"
   ]
  },
  {
   "cell_type": "code",
   "execution_count": 34,
   "id": "d0db5c80",
   "metadata": {},
   "outputs": [
    {
     "name": "stdout",
     "output_type": "stream",
     "text": [
      "0.45166838665290676\n"
     ]
    }
   ],
   "source": [
    "clf = SVC(kernel='linear')\n",
    "clf.fit(Ftrain,Ltrain)\n",
    "y_pred = clf.predict(Ftest)\n",
    "print(accuracy_score(Ltest,y_pred))"
   ]
  },
  {
   "cell_type": "code",
   "execution_count": 35,
   "id": "bcddcf24",
   "metadata": {},
   "outputs": [
    {
     "name": "stdout",
     "output_type": "stream",
     "text": [
      "                               precision    recall  f1-score   support\n",
      "\n",
      "               bacterial_spot       0.56      0.47      0.51       349\n",
      "                 early_blight       0.22      0.24      0.23       182\n",
      "                      healthy       0.38      0.63      0.47       258\n",
      "                  late_blight       0.34      0.40      0.36       316\n",
      "                    leaf_mold       0.45      0.41      0.43       145\n",
      "           septoria_leaf_spot       0.44      0.31      0.36       262\n",
      "                  target_spot       0.32      0.45      0.38       229\n",
      "          tomato_mosaic_virus       0.20      0.29      0.24        58\n",
      "tomato_yellow_leaf_curl_virus       0.62      0.57      0.60       857\n",
      "      two-spotted_spider_mite       0.62      0.26      0.37       251\n",
      "\n",
      "                     accuracy                           0.45      2907\n",
      "                    macro avg       0.41      0.40      0.40      2907\n",
      "                 weighted avg       0.48      0.45      0.45      2907\n",
      "\n",
      "[[165  30  35  30   2   5  22   0  60   0]\n",
      " [ 25  44   5  13  10   9  33   0  41   2]\n",
      " [ 19   6 163  38   4   1  13   1  13   0]\n",
      " [ 12  33  52 125  16  25  14   8  28   3]\n",
      " [  4  10   9  28  60   7   3   5  16   3]\n",
      " [  9  13  36  37  16  80  34   6  30   1]\n",
      " [ 17  19  24  17   2  12 103   4  25   6]\n",
      " [  0   0   1   6   1   3   2  17  28   0]\n",
      " [ 32  32  88  68  18  25  41  37 490  26]\n",
      " [ 12  14  17  11   5  16  52   5  53  66]]\n"
     ]
    }
   ],
   "source": [
    "#classification report\n",
    "y_predict = clf.fit(Ftrain, Ltrain).predict(Ftest)\n",
    "class_names = target.unique()\n",
    "print(classification_report(Ltest, y_predict, target_names=class_names))\n",
    "print(confusion_matrix(Ltest, y_predict))"
   ]
  },
  {
   "cell_type": "markdown",
   "id": "576fd580",
   "metadata": {},
   "source": [
    "# Random Forest on Grayscale"
   ]
  },
  {
   "cell_type": "code",
   "execution_count": 36,
   "id": "9dfa979e",
   "metadata": {},
   "outputs": [
    {
     "data": {
      "text/plain": [
       "RandomForestClassifier(max_depth=5, n_jobs=-1, oob_score=True, random_state=42)"
      ]
     },
     "execution_count": 36,
     "metadata": {},
     "output_type": "execute_result"
    }
   ],
   "source": [
    "classifier_rf.fit(Ftrain, Ltrain)"
   ]
  },
  {
   "cell_type": "code",
   "execution_count": 37,
   "id": "2b4347ef",
   "metadata": {},
   "outputs": [
    {
     "data": {
      "text/plain": [
       "0.45010323468685476"
      ]
     },
     "execution_count": 37,
     "metadata": {},
     "output_type": "execute_result"
    }
   ],
   "source": [
    "classifier_rf.oob_score_"
   ]
  },
  {
   "cell_type": "code",
   "execution_count": 38,
   "id": "9263c32f",
   "metadata": {},
   "outputs": [
    {
     "name": "stdout",
     "output_type": "stream",
     "text": [
      "                               precision    recall  f1-score   support\n",
      "\n",
      "               bacterial_spot       0.65      0.39      0.49       349\n",
      "                 early_blight       0.00      0.00      0.00       182\n",
      "                      healthy       0.64      0.41      0.50       258\n",
      "                  late_blight       0.74      0.17      0.28       316\n",
      "                    leaf_mold       0.70      0.05      0.09       145\n",
      "           septoria_leaf_spot       0.46      0.53      0.50       262\n",
      "                  target_spot       0.56      0.17      0.27       229\n",
      "          tomato_mosaic_virus       0.00      0.00      0.00        58\n",
      "tomato_yellow_leaf_curl_virus       0.41      0.92      0.56       857\n",
      "      two-spotted_spider_mite       0.53      0.27      0.36       251\n",
      "\n",
      "                     accuracy                           0.46      2907\n",
      "                    macro avg       0.47      0.29      0.30      2907\n",
      "                 weighted avg       0.50      0.46      0.40      2907\n",
      "\n",
      "[[136   0   8   3   0   8   2   0 191   1]\n",
      " [ 24   0   0   2   0  24   2   0 123   7]\n",
      " [  0   0 107   0   0   0   5   0 145   1]\n",
      " [  8   0  21  54   2  47   9   0 172   3]\n",
      " [  6   0   2   8   7  11   2   0 105   4]\n",
      " [  1   0  18   2   1 140   5   0  89   6]\n",
      " [  1   0   1   0   0  38  40   0 115  34]\n",
      " [  1   0   0   0   0   1   0   0  54   2]\n",
      " [ 28   0   9   4   0  24   0   0 790   2]\n",
      " [  5   0   0   0   0   9   6   0 163  68]]\n"
     ]
    },
    {
     "name": "stderr",
     "output_type": "stream",
     "text": [
      "C:\\Users\\ravic\\anaconda3\\lib\\site-packages\\sklearn\\metrics\\_classification.py:1318: UndefinedMetricWarning: Precision and F-score are ill-defined and being set to 0.0 in labels with no predicted samples. Use `zero_division` parameter to control this behavior.\n",
      "  _warn_prf(average, modifier, msg_start, len(result))\n",
      "C:\\Users\\ravic\\anaconda3\\lib\\site-packages\\sklearn\\metrics\\_classification.py:1318: UndefinedMetricWarning: Precision and F-score are ill-defined and being set to 0.0 in labels with no predicted samples. Use `zero_division` parameter to control this behavior.\n",
      "  _warn_prf(average, modifier, msg_start, len(result))\n",
      "C:\\Users\\ravic\\anaconda3\\lib\\site-packages\\sklearn\\metrics\\_classification.py:1318: UndefinedMetricWarning: Precision and F-score are ill-defined and being set to 0.0 in labels with no predicted samples. Use `zero_division` parameter to control this behavior.\n",
      "  _warn_prf(average, modifier, msg_start, len(result))\n"
     ]
    }
   ],
   "source": [
    "y_predict = classifier_rf.fit(Ftrain, Ltrain).predict(Ftest)\n",
    "class_names = target.unique()\n",
    "print(classification_report(Ltest, y_predict, target_names=class_names))\n",
    "print(confusion_matrix(Ltest, y_predict))"
   ]
  },
  {
   "cell_type": "markdown",
   "id": "8befce61",
   "metadata": {},
   "source": [
    "# Naive bayes on Grayscale"
   ]
  },
  {
   "cell_type": "code",
   "execution_count": 39,
   "id": "0d1a6d3b",
   "metadata": {},
   "outputs": [
    {
     "data": {
      "text/plain": [
       "GaussianNB()"
      ]
     },
     "execution_count": 39,
     "metadata": {},
     "output_type": "execute_result"
    }
   ],
   "source": [
    "gnb.fit(Ftrain, Ltrain)"
   ]
  },
  {
   "cell_type": "code",
   "execution_count": 40,
   "id": "053c9a09",
   "metadata": {},
   "outputs": [
    {
     "data": {
      "text/plain": [
       "0.3677330581355349"
      ]
     },
     "execution_count": 40,
     "metadata": {},
     "output_type": "execute_result"
    }
   ],
   "source": [
    "y_pred = gnb.predict(Ftest)\n",
    "metrics.accuracy_score(Ltest, y_pred)"
   ]
  },
  {
   "cell_type": "code",
   "execution_count": 41,
   "id": "22c98d80",
   "metadata": {},
   "outputs": [
    {
     "name": "stdout",
     "output_type": "stream",
     "text": [
      "                               precision    recall  f1-score   support\n",
      "\n",
      "               bacterial_spot       0.48      0.67      0.56       349\n",
      "                 early_blight       0.24      0.27      0.25       182\n",
      "                      healthy       0.34      0.61      0.43       258\n",
      "                  late_blight       0.37      0.25      0.29       316\n",
      "                    leaf_mold       0.48      0.26      0.33       145\n",
      "           septoria_leaf_spot       0.27      0.59      0.37       262\n",
      "                  target_spot       0.48      0.34      0.40       229\n",
      "          tomato_mosaic_virus       0.14      0.45      0.21        58\n",
      "tomato_yellow_leaf_curl_virus       0.66      0.16      0.26       857\n",
      "      two-spotted_spider_mite       0.37      0.45      0.41       251\n",
      "\n",
      "                     accuracy                           0.37      2907\n",
      "                    macro avg       0.38      0.41      0.35      2907\n",
      "                 weighted avg       0.46      0.37      0.35      2907\n",
      "\n",
      "[[234  11  46   4   2  17  12  14   5   4]\n",
      " [ 44  50   5  32   5  16  10   4   5  11]\n",
      " [  3   0 158   8   4  33  12   1  29  10]\n",
      " [  7  48  93  78   6  50   9   4  10  11]\n",
      " [ 13   4   7  10  37  39   3  20   6   6]\n",
      " [  3   3  41  11   5 155  14   9   5  16]\n",
      " [ 13  13   3  20   3  56  78   9   2  32]\n",
      " [  9   0   5   0   1   6   1  26   4   6]\n",
      " [156  58 113  42  13 146  14  83 141  91]\n",
      " [ 10  25   0   8   1  59   9  21   6 112]]\n"
     ]
    }
   ],
   "source": [
    "class_names = target.unique()\n",
    "print(classification_report(Ltest, y_pred, target_names=class_names))\n",
    "print(confusion_matrix(Ltest, y_pred))"
   ]
  },
  {
   "cell_type": "markdown",
   "id": "9a562db7",
   "metadata": {},
   "source": [
    "# Decision Tree on Grayscale"
   ]
  },
  {
   "cell_type": "code",
   "execution_count": 42,
   "id": "a4e9cd0d",
   "metadata": {},
   "outputs": [
    {
     "data": {
      "text/plain": [
       "0.3783969728242174"
      ]
     },
     "execution_count": 42,
     "metadata": {},
     "output_type": "execute_result"
    }
   ],
   "source": [
    "classifier_tree.fit(Ftrain, Ltrain)\n",
    "classifier_tree.score(Ftest,Ltest)"
   ]
  },
  {
   "cell_type": "code",
   "execution_count": 43,
   "id": "523c3773",
   "metadata": {},
   "outputs": [
    {
     "name": "stdout",
     "output_type": "stream",
     "text": [
      "                               precision    recall  f1-score   support\n",
      "\n",
      "               bacterial_spot       0.42      0.42      0.42       349\n",
      "                 early_blight       0.15      0.14      0.14       182\n",
      "                      healthy       0.44      0.33      0.38       258\n",
      "                  late_blight       0.34      0.33      0.33       316\n",
      "                    leaf_mold       0.26      0.27      0.26       145\n",
      "           septoria_leaf_spot       0.31      0.43      0.36       262\n",
      "                  target_spot       0.31      0.31      0.31       229\n",
      "          tomato_mosaic_virus       0.04      0.05      0.05        58\n",
      "tomato_yellow_leaf_curl_virus       0.51      0.49      0.50       857\n",
      "      two-spotted_spider_mite       0.34      0.35      0.35       251\n",
      "\n",
      "                     accuracy                           0.37      2907\n",
      "                    macro avg       0.31      0.31      0.31      2907\n",
      "                 weighted avg       0.38      0.37      0.38      2907\n",
      "\n",
      "[[146  23  16  16  11  16  23   9  78  11]\n",
      " [ 25  25   7  21   8  23  18   1  43  11]\n",
      " [ 14   8  85   8   7  33  20   9  62  12]\n",
      " [ 25  21  15 104  10  49  16   5  52  19]\n",
      " [  5   5   3  22  39  20   7   4  28  12]\n",
      " [ 12   8  14  38   4 113  15   8  37  13]\n",
      " [  9  22   9  15   5  29  70   4  31  35]\n",
      " [  5   0   4   4   5   5   4   3  26   2]\n",
      " [ 92  39  36  62  45  65  22  20 416  60]\n",
      " [ 11  12   6  19  17  15  30   7  45  89]]\n"
     ]
    }
   ],
   "source": [
    "y_predict = classifier_tree.fit(Ftrain, Ltrain).predict(Ftest)\n",
    "class_names = target.unique()\n",
    "print(classification_report(Ltest, y_predict, target_names=class_names))\n",
    "print(confusion_matrix(Ltest, y_predict))"
   ]
  },
  {
   "cell_type": "markdown",
   "id": "e42f549f",
   "metadata": {},
   "source": [
    "# KNN on Red channel data"
   ]
  },
  {
   "cell_type": "code",
   "execution_count": 44,
   "id": "cb75cbbd",
   "metadata": {},
   "outputs": [],
   "source": [
    "#reading numpy array data\n",
    "gray_test = np.load('red_data.npy')\n",
    "#reading csv file\n",
    "gray_df = pd.read_csv('red_data.csv')"
   ]
  },
  {
   "cell_type": "code",
   "execution_count": 45,
   "id": "7fda7839",
   "metadata": {},
   "outputs": [],
   "source": [
    "loaded = []\n",
    "for i in gray_test:\n",
    "    k = []\n",
    "    k = np.asarray(i,dtype='uint8')\n",
    "    loaded.append(k)\n",
    "features = loaded\n",
    "target = gray_df['disease']\n",
    "Ftrain,Ftest,Ltrain,Ltest=train_test_split(features,target, test_size=0.20, random_state=20)\n",
    "Ftrain = minmax.fit_transform(Ftrain)\n",
    "Ftest = minmax.fit_transform(Ftest)"
   ]
  },
  {
   "cell_type": "code",
   "execution_count": 46,
   "id": "683839f2",
   "metadata": {},
   "outputs": [
    {
     "data": {
      "text/plain": [
       "0.4908840729274166"
      ]
     },
     "execution_count": 46,
     "metadata": {},
     "output_type": "execute_result"
    }
   ],
   "source": [
    "kmodel.fit(Ftrain,Ltrain)\n",
    "kmodel.score(Ftest,Ltest)"
   ]
  },
  {
   "cell_type": "code",
   "execution_count": 47,
   "id": "53bc7b93",
   "metadata": {},
   "outputs": [
    {
     "name": "stdout",
     "output_type": "stream",
     "text": [
      "                               precision    recall  f1-score   support\n",
      "\n",
      "               bacterial_spot       0.41      0.76      0.53       349\n",
      "                 early_blight       0.00      0.00      0.00       182\n",
      "                      healthy       0.39      0.79      0.52       258\n",
      "                  late_blight       0.35      0.36      0.36       316\n",
      "                    leaf_mold       0.62      0.44      0.52       145\n",
      "           septoria_leaf_spot       0.50      0.51      0.50       262\n",
      "                  target_spot       0.45      0.45      0.45       229\n",
      "          tomato_mosaic_virus       0.32      0.10      0.16        58\n",
      "tomato_yellow_leaf_curl_virus       0.65      0.52      0.58       857\n",
      "      two-spotted_spider_mite       0.78      0.37      0.51       251\n",
      "\n",
      "                     accuracy                           0.49      2907\n",
      "                    macro avg       0.45      0.43      0.41      2907\n",
      "                 weighted avg       0.50      0.49      0.47      2907\n",
      "\n",
      "[[265   0  36  25   0   4   0   0  19   0]\n",
      " [ 86   0  17   4   5   9  24   2  33   2]\n",
      " [ 10   0 204  23   0   9   1   0  11   0]\n",
      " [ 41   0  41 115  10  51  11   1  45   1]\n",
      " [  8   0  20  23  64   9   4   1  16   0]\n",
      " [ 21   0  33  27   5 133  11   2  29   1]\n",
      " [ 46   0  37   5   0  17 104   1  15   4]\n",
      " [  2   0   4   7   3   2   3   6  30   1]\n",
      " [134   0 116  89  16  21  18   4 442  17]\n",
      " [ 30   0  12   8   0  10  55   2  40  94]]\n"
     ]
    },
    {
     "name": "stderr",
     "output_type": "stream",
     "text": [
      "C:\\Users\\ravic\\anaconda3\\lib\\site-packages\\sklearn\\metrics\\_classification.py:1318: UndefinedMetricWarning: Precision and F-score are ill-defined and being set to 0.0 in labels with no predicted samples. Use `zero_division` parameter to control this behavior.\n",
      "  _warn_prf(average, modifier, msg_start, len(result))\n",
      "C:\\Users\\ravic\\anaconda3\\lib\\site-packages\\sklearn\\metrics\\_classification.py:1318: UndefinedMetricWarning: Precision and F-score are ill-defined and being set to 0.0 in labels with no predicted samples. Use `zero_division` parameter to control this behavior.\n",
      "  _warn_prf(average, modifier, msg_start, len(result))\n",
      "C:\\Users\\ravic\\anaconda3\\lib\\site-packages\\sklearn\\metrics\\_classification.py:1318: UndefinedMetricWarning: Precision and F-score are ill-defined and being set to 0.0 in labels with no predicted samples. Use `zero_division` parameter to control this behavior.\n",
      "  _warn_prf(average, modifier, msg_start, len(result))\n"
     ]
    }
   ],
   "source": [
    "#printing results of the kmodel\n",
    "y_predict = kmodel.fit(Ftrain, Ltrain).predict(Ftest)\n",
    "class_names = target.unique()\n",
    "print(classification_report(Ltest, y_predict, target_names=class_names))\n",
    "print(confusion_matrix(Ltest, y_predict))"
   ]
  },
  {
   "cell_type": "markdown",
   "id": "ffcda594",
   "metadata": {},
   "source": [
    "# Logistic on Red channel data"
   ]
  },
  {
   "cell_type": "code",
   "execution_count": 48,
   "id": "1ed4037b",
   "metadata": {},
   "outputs": [
    {
     "data": {
      "text/plain": [
       "0.5070519435844513"
      ]
     },
     "execution_count": 48,
     "metadata": {},
     "output_type": "execute_result"
    }
   ],
   "source": [
    "model.fit(Ftrain,Ltrain)\n",
    "model.score(Ftest,Ltest)"
   ]
  },
  {
   "cell_type": "code",
   "execution_count": 49,
   "id": "22b11f2e",
   "metadata": {},
   "outputs": [
    {
     "name": "stdout",
     "output_type": "stream",
     "text": [
      "                               precision    recall  f1-score   support\n",
      "\n",
      "               bacterial_spot       0.64      0.55      0.59       349\n",
      "                 early_blight       0.22      0.15      0.18       182\n",
      "                      healthy       0.53      0.46      0.49       258\n",
      "                  late_blight       0.31      0.39      0.35       316\n",
      "                    leaf_mold       0.45      0.40      0.42       145\n",
      "           septoria_leaf_spot       0.46      0.33      0.38       262\n",
      "                  target_spot       0.45      0.48      0.46       229\n",
      "          tomato_mosaic_virus       0.20      0.17      0.19        58\n",
      "tomato_yellow_leaf_curl_virus       0.60      0.74      0.66       857\n",
      "      two-spotted_spider_mite       0.59      0.45      0.51       251\n",
      "\n",
      "                     accuracy                           0.51      2907\n",
      "                    macro avg       0.45      0.41      0.42      2907\n",
      "                 weighted avg       0.50      0.51      0.50      2907\n",
      "\n",
      "[[193  17  10  46   3   4  13   0  60   3]\n",
      " [ 27  27   7  15  14   9  24   1  55   3]\n",
      " [ 11   9 119  52   4   7  19   0  33   4]\n",
      " [  8  19  29 124  15  28  16   9  59   9]\n",
      " [  4   3   3  32  58   7   2   2  31   3]\n",
      " [  8  10  12  50  10  86  31   6  41   8]\n",
      " [ 18  14  16   9   3  11 109   2  35  12]\n",
      " [  0   0   0   1   2   0   1  10  43   1]\n",
      " [ 24  14  21  66  18  16  10  17 635  36]\n",
      " [  9  11   6   2   2  17  18   2  71 113]]\n"
     ]
    }
   ],
   "source": [
    "#classification report\n",
    "y_predict = model.fit(Ftrain, Ltrain).predict(Ftest)\n",
    "class_names = target.unique()\n",
    "print(classification_report(Ltest, y_predict, target_names=class_names))\n",
    "print(confusion_matrix(Ltest, y_predict))"
   ]
  },
  {
   "cell_type": "markdown",
   "id": "dba6d5ce",
   "metadata": {},
   "source": [
    "# SVM on Red channel data"
   ]
  },
  {
   "cell_type": "code",
   "execution_count": 50,
   "id": "6ed153f7",
   "metadata": {},
   "outputs": [
    {
     "name": "stdout",
     "output_type": "stream",
     "text": [
      "0.4840041279669763\n"
     ]
    }
   ],
   "source": [
    "clf.fit(Ftrain,Ltrain)\n",
    "y_pred = clf.predict(Ftest)\n",
    "print(accuracy_score(Ltest,y_pred))"
   ]
  },
  {
   "cell_type": "code",
   "execution_count": 51,
   "id": "3d2d1d59",
   "metadata": {},
   "outputs": [
    {
     "name": "stdout",
     "output_type": "stream",
     "text": [
      "                               precision    recall  f1-score   support\n",
      "\n",
      "               bacterial_spot       0.59      0.56      0.58       349\n",
      "                 early_blight       0.19      0.21      0.20       182\n",
      "                      healthy       0.51      0.62      0.56       258\n",
      "                  late_blight       0.30      0.47      0.37       316\n",
      "                    leaf_mold       0.41      0.38      0.39       145\n",
      "           septoria_leaf_spot       0.41      0.28      0.33       262\n",
      "                  target_spot       0.41      0.37      0.39       229\n",
      "          tomato_mosaic_virus       0.26      0.29      0.27        58\n",
      "tomato_yellow_leaf_curl_virus       0.64      0.61      0.62       857\n",
      "      two-spotted_spider_mite       0.65      0.44      0.53       251\n",
      "\n",
      "                     accuracy                           0.48      2907\n",
      "                    macro avg       0.44      0.42      0.43      2907\n",
      "                 weighted avg       0.50      0.48      0.49      2907\n",
      "\n",
      "[[197  22  19  46   1   2   9   0  53   0]\n",
      " [ 34  39   8  14  13   6  22   1  43   2]\n",
      " [ 17   4 160  41   3   6   7   0  19   1]\n",
      " [ 15  25  30 148  15  21  14  10  34   4]\n",
      " [  4  10   5  42  55   5   3   2  16   3]\n",
      " [ 10  13  22  75  10  74  21   6  24   7]\n",
      " [ 20  35  20  12   4  18  85   1  26   8]\n",
      " [  0   0   0   4   4   2   1  17  30   0]\n",
      " [ 28  36  45  97  24  27  21  23 521  35]\n",
      " [  7  22   4  10   5  19  22   6  45 111]]\n"
     ]
    }
   ],
   "source": [
    "#classification report\n",
    "y_predict = clf.fit(Ftrain, Ltrain).predict(Ftest)\n",
    "class_names = target.unique()\n",
    "print(classification_report(Ltest, y_predict, target_names=class_names))\n",
    "print(confusion_matrix(Ltest, y_predict))"
   ]
  },
  {
   "cell_type": "markdown",
   "id": "a670c4d4",
   "metadata": {},
   "source": [
    "# Random forest on Red channel data"
   ]
  },
  {
   "cell_type": "code",
   "execution_count": 52,
   "id": "9e816e9e",
   "metadata": {},
   "outputs": [
    {
     "data": {
      "text/plain": [
       "0.4869236063317275"
      ]
     },
     "execution_count": 52,
     "metadata": {},
     "output_type": "execute_result"
    }
   ],
   "source": [
    "classifier_rf.fit(Ftrain, Ltrain)\n",
    "classifier_rf.oob_score_"
   ]
  },
  {
   "cell_type": "code",
   "execution_count": 53,
   "id": "6d5daf40",
   "metadata": {},
   "outputs": [
    {
     "name": "stdout",
     "output_type": "stream",
     "text": [
      "                               precision    recall  f1-score   support\n",
      "\n",
      "               bacterial_spot       0.69      0.44      0.54       349\n",
      "                 early_blight       0.00      0.00      0.00       182\n",
      "                      healthy       0.74      0.42      0.54       258\n",
      "                  late_blight       0.59      0.17      0.26       316\n",
      "                    leaf_mold       0.80      0.11      0.19       145\n",
      "           septoria_leaf_spot       0.45      0.52      0.48       262\n",
      "                  target_spot       0.71      0.27      0.39       229\n",
      "          tomato_mosaic_virus       0.00      0.00      0.00        58\n",
      "tomato_yellow_leaf_curl_virus       0.43      0.91      0.59       857\n",
      "      two-spotted_spider_mite       0.60      0.55      0.57       251\n",
      "\n",
      "                     accuracy                           0.50      2907\n",
      "                    macro avg       0.50      0.34      0.36      2907\n",
      "                 weighted avg       0.53      0.50      0.45      2907\n",
      "\n",
      "[[155   0  12   6   0   1   0   0 171   4]\n",
      " [ 22   0   0   7   1  23   7   0 114   8]\n",
      " [  0   0 109   2   0   2   4   0 138   3]\n",
      " [  5   0  12  54   2  58   2   0 177   6]\n",
      " [  2   0   0  12  16  20   4   0  87   4]\n",
      " [  2   0   6   3   1 135   7   0  97  11]\n",
      " [  1   0   1   0   0  32  62   0  90  43]\n",
      " [  0   0   0   0   0   1   0   0  53   4]\n",
      " [ 35   0   8   8   0  17   0   0 780   9]\n",
      " [  2   0   0   0   0  12   1   0  99 137]]\n"
     ]
    },
    {
     "name": "stderr",
     "output_type": "stream",
     "text": [
      "C:\\Users\\ravic\\anaconda3\\lib\\site-packages\\sklearn\\metrics\\_classification.py:1318: UndefinedMetricWarning: Precision and F-score are ill-defined and being set to 0.0 in labels with no predicted samples. Use `zero_division` parameter to control this behavior.\n",
      "  _warn_prf(average, modifier, msg_start, len(result))\n",
      "C:\\Users\\ravic\\anaconda3\\lib\\site-packages\\sklearn\\metrics\\_classification.py:1318: UndefinedMetricWarning: Precision and F-score are ill-defined and being set to 0.0 in labels with no predicted samples. Use `zero_division` parameter to control this behavior.\n",
      "  _warn_prf(average, modifier, msg_start, len(result))\n",
      "C:\\Users\\ravic\\anaconda3\\lib\\site-packages\\sklearn\\metrics\\_classification.py:1318: UndefinedMetricWarning: Precision and F-score are ill-defined and being set to 0.0 in labels with no predicted samples. Use `zero_division` parameter to control this behavior.\n",
      "  _warn_prf(average, modifier, msg_start, len(result))\n"
     ]
    }
   ],
   "source": [
    "y_predict = classifier_rf.fit(Ftrain, Ltrain).predict(Ftest)\n",
    "class_names = target.unique()\n",
    "print(classification_report(Ltest, y_predict, target_names=class_names))\n",
    "print(confusion_matrix(Ltest, y_predict))"
   ]
  },
  {
   "cell_type": "markdown",
   "id": "e1c2d95a",
   "metadata": {},
   "source": [
    "# Naive Bayes on Red channel data"
   ]
  },
  {
   "cell_type": "code",
   "execution_count": 54,
   "id": "8ec0753c",
   "metadata": {},
   "outputs": [
    {
     "data": {
      "text/plain": [
       "GaussianNB()"
      ]
     },
     "execution_count": 54,
     "metadata": {},
     "output_type": "execute_result"
    }
   ],
   "source": [
    "gnb.fit(Ftrain, Ltrain)"
   ]
  },
  {
   "cell_type": "code",
   "execution_count": 55,
   "id": "9bd3c55d",
   "metadata": {},
   "outputs": [
    {
     "data": {
      "text/plain": [
       "0.38390092879256965"
      ]
     },
     "execution_count": 55,
     "metadata": {},
     "output_type": "execute_result"
    }
   ],
   "source": [
    "y_pred = gnb.predict(Ftest)\n",
    "metrics.accuracy_score(Ltest, y_pred)"
   ]
  },
  {
   "cell_type": "code",
   "execution_count": 56,
   "id": "fc44e44c",
   "metadata": {},
   "outputs": [
    {
     "name": "stdout",
     "output_type": "stream",
     "text": [
      "                               precision    recall  f1-score   support\n",
      "\n",
      "               bacterial_spot       0.49      0.67      0.56       349\n",
      "                 early_blight       0.22      0.22      0.22       182\n",
      "                      healthy       0.36      0.67      0.47       258\n",
      "                  late_blight       0.40      0.28      0.33       316\n",
      "                    leaf_mold       0.41      0.23      0.30       145\n",
      "           septoria_leaf_spot       0.27      0.56      0.37       262\n",
      "                  target_spot       0.53      0.42      0.47       229\n",
      "          tomato_mosaic_virus       0.15      0.55      0.24        58\n",
      "tomato_yellow_leaf_curl_virus       0.69      0.16      0.25       857\n",
      "      two-spotted_spider_mite       0.41      0.55      0.47       251\n",
      "\n",
      "                     accuracy                           0.38      2907\n",
      "                    macro avg       0.39      0.43      0.37      2907\n",
      "                 weighted avg       0.48      0.38      0.36      2907\n",
      "\n",
      "[[233  12  46   7   2  15  10  14   8   2]\n",
      " [ 51  40   4  30   9  20  11   6   4   7]\n",
      " [  3   1 174   8   4  29   9   1  22   7]\n",
      " [  4  34  82  88  11  61   5  12  10   9]\n",
      " [ 13   5   8  12  34  47   4   9   6   7]\n",
      " [  3   7  36  15   3 147  18   7   5  21]\n",
      " [  8  12   1  15   2  45  96   6   1  43]\n",
      " [  8   0   0   0   1   3   3  32   3   8]\n",
      " [145  55 133  41  17 124  11 103 134  94]\n",
      " [  9  18   0   6   0  48  13  17   2 138]]\n"
     ]
    }
   ],
   "source": [
    "class_names = target.unique()\n",
    "print(classification_report(Ltest, y_pred, target_names=class_names))\n",
    "print(confusion_matrix(Ltest, y_pred))"
   ]
  },
  {
   "cell_type": "markdown",
   "id": "1aad544a",
   "metadata": {},
   "source": [
    "# Decision Tree on Red channel"
   ]
  },
  {
   "cell_type": "code",
   "execution_count": 57,
   "id": "91934650",
   "metadata": {},
   "outputs": [
    {
     "data": {
      "text/plain": [
       "0.41589267285861714"
      ]
     },
     "execution_count": 57,
     "metadata": {},
     "output_type": "execute_result"
    }
   ],
   "source": [
    "classifier_tree.fit(Ftrain, Ltrain)\n",
    "classifier_tree.score(Ftest,Ltest)"
   ]
  },
  {
   "cell_type": "code",
   "execution_count": 58,
   "id": "897d5f1e",
   "metadata": {},
   "outputs": [
    {
     "name": "stdout",
     "output_type": "stream",
     "text": [
      "                               precision    recall  f1-score   support\n",
      "\n",
      "               bacterial_spot       0.46      0.48      0.47       349\n",
      "                 early_blight       0.22      0.16      0.18       182\n",
      "                      healthy       0.55      0.49      0.52       258\n",
      "                  late_blight       0.36      0.34      0.35       316\n",
      "                    leaf_mold       0.25      0.23      0.24       145\n",
      "           septoria_leaf_spot       0.25      0.36      0.30       262\n",
      "                  target_spot       0.33      0.32      0.33       229\n",
      "          tomato_mosaic_virus       0.08      0.12      0.10        58\n",
      "tomato_yellow_leaf_curl_virus       0.61      0.54      0.57       857\n",
      "      two-spotted_spider_mite       0.34      0.40      0.37       251\n",
      "\n",
      "                     accuracy                           0.41      2907\n",
      "                    macro avg       0.35      0.34      0.34      2907\n",
      "                 weighted avg       0.43      0.41      0.42      2907\n",
      "\n",
      "[[166  16  12  28  10  32  12   5  59   9]\n",
      " [ 23  29   3  23  16  21  15   3  37  12]\n",
      " [ 21   5 126  15   7  22  19   3  26  14]\n",
      " [ 26  21  17 108  13  47  19   7  36  22]\n",
      " [  9   7   5  20  34  22   5   5  29   9]\n",
      " [ 16  11   9  34   8  95  29  16  20  24]\n",
      " [  5  11   8  14   8  36  73   3  28  43]\n",
      " [  3   1   3   2   3   8   2   7  21   8]\n",
      " [ 86  21  38  45  33  65  25  23 467  54]\n",
      " [  5  10   7  11   6  33  20  13  46 100]]\n"
     ]
    }
   ],
   "source": [
    "y_predict = classifier_tree.fit(Ftrain, Ltrain).predict(Ftest)\n",
    "class_names = target.unique()\n",
    "print(classification_report(Ltest, y_predict, target_names=class_names))\n",
    "print(confusion_matrix(Ltest, y_predict))"
   ]
  },
  {
   "cell_type": "markdown",
   "id": "21af7568",
   "metadata": {},
   "source": [
    "# KNN on green channel data"
   ]
  },
  {
   "cell_type": "code",
   "execution_count": 59,
   "id": "461b784b",
   "metadata": {},
   "outputs": [
    {
     "data": {
      "text/plain": [
       "0.44891640866873067"
      ]
     },
     "execution_count": 59,
     "metadata": {},
     "output_type": "execute_result"
    }
   ],
   "source": [
    "#reading numpy array data\n",
    "gray_test = np.load('green_data.npy')\n",
    "#reading csv file\n",
    "gray_df = pd.read_csv('green_data.csv')\n",
    "loaded = []\n",
    "for i in gray_test:\n",
    "    k = []\n",
    "    k = np.asarray(i,dtype='uint8')\n",
    "    loaded.append(k)\n",
    "features = loaded\n",
    "target = gray_df['disease']\n",
    "Ftrain,Ftest,Ltrain,Ltest=train_test_split(features,target, test_size=0.20, random_state=20)\n",
    "Ftrain = minmax.fit_transform(Ftrain)\n",
    "Ftest = minmax.fit_transform(Ftest)\n",
    "kmodel.fit(Ftrain,Ltrain)\n",
    "kmodel.score(Ftest,Ltest)"
   ]
  },
  {
   "cell_type": "code",
   "execution_count": 60,
   "id": "5a4d4f1d",
   "metadata": {},
   "outputs": [
    {
     "name": "stdout",
     "output_type": "stream",
     "text": [
      "                               precision    recall  f1-score   support\n",
      "\n",
      "               bacterial_spot       0.33      0.79      0.46       349\n",
      "                 early_blight       0.00      0.00      0.00       182\n",
      "                      healthy       0.35      0.61      0.44       258\n",
      "                  late_blight       0.27      0.28      0.27       316\n",
      "                    leaf_mold       0.57      0.42      0.48       145\n",
      "           septoria_leaf_spot       0.44      0.44      0.44       262\n",
      "                  target_spot       0.48      0.26      0.33       229\n",
      "          tomato_mosaic_virus       0.25      0.02      0.03        58\n",
      "tomato_yellow_leaf_curl_virus       0.69      0.56      0.62       857\n",
      "      two-spotted_spider_mite       0.71      0.26      0.38       251\n",
      "\n",
      "                     accuracy                           0.45      2907\n",
      "                    macro avg       0.41      0.36      0.35      2907\n",
      "                 weighted avg       0.47      0.45      0.43      2907\n",
      "\n",
      "[[274   0  31  24   2   4   1   0  13   0]\n",
      " [114   0  10   4   8   9  13   0  22   2]\n",
      " [ 34   0 158  42   0  15   1   0   7   1]\n",
      " [ 55   0  60  87   8  44   5   0  53   4]\n",
      " [ 18   0  16  22  61  12   1   1  14   0]\n",
      " [ 15   0  48  33   7 116   5   1  36   1]\n",
      " [ 90   0  17  14   3  20  59   0  19   7]\n",
      " [ 15   0   6   8   2   8   2   1  14   2]\n",
      " [146   0 104  70  13  25   5   1 484   9]\n",
      " [ 69   0   7  24   3  11  32   0  40  65]]\n"
     ]
    },
    {
     "name": "stderr",
     "output_type": "stream",
     "text": [
      "C:\\Users\\ravic\\anaconda3\\lib\\site-packages\\sklearn\\metrics\\_classification.py:1318: UndefinedMetricWarning: Precision and F-score are ill-defined and being set to 0.0 in labels with no predicted samples. Use `zero_division` parameter to control this behavior.\n",
      "  _warn_prf(average, modifier, msg_start, len(result))\n",
      "C:\\Users\\ravic\\anaconda3\\lib\\site-packages\\sklearn\\metrics\\_classification.py:1318: UndefinedMetricWarning: Precision and F-score are ill-defined and being set to 0.0 in labels with no predicted samples. Use `zero_division` parameter to control this behavior.\n",
      "  _warn_prf(average, modifier, msg_start, len(result))\n",
      "C:\\Users\\ravic\\anaconda3\\lib\\site-packages\\sklearn\\metrics\\_classification.py:1318: UndefinedMetricWarning: Precision and F-score are ill-defined and being set to 0.0 in labels with no predicted samples. Use `zero_division` parameter to control this behavior.\n",
      "  _warn_prf(average, modifier, msg_start, len(result))\n"
     ]
    }
   ],
   "source": [
    "#printing results of the kmodel\n",
    "y_predict = kmodel.fit(Ftrain, Ltrain).predict(Ftest)\n",
    "class_names = target.unique()\n",
    "print(classification_report(Ltest, y_predict, target_names=class_names))\n",
    "print(confusion_matrix(Ltest, y_predict))"
   ]
  },
  {
   "cell_type": "markdown",
   "id": "71f3ea86",
   "metadata": {},
   "source": [
    "# Logistic on Green channel data"
   ]
  },
  {
   "cell_type": "code",
   "execution_count": 61,
   "id": "28dad6b2",
   "metadata": {},
   "outputs": [
    {
     "data": {
      "text/plain": [
       "0.47471620227038186"
      ]
     },
     "execution_count": 61,
     "metadata": {},
     "output_type": "execute_result"
    }
   ],
   "source": [
    "model.fit(Ftrain,Ltrain)\n",
    "model.score(Ftest,Ltest)"
   ]
  },
  {
   "cell_type": "code",
   "execution_count": 62,
   "id": "3c0993f1",
   "metadata": {},
   "outputs": [
    {
     "name": "stdout",
     "output_type": "stream",
     "text": [
      "                               precision    recall  f1-score   support\n",
      "\n",
      "               bacterial_spot       0.57      0.55      0.56       349\n",
      "                 early_blight       0.30      0.18      0.23       182\n",
      "                      healthy       0.43      0.57      0.49       258\n",
      "                  late_blight       0.34      0.45      0.39       316\n",
      "                    leaf_mold       0.39      0.46      0.42       145\n",
      "           septoria_leaf_spot       0.49      0.26      0.34       262\n",
      "                  target_spot       0.31      0.44      0.36       229\n",
      "          tomato_mosaic_virus       0.23      0.21      0.22        58\n",
      "tomato_yellow_leaf_curl_virus       0.63      0.62      0.63       857\n",
      "      two-spotted_spider_mite       0.49      0.34      0.40       251\n",
      "\n",
      "                     accuracy                           0.47      2907\n",
      "                    macro avg       0.42      0.41      0.40      2907\n",
      "                 weighted avg       0.48      0.47      0.47      2907\n",
      "\n",
      "[[191  11  27  31   6   3  31   0  48   1]\n",
      " [ 29  33   9  15  12   4  36   2  34   8]\n",
      " [ 14   4 148  38   5   3  24   2  14   6]\n",
      " [ 11  19  27 143  23  15  26   8  35   9]\n",
      " [  6   4   2  30  66   4   5   4  20   4]\n",
      " [  6   6  35  45  19  69  34   1  40   7]\n",
      " [ 26   9  26  12   5   3 100   3  33  12]\n",
      " [  2   0   4  10   2   2   3  12  21   2]\n",
      " [ 39  15  57  77  27  25  27  18 532  40]\n",
      " [ 13   9   6  16   3  14  38   2  64  86]]\n"
     ]
    }
   ],
   "source": [
    "#classification report\n",
    "y_predict = model.fit(Ftrain, Ltrain).predict(Ftest)\n",
    "class_names = target.unique()\n",
    "print(classification_report(Ltest, y_predict, target_names=class_names))\n",
    "print(confusion_matrix(Ltest, y_predict))"
   ]
  },
  {
   "cell_type": "markdown",
   "id": "f62f0223",
   "metadata": {},
   "source": [
    "# SVM on green channel data"
   ]
  },
  {
   "cell_type": "code",
   "execution_count": 63,
   "id": "e89e7297",
   "metadata": {},
   "outputs": [
    {
     "name": "stdout",
     "output_type": "stream",
     "text": [
      "0.44926040591675265\n"
     ]
    }
   ],
   "source": [
    "clf.fit(Ftrain,Ltrain)\n",
    "y_pred = clf.predict(Ftest)\n",
    "print(accuracy_score(Ltest,y_pred))"
   ]
  },
  {
   "cell_type": "code",
   "execution_count": 64,
   "id": "aaec32cf",
   "metadata": {},
   "outputs": [
    {
     "name": "stdout",
     "output_type": "stream",
     "text": [
      "                               precision    recall  f1-score   support\n",
      "\n",
      "               bacterial_spot       0.49      0.53      0.51       349\n",
      "                 early_blight       0.24      0.27      0.26       182\n",
      "                      healthy       0.40      0.66      0.50       258\n",
      "                  late_blight       0.33      0.39      0.36       316\n",
      "                    leaf_mold       0.37      0.41      0.39       145\n",
      "           septoria_leaf_spot       0.43      0.31      0.36       262\n",
      "                  target_spot       0.31      0.48      0.38       229\n",
      "          tomato_mosaic_virus       0.21      0.22      0.22        58\n",
      "tomato_yellow_leaf_curl_virus       0.69      0.52      0.60       857\n",
      "      two-spotted_spider_mite       0.61      0.26      0.36       251\n",
      "\n",
      "                     accuracy                           0.45      2907\n",
      "                    macro avg       0.41      0.41      0.39      2907\n",
      "                 weighted avg       0.49      0.45      0.45      2907\n",
      "\n",
      "[[186  25  30  29   7   9  29   0  34   0]\n",
      " [ 33  49   8  12  12   6  36   1  23   2]\n",
      " [ 20   4 169  31   7   2  14   1   4   6]\n",
      " [ 19  30  42 124  15  24  23   8  27   4]\n",
      " [  7   8   5  26  60   7   8   5  17   2]\n",
      " [ 11  14  34  43  17  81  32   5  24   1]\n",
      " [ 31  18  26  11   7   2 110   3  16   5]\n",
      " [  1   0   9   8   3   4   3  13  16   1]\n",
      " [ 54  33  82  84  26  41  45  22 449  21]\n",
      " [ 21  19  14  13   9  14  50   4  42  65]]\n"
     ]
    }
   ],
   "source": [
    "#classification report\n",
    "y_predict = clf.fit(Ftrain, Ltrain).predict(Ftest)\n",
    "class_names = target.unique()\n",
    "print(classification_report(Ltest, y_predict, target_names=class_names))\n",
    "print(confusion_matrix(Ltest, y_predict))"
   ]
  },
  {
   "cell_type": "markdown",
   "id": "4f8e565e",
   "metadata": {},
   "source": [
    "# Random Forest on green channel data"
   ]
  },
  {
   "cell_type": "code",
   "execution_count": 65,
   "id": "96c92f8f",
   "metadata": {},
   "outputs": [
    {
     "data": {
      "text/plain": [
       "0.43367171369580176"
      ]
     },
     "execution_count": 65,
     "metadata": {},
     "output_type": "execute_result"
    }
   ],
   "source": [
    "classifier_rf.fit(Ftrain, Ltrain)\n",
    "classifier_rf.oob_score_"
   ]
  },
  {
   "cell_type": "code",
   "execution_count": 66,
   "id": "a855ce64",
   "metadata": {},
   "outputs": [
    {
     "name": "stdout",
     "output_type": "stream",
     "text": [
      "                               precision    recall  f1-score   support\n",
      "\n",
      "               bacterial_spot       0.59      0.44      0.50       349\n",
      "                 early_blight       0.00      0.00      0.00       182\n",
      "                      healthy       0.58      0.45      0.51       258\n",
      "                  late_blight       0.73      0.20      0.32       316\n",
      "                    leaf_mold       0.00      0.00      0.00       145\n",
      "           septoria_leaf_spot       0.51      0.49      0.50       262\n",
      "                  target_spot       0.00      0.00      0.00       229\n",
      "          tomato_mosaic_virus       0.00      0.00      0.00        58\n",
      "tomato_yellow_leaf_curl_virus       0.38      0.93      0.54       857\n",
      "      two-spotted_spider_mite       0.67      0.02      0.03       251\n",
      "\n",
      "                     accuracy                           0.43      2907\n",
      "                    macro avg       0.35      0.25      0.24      2907\n",
      "                 weighted avg       0.42      0.43      0.35      2907\n",
      "\n",
      "[[153   0  12   5   0   3   0   0 176   0]\n",
      " [ 29   0   1   0   0  22   0   0 130   0]\n",
      " [  0   0 117   2   0   0   0   0 139   0]\n",
      " [ 18   0  28  64   0  40   0   0 166   0]\n",
      " [ 12   0   2   2   0   9   0   0 120   0]\n",
      " [  1   0  23   3   0 128   0   0 107   0]\n",
      " [  4   0   7   1   0  30   0   0 185   2]\n",
      " [  1   0   1   4   0   1   0   0  51   0]\n",
      " [ 31   0   9   7   0  12   0   0 798   0]\n",
      " [  9   0   1   0   0   7   0   0 230   4]]\n"
     ]
    },
    {
     "name": "stderr",
     "output_type": "stream",
     "text": [
      "C:\\Users\\ravic\\anaconda3\\lib\\site-packages\\sklearn\\metrics\\_classification.py:1318: UndefinedMetricWarning: Precision and F-score are ill-defined and being set to 0.0 in labels with no predicted samples. Use `zero_division` parameter to control this behavior.\n",
      "  _warn_prf(average, modifier, msg_start, len(result))\n",
      "C:\\Users\\ravic\\anaconda3\\lib\\site-packages\\sklearn\\metrics\\_classification.py:1318: UndefinedMetricWarning: Precision and F-score are ill-defined and being set to 0.0 in labels with no predicted samples. Use `zero_division` parameter to control this behavior.\n",
      "  _warn_prf(average, modifier, msg_start, len(result))\n",
      "C:\\Users\\ravic\\anaconda3\\lib\\site-packages\\sklearn\\metrics\\_classification.py:1318: UndefinedMetricWarning: Precision and F-score are ill-defined and being set to 0.0 in labels with no predicted samples. Use `zero_division` parameter to control this behavior.\n",
      "  _warn_prf(average, modifier, msg_start, len(result))\n"
     ]
    }
   ],
   "source": [
    "y_predict = classifier_rf.fit(Ftrain, Ltrain).predict(Ftest)\n",
    "class_names = target.unique()\n",
    "print(classification_report(Ltest, y_predict, target_names=class_names))\n",
    "print(confusion_matrix(Ltest, y_predict))"
   ]
  },
  {
   "cell_type": "markdown",
   "id": "e9b1cca9",
   "metadata": {},
   "source": [
    "# Naive bayes on Green channel data"
   ]
  },
  {
   "cell_type": "code",
   "execution_count": 67,
   "id": "1136802c",
   "metadata": {},
   "outputs": [
    {
     "data": {
      "text/plain": [
       "0.35362917096663227"
      ]
     },
     "execution_count": 67,
     "metadata": {},
     "output_type": "execute_result"
    }
   ],
   "source": [
    "gnb.fit(Ftrain, Ltrain)\n",
    "GaussianNB()\n",
    "y_pred = gnb.predict(Ftest)\n",
    "metrics.accuracy_score(Ltest, y_pred)"
   ]
  },
  {
   "cell_type": "code",
   "execution_count": 68,
   "id": "08e6f602",
   "metadata": {},
   "outputs": [
    {
     "name": "stdout",
     "output_type": "stream",
     "text": [
      "                               precision    recall  f1-score   support\n",
      "\n",
      "               bacterial_spot       0.44      0.62      0.51       349\n",
      "                 early_blight       0.23      0.30      0.26       182\n",
      "                      healthy       0.38      0.59      0.47       258\n",
      "                  late_blight       0.41      0.27      0.32       316\n",
      "                    leaf_mold       0.38      0.23      0.29       145\n",
      "           septoria_leaf_spot       0.24      0.57      0.34       262\n",
      "                  target_spot       0.47      0.35      0.40       229\n",
      "          tomato_mosaic_virus       0.12      0.41      0.19        58\n",
      "tomato_yellow_leaf_curl_virus       0.59      0.16      0.25       857\n",
      "      two-spotted_spider_mite       0.36      0.39      0.37       251\n",
      "\n",
      "                     accuracy                           0.35      2907\n",
      "                    macro avg       0.36      0.39      0.34      2907\n",
      "                 weighted avg       0.43      0.35      0.34      2907\n",
      "\n",
      "[[215  12  32   2   6  28  19  24   6   5]\n",
      " [ 45  54   5  28   6  15  10   5   3  11]\n",
      " [  1   0 152   6   6  29  15   4  35  10]\n",
      " [  7  49  87  84   4  45   6  11  11  12]\n",
      " [ 15   6   7  12  34  35   3  20   4   9]\n",
      " [  2   3  44  10   4 150  13  11  10  15]\n",
      " [ 16  14   2  17   6  55  81   9   6  23]\n",
      " [  9   0   5   0   2   6   1  24   5   6]\n",
      " [164  65  61  37  16 208  15  69 136  86]\n",
      " [ 12  30   0  10   5  56   8  18  14  98]]\n"
     ]
    }
   ],
   "source": [
    "class_names = target.unique()\n",
    "print(classification_report(Ltest, y_pred, target_names=class_names))\n",
    "print(confusion_matrix(Ltest, y_pred))"
   ]
  },
  {
   "cell_type": "markdown",
   "id": "ad497b39",
   "metadata": {},
   "source": [
    "# Decision Tree on Green channel"
   ]
  },
  {
   "cell_type": "code",
   "execution_count": 69,
   "id": "458fe744",
   "metadata": {},
   "outputs": [
    {
     "data": {
      "text/plain": [
       "0.3942208462332301"
      ]
     },
     "execution_count": 69,
     "metadata": {},
     "output_type": "execute_result"
    }
   ],
   "source": [
    "classifier_tree.fit(Ftrain, Ltrain)\n",
    "classifier_tree.score(Ftest,Ltest)"
   ]
  },
  {
   "cell_type": "code",
   "execution_count": 70,
   "id": "60ea8164",
   "metadata": {},
   "outputs": [
    {
     "name": "stdout",
     "output_type": "stream",
     "text": [
      "                               precision    recall  f1-score   support\n",
      "\n",
      "               bacterial_spot       0.43      0.41      0.42       349\n",
      "                 early_blight       0.16      0.15      0.16       182\n",
      "                      healthy       0.48      0.41      0.44       258\n",
      "                  late_blight       0.38      0.32      0.35       316\n",
      "                    leaf_mold       0.19      0.19      0.19       145\n",
      "           septoria_leaf_spot       0.32      0.45      0.38       262\n",
      "                  target_spot       0.26      0.28      0.27       229\n",
      "          tomato_mosaic_virus       0.12      0.16      0.14        58\n",
      "tomato_yellow_leaf_curl_virus       0.58      0.55      0.56       857\n",
      "      two-spotted_spider_mite       0.34      0.36      0.35       251\n",
      "\n",
      "                     accuracy                           0.40      2907\n",
      "                    macro avg       0.33      0.33      0.33      2907\n",
      "                 weighted avg       0.41      0.40      0.40      2907\n",
      "\n",
      "[[144  17  12  13  14  25  30  12  61  21]\n",
      " [ 23  27   8  15  13  16  20   4  33  23]\n",
      " [ 15   3 106  15   9  33  20   8  37  12]\n",
      " [ 20  23  16 102  13  37  19   7  62  17]\n",
      " [ 10  11   8  11  28  24   8   5  30  10]\n",
      " [  7  10  22  34  12 118  14   2  40   3]\n",
      " [ 19  16   9  13  11  35  64   7  24  31]\n",
      " [  4   3   2   2   4   9   5   9  12   8]\n",
      " [ 82  36  28  59  29  45  40  15 471  52]\n",
      " [ 10  20  11   8  16  24  25   4  43  90]]\n"
     ]
    }
   ],
   "source": [
    "y_predict = classifier_tree.fit(Ftrain, Ltrain).predict(Ftest)\n",
    "class_names = target.unique()\n",
    "print(classification_report(Ltest, y_predict, target_names=class_names))\n",
    "print(confusion_matrix(Ltest, y_predict))"
   ]
  },
  {
   "cell_type": "markdown",
   "id": "75817642",
   "metadata": {},
   "source": [
    "# KNN on blue channel data"
   ]
  },
  {
   "cell_type": "code",
   "execution_count": 71,
   "id": "531e3624",
   "metadata": {},
   "outputs": [
    {
     "data": {
      "text/plain": [
       "0.5073959408324733"
      ]
     },
     "execution_count": 71,
     "metadata": {},
     "output_type": "execute_result"
    }
   ],
   "source": [
    "#reading numpy array data\n",
    "gray_test = np.load('blue_data.npy')\n",
    "#reading csv file\n",
    "gray_df = pd.read_csv('blue_data.csv')\n",
    "loaded = []\n",
    "for i in gray_test:\n",
    "    k = []\n",
    "    k = np.asarray(i,dtype='uint8')\n",
    "    loaded.append(k)\n",
    "features = loaded\n",
    "target = gray_df['disease']\n",
    "Ftrain,Ftest,Ltrain,Ltest=train_test_split(features,target, test_size=0.20, random_state=20)\n",
    "Ftrain = minmax.fit_transform(Ftrain)\n",
    "Ftest = minmax.fit_transform(Ftest)\n",
    "kmodel.fit(Ftrain,Ltrain)\n",
    "kmodel.score(Ftest,Ltest)"
   ]
  },
  {
   "cell_type": "code",
   "execution_count": 72,
   "id": "1314e157",
   "metadata": {},
   "outputs": [
    {
     "name": "stdout",
     "output_type": "stream",
     "text": [
      "                               precision    recall  f1-score   support\n",
      "\n",
      "               bacterial_spot       0.29      0.87      0.43       349\n",
      "                 early_blight       0.00      0.00      0.00       182\n",
      "                      healthy       0.52      0.88      0.65       258\n",
      "                  late_blight       0.56      0.41      0.47       316\n",
      "                    leaf_mold       0.63      0.63      0.63       145\n",
      "           septoria_leaf_spot       0.50      0.58      0.54       262\n",
      "                  target_spot       0.46      0.32      0.38       229\n",
      "          tomato_mosaic_virus       0.46      0.29      0.36        58\n",
      "tomato_yellow_leaf_curl_virus       0.90      0.48      0.63       857\n",
      "      two-spotted_spider_mite       0.84      0.29      0.43       251\n",
      "\n",
      "                     accuracy                           0.51      2907\n",
      "                    macro avg       0.52      0.47      0.45      2907\n",
      "                 weighted avg       0.60      0.51      0.50      2907\n",
      "\n",
      "[[302   0  32  10   0   3   1   0   1   0]\n",
      " [109   0  18   9   6   8  20   3   9   0]\n",
      " [ 15   0 226  11   0   0   5   0   0   1]\n",
      " [ 61   0  39 128  14  44  11   2  14   3]\n",
      " [ 14   0   7   6  92  15   5   3   1   2]\n",
      " [ 50   0   7  13  18 152   8   5   7   2]\n",
      " [ 58   0  68  12   0  14  73   3   0   1]\n",
      " [  4   0   5  15   1  10   4  17   0   2]\n",
      " [353   0  11  22  12  37   4   2 413   3]\n",
      " [ 93   0  20   4   4  18  26   2  12  72]]\n"
     ]
    },
    {
     "name": "stderr",
     "output_type": "stream",
     "text": [
      "C:\\Users\\ravic\\anaconda3\\lib\\site-packages\\sklearn\\metrics\\_classification.py:1318: UndefinedMetricWarning: Precision and F-score are ill-defined and being set to 0.0 in labels with no predicted samples. Use `zero_division` parameter to control this behavior.\n",
      "  _warn_prf(average, modifier, msg_start, len(result))\n",
      "C:\\Users\\ravic\\anaconda3\\lib\\site-packages\\sklearn\\metrics\\_classification.py:1318: UndefinedMetricWarning: Precision and F-score are ill-defined and being set to 0.0 in labels with no predicted samples. Use `zero_division` parameter to control this behavior.\n",
      "  _warn_prf(average, modifier, msg_start, len(result))\n",
      "C:\\Users\\ravic\\anaconda3\\lib\\site-packages\\sklearn\\metrics\\_classification.py:1318: UndefinedMetricWarning: Precision and F-score are ill-defined and being set to 0.0 in labels with no predicted samples. Use `zero_division` parameter to control this behavior.\n",
      "  _warn_prf(average, modifier, msg_start, len(result))\n"
     ]
    }
   ],
   "source": [
    "#printing results of the kmodel\n",
    "y_predict = kmodel.fit(Ftrain, Ltrain).predict(Ftest)\n",
    "class_names = target.unique()\n",
    "print(classification_report(Ltest, y_predict, target_names=class_names))\n",
    "print(confusion_matrix(Ltest, y_predict))"
   ]
  },
  {
   "cell_type": "markdown",
   "id": "f452a113",
   "metadata": {},
   "source": [
    "# logistic on blue channel data"
   ]
  },
  {
   "cell_type": "code",
   "execution_count": 73,
   "id": "de158586",
   "metadata": {},
   "outputs": [
    {
     "data": {
      "text/plain": [
       "0.5596835225318197"
      ]
     },
     "execution_count": 73,
     "metadata": {},
     "output_type": "execute_result"
    }
   ],
   "source": [
    "model.fit(Ftrain,Ltrain)\n",
    "model.score(Ftest,Ltest)"
   ]
  },
  {
   "cell_type": "code",
   "execution_count": 74,
   "id": "489ce7e9",
   "metadata": {},
   "outputs": [
    {
     "name": "stdout",
     "output_type": "stream",
     "text": [
      "                               precision    recall  f1-score   support\n",
      "\n",
      "               bacterial_spot       0.60      0.59      0.59       349\n",
      "                 early_blight       0.27      0.15      0.20       182\n",
      "                      healthy       0.62      0.66      0.64       258\n",
      "                  late_blight       0.40      0.52      0.45       316\n",
      "                    leaf_mold       0.45      0.50      0.48       145\n",
      "           septoria_leaf_spot       0.50      0.28      0.36       262\n",
      "                  target_spot       0.36      0.50      0.41       229\n",
      "          tomato_mosaic_virus       0.27      0.48      0.35        58\n",
      "tomato_yellow_leaf_curl_virus       0.83      0.75      0.79       857\n",
      "      two-spotted_spider_mite       0.48      0.53      0.50       251\n",
      "\n",
      "                     accuracy                           0.56      2907\n",
      "                    macro avg       0.48      0.50      0.48      2907\n",
      "                 weighted avg       0.57      0.56      0.56      2907\n",
      "\n",
      "[[205   9  12  37   3   1  24   2  39  17]\n",
      " [ 33  28  11  21  11   6  33   6  25   8]\n",
      " [  4   2 169  42   4   1  31   0   0   5]\n",
      " [ 13  19  24 163  19  20  22   9  16  11]\n",
      " [  3   2   1  29  73  14   6   9   3   5]\n",
      " [ 14  15   4  28  33  73  40  19  22  14]\n",
      " [ 15   7  41  23   2   4 114   3   2  18]\n",
      " [  1   0   1  15   2   2   4  28   2   3]\n",
      " [ 35  12   1  39   9  19  19  17 640  66]\n",
      " [ 21  10   7  10   5   5  28  10  21 134]]\n"
     ]
    }
   ],
   "source": [
    "#classification report\n",
    "y_predict = model.fit(Ftrain, Ltrain).predict(Ftest)\n",
    "class_names = target.unique()\n",
    "print(classification_report(Ltest, y_predict, target_names=class_names))\n",
    "print(confusion_matrix(Ltest, y_predict))"
   ]
  },
  {
   "cell_type": "markdown",
   "id": "c7585c1d",
   "metadata": {},
   "source": [
    "# SVM on blue channel data"
   ]
  },
  {
   "cell_type": "code",
   "execution_count": 75,
   "id": "06fb4a0f",
   "metadata": {},
   "outputs": [
    {
     "name": "stdout",
     "output_type": "stream",
     "text": [
      "0.521843825249398\n"
     ]
    }
   ],
   "source": [
    "clf.fit(Ftrain,Ltrain)\n",
    "y_pred = clf.predict(Ftest)\n",
    "print(accuracy_score(Ltest,y_pred))"
   ]
  },
  {
   "cell_type": "code",
   "execution_count": 76,
   "id": "03a12a5f",
   "metadata": {},
   "outputs": [
    {
     "name": "stdout",
     "output_type": "stream",
     "text": [
      "                               precision    recall  f1-score   support\n",
      "\n",
      "               bacterial_spot       0.50      0.60      0.54       349\n",
      "                 early_blight       0.19      0.24      0.21       182\n",
      "                      healthy       0.59      0.75      0.66       258\n",
      "                  late_blight       0.40      0.48      0.44       316\n",
      "                    leaf_mold       0.39      0.48      0.43       145\n",
      "           septoria_leaf_spot       0.42      0.26      0.32       262\n",
      "                  target_spot       0.38      0.44      0.41       229\n",
      "          tomato_mosaic_virus       0.22      0.45      0.29        58\n",
      "tomato_yellow_leaf_curl_virus       0.85      0.64      0.73       857\n",
      "      two-spotted_spider_mite       0.57      0.43      0.49       251\n",
      "\n",
      "                     accuracy                           0.52      2907\n",
      "                    macro avg       0.45      0.48      0.45      2907\n",
      "                 weighted avg       0.56      0.52      0.53      2907\n",
      "\n",
      "[[210  28  22  28   4   2  13   3  30   9]\n",
      " [ 35  43   9  20   8   7  34   3  17   6]\n",
      " [  8   7 193  26   3   0  19   0   0   2]\n",
      " [ 25  25  27 151  24  14  18  12  17   3]\n",
      " [  4   7   3  28  70  13   5  13   1   1]\n",
      " [ 13  27   7  38  36  69  29  20  13  10]\n",
      " [ 10  26  53  18   9   7 101   2   0   3]\n",
      " [  2   0   1  14   5   4   4  26   0   2]\n",
      " [ 89  47   2  43  10  35  13  28 545  45]\n",
      " [ 28  15  10   7  11  13  29  13  16 109]]\n"
     ]
    }
   ],
   "source": [
    "#classification report\n",
    "y_predict = clf.fit(Ftrain, Ltrain).predict(Ftest)\n",
    "class_names = target.unique()\n",
    "print(classification_report(Ltest, y_predict, target_names=class_names))\n",
    "print(confusion_matrix(Ltest, y_predict))"
   ]
  },
  {
   "cell_type": "markdown",
   "id": "f4eb8c6c",
   "metadata": {},
   "source": [
    "# Random Forest on blue channel data"
   ]
  },
  {
   "cell_type": "code",
   "execution_count": 77,
   "id": "b71407b2",
   "metadata": {},
   "outputs": [
    {
     "data": {
      "text/plain": [
       "0.5382828630419821"
      ]
     },
     "execution_count": 77,
     "metadata": {},
     "output_type": "execute_result"
    }
   ],
   "source": [
    "classifier_rf.fit(Ftrain, Ltrain)\n",
    "classifier_rf.oob_score_"
   ]
  },
  {
   "cell_type": "code",
   "execution_count": 78,
   "id": "f7d75463",
   "metadata": {},
   "outputs": [
    {
     "name": "stdout",
     "output_type": "stream",
     "text": [
      "                               precision    recall  f1-score   support\n",
      "\n",
      "               bacterial_spot       0.67      0.58      0.63       349\n",
      "                 early_blight       0.00      0.00      0.00       182\n",
      "                      healthy       0.44      0.91      0.60       258\n",
      "                  late_blight       0.51      0.25      0.34       316\n",
      "                    leaf_mold       0.82      0.37      0.51       145\n",
      "           septoria_leaf_spot       0.51      0.55      0.53       262\n",
      "                  target_spot       0.41      0.17      0.24       229\n",
      "          tomato_mosaic_virus       0.00      0.00      0.00        58\n",
      "tomato_yellow_leaf_curl_virus       0.59      0.94      0.73       857\n",
      "      two-spotted_spider_mite       0.53      0.25      0.34       251\n",
      "\n",
      "                     accuracy                           0.56      2907\n",
      "                    macro avg       0.45      0.40      0.39      2907\n",
      "                 weighted avg       0.52      0.56      0.50      2907\n",
      "\n",
      "[[204   0  44  12   0   2   2   0  85   0]\n",
      " [ 23   0  20  15   1  16  11   0  92   4]\n",
      " [  7   0 236   3   1   0   4   0   6   1]\n",
      " [ 10   0  82  80   3  51  10   0  73   7]\n",
      " [  6   0   7  17  54  22   6   0  30   3]\n",
      " [ 14   0   4  15   5 143   5   0  72   4]\n",
      " [ 15   0  98   4   0  26  39   0  33  14]\n",
      " [  2   0   8   4   2   7   2   0  17  16]\n",
      " [ 21   0   8   5   0   9   3   0 805   6]\n",
      " [  1   0  26   2   0   3  12   0 144  63]]\n"
     ]
    },
    {
     "name": "stderr",
     "output_type": "stream",
     "text": [
      "C:\\Users\\ravic\\anaconda3\\lib\\site-packages\\sklearn\\metrics\\_classification.py:1318: UndefinedMetricWarning: Precision and F-score are ill-defined and being set to 0.0 in labels with no predicted samples. Use `zero_division` parameter to control this behavior.\n",
      "  _warn_prf(average, modifier, msg_start, len(result))\n",
      "C:\\Users\\ravic\\anaconda3\\lib\\site-packages\\sklearn\\metrics\\_classification.py:1318: UndefinedMetricWarning: Precision and F-score are ill-defined and being set to 0.0 in labels with no predicted samples. Use `zero_division` parameter to control this behavior.\n",
      "  _warn_prf(average, modifier, msg_start, len(result))\n",
      "C:\\Users\\ravic\\anaconda3\\lib\\site-packages\\sklearn\\metrics\\_classification.py:1318: UndefinedMetricWarning: Precision and F-score are ill-defined and being set to 0.0 in labels with no predicted samples. Use `zero_division` parameter to control this behavior.\n",
      "  _warn_prf(average, modifier, msg_start, len(result))\n"
     ]
    }
   ],
   "source": [
    "y_predict = classifier_rf.fit(Ftrain, Ltrain).predict(Ftest)\n",
    "class_names = target.unique()\n",
    "print(classification_report(Ltest, y_predict, target_names=class_names))\n",
    "print(confusion_matrix(Ltest, y_predict))"
   ]
  },
  {
   "cell_type": "markdown",
   "id": "fb1ca20e",
   "metadata": {},
   "source": [
    "# Naive bayes on blue channel data"
   ]
  },
  {
   "cell_type": "code",
   "execution_count": 79,
   "id": "11ea0b85",
   "metadata": {},
   "outputs": [
    {
     "data": {
      "text/plain": [
       "0.5166838665290677"
      ]
     },
     "execution_count": 79,
     "metadata": {},
     "output_type": "execute_result"
    }
   ],
   "source": [
    "gnb.fit(Ftrain, Ltrain)\n",
    "GaussianNB()\n",
    "y_pred = gnb.predict(Ftest)\n",
    "metrics.accuracy_score(Ltest, y_pred)"
   ]
  },
  {
   "cell_type": "code",
   "execution_count": 80,
   "id": "b8a32aab",
   "metadata": {},
   "outputs": [
    {
     "name": "stdout",
     "output_type": "stream",
     "text": [
      "                               precision    recall  f1-score   support\n",
      "\n",
      "               bacterial_spot       0.66      0.65      0.65       349\n",
      "                 early_blight       0.21      0.24      0.23       182\n",
      "                      healthy       0.52      0.66      0.58       258\n",
      "                  late_blight       0.45      0.28      0.35       316\n",
      "                    leaf_mold       0.57      0.54      0.56       145\n",
      "           septoria_leaf_spot       0.41      0.50      0.45       262\n",
      "                  target_spot       0.40      0.49      0.44       229\n",
      "          tomato_mosaic_virus       0.17      0.74      0.28        58\n",
      "tomato_yellow_leaf_curl_virus       0.88      0.58      0.70       857\n",
      "      two-spotted_spider_mite       0.40      0.42      0.41       251\n",
      "\n",
      "                     accuracy                           0.52      2907\n",
      "                    macro avg       0.47      0.51      0.46      2907\n",
      "                 weighted avg       0.58      0.52      0.53      2907\n",
      "\n",
      "[[226  13  39   8   1   1  29   9  15   8]\n",
      " [ 18  44   7  29  10  21  17   5  20  11]\n",
      " [  3   1 171   9   5   6  51   0   0  12]\n",
      " [  2  36  76  90  12  36  14  32  10   8]\n",
      " [  2   2   2  11  79  27   6  13   1   2]\n",
      " [ 15  12   4  14  18 132  15  34   7  11]\n",
      " [  7   9  20  17   0  42 112  11   0  11]\n",
      " [  1   0   1   0   3   5   2  43   1   2]\n",
      " [ 67  68   8  18   7  20  11  64 500  94]\n",
      " [  3  21   2   6   4  35  25  39  11 105]]\n"
     ]
    }
   ],
   "source": [
    "class_names = target.unique()\n",
    "print(classification_report(Ltest, y_pred, target_names=class_names))\n",
    "print(confusion_matrix(Ltest, y_pred))"
   ]
  },
  {
   "cell_type": "markdown",
   "id": "f125f7c4",
   "metadata": {},
   "source": [
    "# Decision Tree on blue channel"
   ]
  },
  {
   "cell_type": "code",
   "execution_count": 81,
   "id": "88bfbe14",
   "metadata": {},
   "outputs": [
    {
     "data": {
      "text/plain": [
       "0.42346061231510146"
      ]
     },
     "execution_count": 81,
     "metadata": {},
     "output_type": "execute_result"
    }
   ],
   "source": [
    "classifier_tree.fit(Ftrain, Ltrain)\n",
    "classifier_tree.score(Ftest,Ltest)"
   ]
  },
  {
   "cell_type": "code",
   "execution_count": 82,
   "id": "6e2c73b8",
   "metadata": {},
   "outputs": [
    {
     "name": "stdout",
     "output_type": "stream",
     "text": [
      "                               precision    recall  f1-score   support\n",
      "\n",
      "               bacterial_spot       0.41      0.36      0.38       349\n",
      "                 early_blight       0.16      0.14      0.15       182\n",
      "                      healthy       0.50      0.63      0.56       258\n",
      "                  late_blight       0.34      0.34      0.34       316\n",
      "                    leaf_mold       0.26      0.27      0.26       145\n",
      "           septoria_leaf_spot       0.32      0.37      0.34       262\n",
      "                  target_spot       0.24      0.33      0.28       229\n",
      "          tomato_mosaic_virus       0.11      0.12      0.12        58\n",
      "tomato_yellow_leaf_curl_virus       0.71      0.56      0.63       857\n",
      "      two-spotted_spider_mite       0.39      0.43      0.41       251\n",
      "\n",
      "                     accuracy                           0.42      2907\n",
      "                    macro avg       0.34      0.36      0.35      2907\n",
      "                 weighted avg       0.45      0.42      0.43      2907\n",
      "\n",
      "[[125  20  29  28  10  12  39   7  61  18]\n",
      " [ 25  26  12  18   8  18  21   4  32  18]\n",
      " [  8   7 163  21   4   9  31   2   1  12]\n",
      " [  9  26  34 109  20  39  28   8  22  21]\n",
      " [  5   6   6  25  39  26   5   8  13  12]\n",
      " [ 20   7   6  45  16  96  29   5  26  12]\n",
      " [ 12  17  38  19  18  26  75   3   6  15]\n",
      " [  3   5   7   5   4   9   7   7   6   5]\n",
      " [ 94  34  18  42  22  48  45  11 484  59]\n",
      " [  7  17  11  10  10  16  34   6  32 108]]\n"
     ]
    }
   ],
   "source": [
    "y_predict = classifier_tree.fit(Ftrain, Ltrain).predict(Ftest)\n",
    "class_names = target.unique()\n",
    "print(classification_report(Ltest, y_predict, target_names=class_names))\n",
    "print(confusion_matrix(Ltest, y_predict))"
   ]
  }
 ],
 "metadata": {
  "kernelspec": {
   "display_name": "Python 3 (ipykernel)",
   "language": "python",
   "name": "python3"
  },
  "language_info": {
   "codemirror_mode": {
    "name": "ipython",
    "version": 3
   },
   "file_extension": ".py",
   "mimetype": "text/x-python",
   "name": "python",
   "nbconvert_exporter": "python",
   "pygments_lexer": "ipython3",
   "version": "3.9.12"
  }
 },
 "nbformat": 4,
 "nbformat_minor": 5
}
