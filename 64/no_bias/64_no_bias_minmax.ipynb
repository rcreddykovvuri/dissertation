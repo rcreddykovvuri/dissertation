{
 "cells": [
  {
   "cell_type": "code",
   "execution_count": 1,
   "id": "bcdb1517",
   "metadata": {},
   "outputs": [],
   "source": [
    "import numpy as np #importing numpy\n",
    "import pandas as pd #importing pandas\n",
    "import PIL #importing pillow for image processing\n",
    "from PIL import Image#importing image from pillow library\n",
    "import skimage#importing skimage library\n",
    "import os#importing os library\n",
    "import time#importing time library\n",
    "\n",
    "#Capture start time of the program\n",
    "start_time = time.time()"
   ]
  },
  {
   "cell_type": "code",
   "execution_count": 2,
   "id": "9ec45970",
   "metadata": {},
   "outputs": [],
   "source": [
    "os.chdir('D://DKIT//dissertation//Dataset_of_Tomato_Leaves//plantvillage//Preprocessed_data//64//no_bias_vector//')"
   ]
  },
  {
   "cell_type": "code",
   "execution_count": 3,
   "id": "cbc71f85",
   "metadata": {},
   "outputs": [],
   "source": [
    "#importing classification report and confusion matrix\n",
    "from sklearn.metrics import classification_report, confusion_matrix"
   ]
  },
  {
   "cell_type": "markdown",
   "id": "7139bf53",
   "metadata": {},
   "source": [
    "# KNN on rgb data"
   ]
  },
  {
   "cell_type": "code",
   "execution_count": 4,
   "id": "9386938c",
   "metadata": {},
   "outputs": [],
   "source": [
    "#reading numpy array data\n",
    "rgb_test = np.load('rgb_data.npy')\n",
    "#reading csv file\n",
    "rgb_df = pd.read_csv('rgb_data.csv')"
   ]
  },
  {
   "cell_type": "code",
   "execution_count": 5,
   "id": "4f95f2f6",
   "metadata": {},
   "outputs": [],
   "source": [
    "loaded = []\n",
    "for i in rgb_test:\n",
    "    k = []\n",
    "    k = np.asarray(i,dtype='uint8')\n",
    "    loaded.append(k)"
   ]
  },
  {
   "cell_type": "code",
   "execution_count": 6,
   "id": "c6d5658c",
   "metadata": {},
   "outputs": [],
   "source": [
    "features = loaded\n",
    "target = rgb_df['disease']\n",
    "from sklearn.preprocessing import MinMaxScaler\n",
    "minmax = MinMaxScaler()\n",
    "from sklearn.model_selection import train_test_split\n",
    "Ftrain,Ftest,Ltrain,Ltest=train_test_split(features,target, test_size=0.20, random_state=24)"
   ]
  },
  {
   "cell_type": "code",
   "execution_count": 7,
   "id": "8cc86824",
   "metadata": {},
   "outputs": [],
   "source": [
    "Ftrain = minmax.fit_transform(Ftrain)\n",
    "Ftest = minmax.fit_transform(Ftest)"
   ]
  },
  {
   "cell_type": "code",
   "execution_count": 8,
   "id": "6f1171c6",
   "metadata": {},
   "outputs": [],
   "source": [
    "from sklearn.neighbors import KNeighborsClassifier\n",
    "kmodel = KNeighborsClassifier(n_neighbors=75)"
   ]
  },
  {
   "cell_type": "code",
   "execution_count": 9,
   "id": "b9fdc978",
   "metadata": {},
   "outputs": [
    {
     "data": {
      "text/plain": [
       "0.44912280701754387"
      ]
     },
     "execution_count": 9,
     "metadata": {},
     "output_type": "execute_result"
    }
   ],
   "source": [
    "kmodel.fit(Ftrain,Ltrain)\n",
    "kmodel.score(Ftest,Ltest)"
   ]
  },
  {
   "cell_type": "code",
   "execution_count": 10,
   "id": "cc56686d",
   "metadata": {},
   "outputs": [
    {
     "name": "stdout",
     "output_type": "stream",
     "text": [
      "                               precision    recall  f1-score   support\n",
      "\n",
      "               bacterial_spot       0.32      0.71      0.44       115\n",
      "                 early_blight       0.00      0.00      0.00       120\n",
      "                      healthy       0.36      0.87      0.51       125\n",
      "                  late_blight       0.45      0.26      0.33       125\n",
      "                    leaf_mold       0.72      0.52      0.60       127\n",
      "           septoria_leaf_spot       0.61      0.38      0.47       117\n",
      "                  target_spot       0.55      0.36      0.43       115\n",
      "          tomato_mosaic_virus       0.64      0.33      0.44        54\n",
      "tomato_yellow_leaf_curl_virus       0.85      0.39      0.53       114\n",
      "      two-spotted_spider_mite       0.41      0.59      0.48       128\n",
      "\n",
      "                     accuracy                           0.45      1140\n",
      "                    macro avg       0.49      0.44      0.42      1140\n",
      "                 weighted avg       0.48      0.45      0.42      1140\n",
      "\n",
      "[[ 82   0  23   2   1   0   0   1   5   1]\n",
      " [ 66   0  16   2   6   3  11   2   0  14]\n",
      " [  2   0 109   7   1   0   1   0   0   5]\n",
      " [ 13   0  47  33   8  12   4   0   0   8]\n",
      " [  5   0  27  11  66   6   1   1   0  10]\n",
      " [  3   0  31   5   8  44   5   1   2  18]\n",
      " [ 18   0  29   1   0   1  41   1   0  24]\n",
      " [  2   0   9   7   2   2   0  18   0  14]\n",
      " [ 39   0  10   1   0   2   2   2  44  14]\n",
      " [ 30   0   4   4   0   2  10   2   1  75]]\n"
     ]
    },
    {
     "name": "stderr",
     "output_type": "stream",
     "text": [
      "C:\\Users\\ravic\\anaconda3\\lib\\site-packages\\sklearn\\metrics\\_classification.py:1248: UndefinedMetricWarning: Precision and F-score are ill-defined and being set to 0.0 in labels with no predicted samples. Use `zero_division` parameter to control this behavior.\n",
      "  _warn_prf(average, modifier, msg_start, len(result))\n",
      "C:\\Users\\ravic\\anaconda3\\lib\\site-packages\\sklearn\\metrics\\_classification.py:1248: UndefinedMetricWarning: Precision and F-score are ill-defined and being set to 0.0 in labels with no predicted samples. Use `zero_division` parameter to control this behavior.\n",
      "  _warn_prf(average, modifier, msg_start, len(result))\n",
      "C:\\Users\\ravic\\anaconda3\\lib\\site-packages\\sklearn\\metrics\\_classification.py:1248: UndefinedMetricWarning: Precision and F-score are ill-defined and being set to 0.0 in labels with no predicted samples. Use `zero_division` parameter to control this behavior.\n",
      "  _warn_prf(average, modifier, msg_start, len(result))\n"
     ]
    }
   ],
   "source": [
    "#printing results of the kmodel\n",
    "y_predict = kmodel.fit(Ftrain, Ltrain).predict(Ftest)\n",
    "class_names = target.unique()\n",
    "print(classification_report(Ltest, y_predict, target_names=class_names))\n",
    "print(confusion_matrix(Ltest, y_predict))"
   ]
  },
  {
   "cell_type": "markdown",
   "id": "d5c58638",
   "metadata": {},
   "source": [
    "# Logistic on rgb data"
   ]
  },
  {
   "cell_type": "code",
   "execution_count": 11,
   "id": "a84836ef",
   "metadata": {},
   "outputs": [
    {
     "data": {
      "text/plain": [
       "0.6456140350877193"
      ]
     },
     "execution_count": 11,
     "metadata": {},
     "output_type": "execute_result"
    }
   ],
   "source": [
    "from sklearn.linear_model import LogisticRegression\n",
    "model=LogisticRegression(solver='lbfgs', max_iter=10000)\n",
    "model.fit(Ftrain,Ltrain)\n",
    "model.score(Ftest,Ltest)"
   ]
  },
  {
   "cell_type": "code",
   "execution_count": 12,
   "id": "a1f10c9f",
   "metadata": {},
   "outputs": [
    {
     "name": "stdout",
     "output_type": "stream",
     "text": [
      "                               precision    recall  f1-score   support\n",
      "\n",
      "               bacterial_spot       0.67      0.66      0.66       115\n",
      "                 early_blight       0.49      0.45      0.47       120\n",
      "                      healthy       0.73      0.66      0.69       125\n",
      "                  late_blight       0.58      0.66      0.61       125\n",
      "                    leaf_mold       0.81      0.47      0.60       127\n",
      "           septoria_leaf_spot       0.52      0.68      0.59       117\n",
      "                  target_spot       0.62      0.70      0.66       115\n",
      "          tomato_mosaic_virus       0.83      0.65      0.73        54\n",
      "tomato_yellow_leaf_curl_virus       0.88      0.80      0.83       114\n",
      "      two-spotted_spider_mite       0.60      0.74      0.66       128\n",
      "\n",
      "                     accuracy                           0.65      1140\n",
      "                    macro avg       0.67      0.65      0.65      1140\n",
      "                 weighted avg       0.66      0.65      0.65      1140\n",
      "\n",
      "[[76 13  5  9  0  2  2  0  8  0]\n",
      " [16 54  4 20  4  3  5  0  2 12]\n",
      " [ 2  7 82  6  1  2 20  0  0  5]\n",
      " [ 7  8  8 82  2 11  1  0  0  6]\n",
      " [ 0 12  5 10 60 32  0  0  0  8]\n",
      " [ 2  4  2  4  7 80  5  4  3  6]\n",
      " [ 3  6  5  1  0  3 81  1  0 15]\n",
      " [ 0  0  0  0  0 14  1 35  0  4]\n",
      " [ 4  5  0  3  0  3  1  0 91  7]\n",
      " [ 4  2  1  7  0  3 14  2  0 95]]\n"
     ]
    }
   ],
   "source": [
    "#classification report\n",
    "y_predict = model.fit(Ftrain, Ltrain).predict(Ftest)\n",
    "class_names = target.unique()\n",
    "print(classification_report(Ltest, y_predict, target_names=class_names))\n",
    "print(confusion_matrix(Ltest, y_predict))"
   ]
  },
  {
   "cell_type": "markdown",
   "id": "6fe194bc",
   "metadata": {},
   "source": [
    "# SVM on RGB data"
   ]
  },
  {
   "cell_type": "code",
   "execution_count": 13,
   "id": "2427ed51",
   "metadata": {},
   "outputs": [
    {
     "name": "stdout",
     "output_type": "stream",
     "text": [
      "0.6798245614035088\n"
     ]
    }
   ],
   "source": [
    "from sklearn.svm import SVC\n",
    "from sklearn.metrics import accuracy_score\n",
    "\n",
    "clf = SVC(kernel='linear')\n",
    "clf.fit(Ftrain,Ltrain)\n",
    "y_pred = clf.predict(Ftest)\n",
    "print(accuracy_score(Ltest,y_pred))"
   ]
  },
  {
   "cell_type": "code",
   "execution_count": 14,
   "id": "4103cc2e",
   "metadata": {},
   "outputs": [
    {
     "name": "stdout",
     "output_type": "stream",
     "text": [
      "                               precision    recall  f1-score   support\n",
      "\n",
      "               bacterial_spot       0.65      0.82      0.72       115\n",
      "                 early_blight       0.52      0.44      0.48       120\n",
      "                      healthy       0.81      0.80      0.80       125\n",
      "                  late_blight       0.61      0.69      0.65       125\n",
      "                    leaf_mold       0.85      0.57      0.68       127\n",
      "           septoria_leaf_spot       0.57      0.65      0.61       117\n",
      "                  target_spot       0.66      0.70      0.68       115\n",
      "          tomato_mosaic_virus       0.88      0.70      0.78        54\n",
      "tomato_yellow_leaf_curl_virus       0.84      0.78      0.81       114\n",
      "      two-spotted_spider_mite       0.61      0.68      0.64       128\n",
      "\n",
      "                     accuracy                           0.68      1140\n",
      "                    macro avg       0.70      0.68      0.69      1140\n",
      "                 weighted avg       0.69      0.68      0.68      1140\n",
      "\n",
      "[[ 94   6   1   5   0   2   1   0   6   0]\n",
      " [ 24  53   3  18   2   4   5   0   2   9]\n",
      " [  1   5 100   3   1   1  10   0   0   4]\n",
      " [ 12  10   4  86   2   5   0   0   1   5]\n",
      " [  1   8   4  10  72  26   0   1   0   5]\n",
      " [  1   3   3   8   7  76   4   3   4   8]\n",
      " [  3   6   6   0   0   5  80   0   0  15]\n",
      " [  0   0   1   0   0   5   5  38   1   4]\n",
      " [  5   6   0   3   0   5   1   0  89   5]\n",
      " [  4   4   2   7   1   4  15   1   3  87]]\n"
     ]
    }
   ],
   "source": [
    "#classification report\n",
    "y_predict = clf.fit(Ftrain, Ltrain).predict(Ftest)\n",
    "class_names = target.unique()\n",
    "print(classification_report(Ltest, y_predict, target_names=class_names))\n",
    "print(confusion_matrix(Ltest, y_predict))"
   ]
  },
  {
   "cell_type": "markdown",
   "id": "73bef6fa",
   "metadata": {},
   "source": [
    "# Random Forest on RGB "
   ]
  },
  {
   "cell_type": "code",
   "execution_count": 15,
   "id": "6bae5a92",
   "metadata": {},
   "outputs": [],
   "source": [
    "from sklearn.ensemble import RandomForestClassifier"
   ]
  },
  {
   "cell_type": "code",
   "execution_count": 16,
   "id": "1d08a15e",
   "metadata": {},
   "outputs": [],
   "source": [
    "classifier_rf = RandomForestClassifier(random_state=42, n_jobs=-1, max_depth=5,n_estimators=100, oob_score=True)"
   ]
  },
  {
   "cell_type": "code",
   "execution_count": 17,
   "id": "938ad007",
   "metadata": {},
   "outputs": [
    {
     "data": {
      "text/plain": [
       "RandomForestClassifier(max_depth=5, n_jobs=-1, oob_score=True, random_state=42)"
      ]
     },
     "execution_count": 17,
     "metadata": {},
     "output_type": "execute_result"
    }
   ],
   "source": [
    "classifier_rf.fit(Ftrain, Ltrain)"
   ]
  },
  {
   "cell_type": "code",
   "execution_count": 18,
   "id": "e1769cec",
   "metadata": {},
   "outputs": [
    {
     "data": {
      "text/plain": [
       "0.5406887475323536"
      ]
     },
     "execution_count": 18,
     "metadata": {},
     "output_type": "execute_result"
    }
   ],
   "source": [
    "classifier_rf.oob_score_"
   ]
  },
  {
   "cell_type": "code",
   "execution_count": 19,
   "id": "c144f9db",
   "metadata": {},
   "outputs": [
    {
     "name": "stdout",
     "output_type": "stream",
     "text": [
      "                               precision    recall  f1-score   support\n",
      "\n",
      "               bacterial_spot       0.53      0.53      0.53       115\n",
      "                 early_blight       0.65      0.11      0.19       120\n",
      "                      healthy       0.47      0.52      0.49       125\n",
      "                  late_blight       0.66      0.36      0.47       125\n",
      "                    leaf_mold       0.73      0.61      0.66       127\n",
      "           septoria_leaf_spot       0.45      0.56      0.50       117\n",
      "                  target_spot       0.30      0.77      0.43       115\n",
      "          tomato_mosaic_virus       0.00      0.00      0.00        54\n",
      "tomato_yellow_leaf_curl_virus       0.62      0.77      0.69       114\n",
      "      two-spotted_spider_mite       0.49      0.43      0.46       128\n",
      "\n",
      "                     accuracy                           0.49      1140\n",
      "                    macro avg       0.49      0.47      0.44      1140\n",
      "                 weighted avg       0.52      0.49      0.47      1140\n",
      "\n",
      "[[61  0 15  5  0  0 19  0 13  2]\n",
      " [27 13  4  6  5 12 32  0 14  7]\n",
      " [ 1  0 65  0  0  1 56  0  0  2]\n",
      " [ 2  1 32 45  8 21  9  0  4  3]\n",
      " [ 5  1  8  1 77 19 10  0  2  4]\n",
      " [ 5  0  6  5  9 66  9  0 11  6]\n",
      " [ 2  1  0  0  0 11 88  0  0 13]\n",
      " [ 0  1  7  3  6 11  8  0  4 14]\n",
      " [ 7  1  1  2  1  3  4  0 88  7]\n",
      " [ 5  2  1  1  0  2 55  1  6 55]]\n"
     ]
    }
   ],
   "source": [
    "y_predict = classifier_rf.fit(Ftrain, Ltrain).predict(Ftest)\n",
    "class_names = target.unique()\n",
    "print(classification_report(Ltest, y_predict, target_names=class_names))\n",
    "print(confusion_matrix(Ltest, y_predict))"
   ]
  },
  {
   "cell_type": "markdown",
   "id": "b6a094e4",
   "metadata": {},
   "source": [
    "# Naive Bayes on RGB data"
   ]
  },
  {
   "cell_type": "code",
   "execution_count": 20,
   "id": "a5bc755b",
   "metadata": {},
   "outputs": [
    {
     "data": {
      "text/plain": [
       "GaussianNB()"
      ]
     },
     "execution_count": 20,
     "metadata": {},
     "output_type": "execute_result"
    }
   ],
   "source": [
    "from sklearn.naive_bayes import GaussianNB\n",
    "gnb = GaussianNB()\n",
    "gnb.fit(Ftrain, Ltrain)"
   ]
  },
  {
   "cell_type": "code",
   "execution_count": 21,
   "id": "6d162dcc",
   "metadata": {},
   "outputs": [],
   "source": [
    "y_pred = gnb.predict(Ftest)"
   ]
  },
  {
   "cell_type": "code",
   "execution_count": 22,
   "id": "8f7b4bab",
   "metadata": {},
   "outputs": [
    {
     "data": {
      "text/plain": [
       "0.4017543859649123"
      ]
     },
     "execution_count": 22,
     "metadata": {},
     "output_type": "execute_result"
    }
   ],
   "source": [
    "from sklearn import metrics\n",
    "metrics.accuracy_score(Ltest, y_pred)"
   ]
  },
  {
   "cell_type": "code",
   "execution_count": 23,
   "id": "980b37c5",
   "metadata": {},
   "outputs": [
    {
     "name": "stdout",
     "output_type": "stream",
     "text": [
      "                               precision    recall  f1-score   support\n",
      "\n",
      "               bacterial_spot       0.58      0.54      0.56       115\n",
      "                 early_blight       0.40      0.28      0.33       120\n",
      "                      healthy       0.40      0.44      0.42       125\n",
      "                  late_blight       0.36      0.25      0.30       125\n",
      "                    leaf_mold       0.72      0.28      0.41       127\n",
      "           septoria_leaf_spot       0.25      0.56      0.34       117\n",
      "                  target_spot       0.38      0.38      0.38       115\n",
      "          tomato_mosaic_virus       0.32      0.52      0.39        54\n",
      "tomato_yellow_leaf_curl_virus       0.74      0.38      0.50       114\n",
      "      two-spotted_spider_mite       0.40      0.46      0.43       128\n",
      "\n",
      "                     accuracy                           0.40      1140\n",
      "                    macro avg       0.46      0.41      0.41      1140\n",
      "                 weighted avg       0.46      0.40      0.41      1140\n",
      "\n",
      "[[62  6 13  1  0  8  8  4  6  7]\n",
      " [20 34  2 24  5 15  8  5  1  6]\n",
      " [ 1  0 55  4  1 22 29  0  0 13]\n",
      " [ 1 12 49 31  2 19  1  6  2  2]\n",
      " [ 6  3  4  6 36 46  3 18  1  4]\n",
      " [ 0  2 13  3  4 66  5  8  3 13]\n",
      " [ 1  8  0 10  0 29 44  2  0 21]\n",
      " [ 0  0  1  0  2 13  1 28  1  8]\n",
      " [12 10  1  5  0 22  3  5 43 13]\n",
      " [ 3 10  0  1  0 29 13 12  1 59]]\n"
     ]
    }
   ],
   "source": [
    "class_names = target.unique()\n",
    "print(classification_report(Ltest, y_pred, target_names=class_names))\n",
    "print(confusion_matrix(Ltest, y_pred))"
   ]
  },
  {
   "cell_type": "markdown",
   "id": "0ce0377b",
   "metadata": {},
   "source": [
    "# Decision Tree on RGB data"
   ]
  },
  {
   "cell_type": "code",
   "execution_count": 24,
   "id": "b9bba328",
   "metadata": {},
   "outputs": [],
   "source": [
    "from sklearn.tree import DecisionTreeClassifier\n",
    "classifier_tree = DecisionTreeClassifier()"
   ]
  },
  {
   "cell_type": "code",
   "execution_count": 25,
   "id": "b98668ce",
   "metadata": {},
   "outputs": [
    {
     "data": {
      "text/plain": [
       "0.34649122807017546"
      ]
     },
     "execution_count": 25,
     "metadata": {},
     "output_type": "execute_result"
    }
   ],
   "source": [
    "classifier_tree.fit(Ftrain, Ltrain)\n",
    "classifier_tree.score(Ftest,Ltest)"
   ]
  },
  {
   "cell_type": "code",
   "execution_count": 26,
   "id": "9fb604d9",
   "metadata": {},
   "outputs": [
    {
     "name": "stdout",
     "output_type": "stream",
     "text": [
      "                               precision    recall  f1-score   support\n",
      "\n",
      "               bacterial_spot       0.39      0.39      0.39       115\n",
      "                 early_blight       0.19      0.17      0.18       120\n",
      "                      healthy       0.49      0.45      0.47       125\n",
      "                  late_blight       0.34      0.35      0.35       125\n",
      "                    leaf_mold       0.50      0.46      0.48       127\n",
      "           septoria_leaf_spot       0.31      0.32      0.31       117\n",
      "                  target_spot       0.26      0.36      0.30       115\n",
      "          tomato_mosaic_virus       0.17      0.20      0.19        54\n",
      "tomato_yellow_leaf_curl_virus       0.50      0.41      0.45       114\n",
      "      two-spotted_spider_mite       0.34      0.32      0.33       128\n",
      "\n",
      "                     accuracy                           0.35      1140\n",
      "                    macro avg       0.35      0.34      0.34      1140\n",
      "                 weighted avg       0.36      0.35      0.35      1140\n",
      "\n",
      "[[45  9  7  4  8  9  9  5  9 10]\n",
      " [16 21  5 13 11  7 20  5  8 14]\n",
      " [ 5  9 56 10  7  6 17  6  1  8]\n",
      " [ 8  9 22 44  3 15  9  4  7  4]\n",
      " [ 7  6  8  9 58 17  7  7  4  4]\n",
      " [ 2 15  3 17 11 37 13  7  5  7]\n",
      " [10 16  7  7  5  7 41  5  4 13]\n",
      " [ 1  2  2  8  8  7  4 11  3  8]\n",
      " [15  7  2  6  3 12  6  6 47 10]\n",
      " [ 5 19  2 11  3  4 30  7  6 41]]\n"
     ]
    }
   ],
   "source": [
    "y_predict = classifier_tree.fit(Ftrain, Ltrain).predict(Ftest)\n",
    "class_names = target.unique()\n",
    "print(classification_report(Ltest, y_predict, target_names=class_names))\n",
    "print(confusion_matrix(Ltest, y_predict))"
   ]
  },
  {
   "cell_type": "markdown",
   "id": "c9daaaee",
   "metadata": {},
   "source": [
    "# KNN on grayscale data"
   ]
  },
  {
   "cell_type": "code",
   "execution_count": 27,
   "id": "57a9845e",
   "metadata": {},
   "outputs": [],
   "source": [
    "#reading numpy array data\n",
    "gray_test = np.load('gray_test.npy')\n",
    "#reading csv file\n",
    "gray_df = pd.read_csv('gray_data.csv')"
   ]
  },
  {
   "cell_type": "code",
   "execution_count": 28,
   "id": "25d4fea2",
   "metadata": {},
   "outputs": [],
   "source": [
    "loaded = []\n",
    "for i in gray_test:\n",
    "    k = []\n",
    "    k = np.asarray(i,dtype='uint8')\n",
    "    loaded.append(k)"
   ]
  },
  {
   "cell_type": "code",
   "execution_count": 29,
   "id": "d3abef95",
   "metadata": {},
   "outputs": [],
   "source": [
    "features = loaded\n",
    "target = gray_df['disease']\n",
    "Ftrain,Ftest,Ltrain,Ltest=train_test_split(features,target, test_size=0.20, random_state=20)\n",
    "Ftrain = minmax.fit_transform(Ftrain)\n",
    "Ftest = minmax.fit_transform(Ftest)"
   ]
  },
  {
   "cell_type": "code",
   "execution_count": 30,
   "id": "6f75adfd",
   "metadata": {},
   "outputs": [
    {
     "data": {
      "text/plain": [
       "0.3763157894736842"
      ]
     },
     "execution_count": 30,
     "metadata": {},
     "output_type": "execute_result"
    }
   ],
   "source": [
    "kmodel.fit(Ftrain,Ltrain)\n",
    "kmodel.score(Ftest,Ltest)"
   ]
  },
  {
   "cell_type": "code",
   "execution_count": 31,
   "id": "77baa349",
   "metadata": {},
   "outputs": [
    {
     "name": "stdout",
     "output_type": "stream",
     "text": [
      "                               precision    recall  f1-score   support\n",
      "\n",
      "               bacterial_spot       0.31      0.73      0.44       124\n",
      "                 early_blight       0.50      0.02      0.03       114\n",
      "                      healthy       0.35      0.72      0.47       131\n",
      "                  late_blight       0.23      0.19      0.21       124\n",
      "                    leaf_mold       0.56      0.43      0.48       117\n",
      "           septoria_leaf_spot       0.37      0.45      0.41       114\n",
      "                  target_spot       0.45      0.21      0.28       111\n",
      "          tomato_mosaic_virus       0.36      0.08      0.14        60\n",
      "tomato_yellow_leaf_curl_virus       0.42      0.13      0.20       121\n",
      "      two-spotted_spider_mite       0.50      0.60      0.55       124\n",
      "\n",
      "                     accuracy                           0.38      1140\n",
      "                    macro avg       0.41      0.35      0.32      1140\n",
      "                 weighted avg       0.41      0.38      0.33      1140\n",
      "\n",
      "[[90  0 16  8  2  3  1  0  3  1]\n",
      " [59  2 11  1  8  7  8  1  6 11]\n",
      " [ 7  0 94 15  3 10  0  0  1  1]\n",
      " [23  0 34 24 10 21  1  1  3  7]\n",
      " [ 9  1 26  9 50  5  4  2  5  6]\n",
      " [ 5  0 29 14  4 51  3  1  1  6]\n",
      " [32  0 14  8  0 10 23  1  1 22]\n",
      " [ 3  0 15  8  5 11  2  5  1 10]\n",
      " [40  0 23 10  8  9  3  3 16  9]\n",
      " [21  1  5  6  0 10  6  0  1 74]]\n"
     ]
    }
   ],
   "source": [
    "#printing results of the kmodel\n",
    "y_predict = kmodel.fit(Ftrain, Ltrain).predict(Ftest)\n",
    "class_names = target.unique()\n",
    "print(classification_report(Ltest, y_predict, target_names=class_names))\n",
    "print(confusion_matrix(Ltest, y_predict))"
   ]
  },
  {
   "cell_type": "markdown",
   "id": "197eedfc",
   "metadata": {},
   "source": [
    "# Logistic on grayscale data"
   ]
  },
  {
   "cell_type": "code",
   "execution_count": 32,
   "id": "9fd6cafe",
   "metadata": {},
   "outputs": [
    {
     "data": {
      "text/plain": [
       "0.35"
      ]
     },
     "execution_count": 32,
     "metadata": {},
     "output_type": "execute_result"
    }
   ],
   "source": [
    "from sklearn.linear_model import LogisticRegression\n",
    "model=LogisticRegression(solver='lbfgs', max_iter=10000)\n",
    "model.fit(Ftrain,Ltrain)\n",
    "model.score(Ftest,Ltest)"
   ]
  },
  {
   "cell_type": "code",
   "execution_count": 33,
   "id": "20a6d97e",
   "metadata": {},
   "outputs": [
    {
     "name": "stdout",
     "output_type": "stream",
     "text": [
      "                               precision    recall  f1-score   support\n",
      "\n",
      "               bacterial_spot       0.34      0.56      0.43       124\n",
      "                 early_blight       0.27      0.18      0.21       114\n",
      "                      healthy       0.48      0.47      0.48       131\n",
      "                  late_blight       0.19      0.19      0.19       124\n",
      "                    leaf_mold       0.43      0.35      0.39       117\n",
      "           septoria_leaf_spot       0.33      0.35      0.34       114\n",
      "                  target_spot       0.29      0.23      0.25       111\n",
      "          tomato_mosaic_virus       0.29      0.17      0.21        60\n",
      "tomato_yellow_leaf_curl_virus       0.33      0.31      0.32       121\n",
      "      two-spotted_spider_mite       0.45      0.56      0.50       124\n",
      "\n",
      "                     accuracy                           0.35      1140\n",
      "                    macro avg       0.34      0.34      0.33      1140\n",
      "                 weighted avg       0.34      0.35      0.34      1140\n",
      "\n",
      "[[69 14  7 10  7  4  2  0  7  4]\n",
      " [32 20  3 10  5  4 14  0 11 15]\n",
      " [15  4 62 15  3 11  3  0  9  9]\n",
      " [15 13 17 24 10 21  8  3 10  3]\n",
      " [ 7  6  9 21 41 12  4  3  6  8]\n",
      " [ 9  1  9 16  8 40 10  6  7  8]\n",
      " [27  8  6  4  4  7 25  0  8 22]\n",
      " [ 4  0  1  6 11  7  1 10 16  4]\n",
      " [18  4  8 13  4  8  4 10 38 14]\n",
      " [ 4  5  8  7  2  7 15  2  4 70]]\n"
     ]
    }
   ],
   "source": [
    "#classification report\n",
    "y_predict = model.fit(Ftrain, Ltrain).predict(Ftest)\n",
    "class_names = target.unique()\n",
    "print(classification_report(Ltest, y_predict, target_names=class_names))\n",
    "print(confusion_matrix(Ltest, y_predict))"
   ]
  },
  {
   "cell_type": "markdown",
   "id": "5284f869",
   "metadata": {},
   "source": [
    "# SVM on Grayscale data"
   ]
  },
  {
   "cell_type": "code",
   "execution_count": 34,
   "id": "d0db5c80",
   "metadata": {},
   "outputs": [
    {
     "name": "stdout",
     "output_type": "stream",
     "text": [
      "0.38421052631578945\n"
     ]
    }
   ],
   "source": [
    "clf = SVC(kernel='linear')\n",
    "clf.fit(Ftrain,Ltrain)\n",
    "y_pred = clf.predict(Ftest)\n",
    "print(accuracy_score(Ltest,y_pred))"
   ]
  },
  {
   "cell_type": "code",
   "execution_count": 35,
   "id": "bcddcf24",
   "metadata": {},
   "outputs": [
    {
     "name": "stdout",
     "output_type": "stream",
     "text": [
      "                               precision    recall  f1-score   support\n",
      "\n",
      "               bacterial_spot       0.33      0.50      0.40       124\n",
      "                 early_blight       0.32      0.29      0.31       114\n",
      "                      healthy       0.51      0.50      0.50       131\n",
      "                  late_blight       0.33      0.31      0.32       124\n",
      "                    leaf_mold       0.47      0.38      0.42       117\n",
      "           septoria_leaf_spot       0.35      0.42      0.38       114\n",
      "                  target_spot       0.32      0.33      0.33       111\n",
      "          tomato_mosaic_virus       0.37      0.22      0.27        60\n",
      "tomato_yellow_leaf_curl_virus       0.34      0.33      0.34       121\n",
      "      two-spotted_spider_mite       0.52      0.47      0.49       124\n",
      "\n",
      "                     accuracy                           0.38      1140\n",
      "                    macro avg       0.39      0.37      0.38      1140\n",
      "                 weighted avg       0.39      0.38      0.38      1140\n",
      "\n",
      "[[62 19 12  5  2  6  2  0 12  4]\n",
      " [32 33  1  7  5  3 16  0  8  9]\n",
      " [18  5 65 11  2 11  5  0  8  6]\n",
      " [14 12 13 38 11 16  8  2  8  2]\n",
      " [ 9  6  7 21 44 14  6  2  5  3]\n",
      " [ 7  3  7 14  8 48 15  4  5  3]\n",
      " [23 10  2  5  5  7 37  0  8 14]\n",
      " [ 3  0  1  2  7 14  1 13 17  2]\n",
      " [14  6 13 10  5  6  8  8 40 11]\n",
      " [ 6  8  6  1  4 11 18  6  6 58]]\n"
     ]
    }
   ],
   "source": [
    "#classification report\n",
    "y_predict = clf.fit(Ftrain, Ltrain).predict(Ftest)\n",
    "class_names = target.unique()\n",
    "print(classification_report(Ltest, y_predict, target_names=class_names))\n",
    "print(confusion_matrix(Ltest, y_predict))"
   ]
  },
  {
   "cell_type": "markdown",
   "id": "576fd580",
   "metadata": {},
   "source": [
    "# Random Forest on Grayscale"
   ]
  },
  {
   "cell_type": "code",
   "execution_count": 36,
   "id": "9dfa979e",
   "metadata": {},
   "outputs": [
    {
     "data": {
      "text/plain": [
       "RandomForestClassifier(max_depth=5, n_jobs=-1, oob_score=True, random_state=42)"
      ]
     },
     "execution_count": 36,
     "metadata": {},
     "output_type": "execute_result"
    }
   ],
   "source": [
    "classifier_rf.fit(Ftrain, Ltrain)"
   ]
  },
  {
   "cell_type": "code",
   "execution_count": 37,
   "id": "2b4347ef",
   "metadata": {},
   "outputs": [
    {
     "data": {
      "text/plain": [
       "0.442640930028515"
      ]
     },
     "execution_count": 37,
     "metadata": {},
     "output_type": "execute_result"
    }
   ],
   "source": [
    "classifier_rf.oob_score_"
   ]
  },
  {
   "cell_type": "code",
   "execution_count": 38,
   "id": "9263c32f",
   "metadata": {},
   "outputs": [
    {
     "name": "stdout",
     "output_type": "stream",
     "text": [
      "                               precision    recall  f1-score   support\n",
      "\n",
      "               bacterial_spot       0.51      0.58      0.54       124\n",
      "                 early_blight       0.46      0.24      0.31       114\n",
      "                      healthy       0.43      0.60      0.50       131\n",
      "                  late_blight       0.61      0.16      0.25       124\n",
      "                    leaf_mold       0.61      0.50      0.55       117\n",
      "           septoria_leaf_spot       0.40      0.61      0.49       114\n",
      "                  target_spot       0.32      0.68      0.44       111\n",
      "          tomato_mosaic_virus       0.00      0.00      0.00        60\n",
      "tomato_yellow_leaf_curl_virus       0.53      0.26      0.34       121\n",
      "      two-spotted_spider_mite       0.46      0.59      0.52       124\n",
      "\n",
      "                     accuracy                           0.44      1140\n",
      "                    macro avg       0.43      0.42      0.39      1140\n",
      "                 weighted avg       0.46      0.44      0.42      1140\n",
      "\n",
      "[[72  6 20  2  1  2 12  0  7  2]\n",
      " [29 27  3  1  5 22 16  0  7  4]\n",
      " [ 0  0 79  1  6  1 37  0  0  7]\n",
      " [ 8  7 31 20 11 26 13  0  3  5]\n",
      " [ 6  2  9  1 58 13 19  0  3  6]\n",
      " [ 1  0 17  3  3 70 12  0  1  7]\n",
      " [ 4  3  1  0  0 13 76  0  1 13]\n",
      " [ 1  1 10  0  5  7  7  0  4 25]\n",
      " [18 10 14  5  6 12  8  0 31 17]\n",
      " [ 2  3  0  0  0  7 37  0  2 73]]\n"
     ]
    },
    {
     "name": "stderr",
     "output_type": "stream",
     "text": [
      "C:\\Users\\ravic\\anaconda3\\lib\\site-packages\\sklearn\\metrics\\_classification.py:1248: UndefinedMetricWarning: Precision and F-score are ill-defined and being set to 0.0 in labels with no predicted samples. Use `zero_division` parameter to control this behavior.\n",
      "  _warn_prf(average, modifier, msg_start, len(result))\n",
      "C:\\Users\\ravic\\anaconda3\\lib\\site-packages\\sklearn\\metrics\\_classification.py:1248: UndefinedMetricWarning: Precision and F-score are ill-defined and being set to 0.0 in labels with no predicted samples. Use `zero_division` parameter to control this behavior.\n",
      "  _warn_prf(average, modifier, msg_start, len(result))\n",
      "C:\\Users\\ravic\\anaconda3\\lib\\site-packages\\sklearn\\metrics\\_classification.py:1248: UndefinedMetricWarning: Precision and F-score are ill-defined and being set to 0.0 in labels with no predicted samples. Use `zero_division` parameter to control this behavior.\n",
      "  _warn_prf(average, modifier, msg_start, len(result))\n"
     ]
    }
   ],
   "source": [
    "y_predict = classifier_rf.fit(Ftrain, Ltrain).predict(Ftest)\n",
    "class_names = target.unique()\n",
    "print(classification_report(Ltest, y_predict, target_names=class_names))\n",
    "print(confusion_matrix(Ltest, y_predict))"
   ]
  },
  {
   "cell_type": "markdown",
   "id": "8befce61",
   "metadata": {},
   "source": [
    "# Naive bayes on Grayscale"
   ]
  },
  {
   "cell_type": "code",
   "execution_count": 39,
   "id": "0d1a6d3b",
   "metadata": {},
   "outputs": [
    {
     "data": {
      "text/plain": [
       "GaussianNB()"
      ]
     },
     "execution_count": 39,
     "metadata": {},
     "output_type": "execute_result"
    }
   ],
   "source": [
    "gnb.fit(Ftrain, Ltrain)"
   ]
  },
  {
   "cell_type": "code",
   "execution_count": 40,
   "id": "053c9a09",
   "metadata": {},
   "outputs": [
    {
     "data": {
      "text/plain": [
       "0.36929824561403507"
      ]
     },
     "execution_count": 40,
     "metadata": {},
     "output_type": "execute_result"
    }
   ],
   "source": [
    "y_pred = gnb.predict(Ftest)\n",
    "metrics.accuracy_score(Ltest, y_pred)"
   ]
  },
  {
   "cell_type": "code",
   "execution_count": 41,
   "id": "22c98d80",
   "metadata": {},
   "outputs": [
    {
     "name": "stdout",
     "output_type": "stream",
     "text": [
      "                               precision    recall  f1-score   support\n",
      "\n",
      "               bacterial_spot       0.59      0.54      0.56       124\n",
      "                 early_blight       0.35      0.34      0.35       114\n",
      "                      healthy       0.43      0.51      0.47       131\n",
      "                  late_blight       0.31      0.22      0.25       124\n",
      "                    leaf_mold       0.67      0.21      0.31       117\n",
      "           septoria_leaf_spot       0.25      0.57      0.34       114\n",
      "                  target_spot       0.38      0.34      0.36       111\n",
      "          tomato_mosaic_virus       0.30      0.37      0.33        60\n",
      "tomato_yellow_leaf_curl_virus       0.33      0.12      0.18       121\n",
      "      two-spotted_spider_mite       0.38      0.46      0.41       124\n",
      "\n",
      "                     accuracy                           0.37      1140\n",
      "                    macro avg       0.40      0.37      0.36      1140\n",
      "                 weighted avg       0.40      0.37      0.36      1140\n",
      "\n",
      "[[67  7 15  3  0  7 14  2  3  6]\n",
      " [16 39  1 27  5  8  9  0  3  6]\n",
      " [ 0  2 67  3  3 19 18  3  9  7]\n",
      " [ 0 25 32 27  1 28  2  4  4  1]\n",
      " [ 6  4  5  9 24 34  4 15  5 11]\n",
      " [ 1  4 18  7  1 65  5  3  1  9]\n",
      " [ 1 10  0  9  0 29 38  2  1 21]\n",
      " [ 5  0  4  0  1 14  1 22  1 12]\n",
      " [17 11 15  3  1 22  2 13 15 22]\n",
      " [ 1 10  0  0  0 37  6 10  3 57]]\n"
     ]
    }
   ],
   "source": [
    "class_names = target.unique()\n",
    "print(classification_report(Ltest, y_pred, target_names=class_names))\n",
    "print(confusion_matrix(Ltest, y_pred))"
   ]
  },
  {
   "cell_type": "markdown",
   "id": "9a562db7",
   "metadata": {},
   "source": [
    "# Decision Tree on Grayscale"
   ]
  },
  {
   "cell_type": "code",
   "execution_count": 42,
   "id": "a4e9cd0d",
   "metadata": {},
   "outputs": [
    {
     "data": {
      "text/plain": [
       "0.3017543859649123"
      ]
     },
     "execution_count": 42,
     "metadata": {},
     "output_type": "execute_result"
    }
   ],
   "source": [
    "classifier_tree.fit(Ftrain, Ltrain)\n",
    "classifier_tree.score(Ftest,Ltest)"
   ]
  },
  {
   "cell_type": "code",
   "execution_count": 43,
   "id": "523c3773",
   "metadata": {},
   "outputs": [
    {
     "name": "stdout",
     "output_type": "stream",
     "text": [
      "                               precision    recall  f1-score   support\n",
      "\n",
      "               bacterial_spot       0.48      0.41      0.44       124\n",
      "                 early_blight       0.20      0.25      0.22       114\n",
      "                      healthy       0.46      0.42      0.44       131\n",
      "                  late_blight       0.28      0.26      0.27       124\n",
      "                    leaf_mold       0.33      0.31      0.32       117\n",
      "           septoria_leaf_spot       0.24      0.32      0.27       114\n",
      "                  target_spot       0.29      0.29      0.29       111\n",
      "          tomato_mosaic_virus       0.11      0.12      0.11        60\n",
      "tomato_yellow_leaf_curl_virus       0.23      0.21      0.22       121\n",
      "      two-spotted_spider_mite       0.33      0.31      0.32       124\n",
      "\n",
      "                     accuracy                           0.30      1140\n",
      "                    macro avg       0.30      0.29      0.29      1140\n",
      "                 weighted avg       0.31      0.30      0.30      1140\n",
      "\n",
      "[[51 23 10 10  5  7  1  1 12  4]\n",
      " [16 28  3 14  4  8 11  3 16 11]\n",
      " [ 6  8 55  4  8 17  9  9  5 10]\n",
      " [ 3 23  9 32  7 24  6  6  9  5]\n",
      " [ 7  6  9  4 36 16 12  8 10  9]\n",
      " [ 3  9  8 15 10 36 12 10  5  6]\n",
      " [ 8 19 10  7  5 10 32  2  5 13]\n",
      " [ 2  1  2  8 11 13  3  7  7  6]\n",
      " [ 8 14  7  8 12 12 12  9 25 14]\n",
      " [ 3 10  7 12 10  7 11  9 16 39]]\n"
     ]
    }
   ],
   "source": [
    "y_predict = classifier_tree.fit(Ftrain, Ltrain).predict(Ftest)\n",
    "class_names = target.unique()\n",
    "print(classification_report(Ltest, y_predict, target_names=class_names))\n",
    "print(confusion_matrix(Ltest, y_predict))"
   ]
  },
  {
   "cell_type": "markdown",
   "id": "e42f549f",
   "metadata": {},
   "source": [
    "# KNN on Red channel data"
   ]
  },
  {
   "cell_type": "code",
   "execution_count": 44,
   "id": "cb75cbbd",
   "metadata": {},
   "outputs": [],
   "source": [
    "#reading numpy array data\n",
    "gray_test = np.load('red_data.npy')\n",
    "#reading csv file\n",
    "gray_df = pd.read_csv('red_data.csv')"
   ]
  },
  {
   "cell_type": "code",
   "execution_count": 45,
   "id": "7fda7839",
   "metadata": {},
   "outputs": [],
   "source": [
    "loaded = []\n",
    "for i in gray_test:\n",
    "    k = []\n",
    "    k = np.asarray(i,dtype='uint8')\n",
    "    loaded.append(k)\n",
    "features = loaded\n",
    "target = gray_df['disease']\n",
    "Ftrain,Ftest,Ltrain,Ltest=train_test_split(features,target, test_size=0.20, random_state=20)\n",
    "Ftrain = minmax.fit_transform(Ftrain)\n",
    "Ftest = minmax.fit_transform(Ftest)"
   ]
  },
  {
   "cell_type": "code",
   "execution_count": 46,
   "id": "683839f2",
   "metadata": {},
   "outputs": [
    {
     "data": {
      "text/plain": [
       "0.4307017543859649"
      ]
     },
     "execution_count": 46,
     "metadata": {},
     "output_type": "execute_result"
    }
   ],
   "source": [
    "kmodel.fit(Ftrain,Ltrain)\n",
    "kmodel.score(Ftest,Ltest)"
   ]
  },
  {
   "cell_type": "code",
   "execution_count": 47,
   "id": "53bc7b93",
   "metadata": {},
   "outputs": [
    {
     "name": "stdout",
     "output_type": "stream",
     "text": [
      "                               precision    recall  f1-score   support\n",
      "\n",
      "               bacterial_spot       0.39      0.70      0.50       124\n",
      "                 early_blight       0.00      0.00      0.00       114\n",
      "                      healthy       0.40      0.83      0.54       131\n",
      "                  late_blight       0.33      0.24      0.28       124\n",
      "                    leaf_mold       0.58      0.40      0.47       117\n",
      "           septoria_leaf_spot       0.43      0.44      0.43       114\n",
      "                  target_spot       0.42      0.37      0.39       111\n",
      "          tomato_mosaic_virus       0.53      0.30      0.38        60\n",
      "tomato_yellow_leaf_curl_virus       0.45      0.21      0.29       121\n",
      "      two-spotted_spider_mite       0.50      0.67      0.57       124\n",
      "\n",
      "                     accuracy                           0.43      1140\n",
      "                    macro avg       0.40      0.42      0.39      1140\n",
      "                 weighted avg       0.40      0.43      0.39      1140\n",
      "\n",
      "[[ 87   1  17  11   1   5   1   0   1   0]\n",
      " [ 54   0  10   1  11   6  15   0   6  11]\n",
      " [  1   0 109   7   1   9   0   1   3   0]\n",
      " [ 14   0  32  30   8  22   5   3   5   5]\n",
      " [  7   0  32   8  47   4   5   3   7   4]\n",
      " [  4   0  21  16   4  50   5   1   1  12]\n",
      " [ 23   0  17   4   0   6  41   0   1  19]\n",
      " [  2   0   8   3   5   7   1  18   2  14]\n",
      " [ 25   1  25   8   4   4   5   6  26  17]\n",
      " [  4   0   4   2   0   4  19   2   6  83]]\n"
     ]
    }
   ],
   "source": [
    "#printing results of the kmodel\n",
    "y_predict = kmodel.fit(Ftrain, Ltrain).predict(Ftest)\n",
    "class_names = target.unique()\n",
    "print(classification_report(Ltest, y_predict, target_names=class_names))\n",
    "print(confusion_matrix(Ltest, y_predict))"
   ]
  },
  {
   "cell_type": "markdown",
   "id": "ffcda594",
   "metadata": {},
   "source": [
    "# Logistic on Red channel data"
   ]
  },
  {
   "cell_type": "code",
   "execution_count": 48,
   "id": "1ed4037b",
   "metadata": {},
   "outputs": [
    {
     "data": {
      "text/plain": [
       "0.37543859649122807"
      ]
     },
     "execution_count": 48,
     "metadata": {},
     "output_type": "execute_result"
    }
   ],
   "source": [
    "model.fit(Ftrain,Ltrain)\n",
    "model.score(Ftest,Ltest)"
   ]
  },
  {
   "cell_type": "code",
   "execution_count": 49,
   "id": "22b11f2e",
   "metadata": {},
   "outputs": [
    {
     "name": "stdout",
     "output_type": "stream",
     "text": [
      "                               precision    recall  f1-score   support\n",
      "\n",
      "               bacterial_spot       0.41      0.45      0.43       124\n",
      "                 early_blight       0.26      0.21      0.23       114\n",
      "                      healthy       0.45      0.56      0.50       131\n",
      "                  late_blight       0.19      0.18      0.18       124\n",
      "                    leaf_mold       0.53      0.39      0.45       117\n",
      "           septoria_leaf_spot       0.31      0.39      0.35       114\n",
      "                  target_spot       0.31      0.32      0.31       111\n",
      "          tomato_mosaic_virus       0.41      0.23      0.30        60\n",
      "tomato_yellow_leaf_curl_virus       0.36      0.36      0.36       121\n",
      "      two-spotted_spider_mite       0.50      0.56      0.53       124\n",
      "\n",
      "                     accuracy                           0.38      1140\n",
      "                    macro avg       0.37      0.37      0.36      1140\n",
      "                 weighted avg       0.37      0.38      0.37      1140\n",
      "\n",
      "[[56 23 10 10  4  8  4  0  5  4]\n",
      " [23 24  5 10  5  6 20  0 12  9]\n",
      " [ 9  4 74 12  2 11  6  0  7  6]\n",
      " [15 13 19 22  5 26  8  4  8  4]\n",
      " [ 4  6 11 19 46 12  6  2  7  4]\n",
      " [ 3  2 14 20  6 44 12  4  4  5]\n",
      " [15 11  9  2  2  9 35  0 10 18]\n",
      " [ 1  0  2  5  9  7  2 14 13  7]\n",
      " [ 8  8 12 11  5  9  4  8 43 13]\n",
      " [ 2  2  9  3  2  9 16  2  9 70]]\n"
     ]
    }
   ],
   "source": [
    "#classification report\n",
    "y_predict = model.fit(Ftrain, Ltrain).predict(Ftest)\n",
    "class_names = target.unique()\n",
    "print(classification_report(Ltest, y_predict, target_names=class_names))\n",
    "print(confusion_matrix(Ltest, y_predict))"
   ]
  },
  {
   "cell_type": "markdown",
   "id": "dba6d5ce",
   "metadata": {},
   "source": [
    "# SVM on Red channel data"
   ]
  },
  {
   "cell_type": "code",
   "execution_count": 50,
   "id": "6ed153f7",
   "metadata": {},
   "outputs": [
    {
     "name": "stdout",
     "output_type": "stream",
     "text": [
      "0.39473684210526316\n"
     ]
    }
   ],
   "source": [
    "clf.fit(Ftrain,Ltrain)\n",
    "y_pred = clf.predict(Ftest)\n",
    "print(accuracy_score(Ltest,y_pred))"
   ]
  },
  {
   "cell_type": "code",
   "execution_count": 51,
   "id": "3d2d1d59",
   "metadata": {},
   "outputs": [
    {
     "name": "stdout",
     "output_type": "stream",
     "text": [
      "                               precision    recall  f1-score   support\n",
      "\n",
      "               bacterial_spot       0.37      0.42      0.39       124\n",
      "                 early_blight       0.27      0.32      0.29       114\n",
      "                      healthy       0.51      0.58      0.54       131\n",
      "                  late_blight       0.29      0.27      0.28       124\n",
      "                    leaf_mold       0.58      0.37      0.45       117\n",
      "           septoria_leaf_spot       0.29      0.36      0.32       114\n",
      "                  target_spot       0.32      0.34      0.33       111\n",
      "          tomato_mosaic_virus       0.58      0.32      0.41        60\n",
      "tomato_yellow_leaf_curl_virus       0.42      0.37      0.40       121\n",
      "      two-spotted_spider_mite       0.50      0.54      0.52       124\n",
      "\n",
      "                     accuracy                           0.39      1140\n",
      "                    macro avg       0.41      0.39      0.39      1140\n",
      "                 weighted avg       0.41      0.39      0.40      1140\n",
      "\n",
      "[[52 27 14  6  3  8  4  0  6  4]\n",
      " [24 36  1  6  5  5 15  0 12 10]\n",
      " [18  5 76  7  1  9  4  0  5  6]\n",
      " [11 14 24 33  5 23  7  1  3  3]\n",
      " [ 7  7  9 24 43 12  5  1  5  4]\n",
      " [ 3  6 12 20  4 41 15  5  3  5]\n",
      " [13 14  0  1  0 16 38  0  6 23]\n",
      " [ 3  2  0  1  9 11  1 19 12  2]\n",
      " [ 8 12 11 13  2  5  9  6 45 10]\n",
      " [ 3  8  3  1  2 11 19  1  9 67]]\n"
     ]
    }
   ],
   "source": [
    "#classification report\n",
    "y_predict = clf.fit(Ftrain, Ltrain).predict(Ftest)\n",
    "class_names = target.unique()\n",
    "print(classification_report(Ltest, y_predict, target_names=class_names))\n",
    "print(confusion_matrix(Ltest, y_predict))"
   ]
  },
  {
   "cell_type": "markdown",
   "id": "a670c4d4",
   "metadata": {},
   "source": [
    "# Random forest on Red channel data"
   ]
  },
  {
   "cell_type": "code",
   "execution_count": 52,
   "id": "9e816e9e",
   "metadata": {},
   "outputs": [
    {
     "data": {
      "text/plain": [
       "0.46808510638297873"
      ]
     },
     "execution_count": 52,
     "metadata": {},
     "output_type": "execute_result"
    }
   ],
   "source": [
    "classifier_rf.fit(Ftrain, Ltrain)\n",
    "classifier_rf.oob_score_"
   ]
  },
  {
   "cell_type": "code",
   "execution_count": 53,
   "id": "6d5daf40",
   "metadata": {},
   "outputs": [
    {
     "name": "stdout",
     "output_type": "stream",
     "text": [
      "                               precision    recall  f1-score   support\n",
      "\n",
      "               bacterial_spot       0.55      0.58      0.57       124\n",
      "                 early_blight       0.29      0.12      0.17       114\n",
      "                      healthy       0.46      0.63      0.53       131\n",
      "                  late_blight       0.58      0.24      0.34       124\n",
      "                    leaf_mold       0.67      0.55      0.60       117\n",
      "           septoria_leaf_spot       0.38      0.61      0.47       114\n",
      "                  target_spot       0.36      0.71      0.48       111\n",
      "          tomato_mosaic_virus       0.00      0.00      0.00        60\n",
      "tomato_yellow_leaf_curl_virus       0.49      0.31      0.38       121\n",
      "      two-spotted_spider_mite       0.53      0.65      0.58       124\n",
      "\n",
      "                     accuracy                           0.46      1140\n",
      "                    macro avg       0.43      0.44      0.41      1140\n",
      "                 weighted avg       0.46      0.46      0.44      1140\n",
      "\n",
      "[[72  8 18  5  0  1 10  0  7  3]\n",
      " [33 14  4  1  6 24 18  0  7  7]\n",
      " [ 0  1 83  1  2  3 37  0  0  4]\n",
      " [ 3 13 23 30 10 27 11  0  3  4]\n",
      " [ 2  2  7  3 64 12 16  0  5  6]\n",
      " [ 1  1 15  4  5 69 10  0  3  6]\n",
      " [ 0  3  1  0  0 12 79  0  2 14]\n",
      " [ 1  0  8  0  6 10  8  0  9 18]\n",
      " [18  5 22  8  2 12  5  0 38 11]\n",
      " [ 0  1  0  0  0 11 27  0  4 81]]\n"
     ]
    },
    {
     "name": "stderr",
     "output_type": "stream",
     "text": [
      "C:\\Users\\ravic\\anaconda3\\lib\\site-packages\\sklearn\\metrics\\_classification.py:1248: UndefinedMetricWarning: Precision and F-score are ill-defined and being set to 0.0 in labels with no predicted samples. Use `zero_division` parameter to control this behavior.\n",
      "  _warn_prf(average, modifier, msg_start, len(result))\n",
      "C:\\Users\\ravic\\anaconda3\\lib\\site-packages\\sklearn\\metrics\\_classification.py:1248: UndefinedMetricWarning: Precision and F-score are ill-defined and being set to 0.0 in labels with no predicted samples. Use `zero_division` parameter to control this behavior.\n",
      "  _warn_prf(average, modifier, msg_start, len(result))\n",
      "C:\\Users\\ravic\\anaconda3\\lib\\site-packages\\sklearn\\metrics\\_classification.py:1248: UndefinedMetricWarning: Precision and F-score are ill-defined and being set to 0.0 in labels with no predicted samples. Use `zero_division` parameter to control this behavior.\n",
      "  _warn_prf(average, modifier, msg_start, len(result))\n"
     ]
    }
   ],
   "source": [
    "y_predict = classifier_rf.fit(Ftrain, Ltrain).predict(Ftest)\n",
    "class_names = target.unique()\n",
    "print(classification_report(Ltest, y_predict, target_names=class_names))\n",
    "print(confusion_matrix(Ltest, y_predict))"
   ]
  },
  {
   "cell_type": "markdown",
   "id": "e1c2d95a",
   "metadata": {},
   "source": [
    "# Naive Bayes on Red channel data"
   ]
  },
  {
   "cell_type": "code",
   "execution_count": 54,
   "id": "8ec0753c",
   "metadata": {},
   "outputs": [
    {
     "data": {
      "text/plain": [
       "GaussianNB()"
      ]
     },
     "execution_count": 54,
     "metadata": {},
     "output_type": "execute_result"
    }
   ],
   "source": [
    "gnb.fit(Ftrain, Ltrain)"
   ]
  },
  {
   "cell_type": "code",
   "execution_count": 55,
   "id": "9bd3c55d",
   "metadata": {},
   "outputs": [
    {
     "data": {
      "text/plain": [
       "0.393859649122807"
      ]
     },
     "execution_count": 55,
     "metadata": {},
     "output_type": "execute_result"
    }
   ],
   "source": [
    "y_pred = gnb.predict(Ftest)\n",
    "metrics.accuracy_score(Ltest, y_pred)"
   ]
  },
  {
   "cell_type": "code",
   "execution_count": 56,
   "id": "fc44e44c",
   "metadata": {},
   "outputs": [
    {
     "name": "stdout",
     "output_type": "stream",
     "text": [
      "                               precision    recall  f1-score   support\n",
      "\n",
      "               bacterial_spot       0.57      0.54      0.56       124\n",
      "                 early_blight       0.35      0.30      0.32       114\n",
      "                      healthy       0.48      0.53      0.50       131\n",
      "                  late_blight       0.40      0.27      0.33       124\n",
      "                    leaf_mold       0.60      0.21      0.31       117\n",
      "           septoria_leaf_spot       0.25      0.53      0.34       114\n",
      "                  target_spot       0.41      0.42      0.42       111\n",
      "          tomato_mosaic_virus       0.32      0.33      0.33        60\n",
      "tomato_yellow_leaf_curl_virus       0.41      0.13      0.20       121\n",
      "      two-spotted_spider_mite       0.40      0.61      0.48       124\n",
      "\n",
      "                     accuracy                           0.39      1140\n",
      "                    macro avg       0.42      0.39      0.38      1140\n",
      "                 weighted avg       0.42      0.39      0.38      1140\n",
      "\n",
      "[[67  7 14  3  1  7 12  1  3  9]\n",
      " [19 34  1 22  9 10 10  0  2  7]\n",
      " [ 0  1 70  3  2 18 17  4  7  9]\n",
      " [ 1 18 28 34  2 28  2  6  2  3]\n",
      " [ 6  6  7  7 25 41  4  8  4  9]\n",
      " [ 1  5 11  7  1 60 12  4  2 11]\n",
      " [ 1  8  0  6  0 23 47  0  1 25]\n",
      " [ 5  0  1  0  1 10  1 20  2 20]\n",
      " [17 12 15  3  1 19  3 12 16 23]\n",
      " [ 0  7  0  0  0 27  7  7  0 76]]\n"
     ]
    }
   ],
   "source": [
    "class_names = target.unique()\n",
    "print(classification_report(Ltest, y_pred, target_names=class_names))\n",
    "print(confusion_matrix(Ltest, y_pred))"
   ]
  },
  {
   "cell_type": "markdown",
   "id": "1aad544a",
   "metadata": {},
   "source": [
    "# Decision Tree on Red channel"
   ]
  },
  {
   "cell_type": "code",
   "execution_count": 57,
   "id": "91934650",
   "metadata": {},
   "outputs": [
    {
     "data": {
      "text/plain": [
       "0.3385964912280702"
      ]
     },
     "execution_count": 57,
     "metadata": {},
     "output_type": "execute_result"
    }
   ],
   "source": [
    "classifier_tree.fit(Ftrain, Ltrain)\n",
    "classifier_tree.score(Ftest,Ltest)"
   ]
  },
  {
   "cell_type": "code",
   "execution_count": 58,
   "id": "897d5f1e",
   "metadata": {},
   "outputs": [
    {
     "name": "stdout",
     "output_type": "stream",
     "text": [
      "                               precision    recall  f1-score   support\n",
      "\n",
      "               bacterial_spot       0.49      0.40      0.44       124\n",
      "                 early_blight       0.22      0.22      0.22       114\n",
      "                      healthy       0.61      0.50      0.55       131\n",
      "                  late_blight       0.26      0.25      0.25       124\n",
      "                    leaf_mold       0.35      0.29      0.32       117\n",
      "           septoria_leaf_spot       0.32      0.46      0.38       114\n",
      "                  target_spot       0.20      0.24      0.22       111\n",
      "          tomato_mosaic_virus       0.19      0.17      0.18        60\n",
      "tomato_yellow_leaf_curl_virus       0.30      0.26      0.28       121\n",
      "      two-spotted_spider_mite       0.39      0.46      0.42       124\n",
      "\n",
      "                     accuracy                           0.34      1140\n",
      "                    macro avg       0.33      0.33      0.33      1140\n",
      "                 weighted avg       0.35      0.34      0.34      1140\n",
      "\n",
      "[[50 16  6  7  4 11  9  4 11  6]\n",
      " [14 25  4 17  9 12 13  1  9 10]\n",
      " [ 7  3 65  7  7  9 15  4  4 10]\n",
      " [ 6 11  6 31 15 24 14  3 10  4]\n",
      " [ 2 12  7 13 34 16  9  7 12  5]\n",
      " [ 4 10  3  8  3 53 10  2 13  8]\n",
      " [ 4 11  3  9  5 13 27  5  4 30]\n",
      " [ 2  5  7  4  7  7  3 10  4 11]\n",
      " [12 11  5 13  7 10 17  8 32  6]\n",
      " [ 1  8  1 11  7  9 16  8  6 57]]\n"
     ]
    }
   ],
   "source": [
    "y_predict = classifier_tree.fit(Ftrain, Ltrain).predict(Ftest)\n",
    "class_names = target.unique()\n",
    "print(classification_report(Ltest, y_predict, target_names=class_names))\n",
    "print(confusion_matrix(Ltest, y_predict))"
   ]
  },
  {
   "cell_type": "markdown",
   "id": "21af7568",
   "metadata": {},
   "source": [
    "# KNN on green channel data"
   ]
  },
  {
   "cell_type": "code",
   "execution_count": 59,
   "id": "461b784b",
   "metadata": {},
   "outputs": [
    {
     "data": {
      "text/plain": [
       "0.3447368421052632"
      ]
     },
     "execution_count": 59,
     "metadata": {},
     "output_type": "execute_result"
    }
   ],
   "source": [
    "#reading numpy array data\n",
    "gray_test = np.load('green_data.npy')\n",
    "#reading csv file\n",
    "gray_df = pd.read_csv('green_data.csv')\n",
    "loaded = []\n",
    "for i in gray_test:\n",
    "    k = []\n",
    "    k = np.asarray(i,dtype='uint8')\n",
    "    loaded.append(k)\n",
    "features = loaded\n",
    "target = gray_df['disease']\n",
    "Ftrain,Ftest,Ltrain,Ltest=train_test_split(features,target, test_size=0.20, random_state=20)\n",
    "Ftrain = minmax.fit_transform(Ftrain)\n",
    "Ftest = minmax.fit_transform(Ftest)\n",
    "kmodel.fit(Ftrain,Ltrain)\n",
    "kmodel.score(Ftest,Ltest)"
   ]
  },
  {
   "cell_type": "code",
   "execution_count": 60,
   "id": "5a4d4f1d",
   "metadata": {},
   "outputs": [
    {
     "name": "stdout",
     "output_type": "stream",
     "text": [
      "                               precision    recall  f1-score   support\n",
      "\n",
      "               bacterial_spot       0.28      0.70      0.40       124\n",
      "                 early_blight       1.00      0.01      0.02       114\n",
      "                      healthy       0.32      0.65      0.43       131\n",
      "                  late_blight       0.22      0.15      0.18       124\n",
      "                    leaf_mold       0.46      0.41      0.43       117\n",
      "           septoria_leaf_spot       0.35      0.48      0.40       114\n",
      "                  target_spot       0.42      0.12      0.18       111\n",
      "          tomato_mosaic_virus       0.33      0.03      0.06        60\n",
      "tomato_yellow_leaf_curl_virus       0.53      0.17      0.25       121\n",
      "      two-spotted_spider_mite       0.44      0.52      0.47       124\n",
      "\n",
      "                     accuracy                           0.34      1140\n",
      "                    macro avg       0.43      0.32      0.28      1140\n",
      "                 weighted avg       0.44      0.34      0.30      1140\n",
      "\n",
      "[[87  0 19  6  3  3  0  0  4  2]\n",
      " [61  1  9  1 10  7  5  0  5 15]\n",
      " [11  0 85 17  5 10  0  0  1  2]\n",
      " [25  0 38 18 11 21  0  0  4  7]\n",
      " [11  0 26  9 48  6  2  3  3  9]\n",
      " [ 5  0 34  9  4 55  1  1  0  5]\n",
      " [33  0 12  9  0 18 13  0  0 26]\n",
      " [ 4  0 15  6 10 16  1  2  0  6]\n",
      " [43  0 23  2  9 10  3  0 20 11]\n",
      " [27  0  5  4  4 13  6  0  1 64]]\n"
     ]
    }
   ],
   "source": [
    "#printing results of the kmodel\n",
    "y_predict = kmodel.fit(Ftrain, Ltrain).predict(Ftest)\n",
    "class_names = target.unique()\n",
    "print(classification_report(Ltest, y_predict, target_names=class_names))\n",
    "print(confusion_matrix(Ltest, y_predict))"
   ]
  },
  {
   "cell_type": "markdown",
   "id": "71f3ea86",
   "metadata": {},
   "source": [
    "# Logistic on Green channel data"
   ]
  },
  {
   "cell_type": "code",
   "execution_count": 61,
   "id": "28dad6b2",
   "metadata": {},
   "outputs": [
    {
     "data": {
      "text/plain": [
       "0.3447368421052632"
      ]
     },
     "execution_count": 61,
     "metadata": {},
     "output_type": "execute_result"
    }
   ],
   "source": [
    "model.fit(Ftrain,Ltrain)\n",
    "model.score(Ftest,Ltest)"
   ]
  },
  {
   "cell_type": "code",
   "execution_count": 62,
   "id": "3c0993f1",
   "metadata": {},
   "outputs": [
    {
     "name": "stdout",
     "output_type": "stream",
     "text": [
      "                               precision    recall  f1-score   support\n",
      "\n",
      "               bacterial_spot       0.32      0.53      0.40       124\n",
      "                 early_blight       0.30      0.16      0.21       114\n",
      "                      healthy       0.55      0.42      0.48       131\n",
      "                  late_blight       0.21      0.19      0.20       124\n",
      "                    leaf_mold       0.41      0.37      0.39       117\n",
      "           septoria_leaf_spot       0.35      0.37      0.36       114\n",
      "                  target_spot       0.24      0.21      0.22       111\n",
      "          tomato_mosaic_virus       0.17      0.08      0.11        60\n",
      "tomato_yellow_leaf_curl_virus       0.36      0.37      0.37       121\n",
      "      two-spotted_spider_mite       0.39      0.58      0.47       124\n",
      "\n",
      "                     accuracy                           0.34      1140\n",
      "                    macro avg       0.33      0.33      0.32      1140\n",
      "                 weighted avg       0.34      0.34      0.33      1140\n",
      "\n",
      "[[66 10  5  7  8  6  3  1  9  9]\n",
      " [31 18  4  7  5  4 16  0  7 22]\n",
      " [16  4 55 15  3 11  7  1  8 11]\n",
      " [17 11 10 24 16 18 14  3  8  3]\n",
      " [ 8  6  6 18 43 14  6  4  5  7]\n",
      " [13  0  4 12 10 42 11  2  7 13]\n",
      " [25  7  3  8  5  6 23  0  9 25]\n",
      " [ 5  0  1  9  8  7  0  5 19  6]\n",
      " [18  3  5 10  5  7  3  9 45 16]\n",
      " [ 7  2  7  5  2  5 12  5  7 72]]\n"
     ]
    }
   ],
   "source": [
    "#classification report\n",
    "y_predict = model.fit(Ftrain, Ltrain).predict(Ftest)\n",
    "class_names = target.unique()\n",
    "print(classification_report(Ltest, y_predict, target_names=class_names))\n",
    "print(confusion_matrix(Ltest, y_predict))"
   ]
  },
  {
   "cell_type": "markdown",
   "id": "f62f0223",
   "metadata": {},
   "source": [
    "# SVM on green channel data"
   ]
  },
  {
   "cell_type": "code",
   "execution_count": 63,
   "id": "e89e7297",
   "metadata": {},
   "outputs": [
    {
     "name": "stdout",
     "output_type": "stream",
     "text": [
      "0.37280701754385964\n"
     ]
    }
   ],
   "source": [
    "clf.fit(Ftrain,Ltrain)\n",
    "y_pred = clf.predict(Ftest)\n",
    "print(accuracy_score(Ltest,y_pred))"
   ]
  },
  {
   "cell_type": "code",
   "execution_count": 64,
   "id": "aaec32cf",
   "metadata": {},
   "outputs": [
    {
     "name": "stdout",
     "output_type": "stream",
     "text": [
      "                               precision    recall  f1-score   support\n",
      "\n",
      "               bacterial_spot       0.32      0.50      0.39       124\n",
      "                 early_blight       0.33      0.27      0.30       114\n",
      "                      healthy       0.56      0.51      0.53       131\n",
      "                  late_blight       0.33      0.27      0.30       124\n",
      "                    leaf_mold       0.45      0.38      0.42       117\n",
      "           septoria_leaf_spot       0.33      0.40      0.37       114\n",
      "                  target_spot       0.22      0.25      0.24       111\n",
      "          tomato_mosaic_virus       0.47      0.15      0.23        60\n",
      "tomato_yellow_leaf_curl_virus       0.35      0.37      0.36       121\n",
      "      two-spotted_spider_mite       0.48      0.47      0.47       124\n",
      "\n",
      "                     accuracy                           0.37      1140\n",
      "                    macro avg       0.39      0.36      0.36      1140\n",
      "                 weighted avg       0.38      0.37      0.37      1140\n",
      "\n",
      "[[62 14  8  4  3 10  8  0 10  5]\n",
      " [28 31  1  7  4  6 18  0  7 12]\n",
      " [20  4 67  5  2  7  8  0 10  8]\n",
      " [13 15  8 34 11 19 12  1  9  2]\n",
      " [ 9  6  7 19 45 12  8  2  6  3]\n",
      " [ 7  2  7 14 14 46 12  2  6  4]\n",
      " [25 11  3  5  6  7 28  0 10 16]\n",
      " [ 4  0  3  6  5 13  0  9 17  3]\n",
      " [14  4  9  6  7  8 12  5 45 11]\n",
      " [ 9  6  7  3  2 10 19  0 10 58]]\n"
     ]
    }
   ],
   "source": [
    "#classification report\n",
    "y_predict = clf.fit(Ftrain, Ltrain).predict(Ftest)\n",
    "class_names = target.unique()\n",
    "print(classification_report(Ltest, y_predict, target_names=class_names))\n",
    "print(confusion_matrix(Ltest, y_predict))"
   ]
  },
  {
   "cell_type": "markdown",
   "id": "4f8e565e",
   "metadata": {},
   "source": [
    "# Random Forest on green channel data"
   ]
  },
  {
   "cell_type": "code",
   "execution_count": 65,
   "id": "96c92f8f",
   "metadata": {},
   "outputs": [
    {
     "data": {
      "text/plain": [
       "0.4244351831542005"
      ]
     },
     "execution_count": 65,
     "metadata": {},
     "output_type": "execute_result"
    }
   ],
   "source": [
    "classifier_rf.fit(Ftrain, Ltrain)\n",
    "classifier_rf.oob_score_"
   ]
  },
  {
   "cell_type": "code",
   "execution_count": 66,
   "id": "a855ce64",
   "metadata": {},
   "outputs": [
    {
     "name": "stdout",
     "output_type": "stream",
     "text": [
      "                               precision    recall  f1-score   support\n",
      "\n",
      "               bacterial_spot       0.46      0.56      0.51       124\n",
      "                 early_blight       0.38      0.25      0.30       114\n",
      "                      healthy       0.47      0.56      0.51       131\n",
      "                  late_blight       0.53      0.20      0.29       124\n",
      "                    leaf_mold       0.55      0.41      0.47       117\n",
      "           septoria_leaf_spot       0.43      0.61      0.51       114\n",
      "                  target_spot       0.32      0.68      0.43       111\n",
      "          tomato_mosaic_virus       0.00      0.00      0.00        60\n",
      "tomato_yellow_leaf_curl_virus       0.46      0.32      0.38       121\n",
      "      two-spotted_spider_mite       0.43      0.51      0.47       124\n",
      "\n",
      "                     accuracy                           0.43      1140\n",
      "                    macro avg       0.40      0.41      0.39      1140\n",
      "                 weighted avg       0.43      0.43      0.41      1140\n",
      "\n",
      "[[69  6 11  3  4  1 16  0  8  6]\n",
      " [33 28  1  1  6 19 12  0  4 10]\n",
      " [ 0  0 73  2  5  1 35  0 11  4]\n",
      " [10 13 25 25  6 23 10  0  6  6]\n",
      " [ 7  4  8  3 48 17 22  0  2  6]\n",
      " [ 1  1 15  5  4 69  6  0  6  7]\n",
      " [ 3  5  1  0  1  8 75  0  3 15]\n",
      " [ 3  0 12  4  6  7 12  0  3 13]\n",
      " [18 10  8  4  7  8 11  0 39 16]\n",
      " [ 5  7  1  0  1  6 39  0  2 63]]\n"
     ]
    },
    {
     "name": "stderr",
     "output_type": "stream",
     "text": [
      "C:\\Users\\ravic\\anaconda3\\lib\\site-packages\\sklearn\\metrics\\_classification.py:1248: UndefinedMetricWarning: Precision and F-score are ill-defined and being set to 0.0 in labels with no predicted samples. Use `zero_division` parameter to control this behavior.\n",
      "  _warn_prf(average, modifier, msg_start, len(result))\n",
      "C:\\Users\\ravic\\anaconda3\\lib\\site-packages\\sklearn\\metrics\\_classification.py:1248: UndefinedMetricWarning: Precision and F-score are ill-defined and being set to 0.0 in labels with no predicted samples. Use `zero_division` parameter to control this behavior.\n",
      "  _warn_prf(average, modifier, msg_start, len(result))\n",
      "C:\\Users\\ravic\\anaconda3\\lib\\site-packages\\sklearn\\metrics\\_classification.py:1248: UndefinedMetricWarning: Precision and F-score are ill-defined and being set to 0.0 in labels with no predicted samples. Use `zero_division` parameter to control this behavior.\n",
      "  _warn_prf(average, modifier, msg_start, len(result))\n"
     ]
    }
   ],
   "source": [
    "y_predict = classifier_rf.fit(Ftrain, Ltrain).predict(Ftest)\n",
    "class_names = target.unique()\n",
    "print(classification_report(Ltest, y_predict, target_names=class_names))\n",
    "print(confusion_matrix(Ltest, y_predict))"
   ]
  },
  {
   "cell_type": "markdown",
   "id": "e9b1cca9",
   "metadata": {},
   "source": [
    "# Naive bayes on Green channel data"
   ]
  },
  {
   "cell_type": "code",
   "execution_count": 67,
   "id": "1136802c",
   "metadata": {},
   "outputs": [
    {
     "data": {
      "text/plain": [
       "0.35789473684210527"
      ]
     },
     "execution_count": 67,
     "metadata": {},
     "output_type": "execute_result"
    }
   ],
   "source": [
    "gnb.fit(Ftrain, Ltrain)\n",
    "GaussianNB()\n",
    "y_pred = gnb.predict(Ftest)\n",
    "metrics.accuracy_score(Ltest, y_pred)"
   ]
  },
  {
   "cell_type": "code",
   "execution_count": 68,
   "id": "08e6f602",
   "metadata": {},
   "outputs": [
    {
     "name": "stdout",
     "output_type": "stream",
     "text": [
      "                               precision    recall  f1-score   support\n",
      "\n",
      "               bacterial_spot       0.56      0.54      0.55       124\n",
      "                 early_blight       0.34      0.33      0.34       114\n",
      "                      healthy       0.40      0.44      0.42       131\n",
      "                  late_blight       0.32      0.25      0.28       124\n",
      "                    leaf_mold       0.62      0.20      0.30       117\n",
      "           septoria_leaf_spot       0.25      0.64      0.36       114\n",
      "                  target_spot       0.41      0.32      0.36       111\n",
      "          tomato_mosaic_virus       0.30      0.32      0.31        60\n",
      "tomato_yellow_leaf_curl_virus       0.24      0.12      0.16       121\n",
      "      two-spotted_spider_mite       0.37      0.40      0.38       124\n",
      "\n",
      "                     accuracy                           0.36      1140\n",
      "                    macro avg       0.38      0.36      0.35      1140\n",
      "                 weighted avg       0.39      0.36      0.35      1140\n",
      "\n",
      "[[67  8 10  2  0 12  8  7  5  5]\n",
      " [17 38  1 28  3  7  9  1  3  7]\n",
      " [ 1  1 57  3  4 22 17  2 17  7]\n",
      " [ 2 22 33 31  1 25  3  2  5  0]\n",
      " [ 8  3  6 11 23 36  4 13  3 10]\n",
      " [ 1  3 16  6  0 73  1  2  4  8]\n",
      " [ 1 12  0  8  1 30 35  2  2 20]\n",
      " [ 4  0  5  1  3 16  1 19  2  9]\n",
      " [16 13 14  3  0 29  3  8 15 20]\n",
      " [ 2 11  0  3  2 37  5  8  6 50]]\n"
     ]
    }
   ],
   "source": [
    "class_names = target.unique()\n",
    "print(classification_report(Ltest, y_pred, target_names=class_names))\n",
    "print(confusion_matrix(Ltest, y_pred))"
   ]
  },
  {
   "cell_type": "markdown",
   "id": "ad497b39",
   "metadata": {},
   "source": [
    "# Decision Tree on Green channel"
   ]
  },
  {
   "cell_type": "code",
   "execution_count": 69,
   "id": "458fe744",
   "metadata": {},
   "outputs": [
    {
     "data": {
      "text/plain": [
       "0.2596491228070175"
      ]
     },
     "execution_count": 69,
     "metadata": {},
     "output_type": "execute_result"
    }
   ],
   "source": [
    "classifier_tree.fit(Ftrain, Ltrain)\n",
    "classifier_tree.score(Ftest,Ltest)"
   ]
  },
  {
   "cell_type": "code",
   "execution_count": 70,
   "id": "60ea8164",
   "metadata": {},
   "outputs": [
    {
     "name": "stdout",
     "output_type": "stream",
     "text": [
      "                               precision    recall  f1-score   support\n",
      "\n",
      "               bacterial_spot       0.42      0.35      0.38       124\n",
      "                 early_blight       0.17      0.20      0.18       114\n",
      "                      healthy       0.43      0.31      0.36       131\n",
      "                  late_blight       0.26      0.23      0.25       124\n",
      "                    leaf_mold       0.25      0.25      0.25       117\n",
      "           septoria_leaf_spot       0.22      0.25      0.24       114\n",
      "                  target_spot       0.23      0.32      0.26       111\n",
      "          tomato_mosaic_virus       0.17      0.18      0.18        60\n",
      "tomato_yellow_leaf_curl_virus       0.32      0.29      0.30       121\n",
      "      two-spotted_spider_mite       0.29      0.27      0.28       124\n",
      "\n",
      "                     accuracy                           0.27      1140\n",
      "                    macro avg       0.27      0.27      0.27      1140\n",
      "                 weighted avg       0.28      0.27      0.27      1140\n",
      "\n",
      "[[44 15  8  7 11  6 11  1 11 10]\n",
      " [13 23  3 10 13 10 17  5 10 10]\n",
      " [ 6  7 40 10 10 17 16  6 11  8]\n",
      " [ 7 13 10 29 15 16 10  8 10  6]\n",
      " [ 3 16  4 11 29 11 12 14  6 11]\n",
      " [ 5 13  3 23  9 29 13  5  9  5]\n",
      " [ 7 15  4  4  3 17 35  4  6 16]\n",
      " [ 5  4  8  4  7  4  9 11  5  3]\n",
      " [ 9 19  5 11 11  9  5  4 35 13]\n",
      " [ 6 14  9  3 10 11 26  6  6 33]]\n"
     ]
    }
   ],
   "source": [
    "y_predict = classifier_tree.fit(Ftrain, Ltrain).predict(Ftest)\n",
    "class_names = target.unique()\n",
    "print(classification_report(Ltest, y_predict, target_names=class_names))\n",
    "print(confusion_matrix(Ltest, y_predict))"
   ]
  },
  {
   "cell_type": "markdown",
   "id": "75817642",
   "metadata": {},
   "source": [
    "# KNN on blue channel data"
   ]
  },
  {
   "cell_type": "code",
   "execution_count": 71,
   "id": "531e3624",
   "metadata": {},
   "outputs": [
    {
     "data": {
      "text/plain": [
       "0.46228070175438596"
      ]
     },
     "execution_count": 71,
     "metadata": {},
     "output_type": "execute_result"
    }
   ],
   "source": [
    "#reading numpy array data\n",
    "gray_test = np.load('blue_data.npy')\n",
    "#reading csv file\n",
    "gray_df = pd.read_csv('blue_data.csv')\n",
    "loaded = []\n",
    "for i in gray_test:\n",
    "    k = []\n",
    "    k = np.asarray(i,dtype='uint8')\n",
    "    loaded.append(k)\n",
    "features = loaded\n",
    "target = gray_df['disease']\n",
    "Ftrain,Ftest,Ltrain,Ltest=train_test_split(features,target, test_size=0.20, random_state=20)\n",
    "Ftrain = minmax.fit_transform(Ftrain)\n",
    "Ftest = minmax.fit_transform(Ftest)\n",
    "kmodel.fit(Ftrain,Ltrain)\n",
    "kmodel.score(Ftest,Ltest)"
   ]
  },
  {
   "cell_type": "code",
   "execution_count": 72,
   "id": "1314e157",
   "metadata": {},
   "outputs": [
    {
     "name": "stdout",
     "output_type": "stream",
     "text": [
      "                               precision    recall  f1-score   support\n",
      "\n",
      "               bacterial_spot       0.29      0.85      0.43       124\n",
      "                 early_blight       0.00      0.00      0.00       114\n",
      "                      healthy       0.47      0.83      0.60       131\n",
      "                  late_blight       0.49      0.31      0.38       124\n",
      "                    leaf_mold       0.49      0.61      0.54       117\n",
      "           septoria_leaf_spot       0.59      0.38      0.46       114\n",
      "                  target_spot       0.51      0.27      0.35       111\n",
      "          tomato_mosaic_virus       0.59      0.38      0.46        60\n",
      "tomato_yellow_leaf_curl_virus       0.83      0.40      0.54       121\n",
      "      two-spotted_spider_mite       0.63      0.48      0.55       124\n",
      "\n",
      "                     accuracy                           0.46      1140\n",
      "                    macro avg       0.49      0.45      0.43      1140\n",
      "                 weighted avg       0.49      0.46      0.43      1140\n",
      "\n",
      "[[105   0  12   1   1   2   0   0   2   1]\n",
      " [ 62   0  13   5   8   6  10   3   3   4]\n",
      " [ 10   0 109   3   2   1   3   1   0   2]\n",
      " [ 29   0  25  38  17   9   1   1   1   3]\n",
      " [ 16   0   7   5  71   2   1   5   1   9]\n",
      " [ 20   0   9   7  29  43   1   4   0   1]\n",
      " [ 31   0  35   2   2   2  30   0   1   8]\n",
      " [  4   0   6  10   9   4   0  23   0   4]\n",
      " [ 55   0   1   5   4   2   1   2  48   3]\n",
      " [ 32   0  14   1   1   2  12   0   2  60]]\n"
     ]
    },
    {
     "name": "stderr",
     "output_type": "stream",
     "text": [
      "C:\\Users\\ravic\\anaconda3\\lib\\site-packages\\sklearn\\metrics\\_classification.py:1248: UndefinedMetricWarning: Precision and F-score are ill-defined and being set to 0.0 in labels with no predicted samples. Use `zero_division` parameter to control this behavior.\n",
      "  _warn_prf(average, modifier, msg_start, len(result))\n",
      "C:\\Users\\ravic\\anaconda3\\lib\\site-packages\\sklearn\\metrics\\_classification.py:1248: UndefinedMetricWarning: Precision and F-score are ill-defined and being set to 0.0 in labels with no predicted samples. Use `zero_division` parameter to control this behavior.\n",
      "  _warn_prf(average, modifier, msg_start, len(result))\n",
      "C:\\Users\\ravic\\anaconda3\\lib\\site-packages\\sklearn\\metrics\\_classification.py:1248: UndefinedMetricWarning: Precision and F-score are ill-defined and being set to 0.0 in labels with no predicted samples. Use `zero_division` parameter to control this behavior.\n",
      "  _warn_prf(average, modifier, msg_start, len(result))\n"
     ]
    }
   ],
   "source": [
    "#printing results of the kmodel\n",
    "y_predict = kmodel.fit(Ftrain, Ltrain).predict(Ftest)\n",
    "class_names = target.unique()\n",
    "print(classification_report(Ltest, y_predict, target_names=class_names))\n",
    "print(confusion_matrix(Ltest, y_predict))"
   ]
  },
  {
   "cell_type": "markdown",
   "id": "f452a113",
   "metadata": {},
   "source": [
    "# logistic on blue channel data"
   ]
  },
  {
   "cell_type": "code",
   "execution_count": 73,
   "id": "de158586",
   "metadata": {},
   "outputs": [
    {
     "data": {
      "text/plain": [
       "0.4535087719298246"
      ]
     },
     "execution_count": 73,
     "metadata": {},
     "output_type": "execute_result"
    }
   ],
   "source": [
    "model.fit(Ftrain,Ltrain)\n",
    "model.score(Ftest,Ltest)"
   ]
  },
  {
   "cell_type": "code",
   "execution_count": 74,
   "id": "489ce7e9",
   "metadata": {},
   "outputs": [
    {
     "name": "stdout",
     "output_type": "stream",
     "text": [
      "                               precision    recall  f1-score   support\n",
      "\n",
      "               bacterial_spot       0.47      0.58      0.52       124\n",
      "                 early_blight       0.32      0.24      0.27       114\n",
      "                      healthy       0.64      0.54      0.59       131\n",
      "                  late_blight       0.38      0.24      0.30       124\n",
      "                    leaf_mold       0.41      0.62      0.49       117\n",
      "           septoria_leaf_spot       0.33      0.37      0.35       114\n",
      "                  target_spot       0.36      0.42      0.39       111\n",
      "          tomato_mosaic_virus       0.50      0.27      0.35        60\n",
      "tomato_yellow_leaf_curl_virus       0.66      0.59      0.62       121\n",
      "      two-spotted_spider_mite       0.50      0.55      0.52       124\n",
      "\n",
      "                     accuracy                           0.45      1140\n",
      "                    macro avg       0.46      0.44      0.44      1140\n",
      "                 weighted avg       0.46      0.45      0.45      1140\n",
      "\n",
      "[[72 14  2  4  2  8  5  0 10  7]\n",
      " [17 27  4  8 10 12 18  1 12  5]\n",
      " [ 9  5 71 12  4  4 15  0  0 11]\n",
      " [11 12 14 30 16 19 11  4  3  4]\n",
      " [ 4  6  1  6 73 13  5  3  0  6]\n",
      " [ 6  2  2  6 30 42 13  5  3  5]\n",
      " [10  5  8  2 10  8 47  0  3 18]\n",
      " [ 1  0  0  4 18 10  2 16  3  6]\n",
      " [16  6  0  3  9  8  1  1 71  6]\n",
      " [ 6  7  9  4  7  4 14  2  3 68]]\n"
     ]
    }
   ],
   "source": [
    "#classification report\n",
    "y_predict = model.fit(Ftrain, Ltrain).predict(Ftest)\n",
    "class_names = target.unique()\n",
    "print(classification_report(Ltest, y_predict, target_names=class_names))\n",
    "print(confusion_matrix(Ltest, y_predict))"
   ]
  },
  {
   "cell_type": "markdown",
   "id": "c7585c1d",
   "metadata": {},
   "source": [
    "# SVM on blue channel data"
   ]
  },
  {
   "cell_type": "code",
   "execution_count": 75,
   "id": "06fb4a0f",
   "metadata": {},
   "outputs": [
    {
     "name": "stdout",
     "output_type": "stream",
     "text": [
      "0.44912280701754387\n"
     ]
    }
   ],
   "source": [
    "clf.fit(Ftrain,Ltrain)\n",
    "y_pred = clf.predict(Ftest)\n",
    "print(accuracy_score(Ltest,y_pred))"
   ]
  },
  {
   "cell_type": "code",
   "execution_count": 76,
   "id": "03a12a5f",
   "metadata": {},
   "outputs": [
    {
     "name": "stdout",
     "output_type": "stream",
     "text": [
      "                               precision    recall  f1-score   support\n",
      "\n",
      "               bacterial_spot       0.47      0.60      0.53       124\n",
      "                 early_blight       0.25      0.26      0.26       114\n",
      "                      healthy       0.66      0.63      0.65       131\n",
      "                  late_blight       0.55      0.27      0.36       124\n",
      "                    leaf_mold       0.40      0.56      0.47       117\n",
      "           septoria_leaf_spot       0.29      0.40      0.33       114\n",
      "                  target_spot       0.33      0.38      0.35       111\n",
      "          tomato_mosaic_virus       0.55      0.30      0.39        60\n",
      "tomato_yellow_leaf_curl_virus       0.63      0.55      0.59       121\n",
      "      two-spotted_spider_mite       0.63      0.42      0.50       124\n",
      "\n",
      "                     accuracy                           0.45      1140\n",
      "                    macro avg       0.47      0.44      0.44      1140\n",
      "                 weighted avg       0.48      0.45      0.45      1140\n",
      "\n",
      "[[75 12  4  2  1 12  4  0 11  3]\n",
      " [20 30  5  8 12 10 15  0 10  4]\n",
      " [14  7 83  2  3  1 17  0  1  3]\n",
      " [ 7 16 18 33 15 21  8  2  3  1]\n",
      " [ 4  8  0  5 66 16 10  1  4  3]\n",
      " [ 8 10  2  3 30 46  8  5  0  2]\n",
      " [ 7 14  6  3 16 10 42  0  3 10]\n",
      " [ 0  2  1  1  9 20  3 18  3  3]\n",
      " [17  9  0  2  7 13  1  3 67  2]\n",
      " [ 9 11  7  1  5 12 19  4  4 52]]\n"
     ]
    }
   ],
   "source": [
    "#classification report\n",
    "y_predict = clf.fit(Ftrain, Ltrain).predict(Ftest)\n",
    "class_names = target.unique()\n",
    "print(classification_report(Ltest, y_predict, target_names=class_names))\n",
    "print(confusion_matrix(Ltest, y_predict))"
   ]
  },
  {
   "cell_type": "markdown",
   "id": "f4eb8c6c",
   "metadata": {},
   "source": [
    "# Random Forest on blue channel data"
   ]
  },
  {
   "cell_type": "code",
   "execution_count": 77,
   "id": "b71407b2",
   "metadata": {},
   "outputs": [
    {
     "data": {
      "text/plain": [
       "0.500329019521825"
      ]
     },
     "execution_count": 77,
     "metadata": {},
     "output_type": "execute_result"
    }
   ],
   "source": [
    "classifier_rf.fit(Ftrain, Ltrain)\n",
    "classifier_rf.oob_score_"
   ]
  },
  {
   "cell_type": "code",
   "execution_count": 78,
   "id": "f7d75463",
   "metadata": {},
   "outputs": [
    {
     "name": "stdout",
     "output_type": "stream",
     "text": [
      "                               precision    recall  f1-score   support\n",
      "\n",
      "               bacterial_spot       0.63      0.67      0.65       124\n",
      "                 early_blight       0.29      0.06      0.10       114\n",
      "                      healthy       0.65      0.62      0.64       131\n",
      "                  late_blight       0.62      0.24      0.35       124\n",
      "                    leaf_mold       0.62      0.62      0.62       117\n",
      "           septoria_leaf_spot       0.43      0.61      0.51       114\n",
      "                  target_spot       0.34      0.74      0.47       111\n",
      "          tomato_mosaic_virus       0.50      0.02      0.03        60\n",
      "tomato_yellow_leaf_curl_virus       0.56      0.87      0.68       121\n",
      "      two-spotted_spider_mite       0.45      0.38      0.41       124\n",
      "\n",
      "                     accuracy                           0.51      1140\n",
      "                    macro avg       0.51      0.48      0.45      1140\n",
      "                 weighted avg       0.52      0.51      0.47      1140\n",
      "\n",
      "[[ 83   3   4   6   0   0   9   0  15   4]\n",
      " [ 18   7   3   6   4  12  31   0  26   7]\n",
      " [  4   0  81   0   3   2  38   0   1   2]\n",
      " [  2   9  18  30  15  20  16   0  10   4]\n",
      " [  6   1   1   1  72  18   8   0   4   6]\n",
      " [  6   0   1   2  15  70   3   1   6  10]\n",
      " [  6   2   5   0   0  11  82   0   1   4]\n",
      " [  0   0   2   2   6  21   7   1   4  17]\n",
      " [  3   2   0   0   1   3   3   0 105   4]\n",
      " [  4   0   9   1   1   4  44   0  14  47]]\n"
     ]
    }
   ],
   "source": [
    "y_predict = classifier_rf.fit(Ftrain, Ltrain).predict(Ftest)\n",
    "class_names = target.unique()\n",
    "print(classification_report(Ltest, y_predict, target_names=class_names))\n",
    "print(confusion_matrix(Ltest, y_predict))"
   ]
  },
  {
   "cell_type": "markdown",
   "id": "fb1ca20e",
   "metadata": {},
   "source": [
    "# Naive bayes on blue channel data"
   ]
  },
  {
   "cell_type": "code",
   "execution_count": 79,
   "id": "11ea0b85",
   "metadata": {},
   "outputs": [
    {
     "data": {
      "text/plain": [
       "0.4535087719298246"
      ]
     },
     "execution_count": 79,
     "metadata": {},
     "output_type": "execute_result"
    }
   ],
   "source": [
    "gnb.fit(Ftrain, Ltrain)\n",
    "GaussianNB()\n",
    "y_pred = gnb.predict(Ftest)\n",
    "metrics.accuracy_score(Ltest, y_pred)"
   ]
  },
  {
   "cell_type": "code",
   "execution_count": 80,
   "id": "b8a32aab",
   "metadata": {},
   "outputs": [
    {
     "name": "stdout",
     "output_type": "stream",
     "text": [
      "                               precision    recall  f1-score   support\n",
      "\n",
      "               bacterial_spot       0.74      0.60      0.67       124\n",
      "                 early_blight       0.36      0.28      0.32       114\n",
      "                      healthy       0.72      0.50      0.59       131\n",
      "                  late_blight       0.37      0.23      0.29       124\n",
      "                    leaf_mold       0.67      0.47      0.55       117\n",
      "           septoria_leaf_spot       0.28      0.53      0.37       114\n",
      "                  target_spot       0.37      0.56      0.45       111\n",
      "          tomato_mosaic_virus       0.24      0.58      0.34        60\n",
      "tomato_yellow_leaf_curl_virus       0.73      0.60      0.66       121\n",
      "      two-spotted_spider_mite       0.40      0.26      0.31       124\n",
      "\n",
      "                     accuracy                           0.45      1140\n",
      "                    macro avg       0.49      0.46      0.45      1140\n",
      "                 weighted avg       0.51      0.45      0.46      1140\n",
      "\n",
      "[[75  4  4  2  0  2 15  3 10  9]\n",
      " [ 9 32  5 25  4 17  9  2  7  4]\n",
      " [ 4  3 65  3  3 11 34  4  0  4]\n",
      " [ 0 21 14 29  2 23  6 27  2  0]\n",
      " [ 0  4  0  4 55 28  8 11  0  7]\n",
      " [ 4  3  0  6 11 60  5 18  1  6]\n",
      " [ 0  6  0  8  2 25 62  2  1  5]\n",
      " [ 2  0  0  0  3 17  0 35  0  3]\n",
      " [ 6  9  0  2  2  8  2 10 72 10]\n",
      " [ 1  7  2  0  0 21 25 31  5 32]]\n"
     ]
    }
   ],
   "source": [
    "class_names = target.unique()\n",
    "print(classification_report(Ltest, y_pred, target_names=class_names))\n",
    "print(confusion_matrix(Ltest, y_pred))"
   ]
  },
  {
   "cell_type": "markdown",
   "id": "f125f7c4",
   "metadata": {},
   "source": [
    "# Decision Tree on blue channel"
   ]
  },
  {
   "cell_type": "code",
   "execution_count": 81,
   "id": "88bfbe14",
   "metadata": {},
   "outputs": [
    {
     "data": {
      "text/plain": [
       "0.3201754385964912"
      ]
     },
     "execution_count": 81,
     "metadata": {},
     "output_type": "execute_result"
    }
   ],
   "source": [
    "classifier_tree.fit(Ftrain, Ltrain)\n",
    "classifier_tree.score(Ftest,Ltest)"
   ]
  },
  {
   "cell_type": "code",
   "execution_count": 82,
   "id": "6e2c73b8",
   "metadata": {},
   "outputs": [
    {
     "name": "stdout",
     "output_type": "stream",
     "text": [
      "                               precision    recall  f1-score   support\n",
      "\n",
      "               bacterial_spot       0.44      0.31      0.36       124\n",
      "                 early_blight       0.14      0.16      0.15       114\n",
      "                      healthy       0.53      0.54      0.54       131\n",
      "                  late_blight       0.27      0.25      0.26       124\n",
      "                    leaf_mold       0.36      0.38      0.37       117\n",
      "           septoria_leaf_spot       0.25      0.34      0.29       114\n",
      "                  target_spot       0.25      0.30      0.27       111\n",
      "          tomato_mosaic_virus       0.19      0.15      0.17        60\n",
      "tomato_yellow_leaf_curl_virus       0.49      0.45      0.47       121\n",
      "      two-spotted_spider_mite       0.38      0.32      0.35       124\n",
      "\n",
      "                     accuracy                           0.33      1140\n",
      "                    macro avg       0.33      0.32      0.32      1140\n",
      "                 weighted avg       0.34      0.33      0.33      1140\n",
      "\n",
      "[[38 23  6 12  6  8 13  3 10  5]\n",
      " [ 9 18 11  8  9 16 18  3 17  5]\n",
      " [ 3  5 71  6 10  7 18  4  1  6]\n",
      " [ 7 14 13 31 10 22  6  4  9  8]\n",
      " [ 5 11  6 12 45 20  8  5  2  3]\n",
      " [ 2 13  2 18 11 39 10  6  6  7]\n",
      " [ 5 16 10  6 11 12 33  4  3 11]\n",
      " [ 4  0  3  8 11 13  2  9  2  8]\n",
      " [ 9 15  3  6  4  8  5  4 54 13]\n",
      " [ 4 12  9  9  7 12 19  5  7 40]]\n"
     ]
    }
   ],
   "source": [
    "y_predict = classifier_tree.fit(Ftrain, Ltrain).predict(Ftest)\n",
    "class_names = target.unique()\n",
    "print(classification_report(Ltest, y_predict, target_names=class_names))\n",
    "print(confusion_matrix(Ltest, y_predict))"
   ]
  },
  {
   "cell_type": "code",
   "execution_count": 83,
   "id": "f38112c6",
   "metadata": {},
   "outputs": [
    {
     "name": "stdout",
     "output_type": "stream",
     "text": [
      "2256.1937549114227\n"
     ]
    }
   ],
   "source": [
    "end_time = time.time()\n",
    "print(end_time - start_time)"
   ]
  }
 ],
 "metadata": {
  "kernelspec": {
   "display_name": "Python 3 (ipykernel)",
   "language": "python",
   "name": "python3"
  },
  "language_info": {
   "codemirror_mode": {
    "name": "ipython",
    "version": 3
   },
   "file_extension": ".py",
   "mimetype": "text/x-python",
   "name": "python",
   "nbconvert_exporter": "python",
   "pygments_lexer": "ipython3",
   "version": "3.9.12"
  }
 },
 "nbformat": 4,
 "nbformat_minor": 5
}
