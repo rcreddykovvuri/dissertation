{
 "cells": [
  {
   "cell_type": "code",
   "execution_count": 1,
   "id": "bcdb1517",
   "metadata": {},
   "outputs": [],
   "source": [
    "import numpy as np #importing numpy\n",
    "import pandas as pd #importing pandas\n",
    "import PIL #importing pillow for image processing\n",
    "from PIL import Image#importing image from pillow library\n",
    "import skimage#importing skimage library\n",
    "import os#importing os library\n",
    "import time#importing time library\n",
    "\n",
    "#Capture start time of the program\n",
    "start_time = time.time()"
   ]
  },
  {
   "cell_type": "code",
   "execution_count": 2,
   "id": "9ec45970",
   "metadata": {},
   "outputs": [],
   "source": [
    "os.chdir('D://DKIT//dissertation//Dataset_of_Tomato_Leaves//plantvillage//Preprocessed_data//64//no_bias_vector//')"
   ]
  },
  {
   "cell_type": "code",
   "execution_count": 3,
   "id": "cbc71f85",
   "metadata": {},
   "outputs": [],
   "source": [
    "#importing classification report and confusion matrix\n",
    "from sklearn.metrics import classification_report, confusion_matrix"
   ]
  },
  {
   "cell_type": "markdown",
   "id": "7139bf53",
   "metadata": {},
   "source": [
    "# KNN on rgb data"
   ]
  },
  {
   "cell_type": "code",
   "execution_count": 4,
   "id": "9386938c",
   "metadata": {},
   "outputs": [],
   "source": [
    "#reading numpy array data\n",
    "rgb_test = np.load('rgb_data.npy')\n",
    "#reading csv file\n",
    "rgb_df = pd.read_csv('rgb_data.csv')"
   ]
  },
  {
   "cell_type": "code",
   "execution_count": 5,
   "id": "4f95f2f6",
   "metadata": {},
   "outputs": [],
   "source": [
    "loaded = []\n",
    "for i in rgb_test:\n",
    "    k = []\n",
    "    k = np.asarray(i,dtype='uint8')\n",
    "    loaded.append(k)"
   ]
  },
  {
   "cell_type": "code",
   "execution_count": 6,
   "id": "c6d5658c",
   "metadata": {},
   "outputs": [],
   "source": [
    "features = loaded\n",
    "target = rgb_df['disease']\n",
    "from sklearn.preprocessing import Normalizer\n",
    "norm = Normalizer()\n",
    "from sklearn.model_selection import train_test_split\n",
    "Ftrain,Ftest,Ltrain,Ltest=train_test_split(features,target, test_size=0.20, random_state=24)"
   ]
  },
  {
   "cell_type": "code",
   "execution_count": 7,
   "id": "8cc86824",
   "metadata": {},
   "outputs": [],
   "source": [
    "Ftrain = norm.fit_transform(Ftrain)\n",
    "Ftest = norm.fit_transform(Ftest)"
   ]
  },
  {
   "cell_type": "code",
   "execution_count": 8,
   "id": "6f1171c6",
   "metadata": {},
   "outputs": [],
   "source": [
    "from sklearn.neighbors import KNeighborsClassifier\n",
    "kmodel = KNeighborsClassifier(n_neighbors=75)"
   ]
  },
  {
   "cell_type": "code",
   "execution_count": 9,
   "id": "b9fdc978",
   "metadata": {},
   "outputs": [
    {
     "data": {
      "text/plain": [
       "0.4087719298245614"
      ]
     },
     "execution_count": 9,
     "metadata": {},
     "output_type": "execute_result"
    }
   ],
   "source": [
    "kmodel.fit(Ftrain,Ltrain)\n",
    "kmodel.score(Ftest,Ltest)"
   ]
  },
  {
   "cell_type": "code",
   "execution_count": 10,
   "id": "cc56686d",
   "metadata": {},
   "outputs": [
    {
     "name": "stdout",
     "output_type": "stream",
     "text": [
      "                               precision    recall  f1-score   support\n",
      "\n",
      "               bacterial_spot       0.24      0.68      0.36       115\n",
      "                 early_blight       0.67      0.02      0.03       120\n",
      "                      healthy       0.35      0.82      0.49       125\n",
      "                  late_blight       0.49      0.32      0.39       125\n",
      "                    leaf_mold       0.66      0.55      0.60       127\n",
      "           septoria_leaf_spot       0.35      0.27      0.31       117\n",
      "                  target_spot       0.64      0.08      0.14       115\n",
      "          tomato_mosaic_virus       0.59      0.41      0.48        54\n",
      "tomato_yellow_leaf_curl_virus       0.86      0.38      0.52       114\n",
      "      two-spotted_spider_mite       0.47      0.52      0.50       128\n",
      "\n",
      "                     accuracy                           0.41      1140\n",
      "                    macro avg       0.53      0.40      0.38      1140\n",
      "                 weighted avg       0.53      0.41      0.38      1140\n",
      "\n",
      "[[ 78   0  21   2   0   7   0   1   3   3]\n",
      " [ 69   2  15   3   9   8   4   3   0   7]\n",
      " [  8   0 103   7   1   2   1   1   0   2]\n",
      " [ 16   1  42  40   9   9   0   0   1   7]\n",
      " [  7   0  24  10  70   7   0   3   0   6]\n",
      " [ 17   0  38   5  12  32   0   2   2   9]\n",
      " [ 56   0  27   0   0   5   9   0   0  18]\n",
      " [  0   0   6   9   4   0   0  22   0  13]\n",
      " [ 37   0  11   2   1   9   0   1  43  10]\n",
      " [ 33   0   8   3   0  12   0   4   1  67]]\n"
     ]
    }
   ],
   "source": [
    "#printing results of the kmodel\n",
    "y_predict = kmodel.fit(Ftrain, Ltrain).predict(Ftest)\n",
    "class_names = target.unique()\n",
    "print(classification_report(Ltest, y_predict, target_names=class_names))\n",
    "print(confusion_matrix(Ltest, y_predict))"
   ]
  },
  {
   "cell_type": "markdown",
   "id": "d5c58638",
   "metadata": {},
   "source": [
    "# Logistic on rgb data"
   ]
  },
  {
   "cell_type": "code",
   "execution_count": 11,
   "id": "a84836ef",
   "metadata": {},
   "outputs": [
    {
     "data": {
      "text/plain": [
       "0.5184210526315789"
      ]
     },
     "execution_count": 11,
     "metadata": {},
     "output_type": "execute_result"
    }
   ],
   "source": [
    "from sklearn.linear_model import LogisticRegression\n",
    "model=LogisticRegression(solver='lbfgs', max_iter=10000)\n",
    "model.fit(Ftrain,Ltrain)\n",
    "model.score(Ftest,Ltest)"
   ]
  },
  {
   "cell_type": "code",
   "execution_count": 12,
   "id": "a1f10c9f",
   "metadata": {},
   "outputs": [
    {
     "name": "stdout",
     "output_type": "stream",
     "text": [
      "                               precision    recall  f1-score   support\n",
      "\n",
      "               bacterial_spot       0.50      0.51      0.51       115\n",
      "                 early_blight       0.45      0.31      0.37       120\n",
      "                      healthy       0.47      0.77      0.58       125\n",
      "                  late_blight       0.54      0.30      0.39       125\n",
      "                    leaf_mold       0.58      0.71      0.64       127\n",
      "           septoria_leaf_spot       0.43      0.22      0.29       117\n",
      "                  target_spot       0.50      0.36      0.42       115\n",
      "          tomato_mosaic_virus       0.71      0.41      0.52        54\n",
      "tomato_yellow_leaf_curl_virus       0.68      0.82      0.74       114\n",
      "      two-spotted_spider_mite       0.45      0.70      0.54       128\n",
      "\n",
      "                     accuracy                           0.52      1140\n",
      "                    macro avg       0.53      0.51      0.50      1140\n",
      "                 weighted avg       0.52      0.52      0.50      1140\n",
      "\n",
      "[[59  6 11  3  2  6  0  0 19  9]\n",
      " [17 37  4 13 14  2  8  0  2 23]\n",
      " [ 0  0 96  3  3  3 16  0  0  4]\n",
      " [ 5  9 51 38  8  4  1  0  1  8]\n",
      " [ 1  1  9  4 90 11  2  1  1  7]\n",
      " [11  4 16  3 22 26  7  0 16 12]\n",
      " [12 12 15  4  2  0 41  1  0 28]\n",
      " [ 0  1  1  0 13  3  1 22  2 11]\n",
      " [ 5  5  0  2  0  0  0  1 93  8]\n",
      " [ 7  7  3  1  1  6  6  6  2 89]]\n"
     ]
    }
   ],
   "source": [
    "#classification report\n",
    "y_predict = model.fit(Ftrain, Ltrain).predict(Ftest)\n",
    "class_names = target.unique()\n",
    "print(classification_report(Ltest, y_predict, target_names=class_names))\n",
    "print(confusion_matrix(Ltest, y_predict))"
   ]
  },
  {
   "cell_type": "markdown",
   "id": "6fe194bc",
   "metadata": {},
   "source": [
    "# SVM on RGB data"
   ]
  },
  {
   "cell_type": "code",
   "execution_count": 13,
   "id": "2427ed51",
   "metadata": {},
   "outputs": [
    {
     "name": "stdout",
     "output_type": "stream",
     "text": [
      "0.5745614035087719\n"
     ]
    }
   ],
   "source": [
    "from sklearn.svm import SVC\n",
    "from sklearn.metrics import accuracy_score\n",
    "\n",
    "clf = SVC(kernel='linear')\n",
    "clf.fit(Ftrain,Ltrain)\n",
    "y_pred = clf.predict(Ftest)\n",
    "print(accuracy_score(Ltest,y_pred))"
   ]
  },
  {
   "cell_type": "code",
   "execution_count": 14,
   "id": "4103cc2e",
   "metadata": {},
   "outputs": [
    {
     "name": "stdout",
     "output_type": "stream",
     "text": [
      "                               precision    recall  f1-score   support\n",
      "\n",
      "               bacterial_spot       0.53      0.52      0.52       115\n",
      "                 early_blight       0.48      0.37      0.42       120\n",
      "                      healthy       0.56      0.78      0.66       125\n",
      "                  late_blight       0.68      0.39      0.50       125\n",
      "                    leaf_mold       0.70      0.67      0.68       127\n",
      "           septoria_leaf_spot       0.36      0.33      0.35       117\n",
      "                  target_spot       0.56      0.62      0.59       115\n",
      "          tomato_mosaic_virus       0.73      0.56      0.63        54\n",
      "tomato_yellow_leaf_curl_virus       0.81      0.83      0.82       114\n",
      "      two-spotted_spider_mite       0.49      0.66      0.56       128\n",
      "\n",
      "                     accuracy                           0.57      1140\n",
      "                    macro avg       0.59      0.57      0.57      1140\n",
      "                 weighted avg       0.58      0.57      0.57      1140\n",
      "\n",
      "[[60  6  8  4  2 18  2  0  8  7]\n",
      " [16 44  4  9 10  5 12  0  1 19]\n",
      " [ 1  0 98  1  1  8 13  0  0  3]\n",
      " [ 6 13 38 49  2  6  4  0  1  6]\n",
      " [ 2  3  7  2 85 15  4  1  1  7]\n",
      " [12  5 10  3 15 39 10  1 10 12]\n",
      " [ 6  7  6  2  2  0 71  1  0 20]\n",
      " [ 0  2  1  1  5  7  1 30  0  7]\n",
      " [ 4  3  0  1  0  4  0  1 95  6]\n",
      " [ 7  9  2  0  0  7 10  7  2 84]]\n"
     ]
    }
   ],
   "source": [
    "#classification report\n",
    "y_predict = clf.fit(Ftrain, Ltrain).predict(Ftest)\n",
    "class_names = target.unique()\n",
    "print(classification_report(Ltest, y_predict, target_names=class_names))\n",
    "print(confusion_matrix(Ltest, y_predict))"
   ]
  },
  {
   "cell_type": "markdown",
   "id": "73bef6fa",
   "metadata": {},
   "source": [
    "# Random Forest on RGB "
   ]
  },
  {
   "cell_type": "code",
   "execution_count": 15,
   "id": "6bae5a92",
   "metadata": {},
   "outputs": [],
   "source": [
    "from sklearn.ensemble import RandomForestClassifier"
   ]
  },
  {
   "cell_type": "code",
   "execution_count": 16,
   "id": "1d08a15e",
   "metadata": {},
   "outputs": [],
   "source": [
    "classifier_rf = RandomForestClassifier(random_state=42, n_jobs=-1, max_depth=5,n_estimators=100, oob_score=True)"
   ]
  },
  {
   "cell_type": "code",
   "execution_count": 17,
   "id": "938ad007",
   "metadata": {},
   "outputs": [
    {
     "data": {
      "text/plain": [
       "RandomForestClassifier(max_depth=5, n_jobs=-1, oob_score=True, random_state=42)"
      ]
     },
     "execution_count": 17,
     "metadata": {},
     "output_type": "execute_result"
    }
   ],
   "source": [
    "classifier_rf.fit(Ftrain, Ltrain)"
   ]
  },
  {
   "cell_type": "code",
   "execution_count": 18,
   "id": "e1769cec",
   "metadata": {},
   "outputs": [
    {
     "data": {
      "text/plain": [
       "0.5284053520508883"
      ]
     },
     "execution_count": 18,
     "metadata": {},
     "output_type": "execute_result"
    }
   ],
   "source": [
    "classifier_rf.oob_score_"
   ]
  },
  {
   "cell_type": "code",
   "execution_count": 19,
   "id": "c144f9db",
   "metadata": {},
   "outputs": [
    {
     "name": "stdout",
     "output_type": "stream",
     "text": [
      "                               precision    recall  f1-score   support\n",
      "\n",
      "               bacterial_spot       0.44      0.65      0.53       115\n",
      "                 early_blight       0.52      0.14      0.22       120\n",
      "                      healthy       0.69      0.86      0.76       125\n",
      "                  late_blight       0.73      0.51      0.60       125\n",
      "                    leaf_mold       0.67      0.70      0.69       127\n",
      "           septoria_leaf_spot       0.32      0.38      0.35       117\n",
      "                  target_spot       0.45      0.57      0.50       115\n",
      "          tomato_mosaic_virus       1.00      0.02      0.04        54\n",
      "tomato_yellow_leaf_curl_virus       0.55      0.80      0.65       114\n",
      "      two-spotted_spider_mite       0.58      0.50      0.54       128\n",
      "\n",
      "                     accuracy                           0.54      1140\n",
      "                    macro avg       0.60      0.51      0.49      1140\n",
      "                 weighted avg       0.58      0.54      0.52      1140\n",
      "\n",
      "[[ 75   0   4   4   0   9   9   0  10   4]\n",
      " [ 34  17   4   9   7  10  16   0  16   7]\n",
      " [  0   0 107   1   0   7   9   0   0   1]\n",
      " [  9   6  16  64   7  11   7   0   4   1]\n",
      " [  3   1   4   3  89  17   2   0   5   3]\n",
      " [ 11   0   5   4  21  45   8   0  19   4]\n",
      " [ 16   4   9   0   0   6  66   0   3  11]\n",
      " [  0   0   3   0   8  25   3   1   6   8]\n",
      " [  9   1   0   3   0   2   1   0  91   7]\n",
      " [ 12   4   3   0   0   7  26   0  12  64]]\n"
     ]
    }
   ],
   "source": [
    "y_predict = classifier_rf.fit(Ftrain, Ltrain).predict(Ftest)\n",
    "class_names = target.unique()\n",
    "print(classification_report(Ltest, y_predict, target_names=class_names))\n",
    "print(confusion_matrix(Ltest, y_predict))"
   ]
  },
  {
   "cell_type": "markdown",
   "id": "b6a094e4",
   "metadata": {},
   "source": [
    "# Naive Bayes on RGB data"
   ]
  },
  {
   "cell_type": "code",
   "execution_count": 20,
   "id": "a5bc755b",
   "metadata": {},
   "outputs": [
    {
     "data": {
      "text/plain": [
       "GaussianNB()"
      ]
     },
     "execution_count": 20,
     "metadata": {},
     "output_type": "execute_result"
    }
   ],
   "source": [
    "from sklearn.naive_bayes import GaussianNB\n",
    "gnb = GaussianNB()\n",
    "gnb.fit(Ftrain, Ltrain)"
   ]
  },
  {
   "cell_type": "code",
   "execution_count": 21,
   "id": "6d162dcc",
   "metadata": {},
   "outputs": [],
   "source": [
    "y_pred = gnb.predict(Ftest)"
   ]
  },
  {
   "cell_type": "code",
   "execution_count": 22,
   "id": "8f7b4bab",
   "metadata": {},
   "outputs": [
    {
     "data": {
      "text/plain": [
       "0.45964912280701753"
      ]
     },
     "execution_count": 22,
     "metadata": {},
     "output_type": "execute_result"
    }
   ],
   "source": [
    "from sklearn import metrics\n",
    "metrics.accuracy_score(Ltest, y_pred)"
   ]
  },
  {
   "cell_type": "code",
   "execution_count": 23,
   "id": "980b37c5",
   "metadata": {},
   "outputs": [
    {
     "name": "stdout",
     "output_type": "stream",
     "text": [
      "                               precision    recall  f1-score   support\n",
      "\n",
      "               bacterial_spot       0.56      0.61      0.58       115\n",
      "                 early_blight       0.35      0.36      0.36       120\n",
      "                      healthy       0.42      0.66      0.51       125\n",
      "                  late_blight       0.34      0.19      0.25       125\n",
      "                    leaf_mold       0.67      0.53      0.59       127\n",
      "           septoria_leaf_spot       0.35      0.20      0.25       117\n",
      "                  target_spot       0.48      0.41      0.44       115\n",
      "          tomato_mosaic_virus       0.32      0.89      0.47        54\n",
      "tomato_yellow_leaf_curl_virus       0.84      0.46      0.60       114\n",
      "      two-spotted_spider_mite       0.45      0.52      0.48       128\n",
      "\n",
      "                     accuracy                           0.46      1140\n",
      "                    macro avg       0.48      0.48      0.45      1140\n",
      "                 weighted avg       0.49      0.46      0.45      1140\n",
      "\n",
      "[[70  6 16  2  0  8  2  3  3  5]\n",
      " [14 43  3 18  5  0 12  8  2 15]\n",
      " [ 0  0 82  7  4  7 17  3  0  5]\n",
      " [ 3 19 50 24  4  9  4  9  1  2]\n",
      " [ 3  8  3  6 67  7  4 25  0  4]\n",
      " [14  8 23  2 16 23  3 15  3 10]\n",
      " [13 14  4  6  1  1 47  5  0 24]\n",
      " [ 0  1  0  0  3  1  0 48  0  1]\n",
      " [ 9 12  6  5  0  2  0 11 53 16]\n",
      " [ 0 11  7  0  0  8  9 25  1 67]]\n"
     ]
    }
   ],
   "source": [
    "class_names = target.unique()\n",
    "print(classification_report(Ltest, y_pred, target_names=class_names))\n",
    "print(confusion_matrix(Ltest, y_pred))"
   ]
  },
  {
   "cell_type": "markdown",
   "id": "0ce0377b",
   "metadata": {},
   "source": [
    "# Decision Tree on RGB data"
   ]
  },
  {
   "cell_type": "code",
   "execution_count": 24,
   "id": "b9bba328",
   "metadata": {},
   "outputs": [],
   "source": [
    "from sklearn.tree import DecisionTreeClassifier\n",
    "classifier_tree = DecisionTreeClassifier()"
   ]
  },
  {
   "cell_type": "code",
   "execution_count": 25,
   "id": "b98668ce",
   "metadata": {},
   "outputs": [
    {
     "data": {
      "text/plain": [
       "0.39824561403508774"
      ]
     },
     "execution_count": 25,
     "metadata": {},
     "output_type": "execute_result"
    }
   ],
   "source": [
    "classifier_tree.fit(Ftrain, Ltrain)\n",
    "classifier_tree.score(Ftest,Ltest)"
   ]
  },
  {
   "cell_type": "code",
   "execution_count": 26,
   "id": "9fb604d9",
   "metadata": {},
   "outputs": [
    {
     "name": "stdout",
     "output_type": "stream",
     "text": [
      "                               precision    recall  f1-score   support\n",
      "\n",
      "               bacterial_spot       0.44      0.43      0.44       115\n",
      "                 early_blight       0.19      0.22      0.20       120\n",
      "                      healthy       0.59      0.62      0.61       125\n",
      "                  late_blight       0.46      0.46      0.46       125\n",
      "                    leaf_mold       0.56      0.51      0.53       127\n",
      "           septoria_leaf_spot       0.31      0.31      0.31       117\n",
      "                  target_spot       0.29      0.28      0.29       115\n",
      "          tomato_mosaic_virus       0.18      0.24      0.21        54\n",
      "tomato_yellow_leaf_curl_virus       0.47      0.46      0.47       114\n",
      "      two-spotted_spider_mite       0.41      0.34      0.37       128\n",
      "\n",
      "                     accuracy                           0.40      1140\n",
      "                    macro avg       0.39      0.39      0.39      1140\n",
      "                 weighted avg       0.41      0.40      0.40      1140\n",
      "\n",
      "[[50 13  3  8  0 12  8  3 12  6]\n",
      " [19 26  7  8  9  9 15  5 12 10]\n",
      " [ 2  5 78  9  4  3  9  7  1  7]\n",
      " [ 4 11  9 58  7 13  6  6  2  9]\n",
      " [ 3 10  5 11 65 12  5  8  3  5]\n",
      " [ 4 15  8  6 15 36  6 12  9  6]\n",
      " [11 24 11  4  5  7 32  7  2 12]\n",
      " [ 0  5  6  4  5 10  3 13  4  4]\n",
      " [13 16  1  6  4  6  6  5 53  4]\n",
      " [ 7  9  4 12  2 10 19  6 15 44]]\n"
     ]
    }
   ],
   "source": [
    "y_predict = classifier_tree.fit(Ftrain, Ltrain).predict(Ftest)\n",
    "class_names = target.unique()\n",
    "print(classification_report(Ltest, y_predict, target_names=class_names))\n",
    "print(confusion_matrix(Ltest, y_predict))"
   ]
  },
  {
   "cell_type": "markdown",
   "id": "c9daaaee",
   "metadata": {},
   "source": [
    "# KNN on grayscale data"
   ]
  },
  {
   "cell_type": "code",
   "execution_count": 27,
   "id": "57a9845e",
   "metadata": {},
   "outputs": [],
   "source": [
    "#reading numpy array data\n",
    "gray_test = np.load('gray_test.npy')\n",
    "#reading csv file\n",
    "gray_df = pd.read_csv('gray_data.csv')"
   ]
  },
  {
   "cell_type": "code",
   "execution_count": 28,
   "id": "25d4fea2",
   "metadata": {},
   "outputs": [],
   "source": [
    "loaded = []\n",
    "for i in gray_test:\n",
    "    k = []\n",
    "    k = np.asarray(i,dtype='uint8')\n",
    "    loaded.append(k)"
   ]
  },
  {
   "cell_type": "code",
   "execution_count": 29,
   "id": "d3abef95",
   "metadata": {},
   "outputs": [],
   "source": [
    "features = loaded\n",
    "target = gray_df['disease']\n",
    "Ftrain,Ftest,Ltrain,Ltest=train_test_split(features,target, test_size=0.20, random_state=20)\n",
    "Ftrain = norm.fit_transform(Ftrain)\n",
    "Ftest = norm.fit_transform(Ftest)"
   ]
  },
  {
   "cell_type": "code",
   "execution_count": 30,
   "id": "6f75adfd",
   "metadata": {},
   "outputs": [
    {
     "data": {
      "text/plain": [
       "0.3307017543859649"
      ]
     },
     "execution_count": 30,
     "metadata": {},
     "output_type": "execute_result"
    }
   ],
   "source": [
    "kmodel.fit(Ftrain,Ltrain)\n",
    "kmodel.score(Ftest,Ltest)"
   ]
  },
  {
   "cell_type": "code",
   "execution_count": 31,
   "id": "77baa349",
   "metadata": {},
   "outputs": [
    {
     "name": "stdout",
     "output_type": "stream",
     "text": [
      "                               precision    recall  f1-score   support\n",
      "\n",
      "               bacterial_spot       0.24      0.68      0.35       124\n",
      "                 early_blight       0.00      0.00      0.00       114\n",
      "                      healthy       0.34      0.61      0.44       131\n",
      "                  late_blight       0.32      0.20      0.25       124\n",
      "                    leaf_mold       0.44      0.53      0.48       117\n",
      "           septoria_leaf_spot       0.24      0.42      0.31       114\n",
      "                  target_spot       0.33      0.01      0.02       111\n",
      "          tomato_mosaic_virus       0.33      0.05      0.09        60\n",
      "tomato_yellow_leaf_curl_virus       0.50      0.16      0.24       121\n",
      "      two-spotted_spider_mite       0.67      0.44      0.53       124\n",
      "\n",
      "                     accuracy                           0.33      1140\n",
      "                    macro avg       0.34      0.31      0.27      1140\n",
      "                 weighted avg       0.34      0.33      0.29      1140\n",
      "\n",
      "[[84  0 16  9  1 13  0  0  1  0]\n",
      " [81  0  4  1 13 10  1  0  4  0]\n",
      " [ 5  0 80  5  5 33  0  0  3  0]\n",
      " [27  1 32 25 21 13  0  0  4  1]\n",
      " [11  0 22  7 62 12  0  0  3  0]\n",
      " [13  0 28  8 12 48  0  1  0  4]\n",
      " [65  0 11  5  2 19  1  1  0  7]\n",
      " [ 1  0 14  5 13 16  0  3  1  7]\n",
      " [36  0 18  9  9 19  0  3 19  8]\n",
      " [30  1  7  5  4 17  1  1  3 55]]\n"
     ]
    }
   ],
   "source": [
    "#printing results of the kmodel\n",
    "y_predict = kmodel.fit(Ftrain, Ltrain).predict(Ftest)\n",
    "class_names = target.unique()\n",
    "print(classification_report(Ltest, y_predict, target_names=class_names))\n",
    "print(confusion_matrix(Ltest, y_predict))"
   ]
  },
  {
   "cell_type": "markdown",
   "id": "197eedfc",
   "metadata": {},
   "source": [
    "# Logistic on grayscale data"
   ]
  },
  {
   "cell_type": "code",
   "execution_count": 32,
   "id": "9fd6cafe",
   "metadata": {},
   "outputs": [
    {
     "data": {
      "text/plain": [
       "0.3763157894736842"
      ]
     },
     "execution_count": 32,
     "metadata": {},
     "output_type": "execute_result"
    }
   ],
   "source": [
    "from sklearn.linear_model import LogisticRegression\n",
    "model=LogisticRegression(solver='lbfgs', max_iter=10000)\n",
    "model.fit(Ftrain,Ltrain)\n",
    "model.score(Ftest,Ltest)"
   ]
  },
  {
   "cell_type": "code",
   "execution_count": 33,
   "id": "20a6d97e",
   "metadata": {},
   "outputs": [
    {
     "name": "stdout",
     "output_type": "stream",
     "text": [
      "                               precision    recall  f1-score   support\n",
      "\n",
      "               bacterial_spot       0.47      0.44      0.46       124\n",
      "                 early_blight       0.33      0.37      0.35       114\n",
      "                      healthy       0.38      0.66      0.48       131\n",
      "                  late_blight       0.34      0.10      0.16       124\n",
      "                    leaf_mold       0.48      0.51      0.50       117\n",
      "           septoria_leaf_spot       0.25      0.12      0.17       114\n",
      "                  target_spot       0.35      0.33      0.34       111\n",
      "          tomato_mosaic_virus       0.00      0.00      0.00        60\n",
      "tomato_yellow_leaf_curl_virus       0.28      0.37      0.32       121\n",
      "      two-spotted_spider_mite       0.41      0.62      0.50       124\n",
      "\n",
      "                     accuracy                           0.38      1140\n",
      "                    macro avg       0.33      0.35      0.33      1140\n",
      "                 weighted avg       0.35      0.38      0.35      1140\n",
      "\n",
      "[[55 13 21  3  2  3  7  0  5 15]\n",
      " [17 42  3  2  6  2 15  0 10 17]\n",
      " [ 1  2 86  3  5  9 12  0  7  6]\n",
      " [ 5 16 38 13 20  8  7  0 12  5]\n",
      " [ 5  5 10  7 60  8  3  0 11  8]\n",
      " [ 9  8 29  3 21 14  7  0 11 12]\n",
      " [15 15  4  2  4  2 37  0 12 20]\n",
      " [ 0  0  6  0  7  3  3  0 35  6]\n",
      " [10 16 20  5  0  1  3  0 45 21]\n",
      " [ 0  9  9  0  0  5 11  0 13 77]]\n"
     ]
    },
    {
     "name": "stderr",
     "output_type": "stream",
     "text": [
      "C:\\Users\\ravic\\anaconda3\\lib\\site-packages\\sklearn\\metrics\\_classification.py:1248: UndefinedMetricWarning: Precision and F-score are ill-defined and being set to 0.0 in labels with no predicted samples. Use `zero_division` parameter to control this behavior.\n",
      "  _warn_prf(average, modifier, msg_start, len(result))\n",
      "C:\\Users\\ravic\\anaconda3\\lib\\site-packages\\sklearn\\metrics\\_classification.py:1248: UndefinedMetricWarning: Precision and F-score are ill-defined and being set to 0.0 in labels with no predicted samples. Use `zero_division` parameter to control this behavior.\n",
      "  _warn_prf(average, modifier, msg_start, len(result))\n",
      "C:\\Users\\ravic\\anaconda3\\lib\\site-packages\\sklearn\\metrics\\_classification.py:1248: UndefinedMetricWarning: Precision and F-score are ill-defined and being set to 0.0 in labels with no predicted samples. Use `zero_division` parameter to control this behavior.\n",
      "  _warn_prf(average, modifier, msg_start, len(result))\n"
     ]
    }
   ],
   "source": [
    "#classification report\n",
    "y_predict = model.fit(Ftrain, Ltrain).predict(Ftest)\n",
    "class_names = target.unique()\n",
    "print(classification_report(Ltest, y_predict, target_names=class_names))\n",
    "print(confusion_matrix(Ltest, y_predict))"
   ]
  },
  {
   "cell_type": "markdown",
   "id": "5284f869",
   "metadata": {},
   "source": [
    "# SVM on Grayscale data"
   ]
  },
  {
   "cell_type": "code",
   "execution_count": 34,
   "id": "d0db5c80",
   "metadata": {},
   "outputs": [
    {
     "name": "stdout",
     "output_type": "stream",
     "text": [
      "0.3736842105263158\n"
     ]
    }
   ],
   "source": [
    "clf = SVC(kernel='linear')\n",
    "clf.fit(Ftrain,Ltrain)\n",
    "y_pred = clf.predict(Ftest)\n",
    "print(accuracy_score(Ltest,y_pred))"
   ]
  },
  {
   "cell_type": "code",
   "execution_count": 35,
   "id": "bcddcf24",
   "metadata": {},
   "outputs": [
    {
     "name": "stdout",
     "output_type": "stream",
     "text": [
      "                               precision    recall  f1-score   support\n",
      "\n",
      "               bacterial_spot       0.50      0.37      0.43       124\n",
      "                 early_blight       0.34      0.34      0.34       114\n",
      "                      healthy       0.36      0.69      0.47       131\n",
      "                  late_blight       0.45      0.07      0.12       124\n",
      "                    leaf_mold       0.55      0.46      0.50       117\n",
      "           septoria_leaf_spot       0.21      0.18      0.19       114\n",
      "                  target_spot       0.33      0.44      0.38       111\n",
      "          tomato_mosaic_virus       0.00      0.00      0.00        60\n",
      "tomato_yellow_leaf_curl_virus       0.30      0.38      0.33       121\n",
      "      two-spotted_spider_mite       0.44      0.59      0.51       124\n",
      "\n",
      "                     accuracy                           0.37      1140\n",
      "                    macro avg       0.35      0.35      0.33      1140\n",
      "                 weighted avg       0.37      0.37      0.35      1140\n",
      "\n",
      "[[46 16 24  0  1  4 11  0  7 15]\n",
      " [15 39  4  1  5  4 20  0 10 16]\n",
      " [ 0  1 90  0  1 14 17  0  6  2]\n",
      " [ 7 16 46  9 12 12  6  0 13  3]\n",
      " [ 4  5 15  6 54 10  5  0 10  8]\n",
      " [ 4  7 31  3 17 20 16  0 11  5]\n",
      " [ 9 11  5  0  3  7 49  0  8 19]\n",
      " [ 0  0  4  0  4 13  2  0 31  6]\n",
      " [ 7 13 23  1  0  7  6  0 46 18]\n",
      " [ 0  8  8  0  1  6 16  0 12 73]]\n"
     ]
    },
    {
     "name": "stderr",
     "output_type": "stream",
     "text": [
      "C:\\Users\\ravic\\anaconda3\\lib\\site-packages\\sklearn\\metrics\\_classification.py:1248: UndefinedMetricWarning: Precision and F-score are ill-defined and being set to 0.0 in labels with no predicted samples. Use `zero_division` parameter to control this behavior.\n",
      "  _warn_prf(average, modifier, msg_start, len(result))\n",
      "C:\\Users\\ravic\\anaconda3\\lib\\site-packages\\sklearn\\metrics\\_classification.py:1248: UndefinedMetricWarning: Precision and F-score are ill-defined and being set to 0.0 in labels with no predicted samples. Use `zero_division` parameter to control this behavior.\n",
      "  _warn_prf(average, modifier, msg_start, len(result))\n",
      "C:\\Users\\ravic\\anaconda3\\lib\\site-packages\\sklearn\\metrics\\_classification.py:1248: UndefinedMetricWarning: Precision and F-score are ill-defined and being set to 0.0 in labels with no predicted samples. Use `zero_division` parameter to control this behavior.\n",
      "  _warn_prf(average, modifier, msg_start, len(result))\n"
     ]
    }
   ],
   "source": [
    "#classification report\n",
    "y_predict = clf.fit(Ftrain, Ltrain).predict(Ftest)\n",
    "class_names = target.unique()\n",
    "print(classification_report(Ltest, y_predict, target_names=class_names))\n",
    "print(confusion_matrix(Ltest, y_predict))"
   ]
  },
  {
   "cell_type": "markdown",
   "id": "576fd580",
   "metadata": {},
   "source": [
    "# Random Forest on Grayscale"
   ]
  },
  {
   "cell_type": "code",
   "execution_count": 36,
   "id": "9dfa979e",
   "metadata": {},
   "outputs": [
    {
     "data": {
      "text/plain": [
       "RandomForestClassifier(max_depth=5, n_jobs=-1, oob_score=True, random_state=42)"
      ]
     },
     "execution_count": 36,
     "metadata": {},
     "output_type": "execute_result"
    }
   ],
   "source": [
    "classifier_rf.fit(Ftrain, Ltrain)"
   ]
  },
  {
   "cell_type": "code",
   "execution_count": 37,
   "id": "2b4347ef",
   "metadata": {},
   "outputs": [
    {
     "data": {
      "text/plain": [
       "0.42838341741610003"
      ]
     },
     "execution_count": 37,
     "metadata": {},
     "output_type": "execute_result"
    }
   ],
   "source": [
    "classifier_rf.oob_score_"
   ]
  },
  {
   "cell_type": "code",
   "execution_count": 38,
   "id": "9263c32f",
   "metadata": {},
   "outputs": [
    {
     "name": "stdout",
     "output_type": "stream",
     "text": [
      "                               precision    recall  f1-score   support\n",
      "\n",
      "               bacterial_spot       0.45      0.58      0.51       124\n",
      "                 early_blight       0.41      0.32      0.36       114\n",
      "                      healthy       0.59      0.67      0.63       131\n",
      "                  late_blight       0.62      0.36      0.46       124\n",
      "                    leaf_mold       0.51      0.55      0.53       117\n",
      "           septoria_leaf_spot       0.32      0.33      0.33       114\n",
      "                  target_spot       0.42      0.62      0.50       111\n",
      "          tomato_mosaic_virus       0.00      0.00      0.00        60\n",
      "tomato_yellow_leaf_curl_virus       0.46      0.36      0.41       121\n",
      "      two-spotted_spider_mite       0.49      0.64      0.55       124\n",
      "\n",
      "                     accuracy                           0.47      1140\n",
      "                    macro avg       0.43      0.44      0.43      1140\n",
      "                 weighted avg       0.45      0.47      0.45      1140\n",
      "\n",
      "[[72  5  8  8  4  9 12  0  3  3]\n",
      " [40 37  1  2  5  4 12  0  4  9]\n",
      " [ 0  0 88  3  7 15  7  0  5  6]\n",
      " [15 18 10 45 16  8  7  0  3  2]\n",
      " [ 3  3 14  1 64  6 11  0  9  6]\n",
      " [ 4  3  9  5 20 38 14  0 10 11]\n",
      " [ 5  8  4  1  0  3 69  0  3 18]\n",
      " [ 0  0  4  0  6 17 10  0 12 11]\n",
      " [15  9  9  8  2 12  5  0 44 17]\n",
      " [ 6  7  3  0  1  6 19  0  3 79]]\n"
     ]
    },
    {
     "name": "stderr",
     "output_type": "stream",
     "text": [
      "C:\\Users\\ravic\\anaconda3\\lib\\site-packages\\sklearn\\metrics\\_classification.py:1248: UndefinedMetricWarning: Precision and F-score are ill-defined and being set to 0.0 in labels with no predicted samples. Use `zero_division` parameter to control this behavior.\n",
      "  _warn_prf(average, modifier, msg_start, len(result))\n",
      "C:\\Users\\ravic\\anaconda3\\lib\\site-packages\\sklearn\\metrics\\_classification.py:1248: UndefinedMetricWarning: Precision and F-score are ill-defined and being set to 0.0 in labels with no predicted samples. Use `zero_division` parameter to control this behavior.\n",
      "  _warn_prf(average, modifier, msg_start, len(result))\n",
      "C:\\Users\\ravic\\anaconda3\\lib\\site-packages\\sklearn\\metrics\\_classification.py:1248: UndefinedMetricWarning: Precision and F-score are ill-defined and being set to 0.0 in labels with no predicted samples. Use `zero_division` parameter to control this behavior.\n",
      "  _warn_prf(average, modifier, msg_start, len(result))\n"
     ]
    }
   ],
   "source": [
    "y_predict = classifier_rf.fit(Ftrain, Ltrain).predict(Ftest)\n",
    "class_names = target.unique()\n",
    "print(classification_report(Ltest, y_predict, target_names=class_names))\n",
    "print(confusion_matrix(Ltest, y_predict))"
   ]
  },
  {
   "cell_type": "markdown",
   "id": "8befce61",
   "metadata": {},
   "source": [
    "# Naive bayes on Grayscale"
   ]
  },
  {
   "cell_type": "code",
   "execution_count": 39,
   "id": "0d1a6d3b",
   "metadata": {},
   "outputs": [
    {
     "data": {
      "text/plain": [
       "GaussianNB()"
      ]
     },
     "execution_count": 39,
     "metadata": {},
     "output_type": "execute_result"
    }
   ],
   "source": [
    "gnb.fit(Ftrain, Ltrain)"
   ]
  },
  {
   "cell_type": "code",
   "execution_count": 40,
   "id": "053c9a09",
   "metadata": {},
   "outputs": [
    {
     "data": {
      "text/plain": [
       "0.393859649122807"
      ]
     },
     "execution_count": 40,
     "metadata": {},
     "output_type": "execute_result"
    }
   ],
   "source": [
    "y_pred = gnb.predict(Ftest)\n",
    "metrics.accuracy_score(Ltest, y_pred)"
   ]
  },
  {
   "cell_type": "code",
   "execution_count": 41,
   "id": "22c98d80",
   "metadata": {},
   "outputs": [
    {
     "name": "stdout",
     "output_type": "stream",
     "text": [
      "                               precision    recall  f1-score   support\n",
      "\n",
      "               bacterial_spot       0.51      0.61      0.55       124\n",
      "                 early_blight       0.38      0.49      0.43       114\n",
      "                      healthy       0.39      0.61      0.48       131\n",
      "                  late_blight       0.39      0.20      0.27       124\n",
      "                    leaf_mold       0.54      0.44      0.48       117\n",
      "           septoria_leaf_spot       0.27      0.11      0.16       114\n",
      "                  target_spot       0.40      0.33      0.36       111\n",
      "          tomato_mosaic_virus       0.25      0.63      0.36        60\n",
      "tomato_yellow_leaf_curl_virus       0.31      0.17      0.22       121\n",
      "      two-spotted_spider_mite       0.42      0.43      0.43       124\n",
      "\n",
      "                     accuracy                           0.39      1140\n",
      "                    macro avg       0.39      0.40      0.37      1140\n",
      "                 weighted avg       0.39      0.39      0.38      1140\n",
      "\n",
      "[[76 11 18  3  0  5  2  5  2  2]\n",
      " [15 56  1 12  4  2 10  2  8  4]\n",
      " [ 0  1 80  4  8  4 15  5  8  6]\n",
      " [ 2 30 34 25  6  4  5 15  2  1]\n",
      " [ 2  5 17  7 51  3  5 14  7  6]\n",
      " [17  4 24  6 16 13  4 22  3  5]\n",
      " [21 19  0  3  3  3 37  3  4 18]\n",
      " [ 2  0  5  0  4  4  0 38  4  3]\n",
      " [10 12 17  4  1  7  6 17 20 27]\n",
      " [ 5  9  8  0  1  3  9 29  7 53]]\n"
     ]
    }
   ],
   "source": [
    "class_names = target.unique()\n",
    "print(classification_report(Ltest, y_pred, target_names=class_names))\n",
    "print(confusion_matrix(Ltest, y_pred))"
   ]
  },
  {
   "cell_type": "markdown",
   "id": "9a562db7",
   "metadata": {},
   "source": [
    "# Decision Tree on Grayscale"
   ]
  },
  {
   "cell_type": "code",
   "execution_count": 42,
   "id": "a4e9cd0d",
   "metadata": {},
   "outputs": [
    {
     "data": {
      "text/plain": [
       "0.2894736842105263"
      ]
     },
     "execution_count": 42,
     "metadata": {},
     "output_type": "execute_result"
    }
   ],
   "source": [
    "classifier_tree.fit(Ftrain, Ltrain)\n",
    "classifier_tree.score(Ftest,Ltest)"
   ]
  },
  {
   "cell_type": "code",
   "execution_count": 43,
   "id": "523c3773",
   "metadata": {},
   "outputs": [
    {
     "name": "stdout",
     "output_type": "stream",
     "text": [
      "                               precision    recall  f1-score   support\n",
      "\n",
      "               bacterial_spot       0.27      0.27      0.27       124\n",
      "                 early_blight       0.21      0.22      0.21       114\n",
      "                      healthy       0.48      0.43      0.45       131\n",
      "                  late_blight       0.28      0.28      0.28       124\n",
      "                    leaf_mold       0.32      0.34      0.33       117\n",
      "           septoria_leaf_spot       0.22      0.22      0.22       114\n",
      "                  target_spot       0.21      0.23      0.22       111\n",
      "          tomato_mosaic_virus       0.18      0.17      0.17        60\n",
      "tomato_yellow_leaf_curl_virus       0.30      0.27      0.29       121\n",
      "      two-spotted_spider_mite       0.37      0.40      0.38       124\n",
      "\n",
      "                     accuracy                           0.29      1140\n",
      "                    macro avg       0.28      0.28      0.28      1140\n",
      "                 weighted avg       0.29      0.29      0.29      1140\n",
      "\n",
      "[[34 16  2 12  5  9 17  4 13 12]\n",
      " [21 25  3 15  9  5 13  2  9 12]\n",
      " [ 9  4 56  8  7 11 12  9  6  9]\n",
      " [13 19  9 35 20 11  3  1  9  4]\n",
      " [13  6  8 11 40  9  7  6  8  9]\n",
      " [11  8  9 16 11 25 11  5 11  7]\n",
      " [ 7 19  9  9  7  9 25  4 10 12]\n",
      " [ 2  1  5  2  8 10  5 10  5 12]\n",
      " [11 10 11 12  8 14  7  7 33  8]\n",
      " [ 3 12  4  6  9 10 17  9  5 49]]\n"
     ]
    }
   ],
   "source": [
    "y_predict = classifier_tree.fit(Ftrain, Ltrain).predict(Ftest)\n",
    "class_names = target.unique()\n",
    "print(classification_report(Ltest, y_predict, target_names=class_names))\n",
    "print(confusion_matrix(Ltest, y_predict))"
   ]
  },
  {
   "cell_type": "markdown",
   "id": "e42f549f",
   "metadata": {},
   "source": [
    "# KNN on Red channel data"
   ]
  },
  {
   "cell_type": "code",
   "execution_count": 44,
   "id": "cb75cbbd",
   "metadata": {},
   "outputs": [],
   "source": [
    "#reading numpy array data\n",
    "gray_test = np.load('red_data.npy')\n",
    "#reading csv file\n",
    "gray_df = pd.read_csv('red_data.csv')"
   ]
  },
  {
   "cell_type": "code",
   "execution_count": 45,
   "id": "7fda7839",
   "metadata": {},
   "outputs": [],
   "source": [
    "loaded = []\n",
    "for i in gray_test:\n",
    "    k = []\n",
    "    k = np.asarray(i,dtype='uint8')\n",
    "    loaded.append(k)\n",
    "features = loaded\n",
    "target = gray_df['disease']\n",
    "Ftrain,Ftest,Ltrain,Ltest=train_test_split(features,target, test_size=0.20, random_state=20)\n",
    "Ftrain = norm.fit_transform(Ftrain)\n",
    "Ftest = norm.fit_transform(Ftest)"
   ]
  },
  {
   "cell_type": "code",
   "execution_count": 46,
   "id": "683839f2",
   "metadata": {},
   "outputs": [
    {
     "data": {
      "text/plain": [
       "0.3526315789473684"
      ]
     },
     "execution_count": 46,
     "metadata": {},
     "output_type": "execute_result"
    }
   ],
   "source": [
    "kmodel.fit(Ftrain,Ltrain)\n",
    "kmodel.score(Ftest,Ltest)"
   ]
  },
  {
   "cell_type": "code",
   "execution_count": 47,
   "id": "53bc7b93",
   "metadata": {},
   "outputs": [
    {
     "name": "stdout",
     "output_type": "stream",
     "text": [
      "                               precision    recall  f1-score   support\n",
      "\n",
      "               bacterial_spot       0.32      0.69      0.43       124\n",
      "                 early_blight       0.00      0.00      0.00       114\n",
      "                      healthy       0.30      0.67      0.41       131\n",
      "                  late_blight       0.41      0.26      0.32       124\n",
      "                    leaf_mold       0.58      0.42      0.49       117\n",
      "           septoria_leaf_spot       0.18      0.27      0.22       114\n",
      "                  target_spot       0.35      0.10      0.15       111\n",
      "          tomato_mosaic_virus       0.52      0.25      0.34        60\n",
      "tomato_yellow_leaf_curl_virus       0.46      0.21      0.29       121\n",
      "      two-spotted_spider_mite       0.53      0.52      0.53       124\n",
      "\n",
      "                     accuracy                           0.35      1140\n",
      "                    macro avg       0.36      0.34      0.32      1140\n",
      "                 weighted avg       0.36      0.35      0.32      1140\n",
      "\n",
      "[[85  0 14 11  1 11  0  0  1  1]\n",
      " [62  0 11  1  5 12  7  2  7  7]\n",
      " [ 1  0 88  3  1 37  0  0  1  0]\n",
      " [22  0 34 32 11 16  1  1  6  1]\n",
      " [ 8  0 34  4 49  8  2  1  6  5]\n",
      " [10  0 39 12 10 31  1  3  3  5]\n",
      " [38  1 26  3  0 19 11  0  2 11]\n",
      " [ 0  0 12  2  6 13  1 15  1 10]\n",
      " [25  1 21 10  1 11  2  6 26 18]\n",
      " [16  0 16  1  0 16  6  1  3 65]]\n"
     ]
    }
   ],
   "source": [
    "#printing results of the kmodel\n",
    "y_predict = kmodel.fit(Ftrain, Ltrain).predict(Ftest)\n",
    "class_names = target.unique()\n",
    "print(classification_report(Ltest, y_predict, target_names=class_names))\n",
    "print(confusion_matrix(Ltest, y_predict))"
   ]
  },
  {
   "cell_type": "markdown",
   "id": "ffcda594",
   "metadata": {},
   "source": [
    "# Logistic on Red channel data"
   ]
  },
  {
   "cell_type": "code",
   "execution_count": 48,
   "id": "1ed4037b",
   "metadata": {},
   "outputs": [
    {
     "data": {
      "text/plain": [
       "0.38859649122807016"
      ]
     },
     "execution_count": 48,
     "metadata": {},
     "output_type": "execute_result"
    }
   ],
   "source": [
    "model.fit(Ftrain,Ltrain)\n",
    "model.score(Ftest,Ltest)"
   ]
  },
  {
   "cell_type": "code",
   "execution_count": 49,
   "id": "22b11f2e",
   "metadata": {},
   "outputs": [
    {
     "name": "stdout",
     "output_type": "stream",
     "text": [
      "                               precision    recall  f1-score   support\n",
      "\n",
      "               bacterial_spot       0.42      0.44      0.43       124\n",
      "                 early_blight       0.27      0.25      0.26       114\n",
      "                      healthy       0.44      0.69      0.54       131\n",
      "                  late_blight       0.37      0.19      0.25       124\n",
      "                    leaf_mold       0.50      0.52      0.51       117\n",
      "           septoria_leaf_spot       0.27      0.14      0.18       114\n",
      "                  target_spot       0.38      0.38      0.38       111\n",
      "          tomato_mosaic_virus       0.00      0.00      0.00        60\n",
      "tomato_yellow_leaf_curl_virus       0.30      0.40      0.34       121\n",
      "      two-spotted_spider_mite       0.43      0.65      0.52       124\n",
      "\n",
      "                     accuracy                           0.39      1140\n",
      "                    macro avg       0.34      0.36      0.34      1140\n",
      "                 weighted avg       0.36      0.39      0.36      1140\n",
      "\n",
      "[[54 14 17 10  1  4 10  0  3 11]\n",
      " [23 28  5  3  4  4 19  0 13 15]\n",
      " [ 0  2 91  2  4 13 10  0  5  4]\n",
      " [ 9 13 29 23 21  6  7  0 13  3]\n",
      " [ 7  4 14  8 61  5  3  0  9  6]\n",
      " [ 9 11 19 10 21 16  6  0  9 13]\n",
      " [13 14  5  0  1  5 42  0  9 22]\n",
      " [ 0  0  2  0  7  1  1  0 38 11]\n",
      " [13 10 16  6  3  2  2  0 48 21]\n",
      " [ 1  7  8  0  0  3 12  0 13 80]]\n"
     ]
    },
    {
     "name": "stderr",
     "output_type": "stream",
     "text": [
      "C:\\Users\\ravic\\anaconda3\\lib\\site-packages\\sklearn\\metrics\\_classification.py:1248: UndefinedMetricWarning: Precision and F-score are ill-defined and being set to 0.0 in labels with no predicted samples. Use `zero_division` parameter to control this behavior.\n",
      "  _warn_prf(average, modifier, msg_start, len(result))\n",
      "C:\\Users\\ravic\\anaconda3\\lib\\site-packages\\sklearn\\metrics\\_classification.py:1248: UndefinedMetricWarning: Precision and F-score are ill-defined and being set to 0.0 in labels with no predicted samples. Use `zero_division` parameter to control this behavior.\n",
      "  _warn_prf(average, modifier, msg_start, len(result))\n",
      "C:\\Users\\ravic\\anaconda3\\lib\\site-packages\\sklearn\\metrics\\_classification.py:1248: UndefinedMetricWarning: Precision and F-score are ill-defined and being set to 0.0 in labels with no predicted samples. Use `zero_division` parameter to control this behavior.\n",
      "  _warn_prf(average, modifier, msg_start, len(result))\n"
     ]
    }
   ],
   "source": [
    "#classification report\n",
    "y_predict = model.fit(Ftrain, Ltrain).predict(Ftest)\n",
    "class_names = target.unique()\n",
    "print(classification_report(Ltest, y_predict, target_names=class_names))\n",
    "print(confusion_matrix(Ltest, y_predict))"
   ]
  },
  {
   "cell_type": "markdown",
   "id": "dba6d5ce",
   "metadata": {},
   "source": [
    "# SVM on Red channel data"
   ]
  },
  {
   "cell_type": "code",
   "execution_count": 50,
   "id": "6ed153f7",
   "metadata": {},
   "outputs": [
    {
     "name": "stdout",
     "output_type": "stream",
     "text": [
      "0.39210526315789473\n"
     ]
    }
   ],
   "source": [
    "clf.fit(Ftrain,Ltrain)\n",
    "y_pred = clf.predict(Ftest)\n",
    "print(accuracy_score(Ltest,y_pred))"
   ]
  },
  {
   "cell_type": "code",
   "execution_count": 51,
   "id": "3d2d1d59",
   "metadata": {},
   "outputs": [
    {
     "name": "stdout",
     "output_type": "stream",
     "text": [
      "                               precision    recall  f1-score   support\n",
      "\n",
      "               bacterial_spot       0.50      0.42      0.46       124\n",
      "                 early_blight       0.28      0.24      0.26       114\n",
      "                      healthy       0.40      0.73      0.51       131\n",
      "                  late_blight       0.41      0.13      0.20       124\n",
      "                    leaf_mold       0.59      0.44      0.51       117\n",
      "           septoria_leaf_spot       0.20      0.15      0.17       114\n",
      "                  target_spot       0.40      0.50      0.44       111\n",
      "          tomato_mosaic_virus       0.00      0.00      0.00        60\n",
      "tomato_yellow_leaf_curl_virus       0.31      0.44      0.36       121\n",
      "      two-spotted_spider_mite       0.45      0.64      0.52       124\n",
      "\n",
      "                     accuracy                           0.39      1140\n",
      "                    macro avg       0.35      0.37      0.34      1140\n",
      "                 weighted avg       0.37      0.39      0.36      1140\n",
      "\n",
      "[[52 14 21  4  1  7 10  0  4 11]\n",
      " [21 27  3  1  4  5 25  0 15 13]\n",
      " [ 0  1 96  0  1 14  9  0  6  4]\n",
      " [ 8 15 44 16 10 10  5  0 14  2]\n",
      " [ 4  4 21  8 52  8  5  0  9  6]\n",
      " [ 4  9 28  6 14 17 12  0 11 13]\n",
      " [ 6 10  3  0  2  7 55  0 10 18]\n",
      " [ 0  0  2  0  4  5  1  0 39  9]\n",
      " [ 8  9 17  4  0  6  2  0 53 22]\n",
      " [ 1  6  8  0  0  4 14  0 12 79]]\n"
     ]
    },
    {
     "name": "stderr",
     "output_type": "stream",
     "text": [
      "C:\\Users\\ravic\\anaconda3\\lib\\site-packages\\sklearn\\metrics\\_classification.py:1248: UndefinedMetricWarning: Precision and F-score are ill-defined and being set to 0.0 in labels with no predicted samples. Use `zero_division` parameter to control this behavior.\n",
      "  _warn_prf(average, modifier, msg_start, len(result))\n",
      "C:\\Users\\ravic\\anaconda3\\lib\\site-packages\\sklearn\\metrics\\_classification.py:1248: UndefinedMetricWarning: Precision and F-score are ill-defined and being set to 0.0 in labels with no predicted samples. Use `zero_division` parameter to control this behavior.\n",
      "  _warn_prf(average, modifier, msg_start, len(result))\n",
      "C:\\Users\\ravic\\anaconda3\\lib\\site-packages\\sklearn\\metrics\\_classification.py:1248: UndefinedMetricWarning: Precision and F-score are ill-defined and being set to 0.0 in labels with no predicted samples. Use `zero_division` parameter to control this behavior.\n",
      "  _warn_prf(average, modifier, msg_start, len(result))\n"
     ]
    }
   ],
   "source": [
    "#classification report\n",
    "y_predict = clf.fit(Ftrain, Ltrain).predict(Ftest)\n",
    "class_names = target.unique()\n",
    "print(classification_report(Ltest, y_predict, target_names=class_names))\n",
    "print(confusion_matrix(Ltest, y_predict))"
   ]
  },
  {
   "cell_type": "markdown",
   "id": "a670c4d4",
   "metadata": {},
   "source": [
    "# Random forest on Red channel data"
   ]
  },
  {
   "cell_type": "code",
   "execution_count": 52,
   "id": "9e816e9e",
   "metadata": {},
   "outputs": [
    {
     "data": {
      "text/plain": [
       "0.4303575345470498"
      ]
     },
     "execution_count": 52,
     "metadata": {},
     "output_type": "execute_result"
    }
   ],
   "source": [
    "classifier_rf.fit(Ftrain, Ltrain)\n",
    "classifier_rf.oob_score_"
   ]
  },
  {
   "cell_type": "code",
   "execution_count": 53,
   "id": "6d5daf40",
   "metadata": {},
   "outputs": [
    {
     "name": "stdout",
     "output_type": "stream",
     "text": [
      "                               precision    recall  f1-score   support\n",
      "\n",
      "               bacterial_spot       0.49      0.60      0.54       124\n",
      "                 early_blight       0.37      0.23      0.28       114\n",
      "                      healthy       0.55      0.77      0.64       131\n",
      "                  late_blight       0.52      0.35      0.42       124\n",
      "                    leaf_mold       0.54      0.56      0.55       117\n",
      "           septoria_leaf_spot       0.34      0.23      0.27       114\n",
      "                  target_spot       0.42      0.67      0.51       111\n",
      "          tomato_mosaic_virus       0.00      0.00      0.00        60\n",
      "tomato_yellow_leaf_curl_virus       0.44      0.39      0.41       121\n",
      "      two-spotted_spider_mite       0.43      0.59      0.50       124\n",
      "\n",
      "                     accuracy                           0.46      1140\n",
      "                    macro avg       0.41      0.44      0.41      1140\n",
      "                 weighted avg       0.43      0.46      0.44      1140\n",
      "\n",
      "[[ 74   6  13  14   0   3  10   0   2   2]\n",
      " [ 36  26   4   5   5   4  20   0   6   8]\n",
      " [  0   0 101   2   4   9  10   0   2   3]\n",
      " [ 15  18  14  44  11   7   6   0   8   1]\n",
      " [  3   3  17   4  65   5   6   0   7   7]\n",
      " [  2   4  16   9  19  26  14   0   8  16]\n",
      " [  3   6   3   1   0   0  74   0   5  19]\n",
      " [  0   0   3   0   8   9   4   0  13  23]\n",
      " [ 15   5   7   6   8   6   9   0  47  18]\n",
      " [  3   2   5   0   0   8  25   0   8  73]]\n"
     ]
    },
    {
     "name": "stderr",
     "output_type": "stream",
     "text": [
      "C:\\Users\\ravic\\anaconda3\\lib\\site-packages\\sklearn\\metrics\\_classification.py:1248: UndefinedMetricWarning: Precision and F-score are ill-defined and being set to 0.0 in labels with no predicted samples. Use `zero_division` parameter to control this behavior.\n",
      "  _warn_prf(average, modifier, msg_start, len(result))\n",
      "C:\\Users\\ravic\\anaconda3\\lib\\site-packages\\sklearn\\metrics\\_classification.py:1248: UndefinedMetricWarning: Precision and F-score are ill-defined and being set to 0.0 in labels with no predicted samples. Use `zero_division` parameter to control this behavior.\n",
      "  _warn_prf(average, modifier, msg_start, len(result))\n",
      "C:\\Users\\ravic\\anaconda3\\lib\\site-packages\\sklearn\\metrics\\_classification.py:1248: UndefinedMetricWarning: Precision and F-score are ill-defined and being set to 0.0 in labels with no predicted samples. Use `zero_division` parameter to control this behavior.\n",
      "  _warn_prf(average, modifier, msg_start, len(result))\n"
     ]
    }
   ],
   "source": [
    "y_predict = classifier_rf.fit(Ftrain, Ltrain).predict(Ftest)\n",
    "class_names = target.unique()\n",
    "print(classification_report(Ltest, y_predict, target_names=class_names))\n",
    "print(confusion_matrix(Ltest, y_predict))"
   ]
  },
  {
   "cell_type": "markdown",
   "id": "e1c2d95a",
   "metadata": {},
   "source": [
    "# Naive Bayes on Red channel data"
   ]
  },
  {
   "cell_type": "code",
   "execution_count": 54,
   "id": "8ec0753c",
   "metadata": {},
   "outputs": [
    {
     "data": {
      "text/plain": [
       "GaussianNB()"
      ]
     },
     "execution_count": 54,
     "metadata": {},
     "output_type": "execute_result"
    }
   ],
   "source": [
    "gnb.fit(Ftrain, Ltrain)"
   ]
  },
  {
   "cell_type": "code",
   "execution_count": 55,
   "id": "9bd3c55d",
   "metadata": {},
   "outputs": [
    {
     "data": {
      "text/plain": [
       "0.39210526315789473"
      ]
     },
     "execution_count": 55,
     "metadata": {},
     "output_type": "execute_result"
    }
   ],
   "source": [
    "y_pred = gnb.predict(Ftest)\n",
    "metrics.accuracy_score(Ltest, y_pred)"
   ]
  },
  {
   "cell_type": "code",
   "execution_count": 56,
   "id": "fc44e44c",
   "metadata": {},
   "outputs": [
    {
     "name": "stdout",
     "output_type": "stream",
     "text": [
      "                               precision    recall  f1-score   support\n",
      "\n",
      "               bacterial_spot       0.46      0.55      0.50       124\n",
      "                 early_blight       0.36      0.42      0.39       114\n",
      "                      healthy       0.39      0.66      0.49       131\n",
      "                  late_blight       0.41      0.22      0.28       124\n",
      "                    leaf_mold       0.55      0.47      0.51       117\n",
      "           septoria_leaf_spot       0.20      0.11      0.14       114\n",
      "                  target_spot       0.44      0.32      0.38       111\n",
      "          tomato_mosaic_virus       0.30      0.73      0.43        60\n",
      "tomato_yellow_leaf_curl_virus       0.39      0.17      0.23       121\n",
      "      two-spotted_spider_mite       0.37      0.41      0.39       124\n",
      "\n",
      "                     accuracy                           0.39      1140\n",
      "                    macro avg       0.39      0.41      0.37      1140\n",
      "                 weighted avg       0.39      0.39      0.37      1140\n",
      "\n",
      "[[68 10 18  5  0  8  5  1  1  8]\n",
      " [21 48  2 12  5  3 10  1  6  6]\n",
      " [ 0  1 86  3  7 13  6  3  6  6]\n",
      " [ 5 28 35 27  8  4  4 10  3  0]\n",
      " [ 1  5 17  7 55  4  5 14  1  8]\n",
      " [12  9 27  5 16 12  6 16  3  8]\n",
      " [20 18  3  2  3  2 36  2  3 22]\n",
      " [ 0  0  4  0  4  0  1 44  5  2]\n",
      " [13 10 15  5  2  9  3 17 20 27]\n",
      " [ 8  5 11  0  0  4  5 37  3 51]]\n"
     ]
    }
   ],
   "source": [
    "class_names = target.unique()\n",
    "print(classification_report(Ltest, y_pred, target_names=class_names))\n",
    "print(confusion_matrix(Ltest, y_pred))"
   ]
  },
  {
   "cell_type": "markdown",
   "id": "1aad544a",
   "metadata": {},
   "source": [
    "# Decision Tree on Red channel"
   ]
  },
  {
   "cell_type": "code",
   "execution_count": 57,
   "id": "91934650",
   "metadata": {},
   "outputs": [
    {
     "data": {
      "text/plain": [
       "0.3219298245614035"
      ]
     },
     "execution_count": 57,
     "metadata": {},
     "output_type": "execute_result"
    }
   ],
   "source": [
    "classifier_tree.fit(Ftrain, Ltrain)\n",
    "classifier_tree.score(Ftest,Ltest)"
   ]
  },
  {
   "cell_type": "code",
   "execution_count": 58,
   "id": "897d5f1e",
   "metadata": {},
   "outputs": [
    {
     "name": "stdout",
     "output_type": "stream",
     "text": [
      "                               precision    recall  f1-score   support\n",
      "\n",
      "               bacterial_spot       0.35      0.33      0.34       124\n",
      "                 early_blight       0.20      0.19      0.19       114\n",
      "                      healthy       0.52      0.50      0.51       131\n",
      "                  late_blight       0.31      0.27      0.29       124\n",
      "                    leaf_mold       0.40      0.38      0.39       117\n",
      "           septoria_leaf_spot       0.17      0.21      0.19       114\n",
      "                  target_spot       0.20      0.23      0.21       111\n",
      "          tomato_mosaic_virus       0.24      0.27      0.25        60\n",
      "tomato_yellow_leaf_curl_virus       0.31      0.25      0.27       121\n",
      "      two-spotted_spider_mite       0.35      0.35      0.35       124\n",
      "\n",
      "                     accuracy                           0.30      1140\n",
      "                    macro avg       0.30      0.30      0.30      1140\n",
      "                 weighted avg       0.31      0.30      0.31      1140\n",
      "\n",
      "[[41 14  7  6  9 14 16  3  8  6]\n",
      " [19 22  3 11 11 12 15  3  7 11]\n",
      " [ 2  1 65 11  8 18  9  4  7  6]\n",
      " [15 16  5 33  9 16  7  5  9  9]\n",
      " [ 4  8  6 19 44 12  8  8  5  3]\n",
      " [ 8  9  9  5 11 24 15  6 14 13]\n",
      " [ 7 16  9  4  4 16 26  7  8 14]\n",
      " [ 3  3  1  8  2  6  8 16  3 10]\n",
      " [13 12  5  7  8 16 10  9 30 11]\n",
      " [ 5 11 15  2  5 10 19  6  7 44]]\n"
     ]
    }
   ],
   "source": [
    "y_predict = classifier_tree.fit(Ftrain, Ltrain).predict(Ftest)\n",
    "class_names = target.unique()\n",
    "print(classification_report(Ltest, y_predict, target_names=class_names))\n",
    "print(confusion_matrix(Ltest, y_predict))"
   ]
  },
  {
   "cell_type": "markdown",
   "id": "21af7568",
   "metadata": {},
   "source": [
    "# KNN on green channel data"
   ]
  },
  {
   "cell_type": "code",
   "execution_count": 59,
   "id": "461b784b",
   "metadata": {},
   "outputs": [
    {
     "data": {
      "text/plain": [
       "0.2929824561403509"
      ]
     },
     "execution_count": 59,
     "metadata": {},
     "output_type": "execute_result"
    }
   ],
   "source": [
    "#reading numpy array data\n",
    "gray_test = np.load('green_data.npy')\n",
    "#reading csv file\n",
    "gray_df = pd.read_csv('green_data.csv')\n",
    "loaded = []\n",
    "for i in gray_test:\n",
    "    k = []\n",
    "    k = np.asarray(i,dtype='uint8')\n",
    "    loaded.append(k)\n",
    "features = loaded\n",
    "target = gray_df['disease']\n",
    "Ftrain,Ftest,Ltrain,Ltest=train_test_split(features,target, test_size=0.20, random_state=20)\n",
    "Ftrain = norm.fit_transform(Ftrain)\n",
    "Ftest = norm.fit_transform(Ftest)\n",
    "kmodel.fit(Ftrain,Ltrain)\n",
    "kmodel.score(Ftest,Ltest)"
   ]
  },
  {
   "cell_type": "code",
   "execution_count": 60,
   "id": "5a4d4f1d",
   "metadata": {},
   "outputs": [
    {
     "name": "stdout",
     "output_type": "stream",
     "text": [
      "                               precision    recall  f1-score   support\n",
      "\n",
      "               bacterial_spot       0.21      0.67      0.32       124\n",
      "                 early_blight       0.00      0.00      0.00       114\n",
      "                      healthy       0.35      0.57      0.43       131\n",
      "                  late_blight       0.30      0.17      0.22       124\n",
      "                    leaf_mold       0.33      0.56      0.42       117\n",
      "           septoria_leaf_spot       0.20      0.31      0.24       114\n",
      "                  target_spot       0.00      0.00      0.00       111\n",
      "          tomato_mosaic_virus       0.50      0.05      0.09        60\n",
      "tomato_yellow_leaf_curl_virus       0.46      0.10      0.16       121\n",
      "      two-spotted_spider_mite       0.72      0.31      0.44       124\n",
      "\n",
      "                     accuracy                           0.29      1140\n",
      "                    macro avg       0.31      0.27      0.23      1140\n",
      "                 weighted avg       0.30      0.29      0.25      1140\n",
      "\n",
      "[[83  0 12  9  4 14  0  0  2  0]\n",
      " [86  0  3  0 14  9  0  0  2  0]\n",
      " [ 8  0 75  5  7 34  0  0  1  1]\n",
      " [29  0 32 21 22 14  0  0  4  2]\n",
      " [10  0 21  6 66 11  1  0  2  0]\n",
      " [14  0 31  7 26 35  0  0  0  1]\n",
      " [70  0  7  6 10 14  0  0  0  4]\n",
      " [ 2  0 10  4 19 19  0  3  1  2]\n",
      " [44  0 20  9 13 15  0  3 12  5]\n",
      " [45  0  5  4 17 12  0  0  2 39]]\n"
     ]
    },
    {
     "name": "stderr",
     "output_type": "stream",
     "text": [
      "C:\\Users\\ravic\\anaconda3\\lib\\site-packages\\sklearn\\metrics\\_classification.py:1248: UndefinedMetricWarning: Precision and F-score are ill-defined and being set to 0.0 in labels with no predicted samples. Use `zero_division` parameter to control this behavior.\n",
      "  _warn_prf(average, modifier, msg_start, len(result))\n",
      "C:\\Users\\ravic\\anaconda3\\lib\\site-packages\\sklearn\\metrics\\_classification.py:1248: UndefinedMetricWarning: Precision and F-score are ill-defined and being set to 0.0 in labels with no predicted samples. Use `zero_division` parameter to control this behavior.\n",
      "  _warn_prf(average, modifier, msg_start, len(result))\n",
      "C:\\Users\\ravic\\anaconda3\\lib\\site-packages\\sklearn\\metrics\\_classification.py:1248: UndefinedMetricWarning: Precision and F-score are ill-defined and being set to 0.0 in labels with no predicted samples. Use `zero_division` parameter to control this behavior.\n",
      "  _warn_prf(average, modifier, msg_start, len(result))\n"
     ]
    }
   ],
   "source": [
    "#printing results of the kmodel\n",
    "y_predict = kmodel.fit(Ftrain, Ltrain).predict(Ftest)\n",
    "class_names = target.unique()\n",
    "print(classification_report(Ltest, y_predict, target_names=class_names))\n",
    "print(confusion_matrix(Ltest, y_predict))"
   ]
  },
  {
   "cell_type": "markdown",
   "id": "71f3ea86",
   "metadata": {},
   "source": [
    "# Logistic on Green channel data"
   ]
  },
  {
   "cell_type": "code",
   "execution_count": 61,
   "id": "28dad6b2",
   "metadata": {},
   "outputs": [
    {
     "data": {
      "text/plain": [
       "0.3763157894736842"
      ]
     },
     "execution_count": 61,
     "metadata": {},
     "output_type": "execute_result"
    }
   ],
   "source": [
    "model.fit(Ftrain,Ltrain)\n",
    "model.score(Ftest,Ltest)"
   ]
  },
  {
   "cell_type": "code",
   "execution_count": 62,
   "id": "3c0993f1",
   "metadata": {},
   "outputs": [
    {
     "name": "stdout",
     "output_type": "stream",
     "text": [
      "                               precision    recall  f1-score   support\n",
      "\n",
      "               bacterial_spot       0.48      0.40      0.43       124\n",
      "                 early_blight       0.34      0.42      0.38       114\n",
      "                      healthy       0.36      0.63      0.46       131\n",
      "                  late_blight       0.34      0.13      0.19       124\n",
      "                    leaf_mold       0.48      0.53      0.51       117\n",
      "           septoria_leaf_spot       0.28      0.14      0.19       114\n",
      "                  target_spot       0.31      0.28      0.29       111\n",
      "          tomato_mosaic_virus       0.00      0.00      0.00        60\n",
      "tomato_yellow_leaf_curl_virus       0.30      0.40      0.35       121\n",
      "      two-spotted_spider_mite       0.44      0.60      0.51       124\n",
      "\n",
      "                     accuracy                           0.38      1140\n",
      "                    macro avg       0.33      0.35      0.33      1140\n",
      "                 weighted avg       0.35      0.38      0.35      1140\n",
      "\n",
      "[[49 20 22  4  1  1  7  0  8 12]\n",
      " [15 48  6  2  5  0 13  0 10 15]\n",
      " [ 1  1 83  3  6  6 17  0 10  4]\n",
      " [ 4 21 32 16 17  8  7  0 13  6]\n",
      " [ 3  5 11 11 62  6  3  0 10  6]\n",
      " [ 9  7 32  3 21 16  7  0 10  9]\n",
      " [15 13  4  2  4  4 31  0 15 23]\n",
      " [ 0  0 11  0  7  8  1  0 28  5]\n",
      " [ 6 17 17  6  2  2  5  0 49 17]\n",
      " [ 0 10 10  0  3  6 10  0 10 75]]\n"
     ]
    },
    {
     "name": "stderr",
     "output_type": "stream",
     "text": [
      "C:\\Users\\ravic\\anaconda3\\lib\\site-packages\\sklearn\\metrics\\_classification.py:1248: UndefinedMetricWarning: Precision and F-score are ill-defined and being set to 0.0 in labels with no predicted samples. Use `zero_division` parameter to control this behavior.\n",
      "  _warn_prf(average, modifier, msg_start, len(result))\n",
      "C:\\Users\\ravic\\anaconda3\\lib\\site-packages\\sklearn\\metrics\\_classification.py:1248: UndefinedMetricWarning: Precision and F-score are ill-defined and being set to 0.0 in labels with no predicted samples. Use `zero_division` parameter to control this behavior.\n",
      "  _warn_prf(average, modifier, msg_start, len(result))\n",
      "C:\\Users\\ravic\\anaconda3\\lib\\site-packages\\sklearn\\metrics\\_classification.py:1248: UndefinedMetricWarning: Precision and F-score are ill-defined and being set to 0.0 in labels with no predicted samples. Use `zero_division` parameter to control this behavior.\n",
      "  _warn_prf(average, modifier, msg_start, len(result))\n"
     ]
    }
   ],
   "source": [
    "#classification report\n",
    "y_predict = model.fit(Ftrain, Ltrain).predict(Ftest)\n",
    "class_names = target.unique()\n",
    "print(classification_report(Ltest, y_predict, target_names=class_names))\n",
    "print(confusion_matrix(Ltest, y_predict))"
   ]
  },
  {
   "cell_type": "markdown",
   "id": "f62f0223",
   "metadata": {},
   "source": [
    "# SVM on green channel data"
   ]
  },
  {
   "cell_type": "code",
   "execution_count": 63,
   "id": "e89e7297",
   "metadata": {},
   "outputs": [
    {
     "name": "stdout",
     "output_type": "stream",
     "text": [
      "0.38333333333333336\n"
     ]
    }
   ],
   "source": [
    "clf.fit(Ftrain,Ltrain)\n",
    "y_pred = clf.predict(Ftest)\n",
    "print(accuracy_score(Ltest,y_pred))"
   ]
  },
  {
   "cell_type": "code",
   "execution_count": 64,
   "id": "aaec32cf",
   "metadata": {},
   "outputs": [
    {
     "name": "stdout",
     "output_type": "stream",
     "text": [
      "                               precision    recall  f1-score   support\n",
      "\n",
      "               bacterial_spot       0.54      0.41      0.47       124\n",
      "                 early_blight       0.37      0.40      0.38       114\n",
      "                      healthy       0.35      0.62      0.45       131\n",
      "                  late_blight       0.33      0.06      0.10       124\n",
      "                    leaf_mold       0.52      0.47      0.50       117\n",
      "           septoria_leaf_spot       0.19      0.18      0.18       114\n",
      "                  target_spot       0.32      0.49      0.39       111\n",
      "          tomato_mosaic_virus       0.00      0.00      0.00        60\n",
      "tomato_yellow_leaf_curl_virus       0.35      0.37      0.36       121\n",
      "      two-spotted_spider_mite       0.48      0.63      0.54       124\n",
      "\n",
      "                     accuracy                           0.38      1140\n",
      "                    macro avg       0.35      0.36      0.34      1140\n",
      "                 weighted avg       0.37      0.38      0.36      1140\n",
      "\n",
      "[[51 13 22  1  1  7 13  0  5 11]\n",
      " [16 46  4  1  4  2 21  0  8 12]\n",
      " [ 0  1 81  0  4 11 24  0  8  2]\n",
      " [ 4 23 40  7 14 13 10  0  7  6]\n",
      " [ 3  5 15  5 55 12  4  0 11  7]\n",
      " [ 6  5 31  2 18 20 15  0  7 10]\n",
      " [10 10  1  2  3  6 54  0  9 16]\n",
      " [ 0  0  8  0  3 19  4  0 23  3]\n",
      " [ 4 14 22  3  1  6  8  0 45 18]\n",
      " [ 0  9  7  0  2  9 14  0  5 78]]\n"
     ]
    },
    {
     "name": "stderr",
     "output_type": "stream",
     "text": [
      "C:\\Users\\ravic\\anaconda3\\lib\\site-packages\\sklearn\\metrics\\_classification.py:1248: UndefinedMetricWarning: Precision and F-score are ill-defined and being set to 0.0 in labels with no predicted samples. Use `zero_division` parameter to control this behavior.\n",
      "  _warn_prf(average, modifier, msg_start, len(result))\n",
      "C:\\Users\\ravic\\anaconda3\\lib\\site-packages\\sklearn\\metrics\\_classification.py:1248: UndefinedMetricWarning: Precision and F-score are ill-defined and being set to 0.0 in labels with no predicted samples. Use `zero_division` parameter to control this behavior.\n",
      "  _warn_prf(average, modifier, msg_start, len(result))\n",
      "C:\\Users\\ravic\\anaconda3\\lib\\site-packages\\sklearn\\metrics\\_classification.py:1248: UndefinedMetricWarning: Precision and F-score are ill-defined and being set to 0.0 in labels with no predicted samples. Use `zero_division` parameter to control this behavior.\n",
      "  _warn_prf(average, modifier, msg_start, len(result))\n"
     ]
    }
   ],
   "source": [
    "#classification report\n",
    "y_predict = clf.fit(Ftrain, Ltrain).predict(Ftest)\n",
    "class_names = target.unique()\n",
    "print(classification_report(Ltest, y_predict, target_names=class_names))\n",
    "print(confusion_matrix(Ltest, y_predict))"
   ]
  },
  {
   "cell_type": "markdown",
   "id": "4f8e565e",
   "metadata": {},
   "source": [
    "# Random Forest on green channel data"
   ]
  },
  {
   "cell_type": "code",
   "execution_count": 65,
   "id": "96c92f8f",
   "metadata": {},
   "outputs": [
    {
     "data": {
      "text/plain": [
       "0.43255099802588287"
      ]
     },
     "execution_count": 65,
     "metadata": {},
     "output_type": "execute_result"
    }
   ],
   "source": [
    "classifier_rf.fit(Ftrain, Ltrain)\n",
    "classifier_rf.oob_score_"
   ]
  },
  {
   "cell_type": "code",
   "execution_count": 66,
   "id": "a855ce64",
   "metadata": {},
   "outputs": [
    {
     "name": "stdout",
     "output_type": "stream",
     "text": [
      "                               precision    recall  f1-score   support\n",
      "\n",
      "               bacterial_spot       0.48      0.58      0.53       124\n",
      "                 early_blight       0.43      0.39      0.41       114\n",
      "                      healthy       0.62      0.58      0.60       131\n",
      "                  late_blight       0.64      0.33      0.44       124\n",
      "                    leaf_mold       0.51      0.53      0.52       117\n",
      "           septoria_leaf_spot       0.27      0.53      0.36       114\n",
      "                  target_spot       0.41      0.68      0.52       111\n",
      "          tomato_mosaic_virus       0.00      0.00      0.00        60\n",
      "tomato_yellow_leaf_curl_virus       0.54      0.26      0.36       121\n",
      "      two-spotted_spider_mite       0.65      0.60      0.63       124\n",
      "\n",
      "                     accuracy                           0.47      1140\n",
      "                    macro avg       0.46      0.45      0.43      1140\n",
      "                 weighted avg       0.48      0.47      0.46      1140\n",
      "\n",
      "[[72  5  5  7  4 14 13  0  4  0]\n",
      " [36 44  1  0  4 10 12  0  2  5]\n",
      " [ 0  0 76  0  6 35 10  0  2  2]\n",
      " [14 26  7 41  7 18  9  0  1  1]\n",
      " [ 2  4 10  3 62 15 13  0  5  3]\n",
      " [ 3  1  8  7 23 60  5  0  4  3]\n",
      " [ 3  5  1  1  1  9 76  0  2 13]\n",
      " [ 0  0  6  0  9 26 11  0  5  3]\n",
      " [13 13  6  5  3 22 17  0 32 10]\n",
      " [ 7  4  3  0  2 13 18  0  2 75]]\n"
     ]
    },
    {
     "name": "stderr",
     "output_type": "stream",
     "text": [
      "C:\\Users\\ravic\\anaconda3\\lib\\site-packages\\sklearn\\metrics\\_classification.py:1248: UndefinedMetricWarning: Precision and F-score are ill-defined and being set to 0.0 in labels with no predicted samples. Use `zero_division` parameter to control this behavior.\n",
      "  _warn_prf(average, modifier, msg_start, len(result))\n",
      "C:\\Users\\ravic\\anaconda3\\lib\\site-packages\\sklearn\\metrics\\_classification.py:1248: UndefinedMetricWarning: Precision and F-score are ill-defined and being set to 0.0 in labels with no predicted samples. Use `zero_division` parameter to control this behavior.\n",
      "  _warn_prf(average, modifier, msg_start, len(result))\n",
      "C:\\Users\\ravic\\anaconda3\\lib\\site-packages\\sklearn\\metrics\\_classification.py:1248: UndefinedMetricWarning: Precision and F-score are ill-defined and being set to 0.0 in labels with no predicted samples. Use `zero_division` parameter to control this behavior.\n",
      "  _warn_prf(average, modifier, msg_start, len(result))\n"
     ]
    }
   ],
   "source": [
    "y_predict = classifier_rf.fit(Ftrain, Ltrain).predict(Ftest)\n",
    "class_names = target.unique()\n",
    "print(classification_report(Ltest, y_predict, target_names=class_names))\n",
    "print(confusion_matrix(Ltest, y_predict))"
   ]
  },
  {
   "cell_type": "markdown",
   "id": "e9b1cca9",
   "metadata": {},
   "source": [
    "# Naive bayes on Green channel data"
   ]
  },
  {
   "cell_type": "code",
   "execution_count": 67,
   "id": "1136802c",
   "metadata": {},
   "outputs": [
    {
     "data": {
      "text/plain": [
       "0.3763157894736842"
      ]
     },
     "execution_count": 67,
     "metadata": {},
     "output_type": "execute_result"
    }
   ],
   "source": [
    "gnb.fit(Ftrain, Ltrain)\n",
    "GaussianNB()\n",
    "y_pred = gnb.predict(Ftest)\n",
    "metrics.accuracy_score(Ltest, y_pred)"
   ]
  },
  {
   "cell_type": "code",
   "execution_count": 68,
   "id": "08e6f602",
   "metadata": {},
   "outputs": [
    {
     "name": "stdout",
     "output_type": "stream",
     "text": [
      "                               precision    recall  f1-score   support\n",
      "\n",
      "               bacterial_spot       0.48      0.58      0.53       124\n",
      "                 early_blight       0.36      0.49      0.42       114\n",
      "                      healthy       0.38      0.60      0.47       131\n",
      "                  late_blight       0.33      0.16      0.22       124\n",
      "                    leaf_mold       0.51      0.38      0.43       117\n",
      "           septoria_leaf_spot       0.27      0.12      0.17       114\n",
      "                  target_spot       0.42      0.30      0.35       111\n",
      "          tomato_mosaic_virus       0.24      0.62      0.35        60\n",
      "tomato_yellow_leaf_curl_virus       0.34      0.18      0.24       121\n",
      "      two-spotted_spider_mite       0.39      0.42      0.40       124\n",
      "\n",
      "                     accuracy                           0.38      1140\n",
      "                    macro avg       0.37      0.39      0.36      1140\n",
      "                 weighted avg       0.38      0.38      0.36      1140\n",
      "\n",
      "[[72 13 16  3  2  5  3  6  2  2]\n",
      " [17 56  3 12  3  2  5  2  4 10]\n",
      " [ 0  1 79  5  7  2 14  6 10  7]\n",
      " [ 3 32 32 20  4  4  6 17  5  1]\n",
      " [ 4  5 20  9 44  4  3 13  7  8]\n",
      " [13  3 22  5 18 14  5 27  3  4]\n",
      " [22 19  0  3  4  2 33  3  3 22]\n",
      " [ 3  0  7  0  3  5  0 37  3  2]\n",
      " [ 7 13 21  3  1  9  4 15 22 26]\n",
      " [ 8 13  8  0  1  5  6 26  5 52]]\n"
     ]
    }
   ],
   "source": [
    "class_names = target.unique()\n",
    "print(classification_report(Ltest, y_pred, target_names=class_names))\n",
    "print(confusion_matrix(Ltest, y_pred))"
   ]
  },
  {
   "cell_type": "markdown",
   "id": "ad497b39",
   "metadata": {},
   "source": [
    "# Decision Tree on Green channel"
   ]
  },
  {
   "cell_type": "code",
   "execution_count": 69,
   "id": "458fe744",
   "metadata": {},
   "outputs": [
    {
     "data": {
      "text/plain": [
       "0.2719298245614035"
      ]
     },
     "execution_count": 69,
     "metadata": {},
     "output_type": "execute_result"
    }
   ],
   "source": [
    "classifier_tree.fit(Ftrain, Ltrain)\n",
    "classifier_tree.score(Ftest,Ltest)"
   ]
  },
  {
   "cell_type": "code",
   "execution_count": 70,
   "id": "60ea8164",
   "metadata": {},
   "outputs": [
    {
     "name": "stdout",
     "output_type": "stream",
     "text": [
      "                               precision    recall  f1-score   support\n",
      "\n",
      "               bacterial_spot       0.30      0.31      0.31       124\n",
      "                 early_blight       0.23      0.26      0.24       114\n",
      "                      healthy       0.51      0.46      0.48       131\n",
      "                  late_blight       0.32      0.29      0.31       124\n",
      "                    leaf_mold       0.25      0.26      0.26       117\n",
      "           septoria_leaf_spot       0.19      0.20      0.19       114\n",
      "                  target_spot       0.23      0.23      0.23       111\n",
      "          tomato_mosaic_virus       0.11      0.12      0.11        60\n",
      "tomato_yellow_leaf_curl_virus       0.20      0.18      0.19       121\n",
      "      two-spotted_spider_mite       0.28      0.28      0.28       124\n",
      "\n",
      "                     accuracy                           0.27      1140\n",
      "                    macro avg       0.26      0.26      0.26      1140\n",
      "                 weighted avg       0.27      0.27      0.27      1140\n",
      "\n",
      "[[39 12  6  9  6 15  4  5 15 13]\n",
      " [12 30  2 17  3 14 14  2 10 10]\n",
      " [ 9  3 60  8  3  8 14  6 10 10]\n",
      " [13 15  4 36 12 12  5  7  8 12]\n",
      " [10 17 13  7 31 11  5  7  8  8]\n",
      " [13  9  8  8 25 23  8  7  8  5]\n",
      " [11 12 10  9  4  7 25  9  9 15]\n",
      " [ 3  2  7  2 12  8  6  7  8  5]\n",
      " [15 15  5 10 15 14  9  5 22 11]\n",
      " [ 5 16  2  6 12 11 19  8 10 35]]\n"
     ]
    }
   ],
   "source": [
    "y_predict = classifier_tree.fit(Ftrain, Ltrain).predict(Ftest)\n",
    "class_names = target.unique()\n",
    "print(classification_report(Ltest, y_predict, target_names=class_names))\n",
    "print(confusion_matrix(Ltest, y_predict))"
   ]
  },
  {
   "cell_type": "markdown",
   "id": "75817642",
   "metadata": {},
   "source": [
    "# KNN on blue channel data"
   ]
  },
  {
   "cell_type": "code",
   "execution_count": 71,
   "id": "531e3624",
   "metadata": {},
   "outputs": [
    {
     "data": {
      "text/plain": [
       "0.38859649122807016"
      ]
     },
     "execution_count": 71,
     "metadata": {},
     "output_type": "execute_result"
    }
   ],
   "source": [
    "#reading numpy array data\n",
    "gray_test = np.load('blue_data.npy')\n",
    "#reading csv file\n",
    "gray_df = pd.read_csv('blue_data.csv')\n",
    "loaded = []\n",
    "for i in gray_test:\n",
    "    k = []\n",
    "    k = np.asarray(i,dtype='uint8')\n",
    "    loaded.append(k)\n",
    "features = loaded\n",
    "target = gray_df['disease']\n",
    "Ftrain,Ftest,Ltrain,Ltest=train_test_split(features,target, test_size=0.20, random_state=20)\n",
    "Ftrain = norm.fit_transform(Ftrain)\n",
    "Ftest = norm.fit_transform(Ftest)\n",
    "kmodel.fit(Ftrain,Ltrain)\n",
    "kmodel.score(Ftest,Ltest)"
   ]
  },
  {
   "cell_type": "code",
   "execution_count": 72,
   "id": "1314e157",
   "metadata": {},
   "outputs": [
    {
     "name": "stdout",
     "output_type": "stream",
     "text": [
      "                               precision    recall  f1-score   support\n",
      "\n",
      "               bacterial_spot       0.23      0.83      0.36       124\n",
      "                 early_blight       0.00      0.00      0.00       114\n",
      "                      healthy       0.42      0.76      0.54       131\n",
      "                  late_blight       0.53      0.31      0.39       124\n",
      "                    leaf_mold       0.48      0.60      0.53       117\n",
      "           septoria_leaf_spot       0.41      0.28      0.33       114\n",
      "                  target_spot       0.33      0.02      0.03       111\n",
      "          tomato_mosaic_virus       0.34      0.18      0.24        60\n",
      "tomato_yellow_leaf_curl_virus       0.83      0.32      0.46       121\n",
      "      two-spotted_spider_mite       0.65      0.39      0.48       124\n",
      "\n",
      "                     accuracy                           0.39      1140\n",
      "                    macro avg       0.42      0.37      0.34      1140\n",
      "                 weighted avg       0.43      0.39      0.35      1140\n",
      "\n",
      "[[103   0  11   2   1   6   0   0   0   1]\n",
      " [ 77   0  13   5   8   4   4   1   2   0]\n",
      " [ 21   0 100   2   4   1   0   2   0   1]\n",
      " [ 27   0  29  38  19   7   0   1   2   1]\n",
      " [ 18   0  13   4  70   6   0   3   0   3]\n",
      " [ 35   0  12   6  21  32   0   6   0   2]\n",
      " [ 73   0  27   3   1   0   2   0   1   4]\n",
      " [  2   0  12  10  11   6   0  11   0   8]\n",
      " [ 53   0   0   2   7   8   0   6  39   6]\n",
      " [ 39   0  20   0   3   9   0   2   3  48]]\n"
     ]
    },
    {
     "name": "stderr",
     "output_type": "stream",
     "text": [
      "C:\\Users\\ravic\\anaconda3\\lib\\site-packages\\sklearn\\metrics\\_classification.py:1248: UndefinedMetricWarning: Precision and F-score are ill-defined and being set to 0.0 in labels with no predicted samples. Use `zero_division` parameter to control this behavior.\n",
      "  _warn_prf(average, modifier, msg_start, len(result))\n",
      "C:\\Users\\ravic\\anaconda3\\lib\\site-packages\\sklearn\\metrics\\_classification.py:1248: UndefinedMetricWarning: Precision and F-score are ill-defined and being set to 0.0 in labels with no predicted samples. Use `zero_division` parameter to control this behavior.\n",
      "  _warn_prf(average, modifier, msg_start, len(result))\n",
      "C:\\Users\\ravic\\anaconda3\\lib\\site-packages\\sklearn\\metrics\\_classification.py:1248: UndefinedMetricWarning: Precision and F-score are ill-defined and being set to 0.0 in labels with no predicted samples. Use `zero_division` parameter to control this behavior.\n",
      "  _warn_prf(average, modifier, msg_start, len(result))\n"
     ]
    }
   ],
   "source": [
    "#printing results of the kmodel\n",
    "y_predict = kmodel.fit(Ftrain, Ltrain).predict(Ftest)\n",
    "class_names = target.unique()\n",
    "print(classification_report(Ltest, y_predict, target_names=class_names))\n",
    "print(confusion_matrix(Ltest, y_predict))"
   ]
  },
  {
   "cell_type": "markdown",
   "id": "f452a113",
   "metadata": {},
   "source": [
    "# logistic on blue channel data"
   ]
  },
  {
   "cell_type": "code",
   "execution_count": 73,
   "id": "de158586",
   "metadata": {},
   "outputs": [
    {
     "data": {
      "text/plain": [
       "0.47982456140350876"
      ]
     },
     "execution_count": 73,
     "metadata": {},
     "output_type": "execute_result"
    }
   ],
   "source": [
    "model.fit(Ftrain,Ltrain)\n",
    "model.score(Ftest,Ltest)"
   ]
  },
  {
   "cell_type": "code",
   "execution_count": 74,
   "id": "489ce7e9",
   "metadata": {},
   "outputs": [
    {
     "name": "stdout",
     "output_type": "stream",
     "text": [
      "                               precision    recall  f1-score   support\n",
      "\n",
      "               bacterial_spot       0.51      0.51      0.51       124\n",
      "                 early_blight       0.38      0.27      0.32       114\n",
      "                      healthy       0.56      0.73      0.63       131\n",
      "                  late_blight       0.47      0.34      0.39       124\n",
      "                    leaf_mold       0.52      0.60      0.56       117\n",
      "           septoria_leaf_spot       0.36      0.18      0.24       114\n",
      "                  target_spot       0.35      0.36      0.36       111\n",
      "          tomato_mosaic_virus       0.56      0.17      0.26        60\n",
      "tomato_yellow_leaf_curl_virus       0.54      0.78      0.64       121\n",
      "      two-spotted_spider_mite       0.46      0.65      0.54       124\n",
      "\n",
      "                     accuracy                           0.48      1140\n",
      "                    macro avg       0.47      0.46      0.44      1140\n",
      "                 weighted avg       0.47      0.48      0.46      1140\n",
      "\n",
      "[[63  5  7  2  1  5 10  0 17 14]\n",
      " [10 31 12  9  6  5 12  0 18 11]\n",
      " [ 2  3 95  5  1  0 19  0  0  6]\n",
      " [ 4 16 19 42 16  7  6  1  8  5]\n",
      " [ 7  4  5  6 70  6  2  1  9  7]\n",
      " [18  9  5  7 23 21  7  3 11 10]\n",
      " [14  7 20  6  0  2 40  0  4 18]\n",
      " [ 0  0  2  9 14  6  0 10  5 14]\n",
      " [ 3  2  0  3  3  3  2  1 94 10]\n",
      " [ 3  5  5  0  1  4 15  2  8 81]]\n"
     ]
    }
   ],
   "source": [
    "#classification report\n",
    "y_predict = model.fit(Ftrain, Ltrain).predict(Ftest)\n",
    "class_names = target.unique()\n",
    "print(classification_report(Ltest, y_predict, target_names=class_names))\n",
    "print(confusion_matrix(Ltest, y_predict))"
   ]
  },
  {
   "cell_type": "markdown",
   "id": "c7585c1d",
   "metadata": {},
   "source": [
    "# SVM on blue channel data"
   ]
  },
  {
   "cell_type": "code",
   "execution_count": 75,
   "id": "06fb4a0f",
   "metadata": {},
   "outputs": [
    {
     "name": "stdout",
     "output_type": "stream",
     "text": [
      "0.4850877192982456\n"
     ]
    }
   ],
   "source": [
    "clf.fit(Ftrain,Ltrain)\n",
    "y_pred = clf.predict(Ftest)\n",
    "print(accuracy_score(Ltest,y_pred))"
   ]
  },
  {
   "cell_type": "code",
   "execution_count": 76,
   "id": "03a12a5f",
   "metadata": {},
   "outputs": [
    {
     "name": "stdout",
     "output_type": "stream",
     "text": [
      "                               precision    recall  f1-score   support\n",
      "\n",
      "               bacterial_spot       0.47      0.49      0.48       124\n",
      "                 early_blight       0.34      0.25      0.29       114\n",
      "                      healthy       0.71      0.65      0.68       131\n",
      "                  late_blight       0.54      0.36      0.43       124\n",
      "                    leaf_mold       0.61      0.57      0.59       117\n",
      "           septoria_leaf_spot       0.29      0.25      0.27       114\n",
      "                  target_spot       0.35      0.53      0.42       111\n",
      "          tomato_mosaic_virus       0.57      0.13      0.22        60\n",
      "tomato_yellow_leaf_curl_virus       0.59      0.75      0.66       121\n",
      "      two-spotted_spider_mite       0.45      0.64      0.52       124\n",
      "\n",
      "                     accuracy                           0.49      1140\n",
      "                    macro avg       0.49      0.46      0.46      1140\n",
      "                 weighted avg       0.49      0.49      0.47      1140\n",
      "\n",
      "[[61  5  6  2  0 10 14  0 11 15]\n",
      " [13 29  6  8  3  8 20  0 16 11]\n",
      " [ 2  4 85  2  1  0 31  0  0  6]\n",
      " [ 7 19 11 45 11 12  9  0  7  3]\n",
      " [ 7  5  1  7 67 11  5  0  6  8]\n",
      " [19 10  0  6 16 29 10  3  9 12]\n",
      " [13  6  7  3  0  3 59  0  4 16]\n",
      " [ 0  0  0  8  9 18  0  8  3 14]\n",
      " [ 3  2  0  3  2  4  2  1 91 13]\n",
      " [ 5  5  3  0  0  6 17  2  7 79]]\n"
     ]
    }
   ],
   "source": [
    "#classification report\n",
    "y_predict = clf.fit(Ftrain, Ltrain).predict(Ftest)\n",
    "class_names = target.unique()\n",
    "print(classification_report(Ltest, y_predict, target_names=class_names))\n",
    "print(confusion_matrix(Ltest, y_predict))"
   ]
  },
  {
   "cell_type": "markdown",
   "id": "f4eb8c6c",
   "metadata": {},
   "source": [
    "# Random Forest on blue channel data"
   ]
  },
  {
   "cell_type": "code",
   "execution_count": 77,
   "id": "b71407b2",
   "metadata": {},
   "outputs": [
    {
     "data": {
      "text/plain": [
       "0.4564597499451634"
      ]
     },
     "execution_count": 77,
     "metadata": {},
     "output_type": "execute_result"
    }
   ],
   "source": [
    "classifier_rf.fit(Ftrain, Ltrain)\n",
    "classifier_rf.oob_score_"
   ]
  },
  {
   "cell_type": "code",
   "execution_count": 78,
   "id": "f7d75463",
   "metadata": {},
   "outputs": [
    {
     "name": "stdout",
     "output_type": "stream",
     "text": [
      "                               precision    recall  f1-score   support\n",
      "\n",
      "               bacterial_spot       0.43      0.66      0.52       124\n",
      "                 early_blight       0.35      0.11      0.16       114\n",
      "                      healthy       0.70      0.85      0.77       131\n",
      "                  late_blight       0.72      0.41      0.52       124\n",
      "                    leaf_mold       0.60      0.60      0.60       117\n",
      "           septoria_leaf_spot       0.33      0.27      0.30       114\n",
      "                  target_spot       0.41      0.42      0.42       111\n",
      "          tomato_mosaic_virus       0.00      0.00      0.00        60\n",
      "tomato_yellow_leaf_curl_virus       0.45      0.83      0.59       121\n",
      "      two-spotted_spider_mite       0.47      0.52      0.49       124\n",
      "\n",
      "                     accuracy                           0.50      1140\n",
      "                    macro avg       0.45      0.47      0.44      1140\n",
      "                 weighted avg       0.48      0.50      0.47      1140\n",
      "\n",
      "[[ 82   2   6   2   1   4  11   0  12   4]\n",
      " [ 28  12   7   7   5   8   8   0  30   9]\n",
      " [  0   0 112   0   1   1  12   0   0   5]\n",
      " [  9  10   7  51  11  12   8   0  14   2]\n",
      " [  9   3   0   3  70   9   3   0  15   5]\n",
      " [ 25   3   3   3  19  31   2   0  19   9]\n",
      " [ 27   3  15   0   0   4  47   0   5  10]\n",
      " [  0   0   0   5   7  14   3   0   9  22]\n",
      " [  2   1   0   0   2   6   1   0 101   8]\n",
      " [  8   0   9   0   0   4  20   0  18  65]]\n"
     ]
    },
    {
     "name": "stderr",
     "output_type": "stream",
     "text": [
      "C:\\Users\\ravic\\anaconda3\\lib\\site-packages\\sklearn\\metrics\\_classification.py:1248: UndefinedMetricWarning: Precision and F-score are ill-defined and being set to 0.0 in labels with no predicted samples. Use `zero_division` parameter to control this behavior.\n",
      "  _warn_prf(average, modifier, msg_start, len(result))\n",
      "C:\\Users\\ravic\\anaconda3\\lib\\site-packages\\sklearn\\metrics\\_classification.py:1248: UndefinedMetricWarning: Precision and F-score are ill-defined and being set to 0.0 in labels with no predicted samples. Use `zero_division` parameter to control this behavior.\n",
      "  _warn_prf(average, modifier, msg_start, len(result))\n",
      "C:\\Users\\ravic\\anaconda3\\lib\\site-packages\\sklearn\\metrics\\_classification.py:1248: UndefinedMetricWarning: Precision and F-score are ill-defined and being set to 0.0 in labels with no predicted samples. Use `zero_division` parameter to control this behavior.\n",
      "  _warn_prf(average, modifier, msg_start, len(result))\n"
     ]
    }
   ],
   "source": [
    "y_predict = classifier_rf.fit(Ftrain, Ltrain).predict(Ftest)\n",
    "class_names = target.unique()\n",
    "print(classification_report(Ltest, y_predict, target_names=class_names))\n",
    "print(confusion_matrix(Ltest, y_predict))"
   ]
  },
  {
   "cell_type": "markdown",
   "id": "fb1ca20e",
   "metadata": {},
   "source": [
    "# Naive bayes on blue channel data"
   ]
  },
  {
   "cell_type": "code",
   "execution_count": 79,
   "id": "11ea0b85",
   "metadata": {},
   "outputs": [
    {
     "data": {
      "text/plain": [
       "0.45964912280701753"
      ]
     },
     "execution_count": 79,
     "metadata": {},
     "output_type": "execute_result"
    }
   ],
   "source": [
    "gnb.fit(Ftrain, Ltrain)\n",
    "GaussianNB()\n",
    "y_pred = gnb.predict(Ftest)\n",
    "metrics.accuracy_score(Ltest, y_pred)"
   ]
  },
  {
   "cell_type": "code",
   "execution_count": 80,
   "id": "b8a32aab",
   "metadata": {},
   "outputs": [
    {
     "name": "stdout",
     "output_type": "stream",
     "text": [
      "                               precision    recall  f1-score   support\n",
      "\n",
      "               bacterial_spot       0.58      0.67      0.62       124\n",
      "                 early_blight       0.34      0.41      0.37       114\n",
      "                      healthy       0.54      0.63      0.58       131\n",
      "                  late_blight       0.31      0.14      0.19       124\n",
      "                    leaf_mold       0.60      0.56      0.58       117\n",
      "           septoria_leaf_spot       0.39      0.16      0.23       114\n",
      "                  target_spot       0.44      0.40      0.42       111\n",
      "          tomato_mosaic_virus       0.31      0.78      0.44        60\n",
      "tomato_yellow_leaf_curl_virus       0.58      0.55      0.57       121\n",
      "      two-spotted_spider_mite       0.44      0.44      0.44       124\n",
      "\n",
      "                     accuracy                           0.46      1140\n",
      "                    macro avg       0.45      0.47      0.44      1140\n",
      "                 weighted avg       0.46      0.46      0.44      1140\n",
      "\n",
      "[[83  7  8  1  0  7  2  1  8  7]\n",
      " [14 47  6 16  4  4  4  1 12  6]\n",
      " [ 0  3 82  4  6  0 23  4  0  9]\n",
      " [ 1 35 23 17  7  3  7 24  5  2]\n",
      " [ 7  7  4  4 65  2  5 14  5  4]\n",
      " [21  7  4  5 16 18  2 24  8  9]\n",
      " [14 16 10  3  1  3 44  2  4 14]\n",
      " [ 0  0  1  0  5  1  0 47  2  4]\n",
      " [ 2 14  1  3  3  5  1 10 67 15]\n",
      " [ 2  4 14  1  2  3 13 26  5 54]]\n"
     ]
    }
   ],
   "source": [
    "class_names = target.unique()\n",
    "print(classification_report(Ltest, y_pred, target_names=class_names))\n",
    "print(confusion_matrix(Ltest, y_pred))"
   ]
  },
  {
   "cell_type": "markdown",
   "id": "f125f7c4",
   "metadata": {},
   "source": [
    "# Decision Tree on blue channel"
   ]
  },
  {
   "cell_type": "code",
   "execution_count": 81,
   "id": "88bfbe14",
   "metadata": {},
   "outputs": [
    {
     "data": {
      "text/plain": [
       "0.3236842105263158"
      ]
     },
     "execution_count": 81,
     "metadata": {},
     "output_type": "execute_result"
    }
   ],
   "source": [
    "classifier_tree.fit(Ftrain, Ltrain)\n",
    "classifier_tree.score(Ftest,Ltest)"
   ]
  },
  {
   "cell_type": "code",
   "execution_count": 82,
   "id": "6e2c73b8",
   "metadata": {},
   "outputs": [
    {
     "name": "stdout",
     "output_type": "stream",
     "text": [
      "                               precision    recall  f1-score   support\n",
      "\n",
      "               bacterial_spot       0.38      0.40      0.39       124\n",
      "                 early_blight       0.17      0.18      0.18       114\n",
      "                      healthy       0.58      0.50      0.54       131\n",
      "                  late_blight       0.40      0.34      0.37       124\n",
      "                    leaf_mold       0.39      0.37      0.38       117\n",
      "           septoria_leaf_spot       0.21      0.25      0.23       114\n",
      "                  target_spot       0.20      0.19      0.19       111\n",
      "          tomato_mosaic_virus       0.17      0.13      0.15        60\n",
      "tomato_yellow_leaf_curl_virus       0.37      0.38      0.37       121\n",
      "      two-spotted_spider_mite       0.32      0.38      0.35       124\n",
      "\n",
      "                     accuracy                           0.33      1140\n",
      "                    macro avg       0.32      0.31      0.31      1140\n",
      "                 weighted avg       0.33      0.33      0.33      1140\n",
      "\n",
      "[[50 10  7  3  4 19  8  4 10  9]\n",
      " [17 21  6  8  5 13 15  2 17 10]\n",
      " [ 6  9 66 12  2  6 15  0  4 11]\n",
      " [ 7 13  4 42  9 14  5  5 10 15]\n",
      " [ 8 12  2 10 43 17  4  6  7  8]\n",
      " [16 13  4 11 17 28  7  4  7  7]\n",
      " [16 16 14  5  6  5 21  4  7 17]\n",
      " [ 3  2  2  6  7 13  5  8  5  9]\n",
      " [ 4 16  3  4  9 12  8  5 46 14]\n",
      " [ 3 13  6  5  8  4 17  8 13 47]]\n"
     ]
    }
   ],
   "source": [
    "y_predict = classifier_tree.fit(Ftrain, Ltrain).predict(Ftest)\n",
    "class_names = target.unique()\n",
    "print(classification_report(Ltest, y_predict, target_names=class_names))\n",
    "print(confusion_matrix(Ltest, y_predict))"
   ]
  },
  {
   "cell_type": "code",
   "execution_count": 83,
   "id": "8b69834b",
   "metadata": {},
   "outputs": [
    {
     "name": "stdout",
     "output_type": "stream",
     "text": [
      "3923.0569620132446\n"
     ]
    }
   ],
   "source": [
    "end_time = time.time()\n",
    "print(end_time - start_time)"
   ]
  }
 ],
 "metadata": {
  "kernelspec": {
   "display_name": "Python 3 (ipykernel)",
   "language": "python",
   "name": "python3"
  },
  "language_info": {
   "codemirror_mode": {
    "name": "ipython",
    "version": 3
   },
   "file_extension": ".py",
   "mimetype": "text/x-python",
   "name": "python",
   "nbconvert_exporter": "python",
   "pygments_lexer": "ipython3",
   "version": "3.9.12"
  }
 },
 "nbformat": 4,
 "nbformat_minor": 5
}
