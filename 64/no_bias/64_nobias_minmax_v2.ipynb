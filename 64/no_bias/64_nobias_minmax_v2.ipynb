{
 "cells": [
  {
   "cell_type": "code",
   "execution_count": 1,
   "id": "bcdb1517",
   "metadata": {},
   "outputs": [],
   "source": [
    "import numpy as np #importing numpy\n",
    "import pandas as pd #importing pandas\n",
    "import PIL #importing pillow for image processing\n",
    "from PIL import Image#importing image from pillow library\n",
    "import skimage#importing skimage library\n",
    "import os#importing os library\n",
    "import time#importing time library\n",
    "\n",
    "#Capture start time of the program\n",
    "start_time = time.time()"
   ]
  },
  {
   "cell_type": "code",
   "execution_count": 2,
   "id": "9ec45970",
   "metadata": {},
   "outputs": [],
   "source": [
    "#changing path\n",
    "os.chdir('D://DKIT//dissertation//Dataset_of_Tomato_Leaves//plantvillage//Preprocessed_data//64//no_bias_vector//')"
   ]
  },
  {
   "cell_type": "code",
   "execution_count": 3,
   "id": "ebe79cf6",
   "metadata": {},
   "outputs": [],
   "source": [
    "from sklearn.preprocessing import MinMaxScaler\n",
    "minmax = MinMaxScaler()"
   ]
  },
  {
   "cell_type": "markdown",
   "id": "e1e76605",
   "metadata": {},
   "source": [
    "# RGB Data"
   ]
  },
  {
   "cell_type": "code",
   "execution_count": 4,
   "id": "9386938c",
   "metadata": {},
   "outputs": [],
   "source": [
    "#reading numpy array data\n",
    "rgb_test = np.load('rgb_data.npy')\n",
    "#reading csv file\n",
    "rgb_df = pd.read_csv('rgb_data.csv')"
   ]
  },
  {
   "cell_type": "code",
   "execution_count": 5,
   "id": "40f528b5",
   "metadata": {},
   "outputs": [],
   "source": [
    "features = pd.DataFrame(rgb_test)"
   ]
  },
  {
   "cell_type": "code",
   "execution_count": 6,
   "id": "fdd9a1f6",
   "metadata": {},
   "outputs": [],
   "source": [
    "features = features.values"
   ]
  },
  {
   "cell_type": "code",
   "execution_count": 7,
   "id": "c6d5658c",
   "metadata": {},
   "outputs": [],
   "source": [
    "#assigning target\n",
    "target = rgb_df['disease']\n",
    "#splitting the data to 80 percent and 20 percent\n",
    "from sklearn.model_selection import train_test_split\n",
    "Ftrain,Ftest,Ltrain,Ltest=train_test_split(features,target, test_size=0.20, random_state=24)"
   ]
  },
  {
   "cell_type": "code",
   "execution_count": 8,
   "id": "c1415437",
   "metadata": {},
   "outputs": [],
   "source": [
    "Ftrain = minmax.fit_transform(Ftrain)\n",
    "Ftest = minmax.fit_transform(Ftest)"
   ]
  },
  {
   "cell_type": "code",
   "execution_count": 9,
   "id": "1fa0433e",
   "metadata": {},
   "outputs": [],
   "source": [
    "#importing classification report and confusion matrix\n",
    "from sklearn.metrics import classification_report, confusion_matrix"
   ]
  },
  {
   "cell_type": "markdown",
   "id": "d466ef5f",
   "metadata": {},
   "source": [
    "# SVM(poly) on RGB data"
   ]
  },
  {
   "cell_type": "code",
   "execution_count": 10,
   "id": "2427ed51",
   "metadata": {},
   "outputs": [
    {
     "name": "stdout",
     "output_type": "stream",
     "text": [
      "0.712280701754386\n"
     ]
    }
   ],
   "source": [
    "from sklearn.svm import SVC\n",
    "from sklearn.metrics import accuracy_score\n",
    "\n",
    "svm_poly = SVC(kernel='poly')\n",
    "svm_poly.fit(Ftrain,Ltrain)\n",
    "y_pred = svm_poly.predict(Ftest)\n",
    "print(accuracy_score(Ltest,y_pred))"
   ]
  },
  {
   "cell_type": "code",
   "execution_count": 11,
   "id": "bf286604",
   "metadata": {},
   "outputs": [
    {
     "name": "stdout",
     "output_type": "stream",
     "text": [
      "                               precision    recall  f1-score   support\n",
      "\n",
      "               bacterial_spot       0.60      0.87      0.71       115\n",
      "                 early_blight       0.63      0.43      0.51       120\n",
      "                      healthy       0.86      0.82      0.84       125\n",
      "                  late_blight       0.69      0.70      0.69       125\n",
      "                    leaf_mold       0.84      0.66      0.74       127\n",
      "           septoria_leaf_spot       0.65      0.68      0.66       117\n",
      "                  target_spot       0.70      0.70      0.70       115\n",
      "          tomato_mosaic_virus       0.86      0.69      0.76        54\n",
      "tomato_yellow_leaf_curl_virus       0.88      0.81      0.84       114\n",
      "      two-spotted_spider_mite       0.60      0.76      0.67       128\n",
      "\n",
      "                     accuracy                           0.71      1140\n",
      "                    macro avg       0.73      0.71      0.71      1140\n",
      "                 weighted avg       0.72      0.71      0.71      1140\n",
      "\n",
      "[[100   4   1   5   0   0   0   0   5   0]\n",
      " [ 30  52   2  12   4   2   6   0   1  11]\n",
      " [  5   4 103   1   1   0   8   0   0   3]\n",
      " [ 13   7   4  87   1   5   2   0   0   6]\n",
      " [  1   3   2  12  84  19   0   1   0   5]\n",
      " [  2   2   3   4   9  79   4   3   3   8]\n",
      " [  6   3   5   0   0   3  81   0   0  17]\n",
      " [  0   0   0   0   0   5   4  37   0   8]\n",
      " [  6   3   0   1   0   5   1   0  92   6]\n",
      " [  4   4   0   4   1   3  10   2   3  97]]\n"
     ]
    }
   ],
   "source": [
    "#classification report\n",
    "y_predict = svm_poly.fit(Ftrain, Ltrain).predict(Ftest)\n",
    "class_names = target.unique()\n",
    "print(classification_report(Ltest, y_predict, target_names=class_names))\n",
    "print(confusion_matrix(Ltest, y_predict))"
   ]
  },
  {
   "cell_type": "markdown",
   "id": "4101cb88",
   "metadata": {},
   "source": [
    "# SVM(RBF) on RGB data"
   ]
  },
  {
   "cell_type": "code",
   "execution_count": 12,
   "id": "235aaf3a",
   "metadata": {},
   "outputs": [
    {
     "name": "stdout",
     "output_type": "stream",
     "text": [
      "0.7324561403508771\n"
     ]
    }
   ],
   "source": [
    "svm_rbf = SVC(kernel='rbf')\n",
    "svm_rbf.fit(Ftrain,Ltrain)\n",
    "y_pred = svm_rbf.predict(Ftest)\n",
    "print(accuracy_score(Ltest,y_pred))"
   ]
  },
  {
   "cell_type": "code",
   "execution_count": 13,
   "id": "1c7ce3a6",
   "metadata": {},
   "outputs": [
    {
     "name": "stdout",
     "output_type": "stream",
     "text": [
      "                               precision    recall  f1-score   support\n",
      "\n",
      "               bacterial_spot       0.78      0.81      0.79       115\n",
      "                 early_blight       0.58      0.47      0.52       120\n",
      "                      healthy       0.95      0.83      0.89       125\n",
      "                  late_blight       0.68      0.80      0.73       125\n",
      "                    leaf_mold       0.91      0.66      0.77       127\n",
      "           septoria_leaf_spot       0.59      0.73      0.65       117\n",
      "                  target_spot       0.67      0.71      0.69       115\n",
      "          tomato_mosaic_virus       0.78      0.59      0.67        54\n",
      "tomato_yellow_leaf_curl_virus       0.86      0.85      0.85       114\n",
      "      two-spotted_spider_mite       0.66      0.79      0.72       128\n",
      "\n",
      "                     accuracy                           0.73      1140\n",
      "                    macro avg       0.75      0.72      0.73      1140\n",
      "                 weighted avg       0.74      0.73      0.73      1140\n",
      "\n",
      "[[ 93   4   1   4   0   2   2   0   8   1]\n",
      " [ 19  57   2  13   3   6   9   0   0  11]\n",
      " [  0   0 104   5   0   1  12   0   0   3]\n",
      " [  2  10   1 100   1   7   1   0   1   2]\n",
      " [  0   4   1   7  84  22   2   2   0   5]\n",
      " [  1   2   1   7   4  85   5   3   5   4]\n",
      " [  0  10   0   3   0   6  82   0   0  14]\n",
      " [  0   2   0   1   0  10   2  32   0   7]\n",
      " [  1   3   0   6   0   1   0   1  97   5]\n",
      " [  3   6   0   2   0   4   7   3   2 101]]\n"
     ]
    }
   ],
   "source": [
    "#classification report\n",
    "y_predict = svm_rbf.fit(Ftrain, Ltrain).predict(Ftest)\n",
    "class_names = target.unique()\n",
    "print(classification_report(Ltest, y_predict, target_names=class_names))\n",
    "print(confusion_matrix(Ltest, y_predict))"
   ]
  },
  {
   "cell_type": "markdown",
   "id": "670ea3cc",
   "metadata": {},
   "source": [
    "# SVM(sigmoid) on RGB data"
   ]
  },
  {
   "cell_type": "code",
   "execution_count": 14,
   "id": "8aaf1a20",
   "metadata": {},
   "outputs": [
    {
     "name": "stdout",
     "output_type": "stream",
     "text": [
      "The history saving thread hit an unexpected error (OperationalError('database is locked')).History will not be written to the database.\n",
      "0.1\n"
     ]
    }
   ],
   "source": [
    "svm_si = SVC(kernel='sigmoid')\n",
    "svm_si.fit(Ftrain,Ltrain)\n",
    "y_pred = svm_si.predict(Ftest)\n",
    "print(accuracy_score(Ltest,y_pred))"
   ]
  },
  {
   "cell_type": "code",
   "execution_count": 15,
   "id": "9beeb8fa",
   "metadata": {},
   "outputs": [
    {
     "name": "stdout",
     "output_type": "stream",
     "text": [
      "                               precision    recall  f1-score   support\n",
      "\n",
      "               bacterial_spot       0.00      0.00      0.00       115\n",
      "                 early_blight       0.00      0.00      0.00       120\n",
      "                      healthy       0.00      0.00      0.00       125\n",
      "                  late_blight       0.00      0.00      0.00       125\n",
      "                    leaf_mold       0.00      0.00      0.00       127\n",
      "           septoria_leaf_spot       0.00      0.00      0.00       117\n",
      "                  target_spot       0.00      0.00      0.00       115\n",
      "          tomato_mosaic_virus       0.00      0.00      0.00        54\n",
      "tomato_yellow_leaf_curl_virus       0.10      1.00      0.18       114\n",
      "      two-spotted_spider_mite       0.00      0.00      0.00       128\n",
      "\n",
      "                     accuracy                           0.10      1140\n",
      "                    macro avg       0.01      0.10      0.02      1140\n",
      "                 weighted avg       0.01      0.10      0.02      1140\n",
      "\n",
      "[[  0   0   0   0   0   0   0   0 115   0]\n",
      " [  0   0   0   0   0   0   0   0 120   0]\n",
      " [  0   0   0   0   0   0   0   0 125   0]\n",
      " [  0   0   0   0   0   4   0   0 121   0]\n",
      " [  0   0   0   0   0   0   0   0 127   0]\n",
      " [  0   0   0   0   0   0   0   0 117   0]\n",
      " [  0   0   0   0   0   0   0   0 115   0]\n",
      " [  0   0   0   0   0   0   0   0  54   0]\n",
      " [  0   0   0   0   0   0   0   0 114   0]\n",
      " [  0   0   0   0   0   0   0   0 128   0]]\n"
     ]
    },
    {
     "name": "stderr",
     "output_type": "stream",
     "text": [
      "C:\\Users\\ravic\\anaconda3\\lib\\site-packages\\sklearn\\metrics\\_classification.py:1248: UndefinedMetricWarning: Precision and F-score are ill-defined and being set to 0.0 in labels with no predicted samples. Use `zero_division` parameter to control this behavior.\n",
      "  _warn_prf(average, modifier, msg_start, len(result))\n",
      "C:\\Users\\ravic\\anaconda3\\lib\\site-packages\\sklearn\\metrics\\_classification.py:1248: UndefinedMetricWarning: Precision and F-score are ill-defined and being set to 0.0 in labels with no predicted samples. Use `zero_division` parameter to control this behavior.\n",
      "  _warn_prf(average, modifier, msg_start, len(result))\n",
      "C:\\Users\\ravic\\anaconda3\\lib\\site-packages\\sklearn\\metrics\\_classification.py:1248: UndefinedMetricWarning: Precision and F-score are ill-defined and being set to 0.0 in labels with no predicted samples. Use `zero_division` parameter to control this behavior.\n",
      "  _warn_prf(average, modifier, msg_start, len(result))\n"
     ]
    }
   ],
   "source": [
    "#classification report\n",
    "y_predict = svm_si.fit(Ftrain, Ltrain).predict(Ftest)\n",
    "class_names = target.unique()\n",
    "print(classification_report(Ltest, y_predict, target_names=class_names))\n",
    "print(confusion_matrix(Ltest, y_predict))"
   ]
  },
  {
   "cell_type": "markdown",
   "id": "f985c500",
   "metadata": {},
   "source": [
    "# Bernouli Naive bayes on RGB data"
   ]
  },
  {
   "cell_type": "code",
   "execution_count": 16,
   "id": "75a3f18f",
   "metadata": {},
   "outputs": [
    {
     "data": {
      "text/plain": [
       "0.2824561403508772"
      ]
     },
     "execution_count": 16,
     "metadata": {},
     "output_type": "execute_result"
    }
   ],
   "source": [
    "from sklearn.naive_bayes import BernoulliNB\n",
    "from sklearn import metrics\n",
    "bnb = BernoulliNB()\n",
    "bnb.fit(Ftrain, Ltrain)\n",
    "y_pred = bnb.predict(Ftest)\n",
    "metrics.accuracy_score(Ltest, y_pred)"
   ]
  },
  {
   "cell_type": "code",
   "execution_count": 17,
   "id": "694c01aa",
   "metadata": {},
   "outputs": [
    {
     "name": "stdout",
     "output_type": "stream",
     "text": [
      "                               precision    recall  f1-score   support\n",
      "\n",
      "               bacterial_spot       0.19      0.96      0.31       115\n",
      "                 early_blight       0.48      0.21      0.29       120\n",
      "                      healthy       0.31      0.18      0.23       125\n",
      "                  late_blight       1.00      0.03      0.06       125\n",
      "                    leaf_mold       0.45      0.20      0.27       127\n",
      "           septoria_leaf_spot       0.42      0.09      0.14       117\n",
      "                  target_spot       0.34      0.17      0.22       115\n",
      "          tomato_mosaic_virus       0.43      0.06      0.10        54\n",
      "tomato_yellow_leaf_curl_virus       0.45      0.54      0.49       114\n",
      "      two-spotted_spider_mite       0.30      0.33      0.31       128\n",
      "\n",
      "                     accuracy                           0.28      1140\n",
      "                    macro avg       0.44      0.27      0.24      1140\n",
      "                 weighted avg       0.44      0.28      0.25      1140\n",
      "\n",
      "[[110   0   1   0   1   1   0   0   0   2]\n",
      " [ 48  25  11   0   6   1   2   0  17  10]\n",
      " [ 69   4  23   0   7   3   6   0   0  13]\n",
      " [ 86   9   2   4   3   0   0   1  14   6]\n",
      " [ 59   4   5   0  25   2   4   1  16  11]\n",
      " [ 59   4   5   0  11  10   5   2   6  15]\n",
      " [ 63   2   9   0   2   2  19   0   6  12]\n",
      " [ 28   1   4   0   0   0   6   3   4   8]\n",
      " [ 23   0   2   0   0   4   3   0  61  21]\n",
      " [ 48   3  12   0   0   1  11   0  11  42]]\n"
     ]
    }
   ],
   "source": [
    "class_names = target.unique()\n",
    "print(classification_report(Ltest, y_pred, target_names=class_names))\n",
    "print(confusion_matrix(Ltest, y_pred))"
   ]
  },
  {
   "cell_type": "markdown",
   "id": "67dd930c",
   "metadata": {},
   "source": [
    "# Multinomial Naive bayes on RGB data"
   ]
  },
  {
   "cell_type": "code",
   "execution_count": 18,
   "id": "3b80acde",
   "metadata": {},
   "outputs": [
    {
     "data": {
      "text/plain": [
       "0.2824561403508772"
      ]
     },
     "execution_count": 18,
     "metadata": {},
     "output_type": "execute_result"
    }
   ],
   "source": [
    "from sklearn.naive_bayes import MultinomialNB\n",
    "mnb = BernoulliNB()\n",
    "mnb.fit(Ftrain, Ltrain)\n",
    "y_pred = mnb.predict(Ftest)\n",
    "metrics.accuracy_score(Ltest, y_pred)"
   ]
  },
  {
   "cell_type": "code",
   "execution_count": 19,
   "id": "d6ed705b",
   "metadata": {},
   "outputs": [
    {
     "name": "stdout",
     "output_type": "stream",
     "text": [
      "                               precision    recall  f1-score   support\n",
      "\n",
      "               bacterial_spot       0.19      0.96      0.31       115\n",
      "                 early_blight       0.48      0.21      0.29       120\n",
      "                      healthy       0.31      0.18      0.23       125\n",
      "                  late_blight       1.00      0.03      0.06       125\n",
      "                    leaf_mold       0.45      0.20      0.27       127\n",
      "           septoria_leaf_spot       0.42      0.09      0.14       117\n",
      "                  target_spot       0.34      0.17      0.22       115\n",
      "          tomato_mosaic_virus       0.43      0.06      0.10        54\n",
      "tomato_yellow_leaf_curl_virus       0.45      0.54      0.49       114\n",
      "      two-spotted_spider_mite       0.30      0.33      0.31       128\n",
      "\n",
      "                     accuracy                           0.28      1140\n",
      "                    macro avg       0.44      0.27      0.24      1140\n",
      "                 weighted avg       0.44      0.28      0.25      1140\n",
      "\n",
      "[[110   0   1   0   1   1   0   0   0   2]\n",
      " [ 48  25  11   0   6   1   2   0  17  10]\n",
      " [ 69   4  23   0   7   3   6   0   0  13]\n",
      " [ 86   9   2   4   3   0   0   1  14   6]\n",
      " [ 59   4   5   0  25   2   4   1  16  11]\n",
      " [ 59   4   5   0  11  10   5   2   6  15]\n",
      " [ 63   2   9   0   2   2  19   0   6  12]\n",
      " [ 28   1   4   0   0   0   6   3   4   8]\n",
      " [ 23   0   2   0   0   4   3   0  61  21]\n",
      " [ 48   3  12   0   0   1  11   0  11  42]]\n"
     ]
    }
   ],
   "source": [
    "class_names = target.unique()\n",
    "print(classification_report(Ltest, y_pred, target_names=class_names))\n",
    "print(confusion_matrix(Ltest, y_pred))"
   ]
  },
  {
   "cell_type": "markdown",
   "id": "0e8f617d",
   "metadata": {},
   "source": [
    "# Grayscale data"
   ]
  },
  {
   "cell_type": "code",
   "execution_count": 20,
   "id": "57a9845e",
   "metadata": {},
   "outputs": [],
   "source": [
    "#reading numpy array data\n",
    "gray_test = np.load('gray_test.npy')\n",
    "#reading csv file\n",
    "gray_df = pd.read_csv('gray_data.csv')"
   ]
  },
  {
   "cell_type": "code",
   "execution_count": 21,
   "id": "d3abef95",
   "metadata": {},
   "outputs": [],
   "source": [
    "#assigning features and target to split the data\n",
    "features = pd.DataFrame(gray_test)\n",
    "features = features.values\n",
    "target = gray_df['disease']"
   ]
  },
  {
   "cell_type": "code",
   "execution_count": 22,
   "id": "a86eb99c",
   "metadata": {},
   "outputs": [],
   "source": [
    "#splitting the data to train and test\n",
    "Ftrain,Ftest,Ltrain,Ltest=train_test_split(features,target, test_size=0.20, random_state=24)"
   ]
  },
  {
   "cell_type": "code",
   "execution_count": 23,
   "id": "01626fe0",
   "metadata": {},
   "outputs": [],
   "source": [
    "Ftrain = minmax.fit_transform(Ftrain)\n",
    "Ftest = minmax.fit_transform(Ftest)"
   ]
  },
  {
   "cell_type": "markdown",
   "id": "8bfc6d84",
   "metadata": {},
   "source": [
    "# SVM(poly) on grayscale data"
   ]
  },
  {
   "cell_type": "code",
   "execution_count": 24,
   "id": "c9665abf",
   "metadata": {},
   "outputs": [
    {
     "name": "stdout",
     "output_type": "stream",
     "text": [
      "0.4675438596491228\n"
     ]
    }
   ],
   "source": [
    "svm_poly.fit(Ftrain,Ltrain)\n",
    "y_pred = svm_poly.predict(Ftest)\n",
    "print(accuracy_score(Ltest,y_pred))"
   ]
  },
  {
   "cell_type": "code",
   "execution_count": 25,
   "id": "2456eda7",
   "metadata": {},
   "outputs": [
    {
     "name": "stdout",
     "output_type": "stream",
     "text": [
      "                               precision    recall  f1-score   support\n",
      "\n",
      "               bacterial_spot       0.42      0.63      0.50       115\n",
      "                 early_blight       0.46      0.32      0.37       120\n",
      "                      healthy       0.56      0.66      0.61       125\n",
      "                  late_blight       0.52      0.46      0.49       125\n",
      "                    leaf_mold       0.62      0.38      0.47       127\n",
      "           septoria_leaf_spot       0.34      0.33      0.34       117\n",
      "                  target_spot       0.38      0.57      0.46       115\n",
      "          tomato_mosaic_virus       0.48      0.24      0.32        54\n",
      "tomato_yellow_leaf_curl_virus       0.59      0.39      0.47       114\n",
      "      two-spotted_spider_mite       0.46      0.56      0.51       128\n",
      "\n",
      "                     accuracy                           0.47      1140\n",
      "                    macro avg       0.48      0.45      0.45      1140\n",
      "                 weighted avg       0.48      0.47      0.46      1140\n",
      "\n",
      "[[72  7  8  4  2  6 11  0  2  3]\n",
      " [26 38  3  6  6  3 21  1  5 11]\n",
      " [10  1 83  3  1 10  8  0  2  7]\n",
      " [13 11 14 58  6 10  3  1  3  6]\n",
      " [ 4  8  8 18 48 12  9  5  8  7]\n",
      " [10  2 17 10  8 39 17  0  5  9]\n",
      " [ 9  3  7  1  1  7 66  0  0 21]\n",
      " [ 3  1  2  3  1  9 12 13  3  7]\n",
      " [16  6  5  7  2 11  6  3 44 14]\n",
      " [ 8  6  2  1  3  8 21  4  3 72]]\n"
     ]
    }
   ],
   "source": [
    "#classification report\n",
    "y_predict = svm_poly.fit(Ftrain, Ltrain).predict(Ftest)\n",
    "class_names = target.unique()\n",
    "print(classification_report(Ltest, y_predict, target_names=class_names))\n",
    "print(confusion_matrix(Ltest, y_predict))"
   ]
  },
  {
   "cell_type": "markdown",
   "id": "bd417df9",
   "metadata": {},
   "source": [
    "# SVM(RBF) on grayscale data"
   ]
  },
  {
   "cell_type": "code",
   "execution_count": 26,
   "id": "67772464",
   "metadata": {},
   "outputs": [
    {
     "name": "stdout",
     "output_type": "stream",
     "text": [
      "0.5570175438596491\n"
     ]
    }
   ],
   "source": [
    "svm_rbf.fit(Ftrain,Ltrain)\n",
    "y_pred = svm_rbf.predict(Ftest)\n",
    "print(accuracy_score(Ltest,y_pred))"
   ]
  },
  {
   "cell_type": "code",
   "execution_count": 27,
   "id": "34bbfd97",
   "metadata": {},
   "outputs": [
    {
     "name": "stdout",
     "output_type": "stream",
     "text": [
      "                               precision    recall  f1-score   support\n",
      "\n",
      "               bacterial_spot       0.70      0.55      0.61       115\n",
      "                 early_blight       0.44      0.35      0.39       120\n",
      "                      healthy       0.66      0.72      0.69       125\n",
      "                  late_blight       0.53      0.70      0.60       125\n",
      "                    leaf_mold       0.70      0.46      0.55       127\n",
      "           septoria_leaf_spot       0.43      0.59      0.50       117\n",
      "                  target_spot       0.49      0.62      0.55       115\n",
      "          tomato_mosaic_virus       0.46      0.31      0.37        54\n",
      "tomato_yellow_leaf_curl_virus       0.61      0.46      0.52       114\n",
      "      two-spotted_spider_mite       0.60      0.67      0.63       128\n",
      "\n",
      "                     accuracy                           0.56      1140\n",
      "                    macro avg       0.56      0.54      0.54      1140\n",
      "                 weighted avg       0.57      0.56      0.55      1140\n",
      "\n",
      "[[63  6 13  6  3  5  8  1  7  3]\n",
      " [16 42  2 13  7  7 15  4  3 11]\n",
      " [ 0  0 90  7  1  9 14  0  2  2]\n",
      " [ 1  7  6 87  3 12  3  0  3  3]\n",
      " [ 3  4  6 19 58 17  6  4  6  4]\n",
      " [ 0  3 13 11  5 69  7  2  5  2]\n",
      " [ 0 10  2  9  0 10 71  0  0 13]\n",
      " [ 0  2  1  0  1 17  2 17  5  9]\n",
      " [ 5 10  4 13  4  7  4  4 52 11]\n",
      " [ 2 11  0  0  1  7 14  5  2 86]]\n"
     ]
    }
   ],
   "source": [
    "#classification report\n",
    "y_predict = svm_rbf.fit(Ftrain, Ltrain).predict(Ftest)\n",
    "class_names = target.unique()\n",
    "print(classification_report(Ltest, y_predict, target_names=class_names))\n",
    "print(confusion_matrix(Ltest, y_predict))"
   ]
  },
  {
   "cell_type": "markdown",
   "id": "c1ed23e8",
   "metadata": {},
   "source": [
    "# SVM(sigmoid) on Grayscale data"
   ]
  },
  {
   "cell_type": "code",
   "execution_count": 28,
   "id": "b79e8630",
   "metadata": {},
   "outputs": [
    {
     "name": "stdout",
     "output_type": "stream",
     "text": [
      "0.07894736842105263\n"
     ]
    }
   ],
   "source": [
    "svm_si.fit(Ftrain,Ltrain)\n",
    "y_pred = svm_si.predict(Ftest)\n",
    "print(accuracy_score(Ltest,y_pred))"
   ]
  },
  {
   "cell_type": "code",
   "execution_count": 29,
   "id": "c64cd0a6",
   "metadata": {},
   "outputs": [
    {
     "name": "stdout",
     "output_type": "stream",
     "text": [
      "                               precision    recall  f1-score   support\n",
      "\n",
      "               bacterial_spot       0.05      0.34      0.08       115\n",
      "                 early_blight       0.00      0.00      0.00       120\n",
      "                      healthy       0.00      0.00      0.00       125\n",
      "                  late_blight       0.00      0.00      0.00       125\n",
      "                    leaf_mold       0.00      0.00      0.00       127\n",
      "           septoria_leaf_spot       0.00      0.00      0.00       117\n",
      "                  target_spot       0.00      0.00      0.00       115\n",
      "          tomato_mosaic_virus       0.00      0.00      0.00        54\n",
      "tomato_yellow_leaf_curl_virus       0.15      0.45      0.23       114\n",
      "      two-spotted_spider_mite       0.00      0.00      0.00       128\n",
      "\n",
      "                     accuracy                           0.08      1140\n",
      "                    macro avg       0.02      0.08      0.03      1140\n",
      "                 weighted avg       0.02      0.08      0.03      1140\n",
      "\n",
      "[[ 39   0   0   0   0   0   0   0  76   0]\n",
      " [ 52   0   0   0   0   0   0   0  68   0]\n",
      " [124   0   0   0   0   0   0   0   1   0]\n",
      " [105   0   0   0   0   4   0   0  16   0]\n",
      " [ 96   0   0   0   0   0   0   0  31   0]\n",
      " [110   0   0   0   0   0   0   0   7   0]\n",
      " [ 94   0   0   0   0   0   0   0  21   0]\n",
      " [ 43   0   0   0   0   0   0   0  11   0]\n",
      " [ 63   0   0   0   0   0   0   0  51   0]\n",
      " [ 80   0   0   0   0   0   0   0  48   0]]\n"
     ]
    },
    {
     "name": "stderr",
     "output_type": "stream",
     "text": [
      "C:\\Users\\ravic\\anaconda3\\lib\\site-packages\\sklearn\\metrics\\_classification.py:1248: UndefinedMetricWarning: Precision and F-score are ill-defined and being set to 0.0 in labels with no predicted samples. Use `zero_division` parameter to control this behavior.\n",
      "  _warn_prf(average, modifier, msg_start, len(result))\n",
      "C:\\Users\\ravic\\anaconda3\\lib\\site-packages\\sklearn\\metrics\\_classification.py:1248: UndefinedMetricWarning: Precision and F-score are ill-defined and being set to 0.0 in labels with no predicted samples. Use `zero_division` parameter to control this behavior.\n",
      "  _warn_prf(average, modifier, msg_start, len(result))\n",
      "C:\\Users\\ravic\\anaconda3\\lib\\site-packages\\sklearn\\metrics\\_classification.py:1248: UndefinedMetricWarning: Precision and F-score are ill-defined and being set to 0.0 in labels with no predicted samples. Use `zero_division` parameter to control this behavior.\n",
      "  _warn_prf(average, modifier, msg_start, len(result))\n"
     ]
    }
   ],
   "source": [
    "#classification report\n",
    "y_predict = svm_si.fit(Ftrain, Ltrain).predict(Ftest)\n",
    "class_names = target.unique()\n",
    "print(classification_report(Ltest, y_predict, target_names=class_names))\n",
    "print(confusion_matrix(Ltest, y_predict))"
   ]
  },
  {
   "cell_type": "markdown",
   "id": "8ba631c4",
   "metadata": {},
   "source": [
    "# Bernouli Naive bayes on grayscale data"
   ]
  },
  {
   "cell_type": "code",
   "execution_count": 30,
   "id": "f9c1d1df",
   "metadata": {},
   "outputs": [
    {
     "data": {
      "text/plain": [
       "0.11578947368421053"
      ]
     },
     "execution_count": 30,
     "metadata": {},
     "output_type": "execute_result"
    }
   ],
   "source": [
    "bnb.fit(Ftrain, Ltrain)\n",
    "y_pred = bnb.predict(Ftest)\n",
    "metrics.accuracy_score(Ltest, y_pred)"
   ]
  },
  {
   "cell_type": "code",
   "execution_count": 31,
   "id": "5349d0e6",
   "metadata": {},
   "outputs": [
    {
     "name": "stdout",
     "output_type": "stream",
     "text": [
      "                               precision    recall  f1-score   support\n",
      "\n",
      "               bacterial_spot       0.00      0.00      0.00       115\n",
      "                 early_blight       0.19      0.06      0.09       120\n",
      "                      healthy       0.09      0.02      0.03       125\n",
      "                  late_blight       1.00      0.02      0.05       125\n",
      "                    leaf_mold       0.19      0.04      0.07       127\n",
      "           septoria_leaf_spot       0.08      0.02      0.03       117\n",
      "                  target_spot       0.00      0.00      0.00       115\n",
      "          tomato_mosaic_virus       0.12      0.04      0.06        54\n",
      "tomato_yellow_leaf_curl_virus       0.11      0.96      0.20       114\n",
      "      two-spotted_spider_mite       0.12      0.01      0.01       128\n",
      "\n",
      "                     accuracy                           0.12      1140\n",
      "                    macro avg       0.19      0.12      0.05      1140\n",
      "                 weighted avg       0.20      0.12      0.05      1140\n",
      "\n",
      "[[  0   0   0   0   0   0   0   0 115   0]\n",
      " [  0   7   6   0   3   7   0   4  92   1]\n",
      " [  1   5   2   0   2   2   0   0 113   0]\n",
      " [  1   5   4   3   2   1   0   4 105   0]\n",
      " [  1   5   6   0   5   7   4   3  96   0]\n",
      " [  3   6   3   0   4   2   1   2  95   1]\n",
      " [  0   3   0   0   2   1   0   0 105   4]\n",
      " [  1   2   1   0   4   4   1   2  38   1]\n",
      " [  0   1   0   0   2   1   0   0 110   0]\n",
      " [  1   3   0   0   2   0   0   1 120   1]]\n"
     ]
    }
   ],
   "source": [
    "class_names = target.unique()\n",
    "print(classification_report(Ltest, y_pred, target_names=class_names))\n",
    "print(confusion_matrix(Ltest, y_pred))"
   ]
  },
  {
   "cell_type": "markdown",
   "id": "20b31faf",
   "metadata": {},
   "source": [
    "# Multinomial Naive bayes on Grayscale data"
   ]
  },
  {
   "cell_type": "code",
   "execution_count": 32,
   "id": "5bf3d424",
   "metadata": {},
   "outputs": [
    {
     "data": {
      "text/plain": [
       "0.11578947368421053"
      ]
     },
     "execution_count": 32,
     "metadata": {},
     "output_type": "execute_result"
    }
   ],
   "source": [
    "mnb.fit(Ftrain, Ltrain)\n",
    "y_pred = mnb.predict(Ftest)\n",
    "metrics.accuracy_score(Ltest, y_pred)"
   ]
  },
  {
   "cell_type": "code",
   "execution_count": 33,
   "id": "6ed85664",
   "metadata": {},
   "outputs": [
    {
     "name": "stdout",
     "output_type": "stream",
     "text": [
      "                               precision    recall  f1-score   support\n",
      "\n",
      "               bacterial_spot       0.00      0.00      0.00       115\n",
      "                 early_blight       0.19      0.06      0.09       120\n",
      "                      healthy       0.09      0.02      0.03       125\n",
      "                  late_blight       1.00      0.02      0.05       125\n",
      "                    leaf_mold       0.19      0.04      0.07       127\n",
      "           septoria_leaf_spot       0.08      0.02      0.03       117\n",
      "                  target_spot       0.00      0.00      0.00       115\n",
      "          tomato_mosaic_virus       0.12      0.04      0.06        54\n",
      "tomato_yellow_leaf_curl_virus       0.11      0.96      0.20       114\n",
      "      two-spotted_spider_mite       0.12      0.01      0.01       128\n",
      "\n",
      "                     accuracy                           0.12      1140\n",
      "                    macro avg       0.19      0.12      0.05      1140\n",
      "                 weighted avg       0.20      0.12      0.05      1140\n",
      "\n",
      "[[  0   0   0   0   0   0   0   0 115   0]\n",
      " [  0   7   6   0   3   7   0   4  92   1]\n",
      " [  1   5   2   0   2   2   0   0 113   0]\n",
      " [  1   5   4   3   2   1   0   4 105   0]\n",
      " [  1   5   6   0   5   7   4   3  96   0]\n",
      " [  3   6   3   0   4   2   1   2  95   1]\n",
      " [  0   3   0   0   2   1   0   0 105   4]\n",
      " [  1   2   1   0   4   4   1   2  38   1]\n",
      " [  0   1   0   0   2   1   0   0 110   0]\n",
      " [  1   3   0   0   2   0   0   1 120   1]]\n"
     ]
    }
   ],
   "source": [
    "class_names = target.unique()\n",
    "print(classification_report(Ltest, y_pred, target_names=class_names))\n",
    "print(confusion_matrix(Ltest, y_pred))"
   ]
  },
  {
   "cell_type": "markdown",
   "id": "6f5719a1",
   "metadata": {},
   "source": [
    "# Red Channel data"
   ]
  },
  {
   "cell_type": "code",
   "execution_count": 34,
   "id": "5f8b0e11",
   "metadata": {},
   "outputs": [],
   "source": [
    "#reading numpy array data\n",
    "red_test = np.load('red_data.npy')\n",
    "#reading csv file\n",
    "red_df = pd.read_csv('red_data.csv')\n",
    "#assigning features and target to split the data\n",
    "features = pd.DataFrame(red_test)\n",
    "features = features.values\n",
    "target = red_df['disease']\n",
    "#splitting the data to train and test\n",
    "Ftrain,Ftest,Ltrain,Ltest=train_test_split(features,target, test_size=0.20, random_state=24)"
   ]
  },
  {
   "cell_type": "code",
   "execution_count": 35,
   "id": "04272862",
   "metadata": {},
   "outputs": [],
   "source": [
    "Ftrain = minmax.fit_transform(Ftrain)\n",
    "Ftest = minmax.fit_transform(Ftest)"
   ]
  },
  {
   "cell_type": "markdown",
   "id": "c81dd4d2",
   "metadata": {},
   "source": [
    "# SVM(poly) on Red data"
   ]
  },
  {
   "cell_type": "code",
   "execution_count": 36,
   "id": "a9cb2e28",
   "metadata": {},
   "outputs": [
    {
     "name": "stdout",
     "output_type": "stream",
     "text": [
      "0.4956140350877193\n"
     ]
    }
   ],
   "source": [
    "svm_poly.fit(Ftrain,Ltrain)\n",
    "y_pred = svm_poly.predict(Ftest)\n",
    "print(accuracy_score(Ltest,y_pred))"
   ]
  },
  {
   "cell_type": "code",
   "execution_count": 37,
   "id": "35b2ceaf",
   "metadata": {},
   "outputs": [
    {
     "name": "stdout",
     "output_type": "stream",
     "text": [
      "                               precision    recall  f1-score   support\n",
      "\n",
      "               bacterial_spot       0.42      0.61      0.50       115\n",
      "                 early_blight       0.44      0.28      0.34       120\n",
      "                      healthy       0.66      0.71      0.69       125\n",
      "                  late_blight       0.54      0.50      0.52       125\n",
      "                    leaf_mold       0.70      0.49      0.58       127\n",
      "           septoria_leaf_spot       0.35      0.42      0.38       117\n",
      "                  target_spot       0.45      0.59      0.51       115\n",
      "          tomato_mosaic_virus       0.54      0.28      0.37        54\n",
      "tomato_yellow_leaf_curl_virus       0.55      0.34      0.42       114\n",
      "      two-spotted_spider_mite       0.46      0.60      0.52       128\n",
      "\n",
      "                     accuracy                           0.50      1140\n",
      "                    macro avg       0.51      0.48      0.48      1140\n",
      "                 weighted avg       0.51      0.50      0.49      1140\n",
      "\n",
      "[[70  9  6  6  1  8  7  0  5  3]\n",
      " [23 34  4  4  8  6 18  0  7 16]\n",
      " [10  1 89  1  2  7  5  0  2  8]\n",
      " [14 10  8 62  5 17  4  0  2  3]\n",
      " [ 5  4  7 20 62 11  5  3  5  5]\n",
      " [14  6  7 10  5 49 13  2  2  9]\n",
      " [ 9  2  5  1  0 11 68  0  0 19]\n",
      " [ 0  0  1  1  2  7  7 15  8 13]\n",
      " [15  5  7  9  3 10  6  4 39 16]\n",
      " [ 7  7  0  0  0 13 19  4  1 77]]\n"
     ]
    }
   ],
   "source": [
    "#classification report\n",
    "y_predict = svm_poly.fit(Ftrain, Ltrain).predict(Ftest)\n",
    "class_names = target.unique()\n",
    "print(classification_report(Ltest, y_predict, target_names=class_names))\n",
    "print(confusion_matrix(Ltest, y_predict))"
   ]
  },
  {
   "cell_type": "markdown",
   "id": "bcdfb873",
   "metadata": {},
   "source": [
    "# SVM(RBF) on Red data"
   ]
  },
  {
   "cell_type": "code",
   "execution_count": 38,
   "id": "5e806290",
   "metadata": {},
   "outputs": [
    {
     "name": "stdout",
     "output_type": "stream",
     "text": [
      "0.5631578947368421\n"
     ]
    }
   ],
   "source": [
    "svm_rbf.fit(Ftrain,Ltrain)\n",
    "y_pred = svm_rbf.predict(Ftest)\n",
    "print(accuracy_score(Ltest,y_pred))"
   ]
  },
  {
   "cell_type": "code",
   "execution_count": 39,
   "id": "e613add4",
   "metadata": {},
   "outputs": [
    {
     "name": "stdout",
     "output_type": "stream",
     "text": [
      "                               precision    recall  f1-score   support\n",
      "\n",
      "               bacterial_spot       0.66      0.54      0.59       115\n",
      "                 early_blight       0.46      0.38      0.42       120\n",
      "                      healthy       0.69      0.68      0.69       125\n",
      "                  late_blight       0.54      0.71      0.62       125\n",
      "                    leaf_mold       0.79      0.50      0.62       127\n",
      "           septoria_leaf_spot       0.44      0.65      0.53       117\n",
      "                  target_spot       0.50      0.56      0.53       115\n",
      "          tomato_mosaic_virus       0.54      0.37      0.44        54\n",
      "tomato_yellow_leaf_curl_virus       0.64      0.42      0.51       114\n",
      "      two-spotted_spider_mite       0.52      0.69      0.59       128\n",
      "\n",
      "                     accuracy                           0.56      1140\n",
      "                    macro avg       0.58      0.55      0.55      1140\n",
      "                 weighted avg       0.58      0.56      0.56      1140\n",
      "\n",
      "[[62  8 11  8  1  9  6  2  6  2]\n",
      " [18 46  2 13  5  7 13  1  4 11]\n",
      " [ 0  0 85  8  2 12 10  0  2  6]\n",
      " [ 1  8  5 89  1 14  2  0  3  2]\n",
      " [ 3  4  7 16 64 16  5  3  4  5]\n",
      " [ 0  4  7 10  5 76  9  1  1  4]\n",
      " [ 0 11  0  5  0  9 64  0  0 26]\n",
      " [ 0  1  0  0  1  8  2 20  6 16]\n",
      " [ 7  8  6 14  2 12  3  5 48  9]\n",
      " [ 3  9  0  1  0  8 13  5  1 88]]\n"
     ]
    }
   ],
   "source": [
    "#classification report\n",
    "y_predict = svm_rbf.fit(Ftrain, Ltrain).predict(Ftest)\n",
    "class_names = target.unique()\n",
    "print(classification_report(Ltest, y_predict, target_names=class_names))\n",
    "print(confusion_matrix(Ltest, y_predict))"
   ]
  },
  {
   "cell_type": "markdown",
   "id": "558a44ca",
   "metadata": {},
   "source": [
    "# SVM(sigmoid) on Red data"
   ]
  },
  {
   "cell_type": "code",
   "execution_count": 40,
   "id": "dfde7ca8",
   "metadata": {},
   "outputs": [
    {
     "name": "stdout",
     "output_type": "stream",
     "text": [
      "0.1\n"
     ]
    }
   ],
   "source": [
    "svm_si.fit(Ftrain,Ltrain)\n",
    "y_pred = svm_si.predict(Ftest)\n",
    "print(accuracy_score(Ltest,y_pred))"
   ]
  },
  {
   "cell_type": "code",
   "execution_count": 41,
   "id": "b58142f8",
   "metadata": {},
   "outputs": [
    {
     "name": "stdout",
     "output_type": "stream",
     "text": [
      "                               precision    recall  f1-score   support\n",
      "\n",
      "               bacterial_spot       0.00      0.00      0.00       115\n",
      "                 early_blight       0.00      0.00      0.00       120\n",
      "                      healthy       0.00      0.00      0.00       125\n",
      "                  late_blight       0.00      0.00      0.00       125\n",
      "                    leaf_mold       0.00      0.00      0.00       127\n",
      "           septoria_leaf_spot       0.00      0.00      0.00       117\n",
      "                  target_spot       0.00      0.00      0.00       115\n",
      "          tomato_mosaic_virus       0.00      0.00      0.00        54\n",
      "tomato_yellow_leaf_curl_virus       0.10      1.00      0.18       114\n",
      "      two-spotted_spider_mite       0.00      0.00      0.00       128\n",
      "\n",
      "                     accuracy                           0.10      1140\n",
      "                    macro avg       0.01      0.10      0.02      1140\n",
      "                 weighted avg       0.01      0.10      0.02      1140\n",
      "\n",
      "[[  0   0   0   0   0   0   0   0 115   0]\n",
      " [  0   0   0   0   0   0   0   0 120   0]\n",
      " [  0   0   0   0   0   0   0   0 125   0]\n",
      " [  0   0   0   0   0   4   0   0 121   0]\n",
      " [  0   0   0   0   0   0   0   0 127   0]\n",
      " [  0   0   0   0   0   0   0   0 117   0]\n",
      " [  0   0   0   0   0   0   0   0 115   0]\n",
      " [  0   0   0   0   0   0   0   0  54   0]\n",
      " [  0   0   0   0   0   0   0   0 114   0]\n",
      " [  0   0   0   0   0   0   0   0 128   0]]\n"
     ]
    },
    {
     "name": "stderr",
     "output_type": "stream",
     "text": [
      "C:\\Users\\ravic\\anaconda3\\lib\\site-packages\\sklearn\\metrics\\_classification.py:1248: UndefinedMetricWarning: Precision and F-score are ill-defined and being set to 0.0 in labels with no predicted samples. Use `zero_division` parameter to control this behavior.\n",
      "  _warn_prf(average, modifier, msg_start, len(result))\n",
      "C:\\Users\\ravic\\anaconda3\\lib\\site-packages\\sklearn\\metrics\\_classification.py:1248: UndefinedMetricWarning: Precision and F-score are ill-defined and being set to 0.0 in labels with no predicted samples. Use `zero_division` parameter to control this behavior.\n",
      "  _warn_prf(average, modifier, msg_start, len(result))\n",
      "C:\\Users\\ravic\\anaconda3\\lib\\site-packages\\sklearn\\metrics\\_classification.py:1248: UndefinedMetricWarning: Precision and F-score are ill-defined and being set to 0.0 in labels with no predicted samples. Use `zero_division` parameter to control this behavior.\n",
      "  _warn_prf(average, modifier, msg_start, len(result))\n"
     ]
    }
   ],
   "source": [
    "#classification report\n",
    "y_predict = svm_si.fit(Ftrain, Ltrain).predict(Ftest)\n",
    "class_names = target.unique()\n",
    "print(classification_report(Ltest, y_predict, target_names=class_names))\n",
    "print(confusion_matrix(Ltest, y_predict))"
   ]
  },
  {
   "cell_type": "markdown",
   "id": "5a175c93",
   "metadata": {},
   "source": [
    "# Bernouli Naive bayes on Red data"
   ]
  },
  {
   "cell_type": "code",
   "execution_count": 42,
   "id": "d65fa897",
   "metadata": {},
   "outputs": [
    {
     "data": {
      "text/plain": [
       "0.13771929824561405"
      ]
     },
     "execution_count": 42,
     "metadata": {},
     "output_type": "execute_result"
    }
   ],
   "source": [
    "bnb.fit(Ftrain, Ltrain)\n",
    "y_pred = bnb.predict(Ftest)\n",
    "metrics.accuracy_score(Ltest, y_pred)"
   ]
  },
  {
   "cell_type": "code",
   "execution_count": 43,
   "id": "bdadbf8a",
   "metadata": {},
   "outputs": [
    {
     "name": "stdout",
     "output_type": "stream",
     "text": [
      "                               precision    recall  f1-score   support\n",
      "\n",
      "               bacterial_spot       0.13      0.99      0.22       115\n",
      "                 early_blight       0.29      0.04      0.07       120\n",
      "                      healthy       0.04      0.01      0.01       125\n",
      "                  late_blight       1.00      0.03      0.06       125\n",
      "                    leaf_mold       0.26      0.05      0.08       127\n",
      "           septoria_leaf_spot       0.12      0.02      0.03       117\n",
      "                  target_spot       0.22      0.06      0.10       115\n",
      "          tomato_mosaic_virus       0.17      0.07      0.10        54\n",
      "tomato_yellow_leaf_curl_virus       0.14      0.06      0.08       114\n",
      "      two-spotted_spider_mite       0.18      0.05      0.08       128\n",
      "\n",
      "                     accuracy                           0.14      1140\n",
      "                    macro avg       0.25      0.14      0.08      1140\n",
      "                 weighted avg       0.26      0.14      0.08      1140\n",
      "\n",
      "[[114   0   0   0   0   0   0   0   1   0]\n",
      " [ 90   5   3   0   4   4   3   5   4   2]\n",
      " [113   2   1   0   0   0   3   1   4   1]\n",
      " [107   2   6   4   0   1   0   2   2   1]\n",
      " [ 82   1   5   0   6   4   9   4   6  10]\n",
      " [ 94   1   1   0   4   2   1   4   5   5]\n",
      " [ 78   5   6   0   1   4   7   3   6   5]\n",
      " [ 25   1   4   0   4   1   6   4   6   3]\n",
      " [ 94   0   1   0   4   1   2   0   7   5]\n",
      " [108   0   1   0   0   0   1   1  10   7]]\n"
     ]
    }
   ],
   "source": [
    "class_names = target.unique()\n",
    "print(classification_report(Ltest, y_pred, target_names=class_names))\n",
    "print(confusion_matrix(Ltest, y_pred))"
   ]
  },
  {
   "cell_type": "markdown",
   "id": "39255a27",
   "metadata": {},
   "source": [
    "# Multinomial Naive bayes on Red data"
   ]
  },
  {
   "cell_type": "code",
   "execution_count": 44,
   "id": "437843bc",
   "metadata": {},
   "outputs": [
    {
     "data": {
      "text/plain": [
       "0.13771929824561405"
      ]
     },
     "execution_count": 44,
     "metadata": {},
     "output_type": "execute_result"
    }
   ],
   "source": [
    "mnb.fit(Ftrain, Ltrain)\n",
    "y_pred = mnb.predict(Ftest)\n",
    "metrics.accuracy_score(Ltest, y_pred)"
   ]
  },
  {
   "cell_type": "code",
   "execution_count": 45,
   "id": "2bcb0431",
   "metadata": {},
   "outputs": [
    {
     "name": "stdout",
     "output_type": "stream",
     "text": [
      "                               precision    recall  f1-score   support\n",
      "\n",
      "               bacterial_spot       0.13      0.99      0.22       115\n",
      "                 early_blight       0.29      0.04      0.07       120\n",
      "                      healthy       0.04      0.01      0.01       125\n",
      "                  late_blight       1.00      0.03      0.06       125\n",
      "                    leaf_mold       0.26      0.05      0.08       127\n",
      "           septoria_leaf_spot       0.12      0.02      0.03       117\n",
      "                  target_spot       0.22      0.06      0.10       115\n",
      "          tomato_mosaic_virus       0.17      0.07      0.10        54\n",
      "tomato_yellow_leaf_curl_virus       0.14      0.06      0.08       114\n",
      "      two-spotted_spider_mite       0.18      0.05      0.08       128\n",
      "\n",
      "                     accuracy                           0.14      1140\n",
      "                    macro avg       0.25      0.14      0.08      1140\n",
      "                 weighted avg       0.26      0.14      0.08      1140\n",
      "\n",
      "[[114   0   0   0   0   0   0   0   1   0]\n",
      " [ 90   5   3   0   4   4   3   5   4   2]\n",
      " [113   2   1   0   0   0   3   1   4   1]\n",
      " [107   2   6   4   0   1   0   2   2   1]\n",
      " [ 82   1   5   0   6   4   9   4   6  10]\n",
      " [ 94   1   1   0   4   2   1   4   5   5]\n",
      " [ 78   5   6   0   1   4   7   3   6   5]\n",
      " [ 25   1   4   0   4   1   6   4   6   3]\n",
      " [ 94   0   1   0   4   1   2   0   7   5]\n",
      " [108   0   1   0   0   0   1   1  10   7]]\n"
     ]
    }
   ],
   "source": [
    "class_names = target.unique()\n",
    "print(classification_report(Ltest, y_pred, target_names=class_names))\n",
    "print(confusion_matrix(Ltest, y_pred))"
   ]
  },
  {
   "cell_type": "markdown",
   "id": "11e4cd00",
   "metadata": {},
   "source": [
    "# Green channel data"
   ]
  },
  {
   "cell_type": "code",
   "execution_count": 46,
   "id": "40feb467",
   "metadata": {},
   "outputs": [],
   "source": [
    "#reading numpy array data\n",
    "green_test = np.load('green_data.npy')\n",
    "#reading csv file\n",
    "green_df = pd.read_csv('green_data.csv')\n",
    "#assigning features and target to split the data\n",
    "features = pd.DataFrame(green_test)\n",
    "features = features.values\n",
    "target = green_df['disease']\n",
    "#splitting the data to train and test\n",
    "Ftrain,Ftest,Ltrain,Ltest=train_test_split(features,target, test_size=0.20, random_state=24)"
   ]
  },
  {
   "cell_type": "code",
   "execution_count": 47,
   "id": "a2171acd",
   "metadata": {},
   "outputs": [],
   "source": [
    "Ftrain = minmax.fit_transform(Ftrain)\n",
    "Ftest = minmax.fit_transform(Ftest)"
   ]
  },
  {
   "cell_type": "markdown",
   "id": "9aa0bc22",
   "metadata": {},
   "source": [
    "# SVM(poly) on green data"
   ]
  },
  {
   "cell_type": "code",
   "execution_count": 48,
   "id": "fe39c65e",
   "metadata": {},
   "outputs": [
    {
     "name": "stdout",
     "output_type": "stream",
     "text": [
      "0.4570175438596491\n"
     ]
    }
   ],
   "source": [
    "svm_poly.fit(Ftrain,Ltrain)\n",
    "y_pred = svm_poly.predict(Ftest)\n",
    "print(accuracy_score(Ltest,y_pred))"
   ]
  },
  {
   "cell_type": "code",
   "execution_count": 49,
   "id": "8423b846",
   "metadata": {},
   "outputs": [
    {
     "name": "stdout",
     "output_type": "stream",
     "text": [
      "                               precision    recall  f1-score   support\n",
      "\n",
      "               bacterial_spot       0.40      0.56      0.47       115\n",
      "                 early_blight       0.48      0.33      0.39       120\n",
      "                      healthy       0.59      0.62      0.60       125\n",
      "                  late_blight       0.46      0.45      0.46       125\n",
      "                    leaf_mold       0.62      0.36      0.46       127\n",
      "           septoria_leaf_spot       0.33      0.36      0.34       117\n",
      "                  target_spot       0.37      0.57      0.45       115\n",
      "          tomato_mosaic_virus       0.44      0.15      0.22        54\n",
      "tomato_yellow_leaf_curl_virus       0.54      0.44      0.49       114\n",
      "      two-spotted_spider_mite       0.47      0.56      0.51       128\n",
      "\n",
      "                     accuracy                           0.46      1140\n",
      "                    macro avg       0.47      0.44      0.44      1140\n",
      "                 weighted avg       0.47      0.46      0.45      1140\n",
      "\n",
      "[[64  8  8  3  1  9  9  1  6  6]\n",
      " [31 40  3  6  6  0 18  1  5 10]\n",
      " [ 6  0 77  7  2 12 12  0  2  7]\n",
      " [ 7 15  7 56  5 18  3  0  6  8]\n",
      " [ 3  6  8 17 46 15 14  4  6  8]\n",
      " [ 8  1 15 14  6 42 19  1  5  6]\n",
      " [13  2  6  2  3  3 66  0  2 18]\n",
      " [ 4  1  1  5  2 12 10  8  4  7]\n",
      " [15  6  2  9  1 12  6  1 50 12]\n",
      " [ 9  5  4  2  2  5 21  2  6 72]]\n"
     ]
    }
   ],
   "source": [
    "#classification report\n",
    "y_predict = svm_poly.fit(Ftrain, Ltrain).predict(Ftest)\n",
    "class_names = target.unique()\n",
    "print(classification_report(Ltest, y_predict, target_names=class_names))\n",
    "print(confusion_matrix(Ltest, y_predict))"
   ]
  },
  {
   "cell_type": "markdown",
   "id": "6112d4e4",
   "metadata": {},
   "source": [
    "# SVM(RBF) on green data"
   ]
  },
  {
   "cell_type": "code",
   "execution_count": 50,
   "id": "69be936f",
   "metadata": {},
   "outputs": [
    {
     "name": "stdout",
     "output_type": "stream",
     "text": [
      "0.5412280701754386\n"
     ]
    }
   ],
   "source": [
    "svm_rbf.fit(Ftrain,Ltrain)\n",
    "y_pred = svm_rbf.predict(Ftest)\n",
    "print(accuracy_score(Ltest,y_pred))"
   ]
  },
  {
   "cell_type": "code",
   "execution_count": 51,
   "id": "81b4c571",
   "metadata": {},
   "outputs": [
    {
     "name": "stdout",
     "output_type": "stream",
     "text": [
      "                               precision    recall  f1-score   support\n",
      "\n",
      "               bacterial_spot       0.66      0.53      0.59       115\n",
      "                 early_blight       0.41      0.38      0.39       120\n",
      "                      healthy       0.71      0.66      0.68       125\n",
      "                  late_blight       0.53      0.62      0.57       125\n",
      "                    leaf_mold       0.72      0.44      0.55       127\n",
      "           septoria_leaf_spot       0.43      0.58      0.50       117\n",
      "                  target_spot       0.43      0.61      0.50       115\n",
      "          tomato_mosaic_virus       0.48      0.30      0.37        54\n",
      "tomato_yellow_leaf_curl_virus       0.56      0.50      0.53       114\n",
      "      two-spotted_spider_mite       0.58      0.66      0.62       128\n",
      "\n",
      "                     accuracy                           0.54      1140\n",
      "                    macro avg       0.55      0.53      0.53      1140\n",
      "                 weighted avg       0.56      0.54      0.54      1140\n",
      "\n",
      "[[61  5  8  3  3  5 11  0 13  6]\n",
      " [14 45  1 11  6  6 18  3  4 12]\n",
      " [ 0  1 82  8  1  7 22  0  2  2]\n",
      " [ 1  9  3 78  2 15  4  2  8  3]\n",
      " [ 5  7  5 21 56 14  6  4  4  5]\n",
      " [ 2  3  7 12  5 68  8  2  9  1]\n",
      " [ 0 14  3  7  1  7 70  0  0 13]\n",
      " [ 0  3  2  0  1 17  4 16  3  8]\n",
      " [ 7 10  4  7  2 10  4  3 57 10]\n",
      " [ 2 12  0  0  1  8 16  3  2 84]]\n"
     ]
    }
   ],
   "source": [
    "#classification report\n",
    "y_predict = svm_rbf.fit(Ftrain, Ltrain).predict(Ftest)\n",
    "class_names = target.unique()\n",
    "print(classification_report(Ltest, y_predict, target_names=class_names))\n",
    "print(confusion_matrix(Ltest, y_predict))"
   ]
  },
  {
   "cell_type": "markdown",
   "id": "662d1937",
   "metadata": {},
   "source": [
    "# SVM(sigmoid) on green data"
   ]
  },
  {
   "cell_type": "code",
   "execution_count": 52,
   "id": "7f6adcca",
   "metadata": {},
   "outputs": [
    {
     "name": "stdout",
     "output_type": "stream",
     "text": [
      "0.07894736842105263\n"
     ]
    }
   ],
   "source": [
    "svm_si.fit(Ftrain,Ltrain)\n",
    "y_pred = svm_si.predict(Ftest)\n",
    "print(accuracy_score(Ltest,y_pred))"
   ]
  },
  {
   "cell_type": "code",
   "execution_count": 53,
   "id": "251d68f3",
   "metadata": {},
   "outputs": [
    {
     "name": "stdout",
     "output_type": "stream",
     "text": [
      "                               precision    recall  f1-score   support\n",
      "\n",
      "               bacterial_spot       0.06      0.42      0.10       115\n",
      "                 early_blight       0.00      0.00      0.00       120\n",
      "                      healthy       0.00      0.00      0.00       125\n",
      "                  late_blight       0.00      0.00      0.00       125\n",
      "                    leaf_mold       0.00      0.00      0.00       127\n",
      "           septoria_leaf_spot       0.00      0.00      0.00       117\n",
      "                  target_spot       0.00      0.00      0.00       115\n",
      "          tomato_mosaic_virus       0.00      0.00      0.00        54\n",
      "tomato_yellow_leaf_curl_virus       0.15      0.37      0.21       114\n",
      "      two-spotted_spider_mite       0.00      0.00      0.00       128\n",
      "\n",
      "                     accuracy                           0.08      1140\n",
      "                    macro avg       0.02      0.08      0.03      1140\n",
      "                 weighted avg       0.02      0.08      0.03      1140\n",
      "\n",
      "[[ 48   0   0   0   0   0   0   0  67   0]\n",
      " [ 57   0   0   0   0   0   0   0  63   0]\n",
      " [125   0   0   0   0   0   0   0   0   0]\n",
      " [106   0   0   0   0   4   0   0  15   0]\n",
      " [101   0   0   0   0   0   0   0  26   0]\n",
      " [111   0   0   0   0   0   0   0   6   0]\n",
      " [100   0   0   0   0   0   0   0  15   0]\n",
      " [ 46   0   0   0   0   0   0   0   8   0]\n",
      " [ 72   0   0   0   0   0   0   0  42   0]\n",
      " [ 84   0   0   0   0   0   0   0  44   0]]\n"
     ]
    },
    {
     "name": "stderr",
     "output_type": "stream",
     "text": [
      "C:\\Users\\ravic\\anaconda3\\lib\\site-packages\\sklearn\\metrics\\_classification.py:1248: UndefinedMetricWarning: Precision and F-score are ill-defined and being set to 0.0 in labels with no predicted samples. Use `zero_division` parameter to control this behavior.\n",
      "  _warn_prf(average, modifier, msg_start, len(result))\n",
      "C:\\Users\\ravic\\anaconda3\\lib\\site-packages\\sklearn\\metrics\\_classification.py:1248: UndefinedMetricWarning: Precision and F-score are ill-defined and being set to 0.0 in labels with no predicted samples. Use `zero_division` parameter to control this behavior.\n",
      "  _warn_prf(average, modifier, msg_start, len(result))\n",
      "C:\\Users\\ravic\\anaconda3\\lib\\site-packages\\sklearn\\metrics\\_classification.py:1248: UndefinedMetricWarning: Precision and F-score are ill-defined and being set to 0.0 in labels with no predicted samples. Use `zero_division` parameter to control this behavior.\n",
      "  _warn_prf(average, modifier, msg_start, len(result))\n"
     ]
    }
   ],
   "source": [
    "#classification report\n",
    "y_predict = svm_si.fit(Ftrain, Ltrain).predict(Ftest)\n",
    "class_names = target.unique()\n",
    "print(classification_report(Ltest, y_predict, target_names=class_names))\n",
    "print(confusion_matrix(Ltest, y_predict))"
   ]
  },
  {
   "cell_type": "markdown",
   "id": "8aa412dd",
   "metadata": {},
   "source": [
    "# Bernouli Naive bayes on green data"
   ]
  },
  {
   "cell_type": "code",
   "execution_count": 54,
   "id": "b6622b8d",
   "metadata": {},
   "outputs": [
    {
     "data": {
      "text/plain": [
       "0.12894736842105264"
      ]
     },
     "execution_count": 54,
     "metadata": {},
     "output_type": "execute_result"
    }
   ],
   "source": [
    "bnb.fit(Ftrain, Ltrain)\n",
    "y_pred = bnb.predict(Ftest)\n",
    "metrics.accuracy_score(Ltest, y_pred)"
   ]
  },
  {
   "cell_type": "code",
   "execution_count": 55,
   "id": "f3c6b16f",
   "metadata": {},
   "outputs": [
    {
     "name": "stdout",
     "output_type": "stream",
     "text": [
      "                               precision    recall  f1-score   support\n",
      "\n",
      "               bacterial_spot       0.11      1.00      0.21       115\n",
      "                 early_blight       0.35      0.06      0.10       120\n",
      "                      healthy       0.36      0.04      0.07       125\n",
      "                  late_blight       1.00      0.02      0.05       125\n",
      "                    leaf_mold       0.43      0.07      0.12       127\n",
      "           septoria_leaf_spot       0.25      0.03      0.05       117\n",
      "                  target_spot       0.10      0.02      0.03       115\n",
      "          tomato_mosaic_virus       0.05      0.04      0.04        54\n",
      "tomato_yellow_leaf_curl_virus       0.00      0.00      0.00       114\n",
      "      two-spotted_spider_mite       0.12      0.01      0.01       128\n",
      "\n",
      "                     accuracy                           0.13      1140\n",
      "                    macro avg       0.28      0.13      0.07      1140\n",
      "                 weighted avg       0.30      0.13      0.07      1140\n",
      "\n",
      "[[115   0   0   0   0   0   0   0   0   0]\n",
      " [ 82   7   4   0   6   0   5  14   0   2]\n",
      " [112   2   5   0   2   1   3   0   0   0]\n",
      " [103   3   1   3   1   3   1   8   0   2]\n",
      " [ 98   2   1   0   9   3   4   8   1   1]\n",
      " [ 97   4   2   0   2   3   3   6   0   0]\n",
      " [111   0   0   0   1   0   2   0   0   1]\n",
      " [ 44   2   1   0   0   2   2   2   0   1]\n",
      " [114   0   0   0   0   0   0   0   0   0]\n",
      " [127   0   0   0   0   0   0   0   0   1]]\n"
     ]
    }
   ],
   "source": [
    "class_names = target.unique()\n",
    "print(classification_report(Ltest, y_pred, target_names=class_names))\n",
    "print(confusion_matrix(Ltest, y_pred))"
   ]
  },
  {
   "cell_type": "markdown",
   "id": "d144692e",
   "metadata": {},
   "source": [
    "# Multinomial Naive bayes on Green data"
   ]
  },
  {
   "cell_type": "code",
   "execution_count": 56,
   "id": "a7a34c33",
   "metadata": {},
   "outputs": [
    {
     "data": {
      "text/plain": [
       "0.12894736842105264"
      ]
     },
     "execution_count": 56,
     "metadata": {},
     "output_type": "execute_result"
    }
   ],
   "source": [
    "mnb.fit(Ftrain, Ltrain)\n",
    "y_pred = mnb.predict(Ftest)\n",
    "metrics.accuracy_score(Ltest, y_pred)"
   ]
  },
  {
   "cell_type": "code",
   "execution_count": 57,
   "id": "441ea45d",
   "metadata": {},
   "outputs": [
    {
     "name": "stdout",
     "output_type": "stream",
     "text": [
      "                               precision    recall  f1-score   support\n",
      "\n",
      "               bacterial_spot       0.11      1.00      0.21       115\n",
      "                 early_blight       0.35      0.06      0.10       120\n",
      "                      healthy       0.36      0.04      0.07       125\n",
      "                  late_blight       1.00      0.02      0.05       125\n",
      "                    leaf_mold       0.43      0.07      0.12       127\n",
      "           septoria_leaf_spot       0.25      0.03      0.05       117\n",
      "                  target_spot       0.10      0.02      0.03       115\n",
      "          tomato_mosaic_virus       0.05      0.04      0.04        54\n",
      "tomato_yellow_leaf_curl_virus       0.00      0.00      0.00       114\n",
      "      two-spotted_spider_mite       0.12      0.01      0.01       128\n",
      "\n",
      "                     accuracy                           0.13      1140\n",
      "                    macro avg       0.28      0.13      0.07      1140\n",
      "                 weighted avg       0.30      0.13      0.07      1140\n",
      "\n",
      "[[115   0   0   0   0   0   0   0   0   0]\n",
      " [ 82   7   4   0   6   0   5  14   0   2]\n",
      " [112   2   5   0   2   1   3   0   0   0]\n",
      " [103   3   1   3   1   3   1   8   0   2]\n",
      " [ 98   2   1   0   9   3   4   8   1   1]\n",
      " [ 97   4   2   0   2   3   3   6   0   0]\n",
      " [111   0   0   0   1   0   2   0   0   1]\n",
      " [ 44   2   1   0   0   2   2   2   0   1]\n",
      " [114   0   0   0   0   0   0   0   0   0]\n",
      " [127   0   0   0   0   0   0   0   0   1]]\n"
     ]
    }
   ],
   "source": [
    "class_names = target.unique()\n",
    "print(classification_report(Ltest, y_pred, target_names=class_names))\n",
    "print(confusion_matrix(Ltest, y_pred))"
   ]
  },
  {
   "cell_type": "markdown",
   "id": "a6a80ecb",
   "metadata": {},
   "source": [
    "# Blue channel data"
   ]
  },
  {
   "cell_type": "code",
   "execution_count": 58,
   "id": "06094596",
   "metadata": {},
   "outputs": [],
   "source": [
    "#reading numpy array data\n",
    "blue_test = np.load('blue_data.npy')\n",
    "#reading csv file\n",
    "blue_df = pd.read_csv('blue_data.csv')\n",
    "#assigning features and target to split the data\n",
    "features = pd.DataFrame(blue_test)\n",
    "features = features.values\n",
    "target = blue_df['disease']\n",
    "#splitting the data to train and test\n",
    "Ftrain,Ftest,Ltrain,Ltest=train_test_split(features,target, test_size=0.20, random_state=24)"
   ]
  },
  {
   "cell_type": "code",
   "execution_count": 59,
   "id": "5b51b26a",
   "metadata": {},
   "outputs": [],
   "source": [
    "Ftrain = minmax.fit_transform(Ftrain)\n",
    "Ftest = minmax.fit_transform(Ftest)"
   ]
  },
  {
   "cell_type": "markdown",
   "id": "4d40997b",
   "metadata": {},
   "source": [
    "# SVM(poly) on blue data"
   ]
  },
  {
   "cell_type": "code",
   "execution_count": 60,
   "id": "39b88095",
   "metadata": {},
   "outputs": [
    {
     "name": "stdout",
     "output_type": "stream",
     "text": [
      "0.5228070175438596\n"
     ]
    }
   ],
   "source": [
    "svm_poly.fit(Ftrain,Ltrain)\n",
    "y_pred = svm_poly.predict(Ftest)\n",
    "print(accuracy_score(Ltest,y_pred))"
   ]
  },
  {
   "cell_type": "code",
   "execution_count": 61,
   "id": "dc98d740",
   "metadata": {},
   "outputs": [
    {
     "name": "stdout",
     "output_type": "stream",
     "text": [
      "                               precision    recall  f1-score   support\n",
      "\n",
      "               bacterial_spot       0.46      0.70      0.55       115\n",
      "                 early_blight       0.38      0.38      0.38       120\n",
      "                      healthy       0.65      0.75      0.70       125\n",
      "                  late_blight       0.58      0.43      0.50       125\n",
      "                    leaf_mold       0.61      0.60      0.61       127\n",
      "           septoria_leaf_spot       0.37      0.43      0.40       117\n",
      "                  target_spot       0.45      0.46      0.46       115\n",
      "          tomato_mosaic_virus       0.46      0.46      0.46        54\n",
      "tomato_yellow_leaf_curl_virus       0.74      0.54      0.62       114\n",
      "      two-spotted_spider_mite       0.60      0.45      0.52       128\n",
      "\n",
      "                     accuracy                           0.52      1140\n",
      "                    macro avg       0.53      0.52      0.52      1140\n",
      "                 weighted avg       0.54      0.52      0.52      1140\n",
      "\n",
      "[[80  7  7  5  1  8  1  1  4  1]\n",
      " [22 45  4  9  9  8  9  1  6  7]\n",
      " [ 9  5 94  1  1  1 12  0  0  2]\n",
      " [ 8 16 22 54  9  9  3  1  0  3]\n",
      " [ 3  6  0  8 76 19  8  4  0  3]\n",
      " [ 8  6  4  5 16 50 12  8  3  5]\n",
      " [16 12 10  0  4 11 53  1  1  7]\n",
      " [ 0  0  1  4  5 10  3 25  2  4]\n",
      " [ 8 17  0  4  2 13  0  3 61  6]\n",
      " [20  6  3  3  1  6 16 10  5 58]]\n"
     ]
    }
   ],
   "source": [
    "#classification report\n",
    "y_predict = svm_poly.fit(Ftrain, Ltrain).predict(Ftest)\n",
    "class_names = target.unique()\n",
    "print(classification_report(Ltest, y_predict, target_names=class_names))\n",
    "print(confusion_matrix(Ltest, y_predict))"
   ]
  },
  {
   "cell_type": "markdown",
   "id": "5226f4f2",
   "metadata": {},
   "source": [
    "# SVM(RBF) on blue data"
   ]
  },
  {
   "cell_type": "code",
   "execution_count": 62,
   "id": "183a5680",
   "metadata": {},
   "outputs": [
    {
     "name": "stdout",
     "output_type": "stream",
     "text": [
      "0.6280701754385964\n"
     ]
    }
   ],
   "source": [
    "svm_rbf.fit(Ftrain,Ltrain)\n",
    "y_pred = svm_rbf.predict(Ftest)\n",
    "print(accuracy_score(Ltest,y_pred))"
   ]
  },
  {
   "cell_type": "code",
   "execution_count": 63,
   "id": "22270861",
   "metadata": {},
   "outputs": [
    {
     "name": "stdout",
     "output_type": "stream",
     "text": [
      "                               precision    recall  f1-score   support\n",
      "\n",
      "               bacterial_spot       0.66      0.79      0.72       115\n",
      "                 early_blight       0.49      0.46      0.47       120\n",
      "                      healthy       0.76      0.86      0.81       125\n",
      "                  late_blight       0.66      0.59      0.62       125\n",
      "                    leaf_mold       0.72      0.61      0.66       127\n",
      "           septoria_leaf_spot       0.55      0.56      0.55       117\n",
      "                  target_spot       0.47      0.58      0.52       115\n",
      "          tomato_mosaic_virus       0.57      0.61      0.59        54\n",
      "tomato_yellow_leaf_curl_virus       0.80      0.68      0.74       114\n",
      "      two-spotted_spider_mite       0.60      0.53      0.56       128\n",
      "\n",
      "                     accuracy                           0.63      1140\n",
      "                    macro avg       0.63      0.63      0.63      1140\n",
      "                 weighted avg       0.63      0.63      0.63      1140\n",
      "\n",
      "[[ 91   3   4   3   1   1   3   0   6   3]\n",
      " [ 16  55   7   8   3   7  13   1   3   7]\n",
      " [  0   2 107   3   0   0  12   0   0   1]\n",
      " [  3   9  11  74   5  10   6   4   2   1]\n",
      " [  1   3   0   8  77  18  10   3   0   7]\n",
      " [  4   4   1   7  12  66   7   7   4   5]\n",
      " [  5  14   8   2   5   7  67   0   0   7]\n",
      " [  0   1   0   2   3   6   2  33   1   6]\n",
      " [  8   9   1   4   0   3   2   1  78   8]\n",
      " [  9  12   1   1   1   3  20   9   4  68]]\n"
     ]
    }
   ],
   "source": [
    "#classification report\n",
    "y_predict = svm_rbf.fit(Ftrain, Ltrain).predict(Ftest)\n",
    "class_names = target.unique()\n",
    "print(classification_report(Ltest, y_predict, target_names=class_names))\n",
    "print(confusion_matrix(Ltest, y_predict))"
   ]
  },
  {
   "cell_type": "markdown",
   "id": "09f47e7e",
   "metadata": {},
   "source": [
    "# SVM(sigmoid) on blue data"
   ]
  },
  {
   "cell_type": "code",
   "execution_count": 64,
   "id": "4401c844",
   "metadata": {},
   "outputs": [
    {
     "name": "stdout",
     "output_type": "stream",
     "text": [
      "0.09298245614035087\n"
     ]
    }
   ],
   "source": [
    "svm_si.fit(Ftrain,Ltrain)\n",
    "y_pred = svm_si.predict(Ftest)\n",
    "print(accuracy_score(Ltest,y_pred))"
   ]
  },
  {
   "cell_type": "code",
   "execution_count": 65,
   "id": "4372e59f",
   "metadata": {},
   "outputs": [
    {
     "name": "stdout",
     "output_type": "stream",
     "text": [
      "                               precision    recall  f1-score   support\n",
      "\n",
      "               bacterial_spot       0.15      0.03      0.04       115\n",
      "                 early_blight       0.00      0.00      0.00       120\n",
      "                      healthy       0.00      0.00      0.00       125\n",
      "                  late_blight       0.00      0.00      0.00       125\n",
      "                    leaf_mold       0.00      0.00      0.00       127\n",
      "           septoria_leaf_spot       0.00      0.00      0.00       117\n",
      "                  target_spot       0.00      0.00      0.00       115\n",
      "          tomato_mosaic_virus       0.00      0.00      0.00        54\n",
      "tomato_yellow_leaf_curl_virus       0.09      0.90      0.17       114\n",
      "      two-spotted_spider_mite       0.00      0.00      0.00       128\n",
      "\n",
      "                     accuracy                           0.09      1140\n",
      "                    macro avg       0.02      0.09      0.02      1140\n",
      "                 weighted avg       0.02      0.09      0.02      1140\n",
      "\n",
      "[[  3   0   0   0   0   0   0   0 112   0]\n",
      " [  6   0   0   0   0   0   1   0 113   0]\n",
      " [  2   0   0   0   0   0   0   0 123   0]\n",
      " [  2   0   4   0   0   0   0   0 119   0]\n",
      " [  0   0   0   0   0   0   0   0 127   0]\n",
      " [  0   0   0   0   0   0   0   0 117   0]\n",
      " [  0   0   0   0   0   0   0   0 115   0]\n",
      " [  0   0   0   0   0   0   0   0  54   0]\n",
      " [  6   0   0   0   0   0   5   0 103   0]\n",
      " [  1   0   0   0   0   0   1   0 126   0]]\n"
     ]
    },
    {
     "name": "stderr",
     "output_type": "stream",
     "text": [
      "C:\\Users\\ravic\\anaconda3\\lib\\site-packages\\sklearn\\metrics\\_classification.py:1248: UndefinedMetricWarning: Precision and F-score are ill-defined and being set to 0.0 in labels with no predicted samples. Use `zero_division` parameter to control this behavior.\n",
      "  _warn_prf(average, modifier, msg_start, len(result))\n",
      "C:\\Users\\ravic\\anaconda3\\lib\\site-packages\\sklearn\\metrics\\_classification.py:1248: UndefinedMetricWarning: Precision and F-score are ill-defined and being set to 0.0 in labels with no predicted samples. Use `zero_division` parameter to control this behavior.\n",
      "  _warn_prf(average, modifier, msg_start, len(result))\n",
      "C:\\Users\\ravic\\anaconda3\\lib\\site-packages\\sklearn\\metrics\\_classification.py:1248: UndefinedMetricWarning: Precision and F-score are ill-defined and being set to 0.0 in labels with no predicted samples. Use `zero_division` parameter to control this behavior.\n",
      "  _warn_prf(average, modifier, msg_start, len(result))\n"
     ]
    }
   ],
   "source": [
    "#classification report\n",
    "y_predict = svm_si.fit(Ftrain, Ltrain).predict(Ftest)\n",
    "class_names = target.unique()\n",
    "print(classification_report(Ltest, y_predict, target_names=class_names))\n",
    "print(confusion_matrix(Ltest, y_predict))"
   ]
  },
  {
   "cell_type": "markdown",
   "id": "7401f4ab",
   "metadata": {},
   "source": [
    "# Bernouli Naive bayes on blue data"
   ]
  },
  {
   "cell_type": "code",
   "execution_count": 66,
   "id": "a8ddf84b",
   "metadata": {},
   "outputs": [
    {
     "data": {
      "text/plain": [
       "0.27631578947368424"
      ]
     },
     "execution_count": 66,
     "metadata": {},
     "output_type": "execute_result"
    }
   ],
   "source": [
    "bnb.fit(Ftrain, Ltrain)\n",
    "y_pred = bnb.predict(Ftest)\n",
    "metrics.accuracy_score(Ltest, y_pred)"
   ]
  },
  {
   "cell_type": "code",
   "execution_count": 67,
   "id": "944621bd",
   "metadata": {},
   "outputs": [
    {
     "name": "stdout",
     "output_type": "stream",
     "text": [
      "                               precision    recall  f1-score   support\n",
      "\n",
      "               bacterial_spot       0.19      0.95      0.32       115\n",
      "                 early_blight       0.35      0.18      0.24       120\n",
      "                      healthy       0.25      0.17      0.20       125\n",
      "                  late_blight       0.41      0.06      0.10       125\n",
      "                    leaf_mold       0.44      0.21      0.29       127\n",
      "           septoria_leaf_spot       0.38      0.08      0.13       117\n",
      "                  target_spot       0.35      0.18      0.24       115\n",
      "          tomato_mosaic_virus       0.10      0.06      0.07        54\n",
      "tomato_yellow_leaf_curl_virus       0.47      0.54      0.50       114\n",
      "      two-spotted_spider_mite       0.31      0.27      0.29       128\n",
      "\n",
      "                     accuracy                           0.28      1140\n",
      "                    macro avg       0.33      0.27      0.24      1140\n",
      "                 weighted avg       0.34      0.28      0.25      1140\n",
      "\n",
      "[[109   1   2   0   1   1   0   1   0   0]\n",
      " [ 45  22   9   9   6   1   4   2  15   7]\n",
      " [ 66   6  21   0   9   3   8   1   0  11]\n",
      " [ 84   8   4   7   3   0   0   1  13   5]\n",
      " [ 57   5   4   1  27   3   3   2  17   8]\n",
      " [ 53   8   8   0   9   9   9   5   8   8]\n",
      " [ 56   6  12   0   2   2  21   2   3  11]\n",
      " [ 26   1   5   0   1   0   3   3   3  12]\n",
      " [ 22   0   5   0   1   4   2   3  61  16]\n",
      " [ 42   5  14   0   3   1  10   9   9  35]]\n"
     ]
    }
   ],
   "source": [
    "class_names = target.unique()\n",
    "print(classification_report(Ltest, y_pred, target_names=class_names))\n",
    "print(confusion_matrix(Ltest, y_pred))"
   ]
  },
  {
   "cell_type": "markdown",
   "id": "cbf0037b",
   "metadata": {},
   "source": [
    "# Multinomial Naive bayes on blue data"
   ]
  },
  {
   "cell_type": "code",
   "execution_count": 68,
   "id": "050a9f46",
   "metadata": {},
   "outputs": [
    {
     "data": {
      "text/plain": [
       "0.27631578947368424"
      ]
     },
     "execution_count": 68,
     "metadata": {},
     "output_type": "execute_result"
    }
   ],
   "source": [
    "mnb.fit(Ftrain, Ltrain)\n",
    "y_pred = mnb.predict(Ftest)\n",
    "metrics.accuracy_score(Ltest, y_pred)"
   ]
  },
  {
   "cell_type": "code",
   "execution_count": 69,
   "id": "9a916b04",
   "metadata": {},
   "outputs": [
    {
     "name": "stdout",
     "output_type": "stream",
     "text": [
      "                               precision    recall  f1-score   support\n",
      "\n",
      "               bacterial_spot       0.19      0.95      0.32       115\n",
      "                 early_blight       0.35      0.18      0.24       120\n",
      "                      healthy       0.25      0.17      0.20       125\n",
      "                  late_blight       0.41      0.06      0.10       125\n",
      "                    leaf_mold       0.44      0.21      0.29       127\n",
      "           septoria_leaf_spot       0.38      0.08      0.13       117\n",
      "                  target_spot       0.35      0.18      0.24       115\n",
      "          tomato_mosaic_virus       0.10      0.06      0.07        54\n",
      "tomato_yellow_leaf_curl_virus       0.47      0.54      0.50       114\n",
      "      two-spotted_spider_mite       0.31      0.27      0.29       128\n",
      "\n",
      "                     accuracy                           0.28      1140\n",
      "                    macro avg       0.33      0.27      0.24      1140\n",
      "                 weighted avg       0.34      0.28      0.25      1140\n",
      "\n",
      "[[109   1   2   0   1   1   0   1   0   0]\n",
      " [ 45  22   9   9   6   1   4   2  15   7]\n",
      " [ 66   6  21   0   9   3   8   1   0  11]\n",
      " [ 84   8   4   7   3   0   0   1  13   5]\n",
      " [ 57   5   4   1  27   3   3   2  17   8]\n",
      " [ 53   8   8   0   9   9   9   5   8   8]\n",
      " [ 56   6  12   0   2   2  21   2   3  11]\n",
      " [ 26   1   5   0   1   0   3   3   3  12]\n",
      " [ 22   0   5   0   1   4   2   3  61  16]\n",
      " [ 42   5  14   0   3   1  10   9   9  35]]\n"
     ]
    }
   ],
   "source": [
    "class_names = target.unique()\n",
    "print(classification_report(Ltest, y_pred, target_names=class_names))\n",
    "print(confusion_matrix(Ltest, y_pred))"
   ]
  },
  {
   "cell_type": "code",
   "execution_count": 70,
   "id": "195a0b21",
   "metadata": {},
   "outputs": [
    {
     "name": "stdout",
     "output_type": "stream",
     "text": [
      "7214.385329961777\n"
     ]
    }
   ],
   "source": [
    "end_time = time.time()\n",
    "print(end_time - start_time)"
   ]
  }
 ],
 "metadata": {
  "kernelspec": {
   "display_name": "Python 3 (ipykernel)",
   "language": "python",
   "name": "python3"
  },
  "language_info": {
   "codemirror_mode": {
    "name": "ipython",
    "version": 3
   },
   "file_extension": ".py",
   "mimetype": "text/x-python",
   "name": "python",
   "nbconvert_exporter": "python",
   "pygments_lexer": "ipython3",
   "version": "3.9.7"
  }
 },
 "nbformat": 4,
 "nbformat_minor": 5
}
