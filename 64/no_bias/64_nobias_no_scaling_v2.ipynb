{
 "cells": [
  {
   "cell_type": "code",
   "execution_count": 1,
   "id": "bcdb1517",
   "metadata": {},
   "outputs": [],
   "source": [
    "import numpy as np #importing numpy\n",
    "import pandas as pd #importing pandas\n",
    "import PIL #importing pillow for image processing\n",
    "from PIL import Image#importing image from pillow library\n",
    "import skimage#importing skimage library\n",
    "import os#importing os library\n",
    "import time#importing time library\n",
    "\n",
    "#Capture start time of the program\n",
    "start_time = time.time()"
   ]
  },
  {
   "cell_type": "code",
   "execution_count": 2,
   "id": "9ec45970",
   "metadata": {},
   "outputs": [],
   "source": [
    "#changing path\n",
    "os.chdir('D://DKIT//dissertation//Dataset_of_Tomato_Leaves//plantvillage//Preprocessed_data//64//no_bias_vector//')"
   ]
  },
  {
   "cell_type": "markdown",
   "id": "e1e76605",
   "metadata": {},
   "source": [
    "# RGB Data"
   ]
  },
  {
   "cell_type": "code",
   "execution_count": 3,
   "id": "9386938c",
   "metadata": {},
   "outputs": [],
   "source": [
    "#reading numpy array data\n",
    "rgb_test = np.load('rgb_data.npy')\n",
    "#reading csv file\n",
    "rgb_df = pd.read_csv('rgb_data.csv')"
   ]
  },
  {
   "cell_type": "code",
   "execution_count": 4,
   "id": "40f528b5",
   "metadata": {},
   "outputs": [],
   "source": [
    "features = pd.DataFrame(rgb_test)"
   ]
  },
  {
   "cell_type": "code",
   "execution_count": 5,
   "id": "fdd9a1f6",
   "metadata": {},
   "outputs": [],
   "source": [
    "features = features.values"
   ]
  },
  {
   "cell_type": "code",
   "execution_count": 6,
   "id": "c6d5658c",
   "metadata": {},
   "outputs": [],
   "source": [
    "#assigning target\n",
    "target = rgb_df['disease']\n",
    "#splitting the data to 80 percent and 20 percent\n",
    "from sklearn.model_selection import train_test_split\n",
    "Ftrain,Ftest,Ltrain,Ltest=train_test_split(features,target, test_size=0.20, random_state=24)"
   ]
  },
  {
   "cell_type": "code",
   "execution_count": 7,
   "id": "1fa0433e",
   "metadata": {},
   "outputs": [],
   "source": [
    "#importing classification report and confusion matrix\n",
    "from sklearn.metrics import classification_report, confusion_matrix"
   ]
  },
  {
   "cell_type": "markdown",
   "id": "d466ef5f",
   "metadata": {},
   "source": [
    "# SVM(poly) on RGB data"
   ]
  },
  {
   "cell_type": "code",
   "execution_count": 8,
   "id": "2427ed51",
   "metadata": {},
   "outputs": [
    {
     "name": "stdout",
     "output_type": "stream",
     "text": [
      "0.7236842105263158\n"
     ]
    }
   ],
   "source": [
    "from sklearn.svm import SVC\n",
    "from sklearn.metrics import accuracy_score\n",
    "\n",
    "svm_poly = SVC(kernel='poly')\n",
    "svm_poly.fit(Ftrain,Ltrain)\n",
    "y_pred = svm_poly.predict(Ftest)\n",
    "print(accuracy_score(Ltest,y_pred))"
   ]
  },
  {
   "cell_type": "code",
   "execution_count": 9,
   "id": "bf286604",
   "metadata": {},
   "outputs": [
    {
     "name": "stdout",
     "output_type": "stream",
     "text": [
      "                               precision    recall  f1-score   support\n",
      "\n",
      "               bacterial_spot       0.59      0.83      0.69       115\n",
      "                 early_blight       0.60      0.52      0.55       120\n",
      "                      healthy       0.83      0.85      0.84       125\n",
      "                  late_blight       0.69      0.66      0.67       125\n",
      "                    leaf_mold       0.78      0.72      0.75       127\n",
      "           septoria_leaf_spot       0.73      0.66      0.69       117\n",
      "                  target_spot       0.74      0.70      0.72       115\n",
      "          tomato_mosaic_virus       0.80      0.89      0.84        54\n",
      "tomato_yellow_leaf_curl_virus       0.87      0.84      0.86       114\n",
      "      two-spotted_spider_mite       0.67      0.66      0.67       128\n",
      "\n",
      "                     accuracy                           0.72      1140\n",
      "                    macro avg       0.73      0.73      0.73      1140\n",
      "                 weighted avg       0.73      0.72      0.72      1140\n",
      "\n",
      "[[ 96   5   2   5   0   0   0   0   7   0]\n",
      " [ 22  62   1  12   4   1   7   0   1  10]\n",
      " [  4   4 106   2   3   1   4   0   0   1]\n",
      " [ 13  11   7  82   3   4   1   0   0   4]\n",
      " [  1   6   2   8  92  13   0   1   0   4]\n",
      " [  3   2   2   2  13  77   3   6   3   6]\n",
      " [  9   4   6   0   0   3  81   1   0  11]\n",
      " [  0   1   0   0   0   2   1  48   0   2]\n",
      " [  5   4   0   3   0   2   1   0  96   3]\n",
      " [  9   5   1   5   3   2  11   4   3  85]]\n"
     ]
    }
   ],
   "source": [
    "#classification report\n",
    "y_predict = svm_poly.fit(Ftrain, Ltrain).predict(Ftest)\n",
    "class_names = target.unique()\n",
    "print(classification_report(Ltest, y_predict, target_names=class_names))\n",
    "print(confusion_matrix(Ltest, y_predict))"
   ]
  },
  {
   "cell_type": "markdown",
   "id": "4101cb88",
   "metadata": {},
   "source": [
    "# SVM(RBF) on RGB data"
   ]
  },
  {
   "cell_type": "code",
   "execution_count": 10,
   "id": "235aaf3a",
   "metadata": {},
   "outputs": [
    {
     "name": "stdout",
     "output_type": "stream",
     "text": [
      "0.7552631578947369\n"
     ]
    }
   ],
   "source": [
    "svm_rbf = SVC(kernel='rbf')\n",
    "svm_rbf.fit(Ftrain,Ltrain)\n",
    "y_pred = svm_rbf.predict(Ftest)\n",
    "print(accuracy_score(Ltest,y_pred))"
   ]
  },
  {
   "cell_type": "code",
   "execution_count": 11,
   "id": "1c7ce3a6",
   "metadata": {},
   "outputs": [
    {
     "name": "stdout",
     "output_type": "stream",
     "text": [
      "                               precision    recall  f1-score   support\n",
      "\n",
      "               bacterial_spot       0.72      0.84      0.78       115\n",
      "                 early_blight       0.59      0.52      0.55       120\n",
      "                      healthy       0.92      0.92      0.92       125\n",
      "                  late_blight       0.72      0.70      0.71       125\n",
      "                    leaf_mold       0.85      0.78      0.81       127\n",
      "           septoria_leaf_spot       0.71      0.62      0.66       117\n",
      "                  target_spot       0.71      0.72      0.72       115\n",
      "          tomato_mosaic_virus       0.75      0.91      0.82        54\n",
      "tomato_yellow_leaf_curl_virus       0.85      0.87      0.86       114\n",
      "      two-spotted_spider_mite       0.71      0.76      0.73       128\n",
      "\n",
      "                     accuracy                           0.76      1140\n",
      "                    macro avg       0.75      0.76      0.76      1140\n",
      "                 weighted avg       0.75      0.76      0.75      1140\n",
      "\n",
      "[[ 97   4   1   4   0   2   0   0   7   0]\n",
      " [ 21  62   3   9   4   3   9   0   0   9]\n",
      " [  0   1 115   3   0   0   5   0   0   1]\n",
      " [  3  12   2  87   4  10   2   0   2   3]\n",
      " [  0   1   1   5  99  13   2   2   0   4]\n",
      " [  2   2   1   8   8  73   6   6   6   5]\n",
      " [  5  11   2   0   1   1  83   1   0  11]\n",
      " [  0   2   0   0   1   0   0  49   0   2]\n",
      " [  3   2   0   4   0   1   0   1  99   4]\n",
      " [  4   8   0   1   0   0  10   6   2  97]]\n"
     ]
    }
   ],
   "source": [
    "#classification report\n",
    "y_predict = svm_rbf.fit(Ftrain, Ltrain).predict(Ftest)\n",
    "class_names = target.unique()\n",
    "print(classification_report(Ltest, y_predict, target_names=class_names))\n",
    "print(confusion_matrix(Ltest, y_predict))"
   ]
  },
  {
   "cell_type": "markdown",
   "id": "670ea3cc",
   "metadata": {},
   "source": [
    "# SVM(sigmoid) on RGB data"
   ]
  },
  {
   "cell_type": "code",
   "execution_count": 12,
   "id": "8aaf1a20",
   "metadata": {},
   "outputs": [
    {
     "name": "stdout",
     "output_type": "stream",
     "text": [
      "0.1\n"
     ]
    }
   ],
   "source": [
    "svm_si = SVC(kernel='sigmoid')\n",
    "svm_si.fit(Ftrain,Ltrain)\n",
    "y_pred = svm_si.predict(Ftest)\n",
    "print(accuracy_score(Ltest,y_pred))"
   ]
  },
  {
   "cell_type": "code",
   "execution_count": 13,
   "id": "9beeb8fa",
   "metadata": {},
   "outputs": [
    {
     "name": "stdout",
     "output_type": "stream",
     "text": [
      "                               precision    recall  f1-score   support\n",
      "\n",
      "               bacterial_spot       0.00      0.00      0.00       115\n",
      "                 early_blight       0.00      0.00      0.00       120\n",
      "                      healthy       0.00      0.00      0.00       125\n",
      "                  late_blight       0.00      0.00      0.00       125\n",
      "                    leaf_mold       0.00      0.00      0.00       127\n",
      "           septoria_leaf_spot       0.00      0.00      0.00       117\n",
      "                  target_spot       0.00      0.00      0.00       115\n",
      "          tomato_mosaic_virus       0.00      0.00      0.00        54\n",
      "tomato_yellow_leaf_curl_virus       0.10      1.00      0.18       114\n",
      "      two-spotted_spider_mite       0.00      0.00      0.00       128\n",
      "\n",
      "                     accuracy                           0.10      1140\n",
      "                    macro avg       0.01      0.10      0.02      1140\n",
      "                 weighted avg       0.01      0.10      0.02      1140\n",
      "\n",
      "[[  0   0   0   0   0   0   0   0 115   0]\n",
      " [  0   0   0   0   0   0   0   0 120   0]\n",
      " [  0   0   0   0   0   0   0   0 125   0]\n",
      " [  0   0   0   0   0   4   0   0 121   0]\n",
      " [  0   0   0   0   0   0   0   0 127   0]\n",
      " [  0   0   0   0   0   0   0   0 117   0]\n",
      " [  0   0   0   0   0   0   0   0 115   0]\n",
      " [  0   0   0   0   0   0   0   0  54   0]\n",
      " [  0   0   0   0   0   0   0   0 114   0]\n",
      " [  0   0   0   0   0   0   0   0 128   0]]\n"
     ]
    },
    {
     "name": "stderr",
     "output_type": "stream",
     "text": [
      "C:\\Users\\ravic\\anaconda3\\lib\\site-packages\\sklearn\\metrics\\_classification.py:1248: UndefinedMetricWarning: Precision and F-score are ill-defined and being set to 0.0 in labels with no predicted samples. Use `zero_division` parameter to control this behavior.\n",
      "  _warn_prf(average, modifier, msg_start, len(result))\n",
      "C:\\Users\\ravic\\anaconda3\\lib\\site-packages\\sklearn\\metrics\\_classification.py:1248: UndefinedMetricWarning: Precision and F-score are ill-defined and being set to 0.0 in labels with no predicted samples. Use `zero_division` parameter to control this behavior.\n",
      "  _warn_prf(average, modifier, msg_start, len(result))\n",
      "C:\\Users\\ravic\\anaconda3\\lib\\site-packages\\sklearn\\metrics\\_classification.py:1248: UndefinedMetricWarning: Precision and F-score are ill-defined and being set to 0.0 in labels with no predicted samples. Use `zero_division` parameter to control this behavior.\n",
      "  _warn_prf(average, modifier, msg_start, len(result))\n"
     ]
    }
   ],
   "source": [
    "#classification report\n",
    "y_predict = svm_si.fit(Ftrain, Ltrain).predict(Ftest)\n",
    "class_names = target.unique()\n",
    "print(classification_report(Ltest, y_predict, target_names=class_names))\n",
    "print(confusion_matrix(Ltest, y_predict))"
   ]
  },
  {
   "cell_type": "markdown",
   "id": "f985c500",
   "metadata": {},
   "source": [
    "# Bernouli Naive bayes on RGB data"
   ]
  },
  {
   "cell_type": "code",
   "execution_count": 14,
   "id": "75a3f18f",
   "metadata": {},
   "outputs": [
    {
     "data": {
      "text/plain": [
       "0.27807017543859647"
      ]
     },
     "execution_count": 14,
     "metadata": {},
     "output_type": "execute_result"
    }
   ],
   "source": [
    "from sklearn.naive_bayes import BernoulliNB\n",
    "from sklearn import metrics\n",
    "bnb = BernoulliNB()\n",
    "bnb.fit(Ftrain, Ltrain)\n",
    "y_pred = bnb.predict(Ftest)\n",
    "metrics.accuracy_score(Ltest, y_pred)"
   ]
  },
  {
   "cell_type": "code",
   "execution_count": 15,
   "id": "694c01aa",
   "metadata": {},
   "outputs": [
    {
     "name": "stdout",
     "output_type": "stream",
     "text": [
      "                               precision    recall  f1-score   support\n",
      "\n",
      "               bacterial_spot       0.18      0.96      0.31       115\n",
      "                 early_blight       0.50      0.21      0.29       120\n",
      "                      healthy       0.29      0.18      0.22       125\n",
      "                  late_blight       1.00      0.03      0.06       125\n",
      "                    leaf_mold       0.42      0.18      0.25       127\n",
      "           septoria_leaf_spot       0.40      0.09      0.14       117\n",
      "                  target_spot       0.34      0.16      0.21       115\n",
      "          tomato_mosaic_virus       0.00      0.00      0.00        54\n",
      "tomato_yellow_leaf_curl_virus       0.44      0.54      0.48       114\n",
      "      two-spotted_spider_mite       0.31      0.34      0.32       128\n",
      "\n",
      "                     accuracy                           0.28      1140\n",
      "                    macro avg       0.39      0.27      0.23      1140\n",
      "                 weighted avg       0.41      0.28      0.24      1140\n",
      "\n",
      "[[110   0   1   0   1   1   0   0   0   2]\n",
      " [ 48  25  11   0   7   1   2   0  17   9]\n",
      " [ 69   4  22   0   8   2   8   0   0  12]\n",
      " [ 86   8   2   4   4   0   0   1  14   6]\n",
      " [ 59   3   6   0  23   3   4   0  18  11]\n",
      " [ 60   5   5   0  10  10   5   0   7  15]\n",
      " [ 65   1   9   0   2   2  18   0   6  12]\n",
      " [ 28   1   5   0   0   0   5   0   4  11]\n",
      " [ 23   0   2   0   0   5   2   0  61  21]\n",
      " [ 48   3  12   0   0   1   9   0  11  44]]\n"
     ]
    }
   ],
   "source": [
    "class_names = target.unique()\n",
    "print(classification_report(Ltest, y_pred, target_names=class_names))\n",
    "print(confusion_matrix(Ltest, y_pred))"
   ]
  },
  {
   "cell_type": "markdown",
   "id": "67dd930c",
   "metadata": {},
   "source": [
    "# Multinomial Naive bayes on RGB data"
   ]
  },
  {
   "cell_type": "code",
   "execution_count": 16,
   "id": "3b80acde",
   "metadata": {},
   "outputs": [
    {
     "data": {
      "text/plain": [
       "0.27807017543859647"
      ]
     },
     "execution_count": 16,
     "metadata": {},
     "output_type": "execute_result"
    }
   ],
   "source": [
    "from sklearn.naive_bayes import MultinomialNB\n",
    "mnb = BernoulliNB()\n",
    "mnb.fit(Ftrain, Ltrain)\n",
    "y_pred = mnb.predict(Ftest)\n",
    "metrics.accuracy_score(Ltest, y_pred)"
   ]
  },
  {
   "cell_type": "code",
   "execution_count": 17,
   "id": "d6ed705b",
   "metadata": {},
   "outputs": [
    {
     "name": "stdout",
     "output_type": "stream",
     "text": [
      "                               precision    recall  f1-score   support\n",
      "\n",
      "               bacterial_spot       0.18      0.96      0.31       115\n",
      "                 early_blight       0.50      0.21      0.29       120\n",
      "                      healthy       0.29      0.18      0.22       125\n",
      "                  late_blight       1.00      0.03      0.06       125\n",
      "                    leaf_mold       0.42      0.18      0.25       127\n",
      "           septoria_leaf_spot       0.40      0.09      0.14       117\n",
      "                  target_spot       0.34      0.16      0.21       115\n",
      "          tomato_mosaic_virus       0.00      0.00      0.00        54\n",
      "tomato_yellow_leaf_curl_virus       0.44      0.54      0.48       114\n",
      "      two-spotted_spider_mite       0.31      0.34      0.32       128\n",
      "\n",
      "                     accuracy                           0.28      1140\n",
      "                    macro avg       0.39      0.27      0.23      1140\n",
      "                 weighted avg       0.41      0.28      0.24      1140\n",
      "\n",
      "[[110   0   1   0   1   1   0   0   0   2]\n",
      " [ 48  25  11   0   7   1   2   0  17   9]\n",
      " [ 69   4  22   0   8   2   8   0   0  12]\n",
      " [ 86   8   2   4   4   0   0   1  14   6]\n",
      " [ 59   3   6   0  23   3   4   0  18  11]\n",
      " [ 60   5   5   0  10  10   5   0   7  15]\n",
      " [ 65   1   9   0   2   2  18   0   6  12]\n",
      " [ 28   1   5   0   0   0   5   0   4  11]\n",
      " [ 23   0   2   0   0   5   2   0  61  21]\n",
      " [ 48   3  12   0   0   1   9   0  11  44]]\n"
     ]
    }
   ],
   "source": [
    "class_names = target.unique()\n",
    "print(classification_report(Ltest, y_pred, target_names=class_names))\n",
    "print(confusion_matrix(Ltest, y_pred))"
   ]
  },
  {
   "cell_type": "markdown",
   "id": "0e8f617d",
   "metadata": {},
   "source": [
    "# Grayscale data"
   ]
  },
  {
   "cell_type": "code",
   "execution_count": 18,
   "id": "57a9845e",
   "metadata": {},
   "outputs": [],
   "source": [
    "#reading numpy array data\n",
    "gray_test = np.load('gray_test.npy')\n",
    "#reading csv file\n",
    "gray_df = pd.read_csv('gray_data.csv')"
   ]
  },
  {
   "cell_type": "code",
   "execution_count": 19,
   "id": "d3abef95",
   "metadata": {},
   "outputs": [],
   "source": [
    "#assigning features and target to split the data\n",
    "features = pd.DataFrame(gray_test)\n",
    "features = features.values\n",
    "target = gray_df['disease']"
   ]
  },
  {
   "cell_type": "code",
   "execution_count": 20,
   "id": "a86eb99c",
   "metadata": {},
   "outputs": [],
   "source": [
    "#splitting the data to train and test\n",
    "Ftrain,Ftest,Ltrain,Ltest=train_test_split(features,target, test_size=0.20, random_state=24)"
   ]
  },
  {
   "cell_type": "markdown",
   "id": "8bfc6d84",
   "metadata": {},
   "source": [
    "# SVM(poly) on grayscale data"
   ]
  },
  {
   "cell_type": "code",
   "execution_count": 21,
   "id": "c9665abf",
   "metadata": {},
   "outputs": [
    {
     "name": "stdout",
     "output_type": "stream",
     "text": [
      "0.4885964912280702\n"
     ]
    }
   ],
   "source": [
    "svm_poly.fit(Ftrain,Ltrain)\n",
    "y_pred = svm_poly.predict(Ftest)\n",
    "print(accuracy_score(Ltest,y_pred))"
   ]
  },
  {
   "cell_type": "code",
   "execution_count": 22,
   "id": "2456eda7",
   "metadata": {},
   "outputs": [
    {
     "name": "stdout",
     "output_type": "stream",
     "text": [
      "                               precision    recall  f1-score   support\n",
      "\n",
      "               bacterial_spot       0.42      0.67      0.52       115\n",
      "                 early_blight       0.40      0.40      0.40       120\n",
      "                      healthy       0.65      0.66      0.66       125\n",
      "                  late_blight       0.55      0.48      0.51       125\n",
      "                    leaf_mold       0.54      0.54      0.54       127\n",
      "           septoria_leaf_spot       0.36      0.35      0.35       117\n",
      "                  target_spot       0.54      0.46      0.50       115\n",
      "          tomato_mosaic_virus       0.43      0.37      0.40        54\n",
      "tomato_yellow_leaf_curl_virus       0.49      0.45      0.47       114\n",
      "      two-spotted_spider_mite       0.50      0.44      0.47       128\n",
      "\n",
      "                     accuracy                           0.49      1140\n",
      "                    macro avg       0.49      0.48      0.48      1140\n",
      "                 weighted avg       0.49      0.49      0.49      1140\n",
      "\n",
      "[[77  7  6  4  3  6  0  0 11  1]\n",
      " [27 48  3  6  8  2  9  1  9  7]\n",
      " [ 9  1 83  3  8 13  4  0  2  2]\n",
      " [10 15  9 60  6 14  0  1  5  5]\n",
      " [ 1 11  4 14 68  8  5  6  6  4]\n",
      " [ 8 10 11  8 11 41 11  5  6  6]\n",
      " [17  6  5  0  6  7 53  0  3 18]\n",
      " [ 1  2  1  3  5 11  0 20  6  5]\n",
      " [15  7  3  8  8  8  3  3 51  8]\n",
      " [17 12  2  3  4  5 13 10  6 56]]\n"
     ]
    }
   ],
   "source": [
    "#classification report\n",
    "y_predict = svm_poly.fit(Ftrain, Ltrain).predict(Ftest)\n",
    "class_names = target.unique()\n",
    "print(classification_report(Ltest, y_predict, target_names=class_names))\n",
    "print(confusion_matrix(Ltest, y_predict))"
   ]
  },
  {
   "cell_type": "markdown",
   "id": "bd417df9",
   "metadata": {},
   "source": [
    "# SVM(RBF) on grayscale data"
   ]
  },
  {
   "cell_type": "code",
   "execution_count": 23,
   "id": "67772464",
   "metadata": {},
   "outputs": [
    {
     "name": "stdout",
     "output_type": "stream",
     "text": [
      "0.5850877192982457\n"
     ]
    }
   ],
   "source": [
    "svm_rbf.fit(Ftrain,Ltrain)\n",
    "y_pred = svm_rbf.predict(Ftest)\n",
    "print(accuracy_score(Ltest,y_pred))"
   ]
  },
  {
   "cell_type": "code",
   "execution_count": 24,
   "id": "34bbfd97",
   "metadata": {},
   "outputs": [
    {
     "name": "stdout",
     "output_type": "stream",
     "text": [
      "                               precision    recall  f1-score   support\n",
      "\n",
      "               bacterial_spot       0.64      0.66      0.65       115\n",
      "                 early_blight       0.46      0.44      0.45       120\n",
      "                      healthy       0.65      0.84      0.73       125\n",
      "                  late_blight       0.60      0.58      0.59       125\n",
      "                    leaf_mold       0.68      0.61      0.64       127\n",
      "           septoria_leaf_spot       0.53      0.46      0.49       117\n",
      "                  target_spot       0.56      0.57      0.56       115\n",
      "          tomato_mosaic_virus       0.44      0.56      0.49        54\n",
      "tomato_yellow_leaf_curl_virus       0.59      0.54      0.56       114\n",
      "      two-spotted_spider_mite       0.61      0.58      0.59       128\n",
      "\n",
      "                     accuracy                           0.59      1140\n",
      "                    macro avg       0.58      0.58      0.58      1140\n",
      "                 weighted avg       0.58      0.59      0.58      1140\n",
      "\n",
      "[[ 76   5  11   5   4   5   0   1   7   1]\n",
      " [ 20  53   1   9   7   5   9   3   6   7]\n",
      " [  0   2 105   2   1   4   8   0   3   0]\n",
      " [  3   8  12  72   5  13   4   0   5   3]\n",
      " [  3   6   5  11  77   7   5   4   6   3]\n",
      " [  0   5  17   8   9  54   9   8   4   3]\n",
      " [  5  12   5   3   3   2  65   1   2  17]\n",
      " [  0   2   1   0   1   5   2  30   7   6]\n",
      " [  7   7   4  10   5   4   1   8  61   7]\n",
      " [  5  14   1   0   2   3  13  13   3  74]]\n"
     ]
    }
   ],
   "source": [
    "#classification report\n",
    "y_predict = svm_rbf.fit(Ftrain, Ltrain).predict(Ftest)\n",
    "class_names = target.unique()\n",
    "print(classification_report(Ltest, y_predict, target_names=class_names))\n",
    "print(confusion_matrix(Ltest, y_predict))"
   ]
  },
  {
   "cell_type": "markdown",
   "id": "c1ed23e8",
   "metadata": {},
   "source": [
    "# SVM(sigmoid) on Grayscale data"
   ]
  },
  {
   "cell_type": "code",
   "execution_count": 25,
   "id": "b79e8630",
   "metadata": {},
   "outputs": [
    {
     "name": "stdout",
     "output_type": "stream",
     "text": [
      "0.0824561403508772\n"
     ]
    }
   ],
   "source": [
    "svm_si.fit(Ftrain,Ltrain)\n",
    "y_pred = svm_si.predict(Ftest)\n",
    "print(accuracy_score(Ltest,y_pred))"
   ]
  },
  {
   "cell_type": "code",
   "execution_count": 26,
   "id": "c64cd0a6",
   "metadata": {},
   "outputs": [
    {
     "name": "stdout",
     "output_type": "stream",
     "text": [
      "                               precision    recall  f1-score   support\n",
      "\n",
      "               bacterial_spot       0.04      0.23      0.07       115\n",
      "                 early_blight       0.00      0.00      0.00       120\n",
      "                      healthy       0.00      0.00      0.00       125\n",
      "                  late_blight       0.00      0.00      0.00       125\n",
      "                    leaf_mold       0.00      0.00      0.00       127\n",
      "           septoria_leaf_spot       0.00      0.00      0.00       117\n",
      "                  target_spot       0.00      0.00      0.00       115\n",
      "          tomato_mosaic_virus       0.00      0.00      0.00        54\n",
      "tomato_yellow_leaf_curl_virus       0.14      0.59      0.22       114\n",
      "      two-spotted_spider_mite       0.00      0.00      0.00       128\n",
      "\n",
      "                     accuracy                           0.08      1140\n",
      "                    macro avg       0.02      0.08      0.03      1140\n",
      "                 weighted avg       0.02      0.08      0.03      1140\n",
      "\n",
      "[[ 27   0   0   0   0   0   0   0  88   0]\n",
      " [ 36   0   0   0   0   0   0   0  84   0]\n",
      " [117   0   0   0   0   0   0   0   8   0]\n",
      " [101   0   0   0   0   4   0   0  20   0]\n",
      " [ 61   0   0   0   0   0   0   0  66   0]\n",
      " [ 96   0   0   0   0   0   0   0  21   0]\n",
      " [ 68   0   0   0   0   0   0   0  47   0]\n",
      " [ 33   0   0   0   0   0   0   0  21   0]\n",
      " [ 47   0   0   0   0   0   0   0  67   0]\n",
      " [ 62   0   0   0   0   0   0   0  66   0]]\n"
     ]
    },
    {
     "name": "stderr",
     "output_type": "stream",
     "text": [
      "C:\\Users\\ravic\\anaconda3\\lib\\site-packages\\sklearn\\metrics\\_classification.py:1248: UndefinedMetricWarning: Precision and F-score are ill-defined and being set to 0.0 in labels with no predicted samples. Use `zero_division` parameter to control this behavior.\n",
      "  _warn_prf(average, modifier, msg_start, len(result))\n",
      "C:\\Users\\ravic\\anaconda3\\lib\\site-packages\\sklearn\\metrics\\_classification.py:1248: UndefinedMetricWarning: Precision and F-score are ill-defined and being set to 0.0 in labels with no predicted samples. Use `zero_division` parameter to control this behavior.\n",
      "  _warn_prf(average, modifier, msg_start, len(result))\n",
      "C:\\Users\\ravic\\anaconda3\\lib\\site-packages\\sklearn\\metrics\\_classification.py:1248: UndefinedMetricWarning: Precision and F-score are ill-defined and being set to 0.0 in labels with no predicted samples. Use `zero_division` parameter to control this behavior.\n",
      "  _warn_prf(average, modifier, msg_start, len(result))\n"
     ]
    }
   ],
   "source": [
    "#classification report\n",
    "y_predict = svm_si.fit(Ftrain, Ltrain).predict(Ftest)\n",
    "class_names = target.unique()\n",
    "print(classification_report(Ltest, y_predict, target_names=class_names))\n",
    "print(confusion_matrix(Ltest, y_predict))"
   ]
  },
  {
   "cell_type": "markdown",
   "id": "8ba631c4",
   "metadata": {},
   "source": [
    "# Bernouli Naive bayes on grayscale data"
   ]
  },
  {
   "cell_type": "code",
   "execution_count": 27,
   "id": "f9c1d1df",
   "metadata": {},
   "outputs": [
    {
     "data": {
      "text/plain": [
       "0.10526315789473684"
      ]
     },
     "execution_count": 27,
     "metadata": {},
     "output_type": "execute_result"
    }
   ],
   "source": [
    "bnb.fit(Ftrain, Ltrain)\n",
    "y_pred = bnb.predict(Ftest)\n",
    "metrics.accuracy_score(Ltest, y_pred)"
   ]
  },
  {
   "cell_type": "code",
   "execution_count": 28,
   "id": "5349d0e6",
   "metadata": {},
   "outputs": [
    {
     "name": "stdout",
     "output_type": "stream",
     "text": [
      "                               precision    recall  f1-score   support\n",
      "\n",
      "               bacterial_spot       0.00      0.00      0.00       115\n",
      "                 early_blight       0.18      0.02      0.03       120\n",
      "                      healthy       0.00      0.00      0.00       125\n",
      "                  late_blight       1.00      0.02      0.05       125\n",
      "                    leaf_mold       0.00      0.00      0.00       127\n",
      "           septoria_leaf_spot       0.11      0.01      0.02       117\n",
      "                  target_spot       0.00      0.00      0.00       115\n",
      "          tomato_mosaic_virus       0.00      0.00      0.00        54\n",
      "tomato_yellow_leaf_curl_virus       0.10      1.00      0.19       114\n",
      "      two-spotted_spider_mite       0.00      0.00      0.00       128\n",
      "\n",
      "                     accuracy                           0.11      1140\n",
      "                    macro avg       0.14      0.10      0.03      1140\n",
      "                 weighted avg       0.15      0.11      0.03      1140\n",
      "\n",
      "[[  0   0   0   0   0   0   0   0 115   0]\n",
      " [  0   2   1   0   1   4   0   0 112   0]\n",
      " [  0   2   0   0   1   1   0   0 121   0]\n",
      " [  0   1   0   3   0   0   0   1 120   0]\n",
      " [  0   2   3   0   0   3   1   0 118   0]\n",
      " [  0   2   1   0   0   1   0   0 113   0]\n",
      " [  0   0   0   0   0   0   0   0 115   0]\n",
      " [  0   2   1   0   1   0   0   0  50   0]\n",
      " [  0   0   0   0   0   0   0   0 114   0]\n",
      " [  0   0   0   0   0   0   0   0 128   0]]\n"
     ]
    },
    {
     "name": "stderr",
     "output_type": "stream",
     "text": [
      "C:\\Users\\ravic\\anaconda3\\lib\\site-packages\\sklearn\\metrics\\_classification.py:1248: UndefinedMetricWarning: Precision and F-score are ill-defined and being set to 0.0 in labels with no predicted samples. Use `zero_division` parameter to control this behavior.\n",
      "  _warn_prf(average, modifier, msg_start, len(result))\n",
      "C:\\Users\\ravic\\anaconda3\\lib\\site-packages\\sklearn\\metrics\\_classification.py:1248: UndefinedMetricWarning: Precision and F-score are ill-defined and being set to 0.0 in labels with no predicted samples. Use `zero_division` parameter to control this behavior.\n",
      "  _warn_prf(average, modifier, msg_start, len(result))\n",
      "C:\\Users\\ravic\\anaconda3\\lib\\site-packages\\sklearn\\metrics\\_classification.py:1248: UndefinedMetricWarning: Precision and F-score are ill-defined and being set to 0.0 in labels with no predicted samples. Use `zero_division` parameter to control this behavior.\n",
      "  _warn_prf(average, modifier, msg_start, len(result))\n"
     ]
    }
   ],
   "source": [
    "class_names = target.unique()\n",
    "print(classification_report(Ltest, y_pred, target_names=class_names))\n",
    "print(confusion_matrix(Ltest, y_pred))"
   ]
  },
  {
   "cell_type": "markdown",
   "id": "20b31faf",
   "metadata": {},
   "source": [
    "# Multinomial Naive bayes on Grayscale data"
   ]
  },
  {
   "cell_type": "code",
   "execution_count": 29,
   "id": "5bf3d424",
   "metadata": {},
   "outputs": [
    {
     "data": {
      "text/plain": [
       "0.10526315789473684"
      ]
     },
     "execution_count": 29,
     "metadata": {},
     "output_type": "execute_result"
    }
   ],
   "source": [
    "mnb.fit(Ftrain, Ltrain)\n",
    "y_pred = mnb.predict(Ftest)\n",
    "metrics.accuracy_score(Ltest, y_pred)"
   ]
  },
  {
   "cell_type": "code",
   "execution_count": 30,
   "id": "6ed85664",
   "metadata": {},
   "outputs": [
    {
     "name": "stdout",
     "output_type": "stream",
     "text": [
      "                               precision    recall  f1-score   support\n",
      "\n",
      "               bacterial_spot       0.00      0.00      0.00       115\n",
      "                 early_blight       0.18      0.02      0.03       120\n",
      "                      healthy       0.00      0.00      0.00       125\n",
      "                  late_blight       1.00      0.02      0.05       125\n",
      "                    leaf_mold       0.00      0.00      0.00       127\n",
      "           septoria_leaf_spot       0.11      0.01      0.02       117\n",
      "                  target_spot       0.00      0.00      0.00       115\n",
      "          tomato_mosaic_virus       0.00      0.00      0.00        54\n",
      "tomato_yellow_leaf_curl_virus       0.10      1.00      0.19       114\n",
      "      two-spotted_spider_mite       0.00      0.00      0.00       128\n",
      "\n",
      "                     accuracy                           0.11      1140\n",
      "                    macro avg       0.14      0.10      0.03      1140\n",
      "                 weighted avg       0.15      0.11      0.03      1140\n",
      "\n",
      "[[  0   0   0   0   0   0   0   0 115   0]\n",
      " [  0   2   1   0   1   4   0   0 112   0]\n",
      " [  0   2   0   0   1   1   0   0 121   0]\n",
      " [  0   1   0   3   0   0   0   1 120   0]\n",
      " [  0   2   3   0   0   3   1   0 118   0]\n",
      " [  0   2   1   0   0   1   0   0 113   0]\n",
      " [  0   0   0   0   0   0   0   0 115   0]\n",
      " [  0   2   1   0   1   0   0   0  50   0]\n",
      " [  0   0   0   0   0   0   0   0 114   0]\n",
      " [  0   0   0   0   0   0   0   0 128   0]]\n"
     ]
    },
    {
     "name": "stderr",
     "output_type": "stream",
     "text": [
      "C:\\Users\\ravic\\anaconda3\\lib\\site-packages\\sklearn\\metrics\\_classification.py:1248: UndefinedMetricWarning: Precision and F-score are ill-defined and being set to 0.0 in labels with no predicted samples. Use `zero_division` parameter to control this behavior.\n",
      "  _warn_prf(average, modifier, msg_start, len(result))\n",
      "C:\\Users\\ravic\\anaconda3\\lib\\site-packages\\sklearn\\metrics\\_classification.py:1248: UndefinedMetricWarning: Precision and F-score are ill-defined and being set to 0.0 in labels with no predicted samples. Use `zero_division` parameter to control this behavior.\n",
      "  _warn_prf(average, modifier, msg_start, len(result))\n",
      "C:\\Users\\ravic\\anaconda3\\lib\\site-packages\\sklearn\\metrics\\_classification.py:1248: UndefinedMetricWarning: Precision and F-score are ill-defined and being set to 0.0 in labels with no predicted samples. Use `zero_division` parameter to control this behavior.\n",
      "  _warn_prf(average, modifier, msg_start, len(result))\n"
     ]
    }
   ],
   "source": [
    "class_names = target.unique()\n",
    "print(classification_report(Ltest, y_pred, target_names=class_names))\n",
    "print(confusion_matrix(Ltest, y_pred))"
   ]
  },
  {
   "cell_type": "markdown",
   "id": "6f5719a1",
   "metadata": {},
   "source": [
    "# Red Channel data"
   ]
  },
  {
   "cell_type": "code",
   "execution_count": 31,
   "id": "5f8b0e11",
   "metadata": {},
   "outputs": [],
   "source": [
    "#reading numpy array data\n",
    "red_test = np.load('red_data.npy')\n",
    "#reading csv file\n",
    "red_df = pd.read_csv('red_data.csv')\n",
    "#assigning features and target to split the data\n",
    "features = pd.DataFrame(red_test)\n",
    "features = features.values\n",
    "target = red_df['disease']\n",
    "#splitting the data to train and test\n",
    "Ftrain,Ftest,Ltrain,Ltest=train_test_split(features,target, test_size=0.20, random_state=24)"
   ]
  },
  {
   "cell_type": "markdown",
   "id": "c81dd4d2",
   "metadata": {},
   "source": [
    "# SVM(poly) on Red data"
   ]
  },
  {
   "cell_type": "code",
   "execution_count": 32,
   "id": "a9cb2e28",
   "metadata": {},
   "outputs": [
    {
     "name": "stdout",
     "output_type": "stream",
     "text": [
      "0.5035087719298246\n"
     ]
    }
   ],
   "source": [
    "svm_poly.fit(Ftrain,Ltrain)\n",
    "y_pred = svm_poly.predict(Ftest)\n",
    "print(accuracy_score(Ltest,y_pred))"
   ]
  },
  {
   "cell_type": "code",
   "execution_count": 33,
   "id": "35b2ceaf",
   "metadata": {},
   "outputs": [
    {
     "name": "stdout",
     "output_type": "stream",
     "text": [
      "                               precision    recall  f1-score   support\n",
      "\n",
      "               bacterial_spot       0.42      0.63      0.50       115\n",
      "                 early_blight       0.38      0.37      0.37       120\n",
      "                      healthy       0.69      0.68      0.69       125\n",
      "                  late_blight       0.55      0.50      0.53       125\n",
      "                    leaf_mold       0.59      0.55      0.57       127\n",
      "           septoria_leaf_spot       0.39      0.41      0.40       117\n",
      "                  target_spot       0.50      0.49      0.49       115\n",
      "          tomato_mosaic_virus       0.48      0.54      0.50        54\n",
      "tomato_yellow_leaf_curl_virus       0.53      0.45      0.48       114\n",
      "      two-spotted_spider_mite       0.54      0.44      0.48       128\n",
      "\n",
      "                     accuracy                           0.50      1140\n",
      "                    macro avg       0.51      0.50      0.50      1140\n",
      "                 weighted avg       0.51      0.50      0.50      1140\n",
      "\n",
      "[[72 12  6  6  1  7  2  0  9  0]\n",
      " [27 44  3  2 11  6  9  0 11  7]\n",
      " [12  3 85  3  6  5  4  0  4  3]\n",
      " [12 15  7 63  5 16  2  1  2  2]\n",
      " [ 2  9  7 16 70  8  3  6  3  3]\n",
      " [11  7  4 11 11 48 12  6  3  4]\n",
      " [15 11  4  1  2 11 56  0  2 13]\n",
      " [ 0  0  1  3  2  5  2 29  5  7]\n",
      " [10  9  5  8  8  7  2  5 51  9]\n",
      " [10  7  1  1  2 10 20 14  7 56]]\n"
     ]
    }
   ],
   "source": [
    "#classification report\n",
    "y_predict = svm_poly.fit(Ftrain, Ltrain).predict(Ftest)\n",
    "class_names = target.unique()\n",
    "print(classification_report(Ltest, y_predict, target_names=class_names))\n",
    "print(confusion_matrix(Ltest, y_predict))"
   ]
  },
  {
   "cell_type": "markdown",
   "id": "bcdfb873",
   "metadata": {},
   "source": [
    "# SVM(RBF) on Red data"
   ]
  },
  {
   "cell_type": "code",
   "execution_count": 34,
   "id": "5e806290",
   "metadata": {},
   "outputs": [
    {
     "name": "stdout",
     "output_type": "stream",
     "text": [
      "0.6008771929824561\n"
     ]
    }
   ],
   "source": [
    "svm_rbf.fit(Ftrain,Ltrain)\n",
    "y_pred = svm_rbf.predict(Ftest)\n",
    "print(accuracy_score(Ltest,y_pred))"
   ]
  },
  {
   "cell_type": "code",
   "execution_count": 35,
   "id": "e613add4",
   "metadata": {},
   "outputs": [
    {
     "name": "stdout",
     "output_type": "stream",
     "text": [
      "                               precision    recall  f1-score   support\n",
      "\n",
      "               bacterial_spot       0.63      0.62      0.63       115\n",
      "                 early_blight       0.51      0.41      0.45       120\n",
      "                      healthy       0.69      0.87      0.77       125\n",
      "                  late_blight       0.61      0.63      0.62       125\n",
      "                    leaf_mold       0.71      0.61      0.66       127\n",
      "           septoria_leaf_spot       0.55      0.49      0.52       117\n",
      "                  target_spot       0.57      0.63      0.60       115\n",
      "          tomato_mosaic_virus       0.47      0.65      0.55        54\n",
      "tomato_yellow_leaf_curl_virus       0.55      0.54      0.55       114\n",
      "      two-spotted_spider_mite       0.61      0.58      0.59       128\n",
      "\n",
      "                     accuracy                           0.60      1140\n",
      "                    macro avg       0.59      0.60      0.59      1140\n",
      "                 weighted avg       0.60      0.60      0.60      1140\n",
      "\n",
      "[[ 71   3  13   7   1   5   1   2  12   0]\n",
      " [ 21  49   2   7   5   8  11   1  11   5]\n",
      " [  0   0 109   6   4   1   2   0   3   0]\n",
      " [  2   7  10  79   4  12   3   1   5   2]\n",
      " [  3   5   2  12  77   9   7   3   5   4]\n",
      " [  1   5  12   9   8  57  11   5   4   5]\n",
      " [  4  10   2   2   1   2  72   2   2  18]\n",
      " [  0   1   0   0   3   1   1  35   6   7]\n",
      " [  6   6   7   7   4   5   1   9  62   7]\n",
      " [  4  10   0   0   1   3  17  16   3  74]]\n"
     ]
    }
   ],
   "source": [
    "#classification report\n",
    "y_predict = svm_rbf.fit(Ftrain, Ltrain).predict(Ftest)\n",
    "class_names = target.unique()\n",
    "print(classification_report(Ltest, y_predict, target_names=class_names))\n",
    "print(confusion_matrix(Ltest, y_predict))"
   ]
  },
  {
   "cell_type": "markdown",
   "id": "558a44ca",
   "metadata": {},
   "source": [
    "# SVM(sigmoid) on Red data"
   ]
  },
  {
   "cell_type": "code",
   "execution_count": 36,
   "id": "dfde7ca8",
   "metadata": {},
   "outputs": [
    {
     "name": "stdout",
     "output_type": "stream",
     "text": [
      "0.1\n"
     ]
    }
   ],
   "source": [
    "svm_si.fit(Ftrain,Ltrain)\n",
    "y_pred = svm_si.predict(Ftest)\n",
    "print(accuracy_score(Ltest,y_pred))"
   ]
  },
  {
   "cell_type": "code",
   "execution_count": 37,
   "id": "b58142f8",
   "metadata": {},
   "outputs": [
    {
     "name": "stdout",
     "output_type": "stream",
     "text": [
      "                               precision    recall  f1-score   support\n",
      "\n",
      "               bacterial_spot       0.00      0.00      0.00       115\n",
      "                 early_blight       0.00      0.00      0.00       120\n",
      "                      healthy       0.00      0.00      0.00       125\n",
      "                  late_blight       0.00      0.00      0.00       125\n",
      "                    leaf_mold       0.00      0.00      0.00       127\n",
      "           septoria_leaf_spot       0.00      0.00      0.00       117\n",
      "                  target_spot       0.00      0.00      0.00       115\n",
      "          tomato_mosaic_virus       0.00      0.00      0.00        54\n",
      "tomato_yellow_leaf_curl_virus       0.10      1.00      0.18       114\n",
      "      two-spotted_spider_mite       0.00      0.00      0.00       128\n",
      "\n",
      "                     accuracy                           0.10      1140\n",
      "                    macro avg       0.01      0.10      0.02      1140\n",
      "                 weighted avg       0.01      0.10      0.02      1140\n",
      "\n",
      "[[  0   0   0   0   0   0   0   0 115   0]\n",
      " [  0   0   0   0   0   0   0   0 120   0]\n",
      " [  0   0   0   0   0   0   0   0 125   0]\n",
      " [  0   0   0   0   0   4   0   0 121   0]\n",
      " [  0   0   0   0   0   0   0   0 127   0]\n",
      " [  0   0   0   0   0   0   0   0 117   0]\n",
      " [  0   0   0   0   0   0   0   0 115   0]\n",
      " [  0   0   0   0   0   0   0   0  54   0]\n",
      " [  0   0   0   0   0   0   0   0 114   0]\n",
      " [  0   0   0   0   0   0   0   0 128   0]]\n"
     ]
    },
    {
     "name": "stderr",
     "output_type": "stream",
     "text": [
      "C:\\Users\\ravic\\anaconda3\\lib\\site-packages\\sklearn\\metrics\\_classification.py:1248: UndefinedMetricWarning: Precision and F-score are ill-defined and being set to 0.0 in labels with no predicted samples. Use `zero_division` parameter to control this behavior.\n",
      "  _warn_prf(average, modifier, msg_start, len(result))\n",
      "C:\\Users\\ravic\\anaconda3\\lib\\site-packages\\sklearn\\metrics\\_classification.py:1248: UndefinedMetricWarning: Precision and F-score are ill-defined and being set to 0.0 in labels with no predicted samples. Use `zero_division` parameter to control this behavior.\n",
      "  _warn_prf(average, modifier, msg_start, len(result))\n",
      "C:\\Users\\ravic\\anaconda3\\lib\\site-packages\\sklearn\\metrics\\_classification.py:1248: UndefinedMetricWarning: Precision and F-score are ill-defined and being set to 0.0 in labels with no predicted samples. Use `zero_division` parameter to control this behavior.\n",
      "  _warn_prf(average, modifier, msg_start, len(result))\n"
     ]
    }
   ],
   "source": [
    "#classification report\n",
    "y_predict = svm_si.fit(Ftrain, Ltrain).predict(Ftest)\n",
    "class_names = target.unique()\n",
    "print(classification_report(Ltest, y_predict, target_names=class_names))\n",
    "print(confusion_matrix(Ltest, y_predict))"
   ]
  },
  {
   "cell_type": "markdown",
   "id": "5a175c93",
   "metadata": {},
   "source": [
    "# Bernouli Naive bayes on Red data"
   ]
  },
  {
   "cell_type": "code",
   "execution_count": 38,
   "id": "d65fa897",
   "metadata": {},
   "outputs": [
    {
     "data": {
      "text/plain": [
       "0.13333333333333333"
      ]
     },
     "execution_count": 38,
     "metadata": {},
     "output_type": "execute_result"
    }
   ],
   "source": [
    "bnb.fit(Ftrain, Ltrain)\n",
    "y_pred = bnb.predict(Ftest)\n",
    "metrics.accuracy_score(Ltest, y_pred)"
   ]
  },
  {
   "cell_type": "code",
   "execution_count": 39,
   "id": "bdadbf8a",
   "metadata": {},
   "outputs": [
    {
     "name": "stdout",
     "output_type": "stream",
     "text": [
      "                               precision    recall  f1-score   support\n",
      "\n",
      "               bacterial_spot       0.12      0.99      0.22       115\n",
      "                 early_blight       0.25      0.03      0.06       120\n",
      "                      healthy       0.04      0.01      0.01       125\n",
      "                  late_blight       1.00      0.03      0.06       125\n",
      "                    leaf_mold       0.42      0.06      0.11       127\n",
      "           septoria_leaf_spot       0.12      0.02      0.03       117\n",
      "                  target_spot       0.18      0.04      0.07       115\n",
      "          tomato_mosaic_virus       0.15      0.06      0.08        54\n",
      "tomato_yellow_leaf_curl_virus       0.16      0.06      0.09       114\n",
      "      two-spotted_spider_mite       0.11      0.03      0.05       128\n",
      "\n",
      "                     accuracy                           0.13      1140\n",
      "                    macro avg       0.26      0.13      0.08      1140\n",
      "                 weighted avg       0.27      0.13      0.08      1140\n",
      "\n",
      "[[114   0   0   0   0   0   0   0   1   0]\n",
      " [ 95   4   1   0   5   4   3   4   2   2]\n",
      " [116   2   1   0   0   1   1   1   3   0]\n",
      " [108   2   4   4   0   2   2   1   1   1]\n",
      " [ 86   0   5   0   8   2   9   3   4  10]\n",
      " [ 94   3   1   0   2   2   0   4   5   6]\n",
      " [ 83   4   6   0   1   4   5   3   4   5]\n",
      " [ 26   0   5   0   2   0   6   3   8   4]\n",
      " [ 98   0   1   0   1   2   1   0   7   4]\n",
      " [112   1   1   0   0   0   1   1   8   4]]\n"
     ]
    }
   ],
   "source": [
    "class_names = target.unique()\n",
    "print(classification_report(Ltest, y_pred, target_names=class_names))\n",
    "print(confusion_matrix(Ltest, y_pred))"
   ]
  },
  {
   "cell_type": "markdown",
   "id": "39255a27",
   "metadata": {},
   "source": [
    "# Multinomial Naive bayes on Red data"
   ]
  },
  {
   "cell_type": "code",
   "execution_count": 40,
   "id": "437843bc",
   "metadata": {},
   "outputs": [
    {
     "data": {
      "text/plain": [
       "0.13333333333333333"
      ]
     },
     "execution_count": 40,
     "metadata": {},
     "output_type": "execute_result"
    }
   ],
   "source": [
    "mnb.fit(Ftrain, Ltrain)\n",
    "y_pred = mnb.predict(Ftest)\n",
    "metrics.accuracy_score(Ltest, y_pred)"
   ]
  },
  {
   "cell_type": "code",
   "execution_count": 41,
   "id": "2bcb0431",
   "metadata": {},
   "outputs": [
    {
     "name": "stdout",
     "output_type": "stream",
     "text": [
      "                               precision    recall  f1-score   support\n",
      "\n",
      "               bacterial_spot       0.12      0.99      0.22       115\n",
      "                 early_blight       0.25      0.03      0.06       120\n",
      "                      healthy       0.04      0.01      0.01       125\n",
      "                  late_blight       1.00      0.03      0.06       125\n",
      "                    leaf_mold       0.42      0.06      0.11       127\n",
      "           septoria_leaf_spot       0.12      0.02      0.03       117\n",
      "                  target_spot       0.18      0.04      0.07       115\n",
      "          tomato_mosaic_virus       0.15      0.06      0.08        54\n",
      "tomato_yellow_leaf_curl_virus       0.16      0.06      0.09       114\n",
      "      two-spotted_spider_mite       0.11      0.03      0.05       128\n",
      "\n",
      "                     accuracy                           0.13      1140\n",
      "                    macro avg       0.26      0.13      0.08      1140\n",
      "                 weighted avg       0.27      0.13      0.08      1140\n",
      "\n",
      "[[114   0   0   0   0   0   0   0   1   0]\n",
      " [ 95   4   1   0   5   4   3   4   2   2]\n",
      " [116   2   1   0   0   1   1   1   3   0]\n",
      " [108   2   4   4   0   2   2   1   1   1]\n",
      " [ 86   0   5   0   8   2   9   3   4  10]\n",
      " [ 94   3   1   0   2   2   0   4   5   6]\n",
      " [ 83   4   6   0   1   4   5   3   4   5]\n",
      " [ 26   0   5   0   2   0   6   3   8   4]\n",
      " [ 98   0   1   0   1   2   1   0   7   4]\n",
      " [112   1   1   0   0   0   1   1   8   4]]\n"
     ]
    }
   ],
   "source": [
    "class_names = target.unique()\n",
    "print(classification_report(Ltest, y_pred, target_names=class_names))\n",
    "print(confusion_matrix(Ltest, y_pred))"
   ]
  },
  {
   "cell_type": "markdown",
   "id": "11e4cd00",
   "metadata": {},
   "source": [
    "# Green channel data"
   ]
  },
  {
   "cell_type": "code",
   "execution_count": 42,
   "id": "40feb467",
   "metadata": {},
   "outputs": [],
   "source": [
    "#reading numpy array data\n",
    "green_test = np.load('green_data.npy')\n",
    "#reading csv file\n",
    "green_df = pd.read_csv('green_data.csv')\n",
    "#assigning features and target to split the data\n",
    "features = pd.DataFrame(green_test)\n",
    "features = features.values\n",
    "target = green_df['disease']\n",
    "#splitting the data to train and test\n",
    "Ftrain,Ftest,Ltrain,Ltest=train_test_split(features,target, test_size=0.20, random_state=24)"
   ]
  },
  {
   "cell_type": "markdown",
   "id": "9aa0bc22",
   "metadata": {},
   "source": [
    "# SVM(poly) on green data"
   ]
  },
  {
   "cell_type": "code",
   "execution_count": 43,
   "id": "fe39c65e",
   "metadata": {},
   "outputs": [
    {
     "name": "stdout",
     "output_type": "stream",
     "text": [
      "0.4675438596491228\n"
     ]
    }
   ],
   "source": [
    "svm_poly.fit(Ftrain,Ltrain)\n",
    "y_pred = svm_poly.predict(Ftest)\n",
    "print(accuracy_score(Ltest,y_pred))"
   ]
  },
  {
   "cell_type": "code",
   "execution_count": 44,
   "id": "8423b846",
   "metadata": {},
   "outputs": [
    {
     "name": "stdout",
     "output_type": "stream",
     "text": [
      "                               precision    recall  f1-score   support\n",
      "\n",
      "               bacterial_spot       0.38      0.61      0.47       115\n",
      "                 early_blight       0.39      0.41      0.40       120\n",
      "                      healthy       0.64      0.62      0.63       125\n",
      "                  late_blight       0.50      0.45      0.47       125\n",
      "                    leaf_mold       0.50      0.53      0.52       127\n",
      "           septoria_leaf_spot       0.38      0.34      0.36       117\n",
      "                  target_spot       0.51      0.41      0.45       115\n",
      "          tomato_mosaic_virus       0.44      0.33      0.38        54\n",
      "tomato_yellow_leaf_curl_virus       0.48      0.46      0.47       114\n",
      "      two-spotted_spider_mite       0.50      0.45      0.47       128\n",
      "\n",
      "                     accuracy                           0.47      1140\n",
      "                    macro avg       0.47      0.46      0.46      1140\n",
      "                 weighted avg       0.47      0.47      0.47      1140\n",
      "\n",
      "[[70 10  5  5  5  7  1  2  8  2]\n",
      " [29 49  3  5  8  2  9  1  7  7]\n",
      " [11  4 77  3  7  9  5  2  3  4]\n",
      " [ 7 17  9 56  8 10  2  2  8  6]\n",
      " [ 2 11  6 15 67  8  4  4  6  4]\n",
      " [12  8 12 13 12 40  9  2  6  3]\n",
      " [20  6  5  2  7  5 47  0  5 18]\n",
      " [ 3  1  2  2  6  8  2 18  7  5]\n",
      " [15  8  0  8  6 11  2  4 52  8]\n",
      " [15 12  2  4  7  6 12  6  7 57]]\n"
     ]
    }
   ],
   "source": [
    "#classification report\n",
    "y_predict = svm_poly.fit(Ftrain, Ltrain).predict(Ftest)\n",
    "class_names = target.unique()\n",
    "print(classification_report(Ltest, y_predict, target_names=class_names))\n",
    "print(confusion_matrix(Ltest, y_predict))"
   ]
  },
  {
   "cell_type": "markdown",
   "id": "6112d4e4",
   "metadata": {},
   "source": [
    "# SVM(RBF) on green data"
   ]
  },
  {
   "cell_type": "code",
   "execution_count": 45,
   "id": "69be936f",
   "metadata": {},
   "outputs": [
    {
     "name": "stdout",
     "output_type": "stream",
     "text": [
      "0.5947368421052631\n"
     ]
    }
   ],
   "source": [
    "svm_rbf.fit(Ftrain,Ltrain)\n",
    "y_pred = svm_rbf.predict(Ftest)\n",
    "print(accuracy_score(Ltest,y_pred))"
   ]
  },
  {
   "cell_type": "code",
   "execution_count": 46,
   "id": "81b4c571",
   "metadata": {},
   "outputs": [
    {
     "name": "stdout",
     "output_type": "stream",
     "text": [
      "                               precision    recall  f1-score   support\n",
      "\n",
      "               bacterial_spot       0.63      0.67      0.65       115\n",
      "                 early_blight       0.45      0.41      0.43       120\n",
      "                      healthy       0.69      0.85      0.76       125\n",
      "                  late_blight       0.66      0.57      0.61       125\n",
      "                    leaf_mold       0.64      0.63      0.63       127\n",
      "           septoria_leaf_spot       0.55      0.57      0.56       117\n",
      "                  target_spot       0.57      0.55      0.56       115\n",
      "          tomato_mosaic_virus       0.43      0.56      0.48        54\n",
      "tomato_yellow_leaf_curl_virus       0.60      0.56      0.58       114\n",
      "      two-spotted_spider_mite       0.63      0.55      0.59       128\n",
      "\n",
      "                     accuracy                           0.59      1140\n",
      "                    macro avg       0.58      0.59      0.59      1140\n",
      "                 weighted avg       0.59      0.59      0.59      1140\n",
      "\n",
      "[[ 77   3   8   3   6   5   0   2  10   1]\n",
      " [ 18  49   2   9   9   5   9   4   6   9]\n",
      " [  0   2 106   2   1   4   8   0   2   0]\n",
      " [  2   9   6  71   4  16   5   4   5   3]\n",
      " [  3   6   3  11  80   7   4   4   4   5]\n",
      " [  1   2  11   4   9  67   9   7   6   1]\n",
      " [  3  14   9   2   6   2  63   2   2  12]\n",
      " [  0   3   3   0   3   6   1  30   4   4]\n",
      " [ 10   7   5   6   3   7   1   5  64   6]\n",
      " [  8  15   1   0   4   3  11  12   3  71]]\n"
     ]
    }
   ],
   "source": [
    "#classification report\n",
    "y_predict = svm_rbf.fit(Ftrain, Ltrain).predict(Ftest)\n",
    "class_names = target.unique()\n",
    "print(classification_report(Ltest, y_predict, target_names=class_names))\n",
    "print(confusion_matrix(Ltest, y_predict))"
   ]
  },
  {
   "cell_type": "markdown",
   "id": "662d1937",
   "metadata": {},
   "source": [
    "# SVM(sigmoid) on green data"
   ]
  },
  {
   "cell_type": "code",
   "execution_count": 47,
   "id": "7f6adcca",
   "metadata": {},
   "outputs": [
    {
     "name": "stdout",
     "output_type": "stream",
     "text": [
      "0.08070175438596491\n"
     ]
    }
   ],
   "source": [
    "svm_si.fit(Ftrain,Ltrain)\n",
    "y_pred = svm_si.predict(Ftest)\n",
    "print(accuracy_score(Ltest,y_pred))"
   ]
  },
  {
   "cell_type": "code",
   "execution_count": 48,
   "id": "251d68f3",
   "metadata": {},
   "outputs": [
    {
     "name": "stdout",
     "output_type": "stream",
     "text": [
      "                               precision    recall  f1-score   support\n",
      "\n",
      "               bacterial_spot       0.05      0.32      0.09       115\n",
      "                 early_blight       0.00      0.00      0.00       120\n",
      "                      healthy       0.00      0.00      0.00       125\n",
      "                  late_blight       0.00      0.00      0.00       125\n",
      "                    leaf_mold       0.00      0.00      0.00       127\n",
      "           septoria_leaf_spot       0.00      0.00      0.00       117\n",
      "                  target_spot       0.00      0.00      0.00       115\n",
      "          tomato_mosaic_virus       0.00      0.00      0.00        54\n",
      "tomato_yellow_leaf_curl_virus       0.14      0.48      0.22       114\n",
      "      two-spotted_spider_mite       0.00      0.00      0.00       128\n",
      "\n",
      "                     accuracy                           0.08      1140\n",
      "                    macro avg       0.02      0.08      0.03      1140\n",
      "                 weighted avg       0.02      0.08      0.03      1140\n",
      "\n",
      "[[ 37   0   0   0   0   0   0   0  78   0]\n",
      " [ 46   0   0   0   0   0   0   0  74   0]\n",
      " [121   0   0   0   0   0   0   0   4   0]\n",
      " [100   0   0   0   0   4   0   0  21   0]\n",
      " [ 88   0   0   0   0   0   0   0  39   0]\n",
      " [104   0   0   0   0   0   0   0  13   0]\n",
      " [ 86   0   0   0   0   0   0   0  29   0]\n",
      " [ 42   0   0   0   0   0   0   0  12   0]\n",
      " [ 59   0   0   0   0   0   0   0  55   0]\n",
      " [ 70   0   0   0   0   0   0   0  58   0]]\n"
     ]
    },
    {
     "name": "stderr",
     "output_type": "stream",
     "text": [
      "C:\\Users\\ravic\\anaconda3\\lib\\site-packages\\sklearn\\metrics\\_classification.py:1248: UndefinedMetricWarning: Precision and F-score are ill-defined and being set to 0.0 in labels with no predicted samples. Use `zero_division` parameter to control this behavior.\n",
      "  _warn_prf(average, modifier, msg_start, len(result))\n",
      "C:\\Users\\ravic\\anaconda3\\lib\\site-packages\\sklearn\\metrics\\_classification.py:1248: UndefinedMetricWarning: Precision and F-score are ill-defined and being set to 0.0 in labels with no predicted samples. Use `zero_division` parameter to control this behavior.\n",
      "  _warn_prf(average, modifier, msg_start, len(result))\n",
      "C:\\Users\\ravic\\anaconda3\\lib\\site-packages\\sklearn\\metrics\\_classification.py:1248: UndefinedMetricWarning: Precision and F-score are ill-defined and being set to 0.0 in labels with no predicted samples. Use `zero_division` parameter to control this behavior.\n",
      "  _warn_prf(average, modifier, msg_start, len(result))\n"
     ]
    }
   ],
   "source": [
    "#classification report\n",
    "y_predict = svm_si.fit(Ftrain, Ltrain).predict(Ftest)\n",
    "class_names = target.unique()\n",
    "print(classification_report(Ltest, y_predict, target_names=class_names))\n",
    "print(confusion_matrix(Ltest, y_predict))"
   ]
  },
  {
   "cell_type": "markdown",
   "id": "8aa412dd",
   "metadata": {},
   "source": [
    "# Bernouli Naive bayes on green data"
   ]
  },
  {
   "cell_type": "code",
   "execution_count": 49,
   "id": "b6622b8d",
   "metadata": {},
   "outputs": [
    {
     "data": {
      "text/plain": [
       "0.12894736842105264"
      ]
     },
     "execution_count": 49,
     "metadata": {},
     "output_type": "execute_result"
    }
   ],
   "source": [
    "bnb.fit(Ftrain, Ltrain)\n",
    "y_pred = bnb.predict(Ftest)\n",
    "metrics.accuracy_score(Ltest, y_pred)"
   ]
  },
  {
   "cell_type": "code",
   "execution_count": 50,
   "id": "f3c6b16f",
   "metadata": {},
   "outputs": [
    {
     "name": "stdout",
     "output_type": "stream",
     "text": [
      "                               precision    recall  f1-score   support\n",
      "\n",
      "               bacterial_spot       0.11      1.00      0.20       115\n",
      "                 early_blight       0.53      0.08      0.14       120\n",
      "                      healthy       0.36      0.04      0.07       125\n",
      "                  late_blight       1.00      0.02      0.05       125\n",
      "                    leaf_mold       0.35      0.06      0.10       127\n",
      "           septoria_leaf_spot       0.30      0.03      0.05       117\n",
      "                  target_spot       0.10      0.02      0.03       115\n",
      "          tomato_mosaic_virus       0.06      0.02      0.03        54\n",
      "tomato_yellow_leaf_curl_virus       0.00      0.00      0.00       114\n",
      "      two-spotted_spider_mite       0.17      0.01      0.01       128\n",
      "\n",
      "                     accuracy                           0.13      1140\n",
      "                    macro avg       0.30      0.13      0.07      1140\n",
      "                 weighted avg       0.32      0.13      0.07      1140\n",
      "\n",
      "[[115   0   0   0   0   0   0   0   0   0]\n",
      " [ 84  10   2   0   6   0   7  10   0   1]\n",
      " [114   2   5   0   1   1   2   0   0   0]\n",
      " [113   2   0   3   2   0   1   3   0   1]\n",
      " [104   2   2   0   7   4   4   3   0   1]\n",
      " [ 99   3   2   0   4   3   4   1   0   1]\n",
      " [112   0   0   0   0   0   2   0   0   1]\n",
      " [ 47   0   3   0   0   2   1   1   0   0]\n",
      " [114   0   0   0   0   0   0   0   0   0]\n",
      " [127   0   0   0   0   0   0   0   0   1]]\n"
     ]
    },
    {
     "name": "stderr",
     "output_type": "stream",
     "text": [
      "C:\\Users\\ravic\\anaconda3\\lib\\site-packages\\sklearn\\metrics\\_classification.py:1248: UndefinedMetricWarning: Precision and F-score are ill-defined and being set to 0.0 in labels with no predicted samples. Use `zero_division` parameter to control this behavior.\n",
      "  _warn_prf(average, modifier, msg_start, len(result))\n",
      "C:\\Users\\ravic\\anaconda3\\lib\\site-packages\\sklearn\\metrics\\_classification.py:1248: UndefinedMetricWarning: Precision and F-score are ill-defined and being set to 0.0 in labels with no predicted samples. Use `zero_division` parameter to control this behavior.\n",
      "  _warn_prf(average, modifier, msg_start, len(result))\n",
      "C:\\Users\\ravic\\anaconda3\\lib\\site-packages\\sklearn\\metrics\\_classification.py:1248: UndefinedMetricWarning: Precision and F-score are ill-defined and being set to 0.0 in labels with no predicted samples. Use `zero_division` parameter to control this behavior.\n",
      "  _warn_prf(average, modifier, msg_start, len(result))\n"
     ]
    }
   ],
   "source": [
    "class_names = target.unique()\n",
    "print(classification_report(Ltest, y_pred, target_names=class_names))\n",
    "print(confusion_matrix(Ltest, y_pred))"
   ]
  },
  {
   "cell_type": "markdown",
   "id": "d144692e",
   "metadata": {},
   "source": [
    "# Multinomial Naive bayes on Green data"
   ]
  },
  {
   "cell_type": "code",
   "execution_count": 51,
   "id": "a7a34c33",
   "metadata": {},
   "outputs": [
    {
     "data": {
      "text/plain": [
       "0.12894736842105264"
      ]
     },
     "execution_count": 51,
     "metadata": {},
     "output_type": "execute_result"
    }
   ],
   "source": [
    "mnb.fit(Ftrain, Ltrain)\n",
    "y_pred = mnb.predict(Ftest)\n",
    "metrics.accuracy_score(Ltest, y_pred)"
   ]
  },
  {
   "cell_type": "code",
   "execution_count": 52,
   "id": "441ea45d",
   "metadata": {},
   "outputs": [
    {
     "name": "stdout",
     "output_type": "stream",
     "text": [
      "                               precision    recall  f1-score   support\n",
      "\n",
      "               bacterial_spot       0.11      1.00      0.20       115\n",
      "                 early_blight       0.53      0.08      0.14       120\n",
      "                      healthy       0.36      0.04      0.07       125\n",
      "                  late_blight       1.00      0.02      0.05       125\n",
      "                    leaf_mold       0.35      0.06      0.10       127\n",
      "           septoria_leaf_spot       0.30      0.03      0.05       117\n",
      "                  target_spot       0.10      0.02      0.03       115\n",
      "          tomato_mosaic_virus       0.06      0.02      0.03        54\n",
      "tomato_yellow_leaf_curl_virus       0.00      0.00      0.00       114\n",
      "      two-spotted_spider_mite       0.17      0.01      0.01       128\n",
      "\n",
      "                     accuracy                           0.13      1140\n",
      "                    macro avg       0.30      0.13      0.07      1140\n",
      "                 weighted avg       0.32      0.13      0.07      1140\n",
      "\n",
      "[[115   0   0   0   0   0   0   0   0   0]\n",
      " [ 84  10   2   0   6   0   7  10   0   1]\n",
      " [114   2   5   0   1   1   2   0   0   0]\n",
      " [113   2   0   3   2   0   1   3   0   1]\n",
      " [104   2   2   0   7   4   4   3   0   1]\n",
      " [ 99   3   2   0   4   3   4   1   0   1]\n",
      " [112   0   0   0   0   0   2   0   0   1]\n",
      " [ 47   0   3   0   0   2   1   1   0   0]\n",
      " [114   0   0   0   0   0   0   0   0   0]\n",
      " [127   0   0   0   0   0   0   0   0   1]]\n"
     ]
    },
    {
     "name": "stderr",
     "output_type": "stream",
     "text": [
      "C:\\Users\\ravic\\anaconda3\\lib\\site-packages\\sklearn\\metrics\\_classification.py:1248: UndefinedMetricWarning: Precision and F-score are ill-defined and being set to 0.0 in labels with no predicted samples. Use `zero_division` parameter to control this behavior.\n",
      "  _warn_prf(average, modifier, msg_start, len(result))\n",
      "C:\\Users\\ravic\\anaconda3\\lib\\site-packages\\sklearn\\metrics\\_classification.py:1248: UndefinedMetricWarning: Precision and F-score are ill-defined and being set to 0.0 in labels with no predicted samples. Use `zero_division` parameter to control this behavior.\n",
      "  _warn_prf(average, modifier, msg_start, len(result))\n",
      "C:\\Users\\ravic\\anaconda3\\lib\\site-packages\\sklearn\\metrics\\_classification.py:1248: UndefinedMetricWarning: Precision and F-score are ill-defined and being set to 0.0 in labels with no predicted samples. Use `zero_division` parameter to control this behavior.\n",
      "  _warn_prf(average, modifier, msg_start, len(result))\n"
     ]
    }
   ],
   "source": [
    "class_names = target.unique()\n",
    "print(classification_report(Ltest, y_pred, target_names=class_names))\n",
    "print(confusion_matrix(Ltest, y_pred))"
   ]
  },
  {
   "cell_type": "markdown",
   "id": "a6a80ecb",
   "metadata": {},
   "source": [
    "# Blue channel data"
   ]
  },
  {
   "cell_type": "code",
   "execution_count": 53,
   "id": "06094596",
   "metadata": {},
   "outputs": [],
   "source": [
    "#reading numpy array data\n",
    "blue_test = np.load('blue_data.npy')\n",
    "#reading csv file\n",
    "blue_df = pd.read_csv('blue_data.csv')\n",
    "#assigning features and target to split the data\n",
    "features = pd.DataFrame(blue_test)\n",
    "features = features.values\n",
    "target = blue_df['disease']\n",
    "#splitting the data to train and test\n",
    "Ftrain,Ftest,Ltrain,Ltest=train_test_split(features,target, test_size=0.20, random_state=24)"
   ]
  },
  {
   "cell_type": "markdown",
   "id": "4d40997b",
   "metadata": {},
   "source": [
    "# SVM(poly) on blue data"
   ]
  },
  {
   "cell_type": "code",
   "execution_count": 54,
   "id": "39b88095",
   "metadata": {},
   "outputs": [
    {
     "name": "stdout",
     "output_type": "stream",
     "text": [
      "0.5482456140350878\n"
     ]
    }
   ],
   "source": [
    "svm_poly.fit(Ftrain,Ltrain)\n",
    "y_pred = svm_poly.predict(Ftest)\n",
    "print(accuracy_score(Ltest,y_pred))"
   ]
  },
  {
   "cell_type": "code",
   "execution_count": 55,
   "id": "dc98d740",
   "metadata": {},
   "outputs": [
    {
     "name": "stdout",
     "output_type": "stream",
     "text": [
      "                               precision    recall  f1-score   support\n",
      "\n",
      "               bacterial_spot       0.46      0.77      0.58       115\n",
      "                 early_blight       0.38      0.36      0.37       120\n",
      "                      healthy       0.76      0.67      0.71       125\n",
      "                  late_blight       0.60      0.55      0.57       125\n",
      "                    leaf_mold       0.60      0.63      0.61       127\n",
      "           septoria_leaf_spot       0.47      0.37      0.41       117\n",
      "                  target_spot       0.46      0.47      0.46       115\n",
      "          tomato_mosaic_virus       0.51      0.48      0.50        54\n",
      "tomato_yellow_leaf_curl_virus       0.71      0.67      0.69       114\n",
      "      two-spotted_spider_mite       0.56      0.48      0.52       128\n",
      "\n",
      "                     accuracy                           0.55      1140\n",
      "                    macro avg       0.55      0.54      0.54      1140\n",
      "                 weighted avg       0.56      0.55      0.55      1140\n",
      "\n",
      "[[89  6  1  7  1  2  1  1  6  1]\n",
      " [26 43  3  9  7  4 10  1  9  8]\n",
      " [10  5 84  2  1  2 18  0  0  3]\n",
      " [ 6 18  9 69 10  6  2  1  2  2]\n",
      " [ 2  6  0 10 80 13  7  4  0  5]\n",
      " [10  5  3  7 20 43 12  7  4  6]\n",
      " [21 11  7  0  5  4 54  1  1 11]\n",
      " [ 1  0  0  4  7  7  0 26  3  6]\n",
      " [ 7 13  0  4  2  6  0  1 76  5]\n",
      " [21  5  3  3  1  5 14  9  6 61]]\n"
     ]
    }
   ],
   "source": [
    "#classification report\n",
    "y_predict = svm_poly.fit(Ftrain, Ltrain).predict(Ftest)\n",
    "class_names = target.unique()\n",
    "print(classification_report(Ltest, y_predict, target_names=class_names))\n",
    "print(confusion_matrix(Ltest, y_predict))"
   ]
  },
  {
   "cell_type": "markdown",
   "id": "5226f4f2",
   "metadata": {},
   "source": [
    "# SVM(RBF) on blue data"
   ]
  },
  {
   "cell_type": "code",
   "execution_count": 56,
   "id": "183a5680",
   "metadata": {},
   "outputs": [
    {
     "name": "stdout",
     "output_type": "stream",
     "text": [
      "0.6394736842105263\n"
     ]
    }
   ],
   "source": [
    "svm_rbf.fit(Ftrain,Ltrain)\n",
    "y_pred = svm_rbf.predict(Ftest)\n",
    "print(accuracy_score(Ltest,y_pred))"
   ]
  },
  {
   "cell_type": "code",
   "execution_count": 57,
   "id": "22270861",
   "metadata": {},
   "outputs": [
    {
     "name": "stdout",
     "output_type": "stream",
     "text": [
      "                               precision    recall  f1-score   support\n",
      "\n",
      "               bacterial_spot       0.64      0.83      0.72       115\n",
      "                 early_blight       0.53      0.44      0.48       120\n",
      "                      healthy       0.83      0.83      0.83       125\n",
      "                  late_blight       0.68      0.59      0.63       125\n",
      "                    leaf_mold       0.71      0.62      0.66       127\n",
      "           septoria_leaf_spot       0.63      0.46      0.53       117\n",
      "                  target_spot       0.54      0.62      0.57       115\n",
      "          tomato_mosaic_virus       0.52      0.70      0.60        54\n",
      "tomato_yellow_leaf_curl_virus       0.69      0.80      0.74       114\n",
      "      two-spotted_spider_mite       0.57      0.54      0.55       128\n",
      "\n",
      "                     accuracy                           0.64      1140\n",
      "                    macro avg       0.63      0.64      0.63      1140\n",
      "                 weighted avg       0.64      0.64      0.64      1140\n",
      "\n",
      "[[ 96   1   3   4   1   0   0   1   8   1]\n",
      " [ 20  53   4   7   3   5  12   1   9   6]\n",
      " [  0   2 104   4   1   0  13   0   0   1]\n",
      " [  5  11   8  74   4  10   6   3   2   2]\n",
      " [  0   5   0   8  79  11   9   3   2  10]\n",
      " [  4   4   1   7  15  54   8  11   8   5]\n",
      " [  7  11   5   0   4   2  71   1   0  14]\n",
      " [  0   0   0   1   3   4   1  38   2   5]\n",
      " [  7   2   1   3   0   0   0   1  91   9]\n",
      " [ 11  11   0   1   1   0  12  14   9  69]]\n"
     ]
    }
   ],
   "source": [
    "#classification report\n",
    "y_predict = svm_rbf.fit(Ftrain, Ltrain).predict(Ftest)\n",
    "class_names = target.unique()\n",
    "print(classification_report(Ltest, y_predict, target_names=class_names))\n",
    "print(confusion_matrix(Ltest, y_predict))"
   ]
  },
  {
   "cell_type": "markdown",
   "id": "09f47e7e",
   "metadata": {},
   "source": [
    "# SVM(sigmoid) on blue data"
   ]
  },
  {
   "cell_type": "code",
   "execution_count": 58,
   "id": "4401c844",
   "metadata": {},
   "outputs": [
    {
     "name": "stdout",
     "output_type": "stream",
     "text": [
      "0.08947368421052632\n"
     ]
    }
   ],
   "source": [
    "svm_si.fit(Ftrain,Ltrain)\n",
    "y_pred = svm_si.predict(Ftest)\n",
    "print(accuracy_score(Ltest,y_pred))"
   ]
  },
  {
   "cell_type": "code",
   "execution_count": 59,
   "id": "4372e59f",
   "metadata": {},
   "outputs": [
    {
     "name": "stdout",
     "output_type": "stream",
     "text": [
      "                               precision    recall  f1-score   support\n",
      "\n",
      "               bacterial_spot       0.29      0.12      0.17       115\n",
      "                 early_blight       0.00      0.00      0.00       120\n",
      "                      healthy       0.00      0.00      0.00       125\n",
      "                  late_blight       0.00      0.00      0.00       125\n",
      "                    leaf_mold       0.00      0.00      0.00       127\n",
      "           septoria_leaf_spot       0.00      0.00      0.00       117\n",
      "                  target_spot       0.00      0.00      0.00       115\n",
      "          tomato_mosaic_virus       0.00      0.00      0.00        54\n",
      "tomato_yellow_leaf_curl_virus       0.08      0.77      0.15       114\n",
      "      two-spotted_spider_mite       0.00      0.00      0.00       128\n",
      "\n",
      "                     accuracy                           0.09      1140\n",
      "                    macro avg       0.04      0.09      0.03      1140\n",
      "                 weighted avg       0.04      0.09      0.03      1140\n",
      "\n",
      "[[ 14   0   0   0   0   0   3   0  98   0]\n",
      " [  8   0   0   0   0   0   5   0 107   0]\n",
      " [  4   0   0   0   0   0   1   0 120   0]\n",
      " [  6   0   4   0   0   1   1   0 113   0]\n",
      " [  0   0   0   0   0   0   0   0 127   0]\n",
      " [  0   0   0   0   0   0   0   0 117   0]\n",
      " [  0   0   0   0   0   0   0   0 115   0]\n",
      " [  0   0   0   0   0   0   0   0  54   0]\n",
      " [ 14   0   0   0   0   2  10   0  88   0]\n",
      " [  2   0   0   0   0   0   2   0 124   0]]\n"
     ]
    },
    {
     "name": "stderr",
     "output_type": "stream",
     "text": [
      "C:\\Users\\ravic\\anaconda3\\lib\\site-packages\\sklearn\\metrics\\_classification.py:1248: UndefinedMetricWarning: Precision and F-score are ill-defined and being set to 0.0 in labels with no predicted samples. Use `zero_division` parameter to control this behavior.\n",
      "  _warn_prf(average, modifier, msg_start, len(result))\n",
      "C:\\Users\\ravic\\anaconda3\\lib\\site-packages\\sklearn\\metrics\\_classification.py:1248: UndefinedMetricWarning: Precision and F-score are ill-defined and being set to 0.0 in labels with no predicted samples. Use `zero_division` parameter to control this behavior.\n",
      "  _warn_prf(average, modifier, msg_start, len(result))\n",
      "C:\\Users\\ravic\\anaconda3\\lib\\site-packages\\sklearn\\metrics\\_classification.py:1248: UndefinedMetricWarning: Precision and F-score are ill-defined and being set to 0.0 in labels with no predicted samples. Use `zero_division` parameter to control this behavior.\n",
      "  _warn_prf(average, modifier, msg_start, len(result))\n"
     ]
    }
   ],
   "source": [
    "#classification report\n",
    "y_predict = svm_si.fit(Ftrain, Ltrain).predict(Ftest)\n",
    "class_names = target.unique()\n",
    "print(classification_report(Ltest, y_predict, target_names=class_names))\n",
    "print(confusion_matrix(Ltest, y_predict))"
   ]
  },
  {
   "cell_type": "markdown",
   "id": "7401f4ab",
   "metadata": {},
   "source": [
    "# Bernouli Naive bayes on blue data"
   ]
  },
  {
   "cell_type": "code",
   "execution_count": 60,
   "id": "a8ddf84b",
   "metadata": {},
   "outputs": [
    {
     "data": {
      "text/plain": [
       "0.27631578947368424"
      ]
     },
     "execution_count": 60,
     "metadata": {},
     "output_type": "execute_result"
    }
   ],
   "source": [
    "bnb.fit(Ftrain, Ltrain)\n",
    "y_pred = bnb.predict(Ftest)\n",
    "metrics.accuracy_score(Ltest, y_pred)"
   ]
  },
  {
   "cell_type": "code",
   "execution_count": 61,
   "id": "944621bd",
   "metadata": {},
   "outputs": [
    {
     "name": "stdout",
     "output_type": "stream",
     "text": [
      "                               precision    recall  f1-score   support\n",
      "\n",
      "               bacterial_spot       0.19      0.95      0.32       115\n",
      "                 early_blight       0.35      0.18      0.24       120\n",
      "                      healthy       0.25      0.17      0.20       125\n",
      "                  late_blight       0.41      0.06      0.10       125\n",
      "                    leaf_mold       0.44      0.21      0.29       127\n",
      "           septoria_leaf_spot       0.38      0.08      0.13       117\n",
      "                  target_spot       0.35      0.18      0.24       115\n",
      "          tomato_mosaic_virus       0.10      0.06      0.07        54\n",
      "tomato_yellow_leaf_curl_virus       0.47      0.54      0.50       114\n",
      "      two-spotted_spider_mite       0.31      0.27      0.29       128\n",
      "\n",
      "                     accuracy                           0.28      1140\n",
      "                    macro avg       0.33      0.27      0.24      1140\n",
      "                 weighted avg       0.34      0.28      0.25      1140\n",
      "\n",
      "[[109   1   2   0   1   1   0   1   0   0]\n",
      " [ 45  22   9   9   6   1   4   2  15   7]\n",
      " [ 66   6  21   0   9   3   8   1   0  11]\n",
      " [ 84   8   4   7   3   0   0   1  13   5]\n",
      " [ 57   5   4   1  27   3   3   2  17   8]\n",
      " [ 53   8   8   0   9   9   9   5   8   8]\n",
      " [ 56   6  12   0   2   2  21   2   3  11]\n",
      " [ 26   1   5   0   1   0   3   3   3  12]\n",
      " [ 22   0   5   0   1   4   2   3  61  16]\n",
      " [ 42   5  14   0   3   1  10   9   9  35]]\n"
     ]
    }
   ],
   "source": [
    "class_names = target.unique()\n",
    "print(classification_report(Ltest, y_pred, target_names=class_names))\n",
    "print(confusion_matrix(Ltest, y_pred))"
   ]
  },
  {
   "cell_type": "markdown",
   "id": "cbf0037b",
   "metadata": {},
   "source": [
    "# Multinomial Naive bayes on blue data"
   ]
  },
  {
   "cell_type": "code",
   "execution_count": 62,
   "id": "050a9f46",
   "metadata": {},
   "outputs": [
    {
     "data": {
      "text/plain": [
       "0.27631578947368424"
      ]
     },
     "execution_count": 62,
     "metadata": {},
     "output_type": "execute_result"
    }
   ],
   "source": [
    "mnb.fit(Ftrain, Ltrain)\n",
    "y_pred = mnb.predict(Ftest)\n",
    "metrics.accuracy_score(Ltest, y_pred)"
   ]
  },
  {
   "cell_type": "code",
   "execution_count": 63,
   "id": "9a916b04",
   "metadata": {},
   "outputs": [
    {
     "name": "stdout",
     "output_type": "stream",
     "text": [
      "                               precision    recall  f1-score   support\n",
      "\n",
      "               bacterial_spot       0.19      0.95      0.32       115\n",
      "                 early_blight       0.35      0.18      0.24       120\n",
      "                      healthy       0.25      0.17      0.20       125\n",
      "                  late_blight       0.41      0.06      0.10       125\n",
      "                    leaf_mold       0.44      0.21      0.29       127\n",
      "           septoria_leaf_spot       0.38      0.08      0.13       117\n",
      "                  target_spot       0.35      0.18      0.24       115\n",
      "          tomato_mosaic_virus       0.10      0.06      0.07        54\n",
      "tomato_yellow_leaf_curl_virus       0.47      0.54      0.50       114\n",
      "      two-spotted_spider_mite       0.31      0.27      0.29       128\n",
      "\n",
      "                     accuracy                           0.28      1140\n",
      "                    macro avg       0.33      0.27      0.24      1140\n",
      "                 weighted avg       0.34      0.28      0.25      1140\n",
      "\n",
      "[[109   1   2   0   1   1   0   1   0   0]\n",
      " [ 45  22   9   9   6   1   4   2  15   7]\n",
      " [ 66   6  21   0   9   3   8   1   0  11]\n",
      " [ 84   8   4   7   3   0   0   1  13   5]\n",
      " [ 57   5   4   1  27   3   3   2  17   8]\n",
      " [ 53   8   8   0   9   9   9   5   8   8]\n",
      " [ 56   6  12   0   2   2  21   2   3  11]\n",
      " [ 26   1   5   0   1   0   3   3   3  12]\n",
      " [ 22   0   5   0   1   4   2   3  61  16]\n",
      " [ 42   5  14   0   3   1  10   9   9  35]]\n"
     ]
    }
   ],
   "source": [
    "class_names = target.unique()\n",
    "print(classification_report(Ltest, y_pred, target_names=class_names))\n",
    "print(confusion_matrix(Ltest, y_pred))"
   ]
  },
  {
   "cell_type": "code",
   "execution_count": 64,
   "id": "195a0b21",
   "metadata": {},
   "outputs": [
    {
     "name": "stdout",
     "output_type": "stream",
     "text": [
      "7283.056530237198\n"
     ]
    }
   ],
   "source": [
    "end_time = time.time()\n",
    "print(end_time - start_time)"
   ]
  }
 ],
 "metadata": {
  "kernelspec": {
   "display_name": "Python 3 (ipykernel)",
   "language": "python",
   "name": "python3"
  },
  "language_info": {
   "codemirror_mode": {
    "name": "ipython",
    "version": 3
   },
   "file_extension": ".py",
   "mimetype": "text/x-python",
   "name": "python",
   "nbconvert_exporter": "python",
   "pygments_lexer": "ipython3",
   "version": "3.9.7"
  }
 },
 "nbformat": 4,
 "nbformat_minor": 5
}
