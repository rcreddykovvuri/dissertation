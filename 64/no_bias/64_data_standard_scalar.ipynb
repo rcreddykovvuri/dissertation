{
 "cells": [
  {
   "cell_type": "code",
   "execution_count": 1,
   "id": "bcdb1517",
   "metadata": {},
   "outputs": [],
   "source": [
    "import numpy as np #importing numpy\n",
    "import pandas as pd #importing pandas\n",
    "import PIL #importing pillow for image processing\n",
    "from PIL import Image#importing image from pillow library\n",
    "import skimage#importing skimage library\n",
    "import os#importing os library\n",
    "import time#importing time library\n",
    "\n",
    "#Capture start time of the program\n",
    "start_time = time.time()"
   ]
  },
  {
   "cell_type": "code",
   "execution_count": 2,
   "id": "9b1ff8ae",
   "metadata": {},
   "outputs": [],
   "source": [
    "from string import digits\n",
    "#code to remove numbers in a string and assigning it to the variable\n",
    "r_digits = str.maketrans('', '', digits)\n",
    "#taking source data folder path to a varible\n",
    "rawdata_path = 'D://DKIT//dissertation//Dataset_of_Tomato_Leaves//plantvillage//Preprocessed_data//64//no_bias//'\n",
    "#changing current librbay to source data\n",
    "os.chdir(rawdata_path)\n",
    "#taking sub-directories to a list\n",
    "dirs = os.listdir()\n",
    "directories = []\n",
    "diseases = []\n",
    "#Taking directories into a list and extract disease name from folder name\n",
    "for x in dirs:\n",
    "    res = x.translate(r_digits).lower()\n",
    "    diseases.append(res)\n",
    "    temp = rawdata_path + x + '//'\n",
    "    directories.append(temp)"
   ]
  },
  {
   "cell_type": "code",
   "execution_count": 3,
   "id": "e67c4402",
   "metadata": {},
   "outputs": [],
   "source": [
    "for i in directories:\n",
    "    os.chdir(i)\n",
    "    pics = os.listdir()\n",
    "    #reading pics one by one in each directory\n",
    "    for j in pics:\n",
    "        image = Image.open(j,mode='r')\n",
    "        size = (64,64)\n",
    "        image = image.resize(size)\n",
    "        image = image.save(j)"
   ]
  },
  {
   "cell_type": "code",
   "execution_count": 4,
   "id": "0e3f1cdc",
   "metadata": {},
   "outputs": [],
   "source": [
    "#creating different dataframes for saving data in different vector forms\n",
    "#gray data\n",
    "gray_df = pd.DataFrame(columns=['mean','disease'])\n",
    "#rgb data\n",
    "rgb_df = pd.DataFrame(columns=['mean','disease'])\n",
    "#red data\n",
    "red_df = pd.DataFrame(columns=['mean','disease'])\n",
    "#green data\n",
    "green_df = pd.DataFrame(columns=['mean','disease'])\n",
    "#blue data\n",
    "blue_df = pd.DataFrame(columns=['mean','disease'])"
   ]
  },
  {
   "cell_type": "code",
   "execution_count": 5,
   "id": "d259b674",
   "metadata": {},
   "outputs": [],
   "source": [
    "#extracting data from images\n",
    "x = 0\n",
    "#creating enpty directories to save the vector from in to a list\n",
    "gray_test = []\n",
    "rgb_final = []\n",
    "red_final = []\n",
    "green_final = []\n",
    "blue_final = []\n",
    "disease = []\n",
    "#reading data directory by directory\n",
    "for i in directories:\n",
    "    os.chdir(i)\n",
    "    k = diseases[x]\n",
    "    pics = os.listdir()\n",
    "    #reading pics one by one in each directory\n",
    "    for j in pics:\n",
    "        temp_list = []\n",
    "        rgb_temp = []\n",
    "        red_temp = []\n",
    "        green_temp = []\n",
    "        blue_temp = []\n",
    "        gray = []\n",
    "        data = []\n",
    "        red = []\n",
    "        green = []\n",
    "        blue = []\n",
    "        #opening the image in rgb format\n",
    "        image = Image.open(j,mode='r')\n",
    "        data = image.convert('RGB')\n",
    "        data = np.array(data)\n",
    "        #extracting only red components\n",
    "        red = data[:,:,0]\n",
    "        #extracting only green components\n",
    "        green = data[:,:,1]\n",
    "        #extracting only blue components\n",
    "        blue = data[:,:,2]\n",
    "        data = data.ravel()\n",
    "        #saving rgb vector data into list\n",
    "        rgb_final.append(data)\n",
    "        rgb_temp.append(np.mean(data))\n",
    "        rgb_temp.append(k)\n",
    "        rgb_df.loc[len(rgb_df)] = rgb_temp\n",
    "        #saving red channel data into dataframe and vector data to a list.\n",
    "        red = red.ravel()\n",
    "        red_final.append(red)\n",
    "        red_temp.append(np.mean(red))\n",
    "        red_temp.append(k)\n",
    "        red_df.loc[len(red_df)] = red_temp\n",
    "        #saving blue channel data into dataframe and vector data to a list.\n",
    "        blue = blue.ravel()\n",
    "        blue_final.append(blue)\n",
    "        blue_temp.append(np.mean(blue))\n",
    "        blue_temp.append(k)\n",
    "        blue_df.loc[len(blue_df)] = blue_temp\n",
    "        #saving green channel data into dataframe and vector data to a list.\n",
    "        green = green.ravel()\n",
    "        green_final.append(green)\n",
    "        green_temp.append(np.mean(green))\n",
    "        green_temp.append(k)\n",
    "        green_df.loc[len(green_df)] = green_temp\n",
    "        #opening the image in gray format\n",
    "        gray = image.convert('L')\n",
    "        gray = np.array(gray)\n",
    "        gray = gray.ravel()\n",
    "        gray_test.append(gray)\n",
    "        temp_list.append(np.mean(gray))\n",
    "        temp_list.append(k)       \n",
    "        gray_df.loc[len(gray_df)] = temp_list\n",
    "    x = x+1"
   ]
  },
  {
   "cell_type": "code",
   "execution_count": 6,
   "id": "9ec45970",
   "metadata": {},
   "outputs": [],
   "source": [
    "#changing path\n",
    "os.chdir('D://DKIT//dissertation//Dataset_of_Tomato_Leaves//plantvillage//Preprocessed_data//64//no_bias_vector//')"
   ]
  },
  {
   "cell_type": "code",
   "execution_count": 7,
   "id": "9b5459ff",
   "metadata": {},
   "outputs": [],
   "source": [
    "#saving the lists as numpy arrays in the local system\n",
    "np.save('gray_test',gray_test)\n",
    "np.save('rgb_data',rgb_final)\n",
    "np.save('red_data',red_final)\n",
    "np.save('green_data',green_final)\n",
    "np.save('blue_data',blue_final)"
   ]
  },
  {
   "cell_type": "code",
   "execution_count": 8,
   "id": "681ad20a",
   "metadata": {},
   "outputs": [],
   "source": [
    "#saving the dataframe as csv files in the local system\n",
    "gray_df.to_csv('gray_data.csv',index=False)\n",
    "rgb_df.to_csv('rgb_data.csv',index=False)\n",
    "red_df.to_csv('red_data.csv',index=False)\n",
    "green_df.to_csv('green_data.csv',index=False)\n",
    "blue_df.to_csv('blue_data.csv',index=False)"
   ]
  },
  {
   "cell_type": "markdown",
   "id": "7139bf53",
   "metadata": {},
   "source": [
    "# KNN on rgb data"
   ]
  },
  {
   "cell_type": "code",
   "execution_count": 9,
   "id": "9386938c",
   "metadata": {},
   "outputs": [],
   "source": [
    "#reading numpy array data\n",
    "rgb_test = np.load('rgb_data.npy')\n",
    "#reading csv file\n",
    "rgb_df = pd.read_csv('rgb_data.csv')"
   ]
  },
  {
   "cell_type": "code",
   "execution_count": 10,
   "id": "05aa0a40",
   "metadata": {},
   "outputs": [],
   "source": [
    "loaded = []\n",
    "for i in rgb_test:\n",
    "    k = []\n",
    "    k = np.asarray(i,dtype='uint8')\n",
    "    loaded.append(k)"
   ]
  },
  {
   "cell_type": "code",
   "execution_count": 11,
   "id": "c6d5658c",
   "metadata": {},
   "outputs": [],
   "source": [
    "#assigning features and target\n",
    "features = loaded\n",
    "target = rgb_df['disease']\n",
    "#splitting the data to 80 percent and 20 percent\n",
    "from sklearn.model_selection import train_test_split\n",
    "Ftrain,Ftest,Ltrain,Ltest=train_test_split(features,target, test_size=0.20, random_state=24)\n",
    "#scaling the data using standard scaler\n",
    "from sklearn.preprocessing import StandardScaler\n",
    "scaler = StandardScaler()\n",
    "Ftrain = scaler.fit_transform(Ftrain)\n",
    "Ftest = scaler.fit_transform(Ftest)"
   ]
  },
  {
   "cell_type": "code",
   "execution_count": 12,
   "id": "6f1171c6",
   "metadata": {},
   "outputs": [],
   "source": [
    "#K-Model on the data\n",
    "from sklearn.neighbors import KNeighborsClassifier\n",
    "kmodel = KNeighborsClassifier(n_neighbors=75)"
   ]
  },
  {
   "cell_type": "code",
   "execution_count": 13,
   "id": "b9fdc978",
   "metadata": {},
   "outputs": [
    {
     "name": "stdout",
     "output_type": "stream",
     "text": [
      "0.4324561403508772\n"
     ]
    }
   ],
   "source": [
    "#k-model fitting and accuracy\n",
    "kmodel.fit(Ftrain,Ltrain)\n",
    "print(kmodel.score(Ftest,Ltest))"
   ]
  },
  {
   "cell_type": "code",
   "execution_count": 14,
   "id": "ee18e5c3",
   "metadata": {},
   "outputs": [],
   "source": [
    "#importing classification report and confusion matrix\n",
    "from sklearn.metrics import classification_report, confusion_matrix"
   ]
  },
  {
   "cell_type": "code",
   "execution_count": 15,
   "id": "bb8fbd00",
   "metadata": {},
   "outputs": [
    {
     "name": "stdout",
     "output_type": "stream",
     "text": [
      "                               precision    recall  f1-score   support\n",
      "\n",
      "               bacterial_spot       0.25      0.78      0.37       115\n",
      "                 early_blight       1.00      0.01      0.02       120\n",
      "                      healthy       0.38      0.81      0.52       125\n",
      "                  late_blight       0.41      0.20      0.27       125\n",
      "                    leaf_mold       0.76      0.57      0.65       127\n",
      "           septoria_leaf_spot       0.68      0.32      0.44       117\n",
      "                  target_spot       0.56      0.29      0.38       115\n",
      "          tomato_mosaic_virus       0.62      0.39      0.48        54\n",
      "tomato_yellow_leaf_curl_virus       0.84      0.37      0.51       114\n",
      "      two-spotted_spider_mite       0.46      0.54      0.50       128\n",
      "\n",
      "                     accuracy                           0.43      1140\n",
      "                    macro avg       0.60      0.43      0.41      1140\n",
      "                 weighted avg       0.59      0.43      0.41      1140\n",
      "\n",
      "[[ 90   0  17   4   0   0   0   0   4   0]\n",
      " [ 85   1  12   1   3   2   6   1   0   9]\n",
      " [ 11   0 101   5   1   0   0   2   0   5]\n",
      " [ 17   0  54  25   8  10   3   1   1   6]\n",
      " [ 12   0  20   9  73   2   1   3   0   7]\n",
      " [ 12   0  25   4  10  38   8   2   3  15]\n",
      " [ 43   0  19   1   0   0  33   1   0  18]\n",
      " [  7   0   5   7   1   0   0  21   0  13]\n",
      " [ 47   0  10   3   0   1   2   1  42   8]\n",
      " [ 43   0   3   2   0   3   6   2   0  69]]\n"
     ]
    }
   ],
   "source": [
    "#printing results of the kmodel\n",
    "y_predict = kmodel.fit(Ftrain, Ltrain).predict(Ftest)\n",
    "class_names = target.unique()\n",
    "print(classification_report(Ltest, y_predict, target_names=class_names))\n",
    "print(confusion_matrix(Ltest, y_predict))"
   ]
  },
  {
   "cell_type": "markdown",
   "id": "d5c58638",
   "metadata": {},
   "source": [
    "# Logistic on rgb data"
   ]
  },
  {
   "cell_type": "code",
   "execution_count": 16,
   "id": "a84836ef",
   "metadata": {},
   "outputs": [
    {
     "name": "stdout",
     "output_type": "stream",
     "text": [
      "0.6640350877192982\n"
     ]
    }
   ],
   "source": [
    "#importing logistic data\n",
    "from sklearn.linear_model import LogisticRegression\n",
    "model=LogisticRegression(solver='lbfgs', max_iter=10000)\n",
    "model.fit(Ftrain,Ltrain)\n",
    "print(model.score(Ftest,Ltest))"
   ]
  },
  {
   "cell_type": "code",
   "execution_count": 17,
   "id": "8a6e84a1",
   "metadata": {},
   "outputs": [
    {
     "name": "stdout",
     "output_type": "stream",
     "text": [
      "                               precision    recall  f1-score   support\n",
      "\n",
      "               bacterial_spot       0.64      0.72      0.68       115\n",
      "                 early_blight       0.50      0.42      0.45       120\n",
      "                      healthy       0.75      0.62      0.68       125\n",
      "                  late_blight       0.59      0.58      0.59       125\n",
      "                    leaf_mold       0.74      0.73      0.74       127\n",
      "           septoria_leaf_spot       0.61      0.64      0.63       117\n",
      "                  target_spot       0.63      0.73      0.67       115\n",
      "          tomato_mosaic_virus       0.79      0.85      0.82        54\n",
      "tomato_yellow_leaf_curl_virus       0.80      0.82      0.81       114\n",
      "      two-spotted_spider_mite       0.65      0.64      0.64       128\n",
      "\n",
      "                     accuracy                           0.66      1140\n",
      "                    macro avg       0.67      0.68      0.67      1140\n",
      "                 weighted avg       0.66      0.66      0.66      1140\n",
      "\n",
      "[[83  9  3  9  0  1  1  0  9  0]\n",
      " [21 50  3 20  6  1  6  0  3 10]\n",
      " [ 2  9 77  5  4  3 20  0  0  5]\n",
      " [11  9  9 73  4  8  2  1  3  5]\n",
      " [ 0  5  3  3 93 17  0  0  2  4]\n",
      " [ 2  2  1  4 14 75  3  6  5  5]\n",
      " [ 2  6  4  0  1  5 84  1  1 11]\n",
      " [ 0  0  0  0  2  5  1 46  0  0]\n",
      " [ 2  6  0  3  0  3  1  0 94  5]\n",
      " [ 7  4  2  6  2  4 16  4  1 82]]\n"
     ]
    }
   ],
   "source": [
    "#classification report\n",
    "y_predict = model.fit(Ftrain, Ltrain).predict(Ftest)\n",
    "class_names = target.unique()\n",
    "print(classification_report(Ltest, y_predict, target_names=class_names))\n",
    "print(confusion_matrix(Ltest, y_predict))"
   ]
  },
  {
   "cell_type": "markdown",
   "id": "6fe194bc",
   "metadata": {},
   "source": [
    "# SVM(linear) on RGB data"
   ]
  },
  {
   "cell_type": "code",
   "execution_count": 18,
   "id": "2427ed51",
   "metadata": {},
   "outputs": [
    {
     "name": "stdout",
     "output_type": "stream",
     "text": [
      "0.7175438596491228\n"
     ]
    }
   ],
   "source": [
    "from sklearn.svm import SVC\n",
    "from sklearn.metrics import accuracy_score\n",
    "\n",
    "clf = SVC(kernel='linear')\n",
    "clf.fit(Ftrain,Ltrain)\n",
    "y_pred = clf.predict(Ftest)\n",
    "print(accuracy_score(Ltest,y_pred))"
   ]
  },
  {
   "cell_type": "code",
   "execution_count": 19,
   "id": "d3ce316a",
   "metadata": {},
   "outputs": [
    {
     "name": "stdout",
     "output_type": "stream",
     "text": [
      "                               precision    recall  f1-score   support\n",
      "\n",
      "               bacterial_spot       0.65      0.81      0.72       115\n",
      "                 early_blight       0.56      0.54      0.55       120\n",
      "                      healthy       0.87      0.83      0.85       125\n",
      "                  late_blight       0.66      0.64      0.65       125\n",
      "                    leaf_mold       0.76      0.75      0.75       127\n",
      "           septoria_leaf_spot       0.70      0.63      0.66       117\n",
      "                  target_spot       0.66      0.75      0.70       115\n",
      "          tomato_mosaic_virus       0.84      0.91      0.88        54\n",
      "tomato_yellow_leaf_curl_virus       0.85      0.83      0.84       114\n",
      "      two-spotted_spider_mite       0.72      0.60      0.66       128\n",
      "\n",
      "                     accuracy                           0.72      1140\n",
      "                    macro avg       0.73      0.73      0.73      1140\n",
      "                 weighted avg       0.72      0.72      0.72      1140\n",
      "\n",
      "[[ 93   9   1   4   0   1   0   0   7   0]\n",
      " [ 16  65   3  15   4   3   7   0   2   5]\n",
      " [  1   4 104   2   2   1   9   0   0   2]\n",
      " [ 13  10   5  80   5   6   1   0   1   4]\n",
      " [  1   5   2   7  95  12   0   1   0   4]\n",
      " [  2   3   1   6  15  74   5   4   2   5]\n",
      " [  4  10   3   0   0   4  86   1   0   7]\n",
      " [  0   0   0   0   1   0   3  49   0   1]\n",
      " [  6   6   0   2   0   2   1   0  95   2]\n",
      " [  7   5   1   6   3   3  18   3   5  77]]\n"
     ]
    }
   ],
   "source": [
    "#classification report\n",
    "y_predict = clf.fit(Ftrain, Ltrain).predict(Ftest)\n",
    "class_names = target.unique()\n",
    "print(classification_report(Ltest, y_predict, target_names=class_names))\n",
    "print(confusion_matrix(Ltest, y_predict))"
   ]
  },
  {
   "cell_type": "markdown",
   "id": "cc0649d3",
   "metadata": {},
   "source": [
    "# SVM(poly) on RGB data"
   ]
  },
  {
   "cell_type": "code",
   "execution_count": 20,
   "id": "6f9925c1",
   "metadata": {},
   "outputs": [
    {
     "name": "stdout",
     "output_type": "stream",
     "text": [
      "0.6710526315789473\n"
     ]
    }
   ],
   "source": [
    "svm_poly = SVC(kernel='poly')\n",
    "svm_poly.fit(Ftrain,Ltrain)\n",
    "y_pred = svm_poly.predict(Ftest)\n",
    "print(accuracy_score(Ltest,y_pred))"
   ]
  },
  {
   "cell_type": "code",
   "execution_count": 21,
   "id": "691ece56",
   "metadata": {},
   "outputs": [
    {
     "name": "stdout",
     "output_type": "stream",
     "text": [
      "                               precision    recall  f1-score   support\n",
      "\n",
      "               bacterial_spot       0.46      0.85      0.60       115\n",
      "                 early_blight       0.78      0.29      0.42       120\n",
      "                      healthy       0.62      0.96      0.75       125\n",
      "                  late_blight       0.81      0.48      0.60       125\n",
      "                    leaf_mold       0.81      0.79      0.80       127\n",
      "           septoria_leaf_spot       0.73      0.50      0.60       117\n",
      "                  target_spot       0.64      0.75      0.69       115\n",
      "          tomato_mosaic_virus       0.81      0.46      0.59        54\n",
      "tomato_yellow_leaf_curl_virus       0.83      0.80      0.82       114\n",
      "      two-spotted_spider_mite       0.68      0.71      0.70       128\n",
      "\n",
      "                     accuracy                           0.67      1140\n",
      "                    macro avg       0.72      0.66      0.66      1140\n",
      "                 weighted avg       0.71      0.67      0.66      1140\n",
      "\n",
      "[[ 98   0   9   2   0   0   0   0   6   0]\n",
      " [ 41  35   9   7   3   3  13   0   2   7]\n",
      " [  0   0 120   1   0   0   4   0   0   0]\n",
      " [  8   5  26  60   8   7   4   0   2   5]\n",
      " [  9   1   2   2 100   6   2   1   0   4]\n",
      " [  7   0  16   0  10  59  12   2   5   6]\n",
      " [ 16   0   3   0   0   0  86   1   0   9]\n",
      " [  3   0   7   0   3   4   6  25   0   6]\n",
      " [ 13   1   0   2   0   2   0   0  91   5]\n",
      " [ 19   3   3   0   0   0   7   2   3  91]]\n"
     ]
    }
   ],
   "source": [
    "#classification report\n",
    "y_predict = svm_poly.fit(Ftrain, Ltrain).predict(Ftest)\n",
    "class_names = target.unique()\n",
    "print(classification_report(Ltest, y_predict, target_names=class_names))\n",
    "print(confusion_matrix(Ltest, y_predict))"
   ]
  },
  {
   "cell_type": "markdown",
   "id": "bd7a9c8c",
   "metadata": {},
   "source": [
    "# SVM(RBF) on RGB data"
   ]
  },
  {
   "cell_type": "code",
   "execution_count": 22,
   "id": "75cf5b70",
   "metadata": {},
   "outputs": [
    {
     "name": "stdout",
     "output_type": "stream",
     "text": [
      "0.769298245614035\n"
     ]
    }
   ],
   "source": [
    "svm_rbf = SVC(kernel='rbf')\n",
    "svm_rbf.fit(Ftrain,Ltrain)\n",
    "y_pred = svm_rbf.predict(Ftest)\n",
    "print(accuracy_score(Ltest,y_pred))"
   ]
  },
  {
   "cell_type": "code",
   "execution_count": 23,
   "id": "d790ed6e",
   "metadata": {},
   "outputs": [
    {
     "name": "stdout",
     "output_type": "stream",
     "text": [
      "                               precision    recall  f1-score   support\n",
      "\n",
      "               bacterial_spot       0.77      0.86      0.81       115\n",
      "                 early_blight       0.54      0.57      0.56       120\n",
      "                      healthy       0.93      0.92      0.93       125\n",
      "                  late_blight       0.76      0.75      0.76       125\n",
      "                    leaf_mold       0.86      0.78      0.82       127\n",
      "           septoria_leaf_spot       0.76      0.65      0.70       117\n",
      "                  target_spot       0.71      0.71      0.71       115\n",
      "          tomato_mosaic_virus       0.78      0.83      0.80        54\n",
      "tomato_yellow_leaf_curl_virus       0.83      0.87      0.85       114\n",
      "      two-spotted_spider_mite       0.76      0.77      0.76       128\n",
      "\n",
      "                     accuracy                           0.77      1140\n",
      "                    macro avg       0.77      0.77      0.77      1140\n",
      "                 weighted avg       0.77      0.77      0.77      1140\n",
      "\n",
      "[[ 99   3   2   3   1   0   0   0   7   0]\n",
      " [ 16  69   3  10   3   3   9   0   1   6]\n",
      " [  0   2 115   1   1   0   5   0   0   1]\n",
      " [  3  12   2  94   2   7   2   0   2   1]\n",
      " [  0   7   1   4  99  10   1   1   1   3]\n",
      " [  2   3   0   6   8  76   6   5   6   5]\n",
      " [  4  17   0   0   0   1  82   1   0  10]\n",
      " [  0   2   0   0   1   2   1  45   0   3]\n",
      " [  2   4   0   4   0   1   0   1  99   3]\n",
      " [  3   8   0   1   0   0   9   5   3  99]]\n"
     ]
    }
   ],
   "source": [
    "#classification report\n",
    "y_predict = svm_rbf.fit(Ftrain, Ltrain).predict(Ftest)\n",
    "class_names = target.unique()\n",
    "print(classification_report(Ltest, y_predict, target_names=class_names))\n",
    "print(confusion_matrix(Ltest, y_predict))"
   ]
  },
  {
   "cell_type": "markdown",
   "id": "b4626fd1",
   "metadata": {},
   "source": [
    "# SVM(sigmoid) on RGB data"
   ]
  },
  {
   "cell_type": "code",
   "execution_count": 24,
   "id": "774b25b9",
   "metadata": {},
   "outputs": [
    {
     "name": "stdout",
     "output_type": "stream",
     "text": [
      "0.5\n"
     ]
    }
   ],
   "source": [
    "svm_si = SVC(kernel='sigmoid')\n",
    "svm_si.fit(Ftrain,Ltrain)\n",
    "y_pred = svm_si.predict(Ftest)\n",
    "print(accuracy_score(Ltest,y_pred))"
   ]
  },
  {
   "cell_type": "code",
   "execution_count": 25,
   "id": "a5229cca",
   "metadata": {},
   "outputs": [
    {
     "name": "stdout",
     "output_type": "stream",
     "text": [
      "                               precision    recall  f1-score   support\n",
      "\n",
      "               bacterial_spot       0.49      0.58      0.53       115\n",
      "                 early_blight       0.45      0.31      0.36       120\n",
      "                      healthy       0.71      0.67      0.69       125\n",
      "                  late_blight       0.36      0.47      0.41       125\n",
      "                    leaf_mold       0.74      0.47      0.58       127\n",
      "           septoria_leaf_spot       0.24      0.47      0.32       117\n",
      "                  target_spot       0.51      0.45      0.48       115\n",
      "          tomato_mosaic_virus       0.67      0.57      0.62        54\n",
      "tomato_yellow_leaf_curl_virus       0.83      0.50      0.62       114\n",
      "      two-spotted_spider_mite       0.61      0.53      0.57       128\n",
      "\n",
      "                     accuracy                           0.50      1140\n",
      "                    macro avg       0.56      0.50      0.52      1140\n",
      "                 weighted avg       0.55      0.50      0.51      1140\n",
      "\n",
      "[[67 14  1 27  0  4  0  0  2  0]\n",
      " [30 37  2 19  2 13  4  0  3 10]\n",
      " [ 3  2 84 10  0 13 11  0  0  2]\n",
      " [ 8  6 14 59  7 19  7  1  0  4]\n",
      " [ 0  8  3 15 60 32  0  3  0  6]\n",
      " [ 1  4  3 17  9 55 17  4  3  4]\n",
      " [ 5  8  8  0  1 28 52  1  0 12]\n",
      " [ 0  0  1  0  1 19  1 31  0  1]\n",
      " [14  3  0 17  0 17  0  1 57  5]\n",
      " [ 9  1  2  2  1 26 10  5  4 68]]\n"
     ]
    }
   ],
   "source": [
    "#classification report\n",
    "y_predict = svm_si.fit(Ftrain, Ltrain).predict(Ftest)\n",
    "class_names = target.unique()\n",
    "print(classification_report(Ltest, y_predict, target_names=class_names))\n",
    "print(confusion_matrix(Ltest, y_predict))"
   ]
  },
  {
   "cell_type": "markdown",
   "id": "73bef6fa",
   "metadata": {},
   "source": [
    "# Random Forest on RGB "
   ]
  },
  {
   "cell_type": "code",
   "execution_count": 26,
   "id": "6bae5a92",
   "metadata": {},
   "outputs": [],
   "source": [
    "from sklearn.ensemble import RandomForestClassifier"
   ]
  },
  {
   "cell_type": "code",
   "execution_count": 27,
   "id": "1d08a15e",
   "metadata": {},
   "outputs": [],
   "source": [
    "classifier_rf = RandomForestClassifier(random_state=42, n_jobs=-1, max_depth=5,n_estimators=100, oob_score=True)"
   ]
  },
  {
   "cell_type": "code",
   "execution_count": 28,
   "id": "938ad007",
   "metadata": {},
   "outputs": [
    {
     "data": {
      "text/plain": [
       "RandomForestClassifier(max_depth=5, n_jobs=-1, oob_score=True, random_state=42)"
      ]
     },
     "execution_count": 28,
     "metadata": {},
     "output_type": "execute_result"
    }
   ],
   "source": [
    "classifier_rf.fit(Ftrain, Ltrain)"
   ]
  },
  {
   "cell_type": "code",
   "execution_count": 29,
   "id": "e1769cec",
   "metadata": {},
   "outputs": [
    {
     "data": {
      "text/plain": [
       "0.5409080938802369"
      ]
     },
     "execution_count": 29,
     "metadata": {},
     "output_type": "execute_result"
    }
   ],
   "source": [
    "classifier_rf.oob_score_"
   ]
  },
  {
   "cell_type": "code",
   "execution_count": 30,
   "id": "e8e6675c",
   "metadata": {},
   "outputs": [
    {
     "name": "stdout",
     "output_type": "stream",
     "text": [
      "                               precision    recall  f1-score   support\n",
      "\n",
      "               bacterial_spot       0.44      0.66      0.53       115\n",
      "                 early_blight       0.71      0.10      0.18       120\n",
      "                      healthy       0.66      0.86      0.74       125\n",
      "                  late_blight       0.66      0.38      0.48       125\n",
      "                    leaf_mold       0.64      0.69      0.66       127\n",
      "           septoria_leaf_spot       0.57      0.48      0.52       117\n",
      "                  target_spot       0.44      0.70      0.54       115\n",
      "          tomato_mosaic_virus       0.50      0.02      0.04        54\n",
      "tomato_yellow_leaf_curl_virus       0.52      0.84      0.64       114\n",
      "      two-spotted_spider_mite       0.50      0.45      0.48       128\n",
      "\n",
      "                     accuracy                           0.54      1140\n",
      "                    macro avg       0.56      0.52      0.48      1140\n",
      "                 weighted avg       0.57      0.54      0.51      1140\n",
      "\n",
      "[[ 76   1   8   4   0   0   3   0  21   2]\n",
      " [ 37  12   5   8   4   4  23   0  19   8]\n",
      " [  2   0 107   2   3   0  10   0   0   1]\n",
      " [  4   1  26  48  13  18   6   0   7   2]\n",
      " [ 10   0   3   2  87  10   9   0   2   4]\n",
      " [  7   0   5   6  14  56   3   0  17   9]\n",
      " [ 11   1   4   0   0   4  80   0   2  13]\n",
      " [  4   0   2   0  12   6   6   1  10  13]\n",
      " [  7   1   0   2   1   0   2   0  96   5]\n",
      " [ 13   1   3   1   1   0  38   1  12  58]]\n"
     ]
    }
   ],
   "source": [
    "y_predict = classifier_rf.fit(Ftrain, Ltrain).predict(Ftest)\n",
    "class_names = target.unique()\n",
    "print(classification_report(Ltest, y_predict, target_names=class_names))\n",
    "print(confusion_matrix(Ltest, y_predict))"
   ]
  },
  {
   "cell_type": "markdown",
   "id": "b6a094e4",
   "metadata": {},
   "source": [
    "# Gaussian Naive Bayes on RGB data"
   ]
  },
  {
   "cell_type": "code",
   "execution_count": 31,
   "id": "a5bc755b",
   "metadata": {},
   "outputs": [
    {
     "data": {
      "text/plain": [
       "GaussianNB()"
      ]
     },
     "execution_count": 31,
     "metadata": {},
     "output_type": "execute_result"
    }
   ],
   "source": [
    "from sklearn.naive_bayes import GaussianNB\n",
    "gnb = GaussianNB()\n",
    "gnb.fit(Ftrain, Ltrain)"
   ]
  },
  {
   "cell_type": "code",
   "execution_count": 32,
   "id": "6d162dcc",
   "metadata": {},
   "outputs": [],
   "source": [
    "y_pred = gnb.predict(Ftest)"
   ]
  },
  {
   "cell_type": "code",
   "execution_count": 33,
   "id": "8f7b4bab",
   "metadata": {},
   "outputs": [
    {
     "data": {
      "text/plain": [
       "0.45614035087719296"
      ]
     },
     "execution_count": 33,
     "metadata": {},
     "output_type": "execute_result"
    }
   ],
   "source": [
    "from sklearn import metrics\n",
    "metrics.accuracy_score(Ltest, y_pred)"
   ]
  },
  {
   "cell_type": "code",
   "execution_count": 34,
   "id": "69742172",
   "metadata": {},
   "outputs": [
    {
     "name": "stdout",
     "output_type": "stream",
     "text": [
      "                               precision    recall  f1-score   support\n",
      "\n",
      "               bacterial_spot       0.47      0.69      0.56       115\n",
      "                 early_blight       0.37      0.31      0.34       120\n",
      "                      healthy       0.44      0.61      0.51       125\n",
      "                  late_blight       0.34      0.24      0.28       125\n",
      "                    leaf_mold       0.73      0.43      0.54       127\n",
      "           septoria_leaf_spot       0.41      0.41      0.41       117\n",
      "                  target_spot       0.47      0.43      0.45       115\n",
      "          tomato_mosaic_virus       0.34      0.69      0.45        54\n",
      "tomato_yellow_leaf_curl_virus       0.65      0.45      0.53       114\n",
      "      two-spotted_spider_mite       0.45      0.45      0.45       128\n",
      "\n",
      "                     accuracy                           0.46      1140\n",
      "                    macro avg       0.47      0.47      0.45      1140\n",
      "                 weighted avg       0.47      0.46      0.45      1140\n",
      "\n",
      "[[79  5 17  2  0  1  3  3  5  0]\n",
      " [30 37  2 22  4  6  7  2  3  7]\n",
      " [ 3  1 76  7  4  1 23  4  1  5]\n",
      " [ 2 14 53 30  3 12  3  3  4  1]\n",
      " [11  5  2  9 55 27  2 12  1  3]\n",
      " [ 0  5 16  2  7 48  6 11  7 15]\n",
      " [ 9 12  0 10  0  6 50  5  0 23]\n",
      " [ 5  0  1  0  2  4  0 37  3  2]\n",
      " [16 11  4  6  0  7  1  5 51 13]\n",
      " [12 10  0  1  0  5 12 27  4 57]]\n"
     ]
    }
   ],
   "source": [
    "class_names = target.unique()\n",
    "print(classification_report(Ltest, y_pred, target_names=class_names))\n",
    "print(confusion_matrix(Ltest, y_pred))"
   ]
  },
  {
   "cell_type": "markdown",
   "id": "d6160a05",
   "metadata": {},
   "source": [
    "# Bernouli Naive bayes on RGB data"
   ]
  },
  {
   "cell_type": "code",
   "execution_count": 35,
   "id": "a257e2b3",
   "metadata": {},
   "outputs": [],
   "source": [
    "from sklearn.naive_bayes import BernoulliNB"
   ]
  },
  {
   "cell_type": "code",
   "execution_count": 36,
   "id": "1b9e5ea9",
   "metadata": {},
   "outputs": [
    {
     "data": {
      "text/plain": [
       "BernoulliNB()"
      ]
     },
     "execution_count": 36,
     "metadata": {},
     "output_type": "execute_result"
    }
   ],
   "source": [
    "bnb = BernoulliNB()\n",
    "bnb.fit(Ftrain, Ltrain)"
   ]
  },
  {
   "cell_type": "code",
   "execution_count": 37,
   "id": "d471cc30",
   "metadata": {},
   "outputs": [],
   "source": [
    "y_pred = bnb.predict(Ftest)"
   ]
  },
  {
   "cell_type": "code",
   "execution_count": 38,
   "id": "4cdf2dc4",
   "metadata": {},
   "outputs": [
    {
     "data": {
      "text/plain": [
       "0.4087719298245614"
      ]
     },
     "execution_count": 38,
     "metadata": {},
     "output_type": "execute_result"
    }
   ],
   "source": [
    "metrics.accuracy_score(Ltest, y_pred)"
   ]
  },
  {
   "cell_type": "code",
   "execution_count": 39,
   "id": "4a24591c",
   "metadata": {},
   "outputs": [
    {
     "name": "stdout",
     "output_type": "stream",
     "text": [
      "                               precision    recall  f1-score   support\n",
      "\n",
      "               bacterial_spot       0.37      0.63      0.47       115\n",
      "                 early_blight       0.34      0.22      0.27       120\n",
      "                      healthy       0.41      0.55      0.47       125\n",
      "                  late_blight       0.19      0.11      0.14       125\n",
      "                    leaf_mold       0.70      0.39      0.50       127\n",
      "           septoria_leaf_spot       0.34      0.51      0.41       117\n",
      "                  target_spot       0.50      0.44      0.47       115\n",
      "          tomato_mosaic_virus       0.31      0.48      0.38        54\n",
      "tomato_yellow_leaf_curl_virus       0.65      0.43      0.52       114\n",
      "      two-spotted_spider_mite       0.42      0.38      0.40       128\n",
      "\n",
      "                     accuracy                           0.41      1140\n",
      "                    macro avg       0.42      0.42      0.40      1140\n",
      "                 weighted avg       0.43      0.41      0.40      1140\n",
      "\n",
      "[[73 12 12 10  0  2  0  1  4  1]\n",
      " [45 26  3  5  2 14 13  2  5  5]\n",
      " [ 4  1 69  9  3  7 16 12  0  4]\n",
      " [ 9  6 56 14  7 21  2  3  5  2]\n",
      " [15  2  7  4 49 33  2  8  0  7]\n",
      " [ 0  2 12  8  5 60  7  5  6 12]\n",
      " [ 7 13  4  8  0 15 51  1  0 16]\n",
      " [ 3  1  0  5  2 10  0 26  3  4]\n",
      " [22  3  4  6  1  8  1  2 49 18]\n",
      " [17 10  2  3  1  9 10 24  3 49]]\n"
     ]
    }
   ],
   "source": [
    "class_names = target.unique()\n",
    "print(classification_report(Ltest, y_pred, target_names=class_names))\n",
    "print(confusion_matrix(Ltest, y_pred))"
   ]
  },
  {
   "cell_type": "markdown",
   "id": "0d6e0d06",
   "metadata": {},
   "source": [
    "# Decision Tree on RGB data"
   ]
  },
  {
   "cell_type": "code",
   "execution_count": 40,
   "id": "a5fd6907",
   "metadata": {},
   "outputs": [],
   "source": [
    "from sklearn.tree import DecisionTreeClassifier\n",
    "classifier_tree = DecisionTreeClassifier()"
   ]
  },
  {
   "cell_type": "code",
   "execution_count": 41,
   "id": "63eb94fc",
   "metadata": {},
   "outputs": [
    {
     "data": {
      "text/plain": [
       "0.39035087719298245"
      ]
     },
     "execution_count": 41,
     "metadata": {},
     "output_type": "execute_result"
    }
   ],
   "source": [
    "classifier_tree.fit(Ftrain, Ltrain)\n",
    "classifier_tree.score(Ftest,Ltest)"
   ]
  },
  {
   "cell_type": "code",
   "execution_count": 42,
   "id": "2a796fe0",
   "metadata": {},
   "outputs": [
    {
     "name": "stdout",
     "output_type": "stream",
     "text": [
      "                               precision    recall  f1-score   support\n",
      "\n",
      "               bacterial_spot       0.49      0.54      0.51       115\n",
      "                 early_blight       0.31      0.33      0.32       120\n",
      "                      healthy       0.50      0.42      0.45       125\n",
      "                  late_blight       0.33      0.37      0.35       125\n",
      "                    leaf_mold       0.49      0.46      0.48       127\n",
      "           septoria_leaf_spot       0.41      0.42      0.42       117\n",
      "                  target_spot       0.36      0.35      0.35       115\n",
      "          tomato_mosaic_virus       0.11      0.11      0.11        54\n",
      "tomato_yellow_leaf_curl_virus       0.49      0.50      0.50       114\n",
      "      two-spotted_spider_mite       0.32      0.30      0.31       128\n",
      "\n",
      "                     accuracy                           0.39      1140\n",
      "                    macro avg       0.38      0.38      0.38      1140\n",
      "                 weighted avg       0.40      0.39      0.39      1140\n",
      "\n",
      "[[62  5  7  7  4  6  6  2 12  4]\n",
      " [13 39  5 13 10  7  7  5  9 12]\n",
      " [ 3  7 52 14 10  5 15  6  5  8]\n",
      " [ 7 14 17 46  3 14  4  7  6  7]\n",
      " [ 4  7  5 11 59 14  5 11  4  7]\n",
      " [ 2 10  4 20 12 49  6  3  4  7]\n",
      " [ 7 14  7  9  4  9 40  3  3 19]\n",
      " [ 4  4  2  5 11  4  3  6  7  8]\n",
      " [18 10  1  6  3  5  1  4 57  9]\n",
      " [ 7 16  4 10  5  6 25  8  9 38]]\n"
     ]
    }
   ],
   "source": [
    "y_predict = classifier_tree.fit(Ftrain, Ltrain).predict(Ftest)\n",
    "class_names = target.unique()\n",
    "print(classification_report(Ltest, y_predict, target_names=class_names))\n",
    "print(confusion_matrix(Ltest, y_predict))"
   ]
  },
  {
   "cell_type": "markdown",
   "id": "c9daaaee",
   "metadata": {},
   "source": [
    "# KNN on grayscale data"
   ]
  },
  {
   "cell_type": "code",
   "execution_count": 43,
   "id": "57a9845e",
   "metadata": {},
   "outputs": [],
   "source": [
    "#reading numpy array data\n",
    "gray_test = np.load('gray_test.npy')\n",
    "#reading csv file\n",
    "gray_df = pd.read_csv('gray_data.csv')"
   ]
  },
  {
   "cell_type": "code",
   "execution_count": 44,
   "id": "25d4fea2",
   "metadata": {},
   "outputs": [],
   "source": [
    "loaded = []\n",
    "for i in gray_test:\n",
    "    k = []\n",
    "    k = np.asarray(i,dtype='uint8')\n",
    "    loaded.append(k)"
   ]
  },
  {
   "cell_type": "code",
   "execution_count": 45,
   "id": "d3abef95",
   "metadata": {},
   "outputs": [],
   "source": [
    "features = loaded\n",
    "target = gray_df['disease']\n",
    "Ftrain,Ftest,Ltrain,Ltest=train_test_split(features,target, test_size=0.20, random_state=20)\n",
    "Ftrain = scaler.fit_transform(Ftrain)\n",
    "Ftest = scaler.fit_transform(Ftest)"
   ]
  },
  {
   "cell_type": "code",
   "execution_count": 46,
   "id": "6f75adfd",
   "metadata": {},
   "outputs": [
    {
     "data": {
      "text/plain": [
       "0.356140350877193"
      ]
     },
     "execution_count": 46,
     "metadata": {},
     "output_type": "execute_result"
    }
   ],
   "source": [
    "kmodel.fit(Ftrain,Ltrain)\n",
    "kmodel.score(Ftest,Ltest)"
   ]
  },
  {
   "cell_type": "code",
   "execution_count": 47,
   "id": "db638452",
   "metadata": {},
   "outputs": [
    {
     "name": "stdout",
     "output_type": "stream",
     "text": [
      "                               precision    recall  f1-score   support\n",
      "\n",
      "               bacterial_spot       0.27      0.74      0.39       124\n",
      "                 early_blight       0.00      0.00      0.00       114\n",
      "                      healthy       0.36      0.69      0.47       131\n",
      "                  late_blight       0.26      0.23      0.24       124\n",
      "                    leaf_mold       0.48      0.50      0.49       117\n",
      "           septoria_leaf_spot       0.44      0.42      0.43       114\n",
      "                  target_spot       0.38      0.15      0.22       111\n",
      "          tomato_mosaic_virus       0.26      0.12      0.16        60\n",
      "tomato_yellow_leaf_curl_virus       0.45      0.12      0.18       121\n",
      "      two-spotted_spider_mite       0.50      0.42      0.46       124\n",
      "\n",
      "                     accuracy                           0.36      1140\n",
      "                    macro avg       0.34      0.34      0.30      1140\n",
      "                 weighted avg       0.34      0.36      0.32      1140\n",
      "\n",
      "[[92  0 14 11  2  2  0  0  3  0]\n",
      " [68  0  9  0 12  4  9  2  3  7]\n",
      " [11  0 90 15  5  5  0  2  2  1]\n",
      " [27  0 30 28 12 16  1  2  3  5]\n",
      " [13  0 24  7 58  4  1  4  3  3]\n",
      " [ 8  0 28 11  4 48  4  3  0  8]\n",
      " [47  0 14 10  1  6 17  2  1 13]\n",
      " [ 5  0 14  6  9  7  1  7  1 10]\n",
      " [41  0 20 13 16  4  4  4 14  5]\n",
      " [35  0  7  5  2 13  8  1  1 52]]\n"
     ]
    },
    {
     "name": "stderr",
     "output_type": "stream",
     "text": [
      "C:\\Users\\ravic\\anaconda3\\lib\\site-packages\\sklearn\\metrics\\_classification.py:1248: UndefinedMetricWarning: Precision and F-score are ill-defined and being set to 0.0 in labels with no predicted samples. Use `zero_division` parameter to control this behavior.\n",
      "  _warn_prf(average, modifier, msg_start, len(result))\n",
      "C:\\Users\\ravic\\anaconda3\\lib\\site-packages\\sklearn\\metrics\\_classification.py:1248: UndefinedMetricWarning: Precision and F-score are ill-defined and being set to 0.0 in labels with no predicted samples. Use `zero_division` parameter to control this behavior.\n",
      "  _warn_prf(average, modifier, msg_start, len(result))\n",
      "C:\\Users\\ravic\\anaconda3\\lib\\site-packages\\sklearn\\metrics\\_classification.py:1248: UndefinedMetricWarning: Precision and F-score are ill-defined and being set to 0.0 in labels with no predicted samples. Use `zero_division` parameter to control this behavior.\n",
      "  _warn_prf(average, modifier, msg_start, len(result))\n"
     ]
    }
   ],
   "source": [
    "y_predict = kmodel.fit(Ftrain, Ltrain).predict(Ftest)\n",
    "class_names = target.unique()\n",
    "print(classification_report(Ltest, y_predict, target_names=class_names))\n",
    "print(confusion_matrix(Ltest, y_predict))"
   ]
  },
  {
   "cell_type": "markdown",
   "id": "197eedfc",
   "metadata": {},
   "source": [
    "# Logistic on grayscale data"
   ]
  },
  {
   "cell_type": "code",
   "execution_count": 48,
   "id": "9fd6cafe",
   "metadata": {},
   "outputs": [
    {
     "data": {
      "text/plain": [
       "0.3157894736842105"
      ]
     },
     "execution_count": 48,
     "metadata": {},
     "output_type": "execute_result"
    }
   ],
   "source": [
    "from sklearn.linear_model import LogisticRegression\n",
    "model=LogisticRegression(solver='lbfgs', max_iter=10000)\n",
    "model.fit(Ftrain,Ltrain)\n",
    "model.score(Ftest,Ltest)"
   ]
  },
  {
   "cell_type": "code",
   "execution_count": 49,
   "id": "ad468ab9",
   "metadata": {},
   "outputs": [
    {
     "name": "stdout",
     "output_type": "stream",
     "text": [
      "                               precision    recall  f1-score   support\n",
      "\n",
      "               bacterial_spot       0.32      0.38      0.35       124\n",
      "                 early_blight       0.24      0.28      0.26       114\n",
      "                      healthy       0.49      0.44      0.46       131\n",
      "                  late_blight       0.18      0.21      0.20       124\n",
      "                    leaf_mold       0.38      0.38      0.38       117\n",
      "           septoria_leaf_spot       0.30      0.30      0.30       114\n",
      "                  target_spot       0.21      0.18      0.19       111\n",
      "          tomato_mosaic_virus       0.28      0.13      0.18        60\n",
      "tomato_yellow_leaf_curl_virus       0.27      0.25      0.26       121\n",
      "      two-spotted_spider_mite       0.45      0.49      0.47       124\n",
      "\n",
      "                     accuracy                           0.32      1140\n",
      "                    macro avg       0.31      0.30      0.30      1140\n",
      "                 weighted avg       0.32      0.32      0.31      1140\n",
      "\n",
      "[[47 29  7  9 10  4  6  0  8  4]\n",
      " [21 32  4 13  8  4 11  0  9 12]\n",
      " [13  6 58 21  2  7  6  1 12  5]\n",
      " [12 16 16 26  9 20  9  4  8  4]\n",
      " [ 3  9  7 23 44 10  6  1  6  8]\n",
      " [ 9  6  9 16  9 34 14  3  7  7]\n",
      " [18 17  7  6  7  7 20  0 11 18]\n",
      " [ 2  1  2  8 12  9  1  8 13  4]\n",
      " [15  9  3 12 11  9  8 10 30 14]\n",
      " [ 5  8  6  7  4  9 16  2  6 61]]\n"
     ]
    }
   ],
   "source": [
    "y_predict = model.fit(Ftrain, Ltrain).predict(Ftest)\n",
    "class_names = target.unique()\n",
    "print(classification_report(Ltest, y_predict, target_names=class_names))\n",
    "print(confusion_matrix(Ltest, y_predict))"
   ]
  },
  {
   "cell_type": "markdown",
   "id": "5284f869",
   "metadata": {},
   "source": [
    "# SVM(linear) on Grayscale data"
   ]
  },
  {
   "cell_type": "code",
   "execution_count": 50,
   "id": "d0db5c80",
   "metadata": {},
   "outputs": [
    {
     "name": "stdout",
     "output_type": "stream",
     "text": [
      "0.3868421052631579\n"
     ]
    }
   ],
   "source": [
    "clf = SVC(kernel='linear')\n",
    "clf.fit(Ftrain,Ltrain)\n",
    "y_pred = clf.predict(Ftest)\n",
    "print(accuracy_score(Ltest,y_pred))"
   ]
  },
  {
   "cell_type": "code",
   "execution_count": 51,
   "id": "907d10fb",
   "metadata": {},
   "outputs": [
    {
     "name": "stdout",
     "output_type": "stream",
     "text": [
      "                               precision    recall  f1-score   support\n",
      "\n",
      "               bacterial_spot       0.33      0.44      0.38       124\n",
      "                 early_blight       0.29      0.35      0.32       114\n",
      "                      healthy       0.53      0.53      0.53       131\n",
      "                  late_blight       0.31      0.32      0.32       124\n",
      "                    leaf_mold       0.44      0.46      0.45       117\n",
      "           septoria_leaf_spot       0.39      0.35      0.37       114\n",
      "                  target_spot       0.29      0.26      0.27       111\n",
      "          tomato_mosaic_virus       0.41      0.23      0.30        60\n",
      "tomato_yellow_leaf_curl_virus       0.38      0.32      0.35       121\n",
      "      two-spotted_spider_mite       0.52      0.49      0.50       124\n",
      "\n",
      "                     accuracy                           0.39      1140\n",
      "                    macro avg       0.39      0.38      0.38      1140\n",
      "                 weighted avg       0.39      0.39      0.39      1140\n",
      "\n",
      "[[54 29  7  8  4  7  4  0  6  5]\n",
      " [23 40  2 13  6  1 13  0  7  9]\n",
      " [17  5 70  9  3 10  3  3  6  5]\n",
      " [14 16 12 40 12 13  8  1  6  2]\n",
      " [ 6  5  8 22 54  6  6  1  5  4]\n",
      " [ 3 11  9 14 15 40 12  4  3  3]\n",
      " [23 13  5  4  6  7 29  1  8 15]\n",
      " [ 2  0  0  3 11 11  1 14 16  2]\n",
      " [15  9 12 10  8  3  7  6 39 12]\n",
      " [ 7  9  6  4  4  5 18  4  6 61]]\n"
     ]
    }
   ],
   "source": [
    "y_predict = clf.fit(Ftrain, Ltrain).predict(Ftest)\n",
    "class_names = target.unique()\n",
    "print(classification_report(Ltest, y_predict, target_names=class_names))\n",
    "print(confusion_matrix(Ltest, y_predict))"
   ]
  },
  {
   "cell_type": "markdown",
   "id": "bb4df373",
   "metadata": {},
   "source": [
    "# SVM(poly) on grayscale data"
   ]
  },
  {
   "cell_type": "code",
   "execution_count": 52,
   "id": "a0d5bfda",
   "metadata": {},
   "outputs": [
    {
     "name": "stdout",
     "output_type": "stream",
     "text": [
      "0.5026315789473684\n"
     ]
    }
   ],
   "source": [
    "svm_poly = SVC(kernel='poly')\n",
    "svm_poly.fit(Ftrain,Ltrain)\n",
    "y_pred = svm_poly.predict(Ftest)\n",
    "print(accuracy_score(Ltest,y_pred))"
   ]
  },
  {
   "cell_type": "code",
   "execution_count": 53,
   "id": "d7fb339e",
   "metadata": {},
   "outputs": [
    {
     "name": "stdout",
     "output_type": "stream",
     "text": [
      "                               precision    recall  f1-score   support\n",
      "\n",
      "               bacterial_spot       0.44      0.68      0.53       124\n",
      "                 early_blight       0.54      0.19      0.28       114\n",
      "                      healthy       0.48      0.86      0.62       131\n",
      "                  late_blight       0.50      0.15      0.23       124\n",
      "                    leaf_mold       0.50      0.65      0.56       117\n",
      "           septoria_leaf_spot       0.68      0.42      0.52       114\n",
      "                  target_spot       0.47      0.56      0.51       111\n",
      "          tomato_mosaic_virus       0.60      0.05      0.09        60\n",
      "tomato_yellow_leaf_curl_virus       0.42      0.57      0.48       121\n",
      "      two-spotted_spider_mite       0.69      0.62      0.65       124\n",
      "\n",
      "                     accuracy                           0.50      1140\n",
      "                    macro avg       0.53      0.48      0.45      1140\n",
      "                 weighted avg       0.53      0.50      0.47      1140\n",
      "\n",
      "[[ 84   3  10   8   3   0   4   0  12   0]\n",
      " [ 36  22   3   3   8   1  25   0  10   6]\n",
      " [ 10   0 113   0   3   0   2   0   3   0]\n",
      " [ 12  11  30  19  16  16   5   0  13   2]\n",
      " [  6   1  15   0  76   0   9   0   8   2]\n",
      " [  3   0  25   5  18  48   7   0   7   1]\n",
      " [ 20   0   8   0   2   1  62   0   8  10]\n",
      " [  1   0   7   0  18   3   1   3  20   7]\n",
      " [ 14   3  12   3   4   1   6   2  69   7]\n",
      " [  5   1  11   0   5   1  10   0  14  77]]\n"
     ]
    }
   ],
   "source": [
    "#classification report\n",
    "y_predict = svm_poly.fit(Ftrain, Ltrain).predict(Ftest)\n",
    "class_names = target.unique()\n",
    "print(classification_report(Ltest, y_predict, target_names=class_names))\n",
    "print(confusion_matrix(Ltest, y_predict))"
   ]
  },
  {
   "cell_type": "markdown",
   "id": "f8e82d44",
   "metadata": {},
   "source": [
    "# SVM(RBF) on grayscale data"
   ]
  },
  {
   "cell_type": "code",
   "execution_count": 54,
   "id": "67c0ee85",
   "metadata": {},
   "outputs": [
    {
     "name": "stdout",
     "output_type": "stream",
     "text": [
      "0.6280701754385964\n"
     ]
    }
   ],
   "source": [
    "svm_rbf = SVC(kernel='rbf')\n",
    "svm_rbf.fit(Ftrain,Ltrain)\n",
    "y_pred = svm_rbf.predict(Ftest)\n",
    "print(accuracy_score(Ltest,y_pred))"
   ]
  },
  {
   "cell_type": "code",
   "execution_count": 55,
   "id": "0001fe9e",
   "metadata": {},
   "outputs": [
    {
     "name": "stdout",
     "output_type": "stream",
     "text": [
      "                               precision    recall  f1-score   support\n",
      "\n",
      "               bacterial_spot       0.75      0.65      0.70       124\n",
      "                 early_blight       0.46      0.49      0.48       114\n",
      "                      healthy       0.70      0.87      0.77       131\n",
      "                  late_blight       0.61      0.54      0.58       124\n",
      "                    leaf_mold       0.67      0.62      0.64       117\n",
      "           septoria_leaf_spot       0.56      0.61      0.58       114\n",
      "                  target_spot       0.55      0.63      0.59       111\n",
      "          tomato_mosaic_virus       0.60      0.47      0.52        60\n",
      "tomato_yellow_leaf_curl_virus       0.64      0.61      0.63       121\n",
      "      two-spotted_spider_mite       0.72      0.69      0.70       124\n",
      "\n",
      "                     accuracy                           0.63      1140\n",
      "                    macro avg       0.63      0.62      0.62      1140\n",
      "                 weighted avg       0.63      0.63      0.63      1140\n",
      "\n",
      "[[ 80   7   8   6   3   5   3   0  10   2]\n",
      " [ 12  56   1   9   8   2  14   1   7   4]\n",
      " [  0   1 114   4   0   4   3   0   3   2]\n",
      " [  0  19   6  67   4  17   4   1   4   2]\n",
      " [  0   7   9   4  72   6   9   4   3   3]\n",
      " [  0   3  11  11   8  69   6   5   1   0]\n",
      " [  6  11   3   1   2   3  70   0   3  12]\n",
      " [  3   1   2   0   8   8   0  28   6   4]\n",
      " [  4  11   5   6   2   5   5   4  74   5]\n",
      " [  1   5   5   1   0   4  14   4   4  86]]\n"
     ]
    }
   ],
   "source": [
    "#classification report\n",
    "y_predict = svm_rbf.fit(Ftrain, Ltrain).predict(Ftest)\n",
    "class_names = target.unique()\n",
    "print(classification_report(Ltest, y_predict, target_names=class_names))\n",
    "print(confusion_matrix(Ltest, y_predict))"
   ]
  },
  {
   "cell_type": "markdown",
   "id": "2e75aafa",
   "metadata": {},
   "source": [
    "# SVM(sigmoid) on grayscale data"
   ]
  },
  {
   "cell_type": "code",
   "execution_count": 56,
   "id": "d9d20d3a",
   "metadata": {},
   "outputs": [
    {
     "name": "stdout",
     "output_type": "stream",
     "text": [
      "0.27807017543859647\n"
     ]
    }
   ],
   "source": [
    "svm_si = SVC(kernel='sigmoid')\n",
    "svm_si.fit(Ftrain,Ltrain)\n",
    "y_pred = svm_si.predict(Ftest)\n",
    "print(accuracy_score(Ltest,y_pred))"
   ]
  },
  {
   "cell_type": "code",
   "execution_count": 57,
   "id": "b4425048",
   "metadata": {},
   "outputs": [
    {
     "name": "stdout",
     "output_type": "stream",
     "text": [
      "                               precision    recall  f1-score   support\n",
      "\n",
      "               bacterial_spot       0.38      0.47      0.42       124\n",
      "                 early_blight       0.18      0.20      0.19       114\n",
      "                      healthy       0.35      0.22      0.27       131\n",
      "                  late_blight       0.19      0.27      0.22       124\n",
      "                    leaf_mold       0.57      0.22      0.32       117\n",
      "           septoria_leaf_spot       0.17      0.37      0.23       114\n",
      "                  target_spot       0.21      0.23      0.22       111\n",
      "          tomato_mosaic_virus       0.46      0.10      0.16        60\n",
      "tomato_yellow_leaf_curl_virus       0.34      0.23      0.27       121\n",
      "      two-spotted_spider_mite       0.47      0.38      0.42       124\n",
      "\n",
      "                     accuracy                           0.28      1140\n",
      "                    macro avg       0.33      0.27      0.27      1140\n",
      "                 weighted avg       0.33      0.28      0.28      1140\n",
      "\n",
      "[[58 26  6 13  2  8  5  0  3  3]\n",
      " [34 23  2  9  2 12 22  0  4  6]\n",
      " [11  2 29 46  1 23 10  1  6  2]\n",
      " [12 14 13 33  4 27 16  0  1  4]\n",
      " [ 5 10  7 29 26 28  4  0  5  3]\n",
      " [ 1  9  9 16  4 42 26  1  2  4]\n",
      " [11 16  4  4  0 29 25  0  6 16]\n",
      " [ 2  1  1  4  3 20  1  6 17  5]\n",
      " [15 16  8 17  3 18  2  3 28 11]\n",
      " [ 2  9  3  1  1 39  9  2 11 47]]\n"
     ]
    }
   ],
   "source": [
    "#classification report\n",
    "y_predict = svm_si.fit(Ftrain, Ltrain).predict(Ftest)\n",
    "class_names = target.unique()\n",
    "print(classification_report(Ltest, y_predict, target_names=class_names))\n",
    "print(confusion_matrix(Ltest, y_predict))"
   ]
  },
  {
   "cell_type": "markdown",
   "id": "576fd580",
   "metadata": {},
   "source": [
    "# Random Forest on Grayscale"
   ]
  },
  {
   "cell_type": "code",
   "execution_count": 58,
   "id": "9dfa979e",
   "metadata": {},
   "outputs": [
    {
     "data": {
      "text/plain": [
       "RandomForestClassifier(max_depth=5, n_jobs=-1, oob_score=True, random_state=42)"
      ]
     },
     "execution_count": 58,
     "metadata": {},
     "output_type": "execute_result"
    }
   ],
   "source": [
    "classifier_rf.fit(Ftrain, Ltrain)"
   ]
  },
  {
   "cell_type": "code",
   "execution_count": 59,
   "id": "2b4347ef",
   "metadata": {},
   "outputs": [
    {
     "data": {
      "text/plain": [
       "0.442640930028515"
      ]
     },
     "execution_count": 59,
     "metadata": {},
     "output_type": "execute_result"
    }
   ],
   "source": [
    "classifier_rf.oob_score_"
   ]
  },
  {
   "cell_type": "code",
   "execution_count": 60,
   "id": "ce5db8b5",
   "metadata": {},
   "outputs": [
    {
     "name": "stdout",
     "output_type": "stream",
     "text": [
      "                               precision    recall  f1-score   support\n",
      "\n",
      "               bacterial_spot       0.46      0.61      0.53       124\n",
      "                 early_blight       0.40      0.18      0.25       114\n",
      "                      healthy       0.47      0.74      0.57       131\n",
      "                  late_blight       0.48      0.28      0.36       124\n",
      "                    leaf_mold       0.57      0.54      0.55       117\n",
      "           septoria_leaf_spot       0.58      0.46      0.51       114\n",
      "                  target_spot       0.38      0.67      0.48       111\n",
      "          tomato_mosaic_virus       0.00      0.00      0.00        60\n",
      "tomato_yellow_leaf_curl_virus       0.43      0.31      0.36       121\n",
      "      two-spotted_spider_mite       0.48      0.60      0.54       124\n",
      "\n",
      "                     accuracy                           0.47      1140\n",
      "                    macro avg       0.42      0.44      0.42      1140\n",
      "                 weighted avg       0.45      0.47      0.44      1140\n",
      "\n",
      "[[76  5 22  4  1  0  6  0  8  2]\n",
      " [35 21  2  2  5 11 24  0  8  6]\n",
      " [ 2  0 97 11  6  0  9  0  4  2]\n",
      " [10 10 21 35 10 16 14  0  3  5]\n",
      " [ 8  1 13  2 63  2 15  0  6  7]\n",
      " [ 1  0 21  6 11 53 14  0  1  7]\n",
      " [ 7  3  5  0  0  2 74  0  3 17]\n",
      " [ 3  0 11  3  7  3  1  0 12 20]\n",
      " [19  9 12 10  8  3  8  0 38 14]\n",
      " [ 4  3  4  0  0  2 30  0  6 75]]\n"
     ]
    },
    {
     "name": "stderr",
     "output_type": "stream",
     "text": [
      "C:\\Users\\ravic\\anaconda3\\lib\\site-packages\\sklearn\\metrics\\_classification.py:1248: UndefinedMetricWarning: Precision and F-score are ill-defined and being set to 0.0 in labels with no predicted samples. Use `zero_division` parameter to control this behavior.\n",
      "  _warn_prf(average, modifier, msg_start, len(result))\n",
      "C:\\Users\\ravic\\anaconda3\\lib\\site-packages\\sklearn\\metrics\\_classification.py:1248: UndefinedMetricWarning: Precision and F-score are ill-defined and being set to 0.0 in labels with no predicted samples. Use `zero_division` parameter to control this behavior.\n",
      "  _warn_prf(average, modifier, msg_start, len(result))\n",
      "C:\\Users\\ravic\\anaconda3\\lib\\site-packages\\sklearn\\metrics\\_classification.py:1248: UndefinedMetricWarning: Precision and F-score are ill-defined and being set to 0.0 in labels with no predicted samples. Use `zero_division` parameter to control this behavior.\n",
      "  _warn_prf(average, modifier, msg_start, len(result))\n"
     ]
    }
   ],
   "source": [
    "y_predict = classifier_rf.fit(Ftrain, Ltrain).predict(Ftest)\n",
    "class_names = target.unique()\n",
    "print(classification_report(Ltest, y_predict, target_names=class_names))\n",
    "print(confusion_matrix(Ltest, y_predict))"
   ]
  },
  {
   "cell_type": "markdown",
   "id": "8befce61",
   "metadata": {},
   "source": [
    "# Gaussian Naive bayes on Grayscale"
   ]
  },
  {
   "cell_type": "code",
   "execution_count": 61,
   "id": "0d1a6d3b",
   "metadata": {},
   "outputs": [
    {
     "data": {
      "text/plain": [
       "GaussianNB()"
      ]
     },
     "execution_count": 61,
     "metadata": {},
     "output_type": "execute_result"
    }
   ],
   "source": [
    "gnb.fit(Ftrain, Ltrain)"
   ]
  },
  {
   "cell_type": "code",
   "execution_count": 62,
   "id": "053c9a09",
   "metadata": {},
   "outputs": [
    {
     "data": {
      "text/plain": [
       "0.41578947368421054"
      ]
     },
     "execution_count": 62,
     "metadata": {},
     "output_type": "execute_result"
    }
   ],
   "source": [
    "y_pred = gnb.predict(Ftest)\n",
    "metrics.accuracy_score(Ltest, y_pred)"
   ]
  },
  {
   "cell_type": "code",
   "execution_count": 63,
   "id": "0ea180f7",
   "metadata": {},
   "outputs": [
    {
     "name": "stdout",
     "output_type": "stream",
     "text": [
      "                               precision    recall  f1-score   support\n",
      "\n",
      "               bacterial_spot       0.49      0.69      0.57       124\n",
      "                 early_blight       0.38      0.37      0.37       114\n",
      "                      healthy       0.45      0.63      0.52       131\n",
      "                  late_blight       0.33      0.20      0.25       124\n",
      "                    leaf_mold       0.61      0.30      0.40       117\n",
      "           septoria_leaf_spot       0.40      0.47      0.43       114\n",
      "                  target_spot       0.51      0.39      0.44       111\n",
      "          tomato_mosaic_virus       0.29      0.60      0.39        60\n",
      "tomato_yellow_leaf_curl_virus       0.30      0.13      0.18       121\n",
      "      two-spotted_spider_mite       0.40      0.44      0.42       124\n",
      "\n",
      "                     accuracy                           0.42      1140\n",
      "                    macro avg       0.41      0.42      0.40      1140\n",
      "                 weighted avg       0.42      0.42      0.40      1140\n",
      "\n",
      "[[86  6 16  2  0  2  2  6  3  1]\n",
      " [24 42  2 17  4  4  9  1  4  7]\n",
      " [ 4  2 82  3  6  1  8  7 14  4]\n",
      " [ 2 24 32 25  4 21  4  7  1  4]\n",
      " [12  3  8 10 35 22  3 13  2  9]\n",
      " [ 2  4 20  6  1 54  7  6  3 11]\n",
      " [ 8 13  1  7  3  7 43  1  3 25]\n",
      " [ 7  0  4  0  2  3  0 36  1  7]\n",
      " [27 10 14  5  0  9  3 23 16 14]\n",
      " [ 4  8  4  1  2 12  6 26  6 55]]\n"
     ]
    }
   ],
   "source": [
    "class_names = target.unique()\n",
    "print(classification_report(Ltest, y_pred, target_names=class_names))\n",
    "print(confusion_matrix(Ltest, y_pred))"
   ]
  },
  {
   "cell_type": "markdown",
   "id": "d5b489a0",
   "metadata": {},
   "source": [
    "# Bernouli Naive bayes on grayscale data"
   ]
  },
  {
   "cell_type": "code",
   "execution_count": 64,
   "id": "05c41305",
   "metadata": {},
   "outputs": [
    {
     "data": {
      "text/plain": [
       "0.34385964912280703"
      ]
     },
     "execution_count": 64,
     "metadata": {},
     "output_type": "execute_result"
    }
   ],
   "source": [
    "bnb.fit(Ftrain, Ltrain)\n",
    "y_pred = bnb.predict(Ftest)\n",
    "metrics.accuracy_score(Ltest, y_pred)"
   ]
  },
  {
   "cell_type": "code",
   "execution_count": 65,
   "id": "40cc434f",
   "metadata": {},
   "outputs": [
    {
     "name": "stdout",
     "output_type": "stream",
     "text": [
      "                               precision    recall  f1-score   support\n",
      "\n",
      "               bacterial_spot       0.40      0.69      0.51       124\n",
      "                 early_blight       0.27      0.18      0.21       114\n",
      "                      healthy       0.38      0.52      0.44       131\n",
      "                  late_blight       0.16      0.09      0.12       124\n",
      "                    leaf_mold       0.64      0.30      0.41       117\n",
      "           septoria_leaf_spot       0.31      0.53      0.39       114\n",
      "                  target_spot       0.36      0.30      0.33       111\n",
      "          tomato_mosaic_virus       0.18      0.27      0.21        60\n",
      "tomato_yellow_leaf_curl_virus       0.16      0.08      0.11       121\n",
      "      two-spotted_spider_mite       0.45      0.44      0.44       124\n",
      "\n",
      "                     accuracy                           0.34      1140\n",
      "                    macro avg       0.33      0.34      0.32      1140\n",
      "                 weighted avg       0.34      0.34      0.32      1140\n",
      "\n",
      "[[85  5 13  7  1  5  1  3  3  1]\n",
      " [46 20  3  4  2 15 15  2  4  3]\n",
      " [ 5  1 68 14  4  7  7 10 10  5]\n",
      " [20  9 39 11  9 24  6  1  1  4]\n",
      " [10  4  9  6 35 24  8  8  7  6]\n",
      " [ 1  3 20  4  1 60  9  5  1 10]\n",
      " [ 5 11  4  4  1 20 33 10 10 13]\n",
      " [ 5  0  4  5  2 13  1 16  7  7]\n",
      " [30 12 16  7  0 11  2 17 10 16]\n",
      " [ 4  8  4  5  0 12  9 19  9 54]]\n"
     ]
    }
   ],
   "source": [
    "class_names = target.unique()\n",
    "print(classification_report(Ltest, y_pred, target_names=class_names))\n",
    "print(confusion_matrix(Ltest, y_pred))"
   ]
  },
  {
   "cell_type": "markdown",
   "id": "7adb2a72",
   "metadata": {},
   "source": [
    "# Decision Tree on Grayscale"
   ]
  },
  {
   "cell_type": "code",
   "execution_count": 66,
   "id": "8e38f8b5",
   "metadata": {},
   "outputs": [
    {
     "data": {
      "text/plain": [
       "0.3298245614035088"
      ]
     },
     "execution_count": 66,
     "metadata": {},
     "output_type": "execute_result"
    }
   ],
   "source": [
    "classifier_tree.fit(Ftrain, Ltrain)\n",
    "classifier_tree.score(Ftest,Ltest)"
   ]
  },
  {
   "cell_type": "code",
   "execution_count": 67,
   "id": "838a0a4d",
   "metadata": {},
   "outputs": [
    {
     "name": "stdout",
     "output_type": "stream",
     "text": [
      "                               precision    recall  f1-score   support\n",
      "\n",
      "               bacterial_spot       0.46      0.44      0.45       124\n",
      "                 early_blight       0.21      0.25      0.22       114\n",
      "                      healthy       0.47      0.53      0.50       131\n",
      "                  late_blight       0.38      0.28      0.33       124\n",
      "                    leaf_mold       0.35      0.32      0.33       117\n",
      "           septoria_leaf_spot       0.36      0.38      0.37       114\n",
      "                  target_spot       0.30      0.34      0.32       111\n",
      "          tomato_mosaic_virus       0.23      0.22      0.22        60\n",
      "tomato_yellow_leaf_curl_virus       0.23      0.21      0.22       121\n",
      "      two-spotted_spider_mite       0.31      0.32      0.32       124\n",
      "\n",
      "                     accuracy                           0.34      1140\n",
      "                    macro avg       0.33      0.33      0.33      1140\n",
      "                 weighted avg       0.34      0.34      0.34      1140\n",
      "\n",
      "[[55 16 11  3  8  6  3  3 17  2]\n",
      " [18 28  7  6  7  6 13  1 13 15]\n",
      " [ 7  5 69  5  4 10 12  6  4  9]\n",
      " [ 8 17 13 35  6 18 10  5 10  2]\n",
      " [ 7  9 10 15 37 12  7  4  7  9]\n",
      " [ 5 10 10  9 15 43  8  2  9  3]\n",
      " [ 3 14  6  4  2 11 38  2  7 24]\n",
      " [ 1  3  5  1 10  3  4 13  8 12]\n",
      " [13 18 11  9 12  3 10  8 26 11]\n",
      " [ 3 16  4  4  5  6 21 12 13 40]]\n"
     ]
    }
   ],
   "source": [
    "y_predict = classifier_tree.fit(Ftrain, Ltrain).predict(Ftest)\n",
    "class_names = target.unique()\n",
    "print(classification_report(Ltest, y_predict, target_names=class_names))\n",
    "print(confusion_matrix(Ltest, y_predict))"
   ]
  },
  {
   "cell_type": "markdown",
   "id": "e42f549f",
   "metadata": {},
   "source": [
    "# KNN on Red channel data"
   ]
  },
  {
   "cell_type": "code",
   "execution_count": 68,
   "id": "cb75cbbd",
   "metadata": {},
   "outputs": [],
   "source": [
    "#reading numpy array data\n",
    "red_test = np.load('red_data.npy')\n",
    "#reading csv file\n",
    "red_df = pd.read_csv('red_data.csv')"
   ]
  },
  {
   "cell_type": "code",
   "execution_count": 69,
   "id": "7fda7839",
   "metadata": {},
   "outputs": [],
   "source": [
    "loaded = []\n",
    "for i in red_test:\n",
    "    k = []\n",
    "    k = np.asarray(i,dtype='uint8')\n",
    "    loaded.append(k)\n",
    "features = loaded\n",
    "target = red_df['disease']\n",
    "Ftrain,Ftest,Ltrain,Ltest=train_test_split(features,target, test_size=0.20, random_state=20)\n",
    "scaler = StandardScaler()\n",
    "Ftrain = scaler.fit_transform(Ftrain)\n",
    "Ftest = scaler.fit_transform(Ftest)"
   ]
  },
  {
   "cell_type": "code",
   "execution_count": 70,
   "id": "683839f2",
   "metadata": {},
   "outputs": [
    {
     "data": {
      "text/plain": [
       "0.4052631578947368"
      ]
     },
     "execution_count": 70,
     "metadata": {},
     "output_type": "execute_result"
    }
   ],
   "source": [
    "kmodel.fit(Ftrain,Ltrain)\n",
    "kmodel.score(Ftest,Ltest)"
   ]
  },
  {
   "cell_type": "code",
   "execution_count": 71,
   "id": "3f0b171c",
   "metadata": {},
   "outputs": [
    {
     "name": "stdout",
     "output_type": "stream",
     "text": [
      "                               precision    recall  f1-score   support\n",
      "\n",
      "               bacterial_spot       0.33      0.70      0.45       124\n",
      "                 early_blight       0.00      0.00      0.00       114\n",
      "                      healthy       0.36      0.77      0.49       131\n",
      "                  late_blight       0.34      0.23      0.27       124\n",
      "                    leaf_mold       0.52      0.46      0.49       117\n",
      "           septoria_leaf_spot       0.45      0.32      0.38       114\n",
      "                  target_spot       0.41      0.29      0.34       111\n",
      "          tomato_mosaic_virus       0.54      0.35      0.42        60\n",
      "tomato_yellow_leaf_curl_virus       0.40      0.20      0.27       121\n",
      "      two-spotted_spider_mite       0.53      0.63      0.58       124\n",
      "\n",
      "                     accuracy                           0.41      1140\n",
      "                    macro avg       0.39      0.40      0.37      1140\n",
      "                 weighted avg       0.38      0.41      0.37      1140\n",
      "\n",
      "[[ 87   1  17  11   3   3   0   0   2   0]\n",
      " [ 58   0  10   0  13   5  15   2   5   6]\n",
      " [  7   0 101   9   3   7   0   1   3   0]\n",
      " [ 22   0  32  28   9  16   4   3   6   4]\n",
      " [  7   0  32   7  54   3   4   1   4   5]\n",
      " [  6   0  25  14   5  37   6   4   2  15]\n",
      " [ 34   0  22   2   1   5  32   0   3  12]\n",
      " [  3   0  10   3   6   1   0  21   4  12]\n",
      " [ 31   1  24   7  10   2   4   4  24  14]\n",
      " [  9   0   8   2   0   4  13   3   7  78]]\n"
     ]
    }
   ],
   "source": [
    "y_predict = kmodel.fit(Ftrain, Ltrain).predict(Ftest)\n",
    "class_names = target.unique()\n",
    "print(classification_report(Ltest, y_predict, target_names=class_names))\n",
    "print(confusion_matrix(Ltest, y_predict))"
   ]
  },
  {
   "cell_type": "markdown",
   "id": "ffcda594",
   "metadata": {},
   "source": [
    "# Logistic on Red channel data"
   ]
  },
  {
   "cell_type": "code",
   "execution_count": 72,
   "id": "1ed4037b",
   "metadata": {},
   "outputs": [
    {
     "data": {
      "text/plain": [
       "0.33421052631578946"
      ]
     },
     "execution_count": 72,
     "metadata": {},
     "output_type": "execute_result"
    }
   ],
   "source": [
    "model.fit(Ftrain,Ltrain)\n",
    "model.score(Ftest,Ltest)"
   ]
  },
  {
   "cell_type": "code",
   "execution_count": 73,
   "id": "19a4a62d",
   "metadata": {},
   "outputs": [
    {
     "name": "stdout",
     "output_type": "stream",
     "text": [
      "                               precision    recall  f1-score   support\n",
      "\n",
      "               bacterial_spot       0.34      0.40      0.37       124\n",
      "                 early_blight       0.23      0.25      0.24       114\n",
      "                      healthy       0.49      0.41      0.45       131\n",
      "                  late_blight       0.16      0.18      0.17       124\n",
      "                    leaf_mold       0.40      0.42      0.41       117\n",
      "           septoria_leaf_spot       0.32      0.32      0.32       114\n",
      "                  target_spot       0.29      0.25      0.27       111\n",
      "          tomato_mosaic_virus       0.35      0.22      0.27        60\n",
      "tomato_yellow_leaf_curl_virus       0.30      0.29      0.29       121\n",
      "      two-spotted_spider_mite       0.49      0.52      0.50       124\n",
      "\n",
      "                     accuracy                           0.33      1140\n",
      "                    macro avg       0.34      0.33      0.33      1140\n",
      "                 weighted avg       0.34      0.33      0.33      1140\n",
      "\n",
      "[[50 26  6 13  8  5  3  0  8  5]\n",
      " [26 28  3 11  6  5 13  1 14  7]\n",
      " [13  8 54 22  3 10  4  0 13  4]\n",
      " [14 16 14 22 10 24  6  3 10  5]\n",
      " [ 1  8  8 22 49  8  4  3  7  7]\n",
      " [ 5  4  8 20  9 37 13  5  6  7]\n",
      " [21 13  6  5  4  8 28  0  9 17]\n",
      " [ 1  1  1  4 17  7  2 13  8  6]\n",
      " [13 11  4 12 13  5  6 11 35 11]\n",
      " [ 5  8  6  4  4  7 16  1  8 65]]\n"
     ]
    }
   ],
   "source": [
    "y_predict = model.fit(Ftrain, Ltrain).predict(Ftest)\n",
    "class_names = target.unique()\n",
    "print(classification_report(Ltest, y_predict, target_names=class_names))\n",
    "print(confusion_matrix(Ltest, y_predict))"
   ]
  },
  {
   "cell_type": "markdown",
   "id": "dba6d5ce",
   "metadata": {},
   "source": [
    "# SVM(linear) on Red channel data"
   ]
  },
  {
   "cell_type": "code",
   "execution_count": 74,
   "id": "6ed153f7",
   "metadata": {},
   "outputs": [
    {
     "name": "stdout",
     "output_type": "stream",
     "text": [
      "0.3912280701754386\n"
     ]
    }
   ],
   "source": [
    "clf.fit(Ftrain,Ltrain)\n",
    "y_pred = clf.predict(Ftest)\n",
    "print(accuracy_score(Ltest,y_pred))"
   ]
  },
  {
   "cell_type": "code",
   "execution_count": 75,
   "id": "cb2cb836",
   "metadata": {},
   "outputs": [
    {
     "name": "stdout",
     "output_type": "stream",
     "text": [
      "                               precision    recall  f1-score   support\n",
      "\n",
      "               bacterial_spot       0.34      0.46      0.39       124\n",
      "                 early_blight       0.28      0.32      0.30       114\n",
      "                      healthy       0.53      0.55      0.54       131\n",
      "                  late_blight       0.28      0.29      0.29       124\n",
      "                    leaf_mold       0.45      0.46      0.46       117\n",
      "           septoria_leaf_spot       0.32      0.32      0.32       114\n",
      "                  target_spot       0.30      0.26      0.28       111\n",
      "          tomato_mosaic_virus       0.56      0.33      0.42        60\n",
      "tomato_yellow_leaf_curl_virus       0.42      0.34      0.37       121\n",
      "      two-spotted_spider_mite       0.55      0.52      0.53       124\n",
      "\n",
      "                     accuracy                           0.39      1140\n",
      "                    macro avg       0.40      0.39      0.39      1140\n",
      "                 weighted avg       0.40      0.39      0.39      1140\n",
      "\n",
      "[[57 26  9  8  4  8  3  0  8  1]\n",
      " [26 37  2  7  8  3 14  0  9  8]\n",
      " [21  3 72 11  4  8  3  0  5  4]\n",
      " [14 14 17 36  9 22  5  1  4  2]\n",
      " [ 5  5 10 26 54  5  4  0  4  4]\n",
      " [ 4  7  9 22 14 36 12  4  2  4]\n",
      " [20 17  4  1  3 12 29  0  7 18]\n",
      " [ 1  2  0  1 11 10  1 20 12  2]\n",
      " [12 12  8 12 10  3  6  7 41 10]\n",
      " [ 6  9  5  3  2  6 19  4  6 64]]\n"
     ]
    }
   ],
   "source": [
    "y_predict = clf.fit(Ftrain, Ltrain).predict(Ftest)\n",
    "class_names = target.unique()\n",
    "print(classification_report(Ltest, y_predict, target_names=class_names))\n",
    "print(confusion_matrix(Ltest, y_predict))"
   ]
  },
  {
   "cell_type": "markdown",
   "id": "c77b6aed",
   "metadata": {},
   "source": [
    "# SVM(poly) on Red data"
   ]
  },
  {
   "cell_type": "code",
   "execution_count": 76,
   "id": "d066e758",
   "metadata": {},
   "outputs": [
    {
     "name": "stdout",
     "output_type": "stream",
     "text": [
      "0.5324561403508772\n"
     ]
    }
   ],
   "source": [
    "svm_poly.fit(Ftrain,Ltrain)\n",
    "y_pred = svm_poly.predict(Ftest)\n",
    "print(accuracy_score(Ltest,y_pred))"
   ]
  },
  {
   "cell_type": "code",
   "execution_count": 77,
   "id": "cea5d091",
   "metadata": {},
   "outputs": [
    {
     "name": "stdout",
     "output_type": "stream",
     "text": [
      "                               precision    recall  f1-score   support\n",
      "\n",
      "               bacterial_spot       0.56      0.59      0.57       124\n",
      "                 early_blight       0.56      0.16      0.25       114\n",
      "                      healthy       0.44      0.96      0.61       131\n",
      "                  late_blight       0.58      0.27      0.37       124\n",
      "                    leaf_mold       0.65      0.59      0.62       117\n",
      "           septoria_leaf_spot       0.65      0.46      0.54       114\n",
      "                  target_spot       0.47      0.68      0.56       111\n",
      "          tomato_mosaic_virus       0.67      0.13      0.22        60\n",
      "tomato_yellow_leaf_curl_virus       0.45      0.57      0.50       121\n",
      "      two-spotted_spider_mite       0.69      0.65      0.67       124\n",
      "\n",
      "                     accuracy                           0.53      1140\n",
      "                    macro avg       0.57      0.51      0.49      1140\n",
      "                 weighted avg       0.57      0.53      0.51      1140\n",
      "\n",
      "[[ 73   2  22   8   1   2   3   0  13   0]\n",
      " [ 30  18   7   4   7   1  29   0  12   6]\n",
      " [  0   0 126   1   2   0   0   0   2   0]\n",
      " [  9   7  25  34   9  20   9   0  10   1]\n",
      " [  0   2  27   3  69   0   7   0   7   2]\n",
      " [  5   0  21   6   6  53   9   2   8   4]\n",
      " [  5   1  11   0   0   1  76   0   7  10]\n",
      " [  0   0  14   0   8   3   4   8  17   6]\n",
      " [  9   2  17   3   4   2   5   2  69   8]\n",
      " [  0   0  15   0   0   0  19   0   9  81]]\n"
     ]
    }
   ],
   "source": [
    "#classification report\n",
    "y_predict = svm_poly.fit(Ftrain, Ltrain).predict(Ftest)\n",
    "class_names = target.unique()\n",
    "print(classification_report(Ltest, y_predict, target_names=class_names))\n",
    "print(confusion_matrix(Ltest, y_predict))"
   ]
  },
  {
   "cell_type": "markdown",
   "id": "b1c7cc1d",
   "metadata": {},
   "source": [
    "# SVM(RBF) on Red data"
   ]
  },
  {
   "cell_type": "code",
   "execution_count": 78,
   "id": "d98d25ad",
   "metadata": {},
   "outputs": [
    {
     "name": "stdout",
     "output_type": "stream",
     "text": [
      "0.6403508771929824\n"
     ]
    }
   ],
   "source": [
    "svm_rbf.fit(Ftrain,Ltrain)\n",
    "y_pred = svm_rbf.predict(Ftest)\n",
    "print(accuracy_score(Ltest,y_pred))"
   ]
  },
  {
   "cell_type": "code",
   "execution_count": 79,
   "id": "e25383e4",
   "metadata": {},
   "outputs": [
    {
     "name": "stdout",
     "output_type": "stream",
     "text": [
      "                               precision    recall  f1-score   support\n",
      "\n",
      "               bacterial_spot       0.72      0.64      0.68       124\n",
      "                 early_blight       0.47      0.47      0.47       114\n",
      "                      healthy       0.74      0.88      0.80       131\n",
      "                  late_blight       0.60      0.56      0.58       124\n",
      "                    leaf_mold       0.71      0.66      0.68       117\n",
      "           septoria_leaf_spot       0.55      0.55      0.55       114\n",
      "                  target_spot       0.61      0.69      0.65       111\n",
      "          tomato_mosaic_virus       0.62      0.53      0.57        60\n",
      "tomato_yellow_leaf_curl_virus       0.66      0.59      0.62       121\n",
      "      two-spotted_spider_mite       0.68      0.74      0.71       124\n",
      "\n",
      "                     accuracy                           0.64      1140\n",
      "                    macro avg       0.64      0.63      0.63      1140\n",
      "                 weighted avg       0.64      0.64      0.64      1140\n",
      "\n",
      "[[ 79   7   8   9   1   7   3   1   9   0]\n",
      " [ 18  54   1   9   6   5  12   0   3   6]\n",
      " [  0   2 115   3   2   2   1   1   4   1]\n",
      " [  1  22   4  70   2  17   3   3   2   0]\n",
      " [  1   6   8  11  77   4   5   1   1   3]\n",
      " [  1   4   6  11  10  63   6   6   4   3]\n",
      " [  3   9   1   0   0   2  77   0   4  15]\n",
      " [  1   1   2   0   7   5   0  32   7   5]\n",
      " [  5   7   6   4   4   6   3   4  71  11]\n",
      " [  0   2   4   0   0   3  16   4   3  92]]\n"
     ]
    }
   ],
   "source": [
    "#classification report\n",
    "y_predict = svm_rbf.fit(Ftrain, Ltrain).predict(Ftest)\n",
    "class_names = target.unique()\n",
    "print(classification_report(Ltest, y_predict, target_names=class_names))\n",
    "print(confusion_matrix(Ltest, y_predict))"
   ]
  },
  {
   "cell_type": "markdown",
   "id": "8232431f",
   "metadata": {},
   "source": [
    "# SVM(sigmoid) on Red data"
   ]
  },
  {
   "cell_type": "code",
   "execution_count": 80,
   "id": "2332bd9a",
   "metadata": {},
   "outputs": [
    {
     "name": "stdout",
     "output_type": "stream",
     "text": [
      "0.3\n"
     ]
    }
   ],
   "source": [
    "svm_si.fit(Ftrain,Ltrain)\n",
    "y_pred = svm_si.predict(Ftest)\n",
    "print(accuracy_score(Ltest,y_pred))"
   ]
  },
  {
   "cell_type": "code",
   "execution_count": 81,
   "id": "ca6e2c45",
   "metadata": {},
   "outputs": [
    {
     "name": "stdout",
     "output_type": "stream",
     "text": [
      "                               precision    recall  f1-score   support\n",
      "\n",
      "               bacterial_spot       0.39      0.42      0.40       124\n",
      "                 early_blight       0.15      0.11      0.13       114\n",
      "                      healthy       0.43      0.27      0.34       131\n",
      "                  late_blight       0.17      0.35      0.23       124\n",
      "                    leaf_mold       0.52      0.25      0.34       117\n",
      "           septoria_leaf_spot       0.20      0.47      0.28       114\n",
      "                  target_spot       0.38      0.32      0.35       111\n",
      "          tomato_mosaic_virus       0.38      0.13      0.20        60\n",
      "tomato_yellow_leaf_curl_virus       0.34      0.19      0.24       121\n",
      "      two-spotted_spider_mite       0.60      0.40      0.48       124\n",
      "\n",
      "                     accuracy                           0.30      1140\n",
      "                    macro avg       0.36      0.29      0.30      1140\n",
      "                 weighted avg       0.36      0.30      0.30      1140\n",
      "\n",
      "[[52 22  5 31  3  5  3  0  3  0]\n",
      " [33 13  2 19  3 19 18  0  4  3]\n",
      " [ 6  0 36 66  3 14  1  0  5  0]\n",
      " [ 4 11 15 43  5 37  7  0  2  0]\n",
      " [13  7  6 19 29 32  6  0  5  0]\n",
      " [ 1  3  8 31  7 54  3  1  2  4]\n",
      " [12 15  6  2  0 26 35  0  3 12]\n",
      " [ 1  0  0 10  3 22  0  8 12  4]\n",
      " [13  8  3 33  3 18  3  7 23 10]\n",
      " [ 0  5  2  0  0 40 15  5  8 49]]\n"
     ]
    }
   ],
   "source": [
    "#classification report\n",
    "y_predict = svm_si.fit(Ftrain, Ltrain).predict(Ftest)\n",
    "class_names = target.unique()\n",
    "print(classification_report(Ltest, y_predict, target_names=class_names))\n",
    "print(confusion_matrix(Ltest, y_predict))"
   ]
  },
  {
   "cell_type": "markdown",
   "id": "a670c4d4",
   "metadata": {},
   "source": [
    "# Random forest on Red channel data"
   ]
  },
  {
   "cell_type": "code",
   "execution_count": 82,
   "id": "9e816e9e",
   "metadata": {},
   "outputs": [
    {
     "data": {
      "text/plain": [
       "0.4678657600350954"
      ]
     },
     "execution_count": 82,
     "metadata": {},
     "output_type": "execute_result"
    }
   ],
   "source": [
    "classifier_rf.fit(Ftrain, Ltrain)\n",
    "classifier_rf.oob_score_"
   ]
  },
  {
   "cell_type": "code",
   "execution_count": 83,
   "id": "2c17baee",
   "metadata": {},
   "outputs": [
    {
     "name": "stdout",
     "output_type": "stream",
     "text": [
      "                               precision    recall  f1-score   support\n",
      "\n",
      "               bacterial_spot       0.48      0.61      0.54       124\n",
      "                 early_blight       0.40      0.15      0.22       114\n",
      "                      healthy       0.52      0.84      0.64       131\n",
      "                  late_blight       0.49      0.28      0.36       124\n",
      "                    leaf_mold       0.56      0.62      0.59       117\n",
      "           septoria_leaf_spot       0.50      0.46      0.48       114\n",
      "                  target_spot       0.43      0.70      0.54       111\n",
      "          tomato_mosaic_virus       0.00      0.00      0.00        60\n",
      "tomato_yellow_leaf_curl_virus       0.41      0.31      0.36       121\n",
      "      two-spotted_spider_mite       0.53      0.63      0.57       124\n",
      "\n",
      "                     accuracy                           0.49      1140\n",
      "                    macro avg       0.43      0.46      0.43      1140\n",
      "                 weighted avg       0.46      0.49      0.45      1140\n",
      "\n",
      "[[ 76   5  19  10   2   0   5   0   6   1]\n",
      " [ 35  17   2   1   9  15  21   0   8   6]\n",
      " [  1   1 110   6   4   0   5   0   3   1]\n",
      " [  9   8  21  35  11  20  11   0   3   6]\n",
      " [  3   0  10   4  72   2  15   0   6   5]\n",
      " [  2   2  15   8  10  53  11   0   2  11]\n",
      " [  6   4   4   0   0   4  78   0   2  13]\n",
      " [  1   0  10   0   9   5   4   0  15  16]\n",
      " [ 23   5  16   7  12   7   2   0  38  11]\n",
      " [  2   0   5   0   0   1  28   0  10  78]]\n"
     ]
    },
    {
     "name": "stderr",
     "output_type": "stream",
     "text": [
      "C:\\Users\\ravic\\anaconda3\\lib\\site-packages\\sklearn\\metrics\\_classification.py:1248: UndefinedMetricWarning: Precision and F-score are ill-defined and being set to 0.0 in labels with no predicted samples. Use `zero_division` parameter to control this behavior.\n",
      "  _warn_prf(average, modifier, msg_start, len(result))\n",
      "C:\\Users\\ravic\\anaconda3\\lib\\site-packages\\sklearn\\metrics\\_classification.py:1248: UndefinedMetricWarning: Precision and F-score are ill-defined and being set to 0.0 in labels with no predicted samples. Use `zero_division` parameter to control this behavior.\n",
      "  _warn_prf(average, modifier, msg_start, len(result))\n",
      "C:\\Users\\ravic\\anaconda3\\lib\\site-packages\\sklearn\\metrics\\_classification.py:1248: UndefinedMetricWarning: Precision and F-score are ill-defined and being set to 0.0 in labels with no predicted samples. Use `zero_division` parameter to control this behavior.\n",
      "  _warn_prf(average, modifier, msg_start, len(result))\n"
     ]
    }
   ],
   "source": [
    "y_predict = classifier_rf.fit(Ftrain, Ltrain).predict(Ftest)\n",
    "class_names = target.unique()\n",
    "print(classification_report(Ltest, y_predict, target_names=class_names))\n",
    "print(confusion_matrix(Ltest, y_predict))"
   ]
  },
  {
   "cell_type": "markdown",
   "id": "e1c2d95a",
   "metadata": {},
   "source": [
    "# Gaussian Naive Bayes on Red channel data"
   ]
  },
  {
   "cell_type": "code",
   "execution_count": 84,
   "id": "8ec0753c",
   "metadata": {},
   "outputs": [
    {
     "data": {
      "text/plain": [
       "GaussianNB()"
      ]
     },
     "execution_count": 84,
     "metadata": {},
     "output_type": "execute_result"
    }
   ],
   "source": [
    "gnb.fit(Ftrain, Ltrain)"
   ]
  },
  {
   "cell_type": "code",
   "execution_count": 85,
   "id": "9bd3c55d",
   "metadata": {},
   "outputs": [
    {
     "data": {
      "text/plain": [
       "0.4342105263157895"
      ]
     },
     "execution_count": 85,
     "metadata": {},
     "output_type": "execute_result"
    }
   ],
   "source": [
    "y_pred = gnb.predict(Ftest)\n",
    "metrics.accuracy_score(Ltest, y_pred)"
   ]
  },
  {
   "cell_type": "code",
   "execution_count": 86,
   "id": "9ac4f5ac",
   "metadata": {},
   "outputs": [
    {
     "name": "stdout",
     "output_type": "stream",
     "text": [
      "                               precision    recall  f1-score   support\n",
      "\n",
      "               bacterial_spot       0.48      0.69      0.56       124\n",
      "                 early_blight       0.28      0.24      0.26       114\n",
      "                      healthy       0.49      0.69      0.58       131\n",
      "                  late_blight       0.38      0.24      0.29       124\n",
      "                    leaf_mold       0.59      0.38      0.47       117\n",
      "           septoria_leaf_spot       0.38      0.41      0.40       114\n",
      "                  target_spot       0.50      0.43      0.46       111\n",
      "          tomato_mosaic_virus       0.36      0.58      0.44        60\n",
      "tomato_yellow_leaf_curl_virus       0.36      0.14      0.20       121\n",
      "      two-spotted_spider_mite       0.43      0.56      0.49       124\n",
      "\n",
      "                     accuracy                           0.43      1140\n",
      "                    macro avg       0.43      0.44      0.42      1140\n",
      "                 weighted avg       0.43      0.43      0.42      1140\n",
      "\n",
      "[[85  5 20  3  1  2  4  2  2  0]\n",
      " [33 27  0 21 10  7 12  0  0  4]\n",
      " [ 6  0 91  2  8  3  4  4 11  2]\n",
      " [ 1 25 34 30  4 18  3  3  2  4]\n",
      " [ 6  4  5  8 45 21  4  7  4 13]\n",
      " [ 3  5 15  6  3 47  8  5  6 16]\n",
      " [ 7 16  0  5  0  6 48  2  1 26]\n",
      " [ 5  0  3  0  2  2  1 35  2 10]\n",
      " [30  9 16  5  2  7  1 17 17 17]\n",
      " [ 1  5  1  0  1 10 11 23  2 70]]\n"
     ]
    }
   ],
   "source": [
    "class_names = target.unique()\n",
    "print(classification_report(Ltest, y_pred, target_names=class_names))\n",
    "print(confusion_matrix(Ltest, y_pred))"
   ]
  },
  {
   "cell_type": "markdown",
   "id": "0ac88b2d",
   "metadata": {},
   "source": [
    "# Bernouli Naive bayes on Red data"
   ]
  },
  {
   "cell_type": "code",
   "execution_count": 87,
   "id": "5979c201",
   "metadata": {},
   "outputs": [
    {
     "data": {
      "text/plain": [
       "0.3526315789473684"
      ]
     },
     "execution_count": 87,
     "metadata": {},
     "output_type": "execute_result"
    }
   ],
   "source": [
    "bnb.fit(Ftrain, Ltrain)\n",
    "y_pred = bnb.predict(Ftest)\n",
    "metrics.accuracy_score(Ltest, y_pred)"
   ]
  },
  {
   "cell_type": "code",
   "execution_count": 88,
   "id": "662273ea",
   "metadata": {},
   "outputs": [
    {
     "name": "stdout",
     "output_type": "stream",
     "text": [
      "                               precision    recall  f1-score   support\n",
      "\n",
      "               bacterial_spot       0.39      0.70      0.50       124\n",
      "                 early_blight       0.19      0.11      0.14       114\n",
      "                      healthy       0.41      0.54      0.47       131\n",
      "                  late_blight       0.21      0.10      0.14       124\n",
      "                    leaf_mold       0.51      0.16      0.25       117\n",
      "           septoria_leaf_spot       0.28      0.48      0.36       114\n",
      "                  target_spot       0.42      0.41      0.41       111\n",
      "          tomato_mosaic_virus       0.32      0.32      0.32        60\n",
      "tomato_yellow_leaf_curl_virus       0.27      0.13      0.18       121\n",
      "      two-spotted_spider_mite       0.40      0.52      0.45       124\n",
      "\n",
      "                     accuracy                           0.35      1140\n",
      "                    macro avg       0.34      0.35      0.32      1140\n",
      "                 weighted avg       0.34      0.35      0.32      1140\n",
      "\n",
      "[[87  4 16  5  1  6  1  0  4  0]\n",
      " [50 13  3  1  4 14 19  2  4  4]\n",
      " [ 7  1 71 16  3 16  4  5  7  1]\n",
      " [16 16 36 13  3 26  8  0  4  2]\n",
      " [17  2  9  6 19 28  6  3  6 21]\n",
      " [ 2  5 20  4  0 55  6  1  3 18]\n",
      " [ 4 14  1  6  0 20 45  3  3 15]\n",
      " [ 3  0  1  3  2  8  0 19  8 16]\n",
      " [35  7 15  3  5  7  4 11 16 18]\n",
      " [ 0  6  0  4  0 15 15 16  4 64]]\n"
     ]
    }
   ],
   "source": [
    "class_names = target.unique()\n",
    "print(classification_report(Ltest, y_pred, target_names=class_names))\n",
    "print(confusion_matrix(Ltest, y_pred))"
   ]
  },
  {
   "cell_type": "markdown",
   "id": "0a606422",
   "metadata": {},
   "source": [
    "# Decision Tree on Red channel"
   ]
  },
  {
   "cell_type": "code",
   "execution_count": 89,
   "id": "2b6fe1e7",
   "metadata": {},
   "outputs": [
    {
     "data": {
      "text/plain": [
       "0.36140350877192984"
      ]
     },
     "execution_count": 89,
     "metadata": {},
     "output_type": "execute_result"
    }
   ],
   "source": [
    "classifier_tree.fit(Ftrain, Ltrain)\n",
    "classifier_tree.score(Ftest,Ltest)"
   ]
  },
  {
   "cell_type": "code",
   "execution_count": 90,
   "id": "7c5134cd",
   "metadata": {},
   "outputs": [
    {
     "name": "stdout",
     "output_type": "stream",
     "text": [
      "                               precision    recall  f1-score   support\n",
      "\n",
      "               bacterial_spot       0.52      0.52      0.52       124\n",
      "                 early_blight       0.26      0.23      0.24       114\n",
      "                      healthy       0.55      0.53      0.54       131\n",
      "                  late_blight       0.37      0.39      0.38       124\n",
      "                    leaf_mold       0.40      0.40      0.40       117\n",
      "           septoria_leaf_spot       0.39      0.41      0.40       114\n",
      "                  target_spot       0.26      0.30      0.28       111\n",
      "          tomato_mosaic_virus       0.17      0.17      0.17        60\n",
      "tomato_yellow_leaf_curl_virus       0.25      0.25      0.25       121\n",
      "      two-spotted_spider_mite       0.35      0.32      0.34       124\n",
      "\n",
      "                     accuracy                           0.36      1140\n",
      "                    macro avg       0.35      0.35      0.35      1140\n",
      "                 weighted avg       0.37      0.36      0.36      1140\n",
      "\n",
      "[[65 17  3  7  7  8  4  2  9  2]\n",
      " [16 26  6 13  6  6 13 10 11  7]\n",
      " [ 2  3 70 10 10  8 11  1  8  8]\n",
      " [ 7 10  9 48  9 13  7  5 11  5]\n",
      " [ 2  8 13 11 47  7  9  4 14  2]\n",
      " [ 5  4  6 10  5 47 13  3  9 12]\n",
      " [ 5 12  7 11  3  4 33  4  8 24]\n",
      " [ 3  3  2  3 14  4  4 10 10  7]\n",
      " [15 11  6 12 12 12  9  7 30  7]\n",
      " [ 4  5  6  4  4 12 25 12 12 40]]\n"
     ]
    }
   ],
   "source": [
    "y_predict = classifier_tree.fit(Ftrain, Ltrain).predict(Ftest)\n",
    "class_names = target.unique()\n",
    "print(classification_report(Ltest, y_predict, target_names=class_names))\n",
    "print(confusion_matrix(Ltest, y_predict))"
   ]
  },
  {
   "cell_type": "markdown",
   "id": "21af7568",
   "metadata": {},
   "source": [
    "# KNN on green channel data"
   ]
  },
  {
   "cell_type": "code",
   "execution_count": 91,
   "id": "461b784b",
   "metadata": {},
   "outputs": [
    {
     "data": {
      "text/plain": [
       "0.3280701754385965"
      ]
     },
     "execution_count": 91,
     "metadata": {},
     "output_type": "execute_result"
    }
   ],
   "source": [
    "#reading numpy array data\n",
    "green_test = np.load('green_data.npy')\n",
    "#reading csv file\n",
    "green_df = pd.read_csv('green_data.csv')\n",
    "loaded = []\n",
    "for i in green_test:\n",
    "    k = []\n",
    "    k = np.asarray(i,dtype='uint8')\n",
    "    loaded.append(k)\n",
    "features = loaded\n",
    "target = green_df['disease']\n",
    "Ftrain,Ftest,Ltrain,Ltest=train_test_split(features,target, test_size=0.20, random_state=20)\n",
    "scaler = StandardScaler()\n",
    "Ftrain = scaler.fit_transform(Ftrain)\n",
    "Ftest = scaler.fit_transform(Ftest)\n",
    "kmodel.fit(Ftrain,Ltrain)\n",
    "kmodel.score(Ftest,Ltest)"
   ]
  },
  {
   "cell_type": "code",
   "execution_count": 92,
   "id": "5a26601b",
   "metadata": {},
   "outputs": [
    {
     "name": "stdout",
     "output_type": "stream",
     "text": [
      "                               precision    recall  f1-score   support\n",
      "\n",
      "               bacterial_spot       0.23      0.74      0.36       124\n",
      "                 early_blight       0.00      0.00      0.00       114\n",
      "                      healthy       0.33      0.60      0.43       131\n",
      "                  late_blight       0.24      0.18      0.21       124\n",
      "                    leaf_mold       0.41      0.51      0.45       117\n",
      "           septoria_leaf_spot       0.45      0.39      0.42       114\n",
      "                  target_spot       0.34      0.09      0.14       111\n",
      "          tomato_mosaic_virus       0.33      0.08      0.13        60\n",
      "tomato_yellow_leaf_curl_virus       0.59      0.11      0.18       121\n",
      "      two-spotted_spider_mite       0.46      0.40      0.42       124\n",
      "\n",
      "                     accuracy                           0.33      1140\n",
      "                    macro avg       0.34      0.31      0.27      1140\n",
      "                 weighted avg       0.34      0.33      0.29      1140\n",
      "\n",
      "[[92  0 16  7  4  1  0  0  3  1]\n",
      " [74  0  5  1 12  5  4  1  2 10]\n",
      " [23  1 78 14 10  2  0  2  1  0]\n",
      " [29  0 34 22 11 17  3  0  1  7]\n",
      " [12  0 25  7 60  3  1  3  0  6]\n",
      " [ 8  0 32  9  9 45  3  2  0  6]\n",
      " [62  0  7  7  4  7 10  0  0 14]\n",
      " [ 6  0 12  7 18  6  0  5  0  6]\n",
      " [46  0 20  9 13  8  2  2 13  8]\n",
      " [42  0  5  7  7  6  6  0  2 49]]\n"
     ]
    }
   ],
   "source": [
    "y_predict = kmodel.fit(Ftrain, Ltrain).predict(Ftest)\n",
    "class_names = target.unique()\n",
    "print(classification_report(Ltest, y_predict, target_names=class_names))\n",
    "print(confusion_matrix(Ltest, y_predict))"
   ]
  },
  {
   "cell_type": "markdown",
   "id": "71f3ea86",
   "metadata": {},
   "source": [
    "# Logistic on Green channel data"
   ]
  },
  {
   "cell_type": "code",
   "execution_count": 93,
   "id": "28dad6b2",
   "metadata": {},
   "outputs": [
    {
     "data": {
      "text/plain": [
       "0.3131578947368421"
      ]
     },
     "execution_count": 93,
     "metadata": {},
     "output_type": "execute_result"
    }
   ],
   "source": [
    "model.fit(Ftrain,Ltrain)\n",
    "model.score(Ftest,Ltest)"
   ]
  },
  {
   "cell_type": "code",
   "execution_count": 94,
   "id": "fb6982d8",
   "metadata": {},
   "outputs": [
    {
     "name": "stdout",
     "output_type": "stream",
     "text": [
      "                               precision    recall  f1-score   support\n",
      "\n",
      "               bacterial_spot       0.34      0.40      0.36       124\n",
      "                 early_blight       0.25      0.25      0.25       114\n",
      "                      healthy       0.48      0.44      0.46       131\n",
      "                  late_blight       0.19      0.23      0.21       124\n",
      "                    leaf_mold       0.35      0.39      0.37       117\n",
      "           septoria_leaf_spot       0.31      0.32      0.32       114\n",
      "                  target_spot       0.20      0.17      0.18       111\n",
      "          tomato_mosaic_virus       0.14      0.07      0.09        60\n",
      "tomato_yellow_leaf_curl_virus       0.32      0.29      0.30       121\n",
      "      two-spotted_spider_mite       0.41      0.42      0.41       124\n",
      "\n",
      "                     accuracy                           0.31      1140\n",
      "                    macro avg       0.30      0.30      0.30      1140\n",
      "                 weighted avg       0.31      0.31      0.31      1140\n",
      "\n",
      "[[49 24  8 10 10  5  5  1  7  5]\n",
      " [19 29  7 12  7  5 13  0  9 13]\n",
      " [12  5 58 20  2 11  7  0 11  5]\n",
      " [12 16 14 28 13 16  8  6  8  3]\n",
      " [ 3  8  6 22 46 12  6  3  4  7]\n",
      " [ 7  5 10 15 12 37 12  3  6  7]\n",
      " [16 15  5  9 11  6 19  0 11 19]\n",
      " [ 6  1  2 11 11  9  1  4 12  3]\n",
      " [14  4  6 12 13  9  8  7 35 13]\n",
      " [ 7  9  5  7  5  8 18  5  8 52]]\n"
     ]
    }
   ],
   "source": [
    "y_predict = model.fit(Ftrain, Ltrain).predict(Ftest)\n",
    "class_names = target.unique()\n",
    "print(classification_report(Ltest, y_predict, target_names=class_names))\n",
    "print(confusion_matrix(Ltest, y_predict))"
   ]
  },
  {
   "cell_type": "markdown",
   "id": "f62f0223",
   "metadata": {},
   "source": [
    "# SVM(linear) on green channel data"
   ]
  },
  {
   "cell_type": "code",
   "execution_count": 95,
   "id": "e89e7297",
   "metadata": {},
   "outputs": [
    {
     "name": "stdout",
     "output_type": "stream",
     "text": [
      "0.37719298245614036\n"
     ]
    }
   ],
   "source": [
    "clf.fit(Ftrain,Ltrain)\n",
    "y_pred = clf.predict(Ftest)\n",
    "print(accuracy_score(Ltest,y_pred))"
   ]
  },
  {
   "cell_type": "code",
   "execution_count": 96,
   "id": "356165a0",
   "metadata": {},
   "outputs": [
    {
     "name": "stdout",
     "output_type": "stream",
     "text": [
      "                               precision    recall  f1-score   support\n",
      "\n",
      "               bacterial_spot       0.32      0.45      0.38       124\n",
      "                 early_blight       0.30      0.35      0.32       114\n",
      "                      healthy       0.53      0.53      0.53       131\n",
      "                  late_blight       0.29      0.32      0.31       124\n",
      "                    leaf_mold       0.41      0.43      0.42       117\n",
      "           septoria_leaf_spot       0.40      0.39      0.39       114\n",
      "                  target_spot       0.26      0.23      0.25       111\n",
      "          tomato_mosaic_virus       0.44      0.18      0.26        60\n",
      "tomato_yellow_leaf_curl_virus       0.38      0.33      0.35       121\n",
      "      two-spotted_spider_mite       0.50      0.44      0.47       124\n",
      "\n",
      "                     accuracy                           0.38      1140\n",
      "                    macro avg       0.39      0.36      0.37      1140\n",
      "                 weighted avg       0.38      0.38      0.38      1140\n",
      "\n",
      "[[56 25  7  5  5 10  5  0  7  4]\n",
      " [29 40  1  7  5  3 13  0  5 11]\n",
      " [15  6 69 12  4  6  3  2  9  5]\n",
      " [11 14 10 40 13 13 10  1 10  2]\n",
      " [ 7  8  7 23 50  6  6  2  4  4]\n",
      " [ 6  6  9 17 16 44 11  2  2  1]\n",
      " [23 14  7  7  6  5 26  1  8 14]\n",
      " [ 4  0  3  9  8 10  0 11 12  3]\n",
      " [12  8 11  8 10  8 10  5 40  9]\n",
      " [10 13  5  8  4  5 16  1  8 54]]\n"
     ]
    }
   ],
   "source": [
    "y_predict = clf.fit(Ftrain, Ltrain).predict(Ftest)\n",
    "class_names = target.unique()\n",
    "print(classification_report(Ltest, y_predict, target_names=class_names))\n",
    "print(confusion_matrix(Ltest, y_predict))"
   ]
  },
  {
   "cell_type": "markdown",
   "id": "d64ddbd0",
   "metadata": {},
   "source": [
    "# SVM(poly) on Green data"
   ]
  },
  {
   "cell_type": "code",
   "execution_count": 97,
   "id": "fe7747a4",
   "metadata": {},
   "outputs": [
    {
     "name": "stdout",
     "output_type": "stream",
     "text": [
      "0.4666666666666667\n"
     ]
    }
   ],
   "source": [
    "svm_poly.fit(Ftrain,Ltrain)\n",
    "y_pred = svm_poly.predict(Ftest)\n",
    "print(accuracy_score(Ltest,y_pred))"
   ]
  },
  {
   "cell_type": "code",
   "execution_count": 98,
   "id": "c2c08920",
   "metadata": {},
   "outputs": [
    {
     "name": "stdout",
     "output_type": "stream",
     "text": [
      "                               precision    recall  f1-score   support\n",
      "\n",
      "               bacterial_spot       0.37      0.76      0.50       124\n",
      "                 early_blight       0.57      0.23      0.32       114\n",
      "                      healthy       0.49      0.70      0.58       131\n",
      "                  late_blight       0.60      0.10      0.17       124\n",
      "                    leaf_mold       0.33      0.70      0.45       117\n",
      "           septoria_leaf_spot       0.65      0.46      0.54       114\n",
      "                  target_spot       0.49      0.49      0.49       111\n",
      "          tomato_mosaic_virus       0.20      0.02      0.03        60\n",
      "tomato_yellow_leaf_curl_virus       0.58      0.40      0.48       121\n",
      "      two-spotted_spider_mite       0.68      0.56      0.61       124\n",
      "\n",
      "                     accuracy                           0.47      1140\n",
      "                    macro avg       0.50      0.44      0.42      1140\n",
      "                 weighted avg       0.51      0.47      0.44      1140\n",
      "\n",
      "[[94  2 11  2  4  5  1  0  4  1]\n",
      " [34 26  4  3  9  2 22  1  7  6]\n",
      " [17  0 92  0 19  0  1  0  2  0]\n",
      " [20 11 24 12 30 14  3  1  3  6]\n",
      " [11  1 12  0 82  1  5  1  2  2]\n",
      " [ 7  0 14  1 29 53  8  1  1  0]\n",
      " [26  1  7  0  8  0 54  0  6  9]\n",
      " [ 7  0  6  0 35  3  0  1  4  4]\n",
      " [18  4 11  2 20  4  9  0 49  4]\n",
      " [19  1  6  0 15  0  8  0  6 69]]\n"
     ]
    }
   ],
   "source": [
    "#classification report\n",
    "y_predict = svm_poly.fit(Ftrain, Ltrain).predict(Ftest)\n",
    "class_names = target.unique()\n",
    "print(classification_report(Ltest, y_predict, target_names=class_names))\n",
    "print(confusion_matrix(Ltest, y_predict))"
   ]
  },
  {
   "cell_type": "markdown",
   "id": "c497379e",
   "metadata": {},
   "source": [
    "# SVM(RBF) on green data"
   ]
  },
  {
   "cell_type": "code",
   "execution_count": 99,
   "id": "684010e1",
   "metadata": {},
   "outputs": [
    {
     "name": "stdout",
     "output_type": "stream",
     "text": [
      "0.6228070175438597\n"
     ]
    }
   ],
   "source": [
    "svm_rbf.fit(Ftrain,Ltrain)\n",
    "y_pred = svm_rbf.predict(Ftest)\n",
    "print(accuracy_score(Ltest,y_pred))"
   ]
  },
  {
   "cell_type": "code",
   "execution_count": 100,
   "id": "b4566ab3",
   "metadata": {},
   "outputs": [
    {
     "name": "stdout",
     "output_type": "stream",
     "text": [
      "                               precision    recall  f1-score   support\n",
      "\n",
      "               bacterial_spot       0.75      0.69      0.72       124\n",
      "                 early_blight       0.44      0.48      0.46       114\n",
      "                      healthy       0.69      0.84      0.76       131\n",
      "                  late_blight       0.61      0.53      0.57       124\n",
      "                    leaf_mold       0.65      0.62      0.63       117\n",
      "           septoria_leaf_spot       0.57      0.66      0.61       114\n",
      "                  target_spot       0.54      0.61      0.57       111\n",
      "          tomato_mosaic_virus       0.53      0.40      0.46        60\n",
      "tomato_yellow_leaf_curl_virus       0.66      0.55      0.60       121\n",
      "      two-spotted_spider_mite       0.74      0.69      0.72       124\n",
      "\n",
      "                     accuracy                           0.62      1140\n",
      "                    macro avg       0.62      0.61      0.61      1140\n",
      "                 weighted avg       0.63      0.62      0.62      1140\n",
      "\n",
      "[[ 86   6   7   3   3   6   2   1   8   2]\n",
      " [ 14  55   1   9   8   1  14   2   6   4]\n",
      " [  0   2 110   3   1   3   6   0   4   2]\n",
      " [  0  20   5  66   2  18   6   1   3   3]\n",
      " [  1   8   6   8  73   5   7   5   1   3]\n",
      " [  0   3   9   8  11  75   7   1   0   0]\n",
      " [  5  13   2   2   2   4  68   0   4  11]\n",
      " [  2   0   5   1   8  12   1  24   5   2]\n",
      " [  5  12   7   7   4   7   4   5  67   3]\n",
      " [  2   5   7   1   1   1  12   6   3  86]]\n"
     ]
    }
   ],
   "source": [
    "#classification report\n",
    "y_predict = svm_rbf.fit(Ftrain, Ltrain).predict(Ftest)\n",
    "class_names = target.unique()\n",
    "print(classification_report(Ltest, y_predict, target_names=class_names))\n",
    "print(confusion_matrix(Ltest, y_predict))"
   ]
  },
  {
   "cell_type": "markdown",
   "id": "3c889845",
   "metadata": {},
   "source": [
    "# SVM(sigmoid) on green data"
   ]
  },
  {
   "cell_type": "code",
   "execution_count": 101,
   "id": "68762982",
   "metadata": {},
   "outputs": [
    {
     "name": "stdout",
     "output_type": "stream",
     "text": [
      "0.2543859649122807\n"
     ]
    }
   ],
   "source": [
    "svm_si.fit(Ftrain,Ltrain)\n",
    "y_pred = svm_si.predict(Ftest)\n",
    "print(accuracy_score(Ltest,y_pred))"
   ]
  },
  {
   "cell_type": "code",
   "execution_count": 102,
   "id": "84c31d85",
   "metadata": {},
   "outputs": [
    {
     "name": "stdout",
     "output_type": "stream",
     "text": [
      "                               precision    recall  f1-score   support\n",
      "\n",
      "               bacterial_spot       0.39      0.45      0.42       124\n",
      "                 early_blight       0.20      0.17      0.18       114\n",
      "                      healthy       0.42      0.26      0.32       131\n",
      "                  late_blight       0.15      0.29      0.20       124\n",
      "                    leaf_mold       0.57      0.17      0.26       117\n",
      "           septoria_leaf_spot       0.17      0.45      0.25       114\n",
      "                  target_spot       0.20      0.20      0.20       111\n",
      "          tomato_mosaic_virus       0.00      0.00      0.00        60\n",
      "tomato_yellow_leaf_curl_virus       0.27      0.13      0.18       121\n",
      "      two-spotted_spider_mite       0.40      0.29      0.34       124\n",
      "\n",
      "                     accuracy                           0.25      1140\n",
      "                    macro avg       0.28      0.24      0.24      1140\n",
      "                 weighted avg       0.30      0.25      0.25      1140\n",
      "\n",
      "[[56 22  4 19  0 15  5  0  0  3]\n",
      " [33 19  1 13  0 13 22  0  2 11]\n",
      " [ 5  1 34 45  1 29 11  0  4  1]\n",
      " [ 9 13  9 36  3 36 13  0  3  2]\n",
      " [ 3  8  4 38 20 34  3  0  4  3]\n",
      " [ 1  3 13 13  2 51 24  0  3  4]\n",
      " [14 10  7  7  1 29 22  0  6 15]\n",
      " [ 3  0  0 20  5 17  0  0 12  3]\n",
      " [14 12  6 30  0 29  1  2 16 11]\n",
      " [ 6  7  3 13  3 40  7  0  9 36]]\n"
     ]
    }
   ],
   "source": [
    "#classification report\n",
    "y_predict = svm_si.fit(Ftrain, Ltrain).predict(Ftest)\n",
    "class_names = target.unique()\n",
    "print(classification_report(Ltest, y_predict, target_names=class_names))\n",
    "print(confusion_matrix(Ltest, y_predict))"
   ]
  },
  {
   "cell_type": "markdown",
   "id": "4f8e565e",
   "metadata": {},
   "source": [
    "# Random Forest on green channel data"
   ]
  },
  {
   "cell_type": "code",
   "execution_count": 103,
   "id": "96c92f8f",
   "metadata": {},
   "outputs": [
    {
     "data": {
      "text/plain": [
       "0.42399649045843385"
      ]
     },
     "execution_count": 103,
     "metadata": {},
     "output_type": "execute_result"
    }
   ],
   "source": [
    "classifier_rf.fit(Ftrain, Ltrain)\n",
    "classifier_rf.oob_score_"
   ]
  },
  {
   "cell_type": "code",
   "execution_count": 104,
   "id": "b158d3b7",
   "metadata": {},
   "outputs": [
    {
     "name": "stdout",
     "output_type": "stream",
     "text": [
      "                               precision    recall  f1-score   support\n",
      "\n",
      "               bacterial_spot       0.42      0.60      0.49       124\n",
      "                 early_blight       0.36      0.24      0.29       114\n",
      "                      healthy       0.43      0.68      0.53       131\n",
      "                  late_blight       0.46      0.29      0.35       124\n",
      "                    leaf_mold       0.48      0.50      0.49       117\n",
      "           septoria_leaf_spot       0.57      0.49      0.53       114\n",
      "                  target_spot       0.33      0.58      0.42       111\n",
      "          tomato_mosaic_virus       0.00      0.00      0.00        60\n",
      "tomato_yellow_leaf_curl_virus       0.52      0.25      0.34       121\n",
      "      two-spotted_spider_mite       0.45      0.47      0.46       124\n",
      "\n",
      "                     accuracy                           0.43      1140\n",
      "                    macro avg       0.40      0.41      0.39      1140\n",
      "                 weighted avg       0.42      0.43      0.41      1140\n",
      "\n",
      "[[74  8 20  3  4  0  7  0  5  3]\n",
      " [35 27  2  0  8 11 21  0  4  6]\n",
      " [ 1  0 89 14  5  0 15  0  3  4]\n",
      " [13 15 19 36  7 18  9  0  1  6]\n",
      " [ 9  2 17  3 58  3 15  0  2  8]\n",
      " [ 1  1 18 11 11 56  7  0  2  7]\n",
      " [ 9  6 10  0  0  4 64  0  3 15]\n",
      " [ 3  0 13  6  9  2 10  0  5 12]\n",
      " [22 10 15  6 15  2 10  0 30 11]\n",
      " [ 8  6  5  0  4  2 38  0  3 58]]\n"
     ]
    },
    {
     "name": "stderr",
     "output_type": "stream",
     "text": [
      "C:\\Users\\ravic\\anaconda3\\lib\\site-packages\\sklearn\\metrics\\_classification.py:1248: UndefinedMetricWarning: Precision and F-score are ill-defined and being set to 0.0 in labels with no predicted samples. Use `zero_division` parameter to control this behavior.\n",
      "  _warn_prf(average, modifier, msg_start, len(result))\n",
      "C:\\Users\\ravic\\anaconda3\\lib\\site-packages\\sklearn\\metrics\\_classification.py:1248: UndefinedMetricWarning: Precision and F-score are ill-defined and being set to 0.0 in labels with no predicted samples. Use `zero_division` parameter to control this behavior.\n",
      "  _warn_prf(average, modifier, msg_start, len(result))\n",
      "C:\\Users\\ravic\\anaconda3\\lib\\site-packages\\sklearn\\metrics\\_classification.py:1248: UndefinedMetricWarning: Precision and F-score are ill-defined and being set to 0.0 in labels with no predicted samples. Use `zero_division` parameter to control this behavior.\n",
      "  _warn_prf(average, modifier, msg_start, len(result))\n"
     ]
    }
   ],
   "source": [
    "y_predict = classifier_rf.fit(Ftrain, Ltrain).predict(Ftest)\n",
    "class_names = target.unique()\n",
    "print(classification_report(Ltest, y_predict, target_names=class_names))\n",
    "print(confusion_matrix(Ltest, y_predict))"
   ]
  },
  {
   "cell_type": "markdown",
   "id": "e9b1cca9",
   "metadata": {},
   "source": [
    "# Gaussian Naive bayes on Green channel data"
   ]
  },
  {
   "cell_type": "code",
   "execution_count": 105,
   "id": "1136802c",
   "metadata": {},
   "outputs": [
    {
     "data": {
      "text/plain": [
       "0.3850877192982456"
      ]
     },
     "execution_count": 105,
     "metadata": {},
     "output_type": "execute_result"
    }
   ],
   "source": [
    "gnb.fit(Ftrain, Ltrain)\n",
    "y_pred = gnb.predict(Ftest)\n",
    "metrics.accuracy_score(Ltest, y_pred)"
   ]
  },
  {
   "cell_type": "code",
   "execution_count": 106,
   "id": "cb4c448e",
   "metadata": {},
   "outputs": [
    {
     "name": "stdout",
     "output_type": "stream",
     "text": [
      "                               precision    recall  f1-score   support\n",
      "\n",
      "               bacterial_spot       0.47      0.68      0.55       124\n",
      "                 early_blight       0.38      0.39      0.38       114\n",
      "                      healthy       0.43      0.61      0.50       131\n",
      "                  late_blight       0.31      0.19      0.24       124\n",
      "                    leaf_mold       0.52      0.21      0.30       117\n",
      "           septoria_leaf_spot       0.36      0.45      0.40       114\n",
      "                  target_spot       0.49      0.35      0.41       111\n",
      "          tomato_mosaic_virus       0.26      0.53      0.35        60\n",
      "tomato_yellow_leaf_curl_virus       0.20      0.09      0.13       121\n",
      "      two-spotted_spider_mite       0.38      0.39      0.38       124\n",
      "\n",
      "                     accuracy                           0.39      1140\n",
      "                    macro avg       0.38      0.39      0.36      1140\n",
      "                 weighted avg       0.38      0.39      0.37      1140\n",
      "\n",
      "[[84  6 14  2  0  2  2  9  4  1]\n",
      " [22 45  3 19  2  4  7  3  4  5]\n",
      " [ 5  3 80  3  7  1 10  7 12  3]\n",
      " [ 4 24 30 24  2 19  5  9  2  5]\n",
      " [15  4 10 10 25 22  3 17  3  8]\n",
      " [ 1  2 22  6  4 51  7  6  2 13]\n",
      " [ 9 15  5  7  4  7 39  1  2 22]\n",
      " [ 6  0  7  1  2  3  0 32  1  8]\n",
      " [27 11 12  4  0 20  2 19 11 15]\n",
      " [ 6 10  5  1  2 12  5 22 13 48]]\n"
     ]
    }
   ],
   "source": [
    "class_names = target.unique()\n",
    "print(classification_report(Ltest, y_pred, target_names=class_names))\n",
    "print(confusion_matrix(Ltest, y_pred))"
   ]
  },
  {
   "cell_type": "markdown",
   "id": "9fb12c0c",
   "metadata": {},
   "source": [
    "# Bernouli Naive bayes on green data"
   ]
  },
  {
   "cell_type": "code",
   "execution_count": 107,
   "id": "b1608412",
   "metadata": {},
   "outputs": [
    {
     "data": {
      "text/plain": [
       "0.32456140350877194"
      ]
     },
     "execution_count": 107,
     "metadata": {},
     "output_type": "execute_result"
    }
   ],
   "source": [
    "bnb.fit(Ftrain, Ltrain)\n",
    "y_pred = bnb.predict(Ftest)\n",
    "metrics.accuracy_score(Ltest, y_pred)"
   ]
  },
  {
   "cell_type": "code",
   "execution_count": 108,
   "id": "3540eeb4",
   "metadata": {},
   "outputs": [
    {
     "name": "stdout",
     "output_type": "stream",
     "text": [
      "                               precision    recall  f1-score   support\n",
      "\n",
      "               bacterial_spot       0.40      0.68      0.50       124\n",
      "                 early_blight       0.24      0.16      0.19       114\n",
      "                      healthy       0.40      0.54      0.46       131\n",
      "                  late_blight       0.27      0.14      0.18       124\n",
      "                    leaf_mold       0.61      0.20      0.30       117\n",
      "           septoria_leaf_spot       0.32      0.59      0.41       114\n",
      "                  target_spot       0.33      0.21      0.26       111\n",
      "          tomato_mosaic_virus       0.12      0.30      0.18        60\n",
      "tomato_yellow_leaf_curl_virus       0.06      0.02      0.03       121\n",
      "      two-spotted_spider_mite       0.44      0.37      0.40       124\n",
      "\n",
      "                     accuracy                           0.32      1140\n",
      "                    macro avg       0.32      0.32      0.29      1140\n",
      "                 weighted avg       0.33      0.32      0.30      1140\n",
      "\n",
      "[[84  6 13  4  1  6  1  5  3  1]\n",
      " [47 18  3  4  1 11 17  8  3  2]\n",
      " [ 2  1 71  7  2  7  5 22 11  3]\n",
      " [19  9 34 17  8 23  2  4  1  7]\n",
      " [16  6  9  6 23 27  8 14  3  5]\n",
      " [ 1  3 18  2  0 67  5 10  0  8]\n",
      " [ 6  8  2  7  0 20 23 22 12 11]\n",
      " [ 5  0  6  6  2 13  0 18  3  7]\n",
      " [26 12 16  5  1 21  3 20  3 14]\n",
      " [ 4 12  6  4  0 14  5 21 12 46]]\n"
     ]
    }
   ],
   "source": [
    "class_names = target.unique()\n",
    "print(classification_report(Ltest, y_pred, target_names=class_names))\n",
    "print(confusion_matrix(Ltest, y_pred))"
   ]
  },
  {
   "cell_type": "markdown",
   "id": "5e2c336a",
   "metadata": {},
   "source": [
    "# Decision Tree on Green channel"
   ]
  },
  {
   "cell_type": "code",
   "execution_count": 109,
   "id": "11e8600c",
   "metadata": {},
   "outputs": [
    {
     "data": {
      "text/plain": [
       "0.3219298245614035"
      ]
     },
     "execution_count": 109,
     "metadata": {},
     "output_type": "execute_result"
    }
   ],
   "source": [
    "classifier_tree.fit(Ftrain, Ltrain)\n",
    "classifier_tree.score(Ftest,Ltest)"
   ]
  },
  {
   "cell_type": "code",
   "execution_count": 110,
   "id": "ef10f4f8",
   "metadata": {},
   "outputs": [
    {
     "name": "stdout",
     "output_type": "stream",
     "text": [
      "                               precision    recall  f1-score   support\n",
      "\n",
      "               bacterial_spot       0.36      0.35      0.35       124\n",
      "                 early_blight       0.20      0.21      0.20       114\n",
      "                      healthy       0.49      0.44      0.46       131\n",
      "                  late_blight       0.38      0.35      0.36       124\n",
      "                    leaf_mold       0.32      0.37      0.34       117\n",
      "           septoria_leaf_spot       0.33      0.43      0.38       114\n",
      "                  target_spot       0.24      0.23      0.23       111\n",
      "          tomato_mosaic_virus       0.13      0.13      0.13        60\n",
      "tomato_yellow_leaf_curl_virus       0.32      0.31      0.31       121\n",
      "      two-spotted_spider_mite       0.34      0.29      0.31       124\n",
      "\n",
      "                     accuracy                           0.32      1140\n",
      "                    macro avg       0.31      0.31      0.31      1140\n",
      "                 weighted avg       0.32      0.32      0.32      1140\n",
      "\n",
      "[[43 19  4  3 15  4  5  3 17 11]\n",
      " [12 24  0 13 12  9 17  6 10 11]\n",
      " [ 6  5 57  9 14 17  9  6  7  1]\n",
      " [14 14  9 43  7 16  6  4  8  3]\n",
      " [ 4  6  7 11 43 15  3 10 10  8]\n",
      " [ 7 10 10 12  7 49  9  2  7  1]\n",
      " [ 9 12  7  3 12  9 25 11  6 17]\n",
      " [ 2  1  3  8  8 10  6  8  6  8]\n",
      " [15 17 11  7 10  7  4  4 37  9]\n",
      " [ 7 15  9  4  7 11 21  8  6 36]]\n"
     ]
    }
   ],
   "source": [
    "y_predict = classifier_tree.fit(Ftrain, Ltrain).predict(Ftest)\n",
    "class_names = target.unique()\n",
    "print(classification_report(Ltest, y_predict, target_names=class_names))\n",
    "print(confusion_matrix(Ltest, y_predict))"
   ]
  },
  {
   "cell_type": "markdown",
   "id": "75817642",
   "metadata": {},
   "source": [
    "# KNN on blue channel data"
   ]
  },
  {
   "cell_type": "code",
   "execution_count": 111,
   "id": "531e3624",
   "metadata": {},
   "outputs": [
    {
     "data": {
      "text/plain": [
       "0.356140350877193"
      ]
     },
     "execution_count": 111,
     "metadata": {},
     "output_type": "execute_result"
    }
   ],
   "source": [
    "#reading numpy array data\n",
    "blue_test = np.load('blue_data.npy')\n",
    "#reading csv file\n",
    "blue_df = pd.read_csv('blue_data.csv')\n",
    "loaded = []\n",
    "for i in gray_test:\n",
    "    k = []\n",
    "    k = np.asarray(i,dtype='uint8')\n",
    "    loaded.append(k)\n",
    "features = loaded\n",
    "target = blue_df['disease']\n",
    "Ftrain,Ftest,Ltrain,Ltest=train_test_split(features,target, test_size=0.20, random_state=20)\n",
    "Ftrain = scaler.fit_transform(Ftrain)\n",
    "Ftest = scaler.fit_transform(Ftest)\n",
    "kmodel.fit(Ftrain,Ltrain)\n",
    "kmodel.score(Ftest,Ltest)"
   ]
  },
  {
   "cell_type": "code",
   "execution_count": 112,
   "id": "db90e093",
   "metadata": {},
   "outputs": [
    {
     "name": "stdout",
     "output_type": "stream",
     "text": [
      "                               precision    recall  f1-score   support\n",
      "\n",
      "               bacterial_spot       0.27      0.74      0.39       124\n",
      "                 early_blight       0.00      0.00      0.00       114\n",
      "                      healthy       0.36      0.69      0.47       131\n",
      "                  late_blight       0.26      0.23      0.24       124\n",
      "                    leaf_mold       0.48      0.50      0.49       117\n",
      "           septoria_leaf_spot       0.44      0.42      0.43       114\n",
      "                  target_spot       0.38      0.15      0.22       111\n",
      "          tomato_mosaic_virus       0.26      0.12      0.16        60\n",
      "tomato_yellow_leaf_curl_virus       0.45      0.12      0.18       121\n",
      "      two-spotted_spider_mite       0.50      0.42      0.46       124\n",
      "\n",
      "                     accuracy                           0.36      1140\n",
      "                    macro avg       0.34      0.34      0.30      1140\n",
      "                 weighted avg       0.34      0.36      0.32      1140\n",
      "\n",
      "[[92  0 14 11  2  2  0  0  3  0]\n",
      " [68  0  9  0 12  4  9  2  3  7]\n",
      " [11  0 90 15  5  5  0  2  2  1]\n",
      " [27  0 30 28 12 16  1  2  3  5]\n",
      " [13  0 24  7 58  4  1  4  3  3]\n",
      " [ 8  0 28 11  4 48  4  3  0  8]\n",
      " [47  0 14 10  1  6 17  2  1 13]\n",
      " [ 5  0 14  6  9  7  1  7  1 10]\n",
      " [41  0 20 13 16  4  4  4 14  5]\n",
      " [35  0  7  5  2 13  8  1  1 52]]\n"
     ]
    },
    {
     "name": "stderr",
     "output_type": "stream",
     "text": [
      "C:\\Users\\ravic\\anaconda3\\lib\\site-packages\\sklearn\\metrics\\_classification.py:1248: UndefinedMetricWarning: Precision and F-score are ill-defined and being set to 0.0 in labels with no predicted samples. Use `zero_division` parameter to control this behavior.\n",
      "  _warn_prf(average, modifier, msg_start, len(result))\n",
      "C:\\Users\\ravic\\anaconda3\\lib\\site-packages\\sklearn\\metrics\\_classification.py:1248: UndefinedMetricWarning: Precision and F-score are ill-defined and being set to 0.0 in labels with no predicted samples. Use `zero_division` parameter to control this behavior.\n",
      "  _warn_prf(average, modifier, msg_start, len(result))\n",
      "C:\\Users\\ravic\\anaconda3\\lib\\site-packages\\sklearn\\metrics\\_classification.py:1248: UndefinedMetricWarning: Precision and F-score are ill-defined and being set to 0.0 in labels with no predicted samples. Use `zero_division` parameter to control this behavior.\n",
      "  _warn_prf(average, modifier, msg_start, len(result))\n"
     ]
    }
   ],
   "source": [
    "y_predict = kmodel.fit(Ftrain, Ltrain).predict(Ftest)\n",
    "class_names = target.unique()\n",
    "print(classification_report(Ltest, y_predict, target_names=class_names))\n",
    "print(confusion_matrix(Ltest, y_predict))"
   ]
  },
  {
   "cell_type": "markdown",
   "id": "f452a113",
   "metadata": {},
   "source": [
    "# logistic on blue channel data"
   ]
  },
  {
   "cell_type": "code",
   "execution_count": 113,
   "id": "de158586",
   "metadata": {},
   "outputs": [
    {
     "data": {
      "text/plain": [
       "0.3157894736842105"
      ]
     },
     "execution_count": 113,
     "metadata": {},
     "output_type": "execute_result"
    }
   ],
   "source": [
    "model.fit(Ftrain,Ltrain)\n",
    "model.score(Ftest,Ltest)"
   ]
  },
  {
   "cell_type": "code",
   "execution_count": 114,
   "id": "43a10821",
   "metadata": {},
   "outputs": [
    {
     "name": "stdout",
     "output_type": "stream",
     "text": [
      "                               precision    recall  f1-score   support\n",
      "\n",
      "               bacterial_spot       0.32      0.38      0.35       124\n",
      "                 early_blight       0.24      0.28      0.26       114\n",
      "                      healthy       0.49      0.44      0.46       131\n",
      "                  late_blight       0.18      0.21      0.20       124\n",
      "                    leaf_mold       0.38      0.38      0.38       117\n",
      "           septoria_leaf_spot       0.30      0.30      0.30       114\n",
      "                  target_spot       0.21      0.18      0.19       111\n",
      "          tomato_mosaic_virus       0.28      0.13      0.18        60\n",
      "tomato_yellow_leaf_curl_virus       0.27      0.25      0.26       121\n",
      "      two-spotted_spider_mite       0.45      0.49      0.47       124\n",
      "\n",
      "                     accuracy                           0.32      1140\n",
      "                    macro avg       0.31      0.30      0.30      1140\n",
      "                 weighted avg       0.32      0.32      0.31      1140\n",
      "\n",
      "[[47 29  7  9 10  4  6  0  8  4]\n",
      " [21 32  4 13  8  4 11  0  9 12]\n",
      " [13  6 58 21  2  7  6  1 12  5]\n",
      " [12 16 16 26  9 20  9  4  8  4]\n",
      " [ 3  9  7 23 44 10  6  1  6  8]\n",
      " [ 9  6  9 16  9 34 14  3  7  7]\n",
      " [18 17  7  6  7  7 20  0 11 18]\n",
      " [ 2  1  2  8 12  9  1  8 13  4]\n",
      " [15  9  3 12 11  9  8 10 30 14]\n",
      " [ 5  8  6  7  4  9 16  2  6 61]]\n"
     ]
    }
   ],
   "source": [
    "y_predict = model.fit(Ftrain, Ltrain).predict(Ftest)\n",
    "class_names = target.unique()\n",
    "print(classification_report(Ltest, y_predict, target_names=class_names))\n",
    "print(confusion_matrix(Ltest, y_predict))"
   ]
  },
  {
   "cell_type": "markdown",
   "id": "c7585c1d",
   "metadata": {},
   "source": [
    "# SVM(linear) on blue channel data"
   ]
  },
  {
   "cell_type": "code",
   "execution_count": 115,
   "id": "06fb4a0f",
   "metadata": {},
   "outputs": [
    {
     "name": "stdout",
     "output_type": "stream",
     "text": [
      "0.3868421052631579\n"
     ]
    }
   ],
   "source": [
    "clf.fit(Ftrain,Ltrain)\n",
    "y_pred = clf.predict(Ftest)\n",
    "print(accuracy_score(Ltest,y_pred))"
   ]
  },
  {
   "cell_type": "code",
   "execution_count": 116,
   "id": "31601cac",
   "metadata": {},
   "outputs": [
    {
     "name": "stdout",
     "output_type": "stream",
     "text": [
      "                               precision    recall  f1-score   support\n",
      "\n",
      "               bacterial_spot       0.33      0.44      0.38       124\n",
      "                 early_blight       0.29      0.35      0.32       114\n",
      "                      healthy       0.53      0.53      0.53       131\n",
      "                  late_blight       0.31      0.32      0.32       124\n",
      "                    leaf_mold       0.44      0.46      0.45       117\n",
      "           septoria_leaf_spot       0.39      0.35      0.37       114\n",
      "                  target_spot       0.29      0.26      0.27       111\n",
      "          tomato_mosaic_virus       0.41      0.23      0.30        60\n",
      "tomato_yellow_leaf_curl_virus       0.38      0.32      0.35       121\n",
      "      two-spotted_spider_mite       0.52      0.49      0.50       124\n",
      "\n",
      "                     accuracy                           0.39      1140\n",
      "                    macro avg       0.39      0.38      0.38      1140\n",
      "                 weighted avg       0.39      0.39      0.39      1140\n",
      "\n",
      "[[54 29  7  8  4  7  4  0  6  5]\n",
      " [23 40  2 13  6  1 13  0  7  9]\n",
      " [17  5 70  9  3 10  3  3  6  5]\n",
      " [14 16 12 40 12 13  8  1  6  2]\n",
      " [ 6  5  8 22 54  6  6  1  5  4]\n",
      " [ 3 11  9 14 15 40 12  4  3  3]\n",
      " [23 13  5  4  6  7 29  1  8 15]\n",
      " [ 2  0  0  3 11 11  1 14 16  2]\n",
      " [15  9 12 10  8  3  7  6 39 12]\n",
      " [ 7  9  6  4  4  5 18  4  6 61]]\n"
     ]
    }
   ],
   "source": [
    "y_predict = clf.fit(Ftrain, Ltrain).predict(Ftest)\n",
    "class_names = target.unique()\n",
    "print(classification_report(Ltest, y_predict, target_names=class_names))\n",
    "print(confusion_matrix(Ltest, y_predict))"
   ]
  },
  {
   "cell_type": "markdown",
   "id": "20ada4d3",
   "metadata": {},
   "source": [
    "# SVM(poly) on blue data"
   ]
  },
  {
   "cell_type": "code",
   "execution_count": 117,
   "id": "29dc3434",
   "metadata": {},
   "outputs": [
    {
     "name": "stdout",
     "output_type": "stream",
     "text": [
      "0.5026315789473684\n"
     ]
    }
   ],
   "source": [
    "svm_poly.fit(Ftrain,Ltrain)\n",
    "y_pred = svm_poly.predict(Ftest)\n",
    "print(accuracy_score(Ltest,y_pred))"
   ]
  },
  {
   "cell_type": "code",
   "execution_count": 118,
   "id": "07a066f4",
   "metadata": {},
   "outputs": [
    {
     "name": "stdout",
     "output_type": "stream",
     "text": [
      "                               precision    recall  f1-score   support\n",
      "\n",
      "               bacterial_spot       0.44      0.68      0.53       124\n",
      "                 early_blight       0.54      0.19      0.28       114\n",
      "                      healthy       0.48      0.86      0.62       131\n",
      "                  late_blight       0.50      0.15      0.23       124\n",
      "                    leaf_mold       0.50      0.65      0.56       117\n",
      "           septoria_leaf_spot       0.68      0.42      0.52       114\n",
      "                  target_spot       0.47      0.56      0.51       111\n",
      "          tomato_mosaic_virus       0.60      0.05      0.09        60\n",
      "tomato_yellow_leaf_curl_virus       0.42      0.57      0.48       121\n",
      "      two-spotted_spider_mite       0.69      0.62      0.65       124\n",
      "\n",
      "                     accuracy                           0.50      1140\n",
      "                    macro avg       0.53      0.48      0.45      1140\n",
      "                 weighted avg       0.53      0.50      0.47      1140\n",
      "\n",
      "[[ 84   3  10   8   3   0   4   0  12   0]\n",
      " [ 36  22   3   3   8   1  25   0  10   6]\n",
      " [ 10   0 113   0   3   0   2   0   3   0]\n",
      " [ 12  11  30  19  16  16   5   0  13   2]\n",
      " [  6   1  15   0  76   0   9   0   8   2]\n",
      " [  3   0  25   5  18  48   7   0   7   1]\n",
      " [ 20   0   8   0   2   1  62   0   8  10]\n",
      " [  1   0   7   0  18   3   1   3  20   7]\n",
      " [ 14   3  12   3   4   1   6   2  69   7]\n",
      " [  5   1  11   0   5   1  10   0  14  77]]\n"
     ]
    }
   ],
   "source": [
    "#classification report\n",
    "y_predict = svm_poly.fit(Ftrain, Ltrain).predict(Ftest)\n",
    "class_names = target.unique()\n",
    "print(classification_report(Ltest, y_predict, target_names=class_names))\n",
    "print(confusion_matrix(Ltest, y_predict))"
   ]
  },
  {
   "cell_type": "markdown",
   "id": "f7c80dbc",
   "metadata": {},
   "source": [
    "# SVM(RBF) on blue data"
   ]
  },
  {
   "cell_type": "code",
   "execution_count": 119,
   "id": "4a39785b",
   "metadata": {},
   "outputs": [
    {
     "name": "stdout",
     "output_type": "stream",
     "text": [
      "0.6280701754385964\n"
     ]
    }
   ],
   "source": [
    "svm_rbf.fit(Ftrain,Ltrain)\n",
    "y_pred = svm_rbf.predict(Ftest)\n",
    "print(accuracy_score(Ltest,y_pred))"
   ]
  },
  {
   "cell_type": "code",
   "execution_count": 120,
   "id": "8c5ad3ff",
   "metadata": {},
   "outputs": [
    {
     "name": "stdout",
     "output_type": "stream",
     "text": [
      "                               precision    recall  f1-score   support\n",
      "\n",
      "               bacterial_spot       0.75      0.65      0.70       124\n",
      "                 early_blight       0.46      0.49      0.48       114\n",
      "                      healthy       0.70      0.87      0.77       131\n",
      "                  late_blight       0.61      0.54      0.58       124\n",
      "                    leaf_mold       0.67      0.62      0.64       117\n",
      "           septoria_leaf_spot       0.56      0.61      0.58       114\n",
      "                  target_spot       0.55      0.63      0.59       111\n",
      "          tomato_mosaic_virus       0.60      0.47      0.52        60\n",
      "tomato_yellow_leaf_curl_virus       0.64      0.61      0.63       121\n",
      "      two-spotted_spider_mite       0.72      0.69      0.70       124\n",
      "\n",
      "                     accuracy                           0.63      1140\n",
      "                    macro avg       0.63      0.62      0.62      1140\n",
      "                 weighted avg       0.63      0.63      0.63      1140\n",
      "\n",
      "[[ 80   7   8   6   3   5   3   0  10   2]\n",
      " [ 12  56   1   9   8   2  14   1   7   4]\n",
      " [  0   1 114   4   0   4   3   0   3   2]\n",
      " [  0  19   6  67   4  17   4   1   4   2]\n",
      " [  0   7   9   4  72   6   9   4   3   3]\n",
      " [  0   3  11  11   8  69   6   5   1   0]\n",
      " [  6  11   3   1   2   3  70   0   3  12]\n",
      " [  3   1   2   0   8   8   0  28   6   4]\n",
      " [  4  11   5   6   2   5   5   4  74   5]\n",
      " [  1   5   5   1   0   4  14   4   4  86]]\n"
     ]
    }
   ],
   "source": [
    "#classification report\n",
    "y_predict = svm_rbf.fit(Ftrain, Ltrain).predict(Ftest)\n",
    "class_names = target.unique()\n",
    "print(classification_report(Ltest, y_predict, target_names=class_names))\n",
    "print(confusion_matrix(Ltest, y_predict))"
   ]
  },
  {
   "cell_type": "markdown",
   "id": "9f324aba",
   "metadata": {},
   "source": [
    "# SVM(sigmoid) on blue data"
   ]
  },
  {
   "cell_type": "code",
   "execution_count": 121,
   "id": "ab91bceb",
   "metadata": {},
   "outputs": [
    {
     "name": "stdout",
     "output_type": "stream",
     "text": [
      "0.27807017543859647\n"
     ]
    }
   ],
   "source": [
    "svm_si.fit(Ftrain,Ltrain)\n",
    "y_pred = svm_si.predict(Ftest)\n",
    "print(accuracy_score(Ltest,y_pred))"
   ]
  },
  {
   "cell_type": "code",
   "execution_count": 122,
   "id": "a683edec",
   "metadata": {},
   "outputs": [
    {
     "name": "stdout",
     "output_type": "stream",
     "text": [
      "                               precision    recall  f1-score   support\n",
      "\n",
      "               bacterial_spot       0.38      0.47      0.42       124\n",
      "                 early_blight       0.18      0.20      0.19       114\n",
      "                      healthy       0.35      0.22      0.27       131\n",
      "                  late_blight       0.19      0.27      0.22       124\n",
      "                    leaf_mold       0.57      0.22      0.32       117\n",
      "           septoria_leaf_spot       0.17      0.37      0.23       114\n",
      "                  target_spot       0.21      0.23      0.22       111\n",
      "          tomato_mosaic_virus       0.46      0.10      0.16        60\n",
      "tomato_yellow_leaf_curl_virus       0.34      0.23      0.27       121\n",
      "      two-spotted_spider_mite       0.47      0.38      0.42       124\n",
      "\n",
      "                     accuracy                           0.28      1140\n",
      "                    macro avg       0.33      0.27      0.27      1140\n",
      "                 weighted avg       0.33      0.28      0.28      1140\n",
      "\n",
      "[[58 26  6 13  2  8  5  0  3  3]\n",
      " [34 23  2  9  2 12 22  0  4  6]\n",
      " [11  2 29 46  1 23 10  1  6  2]\n",
      " [12 14 13 33  4 27 16  0  1  4]\n",
      " [ 5 10  7 29 26 28  4  0  5  3]\n",
      " [ 1  9  9 16  4 42 26  1  2  4]\n",
      " [11 16  4  4  0 29 25  0  6 16]\n",
      " [ 2  1  1  4  3 20  1  6 17  5]\n",
      " [15 16  8 17  3 18  2  3 28 11]\n",
      " [ 2  9  3  1  1 39  9  2 11 47]]\n"
     ]
    }
   ],
   "source": [
    "#classification report\n",
    "y_predict = svm_si.fit(Ftrain, Ltrain).predict(Ftest)\n",
    "class_names = target.unique()\n",
    "print(classification_report(Ltest, y_predict, target_names=class_names))\n",
    "print(confusion_matrix(Ltest, y_predict))"
   ]
  },
  {
   "cell_type": "markdown",
   "id": "f4eb8c6c",
   "metadata": {},
   "source": [
    "# Random Forest on blue channel data"
   ]
  },
  {
   "cell_type": "code",
   "execution_count": 123,
   "id": "b71407b2",
   "metadata": {},
   "outputs": [
    {
     "data": {
      "text/plain": [
       "0.442640930028515"
      ]
     },
     "execution_count": 123,
     "metadata": {},
     "output_type": "execute_result"
    }
   ],
   "source": [
    "classifier_rf.fit(Ftrain, Ltrain)\n",
    "classifier_rf.oob_score_"
   ]
  },
  {
   "cell_type": "code",
   "execution_count": 124,
   "id": "f3cf2295",
   "metadata": {},
   "outputs": [
    {
     "name": "stdout",
     "output_type": "stream",
     "text": [
      "                               precision    recall  f1-score   support\n",
      "\n",
      "               bacterial_spot       0.46      0.61      0.53       124\n",
      "                 early_blight       0.40      0.18      0.25       114\n",
      "                      healthy       0.47      0.74      0.57       131\n",
      "                  late_blight       0.48      0.28      0.36       124\n",
      "                    leaf_mold       0.57      0.54      0.55       117\n",
      "           septoria_leaf_spot       0.58      0.46      0.51       114\n",
      "                  target_spot       0.38      0.67      0.48       111\n",
      "          tomato_mosaic_virus       0.00      0.00      0.00        60\n",
      "tomato_yellow_leaf_curl_virus       0.43      0.31      0.36       121\n",
      "      two-spotted_spider_mite       0.48      0.60      0.54       124\n",
      "\n",
      "                     accuracy                           0.47      1140\n",
      "                    macro avg       0.42      0.44      0.42      1140\n",
      "                 weighted avg       0.45      0.47      0.44      1140\n",
      "\n",
      "[[76  5 22  4  1  0  6  0  8  2]\n",
      " [35 21  2  2  5 11 24  0  8  6]\n",
      " [ 2  0 97 11  6  0  9  0  4  2]\n",
      " [10 10 21 35 10 16 14  0  3  5]\n",
      " [ 8  1 13  2 63  2 15  0  6  7]\n",
      " [ 1  0 21  6 11 53 14  0  1  7]\n",
      " [ 7  3  5  0  0  2 74  0  3 17]\n",
      " [ 3  0 11  3  7  3  1  0 12 20]\n",
      " [19  9 12 10  8  3  8  0 38 14]\n",
      " [ 4  3  4  0  0  2 30  0  6 75]]\n"
     ]
    },
    {
     "name": "stderr",
     "output_type": "stream",
     "text": [
      "C:\\Users\\ravic\\anaconda3\\lib\\site-packages\\sklearn\\metrics\\_classification.py:1248: UndefinedMetricWarning: Precision and F-score are ill-defined and being set to 0.0 in labels with no predicted samples. Use `zero_division` parameter to control this behavior.\n",
      "  _warn_prf(average, modifier, msg_start, len(result))\n",
      "C:\\Users\\ravic\\anaconda3\\lib\\site-packages\\sklearn\\metrics\\_classification.py:1248: UndefinedMetricWarning: Precision and F-score are ill-defined and being set to 0.0 in labels with no predicted samples. Use `zero_division` parameter to control this behavior.\n",
      "  _warn_prf(average, modifier, msg_start, len(result))\n",
      "C:\\Users\\ravic\\anaconda3\\lib\\site-packages\\sklearn\\metrics\\_classification.py:1248: UndefinedMetricWarning: Precision and F-score are ill-defined and being set to 0.0 in labels with no predicted samples. Use `zero_division` parameter to control this behavior.\n",
      "  _warn_prf(average, modifier, msg_start, len(result))\n"
     ]
    }
   ],
   "source": [
    "y_predict = classifier_rf.fit(Ftrain, Ltrain).predict(Ftest)\n",
    "class_names = target.unique()\n",
    "print(classification_report(Ltest, y_predict, target_names=class_names))\n",
    "print(confusion_matrix(Ltest, y_predict))"
   ]
  },
  {
   "cell_type": "markdown",
   "id": "fb1ca20e",
   "metadata": {},
   "source": [
    "# Gaussian Naive bayes on blue channel data"
   ]
  },
  {
   "cell_type": "code",
   "execution_count": 125,
   "id": "11ea0b85",
   "metadata": {},
   "outputs": [
    {
     "data": {
      "text/plain": [
       "0.41578947368421054"
      ]
     },
     "execution_count": 125,
     "metadata": {},
     "output_type": "execute_result"
    }
   ],
   "source": [
    "gnb.fit(Ftrain, Ltrain)\n",
    "y_pred = gnb.predict(Ftest)\n",
    "metrics.accuracy_score(Ltest, y_pred)"
   ]
  },
  {
   "cell_type": "code",
   "execution_count": 126,
   "id": "0743881e",
   "metadata": {},
   "outputs": [
    {
     "name": "stdout",
     "output_type": "stream",
     "text": [
      "                               precision    recall  f1-score   support\n",
      "\n",
      "               bacterial_spot       0.49      0.69      0.57       124\n",
      "                 early_blight       0.38      0.37      0.37       114\n",
      "                      healthy       0.45      0.63      0.52       131\n",
      "                  late_blight       0.33      0.20      0.25       124\n",
      "                    leaf_mold       0.61      0.30      0.40       117\n",
      "           septoria_leaf_spot       0.40      0.47      0.43       114\n",
      "                  target_spot       0.51      0.39      0.44       111\n",
      "          tomato_mosaic_virus       0.29      0.60      0.39        60\n",
      "tomato_yellow_leaf_curl_virus       0.30      0.13      0.18       121\n",
      "      two-spotted_spider_mite       0.40      0.44      0.42       124\n",
      "\n",
      "                     accuracy                           0.42      1140\n",
      "                    macro avg       0.41      0.42      0.40      1140\n",
      "                 weighted avg       0.42      0.42      0.40      1140\n",
      "\n",
      "[[86  6 16  2  0  2  2  6  3  1]\n",
      " [24 42  2 17  4  4  9  1  4  7]\n",
      " [ 4  2 82  3  6  1  8  7 14  4]\n",
      " [ 2 24 32 25  4 21  4  7  1  4]\n",
      " [12  3  8 10 35 22  3 13  2  9]\n",
      " [ 2  4 20  6  1 54  7  6  3 11]\n",
      " [ 8 13  1  7  3  7 43  1  3 25]\n",
      " [ 7  0  4  0  2  3  0 36  1  7]\n",
      " [27 10 14  5  0  9  3 23 16 14]\n",
      " [ 4  8  4  1  2 12  6 26  6 55]]\n"
     ]
    }
   ],
   "source": [
    "class_names = target.unique()\n",
    "print(classification_report(Ltest, y_pred, target_names=class_names))\n",
    "print(confusion_matrix(Ltest, y_pred))"
   ]
  },
  {
   "cell_type": "markdown",
   "id": "2ef4dbb7",
   "metadata": {},
   "source": [
    "# Bernouli Naive bayes on blue data"
   ]
  },
  {
   "cell_type": "code",
   "execution_count": 127,
   "id": "8b5c24cc",
   "metadata": {},
   "outputs": [
    {
     "data": {
      "text/plain": [
       "0.34385964912280703"
      ]
     },
     "execution_count": 127,
     "metadata": {},
     "output_type": "execute_result"
    }
   ],
   "source": [
    "bnb.fit(Ftrain, Ltrain)\n",
    "y_pred = bnb.predict(Ftest)\n",
    "metrics.accuracy_score(Ltest, y_pred)"
   ]
  },
  {
   "cell_type": "code",
   "execution_count": 128,
   "id": "dadfa0bc",
   "metadata": {},
   "outputs": [
    {
     "name": "stdout",
     "output_type": "stream",
     "text": [
      "                               precision    recall  f1-score   support\n",
      "\n",
      "               bacterial_spot       0.40      0.69      0.51       124\n",
      "                 early_blight       0.27      0.18      0.21       114\n",
      "                      healthy       0.38      0.52      0.44       131\n",
      "                  late_blight       0.16      0.09      0.12       124\n",
      "                    leaf_mold       0.64      0.30      0.41       117\n",
      "           septoria_leaf_spot       0.31      0.53      0.39       114\n",
      "                  target_spot       0.36      0.30      0.33       111\n",
      "          tomato_mosaic_virus       0.18      0.27      0.21        60\n",
      "tomato_yellow_leaf_curl_virus       0.16      0.08      0.11       121\n",
      "      two-spotted_spider_mite       0.45      0.44      0.44       124\n",
      "\n",
      "                     accuracy                           0.34      1140\n",
      "                    macro avg       0.33      0.34      0.32      1140\n",
      "                 weighted avg       0.34      0.34      0.32      1140\n",
      "\n",
      "[[85  5 13  7  1  5  1  3  3  1]\n",
      " [46 20  3  4  2 15 15  2  4  3]\n",
      " [ 5  1 68 14  4  7  7 10 10  5]\n",
      " [20  9 39 11  9 24  6  1  1  4]\n",
      " [10  4  9  6 35 24  8  8  7  6]\n",
      " [ 1  3 20  4  1 60  9  5  1 10]\n",
      " [ 5 11  4  4  1 20 33 10 10 13]\n",
      " [ 5  0  4  5  2 13  1 16  7  7]\n",
      " [30 12 16  7  0 11  2 17 10 16]\n",
      " [ 4  8  4  5  0 12  9 19  9 54]]\n"
     ]
    }
   ],
   "source": [
    "class_names = target.unique()\n",
    "print(classification_report(Ltest, y_pred, target_names=class_names))\n",
    "print(confusion_matrix(Ltest, y_pred))"
   ]
  },
  {
   "cell_type": "markdown",
   "id": "a9f61b1f",
   "metadata": {},
   "source": [
    "# Decision Tree on Blue channel"
   ]
  },
  {
   "cell_type": "code",
   "execution_count": 129,
   "id": "abc489d3",
   "metadata": {},
   "outputs": [
    {
     "data": {
      "text/plain": [
       "0.3508771929824561"
      ]
     },
     "execution_count": 129,
     "metadata": {},
     "output_type": "execute_result"
    }
   ],
   "source": [
    "classifier_tree.fit(Ftrain, Ltrain)\n",
    "classifier_tree.score(Ftest,Ltest)"
   ]
  },
  {
   "cell_type": "code",
   "execution_count": 130,
   "id": "7047e0bb",
   "metadata": {},
   "outputs": [
    {
     "name": "stdout",
     "output_type": "stream",
     "text": [
      "                               precision    recall  f1-score   support\n",
      "\n",
      "               bacterial_spot       0.46      0.44      0.45       124\n",
      "                 early_blight       0.22      0.24      0.23       114\n",
      "                      healthy       0.49      0.53      0.51       131\n",
      "                  late_blight       0.34      0.27      0.30       124\n",
      "                    leaf_mold       0.38      0.33      0.35       117\n",
      "           septoria_leaf_spot       0.35      0.39      0.37       114\n",
      "                  target_spot       0.31      0.37      0.34       111\n",
      "          tomato_mosaic_virus       0.18      0.18      0.18        60\n",
      "tomato_yellow_leaf_curl_virus       0.28      0.26      0.27       121\n",
      "      two-spotted_spider_mite       0.36      0.36      0.36       124\n",
      "\n",
      "                     accuracy                           0.35      1140\n",
      "                    macro avg       0.34      0.34      0.34      1140\n",
      "                 weighted avg       0.35      0.35      0.35      1140\n",
      "\n",
      "[[54 11 10  6  7  6  5  4 18  3]\n",
      " [14 27 10  9  4  6 16  3 11 14]\n",
      " [ 7  5 69 12  3 10  8  5  7  5]\n",
      " [ 6 18 10 34 11 20 10  5  7  3]\n",
      " [ 7  9  7  9 39 15 11  7  6  7]\n",
      " [ 7  8  8  8 14 44 10  3 10  2]\n",
      " [ 3 13  7  3  3 11 41  1  7 22]\n",
      " [ 2  3  9  5  6  2  3 11  7 12]\n",
      " [13 19 10  8 10  7  7  5 31 11]\n",
      " [ 4 11  2  7  6  6 22 16  5 45]]\n"
     ]
    }
   ],
   "source": [
    "y_predict = classifier_tree.fit(Ftrain, Ltrain).predict(Ftest)\n",
    "class_names = target.unique()\n",
    "print(classification_report(Ltest, y_predict, target_names=class_names))\n",
    "print(confusion_matrix(Ltest, y_predict))"
   ]
  },
  {
   "cell_type": "code",
   "execution_count": 131,
   "id": "0bde61c7",
   "metadata": {},
   "outputs": [
    {
     "name": "stdout",
     "output_type": "stream",
     "text": [
      "3749.363508462906\n"
     ]
    }
   ],
   "source": [
    "end_time = time.time()\n",
    "print(end_time - start_time)"
   ]
  }
 ],
 "metadata": {
  "kernelspec": {
   "display_name": "Python 3 (ipykernel)",
   "language": "python",
   "name": "python3"
  },
  "language_info": {
   "codemirror_mode": {
    "name": "ipython",
    "version": 3
   },
   "file_extension": ".py",
   "mimetype": "text/x-python",
   "name": "python",
   "nbconvert_exporter": "python",
   "pygments_lexer": "ipython3",
   "version": "3.9.12"
  }
 },
 "nbformat": 4,
 "nbformat_minor": 5
}
