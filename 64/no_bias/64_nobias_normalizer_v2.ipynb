{
 "cells": [
  {
   "cell_type": "code",
   "execution_count": 1,
   "id": "bcdb1517",
   "metadata": {},
   "outputs": [],
   "source": [
    "import numpy as np #importing numpy\n",
    "import pandas as pd #importing pandas\n",
    "import PIL #importing pillow for image processing\n",
    "from PIL import Image#importing image from pillow library\n",
    "import skimage#importing skimage library\n",
    "import os#importing os library\n",
    "import time#importing time library\n",
    "\n",
    "#Capture start time of the program\n",
    "start_time = time.time()"
   ]
  },
  {
   "cell_type": "code",
   "execution_count": 2,
   "id": "9ec45970",
   "metadata": {},
   "outputs": [],
   "source": [
    "#changing path\n",
    "os.chdir('D://DKIT//dissertation//Dataset_of_Tomato_Leaves//plantvillage//Preprocessed_data//64//no_bias_vector//')"
   ]
  },
  {
   "cell_type": "code",
   "execution_count": 3,
   "id": "4b677f27",
   "metadata": {},
   "outputs": [],
   "source": [
    "#importing normalizer function and assigning it to norm\n",
    "from sklearn.preprocessing import Normalizer\n",
    "norm = Normalizer()"
   ]
  },
  {
   "cell_type": "markdown",
   "id": "e1e76605",
   "metadata": {},
   "source": [
    "# RGB Data"
   ]
  },
  {
   "cell_type": "code",
   "execution_count": 4,
   "id": "9386938c",
   "metadata": {},
   "outputs": [],
   "source": [
    "#reading numpy array data\n",
    "rgb_test = np.load('rgb_data.npy')\n",
    "#reading csv file\n",
    "rgb_df = pd.read_csv('rgb_data.csv')"
   ]
  },
  {
   "cell_type": "code",
   "execution_count": 5,
   "id": "40f528b5",
   "metadata": {},
   "outputs": [],
   "source": [
    "features = pd.DataFrame(rgb_test)"
   ]
  },
  {
   "cell_type": "code",
   "execution_count": 6,
   "id": "fdd9a1f6",
   "metadata": {},
   "outputs": [],
   "source": [
    "features = features.values"
   ]
  },
  {
   "cell_type": "code",
   "execution_count": 7,
   "id": "c6d5658c",
   "metadata": {},
   "outputs": [],
   "source": [
    "#assigning target\n",
    "target = rgb_df['disease']\n",
    "#splitting the data to 80 percent and 20 percent\n",
    "from sklearn.model_selection import train_test_split\n",
    "Ftrain,Ftest,Ltrain,Ltest=train_test_split(features,target, test_size=0.20, random_state=24)"
   ]
  },
  {
   "cell_type": "code",
   "execution_count": 8,
   "id": "84a30a78",
   "metadata": {},
   "outputs": [],
   "source": [
    "Ftrain = norm.fit_transform(Ftrain)\n",
    "Ftest = norm.fit_transform(Ftest)"
   ]
  },
  {
   "cell_type": "code",
   "execution_count": 9,
   "id": "1fa0433e",
   "metadata": {},
   "outputs": [],
   "source": [
    "#importing classification report and confusion matrix\n",
    "from sklearn.metrics import classification_report, confusion_matrix"
   ]
  },
  {
   "cell_type": "markdown",
   "id": "d466ef5f",
   "metadata": {},
   "source": [
    "# SVM(poly) on RGB data"
   ]
  },
  {
   "cell_type": "code",
   "execution_count": 10,
   "id": "2427ed51",
   "metadata": {},
   "outputs": [
    {
     "name": "stdout",
     "output_type": "stream",
     "text": [
      "0.7368421052631579\n"
     ]
    }
   ],
   "source": [
    "from sklearn.svm import SVC\n",
    "from sklearn.metrics import accuracy_score\n",
    "\n",
    "svm_poly = SVC(kernel='poly')\n",
    "svm_poly.fit(Ftrain,Ltrain)\n",
    "y_pred = svm_poly.predict(Ftest)\n",
    "print(accuracy_score(Ltest,y_pred))"
   ]
  },
  {
   "cell_type": "code",
   "execution_count": 11,
   "id": "bf286604",
   "metadata": {},
   "outputs": [
    {
     "name": "stdout",
     "output_type": "stream",
     "text": [
      "                               precision    recall  f1-score   support\n",
      "\n",
      "               bacterial_spot       0.72      0.81      0.76       115\n",
      "                 early_blight       0.61      0.56      0.59       120\n",
      "                      healthy       0.82      0.83      0.83       125\n",
      "                  late_blight       0.66      0.69      0.67       125\n",
      "                    leaf_mold       0.77      0.77      0.77       127\n",
      "           septoria_leaf_spot       0.64      0.57      0.61       117\n",
      "                  target_spot       0.78      0.72      0.75       115\n",
      "          tomato_mosaic_virus       0.83      0.91      0.87        54\n",
      "tomato_yellow_leaf_curl_virus       0.87      0.84      0.86       114\n",
      "      two-spotted_spider_mite       0.70      0.76      0.73       128\n",
      "\n",
      "                     accuracy                           0.74      1140\n",
      "                    macro avg       0.74      0.75      0.74      1140\n",
      "                 weighted avg       0.74      0.74      0.74      1140\n",
      "\n",
      "[[ 93   5   0   4   0   6   1   0   6   0]\n",
      " [ 12  67   4  13   7   3   3   0   2   9]\n",
      " [  2   3 104   3   3   5   4   0   0   1]\n",
      " [  9  12   4  86   4   6   2   0   0   2]\n",
      " [  1   5   2   7  98   8   0   2   0   4]\n",
      " [  6   3   6   7  12  67   2   4   4   6]\n",
      " [  2   5   7   0   1   4  83   1   0  12]\n",
      " [  0   1   0   0   0   0   1  49   0   3]\n",
      " [  4   3   0   4   0   2   0   0  96   5]\n",
      " [  0   5   0   6   2   3  10   3   2  97]]\n"
     ]
    }
   ],
   "source": [
    "#classification report\n",
    "y_predict = svm_poly.fit(Ftrain, Ltrain).predict(Ftest)\n",
    "class_names = target.unique()\n",
    "print(classification_report(Ltest, y_predict, target_names=class_names))\n",
    "print(confusion_matrix(Ltest, y_predict))"
   ]
  },
  {
   "cell_type": "markdown",
   "id": "4101cb88",
   "metadata": {},
   "source": [
    "# SVM(RBF) on RGB data"
   ]
  },
  {
   "cell_type": "code",
   "execution_count": 12,
   "id": "235aaf3a",
   "metadata": {},
   "outputs": [
    {
     "name": "stdout",
     "output_type": "stream",
     "text": [
      "0.7342105263157894\n"
     ]
    }
   ],
   "source": [
    "svm_rbf = SVC(kernel='rbf')\n",
    "svm_rbf.fit(Ftrain,Ltrain)\n",
    "y_pred = svm_rbf.predict(Ftest)\n",
    "print(accuracy_score(Ltest,y_pred))"
   ]
  },
  {
   "cell_type": "code",
   "execution_count": 13,
   "id": "1c7ce3a6",
   "metadata": {},
   "outputs": [
    {
     "name": "stdout",
     "output_type": "stream",
     "text": [
      "                               precision    recall  f1-score   support\n",
      "\n",
      "               bacterial_spot       0.74      0.77      0.75       115\n",
      "                 early_blight       0.53      0.47      0.50       120\n",
      "                      healthy       0.85      0.94      0.89       125\n",
      "                  late_blight       0.73      0.71      0.72       125\n",
      "                    leaf_mold       0.82      0.76      0.79       127\n",
      "           septoria_leaf_spot       0.63      0.55      0.59       117\n",
      "                  target_spot       0.69      0.71      0.70       115\n",
      "          tomato_mosaic_virus       0.79      0.93      0.85        54\n",
      "tomato_yellow_leaf_curl_virus       0.83      0.87      0.85       114\n",
      "      two-spotted_spider_mite       0.69      0.73      0.71       128\n",
      "\n",
      "                     accuracy                           0.73      1140\n",
      "                    macro avg       0.73      0.74      0.74      1140\n",
      "                 weighted avg       0.73      0.73      0.73      1140\n",
      "\n",
      "[[ 88   3   1   3   0   8   3   0   9   0]\n",
      " [ 14  57   2  12   5   7  12   0   0  11]\n",
      " [  0   2 117   2   0   0   3   0   0   1]\n",
      " [  5  12   5  89   3   7   1   0   2   1]\n",
      " [  1   3   1   6  97  12   0   1   1   5]\n",
      " [  6   5   6   4  11  64   5   5   5   6]\n",
      " [  1  14   4   1   1   0  82   1   0  11]\n",
      " [  0   1   0   0   1   0   0  50   0   2]\n",
      " [  4   1   0   3   0   1   0   1  99   5]\n",
      " [  0   9   1   2   0   2  12   5   3  94]]\n"
     ]
    }
   ],
   "source": [
    "#classification report\n",
    "y_predict = svm_rbf.fit(Ftrain, Ltrain).predict(Ftest)\n",
    "class_names = target.unique()\n",
    "print(classification_report(Ltest, y_predict, target_names=class_names))\n",
    "print(confusion_matrix(Ltest, y_predict))"
   ]
  },
  {
   "cell_type": "markdown",
   "id": "670ea3cc",
   "metadata": {},
   "source": [
    "# SVM(sigmoid) on RGB data"
   ]
  },
  {
   "cell_type": "code",
   "execution_count": 14,
   "id": "8aaf1a20",
   "metadata": {},
   "outputs": [
    {
     "name": "stdout",
     "output_type": "stream",
     "text": [
      "0.1\n"
     ]
    }
   ],
   "source": [
    "svm_si = SVC(kernel='sigmoid')\n",
    "svm_si.fit(Ftrain,Ltrain)\n",
    "y_pred = svm_si.predict(Ftest)\n",
    "print(accuracy_score(Ltest,y_pred))"
   ]
  },
  {
   "cell_type": "code",
   "execution_count": 15,
   "id": "9beeb8fa",
   "metadata": {},
   "outputs": [
    {
     "name": "stdout",
     "output_type": "stream",
     "text": [
      "                               precision    recall  f1-score   support\n",
      "\n",
      "               bacterial_spot       0.00      0.00      0.00       115\n",
      "                 early_blight       0.00      0.00      0.00       120\n",
      "                      healthy       0.00      0.00      0.00       125\n",
      "                  late_blight       0.00      0.00      0.00       125\n",
      "                    leaf_mold       0.00      0.00      0.00       127\n",
      "           septoria_leaf_spot       0.00      0.00      0.00       117\n",
      "                  target_spot       0.00      0.00      0.00       115\n",
      "          tomato_mosaic_virus       0.00      0.00      0.00        54\n",
      "tomato_yellow_leaf_curl_virus       0.10      1.00      0.18       114\n",
      "      two-spotted_spider_mite       0.00      0.00      0.00       128\n",
      "\n",
      "                     accuracy                           0.10      1140\n",
      "                    macro avg       0.01      0.10      0.02      1140\n",
      "                 weighted avg       0.01      0.10      0.02      1140\n",
      "\n",
      "[[  0   0   0   0   0   0   0   0 115   0]\n",
      " [  0   0   0   0   0   0   0   0 120   0]\n",
      " [  0   0   0   0   0   0   0   0 125   0]\n",
      " [  0   0   2   0   0   0   0   0 123   0]\n",
      " [  0   0   0   0   0   0   0   0 127   0]\n",
      " [  0   0   0   0   0   0   0   0 117   0]\n",
      " [  0   0   0   0   0   0   0   0 115   0]\n",
      " [  0   0   0   0   0   0   0   0  54   0]\n",
      " [  0   0   0   0   0   0   0   0 114   0]\n",
      " [  0   0   0   0   0   0   0   0 128   0]]\n"
     ]
    },
    {
     "name": "stderr",
     "output_type": "stream",
     "text": [
      "C:\\Users\\ravic\\anaconda3\\lib\\site-packages\\sklearn\\metrics\\_classification.py:1248: UndefinedMetricWarning: Precision and F-score are ill-defined and being set to 0.0 in labels with no predicted samples. Use `zero_division` parameter to control this behavior.\n",
      "  _warn_prf(average, modifier, msg_start, len(result))\n",
      "C:\\Users\\ravic\\anaconda3\\lib\\site-packages\\sklearn\\metrics\\_classification.py:1248: UndefinedMetricWarning: Precision and F-score are ill-defined and being set to 0.0 in labels with no predicted samples. Use `zero_division` parameter to control this behavior.\n",
      "  _warn_prf(average, modifier, msg_start, len(result))\n",
      "C:\\Users\\ravic\\anaconda3\\lib\\site-packages\\sklearn\\metrics\\_classification.py:1248: UndefinedMetricWarning: Precision and F-score are ill-defined and being set to 0.0 in labels with no predicted samples. Use `zero_division` parameter to control this behavior.\n",
      "  _warn_prf(average, modifier, msg_start, len(result))\n"
     ]
    }
   ],
   "source": [
    "#classification report\n",
    "y_predict = svm_si.fit(Ftrain, Ltrain).predict(Ftest)\n",
    "class_names = target.unique()\n",
    "print(classification_report(Ltest, y_predict, target_names=class_names))\n",
    "print(confusion_matrix(Ltest, y_predict))"
   ]
  },
  {
   "cell_type": "markdown",
   "id": "f985c500",
   "metadata": {},
   "source": [
    "# Bernouli Naive bayes on RGB data"
   ]
  },
  {
   "cell_type": "code",
   "execution_count": 16,
   "id": "75a3f18f",
   "metadata": {},
   "outputs": [
    {
     "data": {
      "text/plain": [
       "0.27807017543859647"
      ]
     },
     "execution_count": 16,
     "metadata": {},
     "output_type": "execute_result"
    }
   ],
   "source": [
    "from sklearn.naive_bayes import BernoulliNB\n",
    "from sklearn import metrics\n",
    "bnb = BernoulliNB()\n",
    "bnb.fit(Ftrain, Ltrain)\n",
    "y_pred = bnb.predict(Ftest)\n",
    "metrics.accuracy_score(Ltest, y_pred)"
   ]
  },
  {
   "cell_type": "code",
   "execution_count": 17,
   "id": "694c01aa",
   "metadata": {},
   "outputs": [
    {
     "name": "stdout",
     "output_type": "stream",
     "text": [
      "                               precision    recall  f1-score   support\n",
      "\n",
      "               bacterial_spot       0.18      0.96      0.31       115\n",
      "                 early_blight       0.50      0.21      0.29       120\n",
      "                      healthy       0.29      0.18      0.22       125\n",
      "                  late_blight       1.00      0.03      0.06       125\n",
      "                    leaf_mold       0.42      0.18      0.25       127\n",
      "           septoria_leaf_spot       0.40      0.09      0.14       117\n",
      "                  target_spot       0.34      0.16      0.21       115\n",
      "          tomato_mosaic_virus       0.00      0.00      0.00        54\n",
      "tomato_yellow_leaf_curl_virus       0.44      0.54      0.48       114\n",
      "      two-spotted_spider_mite       0.31      0.34      0.32       128\n",
      "\n",
      "                     accuracy                           0.28      1140\n",
      "                    macro avg       0.39      0.27      0.23      1140\n",
      "                 weighted avg       0.41      0.28      0.24      1140\n",
      "\n",
      "[[110   0   1   0   1   1   0   0   0   2]\n",
      " [ 48  25  11   0   7   1   2   0  17   9]\n",
      " [ 69   4  22   0   8   2   8   0   0  12]\n",
      " [ 86   8   2   4   4   0   0   1  14   6]\n",
      " [ 59   3   6   0  23   3   4   0  18  11]\n",
      " [ 60   5   5   0  10  10   5   0   7  15]\n",
      " [ 65   1   9   0   2   2  18   0   6  12]\n",
      " [ 28   1   5   0   0   0   5   0   4  11]\n",
      " [ 23   0   2   0   0   5   2   0  61  21]\n",
      " [ 48   3  12   0   0   1   9   0  11  44]]\n"
     ]
    }
   ],
   "source": [
    "class_names = target.unique()\n",
    "print(classification_report(Ltest, y_pred, target_names=class_names))\n",
    "print(confusion_matrix(Ltest, y_pred))"
   ]
  },
  {
   "cell_type": "markdown",
   "id": "67dd930c",
   "metadata": {},
   "source": [
    "# Multinomial Naive bayes on RGB data"
   ]
  },
  {
   "cell_type": "code",
   "execution_count": 18,
   "id": "3b80acde",
   "metadata": {},
   "outputs": [
    {
     "data": {
      "text/plain": [
       "0.27807017543859647"
      ]
     },
     "execution_count": 18,
     "metadata": {},
     "output_type": "execute_result"
    }
   ],
   "source": [
    "from sklearn.naive_bayes import MultinomialNB\n",
    "mnb = BernoulliNB()\n",
    "mnb.fit(Ftrain, Ltrain)\n",
    "y_pred = mnb.predict(Ftest)\n",
    "metrics.accuracy_score(Ltest, y_pred)"
   ]
  },
  {
   "cell_type": "code",
   "execution_count": 19,
   "id": "d6ed705b",
   "metadata": {},
   "outputs": [
    {
     "name": "stdout",
     "output_type": "stream",
     "text": [
      "                               precision    recall  f1-score   support\n",
      "\n",
      "               bacterial_spot       0.18      0.96      0.31       115\n",
      "                 early_blight       0.50      0.21      0.29       120\n",
      "                      healthy       0.29      0.18      0.22       125\n",
      "                  late_blight       1.00      0.03      0.06       125\n",
      "                    leaf_mold       0.42      0.18      0.25       127\n",
      "           septoria_leaf_spot       0.40      0.09      0.14       117\n",
      "                  target_spot       0.34      0.16      0.21       115\n",
      "          tomato_mosaic_virus       0.00      0.00      0.00        54\n",
      "tomato_yellow_leaf_curl_virus       0.44      0.54      0.48       114\n",
      "      two-spotted_spider_mite       0.31      0.34      0.32       128\n",
      "\n",
      "                     accuracy                           0.28      1140\n",
      "                    macro avg       0.39      0.27      0.23      1140\n",
      "                 weighted avg       0.41      0.28      0.24      1140\n",
      "\n",
      "[[110   0   1   0   1   1   0   0   0   2]\n",
      " [ 48  25  11   0   7   1   2   0  17   9]\n",
      " [ 69   4  22   0   8   2   8   0   0  12]\n",
      " [ 86   8   2   4   4   0   0   1  14   6]\n",
      " [ 59   3   6   0  23   3   4   0  18  11]\n",
      " [ 60   5   5   0  10  10   5   0   7  15]\n",
      " [ 65   1   9   0   2   2  18   0   6  12]\n",
      " [ 28   1   5   0   0   0   5   0   4  11]\n",
      " [ 23   0   2   0   0   5   2   0  61  21]\n",
      " [ 48   3  12   0   0   1   9   0  11  44]]\n"
     ]
    }
   ],
   "source": [
    "class_names = target.unique()\n",
    "print(classification_report(Ltest, y_pred, target_names=class_names))\n",
    "print(confusion_matrix(Ltest, y_pred))"
   ]
  },
  {
   "cell_type": "markdown",
   "id": "0e8f617d",
   "metadata": {},
   "source": [
    "# Grayscale data"
   ]
  },
  {
   "cell_type": "code",
   "execution_count": 20,
   "id": "57a9845e",
   "metadata": {},
   "outputs": [],
   "source": [
    "#reading numpy array data\n",
    "gray_test = np.load('gray_test.npy')\n",
    "#reading csv file\n",
    "gray_df = pd.read_csv('gray_data.csv')"
   ]
  },
  {
   "cell_type": "code",
   "execution_count": 21,
   "id": "d3abef95",
   "metadata": {},
   "outputs": [],
   "source": [
    "#assigning features and target to split the data\n",
    "features = pd.DataFrame(gray_test)\n",
    "features = features.values\n",
    "target = gray_df['disease']"
   ]
  },
  {
   "cell_type": "code",
   "execution_count": 22,
   "id": "a86eb99c",
   "metadata": {},
   "outputs": [],
   "source": [
    "#splitting the data to train and test\n",
    "Ftrain,Ftest,Ltrain,Ltest=train_test_split(features,target, test_size=0.20, random_state=24)"
   ]
  },
  {
   "cell_type": "code",
   "execution_count": 23,
   "id": "8510a95b",
   "metadata": {},
   "outputs": [],
   "source": [
    "#applying normalizer scale on Ftrain and Ftest\n",
    "Ftrain = norm.fit_transform(Ftrain)\n",
    "Ftest = norm.fit_transform(Ftest)"
   ]
  },
  {
   "cell_type": "markdown",
   "id": "8bfc6d84",
   "metadata": {},
   "source": [
    "# SVM(poly) on grayscale data"
   ]
  },
  {
   "cell_type": "code",
   "execution_count": 24,
   "id": "c9665abf",
   "metadata": {},
   "outputs": [
    {
     "name": "stdout",
     "output_type": "stream",
     "text": [
      "0.5078947368421053\n"
     ]
    }
   ],
   "source": [
    "svm_poly.fit(Ftrain,Ltrain)\n",
    "y_pred = svm_poly.predict(Ftest)\n",
    "print(accuracy_score(Ltest,y_pred))"
   ]
  },
  {
   "cell_type": "code",
   "execution_count": 25,
   "id": "2456eda7",
   "metadata": {},
   "outputs": [
    {
     "name": "stdout",
     "output_type": "stream",
     "text": [
      "                               precision    recall  f1-score   support\n",
      "\n",
      "               bacterial_spot       0.60      0.65      0.63       115\n",
      "                 early_blight       0.40      0.47      0.44       120\n",
      "                      healthy       0.64      0.65      0.64       125\n",
      "                  late_blight       0.47      0.54      0.50       125\n",
      "                    leaf_mold       0.51      0.54      0.52       127\n",
      "           septoria_leaf_spot       0.38      0.32      0.35       117\n",
      "                  target_spot       0.51      0.45      0.48       115\n",
      "          tomato_mosaic_virus       0.45      0.39      0.42        54\n",
      "tomato_yellow_leaf_curl_virus       0.55      0.46      0.50       114\n",
      "      two-spotted_spider_mite       0.54      0.52      0.53       128\n",
      "\n",
      "                     accuracy                           0.51      1140\n",
      "                    macro avg       0.50      0.50      0.50      1140\n",
      "                 weighted avg       0.51      0.51      0.51      1140\n",
      "\n",
      "[[75  5  5  4  2 11  2  0  8  3]\n",
      " [ 9 57  2 12  8  2 13  1  6 10]\n",
      " [ 3  2 81  9  8 12  4  0  2  4]\n",
      " [ 8 16 10 67  8  6  2  0  3  5]\n",
      " [ 0  8  5 17 68  9  5  3  8  4]\n",
      " [ 9 11 13 13 16 38  5  3  6  3]\n",
      " [ 7 18  6  5  6  4 52  1  2 14]\n",
      " [ 2  1  1  4  6  7  3 21  3  6]\n",
      " [ 9 10  2  8  9  8  2  5 53  8]\n",
      " [ 2 14  2  4  2  4 14 13  6 67]]\n"
     ]
    }
   ],
   "source": [
    "#classification report\n",
    "y_predict = svm_poly.fit(Ftrain, Ltrain).predict(Ftest)\n",
    "class_names = target.unique()\n",
    "print(classification_report(Ltest, y_predict, target_names=class_names))\n",
    "print(confusion_matrix(Ltest, y_predict))"
   ]
  },
  {
   "cell_type": "markdown",
   "id": "bd417df9",
   "metadata": {},
   "source": [
    "# SVM(RBF) on grayscale data"
   ]
  },
  {
   "cell_type": "code",
   "execution_count": 26,
   "id": "67772464",
   "metadata": {},
   "outputs": [
    {
     "name": "stdout",
     "output_type": "stream",
     "text": [
      "0.5719298245614035\n"
     ]
    }
   ],
   "source": [
    "svm_rbf.fit(Ftrain,Ltrain)\n",
    "y_pred = svm_rbf.predict(Ftest)\n",
    "print(accuracy_score(Ltest,y_pred))"
   ]
  },
  {
   "cell_type": "code",
   "execution_count": 27,
   "id": "34bbfd97",
   "metadata": {},
   "outputs": [
    {
     "name": "stdout",
     "output_type": "stream",
     "text": [
      "                               precision    recall  f1-score   support\n",
      "\n",
      "               bacterial_spot       0.69      0.61      0.65       115\n",
      "                 early_blight       0.45      0.44      0.45       120\n",
      "                      healthy       0.68      0.83      0.75       125\n",
      "                  late_blight       0.61      0.60      0.60       125\n",
      "                    leaf_mold       0.65      0.60      0.62       127\n",
      "           septoria_leaf_spot       0.42      0.38      0.40       117\n",
      "                  target_spot       0.57      0.59      0.58       115\n",
      "          tomato_mosaic_virus       0.43      0.54      0.48        54\n",
      "tomato_yellow_leaf_curl_virus       0.56      0.54      0.55       114\n",
      "      two-spotted_spider_mite       0.57      0.56      0.57       128\n",
      "\n",
      "                     accuracy                           0.57      1140\n",
      "                    macro avg       0.56      0.57      0.56      1140\n",
      "                 weighted avg       0.57      0.57      0.57      1140\n",
      "\n",
      "[[ 70   3   8   6   4  10   2   1   9   2]\n",
      " [ 13  53   4  10   6   6   9   3   5  11]\n",
      " [  0   2 104   2   1   8   5   0   3   0]\n",
      " [  5  11   8  75   5  10   2   0   6   3]\n",
      " [  1   8   4  11  76   6   9   3   4   5]\n",
      " [  5   6  12   8  13  44   9   8   8   4]\n",
      " [  1  12   6   3   4   3  68   2   2  14]\n",
      " [  0   1   1   0   1   6   2  29   6   8]\n",
      " [  7   9   5   8   4   5   1   7  61   7]\n",
      " [  0  13   1   0   3   7  13  15   4  72]]\n"
     ]
    }
   ],
   "source": [
    "#classification report\n",
    "y_predict = svm_rbf.fit(Ftrain, Ltrain).predict(Ftest)\n",
    "class_names = target.unique()\n",
    "print(classification_report(Ltest, y_predict, target_names=class_names))\n",
    "print(confusion_matrix(Ltest, y_predict))"
   ]
  },
  {
   "cell_type": "markdown",
   "id": "c1ed23e8",
   "metadata": {},
   "source": [
    "# SVM(sigmoid) on Grayscale data"
   ]
  },
  {
   "cell_type": "code",
   "execution_count": 28,
   "id": "b79e8630",
   "metadata": {},
   "outputs": [
    {
     "name": "stdout",
     "output_type": "stream",
     "text": [
      "0.1\n"
     ]
    }
   ],
   "source": [
    "svm_si.fit(Ftrain,Ltrain)\n",
    "y_pred = svm_si.predict(Ftest)\n",
    "print(accuracy_score(Ltest,y_pred))"
   ]
  },
  {
   "cell_type": "code",
   "execution_count": 29,
   "id": "c64cd0a6",
   "metadata": {},
   "outputs": [
    {
     "name": "stdout",
     "output_type": "stream",
     "text": [
      "                               precision    recall  f1-score   support\n",
      "\n",
      "               bacterial_spot       0.00      0.00      0.00       115\n",
      "                 early_blight       0.00      0.00      0.00       120\n",
      "                      healthy       0.00      0.00      0.00       125\n",
      "                  late_blight       0.00      0.00      0.00       125\n",
      "                    leaf_mold       0.00      0.00      0.00       127\n",
      "           septoria_leaf_spot       0.00      0.00      0.00       117\n",
      "                  target_spot       0.00      0.00      0.00       115\n",
      "          tomato_mosaic_virus       0.00      0.00      0.00        54\n",
      "tomato_yellow_leaf_curl_virus       0.10      1.00      0.18       114\n",
      "      two-spotted_spider_mite       0.00      0.00      0.00       128\n",
      "\n",
      "                     accuracy                           0.10      1140\n",
      "                    macro avg       0.01      0.10      0.02      1140\n",
      "                 weighted avg       0.01      0.10      0.02      1140\n",
      "\n",
      "[[  0   0   0   0   0   0   0   0 115   0]\n",
      " [  0   0   0   0   0   0   0   0 120   0]\n",
      " [  0   0   0   0   0   0   0   0 125   0]\n",
      " [  0   0   0   0   0   0   1   0 124   0]\n",
      " [  0   0   0   0   0   0   0   0 127   0]\n",
      " [  0   0   0   0   0   0   0   0 117   0]\n",
      " [  0   0   0   0   0   0   0   0 115   0]\n",
      " [  0   0   0   0   0   0   0   0  54   0]\n",
      " [  0   0   0   0   0   0   0   0 114   0]\n",
      " [  0   0   0   0   0   0   0   0 128   0]]\n"
     ]
    },
    {
     "name": "stderr",
     "output_type": "stream",
     "text": [
      "C:\\Users\\ravic\\anaconda3\\lib\\site-packages\\sklearn\\metrics\\_classification.py:1248: UndefinedMetricWarning: Precision and F-score are ill-defined and being set to 0.0 in labels with no predicted samples. Use `zero_division` parameter to control this behavior.\n",
      "  _warn_prf(average, modifier, msg_start, len(result))\n",
      "C:\\Users\\ravic\\anaconda3\\lib\\site-packages\\sklearn\\metrics\\_classification.py:1248: UndefinedMetricWarning: Precision and F-score are ill-defined and being set to 0.0 in labels with no predicted samples. Use `zero_division` parameter to control this behavior.\n",
      "  _warn_prf(average, modifier, msg_start, len(result))\n",
      "C:\\Users\\ravic\\anaconda3\\lib\\site-packages\\sklearn\\metrics\\_classification.py:1248: UndefinedMetricWarning: Precision and F-score are ill-defined and being set to 0.0 in labels with no predicted samples. Use `zero_division` parameter to control this behavior.\n",
      "  _warn_prf(average, modifier, msg_start, len(result))\n"
     ]
    }
   ],
   "source": [
    "#classification report\n",
    "y_predict = svm_si.fit(Ftrain, Ltrain).predict(Ftest)\n",
    "class_names = target.unique()\n",
    "print(classification_report(Ltest, y_predict, target_names=class_names))\n",
    "print(confusion_matrix(Ltest, y_predict))"
   ]
  },
  {
   "cell_type": "markdown",
   "id": "8ba631c4",
   "metadata": {},
   "source": [
    "# Bernouli Naive bayes on grayscale data"
   ]
  },
  {
   "cell_type": "code",
   "execution_count": 30,
   "id": "f9c1d1df",
   "metadata": {},
   "outputs": [
    {
     "data": {
      "text/plain": [
       "0.10526315789473684"
      ]
     },
     "execution_count": 30,
     "metadata": {},
     "output_type": "execute_result"
    }
   ],
   "source": [
    "bnb.fit(Ftrain, Ltrain)\n",
    "y_pred = bnb.predict(Ftest)\n",
    "metrics.accuracy_score(Ltest, y_pred)"
   ]
  },
  {
   "cell_type": "code",
   "execution_count": 31,
   "id": "5349d0e6",
   "metadata": {},
   "outputs": [
    {
     "name": "stdout",
     "output_type": "stream",
     "text": [
      "                               precision    recall  f1-score   support\n",
      "\n",
      "               bacterial_spot       0.00      0.00      0.00       115\n",
      "                 early_blight       0.18      0.02      0.03       120\n",
      "                      healthy       0.00      0.00      0.00       125\n",
      "                  late_blight       1.00      0.02      0.05       125\n",
      "                    leaf_mold       0.00      0.00      0.00       127\n",
      "           septoria_leaf_spot       0.11      0.01      0.02       117\n",
      "                  target_spot       0.00      0.00      0.00       115\n",
      "          tomato_mosaic_virus       0.00      0.00      0.00        54\n",
      "tomato_yellow_leaf_curl_virus       0.10      1.00      0.19       114\n",
      "      two-spotted_spider_mite       0.00      0.00      0.00       128\n",
      "\n",
      "                     accuracy                           0.11      1140\n",
      "                    macro avg       0.14      0.10      0.03      1140\n",
      "                 weighted avg       0.15      0.11      0.03      1140\n",
      "\n",
      "[[  0   0   0   0   0   0   0   0 115   0]\n",
      " [  0   2   1   0   1   4   0   0 112   0]\n",
      " [  0   2   0   0   1   1   0   0 121   0]\n",
      " [  0   1   0   3   0   0   0   1 120   0]\n",
      " [  0   2   3   0   0   3   1   0 118   0]\n",
      " [  0   2   1   0   0   1   0   0 113   0]\n",
      " [  0   0   0   0   0   0   0   0 115   0]\n",
      " [  0   2   1   0   1   0   0   0  50   0]\n",
      " [  0   0   0   0   0   0   0   0 114   0]\n",
      " [  0   0   0   0   0   0   0   0 128   0]]\n"
     ]
    },
    {
     "name": "stderr",
     "output_type": "stream",
     "text": [
      "C:\\Users\\ravic\\anaconda3\\lib\\site-packages\\sklearn\\metrics\\_classification.py:1248: UndefinedMetricWarning: Precision and F-score are ill-defined and being set to 0.0 in labels with no predicted samples. Use `zero_division` parameter to control this behavior.\n",
      "  _warn_prf(average, modifier, msg_start, len(result))\n",
      "C:\\Users\\ravic\\anaconda3\\lib\\site-packages\\sklearn\\metrics\\_classification.py:1248: UndefinedMetricWarning: Precision and F-score are ill-defined and being set to 0.0 in labels with no predicted samples. Use `zero_division` parameter to control this behavior.\n",
      "  _warn_prf(average, modifier, msg_start, len(result))\n",
      "C:\\Users\\ravic\\anaconda3\\lib\\site-packages\\sklearn\\metrics\\_classification.py:1248: UndefinedMetricWarning: Precision and F-score are ill-defined and being set to 0.0 in labels with no predicted samples. Use `zero_division` parameter to control this behavior.\n",
      "  _warn_prf(average, modifier, msg_start, len(result))\n"
     ]
    }
   ],
   "source": [
    "class_names = target.unique()\n",
    "print(classification_report(Ltest, y_pred, target_names=class_names))\n",
    "print(confusion_matrix(Ltest, y_pred))"
   ]
  },
  {
   "cell_type": "markdown",
   "id": "20b31faf",
   "metadata": {},
   "source": [
    "# Multinomial Naive bayes on Grayscale data"
   ]
  },
  {
   "cell_type": "code",
   "execution_count": 32,
   "id": "5bf3d424",
   "metadata": {},
   "outputs": [
    {
     "data": {
      "text/plain": [
       "0.10526315789473684"
      ]
     },
     "execution_count": 32,
     "metadata": {},
     "output_type": "execute_result"
    }
   ],
   "source": [
    "mnb.fit(Ftrain, Ltrain)\n",
    "y_pred = mnb.predict(Ftest)\n",
    "metrics.accuracy_score(Ltest, y_pred)"
   ]
  },
  {
   "cell_type": "code",
   "execution_count": 33,
   "id": "6ed85664",
   "metadata": {},
   "outputs": [
    {
     "name": "stdout",
     "output_type": "stream",
     "text": [
      "                               precision    recall  f1-score   support\n",
      "\n",
      "               bacterial_spot       0.00      0.00      0.00       115\n",
      "                 early_blight       0.18      0.02      0.03       120\n",
      "                      healthy       0.00      0.00      0.00       125\n",
      "                  late_blight       1.00      0.02      0.05       125\n",
      "                    leaf_mold       0.00      0.00      0.00       127\n",
      "           septoria_leaf_spot       0.11      0.01      0.02       117\n",
      "                  target_spot       0.00      0.00      0.00       115\n",
      "          tomato_mosaic_virus       0.00      0.00      0.00        54\n",
      "tomato_yellow_leaf_curl_virus       0.10      1.00      0.19       114\n",
      "      two-spotted_spider_mite       0.00      0.00      0.00       128\n",
      "\n",
      "                     accuracy                           0.11      1140\n",
      "                    macro avg       0.14      0.10      0.03      1140\n",
      "                 weighted avg       0.15      0.11      0.03      1140\n",
      "\n",
      "[[  0   0   0   0   0   0   0   0 115   0]\n",
      " [  0   2   1   0   1   4   0   0 112   0]\n",
      " [  0   2   0   0   1   1   0   0 121   0]\n",
      " [  0   1   0   3   0   0   0   1 120   0]\n",
      " [  0   2   3   0   0   3   1   0 118   0]\n",
      " [  0   2   1   0   0   1   0   0 113   0]\n",
      " [  0   0   0   0   0   0   0   0 115   0]\n",
      " [  0   2   1   0   1   0   0   0  50   0]\n",
      " [  0   0   0   0   0   0   0   0 114   0]\n",
      " [  0   0   0   0   0   0   0   0 128   0]]\n"
     ]
    },
    {
     "name": "stderr",
     "output_type": "stream",
     "text": [
      "C:\\Users\\ravic\\anaconda3\\lib\\site-packages\\sklearn\\metrics\\_classification.py:1248: UndefinedMetricWarning: Precision and F-score are ill-defined and being set to 0.0 in labels with no predicted samples. Use `zero_division` parameter to control this behavior.\n",
      "  _warn_prf(average, modifier, msg_start, len(result))\n",
      "C:\\Users\\ravic\\anaconda3\\lib\\site-packages\\sklearn\\metrics\\_classification.py:1248: UndefinedMetricWarning: Precision and F-score are ill-defined and being set to 0.0 in labels with no predicted samples. Use `zero_division` parameter to control this behavior.\n",
      "  _warn_prf(average, modifier, msg_start, len(result))\n",
      "C:\\Users\\ravic\\anaconda3\\lib\\site-packages\\sklearn\\metrics\\_classification.py:1248: UndefinedMetricWarning: Precision and F-score are ill-defined and being set to 0.0 in labels with no predicted samples. Use `zero_division` parameter to control this behavior.\n",
      "  _warn_prf(average, modifier, msg_start, len(result))\n"
     ]
    }
   ],
   "source": [
    "class_names = target.unique()\n",
    "print(classification_report(Ltest, y_pred, target_names=class_names))\n",
    "print(confusion_matrix(Ltest, y_pred))"
   ]
  },
  {
   "cell_type": "markdown",
   "id": "6f5719a1",
   "metadata": {},
   "source": [
    "# Red Channel data"
   ]
  },
  {
   "cell_type": "code",
   "execution_count": 34,
   "id": "5f8b0e11",
   "metadata": {},
   "outputs": [],
   "source": [
    "#reading numpy array data\n",
    "red_test = np.load('red_data.npy')\n",
    "#reading csv file\n",
    "red_df = pd.read_csv('red_data.csv')\n",
    "#assigning features and target to split the data\n",
    "features = pd.DataFrame(red_test)\n",
    "features = features.values\n",
    "target = red_df['disease']\n",
    "#splitting the data to train and test\n",
    "Ftrain,Ftest,Ltrain,Ltest=train_test_split(features,target, test_size=0.20, random_state=24)"
   ]
  },
  {
   "cell_type": "code",
   "execution_count": 35,
   "id": "20f194d0",
   "metadata": {},
   "outputs": [],
   "source": [
    "#applying normalizer scale on Ftrain and Ftest\n",
    "Ftrain = norm.fit_transform(Ftrain)\n",
    "Ftest = norm.fit_transform(Ftest)"
   ]
  },
  {
   "cell_type": "markdown",
   "id": "c81dd4d2",
   "metadata": {},
   "source": [
    "# SVM(poly) on Red data"
   ]
  },
  {
   "cell_type": "code",
   "execution_count": 36,
   "id": "a9cb2e28",
   "metadata": {},
   "outputs": [
    {
     "name": "stdout",
     "output_type": "stream",
     "text": [
      "0.512280701754386\n"
     ]
    }
   ],
   "source": [
    "svm_poly.fit(Ftrain,Ltrain)\n",
    "y_pred = svm_poly.predict(Ftest)\n",
    "print(accuracy_score(Ltest,y_pred))"
   ]
  },
  {
   "cell_type": "code",
   "execution_count": 37,
   "id": "35b2ceaf",
   "metadata": {},
   "outputs": [
    {
     "name": "stdout",
     "output_type": "stream",
     "text": [
      "                               precision    recall  f1-score   support\n",
      "\n",
      "               bacterial_spot       0.54      0.66      0.60       115\n",
      "                 early_blight       0.39      0.42      0.41       120\n",
      "                      healthy       0.68      0.70      0.69       125\n",
      "                  late_blight       0.48      0.50      0.49       125\n",
      "                    leaf_mold       0.53      0.52      0.52       127\n",
      "           septoria_leaf_spot       0.36      0.33      0.35       117\n",
      "                  target_spot       0.52      0.49      0.50       115\n",
      "          tomato_mosaic_virus       0.50      0.57      0.53        54\n",
      "tomato_yellow_leaf_curl_virus       0.55      0.47      0.51       114\n",
      "      two-spotted_spider_mite       0.56      0.48      0.52       128\n",
      "\n",
      "                     accuracy                           0.51      1140\n",
      "                    macro avg       0.51      0.52      0.51      1140\n",
      "                 weighted avg       0.51      0.51      0.51      1140\n",
      "\n",
      "[[76  7  5  4  0 10  4  0  8  1]\n",
      " [14 51  3 10  8  7 11  1  9  6]\n",
      " [ 1  5 87  7  8  9  2  0  2  4]\n",
      " [10 13  8 63 11 10  1  1  5  3]\n",
      " [ 2  8  4 18 66 12  3  6  5  3]\n",
      " [16 13  7 13 12 39  6  3  5  3]\n",
      " [ 7 13  7  2  8  8 56  0  1 13]\n",
      " [ 0  2  0  4  2  1  2 31  6  6]\n",
      " [12  7  2  9 10  6  2  4 54  8]\n",
      " [ 2 12  5  2  0  7 20 16  3 61]]\n"
     ]
    }
   ],
   "source": [
    "#classification report\n",
    "y_predict = svm_poly.fit(Ftrain, Ltrain).predict(Ftest)\n",
    "class_names = target.unique()\n",
    "print(classification_report(Ltest, y_predict, target_names=class_names))\n",
    "print(confusion_matrix(Ltest, y_predict))"
   ]
  },
  {
   "cell_type": "markdown",
   "id": "bcdfb873",
   "metadata": {},
   "source": [
    "# SVM(RBF) on Red data"
   ]
  },
  {
   "cell_type": "code",
   "execution_count": 38,
   "id": "5e806290",
   "metadata": {},
   "outputs": [
    {
     "name": "stdout",
     "output_type": "stream",
     "text": [
      "0.5701754385964912\n"
     ]
    }
   ],
   "source": [
    "svm_rbf.fit(Ftrain,Ltrain)\n",
    "y_pred = svm_rbf.predict(Ftest)\n",
    "print(accuracy_score(Ltest,y_pred))"
   ]
  },
  {
   "cell_type": "code",
   "execution_count": 39,
   "id": "e613add4",
   "metadata": {},
   "outputs": [
    {
     "name": "stdout",
     "output_type": "stream",
     "text": [
      "                               precision    recall  f1-score   support\n",
      "\n",
      "               bacterial_spot       0.69      0.53      0.60       115\n",
      "                 early_blight       0.44      0.39      0.41       120\n",
      "                      healthy       0.66      0.84      0.74       125\n",
      "                  late_blight       0.62      0.62      0.62       125\n",
      "                    leaf_mold       0.67      0.59      0.63       127\n",
      "           septoria_leaf_spot       0.43      0.42      0.42       117\n",
      "                  target_spot       0.54      0.58      0.56       115\n",
      "          tomato_mosaic_virus       0.48      0.69      0.56        54\n",
      "tomato_yellow_leaf_curl_virus       0.56      0.53      0.54       114\n",
      "      two-spotted_spider_mite       0.57      0.55      0.56       128\n",
      "\n",
      "                     accuracy                           0.57      1140\n",
      "                    macro avg       0.57      0.57      0.57      1140\n",
      "                 weighted avg       0.57      0.57      0.57      1140\n",
      "\n",
      "[[ 61   3  10   6   1  14  10   0   9   1]\n",
      " [ 14  47   5   8   6   8  16   2   6   8]\n",
      " [  0   1 105   3   1   8   2   0   4   1]\n",
      " [  4  11   9  78   4  10   1   1   5   2]\n",
      " [  1   6   8  13  75   8   5   2   3   6]\n",
      " [  2   7   9   7  14  49   9   6   8   6]\n",
      " [  0  13   6   3   3   1  67   3   3  16]\n",
      " [  0   2   0   0   3   2   0  37   4   6]\n",
      " [  6   6   4   8   3   7   2  10  60   8]\n",
      " [  1  12   2   0   2   7  12  16   5  71]]\n"
     ]
    }
   ],
   "source": [
    "#classification report\n",
    "y_predict = svm_rbf.fit(Ftrain, Ltrain).predict(Ftest)\n",
    "class_names = target.unique()\n",
    "print(classification_report(Ltest, y_predict, target_names=class_names))\n",
    "print(confusion_matrix(Ltest, y_predict))"
   ]
  },
  {
   "cell_type": "markdown",
   "id": "558a44ca",
   "metadata": {},
   "source": [
    "# SVM(sigmoid) on Red data"
   ]
  },
  {
   "cell_type": "code",
   "execution_count": 40,
   "id": "dfde7ca8",
   "metadata": {},
   "outputs": [
    {
     "name": "stdout",
     "output_type": "stream",
     "text": [
      "0.1\n"
     ]
    }
   ],
   "source": [
    "svm_si.fit(Ftrain,Ltrain)\n",
    "y_pred = svm_si.predict(Ftest)\n",
    "print(accuracy_score(Ltest,y_pred))"
   ]
  },
  {
   "cell_type": "code",
   "execution_count": 41,
   "id": "b58142f8",
   "metadata": {},
   "outputs": [
    {
     "name": "stdout",
     "output_type": "stream",
     "text": [
      "                               precision    recall  f1-score   support\n",
      "\n",
      "               bacterial_spot       0.00      0.00      0.00       115\n",
      "                 early_blight       0.00      0.00      0.00       120\n",
      "                      healthy       0.00      0.00      0.00       125\n",
      "                  late_blight       0.00      0.00      0.00       125\n",
      "                    leaf_mold       0.00      0.00      0.00       127\n",
      "           septoria_leaf_spot       0.00      0.00      0.00       117\n",
      "                  target_spot       0.00      0.00      0.00       115\n",
      "          tomato_mosaic_virus       0.00      0.00      0.00        54\n",
      "tomato_yellow_leaf_curl_virus       0.10      1.00      0.18       114\n",
      "      two-spotted_spider_mite       0.00      0.00      0.00       128\n",
      "\n",
      "                     accuracy                           0.10      1140\n",
      "                    macro avg       0.01      0.10      0.02      1140\n",
      "                 weighted avg       0.01      0.10      0.02      1140\n",
      "\n",
      "[[  0   0   0   0   0   0   0   0 115   0]\n",
      " [  0   0   0   0   0   0   0   0 120   0]\n",
      " [  0   0   0   0   0   0   0   0 125   0]\n",
      " [  0   0   2   0   0   0   1   0 122   0]\n",
      " [  0   0   0   0   0   0   0   0 127   0]\n",
      " [  0   0   0   0   0   0   0   0 117   0]\n",
      " [  0   0   0   0   0   0   0   0 115   0]\n",
      " [  0   0   0   0   0   0   0   0  54   0]\n",
      " [  0   0   0   0   0   0   0   0 114   0]\n",
      " [  0   0   0   0   0   0   0   0 128   0]]\n"
     ]
    },
    {
     "name": "stderr",
     "output_type": "stream",
     "text": [
      "C:\\Users\\ravic\\anaconda3\\lib\\site-packages\\sklearn\\metrics\\_classification.py:1248: UndefinedMetricWarning: Precision and F-score are ill-defined and being set to 0.0 in labels with no predicted samples. Use `zero_division` parameter to control this behavior.\n",
      "  _warn_prf(average, modifier, msg_start, len(result))\n",
      "C:\\Users\\ravic\\anaconda3\\lib\\site-packages\\sklearn\\metrics\\_classification.py:1248: UndefinedMetricWarning: Precision and F-score are ill-defined and being set to 0.0 in labels with no predicted samples. Use `zero_division` parameter to control this behavior.\n",
      "  _warn_prf(average, modifier, msg_start, len(result))\n",
      "C:\\Users\\ravic\\anaconda3\\lib\\site-packages\\sklearn\\metrics\\_classification.py:1248: UndefinedMetricWarning: Precision and F-score are ill-defined and being set to 0.0 in labels with no predicted samples. Use `zero_division` parameter to control this behavior.\n",
      "  _warn_prf(average, modifier, msg_start, len(result))\n"
     ]
    }
   ],
   "source": [
    "#classification report\n",
    "y_predict = svm_si.fit(Ftrain, Ltrain).predict(Ftest)\n",
    "class_names = target.unique()\n",
    "print(classification_report(Ltest, y_predict, target_names=class_names))\n",
    "print(confusion_matrix(Ltest, y_predict))"
   ]
  },
  {
   "cell_type": "markdown",
   "id": "5a175c93",
   "metadata": {},
   "source": [
    "# Bernouli Naive bayes on Red data"
   ]
  },
  {
   "cell_type": "code",
   "execution_count": 42,
   "id": "d65fa897",
   "metadata": {},
   "outputs": [
    {
     "data": {
      "text/plain": [
       "0.13333333333333333"
      ]
     },
     "execution_count": 42,
     "metadata": {},
     "output_type": "execute_result"
    }
   ],
   "source": [
    "bnb.fit(Ftrain, Ltrain)\n",
    "y_pred = bnb.predict(Ftest)\n",
    "metrics.accuracy_score(Ltest, y_pred)"
   ]
  },
  {
   "cell_type": "code",
   "execution_count": 43,
   "id": "bdadbf8a",
   "metadata": {},
   "outputs": [
    {
     "name": "stdout",
     "output_type": "stream",
     "text": [
      "                               precision    recall  f1-score   support\n",
      "\n",
      "               bacterial_spot       0.12      0.99      0.22       115\n",
      "                 early_blight       0.25      0.03      0.06       120\n",
      "                      healthy       0.04      0.01      0.01       125\n",
      "                  late_blight       1.00      0.03      0.06       125\n",
      "                    leaf_mold       0.42      0.06      0.11       127\n",
      "           septoria_leaf_spot       0.12      0.02      0.03       117\n",
      "                  target_spot       0.18      0.04      0.07       115\n",
      "          tomato_mosaic_virus       0.15      0.06      0.08        54\n",
      "tomato_yellow_leaf_curl_virus       0.16      0.06      0.09       114\n",
      "      two-spotted_spider_mite       0.11      0.03      0.05       128\n",
      "\n",
      "                     accuracy                           0.13      1140\n",
      "                    macro avg       0.26      0.13      0.08      1140\n",
      "                 weighted avg       0.27      0.13      0.08      1140\n",
      "\n",
      "[[114   0   0   0   0   0   0   0   1   0]\n",
      " [ 95   4   1   0   5   4   3   4   2   2]\n",
      " [116   2   1   0   0   1   1   1   3   0]\n",
      " [108   2   4   4   0   2   2   1   1   1]\n",
      " [ 86   0   5   0   8   2   9   3   4  10]\n",
      " [ 94   3   1   0   2   2   0   4   5   6]\n",
      " [ 83   4   6   0   1   4   5   3   4   5]\n",
      " [ 26   0   5   0   2   0   6   3   8   4]\n",
      " [ 98   0   1   0   1   2   1   0   7   4]\n",
      " [112   1   1   0   0   0   1   1   8   4]]\n"
     ]
    }
   ],
   "source": [
    "class_names = target.unique()\n",
    "print(classification_report(Ltest, y_pred, target_names=class_names))\n",
    "print(confusion_matrix(Ltest, y_pred))"
   ]
  },
  {
   "cell_type": "markdown",
   "id": "39255a27",
   "metadata": {},
   "source": [
    "# Multinomial Naive bayes on Red data"
   ]
  },
  {
   "cell_type": "code",
   "execution_count": 44,
   "id": "437843bc",
   "metadata": {},
   "outputs": [
    {
     "data": {
      "text/plain": [
       "0.13333333333333333"
      ]
     },
     "execution_count": 44,
     "metadata": {},
     "output_type": "execute_result"
    }
   ],
   "source": [
    "mnb.fit(Ftrain, Ltrain)\n",
    "y_pred = mnb.predict(Ftest)\n",
    "metrics.accuracy_score(Ltest, y_pred)"
   ]
  },
  {
   "cell_type": "code",
   "execution_count": 45,
   "id": "2bcb0431",
   "metadata": {},
   "outputs": [
    {
     "name": "stdout",
     "output_type": "stream",
     "text": [
      "                               precision    recall  f1-score   support\n",
      "\n",
      "               bacterial_spot       0.12      0.99      0.22       115\n",
      "                 early_blight       0.25      0.03      0.06       120\n",
      "                      healthy       0.04      0.01      0.01       125\n",
      "                  late_blight       1.00      0.03      0.06       125\n",
      "                    leaf_mold       0.42      0.06      0.11       127\n",
      "           septoria_leaf_spot       0.12      0.02      0.03       117\n",
      "                  target_spot       0.18      0.04      0.07       115\n",
      "          tomato_mosaic_virus       0.15      0.06      0.08        54\n",
      "tomato_yellow_leaf_curl_virus       0.16      0.06      0.09       114\n",
      "      two-spotted_spider_mite       0.11      0.03      0.05       128\n",
      "\n",
      "                     accuracy                           0.13      1140\n",
      "                    macro avg       0.26      0.13      0.08      1140\n",
      "                 weighted avg       0.27      0.13      0.08      1140\n",
      "\n",
      "[[114   0   0   0   0   0   0   0   1   0]\n",
      " [ 95   4   1   0   5   4   3   4   2   2]\n",
      " [116   2   1   0   0   1   1   1   3   0]\n",
      " [108   2   4   4   0   2   2   1   1   1]\n",
      " [ 86   0   5   0   8   2   9   3   4  10]\n",
      " [ 94   3   1   0   2   2   0   4   5   6]\n",
      " [ 83   4   6   0   1   4   5   3   4   5]\n",
      " [ 26   0   5   0   2   0   6   3   8   4]\n",
      " [ 98   0   1   0   1   2   1   0   7   4]\n",
      " [112   1   1   0   0   0   1   1   8   4]]\n"
     ]
    }
   ],
   "source": [
    "class_names = target.unique()\n",
    "print(classification_report(Ltest, y_pred, target_names=class_names))\n",
    "print(confusion_matrix(Ltest, y_pred))"
   ]
  },
  {
   "cell_type": "markdown",
   "id": "11e4cd00",
   "metadata": {},
   "source": [
    "# Green channel data"
   ]
  },
  {
   "cell_type": "code",
   "execution_count": 46,
   "id": "40feb467",
   "metadata": {},
   "outputs": [],
   "source": [
    "#reading numpy array data\n",
    "green_test = np.load('green_data.npy')\n",
    "#reading csv file\n",
    "green_df = pd.read_csv('green_data.csv')\n",
    "#assigning features and target to split the data\n",
    "features = pd.DataFrame(green_test)\n",
    "features = features.values\n",
    "target = green_df['disease']\n",
    "#splitting the data to train and test\n",
    "Ftrain,Ftest,Ltrain,Ltest=train_test_split(features,target, test_size=0.20, random_state=24)"
   ]
  },
  {
   "cell_type": "code",
   "execution_count": 47,
   "id": "f51b311e",
   "metadata": {},
   "outputs": [],
   "source": [
    "#applying normalizer scale on Ftrain and Ftest\n",
    "Ftrain = norm.fit_transform(Ftrain)\n",
    "Ftest = norm.fit_transform(Ftest)"
   ]
  },
  {
   "cell_type": "markdown",
   "id": "9aa0bc22",
   "metadata": {},
   "source": [
    "# SVM(poly) on green data"
   ]
  },
  {
   "cell_type": "code",
   "execution_count": 48,
   "id": "fe39c65e",
   "metadata": {},
   "outputs": [
    {
     "name": "stdout",
     "output_type": "stream",
     "text": [
      "0.4982456140350877\n"
     ]
    }
   ],
   "source": [
    "svm_poly.fit(Ftrain,Ltrain)\n",
    "y_pred = svm_poly.predict(Ftest)\n",
    "print(accuracy_score(Ltest,y_pred))"
   ]
  },
  {
   "cell_type": "code",
   "execution_count": 49,
   "id": "8423b846",
   "metadata": {},
   "outputs": [
    {
     "name": "stdout",
     "output_type": "stream",
     "text": [
      "                               precision    recall  f1-score   support\n",
      "\n",
      "               bacterial_spot       0.59      0.63      0.61       115\n",
      "                 early_blight       0.44      0.51      0.47       120\n",
      "                      healthy       0.65      0.62      0.64       125\n",
      "                  late_blight       0.49      0.55      0.52       125\n",
      "                    leaf_mold       0.48      0.51      0.49       127\n",
      "           septoria_leaf_spot       0.32      0.32      0.32       117\n",
      "                  target_spot       0.47      0.46      0.47       115\n",
      "          tomato_mosaic_virus       0.45      0.33      0.38        54\n",
      "tomato_yellow_leaf_curl_virus       0.54      0.48      0.51       114\n",
      "      two-spotted_spider_mite       0.53      0.46      0.49       128\n",
      "\n",
      "                     accuracy                           0.50      1140\n",
      "                    macro avg       0.50      0.49      0.49      1140\n",
      "                 weighted avg       0.50      0.50      0.50      1140\n",
      "\n",
      "[[73  5  5  3  5 10  3  1  6  4]\n",
      " [ 9 61  2  9  7  5 14  1  7  5]\n",
      " [ 2  4 78  6  7 14  6  0  2  6]\n",
      " [ 6 14  8 69  8  8  3  0  6  3]\n",
      " [ 2  9  3 20 65 10  4  3  7  4]\n",
      " [10  9 14 14 17 37  6  3  6  1]\n",
      " [ 5 10  7  4  9  5 53  0  4 18]\n",
      " [ 2  1  0  4  9 12  2 18  1  5]\n",
      " [11 10  1  9  4  8  4  5 55  7]\n",
      " [ 3 16  2  3  5  6 17  9  8 59]]\n"
     ]
    }
   ],
   "source": [
    "#classification report\n",
    "y_predict = svm_poly.fit(Ftrain, Ltrain).predict(Ftest)\n",
    "class_names = target.unique()\n",
    "print(classification_report(Ltest, y_predict, target_names=class_names))\n",
    "print(confusion_matrix(Ltest, y_predict))"
   ]
  },
  {
   "cell_type": "markdown",
   "id": "6112d4e4",
   "metadata": {},
   "source": [
    "# SVM(RBF) on green data"
   ]
  },
  {
   "cell_type": "code",
   "execution_count": 50,
   "id": "69be936f",
   "metadata": {},
   "outputs": [
    {
     "name": "stdout",
     "output_type": "stream",
     "text": [
      "0.5614035087719298\n"
     ]
    }
   ],
   "source": [
    "svm_rbf.fit(Ftrain,Ltrain)\n",
    "y_pred = svm_rbf.predict(Ftest)\n",
    "print(accuracy_score(Ltest,y_pred))"
   ]
  },
  {
   "cell_type": "code",
   "execution_count": 51,
   "id": "81b4c571",
   "metadata": {},
   "outputs": [
    {
     "name": "stdout",
     "output_type": "stream",
     "text": [
      "                               precision    recall  f1-score   support\n",
      "\n",
      "               bacterial_spot       0.74      0.63      0.68       115\n",
      "                 early_blight       0.42      0.42      0.42       120\n",
      "                      healthy       0.66      0.78      0.72       125\n",
      "                  late_blight       0.62      0.56      0.59       125\n",
      "                    leaf_mold       0.60      0.61      0.61       127\n",
      "           septoria_leaf_spot       0.38      0.44      0.41       117\n",
      "                  target_spot       0.57      0.57      0.57       115\n",
      "          tomato_mosaic_virus       0.43      0.37      0.40        54\n",
      "tomato_yellow_leaf_curl_virus       0.55      0.54      0.55       114\n",
      "      two-spotted_spider_mite       0.59      0.57      0.58       128\n",
      "\n",
      "                     accuracy                           0.56      1140\n",
      "                    macro avg       0.56      0.55      0.55      1140\n",
      "                 weighted avg       0.57      0.56      0.56      1140\n",
      "\n",
      "[[72  3 10  3  5 12  0  1  8  1]\n",
      " [11 51  4 10  9  8  8  0  7 12]\n",
      " [ 1  2 97  3  2 11  7  0  2  0]\n",
      " [ 2 13  7 70  7 12  2  1  8  3]\n",
      " [ 1  7  3 11 78  8  6  3  5  5]\n",
      " [ 3  5 12  5 15 52  9  4 10  2]\n",
      " [ 1 14  7  3  2  4 65  1  3 15]\n",
      " [ 0  1  0  1  5 15  1 20  6  5]\n",
      " [ 6 10  4  6  2  9  4  4 62  7]\n",
      " [ 0 14  2  1  5  6 12 13  2 73]]\n"
     ]
    }
   ],
   "source": [
    "#classification report\n",
    "y_predict = svm_rbf.fit(Ftrain, Ltrain).predict(Ftest)\n",
    "class_names = target.unique()\n",
    "print(classification_report(Ltest, y_predict, target_names=class_names))\n",
    "print(confusion_matrix(Ltest, y_predict))"
   ]
  },
  {
   "cell_type": "markdown",
   "id": "662d1937",
   "metadata": {},
   "source": [
    "# SVM(sigmoid) on green data"
   ]
  },
  {
   "cell_type": "code",
   "execution_count": 52,
   "id": "7f6adcca",
   "metadata": {},
   "outputs": [
    {
     "name": "stdout",
     "output_type": "stream",
     "text": [
      "0.1\n"
     ]
    }
   ],
   "source": [
    "svm_si.fit(Ftrain,Ltrain)\n",
    "y_pred = svm_si.predict(Ftest)\n",
    "print(accuracy_score(Ltest,y_pred))"
   ]
  },
  {
   "cell_type": "code",
   "execution_count": 53,
   "id": "251d68f3",
   "metadata": {},
   "outputs": [
    {
     "name": "stdout",
     "output_type": "stream",
     "text": [
      "                               precision    recall  f1-score   support\n",
      "\n",
      "               bacterial_spot       0.00      0.00      0.00       115\n",
      "                 early_blight       0.00      0.00      0.00       120\n",
      "                      healthy       0.00      0.00      0.00       125\n",
      "                  late_blight       0.00      0.00      0.00       125\n",
      "                    leaf_mold       0.00      0.00      0.00       127\n",
      "           septoria_leaf_spot       0.00      0.00      0.00       117\n",
      "                  target_spot       0.00      0.00      0.00       115\n",
      "          tomato_mosaic_virus       0.00      0.00      0.00        54\n",
      "tomato_yellow_leaf_curl_virus       0.10      1.00      0.18       114\n",
      "      two-spotted_spider_mite       0.00      0.00      0.00       128\n",
      "\n",
      "                     accuracy                           0.10      1140\n",
      "                    macro avg       0.01      0.10      0.02      1140\n",
      "                 weighted avg       0.01      0.10      0.02      1140\n",
      "\n",
      "[[  0   0   0   0   0   0   0   0 115   0]\n",
      " [  0   0   0   0   0   0   0   0 120   0]\n",
      " [  0   0   0   0   0   0   0   0 125   0]\n",
      " [  0   0   0   0   0   0   0   0 125   0]\n",
      " [  0   0   0   0   0   0   0   0 127   0]\n",
      " [  0   0   0   0   0   0   0   0 117   0]\n",
      " [  0   0   0   0   0   0   0   0 115   0]\n",
      " [  0   0   0   0   0   0   0   0  54   0]\n",
      " [  0   0   0   0   0   0   0   0 114   0]\n",
      " [  0   0   0   0   0   0   0   0 128   0]]\n"
     ]
    },
    {
     "name": "stderr",
     "output_type": "stream",
     "text": [
      "C:\\Users\\ravic\\anaconda3\\lib\\site-packages\\sklearn\\metrics\\_classification.py:1248: UndefinedMetricWarning: Precision and F-score are ill-defined and being set to 0.0 in labels with no predicted samples. Use `zero_division` parameter to control this behavior.\n",
      "  _warn_prf(average, modifier, msg_start, len(result))\n",
      "C:\\Users\\ravic\\anaconda3\\lib\\site-packages\\sklearn\\metrics\\_classification.py:1248: UndefinedMetricWarning: Precision and F-score are ill-defined and being set to 0.0 in labels with no predicted samples. Use `zero_division` parameter to control this behavior.\n",
      "  _warn_prf(average, modifier, msg_start, len(result))\n",
      "C:\\Users\\ravic\\anaconda3\\lib\\site-packages\\sklearn\\metrics\\_classification.py:1248: UndefinedMetricWarning: Precision and F-score are ill-defined and being set to 0.0 in labels with no predicted samples. Use `zero_division` parameter to control this behavior.\n",
      "  _warn_prf(average, modifier, msg_start, len(result))\n"
     ]
    }
   ],
   "source": [
    "#classification report\n",
    "y_predict = svm_si.fit(Ftrain, Ltrain).predict(Ftest)\n",
    "class_names = target.unique()\n",
    "print(classification_report(Ltest, y_predict, target_names=class_names))\n",
    "print(confusion_matrix(Ltest, y_predict))"
   ]
  },
  {
   "cell_type": "markdown",
   "id": "8aa412dd",
   "metadata": {},
   "source": [
    "# Bernouli Naive bayes on green data"
   ]
  },
  {
   "cell_type": "code",
   "execution_count": 54,
   "id": "b6622b8d",
   "metadata": {},
   "outputs": [
    {
     "data": {
      "text/plain": [
       "0.12894736842105264"
      ]
     },
     "execution_count": 54,
     "metadata": {},
     "output_type": "execute_result"
    }
   ],
   "source": [
    "bnb.fit(Ftrain, Ltrain)\n",
    "y_pred = bnb.predict(Ftest)\n",
    "metrics.accuracy_score(Ltest, y_pred)"
   ]
  },
  {
   "cell_type": "code",
   "execution_count": 55,
   "id": "f3c6b16f",
   "metadata": {},
   "outputs": [
    {
     "name": "stdout",
     "output_type": "stream",
     "text": [
      "                               precision    recall  f1-score   support\n",
      "\n",
      "               bacterial_spot       0.11      1.00      0.20       115\n",
      "                 early_blight       0.53      0.08      0.14       120\n",
      "                      healthy       0.36      0.04      0.07       125\n",
      "                  late_blight       1.00      0.02      0.05       125\n",
      "                    leaf_mold       0.35      0.06      0.10       127\n",
      "           septoria_leaf_spot       0.30      0.03      0.05       117\n",
      "                  target_spot       0.10      0.02      0.03       115\n",
      "          tomato_mosaic_virus       0.06      0.02      0.03        54\n",
      "tomato_yellow_leaf_curl_virus       0.00      0.00      0.00       114\n",
      "      two-spotted_spider_mite       0.17      0.01      0.01       128\n",
      "\n",
      "                     accuracy                           0.13      1140\n",
      "                    macro avg       0.30      0.13      0.07      1140\n",
      "                 weighted avg       0.32      0.13      0.07      1140\n",
      "\n",
      "[[115   0   0   0   0   0   0   0   0   0]\n",
      " [ 84  10   2   0   6   0   7  10   0   1]\n",
      " [114   2   5   0   1   1   2   0   0   0]\n",
      " [113   2   0   3   2   0   1   3   0   1]\n",
      " [104   2   2   0   7   4   4   3   0   1]\n",
      " [ 99   3   2   0   4   3   4   1   0   1]\n",
      " [112   0   0   0   0   0   2   0   0   1]\n",
      " [ 47   0   3   0   0   2   1   1   0   0]\n",
      " [114   0   0   0   0   0   0   0   0   0]\n",
      " [127   0   0   0   0   0   0   0   0   1]]\n"
     ]
    },
    {
     "name": "stderr",
     "output_type": "stream",
     "text": [
      "C:\\Users\\ravic\\anaconda3\\lib\\site-packages\\sklearn\\metrics\\_classification.py:1248: UndefinedMetricWarning: Precision and F-score are ill-defined and being set to 0.0 in labels with no predicted samples. Use `zero_division` parameter to control this behavior.\n",
      "  _warn_prf(average, modifier, msg_start, len(result))\n",
      "C:\\Users\\ravic\\anaconda3\\lib\\site-packages\\sklearn\\metrics\\_classification.py:1248: UndefinedMetricWarning: Precision and F-score are ill-defined and being set to 0.0 in labels with no predicted samples. Use `zero_division` parameter to control this behavior.\n",
      "  _warn_prf(average, modifier, msg_start, len(result))\n",
      "C:\\Users\\ravic\\anaconda3\\lib\\site-packages\\sklearn\\metrics\\_classification.py:1248: UndefinedMetricWarning: Precision and F-score are ill-defined and being set to 0.0 in labels with no predicted samples. Use `zero_division` parameter to control this behavior.\n",
      "  _warn_prf(average, modifier, msg_start, len(result))\n"
     ]
    }
   ],
   "source": [
    "class_names = target.unique()\n",
    "print(classification_report(Ltest, y_pred, target_names=class_names))\n",
    "print(confusion_matrix(Ltest, y_pred))"
   ]
  },
  {
   "cell_type": "markdown",
   "id": "d144692e",
   "metadata": {},
   "source": [
    "# Multinomial Naive bayes on Green data"
   ]
  },
  {
   "cell_type": "code",
   "execution_count": 56,
   "id": "a7a34c33",
   "metadata": {},
   "outputs": [
    {
     "data": {
      "text/plain": [
       "0.12894736842105264"
      ]
     },
     "execution_count": 56,
     "metadata": {},
     "output_type": "execute_result"
    }
   ],
   "source": [
    "mnb.fit(Ftrain, Ltrain)\n",
    "y_pred = mnb.predict(Ftest)\n",
    "metrics.accuracy_score(Ltest, y_pred)"
   ]
  },
  {
   "cell_type": "code",
   "execution_count": 57,
   "id": "441ea45d",
   "metadata": {},
   "outputs": [
    {
     "name": "stdout",
     "output_type": "stream",
     "text": [
      "                               precision    recall  f1-score   support\n",
      "\n",
      "               bacterial_spot       0.11      1.00      0.20       115\n",
      "                 early_blight       0.53      0.08      0.14       120\n",
      "                      healthy       0.36      0.04      0.07       125\n",
      "                  late_blight       1.00      0.02      0.05       125\n",
      "                    leaf_mold       0.35      0.06      0.10       127\n",
      "           septoria_leaf_spot       0.30      0.03      0.05       117\n",
      "                  target_spot       0.10      0.02      0.03       115\n",
      "          tomato_mosaic_virus       0.06      0.02      0.03        54\n",
      "tomato_yellow_leaf_curl_virus       0.00      0.00      0.00       114\n",
      "      two-spotted_spider_mite       0.17      0.01      0.01       128\n",
      "\n",
      "                     accuracy                           0.13      1140\n",
      "                    macro avg       0.30      0.13      0.07      1140\n",
      "                 weighted avg       0.32      0.13      0.07      1140\n",
      "\n",
      "[[115   0   0   0   0   0   0   0   0   0]\n",
      " [ 84  10   2   0   6   0   7  10   0   1]\n",
      " [114   2   5   0   1   1   2   0   0   0]\n",
      " [113   2   0   3   2   0   1   3   0   1]\n",
      " [104   2   2   0   7   4   4   3   0   1]\n",
      " [ 99   3   2   0   4   3   4   1   0   1]\n",
      " [112   0   0   0   0   0   2   0   0   1]\n",
      " [ 47   0   3   0   0   2   1   1   0   0]\n",
      " [114   0   0   0   0   0   0   0   0   0]\n",
      " [127   0   0   0   0   0   0   0   0   1]]\n"
     ]
    },
    {
     "name": "stderr",
     "output_type": "stream",
     "text": [
      "C:\\Users\\ravic\\anaconda3\\lib\\site-packages\\sklearn\\metrics\\_classification.py:1248: UndefinedMetricWarning: Precision and F-score are ill-defined and being set to 0.0 in labels with no predicted samples. Use `zero_division` parameter to control this behavior.\n",
      "  _warn_prf(average, modifier, msg_start, len(result))\n",
      "C:\\Users\\ravic\\anaconda3\\lib\\site-packages\\sklearn\\metrics\\_classification.py:1248: UndefinedMetricWarning: Precision and F-score are ill-defined and being set to 0.0 in labels with no predicted samples. Use `zero_division` parameter to control this behavior.\n",
      "  _warn_prf(average, modifier, msg_start, len(result))\n",
      "C:\\Users\\ravic\\anaconda3\\lib\\site-packages\\sklearn\\metrics\\_classification.py:1248: UndefinedMetricWarning: Precision and F-score are ill-defined and being set to 0.0 in labels with no predicted samples. Use `zero_division` parameter to control this behavior.\n",
      "  _warn_prf(average, modifier, msg_start, len(result))\n"
     ]
    }
   ],
   "source": [
    "class_names = target.unique()\n",
    "print(classification_report(Ltest, y_pred, target_names=class_names))\n",
    "print(confusion_matrix(Ltest, y_pred))"
   ]
  },
  {
   "cell_type": "markdown",
   "id": "a6a80ecb",
   "metadata": {},
   "source": [
    "# Blue channel data"
   ]
  },
  {
   "cell_type": "code",
   "execution_count": 58,
   "id": "06094596",
   "metadata": {},
   "outputs": [],
   "source": [
    "#reading numpy array data\n",
    "blue_test = np.load('blue_data.npy')\n",
    "#reading csv file\n",
    "blue_df = pd.read_csv('blue_data.csv')\n",
    "#assigning features and target to split the data\n",
    "features = pd.DataFrame(blue_test)\n",
    "features = features.values\n",
    "target = blue_df['disease']\n",
    "#splitting the data to train and test\n",
    "Ftrain,Ftest,Ltrain,Ltest=train_test_split(features,target, test_size=0.20, random_state=24)"
   ]
  },
  {
   "cell_type": "code",
   "execution_count": 59,
   "id": "b6b2ea4c",
   "metadata": {},
   "outputs": [],
   "source": [
    "#applying normalizer scale on Ftrain and Ftest\n",
    "Ftrain = norm.fit_transform(Ftrain)\n",
    "Ftest = norm.fit_transform(Ftest)"
   ]
  },
  {
   "cell_type": "markdown",
   "id": "4d40997b",
   "metadata": {},
   "source": [
    "# SVM(poly) on blue data"
   ]
  },
  {
   "cell_type": "code",
   "execution_count": 60,
   "id": "39b88095",
   "metadata": {},
   "outputs": [
    {
     "name": "stdout",
     "output_type": "stream",
     "text": [
      "0.5333333333333333\n"
     ]
    }
   ],
   "source": [
    "svm_poly.fit(Ftrain,Ltrain)\n",
    "y_pred = svm_poly.predict(Ftest)\n",
    "print(accuracy_score(Ltest,y_pred))"
   ]
  },
  {
   "cell_type": "code",
   "execution_count": 61,
   "id": "dc98d740",
   "metadata": {},
   "outputs": [
    {
     "name": "stdout",
     "output_type": "stream",
     "text": [
      "                               precision    recall  f1-score   support\n",
      "\n",
      "               bacterial_spot       0.52      0.73      0.61       115\n",
      "                 early_blight       0.33      0.34      0.33       120\n",
      "                      healthy       0.72      0.69      0.70       125\n",
      "                  late_blight       0.51      0.56      0.53       125\n",
      "                    leaf_mold       0.61      0.59      0.60       127\n",
      "           septoria_leaf_spot       0.43      0.35      0.39       117\n",
      "                  target_spot       0.46      0.43      0.44       115\n",
      "          tomato_mosaic_virus       0.50      0.48      0.49        54\n",
      "tomato_yellow_leaf_curl_virus       0.67      0.61      0.64       114\n",
      "      two-spotted_spider_mite       0.56      0.52      0.54       128\n",
      "\n",
      "                     accuracy                           0.53      1140\n",
      "                    macro avg       0.53      0.53      0.53      1140\n",
      "                 weighted avg       0.54      0.53      0.53      1140\n",
      "\n",
      "[[84  6  1  4  2  7  3  0  6  2]\n",
      " [13 41  5 15  8  6  8  0 14 10]\n",
      " [ 4  8 86  6  3  0 13  0  0  5]\n",
      " [10 13 12 70  7  6  2  1  0  4]\n",
      " [ 6  9  0 13 75 10  3  3  2  6]\n",
      " [18  4  3 12 16 41  6  6  7  4]\n",
      " [15 19  8  4  6  4 49  1  2  7]\n",
      " [ 0  0  0  6  3  8  1 26  3  7]\n",
      " [ 7 15  1  2  1  9  0  2 70  7]\n",
      " [ 4 10  3  5  2  4 21 13  0 66]]\n"
     ]
    }
   ],
   "source": [
    "#classification report\n",
    "y_predict = svm_poly.fit(Ftrain, Ltrain).predict(Ftest)\n",
    "class_names = target.unique()\n",
    "print(classification_report(Ltest, y_predict, target_names=class_names))\n",
    "print(confusion_matrix(Ltest, y_predict))"
   ]
  },
  {
   "cell_type": "markdown",
   "id": "5226f4f2",
   "metadata": {},
   "source": [
    "# SVM(RBF) on blue data"
   ]
  },
  {
   "cell_type": "code",
   "execution_count": 62,
   "id": "183a5680",
   "metadata": {},
   "outputs": [
    {
     "name": "stdout",
     "output_type": "stream",
     "text": [
      "0.5894736842105263\n"
     ]
    }
   ],
   "source": [
    "svm_rbf.fit(Ftrain,Ltrain)\n",
    "y_pred = svm_rbf.predict(Ftest)\n",
    "print(accuracy_score(Ltest,y_pred))"
   ]
  },
  {
   "cell_type": "code",
   "execution_count": 63,
   "id": "22270861",
   "metadata": {},
   "outputs": [
    {
     "name": "stdout",
     "output_type": "stream",
     "text": [
      "                               precision    recall  f1-score   support\n",
      "\n",
      "               bacterial_spot       0.60      0.68      0.64       115\n",
      "                 early_blight       0.39      0.36      0.37       120\n",
      "                      healthy       0.79      0.82      0.80       125\n",
      "                  late_blight       0.66      0.63      0.65       125\n",
      "                    leaf_mold       0.68      0.59      0.63       127\n",
      "           septoria_leaf_spot       0.43      0.31      0.36       117\n",
      "                  target_spot       0.55      0.60      0.57       115\n",
      "          tomato_mosaic_virus       0.47      0.67      0.55        54\n",
      "tomato_yellow_leaf_curl_virus       0.65      0.69      0.67       114\n",
      "      two-spotted_spider_mite       0.56      0.59      0.57       128\n",
      "\n",
      "                     accuracy                           0.59      1140\n",
      "                    macro avg       0.58      0.59      0.58      1140\n",
      "                 weighted avg       0.59      0.59      0.59      1140\n",
      "\n",
      "[[ 78   3   3   5   3   7   2   1   8   5]\n",
      " [ 12  43   7  10   6  11   7   1  12  11]\n",
      " [  0   4 102   2   1   0  15   0   0   1]\n",
      " [  6  12   6  79   5   7   1   5   1   3]\n",
      " [  6   7   0  12  75   8   6   2   2   9]\n",
      " [ 11   5   3   5  15  36   9  11  14   8]\n",
      " [  8  15   7   1   2   1  69   2   0  10]\n",
      " [  0   1   0   1   3   4   1  36   3   5]\n",
      " [  6   8   1   3   0   6   0   3  79   8]\n",
      " [  2  12   0   1   1   4  15  16   2  75]]\n"
     ]
    }
   ],
   "source": [
    "#classification report\n",
    "y_predict = svm_rbf.fit(Ftrain, Ltrain).predict(Ftest)\n",
    "class_names = target.unique()\n",
    "print(classification_report(Ltest, y_predict, target_names=class_names))\n",
    "print(confusion_matrix(Ltest, y_predict))"
   ]
  },
  {
   "cell_type": "markdown",
   "id": "09f47e7e",
   "metadata": {},
   "source": [
    "# SVM(sigmoid) on blue data"
   ]
  },
  {
   "cell_type": "code",
   "execution_count": 64,
   "id": "4401c844",
   "metadata": {},
   "outputs": [
    {
     "name": "stdout",
     "output_type": "stream",
     "text": [
      "0.1\n"
     ]
    }
   ],
   "source": [
    "svm_si.fit(Ftrain,Ltrain)\n",
    "y_pred = svm_si.predict(Ftest)\n",
    "print(accuracy_score(Ltest,y_pred))"
   ]
  },
  {
   "cell_type": "code",
   "execution_count": 65,
   "id": "4372e59f",
   "metadata": {},
   "outputs": [
    {
     "name": "stdout",
     "output_type": "stream",
     "text": [
      "                               precision    recall  f1-score   support\n",
      "\n",
      "               bacterial_spot       0.00      0.00      0.00       115\n",
      "                 early_blight       0.00      0.00      0.00       120\n",
      "                      healthy       0.00      0.00      0.00       125\n",
      "                  late_blight       0.00      0.00      0.00       125\n",
      "                    leaf_mold       0.00      0.00      0.00       127\n",
      "           septoria_leaf_spot       0.00      0.00      0.00       117\n",
      "                  target_spot       0.00      0.00      0.00       115\n",
      "          tomato_mosaic_virus       0.00      0.00      0.00        54\n",
      "tomato_yellow_leaf_curl_virus       0.10      1.00      0.18       114\n",
      "      two-spotted_spider_mite       0.00      0.00      0.00       128\n",
      "\n",
      "                     accuracy                           0.10      1140\n",
      "                    macro avg       0.01      0.10      0.02      1140\n",
      "                 weighted avg       0.01      0.10      0.02      1140\n",
      "\n",
      "[[  0   0   0   0   0   0   0   0 115   0]\n",
      " [  0   0   0   0   0   0   0   0 120   0]\n",
      " [  0   0   0   0   0   0   0   0 125   0]\n",
      " [  0   0   4   0   0   0   0   0 121   0]\n",
      " [  0   0   0   0   0   0   0   0 127   0]\n",
      " [  0   0   0   0   0   0   0   0 117   0]\n",
      " [  0   0   0   0   0   0   0   0 115   0]\n",
      " [  0   0   0   0   0   0   0   0  54   0]\n",
      " [  0   0   0   0   0   0   0   0 114   0]\n",
      " [  0   0   0   0   0   0   0   0 128   0]]\n"
     ]
    },
    {
     "name": "stderr",
     "output_type": "stream",
     "text": [
      "C:\\Users\\ravic\\anaconda3\\lib\\site-packages\\sklearn\\metrics\\_classification.py:1248: UndefinedMetricWarning: Precision and F-score are ill-defined and being set to 0.0 in labels with no predicted samples. Use `zero_division` parameter to control this behavior.\n",
      "  _warn_prf(average, modifier, msg_start, len(result))\n",
      "C:\\Users\\ravic\\anaconda3\\lib\\site-packages\\sklearn\\metrics\\_classification.py:1248: UndefinedMetricWarning: Precision and F-score are ill-defined and being set to 0.0 in labels with no predicted samples. Use `zero_division` parameter to control this behavior.\n",
      "  _warn_prf(average, modifier, msg_start, len(result))\n",
      "C:\\Users\\ravic\\anaconda3\\lib\\site-packages\\sklearn\\metrics\\_classification.py:1248: UndefinedMetricWarning: Precision and F-score are ill-defined and being set to 0.0 in labels with no predicted samples. Use `zero_division` parameter to control this behavior.\n",
      "  _warn_prf(average, modifier, msg_start, len(result))\n"
     ]
    }
   ],
   "source": [
    "#classification report\n",
    "y_predict = svm_si.fit(Ftrain, Ltrain).predict(Ftest)\n",
    "class_names = target.unique()\n",
    "print(classification_report(Ltest, y_predict, target_names=class_names))\n",
    "print(confusion_matrix(Ltest, y_predict))"
   ]
  },
  {
   "cell_type": "markdown",
   "id": "7401f4ab",
   "metadata": {},
   "source": [
    "# Bernouli Naive bayes on blue data"
   ]
  },
  {
   "cell_type": "code",
   "execution_count": 66,
   "id": "a8ddf84b",
   "metadata": {},
   "outputs": [
    {
     "data": {
      "text/plain": [
       "0.27631578947368424"
      ]
     },
     "execution_count": 66,
     "metadata": {},
     "output_type": "execute_result"
    }
   ],
   "source": [
    "bnb.fit(Ftrain, Ltrain)\n",
    "y_pred = bnb.predict(Ftest)\n",
    "metrics.accuracy_score(Ltest, y_pred)"
   ]
  },
  {
   "cell_type": "code",
   "execution_count": 67,
   "id": "944621bd",
   "metadata": {},
   "outputs": [
    {
     "name": "stdout",
     "output_type": "stream",
     "text": [
      "                               precision    recall  f1-score   support\n",
      "\n",
      "               bacterial_spot       0.19      0.95      0.32       115\n",
      "                 early_blight       0.35      0.18      0.24       120\n",
      "                      healthy       0.25      0.17      0.20       125\n",
      "                  late_blight       0.41      0.06      0.10       125\n",
      "                    leaf_mold       0.44      0.21      0.29       127\n",
      "           septoria_leaf_spot       0.38      0.08      0.13       117\n",
      "                  target_spot       0.35      0.18      0.24       115\n",
      "          tomato_mosaic_virus       0.10      0.06      0.07        54\n",
      "tomato_yellow_leaf_curl_virus       0.47      0.54      0.50       114\n",
      "      two-spotted_spider_mite       0.31      0.27      0.29       128\n",
      "\n",
      "                     accuracy                           0.28      1140\n",
      "                    macro avg       0.33      0.27      0.24      1140\n",
      "                 weighted avg       0.34      0.28      0.25      1140\n",
      "\n",
      "[[109   1   2   0   1   1   0   1   0   0]\n",
      " [ 45  22   9   9   6   1   4   2  15   7]\n",
      " [ 66   6  21   0   9   3   8   1   0  11]\n",
      " [ 84   8   4   7   3   0   0   1  13   5]\n",
      " [ 57   5   4   1  27   3   3   2  17   8]\n",
      " [ 53   8   8   0   9   9   9   5   8   8]\n",
      " [ 56   6  12   0   2   2  21   2   3  11]\n",
      " [ 26   1   5   0   1   0   3   3   3  12]\n",
      " [ 22   0   5   0   1   4   2   3  61  16]\n",
      " [ 42   5  14   0   3   1  10   9   9  35]]\n"
     ]
    }
   ],
   "source": [
    "class_names = target.unique()\n",
    "print(classification_report(Ltest, y_pred, target_names=class_names))\n",
    "print(confusion_matrix(Ltest, y_pred))"
   ]
  },
  {
   "cell_type": "markdown",
   "id": "cbf0037b",
   "metadata": {},
   "source": [
    "# Multinomial Naive bayes on blue data"
   ]
  },
  {
   "cell_type": "code",
   "execution_count": 68,
   "id": "050a9f46",
   "metadata": {},
   "outputs": [
    {
     "data": {
      "text/plain": [
       "0.27631578947368424"
      ]
     },
     "execution_count": 68,
     "metadata": {},
     "output_type": "execute_result"
    }
   ],
   "source": [
    "mnb.fit(Ftrain, Ltrain)\n",
    "y_pred = mnb.predict(Ftest)\n",
    "metrics.accuracy_score(Ltest, y_pred)"
   ]
  },
  {
   "cell_type": "code",
   "execution_count": 69,
   "id": "9a916b04",
   "metadata": {},
   "outputs": [
    {
     "name": "stdout",
     "output_type": "stream",
     "text": [
      "                               precision    recall  f1-score   support\n",
      "\n",
      "               bacterial_spot       0.19      0.95      0.32       115\n",
      "                 early_blight       0.35      0.18      0.24       120\n",
      "                      healthy       0.25      0.17      0.20       125\n",
      "                  late_blight       0.41      0.06      0.10       125\n",
      "                    leaf_mold       0.44      0.21      0.29       127\n",
      "           septoria_leaf_spot       0.38      0.08      0.13       117\n",
      "                  target_spot       0.35      0.18      0.24       115\n",
      "          tomato_mosaic_virus       0.10      0.06      0.07        54\n",
      "tomato_yellow_leaf_curl_virus       0.47      0.54      0.50       114\n",
      "      two-spotted_spider_mite       0.31      0.27      0.29       128\n",
      "\n",
      "                     accuracy                           0.28      1140\n",
      "                    macro avg       0.33      0.27      0.24      1140\n",
      "                 weighted avg       0.34      0.28      0.25      1140\n",
      "\n",
      "[[109   1   2   0   1   1   0   1   0   0]\n",
      " [ 45  22   9   9   6   1   4   2  15   7]\n",
      " [ 66   6  21   0   9   3   8   1   0  11]\n",
      " [ 84   8   4   7   3   0   0   1  13   5]\n",
      " [ 57   5   4   1  27   3   3   2  17   8]\n",
      " [ 53   8   8   0   9   9   9   5   8   8]\n",
      " [ 56   6  12   0   2   2  21   2   3  11]\n",
      " [ 26   1   5   0   1   0   3   3   3  12]\n",
      " [ 22   0   5   0   1   4   2   3  61  16]\n",
      " [ 42   5  14   0   3   1  10   9   9  35]]\n"
     ]
    }
   ],
   "source": [
    "class_names = target.unique()\n",
    "print(classification_report(Ltest, y_pred, target_names=class_names))\n",
    "print(confusion_matrix(Ltest, y_pred))"
   ]
  },
  {
   "cell_type": "code",
   "execution_count": 70,
   "id": "195a0b21",
   "metadata": {},
   "outputs": [
    {
     "name": "stdout",
     "output_type": "stream",
     "text": [
      "8177.16410446167\n"
     ]
    }
   ],
   "source": [
    "end_time = time.time()\n",
    "print(end_time - start_time)"
   ]
  }
 ],
 "metadata": {
  "kernelspec": {
   "display_name": "Python 3 (ipykernel)",
   "language": "python",
   "name": "python3"
  },
  "language_info": {
   "codemirror_mode": {
    "name": "ipython",
    "version": 3
   },
   "file_extension": ".py",
   "mimetype": "text/x-python",
   "name": "python",
   "nbconvert_exporter": "python",
   "pygments_lexer": "ipython3",
   "version": "3.9.7"
  }
 },
 "nbformat": 4,
 "nbformat_minor": 5
}
