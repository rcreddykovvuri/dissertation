{
 "cells": [
  {
   "cell_type": "code",
   "execution_count": 1,
   "id": "bcdb1517",
   "metadata": {},
   "outputs": [],
   "source": [
    "import numpy as np #importing numpy\n",
    "import pandas as pd #importing pandas\n",
    "import PIL #importing pillow for image processing\n",
    "from PIL import Image#importing image from pillow library\n",
    "import skimage#importing skimage library\n",
    "import os#importing os library\n",
    "import time#importing time library\n",
    "\n",
    "#Capture start time of the program\n",
    "start_time = time.time()"
   ]
  },
  {
   "cell_type": "code",
   "execution_count": 2,
   "id": "9b1ff8ae",
   "metadata": {},
   "outputs": [],
   "source": [
    "from string import digits\n",
    "#code to remove numbers in a string and assigning it to the variable\n",
    "r_digits = str.maketrans('', '', digits)\n",
    "#taking source data folder path to a varible\n",
    "rawdata_path = 'D://DKIT//dissertation//Dataset_of_Tomato_Leaves//plantvillage//Preprocessed_data//64//data//'\n",
    "#changing current librbay to source data\n",
    "os.chdir(rawdata_path)\n",
    "#taking sub-directories to a list\n",
    "dirs = os.listdir()\n",
    "directories = []\n",
    "diseases = []\n",
    "#Taking directories into a list and extract disease name from folder name\n",
    "for x in dirs:\n",
    "    res = x.translate(r_digits).lower()\n",
    "    diseases.append(res)\n",
    "    temp = rawdata_path + x + '//'\n",
    "    directories.append(temp)"
   ]
  },
  {
   "cell_type": "code",
   "execution_count": 3,
   "id": "e67c4402",
   "metadata": {},
   "outputs": [],
   "source": [
    "for i in directories:\n",
    "    os.chdir(i)\n",
    "    pics = os.listdir()\n",
    "    #reading pics one by one in each directory\n",
    "    for j in pics:\n",
    "        image = Image.open(j,mode='r')\n",
    "        size = (64,64)\n",
    "        image = image.resize(size)\n",
    "        image = image.save(j)"
   ]
  },
  {
   "cell_type": "code",
   "execution_count": 4,
   "id": "0e3f1cdc",
   "metadata": {},
   "outputs": [],
   "source": [
    "#creating different dataframes for saving data in different vector forms\n",
    "#gray data\n",
    "gray_df = pd.DataFrame(columns=['mean','disease'])\n",
    "#rgb data\n",
    "rgb_df = pd.DataFrame(columns=['mean','disease'])\n",
    "#red data\n",
    "red_df = pd.DataFrame(columns=['mean','disease'])\n",
    "#green data\n",
    "green_df = pd.DataFrame(columns=['mean','disease'])\n",
    "#blue data\n",
    "blue_df = pd.DataFrame(columns=['mean','disease'])"
   ]
  },
  {
   "cell_type": "code",
   "execution_count": 5,
   "id": "d259b674",
   "metadata": {},
   "outputs": [],
   "source": [
    "#extracting data from images\n",
    "x = 0\n",
    "#creating enpty directories to save the vector from in to a list\n",
    "gray_test = []\n",
    "rgb_final = []\n",
    "red_final = []\n",
    "green_final = []\n",
    "blue_final = []\n",
    "disease = []\n",
    "#reading data directory by directory\n",
    "for i in directories:\n",
    "    os.chdir(i)\n",
    "    k = diseases[x]\n",
    "    pics = os.listdir()\n",
    "    #reading pics one by one in each directory\n",
    "    for j in pics:\n",
    "        temp_list = []\n",
    "        rgb_temp = []\n",
    "        red_temp = []\n",
    "        green_temp = []\n",
    "        blue_temp = []\n",
    "        gray = []\n",
    "        data = []\n",
    "        red = []\n",
    "        green = []\n",
    "        blue = []\n",
    "        #opening the image in rgb format\n",
    "        image = Image.open(j,mode='r')\n",
    "        data = image.convert('RGB')\n",
    "        data = np.array(data)\n",
    "        #extracting only red components\n",
    "        red = data[:,:,0]\n",
    "        #extracting only green components\n",
    "        green = data[:,:,1]\n",
    "        #extracting only blue components\n",
    "        blue = data[:,:,2]\n",
    "        data = data.ravel()\n",
    "        #saving rgb vector data into list\n",
    "        rgb_final.append(data)\n",
    "        rgb_temp.append(np.mean(data))\n",
    "        rgb_temp.append(k)\n",
    "        rgb_df.loc[len(rgb_df)] = rgb_temp\n",
    "        #saving red channel data into dataframe and vector data to a list.\n",
    "        red = red.ravel()\n",
    "        red_final.append(red)\n",
    "        red_temp.append(np.mean(red))\n",
    "        red_temp.append(k)\n",
    "        red_df.loc[len(red_df)] = red_temp\n",
    "        #saving blue channel data into dataframe and vector data to a list.\n",
    "        blue = blue.ravel()\n",
    "        blue_final.append(blue)\n",
    "        blue_temp.append(np.mean(blue))\n",
    "        blue_temp.append(k)\n",
    "        blue_df.loc[len(blue_df)] = blue_temp\n",
    "        #saving green channel data into dataframe and vector data to a list.\n",
    "        green = green.ravel()\n",
    "        green_final.append(green)\n",
    "        green_temp.append(np.mean(green))\n",
    "        green_temp.append(k)\n",
    "        green_df.loc[len(green_df)] = green_temp\n",
    "        #opening the image in gray format\n",
    "        gray = image.convert('L')\n",
    "        gray = np.array(gray)\n",
    "        gray = gray.ravel()\n",
    "        gray_test.append(gray)\n",
    "        temp_list.append(np.mean(gray))\n",
    "        temp_list.append(k)       \n",
    "        gray_df.loc[len(gray_df)] = temp_list\n",
    "    x = x+1"
   ]
  },
  {
   "cell_type": "code",
   "execution_count": 6,
   "id": "9ec45970",
   "metadata": {},
   "outputs": [],
   "source": [
    "#changing path\n",
    "os.chdir('D://DKIT//dissertation//Dataset_of_Tomato_Leaves//plantvillage//Preprocessed_data//64//vector//')"
   ]
  },
  {
   "cell_type": "code",
   "execution_count": 7,
   "id": "9b5459ff",
   "metadata": {},
   "outputs": [],
   "source": [
    "#saving the lists as numpy arrays in the local system\n",
    "np.save('gray_test',gray_test)\n",
    "np.save('rgb_data',rgb_final)\n",
    "np.save('red_data',red_final)\n",
    "np.save('green_data',green_final)\n",
    "np.save('blue_data',blue_final)"
   ]
  },
  {
   "cell_type": "code",
   "execution_count": 8,
   "id": "681ad20a",
   "metadata": {},
   "outputs": [],
   "source": [
    "#saving the dataframe as csv files in the local system\n",
    "gray_df.to_csv('gray_data.csv',index=False)\n",
    "rgb_df.to_csv('rgb_data.csv',index=False)\n",
    "red_df.to_csv('red_data.csv',index=False)\n",
    "green_df.to_csv('green_data.csv',index=False)\n",
    "blue_df.to_csv('blue_data.csv',index=False)"
   ]
  },
  {
   "cell_type": "markdown",
   "id": "7139bf53",
   "metadata": {},
   "source": [
    "# KNN on rgb data"
   ]
  },
  {
   "cell_type": "code",
   "execution_count": 9,
   "id": "9386938c",
   "metadata": {},
   "outputs": [],
   "source": [
    "#reading numpy array data\n",
    "rgb_test = np.load('rgb_data.npy')\n",
    "#reading csv file\n",
    "rgb_df = pd.read_csv('rgb_data.csv')"
   ]
  },
  {
   "cell_type": "code",
   "execution_count": 10,
   "id": "73c06a10",
   "metadata": {},
   "outputs": [],
   "source": [
    "loaded = []\n",
    "for i in rgb_test:\n",
    "    k = []\n",
    "    k = np.asarray(i,dtype='uint8')\n",
    "    loaded.append(k)"
   ]
  },
  {
   "cell_type": "code",
   "execution_count": 11,
   "id": "c6d5658c",
   "metadata": {},
   "outputs": [],
   "source": [
    "#assigning features and target\n",
    "features = loaded\n",
    "target = rgb_df['disease']\n",
    "#splitting the data to 80 percent and 20 percent\n",
    "from sklearn.model_selection import train_test_split\n",
    "Ftrain,Ftest,Ltrain,Ltest=train_test_split(features,target, test_size=0.20, random_state=24)\n",
    "#scaling the data using standard scaler\n",
    "from sklearn.preprocessing import StandardScaler\n",
    "scaler = StandardScaler()\n",
    "Ftrain = scaler.fit_transform(Ftrain)\n",
    "Ftest = scaler.fit_transform(Ftest)"
   ]
  },
  {
   "cell_type": "code",
   "execution_count": 12,
   "id": "6f1171c6",
   "metadata": {},
   "outputs": [],
   "source": [
    "#K-Model on the data\n",
    "from sklearn.neighbors import KNeighborsClassifier\n",
    "kmodel = KNeighborsClassifier(n_neighbors=75)"
   ]
  },
  {
   "cell_type": "code",
   "execution_count": 13,
   "id": "b9fdc978",
   "metadata": {},
   "outputs": [
    {
     "name": "stdout",
     "output_type": "stream",
     "text": [
      "0.5730994152046783\n"
     ]
    }
   ],
   "source": [
    "#k-model fitting and accuracy\n",
    "kmodel.fit(Ftrain,Ltrain)\n",
    "print(kmodel.score(Ftest,Ltest))"
   ]
  },
  {
   "cell_type": "code",
   "execution_count": 14,
   "id": "ee18e5c3",
   "metadata": {},
   "outputs": [],
   "source": [
    "#importing classification report and confusion matrix\n",
    "from sklearn.metrics import classification_report, confusion_matrix"
   ]
  },
  {
   "cell_type": "code",
   "execution_count": 15,
   "id": "bb8fbd00",
   "metadata": {},
   "outputs": [
    {
     "name": "stdout",
     "output_type": "stream",
     "text": [
      "                               precision    recall  f1-score   support\n",
      "\n",
      "               bacterial_spot       0.33      0.86      0.48       345\n",
      "                 early_blight       0.00      0.00      0.00       153\n",
      "                      healthy       0.50      0.84      0.63       234\n",
      "                  late_blight       0.59      0.43      0.50       309\n",
      "                    leaf_mold       0.71      0.53      0.61       145\n",
      "           septoria_leaf_spot       0.68      0.48      0.56       293\n",
      "                  target_spot       0.42      0.45      0.43       240\n",
      "          tomato_mosaic_virus       0.61      0.37      0.46        54\n",
      "tomato_yellow_leaf_curl_virus       0.89      0.72      0.80       854\n",
      "      two-spotted_spider_mite       0.77      0.29      0.42       280\n",
      "\n",
      "                     accuracy                           0.57      2907\n",
      "                    macro avg       0.55      0.50      0.49      2907\n",
      "                 weighted avg       0.63      0.57      0.57      2907\n",
      "\n",
      "[[297   0  27   9   0   0   1   0  11   0]\n",
      " [ 99   0   8   3   0   7  22   1  12   1]\n",
      " [ 23   0 197  10   0   0   2   0   0   2]\n",
      " [ 60   0  43 132  13  32  14   2  12   1]\n",
      " [ 27   1   9  16  77   7   3   2   2   1]\n",
      " [ 29   0  27  31  15 140  26   5  14   6]\n",
      " [ 99   0  22   3   0   5 107   2   1   1]\n",
      " [  7   0   8   6   3   1   4  20   2   3]\n",
      " [167   0  39   2   0  11  11   0 614  10]\n",
      " [ 87   0  13  12   0   2  64   1  19  82]]\n"
     ]
    }
   ],
   "source": [
    "#printing results of the kmodel\n",
    "y_predict = kmodel.fit(Ftrain, Ltrain).predict(Ftest)\n",
    "class_names = target.unique()\n",
    "print(classification_report(Ltest, y_predict, target_names=class_names))\n",
    "print(confusion_matrix(Ltest, y_predict))"
   ]
  },
  {
   "cell_type": "markdown",
   "id": "d5c58638",
   "metadata": {},
   "source": [
    "# Logistic on rgb data"
   ]
  },
  {
   "cell_type": "code",
   "execution_count": 16,
   "id": "a84836ef",
   "metadata": {},
   "outputs": [
    {
     "name": "stdout",
     "output_type": "stream",
     "text": [
      "0.7296181630546955\n"
     ]
    }
   ],
   "source": [
    "#importing logistic data\n",
    "from sklearn.linear_model import LogisticRegression\n",
    "model=LogisticRegression(solver='lbfgs', max_iter=10000)\n",
    "model.fit(Ftrain,Ltrain)\n",
    "print(model.score(Ftest,Ltest))"
   ]
  },
  {
   "cell_type": "code",
   "execution_count": 17,
   "id": "8a6e84a1",
   "metadata": {},
   "outputs": [
    {
     "name": "stdout",
     "output_type": "stream",
     "text": [
      "                               precision    recall  f1-score   support\n",
      "\n",
      "               bacterial_spot       0.70      0.80      0.74       345\n",
      "                 early_blight       0.34      0.35      0.34       153\n",
      "                      healthy       0.74      0.71      0.73       234\n",
      "                  late_blight       0.56      0.64      0.60       309\n",
      "                    leaf_mold       0.62      0.62      0.62       145\n",
      "           septoria_leaf_spot       0.69      0.67      0.68       293\n",
      "                  target_spot       0.69      0.64      0.66       240\n",
      "          tomato_mosaic_virus       0.65      0.85      0.74        54\n",
      "tomato_yellow_leaf_curl_virus       0.90      0.87      0.89       854\n",
      "      two-spotted_spider_mite       0.86      0.70      0.77       280\n",
      "\n",
      "                     accuracy                           0.73      2907\n",
      "                    macro avg       0.67      0.69      0.68      2907\n",
      "                 weighted avg       0.74      0.73      0.73      2907\n",
      "\n",
      "[[276  24   5  20   0   3   1   0  16   0]\n",
      " [ 26  53   5  26   2   9  16   5   8   3]\n",
      " [  7  10 167  20   4   4  20   0   0   2]\n",
      " [ 27  18  13 198  15  15   5   1  12   5]\n",
      " [  2  12   5  11  90  17   2   0   4   2]\n",
      " [  7   5   3  22  21 196  17  11  10   1]\n",
      " [  9   9  23   7   6  22 154   3   2   5]\n",
      " [  0   0   1   0   2   3   2  46   0   0]\n",
      " [ 38  15   0  26   4   9   2   1 745  14]\n",
      " [  4  11   3  21   2   7   5   4  27 196]]\n"
     ]
    }
   ],
   "source": [
    "#classification report\n",
    "y_predict = model.fit(Ftrain, Ltrain).predict(Ftest)\n",
    "class_names = target.unique()\n",
    "print(classification_report(Ltest, y_predict, target_names=class_names))\n",
    "print(confusion_matrix(Ltest, y_predict))"
   ]
  },
  {
   "cell_type": "markdown",
   "id": "6fe194bc",
   "metadata": {},
   "source": [
    "# SVM on RGB data"
   ]
  },
  {
   "cell_type": "code",
   "execution_count": 18,
   "id": "2427ed51",
   "metadata": {},
   "outputs": [
    {
     "name": "stdout",
     "output_type": "stream",
     "text": [
      "0.762297901616787\n"
     ]
    }
   ],
   "source": [
    "from sklearn.svm import SVC\n",
    "from sklearn.metrics import accuracy_score\n",
    "\n",
    "clf = SVC(kernel='linear')\n",
    "clf.fit(Ftrain,Ltrain)\n",
    "y_pred = clf.predict(Ftest)\n",
    "print(accuracy_score(Ltest,y_pred))"
   ]
  },
  {
   "cell_type": "code",
   "execution_count": 19,
   "id": "d3ce316a",
   "metadata": {},
   "outputs": [
    {
     "name": "stdout",
     "output_type": "stream",
     "text": [
      "                               precision    recall  f1-score   support\n",
      "\n",
      "               bacterial_spot       0.68      0.83      0.75       345\n",
      "                 early_blight       0.34      0.39      0.36       153\n",
      "                      healthy       0.77      0.81      0.79       234\n",
      "                  late_blight       0.63      0.66      0.65       309\n",
      "                    leaf_mold       0.67      0.63      0.65       145\n",
      "           septoria_leaf_spot       0.71      0.66      0.68       293\n",
      "                  target_spot       0.77      0.72      0.75       240\n",
      "          tomato_mosaic_virus       0.76      0.83      0.80        54\n",
      "tomato_yellow_leaf_curl_virus       0.94      0.89      0.91       854\n",
      "      two-spotted_spider_mite       0.92      0.76      0.83       280\n",
      "\n",
      "                     accuracy                           0.76      2907\n",
      "                    macro avg       0.72      0.72      0.72      2907\n",
      "                 weighted avg       0.77      0.76      0.77      2907\n",
      "\n",
      "[[286  28   3  14   0   2   2   0  10   0]\n",
      " [ 38  60   3  22   2   7  12   1   6   2]\n",
      " [  5   4 190  13   4   3  15   0   0   0]\n",
      " [ 32  24  14 205   8  14   1   0   5   6]\n",
      " [  1   5   7  11  91  20   2   2   5   1]\n",
      " [  6  11  12  27  17 194  13   8   5   0]\n",
      " [  8  24  12   1   2  16 174   1   0   2]\n",
      " [  0   0   0   0   2   7   0  45   0   0]\n",
      " [ 41  12   0  22   3   6   4   0 758   8]\n",
      " [  5   8   6  11   6   6   3   2  20 213]]\n"
     ]
    }
   ],
   "source": [
    "#classification report\n",
    "y_predict = clf.fit(Ftrain, Ltrain).predict(Ftest)\n",
    "class_names = target.unique()\n",
    "print(classification_report(Ltest, y_predict, target_names=class_names))\n",
    "print(confusion_matrix(Ltest, y_predict))"
   ]
  },
  {
   "cell_type": "markdown",
   "id": "73bef6fa",
   "metadata": {},
   "source": [
    "# Random Forest on RGB "
   ]
  },
  {
   "cell_type": "code",
   "execution_count": 20,
   "id": "6bae5a92",
   "metadata": {},
   "outputs": [],
   "source": [
    "from sklearn.ensemble import RandomForestClassifier"
   ]
  },
  {
   "cell_type": "code",
   "execution_count": 21,
   "id": "1d08a15e",
   "metadata": {},
   "outputs": [],
   "source": [
    "classifier_rf = RandomForestClassifier(random_state=42, n_jobs=-1, max_depth=5,n_estimators=100, oob_score=True)"
   ]
  },
  {
   "cell_type": "code",
   "execution_count": 22,
   "id": "938ad007",
   "metadata": {},
   "outputs": [
    {
     "data": {
      "text/plain": [
       "RandomForestClassifier(max_depth=5, n_jobs=-1, oob_score=True, random_state=42)"
      ]
     },
     "execution_count": 22,
     "metadata": {},
     "output_type": "execute_result"
    }
   ],
   "source": [
    "classifier_rf.fit(Ftrain, Ltrain)"
   ]
  },
  {
   "cell_type": "code",
   "execution_count": 23,
   "id": "e1769cec",
   "metadata": {},
   "outputs": [
    {
     "data": {
      "text/plain": [
       "0.5593599449415003"
      ]
     },
     "execution_count": 23,
     "metadata": {},
     "output_type": "execute_result"
    }
   ],
   "source": [
    "classifier_rf.oob_score_"
   ]
  },
  {
   "cell_type": "code",
   "execution_count": 24,
   "id": "e8e6675c",
   "metadata": {},
   "outputs": [
    {
     "name": "stdout",
     "output_type": "stream",
     "text": [
      "                               precision    recall  f1-score   support\n",
      "\n",
      "               bacterial_spot       0.72      0.57      0.63       345\n",
      "                 early_blight       0.00      0.00      0.00       153\n",
      "                      healthy       0.55      0.91      0.68       234\n",
      "                  late_blight       0.57      0.25      0.34       309\n",
      "                    leaf_mold       0.74      0.34      0.46       145\n",
      "           septoria_leaf_spot       0.58      0.44      0.50       293\n",
      "                  target_spot       0.57      0.47      0.51       240\n",
      "          tomato_mosaic_virus       0.00      0.00      0.00        54\n",
      "tomato_yellow_leaf_curl_virus       0.52      0.98      0.68       854\n",
      "      two-spotted_spider_mite       0.82      0.08      0.15       280\n",
      "\n",
      "                     accuracy                           0.56      2907\n",
      "                    macro avg       0.51      0.40      0.40      2907\n",
      "                 weighted avg       0.57      0.56      0.50      2907\n",
      "\n",
      "[[195   0  22   9   0   0   4   0 115   0]\n",
      " [ 22   0   5   4   0  16  17   0  87   2]\n",
      " [  3   0 212   1   1   1   2   0  14   0]\n",
      " [  4   0  78  76   5  36  12   0  98   0]\n",
      " [  7   0  25   9  49   8   4   0  43   0]\n",
      " [  6   0   9  16   8 128   5   0 121   0]\n",
      " [ 15   0  17   6   0  21 112   0  66   3]\n",
      " [  6   0   5   5   3   4   1   0  30   0]\n",
      " [  5   0   4   2   0   4   2   0 837   0]\n",
      " [  8   0   9   5   0   3  37   0 195  23]]\n"
     ]
    },
    {
     "name": "stderr",
     "output_type": "stream",
     "text": [
      "C:\\Users\\ravic\\anaconda3\\lib\\site-packages\\sklearn\\metrics\\_classification.py:1248: UndefinedMetricWarning: Precision and F-score are ill-defined and being set to 0.0 in labels with no predicted samples. Use `zero_division` parameter to control this behavior.\n",
      "  _warn_prf(average, modifier, msg_start, len(result))\n",
      "C:\\Users\\ravic\\anaconda3\\lib\\site-packages\\sklearn\\metrics\\_classification.py:1248: UndefinedMetricWarning: Precision and F-score are ill-defined and being set to 0.0 in labels with no predicted samples. Use `zero_division` parameter to control this behavior.\n",
      "  _warn_prf(average, modifier, msg_start, len(result))\n",
      "C:\\Users\\ravic\\anaconda3\\lib\\site-packages\\sklearn\\metrics\\_classification.py:1248: UndefinedMetricWarning: Precision and F-score are ill-defined and being set to 0.0 in labels with no predicted samples. Use `zero_division` parameter to control this behavior.\n",
      "  _warn_prf(average, modifier, msg_start, len(result))\n"
     ]
    }
   ],
   "source": [
    "y_predict = classifier_rf.fit(Ftrain, Ltrain).predict(Ftest)\n",
    "class_names = target.unique()\n",
    "print(classification_report(Ltest, y_predict, target_names=class_names))\n",
    "print(confusion_matrix(Ltest, y_predict))"
   ]
  },
  {
   "cell_type": "markdown",
   "id": "b6a094e4",
   "metadata": {},
   "source": [
    "# Naive Bayes on RGB data"
   ]
  },
  {
   "cell_type": "code",
   "execution_count": 25,
   "id": "a5bc755b",
   "metadata": {},
   "outputs": [
    {
     "data": {
      "text/plain": [
       "GaussianNB()"
      ]
     },
     "execution_count": 25,
     "metadata": {},
     "output_type": "execute_result"
    }
   ],
   "source": [
    "from sklearn.naive_bayes import GaussianNB\n",
    "gnb = GaussianNB()\n",
    "gnb.fit(Ftrain, Ltrain)"
   ]
  },
  {
   "cell_type": "code",
   "execution_count": 26,
   "id": "6d162dcc",
   "metadata": {},
   "outputs": [],
   "source": [
    "y_pred = gnb.predict(Ftest)"
   ]
  },
  {
   "cell_type": "code",
   "execution_count": 27,
   "id": "8f7b4bab",
   "metadata": {},
   "outputs": [
    {
     "data": {
      "text/plain": [
       "0.523563811489508"
      ]
     },
     "execution_count": 27,
     "metadata": {},
     "output_type": "execute_result"
    }
   ],
   "source": [
    "from sklearn import metrics\n",
    "metrics.accuracy_score(Ltest, y_pred)"
   ]
  },
  {
   "cell_type": "code",
   "execution_count": 28,
   "id": "69742172",
   "metadata": {},
   "outputs": [
    {
     "name": "stdout",
     "output_type": "stream",
     "text": [
      "                               precision    recall  f1-score   support\n",
      "\n",
      "               bacterial_spot       0.54      0.76      0.63       345\n",
      "                 early_blight       0.23      0.30      0.26       153\n",
      "                      healthy       0.45      0.72      0.55       234\n",
      "                  late_blight       0.50      0.28      0.36       309\n",
      "                    leaf_mold       0.55      0.46      0.50       145\n",
      "           septoria_leaf_spot       0.44      0.46      0.45       293\n",
      "                  target_spot       0.55      0.53      0.54       240\n",
      "          tomato_mosaic_virus       0.20      0.72      0.31        54\n",
      "tomato_yellow_leaf_curl_virus       0.89      0.52      0.66       854\n",
      "      two-spotted_spider_mite       0.45      0.52      0.48       280\n",
      "\n",
      "                     accuracy                           0.52      2907\n",
      "                    macro avg       0.48      0.53      0.47      2907\n",
      "                 weighted avg       0.59      0.52      0.53      2907\n",
      "\n",
      "[[262   7  31   8   0   2   6   6  19   4]\n",
      " [ 36  46   1  24   0  10  18   5   5   8]\n",
      " [  8   4 168   6   6   3  21   8   3   7]\n",
      " [  4  48  96  86  16  29   6  13   4   7]\n",
      " [  7   6   4  11  66  24   1  20   2   4]\n",
      " [  5   9  40   6  21 134  29  19  11  19]\n",
      " [ 19  14   4   6   2  21 127  14   2  31]\n",
      " [  4   0   3   0   1   3   2  39   1   1]\n",
      " [126  42  28  18   6  53   1  36 448  96]\n",
      " [ 11  22   1   7   2  26  19  39   7 146]]\n"
     ]
    }
   ],
   "source": [
    "class_names = target.unique()\n",
    "print(classification_report(Ltest, y_pred, target_names=class_names))\n",
    "print(confusion_matrix(Ltest, y_pred))"
   ]
  },
  {
   "cell_type": "markdown",
   "id": "0d6e0d06",
   "metadata": {},
   "source": [
    "# Decision Tree on RGB data"
   ]
  },
  {
   "cell_type": "code",
   "execution_count": 29,
   "id": "a5fd6907",
   "metadata": {},
   "outputs": [],
   "source": [
    "from sklearn.tree import DecisionTreeClassifier\n",
    "classifier_tree = DecisionTreeClassifier()"
   ]
  },
  {
   "cell_type": "code",
   "execution_count": 30,
   "id": "63eb94fc",
   "metadata": {},
   "outputs": [
    {
     "data": {
      "text/plain": [
       "0.4932920536635707"
      ]
     },
     "execution_count": 30,
     "metadata": {},
     "output_type": "execute_result"
    }
   ],
   "source": [
    "classifier_tree.fit(Ftrain, Ltrain)\n",
    "classifier_tree.score(Ftest,Ltest)"
   ]
  },
  {
   "cell_type": "code",
   "execution_count": 31,
   "id": "2a796fe0",
   "metadata": {},
   "outputs": [
    {
     "name": "stdout",
     "output_type": "stream",
     "text": [
      "                               precision    recall  f1-score   support\n",
      "\n",
      "               bacterial_spot       0.48      0.54      0.51       345\n",
      "                 early_blight       0.19      0.18      0.19       153\n",
      "                      healthy       0.57      0.63      0.60       234\n",
      "                  late_blight       0.43      0.46      0.44       309\n",
      "                    leaf_mold       0.43      0.43      0.43       145\n",
      "           septoria_leaf_spot       0.39      0.38      0.39       293\n",
      "                  target_spot       0.35      0.38      0.36       240\n",
      "          tomato_mosaic_virus       0.15      0.17      0.16        54\n",
      "tomato_yellow_leaf_curl_virus       0.73      0.66      0.69       854\n",
      "      two-spotted_spider_mite       0.39      0.36      0.37       280\n",
      "\n",
      "                     accuracy                           0.50      2907\n",
      "                    macro avg       0.41      0.42      0.41      2907\n",
      "                 weighted avg       0.50      0.50      0.50      2907\n",
      "\n",
      "[[188  17  11  21   6  20  20   4  46  12]\n",
      " [ 26  28   7  22   4  12  21   4  19  10]\n",
      " [ 14  12 148  21   5   7  14   6   3   4]\n",
      " [ 16  18  19 142  17  35  22   5  20  15]\n",
      " [  8   5   8   8  62  16   8   7  16   7]\n",
      " [ 22  12   9  36  15 111  21   6  40  21]\n",
      " [ 25  16  22  14   6  18  91   7  11  30]\n",
      " [  4   2   5   0   9   4   6   9   8   7]\n",
      " [ 79  26  14  42  13  43  15  10 563  49]\n",
      " [ 10  11  15  26   8  16  42   3  49 100]]\n"
     ]
    }
   ],
   "source": [
    "y_predict = classifier_tree.fit(Ftrain, Ltrain).predict(Ftest)\n",
    "class_names = target.unique()\n",
    "print(classification_report(Ltest, y_predict, target_names=class_names))\n",
    "print(confusion_matrix(Ltest, y_predict))"
   ]
  },
  {
   "cell_type": "markdown",
   "id": "c9daaaee",
   "metadata": {},
   "source": [
    "# KNN on grayscale data"
   ]
  },
  {
   "cell_type": "code",
   "execution_count": 32,
   "id": "57a9845e",
   "metadata": {},
   "outputs": [],
   "source": [
    "#reading numpy array data\n",
    "gray_test = np.load('gray_test.npy')\n",
    "#reading csv file\n",
    "gray_df = pd.read_csv('gray_data.csv')"
   ]
  },
  {
   "cell_type": "code",
   "execution_count": 33,
   "id": "25d4fea2",
   "metadata": {},
   "outputs": [],
   "source": [
    "loaded = []\n",
    "for i in gray_test:\n",
    "    k = []\n",
    "    k = np.asarray(i,dtype='uint8')\n",
    "    loaded.append(k)"
   ]
  },
  {
   "cell_type": "code",
   "execution_count": 34,
   "id": "d3abef95",
   "metadata": {},
   "outputs": [],
   "source": [
    "features = loaded\n",
    "target = gray_df['disease']\n",
    "Ftrain,Ftest,Ltrain,Ltest=train_test_split(features,target, test_size=0.20, random_state=20)\n",
    "Ftrain = scaler.fit_transform(Ftrain)\n",
    "Ftest = scaler.fit_transform(Ftest)"
   ]
  },
  {
   "cell_type": "code",
   "execution_count": 35,
   "id": "6f75adfd",
   "metadata": {},
   "outputs": [
    {
     "data": {
      "text/plain": [
       "0.4674922600619195"
      ]
     },
     "execution_count": 35,
     "metadata": {},
     "output_type": "execute_result"
    }
   ],
   "source": [
    "kmodel.fit(Ftrain,Ltrain)\n",
    "kmodel.score(Ftest,Ltest)"
   ]
  },
  {
   "cell_type": "code",
   "execution_count": 36,
   "id": "db638452",
   "metadata": {},
   "outputs": [
    {
     "name": "stdout",
     "output_type": "stream",
     "text": [
      "                               precision    recall  f1-score   support\n",
      "\n",
      "               bacterial_spot       0.33      0.81      0.47       349\n",
      "                 early_blight       0.00      0.00      0.00       182\n",
      "                      healthy       0.39      0.65      0.49       258\n",
      "                  late_blight       0.34      0.31      0.33       316\n",
      "                    leaf_mold       0.63      0.48      0.55       145\n",
      "           septoria_leaf_spot       0.49      0.47      0.48       262\n",
      "                  target_spot       0.50      0.32      0.39       229\n",
      "          tomato_mosaic_virus       0.50      0.05      0.09        58\n",
      "tomato_yellow_leaf_curl_virus       0.65      0.55      0.60       857\n",
      "      two-spotted_spider_mite       0.77      0.27      0.40       251\n",
      "\n",
      "                     accuracy                           0.47      2907\n",
      "                    macro avg       0.46      0.39      0.38      2907\n",
      "                 weighted avg       0.49      0.47      0.45      2907\n",
      "\n",
      "[[282   0  26  20   1   2   1   0  17   0]\n",
      " [110   0   6   3   7  15  15   0  26   0]\n",
      " [ 32   0 167  27   0  13   0   0  18   1]\n",
      " [ 56   0  50  98  11  42   6   0  51   2]\n",
      " [ 17   0  13  20  70   7   3   2  13   0]\n",
      " [ 23   0  37  23   7 124   3   0  41   4]\n",
      " [ 94   0  13   6   1  15  74   0  21   5]\n",
      " [  5   0   7   3   4   4   1   3  28   3]\n",
      " [162   0 104  74   7  20  10   1 474   5]\n",
      " [ 70   0   7  12   3  13  35   0  44  67]]\n"
     ]
    },
    {
     "name": "stderr",
     "output_type": "stream",
     "text": [
      "C:\\Users\\ravic\\anaconda3\\lib\\site-packages\\sklearn\\metrics\\_classification.py:1248: UndefinedMetricWarning: Precision and F-score are ill-defined and being set to 0.0 in labels with no predicted samples. Use `zero_division` parameter to control this behavior.\n",
      "  _warn_prf(average, modifier, msg_start, len(result))\n",
      "C:\\Users\\ravic\\anaconda3\\lib\\site-packages\\sklearn\\metrics\\_classification.py:1248: UndefinedMetricWarning: Precision and F-score are ill-defined and being set to 0.0 in labels with no predicted samples. Use `zero_division` parameter to control this behavior.\n",
      "  _warn_prf(average, modifier, msg_start, len(result))\n",
      "C:\\Users\\ravic\\anaconda3\\lib\\site-packages\\sklearn\\metrics\\_classification.py:1248: UndefinedMetricWarning: Precision and F-score are ill-defined and being set to 0.0 in labels with no predicted samples. Use `zero_division` parameter to control this behavior.\n",
      "  _warn_prf(average, modifier, msg_start, len(result))\n"
     ]
    }
   ],
   "source": [
    "y_predict = kmodel.fit(Ftrain, Ltrain).predict(Ftest)\n",
    "class_names = target.unique()\n",
    "print(classification_report(Ltest, y_predict, target_names=class_names))\n",
    "print(confusion_matrix(Ltest, y_predict))"
   ]
  },
  {
   "cell_type": "markdown",
   "id": "197eedfc",
   "metadata": {},
   "source": [
    "# Logistic on grayscale data"
   ]
  },
  {
   "cell_type": "code",
   "execution_count": 37,
   "id": "9fd6cafe",
   "metadata": {},
   "outputs": [
    {
     "data": {
      "text/plain": [
       "0.3804609563123495"
      ]
     },
     "execution_count": 37,
     "metadata": {},
     "output_type": "execute_result"
    }
   ],
   "source": [
    "from sklearn.linear_model import LogisticRegression\n",
    "model=LogisticRegression(solver='lbfgs', max_iter=10000)\n",
    "model.fit(Ftrain,Ltrain)\n",
    "model.score(Ftest,Ltest)"
   ]
  },
  {
   "cell_type": "code",
   "execution_count": 38,
   "id": "ad468ab9",
   "metadata": {},
   "outputs": [
    {
     "name": "stdout",
     "output_type": "stream",
     "text": [
      "                               precision    recall  f1-score   support\n",
      "\n",
      "               bacterial_spot       0.53      0.54      0.54       349\n",
      "                 early_blight       0.15      0.17      0.16       182\n",
      "                      healthy       0.37      0.41      0.39       258\n",
      "                  late_blight       0.29      0.32      0.31       316\n",
      "                    leaf_mold       0.32      0.39      0.35       145\n",
      "           septoria_leaf_spot       0.31      0.34      0.32       262\n",
      "                  target_spot       0.27      0.28      0.28       229\n",
      "          tomato_mosaic_virus       0.09      0.16      0.12        58\n",
      "tomato_yellow_leaf_curl_virus       0.51      0.46      0.48       857\n",
      "      two-spotted_spider_mite       0.42      0.27      0.33       251\n",
      "\n",
      "                     accuracy                           0.38      2907\n",
      "                    macro avg       0.33      0.33      0.33      2907\n",
      "                 weighted avg       0.39      0.38      0.38      2907\n",
      "\n",
      "[[190  23  19  23  11   9  13   0  58   3]\n",
      " [ 26  31  11  10  11  14  27   1  49   2]\n",
      " [ 16  13 106  42   4  17  21   3  30   6]\n",
      " [ 13  25  38 100  17  40  17  16  41   9]\n",
      " [  5   6   4  21  57  10   5   7  26   4]\n",
      " [ 12  10  24  23  15  89  20  14  47   8]\n",
      " [ 23  22  21  22   6  23  64   4  27  17]\n",
      " [  1   1   1   2   2   3   1   9  37   1]\n",
      " [ 62  51  48  85  46  55  39  35 391  45]\n",
      " [  9  21  14  11  10  28  26   8  55  69]]\n"
     ]
    }
   ],
   "source": [
    "y_predict = model.fit(Ftrain, Ltrain).predict(Ftest)\n",
    "class_names = target.unique()\n",
    "print(classification_report(Ltest, y_predict, target_names=class_names))\n",
    "print(confusion_matrix(Ltest, y_predict))"
   ]
  },
  {
   "cell_type": "markdown",
   "id": "5284f869",
   "metadata": {},
   "source": [
    "# SVM on Grayscale data"
   ]
  },
  {
   "cell_type": "code",
   "execution_count": 39,
   "id": "d0db5c80",
   "metadata": {},
   "outputs": [
    {
     "name": "stdout",
     "output_type": "stream",
     "text": [
      "0.38321293429652564\n"
     ]
    }
   ],
   "source": [
    "clf = SVC(kernel='linear')\n",
    "clf.fit(Ftrain,Ltrain)\n",
    "y_pred = clf.predict(Ftest)\n",
    "print(accuracy_score(Ltest,y_pred))"
   ]
  },
  {
   "cell_type": "code",
   "execution_count": 40,
   "id": "907d10fb",
   "metadata": {},
   "outputs": [
    {
     "name": "stdout",
     "output_type": "stream",
     "text": [
      "                               precision    recall  f1-score   support\n",
      "\n",
      "               bacterial_spot       0.40      0.56      0.47       349\n",
      "                 early_blight       0.14      0.20      0.17       182\n",
      "                      healthy       0.43      0.47      0.45       258\n",
      "                  late_blight       0.31      0.37      0.34       316\n",
      "                    leaf_mold       0.30      0.37      0.33       145\n",
      "           septoria_leaf_spot       0.32      0.35      0.33       262\n",
      "                  target_spot       0.26      0.32      0.29       229\n",
      "          tomato_mosaic_virus       0.19      0.28      0.23        58\n",
      "tomato_yellow_leaf_curl_virus       0.64      0.39      0.48       857\n",
      "      two-spotted_spider_mite       0.55      0.31      0.40       251\n",
      "\n",
      "                     accuracy                           0.38      2907\n",
      "                    macro avg       0.35      0.36      0.35      2907\n",
      "                 weighted avg       0.43      0.38      0.39      2907\n",
      "\n",
      "[[197  43  14  26   4  15  17   0  31   2]\n",
      " [ 38  37   3  11  12  10  34   0  34   3]\n",
      " [ 44   7 121  41   7  14  12   0  11   1]\n",
      " [ 27  41  27 116  18  39  23   7  13   5]\n",
      " [  9   9   4  28  53  12   5   9  11   5]\n",
      " [ 27  19  25  35  14  92  24   6  17   3]\n",
      " [ 41  25  16  15   8  15  73   2  18  16]\n",
      " [  4   0   1   9   5   6   1  16  16   0]\n",
      " [ 94  61  62  87  44  66  44  38 331  30]\n",
      " [ 17  24   8   7  13  23  43   5  33  78]]\n"
     ]
    }
   ],
   "source": [
    "y_predict = clf.fit(Ftrain, Ltrain).predict(Ftest)\n",
    "class_names = target.unique()\n",
    "print(classification_report(Ltest, y_predict, target_names=class_names))\n",
    "print(confusion_matrix(Ltest, y_predict))"
   ]
  },
  {
   "cell_type": "markdown",
   "id": "576fd580",
   "metadata": {},
   "source": [
    "# Random Forest on Grayscale"
   ]
  },
  {
   "cell_type": "code",
   "execution_count": 41,
   "id": "9dfa979e",
   "metadata": {},
   "outputs": [
    {
     "data": {
      "text/plain": [
       "RandomForestClassifier(max_depth=5, n_jobs=-1, oob_score=True, random_state=42)"
      ]
     },
     "execution_count": 41,
     "metadata": {},
     "output_type": "execute_result"
    }
   ],
   "source": [
    "classifier_rf.fit(Ftrain, Ltrain)"
   ]
  },
  {
   "cell_type": "code",
   "execution_count": 42,
   "id": "2b4347ef",
   "metadata": {},
   "outputs": [
    {
     "data": {
      "text/plain": [
       "0.45010323468685476"
      ]
     },
     "execution_count": 42,
     "metadata": {},
     "output_type": "execute_result"
    }
   ],
   "source": [
    "classifier_rf.oob_score_"
   ]
  },
  {
   "cell_type": "code",
   "execution_count": 43,
   "id": "ce5db8b5",
   "metadata": {},
   "outputs": [
    {
     "name": "stdout",
     "output_type": "stream",
     "text": [
      "                               precision    recall  f1-score   support\n",
      "\n",
      "               bacterial_spot       0.62      0.48      0.54       349\n",
      "                 early_blight       0.00      0.00      0.00       182\n",
      "                      healthy       0.60      0.40      0.48       258\n",
      "                  late_blight       0.72      0.22      0.34       316\n",
      "                    leaf_mold       0.76      0.09      0.16       145\n",
      "           septoria_leaf_spot       0.59      0.48      0.53       262\n",
      "                  target_spot       0.69      0.16      0.26       229\n",
      "          tomato_mosaic_virus       0.00      0.00      0.00        58\n",
      "tomato_yellow_leaf_curl_virus       0.40      0.92      0.56       857\n",
      "      two-spotted_spider_mite       0.58      0.26      0.36       251\n",
      "\n",
      "                     accuracy                           0.47      2907\n",
      "                    macro avg       0.49      0.30      0.32      2907\n",
      "                 weighted avg       0.52      0.47      0.42      2907\n",
      "\n",
      "[[167   0  11   4   0   2   1   0 164   0]\n",
      " [ 32   0   2   1   1  16   1   0 124   5]\n",
      " [  2   0 103   9   0   0   2   0 141   1]\n",
      " [ 12   0  21  71   2  35   7   0 165   3]\n",
      " [  6   0   1   9  13   6   1   0 105   4]\n",
      " [  2   0  21   3   1 126   3   0 101   5]\n",
      " [  4   0   1   0   0  14  37   0 147  26]\n",
      " [  1   0   0   0   0   1   0   0  55   1]\n",
      " [ 35   0  13   2   0  14   0   0 790   3]\n",
      " [ 10   0   0   0   0   1   2   0 172  66]]\n"
     ]
    },
    {
     "name": "stderr",
     "output_type": "stream",
     "text": [
      "C:\\Users\\ravic\\anaconda3\\lib\\site-packages\\sklearn\\metrics\\_classification.py:1248: UndefinedMetricWarning: Precision and F-score are ill-defined and being set to 0.0 in labels with no predicted samples. Use `zero_division` parameter to control this behavior.\n",
      "  _warn_prf(average, modifier, msg_start, len(result))\n",
      "C:\\Users\\ravic\\anaconda3\\lib\\site-packages\\sklearn\\metrics\\_classification.py:1248: UndefinedMetricWarning: Precision and F-score are ill-defined and being set to 0.0 in labels with no predicted samples. Use `zero_division` parameter to control this behavior.\n",
      "  _warn_prf(average, modifier, msg_start, len(result))\n",
      "C:\\Users\\ravic\\anaconda3\\lib\\site-packages\\sklearn\\metrics\\_classification.py:1248: UndefinedMetricWarning: Precision and F-score are ill-defined and being set to 0.0 in labels with no predicted samples. Use `zero_division` parameter to control this behavior.\n",
      "  _warn_prf(average, modifier, msg_start, len(result))\n"
     ]
    }
   ],
   "source": [
    "y_predict = classifier_rf.fit(Ftrain, Ltrain).predict(Ftest)\n",
    "class_names = target.unique()\n",
    "print(classification_report(Ltest, y_predict, target_names=class_names))\n",
    "print(confusion_matrix(Ltest, y_predict))"
   ]
  },
  {
   "cell_type": "markdown",
   "id": "8befce61",
   "metadata": {},
   "source": [
    "# Naive bayes on Grayscale"
   ]
  },
  {
   "cell_type": "code",
   "execution_count": 44,
   "id": "0d1a6d3b",
   "metadata": {},
   "outputs": [
    {
     "data": {
      "text/plain": [
       "GaussianNB()"
      ]
     },
     "execution_count": 44,
     "metadata": {},
     "output_type": "execute_result"
    }
   ],
   "source": [
    "gnb.fit(Ftrain, Ltrain)"
   ]
  },
  {
   "cell_type": "code",
   "execution_count": 45,
   "id": "053c9a09",
   "metadata": {},
   "outputs": [
    {
     "data": {
      "text/plain": [
       "0.3780529755761954"
      ]
     },
     "execution_count": 45,
     "metadata": {},
     "output_type": "execute_result"
    }
   ],
   "source": [
    "y_pred = gnb.predict(Ftest)\n",
    "metrics.accuracy_score(Ltest, y_pred)"
   ]
  },
  {
   "cell_type": "code",
   "execution_count": 46,
   "id": "0ea180f7",
   "metadata": {},
   "outputs": [
    {
     "name": "stdout",
     "output_type": "stream",
     "text": [
      "                               precision    recall  f1-score   support\n",
      "\n",
      "               bacterial_spot       0.43      0.74      0.54       349\n",
      "                 early_blight       0.25      0.32      0.28       182\n",
      "                      healthy       0.33      0.66      0.44       258\n",
      "                  late_blight       0.40      0.22      0.28       316\n",
      "                    leaf_mold       0.43      0.30      0.35       145\n",
      "           septoria_leaf_spot       0.35      0.50      0.41       262\n",
      "                  target_spot       0.53      0.38      0.44       229\n",
      "          tomato_mosaic_virus       0.13      0.59      0.22        58\n",
      "tomato_yellow_leaf_curl_virus       0.65      0.16      0.25       857\n",
      "      two-spotted_spider_mite       0.40      0.46      0.43       251\n",
      "\n",
      "                     accuracy                           0.38      2907\n",
      "                    macro avg       0.39      0.43      0.36      2907\n",
      "                 weighted avg       0.46      0.38      0.36      2907\n",
      "\n",
      "[[257   9  47   2   4   9   3  13   4   1]\n",
      " [ 54  59   3  21   6   8   9   5   6  11]\n",
      " [ 10   2 170   7   9   4  15   8  25   8]\n",
      " [  9  55  97  69   7  38   6  14  10  11]\n",
      " [ 22   3   7  10  43  27   4  16   7   6]\n",
      " [  3   6  50   9   6 131  17  17   5  18]\n",
      " [ 26  20   1  11   9  26  86  18   2  30]\n",
      " [ 12   0   3   0   1   2   0  34   3   3]\n",
      " [195  59 129  38  11 100   5 102 135  83]\n",
      " [ 13  22   1   6   3  33  18  28  12 115]]\n"
     ]
    }
   ],
   "source": [
    "class_names = target.unique()\n",
    "print(classification_report(Ltest, y_pred, target_names=class_names))\n",
    "print(confusion_matrix(Ltest, y_pred))"
   ]
  },
  {
   "cell_type": "markdown",
   "id": "7adb2a72",
   "metadata": {},
   "source": [
    "# Decision Tree on Grayscale"
   ]
  },
  {
   "cell_type": "code",
   "execution_count": 47,
   "id": "8e38f8b5",
   "metadata": {},
   "outputs": [
    {
     "data": {
      "text/plain": [
       "0.42724458204334365"
      ]
     },
     "execution_count": 47,
     "metadata": {},
     "output_type": "execute_result"
    }
   ],
   "source": [
    "classifier_tree.fit(Ftrain, Ltrain)\n",
    "classifier_tree.score(Ftest,Ltest)"
   ]
  },
  {
   "cell_type": "code",
   "execution_count": 48,
   "id": "838a0a4d",
   "metadata": {},
   "outputs": [
    {
     "name": "stdout",
     "output_type": "stream",
     "text": [
      "                               precision    recall  f1-score   support\n",
      "\n",
      "               bacterial_spot       0.42      0.48      0.45       349\n",
      "                 early_blight       0.15      0.12      0.13       182\n",
      "                      healthy       0.56      0.56      0.56       258\n",
      "                  late_blight       0.41      0.35      0.38       316\n",
      "                    leaf_mold       0.26      0.30      0.28       145\n",
      "           septoria_leaf_spot       0.37      0.41      0.39       262\n",
      "                  target_spot       0.35      0.33      0.34       229\n",
      "          tomato_mosaic_virus       0.06      0.09      0.07        58\n",
      "tomato_yellow_leaf_curl_virus       0.53      0.51      0.52       857\n",
      "      two-spotted_spider_mite       0.38      0.37      0.37       251\n",
      "\n",
      "                     accuracy                           0.42      2907\n",
      "                    macro avg       0.35      0.35      0.35      2907\n",
      "                 weighted avg       0.42      0.42      0.42      2907\n",
      "\n",
      "[[169  21  12  12  12  18  11  10  75   9]\n",
      " [ 36  22   5  14   6  19  17   4  46  13]\n",
      " [ 18   6 144   9  10   8  13   6  35   9]\n",
      " [ 25  19  12 112  16  35  14   3  61  19]\n",
      " [ 10   3   6  18  43  13   8   5  32   7]\n",
      " [ 10  10  21  28  11 108  22   7  38   7]\n",
      " [ 20  14  16  14   8  25  75   6  26  25]\n",
      " [  6   1   2   3   5   2   4   5  21   9]\n",
      " [ 92  37  28  49  45  57  26  31 436  56]\n",
      " [ 17  15  13  13  10   8  24   7  51  93]]\n"
     ]
    }
   ],
   "source": [
    "y_predict = classifier_tree.fit(Ftrain, Ltrain).predict(Ftest)\n",
    "class_names = target.unique()\n",
    "print(classification_report(Ltest, y_predict, target_names=class_names))\n",
    "print(confusion_matrix(Ltest, y_predict))"
   ]
  },
  {
   "cell_type": "markdown",
   "id": "e42f549f",
   "metadata": {},
   "source": [
    "# KNN on Red channel data"
   ]
  },
  {
   "cell_type": "code",
   "execution_count": 49,
   "id": "cb75cbbd",
   "metadata": {},
   "outputs": [],
   "source": [
    "#reading numpy array data\n",
    "red_test = np.load('red_data.npy')\n",
    "#reading csv file\n",
    "red_df = pd.read_csv('red_data.csv')"
   ]
  },
  {
   "cell_type": "code",
   "execution_count": 50,
   "id": "7fda7839",
   "metadata": {},
   "outputs": [],
   "source": [
    "loaded = []\n",
    "for i in red_test:\n",
    "    k = []\n",
    "    k = np.asarray(i,dtype='uint8')\n",
    "    loaded.append(k)\n",
    "features = loaded\n",
    "target = red_df['disease']\n",
    "Ftrain,Ftest,Ltrain,Ltest=train_test_split(features,target, test_size=0.20, random_state=20)\n",
    "scaler = StandardScaler()\n",
    "Ftrain = scaler.fit_transform(Ftrain)\n",
    "Ftest = scaler.fit_transform(Ftest)"
   ]
  },
  {
   "cell_type": "code",
   "execution_count": 51,
   "id": "683839f2",
   "metadata": {},
   "outputs": [
    {
     "data": {
      "text/plain": [
       "0.500515995872033"
      ]
     },
     "execution_count": 51,
     "metadata": {},
     "output_type": "execute_result"
    }
   ],
   "source": [
    "kmodel.fit(Ftrain,Ltrain)\n",
    "kmodel.score(Ftest,Ltest)"
   ]
  },
  {
   "cell_type": "code",
   "execution_count": 52,
   "id": "3f0b171c",
   "metadata": {},
   "outputs": [
    {
     "name": "stdout",
     "output_type": "stream",
     "text": [
      "                               precision    recall  f1-score   support\n",
      "\n",
      "               bacterial_spot       0.38      0.78      0.51       349\n",
      "                 early_blight       0.00      0.00      0.00       182\n",
      "                      healthy       0.42      0.81      0.55       258\n",
      "                  late_blight       0.40      0.32      0.36       316\n",
      "                    leaf_mold       0.62      0.48      0.54       145\n",
      "           septoria_leaf_spot       0.54      0.45      0.49       262\n",
      "                  target_spot       0.48      0.51      0.49       229\n",
      "          tomato_mosaic_virus       0.35      0.10      0.16        58\n",
      "tomato_yellow_leaf_curl_virus       0.64      0.55      0.59       857\n",
      "      two-spotted_spider_mite       0.75      0.37      0.50       251\n",
      "\n",
      "                     accuracy                           0.50      2907\n",
      "                    macro avg       0.46      0.44      0.42      2907\n",
      "                 weighted avg       0.51      0.50      0.48      2907\n",
      "\n",
      "[[272   0  32  18   1   2   1   0  23   0]\n",
      " [ 95   0  11   2   7   8  27   1  30   1]\n",
      " [ 13   0 209  14   0   4   0   0  18   0]\n",
      " [ 47   0  52 101  10  47  11   1  45   2]\n",
      " [ 10   0  18  19  69   6   4   1  17   1]\n",
      " [ 25   0  33  22   5 118  13   3  41   2]\n",
      " [ 63   0  19   2   0  11 116   0  14   4]\n",
      " [  2   0   5   6   2   1   2   6  30   4]\n",
      " [147   0 111  62  18  16  12   3 471  17]\n",
      " [ 38   0   9   5   0   7  55   2  42  93]]\n"
     ]
    },
    {
     "name": "stderr",
     "output_type": "stream",
     "text": [
      "C:\\Users\\ravic\\anaconda3\\lib\\site-packages\\sklearn\\metrics\\_classification.py:1248: UndefinedMetricWarning: Precision and F-score are ill-defined and being set to 0.0 in labels with no predicted samples. Use `zero_division` parameter to control this behavior.\n",
      "  _warn_prf(average, modifier, msg_start, len(result))\n",
      "C:\\Users\\ravic\\anaconda3\\lib\\site-packages\\sklearn\\metrics\\_classification.py:1248: UndefinedMetricWarning: Precision and F-score are ill-defined and being set to 0.0 in labels with no predicted samples. Use `zero_division` parameter to control this behavior.\n",
      "  _warn_prf(average, modifier, msg_start, len(result))\n",
      "C:\\Users\\ravic\\anaconda3\\lib\\site-packages\\sklearn\\metrics\\_classification.py:1248: UndefinedMetricWarning: Precision and F-score are ill-defined and being set to 0.0 in labels with no predicted samples. Use `zero_division` parameter to control this behavior.\n",
      "  _warn_prf(average, modifier, msg_start, len(result))\n"
     ]
    }
   ],
   "source": [
    "y_predict = kmodel.fit(Ftrain, Ltrain).predict(Ftest)\n",
    "class_names = target.unique()\n",
    "print(classification_report(Ltest, y_predict, target_names=class_names))\n",
    "print(confusion_matrix(Ltest, y_predict))"
   ]
  },
  {
   "cell_type": "markdown",
   "id": "ffcda594",
   "metadata": {},
   "source": [
    "# Logistic on Red channel data"
   ]
  },
  {
   "cell_type": "code",
   "execution_count": 53,
   "id": "1ed4037b",
   "metadata": {},
   "outputs": [
    {
     "data": {
      "text/plain": [
       "0.4282765737874097"
      ]
     },
     "execution_count": 53,
     "metadata": {},
     "output_type": "execute_result"
    }
   ],
   "source": [
    "model.fit(Ftrain,Ltrain)\n",
    "model.score(Ftest,Ltest)"
   ]
  },
  {
   "cell_type": "code",
   "execution_count": 54,
   "id": "19a4a62d",
   "metadata": {},
   "outputs": [
    {
     "name": "stdout",
     "output_type": "stream",
     "text": [
      "                               precision    recall  f1-score   support\n",
      "\n",
      "               bacterial_spot       0.56      0.59      0.57       349\n",
      "                 early_blight       0.14      0.16      0.15       182\n",
      "                      healthy       0.47      0.52      0.49       258\n",
      "                  late_blight       0.34      0.35      0.35       316\n",
      "                    leaf_mold       0.34      0.43      0.38       145\n",
      "           septoria_leaf_spot       0.32      0.37      0.34       262\n",
      "                  target_spot       0.40      0.38      0.39       229\n",
      "          tomato_mosaic_virus       0.16      0.22      0.19        58\n",
      "tomato_yellow_leaf_curl_virus       0.55      0.49      0.52       857\n",
      "      two-spotted_spider_mite       0.50      0.35      0.41       251\n",
      "\n",
      "                     accuracy                           0.43      2907\n",
      "                    macro avg       0.38      0.39      0.38      2907\n",
      "                 weighted avg       0.44      0.43      0.43      2907\n",
      "\n",
      "[[205  24  14  27   6  13  14   1  43   2]\n",
      " [ 28  29  12  11  12  14  25   2  44   5]\n",
      " [ 16  17 133  25   6  18  14   2  22   5]\n",
      " [ 12  25  24 111  19  42  15   8  50  10]\n",
      " [  4   6   4  18  63  13   2   5  27   3]\n",
      " [ 12  10  18  33  13  96  22   8  40  10]\n",
      " [ 22  17  26  11   7  20  88   5  23  10]\n",
      " [  0   2   2   0   2   3   1  13  34   1]\n",
      " [ 56  54  41  85  49  56  20  35 419  42]\n",
      " [ 11  16  10   6  10  28  19   2  61  88]]\n"
     ]
    }
   ],
   "source": [
    "y_predict = model.fit(Ftrain, Ltrain).predict(Ftest)\n",
    "class_names = target.unique()\n",
    "print(classification_report(Ltest, y_predict, target_names=class_names))\n",
    "print(confusion_matrix(Ltest, y_predict))"
   ]
  },
  {
   "cell_type": "markdown",
   "id": "dba6d5ce",
   "metadata": {},
   "source": [
    "# SVM on Red channel data"
   ]
  },
  {
   "cell_type": "code",
   "execution_count": 55,
   "id": "6ed153f7",
   "metadata": {},
   "outputs": [
    {
     "name": "stdout",
     "output_type": "stream",
     "text": [
      "0.42655658754729964\n"
     ]
    }
   ],
   "source": [
    "clf.fit(Ftrain,Ltrain)\n",
    "y_pred = clf.predict(Ftest)\n",
    "print(accuracy_score(Ltest,y_pred))"
   ]
  },
  {
   "cell_type": "code",
   "execution_count": 56,
   "id": "cb2cb836",
   "metadata": {},
   "outputs": [
    {
     "name": "stdout",
     "output_type": "stream",
     "text": [
      "                               precision    recall  f1-score   support\n",
      "\n",
      "               bacterial_spot       0.41      0.62      0.49       349\n",
      "                 early_blight       0.15      0.21      0.17       182\n",
      "                      healthy       0.50      0.54      0.52       258\n",
      "                  late_blight       0.34      0.37      0.35       316\n",
      "                    leaf_mold       0.32      0.37      0.34       145\n",
      "           septoria_leaf_spot       0.34      0.38      0.36       262\n",
      "                  target_spot       0.36      0.35      0.36       229\n",
      "          tomato_mosaic_virus       0.23      0.38      0.29        58\n",
      "tomato_yellow_leaf_curl_virus       0.68      0.42      0.52       857\n",
      "      two-spotted_spider_mite       0.63      0.46      0.53       251\n",
      "\n",
      "                     accuracy                           0.43      2907\n",
      "                    macro avg       0.40      0.41      0.39      2907\n",
      "                 weighted avg       0.47      0.43      0.44      2907\n",
      "\n",
      "[[215  38  14  21   2  15  15   0  29   0]\n",
      " [ 46  39   6   9  11  14  21   1  33   2]\n",
      " [ 45  12 140  24   5  11  13   1   6   1]\n",
      " [ 35  36  32 116  17  39   9   8  20   4]\n",
      " [  7  11   2  32  54  17   3   5  11   3]\n",
      " [ 27  16  18  46   6 100  24   7  13   5]\n",
      " [ 48  27  12   7   6  25  81   1  10  12]\n",
      " [  3   0   0   5   5   4   3  22  16   0]\n",
      " [ 86  63  49  76  52  51  34  47 357  42]\n",
      " [ 12  22   6   6  12  21  21   3  32 116]]\n"
     ]
    }
   ],
   "source": [
    "y_predict = clf.fit(Ftrain, Ltrain).predict(Ftest)\n",
    "class_names = target.unique()\n",
    "print(classification_report(Ltest, y_predict, target_names=class_names))\n",
    "print(confusion_matrix(Ltest, y_predict))"
   ]
  },
  {
   "cell_type": "markdown",
   "id": "a670c4d4",
   "metadata": {},
   "source": [
    "# Random forest on Red channel data"
   ]
  },
  {
   "cell_type": "code",
   "execution_count": 57,
   "id": "9e816e9e",
   "metadata": {},
   "outputs": [
    {
     "data": {
      "text/plain": [
       "0.4869236063317275"
      ]
     },
     "execution_count": 57,
     "metadata": {},
     "output_type": "execute_result"
    }
   ],
   "source": [
    "classifier_rf.fit(Ftrain, Ltrain)\n",
    "classifier_rf.oob_score_"
   ]
  },
  {
   "cell_type": "code",
   "execution_count": 58,
   "id": "2c17baee",
   "metadata": {},
   "outputs": [
    {
     "name": "stdout",
     "output_type": "stream",
     "text": [
      "                               precision    recall  f1-score   support\n",
      "\n",
      "               bacterial_spot       0.64      0.49      0.56       349\n",
      "                 early_blight       0.00      0.00      0.00       182\n",
      "                      healthy       0.70      0.43      0.54       258\n",
      "                  late_blight       0.61      0.17      0.27       316\n",
      "                    leaf_mold       0.81      0.12      0.20       145\n",
      "           septoria_leaf_spot       0.53      0.48      0.50       262\n",
      "                  target_spot       0.73      0.23      0.35       229\n",
      "          tomato_mosaic_virus       0.00      0.00      0.00        58\n",
      "tomato_yellow_leaf_curl_virus       0.42      0.91      0.58       857\n",
      "      two-spotted_spider_mite       0.61      0.49      0.54       251\n",
      "\n",
      "                     accuracy                           0.50      2907\n",
      "                    macro avg       0.50      0.33      0.35      2907\n",
      "                 weighted avg       0.53      0.50      0.44      2907\n",
      "\n",
      "[[172   0  15   5   0   0   0   0 155   2]\n",
      " [ 30   0   0   6   1  18   7   0 110  10]\n",
      " [  1   0 112   2   0   0   2   0 140   1]\n",
      " [  5   0  14  54   2  47   4   0 183   7]\n",
      " [  5   0   2  12  17  12   1   0  91   5]\n",
      " [  3   0   5   2   1 125   3   0 113  10]\n",
      " [  7   0   2   1   0  20  53   0 109  37]\n",
      " [  0   0   0   0   0   1   0   0  55   2]\n",
      " [ 41   0   9   7   0  12   0   0 783   5]\n",
      " [  5   0   0   0   0   3   3   0 117 123]]\n"
     ]
    },
    {
     "name": "stderr",
     "output_type": "stream",
     "text": [
      "C:\\Users\\ravic\\anaconda3\\lib\\site-packages\\sklearn\\metrics\\_classification.py:1248: UndefinedMetricWarning: Precision and F-score are ill-defined and being set to 0.0 in labels with no predicted samples. Use `zero_division` parameter to control this behavior.\n",
      "  _warn_prf(average, modifier, msg_start, len(result))\n",
      "C:\\Users\\ravic\\anaconda3\\lib\\site-packages\\sklearn\\metrics\\_classification.py:1248: UndefinedMetricWarning: Precision and F-score are ill-defined and being set to 0.0 in labels with no predicted samples. Use `zero_division` parameter to control this behavior.\n",
      "  _warn_prf(average, modifier, msg_start, len(result))\n",
      "C:\\Users\\ravic\\anaconda3\\lib\\site-packages\\sklearn\\metrics\\_classification.py:1248: UndefinedMetricWarning: Precision and F-score are ill-defined and being set to 0.0 in labels with no predicted samples. Use `zero_division` parameter to control this behavior.\n",
      "  _warn_prf(average, modifier, msg_start, len(result))\n"
     ]
    }
   ],
   "source": [
    "y_predict = classifier_rf.fit(Ftrain, Ltrain).predict(Ftest)\n",
    "class_names = target.unique()\n",
    "print(classification_report(Ltest, y_predict, target_names=class_names))\n",
    "print(confusion_matrix(Ltest, y_predict))"
   ]
  },
  {
   "cell_type": "markdown",
   "id": "e1c2d95a",
   "metadata": {},
   "source": [
    "# Naive Bayes on Red channel data"
   ]
  },
  {
   "cell_type": "code",
   "execution_count": 59,
   "id": "8ec0753c",
   "metadata": {},
   "outputs": [
    {
     "data": {
      "text/plain": [
       "GaussianNB()"
      ]
     },
     "execution_count": 59,
     "metadata": {},
     "output_type": "execute_result"
    }
   ],
   "source": [
    "gnb.fit(Ftrain, Ltrain)"
   ]
  },
  {
   "cell_type": "code",
   "execution_count": 60,
   "id": "9bd3c55d",
   "metadata": {},
   "outputs": [
    {
     "data": {
      "text/plain": [
       "0.3935328517371861"
      ]
     },
     "execution_count": 60,
     "metadata": {},
     "output_type": "execute_result"
    }
   ],
   "source": [
    "y_pred = gnb.predict(Ftest)\n",
    "metrics.accuracy_score(Ltest, y_pred)"
   ]
  },
  {
   "cell_type": "code",
   "execution_count": 61,
   "id": "9ac4f5ac",
   "metadata": {},
   "outputs": [
    {
     "name": "stdout",
     "output_type": "stream",
     "text": [
      "                               precision    recall  f1-score   support\n",
      "\n",
      "               bacterial_spot       0.46      0.72      0.56       349\n",
      "                 early_blight       0.22      0.26      0.24       182\n",
      "                      healthy       0.36      0.72      0.47       258\n",
      "                  late_blight       0.44      0.24      0.31       316\n",
      "                    leaf_mold       0.37      0.32      0.34       145\n",
      "           septoria_leaf_spot       0.36      0.46      0.40       262\n",
      "                  target_spot       0.55      0.47      0.51       229\n",
      "          tomato_mosaic_virus       0.15      0.69      0.25        58\n",
      "tomato_yellow_leaf_curl_virus       0.63      0.14      0.23       857\n",
      "      two-spotted_spider_mite       0.43      0.59      0.50       251\n",
      "\n",
      "                     accuracy                           0.39      2907\n",
      "                    macro avg       0.40      0.46      0.38      2907\n",
      "                 weighted avg       0.47      0.39      0.37      2907\n",
      "\n",
      "[[250   9  52   6   4   7   4  11   5   1]\n",
      " [ 55  47   3  20   9  10  14   5   8  11]\n",
      " [  9   3 185   6   7   5  13   2  24   4]\n",
      " [  4  42  92  77  13  45   6  16  12   9]\n",
      " [ 16   3   7  10  47  31   4  12   7   8]\n",
      " [  3  10  39  12   7 120  22  19   5  25]\n",
      " [ 18  17   2   5   3  18 108  15   1  42]\n",
      " [  9   0   1   0   2   1   0  40   4   1]\n",
      " [175  59 140  36  36  70   7 120 123  91]\n",
      " [ 10  19   0   4   0  27  17  22   5 147]]\n"
     ]
    }
   ],
   "source": [
    "class_names = target.unique()\n",
    "print(classification_report(Ltest, y_pred, target_names=class_names))\n",
    "print(confusion_matrix(Ltest, y_pred))"
   ]
  },
  {
   "cell_type": "markdown",
   "id": "0a606422",
   "metadata": {},
   "source": [
    "# Decision Tree on Red channel"
   ]
  },
  {
   "cell_type": "code",
   "execution_count": 62,
   "id": "2b6fe1e7",
   "metadata": {},
   "outputs": [
    {
     "data": {
      "text/plain": [
       "0.4444444444444444"
      ]
     },
     "execution_count": 62,
     "metadata": {},
     "output_type": "execute_result"
    }
   ],
   "source": [
    "classifier_tree.fit(Ftrain, Ltrain)\n",
    "classifier_tree.score(Ftest,Ltest)"
   ]
  },
  {
   "cell_type": "code",
   "execution_count": 63,
   "id": "7c5134cd",
   "metadata": {},
   "outputs": [
    {
     "name": "stdout",
     "output_type": "stream",
     "text": [
      "                               precision    recall  f1-score   support\n",
      "\n",
      "               bacterial_spot       0.47      0.51      0.49       349\n",
      "                 early_blight       0.16      0.15      0.15       182\n",
      "                      healthy       0.61      0.64      0.62       258\n",
      "                  late_blight       0.46      0.40      0.43       316\n",
      "                    leaf_mold       0.27      0.28      0.27       145\n",
      "           septoria_leaf_spot       0.35      0.40      0.37       262\n",
      "                  target_spot       0.30      0.28      0.29       229\n",
      "          tomato_mosaic_virus       0.11      0.17      0.14        58\n",
      "tomato_yellow_leaf_curl_virus       0.59      0.55      0.57       857\n",
      "      two-spotted_spider_mite       0.41      0.44      0.42       251\n",
      "\n",
      "                     accuracy                           0.45      2907\n",
      "                    macro avg       0.37      0.38      0.38      2907\n",
      "                 weighted avg       0.45      0.45      0.45      2907\n",
      "\n",
      "[[178  37  12  15  12  19  16   5  50   5]\n",
      " [ 29  27   4  16  17  10  17   4  42  16]\n",
      " [ 14   7 164  10   6  16   9   0  24   8]\n",
      " [ 19  15  11 127  12  41  18   6  45  22]\n",
      " [  5   9   9  17  40  17   5   7  29   7]\n",
      " [ 19   7  14  25  11 105  23   9  32  17]\n",
      " [ 16  16  13  10   7  23  64   8  33  39]\n",
      " [  4   1   3   2   3   3   4  10  23   5]\n",
      " [ 89  35  35  47  31  50  37  24 470  39]\n",
      " [  7  15   4   8   8  16  21  14  48 110]]\n"
     ]
    }
   ],
   "source": [
    "y_predict = classifier_tree.fit(Ftrain, Ltrain).predict(Ftest)\n",
    "class_names = target.unique()\n",
    "print(classification_report(Ltest, y_predict, target_names=class_names))\n",
    "print(confusion_matrix(Ltest, y_predict))"
   ]
  },
  {
   "cell_type": "markdown",
   "id": "21af7568",
   "metadata": {},
   "source": [
    "# KNN on green channel data"
   ]
  },
  {
   "cell_type": "code",
   "execution_count": 64,
   "id": "461b784b",
   "metadata": {},
   "outputs": [
    {
     "data": {
      "text/plain": [
       "0.4582043343653251"
      ]
     },
     "execution_count": 64,
     "metadata": {},
     "output_type": "execute_result"
    }
   ],
   "source": [
    "#reading numpy array data\n",
    "green_test = np.load('green_data.npy')\n",
    "#reading csv file\n",
    "green_df = pd.read_csv('green_data.csv')\n",
    "loaded = []\n",
    "for i in green_test:\n",
    "    k = []\n",
    "    k = np.asarray(i,dtype='uint8')\n",
    "    loaded.append(k)\n",
    "features = loaded\n",
    "target = green_df['disease']\n",
    "Ftrain,Ftest,Ltrain,Ltest=train_test_split(features,target, test_size=0.20, random_state=20)\n",
    "scaler = StandardScaler()\n",
    "Ftrain = scaler.fit_transform(Ftrain)\n",
    "Ftest = scaler.fit_transform(Ftest)\n",
    "kmodel.fit(Ftrain,Ltrain)\n",
    "kmodel.score(Ftest,Ltest)"
   ]
  },
  {
   "cell_type": "code",
   "execution_count": 65,
   "id": "5a26601b",
   "metadata": {},
   "outputs": [
    {
     "name": "stdout",
     "output_type": "stream",
     "text": [
      "                               precision    recall  f1-score   support\n",
      "\n",
      "               bacterial_spot       0.31      0.80      0.44       349\n",
      "                 early_blight       0.00      0.00      0.00       182\n",
      "                      healthy       0.38      0.60      0.46       258\n",
      "                  late_blight       0.31      0.31      0.31       316\n",
      "                    leaf_mold       0.51      0.50      0.50       145\n",
      "           septoria_leaf_spot       0.52      0.47      0.50       262\n",
      "                  target_spot       0.49      0.22      0.31       229\n",
      "          tomato_mosaic_virus       0.40      0.07      0.12        58\n",
      "tomato_yellow_leaf_curl_virus       0.70      0.57      0.63       857\n",
      "      two-spotted_spider_mite       0.68      0.24      0.36       251\n",
      "\n",
      "                     accuracy                           0.46      2907\n",
      "                    macro avg       0.43      0.38      0.36      2907\n",
      "                 weighted avg       0.49      0.46      0.44      2907\n",
      "\n",
      "[[280   0  22  26   4   5   0   0  12   0]\n",
      " [116   0   7   5  12   6  11   0  23   2]\n",
      " [ 53   0 154  34   1   8   1   1   6   0]\n",
      " [ 66   0  45  97  12  39   2   0  50   5]\n",
      " [ 19   0  13  18  72   5   4   2  11   1]\n",
      " [ 23   0  38  34   7 124   2   1  30   3]\n",
      " [109   0  10  10   4  17  51   1  18   9]\n",
      " [ 12   0   6   5   9   4   0   4  15   3]\n",
      " [151   0 104  64  16  22   4   1 489   6]\n",
      " [ 81   0   6  22   4   8  29   0  40  61]]\n"
     ]
    },
    {
     "name": "stderr",
     "output_type": "stream",
     "text": [
      "C:\\Users\\ravic\\anaconda3\\lib\\site-packages\\sklearn\\metrics\\_classification.py:1248: UndefinedMetricWarning: Precision and F-score are ill-defined and being set to 0.0 in labels with no predicted samples. Use `zero_division` parameter to control this behavior.\n",
      "  _warn_prf(average, modifier, msg_start, len(result))\n",
      "C:\\Users\\ravic\\anaconda3\\lib\\site-packages\\sklearn\\metrics\\_classification.py:1248: UndefinedMetricWarning: Precision and F-score are ill-defined and being set to 0.0 in labels with no predicted samples. Use `zero_division` parameter to control this behavior.\n",
      "  _warn_prf(average, modifier, msg_start, len(result))\n",
      "C:\\Users\\ravic\\anaconda3\\lib\\site-packages\\sklearn\\metrics\\_classification.py:1248: UndefinedMetricWarning: Precision and F-score are ill-defined and being set to 0.0 in labels with no predicted samples. Use `zero_division` parameter to control this behavior.\n",
      "  _warn_prf(average, modifier, msg_start, len(result))\n"
     ]
    }
   ],
   "source": [
    "y_predict = kmodel.fit(Ftrain, Ltrain).predict(Ftest)\n",
    "class_names = target.unique()\n",
    "print(classification_report(Ltest, y_predict, target_names=class_names))\n",
    "print(confusion_matrix(Ltest, y_predict))"
   ]
  },
  {
   "cell_type": "markdown",
   "id": "71f3ea86",
   "metadata": {},
   "source": [
    "# Logistic on Green channel data"
   ]
  },
  {
   "cell_type": "code",
   "execution_count": 66,
   "id": "28dad6b2",
   "metadata": {},
   "outputs": [
    {
     "data": {
      "text/plain": [
       "0.3935328517371861"
      ]
     },
     "execution_count": 66,
     "metadata": {},
     "output_type": "execute_result"
    }
   ],
   "source": [
    "model.fit(Ftrain,Ltrain)\n",
    "model.score(Ftest,Ltest)"
   ]
  },
  {
   "cell_type": "code",
   "execution_count": 67,
   "id": "fb6982d8",
   "metadata": {},
   "outputs": [
    {
     "name": "stdout",
     "output_type": "stream",
     "text": [
      "                               precision    recall  f1-score   support\n",
      "\n",
      "               bacterial_spot       0.52      0.54      0.53       349\n",
      "                 early_blight       0.18      0.19      0.18       182\n",
      "                      healthy       0.43      0.46      0.45       258\n",
      "                  late_blight       0.31      0.36      0.33       316\n",
      "                    leaf_mold       0.31      0.35      0.33       145\n",
      "           septoria_leaf_spot       0.30      0.33      0.31       262\n",
      "                  target_spot       0.29      0.32      0.30       229\n",
      "          tomato_mosaic_virus       0.11      0.17      0.13        58\n",
      "tomato_yellow_leaf_curl_virus       0.53      0.47      0.50       857\n",
      "      two-spotted_spider_mite       0.40      0.27      0.32       251\n",
      "\n",
      "                     accuracy                           0.39      2907\n",
      "                    macro avg       0.34      0.35      0.34      2907\n",
      "                 weighted avg       0.41      0.39      0.40      2907\n",
      "\n",
      "[[190  22  16  26  10  10  17   0  56   2]\n",
      " [ 31  34   8  14  12   9  23   5  35  11]\n",
      " [ 14  13 119  33   4  15  26   4  24   6]\n",
      " [ 13  28  31 114  16  37  13  12  41  11]\n",
      " [  9   3   3  24  51  12   6   5  29   3]\n",
      " [ 14   8  24  24  19  87  18  11  52   5]\n",
      " [ 25  19  20  18   4  24  73   6  31   9]\n",
      " [  2   3   3   5   3   2   1  10  27   2]\n",
      " [ 53  40  40  84  37  78  43  32 399  51]\n",
      " [ 13  19  11  23   9  17  30   9  53  67]]\n"
     ]
    }
   ],
   "source": [
    "y_predict = model.fit(Ftrain, Ltrain).predict(Ftest)\n",
    "class_names = target.unique()\n",
    "print(classification_report(Ltest, y_predict, target_names=class_names))\n",
    "print(confusion_matrix(Ltest, y_predict))"
   ]
  },
  {
   "cell_type": "markdown",
   "id": "f62f0223",
   "metadata": {},
   "source": [
    "# SVM on green channel data"
   ]
  },
  {
   "cell_type": "code",
   "execution_count": 68,
   "id": "e89e7297",
   "metadata": {},
   "outputs": [
    {
     "name": "stdout",
     "output_type": "stream",
     "text": [
      "0.3928448572411421\n"
     ]
    }
   ],
   "source": [
    "clf.fit(Ftrain,Ltrain)\n",
    "y_pred = clf.predict(Ftest)\n",
    "print(accuracy_score(Ltest,y_pred))"
   ]
  },
  {
   "cell_type": "code",
   "execution_count": 69,
   "id": "356165a0",
   "metadata": {},
   "outputs": [
    {
     "name": "stdout",
     "output_type": "stream",
     "text": [
      "                               precision    recall  f1-score   support\n",
      "\n",
      "               bacterial_spot       0.39      0.54      0.45       349\n",
      "                 early_blight       0.19      0.29      0.23       182\n",
      "                      healthy       0.44      0.48      0.46       258\n",
      "                  late_blight       0.31      0.37      0.34       316\n",
      "                    leaf_mold       0.26      0.32      0.29       145\n",
      "           septoria_leaf_spot       0.30      0.32      0.31       262\n",
      "                  target_spot       0.27      0.32      0.29       229\n",
      "          tomato_mosaic_virus       0.23      0.26      0.25        58\n",
      "tomato_yellow_leaf_curl_virus       0.67      0.42      0.52       857\n",
      "      two-spotted_spider_mite       0.55      0.32      0.40       251\n",
      "\n",
      "                     accuracy                           0.39      2907\n",
      "                    macro avg       0.36      0.36      0.35      2907\n",
      "                 weighted avg       0.44      0.39      0.40      2907\n",
      "\n",
      "[[190  39  14  28  10  12  21   0  30   5]\n",
      " [ 37  52   5  14   9   8  33   0  21   3]\n",
      " [ 37   9 124  32   5  16  14   2  15   4]\n",
      " [ 24  42  28 117  17  33  26   7  16   6]\n",
      " [ 13  13   3  37  47   7   8   5  10   2]\n",
      " [ 27  18  23  39  11  84  27   4  28   1]\n",
      " [ 50  28  21   7   9  13  73   3  19   6]\n",
      " [  4   2   5   8   7   8   0  15   7   2]\n",
      " [ 88  54  50  82  49  76  35  26 360  37]\n",
      " [ 20  22   7  12  16  22  36   2  34  80]]\n"
     ]
    }
   ],
   "source": [
    "y_predict = clf.fit(Ftrain, Ltrain).predict(Ftest)\n",
    "class_names = target.unique()\n",
    "print(classification_report(Ltest, y_predict, target_names=class_names))\n",
    "print(confusion_matrix(Ltest, y_predict))"
   ]
  },
  {
   "cell_type": "markdown",
   "id": "4f8e565e",
   "metadata": {},
   "source": [
    "# Random Forest on green channel data"
   ]
  },
  {
   "cell_type": "code",
   "execution_count": 70,
   "id": "96c92f8f",
   "metadata": {},
   "outputs": [
    {
     "data": {
      "text/plain": [
       "0.4338437715072264"
      ]
     },
     "execution_count": 70,
     "metadata": {},
     "output_type": "execute_result"
    }
   ],
   "source": [
    "classifier_rf.fit(Ftrain, Ltrain)\n",
    "classifier_rf.oob_score_"
   ]
  },
  {
   "cell_type": "code",
   "execution_count": 71,
   "id": "b158d3b7",
   "metadata": {},
   "outputs": [
    {
     "name": "stdout",
     "output_type": "stream",
     "text": [
      "                               precision    recall  f1-score   support\n",
      "\n",
      "               bacterial_spot       0.57      0.50      0.53       349\n",
      "                 early_blight       0.00      0.00      0.00       182\n",
      "                      healthy       0.57      0.44      0.50       258\n",
      "                  late_blight       0.65      0.25      0.36       316\n",
      "                    leaf_mold       0.00      0.00      0.00       145\n",
      "           septoria_leaf_spot       0.61      0.45      0.52       262\n",
      "                  target_spot       0.00      0.00      0.00       229\n",
      "          tomato_mosaic_virus       0.00      0.00      0.00        58\n",
      "tomato_yellow_leaf_curl_virus       0.38      0.92      0.54       857\n",
      "      two-spotted_spider_mite       0.50      0.01      0.02       251\n",
      "\n",
      "                     accuracy                           0.44      2907\n",
      "                    macro avg       0.33      0.26      0.25      2907\n",
      "                 weighted avg       0.40      0.44      0.35      2907\n",
      "\n",
      "[[176   0  13   5   0   2   0   0 153   0]\n",
      " [ 38   0   2   1   0  16   0   0 125   0]\n",
      " [  1   0 113   9   0   0   0   0 135   0]\n",
      " [ 17   0  25  78   0  31   0   0 165   0]\n",
      " [ 16   0   1   5   0   6   0   0 117   0]\n",
      " [  1   0  22   9   0 117   0   0 113   0]\n",
      " [  7   0   6   2   0  10   0   0 202   2]\n",
      " [  1   0   3   2   0   0   0   0  52   0]\n",
      " [ 39   0  12   9   0   8   0   0 789   0]\n",
      " [ 14   0   1   0   0   2   0   0 232   2]]\n"
     ]
    },
    {
     "name": "stderr",
     "output_type": "stream",
     "text": [
      "C:\\Users\\ravic\\anaconda3\\lib\\site-packages\\sklearn\\metrics\\_classification.py:1248: UndefinedMetricWarning: Precision and F-score are ill-defined and being set to 0.0 in labels with no predicted samples. Use `zero_division` parameter to control this behavior.\n",
      "  _warn_prf(average, modifier, msg_start, len(result))\n",
      "C:\\Users\\ravic\\anaconda3\\lib\\site-packages\\sklearn\\metrics\\_classification.py:1248: UndefinedMetricWarning: Precision and F-score are ill-defined and being set to 0.0 in labels with no predicted samples. Use `zero_division` parameter to control this behavior.\n",
      "  _warn_prf(average, modifier, msg_start, len(result))\n",
      "C:\\Users\\ravic\\anaconda3\\lib\\site-packages\\sklearn\\metrics\\_classification.py:1248: UndefinedMetricWarning: Precision and F-score are ill-defined and being set to 0.0 in labels with no predicted samples. Use `zero_division` parameter to control this behavior.\n",
      "  _warn_prf(average, modifier, msg_start, len(result))\n"
     ]
    }
   ],
   "source": [
    "y_predict = classifier_rf.fit(Ftrain, Ltrain).predict(Ftest)\n",
    "class_names = target.unique()\n",
    "print(classification_report(Ltest, y_predict, target_names=class_names))\n",
    "print(confusion_matrix(Ltest, y_predict))"
   ]
  },
  {
   "cell_type": "markdown",
   "id": "e9b1cca9",
   "metadata": {},
   "source": [
    "# Naive bayes on Green channel data"
   ]
  },
  {
   "cell_type": "code",
   "execution_count": 72,
   "id": "1136802c",
   "metadata": {},
   "outputs": [
    {
     "data": {
      "text/plain": [
       "0.36807705538355695"
      ]
     },
     "execution_count": 72,
     "metadata": {},
     "output_type": "execute_result"
    }
   ],
   "source": [
    "gnb.fit(Ftrain, Ltrain)\n",
    "y_pred = gnb.predict(Ftest)\n",
    "metrics.accuracy_score(Ltest, y_pred)"
   ]
  },
  {
   "cell_type": "code",
   "execution_count": 73,
   "id": "cb4c448e",
   "metadata": {},
   "outputs": [
    {
     "name": "stdout",
     "output_type": "stream",
     "text": [
      "                               precision    recall  f1-score   support\n",
      "\n",
      "               bacterial_spot       0.41      0.71      0.52       349\n",
      "                 early_blight       0.26      0.35      0.30       182\n",
      "                      healthy       0.36      0.63      0.45       258\n",
      "                  late_blight       0.40      0.22      0.29       316\n",
      "                    leaf_mold       0.35      0.28      0.31       145\n",
      "           septoria_leaf_spot       0.31      0.50      0.38       262\n",
      "                  target_spot       0.52      0.37      0.43       229\n",
      "          tomato_mosaic_virus       0.14      0.59      0.22        58\n",
      "tomato_yellow_leaf_curl_virus       0.65      0.16      0.25       857\n",
      "      two-spotted_spider_mite       0.39      0.40      0.39       251\n",
      "\n",
      "                     accuracy                           0.37      2907\n",
      "                    macro avg       0.38      0.42      0.35      2907\n",
      "                 weighted avg       0.45      0.37      0.35      2907\n",
      "\n",
      "[[249   9  38   1   6  11   3  23   7   2]\n",
      " [ 55  64   3  19  10   6  12   2   3   8]\n",
      " [ 13   2 162   6   9   7  16  10  25   8]\n",
      " [ 12  57  89  71   4  35   9  18   6  15]\n",
      " [ 19   3   7  12  40  29   2  23   3   7]\n",
      " [  2   6  53   6   8 131  14  17   7  18]\n",
      " [ 31  18   3  12  12  24  84  16   4  25]\n",
      " [  9   1   5   1   1   2   0  34   2   3]\n",
      " [208  61  94  38  18 146   9  76 135  72]\n",
      " [ 15  28   2  10   5  34  14  26  17 100]]\n"
     ]
    }
   ],
   "source": [
    "class_names = target.unique()\n",
    "print(classification_report(Ltest, y_pred, target_names=class_names))\n",
    "print(confusion_matrix(Ltest, y_pred))"
   ]
  },
  {
   "cell_type": "markdown",
   "id": "5e2c336a",
   "metadata": {},
   "source": [
    "# Decision Tree on Green channel"
   ]
  },
  {
   "cell_type": "code",
   "execution_count": 74,
   "id": "11e8600c",
   "metadata": {},
   "outputs": [
    {
     "data": {
      "text/plain": [
       "0.4176126590987272"
      ]
     },
     "execution_count": 74,
     "metadata": {},
     "output_type": "execute_result"
    }
   ],
   "source": [
    "classifier_tree.fit(Ftrain, Ltrain)\n",
    "classifier_tree.score(Ftest,Ltest)"
   ]
  },
  {
   "cell_type": "code",
   "execution_count": 75,
   "id": "ef10f4f8",
   "metadata": {},
   "outputs": [
    {
     "name": "stdout",
     "output_type": "stream",
     "text": [
      "                               precision    recall  f1-score   support\n",
      "\n",
      "               bacterial_spot       0.44      0.46      0.45       349\n",
      "                 early_blight       0.17      0.15      0.16       182\n",
      "                      healthy       0.56      0.53      0.54       258\n",
      "                  late_blight       0.40      0.34      0.37       316\n",
      "                    leaf_mold       0.22      0.27      0.24       145\n",
      "           septoria_leaf_spot       0.35      0.44      0.39       262\n",
      "                  target_spot       0.29      0.26      0.27       229\n",
      "          tomato_mosaic_virus       0.14      0.14      0.14        58\n",
      "tomato_yellow_leaf_curl_virus       0.58      0.54      0.56       857\n",
      "      two-spotted_spider_mite       0.35      0.42      0.38       251\n",
      "\n",
      "                     accuracy                           0.42      2907\n",
      "                    macro avg       0.35      0.35      0.35      2907\n",
      "                 weighted avg       0.42      0.42      0.42      2907\n",
      "\n",
      "[[161  13  11  12  17  21  12   9  76  17]\n",
      " [ 29  28   6  13  14  12  17   1  41  21]\n",
      " [ 20   6 136  13   7  21  14   4  24  13]\n",
      " [ 18  25  11 107  17  51  23   8  42  14]\n",
      " [ 14   7  12   9  39  19   3   6  26  10]\n",
      " [ 12  10  19  29  13 114  10   4  37  14]\n",
      " [ 22  10  14  12  17  16  60   3  34  41]\n",
      " [  6   4   4   3   5   4   4   8  11   9]\n",
      " [ 70  45  24  58  42  55  36  12 459  56]\n",
      " [ 15  13   6  12   7  14  29   2  47 106]]\n"
     ]
    }
   ],
   "source": [
    "y_predict = classifier_tree.fit(Ftrain, Ltrain).predict(Ftest)\n",
    "class_names = target.unique()\n",
    "print(classification_report(Ltest, y_predict, target_names=class_names))\n",
    "print(confusion_matrix(Ltest, y_predict))"
   ]
  },
  {
   "cell_type": "markdown",
   "id": "75817642",
   "metadata": {},
   "source": [
    "# KNN on blue channel data"
   ]
  },
  {
   "cell_type": "code",
   "execution_count": 76,
   "id": "531e3624",
   "metadata": {},
   "outputs": [
    {
     "data": {
      "text/plain": [
       "0.4674922600619195"
      ]
     },
     "execution_count": 76,
     "metadata": {},
     "output_type": "execute_result"
    }
   ],
   "source": [
    "#reading numpy array data\n",
    "blue_test = np.load('blue_data.npy')\n",
    "#reading csv file\n",
    "blue_df = pd.read_csv('blue_data.csv')\n",
    "loaded = []\n",
    "for i in gray_test:\n",
    "    k = []\n",
    "    k = np.asarray(i,dtype='uint8')\n",
    "    loaded.append(k)\n",
    "features = loaded\n",
    "target = blue_df['disease']\n",
    "Ftrain,Ftest,Ltrain,Ltest=train_test_split(features,target, test_size=0.20, random_state=20)\n",
    "Ftrain = scaler.fit_transform(Ftrain)\n",
    "Ftest = scaler.fit_transform(Ftest)\n",
    "kmodel.fit(Ftrain,Ltrain)\n",
    "kmodel.score(Ftest,Ltest)"
   ]
  },
  {
   "cell_type": "code",
   "execution_count": 77,
   "id": "db90e093",
   "metadata": {},
   "outputs": [
    {
     "name": "stdout",
     "output_type": "stream",
     "text": [
      "                               precision    recall  f1-score   support\n",
      "\n",
      "               bacterial_spot       0.33      0.81      0.47       349\n",
      "                 early_blight       0.00      0.00      0.00       182\n",
      "                      healthy       0.39      0.65      0.49       258\n",
      "                  late_blight       0.34      0.31      0.33       316\n",
      "                    leaf_mold       0.63      0.48      0.55       145\n",
      "           septoria_leaf_spot       0.49      0.47      0.48       262\n",
      "                  target_spot       0.50      0.32      0.39       229\n",
      "          tomato_mosaic_virus       0.50      0.05      0.09        58\n",
      "tomato_yellow_leaf_curl_virus       0.65      0.55      0.60       857\n",
      "      two-spotted_spider_mite       0.77      0.27      0.40       251\n",
      "\n",
      "                     accuracy                           0.47      2907\n",
      "                    macro avg       0.46      0.39      0.38      2907\n",
      "                 weighted avg       0.49      0.47      0.45      2907\n",
      "\n",
      "[[282   0  26  20   1   2   1   0  17   0]\n",
      " [110   0   6   3   7  15  15   0  26   0]\n",
      " [ 32   0 167  27   0  13   0   0  18   1]\n",
      " [ 56   0  50  98  11  42   6   0  51   2]\n",
      " [ 17   0  13  20  70   7   3   2  13   0]\n",
      " [ 23   0  37  23   7 124   3   0  41   4]\n",
      " [ 94   0  13   6   1  15  74   0  21   5]\n",
      " [  5   0   7   3   4   4   1   3  28   3]\n",
      " [162   0 104  74   7  20  10   1 474   5]\n",
      " [ 70   0   7  12   3  13  35   0  44  67]]\n"
     ]
    },
    {
     "name": "stderr",
     "output_type": "stream",
     "text": [
      "C:\\Users\\ravic\\anaconda3\\lib\\site-packages\\sklearn\\metrics\\_classification.py:1248: UndefinedMetricWarning: Precision and F-score are ill-defined and being set to 0.0 in labels with no predicted samples. Use `zero_division` parameter to control this behavior.\n",
      "  _warn_prf(average, modifier, msg_start, len(result))\n",
      "C:\\Users\\ravic\\anaconda3\\lib\\site-packages\\sklearn\\metrics\\_classification.py:1248: UndefinedMetricWarning: Precision and F-score are ill-defined and being set to 0.0 in labels with no predicted samples. Use `zero_division` parameter to control this behavior.\n",
      "  _warn_prf(average, modifier, msg_start, len(result))\n",
      "C:\\Users\\ravic\\anaconda3\\lib\\site-packages\\sklearn\\metrics\\_classification.py:1248: UndefinedMetricWarning: Precision and F-score are ill-defined and being set to 0.0 in labels with no predicted samples. Use `zero_division` parameter to control this behavior.\n",
      "  _warn_prf(average, modifier, msg_start, len(result))\n"
     ]
    }
   ],
   "source": [
    "y_predict = kmodel.fit(Ftrain, Ltrain).predict(Ftest)\n",
    "class_names = target.unique()\n",
    "print(classification_report(Ltest, y_predict, target_names=class_names))\n",
    "print(confusion_matrix(Ltest, y_predict))"
   ]
  },
  {
   "cell_type": "markdown",
   "id": "f452a113",
   "metadata": {},
   "source": [
    "# logistic on blue channel data"
   ]
  },
  {
   "cell_type": "code",
   "execution_count": 78,
   "id": "de158586",
   "metadata": {},
   "outputs": [
    {
     "data": {
      "text/plain": [
       "0.3804609563123495"
      ]
     },
     "execution_count": 78,
     "metadata": {},
     "output_type": "execute_result"
    }
   ],
   "source": [
    "model.fit(Ftrain,Ltrain)\n",
    "model.score(Ftest,Ltest)"
   ]
  },
  {
   "cell_type": "code",
   "execution_count": 79,
   "id": "43a10821",
   "metadata": {},
   "outputs": [
    {
     "name": "stdout",
     "output_type": "stream",
     "text": [
      "                               precision    recall  f1-score   support\n",
      "\n",
      "               bacterial_spot       0.53      0.54      0.54       349\n",
      "                 early_blight       0.15      0.17      0.16       182\n",
      "                      healthy       0.37      0.41      0.39       258\n",
      "                  late_blight       0.29      0.32      0.31       316\n",
      "                    leaf_mold       0.32      0.39      0.35       145\n",
      "           septoria_leaf_spot       0.31      0.34      0.32       262\n",
      "                  target_spot       0.27      0.28      0.28       229\n",
      "          tomato_mosaic_virus       0.09      0.16      0.12        58\n",
      "tomato_yellow_leaf_curl_virus       0.51      0.46      0.48       857\n",
      "      two-spotted_spider_mite       0.42      0.27      0.33       251\n",
      "\n",
      "                     accuracy                           0.38      2907\n",
      "                    macro avg       0.33      0.33      0.33      2907\n",
      "                 weighted avg       0.39      0.38      0.38      2907\n",
      "\n",
      "[[190  23  19  23  11   9  13   0  58   3]\n",
      " [ 26  31  11  10  11  14  27   1  49   2]\n",
      " [ 16  13 106  42   4  17  21   3  30   6]\n",
      " [ 13  25  38 100  17  40  17  16  41   9]\n",
      " [  5   6   4  21  57  10   5   7  26   4]\n",
      " [ 12  10  24  23  15  89  20  14  47   8]\n",
      " [ 23  22  21  22   6  23  64   4  27  17]\n",
      " [  1   1   1   2   2   3   1   9  37   1]\n",
      " [ 62  51  48  85  46  55  39  35 391  45]\n",
      " [  9  21  14  11  10  28  26   8  55  69]]\n"
     ]
    }
   ],
   "source": [
    "y_predict = model.fit(Ftrain, Ltrain).predict(Ftest)\n",
    "class_names = target.unique()\n",
    "print(classification_report(Ltest, y_predict, target_names=class_names))\n",
    "print(confusion_matrix(Ltest, y_predict))"
   ]
  },
  {
   "cell_type": "markdown",
   "id": "c7585c1d",
   "metadata": {},
   "source": [
    "# SVM on blue channel data"
   ]
  },
  {
   "cell_type": "code",
   "execution_count": 80,
   "id": "06fb4a0f",
   "metadata": {},
   "outputs": [
    {
     "name": "stdout",
     "output_type": "stream",
     "text": [
      "0.38321293429652564\n"
     ]
    }
   ],
   "source": [
    "clf.fit(Ftrain,Ltrain)\n",
    "y_pred = clf.predict(Ftest)\n",
    "print(accuracy_score(Ltest,y_pred))"
   ]
  },
  {
   "cell_type": "code",
   "execution_count": 81,
   "id": "31601cac",
   "metadata": {},
   "outputs": [
    {
     "name": "stdout",
     "output_type": "stream",
     "text": [
      "                               precision    recall  f1-score   support\n",
      "\n",
      "               bacterial_spot       0.40      0.56      0.47       349\n",
      "                 early_blight       0.14      0.20      0.17       182\n",
      "                      healthy       0.43      0.47      0.45       258\n",
      "                  late_blight       0.31      0.37      0.34       316\n",
      "                    leaf_mold       0.30      0.37      0.33       145\n",
      "           septoria_leaf_spot       0.32      0.35      0.33       262\n",
      "                  target_spot       0.26      0.32      0.29       229\n",
      "          tomato_mosaic_virus       0.19      0.28      0.23        58\n",
      "tomato_yellow_leaf_curl_virus       0.64      0.39      0.48       857\n",
      "      two-spotted_spider_mite       0.55      0.31      0.40       251\n",
      "\n",
      "                     accuracy                           0.38      2907\n",
      "                    macro avg       0.35      0.36      0.35      2907\n",
      "                 weighted avg       0.43      0.38      0.39      2907\n",
      "\n",
      "[[197  43  14  26   4  15  17   0  31   2]\n",
      " [ 38  37   3  11  12  10  34   0  34   3]\n",
      " [ 44   7 121  41   7  14  12   0  11   1]\n",
      " [ 27  41  27 116  18  39  23   7  13   5]\n",
      " [  9   9   4  28  53  12   5   9  11   5]\n",
      " [ 27  19  25  35  14  92  24   6  17   3]\n",
      " [ 41  25  16  15   8  15  73   2  18  16]\n",
      " [  4   0   1   9   5   6   1  16  16   0]\n",
      " [ 94  61  62  87  44  66  44  38 331  30]\n",
      " [ 17  24   8   7  13  23  43   5  33  78]]\n"
     ]
    }
   ],
   "source": [
    "y_predict = clf.fit(Ftrain, Ltrain).predict(Ftest)\n",
    "class_names = target.unique()\n",
    "print(classification_report(Ltest, y_predict, target_names=class_names))\n",
    "print(confusion_matrix(Ltest, y_predict))"
   ]
  },
  {
   "cell_type": "markdown",
   "id": "f4eb8c6c",
   "metadata": {},
   "source": [
    "# Random Forest on blue channel data"
   ]
  },
  {
   "cell_type": "code",
   "execution_count": 82,
   "id": "b71407b2",
   "metadata": {},
   "outputs": [
    {
     "data": {
      "text/plain": [
       "0.45010323468685476"
      ]
     },
     "execution_count": 82,
     "metadata": {},
     "output_type": "execute_result"
    }
   ],
   "source": [
    "classifier_rf.fit(Ftrain, Ltrain)\n",
    "classifier_rf.oob_score_"
   ]
  },
  {
   "cell_type": "code",
   "execution_count": 83,
   "id": "f3cf2295",
   "metadata": {},
   "outputs": [
    {
     "name": "stdout",
     "output_type": "stream",
     "text": [
      "                               precision    recall  f1-score   support\n",
      "\n",
      "               bacterial_spot       0.62      0.48      0.54       349\n",
      "                 early_blight       0.00      0.00      0.00       182\n",
      "                      healthy       0.60      0.40      0.48       258\n",
      "                  late_blight       0.72      0.22      0.34       316\n",
      "                    leaf_mold       0.76      0.09      0.16       145\n",
      "           septoria_leaf_spot       0.59      0.48      0.53       262\n",
      "                  target_spot       0.69      0.16      0.26       229\n",
      "          tomato_mosaic_virus       0.00      0.00      0.00        58\n",
      "tomato_yellow_leaf_curl_virus       0.40      0.92      0.56       857\n",
      "      two-spotted_spider_mite       0.58      0.26      0.36       251\n",
      "\n",
      "                     accuracy                           0.47      2907\n",
      "                    macro avg       0.49      0.30      0.32      2907\n",
      "                 weighted avg       0.52      0.47      0.42      2907\n",
      "\n",
      "[[167   0  11   4   0   2   1   0 164   0]\n",
      " [ 32   0   2   1   1  16   1   0 124   5]\n",
      " [  2   0 103   9   0   0   2   0 141   1]\n",
      " [ 12   0  21  71   2  35   7   0 165   3]\n",
      " [  6   0   1   9  13   6   1   0 105   4]\n",
      " [  2   0  21   3   1 126   3   0 101   5]\n",
      " [  4   0   1   0   0  14  37   0 147  26]\n",
      " [  1   0   0   0   0   1   0   0  55   1]\n",
      " [ 35   0  13   2   0  14   0   0 790   3]\n",
      " [ 10   0   0   0   0   1   2   0 172  66]]\n"
     ]
    },
    {
     "name": "stderr",
     "output_type": "stream",
     "text": [
      "C:\\Users\\ravic\\anaconda3\\lib\\site-packages\\sklearn\\metrics\\_classification.py:1248: UndefinedMetricWarning: Precision and F-score are ill-defined and being set to 0.0 in labels with no predicted samples. Use `zero_division` parameter to control this behavior.\n",
      "  _warn_prf(average, modifier, msg_start, len(result))\n",
      "C:\\Users\\ravic\\anaconda3\\lib\\site-packages\\sklearn\\metrics\\_classification.py:1248: UndefinedMetricWarning: Precision and F-score are ill-defined and being set to 0.0 in labels with no predicted samples. Use `zero_division` parameter to control this behavior.\n",
      "  _warn_prf(average, modifier, msg_start, len(result))\n",
      "C:\\Users\\ravic\\anaconda3\\lib\\site-packages\\sklearn\\metrics\\_classification.py:1248: UndefinedMetricWarning: Precision and F-score are ill-defined and being set to 0.0 in labels with no predicted samples. Use `zero_division` parameter to control this behavior.\n",
      "  _warn_prf(average, modifier, msg_start, len(result))\n"
     ]
    }
   ],
   "source": [
    "y_predict = classifier_rf.fit(Ftrain, Ltrain).predict(Ftest)\n",
    "class_names = target.unique()\n",
    "print(classification_report(Ltest, y_predict, target_names=class_names))\n",
    "print(confusion_matrix(Ltest, y_predict))"
   ]
  },
  {
   "cell_type": "markdown",
   "id": "fb1ca20e",
   "metadata": {},
   "source": [
    "# Naive bayes on blue channel data"
   ]
  },
  {
   "cell_type": "code",
   "execution_count": 84,
   "id": "11ea0b85",
   "metadata": {},
   "outputs": [
    {
     "data": {
      "text/plain": [
       "0.3780529755761954"
      ]
     },
     "execution_count": 84,
     "metadata": {},
     "output_type": "execute_result"
    }
   ],
   "source": [
    "gnb.fit(Ftrain, Ltrain)\n",
    "y_pred = gnb.predict(Ftest)\n",
    "metrics.accuracy_score(Ltest, y_pred)"
   ]
  },
  {
   "cell_type": "code",
   "execution_count": 85,
   "id": "0743881e",
   "metadata": {},
   "outputs": [
    {
     "name": "stdout",
     "output_type": "stream",
     "text": [
      "                               precision    recall  f1-score   support\n",
      "\n",
      "               bacterial_spot       0.43      0.74      0.54       349\n",
      "                 early_blight       0.25      0.32      0.28       182\n",
      "                      healthy       0.33      0.66      0.44       258\n",
      "                  late_blight       0.40      0.22      0.28       316\n",
      "                    leaf_mold       0.43      0.30      0.35       145\n",
      "           septoria_leaf_spot       0.35      0.50      0.41       262\n",
      "                  target_spot       0.53      0.38      0.44       229\n",
      "          tomato_mosaic_virus       0.13      0.59      0.22        58\n",
      "tomato_yellow_leaf_curl_virus       0.65      0.16      0.25       857\n",
      "      two-spotted_spider_mite       0.40      0.46      0.43       251\n",
      "\n",
      "                     accuracy                           0.38      2907\n",
      "                    macro avg       0.39      0.43      0.36      2907\n",
      "                 weighted avg       0.46      0.38      0.36      2907\n",
      "\n",
      "[[257   9  47   2   4   9   3  13   4   1]\n",
      " [ 54  59   3  21   6   8   9   5   6  11]\n",
      " [ 10   2 170   7   9   4  15   8  25   8]\n",
      " [  9  55  97  69   7  38   6  14  10  11]\n",
      " [ 22   3   7  10  43  27   4  16   7   6]\n",
      " [  3   6  50   9   6 131  17  17   5  18]\n",
      " [ 26  20   1  11   9  26  86  18   2  30]\n",
      " [ 12   0   3   0   1   2   0  34   3   3]\n",
      " [195  59 129  38  11 100   5 102 135  83]\n",
      " [ 13  22   1   6   3  33  18  28  12 115]]\n"
     ]
    }
   ],
   "source": [
    "class_names = target.unique()\n",
    "print(classification_report(Ltest, y_pred, target_names=class_names))\n",
    "print(confusion_matrix(Ltest, y_pred))"
   ]
  },
  {
   "cell_type": "markdown",
   "id": "a9f61b1f",
   "metadata": {},
   "source": [
    "# Decision Tree on Blue channel"
   ]
  },
  {
   "cell_type": "code",
   "execution_count": 86,
   "id": "abc489d3",
   "metadata": {},
   "outputs": [
    {
     "data": {
      "text/plain": [
       "0.42208462332301344"
      ]
     },
     "execution_count": 86,
     "metadata": {},
     "output_type": "execute_result"
    }
   ],
   "source": [
    "classifier_tree.fit(Ftrain, Ltrain)\n",
    "classifier_tree.score(Ftest,Ltest)"
   ]
  },
  {
   "cell_type": "code",
   "execution_count": 87,
   "id": "7047e0bb",
   "metadata": {},
   "outputs": [
    {
     "name": "stdout",
     "output_type": "stream",
     "text": [
      "                               precision    recall  f1-score   support\n",
      "\n",
      "               bacterial_spot       0.43      0.46      0.44       349\n",
      "                 early_blight       0.17      0.13      0.14       182\n",
      "                      healthy       0.57      0.60      0.58       258\n",
      "                  late_blight       0.41      0.37      0.39       316\n",
      "                    leaf_mold       0.26      0.30      0.28       145\n",
      "           septoria_leaf_spot       0.37      0.42      0.39       262\n",
      "                  target_spot       0.34      0.32      0.33       229\n",
      "          tomato_mosaic_virus       0.12      0.16      0.13        58\n",
      "tomato_yellow_leaf_curl_virus       0.54      0.52      0.53       857\n",
      "      two-spotted_spider_mite       0.37      0.37      0.37       251\n",
      "\n",
      "                     accuracy                           0.42      2907\n",
      "                    macro avg       0.36      0.36      0.36      2907\n",
      "                 weighted avg       0.42      0.42      0.42      2907\n",
      "\n",
      "[[159  21  16  15  15  16  13   7  79   8]\n",
      " [ 37  23   8  17   8  15  15   1  44  14]\n",
      " [ 10   4 155  14  11   9  10   5  32   8]\n",
      " [ 23  16  13 118  15  35  18   4  56  18]\n",
      " [  4   8   5  18  44  12   5   7  31  11]\n",
      " [ 11  12  22  29   8 109  14   8  41   8]\n",
      " [ 15  17  14  12  12  26  73   4  27  29]\n",
      " [  7   1   1   1   3   3   2   9  23   8]\n",
      " [ 92  26  30  50  45  60  31  22 448  53]\n",
      " [ 13  11   9  11  11  12  35  10  45  94]]\n"
     ]
    }
   ],
   "source": [
    "y_predict = classifier_tree.fit(Ftrain, Ltrain).predict(Ftest)\n",
    "class_names = target.unique()\n",
    "print(classification_report(Ltest, y_predict, target_names=class_names))\n",
    "print(confusion_matrix(Ltest, y_predict))"
   ]
  }
 ],
 "metadata": {
  "kernelspec": {
   "display_name": "Python 3 (ipykernel)",
   "language": "python",
   "name": "python3"
  },
  "language_info": {
   "codemirror_mode": {
    "name": "ipython",
    "version": 3
   },
   "file_extension": ".py",
   "mimetype": "text/x-python",
   "name": "python",
   "nbconvert_exporter": "python",
   "pygments_lexer": "ipython3",
   "version": "3.9.12"
  }
 },
 "nbformat": 4,
 "nbformat_minor": 5
}
