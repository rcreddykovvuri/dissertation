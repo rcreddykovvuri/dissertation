{
 "cells": [
  {
   "cell_type": "code",
   "execution_count": 1,
   "id": "bcdb1517",
   "metadata": {},
   "outputs": [],
   "source": [
    "import numpy as np #importing numpy\n",
    "import pandas as pd #importing pandas\n",
    "import PIL #importing pillow for image processing\n",
    "from PIL import Image#importing image from pillow library\n",
    "import skimage#importing skimage library\n",
    "import os#importing os library\n",
    "import time#importing time library\n",
    "\n",
    "#Capture start time of the program\n",
    "start_time = time.time()"
   ]
  },
  {
   "cell_type": "code",
   "execution_count": 2,
   "id": "9ec45970",
   "metadata": {},
   "outputs": [],
   "source": [
    "#changing path\n",
    "os.chdir('D://DKIT//dissertation//Dataset_of_Tomato_Leaves//plantvillage//Preprocessed_data//64//vector//')"
   ]
  },
  {
   "cell_type": "markdown",
   "id": "e1e76605",
   "metadata": {},
   "source": [
    "# RGB Data"
   ]
  },
  {
   "cell_type": "code",
   "execution_count": 3,
   "id": "9386938c",
   "metadata": {},
   "outputs": [],
   "source": [
    "#reading numpy array data\n",
    "rgb_test = np.load('rgb_data.npy')\n",
    "#reading csv file\n",
    "rgb_df = pd.read_csv('rgb_data.csv')"
   ]
  },
  {
   "cell_type": "code",
   "execution_count": 4,
   "id": "40f528b5",
   "metadata": {},
   "outputs": [],
   "source": [
    "features = pd.DataFrame(rgb_test)"
   ]
  },
  {
   "cell_type": "code",
   "execution_count": 5,
   "id": "fdd9a1f6",
   "metadata": {},
   "outputs": [],
   "source": [
    "features = features.values"
   ]
  },
  {
   "cell_type": "code",
   "execution_count": 6,
   "id": "c6d5658c",
   "metadata": {},
   "outputs": [],
   "source": [
    "#assigning target\n",
    "target = rgb_df['disease']\n",
    "#splitting the data to 80 percent and 20 percent\n",
    "from sklearn.model_selection import train_test_split\n",
    "Ftrain,Ftest,Ltrain,Ltest=train_test_split(features,target, test_size=0.20, random_state=24)"
   ]
  },
  {
   "cell_type": "code",
   "execution_count": 7,
   "id": "54b7bf8d",
   "metadata": {},
   "outputs": [],
   "source": [
    "#scaling the data using standard scaler\n",
    "from sklearn.preprocessing import StandardScaler\n",
    "scaler = StandardScaler()\n",
    "Ftrain = scaler.fit_transform(Ftrain)\n",
    "Ftest = scaler.fit_transform(Ftest)"
   ]
  },
  {
   "cell_type": "code",
   "execution_count": 8,
   "id": "1fa0433e",
   "metadata": {},
   "outputs": [],
   "source": [
    "#importing classification report and confusion matrix\n",
    "from sklearn.metrics import classification_report, confusion_matrix"
   ]
  },
  {
   "cell_type": "markdown",
   "id": "d466ef5f",
   "metadata": {},
   "source": [
    "# SVM(poly) on RGB data"
   ]
  },
  {
   "cell_type": "code",
   "execution_count": 9,
   "id": "2427ed51",
   "metadata": {},
   "outputs": [
    {
     "name": "stdout",
     "output_type": "stream",
     "text": [
      "0.7533539731682146\n"
     ]
    }
   ],
   "source": [
    "from sklearn.svm import SVC\n",
    "from sklearn.metrics import accuracy_score\n",
    "\n",
    "svm_poly = SVC(kernel='poly')\n",
    "svm_poly.fit(Ftrain,Ltrain)\n",
    "y_pred = svm_poly.predict(Ftest)\n",
    "print(accuracy_score(Ltest,y_pred))"
   ]
  },
  {
   "cell_type": "code",
   "execution_count": 10,
   "id": "bf286604",
   "metadata": {},
   "outputs": [
    {
     "name": "stdout",
     "output_type": "stream",
     "text": [
      "                               precision    recall  f1-score   support\n",
      "\n",
      "               bacterial_spot       0.61      0.87      0.71       345\n",
      "                 early_blight       0.63      0.16      0.25       153\n",
      "                      healthy       0.81      0.90      0.85       234\n",
      "                  late_blight       0.88      0.62      0.73       309\n",
      "                    leaf_mold       0.80      0.61      0.69       145\n",
      "           septoria_leaf_spot       0.74      0.68      0.70       293\n",
      "                  target_spot       0.70      0.62      0.66       240\n",
      "          tomato_mosaic_virus       0.53      0.17      0.25        54\n",
      "tomato_yellow_leaf_curl_virus       0.79      0.95      0.86       854\n",
      "      two-spotted_spider_mite       0.82      0.73      0.77       280\n",
      "\n",
      "                     accuracy                           0.75      2907\n",
      "                    macro avg       0.73      0.63      0.65      2907\n",
      "                 weighted avg       0.76      0.75      0.74      2907\n",
      "\n",
      "[[299   0   3   2   0   2   3   0  35   1]\n",
      " [ 45  24   1  12   0   6  27   4  28   6]\n",
      " [ 14   0 211   1   0   1   1   0   5   1]\n",
      " [ 24   8  21 192  12  17   9   1  21   4]\n",
      " [ 13   2   5   2  88  14   4   0  15   2]\n",
      " [ 10   0   5   8   8 198  10   1  48   5]\n",
      " [ 47   3   6   0   0   6 150   2  10  16]\n",
      " [  9   0   1   0   2  13   1   9  16   3]\n",
      " [ 19   0   1   1   0   9   1   0 815   8]\n",
      " [ 14   1   6   1   0   3   9   0  42 204]]\n"
     ]
    }
   ],
   "source": [
    "#classification report\n",
    "y_predict = svm_poly.fit(Ftrain, Ltrain).predict(Ftest)\n",
    "class_names = target.unique()\n",
    "print(classification_report(Ltest, y_predict, target_names=class_names))\n",
    "print(confusion_matrix(Ltest, y_predict))"
   ]
  },
  {
   "cell_type": "markdown",
   "id": "4101cb88",
   "metadata": {},
   "source": [
    "# SVM(RBF) on RGB data"
   ]
  },
  {
   "cell_type": "code",
   "execution_count": 11,
   "id": "235aaf3a",
   "metadata": {},
   "outputs": [
    {
     "name": "stdout",
     "output_type": "stream",
     "text": [
      "0.8579291365669075\n"
     ]
    }
   ],
   "source": [
    "svm_rbf = SVC(kernel='rbf')\n",
    "svm_rbf.fit(Ftrain,Ltrain)\n",
    "y_pred = svm_rbf.predict(Ftest)\n",
    "print(accuracy_score(Ltest,y_pred))"
   ]
  },
  {
   "cell_type": "code",
   "execution_count": 12,
   "id": "1c7ce3a6",
   "metadata": {},
   "outputs": [
    {
     "name": "stdout",
     "output_type": "stream",
     "text": [
      "                               precision    recall  f1-score   support\n",
      "\n",
      "               bacterial_spot       0.88      0.93      0.90       345\n",
      "                 early_blight       0.64      0.42      0.51       153\n",
      "                      healthy       0.96      0.95      0.95       234\n",
      "                  late_blight       0.79      0.81      0.80       309\n",
      "                    leaf_mold       0.81      0.69      0.74       145\n",
      "           septoria_leaf_spot       0.79      0.79      0.79       293\n",
      "                  target_spot       0.79      0.82      0.80       240\n",
      "          tomato_mosaic_virus       0.75      0.80      0.77        54\n",
      "tomato_yellow_leaf_curl_virus       0.93      0.96      0.94       854\n",
      "      two-spotted_spider_mite       0.86      0.86      0.86       280\n",
      "\n",
      "                     accuracy                           0.86      2907\n",
      "                    macro avg       0.82      0.80      0.81      2907\n",
      "                 weighted avg       0.85      0.86      0.85      2907\n",
      "\n",
      "[[320   2   1   3   0   1   2   0  16   0]\n",
      " [ 24  65   2  25   1   4  14   1   9   8]\n",
      " [  0   3 222   4   1   2   2   0   0   0]\n",
      " [  4   9   3 250  10  10   7   3   7   6]\n",
      " [  1   3   0  10 100  19   2   2   5   3]\n",
      " [  2   6   1  11  10 232  10   3  15   3]\n",
      " [  6   8   2   3   1  10 198   2   2   8]\n",
      " [  0   1   0   0   1   8   1  43   0   0]\n",
      " [  8   2   0   4   0   5   3   0 822  10]\n",
      " [  0   3   0   6   0   2  13   3  11 242]]\n"
     ]
    }
   ],
   "source": [
    "#classification report\n",
    "y_predict = svm_rbf.fit(Ftrain, Ltrain).predict(Ftest)\n",
    "class_names = target.unique()\n",
    "print(classification_report(Ltest, y_predict, target_names=class_names))\n",
    "print(confusion_matrix(Ltest, y_predict))"
   ]
  },
  {
   "cell_type": "markdown",
   "id": "670ea3cc",
   "metadata": {},
   "source": [
    "# SVM(sigmoid) on RGB data"
   ]
  },
  {
   "cell_type": "code",
   "execution_count": 13,
   "id": "8aaf1a20",
   "metadata": {},
   "outputs": [
    {
     "name": "stdout",
     "output_type": "stream",
     "text": [
      "0.5755073959408324\n"
     ]
    }
   ],
   "source": [
    "svm_si = SVC(kernel='sigmoid')\n",
    "svm_si.fit(Ftrain,Ltrain)\n",
    "y_pred = svm_si.predict(Ftest)\n",
    "print(accuracy_score(Ltest,y_pred))"
   ]
  },
  {
   "cell_type": "code",
   "execution_count": 14,
   "id": "9beeb8fa",
   "metadata": {},
   "outputs": [
    {
     "name": "stdout",
     "output_type": "stream",
     "text": [
      "                               precision    recall  f1-score   support\n",
      "\n",
      "               bacterial_spot       0.57      0.65      0.61       345\n",
      "                 early_blight       0.28      0.12      0.17       153\n",
      "                      healthy       0.68      0.63      0.65       234\n",
      "                  late_blight       0.51      0.27      0.35       309\n",
      "                    leaf_mold       0.59      0.48      0.53       145\n",
      "           septoria_leaf_spot       0.26      0.57      0.36       293\n",
      "                  target_spot       0.57      0.41      0.48       240\n",
      "          tomato_mosaic_virus       0.56      0.33      0.42        54\n",
      "tomato_yellow_leaf_curl_virus       0.82      0.83      0.83       854\n",
      "      two-spotted_spider_mite       0.56      0.49      0.52       280\n",
      "\n",
      "                     accuracy                           0.58      2907\n",
      "                    macro avg       0.54      0.48      0.49      2907\n",
      "                 weighted avg       0.60      0.58      0.57      2907\n",
      "\n",
      "[[223  10   2  22   2  14   7   0  59   6]\n",
      " [ 46  18   5   7   4  32  10   1  19  11]\n",
      " [ 11   2 147  26   1  36  10   0   0   1]\n",
      " [ 18   9  39  82  14 102   8   1  18  18]\n",
      " [  5   3   5   3  70  45   2   4   5   3]\n",
      " [  4   4   4  14  23 168  31   4  25  16]\n",
      " [ 10   9   9   1   1  80  98   0   3  29]\n",
      " [  1   0   1   0   3  26   3  18   0   2]\n",
      " [ 61   3   0   4   1  50   0   0 711  24]\n",
      " [ 13   7   3   3   0  85   3   4  24 138]]\n"
     ]
    }
   ],
   "source": [
    "#classification report\n",
    "y_predict = svm_si.fit(Ftrain, Ltrain).predict(Ftest)\n",
    "class_names = target.unique()\n",
    "print(classification_report(Ltest, y_predict, target_names=class_names))\n",
    "print(confusion_matrix(Ltest, y_predict))"
   ]
  },
  {
   "cell_type": "markdown",
   "id": "f985c500",
   "metadata": {},
   "source": [
    "# Bernouli Naive bayes on RGB data"
   ]
  },
  {
   "cell_type": "code",
   "execution_count": 15,
   "id": "75a3f18f",
   "metadata": {},
   "outputs": [
    {
     "data": {
      "text/plain": [
       "0.43584451324389406"
      ]
     },
     "execution_count": 15,
     "metadata": {},
     "output_type": "execute_result"
    }
   ],
   "source": [
    "from sklearn.naive_bayes import BernoulliNB\n",
    "from sklearn import metrics\n",
    "bnb = BernoulliNB()\n",
    "bnb.fit(Ftrain, Ltrain)\n",
    "y_pred = bnb.predict(Ftest)\n",
    "metrics.accuracy_score(Ltest, y_pred)"
   ]
  },
  {
   "cell_type": "code",
   "execution_count": 16,
   "id": "694c01aa",
   "metadata": {},
   "outputs": [
    {
     "name": "stdout",
     "output_type": "stream",
     "text": [
      "                               precision    recall  f1-score   support\n",
      "\n",
      "               bacterial_spot       0.42      0.71      0.53       345\n",
      "                 early_blight       0.15      0.20      0.17       153\n",
      "                      healthy       0.45      0.61      0.52       234\n",
      "                  late_blight       0.14      0.10      0.12       309\n",
      "                    leaf_mold       0.57      0.41      0.47       145\n",
      "           septoria_leaf_spot       0.37      0.56      0.45       293\n",
      "                  target_spot       0.53      0.47      0.50       240\n",
      "          tomato_mosaic_virus       0.20      0.52      0.29        54\n",
      "tomato_yellow_leaf_curl_virus       0.87      0.36      0.51       854\n",
      "      two-spotted_spider_mite       0.44      0.53      0.48       280\n",
      "\n",
      "                     accuracy                           0.44      2907\n",
      "                    macro avg       0.41      0.45      0.40      2907\n",
      "                 weighted avg       0.52      0.44      0.44      2907\n",
      "\n",
      "[[246  21  19  26   0   8   3   3  17   2]\n",
      " [ 53  30   3   5   2  24  15   9   7   5]\n",
      " [  6   3 142  15   4  15  33  13   0   3]\n",
      " [ 56  20 101  32  17  53   8   6   6  10]\n",
      " [ 19   4   8   5  59  24   1  13   5   7]\n",
      " [  3   9  22  31  10 164  16  12   6  20]\n",
      " [ 12  22   5   6   2  38 112  12   0  31]\n",
      " [  1   0   0   4   4  12   2  28   0   3]\n",
      " [175  61   9  87   5  81   3  23 306 104]\n",
      " [ 11  32   5  15   1  24  18  23   3 148]]\n"
     ]
    }
   ],
   "source": [
    "class_names = target.unique()\n",
    "print(classification_report(Ltest, y_pred, target_names=class_names))\n",
    "print(confusion_matrix(Ltest, y_pred))"
   ]
  },
  {
   "cell_type": "markdown",
   "id": "0e8f617d",
   "metadata": {},
   "source": [
    "# Grayscale data"
   ]
  },
  {
   "cell_type": "code",
   "execution_count": 17,
   "id": "57a9845e",
   "metadata": {},
   "outputs": [],
   "source": [
    "#reading numpy array data\n",
    "gray_test = np.load('gray_test.npy')\n",
    "#reading csv file\n",
    "gray_df = pd.read_csv('gray_data.csv')"
   ]
  },
  {
   "cell_type": "code",
   "execution_count": 18,
   "id": "d3abef95",
   "metadata": {},
   "outputs": [],
   "source": [
    "#assigning features and target to split the data\n",
    "features = pd.DataFrame(gray_test)\n",
    "features = features.values\n",
    "target = gray_df['disease']"
   ]
  },
  {
   "cell_type": "code",
   "execution_count": 19,
   "id": "a86eb99c",
   "metadata": {},
   "outputs": [],
   "source": [
    "#splitting the data to train and test\n",
    "Ftrain,Ftest,Ltrain,Ltest=train_test_split(features,target, test_size=0.20, random_state=24)"
   ]
  },
  {
   "cell_type": "code",
   "execution_count": 20,
   "id": "abe922d3",
   "metadata": {},
   "outputs": [],
   "source": [
    "#scaling data using standard scaler\n",
    "Ftrain = scaler.fit_transform(Ftrain)\n",
    "Ftest = scaler.fit_transform(Ftest)"
   ]
  },
  {
   "cell_type": "markdown",
   "id": "8bfc6d84",
   "metadata": {},
   "source": [
    "# SVM(poly) on grayscale data"
   ]
  },
  {
   "cell_type": "code",
   "execution_count": 21,
   "id": "c9665abf",
   "metadata": {},
   "outputs": [
    {
     "name": "stdout",
     "output_type": "stream",
     "text": [
      "0.5545235638114895\n"
     ]
    }
   ],
   "source": [
    "svm_poly.fit(Ftrain,Ltrain)\n",
    "y_pred = svm_poly.predict(Ftest)\n",
    "print(accuracy_score(Ltest,y_pred))"
   ]
  },
  {
   "cell_type": "code",
   "execution_count": 22,
   "id": "2456eda7",
   "metadata": {},
   "outputs": [
    {
     "name": "stdout",
     "output_type": "stream",
     "text": [
      "                               precision    recall  f1-score   support\n",
      "\n",
      "               bacterial_spot       0.61      0.57      0.59       345\n",
      "                 early_blight       0.45      0.09      0.15       153\n",
      "                      healthy       0.69      0.59      0.63       234\n",
      "                  late_blight       0.76      0.36      0.49       309\n",
      "                    leaf_mold       0.65      0.24      0.35       145\n",
      "           septoria_leaf_spot       0.65      0.39      0.48       293\n",
      "                  target_spot       0.59      0.42      0.49       240\n",
      "          tomato_mosaic_virus       0.67      0.04      0.07        54\n",
      "tomato_yellow_leaf_curl_virus       0.48      0.91      0.63       854\n",
      "      two-spotted_spider_mite       0.70      0.44      0.54       280\n",
      "\n",
      "                     accuracy                           0.55      2907\n",
      "                    macro avg       0.62      0.40      0.44      2907\n",
      "                 weighted avg       0.60      0.55      0.53      2907\n",
      "\n",
      "[[196   1   8   9   0   0   2   0 125   4]\n",
      " [ 32  14   2  11   0   6  20   0  58  10]\n",
      " [  2   0 137   0   0   1   0   0  91   3]\n",
      " [ 16  11  18 110  11  27  14   1  96   5]\n",
      " [  7   1   8   1  35   7   2   0  84   0]\n",
      " [  5   0   7   6   5 113  12   0 143   2]\n",
      " [ 20   1   3   0   0   7 100   0  89  20]\n",
      " [  0   0   0   0   0   0   0   2  51   1]\n",
      " [ 30   1  12   6   3  12   1   0 781   8]\n",
      " [ 11   2   5   1   0   2  19   0 116 124]]\n"
     ]
    }
   ],
   "source": [
    "#classification report\n",
    "y_predict = svm_poly.fit(Ftrain, Ltrain).predict(Ftest)\n",
    "class_names = target.unique()\n",
    "print(classification_report(Ltest, y_predict, target_names=class_names))\n",
    "print(confusion_matrix(Ltest, y_predict))"
   ]
  },
  {
   "cell_type": "markdown",
   "id": "bd417df9",
   "metadata": {},
   "source": [
    "# SVM(RBF) on grayscale data"
   ]
  },
  {
   "cell_type": "code",
   "execution_count": 23,
   "id": "67772464",
   "metadata": {},
   "outputs": [
    {
     "name": "stdout",
     "output_type": "stream",
     "text": [
      "0.7082903336773306\n"
     ]
    }
   ],
   "source": [
    "svm_rbf.fit(Ftrain,Ltrain)\n",
    "y_pred = svm_rbf.predict(Ftest)\n",
    "print(accuracy_score(Ltest,y_pred))"
   ]
  },
  {
   "cell_type": "code",
   "execution_count": 24,
   "id": "34bbfd97",
   "metadata": {},
   "outputs": [
    {
     "name": "stdout",
     "output_type": "stream",
     "text": [
      "                               precision    recall  f1-score   support\n",
      "\n",
      "               bacterial_spot       0.78      0.76      0.77       345\n",
      "                 early_blight       0.51      0.20      0.29       153\n",
      "                      healthy       0.76      0.85      0.80       234\n",
      "                  late_blight       0.70      0.67      0.68       309\n",
      "                    leaf_mold       0.75      0.47      0.58       145\n",
      "           septoria_leaf_spot       0.63      0.61      0.62       293\n",
      "                  target_spot       0.65      0.62      0.64       240\n",
      "          tomato_mosaic_virus       0.69      0.17      0.27        54\n",
      "tomato_yellow_leaf_curl_virus       0.71      0.89      0.79       854\n",
      "      two-spotted_spider_mite       0.75      0.70      0.72       280\n",
      "\n",
      "                     accuracy                           0.71      2907\n",
      "                    macro avg       0.69      0.59      0.62      2907\n",
      "                 weighted avg       0.70      0.71      0.69      2907\n",
      "\n",
      "[[263   2   8  11   2  10   3   0  46   0]\n",
      " [ 23  31   1  25   2   6  17   0  42   6]\n",
      " [  1   1 200   2   1   4   4   0  18   3]\n",
      " [  2  13   5 206   7  22   6   2  38   8]\n",
      " [  3   1   9  12  68  15   5   0  30   2]\n",
      " [  8   2  14  23   7 179  17   1  37   5]\n",
      " [ 12   3   4   2   0  15 150   0  27  27]\n",
      " [  1   0   0   2   3   7   1   9  30   1]\n",
      " [ 25   1  18  11   1  21   5   0 757  15]\n",
      " [  1   7   4   1   0   5  23   1  42 196]]\n"
     ]
    }
   ],
   "source": [
    "#classification report\n",
    "y_predict = svm_rbf.fit(Ftrain, Ltrain).predict(Ftest)\n",
    "class_names = target.unique()\n",
    "print(classification_report(Ltest, y_predict, target_names=class_names))\n",
    "print(confusion_matrix(Ltest, y_predict))"
   ]
  },
  {
   "cell_type": "markdown",
   "id": "c1ed23e8",
   "metadata": {},
   "source": [
    "# SVM(sigmoid) on Grayscale data"
   ]
  },
  {
   "cell_type": "code",
   "execution_count": 25,
   "id": "b79e8630",
   "metadata": {},
   "outputs": [
    {
     "name": "stdout",
     "output_type": "stream",
     "text": [
      "0.34915720674234607\n"
     ]
    }
   ],
   "source": [
    "svm_si.fit(Ftrain,Ltrain)\n",
    "y_pred = svm_si.predict(Ftest)\n",
    "print(accuracy_score(Ltest,y_pred))"
   ]
  },
  {
   "cell_type": "code",
   "execution_count": 26,
   "id": "c64cd0a6",
   "metadata": {},
   "outputs": [
    {
     "name": "stdout",
     "output_type": "stream",
     "text": [
      "                               precision    recall  f1-score   support\n",
      "\n",
      "               bacterial_spot       0.41      0.51      0.46       345\n",
      "                 early_blight       0.07      0.05      0.06       153\n",
      "                      healthy       0.43      0.29      0.34       234\n",
      "                  late_blight       0.23      0.08      0.12       309\n",
      "                    leaf_mold       0.47      0.12      0.20       145\n",
      "           septoria_leaf_spot       0.20      0.47      0.28       293\n",
      "                  target_spot       0.26      0.14      0.18       240\n",
      "          tomato_mosaic_virus       0.00      0.00      0.00        54\n",
      "tomato_yellow_leaf_curl_virus       0.47      0.56      0.51       854\n",
      "      two-spotted_spider_mite       0.30      0.27      0.28       280\n",
      "\n",
      "                     accuracy                           0.35      2907\n",
      "                    macro avg       0.29      0.25      0.24      2907\n",
      "                 weighted avg       0.35      0.35      0.33      2907\n",
      "\n",
      "[[176  22  15  15   1  26   4   0  66  20]\n",
      " [ 42   7   0   3   3  31  15   0  37  15]\n",
      " [ 19   0  67  13   0  42   4   0  85   4]\n",
      " [ 21   8  22  25   5 104  19   0  92  13]\n",
      " [ 12   4   7  22  18  44   2   0  32   4]\n",
      " [  5   7  20   5   4 137  37   1  62  15]\n",
      " [ 21  10   6   6   0  76  34   0  46  41]\n",
      " [  5   0   1   1   0   7   0   0  37   3]\n",
      " [102  22  17  17   6 145   6   1 475  63]\n",
      " [ 23  14   0   1   1  87   9   0  69  76]]\n"
     ]
    }
   ],
   "source": [
    "#classification report\n",
    "y_predict = svm_si.fit(Ftrain, Ltrain).predict(Ftest)\n",
    "class_names = target.unique()\n",
    "print(classification_report(Ltest, y_predict, target_names=class_names))\n",
    "print(confusion_matrix(Ltest, y_predict))"
   ]
  },
  {
   "cell_type": "markdown",
   "id": "8ba631c4",
   "metadata": {},
   "source": [
    "# Bernouli Naive bayes on grayscale data"
   ]
  },
  {
   "cell_type": "code",
   "execution_count": 27,
   "id": "f9c1d1df",
   "metadata": {},
   "outputs": [
    {
     "data": {
      "text/plain": [
       "0.3082215342277262"
      ]
     },
     "execution_count": 27,
     "metadata": {},
     "output_type": "execute_result"
    }
   ],
   "source": [
    "bnb.fit(Ftrain, Ltrain)\n",
    "y_pred = bnb.predict(Ftest)\n",
    "metrics.accuracy_score(Ltest, y_pred)"
   ]
  },
  {
   "cell_type": "code",
   "execution_count": 28,
   "id": "5349d0e6",
   "metadata": {},
   "outputs": [
    {
     "name": "stdout",
     "output_type": "stream",
     "text": [
      "                               precision    recall  f1-score   support\n",
      "\n",
      "               bacterial_spot       0.40      0.71      0.51       345\n",
      "                 early_blight       0.12      0.16      0.14       153\n",
      "                      healthy       0.26      0.55      0.35       234\n",
      "                  late_blight       0.13      0.06      0.08       309\n",
      "                    leaf_mold       0.47      0.30      0.36       145\n",
      "           septoria_leaf_spot       0.33      0.55      0.41       293\n",
      "                  target_spot       0.44      0.33      0.38       240\n",
      "          tomato_mosaic_virus       0.05      0.20      0.08        54\n",
      "tomato_yellow_leaf_curl_virus       0.46      0.07      0.12       854\n",
      "      two-spotted_spider_mite       0.39      0.46      0.42       280\n",
      "\n",
      "                     accuracy                           0.31      2907\n",
      "                    macro avg       0.30      0.34      0.28      2907\n",
      "                 weighted avg       0.36      0.31      0.27      2907\n",
      "\n",
      "[[246  17  39  13   2   9   4   9   4   2]\n",
      " [ 57  24   1   7   2  22  16   9   7   8]\n",
      " [  6   4 128  18   1  26  17  16  13   5]\n",
      " [ 54  18 112  18  18  52  11   6   8  12]\n",
      " [ 24   4   4   6  43  27   2  21   7   7]\n",
      " [  4   8  55   6   6 160  17   9   4  24]\n",
      " [ 21  16   5  12   4  44  80  14   9  35]\n",
      " [  6   1   2   4   2  12   2  11   6   8]\n",
      " [183  77 144  45  12 109  12 115  57 100]\n",
      " [ 15  32   7  14   1  25  21  28   8 129]]\n"
     ]
    }
   ],
   "source": [
    "class_names = target.unique()\n",
    "print(classification_report(Ltest, y_pred, target_names=class_names))\n",
    "print(confusion_matrix(Ltest, y_pred))"
   ]
  },
  {
   "cell_type": "markdown",
   "id": "6f5719a1",
   "metadata": {},
   "source": [
    "# Red Channel data"
   ]
  },
  {
   "cell_type": "code",
   "execution_count": 29,
   "id": "5f8b0e11",
   "metadata": {},
   "outputs": [],
   "source": [
    "#reading numpy array data\n",
    "red_test = np.load('red_data.npy')\n",
    "#reading csv file\n",
    "red_df = pd.read_csv('red_data.csv')\n",
    "#assigning features and target to split the data\n",
    "features = pd.DataFrame(red_test)\n",
    "features = features.values\n",
    "target = red_df['disease']\n",
    "#splitting the data to train and test\n",
    "Ftrain,Ftest,Ltrain,Ltest=train_test_split(features,target, test_size=0.20, random_state=24)"
   ]
  },
  {
   "cell_type": "code",
   "execution_count": 30,
   "id": "9b330f33",
   "metadata": {},
   "outputs": [],
   "source": [
    "#scaling data using standard scaler\n",
    "Ftrain = scaler.fit_transform(Ftrain)\n",
    "Ftest = scaler.fit_transform(Ftest)"
   ]
  },
  {
   "cell_type": "markdown",
   "id": "c81dd4d2",
   "metadata": {},
   "source": [
    "# SVM(poly) on Red data"
   ]
  },
  {
   "cell_type": "code",
   "execution_count": 31,
   "id": "a9cb2e28",
   "metadata": {},
   "outputs": [
    {
     "name": "stdout",
     "output_type": "stream",
     "text": [
      "0.5906432748538012\n"
     ]
    }
   ],
   "source": [
    "svm_poly.fit(Ftrain,Ltrain)\n",
    "y_pred = svm_poly.predict(Ftest)\n",
    "print(accuracy_score(Ltest,y_pred))"
   ]
  },
  {
   "cell_type": "code",
   "execution_count": 32,
   "id": "35b2ceaf",
   "metadata": {},
   "outputs": [
    {
     "name": "stdout",
     "output_type": "stream",
     "text": [
      "                               precision    recall  f1-score   support\n",
      "\n",
      "               bacterial_spot       0.67      0.59      0.63       345\n",
      "                 early_blight       0.36      0.06      0.10       153\n",
      "                      healthy       0.67      0.59      0.63       234\n",
      "                  late_blight       0.71      0.42      0.53       309\n",
      "                    leaf_mold       0.62      0.38      0.47       145\n",
      "           septoria_leaf_spot       0.63      0.43      0.51       293\n",
      "                  target_spot       0.61      0.52      0.56       240\n",
      "          tomato_mosaic_virus       0.38      0.06      0.10        54\n",
      "tomato_yellow_leaf_curl_virus       0.52      0.89      0.65       854\n",
      "      two-spotted_spider_mite       0.77      0.59      0.67       280\n",
      "\n",
      "                     accuracy                           0.59      2907\n",
      "                    macro avg       0.59      0.45      0.48      2907\n",
      "                 weighted avg       0.61      0.59      0.57      2907\n",
      "\n",
      "[[202   2  11  12   1   1   2   0 113   1]\n",
      " [ 29   9   3  12   1  11  25   2  54   7]\n",
      " [  0   0 139   1   1   1   0   0  90   2]\n",
      " [ 12  10  17 130  16  30  18   2  70   4]\n",
      " [  3   1  13   4  55   5   1   0  61   2]\n",
      " [  5   0   5  15   6 127  12   1 116   6]\n",
      " [ 11   1   0   0   1   7 124   0  81  15]\n",
      " [  0   0   0   0   1   0   0   3  48   2]\n",
      " [ 30   1  16   7   7  16   4   0 764   9]\n",
      " [  8   1   4   1   0   3  17   0  82 164]]\n"
     ]
    }
   ],
   "source": [
    "#classification report\n",
    "y_predict = svm_poly.fit(Ftrain, Ltrain).predict(Ftest)\n",
    "class_names = target.unique()\n",
    "print(classification_report(Ltest, y_predict, target_names=class_names))\n",
    "print(confusion_matrix(Ltest, y_predict))"
   ]
  },
  {
   "cell_type": "markdown",
   "id": "bcdfb873",
   "metadata": {},
   "source": [
    "# SVM(RBF) on Red data"
   ]
  },
  {
   "cell_type": "code",
   "execution_count": 33,
   "id": "5e806290",
   "metadata": {},
   "outputs": [
    {
     "name": "stdout",
     "output_type": "stream",
     "text": [
      "0.7213622291021672\n"
     ]
    }
   ],
   "source": [
    "svm_rbf.fit(Ftrain,Ltrain)\n",
    "y_pred = svm_rbf.predict(Ftest)\n",
    "print(accuracy_score(Ltest,y_pred))"
   ]
  },
  {
   "cell_type": "code",
   "execution_count": 34,
   "id": "e613add4",
   "metadata": {},
   "outputs": [
    {
     "name": "stdout",
     "output_type": "stream",
     "text": [
      "                               precision    recall  f1-score   support\n",
      "\n",
      "               bacterial_spot       0.79      0.78      0.79       345\n",
      "                 early_blight       0.45      0.18      0.26       153\n",
      "                      healthy       0.76      0.88      0.81       234\n",
      "                  late_blight       0.68      0.69      0.68       309\n",
      "                    leaf_mold       0.71      0.50      0.59       145\n",
      "           septoria_leaf_spot       0.63      0.55      0.59       293\n",
      "                  target_spot       0.67      0.70      0.68       240\n",
      "          tomato_mosaic_virus       0.61      0.20      0.31        54\n",
      "tomato_yellow_leaf_curl_virus       0.74      0.88      0.80       854\n",
      "      two-spotted_spider_mite       0.80      0.76      0.78       280\n",
      "\n",
      "                     accuracy                           0.72      2907\n",
      "                    macro avg       0.68      0.61      0.63      2907\n",
      "                 weighted avg       0.71      0.72      0.71      2907\n",
      "\n",
      "[[270   3   9  14   0   7   3   0  39   0]\n",
      " [ 23  28   3  24   1   7  19   1  40   7]\n",
      " [  1   1 206   3   3   6   2   0  11   1]\n",
      " [  4  10   9 212   7  21  11   3  28   4]\n",
      " [  4   4   3  16  72  16   3   0  26   1]\n",
      " [  8   6  16  24   9 161  23   1  38   7]\n",
      " [ 10   4   2   2   0  12 168   1  22  19]\n",
      " [  0   0   0   2   2   4   1  11  32   2]\n",
      " [ 20   3  21  14   7  17   4   1 755  12]\n",
      " [  1   3   3   3   0   6  17   0  33 214]]\n"
     ]
    }
   ],
   "source": [
    "#classification report\n",
    "y_predict = svm_rbf.fit(Ftrain, Ltrain).predict(Ftest)\n",
    "class_names = target.unique()\n",
    "print(classification_report(Ltest, y_predict, target_names=class_names))\n",
    "print(confusion_matrix(Ltest, y_predict))"
   ]
  },
  {
   "cell_type": "markdown",
   "id": "558a44ca",
   "metadata": {},
   "source": [
    "# SVM(sigmoid) on Red data"
   ]
  },
  {
   "cell_type": "code",
   "execution_count": 35,
   "id": "dfde7ca8",
   "metadata": {},
   "outputs": [
    {
     "name": "stdout",
     "output_type": "stream",
     "text": [
      "0.3842449260405917\n"
     ]
    }
   ],
   "source": [
    "svm_si.fit(Ftrain,Ltrain)\n",
    "y_pred = svm_si.predict(Ftest)\n",
    "print(accuracy_score(Ltest,y_pred))"
   ]
  },
  {
   "cell_type": "code",
   "execution_count": 36,
   "id": "b58142f8",
   "metadata": {},
   "outputs": [
    {
     "name": "stdout",
     "output_type": "stream",
     "text": [
      "                               precision    recall  f1-score   support\n",
      "\n",
      "               bacterial_spot       0.36      0.45      0.40       345\n",
      "                 early_blight       0.07      0.03      0.04       153\n",
      "                      healthy       0.30      0.36      0.33       234\n",
      "                  late_blight       0.32      0.13      0.19       309\n",
      "                    leaf_mold       0.28      0.28      0.28       145\n",
      "           septoria_leaf_spot       0.26      0.39      0.31       293\n",
      "                  target_spot       0.39      0.22      0.28       240\n",
      "          tomato_mosaic_virus       0.00      0.00      0.00        54\n",
      "tomato_yellow_leaf_curl_virus       0.51      0.60      0.55       854\n",
      "      two-spotted_spider_mite       0.42      0.39      0.40       280\n",
      "\n",
      "                     accuracy                           0.38      2907\n",
      "                    macro avg       0.29      0.29      0.28      2907\n",
      "                 weighted avg       0.37      0.38      0.37      2907\n",
      "\n",
      "[[156  17  25  16   5   8  10   0 100   8]\n",
      " [ 39   5   2   5  10  27  13   0  44   8]\n",
      " [ 27   0  85  18   3  15   3   0  81   2]\n",
      " [ 54   6  58  41  19  40  16   1  64  10]\n",
      " [ 25   5  16   6  41  21   3   0  27   1]\n",
      " [ 12   7  33  20  31 114   8   1  43  24]\n",
      " [ 32   8   5   0   1  72  52   0  29  41]\n",
      " [  1   0   0   1   4   5   0   0  41   2]\n",
      " [ 86  12  53  20  32  64  11   8 515  53]\n",
      " [  5  11   8   0   1  71  16   0  60 108]]\n"
     ]
    }
   ],
   "source": [
    "#classification report\n",
    "y_predict = svm_si.fit(Ftrain, Ltrain).predict(Ftest)\n",
    "class_names = target.unique()\n",
    "print(classification_report(Ltest, y_predict, target_names=class_names))\n",
    "print(confusion_matrix(Ltest, y_predict))"
   ]
  },
  {
   "cell_type": "markdown",
   "id": "5a175c93",
   "metadata": {},
   "source": [
    "# Bernouli Naive bayes on Red data"
   ]
  },
  {
   "cell_type": "code",
   "execution_count": 37,
   "id": "d65fa897",
   "metadata": {},
   "outputs": [
    {
     "data": {
      "text/plain": [
       "0.34365325077399383"
      ]
     },
     "execution_count": 37,
     "metadata": {},
     "output_type": "execute_result"
    }
   ],
   "source": [
    "bnb.fit(Ftrain, Ltrain)\n",
    "y_pred = bnb.predict(Ftest)\n",
    "metrics.accuracy_score(Ltest, y_pred)"
   ]
  },
  {
   "cell_type": "code",
   "execution_count": 38,
   "id": "bdadbf8a",
   "metadata": {},
   "outputs": [
    {
     "name": "stdout",
     "output_type": "stream",
     "text": [
      "                               precision    recall  f1-score   support\n",
      "\n",
      "               bacterial_spot       0.42      0.73      0.53       345\n",
      "                 early_blight       0.14      0.14      0.14       153\n",
      "                      healthy       0.26      0.58      0.36       234\n",
      "                  late_blight       0.21      0.10      0.13       309\n",
      "                    leaf_mold       0.33      0.17      0.23       145\n",
      "           septoria_leaf_spot       0.32      0.47      0.38       293\n",
      "                  target_spot       0.48      0.43      0.45       240\n",
      "          tomato_mosaic_virus       0.09      0.28      0.14        54\n",
      "tomato_yellow_leaf_curl_virus       0.61      0.13      0.22       854\n",
      "      two-spotted_spider_mite       0.39      0.59      0.47       280\n",
      "\n",
      "                     accuracy                           0.34      2907\n",
      "                    macro avg       0.33      0.36      0.31      2907\n",
      "                 weighted avg       0.41      0.34      0.31      2907\n",
      "\n",
      "[[252  12  50   7   4   7   3   1   7   2]\n",
      " [ 52  22   4   7   2  22  18   7  12   7]\n",
      " [ 12   2 135  27   3  34   8   3   7   3]\n",
      " [ 42  21 105  30  16  57  11   6   9  12]\n",
      " [ 33   1   9   7  25  30   2   6  10  22]\n",
      " [  5  11  47   8   4 139  25   9   6  39]\n",
      " [ 17  17   4   4   1  39 103   9   6  40]\n",
      " [  4   0   1   0   3  10   0  15  10  11]\n",
      " [177  55 157  45  17  59  14  91 114 125]\n",
      " [  8  11   0   8   0  33  30  20   6 164]]\n"
     ]
    }
   ],
   "source": [
    "class_names = target.unique()\n",
    "print(classification_report(Ltest, y_pred, target_names=class_names))\n",
    "print(confusion_matrix(Ltest, y_pred))"
   ]
  },
  {
   "cell_type": "markdown",
   "id": "11e4cd00",
   "metadata": {},
   "source": [
    "# Green channel data"
   ]
  },
  {
   "cell_type": "code",
   "execution_count": 39,
   "id": "40feb467",
   "metadata": {},
   "outputs": [],
   "source": [
    "#reading numpy array data\n",
    "green_test = np.load('green_data.npy')\n",
    "#reading csv file\n",
    "green_df = pd.read_csv('green_data.csv')\n",
    "#assigning features and target to split the data\n",
    "features = pd.DataFrame(green_test)\n",
    "features = features.values\n",
    "target = green_df['disease']\n",
    "#splitting the data to train and test\n",
    "Ftrain,Ftest,Ltrain,Ltest=train_test_split(features,target, test_size=0.20, random_state=24)"
   ]
  },
  {
   "cell_type": "code",
   "execution_count": 40,
   "id": "651d5c92",
   "metadata": {},
   "outputs": [],
   "source": [
    "#scaling data using standard scaler\n",
    "Ftrain = scaler.fit_transform(Ftrain)\n",
    "Ftest = scaler.fit_transform(Ftest)"
   ]
  },
  {
   "cell_type": "markdown",
   "id": "9aa0bc22",
   "metadata": {},
   "source": [
    "# SVM(poly) on green data"
   ]
  },
  {
   "cell_type": "code",
   "execution_count": 41,
   "id": "fe39c65e",
   "metadata": {},
   "outputs": [
    {
     "name": "stdout",
     "output_type": "stream",
     "text": [
      "0.5304437564499485\n"
     ]
    }
   ],
   "source": [
    "svm_poly.fit(Ftrain,Ltrain)\n",
    "y_pred = svm_poly.predict(Ftest)\n",
    "print(accuracy_score(Ltest,y_pred))"
   ]
  },
  {
   "cell_type": "code",
   "execution_count": 42,
   "id": "8423b846",
   "metadata": {},
   "outputs": [
    {
     "name": "stdout",
     "output_type": "stream",
     "text": [
      "                               precision    recall  f1-score   support\n",
      "\n",
      "               bacterial_spot       0.60      0.57      0.58       345\n",
      "                 early_blight       0.49      0.14      0.22       153\n",
      "                      healthy       0.68      0.57      0.62       234\n",
      "                  late_blight       0.76      0.29      0.42       309\n",
      "                    leaf_mold       0.62      0.14      0.23       145\n",
      "           septoria_leaf_spot       0.66      0.34      0.45       293\n",
      "                  target_spot       0.61      0.33      0.43       240\n",
      "          tomato_mosaic_virus       0.00      0.00      0.00        54\n",
      "tomato_yellow_leaf_curl_virus       0.45      0.93      0.61       854\n",
      "      two-spotted_spider_mite       0.68      0.40      0.50       280\n",
      "\n",
      "                     accuracy                           0.53      2907\n",
      "                    macro avg       0.55      0.37      0.41      2907\n",
      "                 weighted avg       0.58      0.53      0.49      2907\n",
      "\n",
      "[[195   0   7   8   0   0   1   0 131   3]\n",
      " [ 34  22   2   6   1   3  14   0  59  12]\n",
      " [  2   0 134   0   0   0   1   0  95   2]\n",
      " [ 14  13  13  89   7  26  12   0 127   8]\n",
      " [  8   0   7   4  20   5   1   0  96   4]\n",
      " [  7   0   5   7   4 101   7   0 161   1]\n",
      " [ 26   3   6   0   0   4  80   0 104  17]\n",
      " [  1   0   0   0   0   0   0   0  53   0]\n",
      " [ 25   2  15   3   0  13   0   0 790   6]\n",
      " [ 15   5   7   0   0   2  16   0 124 111]]\n"
     ]
    },
    {
     "name": "stderr",
     "output_type": "stream",
     "text": [
      "C:\\Users\\ravic\\anaconda3\\lib\\site-packages\\sklearn\\metrics\\_classification.py:1248: UndefinedMetricWarning: Precision and F-score are ill-defined and being set to 0.0 in labels with no predicted samples. Use `zero_division` parameter to control this behavior.\n",
      "  _warn_prf(average, modifier, msg_start, len(result))\n",
      "C:\\Users\\ravic\\anaconda3\\lib\\site-packages\\sklearn\\metrics\\_classification.py:1248: UndefinedMetricWarning: Precision and F-score are ill-defined and being set to 0.0 in labels with no predicted samples. Use `zero_division` parameter to control this behavior.\n",
      "  _warn_prf(average, modifier, msg_start, len(result))\n",
      "C:\\Users\\ravic\\anaconda3\\lib\\site-packages\\sklearn\\metrics\\_classification.py:1248: UndefinedMetricWarning: Precision and F-score are ill-defined and being set to 0.0 in labels with no predicted samples. Use `zero_division` parameter to control this behavior.\n",
      "  _warn_prf(average, modifier, msg_start, len(result))\n"
     ]
    }
   ],
   "source": [
    "#classification report\n",
    "y_predict = svm_poly.fit(Ftrain, Ltrain).predict(Ftest)\n",
    "class_names = target.unique()\n",
    "print(classification_report(Ltest, y_predict, target_names=class_names))\n",
    "print(confusion_matrix(Ltest, y_predict))"
   ]
  },
  {
   "cell_type": "markdown",
   "id": "6112d4e4",
   "metadata": {},
   "source": [
    "# SVM(RBF) on green data"
   ]
  },
  {
   "cell_type": "code",
   "execution_count": 43,
   "id": "69be936f",
   "metadata": {},
   "outputs": [
    {
     "name": "stdout",
     "output_type": "stream",
     "text": [
      "0.7137942896456828\n"
     ]
    }
   ],
   "source": [
    "svm_rbf.fit(Ftrain,Ltrain)\n",
    "y_pred = svm_rbf.predict(Ftest)\n",
    "print(accuracy_score(Ltest,y_pred))"
   ]
  },
  {
   "cell_type": "code",
   "execution_count": 44,
   "id": "81b4c571",
   "metadata": {},
   "outputs": [
    {
     "name": "stdout",
     "output_type": "stream",
     "text": [
      "                               precision    recall  f1-score   support\n",
      "\n",
      "               bacterial_spot       0.77      0.76      0.76       345\n",
      "                 early_blight       0.58      0.25      0.35       153\n",
      "                      healthy       0.79      0.86      0.82       234\n",
      "                  late_blight       0.68      0.65      0.67       309\n",
      "                    leaf_mold       0.68      0.50      0.58       145\n",
      "           septoria_leaf_spot       0.67      0.62      0.64       293\n",
      "                  target_spot       0.63      0.62      0.62       240\n",
      "          tomato_mosaic_virus       0.68      0.31      0.43        54\n",
      "tomato_yellow_leaf_curl_virus       0.73      0.90      0.80       854\n",
      "      two-spotted_spider_mite       0.74      0.66      0.70       280\n",
      "\n",
      "                     accuracy                           0.71      2907\n",
      "                    macro avg       0.69      0.61      0.64      2907\n",
      "                 weighted avg       0.71      0.71      0.70      2907\n",
      "\n",
      "[[262   2   9  11   4   6   3   0  48   0]\n",
      " [ 19  38   1  25   2   3  19   0  39   7]\n",
      " [  3   1 201   3   2   2   7   0  13   2]\n",
      " [  2  11   4 202   8  24   8   3  38   9]\n",
      " [  6   1   5  10  73  16   5   2  23   4]\n",
      " [  9   1  12  25   7 183  10   0  41   5]\n",
      " [ 12   3   7   3   3   9 148   0  27  28]\n",
      " [  3   0   2   1   6   8   2  17  14   1]\n",
      " [ 22   2  11  13   3  19   7   1 767   9]\n",
      " [  4   6   3   3   0   5  26   2  47 184]]\n"
     ]
    }
   ],
   "source": [
    "#classification report\n",
    "y_predict = svm_rbf.fit(Ftrain, Ltrain).predict(Ftest)\n",
    "class_names = target.unique()\n",
    "print(classification_report(Ltest, y_predict, target_names=class_names))\n",
    "print(confusion_matrix(Ltest, y_predict))"
   ]
  },
  {
   "cell_type": "markdown",
   "id": "662d1937",
   "metadata": {},
   "source": [
    "# SVM(sigmoid) on green data"
   ]
  },
  {
   "cell_type": "code",
   "execution_count": 45,
   "id": "7f6adcca",
   "metadata": {},
   "outputs": [
    {
     "name": "stdout",
     "output_type": "stream",
     "text": [
      "0.32679738562091504\n"
     ]
    }
   ],
   "source": [
    "svm_si.fit(Ftrain,Ltrain)\n",
    "y_pred = svm_si.predict(Ftest)\n",
    "print(accuracy_score(Ltest,y_pred))"
   ]
  },
  {
   "cell_type": "code",
   "execution_count": 46,
   "id": "251d68f3",
   "metadata": {},
   "outputs": [
    {
     "name": "stdout",
     "output_type": "stream",
     "text": [
      "                               precision    recall  f1-score   support\n",
      "\n",
      "               bacterial_spot       0.39      0.51      0.44       345\n",
      "                 early_blight       0.12      0.08      0.09       153\n",
      "                      healthy       0.34      0.32      0.33       234\n",
      "                  late_blight       0.20      0.19      0.19       309\n",
      "                    leaf_mold       0.47      0.10      0.17       145\n",
      "           septoria_leaf_spot       0.18      0.28      0.22       293\n",
      "                  target_spot       0.23      0.12      0.16       240\n",
      "          tomato_mosaic_virus       0.00      0.00      0.00        54\n",
      "tomato_yellow_leaf_curl_virus       0.44      0.53      0.48       854\n",
      "      two-spotted_spider_mite       0.24      0.19      0.21       280\n",
      "\n",
      "                     accuracy                           0.33      2907\n",
      "                    macro avg       0.26      0.23      0.23      2907\n",
      "                 weighted avg       0.32      0.33      0.31      2907\n",
      "\n",
      "[[175  11  15  37   0  19   8   0  52  28]\n",
      " [ 44  12   0  13   4  22  11   0  28  19]\n",
      " [ 22   0  74  27   0  20   7   0  79   5]\n",
      " [ 52  11  28  58   7  40  14   0  84  15]\n",
      " [ 11   8  11  25  15  27   1   0  45   2]\n",
      " [  4  11  21  33   2  83  35   0  91  13]\n",
      " [ 19  17  10  11   0  53  30   0  63  37]\n",
      " [  5   0   4   6   0   2   1   0  34   2]\n",
      " [ 78  21  49  73   4 116  15   0 450  48]\n",
      " [ 43  11   3   9   0  67   8   0  86  53]]\n"
     ]
    },
    {
     "name": "stderr",
     "output_type": "stream",
     "text": [
      "C:\\Users\\ravic\\anaconda3\\lib\\site-packages\\sklearn\\metrics\\_classification.py:1248: UndefinedMetricWarning: Precision and F-score are ill-defined and being set to 0.0 in labels with no predicted samples. Use `zero_division` parameter to control this behavior.\n",
      "  _warn_prf(average, modifier, msg_start, len(result))\n",
      "C:\\Users\\ravic\\anaconda3\\lib\\site-packages\\sklearn\\metrics\\_classification.py:1248: UndefinedMetricWarning: Precision and F-score are ill-defined and being set to 0.0 in labels with no predicted samples. Use `zero_division` parameter to control this behavior.\n",
      "  _warn_prf(average, modifier, msg_start, len(result))\n",
      "C:\\Users\\ravic\\anaconda3\\lib\\site-packages\\sklearn\\metrics\\_classification.py:1248: UndefinedMetricWarning: Precision and F-score are ill-defined and being set to 0.0 in labels with no predicted samples. Use `zero_division` parameter to control this behavior.\n",
      "  _warn_prf(average, modifier, msg_start, len(result))\n"
     ]
    }
   ],
   "source": [
    "#classification report\n",
    "y_predict = svm_si.fit(Ftrain, Ltrain).predict(Ftest)\n",
    "class_names = target.unique()\n",
    "print(classification_report(Ltest, y_predict, target_names=class_names))\n",
    "print(confusion_matrix(Ltest, y_predict))"
   ]
  },
  {
   "cell_type": "markdown",
   "id": "8aa412dd",
   "metadata": {},
   "source": [
    "# Bernouli Naive bayes on green data"
   ]
  },
  {
   "cell_type": "code",
   "execution_count": 47,
   "id": "b6622b8d",
   "metadata": {},
   "outputs": [
    {
     "data": {
      "text/plain": [
       "0.282421740626075"
      ]
     },
     "execution_count": 47,
     "metadata": {},
     "output_type": "execute_result"
    }
   ],
   "source": [
    "bnb.fit(Ftrain, Ltrain)\n",
    "y_pred = bnb.predict(Ftest)\n",
    "metrics.accuracy_score(Ltest, y_pred)"
   ]
  },
  {
   "cell_type": "code",
   "execution_count": 48,
   "id": "f3c6b16f",
   "metadata": {},
   "outputs": [
    {
     "name": "stdout",
     "output_type": "stream",
     "text": [
      "                               precision    recall  f1-score   support\n",
      "\n",
      "               bacterial_spot       0.40      0.70      0.51       345\n",
      "                 early_blight       0.12      0.16      0.14       153\n",
      "                      healthy       0.26      0.53      0.34       234\n",
      "                  late_blight       0.20      0.11      0.14       309\n",
      "                    leaf_mold       0.46      0.23      0.31       145\n",
      "           septoria_leaf_spot       0.30      0.57      0.40       293\n",
      "                  target_spot       0.41      0.23      0.29       240\n",
      "          tomato_mosaic_virus       0.06      0.33      0.10        54\n",
      "tomato_yellow_leaf_curl_virus       0.27      0.02      0.04       854\n",
      "      two-spotted_spider_mite       0.35      0.38      0.36       280\n",
      "\n",
      "                     accuracy                           0.28      2907\n",
      "                    macro avg       0.28      0.33      0.26      2907\n",
      "                 weighted avg       0.30      0.28      0.24      2907\n",
      "\n",
      "[[243  16  33  11   2  15   4  18   1   2]\n",
      " [ 56  25   1   9   2  20  15  12   2  11]\n",
      " [  6   3 123  13   1  19  15  38  10   6]\n",
      " [ 59  16  93  33  18  48   9   9   9  15]\n",
      " [ 26   8   5   7  34  31   1  25   2   6]\n",
      " [  3  11  59   8   3 167  14   9   4  15]\n",
      " [ 23  15   3  24   3  46  54  29   6  37]\n",
      " [  7   1   3   6   1  10   0  18   1   7]\n",
      " [164  71 150  39   7 169   8 134  19  93]\n",
      " [ 19  38  10  19   3  27  11  31  17 105]]\n"
     ]
    }
   ],
   "source": [
    "class_names = target.unique()\n",
    "print(classification_report(Ltest, y_pred, target_names=class_names))\n",
    "print(confusion_matrix(Ltest, y_pred))"
   ]
  },
  {
   "cell_type": "markdown",
   "id": "a6a80ecb",
   "metadata": {},
   "source": [
    "# Blue channel data"
   ]
  },
  {
   "cell_type": "code",
   "execution_count": 49,
   "id": "06094596",
   "metadata": {},
   "outputs": [],
   "source": [
    "#reading numpy array data\n",
    "blue_test = np.load('blue_data.npy')\n",
    "#reading csv file\n",
    "blue_df = pd.read_csv('blue_data.csv')\n",
    "#assigning features and target to split the data\n",
    "features = pd.DataFrame(blue_test)\n",
    "features = features.values\n",
    "target = blue_df['disease']\n",
    "#splitting the data to train and test\n",
    "Ftrain,Ftest,Ltrain,Ltest=train_test_split(features,target, test_size=0.20, random_state=24)"
   ]
  },
  {
   "cell_type": "code",
   "execution_count": 50,
   "id": "6de6377a",
   "metadata": {},
   "outputs": [],
   "source": [
    "#scaling data using standard scaler\n",
    "Ftrain = scaler.fit_transform(Ftrain)\n",
    "Ftest = scaler.fit_transform(Ftest)"
   ]
  },
  {
   "cell_type": "markdown",
   "id": "4d40997b",
   "metadata": {},
   "source": [
    "# SVM(poly) on blue data"
   ]
  },
  {
   "cell_type": "code",
   "execution_count": 51,
   "id": "39b88095",
   "metadata": {},
   "outputs": [
    {
     "name": "stdout",
     "output_type": "stream",
     "text": [
      "0.653250773993808\n"
     ]
    }
   ],
   "source": [
    "svm_poly.fit(Ftrain,Ltrain)\n",
    "y_pred = svm_poly.predict(Ftest)\n",
    "print(accuracy_score(Ltest,y_pred))"
   ]
  },
  {
   "cell_type": "code",
   "execution_count": 52,
   "id": "dc98d740",
   "metadata": {},
   "outputs": [
    {
     "name": "stdout",
     "output_type": "stream",
     "text": [
      "                               precision    recall  f1-score   support\n",
      "\n",
      "               bacterial_spot       0.47      0.80      0.59       345\n",
      "                 early_blight       0.42      0.08      0.14       153\n",
      "                      healthy       0.86      0.76      0.81       234\n",
      "                  late_blight       0.81      0.52      0.64       309\n",
      "                    leaf_mold       0.67      0.53      0.59       145\n",
      "           septoria_leaf_spot       0.61      0.47      0.53       293\n",
      "                  target_spot       0.57      0.54      0.55       240\n",
      "          tomato_mosaic_virus       0.38      0.19      0.25        54\n",
      "tomato_yellow_leaf_curl_virus       0.71      0.91      0.80       854\n",
      "      two-spotted_spider_mite       0.71      0.50      0.58       280\n",
      "\n",
      "                     accuracy                           0.65      2907\n",
      "                    macro avg       0.62      0.53      0.55      2907\n",
      "                 weighted avg       0.66      0.65      0.63      2907\n",
      "\n",
      "[[275   0   2   1   1   2   3   0  57   4]\n",
      " [ 38  13   2  11   2   8  27   4  43   5]\n",
      " [ 41   0 178   1   0   1  10   0   1   2]\n",
      " [ 43  10  11 161  15  23  16   2  23   5]\n",
      " [  7   1   1   5  77  12  10   1  24   7]\n",
      " [ 25   4   1  12  14 139  13   5  71   9]\n",
      " [ 55   1  10   2   2  12 129   1  14  14]\n",
      " [  5   0   0   1   3  14   1  10  18   2]\n",
      " [ 46   1   0   2   0  12   4   2 778   9]\n",
      " [ 47   1   2   2   1   4  15   1  68 139]]\n"
     ]
    }
   ],
   "source": [
    "#classification report\n",
    "y_predict = svm_poly.fit(Ftrain, Ltrain).predict(Ftest)\n",
    "class_names = target.unique()\n",
    "print(classification_report(Ltest, y_predict, target_names=class_names))\n",
    "print(confusion_matrix(Ltest, y_predict))"
   ]
  },
  {
   "cell_type": "markdown",
   "id": "5226f4f2",
   "metadata": {},
   "source": [
    "# SVM(RBF) on blue data"
   ]
  },
  {
   "cell_type": "code",
   "execution_count": 53,
   "id": "183a5680",
   "metadata": {},
   "outputs": [
    {
     "name": "stdout",
     "output_type": "stream",
     "text": [
      "0.7571379428964569\n"
     ]
    }
   ],
   "source": [
    "svm_rbf.fit(Ftrain,Ltrain)\n",
    "y_pred = svm_rbf.predict(Ftest)\n",
    "print(accuracy_score(Ltest,y_pred))"
   ]
  },
  {
   "cell_type": "code",
   "execution_count": 54,
   "id": "22270861",
   "metadata": {},
   "outputs": [
    {
     "name": "stdout",
     "output_type": "stream",
     "text": [
      "                               precision    recall  f1-score   support\n",
      "\n",
      "               bacterial_spot       0.78      0.89      0.83       345\n",
      "                 early_blight       0.49      0.24      0.32       153\n",
      "                      healthy       0.86      0.87      0.86       234\n",
      "                  late_blight       0.74      0.71      0.72       309\n",
      "                    leaf_mold       0.69      0.54      0.61       145\n",
      "           septoria_leaf_spot       0.62      0.66      0.64       293\n",
      "                  target_spot       0.61      0.63      0.62       240\n",
      "          tomato_mosaic_virus       0.53      0.33      0.41        54\n",
      "tomato_yellow_leaf_curl_virus       0.84      0.91      0.88       854\n",
      "      two-spotted_spider_mite       0.79      0.77      0.78       280\n",
      "\n",
      "                     accuracy                           0.76      2907\n",
      "                    macro avg       0.69      0.66      0.67      2907\n",
      "                 weighted avg       0.75      0.76      0.75      2907\n",
      "\n",
      "[[306   0   6   4   0   2   4   0  22   1]\n",
      " [ 19  37   1  26   2  11  21   2  33   1]\n",
      " [  2   2 204   5   1   2  14   0   1   3]\n",
      " [  5  12   7 219  11  16  11   3  20   5]\n",
      " [  4   3   1   7  79  27  10   1   8   5]\n",
      " [ 15   6   0  17  13 192  16   5  22   7]\n",
      " [ 18   9  17   5   4  15 152   4   5  11]\n",
      " [  3   0   0   4   4  17   0  18   5   3]\n",
      " [ 21   2   1   6   1  19   4   1 779  20]\n",
      " [  1   5   1   3   0   8  16   0  31 215]]\n"
     ]
    }
   ],
   "source": [
    "#classification report\n",
    "y_predict = svm_rbf.fit(Ftrain, Ltrain).predict(Ftest)\n",
    "class_names = target.unique()\n",
    "print(classification_report(Ltest, y_predict, target_names=class_names))\n",
    "print(confusion_matrix(Ltest, y_predict))"
   ]
  },
  {
   "cell_type": "markdown",
   "id": "09f47e7e",
   "metadata": {},
   "source": [
    "# SVM(sigmoid) on blue data"
   ]
  },
  {
   "cell_type": "code",
   "execution_count": 55,
   "id": "4401c844",
   "metadata": {},
   "outputs": [
    {
     "name": "stdout",
     "output_type": "stream",
     "text": [
      "0.45304437564499483\n"
     ]
    }
   ],
   "source": [
    "svm_si.fit(Ftrain,Ltrain)\n",
    "y_pred = svm_si.predict(Ftest)\n",
    "print(accuracy_score(Ltest,y_pred))"
   ]
  },
  {
   "cell_type": "code",
   "execution_count": 56,
   "id": "4372e59f",
   "metadata": {},
   "outputs": [
    {
     "name": "stdout",
     "output_type": "stream",
     "text": [
      "                               precision    recall  f1-score   support\n",
      "\n",
      "               bacterial_spot       0.45      0.39      0.41       345\n",
      "                 early_blight       0.14      0.03      0.05       153\n",
      "                      healthy       0.49      0.42      0.45       234\n",
      "                  late_blight       0.37      0.28      0.32       309\n",
      "                    leaf_mold       0.51      0.27      0.35       145\n",
      "           septoria_leaf_spot       0.22      0.51      0.30       293\n",
      "                  target_spot       0.26      0.18      0.21       240\n",
      "          tomato_mosaic_virus       0.11      0.02      0.03        54\n",
      "tomato_yellow_leaf_curl_virus       0.65      0.80      0.72       854\n",
      "      two-spotted_spider_mite       0.53      0.28      0.37       280\n",
      "\n",
      "                     accuracy                           0.45      2907\n",
      "                    macro avg       0.37      0.32      0.32      2907\n",
      "                 weighted avg       0.45      0.45      0.43      2907\n",
      "\n",
      "[[134   4   5  19   0  10   8   1 154  10]\n",
      " [ 16   5  11  10   0  43  11   1  51   5]\n",
      " [ 11   0  99  62   0  31  24   0   3   4]\n",
      " [ 19   7  41  85  10  90  16   1  39   1]\n",
      " [  2   0   1  16  39  63   2   1  17   4]\n",
      " [  5   4   6   8  19 150  49   4  35  13]\n",
      " [ 11   6  30   8   2 112  43   0   9  19]\n",
      " [  1   0   0   6   3  38   0   1   5   0]\n",
      " [ 71   3   1  10   4  64   5   0 682  14]\n",
      " [ 31   6   9   5   0  93   9   0  48  79]]\n"
     ]
    }
   ],
   "source": [
    "#classification report\n",
    "y_predict = svm_si.fit(Ftrain, Ltrain).predict(Ftest)\n",
    "class_names = target.unique()\n",
    "print(classification_report(Ltest, y_predict, target_names=class_names))\n",
    "print(confusion_matrix(Ltest, y_predict))"
   ]
  },
  {
   "cell_type": "markdown",
   "id": "7401f4ab",
   "metadata": {},
   "source": [
    "# Bernouli Naive bayes on blue data"
   ]
  },
  {
   "cell_type": "code",
   "execution_count": 57,
   "id": "a8ddf84b",
   "metadata": {},
   "outputs": [
    {
     "data": {
      "text/plain": [
       "0.4613003095975232"
      ]
     },
     "execution_count": 57,
     "metadata": {},
     "output_type": "execute_result"
    }
   ],
   "source": [
    "bnb.fit(Ftrain, Ltrain)\n",
    "y_pred = bnb.predict(Ftest)\n",
    "metrics.accuracy_score(Ltest, y_pred)"
   ]
  },
  {
   "cell_type": "code",
   "execution_count": 58,
   "id": "944621bd",
   "metadata": {},
   "outputs": [
    {
     "name": "stdout",
     "output_type": "stream",
     "text": [
      "                               precision    recall  f1-score   support\n",
      "\n",
      "               bacterial_spot       0.41      0.54      0.47       345\n",
      "                 early_blight       0.10      0.15      0.12       153\n",
      "                      healthy       0.43      0.51      0.47       234\n",
      "                  late_blight       0.34      0.14      0.20       309\n",
      "                    leaf_mold       0.44      0.52      0.48       145\n",
      "           septoria_leaf_spot       0.45      0.50      0.47       293\n",
      "                  target_spot       0.39      0.41      0.40       240\n",
      "          tomato_mosaic_virus       0.15      0.56      0.23        54\n",
      "tomato_yellow_leaf_curl_virus       0.78      0.60      0.68       854\n",
      "      two-spotted_spider_mite       0.49      0.37      0.42       280\n",
      "\n",
      "                     accuracy                           0.46      2907\n",
      "                    macro avg       0.40      0.43      0.39      2907\n",
      "                 weighted avg       0.50      0.46      0.47      2907\n",
      "\n",
      "[[186  41   8  18   4   3  10   1  69   5]\n",
      " [ 34  23  11   9   3  20  15   9  24   5]\n",
      " [  7   2 119  12   3   6  72   6   0   7]\n",
      " [ 53  30  74  44  24  34  14  17  13   6]\n",
      " [  3   4   9   3  75  15   8  15   7   6]\n",
      " [  8  21   6   5  38 146  15  30  15   9]\n",
      " [  5  19  33   6   2  39  99  14   1  22]\n",
      " [  1   0   0   4   5  10   0  30   0   4]\n",
      " [143  49   2  17  12  35   3  33 516  44]\n",
      " [ 13  35  13  11   4  17  16  49  19 103]]\n"
     ]
    }
   ],
   "source": [
    "class_names = target.unique()\n",
    "print(classification_report(Ltest, y_pred, target_names=class_names))\n",
    "print(confusion_matrix(Ltest, y_pred))"
   ]
  },
  {
   "cell_type": "code",
   "execution_count": 60,
   "id": "195a0b21",
   "metadata": {},
   "outputs": [
    {
     "name": "stdout",
     "output_type": "stream",
     "text": [
      "15564.481875658035\n"
     ]
    }
   ],
   "source": [
    "end_time = time.time()\n",
    "print(end_time - start_time)"
   ]
  }
 ],
 "metadata": {
  "kernelspec": {
   "display_name": "Python 3 (ipykernel)",
   "language": "python",
   "name": "python3"
  },
  "language_info": {
   "codemirror_mode": {
    "name": "ipython",
    "version": 3
   },
   "file_extension": ".py",
   "mimetype": "text/x-python",
   "name": "python",
   "nbconvert_exporter": "python",
   "pygments_lexer": "ipython3",
   "version": "3.9.7"
  }
 },
 "nbformat": 4,
 "nbformat_minor": 5
}
