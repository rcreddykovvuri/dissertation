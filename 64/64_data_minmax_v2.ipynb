{
 "cells": [
  {
   "cell_type": "code",
   "execution_count": 1,
   "id": "bcdb1517",
   "metadata": {},
   "outputs": [],
   "source": [
    "import numpy as np #importing numpy\n",
    "import pandas as pd #importing pandas\n",
    "import PIL #importing pillow for image processing\n",
    "from PIL import Image#importing image from pillow library\n",
    "import skimage#importing skimage library\n",
    "import os#importing os library\n",
    "import time#importing time library\n",
    "\n",
    "#Capture start time of the program\n",
    "start_time = time.time()"
   ]
  },
  {
   "cell_type": "code",
   "execution_count": 2,
   "id": "9ec45970",
   "metadata": {},
   "outputs": [],
   "source": [
    "#changing path\n",
    "os.chdir('D://DKIT//dissertation//Dataset_of_Tomato_Leaves//plantvillage//Preprocessed_data//64//vector//')"
   ]
  },
  {
   "cell_type": "code",
   "execution_count": 3,
   "id": "ebe79cf6",
   "metadata": {},
   "outputs": [],
   "source": [
    "from sklearn.preprocessing import MinMaxScaler\n",
    "minmax = MinMaxScaler()"
   ]
  },
  {
   "cell_type": "markdown",
   "id": "e1e76605",
   "metadata": {},
   "source": [
    "# RGB Data"
   ]
  },
  {
   "cell_type": "code",
   "execution_count": 4,
   "id": "9386938c",
   "metadata": {},
   "outputs": [],
   "source": [
    "#reading numpy array data\n",
    "rgb_test = np.load('rgb_data.npy')\n",
    "#reading csv file\n",
    "rgb_df = pd.read_csv('rgb_data.csv')"
   ]
  },
  {
   "cell_type": "code",
   "execution_count": 5,
   "id": "40f528b5",
   "metadata": {},
   "outputs": [],
   "source": [
    "features = pd.DataFrame(rgb_test)"
   ]
  },
  {
   "cell_type": "code",
   "execution_count": 6,
   "id": "fdd9a1f6",
   "metadata": {},
   "outputs": [],
   "source": [
    "features = features.values"
   ]
  },
  {
   "cell_type": "code",
   "execution_count": 7,
   "id": "c6d5658c",
   "metadata": {},
   "outputs": [],
   "source": [
    "#assigning target\n",
    "target = rgb_df['disease']\n",
    "#splitting the data to 80 percent and 20 percent\n",
    "from sklearn.model_selection import train_test_split\n",
    "Ftrain,Ftest,Ltrain,Ltest=train_test_split(features,target, test_size=0.20, random_state=24)"
   ]
  },
  {
   "cell_type": "code",
   "execution_count": 8,
   "id": "c1415437",
   "metadata": {},
   "outputs": [],
   "source": [
    "Ftrain = minmax.fit_transform(Ftrain)\n",
    "Ftest = minmax.fit_transform(Ftest)"
   ]
  },
  {
   "cell_type": "code",
   "execution_count": 9,
   "id": "1fa0433e",
   "metadata": {},
   "outputs": [],
   "source": [
    "#importing classification report and confusion matrix\n",
    "from sklearn.metrics import classification_report, confusion_matrix"
   ]
  },
  {
   "cell_type": "markdown",
   "id": "d466ef5f",
   "metadata": {},
   "source": [
    "# SVM(poly) on RGB data"
   ]
  },
  {
   "cell_type": "code",
   "execution_count": 10,
   "id": "2427ed51",
   "metadata": {},
   "outputs": [
    {
     "name": "stdout",
     "output_type": "stream",
     "text": [
      "0.803921568627451\n"
     ]
    }
   ],
   "source": [
    "from sklearn.svm import SVC\n",
    "from sklearn.metrics import accuracy_score\n",
    "\n",
    "svm_poly = SVC(kernel='poly')\n",
    "svm_poly.fit(Ftrain,Ltrain)\n",
    "y_pred = svm_poly.predict(Ftest)\n",
    "print(accuracy_score(Ltest,y_pred))"
   ]
  },
  {
   "cell_type": "code",
   "execution_count": 11,
   "id": "bf286604",
   "metadata": {},
   "outputs": [
    {
     "name": "stdout",
     "output_type": "stream",
     "text": [
      "                               precision    recall  f1-score   support\n",
      "\n",
      "               bacterial_spot       0.75      0.90      0.82       345\n",
      "                 early_blight       0.44      0.46      0.45       153\n",
      "                      healthy       0.81      0.91      0.86       234\n",
      "                  late_blight       0.68      0.75      0.71       309\n",
      "                    leaf_mold       0.69      0.70      0.69       145\n",
      "           septoria_leaf_spot       0.78      0.67      0.72       293\n",
      "                  target_spot       0.77      0.75      0.76       240\n",
      "          tomato_mosaic_virus       0.80      0.81      0.81        54\n",
      "tomato_yellow_leaf_curl_virus       0.97      0.89      0.93       854\n",
      "      two-spotted_spider_mite       0.90      0.81      0.86       280\n",
      "\n",
      "                     accuracy                           0.80      2907\n",
      "                    macro avg       0.76      0.77      0.76      2907\n",
      "                 weighted avg       0.81      0.80      0.81      2907\n",
      "\n",
      "[[310  15   2  13   0   1   0   0   4   0]\n",
      " [ 28  71   3  26   0   3  15   1   6   0]\n",
      " [  2   2 212   5   3   2   8   0   0   0]\n",
      " [ 18  23   5 233  10   8   3   0   5   4]\n",
      " [  2   7   3  13 101  13   3   1   1   1]\n",
      " [ 10  11  13  18  20 197  10   7   5   2]\n",
      " [  5  18  14   3   2  12 180   0   0   6]\n",
      " [  0   0   0   1   1   6   2  44   0   0]\n",
      " [ 33  10   0  23   5   7   3   0 761  12]\n",
      " [  6   3   9   8   5   3  10   2   6 228]]\n"
     ]
    }
   ],
   "source": [
    "#classification report\n",
    "y_predict = svm_poly.fit(Ftrain, Ltrain).predict(Ftest)\n",
    "class_names = target.unique()\n",
    "print(classification_report(Ltest, y_predict, target_names=class_names))\n",
    "print(confusion_matrix(Ltest, y_predict))"
   ]
  },
  {
   "cell_type": "markdown",
   "id": "4101cb88",
   "metadata": {},
   "source": [
    "# SVM(RBF) on RGB data"
   ]
  },
  {
   "cell_type": "code",
   "execution_count": 12,
   "id": "235aaf3a",
   "metadata": {},
   "outputs": [
    {
     "name": "stdout",
     "output_type": "stream",
     "text": [
      "0.8417612659098728\n"
     ]
    }
   ],
   "source": [
    "svm_rbf = SVC(kernel='rbf')\n",
    "svm_rbf.fit(Ftrain,Ltrain)\n",
    "y_pred = svm_rbf.predict(Ftest)\n",
    "print(accuracy_score(Ltest,y_pred))"
   ]
  },
  {
   "cell_type": "code",
   "execution_count": 13,
   "id": "1c7ce3a6",
   "metadata": {},
   "outputs": [
    {
     "name": "stdout",
     "output_type": "stream",
     "text": [
      "                               precision    recall  f1-score   support\n",
      "\n",
      "               bacterial_spot       0.88      0.91      0.89       345\n",
      "                 early_blight       0.55      0.39      0.45       153\n",
      "                      healthy       0.91      0.96      0.93       234\n",
      "                  late_blight       0.74      0.82      0.78       309\n",
      "                    leaf_mold       0.80      0.67      0.73       145\n",
      "           septoria_leaf_spot       0.78      0.76      0.77       293\n",
      "                  target_spot       0.74      0.83      0.78       240\n",
      "          tomato_mosaic_virus       0.78      0.70      0.74        54\n",
      "tomato_yellow_leaf_curl_virus       0.95      0.94      0.94       854\n",
      "      two-spotted_spider_mite       0.84      0.86      0.85       280\n",
      "\n",
      "                     accuracy                           0.84      2907\n",
      "                    macro avg       0.80      0.78      0.79      2907\n",
      "                 weighted avg       0.84      0.84      0.84      2907\n",
      "\n",
      "[[313   3   3   6   0   0   6   0  14   0]\n",
      " [ 23  59   4  30   1   4  18   1   5   8]\n",
      " [  0   1 224   5   0   2   2   0   0   0]\n",
      " [  2  16   4 254   9   7   5   3   5   4]\n",
      " [  1   4   0  10  97  23   2   2   3   3]\n",
      " [  2   6   2  15  11 224  14   2  11   6]\n",
      " [  1   7   8   4   1  10 199   1   1   8]\n",
      " [  0   1   1   1   2   9   2  38   0   0]\n",
      " [ 14   6   0   9   0   6   3   0 799  17]\n",
      " [  0   5   0  10   0   2  18   2   3 240]]\n"
     ]
    }
   ],
   "source": [
    "#classification report\n",
    "y_predict = svm_rbf.fit(Ftrain, Ltrain).predict(Ftest)\n",
    "class_names = target.unique()\n",
    "print(classification_report(Ltest, y_predict, target_names=class_names))\n",
    "print(confusion_matrix(Ltest, y_predict))"
   ]
  },
  {
   "cell_type": "markdown",
   "id": "670ea3cc",
   "metadata": {},
   "source": [
    "# SVM(sigmoid) on RGB data"
   ]
  },
  {
   "cell_type": "code",
   "execution_count": 14,
   "id": "8aaf1a20",
   "metadata": {},
   "outputs": [
    {
     "name": "stdout",
     "output_type": "stream",
     "text": [
      "0.2934296525627795\n"
     ]
    }
   ],
   "source": [
    "svm_si = SVC(kernel='sigmoid')\n",
    "svm_si.fit(Ftrain,Ltrain)\n",
    "y_pred = svm_si.predict(Ftest)\n",
    "print(accuracy_score(Ltest,y_pred))"
   ]
  },
  {
   "cell_type": "code",
   "execution_count": 15,
   "id": "9beeb8fa",
   "metadata": {},
   "outputs": [
    {
     "name": "stdout",
     "output_type": "stream",
     "text": [
      "                               precision    recall  f1-score   support\n",
      "\n",
      "               bacterial_spot       0.00      0.00      0.00       345\n",
      "                 early_blight       0.00      0.00      0.00       153\n",
      "                      healthy       0.00      0.00      0.00       234\n",
      "                  late_blight       0.00      0.00      0.00       309\n",
      "                    leaf_mold       0.00      0.00      0.00       145\n",
      "           septoria_leaf_spot       0.00      0.00      0.00       293\n",
      "                  target_spot       0.00      0.00      0.00       240\n",
      "          tomato_mosaic_virus       0.00      0.00      0.00        54\n",
      "tomato_yellow_leaf_curl_virus       0.30      1.00      0.46       854\n",
      "      two-spotted_spider_mite       0.00      0.00      0.00       280\n",
      "\n",
      "                     accuracy                           0.29      2907\n",
      "                    macro avg       0.03      0.10      0.05      2907\n",
      "                 weighted avg       0.09      0.29      0.13      2907\n",
      "\n",
      "[[  0   0   0   0   0   0   0   0 345   0]\n",
      " [  0   0   0   0   0   0   0   0 153   0]\n",
      " [  0   0   0   0   0   0   0   0 234   0]\n",
      " [  0   0   0   0   0  33   0   0 276   0]\n",
      " [  1   0   0   0   0   0   0   0 144   0]\n",
      " [  0   0   0   0   0   0   0   0 293   0]\n",
      " [  0   0   0   0   0   1   0   0 239   0]\n",
      " [  0   0   0   0   0   0   0   0  54   0]\n",
      " [  1   0   0   0   0   0   0   0 853   0]\n",
      " [  0   0   0   0   0   0   0   0 280   0]]\n"
     ]
    },
    {
     "name": "stderr",
     "output_type": "stream",
     "text": [
      "C:\\Users\\ravic\\anaconda3\\lib\\site-packages\\sklearn\\metrics\\_classification.py:1248: UndefinedMetricWarning: Precision and F-score are ill-defined and being set to 0.0 in labels with no predicted samples. Use `zero_division` parameter to control this behavior.\n",
      "  _warn_prf(average, modifier, msg_start, len(result))\n",
      "C:\\Users\\ravic\\anaconda3\\lib\\site-packages\\sklearn\\metrics\\_classification.py:1248: UndefinedMetricWarning: Precision and F-score are ill-defined and being set to 0.0 in labels with no predicted samples. Use `zero_division` parameter to control this behavior.\n",
      "  _warn_prf(average, modifier, msg_start, len(result))\n",
      "C:\\Users\\ravic\\anaconda3\\lib\\site-packages\\sklearn\\metrics\\_classification.py:1248: UndefinedMetricWarning: Precision and F-score are ill-defined and being set to 0.0 in labels with no predicted samples. Use `zero_division` parameter to control this behavior.\n",
      "  _warn_prf(average, modifier, msg_start, len(result))\n"
     ]
    }
   ],
   "source": [
    "#classification report\n",
    "y_predict = svm_si.fit(Ftrain, Ltrain).predict(Ftest)\n",
    "class_names = target.unique()\n",
    "print(classification_report(Ltest, y_predict, target_names=class_names))\n",
    "print(confusion_matrix(Ltest, y_predict))"
   ]
  },
  {
   "cell_type": "markdown",
   "id": "f985c500",
   "metadata": {},
   "source": [
    "# Bernouli Naive bayes on RGB data"
   ]
  },
  {
   "cell_type": "code",
   "execution_count": 16,
   "id": "75a3f18f",
   "metadata": {},
   "outputs": [
    {
     "data": {
      "text/plain": [
       "0.3821809425524596"
      ]
     },
     "execution_count": 16,
     "metadata": {},
     "output_type": "execute_result"
    }
   ],
   "source": [
    "from sklearn.naive_bayes import BernoulliNB\n",
    "from sklearn import metrics\n",
    "bnb = BernoulliNB()\n",
    "bnb.fit(Ftrain, Ltrain)\n",
    "y_pred = bnb.predict(Ftest)\n",
    "metrics.accuracy_score(Ltest, y_pred)"
   ]
  },
  {
   "cell_type": "code",
   "execution_count": 17,
   "id": "694c01aa",
   "metadata": {},
   "outputs": [
    {
     "name": "stdout",
     "output_type": "stream",
     "text": [
      "                               precision    recall  f1-score   support\n",
      "\n",
      "               bacterial_spot       0.24      0.94      0.38       345\n",
      "                 early_blight       0.28      0.18      0.22       153\n",
      "                      healthy       0.28      0.16      0.20       234\n",
      "                  late_blight       0.97      0.12      0.21       309\n",
      "                    leaf_mold       0.33      0.09      0.14       145\n",
      "           septoria_leaf_spot       0.21      0.10      0.13       293\n",
      "                  target_spot       0.22      0.07      0.11       240\n",
      "          tomato_mosaic_virus       0.00      0.00      0.00        54\n",
      "tomato_yellow_leaf_curl_virus       0.80      0.62      0.70       854\n",
      "      two-spotted_spider_mite       0.28      0.33      0.30       280\n",
      "\n",
      "                     accuracy                           0.38      2907\n",
      "                    macro avg       0.36      0.26      0.24      2907\n",
      "                 weighted avg       0.49      0.38      0.36      2907\n",
      "\n",
      "[[326   0   4   0   1   3   5   0   0   6]\n",
      " [ 60  27   6   1   5  12   4   2  13  23]\n",
      " [145   4  38   0   5  10   6   0   3  23]\n",
      " [158  34   6  36   6  10   8   1  25  25]\n",
      " [ 92   5   7   0  13  10   4   1   6   7]\n",
      " [181  18  15   0   5  29  10   1  13  21]\n",
      " [159   2  15   0   1  16  18   0   7  22]\n",
      " [ 44   0   0   0   0   3   2   0   1   4]\n",
      " [136   4  23   0   3  38  13   0 533 104]\n",
      " [ 80   1  23   0   0   9  12   0  64  91]]\n"
     ]
    }
   ],
   "source": [
    "class_names = target.unique()\n",
    "print(classification_report(Ltest, y_pred, target_names=class_names))\n",
    "print(confusion_matrix(Ltest, y_pred))"
   ]
  },
  {
   "cell_type": "markdown",
   "id": "67dd930c",
   "metadata": {},
   "source": [
    "# Multinomial Naive bayes on RGB data"
   ]
  },
  {
   "cell_type": "code",
   "execution_count": 18,
   "id": "3b80acde",
   "metadata": {},
   "outputs": [
    {
     "data": {
      "text/plain": [
       "0.3821809425524596"
      ]
     },
     "execution_count": 18,
     "metadata": {},
     "output_type": "execute_result"
    }
   ],
   "source": [
    "from sklearn.naive_bayes import MultinomialNB\n",
    "mnb = BernoulliNB()\n",
    "mnb.fit(Ftrain, Ltrain)\n",
    "y_pred = mnb.predict(Ftest)\n",
    "metrics.accuracy_score(Ltest, y_pred)"
   ]
  },
  {
   "cell_type": "code",
   "execution_count": 19,
   "id": "d6ed705b",
   "metadata": {},
   "outputs": [
    {
     "name": "stdout",
     "output_type": "stream",
     "text": [
      "                               precision    recall  f1-score   support\n",
      "\n",
      "               bacterial_spot       0.24      0.94      0.38       345\n",
      "                 early_blight       0.28      0.18      0.22       153\n",
      "                      healthy       0.28      0.16      0.20       234\n",
      "                  late_blight       0.97      0.12      0.21       309\n",
      "                    leaf_mold       0.33      0.09      0.14       145\n",
      "           septoria_leaf_spot       0.21      0.10      0.13       293\n",
      "                  target_spot       0.22      0.07      0.11       240\n",
      "          tomato_mosaic_virus       0.00      0.00      0.00        54\n",
      "tomato_yellow_leaf_curl_virus       0.80      0.62      0.70       854\n",
      "      two-spotted_spider_mite       0.28      0.33      0.30       280\n",
      "\n",
      "                     accuracy                           0.38      2907\n",
      "                    macro avg       0.36      0.26      0.24      2907\n",
      "                 weighted avg       0.49      0.38      0.36      2907\n",
      "\n",
      "[[326   0   4   0   1   3   5   0   0   6]\n",
      " [ 60  27   6   1   5  12   4   2  13  23]\n",
      " [145   4  38   0   5  10   6   0   3  23]\n",
      " [158  34   6  36   6  10   8   1  25  25]\n",
      " [ 92   5   7   0  13  10   4   1   6   7]\n",
      " [181  18  15   0   5  29  10   1  13  21]\n",
      " [159   2  15   0   1  16  18   0   7  22]\n",
      " [ 44   0   0   0   0   3   2   0   1   4]\n",
      " [136   4  23   0   3  38  13   0 533 104]\n",
      " [ 80   1  23   0   0   9  12   0  64  91]]\n"
     ]
    }
   ],
   "source": [
    "class_names = target.unique()\n",
    "print(classification_report(Ltest, y_pred, target_names=class_names))\n",
    "print(confusion_matrix(Ltest, y_pred))"
   ]
  },
  {
   "cell_type": "markdown",
   "id": "0e8f617d",
   "metadata": {},
   "source": [
    "# Grayscale data"
   ]
  },
  {
   "cell_type": "code",
   "execution_count": 20,
   "id": "57a9845e",
   "metadata": {},
   "outputs": [],
   "source": [
    "#reading numpy array data\n",
    "gray_test = np.load('gray_test.npy')\n",
    "#reading csv file\n",
    "gray_df = pd.read_csv('gray_data.csv')"
   ]
  },
  {
   "cell_type": "code",
   "execution_count": 21,
   "id": "d3abef95",
   "metadata": {},
   "outputs": [],
   "source": [
    "#assigning features and target to split the data\n",
    "features = pd.DataFrame(gray_test)\n",
    "features = features.values\n",
    "target = gray_df['disease']"
   ]
  },
  {
   "cell_type": "code",
   "execution_count": 22,
   "id": "a86eb99c",
   "metadata": {},
   "outputs": [],
   "source": [
    "#splitting the data to train and test\n",
    "Ftrain,Ftest,Ltrain,Ltest=train_test_split(features,target, test_size=0.20, random_state=24)"
   ]
  },
  {
   "cell_type": "code",
   "execution_count": 23,
   "id": "01626fe0",
   "metadata": {},
   "outputs": [],
   "source": [
    "Ftrain = minmax.fit_transform(Ftrain)\n",
    "Ftest = minmax.fit_transform(Ftest)"
   ]
  },
  {
   "cell_type": "markdown",
   "id": "8bfc6d84",
   "metadata": {},
   "source": [
    "# SVM(poly) on grayscale data"
   ]
  },
  {
   "cell_type": "code",
   "execution_count": 24,
   "id": "c9665abf",
   "metadata": {},
   "outputs": [
    {
     "name": "stdout",
     "output_type": "stream",
     "text": [
      "0.5349157206742347\n"
     ]
    }
   ],
   "source": [
    "svm_poly.fit(Ftrain,Ltrain)\n",
    "y_pred = svm_poly.predict(Ftest)\n",
    "print(accuracy_score(Ltest,y_pred))"
   ]
  },
  {
   "cell_type": "code",
   "execution_count": 25,
   "id": "2456eda7",
   "metadata": {},
   "outputs": [
    {
     "name": "stdout",
     "output_type": "stream",
     "text": [
      "                               precision    recall  f1-score   support\n",
      "\n",
      "               bacterial_spot       0.45      0.79      0.57       345\n",
      "                 early_blight       0.26      0.26      0.26       153\n",
      "                      healthy       0.55      0.78      0.64       234\n",
      "                  late_blight       0.51      0.56      0.53       309\n",
      "                    leaf_mold       0.53      0.41      0.47       145\n",
      "           septoria_leaf_spot       0.42      0.40      0.41       293\n",
      "                  target_spot       0.39      0.54      0.45       240\n",
      "          tomato_mosaic_virus       0.28      0.19      0.22        54\n",
      "tomato_yellow_leaf_curl_virus       0.85      0.52      0.65       854\n",
      "      two-spotted_spider_mite       0.66      0.44      0.53       280\n",
      "\n",
      "                     accuracy                           0.53      2907\n",
      "                    macro avg       0.49      0.49      0.47      2907\n",
      "                 weighted avg       0.58      0.53      0.54      2907\n",
      "\n",
      "[[272   7  13  18   2  10   9   0  13   1]\n",
      " [ 34  40   4  16   7   5  29   1  10   7]\n",
      " [ 11   3 183   9   2   9   9   1   4   3]\n",
      " [ 30  28  16 172   7  31  15   0   9   1]\n",
      " [ 14   7   9  18  60  17   9   2   7   2]\n",
      " [ 41   9  30  35   7 118  25   5  13  10]\n",
      " [ 28  19  12   0   7  19 129   1   4  21]\n",
      " [  6   0   5   5   5  10   3  10   8   2]\n",
      " [149  25  51  55  13  45  45   8 447  16]\n",
      " [ 26  15  11   9   3  14  58   8  12 124]]\n"
     ]
    }
   ],
   "source": [
    "#classification report\n",
    "y_predict = svm_poly.fit(Ftrain, Ltrain).predict(Ftest)\n",
    "class_names = target.unique()\n",
    "print(classification_report(Ltest, y_predict, target_names=class_names))\n",
    "print(confusion_matrix(Ltest, y_predict))"
   ]
  },
  {
   "cell_type": "markdown",
   "id": "bd417df9",
   "metadata": {},
   "source": [
    "# SVM(RBF) on grayscale data"
   ]
  },
  {
   "cell_type": "code",
   "execution_count": 26,
   "id": "67772464",
   "metadata": {},
   "outputs": [
    {
     "name": "stdout",
     "output_type": "stream",
     "text": [
      "0.6917784657722739\n"
     ]
    }
   ],
   "source": [
    "svm_rbf.fit(Ftrain,Ltrain)\n",
    "y_pred = svm_rbf.predict(Ftest)\n",
    "print(accuracy_score(Ltest,y_pred))"
   ]
  },
  {
   "cell_type": "code",
   "execution_count": 27,
   "id": "34bbfd97",
   "metadata": {},
   "outputs": [
    {
     "name": "stdout",
     "output_type": "stream",
     "text": [
      "                               precision    recall  f1-score   support\n",
      "\n",
      "               bacterial_spot       0.79      0.74      0.76       345\n",
      "                 early_blight       0.44      0.23      0.30       153\n",
      "                      healthy       0.71      0.89      0.79       234\n",
      "                  late_blight       0.62      0.69      0.65       309\n",
      "                    leaf_mold       0.71      0.46      0.56       145\n",
      "           septoria_leaf_spot       0.60      0.61      0.61       293\n",
      "                  target_spot       0.61      0.66      0.64       240\n",
      "          tomato_mosaic_virus       0.60      0.06      0.10        54\n",
      "tomato_yellow_leaf_curl_virus       0.75      0.81      0.78       854\n",
      "      two-spotted_spider_mite       0.70      0.71      0.70       280\n",
      "\n",
      "                     accuracy                           0.69      2907\n",
      "                    macro avg       0.65      0.59      0.59      2907\n",
      "                 weighted avg       0.68      0.69      0.68      2907\n",
      "\n",
      "[[257   4  13  16   2   9   8   0  34   2]\n",
      " [ 18  35   2  24   2   8  25   0  31   8]\n",
      " [  1   1 208   4   0   5   3   0   9   3]\n",
      " [  2  14   7 213   7  16   8   1  33   8]\n",
      " [  2   2   9  15  67  16   8   0  23   3]\n",
      " [  7   3  14  33   9 178  15   0  29   5]\n",
      " [  4   3   9   3   2  17 158   0  21  23]\n",
      " [  1   0   2   2   4  13   3   3  21   5]\n",
      " [ 35   9  28  24   1  26  10   0 694  27]\n",
      " [  0   8   3   8   0   7  19   1  36 198]]\n"
     ]
    }
   ],
   "source": [
    "#classification report\n",
    "y_predict = svm_rbf.fit(Ftrain, Ltrain).predict(Ftest)\n",
    "class_names = target.unique()\n",
    "print(classification_report(Ltest, y_predict, target_names=class_names))\n",
    "print(confusion_matrix(Ltest, y_predict))"
   ]
  },
  {
   "cell_type": "markdown",
   "id": "c1ed23e8",
   "metadata": {},
   "source": [
    "# SVM(sigmoid) on Grayscale data"
   ]
  },
  {
   "cell_type": "code",
   "execution_count": 28,
   "id": "b79e8630",
   "metadata": {},
   "outputs": [
    {
     "name": "stdout",
     "output_type": "stream",
     "text": [
      "0.2284141726866185\n"
     ]
    }
   ],
   "source": [
    "svm_si.fit(Ftrain,Ltrain)\n",
    "y_pred = svm_si.predict(Ftest)\n",
    "print(accuracy_score(Ltest,y_pred))"
   ]
  },
  {
   "cell_type": "code",
   "execution_count": 29,
   "id": "c64cd0a6",
   "metadata": {},
   "outputs": [
    {
     "name": "stdout",
     "output_type": "stream",
     "text": [
      "                               precision    recall  f1-score   support\n",
      "\n",
      "               bacterial_spot       0.06      0.12      0.08       345\n",
      "                 early_blight       0.00      0.00      0.00       153\n",
      "                      healthy       0.00      0.00      0.00       234\n",
      "                  late_blight       0.00      0.00      0.00       309\n",
      "                    leaf_mold       0.00      0.00      0.00       145\n",
      "           septoria_leaf_spot       0.00      0.00      0.00       293\n",
      "                  target_spot       0.00      0.00      0.00       240\n",
      "          tomato_mosaic_virus       0.00      0.00      0.00        54\n",
      "tomato_yellow_leaf_curl_virus       0.29      0.73      0.42       854\n",
      "      two-spotted_spider_mite       0.00      0.00      0.00       280\n",
      "\n",
      "                     accuracy                           0.23      2907\n",
      "                    macro avg       0.03      0.09      0.05      2907\n",
      "                 weighted avg       0.09      0.23      0.13      2907\n",
      "\n",
      "[[ 42   0   0   0   0   0   0   0 303   0]\n",
      " [ 11   0   0   0   0   0   0   0 142   0]\n",
      " [ 78   0   0   0   0   0   0   0 156   0]\n",
      " [133   0   0   0   0  33   0   0 143   0]\n",
      " [ 28   0   0   0   0   0   0   0 117   0]\n",
      " [157   0   0   0   0   0   0   0 136   0]\n",
      " [ 20   0   0   0   0   1   0   0 219   0]\n",
      " [  6   0   0   0   0   0   0   0  48   0]\n",
      " [232   0   0   0   0   0   0   0 622   0]\n",
      " [ 32   0   0   0   0   0   0   0 248   0]]\n"
     ]
    },
    {
     "name": "stderr",
     "output_type": "stream",
     "text": [
      "C:\\Users\\ravic\\anaconda3\\lib\\site-packages\\sklearn\\metrics\\_classification.py:1248: UndefinedMetricWarning: Precision and F-score are ill-defined and being set to 0.0 in labels with no predicted samples. Use `zero_division` parameter to control this behavior.\n",
      "  _warn_prf(average, modifier, msg_start, len(result))\n",
      "C:\\Users\\ravic\\anaconda3\\lib\\site-packages\\sklearn\\metrics\\_classification.py:1248: UndefinedMetricWarning: Precision and F-score are ill-defined and being set to 0.0 in labels with no predicted samples. Use `zero_division` parameter to control this behavior.\n",
      "  _warn_prf(average, modifier, msg_start, len(result))\n",
      "C:\\Users\\ravic\\anaconda3\\lib\\site-packages\\sklearn\\metrics\\_classification.py:1248: UndefinedMetricWarning: Precision and F-score are ill-defined and being set to 0.0 in labels with no predicted samples. Use `zero_division` parameter to control this behavior.\n",
      "  _warn_prf(average, modifier, msg_start, len(result))\n"
     ]
    }
   ],
   "source": [
    "#classification report\n",
    "y_predict = svm_si.fit(Ftrain, Ltrain).predict(Ftest)\n",
    "class_names = target.unique()\n",
    "print(classification_report(Ltest, y_predict, target_names=class_names))\n",
    "print(confusion_matrix(Ltest, y_predict))"
   ]
  },
  {
   "cell_type": "markdown",
   "id": "8ba631c4",
   "metadata": {},
   "source": [
    "# Bernouli Naive bayes on grayscale data"
   ]
  },
  {
   "cell_type": "code",
   "execution_count": 30,
   "id": "f9c1d1df",
   "metadata": {},
   "outputs": [
    {
     "data": {
      "text/plain": [
       "0.30546955624355004"
      ]
     },
     "execution_count": 30,
     "metadata": {},
     "output_type": "execute_result"
    }
   ],
   "source": [
    "bnb.fit(Ftrain, Ltrain)\n",
    "y_pred = bnb.predict(Ftest)\n",
    "metrics.accuracy_score(Ltest, y_pred)"
   ]
  },
  {
   "cell_type": "code",
   "execution_count": 31,
   "id": "5349d0e6",
   "metadata": {},
   "outputs": [
    {
     "name": "stdout",
     "output_type": "stream",
     "text": [
      "                               precision    recall  f1-score   support\n",
      "\n",
      "               bacterial_spot       0.00      0.00      0.00       345\n",
      "                 early_blight       0.00      0.00      0.00       153\n",
      "                      healthy       0.60      0.01      0.03       234\n",
      "                  late_blight       1.00      0.09      0.17       309\n",
      "                    leaf_mold       0.25      0.01      0.03       145\n",
      "           septoria_leaf_spot       0.00      0.00      0.00       293\n",
      "                  target_spot       0.20      0.00      0.01       240\n",
      "          tomato_mosaic_virus       0.00      0.00      0.00        54\n",
      "tomato_yellow_leaf_curl_virus       0.30      1.00      0.46       854\n",
      "      two-spotted_spider_mite       0.29      0.01      0.01       280\n",
      "\n",
      "                     accuracy                           0.31      2907\n",
      "                    macro avg       0.26      0.11      0.07      2907\n",
      "                 weighted avg       0.30      0.31      0.16      2907\n",
      "\n",
      "[[  0   0   0   0   0   0   0   0 345   0]\n",
      " [  2   0   0   0   1   1   0   1 148   0]\n",
      " [  2   0   3   0   2   1   0   0 226   0]\n",
      " [  1   0   1  29   2   2   3   5 265   1]\n",
      " [  2   0   1   0   2   1   0   0 139   0]\n",
      " [  4   1   0   0   1   0   1   0 285   1]\n",
      " [  1   0   0   0   0   1   1   0 237   0]\n",
      " [  2   0   0   0   0   0   0   0  51   1]\n",
      " [  1   0   0   0   0   0   0   0 851   2]\n",
      " [  3   0   0   0   0   1   0   0 274   2]]\n"
     ]
    }
   ],
   "source": [
    "class_names = target.unique()\n",
    "print(classification_report(Ltest, y_pred, target_names=class_names))\n",
    "print(confusion_matrix(Ltest, y_pred))"
   ]
  },
  {
   "cell_type": "markdown",
   "id": "20b31faf",
   "metadata": {},
   "source": [
    "# Multinomial Naive bayes on Grayscale data"
   ]
  },
  {
   "cell_type": "code",
   "execution_count": 32,
   "id": "5bf3d424",
   "metadata": {},
   "outputs": [
    {
     "data": {
      "text/plain": [
       "0.30546955624355004"
      ]
     },
     "execution_count": 32,
     "metadata": {},
     "output_type": "execute_result"
    }
   ],
   "source": [
    "mnb.fit(Ftrain, Ltrain)\n",
    "y_pred = mnb.predict(Ftest)\n",
    "metrics.accuracy_score(Ltest, y_pred)"
   ]
  },
  {
   "cell_type": "code",
   "execution_count": 33,
   "id": "6ed85664",
   "metadata": {},
   "outputs": [
    {
     "name": "stdout",
     "output_type": "stream",
     "text": [
      "                               precision    recall  f1-score   support\n",
      "\n",
      "               bacterial_spot       0.00      0.00      0.00       345\n",
      "                 early_blight       0.00      0.00      0.00       153\n",
      "                      healthy       0.60      0.01      0.03       234\n",
      "                  late_blight       1.00      0.09      0.17       309\n",
      "                    leaf_mold       0.25      0.01      0.03       145\n",
      "           septoria_leaf_spot       0.00      0.00      0.00       293\n",
      "                  target_spot       0.20      0.00      0.01       240\n",
      "          tomato_mosaic_virus       0.00      0.00      0.00        54\n",
      "tomato_yellow_leaf_curl_virus       0.30      1.00      0.46       854\n",
      "      two-spotted_spider_mite       0.29      0.01      0.01       280\n",
      "\n",
      "                     accuracy                           0.31      2907\n",
      "                    macro avg       0.26      0.11      0.07      2907\n",
      "                 weighted avg       0.30      0.31      0.16      2907\n",
      "\n",
      "[[  0   0   0   0   0   0   0   0 345   0]\n",
      " [  2   0   0   0   1   1   0   1 148   0]\n",
      " [  2   0   3   0   2   1   0   0 226   0]\n",
      " [  1   0   1  29   2   2   3   5 265   1]\n",
      " [  2   0   1   0   2   1   0   0 139   0]\n",
      " [  4   1   0   0   1   0   1   0 285   1]\n",
      " [  1   0   0   0   0   1   1   0 237   0]\n",
      " [  2   0   0   0   0   0   0   0  51   1]\n",
      " [  1   0   0   0   0   0   0   0 851   2]\n",
      " [  3   0   0   0   0   1   0   0 274   2]]\n"
     ]
    }
   ],
   "source": [
    "class_names = target.unique()\n",
    "print(classification_report(Ltest, y_pred, target_names=class_names))\n",
    "print(confusion_matrix(Ltest, y_pred))"
   ]
  },
  {
   "cell_type": "markdown",
   "id": "6f5719a1",
   "metadata": {},
   "source": [
    "# Red Channel data"
   ]
  },
  {
   "cell_type": "code",
   "execution_count": 34,
   "id": "5f8b0e11",
   "metadata": {},
   "outputs": [],
   "source": [
    "#reading numpy array data\n",
    "red_test = np.load('red_data.npy')\n",
    "#reading csv file\n",
    "red_df = pd.read_csv('red_data.csv')\n",
    "#assigning features and target to split the data\n",
    "features = pd.DataFrame(red_test)\n",
    "features = features.values\n",
    "target = red_df['disease']\n",
    "#splitting the data to train and test\n",
    "Ftrain,Ftest,Ltrain,Ltest=train_test_split(features,target, test_size=0.20, random_state=24)"
   ]
  },
  {
   "cell_type": "code",
   "execution_count": 35,
   "id": "04272862",
   "metadata": {},
   "outputs": [],
   "source": [
    "Ftrain = minmax.fit_transform(Ftrain)\n",
    "Ftest = minmax.fit_transform(Ftest)"
   ]
  },
  {
   "cell_type": "markdown",
   "id": "c81dd4d2",
   "metadata": {},
   "source": [
    "# SVM(poly) on Red data"
   ]
  },
  {
   "cell_type": "code",
   "execution_count": 36,
   "id": "a9cb2e28",
   "metadata": {},
   "outputs": [
    {
     "name": "stdout",
     "output_type": "stream",
     "text": [
      "0.5627794977640179\n"
     ]
    }
   ],
   "source": [
    "svm_poly.fit(Ftrain,Ltrain)\n",
    "y_pred = svm_poly.predict(Ftest)\n",
    "print(accuracy_score(Ltest,y_pred))"
   ]
  },
  {
   "cell_type": "code",
   "execution_count": 37,
   "id": "35b2ceaf",
   "metadata": {},
   "outputs": [
    {
     "name": "stdout",
     "output_type": "stream",
     "text": [
      "                               precision    recall  f1-score   support\n",
      "\n",
      "               bacterial_spot       0.50      0.80      0.62       345\n",
      "                 early_blight       0.22      0.25      0.23       153\n",
      "                      healthy       0.60      0.77      0.68       234\n",
      "                  late_blight       0.49      0.52      0.50       309\n",
      "                    leaf_mold       0.49      0.41      0.45       145\n",
      "           septoria_leaf_spot       0.41      0.43      0.42       293\n",
      "                  target_spot       0.49      0.58      0.53       240\n",
      "          tomato_mosaic_virus       0.35      0.43      0.39        54\n",
      "tomato_yellow_leaf_curl_virus       0.84      0.57      0.68       854\n",
      "      two-spotted_spider_mite       0.74      0.52      0.61       280\n",
      "\n",
      "                     accuracy                           0.56      2907\n",
      "                    macro avg       0.51      0.53      0.51      2907\n",
      "                 weighted avg       0.60      0.56      0.57      2907\n",
      "\n",
      "[[276  14   6  13   2  12   4   0  18   0]\n",
      " [ 33  38   4  16   3  15  23   2  15   4]\n",
      " [ 14   3 181   9   3  13   5   2   2   2]\n",
      " [ 30  29  14 160   8  40  13   3   8   4]\n",
      " [ 12   6   9  24  60  14   4   2  14   0]\n",
      " [ 33  14  26  38  10 127  22   8   8   7]\n",
      " [ 25  21   7   3   5  22 140   1   4  12]\n",
      " [  1   2   0   3   2   7   5  23  10   1]\n",
      " [108  31  40  55  26  38  33  16 485  22]\n",
      " [ 16  17  14   4   4  19  39   8  13 146]]\n"
     ]
    }
   ],
   "source": [
    "#classification report\n",
    "y_predict = svm_poly.fit(Ftrain, Ltrain).predict(Ftest)\n",
    "class_names = target.unique()\n",
    "print(classification_report(Ltest, y_predict, target_names=class_names))\n",
    "print(confusion_matrix(Ltest, y_predict))"
   ]
  },
  {
   "cell_type": "markdown",
   "id": "bcdfb873",
   "metadata": {},
   "source": [
    "# SVM(RBF) on Red data"
   ]
  },
  {
   "cell_type": "code",
   "execution_count": 38,
   "id": "5e806290",
   "metadata": {},
   "outputs": [
    {
     "name": "stdout",
     "output_type": "stream",
     "text": [
      "0.7010663914688683\n"
     ]
    }
   ],
   "source": [
    "svm_rbf.fit(Ftrain,Ltrain)\n",
    "y_pred = svm_rbf.predict(Ftest)\n",
    "print(accuracy_score(Ltest,y_pred))"
   ]
  },
  {
   "cell_type": "code",
   "execution_count": 39,
   "id": "e613add4",
   "metadata": {},
   "outputs": [
    {
     "name": "stdout",
     "output_type": "stream",
     "text": [
      "                               precision    recall  f1-score   support\n",
      "\n",
      "               bacterial_spot       0.78      0.76      0.77       345\n",
      "                 early_blight       0.42      0.21      0.28       153\n",
      "                      healthy       0.70      0.88      0.78       234\n",
      "                  late_blight       0.62      0.69      0.65       309\n",
      "                    leaf_mold       0.70      0.48      0.57       145\n",
      "           septoria_leaf_spot       0.60      0.54      0.57       293\n",
      "                  target_spot       0.65      0.71      0.68       240\n",
      "          tomato_mosaic_virus       0.67      0.11      0.19        54\n",
      "tomato_yellow_leaf_curl_virus       0.75      0.83      0.79       854\n",
      "      two-spotted_spider_mite       0.76      0.75      0.76       280\n",
      "\n",
      "                     accuracy                           0.70      2907\n",
      "                    macro avg       0.67      0.60      0.60      2907\n",
      "                 weighted avg       0.69      0.70      0.69      2907\n",
      "\n",
      "[[262   5  11  17   1   7   4   0  38   0]\n",
      " [ 25  32   3  25   1   8  18   0  33   8]\n",
      " [  1   1 205   5   2   6   2   0  11   1]\n",
      " [  4  12   9 212   6  19  13   2  28   4]\n",
      " [  3   3   7  18  69  13   4   0  27   1]\n",
      " [  7   6  18  34   8 159  22   0  30   9]\n",
      " [  5   5   4   3   1  15 171   0  15  21]\n",
      " [  0   0   1   2   3  10   3   6  28   1]\n",
      " [ 26   8  31  18   7  22   8   1 711  22]\n",
      " [  1   5   2   6   0   8  18   0  29 211]]\n"
     ]
    }
   ],
   "source": [
    "#classification report\n",
    "y_predict = svm_rbf.fit(Ftrain, Ltrain).predict(Ftest)\n",
    "class_names = target.unique()\n",
    "print(classification_report(Ltest, y_predict, target_names=class_names))\n",
    "print(confusion_matrix(Ltest, y_predict))"
   ]
  },
  {
   "cell_type": "markdown",
   "id": "558a44ca",
   "metadata": {},
   "source": [
    "# SVM(sigmoid) on Red data"
   ]
  },
  {
   "cell_type": "code",
   "execution_count": 40,
   "id": "dfde7ca8",
   "metadata": {},
   "outputs": [
    {
     "name": "stdout",
     "output_type": "stream",
     "text": [
      "0.2934296525627795\n"
     ]
    }
   ],
   "source": [
    "svm_si.fit(Ftrain,Ltrain)\n",
    "y_pred = svm_si.predict(Ftest)\n",
    "print(accuracy_score(Ltest,y_pred))"
   ]
  },
  {
   "cell_type": "code",
   "execution_count": 41,
   "id": "b58142f8",
   "metadata": {},
   "outputs": [
    {
     "name": "stdout",
     "output_type": "stream",
     "text": [
      "                               precision    recall  f1-score   support\n",
      "\n",
      "               bacterial_spot       0.00      0.00      0.00       345\n",
      "                 early_blight       0.00      0.00      0.00       153\n",
      "                      healthy       0.00      0.00      0.00       234\n",
      "                  late_blight       0.00      0.00      0.00       309\n",
      "                    leaf_mold       0.00      0.00      0.00       145\n",
      "           septoria_leaf_spot       0.00      0.00      0.00       293\n",
      "                  target_spot       0.00      0.00      0.00       240\n",
      "          tomato_mosaic_virus       0.00      0.00      0.00        54\n",
      "tomato_yellow_leaf_curl_virus       0.30      1.00      0.46       854\n",
      "      two-spotted_spider_mite       0.00      0.00      0.00       280\n",
      "\n",
      "                     accuracy                           0.29      2907\n",
      "                    macro avg       0.03      0.10      0.05      2907\n",
      "                 weighted avg       0.09      0.29      0.13      2907\n",
      "\n",
      "[[  0   0   0   0   0   0   0   0 345   0]\n",
      " [  0   0   0   0   0   0   0   0 153   0]\n",
      " [  1   0   0   0   0   0   0   0 233   0]\n",
      " [  0   0   0   0   0  33   0   0 276   0]\n",
      " [  0   0   0   0   0   1   0   0 144   0]\n",
      " [  0   0   0   0   0   0   0   0 293   0]\n",
      " [  0   0   0   0   0   1   0   0 239   0]\n",
      " [  0   0   0   0   0   0   0   0  54   0]\n",
      " [  1   0   0   0   0   0   0   0 853   0]\n",
      " [  0   0   0   0   0   0   0   0 280   0]]\n"
     ]
    },
    {
     "name": "stderr",
     "output_type": "stream",
     "text": [
      "C:\\Users\\ravic\\anaconda3\\lib\\site-packages\\sklearn\\metrics\\_classification.py:1248: UndefinedMetricWarning: Precision and F-score are ill-defined and being set to 0.0 in labels with no predicted samples. Use `zero_division` parameter to control this behavior.\n",
      "  _warn_prf(average, modifier, msg_start, len(result))\n",
      "C:\\Users\\ravic\\anaconda3\\lib\\site-packages\\sklearn\\metrics\\_classification.py:1248: UndefinedMetricWarning: Precision and F-score are ill-defined and being set to 0.0 in labels with no predicted samples. Use `zero_division` parameter to control this behavior.\n",
      "  _warn_prf(average, modifier, msg_start, len(result))\n",
      "C:\\Users\\ravic\\anaconda3\\lib\\site-packages\\sklearn\\metrics\\_classification.py:1248: UndefinedMetricWarning: Precision and F-score are ill-defined and being set to 0.0 in labels with no predicted samples. Use `zero_division` parameter to control this behavior.\n",
      "  _warn_prf(average, modifier, msg_start, len(result))\n"
     ]
    }
   ],
   "source": [
    "#classification report\n",
    "y_predict = svm_si.fit(Ftrain, Ltrain).predict(Ftest)\n",
    "class_names = target.unique()\n",
    "print(classification_report(Ltest, y_predict, target_names=class_names))\n",
    "print(confusion_matrix(Ltest, y_predict))"
   ]
  },
  {
   "cell_type": "markdown",
   "id": "5a175c93",
   "metadata": {},
   "source": [
    "# Bernouli Naive bayes on Red data"
   ]
  },
  {
   "cell_type": "code",
   "execution_count": 42,
   "id": "d65fa897",
   "metadata": {},
   "outputs": [
    {
     "data": {
      "text/plain": [
       "0.3065015479876161"
      ]
     },
     "execution_count": 42,
     "metadata": {},
     "output_type": "execute_result"
    }
   ],
   "source": [
    "bnb.fit(Ftrain, Ltrain)\n",
    "y_pred = bnb.predict(Ftest)\n",
    "metrics.accuracy_score(Ltest, y_pred)"
   ]
  },
  {
   "cell_type": "code",
   "execution_count": 43,
   "id": "bdadbf8a",
   "metadata": {},
   "outputs": [
    {
     "name": "stdout",
     "output_type": "stream",
     "text": [
      "                               precision    recall  f1-score   support\n",
      "\n",
      "               bacterial_spot       0.00      0.00      0.00       345\n",
      "                 early_blight       0.08      0.01      0.02       153\n",
      "                      healthy       0.29      0.04      0.07       234\n",
      "                  late_blight       0.87      0.11      0.20       309\n",
      "                    leaf_mold       0.14      0.03      0.05       145\n",
      "           septoria_leaf_spot       0.28      0.05      0.09       293\n",
      "                  target_spot       0.17      0.02      0.04       240\n",
      "          tomato_mosaic_virus       0.00      0.00      0.00        54\n",
      "tomato_yellow_leaf_curl_virus       0.31      0.96      0.47       854\n",
      "      two-spotted_spider_mite       0.17      0.01      0.03       280\n",
      "\n",
      "                     accuracy                           0.31      2907\n",
      "                    macro avg       0.23      0.12      0.10      2907\n",
      "                 weighted avg       0.28      0.31      0.18      2907\n",
      "\n",
      "[[  0   0   0   0   0   0   0   0 345   0]\n",
      " [  3   2   6   2   5   7   5   8 114   1]\n",
      " [  4   2  10   0   3   5   1   3 204   2]\n",
      " [  8   6   3  34   4   9   5   6 233   1]\n",
      " [  4   2   5   0   4   4   2   3 120   1]\n",
      " [ 10   6   3   3   2  15   5   6 241   2]\n",
      " [  3   0   4   0   4   8   5   1 212   3]\n",
      " [  1   1   0   0   1   0   0   0  50   1]\n",
      " [  0   5   3   0   4   5   3   9 817   8]\n",
      " [  0   0   0   0   2   1   3   2 268   4]]\n"
     ]
    }
   ],
   "source": [
    "class_names = target.unique()\n",
    "print(classification_report(Ltest, y_pred, target_names=class_names))\n",
    "print(confusion_matrix(Ltest, y_pred))"
   ]
  },
  {
   "cell_type": "markdown",
   "id": "39255a27",
   "metadata": {},
   "source": [
    "# Multinomial Naive bayes on Red data"
   ]
  },
  {
   "cell_type": "code",
   "execution_count": 44,
   "id": "437843bc",
   "metadata": {},
   "outputs": [
    {
     "data": {
      "text/plain": [
       "0.3065015479876161"
      ]
     },
     "execution_count": 44,
     "metadata": {},
     "output_type": "execute_result"
    }
   ],
   "source": [
    "mnb.fit(Ftrain, Ltrain)\n",
    "y_pred = mnb.predict(Ftest)\n",
    "metrics.accuracy_score(Ltest, y_pred)"
   ]
  },
  {
   "cell_type": "code",
   "execution_count": 45,
   "id": "2bcb0431",
   "metadata": {},
   "outputs": [
    {
     "name": "stdout",
     "output_type": "stream",
     "text": [
      "                               precision    recall  f1-score   support\n",
      "\n",
      "               bacterial_spot       0.00      0.00      0.00       345\n",
      "                 early_blight       0.08      0.01      0.02       153\n",
      "                      healthy       0.29      0.04      0.07       234\n",
      "                  late_blight       0.87      0.11      0.20       309\n",
      "                    leaf_mold       0.14      0.03      0.05       145\n",
      "           septoria_leaf_spot       0.28      0.05      0.09       293\n",
      "                  target_spot       0.17      0.02      0.04       240\n",
      "          tomato_mosaic_virus       0.00      0.00      0.00        54\n",
      "tomato_yellow_leaf_curl_virus       0.31      0.96      0.47       854\n",
      "      two-spotted_spider_mite       0.17      0.01      0.03       280\n",
      "\n",
      "                     accuracy                           0.31      2907\n",
      "                    macro avg       0.23      0.12      0.10      2907\n",
      "                 weighted avg       0.28      0.31      0.18      2907\n",
      "\n",
      "[[  0   0   0   0   0   0   0   0 345   0]\n",
      " [  3   2   6   2   5   7   5   8 114   1]\n",
      " [  4   2  10   0   3   5   1   3 204   2]\n",
      " [  8   6   3  34   4   9   5   6 233   1]\n",
      " [  4   2   5   0   4   4   2   3 120   1]\n",
      " [ 10   6   3   3   2  15   5   6 241   2]\n",
      " [  3   0   4   0   4   8   5   1 212   3]\n",
      " [  1   1   0   0   1   0   0   0  50   1]\n",
      " [  0   5   3   0   4   5   3   9 817   8]\n",
      " [  0   0   0   0   2   1   3   2 268   4]]\n"
     ]
    }
   ],
   "source": [
    "class_names = target.unique()\n",
    "print(classification_report(Ltest, y_pred, target_names=class_names))\n",
    "print(confusion_matrix(Ltest, y_pred))"
   ]
  },
  {
   "cell_type": "markdown",
   "id": "11e4cd00",
   "metadata": {},
   "source": [
    "# Green channel data"
   ]
  },
  {
   "cell_type": "code",
   "execution_count": 46,
   "id": "40feb467",
   "metadata": {},
   "outputs": [],
   "source": [
    "#reading numpy array data\n",
    "green_test = np.load('green_data.npy')\n",
    "#reading csv file\n",
    "green_df = pd.read_csv('green_data.csv')\n",
    "#assigning features and target to split the data\n",
    "features = pd.DataFrame(green_test)\n",
    "features = features.values\n",
    "target = green_df['disease']\n",
    "#splitting the data to train and test\n",
    "Ftrain,Ftest,Ltrain,Ltest=train_test_split(features,target, test_size=0.20, random_state=24)"
   ]
  },
  {
   "cell_type": "code",
   "execution_count": 47,
   "id": "a2171acd",
   "metadata": {},
   "outputs": [],
   "source": [
    "Ftrain = minmax.fit_transform(Ftrain)\n",
    "Ftest = minmax.fit_transform(Ftest)"
   ]
  },
  {
   "cell_type": "markdown",
   "id": "9aa0bc22",
   "metadata": {},
   "source": [
    "# SVM(poly) on green data"
   ]
  },
  {
   "cell_type": "code",
   "execution_count": 48,
   "id": "fe39c65e",
   "metadata": {},
   "outputs": [
    {
     "name": "stdout",
     "output_type": "stream",
     "text": [
      "0.5700034399724803\n"
     ]
    }
   ],
   "source": [
    "svm_poly.fit(Ftrain,Ltrain)\n",
    "y_pred = svm_poly.predict(Ftest)\n",
    "print(accuracy_score(Ltest,y_pred))"
   ]
  },
  {
   "cell_type": "code",
   "execution_count": 49,
   "id": "8423b846",
   "metadata": {},
   "outputs": [
    {
     "name": "stdout",
     "output_type": "stream",
     "text": [
      "                               precision    recall  f1-score   support\n",
      "\n",
      "               bacterial_spot       0.49      0.77      0.60       345\n",
      "                 early_blight       0.25      0.29      0.27       153\n",
      "                      healthy       0.64      0.69      0.67       234\n",
      "                  late_blight       0.52      0.60      0.56       309\n",
      "                    leaf_mold       0.48      0.49      0.49       145\n",
      "           septoria_leaf_spot       0.49      0.40      0.44       293\n",
      "                  target_spot       0.43      0.53      0.48       240\n",
      "          tomato_mosaic_virus       0.31      0.17      0.22        54\n",
      "tomato_yellow_leaf_curl_virus       0.81      0.64      0.71       854\n",
      "      two-spotted_spider_mite       0.66      0.47      0.55       280\n",
      "\n",
      "                     accuracy                           0.57      2907\n",
      "                    macro avg       0.51      0.50      0.50      2907\n",
      "                 weighted avg       0.59      0.57      0.57      2907\n",
      "\n",
      "[[266   8   8  22   6   8   6   0  16   5]\n",
      " [ 33  44   1  19   6   4  22   0  18   6]\n",
      " [ 15   5 161  13   4   9  18   1   5   3]\n",
      " [ 19  26   7 185  10  20  12   0  21   9]\n",
      " [ 11   4   5  15  71  15   9   2  10   3]\n",
      " [ 45  11  16  36  12 118  25   5  18   7]\n",
      " [ 27  28  10   0   5  10 127   3   9  21]\n",
      " [  4   1   3   7   7  11   3   9   7   2]\n",
      " [ 98  37  29  49  20  33  25   6 543  14]\n",
      " [ 25  15  10   8   6  11  45   3  24 133]]\n"
     ]
    }
   ],
   "source": [
    "#classification report\n",
    "y_predict = svm_poly.fit(Ftrain, Ltrain).predict(Ftest)\n",
    "class_names = target.unique()\n",
    "print(classification_report(Ltest, y_predict, target_names=class_names))\n",
    "print(confusion_matrix(Ltest, y_predict))"
   ]
  },
  {
   "cell_type": "markdown",
   "id": "6112d4e4",
   "metadata": {},
   "source": [
    "# SVM(RBF) on green data"
   ]
  },
  {
   "cell_type": "code",
   "execution_count": 50,
   "id": "69be936f",
   "metadata": {},
   "outputs": [
    {
     "name": "stdout",
     "output_type": "stream",
     "text": [
      "0.6990024079807362\n"
     ]
    }
   ],
   "source": [
    "svm_rbf.fit(Ftrain,Ltrain)\n",
    "y_pred = svm_rbf.predict(Ftest)\n",
    "print(accuracy_score(Ltest,y_pred))"
   ]
  },
  {
   "cell_type": "code",
   "execution_count": 51,
   "id": "81b4c571",
   "metadata": {},
   "outputs": [
    {
     "name": "stdout",
     "output_type": "stream",
     "text": [
      "                               precision    recall  f1-score   support\n",
      "\n",
      "               bacterial_spot       0.79      0.73      0.76       345\n",
      "                 early_blight       0.53      0.29      0.37       153\n",
      "                      healthy       0.77      0.84      0.80       234\n",
      "                  late_blight       0.64      0.68      0.66       309\n",
      "                    leaf_mold       0.71      0.44      0.54       145\n",
      "           septoria_leaf_spot       0.61      0.60      0.61       293\n",
      "                  target_spot       0.60      0.64      0.62       240\n",
      "          tomato_mosaic_virus       0.59      0.19      0.28        54\n",
      "tomato_yellow_leaf_curl_virus       0.73      0.86      0.79       854\n",
      "      two-spotted_spider_mite       0.71      0.66      0.69       280\n",
      "\n",
      "                     accuracy                           0.70      2907\n",
      "                    macro avg       0.67      0.59      0.61      2907\n",
      "                 weighted avg       0.69      0.70      0.69      2907\n",
      "\n",
      "[[252   3  10  15   2   6   7   0  48   2]\n",
      " [ 17  44   2  25   2   5  18   0  32   8]\n",
      " [  3   1 197   4   1   5   6   0  15   2]\n",
      " [  0  15   3 210   7  21   8   3  32  10]\n",
      " [  4   1   8  14  64  18   8   1  22   5]\n",
      " [  4   2  11  32   5 177  12   0  46   4]\n",
      " [  8   3   7   5   1  14 154   1  20  27]\n",
      " [  2   0   5   1   5  13   3  10  13   2]\n",
      " [ 25   5  12  18   3  23  13   1 738  16]\n",
      " [  3   9   2   6   0   7  26   1  40 186]]\n"
     ]
    }
   ],
   "source": [
    "#classification report\n",
    "y_predict = svm_rbf.fit(Ftrain, Ltrain).predict(Ftest)\n",
    "class_names = target.unique()\n",
    "print(classification_report(Ltest, y_predict, target_names=class_names))\n",
    "print(confusion_matrix(Ltest, y_predict))"
   ]
  },
  {
   "cell_type": "markdown",
   "id": "662d1937",
   "metadata": {},
   "source": [
    "# SVM(sigmoid) on green data"
   ]
  },
  {
   "cell_type": "code",
   "execution_count": 52,
   "id": "7f6adcca",
   "metadata": {},
   "outputs": [
    {
     "name": "stdout",
     "output_type": "stream",
     "text": [
      "0.2672858617131063\n"
     ]
    }
   ],
   "source": [
    "svm_si.fit(Ftrain,Ltrain)\n",
    "y_pred = svm_si.predict(Ftest)\n",
    "print(accuracy_score(Ltest,y_pred))"
   ]
  },
  {
   "cell_type": "code",
   "execution_count": 53,
   "id": "251d68f3",
   "metadata": {},
   "outputs": [
    {
     "name": "stdout",
     "output_type": "stream",
     "text": [
      "                               precision    recall  f1-score   support\n",
      "\n",
      "               bacterial_spot       0.07      0.03      0.04       345\n",
      "                 early_blight       0.00      0.00      0.00       153\n",
      "                      healthy       0.00      0.00      0.00       234\n",
      "                  late_blight       0.00      0.00      0.00       309\n",
      "                    leaf_mold       0.00      0.00      0.00       145\n",
      "           septoria_leaf_spot       0.00      0.00      0.00       293\n",
      "                  target_spot       0.00      0.00      0.00       240\n",
      "          tomato_mosaic_virus       0.00      0.00      0.00        54\n",
      "tomato_yellow_leaf_curl_virus       0.28      0.90      0.43       854\n",
      "      two-spotted_spider_mite       0.00      0.00      0.00       280\n",
      "\n",
      "                     accuracy                           0.27      2907\n",
      "                    macro avg       0.04      0.09      0.05      2907\n",
      "                 weighted avg       0.09      0.27      0.13      2907\n",
      "\n",
      "[[ 11   0   0   0   0   0   0   0 334   0]\n",
      " [  2   0   0   0   0   0   0   0 151   0]\n",
      " [  2   0   0   0   0   0   0   0 232   0]\n",
      " [ 14   0   0   0   0  29   0   0 266   0]\n",
      " [  0   0   0   0   0   0   0   0 145   0]\n",
      " [ 30   0   0   0   0   0   0   0 263   0]\n",
      " [  0   0   0   0   0   0   0   0 240   0]\n",
      " [  0   0   0   0   0   0   0   0  54   0]\n",
      " [ 88   0   0   0   0   0   0   0 766   0]\n",
      " [  0   0   0   0   0   0   0   0 280   0]]\n"
     ]
    },
    {
     "name": "stderr",
     "output_type": "stream",
     "text": [
      "C:\\Users\\ravic\\anaconda3\\lib\\site-packages\\sklearn\\metrics\\_classification.py:1248: UndefinedMetricWarning: Precision and F-score are ill-defined and being set to 0.0 in labels with no predicted samples. Use `zero_division` parameter to control this behavior.\n",
      "  _warn_prf(average, modifier, msg_start, len(result))\n",
      "C:\\Users\\ravic\\anaconda3\\lib\\site-packages\\sklearn\\metrics\\_classification.py:1248: UndefinedMetricWarning: Precision and F-score are ill-defined and being set to 0.0 in labels with no predicted samples. Use `zero_division` parameter to control this behavior.\n",
      "  _warn_prf(average, modifier, msg_start, len(result))\n",
      "C:\\Users\\ravic\\anaconda3\\lib\\site-packages\\sklearn\\metrics\\_classification.py:1248: UndefinedMetricWarning: Precision and F-score are ill-defined and being set to 0.0 in labels with no predicted samples. Use `zero_division` parameter to control this behavior.\n",
      "  _warn_prf(average, modifier, msg_start, len(result))\n"
     ]
    }
   ],
   "source": [
    "#classification report\n",
    "y_predict = svm_si.fit(Ftrain, Ltrain).predict(Ftest)\n",
    "class_names = target.unique()\n",
    "print(classification_report(Ltest, y_predict, target_names=class_names))\n",
    "print(confusion_matrix(Ltest, y_predict))"
   ]
  },
  {
   "cell_type": "markdown",
   "id": "8aa412dd",
   "metadata": {},
   "source": [
    "# Bernouli Naive bayes on green data"
   ]
  },
  {
   "cell_type": "code",
   "execution_count": 54,
   "id": "b6622b8d",
   "metadata": {},
   "outputs": [
    {
     "data": {
      "text/plain": [
       "0.31234950120399035"
      ]
     },
     "execution_count": 54,
     "metadata": {},
     "output_type": "execute_result"
    }
   ],
   "source": [
    "bnb.fit(Ftrain, Ltrain)\n",
    "y_pred = bnb.predict(Ftest)\n",
    "metrics.accuracy_score(Ltest, y_pred)"
   ]
  },
  {
   "cell_type": "code",
   "execution_count": 55,
   "id": "f3c6b16f",
   "metadata": {},
   "outputs": [
    {
     "name": "stdout",
     "output_type": "stream",
     "text": [
      "                               precision    recall  f1-score   support\n",
      "\n",
      "               bacterial_spot       0.00      0.00      0.00       345\n",
      "                 early_blight       0.28      0.06      0.10       153\n",
      "                      healthy       0.35      0.03      0.06       234\n",
      "                  late_blight       0.97      0.11      0.20       309\n",
      "                    leaf_mold       0.15      0.03      0.05       145\n",
      "           septoria_leaf_spot       0.11      0.01      0.02       293\n",
      "                  target_spot       0.00      0.00      0.00       240\n",
      "          tomato_mosaic_virus       0.00      0.00      0.00        54\n",
      "tomato_yellow_leaf_curl_virus       0.32      1.00      0.48       854\n",
      "      two-spotted_spider_mite       0.00      0.00      0.00       280\n",
      "\n",
      "                     accuracy                           0.31      2907\n",
      "                    macro avg       0.22      0.12      0.09      2907\n",
      "                 weighted avg       0.26      0.31      0.18      2907\n",
      "\n",
      "[[  0   0   0   0   0   0   0   0 345   0]\n",
      " [  2   9   3   1   3  12   1   5 113   4]\n",
      " [  6   2   7   0   0   5   2   0 212   0]\n",
      " [  8  11   4  34  13   6   3  10 215   5]\n",
      " [  3   1   4   0   4   3   0   2 127   1]\n",
      " [  6   7   2   0   5   4   2   3 263   1]\n",
      " [  0   1   0   0   0   2   0   0 237   0]\n",
      " [  1   1   0   0   1   2   0   0  49   0]\n",
      " [  1   0   0   0   0   1   1   0 850   1]\n",
      " [  3   0   0   0   0   0   0   0 277   0]]\n"
     ]
    }
   ],
   "source": [
    "class_names = target.unique()\n",
    "print(classification_report(Ltest, y_pred, target_names=class_names))\n",
    "print(confusion_matrix(Ltest, y_pred))"
   ]
  },
  {
   "cell_type": "markdown",
   "id": "d144692e",
   "metadata": {},
   "source": [
    "# Multinomial Naive bayes on Green data"
   ]
  },
  {
   "cell_type": "code",
   "execution_count": 56,
   "id": "a7a34c33",
   "metadata": {},
   "outputs": [
    {
     "data": {
      "text/plain": [
       "0.31234950120399035"
      ]
     },
     "execution_count": 56,
     "metadata": {},
     "output_type": "execute_result"
    }
   ],
   "source": [
    "mnb.fit(Ftrain, Ltrain)\n",
    "y_pred = mnb.predict(Ftest)\n",
    "metrics.accuracy_score(Ltest, y_pred)"
   ]
  },
  {
   "cell_type": "code",
   "execution_count": 57,
   "id": "441ea45d",
   "metadata": {},
   "outputs": [
    {
     "name": "stdout",
     "output_type": "stream",
     "text": [
      "                               precision    recall  f1-score   support\n",
      "\n",
      "               bacterial_spot       0.00      0.00      0.00       345\n",
      "                 early_blight       0.28      0.06      0.10       153\n",
      "                      healthy       0.35      0.03      0.06       234\n",
      "                  late_blight       0.97      0.11      0.20       309\n",
      "                    leaf_mold       0.15      0.03      0.05       145\n",
      "           septoria_leaf_spot       0.11      0.01      0.02       293\n",
      "                  target_spot       0.00      0.00      0.00       240\n",
      "          tomato_mosaic_virus       0.00      0.00      0.00        54\n",
      "tomato_yellow_leaf_curl_virus       0.32      1.00      0.48       854\n",
      "      two-spotted_spider_mite       0.00      0.00      0.00       280\n",
      "\n",
      "                     accuracy                           0.31      2907\n",
      "                    macro avg       0.22      0.12      0.09      2907\n",
      "                 weighted avg       0.26      0.31      0.18      2907\n",
      "\n",
      "[[  0   0   0   0   0   0   0   0 345   0]\n",
      " [  2   9   3   1   3  12   1   5 113   4]\n",
      " [  6   2   7   0   0   5   2   0 212   0]\n",
      " [  8  11   4  34  13   6   3  10 215   5]\n",
      " [  3   1   4   0   4   3   0   2 127   1]\n",
      " [  6   7   2   0   5   4   2   3 263   1]\n",
      " [  0   1   0   0   0   2   0   0 237   0]\n",
      " [  1   1   0   0   1   2   0   0  49   0]\n",
      " [  1   0   0   0   0   1   1   0 850   1]\n",
      " [  3   0   0   0   0   0   0   0 277   0]]\n"
     ]
    }
   ],
   "source": [
    "class_names = target.unique()\n",
    "print(classification_report(Ltest, y_pred, target_names=class_names))\n",
    "print(confusion_matrix(Ltest, y_pred))"
   ]
  },
  {
   "cell_type": "markdown",
   "id": "a6a80ecb",
   "metadata": {},
   "source": [
    "# Blue channel data"
   ]
  },
  {
   "cell_type": "code",
   "execution_count": 58,
   "id": "06094596",
   "metadata": {},
   "outputs": [],
   "source": [
    "#reading numpy array data\n",
    "blue_test = np.load('blue_data.npy')\n",
    "#reading csv file\n",
    "blue_df = pd.read_csv('blue_data.csv')\n",
    "#assigning features and target to split the data\n",
    "features = pd.DataFrame(blue_test)\n",
    "features = features.values\n",
    "target = blue_df['disease']\n",
    "#splitting the data to train and test\n",
    "Ftrain,Ftest,Ltrain,Ltest=train_test_split(features,target, test_size=0.20, random_state=24)"
   ]
  },
  {
   "cell_type": "code",
   "execution_count": 59,
   "id": "5b51b26a",
   "metadata": {},
   "outputs": [],
   "source": [
    "Ftrain = minmax.fit_transform(Ftrain)\n",
    "Ftest = minmax.fit_transform(Ftest)"
   ]
  },
  {
   "cell_type": "markdown",
   "id": "4d40997b",
   "metadata": {},
   "source": [
    "# SVM(poly) on blue data"
   ]
  },
  {
   "cell_type": "code",
   "execution_count": 60,
   "id": "39b88095",
   "metadata": {},
   "outputs": [
    {
     "name": "stdout",
     "output_type": "stream",
     "text": [
      "0.6418988648090815\n"
     ]
    }
   ],
   "source": [
    "svm_poly.fit(Ftrain,Ltrain)\n",
    "y_pred = svm_poly.predict(Ftest)\n",
    "print(accuracy_score(Ltest,y_pred))"
   ]
  },
  {
   "cell_type": "code",
   "execution_count": 61,
   "id": "dc98d740",
   "metadata": {},
   "outputs": [
    {
     "name": "stdout",
     "output_type": "stream",
     "text": [
      "                               precision    recall  f1-score   support\n",
      "\n",
      "               bacterial_spot       0.56      0.81      0.66       345\n",
      "                 early_blight       0.20      0.24      0.21       153\n",
      "                      healthy       0.70      0.80      0.75       234\n",
      "                  late_blight       0.65      0.60      0.62       309\n",
      "                    leaf_mold       0.50      0.52      0.51       145\n",
      "           septoria_leaf_spot       0.52      0.46      0.49       293\n",
      "                  target_spot       0.48      0.39      0.43       240\n",
      "          tomato_mosaic_virus       0.36      0.28      0.31        54\n",
      "tomato_yellow_leaf_curl_virus       0.88      0.79      0.83       854\n",
      "      two-spotted_spider_mite       0.73      0.67      0.70       280\n",
      "\n",
      "                     accuracy                           0.64      2907\n",
      "                    macro avg       0.56      0.56      0.55      2907\n",
      "                 weighted avg       0.65      0.64      0.64      2907\n",
      "\n",
      "[[280   7  10  12   0   5   5   0  20   6]\n",
      " [ 37  36   5  19   5  11  12   3  21   4]\n",
      " [ 10   8 187   5   3   2  16   0   1   2]\n",
      " [ 15  36  10 184  13  15  18   1  15   2]\n",
      " [  6   9   3  13  76  19   7   3   3   6]\n",
      " [ 26  22   7  26  27 135  24   7  10   9]\n",
      " [ 38  23  37   4   8  19  94   0   3  14]\n",
      " [  4   1   0   4   7  19   1  15   2   1]\n",
      " [ 66  28   1  13  12  24   5   8 671  26]\n",
      " [ 20  12   6   3   2  12  14   5  18 188]]\n"
     ]
    }
   ],
   "source": [
    "#classification report\n",
    "y_predict = svm_poly.fit(Ftrain, Ltrain).predict(Ftest)\n",
    "class_names = target.unique()\n",
    "print(classification_report(Ltest, y_predict, target_names=class_names))\n",
    "print(confusion_matrix(Ltest, y_predict))"
   ]
  },
  {
   "cell_type": "markdown",
   "id": "5226f4f2",
   "metadata": {},
   "source": [
    "# SVM(RBF) on blue data"
   ]
  },
  {
   "cell_type": "code",
   "execution_count": 62,
   "id": "183a5680",
   "metadata": {},
   "outputs": [
    {
     "name": "stdout",
     "output_type": "stream",
     "text": [
      "0.7358101135190919\n"
     ]
    }
   ],
   "source": [
    "svm_rbf.fit(Ftrain,Ltrain)\n",
    "y_pred = svm_rbf.predict(Ftest)\n",
    "print(accuracy_score(Ltest,y_pred))"
   ]
  },
  {
   "cell_type": "code",
   "execution_count": 63,
   "id": "22270861",
   "metadata": {},
   "outputs": [
    {
     "name": "stdout",
     "output_type": "stream",
     "text": [
      "                               precision    recall  f1-score   support\n",
      "\n",
      "               bacterial_spot       0.79      0.81      0.80       345\n",
      "                 early_blight       0.41      0.21      0.28       153\n",
      "                      healthy       0.76      0.88      0.81       234\n",
      "                  late_blight       0.66      0.75      0.70       309\n",
      "                    leaf_mold       0.72      0.52      0.60       145\n",
      "           septoria_leaf_spot       0.59      0.65      0.62       293\n",
      "                  target_spot       0.59      0.60      0.59       240\n",
      "          tomato_mosaic_virus       0.57      0.30      0.39        54\n",
      "tomato_yellow_leaf_curl_virus       0.88      0.87      0.87       854\n",
      "      two-spotted_spider_mite       0.73      0.80      0.77       280\n",
      "\n",
      "                     accuracy                           0.74      2907\n",
      "                    macro avg       0.67      0.64      0.64      2907\n",
      "                 weighted avg       0.73      0.74      0.73      2907\n",
      "\n",
      "[[279   2  18   6   0   3  12   0  21   4]\n",
      " [ 16  32   5  33   1  11  20   1  27   7]\n",
      " [  1   1 205  11   0   3  10   0   0   3]\n",
      " [  2  15   6 233   9  10  10   3  16   5]\n",
      " [  2   4   0  13  75  29   9   1   6   6]\n",
      " [ 13   5   0  27  14 190  19   2  13  10]\n",
      " [  9   5  34   7   0  21 144   2   2  16]\n",
      " [  3   0   0   5   4  22   1  16   2   1]\n",
      " [ 26   6   1  14   1  27   5   3 740  31]\n",
      " [  0   8   2   6   0   8  16   0  15 225]]\n"
     ]
    }
   ],
   "source": [
    "#classification report\n",
    "y_predict = svm_rbf.fit(Ftrain, Ltrain).predict(Ftest)\n",
    "class_names = target.unique()\n",
    "print(classification_report(Ltest, y_predict, target_names=class_names))\n",
    "print(confusion_matrix(Ltest, y_predict))"
   ]
  },
  {
   "cell_type": "markdown",
   "id": "09f47e7e",
   "metadata": {},
   "source": [
    "# SVM(sigmoid) on blue data"
   ]
  },
  {
   "cell_type": "code",
   "execution_count": 64,
   "id": "4401c844",
   "metadata": {},
   "outputs": [
    {
     "name": "stdout",
     "output_type": "stream",
     "text": [
      "0.2521499828001376\n"
     ]
    }
   ],
   "source": [
    "svm_si.fit(Ftrain,Ltrain)\n",
    "y_pred = svm_si.predict(Ftest)\n",
    "print(accuracy_score(Ltest,y_pred))"
   ]
  },
  {
   "cell_type": "code",
   "execution_count": 65,
   "id": "4372e59f",
   "metadata": {},
   "outputs": [
    {
     "name": "stdout",
     "output_type": "stream",
     "text": [
      "                               precision    recall  f1-score   support\n",
      "\n",
      "               bacterial_spot       0.23      0.05      0.08       345\n",
      "                 early_blight       0.00      0.00      0.00       153\n",
      "                      healthy       0.00      0.00      0.00       234\n",
      "                  late_blight       0.00      0.00      0.00       309\n",
      "                    leaf_mold       0.00      0.00      0.00       145\n",
      "           septoria_leaf_spot       0.01      0.00      0.00       293\n",
      "                  target_spot       0.00      0.00      0.00       240\n",
      "          tomato_mosaic_virus       0.00      0.00      0.00        54\n",
      "tomato_yellow_leaf_curl_virus       0.27      0.84      0.40       854\n",
      "      two-spotted_spider_mite       0.00      0.00      0.00       280\n",
      "\n",
      "                     accuracy                           0.25      2907\n",
      "                    macro avg       0.05      0.09      0.05      2907\n",
      "                 weighted avg       0.11      0.25      0.13      2907\n",
      "\n",
      "[[ 16   0   0   0   0   7   0   0 322   0]\n",
      " [  4   0   0   0   0   3   0   0 146   0]\n",
      " [  1   0   0   0   0   2   0   0 231   0]\n",
      " [  4   0  28   0   4   4   0   0 269   0]\n",
      " [  0   0   0   0   0   0   0   0 145   0]\n",
      " [  0   0   0   0   0   1   0   0 292   0]\n",
      " [  0   0   0   0   1   0   0   0 239   0]\n",
      " [  0   0   0   0   0   0   0   0  54   0]\n",
      " [ 42   0   0   0   7  89   0   0 716   0]\n",
      " [  3   0   0   0   0   1   0   0 276   0]]\n"
     ]
    },
    {
     "name": "stderr",
     "output_type": "stream",
     "text": [
      "C:\\Users\\ravic\\anaconda3\\lib\\site-packages\\sklearn\\metrics\\_classification.py:1248: UndefinedMetricWarning: Precision and F-score are ill-defined and being set to 0.0 in labels with no predicted samples. Use `zero_division` parameter to control this behavior.\n",
      "  _warn_prf(average, modifier, msg_start, len(result))\n",
      "C:\\Users\\ravic\\anaconda3\\lib\\site-packages\\sklearn\\metrics\\_classification.py:1248: UndefinedMetricWarning: Precision and F-score are ill-defined and being set to 0.0 in labels with no predicted samples. Use `zero_division` parameter to control this behavior.\n",
      "  _warn_prf(average, modifier, msg_start, len(result))\n",
      "C:\\Users\\ravic\\anaconda3\\lib\\site-packages\\sklearn\\metrics\\_classification.py:1248: UndefinedMetricWarning: Precision and F-score are ill-defined and being set to 0.0 in labels with no predicted samples. Use `zero_division` parameter to control this behavior.\n",
      "  _warn_prf(average, modifier, msg_start, len(result))\n"
     ]
    }
   ],
   "source": [
    "#classification report\n",
    "y_predict = svm_si.fit(Ftrain, Ltrain).predict(Ftest)\n",
    "class_names = target.unique()\n",
    "print(classification_report(Ltest, y_predict, target_names=class_names))\n",
    "print(confusion_matrix(Ltest, y_predict))"
   ]
  },
  {
   "cell_type": "markdown",
   "id": "7401f4ab",
   "metadata": {},
   "source": [
    "# Bernouli Naive bayes on blue data"
   ]
  },
  {
   "cell_type": "code",
   "execution_count": 66,
   "id": "a8ddf84b",
   "metadata": {},
   "outputs": [
    {
     "data": {
      "text/plain": [
       "0.37564499484004127"
      ]
     },
     "execution_count": 66,
     "metadata": {},
     "output_type": "execute_result"
    }
   ],
   "source": [
    "bnb.fit(Ftrain, Ltrain)\n",
    "y_pred = bnb.predict(Ftest)\n",
    "metrics.accuracy_score(Ltest, y_pred)"
   ]
  },
  {
   "cell_type": "code",
   "execution_count": 67,
   "id": "944621bd",
   "metadata": {},
   "outputs": [
    {
     "name": "stdout",
     "output_type": "stream",
     "text": [
      "                               precision    recall  f1-score   support\n",
      "\n",
      "               bacterial_spot       0.25      0.93      0.40       345\n",
      "                 early_blight       0.14      0.07      0.10       153\n",
      "                      healthy       0.23      0.16      0.19       234\n",
      "                  late_blight       0.65      0.21      0.31       309\n",
      "                    leaf_mold       0.26      0.12      0.17       145\n",
      "           septoria_leaf_spot       0.19      0.09      0.12       293\n",
      "                  target_spot       0.19      0.12      0.15       240\n",
      "          tomato_mosaic_virus       0.00      0.00      0.00        54\n",
      "tomato_yellow_leaf_curl_virus       0.80      0.57      0.67       854\n",
      "      two-spotted_spider_mite       0.30      0.34      0.32       280\n",
      "\n",
      "                     accuracy                           0.38      2907\n",
      "                    macro avg       0.30      0.26      0.24      2907\n",
      "                 weighted avg       0.44      0.38      0.36      2907\n",
      "\n",
      "[[320   0   7   1   1   2   8   0   0   6]\n",
      " [ 54  11   7  20   6  12   7   3  16  17]\n",
      " [139   6  37   0  12   8   6   4   2  20]\n",
      " [155  17   7  64   4  10  10   2  22  18]\n",
      " [ 86   2   4   4  18   9   9   2   6   5]\n",
      " [166  16  14   4   8  27  19   6  16  17]\n",
      " [141   2  24   0   3  15  29   0   5  21]\n",
      " [ 42   0   1   0   0   4   2   0   1   4]\n",
      " [101  20  27   6  13  45  33   5 490 114]\n",
      " [ 55   2  32   0   4   8  29   0  54  96]]\n"
     ]
    }
   ],
   "source": [
    "class_names = target.unique()\n",
    "print(classification_report(Ltest, y_pred, target_names=class_names))\n",
    "print(confusion_matrix(Ltest, y_pred))"
   ]
  },
  {
   "cell_type": "markdown",
   "id": "cbf0037b",
   "metadata": {},
   "source": [
    "# Multinomial Naive bayes on blue data"
   ]
  },
  {
   "cell_type": "code",
   "execution_count": 68,
   "id": "050a9f46",
   "metadata": {},
   "outputs": [
    {
     "data": {
      "text/plain": [
       "0.37564499484004127"
      ]
     },
     "execution_count": 68,
     "metadata": {},
     "output_type": "execute_result"
    }
   ],
   "source": [
    "mnb.fit(Ftrain, Ltrain)\n",
    "y_pred = mnb.predict(Ftest)\n",
    "metrics.accuracy_score(Ltest, y_pred)"
   ]
  },
  {
   "cell_type": "code",
   "execution_count": 69,
   "id": "9a916b04",
   "metadata": {},
   "outputs": [
    {
     "name": "stdout",
     "output_type": "stream",
     "text": [
      "                               precision    recall  f1-score   support\n",
      "\n",
      "               bacterial_spot       0.25      0.93      0.40       345\n",
      "                 early_blight       0.14      0.07      0.10       153\n",
      "                      healthy       0.23      0.16      0.19       234\n",
      "                  late_blight       0.65      0.21      0.31       309\n",
      "                    leaf_mold       0.26      0.12      0.17       145\n",
      "           septoria_leaf_spot       0.19      0.09      0.12       293\n",
      "                  target_spot       0.19      0.12      0.15       240\n",
      "          tomato_mosaic_virus       0.00      0.00      0.00        54\n",
      "tomato_yellow_leaf_curl_virus       0.80      0.57      0.67       854\n",
      "      two-spotted_spider_mite       0.30      0.34      0.32       280\n",
      "\n",
      "                     accuracy                           0.38      2907\n",
      "                    macro avg       0.30      0.26      0.24      2907\n",
      "                 weighted avg       0.44      0.38      0.36      2907\n",
      "\n",
      "[[320   0   7   1   1   2   8   0   0   6]\n",
      " [ 54  11   7  20   6  12   7   3  16  17]\n",
      " [139   6  37   0  12   8   6   4   2  20]\n",
      " [155  17   7  64   4  10  10   2  22  18]\n",
      " [ 86   2   4   4  18   9   9   2   6   5]\n",
      " [166  16  14   4   8  27  19   6  16  17]\n",
      " [141   2  24   0   3  15  29   0   5  21]\n",
      " [ 42   0   1   0   0   4   2   0   1   4]\n",
      " [101  20  27   6  13  45  33   5 490 114]\n",
      " [ 55   2  32   0   4   8  29   0  54  96]]\n"
     ]
    }
   ],
   "source": [
    "class_names = target.unique()\n",
    "print(classification_report(Ltest, y_pred, target_names=class_names))\n",
    "print(confusion_matrix(Ltest, y_pred))"
   ]
  },
  {
   "cell_type": "code",
   "execution_count": 70,
   "id": "195a0b21",
   "metadata": {},
   "outputs": [
    {
     "name": "stdout",
     "output_type": "stream",
     "text": [
      "15365.557702541351\n"
     ]
    }
   ],
   "source": [
    "end_time = time.time()\n",
    "print(end_time - start_time)"
   ]
  }
 ],
 "metadata": {
  "kernelspec": {
   "display_name": "Python 3 (ipykernel)",
   "language": "python",
   "name": "python3"
  },
  "language_info": {
   "codemirror_mode": {
    "name": "ipython",
    "version": 3
   },
   "file_extension": ".py",
   "mimetype": "text/x-python",
   "name": "python",
   "nbconvert_exporter": "python",
   "pygments_lexer": "ipython3",
   "version": "3.9.7"
  }
 },
 "nbformat": 4,
 "nbformat_minor": 5
}
