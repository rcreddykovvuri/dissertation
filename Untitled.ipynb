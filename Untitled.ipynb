{
 "cells": [
  {
   "cell_type": "code",
   "execution_count": 2,
   "id": "1a6389d2",
   "metadata": {},
   "outputs": [],
   "source": [
    "import numpy as np #importing numpy\n",
    "import pandas as pd #importing pandas\n",
    "import PIL #importing pillow for image processing\n",
    "from PIL import Image#importing image from pillow library\n",
    "import skimage#importing skimage library\n",
    "import os#importing os library\n",
    "import time#importing time library\n",
    "\n",
    "#Capture start time of the program\n",
    "start_time = time.time()"
   ]
  },
  {
   "cell_type": "code",
   "execution_count": 3,
   "id": "e9c0e17f",
   "metadata": {},
   "outputs": [],
   "source": [
    "from string import digits\n",
    "#code to remove numbers in a string and assigning it to the variable\n",
    "r_digits = str.maketrans('', '', digits)\n",
    "#taking source data folder path to a varible\n",
    "rawdata_path = 'D://DKIT//dissertation//Dataset_of_Tomato Leaves//plantvillage//Preprocessed_data//test_data//'\n",
    "#changing current librbay to source data\n",
    "os.chdir(rawdata_path)\n",
    "#taking sub-directories to a list\n",
    "dirs = os.listdir()\n",
    "directories = []\n",
    "diseases = []\n",
    "#Taking directories into a list and extract disease name from folder name\n",
    "for x in dirs:\n",
    "    res = x.translate(r_digits).lower()\n",
    "    diseases.append(res)\n",
    "    temp = rawdata_path + x + '//'\n",
    "    directories.append(temp)"
   ]
  },
  {
   "cell_type": "code",
   "execution_count": 4,
   "id": "39cf703b",
   "metadata": {},
   "outputs": [
    {
     "name": "stdout",
     "output_type": "stream",
     "text": [
      "['bacterial_spot', 'early_blight', 'healthy', 'late_blight', 'leaf_mold', 'septoria_leaf_spot', 'target_spot', 'tomato_mosaic_virus', 'tomato_yellow_leaf_curl_virus', 'two-spotted_spider_mite']\n",
      "['D://DKIT//dissertation//Dataset_of_Tomato Leaves//plantvillage//Preprocessed_data//test_data//Bacterial_spot227//', 'D://DKIT//dissertation//Dataset_of_Tomato Leaves//plantvillage//Preprocessed_data//test_data//Early_blight227//', 'D://DKIT//dissertation//Dataset_of_Tomato Leaves//plantvillage//Preprocessed_data//test_data//healthy227//', 'D://DKIT//dissertation//Dataset_of_Tomato Leaves//plantvillage//Preprocessed_data//test_data//Late_blight227//', 'D://DKIT//dissertation//Dataset_of_Tomato Leaves//plantvillage//Preprocessed_data//test_data//Leaf_Mold227//', 'D://DKIT//dissertation//Dataset_of_Tomato Leaves//plantvillage//Preprocessed_data//test_data//Septoria_leaf_spot227//', 'D://DKIT//dissertation//Dataset_of_Tomato Leaves//plantvillage//Preprocessed_data//test_data//Target_Spot227//', 'D://DKIT//dissertation//Dataset_of_Tomato Leaves//plantvillage//Preprocessed_data//test_data//Tomato_mosaic_virus227//', 'D://DKIT//dissertation//Dataset_of_Tomato Leaves//plantvillage//Preprocessed_data//test_data//Tomato_Yellow_Leaf_Curl_Virus227//', 'D://DKIT//dissertation//Dataset_of_Tomato Leaves//plantvillage//Preprocessed_data//test_data//Two-spotted_spider_mite227//']\n"
     ]
    }
   ],
   "source": [
    "#printing diseases and directories after extracting\n",
    "print(diseases)\n",
    "print(directories)"
   ]
  },
  {
   "cell_type": "code",
   "execution_count": 6,
   "id": "8394fe40",
   "metadata": {},
   "outputs": [],
   "source": [
    "\n",
    "gray_df = pd.DataFrame(columns=['gray_single','disease'])\n",
    "rgb_df = pd.DataFrame(columns=['rgb_single','disease'])"
   ]
  },
  {
   "cell_type": "code",
   "execution_count": 7,
   "id": "1dabb9fe",
   "metadata": {},
   "outputs": [],
   "source": [
    "x = 0\n",
    "y=0\n",
    "gray_test = []\n",
    "gray_final = []\n",
    "disease = []\n",
    "rgb_final = []\n",
    "\n",
    "for i in directories:\n",
    "    os.chdir(i)\n",
    "    k = diseases[x]\n",
    "    pics = os.listdir()\n",
    "    for j in pics:\n",
    "        temp_list = []\n",
    "        rgb_temp = []\n",
    "        gray = []\n",
    "        data = []\n",
    "        image = Image.open(j,mode='r')\n",
    "        data = image.convert('RGB')\n",
    "        data = np.array(data)\n",
    "        data = data.ravel()\n",
    "        rgb_temp.append(data)\n",
    "        rgb_temp.append(k)\n",
    "        gray = image.convert('L')\n",
    "        gray = np.array(gray)\n",
    "        gray = gray.ravel()\n",
    "        gray_test.append(gray)\n",
    "        temp_list.append(gray)\n",
    "        temp_list.append(k)\n",
    "               \n",
    "        gray_df.loc[len(gray_df)] = temp_list\n",
    "        rgb_df.loc[len(rgb_df)] = rgb_temp\n",
    "    x = x+1"
   ]
  },
  {
   "cell_type": "code",
   "execution_count": 8,
   "id": "746800e4",
   "metadata": {},
   "outputs": [
    {
     "data": {
      "text/plain": [
       "[array([147, 148, 149, ..., 118, 116, 113], dtype=uint8),\n",
       " array([104, 103, 104, ..., 158, 161, 165], dtype=uint8),\n",
       " array([119, 123, 128, ..., 159, 157, 154], dtype=uint8),\n",
       " array([159, 161, 162, ..., 132, 132, 132], dtype=uint8),\n",
       " array([121, 123, 112, ..., 147, 147, 147], dtype=uint8),\n",
       " array([176, 175, 177, ..., 109, 112, 116], dtype=uint8),\n",
       " array([126, 149, 136, ..., 169, 172, 175], dtype=uint8),\n",
       " array([158, 159, 159, ..., 119, 115, 114], dtype=uint8),\n",
       " array([208, 207, 205, ..., 137, 136, 135], dtype=uint8),\n",
       " array([186, 151, 158, ..., 130, 131, 132], dtype=uint8),\n",
       " array([130, 117, 102, ...,  77,  80,  83], dtype=uint8),\n",
       " array([ 83, 109, 108, ..., 147, 134, 151], dtype=uint8),\n",
       " array([108, 115, 115, ..., 178, 193, 168], dtype=uint8),\n",
       " array([101, 100, 105, ..., 152, 143, 162], dtype=uint8),\n",
       " array([115, 125, 102, ..., 162, 154, 108], dtype=uint8),\n",
       " array([168, 171, 174, ..., 118, 108, 126], dtype=uint8),\n",
       " array([100, 108, 101, ..., 148, 148, 148], dtype=uint8),\n",
       " array([109, 109, 110, ..., 113, 116, 119], dtype=uint8),\n",
       " array([123, 116, 110, ..., 127, 127, 127], dtype=uint8),\n",
       " array([117, 100, 105, ..., 121, 121, 121], dtype=uint8),\n",
       " array([109, 114, 121, ..., 140, 126, 139], dtype=uint8),\n",
       " array([134, 135, 135, ..., 151, 173, 164], dtype=uint8),\n",
       " array([180, 183, 185, ...,  90,  90,  90], dtype=uint8),\n",
       " array([133, 135, 128, ..., 112, 115, 115], dtype=uint8),\n",
       " array([116, 115, 118, ..., 110, 138, 183], dtype=uint8),\n",
       " array([133, 136, 137, ..., 100,  85,  98], dtype=uint8),\n",
       " array([ 78, 117, 103, ..., 136, 137, 138], dtype=uint8),\n",
       " array([146, 146, 145, ..., 115, 114, 113], dtype=uint8),\n",
       " array([119, 131, 137, ..., 143, 145, 147], dtype=uint8),\n",
       " array([131, 146, 163, ..., 128, 134, 137], dtype=uint8),\n",
       " array([147, 132, 154, ..., 159, 137, 145], dtype=uint8),\n",
       " array([124,  84, 114, ..., 165, 154, 172], dtype=uint8),\n",
       " array([ 96, 147, 145, ..., 156, 154, 151], dtype=uint8),\n",
       " array([128, 131, 129, ..., 145, 145, 146], dtype=uint8),\n",
       " array([103, 103, 119, ..., 147, 152, 155], dtype=uint8),\n",
       " array([129, 130, 129, ..., 147, 147, 147], dtype=uint8),\n",
       " array([148, 160, 149, ..., 145, 157, 140], dtype=uint8),\n",
       " array([106, 116, 129, ..., 154, 154, 154], dtype=uint8),\n",
       " array([ 89, 167, 131, ..., 131, 131, 131], dtype=uint8),\n",
       " array([142, 127, 118, ..., 150, 143, 150], dtype=uint8),\n",
       " array([147, 153, 139, ..., 100,  99,  98], dtype=uint8),\n",
       " array([146, 143, 157, ..., 103, 111, 117], dtype=uint8),\n",
       " array([152, 158, 162, ..., 103, 116,  88], dtype=uint8),\n",
       " array([ 95,  93,  91, ..., 118, 118, 118], dtype=uint8),\n",
       " array([175, 174, 173, ..., 150, 148, 146], dtype=uint8),\n",
       " array([216, 217, 217, ..., 118,  99, 110], dtype=uint8),\n",
       " array([106, 122, 113, ..., 167, 142, 129], dtype=uint8),\n",
       " array([170, 170, 169, ..., 141, 151, 148], dtype=uint8),\n",
       " array([162, 184, 179, ..., 126, 147, 166], dtype=uint8),\n",
       " array([208, 213, 208, ..., 136, 127, 146], dtype=uint8)]"
      ]
     },
     "execution_count": 8,
     "metadata": {},
     "output_type": "execute_result"
    }
   ],
   "source": [
    "gray_test"
   ]
  },
  {
   "cell_type": "code",
   "execution_count": 9,
   "id": "99e72c4f",
   "metadata": {},
   "outputs": [],
   "source": [
    "np.save(\"sample.npy\", gray_test)"
   ]
  },
  {
   "cell_type": "code",
   "execution_count": null,
   "id": "642cf5bf",
   "metadata": {},
   "outputs": [],
   "source": []
  }
 ],
 "metadata": {
  "kernelspec": {
   "display_name": "Python 3 (ipykernel)",
   "language": "python",
   "name": "python3"
  },
  "language_info": {
   "codemirror_mode": {
    "name": "ipython",
    "version": 3
   },
   "file_extension": ".py",
   "mimetype": "text/x-python",
   "name": "python",
   "nbconvert_exporter": "python",
   "pygments_lexer": "ipython3",
   "version": "3.9.7"
  }
 },
 "nbformat": 4,
 "nbformat_minor": 5
}
