{
 "cells": [
  {
   "cell_type": "code",
   "execution_count": 1,
   "id": "d4aad64d",
   "metadata": {},
   "outputs": [],
   "source": [
    "import numpy as np #importing numpy\n",
    "import pandas as pd #importing pandas\n",
    "import PIL #importing pillow for image processing\n",
    "from PIL import Image#importing image from pillow library\n",
    "import skimage#importing skimage library\n",
    "import os#importing os library\n",
    "import time#importing time library\n",
    "\n",
    "#Capture start time of the program\n",
    "start_time = time.time()"
   ]
  },
  {
   "cell_type": "code",
   "execution_count": 2,
   "id": "86488b09",
   "metadata": {},
   "outputs": [],
   "source": [
    "#changing path\n",
    "os.chdir('D://DKIT//dissertation//Dataset_of_Tomato_Leaves//plantvillage//Preprocessed_data//32//32_no_bias_vector//')"
   ]
  },
  {
   "cell_type": "code",
   "execution_count": 3,
   "id": "d7939914",
   "metadata": {},
   "outputs": [],
   "source": [
    "#reading numpy array data\n",
    "rgb_test = np.load('rgb_data.npy')\n",
    "#reading csv file\n",
    "rgb_df = pd.read_csv('rgb_data.csv')"
   ]
  },
  {
   "cell_type": "code",
   "execution_count": 5,
   "id": "bd469856",
   "metadata": {},
   "outputs": [],
   "source": [
    "features = pd.DataFrame(rgb_test)"
   ]
  },
  {
   "cell_type": "code",
   "execution_count": 7,
   "id": "ff399dd4",
   "metadata": {},
   "outputs": [],
   "source": [
    "from sklearn.model_selection import KFold\n",
    "from sklearn.model_selection import cross_val_score"
   ]
  },
  {
   "cell_type": "code",
   "execution_count": 8,
   "id": "db8c2358",
   "metadata": {},
   "outputs": [],
   "source": [
    "features = features.values"
   ]
  },
  {
   "cell_type": "code",
   "execution_count": 9,
   "id": "fce4474a",
   "metadata": {},
   "outputs": [],
   "source": [
    "target = rgb_df['disease']"
   ]
  },
  {
   "cell_type": "code",
   "execution_count": 12,
   "id": "a18be1d7",
   "metadata": {},
   "outputs": [],
   "source": [
    "k_fold = KFold(n_splits=10, random_state=3, shuffle=True)"
   ]
  },
  {
   "cell_type": "code",
   "execution_count": 13,
   "id": "0551b62f",
   "metadata": {},
   "outputs": [],
   "source": [
    "from sklearn.svm import SVC\n",
    "from sklearn.metrics import accuracy_score"
   ]
  },
  {
   "cell_type": "code",
   "execution_count": 14,
   "id": "c078c15c",
   "metadata": {},
   "outputs": [],
   "source": [
    "svm_rbf = SVC(kernel='rbf')"
   ]
  },
  {
   "cell_type": "code",
   "execution_count": 15,
   "id": "e8287cbe",
   "metadata": {},
   "outputs": [],
   "source": [
    "scores = cross_val_score(svm_rbf, features, target, scoring='accuracy', cv=k_fold, n_jobs=-1)"
   ]
  },
  {
   "cell_type": "code",
   "execution_count": 18,
   "id": "bede4942",
   "metadata": {},
   "outputs": [
    {
     "name": "stdout",
     "output_type": "stream",
     "text": [
      "Accuracy: 0.769 (0.015)\n"
     ]
    }
   ],
   "source": [
    "from numpy import mean\n",
    "from numpy import std\n",
    "print('Accuracy: %.3f (%.3f)' % (mean(scores), std(scores)))"
   ]
  },
  {
   "cell_type": "code",
   "execution_count": null,
   "id": "04c80b5c",
   "metadata": {},
   "outputs": [],
   "source": []
  }
 ],
 "metadata": {
  "kernelspec": {
   "display_name": "Python 3 (ipykernel)",
   "language": "python",
   "name": "python3"
  },
  "language_info": {
   "codemirror_mode": {
    "name": "ipython",
    "version": 3
   },
   "file_extension": ".py",
   "mimetype": "text/x-python",
   "name": "python",
   "nbconvert_exporter": "python",
   "pygments_lexer": "ipython3",
   "version": "3.9.12"
  }
 },
 "nbformat": 4,
 "nbformat_minor": 5
}
