{
 "cells": [
  {
   "cell_type": "code",
   "execution_count": 1,
   "id": "b27cf6ba",
   "metadata": {},
   "outputs": [],
   "source": [
    "import numpy as np\n",
    "import pandas as pd\n",
    "import PIL\n",
    "from PIL import Image\n",
    "import skimage\n",
    "import os"
   ]
  },
  {
   "cell_type": "code",
   "execution_count": 2,
   "id": "03c2a039",
   "metadata": {},
   "outputs": [],
   "source": [
    "from string import digits\n",
    "r_digits = str.maketrans('', '', digits)\n",
    "root = 'D://DKIT//dissertation//Dataset_of_Tomato Leaves//plantvillage//Preprocessed_data//test_data//'\n",
    "os.chdir('D://DKIT//dissertation//Dataset_of_Tomato Leaves//plantvillage//Preprocessed_data//test_data//')\n",
    "dirs = os.listdir()\n",
    "directories = []\n",
    "diseases = []\n",
    "for x in dirs:\n",
    "    res = x.translate(r_digits).lower()\n",
    "    diseases.append(res)\n",
    "    temp = root + x + '//'\n",
    "    directories.append(temp)"
   ]
  },
  {
   "cell_type": "code",
   "execution_count": 3,
   "id": "5cf2bc2c",
   "metadata": {},
   "outputs": [
    {
     "name": "stdout",
     "output_type": "stream",
     "text": [
      "['bacterial_spot', 'early_blight', 'healthy', 'late_blight', 'leaf_mold', 'septoria_leaf_spot', 'target_spot', 'tomato_mosaic_virus', 'tomato_yellow_leaf_curl_virus', 'two-spotted_spider_mite']\n",
      "['D://DKIT//dissertation//Dataset_of_Tomato Leaves//plantvillage//Preprocessed_data//test_data//Bacterial_spot227//', 'D://DKIT//dissertation//Dataset_of_Tomato Leaves//plantvillage//Preprocessed_data//test_data//Early_blight227//', 'D://DKIT//dissertation//Dataset_of_Tomato Leaves//plantvillage//Preprocessed_data//test_data//healthy227//', 'D://DKIT//dissertation//Dataset_of_Tomato Leaves//plantvillage//Preprocessed_data//test_data//Late_blight227//', 'D://DKIT//dissertation//Dataset_of_Tomato Leaves//plantvillage//Preprocessed_data//test_data//Leaf_Mold227//', 'D://DKIT//dissertation//Dataset_of_Tomato Leaves//plantvillage//Preprocessed_data//test_data//Septoria_leaf_spot227//', 'D://DKIT//dissertation//Dataset_of_Tomato Leaves//plantvillage//Preprocessed_data//test_data//Target_Spot227//', 'D://DKIT//dissertation//Dataset_of_Tomato Leaves//plantvillage//Preprocessed_data//test_data//Tomato_mosaic_virus227//', 'D://DKIT//dissertation//Dataset_of_Tomato Leaves//plantvillage//Preprocessed_data//test_data//Tomato_Yellow_Leaf_Curl_Virus227//', 'D://DKIT//dissertation//Dataset_of_Tomato Leaves//plantvillage//Preprocessed_data//test_data//Two-spotted_spider_mite227//']\n"
     ]
    }
   ],
   "source": [
    "print(diseases)\n",
    "print(directories)"
   ]
  },
  {
   "cell_type": "code",
   "execution_count": 4,
   "id": "befe6bce",
   "metadata": {},
   "outputs": [],
   "source": [
    "red_data = pd.DataFrame(columns=['name','width','height','red','red_single','green','green_single','blue','blue_single','gray','gray_single','disease'])"
   ]
  },
  {
   "cell_type": "code",
   "execution_count": 5,
   "id": "971cf5dc",
   "metadata": {},
   "outputs": [],
   "source": [
    "x = 0\n",
    "for i in directories:\n",
    "    os.chdir(i)\n",
    "    k = diseases[x]\n",
    "    pics = os.listdir()\n",
    "    for j in pics:\n",
    "        temp_list = []\n",
    "        temp_list.append(j)\n",
    "        data = []\n",
    "        red = []\n",
    "        red_single = []\n",
    "        green = []\n",
    "        green_single = []\n",
    "        blue = []\n",
    "        blue_single = []\n",
    "        gray = []\n",
    "        image = Image.open(j,mode='r')\n",
    "        widt = image.width\n",
    "        temp_list.append(widt)\n",
    "        hgt = image.height\n",
    "        temp_list.append(hgt)\n",
    "        data = image.convert('RGB')\n",
    "        data = np.array(data)\n",
    "        red = data[:,:,0]\n",
    "        green = data[:,:,1]\n",
    "        blue = data[:,:,2]\n",
    "        temp_list.append(red)\n",
    "        red_single = red.ravel()\n",
    "        temp_list.append(red_single)\n",
    "        temp_list.append(green)\n",
    "        green_single = green.ravel()\n",
    "        temp_list.append(green_single)\n",
    "        temp_list.append(blue)\n",
    "        blue_single = blue.ravel()\n",
    "        temp_list.append(blue_single)\n",
    "        gray = image.convert('L')\n",
    "        gray = np.array(gray)\n",
    "        temp_list.append(gray)\n",
    "        gray = gray.ravel()\n",
    "        temp_list.append(gray)\n",
    "        temp_list.append(k)\n",
    "        red_data.loc[len(red_data)] = temp_list\n",
    "    x = x+1"
   ]
  },
  {
   "cell_type": "code",
   "execution_count": 6,
   "id": "a6eab4b5",
   "metadata": {},
   "outputs": [],
   "source": [
    "red_data.to_csv('D://DKIT//dissertation//Dataset_of_Tomato Leaves//datasets//bs1_data.csv',index=False)\n"
   ]
  }
 ],
 "metadata": {
  "kernelspec": {
   "display_name": "Python 3 (ipykernel)",
   "language": "python",
   "name": "python3"
  },
  "language_info": {
   "codemirror_mode": {
    "name": "ipython",
    "version": 3
   },
   "file_extension": ".py",
   "mimetype": "text/x-python",
   "name": "python",
   "nbconvert_exporter": "python",
   "pygments_lexer": "ipython3",
   "version": "3.9.7"
  }
 },
 "nbformat": 4,
 "nbformat_minor": 5
}
