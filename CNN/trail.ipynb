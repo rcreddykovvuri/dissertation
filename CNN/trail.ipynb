{
 "cells": [
  {
   "cell_type": "code",
   "execution_count": 1,
   "id": "471f0293",
   "metadata": {},
   "outputs": [],
   "source": [
    "import pandas as pd\n",
    "import numpy as np\n",
    "import tensorflow as tf"
   ]
  },
  {
   "cell_type": "code",
   "execution_count": 2,
   "id": "392d898f",
   "metadata": {},
   "outputs": [],
   "source": [
    "import os\n",
    "os.chdir('D://DKIT//dissertation//Dataset_of_Tomato_Leaves//plantvillage//Preprocessed_data//64//vector//')"
   ]
  },
  {
   "cell_type": "code",
   "execution_count": 3,
   "id": "7b9d7788",
   "metadata": {},
   "outputs": [],
   "source": [
    "#reading numpy array data\n",
    "pixels = np.load('rgb_data.npy')\n",
    "#reading csv file\n",
    "data = pd.read_csv('rgb_data.csv')"
   ]
  },
  {
   "cell_type": "code",
   "execution_count": 4,
   "id": "71e5d372",
   "metadata": {},
   "outputs": [],
   "source": [
    "features = pd.DataFrame(pixels)\n",
    "features = features.values"
   ]
  },
  {
   "cell_type": "code",
   "execution_count": 5,
   "id": "4d072dd4",
   "metadata": {},
   "outputs": [
    {
     "data": {
      "text/plain": [
       "array([[143, 147, 146, ..., 123, 113, 112],\n",
       "       [178, 172, 172, ..., 138, 124, 123],\n",
       "       [125, 129, 106, ...,  61,  53,  51],\n",
       "       ...,\n",
       "       [130, 115, 118, ..., 127, 127, 129],\n",
       "       [179, 168, 176, ..., 126, 113, 122],\n",
       "       [114,  99, 102, ..., 205, 191, 188]], dtype=uint8)"
      ]
     },
     "execution_count": 5,
     "metadata": {},
     "output_type": "execute_result"
    }
   ],
   "source": [
    "features"
   ]
  },
  {
   "cell_type": "code",
   "execution_count": 6,
   "id": "3dd5e2fb",
   "metadata": {},
   "outputs": [],
   "source": [
    "target = data['disease']"
   ]
  },
  {
   "cell_type": "code",
   "execution_count": 7,
   "id": "6712a2f3",
   "metadata": {},
   "outputs": [],
   "source": [
    "cat = target.unique()"
   ]
  },
  {
   "cell_type": "code",
   "execution_count": 8,
   "id": "611357ef",
   "metadata": {},
   "outputs": [],
   "source": [
    "vals = list(range(0,10))"
   ]
  },
  {
   "cell_type": "code",
   "execution_count": 9,
   "id": "6dfb5bb6",
   "metadata": {},
   "outputs": [],
   "source": [
    "for i in range(0,10):\n",
    "    target.replace(to_replace=cat[i],value = vals[i],inplace = True)"
   ]
  },
  {
   "cell_type": "code",
   "execution_count": 10,
   "id": "91043a10",
   "metadata": {},
   "outputs": [
    {
     "data": {
      "text/plain": [
       "0        0\n",
       "1        0\n",
       "2        0\n",
       "3        0\n",
       "4        0\n",
       "        ..\n",
       "14526    9\n",
       "14527    9\n",
       "14528    9\n",
       "14529    9\n",
       "14530    9\n",
       "Name: disease, Length: 14531, dtype: int64"
      ]
     },
     "execution_count": 10,
     "metadata": {},
     "output_type": "execute_result"
    }
   ],
   "source": [
    "target"
   ]
  },
  {
   "cell_type": "code",
   "execution_count": 11,
   "id": "459783eb",
   "metadata": {},
   "outputs": [],
   "source": [
    "target = target.values"
   ]
  },
  {
   "cell_type": "code",
   "execution_count": 12,
   "id": "6e73aae5",
   "metadata": {},
   "outputs": [],
   "source": [
    "target = target.reshape(14531, 1)"
   ]
  },
  {
   "cell_type": "code",
   "execution_count": 13,
   "id": "e34ed7ca",
   "metadata": {},
   "outputs": [
    {
     "data": {
      "text/plain": [
       "array([[0],\n",
       "       [0],\n",
       "       [0],\n",
       "       ...,\n",
       "       [9],\n",
       "       [9],\n",
       "       [9]], dtype=int64)"
      ]
     },
     "execution_count": 13,
     "metadata": {},
     "output_type": "execute_result"
    }
   ],
   "source": [
    "target"
   ]
  },
  {
   "cell_type": "code",
   "execution_count": 14,
   "id": "00da48d2",
   "metadata": {},
   "outputs": [],
   "source": [
    "#splitting the data to test and train\n",
    "from sklearn.model_selection import train_test_split\n",
    "xtrain,xtest,ytrain,ytest = train_test_split(features,target, test_size=0.20, random_state=24)"
   ]
  },
  {
   "cell_type": "code",
   "execution_count": 15,
   "id": "0343eaf4",
   "metadata": {},
   "outputs": [],
   "source": [
    "from sklearn.metrics import accuracy_score\n",
    "from keras.models import Sequential\n",
    "from keras.layers import Dense, Dropout, Conv2D, MaxPool2D, Flatten\n",
    "from keras.utils import np_utils"
   ]
  },
  {
   "cell_type": "code",
   "execution_count": 16,
   "id": "b3b94777",
   "metadata": {},
   "outputs": [],
   "source": [
    "xtrain = xtrain.reshape(xtrain.shape[0], 64, 64, 3)\n",
    "xtest = xtest.reshape(xtest.shape[0], 64, 64, 3)"
   ]
  },
  {
   "cell_type": "code",
   "execution_count": 17,
   "id": "90bb5d7b",
   "metadata": {},
   "outputs": [],
   "source": [
    "xtrain = xtrain.astype('float32')\n",
    "xtest = xtest.astype('float32')"
   ]
  },
  {
   "cell_type": "code",
   "execution_count": 18,
   "id": "619a7c1a",
   "metadata": {},
   "outputs": [],
   "source": [
    "# normalizing the data to help with the training\n",
    "xtrain /= 255\n",
    "xtest /= 255"
   ]
  },
  {
   "cell_type": "code",
   "execution_count": 19,
   "id": "9808daf1",
   "metadata": {},
   "outputs": [
    {
     "name": "stdout",
     "output_type": "stream",
     "text": [
      "Shape before one-hot encoding:  (11624, 1)\n",
      "Shape after one-hot encoding:  (11624, 10)\n"
     ]
    }
   ],
   "source": [
    "# one-hot encoding using keras' numpy-related utilities\n",
    "n_classes = 10\n",
    "print(\"Shape before one-hot encoding: \", ytrain.shape)\n",
    "ytrain = np_utils.to_categorical(ytrain, n_classes)\n",
    "ytest = np_utils.to_categorical(ytest, n_classes)\n",
    "print(\"Shape after one-hot encoding: \", ytrain.shape)"
   ]
  },
  {
   "cell_type": "code",
   "execution_count": 20,
   "id": "c449e16e",
   "metadata": {},
   "outputs": [],
   "source": [
    "# building a linear stack of layers with the sequential model\n",
    "model = Sequential()\n",
    "\n",
    "# convolutional layer\n",
    "model.add(Conv2D(50, kernel_size=(3,3), strides=(1,1), padding='same', activation='relu', input_shape=(64, 64, 3)))\n",
    "\n",
    "# convolutional layer\n",
    "model.add(Conv2D(75, kernel_size=(3,3), strides=(1,1), padding='same', activation='relu'))\n",
    "model.add(MaxPool2D(pool_size=(2,2)))\n",
    "model.add(Dropout(0.25))\n",
    "\n",
    "model.add(Conv2D(125, kernel_size=(3,3), strides=(1,1), padding='same', activation='relu'))\n",
    "model.add(MaxPool2D(pool_size=(2,2)))\n",
    "model.add(Dropout(0.25))\n",
    "\n",
    "# flatten output of conv\n",
    "model.add(Flatten())\n",
    "\n",
    "# hidden layer\n",
    "model.add(Dense(500, activation='relu'))\n",
    "model.add(Dropout(0.4))\n",
    "model.add(Dense(250, activation='relu'))\n",
    "model.add(Dropout(0.3))\n",
    "# output layer\n",
    "model.add(Dense(10, activation='softmax'))\n",
    "\n",
    "# compiling the sequential model\n",
    "model.compile(loss='categorical_crossentropy', metrics=['accuracy'], optimizer='adam')"
   ]
  },
  {
   "cell_type": "code",
   "execution_count": null,
   "id": "9ce6d0d5",
   "metadata": {},
   "outputs": [
    {
     "name": "stdout",
     "output_type": "stream",
     "text": [
      "Epoch 1/10\n",
      "91/91 [==============================] - 153s 2s/step - loss: 1.9258 - accuracy: 0.3409 - val_loss: 1.4252 - val_accuracy: 0.4899\n",
      "Epoch 2/10\n",
      "91/91 [==============================] - 147s 2s/step - loss: 1.1196 - accuracy: 0.6235 - val_loss: 0.7402 - val_accuracy: 0.7465\n",
      "Epoch 3/10\n",
      "91/91 [==============================] - 149s 2s/step - loss: 0.6742 - accuracy: 0.7692 - val_loss: 0.4985 - val_accuracy: 0.8342\n",
      "Epoch 4/10\n",
      "91/91 [==============================] - 146s 2s/step - loss: 0.4775 - accuracy: 0.8341 - val_loss: 0.3748 - val_accuracy: 0.8741\n",
      "Epoch 5/10\n",
      "91/91 [==============================] - 146s 2s/step - loss: 0.4420 - accuracy: 0.8442 - val_loss: 0.3404 - val_accuracy: 0.8827\n",
      "Epoch 6/10\n",
      "91/91 [==============================] - 150s 2s/step - loss: 0.3817 - accuracy: 0.8662 - val_loss: 0.3280 - val_accuracy: 0.8889\n",
      "Epoch 7/10\n",
      "91/91 [==============================] - ETA: 0s - loss: 0.3206 - accuracy: 0.8919"
     ]
    }
   ],
   "source": [
    "# training the model for 10 epochs\n",
    "test_run = model.fit(xtrain, ytrain, batch_size=128, epochs=10, validation_data=(xtest, ytest))"
   ]
  },
  {
   "cell_type": "code",
   "execution_count": null,
   "id": "5e55371c",
   "metadata": {},
   "outputs": [],
   "source": []
  }
 ],
 "metadata": {
  "kernelspec": {
   "display_name": "Python 3 (ipykernel)",
   "language": "python",
   "name": "python3"
  },
  "language_info": {
   "codemirror_mode": {
    "name": "ipython",
    "version": 3
   },
   "file_extension": ".py",
   "mimetype": "text/x-python",
   "name": "python",
   "nbconvert_exporter": "python",
   "pygments_lexer": "ipython3",
   "version": "3.9.7"
  }
 },
 "nbformat": 4,
 "nbformat_minor": 5
}
