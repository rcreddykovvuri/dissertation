{
 "cells": [
  {
   "cell_type": "code",
   "execution_count": 1,
   "id": "471f0293",
   "metadata": {},
   "outputs": [],
   "source": [
    "import pandas as pd\n",
    "import numpy as np\n",
    "import tensorflow as tf"
   ]
  },
  {
   "cell_type": "code",
   "execution_count": 2,
   "id": "392d898f",
   "metadata": {},
   "outputs": [],
   "source": [
    "import os\n",
    "os.chdir('D://DKIT//dissertation//Dataset_of_Tomato_Leaves//plantvillage//Preprocessed_data//64//vector//')"
   ]
  },
  {
   "cell_type": "code",
   "execution_count": 3,
   "id": "7b9d7788",
   "metadata": {},
   "outputs": [],
   "source": [
    "#reading numpy array data\n",
    "pixels = np.load('rgb_data.npy')\n",
    "#reading csv file\n",
    "data = pd.read_csv('rgb_data.csv')"
   ]
  },
  {
   "cell_type": "code",
   "execution_count": 4,
   "id": "71e5d372",
   "metadata": {},
   "outputs": [],
   "source": [
    "features = pd.DataFrame(pixels)\n",
    "features = features.values"
   ]
  },
  {
   "cell_type": "code",
   "execution_count": 5,
   "id": "4d072dd4",
   "metadata": {},
   "outputs": [
    {
     "data": {
      "text/plain": [
       "array([[143, 147, 146, ..., 123, 113, 112],\n",
       "       [178, 172, 172, ..., 138, 124, 123],\n",
       "       [125, 129, 106, ...,  61,  53,  51],\n",
       "       ...,\n",
       "       [130, 115, 118, ..., 127, 127, 129],\n",
       "       [179, 168, 176, ..., 126, 113, 122],\n",
       "       [114,  99, 102, ..., 205, 191, 188]], dtype=uint8)"
      ]
     },
     "execution_count": 5,
     "metadata": {},
     "output_type": "execute_result"
    }
   ],
   "source": [
    "features"
   ]
  },
  {
   "cell_type": "code",
   "execution_count": 6,
   "id": "3dd5e2fb",
   "metadata": {},
   "outputs": [],
   "source": [
    "target = data['disease']"
   ]
  },
  {
   "cell_type": "code",
   "execution_count": 7,
   "id": "6712a2f3",
   "metadata": {},
   "outputs": [],
   "source": [
    "cat = target.unique()"
   ]
  },
  {
   "cell_type": "code",
   "execution_count": 8,
   "id": "611357ef",
   "metadata": {},
   "outputs": [],
   "source": [
    "vals = list(range(0,10))"
   ]
  },
  {
   "cell_type": "code",
   "execution_count": 9,
   "id": "6dfb5bb6",
   "metadata": {},
   "outputs": [],
   "source": [
    "for i in range(0,10):\n",
    "    target.replace(to_replace=cat[i],value = vals[i],inplace = True)"
   ]
  },
  {
   "cell_type": "code",
   "execution_count": 10,
   "id": "91043a10",
   "metadata": {},
   "outputs": [
    {
     "data": {
      "text/plain": [
       "0        0\n",
       "1        0\n",
       "2        0\n",
       "3        0\n",
       "4        0\n",
       "        ..\n",
       "14526    9\n",
       "14527    9\n",
       "14528    9\n",
       "14529    9\n",
       "14530    9\n",
       "Name: disease, Length: 14531, dtype: int64"
      ]
     },
     "execution_count": 10,
     "metadata": {},
     "output_type": "execute_result"
    }
   ],
   "source": [
    "target"
   ]
  },
  {
   "cell_type": "code",
   "execution_count": 11,
   "id": "459783eb",
   "metadata": {},
   "outputs": [],
   "source": [
    "target = target.values"
   ]
  },
  {
   "cell_type": "code",
   "execution_count": 12,
   "id": "6e73aae5",
   "metadata": {},
   "outputs": [],
   "source": [
    "target = target.reshape(14531, 1)"
   ]
  },
  {
   "cell_type": "code",
   "execution_count": 13,
   "id": "e34ed7ca",
   "metadata": {},
   "outputs": [
    {
     "data": {
      "text/plain": [
       "array([[0],\n",
       "       [0],\n",
       "       [0],\n",
       "       ...,\n",
       "       [9],\n",
       "       [9],\n",
       "       [9]], dtype=int64)"
      ]
     },
     "execution_count": 13,
     "metadata": {},
     "output_type": "execute_result"
    }
   ],
   "source": [
    "target"
   ]
  },
  {
   "cell_type": "code",
   "execution_count": 14,
   "id": "00da48d2",
   "metadata": {},
   "outputs": [],
   "source": [
    "#splitting the data to test and train\n",
    "from sklearn.model_selection import train_test_split\n",
    "xtrain,xtest,ytrain,ytest = train_test_split(features,target, test_size=0.20, random_state=24)"
   ]
  },
  {
   "cell_type": "code",
   "execution_count": 15,
   "id": "0343eaf4",
   "metadata": {},
   "outputs": [],
   "source": [
    "from sklearn.metrics import accuracy_score\n",
    "from keras.models import Sequential\n",
    "from keras.layers import Dense, Dropout, Conv2D, MaxPool2D, Flatten\n",
    "from keras.utils import np_utils"
   ]
  },
  {
   "cell_type": "code",
   "execution_count": 16,
   "id": "b3b94777",
   "metadata": {},
   "outputs": [],
   "source": [
    "xtrain = xtrain.reshape(xtrain.shape[0], 64, 64, 3)\n",
    "xtest = xtest.reshape(xtest.shape[0], 64, 64, 3)"
   ]
  },
  {
   "cell_type": "code",
   "execution_count": 17,
   "id": "90bb5d7b",
   "metadata": {},
   "outputs": [],
   "source": [
    "xtrain = xtrain.astype('float32')\n",
    "xtest = xtest.astype('float32')"
   ]
  },
  {
   "cell_type": "code",
   "execution_count": 18,
   "id": "619a7c1a",
   "metadata": {},
   "outputs": [],
   "source": [
    "# normalizing the data to help with the training\n",
    "xtrain /= 255\n",
    "xtest /= 255"
   ]
  },
  {
   "cell_type": "code",
   "execution_count": 19,
   "id": "9808daf1",
   "metadata": {},
   "outputs": [
    {
     "name": "stdout",
     "output_type": "stream",
     "text": [
      "Shape before one-hot encoding:  (11624, 1)\n",
      "Shape after one-hot encoding:  (11624, 10)\n"
     ]
    }
   ],
   "source": [
    "# one-hot encoding using keras' numpy-related utilities\n",
    "n_classes = 10\n",
    "print(\"Shape before one-hot encoding: \", ytrain.shape)\n",
    "ytrain = np_utils.to_categorical(ytrain, n_classes)\n",
    "ytest = np_utils.to_categorical(ytest, n_classes)\n",
    "print(\"Shape after one-hot encoding: \", ytrain.shape)"
   ]
  },
  {
   "cell_type": "code",
   "execution_count": 20,
   "id": "c449e16e",
   "metadata": {},
   "outputs": [],
   "source": [
    "# building a linear stack of layers with the sequential model\n",
    "model = Sequential()\n",
    "\n",
    "# convolutional layer\n",
    "model.add(Conv2D(50,kernel_size=(3,3), padding='same', activation='relu', input_shape=(64, 64, 3)))\n",
    "\n",
    "# convolutional layer\n",
    "model.add(Conv2D(75, kernel_size=(3,3), padding='same', activation='relu'))\n",
    "model.add(MaxPool2D(pool_size=(2,2)))\n",
    "model.add(Dropout(0.25))\n",
    "\n",
    "# flatten output of conv\n",
    "model.add(Flatten())\n",
    "\n",
    "# hidden layer\n",
    "model.add(Dense(500, activation='relu'))\n",
    "model.add(Dropout(0.4))\n",
    "model.add(Dense(250, activation='relu'))\n",
    "model.add(Dropout(0.3))\n",
    "# output layer\n",
    "model.add(Dense(10, activation='softmax'))\n",
    "\n",
    "# compiling the sequential model\n",
    "model.compile(loss='categorical_crossentropy', metrics=['accuracy'], optimizer='adam')"
   ]
  },
  {
   "cell_type": "code",
   "execution_count": 21,
   "id": "fd6aa898",
   "metadata": {},
   "outputs": [
    {
     "name": "stdout",
     "output_type": "stream",
     "text": [
      "Model: \"sequential\"\n",
      "_________________________________________________________________\n",
      " Layer (type)                Output Shape              Param #   \n",
      "=================================================================\n",
      " conv2d (Conv2D)             (None, 64, 64, 50)        1400      \n",
      "                                                                 \n",
      " conv2d_1 (Conv2D)           (None, 64, 64, 75)        33825     \n",
      "                                                                 \n",
      " max_pooling2d (MaxPooling2D  (None, 32, 32, 75)       0         \n",
      " )                                                               \n",
      "                                                                 \n",
      " dropout (Dropout)           (None, 32, 32, 75)        0         \n",
      "                                                                 \n",
      " flatten (Flatten)           (None, 76800)             0         \n",
      "                                                                 \n",
      " dense (Dense)               (None, 500)               38400500  \n",
      "                                                                 \n",
      " dropout_1 (Dropout)         (None, 500)               0         \n",
      "                                                                 \n",
      " dense_1 (Dense)             (None, 250)               125250    \n",
      "                                                                 \n",
      " dropout_2 (Dropout)         (None, 250)               0         \n",
      "                                                                 \n",
      " dense_2 (Dense)             (None, 10)                2510      \n",
      "                                                                 \n",
      "=================================================================\n",
      "Total params: 38,563,485\n",
      "Trainable params: 38,563,485\n",
      "Non-trainable params: 0\n",
      "_________________________________________________________________\n"
     ]
    }
   ],
   "source": [
    "model.summary()"
   ]
  },
  {
   "cell_type": "code",
   "execution_count": 22,
   "id": "9ce6d0d5",
   "metadata": {},
   "outputs": [
    {
     "name": "stdout",
     "output_type": "stream",
     "text": [
      "Epoch 1/10\n",
      "91/91 [==============================] - 107s 1s/step - loss: 1.8023 - accuracy: 0.4300 - val_loss: 0.8816 - val_accuracy: 0.6980\n",
      "Epoch 2/10\n",
      "91/91 [==============================] - 111s 1s/step - loss: 0.8014 - accuracy: 0.7265 - val_loss: 0.5297 - val_accuracy: 0.8246\n",
      "Epoch 3/10\n",
      "91/91 [==============================] - 118s 1s/step - loss: 0.5426 - accuracy: 0.8147 - val_loss: 0.4536 - val_accuracy: 0.8480\n",
      "Epoch 4/10\n",
      "91/91 [==============================] - 114s 1s/step - loss: 0.4272 - accuracy: 0.8529 - val_loss: 0.4176 - val_accuracy: 0.8566\n",
      "Epoch 5/10\n",
      "91/91 [==============================] - 115s 1s/step - loss: 0.3264 - accuracy: 0.8859 - val_loss: 0.3288 - val_accuracy: 0.8851\n",
      "Epoch 6/10\n",
      "91/91 [==============================] - 116s 1s/step - loss: 0.2880 - accuracy: 0.8998 - val_loss: 0.2860 - val_accuracy: 0.9051\n",
      "Epoch 7/10\n",
      "91/91 [==============================] - 114s 1s/step - loss: 0.2159 - accuracy: 0.9295 - val_loss: 0.4312 - val_accuracy: 0.8689\n",
      "Epoch 8/10\n",
      "91/91 [==============================] - 118s 1s/step - loss: 0.1810 - accuracy: 0.9398 - val_loss: 0.2885 - val_accuracy: 0.9057\n",
      "Epoch 9/10\n",
      "91/91 [==============================] - 115s 1s/step - loss: 0.1757 - accuracy: 0.9407 - val_loss: 0.3281 - val_accuracy: 0.8944\n",
      "Epoch 10/10\n",
      "91/91 [==============================] - 115s 1s/step - loss: 0.1403 - accuracy: 0.9534 - val_loss: 0.3160 - val_accuracy: 0.9023\n"
     ]
    }
   ],
   "source": [
    "# training the model for 10 epochs\n",
    "test_run = model.fit(xtrain, ytrain, batch_size=128, epochs=10, validation_data=(xtest, ytest))"
   ]
  },
  {
   "cell_type": "code",
   "execution_count": 23,
   "id": "5e55371c",
   "metadata": {},
   "outputs": [
    {
     "data": {
      "image/png": "[encoded data removed]",
      "text/plain": [
       "<Figure size 432x288 with 1 Axes>"
      ]
     },
     "metadata": {
      "needs_background": "light"
     },
     "output_type": "display_data"
    }
   ],
   "source": [
    "import matplotlib.pyplot as plt\n",
    "plt.plot(test_run.history['accuracy'], label='accuracy')\n",
    "plt.plot(test_run.history['val_accuracy'], label = 'val_accuracy')\n",
    "plt.xlabel('Epoch')\n",
    "plt.ylabel('Accuracy')\n",
    "plt.ylim([0.5, 1])\n",
    "plt.legend(loc='lower right')\n",
    "plt.show()"
   ]
  },
  {
   "cell_type": "code",
   "execution_count": 24,
   "id": "01416c37",
   "metadata": {},
   "outputs": [
    {
     "name": "stdout",
     "output_type": "stream",
     "text": [
      "Test loss: 0.3160345256328583\n",
      "Test accuracy: 0.9023047685623169\n"
     ]
    }
   ],
   "source": [
    "score = model.evaluate(xtest, ytest, verbose = 0) \n",
    "\n",
    "print('Test loss:', score[0]) \n",
    "print('Test accuracy:', score[1])"
   ]
  },
  {
   "cell_type": "code",
   "execution_count": 25,
   "id": "35ca3742",
   "metadata": {},
   "outputs": [
    {
     "name": "stdout",
     "output_type": "stream",
     "text": [
      "91/91 [==============================] - 8s 89ms/step\n",
      "[6 2 8 ... 8 8 8]\n",
      "[6 2 8 ... 8 8 8]\n"
     ]
    }
   ],
   "source": [
    "pred = model.predict(xtest) \n",
    "pred = np.argmax(pred, axis = 1)\n",
    "label = np.argmax(ytest,axis = 1)\n",
    "\n",
    "print(pred) \n",
    "print(label)"
   ]
  },
  {
   "cell_type": "code",
   "execution_count": 26,
   "id": "eb4e4cbe",
   "metadata": {},
   "outputs": [],
   "source": [
    "#importing classification report and confusion matrix\n",
    "from sklearn.metrics import classification_report, confusion_matrix"
   ]
  },
  {
   "cell_type": "code",
   "execution_count": 27,
   "id": "39a84a2c",
   "metadata": {},
   "outputs": [
    {
     "name": "stdout",
     "output_type": "stream",
     "text": [
      "              precision    recall  f1-score   support\n",
      "\n",
      "           0       0.88      0.97      0.92       345\n",
      "           1       0.75      0.45      0.56       153\n",
      "           2       0.93      0.94      0.93       234\n",
      "           3       0.89      0.81      0.85       309\n",
      "           4       0.88      0.79      0.83       145\n",
      "           5       0.81      0.88      0.84       293\n",
      "           6       0.81      0.93      0.86       240\n",
      "           7       0.70      0.96      0.81        54\n",
      "           8       0.99      0.98      0.98       854\n",
      "           9       0.99      0.95      0.97       280\n",
      "\n",
      "    accuracy                           0.90      2907\n",
      "   macro avg       0.86      0.87      0.86      2907\n",
      "weighted avg       0.90      0.90      0.90      2907\n",
      "\n",
      "[[333   2   4   1   0   3   2   0   0   0]\n",
      " [ 26  69   2  25   1   7  16   1   6   0]\n",
      " [  0   0 219   2   0   0  12   1   0   0]\n",
      " [  4  15   6 251   7  20   1   5   0   0]\n",
      " [  1   3   0   1 115  20   3   1   1   0]\n",
      " [  1   1   1   2   6 258  14  10   0   0]\n",
      " [  2   2   4   0   0   7 224   1   0   0]\n",
      " [  0   0   0   0   1   1   0  52   0   0]\n",
      " [ 11   0   0   1   0   2   1   0 836   3]\n",
      " [  0   0   0   0   1   0   5   3   5 266]]\n"
     ]
    }
   ],
   "source": [
    "print(classification_report(label, pred))\n",
    "print(confusion_matrix(label, pred))"
   ]
  },
  {
   "cell_type": "code",
   "execution_count": null,
   "id": "d65b57b0",
   "metadata": {},
   "outputs": [],
   "source": []
  }
 ],
 "metadata": {
  "kernelspec": {
   "display_name": "Python 3 (ipykernel)",
   "language": "python",
   "name": "python3"
  },
  "language_info": {
   "codemirror_mode": {
    "name": "ipython",
    "version": 3
   },
   "file_extension": ".py",
   "mimetype": "text/x-python",
   "name": "python",
   "nbconvert_exporter": "python",
   "pygments_lexer": "ipython3",
   "version": "3.9.12"
  }
 },
 "nbformat": 4,
 "nbformat_minor": 5
}
