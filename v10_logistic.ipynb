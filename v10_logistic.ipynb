{
 "cells": [
  {
   "cell_type": "code",
   "execution_count": 1,
   "id": "3daced93",
   "metadata": {},
   "outputs": [],
   "source": [
    "import numpy as np #importing numpy\n",
    "import pandas as pd #importing pandas\n",
    "import PIL #importing pillow for image processing\n",
    "from PIL import Image#importing image from pillow library\n",
    "import skimage#importing skimage library\n",
    "import os#importing os library\n",
    "import time#importing time library\n",
    "\n",
    "#Capture start time of the program\n",
    "start_time = time.time()"
   ]
  },
  {
   "cell_type": "markdown",
   "id": "f099cbaa",
   "metadata": {},
   "source": [
    "# Logistic regression on grayscale data"
   ]
  },
  {
   "cell_type": "code",
   "execution_count": 2,
   "id": "dcef155e",
   "metadata": {},
   "outputs": [],
   "source": [
    "#changing the directory\n",
    "os.chdir('D://DKIT//dissertation//Dataset_of_Tomato Leaves//plantvillage//Preprocessed_data//datasets_after_cleaning//')"
   ]
  },
  {
   "cell_type": "code",
   "execution_count": 3,
   "id": "7b0f0644",
   "metadata": {},
   "outputs": [],
   "source": [
    "#reading numpy array data\n",
    "gray_test = np.load('gray_test.npy')\n",
    "#reading csv file\n",
    "gray_df = pd.read_csv('gray_data.csv')"
   ]
  },
  {
   "cell_type": "code",
   "execution_count": 4,
   "id": "561b8cf7",
   "metadata": {},
   "outputs": [],
   "source": [
    "loaded = []\n",
    "for i in gray_test:\n",
    "    k = []\n",
    "    k = np.asarray(i,dtype='uint8')\n",
    "    loaded.append(k)"
   ]
  },
  {
   "cell_type": "code",
   "execution_count": 5,
   "id": "738a6a49",
   "metadata": {},
   "outputs": [],
   "source": [
    "features = loaded\n",
    "target = gray_df['disease']\n",
    "from sklearn.linear_model import LogisticRegression\n",
    "from sklearn.model_selection import train_test_split\n",
    "Ftrain,Ftest,Ltrain,Ltest=train_test_split(features,target, test_size=0.20, random_state=24)\n",
    "from sklearn.preprocessing import StandardScaler\n",
    "scaler = StandardScaler()\n",
    "scaler.fit(Ftrain)\n",
    "Ftrain = scaler.transform(Ftrain)\n",
    "Ftest = scaler.transform(Ftest)"
   ]
  },
  {
   "cell_type": "code",
   "execution_count": 6,
   "id": "982cfbbf",
   "metadata": {},
   "outputs": [
    {
     "data": {
      "text/plain": [
       "0.34649122807017546"
      ]
     },
     "execution_count": 6,
     "metadata": {},
     "output_type": "execute_result"
    }
   ],
   "source": [
    "model=LogisticRegression(solver='lbfgs', max_iter=10000)\n",
    "model.fit(Ftrain,Ltrain)\n",
    "model.score(Ftest,Ltest)"
   ]
  },
  {
   "cell_type": "code",
   "execution_count": 7,
   "id": "1ef1c6ad",
   "metadata": {},
   "outputs": [],
   "source": [
    "lists = [gray_test,gray_df]\n",
    "del lists"
   ]
  },
  {
   "cell_type": "markdown",
   "id": "d86df83d",
   "metadata": {},
   "source": [
    "# Applying logistic on rgb data"
   ]
  },
  {
   "cell_type": "code",
   "execution_count": 8,
   "id": "c68bbe84",
   "metadata": {},
   "outputs": [],
   "source": [
    "#reading numpy array data\n",
    "rgb = np.load('rgb_data.npy')\n",
    "#reading csv file\n",
    "rgb_df = pd.read_csv('rgb_data.csv')"
   ]
  },
  {
   "cell_type": "code",
   "execution_count": 9,
   "id": "436fb577",
   "metadata": {},
   "outputs": [],
   "source": [
    "loaded = []\n",
    "for i in rgb:\n",
    "    k = []\n",
    "    k = np.asarray(i,dtype='uint8')\n",
    "    loaded.append(k)"
   ]
  },
  {
   "cell_type": "code",
   "execution_count": 10,
   "id": "06e63bde",
   "metadata": {},
   "outputs": [],
   "source": [
    "features = loaded\n",
    "target = rgb_df['disease']\n",
    "from sklearn.linear_model import LogisticRegression\n",
    "from sklearn.model_selection import train_test_split\n",
    "Ftrain,Ftest,Ltrain,Ltest=train_test_split(features,target, test_size=0.20, random_state=24)\n",
    "from sklearn.preprocessing import StandardScaler\n",
    "scaler = StandardScaler()\n",
    "scaler.fit(Ftrain)\n",
    "Ftrain = scaler.transform(Ftrain)\n",
    "Ftest = scaler.transform(Ftest)"
   ]
  },
  {
   "cell_type": "code",
   "execution_count": null,
   "id": "ac246895",
   "metadata": {},
   "outputs": [],
   "source": [
    "model.fit(Ftrain,Ltrain)\n",
    "model.score(Ftest,Ltest)"
   ]
  },
  {
   "cell_type": "code",
   "execution_count": null,
   "id": "f82c6802",
   "metadata": {},
   "outputs": [],
   "source": [
    "lists = [rgb,rgb_df]\n",
    "del lists"
   ]
  },
  {
   "cell_type": "markdown",
   "id": "c35f0552",
   "metadata": {},
   "source": [
    "# Applying logistic on red data"
   ]
  },
  {
   "cell_type": "code",
   "execution_count": null,
   "id": "50104e30",
   "metadata": {},
   "outputs": [],
   "source": [
    "red = np.load('red_data.npy')\n",
    "#reading csv file\n",
    "red_df = pd.read_csv('red_data.csv')"
   ]
  },
  {
   "cell_type": "code",
   "execution_count": null,
   "id": "38c2acde",
   "metadata": {},
   "outputs": [],
   "source": [
    "loaded = []\n",
    "for i in red:\n",
    "    k = []\n",
    "    k = np.asarray(i,dtype='uint8')\n",
    "    loaded.append(k)"
   ]
  },
  {
   "cell_type": "code",
   "execution_count": null,
   "id": "c8b2f525",
   "metadata": {},
   "outputs": [],
   "source": [
    "features = loaded\n",
    "target = red_df['disease']\n",
    "from sklearn.linear_model import LogisticRegression\n",
    "from sklearn.model_selection import train_test_split\n",
    "Ftrain,Ftest,Ltrain,Ltest=train_test_split(features,target, test_size=0.20, random_state=24)\n",
    "from sklearn.preprocessing import StandardScaler\n",
    "scaler = StandardScaler()\n",
    "scaler.fit(Ftrain)\n",
    "Ftrain = scaler.transform(Ftrain)\n",
    "Ftest = scaler.transform(Ftest)"
   ]
  },
  {
   "cell_type": "code",
   "execution_count": null,
   "id": "c4003129",
   "metadata": {},
   "outputs": [],
   "source": [
    "model.fit(Ftrain,Ltrain)\n",
    "model.score(Ftest,Ltest)"
   ]
  },
  {
   "cell_type": "code",
   "execution_count": null,
   "id": "556fbfa6",
   "metadata": {},
   "outputs": [],
   "source": [
    "lists = [red,red_df]\n",
    "del lists"
   ]
  },
  {
   "cell_type": "markdown",
   "id": "e384ce6c",
   "metadata": {},
   "source": [
    "# Applying logistic on blue data"
   ]
  },
  {
   "cell_type": "code",
   "execution_count": null,
   "id": "9c00968a",
   "metadata": {},
   "outputs": [],
   "source": [
    "blue = np.load('blue_data.npy')\n",
    "#reading csv file\n",
    "blue_df = pd.read_csv('blue_data.csv')"
   ]
  },
  {
   "cell_type": "code",
   "execution_count": null,
   "id": "d76031f2",
   "metadata": {},
   "outputs": [],
   "source": [
    "loaded = []\n",
    "for i in blue:\n",
    "    k = []\n",
    "    k = np.asarray(i,dtype='uint8')\n",
    "    loaded.append(k)"
   ]
  },
  {
   "cell_type": "code",
   "execution_count": null,
   "id": "106386bf",
   "metadata": {},
   "outputs": [],
   "source": [
    "features = loaded\n",
    "target = blue_df['disease']\n",
    "from sklearn.linear_model import LogisticRegression\n",
    "from sklearn.model_selection import train_test_split\n",
    "Ftrain,Ftest,Ltrain,Ltest=train_test_split(features,target, test_size=0.20, random_state=24)\n",
    "from sklearn.preprocessing import StandardScaler\n",
    "scaler = StandardScaler()\n",
    "scaler.fit(Ftrain)\n",
    "Ftrain = scaler.transform(Ftrain)\n",
    "Ftest = scaler.transform(Ftest)"
   ]
  },
  {
   "cell_type": "code",
   "execution_count": null,
   "id": "794ac8d2",
   "metadata": {},
   "outputs": [],
   "source": [
    "model.fit(Ftrain,Ltrain)\n",
    "model.score(Ftest,Ltest)"
   ]
  },
  {
   "cell_type": "code",
   "execution_count": null,
   "id": "f35e15b4",
   "metadata": {},
   "outputs": [],
   "source": [
    "lists = [blue,blue_df]\n",
    "del lists"
   ]
  },
  {
   "cell_type": "markdown",
   "id": "e9e67ca6",
   "metadata": {},
   "source": [
    "# Applying logistic on green data"
   ]
  },
  {
   "cell_type": "code",
   "execution_count": null,
   "id": "b4630cb9",
   "metadata": {},
   "outputs": [],
   "source": [
    "green = np.load('green_data.npy')\n",
    "#reading csv file\n",
    "green_df = pd.read_csv('green_data.csv')"
   ]
  },
  {
   "cell_type": "code",
   "execution_count": null,
   "id": "b3c6860e",
   "metadata": {},
   "outputs": [],
   "source": [
    "loaded = []\n",
    "for i in green:\n",
    "    k = []\n",
    "    k = np.asarray(i,dtype='uint8')\n",
    "    loaded.append(k)"
   ]
  },
  {
   "cell_type": "code",
   "execution_count": null,
   "id": "cdd33989",
   "metadata": {},
   "outputs": [],
   "source": [
    "features = loaded\n",
    "target = green_df['disease']\n",
    "from sklearn.linear_model import LogisticRegression\n",
    "from sklearn.model_selection import train_test_split\n",
    "Ftrain,Ftest,Ltrain,Ltest=train_test_split(features,target, test_size=0.20, random_state=24)\n",
    "from sklearn.preprocessing import StandardScaler\n",
    "scaler = StandardScaler()\n",
    "scaler.fit(Ftrain)\n",
    "Ftrain = scaler.transform(Ftrain)\n",
    "Ftest = scaler.transform(Ftest)"
   ]
  },
  {
   "cell_type": "code",
   "execution_count": null,
   "id": "ad66445e",
   "metadata": {},
   "outputs": [],
   "source": [
    "model.fit(Ftrain,Ltrain)\n",
    "model.score(Ftest,Ltest)"
   ]
  },
  {
   "cell_type": "code",
   "execution_count": null,
   "id": "47430469",
   "metadata": {},
   "outputs": [],
   "source": [
    "lists = [green,green_df]\n",
    "del lists"
   ]
  },
  {
   "cell_type": "code",
   "execution_count": null,
   "id": "8cf2803d",
   "metadata": {},
   "outputs": [],
   "source": [
    "end_time = time.time()\n",
    "\n",
    "Total_time = end_time - start_time"
   ]
  }
 ],
 "metadata": {
  "kernelspec": {
   "display_name": "Python 3 (ipykernel)",
   "language": "python",
   "name": "python3"
  },
  "language_info": {
   "codemirror_mode": {
    "name": "ipython",
    "version": 3
   },
   "file_extension": ".py",
   "mimetype": "text/x-python",
   "name": "python",
   "nbconvert_exporter": "python",
   "pygments_lexer": "ipython3",
   "version": "3.9.7"
  }
 },
 "nbformat": 4,
 "nbformat_minor": 5
}
