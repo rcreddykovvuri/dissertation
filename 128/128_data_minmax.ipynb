{
 "cells": [
  {
   "cell_type": "code",
   "execution_count": 1,
   "id": "bcdb1517",
   "metadata": {},
   "outputs": [],
   "source": [
    "import numpy as np #importing numpy\n",
    "import pandas as pd #importing pandas\n",
    "import PIL #importing pillow for image processing\n",
    "from PIL import Image#importing image from pillow library\n",
    "import skimage#importing skimage library\n",
    "import os#importing os library\n",
    "import time#importing time library\n",
    "\n",
    "#Capture start time of the program\n",
    "start_time = time.time()"
   ]
  },
  {
   "cell_type": "code",
   "execution_count": 2,
   "id": "9ec45970",
   "metadata": {},
   "outputs": [],
   "source": [
    "os.chdir('D://DKIT//dissertation//Dataset_of_Tomato_Leaves//plantvillage//Preprocessed_data//128//vector//')"
   ]
  },
  {
   "cell_type": "code",
   "execution_count": 3,
   "id": "cbc71f85",
   "metadata": {},
   "outputs": [
    {
     "name": "stderr",
     "output_type": "stream",
     "text": [
      "C:\\Users\\ravic\\anaconda3\\lib\\site-packages\\scipy\\__init__.py:146: UserWarning: A NumPy version >=1.16.5 and <1.23.0 is required for this version of SciPy (detected version 1.23.1\n",
      "  warnings.warn(f\"A NumPy version >={np_minversion} and <{np_maxversion}\"\n"
     ]
    }
   ],
   "source": [
    "#importing classification report and confusion matrix\n",
    "from sklearn.metrics import classification_report, confusion_matrix"
   ]
  },
  {
   "cell_type": "markdown",
   "id": "7139bf53",
   "metadata": {},
   "source": [
    "# KNN on rgb data"
   ]
  },
  {
   "cell_type": "code",
   "execution_count": 4,
   "id": "9386938c",
   "metadata": {},
   "outputs": [],
   "source": [
    "#reading numpy array data\n",
    "rgb_test = np.load('rgb_data.npy')\n",
    "#reading csv file\n",
    "rgb_df = pd.read_csv('rgb_data.csv')"
   ]
  },
  {
   "cell_type": "code",
   "execution_count": 5,
   "id": "4f95f2f6",
   "metadata": {},
   "outputs": [],
   "source": [
    "loaded = []\n",
    "for i in rgb_test:\n",
    "    k = []\n",
    "    k = np.asarray(i,dtype='uint8')\n",
    "    loaded.append(k)"
   ]
  },
  {
   "cell_type": "code",
   "execution_count": 6,
   "id": "c6d5658c",
   "metadata": {},
   "outputs": [],
   "source": [
    "features = loaded\n",
    "target = rgb_df['disease']\n",
    "from sklearn.preprocessing import MinMaxScaler\n",
    "minmax = MinMaxScaler()\n",
    "from sklearn.model_selection import train_test_split\n",
    "Ftrain,Ftest,Ltrain,Ltest=train_test_split(features,target, test_size=0.20, random_state=24)"
   ]
  },
  {
   "cell_type": "code",
   "execution_count": 7,
   "id": "8cc86824",
   "metadata": {},
   "outputs": [],
   "source": [
    "Ftrain = minmax.fit_transform(Ftrain)\n",
    "Ftest = minmax.fit_transform(Ftest)"
   ]
  },
  {
   "cell_type": "code",
   "execution_count": 8,
   "id": "6f1171c6",
   "metadata": {},
   "outputs": [],
   "source": [
    "from sklearn.neighbors import KNeighborsClassifier\n",
    "kmodel = KNeighborsClassifier(n_neighbors=120)"
   ]
  },
  {
   "cell_type": "code",
   "execution_count": 9,
   "id": "b9fdc978",
   "metadata": {},
   "outputs": [
    {
     "data": {
      "text/plain": [
       "0.5170278637770898"
      ]
     },
     "execution_count": 9,
     "metadata": {},
     "output_type": "execute_result"
    }
   ],
   "source": [
    "kmodel.fit(Ftrain,Ltrain)\n",
    "kmodel.score(Ftest,Ltest)"
   ]
  },
  {
   "cell_type": "code",
   "execution_count": 10,
   "id": "cc56686d",
   "metadata": {},
   "outputs": [
    {
     "name": "stdout",
     "output_type": "stream",
     "text": [
      "                               precision    recall  f1-score   support\n",
      "\n",
      "               bacterial_spot       0.34      0.79      0.48       345\n",
      "                 early_blight       0.00      0.00      0.00       153\n",
      "                      healthy       0.33      0.77      0.47       234\n",
      "                  late_blight       0.41      0.39      0.40       309\n",
      "                    leaf_mold       0.69      0.44      0.54       145\n",
      "           septoria_leaf_spot       0.63      0.28      0.38       293\n",
      "                  target_spot       0.53      0.11      0.19       240\n",
      "          tomato_mosaic_virus       0.00      0.00      0.00        54\n",
      "tomato_yellow_leaf_curl_virus       0.81      0.74      0.78       854\n",
      "      two-spotted_spider_mite       0.56      0.43      0.49       280\n",
      "\n",
      "                     accuracy                           0.52      2907\n",
      "                    macro avg       0.43      0.40      0.37      2907\n",
      "                 weighted avg       0.55      0.52      0.49      2907\n",
      "\n",
      "[[273   0  40  14   0   0   0   0  17   1]\n",
      " [ 97   0  16   5   1   5   9   0  14   6]\n",
      " [ 21   0 180  26   0   0   2   0   1   4]\n",
      " [ 52   0  64 122  14  27   2   0  22   6]\n",
      " [ 18   0  23  28  64   0   0   0   8   4]\n",
      " [ 27   0  63  50  12  81   6   0  39  15]\n",
      " [100   0  65   9   0   7  27   0   5  27]\n",
      " [  5   0  12  18   2   2   0   0   5  10]\n",
      " [133   0  49   9   0   5   2   0 635  21]\n",
      " [ 73   0  28  20   0   1   3   0  34 121]]\n"
     ]
    },
    {
     "name": "stderr",
     "output_type": "stream",
     "text": [
      "C:\\Users\\ravic\\anaconda3\\lib\\site-packages\\sklearn\\metrics\\_classification.py:1327: UndefinedMetricWarning: Precision and F-score are ill-defined and being set to 0.0 in labels with no predicted samples. Use `zero_division` parameter to control this behavior.\n",
      "  _warn_prf(average, modifier, msg_start, len(result))\n",
      "C:\\Users\\ravic\\anaconda3\\lib\\site-packages\\sklearn\\metrics\\_classification.py:1327: UndefinedMetricWarning: Precision and F-score are ill-defined and being set to 0.0 in labels with no predicted samples. Use `zero_division` parameter to control this behavior.\n",
      "  _warn_prf(average, modifier, msg_start, len(result))\n",
      "C:\\Users\\ravic\\anaconda3\\lib\\site-packages\\sklearn\\metrics\\_classification.py:1327: UndefinedMetricWarning: Precision and F-score are ill-defined and being set to 0.0 in labels with no predicted samples. Use `zero_division` parameter to control this behavior.\n",
      "  _warn_prf(average, modifier, msg_start, len(result))\n"
     ]
    }
   ],
   "source": [
    "#printing results of the kmodel\n",
    "y_predict = kmodel.fit(Ftrain, Ltrain).predict(Ftest)\n",
    "class_names = target.unique()\n",
    "print(classification_report(Ltest, y_predict, target_names=class_names))\n",
    "print(confusion_matrix(Ltest, y_predict))"
   ]
  },
  {
   "cell_type": "markdown",
   "id": "d5c58638",
   "metadata": {},
   "source": [
    "# Logistic on rgb data"
   ]
  },
  {
   "cell_type": "code",
   "execution_count": 11,
   "id": "a84836ef",
   "metadata": {},
   "outputs": [
    {
     "name": "stderr",
     "output_type": "stream",
     "text": [
      "C:\\Users\\ravic\\anaconda3\\lib\\site-packages\\sklearn\\linear_model\\_logistic.py:444: ConvergenceWarning: lbfgs failed to converge (status=1):\n",
      "STOP: TOTAL NO. of ITERATIONS REACHED LIMIT.\n",
      "\n",
      "Increase the number of iterations (max_iter) or scale the data as shown in:\n",
      "    https://scikit-learn.org/stable/modules/preprocessing.html\n",
      "Please also refer to the documentation for alternative solver options:\n",
      "    https://scikit-learn.org/stable/modules/linear_model.html#logistic-regression\n",
      "  n_iter_i = _check_optimize_result(\n"
     ]
    },
    {
     "data": {
      "text/plain": [
       "0.7368421052631579"
      ]
     },
     "execution_count": 11,
     "metadata": {},
     "output_type": "execute_result"
    }
   ],
   "source": [
    "from sklearn.linear_model import LogisticRegression\n",
    "model=LogisticRegression(solver='lbfgs', max_iter=10000)\n",
    "model.fit(Ftrain,Ltrain)\n",
    "model.score(Ftest,Ltest)"
   ]
  },
  {
   "cell_type": "code",
   "execution_count": 12,
   "id": "a1f10c9f",
   "metadata": {},
   "outputs": [
    {
     "name": "stderr",
     "output_type": "stream",
     "text": [
      "C:\\Users\\ravic\\anaconda3\\lib\\site-packages\\sklearn\\linear_model\\_logistic.py:444: ConvergenceWarning: lbfgs failed to converge (status=1):\n",
      "STOP: TOTAL NO. of ITERATIONS REACHED LIMIT.\n",
      "\n",
      "Increase the number of iterations (max_iter) or scale the data as shown in:\n",
      "    https://scikit-learn.org/stable/modules/preprocessing.html\n",
      "Please also refer to the documentation for alternative solver options:\n",
      "    https://scikit-learn.org/stable/modules/linear_model.html#logistic-regression\n",
      "  n_iter_i = _check_optimize_result(\n"
     ]
    },
    {
     "name": "stdout",
     "output_type": "stream",
     "text": [
      "                               precision    recall  f1-score   support\n",
      "\n",
      "               bacterial_spot       0.71      0.78      0.74       345\n",
      "                 early_blight       0.40      0.41      0.40       153\n",
      "                      healthy       0.76      0.73      0.74       234\n",
      "                  late_blight       0.61      0.67      0.64       309\n",
      "                    leaf_mold       0.65      0.68      0.67       145\n",
      "           septoria_leaf_spot       0.74      0.69      0.72       293\n",
      "                  target_spot       0.66      0.56      0.60       240\n",
      "          tomato_mosaic_virus       0.78      0.65      0.71        54\n",
      "tomato_yellow_leaf_curl_virus       0.92      0.89      0.91       854\n",
      "      two-spotted_spider_mite       0.67      0.71      0.69       280\n",
      "\n",
      "                     accuracy                           0.74      2907\n",
      "                    macro avg       0.69      0.68      0.68      2907\n",
      "                 weighted avg       0.74      0.74      0.74      2907\n",
      "\n",
      "[[270  18   5  25   0   3   4   0  19   1]\n",
      " [ 25  63   3  26   0   7   9   1   6  13]\n",
      " [  1  12 170  23   6   3  13   0   0   6]\n",
      " [ 17  25  14 208  10   8   2   0  12  13]\n",
      " [  2   9   1   5  99  17   2   0   4   6]\n",
      " [  7   8   6  11  20 203  14   7   9   8]\n",
      " [  8  11  20   8   4  17 134   0   1  37]\n",
      " [  0   0   0   0   5   9   2  35   0   3]\n",
      " [ 35   8   0  22   4   4   7   0 761  13]\n",
      " [ 17   5   6  15   4   3  17   2  12 199]]\n"
     ]
    }
   ],
   "source": [
    "#classification report\n",
    "y_predict = model.fit(Ftrain, Ltrain).predict(Ftest)\n",
    "class_names = target.unique()\n",
    "print(classification_report(Ltest, y_predict, target_names=class_names))\n",
    "print(confusion_matrix(Ltest, y_predict))"
   ]
  },
  {
   "cell_type": "markdown",
   "id": "6fe194bc",
   "metadata": {},
   "source": [
    "# SVM on RGB data"
   ]
  },
  {
   "cell_type": "code",
   "execution_count": 13,
   "id": "2427ed51",
   "metadata": {},
   "outputs": [
    {
     "name": "stdout",
     "output_type": "stream",
     "text": [
      "0.7726178190574475\n"
     ]
    }
   ],
   "source": [
    "from sklearn.svm import SVC\n",
    "from sklearn.metrics import accuracy_score\n",
    "\n",
    "clf = SVC(kernel='linear')\n",
    "clf.fit(Ftrain,Ltrain)\n",
    "y_pred = clf.predict(Ftest)\n",
    "print(accuracy_score(Ltest,y_pred))"
   ]
  },
  {
   "cell_type": "code",
   "execution_count": 14,
   "id": "4103cc2e",
   "metadata": {},
   "outputs": [
    {
     "name": "stdout",
     "output_type": "stream",
     "text": [
      "                               precision    recall  f1-score   support\n",
      "\n",
      "               bacterial_spot       0.71      0.86      0.78       345\n",
      "                 early_blight       0.43      0.39      0.41       153\n",
      "                      healthy       0.79      0.83      0.81       234\n",
      "                  late_blight       0.69      0.72      0.71       309\n",
      "                    leaf_mold       0.70      0.70      0.70       145\n",
      "           septoria_leaf_spot       0.75      0.72      0.74       293\n",
      "                  target_spot       0.69      0.63      0.66       240\n",
      "          tomato_mosaic_virus       0.82      0.74      0.78        54\n",
      "tomato_yellow_leaf_curl_virus       0.94      0.90      0.92       854\n",
      "      two-spotted_spider_mite       0.74      0.70      0.72       280\n",
      "\n",
      "                     accuracy                           0.77      2907\n",
      "                    macro avg       0.73      0.72      0.72      2907\n",
      "                 weighted avg       0.77      0.77      0.77      2907\n",
      "\n",
      "[[297  17   2  15   0   1   0   0  13   0]\n",
      " [ 34  60   3  24   0   5  12   0   4  11]\n",
      " [  2   6 195  12   2   5  10   0   0   2]\n",
      " [ 16  16  13 223  15   7   1   0  10   8]\n",
      " [  6   2   4   4 102  18   1   1   5   2]\n",
      " [  7   6  10  11  16 211  15   6   6   5]\n",
      " [  4  21  14   2   3  15 152   1   0  28]\n",
      " [  0   0   0   1   3   8   1  40   0   1]\n",
      " [ 43   8   0  17   0   4   1   0 771  10]\n",
      " [  8   5   7  12   4   6  28   1  14 195]]\n"
     ]
    }
   ],
   "source": [
    "#classification report\n",
    "y_predict = clf.fit(Ftrain, Ltrain).predict(Ftest)\n",
    "class_names = target.unique()\n",
    "print(classification_report(Ltest, y_predict, target_names=class_names))\n",
    "print(confusion_matrix(Ltest, y_predict))"
   ]
  },
  {
   "cell_type": "markdown",
   "id": "73bef6fa",
   "metadata": {},
   "source": [
    "# Random Forest on RGB "
   ]
  },
  {
   "cell_type": "code",
   "execution_count": 15,
   "id": "6bae5a92",
   "metadata": {},
   "outputs": [],
   "source": [
    "from sklearn.ensemble import RandomForestClassifier"
   ]
  },
  {
   "cell_type": "code",
   "execution_count": 16,
   "id": "1d08a15e",
   "metadata": {},
   "outputs": [],
   "source": [
    "classifier_rf = RandomForestClassifier(random_state=42, n_jobs=-1, max_depth=5,n_estimators=100, oob_score=True)"
   ]
  },
  {
   "cell_type": "code",
   "execution_count": 17,
   "id": "938ad007",
   "metadata": {},
   "outputs": [
    {
     "data": {
      "text/html": [
       "<style>#sk-container-id-1 {color: black;background-color: white;}#sk-container-id-1 pre{padding: 0;}#sk-container-id-1 div.sk-toggleable {background-color: white;}#sk-container-id-1 label.sk-toggleable__label {cursor: pointer;display: block;width: 100%;margin-bottom: 0;padding: 0.3em;box-sizing: border-box;text-align: center;}#sk-container-id-1 label.sk-toggleable__label-arrow:before {content: \"▸\";float: left;margin-right: 0.25em;color: #696969;}#sk-container-id-1 label.sk-toggleable__label-arrow:hover:before {color: black;}#sk-container-id-1 div.sk-estimator:hover label.sk-toggleable__label-arrow:before {color: black;}#sk-container-id-1 div.sk-toggleable__content {max-height: 0;max-width: 0;overflow: hidden;text-align: left;background-color: #f0f8ff;}#sk-container-id-1 div.sk-toggleable__content pre {margin: 0.2em;color: black;border-radius: 0.25em;background-color: #f0f8ff;}#sk-container-id-1 input.sk-toggleable__control:checked~div.sk-toggleable__content {max-height: 200px;max-width: 100%;overflow: auto;}#sk-container-id-1 input.sk-toggleable__control:checked~label.sk-toggleable__label-arrow:before {content: \"▾\";}#sk-container-id-1 div.sk-estimator input.sk-toggleable__control:checked~label.sk-toggleable__label {background-color: #d4ebff;}#sk-container-id-1 div.sk-label input.sk-toggleable__control:checked~label.sk-toggleable__label {background-color: #d4ebff;}#sk-container-id-1 input.sk-hidden--visually {border: 0;clip: rect(1px 1px 1px 1px);clip: rect(1px, 1px, 1px, 1px);height: 1px;margin: -1px;overflow: hidden;padding: 0;position: absolute;width: 1px;}#sk-container-id-1 div.sk-estimator {font-family: monospace;background-color: #f0f8ff;border: 1px dotted black;border-radius: 0.25em;box-sizing: border-box;margin-bottom: 0.5em;}#sk-container-id-1 div.sk-estimator:hover {background-color: #d4ebff;}#sk-container-id-1 div.sk-parallel-item::after {content: \"\";width: 100%;border-bottom: 1px solid gray;flex-grow: 1;}#sk-container-id-1 div.sk-label:hover label.sk-toggleable__label {background-color: #d4ebff;}#sk-container-id-1 div.sk-serial::before {content: \"\";position: absolute;border-left: 1px solid gray;box-sizing: border-box;top: 0;bottom: 0;left: 50%;z-index: 0;}#sk-container-id-1 div.sk-serial {display: flex;flex-direction: column;align-items: center;background-color: white;padding-right: 0.2em;padding-left: 0.2em;position: relative;}#sk-container-id-1 div.sk-item {position: relative;z-index: 1;}#sk-container-id-1 div.sk-parallel {display: flex;align-items: stretch;justify-content: center;background-color: white;position: relative;}#sk-container-id-1 div.sk-item::before, #sk-container-id-1 div.sk-parallel-item::before {content: \"\";position: absolute;border-left: 1px solid gray;box-sizing: border-box;top: 0;bottom: 0;left: 50%;z-index: -1;}#sk-container-id-1 div.sk-parallel-item {display: flex;flex-direction: column;z-index: 1;position: relative;background-color: white;}#sk-container-id-1 div.sk-parallel-item:first-child::after {align-self: flex-end;width: 50%;}#sk-container-id-1 div.sk-parallel-item:last-child::after {align-self: flex-start;width: 50%;}#sk-container-id-1 div.sk-parallel-item:only-child::after {width: 0;}#sk-container-id-1 div.sk-dashed-wrapped {border: 1px dashed gray;margin: 0 0.4em 0.5em 0.4em;box-sizing: border-box;padding-bottom: 0.4em;background-color: white;}#sk-container-id-1 div.sk-label label {font-family: monospace;font-weight: bold;display: inline-block;line-height: 1.2em;}#sk-container-id-1 div.sk-label-container {text-align: center;}#sk-container-id-1 div.sk-container {/* jupyter's `normalize.less` sets `[hidden] { display: none; }` but bootstrap.min.css set `[hidden] { display: none !important; }` so we also need the `!important` here to be able to override the default hidden behavior on the sphinx rendered scikit-learn.org. See: https://github.com/scikit-learn/scikit-learn/issues/21755 */display: inline-block !important;position: relative;}#sk-container-id-1 div.sk-text-repr-fallback {display: none;}</style><div id=\"sk-container-id-1\" class=\"sk-top-container\"><div class=\"sk-text-repr-fallback\"><pre>RandomForestClassifier(max_depth=5, n_jobs=-1, oob_score=True, random_state=42)</pre><b>In a Jupyter environment, please rerun this cell to show the HTML representation or trust the notebook. <br />On GitHub, the HTML representation is unable to render, please try loading this page with nbviewer.org.</b></div><div class=\"sk-container\" hidden><div class=\"sk-item\"><div class=\"sk-estimator sk-toggleable\"><input class=\"sk-toggleable__control sk-hidden--visually\" id=\"sk-estimator-id-1\" type=\"checkbox\" checked><label for=\"sk-estimator-id-1\" class=\"sk-toggleable__label sk-toggleable__label-arrow\">RandomForestClassifier</label><div class=\"sk-toggleable__content\"><pre>RandomForestClassifier(max_depth=5, n_jobs=-1, oob_score=True, random_state=42)</pre></div></div></div></div></div>"
      ],
      "text/plain": [
       "RandomForestClassifier(max_depth=5, n_jobs=-1, oob_score=True, random_state=42)"
      ]
     },
     "execution_count": 17,
     "metadata": {},
     "output_type": "execute_result"
    }
   ],
   "source": [
    "classifier_rf.fit(Ftrain, Ltrain)"
   ]
  },
  {
   "cell_type": "code",
   "execution_count": 18,
   "id": "e1769cec",
   "metadata": {},
   "outputs": [
    {
     "data": {
      "text/plain": [
       "0.5524776324845148"
      ]
     },
     "execution_count": 18,
     "metadata": {},
     "output_type": "execute_result"
    }
   ],
   "source": [
    "classifier_rf.oob_score_"
   ]
  },
  {
   "cell_type": "code",
   "execution_count": 19,
   "id": "c144f9db",
   "metadata": {},
   "outputs": [
    {
     "name": "stdout",
     "output_type": "stream",
     "text": [
      "                               precision    recall  f1-score   support\n",
      "\n",
      "               bacterial_spot       0.81      0.60      0.69       345\n",
      "                 early_blight       0.00      0.00      0.00       153\n",
      "                      healthy       0.58      0.85      0.69       234\n",
      "                  late_blight       0.70      0.42      0.53       309\n",
      "                    leaf_mold       0.77      0.37      0.50       145\n",
      "           septoria_leaf_spot       0.51      0.57      0.54       293\n",
      "                  target_spot       0.43      0.35      0.38       240\n",
      "          tomato_mosaic_virus       0.00      0.00      0.00        54\n",
      "tomato_yellow_leaf_curl_virus       0.55      0.97      0.70       854\n",
      "      two-spotted_spider_mite       0.86      0.09      0.16       280\n",
      "\n",
      "                     accuracy                           0.58      2907\n",
      "                    macro avg       0.52      0.42      0.42      2907\n",
      "                 weighted avg       0.59      0.58      0.52      2907\n",
      "\n",
      "[[207   0  25  12   0   0   6   0  95   0]\n",
      " [ 14   0   9   5   0  21  15   0  88   1]\n",
      " [  2   0 198   1   1   1   7   0  24   0]\n",
      " [  4   0  33 131   7  47  18   0  69   0]\n",
      " [  5   0  24   6  54  21   6   0  28   1]\n",
      " [  3   0  12  15   6 166   4   0  87   0]\n",
      " [  7   0  22   6   0  44  83   0  76   2]\n",
      " [  0   0   6   2   2   7   2   0  35   0]\n",
      " [  6   0   7   3   0   9   4   0 825   0]\n",
      " [  9   0   6   5   0  10  49   0 177  24]]\n"
     ]
    },
    {
     "name": "stderr",
     "output_type": "stream",
     "text": [
      "C:\\Users\\ravic\\anaconda3\\lib\\site-packages\\sklearn\\metrics\\_classification.py:1327: UndefinedMetricWarning: Precision and F-score are ill-defined and being set to 0.0 in labels with no predicted samples. Use `zero_division` parameter to control this behavior.\n",
      "  _warn_prf(average, modifier, msg_start, len(result))\n",
      "C:\\Users\\ravic\\anaconda3\\lib\\site-packages\\sklearn\\metrics\\_classification.py:1327: UndefinedMetricWarning: Precision and F-score are ill-defined and being set to 0.0 in labels with no predicted samples. Use `zero_division` parameter to control this behavior.\n",
      "  _warn_prf(average, modifier, msg_start, len(result))\n",
      "C:\\Users\\ravic\\anaconda3\\lib\\site-packages\\sklearn\\metrics\\_classification.py:1327: UndefinedMetricWarning: Precision and F-score are ill-defined and being set to 0.0 in labels with no predicted samples. Use `zero_division` parameter to control this behavior.\n",
      "  _warn_prf(average, modifier, msg_start, len(result))\n"
     ]
    }
   ],
   "source": [
    "y_predict = classifier_rf.fit(Ftrain, Ltrain).predict(Ftest)\n",
    "class_names = target.unique()\n",
    "print(classification_report(Ltest, y_predict, target_names=class_names))\n",
    "print(confusion_matrix(Ltest, y_predict))"
   ]
  },
  {
   "cell_type": "markdown",
   "id": "b6a094e4",
   "metadata": {},
   "source": [
    "# Naive Bayes on RGB data"
   ]
  },
  {
   "cell_type": "code",
   "execution_count": 20,
   "id": "a5bc755b",
   "metadata": {},
   "outputs": [
    {
     "data": {
      "text/html": [
       "<style>#sk-container-id-2 {color: black;background-color: white;}#sk-container-id-2 pre{padding: 0;}#sk-container-id-2 div.sk-toggleable {background-color: white;}#sk-container-id-2 label.sk-toggleable__label {cursor: pointer;display: block;width: 100%;margin-bottom: 0;padding: 0.3em;box-sizing: border-box;text-align: center;}#sk-container-id-2 label.sk-toggleable__label-arrow:before {content: \"▸\";float: left;margin-right: 0.25em;color: #696969;}#sk-container-id-2 label.sk-toggleable__label-arrow:hover:before {color: black;}#sk-container-id-2 div.sk-estimator:hover label.sk-toggleable__label-arrow:before {color: black;}#sk-container-id-2 div.sk-toggleable__content {max-height: 0;max-width: 0;overflow: hidden;text-align: left;background-color: #f0f8ff;}#sk-container-id-2 div.sk-toggleable__content pre {margin: 0.2em;color: black;border-radius: 0.25em;background-color: #f0f8ff;}#sk-container-id-2 input.sk-toggleable__control:checked~div.sk-toggleable__content {max-height: 200px;max-width: 100%;overflow: auto;}#sk-container-id-2 input.sk-toggleable__control:checked~label.sk-toggleable__label-arrow:before {content: \"▾\";}#sk-container-id-2 div.sk-estimator input.sk-toggleable__control:checked~label.sk-toggleable__label {background-color: #d4ebff;}#sk-container-id-2 div.sk-label input.sk-toggleable__control:checked~label.sk-toggleable__label {background-color: #d4ebff;}#sk-container-id-2 input.sk-hidden--visually {border: 0;clip: rect(1px 1px 1px 1px);clip: rect(1px, 1px, 1px, 1px);height: 1px;margin: -1px;overflow: hidden;padding: 0;position: absolute;width: 1px;}#sk-container-id-2 div.sk-estimator {font-family: monospace;background-color: #f0f8ff;border: 1px dotted black;border-radius: 0.25em;box-sizing: border-box;margin-bottom: 0.5em;}#sk-container-id-2 div.sk-estimator:hover {background-color: #d4ebff;}#sk-container-id-2 div.sk-parallel-item::after {content: \"\";width: 100%;border-bottom: 1px solid gray;flex-grow: 1;}#sk-container-id-2 div.sk-label:hover label.sk-toggleable__label {background-color: #d4ebff;}#sk-container-id-2 div.sk-serial::before {content: \"\";position: absolute;border-left: 1px solid gray;box-sizing: border-box;top: 0;bottom: 0;left: 50%;z-index: 0;}#sk-container-id-2 div.sk-serial {display: flex;flex-direction: column;align-items: center;background-color: white;padding-right: 0.2em;padding-left: 0.2em;position: relative;}#sk-container-id-2 div.sk-item {position: relative;z-index: 1;}#sk-container-id-2 div.sk-parallel {display: flex;align-items: stretch;justify-content: center;background-color: white;position: relative;}#sk-container-id-2 div.sk-item::before, #sk-container-id-2 div.sk-parallel-item::before {content: \"\";position: absolute;border-left: 1px solid gray;box-sizing: border-box;top: 0;bottom: 0;left: 50%;z-index: -1;}#sk-container-id-2 div.sk-parallel-item {display: flex;flex-direction: column;z-index: 1;position: relative;background-color: white;}#sk-container-id-2 div.sk-parallel-item:first-child::after {align-self: flex-end;width: 50%;}#sk-container-id-2 div.sk-parallel-item:last-child::after {align-self: flex-start;width: 50%;}#sk-container-id-2 div.sk-parallel-item:only-child::after {width: 0;}#sk-container-id-2 div.sk-dashed-wrapped {border: 1px dashed gray;margin: 0 0.4em 0.5em 0.4em;box-sizing: border-box;padding-bottom: 0.4em;background-color: white;}#sk-container-id-2 div.sk-label label {font-family: monospace;font-weight: bold;display: inline-block;line-height: 1.2em;}#sk-container-id-2 div.sk-label-container {text-align: center;}#sk-container-id-2 div.sk-container {/* jupyter's `normalize.less` sets `[hidden] { display: none; }` but bootstrap.min.css set `[hidden] { display: none !important; }` so we also need the `!important` here to be able to override the default hidden behavior on the sphinx rendered scikit-learn.org. See: https://github.com/scikit-learn/scikit-learn/issues/21755 */display: inline-block !important;position: relative;}#sk-container-id-2 div.sk-text-repr-fallback {display: none;}</style><div id=\"sk-container-id-2\" class=\"sk-top-container\"><div class=\"sk-text-repr-fallback\"><pre>GaussianNB()</pre><b>In a Jupyter environment, please rerun this cell to show the HTML representation or trust the notebook. <br />On GitHub, the HTML representation is unable to render, please try loading this page with nbviewer.org.</b></div><div class=\"sk-container\" hidden><div class=\"sk-item\"><div class=\"sk-estimator sk-toggleable\"><input class=\"sk-toggleable__control sk-hidden--visually\" id=\"sk-estimator-id-2\" type=\"checkbox\" checked><label for=\"sk-estimator-id-2\" class=\"sk-toggleable__label sk-toggleable__label-arrow\">GaussianNB</label><div class=\"sk-toggleable__content\"><pre>GaussianNB()</pre></div></div></div></div></div>"
      ],
      "text/plain": [
       "GaussianNB()"
      ]
     },
     "execution_count": 20,
     "metadata": {},
     "output_type": "execute_result"
    }
   ],
   "source": [
    "from sklearn.naive_bayes import GaussianNB\n",
    "gnb = GaussianNB()\n",
    "gnb.fit(Ftrain, Ltrain)"
   ]
  },
  {
   "cell_type": "code",
   "execution_count": 21,
   "id": "6d162dcc",
   "metadata": {},
   "outputs": [],
   "source": [
    "y_pred = gnb.predict(Ftest)"
   ]
  },
  {
   "cell_type": "code",
   "execution_count": 22,
   "id": "8f7b4bab",
   "metadata": {},
   "outputs": [
    {
     "data": {
      "text/plain": [
       "0.4888200894392845"
      ]
     },
     "execution_count": 22,
     "metadata": {},
     "output_type": "execute_result"
    }
   ],
   "source": [
    "from sklearn import metrics\n",
    "metrics.accuracy_score(Ltest, y_pred)"
   ]
  },
  {
   "cell_type": "code",
   "execution_count": 23,
   "id": "980b37c5",
   "metadata": {},
   "outputs": [
    {
     "name": "stdout",
     "output_type": "stream",
     "text": [
      "                               precision    recall  f1-score   support\n",
      "\n",
      "               bacterial_spot       0.61      0.71      0.66       345\n",
      "                 early_blight       0.23      0.29      0.26       153\n",
      "                      healthy       0.36      0.61      0.45       234\n",
      "                  late_blight       0.48      0.32      0.38       309\n",
      "                    leaf_mold       0.58      0.40      0.47       145\n",
      "           septoria_leaf_spot       0.39      0.53      0.45       293\n",
      "                  target_spot       0.45      0.46      0.46       240\n",
      "          tomato_mosaic_virus       0.18      0.65      0.28        54\n",
      "tomato_yellow_leaf_curl_virus       0.91      0.46      0.61       854\n",
      "      two-spotted_spider_mite       0.42      0.50      0.46       280\n",
      "\n",
      "                     accuracy                           0.49      2907\n",
      "                    macro avg       0.46      0.49      0.45      2907\n",
      "                 weighted avg       0.58      0.49      0.50      2907\n",
      "\n",
      "[[245  11  40   8   1   3  12   6  13   6]\n",
      " [ 25  45   5  27   0  12  21   3   7   8]\n",
      " [  2   3 143  13   5  11  40   4   0  13]\n",
      " [  0  38  91  98  14  32   9  18   4   5]\n",
      " [  4   5   8  13  58  30   2  17   3   5]\n",
      " [  3  10  37   8  12 155  21  21  10  16]\n",
      " [ 11  13   5  10   1  37 110   9   0  44]\n",
      " [  2   0   4   0   2   8   0  35   0   3]\n",
      " [ 98  47  64  19   6  67   9  56 391  97]\n",
      " [ 10  24   3   7   1  44  19  27   4 141]]\n"
     ]
    }
   ],
   "source": [
    "class_names = target.unique()\n",
    "print(classification_report(Ltest, y_pred, target_names=class_names))\n",
    "print(confusion_matrix(Ltest, y_pred))"
   ]
  },
  {
   "cell_type": "markdown",
   "id": "0ce0377b",
   "metadata": {},
   "source": [
    "# Decision Tree on RGB data"
   ]
  },
  {
   "cell_type": "code",
   "execution_count": 24,
   "id": "b9bba328",
   "metadata": {},
   "outputs": [],
   "source": [
    "from sklearn.tree import DecisionTreeClassifier\n",
    "classifier_tree = DecisionTreeClassifier()"
   ]
  },
  {
   "cell_type": "code",
   "execution_count": 25,
   "id": "b98668ce",
   "metadata": {},
   "outputs": [
    {
     "data": {
      "text/plain": [
       "0.4540763673890609"
      ]
     },
     "execution_count": 25,
     "metadata": {},
     "output_type": "execute_result"
    }
   ],
   "source": [
    "classifier_tree.fit(Ftrain, Ltrain)\n",
    "classifier_tree.score(Ftest,Ltest)"
   ]
  },
  {
   "cell_type": "code",
   "execution_count": 26,
   "id": "9fb604d9",
   "metadata": {},
   "outputs": [
    {
     "name": "stdout",
     "output_type": "stream",
     "text": [
      "                               precision    recall  f1-score   support\n",
      "\n",
      "               bacterial_spot       0.48      0.50      0.49       345\n",
      "                 early_blight       0.11      0.11      0.11       153\n",
      "                      healthy       0.45      0.57      0.50       234\n",
      "                  late_blight       0.39      0.40      0.40       309\n",
      "                    leaf_mold       0.33      0.30      0.32       145\n",
      "           septoria_leaf_spot       0.37      0.41      0.39       293\n",
      "                  target_spot       0.27      0.30      0.29       240\n",
      "          tomato_mosaic_virus       0.08      0.09      0.08        54\n",
      "tomato_yellow_leaf_curl_virus       0.75      0.61      0.67       854\n",
      "      two-spotted_spider_mite       0.32      0.33      0.32       280\n",
      "\n",
      "                     accuracy                           0.45      2907\n",
      "                    macro avg       0.35      0.36      0.36      2907\n",
      "                 weighted avg       0.47      0.45      0.46      2907\n",
      "\n",
      "[[173  14  29  21   8  27  17   3  30  23]\n",
      " [ 22  17  14  22   5  10  18   8  19  18]\n",
      " [  8   8 133  26   4  10  21   3   8  13]\n",
      " [ 22  13  25 124  17  36  21   8  27  16]\n",
      " [  7  12  14  16  44  15  14   5  11   7]\n",
      " [ 12  17  16  28  19 121  24   8  33  15]\n",
      " [  9  19  18  23  11  29  72   5  11  43]\n",
      " [  2   0   8   7   6  10   7   5   3   6]\n",
      " [ 86  37  17  31  11  53  26  13 521  59]\n",
      " [ 20  21  22  19   8  19  42   8  29  92]]\n"
     ]
    }
   ],
   "source": [
    "y_predict = classifier_tree.fit(Ftrain, Ltrain).predict(Ftest)\n",
    "class_names = target.unique()\n",
    "print(classification_report(Ltest, y_predict, target_names=class_names))\n",
    "print(confusion_matrix(Ltest, y_predict))"
   ]
  },
  {
   "cell_type": "markdown",
   "id": "c9daaaee",
   "metadata": {},
   "source": [
    "# KNN on grayscale data"
   ]
  },
  {
   "cell_type": "code",
   "execution_count": 27,
   "id": "57a9845e",
   "metadata": {},
   "outputs": [],
   "source": [
    "#reading numpy array data\n",
    "gray_test = np.load('gray_test.npy')\n",
    "#reading csv file\n",
    "gray_df = pd.read_csv('gray_data.csv')"
   ]
  },
  {
   "cell_type": "code",
   "execution_count": 28,
   "id": "25d4fea2",
   "metadata": {},
   "outputs": [],
   "source": [
    "loaded = []\n",
    "for i in gray_test:\n",
    "    k = []\n",
    "    k = np.asarray(i,dtype='uint8')\n",
    "    loaded.append(k)"
   ]
  },
  {
   "cell_type": "code",
   "execution_count": 29,
   "id": "d3abef95",
   "metadata": {},
   "outputs": [],
   "source": [
    "features = loaded\n",
    "target = gray_df['disease']\n",
    "Ftrain,Ftest,Ltrain,Ltest=train_test_split(features,target, test_size=0.20, random_state=20)\n",
    "Ftrain = minmax.fit_transform(Ftrain)\n",
    "Ftest = minmax.fit_transform(Ftest)"
   ]
  },
  {
   "cell_type": "code",
   "execution_count": 30,
   "id": "6f75adfd",
   "metadata": {},
   "outputs": [
    {
     "data": {
      "text/plain": [
       "0.4217406260749914"
      ]
     },
     "execution_count": 30,
     "metadata": {},
     "output_type": "execute_result"
    }
   ],
   "source": [
    "kmodel.fit(Ftrain,Ltrain)\n",
    "kmodel.score(Ftest,Ltest)"
   ]
  },
  {
   "cell_type": "code",
   "execution_count": 31,
   "id": "77baa349",
   "metadata": {},
   "outputs": [
    {
     "name": "stdout",
     "output_type": "stream",
     "text": [
      "                               precision    recall  f1-score   support\n",
      "\n",
      "               bacterial_spot       0.37      0.74      0.49       349\n",
      "                 early_blight       0.00      0.00      0.00       182\n",
      "                      healthy       0.30      0.62      0.40       258\n",
      "                  late_blight       0.25      0.24      0.24       316\n",
      "                    leaf_mold       0.71      0.31      0.43       145\n",
      "           septoria_leaf_spot       0.53      0.29      0.38       262\n",
      "                  target_spot       0.67      0.02      0.03       229\n",
      "          tomato_mosaic_virus       0.00      0.00      0.00        58\n",
      "tomato_yellow_leaf_curl_virus       0.52      0.61      0.56       857\n",
      "      two-spotted_spider_mite       0.59      0.32      0.41       251\n",
      "\n",
      "                     accuracy                           0.42      2907\n",
      "                    macro avg       0.39      0.32      0.30      2907\n",
      "                 weighted avg       0.44      0.42      0.38      2907\n",
      "\n",
      "[[259   0  35  22   0   1   0   0  32   0]\n",
      " [100   0  14   5   5   6   0   0  50   2]\n",
      " [  9   0 160  41   0   5   0   0  42   1]\n",
      " [ 50   0  77  76   3  29   0   0  73   8]\n",
      " [ 12   0  25  28  45   2   0   0  31   2]\n",
      " [ 14   0  52  30   3  77   0   0  81   5]\n",
      " [ 69   0  36  14   0  10   4   0  78  18]\n",
      " [  3   0   8   6   1   1   0   0  37   2]\n",
      " [125   0 115  61   4   9   0   0 525  18]\n",
      " [ 58   0  13  22   2   5   2   0  69  80]]\n"
     ]
    },
    {
     "name": "stderr",
     "output_type": "stream",
     "text": [
      "C:\\Users\\ravic\\anaconda3\\lib\\site-packages\\sklearn\\metrics\\_classification.py:1327: UndefinedMetricWarning: Precision and F-score are ill-defined and being set to 0.0 in labels with no predicted samples. Use `zero_division` parameter to control this behavior.\n",
      "  _warn_prf(average, modifier, msg_start, len(result))\n",
      "C:\\Users\\ravic\\anaconda3\\lib\\site-packages\\sklearn\\metrics\\_classification.py:1327: UndefinedMetricWarning: Precision and F-score are ill-defined and being set to 0.0 in labels with no predicted samples. Use `zero_division` parameter to control this behavior.\n",
      "  _warn_prf(average, modifier, msg_start, len(result))\n",
      "C:\\Users\\ravic\\anaconda3\\lib\\site-packages\\sklearn\\metrics\\_classification.py:1327: UndefinedMetricWarning: Precision and F-score are ill-defined and being set to 0.0 in labels with no predicted samples. Use `zero_division` parameter to control this behavior.\n",
      "  _warn_prf(average, modifier, msg_start, len(result))\n"
     ]
    }
   ],
   "source": [
    "#printing results of the kmodel\n",
    "y_predict = kmodel.fit(Ftrain, Ltrain).predict(Ftest)\n",
    "class_names = target.unique()\n",
    "print(classification_report(Ltest, y_predict, target_names=class_names))\n",
    "print(confusion_matrix(Ltest, y_predict))"
   ]
  },
  {
   "cell_type": "markdown",
   "id": "197eedfc",
   "metadata": {},
   "source": [
    "# Logistic on grayscale data"
   ]
  },
  {
   "cell_type": "code",
   "execution_count": 32,
   "id": "9fd6cafe",
   "metadata": {},
   "outputs": [
    {
     "data": {
      "text/plain": [
       "0.4275885792913657"
      ]
     },
     "execution_count": 32,
     "metadata": {},
     "output_type": "execute_result"
    }
   ],
   "source": [
    "from sklearn.linear_model import LogisticRegression\n",
    "model=LogisticRegression(solver='lbfgs', max_iter=10000)\n",
    "model.fit(Ftrain,Ltrain)\n",
    "model.score(Ftest,Ltest)"
   ]
  },
  {
   "cell_type": "code",
   "execution_count": 33,
   "id": "20a6d97e",
   "metadata": {},
   "outputs": [
    {
     "name": "stdout",
     "output_type": "stream",
     "text": [
      "                               precision    recall  f1-score   support\n",
      "\n",
      "               bacterial_spot       0.39      0.60      0.47       349\n",
      "                 early_blight       0.20      0.10      0.14       182\n",
      "                      healthy       0.47      0.31      0.37       258\n",
      "                  late_blight       0.32      0.33      0.32       316\n",
      "                    leaf_mold       0.43      0.28      0.34       145\n",
      "           septoria_leaf_spot       0.32      0.33      0.33       262\n",
      "                  target_spot       0.24      0.20      0.21       229\n",
      "          tomato_mosaic_virus       0.37      0.12      0.18        58\n",
      "tomato_yellow_leaf_curl_virus       0.59      0.64      0.61       857\n",
      "      two-spotted_spider_mite       0.38      0.43      0.40       251\n",
      "\n",
      "                     accuracy                           0.43      2907\n",
      "                    macro avg       0.37      0.33      0.34      2907\n",
      "                 weighted avg       0.42      0.43      0.42      2907\n",
      "\n",
      "[[208   3  11  24   2  13  13   0  68   7]\n",
      " [ 54  19   2   8   7  12  23   1  44  12]\n",
      " [ 33   8  79  42   4  15  17   0  38  22]\n",
      " [ 35  19  26 103  13  39  17   2  48  14]\n",
      " [ 16   6   2  30  40  16   3   1  23   8]\n",
      " [ 23  10  12  31   6  86  25   2  44  23]\n",
      " [ 54   7  11  17   1  16  45   0  34  44]\n",
      " [  2   1   0   7   4   2   2   7  28   5]\n",
      " [ 86  16  23  58  14  45  22   5 548  40]\n",
      " [ 24   7   3   6   1  23  23   1  55 108]]\n"
     ]
    }
   ],
   "source": [
    "#classification report\n",
    "y_predict = model.fit(Ftrain, Ltrain).predict(Ftest)\n",
    "class_names = target.unique()\n",
    "print(classification_report(Ltest, y_predict, target_names=class_names))\n",
    "print(confusion_matrix(Ltest, y_predict))"
   ]
  },
  {
   "cell_type": "markdown",
   "id": "5284f869",
   "metadata": {},
   "source": [
    "# SVM on Grayscale data"
   ]
  },
  {
   "cell_type": "code",
   "execution_count": 34,
   "id": "d0db5c80",
   "metadata": {},
   "outputs": [
    {
     "name": "stdout",
     "output_type": "stream",
     "text": [
      "0.4540763673890609\n"
     ]
    }
   ],
   "source": [
    "clf = SVC(kernel='linear')\n",
    "clf.fit(Ftrain,Ltrain)\n",
    "y_pred = clf.predict(Ftest)\n",
    "print(accuracy_score(Ltest,y_pred))"
   ]
  },
  {
   "cell_type": "code",
   "execution_count": 35,
   "id": "bcddcf24",
   "metadata": {},
   "outputs": [
    {
     "name": "stdout",
     "output_type": "stream",
     "text": [
      "                               precision    recall  f1-score   support\n",
      "\n",
      "               bacterial_spot       0.38      0.56      0.45       349\n",
      "                 early_blight       0.23      0.21      0.22       182\n",
      "                      healthy       0.47      0.55      0.51       258\n",
      "                  late_blight       0.37      0.34      0.36       316\n",
      "                    leaf_mold       0.48      0.29      0.36       145\n",
      "           septoria_leaf_spot       0.38      0.37      0.37       262\n",
      "                  target_spot       0.30      0.31      0.31       229\n",
      "          tomato_mosaic_virus       0.33      0.10      0.16        58\n",
      "tomato_yellow_leaf_curl_virus       0.63      0.61      0.62       857\n",
      "      two-spotted_spider_mite       0.48      0.41      0.44       251\n",
      "\n",
      "                     accuracy                           0.45      2907\n",
      "                    macro avg       0.40      0.37      0.38      2907\n",
      "                 weighted avg       0.46      0.45      0.45      2907\n",
      "\n",
      "[[194  20  19  22   1   9  16   0  61   7]\n",
      " [ 44  38   3  11   5   9  32   0  31   9]\n",
      " [ 36   8 141  27   2   8  15   0  14   7]\n",
      " [ 30  21  34 109  11  40  19   3  41   8]\n",
      " [ 20   7   3  24  42  20   2   1  21   5]\n",
      " [ 25  15  21  29   4  96  24   3  34  11]\n",
      " [ 37  17  14  17   4  14  72   0  27  27]\n",
      " [  2   1   0   9   3   3   4   6  28   2]\n",
      " [ 98  28  58  46  11  33  24   5 520  34]\n",
      " [ 20  13   6   2   5  22  35   0  46 102]]\n"
     ]
    }
   ],
   "source": [
    "#classification report\n",
    "y_predict = clf.fit(Ftrain, Ltrain).predict(Ftest)\n",
    "class_names = target.unique()\n",
    "print(classification_report(Ltest, y_predict, target_names=class_names))\n",
    "print(confusion_matrix(Ltest, y_predict))"
   ]
  },
  {
   "cell_type": "markdown",
   "id": "576fd580",
   "metadata": {},
   "source": [
    "# Random Forest on Grayscale"
   ]
  },
  {
   "cell_type": "code",
   "execution_count": 36,
   "id": "9dfa979e",
   "metadata": {},
   "outputs": [
    {
     "data": {
      "text/html": [
       "<style>#sk-container-id-3 {color: black;background-color: white;}#sk-container-id-3 pre{padding: 0;}#sk-container-id-3 div.sk-toggleable {background-color: white;}#sk-container-id-3 label.sk-toggleable__label {cursor: pointer;display: block;width: 100%;margin-bottom: 0;padding: 0.3em;box-sizing: border-box;text-align: center;}#sk-container-id-3 label.sk-toggleable__label-arrow:before {content: \"▸\";float: left;margin-right: 0.25em;color: #696969;}#sk-container-id-3 label.sk-toggleable__label-arrow:hover:before {color: black;}#sk-container-id-3 div.sk-estimator:hover label.sk-toggleable__label-arrow:before {color: black;}#sk-container-id-3 div.sk-toggleable__content {max-height: 0;max-width: 0;overflow: hidden;text-align: left;background-color: #f0f8ff;}#sk-container-id-3 div.sk-toggleable__content pre {margin: 0.2em;color: black;border-radius: 0.25em;background-color: #f0f8ff;}#sk-container-id-3 input.sk-toggleable__control:checked~div.sk-toggleable__content {max-height: 200px;max-width: 100%;overflow: auto;}#sk-container-id-3 input.sk-toggleable__control:checked~label.sk-toggleable__label-arrow:before {content: \"▾\";}#sk-container-id-3 div.sk-estimator input.sk-toggleable__control:checked~label.sk-toggleable__label {background-color: #d4ebff;}#sk-container-id-3 div.sk-label input.sk-toggleable__control:checked~label.sk-toggleable__label {background-color: #d4ebff;}#sk-container-id-3 input.sk-hidden--visually {border: 0;clip: rect(1px 1px 1px 1px);clip: rect(1px, 1px, 1px, 1px);height: 1px;margin: -1px;overflow: hidden;padding: 0;position: absolute;width: 1px;}#sk-container-id-3 div.sk-estimator {font-family: monospace;background-color: #f0f8ff;border: 1px dotted black;border-radius: 0.25em;box-sizing: border-box;margin-bottom: 0.5em;}#sk-container-id-3 div.sk-estimator:hover {background-color: #d4ebff;}#sk-container-id-3 div.sk-parallel-item::after {content: \"\";width: 100%;border-bottom: 1px solid gray;flex-grow: 1;}#sk-container-id-3 div.sk-label:hover label.sk-toggleable__label {background-color: #d4ebff;}#sk-container-id-3 div.sk-serial::before {content: \"\";position: absolute;border-left: 1px solid gray;box-sizing: border-box;top: 0;bottom: 0;left: 50%;z-index: 0;}#sk-container-id-3 div.sk-serial {display: flex;flex-direction: column;align-items: center;background-color: white;padding-right: 0.2em;padding-left: 0.2em;position: relative;}#sk-container-id-3 div.sk-item {position: relative;z-index: 1;}#sk-container-id-3 div.sk-parallel {display: flex;align-items: stretch;justify-content: center;background-color: white;position: relative;}#sk-container-id-3 div.sk-item::before, #sk-container-id-3 div.sk-parallel-item::before {content: \"\";position: absolute;border-left: 1px solid gray;box-sizing: border-box;top: 0;bottom: 0;left: 50%;z-index: -1;}#sk-container-id-3 div.sk-parallel-item {display: flex;flex-direction: column;z-index: 1;position: relative;background-color: white;}#sk-container-id-3 div.sk-parallel-item:first-child::after {align-self: flex-end;width: 50%;}#sk-container-id-3 div.sk-parallel-item:last-child::after {align-self: flex-start;width: 50%;}#sk-container-id-3 div.sk-parallel-item:only-child::after {width: 0;}#sk-container-id-3 div.sk-dashed-wrapped {border: 1px dashed gray;margin: 0 0.4em 0.5em 0.4em;box-sizing: border-box;padding-bottom: 0.4em;background-color: white;}#sk-container-id-3 div.sk-label label {font-family: monospace;font-weight: bold;display: inline-block;line-height: 1.2em;}#sk-container-id-3 div.sk-label-container {text-align: center;}#sk-container-id-3 div.sk-container {/* jupyter's `normalize.less` sets `[hidden] { display: none; }` but bootstrap.min.css set `[hidden] { display: none !important; }` so we also need the `!important` here to be able to override the default hidden behavior on the sphinx rendered scikit-learn.org. See: https://github.com/scikit-learn/scikit-learn/issues/21755 */display: inline-block !important;position: relative;}#sk-container-id-3 div.sk-text-repr-fallback {display: none;}</style><div id=\"sk-container-id-3\" class=\"sk-top-container\"><div class=\"sk-text-repr-fallback\"><pre>RandomForestClassifier(max_depth=5, n_jobs=-1, oob_score=True, random_state=42)</pre><b>In a Jupyter environment, please rerun this cell to show the HTML representation or trust the notebook. <br />On GitHub, the HTML representation is unable to render, please try loading this page with nbviewer.org.</b></div><div class=\"sk-container\" hidden><div class=\"sk-item\"><div class=\"sk-estimator sk-toggleable\"><input class=\"sk-toggleable__control sk-hidden--visually\" id=\"sk-estimator-id-3\" type=\"checkbox\" checked><label for=\"sk-estimator-id-3\" class=\"sk-toggleable__label sk-toggleable__label-arrow\">RandomForestClassifier</label><div class=\"sk-toggleable__content\"><pre>RandomForestClassifier(max_depth=5, n_jobs=-1, oob_score=True, random_state=42)</pre></div></div></div></div></div>"
      ],
      "text/plain": [
       "RandomForestClassifier(max_depth=5, n_jobs=-1, oob_score=True, random_state=42)"
      ]
     },
     "execution_count": 36,
     "metadata": {},
     "output_type": "execute_result"
    }
   ],
   "source": [
    "classifier_rf.fit(Ftrain, Ltrain)"
   ]
  },
  {
   "cell_type": "code",
   "execution_count": 37,
   "id": "2b4347ef",
   "metadata": {},
   "outputs": [
    {
     "data": {
      "text/plain": [
       "0.43392980041293877"
      ]
     },
     "execution_count": 37,
     "metadata": {},
     "output_type": "execute_result"
    }
   ],
   "source": [
    "classifier_rf.oob_score_"
   ]
  },
  {
   "cell_type": "code",
   "execution_count": 38,
   "id": "9263c32f",
   "metadata": {},
   "outputs": [
    {
     "name": "stdout",
     "output_type": "stream",
     "text": [
      "                               precision    recall  f1-score   support\n",
      "\n",
      "               bacterial_spot       0.64      0.40      0.49       349\n",
      "                 early_blight       0.00      0.00      0.00       182\n",
      "                      healthy       0.66      0.31      0.42       258\n",
      "                  late_blight       0.79      0.23      0.35       316\n",
      "                    leaf_mold       1.00      0.01      0.03       145\n",
      "           septoria_leaf_spot       0.50      0.53      0.52       262\n",
      "                  target_spot       0.80      0.03      0.07       229\n",
      "          tomato_mosaic_virus       0.00      0.00      0.00        58\n",
      "tomato_yellow_leaf_curl_virus       0.37      0.91      0.52       857\n",
      "      two-spotted_spider_mite       0.62      0.15      0.24       251\n",
      "\n",
      "                     accuracy                           0.43      2907\n",
      "                    macro avg       0.54      0.26      0.26      2907\n",
      "                 weighted avg       0.54      0.43      0.36      2907\n",
      "\n",
      "[[138   0   8   2   0   1   0   0 200   0]\n",
      " [ 18   0   0   3   0  23   2   0 134   2]\n",
      " [  2   0  80   1   0   0   0   0 175   0]\n",
      " [  8   0  12  72   0  44   0   0 177   3]\n",
      " [  2   0   0   7   2  17   0   0 114   3]\n",
      " [  2   0  11   2   0 140   0   0 104   3]\n",
      " [  1   0   0   0   0  20   8   0 190  10]\n",
      " [  1   0   0   0   0   1   0   0  56   0]\n",
      " [ 38   0  11   4   0  20   0   0 782   2]\n",
      " [  7   0   0   0   0  12   0   0 195  37]]\n"
     ]
    },
    {
     "name": "stderr",
     "output_type": "stream",
     "text": [
      "C:\\Users\\ravic\\anaconda3\\lib\\site-packages\\sklearn\\metrics\\_classification.py:1327: UndefinedMetricWarning: Precision and F-score are ill-defined and being set to 0.0 in labels with no predicted samples. Use `zero_division` parameter to control this behavior.\n",
      "  _warn_prf(average, modifier, msg_start, len(result))\n",
      "C:\\Users\\ravic\\anaconda3\\lib\\site-packages\\sklearn\\metrics\\_classification.py:1327: UndefinedMetricWarning: Precision and F-score are ill-defined and being set to 0.0 in labels with no predicted samples. Use `zero_division` parameter to control this behavior.\n",
      "  _warn_prf(average, modifier, msg_start, len(result))\n",
      "C:\\Users\\ravic\\anaconda3\\lib\\site-packages\\sklearn\\metrics\\_classification.py:1327: UndefinedMetricWarning: Precision and F-score are ill-defined and being set to 0.0 in labels with no predicted samples. Use `zero_division` parameter to control this behavior.\n",
      "  _warn_prf(average, modifier, msg_start, len(result))\n"
     ]
    }
   ],
   "source": [
    "y_predict = classifier_rf.fit(Ftrain, Ltrain).predict(Ftest)\n",
    "class_names = target.unique()\n",
    "print(classification_report(Ltest, y_predict, target_names=class_names))\n",
    "print(confusion_matrix(Ltest, y_predict))"
   ]
  },
  {
   "cell_type": "markdown",
   "id": "8befce61",
   "metadata": {},
   "source": [
    "# Naive bayes on Grayscale"
   ]
  },
  {
   "cell_type": "code",
   "execution_count": 39,
   "id": "0d1a6d3b",
   "metadata": {},
   "outputs": [
    {
     "data": {
      "text/html": [
       "<style>#sk-container-id-4 {color: black;background-color: white;}#sk-container-id-4 pre{padding: 0;}#sk-container-id-4 div.sk-toggleable {background-color: white;}#sk-container-id-4 label.sk-toggleable__label {cursor: pointer;display: block;width: 100%;margin-bottom: 0;padding: 0.3em;box-sizing: border-box;text-align: center;}#sk-container-id-4 label.sk-toggleable__label-arrow:before {content: \"▸\";float: left;margin-right: 0.25em;color: #696969;}#sk-container-id-4 label.sk-toggleable__label-arrow:hover:before {color: black;}#sk-container-id-4 div.sk-estimator:hover label.sk-toggleable__label-arrow:before {color: black;}#sk-container-id-4 div.sk-toggleable__content {max-height: 0;max-width: 0;overflow: hidden;text-align: left;background-color: #f0f8ff;}#sk-container-id-4 div.sk-toggleable__content pre {margin: 0.2em;color: black;border-radius: 0.25em;background-color: #f0f8ff;}#sk-container-id-4 input.sk-toggleable__control:checked~div.sk-toggleable__content {max-height: 200px;max-width: 100%;overflow: auto;}#sk-container-id-4 input.sk-toggleable__control:checked~label.sk-toggleable__label-arrow:before {content: \"▾\";}#sk-container-id-4 div.sk-estimator input.sk-toggleable__control:checked~label.sk-toggleable__label {background-color: #d4ebff;}#sk-container-id-4 div.sk-label input.sk-toggleable__control:checked~label.sk-toggleable__label {background-color: #d4ebff;}#sk-container-id-4 input.sk-hidden--visually {border: 0;clip: rect(1px 1px 1px 1px);clip: rect(1px, 1px, 1px, 1px);height: 1px;margin: -1px;overflow: hidden;padding: 0;position: absolute;width: 1px;}#sk-container-id-4 div.sk-estimator {font-family: monospace;background-color: #f0f8ff;border: 1px dotted black;border-radius: 0.25em;box-sizing: border-box;margin-bottom: 0.5em;}#sk-container-id-4 div.sk-estimator:hover {background-color: #d4ebff;}#sk-container-id-4 div.sk-parallel-item::after {content: \"\";width: 100%;border-bottom: 1px solid gray;flex-grow: 1;}#sk-container-id-4 div.sk-label:hover label.sk-toggleable__label {background-color: #d4ebff;}#sk-container-id-4 div.sk-serial::before {content: \"\";position: absolute;border-left: 1px solid gray;box-sizing: border-box;top: 0;bottom: 0;left: 50%;z-index: 0;}#sk-container-id-4 div.sk-serial {display: flex;flex-direction: column;align-items: center;background-color: white;padding-right: 0.2em;padding-left: 0.2em;position: relative;}#sk-container-id-4 div.sk-item {position: relative;z-index: 1;}#sk-container-id-4 div.sk-parallel {display: flex;align-items: stretch;justify-content: center;background-color: white;position: relative;}#sk-container-id-4 div.sk-item::before, #sk-container-id-4 div.sk-parallel-item::before {content: \"\";position: absolute;border-left: 1px solid gray;box-sizing: border-box;top: 0;bottom: 0;left: 50%;z-index: -1;}#sk-container-id-4 div.sk-parallel-item {display: flex;flex-direction: column;z-index: 1;position: relative;background-color: white;}#sk-container-id-4 div.sk-parallel-item:first-child::after {align-self: flex-end;width: 50%;}#sk-container-id-4 div.sk-parallel-item:last-child::after {align-self: flex-start;width: 50%;}#sk-container-id-4 div.sk-parallel-item:only-child::after {width: 0;}#sk-container-id-4 div.sk-dashed-wrapped {border: 1px dashed gray;margin: 0 0.4em 0.5em 0.4em;box-sizing: border-box;padding-bottom: 0.4em;background-color: white;}#sk-container-id-4 div.sk-label label {font-family: monospace;font-weight: bold;display: inline-block;line-height: 1.2em;}#sk-container-id-4 div.sk-label-container {text-align: center;}#sk-container-id-4 div.sk-container {/* jupyter's `normalize.less` sets `[hidden] { display: none; }` but bootstrap.min.css set `[hidden] { display: none !important; }` so we also need the `!important` here to be able to override the default hidden behavior on the sphinx rendered scikit-learn.org. See: https://github.com/scikit-learn/scikit-learn/issues/21755 */display: inline-block !important;position: relative;}#sk-container-id-4 div.sk-text-repr-fallback {display: none;}</style><div id=\"sk-container-id-4\" class=\"sk-top-container\"><div class=\"sk-text-repr-fallback\"><pre>GaussianNB()</pre><b>In a Jupyter environment, please rerun this cell to show the HTML representation or trust the notebook. <br />On GitHub, the HTML representation is unable to render, please try loading this page with nbviewer.org.</b></div><div class=\"sk-container\" hidden><div class=\"sk-item\"><div class=\"sk-estimator sk-toggleable\"><input class=\"sk-toggleable__control sk-hidden--visually\" id=\"sk-estimator-id-4\" type=\"checkbox\" checked><label for=\"sk-estimator-id-4\" class=\"sk-toggleable__label sk-toggleable__label-arrow\">GaussianNB</label><div class=\"sk-toggleable__content\"><pre>GaussianNB()</pre></div></div></div></div></div>"
      ],
      "text/plain": [
       "GaussianNB()"
      ]
     },
     "execution_count": 39,
     "metadata": {},
     "output_type": "execute_result"
    }
   ],
   "source": [
    "gnb.fit(Ftrain, Ltrain)"
   ]
  },
  {
   "cell_type": "code",
   "execution_count": 40,
   "id": "053c9a09",
   "metadata": {},
   "outputs": [
    {
     "data": {
      "text/plain": [
       "0.34674922600619196"
      ]
     },
     "execution_count": 40,
     "metadata": {},
     "output_type": "execute_result"
    }
   ],
   "source": [
    "y_pred = gnb.predict(Ftest)\n",
    "metrics.accuracy_score(Ltest, y_pred)"
   ]
  },
  {
   "cell_type": "code",
   "execution_count": 41,
   "id": "22c98d80",
   "metadata": {},
   "outputs": [
    {
     "name": "stdout",
     "output_type": "stream",
     "text": [
      "                               precision    recall  f1-score   support\n",
      "\n",
      "               bacterial_spot       0.48      0.69      0.57       349\n",
      "                 early_blight       0.23      0.25      0.24       182\n",
      "                      healthy       0.29      0.55      0.38       258\n",
      "                  late_blight       0.37      0.24      0.30       316\n",
      "                    leaf_mold       0.54      0.29      0.38       145\n",
      "           septoria_leaf_spot       0.28      0.56      0.37       262\n",
      "                  target_spot       0.39      0.31      0.35       229\n",
      "          tomato_mosaic_virus       0.09      0.40      0.15        58\n",
      "tomato_yellow_leaf_curl_virus       0.66      0.13      0.22       857\n",
      "      two-spotted_spider_mite       0.34      0.42      0.38       251\n",
      "\n",
      "                     accuracy                           0.35      2907\n",
      "                    macro avg       0.37      0.39      0.33      2907\n",
      "                 weighted avg       0.45      0.35      0.33      2907\n",
      "\n",
      "[[240  10  42   3   1  15   9  15   8   6]\n",
      " [ 43  46   5  31   5  18  14   4   5  11]\n",
      " [  6   1 143  11   4  29  30   1  13  20]\n",
      " [  3  47 102  77   6  43   8  16   6   8]\n",
      " [ 15   3   7  12  42  36   5  17   4   4]\n",
      " [  3   6  40  12   5 147  11  17   2  19]\n",
      " [  7  13   3  20   3  53  72   7   5  46]\n",
      " [  9   0   3   0   1   5   0  23  10   7]\n",
      " [160  50 143  32  10 126  19 123 113  81]\n",
      " [ 10  21   1   8   1  58  19  24   4 105]]\n"
     ]
    }
   ],
   "source": [
    "class_names = target.unique()\n",
    "print(classification_report(Ltest, y_pred, target_names=class_names))\n",
    "print(confusion_matrix(Ltest, y_pred))"
   ]
  },
  {
   "cell_type": "markdown",
   "id": "9a562db7",
   "metadata": {},
   "source": [
    "# Decision Tree on Grayscale"
   ]
  },
  {
   "cell_type": "code",
   "execution_count": 42,
   "id": "a4e9cd0d",
   "metadata": {},
   "outputs": [
    {
     "data": {
      "text/plain": [
       "0.36257309941520466"
      ]
     },
     "execution_count": 42,
     "metadata": {},
     "output_type": "execute_result"
    }
   ],
   "source": [
    "classifier_tree.fit(Ftrain, Ltrain)\n",
    "classifier_tree.score(Ftest,Ltest)"
   ]
  },
  {
   "cell_type": "code",
   "execution_count": 43,
   "id": "523c3773",
   "metadata": {},
   "outputs": [
    {
     "name": "stdout",
     "output_type": "stream",
     "text": [
      "                               precision    recall  f1-score   support\n",
      "\n",
      "               bacterial_spot       0.48      0.42      0.45       349\n",
      "                 early_blight       0.13      0.11      0.12       182\n",
      "                      healthy       0.48      0.40      0.44       258\n",
      "                  late_blight       0.37      0.33      0.35       316\n",
      "                    leaf_mold       0.20      0.19      0.19       145\n",
      "           septoria_leaf_spot       0.28      0.35      0.31       262\n",
      "                  target_spot       0.20      0.25      0.22       229\n",
      "          tomato_mosaic_virus       0.04      0.05      0.05        58\n",
      "tomato_yellow_leaf_curl_virus       0.51      0.49      0.50       857\n",
      "      two-spotted_spider_mite       0.33      0.37      0.35       251\n",
      "\n",
      "                     accuracy                           0.37      2907\n",
      "                    macro avg       0.30      0.30      0.30      2907\n",
      "                 weighted avg       0.38      0.37      0.37      2907\n",
      "\n",
      "[[145  18  13  15   8  18  22   6  82  22]\n",
      " [ 15  20   6  15  14  21  28   1  48  14]\n",
      " [ 12   6 104  13   6  28  28   5  42  14]\n",
      " [ 12  22  15 104  15  39  22   9  65  13]\n",
      " [  9   8   4  18  28  22   9   7  26  14]\n",
      " [ 17  15  12  23   7  93  24   6  52  13]\n",
      " [  6  13  13  15   8  23  57   7  36  51]\n",
      " [  2   2   5   4   7   6   8   3  16   5]\n",
      " [ 81  38  35  57  44  64  52  18 421  47]\n",
      " [  3  17  10  18   6  20  39   6  38  94]]\n"
     ]
    }
   ],
   "source": [
    "y_predict = classifier_tree.fit(Ftrain, Ltrain).predict(Ftest)\n",
    "class_names = target.unique()\n",
    "print(classification_report(Ltest, y_predict, target_names=class_names))\n",
    "print(confusion_matrix(Ltest, y_predict))"
   ]
  },
  {
   "cell_type": "markdown",
   "id": "e42f549f",
   "metadata": {},
   "source": [
    "# KNN on Red channel data"
   ]
  },
  {
   "cell_type": "code",
   "execution_count": 44,
   "id": "cb75cbbd",
   "metadata": {},
   "outputs": [],
   "source": [
    "#reading numpy array data\n",
    "gray_test = np.load('red_data.npy')\n",
    "#reading csv file\n",
    "gray_df = pd.read_csv('red_data.csv')"
   ]
  },
  {
   "cell_type": "code",
   "execution_count": 45,
   "id": "7fda7839",
   "metadata": {},
   "outputs": [],
   "source": [
    "loaded = []\n",
    "for i in gray_test:\n",
    "    k = []\n",
    "    k = np.asarray(i,dtype='uint8')\n",
    "    loaded.append(k)\n",
    "features = loaded\n",
    "target = gray_df['disease']\n",
    "Ftrain,Ftest,Ltrain,Ltest=train_test_split(features,target, test_size=0.20, random_state=20)\n",
    "Ftrain = minmax.fit_transform(Ftrain)\n",
    "Ftest = minmax.fit_transform(Ftest)"
   ]
  },
  {
   "cell_type": "code",
   "execution_count": 46,
   "id": "683839f2",
   "metadata": {},
   "outputs": [
    {
     "data": {
      "text/plain": [
       "0.4551083591331269"
      ]
     },
     "execution_count": 46,
     "metadata": {},
     "output_type": "execute_result"
    }
   ],
   "source": [
    "kmodel.fit(Ftrain,Ltrain)\n",
    "kmodel.score(Ftest,Ltest)"
   ]
  },
  {
   "cell_type": "code",
   "execution_count": 47,
   "id": "53bc7b93",
   "metadata": {},
   "outputs": [
    {
     "name": "stdout",
     "output_type": "stream",
     "text": [
      "                               precision    recall  f1-score   support\n",
      "\n",
      "               bacterial_spot       0.44      0.69      0.54       349\n",
      "                 early_blight       0.00      0.00      0.00       182\n",
      "                      healthy       0.33      0.74      0.45       258\n",
      "                  late_blight       0.35      0.33      0.34       316\n",
      "                    leaf_mold       0.65      0.37      0.47       145\n",
      "           septoria_leaf_spot       0.57      0.29      0.38       262\n",
      "                  target_spot       0.53      0.11      0.18       229\n",
      "          tomato_mosaic_virus       0.00      0.00      0.00        58\n",
      "tomato_yellow_leaf_curl_virus       0.50      0.61      0.55       857\n",
      "      two-spotted_spider_mite       0.58      0.44      0.50       251\n",
      "\n",
      "                     accuracy                           0.46      2907\n",
      "                    macro avg       0.40      0.36      0.34      2907\n",
      "                 weighted avg       0.45      0.46      0.42      2907\n",
      "\n",
      "[[241   0  44  22   0   0   0   0  42   0]\n",
      " [ 71   0  23   5   5   6   6   0  60   6]\n",
      " [  3   0 190  17   0   3   0   0  44   1]\n",
      " [ 33   0  57 103   5  34   2   0  74   8]\n",
      " [  4   0  28  23  54   2   2   0  31   1]\n",
      " [ 15   0  47  32   4  76   1   0  74  13]\n",
      " [ 50   0  44   4   0   4  25   0  78  24]\n",
      " [  0   0   5   5   1   1   0   0  44   2]\n",
      " [ 92   0 127  72  14   4   0   0 524  24]\n",
      " [ 33   0  17  10   0   3  11   0  67 110]]\n"
     ]
    },
    {
     "name": "stderr",
     "output_type": "stream",
     "text": [
      "C:\\Users\\ravic\\anaconda3\\lib\\site-packages\\sklearn\\metrics\\_classification.py:1327: UndefinedMetricWarning: Precision and F-score are ill-defined and being set to 0.0 in labels with no predicted samples. Use `zero_division` parameter to control this behavior.\n",
      "  _warn_prf(average, modifier, msg_start, len(result))\n",
      "C:\\Users\\ravic\\anaconda3\\lib\\site-packages\\sklearn\\metrics\\_classification.py:1327: UndefinedMetricWarning: Precision and F-score are ill-defined and being set to 0.0 in labels with no predicted samples. Use `zero_division` parameter to control this behavior.\n",
      "  _warn_prf(average, modifier, msg_start, len(result))\n",
      "C:\\Users\\ravic\\anaconda3\\lib\\site-packages\\sklearn\\metrics\\_classification.py:1327: UndefinedMetricWarning: Precision and F-score are ill-defined and being set to 0.0 in labels with no predicted samples. Use `zero_division` parameter to control this behavior.\n",
      "  _warn_prf(average, modifier, msg_start, len(result))\n"
     ]
    }
   ],
   "source": [
    "#printing results of the kmodel\n",
    "y_predict = kmodel.fit(Ftrain, Ltrain).predict(Ftest)\n",
    "class_names = target.unique()\n",
    "print(classification_report(Ltest, y_predict, target_names=class_names))\n",
    "print(confusion_matrix(Ltest, y_predict))"
   ]
  },
  {
   "cell_type": "markdown",
   "id": "ffcda594",
   "metadata": {},
   "source": [
    "# Logistic on Red channel data"
   ]
  },
  {
   "cell_type": "code",
   "execution_count": 48,
   "id": "1ed4037b",
   "metadata": {},
   "outputs": [
    {
     "data": {
      "text/plain": [
       "0.4527003783969728"
      ]
     },
     "execution_count": 48,
     "metadata": {},
     "output_type": "execute_result"
    }
   ],
   "source": [
    "model.fit(Ftrain,Ltrain)\n",
    "model.score(Ftest,Ltest)"
   ]
  },
  {
   "cell_type": "code",
   "execution_count": 49,
   "id": "22b11f2e",
   "metadata": {},
   "outputs": [
    {
     "name": "stdout",
     "output_type": "stream",
     "text": [
      "                               precision    recall  f1-score   support\n",
      "\n",
      "               bacterial_spot       0.41      0.61      0.49       349\n",
      "                 early_blight       0.24      0.12      0.16       182\n",
      "                      healthy       0.45      0.33      0.38       258\n",
      "                  late_blight       0.35      0.30      0.32       316\n",
      "                    leaf_mold       0.49      0.32      0.39       145\n",
      "           septoria_leaf_spot       0.33      0.29      0.31       262\n",
      "                  target_spot       0.29      0.21      0.25       229\n",
      "          tomato_mosaic_virus       0.32      0.12      0.17        58\n",
      "tomato_yellow_leaf_curl_virus       0.59      0.70      0.64       857\n",
      "      two-spotted_spider_mite       0.39      0.51      0.44       251\n",
      "\n",
      "                     accuracy                           0.45      2907\n",
      "                    macro avg       0.39      0.35      0.36      2907\n",
      "                 weighted avg       0.43      0.45      0.43      2907\n",
      "\n",
      "[[213   6  13  19   2  11  13   0  66   6]\n",
      " [ 57  21   1  10   9  12  18   0  47   7]\n",
      " [ 35   8  84  36   2  11  13   0  47  22]\n",
      " [ 38  14  30  94  11  37  18   5  54  15]\n",
      " [ 17   4   3  26  47  12   2   1  24   9]\n",
      " [ 21   7  15  30   7  75  17   2  51  37]\n",
      " [ 44   7  12  15   2  16  49   0  37  47]\n",
      " [  1   1   0   1   2   2   1   7  36   7]\n",
      " [ 73  15  23  37  12  30  13   6 597  51]\n",
      " [ 17   5   6   2   1  18  25   1  47 129]]\n"
     ]
    }
   ],
   "source": [
    "#classification report\n",
    "y_predict = model.fit(Ftrain, Ltrain).predict(Ftest)\n",
    "class_names = target.unique()\n",
    "print(classification_report(Ltest, y_predict, target_names=class_names))\n",
    "print(confusion_matrix(Ltest, y_predict))"
   ]
  },
  {
   "cell_type": "markdown",
   "id": "dba6d5ce",
   "metadata": {},
   "source": [
    "# SVM on Red channel data"
   ]
  },
  {
   "cell_type": "code",
   "execution_count": 50,
   "id": "6ed153f7",
   "metadata": {},
   "outputs": [
    {
     "name": "stdout",
     "output_type": "stream",
     "text": [
      "0.49019607843137253\n"
     ]
    }
   ],
   "source": [
    "clf.fit(Ftrain,Ltrain)\n",
    "y_pred = clf.predict(Ftest)\n",
    "print(accuracy_score(Ltest,y_pred))"
   ]
  },
  {
   "cell_type": "code",
   "execution_count": 51,
   "id": "3d2d1d59",
   "metadata": {},
   "outputs": [
    {
     "name": "stdout",
     "output_type": "stream",
     "text": [
      "                               precision    recall  f1-score   support\n",
      "\n",
      "               bacterial_spot       0.44      0.60      0.51       349\n",
      "                 early_blight       0.28      0.21      0.24       182\n",
      "                      healthy       0.49      0.57      0.53       258\n",
      "                  late_blight       0.40      0.36      0.38       316\n",
      "                    leaf_mold       0.55      0.35      0.43       145\n",
      "           septoria_leaf_spot       0.40      0.36      0.38       262\n",
      "                  target_spot       0.37      0.36      0.37       229\n",
      "          tomato_mosaic_virus       0.33      0.17      0.23        58\n",
      "tomato_yellow_leaf_curl_virus       0.64      0.64      0.64       857\n",
      "      two-spotted_spider_mite       0.50      0.51      0.51       251\n",
      "\n",
      "                     accuracy                           0.49      2907\n",
      "                    macro avg       0.44      0.41      0.42      2907\n",
      "                 weighted avg       0.49      0.49      0.48      2907\n",
      "\n",
      "[[210  14  20  17   0   8  12   0  64   4]\n",
      " [ 39  39   3   8   9  16  25   0  39   4]\n",
      " [ 36   6 146  26   2   6  11   0  19   6]\n",
      " [ 30  18  34 113  10  45  17   4  36   9]\n",
      " [ 12   5   6  28  51  10   2   1  26   4]\n",
      " [ 20  13  19  32   6  94  25   4  34  15]\n",
      " [ 30  16  10  14   2  14  83   1  23  36]\n",
      " [  1   0   0   4   2   1   1  10  34   5]\n",
      " [ 90  20  52  41  10  23  19   7 551  44]\n",
      " [ 12   9   8   1   0  20  30   3  40 128]]\n"
     ]
    }
   ],
   "source": [
    "#classification report\n",
    "y_predict = clf.fit(Ftrain, Ltrain).predict(Ftest)\n",
    "class_names = target.unique()\n",
    "print(classification_report(Ltest, y_predict, target_names=class_names))\n",
    "print(confusion_matrix(Ltest, y_predict))"
   ]
  },
  {
   "cell_type": "markdown",
   "id": "a670c4d4",
   "metadata": {},
   "source": [
    "# Random forest on Red channel data"
   ]
  },
  {
   "cell_type": "code",
   "execution_count": 52,
   "id": "9e816e9e",
   "metadata": {},
   "outputs": [
    {
     "data": {
      "text/plain": [
       "0.4581039229181005"
      ]
     },
     "execution_count": 52,
     "metadata": {},
     "output_type": "execute_result"
    }
   ],
   "source": [
    "classifier_rf.fit(Ftrain, Ltrain)\n",
    "classifier_rf.oob_score_"
   ]
  },
  {
   "cell_type": "code",
   "execution_count": 53,
   "id": "6d5daf40",
   "metadata": {},
   "outputs": [
    {
     "name": "stdout",
     "output_type": "stream",
     "text": [
      "                               precision    recall  f1-score   support\n",
      "\n",
      "               bacterial_spot       0.66      0.44      0.53       349\n",
      "                 early_blight       0.00      0.00      0.00       182\n",
      "                      healthy       0.62      0.30      0.41       258\n",
      "                  late_blight       0.72      0.28      0.40       316\n",
      "                    leaf_mold       0.60      0.02      0.04       145\n",
      "           septoria_leaf_spot       0.48      0.53      0.51       262\n",
      "                  target_spot       0.88      0.09      0.17       229\n",
      "          tomato_mosaic_virus       0.00      0.00      0.00        58\n",
      "tomato_yellow_leaf_curl_virus       0.41      0.89      0.56       857\n",
      "      two-spotted_spider_mite       0.51      0.49      0.50       251\n",
      "\n",
      "                     accuracy                           0.47      2907\n",
      "                    macro avg       0.49      0.31      0.31      2907\n",
      "                 weighted avg       0.52      0.47      0.41      2907\n",
      "\n",
      "[[155   0  11   7   0   2   0   0 174   0]\n",
      " [ 25   0   0   7   0  18   1   0 115  16]\n",
      " [  0   0  78   1   0   0   0   0 174   5]\n",
      " [  4   0   6  87   2  58   1   0 150   8]\n",
      " [  1   0   2  10   3  22   1   0  98   8]\n",
      " [  3   0   7   2   0 140   0   0 102   8]\n",
      " [  2   0   0   1   0  20  21   0 121  64]\n",
      " [  0   0   0   0   0   1   0   0  56   1]\n",
      " [ 38   0  21   6   0  18   0   0 766   8]\n",
      " [  6   0   0   0   0  13   0   0 108 124]]\n"
     ]
    },
    {
     "name": "stderr",
     "output_type": "stream",
     "text": [
      "C:\\Users\\ravic\\anaconda3\\lib\\site-packages\\sklearn\\metrics\\_classification.py:1327: UndefinedMetricWarning: Precision and F-score are ill-defined and being set to 0.0 in labels with no predicted samples. Use `zero_division` parameter to control this behavior.\n",
      "  _warn_prf(average, modifier, msg_start, len(result))\n",
      "C:\\Users\\ravic\\anaconda3\\lib\\site-packages\\sklearn\\metrics\\_classification.py:1327: UndefinedMetricWarning: Precision and F-score are ill-defined and being set to 0.0 in labels with no predicted samples. Use `zero_division` parameter to control this behavior.\n",
      "  _warn_prf(average, modifier, msg_start, len(result))\n",
      "C:\\Users\\ravic\\anaconda3\\lib\\site-packages\\sklearn\\metrics\\_classification.py:1327: UndefinedMetricWarning: Precision and F-score are ill-defined and being set to 0.0 in labels with no predicted samples. Use `zero_division` parameter to control this behavior.\n",
      "  _warn_prf(average, modifier, msg_start, len(result))\n"
     ]
    }
   ],
   "source": [
    "y_predict = classifier_rf.fit(Ftrain, Ltrain).predict(Ftest)\n",
    "class_names = target.unique()\n",
    "print(classification_report(Ltest, y_predict, target_names=class_names))\n",
    "print(confusion_matrix(Ltest, y_predict))"
   ]
  },
  {
   "cell_type": "markdown",
   "id": "e1c2d95a",
   "metadata": {},
   "source": [
    "# Naive Bayes on Red channel data"
   ]
  },
  {
   "cell_type": "code",
   "execution_count": 54,
   "id": "8ec0753c",
   "metadata": {},
   "outputs": [
    {
     "data": {
      "text/html": [
       "<style>#sk-container-id-5 {color: black;background-color: white;}#sk-container-id-5 pre{padding: 0;}#sk-container-id-5 div.sk-toggleable {background-color: white;}#sk-container-id-5 label.sk-toggleable__label {cursor: pointer;display: block;width: 100%;margin-bottom: 0;padding: 0.3em;box-sizing: border-box;text-align: center;}#sk-container-id-5 label.sk-toggleable__label-arrow:before {content: \"▸\";float: left;margin-right: 0.25em;color: #696969;}#sk-container-id-5 label.sk-toggleable__label-arrow:hover:before {color: black;}#sk-container-id-5 div.sk-estimator:hover label.sk-toggleable__label-arrow:before {color: black;}#sk-container-id-5 div.sk-toggleable__content {max-height: 0;max-width: 0;overflow: hidden;text-align: left;background-color: #f0f8ff;}#sk-container-id-5 div.sk-toggleable__content pre {margin: 0.2em;color: black;border-radius: 0.25em;background-color: #f0f8ff;}#sk-container-id-5 input.sk-toggleable__control:checked~div.sk-toggleable__content {max-height: 200px;max-width: 100%;overflow: auto;}#sk-container-id-5 input.sk-toggleable__control:checked~label.sk-toggleable__label-arrow:before {content: \"▾\";}#sk-container-id-5 div.sk-estimator input.sk-toggleable__control:checked~label.sk-toggleable__label {background-color: #d4ebff;}#sk-container-id-5 div.sk-label input.sk-toggleable__control:checked~label.sk-toggleable__label {background-color: #d4ebff;}#sk-container-id-5 input.sk-hidden--visually {border: 0;clip: rect(1px 1px 1px 1px);clip: rect(1px, 1px, 1px, 1px);height: 1px;margin: -1px;overflow: hidden;padding: 0;position: absolute;width: 1px;}#sk-container-id-5 div.sk-estimator {font-family: monospace;background-color: #f0f8ff;border: 1px dotted black;border-radius: 0.25em;box-sizing: border-box;margin-bottom: 0.5em;}#sk-container-id-5 div.sk-estimator:hover {background-color: #d4ebff;}#sk-container-id-5 div.sk-parallel-item::after {content: \"\";width: 100%;border-bottom: 1px solid gray;flex-grow: 1;}#sk-container-id-5 div.sk-label:hover label.sk-toggleable__label {background-color: #d4ebff;}#sk-container-id-5 div.sk-serial::before {content: \"\";position: absolute;border-left: 1px solid gray;box-sizing: border-box;top: 0;bottom: 0;left: 50%;z-index: 0;}#sk-container-id-5 div.sk-serial {display: flex;flex-direction: column;align-items: center;background-color: white;padding-right: 0.2em;padding-left: 0.2em;position: relative;}#sk-container-id-5 div.sk-item {position: relative;z-index: 1;}#sk-container-id-5 div.sk-parallel {display: flex;align-items: stretch;justify-content: center;background-color: white;position: relative;}#sk-container-id-5 div.sk-item::before, #sk-container-id-5 div.sk-parallel-item::before {content: \"\";position: absolute;border-left: 1px solid gray;box-sizing: border-box;top: 0;bottom: 0;left: 50%;z-index: -1;}#sk-container-id-5 div.sk-parallel-item {display: flex;flex-direction: column;z-index: 1;position: relative;background-color: white;}#sk-container-id-5 div.sk-parallel-item:first-child::after {align-self: flex-end;width: 50%;}#sk-container-id-5 div.sk-parallel-item:last-child::after {align-self: flex-start;width: 50%;}#sk-container-id-5 div.sk-parallel-item:only-child::after {width: 0;}#sk-container-id-5 div.sk-dashed-wrapped {border: 1px dashed gray;margin: 0 0.4em 0.5em 0.4em;box-sizing: border-box;padding-bottom: 0.4em;background-color: white;}#sk-container-id-5 div.sk-label label {font-family: monospace;font-weight: bold;display: inline-block;line-height: 1.2em;}#sk-container-id-5 div.sk-label-container {text-align: center;}#sk-container-id-5 div.sk-container {/* jupyter's `normalize.less` sets `[hidden] { display: none; }` but bootstrap.min.css set `[hidden] { display: none !important; }` so we also need the `!important` here to be able to override the default hidden behavior on the sphinx rendered scikit-learn.org. See: https://github.com/scikit-learn/scikit-learn/issues/21755 */display: inline-block !important;position: relative;}#sk-container-id-5 div.sk-text-repr-fallback {display: none;}</style><div id=\"sk-container-id-5\" class=\"sk-top-container\"><div class=\"sk-text-repr-fallback\"><pre>GaussianNB()</pre><b>In a Jupyter environment, please rerun this cell to show the HTML representation or trust the notebook. <br />On GitHub, the HTML representation is unable to render, please try loading this page with nbviewer.org.</b></div><div class=\"sk-container\" hidden><div class=\"sk-item\"><div class=\"sk-estimator sk-toggleable\"><input class=\"sk-toggleable__control sk-hidden--visually\" id=\"sk-estimator-id-5\" type=\"checkbox\" checked><label for=\"sk-estimator-id-5\" class=\"sk-toggleable__label sk-toggleable__label-arrow\">GaussianNB</label><div class=\"sk-toggleable__content\"><pre>GaussianNB()</pre></div></div></div></div></div>"
      ],
      "text/plain": [
       "GaussianNB()"
      ]
     },
     "execution_count": 54,
     "metadata": {},
     "output_type": "execute_result"
    }
   ],
   "source": [
    "gnb.fit(Ftrain, Ltrain)"
   ]
  },
  {
   "cell_type": "code",
   "execution_count": 55,
   "id": "9bd3c55d",
   "metadata": {},
   "outputs": [
    {
     "data": {
      "text/plain": [
       "0.3584451324389405"
      ]
     },
     "execution_count": 55,
     "metadata": {},
     "output_type": "execute_result"
    }
   ],
   "source": [
    "y_pred = gnb.predict(Ftest)\n",
    "metrics.accuracy_score(Ltest, y_pred)"
   ]
  },
  {
   "cell_type": "code",
   "execution_count": 56,
   "id": "fc44e44c",
   "metadata": {},
   "outputs": [
    {
     "name": "stdout",
     "output_type": "stream",
     "text": [
      "                               precision    recall  f1-score   support\n",
      "\n",
      "               bacterial_spot       0.49      0.68      0.57       349\n",
      "                 early_blight       0.21      0.20      0.20       182\n",
      "                      healthy       0.30      0.61      0.40       258\n",
      "                  late_blight       0.41      0.24      0.31       316\n",
      "                    leaf_mold       0.43      0.22      0.29       145\n",
      "           septoria_leaf_spot       0.28      0.49      0.36       262\n",
      "                  target_spot       0.43      0.40      0.41       229\n",
      "          tomato_mosaic_virus       0.13      0.55      0.21        58\n",
      "tomato_yellow_leaf_curl_virus       0.65      0.14      0.23       857\n",
      "      two-spotted_spider_mite       0.36      0.53      0.43       251\n",
      "\n",
      "                     accuracy                           0.36      2907\n",
      "                    macro avg       0.37      0.41      0.34      2907\n",
      "                 weighted avg       0.45      0.36      0.34      2907\n",
      "\n",
      "[[236   8  54   5   1   9  13  11   8   4]\n",
      " [ 50  37   4  28   9  17  15   4   8  10]\n",
      " [  3   2 157   9   4  25  26   0  17  15]\n",
      " [  3  38  95  77   9  53   9  15  10   7]\n",
      " [ 13   4   9  13  32  50   3   8   7   6]\n",
      " [  3  10  39  11   6 129  16  11   3  34]\n",
      " [  7  18   1  10   1  31  91   5   1  64]\n",
      " [  8   0   0   0   0   2   1  32   6   9]\n",
      " [149  49 160  30  13  91  17 141 117  90]\n",
      " [  9  14   0   4   0  47  23  18   2 134]]\n"
     ]
    }
   ],
   "source": [
    "class_names = target.unique()\n",
    "print(classification_report(Ltest, y_pred, target_names=class_names))\n",
    "print(confusion_matrix(Ltest, y_pred))"
   ]
  },
  {
   "cell_type": "markdown",
   "id": "1aad544a",
   "metadata": {},
   "source": [
    "# Decision Tree on Red channel"
   ]
  },
  {
   "cell_type": "code",
   "execution_count": 57,
   "id": "91934650",
   "metadata": {},
   "outputs": [
    {
     "data": {
      "text/plain": [
       "0.38837289301685585"
      ]
     },
     "execution_count": 57,
     "metadata": {},
     "output_type": "execute_result"
    }
   ],
   "source": [
    "classifier_tree.fit(Ftrain, Ltrain)\n",
    "classifier_tree.score(Ftest,Ltest)"
   ]
  },
  {
   "cell_type": "code",
   "execution_count": 58,
   "id": "897d5f1e",
   "metadata": {},
   "outputs": [
    {
     "name": "stdout",
     "output_type": "stream",
     "text": [
      "                               precision    recall  f1-score   support\n",
      "\n",
      "               bacterial_spot       0.47      0.45      0.46       349\n",
      "                 early_blight       0.11      0.10      0.11       182\n",
      "                      healthy       0.47      0.42      0.44       258\n",
      "                  late_blight       0.34      0.32      0.33       316\n",
      "                    leaf_mold       0.30      0.30      0.30       145\n",
      "           septoria_leaf_spot       0.26      0.34      0.30       262\n",
      "                  target_spot       0.32      0.35      0.33       229\n",
      "          tomato_mosaic_virus       0.09      0.07      0.08        58\n",
      "tomato_yellow_leaf_curl_virus       0.54      0.50      0.52       857\n",
      "      two-spotted_spider_mite       0.33      0.39      0.36       251\n",
      "\n",
      "                     accuracy                           0.39      2907\n",
      "                    macro avg       0.32      0.32      0.32      2907\n",
      "                 weighted avg       0.39      0.39      0.39      2907\n",
      "\n",
      "[[158  21  10  19   7  21  15   4  72  22]\n",
      " [ 31  19   3  12   6  19  15   1  55  21]\n",
      " [ 15   9 108  18   8  38  19   1  33   9]\n",
      " [ 21  22  23 100  14  41  18   2  49  26]\n",
      " [  5  11   7  15  44  16  10   3  28   6]\n",
      " [ 14  16  12  40  11  89  13   3  45  19]\n",
      " [ 11  11  15  15   5  26  80   5  28  33]\n",
      " [  0   2   4   1   7   6   3   4  22   9]\n",
      " [ 74  42  42  55  39  57  44  21 431  52]\n",
      " [  9  13   7  15   7  26  33   2  42  97]]\n"
     ]
    }
   ],
   "source": [
    "y_predict = classifier_tree.fit(Ftrain, Ltrain).predict(Ftest)\n",
    "class_names = target.unique()\n",
    "print(classification_report(Ltest, y_predict, target_names=class_names))\n",
    "print(confusion_matrix(Ltest, y_predict))"
   ]
  },
  {
   "cell_type": "markdown",
   "id": "21af7568",
   "metadata": {},
   "source": [
    "# KNN on green channel data"
   ]
  },
  {
   "cell_type": "code",
   "execution_count": 59,
   "id": "461b784b",
   "metadata": {},
   "outputs": [
    {
     "data": {
      "text/plain": [
       "0.4152046783625731"
      ]
     },
     "execution_count": 59,
     "metadata": {},
     "output_type": "execute_result"
    }
   ],
   "source": [
    "#reading numpy array data\n",
    "gray_test = np.load('green_data.npy')\n",
    "#reading csv file\n",
    "gray_df = pd.read_csv('green_data.csv')\n",
    "loaded = []\n",
    "for i in gray_test:\n",
    "    k = []\n",
    "    k = np.asarray(i,dtype='uint8')\n",
    "    loaded.append(k)\n",
    "features = loaded\n",
    "target = gray_df['disease']\n",
    "Ftrain,Ftest,Ltrain,Ltest=train_test_split(features,target, test_size=0.20, random_state=20)\n",
    "Ftrain = minmax.fit_transform(Ftrain)\n",
    "Ftest = minmax.fit_transform(Ftest)\n",
    "kmodel.fit(Ftrain,Ltrain)\n",
    "kmodel.score(Ftest,Ltest)"
   ]
  },
  {
   "cell_type": "code",
   "execution_count": 60,
   "id": "5a4d4f1d",
   "metadata": {},
   "outputs": [
    {
     "name": "stdout",
     "output_type": "stream",
     "text": [
      "                               precision    recall  f1-score   support\n",
      "\n",
      "               bacterial_spot       0.31      0.76      0.44       349\n",
      "                 early_blight       0.00      0.00      0.00       182\n",
      "                      healthy       0.32      0.59      0.41       258\n",
      "                  late_blight       0.23      0.27      0.25       316\n",
      "                    leaf_mold       0.60      0.32      0.41       145\n",
      "           septoria_leaf_spot       0.51      0.34      0.41       262\n",
      "                  target_spot       1.00      0.01      0.03       229\n",
      "          tomato_mosaic_virus       0.00      0.00      0.00        58\n",
      "tomato_yellow_leaf_curl_virus       0.60      0.57      0.58       857\n",
      "      two-spotted_spider_mite       0.57      0.32      0.41       251\n",
      "\n",
      "                     accuracy                           0.42      2907\n",
      "                    macro avg       0.41      0.32      0.29      2907\n",
      "                 weighted avg       0.47      0.42      0.38      2907\n",
      "\n",
      "[[265   0  34  23   0   3   0   0  24   0]\n",
      " [114   0  10   7   6   5   0   0  38   2]\n",
      " [ 29   0 151  54   0   4   0   0  20   0]\n",
      " [ 61   0  63  85   1  32   0   0  66   8]\n",
      " [ 27   0  19  28  46   5   0   0  18   2]\n",
      " [ 15   0  55  32   6  89   0   0  61   4]\n",
      " [ 97   0  17  27   3  13   3   0  39  30]\n",
      " [ 11   0   6  12   3   3   0   0  21   2]\n",
      " [159   0 107  67  10  13   0   0 488  13]\n",
      " [ 80   0   9  32   2   8   0   0  40  80]]\n"
     ]
    },
    {
     "name": "stderr",
     "output_type": "stream",
     "text": [
      "C:\\Users\\ravic\\anaconda3\\lib\\site-packages\\sklearn\\metrics\\_classification.py:1327: UndefinedMetricWarning: Precision and F-score are ill-defined and being set to 0.0 in labels with no predicted samples. Use `zero_division` parameter to control this behavior.\n",
      "  _warn_prf(average, modifier, msg_start, len(result))\n",
      "C:\\Users\\ravic\\anaconda3\\lib\\site-packages\\sklearn\\metrics\\_classification.py:1327: UndefinedMetricWarning: Precision and F-score are ill-defined and being set to 0.0 in labels with no predicted samples. Use `zero_division` parameter to control this behavior.\n",
      "  _warn_prf(average, modifier, msg_start, len(result))\n",
      "C:\\Users\\ravic\\anaconda3\\lib\\site-packages\\sklearn\\metrics\\_classification.py:1327: UndefinedMetricWarning: Precision and F-score are ill-defined and being set to 0.0 in labels with no predicted samples. Use `zero_division` parameter to control this behavior.\n",
      "  _warn_prf(average, modifier, msg_start, len(result))\n"
     ]
    }
   ],
   "source": [
    "#printing results of the kmodel\n",
    "y_predict = kmodel.fit(Ftrain, Ltrain).predict(Ftest)\n",
    "class_names = target.unique()\n",
    "print(classification_report(Ltest, y_predict, target_names=class_names))\n",
    "print(confusion_matrix(Ltest, y_predict))"
   ]
  },
  {
   "cell_type": "markdown",
   "id": "71f3ea86",
   "metadata": {},
   "source": [
    "# Logistic on Green channel data"
   ]
  },
  {
   "cell_type": "code",
   "execution_count": 61,
   "id": "28dad6b2",
   "metadata": {},
   "outputs": [
    {
     "data": {
      "text/plain": [
       "0.4152046783625731"
      ]
     },
     "execution_count": 61,
     "metadata": {},
     "output_type": "execute_result"
    }
   ],
   "source": [
    "model.fit(Ftrain,Ltrain)\n",
    "model.score(Ftest,Ltest)"
   ]
  },
  {
   "cell_type": "code",
   "execution_count": 62,
   "id": "3c0993f1",
   "metadata": {},
   "outputs": [
    {
     "name": "stdout",
     "output_type": "stream",
     "text": [
      "                               precision    recall  f1-score   support\n",
      "\n",
      "               bacterial_spot       0.35      0.62      0.45       349\n",
      "                 early_blight       0.22      0.13      0.16       182\n",
      "                      healthy       0.51      0.30      0.38       258\n",
      "                  late_blight       0.30      0.26      0.28       316\n",
      "                    leaf_mold       0.37      0.23      0.28       145\n",
      "           septoria_leaf_spot       0.27      0.31      0.29       262\n",
      "                  target_spot       0.26      0.19      0.22       229\n",
      "          tomato_mosaic_virus       0.31      0.09      0.14        58\n",
      "tomato_yellow_leaf_curl_virus       0.58      0.66      0.61       857\n",
      "      two-spotted_spider_mite       0.39      0.31      0.35       251\n",
      "\n",
      "                     accuracy                           0.42      2907\n",
      "                    macro avg       0.36      0.31      0.32      2907\n",
      "                 weighted avg       0.41      0.42      0.40      2907\n",
      "\n",
      "[[218   7   6  19   2  17  11   0  62   7]\n",
      " [ 56  24   2   8   5  13  21   1  40  12]\n",
      " [ 46   7  77  31   5  18  16   0  42  16]\n",
      " [ 48  21  21  83  18  50  16   2  49   8]\n",
      " [ 24   7   2  29  33  11   2   2  27   8]\n",
      " [ 36  11   9  25   6  81  17   2  60  15]\n",
      " [ 66   9  11  17   1  18  43   0  40  24]\n",
      " [  3   1   0   8   3   3   4   5  28   3]\n",
      " [ 97  12  19  45  14  60  13   4 565  28]\n",
      " [ 33  10   3   9   3  26  20   0  69  78]]\n"
     ]
    }
   ],
   "source": [
    "#classification report\n",
    "y_predict = model.fit(Ftrain, Ltrain).predict(Ftest)\n",
    "class_names = target.unique()\n",
    "print(classification_report(Ltest, y_predict, target_names=class_names))\n",
    "print(confusion_matrix(Ltest, y_predict))"
   ]
  },
  {
   "cell_type": "markdown",
   "id": "f62f0223",
   "metadata": {},
   "source": [
    "# SVM on green channel data"
   ]
  },
  {
   "cell_type": "code",
   "execution_count": 63,
   "id": "e89e7297",
   "metadata": {},
   "outputs": [
    {
     "name": "stdout",
     "output_type": "stream",
     "text": [
      "0.43034055727554177\n"
     ]
    }
   ],
   "source": [
    "clf.fit(Ftrain,Ltrain)\n",
    "y_pred = clf.predict(Ftest)\n",
    "print(accuracy_score(Ltest,y_pred))"
   ]
  },
  {
   "cell_type": "code",
   "execution_count": 64,
   "id": "aaec32cf",
   "metadata": {},
   "outputs": [
    {
     "name": "stdout",
     "output_type": "stream",
     "text": [
      "                               precision    recall  f1-score   support\n",
      "\n",
      "               bacterial_spot       0.33      0.62      0.43       349\n",
      "                 early_blight       0.26      0.25      0.25       182\n",
      "                      healthy       0.48      0.47      0.48       258\n",
      "                  late_blight       0.38      0.27      0.32       316\n",
      "                    leaf_mold       0.36      0.25      0.29       145\n",
      "           septoria_leaf_spot       0.32      0.34      0.33       262\n",
      "                  target_spot       0.29      0.27      0.28       229\n",
      "          tomato_mosaic_virus       0.28      0.09      0.13        58\n",
      "tomato_yellow_leaf_curl_virus       0.63      0.60      0.61       857\n",
      "      two-spotted_spider_mite       0.46      0.32      0.38       251\n",
      "\n",
      "                     accuracy                           0.43      2907\n",
      "                    macro avg       0.38      0.35      0.35      2907\n",
      "                 weighted avg       0.44      0.43      0.43      2907\n",
      "\n",
      "[[216  15  17  13   0  16  17   0  49   6]\n",
      " [ 55  45   3   6   9   7  22   0  24  11]\n",
      " [ 48   7 121  17   4  16  21   0  17   7]\n",
      " [ 38  36  26  85  14  48  12   5  43   9]\n",
      " [ 24   9   4  20  36  13   2   2  31   4]\n",
      " [ 47  10  15  24   5  88  18   3  42  10]\n",
      " [ 67  10   8  15   6  14  62   1  26  20]\n",
      " [ 10   0   2  11   3   3   5   5  18   1]\n",
      " [122  23  49  28  17  50  26   2 512  28]\n",
      " [ 36  16   6   3   6  22  32   0  49  81]]\n"
     ]
    }
   ],
   "source": [
    "#classification report\n",
    "y_predict = clf.fit(Ftrain, Ltrain).predict(Ftest)\n",
    "class_names = target.unique()\n",
    "print(classification_report(Ltest, y_predict, target_names=class_names))\n",
    "print(confusion_matrix(Ltest, y_predict))"
   ]
  },
  {
   "cell_type": "markdown",
   "id": "4f8e565e",
   "metadata": {},
   "source": [
    "# Random Forest on green channel data"
   ]
  },
  {
   "cell_type": "code",
   "execution_count": 65,
   "id": "96c92f8f",
   "metadata": {},
   "outputs": [
    {
     "data": {
      "text/plain": [
       "0.4284239504473503"
      ]
     },
     "execution_count": 65,
     "metadata": {},
     "output_type": "execute_result"
    }
   ],
   "source": [
    "classifier_rf.fit(Ftrain, Ltrain)\n",
    "classifier_rf.oob_score_"
   ]
  },
  {
   "cell_type": "code",
   "execution_count": 66,
   "id": "a855ce64",
   "metadata": {},
   "outputs": [
    {
     "name": "stdout",
     "output_type": "stream",
     "text": [
      "                               precision    recall  f1-score   support\n",
      "\n",
      "               bacterial_spot       0.58      0.37      0.45       349\n",
      "                 early_blight       0.00      0.00      0.00       182\n",
      "                      healthy       0.65      0.37      0.47       258\n",
      "                  late_blight       0.81      0.22      0.34       316\n",
      "                    leaf_mold       0.00      0.00      0.00       145\n",
      "           septoria_leaf_spot       0.52      0.46      0.49       262\n",
      "                  target_spot       0.00      0.00      0.00       229\n",
      "          tomato_mosaic_virus       0.00      0.00      0.00        58\n",
      "tomato_yellow_leaf_curl_virus       0.36      0.93      0.52       857\n",
      "      two-spotted_spider_mite       0.76      0.05      0.10       251\n",
      "\n",
      "                     accuracy                           0.42      2907\n",
      "                    macro avg       0.37      0.24      0.24      2907\n",
      "                 weighted avg       0.43      0.42      0.34      2907\n",
      "\n",
      "[[128   0   9   2   0   2   0   0 208   0]\n",
      " [ 23   0   1   6   0  21   0   0 131   0]\n",
      " [  1   0  96   2   0   0   0   0 159   0]\n",
      " [ 11   0  17  69   0  36   0   0 183   0]\n",
      " [  9   0   1   1   0   9   0   0 125   0]\n",
      " [  0   0  13   3   0 120   0   0 126   0]\n",
      " [  1   0   1   0   0  14   0   0 209   4]\n",
      " [  3   0   0   0   0   0   0   0  55   0]\n",
      " [ 35   0   9   2   0  17   0   0 794   0]\n",
      " [  9   0   0   0   0  13   0   0 216  13]]\n"
     ]
    },
    {
     "name": "stderr",
     "output_type": "stream",
     "text": [
      "C:\\Users\\ravic\\anaconda3\\lib\\site-packages\\sklearn\\metrics\\_classification.py:1327: UndefinedMetricWarning: Precision and F-score are ill-defined and being set to 0.0 in labels with no predicted samples. Use `zero_division` parameter to control this behavior.\n",
      "  _warn_prf(average, modifier, msg_start, len(result))\n",
      "C:\\Users\\ravic\\anaconda3\\lib\\site-packages\\sklearn\\metrics\\_classification.py:1327: UndefinedMetricWarning: Precision and F-score are ill-defined and being set to 0.0 in labels with no predicted samples. Use `zero_division` parameter to control this behavior.\n",
      "  _warn_prf(average, modifier, msg_start, len(result))\n",
      "C:\\Users\\ravic\\anaconda3\\lib\\site-packages\\sklearn\\metrics\\_classification.py:1327: UndefinedMetricWarning: Precision and F-score are ill-defined and being set to 0.0 in labels with no predicted samples. Use `zero_division` parameter to control this behavior.\n",
      "  _warn_prf(average, modifier, msg_start, len(result))\n"
     ]
    }
   ],
   "source": [
    "y_predict = classifier_rf.fit(Ftrain, Ltrain).predict(Ftest)\n",
    "class_names = target.unique()\n",
    "print(classification_report(Ltest, y_predict, target_names=class_names))\n",
    "print(confusion_matrix(Ltest, y_predict))"
   ]
  },
  {
   "cell_type": "markdown",
   "id": "e9b1cca9",
   "metadata": {},
   "source": [
    "# Naive bayes on Green channel data"
   ]
  },
  {
   "cell_type": "code",
   "execution_count": 67,
   "id": "1136802c",
   "metadata": {},
   "outputs": [
    {
     "data": {
      "text/plain": [
       "0.32989336085311316"
      ]
     },
     "execution_count": 67,
     "metadata": {},
     "output_type": "execute_result"
    }
   ],
   "source": [
    "gnb.fit(Ftrain, Ltrain)\n",
    "GaussianNB()\n",
    "y_pred = gnb.predict(Ftest)\n",
    "metrics.accuracy_score(Ltest, y_pred)"
   ]
  },
  {
   "cell_type": "code",
   "execution_count": 68,
   "id": "08e6f602",
   "metadata": {},
   "outputs": [
    {
     "name": "stdout",
     "output_type": "stream",
     "text": [
      "                               precision    recall  f1-score   support\n",
      "\n",
      "               bacterial_spot       0.46      0.67      0.55       349\n",
      "                 early_blight       0.22      0.26      0.24       182\n",
      "                      healthy       0.34      0.51      0.40       258\n",
      "                  late_blight       0.39      0.25      0.31       316\n",
      "                    leaf_mold       0.41      0.28      0.33       145\n",
      "           septoria_leaf_spot       0.24      0.58      0.34       262\n",
      "                  target_spot       0.36      0.25      0.30       229\n",
      "          tomato_mosaic_virus       0.10      0.40      0.16        58\n",
      "tomato_yellow_leaf_curl_virus       0.54      0.12      0.19       857\n",
      "      two-spotted_spider_mite       0.33      0.37      0.35       251\n",
      "\n",
      "                     accuracy                           0.33      2907\n",
      "                    macro avg       0.34      0.37      0.32      2907\n",
      "                 weighted avg       0.40      0.33      0.31      2907\n",
      "\n",
      "[[235   8  32   1   5  25   8  22   5   8]\n",
      " [ 47  48   4  30   8  13  14   2   2  14]\n",
      " [  4   3 131   9   4  27  30   3  34  13]\n",
      " [  7  45  85  79   4  46  10  20   9  11]\n",
      " [ 19   3   5  12  40  38   4  16   3   5]\n",
      " [  2   4  36  12   6 153  11  17   7  14]\n",
      " [  9  17   3  21   8  58  58   8   5  42]\n",
      " [  9   0   3   0   2   5   0  23   9   7]\n",
      " [167  60  90  29  14 215  16  91  99  76]\n",
      " [ 11  28   0   9   6  62  11  20  11  93]]\n"
     ]
    }
   ],
   "source": [
    "class_names = target.unique()\n",
    "print(classification_report(Ltest, y_pred, target_names=class_names))\n",
    "print(confusion_matrix(Ltest, y_pred))"
   ]
  },
  {
   "cell_type": "markdown",
   "id": "ad497b39",
   "metadata": {},
   "source": [
    "# Decision Tree on Green channel"
   ]
  },
  {
   "cell_type": "code",
   "execution_count": 69,
   "id": "458fe744",
   "metadata": {},
   "outputs": [
    {
     "data": {
      "text/plain": [
       "0.36945304437564497"
      ]
     },
     "execution_count": 69,
     "metadata": {},
     "output_type": "execute_result"
    }
   ],
   "source": [
    "classifier_tree.fit(Ftrain, Ltrain)\n",
    "classifier_tree.score(Ftest,Ltest)"
   ]
  },
  {
   "cell_type": "code",
   "execution_count": 70,
   "id": "60ea8164",
   "metadata": {},
   "outputs": [
    {
     "name": "stdout",
     "output_type": "stream",
     "text": [
      "                               precision    recall  f1-score   support\n",
      "\n",
      "               bacterial_spot       0.41      0.38      0.40       349\n",
      "                 early_blight       0.14      0.16      0.15       182\n",
      "                      healthy       0.40      0.38      0.39       258\n",
      "                  late_blight       0.32      0.25      0.28       316\n",
      "                    leaf_mold       0.20      0.19      0.19       145\n",
      "           septoria_leaf_spot       0.29      0.40      0.34       262\n",
      "                  target_spot       0.18      0.17      0.18       229\n",
      "          tomato_mosaic_virus       0.10      0.10      0.10        58\n",
      "tomato_yellow_leaf_curl_virus       0.55      0.53      0.54       857\n",
      "      two-spotted_spider_mite       0.29      0.32      0.30       251\n",
      "\n",
      "                     accuracy                           0.36      2907\n",
      "                    macro avg       0.29      0.29      0.29      2907\n",
      "                 weighted avg       0.37      0.36      0.36      2907\n",
      "\n",
      "[[134  28  16  26  20  15  18   5  74  13]\n",
      " [ 27  29   7  17   4  20  15   4  36  23]\n",
      " [ 11   8  98  26  14  28  15   5  40  13]\n",
      " [ 16  25  22  80  11  54  17   8  62  21]\n",
      " [ 15   6   7   8  28  25  10   4  30  12]\n",
      " [ 18  13  19  25   9 104  15   4  46   9]\n",
      " [ 16  27  15  10  14  23  39   4  38  43]\n",
      " [  9   3   4   3   3   8   3   6  11   8]\n",
      " [ 66  42  47  48  34  55  42  13 454  56]\n",
      " [ 13  22   9  10   6  24  39   8  40  80]]\n"
     ]
    }
   ],
   "source": [
    "y_predict = classifier_tree.fit(Ftrain, Ltrain).predict(Ftest)\n",
    "class_names = target.unique()\n",
    "print(classification_report(Ltest, y_predict, target_names=class_names))\n",
    "print(confusion_matrix(Ltest, y_predict))"
   ]
  },
  {
   "cell_type": "markdown",
   "id": "75817642",
   "metadata": {},
   "source": [
    "# KNN on blue channel data"
   ]
  },
  {
   "cell_type": "code",
   "execution_count": 71,
   "id": "531e3624",
   "metadata": {},
   "outputs": [
    {
     "data": {
      "text/plain": [
       "0.5259717922256621"
      ]
     },
     "execution_count": 71,
     "metadata": {},
     "output_type": "execute_result"
    }
   ],
   "source": [
    "#reading numpy array data\n",
    "gray_test = np.load('blue_data.npy')\n",
    "#reading csv file\n",
    "gray_df = pd.read_csv('blue_data.csv')\n",
    "loaded = []\n",
    "for i in gray_test:\n",
    "    k = []\n",
    "    k = np.asarray(i,dtype='uint8')\n",
    "    loaded.append(k)\n",
    "features = loaded\n",
    "target = gray_df['disease']\n",
    "Ftrain,Ftest,Ltrain,Ltest=train_test_split(features,target, test_size=0.20, random_state=20)\n",
    "Ftrain = minmax.fit_transform(Ftrain)\n",
    "Ftest = minmax.fit_transform(Ftest)\n",
    "kmodel.fit(Ftrain,Ltrain)\n",
    "kmodel.score(Ftest,Ltest)"
   ]
  },
  {
   "cell_type": "code",
   "execution_count": 72,
   "id": "1314e157",
   "metadata": {},
   "outputs": [
    {
     "name": "stdout",
     "output_type": "stream",
     "text": [
      "                               precision    recall  f1-score   support\n",
      "\n",
      "               bacterial_spot       0.33      0.81      0.47       349\n",
      "                 early_blight       0.00      0.00      0.00       182\n",
      "                      healthy       0.42      0.84      0.56       258\n",
      "                  late_blight       0.46      0.36      0.40       316\n",
      "                    leaf_mold       0.62      0.58      0.60       145\n",
      "           septoria_leaf_spot       0.59      0.46      0.51       262\n",
      "                  target_spot       0.61      0.10      0.17       229\n",
      "          tomato_mosaic_virus       0.00      0.00      0.00        58\n",
      "tomato_yellow_leaf_curl_virus       0.79      0.71      0.75       857\n",
      "      two-spotted_spider_mite       0.59      0.31      0.40       251\n",
      "\n",
      "                     accuracy                           0.53      2907\n",
      "                    macro avg       0.44      0.42      0.39      2907\n",
      "                 weighted avg       0.54      0.53      0.50      2907\n",
      "\n",
      "[[284   0  39  10   0   2   0   0  13   1]\n",
      " [104   0  24   5   7   4   3   0  32   3]\n",
      " [ 19   0 217  16   1   0   2   0   1   2]\n",
      " [ 57   0  62 114  13  30   2   0  32   6]\n",
      " [ 11   0   9  17  84   6   3   0   9   6]\n",
      " [ 46   0  15  23  23 120   2   0  26   7]\n",
      " [ 80   0  79  16   1  11  23   1   6  12]\n",
      " [  2   0   8  21   3   9   0   0   5  10]\n",
      " [186   0  16  19   3  16   1   0 610   6]\n",
      " [ 74   0  43   9   1   7   2   0  38  77]]\n"
     ]
    },
    {
     "name": "stderr",
     "output_type": "stream",
     "text": [
      "C:\\Users\\ravic\\anaconda3\\lib\\site-packages\\sklearn\\metrics\\_classification.py:1327: UndefinedMetricWarning: Precision and F-score are ill-defined and being set to 0.0 in labels with no predicted samples. Use `zero_division` parameter to control this behavior.\n",
      "  _warn_prf(average, modifier, msg_start, len(result))\n",
      "C:\\Users\\ravic\\anaconda3\\lib\\site-packages\\sklearn\\metrics\\_classification.py:1327: UndefinedMetricWarning: Precision and F-score are ill-defined and being set to 0.0 in labels with no predicted samples. Use `zero_division` parameter to control this behavior.\n",
      "  _warn_prf(average, modifier, msg_start, len(result))\n",
      "C:\\Users\\ravic\\anaconda3\\lib\\site-packages\\sklearn\\metrics\\_classification.py:1327: UndefinedMetricWarning: Precision and F-score are ill-defined and being set to 0.0 in labels with no predicted samples. Use `zero_division` parameter to control this behavior.\n",
      "  _warn_prf(average, modifier, msg_start, len(result))\n"
     ]
    }
   ],
   "source": [
    "#printing results of the kmodel\n",
    "y_predict = kmodel.fit(Ftrain, Ltrain).predict(Ftest)\n",
    "class_names = target.unique()\n",
    "print(classification_report(Ltest, y_predict, target_names=class_names))\n",
    "print(confusion_matrix(Ltest, y_predict))"
   ]
  },
  {
   "cell_type": "markdown",
   "id": "f452a113",
   "metadata": {},
   "source": [
    "# logistic on blue channel data"
   ]
  },
  {
   "cell_type": "code",
   "execution_count": 73,
   "id": "de158586",
   "metadata": {},
   "outputs": [
    {
     "data": {
      "text/plain": [
       "0.52218782249742"
      ]
     },
     "execution_count": 73,
     "metadata": {},
     "output_type": "execute_result"
    }
   ],
   "source": [
    "model.fit(Ftrain,Ltrain)\n",
    "model.score(Ftest,Ltest)"
   ]
  },
  {
   "cell_type": "code",
   "execution_count": 74,
   "id": "489ce7e9",
   "metadata": {},
   "outputs": [
    {
     "name": "stdout",
     "output_type": "stream",
     "text": [
      "                               precision    recall  f1-score   support\n",
      "\n",
      "               bacterial_spot       0.48      0.62      0.54       349\n",
      "                 early_blight       0.18      0.14      0.16       182\n",
      "                      healthy       0.58      0.54      0.56       258\n",
      "                  late_blight       0.45      0.44      0.45       316\n",
      "                    leaf_mold       0.40      0.54      0.46       145\n",
      "           septoria_leaf_spot       0.40      0.33      0.36       262\n",
      "                  target_spot       0.30      0.34      0.32       229\n",
      "          tomato_mosaic_virus       0.46      0.21      0.29        58\n",
      "tomato_yellow_leaf_curl_virus       0.80      0.75      0.77       857\n",
      "      two-spotted_spider_mite       0.38      0.40      0.39       251\n",
      "\n",
      "                     accuracy                           0.52      2907\n",
      "                    macro avg       0.44      0.43      0.43      2907\n",
      "                 weighted avg       0.53      0.52      0.52      2907\n",
      "\n",
      "[[217  11  19  24   6   6   9   0  39  18]\n",
      " [ 32  26   8  20   9  11  34   0  30  12]\n",
      " [ 16  11 140  30   5   5  35   0   0  16]\n",
      " [ 27  21  32 138  22  26  19   1  17  13]\n",
      " [  7   7   0  16  79  15   8   2   8   3]\n",
      " [ 14  15   3  18  36  87  24   6  34  25]\n",
      " [ 32  17  23  20   3  18  78   1   4  33]\n",
      " [  2   3   1   7  10   8   2  12   5   8]\n",
      " [ 74  25   3  23  14  27  10   2 640  39]\n",
      " [ 27   7  12   8  13  15  38   2  28 101]]\n"
     ]
    }
   ],
   "source": [
    "#classification report\n",
    "y_predict = model.fit(Ftrain, Ltrain).predict(Ftest)\n",
    "class_names = target.unique()\n",
    "print(classification_report(Ltest, y_predict, target_names=class_names))\n",
    "print(confusion_matrix(Ltest, y_predict))"
   ]
  },
  {
   "cell_type": "markdown",
   "id": "c7585c1d",
   "metadata": {},
   "source": [
    "# SVM on blue channel data"
   ]
  },
  {
   "cell_type": "code",
   "execution_count": 75,
   "id": "06fb4a0f",
   "metadata": {},
   "outputs": [
    {
     "name": "stdout",
     "output_type": "stream",
     "text": [
      "0.5177158582731338\n"
     ]
    }
   ],
   "source": [
    "clf.fit(Ftrain,Ltrain)\n",
    "y_pred = clf.predict(Ftest)\n",
    "print(accuracy_score(Ltest,y_pred))"
   ]
  },
  {
   "cell_type": "code",
   "execution_count": 76,
   "id": "03a12a5f",
   "metadata": {},
   "outputs": [
    {
     "name": "stdout",
     "output_type": "stream",
     "text": [
      "                               precision    recall  f1-score   support\n",
      "\n",
      "               bacterial_spot       0.49      0.62      0.54       349\n",
      "                 early_blight       0.12      0.16      0.14       182\n",
      "                      healthy       0.59      0.68      0.63       258\n",
      "                  late_blight       0.51      0.47      0.49       316\n",
      "                    leaf_mold       0.40      0.58      0.47       145\n",
      "           septoria_leaf_spot       0.40      0.35      0.37       262\n",
      "                  target_spot       0.35      0.40      0.37       229\n",
      "          tomato_mosaic_virus       0.46      0.29      0.36        58\n",
      "tomato_yellow_leaf_curl_virus       0.81      0.65      0.72       857\n",
      "      two-spotted_spider_mite       0.46      0.36      0.40       251\n",
      "\n",
      "                     accuracy                           0.52      2907\n",
      "                    macro avg       0.46      0.46      0.45      2907\n",
      "                 weighted avg       0.54      0.52      0.52      2907\n",
      "\n",
      "[[215  32  19  13   6   6  18   0  28  12]\n",
      " [ 24  29   7  21  12  12  33   2  32  10]\n",
      " [  8  16 176  19   3   2  25   0   0   9]\n",
      " [ 19  35  29 148  21  25  11   3  18   7]\n",
      " [  2  10   0  13  84  17   7   4   4   4]\n",
      " [ 13  28   4  20  39  93  22   4  23  16]\n",
      " [ 21  22  37  18   7  12  91   0   5  16]\n",
      " [  2   1   2   8  10   9   1  17   5   3]\n",
      " [112  53   2  27  16  37  12   5 561  32]\n",
      " [ 26  13  21   3  13  22  41   2  19  91]]\n"
     ]
    }
   ],
   "source": [
    "#classification report\n",
    "y_predict = clf.fit(Ftrain, Ltrain).predict(Ftest)\n",
    "class_names = target.unique()\n",
    "print(classification_report(Ltest, y_predict, target_names=class_names))\n",
    "print(confusion_matrix(Ltest, y_predict))"
   ]
  },
  {
   "cell_type": "markdown",
   "id": "f4eb8c6c",
   "metadata": {},
   "source": [
    "# Random Forest on blue channel data"
   ]
  },
  {
   "cell_type": "code",
   "execution_count": 77,
   "id": "b71407b2",
   "metadata": {},
   "outputs": [
    {
     "data": {
      "text/plain": [
       "0.5307983482450104"
      ]
     },
     "execution_count": 77,
     "metadata": {},
     "output_type": "execute_result"
    }
   ],
   "source": [
    "classifier_rf.fit(Ftrain, Ltrain)\n",
    "classifier_rf.oob_score_"
   ]
  },
  {
   "cell_type": "code",
   "execution_count": 78,
   "id": "f7d75463",
   "metadata": {},
   "outputs": [
    {
     "name": "stdout",
     "output_type": "stream",
     "text": [
      "                               precision    recall  f1-score   support\n",
      "\n",
      "               bacterial_spot       0.68      0.54      0.60       349\n",
      "                 early_blight       0.00      0.00      0.00       182\n",
      "                      healthy       0.50      0.79      0.61       258\n",
      "                  late_blight       0.56      0.28      0.37       316\n",
      "                    leaf_mold       0.81      0.32      0.46       145\n",
      "           septoria_leaf_spot       0.42      0.61      0.50       262\n",
      "                  target_spot       0.40      0.20      0.27       229\n",
      "          tomato_mosaic_virus       0.00      0.00      0.00        58\n",
      "tomato_yellow_leaf_curl_virus       0.56      0.94      0.70       857\n",
      "      two-spotted_spider_mite       0.41      0.13      0.20       251\n",
      "\n",
      "                     accuracy                           0.54      2907\n",
      "                    macro avg       0.43      0.38      0.37      2907\n",
      "                 weighted avg       0.50      0.54      0.48      2907\n",
      "\n",
      "[[190   0  33  11   0   5   3   0 107   0]\n",
      " [ 16   0  11  11   2  26   7   0 104   5]\n",
      " [ 10   0 203   2   1   8  13   0  14   7]\n",
      " [  6   0  68  87   3  63   8   0  76   5]\n",
      " [  3   0   2  16  47  36   8   0  31   2]\n",
      " [ 10   0   6  10   4 161   4   0  64   3]\n",
      " [ 18   0  49   7   0  46  46   0  46  17]\n",
      " [  0   0   7   3   1  11   2   0  28   6]\n",
      " [ 23   0   3   4   0  16   4   0 805   2]\n",
      " [  5   0  26   4   0   8  21   0 154  33]]\n"
     ]
    },
    {
     "name": "stderr",
     "output_type": "stream",
     "text": [
      "C:\\Users\\ravic\\anaconda3\\lib\\site-packages\\sklearn\\metrics\\_classification.py:1327: UndefinedMetricWarning: Precision and F-score are ill-defined and being set to 0.0 in labels with no predicted samples. Use `zero_division` parameter to control this behavior.\n",
      "  _warn_prf(average, modifier, msg_start, len(result))\n",
      "C:\\Users\\ravic\\anaconda3\\lib\\site-packages\\sklearn\\metrics\\_classification.py:1327: UndefinedMetricWarning: Precision and F-score are ill-defined and being set to 0.0 in labels with no predicted samples. Use `zero_division` parameter to control this behavior.\n",
      "  _warn_prf(average, modifier, msg_start, len(result))\n",
      "C:\\Users\\ravic\\anaconda3\\lib\\site-packages\\sklearn\\metrics\\_classification.py:1327: UndefinedMetricWarning: Precision and F-score are ill-defined and being set to 0.0 in labels with no predicted samples. Use `zero_division` parameter to control this behavior.\n",
      "  _warn_prf(average, modifier, msg_start, len(result))\n"
     ]
    }
   ],
   "source": [
    "y_predict = classifier_rf.fit(Ftrain, Ltrain).predict(Ftest)\n",
    "class_names = target.unique()\n",
    "print(classification_report(Ltest, y_predict, target_names=class_names))\n",
    "print(confusion_matrix(Ltest, y_predict))"
   ]
  },
  {
   "cell_type": "markdown",
   "id": "fb1ca20e",
   "metadata": {},
   "source": [
    "# Naive bayes on blue channel data"
   ]
  },
  {
   "cell_type": "code",
   "execution_count": 79,
   "id": "11ea0b85",
   "metadata": {},
   "outputs": [
    {
     "data": {
      "text/plain": [
       "0.4957000343997248"
      ]
     },
     "execution_count": 79,
     "metadata": {},
     "output_type": "execute_result"
    }
   ],
   "source": [
    "gnb.fit(Ftrain, Ltrain)\n",
    "GaussianNB()\n",
    "y_pred = gnb.predict(Ftest)\n",
    "metrics.accuracy_score(Ltest, y_pred)"
   ]
  },
  {
   "cell_type": "code",
   "execution_count": 80,
   "id": "b8a32aab",
   "metadata": {},
   "outputs": [
    {
     "name": "stdout",
     "output_type": "stream",
     "text": [
      "                               precision    recall  f1-score   support\n",
      "\n",
      "               bacterial_spot       0.65      0.66      0.66       349\n",
      "                 early_blight       0.21      0.23      0.22       182\n",
      "                      healthy       0.46      0.52      0.49       258\n",
      "                  late_blight       0.45      0.25      0.32       316\n",
      "                    leaf_mold       0.55      0.54      0.55       145\n",
      "           septoria_leaf_spot       0.42      0.52      0.46       262\n",
      "                  target_spot       0.34      0.50      0.40       229\n",
      "          tomato_mosaic_virus       0.16      0.78      0.26        58\n",
      "tomato_yellow_leaf_curl_virus       0.88      0.58      0.70       857\n",
      "      two-spotted_spider_mite       0.35      0.33      0.34       251\n",
      "\n",
      "                     accuracy                           0.50      2907\n",
      "                    macro avg       0.45      0.49      0.44      2907\n",
      "                 weighted avg       0.57      0.50      0.51      2907\n",
      "\n",
      "[[231  13  36   5   1   1  24   9  18  11]\n",
      " [ 14  41   8  28  11  15  28   6  19  12]\n",
      " [  7   2 135   7   6   7  85   1   0   8]\n",
      " [  3  41  71  79  15  39  12  43   9   4]\n",
      " [  2   0   1   9  78  28   8  15   1   3]\n",
      " [ 16  13   7  13  17 135  13  30   6  12]\n",
      " [  4  11  13  17   1  40 114  10   0  19]\n",
      " [  0   0   2   0   3   3   1  45   1   3]\n",
      " [ 74  59  13  11   6  29  10  74 499  82]\n",
      " [  3  17   7   5   3  27  43  51  11  84]]\n"
     ]
    }
   ],
   "source": [
    "class_names = target.unique()\n",
    "print(classification_report(Ltest, y_pred, target_names=class_names))\n",
    "print(confusion_matrix(Ltest, y_pred))"
   ]
  },
  {
   "cell_type": "markdown",
   "id": "f125f7c4",
   "metadata": {},
   "source": [
    "# Decision Tree on blue channel"
   ]
  },
  {
   "cell_type": "code",
   "execution_count": 81,
   "id": "88bfbe14",
   "metadata": {},
   "outputs": [
    {
     "data": {
      "text/plain": [
       "0.40970072239422084"
      ]
     },
     "execution_count": 81,
     "metadata": {},
     "output_type": "execute_result"
    }
   ],
   "source": [
    "classifier_tree.fit(Ftrain, Ltrain)\n",
    "classifier_tree.score(Ftest,Ltest)"
   ]
  },
  {
   "cell_type": "code",
   "execution_count": 82,
   "id": "6e2c73b8",
   "metadata": {},
   "outputs": [
    {
     "name": "stdout",
     "output_type": "stream",
     "text": [
      "                               precision    recall  f1-score   support\n",
      "\n",
      "               bacterial_spot       0.43      0.43      0.43       349\n",
      "                 early_blight       0.09      0.09      0.09       182\n",
      "                      healthy       0.48      0.49      0.49       258\n",
      "                  late_blight       0.39      0.41      0.40       316\n",
      "                    leaf_mold       0.31      0.34      0.33       145\n",
      "           septoria_leaf_spot       0.30      0.37      0.33       262\n",
      "                  target_spot       0.27      0.30      0.28       229\n",
      "          tomato_mosaic_virus       0.08      0.09      0.09        58\n",
      "tomato_yellow_leaf_curl_virus       0.74      0.59      0.66       857\n",
      "      two-spotted_spider_mite       0.26      0.31      0.28       251\n",
      "\n",
      "                     accuracy                           0.42      2907\n",
      "                    macro avg       0.34      0.34      0.34      2907\n",
      "                 weighted avg       0.45      0.42      0.43      2907\n",
      "\n",
      "[[149  32  20  22   5  17  20   5  48  31]\n",
      " [ 18  17  15  24   9  25  17   2  30  25]\n",
      " [ 15   9 127  31   7  13  27   7   6  16]\n",
      " [ 16  23  29 128  17  30  32   4  19  18]\n",
      " [  7   6   3  21  50  25  10   3   9  11]\n",
      " [ 15  24   9  38  19  96  14   6  27  14]\n",
      " [ 19  18  22  15   8  29  68   8   5  37]\n",
      " [  4   2   4   8   3  10   2   5   7  13]\n",
      " [ 79  44  16  28  27  47  37  11 505  63]\n",
      " [ 24  10  18  16  15  28  28   8  25  79]]\n"
     ]
    }
   ],
   "source": [
    "y_predict = classifier_tree.fit(Ftrain, Ltrain).predict(Ftest)\n",
    "class_names = target.unique()\n",
    "print(classification_report(Ltest, y_predict, target_names=class_names))\n",
    "print(confusion_matrix(Ltest, y_predict))"
   ]
  }
 ],
 "metadata": {
  "kernelspec": {
   "display_name": "Python 3 (ipykernel)",
   "language": "python",
   "name": "python3"
  },
  "language_info": {
   "codemirror_mode": {
    "name": "ipython",
    "version": 3
   },
   "file_extension": ".py",
   "mimetype": "text/x-python",
   "name": "python",
   "nbconvert_exporter": "python",
   "pygments_lexer": "ipython3",
   "version": "3.9.7"
  }
 },
 "nbformat": 4,
 "nbformat_minor": 5
}
