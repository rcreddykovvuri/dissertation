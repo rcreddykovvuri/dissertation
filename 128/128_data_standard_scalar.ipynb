{
 "cells": [
  {
   "cell_type": "code",
   "execution_count": 1,
   "id": "bcdb1517",
   "metadata": {},
   "outputs": [],
   "source": [
    "import numpy as np #importing numpy\n",
    "import pandas as pd #importing pandas\n",
    "import PIL #importing pillow for image processing\n",
    "from PIL import Image#importing image from pillow library\n",
    "import skimage#importing skimage library\n",
    "import os#importing os library\n",
    "import time#importing time library\n",
    "\n",
    "#Capture start time of the program\n",
    "start_time = time.time()"
   ]
  },
  {
   "cell_type": "code",
   "execution_count": 2,
   "id": "9b1ff8ae",
   "metadata": {},
   "outputs": [],
   "source": [
    "from string import digits\n",
    "#code to remove numbers in a string and assigning it to the variable\n",
    "r_digits = str.maketrans('', '', digits)\n",
    "#taking source data folder path to a varible\n",
    "rawdata_path = 'D://DKIT//dissertation//Dataset_of_Tomato_Leaves//plantvillage//Preprocessed_data//128//data//'\n",
    "#changing current librbay to source data\n",
    "os.chdir(rawdata_path)\n",
    "#taking sub-directories to a list\n",
    "dirs = os.listdir()\n",
    "directories = []\n",
    "diseases = []\n",
    "#Taking directories into a list and extract disease name from folder name\n",
    "for x in dirs:\n",
    "    res = x.translate(r_digits).lower()\n",
    "    diseases.append(res)\n",
    "    temp = rawdata_path + x + '//'\n",
    "    directories.append(temp)"
   ]
  },
  {
   "cell_type": "code",
   "execution_count": 3,
   "id": "e67c4402",
   "metadata": {},
   "outputs": [],
   "source": [
    "for i in directories:\n",
    "    os.chdir(i)\n",
    "    pics = os.listdir()\n",
    "    #reading pics one by one in each directory\n",
    "    for j in pics:\n",
    "        image = Image.open(j,mode='r')\n",
    "        size = (128,128)\n",
    "        image = image.resize(size)\n",
    "        image = image.save(j)"
   ]
  },
  {
   "cell_type": "code",
   "execution_count": 4,
   "id": "0e3f1cdc",
   "metadata": {},
   "outputs": [],
   "source": [
    "#creating different dataframes for saving data in different vector forms\n",
    "#gray data\n",
    "gray_df = pd.DataFrame(columns=['mean','disease'])\n",
    "#rgb data\n",
    "rgb_df = pd.DataFrame(columns=['mean','disease'])\n",
    "#red data\n",
    "red_df = pd.DataFrame(columns=['mean','disease'])\n",
    "#green data\n",
    "green_df = pd.DataFrame(columns=['mean','disease'])\n",
    "#blue data\n",
    "blue_df = pd.DataFrame(columns=['mean','disease'])"
   ]
  },
  {
   "cell_type": "code",
   "execution_count": 5,
   "id": "d259b674",
   "metadata": {},
   "outputs": [],
   "source": [
    "#extracting data from images\n",
    "x = 0\n",
    "#creating enpty directories to save the vector from in to a list\n",
    "gray_test = []\n",
    "rgb_final = []\n",
    "red_final = []\n",
    "green_final = []\n",
    "blue_final = []\n",
    "disease = []\n",
    "#reading data directory by directory\n",
    "for i in directories:\n",
    "    os.chdir(i)\n",
    "    k = diseases[x]\n",
    "    pics = os.listdir()\n",
    "    #reading pics one by one in each directory\n",
    "    for j in pics:\n",
    "        temp_list = []\n",
    "        rgb_temp = []\n",
    "        red_temp = []\n",
    "        green_temp = []\n",
    "        blue_temp = []\n",
    "        gray = []\n",
    "        data = []\n",
    "        red = []\n",
    "        green = []\n",
    "        blue = []\n",
    "        #opening the image in rgb format\n",
    "        image = Image.open(j,mode='r')\n",
    "        data = image.convert('RGB')\n",
    "        data = np.array(data)\n",
    "        #extracting only red components\n",
    "        red = data[:,:,0]\n",
    "        #extracting only green components\n",
    "        green = data[:,:,1]\n",
    "        #extracting only blue components\n",
    "        blue = data[:,:,2]\n",
    "        data = data.ravel()\n",
    "        #saving rgb vector data into list\n",
    "        rgb_final.append(data)\n",
    "        rgb_temp.append(np.mean(data))\n",
    "        rgb_temp.append(k)\n",
    "        rgb_df.loc[len(rgb_df)] = rgb_temp\n",
    "        #saving red channel data into dataframe and vector data to a list.\n",
    "        red = red.ravel()\n",
    "        red_final.append(red)\n",
    "        red_temp.append(np.mean(red))\n",
    "        red_temp.append(k)\n",
    "        red_df.loc[len(red_df)] = red_temp\n",
    "        #saving blue channel data into dataframe and vector data to a list.\n",
    "        blue = blue.ravel()\n",
    "        blue_final.append(blue)\n",
    "        blue_temp.append(np.mean(blue))\n",
    "        blue_temp.append(k)\n",
    "        blue_df.loc[len(blue_df)] = blue_temp\n",
    "        #saving green channel data into dataframe and vector data to a list.\n",
    "        green = green.ravel()\n",
    "        green_final.append(green)\n",
    "        green_temp.append(np.mean(green))\n",
    "        green_temp.append(k)\n",
    "        green_df.loc[len(green_df)] = green_temp\n",
    "        #opening the image in gray format\n",
    "        gray = image.convert('L')\n",
    "        gray = np.array(gray)\n",
    "        gray = gray.ravel()\n",
    "        gray_test.append(gray)\n",
    "        temp_list.append(np.mean(gray))\n",
    "        temp_list.append(k)       \n",
    "        gray_df.loc[len(gray_df)] = temp_list\n",
    "    x = x+1"
   ]
  },
  {
   "cell_type": "code",
   "execution_count": 6,
   "id": "9ec45970",
   "metadata": {},
   "outputs": [],
   "source": [
    "#changing path\n",
    "os.chdir('D://DKIT//dissertation//Dataset_of_Tomato_Leaves//plantvillage//Preprocessed_data//128//vector//')"
   ]
  },
  {
   "cell_type": "code",
   "execution_count": 7,
   "id": "9b5459ff",
   "metadata": {},
   "outputs": [],
   "source": [
    "#saving the lists as numpy arrays in the local system\n",
    "np.save('gray_test',gray_test)\n",
    "np.save('rgb_data',rgb_final)\n",
    "np.save('red_data',red_final)\n",
    "np.save('green_data',green_final)\n",
    "np.save('blue_data',blue_final)"
   ]
  },
  {
   "cell_type": "code",
   "execution_count": 8,
   "id": "681ad20a",
   "metadata": {},
   "outputs": [],
   "source": [
    "#saving the dataframe as csv files in the local system\n",
    "gray_df.to_csv('gray_data.csv',index=False)\n",
    "rgb_df.to_csv('rgb_data.csv',index=False)\n",
    "red_df.to_csv('red_data.csv',index=False)\n",
    "green_df.to_csv('green_data.csv',index=False)\n",
    "blue_df.to_csv('blue_data.csv',index=False)"
   ]
  },
  {
   "cell_type": "markdown",
   "id": "7139bf53",
   "metadata": {},
   "source": [
    "# KNN on rgb data"
   ]
  },
  {
   "cell_type": "code",
   "execution_count": 9,
   "id": "9386938c",
   "metadata": {},
   "outputs": [],
   "source": [
    "#reading numpy array data\n",
    "rgb_test = np.load('rgb_data.npy')\n",
    "#reading csv file\n",
    "rgb_df = pd.read_csv('rgb_data.csv')"
   ]
  },
  {
   "cell_type": "code",
   "execution_count": 10,
   "id": "73c06a10",
   "metadata": {},
   "outputs": [],
   "source": [
    "loaded = pd.DataFrame(rgb_test)"
   ]
  },
  {
   "cell_type": "code",
   "execution_count": 11,
   "id": "c6d5658c",
   "metadata": {},
   "outputs": [],
   "source": [
    "#assigning features and target\n",
    "features = loaded.values\n",
    "target = rgb_df['disease']\n",
    "#splitting the data to 80 percent and 20 percent\n",
    "from sklearn.model_selection import train_test_split\n",
    "Ftrain,Ftest,Ltrain,Ltest=train_test_split(features,target, test_size=0.20, random_state=24)\n",
    "#scaling the data using standard scaler\n",
    "from sklearn.preprocessing import StandardScaler\n",
    "scaler = StandardScaler()\n",
    "Ftrain = scaler.fit_transform(Ftrain)\n",
    "Ftest = scaler.fit_transform(Ftest)"
   ]
  },
  {
   "cell_type": "code",
   "execution_count": 12,
   "id": "6f1171c6",
   "metadata": {},
   "outputs": [],
   "source": [
    "#K-Model on the data\n",
    "from sklearn.neighbors import KNeighborsClassifier\n",
    "kmodel = KNeighborsClassifier(n_neighbors=120)"
   ]
  },
  {
   "cell_type": "code",
   "execution_count": 13,
   "id": "b9fdc978",
   "metadata": {},
   "outputs": [
    {
     "name": "stdout",
     "output_type": "stream",
     "text": [
      "0.5242518059855521\n"
     ]
    }
   ],
   "source": [
    "#k-model fitting and accuracy\n",
    "kmodel.fit(Ftrain,Ltrain)\n",
    "print(kmodel.score(Ftest,Ltest))"
   ]
  },
  {
   "cell_type": "code",
   "execution_count": 14,
   "id": "ee18e5c3",
   "metadata": {},
   "outputs": [],
   "source": [
    "#importing classification report and confusion matrix\n",
    "from sklearn.metrics import classification_report, confusion_matrix"
   ]
  },
  {
   "cell_type": "code",
   "execution_count": 15,
   "id": "bb8fbd00",
   "metadata": {},
   "outputs": [
    {
     "name": "stdout",
     "output_type": "stream",
     "text": [
      "                               precision    recall  f1-score   support\n",
      "\n",
      "               bacterial_spot       0.31      0.80      0.45       345\n",
      "                 early_blight       0.00      0.00      0.00       153\n",
      "                      healthy       0.37      0.70      0.48       234\n",
      "                  late_blight       0.46      0.36      0.40       309\n",
      "                    leaf_mold       0.74      0.46      0.57       145\n",
      "           septoria_leaf_spot       0.67      0.28      0.39       293\n",
      "                  target_spot       0.61      0.14      0.23       240\n",
      "          tomato_mosaic_virus       1.00      0.04      0.07        54\n",
      "tomato_yellow_leaf_curl_virus       0.80      0.78      0.79       854\n",
      "      two-spotted_spider_mite       0.53      0.45      0.49       280\n",
      "\n",
      "                     accuracy                           0.52      2907\n",
      "                    macro avg       0.55      0.40      0.39      2907\n",
      "                 weighted avg       0.57      0.52      0.50      2907\n",
      "\n",
      "[[275   0  36  11   0   0   0   0  21   2]\n",
      " [105   0  12   3   0   5   7   0  15   6]\n",
      " [ 39   0 164  21   0   0   3   0   2   5]\n",
      " [ 65   0  68 110   9  27   1   0  23   6]\n",
      " [ 22   0  19  20  67   0   0   0  10   7]\n",
      " [ 33   0  49  43  12  81   5   0  47  23]\n",
      " [129   0  31   3   0   3  34   0   7  33]\n",
      " [  7   0  12  11   3   0   0   2   7  12]\n",
      " [126   0  39   2   0   4   2   0 666  15]\n",
      " [ 82   0  16  14   0   1   4   0  38 125]]\n"
     ]
    },
    {
     "name": "stderr",
     "output_type": "stream",
     "text": [
      "C:\\Users\\ravic\\anaconda3\\lib\\site-packages\\sklearn\\metrics\\_classification.py:1248: UndefinedMetricWarning: Precision and F-score are ill-defined and being set to 0.0 in labels with no predicted samples. Use `zero_division` parameter to control this behavior.\n",
      "  _warn_prf(average, modifier, msg_start, len(result))\n",
      "C:\\Users\\ravic\\anaconda3\\lib\\site-packages\\sklearn\\metrics\\_classification.py:1248: UndefinedMetricWarning: Precision and F-score are ill-defined and being set to 0.0 in labels with no predicted samples. Use `zero_division` parameter to control this behavior.\n",
      "  _warn_prf(average, modifier, msg_start, len(result))\n",
      "C:\\Users\\ravic\\anaconda3\\lib\\site-packages\\sklearn\\metrics\\_classification.py:1248: UndefinedMetricWarning: Precision and F-score are ill-defined and being set to 0.0 in labels with no predicted samples. Use `zero_division` parameter to control this behavior.\n",
      "  _warn_prf(average, modifier, msg_start, len(result))\n"
     ]
    }
   ],
   "source": [
    "#printing results of the kmodel\n",
    "y_predict = kmodel.fit(Ftrain, Ltrain).predict(Ftest)\n",
    "class_names = target.unique()\n",
    "print(classification_report(Ltest, y_predict, target_names=class_names))\n",
    "print(confusion_matrix(Ltest, y_predict))"
   ]
  },
  {
   "cell_type": "markdown",
   "id": "d5c58638",
   "metadata": {},
   "source": [
    "# Logistic on rgb data"
   ]
  },
  {
   "cell_type": "code",
   "execution_count": 16,
   "id": "a84836ef",
   "metadata": {},
   "outputs": [
    {
     "name": "stdout",
     "output_type": "stream",
     "text": [
      "0.7512899896800825\n"
     ]
    }
   ],
   "source": [
    "#importing logistic data\n",
    "from sklearn.linear_model import LogisticRegression\n",
    "model=LogisticRegression(solver='lbfgs', max_iter=10000)\n",
    "model.fit(Ftrain,Ltrain)\n",
    "print(model.score(Ftest,Ltest))"
   ]
  },
  {
   "cell_type": "code",
   "execution_count": 17,
   "id": "8a6e84a1",
   "metadata": {},
   "outputs": [
    {
     "name": "stdout",
     "output_type": "stream",
     "text": [
      "                               precision    recall  f1-score   support\n",
      "\n",
      "               bacterial_spot       0.68      0.80      0.73       345\n",
      "                 early_blight       0.42      0.37      0.39       153\n",
      "                      healthy       0.82      0.72      0.76       234\n",
      "                  late_blight       0.66      0.64      0.65       309\n",
      "                    leaf_mold       0.69      0.68      0.68       145\n",
      "           septoria_leaf_spot       0.75      0.73      0.74       293\n",
      "                  target_spot       0.69      0.60      0.64       240\n",
      "          tomato_mosaic_virus       0.72      0.78      0.75        54\n",
      "tomato_yellow_leaf_curl_virus       0.91      0.92      0.92       854\n",
      "      two-spotted_spider_mite       0.67      0.72      0.69       280\n",
      "\n",
      "                     accuracy                           0.75      2907\n",
      "                    macro avg       0.70      0.70      0.70      2907\n",
      "                 weighted avg       0.75      0.75      0.75      2907\n",
      "\n",
      "[[276  13   4  21   0   2   4   0  24   1]\n",
      " [ 30  56   3  25   0   6   9   2   9  13]\n",
      " [  2  13 168  20   4   3  14   0   1   9]\n",
      " [ 24  25   9 199  12  11   2   2  13  12]\n",
      " [  3   7   1   5  98  20   1   0   4   6]\n",
      " [  9   6   3   5  17 213  14   7  10   9]\n",
      " [  9   6  13   7   4  18 145   2   1  35]\n",
      " [  0   0   0   0   3   4   2  42   0   3]\n",
      " [ 33   3   0  11   2   2   7   0 786  10]\n",
      " [ 22   5   5   9   3   4  13   3  15 201]]\n"
     ]
    }
   ],
   "source": [
    "#classification report\n",
    "y_predict = model.fit(Ftrain, Ltrain).predict(Ftest)\n",
    "class_names = target.unique()\n",
    "print(classification_report(Ltest, y_predict, target_names=class_names))\n",
    "print(confusion_matrix(Ltest, y_predict))"
   ]
  },
  {
   "cell_type": "markdown",
   "id": "6fe194bc",
   "metadata": {},
   "source": [
    "# SVM on RGB data"
   ]
  },
  {
   "cell_type": "code",
   "execution_count": 18,
   "id": "2427ed51",
   "metadata": {},
   "outputs": [
    {
     "name": "stdout",
     "output_type": "stream",
     "text": [
      "0.7832817337461301\n"
     ]
    }
   ],
   "source": [
    "from sklearn.svm import SVC\n",
    "from sklearn.metrics import accuracy_score\n",
    "\n",
    "clf = SVC(kernel='linear')\n",
    "clf.fit(Ftrain,Ltrain)\n",
    "y_pred = clf.predict(Ftest)\n",
    "print(accuracy_score(Ltest,y_pred))"
   ]
  },
  {
   "cell_type": "code",
   "execution_count": 19,
   "id": "d3ce316a",
   "metadata": {},
   "outputs": [
    {
     "name": "stdout",
     "output_type": "stream",
     "text": [
      "                               precision    recall  f1-score   support\n",
      "\n",
      "               bacterial_spot       0.75      0.87      0.81       345\n",
      "                 early_blight       0.44      0.38      0.41       153\n",
      "                      healthy       0.84      0.81      0.83       234\n",
      "                  late_blight       0.70      0.72      0.71       309\n",
      "                    leaf_mold       0.70      0.70      0.70       145\n",
      "           septoria_leaf_spot       0.75      0.73      0.74       293\n",
      "                  target_spot       0.72      0.65      0.69       240\n",
      "          tomato_mosaic_virus       0.81      0.87      0.84        54\n",
      "tomato_yellow_leaf_curl_virus       0.92      0.93      0.92       854\n",
      "      two-spotted_spider_mite       0.73      0.71      0.72       280\n",
      "\n",
      "                     accuracy                           0.78      2907\n",
      "                    macro avg       0.74      0.74      0.74      2907\n",
      "                 weighted avg       0.78      0.78      0.78      2907\n",
      "\n",
      "[[300  14   1  11   0   1   0   0  17   1]\n",
      " [ 31  58   2  24   1   6  10   0   8  13]\n",
      " [  2   5 189  14   4   5  13   0   0   2]\n",
      " [ 14  16  13 224  11   8   1   0  14   8]\n",
      " [  4   3   4   6 101  20   1   1   3   2]\n",
      " [  8   5   7  13  17 213  12   8   7   3]\n",
      " [  3  21   3   4   4  15 157   1   0  32]\n",
      " [  0   0   0   0   2   5   0  47   0   0]\n",
      " [ 29   5   0  14   1   3   1   0 790  11]\n",
      " [  9   6   5  10   4   7  22   1  18 198]]\n"
     ]
    }
   ],
   "source": [
    "#classification report\n",
    "y_predict = clf.fit(Ftrain, Ltrain).predict(Ftest)\n",
    "class_names = target.unique()\n",
    "print(classification_report(Ltest, y_predict, target_names=class_names))\n",
    "print(confusion_matrix(Ltest, y_predict))"
   ]
  },
  {
   "cell_type": "markdown",
   "id": "73bef6fa",
   "metadata": {},
   "source": [
    "# Random Forest on RGB "
   ]
  },
  {
   "cell_type": "code",
   "execution_count": 20,
   "id": "6bae5a92",
   "metadata": {},
   "outputs": [],
   "source": [
    "from sklearn.ensemble import RandomForestClassifier"
   ]
  },
  {
   "cell_type": "code",
   "execution_count": 21,
   "id": "1d08a15e",
   "metadata": {},
   "outputs": [],
   "source": [
    "classifier_rf = RandomForestClassifier(random_state=42, n_jobs=-1, max_depth=5,n_estimators=100, oob_score=True)"
   ]
  },
  {
   "cell_type": "code",
   "execution_count": 22,
   "id": "938ad007",
   "metadata": {},
   "outputs": [
    {
     "data": {
      "text/plain": [
       "RandomForestClassifier(max_depth=5, n_jobs=-1, oob_score=True, random_state=42)"
      ]
     },
     "execution_count": 22,
     "metadata": {},
     "output_type": "execute_result"
    }
   ],
   "source": [
    "classifier_rf.fit(Ftrain, Ltrain)"
   ]
  },
  {
   "cell_type": "code",
   "execution_count": 23,
   "id": "e1769cec",
   "metadata": {},
   "outputs": [
    {
     "data": {
      "text/plain": [
       "0.5525636613902272"
      ]
     },
     "execution_count": 23,
     "metadata": {},
     "output_type": "execute_result"
    }
   ],
   "source": [
    "classifier_rf.oob_score_"
   ]
  },
  {
   "cell_type": "code",
   "execution_count": 24,
   "id": "e8e6675c",
   "metadata": {},
   "outputs": [
    {
     "name": "stdout",
     "output_type": "stream",
     "text": [
      "                               precision    recall  f1-score   support\n",
      "\n",
      "               bacterial_spot       0.78      0.56      0.65       345\n",
      "                 early_blight       0.00      0.00      0.00       153\n",
      "                      healthy       0.63      0.80      0.71       234\n",
      "                  late_blight       0.67      0.41      0.51       309\n",
      "                    leaf_mold       0.75      0.43      0.54       145\n",
      "           septoria_leaf_spot       0.58      0.48      0.53       293\n",
      "                  target_spot       0.50      0.29      0.37       240\n",
      "          tomato_mosaic_virus       0.00      0.00      0.00        54\n",
      "tomato_yellow_leaf_curl_virus       0.50      0.98      0.66       854\n",
      "      two-spotted_spider_mite       0.64      0.06      0.12       280\n",
      "\n",
      "                     accuracy                           0.56      2907\n",
      "                    macro avg       0.51      0.40      0.41      2907\n",
      "                 weighted avg       0.56      0.56      0.50      2907\n",
      "\n",
      "[[192   0  11  14   0   0   2   0 126   0]\n",
      " [ 13   0   5   4   0  16  13   0 101   1]\n",
      " [  2   0 188   3   1   1   3   0  35   1]\n",
      " [  3   0  32 127  10  37  11   0  87   2]\n",
      " [  5   0  17   7  62  11   3   0  40   0]\n",
      " [  4   0   5  17   8 142   2   0 115   0]\n",
      " [ 11   0  26   7   0  25  70   0  95   6]\n",
      " [  0   0   3   3   2   4   0   0  42   0]\n",
      " [  4   0   5   3   0   6   1   0 835   0]\n",
      " [ 11   0   5   5   0   2  36   0 203  18]]\n"
     ]
    },
    {
     "name": "stderr",
     "output_type": "stream",
     "text": [
      "C:\\Users\\ravic\\anaconda3\\lib\\site-packages\\sklearn\\metrics\\_classification.py:1248: UndefinedMetricWarning: Precision and F-score are ill-defined and being set to 0.0 in labels with no predicted samples. Use `zero_division` parameter to control this behavior.\n",
      "  _warn_prf(average, modifier, msg_start, len(result))\n",
      "C:\\Users\\ravic\\anaconda3\\lib\\site-packages\\sklearn\\metrics\\_classification.py:1248: UndefinedMetricWarning: Precision and F-score are ill-defined and being set to 0.0 in labels with no predicted samples. Use `zero_division` parameter to control this behavior.\n",
      "  _warn_prf(average, modifier, msg_start, len(result))\n",
      "C:\\Users\\ravic\\anaconda3\\lib\\site-packages\\sklearn\\metrics\\_classification.py:1248: UndefinedMetricWarning: Precision and F-score are ill-defined and being set to 0.0 in labels with no predicted samples. Use `zero_division` parameter to control this behavior.\n",
      "  _warn_prf(average, modifier, msg_start, len(result))\n"
     ]
    }
   ],
   "source": [
    "y_predict = classifier_rf.fit(Ftrain, Ltrain).predict(Ftest)\n",
    "class_names = target.unique()\n",
    "print(classification_report(Ltest, y_predict, target_names=class_names))\n",
    "print(confusion_matrix(Ltest, y_predict))"
   ]
  },
  {
   "cell_type": "markdown",
   "id": "b6a094e4",
   "metadata": {},
   "source": [
    "# Naive Bayes on RGB data"
   ]
  },
  {
   "cell_type": "code",
   "execution_count": 25,
   "id": "a5bc755b",
   "metadata": {},
   "outputs": [
    {
     "data": {
      "text/plain": [
       "GaussianNB()"
      ]
     },
     "execution_count": 25,
     "metadata": {},
     "output_type": "execute_result"
    }
   ],
   "source": [
    "from sklearn.naive_bayes import GaussianNB\n",
    "gnb = GaussianNB()\n",
    "gnb.fit(Ftrain, Ltrain)"
   ]
  },
  {
   "cell_type": "code",
   "execution_count": 26,
   "id": "6d162dcc",
   "metadata": {},
   "outputs": [],
   "source": [
    "y_pred = gnb.predict(Ftest)"
   ]
  },
  {
   "cell_type": "code",
   "execution_count": 27,
   "id": "8f7b4bab",
   "metadata": {},
   "outputs": [
    {
     "data": {
      "text/plain": [
       "0.49501203990368076"
      ]
     },
     "execution_count": 27,
     "metadata": {},
     "output_type": "execute_result"
    }
   ],
   "source": [
    "from sklearn import metrics\n",
    "metrics.accuracy_score(Ltest, y_pred)"
   ]
  },
  {
   "cell_type": "code",
   "execution_count": 28,
   "id": "69742172",
   "metadata": {},
   "outputs": [
    {
     "name": "stdout",
     "output_type": "stream",
     "text": [
      "                               precision    recall  f1-score   support\n",
      "\n",
      "               bacterial_spot       0.54      0.75      0.63       345\n",
      "                 early_blight       0.24      0.30      0.27       153\n",
      "                      healthy       0.39      0.67      0.49       234\n",
      "                  late_blight       0.50      0.27      0.35       309\n",
      "                    leaf_mold       0.53      0.46      0.49       145\n",
      "           septoria_leaf_spot       0.45      0.44      0.45       293\n",
      "                  target_spot       0.48      0.42      0.45       240\n",
      "          tomato_mosaic_virus       0.18      0.76      0.29        54\n",
      "tomato_yellow_leaf_curl_virus       0.89      0.48      0.63       854\n",
      "      two-spotted_spider_mite       0.40      0.51      0.45       280\n",
      "\n",
      "                     accuracy                           0.50      2907\n",
      "                    macro avg       0.46      0.51      0.45      2907\n",
      "                 weighted avg       0.58      0.50      0.51      2907\n",
      "\n",
      "[[259   7  38   7   0   1   6   7  15   5]\n",
      " [ 35  46   2  23   0  10  18   4   6   9]\n",
      " [  5   6 157   8   8   3  29   6   0  12]\n",
      " [  2  45  93  84  16  30   9  21   5   4]\n",
      " [  7   6   6  11  66  20   2  20   2   5]\n",
      " [  8  10  35   8  22 130  20  24  11  25]\n",
      " [ 17  14   4   7   2  27 102  10   2  55]\n",
      " [  3   0   3   0   1   3   0  41   1   2]\n",
      " [129  33  62  15   7  43   4  56 412  93]\n",
      " [ 11  24   5   5   2  20  21  43   7 142]]\n"
     ]
    }
   ],
   "source": [
    "class_names = target.unique()\n",
    "print(classification_report(Ltest, y_pred, target_names=class_names))\n",
    "print(confusion_matrix(Ltest, y_pred))"
   ]
  },
  {
   "cell_type": "markdown",
   "id": "0d6e0d06",
   "metadata": {},
   "source": [
    "# Decision Tree on RGB data"
   ]
  },
  {
   "cell_type": "code",
   "execution_count": 29,
   "id": "a5fd6907",
   "metadata": {},
   "outputs": [],
   "source": [
    "from sklearn.tree import DecisionTreeClassifier\n",
    "classifier_tree = DecisionTreeClassifier()"
   ]
  },
  {
   "cell_type": "code",
   "execution_count": 30,
   "id": "63eb94fc",
   "metadata": {},
   "outputs": [
    {
     "data": {
      "text/plain": [
       "0.4743722050223598"
      ]
     },
     "execution_count": 30,
     "metadata": {},
     "output_type": "execute_result"
    }
   ],
   "source": [
    "classifier_tree.fit(Ftrain, Ltrain)\n",
    "classifier_tree.score(Ftest,Ltest)"
   ]
  },
  {
   "cell_type": "code",
   "execution_count": 31,
   "id": "2a796fe0",
   "metadata": {},
   "outputs": [
    {
     "name": "stdout",
     "output_type": "stream",
     "text": [
      "                               precision    recall  f1-score   support\n",
      "\n",
      "               bacterial_spot       0.49      0.56      0.52       345\n",
      "                 early_blight       0.12      0.14      0.13       153\n",
      "                      healthy       0.55      0.56      0.56       234\n",
      "                  late_blight       0.40      0.37      0.38       309\n",
      "                    leaf_mold       0.33      0.34      0.33       145\n",
      "           septoria_leaf_spot       0.44      0.42      0.43       293\n",
      "                  target_spot       0.31      0.31      0.31       240\n",
      "          tomato_mosaic_virus       0.12      0.17      0.14        54\n",
      "tomato_yellow_leaf_curl_virus       0.71      0.66      0.68       854\n",
      "      two-spotted_spider_mite       0.38      0.38      0.38       280\n",
      "\n",
      "                     accuracy                           0.48      2907\n",
      "                    macro avg       0.38      0.39      0.39      2907\n",
      "                 weighted avg       0.48      0.48      0.48      2907\n",
      "\n",
      "[[194  18  12  14  12  12  13   8  52  10]\n",
      " [ 26  21   9  20   5  13  13   3  20  23]\n",
      " [ 12  10 132  15  11  13  20   5   8   8]\n",
      " [ 23  22  19 114  22  31  22   5  36  15]\n",
      " [ 12  10  12  14  49  13   8   6   9  12]\n",
      " [ 12  13  10  31  20 122  23  14  30  18]\n",
      " [ 16  18  19  25   5  19  74   3  22  39]\n",
      " [  5   5   2   4   5   6   4   9  10   4]\n",
      " [ 75  34  15  33  13  39  22  17 562  44]\n",
      " [ 20  21   9  16   7  11  42   5  44 105]]\n"
     ]
    }
   ],
   "source": [
    "y_predict = classifier_tree.fit(Ftrain, Ltrain).predict(Ftest)\n",
    "class_names = target.unique()\n",
    "print(classification_report(Ltest, y_predict, target_names=class_names))\n",
    "print(confusion_matrix(Ltest, y_predict))"
   ]
  },
  {
   "cell_type": "markdown",
   "id": "c9daaaee",
   "metadata": {},
   "source": [
    "# KNN on grayscale data"
   ]
  },
  {
   "cell_type": "code",
   "execution_count": 32,
   "id": "57a9845e",
   "metadata": {},
   "outputs": [],
   "source": [
    "#reading numpy array data\n",
    "gray_test = np.load('gray_test.npy')\n",
    "#reading csv file\n",
    "gray_df = pd.read_csv('gray_data.csv')"
   ]
  },
  {
   "cell_type": "code",
   "execution_count": 33,
   "id": "25d4fea2",
   "metadata": {},
   "outputs": [],
   "source": [
    "loaded = pd.DataFrame(gray_test)"
   ]
  },
  {
   "cell_type": "code",
   "execution_count": 34,
   "id": "d3abef95",
   "metadata": {},
   "outputs": [],
   "source": [
    "features = loaded.values\n",
    "target = gray_df['disease']\n",
    "Ftrain,Ftest,Ltrain,Ltest=train_test_split(features,target, test_size=0.20, random_state=20)\n",
    "Ftrain = scaler.fit_transform(Ftrain)\n",
    "Ftest = scaler.fit_transform(Ftest)"
   ]
  },
  {
   "cell_type": "code",
   "execution_count": 35,
   "id": "6f75adfd",
   "metadata": {},
   "outputs": [
    {
     "data": {
      "text/plain": [
       "0.4368765049879601"
      ]
     },
     "execution_count": 35,
     "metadata": {},
     "output_type": "execute_result"
    }
   ],
   "source": [
    "kmodel.fit(Ftrain,Ltrain)\n",
    "kmodel.score(Ftest,Ltest)"
   ]
  },
  {
   "cell_type": "code",
   "execution_count": 36,
   "id": "db638452",
   "metadata": {},
   "outputs": [
    {
     "name": "stdout",
     "output_type": "stream",
     "text": [
      "                               precision    recall  f1-score   support\n",
      "\n",
      "               bacterial_spot       0.34      0.77      0.47       349\n",
      "                 early_blight       0.00      0.00      0.00       182\n",
      "                      healthy       0.35      0.59      0.44       258\n",
      "                  late_blight       0.31      0.27      0.29       316\n",
      "                    leaf_mold       0.71      0.38      0.50       145\n",
      "           septoria_leaf_spot       0.58      0.30      0.40       262\n",
      "                  target_spot       0.83      0.02      0.04       229\n",
      "          tomato_mosaic_virus       0.00      0.00      0.00        58\n",
      "tomato_yellow_leaf_curl_virus       0.52      0.64      0.58       857\n",
      "      two-spotted_spider_mite       0.59      0.30      0.40       251\n",
      "\n",
      "                     accuracy                           0.44      2907\n",
      "                    macro avg       0.42      0.33      0.31      2907\n",
      "                 weighted avg       0.46      0.44      0.39      2907\n",
      "\n",
      "[[269   0  28  21   1   0   0   0  30   0]\n",
      " [109   0   9   4   5   7   0   0  46   2]\n",
      " [ 22   0 152  35   0   5   0   0  43   1]\n",
      " [ 50   0  62  84   3  29   0   0  81   7]\n",
      " [ 13   0  17  23  55   0   0   0  36   1]\n",
      " [ 19   0  40  26   5  79   0   0  87   6]\n",
      " [106   0  12   6   0   6   5   0  71  23]\n",
      " [  3   0   6   3   3   0   0   0  40   3]\n",
      " [133   0  99  55   4   6   0   0 551   9]\n",
      " [ 73   0   8  16   1   5   1   0  72  75]]\n"
     ]
    },
    {
     "name": "stderr",
     "output_type": "stream",
     "text": [
      "C:\\Users\\ravic\\anaconda3\\lib\\site-packages\\sklearn\\metrics\\_classification.py:1248: UndefinedMetricWarning: Precision and F-score are ill-defined and being set to 0.0 in labels with no predicted samples. Use `zero_division` parameter to control this behavior.\n",
      "  _warn_prf(average, modifier, msg_start, len(result))\n",
      "C:\\Users\\ravic\\anaconda3\\lib\\site-packages\\sklearn\\metrics\\_classification.py:1248: UndefinedMetricWarning: Precision and F-score are ill-defined and being set to 0.0 in labels with no predicted samples. Use `zero_division` parameter to control this behavior.\n",
      "  _warn_prf(average, modifier, msg_start, len(result))\n",
      "C:\\Users\\ravic\\anaconda3\\lib\\site-packages\\sklearn\\metrics\\_classification.py:1248: UndefinedMetricWarning: Precision and F-score are ill-defined and being set to 0.0 in labels with no predicted samples. Use `zero_division` parameter to control this behavior.\n",
      "  _warn_prf(average, modifier, msg_start, len(result))\n"
     ]
    }
   ],
   "source": [
    "y_predict = kmodel.fit(Ftrain, Ltrain).predict(Ftest)\n",
    "class_names = target.unique()\n",
    "print(classification_report(Ltest, y_predict, target_names=class_names))\n",
    "print(confusion_matrix(Ltest, y_predict))"
   ]
  },
  {
   "cell_type": "markdown",
   "id": "197eedfc",
   "metadata": {},
   "source": [
    "# Logistic on grayscale data"
   ]
  },
  {
   "cell_type": "code",
   "execution_count": 37,
   "id": "9fd6cafe",
   "metadata": {},
   "outputs": [
    {
     "data": {
      "text/plain": [
       "0.4021327829377365"
      ]
     },
     "execution_count": 37,
     "metadata": {},
     "output_type": "execute_result"
    }
   ],
   "source": [
    "from sklearn.linear_model import LogisticRegression\n",
    "model=LogisticRegression(solver='lbfgs', max_iter=10000)\n",
    "model.fit(Ftrain,Ltrain)\n",
    "model.score(Ftest,Ltest)"
   ]
  },
  {
   "cell_type": "code",
   "execution_count": 38,
   "id": "ad468ab9",
   "metadata": {},
   "outputs": [
    {
     "name": "stdout",
     "output_type": "stream",
     "text": [
      "                               precision    recall  f1-score   support\n",
      "\n",
      "               bacterial_spot       0.39      0.49      0.43       349\n",
      "                 early_blight       0.18      0.14      0.16       182\n",
      "                      healthy       0.40      0.26      0.32       258\n",
      "                  late_blight       0.30      0.32      0.31       316\n",
      "                    leaf_mold       0.31      0.32      0.32       145\n",
      "           septoria_leaf_spot       0.28      0.27      0.27       262\n",
      "                  target_spot       0.25      0.17      0.20       229\n",
      "          tomato_mosaic_virus       0.21      0.12      0.15        58\n",
      "tomato_yellow_leaf_curl_virus       0.56      0.64      0.60       857\n",
      "      two-spotted_spider_mite       0.36      0.37      0.36       251\n",
      "\n",
      "                     accuracy                           0.40      2907\n",
      "                    macro avg       0.32      0.31      0.31      2907\n",
      "                 weighted avg       0.39      0.40      0.39      2907\n",
      "\n",
      "[[170  15  16  27   5  13  10   0  84   9]\n",
      " [ 33  25   6  11   9  16  19   2  49  12]\n",
      " [ 27  11  68  46   8  20  15   1  46  16]\n",
      " [ 33  22  25 100  20  34  14   5  50  13]\n",
      " [ 13   7   2  27  47  14   1   1  23  10]\n",
      " [ 20  13  11  32  14  71  19   3  53  26]\n",
      " [ 46  13  10  16   4  20  38   1  41  40]\n",
      " [  3   0   1   9   4   2   1   7  25   6]\n",
      " [ 67  21  25  55  36  42  15  10 550  36]\n",
      " [ 22   9   4  10   4  25  20   4  60  93]]\n"
     ]
    }
   ],
   "source": [
    "y_predict = model.fit(Ftrain, Ltrain).predict(Ftest)\n",
    "class_names = target.unique()\n",
    "print(classification_report(Ltest, y_predict, target_names=class_names))\n",
    "print(confusion_matrix(Ltest, y_predict))"
   ]
  },
  {
   "cell_type": "markdown",
   "id": "5284f869",
   "metadata": {},
   "source": [
    "# SVM on Grayscale data"
   ]
  },
  {
   "cell_type": "code",
   "execution_count": 39,
   "id": "d0db5c80",
   "metadata": {},
   "outputs": [
    {
     "name": "stdout",
     "output_type": "stream",
     "text": [
      "0.4671482628138975\n"
     ]
    }
   ],
   "source": [
    "clf = SVC(kernel='linear')\n",
    "clf.fit(Ftrain,Ltrain)\n",
    "y_pred = clf.predict(Ftest)\n",
    "print(accuracy_score(Ltest,y_pred))"
   ]
  },
  {
   "cell_type": "code",
   "execution_count": 40,
   "id": "907d10fb",
   "metadata": {},
   "outputs": [
    {
     "name": "stdout",
     "output_type": "stream",
     "text": [
      "                               precision    recall  f1-score   support\n",
      "\n",
      "               bacterial_spot       0.39      0.56      0.46       349\n",
      "                 early_blight       0.24      0.25      0.24       182\n",
      "                      healthy       0.52      0.49      0.51       258\n",
      "                  late_blight       0.37      0.38      0.37       316\n",
      "                    leaf_mold       0.42      0.44      0.43       145\n",
      "           septoria_leaf_spot       0.38      0.35      0.37       262\n",
      "                  target_spot       0.37      0.24      0.29       229\n",
      "          tomato_mosaic_virus       0.29      0.17      0.22        58\n",
      "tomato_yellow_leaf_curl_virus       0.64      0.63      0.63       857\n",
      "      two-spotted_spider_mite       0.49      0.44      0.46       251\n",
      "\n",
      "                     accuracy                           0.47      2907\n",
      "                    macro avg       0.41      0.40      0.40      2907\n",
      "                 weighted avg       0.47      0.47      0.46      2907\n",
      "\n",
      "[[194  23  16  23   1   8   7   0  71   6]\n",
      " [ 38  45   3   9  11  11  18   0  35  12]\n",
      " [ 36   8 126  33   6  10  10   1  19   9]\n",
      " [ 24  27  28 120  15  41  10   4  38   9]\n",
      " [ 14   8   2  22  64  13   0   1  16   5]\n",
      " [ 31  18  17  36   9  93  11   3  35   9]\n",
      " [ 46  16   9  20   7  17  55   3  26  30]\n",
      " [  1   1   0   9   6   3   1  10  25   2]\n",
      " [ 85  29  35  53  24  30  16  10 540  35]\n",
      " [ 23  14   5   2   8  21  19   3  45 111]]\n"
     ]
    }
   ],
   "source": [
    "y_predict = clf.fit(Ftrain, Ltrain).predict(Ftest)\n",
    "class_names = target.unique()\n",
    "print(classification_report(Ltest, y_predict, target_names=class_names))\n",
    "print(confusion_matrix(Ltest, y_predict))"
   ]
  },
  {
   "cell_type": "markdown",
   "id": "576fd580",
   "metadata": {},
   "source": [
    "# Random Forest on Grayscale"
   ]
  },
  {
   "cell_type": "code",
   "execution_count": 41,
   "id": "9dfa979e",
   "metadata": {},
   "outputs": [
    {
     "data": {
      "text/plain": [
       "RandomForestClassifier(max_depth=5, n_jobs=-1, oob_score=True, random_state=42)"
      ]
     },
     "execution_count": 41,
     "metadata": {},
     "output_type": "execute_result"
    }
   ],
   "source": [
    "classifier_rf.fit(Ftrain, Ltrain)"
   ]
  },
  {
   "cell_type": "code",
   "execution_count": 42,
   "id": "2b4347ef",
   "metadata": {},
   "outputs": [
    {
     "data": {
      "text/plain": [
       "0.43392980041293877"
      ]
     },
     "execution_count": 42,
     "metadata": {},
     "output_type": "execute_result"
    }
   ],
   "source": [
    "classifier_rf.oob_score_"
   ]
  },
  {
   "cell_type": "code",
   "execution_count": 43,
   "id": "ce5db8b5",
   "metadata": {},
   "outputs": [
    {
     "name": "stdout",
     "output_type": "stream",
     "text": [
      "                               precision    recall  f1-score   support\n",
      "\n",
      "               bacterial_spot       0.63      0.48      0.54       349\n",
      "                 early_blight       0.00      0.00      0.00       182\n",
      "                      healthy       0.69      0.33      0.44       258\n",
      "                  late_blight       0.74      0.28      0.41       316\n",
      "                    leaf_mold       1.00      0.03      0.05       145\n",
      "           septoria_leaf_spot       0.59      0.45      0.51       262\n",
      "                  target_spot       0.67      0.01      0.02       229\n",
      "          tomato_mosaic_virus       0.00      0.00      0.00        58\n",
      "tomato_yellow_leaf_curl_virus       0.37      0.91      0.53       857\n",
      "      two-spotted_spider_mite       0.57      0.17      0.26       251\n",
      "\n",
      "                     accuracy                           0.44      2907\n",
      "                    macro avg       0.53      0.27      0.28      2907\n",
      "                 weighted avg       0.53      0.44      0.38      2907\n",
      "\n",
      "[[167   0   8   3   0   0   0   0 171   0]\n",
      " [ 25   0   0   4   0  17   1   0 131   4]\n",
      " [  3   0  84   3   0   0   0   0 168   0]\n",
      " [ 10   0   8  90   0  32   0   0 174   2]\n",
      " [  2   0   0   7   4   9   0   0 121   2]\n",
      " [  2   0   9   9   0 118   0   0 120   4]\n",
      " [  5   0   0   0   0   6   2   0 198  18]\n",
      " [  1   0   0   1   0   1   0   0  55   0]\n",
      " [ 41   0  13   4   0  13   0   0 783   3]\n",
      " [  9   0   0   0   0   4   0   0 195  43]]\n"
     ]
    },
    {
     "name": "stderr",
     "output_type": "stream",
     "text": [
      "C:\\Users\\ravic\\anaconda3\\lib\\site-packages\\sklearn\\metrics\\_classification.py:1248: UndefinedMetricWarning: Precision and F-score are ill-defined and being set to 0.0 in labels with no predicted samples. Use `zero_division` parameter to control this behavior.\n",
      "  _warn_prf(average, modifier, msg_start, len(result))\n",
      "C:\\Users\\ravic\\anaconda3\\lib\\site-packages\\sklearn\\metrics\\_classification.py:1248: UndefinedMetricWarning: Precision and F-score are ill-defined and being set to 0.0 in labels with no predicted samples. Use `zero_division` parameter to control this behavior.\n",
      "  _warn_prf(average, modifier, msg_start, len(result))\n",
      "C:\\Users\\ravic\\anaconda3\\lib\\site-packages\\sklearn\\metrics\\_classification.py:1248: UndefinedMetricWarning: Precision and F-score are ill-defined and being set to 0.0 in labels with no predicted samples. Use `zero_division` parameter to control this behavior.\n",
      "  _warn_prf(average, modifier, msg_start, len(result))\n"
     ]
    }
   ],
   "source": [
    "y_predict = classifier_rf.fit(Ftrain, Ltrain).predict(Ftest)\n",
    "class_names = target.unique()\n",
    "print(classification_report(Ltest, y_predict, target_names=class_names))\n",
    "print(confusion_matrix(Ltest, y_predict))"
   ]
  },
  {
   "cell_type": "markdown",
   "id": "8befce61",
   "metadata": {},
   "source": [
    "# Naive bayes on Grayscale"
   ]
  },
  {
   "cell_type": "code",
   "execution_count": 44,
   "id": "0d1a6d3b",
   "metadata": {},
   "outputs": [
    {
     "data": {
      "text/plain": [
       "GaussianNB()"
      ]
     },
     "execution_count": 44,
     "metadata": {},
     "output_type": "execute_result"
    }
   ],
   "source": [
    "gnb.fit(Ftrain, Ltrain)"
   ]
  },
  {
   "cell_type": "code",
   "execution_count": 45,
   "id": "053c9a09",
   "metadata": {},
   "outputs": [
    {
     "data": {
      "text/plain": [
       "0.3591331269349845"
      ]
     },
     "execution_count": 45,
     "metadata": {},
     "output_type": "execute_result"
    }
   ],
   "source": [
    "y_pred = gnb.predict(Ftest)\n",
    "metrics.accuracy_score(Ltest, y_pred)"
   ]
  },
  {
   "cell_type": "code",
   "execution_count": 46,
   "id": "0ea180f7",
   "metadata": {},
   "outputs": [
    {
     "name": "stdout",
     "output_type": "stream",
     "text": [
      "                               precision    recall  f1-score   support\n",
      "\n",
      "               bacterial_spot       0.44      0.74      0.55       349\n",
      "                 early_blight       0.23      0.28      0.25       182\n",
      "                      healthy       0.32      0.62      0.42       258\n",
      "                  late_blight       0.40      0.22      0.28       316\n",
      "                    leaf_mold       0.45      0.32      0.38       145\n",
      "           septoria_leaf_spot       0.37      0.48      0.42       262\n",
      "                  target_spot       0.42      0.32      0.36       229\n",
      "          tomato_mosaic_virus       0.11      0.57      0.18        58\n",
      "tomato_yellow_leaf_curl_virus       0.62      0.13      0.22       857\n",
      "      two-spotted_spider_mite       0.36      0.44      0.39       251\n",
      "\n",
      "                     accuracy                           0.36      2907\n",
      "                    macro avg       0.37      0.41      0.35      2907\n",
      "                 weighted avg       0.44      0.36      0.34      2907\n",
      "\n",
      "[[259   8  44   2   3   6   3  12   9   3]\n",
      " [ 54  51   3  25   7   8  14   4   6  10]\n",
      " [  8   5 160   8  10   6  22   3  20  16]\n",
      " [  9  48  86  70  12  33  10  30   7  11]\n",
      " [ 20   4   5  12  47  27   4  16   6   4]\n",
      " [  3   9  45   9   6 126  15  22   3  24]\n",
      " [ 22  20   3  13   5  26  73  13   6  48]\n",
      " [ 11   0   3   0   1   1   0  33   6   3]\n",
      " [190  55 144  32  10  76  12 145 115  78]\n",
      " [ 15  21   3   6   3  31  20  34   8 110]]\n"
     ]
    }
   ],
   "source": [
    "class_names = target.unique()\n",
    "print(classification_report(Ltest, y_pred, target_names=class_names))\n",
    "print(confusion_matrix(Ltest, y_pred))"
   ]
  },
  {
   "cell_type": "markdown",
   "id": "7adb2a72",
   "metadata": {},
   "source": [
    "# Decision Tree on Grayscale"
   ]
  },
  {
   "cell_type": "code",
   "execution_count": 47,
   "id": "8e38f8b5",
   "metadata": {},
   "outputs": [
    {
     "data": {
      "text/plain": [
       "0.39697282421740626"
      ]
     },
     "execution_count": 47,
     "metadata": {},
     "output_type": "execute_result"
    }
   ],
   "source": [
    "classifier_tree.fit(Ftrain, Ltrain)\n",
    "classifier_tree.score(Ftest,Ltest)"
   ]
  },
  {
   "cell_type": "code",
   "execution_count": 48,
   "id": "838a0a4d",
   "metadata": {},
   "outputs": [
    {
     "name": "stdout",
     "output_type": "stream",
     "text": [
      "                               precision    recall  f1-score   support\n",
      "\n",
      "               bacterial_spot       0.45      0.44      0.45       349\n",
      "                 early_blight       0.15      0.13      0.14       182\n",
      "                      healthy       0.46      0.40      0.43       258\n",
      "                  late_blight       0.38      0.33      0.35       316\n",
      "                    leaf_mold       0.24      0.26      0.25       145\n",
      "           septoria_leaf_spot       0.32      0.40      0.36       262\n",
      "                  target_spot       0.25      0.24      0.24       229\n",
      "          tomato_mosaic_virus       0.09      0.10      0.10        58\n",
      "tomato_yellow_leaf_curl_virus       0.53      0.54      0.54       857\n",
      "      two-spotted_spider_mite       0.41      0.41      0.41       251\n",
      "\n",
      "                     accuracy                           0.40      2907\n",
      "                    macro avg       0.33      0.33      0.33      2907\n",
      "                 weighted avg       0.40      0.40      0.40      2907\n",
      "\n",
      "[[155  10  15  19  14  20  16   5  88   7]\n",
      " [ 18  24   5  14  11  14  21   5  53  17]\n",
      " [ 14   6 104  20   4  27  13   6  45  19]\n",
      " [ 18  31  14 105  11  46  25   6  51   9]\n",
      " [ 13   7   9  18  38  20   6   3  26   5]\n",
      " [ 10  12  10  21  14 105  21   4  52  13]\n",
      " [ 14  14  15  18   9  24  55   5  33  42]\n",
      " [  3   4   4   1   6   7   5   6  21   1]\n",
      " [ 89  34  37  55  39  47  35  21 466  34]\n",
      " [  7  21  14   6  11  19  25   3  41 104]]\n"
     ]
    }
   ],
   "source": [
    "y_predict = classifier_tree.fit(Ftrain, Ltrain).predict(Ftest)\n",
    "class_names = target.unique()\n",
    "print(classification_report(Ltest, y_predict, target_names=class_names))\n",
    "print(confusion_matrix(Ltest, y_predict))"
   ]
  },
  {
   "cell_type": "markdown",
   "id": "e42f549f",
   "metadata": {},
   "source": [
    "# KNN on Red channel data"
   ]
  },
  {
   "cell_type": "code",
   "execution_count": 49,
   "id": "cb75cbbd",
   "metadata": {},
   "outputs": [],
   "source": [
    "#reading numpy array data\n",
    "red_test = np.load('red_data.npy')\n",
    "#reading csv file\n",
    "red_df = pd.read_csv('red_data.csv')"
   ]
  },
  {
   "cell_type": "code",
   "execution_count": 50,
   "id": "7fda7839",
   "metadata": {},
   "outputs": [],
   "source": [
    "loaded = []\n",
    "for i in red_test:\n",
    "    k = []\n",
    "    k = np.asarray(i,dtype='uint8')\n",
    "    loaded.append(k)\n",
    "features = loaded\n",
    "target = red_df['disease']\n",
    "Ftrain,Ftest,Ltrain,Ltest=train_test_split(features,target, test_size=0.20, random_state=20)\n",
    "scaler = StandardScaler()\n",
    "Ftrain = scaler.fit_transform(Ftrain)\n",
    "Ftest = scaler.fit_transform(Ftest)"
   ]
  },
  {
   "cell_type": "code",
   "execution_count": 51,
   "id": "683839f2",
   "metadata": {},
   "outputs": [
    {
     "data": {
      "text/plain": [
       "0.4688682490540076"
      ]
     },
     "execution_count": 51,
     "metadata": {},
     "output_type": "execute_result"
    }
   ],
   "source": [
    "kmodel.fit(Ftrain,Ltrain)\n",
    "kmodel.score(Ftest,Ltest)"
   ]
  },
  {
   "cell_type": "code",
   "execution_count": 52,
   "id": "3f0b171c",
   "metadata": {},
   "outputs": [
    {
     "name": "stdout",
     "output_type": "stream",
     "text": [
      "                               precision    recall  f1-score   support\n",
      "\n",
      "               bacterial_spot       0.41      0.72      0.52       349\n",
      "                 early_blight       0.00      0.00      0.00       182\n",
      "                      healthy       0.34      0.69      0.45       258\n",
      "                  late_blight       0.39      0.28      0.32       316\n",
      "                    leaf_mold       0.67      0.38      0.48       145\n",
      "           septoria_leaf_spot       0.61      0.28      0.39       262\n",
      "                  target_spot       0.59      0.16      0.25       229\n",
      "          tomato_mosaic_virus       0.00      0.00      0.00        58\n",
      "tomato_yellow_leaf_curl_virus       0.52      0.65      0.58       857\n",
      "      two-spotted_spider_mite       0.58      0.49      0.53       251\n",
      "\n",
      "                     accuracy                           0.47      2907\n",
      "                    macro avg       0.41      0.36      0.35      2907\n",
      "                 weighted avg       0.46      0.47      0.43      2907\n",
      "\n",
      "[[250   0  37  21   0   0   0   0  41   0]\n",
      " [ 77   0  17   1   6   7  11   0  55   8]\n",
      " [  7   0 179  17   0   0   0   0  54   1]\n",
      " [ 38   0  66  87   3  30   2   0  79  11]\n",
      " [  9   0  26  18  55   2   1   0  31   3]\n",
      " [ 17   0  41  26   4  74   3   0  81  16]\n",
      " [ 74   0  27   1   0   3  36   0  59  29]\n",
      " [  1   0   7   2   1   1   0   0  44   2]\n",
      " [ 97   0 122  43  13   4   0   0 558  20]\n",
      " [ 40   0  11   6   0   1   8   0  61 124]]\n"
     ]
    },
    {
     "name": "stderr",
     "output_type": "stream",
     "text": [
      "C:\\Users\\ravic\\anaconda3\\lib\\site-packages\\sklearn\\metrics\\_classification.py:1248: UndefinedMetricWarning: Precision and F-score are ill-defined and being set to 0.0 in labels with no predicted samples. Use `zero_division` parameter to control this behavior.\n",
      "  _warn_prf(average, modifier, msg_start, len(result))\n",
      "C:\\Users\\ravic\\anaconda3\\lib\\site-packages\\sklearn\\metrics\\_classification.py:1248: UndefinedMetricWarning: Precision and F-score are ill-defined and being set to 0.0 in labels with no predicted samples. Use `zero_division` parameter to control this behavior.\n",
      "  _warn_prf(average, modifier, msg_start, len(result))\n",
      "C:\\Users\\ravic\\anaconda3\\lib\\site-packages\\sklearn\\metrics\\_classification.py:1248: UndefinedMetricWarning: Precision and F-score are ill-defined and being set to 0.0 in labels with no predicted samples. Use `zero_division` parameter to control this behavior.\n",
      "  _warn_prf(average, modifier, msg_start, len(result))\n"
     ]
    }
   ],
   "source": [
    "y_predict = kmodel.fit(Ftrain, Ltrain).predict(Ftest)\n",
    "class_names = target.unique()\n",
    "print(classification_report(Ltest, y_predict, target_names=class_names))\n",
    "print(confusion_matrix(Ltest, y_predict))"
   ]
  },
  {
   "cell_type": "markdown",
   "id": "ffcda594",
   "metadata": {},
   "source": [
    "# Logistic on Red channel data"
   ]
  },
  {
   "cell_type": "code",
   "execution_count": 53,
   "id": "1ed4037b",
   "metadata": {},
   "outputs": [
    {
     "data": {
      "text/plain": [
       "0.4437564499484004"
      ]
     },
     "execution_count": 53,
     "metadata": {},
     "output_type": "execute_result"
    }
   ],
   "source": [
    "model.fit(Ftrain,Ltrain)\n",
    "model.score(Ftest,Ltest)"
   ]
  },
  {
   "cell_type": "code",
   "execution_count": 54,
   "id": "19a4a62d",
   "metadata": {},
   "outputs": [
    {
     "name": "stdout",
     "output_type": "stream",
     "text": [
      "                               precision    recall  f1-score   support\n",
      "\n",
      "               bacterial_spot       0.45      0.56      0.50       349\n",
      "                 early_blight       0.23      0.14      0.17       182\n",
      "                      healthy       0.47      0.29      0.36       258\n",
      "                  late_blight       0.32      0.35      0.34       316\n",
      "                    leaf_mold       0.40      0.39      0.40       145\n",
      "           septoria_leaf_spot       0.31      0.31      0.31       262\n",
      "                  target_spot       0.29      0.20      0.24       229\n",
      "          tomato_mosaic_virus       0.28      0.19      0.22        58\n",
      "tomato_yellow_leaf_curl_virus       0.59      0.67      0.63       857\n",
      "      two-spotted_spider_mite       0.43      0.44      0.43       251\n",
      "\n",
      "                     accuracy                           0.44      2907\n",
      "                    macro avg       0.37      0.36      0.36      2907\n",
      "                 weighted avg       0.43      0.44      0.43      2907\n",
      "\n",
      "[[195  10  10  29   6   9   9   0  79   2]\n",
      " [ 42  25   5  12  11  18  18   0  45   6]\n",
      " [ 32   9  76  46   6  17  13   1  45  13]\n",
      " [ 26  20  20 112  16  41  13   5  52  11]\n",
      " [ 10   3   1  30  57  13   2   1  21   7]\n",
      " [ 17   9  11  39   8  82  17   3  49  27]\n",
      " [ 40  11  13  17   3  17  46   3  38  41]\n",
      " [  2   0   1   4   2   2   1  11  29   6]\n",
      " [ 55  19  20  55  31  39  15  12 575  36]\n",
      " [ 14   5   6   7   2  28  25   4  49 111]]\n"
     ]
    }
   ],
   "source": [
    "y_predict = model.fit(Ftrain, Ltrain).predict(Ftest)\n",
    "class_names = target.unique()\n",
    "print(classification_report(Ltest, y_predict, target_names=class_names))\n",
    "print(confusion_matrix(Ltest, y_predict))"
   ]
  },
  {
   "cell_type": "markdown",
   "id": "dba6d5ce",
   "metadata": {},
   "source": [
    "# SVM on Red channel data"
   ]
  },
  {
   "cell_type": "code",
   "execution_count": 55,
   "id": "6ed153f7",
   "metadata": {},
   "outputs": [
    {
     "name": "stdout",
     "output_type": "stream",
     "text": [
      "0.4867561059511524\n"
     ]
    }
   ],
   "source": [
    "clf.fit(Ftrain,Ltrain)\n",
    "y_pred = clf.predict(Ftest)\n",
    "print(accuracy_score(Ltest,y_pred))"
   ]
  },
  {
   "cell_type": "code",
   "execution_count": 56,
   "id": "cb2cb836",
   "metadata": {},
   "outputs": [
    {
     "name": "stdout",
     "output_type": "stream",
     "text": [
      "                               precision    recall  f1-score   support\n",
      "\n",
      "               bacterial_spot       0.44      0.59      0.50       349\n",
      "                 early_blight       0.25      0.21      0.23       182\n",
      "                      healthy       0.56      0.47      0.51       258\n",
      "                  late_blight       0.37      0.42      0.40       316\n",
      "                    leaf_mold       0.47      0.45      0.46       145\n",
      "           septoria_leaf_spot       0.38      0.39      0.38       262\n",
      "                  target_spot       0.36      0.31      0.33       229\n",
      "          tomato_mosaic_virus       0.30      0.21      0.24        58\n",
      "tomato_yellow_leaf_curl_virus       0.65      0.63      0.64       857\n",
      "      two-spotted_spider_mite       0.55      0.49      0.52       251\n",
      "\n",
      "                     accuracy                           0.49      2907\n",
      "                    macro avg       0.43      0.42      0.42      2907\n",
      "                 weighted avg       0.49      0.49      0.49      2907\n",
      "\n",
      "[[206  20  12  25   4   8   5   0  67   2]\n",
      " [ 36  38   1  10   9  17  26   1  40   4]\n",
      " [ 39  10 122  32   8  13  11   0  21   2]\n",
      " [ 26  17  22 133  11  46  17   3  33   8]\n",
      " [  6   5   4  32  65   8   1   2  18   4]\n",
      " [ 17  14  11  40   7 101  21   4  34  13]\n",
      " [ 42  17   9  17   4  17  71   1  20  31]\n",
      " [  1   0   0   4   6   1   1  12  29   4]\n",
      " [ 87  22  31  58  24  29  17  13 543  33]\n",
      " [ 12  11   5   4   1  26  29   4  35 124]]\n"
     ]
    }
   ],
   "source": [
    "y_predict = clf.fit(Ftrain, Ltrain).predict(Ftest)\n",
    "class_names = target.unique()\n",
    "print(classification_report(Ltest, y_predict, target_names=class_names))\n",
    "print(confusion_matrix(Ltest, y_predict))"
   ]
  },
  {
   "cell_type": "markdown",
   "id": "a670c4d4",
   "metadata": {},
   "source": [
    "# Random forest on Red channel data"
   ]
  },
  {
   "cell_type": "code",
   "execution_count": 57,
   "id": "9e816e9e",
   "metadata": {},
   "outputs": [
    {
     "data": {
      "text/plain": [
       "0.4580178940123882"
      ]
     },
     "execution_count": 57,
     "metadata": {},
     "output_type": "execute_result"
    }
   ],
   "source": [
    "classifier_rf.fit(Ftrain, Ltrain)\n",
    "classifier_rf.oob_score_"
   ]
  },
  {
   "cell_type": "code",
   "execution_count": 58,
   "id": "2c17baee",
   "metadata": {},
   "outputs": [
    {
     "name": "stdout",
     "output_type": "stream",
     "text": [
      "                               precision    recall  f1-score   support\n",
      "\n",
      "               bacterial_spot       0.63      0.49      0.55       349\n",
      "                 early_blight       0.00      0.00      0.00       182\n",
      "                      healthy       0.62      0.31      0.41       258\n",
      "                  late_blight       0.70      0.31      0.43       316\n",
      "                    leaf_mold       0.60      0.02      0.04       145\n",
      "           septoria_leaf_spot       0.55      0.48      0.51       262\n",
      "                  target_spot       0.86      0.08      0.14       229\n",
      "          tomato_mosaic_virus       0.00      0.00      0.00        58\n",
      "tomato_yellow_leaf_curl_virus       0.40      0.89      0.55       857\n",
      "      two-spotted_spider_mite       0.50      0.40      0.44       251\n",
      "\n",
      "                     accuracy                           0.47      2907\n",
      "                    macro avg       0.48      0.30      0.31      2907\n",
      "                 weighted avg       0.51      0.47      0.41      2907\n",
      "\n",
      "[[171   0  12   7   0   1   0   0 158   0]\n",
      " [ 28   0   0   6   0  16   2   0 116  14]\n",
      " [  3   0  80   5   0   0   0   0 168   2]\n",
      " [  5   0   5  97   2  45   0   0 155   7]\n",
      " [  2   0   1  12   3  16   0   0 106   5]\n",
      " [  4   0   7   3   0 127   1   0 111   9]\n",
      " [  4   0   0   0   0  11  18   0 137  59]\n",
      " [  0   0   0   0   0   1   0   0  56   1]\n",
      " [ 47   0  25   8   0  11   0   0 762   4]\n",
      " [  9   0   0   0   0   5   0   0 137 100]]\n"
     ]
    },
    {
     "name": "stderr",
     "output_type": "stream",
     "text": [
      "C:\\Users\\ravic\\anaconda3\\lib\\site-packages\\sklearn\\metrics\\_classification.py:1248: UndefinedMetricWarning: Precision and F-score are ill-defined and being set to 0.0 in labels with no predicted samples. Use `zero_division` parameter to control this behavior.\n",
      "  _warn_prf(average, modifier, msg_start, len(result))\n",
      "C:\\Users\\ravic\\anaconda3\\lib\\site-packages\\sklearn\\metrics\\_classification.py:1248: UndefinedMetricWarning: Precision and F-score are ill-defined and being set to 0.0 in labels with no predicted samples. Use `zero_division` parameter to control this behavior.\n",
      "  _warn_prf(average, modifier, msg_start, len(result))\n",
      "C:\\Users\\ravic\\anaconda3\\lib\\site-packages\\sklearn\\metrics\\_classification.py:1248: UndefinedMetricWarning: Precision and F-score are ill-defined and being set to 0.0 in labels with no predicted samples. Use `zero_division` parameter to control this behavior.\n",
      "  _warn_prf(average, modifier, msg_start, len(result))\n"
     ]
    }
   ],
   "source": [
    "y_predict = classifier_rf.fit(Ftrain, Ltrain).predict(Ftest)\n",
    "class_names = target.unique()\n",
    "print(classification_report(Ltest, y_predict, target_names=class_names))\n",
    "print(confusion_matrix(Ltest, y_predict))"
   ]
  },
  {
   "cell_type": "markdown",
   "id": "e1c2d95a",
   "metadata": {},
   "source": [
    "# Naive Bayes on Red channel data"
   ]
  },
  {
   "cell_type": "code",
   "execution_count": 59,
   "id": "8ec0753c",
   "metadata": {},
   "outputs": [
    {
     "data": {
      "text/plain": [
       "GaussianNB()"
      ]
     },
     "execution_count": 59,
     "metadata": {},
     "output_type": "execute_result"
    }
   ],
   "source": [
    "gnb.fit(Ftrain, Ltrain)"
   ]
  },
  {
   "cell_type": "code",
   "execution_count": 60,
   "id": "9bd3c55d",
   "metadata": {},
   "outputs": [
    {
     "data": {
      "text/plain": [
       "0.3790849673202614"
      ]
     },
     "execution_count": 60,
     "metadata": {},
     "output_type": "execute_result"
    }
   ],
   "source": [
    "y_pred = gnb.predict(Ftest)\n",
    "metrics.accuracy_score(Ltest, y_pred)"
   ]
  },
  {
   "cell_type": "code",
   "execution_count": 61,
   "id": "9ac4f5ac",
   "metadata": {},
   "outputs": [
    {
     "name": "stdout",
     "output_type": "stream",
     "text": [
      "                               precision    recall  f1-score   support\n",
      "\n",
      "               bacterial_spot       0.47      0.73      0.57       349\n",
      "                 early_blight       0.22      0.24      0.23       182\n",
      "                      healthy       0.32      0.68      0.43       258\n",
      "                  late_blight       0.46      0.25      0.32       316\n",
      "                    leaf_mold       0.40      0.33      0.36       145\n",
      "           septoria_leaf_spot       0.36      0.44      0.39       262\n",
      "                  target_spot       0.44      0.40      0.42       229\n",
      "          tomato_mosaic_virus       0.13      0.62      0.22        58\n",
      "tomato_yellow_leaf_curl_virus       0.64      0.14      0.23       857\n",
      "      two-spotted_spider_mite       0.41      0.57      0.48       251\n",
      "\n",
      "                     accuracy                           0.38      2907\n",
      "                    macro avg       0.39      0.44      0.37      2907\n",
      "                 weighted avg       0.46      0.38      0.36      2907\n",
      "\n",
      "[[254   6  56   4   2   6   6   8   6   1]\n",
      " [ 57  43   4  21  11   9  20   3   6   8]\n",
      " [  6   6 175   6   8   8  17   2  21   9]\n",
      " [  3  41  95  79  11  42  11  15  11   8]\n",
      " [ 14   2   9  13  48  31   5  10   6   7]\n",
      " [  3  11  43   9   6 114  15  24   5  32]\n",
      " [ 17  19   3   8   3  17  92   9   2  59]\n",
      " [  9   0   1   0   3   1   0  36   6   2]\n",
      " [166  51 166  28  27  62  16 145 118  78]\n",
      " [ 10  15   0   3   0  27  26  24   3 143]]\n"
     ]
    }
   ],
   "source": [
    "class_names = target.unique()\n",
    "print(classification_report(Ltest, y_pred, target_names=class_names))\n",
    "print(confusion_matrix(Ltest, y_pred))"
   ]
  },
  {
   "cell_type": "markdown",
   "id": "0a606422",
   "metadata": {},
   "source": [
    "# Decision Tree on Red channel"
   ]
  },
  {
   "cell_type": "code",
   "execution_count": 62,
   "id": "2b6fe1e7",
   "metadata": {},
   "outputs": [
    {
     "data": {
      "text/plain": [
       "0.41658066735466115"
      ]
     },
     "execution_count": 62,
     "metadata": {},
     "output_type": "execute_result"
    }
   ],
   "source": [
    "classifier_tree.fit(Ftrain, Ltrain)\n",
    "classifier_tree.score(Ftest,Ltest)"
   ]
  },
  {
   "cell_type": "code",
   "execution_count": 63,
   "id": "7c5134cd",
   "metadata": {},
   "outputs": [
    {
     "name": "stdout",
     "output_type": "stream",
     "text": [
      "                               precision    recall  f1-score   support\n",
      "\n",
      "               bacterial_spot       0.45      0.47      0.46       349\n",
      "                 early_blight       0.12      0.10      0.11       182\n",
      "                      healthy       0.48      0.45      0.46       258\n",
      "                  late_blight       0.40      0.34      0.37       316\n",
      "                    leaf_mold       0.29      0.32      0.31       145\n",
      "           septoria_leaf_spot       0.30      0.37      0.34       262\n",
      "                  target_spot       0.34      0.37      0.36       229\n",
      "          tomato_mosaic_virus       0.08      0.09      0.08        58\n",
      "tomato_yellow_leaf_curl_virus       0.55      0.54      0.55       857\n",
      "      two-spotted_spider_mite       0.39      0.40      0.40       251\n",
      "\n",
      "                     accuracy                           0.41      2907\n",
      "                    macro avg       0.34      0.34      0.34      2907\n",
      "                 weighted avg       0.42      0.41      0.41      2907\n",
      "\n",
      "[[164  19  11  10  17  17  13   1  88   9]\n",
      " [ 27  19   8  12   8  20  16   6  47  19]\n",
      " [ 17   5 115  21   7  27  20   5  33   8]\n",
      " [ 21  22  29 108  13  39  19   8  42  15]\n",
      " [  6   9  10  13  46  14   9   4  24  10]\n",
      " [ 11  16  12  28   8  98  20   5  48  16]\n",
      " [ 11  12  12  20   8  23  85   1  24  33]\n",
      " [  5   1   3   1   5   6   3   5  26   3]\n",
      " [ 89  43  37  48  37  53  30  15 463  42]\n",
      " [ 11  10   3  12   7  26  32  10  40 100]]\n"
     ]
    }
   ],
   "source": [
    "y_predict = classifier_tree.fit(Ftrain, Ltrain).predict(Ftest)\n",
    "class_names = target.unique()\n",
    "print(classification_report(Ltest, y_predict, target_names=class_names))\n",
    "print(confusion_matrix(Ltest, y_predict))"
   ]
  },
  {
   "cell_type": "markdown",
   "id": "21af7568",
   "metadata": {},
   "source": [
    "# KNN on green channel data"
   ]
  },
  {
   "cell_type": "code",
   "execution_count": 64,
   "id": "461b784b",
   "metadata": {},
   "outputs": [
    {
     "data": {
      "text/plain": [
       "0.4238046095631235"
      ]
     },
     "execution_count": 64,
     "metadata": {},
     "output_type": "execute_result"
    }
   ],
   "source": [
    "#reading numpy array data\n",
    "green_test = np.load('green_data.npy')\n",
    "#reading csv file\n",
    "green_df = pd.read_csv('green_data.csv')\n",
    "loaded = []\n",
    "for i in green_test:\n",
    "    k = []\n",
    "    k = np.asarray(i,dtype='uint8')\n",
    "    loaded.append(k)\n",
    "features = loaded\n",
    "target = green_df['disease']\n",
    "Ftrain,Ftest,Ltrain,Ltest=train_test_split(features,target, test_size=0.20, random_state=20)\n",
    "scaler = StandardScaler()\n",
    "Ftrain = scaler.fit_transform(Ftrain)\n",
    "Ftest = scaler.fit_transform(Ftest)\n",
    "kmodel.fit(Ftrain,Ltrain)\n",
    "kmodel.score(Ftest,Ltest)"
   ]
  },
  {
   "cell_type": "code",
   "execution_count": 65,
   "id": "5a26601b",
   "metadata": {},
   "outputs": [
    {
     "name": "stdout",
     "output_type": "stream",
     "text": [
      "                               precision    recall  f1-score   support\n",
      "\n",
      "               bacterial_spot       0.28      0.78      0.42       349\n",
      "                 early_blight       0.00      0.00      0.00       182\n",
      "                      healthy       0.34      0.54      0.42       258\n",
      "                  late_blight       0.28      0.30      0.29       316\n",
      "                    leaf_mold       0.62      0.39      0.47       145\n",
      "           septoria_leaf_spot       0.60      0.34      0.43       262\n",
      "                  target_spot       1.00      0.01      0.03       229\n",
      "          tomato_mosaic_virus       0.00      0.00      0.00        58\n",
      "tomato_yellow_leaf_curl_virus       0.61      0.59      0.60       857\n",
      "      two-spotted_spider_mite       0.54      0.29      0.38       251\n",
      "\n",
      "                     accuracy                           0.42      2907\n",
      "                    macro avg       0.43      0.32      0.30      2907\n",
      "                 weighted avg       0.49      0.42      0.39      2907\n",
      "\n",
      "[[273   0  24  28   3   0   0   0  21   0]\n",
      " [122   0   5   6   6   4   0   0  33   6]\n",
      " [ 58   0 139  43   0   2   0   0  16   0]\n",
      " [ 69   0  46  95   5  28   0   0  65   8]\n",
      " [ 26   0  15  21  56   1   0   0  23   3]\n",
      " [ 20   0  48  40   5  89   0   0  54   6]\n",
      " [133   0   7  12   2   9   3   0  38  25]\n",
      " [ 11   0   7   4   4   4   0   0  25   3]\n",
      " [160   0 105  64   7   7   0   0 504  10]\n",
      " [ 91   0   7  22   3   5   0   0  50  73]]\n"
     ]
    },
    {
     "name": "stderr",
     "output_type": "stream",
     "text": [
      "C:\\Users\\ravic\\anaconda3\\lib\\site-packages\\sklearn\\metrics\\_classification.py:1248: UndefinedMetricWarning: Precision and F-score are ill-defined and being set to 0.0 in labels with no predicted samples. Use `zero_division` parameter to control this behavior.\n",
      "  _warn_prf(average, modifier, msg_start, len(result))\n",
      "C:\\Users\\ravic\\anaconda3\\lib\\site-packages\\sklearn\\metrics\\_classification.py:1248: UndefinedMetricWarning: Precision and F-score are ill-defined and being set to 0.0 in labels with no predicted samples. Use `zero_division` parameter to control this behavior.\n",
      "  _warn_prf(average, modifier, msg_start, len(result))\n",
      "C:\\Users\\ravic\\anaconda3\\lib\\site-packages\\sklearn\\metrics\\_classification.py:1248: UndefinedMetricWarning: Precision and F-score are ill-defined and being set to 0.0 in labels with no predicted samples. Use `zero_division` parameter to control this behavior.\n",
      "  _warn_prf(average, modifier, msg_start, len(result))\n"
     ]
    }
   ],
   "source": [
    "y_predict = kmodel.fit(Ftrain, Ltrain).predict(Ftest)\n",
    "class_names = target.unique()\n",
    "print(classification_report(Ltest, y_predict, target_names=class_names))\n",
    "print(confusion_matrix(Ltest, y_predict))"
   ]
  },
  {
   "cell_type": "markdown",
   "id": "71f3ea86",
   "metadata": {},
   "source": [
    "# Logistic on Green channel data"
   ]
  },
  {
   "cell_type": "code",
   "execution_count": 66,
   "id": "28dad6b2",
   "metadata": {},
   "outputs": [
    {
     "data": {
      "text/plain": [
       "0.40144478844169246"
      ]
     },
     "execution_count": 66,
     "metadata": {},
     "output_type": "execute_result"
    }
   ],
   "source": [
    "model.fit(Ftrain,Ltrain)\n",
    "model.score(Ftest,Ltest)"
   ]
  },
  {
   "cell_type": "code",
   "execution_count": 67,
   "id": "fb6982d8",
   "metadata": {},
   "outputs": [
    {
     "name": "stdout",
     "output_type": "stream",
     "text": [
      "                               precision    recall  f1-score   support\n",
      "\n",
      "               bacterial_spot       0.38      0.47      0.42       349\n",
      "                 early_blight       0.21      0.16      0.19       182\n",
      "                      healthy       0.43      0.31      0.36       258\n",
      "                  late_blight       0.30      0.31      0.30       316\n",
      "                    leaf_mold       0.26      0.28      0.27       145\n",
      "           septoria_leaf_spot       0.26      0.25      0.26       262\n",
      "                  target_spot       0.20      0.13      0.16       229\n",
      "          tomato_mosaic_virus       0.45      0.16      0.23        58\n",
      "tomato_yellow_leaf_curl_virus       0.56      0.66      0.61       857\n",
      "      two-spotted_spider_mite       0.34      0.34      0.34       251\n",
      "\n",
      "                     accuracy                           0.40      2907\n",
      "                    macro avg       0.34      0.31      0.31      2907\n",
      "                 weighted avg       0.39      0.40      0.39      2907\n",
      "\n",
      "[[164  19  14  23   9  16  13   0  77  14]\n",
      " [ 40  30   3   7  12  14  15   1  42  18]\n",
      " [ 27  12  80  38   7  14  17   0  45  18]\n",
      " [ 31  23  25  97  23  35  17   1  52  12]\n",
      " [ 14   6   4  31  40   9   1   1  27  12]\n",
      " [ 21  12  14  31   9  66  22   1  66  20]\n",
      " [ 47  13  14  21   7  22  30   0  43  32]\n",
      " [  3   0   0  11   4   3   3   9  21   4]\n",
      " [ 54  17  23  54  37  47  15   6 566  38]\n",
      " [ 26  10   7  12   5  24  16   1  65  85]]\n"
     ]
    }
   ],
   "source": [
    "y_predict = model.fit(Ftrain, Ltrain).predict(Ftest)\n",
    "class_names = target.unique()\n",
    "print(classification_report(Ltest, y_predict, target_names=class_names))\n",
    "print(confusion_matrix(Ltest, y_predict))"
   ]
  },
  {
   "cell_type": "markdown",
   "id": "f62f0223",
   "metadata": {},
   "source": [
    "# SVM on green channel data"
   ]
  },
  {
   "cell_type": "code",
   "execution_count": 68,
   "id": "e89e7297",
   "metadata": {},
   "outputs": [
    {
     "name": "stdout",
     "output_type": "stream",
     "text": [
      "0.4458204334365325\n"
     ]
    }
   ],
   "source": [
    "clf.fit(Ftrain,Ltrain)\n",
    "y_pred = clf.predict(Ftest)\n",
    "print(accuracy_score(Ltest,y_pred))"
   ]
  },
  {
   "cell_type": "code",
   "execution_count": 69,
   "id": "356165a0",
   "metadata": {},
   "outputs": [
    {
     "name": "stdout",
     "output_type": "stream",
     "text": [
      "                               precision    recall  f1-score   support\n",
      "\n",
      "               bacterial_spot       0.37      0.57      0.45       349\n",
      "                 early_blight       0.26      0.25      0.26       182\n",
      "                      healthy       0.52      0.41      0.46       258\n",
      "                  late_blight       0.36      0.36      0.36       316\n",
      "                    leaf_mold       0.36      0.36      0.36       145\n",
      "           septoria_leaf_spot       0.33      0.30      0.31       262\n",
      "                  target_spot       0.31      0.22      0.26       229\n",
      "          tomato_mosaic_virus       0.40      0.17      0.24        58\n",
      "tomato_yellow_leaf_curl_virus       0.62      0.64      0.63       857\n",
      "      two-spotted_spider_mite       0.43      0.38      0.41       251\n",
      "\n",
      "                     accuracy                           0.45      2907\n",
      "                    macro avg       0.40      0.37      0.37      2907\n",
      "                 weighted avg       0.45      0.45      0.44      2907\n",
      "\n",
      "[[198  19  13  23   2  10  11   0  63  10]\n",
      " [ 45  46   2   9  13   9  13   0  30  15]\n",
      " [ 35   8 107  35   4  12  17   0  27  13]\n",
      " [ 29  33  20 113  17  38  10   6  40  10]\n",
      " [ 15   9   2  23  52  11   0   2  25   6]\n",
      " [ 37  11  14  30  10  78  13   3  56  10]\n",
      " [ 63  11  10  21   8  13  50   1  24  28]\n",
      " [  3   0   2  14   6   3   4  10  15   1]\n",
      " [ 82  24  33  46  26  44  19   3 546  34]\n",
      " [ 31  15   3   4   8  22  22   0  50  96]]\n"
     ]
    }
   ],
   "source": [
    "y_predict = clf.fit(Ftrain, Ltrain).predict(Ftest)\n",
    "class_names = target.unique()\n",
    "print(classification_report(Ltest, y_predict, target_names=class_names))\n",
    "print(confusion_matrix(Ltest, y_predict))"
   ]
  },
  {
   "cell_type": "markdown",
   "id": "4f8e565e",
   "metadata": {},
   "source": [
    "# Random Forest on green channel data"
   ]
  },
  {
   "cell_type": "code",
   "execution_count": 70,
   "id": "96c92f8f",
   "metadata": {},
   "outputs": [
    {
     "data": {
      "text/plain": [
       "0.42833792154163797"
      ]
     },
     "execution_count": 70,
     "metadata": {},
     "output_type": "execute_result"
    }
   ],
   "source": [
    "classifier_rf.fit(Ftrain, Ltrain)\n",
    "classifier_rf.oob_score_"
   ]
  },
  {
   "cell_type": "code",
   "execution_count": 71,
   "id": "b158d3b7",
   "metadata": {},
   "outputs": [
    {
     "name": "stdout",
     "output_type": "stream",
     "text": [
      "                               precision    recall  f1-score   support\n",
      "\n",
      "               bacterial_spot       0.60      0.47      0.53       349\n",
      "                 early_blight       0.00      0.00      0.00       182\n",
      "                      healthy       0.63      0.34      0.45       258\n",
      "                  late_blight       0.70      0.27      0.39       316\n",
      "                    leaf_mold       0.00      0.00      0.00       145\n",
      "           septoria_leaf_spot       0.61      0.40      0.48       262\n",
      "                  target_spot       0.00      0.00      0.00       229\n",
      "          tomato_mosaic_virus       0.00      0.00      0.00        58\n",
      "tomato_yellow_leaf_curl_virus       0.36      0.92      0.52       857\n",
      "      two-spotted_spider_mite       0.79      0.09      0.16       251\n",
      "\n",
      "                     accuracy                           0.43      2907\n",
      "                    macro avg       0.37      0.25      0.25      2907\n",
      "                 weighted avg       0.43      0.43      0.36      2907\n",
      "\n",
      "[[165   0   9   4   0   0   0   0 171   0]\n",
      " [ 26   0   1   5   0  15   0   0 135   0]\n",
      " [  3   0  89   8   0   0   0   0 158   0]\n",
      " [ 13   0  14  86   0  29   0   0 174   0]\n",
      " [ 11   0   1   4   0   5   0   0 124   0]\n",
      " [  0   0  15   9   0 104   0   0 134   0]\n",
      " [  3   0   1   0   0   5   0   0 214   6]\n",
      " [  3   0   0   0   0   0   0   0  55   0]\n",
      " [ 41   0  11   5   0  11   0   0 789   0]\n",
      " [ 11   0   1   1   0   2   0   0 214  22]]\n"
     ]
    },
    {
     "name": "stderr",
     "output_type": "stream",
     "text": [
      "C:\\Users\\ravic\\anaconda3\\lib\\site-packages\\sklearn\\metrics\\_classification.py:1248: UndefinedMetricWarning: Precision and F-score are ill-defined and being set to 0.0 in labels with no predicted samples. Use `zero_division` parameter to control this behavior.\n",
      "  _warn_prf(average, modifier, msg_start, len(result))\n",
      "C:\\Users\\ravic\\anaconda3\\lib\\site-packages\\sklearn\\metrics\\_classification.py:1248: UndefinedMetricWarning: Precision and F-score are ill-defined and being set to 0.0 in labels with no predicted samples. Use `zero_division` parameter to control this behavior.\n",
      "  _warn_prf(average, modifier, msg_start, len(result))\n",
      "C:\\Users\\ravic\\anaconda3\\lib\\site-packages\\sklearn\\metrics\\_classification.py:1248: UndefinedMetricWarning: Precision and F-score are ill-defined and being set to 0.0 in labels with no predicted samples. Use `zero_division` parameter to control this behavior.\n",
      "  _warn_prf(average, modifier, msg_start, len(result))\n"
     ]
    }
   ],
   "source": [
    "y_predict = classifier_rf.fit(Ftrain, Ltrain).predict(Ftest)\n",
    "class_names = target.unique()\n",
    "print(classification_report(Ltest, y_predict, target_names=class_names))\n",
    "print(confusion_matrix(Ltest, y_predict))"
   ]
  },
  {
   "cell_type": "markdown",
   "id": "e9b1cca9",
   "metadata": {},
   "source": [
    "# Naive bayes on Green channel data"
   ]
  },
  {
   "cell_type": "code",
   "execution_count": 72,
   "id": "1136802c",
   "metadata": {},
   "outputs": [
    {
     "data": {
      "text/plain": [
       "0.34502923976608185"
      ]
     },
     "execution_count": 72,
     "metadata": {},
     "output_type": "execute_result"
    }
   ],
   "source": [
    "gnb.fit(Ftrain, Ltrain)\n",
    "y_pred = gnb.predict(Ftest)\n",
    "metrics.accuracy_score(Ltest, y_pred)"
   ]
  },
  {
   "cell_type": "code",
   "execution_count": 73,
   "id": "cb4c448e",
   "metadata": {},
   "outputs": [
    {
     "name": "stdout",
     "output_type": "stream",
     "text": [
      "                               precision    recall  f1-score   support\n",
      "\n",
      "               bacterial_spot       0.43      0.74      0.54       349\n",
      "                 early_blight       0.24      0.33      0.28       182\n",
      "                      healthy       0.34      0.58      0.43       258\n",
      "                  late_blight       0.38      0.22      0.28       316\n",
      "                    leaf_mold       0.38      0.28      0.33       145\n",
      "           septoria_leaf_spot       0.31      0.50      0.39       262\n",
      "                  target_spot       0.41      0.26      0.32       229\n",
      "          tomato_mosaic_virus       0.11      0.55      0.18        58\n",
      "tomato_yellow_leaf_curl_virus       0.54      0.11      0.19       857\n",
      "      two-spotted_spider_mite       0.35      0.41      0.38       251\n",
      "\n",
      "                     accuracy                           0.35      2907\n",
      "                    macro avg       0.35      0.40      0.33      2907\n",
      "                 weighted avg       0.41      0.35      0.32      2907\n",
      "\n",
      "[[260   6  34   1   6   9   2  21   7   3]\n",
      " [ 53  60   2  23   8   8  10   3   3  12]\n",
      " [  8   6 150   8   9   7  21   6  32  11]\n",
      " [ 12  54  70  69   6  37   9  37   7  15]\n",
      " [ 21   3   7  12  41  27   6  19   4   5]\n",
      " [  3   6  41   9   7 131  12  27   6  20]\n",
      " [ 26  23   6  14   9  27  60  12   7  45]\n",
      " [ 11   0   2   2   1   2   0  32   4   4]\n",
      " [200  61 119  38  15 136  10 106  98  74]\n",
      " [ 14  27   5   7   5  34  15  27  15 102]]\n"
     ]
    }
   ],
   "source": [
    "class_names = target.unique()\n",
    "print(classification_report(Ltest, y_pred, target_names=class_names))\n",
    "print(confusion_matrix(Ltest, y_pred))"
   ]
  },
  {
   "cell_type": "markdown",
   "id": "5e2c336a",
   "metadata": {},
   "source": [
    "# Decision Tree on Green channel"
   ]
  },
  {
   "cell_type": "code",
   "execution_count": 74,
   "id": "11e8600c",
   "metadata": {},
   "outputs": [
    {
     "data": {
      "text/plain": [
       "0.40350877192982454"
      ]
     },
     "execution_count": 74,
     "metadata": {},
     "output_type": "execute_result"
    }
   ],
   "source": [
    "classifier_tree.fit(Ftrain, Ltrain)\n",
    "classifier_tree.score(Ftest,Ltest)"
   ]
  },
  {
   "cell_type": "code",
   "execution_count": 75,
   "id": "ef10f4f8",
   "metadata": {},
   "outputs": [
    {
     "name": "stdout",
     "output_type": "stream",
     "text": [
      "                               precision    recall  f1-score   support\n",
      "\n",
      "               bacterial_spot       0.41      0.44      0.43       349\n",
      "                 early_blight       0.16      0.14      0.15       182\n",
      "                      healthy       0.51      0.50      0.50       258\n",
      "                  late_blight       0.36      0.34      0.35       316\n",
      "                    leaf_mold       0.19      0.21      0.20       145\n",
      "           septoria_leaf_spot       0.37      0.41      0.39       262\n",
      "                  target_spot       0.33      0.27      0.29       229\n",
      "          tomato_mosaic_virus       0.11      0.12      0.11        58\n",
      "tomato_yellow_leaf_curl_virus       0.57      0.56      0.56       857\n",
      "      two-spotted_spider_mite       0.31      0.34      0.33       251\n",
      "\n",
      "                     accuracy                           0.41      2907\n",
      "                    macro avg       0.33      0.33      0.33      2907\n",
      "                 weighted avg       0.41      0.41      0.41      2907\n",
      "\n",
      "[[153  23  17  19  17  13   6   3  84  14]\n",
      " [ 27  25   7  22  10  13  19   6  33  20]\n",
      " [ 15   8 129  19  15  17  11   4  28  12]\n",
      " [ 21  23  21 108  14  38  15  10  44  22]\n",
      " [ 11   6   7  16  30  18   7   1  34  15]\n",
      " [ 14  15  20  21  12 108   9   5  46  12]\n",
      " [ 25   9  11  16  12  16  61   3  39  37]\n",
      " [  9   1   7   3   3   5   3   7  19   1]\n",
      " [ 74  29  27  56  35  53  31  17 479  56]\n",
      " [ 21  20   9  20  12  12  25   9  37  86]]\n"
     ]
    }
   ],
   "source": [
    "y_predict = classifier_tree.fit(Ftrain, Ltrain).predict(Ftest)\n",
    "class_names = target.unique()\n",
    "print(classification_report(Ltest, y_predict, target_names=class_names))\n",
    "print(confusion_matrix(Ltest, y_predict))"
   ]
  },
  {
   "cell_type": "markdown",
   "id": "75817642",
   "metadata": {},
   "source": [
    "# KNN on blue channel data"
   ]
  },
  {
   "cell_type": "code",
   "execution_count": 76,
   "id": "531e3624",
   "metadata": {},
   "outputs": [
    {
     "data": {
      "text/plain": [
       "0.4368765049879601"
      ]
     },
     "execution_count": 76,
     "metadata": {},
     "output_type": "execute_result"
    }
   ],
   "source": [
    "#reading numpy array data\n",
    "blue_test = np.load('blue_data.npy')\n",
    "#reading csv file\n",
    "blue_df = pd.read_csv('blue_data.csv')\n",
    "loaded = []\n",
    "for i in gray_test:\n",
    "    k = []\n",
    "    k = np.asarray(i,dtype='uint8')\n",
    "    loaded.append(k)\n",
    "features = loaded\n",
    "target = blue_df['disease']\n",
    "Ftrain,Ftest,Ltrain,Ltest=train_test_split(features,target, test_size=0.20, random_state=20)\n",
    "Ftrain = scaler.fit_transform(Ftrain)\n",
    "Ftest = scaler.fit_transform(Ftest)\n",
    "kmodel.fit(Ftrain,Ltrain)\n",
    "kmodel.score(Ftest,Ltest)"
   ]
  },
  {
   "cell_type": "code",
   "execution_count": 77,
   "id": "db90e093",
   "metadata": {},
   "outputs": [
    {
     "name": "stdout",
     "output_type": "stream",
     "text": [
      "                               precision    recall  f1-score   support\n",
      "\n",
      "               bacterial_spot       0.34      0.77      0.47       349\n",
      "                 early_blight       0.00      0.00      0.00       182\n",
      "                      healthy       0.35      0.59      0.44       258\n",
      "                  late_blight       0.31      0.27      0.29       316\n",
      "                    leaf_mold       0.71      0.38      0.50       145\n",
      "           septoria_leaf_spot       0.58      0.30      0.40       262\n",
      "                  target_spot       0.83      0.02      0.04       229\n",
      "          tomato_mosaic_virus       0.00      0.00      0.00        58\n",
      "tomato_yellow_leaf_curl_virus       0.52      0.64      0.58       857\n",
      "      two-spotted_spider_mite       0.59      0.30      0.40       251\n",
      "\n",
      "                     accuracy                           0.44      2907\n",
      "                    macro avg       0.42      0.33      0.31      2907\n",
      "                 weighted avg       0.46      0.44      0.39      2907\n",
      "\n",
      "[[269   0  28  21   1   0   0   0  30   0]\n",
      " [109   0   9   4   5   7   0   0  46   2]\n",
      " [ 22   0 152  35   0   5   0   0  43   1]\n",
      " [ 50   0  62  84   3  29   0   0  81   7]\n",
      " [ 13   0  17  23  55   0   0   0  36   1]\n",
      " [ 19   0  40  26   5  79   0   0  87   6]\n",
      " [106   0  12   6   0   6   5   0  71  23]\n",
      " [  3   0   6   3   3   0   0   0  40   3]\n",
      " [133   0  99  55   4   6   0   0 551   9]\n",
      " [ 73   0   8  16   1   5   1   0  72  75]]\n"
     ]
    },
    {
     "name": "stderr",
     "output_type": "stream",
     "text": [
      "C:\\Users\\ravic\\anaconda3\\lib\\site-packages\\sklearn\\metrics\\_classification.py:1248: UndefinedMetricWarning: Precision and F-score are ill-defined and being set to 0.0 in labels with no predicted samples. Use `zero_division` parameter to control this behavior.\n",
      "  _warn_prf(average, modifier, msg_start, len(result))\n",
      "C:\\Users\\ravic\\anaconda3\\lib\\site-packages\\sklearn\\metrics\\_classification.py:1248: UndefinedMetricWarning: Precision and F-score are ill-defined and being set to 0.0 in labels with no predicted samples. Use `zero_division` parameter to control this behavior.\n",
      "  _warn_prf(average, modifier, msg_start, len(result))\n",
      "C:\\Users\\ravic\\anaconda3\\lib\\site-packages\\sklearn\\metrics\\_classification.py:1248: UndefinedMetricWarning: Precision and F-score are ill-defined and being set to 0.0 in labels with no predicted samples. Use `zero_division` parameter to control this behavior.\n",
      "  _warn_prf(average, modifier, msg_start, len(result))\n"
     ]
    }
   ],
   "source": [
    "y_predict = kmodel.fit(Ftrain, Ltrain).predict(Ftest)\n",
    "class_names = target.unique()\n",
    "print(classification_report(Ltest, y_predict, target_names=class_names))\n",
    "print(confusion_matrix(Ltest, y_predict))"
   ]
  },
  {
   "cell_type": "markdown",
   "id": "f452a113",
   "metadata": {},
   "source": [
    "# logistic on blue channel data"
   ]
  },
  {
   "cell_type": "code",
   "execution_count": 78,
   "id": "de158586",
   "metadata": {},
   "outputs": [
    {
     "data": {
      "text/plain": [
       "0.4021327829377365"
      ]
     },
     "execution_count": 78,
     "metadata": {},
     "output_type": "execute_result"
    }
   ],
   "source": [
    "model.fit(Ftrain,Ltrain)\n",
    "model.score(Ftest,Ltest)"
   ]
  },
  {
   "cell_type": "code",
   "execution_count": 79,
   "id": "43a10821",
   "metadata": {},
   "outputs": [
    {
     "name": "stdout",
     "output_type": "stream",
     "text": [
      "                               precision    recall  f1-score   support\n",
      "\n",
      "               bacterial_spot       0.39      0.49      0.43       349\n",
      "                 early_blight       0.18      0.14      0.16       182\n",
      "                      healthy       0.40      0.26      0.32       258\n",
      "                  late_blight       0.30      0.32      0.31       316\n",
      "                    leaf_mold       0.31      0.32      0.32       145\n",
      "           septoria_leaf_spot       0.28      0.27      0.27       262\n",
      "                  target_spot       0.25      0.17      0.20       229\n",
      "          tomato_mosaic_virus       0.21      0.12      0.15        58\n",
      "tomato_yellow_leaf_curl_virus       0.56      0.64      0.60       857\n",
      "      two-spotted_spider_mite       0.36      0.37      0.36       251\n",
      "\n",
      "                     accuracy                           0.40      2907\n",
      "                    macro avg       0.32      0.31      0.31      2907\n",
      "                 weighted avg       0.39      0.40      0.39      2907\n",
      "\n",
      "[[170  15  16  27   5  13  10   0  84   9]\n",
      " [ 33  25   6  11   9  16  19   2  49  12]\n",
      " [ 27  11  68  46   8  20  15   1  46  16]\n",
      " [ 33  22  25 100  20  34  14   5  50  13]\n",
      " [ 13   7   2  27  47  14   1   1  23  10]\n",
      " [ 20  13  11  32  14  71  19   3  53  26]\n",
      " [ 46  13  10  16   4  20  38   1  41  40]\n",
      " [  3   0   1   9   4   2   1   7  25   6]\n",
      " [ 67  21  25  55  36  42  15  10 550  36]\n",
      " [ 22   9   4  10   4  25  20   4  60  93]]\n"
     ]
    }
   ],
   "source": [
    "y_predict = model.fit(Ftrain, Ltrain).predict(Ftest)\n",
    "class_names = target.unique()\n",
    "print(classification_report(Ltest, y_predict, target_names=class_names))\n",
    "print(confusion_matrix(Ltest, y_predict))"
   ]
  },
  {
   "cell_type": "markdown",
   "id": "c7585c1d",
   "metadata": {},
   "source": [
    "# SVM on blue channel data"
   ]
  },
  {
   "cell_type": "code",
   "execution_count": 80,
   "id": "06fb4a0f",
   "metadata": {},
   "outputs": [
    {
     "name": "stdout",
     "output_type": "stream",
     "text": [
      "0.4671482628138975\n"
     ]
    }
   ],
   "source": [
    "clf.fit(Ftrain,Ltrain)\n",
    "y_pred = clf.predict(Ftest)\n",
    "print(accuracy_score(Ltest,y_pred))"
   ]
  },
  {
   "cell_type": "code",
   "execution_count": 81,
   "id": "31601cac",
   "metadata": {},
   "outputs": [
    {
     "name": "stdout",
     "output_type": "stream",
     "text": [
      "                               precision    recall  f1-score   support\n",
      "\n",
      "               bacterial_spot       0.39      0.56      0.46       349\n",
      "                 early_blight       0.24      0.25      0.24       182\n",
      "                      healthy       0.52      0.49      0.51       258\n",
      "                  late_blight       0.37      0.38      0.37       316\n",
      "                    leaf_mold       0.42      0.44      0.43       145\n",
      "           septoria_leaf_spot       0.38      0.35      0.37       262\n",
      "                  target_spot       0.37      0.24      0.29       229\n",
      "          tomato_mosaic_virus       0.29      0.17      0.22        58\n",
      "tomato_yellow_leaf_curl_virus       0.64      0.63      0.63       857\n",
      "      two-spotted_spider_mite       0.49      0.44      0.46       251\n",
      "\n",
      "                     accuracy                           0.47      2907\n",
      "                    macro avg       0.41      0.40      0.40      2907\n",
      "                 weighted avg       0.47      0.47      0.46      2907\n",
      "\n",
      "[[194  23  16  23   1   8   7   0  71   6]\n",
      " [ 38  45   3   9  11  11  18   0  35  12]\n",
      " [ 36   8 126  33   6  10  10   1  19   9]\n",
      " [ 24  27  28 120  15  41  10   4  38   9]\n",
      " [ 14   8   2  22  64  13   0   1  16   5]\n",
      " [ 31  18  17  36   9  93  11   3  35   9]\n",
      " [ 46  16   9  20   7  17  55   3  26  30]\n",
      " [  1   1   0   9   6   3   1  10  25   2]\n",
      " [ 85  29  35  53  24  30  16  10 540  35]\n",
      " [ 23  14   5   2   8  21  19   3  45 111]]\n"
     ]
    }
   ],
   "source": [
    "y_predict = clf.fit(Ftrain, Ltrain).predict(Ftest)\n",
    "class_names = target.unique()\n",
    "print(classification_report(Ltest, y_predict, target_names=class_names))\n",
    "print(confusion_matrix(Ltest, y_predict))"
   ]
  },
  {
   "cell_type": "markdown",
   "id": "f4eb8c6c",
   "metadata": {},
   "source": [
    "# Random Forest on blue channel data"
   ]
  },
  {
   "cell_type": "code",
   "execution_count": 82,
   "id": "b71407b2",
   "metadata": {},
   "outputs": [
    {
     "data": {
      "text/plain": [
       "0.43392980041293877"
      ]
     },
     "execution_count": 82,
     "metadata": {},
     "output_type": "execute_result"
    }
   ],
   "source": [
    "classifier_rf.fit(Ftrain, Ltrain)\n",
    "classifier_rf.oob_score_"
   ]
  },
  {
   "cell_type": "code",
   "execution_count": 83,
   "id": "f3cf2295",
   "metadata": {},
   "outputs": [
    {
     "name": "stdout",
     "output_type": "stream",
     "text": [
      "                               precision    recall  f1-score   support\n",
      "\n",
      "               bacterial_spot       0.63      0.48      0.54       349\n",
      "                 early_blight       0.00      0.00      0.00       182\n",
      "                      healthy       0.69      0.33      0.44       258\n",
      "                  late_blight       0.74      0.28      0.41       316\n",
      "                    leaf_mold       1.00      0.03      0.05       145\n",
      "           septoria_leaf_spot       0.59      0.45      0.51       262\n",
      "                  target_spot       0.67      0.01      0.02       229\n",
      "          tomato_mosaic_virus       0.00      0.00      0.00        58\n",
      "tomato_yellow_leaf_curl_virus       0.37      0.91      0.53       857\n",
      "      two-spotted_spider_mite       0.57      0.17      0.26       251\n",
      "\n",
      "                     accuracy                           0.44      2907\n",
      "                    macro avg       0.53      0.27      0.28      2907\n",
      "                 weighted avg       0.53      0.44      0.38      2907\n",
      "\n",
      "[[167   0   8   3   0   0   0   0 171   0]\n",
      " [ 25   0   0   4   0  17   1   0 131   4]\n",
      " [  3   0  84   3   0   0   0   0 168   0]\n",
      " [ 10   0   8  90   0  32   0   0 174   2]\n",
      " [  2   0   0   7   4   9   0   0 121   2]\n",
      " [  2   0   9   9   0 118   0   0 120   4]\n",
      " [  5   0   0   0   0   6   2   0 198  18]\n",
      " [  1   0   0   1   0   1   0   0  55   0]\n",
      " [ 41   0  13   4   0  13   0   0 783   3]\n",
      " [  9   0   0   0   0   4   0   0 195  43]]\n"
     ]
    },
    {
     "name": "stderr",
     "output_type": "stream",
     "text": [
      "C:\\Users\\ravic\\anaconda3\\lib\\site-packages\\sklearn\\metrics\\_classification.py:1248: UndefinedMetricWarning: Precision and F-score are ill-defined and being set to 0.0 in labels with no predicted samples. Use `zero_division` parameter to control this behavior.\n",
      "  _warn_prf(average, modifier, msg_start, len(result))\n",
      "C:\\Users\\ravic\\anaconda3\\lib\\site-packages\\sklearn\\metrics\\_classification.py:1248: UndefinedMetricWarning: Precision and F-score are ill-defined and being set to 0.0 in labels with no predicted samples. Use `zero_division` parameter to control this behavior.\n",
      "  _warn_prf(average, modifier, msg_start, len(result))\n",
      "C:\\Users\\ravic\\anaconda3\\lib\\site-packages\\sklearn\\metrics\\_classification.py:1248: UndefinedMetricWarning: Precision and F-score are ill-defined and being set to 0.0 in labels with no predicted samples. Use `zero_division` parameter to control this behavior.\n",
      "  _warn_prf(average, modifier, msg_start, len(result))\n"
     ]
    }
   ],
   "source": [
    "y_predict = classifier_rf.fit(Ftrain, Ltrain).predict(Ftest)\n",
    "class_names = target.unique()\n",
    "print(classification_report(Ltest, y_predict, target_names=class_names))\n",
    "print(confusion_matrix(Ltest, y_predict))"
   ]
  },
  {
   "cell_type": "markdown",
   "id": "fb1ca20e",
   "metadata": {},
   "source": [
    "# Naive bayes on blue channel data"
   ]
  },
  {
   "cell_type": "code",
   "execution_count": 84,
   "id": "11ea0b85",
   "metadata": {},
   "outputs": [
    {
     "data": {
      "text/plain": [
       "0.3591331269349845"
      ]
     },
     "execution_count": 84,
     "metadata": {},
     "output_type": "execute_result"
    }
   ],
   "source": [
    "gnb.fit(Ftrain, Ltrain)\n",
    "y_pred = gnb.predict(Ftest)\n",
    "metrics.accuracy_score(Ltest, y_pred)"
   ]
  },
  {
   "cell_type": "code",
   "execution_count": 85,
   "id": "0743881e",
   "metadata": {},
   "outputs": [
    {
     "name": "stdout",
     "output_type": "stream",
     "text": [
      "                               precision    recall  f1-score   support\n",
      "\n",
      "               bacterial_spot       0.44      0.74      0.55       349\n",
      "                 early_blight       0.23      0.28      0.25       182\n",
      "                      healthy       0.32      0.62      0.42       258\n",
      "                  late_blight       0.40      0.22      0.28       316\n",
      "                    leaf_mold       0.45      0.32      0.38       145\n",
      "           septoria_leaf_spot       0.37      0.48      0.42       262\n",
      "                  target_spot       0.42      0.32      0.36       229\n",
      "          tomato_mosaic_virus       0.11      0.57      0.18        58\n",
      "tomato_yellow_leaf_curl_virus       0.62      0.13      0.22       857\n",
      "      two-spotted_spider_mite       0.36      0.44      0.39       251\n",
      "\n",
      "                     accuracy                           0.36      2907\n",
      "                    macro avg       0.37      0.41      0.35      2907\n",
      "                 weighted avg       0.44      0.36      0.34      2907\n",
      "\n",
      "[[259   8  44   2   3   6   3  12   9   3]\n",
      " [ 54  51   3  25   7   8  14   4   6  10]\n",
      " [  8   5 160   8  10   6  22   3  20  16]\n",
      " [  9  48  86  70  12  33  10  30   7  11]\n",
      " [ 20   4   5  12  47  27   4  16   6   4]\n",
      " [  3   9  45   9   6 126  15  22   3  24]\n",
      " [ 22  20   3  13   5  26  73  13   6  48]\n",
      " [ 11   0   3   0   1   1   0  33   6   3]\n",
      " [190  55 144  32  10  76  12 145 115  78]\n",
      " [ 15  21   3   6   3  31  20  34   8 110]]\n"
     ]
    }
   ],
   "source": [
    "class_names = target.unique()\n",
    "print(classification_report(Ltest, y_pred, target_names=class_names))\n",
    "print(confusion_matrix(Ltest, y_pred))"
   ]
  },
  {
   "cell_type": "markdown",
   "id": "a9f61b1f",
   "metadata": {},
   "source": [
    "# Decision Tree on Blue channel"
   ]
  },
  {
   "cell_type": "code",
   "execution_count": 86,
   "id": "abc489d3",
   "metadata": {},
   "outputs": [
    {
     "data": {
      "text/plain": [
       "0.4072927416580667"
      ]
     },
     "execution_count": 86,
     "metadata": {},
     "output_type": "execute_result"
    }
   ],
   "source": [
    "classifier_tree.fit(Ftrain, Ltrain)\n",
    "classifier_tree.score(Ftest,Ltest)"
   ]
  },
  {
   "cell_type": "code",
   "execution_count": 87,
   "id": "7047e0bb",
   "metadata": {},
   "outputs": [
    {
     "name": "stdout",
     "output_type": "stream",
     "text": [
      "                               precision    recall  f1-score   support\n",
      "\n",
      "               bacterial_spot       0.46      0.47      0.47       349\n",
      "                 early_blight       0.17      0.12      0.14       182\n",
      "                      healthy       0.49      0.45      0.47       258\n",
      "                  late_blight       0.43      0.34      0.38       316\n",
      "                    leaf_mold       0.22      0.26      0.24       145\n",
      "           septoria_leaf_spot       0.32      0.38      0.34       262\n",
      "                  target_spot       0.23      0.25      0.24       229\n",
      "          tomato_mosaic_virus       0.03      0.03      0.03        58\n",
      "tomato_yellow_leaf_curl_virus       0.54      0.55      0.54       857\n",
      "      two-spotted_spider_mite       0.36      0.38      0.37       251\n",
      "\n",
      "                     accuracy                           0.40      2907\n",
      "                    macro avg       0.32      0.32      0.32      2907\n",
      "                 weighted avg       0.40      0.40      0.40      2907\n",
      "\n",
      "[[165  11  16  15  12  19  17   5  83   6]\n",
      " [ 22  21   6  12  12  13  18   3  55  20]\n",
      " [ 14   3 115  18  11  19  20   7  31  20]\n",
      " [ 19  19  14 109  17  45  28   8  50   7]\n",
      " [ 14   5   8  14  38  15   9   2  31   9]\n",
      " [ 11   7  10  21  12  99  19   5  61  17]\n",
      " [ 18  15  13  19  10  21  58   1  31  43]\n",
      " [  3   0   3   3   6   8   8   2  21   4]\n",
      " [ 80  33  36  35  41  56  40  25 470  41]\n",
      " [  9  11  14  10  15  18  31   7  41  95]]\n"
     ]
    }
   ],
   "source": [
    "y_predict = classifier_tree.fit(Ftrain, Ltrain).predict(Ftest)\n",
    "class_names = target.unique()\n",
    "print(classification_report(Ltest, y_predict, target_names=class_names))\n",
    "print(confusion_matrix(Ltest, y_predict))"
   ]
  },
  {
   "cell_type": "code",
   "execution_count": 88,
   "id": "b217e89f",
   "metadata": {},
   "outputs": [
    {
     "name": "stdout",
     "output_type": "stream",
     "text": [
      "37418.40356707573\n"
     ]
    }
   ],
   "source": [
    "end_time = time.time()\n",
    "print(end_time - start_time)"
   ]
  }
 ],
 "metadata": {
  "kernelspec": {
   "display_name": "Python 3 (ipykernel)",
   "language": "python",
   "name": "python3"
  },
  "language_info": {
   "codemirror_mode": {
    "name": "ipython",
    "version": 3
   },
   "file_extension": ".py",
   "mimetype": "text/x-python",
   "name": "python",
   "nbconvert_exporter": "python",
   "pygments_lexer": "ipython3",
   "version": "3.9.12"
  }
 },
 "nbformat": 4,
 "nbformat_minor": 5
}
