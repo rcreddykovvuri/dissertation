{
 "cells": [
  {
   "cell_type": "code",
   "execution_count": 1,
   "id": "bcdb1517",
   "metadata": {},
   "outputs": [],
   "source": [
    "import numpy as np #importing numpy\n",
    "import pandas as pd #importing pandas\n",
    "import PIL #importing pillow for image processing\n",
    "from PIL import Image#importing image from pillow library\n",
    "import skimage#importing skimage library\n",
    "import os#importing os library\n",
    "import time#importing time library\n",
    "\n",
    "#Capture start time of the program\n",
    "start_time = time.time()"
   ]
  },
  {
   "cell_type": "code",
   "execution_count": 2,
   "id": "9ec45970",
   "metadata": {},
   "outputs": [],
   "source": [
    "os.chdir('D://DKIT//dissertation//Dataset_of_Tomato_Leaves//plantvillage//Preprocessed_data//128//vector//')"
   ]
  },
  {
   "cell_type": "code",
   "execution_count": 3,
   "id": "cbc71f85",
   "metadata": {},
   "outputs": [
    {
     "name": "stderr",
     "output_type": "stream",
     "text": [
      "C:\\Users\\ravic\\anaconda3\\lib\\site-packages\\scipy\\__init__.py:146: UserWarning: A NumPy version >=1.16.5 and <1.23.0 is required for this version of SciPy (detected version 1.23.1\n",
      "  warnings.warn(f\"A NumPy version >={np_minversion} and <{np_maxversion}\"\n"
     ]
    }
   ],
   "source": [
    "#importing classification report and confusion matrix\n",
    "from sklearn.metrics import classification_report, confusion_matrix"
   ]
  },
  {
   "cell_type": "markdown",
   "id": "7139bf53",
   "metadata": {},
   "source": [
    "# KNN on rgb data"
   ]
  },
  {
   "cell_type": "code",
   "execution_count": 4,
   "id": "9386938c",
   "metadata": {},
   "outputs": [],
   "source": [
    "#reading numpy array data\n",
    "rgb_test = np.load('rgb_data.npy')\n",
    "#reading csv file\n",
    "rgb_df = pd.read_csv('rgb_data.csv')"
   ]
  },
  {
   "cell_type": "code",
   "execution_count": 5,
   "id": "4f95f2f6",
   "metadata": {},
   "outputs": [],
   "source": [
    "features = pd.DataFrame(rgb_test)"
   ]
  },
  {
   "cell_type": "code",
   "execution_count": 6,
   "id": "c6d5658c",
   "metadata": {},
   "outputs": [],
   "source": [
    "target = rgb_df['disease']\n",
    "from sklearn.preprocessing import Normalizer\n",
    "norm = Normalizer()\n",
    "from sklearn.model_selection import train_test_split\n",
    "Ftrain,Ftest,Ltrain,Ltest=train_test_split(features,target, test_size=0.20, random_state=24)"
   ]
  },
  {
   "cell_type": "code",
   "execution_count": 7,
   "id": "8cc86824",
   "metadata": {},
   "outputs": [],
   "source": [
    "Ftrain = norm.fit_transform(Ftrain)\n",
    "Ftest = norm.fit_transform(Ftest)"
   ]
  },
  {
   "cell_type": "code",
   "execution_count": 8,
   "id": "6f1171c6",
   "metadata": {},
   "outputs": [],
   "source": [
    "from sklearn.neighbors import KNeighborsClassifier\n",
    "kmodel = KNeighborsClassifier(n_neighbors=120)"
   ]
  },
  {
   "cell_type": "code",
   "execution_count": 9,
   "id": "b9fdc978",
   "metadata": {},
   "outputs": [
    {
     "data": {
      "text/plain": [
       "0.5177158582731338"
      ]
     },
     "execution_count": 9,
     "metadata": {},
     "output_type": "execute_result"
    }
   ],
   "source": [
    "kmodel.fit(Ftrain,Ltrain)\n",
    "kmodel.score(Ftest,Ltest)"
   ]
  },
  {
   "cell_type": "code",
   "execution_count": 10,
   "id": "cc56686d",
   "metadata": {},
   "outputs": [
    {
     "name": "stdout",
     "output_type": "stream",
     "text": [
      "                               precision    recall  f1-score   support\n",
      "\n",
      "               bacterial_spot       0.30      0.76      0.43       345\n",
      "                 early_blight       0.00      0.00      0.00       153\n",
      "                      healthy       0.36      0.70      0.47       234\n",
      "                  late_blight       0.50      0.40      0.44       309\n",
      "                    leaf_mold       0.64      0.48      0.55       145\n",
      "           septoria_leaf_spot       0.41      0.26      0.32       293\n",
      "                  target_spot       0.60      0.01      0.02       240\n",
      "          tomato_mosaic_virus       0.50      0.02      0.04        54\n",
      "tomato_yellow_leaf_curl_virus       0.81      0.82      0.81       854\n",
      "      two-spotted_spider_mite       0.64      0.39      0.48       280\n",
      "\n",
      "                     accuracy                           0.52      2907\n",
      "                    macro avg       0.48      0.38      0.36      2907\n",
      "                 weighted avg       0.55      0.52      0.48      2907\n",
      "\n",
      "[[262   0  36  13   0   4   0   0  28   2]\n",
      " [100   0   9   5   2  12   2   0  18   5]\n",
      " [ 28   0 164  18   0  17   0   0   1   6]\n",
      " [ 64   0  58 123  16  22   0   0  23   3]\n",
      " [ 10   0  17  18  70  17   0   1   8   4]\n",
      " [ 58   0  58  41  15  76   0   0  36   9]\n",
      " [156   0  45   0   0  14   3   0   7  15]\n",
      " [  2   0  11  12   6   4   0   1   9   9]\n",
      " [ 98   0  36   4   1   9   0   0 697   9]\n",
      " [ 89   0  23  11   0  12   0   0  36 109]]\n"
     ]
    },
    {
     "name": "stderr",
     "output_type": "stream",
     "text": [
      "C:\\Users\\ravic\\anaconda3\\lib\\site-packages\\sklearn\\metrics\\_classification.py:1327: UndefinedMetricWarning: Precision and F-score are ill-defined and being set to 0.0 in labels with no predicted samples. Use `zero_division` parameter to control this behavior.\n",
      "  _warn_prf(average, modifier, msg_start, len(result))\n",
      "C:\\Users\\ravic\\anaconda3\\lib\\site-packages\\sklearn\\metrics\\_classification.py:1327: UndefinedMetricWarning: Precision and F-score are ill-defined and being set to 0.0 in labels with no predicted samples. Use `zero_division` parameter to control this behavior.\n",
      "  _warn_prf(average, modifier, msg_start, len(result))\n",
      "C:\\Users\\ravic\\anaconda3\\lib\\site-packages\\sklearn\\metrics\\_classification.py:1327: UndefinedMetricWarning: Precision and F-score are ill-defined and being set to 0.0 in labels with no predicted samples. Use `zero_division` parameter to control this behavior.\n",
      "  _warn_prf(average, modifier, msg_start, len(result))\n"
     ]
    }
   ],
   "source": [
    "#printing results of the kmodel\n",
    "y_predict = kmodel.fit(Ftrain, Ltrain).predict(Ftest)\n",
    "class_names = target.unique()\n",
    "print(classification_report(Ltest, y_predict, target_names=class_names))\n",
    "print(confusion_matrix(Ltest, y_predict))"
   ]
  },
  {
   "cell_type": "markdown",
   "id": "d5c58638",
   "metadata": {},
   "source": [
    "# Logistic on rgb data"
   ]
  },
  {
   "cell_type": "code",
   "execution_count": 11,
   "id": "a84836ef",
   "metadata": {},
   "outputs": [
    {
     "data": {
      "text/plain": [
       "0.6429308565531475"
      ]
     },
     "execution_count": 11,
     "metadata": {},
     "output_type": "execute_result"
    }
   ],
   "source": [
    "from sklearn.linear_model import LogisticRegression\n",
    "model=LogisticRegression(solver='lbfgs', max_iter=10000)\n",
    "model.fit(Ftrain,Ltrain)\n",
    "model.score(Ftest,Ltest)"
   ]
  },
  {
   "cell_type": "code",
   "execution_count": 12,
   "id": "a1f10c9f",
   "metadata": {},
   "outputs": [
    {
     "name": "stdout",
     "output_type": "stream",
     "text": [
      "                               precision    recall  f1-score   support\n",
      "\n",
      "               bacterial_spot       0.55      0.69      0.61       345\n",
      "                 early_blight       0.47      0.06      0.10       153\n",
      "                      healthy       0.66      0.77      0.71       234\n",
      "                  late_blight       0.62      0.60      0.61       309\n",
      "                    leaf_mold       0.65      0.56      0.60       145\n",
      "           septoria_leaf_spot       0.47      0.33      0.39       293\n",
      "                  target_spot       0.72      0.31      0.43       240\n",
      "          tomato_mosaic_virus       0.00      0.00      0.00        54\n",
      "tomato_yellow_leaf_curl_virus       0.73      0.96      0.83       854\n",
      "      two-spotted_spider_mite       0.58      0.66      0.62       280\n",
      "\n",
      "                     accuracy                           0.64      2907\n",
      "                    macro avg       0.54      0.49      0.49      2907\n",
      "                 weighted avg       0.62      0.64      0.61      2907\n",
      "\n",
      "[[238   1  10  18   0  13   0   0  63   2]\n",
      " [ 45   9   4  21   1   7   6   0  43  17]\n",
      " [  5   0 181  20   1  10   7   0   3   7]\n",
      " [ 18   4  22 186  13  10   5   0  36  15]\n",
      " [  1   0   9   9  81  21   2   1  17   4]\n",
      " [ 42   1  12  24  24  97   4   0  70  19]\n",
      " [ 51   0  25   7   0  11  74   0  19  53]\n",
      " [  0   0   0   6   4  28   1   0   7   8]\n",
      " [ 14   0   2   6   0   4   0   0 817  11]\n",
      " [ 20   4   8   4   0   7   4   0  47 186]]\n"
     ]
    }
   ],
   "source": [
    "#classification report\n",
    "y_predict = model.fit(Ftrain, Ltrain).predict(Ftest)\n",
    "class_names = target.unique()\n",
    "print(classification_report(Ltest, y_predict, target_names=class_names))\n",
    "print(confusion_matrix(Ltest, y_predict))"
   ]
  },
  {
   "cell_type": "markdown",
   "id": "6fe194bc",
   "metadata": {},
   "source": [
    "# SVM on RGB data"
   ]
  },
  {
   "cell_type": "code",
   "execution_count": 13,
   "id": "2427ed51",
   "metadata": {},
   "outputs": [
    {
     "name": "stdout",
     "output_type": "stream",
     "text": [
      "0.6818025455796354\n"
     ]
    }
   ],
   "source": [
    "from sklearn.svm import SVC\n",
    "from sklearn.metrics import accuracy_score\n",
    "\n",
    "clf = SVC(kernel='linear')\n",
    "clf.fit(Ftrain,Ltrain)\n",
    "y_pred = clf.predict(Ftest)\n",
    "print(accuracy_score(Ltest,y_pred))"
   ]
  },
  {
   "cell_type": "code",
   "execution_count": 14,
   "id": "4103cc2e",
   "metadata": {},
   "outputs": [
    {
     "name": "stdout",
     "output_type": "stream",
     "text": [
      "                               precision    recall  f1-score   support\n",
      "\n",
      "               bacterial_spot       0.60      0.73      0.66       345\n",
      "                 early_blight       0.48      0.10      0.16       153\n",
      "                      healthy       0.75      0.79      0.77       234\n",
      "                  late_blight       0.67      0.64      0.65       309\n",
      "                    leaf_mold       0.69      0.56      0.62       145\n",
      "           septoria_leaf_spot       0.48      0.42      0.45       293\n",
      "                  target_spot       0.63      0.50      0.56       240\n",
      "          tomato_mosaic_virus       0.00      0.00      0.00        54\n",
      "tomato_yellow_leaf_curl_virus       0.81      0.95      0.88       854\n",
      "      two-spotted_spider_mite       0.56      0.70      0.63       280\n",
      "\n",
      "                     accuracy                           0.68      2907\n",
      "                    macro avg       0.57      0.54      0.54      2907\n",
      "                 weighted avg       0.66      0.68      0.66      2907\n",
      "\n",
      "[[253   2   5  15   0  14   2   0  50   4]\n",
      " [ 38  15   5  19   0   8  20   0  27  21]\n",
      " [  2   1 185  13   0  10  17   0   1   5]\n",
      " [ 18   5  14 197  14  17   6   0  21  17]\n",
      " [  1   1   6   9  81  28   3   0  12   4]\n",
      " [ 43   1  12  20  18 123  11   1  42  22]\n",
      " [ 30   1  12   5   0  10 119   0   8  55]\n",
      " [  0   0   0   3   4  30   3   0   3  11]\n",
      " [ 18   0   0   5   0   5   0   0 812  14]\n",
      " [ 18   5   8   8   0  11   7   0  26 197]]\n"
     ]
    }
   ],
   "source": [
    "#classification report\n",
    "y_predict = clf.fit(Ftrain, Ltrain).predict(Ftest)\n",
    "class_names = target.unique()\n",
    "print(classification_report(Ltest, y_predict, target_names=class_names))\n",
    "print(confusion_matrix(Ltest, y_predict))"
   ]
  },
  {
   "cell_type": "markdown",
   "id": "73bef6fa",
   "metadata": {},
   "source": [
    "# Random Forest on RGB "
   ]
  },
  {
   "cell_type": "code",
   "execution_count": 15,
   "id": "6bae5a92",
   "metadata": {},
   "outputs": [],
   "source": [
    "from sklearn.ensemble import RandomForestClassifier"
   ]
  },
  {
   "cell_type": "code",
   "execution_count": 16,
   "id": "1d08a15e",
   "metadata": {},
   "outputs": [],
   "source": [
    "classifier_rf = RandomForestClassifier(random_state=42, n_jobs=-1, max_depth=5,n_estimators=100, oob_score=True)"
   ]
  },
  {
   "cell_type": "code",
   "execution_count": 17,
   "id": "938ad007",
   "metadata": {},
   "outputs": [
    {
     "data": {
      "text/html": [
       "<style>#sk-container-id-1 {color: black;background-color: white;}#sk-container-id-1 pre{padding: 0;}#sk-container-id-1 div.sk-toggleable {background-color: white;}#sk-container-id-1 label.sk-toggleable__label {cursor: pointer;display: block;width: 100%;margin-bottom: 0;padding: 0.3em;box-sizing: border-box;text-align: center;}#sk-container-id-1 label.sk-toggleable__label-arrow:before {content: \"▸\";float: left;margin-right: 0.25em;color: #696969;}#sk-container-id-1 label.sk-toggleable__label-arrow:hover:before {color: black;}#sk-container-id-1 div.sk-estimator:hover label.sk-toggleable__label-arrow:before {color: black;}#sk-container-id-1 div.sk-toggleable__content {max-height: 0;max-width: 0;overflow: hidden;text-align: left;background-color: #f0f8ff;}#sk-container-id-1 div.sk-toggleable__content pre {margin: 0.2em;color: black;border-radius: 0.25em;background-color: #f0f8ff;}#sk-container-id-1 input.sk-toggleable__control:checked~div.sk-toggleable__content {max-height: 200px;max-width: 100%;overflow: auto;}#sk-container-id-1 input.sk-toggleable__control:checked~label.sk-toggleable__label-arrow:before {content: \"▾\";}#sk-container-id-1 div.sk-estimator input.sk-toggleable__control:checked~label.sk-toggleable__label {background-color: #d4ebff;}#sk-container-id-1 div.sk-label input.sk-toggleable__control:checked~label.sk-toggleable__label {background-color: #d4ebff;}#sk-container-id-1 input.sk-hidden--visually {border: 0;clip: rect(1px 1px 1px 1px);clip: rect(1px, 1px, 1px, 1px);height: 1px;margin: -1px;overflow: hidden;padding: 0;position: absolute;width: 1px;}#sk-container-id-1 div.sk-estimator {font-family: monospace;background-color: #f0f8ff;border: 1px dotted black;border-radius: 0.25em;box-sizing: border-box;margin-bottom: 0.5em;}#sk-container-id-1 div.sk-estimator:hover {background-color: #d4ebff;}#sk-container-id-1 div.sk-parallel-item::after {content: \"\";width: 100%;border-bottom: 1px solid gray;flex-grow: 1;}#sk-container-id-1 div.sk-label:hover label.sk-toggleable__label {background-color: #d4ebff;}#sk-container-id-1 div.sk-serial::before {content: \"\";position: absolute;border-left: 1px solid gray;box-sizing: border-box;top: 0;bottom: 0;left: 50%;z-index: 0;}#sk-container-id-1 div.sk-serial {display: flex;flex-direction: column;align-items: center;background-color: white;padding-right: 0.2em;padding-left: 0.2em;position: relative;}#sk-container-id-1 div.sk-item {position: relative;z-index: 1;}#sk-container-id-1 div.sk-parallel {display: flex;align-items: stretch;justify-content: center;background-color: white;position: relative;}#sk-container-id-1 div.sk-item::before, #sk-container-id-1 div.sk-parallel-item::before {content: \"\";position: absolute;border-left: 1px solid gray;box-sizing: border-box;top: 0;bottom: 0;left: 50%;z-index: -1;}#sk-container-id-1 div.sk-parallel-item {display: flex;flex-direction: column;z-index: 1;position: relative;background-color: white;}#sk-container-id-1 div.sk-parallel-item:first-child::after {align-self: flex-end;width: 50%;}#sk-container-id-1 div.sk-parallel-item:last-child::after {align-self: flex-start;width: 50%;}#sk-container-id-1 div.sk-parallel-item:only-child::after {width: 0;}#sk-container-id-1 div.sk-dashed-wrapped {border: 1px dashed gray;margin: 0 0.4em 0.5em 0.4em;box-sizing: border-box;padding-bottom: 0.4em;background-color: white;}#sk-container-id-1 div.sk-label label {font-family: monospace;font-weight: bold;display: inline-block;line-height: 1.2em;}#sk-container-id-1 div.sk-label-container {text-align: center;}#sk-container-id-1 div.sk-container {/* jupyter's `normalize.less` sets `[hidden] { display: none; }` but bootstrap.min.css set `[hidden] { display: none !important; }` so we also need the `!important` here to be able to override the default hidden behavior on the sphinx rendered scikit-learn.org. See: https://github.com/scikit-learn/scikit-learn/issues/21755 */display: inline-block !important;position: relative;}#sk-container-id-1 div.sk-text-repr-fallback {display: none;}</style><div id=\"sk-container-id-1\" class=\"sk-top-container\"><div class=\"sk-text-repr-fallback\"><pre>RandomForestClassifier(max_depth=5, n_jobs=-1, oob_score=True, random_state=42)</pre><b>In a Jupyter environment, please rerun this cell to show the HTML representation or trust the notebook. <br />On GitHub, the HTML representation is unable to render, please try loading this page with nbviewer.org.</b></div><div class=\"sk-container\" hidden><div class=\"sk-item\"><div class=\"sk-estimator sk-toggleable\"><input class=\"sk-toggleable__control sk-hidden--visually\" id=\"sk-estimator-id-1\" type=\"checkbox\" checked><label for=\"sk-estimator-id-1\" class=\"sk-toggleable__label sk-toggleable__label-arrow\">RandomForestClassifier</label><div class=\"sk-toggleable__content\"><pre>RandomForestClassifier(max_depth=5, n_jobs=-1, oob_score=True, random_state=42)</pre></div></div></div></div></div>"
      ],
      "text/plain": [
       "RandomForestClassifier(max_depth=5, n_jobs=-1, oob_score=True, random_state=42)"
      ]
     },
     "execution_count": 17,
     "metadata": {},
     "output_type": "execute_result"
    }
   ],
   "source": [
    "classifier_rf.fit(Ftrain, Ltrain)"
   ]
  },
  {
   "cell_type": "code",
   "execution_count": 18,
   "id": "e1769cec",
   "metadata": {},
   "outputs": [
    {
     "data": {
      "text/plain": [
       "0.5281314521679285"
      ]
     },
     "execution_count": 18,
     "metadata": {},
     "output_type": "execute_result"
    }
   ],
   "source": [
    "classifier_rf.oob_score_"
   ]
  },
  {
   "cell_type": "code",
   "execution_count": 19,
   "id": "c144f9db",
   "metadata": {},
   "outputs": [
    {
     "name": "stdout",
     "output_type": "stream",
     "text": [
      "                               precision    recall  f1-score   support\n",
      "\n",
      "               bacterial_spot       0.50      0.58      0.54       345\n",
      "                 early_blight       0.00      0.00      0.00       153\n",
      "                      healthy       0.63      0.82      0.71       234\n",
      "                  late_blight       0.70      0.48      0.57       309\n",
      "                    leaf_mold       0.68      0.43      0.53       145\n",
      "           septoria_leaf_spot       0.51      0.24      0.33       293\n",
      "                  target_spot       0.58      0.07      0.13       240\n",
      "          tomato_mosaic_virus       0.00      0.00      0.00        54\n",
      "tomato_yellow_leaf_curl_virus       0.49      0.98      0.65       854\n",
      "      two-spotted_spider_mite       0.00      0.00      0.00       280\n",
      "\n",
      "                     accuracy                           0.53      2907\n",
      "                    macro avg       0.41      0.36      0.35      2907\n",
      "                 weighted avg       0.46      0.53      0.44      2907\n",
      "\n",
      "[[200   0  11   9   0   3   2   0 120   0]\n",
      " [ 31   0   3   6   0   5   3   0 105   0]\n",
      " [  4   0 191   7   1   4   2   0  25   0]\n",
      " [ 25   0  22 149  10  12   1   0  90   0]\n",
      " [  4   0   9  10  63  17   0   0  42   0]\n",
      " [ 28   0  16  13  15  71   1   0 149   0]\n",
      " [ 79   0  33   7   0   7  18   0  96   0]\n",
      " [  1   0   3   1   3  10   0   0  36   0]\n",
      " [  4   0   0   4   0   6   0   0 840   0]\n",
      " [ 24   0  15   6   0   4   4   0 227   0]]\n"
     ]
    },
    {
     "name": "stderr",
     "output_type": "stream",
     "text": [
      "C:\\Users\\ravic\\anaconda3\\lib\\site-packages\\sklearn\\metrics\\_classification.py:1327: UndefinedMetricWarning: Precision and F-score are ill-defined and being set to 0.0 in labels with no predicted samples. Use `zero_division` parameter to control this behavior.\n",
      "  _warn_prf(average, modifier, msg_start, len(result))\n",
      "C:\\Users\\ravic\\anaconda3\\lib\\site-packages\\sklearn\\metrics\\_classification.py:1327: UndefinedMetricWarning: Precision and F-score are ill-defined and being set to 0.0 in labels with no predicted samples. Use `zero_division` parameter to control this behavior.\n",
      "  _warn_prf(average, modifier, msg_start, len(result))\n",
      "C:\\Users\\ravic\\anaconda3\\lib\\site-packages\\sklearn\\metrics\\_classification.py:1327: UndefinedMetricWarning: Precision and F-score are ill-defined and being set to 0.0 in labels with no predicted samples. Use `zero_division` parameter to control this behavior.\n",
      "  _warn_prf(average, modifier, msg_start, len(result))\n"
     ]
    }
   ],
   "source": [
    "y_predict = classifier_rf.fit(Ftrain, Ltrain).predict(Ftest)\n",
    "class_names = target.unique()\n",
    "print(classification_report(Ltest, y_predict, target_names=class_names))\n",
    "print(confusion_matrix(Ltest, y_predict))"
   ]
  },
  {
   "cell_type": "markdown",
   "id": "b6a094e4",
   "metadata": {},
   "source": [
    "# Naive Bayes on RGB data"
   ]
  },
  {
   "cell_type": "code",
   "execution_count": 20,
   "id": "a5bc755b",
   "metadata": {},
   "outputs": [
    {
     "data": {
      "text/html": [
       "<style>#sk-container-id-2 {color: black;background-color: white;}#sk-container-id-2 pre{padding: 0;}#sk-container-id-2 div.sk-toggleable {background-color: white;}#sk-container-id-2 label.sk-toggleable__label {cursor: pointer;display: block;width: 100%;margin-bottom: 0;padding: 0.3em;box-sizing: border-box;text-align: center;}#sk-container-id-2 label.sk-toggleable__label-arrow:before {content: \"▸\";float: left;margin-right: 0.25em;color: #696969;}#sk-container-id-2 label.sk-toggleable__label-arrow:hover:before {color: black;}#sk-container-id-2 div.sk-estimator:hover label.sk-toggleable__label-arrow:before {color: black;}#sk-container-id-2 div.sk-toggleable__content {max-height: 0;max-width: 0;overflow: hidden;text-align: left;background-color: #f0f8ff;}#sk-container-id-2 div.sk-toggleable__content pre {margin: 0.2em;color: black;border-radius: 0.25em;background-color: #f0f8ff;}#sk-container-id-2 input.sk-toggleable__control:checked~div.sk-toggleable__content {max-height: 200px;max-width: 100%;overflow: auto;}#sk-container-id-2 input.sk-toggleable__control:checked~label.sk-toggleable__label-arrow:before {content: \"▾\";}#sk-container-id-2 div.sk-estimator input.sk-toggleable__control:checked~label.sk-toggleable__label {background-color: #d4ebff;}#sk-container-id-2 div.sk-label input.sk-toggleable__control:checked~label.sk-toggleable__label {background-color: #d4ebff;}#sk-container-id-2 input.sk-hidden--visually {border: 0;clip: rect(1px 1px 1px 1px);clip: rect(1px, 1px, 1px, 1px);height: 1px;margin: -1px;overflow: hidden;padding: 0;position: absolute;width: 1px;}#sk-container-id-2 div.sk-estimator {font-family: monospace;background-color: #f0f8ff;border: 1px dotted black;border-radius: 0.25em;box-sizing: border-box;margin-bottom: 0.5em;}#sk-container-id-2 div.sk-estimator:hover {background-color: #d4ebff;}#sk-container-id-2 div.sk-parallel-item::after {content: \"\";width: 100%;border-bottom: 1px solid gray;flex-grow: 1;}#sk-container-id-2 div.sk-label:hover label.sk-toggleable__label {background-color: #d4ebff;}#sk-container-id-2 div.sk-serial::before {content: \"\";position: absolute;border-left: 1px solid gray;box-sizing: border-box;top: 0;bottom: 0;left: 50%;z-index: 0;}#sk-container-id-2 div.sk-serial {display: flex;flex-direction: column;align-items: center;background-color: white;padding-right: 0.2em;padding-left: 0.2em;position: relative;}#sk-container-id-2 div.sk-item {position: relative;z-index: 1;}#sk-container-id-2 div.sk-parallel {display: flex;align-items: stretch;justify-content: center;background-color: white;position: relative;}#sk-container-id-2 div.sk-item::before, #sk-container-id-2 div.sk-parallel-item::before {content: \"\";position: absolute;border-left: 1px solid gray;box-sizing: border-box;top: 0;bottom: 0;left: 50%;z-index: -1;}#sk-container-id-2 div.sk-parallel-item {display: flex;flex-direction: column;z-index: 1;position: relative;background-color: white;}#sk-container-id-2 div.sk-parallel-item:first-child::after {align-self: flex-end;width: 50%;}#sk-container-id-2 div.sk-parallel-item:last-child::after {align-self: flex-start;width: 50%;}#sk-container-id-2 div.sk-parallel-item:only-child::after {width: 0;}#sk-container-id-2 div.sk-dashed-wrapped {border: 1px dashed gray;margin: 0 0.4em 0.5em 0.4em;box-sizing: border-box;padding-bottom: 0.4em;background-color: white;}#sk-container-id-2 div.sk-label label {font-family: monospace;font-weight: bold;display: inline-block;line-height: 1.2em;}#sk-container-id-2 div.sk-label-container {text-align: center;}#sk-container-id-2 div.sk-container {/* jupyter's `normalize.less` sets `[hidden] { display: none; }` but bootstrap.min.css set `[hidden] { display: none !important; }` so we also need the `!important` here to be able to override the default hidden behavior on the sphinx rendered scikit-learn.org. See: https://github.com/scikit-learn/scikit-learn/issues/21755 */display: inline-block !important;position: relative;}#sk-container-id-2 div.sk-text-repr-fallback {display: none;}</style><div id=\"sk-container-id-2\" class=\"sk-top-container\"><div class=\"sk-text-repr-fallback\"><pre>GaussianNB()</pre><b>In a Jupyter environment, please rerun this cell to show the HTML representation or trust the notebook. <br />On GitHub, the HTML representation is unable to render, please try loading this page with nbviewer.org.</b></div><div class=\"sk-container\" hidden><div class=\"sk-item\"><div class=\"sk-estimator sk-toggleable\"><input class=\"sk-toggleable__control sk-hidden--visually\" id=\"sk-estimator-id-2\" type=\"checkbox\" checked><label for=\"sk-estimator-id-2\" class=\"sk-toggleable__label sk-toggleable__label-arrow\">GaussianNB</label><div class=\"sk-toggleable__content\"><pre>GaussianNB()</pre></div></div></div></div></div>"
      ],
      "text/plain": [
       "GaussianNB()"
      ]
     },
     "execution_count": 20,
     "metadata": {},
     "output_type": "execute_result"
    }
   ],
   "source": [
    "from sklearn.naive_bayes import GaussianNB\n",
    "gnb = GaussianNB()\n",
    "gnb.fit(Ftrain, Ltrain)"
   ]
  },
  {
   "cell_type": "code",
   "execution_count": 21,
   "id": "6d162dcc",
   "metadata": {},
   "outputs": [],
   "source": [
    "y_pred = gnb.predict(Ftest)"
   ]
  },
  {
   "cell_type": "code",
   "execution_count": 22,
   "id": "8f7b4bab",
   "metadata": {},
   "outputs": [
    {
     "data": {
      "text/plain": [
       "0.456828345373237"
      ]
     },
     "execution_count": 22,
     "metadata": {},
     "output_type": "execute_result"
    }
   ],
   "source": [
    "from sklearn import metrics\n",
    "metrics.accuracy_score(Ltest, y_pred)"
   ]
  },
  {
   "cell_type": "code",
   "execution_count": 23,
   "id": "980b37c5",
   "metadata": {},
   "outputs": [
    {
     "name": "stdout",
     "output_type": "stream",
     "text": [
      "                               precision    recall  f1-score   support\n",
      "\n",
      "               bacterial_spot       0.58      0.66      0.62       345\n",
      "                 early_blight       0.21      0.43      0.29       153\n",
      "                      healthy       0.37      0.64      0.47       234\n",
      "                  late_blight       0.49      0.27      0.34       309\n",
      "                    leaf_mold       0.51      0.57      0.54       145\n",
      "           septoria_leaf_spot       0.38      0.20      0.26       293\n",
      "                  target_spot       0.48      0.41      0.44       240\n",
      "          tomato_mosaic_virus       0.14      0.78      0.24        54\n",
      "tomato_yellow_leaf_curl_virus       0.90      0.45      0.60       854\n",
      "      two-spotted_spider_mite       0.35      0.47      0.40       280\n",
      "\n",
      "                     accuracy                           0.46      2907\n",
      "                    macro avg       0.44      0.49      0.42      2907\n",
      "                 weighted avg       0.56      0.46      0.47      2907\n",
      "\n",
      "[[229  24  36   9   0  16   6   4  13   8]\n",
      " [ 17  66   2  15   3   4  18   9   5  14]\n",
      " [  0   5 150  14   5   5  36   6   0  13]\n",
      " [  5  62  90  82  21   5   7  26   5   6]\n",
      " [  4   6   3  11  83  10   4  20   1   3]\n",
      " [ 36  21  35   7  33  59  14  57  12  19]\n",
      " [ 36  25   5   4   5   6  98   9   1  51]\n",
      " [  1   0   0   1   5   4   0  42   1   0]\n",
      " [ 54  70  69  21   8  35   9  71 387 130]\n",
      " [ 12  28  15   5   1  13  12  55   7 132]]\n"
     ]
    }
   ],
   "source": [
    "class_names = target.unique()\n",
    "print(classification_report(Ltest, y_pred, target_names=class_names))\n",
    "print(confusion_matrix(Ltest, y_pred))"
   ]
  },
  {
   "cell_type": "markdown",
   "id": "0ce0377b",
   "metadata": {},
   "source": [
    "# Decision Tree on RGB data"
   ]
  },
  {
   "cell_type": "code",
   "execution_count": 24,
   "id": "b9bba328",
   "metadata": {},
   "outputs": [],
   "source": [
    "from sklearn.tree import DecisionTreeClassifier\n",
    "classifier_tree = DecisionTreeClassifier()"
   ]
  },
  {
   "cell_type": "code",
   "execution_count": 25,
   "id": "b98668ce",
   "metadata": {},
   "outputs": [
    {
     "data": {
      "text/plain": [
       "0.4657722738218094"
      ]
     },
     "execution_count": 25,
     "metadata": {},
     "output_type": "execute_result"
    }
   ],
   "source": [
    "classifier_tree.fit(Ftrain, Ltrain)\n",
    "classifier_tree.score(Ftest,Ltest)"
   ]
  },
  {
   "cell_type": "code",
   "execution_count": 26,
   "id": "9fb604d9",
   "metadata": {},
   "outputs": [
    {
     "name": "stdout",
     "output_type": "stream",
     "text": [
      "                               precision    recall  f1-score   support\n",
      "\n",
      "               bacterial_spot       0.47      0.48      0.47       345\n",
      "                 early_blight       0.14      0.14      0.14       153\n",
      "                      healthy       0.59      0.51      0.55       234\n",
      "                  late_blight       0.42      0.41      0.42       309\n",
      "                    leaf_mold       0.32      0.32      0.32       145\n",
      "           septoria_leaf_spot       0.30      0.33      0.31       293\n",
      "                  target_spot       0.27      0.25      0.26       240\n",
      "          tomato_mosaic_virus       0.07      0.11      0.09        54\n",
      "tomato_yellow_leaf_curl_virus       0.71      0.70      0.70       854\n",
      "      two-spotted_spider_mite       0.36      0.36      0.36       280\n",
      "\n",
      "                     accuracy                           0.46      2907\n",
      "                    macro avg       0.37      0.36      0.36      2907\n",
      "                 weighted avg       0.47      0.46      0.46      2907\n",
      "\n",
      "[[165  19  10  26   6  20  26   6  45  22]\n",
      " [ 17  22   6  22   9  12  15   4  34  12]\n",
      " [ 10   7 120  18   3  25  21   5   7  18]\n",
      " [ 25  15  19 128  21  32  17   7  26  19]\n",
      " [  3   6   6  15  47  31   9  10  11   7]\n",
      " [ 24  10  10  23  27  96  18  14  46  25]\n",
      " [ 27  30  16  21  10  19  61  10  16  30]\n",
      " [  4   2   0  10   7   6   4   6  10   5]\n",
      " [ 58  30   7  24  11  58  22  11 597  36]\n",
      " [ 17  15   9  18   6  25  31  11  48 100]]\n"
     ]
    }
   ],
   "source": [
    "y_predict = classifier_tree.fit(Ftrain, Ltrain).predict(Ftest)\n",
    "class_names = target.unique()\n",
    "print(classification_report(Ltest, y_predict, target_names=class_names))\n",
    "print(confusion_matrix(Ltest, y_predict))"
   ]
  },
  {
   "cell_type": "markdown",
   "id": "c9daaaee",
   "metadata": {},
   "source": [
    "# KNN on grayscale data"
   ]
  },
  {
   "cell_type": "code",
   "execution_count": 27,
   "id": "57a9845e",
   "metadata": {},
   "outputs": [],
   "source": [
    "#reading numpy array data\n",
    "gray_test = np.load('gray_test.npy')\n",
    "#reading csv file\n",
    "gray_df = pd.read_csv('gray_data.csv')"
   ]
  },
  {
   "cell_type": "code",
   "execution_count": 28,
   "id": "25d4fea2",
   "metadata": {},
   "outputs": [],
   "source": [
    "loaded = []\n",
    "for i in gray_test:\n",
    "    k = []\n",
    "    k = np.asarray(i,dtype='uint8')\n",
    "    loaded.append(k)"
   ]
  },
  {
   "cell_type": "code",
   "execution_count": 29,
   "id": "d3abef95",
   "metadata": {},
   "outputs": [],
   "source": [
    "features = loaded\n",
    "target = gray_df['disease']\n",
    "Ftrain,Ftest,Ltrain,Ltest=train_test_split(features,target, test_size=0.20, random_state=20)\n",
    "Ftrain = norm.fit_transform(Ftrain)\n",
    "Ftest = norm.fit_transform(Ftest)"
   ]
  },
  {
   "cell_type": "code",
   "execution_count": 30,
   "id": "6f75adfd",
   "metadata": {},
   "outputs": [
    {
     "data": {
      "text/plain": [
       "0.4275885792913657"
      ]
     },
     "execution_count": 30,
     "metadata": {},
     "output_type": "execute_result"
    }
   ],
   "source": [
    "kmodel.fit(Ftrain,Ltrain)\n",
    "kmodel.score(Ftest,Ltest)"
   ]
  },
  {
   "cell_type": "code",
   "execution_count": 31,
   "id": "77baa349",
   "metadata": {},
   "outputs": [
    {
     "name": "stdout",
     "output_type": "stream",
     "text": [
      "                               precision    recall  f1-score   support\n",
      "\n",
      "               bacterial_spot       0.32      0.68      0.43       349\n",
      "                 early_blight       0.00      0.00      0.00       182\n",
      "                      healthy       0.36      0.55      0.43       258\n",
      "                  late_blight       0.35      0.31      0.33       316\n",
      "                    leaf_mold       0.52      0.41      0.46       145\n",
      "           septoria_leaf_spot       0.28      0.35      0.31       262\n",
      "                  target_spot       0.00      0.00      0.00       229\n",
      "          tomato_mosaic_virus       0.00      0.00      0.00        58\n",
      "tomato_yellow_leaf_curl_virus       0.58      0.65      0.61       857\n",
      "      two-spotted_spider_mite       0.84      0.22      0.34       251\n",
      "\n",
      "                     accuracy                           0.43      2907\n",
      "                    macro avg       0.32      0.32      0.29      2907\n",
      "                 weighted avg       0.40      0.43      0.39      2907\n",
      "\n",
      "[[237   0  29  27   1  21   0   0  34   0]\n",
      " [ 98   0   5   2  10  19   0   0  48   0]\n",
      " [ 12   0 143  15   0  49   0   0  38   1]\n",
      " [ 59   0  52  99  16  18   0   0  71   1]\n",
      " [  9   0  11  20  60  22   0   0  23   0]\n",
      " [ 29   0  42  30  14  92   0   0  54   1]\n",
      " [123   0   7   6   3  45   0   0  39   6]\n",
      " [  0   0   5   3   2   7   0   0  40   1]\n",
      " [ 99   0  96  72   7  25   0   0 558   0]\n",
      " [ 82   0  11  10   2  27   0   0  65  54]]\n"
     ]
    },
    {
     "name": "stderr",
     "output_type": "stream",
     "text": [
      "C:\\Users\\ravic\\anaconda3\\lib\\site-packages\\sklearn\\metrics\\_classification.py:1327: UndefinedMetricWarning: Precision and F-score are ill-defined and being set to 0.0 in labels with no predicted samples. Use `zero_division` parameter to control this behavior.\n",
      "  _warn_prf(average, modifier, msg_start, len(result))\n",
      "C:\\Users\\ravic\\anaconda3\\lib\\site-packages\\sklearn\\metrics\\_classification.py:1327: UndefinedMetricWarning: Precision and F-score are ill-defined and being set to 0.0 in labels with no predicted samples. Use `zero_division` parameter to control this behavior.\n",
      "  _warn_prf(average, modifier, msg_start, len(result))\n",
      "C:\\Users\\ravic\\anaconda3\\lib\\site-packages\\sklearn\\metrics\\_classification.py:1327: UndefinedMetricWarning: Precision and F-score are ill-defined and being set to 0.0 in labels with no predicted samples. Use `zero_division` parameter to control this behavior.\n",
      "  _warn_prf(average, modifier, msg_start, len(result))\n"
     ]
    }
   ],
   "source": [
    "#printing results of the kmodel\n",
    "y_predict = kmodel.fit(Ftrain, Ltrain).predict(Ftest)\n",
    "class_names = target.unique()\n",
    "print(classification_report(Ltest, y_predict, target_names=class_names))\n",
    "print(confusion_matrix(Ltest, y_predict))"
   ]
  },
  {
   "cell_type": "markdown",
   "id": "197eedfc",
   "metadata": {},
   "source": [
    "# Logistic on grayscale data"
   ]
  },
  {
   "cell_type": "code",
   "execution_count": 32,
   "id": "9fd6cafe",
   "metadata": {},
   "outputs": [
    {
     "data": {
      "text/plain": [
       "0.433780529755762"
      ]
     },
     "execution_count": 32,
     "metadata": {},
     "output_type": "execute_result"
    }
   ],
   "source": [
    "from sklearn.linear_model import LogisticRegression\n",
    "model=LogisticRegression(solver='lbfgs', max_iter=10000)\n",
    "model.fit(Ftrain,Ltrain)\n",
    "model.score(Ftest,Ltest)"
   ]
  },
  {
   "cell_type": "code",
   "execution_count": 33,
   "id": "20a6d97e",
   "metadata": {},
   "outputs": [
    {
     "name": "stdout",
     "output_type": "stream",
     "text": [
      "                               precision    recall  f1-score   support\n",
      "\n",
      "               bacterial_spot       0.46      0.52      0.49       349\n",
      "                 early_blight       0.23      0.02      0.03       182\n",
      "                      healthy       0.46      0.47      0.46       258\n",
      "                  late_blight       0.45      0.21      0.28       316\n",
      "                    leaf_mold       0.60      0.20      0.30       145\n",
      "           septoria_leaf_spot       0.34      0.08      0.13       262\n",
      "                  target_spot       0.36      0.07      0.12       229\n",
      "          tomato_mosaic_virus       0.00      0.00      0.00        58\n",
      "tomato_yellow_leaf_curl_virus       0.43      0.88      0.57       857\n",
      "      two-spotted_spider_mite       0.43      0.29      0.35       251\n",
      "\n",
      "                     accuracy                           0.43      2907\n",
      "                    macro avg       0.38      0.27      0.27      2907\n",
      "                 weighted avg       0.41      0.43      0.37      2907\n",
      "\n",
      "[[182   0  26   8   0   7   0   0 113  13]\n",
      " [ 42   3   2   9   5   5   8   0  90  18]\n",
      " [  7   0 120  12   0   8   7   0  97   7]\n",
      " [ 21   3  34  65   9   7   4   0 165   8]\n",
      " [  7   0   3  20  29   7   0   0  76   3]\n",
      " [ 28   0  25   5   5  21   3   0 168   7]\n",
      " [ 55   1  12   6   0   2  16   0 113  24]\n",
      " [  0   0   0   0   0   0   0   0  58   0]\n",
      " [ 31   3  32  20   0   2   0   0 752  17]\n",
      " [ 24   3   6   0   0   3   7   0 135  73]]\n"
     ]
    },
    {
     "name": "stderr",
     "output_type": "stream",
     "text": [
      "C:\\Users\\ravic\\anaconda3\\lib\\site-packages\\sklearn\\metrics\\_classification.py:1327: UndefinedMetricWarning: Precision and F-score are ill-defined and being set to 0.0 in labels with no predicted samples. Use `zero_division` parameter to control this behavior.\n",
      "  _warn_prf(average, modifier, msg_start, len(result))\n",
      "C:\\Users\\ravic\\anaconda3\\lib\\site-packages\\sklearn\\metrics\\_classification.py:1327: UndefinedMetricWarning: Precision and F-score are ill-defined and being set to 0.0 in labels with no predicted samples. Use `zero_division` parameter to control this behavior.\n",
      "  _warn_prf(average, modifier, msg_start, len(result))\n",
      "C:\\Users\\ravic\\anaconda3\\lib\\site-packages\\sklearn\\metrics\\_classification.py:1327: UndefinedMetricWarning: Precision and F-score are ill-defined and being set to 0.0 in labels with no predicted samples. Use `zero_division` parameter to control this behavior.\n",
      "  _warn_prf(average, modifier, msg_start, len(result))\n"
     ]
    }
   ],
   "source": [
    "#classification report\n",
    "y_predict = model.fit(Ftrain, Ltrain).predict(Ftest)\n",
    "class_names = target.unique()\n",
    "print(classification_report(Ltest, y_predict, target_names=class_names))\n",
    "print(confusion_matrix(Ltest, y_predict))"
   ]
  },
  {
   "cell_type": "markdown",
   "id": "5284f869",
   "metadata": {},
   "source": [
    "# SVM on Grayscale data"
   ]
  },
  {
   "cell_type": "code",
   "execution_count": 34,
   "id": "d0db5c80",
   "metadata": {},
   "outputs": [
    {
     "name": "stdout",
     "output_type": "stream",
     "text": [
      "0.43102855177158583\n"
     ]
    }
   ],
   "source": [
    "clf = SVC(kernel='linear')\n",
    "clf.fit(Ftrain,Ltrain)\n",
    "y_pred = clf.predict(Ftest)\n",
    "print(accuracy_score(Ltest,y_pred))"
   ]
  },
  {
   "cell_type": "code",
   "execution_count": 35,
   "id": "bcddcf24",
   "metadata": {},
   "outputs": [
    {
     "name": "stdout",
     "output_type": "stream",
     "text": [
      "                               precision    recall  f1-score   support\n",
      "\n",
      "               bacterial_spot       0.46      0.50      0.48       349\n",
      "                 early_blight       0.29      0.01      0.02       182\n",
      "                      healthy       0.44      0.39      0.42       258\n",
      "                  late_blight       0.51      0.13      0.21       316\n",
      "                    leaf_mold       0.65      0.25      0.36       145\n",
      "           septoria_leaf_spot       0.28      0.03      0.05       262\n",
      "                  target_spot       0.38      0.08      0.14       229\n",
      "          tomato_mosaic_virus       0.00      0.00      0.00        58\n",
      "tomato_yellow_leaf_curl_virus       0.42      0.93      0.58       857\n",
      "      two-spotted_spider_mite       0.45      0.29      0.35       251\n",
      "\n",
      "                     accuracy                           0.43      2907\n",
      "                    macro avg       0.39      0.26      0.26      2907\n",
      "                 weighted avg       0.42      0.43      0.35      2907\n",
      "\n",
      "[[174   0  23   2   0   3   0   0 137  10]\n",
      " [ 43   2   3  10   6   4   7   0  90  17]\n",
      " [  6   0 101   4   0   5   8   0 128   6]\n",
      " [ 19   5  37  41   7   1   6   0 192   8]\n",
      " [  5   0   4  15  36   3   0   0  79   3]\n",
      " [ 31   0  24   3   6   7   2   0 183   6]\n",
      " [ 55   0  11   4   0   1  19   0 116  23]\n",
      " [  0   0   0   0   0   0   0   0  58   0]\n",
      " [ 23   0  17   1   0   1   0   0 801  14]\n",
      " [ 26   0   8   0   0   0   8   0 137  72]]\n"
     ]
    },
    {
     "name": "stderr",
     "output_type": "stream",
     "text": [
      "C:\\Users\\ravic\\anaconda3\\lib\\site-packages\\sklearn\\metrics\\_classification.py:1327: UndefinedMetricWarning: Precision and F-score are ill-defined and being set to 0.0 in labels with no predicted samples. Use `zero_division` parameter to control this behavior.\n",
      "  _warn_prf(average, modifier, msg_start, len(result))\n",
      "C:\\Users\\ravic\\anaconda3\\lib\\site-packages\\sklearn\\metrics\\_classification.py:1327: UndefinedMetricWarning: Precision and F-score are ill-defined and being set to 0.0 in labels with no predicted samples. Use `zero_division` parameter to control this behavior.\n",
      "  _warn_prf(average, modifier, msg_start, len(result))\n",
      "C:\\Users\\ravic\\anaconda3\\lib\\site-packages\\sklearn\\metrics\\_classification.py:1327: UndefinedMetricWarning: Precision and F-score are ill-defined and being set to 0.0 in labels with no predicted samples. Use `zero_division` parameter to control this behavior.\n",
      "  _warn_prf(average, modifier, msg_start, len(result))\n"
     ]
    }
   ],
   "source": [
    "#classification report\n",
    "y_predict = clf.fit(Ftrain, Ltrain).predict(Ftest)\n",
    "class_names = target.unique()\n",
    "print(classification_report(Ltest, y_predict, target_names=class_names))\n",
    "print(confusion_matrix(Ltest, y_predict))"
   ]
  },
  {
   "cell_type": "markdown",
   "id": "576fd580",
   "metadata": {},
   "source": [
    "# Random Forest on Grayscale"
   ]
  },
  {
   "cell_type": "code",
   "execution_count": 36,
   "id": "9dfa979e",
   "metadata": {},
   "outputs": [
    {
     "data": {
      "text/html": [
       "<style>#sk-container-id-3 {color: black;background-color: white;}#sk-container-id-3 pre{padding: 0;}#sk-container-id-3 div.sk-toggleable {background-color: white;}#sk-container-id-3 label.sk-toggleable__label {cursor: pointer;display: block;width: 100%;margin-bottom: 0;padding: 0.3em;box-sizing: border-box;text-align: center;}#sk-container-id-3 label.sk-toggleable__label-arrow:before {content: \"▸\";float: left;margin-right: 0.25em;color: #696969;}#sk-container-id-3 label.sk-toggleable__label-arrow:hover:before {color: black;}#sk-container-id-3 div.sk-estimator:hover label.sk-toggleable__label-arrow:before {color: black;}#sk-container-id-3 div.sk-toggleable__content {max-height: 0;max-width: 0;overflow: hidden;text-align: left;background-color: #f0f8ff;}#sk-container-id-3 div.sk-toggleable__content pre {margin: 0.2em;color: black;border-radius: 0.25em;background-color: #f0f8ff;}#sk-container-id-3 input.sk-toggleable__control:checked~div.sk-toggleable__content {max-height: 200px;max-width: 100%;overflow: auto;}#sk-container-id-3 input.sk-toggleable__control:checked~label.sk-toggleable__label-arrow:before {content: \"▾\";}#sk-container-id-3 div.sk-estimator input.sk-toggleable__control:checked~label.sk-toggleable__label {background-color: #d4ebff;}#sk-container-id-3 div.sk-label input.sk-toggleable__control:checked~label.sk-toggleable__label {background-color: #d4ebff;}#sk-container-id-3 input.sk-hidden--visually {border: 0;clip: rect(1px 1px 1px 1px);clip: rect(1px, 1px, 1px, 1px);height: 1px;margin: -1px;overflow: hidden;padding: 0;position: absolute;width: 1px;}#sk-container-id-3 div.sk-estimator {font-family: monospace;background-color: #f0f8ff;border: 1px dotted black;border-radius: 0.25em;box-sizing: border-box;margin-bottom: 0.5em;}#sk-container-id-3 div.sk-estimator:hover {background-color: #d4ebff;}#sk-container-id-3 div.sk-parallel-item::after {content: \"\";width: 100%;border-bottom: 1px solid gray;flex-grow: 1;}#sk-container-id-3 div.sk-label:hover label.sk-toggleable__label {background-color: #d4ebff;}#sk-container-id-3 div.sk-serial::before {content: \"\";position: absolute;border-left: 1px solid gray;box-sizing: border-box;top: 0;bottom: 0;left: 50%;z-index: 0;}#sk-container-id-3 div.sk-serial {display: flex;flex-direction: column;align-items: center;background-color: white;padding-right: 0.2em;padding-left: 0.2em;position: relative;}#sk-container-id-3 div.sk-item {position: relative;z-index: 1;}#sk-container-id-3 div.sk-parallel {display: flex;align-items: stretch;justify-content: center;background-color: white;position: relative;}#sk-container-id-3 div.sk-item::before, #sk-container-id-3 div.sk-parallel-item::before {content: \"\";position: absolute;border-left: 1px solid gray;box-sizing: border-box;top: 0;bottom: 0;left: 50%;z-index: -1;}#sk-container-id-3 div.sk-parallel-item {display: flex;flex-direction: column;z-index: 1;position: relative;background-color: white;}#sk-container-id-3 div.sk-parallel-item:first-child::after {align-self: flex-end;width: 50%;}#sk-container-id-3 div.sk-parallel-item:last-child::after {align-self: flex-start;width: 50%;}#sk-container-id-3 div.sk-parallel-item:only-child::after {width: 0;}#sk-container-id-3 div.sk-dashed-wrapped {border: 1px dashed gray;margin: 0 0.4em 0.5em 0.4em;box-sizing: border-box;padding-bottom: 0.4em;background-color: white;}#sk-container-id-3 div.sk-label label {font-family: monospace;font-weight: bold;display: inline-block;line-height: 1.2em;}#sk-container-id-3 div.sk-label-container {text-align: center;}#sk-container-id-3 div.sk-container {/* jupyter's `normalize.less` sets `[hidden] { display: none; }` but bootstrap.min.css set `[hidden] { display: none !important; }` so we also need the `!important` here to be able to override the default hidden behavior on the sphinx rendered scikit-learn.org. See: https://github.com/scikit-learn/scikit-learn/issues/21755 */display: inline-block !important;position: relative;}#sk-container-id-3 div.sk-text-repr-fallback {display: none;}</style><div id=\"sk-container-id-3\" class=\"sk-top-container\"><div class=\"sk-text-repr-fallback\"><pre>RandomForestClassifier(max_depth=5, n_jobs=-1, oob_score=True, random_state=42)</pre><b>In a Jupyter environment, please rerun this cell to show the HTML representation or trust the notebook. <br />On GitHub, the HTML representation is unable to render, please try loading this page with nbviewer.org.</b></div><div class=\"sk-container\" hidden><div class=\"sk-item\"><div class=\"sk-estimator sk-toggleable\"><input class=\"sk-toggleable__control sk-hidden--visually\" id=\"sk-estimator-id-3\" type=\"checkbox\" checked><label for=\"sk-estimator-id-3\" class=\"sk-toggleable__label sk-toggleable__label-arrow\">RandomForestClassifier</label><div class=\"sk-toggleable__content\"><pre>RandomForestClassifier(max_depth=5, n_jobs=-1, oob_score=True, random_state=42)</pre></div></div></div></div></div>"
      ],
      "text/plain": [
       "RandomForestClassifier(max_depth=5, n_jobs=-1, oob_score=True, random_state=42)"
      ]
     },
     "execution_count": 36,
     "metadata": {},
     "output_type": "execute_result"
    }
   ],
   "source": [
    "classifier_rf.fit(Ftrain, Ltrain)"
   ]
  },
  {
   "cell_type": "code",
   "execution_count": 37,
   "id": "2b4347ef",
   "metadata": {},
   "outputs": [
    {
     "data": {
      "text/plain": [
       "0.4021851342050929"
      ]
     },
     "execution_count": 37,
     "metadata": {},
     "output_type": "execute_result"
    }
   ],
   "source": [
    "classifier_rf.oob_score_"
   ]
  },
  {
   "cell_type": "code",
   "execution_count": 38,
   "id": "9263c32f",
   "metadata": {},
   "outputs": [
    {
     "name": "stdout",
     "output_type": "stream",
     "text": [
      "                               precision    recall  f1-score   support\n",
      "\n",
      "               bacterial_spot       0.58      0.47      0.52       349\n",
      "                 early_blight       0.00      0.00      0.00       182\n",
      "                      healthy       0.76      0.36      0.49       258\n",
      "                  late_blight       0.80      0.28      0.42       316\n",
      "                    leaf_mold       0.79      0.21      0.33       145\n",
      "           septoria_leaf_spot       0.29      0.01      0.01       262\n",
      "                  target_spot       0.00      0.00      0.00       229\n",
      "          tomato_mosaic_virus       0.00      0.00      0.00        58\n",
      "tomato_yellow_leaf_curl_virus       0.35      0.95      0.51       857\n",
      "      two-spotted_spider_mite       0.00      0.00      0.00       251\n",
      "\n",
      "                     accuracy                           0.41      2907\n",
      "                    macro avg       0.36      0.23      0.23      2907\n",
      "                 weighted avg       0.39      0.41      0.32      2907\n",
      "\n",
      "[[164   0   6   3   0   0   0   0 176   0]\n",
      " [ 38   0   0   2   2   0   0   0 140   0]\n",
      " [  0   0  93   0   0   0   0   0 165   0]\n",
      " [ 17   0   4  90   5   0   0   0 200   0]\n",
      " [  3   0   1   6  30   5   0   0 100   0]\n",
      " [  6   0   9   3   1   2   0   0 241   0]\n",
      " [  8   0   0   0   0   0   0   0 221   0]\n",
      " [  0   0   0   0   0   0   0   0  58   0]\n",
      " [ 29   0   9   8   0   0   0   0 811   0]\n",
      " [ 18   0   0   0   0   0   0   0 233   0]]\n"
     ]
    },
    {
     "name": "stderr",
     "output_type": "stream",
     "text": [
      "C:\\Users\\ravic\\anaconda3\\lib\\site-packages\\sklearn\\metrics\\_classification.py:1327: UndefinedMetricWarning: Precision and F-score are ill-defined and being set to 0.0 in labels with no predicted samples. Use `zero_division` parameter to control this behavior.\n",
      "  _warn_prf(average, modifier, msg_start, len(result))\n",
      "C:\\Users\\ravic\\anaconda3\\lib\\site-packages\\sklearn\\metrics\\_classification.py:1327: UndefinedMetricWarning: Precision and F-score are ill-defined and being set to 0.0 in labels with no predicted samples. Use `zero_division` parameter to control this behavior.\n",
      "  _warn_prf(average, modifier, msg_start, len(result))\n",
      "C:\\Users\\ravic\\anaconda3\\lib\\site-packages\\sklearn\\metrics\\_classification.py:1327: UndefinedMetricWarning: Precision and F-score are ill-defined and being set to 0.0 in labels with no predicted samples. Use `zero_division` parameter to control this behavior.\n",
      "  _warn_prf(average, modifier, msg_start, len(result))\n"
     ]
    }
   ],
   "source": [
    "y_predict = classifier_rf.fit(Ftrain, Ltrain).predict(Ftest)\n",
    "class_names = target.unique()\n",
    "print(classification_report(Ltest, y_predict, target_names=class_names))\n",
    "print(confusion_matrix(Ltest, y_predict))"
   ]
  },
  {
   "cell_type": "markdown",
   "id": "8befce61",
   "metadata": {},
   "source": [
    "# Naive bayes on Grayscale"
   ]
  },
  {
   "cell_type": "code",
   "execution_count": 39,
   "id": "0d1a6d3b",
   "metadata": {},
   "outputs": [
    {
     "data": {
      "text/html": [
       "<style>#sk-container-id-4 {color: black;background-color: white;}#sk-container-id-4 pre{padding: 0;}#sk-container-id-4 div.sk-toggleable {background-color: white;}#sk-container-id-4 label.sk-toggleable__label {cursor: pointer;display: block;width: 100%;margin-bottom: 0;padding: 0.3em;box-sizing: border-box;text-align: center;}#sk-container-id-4 label.sk-toggleable__label-arrow:before {content: \"▸\";float: left;margin-right: 0.25em;color: #696969;}#sk-container-id-4 label.sk-toggleable__label-arrow:hover:before {color: black;}#sk-container-id-4 div.sk-estimator:hover label.sk-toggleable__label-arrow:before {color: black;}#sk-container-id-4 div.sk-toggleable__content {max-height: 0;max-width: 0;overflow: hidden;text-align: left;background-color: #f0f8ff;}#sk-container-id-4 div.sk-toggleable__content pre {margin: 0.2em;color: black;border-radius: 0.25em;background-color: #f0f8ff;}#sk-container-id-4 input.sk-toggleable__control:checked~div.sk-toggleable__content {max-height: 200px;max-width: 100%;overflow: auto;}#sk-container-id-4 input.sk-toggleable__control:checked~label.sk-toggleable__label-arrow:before {content: \"▾\";}#sk-container-id-4 div.sk-estimator input.sk-toggleable__control:checked~label.sk-toggleable__label {background-color: #d4ebff;}#sk-container-id-4 div.sk-label input.sk-toggleable__control:checked~label.sk-toggleable__label {background-color: #d4ebff;}#sk-container-id-4 input.sk-hidden--visually {border: 0;clip: rect(1px 1px 1px 1px);clip: rect(1px, 1px, 1px, 1px);height: 1px;margin: -1px;overflow: hidden;padding: 0;position: absolute;width: 1px;}#sk-container-id-4 div.sk-estimator {font-family: monospace;background-color: #f0f8ff;border: 1px dotted black;border-radius: 0.25em;box-sizing: border-box;margin-bottom: 0.5em;}#sk-container-id-4 div.sk-estimator:hover {background-color: #d4ebff;}#sk-container-id-4 div.sk-parallel-item::after {content: \"\";width: 100%;border-bottom: 1px solid gray;flex-grow: 1;}#sk-container-id-4 div.sk-label:hover label.sk-toggleable__label {background-color: #d4ebff;}#sk-container-id-4 div.sk-serial::before {content: \"\";position: absolute;border-left: 1px solid gray;box-sizing: border-box;top: 0;bottom: 0;left: 50%;z-index: 0;}#sk-container-id-4 div.sk-serial {display: flex;flex-direction: column;align-items: center;background-color: white;padding-right: 0.2em;padding-left: 0.2em;position: relative;}#sk-container-id-4 div.sk-item {position: relative;z-index: 1;}#sk-container-id-4 div.sk-parallel {display: flex;align-items: stretch;justify-content: center;background-color: white;position: relative;}#sk-container-id-4 div.sk-item::before, #sk-container-id-4 div.sk-parallel-item::before {content: \"\";position: absolute;border-left: 1px solid gray;box-sizing: border-box;top: 0;bottom: 0;left: 50%;z-index: -1;}#sk-container-id-4 div.sk-parallel-item {display: flex;flex-direction: column;z-index: 1;position: relative;background-color: white;}#sk-container-id-4 div.sk-parallel-item:first-child::after {align-self: flex-end;width: 50%;}#sk-container-id-4 div.sk-parallel-item:last-child::after {align-self: flex-start;width: 50%;}#sk-container-id-4 div.sk-parallel-item:only-child::after {width: 0;}#sk-container-id-4 div.sk-dashed-wrapped {border: 1px dashed gray;margin: 0 0.4em 0.5em 0.4em;box-sizing: border-box;padding-bottom: 0.4em;background-color: white;}#sk-container-id-4 div.sk-label label {font-family: monospace;font-weight: bold;display: inline-block;line-height: 1.2em;}#sk-container-id-4 div.sk-label-container {text-align: center;}#sk-container-id-4 div.sk-container {/* jupyter's `normalize.less` sets `[hidden] { display: none; }` but bootstrap.min.css set `[hidden] { display: none !important; }` so we also need the `!important` here to be able to override the default hidden behavior on the sphinx rendered scikit-learn.org. See: https://github.com/scikit-learn/scikit-learn/issues/21755 */display: inline-block !important;position: relative;}#sk-container-id-4 div.sk-text-repr-fallback {display: none;}</style><div id=\"sk-container-id-4\" class=\"sk-top-container\"><div class=\"sk-text-repr-fallback\"><pre>GaussianNB()</pre><b>In a Jupyter environment, please rerun this cell to show the HTML representation or trust the notebook. <br />On GitHub, the HTML representation is unable to render, please try loading this page with nbviewer.org.</b></div><div class=\"sk-container\" hidden><div class=\"sk-item\"><div class=\"sk-estimator sk-toggleable\"><input class=\"sk-toggleable__control sk-hidden--visually\" id=\"sk-estimator-id-4\" type=\"checkbox\" checked><label for=\"sk-estimator-id-4\" class=\"sk-toggleable__label sk-toggleable__label-arrow\">GaussianNB</label><div class=\"sk-toggleable__content\"><pre>GaussianNB()</pre></div></div></div></div></div>"
      ],
      "text/plain": [
       "GaussianNB()"
      ]
     },
     "execution_count": 39,
     "metadata": {},
     "output_type": "execute_result"
    }
   ],
   "source": [
    "gnb.fit(Ftrain, Ltrain)"
   ]
  },
  {
   "cell_type": "code",
   "execution_count": 40,
   "id": "053c9a09",
   "metadata": {},
   "outputs": [
    {
     "data": {
      "text/plain": [
       "0.3409012727898177"
      ]
     },
     "execution_count": 40,
     "metadata": {},
     "output_type": "execute_result"
    }
   ],
   "source": [
    "y_pred = gnb.predict(Ftest)\n",
    "metrics.accuracy_score(Ltest, y_pred)"
   ]
  },
  {
   "cell_type": "code",
   "execution_count": 41,
   "id": "22c98d80",
   "metadata": {},
   "outputs": [
    {
     "name": "stdout",
     "output_type": "stream",
     "text": [
      "                               precision    recall  f1-score   support\n",
      "\n",
      "               bacterial_spot       0.59      0.66      0.62       349\n",
      "                 early_blight       0.24      0.40      0.30       182\n",
      "                      healthy       0.32      0.60      0.42       258\n",
      "                  late_blight       0.42      0.19      0.26       316\n",
      "                    leaf_mold       0.40      0.53      0.46       145\n",
      "           septoria_leaf_spot       0.25      0.15      0.19       262\n",
      "                  target_spot       0.37      0.31      0.34       229\n",
      "          tomato_mosaic_virus       0.09      0.67      0.16        58\n",
      "tomato_yellow_leaf_curl_virus       0.56      0.18      0.27       857\n",
      "      two-spotted_spider_mite       0.29      0.37      0.32       251\n",
      "\n",
      "                     accuracy                           0.34      2907\n",
      "                    macro avg       0.35      0.41      0.33      2907\n",
      "                 weighted avg       0.42      0.34      0.34      2907\n",
      "\n",
      "[[229  19  41   1   1  17   5  16  16   4]\n",
      " [ 16  72   2  15  13   3  17   8  10  26]\n",
      " [  0   3 156  11   6  11  38   4  18  11]\n",
      " [  5  61  78  61  21  11  12  43  14  10]\n",
      " [  1   3  10   5  77   7   6  24   9   3]\n",
      " [ 24  15  42   8  33  40  11  53  20  16]\n",
      " [ 35  26   4   9   7   7  70  12  16  43]\n",
      " [  1   0   1   0   5   3   0  39   7   2]\n",
      " [ 72  76 143  30  22  49   8 187 155 115]\n",
      " [  8  23  15   5   6  14  20  57  11  92]]\n"
     ]
    }
   ],
   "source": [
    "class_names = target.unique()\n",
    "print(classification_report(Ltest, y_pred, target_names=class_names))\n",
    "print(confusion_matrix(Ltest, y_pred))"
   ]
  },
  {
   "cell_type": "markdown",
   "id": "9a562db7",
   "metadata": {},
   "source": [
    "# Decision Tree on Grayscale"
   ]
  },
  {
   "cell_type": "code",
   "execution_count": 42,
   "id": "a4e9cd0d",
   "metadata": {},
   "outputs": [
    {
     "data": {
      "text/plain": [
       "0.3842449260405917"
      ]
     },
     "execution_count": 42,
     "metadata": {},
     "output_type": "execute_result"
    }
   ],
   "source": [
    "classifier_tree.fit(Ftrain, Ltrain)\n",
    "classifier_tree.score(Ftest,Ltest)"
   ]
  },
  {
   "cell_type": "code",
   "execution_count": 43,
   "id": "523c3773",
   "metadata": {},
   "outputs": [
    {
     "name": "stdout",
     "output_type": "stream",
     "text": [
      "                               precision    recall  f1-score   support\n",
      "\n",
      "               bacterial_spot       0.40      0.41      0.40       349\n",
      "                 early_blight       0.16      0.14      0.15       182\n",
      "                      healthy       0.51      0.43      0.47       258\n",
      "                  late_blight       0.39      0.38      0.38       316\n",
      "                    leaf_mold       0.28      0.30      0.29       145\n",
      "           septoria_leaf_spot       0.24      0.28      0.26       262\n",
      "                  target_spot       0.23      0.22      0.23       229\n",
      "          tomato_mosaic_virus       0.09      0.10      0.10        58\n",
      "tomato_yellow_leaf_curl_virus       0.53      0.51      0.52       857\n",
      "      two-spotted_spider_mite       0.29      0.32      0.30       251\n",
      "\n",
      "                     accuracy                           0.38      2907\n",
      "                    macro avg       0.31      0.31      0.31      2907\n",
      "                 weighted avg       0.38      0.38      0.38      2907\n",
      "\n",
      "[[143  16  18  30   5  22  25   2  73  15]\n",
      " [ 26  26   5  15   9   9  19   5  41  27]\n",
      " [ 15   5 110  21   7  29  19   6  38   8]\n",
      " [ 19  22   6 120  13  40  13   5  55  23]\n",
      " [  3   9   2  16  43  20   4   4  38   6]\n",
      " [ 32  15  15  18  16  74  23   8  45  16]\n",
      " [ 25  15  12  15  13  27  51   3  37  31]\n",
      " [  4   1   4   3   4   8   4   6  13  11]\n",
      " [ 84  38  30  63  30  59  34  23 438  58]\n",
      " [ 11  13  13  10  15  25  29   6  49  80]]\n"
     ]
    }
   ],
   "source": [
    "y_predict = classifier_tree.fit(Ftrain, Ltrain).predict(Ftest)\n",
    "class_names = target.unique()\n",
    "print(classification_report(Ltest, y_predict, target_names=class_names))\n",
    "print(confusion_matrix(Ltest, y_predict))"
   ]
  },
  {
   "cell_type": "markdown",
   "id": "e42f549f",
   "metadata": {},
   "source": [
    "# KNN on Red channel data"
   ]
  },
  {
   "cell_type": "code",
   "execution_count": 44,
   "id": "cb75cbbd",
   "metadata": {},
   "outputs": [],
   "source": [
    "#reading numpy array data\n",
    "gray_test = np.load('red_data.npy')\n",
    "#reading csv file\n",
    "gray_df = pd.read_csv('red_data.csv')"
   ]
  },
  {
   "cell_type": "code",
   "execution_count": 45,
   "id": "7fda7839",
   "metadata": {},
   "outputs": [],
   "source": [
    "loaded = []\n",
    "for i in gray_test:\n",
    "    k = []\n",
    "    k = np.asarray(i,dtype='uint8')\n",
    "    loaded.append(k)\n",
    "features = loaded\n",
    "target = gray_df['disease']\n",
    "Ftrain,Ftest,Ltrain,Ltest=train_test_split(features,target, test_size=0.20, random_state=20)\n",
    "Ftrain = norm.fit_transform(Ftrain)\n",
    "Ftest = norm.fit_transform(Ftest)"
   ]
  },
  {
   "cell_type": "code",
   "execution_count": 46,
   "id": "683839f2",
   "metadata": {},
   "outputs": [
    {
     "data": {
      "text/plain": [
       "0.44272445820433437"
      ]
     },
     "execution_count": 46,
     "metadata": {},
     "output_type": "execute_result"
    }
   ],
   "source": [
    "kmodel.fit(Ftrain,Ltrain)\n",
    "kmodel.score(Ftest,Ltest)"
   ]
  },
  {
   "cell_type": "code",
   "execution_count": 47,
   "id": "53bc7b93",
   "metadata": {},
   "outputs": [
    {
     "name": "stdout",
     "output_type": "stream",
     "text": [
      "                               precision    recall  f1-score   support\n",
      "\n",
      "               bacterial_spot       0.39      0.64      0.49       349\n",
      "                 early_blight       0.00      0.00      0.00       182\n",
      "                      healthy       0.28      0.65      0.39       258\n",
      "                  late_blight       0.41      0.29      0.34       316\n",
      "                    leaf_mold       0.60      0.38      0.47       145\n",
      "           septoria_leaf_spot       0.31      0.28      0.30       262\n",
      "                  target_spot       0.71      0.02      0.04       229\n",
      "          tomato_mosaic_virus       0.00      0.00      0.00        58\n",
      "tomato_yellow_leaf_curl_virus       0.54      0.69      0.61       857\n",
      "      two-spotted_spider_mite       0.76      0.32      0.45       251\n",
      "\n",
      "                     accuracy                           0.44      2907\n",
      "                    macro avg       0.40      0.33      0.31      2907\n",
      "                 weighted avg       0.46      0.44      0.40      2907\n",
      "\n",
      "[[225   0  38  20   0  19   0   0  46   1]\n",
      " [ 73   0  19   1   9  15   0   0  61   4]\n",
      " [  3   0 167  11   0  39   0   0  37   1]\n",
      " [ 39   0  71  92  12  24   0   0  78   0]\n",
      " [  5   0  24  13  55  14   0   0  34   0]\n",
      " [ 24   0  66  26  10  74   0   0  59   3]\n",
      " [ 83   0  43   0   0  28   5   0  58  12]\n",
      " [  0   0   8   1   1   1   0   0  46   1]\n",
      " [ 76   0 119  54   3  13   1   0 588   3]\n",
      " [ 48   0  33   5   1   9   1   0  73  81]]\n"
     ]
    },
    {
     "name": "stderr",
     "output_type": "stream",
     "text": [
      "C:\\Users\\ravic\\anaconda3\\lib\\site-packages\\sklearn\\metrics\\_classification.py:1327: UndefinedMetricWarning: Precision and F-score are ill-defined and being set to 0.0 in labels with no predicted samples. Use `zero_division` parameter to control this behavior.\n",
      "  _warn_prf(average, modifier, msg_start, len(result))\n",
      "C:\\Users\\ravic\\anaconda3\\lib\\site-packages\\sklearn\\metrics\\_classification.py:1327: UndefinedMetricWarning: Precision and F-score are ill-defined and being set to 0.0 in labels with no predicted samples. Use `zero_division` parameter to control this behavior.\n",
      "  _warn_prf(average, modifier, msg_start, len(result))\n",
      "C:\\Users\\ravic\\anaconda3\\lib\\site-packages\\sklearn\\metrics\\_classification.py:1327: UndefinedMetricWarning: Precision and F-score are ill-defined and being set to 0.0 in labels with no predicted samples. Use `zero_division` parameter to control this behavior.\n",
      "  _warn_prf(average, modifier, msg_start, len(result))\n"
     ]
    }
   ],
   "source": [
    "#printing results of the kmodel\n",
    "y_predict = kmodel.fit(Ftrain, Ltrain).predict(Ftest)\n",
    "class_names = target.unique()\n",
    "print(classification_report(Ltest, y_predict, target_names=class_names))\n",
    "print(confusion_matrix(Ltest, y_predict))"
   ]
  },
  {
   "cell_type": "markdown",
   "id": "ffcda594",
   "metadata": {},
   "source": [
    "# Logistic on Red channel data"
   ]
  },
  {
   "cell_type": "code",
   "execution_count": 48,
   "id": "1ed4037b",
   "metadata": {},
   "outputs": [
    {
     "data": {
      "text/plain": [
       "0.46405228758169936"
      ]
     },
     "execution_count": 48,
     "metadata": {},
     "output_type": "execute_result"
    }
   ],
   "source": [
    "model.fit(Ftrain,Ltrain)\n",
    "model.score(Ftest,Ltest)"
   ]
  },
  {
   "cell_type": "code",
   "execution_count": 49,
   "id": "22b11f2e",
   "metadata": {},
   "outputs": [
    {
     "name": "stdout",
     "output_type": "stream",
     "text": [
      "                               precision    recall  f1-score   support\n",
      "\n",
      "               bacterial_spot       0.45      0.56      0.50       349\n",
      "                 early_blight       0.17      0.01      0.01       182\n",
      "                      healthy       0.47      0.52      0.50       258\n",
      "                  late_blight       0.44      0.26      0.33       316\n",
      "                    leaf_mold       0.61      0.28      0.39       145\n",
      "           septoria_leaf_spot       0.39      0.12      0.19       262\n",
      "                  target_spot       0.54      0.14      0.23       229\n",
      "          tomato_mosaic_virus       0.00      0.00      0.00        58\n",
      "tomato_yellow_leaf_curl_virus       0.46      0.87      0.61       857\n",
      "      two-spotted_spider_mite       0.47      0.33      0.38       251\n",
      "\n",
      "                     accuracy                           0.46      2907\n",
      "                    macro avg       0.40      0.31      0.31      2907\n",
      "                 weighted avg       0.44      0.46      0.41      2907\n",
      "\n",
      "[[195   0  22  17   0  10   0   0  90  15]\n",
      " [ 42   1   2  11   8   6   9   0  91  12]\n",
      " [  6   0 135  13   0   9   4   0  83   8]\n",
      " [ 25   3  41  83   9  11   5   0 134   5]\n",
      " [  5   0   4  24  41  10   0   0  59   2]\n",
      " [ 35   0  31  16   8  32   2   0 132   6]\n",
      " [ 56   0  11   4   0   2  33   0  94  29]\n",
      " [  0   0   0   0   1   0   0   0  57   0]\n",
      " [ 39   2  33  20   0   0   0   0 747  16]\n",
      " [ 27   0   6   0   0   3   8   0 125  82]]\n"
     ]
    },
    {
     "name": "stderr",
     "output_type": "stream",
     "text": [
      "C:\\Users\\ravic\\anaconda3\\lib\\site-packages\\sklearn\\metrics\\_classification.py:1327: UndefinedMetricWarning: Precision and F-score are ill-defined and being set to 0.0 in labels with no predicted samples. Use `zero_division` parameter to control this behavior.\n",
      "  _warn_prf(average, modifier, msg_start, len(result))\n",
      "C:\\Users\\ravic\\anaconda3\\lib\\site-packages\\sklearn\\metrics\\_classification.py:1327: UndefinedMetricWarning: Precision and F-score are ill-defined and being set to 0.0 in labels with no predicted samples. Use `zero_division` parameter to control this behavior.\n",
      "  _warn_prf(average, modifier, msg_start, len(result))\n",
      "C:\\Users\\ravic\\anaconda3\\lib\\site-packages\\sklearn\\metrics\\_classification.py:1327: UndefinedMetricWarning: Precision and F-score are ill-defined and being set to 0.0 in labels with no predicted samples. Use `zero_division` parameter to control this behavior.\n",
      "  _warn_prf(average, modifier, msg_start, len(result))\n"
     ]
    }
   ],
   "source": [
    "#classification report\n",
    "y_predict = model.fit(Ftrain, Ltrain).predict(Ftest)\n",
    "class_names = target.unique()\n",
    "print(classification_report(Ltest, y_predict, target_names=class_names))\n",
    "print(confusion_matrix(Ltest, y_predict))"
   ]
  },
  {
   "cell_type": "markdown",
   "id": "dba6d5ce",
   "metadata": {},
   "source": [
    "# SVM on Red channel data"
   ]
  },
  {
   "cell_type": "code",
   "execution_count": 50,
   "id": "6ed153f7",
   "metadata": {},
   "outputs": [
    {
     "name": "stdout",
     "output_type": "stream",
     "text": [
      "0.4757481940144479\n"
     ]
    }
   ],
   "source": [
    "clf.fit(Ftrain,Ltrain)\n",
    "y_pred = clf.predict(Ftest)\n",
    "print(accuracy_score(Ltest,y_pred))"
   ]
  },
  {
   "cell_type": "code",
   "execution_count": 51,
   "id": "3d2d1d59",
   "metadata": {},
   "outputs": [
    {
     "name": "stdout",
     "output_type": "stream",
     "text": [
      "                               precision    recall  f1-score   support\n",
      "\n",
      "               bacterial_spot       0.47      0.54      0.50       349\n",
      "                 early_blight       0.33      0.01      0.02       182\n",
      "                      healthy       0.44      0.60      0.51       258\n",
      "                  late_blight       0.53      0.19      0.28       316\n",
      "                    leaf_mold       0.64      0.36      0.46       145\n",
      "           septoria_leaf_spot       0.35      0.10      0.15       262\n",
      "                  target_spot       0.50      0.21      0.30       229\n",
      "          tomato_mosaic_virus       0.00      0.00      0.00        58\n",
      "tomato_yellow_leaf_curl_virus       0.47      0.89      0.62       857\n",
      "      two-spotted_spider_mite       0.51      0.35      0.42       251\n",
      "\n",
      "                     accuracy                           0.48      2907\n",
      "                    macro avg       0.42      0.33      0.33      2907\n",
      "                 weighted avg       0.46      0.48      0.42      2907\n",
      "\n",
      "[[188   0  32  11   0   6   0   0  98  14]\n",
      " [ 45   2   7   7   7   5  11   0  86  12]\n",
      " [  4   0 154   5   0  12  10   0  69   4]\n",
      " [ 25   4  51  60  12  10   7   0 143   4]\n",
      " [  5   0   7  16  52  11   0   0  52   2]\n",
      " [ 32   0  39   7   9  26   5   0 140   4]\n",
      " [ 52   0  13   2   0   3  49   0  82  28]\n",
      " [  0   0   0   0   1   0   0   0  57   0]\n",
      " [ 32   0  36   6   0   0   1   0 763  19]\n",
      " [ 17   0  11   0   0   2  15   0 117  89]]\n"
     ]
    },
    {
     "name": "stderr",
     "output_type": "stream",
     "text": [
      "C:\\Users\\ravic\\anaconda3\\lib\\site-packages\\sklearn\\metrics\\_classification.py:1327: UndefinedMetricWarning: Precision and F-score are ill-defined and being set to 0.0 in labels with no predicted samples. Use `zero_division` parameter to control this behavior.\n",
      "  _warn_prf(average, modifier, msg_start, len(result))\n",
      "C:\\Users\\ravic\\anaconda3\\lib\\site-packages\\sklearn\\metrics\\_classification.py:1327: UndefinedMetricWarning: Precision and F-score are ill-defined and being set to 0.0 in labels with no predicted samples. Use `zero_division` parameter to control this behavior.\n",
      "  _warn_prf(average, modifier, msg_start, len(result))\n",
      "C:\\Users\\ravic\\anaconda3\\lib\\site-packages\\sklearn\\metrics\\_classification.py:1327: UndefinedMetricWarning: Precision and F-score are ill-defined and being set to 0.0 in labels with no predicted samples. Use `zero_division` parameter to control this behavior.\n",
      "  _warn_prf(average, modifier, msg_start, len(result))\n"
     ]
    }
   ],
   "source": [
    "#classification report\n",
    "y_predict = clf.fit(Ftrain, Ltrain).predict(Ftest)\n",
    "class_names = target.unique()\n",
    "print(classification_report(Ltest, y_predict, target_names=class_names))\n",
    "print(confusion_matrix(Ltest, y_predict))"
   ]
  },
  {
   "cell_type": "markdown",
   "id": "a670c4d4",
   "metadata": {},
   "source": [
    "# Random forest on Red channel data"
   ]
  },
  {
   "cell_type": "code",
   "execution_count": 52,
   "id": "9e816e9e",
   "metadata": {},
   "outputs": [
    {
     "data": {
      "text/plain": [
       "0.40898141775636615"
      ]
     },
     "execution_count": 52,
     "metadata": {},
     "output_type": "execute_result"
    }
   ],
   "source": [
    "classifier_rf.fit(Ftrain, Ltrain)\n",
    "classifier_rf.oob_score_"
   ]
  },
  {
   "cell_type": "code",
   "execution_count": 53,
   "id": "6d5daf40",
   "metadata": {},
   "outputs": [
    {
     "name": "stdout",
     "output_type": "stream",
     "text": [
      "                               precision    recall  f1-score   support\n",
      "\n",
      "               bacterial_spot       0.60      0.52      0.55       349\n",
      "                 early_blight       0.00      0.00      0.00       182\n",
      "                      healthy       0.65      0.36      0.46       258\n",
      "                  late_blight       0.68      0.32      0.44       316\n",
      "                    leaf_mold       0.76      0.34      0.47       145\n",
      "           septoria_leaf_spot       0.33      0.01      0.01       262\n",
      "                  target_spot       0.00      0.00      0.00       229\n",
      "          tomato_mosaic_virus       0.00      0.00      0.00        58\n",
      "tomato_yellow_leaf_curl_virus       0.35      0.93      0.51       857\n",
      "      two-spotted_spider_mite       0.00      0.00      0.00       251\n",
      "\n",
      "                     accuracy                           0.42      2907\n",
      "                    macro avg       0.34      0.25      0.25      2907\n",
      "                 weighted avg       0.38      0.42      0.33      2907\n",
      "\n",
      "[[180   0  15   7   0   0   0   0 147   0]\n",
      " [ 36   0   0   4   4   1   0   0 137   0]\n",
      " [  0   0  93   1   0   0   0   0 164   0]\n",
      " [ 14   0  11 101   7   1   0   0 182   0]\n",
      " [  2   0   4  10  50   2   0   0  77   0]\n",
      " [  5   0   5  14   5   2   0   0 231   0]\n",
      " [ 10   0   1   0   0   0   0   0 218   0]\n",
      " [  0   0   0   1   0   0   0   0  57   0]\n",
      " [ 41   0  12  10   0   0   0   0 794   0]\n",
      " [ 12   0   1   0   0   0   0   0 238   0]]\n"
     ]
    },
    {
     "name": "stderr",
     "output_type": "stream",
     "text": [
      "C:\\Users\\ravic\\anaconda3\\lib\\site-packages\\sklearn\\metrics\\_classification.py:1327: UndefinedMetricWarning: Precision and F-score are ill-defined and being set to 0.0 in labels with no predicted samples. Use `zero_division` parameter to control this behavior.\n",
      "  _warn_prf(average, modifier, msg_start, len(result))\n",
      "C:\\Users\\ravic\\anaconda3\\lib\\site-packages\\sklearn\\metrics\\_classification.py:1327: UndefinedMetricWarning: Precision and F-score are ill-defined and being set to 0.0 in labels with no predicted samples. Use `zero_division` parameter to control this behavior.\n",
      "  _warn_prf(average, modifier, msg_start, len(result))\n",
      "C:\\Users\\ravic\\anaconda3\\lib\\site-packages\\sklearn\\metrics\\_classification.py:1327: UndefinedMetricWarning: Precision and F-score are ill-defined and being set to 0.0 in labels with no predicted samples. Use `zero_division` parameter to control this behavior.\n",
      "  _warn_prf(average, modifier, msg_start, len(result))\n"
     ]
    }
   ],
   "source": [
    "y_predict = classifier_rf.fit(Ftrain, Ltrain).predict(Ftest)\n",
    "class_names = target.unique()\n",
    "print(classification_report(Ltest, y_predict, target_names=class_names))\n",
    "print(confusion_matrix(Ltest, y_predict))"
   ]
  },
  {
   "cell_type": "markdown",
   "id": "e1c2d95a",
   "metadata": {},
   "source": [
    "# Naive Bayes on Red channel data"
   ]
  },
  {
   "cell_type": "code",
   "execution_count": 54,
   "id": "8ec0753c",
   "metadata": {},
   "outputs": [
    {
     "data": {
      "text/html": [
       "<style>#sk-container-id-5 {color: black;background-color: white;}#sk-container-id-5 pre{padding: 0;}#sk-container-id-5 div.sk-toggleable {background-color: white;}#sk-container-id-5 label.sk-toggleable__label {cursor: pointer;display: block;width: 100%;margin-bottom: 0;padding: 0.3em;box-sizing: border-box;text-align: center;}#sk-container-id-5 label.sk-toggleable__label-arrow:before {content: \"▸\";float: left;margin-right: 0.25em;color: #696969;}#sk-container-id-5 label.sk-toggleable__label-arrow:hover:before {color: black;}#sk-container-id-5 div.sk-estimator:hover label.sk-toggleable__label-arrow:before {color: black;}#sk-container-id-5 div.sk-toggleable__content {max-height: 0;max-width: 0;overflow: hidden;text-align: left;background-color: #f0f8ff;}#sk-container-id-5 div.sk-toggleable__content pre {margin: 0.2em;color: black;border-radius: 0.25em;background-color: #f0f8ff;}#sk-container-id-5 input.sk-toggleable__control:checked~div.sk-toggleable__content {max-height: 200px;max-width: 100%;overflow: auto;}#sk-container-id-5 input.sk-toggleable__control:checked~label.sk-toggleable__label-arrow:before {content: \"▾\";}#sk-container-id-5 div.sk-estimator input.sk-toggleable__control:checked~label.sk-toggleable__label {background-color: #d4ebff;}#sk-container-id-5 div.sk-label input.sk-toggleable__control:checked~label.sk-toggleable__label {background-color: #d4ebff;}#sk-container-id-5 input.sk-hidden--visually {border: 0;clip: rect(1px 1px 1px 1px);clip: rect(1px, 1px, 1px, 1px);height: 1px;margin: -1px;overflow: hidden;padding: 0;position: absolute;width: 1px;}#sk-container-id-5 div.sk-estimator {font-family: monospace;background-color: #f0f8ff;border: 1px dotted black;border-radius: 0.25em;box-sizing: border-box;margin-bottom: 0.5em;}#sk-container-id-5 div.sk-estimator:hover {background-color: #d4ebff;}#sk-container-id-5 div.sk-parallel-item::after {content: \"\";width: 100%;border-bottom: 1px solid gray;flex-grow: 1;}#sk-container-id-5 div.sk-label:hover label.sk-toggleable__label {background-color: #d4ebff;}#sk-container-id-5 div.sk-serial::before {content: \"\";position: absolute;border-left: 1px solid gray;box-sizing: border-box;top: 0;bottom: 0;left: 50%;z-index: 0;}#sk-container-id-5 div.sk-serial {display: flex;flex-direction: column;align-items: center;background-color: white;padding-right: 0.2em;padding-left: 0.2em;position: relative;}#sk-container-id-5 div.sk-item {position: relative;z-index: 1;}#sk-container-id-5 div.sk-parallel {display: flex;align-items: stretch;justify-content: center;background-color: white;position: relative;}#sk-container-id-5 div.sk-item::before, #sk-container-id-5 div.sk-parallel-item::before {content: \"\";position: absolute;border-left: 1px solid gray;box-sizing: border-box;top: 0;bottom: 0;left: 50%;z-index: -1;}#sk-container-id-5 div.sk-parallel-item {display: flex;flex-direction: column;z-index: 1;position: relative;background-color: white;}#sk-container-id-5 div.sk-parallel-item:first-child::after {align-self: flex-end;width: 50%;}#sk-container-id-5 div.sk-parallel-item:last-child::after {align-self: flex-start;width: 50%;}#sk-container-id-5 div.sk-parallel-item:only-child::after {width: 0;}#sk-container-id-5 div.sk-dashed-wrapped {border: 1px dashed gray;margin: 0 0.4em 0.5em 0.4em;box-sizing: border-box;padding-bottom: 0.4em;background-color: white;}#sk-container-id-5 div.sk-label label {font-family: monospace;font-weight: bold;display: inline-block;line-height: 1.2em;}#sk-container-id-5 div.sk-label-container {text-align: center;}#sk-container-id-5 div.sk-container {/* jupyter's `normalize.less` sets `[hidden] { display: none; }` but bootstrap.min.css set `[hidden] { display: none !important; }` so we also need the `!important` here to be able to override the default hidden behavior on the sphinx rendered scikit-learn.org. See: https://github.com/scikit-learn/scikit-learn/issues/21755 */display: inline-block !important;position: relative;}#sk-container-id-5 div.sk-text-repr-fallback {display: none;}</style><div id=\"sk-container-id-5\" class=\"sk-top-container\"><div class=\"sk-text-repr-fallback\"><pre>GaussianNB()</pre><b>In a Jupyter environment, please rerun this cell to show the HTML representation or trust the notebook. <br />On GitHub, the HTML representation is unable to render, please try loading this page with nbviewer.org.</b></div><div class=\"sk-container\" hidden><div class=\"sk-item\"><div class=\"sk-estimator sk-toggleable\"><input class=\"sk-toggleable__control sk-hidden--visually\" id=\"sk-estimator-id-5\" type=\"checkbox\" checked><label for=\"sk-estimator-id-5\" class=\"sk-toggleable__label sk-toggleable__label-arrow\">GaussianNB</label><div class=\"sk-toggleable__content\"><pre>GaussianNB()</pre></div></div></div></div></div>"
      ],
      "text/plain": [
       "GaussianNB()"
      ]
     },
     "execution_count": 54,
     "metadata": {},
     "output_type": "execute_result"
    }
   ],
   "source": [
    "gnb.fit(Ftrain, Ltrain)"
   ]
  },
  {
   "cell_type": "code",
   "execution_count": 55,
   "id": "9bd3c55d",
   "metadata": {},
   "outputs": [
    {
     "data": {
      "text/plain": [
       "0.34055727554179566"
      ]
     },
     "execution_count": 55,
     "metadata": {},
     "output_type": "execute_result"
    }
   ],
   "source": [
    "y_pred = gnb.predict(Ftest)\n",
    "metrics.accuracy_score(Ltest, y_pred)"
   ]
  },
  {
   "cell_type": "code",
   "execution_count": 56,
   "id": "fc44e44c",
   "metadata": {},
   "outputs": [
    {
     "name": "stdout",
     "output_type": "stream",
     "text": [
      "                               precision    recall  f1-score   support\n",
      "\n",
      "               bacterial_spot       0.52      0.62      0.57       349\n",
      "                 early_blight       0.22      0.32      0.26       182\n",
      "                      healthy       0.30      0.66      0.42       258\n",
      "                  late_blight       0.41      0.21      0.28       316\n",
      "                    leaf_mold       0.45      0.54      0.49       145\n",
      "           septoria_leaf_spot       0.17      0.10      0.12       262\n",
      "                  target_spot       0.45      0.34      0.39       229\n",
      "          tomato_mosaic_virus       0.11      0.79      0.20        58\n",
      "tomato_yellow_leaf_curl_virus       0.62      0.17      0.27       857\n",
      "      two-spotted_spider_mite       0.29      0.39      0.34       251\n",
      "\n",
      "                     accuracy                           0.34      2907\n",
      "                    macro avg       0.35      0.42      0.33      2907\n",
      "                 weighted avg       0.43      0.34      0.33      2907\n",
      "\n",
      "[[217  18  52   4   0  14   7   9  10  18]\n",
      " [ 29  59   4  17  10   4  22   5   8  24]\n",
      " [  0   4 171   9   7  26  16   1  11  13]\n",
      " [  9  56  96  67  23  11   8  24  15   7]\n",
      " [  3   3  14  10  78   3   2  21   6   5]\n",
      " [ 23  19  55  11  30  26  13  42  19  24]\n",
      " [ 33  29   5   6   2   3  78  11  10  52]\n",
      " [  1   0   1   0   4   0   0  46   3   3]\n",
      " [ 85  60 149  37  16  61  12 194 149  94]\n",
      " [ 19  16  18   4   4   8  14  59  10  99]]\n"
     ]
    }
   ],
   "source": [
    "class_names = target.unique()\n",
    "print(classification_report(Ltest, y_pred, target_names=class_names))\n",
    "print(confusion_matrix(Ltest, y_pred))"
   ]
  },
  {
   "cell_type": "markdown",
   "id": "1aad544a",
   "metadata": {},
   "source": [
    "# Decision Tree on Red channel"
   ]
  },
  {
   "cell_type": "code",
   "execution_count": 57,
   "id": "91934650",
   "metadata": {},
   "outputs": [
    {
     "data": {
      "text/plain": [
       "0.3894048847609219"
      ]
     },
     "execution_count": 57,
     "metadata": {},
     "output_type": "execute_result"
    }
   ],
   "source": [
    "classifier_tree.fit(Ftrain, Ltrain)\n",
    "classifier_tree.score(Ftest,Ltest)"
   ]
  },
  {
   "cell_type": "code",
   "execution_count": 58,
   "id": "897d5f1e",
   "metadata": {},
   "outputs": [
    {
     "name": "stdout",
     "output_type": "stream",
     "text": [
      "                               precision    recall  f1-score   support\n",
      "\n",
      "               bacterial_spot       0.41      0.48      0.45       349\n",
      "                 early_blight       0.12      0.09      0.10       182\n",
      "                      healthy       0.46      0.42      0.44       258\n",
      "                  late_blight       0.39      0.35      0.37       316\n",
      "                    leaf_mold       0.33      0.34      0.33       145\n",
      "           septoria_leaf_spot       0.24      0.26      0.25       262\n",
      "                  target_spot       0.28      0.26      0.27       229\n",
      "          tomato_mosaic_virus       0.13      0.16      0.14        58\n",
      "tomato_yellow_leaf_curl_virus       0.53      0.54      0.53       857\n",
      "      two-spotted_spider_mite       0.35      0.33      0.34       251\n",
      "\n",
      "                     accuracy                           0.39      2907\n",
      "                    macro avg       0.32      0.32      0.32      2907\n",
      "                 weighted avg       0.39      0.39      0.39      2907\n",
      "\n",
      "[[168  33  11  24   4  20  14   2  67   6]\n",
      " [ 36  17   5  17   4  15  15   2  55  16]\n",
      " [ 18   5 108  15   9  27  18   6  30  22]\n",
      " [ 24  16  15 111  26  29  17   4  61  13]\n",
      " [ 16   4   8  15  49  22   4   3  23   1]\n",
      " [ 27   7  20  33  18  69  21   7  50  10]\n",
      " [ 28  13  15  11  10  19  60   6  39  28]\n",
      " [  1   2   3   4   4   3   1   9  22   9]\n",
      " [ 72  36  37  48  24  66  34  24 462  54]\n",
      " [ 16  12  14   6   2  19  28   5  65  84]]\n"
     ]
    }
   ],
   "source": [
    "y_predict = classifier_tree.fit(Ftrain, Ltrain).predict(Ftest)\n",
    "class_names = target.unique()\n",
    "print(classification_report(Ltest, y_predict, target_names=class_names))\n",
    "print(confusion_matrix(Ltest, y_predict))"
   ]
  },
  {
   "cell_type": "markdown",
   "id": "21af7568",
   "metadata": {},
   "source": [
    "# KNN on green channel data"
   ]
  },
  {
   "cell_type": "code",
   "execution_count": 59,
   "id": "461b784b",
   "metadata": {},
   "outputs": [
    {
     "data": {
      "text/plain": [
       "0.40282077743378053"
      ]
     },
     "execution_count": 59,
     "metadata": {},
     "output_type": "execute_result"
    }
   ],
   "source": [
    "#reading numpy array data\n",
    "gray_test = np.load('green_data.npy')\n",
    "#reading csv file\n",
    "gray_df = pd.read_csv('green_data.csv')\n",
    "loaded = []\n",
    "for i in gray_test:\n",
    "    k = []\n",
    "    k = np.asarray(i,dtype='uint8')\n",
    "    loaded.append(k)\n",
    "features = loaded\n",
    "target = gray_df['disease']\n",
    "Ftrain,Ftest,Ltrain,Ltest=train_test_split(features,target, test_size=0.20, random_state=20)\n",
    "Ftrain = norm.fit_transform(Ftrain)\n",
    "Ftest = norm.fit_transform(Ftest)\n",
    "kmodel.fit(Ftrain,Ltrain)\n",
    "kmodel.score(Ftest,Ltest)"
   ]
  },
  {
   "cell_type": "code",
   "execution_count": 60,
   "id": "5a4d4f1d",
   "metadata": {},
   "outputs": [
    {
     "name": "stdout",
     "output_type": "stream",
     "text": [
      "                               precision    recall  f1-score   support\n",
      "\n",
      "               bacterial_spot       0.28      0.72      0.40       349\n",
      "                 early_blight       0.00      0.00      0.00       182\n",
      "                      healthy       0.35      0.52      0.42       258\n",
      "                  late_blight       0.35      0.30      0.32       316\n",
      "                    leaf_mold       0.44      0.40      0.42       145\n",
      "           septoria_leaf_spot       0.25      0.38      0.30       262\n",
      "                  target_spot       0.00      0.00      0.00       229\n",
      "          tomato_mosaic_virus       0.00      0.00      0.00        58\n",
      "tomato_yellow_leaf_curl_virus       0.65      0.58      0.61       857\n",
      "      two-spotted_spider_mite       0.81      0.15      0.26       251\n",
      "\n",
      "                     accuracy                           0.40      2907\n",
      "                    macro avg       0.31      0.30      0.27      2907\n",
      "                 weighted avg       0.41      0.40      0.37      2907\n",
      "\n",
      "[[251   0  24  24   1  34   0   0  15   0]\n",
      " [122   0   3   2  10  15   0   0  30   0]\n",
      " [ 24   0 134  14   0  66   0   0  20   0]\n",
      " [ 79   0  45  96  17  22   0   0  56   1]\n",
      " [ 12   0   9  22  58  29   0   0  15   0]\n",
      " [ 39   0  47  20  15  99   0   0  41   1]\n",
      " [140   0   4   9   4  46   0   0  22   4]\n",
      " [  1   0   3   8   3  16   0   0  24   3]\n",
      " [138   0 104  68  14  38   0   0 495   0]\n",
      " [104   0   6  15   9  31   0   0  48  38]]\n"
     ]
    },
    {
     "name": "stderr",
     "output_type": "stream",
     "text": [
      "C:\\Users\\ravic\\anaconda3\\lib\\site-packages\\sklearn\\metrics\\_classification.py:1327: UndefinedMetricWarning: Precision and F-score are ill-defined and being set to 0.0 in labels with no predicted samples. Use `zero_division` parameter to control this behavior.\n",
      "  _warn_prf(average, modifier, msg_start, len(result))\n",
      "C:\\Users\\ravic\\anaconda3\\lib\\site-packages\\sklearn\\metrics\\_classification.py:1327: UndefinedMetricWarning: Precision and F-score are ill-defined and being set to 0.0 in labels with no predicted samples. Use `zero_division` parameter to control this behavior.\n",
      "  _warn_prf(average, modifier, msg_start, len(result))\n",
      "C:\\Users\\ravic\\anaconda3\\lib\\site-packages\\sklearn\\metrics\\_classification.py:1327: UndefinedMetricWarning: Precision and F-score are ill-defined and being set to 0.0 in labels with no predicted samples. Use `zero_division` parameter to control this behavior.\n",
      "  _warn_prf(average, modifier, msg_start, len(result))\n"
     ]
    }
   ],
   "source": [
    "#printing results of the kmodel\n",
    "y_predict = kmodel.fit(Ftrain, Ltrain).predict(Ftest)\n",
    "class_names = target.unique()\n",
    "print(classification_report(Ltest, y_predict, target_names=class_names))\n",
    "print(confusion_matrix(Ltest, y_predict))"
   ]
  },
  {
   "cell_type": "markdown",
   "id": "71f3ea86",
   "metadata": {},
   "source": [
    "# Logistic on Green channel data"
   ]
  },
  {
   "cell_type": "code",
   "execution_count": 61,
   "id": "28dad6b2",
   "metadata": {},
   "outputs": [
    {
     "data": {
      "text/plain": [
       "0.4176126590987272"
      ]
     },
     "execution_count": 61,
     "metadata": {},
     "output_type": "execute_result"
    }
   ],
   "source": [
    "model.fit(Ftrain,Ltrain)\n",
    "model.score(Ftest,Ltest)"
   ]
  },
  {
   "cell_type": "code",
   "execution_count": 62,
   "id": "3c0993f1",
   "metadata": {},
   "outputs": [
    {
     "name": "stdout",
     "output_type": "stream",
     "text": [
      "                               precision    recall  f1-score   support\n",
      "\n",
      "               bacterial_spot       0.47      0.52      0.50       349\n",
      "                 early_blight       0.24      0.03      0.06       182\n",
      "                      healthy       0.43      0.34      0.38       258\n",
      "                  late_blight       0.41      0.19      0.26       316\n",
      "                    leaf_mold       0.52      0.08      0.14       145\n",
      "           septoria_leaf_spot       0.33      0.06      0.10       262\n",
      "                  target_spot       0.33      0.06      0.10       229\n",
      "          tomato_mosaic_virus       0.00      0.00      0.00        58\n",
      "tomato_yellow_leaf_curl_virus       0.41      0.89      0.56       857\n",
      "      two-spotted_spider_mite       0.42      0.29      0.34       251\n",
      "\n",
      "                     accuracy                           0.42      2907\n",
      "                    macro avg       0.36      0.25      0.24      2907\n",
      "                 weighted avg       0.39      0.42      0.34      2907\n",
      "\n",
      "[[181   0  20   8   0   7   0   0 123  10]\n",
      " [ 44   6   2  13   3   2   7   0  81  24]\n",
      " [  9   0  87  10   0   4   7   0 133   8]\n",
      " [ 17   9  27  59   4  10   3   0 176  11]\n",
      " [  7   0   4  21  12   4   0   0  92   5]\n",
      " [ 21   0  28   4   4  16   4   0 177   8]\n",
      " [ 52   1   6   8   0   0  13   0 130  19]\n",
      " [  0   0   0   0   0   0   0   0  58   0]\n",
      " [ 28   6  22  14   0   4   0   0 767  16]\n",
      " [ 23   3   6   6   0   2   5   0 133  73]]\n"
     ]
    },
    {
     "name": "stderr",
     "output_type": "stream",
     "text": [
      "C:\\Users\\ravic\\anaconda3\\lib\\site-packages\\sklearn\\metrics\\_classification.py:1327: UndefinedMetricWarning: Precision and F-score are ill-defined and being set to 0.0 in labels with no predicted samples. Use `zero_division` parameter to control this behavior.\n",
      "  _warn_prf(average, modifier, msg_start, len(result))\n",
      "C:\\Users\\ravic\\anaconda3\\lib\\site-packages\\sklearn\\metrics\\_classification.py:1327: UndefinedMetricWarning: Precision and F-score are ill-defined and being set to 0.0 in labels with no predicted samples. Use `zero_division` parameter to control this behavior.\n",
      "  _warn_prf(average, modifier, msg_start, len(result))\n",
      "C:\\Users\\ravic\\anaconda3\\lib\\site-packages\\sklearn\\metrics\\_classification.py:1327: UndefinedMetricWarning: Precision and F-score are ill-defined and being set to 0.0 in labels with no predicted samples. Use `zero_division` parameter to control this behavior.\n",
      "  _warn_prf(average, modifier, msg_start, len(result))\n"
     ]
    }
   ],
   "source": [
    "#classification report\n",
    "y_predict = model.fit(Ftrain, Ltrain).predict(Ftest)\n",
    "class_names = target.unique()\n",
    "print(classification_report(Ltest, y_predict, target_names=class_names))\n",
    "print(confusion_matrix(Ltest, y_predict))"
   ]
  },
  {
   "cell_type": "markdown",
   "id": "f62f0223",
   "metadata": {},
   "source": [
    "# SVM on green channel data"
   ]
  },
  {
   "cell_type": "code",
   "execution_count": 63,
   "id": "e89e7297",
   "metadata": {},
   "outputs": [
    {
     "name": "stdout",
     "output_type": "stream",
     "text": [
      "0.4086687306501548\n"
     ]
    }
   ],
   "source": [
    "clf.fit(Ftrain,Ltrain)\n",
    "y_pred = clf.predict(Ftest)\n",
    "print(accuracy_score(Ltest,y_pred))"
   ]
  },
  {
   "cell_type": "code",
   "execution_count": 64,
   "id": "aaec32cf",
   "metadata": {},
   "outputs": [
    {
     "name": "stdout",
     "output_type": "stream",
     "text": [
      "                               precision    recall  f1-score   support\n",
      "\n",
      "               bacterial_spot       0.47      0.46      0.47       349\n",
      "                 early_blight       0.42      0.03      0.05       182\n",
      "                      healthy       0.41      0.28      0.33       258\n",
      "                  late_blight       0.62      0.12      0.20       316\n",
      "                    leaf_mold       0.38      0.03      0.06       145\n",
      "           septoria_leaf_spot       0.23      0.02      0.04       262\n",
      "                  target_spot       0.41      0.06      0.11       229\n",
      "          tomato_mosaic_virus       0.00      0.00      0.00        58\n",
      "tomato_yellow_leaf_curl_virus       0.39      0.96      0.56       857\n",
      "      two-spotted_spider_mite       0.44      0.27      0.34       251\n",
      "\n",
      "                     accuracy                           0.41      2907\n",
      "                    macro avg       0.38      0.22      0.21      2907\n",
      "                 weighted avg       0.41      0.41      0.32      2907\n",
      "\n",
      "[[162   0  20   0   0   3   0   0 154  10]\n",
      " [ 44   5   1   7   2   0   4   0  96  23]\n",
      " [  6   0  72   1   0   6   3   0 161   9]\n",
      " [ 16   5  27  37   3   1   2   0 213  12]\n",
      " [  7   0   4  10   5   3   2   0 112   2]\n",
      " [ 20   0  23   2   3   5   2   0 201   6]\n",
      " [ 55   0  11   1   0   2  14   0 130  16]\n",
      " [  0   0   0   0   0   0   0   0  58   0]\n",
      " [ 16   0  12   0   0   1   0   0 820   8]\n",
      " [ 21   2   4   2   0   1   7   0 146  68]]\n"
     ]
    },
    {
     "name": "stderr",
     "output_type": "stream",
     "text": [
      "C:\\Users\\ravic\\anaconda3\\lib\\site-packages\\sklearn\\metrics\\_classification.py:1327: UndefinedMetricWarning: Precision and F-score are ill-defined and being set to 0.0 in labels with no predicted samples. Use `zero_division` parameter to control this behavior.\n",
      "  _warn_prf(average, modifier, msg_start, len(result))\n",
      "C:\\Users\\ravic\\anaconda3\\lib\\site-packages\\sklearn\\metrics\\_classification.py:1327: UndefinedMetricWarning: Precision and F-score are ill-defined and being set to 0.0 in labels with no predicted samples. Use `zero_division` parameter to control this behavior.\n",
      "  _warn_prf(average, modifier, msg_start, len(result))\n",
      "C:\\Users\\ravic\\anaconda3\\lib\\site-packages\\sklearn\\metrics\\_classification.py:1327: UndefinedMetricWarning: Precision and F-score are ill-defined and being set to 0.0 in labels with no predicted samples. Use `zero_division` parameter to control this behavior.\n",
      "  _warn_prf(average, modifier, msg_start, len(result))\n"
     ]
    }
   ],
   "source": [
    "#classification report\n",
    "y_predict = clf.fit(Ftrain, Ltrain).predict(Ftest)\n",
    "class_names = target.unique()\n",
    "print(classification_report(Ltest, y_predict, target_names=class_names))\n",
    "print(confusion_matrix(Ltest, y_predict))"
   ]
  },
  {
   "cell_type": "markdown",
   "id": "4f8e565e",
   "metadata": {},
   "source": [
    "# Random Forest on green channel data"
   ]
  },
  {
   "cell_type": "code",
   "execution_count": 65,
   "id": "96c92f8f",
   "metadata": {},
   "outputs": [
    {
     "data": {
      "text/plain": [
       "0.3922918100481762"
      ]
     },
     "execution_count": 65,
     "metadata": {},
     "output_type": "execute_result"
    }
   ],
   "source": [
    "classifier_rf.fit(Ftrain, Ltrain)\n",
    "classifier_rf.oob_score_"
   ]
  },
  {
   "cell_type": "code",
   "execution_count": 66,
   "id": "a855ce64",
   "metadata": {},
   "outputs": [
    {
     "name": "stdout",
     "output_type": "stream",
     "text": [
      "                               precision    recall  f1-score   support\n",
      "\n",
      "               bacterial_spot       0.64      0.46      0.54       349\n",
      "                 early_blight       0.00      0.00      0.00       182\n",
      "                      healthy       0.82      0.37      0.51       258\n",
      "                  late_blight       0.88      0.21      0.34       316\n",
      "                    leaf_mold       0.00      0.00      0.00       145\n",
      "           septoria_leaf_spot       0.00      0.00      0.00       262\n",
      "                  target_spot       0.00      0.00      0.00       229\n",
      "          tomato_mosaic_virus       0.00      0.00      0.00        58\n",
      "tomato_yellow_leaf_curl_virus       0.34      0.98      0.51       857\n",
      "      two-spotted_spider_mite       0.00      0.00      0.00       251\n",
      "\n",
      "                     accuracy                           0.40      2907\n",
      "                    macro avg       0.27      0.20      0.19      2907\n",
      "                 weighted avg       0.35      0.40      0.30      2907\n",
      "\n",
      "[[161   0   3   1   0   0   0   0 184   0]\n",
      " [ 35   0   0   3   0   0   0   0 144   0]\n",
      " [  0   0  95   0   0   0   0   0 163   0]\n",
      " [ 21   0   5  66   0   0   0   0 224   0]\n",
      " [  1   0   2   2   0   0   0   0 140   0]\n",
      " [  3   0   8   2   0   0   0   0 249   0]\n",
      " [  3   0   0   0   0   0   0   0 226   0]\n",
      " [  0   0   0   0   0   0   0   0  58   0]\n",
      " [ 15   0   2   1   0   0   0   0 839   0]\n",
      " [ 13   0   1   0   0   0   0   0 237   0]]\n"
     ]
    },
    {
     "name": "stderr",
     "output_type": "stream",
     "text": [
      "C:\\Users\\ravic\\anaconda3\\lib\\site-packages\\sklearn\\metrics\\_classification.py:1327: UndefinedMetricWarning: Precision and F-score are ill-defined and being set to 0.0 in labels with no predicted samples. Use `zero_division` parameter to control this behavior.\n",
      "  _warn_prf(average, modifier, msg_start, len(result))\n",
      "C:\\Users\\ravic\\anaconda3\\lib\\site-packages\\sklearn\\metrics\\_classification.py:1327: UndefinedMetricWarning: Precision and F-score are ill-defined and being set to 0.0 in labels with no predicted samples. Use `zero_division` parameter to control this behavior.\n",
      "  _warn_prf(average, modifier, msg_start, len(result))\n",
      "C:\\Users\\ravic\\anaconda3\\lib\\site-packages\\sklearn\\metrics\\_classification.py:1327: UndefinedMetricWarning: Precision and F-score are ill-defined and being set to 0.0 in labels with no predicted samples. Use `zero_division` parameter to control this behavior.\n",
      "  _warn_prf(average, modifier, msg_start, len(result))\n"
     ]
    }
   ],
   "source": [
    "y_predict = classifier_rf.fit(Ftrain, Ltrain).predict(Ftest)\n",
    "class_names = target.unique()\n",
    "print(classification_report(Ltest, y_predict, target_names=class_names))\n",
    "print(confusion_matrix(Ltest, y_predict))"
   ]
  },
  {
   "cell_type": "markdown",
   "id": "e9b1cca9",
   "metadata": {},
   "source": [
    "# Naive bayes on Green channel data"
   ]
  },
  {
   "cell_type": "code",
   "execution_count": 67,
   "id": "1136802c",
   "metadata": {},
   "outputs": [
    {
     "data": {
      "text/plain": [
       "0.32748538011695905"
      ]
     },
     "execution_count": 67,
     "metadata": {},
     "output_type": "execute_result"
    }
   ],
   "source": [
    "gnb.fit(Ftrain, Ltrain)\n",
    "GaussianNB()\n",
    "y_pred = gnb.predict(Ftest)\n",
    "metrics.accuracy_score(Ltest, y_pred)"
   ]
  },
  {
   "cell_type": "code",
   "execution_count": 68,
   "id": "08e6f602",
   "metadata": {},
   "outputs": [
    {
     "name": "stdout",
     "output_type": "stream",
     "text": [
      "                               precision    recall  f1-score   support\n",
      "\n",
      "               bacterial_spot       0.53      0.64      0.58       349\n",
      "                 early_blight       0.24      0.41      0.30       182\n",
      "                      healthy       0.32      0.59      0.42       258\n",
      "                  late_blight       0.37      0.18      0.24       316\n",
      "                    leaf_mold       0.35      0.46      0.40       145\n",
      "           septoria_leaf_spot       0.24      0.14      0.18       262\n",
      "                  target_spot       0.42      0.31      0.35       229\n",
      "          tomato_mosaic_virus       0.08      0.62      0.15        58\n",
      "tomato_yellow_leaf_curl_virus       0.53      0.17      0.26       857\n",
      "      two-spotted_spider_mite       0.28      0.37      0.32       251\n",
      "\n",
      "                     accuracy                           0.33      2907\n",
      "                    macro avg       0.34      0.39      0.32      2907\n",
      "                 weighted avg       0.40      0.33      0.32      2907\n",
      "\n",
      "[[223  20  35   1   3  20   3  26  15   3]\n",
      " [ 17  74   2  17  15   4  14   6   5  28]\n",
      " [  0   5 151  12   8   4  32   8  23  15]\n",
      " [ 11  66  58  57  19   8   9  57  17  14]\n",
      " [  4   2   8   9  67   9   7  23  13   3]\n",
      " [ 25  12  42   8  24  36   9  66  25  15]\n",
      " [ 38  21   4  14  12   5  70  10  15  40]\n",
      " [  2   0   1   0   5   6   0  36   6   2]\n",
      " [ 85  84 160  30  24  45   8 156 144 121]\n",
      " [ 19  26   8   6  14  12  14  50   8  94]]\n"
     ]
    }
   ],
   "source": [
    "class_names = target.unique()\n",
    "print(classification_report(Ltest, y_pred, target_names=class_names))\n",
    "print(confusion_matrix(Ltest, y_pred))"
   ]
  },
  {
   "cell_type": "markdown",
   "id": "ad497b39",
   "metadata": {},
   "source": [
    "# Decision Tree on Green channel"
   ]
  },
  {
   "cell_type": "code",
   "execution_count": 69,
   "id": "458fe744",
   "metadata": {},
   "outputs": [
    {
     "data": {
      "text/plain": [
       "0.38183694530443757"
      ]
     },
     "execution_count": 69,
     "metadata": {},
     "output_type": "execute_result"
    }
   ],
   "source": [
    "classifier_tree.fit(Ftrain, Ltrain)\n",
    "classifier_tree.score(Ftest,Ltest)"
   ]
  },
  {
   "cell_type": "code",
   "execution_count": 70,
   "id": "60ea8164",
   "metadata": {},
   "outputs": [
    {
     "name": "stdout",
     "output_type": "stream",
     "text": [
      "                               precision    recall  f1-score   support\n",
      "\n",
      "               bacterial_spot       0.42      0.47      0.44       349\n",
      "                 early_blight       0.17      0.14      0.15       182\n",
      "                      healthy       0.51      0.46      0.48       258\n",
      "                  late_blight       0.36      0.35      0.35       316\n",
      "                    leaf_mold       0.20      0.21      0.20       145\n",
      "           septoria_leaf_spot       0.25      0.28      0.27       262\n",
      "                  target_spot       0.25      0.24      0.24       229\n",
      "          tomato_mosaic_virus       0.06      0.07      0.07        58\n",
      "tomato_yellow_leaf_curl_virus       0.54      0.55      0.55       857\n",
      "      two-spotted_spider_mite       0.28      0.27      0.28       251\n",
      "\n",
      "                     accuracy                           0.38      2907\n",
      "                    macro avg       0.30      0.30      0.30      2907\n",
      "                 weighted avg       0.38      0.38      0.38      2907\n",
      "\n",
      "[[163  19  10  19  11  21  18  10  69   9]\n",
      " [ 35  25   7  21  13  11  13   1  38  18]\n",
      " [ 17   6 119  16  11  23  22   6  29   9]\n",
      " [ 30  16  18 110  16  32  17   2  61  14]\n",
      " [  9  12   5  13  30  26  10   4  28   8]\n",
      " [ 22   7  18  32  17  73  12  11  54  16]\n",
      " [ 13  11  15  19  12  13  55   7  43  41]\n",
      " [  5   1   1   6   5   9   3   4  16   8]\n",
      " [ 75  33  35  58  30  58  35  12 470  51]\n",
      " [ 20  16   7  11   8  22  35   7  56  69]]\n"
     ]
    }
   ],
   "source": [
    "y_predict = classifier_tree.fit(Ftrain, Ltrain).predict(Ftest)\n",
    "class_names = target.unique()\n",
    "print(classification_report(Ltest, y_predict, target_names=class_names))\n",
    "print(confusion_matrix(Ltest, y_predict))"
   ]
  },
  {
   "cell_type": "markdown",
   "id": "75817642",
   "metadata": {},
   "source": [
    "# KNN on blue channel data"
   ]
  },
  {
   "cell_type": "code",
   "execution_count": 71,
   "id": "531e3624",
   "metadata": {},
   "outputs": [
    {
     "data": {
      "text/plain": [
       "0.5046439628482973"
      ]
     },
     "execution_count": 71,
     "metadata": {},
     "output_type": "execute_result"
    }
   ],
   "source": [
    "#reading numpy array data\n",
    "gray_test = np.load('blue_data.npy')\n",
    "#reading csv file\n",
    "gray_df = pd.read_csv('blue_data.csv')\n",
    "loaded = []\n",
    "for i in gray_test:\n",
    "    k = []\n",
    "    k = np.asarray(i,dtype='uint8')\n",
    "    loaded.append(k)\n",
    "features = loaded\n",
    "target = gray_df['disease']\n",
    "Ftrain,Ftest,Ltrain,Ltest=train_test_split(features,target, test_size=0.20, random_state=20)\n",
    "Ftrain = norm.fit_transform(Ftrain)\n",
    "Ftest = norm.fit_transform(Ftest)\n",
    "kmodel.fit(Ftrain,Ltrain)\n",
    "kmodel.score(Ftest,Ltest)"
   ]
  },
  {
   "cell_type": "code",
   "execution_count": 72,
   "id": "1314e157",
   "metadata": {},
   "outputs": [
    {
     "name": "stdout",
     "output_type": "stream",
     "text": [
      "                               precision    recall  f1-score   support\n",
      "\n",
      "               bacterial_spot       0.29      0.80      0.43       349\n",
      "                 early_blight       0.00      0.00      0.00       182\n",
      "                      healthy       0.46      0.71      0.55       258\n",
      "                  late_blight       0.55      0.39      0.46       316\n",
      "                    leaf_mold       0.54      0.60      0.57       145\n",
      "           septoria_leaf_spot       0.38      0.22      0.28       262\n",
      "                  target_spot       0.00      0.00      0.00       229\n",
      "          tomato_mosaic_virus       0.00      0.00      0.00        58\n",
      "tomato_yellow_leaf_curl_virus       0.72      0.77      0.74       857\n",
      "      two-spotted_spider_mite       0.76      0.31      0.44       251\n",
      "\n",
      "                     accuracy                           0.50      2907\n",
      "                    macro avg       0.37      0.38      0.35      2907\n",
      "                 weighted avg       0.47      0.50      0.46      2907\n",
      "\n",
      "[[279   0  25  17   2   5   0   0  18   3]\n",
      " [103   0  19   6   7   7   0   0  39   1]\n",
      " [ 60   0 182  12   2   1   0   0   0   1]\n",
      " [ 56   0  47 124  20  28   0   0  39   2]\n",
      " [ 13   0   9   6  87  15   0   0  11   4]\n",
      " [ 78   0  21  22  27  58   0   0  56   0]\n",
      " [144   0  55   4   2   4   0   0  17   3]\n",
      " [  0   0   4  19   4  11   0   0  19   1]\n",
      " [140   0   9  11  10  18   0   0 659  10]\n",
      " [ 76   0  29   5   0   6   0   0  57  78]]\n"
     ]
    },
    {
     "name": "stderr",
     "output_type": "stream",
     "text": [
      "C:\\Users\\ravic\\anaconda3\\lib\\site-packages\\sklearn\\metrics\\_classification.py:1327: UndefinedMetricWarning: Precision and F-score are ill-defined and being set to 0.0 in labels with no predicted samples. Use `zero_division` parameter to control this behavior.\n",
      "  _warn_prf(average, modifier, msg_start, len(result))\n",
      "C:\\Users\\ravic\\anaconda3\\lib\\site-packages\\sklearn\\metrics\\_classification.py:1327: UndefinedMetricWarning: Precision and F-score are ill-defined and being set to 0.0 in labels with no predicted samples. Use `zero_division` parameter to control this behavior.\n",
      "  _warn_prf(average, modifier, msg_start, len(result))\n",
      "C:\\Users\\ravic\\anaconda3\\lib\\site-packages\\sklearn\\metrics\\_classification.py:1327: UndefinedMetricWarning: Precision and F-score are ill-defined and being set to 0.0 in labels with no predicted samples. Use `zero_division` parameter to control this behavior.\n",
      "  _warn_prf(average, modifier, msg_start, len(result))\n"
     ]
    }
   ],
   "source": [
    "#printing results of the kmodel\n",
    "y_predict = kmodel.fit(Ftrain, Ltrain).predict(Ftest)\n",
    "class_names = target.unique()\n",
    "print(classification_report(Ltest, y_predict, target_names=class_names))\n",
    "print(confusion_matrix(Ltest, y_predict))"
   ]
  },
  {
   "cell_type": "markdown",
   "id": "f452a113",
   "metadata": {},
   "source": [
    "# logistic on blue channel data"
   ]
  },
  {
   "cell_type": "code",
   "execution_count": 73,
   "id": "de158586",
   "metadata": {},
   "outputs": [
    {
     "data": {
      "text/plain": [
       "0.5579635362917097"
      ]
     },
     "execution_count": 73,
     "metadata": {},
     "output_type": "execute_result"
    }
   ],
   "source": [
    "model.fit(Ftrain,Ltrain)\n",
    "model.score(Ftest,Ltest)"
   ]
  },
  {
   "cell_type": "code",
   "execution_count": 74,
   "id": "489ce7e9",
   "metadata": {},
   "outputs": [
    {
     "name": "stdout",
     "output_type": "stream",
     "text": [
      "                               precision    recall  f1-score   support\n",
      "\n",
      "               bacterial_spot       0.50      0.60      0.55       349\n",
      "                 early_blight       0.44      0.04      0.07       182\n",
      "                      healthy       0.63      0.75      0.69       258\n",
      "                  late_blight       0.48      0.48      0.48       316\n",
      "                    leaf_mold       0.66      0.48      0.55       145\n",
      "           septoria_leaf_spot       0.36      0.18      0.24       262\n",
      "                  target_spot       0.48      0.14      0.22       229\n",
      "          tomato_mosaic_virus       0.00      0.00      0.00        58\n",
      "tomato_yellow_leaf_curl_virus       0.61      0.91      0.73       857\n",
      "      two-spotted_spider_mite       0.49      0.51      0.50       251\n",
      "\n",
      "                     accuracy                           0.56      2907\n",
      "                    macro avg       0.47      0.41      0.40      2907\n",
      "                 weighted avg       0.52      0.56      0.51      2907\n",
      "\n",
      "[[211   0  22  14   1   4   0   0  82  15]\n",
      " [ 25   7  10  19   6  12   6   0  86  11]\n",
      " [ 16   0 193  25   0   1  12   0   0  11]\n",
      " [ 19   4  37 153   8  19   5   0  62   9]\n",
      " [  5   0   0  25  69  16   0   0  24   6]\n",
      " [ 38   1   2  31  14  46   2   0 113  15]\n",
      " [ 70   0  31  19   0   8  32   0  29  40]\n",
      " [  0   0   0   8   4   8   0   0  34   4]\n",
      " [ 26   2   2  17   2   5   0   0 782  21]\n",
      " [  8   2   8   6   1  10   9   0  78 129]]\n"
     ]
    },
    {
     "name": "stderr",
     "output_type": "stream",
     "text": [
      "C:\\Users\\ravic\\anaconda3\\lib\\site-packages\\sklearn\\metrics\\_classification.py:1327: UndefinedMetricWarning: Precision and F-score are ill-defined and being set to 0.0 in labels with no predicted samples. Use `zero_division` parameter to control this behavior.\n",
      "  _warn_prf(average, modifier, msg_start, len(result))\n",
      "C:\\Users\\ravic\\anaconda3\\lib\\site-packages\\sklearn\\metrics\\_classification.py:1327: UndefinedMetricWarning: Precision and F-score are ill-defined and being set to 0.0 in labels with no predicted samples. Use `zero_division` parameter to control this behavior.\n",
      "  _warn_prf(average, modifier, msg_start, len(result))\n",
      "C:\\Users\\ravic\\anaconda3\\lib\\site-packages\\sklearn\\metrics\\_classification.py:1327: UndefinedMetricWarning: Precision and F-score are ill-defined and being set to 0.0 in labels with no predicted samples. Use `zero_division` parameter to control this behavior.\n",
      "  _warn_prf(average, modifier, msg_start, len(result))\n"
     ]
    }
   ],
   "source": [
    "#classification report\n",
    "y_predict = model.fit(Ftrain, Ltrain).predict(Ftest)\n",
    "class_names = target.unique()\n",
    "print(classification_report(Ltest, y_predict, target_names=class_names))\n",
    "print(confusion_matrix(Ltest, y_predict))"
   ]
  },
  {
   "cell_type": "markdown",
   "id": "c7585c1d",
   "metadata": {},
   "source": [
    "# SVM on blue channel data"
   ]
  },
  {
   "cell_type": "code",
   "execution_count": 75,
   "id": "06fb4a0f",
   "metadata": {},
   "outputs": [
    {
     "name": "stdout",
     "output_type": "stream",
     "text": [
      "0.5730994152046783\n"
     ]
    }
   ],
   "source": [
    "clf.fit(Ftrain,Ltrain)\n",
    "y_pred = clf.predict(Ftest)\n",
    "print(accuracy_score(Ltest,y_pred))"
   ]
  },
  {
   "cell_type": "code",
   "execution_count": 76,
   "id": "03a12a5f",
   "metadata": {},
   "outputs": [
    {
     "name": "stdout",
     "output_type": "stream",
     "text": [
      "                               precision    recall  f1-score   support\n",
      "\n",
      "               bacterial_spot       0.52      0.63      0.57       349\n",
      "                 early_blight       0.80      0.04      0.08       182\n",
      "                      healthy       0.65      0.74      0.69       258\n",
      "                  late_blight       0.54      0.50      0.52       316\n",
      "                    leaf_mold       0.71      0.50      0.58       145\n",
      "           septoria_leaf_spot       0.31      0.23      0.26       262\n",
      "                  target_spot       0.45      0.23      0.30       229\n",
      "          tomato_mosaic_virus       0.00      0.00      0.00        58\n",
      "tomato_yellow_leaf_curl_virus       0.64      0.90      0.75       857\n",
      "      two-spotted_spider_mite       0.49      0.53      0.51       251\n",
      "\n",
      "                     accuracy                           0.57      2907\n",
      "                    macro avg       0.51      0.43      0.43      2907\n",
      "                 weighted avg       0.56      0.57      0.53      2907\n",
      "\n",
      "[[219   0  22  11   0   6   2   0  71  18]\n",
      " [ 33   8   7  17   4  14  11   0  78  10]\n",
      " [ 12   0 190  15   0   3  27   0   1  10]\n",
      " [ 20   1  29 157   9  34   6   0  55   5]\n",
      " [  5   0   0  22  72  20   0   0  20   6]\n",
      " [ 37   1   4  26  14  60   3   0  99  18]\n",
      " [ 61   0  32  13   0  11  53   0  22  37]\n",
      " [  0   0   0   6   2  19   0   0  23   8]\n",
      " [ 25   0   2  17   0  13   1   0 774  25]\n",
      " [ 13   0   8   5   1  12  16   0  63 133]]\n"
     ]
    },
    {
     "name": "stderr",
     "output_type": "stream",
     "text": [
      "C:\\Users\\ravic\\anaconda3\\lib\\site-packages\\sklearn\\metrics\\_classification.py:1327: UndefinedMetricWarning: Precision and F-score are ill-defined and being set to 0.0 in labels with no predicted samples. Use `zero_division` parameter to control this behavior.\n",
      "  _warn_prf(average, modifier, msg_start, len(result))\n",
      "C:\\Users\\ravic\\anaconda3\\lib\\site-packages\\sklearn\\metrics\\_classification.py:1327: UndefinedMetricWarning: Precision and F-score are ill-defined and being set to 0.0 in labels with no predicted samples. Use `zero_division` parameter to control this behavior.\n",
      "  _warn_prf(average, modifier, msg_start, len(result))\n",
      "C:\\Users\\ravic\\anaconda3\\lib\\site-packages\\sklearn\\metrics\\_classification.py:1327: UndefinedMetricWarning: Precision and F-score are ill-defined and being set to 0.0 in labels with no predicted samples. Use `zero_division` parameter to control this behavior.\n",
      "  _warn_prf(average, modifier, msg_start, len(result))\n"
     ]
    }
   ],
   "source": [
    "#classification report\n",
    "y_predict = clf.fit(Ftrain, Ltrain).predict(Ftest)\n",
    "class_names = target.unique()\n",
    "print(classification_report(Ltest, y_predict, target_names=class_names))\n",
    "print(confusion_matrix(Ltest, y_predict))"
   ]
  },
  {
   "cell_type": "markdown",
   "id": "f4eb8c6c",
   "metadata": {},
   "source": [
    "# Random Forest on blue channel data"
   ]
  },
  {
   "cell_type": "code",
   "execution_count": 77,
   "id": "b71407b2",
   "metadata": {},
   "outputs": [
    {
     "data": {
      "text/plain": [
       "0.483568479008947"
      ]
     },
     "execution_count": 77,
     "metadata": {},
     "output_type": "execute_result"
    }
   ],
   "source": [
    "classifier_rf.fit(Ftrain, Ltrain)\n",
    "classifier_rf.oob_score_"
   ]
  },
  {
   "cell_type": "code",
   "execution_count": 78,
   "id": "f7d75463",
   "metadata": {},
   "outputs": [
    {
     "name": "stdout",
     "output_type": "stream",
     "text": [
      "                               precision    recall  f1-score   support\n",
      "\n",
      "               bacterial_spot       0.44      0.53      0.48       349\n",
      "                 early_blight       0.00      0.00      0.00       182\n",
      "                      healthy       0.64      0.76      0.70       258\n",
      "                  late_blight       0.61      0.39      0.48       316\n",
      "                    leaf_mold       0.75      0.43      0.54       145\n",
      "           septoria_leaf_spot       0.42      0.12      0.19       262\n",
      "                  target_spot       0.00      0.00      0.00       229\n",
      "          tomato_mosaic_virus       0.00      0.00      0.00        58\n",
      "tomato_yellow_leaf_curl_virus       0.46      0.97      0.62       857\n",
      "      two-spotted_spider_mite       1.00      0.00      0.01       251\n",
      "\n",
      "                     accuracy                           0.49      2907\n",
      "                    macro avg       0.43      0.32      0.30      2907\n",
      "                 weighted avg       0.47      0.49      0.40      2907\n",
      "\n",
      "[[184   0  21  15   0   3   0   0 126   0]\n",
      " [ 24   0   5  10   2   7   0   0 134   0]\n",
      " [ 17   0 196   6   1   1   0   0  37   0]\n",
      " [ 31   0  32 124   5  11   0   0 113   0]\n",
      " [  6   0   0  19  62  13   0   0  45   0]\n",
      " [ 49   0   1  17   9  32   0   0 154   0]\n",
      " [ 83   0  35   3   0   4   0   0 104   0]\n",
      " [  0   0   1   5   3   2   0   0  47   0]\n",
      " [ 23   0   0   1   1   2   0   0 830   0]\n",
      " [  4   0  14   3   0   2   0   0 227   1]]\n"
     ]
    },
    {
     "name": "stderr",
     "output_type": "stream",
     "text": [
      "C:\\Users\\ravic\\anaconda3\\lib\\site-packages\\sklearn\\metrics\\_classification.py:1327: UndefinedMetricWarning: Precision and F-score are ill-defined and being set to 0.0 in labels with no predicted samples. Use `zero_division` parameter to control this behavior.\n",
      "  _warn_prf(average, modifier, msg_start, len(result))\n",
      "C:\\Users\\ravic\\anaconda3\\lib\\site-packages\\sklearn\\metrics\\_classification.py:1327: UndefinedMetricWarning: Precision and F-score are ill-defined and being set to 0.0 in labels with no predicted samples. Use `zero_division` parameter to control this behavior.\n",
      "  _warn_prf(average, modifier, msg_start, len(result))\n",
      "C:\\Users\\ravic\\anaconda3\\lib\\site-packages\\sklearn\\metrics\\_classification.py:1327: UndefinedMetricWarning: Precision and F-score are ill-defined and being set to 0.0 in labels with no predicted samples. Use `zero_division` parameter to control this behavior.\n",
      "  _warn_prf(average, modifier, msg_start, len(result))\n"
     ]
    }
   ],
   "source": [
    "y_predict = classifier_rf.fit(Ftrain, Ltrain).predict(Ftest)\n",
    "class_names = target.unique()\n",
    "print(classification_report(Ltest, y_predict, target_names=class_names))\n",
    "print(confusion_matrix(Ltest, y_predict))"
   ]
  },
  {
   "cell_type": "markdown",
   "id": "fb1ca20e",
   "metadata": {},
   "source": [
    "# Naive bayes on blue channel data"
   ]
  },
  {
   "cell_type": "code",
   "execution_count": 79,
   "id": "11ea0b85",
   "metadata": {},
   "outputs": [
    {
     "data": {
      "text/plain": [
       "0.45923632610939114"
      ]
     },
     "execution_count": 79,
     "metadata": {},
     "output_type": "execute_result"
    }
   ],
   "source": [
    "gnb.fit(Ftrain, Ltrain)\n",
    "GaussianNB()\n",
    "y_pred = gnb.predict(Ftest)\n",
    "metrics.accuracy_score(Ltest, y_pred)"
   ]
  },
  {
   "cell_type": "code",
   "execution_count": 80,
   "id": "b8a32aab",
   "metadata": {},
   "outputs": [
    {
     "name": "stdout",
     "output_type": "stream",
     "text": [
      "                               precision    recall  f1-score   support\n",
      "\n",
      "               bacterial_spot       0.60      0.67      0.64       349\n",
      "                 early_blight       0.18      0.32      0.23       182\n",
      "                      healthy       0.55      0.62      0.58       258\n",
      "                  late_blight       0.46      0.17      0.25       316\n",
      "                    leaf_mold       0.46      0.61      0.52       145\n",
      "           septoria_leaf_spot       0.24      0.13      0.17       262\n",
      "                  target_spot       0.39      0.37      0.38       229\n",
      "          tomato_mosaic_virus       0.13      0.86      0.22        58\n",
      "tomato_yellow_leaf_curl_virus       0.81      0.55      0.65       857\n",
      "      two-spotted_spider_mite       0.40      0.40      0.40       251\n",
      "\n",
      "                     accuracy                           0.46      2907\n",
      "                    macro avg       0.42      0.47      0.40      2907\n",
      "                 weighted avg       0.54      0.46      0.47      2907\n",
      "\n",
      "[[235  16  20   3   4  18  14  11  21   7]\n",
      " [ 13  59   7  17  12   5  17   9  28  15]\n",
      " [  0   8 159   6   4   4  55   1   0  21]\n",
      " [  8  68  53  55  25   5  12  71  14   5]\n",
      " [  4  11   4   2  89   6   2  21   4   2]\n",
      " [ 49  29   4   9  40  34   4  56  21  16]\n",
      " [ 30  24  20   8   0  13  84  12   4  34]\n",
      " [  0   0   1   0   3   2   0  50   1   1]\n",
      " [ 46 102   1  15  15  43   6 111 469  49]\n",
      " [  4  19  18   5   3   9  23  55  14 101]]\n"
     ]
    }
   ],
   "source": [
    "class_names = target.unique()\n",
    "print(classification_report(Ltest, y_pred, target_names=class_names))\n",
    "print(confusion_matrix(Ltest, y_pred))"
   ]
  },
  {
   "cell_type": "markdown",
   "id": "f125f7c4",
   "metadata": {},
   "source": [
    "# Decision Tree on blue channel"
   ]
  },
  {
   "cell_type": "code",
   "execution_count": 81,
   "id": "88bfbe14",
   "metadata": {},
   "outputs": [
    {
     "data": {
      "text/plain": [
       "0.39662882696938423"
      ]
     },
     "execution_count": 81,
     "metadata": {},
     "output_type": "execute_result"
    }
   ],
   "source": [
    "classifier_tree.fit(Ftrain, Ltrain)\n",
    "classifier_tree.score(Ftest,Ltest)"
   ]
  },
  {
   "cell_type": "code",
   "execution_count": 82,
   "id": "6e2c73b8",
   "metadata": {},
   "outputs": [
    {
     "name": "stdout",
     "output_type": "stream",
     "text": [
      "                               precision    recall  f1-score   support\n",
      "\n",
      "               bacterial_spot       0.40      0.40      0.40       349\n",
      "                 early_blight       0.09      0.09      0.09       182\n",
      "                      healthy       0.55      0.52      0.53       258\n",
      "                  late_blight       0.38      0.39      0.39       316\n",
      "                    leaf_mold       0.33      0.39      0.36       145\n",
      "           septoria_leaf_spot       0.23      0.26      0.24       262\n",
      "                  target_spot       0.21      0.20      0.21       229\n",
      "          tomato_mosaic_virus       0.05      0.05      0.05        58\n",
      "tomato_yellow_leaf_curl_virus       0.61      0.58      0.59       857\n",
      "      two-spotted_spider_mite       0.22      0.23      0.22       251\n",
      "\n",
      "                     accuracy                           0.39      2907\n",
      "                    macro avg       0.31      0.31      0.31      2907\n",
      "                 weighted avg       0.40      0.39      0.39      2907\n",
      "\n",
      "[[141  20  20  23   8  33  20   4  54  26]\n",
      " [ 21  16  10  23  10  18   9   7  56  12]\n",
      " [ 12  13 133  24  10  17  21   2   5  21]\n",
      " [ 23  17  18 122  20  25  24   6  40  21]\n",
      " [  5   9   2  20  57  21   3   7  14   7]\n",
      " [ 31  16   6  23  21  68  16   9  58  14]\n",
      " [ 34  19  26  16   8  20  45   8  19  34]\n",
      " [  3   4   1   6   8   8   5   3  12   8]\n",
      " [ 64  46   9  47  23  63  37  14 496  58]\n",
      " [ 20  18  18  13   8  22  30   6  59  57]]\n"
     ]
    }
   ],
   "source": [
    "y_predict = classifier_tree.fit(Ftrain, Ltrain).predict(Ftest)\n",
    "class_names = target.unique()\n",
    "print(classification_report(Ltest, y_predict, target_names=class_names))\n",
    "print(confusion_matrix(Ltest, y_predict))"
   ]
  }
 ],
 "metadata": {
  "kernelspec": {
   "display_name": "Python 3 (ipykernel)",
   "language": "python",
   "name": "python3"
  },
  "language_info": {
   "codemirror_mode": {
    "name": "ipython",
    "version": 3
   },
   "file_extension": ".py",
   "mimetype": "text/x-python",
   "name": "python",
   "nbconvert_exporter": "python",
   "pygments_lexer": "ipython3",
   "version": "3.9.7"
  }
 },
 "nbformat": 4,
 "nbformat_minor": 5
}
