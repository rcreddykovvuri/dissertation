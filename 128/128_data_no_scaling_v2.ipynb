{
 "cells": [
  {
   "cell_type": "code",
   "execution_count": 1,
   "id": "bcdb1517",
   "metadata": {},
   "outputs": [],
   "source": [
    "import numpy as np #importing numpy\n",
    "import pandas as pd #importing pandas\n",
    "import PIL #importing pillow for image processing\n",
    "from PIL import Image#importing image from pillow library\n",
    "import skimage#importing skimage library\n",
    "import os#importing os library\n",
    "import time#importing time library\n",
    "\n",
    "#Capture start time of the program\n",
    "start_time = time.time()"
   ]
  },
  {
   "cell_type": "code",
   "execution_count": 2,
   "id": "9ec45970",
   "metadata": {},
   "outputs": [],
   "source": [
    "#changing path\n",
    "os.chdir('D://DKIT//dissertation//Dataset_of_Tomato_Leaves//plantvillage//Preprocessed_data//128//vector//')"
   ]
  },
  {
   "cell_type": "markdown",
   "id": "e1e76605",
   "metadata": {},
   "source": [
    "# RGB Data"
   ]
  },
  {
   "cell_type": "code",
   "execution_count": 3,
   "id": "9386938c",
   "metadata": {},
   "outputs": [],
   "source": [
    "#reading numpy array data\n",
    "rgb_test = np.load('rgb_data.npy')\n",
    "#reading csv file\n",
    "rgb_df = pd.read_csv('rgb_data.csv')"
   ]
  },
  {
   "cell_type": "code",
   "execution_count": 4,
   "id": "40f528b5",
   "metadata": {},
   "outputs": [],
   "source": [
    "features = pd.DataFrame(rgb_test)"
   ]
  },
  {
   "cell_type": "code",
   "execution_count": 5,
   "id": "fdd9a1f6",
   "metadata": {},
   "outputs": [],
   "source": [
    "features = features.values"
   ]
  },
  {
   "cell_type": "code",
   "execution_count": 6,
   "id": "c6d5658c",
   "metadata": {},
   "outputs": [],
   "source": [
    "#assigning target\n",
    "target = rgb_df['disease']\n",
    "#splitting the data to 80 percent and 20 percent\n",
    "from sklearn.model_selection import train_test_split\n",
    "Ftrain,Ftest,Ltrain,Ltest=train_test_split(features,target, test_size=0.20, random_state=24)"
   ]
  },
  {
   "cell_type": "code",
   "execution_count": 7,
   "id": "1fa0433e",
   "metadata": {},
   "outputs": [],
   "source": [
    "#importing classification report and confusion matrix\n",
    "from sklearn.metrics import classification_report, confusion_matrix"
   ]
  },
  {
   "cell_type": "markdown",
   "id": "d466ef5f",
   "metadata": {},
   "source": [
    "# SVM(poly) on RGB data"
   ]
  },
  {
   "cell_type": "code",
   "execution_count": 8,
   "id": "2427ed51",
   "metadata": {},
   "outputs": [
    {
     "name": "stdout",
     "output_type": "stream",
     "text": [
      "0.8001375988992088\n"
     ]
    }
   ],
   "source": [
    "from sklearn.svm import SVC\n",
    "from sklearn.metrics import accuracy_score\n",
    "\n",
    "svm_poly = SVC(kernel='poly')\n",
    "svm_poly.fit(Ftrain,Ltrain)\n",
    "y_pred = svm_poly.predict(Ftest)\n",
    "print(accuracy_score(Ltest,y_pred))"
   ]
  },
  {
   "cell_type": "code",
   "execution_count": 9,
   "id": "bf286604",
   "metadata": {},
   "outputs": [
    {
     "name": "stdout",
     "output_type": "stream",
     "text": [
      "                               precision    recall  f1-score   support\n",
      "\n",
      "               bacterial_spot       0.72      0.92      0.81       345\n",
      "                 early_blight       0.49      0.41      0.44       153\n",
      "                      healthy       0.89      0.83      0.86       234\n",
      "                  late_blight       0.77      0.71      0.74       309\n",
      "                    leaf_mold       0.68      0.70      0.69       145\n",
      "           septoria_leaf_spot       0.76      0.72      0.74       293\n",
      "                  target_spot       0.75      0.66      0.70       240\n",
      "          tomato_mosaic_virus       0.76      0.87      0.81        54\n",
      "tomato_yellow_leaf_curl_virus       0.94      0.93      0.94       854\n",
      "      two-spotted_spider_mite       0.75      0.78      0.77       280\n",
      "\n",
      "                     accuracy                           0.80      2907\n",
      "                    macro avg       0.75      0.75      0.75      2907\n",
      "                 weighted avg       0.80      0.80      0.80      2907\n",
      "\n",
      "[[318   8   1   8   0   1   0   0   9   0]\n",
      " [ 30  62   1  22   1   6   9   0   9  13]\n",
      " [  8   1 195   8   6   3  12   0   0   1]\n",
      " [ 24  21   6 220  13   7   3   0   9   6]\n",
      " [  3   5   2   6 101  18   2   2   3   3]\n",
      " [ 11   6   6   6  19 212  10   8   9   6]\n",
      " [  9  15   4   2   1  17 159   3   1  29]\n",
      " [  0   0   0   1   1   3   1  47   0   1]\n",
      " [ 29   4   0  10   1   3   1   0 793  13]\n",
      " [  9   5   5   4   5   8  15   2   8 219]]\n"
     ]
    }
   ],
   "source": [
    "#classification report\n",
    "y_predict = svm_poly.fit(Ftrain, Ltrain).predict(Ftest)\n",
    "class_names = target.unique()\n",
    "print(classification_report(Ltest, y_predict, target_names=class_names))\n",
    "print(confusion_matrix(Ltest, y_predict))"
   ]
  },
  {
   "cell_type": "markdown",
   "id": "4101cb88",
   "metadata": {},
   "source": [
    "# SVM(RBF) on RGB data"
   ]
  },
  {
   "cell_type": "code",
   "execution_count": 10,
   "id": "235aaf3a",
   "metadata": {},
   "outputs": [
    {
     "name": "stdout",
     "output_type": "stream",
     "text": [
      "0.8376332989336085\n"
     ]
    }
   ],
   "source": [
    "svm_rbf = SVC(kernel='rbf')\n",
    "svm_rbf.fit(Ftrain,Ltrain)\n",
    "y_pred = svm_rbf.predict(Ftest)\n",
    "print(accuracy_score(Ltest,y_pred))"
   ]
  },
  {
   "cell_type": "code",
   "execution_count": 11,
   "id": "1c7ce3a6",
   "metadata": {},
   "outputs": [
    {
     "name": "stdout",
     "output_type": "stream",
     "text": [
      "                               precision    recall  f1-score   support\n",
      "\n",
      "               bacterial_spot       0.86      0.91      0.89       345\n",
      "                 early_blight       0.60      0.42      0.50       153\n",
      "                      healthy       0.94      0.93      0.93       234\n",
      "                  late_blight       0.81      0.79      0.80       309\n",
      "                    leaf_mold       0.78      0.66      0.72       145\n",
      "           septoria_leaf_spot       0.78      0.77      0.78       293\n",
      "                  target_spot       0.75      0.73      0.74       240\n",
      "          tomato_mosaic_virus       0.76      0.78      0.77        54\n",
      "tomato_yellow_leaf_curl_virus       0.92      0.96      0.94       854\n",
      "      two-spotted_spider_mite       0.77      0.85      0.81       280\n",
      "\n",
      "                     accuracy                           0.84      2907\n",
      "                    macro avg       0.80      0.78      0.79      2907\n",
      "                 weighted avg       0.83      0.84      0.83      2907\n",
      "\n",
      "[[315   1   1   3   0   0   2   0  22   1]\n",
      " [ 24  65   1  23   1   6  14   0  10   9]\n",
      " [  0   3 217   5   1   3   4   0   1   0]\n",
      " [  4  13   5 245  10   9   7   3   6   7]\n",
      " [  1   4   2   7  96  21   2   4   5   3]\n",
      " [  3   7   2   9  11 227   9   1  15   9]\n",
      " [  7   9   3   2   2  11 175   1   3  27]\n",
      " [  0   1   0   0   2   8   1  42   0   0]\n",
      " [ 12   3   0   5   0   4   1   0 816  13]\n",
      " [  0   3   0   4   0   3  19   4  10 237]]\n"
     ]
    }
   ],
   "source": [
    "#classification report\n",
    "y_predict = svm_rbf.fit(Ftrain, Ltrain).predict(Ftest)\n",
    "class_names = target.unique()\n",
    "print(classification_report(Ltest, y_predict, target_names=class_names))\n",
    "print(confusion_matrix(Ltest, y_predict))"
   ]
  },
  {
   "cell_type": "markdown",
   "id": "670ea3cc",
   "metadata": {},
   "source": [
    "# SVM(sigmoid) on RGB data"
   ]
  },
  {
   "cell_type": "code",
   "execution_count": 12,
   "id": "8aaf1a20",
   "metadata": {},
   "outputs": [
    {
     "name": "stdout",
     "output_type": "stream",
     "text": [
      "0.2893016855865153\n"
     ]
    }
   ],
   "source": [
    "svm_si = SVC(kernel='sigmoid')\n",
    "svm_si.fit(Ftrain,Ltrain)\n",
    "y_pred = svm_si.predict(Ftest)\n",
    "print(accuracy_score(Ltest,y_pred))"
   ]
  },
  {
   "cell_type": "code",
   "execution_count": 13,
   "id": "9beeb8fa",
   "metadata": {},
   "outputs": [
    {
     "name": "stdout",
     "output_type": "stream",
     "text": [
      "                               precision    recall  f1-score   support\n",
      "\n",
      "               bacterial_spot       0.00      0.00      0.00       345\n",
      "                 early_blight       0.00      0.00      0.00       153\n",
      "                      healthy       0.00      0.00      0.00       234\n",
      "                  late_blight       0.00      0.00      0.00       309\n",
      "                    leaf_mold       0.00      0.00      0.00       145\n",
      "           septoria_leaf_spot       0.00      0.00      0.00       293\n",
      "                  target_spot       0.00      0.00      0.00       240\n",
      "          tomato_mosaic_virus       0.00      0.00      0.00        54\n",
      "tomato_yellow_leaf_curl_virus       0.29      0.98      0.45       854\n",
      "      two-spotted_spider_mite       0.00      0.00      0.00       280\n",
      "\n",
      "                     accuracy                           0.29      2907\n",
      "                    macro avg       0.03      0.10      0.05      2907\n",
      "                 weighted avg       0.09      0.29      0.13      2907\n",
      "\n",
      "[[  0   0   0   0   0   0   0   0 345   0]\n",
      " [  0   0   0   0   0   0   0   0 153   0]\n",
      " [  1   0   0   0   0   1   0   0 232   0]\n",
      " [  0   0   0   0   0  33   0   0 276   0]\n",
      " [  0   0   0   0   0   1   0   0 144   0]\n",
      " [  0   0   0   0   0   0   0   0 293   0]\n",
      " [  0   0   0   0   0   1   0   0 239   0]\n",
      " [  0   0   0   0   0   0   0   0  54   0]\n",
      " [  4   0   0   0   0   9   0   0 841   0]\n",
      " [  0   0   0   0   0   0   0   0 280   0]]\n"
     ]
    },
    {
     "name": "stderr",
     "output_type": "stream",
     "text": [
      "C:\\Users\\ravic\\anaconda3\\lib\\site-packages\\sklearn\\metrics\\_classification.py:1248: UndefinedMetricWarning: Precision and F-score are ill-defined and being set to 0.0 in labels with no predicted samples. Use `zero_division` parameter to control this behavior.\n",
      "  _warn_prf(average, modifier, msg_start, len(result))\n",
      "C:\\Users\\ravic\\anaconda3\\lib\\site-packages\\sklearn\\metrics\\_classification.py:1248: UndefinedMetricWarning: Precision and F-score are ill-defined and being set to 0.0 in labels with no predicted samples. Use `zero_division` parameter to control this behavior.\n",
      "  _warn_prf(average, modifier, msg_start, len(result))\n",
      "C:\\Users\\ravic\\anaconda3\\lib\\site-packages\\sklearn\\metrics\\_classification.py:1248: UndefinedMetricWarning: Precision and F-score are ill-defined and being set to 0.0 in labels with no predicted samples. Use `zero_division` parameter to control this behavior.\n",
      "  _warn_prf(average, modifier, msg_start, len(result))\n"
     ]
    }
   ],
   "source": [
    "#classification report\n",
    "y_predict = svm_si.fit(Ftrain, Ltrain).predict(Ftest)\n",
    "class_names = target.unique()\n",
    "print(classification_report(Ltest, y_predict, target_names=class_names))\n",
    "print(confusion_matrix(Ltest, y_predict))"
   ]
  },
  {
   "cell_type": "markdown",
   "id": "f985c500",
   "metadata": {},
   "source": [
    "# Bernouli Naive bayes on RGB data"
   ]
  },
  {
   "cell_type": "code",
   "execution_count": 14,
   "id": "75a3f18f",
   "metadata": {},
   "outputs": [
    {
     "data": {
      "text/plain": [
       "0.3804609563123495"
      ]
     },
     "execution_count": 14,
     "metadata": {},
     "output_type": "execute_result"
    }
   ],
   "source": [
    "from sklearn.naive_bayes import BernoulliNB\n",
    "from sklearn import metrics\n",
    "bnb = BernoulliNB()\n",
    "bnb.fit(Ftrain, Ltrain)\n",
    "y_pred = bnb.predict(Ftest)\n",
    "metrics.accuracy_score(Ltest, y_pred)"
   ]
  },
  {
   "cell_type": "code",
   "execution_count": 15,
   "id": "694c01aa",
   "metadata": {},
   "outputs": [
    {
     "name": "stdout",
     "output_type": "stream",
     "text": [
      "                               precision    recall  f1-score   support\n",
      "\n",
      "               bacterial_spot       0.24      0.90      0.38       345\n",
      "                 early_blight       0.25      0.19      0.22       153\n",
      "                      healthy       0.27      0.25      0.26       234\n",
      "                  late_blight       1.00      0.11      0.19       309\n",
      "                    leaf_mold       0.37      0.07      0.12       145\n",
      "           septoria_leaf_spot       0.30      0.11      0.16       293\n",
      "                  target_spot       0.36      0.05      0.09       240\n",
      "          tomato_mosaic_virus       0.00      0.00      0.00        54\n",
      "tomato_yellow_leaf_curl_virus       0.72      0.62      0.66       854\n",
      "      two-spotted_spider_mite       0.26      0.33      0.29       280\n",
      "\n",
      "                     accuracy                           0.38      2907\n",
      "                    macro avg       0.38      0.26      0.24      2907\n",
      "                 weighted avg       0.49      0.38      0.35      2907\n",
      "\n",
      "[[310   0   7   0   1   0   0   0   7  20]\n",
      " [ 47  29  18   0   3  11   0   0  25  20]\n",
      " [123   6  59   0   0   7   0   0  14  25]\n",
      " [158  38  10  33   6  10   1   1  32  20]\n",
      " [ 88  10   5   0  10  12   0   0   9  11]\n",
      " [120  29  34   0   6  32   4   4  27  37]\n",
      " [126   1  35   0   0  10  12   1  22  33]\n",
      " [ 13   0   5   0   1   7   3   0   9  16]\n",
      " [187   1  32   0   0  16  10   0 528  80]\n",
      " [104   0  17   0   0   2   3   0  61  93]]\n"
     ]
    }
   ],
   "source": [
    "class_names = target.unique()\n",
    "print(classification_report(Ltest, y_pred, target_names=class_names))\n",
    "print(confusion_matrix(Ltest, y_pred))"
   ]
  },
  {
   "cell_type": "markdown",
   "id": "67dd930c",
   "metadata": {},
   "source": [
    "# Multinomial Naive bayes on RGB data"
   ]
  },
  {
   "cell_type": "code",
   "execution_count": 16,
   "id": "3b80acde",
   "metadata": {},
   "outputs": [
    {
     "data": {
      "text/plain": [
       "0.3804609563123495"
      ]
     },
     "execution_count": 16,
     "metadata": {},
     "output_type": "execute_result"
    }
   ],
   "source": [
    "from sklearn.naive_bayes import MultinomialNB\n",
    "mnb = BernoulliNB()\n",
    "mnb.fit(Ftrain, Ltrain)\n",
    "y_pred = mnb.predict(Ftest)\n",
    "metrics.accuracy_score(Ltest, y_pred)"
   ]
  },
  {
   "cell_type": "code",
   "execution_count": 17,
   "id": "d6ed705b",
   "metadata": {},
   "outputs": [
    {
     "name": "stdout",
     "output_type": "stream",
     "text": [
      "                               precision    recall  f1-score   support\n",
      "\n",
      "               bacterial_spot       0.24      0.90      0.38       345\n",
      "                 early_blight       0.25      0.19      0.22       153\n",
      "                      healthy       0.27      0.25      0.26       234\n",
      "                  late_blight       1.00      0.11      0.19       309\n",
      "                    leaf_mold       0.37      0.07      0.12       145\n",
      "           septoria_leaf_spot       0.30      0.11      0.16       293\n",
      "                  target_spot       0.36      0.05      0.09       240\n",
      "          tomato_mosaic_virus       0.00      0.00      0.00        54\n",
      "tomato_yellow_leaf_curl_virus       0.72      0.62      0.66       854\n",
      "      two-spotted_spider_mite       0.26      0.33      0.29       280\n",
      "\n",
      "                     accuracy                           0.38      2907\n",
      "                    macro avg       0.38      0.26      0.24      2907\n",
      "                 weighted avg       0.49      0.38      0.35      2907\n",
      "\n",
      "[[310   0   7   0   1   0   0   0   7  20]\n",
      " [ 47  29  18   0   3  11   0   0  25  20]\n",
      " [123   6  59   0   0   7   0   0  14  25]\n",
      " [158  38  10  33   6  10   1   1  32  20]\n",
      " [ 88  10   5   0  10  12   0   0   9  11]\n",
      " [120  29  34   0   6  32   4   4  27  37]\n",
      " [126   1  35   0   0  10  12   1  22  33]\n",
      " [ 13   0   5   0   1   7   3   0   9  16]\n",
      " [187   1  32   0   0  16  10   0 528  80]\n",
      " [104   0  17   0   0   2   3   0  61  93]]\n"
     ]
    }
   ],
   "source": [
    "class_names = target.unique()\n",
    "print(classification_report(Ltest, y_pred, target_names=class_names))\n",
    "print(confusion_matrix(Ltest, y_pred))"
   ]
  },
  {
   "cell_type": "markdown",
   "id": "0e8f617d",
   "metadata": {},
   "source": [
    "# Grayscale data"
   ]
  },
  {
   "cell_type": "code",
   "execution_count": 18,
   "id": "57a9845e",
   "metadata": {},
   "outputs": [],
   "source": [
    "#reading numpy array data\n",
    "gray_test = np.load('gray_test.npy')\n",
    "#reading csv file\n",
    "gray_df = pd.read_csv('gray_data.csv')"
   ]
  },
  {
   "cell_type": "code",
   "execution_count": 19,
   "id": "d3abef95",
   "metadata": {},
   "outputs": [],
   "source": [
    "#assigning features and target to split the data\n",
    "features = pd.DataFrame(gray_test)\n",
    "features = features.values\n",
    "target = gray_df['disease']"
   ]
  },
  {
   "cell_type": "code",
   "execution_count": 20,
   "id": "a86eb99c",
   "metadata": {},
   "outputs": [],
   "source": [
    "#splitting the data to train and test\n",
    "Ftrain,Ftest,Ltrain,Ltest=train_test_split(features,target, test_size=0.20, random_state=24)"
   ]
  },
  {
   "cell_type": "markdown",
   "id": "8bfc6d84",
   "metadata": {},
   "source": [
    "# SVM(poly) on grayscale data"
   ]
  },
  {
   "cell_type": "code",
   "execution_count": 21,
   "id": "c9665abf",
   "metadata": {},
   "outputs": [
    {
     "name": "stdout",
     "output_type": "stream",
     "text": [
      "0.5634674922600619\n"
     ]
    }
   ],
   "source": [
    "svm_poly.fit(Ftrain,Ltrain)\n",
    "y_pred = svm_poly.predict(Ftest)\n",
    "print(accuracy_score(Ltest,y_pred))"
   ]
  },
  {
   "cell_type": "code",
   "execution_count": 22,
   "id": "2456eda7",
   "metadata": {},
   "outputs": [
    {
     "name": "stdout",
     "output_type": "stream",
     "text": [
      "                               precision    recall  f1-score   support\n",
      "\n",
      "               bacterial_spot       0.46      0.70      0.55       345\n",
      "                 early_blight       0.23      0.20      0.21       153\n",
      "                      healthy       0.68      0.68      0.68       234\n",
      "                  late_blight       0.56      0.52      0.54       309\n",
      "                    leaf_mold       0.48      0.46      0.47       145\n",
      "           septoria_leaf_spot       0.48      0.41      0.44       293\n",
      "                  target_spot       0.41      0.35      0.38       240\n",
      "          tomato_mosaic_virus       0.34      0.24      0.28        54\n",
      "tomato_yellow_leaf_curl_virus       0.73      0.71      0.72       854\n",
      "      two-spotted_spider_mite       0.58      0.55      0.56       280\n",
      "\n",
      "                     accuracy                           0.56      2907\n",
      "                    macro avg       0.50      0.48      0.48      2907\n",
      "                 weighted avg       0.56      0.56      0.56      2907\n",
      "\n",
      "[[242   5  10  21   4   9   1   1  47   5]\n",
      " [ 39  30   0  15   4   7  22   0  24  12]\n",
      " [ 19   7 158   5   6  11   6   0  13   9]\n",
      " [ 24  25  11 161  11  26  13   3  25  10]\n",
      " [ 12   5   5  18  66  13   5   1  17   3]\n",
      " [ 40   7  19  24  10 121  25   8  28  11]\n",
      " [ 48  17   4   3   7  16  85   4  16  40]\n",
      " [  2   0   0   2   8   6   0  13  19   4]\n",
      " [ 77  21  19  38  15  32  23   3 609  17]\n",
      " [ 26  13   5   2   6  10  27   5  33 153]]\n"
     ]
    }
   ],
   "source": [
    "#classification report\n",
    "y_predict = svm_poly.fit(Ftrain, Ltrain).predict(Ftest)\n",
    "class_names = target.unique()\n",
    "print(classification_report(Ltest, y_predict, target_names=class_names))\n",
    "print(confusion_matrix(Ltest, y_predict))"
   ]
  },
  {
   "cell_type": "markdown",
   "id": "bd417df9",
   "metadata": {},
   "source": [
    "# SVM(RBF) on grayscale data"
   ]
  },
  {
   "cell_type": "code",
   "execution_count": 23,
   "id": "67772464",
   "metadata": {},
   "outputs": [
    {
     "name": "stdout",
     "output_type": "stream",
     "text": [
      "0.6900584795321637\n"
     ]
    }
   ],
   "source": [
    "svm_rbf.fit(Ftrain,Ltrain)\n",
    "y_pred = svm_rbf.predict(Ftest)\n",
    "print(accuracy_score(Ltest,y_pred))"
   ]
  },
  {
   "cell_type": "code",
   "execution_count": 24,
   "id": "34bbfd97",
   "metadata": {},
   "outputs": [
    {
     "name": "stdout",
     "output_type": "stream",
     "text": [
      "                               precision    recall  f1-score   support\n",
      "\n",
      "               bacterial_spot       0.78      0.73      0.75       345\n",
      "                 early_blight       0.48      0.26      0.34       153\n",
      "                      healthy       0.72      0.86      0.79       234\n",
      "                  late_blight       0.67      0.65      0.66       309\n",
      "                    leaf_mold       0.71      0.46      0.56       145\n",
      "           septoria_leaf_spot       0.64      0.57      0.60       293\n",
      "                  target_spot       0.64      0.60      0.62       240\n",
      "          tomato_mosaic_virus       1.00      0.02      0.04        54\n",
      "tomato_yellow_leaf_curl_virus       0.70      0.86      0.77       854\n",
      "      two-spotted_spider_mite       0.69      0.70      0.70       280\n",
      "\n",
      "                     accuracy                           0.69      2907\n",
      "                    macro avg       0.70      0.57      0.58      2907\n",
      "                 weighted avg       0.69      0.69      0.67      2907\n",
      "\n",
      "[[252   2   9  13   3   8   2   0  54   2]\n",
      " [ 15  40   2  20   2   5  15   0  45   9]\n",
      " [  0   2 202   4   1   5   5   0  13   2]\n",
      " [  0  16  11 201   7  21   8   0  39   6]\n",
      " [  4   4   9  11  67  17   2   0  27   4]\n",
      " [  9   4  13  27  10 168  18   0  38   6]\n",
      " [ 11   2   6   3   0  13 144   0  25  36]\n",
      " [  0   0   2   2   4   4   1   1  35   5]\n",
      " [ 31   5  22  18   1  20   6   0 734  17]\n",
      " [  2   8   4   0   0   3  25   0  41 197]]\n"
     ]
    }
   ],
   "source": [
    "#classification report\n",
    "y_predict = svm_rbf.fit(Ftrain, Ltrain).predict(Ftest)\n",
    "class_names = target.unique()\n",
    "print(classification_report(Ltest, y_predict, target_names=class_names))\n",
    "print(confusion_matrix(Ltest, y_predict))"
   ]
  },
  {
   "cell_type": "markdown",
   "id": "c1ed23e8",
   "metadata": {},
   "source": [
    "# SVM(sigmoid) on Grayscale data"
   ]
  },
  {
   "cell_type": "code",
   "execution_count": 25,
   "id": "b79e8630",
   "metadata": {},
   "outputs": [
    {
     "name": "stdout",
     "output_type": "stream",
     "text": [
      "0.2937736498108015\n"
     ]
    }
   ],
   "source": [
    "svm_si.fit(Ftrain,Ltrain)\n",
    "y_pred = svm_si.predict(Ftest)\n",
    "print(accuracy_score(Ltest,y_pred))"
   ]
  },
  {
   "cell_type": "code",
   "execution_count": 26,
   "id": "c64cd0a6",
   "metadata": {},
   "outputs": [
    {
     "name": "stdout",
     "output_type": "stream",
     "text": [
      "                               precision    recall  f1-score   support\n",
      "\n",
      "               bacterial_spot       0.00      0.00      0.00       345\n",
      "                 early_blight       0.00      0.00      0.00       153\n",
      "                      healthy       0.00      0.00      0.00       234\n",
      "                  late_blight       0.00      0.00      0.00       309\n",
      "                    leaf_mold       0.00      0.00      0.00       145\n",
      "           septoria_leaf_spot       0.00      0.00      0.00       293\n",
      "                  target_spot       0.00      0.00      0.00       240\n",
      "          tomato_mosaic_virus       0.00      0.00      0.00        54\n",
      "tomato_yellow_leaf_curl_virus       0.30      1.00      0.46       854\n",
      "      two-spotted_spider_mite       0.00      0.00      0.00       280\n",
      "\n",
      "                     accuracy                           0.29      2907\n",
      "                    macro avg       0.03      0.10      0.05      2907\n",
      "                 weighted avg       0.09      0.29      0.13      2907\n",
      "\n",
      "[[  0   0   0   0   0   0   0   0 345   0]\n",
      " [  0   0   0   0   0   0   0   0 153   0]\n",
      " [  0   0   0   0   0   0   0   0 234   0]\n",
      " [  0   0   0   0   0  33   0   0 276   0]\n",
      " [  0   0   0   0   0   0   0   0 145   0]\n",
      " [  0   0   0   0   0   0   0   0 293   0]\n",
      " [  0   0   0   0   0   1   0   0 239   0]\n",
      " [  0   0   0   0   0   0   0   0  54   0]\n",
      " [  0   0   0   0   0   0   0   0 854   0]\n",
      " [  0   0   0   0   0   0   0   0 280   0]]\n"
     ]
    },
    {
     "name": "stderr",
     "output_type": "stream",
     "text": [
      "C:\\Users\\ravic\\anaconda3\\lib\\site-packages\\sklearn\\metrics\\_classification.py:1248: UndefinedMetricWarning: Precision and F-score are ill-defined and being set to 0.0 in labels with no predicted samples. Use `zero_division` parameter to control this behavior.\n",
      "  _warn_prf(average, modifier, msg_start, len(result))\n",
      "C:\\Users\\ravic\\anaconda3\\lib\\site-packages\\sklearn\\metrics\\_classification.py:1248: UndefinedMetricWarning: Precision and F-score are ill-defined and being set to 0.0 in labels with no predicted samples. Use `zero_division` parameter to control this behavior.\n",
      "  _warn_prf(average, modifier, msg_start, len(result))\n",
      "C:\\Users\\ravic\\anaconda3\\lib\\site-packages\\sklearn\\metrics\\_classification.py:1248: UndefinedMetricWarning: Precision and F-score are ill-defined and being set to 0.0 in labels with no predicted samples. Use `zero_division` parameter to control this behavior.\n",
      "  _warn_prf(average, modifier, msg_start, len(result))\n"
     ]
    }
   ],
   "source": [
    "#classification report\n",
    "y_predict = svm_si.fit(Ftrain, Ltrain).predict(Ftest)\n",
    "class_names = target.unique()\n",
    "print(classification_report(Ltest, y_predict, target_names=class_names))\n",
    "print(confusion_matrix(Ltest, y_predict))"
   ]
  },
  {
   "cell_type": "markdown",
   "id": "8ba631c4",
   "metadata": {},
   "source": [
    "# Bernouli Naive bayes on grayscale data"
   ]
  },
  {
   "cell_type": "code",
   "execution_count": 27,
   "id": "f9c1d1df",
   "metadata": {},
   "outputs": [
    {
     "data": {
      "text/plain": [
       "0.3013415892672859"
      ]
     },
     "execution_count": 27,
     "metadata": {},
     "output_type": "execute_result"
    }
   ],
   "source": [
    "bnb.fit(Ftrain, Ltrain)\n",
    "y_pred = bnb.predict(Ftest)\n",
    "metrics.accuracy_score(Ltest, y_pred)"
   ]
  },
  {
   "cell_type": "code",
   "execution_count": 28,
   "id": "5349d0e6",
   "metadata": {},
   "outputs": [
    {
     "name": "stdout",
     "output_type": "stream",
     "text": [
      "                               precision    recall  f1-score   support\n",
      "\n",
      "               bacterial_spot       0.00      0.00      0.00       345\n",
      "                 early_blight       0.00      0.00      0.00       153\n",
      "                      healthy       0.00      0.00      0.00       234\n",
      "                  late_blight       1.00      0.07      0.13       309\n",
      "                    leaf_mold       0.00      0.00      0.00       145\n",
      "           septoria_leaf_spot       0.00      0.00      0.00       293\n",
      "                  target_spot       0.00      0.00      0.00       240\n",
      "          tomato_mosaic_virus       0.00      0.00      0.00        54\n",
      "tomato_yellow_leaf_curl_virus       0.30      1.00      0.46       854\n",
      "      two-spotted_spider_mite       0.00      0.00      0.00       280\n",
      "\n",
      "                     accuracy                           0.30      2907\n",
      "                    macro avg       0.13      0.11      0.06      2907\n",
      "                 weighted avg       0.19      0.30      0.15      2907\n",
      "\n",
      "[[  0   0   0   0   0   0   0   0 345   0]\n",
      " [  0   0   0   0   0   1   0   0 152   0]\n",
      " [  0   0   0   0   0   0   0   0 234   0]\n",
      " [  0   0   0  22   2   0   0   9 275   1]\n",
      " [  0   0   0   0   0   0   0   0 145   0]\n",
      " [  2   0   0   0   0   0   0   0 291   0]\n",
      " [  0   0   0   0   0   0   0   0 240   0]\n",
      " [  0   0   0   0   0   0   0   0  54   0]\n",
      " [  0   0   0   0   0   0   0   0 854   0]\n",
      " [  0   0   0   0   0   0   0   0 280   0]]\n"
     ]
    },
    {
     "name": "stderr",
     "output_type": "stream",
     "text": [
      "C:\\Users\\ravic\\anaconda3\\lib\\site-packages\\sklearn\\metrics\\_classification.py:1248: UndefinedMetricWarning: Precision and F-score are ill-defined and being set to 0.0 in labels with no predicted samples. Use `zero_division` parameter to control this behavior.\n",
      "  _warn_prf(average, modifier, msg_start, len(result))\n",
      "C:\\Users\\ravic\\anaconda3\\lib\\site-packages\\sklearn\\metrics\\_classification.py:1248: UndefinedMetricWarning: Precision and F-score are ill-defined and being set to 0.0 in labels with no predicted samples. Use `zero_division` parameter to control this behavior.\n",
      "  _warn_prf(average, modifier, msg_start, len(result))\n",
      "C:\\Users\\ravic\\anaconda3\\lib\\site-packages\\sklearn\\metrics\\_classification.py:1248: UndefinedMetricWarning: Precision and F-score are ill-defined and being set to 0.0 in labels with no predicted samples. Use `zero_division` parameter to control this behavior.\n",
      "  _warn_prf(average, modifier, msg_start, len(result))\n"
     ]
    }
   ],
   "source": [
    "class_names = target.unique()\n",
    "print(classification_report(Ltest, y_pred, target_names=class_names))\n",
    "print(confusion_matrix(Ltest, y_pred))"
   ]
  },
  {
   "cell_type": "markdown",
   "id": "20b31faf",
   "metadata": {},
   "source": [
    "# Multinomial Naive bayes on Grayscale data"
   ]
  },
  {
   "cell_type": "code",
   "execution_count": 29,
   "id": "5bf3d424",
   "metadata": {},
   "outputs": [
    {
     "data": {
      "text/plain": [
       "0.3013415892672859"
      ]
     },
     "execution_count": 29,
     "metadata": {},
     "output_type": "execute_result"
    }
   ],
   "source": [
    "mnb.fit(Ftrain, Ltrain)\n",
    "y_pred = mnb.predict(Ftest)\n",
    "metrics.accuracy_score(Ltest, y_pred)"
   ]
  },
  {
   "cell_type": "code",
   "execution_count": 30,
   "id": "6ed85664",
   "metadata": {},
   "outputs": [
    {
     "name": "stdout",
     "output_type": "stream",
     "text": [
      "                               precision    recall  f1-score   support\n",
      "\n",
      "               bacterial_spot       0.00      0.00      0.00       345\n",
      "                 early_blight       0.00      0.00      0.00       153\n",
      "                      healthy       0.00      0.00      0.00       234\n",
      "                  late_blight       1.00      0.07      0.13       309\n",
      "                    leaf_mold       0.00      0.00      0.00       145\n",
      "           septoria_leaf_spot       0.00      0.00      0.00       293\n",
      "                  target_spot       0.00      0.00      0.00       240\n",
      "          tomato_mosaic_virus       0.00      0.00      0.00        54\n",
      "tomato_yellow_leaf_curl_virus       0.30      1.00      0.46       854\n",
      "      two-spotted_spider_mite       0.00      0.00      0.00       280\n",
      "\n",
      "                     accuracy                           0.30      2907\n",
      "                    macro avg       0.13      0.11      0.06      2907\n",
      "                 weighted avg       0.19      0.30      0.15      2907\n",
      "\n",
      "[[  0   0   0   0   0   0   0   0 345   0]\n",
      " [  0   0   0   0   0   1   0   0 152   0]\n",
      " [  0   0   0   0   0   0   0   0 234   0]\n",
      " [  0   0   0  22   2   0   0   9 275   1]\n",
      " [  0   0   0   0   0   0   0   0 145   0]\n",
      " [  2   0   0   0   0   0   0   0 291   0]\n",
      " [  0   0   0   0   0   0   0   0 240   0]\n",
      " [  0   0   0   0   0   0   0   0  54   0]\n",
      " [  0   0   0   0   0   0   0   0 854   0]\n",
      " [  0   0   0   0   0   0   0   0 280   0]]\n"
     ]
    },
    {
     "name": "stderr",
     "output_type": "stream",
     "text": [
      "C:\\Users\\ravic\\anaconda3\\lib\\site-packages\\sklearn\\metrics\\_classification.py:1248: UndefinedMetricWarning: Precision and F-score are ill-defined and being set to 0.0 in labels with no predicted samples. Use `zero_division` parameter to control this behavior.\n",
      "  _warn_prf(average, modifier, msg_start, len(result))\n",
      "C:\\Users\\ravic\\anaconda3\\lib\\site-packages\\sklearn\\metrics\\_classification.py:1248: UndefinedMetricWarning: Precision and F-score are ill-defined and being set to 0.0 in labels with no predicted samples. Use `zero_division` parameter to control this behavior.\n",
      "  _warn_prf(average, modifier, msg_start, len(result))\n",
      "C:\\Users\\ravic\\anaconda3\\lib\\site-packages\\sklearn\\metrics\\_classification.py:1248: UndefinedMetricWarning: Precision and F-score are ill-defined and being set to 0.0 in labels with no predicted samples. Use `zero_division` parameter to control this behavior.\n",
      "  _warn_prf(average, modifier, msg_start, len(result))\n"
     ]
    }
   ],
   "source": [
    "class_names = target.unique()\n",
    "print(classification_report(Ltest, y_pred, target_names=class_names))\n",
    "print(confusion_matrix(Ltest, y_pred))"
   ]
  },
  {
   "cell_type": "markdown",
   "id": "6f5719a1",
   "metadata": {},
   "source": [
    "# Red Channel data"
   ]
  },
  {
   "cell_type": "code",
   "execution_count": 31,
   "id": "5f8b0e11",
   "metadata": {},
   "outputs": [],
   "source": [
    "#reading numpy array data\n",
    "red_test = np.load('red_data.npy')\n",
    "#reading csv file\n",
    "red_df = pd.read_csv('red_data.csv')\n",
    "#assigning features and target to split the data\n",
    "features = pd.DataFrame(red_test)\n",
    "features = features.values\n",
    "target = red_df['disease']\n",
    "#splitting the data to train and test\n",
    "Ftrain,Ftest,Ltrain,Ltest=train_test_split(features,target, test_size=0.20, random_state=24)"
   ]
  },
  {
   "cell_type": "markdown",
   "id": "c81dd4d2",
   "metadata": {},
   "source": [
    "# SVM(poly) on Red data"
   ]
  },
  {
   "cell_type": "code",
   "execution_count": 32,
   "id": "a9cb2e28",
   "metadata": {},
   "outputs": [
    {
     "name": "stdout",
     "output_type": "stream",
     "text": [
      "0.5827313381492948\n"
     ]
    }
   ],
   "source": [
    "svm_poly.fit(Ftrain,Ltrain)\n",
    "y_pred = svm_poly.predict(Ftest)\n",
    "print(accuracy_score(Ltest,y_pred))"
   ]
  },
  {
   "cell_type": "code",
   "execution_count": 33,
   "id": "35b2ceaf",
   "metadata": {},
   "outputs": [
    {
     "name": "stdout",
     "output_type": "stream",
     "text": [
      "                               precision    recall  f1-score   support\n",
      "\n",
      "               bacterial_spot       0.52      0.71      0.60       345\n",
      "                 early_blight       0.20      0.15      0.17       153\n",
      "                      healthy       0.66      0.71      0.68       234\n",
      "                  late_blight       0.56      0.52      0.54       309\n",
      "                    leaf_mold       0.52      0.46      0.49       145\n",
      "           septoria_leaf_spot       0.49      0.44      0.46       293\n",
      "                  target_spot       0.45      0.44      0.45       240\n",
      "          tomato_mosaic_virus       0.40      0.31      0.35        54\n",
      "tomato_yellow_leaf_curl_virus       0.74      0.73      0.73       854\n",
      "      two-spotted_spider_mite       0.59      0.57      0.58       280\n",
      "\n",
      "                     accuracy                           0.58      2907\n",
      "                    macro avg       0.51      0.50      0.51      2907\n",
      "                 weighted avg       0.58      0.58      0.58      2907\n",
      "\n",
      "[[244   9   6  19   2   9   2   1  52   1]\n",
      " [ 36  23   0  15   3   8  21   0  33  14]\n",
      " [ 16   3 165  10   3  10   8   0  13   6]\n",
      " [ 24  25  15 162   6  28  13   4  22  10]\n",
      " [  9   6   9  17  66  13   3   3  18   1]\n",
      " [ 29   9  22  30   9 129  23   7  23  12]\n",
      " [ 29  17   3   3   6  19 105   2  15  41]\n",
      " [  2   0   0   2   6   2   0  17  19   6]\n",
      " [ 63  14  25  27  23  30  23   4 624  21]\n",
      " [ 17  10   5   3   3  16  33   5  29 159]]\n"
     ]
    }
   ],
   "source": [
    "#classification report\n",
    "y_predict = svm_poly.fit(Ftrain, Ltrain).predict(Ftest)\n",
    "class_names = target.unique()\n",
    "print(classification_report(Ltest, y_predict, target_names=class_names))\n",
    "print(confusion_matrix(Ltest, y_predict))"
   ]
  },
  {
   "cell_type": "markdown",
   "id": "bcdfb873",
   "metadata": {},
   "source": [
    "# SVM(RBF) on Red data"
   ]
  },
  {
   "cell_type": "code",
   "execution_count": 34,
   "id": "5e806290",
   "metadata": {},
   "outputs": [
    {
     "name": "stdout",
     "output_type": "stream",
     "text": [
      "0.6869625042999656\n"
     ]
    }
   ],
   "source": [
    "svm_rbf.fit(Ftrain,Ltrain)\n",
    "y_pred = svm_rbf.predict(Ftest)\n",
    "print(accuracy_score(Ltest,y_pred))"
   ]
  },
  {
   "cell_type": "code",
   "execution_count": 35,
   "id": "e613add4",
   "metadata": {},
   "outputs": [
    {
     "name": "stdout",
     "output_type": "stream",
     "text": [
      "                               precision    recall  f1-score   support\n",
      "\n",
      "               bacterial_spot       0.76      0.75      0.76       345\n",
      "                 early_blight       0.43      0.21      0.28       153\n",
      "                      healthy       0.73      0.84      0.78       234\n",
      "                  late_blight       0.66      0.67      0.66       309\n",
      "                    leaf_mold       0.66      0.46      0.54       145\n",
      "           septoria_leaf_spot       0.63      0.50      0.56       293\n",
      "                  target_spot       0.62      0.61      0.61       240\n",
      "          tomato_mosaic_virus       0.33      0.02      0.04        54\n",
      "tomato_yellow_leaf_curl_virus       0.71      0.86      0.78       854\n",
      "      two-spotted_spider_mite       0.68      0.72      0.70       280\n",
      "\n",
      "                     accuracy                           0.69      2907\n",
      "                    macro avg       0.62      0.57      0.57      2907\n",
      "                 weighted avg       0.67      0.69      0.67      2907\n",
      "\n",
      "[[260   1   8  18   0   5   2   0  51   0]\n",
      " [ 27  32   1  22   1   9  15   0  38   8]\n",
      " [  1   2 197   4   4   5   2   0  17   2]\n",
      " [  3  15  11 207   7  21  10   0  31   4]\n",
      " [  4   5   9  16  67  15   2   0  26   1]\n",
      " [  8   6  13  28   9 147  26   1  40  15]\n",
      " [  9   5   5   3   1   9 146   0  21  41]\n",
      " [  0   0   0   2   2   0   0   1  40   9]\n",
      " [ 27   5  21  14  10  17   4   1 738  17]\n",
      " [  4   4   4   2   0   5  28   0  31 202]]\n"
     ]
    }
   ],
   "source": [
    "#classification report\n",
    "y_predict = svm_rbf.fit(Ftrain, Ltrain).predict(Ftest)\n",
    "class_names = target.unique()\n",
    "print(classification_report(Ltest, y_predict, target_names=class_names))\n",
    "print(confusion_matrix(Ltest, y_predict))"
   ]
  },
  {
   "cell_type": "markdown",
   "id": "558a44ca",
   "metadata": {},
   "source": [
    "# SVM(sigmoid) on Red data"
   ]
  },
  {
   "cell_type": "code",
   "execution_count": 36,
   "id": "dfde7ca8",
   "metadata": {},
   "outputs": [
    {
     "name": "stdout",
     "output_type": "stream",
     "text": [
      "0.2899896800825593\n"
     ]
    }
   ],
   "source": [
    "svm_si.fit(Ftrain,Ltrain)\n",
    "y_pred = svm_si.predict(Ftest)\n",
    "print(accuracy_score(Ltest,y_pred))"
   ]
  },
  {
   "cell_type": "code",
   "execution_count": 37,
   "id": "b58142f8",
   "metadata": {},
   "outputs": [
    {
     "name": "stdout",
     "output_type": "stream",
     "text": [
      "                               precision    recall  f1-score   support\n",
      "\n",
      "               bacterial_spot       0.00      0.00      0.00       345\n",
      "                 early_blight       0.00      0.00      0.00       153\n",
      "                      healthy       0.00      0.00      0.00       234\n",
      "                  late_blight       0.00      0.00      0.00       309\n",
      "                    leaf_mold       0.00      0.00      0.00       145\n",
      "           septoria_leaf_spot       0.00      0.00      0.00       293\n",
      "                  target_spot       0.00      0.00      0.00       240\n",
      "          tomato_mosaic_virus       0.00      0.00      0.00        54\n",
      "tomato_yellow_leaf_curl_virus       0.30      0.99      0.45       854\n",
      "      two-spotted_spider_mite       0.00      0.00      0.00       280\n",
      "\n",
      "                     accuracy                           0.29      2907\n",
      "                    macro avg       0.03      0.10      0.05      2907\n",
      "                 weighted avg       0.09      0.29      0.13      2907\n",
      "\n",
      "[[  0   0   0   0   0   0   0   0 345   0]\n",
      " [  0   0   0   0   0   0   0   0 153   0]\n",
      " [  0   0   0   0   0   2   0   0 232   0]\n",
      " [  0   0   0   0   0  33   0   0 276   0]\n",
      " [  1   0   0   0   0   3   0   0 141   0]\n",
      " [  0   0   0   0   0   0   0   0 293   0]\n",
      " [  0   0   0   0   0   1   0   0 239   0]\n",
      " [  0   0   0   0   0   0   0   0  54   0]\n",
      " [  4   0   0   0   0   7   0   0 843   0]\n",
      " [  0   0   0   0   0   0   0   0 280   0]]\n"
     ]
    },
    {
     "name": "stderr",
     "output_type": "stream",
     "text": [
      "C:\\Users\\ravic\\anaconda3\\lib\\site-packages\\sklearn\\metrics\\_classification.py:1248: UndefinedMetricWarning: Precision and F-score are ill-defined and being set to 0.0 in labels with no predicted samples. Use `zero_division` parameter to control this behavior.\n",
      "  _warn_prf(average, modifier, msg_start, len(result))\n",
      "C:\\Users\\ravic\\anaconda3\\lib\\site-packages\\sklearn\\metrics\\_classification.py:1248: UndefinedMetricWarning: Precision and F-score are ill-defined and being set to 0.0 in labels with no predicted samples. Use `zero_division` parameter to control this behavior.\n",
      "  _warn_prf(average, modifier, msg_start, len(result))\n",
      "C:\\Users\\ravic\\anaconda3\\lib\\site-packages\\sklearn\\metrics\\_classification.py:1248: UndefinedMetricWarning: Precision and F-score are ill-defined and being set to 0.0 in labels with no predicted samples. Use `zero_division` parameter to control this behavior.\n",
      "  _warn_prf(average, modifier, msg_start, len(result))\n"
     ]
    }
   ],
   "source": [
    "#classification report\n",
    "y_predict = svm_si.fit(Ftrain, Ltrain).predict(Ftest)\n",
    "class_names = target.unique()\n",
    "print(classification_report(Ltest, y_predict, target_names=class_names))\n",
    "print(confusion_matrix(Ltest, y_predict))"
   ]
  },
  {
   "cell_type": "markdown",
   "id": "5a175c93",
   "metadata": {},
   "source": [
    "# Bernouli Naive bayes on Red data"
   ]
  },
  {
   "cell_type": "code",
   "execution_count": 38,
   "id": "d65fa897",
   "metadata": {},
   "outputs": [
    {
     "data": {
      "text/plain": [
       "0.3068455452356381"
      ]
     },
     "execution_count": 38,
     "metadata": {},
     "output_type": "execute_result"
    }
   ],
   "source": [
    "bnb.fit(Ftrain, Ltrain)\n",
    "y_pred = bnb.predict(Ftest)\n",
    "metrics.accuracy_score(Ltest, y_pred)"
   ]
  },
  {
   "cell_type": "code",
   "execution_count": 39,
   "id": "bdadbf8a",
   "metadata": {},
   "outputs": [
    {
     "name": "stdout",
     "output_type": "stream",
     "text": [
      "                               precision    recall  f1-score   support\n",
      "\n",
      "               bacterial_spot       0.01      0.00      0.00       345\n",
      "                 early_blight       0.19      0.04      0.07       153\n",
      "                      healthy       0.14      0.03      0.04       234\n",
      "                  late_blight       1.00      0.11      0.19       309\n",
      "                    leaf_mold       0.00      0.00      0.00       145\n",
      "           septoria_leaf_spot       0.28      0.05      0.09       293\n",
      "                  target_spot       0.21      0.05      0.08       240\n",
      "          tomato_mosaic_virus       0.11      0.06      0.07        54\n",
      "tomato_yellow_leaf_curl_virus       0.32      0.96      0.48       854\n",
      "      two-spotted_spider_mite       0.00      0.00      0.00       280\n",
      "\n",
      "                     accuracy                           0.31      2907\n",
      "                    macro avg       0.23      0.13      0.10      2907\n",
      "                 weighted avg       0.27      0.31      0.19      2907\n",
      "\n",
      "[[  1   0   0   0   0   0   0   0 344   0]\n",
      " [  9   6   7   0   1   7   2   2 117   2]\n",
      " [ 14   0   6   0   0   5   5   0 201   3]\n",
      " [ 20   2   6  33   1   5   2   0 237   3]\n",
      " [ 11   1   1   0   0   4   2   0 125   1]\n",
      " [ 17  14   9   0   4  15   7  14 210   3]\n",
      " [ 11   2   6   0   0   6  12   4 195   4]\n",
      " [  5   1   5   0   1   8   9   3  21   1]\n",
      " [  4   4   3   0   2   3  14   5 816   3]\n",
      " [  2   1   0   0   1   0   5   0 271   0]]\n"
     ]
    }
   ],
   "source": [
    "class_names = target.unique()\n",
    "print(classification_report(Ltest, y_pred, target_names=class_names))\n",
    "print(confusion_matrix(Ltest, y_pred))"
   ]
  },
  {
   "cell_type": "markdown",
   "id": "39255a27",
   "metadata": {},
   "source": [
    "# Multinomial Naive bayes on Red data"
   ]
  },
  {
   "cell_type": "code",
   "execution_count": 40,
   "id": "437843bc",
   "metadata": {},
   "outputs": [
    {
     "data": {
      "text/plain": [
       "0.3068455452356381"
      ]
     },
     "execution_count": 40,
     "metadata": {},
     "output_type": "execute_result"
    }
   ],
   "source": [
    "mnb.fit(Ftrain, Ltrain)\n",
    "y_pred = mnb.predict(Ftest)\n",
    "metrics.accuracy_score(Ltest, y_pred)"
   ]
  },
  {
   "cell_type": "code",
   "execution_count": 41,
   "id": "2bcb0431",
   "metadata": {},
   "outputs": [
    {
     "name": "stdout",
     "output_type": "stream",
     "text": [
      "                               precision    recall  f1-score   support\n",
      "\n",
      "               bacterial_spot       0.01      0.00      0.00       345\n",
      "                 early_blight       0.19      0.04      0.07       153\n",
      "                      healthy       0.14      0.03      0.04       234\n",
      "                  late_blight       1.00      0.11      0.19       309\n",
      "                    leaf_mold       0.00      0.00      0.00       145\n",
      "           septoria_leaf_spot       0.28      0.05      0.09       293\n",
      "                  target_spot       0.21      0.05      0.08       240\n",
      "          tomato_mosaic_virus       0.11      0.06      0.07        54\n",
      "tomato_yellow_leaf_curl_virus       0.32      0.96      0.48       854\n",
      "      two-spotted_spider_mite       0.00      0.00      0.00       280\n",
      "\n",
      "                     accuracy                           0.31      2907\n",
      "                    macro avg       0.23      0.13      0.10      2907\n",
      "                 weighted avg       0.27      0.31      0.19      2907\n",
      "\n",
      "[[  1   0   0   0   0   0   0   0 344   0]\n",
      " [  9   6   7   0   1   7   2   2 117   2]\n",
      " [ 14   0   6   0   0   5   5   0 201   3]\n",
      " [ 20   2   6  33   1   5   2   0 237   3]\n",
      " [ 11   1   1   0   0   4   2   0 125   1]\n",
      " [ 17  14   9   0   4  15   7  14 210   3]\n",
      " [ 11   2   6   0   0   6  12   4 195   4]\n",
      " [  5   1   5   0   1   8   9   3  21   1]\n",
      " [  4   4   3   0   2   3  14   5 816   3]\n",
      " [  2   1   0   0   1   0   5   0 271   0]]\n"
     ]
    }
   ],
   "source": [
    "class_names = target.unique()\n",
    "print(classification_report(Ltest, y_pred, target_names=class_names))\n",
    "print(confusion_matrix(Ltest, y_pred))"
   ]
  },
  {
   "cell_type": "markdown",
   "id": "11e4cd00",
   "metadata": {},
   "source": [
    "# Green channel data"
   ]
  },
  {
   "cell_type": "code",
   "execution_count": 42,
   "id": "40feb467",
   "metadata": {},
   "outputs": [],
   "source": [
    "#reading numpy array data\n",
    "green_test = np.load('green_data.npy')\n",
    "#reading csv file\n",
    "green_df = pd.read_csv('green_data.csv')\n",
    "#assigning features and target to split the data\n",
    "features = pd.DataFrame(green_test)\n",
    "features = features.values\n",
    "target = green_df['disease']\n",
    "#splitting the data to train and test\n",
    "Ftrain,Ftest,Ltrain,Ltest=train_test_split(features,target, test_size=0.20, random_state=24)"
   ]
  },
  {
   "cell_type": "markdown",
   "id": "9aa0bc22",
   "metadata": {},
   "source": [
    "# SVM(poly) on green data"
   ]
  },
  {
   "cell_type": "code",
   "execution_count": 43,
   "id": "fe39c65e",
   "metadata": {},
   "outputs": [
    {
     "name": "stdout",
     "output_type": "stream",
     "text": [
      "0.5521155830753354\n"
     ]
    }
   ],
   "source": [
    "svm_poly.fit(Ftrain,Ltrain)\n",
    "y_pred = svm_poly.predict(Ftest)\n",
    "print(accuracy_score(Ltest,y_pred))"
   ]
  },
  {
   "cell_type": "code",
   "execution_count": 44,
   "id": "8423b846",
   "metadata": {},
   "outputs": [
    {
     "name": "stdout",
     "output_type": "stream",
     "text": [
      "                               precision    recall  f1-score   support\n",
      "\n",
      "               bacterial_spot       0.46      0.70      0.55       345\n",
      "                 early_blight       0.26      0.24      0.25       153\n",
      "                      healthy       0.63      0.61      0.62       234\n",
      "                  late_blight       0.55      0.53      0.54       309\n",
      "                    leaf_mold       0.45      0.49      0.47       145\n",
      "           septoria_leaf_spot       0.46      0.37      0.41       293\n",
      "                  target_spot       0.40      0.33      0.36       240\n",
      "          tomato_mosaic_virus       0.33      0.26      0.29        54\n",
      "tomato_yellow_leaf_curl_virus       0.73      0.71      0.72       854\n",
      "      two-spotted_spider_mite       0.58      0.51      0.54       280\n",
      "\n",
      "                     accuracy                           0.55      2907\n",
      "                    macro avg       0.48      0.47      0.48      2907\n",
      "                 weighted avg       0.55      0.55      0.55      2907\n",
      "\n",
      "[[241   7   8  22   5   7   1   1  48   5]\n",
      " [ 36  37   0  14   7   2  19   0  27  11]\n",
      " [ 23   4 142   8   6  11  12   1  18   9]\n",
      " [ 25  25  11 163  12  20  14   3  25  11]\n",
      " [  8   6   6  17  71  14   5   2  12   4]\n",
      " [ 42   7  21  31  18 107  21   5  33   8]\n",
      " [ 52  23   4   2   7   9  79   2  20  42]\n",
      " [  3   0   1   4   9   8   2  14  10   3]\n",
      " [ 71  22  23  32  15  43  21   9 608  10]\n",
      " [ 27  11   8   3   8  12  26   5  37 143]]\n"
     ]
    }
   ],
   "source": [
    "#classification report\n",
    "y_predict = svm_poly.fit(Ftrain, Ltrain).predict(Ftest)\n",
    "class_names = target.unique()\n",
    "print(classification_report(Ltest, y_predict, target_names=class_names))\n",
    "print(confusion_matrix(Ltest, y_predict))"
   ]
  },
  {
   "cell_type": "markdown",
   "id": "6112d4e4",
   "metadata": {},
   "source": [
    "# SVM(RBF) on green data"
   ]
  },
  {
   "cell_type": "code",
   "execution_count": 45,
   "id": "69be936f",
   "metadata": {},
   "outputs": [
    {
     "name": "stdout",
     "output_type": "stream",
     "text": [
      "0.6965944272445821\n"
     ]
    }
   ],
   "source": [
    "svm_rbf.fit(Ftrain,Ltrain)\n",
    "y_pred = svm_rbf.predict(Ftest)\n",
    "print(accuracy_score(Ltest,y_pred))"
   ]
  },
  {
   "cell_type": "code",
   "execution_count": 46,
   "id": "81b4c571",
   "metadata": {},
   "outputs": [
    {
     "name": "stdout",
     "output_type": "stream",
     "text": [
      "                               precision    recall  f1-score   support\n",
      "\n",
      "               bacterial_spot       0.77      0.74      0.76       345\n",
      "                 early_blight       0.51      0.27      0.35       153\n",
      "                      healthy       0.77      0.86      0.81       234\n",
      "                  late_blight       0.66      0.66      0.66       309\n",
      "                    leaf_mold       0.65      0.47      0.55       145\n",
      "           septoria_leaf_spot       0.66      0.59      0.62       293\n",
      "                  target_spot       0.61      0.57      0.59       240\n",
      "          tomato_mosaic_virus       0.50      0.02      0.04        54\n",
      "tomato_yellow_leaf_curl_virus       0.72      0.88      0.79       854\n",
      "      two-spotted_spider_mite       0.69      0.68      0.68       280\n",
      "\n",
      "                     accuracy                           0.70      2907\n",
      "                    macro avg       0.65      0.57      0.58      2907\n",
      "                 weighted avg       0.69      0.70      0.68      2907\n",
      "\n",
      "[[257   1   8  15   4   4   2   0  52   2]\n",
      " [ 18  41   2  23   2   4  18   0  38   7]\n",
      " [  2   2 202   6   1   2   7   0  10   2]\n",
      " [  0  17   7 204   6  19  10   0  39   7]\n",
      " [  5   3   5  14  68  17   4   0  26   3]\n",
      " [  8   3  15  29   7 173  12   0  41   5]\n",
      " [  9   3   8   2   2  12 137   0  27  40]\n",
      " [  3   0   1   1  11  10   1   1  22   4]\n",
      " [ 26   4  12  15   3  18   8   1 752  15]\n",
      " [  4   7   3   2   0   5  27   0  42 190]]\n"
     ]
    }
   ],
   "source": [
    "#classification report\n",
    "y_predict = svm_rbf.fit(Ftrain, Ltrain).predict(Ftest)\n",
    "class_names = target.unique()\n",
    "print(classification_report(Ltest, y_predict, target_names=class_names))\n",
    "print(confusion_matrix(Ltest, y_predict))"
   ]
  },
  {
   "cell_type": "markdown",
   "id": "662d1937",
   "metadata": {},
   "source": [
    "# SVM(sigmoid) on green data"
   ]
  },
  {
   "cell_type": "code",
   "execution_count": 47,
   "id": "7f6adcca",
   "metadata": {},
   "outputs": [
    {
     "name": "stdout",
     "output_type": "stream",
     "text": [
      "0.24148606811145512\n"
     ]
    }
   ],
   "source": [
    "svm_si.fit(Ftrain,Ltrain)\n",
    "y_pred = svm_si.predict(Ftest)\n",
    "print(accuracy_score(Ltest,y_pred))"
   ]
  },
  {
   "cell_type": "code",
   "execution_count": 48,
   "id": "251d68f3",
   "metadata": {},
   "outputs": [
    {
     "name": "stdout",
     "output_type": "stream",
     "text": [
      "                               precision    recall  f1-score   support\n",
      "\n",
      "               bacterial_spot       0.06      0.05      0.05       345\n",
      "                 early_blight       0.00      0.00      0.00       153\n",
      "                      healthy       0.00      0.00      0.00       234\n",
      "                  late_blight       0.00      0.00      0.00       309\n",
      "                    leaf_mold       0.00      0.00      0.00       145\n",
      "           septoria_leaf_spot       0.00      0.00      0.00       293\n",
      "                  target_spot       0.00      0.00      0.00       240\n",
      "          tomato_mosaic_virus       0.00      0.00      0.00        54\n",
      "tomato_yellow_leaf_curl_virus       0.26      0.80      0.40       854\n",
      "      two-spotted_spider_mite       0.00      0.00      0.00       280\n",
      "\n",
      "                     accuracy                           0.24      2907\n",
      "                    macro avg       0.03      0.09      0.05      2907\n",
      "                 weighted avg       0.08      0.24      0.12      2907\n",
      "\n",
      "[[ 17   0   0   0   0   0   0   0 328   0]\n",
      " [  4   0   0   0   0   0   0   0 149   0]\n",
      " [  9   0   0   0   0   0   0   0 225   0]\n",
      " [ 27   0   0   0   0  33   0   0 249   0]\n",
      " [  2   0   0   0   0   0   0   0 143   0]\n",
      " [ 54   0   0   0   0   0   0   0 239   0]\n",
      " [  1   0   0   0   0   1   0   0 238   0]\n",
      " [  1   0   0   0   0   0   0   0  53   0]\n",
      " [169   0   0   0   0   0   0   0 685   0]\n",
      " [  1   0   0   0   0   0   0   0 279   0]]\n"
     ]
    },
    {
     "name": "stderr",
     "output_type": "stream",
     "text": [
      "C:\\Users\\ravic\\anaconda3\\lib\\site-packages\\sklearn\\metrics\\_classification.py:1248: UndefinedMetricWarning: Precision and F-score are ill-defined and being set to 0.0 in labels with no predicted samples. Use `zero_division` parameter to control this behavior.\n",
      "  _warn_prf(average, modifier, msg_start, len(result))\n",
      "C:\\Users\\ravic\\anaconda3\\lib\\site-packages\\sklearn\\metrics\\_classification.py:1248: UndefinedMetricWarning: Precision and F-score are ill-defined and being set to 0.0 in labels with no predicted samples. Use `zero_division` parameter to control this behavior.\n",
      "  _warn_prf(average, modifier, msg_start, len(result))\n",
      "C:\\Users\\ravic\\anaconda3\\lib\\site-packages\\sklearn\\metrics\\_classification.py:1248: UndefinedMetricWarning: Precision and F-score are ill-defined and being set to 0.0 in labels with no predicted samples. Use `zero_division` parameter to control this behavior.\n",
      "  _warn_prf(average, modifier, msg_start, len(result))\n"
     ]
    }
   ],
   "source": [
    "#classification report\n",
    "y_predict = svm_si.fit(Ftrain, Ltrain).predict(Ftest)\n",
    "class_names = target.unique()\n",
    "print(classification_report(Ltest, y_predict, target_names=class_names))\n",
    "print(confusion_matrix(Ltest, y_predict))"
   ]
  },
  {
   "cell_type": "markdown",
   "id": "8aa412dd",
   "metadata": {},
   "source": [
    "# Bernouli Naive bayes on green data"
   ]
  },
  {
   "cell_type": "code",
   "execution_count": 49,
   "id": "b6622b8d",
   "metadata": {},
   "outputs": [
    {
     "data": {
      "text/plain": [
       "0.31166150670794635"
      ]
     },
     "execution_count": 49,
     "metadata": {},
     "output_type": "execute_result"
    }
   ],
   "source": [
    "bnb.fit(Ftrain, Ltrain)\n",
    "y_pred = bnb.predict(Ftest)\n",
    "metrics.accuracy_score(Ltest, y_pred)"
   ]
  },
  {
   "cell_type": "code",
   "execution_count": 50,
   "id": "f3c6b16f",
   "metadata": {},
   "outputs": [
    {
     "name": "stdout",
     "output_type": "stream",
     "text": [
      "                               precision    recall  f1-score   support\n",
      "\n",
      "               bacterial_spot       0.00      0.00      0.00       345\n",
      "                 early_blight       0.09      0.01      0.02       153\n",
      "                      healthy       0.20      0.03      0.06       234\n",
      "                  late_blight       1.00      0.09      0.17       309\n",
      "                    leaf_mold       0.15      0.03      0.05       145\n",
      "           septoria_leaf_spot       0.24      0.04      0.07       293\n",
      "                  target_spot       0.00      0.00      0.00       240\n",
      "          tomato_mosaic_virus       0.00      0.00      0.00        54\n",
      "tomato_yellow_leaf_curl_virus       0.33      1.00      0.49       854\n",
      "      two-spotted_spider_mite       0.00      0.00      0.00       280\n",
      "\n",
      "                     accuracy                           0.31      2907\n",
      "                    macro avg       0.20      0.12      0.08      2907\n",
      "                 weighted avg       0.25      0.31      0.18      2907\n",
      "\n",
      "[[  0   0   0   0   0   0   0   0 345   0]\n",
      " [  7   2   9   0   7  13   2   7 103   3]\n",
      " [  8   0   8   0   0   3   1   0 213   1]\n",
      " [ 17   9   4  28   7   6   7  14 211   6]\n",
      " [  5   0   7   0   4   6   2   0 119   2]\n",
      " [ 16  11  11   0   8  11   5   0 229   2]\n",
      " [  1   1   0   0   0   0   0   0 238   0]\n",
      " [ 13   0   2   0   0   6   0   0  32   1]\n",
      " [  1   0   0   0   0   0   0   0 853   0]\n",
      " [  0   0   0   0   0   0   0   0 280   0]]\n"
     ]
    }
   ],
   "source": [
    "class_names = target.unique()\n",
    "print(classification_report(Ltest, y_pred, target_names=class_names))\n",
    "print(confusion_matrix(Ltest, y_pred))"
   ]
  },
  {
   "cell_type": "markdown",
   "id": "d144692e",
   "metadata": {},
   "source": [
    "# Multinomial Naive bayes on Green data"
   ]
  },
  {
   "cell_type": "code",
   "execution_count": 51,
   "id": "a7a34c33",
   "metadata": {},
   "outputs": [
    {
     "data": {
      "text/plain": [
       "0.31166150670794635"
      ]
     },
     "execution_count": 51,
     "metadata": {},
     "output_type": "execute_result"
    }
   ],
   "source": [
    "mnb.fit(Ftrain, Ltrain)\n",
    "y_pred = mnb.predict(Ftest)\n",
    "metrics.accuracy_score(Ltest, y_pred)"
   ]
  },
  {
   "cell_type": "code",
   "execution_count": 52,
   "id": "441ea45d",
   "metadata": {},
   "outputs": [
    {
     "name": "stdout",
     "output_type": "stream",
     "text": [
      "                               precision    recall  f1-score   support\n",
      "\n",
      "               bacterial_spot       0.00      0.00      0.00       345\n",
      "                 early_blight       0.09      0.01      0.02       153\n",
      "                      healthy       0.20      0.03      0.06       234\n",
      "                  late_blight       1.00      0.09      0.17       309\n",
      "                    leaf_mold       0.15      0.03      0.05       145\n",
      "           septoria_leaf_spot       0.24      0.04      0.07       293\n",
      "                  target_spot       0.00      0.00      0.00       240\n",
      "          tomato_mosaic_virus       0.00      0.00      0.00        54\n",
      "tomato_yellow_leaf_curl_virus       0.33      1.00      0.49       854\n",
      "      two-spotted_spider_mite       0.00      0.00      0.00       280\n",
      "\n",
      "                     accuracy                           0.31      2907\n",
      "                    macro avg       0.20      0.12      0.08      2907\n",
      "                 weighted avg       0.25      0.31      0.18      2907\n",
      "\n",
      "[[  0   0   0   0   0   0   0   0 345   0]\n",
      " [  7   2   9   0   7  13   2   7 103   3]\n",
      " [  8   0   8   0   0   3   1   0 213   1]\n",
      " [ 17   9   4  28   7   6   7  14 211   6]\n",
      " [  5   0   7   0   4   6   2   0 119   2]\n",
      " [ 16  11  11   0   8  11   5   0 229   2]\n",
      " [  1   1   0   0   0   0   0   0 238   0]\n",
      " [ 13   0   2   0   0   6   0   0  32   1]\n",
      " [  1   0   0   0   0   0   0   0 853   0]\n",
      " [  0   0   0   0   0   0   0   0 280   0]]\n"
     ]
    }
   ],
   "source": [
    "class_names = target.unique()\n",
    "print(classification_report(Ltest, y_pred, target_names=class_names))\n",
    "print(confusion_matrix(Ltest, y_pred))"
   ]
  },
  {
   "cell_type": "markdown",
   "id": "a6a80ecb",
   "metadata": {},
   "source": [
    "# Blue channel data"
   ]
  },
  {
   "cell_type": "code",
   "execution_count": 53,
   "id": "06094596",
   "metadata": {},
   "outputs": [],
   "source": [
    "#reading numpy array data\n",
    "blue_test = np.load('blue_data.npy')\n",
    "#reading csv file\n",
    "blue_df = pd.read_csv('blue_data.csv')\n",
    "#assigning features and target to split the data\n",
    "features = pd.DataFrame(blue_test)\n",
    "features = features.values\n",
    "target = blue_df['disease']\n",
    "#splitting the data to train and test\n",
    "Ftrain,Ftest,Ltrain,Ltest=train_test_split(features,target, test_size=0.20, random_state=24)"
   ]
  },
  {
   "cell_type": "markdown",
   "id": "4d40997b",
   "metadata": {},
   "source": [
    "# SVM(poly) on blue data"
   ]
  },
  {
   "cell_type": "code",
   "execution_count": 54,
   "id": "39b88095",
   "metadata": {},
   "outputs": [
    {
     "name": "stdout",
     "output_type": "stream",
     "text": [
      "0.6281389748882009\n"
     ]
    }
   ],
   "source": [
    "svm_poly.fit(Ftrain,Ltrain)\n",
    "y_pred = svm_poly.predict(Ftest)\n",
    "print(accuracy_score(Ltest,y_pred))"
   ]
  },
  {
   "cell_type": "code",
   "execution_count": 55,
   "id": "dc98d740",
   "metadata": {},
   "outputs": [
    {
     "name": "stdout",
     "output_type": "stream",
     "text": [
      "                               precision    recall  f1-score   support\n",
      "\n",
      "               bacterial_spot       0.53      0.76      0.63       345\n",
      "                 early_blight       0.19      0.18      0.18       153\n",
      "                      healthy       0.81      0.64      0.72       234\n",
      "                  late_blight       0.68      0.60      0.64       309\n",
      "                    leaf_mold       0.44      0.54      0.49       145\n",
      "           septoria_leaf_spot       0.51      0.44      0.47       293\n",
      "                  target_spot       0.47      0.42      0.45       240\n",
      "          tomato_mosaic_virus       0.44      0.26      0.33        54\n",
      "tomato_yellow_leaf_curl_virus       0.81      0.85      0.83       854\n",
      "      two-spotted_spider_mite       0.62      0.53      0.57       280\n",
      "\n",
      "                     accuracy                           0.63      2907\n",
      "                    macro avg       0.55      0.52      0.53      2907\n",
      "                 weighted avg       0.63      0.63      0.62      2907\n",
      "\n",
      "[[263   2   5  11   1   7   3   0  49   4]\n",
      " [ 37  27   1  17   5   9  15   1  31  10]\n",
      " [ 29  13 150   6   5   3  18   0   1   9]\n",
      " [ 11  39   8 186  18  15  10   0  17   5]\n",
      " [  8  12   0   7  78  17   6   3   9   5]\n",
      " [ 21  10   3  20  40 129  26   4  25  15]\n",
      " [ 44  16  12   4   9  22 102   4   3  24]\n",
      " [  3   0   0   4   6  13   0  14   6   8]\n",
      " [ 47  12   1  14   5  27   4   2 730  12]\n",
      " [ 31   8   5   4   9  12  32   4  28 147]]\n"
     ]
    }
   ],
   "source": [
    "#classification report\n",
    "y_predict = svm_poly.fit(Ftrain, Ltrain).predict(Ftest)\n",
    "class_names = target.unique()\n",
    "print(classification_report(Ltest, y_predict, target_names=class_names))\n",
    "print(confusion_matrix(Ltest, y_predict))"
   ]
  },
  {
   "cell_type": "markdown",
   "id": "5226f4f2",
   "metadata": {},
   "source": [
    "# SVM(RBF) on blue data"
   ]
  },
  {
   "cell_type": "code",
   "execution_count": 56,
   "id": "183a5680",
   "metadata": {},
   "outputs": [
    {
     "name": "stdout",
     "output_type": "stream",
     "text": [
      "0.7158582731338149\n"
     ]
    }
   ],
   "source": [
    "svm_rbf.fit(Ftrain,Ltrain)\n",
    "y_pred = svm_rbf.predict(Ftest)\n",
    "print(accuracy_score(Ltest,y_pred))"
   ]
  },
  {
   "cell_type": "code",
   "execution_count": 57,
   "id": "22270861",
   "metadata": {},
   "outputs": [
    {
     "name": "stdout",
     "output_type": "stream",
     "text": [
      "                               precision    recall  f1-score   support\n",
      "\n",
      "               bacterial_spot       0.76      0.80      0.78       345\n",
      "                 early_blight       0.40      0.22      0.29       153\n",
      "                      healthy       0.87      0.84      0.85       234\n",
      "                  late_blight       0.73      0.69      0.71       309\n",
      "                    leaf_mold       0.70      0.50      0.59       145\n",
      "           septoria_leaf_spot       0.60      0.58      0.59       293\n",
      "                  target_spot       0.56      0.58      0.57       240\n",
      "          tomato_mosaic_virus       0.44      0.20      0.28        54\n",
      "tomato_yellow_leaf_curl_virus       0.79      0.91      0.84       854\n",
      "      two-spotted_spider_mite       0.64      0.69      0.66       280\n",
      "\n",
      "                     accuracy                           0.72      2907\n",
      "                    macro avg       0.65      0.60      0.62      2907\n",
      "                 weighted avg       0.70      0.72      0.71      2907\n",
      "\n",
      "[[275   1   5   4   0   2   4   0  46   8]\n",
      " [ 17  34   1  23   1   8  20   1  40   8]\n",
      " [  3   1 197   6   1   5  15   0   1   5]\n",
      " [  2  21   6 213  10  16   9   3  21   8]\n",
      " [  2   3   0  10  73  24  10   1  12  10]\n",
      " [ 13   7   0  18  15 171  17   1  36  15]\n",
      " [ 12   7  16   6   1  18 140   3  10  27]\n",
      " [  1   0   0   5   3  17   0  11   9   8]\n",
      " [ 30   1   1   5   0  16   6   3 775  17]\n",
      " [  5   9   1   1   0   7  29   2  34 192]]\n"
     ]
    }
   ],
   "source": [
    "#classification report\n",
    "y_predict = svm_rbf.fit(Ftrain, Ltrain).predict(Ftest)\n",
    "class_names = target.unique()\n",
    "print(classification_report(Ltest, y_predict, target_names=class_names))\n",
    "print(confusion_matrix(Ltest, y_predict))"
   ]
  },
  {
   "cell_type": "markdown",
   "id": "09f47e7e",
   "metadata": {},
   "source": [
    "# SVM(sigmoid) on blue data"
   ]
  },
  {
   "cell_type": "code",
   "execution_count": 58,
   "id": "4401c844",
   "metadata": {},
   "outputs": [
    {
     "name": "stdout",
     "output_type": "stream",
     "text": [
      "0.217406260749914\n"
     ]
    }
   ],
   "source": [
    "svm_si.fit(Ftrain,Ltrain)\n",
    "y_pred = svm_si.predict(Ftest)\n",
    "print(accuracy_score(Ltest,y_pred))"
   ]
  },
  {
   "cell_type": "code",
   "execution_count": 59,
   "id": "4372e59f",
   "metadata": {},
   "outputs": [
    {
     "name": "stdout",
     "output_type": "stream",
     "text": [
      "                               precision    recall  f1-score   support\n",
      "\n",
      "               bacterial_spot       0.17      0.00      0.01       345\n",
      "                 early_blight       0.00      0.00      0.00       153\n",
      "                      healthy       0.00      0.00      0.00       234\n",
      "                  late_blight       0.00      0.00      0.00       309\n",
      "                    leaf_mold       0.00      0.00      0.00       145\n",
      "           septoria_leaf_spot       0.01      0.01      0.01       293\n",
      "                  target_spot       0.00      0.00      0.00       240\n",
      "          tomato_mosaic_virus       0.00      0.00      0.00        54\n",
      "tomato_yellow_leaf_curl_virus       0.25      0.74      0.37       854\n",
      "      two-spotted_spider_mite       0.00      0.00      0.00       280\n",
      "\n",
      "                     accuracy                           0.22      2907\n",
      "                    macro avg       0.04      0.07      0.04      2907\n",
      "                 weighted avg       0.09      0.22      0.11      2907\n",
      "\n",
      "[[  1   0   0   0   0  53   0   0 291   0]\n",
      " [  0   0   0   0   0  16   0   0 137   0]\n",
      " [  3   0   0   0   1   7   0   0 223   0]\n",
      " [  1   0  23   0  10  13   0   0 262   0]\n",
      " [  0   0   0   0   0   2   0   0 143   0]\n",
      " [  0   0   0   0   0   3   0   0 290   0]\n",
      " [  0   0   0   0   1   0   0   0 239   0]\n",
      " [  0   0   0   0   0   0   0   0  54   0]\n",
      " [  1   0   0   0  22 203   0   0 628   0]\n",
      " [  0   0   0   0   0  11   0   0 269   0]]\n"
     ]
    },
    {
     "name": "stderr",
     "output_type": "stream",
     "text": [
      "C:\\Users\\ravic\\anaconda3\\lib\\site-packages\\sklearn\\metrics\\_classification.py:1248: UndefinedMetricWarning: Precision and F-score are ill-defined and being set to 0.0 in labels with no predicted samples. Use `zero_division` parameter to control this behavior.\n",
      "  _warn_prf(average, modifier, msg_start, len(result))\n",
      "C:\\Users\\ravic\\anaconda3\\lib\\site-packages\\sklearn\\metrics\\_classification.py:1248: UndefinedMetricWarning: Precision and F-score are ill-defined and being set to 0.0 in labels with no predicted samples. Use `zero_division` parameter to control this behavior.\n",
      "  _warn_prf(average, modifier, msg_start, len(result))\n",
      "C:\\Users\\ravic\\anaconda3\\lib\\site-packages\\sklearn\\metrics\\_classification.py:1248: UndefinedMetricWarning: Precision and F-score are ill-defined and being set to 0.0 in labels with no predicted samples. Use `zero_division` parameter to control this behavior.\n",
      "  _warn_prf(average, modifier, msg_start, len(result))\n"
     ]
    }
   ],
   "source": [
    "#classification report\n",
    "y_predict = svm_si.fit(Ftrain, Ltrain).predict(Ftest)\n",
    "class_names = target.unique()\n",
    "print(classification_report(Ltest, y_predict, target_names=class_names))\n",
    "print(confusion_matrix(Ltest, y_predict))"
   ]
  },
  {
   "cell_type": "markdown",
   "id": "7401f4ab",
   "metadata": {},
   "source": [
    "# Bernouli Naive bayes on blue data"
   ]
  },
  {
   "cell_type": "code",
   "execution_count": 60,
   "id": "a8ddf84b",
   "metadata": {},
   "outputs": [
    {
     "data": {
      "text/plain": [
       "0.35741314069487445"
      ]
     },
     "execution_count": 60,
     "metadata": {},
     "output_type": "execute_result"
    }
   ],
   "source": [
    "bnb.fit(Ftrain, Ltrain)\n",
    "y_pred = bnb.predict(Ftest)\n",
    "metrics.accuracy_score(Ltest, y_pred)"
   ]
  },
  {
   "cell_type": "code",
   "execution_count": 61,
   "id": "944621bd",
   "metadata": {},
   "outputs": [
    {
     "name": "stdout",
     "output_type": "stream",
     "text": [
      "                               precision    recall  f1-score   support\n",
      "\n",
      "               bacterial_spot       0.26      0.89      0.40       345\n",
      "                 early_blight       0.14      0.13      0.14       153\n",
      "                      healthy       0.26      0.25      0.26       234\n",
      "                  late_blight       0.67      0.13      0.22       309\n",
      "                    leaf_mold       0.27      0.14      0.18       145\n",
      "           septoria_leaf_spot       0.18      0.08      0.11       293\n",
      "                  target_spot       0.17      0.08      0.11       240\n",
      "          tomato_mosaic_virus       0.09      0.02      0.03        54\n",
      "tomato_yellow_leaf_curl_virus       0.72      0.52      0.61       854\n",
      "      two-spotted_spider_mite       0.28      0.37      0.32       280\n",
      "\n",
      "                     accuracy                           0.36      2907\n",
      "                    macro avg       0.31      0.26      0.24      2907\n",
      "                 weighted avg       0.42      0.36      0.34      2907\n",
      "\n",
      "[[307   1   6   1   2   2   8   0   1  17]\n",
      " [ 45  20  13   8   5  11   8   2  23  18]\n",
      " [111  15  59   0   6   9   6   1   7  20]\n",
      " [156  37   7  41   9   6   4   3  32  14]\n",
      " [ 85  11   3   1  20   6   4   1   8   6]\n",
      " [108  31  34   0  16  23  13   3  35  30]\n",
      " [114   3  42   0   1  16  19   0  12  33]\n",
      " [ 11   1   5   0   3   7   4   1   8  14]\n",
      " [156  17  35  10   9  47  26   0 446 108]\n",
      " [ 80   2  23   0   2   3  23   0  44 103]]\n"
     ]
    }
   ],
   "source": [
    "class_names = target.unique()\n",
    "print(classification_report(Ltest, y_pred, target_names=class_names))\n",
    "print(confusion_matrix(Ltest, y_pred))"
   ]
  },
  {
   "cell_type": "markdown",
   "id": "cbf0037b",
   "metadata": {},
   "source": [
    "# Multinomial Naive bayes on blue data"
   ]
  },
  {
   "cell_type": "code",
   "execution_count": 62,
   "id": "050a9f46",
   "metadata": {},
   "outputs": [
    {
     "data": {
      "text/plain": [
       "0.35741314069487445"
      ]
     },
     "execution_count": 62,
     "metadata": {},
     "output_type": "execute_result"
    }
   ],
   "source": [
    "mnb.fit(Ftrain, Ltrain)\n",
    "y_pred = mnb.predict(Ftest)\n",
    "metrics.accuracy_score(Ltest, y_pred)"
   ]
  },
  {
   "cell_type": "code",
   "execution_count": 63,
   "id": "9a916b04",
   "metadata": {},
   "outputs": [
    {
     "name": "stdout",
     "output_type": "stream",
     "text": [
      "                               precision    recall  f1-score   support\n",
      "\n",
      "               bacterial_spot       0.26      0.89      0.40       345\n",
      "                 early_blight       0.14      0.13      0.14       153\n",
      "                      healthy       0.26      0.25      0.26       234\n",
      "                  late_blight       0.67      0.13      0.22       309\n",
      "                    leaf_mold       0.27      0.14      0.18       145\n",
      "           septoria_leaf_spot       0.18      0.08      0.11       293\n",
      "                  target_spot       0.17      0.08      0.11       240\n",
      "          tomato_mosaic_virus       0.09      0.02      0.03        54\n",
      "tomato_yellow_leaf_curl_virus       0.72      0.52      0.61       854\n",
      "      two-spotted_spider_mite       0.28      0.37      0.32       280\n",
      "\n",
      "                     accuracy                           0.36      2907\n",
      "                    macro avg       0.31      0.26      0.24      2907\n",
      "                 weighted avg       0.42      0.36      0.34      2907\n",
      "\n",
      "[[307   1   6   1   2   2   8   0   1  17]\n",
      " [ 45  20  13   8   5  11   8   2  23  18]\n",
      " [111  15  59   0   6   9   6   1   7  20]\n",
      " [156  37   7  41   9   6   4   3  32  14]\n",
      " [ 85  11   3   1  20   6   4   1   8   6]\n",
      " [108  31  34   0  16  23  13   3  35  30]\n",
      " [114   3  42   0   1  16  19   0  12  33]\n",
      " [ 11   1   5   0   3   7   4   1   8  14]\n",
      " [156  17  35  10   9  47  26   0 446 108]\n",
      " [ 80   2  23   0   2   3  23   0  44 103]]\n"
     ]
    }
   ],
   "source": [
    "class_names = target.unique()\n",
    "print(classification_report(Ltest, y_pred, target_names=class_names))\n",
    "print(confusion_matrix(Ltest, y_pred))"
   ]
  },
  {
   "cell_type": "code",
   "execution_count": 64,
   "id": "195a0b21",
   "metadata": {},
   "outputs": [
    {
     "name": "stdout",
     "output_type": "stream",
     "text": [
      "42280.56542611122\n"
     ]
    }
   ],
   "source": [
    "end_time = time.time()\n",
    "print(end_time - start_time)"
   ]
  }
 ],
 "metadata": {
  "kernelspec": {
   "display_name": "Python 3 (ipykernel)",
   "language": "python",
   "name": "python3"
  },
  "language_info": {
   "codemirror_mode": {
    "name": "ipython",
    "version": 3
   },
   "file_extension": ".py",
   "mimetype": "text/x-python",
   "name": "python",
   "nbconvert_exporter": "python",
   "pygments_lexer": "ipython3",
   "version": "3.9.7"
  }
 },
 "nbformat": 4,
 "nbformat_minor": 5
}
