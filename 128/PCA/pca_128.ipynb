{
 "cells": [
  {
   "cell_type": "code",
   "execution_count": 1,
   "id": "022c269b",
   "metadata": {},
   "outputs": [],
   "source": [
    "import pandas as pd\n",
    "import numpy as np\n",
    "import os\n",
    "from sklearn.preprocessing import StandardScaler\n",
    "from sklearn.decomposition import PCA\n",
    "from sklearn.decomposition import FastICA\n",
    "import seaborn as sns\n",
    "import matplotlib.pyplot as plt"
   ]
  },
  {
   "cell_type": "code",
   "execution_count": 2,
   "id": "5b208509",
   "metadata": {},
   "outputs": [],
   "source": [
    "os.chdir('D://DKIT//dissertation//Dataset_of_Tomato_Leaves//plantvillage//Preprocessed_data//128//vector//')"
   ]
  },
  {
   "cell_type": "markdown",
   "id": "60d3f7c2",
   "metadata": {},
   "source": [
    "# RGB data"
   ]
  },
  {
   "cell_type": "code",
   "execution_count": 3,
   "id": "389760c1",
   "metadata": {},
   "outputs": [],
   "source": [
    "#reading RGB data\n",
    "rgb_data = np.load('rgb_data.npy')"
   ]
  },
  {
   "cell_type": "code",
   "execution_count": 4,
   "id": "00a96a0d",
   "metadata": {},
   "outputs": [
    {
     "name": "stdout",
     "output_type": "stream",
     "text": [
      "(14531, 49152)\n"
     ]
    }
   ],
   "source": [
    "#printing the shape of the data\n",
    "print(rgb_data.shape)"
   ]
  },
  {
   "cell_type": "code",
   "execution_count": 5,
   "id": "5c21636a",
   "metadata": {},
   "outputs": [],
   "source": [
    "#transforming the data to dataframe\n",
    "rgb_features = pd.DataFrame(rgb_data)"
   ]
  },
  {
   "cell_type": "code",
   "execution_count": 6,
   "id": "e7a6e51c",
   "metadata": {},
   "outputs": [],
   "source": [
    "#scaling the data using standard scaling\n",
    "scaler_model = StandardScaler()\n",
    "scaled_data = scaler_model.fit_transform(rgb_features)"
   ]
  },
  {
   "cell_type": "code",
   "execution_count": null,
   "id": "043febac",
   "metadata": {},
   "outputs": [],
   "source": [
    "#using 100 components on the data\n",
    "pca_comp = PCA(n_components = 100)\n",
    "x_pca_comp = pca_comp.fit_transform(scaled_data)\n",
    "variances = pca_comp.explained_variance_ratio_\n",
    "#visualising the scree plot for the PCA\n",
    "plt.plot(list(range(1,101)),variances, 'o-')\n",
    "plt.title('Scree plot of RGB data')\n",
    "plt.xticks(range(1,101))\n",
    "plt.ylabel('Variance Explained')\n",
    "plt.xlabel('Principal Components')\n",
    "plt.show()"
   ]
  },
  {
   "cell_type": "code",
   "execution_count": null,
   "id": "50797121",
   "metadata": {},
   "outputs": [],
   "source": [
    "#using 20 components on the data\n",
    "pca_comp = PCA(n_components = 20)\n",
    "x_pca_comp = pca_comp.fit_transform(scaled_data)\n",
    "variances = pca_comp.explained_variance_ratio_\n",
    "#visualising the scree plot for the PCA\n",
    "plt.plot(list(range(1,21)),variances, 'o-')\n",
    "plt.title('Scree plot of RGB data')\n",
    "plt.xticks(range(1,21))\n",
    "plt.ylabel('Variance Explained')\n",
    "plt.xlabel('Principal Components')\n",
    "plt.show()"
   ]
  },
  {
   "cell_type": "code",
   "execution_count": null,
   "id": "5ce4db4f",
   "metadata": {},
   "outputs": [],
   "source": [
    "pca_comp = PCA(n_components = 5)\n",
    "x_pca_comp = pca_comp.fit_transform(scaled_data)\n",
    "# ICA on PCA data\n",
    "ica_comp = FastICA(n_components=5,max_iter=100)\n",
    "ica_rgb = ica_comp.fit_transform(x_pca_comp)"
   ]
  },
  {
   "cell_type": "code",
   "execution_count": null,
   "id": "b448e29b",
   "metadata": {},
   "outputs": [],
   "source": [
    "#creating column names\n",
    "cols = []\n",
    "for i in range(1,6):\n",
    "    j = []\n",
    "    j = 'component_' + str(i)\n",
    "    cols.append(j)\n",
    "#saving the data to a Dataframe\n",
    "rgb = pd.DataFrame(ica_rgb,columns = cols)"
   ]
  },
  {
   "cell_type": "markdown",
   "id": "4131e63d",
   "metadata": {},
   "source": [
    "# Grayscale data"
   ]
  },
  {
   "cell_type": "code",
   "execution_count": null,
   "id": "c6afdedb",
   "metadata": {},
   "outputs": [],
   "source": [
    "#reading grayscale data\n",
    "gray_data = np.load('gray_test.npy')\n",
    "#transforming the data to dataframe\n",
    "gray_features = pd.DataFrame(gray_data)\n",
    "#scaling the data using standard scaling\n",
    "scaled_data = scaler_model.fit_transform(gray_features)\n",
    "#using 100 components on the data\n",
    "pca_comp = PCA(n_components = 20)\n",
    "x_pca_comp = pca_comp.fit_transform(scaled_data)\n",
    "variances = pca_comp.explained_variance_ratio_\n",
    "#visualising the scree plot for the PCA\n",
    "plt.plot(list(range(1,21)),variances, 'o-')\n",
    "plt.title('Scree plot of Grayscale data')\n",
    "plt.xticks(range(1,21))\n",
    "plt.ylabel('Variance Explained')\n",
    "plt.xlabel('Principal Components')\n",
    "plt.show()"
   ]
  },
  {
   "cell_type": "code",
   "execution_count": null,
   "id": "c246a8d8",
   "metadata": {},
   "outputs": [],
   "source": [
    "pca_comp = PCA(n_components = 5)\n",
    "x_pca_comp = pca_comp.fit_transform(scaled_data)\n",
    "# ICA on PCA data\n",
    "ica_comp = FastICA(n_components=5)\n",
    "ica_gray = ica_comp.fit_transform(x_pca_comp)"
   ]
  },
  {
   "cell_type": "code",
   "execution_count": null,
   "id": "eb132588",
   "metadata": {},
   "outputs": [],
   "source": [
    "#saving the data to a Dataframe\n",
    "gray = pd.DataFrame(ica_gray,columns = cols)"
   ]
  },
  {
   "cell_type": "markdown",
   "id": "07fc475a",
   "metadata": {},
   "source": [
    "# Red channel"
   ]
  },
  {
   "cell_type": "code",
   "execution_count": null,
   "id": "92f13d07",
   "metadata": {},
   "outputs": [],
   "source": [
    "#reading Red data\n",
    "red_data = np.load('red_data.npy')\n",
    "#transforming the data to dataframe\n",
    "red_features = pd.DataFrame(red_data)\n",
    "#scaling the data using standard scaling\n",
    "scaled_data = scaler_model.fit_transform(red_features)\n",
    "#using 100 components on the data\n",
    "pca_comp = PCA(n_components = 20)\n",
    "x_pca_comp = pca_comp.fit_transform(scaled_data)\n",
    "variances = pca_comp.explained_variance_ratio_\n",
    "#visualising the scree plot for the PCA\n",
    "plt.plot(list(range(1,21)),variances, 'o-')\n",
    "plt.title('Scree plot of Red data')\n",
    "plt.xticks(range(1,21))\n",
    "plt.ylabel('Variance Explained')\n",
    "plt.xlabel('Principal Components')\n",
    "plt.show()"
   ]
  },
  {
   "cell_type": "code",
   "execution_count": null,
   "id": "f5ff8da3",
   "metadata": {},
   "outputs": [],
   "source": [
    "pca_comp = PCA(n_components = 5)\n",
    "x_pca_comp = pca_comp.fit_transform(scaled_data)\n",
    "# ICA on PCA data\n",
    "ica_comp = FastICA(n_components=5)\n",
    "ica_red = ica_comp.fit_transform(x_pca_comp)"
   ]
  },
  {
   "cell_type": "code",
   "execution_count": null,
   "id": "3ce34f02",
   "metadata": {},
   "outputs": [],
   "source": [
    "#saving the data to a Dataframe\n",
    "red = pd.DataFrame(ica_red,columns = cols)"
   ]
  },
  {
   "cell_type": "markdown",
   "id": "0025678c",
   "metadata": {},
   "source": [
    "# Green channel data"
   ]
  },
  {
   "cell_type": "code",
   "execution_count": null,
   "id": "34b87cfe",
   "metadata": {},
   "outputs": [],
   "source": [
    "#reading green data\n",
    "green_data = np.load('green_data.npy')\n",
    "#transforming the data to dataframe\n",
    "green_features = pd.DataFrame(green_data)\n",
    "#scaling the data using standard scaling\n",
    "scaled_data = scaler_model.fit_transform(green_features)\n",
    "#using 100 components on the data\n",
    "pca_comp = PCA(n_components = 20)\n",
    "x_pca_comp = pca_comp.fit_transform(scaled_data)\n",
    "variances = pca_comp.explained_variance_ratio_\n",
    "#visualising the scree plot for the PCA\n",
    "plt.plot(list(range(1,21)),variances, 'o-')\n",
    "plt.title('Scree plot of green data')\n",
    "plt.xticks(range(1,21))\n",
    "plt.ylabel('Variance Explained')\n",
    "plt.xlabel('Principal Components')\n",
    "plt.show()"
   ]
  },
  {
   "cell_type": "code",
   "execution_count": null,
   "id": "98cc22cf",
   "metadata": {},
   "outputs": [],
   "source": [
    "pca_comp = PCA(n_components = 5)\n",
    "x_pca_comp = pca_comp.fit_transform(scaled_data)\n",
    "# ICA on PCA data\n",
    "ica_comp = FastICA(n_components=5)\n",
    "ica_green = ica_comp.fit_transform(x_pca_comp)"
   ]
  },
  {
   "cell_type": "code",
   "execution_count": null,
   "id": "0b3fc2f8",
   "metadata": {},
   "outputs": [],
   "source": [
    "#saving the data to a Dataframe\n",
    "green = pd.DataFrame(ica_green,columns = cols)"
   ]
  },
  {
   "cell_type": "markdown",
   "id": "91c437a9",
   "metadata": {},
   "source": [
    "# Blue channel data"
   ]
  },
  {
   "cell_type": "code",
   "execution_count": null,
   "id": "79f6c694",
   "metadata": {},
   "outputs": [],
   "source": [
    "#reading blue data\n",
    "blue_data = np.load('blue_data.npy')\n",
    "#transforming the data to dataframe\n",
    "blue_features = pd.DataFrame(blue_data)\n",
    "#scaling the data using standard scaling\n",
    "scaled_data = scaler_model.fit_transform(blue_features)\n",
    "#using 100 components on the data\n",
    "pca_comp = PCA(n_components = 20)\n",
    "x_pca_comp = pca_comp.fit_transform(scaled_data)\n",
    "variances = pca_comp.explained_variance_ratio_\n",
    "#visualising the scree plot for the PCA\n",
    "plt.plot(list(range(1,21)),variances, 'o-')\n",
    "plt.title('Scree plot of blue data')\n",
    "plt.xticks(range(1,21))\n",
    "plt.ylabel('Variance Explained')\n",
    "plt.xlabel('Principal Components')\n",
    "plt.show()"
   ]
  },
  {
   "cell_type": "code",
   "execution_count": null,
   "id": "902148ea",
   "metadata": {},
   "outputs": [],
   "source": [
    "pca_comp = PCA(n_components = 5)\n",
    "x_pca_comp = pca_comp.fit_transform(scaled_data)\n",
    "# ICA on PCA data\n",
    "ica_comp = FastICA(n_components=5)\n",
    "ica_blue = ica_comp.fit_transform(x_pca_comp)"
   ]
  },
  {
   "cell_type": "code",
   "execution_count": null,
   "id": "2f24bdf4",
   "metadata": {},
   "outputs": [],
   "source": [
    "#saving the data to a Dataframe\n",
    "blue = pd.DataFrame(ica_blue,columns = cols)"
   ]
  },
  {
   "cell_type": "code",
   "execution_count": null,
   "id": "58459512",
   "metadata": {
    "scrolled": true
   },
   "outputs": [],
   "source": [
    "#changing the working directory\n",
    "os.chdir('D://DKIT//dissertation//Dataset_of_Tomato_Leaves//plantvillage//Preprocessed_data//128//PCA//')\n",
    "# Saving the data to the local directory\n",
    "rgb.to_csv('rgb.csv',index=False)\n",
    "gray.to_csv('gray.csv',index=False)\n",
    "red.to_csv('red.csv',index=False)\n",
    "green.to_csv('green.csv',index=False)\n",
    "blue.to_csv('blue.csv',index=False)"
   ]
  }
 ],
 "metadata": {
  "kernelspec": {
   "display_name": "Python 3 (ipykernel)",
   "language": "python",
   "name": "python3"
  },
  "language_info": {
   "codemirror_mode": {
    "name": "ipython",
    "version": 3
   },
   "file_extension": ".py",
   "mimetype": "text/x-python",
   "name": "python",
   "nbconvert_exporter": "python",
   "pygments_lexer": "ipython3",
   "version": "3.9.12"
  }
 },
 "nbformat": 4,
 "nbformat_minor": 5
}
