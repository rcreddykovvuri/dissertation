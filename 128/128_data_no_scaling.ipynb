{
 "cells": [
  {
   "cell_type": "code",
   "execution_count": 1,
   "id": "bcdb1517",
   "metadata": {},
   "outputs": [],
   "source": [
    "import numpy as np #importing numpy\n",
    "import pandas as pd #importing pandas\n",
    "import PIL #importing pillow for image processing\n",
    "from PIL import Image#importing image from pillow library\n",
    "import skimage#importing skimage library\n",
    "import os#importing os library\n",
    "import time#importing time library\n",
    "\n",
    "#Capture start time of the program\n",
    "start_time = time.time()"
   ]
  },
  {
   "cell_type": "code",
   "execution_count": 2,
   "id": "9ec45970",
   "metadata": {},
   "outputs": [],
   "source": [
    "#changing path\n",
    "os.chdir('D://DKIT//dissertation//Dataset_of_Tomato_Leaves//plantvillage//Preprocessed_data//128//vector//')"
   ]
  },
  {
   "cell_type": "markdown",
   "id": "7139bf53",
   "metadata": {},
   "source": [
    "# KNN on rgb data"
   ]
  },
  {
   "cell_type": "code",
   "execution_count": 3,
   "id": "9386938c",
   "metadata": {},
   "outputs": [],
   "source": [
    "#reading numpy array data\n",
    "rgb_test = np.load('rgb_data.npy')\n",
    "#reading csv file\n",
    "rgb_df = pd.read_csv('rgb_data.csv')"
   ]
  },
  {
   "cell_type": "code",
   "execution_count": 4,
   "id": "40f528b5",
   "metadata": {},
   "outputs": [],
   "source": [
    "loaded = []\n",
    "for i in rgb_test:\n",
    "    k = []\n",
    "    k = np.asarray(i,dtype='uint8')\n",
    "    loaded.append(k)"
   ]
  },
  {
   "cell_type": "code",
   "execution_count": 5,
   "id": "c6d5658c",
   "metadata": {},
   "outputs": [],
   "source": [
    "#assigning features and target\n",
    "features = loaded\n",
    "target = rgb_df['disease']\n",
    "#splitting the data to 80 percent and 20 percent\n",
    "from sklearn.model_selection import train_test_split\n",
    "Ftrain,Ftest,Ltrain,Ltest=train_test_split(features,target, test_size=0.20, random_state=24)"
   ]
  },
  {
   "cell_type": "code",
   "execution_count": 6,
   "id": "6f1171c6",
   "metadata": {},
   "outputs": [],
   "source": [
    "#K-Model on the data\n",
    "from sklearn.neighbors import KNeighborsClassifier\n",
    "kmodel = KNeighborsClassifier(n_neighbors=120)"
   ]
  },
  {
   "cell_type": "code",
   "execution_count": 7,
   "id": "b9fdc978",
   "metadata": {},
   "outputs": [
    {
     "name": "stdout",
     "output_type": "stream",
     "text": [
      "0.5087719298245614\n"
     ]
    }
   ],
   "source": [
    "#k-model fitting and accuracy\n",
    "kmodel.fit(Ftrain,Ltrain)\n",
    "print(kmodel.score(Ftest,Ltest))"
   ]
  },
  {
   "cell_type": "code",
   "execution_count": 8,
   "id": "1fa0433e",
   "metadata": {},
   "outputs": [],
   "source": [
    "#importing classification report and confusion matrix\n",
    "from sklearn.metrics import classification_report, confusion_matrix"
   ]
  },
  {
   "cell_type": "code",
   "execution_count": 9,
   "id": "c5085d40",
   "metadata": {},
   "outputs": [
    {
     "name": "stdout",
     "output_type": "stream",
     "text": [
      "                               precision    recall  f1-score   support\n",
      "\n",
      "               bacterial_spot       0.32      0.79      0.46       345\n",
      "                 early_blight       0.00      0.00      0.00       153\n",
      "                      healthy       0.34      0.72      0.46       234\n",
      "                  late_blight       0.43      0.38      0.40       309\n",
      "                    leaf_mold       0.68      0.47      0.56       145\n",
      "           septoria_leaf_spot       0.67      0.23      0.34       293\n",
      "                  target_spot       0.64      0.07      0.13       240\n",
      "          tomato_mosaic_virus       1.00      0.02      0.04        54\n",
      "tomato_yellow_leaf_curl_virus       0.77      0.76      0.77       854\n",
      "      two-spotted_spider_mite       0.54      0.41      0.47       280\n",
      "\n",
      "                     accuracy                           0.51      2907\n",
      "                    macro avg       0.54      0.39      0.36      2907\n",
      "                 weighted avg       0.56      0.51      0.48      2907\n",
      "\n",
      "[[274   0  38  12   0   0   0   0  20   1]\n",
      " [101   0  12   5   0   5   4   0  20   6]\n",
      " [ 33   0 168  26   1   0   0   0   2   4]\n",
      " [ 61   0  64 118  12  20   1   0  25   8]\n",
      " [ 20   0  19  24  68   0   0   0  10   4]\n",
      " [ 29   0  62  48  15  67   3   0  50  19]\n",
      " [123   0  50   4   0   4  18   0  11  30]\n",
      " [  5   0  11  15   4   0   0   1   7  11]\n",
      " [126   0  54   7   0   3   1   0 649  14]\n",
      " [ 77   0  23  16   0   1   1   0  46 116]]\n"
     ]
    },
    {
     "name": "stderr",
     "output_type": "stream",
     "text": [
      "C:\\Users\\ravic\\anaconda3\\lib\\site-packages\\sklearn\\metrics\\_classification.py:1318: UndefinedMetricWarning: Precision and F-score are ill-defined and being set to 0.0 in labels with no predicted samples. Use `zero_division` parameter to control this behavior.\n",
      "  _warn_prf(average, modifier, msg_start, len(result))\n",
      "C:\\Users\\ravic\\anaconda3\\lib\\site-packages\\sklearn\\metrics\\_classification.py:1318: UndefinedMetricWarning: Precision and F-score are ill-defined and being set to 0.0 in labels with no predicted samples. Use `zero_division` parameter to control this behavior.\n",
      "  _warn_prf(average, modifier, msg_start, len(result))\n",
      "C:\\Users\\ravic\\anaconda3\\lib\\site-packages\\sklearn\\metrics\\_classification.py:1318: UndefinedMetricWarning: Precision and F-score are ill-defined and being set to 0.0 in labels with no predicted samples. Use `zero_division` parameter to control this behavior.\n",
      "  _warn_prf(average, modifier, msg_start, len(result))\n"
     ]
    }
   ],
   "source": [
    "#printing results of the kmodel\n",
    "y_predict = kmodel.fit(Ftrain, Ltrain).predict(Ftest)\n",
    "class_names = target.unique()\n",
    "print(classification_report(Ltest, y_predict, target_names=class_names))\n",
    "print(confusion_matrix(Ltest, y_predict))"
   ]
  },
  {
   "cell_type": "markdown",
   "id": "d5c58638",
   "metadata": {},
   "source": [
    "# Logistic on rgb data"
   ]
  },
  {
   "cell_type": "code",
   "execution_count": 10,
   "id": "a84836ef",
   "metadata": {},
   "outputs": [
    {
     "name": "stdout",
     "output_type": "stream",
     "text": [
      "0.7014103887168902\n"
     ]
    }
   ],
   "source": [
    "#importing logistic data\n",
    "from sklearn.linear_model import LogisticRegression\n",
    "model=LogisticRegression(solver='lbfgs', max_iter=10000)\n",
    "model.fit(Ftrain,Ltrain)\n",
    "print(model.score(Ftest,Ltest))"
   ]
  },
  {
   "cell_type": "code",
   "execution_count": 11,
   "id": "bb13d9a1",
   "metadata": {},
   "outputs": [
    {
     "name": "stdout",
     "output_type": "stream",
     "text": [
      "                               precision    recall  f1-score   support\n",
      "\n",
      "               bacterial_spot       0.61      0.79      0.69       345\n",
      "                 early_blight       0.41      0.37      0.39       153\n",
      "                      healthy       0.71      0.65      0.68       234\n",
      "                  late_blight       0.61      0.58      0.60       309\n",
      "                    leaf_mold       0.67      0.61      0.64       145\n",
      "           septoria_leaf_spot       0.61      0.60      0.61       293\n",
      "                  target_spot       0.56      0.46      0.51       240\n",
      "          tomato_mosaic_virus       0.69      0.70      0.70        54\n",
      "tomato_yellow_leaf_curl_virus       0.91      0.91      0.91       854\n",
      "      two-spotted_spider_mite       0.65      0.67      0.66       280\n",
      "\n",
      "                     accuracy                           0.70      2907\n",
      "                    macro avg       0.64      0.63      0.64      2907\n",
      "                 weighted avg       0.70      0.70      0.70      2907\n",
      "\n",
      "[[271  13   6  20   0   8   5   0  21   1]\n",
      " [ 29  56   3  22   2   8   9   2  11  11]\n",
      " [  4  12 153  16   3  10  27   0   1   8]\n",
      " [ 27  19  15 180  14  20   3   2  12  17]\n",
      " [  5   5   3   7  88  23   2   1   5   6]\n",
      " [ 24  10   7  19  18 177  12   6  12   8]\n",
      " [ 19  10  20   9   2  23 111   2   3  41]\n",
      " [  0   0   0   0   4  10   1  38   0   1]\n",
      " [ 39   3   1  12   0   6   6   0 777  10]\n",
      " [ 25   7   6   9   1   5  21   4  14 188]]\n"
     ]
    }
   ],
   "source": [
    "#classification report\n",
    "y_predict = model.fit(Ftrain, Ltrain).predict(Ftest)\n",
    "class_names = target.unique()\n",
    "print(classification_report(Ltest, y_predict, target_names=class_names))\n",
    "print(confusion_matrix(Ltest, y_predict))"
   ]
  },
  {
   "cell_type": "markdown",
   "id": "6fe194bc",
   "metadata": {},
   "source": [
    "# SVM on RGB data"
   ]
  },
  {
   "cell_type": "code",
   "execution_count": 12,
   "id": "2427ed51",
   "metadata": {},
   "outputs": [
    {
     "name": "stdout",
     "output_type": "stream",
     "text": [
      "0.7798417612659099\n"
     ]
    }
   ],
   "source": [
    "from sklearn.svm import SVC\n",
    "from sklearn.metrics import accuracy_score\n",
    "\n",
    "clf = SVC(kernel='linear')\n",
    "clf.fit(Ftrain,Ltrain)\n",
    "y_pred = clf.predict(Ftest)\n",
    "print(accuracy_score(Ltest,y_pred))"
   ]
  },
  {
   "cell_type": "code",
   "execution_count": 13,
   "id": "bf286604",
   "metadata": {},
   "outputs": [
    {
     "name": "stdout",
     "output_type": "stream",
     "text": [
      "                               precision    recall  f1-score   support\n",
      "\n",
      "               bacterial_spot       0.72      0.86      0.78       345\n",
      "                 early_blight       0.42      0.35      0.38       153\n",
      "                      healthy       0.84      0.81      0.82       234\n",
      "                  late_blight       0.72      0.72      0.72       309\n",
      "                    leaf_mold       0.71      0.69      0.70       145\n",
      "           septoria_leaf_spot       0.74      0.74      0.74       293\n",
      "                  target_spot       0.72      0.65      0.68       240\n",
      "          tomato_mosaic_virus       0.78      0.83      0.80        54\n",
      "tomato_yellow_leaf_curl_virus       0.92      0.92      0.92       854\n",
      "      two-spotted_spider_mite       0.73      0.72      0.73       280\n",
      "\n",
      "                     accuracy                           0.78      2907\n",
      "                    macro avg       0.73      0.73      0.73      2907\n",
      "                 weighted avg       0.78      0.78      0.78      2907\n",
      "\n",
      "[[296  14   2  12   0   1   0   0  20   0]\n",
      " [ 35  54   3  23   0   6   9   0   8  15]\n",
      " [  3   5 189  14   3   5  13   0   0   2]\n",
      " [ 14  15  10 223  14  10   2   0  13   8]\n",
      " [  4   3   4   4 100  20   1   3   4   2]\n",
      " [  6   6   8   8  15 218  12   8   7   5]\n",
      " [  5  23   4   3   4  15 155   1   0  30]\n",
      " [  0   0   0   0   2   6   0  45   0   1]\n",
      " [ 40   5   0  10   0   3   1   0 785  10]\n",
      " [  8   3   5  12   3   9  22   1  15 202]]\n"
     ]
    }
   ],
   "source": [
    "#classification report\n",
    "y_predict = clf.fit(Ftrain, Ltrain).predict(Ftest)\n",
    "class_names = target.unique()\n",
    "print(classification_report(Ltest, y_predict, target_names=class_names))\n",
    "print(confusion_matrix(Ltest, y_predict))"
   ]
  },
  {
   "cell_type": "markdown",
   "id": "73bef6fa",
   "metadata": {},
   "source": [
    "# Random Forest on RGB "
   ]
  },
  {
   "cell_type": "code",
   "execution_count": 14,
   "id": "6bae5a92",
   "metadata": {},
   "outputs": [],
   "source": [
    "from sklearn.ensemble import RandomForestClassifier"
   ]
  },
  {
   "cell_type": "code",
   "execution_count": 15,
   "id": "1d08a15e",
   "metadata": {},
   "outputs": [],
   "source": [
    "classifier_rf = RandomForestClassifier(random_state=42, n_jobs=-1, max_depth=5,n_estimators=100, oob_score=True)"
   ]
  },
  {
   "cell_type": "code",
   "execution_count": 16,
   "id": "938ad007",
   "metadata": {},
   "outputs": [
    {
     "data": {
      "text/plain": [
       "RandomForestClassifier(max_depth=5, n_jobs=-1, oob_score=True, random_state=42)"
      ]
     },
     "execution_count": 16,
     "metadata": {},
     "output_type": "execute_result"
    }
   ],
   "source": [
    "classifier_rf.fit(Ftrain, Ltrain)"
   ]
  },
  {
   "cell_type": "code",
   "execution_count": 17,
   "id": "e1769cec",
   "metadata": {},
   "outputs": [
    {
     "data": {
      "text/plain": [
       "0.5524776324845148"
      ]
     },
     "execution_count": 17,
     "metadata": {},
     "output_type": "execute_result"
    }
   ],
   "source": [
    "classifier_rf.oob_score_"
   ]
  },
  {
   "cell_type": "code",
   "execution_count": 18,
   "id": "13c0682e",
   "metadata": {},
   "outputs": [
    {
     "name": "stdout",
     "output_type": "stream",
     "text": [
      "                               precision    recall  f1-score   support\n",
      "\n",
      "               bacterial_spot       0.78      0.55      0.65       345\n",
      "                 early_blight       0.00      0.00      0.00       153\n",
      "                      healthy       0.66      0.79      0.72       234\n",
      "                  late_blight       0.66      0.42      0.51       309\n",
      "                    leaf_mold       0.75      0.41      0.53       145\n",
      "           septoria_leaf_spot       0.58      0.48      0.52       293\n",
      "                  target_spot       0.49      0.28      0.36       240\n",
      "          tomato_mosaic_virus       0.00      0.00      0.00        54\n",
      "tomato_yellow_leaf_curl_virus       0.49      0.98      0.66       854\n",
      "      two-spotted_spider_mite       0.48      0.04      0.08       280\n",
      "\n",
      "                     accuracy                           0.56      2907\n",
      "                    macro avg       0.49      0.40      0.40      2907\n",
      "                 weighted avg       0.54      0.56      0.50      2907\n",
      "\n",
      "[[191   0   9  14   0   0   3   0 128   0]\n",
      " [ 13   0   5   3   0  16  12   0 101   3]\n",
      " [  2   0 186   4   1   1   3   0  35   2]\n",
      " [  3   0  28 129  10  39  12   0  87   1]\n",
      " [  5   0  17   8  59  10   2   0  44   0]\n",
      " [  4   0   5  17   7 141   2   0 117   0]\n",
      " [ 13   0  22   8   0  26  68   0  97   6]\n",
      " [  0   0   3   3   2   3   0   0  42   1]\n",
      " [  4   0   3   3   0   7   1   0 836   0]\n",
      " [ 10   0   5   6   0   2  37   0 208  12]]\n"
     ]
    },
    {
     "name": "stderr",
     "output_type": "stream",
     "text": [
      "C:\\Users\\ravic\\anaconda3\\lib\\site-packages\\sklearn\\metrics\\_classification.py:1318: UndefinedMetricWarning: Precision and F-score are ill-defined and being set to 0.0 in labels with no predicted samples. Use `zero_division` parameter to control this behavior.\n",
      "  _warn_prf(average, modifier, msg_start, len(result))\n",
      "C:\\Users\\ravic\\anaconda3\\lib\\site-packages\\sklearn\\metrics\\_classification.py:1318: UndefinedMetricWarning: Precision and F-score are ill-defined and being set to 0.0 in labels with no predicted samples. Use `zero_division` parameter to control this behavior.\n",
      "  _warn_prf(average, modifier, msg_start, len(result))\n",
      "C:\\Users\\ravic\\anaconda3\\lib\\site-packages\\sklearn\\metrics\\_classification.py:1318: UndefinedMetricWarning: Precision and F-score are ill-defined and being set to 0.0 in labels with no predicted samples. Use `zero_division` parameter to control this behavior.\n",
      "  _warn_prf(average, modifier, msg_start, len(result))\n"
     ]
    }
   ],
   "source": [
    "y_predict = classifier_rf.fit(Ftrain, Ltrain).predict(Ftest)\n",
    "class_names = target.unique()\n",
    "print(classification_report(Ltest, y_predict, target_names=class_names))\n",
    "print(confusion_matrix(Ltest, y_predict))"
   ]
  },
  {
   "cell_type": "markdown",
   "id": "b6a094e4",
   "metadata": {},
   "source": [
    "# Naive Bayes on RGB data"
   ]
  },
  {
   "cell_type": "code",
   "execution_count": 19,
   "id": "a5bc755b",
   "metadata": {},
   "outputs": [
    {
     "data": {
      "text/plain": [
       "GaussianNB()"
      ]
     },
     "execution_count": 19,
     "metadata": {},
     "output_type": "execute_result"
    }
   ],
   "source": [
    "from sklearn.naive_bayes import GaussianNB\n",
    "gnb = GaussianNB()\n",
    "gnb.fit(Ftrain, Ltrain)"
   ]
  },
  {
   "cell_type": "code",
   "execution_count": 20,
   "id": "6d162dcc",
   "metadata": {},
   "outputs": [],
   "source": [
    "y_pred = gnb.predict(Ftest)"
   ]
  },
  {
   "cell_type": "code",
   "execution_count": 21,
   "id": "8f7b4bab",
   "metadata": {},
   "outputs": [
    {
     "data": {
      "text/plain": [
       "0.4977640178878569"
      ]
     },
     "execution_count": 21,
     "metadata": {},
     "output_type": "execute_result"
    }
   ],
   "source": [
    "from sklearn import metrics\n",
    "metrics.accuracy_score(Ltest, y_pred)"
   ]
  },
  {
   "cell_type": "code",
   "execution_count": 22,
   "id": "935808af",
   "metadata": {},
   "outputs": [
    {
     "name": "stdout",
     "output_type": "stream",
     "text": [
      "                               precision    recall  f1-score   support\n",
      "\n",
      "               bacterial_spot       0.55      0.75      0.63       345\n",
      "                 early_blight       0.24      0.31      0.27       153\n",
      "                      healthy       0.39      0.67      0.49       234\n",
      "                  late_blight       0.50      0.29      0.37       309\n",
      "                    leaf_mold       0.53      0.45      0.49       145\n",
      "           septoria_leaf_spot       0.45      0.44      0.45       293\n",
      "                  target_spot       0.49      0.43      0.46       240\n",
      "          tomato_mosaic_virus       0.17      0.72      0.28        54\n",
      "tomato_yellow_leaf_curl_virus       0.88      0.48      0.63       854\n",
      "      two-spotted_spider_mite       0.41      0.51      0.46       280\n",
      "\n",
      "                     accuracy                           0.50      2907\n",
      "                    macro avg       0.46      0.51      0.45      2907\n",
      "                 weighted avg       0.58      0.50      0.51      2907\n",
      "\n",
      "[[259   7  36   7   0   1   6   6  19   4]\n",
      " [ 33  47   2  24   0  10  19   4   6   8]\n",
      " [  3   7 156  10   7   3  29   6   1  12]\n",
      " [  2  45  92  89  16  29   7  21   4   4]\n",
      " [  7   6   6  11  65  21   2  20   2   5]\n",
      " [  8  10  35   8  22 130  20  24  11  25]\n",
      " [ 16  14   4   7   3  27 104  10   2  53]\n",
      " [  4   0   3   0   1   4   0  39   2   1]\n",
      " [128  35  59  17   7  41   5  56 414  92]\n",
      " [ 12  24   4   5   2  20  21  41   7 144]]\n"
     ]
    }
   ],
   "source": [
    "class_names = target.unique()\n",
    "print(classification_report(Ltest, y_pred, target_names=class_names))\n",
    "print(confusion_matrix(Ltest, y_pred))"
   ]
  },
  {
   "cell_type": "markdown",
   "id": "75bb69d9",
   "metadata": {},
   "source": [
    "# Decision Tree on RGB data"
   ]
  },
  {
   "cell_type": "code",
   "execution_count": 23,
   "id": "6a765709",
   "metadata": {},
   "outputs": [],
   "source": [
    "from sklearn.tree import DecisionTreeClassifier\n",
    "classifier_tree = DecisionTreeClassifier()"
   ]
  },
  {
   "cell_type": "code",
   "execution_count": 24,
   "id": "feb5f853",
   "metadata": {},
   "outputs": [
    {
     "data": {
      "text/plain": [
       "0.47746818025455795"
      ]
     },
     "execution_count": 24,
     "metadata": {},
     "output_type": "execute_result"
    }
   ],
   "source": [
    "classifier_tree.fit(Ftrain, Ltrain)\n",
    "classifier_tree.score(Ftest,Ltest)"
   ]
  },
  {
   "cell_type": "code",
   "execution_count": 25,
   "id": "1bdf54ae",
   "metadata": {},
   "outputs": [
    {
     "name": "stdout",
     "output_type": "stream",
     "text": [
      "                               precision    recall  f1-score   support\n",
      "\n",
      "               bacterial_spot       0.49      0.57      0.53       345\n",
      "                 early_blight       0.10      0.11      0.11       153\n",
      "                      healthy       0.53      0.55      0.54       234\n",
      "                  late_blight       0.40      0.36      0.38       309\n",
      "                    leaf_mold       0.32      0.32      0.32       145\n",
      "           septoria_leaf_spot       0.39      0.39      0.39       293\n",
      "                  target_spot       0.32      0.32      0.32       240\n",
      "          tomato_mosaic_virus       0.03      0.04      0.04        54\n",
      "tomato_yellow_leaf_curl_virus       0.71      0.66      0.69       854\n",
      "      two-spotted_spider_mite       0.37      0.38      0.37       280\n",
      "\n",
      "                     accuracy                           0.47      2907\n",
      "                    macro avg       0.37      0.37      0.37      2907\n",
      "                 weighted avg       0.48      0.47      0.47      2907\n",
      "\n",
      "[[195  19  10  14   9  18  10   2  51  17]\n",
      " [ 26  17   9  19   8  10  14   4  24  22]\n",
      " [ 16  10 129  15   7  11  22   5  12   7]\n",
      " [ 23  15  29 112  23  32  18   7  29  21]\n",
      " [ 10  12  11  15  47  13  10   7  14   6]\n",
      " [ 17  10   9  35  21 115  25   9  35  17]\n",
      " [ 16  23  18  18   7  23  77   2  17  39]\n",
      " [  2   2   6   4   9   9   6   2   7   7]\n",
      " [ 71  34  16  31  11  45  20  13 565  48]\n",
      " [ 19  24   6  19   5  18  37   7  39 106]]\n"
     ]
    }
   ],
   "source": [
    "y_predict = classifier_tree.fit(Ftrain, Ltrain).predict(Ftest)\n",
    "class_names = target.unique()\n",
    "print(classification_report(Ltest, y_predict, target_names=class_names))\n",
    "print(confusion_matrix(Ltest, y_predict))"
   ]
  },
  {
   "cell_type": "markdown",
   "id": "c9daaaee",
   "metadata": {},
   "source": [
    "# KNN on grayscale data"
   ]
  },
  {
   "cell_type": "code",
   "execution_count": 26,
   "id": "57a9845e",
   "metadata": {},
   "outputs": [],
   "source": [
    "#reading numpy array data\n",
    "gray_test = np.load('gray_test.npy')\n",
    "#reading csv file\n",
    "gray_df = pd.read_csv('gray_data.csv')"
   ]
  },
  {
   "cell_type": "code",
   "execution_count": 27,
   "id": "25d4fea2",
   "metadata": {},
   "outputs": [],
   "source": [
    "loaded = []\n",
    "for i in gray_test:\n",
    "    k = []\n",
    "    k = np.asarray(i,dtype='uint8')\n",
    "    loaded.append(k)"
   ]
  },
  {
   "cell_type": "code",
   "execution_count": 28,
   "id": "d3abef95",
   "metadata": {},
   "outputs": [],
   "source": [
    "features = loaded\n",
    "target = gray_df['disease']"
   ]
  },
  {
   "cell_type": "code",
   "execution_count": 29,
   "id": "6f75adfd",
   "metadata": {},
   "outputs": [
    {
     "data": {
      "text/plain": [
       "0.5087719298245614"
      ]
     },
     "execution_count": 29,
     "metadata": {},
     "output_type": "execute_result"
    }
   ],
   "source": [
    "kmodel.fit(Ftrain,Ltrain)\n",
    "kmodel.score(Ftest,Ltest)"
   ]
  },
  {
   "cell_type": "code",
   "execution_count": 30,
   "id": "20df9552",
   "metadata": {},
   "outputs": [
    {
     "name": "stdout",
     "output_type": "stream",
     "text": [
      "                               precision    recall  f1-score   support\n",
      "\n",
      "               bacterial_spot       0.32      0.79      0.46       345\n",
      "                 early_blight       0.00      0.00      0.00       153\n",
      "                      healthy       0.34      0.72      0.46       234\n",
      "                  late_blight       0.43      0.38      0.40       309\n",
      "                    leaf_mold       0.68      0.47      0.56       145\n",
      "           septoria_leaf_spot       0.67      0.23      0.34       293\n",
      "                  target_spot       0.64      0.07      0.13       240\n",
      "          tomato_mosaic_virus       1.00      0.02      0.04        54\n",
      "tomato_yellow_leaf_curl_virus       0.77      0.76      0.77       854\n",
      "      two-spotted_spider_mite       0.54      0.41      0.47       280\n",
      "\n",
      "                     accuracy                           0.51      2907\n",
      "                    macro avg       0.54      0.39      0.36      2907\n",
      "                 weighted avg       0.56      0.51      0.48      2907\n",
      "\n",
      "[[274   0  38  12   0   0   0   0  20   1]\n",
      " [101   0  12   5   0   5   4   0  20   6]\n",
      " [ 33   0 168  26   1   0   0   0   2   4]\n",
      " [ 61   0  64 118  12  20   1   0  25   8]\n",
      " [ 20   0  19  24  68   0   0   0  10   4]\n",
      " [ 29   0  62  48  15  67   3   0  50  19]\n",
      " [123   0  50   4   0   4  18   0  11  30]\n",
      " [  5   0  11  15   4   0   0   1   7  11]\n",
      " [126   0  54   7   0   3   1   0 649  14]\n",
      " [ 77   0  23  16   0   1   1   0  46 116]]\n"
     ]
    },
    {
     "name": "stderr",
     "output_type": "stream",
     "text": [
      "C:\\Users\\ravic\\anaconda3\\lib\\site-packages\\sklearn\\metrics\\_classification.py:1318: UndefinedMetricWarning: Precision and F-score are ill-defined and being set to 0.0 in labels with no predicted samples. Use `zero_division` parameter to control this behavior.\n",
      "  _warn_prf(average, modifier, msg_start, len(result))\n",
      "C:\\Users\\ravic\\anaconda3\\lib\\site-packages\\sklearn\\metrics\\_classification.py:1318: UndefinedMetricWarning: Precision and F-score are ill-defined and being set to 0.0 in labels with no predicted samples. Use `zero_division` parameter to control this behavior.\n",
      "  _warn_prf(average, modifier, msg_start, len(result))\n",
      "C:\\Users\\ravic\\anaconda3\\lib\\site-packages\\sklearn\\metrics\\_classification.py:1318: UndefinedMetricWarning: Precision and F-score are ill-defined and being set to 0.0 in labels with no predicted samples. Use `zero_division` parameter to control this behavior.\n",
      "  _warn_prf(average, modifier, msg_start, len(result))\n"
     ]
    }
   ],
   "source": [
    "y_predict = kmodel.fit(Ftrain, Ltrain).predict(Ftest)\n",
    "class_names = target.unique()\n",
    "print(classification_report(Ltest, y_predict, target_names=class_names))\n",
    "print(confusion_matrix(Ltest, y_predict))"
   ]
  },
  {
   "cell_type": "markdown",
   "id": "197eedfc",
   "metadata": {},
   "source": [
    "# Logistic on grayscale data"
   ]
  },
  {
   "cell_type": "code",
   "execution_count": 31,
   "id": "9fd6cafe",
   "metadata": {},
   "outputs": [
    {
     "data": {
      "text/plain": [
       "0.7014103887168902"
      ]
     },
     "execution_count": 31,
     "metadata": {},
     "output_type": "execute_result"
    }
   ],
   "source": [
    "from sklearn.linear_model import LogisticRegression\n",
    "model=LogisticRegression(solver='lbfgs', max_iter=10000)\n",
    "model.fit(Ftrain,Ltrain)\n",
    "model.score(Ftest,Ltest)"
   ]
  },
  {
   "cell_type": "code",
   "execution_count": 32,
   "id": "834920c5",
   "metadata": {},
   "outputs": [
    {
     "name": "stdout",
     "output_type": "stream",
     "text": [
      "                               precision    recall  f1-score   support\n",
      "\n",
      "               bacterial_spot       0.61      0.79      0.69       345\n",
      "                 early_blight       0.41      0.37      0.39       153\n",
      "                      healthy       0.71      0.65      0.68       234\n",
      "                  late_blight       0.61      0.58      0.60       309\n",
      "                    leaf_mold       0.67      0.61      0.64       145\n",
      "           septoria_leaf_spot       0.61      0.60      0.61       293\n",
      "                  target_spot       0.56      0.46      0.51       240\n",
      "          tomato_mosaic_virus       0.69      0.70      0.70        54\n",
      "tomato_yellow_leaf_curl_virus       0.91      0.91      0.91       854\n",
      "      two-spotted_spider_mite       0.65      0.67      0.66       280\n",
      "\n",
      "                     accuracy                           0.70      2907\n",
      "                    macro avg       0.64      0.63      0.64      2907\n",
      "                 weighted avg       0.70      0.70      0.70      2907\n",
      "\n",
      "[[271  13   6  20   0   8   5   0  21   1]\n",
      " [ 29  56   3  22   2   8   9   2  11  11]\n",
      " [  4  12 153  16   3  10  27   0   1   8]\n",
      " [ 27  19  15 180  14  20   3   2  12  17]\n",
      " [  5   5   3   7  88  23   2   1   5   6]\n",
      " [ 24  10   7  19  18 177  12   6  12   8]\n",
      " [ 19  10  20   9   2  23 111   2   3  41]\n",
      " [  0   0   0   0   4  10   1  38   0   1]\n",
      " [ 39   3   1  12   0   6   6   0 777  10]\n",
      " [ 25   7   6   9   1   5  21   4  14 188]]\n"
     ]
    }
   ],
   "source": [
    "y_predict = model.fit(Ftrain, Ltrain).predict(Ftest)\n",
    "class_names = target.unique()\n",
    "print(classification_report(Ltest, y_predict, target_names=class_names))\n",
    "print(confusion_matrix(Ltest, y_predict))"
   ]
  },
  {
   "cell_type": "markdown",
   "id": "5284f869",
   "metadata": {},
   "source": [
    "# SVM on Grayscale data"
   ]
  },
  {
   "cell_type": "code",
   "execution_count": 33,
   "id": "d0db5c80",
   "metadata": {},
   "outputs": [
    {
     "name": "stdout",
     "output_type": "stream",
     "text": [
      "0.7798417612659099\n"
     ]
    }
   ],
   "source": [
    "clf = SVC(kernel='linear')\n",
    "clf.fit(Ftrain,Ltrain)\n",
    "y_pred = clf.predict(Ftest)\n",
    "print(accuracy_score(Ltest,y_pred))"
   ]
  },
  {
   "cell_type": "code",
   "execution_count": 34,
   "id": "05d3b675",
   "metadata": {},
   "outputs": [
    {
     "name": "stdout",
     "output_type": "stream",
     "text": [
      "                               precision    recall  f1-score   support\n",
      "\n",
      "               bacterial_spot       0.72      0.86      0.78       345\n",
      "                 early_blight       0.42      0.35      0.38       153\n",
      "                      healthy       0.84      0.81      0.82       234\n",
      "                  late_blight       0.72      0.72      0.72       309\n",
      "                    leaf_mold       0.71      0.69      0.70       145\n",
      "           septoria_leaf_spot       0.74      0.74      0.74       293\n",
      "                  target_spot       0.72      0.65      0.68       240\n",
      "          tomato_mosaic_virus       0.78      0.83      0.80        54\n",
      "tomato_yellow_leaf_curl_virus       0.92      0.92      0.92       854\n",
      "      two-spotted_spider_mite       0.73      0.72      0.73       280\n",
      "\n",
      "                     accuracy                           0.78      2907\n",
      "                    macro avg       0.73      0.73      0.73      2907\n",
      "                 weighted avg       0.78      0.78      0.78      2907\n",
      "\n",
      "[[296  14   2  12   0   1   0   0  20   0]\n",
      " [ 35  54   3  23   0   6   9   0   8  15]\n",
      " [  3   5 189  14   3   5  13   0   0   2]\n",
      " [ 14  15  10 223  14  10   2   0  13   8]\n",
      " [  4   3   4   4 100  20   1   3   4   2]\n",
      " [  6   6   8   8  15 218  12   8   7   5]\n",
      " [  5  23   4   3   4  15 155   1   0  30]\n",
      " [  0   0   0   0   2   6   0  45   0   1]\n",
      " [ 40   5   0  10   0   3   1   0 785  10]\n",
      " [  8   3   5  12   3   9  22   1  15 202]]\n"
     ]
    }
   ],
   "source": [
    "y_predict = clf.fit(Ftrain, Ltrain).predict(Ftest)\n",
    "class_names = target.unique()\n",
    "print(classification_report(Ltest, y_predict, target_names=class_names))\n",
    "print(confusion_matrix(Ltest, y_predict))"
   ]
  },
  {
   "cell_type": "markdown",
   "id": "576fd580",
   "metadata": {},
   "source": [
    "# Random Forest on Grayscale"
   ]
  },
  {
   "cell_type": "code",
   "execution_count": 35,
   "id": "9dfa979e",
   "metadata": {},
   "outputs": [
    {
     "data": {
      "text/plain": [
       "RandomForestClassifier(max_depth=5, n_jobs=-1, oob_score=True, random_state=42)"
      ]
     },
     "execution_count": 35,
     "metadata": {},
     "output_type": "execute_result"
    }
   ],
   "source": [
    "classifier_rf.fit(Ftrain, Ltrain)"
   ]
  },
  {
   "cell_type": "code",
   "execution_count": 36,
   "id": "2b4347ef",
   "metadata": {},
   "outputs": [
    {
     "data": {
      "text/plain": [
       "0.5524776324845148"
      ]
     },
     "execution_count": 36,
     "metadata": {},
     "output_type": "execute_result"
    }
   ],
   "source": [
    "classifier_rf.oob_score_"
   ]
  },
  {
   "cell_type": "code",
   "execution_count": 37,
   "id": "8b7d285d",
   "metadata": {},
   "outputs": [
    {
     "name": "stdout",
     "output_type": "stream",
     "text": [
      "                               precision    recall  f1-score   support\n",
      "\n",
      "               bacterial_spot       0.78      0.55      0.65       345\n",
      "                 early_blight       0.00      0.00      0.00       153\n",
      "                      healthy       0.66      0.79      0.72       234\n",
      "                  late_blight       0.66      0.42      0.51       309\n",
      "                    leaf_mold       0.75      0.41      0.53       145\n",
      "           septoria_leaf_spot       0.58      0.48      0.52       293\n",
      "                  target_spot       0.49      0.28      0.36       240\n",
      "          tomato_mosaic_virus       0.00      0.00      0.00        54\n",
      "tomato_yellow_leaf_curl_virus       0.49      0.98      0.66       854\n",
      "      two-spotted_spider_mite       0.48      0.04      0.08       280\n",
      "\n",
      "                     accuracy                           0.56      2907\n",
      "                    macro avg       0.49      0.40      0.40      2907\n",
      "                 weighted avg       0.54      0.56      0.50      2907\n",
      "\n",
      "[[191   0   9  14   0   0   3   0 128   0]\n",
      " [ 13   0   5   3   0  16  12   0 101   3]\n",
      " [  2   0 186   4   1   1   3   0  35   2]\n",
      " [  3   0  28 129  10  39  12   0  87   1]\n",
      " [  5   0  17   8  59  10   2   0  44   0]\n",
      " [  4   0   5  17   7 141   2   0 117   0]\n",
      " [ 13   0  22   8   0  26  68   0  97   6]\n",
      " [  0   0   3   3   2   3   0   0  42   1]\n",
      " [  4   0   3   3   0   7   1   0 836   0]\n",
      " [ 10   0   5   6   0   2  37   0 208  12]]\n"
     ]
    },
    {
     "name": "stderr",
     "output_type": "stream",
     "text": [
      "C:\\Users\\ravic\\anaconda3\\lib\\site-packages\\sklearn\\metrics\\_classification.py:1318: UndefinedMetricWarning: Precision and F-score are ill-defined and being set to 0.0 in labels with no predicted samples. Use `zero_division` parameter to control this behavior.\n",
      "  _warn_prf(average, modifier, msg_start, len(result))\n",
      "C:\\Users\\ravic\\anaconda3\\lib\\site-packages\\sklearn\\metrics\\_classification.py:1318: UndefinedMetricWarning: Precision and F-score are ill-defined and being set to 0.0 in labels with no predicted samples. Use `zero_division` parameter to control this behavior.\n",
      "  _warn_prf(average, modifier, msg_start, len(result))\n",
      "C:\\Users\\ravic\\anaconda3\\lib\\site-packages\\sklearn\\metrics\\_classification.py:1318: UndefinedMetricWarning: Precision and F-score are ill-defined and being set to 0.0 in labels with no predicted samples. Use `zero_division` parameter to control this behavior.\n",
      "  _warn_prf(average, modifier, msg_start, len(result))\n"
     ]
    }
   ],
   "source": [
    "y_predict = classifier_rf.fit(Ftrain, Ltrain).predict(Ftest)\n",
    "class_names = target.unique()\n",
    "print(classification_report(Ltest, y_predict, target_names=class_names))\n",
    "print(confusion_matrix(Ltest, y_predict))"
   ]
  },
  {
   "cell_type": "markdown",
   "id": "8befce61",
   "metadata": {},
   "source": [
    "# Naive bayes on Grayscale"
   ]
  },
  {
   "cell_type": "code",
   "execution_count": 38,
   "id": "0d1a6d3b",
   "metadata": {},
   "outputs": [
    {
     "data": {
      "text/plain": [
       "GaussianNB()"
      ]
     },
     "execution_count": 38,
     "metadata": {},
     "output_type": "execute_result"
    }
   ],
   "source": [
    "gnb.fit(Ftrain, Ltrain)"
   ]
  },
  {
   "cell_type": "code",
   "execution_count": 39,
   "id": "053c9a09",
   "metadata": {},
   "outputs": [
    {
     "data": {
      "text/plain": [
       "0.4977640178878569"
      ]
     },
     "execution_count": 39,
     "metadata": {},
     "output_type": "execute_result"
    }
   ],
   "source": [
    "y_pred = gnb.predict(Ftest)\n",
    "metrics.accuracy_score(Ltest, y_pred)"
   ]
  },
  {
   "cell_type": "code",
   "execution_count": 40,
   "id": "0e53ae2c",
   "metadata": {},
   "outputs": [
    {
     "name": "stdout",
     "output_type": "stream",
     "text": [
      "                               precision    recall  f1-score   support\n",
      "\n",
      "               bacterial_spot       0.55      0.75      0.63       345\n",
      "                 early_blight       0.24      0.31      0.27       153\n",
      "                      healthy       0.39      0.67      0.49       234\n",
      "                  late_blight       0.50      0.29      0.37       309\n",
      "                    leaf_mold       0.53      0.45      0.49       145\n",
      "           septoria_leaf_spot       0.45      0.44      0.45       293\n",
      "                  target_spot       0.49      0.43      0.46       240\n",
      "          tomato_mosaic_virus       0.17      0.72      0.28        54\n",
      "tomato_yellow_leaf_curl_virus       0.88      0.48      0.63       854\n",
      "      two-spotted_spider_mite       0.41      0.51      0.46       280\n",
      "\n",
      "                     accuracy                           0.50      2907\n",
      "                    macro avg       0.46      0.51      0.45      2907\n",
      "                 weighted avg       0.58      0.50      0.51      2907\n",
      "\n",
      "[[259   7  36   7   0   1   6   6  19   4]\n",
      " [ 33  47   2  24   0  10  19   4   6   8]\n",
      " [  3   7 156  10   7   3  29   6   1  12]\n",
      " [  2  45  92  89  16  29   7  21   4   4]\n",
      " [  7   6   6  11  65  21   2  20   2   5]\n",
      " [  8  10  35   8  22 130  20  24  11  25]\n",
      " [ 16  14   4   7   3  27 104  10   2  53]\n",
      " [  4   0   3   0   1   4   0  39   2   1]\n",
      " [128  35  59  17   7  41   5  56 414  92]\n",
      " [ 12  24   4   5   2  20  21  41   7 144]]\n"
     ]
    }
   ],
   "source": [
    "class_names = target.unique()\n",
    "print(classification_report(Ltest, y_pred, target_names=class_names))\n",
    "print(confusion_matrix(Ltest, y_pred))"
   ]
  },
  {
   "cell_type": "markdown",
   "id": "af8a8fca",
   "metadata": {},
   "source": [
    "# Decision Tree on Grayscale"
   ]
  },
  {
   "cell_type": "code",
   "execution_count": 41,
   "id": "4d1eb3ec",
   "metadata": {},
   "outputs": [
    {
     "data": {
      "text/plain": [
       "0.4712762297901617"
      ]
     },
     "execution_count": 41,
     "metadata": {},
     "output_type": "execute_result"
    }
   ],
   "source": [
    "classifier_tree.fit(Ftrain, Ltrain)\n",
    "classifier_tree.score(Ftest,Ltest)"
   ]
  },
  {
   "cell_type": "code",
   "execution_count": 42,
   "id": "5e93e78c",
   "metadata": {},
   "outputs": [
    {
     "name": "stdout",
     "output_type": "stream",
     "text": [
      "                               precision    recall  f1-score   support\n",
      "\n",
      "               bacterial_spot       0.50      0.58      0.54       345\n",
      "                 early_blight       0.13      0.14      0.13       153\n",
      "                      healthy       0.57      0.56      0.56       234\n",
      "                  late_blight       0.41      0.39      0.40       309\n",
      "                    leaf_mold       0.29      0.32      0.30       145\n",
      "           septoria_leaf_spot       0.39      0.39      0.39       293\n",
      "                  target_spot       0.31      0.29      0.30       240\n",
      "          tomato_mosaic_virus       0.10      0.13      0.11        54\n",
      "tomato_yellow_leaf_curl_virus       0.72      0.66      0.69       854\n",
      "      two-spotted_spider_mite       0.36      0.37      0.37       280\n",
      "\n",
      "                     accuracy                           0.47      2907\n",
      "                    macro avg       0.38      0.38      0.38      2907\n",
      "                 weighted avg       0.48      0.47      0.48      2907\n",
      "\n",
      "[[199  19   6  16   6  12  12   9  54  12]\n",
      " [ 26  22   5  16   7  11  15   5  22  24]\n",
      " [ 13  11 130  14   9  11  20   4  10  12]\n",
      " [ 24  20  19 119  22  37  14   8  27  19]\n",
      " [ 10  15  13  18  46  13   7   7   8   8]\n",
      " [ 15  18   9  27  24 113  25  13  32  17]\n",
      " [ 16  14  21  26   8  22  69   1  17  46]\n",
      " [  2   1   3   3   6   6   9   7  11   6]\n",
      " [ 71  35  15  31  21  48  20  10 564  39]\n",
      " [ 19  20   9  19  11  19  33   4  42 104]]\n"
     ]
    }
   ],
   "source": [
    "y_predict = classifier_tree.fit(Ftrain, Ltrain).predict(Ftest)\n",
    "class_names = target.unique()\n",
    "print(classification_report(Ltest, y_predict, target_names=class_names))\n",
    "print(confusion_matrix(Ltest, y_predict))"
   ]
  },
  {
   "cell_type": "markdown",
   "id": "e42f549f",
   "metadata": {},
   "source": [
    "# KNN on Red channel data"
   ]
  },
  {
   "cell_type": "code",
   "execution_count": 43,
   "id": "cb75cbbd",
   "metadata": {},
   "outputs": [],
   "source": [
    "#reading numpy array data\n",
    "red_test = np.load('red_data.npy')\n",
    "#reading csv file\n",
    "red_df = pd.read_csv('red_data.csv')"
   ]
  },
  {
   "cell_type": "code",
   "execution_count": 44,
   "id": "7fda7839",
   "metadata": {},
   "outputs": [],
   "source": [
    "loaded = []\n",
    "for i in red_test:\n",
    "    k = []\n",
    "    k = np.asarray(i,dtype='uint8')\n",
    "    loaded.append(k)\n",
    "features = loaded\n",
    "target = red_df['disease']"
   ]
  },
  {
   "cell_type": "code",
   "execution_count": 45,
   "id": "683839f2",
   "metadata": {},
   "outputs": [
    {
     "data": {
      "text/plain": [
       "0.5087719298245614"
      ]
     },
     "execution_count": 45,
     "metadata": {},
     "output_type": "execute_result"
    }
   ],
   "source": [
    "kmodel.fit(Ftrain,Ltrain)\n",
    "kmodel.score(Ftest,Ltest)"
   ]
  },
  {
   "cell_type": "code",
   "execution_count": 46,
   "id": "a5863749",
   "metadata": {},
   "outputs": [
    {
     "name": "stdout",
     "output_type": "stream",
     "text": [
      "                               precision    recall  f1-score   support\n",
      "\n",
      "               bacterial_spot       0.32      0.79      0.46       345\n",
      "                 early_blight       0.00      0.00      0.00       153\n",
      "                      healthy       0.34      0.72      0.46       234\n",
      "                  late_blight       0.43      0.38      0.40       309\n",
      "                    leaf_mold       0.68      0.47      0.56       145\n",
      "           septoria_leaf_spot       0.67      0.23      0.34       293\n",
      "                  target_spot       0.64      0.07      0.13       240\n",
      "          tomato_mosaic_virus       1.00      0.02      0.04        54\n",
      "tomato_yellow_leaf_curl_virus       0.77      0.76      0.77       854\n",
      "      two-spotted_spider_mite       0.54      0.41      0.47       280\n",
      "\n",
      "                     accuracy                           0.51      2907\n",
      "                    macro avg       0.54      0.39      0.36      2907\n",
      "                 weighted avg       0.56      0.51      0.48      2907\n",
      "\n",
      "[[274   0  38  12   0   0   0   0  20   1]\n",
      " [101   0  12   5   0   5   4   0  20   6]\n",
      " [ 33   0 168  26   1   0   0   0   2   4]\n",
      " [ 61   0  64 118  12  20   1   0  25   8]\n",
      " [ 20   0  19  24  68   0   0   0  10   4]\n",
      " [ 29   0  62  48  15  67   3   0  50  19]\n",
      " [123   0  50   4   0   4  18   0  11  30]\n",
      " [  5   0  11  15   4   0   0   1   7  11]\n",
      " [126   0  54   7   0   3   1   0 649  14]\n",
      " [ 77   0  23  16   0   1   1   0  46 116]]\n"
     ]
    },
    {
     "name": "stderr",
     "output_type": "stream",
     "text": [
      "C:\\Users\\ravic\\anaconda3\\lib\\site-packages\\sklearn\\metrics\\_classification.py:1318: UndefinedMetricWarning: Precision and F-score are ill-defined and being set to 0.0 in labels with no predicted samples. Use `zero_division` parameter to control this behavior.\n",
      "  _warn_prf(average, modifier, msg_start, len(result))\n",
      "C:\\Users\\ravic\\anaconda3\\lib\\site-packages\\sklearn\\metrics\\_classification.py:1318: UndefinedMetricWarning: Precision and F-score are ill-defined and being set to 0.0 in labels with no predicted samples. Use `zero_division` parameter to control this behavior.\n",
      "  _warn_prf(average, modifier, msg_start, len(result))\n",
      "C:\\Users\\ravic\\anaconda3\\lib\\site-packages\\sklearn\\metrics\\_classification.py:1318: UndefinedMetricWarning: Precision and F-score are ill-defined and being set to 0.0 in labels with no predicted samples. Use `zero_division` parameter to control this behavior.\n",
      "  _warn_prf(average, modifier, msg_start, len(result))\n"
     ]
    }
   ],
   "source": [
    "y_predict = kmodel.fit(Ftrain, Ltrain).predict(Ftest)\n",
    "class_names = target.unique()\n",
    "print(classification_report(Ltest, y_predict, target_names=class_names))\n",
    "print(confusion_matrix(Ltest, y_predict))"
   ]
  },
  {
   "cell_type": "markdown",
   "id": "ffcda594",
   "metadata": {},
   "source": [
    "# Logistic on Red channel data"
   ]
  },
  {
   "cell_type": "code",
   "execution_count": 47,
   "id": "1ed4037b",
   "metadata": {},
   "outputs": [
    {
     "data": {
      "text/plain": [
       "0.7014103887168902"
      ]
     },
     "execution_count": 47,
     "metadata": {},
     "output_type": "execute_result"
    }
   ],
   "source": [
    "model.fit(Ftrain,Ltrain)\n",
    "model.score(Ftest,Ltest)"
   ]
  },
  {
   "cell_type": "code",
   "execution_count": 48,
   "id": "19a14de1",
   "metadata": {},
   "outputs": [
    {
     "name": "stdout",
     "output_type": "stream",
     "text": [
      "                               precision    recall  f1-score   support\n",
      "\n",
      "               bacterial_spot       0.61      0.79      0.69       345\n",
      "                 early_blight       0.41      0.37      0.39       153\n",
      "                      healthy       0.71      0.65      0.68       234\n",
      "                  late_blight       0.61      0.58      0.60       309\n",
      "                    leaf_mold       0.67      0.61      0.64       145\n",
      "           septoria_leaf_spot       0.61      0.60      0.61       293\n",
      "                  target_spot       0.56      0.46      0.51       240\n",
      "          tomato_mosaic_virus       0.69      0.70      0.70        54\n",
      "tomato_yellow_leaf_curl_virus       0.91      0.91      0.91       854\n",
      "      two-spotted_spider_mite       0.65      0.67      0.66       280\n",
      "\n",
      "                     accuracy                           0.70      2907\n",
      "                    macro avg       0.64      0.63      0.64      2907\n",
      "                 weighted avg       0.70      0.70      0.70      2907\n",
      "\n",
      "[[271  13   6  20   0   8   5   0  21   1]\n",
      " [ 29  56   3  22   2   8   9   2  11  11]\n",
      " [  4  12 153  16   3  10  27   0   1   8]\n",
      " [ 27  19  15 180  14  20   3   2  12  17]\n",
      " [  5   5   3   7  88  23   2   1   5   6]\n",
      " [ 24  10   7  19  18 177  12   6  12   8]\n",
      " [ 19  10  20   9   2  23 111   2   3  41]\n",
      " [  0   0   0   0   4  10   1  38   0   1]\n",
      " [ 39   3   1  12   0   6   6   0 777  10]\n",
      " [ 25   7   6   9   1   5  21   4  14 188]]\n"
     ]
    }
   ],
   "source": [
    "y_predict = model.fit(Ftrain, Ltrain).predict(Ftest)\n",
    "class_names = target.unique()\n",
    "print(classification_report(Ltest, y_predict, target_names=class_names))\n",
    "print(confusion_matrix(Ltest, y_predict))"
   ]
  },
  {
   "cell_type": "markdown",
   "id": "dba6d5ce",
   "metadata": {},
   "source": [
    "# SVM on Red channel data"
   ]
  },
  {
   "cell_type": "code",
   "execution_count": 49,
   "id": "6ed153f7",
   "metadata": {},
   "outputs": [
    {
     "name": "stdout",
     "output_type": "stream",
     "text": [
      "0.7798417612659099\n"
     ]
    }
   ],
   "source": [
    "clf.fit(Ftrain,Ltrain)\n",
    "y_pred = clf.predict(Ftest)\n",
    "print(accuracy_score(Ltest,y_pred))"
   ]
  },
  {
   "cell_type": "code",
   "execution_count": 50,
   "id": "369f8272",
   "metadata": {},
   "outputs": [
    {
     "name": "stdout",
     "output_type": "stream",
     "text": [
      "                               precision    recall  f1-score   support\n",
      "\n",
      "               bacterial_spot       0.72      0.86      0.78       345\n",
      "                 early_blight       0.42      0.35      0.38       153\n",
      "                      healthy       0.84      0.81      0.82       234\n",
      "                  late_blight       0.72      0.72      0.72       309\n",
      "                    leaf_mold       0.71      0.69      0.70       145\n",
      "           septoria_leaf_spot       0.74      0.74      0.74       293\n",
      "                  target_spot       0.72      0.65      0.68       240\n",
      "          tomato_mosaic_virus       0.78      0.83      0.80        54\n",
      "tomato_yellow_leaf_curl_virus       0.92      0.92      0.92       854\n",
      "      two-spotted_spider_mite       0.73      0.72      0.73       280\n",
      "\n",
      "                     accuracy                           0.78      2907\n",
      "                    macro avg       0.73      0.73      0.73      2907\n",
      "                 weighted avg       0.78      0.78      0.78      2907\n",
      "\n",
      "[[296  14   2  12   0   1   0   0  20   0]\n",
      " [ 35  54   3  23   0   6   9   0   8  15]\n",
      " [  3   5 189  14   3   5  13   0   0   2]\n",
      " [ 14  15  10 223  14  10   2   0  13   8]\n",
      " [  4   3   4   4 100  20   1   3   4   2]\n",
      " [  6   6   8   8  15 218  12   8   7   5]\n",
      " [  5  23   4   3   4  15 155   1   0  30]\n",
      " [  0   0   0   0   2   6   0  45   0   1]\n",
      " [ 40   5   0  10   0   3   1   0 785  10]\n",
      " [  8   3   5  12   3   9  22   1  15 202]]\n"
     ]
    }
   ],
   "source": [
    "y_predict = clf.fit(Ftrain, Ltrain).predict(Ftest)\n",
    "class_names = target.unique()\n",
    "print(classification_report(Ltest, y_predict, target_names=class_names))\n",
    "print(confusion_matrix(Ltest, y_predict))"
   ]
  },
  {
   "cell_type": "markdown",
   "id": "a670c4d4",
   "metadata": {},
   "source": [
    "# Random forest on Red channel data"
   ]
  },
  {
   "cell_type": "code",
   "execution_count": 51,
   "id": "9e816e9e",
   "metadata": {},
   "outputs": [
    {
     "data": {
      "text/plain": [
       "0.5524776324845148"
      ]
     },
     "execution_count": 51,
     "metadata": {},
     "output_type": "execute_result"
    }
   ],
   "source": [
    "classifier_rf.fit(Ftrain, Ltrain)\n",
    "classifier_rf.oob_score_"
   ]
  },
  {
   "cell_type": "code",
   "execution_count": 52,
   "id": "e404f49d",
   "metadata": {},
   "outputs": [
    {
     "name": "stdout",
     "output_type": "stream",
     "text": [
      "                               precision    recall  f1-score   support\n",
      "\n",
      "               bacterial_spot       0.78      0.55      0.65       345\n",
      "                 early_blight       0.00      0.00      0.00       153\n",
      "                      healthy       0.66      0.79      0.72       234\n",
      "                  late_blight       0.66      0.42      0.51       309\n",
      "                    leaf_mold       0.75      0.41      0.53       145\n",
      "           septoria_leaf_spot       0.58      0.48      0.52       293\n",
      "                  target_spot       0.49      0.28      0.36       240\n",
      "          tomato_mosaic_virus       0.00      0.00      0.00        54\n",
      "tomato_yellow_leaf_curl_virus       0.49      0.98      0.66       854\n",
      "      two-spotted_spider_mite       0.48      0.04      0.08       280\n",
      "\n",
      "                     accuracy                           0.56      2907\n",
      "                    macro avg       0.49      0.40      0.40      2907\n",
      "                 weighted avg       0.54      0.56      0.50      2907\n",
      "\n",
      "[[191   0   9  14   0   0   3   0 128   0]\n",
      " [ 13   0   5   3   0  16  12   0 101   3]\n",
      " [  2   0 186   4   1   1   3   0  35   2]\n",
      " [  3   0  28 129  10  39  12   0  87   1]\n",
      " [  5   0  17   8  59  10   2   0  44   0]\n",
      " [  4   0   5  17   7 141   2   0 117   0]\n",
      " [ 13   0  22   8   0  26  68   0  97   6]\n",
      " [  0   0   3   3   2   3   0   0  42   1]\n",
      " [  4   0   3   3   0   7   1   0 836   0]\n",
      " [ 10   0   5   6   0   2  37   0 208  12]]\n"
     ]
    },
    {
     "name": "stderr",
     "output_type": "stream",
     "text": [
      "C:\\Users\\ravic\\anaconda3\\lib\\site-packages\\sklearn\\metrics\\_classification.py:1318: UndefinedMetricWarning: Precision and F-score are ill-defined and being set to 0.0 in labels with no predicted samples. Use `zero_division` parameter to control this behavior.\n",
      "  _warn_prf(average, modifier, msg_start, len(result))\n",
      "C:\\Users\\ravic\\anaconda3\\lib\\site-packages\\sklearn\\metrics\\_classification.py:1318: UndefinedMetricWarning: Precision and F-score are ill-defined and being set to 0.0 in labels with no predicted samples. Use `zero_division` parameter to control this behavior.\n",
      "  _warn_prf(average, modifier, msg_start, len(result))\n",
      "C:\\Users\\ravic\\anaconda3\\lib\\site-packages\\sklearn\\metrics\\_classification.py:1318: UndefinedMetricWarning: Precision and F-score are ill-defined and being set to 0.0 in labels with no predicted samples. Use `zero_division` parameter to control this behavior.\n",
      "  _warn_prf(average, modifier, msg_start, len(result))\n"
     ]
    }
   ],
   "source": [
    "y_predict = classifier_rf.fit(Ftrain, Ltrain).predict(Ftest)\n",
    "class_names = target.unique()\n",
    "print(classification_report(Ltest, y_predict, target_names=class_names))\n",
    "print(confusion_matrix(Ltest, y_predict))"
   ]
  },
  {
   "cell_type": "markdown",
   "id": "e1c2d95a",
   "metadata": {},
   "source": [
    "# Naive Bayes on Red channel data"
   ]
  },
  {
   "cell_type": "code",
   "execution_count": 53,
   "id": "8ec0753c",
   "metadata": {},
   "outputs": [
    {
     "data": {
      "text/plain": [
       "GaussianNB()"
      ]
     },
     "execution_count": 53,
     "metadata": {},
     "output_type": "execute_result"
    }
   ],
   "source": [
    "gnb.fit(Ftrain, Ltrain)"
   ]
  },
  {
   "cell_type": "code",
   "execution_count": 54,
   "id": "9bd3c55d",
   "metadata": {},
   "outputs": [
    {
     "data": {
      "text/plain": [
       "0.4977640178878569"
      ]
     },
     "execution_count": 54,
     "metadata": {},
     "output_type": "execute_result"
    }
   ],
   "source": [
    "y_pred = gnb.predict(Ftest)\n",
    "metrics.accuracy_score(Ltest, y_pred)"
   ]
  },
  {
   "cell_type": "code",
   "execution_count": 55,
   "id": "4c3f9eb9",
   "metadata": {},
   "outputs": [
    {
     "name": "stdout",
     "output_type": "stream",
     "text": [
      "                               precision    recall  f1-score   support\n",
      "\n",
      "               bacterial_spot       0.55      0.75      0.63       345\n",
      "                 early_blight       0.24      0.31      0.27       153\n",
      "                      healthy       0.39      0.67      0.49       234\n",
      "                  late_blight       0.50      0.29      0.37       309\n",
      "                    leaf_mold       0.53      0.45      0.49       145\n",
      "           septoria_leaf_spot       0.45      0.44      0.45       293\n",
      "                  target_spot       0.49      0.43      0.46       240\n",
      "          tomato_mosaic_virus       0.17      0.72      0.28        54\n",
      "tomato_yellow_leaf_curl_virus       0.88      0.48      0.63       854\n",
      "      two-spotted_spider_mite       0.41      0.51      0.46       280\n",
      "\n",
      "                     accuracy                           0.50      2907\n",
      "                    macro avg       0.46      0.51      0.45      2907\n",
      "                 weighted avg       0.58      0.50      0.51      2907\n",
      "\n",
      "[[259   7  36   7   0   1   6   6  19   4]\n",
      " [ 33  47   2  24   0  10  19   4   6   8]\n",
      " [  3   7 156  10   7   3  29   6   1  12]\n",
      " [  2  45  92  89  16  29   7  21   4   4]\n",
      " [  7   6   6  11  65  21   2  20   2   5]\n",
      " [  8  10  35   8  22 130  20  24  11  25]\n",
      " [ 16  14   4   7   3  27 104  10   2  53]\n",
      " [  4   0   3   0   1   4   0  39   2   1]\n",
      " [128  35  59  17   7  41   5  56 414  92]\n",
      " [ 12  24   4   5   2  20  21  41   7 144]]\n"
     ]
    }
   ],
   "source": [
    "class_names = target.unique()\n",
    "print(classification_report(Ltest, y_pred, target_names=class_names))\n",
    "print(confusion_matrix(Ltest, y_pred))"
   ]
  },
  {
   "cell_type": "markdown",
   "id": "b34954bd",
   "metadata": {},
   "source": [
    "# Decision Tree on Red channel"
   ]
  },
  {
   "cell_type": "code",
   "execution_count": 56,
   "id": "3ce8ed83",
   "metadata": {},
   "outputs": [
    {
     "data": {
      "text/plain": [
       "0.4743722050223598"
      ]
     },
     "execution_count": 56,
     "metadata": {},
     "output_type": "execute_result"
    }
   ],
   "source": [
    "classifier_tree.fit(Ftrain, Ltrain)\n",
    "classifier_tree.score(Ftest,Ltest)"
   ]
  },
  {
   "cell_type": "code",
   "execution_count": 57,
   "id": "78b012af",
   "metadata": {},
   "outputs": [
    {
     "name": "stdout",
     "output_type": "stream",
     "text": [
      "                               precision    recall  f1-score   support\n",
      "\n",
      "               bacterial_spot       0.48      0.57      0.52       345\n",
      "                 early_blight       0.13      0.14      0.14       153\n",
      "                      healthy       0.57      0.55      0.56       234\n",
      "                  late_blight       0.40      0.38      0.39       309\n",
      "                    leaf_mold       0.31      0.34      0.32       145\n",
      "           septoria_leaf_spot       0.38      0.37      0.37       293\n",
      "                  target_spot       0.30      0.31      0.31       240\n",
      "          tomato_mosaic_virus       0.10      0.11      0.10        54\n",
      "tomato_yellow_leaf_curl_virus       0.72      0.67      0.69       854\n",
      "      two-spotted_spider_mite       0.38      0.39      0.38       280\n",
      "\n",
      "                     accuracy                           0.47      2907\n",
      "                    macro avg       0.38      0.38      0.38      2907\n",
      "                 weighted avg       0.48      0.47      0.48      2907\n",
      "\n",
      "[[195  22   7  13  10  17  10   4  51  16]\n",
      " [ 28  21   5  20   5  13  11   2  21  27]\n",
      " [ 17   6 128  18  10  11  16   4  12  12]\n",
      " [ 28  18  23 116  23  34  19   2  31  15]\n",
      " [ 11   8  12  14  49  13  12  12  11   3]\n",
      " [ 20  12   6  38  19 108  29  10  35  16]\n",
      " [ 12  19  15  22  12  22  75   3  16  44]\n",
      " [  4   2   5   3   6   6   9   6   8   5]\n",
      " [ 69  36  12  29  16  45  27  11 568  41]\n",
      " [ 20  14  11  18   8  14  39   7  41 108]]\n"
     ]
    }
   ],
   "source": [
    "y_predict = classifier_tree.fit(Ftrain, Ltrain).predict(Ftest)\n",
    "class_names = target.unique()\n",
    "print(classification_report(Ltest, y_predict, target_names=class_names))\n",
    "print(confusion_matrix(Ltest, y_predict))"
   ]
  },
  {
   "cell_type": "markdown",
   "id": "21af7568",
   "metadata": {},
   "source": [
    "# KNN on green channel data"
   ]
  },
  {
   "cell_type": "code",
   "execution_count": 58,
   "id": "461b784b",
   "metadata": {},
   "outputs": [
    {
     "data": {
      "text/plain": [
       "0.5087719298245614"
      ]
     },
     "execution_count": 58,
     "metadata": {},
     "output_type": "execute_result"
    }
   ],
   "source": [
    "#reading numpy array data\n",
    "green_test = np.load('green_data.npy')\n",
    "#reading csv file\n",
    "green_df = pd.read_csv('green_data.csv')\n",
    "loaded = []\n",
    "for i in green_test:\n",
    "    k = []\n",
    "    k = np.asarray(i,dtype='uint8')\n",
    "    loaded.append(k)\n",
    "features = loaded\n",
    "target = green_df['disease']\n",
    "kmodel.fit(Ftrain,Ltrain)\n",
    "kmodel.score(Ftest,Ltest)"
   ]
  },
  {
   "cell_type": "code",
   "execution_count": 59,
   "id": "3b84096d",
   "metadata": {},
   "outputs": [
    {
     "name": "stdout",
     "output_type": "stream",
     "text": [
      "                               precision    recall  f1-score   support\n",
      "\n",
      "               bacterial_spot       0.32      0.79      0.46       345\n",
      "                 early_blight       0.00      0.00      0.00       153\n",
      "                      healthy       0.34      0.72      0.46       234\n",
      "                  late_blight       0.43      0.38      0.40       309\n",
      "                    leaf_mold       0.68      0.47      0.56       145\n",
      "           septoria_leaf_spot       0.67      0.23      0.34       293\n",
      "                  target_spot       0.64      0.07      0.13       240\n",
      "          tomato_mosaic_virus       1.00      0.02      0.04        54\n",
      "tomato_yellow_leaf_curl_virus       0.77      0.76      0.77       854\n",
      "      two-spotted_spider_mite       0.54      0.41      0.47       280\n",
      "\n",
      "                     accuracy                           0.51      2907\n",
      "                    macro avg       0.54      0.39      0.36      2907\n",
      "                 weighted avg       0.56      0.51      0.48      2907\n",
      "\n",
      "[[274   0  38  12   0   0   0   0  20   1]\n",
      " [101   0  12   5   0   5   4   0  20   6]\n",
      " [ 33   0 168  26   1   0   0   0   2   4]\n",
      " [ 61   0  64 118  12  20   1   0  25   8]\n",
      " [ 20   0  19  24  68   0   0   0  10   4]\n",
      " [ 29   0  62  48  15  67   3   0  50  19]\n",
      " [123   0  50   4   0   4  18   0  11  30]\n",
      " [  5   0  11  15   4   0   0   1   7  11]\n",
      " [126   0  54   7   0   3   1   0 649  14]\n",
      " [ 77   0  23  16   0   1   1   0  46 116]]\n"
     ]
    },
    {
     "name": "stderr",
     "output_type": "stream",
     "text": [
      "C:\\Users\\ravic\\anaconda3\\lib\\site-packages\\sklearn\\metrics\\_classification.py:1318: UndefinedMetricWarning: Precision and F-score are ill-defined and being set to 0.0 in labels with no predicted samples. Use `zero_division` parameter to control this behavior.\n",
      "  _warn_prf(average, modifier, msg_start, len(result))\n",
      "C:\\Users\\ravic\\anaconda3\\lib\\site-packages\\sklearn\\metrics\\_classification.py:1318: UndefinedMetricWarning: Precision and F-score are ill-defined and being set to 0.0 in labels with no predicted samples. Use `zero_division` parameter to control this behavior.\n",
      "  _warn_prf(average, modifier, msg_start, len(result))\n",
      "C:\\Users\\ravic\\anaconda3\\lib\\site-packages\\sklearn\\metrics\\_classification.py:1318: UndefinedMetricWarning: Precision and F-score are ill-defined and being set to 0.0 in labels with no predicted samples. Use `zero_division` parameter to control this behavior.\n",
      "  _warn_prf(average, modifier, msg_start, len(result))\n"
     ]
    }
   ],
   "source": [
    "y_predict = kmodel.fit(Ftrain, Ltrain).predict(Ftest)\n",
    "class_names = target.unique()\n",
    "print(classification_report(Ltest, y_predict, target_names=class_names))\n",
    "print(confusion_matrix(Ltest, y_predict))"
   ]
  },
  {
   "cell_type": "markdown",
   "id": "71f3ea86",
   "metadata": {},
   "source": [
    "# Logistic on Green channel data"
   ]
  },
  {
   "cell_type": "code",
   "execution_count": 60,
   "id": "28dad6b2",
   "metadata": {},
   "outputs": [
    {
     "data": {
      "text/plain": [
       "0.7014103887168902"
      ]
     },
     "execution_count": 60,
     "metadata": {},
     "output_type": "execute_result"
    }
   ],
   "source": [
    "model.fit(Ftrain,Ltrain)\n",
    "model.score(Ftest,Ltest)"
   ]
  },
  {
   "cell_type": "code",
   "execution_count": 61,
   "id": "839a329f",
   "metadata": {},
   "outputs": [
    {
     "name": "stdout",
     "output_type": "stream",
     "text": [
      "                               precision    recall  f1-score   support\n",
      "\n",
      "               bacterial_spot       0.61      0.79      0.69       345\n",
      "                 early_blight       0.41      0.37      0.39       153\n",
      "                      healthy       0.71      0.65      0.68       234\n",
      "                  late_blight       0.61      0.58      0.60       309\n",
      "                    leaf_mold       0.67      0.61      0.64       145\n",
      "           septoria_leaf_spot       0.61      0.60      0.61       293\n",
      "                  target_spot       0.56      0.46      0.51       240\n",
      "          tomato_mosaic_virus       0.69      0.70      0.70        54\n",
      "tomato_yellow_leaf_curl_virus       0.91      0.91      0.91       854\n",
      "      two-spotted_spider_mite       0.65      0.67      0.66       280\n",
      "\n",
      "                     accuracy                           0.70      2907\n",
      "                    macro avg       0.64      0.63      0.64      2907\n",
      "                 weighted avg       0.70      0.70      0.70      2907\n",
      "\n",
      "[[271  13   6  20   0   8   5   0  21   1]\n",
      " [ 29  56   3  22   2   8   9   2  11  11]\n",
      " [  4  12 153  16   3  10  27   0   1   8]\n",
      " [ 27  19  15 180  14  20   3   2  12  17]\n",
      " [  5   5   3   7  88  23   2   1   5   6]\n",
      " [ 24  10   7  19  18 177  12   6  12   8]\n",
      " [ 19  10  20   9   2  23 111   2   3  41]\n",
      " [  0   0   0   0   4  10   1  38   0   1]\n",
      " [ 39   3   1  12   0   6   6   0 777  10]\n",
      " [ 25   7   6   9   1   5  21   4  14 188]]\n"
     ]
    }
   ],
   "source": [
    "y_predict = model.fit(Ftrain, Ltrain).predict(Ftest)\n",
    "class_names = target.unique()\n",
    "print(classification_report(Ltest, y_predict, target_names=class_names))\n",
    "print(confusion_matrix(Ltest, y_predict))"
   ]
  },
  {
   "cell_type": "markdown",
   "id": "f62f0223",
   "metadata": {},
   "source": [
    "# SVM on green channel data"
   ]
  },
  {
   "cell_type": "code",
   "execution_count": 62,
   "id": "e89e7297",
   "metadata": {},
   "outputs": [
    {
     "name": "stdout",
     "output_type": "stream",
     "text": [
      "0.7798417612659099\n"
     ]
    }
   ],
   "source": [
    "clf.fit(Ftrain,Ltrain)\n",
    "y_pred = clf.predict(Ftest)\n",
    "print(accuracy_score(Ltest,y_pred))"
   ]
  },
  {
   "cell_type": "code",
   "execution_count": 63,
   "id": "0a214a95",
   "metadata": {},
   "outputs": [
    {
     "name": "stdout",
     "output_type": "stream",
     "text": [
      "                               precision    recall  f1-score   support\n",
      "\n",
      "               bacterial_spot       0.72      0.86      0.78       345\n",
      "                 early_blight       0.42      0.35      0.38       153\n",
      "                      healthy       0.84      0.81      0.82       234\n",
      "                  late_blight       0.72      0.72      0.72       309\n",
      "                    leaf_mold       0.71      0.69      0.70       145\n",
      "           septoria_leaf_spot       0.74      0.74      0.74       293\n",
      "                  target_spot       0.72      0.65      0.68       240\n",
      "          tomato_mosaic_virus       0.78      0.83      0.80        54\n",
      "tomato_yellow_leaf_curl_virus       0.92      0.92      0.92       854\n",
      "      two-spotted_spider_mite       0.73      0.72      0.73       280\n",
      "\n",
      "                     accuracy                           0.78      2907\n",
      "                    macro avg       0.73      0.73      0.73      2907\n",
      "                 weighted avg       0.78      0.78      0.78      2907\n",
      "\n",
      "[[296  14   2  12   0   1   0   0  20   0]\n",
      " [ 35  54   3  23   0   6   9   0   8  15]\n",
      " [  3   5 189  14   3   5  13   0   0   2]\n",
      " [ 14  15  10 223  14  10   2   0  13   8]\n",
      " [  4   3   4   4 100  20   1   3   4   2]\n",
      " [  6   6   8   8  15 218  12   8   7   5]\n",
      " [  5  23   4   3   4  15 155   1   0  30]\n",
      " [  0   0   0   0   2   6   0  45   0   1]\n",
      " [ 40   5   0  10   0   3   1   0 785  10]\n",
      " [  8   3   5  12   3   9  22   1  15 202]]\n"
     ]
    }
   ],
   "source": [
    "y_predict = clf.fit(Ftrain, Ltrain).predict(Ftest)\n",
    "class_names = target.unique()\n",
    "print(classification_report(Ltest, y_predict, target_names=class_names))\n",
    "print(confusion_matrix(Ltest, y_predict))"
   ]
  },
  {
   "cell_type": "markdown",
   "id": "4f8e565e",
   "metadata": {},
   "source": [
    "# Random Forest on green channel data"
   ]
  },
  {
   "cell_type": "code",
   "execution_count": 64,
   "id": "96c92f8f",
   "metadata": {},
   "outputs": [
    {
     "data": {
      "text/plain": [
       "0.5524776324845148"
      ]
     },
     "execution_count": 64,
     "metadata": {},
     "output_type": "execute_result"
    }
   ],
   "source": [
    "classifier_rf.fit(Ftrain, Ltrain)\n",
    "classifier_rf.oob_score_"
   ]
  },
  {
   "cell_type": "code",
   "execution_count": 65,
   "id": "a8f818ad",
   "metadata": {},
   "outputs": [
    {
     "name": "stdout",
     "output_type": "stream",
     "text": [
      "                               precision    recall  f1-score   support\n",
      "\n",
      "               bacterial_spot       0.78      0.55      0.65       345\n",
      "                 early_blight       0.00      0.00      0.00       153\n",
      "                      healthy       0.66      0.79      0.72       234\n",
      "                  late_blight       0.66      0.42      0.51       309\n",
      "                    leaf_mold       0.75      0.41      0.53       145\n",
      "           septoria_leaf_spot       0.58      0.48      0.52       293\n",
      "                  target_spot       0.49      0.28      0.36       240\n",
      "          tomato_mosaic_virus       0.00      0.00      0.00        54\n",
      "tomato_yellow_leaf_curl_virus       0.49      0.98      0.66       854\n",
      "      two-spotted_spider_mite       0.48      0.04      0.08       280\n",
      "\n",
      "                     accuracy                           0.56      2907\n",
      "                    macro avg       0.49      0.40      0.40      2907\n",
      "                 weighted avg       0.54      0.56      0.50      2907\n",
      "\n",
      "[[191   0   9  14   0   0   3   0 128   0]\n",
      " [ 13   0   5   3   0  16  12   0 101   3]\n",
      " [  2   0 186   4   1   1   3   0  35   2]\n",
      " [  3   0  28 129  10  39  12   0  87   1]\n",
      " [  5   0  17   8  59  10   2   0  44   0]\n",
      " [  4   0   5  17   7 141   2   0 117   0]\n",
      " [ 13   0  22   8   0  26  68   0  97   6]\n",
      " [  0   0   3   3   2   3   0   0  42   1]\n",
      " [  4   0   3   3   0   7   1   0 836   0]\n",
      " [ 10   0   5   6   0   2  37   0 208  12]]\n"
     ]
    },
    {
     "name": "stderr",
     "output_type": "stream",
     "text": [
      "C:\\Users\\ravic\\anaconda3\\lib\\site-packages\\sklearn\\metrics\\_classification.py:1318: UndefinedMetricWarning: Precision and F-score are ill-defined and being set to 0.0 in labels with no predicted samples. Use `zero_division` parameter to control this behavior.\n",
      "  _warn_prf(average, modifier, msg_start, len(result))\n",
      "C:\\Users\\ravic\\anaconda3\\lib\\site-packages\\sklearn\\metrics\\_classification.py:1318: UndefinedMetricWarning: Precision and F-score are ill-defined and being set to 0.0 in labels with no predicted samples. Use `zero_division` parameter to control this behavior.\n",
      "  _warn_prf(average, modifier, msg_start, len(result))\n",
      "C:\\Users\\ravic\\anaconda3\\lib\\site-packages\\sklearn\\metrics\\_classification.py:1318: UndefinedMetricWarning: Precision and F-score are ill-defined and being set to 0.0 in labels with no predicted samples. Use `zero_division` parameter to control this behavior.\n",
      "  _warn_prf(average, modifier, msg_start, len(result))\n"
     ]
    }
   ],
   "source": [
    "y_predict = classifier_rf.fit(Ftrain, Ltrain).predict(Ftest)\n",
    "class_names = target.unique()\n",
    "print(classification_report(Ltest, y_predict, target_names=class_names))\n",
    "print(confusion_matrix(Ltest, y_predict))"
   ]
  },
  {
   "cell_type": "markdown",
   "id": "e9b1cca9",
   "metadata": {},
   "source": [
    "# Naive bayes on Green channel data"
   ]
  },
  {
   "cell_type": "code",
   "execution_count": 66,
   "id": "1136802c",
   "metadata": {},
   "outputs": [
    {
     "data": {
      "text/plain": [
       "0.4977640178878569"
      ]
     },
     "execution_count": 66,
     "metadata": {},
     "output_type": "execute_result"
    }
   ],
   "source": [
    "gnb.fit(Ftrain, Ltrain)\n",
    "y_pred = gnb.predict(Ftest)\n",
    "metrics.accuracy_score(Ltest, y_pred)"
   ]
  },
  {
   "cell_type": "code",
   "execution_count": 67,
   "id": "413e42be",
   "metadata": {},
   "outputs": [
    {
     "name": "stdout",
     "output_type": "stream",
     "text": [
      "                               precision    recall  f1-score   support\n",
      "\n",
      "               bacterial_spot       0.55      0.75      0.63       345\n",
      "                 early_blight       0.24      0.31      0.27       153\n",
      "                      healthy       0.39      0.67      0.49       234\n",
      "                  late_blight       0.50      0.29      0.37       309\n",
      "                    leaf_mold       0.53      0.45      0.49       145\n",
      "           septoria_leaf_spot       0.45      0.44      0.45       293\n",
      "                  target_spot       0.49      0.43      0.46       240\n",
      "          tomato_mosaic_virus       0.17      0.72      0.28        54\n",
      "tomato_yellow_leaf_curl_virus       0.88      0.48      0.63       854\n",
      "      two-spotted_spider_mite       0.41      0.51      0.46       280\n",
      "\n",
      "                     accuracy                           0.50      2907\n",
      "                    macro avg       0.46      0.51      0.45      2907\n",
      "                 weighted avg       0.58      0.50      0.51      2907\n",
      "\n",
      "[[259   7  36   7   0   1   6   6  19   4]\n",
      " [ 33  47   2  24   0  10  19   4   6   8]\n",
      " [  3   7 156  10   7   3  29   6   1  12]\n",
      " [  2  45  92  89  16  29   7  21   4   4]\n",
      " [  7   6   6  11  65  21   2  20   2   5]\n",
      " [  8  10  35   8  22 130  20  24  11  25]\n",
      " [ 16  14   4   7   3  27 104  10   2  53]\n",
      " [  4   0   3   0   1   4   0  39   2   1]\n",
      " [128  35  59  17   7  41   5  56 414  92]\n",
      " [ 12  24   4   5   2  20  21  41   7 144]]\n"
     ]
    }
   ],
   "source": [
    "class_names = target.unique()\n",
    "print(classification_report(Ltest, y_pred, target_names=class_names))\n",
    "print(confusion_matrix(Ltest, y_pred))"
   ]
  },
  {
   "cell_type": "markdown",
   "id": "9002e08b",
   "metadata": {},
   "source": [
    "# Decision Tree on Green channel"
   ]
  },
  {
   "cell_type": "code",
   "execution_count": 68,
   "id": "6b115934",
   "metadata": {},
   "outputs": [
    {
     "data": {
      "text/plain": [
       "0.4764361885104919"
      ]
     },
     "execution_count": 68,
     "metadata": {},
     "output_type": "execute_result"
    }
   ],
   "source": [
    "classifier_tree.fit(Ftrain, Ltrain)\n",
    "classifier_tree.score(Ftest,Ltest)"
   ]
  },
  {
   "cell_type": "code",
   "execution_count": 69,
   "id": "a1694af3",
   "metadata": {},
   "outputs": [
    {
     "name": "stdout",
     "output_type": "stream",
     "text": [
      "                               precision    recall  f1-score   support\n",
      "\n",
      "               bacterial_spot       0.50      0.57      0.53       345\n",
      "                 early_blight       0.12      0.12      0.12       153\n",
      "                      healthy       0.56      0.55      0.55       234\n",
      "                  late_blight       0.41      0.38      0.39       309\n",
      "                    leaf_mold       0.32      0.34      0.33       145\n",
      "           septoria_leaf_spot       0.40      0.40      0.40       293\n",
      "                  target_spot       0.34      0.34      0.34       240\n",
      "          tomato_mosaic_virus       0.05      0.07      0.06        54\n",
      "tomato_yellow_leaf_curl_virus       0.71      0.67      0.69       854\n",
      "      two-spotted_spider_mite       0.39      0.38      0.39       280\n",
      "\n",
      "                     accuracy                           0.48      2907\n",
      "                    macro avg       0.38      0.38      0.38      2907\n",
      "                 weighted avg       0.49      0.48      0.48      2907\n",
      "\n",
      "[[198  18  13  13   9  13  12   2  52  15]\n",
      " [ 24  18   7  19   5   9  14   7  28  22]\n",
      " [ 15   9 129  16   6  12  24   6   8   9]\n",
      " [ 25  19  22 116  25  33  15   6  31  17]\n",
      " [ 12   8  13  17  50  16   4   6  12   7]\n",
      " [ 12  14  10  31  22 117  21  16  35  15]\n",
      " [ 15  15  18  23   9  22  82   2  17  37]\n",
      " [  1   7   4   3  10   6   7   4   8   4]\n",
      " [ 73  28   7  30  15  50  20  17 574  40]\n",
      " [ 21  16   8  15   6  17  40   8  42 107]]\n"
     ]
    }
   ],
   "source": [
    "y_predict = classifier_tree.fit(Ftrain, Ltrain).predict(Ftest)\n",
    "class_names = target.unique()\n",
    "print(classification_report(Ltest, y_predict, target_names=class_names))\n",
    "print(confusion_matrix(Ltest, y_predict))"
   ]
  },
  {
   "cell_type": "markdown",
   "id": "75817642",
   "metadata": {},
   "source": [
    "# KNN on blue channel data"
   ]
  },
  {
   "cell_type": "code",
   "execution_count": 70,
   "id": "531e3624",
   "metadata": {},
   "outputs": [
    {
     "data": {
      "text/plain": [
       "0.5087719298245614"
      ]
     },
     "execution_count": 70,
     "metadata": {},
     "output_type": "execute_result"
    }
   ],
   "source": [
    "#reading numpy array data\n",
    "blue_test = np.load('blue_data.npy')\n",
    "#reading csv file\n",
    "blue_df = pd.read_csv('blue_data.csv')\n",
    "loaded = []\n",
    "for i in gray_test:\n",
    "    k = []\n",
    "    k = np.asarray(i,dtype='uint8')\n",
    "    loaded.append(k)\n",
    "features = loaded\n",
    "target = blue_df['disease']\n",
    "kmodel.fit(Ftrain,Ltrain)\n",
    "kmodel.score(Ftest,Ltest)"
   ]
  },
  {
   "cell_type": "code",
   "execution_count": 71,
   "id": "16330eb3",
   "metadata": {},
   "outputs": [
    {
     "name": "stdout",
     "output_type": "stream",
     "text": [
      "                               precision    recall  f1-score   support\n",
      "\n",
      "               bacterial_spot       0.32      0.79      0.46       345\n",
      "                 early_blight       0.00      0.00      0.00       153\n",
      "                      healthy       0.34      0.72      0.46       234\n",
      "                  late_blight       0.43      0.38      0.40       309\n",
      "                    leaf_mold       0.68      0.47      0.56       145\n",
      "           septoria_leaf_spot       0.67      0.23      0.34       293\n",
      "                  target_spot       0.64      0.07      0.13       240\n",
      "          tomato_mosaic_virus       1.00      0.02      0.04        54\n",
      "tomato_yellow_leaf_curl_virus       0.77      0.76      0.77       854\n",
      "      two-spotted_spider_mite       0.54      0.41      0.47       280\n",
      "\n",
      "                     accuracy                           0.51      2907\n",
      "                    macro avg       0.54      0.39      0.36      2907\n",
      "                 weighted avg       0.56      0.51      0.48      2907\n",
      "\n",
      "[[274   0  38  12   0   0   0   0  20   1]\n",
      " [101   0  12   5   0   5   4   0  20   6]\n",
      " [ 33   0 168  26   1   0   0   0   2   4]\n",
      " [ 61   0  64 118  12  20   1   0  25   8]\n",
      " [ 20   0  19  24  68   0   0   0  10   4]\n",
      " [ 29   0  62  48  15  67   3   0  50  19]\n",
      " [123   0  50   4   0   4  18   0  11  30]\n",
      " [  5   0  11  15   4   0   0   1   7  11]\n",
      " [126   0  54   7   0   3   1   0 649  14]\n",
      " [ 77   0  23  16   0   1   1   0  46 116]]\n"
     ]
    },
    {
     "name": "stderr",
     "output_type": "stream",
     "text": [
      "C:\\Users\\ravic\\anaconda3\\lib\\site-packages\\sklearn\\metrics\\_classification.py:1318: UndefinedMetricWarning: Precision and F-score are ill-defined and being set to 0.0 in labels with no predicted samples. Use `zero_division` parameter to control this behavior.\n",
      "  _warn_prf(average, modifier, msg_start, len(result))\n",
      "C:\\Users\\ravic\\anaconda3\\lib\\site-packages\\sklearn\\metrics\\_classification.py:1318: UndefinedMetricWarning: Precision and F-score are ill-defined and being set to 0.0 in labels with no predicted samples. Use `zero_division` parameter to control this behavior.\n",
      "  _warn_prf(average, modifier, msg_start, len(result))\n",
      "C:\\Users\\ravic\\anaconda3\\lib\\site-packages\\sklearn\\metrics\\_classification.py:1318: UndefinedMetricWarning: Precision and F-score are ill-defined and being set to 0.0 in labels with no predicted samples. Use `zero_division` parameter to control this behavior.\n",
      "  _warn_prf(average, modifier, msg_start, len(result))\n"
     ]
    }
   ],
   "source": [
    "y_predict = kmodel.fit(Ftrain, Ltrain).predict(Ftest)\n",
    "class_names = target.unique()\n",
    "print(classification_report(Ltest, y_predict, target_names=class_names))\n",
    "print(confusion_matrix(Ltest, y_predict))"
   ]
  },
  {
   "cell_type": "markdown",
   "id": "f452a113",
   "metadata": {},
   "source": [
    "# logistic on blue channel data"
   ]
  },
  {
   "cell_type": "code",
   "execution_count": 72,
   "id": "de158586",
   "metadata": {},
   "outputs": [
    {
     "data": {
      "text/plain": [
       "0.7014103887168902"
      ]
     },
     "execution_count": 72,
     "metadata": {},
     "output_type": "execute_result"
    }
   ],
   "source": [
    "model.fit(Ftrain,Ltrain)\n",
    "model.score(Ftest,Ltest)"
   ]
  },
  {
   "cell_type": "code",
   "execution_count": 73,
   "id": "30e98a1a",
   "metadata": {},
   "outputs": [
    {
     "name": "stdout",
     "output_type": "stream",
     "text": [
      "                               precision    recall  f1-score   support\n",
      "\n",
      "               bacterial_spot       0.61      0.79      0.69       345\n",
      "                 early_blight       0.41      0.37      0.39       153\n",
      "                      healthy       0.71      0.65      0.68       234\n",
      "                  late_blight       0.61      0.58      0.60       309\n",
      "                    leaf_mold       0.67      0.61      0.64       145\n",
      "           septoria_leaf_spot       0.61      0.60      0.61       293\n",
      "                  target_spot       0.56      0.46      0.51       240\n",
      "          tomato_mosaic_virus       0.69      0.70      0.70        54\n",
      "tomato_yellow_leaf_curl_virus       0.91      0.91      0.91       854\n",
      "      two-spotted_spider_mite       0.65      0.67      0.66       280\n",
      "\n",
      "                     accuracy                           0.70      2907\n",
      "                    macro avg       0.64      0.63      0.64      2907\n",
      "                 weighted avg       0.70      0.70      0.70      2907\n",
      "\n",
      "[[271  13   6  20   0   8   5   0  21   1]\n",
      " [ 29  56   3  22   2   8   9   2  11  11]\n",
      " [  4  12 153  16   3  10  27   0   1   8]\n",
      " [ 27  19  15 180  14  20   3   2  12  17]\n",
      " [  5   5   3   7  88  23   2   1   5   6]\n",
      " [ 24  10   7  19  18 177  12   6  12   8]\n",
      " [ 19  10  20   9   2  23 111   2   3  41]\n",
      " [  0   0   0   0   4  10   1  38   0   1]\n",
      " [ 39   3   1  12   0   6   6   0 777  10]\n",
      " [ 25   7   6   9   1   5  21   4  14 188]]\n"
     ]
    }
   ],
   "source": [
    "y_predict = model.fit(Ftrain, Ltrain).predict(Ftest)\n",
    "class_names = target.unique()\n",
    "print(classification_report(Ltest, y_predict, target_names=class_names))\n",
    "print(confusion_matrix(Ltest, y_predict))"
   ]
  },
  {
   "cell_type": "markdown",
   "id": "c7585c1d",
   "metadata": {},
   "source": [
    "# SVM on blue channel data"
   ]
  },
  {
   "cell_type": "code",
   "execution_count": 74,
   "id": "06fb4a0f",
   "metadata": {},
   "outputs": [
    {
     "name": "stdout",
     "output_type": "stream",
     "text": [
      "0.7798417612659099\n"
     ]
    }
   ],
   "source": [
    "clf.fit(Ftrain,Ltrain)\n",
    "y_pred = clf.predict(Ftest)\n",
    "print(accuracy_score(Ltest,y_pred))"
   ]
  },
  {
   "cell_type": "code",
   "execution_count": 75,
   "id": "6e1082ce",
   "metadata": {},
   "outputs": [
    {
     "name": "stdout",
     "output_type": "stream",
     "text": [
      "                               precision    recall  f1-score   support\n",
      "\n",
      "               bacterial_spot       0.72      0.86      0.78       345\n",
      "                 early_blight       0.42      0.35      0.38       153\n",
      "                      healthy       0.84      0.81      0.82       234\n",
      "                  late_blight       0.72      0.72      0.72       309\n",
      "                    leaf_mold       0.71      0.69      0.70       145\n",
      "           septoria_leaf_spot       0.74      0.74      0.74       293\n",
      "                  target_spot       0.72      0.65      0.68       240\n",
      "          tomato_mosaic_virus       0.78      0.83      0.80        54\n",
      "tomato_yellow_leaf_curl_virus       0.92      0.92      0.92       854\n",
      "      two-spotted_spider_mite       0.73      0.72      0.73       280\n",
      "\n",
      "                     accuracy                           0.78      2907\n",
      "                    macro avg       0.73      0.73      0.73      2907\n",
      "                 weighted avg       0.78      0.78      0.78      2907\n",
      "\n",
      "[[296  14   2  12   0   1   0   0  20   0]\n",
      " [ 35  54   3  23   0   6   9   0   8  15]\n",
      " [  3   5 189  14   3   5  13   0   0   2]\n",
      " [ 14  15  10 223  14  10   2   0  13   8]\n",
      " [  4   3   4   4 100  20   1   3   4   2]\n",
      " [  6   6   8   8  15 218  12   8   7   5]\n",
      " [  5  23   4   3   4  15 155   1   0  30]\n",
      " [  0   0   0   0   2   6   0  45   0   1]\n",
      " [ 40   5   0  10   0   3   1   0 785  10]\n",
      " [  8   3   5  12   3   9  22   1  15 202]]\n"
     ]
    }
   ],
   "source": [
    "y_predict = clf.fit(Ftrain, Ltrain).predict(Ftest)\n",
    "class_names = target.unique()\n",
    "print(classification_report(Ltest, y_predict, target_names=class_names))\n",
    "print(confusion_matrix(Ltest, y_predict))"
   ]
  },
  {
   "cell_type": "markdown",
   "id": "f4eb8c6c",
   "metadata": {},
   "source": [
    "# Random Forest on blue channel data"
   ]
  },
  {
   "cell_type": "code",
   "execution_count": 76,
   "id": "b71407b2",
   "metadata": {},
   "outputs": [
    {
     "data": {
      "text/plain": [
       "0.5524776324845148"
      ]
     },
     "execution_count": 76,
     "metadata": {},
     "output_type": "execute_result"
    }
   ],
   "source": [
    "classifier_rf.fit(Ftrain, Ltrain)\n",
    "classifier_rf.oob_score_"
   ]
  },
  {
   "cell_type": "code",
   "execution_count": 77,
   "id": "aa723da2",
   "metadata": {},
   "outputs": [
    {
     "name": "stdout",
     "output_type": "stream",
     "text": [
      "                               precision    recall  f1-score   support\n",
      "\n",
      "               bacterial_spot       0.78      0.55      0.65       345\n",
      "                 early_blight       0.00      0.00      0.00       153\n",
      "                      healthy       0.66      0.79      0.72       234\n",
      "                  late_blight       0.66      0.42      0.51       309\n",
      "                    leaf_mold       0.75      0.41      0.53       145\n",
      "           septoria_leaf_spot       0.58      0.48      0.52       293\n",
      "                  target_spot       0.49      0.28      0.36       240\n",
      "          tomato_mosaic_virus       0.00      0.00      0.00        54\n",
      "tomato_yellow_leaf_curl_virus       0.49      0.98      0.66       854\n",
      "      two-spotted_spider_mite       0.48      0.04      0.08       280\n",
      "\n",
      "                     accuracy                           0.56      2907\n",
      "                    macro avg       0.49      0.40      0.40      2907\n",
      "                 weighted avg       0.54      0.56      0.50      2907\n",
      "\n",
      "[[191   0   9  14   0   0   3   0 128   0]\n",
      " [ 13   0   5   3   0  16  12   0 101   3]\n",
      " [  2   0 186   4   1   1   3   0  35   2]\n",
      " [  3   0  28 129  10  39  12   0  87   1]\n",
      " [  5   0  17   8  59  10   2   0  44   0]\n",
      " [  4   0   5  17   7 141   2   0 117   0]\n",
      " [ 13   0  22   8   0  26  68   0  97   6]\n",
      " [  0   0   3   3   2   3   0   0  42   1]\n",
      " [  4   0   3   3   0   7   1   0 836   0]\n",
      " [ 10   0   5   6   0   2  37   0 208  12]]\n"
     ]
    },
    {
     "name": "stderr",
     "output_type": "stream",
     "text": [
      "C:\\Users\\ravic\\anaconda3\\lib\\site-packages\\sklearn\\metrics\\_classification.py:1318: UndefinedMetricWarning: Precision and F-score are ill-defined and being set to 0.0 in labels with no predicted samples. Use `zero_division` parameter to control this behavior.\n",
      "  _warn_prf(average, modifier, msg_start, len(result))\n",
      "C:\\Users\\ravic\\anaconda3\\lib\\site-packages\\sklearn\\metrics\\_classification.py:1318: UndefinedMetricWarning: Precision and F-score are ill-defined and being set to 0.0 in labels with no predicted samples. Use `zero_division` parameter to control this behavior.\n",
      "  _warn_prf(average, modifier, msg_start, len(result))\n",
      "C:\\Users\\ravic\\anaconda3\\lib\\site-packages\\sklearn\\metrics\\_classification.py:1318: UndefinedMetricWarning: Precision and F-score are ill-defined and being set to 0.0 in labels with no predicted samples. Use `zero_division` parameter to control this behavior.\n",
      "  _warn_prf(average, modifier, msg_start, len(result))\n"
     ]
    }
   ],
   "source": [
    "y_predict = classifier_rf.fit(Ftrain, Ltrain).predict(Ftest)\n",
    "class_names = target.unique()\n",
    "print(classification_report(Ltest, y_predict, target_names=class_names))\n",
    "print(confusion_matrix(Ltest, y_predict))"
   ]
  },
  {
   "cell_type": "markdown",
   "id": "fb1ca20e",
   "metadata": {},
   "source": [
    "# Naive bayes on blue channel data"
   ]
  },
  {
   "cell_type": "code",
   "execution_count": 78,
   "id": "11ea0b85",
   "metadata": {},
   "outputs": [
    {
     "data": {
      "text/plain": [
       "0.4977640178878569"
      ]
     },
     "execution_count": 78,
     "metadata": {},
     "output_type": "execute_result"
    }
   ],
   "source": [
    "gnb.fit(Ftrain, Ltrain)\n",
    "y_pred = gnb.predict(Ftest)\n",
    "metrics.accuracy_score(Ltest, y_pred)"
   ]
  },
  {
   "cell_type": "code",
   "execution_count": 79,
   "id": "ca5ce1db",
   "metadata": {},
   "outputs": [
    {
     "name": "stdout",
     "output_type": "stream",
     "text": [
      "                               precision    recall  f1-score   support\n",
      "\n",
      "               bacterial_spot       0.55      0.75      0.63       345\n",
      "                 early_blight       0.24      0.31      0.27       153\n",
      "                      healthy       0.39      0.67      0.49       234\n",
      "                  late_blight       0.50      0.29      0.37       309\n",
      "                    leaf_mold       0.53      0.45      0.49       145\n",
      "           septoria_leaf_spot       0.45      0.44      0.45       293\n",
      "                  target_spot       0.49      0.43      0.46       240\n",
      "          tomato_mosaic_virus       0.17      0.72      0.28        54\n",
      "tomato_yellow_leaf_curl_virus       0.88      0.48      0.63       854\n",
      "      two-spotted_spider_mite       0.41      0.51      0.46       280\n",
      "\n",
      "                     accuracy                           0.50      2907\n",
      "                    macro avg       0.46      0.51      0.45      2907\n",
      "                 weighted avg       0.58      0.50      0.51      2907\n",
      "\n",
      "[[259   7  36   7   0   1   6   6  19   4]\n",
      " [ 33  47   2  24   0  10  19   4   6   8]\n",
      " [  3   7 156  10   7   3  29   6   1  12]\n",
      " [  2  45  92  89  16  29   7  21   4   4]\n",
      " [  7   6   6  11  65  21   2  20   2   5]\n",
      " [  8  10  35   8  22 130  20  24  11  25]\n",
      " [ 16  14   4   7   3  27 104  10   2  53]\n",
      " [  4   0   3   0   1   4   0  39   2   1]\n",
      " [128  35  59  17   7  41   5  56 414  92]\n",
      " [ 12  24   4   5   2  20  21  41   7 144]]\n"
     ]
    }
   ],
   "source": [
    "class_names = target.unique()\n",
    "print(classification_report(Ltest, y_pred, target_names=class_names))\n",
    "print(confusion_matrix(Ltest, y_pred))"
   ]
  },
  {
   "cell_type": "markdown",
   "id": "d9c9d428",
   "metadata": {},
   "source": [
    "# Decision Tree on Blue channel"
   ]
  },
  {
   "cell_type": "code",
   "execution_count": 80,
   "id": "cbeebfa6",
   "metadata": {},
   "outputs": [
    {
     "data": {
      "text/plain": [
       "0.46680426556587545"
      ]
     },
     "execution_count": 80,
     "metadata": {},
     "output_type": "execute_result"
    }
   ],
   "source": [
    "classifier_tree.fit(Ftrain, Ltrain)\n",
    "classifier_tree.score(Ftest,Ltest)"
   ]
  },
  {
   "cell_type": "code",
   "execution_count": 81,
   "id": "ef622e2a",
   "metadata": {},
   "outputs": [
    {
     "name": "stdout",
     "output_type": "stream",
     "text": [
      "                               precision    recall  f1-score   support\n",
      "\n",
      "               bacterial_spot       0.50      0.56      0.53       345\n",
      "                 early_blight       0.10      0.10      0.10       153\n",
      "                      healthy       0.55      0.57      0.56       234\n",
      "                  late_blight       0.42      0.39      0.40       309\n",
      "                    leaf_mold       0.32      0.35      0.33       145\n",
      "           septoria_leaf_spot       0.38      0.40      0.39       293\n",
      "                  target_spot       0.33      0.35      0.34       240\n",
      "          tomato_mosaic_virus       0.09      0.09      0.09        54\n",
      "tomato_yellow_leaf_curl_virus       0.72      0.66      0.69       854\n",
      "      two-spotted_spider_mite       0.39      0.37      0.38       280\n",
      "\n",
      "                     accuracy                           0.48      2907\n",
      "                    macro avg       0.38      0.39      0.38      2907\n",
      "                 weighted avg       0.48      0.48      0.48      2907\n",
      "\n",
      "[[193  21  12  15   9  20  12   4  48  11]\n",
      " [ 23  16   8  20  10  11  16   2  25  22]\n",
      " [ 15   6 134  12   8  12  21   5  11  10]\n",
      " [ 27  15  22 119  20  37  24   2  30  13]\n",
      " [ 12  16  13  11  51  15   4   7  10   6]\n",
      " [ 13  13  10  32  27 117  20  14  33  14]\n",
      " [ 11  18  13  20  10  21  85   3  18  41]\n",
      " [  2   4   4   4   5   7   8   5   9   6]\n",
      " [ 71  33  16  34  14  47  25   9 563  42]\n",
      " [ 20  19  10  15   7  19  45   3  38 104]]\n"
     ]
    }
   ],
   "source": [
    "y_predict = classifier_tree.fit(Ftrain, Ltrain).predict(Ftest)\n",
    "class_names = target.unique()\n",
    "print(classification_report(Ltest, y_predict, target_names=class_names))\n",
    "print(confusion_matrix(Ltest, y_predict))"
   ]
  },
  {
   "cell_type": "code",
   "execution_count": 82,
   "id": "3ce367c9",
   "metadata": {},
   "outputs": [
    {
     "name": "stdout",
     "output_type": "stream",
     "text": [
      "99726.16295671463\n"
     ]
    }
   ],
   "source": [
    "end_time = time.time()\n",
    "print(end_time - start_time)"
   ]
  }
 ],
 "metadata": {
  "kernelspec": {
   "display_name": "Python 3 (ipykernel)",
   "language": "python",
   "name": "python3"
  },
  "language_info": {
   "codemirror_mode": {
    "name": "ipython",
    "version": 3
   },
   "file_extension": ".py",
   "mimetype": "text/x-python",
   "name": "python",
   "nbconvert_exporter": "python",
   "pygments_lexer": "ipython3",
   "version": "3.9.12"
  }
 },
 "nbformat": 4,
 "nbformat_minor": 5
}
