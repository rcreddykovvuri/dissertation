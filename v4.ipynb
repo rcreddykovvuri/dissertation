{
 "cells": [
  {
   "cell_type": "code",
   "execution_count": 1,
   "id": "164440f9",
   "metadata": {},
   "outputs": [],
   "source": [
    "import numpy as np\n",
    "import pandas as pd\n",
    "import PIL\n",
    "from PIL import Image\n",
    "import skimage\n",
    "import os\n",
    "import time\n",
    "start_time = time.time()"
   ]
  },
  {
   "cell_type": "code",
   "execution_count": 2,
   "id": "b323a63e",
   "metadata": {},
   "outputs": [],
   "source": [
    "from string import digits\n",
    "r_digits = str.maketrans('', '', digits)\n",
    "root = 'D://DKIT//dissertation//Dataset_of_Tomato Leaves//plantvillage//Preprocessed_data//Preprocessed_data//'\n",
    "os.chdir('D://DKIT//dissertation//Dataset_of_Tomato Leaves//plantvillage//Preprocessed_data//Preprocessed_data//')\n",
    "dirs = os.listdir()\n",
    "directories = []\n",
    "diseases = []\n",
    "for x in dirs:\n",
    "    res = x.translate(r_digits).lower()\n",
    "    diseases.append(res)\n",
    "    temp = root + x + '//'\n",
    "    directories.append(temp)"
   ]
  },
  {
   "cell_type": "code",
   "execution_count": 3,
   "id": "8c494810",
   "metadata": {},
   "outputs": [
    {
     "name": "stdout",
     "output_type": "stream",
     "text": [
      "['bacterial_spot', 'early_blight', 'healthy', 'late_blight', 'leaf_mold', 'septoria_leaf_spot', 'target_spot', 'tomato_mosaic_virus', 'tomato_yellow_leaf_curl_virus', 'two-spotted_spider_mite']\n",
      "['D://DKIT//dissertation//Dataset_of_Tomato Leaves//plantvillage//Preprocessed_data//Preprocessed_data//Bacterial_spot227//', 'D://DKIT//dissertation//Dataset_of_Tomato Leaves//plantvillage//Preprocessed_data//Preprocessed_data//Early_blight227//', 'D://DKIT//dissertation//Dataset_of_Tomato Leaves//plantvillage//Preprocessed_data//Preprocessed_data//healthy227//', 'D://DKIT//dissertation//Dataset_of_Tomato Leaves//plantvillage//Preprocessed_data//Preprocessed_data//Late_blight227//', 'D://DKIT//dissertation//Dataset_of_Tomato Leaves//plantvillage//Preprocessed_data//Preprocessed_data//Leaf_Mold227//', 'D://DKIT//dissertation//Dataset_of_Tomato Leaves//plantvillage//Preprocessed_data//Preprocessed_data//Septoria_leaf_spot227//', 'D://DKIT//dissertation//Dataset_of_Tomato Leaves//plantvillage//Preprocessed_data//Preprocessed_data//Target_Spot227//', 'D://DKIT//dissertation//Dataset_of_Tomato Leaves//plantvillage//Preprocessed_data//Preprocessed_data//Tomato_mosaic_virus227//', 'D://DKIT//dissertation//Dataset_of_Tomato Leaves//plantvillage//Preprocessed_data//Preprocessed_data//Tomato_Yellow_Leaf_Curl_Virus227//', 'D://DKIT//dissertation//Dataset_of_Tomato Leaves//plantvillage//Preprocessed_data//Preprocessed_data//Two-spotted_spider_mite227//']\n"
     ]
    }
   ],
   "source": [
    "print(diseases)\n",
    "print(directories)"
   ]
  },
  {
   "cell_type": "code",
   "execution_count": 4,
   "id": "c8006400",
   "metadata": {},
   "outputs": [],
   "source": [
    "red_data = pd.DataFrame(columns=['image_id','width','height','rgb','rgb_single','red','red_single','green','green_single','blue','blue_single','gray','gray_single','disease'])"
   ]
  },
  {
   "cell_type": "code",
   "execution_count": 5,
   "id": "9220e4fc",
   "metadata": {},
   "outputs": [],
   "source": [
    "x = 0\n",
    "for i in directories:\n",
    "    os.chdir(i)\n",
    "    k = diseases[x]\n",
    "    pics = os.listdir()\n",
    "    for j in pics:\n",
    "        temp_list = []\n",
    "        temp_list.append(j)\n",
    "        data = []\n",
    "        rgb_single = []\n",
    "        red = []\n",
    "        red_single = []\n",
    "        green = []\n",
    "        green_single = []\n",
    "        blue = []\n",
    "        blue_single = []\n",
    "        gray = []\n",
    "        image = Image.open(j,mode='r')\n",
    "        widt = image.width\n",
    "        temp_list.append(widt)\n",
    "        hgt = image.height\n",
    "        temp_list.append(hgt)\n",
    "        data = image.convert('RGB')\n",
    "        data = np.array(data)\n",
    "        temp_list.append(data)\n",
    "        rgb_single = data.ravel()\n",
    "        temp_list.append(rgb_single)\n",
    "        red = data[:,:,0]\n",
    "        green = data[:,:,1]\n",
    "        blue = data[:,:,2]\n",
    "        temp_list.append(red)\n",
    "        red_single = red.ravel()\n",
    "        temp_list.append(red_single)\n",
    "        temp_list.append(green)\n",
    "        green_single = green.ravel()\n",
    "        temp_list.append(green_single)\n",
    "        temp_list.append(blue)\n",
    "        blue_single = blue.ravel()\n",
    "        temp_list.append(blue_single)\n",
    "        gray = image.convert('L')\n",
    "        gray = np.array(gray)\n",
    "        temp_list.append(gray)\n",
    "        gray = gray.ravel()\n",
    "        temp_list.append(gray)\n",
    "        temp_list.append(k)\n",
    "        red_data.loc[len(red_data)] = temp_list\n",
    "    x = x+1"
   ]
  },
  {
   "cell_type": "code",
   "execution_count": 6,
   "id": "cfa52756",
   "metadata": {},
   "outputs": [],
   "source": [
    "red_data.to_csv('D://DKIT//dissertation//Dataset_of_Tomato Leaves//datasets//all_data.csv',index=False)\n",
    "only_red = red_data[['image_id','red','red_single','disease']]\n",
    "only_red.to_csv('D://DKIT//dissertation//Dataset_of_Tomato Leaves//datasets//red_data.csv',index=False)\n",
    "only_blue = red_data[['image_id','blue','blue_single','disease']]\n",
    "only_blue.to_csv('D://DKIT//dissertation//Dataset_of_Tomato Leaves//datasets//blue_data.csv',index=False)\n",
    "only_green = red_data[['image_id','green','green_single','disease']]\n",
    "only_green.to_csv('D://DKIT//dissertation//Dataset_of_Tomato Leaves//datasets//green_data.csv',index=False)\n",
    "only_gray = red_data[['image_id','gray','gray_single','disease']]\n",
    "only_gray.to_csv('D://DKIT//dissertation//Dataset_of_Tomato Leaves//datasets//gray_data.csv',index=False)\n",
    "only_rgb = red_data[['image_id','rgb','rgb_single','disease']]\n",
    "only_rgb.to_csv('D://DKIT//dissertation//Dataset_of_Tomato Leaves//datasets//rgb_data.csv',index=False)"
   ]
  },
  {
   "cell_type": "code",
   "execution_count": 7,
   "id": "a1625be1",
   "metadata": {},
   "outputs": [
    {
     "name": "stdout",
     "output_type": "stream",
     "text": [
      "time taken by the program to run: 1438.1375970840454\n"
     ]
    }
   ],
   "source": [
    "print('time taken by the program to run: %s'% (time.time()-start_time))"
   ]
  },
  {
   "cell_type": "code",
   "execution_count": null,
   "id": "972df9ab",
   "metadata": {},
   "outputs": [],
   "source": []
  }
 ],
 "metadata": {
  "kernelspec": {
   "display_name": "Python 3 (ipykernel)",
   "language": "python",
   "name": "python3"
  },
  "language_info": {
   "codemirror_mode": {
    "name": "ipython",
    "version": 3
   },
   "file_extension": ".py",
   "mimetype": "text/x-python",
   "name": "python",
   "nbconvert_exporter": "python",
   "pygments_lexer": "ipython3",
   "version": "3.9.7"
  }
 },
 "nbformat": 4,
 "nbformat_minor": 5
}
