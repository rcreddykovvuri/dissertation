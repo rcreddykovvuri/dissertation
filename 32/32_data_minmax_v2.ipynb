{
 "cells": [
  {
   "cell_type": "code",
   "execution_count": 1,
   "id": "bcdb1517",
   "metadata": {},
   "outputs": [],
   "source": [
    "import numpy as np #importing numpy\n",
    "import pandas as pd #importing pandas\n",
    "import PIL #importing pillow for image processing\n",
    "from PIL import Image#importing image from pillow library\n",
    "import skimage#importing skimage library\n",
    "import os#importing os library\n",
    "import time#importing time library\n",
    "\n",
    "#Capture start time of the program\n",
    "start_time = time.time()"
   ]
  },
  {
   "cell_type": "code",
   "execution_count": 2,
   "id": "9ec45970",
   "metadata": {},
   "outputs": [],
   "source": [
    "#changing path\n",
    "os.chdir('D://DKIT//dissertation//Dataset_of_Tomato_Leaves//plantvillage//Preprocessed_data//32//vector//')"
   ]
  },
  {
   "cell_type": "code",
   "execution_count": 3,
   "id": "ebe79cf6",
   "metadata": {},
   "outputs": [],
   "source": [
    "from sklearn.preprocessing import MinMaxScaler\n",
    "minmax = MinMaxScaler()"
   ]
  },
  {
   "cell_type": "markdown",
   "id": "e1e76605",
   "metadata": {},
   "source": [
    "# RGB Data"
   ]
  },
  {
   "cell_type": "code",
   "execution_count": 4,
   "id": "9386938c",
   "metadata": {},
   "outputs": [],
   "source": [
    "#reading numpy array data\n",
    "rgb_test = np.load('rgb_data.npy')\n",
    "#reading csv file\n",
    "rgb_df = pd.read_csv('rgb_data.csv')"
   ]
  },
  {
   "cell_type": "code",
   "execution_count": 5,
   "id": "40f528b5",
   "metadata": {},
   "outputs": [],
   "source": [
    "features = pd.DataFrame(rgb_test)"
   ]
  },
  {
   "cell_type": "code",
   "execution_count": 6,
   "id": "fdd9a1f6",
   "metadata": {},
   "outputs": [],
   "source": [
    "features = features.values"
   ]
  },
  {
   "cell_type": "code",
   "execution_count": 7,
   "id": "c6d5658c",
   "metadata": {},
   "outputs": [],
   "source": [
    "#assigning target\n",
    "target = rgb_df['disease']\n",
    "#splitting the data to 80 percent and 20 percent\n",
    "from sklearn.model_selection import train_test_split\n",
    "Ftrain,Ftest,Ltrain,Ltest=train_test_split(features,target, test_size=0.20, random_state=24)"
   ]
  },
  {
   "cell_type": "code",
   "execution_count": 8,
   "id": "c1415437",
   "metadata": {},
   "outputs": [],
   "source": [
    "Ftrain = minmax.fit_transform(Ftrain)\n",
    "Ftest = minmax.fit_transform(Ftest)"
   ]
  },
  {
   "cell_type": "code",
   "execution_count": 9,
   "id": "1fa0433e",
   "metadata": {},
   "outputs": [],
   "source": [
    "#importing classification report and confusion matrix\n",
    "from sklearn.metrics import classification_report, confusion_matrix"
   ]
  },
  {
   "cell_type": "markdown",
   "id": "d466ef5f",
   "metadata": {},
   "source": [
    "# SVM(poly) on RGB data"
   ]
  },
  {
   "cell_type": "code",
   "execution_count": 10,
   "id": "2427ed51",
   "metadata": {},
   "outputs": [
    {
     "name": "stdout",
     "output_type": "stream",
     "text": [
      "0.7887856897144823\n"
     ]
    }
   ],
   "source": [
    "from sklearn.svm import SVC\n",
    "from sklearn.metrics import accuracy_score\n",
    "\n",
    "svm_poly = SVC(kernel='poly')\n",
    "svm_poly.fit(Ftrain,Ltrain)\n",
    "y_pred = svm_poly.predict(Ftest)\n",
    "print(accuracy_score(Ltest,y_pred))"
   ]
  },
  {
   "cell_type": "code",
   "execution_count": 11,
   "id": "bf286604",
   "metadata": {},
   "outputs": [
    {
     "name": "stdout",
     "output_type": "stream",
     "text": [
      "                               precision    recall  f1-score   support\n",
      "\n",
      "               bacterial_spot       0.75      0.90      0.82       345\n",
      "                 early_blight       0.40      0.48      0.44       153\n",
      "                      healthy       0.82      0.90      0.86       234\n",
      "                  late_blight       0.71      0.71      0.71       309\n",
      "                    leaf_mold       0.69      0.69      0.69       145\n",
      "           septoria_leaf_spot       0.76      0.66      0.71       293\n",
      "                  target_spot       0.71      0.70      0.70       240\n",
      "          tomato_mosaic_virus       0.84      0.87      0.85        54\n",
      "tomato_yellow_leaf_curl_virus       0.97      0.90      0.93       854\n",
      "      two-spotted_spider_mite       0.78      0.74      0.76       280\n",
      "\n",
      "                     accuracy                           0.79      2907\n",
      "                    macro avg       0.74      0.75      0.75      2907\n",
      "                 weighted avg       0.80      0.79      0.79      2907\n",
      "\n",
      "[[309  15   2  12   0   2   1   0   4   0]\n",
      " [ 23  74   3  22   0   4  12   0   5  10]\n",
      " [  2   4 211   5   3   3   5   0   0   1]\n",
      " [ 18  35   5 218  13   8   4   0   5   3]\n",
      " [  3   5   3   9 100  18   2   2   1   2]\n",
      " [  9  12  14  13  19 194  14   5   5   8]\n",
      " [  5  21  11   2   2   7 167   1   1  23]\n",
      " [  0   0   0   1   1   5   0  47   0   0]\n",
      " [ 36  10   0  19   1   8   4   0 765  11]\n",
      " [  5  10   9   6   6   7  25   1   3 208]]\n"
     ]
    }
   ],
   "source": [
    "#classification report\n",
    "y_predict = svm_poly.fit(Ftrain, Ltrain).predict(Ftest)\n",
    "class_names = target.unique()\n",
    "print(classification_report(Ltest, y_predict, target_names=class_names))\n",
    "print(confusion_matrix(Ltest, y_predict))"
   ]
  },
  {
   "cell_type": "markdown",
   "id": "4101cb88",
   "metadata": {},
   "source": [
    "# SVM(RBF) on RGB data"
   ]
  },
  {
   "cell_type": "code",
   "execution_count": 12,
   "id": "235aaf3a",
   "metadata": {},
   "outputs": [
    {
     "name": "stdout",
     "output_type": "stream",
     "text": [
      "0.8300653594771242\n"
     ]
    }
   ],
   "source": [
    "svm_rbf = SVC(kernel='rbf')\n",
    "svm_rbf.fit(Ftrain,Ltrain)\n",
    "y_pred = svm_rbf.predict(Ftest)\n",
    "print(accuracy_score(Ltest,y_pred))"
   ]
  },
  {
   "cell_type": "code",
   "execution_count": 13,
   "id": "1c7ce3a6",
   "metadata": {},
   "outputs": [
    {
     "name": "stdout",
     "output_type": "stream",
     "text": [
      "                               precision    recall  f1-score   support\n",
      "\n",
      "               bacterial_spot       0.88      0.90      0.89       345\n",
      "                 early_blight       0.56      0.37      0.44       153\n",
      "                      healthy       0.91      0.95      0.93       234\n",
      "                  late_blight       0.74      0.82      0.78       309\n",
      "                    leaf_mold       0.81      0.66      0.73       145\n",
      "           septoria_leaf_spot       0.75      0.78      0.76       293\n",
      "                  target_spot       0.69      0.79      0.74       240\n",
      "          tomato_mosaic_virus       0.72      0.70      0.71        54\n",
      "tomato_yellow_leaf_curl_virus       0.95      0.93      0.94       854\n",
      "      two-spotted_spider_mite       0.82      0.79      0.80       280\n",
      "\n",
      "                     accuracy                           0.83      2907\n",
      "                    macro avg       0.78      0.77      0.77      2907\n",
      "                 weighted avg       0.83      0.83      0.83      2907\n",
      "\n",
      "[[309   5   2   6   0   1   5   0  17   0]\n",
      " [ 23  56   3  33   1   5  20   1   6   5]\n",
      " [  0   2 223   5   0   2   2   0   0   0]\n",
      " [  2  13   5 254   9   7   7   3   5   4]\n",
      " [  1   2   0  10  96  26   3   3   2   2]\n",
      " [  2   4   1  14  10 229  13   2  11   7]\n",
      " [  0   7   8   5   1  12 190   2   1  14]\n",
      " [  0   1   1   0   1  12   1  38   0   0]\n",
      " [ 15   4   0   9   0   7   5   0 798  16]\n",
      " [  0   6   2   8   0   6  30   4   4 220]]\n"
     ]
    }
   ],
   "source": [
    "#classification report\n",
    "y_predict = svm_rbf.fit(Ftrain, Ltrain).predict(Ftest)\n",
    "class_names = target.unique()\n",
    "print(classification_report(Ltest, y_predict, target_names=class_names))\n",
    "print(confusion_matrix(Ltest, y_predict))"
   ]
  },
  {
   "cell_type": "markdown",
   "id": "670ea3cc",
   "metadata": {},
   "source": [
    "# SVM(sigmoid) on RGB data"
   ]
  },
  {
   "cell_type": "code",
   "execution_count": 14,
   "id": "8aaf1a20",
   "metadata": {},
   "outputs": [
    {
     "name": "stdout",
     "output_type": "stream",
     "text": [
      "0.2934296525627795\n"
     ]
    }
   ],
   "source": [
    "svm_si = SVC(kernel='sigmoid')\n",
    "svm_si.fit(Ftrain,Ltrain)\n",
    "y_pred = svm_si.predict(Ftest)\n",
    "print(accuracy_score(Ltest,y_pred))"
   ]
  },
  {
   "cell_type": "code",
   "execution_count": 15,
   "id": "9beeb8fa",
   "metadata": {},
   "outputs": [
    {
     "name": "stdout",
     "output_type": "stream",
     "text": [
      "                               precision    recall  f1-score   support\n",
      "\n",
      "               bacterial_spot       0.00      0.00      0.00       345\n",
      "                 early_blight       0.00      0.00      0.00       153\n",
      "                      healthy       0.00      0.00      0.00       234\n",
      "                  late_blight       0.00      0.00      0.00       309\n",
      "                    leaf_mold       0.00      0.00      0.00       145\n",
      "           septoria_leaf_spot       0.00      0.00      0.00       293\n",
      "                  target_spot       0.00      0.00      0.00       240\n",
      "          tomato_mosaic_virus       0.00      0.00      0.00        54\n",
      "tomato_yellow_leaf_curl_virus       0.30      1.00      0.46       854\n",
      "      two-spotted_spider_mite       0.00      0.00      0.00       280\n",
      "\n",
      "                     accuracy                           0.29      2907\n",
      "                    macro avg       0.03      0.10      0.05      2907\n",
      "                 weighted avg       0.09      0.29      0.13      2907\n",
      "\n",
      "[[  0   0   0   0   0   0   0   0 345   0]\n",
      " [  0   0   0   0   0   0   0   0 153   0]\n",
      " [  0   0   0   0   0   0   0   0 234   0]\n",
      " [  0   0   0   0   0  33   0   0 276   0]\n",
      " [  1   0   0   0   0   0   0   0 144   0]\n",
      " [  0   0   0   0   0   0   0   0 293   0]\n",
      " [  0   0   0   0   0   1   0   0 239   0]\n",
      " [  0   0   0   0   0   0   0   0  54   0]\n",
      " [  1   0   0   0   0   0   0   0 853   0]\n",
      " [  0   0   0   0   0   0   0   0 280   0]]\n"
     ]
    },
    {
     "name": "stderr",
     "output_type": "stream",
     "text": [
      "C:\\Users\\ravic\\anaconda3\\lib\\site-packages\\sklearn\\metrics\\_classification.py:1318: UndefinedMetricWarning: Precision and F-score are ill-defined and being set to 0.0 in labels with no predicted samples. Use `zero_division` parameter to control this behavior.\n",
      "  _warn_prf(average, modifier, msg_start, len(result))\n",
      "C:\\Users\\ravic\\anaconda3\\lib\\site-packages\\sklearn\\metrics\\_classification.py:1318: UndefinedMetricWarning: Precision and F-score are ill-defined and being set to 0.0 in labels with no predicted samples. Use `zero_division` parameter to control this behavior.\n",
      "  _warn_prf(average, modifier, msg_start, len(result))\n",
      "C:\\Users\\ravic\\anaconda3\\lib\\site-packages\\sklearn\\metrics\\_classification.py:1318: UndefinedMetricWarning: Precision and F-score are ill-defined and being set to 0.0 in labels with no predicted samples. Use `zero_division` parameter to control this behavior.\n",
      "  _warn_prf(average, modifier, msg_start, len(result))\n"
     ]
    }
   ],
   "source": [
    "#classification report\n",
    "y_predict = svm_si.fit(Ftrain, Ltrain).predict(Ftest)\n",
    "class_names = target.unique()\n",
    "print(classification_report(Ltest, y_predict, target_names=class_names))\n",
    "print(confusion_matrix(Ltest, y_predict))"
   ]
  },
  {
   "cell_type": "markdown",
   "id": "f985c500",
   "metadata": {},
   "source": [
    "# Bernouli Naive bayes on RGB data"
   ]
  },
  {
   "cell_type": "code",
   "execution_count": 16,
   "id": "75a3f18f",
   "metadata": {},
   "outputs": [
    {
     "data": {
      "text/plain": [
       "0.35775713794289643"
      ]
     },
     "execution_count": 16,
     "metadata": {},
     "output_type": "execute_result"
    }
   ],
   "source": [
    "from sklearn.naive_bayes import BernoulliNB\n",
    "from sklearn import metrics\n",
    "bnb = BernoulliNB()\n",
    "bnb.fit(Ftrain, Ltrain)\n",
    "y_pred = bnb.predict(Ftest)\n",
    "metrics.accuracy_score(Ltest, y_pred)"
   ]
  },
  {
   "cell_type": "code",
   "execution_count": 17,
   "id": "694c01aa",
   "metadata": {},
   "outputs": [
    {
     "name": "stdout",
     "output_type": "stream",
     "text": [
      "                               precision    recall  f1-score   support\n",
      "\n",
      "               bacterial_spot       0.23      0.93      0.37       345\n",
      "                 early_blight       0.25      0.20      0.22       153\n",
      "                      healthy       0.30      0.15      0.20       234\n",
      "                  late_blight       0.75      0.14      0.23       309\n",
      "                    leaf_mold       0.17      0.09      0.12       145\n",
      "           septoria_leaf_spot       0.27      0.10      0.14       293\n",
      "                  target_spot       0.30      0.08      0.13       240\n",
      "          tomato_mosaic_virus       0.14      0.02      0.03        54\n",
      "tomato_yellow_leaf_curl_virus       0.76      0.57      0.65       854\n",
      "      two-spotted_spider_mite       0.20      0.22      0.21       280\n",
      "\n",
      "                     accuracy                           0.36      2907\n",
      "                    macro avg       0.34      0.25      0.23      2907\n",
      "                 weighted avg       0.45      0.36      0.34      2907\n",
      "\n",
      "[[322   0   2   0   3   3   1   0   5   9]\n",
      " [ 61  30   6   8   8   9   0   0  16  15]\n",
      " [130  10  35   0  11   7  11   2  11  17]\n",
      " [157  44   8  43  12   6   4   1  20  14]\n",
      " [ 85   8   7   2  13  15   0   1   8   6]\n",
      " [153  14  16   4  14  28   9   2  26  27]\n",
      " [141   3  13   0   8  11  19   0  15  30]\n",
      " [ 36   0   3   0   0   4   1   1   3   6]\n",
      " [190   9  16   0   6  14   9   0 488 122]\n",
      " [140   1   9   0   1   6   9   0  53  61]]\n"
     ]
    }
   ],
   "source": [
    "class_names = target.unique()\n",
    "print(classification_report(Ltest, y_pred, target_names=class_names))\n",
    "print(confusion_matrix(Ltest, y_pred))"
   ]
  },
  {
   "cell_type": "markdown",
   "id": "67dd930c",
   "metadata": {},
   "source": [
    "# Multinomial Naive bayes on RGB data"
   ]
  },
  {
   "cell_type": "code",
   "execution_count": 18,
   "id": "3b80acde",
   "metadata": {},
   "outputs": [
    {
     "data": {
      "text/plain": [
       "0.4602683178534572"
      ]
     },
     "execution_count": 18,
     "metadata": {},
     "output_type": "execute_result"
    }
   ],
   "source": [
    "from sklearn.naive_bayes import MultinomialNB\n",
    "mnb = MultinomialNB()\n",
    "mnb.fit(Ftrain, Ltrain)\n",
    "y_pred = mnb.predict(Ftest)\n",
    "metrics.accuracy_score(Ltest, y_pred)"
   ]
  },
  {
   "cell_type": "code",
   "execution_count": 19,
   "id": "d6ed705b",
   "metadata": {},
   "outputs": [
    {
     "name": "stdout",
     "output_type": "stream",
     "text": [
      "                               precision    recall  f1-score   support\n",
      "\n",
      "               bacterial_spot       0.44      0.44      0.44       345\n",
      "                 early_blight       0.13      0.27      0.18       153\n",
      "                      healthy       0.40      0.80      0.53       234\n",
      "                  late_blight       0.28      0.22      0.25       309\n",
      "                    leaf_mold       0.50      0.54      0.52       145\n",
      "           septoria_leaf_spot       0.34      0.16      0.21       293\n",
      "                  target_spot       0.53      0.38      0.44       240\n",
      "          tomato_mosaic_virus       0.17      0.65      0.27        54\n",
      "tomato_yellow_leaf_curl_virus       0.93      0.61      0.74       854\n",
      "      two-spotted_spider_mite       0.39      0.43      0.41       280\n",
      "\n",
      "                     accuracy                           0.46      2907\n",
      "                    macro avg       0.41      0.45      0.40      2907\n",
      "                 weighted avg       0.54      0.46      0.48      2907\n",
      "\n",
      "[[152  79  24  35   4  14  12   5  11   9]\n",
      " [ 32  42   9  10   2   7  10  21   4  16]\n",
      " [  0   3 187  12   5   7  12   5   0   3]\n",
      " [ 21  25 121  69  25   8   9  12   5  14]\n",
      " [  3   3  16   9  78   8   3  17   3   5]\n",
      " [ 34  23  34  47  31  46  12  34  13  19]\n",
      " [ 19  42  34   4   1  10  90  10   0  30]\n",
      " [  0   0   0   4   5   3   4  35   0   3]\n",
      " [ 62  64  21  46   4  20   0  33 519  85]\n",
      " [ 19  46  21  10   1  12  17  33   1 120]]\n"
     ]
    }
   ],
   "source": [
    "class_names = target.unique()\n",
    "print(classification_report(Ltest, y_pred, target_names=class_names))\n",
    "print(confusion_matrix(Ltest, y_pred))"
   ]
  },
  {
   "cell_type": "markdown",
   "id": "0e8f617d",
   "metadata": {},
   "source": [
    "# Grayscale data"
   ]
  },
  {
   "cell_type": "code",
   "execution_count": 20,
   "id": "57a9845e",
   "metadata": {},
   "outputs": [],
   "source": [
    "#reading numpy array data\n",
    "gray_test = np.load('gray_test.npy')\n",
    "#reading csv file\n",
    "gray_df = pd.read_csv('gray_data.csv')"
   ]
  },
  {
   "cell_type": "code",
   "execution_count": 21,
   "id": "d3abef95",
   "metadata": {},
   "outputs": [],
   "source": [
    "#assigning features and target to split the data\n",
    "features = pd.DataFrame(gray_test)\n",
    "features = features.values\n",
    "target = gray_df['disease']"
   ]
  },
  {
   "cell_type": "code",
   "execution_count": 22,
   "id": "a86eb99c",
   "metadata": {},
   "outputs": [],
   "source": [
    "#splitting the data to train and test\n",
    "Ftrain,Ftest,Ltrain,Ltest=train_test_split(features,target, test_size=0.20, random_state=24)"
   ]
  },
  {
   "cell_type": "code",
   "execution_count": 23,
   "id": "01626fe0",
   "metadata": {},
   "outputs": [],
   "source": [
    "Ftrain = minmax.fit_transform(Ftrain)\n",
    "Ftest = minmax.fit_transform(Ftest)"
   ]
  },
  {
   "cell_type": "markdown",
   "id": "8bfc6d84",
   "metadata": {},
   "source": [
    "# SVM(poly) on grayscale data"
   ]
  },
  {
   "cell_type": "code",
   "execution_count": 24,
   "id": "c9665abf",
   "metadata": {},
   "outputs": [
    {
     "name": "stdout",
     "output_type": "stream",
     "text": [
      "0.5472996216030271\n"
     ]
    }
   ],
   "source": [
    "svm_poly.fit(Ftrain,Ltrain)\n",
    "y_pred = svm_poly.predict(Ftest)\n",
    "print(accuracy_score(Ltest,y_pred))"
   ]
  },
  {
   "cell_type": "code",
   "execution_count": 25,
   "id": "2456eda7",
   "metadata": {},
   "outputs": [
    {
     "name": "stdout",
     "output_type": "stream",
     "text": [
      "                               precision    recall  f1-score   support\n",
      "\n",
      "               bacterial_spot       0.49      0.71      0.58       345\n",
      "                 early_blight       0.22      0.25      0.23       153\n",
      "                      healthy       0.57      0.74      0.64       234\n",
      "                  late_blight       0.49      0.57      0.53       309\n",
      "                    leaf_mold       0.47      0.46      0.47       145\n",
      "           septoria_leaf_spot       0.47      0.35      0.40       293\n",
      "                  target_spot       0.38      0.51      0.44       240\n",
      "          tomato_mosaic_virus       0.26      0.17      0.20        54\n",
      "tomato_yellow_leaf_curl_virus       0.80      0.61      0.69       854\n",
      "      two-spotted_spider_mite       0.66      0.49      0.56       280\n",
      "\n",
      "                     accuracy                           0.55      2907\n",
      "                    macro avg       0.48      0.49      0.48      2907\n",
      "                 weighted avg       0.57      0.55      0.55      2907\n",
      "\n",
      "[[244  16  11  18   3   8   9   0  36   0]\n",
      " [ 37  38   3  16   7   3  25   1  17   6]\n",
      " [ 13   7 172  13   7   7   9   0   4   2]\n",
      " [ 21  28  13 176   9  22  14   1  17   8]\n",
      " [ 13   6  11  18  67   9   8   2   9   2]\n",
      " [ 30  10  28  45  10 103  32   7  17  11]\n",
      " [ 31  15   8   5   7  13 123   2   8  28]\n",
      " [  4   0   3   5  10   9   2   9   9   3]\n",
      " [ 92  39  44  51  15  32  41   8 521  11]\n",
      " [ 17  12  10   9   7  11  58   4  14 138]]\n"
     ]
    }
   ],
   "source": [
    "#classification report\n",
    "y_predict = svm_poly.fit(Ftrain, Ltrain).predict(Ftest)\n",
    "class_names = target.unique()\n",
    "print(classification_report(Ltest, y_predict, target_names=class_names))\n",
    "print(confusion_matrix(Ltest, y_predict))"
   ]
  },
  {
   "cell_type": "markdown",
   "id": "bd417df9",
   "metadata": {},
   "source": [
    "# SVM(RBF) on grayscale data"
   ]
  },
  {
   "cell_type": "code",
   "execution_count": 26,
   "id": "67772464",
   "metadata": {},
   "outputs": [
    {
     "name": "stdout",
     "output_type": "stream",
     "text": [
      "0.6876504987960096\n"
     ]
    }
   ],
   "source": [
    "svm_rbf.fit(Ftrain,Ltrain)\n",
    "y_pred = svm_rbf.predict(Ftest)\n",
    "print(accuracy_score(Ltest,y_pred))"
   ]
  },
  {
   "cell_type": "code",
   "execution_count": 27,
   "id": "34bbfd97",
   "metadata": {},
   "outputs": [
    {
     "name": "stdout",
     "output_type": "stream",
     "text": [
      "                               precision    recall  f1-score   support\n",
      "\n",
      "               bacterial_spot       0.80      0.71      0.76       345\n",
      "                 early_blight       0.44      0.22      0.29       153\n",
      "                      healthy       0.72      0.88      0.79       234\n",
      "                  late_blight       0.61      0.70      0.65       309\n",
      "                    leaf_mold       0.74      0.46      0.57       145\n",
      "           septoria_leaf_spot       0.59      0.60      0.60       293\n",
      "                  target_spot       0.59      0.66      0.62       240\n",
      "          tomato_mosaic_virus       0.67      0.04      0.07        54\n",
      "tomato_yellow_leaf_curl_virus       0.74      0.82      0.78       854\n",
      "      two-spotted_spider_mite       0.71      0.68      0.69       280\n",
      "\n",
      "                     accuracy                           0.69      2907\n",
      "                    macro avg       0.66      0.58      0.58      2907\n",
      "                 weighted avg       0.68      0.69      0.67      2907\n",
      "\n",
      "[[246   4  11  16   1  10   5   0  49   3]\n",
      " [ 17  34   2  27   2   7  24   0  32   8]\n",
      " [  0   1 205   5   0   7   3   0  11   2]\n",
      " [  0  15   7 217   7  18   8   0  31   6]\n",
      " [  2   2   9  17  67  15   7   0  23   3]\n",
      " [  5   4  12  35   9 176  17   0  32   3]\n",
      " [  3   4   9   5   0  17 159   0  17  26]\n",
      " [  1   0   1   2   4  12   0   2  24   8]\n",
      " [ 31   7  26  26   1  28  13   0 702  20]\n",
      " [  1   7   4   6   0   7  33   1  30 191]]\n"
     ]
    }
   ],
   "source": [
    "#classification report\n",
    "y_predict = svm_rbf.fit(Ftrain, Ltrain).predict(Ftest)\n",
    "class_names = target.unique()\n",
    "print(classification_report(Ltest, y_predict, target_names=class_names))\n",
    "print(confusion_matrix(Ltest, y_predict))"
   ]
  },
  {
   "cell_type": "markdown",
   "id": "c1ed23e8",
   "metadata": {},
   "source": [
    "# SVM(sigmoid) on Grayscale data"
   ]
  },
  {
   "cell_type": "code",
   "execution_count": 28,
   "id": "b79e8630",
   "metadata": {},
   "outputs": [
    {
     "name": "stdout",
     "output_type": "stream",
     "text": [
      "0.2301341589267286\n"
     ]
    }
   ],
   "source": [
    "svm_si.fit(Ftrain,Ltrain)\n",
    "y_pred = svm_si.predict(Ftest)\n",
    "print(accuracy_score(Ltest,y_pred))"
   ]
  },
  {
   "cell_type": "code",
   "execution_count": 29,
   "id": "c64cd0a6",
   "metadata": {},
   "outputs": [
    {
     "name": "stdout",
     "output_type": "stream",
     "text": [
      "                               precision    recall  f1-score   support\n",
      "\n",
      "               bacterial_spot       0.06      0.12      0.08       345\n",
      "                 early_blight       0.00      0.00      0.00       153\n",
      "                      healthy       0.00      0.00      0.00       234\n",
      "                  late_blight       0.00      0.00      0.00       309\n",
      "                    leaf_mold       0.00      0.00      0.00       145\n",
      "           septoria_leaf_spot       0.00      0.00      0.00       293\n",
      "                  target_spot       0.00      0.00      0.00       240\n",
      "          tomato_mosaic_virus       0.00      0.00      0.00        54\n",
      "tomato_yellow_leaf_curl_virus       0.29      0.74      0.42       854\n",
      "      two-spotted_spider_mite       0.00      0.00      0.00       280\n",
      "\n",
      "                     accuracy                           0.23      2907\n",
      "                    macro avg       0.03      0.09      0.05      2907\n",
      "                 weighted avg       0.09      0.23      0.13      2907\n",
      "\n",
      "[[ 41   0   0   0   0   0   0   0 304   0]\n",
      " [ 11   0   0   0   0   0   0   0 142   0]\n",
      " [ 76   0   0   0   0   0   0   0 158   0]\n",
      " [131   0   0   0   0  33   0   0 145   0]\n",
      " [ 26   0   0   0   0   0   0   0 119   0]\n",
      " [156   0   0   0   0   0   0   0 137   0]\n",
      " [ 19   0   0   0   0   1   0   0 220   0]\n",
      " [  6   0   0   0   0   0   0   0  48   0]\n",
      " [226   0   0   0   0   0   0   0 628   0]\n",
      " [ 29   0   0   0   0   0   0   0 251   0]]\n"
     ]
    },
    {
     "name": "stderr",
     "output_type": "stream",
     "text": [
      "C:\\Users\\ravic\\anaconda3\\lib\\site-packages\\sklearn\\metrics\\_classification.py:1318: UndefinedMetricWarning: Precision and F-score are ill-defined and being set to 0.0 in labels with no predicted samples. Use `zero_division` parameter to control this behavior.\n",
      "  _warn_prf(average, modifier, msg_start, len(result))\n",
      "C:\\Users\\ravic\\anaconda3\\lib\\site-packages\\sklearn\\metrics\\_classification.py:1318: UndefinedMetricWarning: Precision and F-score are ill-defined and being set to 0.0 in labels with no predicted samples. Use `zero_division` parameter to control this behavior.\n",
      "  _warn_prf(average, modifier, msg_start, len(result))\n",
      "C:\\Users\\ravic\\anaconda3\\lib\\site-packages\\sklearn\\metrics\\_classification.py:1318: UndefinedMetricWarning: Precision and F-score are ill-defined and being set to 0.0 in labels with no predicted samples. Use `zero_division` parameter to control this behavior.\n",
      "  _warn_prf(average, modifier, msg_start, len(result))\n"
     ]
    }
   ],
   "source": [
    "#classification report\n",
    "y_predict = svm_si.fit(Ftrain, Ltrain).predict(Ftest)\n",
    "class_names = target.unique()\n",
    "print(classification_report(Ltest, y_predict, target_names=class_names))\n",
    "print(confusion_matrix(Ltest, y_predict))"
   ]
  },
  {
   "cell_type": "markdown",
   "id": "8ba631c4",
   "metadata": {},
   "source": [
    "# Bernouli Naive bayes on grayscale data"
   ]
  },
  {
   "cell_type": "code",
   "execution_count": 30,
   "id": "f9c1d1df",
   "metadata": {},
   "outputs": [
    {
     "data": {
      "text/plain": [
       "0.30994152046783624"
      ]
     },
     "execution_count": 30,
     "metadata": {},
     "output_type": "execute_result"
    }
   ],
   "source": [
    "bnb.fit(Ftrain, Ltrain)\n",
    "y_pred = bnb.predict(Ftest)\n",
    "metrics.accuracy_score(Ltest, y_pred)"
   ]
  },
  {
   "cell_type": "code",
   "execution_count": 31,
   "id": "5349d0e6",
   "metadata": {},
   "outputs": [
    {
     "name": "stdout",
     "output_type": "stream",
     "text": [
      "                               precision    recall  f1-score   support\n",
      "\n",
      "               bacterial_spot       0.00      0.00      0.00       345\n",
      "                 early_blight       0.25      0.01      0.02       153\n",
      "                      healthy       0.38      0.01      0.02       234\n",
      "                  late_blight       0.94      0.11      0.20       309\n",
      "                    leaf_mold       0.60      0.02      0.04       145\n",
      "           septoria_leaf_spot       0.33      0.01      0.03       293\n",
      "                  target_spot       0.00      0.00      0.00       240\n",
      "          tomato_mosaic_virus       0.00      0.00      0.00        54\n",
      "tomato_yellow_leaf_curl_virus       0.30      1.00      0.47       854\n",
      "      two-spotted_spider_mite       0.10      0.01      0.01       280\n",
      "\n",
      "                     accuracy                           0.31      2907\n",
      "                    macro avg       0.29      0.12      0.08      2907\n",
      "                 weighted avg       0.31      0.31      0.17      2907\n",
      "\n",
      "[[  0   0   0   0   0   0   0   0 345   0]\n",
      " [  0   2   2   0   0   1   1   3 141   3]\n",
      " [  0   1   3   1   0   2   0   0 227   0]\n",
      " [  0   1   1  34   1   3   0   3 263   3]\n",
      " [  0   1   2   0   3   2   0   1 133   3]\n",
      " [  0   2   0   1   0   4   0   1 280   5]\n",
      " [  0   0   0   0   1   0   0   1 237   1]\n",
      " [  0   1   0   0   0   0   0   0  50   3]\n",
      " [  0   0   0   0   0   0   0   0 853   1]\n",
      " [  0   0   0   0   0   0   0   0 278   2]]\n"
     ]
    },
    {
     "name": "stderr",
     "output_type": "stream",
     "text": [
      "C:\\Users\\ravic\\anaconda3\\lib\\site-packages\\sklearn\\metrics\\_classification.py:1318: UndefinedMetricWarning: Precision and F-score are ill-defined and being set to 0.0 in labels with no predicted samples. Use `zero_division` parameter to control this behavior.\n",
      "  _warn_prf(average, modifier, msg_start, len(result))\n",
      "C:\\Users\\ravic\\anaconda3\\lib\\site-packages\\sklearn\\metrics\\_classification.py:1318: UndefinedMetricWarning: Precision and F-score are ill-defined and being set to 0.0 in labels with no predicted samples. Use `zero_division` parameter to control this behavior.\n",
      "  _warn_prf(average, modifier, msg_start, len(result))\n",
      "C:\\Users\\ravic\\anaconda3\\lib\\site-packages\\sklearn\\metrics\\_classification.py:1318: UndefinedMetricWarning: Precision and F-score are ill-defined and being set to 0.0 in labels with no predicted samples. Use `zero_division` parameter to control this behavior.\n",
      "  _warn_prf(average, modifier, msg_start, len(result))\n"
     ]
    }
   ],
   "source": [
    "class_names = target.unique()\n",
    "print(classification_report(Ltest, y_pred, target_names=class_names))\n",
    "print(confusion_matrix(Ltest, y_pred))"
   ]
  },
  {
   "cell_type": "markdown",
   "id": "20b31faf",
   "metadata": {},
   "source": [
    "# Multinomial Naive bayes on Grayscale data"
   ]
  },
  {
   "cell_type": "code",
   "execution_count": 32,
   "id": "5bf3d424",
   "metadata": {},
   "outputs": [
    {
     "data": {
      "text/plain": [
       "0.3023735810113519"
      ]
     },
     "execution_count": 32,
     "metadata": {},
     "output_type": "execute_result"
    }
   ],
   "source": [
    "mnb.fit(Ftrain, Ltrain)\n",
    "y_pred = mnb.predict(Ftest)\n",
    "metrics.accuracy_score(Ltest, y_pred)"
   ]
  },
  {
   "cell_type": "code",
   "execution_count": 33,
   "id": "6ed85664",
   "metadata": {},
   "outputs": [
    {
     "name": "stderr",
     "output_type": "stream",
     "text": [
      "C:\\Users\\ravic\\anaconda3\\lib\\site-packages\\sklearn\\metrics\\_classification.py:1318: UndefinedMetricWarning: Precision and F-score are ill-defined and being set to 0.0 in labels with no predicted samples. Use `zero_division` parameter to control this behavior.\n",
      "  _warn_prf(average, modifier, msg_start, len(result))\n",
      "C:\\Users\\ravic\\anaconda3\\lib\\site-packages\\sklearn\\metrics\\_classification.py:1318: UndefinedMetricWarning: Precision and F-score are ill-defined and being set to 0.0 in labels with no predicted samples. Use `zero_division` parameter to control this behavior.\n",
      "  _warn_prf(average, modifier, msg_start, len(result))\n"
     ]
    },
    {
     "name": "stdout",
     "output_type": "stream",
     "text": [
      "                               precision    recall  f1-score   support\n",
      "\n",
      "               bacterial_spot       0.36      0.38      0.37       345\n",
      "                 early_blight       0.10      0.16      0.12       153\n",
      "                      healthy       0.22      0.71      0.34       234\n",
      "                  late_blight       0.17      0.12      0.14       309\n",
      "                    leaf_mold       0.46      0.29      0.35       145\n",
      "           septoria_leaf_spot       0.24      0.05      0.08       293\n",
      "                  target_spot       0.56      0.13      0.21       240\n",
      "          tomato_mosaic_virus       0.00      0.00      0.00        54\n",
      "tomato_yellow_leaf_curl_virus       0.40      0.42      0.41       854\n",
      "      two-spotted_spider_mite       0.32      0.29      0.30       280\n",
      "\n",
      "                     accuracy                           0.30      2907\n",
      "                    macro avg       0.28      0.25      0.23      2907\n",
      "                 weighted avg       0.33      0.30      0.28      2907\n",
      "\n",
      "[[130  59  50  21   1   4   2   0  59  19]\n",
      " [ 42  24   6   9   3   4   2   0  50  13]\n",
      " [  0   1 165  12   1  11   5   0  38   1]\n",
      " [ 27  14 144  37  22   6   4   0  44  11]\n",
      " [  6   4  14  16  42   6   0   0  54   3]\n",
      " [ 24  11  76  36  19  15   4   0  92  16]\n",
      " [ 42  18  19  18   0   5  31   0  77  30]\n",
      " [  3   0   3   6   1   0   0   0  38   3]\n",
      " [ 56  79 236  44   3   4   1   0 355  76]\n",
      " [ 28  34  22  17   0   7   6   0  86  80]]\n"
     ]
    },
    {
     "name": "stderr",
     "output_type": "stream",
     "text": [
      "C:\\Users\\ravic\\anaconda3\\lib\\site-packages\\sklearn\\metrics\\_classification.py:1318: UndefinedMetricWarning: Precision and F-score are ill-defined and being set to 0.0 in labels with no predicted samples. Use `zero_division` parameter to control this behavior.\n",
      "  _warn_prf(average, modifier, msg_start, len(result))\n"
     ]
    }
   ],
   "source": [
    "class_names = target.unique()\n",
    "print(classification_report(Ltest, y_pred, target_names=class_names))\n",
    "print(confusion_matrix(Ltest, y_pred))"
   ]
  },
  {
   "cell_type": "markdown",
   "id": "6f5719a1",
   "metadata": {},
   "source": [
    "# Red Channel data"
   ]
  },
  {
   "cell_type": "code",
   "execution_count": 34,
   "id": "5f8b0e11",
   "metadata": {},
   "outputs": [],
   "source": [
    "#reading numpy array data\n",
    "red_test = np.load('red_data.npy')\n",
    "#reading csv file\n",
    "red_df = pd.read_csv('red_data.csv')\n",
    "#assigning features and target to split the data\n",
    "features = pd.DataFrame(red_test)\n",
    "features = features.values\n",
    "target = red_df['disease']\n",
    "#splitting the data to train and test\n",
    "Ftrain,Ftest,Ltrain,Ltest=train_test_split(features,target, test_size=0.20, random_state=24)"
   ]
  },
  {
   "cell_type": "code",
   "execution_count": 35,
   "id": "04272862",
   "metadata": {},
   "outputs": [],
   "source": [
    "Ftrain = minmax.fit_transform(Ftrain)\n",
    "Ftest = minmax.fit_transform(Ftest)"
   ]
  },
  {
   "cell_type": "markdown",
   "id": "c81dd4d2",
   "metadata": {},
   "source": [
    "# SVM(poly) on Red data"
   ]
  },
  {
   "cell_type": "code",
   "execution_count": 36,
   "id": "a9cb2e28",
   "metadata": {},
   "outputs": [
    {
     "name": "stdout",
     "output_type": "stream",
     "text": [
      "0.5696594427244582\n"
     ]
    }
   ],
   "source": [
    "svm_poly.fit(Ftrain,Ltrain)\n",
    "y_pred = svm_poly.predict(Ftest)\n",
    "print(accuracy_score(Ltest,y_pred))"
   ]
  },
  {
   "cell_type": "code",
   "execution_count": 37,
   "id": "35b2ceaf",
   "metadata": {},
   "outputs": [
    {
     "name": "stdout",
     "output_type": "stream",
     "text": [
      "                               precision    recall  f1-score   support\n",
      "\n",
      "               bacterial_spot       0.56      0.73      0.64       345\n",
      "                 early_blight       0.21      0.31      0.25       153\n",
      "                      healthy       0.66      0.75      0.70       234\n",
      "                  late_blight       0.51      0.53      0.52       309\n",
      "                    leaf_mold       0.57      0.43      0.49       145\n",
      "           septoria_leaf_spot       0.43      0.44      0.43       293\n",
      "                  target_spot       0.41      0.48      0.44       240\n",
      "          tomato_mosaic_virus       0.33      0.31      0.32        54\n",
      "tomato_yellow_leaf_curl_virus       0.80      0.66      0.73       854\n",
      "      two-spotted_spider_mite       0.65      0.46      0.54       280\n",
      "\n",
      "                     accuracy                           0.57      2907\n",
      "                    macro avg       0.51      0.51      0.51      2907\n",
      "                 weighted avg       0.59      0.57      0.58      2907\n",
      "\n",
      "[[252  21   6  18   2   6   1   0  39   0]\n",
      " [ 27  48   3  14   2  15  22   0  16   6]\n",
      " [  9   5 175  14   3  14   7   2   3   2]\n",
      " [ 20  34  10 163  11  37  11   2  16   5]\n",
      " [  6   9   9  22  62  14   4   2  15   2]\n",
      " [ 22  14  16  39   6 129  25   8  21  13]\n",
      " [ 22  36  10   3   6  19 115   1   7  21]\n",
      " [  2   1   0   6   2   8   4  17  10   4]\n",
      " [ 77  33  30  36  13  36  33  14 567  15]\n",
      " [ 10  24   8   5   2  23  61   5  14 128]]\n"
     ]
    }
   ],
   "source": [
    "#classification report\n",
    "y_predict = svm_poly.fit(Ftrain, Ltrain).predict(Ftest)\n",
    "class_names = target.unique()\n",
    "print(classification_report(Ltest, y_predict, target_names=class_names))\n",
    "print(confusion_matrix(Ltest, y_predict))"
   ]
  },
  {
   "cell_type": "markdown",
   "id": "bcdfb873",
   "metadata": {},
   "source": [
    "# SVM(RBF) on Red data"
   ]
  },
  {
   "cell_type": "code",
   "execution_count": 38,
   "id": "5e806290",
   "metadata": {},
   "outputs": [
    {
     "name": "stdout",
     "output_type": "stream",
     "text": [
      "0.6893704850361198\n"
     ]
    }
   ],
   "source": [
    "svm_rbf.fit(Ftrain,Ltrain)\n",
    "y_pred = svm_rbf.predict(Ftest)\n",
    "print(accuracy_score(Ltest,y_pred))"
   ]
  },
  {
   "cell_type": "code",
   "execution_count": 39,
   "id": "e613add4",
   "metadata": {},
   "outputs": [
    {
     "name": "stdout",
     "output_type": "stream",
     "text": [
      "                               precision    recall  f1-score   support\n",
      "\n",
      "               bacterial_spot       0.79      0.73      0.76       345\n",
      "                 early_blight       0.51      0.23      0.32       153\n",
      "                      healthy       0.73      0.87      0.79       234\n",
      "                  late_blight       0.62      0.71      0.66       309\n",
      "                    leaf_mold       0.69      0.47      0.56       145\n",
      "           septoria_leaf_spot       0.57      0.55      0.56       293\n",
      "                  target_spot       0.61      0.64      0.62       240\n",
      "          tomato_mosaic_virus       1.00      0.04      0.07        54\n",
      "tomato_yellow_leaf_curl_virus       0.74      0.84      0.78       854\n",
      "      two-spotted_spider_mite       0.70      0.69      0.69       280\n",
      "\n",
      "                     accuracy                           0.69      2907\n",
      "                    macro avg       0.69      0.58      0.58      2907\n",
      "                 weighted avg       0.69      0.69      0.67      2907\n",
      "\n",
      "[[252   2  12  17   0   9   3   0  48   2]\n",
      " [ 17  35   2  27   1   8  19   0  37   7]\n",
      " [  0   0 204   7   2   6   2   0  11   2]\n",
      " [  3  11   7 220   7  20  12   0  25   4]\n",
      " [  3   3   7  18  68  17   3   0  25   1]\n",
      " [  5   6  12  35   8 160  24   0  33  10]\n",
      " [  6   4   5   3   1  16 153   0  18  34]\n",
      " [  0   0   0   3   3   6   0   2  31   9]\n",
      " [ 30   4  28  19   9  26   6   0 717  15]\n",
      " [  4   4   3   7   0  11  29   0  29 193]]\n"
     ]
    }
   ],
   "source": [
    "#classification report\n",
    "y_predict = svm_rbf.fit(Ftrain, Ltrain).predict(Ftest)\n",
    "class_names = target.unique()\n",
    "print(classification_report(Ltest, y_predict, target_names=class_names))\n",
    "print(confusion_matrix(Ltest, y_predict))"
   ]
  },
  {
   "cell_type": "markdown",
   "id": "558a44ca",
   "metadata": {},
   "source": [
    "# SVM(sigmoid) on Red data"
   ]
  },
  {
   "cell_type": "code",
   "execution_count": 40,
   "id": "dfde7ca8",
   "metadata": {},
   "outputs": [
    {
     "name": "stdout",
     "output_type": "stream",
     "text": [
      "0.2934296525627795\n"
     ]
    }
   ],
   "source": [
    "svm_si.fit(Ftrain,Ltrain)\n",
    "y_pred = svm_si.predict(Ftest)\n",
    "print(accuracy_score(Ltest,y_pred))"
   ]
  },
  {
   "cell_type": "code",
   "execution_count": 41,
   "id": "b58142f8",
   "metadata": {},
   "outputs": [
    {
     "name": "stdout",
     "output_type": "stream",
     "text": [
      "                               precision    recall  f1-score   support\n",
      "\n",
      "               bacterial_spot       0.00      0.00      0.00       345\n",
      "                 early_blight       0.00      0.00      0.00       153\n",
      "                      healthy       0.00      0.00      0.00       234\n",
      "                  late_blight       0.00      0.00      0.00       309\n",
      "                    leaf_mold       0.00      0.00      0.00       145\n",
      "           septoria_leaf_spot       0.00      0.00      0.00       293\n",
      "                  target_spot       0.00      0.00      0.00       240\n",
      "          tomato_mosaic_virus       0.00      0.00      0.00        54\n",
      "tomato_yellow_leaf_curl_virus       0.30      1.00      0.46       854\n",
      "      two-spotted_spider_mite       0.00      0.00      0.00       280\n",
      "\n",
      "                     accuracy                           0.29      2907\n",
      "                    macro avg       0.03      0.10      0.05      2907\n",
      "                 weighted avg       0.09      0.29      0.13      2907\n",
      "\n",
      "[[  0   0   0   0   0   0   0   0 345   0]\n",
      " [  0   0   0   0   0   0   0   0 153   0]\n",
      " [  1   0   0   0   0   0   0   0 233   0]\n",
      " [  0   0   0   0   0  33   0   0 276   0]\n",
      " [  0   0   0   0   0   1   0   0 144   0]\n",
      " [  0   0   0   0   0   0   0   0 293   0]\n",
      " [  0   0   0   0   0   1   0   0 239   0]\n",
      " [  0   0   0   0   0   0   0   0  54   0]\n",
      " [  1   0   0   0   0   0   0   0 853   0]\n",
      " [  0   0   0   0   0   0   0   0 280   0]]\n"
     ]
    },
    {
     "name": "stderr",
     "output_type": "stream",
     "text": [
      "C:\\Users\\ravic\\anaconda3\\lib\\site-packages\\sklearn\\metrics\\_classification.py:1318: UndefinedMetricWarning: Precision and F-score are ill-defined and being set to 0.0 in labels with no predicted samples. Use `zero_division` parameter to control this behavior.\n",
      "  _warn_prf(average, modifier, msg_start, len(result))\n",
      "C:\\Users\\ravic\\anaconda3\\lib\\site-packages\\sklearn\\metrics\\_classification.py:1318: UndefinedMetricWarning: Precision and F-score are ill-defined and being set to 0.0 in labels with no predicted samples. Use `zero_division` parameter to control this behavior.\n",
      "  _warn_prf(average, modifier, msg_start, len(result))\n",
      "C:\\Users\\ravic\\anaconda3\\lib\\site-packages\\sklearn\\metrics\\_classification.py:1318: UndefinedMetricWarning: Precision and F-score are ill-defined and being set to 0.0 in labels with no predicted samples. Use `zero_division` parameter to control this behavior.\n",
      "  _warn_prf(average, modifier, msg_start, len(result))\n"
     ]
    }
   ],
   "source": [
    "#classification report\n",
    "y_predict = svm_si.fit(Ftrain, Ltrain).predict(Ftest)\n",
    "class_names = target.unique()\n",
    "print(classification_report(Ltest, y_predict, target_names=class_names))\n",
    "print(confusion_matrix(Ltest, y_predict))"
   ]
  },
  {
   "cell_type": "markdown",
   "id": "5a175c93",
   "metadata": {},
   "source": [
    "# Bernouli Naive bayes on Red data"
   ]
  },
  {
   "cell_type": "code",
   "execution_count": 42,
   "id": "d65fa897",
   "metadata": {},
   "outputs": [
    {
     "data": {
      "text/plain": [
       "0.3106295149638803"
      ]
     },
     "execution_count": 42,
     "metadata": {},
     "output_type": "execute_result"
    }
   ],
   "source": [
    "bnb.fit(Ftrain, Ltrain)\n",
    "y_pred = bnb.predict(Ftest)\n",
    "metrics.accuracy_score(Ltest, y_pred)"
   ]
  },
  {
   "cell_type": "code",
   "execution_count": 43,
   "id": "bdadbf8a",
   "metadata": {},
   "outputs": [
    {
     "name": "stdout",
     "output_type": "stream",
     "text": [
      "                               precision    recall  f1-score   support\n",
      "\n",
      "               bacterial_spot       0.00      0.00      0.00       345\n",
      "                 early_blight       0.18      0.04      0.06       153\n",
      "                      healthy       0.19      0.03      0.05       234\n",
      "                  late_blight       0.71      0.12      0.20       309\n",
      "                    leaf_mold       0.05      0.01      0.02       145\n",
      "           septoria_leaf_spot       0.25      0.07      0.11       293\n",
      "                  target_spot       0.18      0.03      0.04       240\n",
      "          tomato_mosaic_virus       0.05      0.02      0.03        54\n",
      "tomato_yellow_leaf_curl_virus       0.32      0.96      0.48       854\n",
      "      two-spotted_spider_mite       0.20      0.01      0.01       280\n",
      "\n",
      "                     accuracy                           0.31      2907\n",
      "                    macro avg       0.21      0.13      0.10      2907\n",
      "                 weighted avg       0.26      0.31      0.19      2907\n",
      "\n",
      "[[  0   0   0   0   0   0   0   0 345   0]\n",
      " [  1   6   7   5   6  11   6   3 108   0]\n",
      " [  1   3   7   1   5   3   3   5 206   0]\n",
      " [  1   2   5  36   7  14   2   4 238   0]\n",
      " [  0   4   2   1   2  16   2   2 116   0]\n",
      " [  1   8   5   7  11  20   2   2 233   4]\n",
      " [  0   3   6   1   6   8   6   2 206   2]\n",
      " [  0   1   1   0   0   2   0   1  49   0]\n",
      " [  0   6   2   0   4   6   9   2 823   2]\n",
      " [  0   0   1   0   0   0   3   1 273   2]]\n"
     ]
    }
   ],
   "source": [
    "class_names = target.unique()\n",
    "print(classification_report(Ltest, y_pred, target_names=class_names))\n",
    "print(confusion_matrix(Ltest, y_pred))"
   ]
  },
  {
   "cell_type": "markdown",
   "id": "39255a27",
   "metadata": {},
   "source": [
    "# Multinomial Naive bayes on Red data"
   ]
  },
  {
   "cell_type": "code",
   "execution_count": 44,
   "id": "437843bc",
   "metadata": {},
   "outputs": [
    {
     "data": {
      "text/plain": [
       "0.3498452012383901"
      ]
     },
     "execution_count": 44,
     "metadata": {},
     "output_type": "execute_result"
    }
   ],
   "source": [
    "mnb.fit(Ftrain, Ltrain)\n",
    "y_pred = mnb.predict(Ftest)\n",
    "metrics.accuracy_score(Ltest, y_pred)"
   ]
  },
  {
   "cell_type": "code",
   "execution_count": 45,
   "id": "2bcb0431",
   "metadata": {},
   "outputs": [
    {
     "name": "stdout",
     "output_type": "stream",
     "text": [
      "                               precision    recall  f1-score   support\n",
      "\n",
      "               bacterial_spot       0.40      0.53      0.46       345\n",
      "                 early_blight       0.12      0.13      0.13       153\n",
      "                      healthy       0.28      0.68      0.40       234\n",
      "                  late_blight       0.20      0.26      0.23       309\n",
      "                    leaf_mold       0.45      0.37      0.41       145\n",
      "           septoria_leaf_spot       0.25      0.11      0.16       293\n",
      "                  target_spot       0.51      0.17      0.26       240\n",
      "          tomato_mosaic_virus       1.00      0.04      0.07        54\n",
      "tomato_yellow_leaf_curl_virus       0.46      0.43      0.45       854\n",
      "      two-spotted_spider_mite       0.38      0.27      0.32       280\n",
      "\n",
      "                     accuracy                           0.35      2907\n",
      "                    macro avg       0.41      0.30      0.29      2907\n",
      "                 weighted avg       0.38      0.35      0.34      2907\n",
      "\n",
      "[[183  38  40  29   0  12   3   0  34   6]\n",
      " [ 40  20  12   6   4   5   5   0  52   9]\n",
      " [  0   1 158  27   1  26   4   0  16   1]\n",
      " [ 26   6 113  80  26  11   6   0  37   4]\n",
      " [  6   2  20  20  54   8   0   0  32   3]\n",
      " [ 26  14  49  58  25  33   9   0  67  12]\n",
      " [ 48  23  26   1   1  12  41   0  64  24]\n",
      " [  2   0   0   1   3   2   0   2  42   2]\n",
      " [ 90  34 114 166   6  10   3   0 371  60]\n",
      " [ 37  26  25   5   0  12  10   0  90  75]]\n"
     ]
    }
   ],
   "source": [
    "class_names = target.unique()\n",
    "print(classification_report(Ltest, y_pred, target_names=class_names))\n",
    "print(confusion_matrix(Ltest, y_pred))"
   ]
  },
  {
   "cell_type": "markdown",
   "id": "11e4cd00",
   "metadata": {},
   "source": [
    "# Green channel data"
   ]
  },
  {
   "cell_type": "code",
   "execution_count": 46,
   "id": "40feb467",
   "metadata": {},
   "outputs": [],
   "source": [
    "#reading numpy array data\n",
    "green_test = np.load('green_data.npy')\n",
    "#reading csv file\n",
    "green_df = pd.read_csv('green_data.csv')\n",
    "#assigning features and target to split the data\n",
    "features = pd.DataFrame(green_test)\n",
    "features = features.values\n",
    "target = green_df['disease']\n",
    "#splitting the data to train and test\n",
    "Ftrain,Ftest,Ltrain,Ltest=train_test_split(features,target, test_size=0.20, random_state=24)"
   ]
  },
  {
   "cell_type": "code",
   "execution_count": 47,
   "id": "a2171acd",
   "metadata": {},
   "outputs": [],
   "source": [
    "Ftrain = minmax.fit_transform(Ftrain)\n",
    "Ftest = minmax.fit_transform(Ftest)"
   ]
  },
  {
   "cell_type": "markdown",
   "id": "9aa0bc22",
   "metadata": {},
   "source": [
    "# SVM(poly) on green data"
   ]
  },
  {
   "cell_type": "code",
   "execution_count": 48,
   "id": "fe39c65e",
   "metadata": {},
   "outputs": [
    {
     "name": "stdout",
     "output_type": "stream",
     "text": [
      "0.5414516683866529\n"
     ]
    }
   ],
   "source": [
    "svm_poly.fit(Ftrain,Ltrain)\n",
    "y_pred = svm_poly.predict(Ftest)\n",
    "print(accuracy_score(Ltest,y_pred))"
   ]
  },
  {
   "cell_type": "code",
   "execution_count": 49,
   "id": "8423b846",
   "metadata": {},
   "outputs": [
    {
     "name": "stdout",
     "output_type": "stream",
     "text": [
      "                               precision    recall  f1-score   support\n",
      "\n",
      "               bacterial_spot       0.44      0.72      0.55       345\n",
      "                 early_blight       0.22      0.31      0.26       153\n",
      "                      healthy       0.63      0.61      0.62       234\n",
      "                  late_blight       0.53      0.57      0.55       309\n",
      "                    leaf_mold       0.43      0.44      0.43       145\n",
      "           septoria_leaf_spot       0.49      0.38      0.43       293\n",
      "                  target_spot       0.40      0.49      0.44       240\n",
      "          tomato_mosaic_virus       0.21      0.13      0.16        54\n",
      "tomato_yellow_leaf_curl_virus       0.81      0.62      0.70       854\n",
      "      two-spotted_spider_mite       0.63      0.46      0.53       280\n",
      "\n",
      "                     accuracy                           0.54      2907\n",
      "                    macro avg       0.48      0.47      0.47      2907\n",
      "                 weighted avg       0.58      0.54      0.55      2907\n",
      "\n",
      "[[250  18   7  24   4   9   9   0  21   3]\n",
      " [ 36  48   3  16   5   3  21   0  13   8]\n",
      " [ 20   7 143  17   8  12  16   0   7   4]\n",
      " [ 25  31   5 175   9  20  14   2  20   8]\n",
      " [ 16   7   4  15  64  12  11   2  11   3]\n",
      " [ 43  11  24  32  11 112  26   7  18   9]\n",
      " [ 34  23   8   3   9   6 117   2  12  26]\n",
      " [  6   0   2   4  13   8   2   7   6   6]\n",
      " [107  53  24  38  20  39  26   9 530   8]\n",
      " [ 25  21   8   8   7   8  51   4  20 128]]\n"
     ]
    }
   ],
   "source": [
    "#classification report\n",
    "y_predict = svm_poly.fit(Ftrain, Ltrain).predict(Ftest)\n",
    "class_names = target.unique()\n",
    "print(classification_report(Ltest, y_predict, target_names=class_names))\n",
    "print(confusion_matrix(Ltest, y_predict))"
   ]
  },
  {
   "cell_type": "markdown",
   "id": "6112d4e4",
   "metadata": {},
   "source": [
    "# SVM(RBF) on green data"
   ]
  },
  {
   "cell_type": "code",
   "execution_count": 50,
   "id": "69be936f",
   "metadata": {},
   "outputs": [
    {
     "name": "stdout",
     "output_type": "stream",
     "text": [
      "0.6990024079807362\n"
     ]
    }
   ],
   "source": [
    "svm_rbf.fit(Ftrain,Ltrain)\n",
    "y_pred = svm_rbf.predict(Ftest)\n",
    "print(accuracy_score(Ltest,y_pred))"
   ]
  },
  {
   "cell_type": "code",
   "execution_count": 51,
   "id": "81b4c571",
   "metadata": {},
   "outputs": [
    {
     "name": "stdout",
     "output_type": "stream",
     "text": [
      "                               precision    recall  f1-score   support\n",
      "\n",
      "               bacterial_spot       0.78      0.72      0.75       345\n",
      "                 early_blight       0.49      0.27      0.35       153\n",
      "                      healthy       0.76      0.85      0.80       234\n",
      "                  late_blight       0.62      0.70      0.66       309\n",
      "                    leaf_mold       0.71      0.45      0.55       145\n",
      "           septoria_leaf_spot       0.63      0.60      0.62       293\n",
      "                  target_spot       0.57      0.64      0.60       240\n",
      "          tomato_mosaic_virus       0.56      0.09      0.16        54\n",
      "tomato_yellow_leaf_curl_virus       0.75      0.86      0.80       854\n",
      "      two-spotted_spider_mite       0.72      0.70      0.71       280\n",
      "\n",
      "                     accuracy                           0.70      2907\n",
      "                    macro avg       0.66      0.59      0.60      2907\n",
      "                 weighted avg       0.69      0.70      0.69      2907\n",
      "\n",
      "[[248   4  10  15   2   6   7   0  50   3]\n",
      " [ 15  41   1  30   2   5  21   0  30   8]\n",
      " [  1   1 200   6   1   6   5   0  12   2]\n",
      " [  0  16   5 216   7  18   9   1  31   6]\n",
      " [  4   1   8  15  65  17   8   1  20   6]\n",
      " [  5   3  10  37   5 175  16   0  40   2]\n",
      " [  7   3  10   5   2  12 153   0  19  29]\n",
      " [  4   0   2   2   5  14   1   5  15   6]\n",
      " [ 30   5  15  15   3  18  18   1 734  15]\n",
      " [  2   9   3   5   0   5  31   1  29 195]]\n"
     ]
    }
   ],
   "source": [
    "#classification report\n",
    "y_predict = svm_rbf.fit(Ftrain, Ltrain).predict(Ftest)\n",
    "class_names = target.unique()\n",
    "print(classification_report(Ltest, y_predict, target_names=class_names))\n",
    "print(confusion_matrix(Ltest, y_predict))"
   ]
  },
  {
   "cell_type": "markdown",
   "id": "662d1937",
   "metadata": {},
   "source": [
    "# SVM(sigmoid) on green data"
   ]
  },
  {
   "cell_type": "code",
   "execution_count": 52,
   "id": "7f6adcca",
   "metadata": {},
   "outputs": [
    {
     "name": "stdout",
     "output_type": "stream",
     "text": [
      "0.2717578259373925\n"
     ]
    }
   ],
   "source": [
    "svm_si.fit(Ftrain,Ltrain)\n",
    "y_pred = svm_si.predict(Ftest)\n",
    "print(accuracy_score(Ltest,y_pred))"
   ]
  },
  {
   "cell_type": "code",
   "execution_count": 53,
   "id": "251d68f3",
   "metadata": {},
   "outputs": [
    {
     "name": "stdout",
     "output_type": "stream",
     "text": [
      "                               precision    recall  f1-score   support\n",
      "\n",
      "               bacterial_spot       0.05      0.02      0.03       345\n",
      "                 early_blight       0.00      0.00      0.00       153\n",
      "                      healthy       0.00      0.00      0.00       234\n",
      "                  late_blight       0.00      0.00      0.00       309\n",
      "                    leaf_mold       0.00      0.00      0.00       145\n",
      "           septoria_leaf_spot       0.00      0.00      0.00       293\n",
      "                  target_spot       0.00      0.00      0.00       240\n",
      "          tomato_mosaic_virus       0.00      0.00      0.00        54\n",
      "tomato_yellow_leaf_curl_virus       0.28      0.92      0.43       854\n",
      "      two-spotted_spider_mite       0.00      0.00      0.00       280\n",
      "\n",
      "                     accuracy                           0.27      2907\n",
      "                    macro avg       0.03      0.09      0.05      2907\n",
      "                 weighted avg       0.09      0.27      0.13      2907\n",
      "\n",
      "[[  6   0   0   0   0   0   0   0 339   0]\n",
      " [  2   0   0   0   0   0   0   0 151   0]\n",
      " [  1   0   0   0   0   0   0   0 233   0]\n",
      " [ 11   0   0   0   0  28   0   0 270   0]\n",
      " [  0   0   0   0   0   0   0   0 145   0]\n",
      " [ 27   0   0   0   0   0   0   0 266   0]\n",
      " [  0   0   0   0   0   0   0   0 240   0]\n",
      " [  0   0   0   0   0   0   0   0  54   0]\n",
      " [ 70   0   0   0   0   0   0   0 784   0]\n",
      " [  0   0   0   0   0   0   0   0 280   0]]\n"
     ]
    },
    {
     "name": "stderr",
     "output_type": "stream",
     "text": [
      "C:\\Users\\ravic\\anaconda3\\lib\\site-packages\\sklearn\\metrics\\_classification.py:1318: UndefinedMetricWarning: Precision and F-score are ill-defined and being set to 0.0 in labels with no predicted samples. Use `zero_division` parameter to control this behavior.\n",
      "  _warn_prf(average, modifier, msg_start, len(result))\n",
      "C:\\Users\\ravic\\anaconda3\\lib\\site-packages\\sklearn\\metrics\\_classification.py:1318: UndefinedMetricWarning: Precision and F-score are ill-defined and being set to 0.0 in labels with no predicted samples. Use `zero_division` parameter to control this behavior.\n",
      "  _warn_prf(average, modifier, msg_start, len(result))\n",
      "C:\\Users\\ravic\\anaconda3\\lib\\site-packages\\sklearn\\metrics\\_classification.py:1318: UndefinedMetricWarning: Precision and F-score are ill-defined and being set to 0.0 in labels with no predicted samples. Use `zero_division` parameter to control this behavior.\n",
      "  _warn_prf(average, modifier, msg_start, len(result))\n"
     ]
    }
   ],
   "source": [
    "#classification report\n",
    "y_predict = svm_si.fit(Ftrain, Ltrain).predict(Ftest)\n",
    "class_names = target.unique()\n",
    "print(classification_report(Ltest, y_predict, target_names=class_names))\n",
    "print(confusion_matrix(Ltest, y_predict))"
   ]
  },
  {
   "cell_type": "markdown",
   "id": "8aa412dd",
   "metadata": {},
   "source": [
    "# Bernouli Naive bayes on green data"
   ]
  },
  {
   "cell_type": "code",
   "execution_count": 54,
   "id": "b6622b8d",
   "metadata": {},
   "outputs": [
    {
     "data": {
      "text/plain": [
       "0.3171654626762986"
      ]
     },
     "execution_count": 54,
     "metadata": {},
     "output_type": "execute_result"
    }
   ],
   "source": [
    "bnb.fit(Ftrain, Ltrain)\n",
    "y_pred = bnb.predict(Ftest)\n",
    "metrics.accuracy_score(Ltest, y_pred)"
   ]
  },
  {
   "cell_type": "code",
   "execution_count": 55,
   "id": "f3c6b16f",
   "metadata": {},
   "outputs": [
    {
     "name": "stderr",
     "output_type": "stream",
     "text": [
      "C:\\Users\\ravic\\anaconda3\\lib\\site-packages\\sklearn\\metrics\\_classification.py:1318: UndefinedMetricWarning: Precision and F-score are ill-defined and being set to 0.0 in labels with no predicted samples. Use `zero_division` parameter to control this behavior.\n",
      "  _warn_prf(average, modifier, msg_start, len(result))\n"
     ]
    },
    {
     "name": "stdout",
     "output_type": "stream",
     "text": [
      "                               precision    recall  f1-score   support\n",
      "\n",
      "               bacterial_spot       0.00      0.00      0.00       345\n",
      "                 early_blight       0.27      0.08      0.12       153\n",
      "                      healthy       0.29      0.04      0.07       234\n",
      "                  late_blight       0.84      0.12      0.21       309\n",
      "                    leaf_mold       0.12      0.02      0.04       145\n",
      "           septoria_leaf_spot       0.19      0.03      0.05       293\n",
      "                  target_spot       0.00      0.00      0.00       240\n",
      "          tomato_mosaic_virus       0.00      0.00      0.00        54\n",
      "tomato_yellow_leaf_curl_virus       0.32      1.00      0.48       854\n",
      "      two-spotted_spider_mite       0.09      0.00      0.01       280\n",
      "\n",
      "                     accuracy                           0.32      2907\n",
      "                    macro avg       0.21      0.13      0.10      2907\n",
      "                 weighted avg       0.25      0.32      0.18      2907\n",
      "\n",
      "[[  0   0   0   0   0   0   0   0 345   0]\n",
      " [  0  12   4   6   1  10   1   6 112   1]\n",
      " [  0   9   9   0   3   8   1   0 204   0]\n",
      " [  0  10   7  38  12  11   2  11 215   3]\n",
      " [  0   4   1   1   3   3   0   2 129   2]\n",
      " [  0   8   3   0   5   9   1   4 260   3]\n",
      " [  0   2   2   0   1   1   0   0 234   0]\n",
      " [  0   0   2   0   0   3   1   0  47   1]\n",
      " [  0   0   2   0   0   2   0   0 850   0]\n",
      " [  0   0   1   0   0   0   0   0 278   1]]\n"
     ]
    },
    {
     "name": "stderr",
     "output_type": "stream",
     "text": [
      "C:\\Users\\ravic\\anaconda3\\lib\\site-packages\\sklearn\\metrics\\_classification.py:1318: UndefinedMetricWarning: Precision and F-score are ill-defined and being set to 0.0 in labels with no predicted samples. Use `zero_division` parameter to control this behavior.\n",
      "  _warn_prf(average, modifier, msg_start, len(result))\n",
      "C:\\Users\\ravic\\anaconda3\\lib\\site-packages\\sklearn\\metrics\\_classification.py:1318: UndefinedMetricWarning: Precision and F-score are ill-defined and being set to 0.0 in labels with no predicted samples. Use `zero_division` parameter to control this behavior.\n",
      "  _warn_prf(average, modifier, msg_start, len(result))\n"
     ]
    }
   ],
   "source": [
    "class_names = target.unique()\n",
    "print(classification_report(Ltest, y_pred, target_names=class_names))\n",
    "print(confusion_matrix(Ltest, y_pred))"
   ]
  },
  {
   "cell_type": "markdown",
   "id": "d144692e",
   "metadata": {},
   "source": [
    "# Multinomial Naive bayes on Green data"
   ]
  },
  {
   "cell_type": "code",
   "execution_count": 56,
   "id": "a7a34c33",
   "metadata": {},
   "outputs": [
    {
     "data": {
      "text/plain": [
       "0.2696938424492604"
      ]
     },
     "execution_count": 56,
     "metadata": {},
     "output_type": "execute_result"
    }
   ],
   "source": [
    "mnb.fit(Ftrain, Ltrain)\n",
    "y_pred = mnb.predict(Ftest)\n",
    "metrics.accuracy_score(Ltest, y_pred)"
   ]
  },
  {
   "cell_type": "code",
   "execution_count": 57,
   "id": "441ea45d",
   "metadata": {},
   "outputs": [
    {
     "name": "stderr",
     "output_type": "stream",
     "text": [
      "C:\\Users\\ravic\\anaconda3\\lib\\site-packages\\sklearn\\metrics\\_classification.py:1318: UndefinedMetricWarning: Precision and F-score are ill-defined and being set to 0.0 in labels with no predicted samples. Use `zero_division` parameter to control this behavior.\n",
      "  _warn_prf(average, modifier, msg_start, len(result))\n",
      "C:\\Users\\ravic\\anaconda3\\lib\\site-packages\\sklearn\\metrics\\_classification.py:1318: UndefinedMetricWarning: Precision and F-score are ill-defined and being set to 0.0 in labels with no predicted samples. Use `zero_division` parameter to control this behavior.\n",
      "  _warn_prf(average, modifier, msg_start, len(result))\n",
      "C:\\Users\\ravic\\anaconda3\\lib\\site-packages\\sklearn\\metrics\\_classification.py:1318: UndefinedMetricWarning: Precision and F-score are ill-defined and being set to 0.0 in labels with no predicted samples. Use `zero_division` parameter to control this behavior.\n",
      "  _warn_prf(average, modifier, msg_start, len(result))\n"
     ]
    },
    {
     "name": "stdout",
     "output_type": "stream",
     "text": [
      "                               precision    recall  f1-score   support\n",
      "\n",
      "               bacterial_spot       0.32      0.32      0.32       345\n",
      "                 early_blight       0.11      0.24      0.15       153\n",
      "                      healthy       0.20      0.55      0.30       234\n",
      "                  late_blight       0.14      0.11      0.12       309\n",
      "                    leaf_mold       0.43      0.20      0.27       145\n",
      "           septoria_leaf_spot       0.12      0.01      0.02       293\n",
      "                  target_spot       0.50      0.09      0.15       240\n",
      "          tomato_mosaic_virus       0.00      0.00      0.00        54\n",
      "tomato_yellow_leaf_curl_virus       0.37      0.38      0.37       854\n",
      "      two-spotted_spider_mite       0.28      0.34      0.30       280\n",
      "\n",
      "                     accuracy                           0.27      2907\n",
      "                    macro avg       0.25      0.22      0.20      2907\n",
      "                 weighted avg       0.28      0.27      0.25      2907\n",
      "\n",
      "[[110  74  42  26   0   3   2   0  56  32]\n",
      " [ 43  36   3  12   3   0   1   0  34  21]\n",
      " [  3   1 129  17   1   6   4   0  70   3]\n",
      " [ 27  30 136  34  17   0   4   0  44  17]\n",
      " [  8   3  11  17  29   0   0   0  71   6]\n",
      " [ 25  11  72  30  13   3   5   0 110  24]\n",
      " [ 44  20   8  32   2   4  22   0  71  37]\n",
      " [  2   0   3   8   1   0   0   0  37   3]\n",
      " [ 60 109 218  37   2   0   0   0 327 101]\n",
      " [ 23  36  13  26   0  10   6   0  72  94]]\n"
     ]
    }
   ],
   "source": [
    "class_names = target.unique()\n",
    "print(classification_report(Ltest, y_pred, target_names=class_names))\n",
    "print(confusion_matrix(Ltest, y_pred))"
   ]
  },
  {
   "cell_type": "markdown",
   "id": "a6a80ecb",
   "metadata": {},
   "source": [
    "# Blue channel data"
   ]
  },
  {
   "cell_type": "code",
   "execution_count": 58,
   "id": "06094596",
   "metadata": {},
   "outputs": [],
   "source": [
    "#reading numpy array data\n",
    "blue_test = np.load('blue_data.npy')\n",
    "#reading csv file\n",
    "blue_df = pd.read_csv('blue_data.csv')\n",
    "#assigning features and target to split the data\n",
    "features = pd.DataFrame(blue_test)\n",
    "features = features.values\n",
    "target = blue_df['disease']\n",
    "#splitting the data to train and test\n",
    "Ftrain,Ftest,Ltrain,Ltest=train_test_split(features,target, test_size=0.20, random_state=24)"
   ]
  },
  {
   "cell_type": "code",
   "execution_count": 59,
   "id": "5b51b26a",
   "metadata": {},
   "outputs": [],
   "source": [
    "Ftrain = minmax.fit_transform(Ftrain)\n",
    "Ftest = minmax.fit_transform(Ftest)"
   ]
  },
  {
   "cell_type": "markdown",
   "id": "4d40997b",
   "metadata": {},
   "source": [
    "# SVM(poly) on blue data"
   ]
  },
  {
   "cell_type": "code",
   "execution_count": 60,
   "id": "39b88095",
   "metadata": {},
   "outputs": [
    {
     "name": "stdout",
     "output_type": "stream",
     "text": [
      "0.6271069831441348\n"
     ]
    }
   ],
   "source": [
    "svm_poly.fit(Ftrain,Ltrain)\n",
    "y_pred = svm_poly.predict(Ftest)\n",
    "print(accuracy_score(Ltest,y_pred))"
   ]
  },
  {
   "cell_type": "code",
   "execution_count": 61,
   "id": "dc98d740",
   "metadata": {},
   "outputs": [
    {
     "name": "stdout",
     "output_type": "stream",
     "text": [
      "                               precision    recall  f1-score   support\n",
      "\n",
      "               bacterial_spot       0.58      0.77      0.66       345\n",
      "                 early_blight       0.24      0.27      0.26       153\n",
      "                      healthy       0.72      0.74      0.73       234\n",
      "                  late_blight       0.66      0.57      0.61       309\n",
      "                    leaf_mold       0.40      0.51      0.45       145\n",
      "           septoria_leaf_spot       0.47      0.47      0.47       293\n",
      "                  target_spot       0.44      0.42      0.43       240\n",
      "          tomato_mosaic_virus       0.32      0.19      0.24        54\n",
      "tomato_yellow_leaf_curl_virus       0.89      0.79      0.83       854\n",
      "      two-spotted_spider_mite       0.64      0.61      0.63       280\n",
      "\n",
      "                     accuracy                           0.63      2907\n",
      "                    macro avg       0.54      0.53      0.53      2907\n",
      "                 weighted avg       0.64      0.63      0.63      2907\n",
      "\n",
      "[[265  10  10   7   3   6   9   0  28   7]\n",
      " [ 32  42   2  17   8  12  17   1  17   5]\n",
      " [ 11   6 172   5   3   6  26   0   0   5]\n",
      " [ 12  37  16 175  20  15  12   1  15   6]\n",
      " [  7   9   1  11  74  25   6   3   4   5]\n",
      " [ 15  16   7  28  33 139  19   8  10  18]\n",
      " [ 29  22  25   3   9  21 102   0   3  26]\n",
      " [  3   0   0   3  12  18   2  10   1   5]\n",
      " [ 57  21   2  14  17  43   7   3 672  18]\n",
      " [ 27  10   5   3   6  13  30   5   9 172]]\n"
     ]
    }
   ],
   "source": [
    "#classification report\n",
    "y_predict = svm_poly.fit(Ftrain, Ltrain).predict(Ftest)\n",
    "class_names = target.unique()\n",
    "print(classification_report(Ltest, y_predict, target_names=class_names))\n",
    "print(confusion_matrix(Ltest, y_predict))"
   ]
  },
  {
   "cell_type": "markdown",
   "id": "5226f4f2",
   "metadata": {},
   "source": [
    "# SVM(RBF) on blue data"
   ]
  },
  {
   "cell_type": "code",
   "execution_count": 62,
   "id": "183a5680",
   "metadata": {},
   "outputs": [
    {
     "name": "stdout",
     "output_type": "stream",
     "text": [
      "0.7199862401100792\n"
     ]
    }
   ],
   "source": [
    "svm_rbf.fit(Ftrain,Ltrain)\n",
    "y_pred = svm_rbf.predict(Ftest)\n",
    "print(accuracy_score(Ltest,y_pred))"
   ]
  },
  {
   "cell_type": "code",
   "execution_count": 63,
   "id": "22270861",
   "metadata": {},
   "outputs": [
    {
     "name": "stdout",
     "output_type": "stream",
     "text": [
      "                               precision    recall  f1-score   support\n",
      "\n",
      "               bacterial_spot       0.79      0.78      0.78       345\n",
      "                 early_blight       0.43      0.22      0.29       153\n",
      "                      healthy       0.78      0.88      0.82       234\n",
      "                  late_blight       0.66      0.77      0.71       309\n",
      "                    leaf_mold       0.71      0.51      0.59       145\n",
      "           septoria_leaf_spot       0.57      0.63      0.60       293\n",
      "                  target_spot       0.54      0.63      0.58       240\n",
      "          tomato_mosaic_virus       0.54      0.28      0.37        54\n",
      "tomato_yellow_leaf_curl_virus       0.87      0.86      0.86       854\n",
      "      two-spotted_spider_mite       0.67      0.68      0.68       280\n",
      "\n",
      "                     accuracy                           0.72      2907\n",
      "                    macro avg       0.66      0.62      0.63      2907\n",
      "                 weighted avg       0.72      0.72      0.71      2907\n",
      "\n",
      "[[270   2  12   6   0   4  14   0  31   6]\n",
      " [ 15  33   5  33   3  13  20   1  24   6]\n",
      " [  1   1 205  10   0   3  12   0   0   2]\n",
      " [  0  14   5 237   9  10  12   3  16   3]\n",
      " [  1   4   0  13  74  27   7   1   7  11]\n",
      " [ 12   6   0  29  13 186  19   1  15  12]\n",
      " [  7   5  25   7   2  19 151   2   4  18]\n",
      " [  1   0   0   6   3  18   0  15   3   8]\n",
      " [ 32   5   2  11   0  31  12   3 731  27]\n",
      " [  4   7  10   5   0  13  34   2  14 191]]\n"
     ]
    }
   ],
   "source": [
    "#classification report\n",
    "y_predict = svm_rbf.fit(Ftrain, Ltrain).predict(Ftest)\n",
    "class_names = target.unique()\n",
    "print(classification_report(Ltest, y_predict, target_names=class_names))\n",
    "print(confusion_matrix(Ltest, y_predict))"
   ]
  },
  {
   "cell_type": "markdown",
   "id": "09f47e7e",
   "metadata": {},
   "source": [
    "# SVM(sigmoid) on blue data"
   ]
  },
  {
   "cell_type": "code",
   "execution_count": 64,
   "id": "4401c844",
   "metadata": {},
   "outputs": [
    {
     "name": "stdout",
     "output_type": "stream",
     "text": [
      "0.25352597179222564\n"
     ]
    }
   ],
   "source": [
    "svm_si.fit(Ftrain,Ltrain)\n",
    "y_pred = svm_si.predict(Ftest)\n",
    "print(accuracy_score(Ltest,y_pred))"
   ]
  },
  {
   "cell_type": "code",
   "execution_count": 65,
   "id": "4372e59f",
   "metadata": {},
   "outputs": [
    {
     "name": "stdout",
     "output_type": "stream",
     "text": [
      "                               precision    recall  f1-score   support\n",
      "\n",
      "               bacterial_spot       0.22      0.04      0.07       345\n",
      "                 early_blight       0.00      0.00      0.00       153\n",
      "                      healthy       0.00      0.00      0.00       234\n",
      "                  late_blight       0.00      0.00      0.00       309\n",
      "                    leaf_mold       0.00      0.00      0.00       145\n",
      "           septoria_leaf_spot       0.01      0.00      0.01       293\n",
      "                  target_spot       0.00      0.00      0.00       240\n",
      "          tomato_mosaic_virus       0.00      0.00      0.00        54\n",
      "tomato_yellow_leaf_curl_virus       0.27      0.84      0.41       854\n",
      "      two-spotted_spider_mite       0.00      0.00      0.00       280\n",
      "\n",
      "                     accuracy                           0.25      2907\n",
      "                    macro avg       0.05      0.09      0.05      2907\n",
      "                 weighted avg       0.11      0.25      0.13      2907\n",
      "\n",
      "[[ 15   0   0   0   0   7   0   0 323   0]\n",
      " [  4   0   0   0   0   2   0   0 147   0]\n",
      " [  1   0   0   0   0   2   0   0 231   0]\n",
      " [  5   0  26   0   5   4   0   0 269   0]\n",
      " [  0   0   0   0   0   0   0   0 145   0]\n",
      " [  0   0   0   0   0   1   0   0 292   0]\n",
      " [  0   0   0   0   1   0   0   0 239   0]\n",
      " [  0   0   0   0   0   0   0   0  54   0]\n",
      " [ 41   0   0   0   6  86   0   0 721   0]\n",
      " [  2   0   0   0   0   1   0   0 277   0]]\n"
     ]
    },
    {
     "name": "stderr",
     "output_type": "stream",
     "text": [
      "C:\\Users\\ravic\\anaconda3\\lib\\site-packages\\sklearn\\metrics\\_classification.py:1318: UndefinedMetricWarning: Precision and F-score are ill-defined and being set to 0.0 in labels with no predicted samples. Use `zero_division` parameter to control this behavior.\n",
      "  _warn_prf(average, modifier, msg_start, len(result))\n",
      "C:\\Users\\ravic\\anaconda3\\lib\\site-packages\\sklearn\\metrics\\_classification.py:1318: UndefinedMetricWarning: Precision and F-score are ill-defined and being set to 0.0 in labels with no predicted samples. Use `zero_division` parameter to control this behavior.\n",
      "  _warn_prf(average, modifier, msg_start, len(result))\n",
      "C:\\Users\\ravic\\anaconda3\\lib\\site-packages\\sklearn\\metrics\\_classification.py:1318: UndefinedMetricWarning: Precision and F-score are ill-defined and being set to 0.0 in labels with no predicted samples. Use `zero_division` parameter to control this behavior.\n",
      "  _warn_prf(average, modifier, msg_start, len(result))\n"
     ]
    }
   ],
   "source": [
    "#classification report\n",
    "y_predict = svm_si.fit(Ftrain, Ltrain).predict(Ftest)\n",
    "class_names = target.unique()\n",
    "print(classification_report(Ltest, y_predict, target_names=class_names))\n",
    "print(confusion_matrix(Ltest, y_predict))"
   ]
  },
  {
   "cell_type": "markdown",
   "id": "7401f4ab",
   "metadata": {},
   "source": [
    "# Bernouli Naive bayes on blue data"
   ]
  },
  {
   "cell_type": "code",
   "execution_count": 66,
   "id": "a8ddf84b",
   "metadata": {},
   "outputs": [
    {
     "data": {
      "text/plain": [
       "0.34812521499828003"
      ]
     },
     "execution_count": 66,
     "metadata": {},
     "output_type": "execute_result"
    }
   ],
   "source": [
    "bnb.fit(Ftrain, Ltrain)\n",
    "y_pred = bnb.predict(Ftest)\n",
    "metrics.accuracy_score(Ltest, y_pred)"
   ]
  },
  {
   "cell_type": "code",
   "execution_count": 67,
   "id": "944621bd",
   "metadata": {},
   "outputs": [
    {
     "name": "stdout",
     "output_type": "stream",
     "text": [
      "                               precision    recall  f1-score   support\n",
      "\n",
      "               bacterial_spot       0.24      0.92      0.38       345\n",
      "                 early_blight       0.12      0.05      0.07       153\n",
      "                      healthy       0.22      0.15      0.18       234\n",
      "                  late_blight       0.56      0.24      0.34       309\n",
      "                    leaf_mold       0.16      0.12      0.14       145\n",
      "           septoria_leaf_spot       0.26      0.11      0.15       293\n",
      "                  target_spot       0.22      0.09      0.13       240\n",
      "          tomato_mosaic_virus       0.05      0.02      0.03        54\n",
      "tomato_yellow_leaf_curl_virus       0.74      0.53      0.62       854\n",
      "      two-spotted_spider_mite       0.22      0.20      0.21       280\n",
      "\n",
      "                     accuracy                           0.35      2907\n",
      "                    macro avg       0.28      0.24      0.22      2907\n",
      "                 weighted avg       0.40      0.35      0.33      2907\n",
      "\n",
      "[[316   0   8   1   5   3   5   0   1   6]\n",
      " [ 60   8   6  28   7   8   2   0  23  11]\n",
      " [125   8  34   1  22  13   5   2  14  10]\n",
      " [151  18   9  74   8   6   9   2  25   7]\n",
      " [ 82   3   6   6  17   9   4   3  13   2]\n",
      " [145  13  19   7  13  31   9   7  26  23]\n",
      " [127   2  22   0  11  13  21   0  16  28]\n",
      " [ 37   0   4   0   0   3   0   1   4   5]\n",
      " [170  11  22  15  13  22  26   6 453 116]\n",
      " [127   3  22   0   9  12  13   0  37  57]]\n"
     ]
    }
   ],
   "source": [
    "class_names = target.unique()\n",
    "print(classification_report(Ltest, y_pred, target_names=class_names))\n",
    "print(confusion_matrix(Ltest, y_pred))"
   ]
  },
  {
   "cell_type": "markdown",
   "id": "cbf0037b",
   "metadata": {},
   "source": [
    "# Multinomial Naive bayes on blue data"
   ]
  },
  {
   "cell_type": "code",
   "execution_count": 68,
   "id": "050a9f46",
   "metadata": {},
   "outputs": [
    {
     "data": {
      "text/plain": [
       "0.45923632610939114"
      ]
     },
     "execution_count": 68,
     "metadata": {},
     "output_type": "execute_result"
    }
   ],
   "source": [
    "mnb.fit(Ftrain, Ltrain)\n",
    "y_pred = mnb.predict(Ftest)\n",
    "metrics.accuracy_score(Ltest, y_pred)"
   ]
  },
  {
   "cell_type": "code",
   "execution_count": 69,
   "id": "9a916b04",
   "metadata": {},
   "outputs": [
    {
     "name": "stdout",
     "output_type": "stream",
     "text": [
      "                               precision    recall  f1-score   support\n",
      "\n",
      "               bacterial_spot       0.39      0.46      0.42       345\n",
      "                 early_blight       0.10      0.12      0.11       153\n",
      "                      healthy       0.41      0.75      0.53       234\n",
      "                  late_blight       0.40      0.30      0.34       309\n",
      "                    leaf_mold       0.41      0.57      0.48       145\n",
      "           septoria_leaf_spot       0.25      0.06      0.10       293\n",
      "                  target_spot       0.38      0.21      0.27       240\n",
      "          tomato_mosaic_virus       0.15      0.44      0.23        54\n",
      "tomato_yellow_leaf_curl_virus       0.77      0.70      0.73       854\n",
      "      two-spotted_spider_mite       0.39      0.41      0.40       280\n",
      "\n",
      "                     accuracy                           0.46      2907\n",
      "                    macro avg       0.36      0.40      0.36      2907\n",
      "                 weighted avg       0.47      0.46      0.45      2907\n",
      "\n",
      "[[159  41  31  14   4   7  21   4  39  25]\n",
      " [ 30  19  14  16   7   6   8   8  28  17]\n",
      " [  0   3 175  23   2   1  20   2   1   7]\n",
      " [ 26  16  94  93  25   9   8  11  18   9]\n",
      " [  7   1   6  14  83   4   2   9   8  11]\n",
      " [ 40  29  14  32  51  19   9  23  48  28]\n",
      " [ 45  25  60  13   2   5  51   5   7  27]\n",
      " [  1   0   0   8   7   5   0  24   3   6]\n",
      " [ 71  32   7  12  20  14   4  45 596  53]\n",
      " [ 28  31  28   6   1   6  11  24  29 116]]\n"
     ]
    }
   ],
   "source": [
    "class_names = target.unique()\n",
    "print(classification_report(Ltest, y_pred, target_names=class_names))\n",
    "print(confusion_matrix(Ltest, y_pred))"
   ]
  },
  {
   "cell_type": "code",
   "execution_count": 70,
   "id": "195a0b21",
   "metadata": {},
   "outputs": [
    {
     "name": "stdout",
     "output_type": "stream",
     "text": [
      "2834.9786858558655\n"
     ]
    }
   ],
   "source": [
    "end_time = time.time()\n",
    "print(end_time - start_time)"
   ]
  }
 ],
 "metadata": {
  "kernelspec": {
   "display_name": "Python 3 (ipykernel)",
   "language": "python",
   "name": "python3"
  },
  "language_info": {
   "codemirror_mode": {
    "name": "ipython",
    "version": 3
   },
   "file_extension": ".py",
   "mimetype": "text/x-python",
   "name": "python",
   "nbconvert_exporter": "python",
   "pygments_lexer": "ipython3",
   "version": "3.9.12"
  }
 },
 "nbformat": 4,
 "nbformat_minor": 5
}
