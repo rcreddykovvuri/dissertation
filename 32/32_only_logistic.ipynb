{
 "cells": [
  {
   "cell_type": "code",
   "execution_count": 1,
   "id": "8e4ef350",
   "metadata": {},
   "outputs": [],
   "source": [
    "import numpy as np #importing numpy\n",
    "import pandas as pd #importing pandas\n",
    "import PIL #importing pillow for image processing\n",
    "from PIL import Image#importing image from pillow library\n",
    "import skimage#importing skimage library\n",
    "import os#importing os library\n",
    "import time#importing time library\n",
    "\n",
    "#Capture start time of the program\n",
    "start_time = time.time()"
   ]
  },
  {
   "cell_type": "code",
   "execution_count": 2,
   "id": "5a73dd66",
   "metadata": {},
   "outputs": [],
   "source": [
    "#changing path\n",
    "os.chdir('D://DKIT//dissertation//Dataset_of_Tomato_Leaves//plantvillage//Preprocessed_data//32//vector//')"
   ]
  },
  {
   "cell_type": "code",
   "execution_count": 3,
   "id": "6da7d109",
   "metadata": {},
   "outputs": [],
   "source": [
    "#reading numpy array data\n",
    "rgb_test = np.load('rgb_data.npy')\n",
    "#reading csv file\n",
    "rgb_df = pd.read_csv('rgb_data.csv')"
   ]
  },
  {
   "cell_type": "code",
   "execution_count": 4,
   "id": "a66a8913",
   "metadata": {},
   "outputs": [],
   "source": [
    "features = pd.DataFrame(rgb_test)"
   ]
  },
  {
   "cell_type": "code",
   "execution_count": 5,
   "id": "3cdaf8ff",
   "metadata": {},
   "outputs": [],
   "source": [
    "target = rgb_df['disease']"
   ]
  },
  {
   "cell_type": "code",
   "execution_count": 6,
   "id": "ca604c4a",
   "metadata": {},
   "outputs": [],
   "source": [
    "#splitting the data to 80 percent and 20 percent\n",
    "from sklearn.model_selection import train_test_split\n",
    "Ftrain,Ftest,Ltrain,Ltest=train_test_split(features,target, test_size=0.20, random_state=24)"
   ]
  },
  {
   "cell_type": "code",
   "execution_count": 7,
   "id": "7d981fb7",
   "metadata": {},
   "outputs": [],
   "source": [
    "#importing classification report and confusion matrix\n",
    "from sklearn.metrics import classification_report, confusion_matrix"
   ]
  },
  {
   "cell_type": "code",
   "execution_count": 8,
   "id": "390fb572",
   "metadata": {},
   "outputs": [
    {
     "name": "stdout",
     "output_type": "stream",
     "text": [
      "0.6205710354317165\n"
     ]
    },
    {
     "name": "stderr",
     "output_type": "stream",
     "text": [
      "C:\\Users\\ravic\\anaconda3\\lib\\site-packages\\sklearn\\linear_model\\_logistic.py:814: ConvergenceWarning: lbfgs failed to converge (status=1):\n",
      "STOP: TOTAL NO. of f AND g EVALUATIONS EXCEEDS LIMIT.\n",
      "\n",
      "Increase the number of iterations (max_iter) or scale the data as shown in:\n",
      "    https://scikit-learn.org/stable/modules/preprocessing.html\n",
      "Please also refer to the documentation for alternative solver options:\n",
      "    https://scikit-learn.org/stable/modules/linear_model.html#logistic-regression\n",
      "  n_iter_i = _check_optimize_result(\n"
     ]
    }
   ],
   "source": [
    "#importing logistic data\n",
    "from sklearn.linear_model import LogisticRegression\n",
    "model=LogisticRegression(solver='lbfgs', max_iter=15000)\n",
    "#building the model\n",
    "model.fit(Ftrain,Ltrain)\n",
    "print(model.score(Ftest,Ltest))"
   ]
  },
  {
   "cell_type": "code",
   "execution_count": 9,
   "id": "26b68f46",
   "metadata": {},
   "outputs": [
    {
     "name": "stdout",
     "output_type": "stream",
     "text": [
      "                               precision    recall  f1-score   support\n",
      "\n",
      "               bacterial_spot       0.58      0.72      0.64       345\n",
      "                 early_blight       0.28      0.32      0.30       153\n",
      "                      healthy       0.60      0.62      0.61       234\n",
      "                  late_blight       0.48      0.47      0.47       309\n",
      "                    leaf_mold       0.54      0.54      0.54       145\n",
      "           septoria_leaf_spot       0.52      0.49      0.51       293\n",
      "                  target_spot       0.48      0.44      0.46       240\n",
      "          tomato_mosaic_virus       0.65      0.61      0.63        54\n",
      "tomato_yellow_leaf_curl_virus       0.89      0.83      0.86       854\n",
      "      two-spotted_spider_mite       0.53      0.54      0.53       280\n",
      "\n",
      "                     accuracy                           0.62      2907\n",
      "                    macro avg       0.56      0.56      0.56      2907\n",
      "                 weighted avg       0.63      0.62      0.62      2907\n",
      "\n",
      "[[248  23  10  19   2  10   6   0  21   6]\n",
      " [ 21  49   8  25   5   6  11   0  14  14]\n",
      " [  5  10 145  21   7  10  27   0   0   9]\n",
      " [ 33  26  17 144  11  32   8   2  12  24]\n",
      " [  3   7   9  10  78  24   3   0   3   8]\n",
      " [ 21  12  18  32  18 144  14   9  13  12]\n",
      " [ 15  10  25  12   8  20 106   2   3  39]\n",
      " [  0   1   1   0   6   6   5  33   1   1]\n",
      " [ 60  12   1  22   5  17  11   0 707  19]\n",
      " [ 19  23   9  14   5   8  29   5  18 150]]\n"
     ]
    }
   ],
   "source": [
    "#classification report\n",
    "y_predict = model.predict(Ftest)\n",
    "class_names = target.unique()\n",
    "print(classification_report(Ltest, y_predict, target_names=class_names))\n",
    "print(confusion_matrix(Ltest, y_predict))"
   ]
  }
 ],
 "metadata": {
  "kernelspec": {
   "display_name": "Python 3 (ipykernel)",
   "language": "python",
   "name": "python3"
  },
  "language_info": {
   "codemirror_mode": {
    "name": "ipython",
    "version": 3
   },
   "file_extension": ".py",
   "mimetype": "text/x-python",
   "name": "python",
   "nbconvert_exporter": "python",
   "pygments_lexer": "ipython3",
   "version": "3.9.12"
  }
 },
 "nbformat": 4,
 "nbformat_minor": 5
}
