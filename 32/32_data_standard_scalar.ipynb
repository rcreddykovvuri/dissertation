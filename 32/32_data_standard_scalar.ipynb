{
 "cells": [
  {
   "cell_type": "code",
   "execution_count": 1,
   "id": "bcdb1517",
   "metadata": {},
   "outputs": [],
   "source": [
    "import numpy as np #importing numpy\n",
    "import pandas as pd #importing pandas\n",
    "import PIL #importing pillow for image processing\n",
    "from PIL import Image#importing image from pillow library\n",
    "import skimage#importing skimage library\n",
    "import os#importing os library\n",
    "import time#importing time library\n",
    "\n",
    "#Capture start time of the program\n",
    "start_time = time.time()"
   ]
  },
  {
   "cell_type": "code",
   "execution_count": 2,
   "id": "9b1ff8ae",
   "metadata": {},
   "outputs": [],
   "source": [
    "from string import digits\n",
    "#code to remove numbers in a string and assigning it to the variable\n",
    "r_digits = str.maketrans('', '', digits)\n",
    "#taking source data folder path to a varible\n",
    "rawdata_path = 'D://DKIT//dissertation//Dataset_of_Tomato_Leaves//plantvillage//Preprocessed_data//32//data//'\n",
    "#changing current librbay to source data\n",
    "os.chdir(rawdata_path)\n",
    "#taking sub-directories to a list\n",
    "dirs = os.listdir()\n",
    "directories = []\n",
    "diseases = []\n",
    "#Taking directories into a list and extract disease name from folder name\n",
    "for x in dirs:\n",
    "    res = x.translate(r_digits).lower()\n",
    "    diseases.append(res)\n",
    "    temp = rawdata_path + x + '//'\n",
    "    directories.append(temp)"
   ]
  },
  {
   "cell_type": "code",
   "execution_count": 3,
   "id": "e67c4402",
   "metadata": {},
   "outputs": [],
   "source": [
    "for i in directories:\n",
    "    os.chdir(i)\n",
    "    pics = os.listdir()\n",
    "    #reading pics one by one in each directory\n",
    "    for j in pics:\n",
    "        image = Image.open(j,mode='r')\n",
    "        size = (32,32)\n",
    "        image = image.resize(size)\n",
    "        image = image.save(j)"
   ]
  },
  {
   "cell_type": "code",
   "execution_count": 4,
   "id": "0e3f1cdc",
   "metadata": {},
   "outputs": [],
   "source": [
    "#creating different dataframes for saving data in different vector forms\n",
    "#gray data\n",
    "gray_df = pd.DataFrame(columns=['mean','disease'])\n",
    "#rgb data\n",
    "rgb_df = pd.DataFrame(columns=['mean','disease'])\n",
    "#red data\n",
    "red_df = pd.DataFrame(columns=['mean','disease'])\n",
    "#green data\n",
    "green_df = pd.DataFrame(columns=['mean','disease'])\n",
    "#blue data\n",
    "blue_df = pd.DataFrame(columns=['mean','disease'])"
   ]
  },
  {
   "cell_type": "code",
   "execution_count": 5,
   "id": "d259b674",
   "metadata": {},
   "outputs": [],
   "source": [
    "#extracting data from images\n",
    "x = 0\n",
    "#creating enpty directories to save the vector from in to a list\n",
    "gray_test = []\n",
    "rgb_final = []\n",
    "red_final = []\n",
    "green_final = []\n",
    "blue_final = []\n",
    "disease = []\n",
    "#reading data directory by directory\n",
    "for i in directories:\n",
    "    os.chdir(i)\n",
    "    k = diseases[x]\n",
    "    pics = os.listdir()\n",
    "    #reading pics one by one in each directory\n",
    "    for j in pics:\n",
    "        temp_list = []\n",
    "        rgb_temp = []\n",
    "        red_temp = []\n",
    "        green_temp = []\n",
    "        blue_temp = []\n",
    "        gray = []\n",
    "        data = []\n",
    "        red = []\n",
    "        green = []\n",
    "        blue = []\n",
    "        #opening the image in rgb format\n",
    "        image = Image.open(j,mode='r')\n",
    "        data = image.convert('RGB')\n",
    "        data = np.array(data)\n",
    "        #extracting only red components\n",
    "        red = data[:,:,0]\n",
    "        #extracting only green components\n",
    "        green = data[:,:,1]\n",
    "        #extracting only blue components\n",
    "        blue = data[:,:,2]\n",
    "        data = data.ravel()\n",
    "        #saving rgb vector data into list\n",
    "        rgb_final.append(data)\n",
    "        rgb_temp.append(np.mean(data))\n",
    "        rgb_temp.append(k)\n",
    "        rgb_df.loc[len(rgb_df)] = rgb_temp\n",
    "        #saving red channel data into dataframe and vector data to a list.\n",
    "        red = red.ravel()\n",
    "        red_final.append(red)\n",
    "        red_temp.append(np.mean(red))\n",
    "        red_temp.append(k)\n",
    "        red_df.loc[len(red_df)] = red_temp\n",
    "        #saving blue channel data into dataframe and vector data to a list.\n",
    "        blue = blue.ravel()\n",
    "        blue_final.append(blue)\n",
    "        blue_temp.append(np.mean(blue))\n",
    "        blue_temp.append(k)\n",
    "        blue_df.loc[len(blue_df)] = blue_temp\n",
    "        #saving green channel data into dataframe and vector data to a list.\n",
    "        green = green.ravel()\n",
    "        green_final.append(green)\n",
    "        green_temp.append(np.mean(green))\n",
    "        green_temp.append(k)\n",
    "        green_df.loc[len(green_df)] = green_temp\n",
    "        #opening the image in gray format\n",
    "        gray = image.convert('L')\n",
    "        gray = np.array(gray)\n",
    "        gray = gray.ravel()\n",
    "        gray_test.append(gray)\n",
    "        temp_list.append(np.mean(gray))\n",
    "        temp_list.append(k)       \n",
    "        gray_df.loc[len(gray_df)] = temp_list\n",
    "    x = x+1"
   ]
  },
  {
   "cell_type": "code",
   "execution_count": 6,
   "id": "9ec45970",
   "metadata": {},
   "outputs": [],
   "source": [
    "#changing path\n",
    "os.chdir('D://DKIT//dissertation//Dataset_of_Tomato_Leaves//plantvillage//Preprocessed_data//32//vector//')"
   ]
  },
  {
   "cell_type": "code",
   "execution_count": 7,
   "id": "9b5459ff",
   "metadata": {},
   "outputs": [],
   "source": [
    "#saving the lists as numpy arrays in the local system\n",
    "np.save('gray_test',gray_test)\n",
    "np.save('rgb_data',rgb_final)\n",
    "np.save('red_data',red_final)\n",
    "np.save('green_data',green_final)\n",
    "np.save('blue_data',blue_final)"
   ]
  },
  {
   "cell_type": "code",
   "execution_count": 8,
   "id": "681ad20a",
   "metadata": {},
   "outputs": [],
   "source": [
    "#saving the dataframe as csv files in the local system\n",
    "gray_df.to_csv('gray_data.csv',index=False)\n",
    "rgb_df.to_csv('rgb_data.csv',index=False)\n",
    "red_df.to_csv('red_data.csv',index=False)\n",
    "green_df.to_csv('green_data.csv',index=False)\n",
    "blue_df.to_csv('blue_data.csv',index=False)"
   ]
  },
  {
   "cell_type": "markdown",
   "id": "7139bf53",
   "metadata": {},
   "source": [
    "# KNN on rgb data"
   ]
  },
  {
   "cell_type": "code",
   "execution_count": 9,
   "id": "9386938c",
   "metadata": {},
   "outputs": [],
   "source": [
    "#reading numpy array data\n",
    "rgb_test = np.load('rgb_data.npy')\n",
    "#reading csv file\n",
    "rgb_df = pd.read_csv('rgb_data.csv')"
   ]
  },
  {
   "cell_type": "code",
   "execution_count": 12,
   "id": "05aa0a40",
   "metadata": {},
   "outputs": [],
   "source": [
    "loaded = []\n",
    "for i in rgb_test:\n",
    "    k = []\n",
    "    k = np.asarray(i,dtype='uint8')\n",
    "    loaded.append(k)"
   ]
  },
  {
   "cell_type": "code",
   "execution_count": 13,
   "id": "c6d5658c",
   "metadata": {},
   "outputs": [],
   "source": [
    "#assigning features and target\n",
    "features = loaded\n",
    "target = rgb_df['disease']\n",
    "#splitting the data to 80 percent and 20 percent\n",
    "from sklearn.model_selection import train_test_split\n",
    "Ftrain,Ftest,Ltrain,Ltest=train_test_split(features,target, test_size=0.20, random_state=24)\n",
    "#scaling the data using standard scaler\n",
    "from sklearn.preprocessing import StandardScaler\n",
    "scaler = StandardScaler()\n",
    "Ftrain = scaler.fit_transform(Ftrain)\n",
    "Ftest = scaler.fit_transform(Ftest)"
   ]
  },
  {
   "cell_type": "code",
   "execution_count": 14,
   "id": "6f1171c6",
   "metadata": {},
   "outputs": [],
   "source": [
    "#K-Model on the data\n",
    "from sklearn.neighbors import KNeighborsClassifier\n",
    "kmodel = KNeighborsClassifier(n_neighbors=75)"
   ]
  },
  {
   "cell_type": "code",
   "execution_count": 15,
   "id": "b9fdc978",
   "metadata": {},
   "outputs": [
    {
     "name": "stdout",
     "output_type": "stream",
     "text": [
      "0.5913312693498453\n"
     ]
    }
   ],
   "source": [
    "#k-model fitting and accuracy\n",
    "kmodel.fit(Ftrain,Ltrain)\n",
    "print(kmodel.score(Ftest,Ltest))"
   ]
  },
  {
   "cell_type": "code",
   "execution_count": 16,
   "id": "ee18e5c3",
   "metadata": {},
   "outputs": [],
   "source": [
    "#importing classification report and confusion matrix\n",
    "from sklearn.metrics import classification_report, confusion_matrix"
   ]
  },
  {
   "cell_type": "code",
   "execution_count": 17,
   "id": "bb8fbd00",
   "metadata": {},
   "outputs": [
    {
     "name": "stdout",
     "output_type": "stream",
     "text": [
      "                               precision    recall  f1-score   support\n",
      "\n",
      "               bacterial_spot       0.36      0.84      0.51       345\n",
      "                 early_blight       0.00      0.00      0.00       153\n",
      "                      healthy       0.50      0.81      0.62       234\n",
      "                  late_blight       0.59      0.40      0.48       309\n",
      "                    leaf_mold       0.73      0.52      0.61       145\n",
      "           septoria_leaf_spot       0.70      0.40      0.51       293\n",
      "                  target_spot       0.58      0.29      0.38       240\n",
      "          tomato_mosaic_virus       0.83      0.19      0.30        54\n",
      "tomato_yellow_leaf_curl_virus       0.84      0.80      0.82       854\n",
      "      two-spotted_spider_mite       0.52      0.56      0.54       280\n",
      "\n",
      "                     accuracy                           0.59      2907\n",
      "                    macro avg       0.57      0.48      0.48      2907\n",
      "                 weighted avg       0.61      0.59      0.57      2907\n",
      "\n",
      "[[291   0  25   8   0   0   0   0  19   2]\n",
      " [ 96   0   9   1   0   6  17   0  15   9]\n",
      " [ 27   0 189   9   0   0   2   1   2   4]\n",
      " [ 54   0  47 124  12  29   9   1  21  12]\n",
      " [ 23   0   9  15  76   4   1   0   7  10]\n",
      " [ 28   0  30  34  12 117  12   0  29  31]\n",
      " [ 97   0  24   3   0   3  69   0   4  40]\n",
      " [  8   0   8   5   4   1   1  10   4  13]\n",
      " [113   0  26   0   0   6   0   0 686  23]\n",
      " [ 68   0  10  10   0   1   8   0  26 157]]\n"
     ]
    },
    {
     "name": "stderr",
     "output_type": "stream",
     "text": [
      "C:\\Users\\ravic\\anaconda3\\lib\\site-packages\\sklearn\\metrics\\_classification.py:1248: UndefinedMetricWarning: Precision and F-score are ill-defined and being set to 0.0 in labels with no predicted samples. Use `zero_division` parameter to control this behavior.\n",
      "  _warn_prf(average, modifier, msg_start, len(result))\n",
      "C:\\Users\\ravic\\anaconda3\\lib\\site-packages\\sklearn\\metrics\\_classification.py:1248: UndefinedMetricWarning: Precision and F-score are ill-defined and being set to 0.0 in labels with no predicted samples. Use `zero_division` parameter to control this behavior.\n",
      "  _warn_prf(average, modifier, msg_start, len(result))\n",
      "C:\\Users\\ravic\\anaconda3\\lib\\site-packages\\sklearn\\metrics\\_classification.py:1248: UndefinedMetricWarning: Precision and F-score are ill-defined and being set to 0.0 in labels with no predicted samples. Use `zero_division` parameter to control this behavior.\n",
      "  _warn_prf(average, modifier, msg_start, len(result))\n"
     ]
    }
   ],
   "source": [
    "#printing results of the kmodel\n",
    "y_predict = kmodel.fit(Ftrain, Ltrain).predict(Ftest)\n",
    "class_names = target.unique()\n",
    "print(classification_report(Ltest, y_predict, target_names=class_names))\n",
    "print(confusion_matrix(Ltest, y_predict))"
   ]
  },
  {
   "cell_type": "markdown",
   "id": "d5c58638",
   "metadata": {},
   "source": [
    "# Logistic on rgb data"
   ]
  },
  {
   "cell_type": "code",
   "execution_count": 18,
   "id": "a84836ef",
   "metadata": {},
   "outputs": [
    {
     "name": "stdout",
     "output_type": "stream",
     "text": [
      "0.6838665290677675\n"
     ]
    }
   ],
   "source": [
    "#importing logistic data\n",
    "from sklearn.linear_model import LogisticRegression\n",
    "model=LogisticRegression(solver='lbfgs', max_iter=10000)\n",
    "model.fit(Ftrain,Ltrain)\n",
    "print(model.score(Ftest,Ltest))"
   ]
  },
  {
   "cell_type": "code",
   "execution_count": 19,
   "id": "8a6e84a1",
   "metadata": {},
   "outputs": [
    {
     "name": "stdout",
     "output_type": "stream",
     "text": [
      "                               precision    recall  f1-score   support\n",
      "\n",
      "               bacterial_spot       0.65      0.75      0.70       345\n",
      "                 early_blight       0.31      0.32      0.32       153\n",
      "                      healthy       0.67      0.65      0.66       234\n",
      "                  late_blight       0.54      0.52      0.53       309\n",
      "                    leaf_mold       0.58      0.57      0.57       145\n",
      "           septoria_leaf_spot       0.67      0.64      0.66       293\n",
      "                  target_spot       0.58      0.57      0.57       240\n",
      "          tomato_mosaic_virus       0.62      0.74      0.68        54\n",
      "tomato_yellow_leaf_curl_virus       0.90      0.88      0.89       854\n",
      "      two-spotted_spider_mite       0.62      0.61      0.61       280\n",
      "\n",
      "                     accuracy                           0.68      2907\n",
      "                    macro avg       0.62      0.63      0.62      2907\n",
      "                 weighted avg       0.69      0.68      0.68      2907\n",
      "\n",
      "[[258  24   6  22   0   3   4   0  24   4]\n",
      " [ 20  49   8  29   5   3  14   3  12  10]\n",
      " [  5  10 153  27   5   8  16   0   0  10]\n",
      " [ 34  25  13 161   9  22   9   1  14  21]\n",
      " [  2   9   6   8  83  23   3   0   4   7]\n",
      " [  6   8  11  14  21 188  11  13  12   9]\n",
      " [ 11   9  22   7   7  13 136   4   0  31]\n",
      " [  0   0   1   0   2   8   2  40   0   1]\n",
      " [ 43   9   0  20   5   5  10   0 749  13]\n",
      " [ 16  13   8   8   7   7  29   3  18 171]]\n"
     ]
    }
   ],
   "source": [
    "#classification report\n",
    "y_predict = model.fit(Ftrain, Ltrain).predict(Ftest)\n",
    "class_names = target.unique()\n",
    "print(classification_report(Ltest, y_predict, target_names=class_names))\n",
    "print(confusion_matrix(Ltest, y_predict))"
   ]
  },
  {
   "cell_type": "markdown",
   "id": "6fe194bc",
   "metadata": {},
   "source": [
    "# SVM(linear) on RGB data"
   ]
  },
  {
   "cell_type": "code",
   "execution_count": 20,
   "id": "2427ed51",
   "metadata": {},
   "outputs": [
    {
     "name": "stdout",
     "output_type": "stream",
     "text": [
      "0.7337461300309598\n"
     ]
    }
   ],
   "source": [
    "#importing svm algorithm\n",
    "from sklearn.svm import SVC\n",
    "#importing accuracy score\n",
    "from sklearn.metrics import accuracy_score\n",
    "#building svm model\n",
    "clf = SVC(kernel='linear')\n",
    "#fitting the model\n",
    "clf.fit(Ftrain,Ltrain)\n",
    "#assigning the predictions to y_pred\n",
    "y_pred = clf.predict(Ftest)\n",
    "print(accuracy_score(Ltest,y_pred))"
   ]
  },
  {
   "cell_type": "code",
   "execution_count": 21,
   "id": "d3ce316a",
   "metadata": {},
   "outputs": [
    {
     "name": "stdout",
     "output_type": "stream",
     "text": [
      "                               precision    recall  f1-score   support\n",
      "\n",
      "               bacterial_spot       0.66      0.82      0.73       345\n",
      "                 early_blight       0.37      0.37      0.37       153\n",
      "                      healthy       0.76      0.81      0.79       234\n",
      "                  late_blight       0.65      0.65      0.65       309\n",
      "                    leaf_mold       0.66      0.61      0.64       145\n",
      "           septoria_leaf_spot       0.71      0.66      0.68       293\n",
      "                  target_spot       0.67      0.61      0.64       240\n",
      "          tomato_mosaic_virus       0.77      0.85      0.81        54\n",
      "tomato_yellow_leaf_curl_virus       0.91      0.87      0.89       854\n",
      "      two-spotted_spider_mite       0.70      0.67      0.68       280\n",
      "\n",
      "                     accuracy                           0.73      2907\n",
      "                    macro avg       0.69      0.69      0.69      2907\n",
      "                 weighted avg       0.74      0.73      0.73      2907\n",
      "\n",
      "[[283  17   2  11   0   2   2   0  27   1]\n",
      " [ 35  57   2  26   1   4   7   0   8  13]\n",
      " [  0   7 190  12   4   5  11   0   0   5]\n",
      " [ 25  19  16 202   9  14   3   0  11  10]\n",
      " [  4   4   4  10  89  24   2   3   3   2]\n",
      " [  4  12  15  20  15 192  12   7   8   8]\n",
      " [  5  23  13   3   6  13 146   1   0  30]\n",
      " [  0   0   0   0   1   6   0  46   0   1]\n",
      " [ 65   5   0  21   3   4   5   0 741  10]\n",
      " [  9  10   8   8   6   7  30   3  12 187]]\n"
     ]
    }
   ],
   "source": [
    "#classification report\n",
    "y_predict = clf.fit(Ftrain, Ltrain).predict(Ftest)\n",
    "class_names = target.unique()\n",
    "print(classification_report(Ltest, y_predict, target_names=class_names))\n",
    "print(confusion_matrix(Ltest, y_predict))"
   ]
  },
  {
   "cell_type": "markdown",
   "id": "cc0649d3",
   "metadata": {},
   "source": [
    "# SVM(poly) on RGB data"
   ]
  },
  {
   "cell_type": "code",
   "execution_count": 22,
   "id": "6f9925c1",
   "metadata": {},
   "outputs": [
    {
     "name": "stdout",
     "output_type": "stream",
     "text": [
      "0.7447540419676643\n"
     ]
    }
   ],
   "source": [
    "#building poly model\n",
    "svm_poly = SVC(kernel='poly')\n",
    "#fitting the model\n",
    "svm_poly.fit(Ftrain,Ltrain)\n",
    "y_pred = svm_poly.predict(Ftest)\n",
    "print(accuracy_score(Ltest,y_pred))"
   ]
  },
  {
   "cell_type": "code",
   "execution_count": 23,
   "id": "691ece56",
   "metadata": {},
   "outputs": [
    {
     "name": "stdout",
     "output_type": "stream",
     "text": [
      "                               precision    recall  f1-score   support\n",
      "\n",
      "               bacterial_spot       0.62      0.86      0.72       345\n",
      "                 early_blight       0.64      0.14      0.23       153\n",
      "                      healthy       0.81      0.90      0.85       234\n",
      "                  late_blight       0.87      0.61      0.72       309\n",
      "                    leaf_mold       0.80      0.60      0.69       145\n",
      "           septoria_leaf_spot       0.73      0.66      0.69       293\n",
      "                  target_spot       0.68      0.54      0.60       240\n",
      "          tomato_mosaic_virus       0.53      0.17      0.25        54\n",
      "tomato_yellow_leaf_curl_virus       0.77      0.96      0.86       854\n",
      "      two-spotted_spider_mite       0.75      0.75      0.75       280\n",
      "\n",
      "                     accuracy                           0.74      2907\n",
      "                    macro avg       0.72      0.62      0.64      2907\n",
      "                 weighted avg       0.74      0.74      0.72      2907\n",
      "\n",
      "[[295   0   3   2   0   2   2   0  40   1]\n",
      " [ 48  21   1  14   0   5  22   3  29  10]\n",
      " [ 13   0 211   1   0   1   1   0   6   1]\n",
      " [ 22   7  18 189  12  21   9   1  24   6]\n",
      " [ 12   2   5   3  87  15   4   0  15   2]\n",
      " [  9   0   6   7   8 193   9   2  53   6]\n",
      " [ 43   2   8   0   0   5 130   2  16  34]\n",
      " [  5   0   1   0   2  13   2   9  18   4]\n",
      " [ 17   0   1   1   0   7   1   0 819   8]\n",
      " [  9   1   6   1   0   2  11   0  39 211]]\n"
     ]
    }
   ],
   "source": [
    "#classification report\n",
    "y_predict = svm_poly.fit(Ftrain, Ltrain).predict(Ftest)\n",
    "class_names = target.unique()\n",
    "print(classification_report(Ltest, y_predict, target_names=class_names))\n",
    "print(confusion_matrix(Ltest, y_predict))"
   ]
  },
  {
   "cell_type": "markdown",
   "id": "bd7a9c8c",
   "metadata": {},
   "source": [
    "# SVM(RBF) on RGB data"
   ]
  },
  {
   "cell_type": "code",
   "execution_count": 24,
   "id": "75cf5b70",
   "metadata": {},
   "outputs": [
    {
     "name": "stdout",
     "output_type": "stream",
     "text": [
      "0.8469212246302029\n"
     ]
    }
   ],
   "source": [
    "#building the svm(rbf) model\n",
    "svm_rbf = SVC(kernel='rbf')\n",
    "#fitting the model\n",
    "svm_rbf.fit(Ftrain,Ltrain)\n",
    "y_pred = svm_rbf.predict(Ftest)\n",
    "print(accuracy_score(Ltest,y_pred))"
   ]
  },
  {
   "cell_type": "code",
   "execution_count": 25,
   "id": "d790ed6e",
   "metadata": {},
   "outputs": [
    {
     "name": "stdout",
     "output_type": "stream",
     "text": [
      "                               precision    recall  f1-score   support\n",
      "\n",
      "               bacterial_spot       0.87      0.91      0.89       345\n",
      "                 early_blight       0.63      0.42      0.50       153\n",
      "                      healthy       0.96      0.95      0.95       234\n",
      "                  late_blight       0.79      0.82      0.81       309\n",
      "                    leaf_mold       0.81      0.69      0.74       145\n",
      "           septoria_leaf_spot       0.79      0.78      0.79       293\n",
      "                  target_spot       0.76      0.78      0.77       240\n",
      "          tomato_mosaic_virus       0.77      0.76      0.77        54\n",
      "tomato_yellow_leaf_curl_virus       0.92      0.96      0.94       854\n",
      "      two-spotted_spider_mite       0.81      0.82      0.82       280\n",
      "\n",
      "                     accuracy                           0.85      2907\n",
      "                    macro avg       0.81      0.79      0.80      2907\n",
      "                 weighted avg       0.84      0.85      0.84      2907\n",
      "\n",
      "[[314   2   1   5   0   0   2   0  20   1]\n",
      " [ 23  64   2  27   1   5  14   0   9   8]\n",
      " [  0   3 222   4   0   3   2   0   0   0]\n",
      " [  3  11   4 254  10   5   8   3   7   4]\n",
      " [  1   3   0  11 100  18   2   2   6   2]\n",
      " [  2   6   1   9  10 230   9   3  17   6]\n",
      " [  4   7   1   2   1  12 187   1   4  21]\n",
      " [  0   1   0   0   2   9   1  41   0   0]\n",
      " [ 13   2   0   3   0   4   0   0 820  12]\n",
      " [  1   3   1   5   0   5  21   3  11 230]]\n"
     ]
    }
   ],
   "source": [
    "#classification report\n",
    "y_predict = svm_rbf.fit(Ftrain, Ltrain).predict(Ftest)\n",
    "class_names = target.unique()\n",
    "print(classification_report(Ltest, y_predict, target_names=class_names))\n",
    "print(confusion_matrix(Ltest, y_predict))"
   ]
  },
  {
   "cell_type": "markdown",
   "id": "b4626fd1",
   "metadata": {},
   "source": [
    "# SVM(sigmoid) on RGB data"
   ]
  },
  {
   "cell_type": "code",
   "execution_count": 26,
   "id": "774b25b9",
   "metadata": {},
   "outputs": [
    {
     "name": "stdout",
     "output_type": "stream",
     "text": [
      "0.5455796353629171\n"
     ]
    }
   ],
   "source": [
    "#building the sigmoid model\n",
    "svm_si = SVC(kernel='sigmoid')\n",
    "#fitting the model\n",
    "svm_si.fit(Ftrain,Ltrain)\n",
    "y_pred = svm_si.predict(Ftest)\n",
    "print(accuracy_score(Ltest,y_pred))"
   ]
  },
  {
   "cell_type": "code",
   "execution_count": 27,
   "id": "a5229cca",
   "metadata": {},
   "outputs": [
    {
     "name": "stdout",
     "output_type": "stream",
     "text": [
      "                               precision    recall  f1-score   support\n",
      "\n",
      "               bacterial_spot       0.58      0.62      0.60       345\n",
      "                 early_blight       0.21      0.08      0.12       153\n",
      "                      healthy       0.72      0.63      0.67       234\n",
      "                  late_blight       0.37      0.31      0.33       309\n",
      "                    leaf_mold       0.65      0.23      0.34       145\n",
      "           septoria_leaf_spot       0.25      0.57      0.34       293\n",
      "                  target_spot       0.51      0.38      0.44       240\n",
      "          tomato_mosaic_virus       0.68      0.24      0.36        54\n",
      "tomato_yellow_leaf_curl_virus       0.80      0.82      0.81       854\n",
      "      two-spotted_spider_mite       0.53      0.40      0.46       280\n",
      "\n",
      "                     accuracy                           0.55      2907\n",
      "                    macro avg       0.53      0.43      0.45      2907\n",
      "                 weighted avg       0.58      0.55      0.54      2907\n",
      "\n",
      "[[214  12   1  25   0  16   7   0  66   4]\n",
      " [ 40  13   4  15   3  33  13   0  23   9]\n",
      " [ 11   2 147  28   0  37   9   0   0   0]\n",
      " [ 18   8  31  95   4 103   8   1  24  17]\n",
      " [  4   4   6  41  33  46   2   2   5   2]\n",
      " [  2   3   5  35   9 166  33   1  22  17]\n",
      " [ 12   8   7   6   1  78  92   0   4  32]\n",
      " [  1   0   1   6   0  25   5  13   1   2]\n",
      " [ 51   2   0   4   0  78   1   0 701  17]\n",
      " [ 13  10   2   4   1  95  11   2  30 112]]\n"
     ]
    }
   ],
   "source": [
    "#classification report\n",
    "y_predict = svm_si.fit(Ftrain, Ltrain).predict(Ftest)\n",
    "class_names = target.unique()\n",
    "print(classification_report(Ltest, y_predict, target_names=class_names))\n",
    "print(confusion_matrix(Ltest, y_predict))"
   ]
  },
  {
   "cell_type": "markdown",
   "id": "73bef6fa",
   "metadata": {},
   "source": [
    "# Random Forest on RGB "
   ]
  },
  {
   "cell_type": "code",
   "execution_count": 28,
   "id": "6bae5a92",
   "metadata": {},
   "outputs": [],
   "source": [
    "#importing the random forest\n",
    "from sklearn.ensemble import RandomForestClassifier"
   ]
  },
  {
   "cell_type": "code",
   "execution_count": 29,
   "id": "1d08a15e",
   "metadata": {},
   "outputs": [],
   "source": [
    "#building the model\n",
    "classifier_rf = RandomForestClassifier(random_state=42, n_jobs=-1, max_depth=5,n_estimators=100, oob_score=True)"
   ]
  },
  {
   "cell_type": "code",
   "execution_count": 30,
   "id": "938ad007",
   "metadata": {},
   "outputs": [
    {
     "data": {
      "text/plain": [
       "RandomForestClassifier(max_depth=5, n_jobs=-1, oob_score=True, random_state=42)"
      ]
     },
     "execution_count": 30,
     "metadata": {},
     "output_type": "execute_result"
    }
   ],
   "source": [
    "#fitting the model\n",
    "classifier_rf.fit(Ftrain, Ltrain)"
   ]
  },
  {
   "cell_type": "code",
   "execution_count": 31,
   "id": "e1769cec",
   "metadata": {},
   "outputs": [
    {
     "data": {
      "text/plain": [
       "0.5579834824501032"
      ]
     },
     "execution_count": 31,
     "metadata": {},
     "output_type": "execute_result"
    }
   ],
   "source": [
    "classifier_rf.oob_score_"
   ]
  },
  {
   "cell_type": "code",
   "execution_count": 32,
   "id": "e8e6675c",
   "metadata": {},
   "outputs": [
    {
     "name": "stdout",
     "output_type": "stream",
     "text": [
      "                               precision    recall  f1-score   support\n",
      "\n",
      "               bacterial_spot       0.74      0.58      0.65       345\n",
      "                 early_blight       0.00      0.00      0.00       153\n",
      "                      healthy       0.56      0.91      0.69       234\n",
      "                  late_blight       0.68      0.27      0.39       309\n",
      "                    leaf_mold       0.78      0.34      0.47       145\n",
      "           septoria_leaf_spot       0.57      0.44      0.50       293\n",
      "                  target_spot       0.54      0.40      0.46       240\n",
      "          tomato_mosaic_virus       0.00      0.00      0.00        54\n",
      "tomato_yellow_leaf_curl_virus       0.52      0.98      0.68       854\n",
      "      two-spotted_spider_mite       0.77      0.17      0.28       280\n",
      "\n",
      "                     accuracy                           0.57      2907\n",
      "                    macro avg       0.52      0.41      0.41      2907\n",
      "                 weighted avg       0.57      0.57      0.51      2907\n",
      "\n",
      "[[200   0  19   4   0   0   3   0 119   0]\n",
      " [ 18   0   5   3   0  18  15   0  91   3]\n",
      " [  3   0 213   1   0   1   1   0  14   1]\n",
      " [  5   0  73  84   4  37  10   0  94   2]\n",
      " [  7   0  23  13  49   4   5   0  44   0]\n",
      " [  7   0  10   9   7 129   3   0 128   0]\n",
      " [ 15   0  18   4   0  23  95   0  79   6]\n",
      " [  3   0   8   4   3   4   0   0  30   2]\n",
      " [  5   0   2   2   0   7   1   0 837   0]\n",
      " [  9   0   8   0   0   3  43   0 170  47]]\n"
     ]
    },
    {
     "name": "stderr",
     "output_type": "stream",
     "text": [
      "C:\\Users\\ravic\\anaconda3\\lib\\site-packages\\sklearn\\metrics\\_classification.py:1248: UndefinedMetricWarning: Precision and F-score are ill-defined and being set to 0.0 in labels with no predicted samples. Use `zero_division` parameter to control this behavior.\n",
      "  _warn_prf(average, modifier, msg_start, len(result))\n",
      "C:\\Users\\ravic\\anaconda3\\lib\\site-packages\\sklearn\\metrics\\_classification.py:1248: UndefinedMetricWarning: Precision and F-score are ill-defined and being set to 0.0 in labels with no predicted samples. Use `zero_division` parameter to control this behavior.\n",
      "  _warn_prf(average, modifier, msg_start, len(result))\n",
      "C:\\Users\\ravic\\anaconda3\\lib\\site-packages\\sklearn\\metrics\\_classification.py:1248: UndefinedMetricWarning: Precision and F-score are ill-defined and being set to 0.0 in labels with no predicted samples. Use `zero_division` parameter to control this behavior.\n",
      "  _warn_prf(average, modifier, msg_start, len(result))\n"
     ]
    }
   ],
   "source": [
    "#predicting the model\n",
    "y_predict = classifier_rf.fit(Ftrain, Ltrain).predict(Ftest)\n",
    "class_names = target.unique()\n",
    "#printing the classification report\n",
    "print(classification_report(Ltest, y_predict, target_names=class_names))\n",
    "print(confusion_matrix(Ltest, y_predict))"
   ]
  },
  {
   "cell_type": "markdown",
   "id": "b6a094e4",
   "metadata": {},
   "source": [
    "# Gaussian Naive Bayes on RGB data"
   ]
  },
  {
   "cell_type": "code",
   "execution_count": 33,
   "id": "a5bc755b",
   "metadata": {},
   "outputs": [
    {
     "data": {
      "text/plain": [
       "GaussianNB()"
      ]
     },
     "execution_count": 33,
     "metadata": {},
     "output_type": "execute_result"
    }
   ],
   "source": [
    "#importing the gaussian bayes\n",
    "from sklearn.naive_bayes import GaussianNB\n",
    "gnb = GaussianNB()\n",
    "#fitting the model\n",
    "gnb.fit(Ftrain, Ltrain)"
   ]
  },
  {
   "cell_type": "code",
   "execution_count": 34,
   "id": "6d162dcc",
   "metadata": {},
   "outputs": [],
   "source": [
    "#predicting the output\n",
    "y_pred = gnb.predict(Ftest)"
   ]
  },
  {
   "cell_type": "code",
   "execution_count": 35,
   "id": "8f7b4bab",
   "metadata": {},
   "outputs": [
    {
     "data": {
      "text/plain": [
       "0.5063639490884073"
      ]
     },
     "execution_count": 35,
     "metadata": {},
     "output_type": "execute_result"
    }
   ],
   "source": [
    "#importing the metrics\n",
    "from sklearn import metrics\n",
    "metrics.accuracy_score(Ltest, y_pred)"
   ]
  },
  {
   "cell_type": "code",
   "execution_count": 36,
   "id": "69742172",
   "metadata": {},
   "outputs": [
    {
     "name": "stdout",
     "output_type": "stream",
     "text": [
      "                               precision    recall  f1-score   support\n",
      "\n",
      "               bacterial_spot       0.53      0.76      0.62       345\n",
      "                 early_blight       0.23      0.31      0.26       153\n",
      "                      healthy       0.42      0.71      0.53       234\n",
      "                  late_blight       0.51      0.28      0.36       309\n",
      "                    leaf_mold       0.53      0.44      0.48       145\n",
      "           septoria_leaf_spot       0.44      0.46      0.45       293\n",
      "                  target_spot       0.54      0.45      0.49       240\n",
      "          tomato_mosaic_virus       0.19      0.72      0.31        54\n",
      "tomato_yellow_leaf_curl_virus       0.89      0.51      0.65       854\n",
      "      two-spotted_spider_mite       0.40      0.47      0.44       280\n",
      "\n",
      "                     accuracy                           0.51      2907\n",
      "                    macro avg       0.47      0.51      0.46      2907\n",
      "                 weighted avg       0.58      0.51      0.52      2907\n",
      "\n",
      "[[261   7  32   7   0   3   6   5  20   4]\n",
      " [ 36  47   2  24   0  10  18   4   4   8]\n",
      " [  8   5 166   7   6   3  22   7   2   8]\n",
      " [  4  49  94  86  17  31   6  14   4   4]\n",
      " [  6   6   5  11  64  25   1  20   2   5]\n",
      " [  6  10  39   6  21 135  19  19  11  27]\n",
      " [ 17  14   4   7   3  23 107  12   2  51]\n",
      " [  4   0   3   0   1   4   0  39   1   2]\n",
      " [136  39  41  15   6  54   2  39 434  88]\n",
      " [ 14  27   7   4   3  22  19  42   9 133]]\n"
     ]
    }
   ],
   "source": [
    "#printing the classification report\n",
    "class_names = target.unique()\n",
    "print(classification_report(Ltest, y_pred, target_names=class_names))\n",
    "print(confusion_matrix(Ltest, y_pred))"
   ]
  },
  {
   "cell_type": "markdown",
   "id": "d6160a05",
   "metadata": {},
   "source": [
    "# Bernouli Naive bayes on RGB data"
   ]
  },
  {
   "cell_type": "code",
   "execution_count": 37,
   "id": "a257e2b3",
   "metadata": {},
   "outputs": [],
   "source": [
    "#importing bernouli naive bayes\n",
    "from sklearn.naive_bayes import BernoulliNB"
   ]
  },
  {
   "cell_type": "code",
   "execution_count": 38,
   "id": "1b9e5ea9",
   "metadata": {},
   "outputs": [
    {
     "data": {
      "text/plain": [
       "BernoulliNB()"
      ]
     },
     "execution_count": 38,
     "metadata": {},
     "output_type": "execute_result"
    }
   ],
   "source": [
    "#fitting the model\n",
    "bnb = BernoulliNB()\n",
    "bnb.fit(Ftrain, Ltrain)"
   ]
  },
  {
   "cell_type": "code",
   "execution_count": 39,
   "id": "d471cc30",
   "metadata": {},
   "outputs": [],
   "source": [
    "#predicting the output\n",
    "y_pred = bnb.predict(Ftest)"
   ]
  },
  {
   "cell_type": "code",
   "execution_count": 40,
   "id": "4cdf2dc4",
   "metadata": {},
   "outputs": [
    {
     "data": {
      "text/plain": [
       "0.43034055727554177"
      ]
     },
     "execution_count": 40,
     "metadata": {},
     "output_type": "execute_result"
    }
   ],
   "source": [
    "metrics.accuracy_score(Ltest, y_pred)"
   ]
  },
  {
   "cell_type": "code",
   "execution_count": 41,
   "id": "4a24591c",
   "metadata": {},
   "outputs": [
    {
     "name": "stdout",
     "output_type": "stream",
     "text": [
      "                               precision    recall  f1-score   support\n",
      "\n",
      "               bacterial_spot       0.42      0.71      0.53       345\n",
      "                 early_blight       0.14      0.19      0.16       153\n",
      "                      healthy       0.43      0.60      0.50       234\n",
      "                  late_blight       0.15      0.10      0.12       309\n",
      "                    leaf_mold       0.59      0.40      0.48       145\n",
      "           septoria_leaf_spot       0.38      0.57      0.45       293\n",
      "                  target_spot       0.51      0.46      0.48       240\n",
      "          tomato_mosaic_virus       0.19      0.52      0.28        54\n",
      "tomato_yellow_leaf_curl_virus       0.87      0.35      0.50       854\n",
      "      two-spotted_spider_mite       0.44      0.50      0.46       280\n",
      "\n",
      "                     accuracy                           0.43      2907\n",
      "                    macro avg       0.41      0.44      0.40      2907\n",
      "                 weighted avg       0.52      0.43      0.43      2907\n",
      "\n",
      "[[245  19  20  26   0   8   3   2  19   3]\n",
      " [ 51  29   3   7   1  25  15   8   9   5]\n",
      " [  6   4 140  16   4  16  31  14   0   3]\n",
      " [ 54  20 101  31  19  53  10   7   5   9]\n",
      " [ 19   4   6   3  58  26   3  15   5   6]\n",
      " [  3   7  25  26   7 168  18  13   6  20]\n",
      " [ 11  25   5   6   2  38 110  11   0  32]\n",
      " [  1   0   0   5   3  12   2  28   0   3]\n",
      " [179  64  17  80   4  81   3  24 303  99]\n",
      " [ 17  32  10  13   0  21  22  24   2 139]]\n"
     ]
    }
   ],
   "source": [
    "#classification report\n",
    "class_names = target.unique()\n",
    "print(classification_report(Ltest, y_pred, target_names=class_names))\n",
    "print(confusion_matrix(Ltest, y_pred))"
   ]
  },
  {
   "cell_type": "markdown",
   "id": "0d6e0d06",
   "metadata": {},
   "source": [
    "# Decision Tree on RGB data"
   ]
  },
  {
   "cell_type": "code",
   "execution_count": 47,
   "id": "a5fd6907",
   "metadata": {},
   "outputs": [],
   "source": [
    "#importing the decision tree\n",
    "from sklearn.tree import DecisionTreeClassifier\n",
    "classifier_tree = DecisionTreeClassifier()"
   ]
  },
  {
   "cell_type": "code",
   "execution_count": 48,
   "id": "63eb94fc",
   "metadata": {},
   "outputs": [
    {
     "data": {
      "text/plain": [
       "0.5042999656002752"
      ]
     },
     "execution_count": 48,
     "metadata": {},
     "output_type": "execute_result"
    }
   ],
   "source": [
    "#fitting the model\n",
    "classifier_tree.fit(Ftrain, Ltrain)\n",
    "classifier_tree.score(Ftest,Ltest)"
   ]
  },
  {
   "cell_type": "code",
   "execution_count": 49,
   "id": "2a796fe0",
   "metadata": {},
   "outputs": [
    {
     "name": "stdout",
     "output_type": "stream",
     "text": [
      "                               precision    recall  f1-score   support\n",
      "\n",
      "               bacterial_spot       0.49      0.57      0.53       345\n",
      "                 early_blight       0.14      0.14      0.14       153\n",
      "                      healthy       0.60      0.67      0.63       234\n",
      "                  late_blight       0.46      0.46      0.46       309\n",
      "                    leaf_mold       0.37      0.36      0.36       145\n",
      "           septoria_leaf_spot       0.43      0.41      0.42       293\n",
      "                  target_spot       0.34      0.31      0.32       240\n",
      "          tomato_mosaic_virus       0.10      0.11      0.10        54\n",
      "tomato_yellow_leaf_curl_virus       0.74      0.69      0.72       854\n",
      "      two-spotted_spider_mite       0.37      0.38      0.38       280\n",
      "\n",
      "                     accuracy                           0.50      2907\n",
      "                    macro avg       0.40      0.41      0.41      2907\n",
      "                 weighted avg       0.51      0.50      0.51      2907\n",
      "\n",
      "[[195  17  15  26   3  17   8   2  43  19]\n",
      " [ 25  22   5  17   4  10  18   5  29  18]\n",
      " [  9   7 156  23   7   7  14   1   3   7]\n",
      " [ 19  20  21 142  14  27  13   6  27  20]\n",
      " [  9  10  10  14  52  13   5   5  14  13]\n",
      " [ 22   6  10  29  16 120  24  10  39  17]\n",
      " [ 23  17  23  17  15  19  74   5  15  32]\n",
      " [  5   3   4   3   7   7   3   6   8   8]\n",
      " [ 66  33   6  22  14  46  18  12 592  45]\n",
      " [ 22  25   9  18   8  11  43  11  26 107]]\n"
     ]
    }
   ],
   "source": [
    "#classification report\n",
    "y_predict = classifier_tree.fit(Ftrain, Ltrain).predict(Ftest)\n",
    "class_names = target.unique()\n",
    "print(classification_report(Ltest, y_predict, target_names=class_names))\n",
    "print(confusion_matrix(Ltest, y_predict))"
   ]
  },
  {
   "cell_type": "markdown",
   "id": "c9daaaee",
   "metadata": {},
   "source": [
    "# KNN on grayscale data"
   ]
  },
  {
   "cell_type": "code",
   "execution_count": 50,
   "id": "57a9845e",
   "metadata": {},
   "outputs": [],
   "source": [
    "#reading numpy array data\n",
    "gray_test = np.load('gray_test.npy')\n",
    "#reading csv file\n",
    "gray_df = pd.read_csv('gray_data.csv')"
   ]
  },
  {
   "cell_type": "code",
   "execution_count": 51,
   "id": "25d4fea2",
   "metadata": {},
   "outputs": [],
   "source": [
    "#reading each array\n",
    "loaded = []\n",
    "for i in gray_test:\n",
    "    k = []\n",
    "    k = np.asarray(i,dtype='uint8')\n",
    "    loaded.append(k)"
   ]
  },
  {
   "cell_type": "code",
   "execution_count": 52,
   "id": "d3abef95",
   "metadata": {},
   "outputs": [],
   "source": [
    "#assigning features and target\n",
    "features = loaded\n",
    "target = gray_df['disease']\n",
    "#splitting the dataset to train and test\n",
    "Ftrain,Ftest,Ltrain,Ltest=train_test_split(features,target, test_size=0.20, random_state=20)\n",
    "#scaling the data\n",
    "Ftrain = scaler.fit_transform(Ftrain)\n",
    "Ftest = scaler.fit_transform(Ftest)"
   ]
  },
  {
   "cell_type": "code",
   "execution_count": 53,
   "id": "6f75adfd",
   "metadata": {},
   "outputs": [
    {
     "data": {
      "text/plain": [
       "0.4864121087031304"
      ]
     },
     "execution_count": 53,
     "metadata": {},
     "output_type": "execute_result"
    }
   ],
   "source": [
    "#fitting the model\n",
    "kmodel.fit(Ftrain,Ltrain)\n",
    "kmodel.score(Ftest,Ltest)"
   ]
  },
  {
   "cell_type": "code",
   "execution_count": 54,
   "id": "db638452",
   "metadata": {},
   "outputs": [
    {
     "name": "stdout",
     "output_type": "stream",
     "text": [
      "                               precision    recall  f1-score   support\n",
      "\n",
      "               bacterial_spot       0.38      0.77      0.50       349\n",
      "                 early_blight       0.00      0.00      0.00       182\n",
      "                      healthy       0.38      0.60      0.46       258\n",
      "                  late_blight       0.37      0.29      0.32       316\n",
      "                    leaf_mold       0.74      0.46      0.56       145\n",
      "           septoria_leaf_spot       0.56      0.39      0.46       262\n",
      "                  target_spot       0.70      0.17      0.27       229\n",
      "          tomato_mosaic_virus       1.00      0.03      0.07        58\n",
      "tomato_yellow_leaf_curl_virus       0.57      0.66      0.61       857\n",
      "      two-spotted_spider_mite       0.58      0.49      0.53       251\n",
      "\n",
      "                     accuracy                           0.49      2907\n",
      "                    macro avg       0.53      0.39      0.38      2907\n",
      "                 weighted avg       0.50      0.49      0.46      2907\n",
      "\n",
      "[[269   0  29  18   1   1   0   0  31   0]\n",
      " [ 94   0   6   2   5  12   9   0  49   5]\n",
      " [ 25   0 156  28   0   9   0   0  39   1]\n",
      " [ 47   0  53  91   5  36   1   0  74   9]\n",
      " [ 13   0  12  19  66   2   1   0  29   3]\n",
      " [ 19   0  38  20   3 101   0   0  67  14]\n",
      " [ 87   0  10   5   0  10  38   0  47  32]\n",
      " [  2   0   6   3   3   0   0   2  36   6]\n",
      " [110   0 101  50   5   5   0   0 569  17]\n",
      " [ 51   0   4   8   1   4   5   0  56 122]]\n"
     ]
    },
    {
     "name": "stderr",
     "output_type": "stream",
     "text": [
      "C:\\Users\\ravic\\anaconda3\\lib\\site-packages\\sklearn\\metrics\\_classification.py:1248: UndefinedMetricWarning: Precision and F-score are ill-defined and being set to 0.0 in labels with no predicted samples. Use `zero_division` parameter to control this behavior.\n",
      "  _warn_prf(average, modifier, msg_start, len(result))\n",
      "C:\\Users\\ravic\\anaconda3\\lib\\site-packages\\sklearn\\metrics\\_classification.py:1248: UndefinedMetricWarning: Precision and F-score are ill-defined and being set to 0.0 in labels with no predicted samples. Use `zero_division` parameter to control this behavior.\n",
      "  _warn_prf(average, modifier, msg_start, len(result))\n",
      "C:\\Users\\ravic\\anaconda3\\lib\\site-packages\\sklearn\\metrics\\_classification.py:1248: UndefinedMetricWarning: Precision and F-score are ill-defined and being set to 0.0 in labels with no predicted samples. Use `zero_division` parameter to control this behavior.\n",
      "  _warn_prf(average, modifier, msg_start, len(result))\n"
     ]
    }
   ],
   "source": [
    "#classification model\n",
    "y_predict = kmodel.fit(Ftrain, Ltrain).predict(Ftest)\n",
    "class_names = target.unique()\n",
    "print(classification_report(Ltest, y_predict, target_names=class_names))\n",
    "print(confusion_matrix(Ltest, y_predict))"
   ]
  },
  {
   "cell_type": "markdown",
   "id": "197eedfc",
   "metadata": {},
   "source": [
    "# Logistic on grayscale data"
   ]
  },
  {
   "cell_type": "code",
   "execution_count": 55,
   "id": "9fd6cafe",
   "metadata": {},
   "outputs": [
    {
     "data": {
      "text/plain": [
       "0.4368765049879601"
      ]
     },
     "execution_count": 55,
     "metadata": {},
     "output_type": "execute_result"
    }
   ],
   "source": [
    "model.fit(Ftrain,Ltrain)\n",
    "model.score(Ftest,Ltest)"
   ]
  },
  {
   "cell_type": "code",
   "execution_count": 56,
   "id": "ad468ab9",
   "metadata": {},
   "outputs": [
    {
     "name": "stdout",
     "output_type": "stream",
     "text": [
      "                               precision    recall  f1-score   support\n",
      "\n",
      "               bacterial_spot       0.56      0.50      0.53       349\n",
      "                 early_blight       0.21      0.15      0.18       182\n",
      "                      healthy       0.35      0.30      0.32       258\n",
      "                  late_blight       0.31      0.31      0.31       316\n",
      "                    leaf_mold       0.41      0.39      0.40       145\n",
      "           septoria_leaf_spot       0.34      0.35      0.34       262\n",
      "                  target_spot       0.27      0.23      0.25       229\n",
      "          tomato_mosaic_virus       0.15      0.19      0.17        58\n",
      "tomato_yellow_leaf_curl_virus       0.58      0.66      0.62       857\n",
      "      two-spotted_spider_mite       0.42      0.45      0.43       251\n",
      "\n",
      "                     accuracy                           0.44      2907\n",
      "                    macro avg       0.36      0.35      0.36      2907\n",
      "                 weighted avg       0.43      0.44      0.43      2907\n",
      "\n",
      "[[175  18  14  25   3  15  12   0  76  11]\n",
      " [ 26  28  11  15  13  13  22   0  47   7]\n",
      " [ 14   5  78  50   6  22  22   0  45  16]\n",
      " [ 10  19  27  97  20  46  22  13  51  11]\n",
      " [  3   4   3  21  57  10   4   5  29   9]\n",
      " [  8  10  19  32  10  91  21   8  45  18]\n",
      " [ 27  14  24  10   7  18  53   5  33  38]\n",
      " [  1   1   0   4   0   3   1  11  34   3]\n",
      " [ 36  21  43  53  20  32  18  21 567  46]\n",
      " [ 13  12   6   5   3  18  22   8  51 113]]\n"
     ]
    }
   ],
   "source": [
    "#classification report\n",
    "y_predict = model.fit(Ftrain, Ltrain).predict(Ftest)\n",
    "class_names = target.unique()\n",
    "print(classification_report(Ltest, y_predict, target_names=class_names))\n",
    "print(confusion_matrix(Ltest, y_predict))"
   ]
  },
  {
   "cell_type": "markdown",
   "id": "5284f869",
   "metadata": {},
   "source": [
    "# SVM(linear) on Grayscale data"
   ]
  },
  {
   "cell_type": "code",
   "execution_count": 57,
   "id": "d0db5c80",
   "metadata": {},
   "outputs": [
    {
     "name": "stdout",
     "output_type": "stream",
     "text": [
      "0.42346061231510146\n"
     ]
    }
   ],
   "source": [
    "clf.fit(Ftrain,Ltrain)\n",
    "y_pred = clf.predict(Ftest)\n",
    "print(accuracy_score(Ltest,y_pred))"
   ]
  },
  {
   "cell_type": "code",
   "execution_count": 58,
   "id": "907d10fb",
   "metadata": {},
   "outputs": [
    {
     "name": "stdout",
     "output_type": "stream",
     "text": [
      "                               precision    recall  f1-score   support\n",
      "\n",
      "               bacterial_spot       0.41      0.53      0.46       349\n",
      "                 early_blight       0.14      0.14      0.14       182\n",
      "                      healthy       0.43      0.43      0.43       258\n",
      "                  late_blight       0.29      0.29      0.29       316\n",
      "                    leaf_mold       0.34      0.35      0.35       145\n",
      "           septoria_leaf_spot       0.32      0.30      0.31       262\n",
      "                  target_spot       0.31      0.26      0.28       229\n",
      "          tomato_mosaic_virus       0.25      0.29      0.27        58\n",
      "tomato_yellow_leaf_curl_virus       0.61      0.59      0.60       857\n",
      "      two-spotted_spider_mite       0.49      0.43      0.46       251\n",
      "\n",
      "                     accuracy                           0.42      2907\n",
      "                    macro avg       0.36      0.36      0.36      2907\n",
      "                 weighted avg       0.42      0.42      0.42      2907\n",
      "\n",
      "[[185  30  11  27   3  13   5   0  67   8]\n",
      " [ 40  25   4  13  10   9  21   1  47  12]\n",
      " [ 39   8 111  37   5  16   9   0  29   4]\n",
      " [ 20  30  42  91  17  48  17   7  33  11]\n",
      " [  7   9   4  31  51  11   4   6  17   5]\n",
      " [ 23  14  21  33  15  78  28   5  36   9]\n",
      " [ 48  17  17   9  10   9  59   5  30  25]\n",
      " [  2   0   0   5   0   5   0  17  27   2]\n",
      " [ 67  34  45  61  28  38  20  23 507  34]\n",
      " [ 20  17   6   3  10  17  25   3  43 107]]\n"
     ]
    }
   ],
   "source": [
    "#classification report\n",
    "y_predict = clf.fit(Ftrain, Ltrain).predict(Ftest)\n",
    "class_names = target.unique()\n",
    "print(classification_report(Ltest, y_predict, target_names=class_names))\n",
    "print(confusion_matrix(Ltest, y_predict))"
   ]
  },
  {
   "cell_type": "markdown",
   "id": "bb4df373",
   "metadata": {},
   "source": [
    "# SVM(poly) on grayscale data"
   ]
  },
  {
   "cell_type": "code",
   "execution_count": 59,
   "id": "a0d5bfda",
   "metadata": {},
   "outputs": [
    {
     "name": "stdout",
     "output_type": "stream",
     "text": [
      "0.5503955968352253\n"
     ]
    }
   ],
   "source": [
    "#fitting the model\n",
    "svm_poly.fit(Ftrain,Ltrain)\n",
    "y_pred = svm_poly.predict(Ftest)\n",
    "print(accuracy_score(Ltest,y_pred))"
   ]
  },
  {
   "cell_type": "code",
   "execution_count": 60,
   "id": "d7fb339e",
   "metadata": {},
   "outputs": [
    {
     "name": "stdout",
     "output_type": "stream",
     "text": [
      "                               precision    recall  f1-score   support\n",
      "\n",
      "               bacterial_spot       0.57      0.56      0.56       349\n",
      "                 early_blight       0.49      0.12      0.19       182\n",
      "                      healthy       0.67      0.57      0.61       258\n",
      "                  late_blight       0.70      0.28      0.40       316\n",
      "                    leaf_mold       0.69      0.34      0.45       145\n",
      "           septoria_leaf_spot       0.63      0.42      0.50       262\n",
      "                  target_spot       0.56      0.36      0.44       229\n",
      "          tomato_mosaic_virus       0.00      0.00      0.00        58\n",
      "tomato_yellow_leaf_curl_virus       0.48      0.90      0.63       857\n",
      "      two-spotted_spider_mite       0.74      0.56      0.63       251\n",
      "\n",
      "                     accuracy                           0.55      2907\n",
      "                    macro avg       0.55      0.41      0.44      2907\n",
      "                 weighted avg       0.58      0.55      0.52      2907\n",
      "\n",
      "[[194   0   8   4   0   0   1   0 141   1]\n",
      " [ 42  21   3   7   6   7  22   0  65   9]\n",
      " [  2   0 146   1   0   2   2   0 104   1]\n",
      " [ 17  16  23  88  10  35  11   2 109   5]\n",
      " [  2   1   3   5  49   5   1   2  76   1]\n",
      " [  6   0   7  10   4 110  13   0 109   3]\n",
      " [ 21   2  11   0   0   4  82   0  88  21]\n",
      " [  0   0   0   0   1   1   0   0  56   0]\n",
      " [ 41   2  13  10   1   7   3   1 770   9]\n",
      " [ 14   1   4   0   0   3  12   0  77 140]]\n"
     ]
    }
   ],
   "source": [
    "#classification report\n",
    "y_predict = svm_poly.fit(Ftrain, Ltrain).predict(Ftest)\n",
    "class_names = target.unique()\n",
    "print(classification_report(Ltest, y_predict, target_names=class_names))\n",
    "print(confusion_matrix(Ltest, y_predict))"
   ]
  },
  {
   "cell_type": "markdown",
   "id": "f8e82d44",
   "metadata": {},
   "source": [
    "# SVM(RBF) on grayscale data"
   ]
  },
  {
   "cell_type": "code",
   "execution_count": 61,
   "id": "67c0ee85",
   "metadata": {},
   "outputs": [
    {
     "name": "stdout",
     "output_type": "stream",
     "text": [
      "0.7010663914688683\n"
     ]
    }
   ],
   "source": [
    "#fitting the model\n",
    "svm_rbf.fit(Ftrain,Ltrain)\n",
    "y_pred = svm_rbf.predict(Ftest)\n",
    "print(accuracy_score(Ltest,y_pred))"
   ]
  },
  {
   "cell_type": "code",
   "execution_count": 62,
   "id": "0001fe9e",
   "metadata": {},
   "outputs": [
    {
     "name": "stdout",
     "output_type": "stream",
     "text": [
      "                               precision    recall  f1-score   support\n",
      "\n",
      "               bacterial_spot       0.74      0.76      0.75       349\n",
      "                 early_blight       0.53      0.22      0.31       182\n",
      "                      healthy       0.79      0.88      0.83       258\n",
      "                  late_blight       0.66      0.66      0.66       316\n",
      "                    leaf_mold       0.79      0.54      0.64       145\n",
      "           septoria_leaf_spot       0.64      0.58      0.61       262\n",
      "                  target_spot       0.67      0.62      0.64       229\n",
      "          tomato_mosaic_virus       0.78      0.12      0.21        58\n",
      "tomato_yellow_leaf_curl_virus       0.70      0.87      0.77       857\n",
      "      two-spotted_spider_mite       0.72      0.70      0.71       251\n",
      "\n",
      "                     accuracy                           0.70      2907\n",
      "                    macro avg       0.70      0.59      0.61      2907\n",
      "                 weighted avg       0.70      0.70      0.69      2907\n",
      "\n",
      "[[264   2   8   9   0   6   1   0  59   0]\n",
      " [ 22  40   3  20   6   6  16   0  59  10]\n",
      " [  0   1 227   4   1   5  11   0   8   1]\n",
      " [  5  13  14 210   2  21   8   0  38   5]\n",
      " [  2   2   3  25  78   9   4   0  21   1]\n",
      " [  8   2  14  27   4 152  13   0  38   4]\n",
      " [ 11   5   5   4   1  10 142   1  22  28]\n",
      " [  0   0   0   0   1   6   0   7  38   6]\n",
      " [ 39   5  13  20   4  18   2   0 742  14]\n",
      " [  4   5   2   1   2   5  15   1  40 176]]\n"
     ]
    }
   ],
   "source": [
    "#classification report\n",
    "y_predict = svm_rbf.fit(Ftrain, Ltrain).predict(Ftest)\n",
    "class_names = target.unique()\n",
    "print(classification_report(Ltest, y_predict, target_names=class_names))\n",
    "print(confusion_matrix(Ltest, y_predict))"
   ]
  },
  {
   "cell_type": "markdown",
   "id": "2e75aafa",
   "metadata": {},
   "source": [
    "# SVM(sigmoid) on grayscale data"
   ]
  },
  {
   "cell_type": "code",
   "execution_count": 63,
   "id": "d9d20d3a",
   "metadata": {},
   "outputs": [
    {
     "name": "stdout",
     "output_type": "stream",
     "text": [
      "0.30787753697970416\n"
     ]
    }
   ],
   "source": [
    "#building the model\n",
    "svm_si.fit(Ftrain,Ltrain)\n",
    "y_pred = svm_si.predict(Ftest)\n",
    "print(accuracy_score(Ltest,y_pred))"
   ]
  },
  {
   "cell_type": "code",
   "execution_count": 64,
   "id": "b4425048",
   "metadata": {},
   "outputs": [
    {
     "name": "stdout",
     "output_type": "stream",
     "text": [
      "                               precision    recall  f1-score   support\n",
      "\n",
      "               bacterial_spot       0.41      0.45      0.43       349\n",
      "                 early_blight       0.19      0.05      0.09       182\n",
      "                      healthy       0.40      0.19      0.26       258\n",
      "                  late_blight       0.17      0.32      0.22       316\n",
      "                    leaf_mold       0.59      0.12      0.20       145\n",
      "           septoria_leaf_spot       0.16      0.40      0.23       262\n",
      "                  target_spot       0.25      0.09      0.13       229\n",
      "          tomato_mosaic_virus       0.00      0.00      0.00        58\n",
      "tomato_yellow_leaf_curl_virus       0.50      0.43      0.46       857\n",
      "      two-spotted_spider_mite       0.27      0.26      0.26       251\n",
      "\n",
      "                     accuracy                           0.31      2907\n",
      "                    macro avg       0.29      0.23      0.23      2907\n",
      "                 weighted avg       0.35      0.31      0.30      2907\n",
      "\n",
      "[[157   7   9  83   0  21   2   0  45  25]\n",
      " [ 51  10   2  29   1  29  10   0  29  21]\n",
      " [ 17   0  49  90   0  47   4   0  44   7]\n",
      " [ 18   6  15 100   4  91  11   0  53  18]\n",
      " [ 10   3   4  37  17  40   3   0  27   4]\n",
      " [  4   3   7  68   2 106  17   0  43  12]\n",
      " [ 26   5   9  18   0  85  21   0  38  27]\n",
      " [  3   0   1   8   1   6   0   0  36   3]\n",
      " [ 79  16  21 151   1 149   7   1 370  62]\n",
      " [ 21   3   6   7   3  81   9   0  56  65]]\n"
     ]
    }
   ],
   "source": [
    "#classification report\n",
    "y_predict = svm_si.fit(Ftrain, Ltrain).predict(Ftest)\n",
    "class_names = target.unique()\n",
    "print(classification_report(Ltest, y_predict, target_names=class_names))\n",
    "print(confusion_matrix(Ltest, y_predict))"
   ]
  },
  {
   "cell_type": "markdown",
   "id": "576fd580",
   "metadata": {},
   "source": [
    "# Random Forest on Grayscale"
   ]
  },
  {
   "cell_type": "code",
   "execution_count": 65,
   "id": "9dfa979e",
   "metadata": {},
   "outputs": [
    {
     "data": {
      "text/plain": [
       "RandomForestClassifier(max_depth=5, n_jobs=-1, oob_score=True, random_state=42)"
      ]
     },
     "execution_count": 65,
     "metadata": {},
     "output_type": "execute_result"
    }
   ],
   "source": [
    "classifier_rf.fit(Ftrain, Ltrain)"
   ]
  },
  {
   "cell_type": "code",
   "execution_count": 66,
   "id": "2b4347ef",
   "metadata": {},
   "outputs": [
    {
     "data": {
      "text/plain": [
       "0.438575361321404"
      ]
     },
     "execution_count": 66,
     "metadata": {},
     "output_type": "execute_result"
    }
   ],
   "source": [
    "classifier_rf.oob_score_"
   ]
  },
  {
   "cell_type": "code",
   "execution_count": 67,
   "id": "ce5db8b5",
   "metadata": {},
   "outputs": [
    {
     "name": "stdout",
     "output_type": "stream",
     "text": [
      "                               precision    recall  f1-score   support\n",
      "\n",
      "               bacterial_spot       0.63      0.46      0.53       349\n",
      "                 early_blight       0.00      0.00      0.00       182\n",
      "                      healthy       0.62      0.34      0.44       258\n",
      "                  late_blight       0.83      0.18      0.30       316\n",
      "                    leaf_mold       0.57      0.03      0.05       145\n",
      "           septoria_leaf_spot       0.58      0.47      0.52       262\n",
      "                  target_spot       0.85      0.07      0.14       229\n",
      "          tomato_mosaic_virus       0.00      0.00      0.00        58\n",
      "tomato_yellow_leaf_curl_virus       0.38      0.93      0.54       857\n",
      "      two-spotted_spider_mite       0.61      0.25      0.35       251\n",
      "\n",
      "                     accuracy                           0.45      2907\n",
      "                    macro avg       0.51      0.27      0.29      2907\n",
      "                 weighted avg       0.53      0.45      0.38      2907\n",
      "\n",
      "[[159   0   9   3   0   1   0   0 177   0]\n",
      " [ 29   0   1   1   0  17   1   0 131   2]\n",
      " [  2   0  89   4   0   0   0   0 162   1]\n",
      " [  7   0  16  58   2  36   1   0 193   3]\n",
      " [  3   0   0   0   4   7   1   0 127   3]\n",
      " [  2   0  18   2   1 122   0   0 114   3]\n",
      " [  4   0   0   0   0  12  17   0 169  27]\n",
      " [  1   0   0   0   0   1   0   0  56   0]\n",
      " [ 38   0  10   2   0  11   0   0 796   0]\n",
      " [  9   0   0   0   0   2   0   0 178  62]]\n"
     ]
    },
    {
     "name": "stderr",
     "output_type": "stream",
     "text": [
      "C:\\Users\\ravic\\anaconda3\\lib\\site-packages\\sklearn\\metrics\\_classification.py:1248: UndefinedMetricWarning: Precision and F-score are ill-defined and being set to 0.0 in labels with no predicted samples. Use `zero_division` parameter to control this behavior.\n",
      "  _warn_prf(average, modifier, msg_start, len(result))\n",
      "C:\\Users\\ravic\\anaconda3\\lib\\site-packages\\sklearn\\metrics\\_classification.py:1248: UndefinedMetricWarning: Precision and F-score are ill-defined and being set to 0.0 in labels with no predicted samples. Use `zero_division` parameter to control this behavior.\n",
      "  _warn_prf(average, modifier, msg_start, len(result))\n",
      "C:\\Users\\ravic\\anaconda3\\lib\\site-packages\\sklearn\\metrics\\_classification.py:1248: UndefinedMetricWarning: Precision and F-score are ill-defined and being set to 0.0 in labels with no predicted samples. Use `zero_division` parameter to control this behavior.\n",
      "  _warn_prf(average, modifier, msg_start, len(result))\n"
     ]
    }
   ],
   "source": [
    "#classification report\n",
    "y_predict = classifier_rf.fit(Ftrain, Ltrain).predict(Ftest)\n",
    "class_names = target.unique()\n",
    "print(classification_report(Ltest, y_predict, target_names=class_names))\n",
    "print(confusion_matrix(Ltest, y_predict))"
   ]
  },
  {
   "cell_type": "markdown",
   "id": "8befce61",
   "metadata": {},
   "source": [
    "# Gaussian Naive bayes on Grayscale"
   ]
  },
  {
   "cell_type": "code",
   "execution_count": 68,
   "id": "0d1a6d3b",
   "metadata": {},
   "outputs": [
    {
     "data": {
      "text/plain": [
       "GaussianNB()"
      ]
     },
     "execution_count": 68,
     "metadata": {},
     "output_type": "execute_result"
    }
   ],
   "source": [
    "gnb.fit(Ftrain, Ltrain)"
   ]
  },
  {
   "cell_type": "code",
   "execution_count": 69,
   "id": "053c9a09",
   "metadata": {},
   "outputs": [
    {
     "data": {
      "text/plain": [
       "0.3667010663914689"
      ]
     },
     "execution_count": 69,
     "metadata": {},
     "output_type": "execute_result"
    }
   ],
   "source": [
    "#predicting the model\n",
    "y_pred = gnb.predict(Ftest)\n",
    "metrics.accuracy_score(Ltest, y_pred)"
   ]
  },
  {
   "cell_type": "code",
   "execution_count": 70,
   "id": "0ea180f7",
   "metadata": {},
   "outputs": [
    {
     "name": "stdout",
     "output_type": "stream",
     "text": [
      "                               precision    recall  f1-score   support\n",
      "\n",
      "               bacterial_spot       0.42      0.73      0.53       349\n",
      "                 early_blight       0.25      0.31      0.28       182\n",
      "                      healthy       0.32      0.66      0.43       258\n",
      "                  late_blight       0.41      0.23      0.29       316\n",
      "                    leaf_mold       0.45      0.31      0.37       145\n",
      "           septoria_leaf_spot       0.36      0.50      0.42       262\n",
      "                  target_spot       0.51      0.34      0.41       229\n",
      "          tomato_mosaic_virus       0.13      0.60      0.22        58\n",
      "tomato_yellow_leaf_curl_virus       0.61      0.14      0.23       857\n",
      "      two-spotted_spider_mite       0.36      0.42      0.39       251\n",
      "\n",
      "                     accuracy                           0.37      2907\n",
      "                    macro avg       0.38      0.42      0.36      2907\n",
      "                 weighted avg       0.45      0.37      0.34      2907\n",
      "\n",
      "[[254   9  45   2   3   8   3  14   8   3]\n",
      " [ 54  57   3  23   7   8   9   4   6  11]\n",
      " [ 10   2 169   7   9   4  14   6  27  10]\n",
      " [  8  54  98  72   9  36   6  13   9  11]\n",
      " [ 21   3   6  11  45  27   4  16   8   4]\n",
      " [  3   7  50   9   6 131  12  16   4  24]\n",
      " [ 25  19   1  11   6  25  77  13   4  48]\n",
      " [ 12   0   3   0   1   2   0  35   3   2]\n",
      " [204  57 143  34  10  91   8 114 121  75]\n",
      " [ 18  23   3   5   3  35  18  32   9 105]]\n"
     ]
    }
   ],
   "source": [
    "#classification model\n",
    "class_names = target.unique()\n",
    "print(classification_report(Ltest, y_pred, target_names=class_names))\n",
    "print(confusion_matrix(Ltest, y_pred))"
   ]
  },
  {
   "cell_type": "markdown",
   "id": "d5b489a0",
   "metadata": {},
   "source": [
    "# Bernouli Naive bayes on grayscale data"
   ]
  },
  {
   "cell_type": "code",
   "execution_count": 71,
   "id": "05c41305",
   "metadata": {},
   "outputs": [
    {
     "data": {
      "text/plain": [
       "0.3202614379084967"
      ]
     },
     "execution_count": 71,
     "metadata": {},
     "output_type": "execute_result"
    }
   ],
   "source": [
    "bnb.fit(Ftrain, Ltrain)\n",
    "y_pred = bnb.predict(Ftest)\n",
    "metrics.accuracy_score(Ltest, y_pred)"
   ]
  },
  {
   "cell_type": "code",
   "execution_count": 72,
   "id": "40cc434f",
   "metadata": {},
   "outputs": [
    {
     "name": "stdout",
     "output_type": "stream",
     "text": [
      "                               precision    recall  f1-score   support\n",
      "\n",
      "               bacterial_spot       0.38      0.74      0.50       349\n",
      "                 early_blight       0.16      0.14      0.15       182\n",
      "                      healthy       0.28      0.54      0.37       258\n",
      "                  late_blight       0.19      0.09      0.12       316\n",
      "                    leaf_mold       0.53      0.28      0.37       145\n",
      "           septoria_leaf_spot       0.31      0.56      0.40       262\n",
      "                  target_spot       0.41      0.28      0.34       229\n",
      "          tomato_mosaic_virus       0.09      0.31      0.14        58\n",
      "tomato_yellow_leaf_curl_virus       0.53      0.12      0.19       857\n",
      "      two-spotted_spider_mite       0.35      0.42      0.38       251\n",
      "\n",
      "                     accuracy                           0.32      2907\n",
      "                    macro avg       0.32      0.35      0.30      2907\n",
      "                 weighted avg       0.37      0.32      0.29      2907\n",
      "\n",
      "[[258  10  43   7   1  13   3   5   9   0]\n",
      " [ 77  25   5   6   4  27  16   4  11   7]\n",
      " [ 12   1 140  26   2  23  24  13  10   7]\n",
      " [ 39  26 104  29  13  56   7  11  14  17]\n",
      " [ 27   2   7   7  41  34   7   9   4   7]\n",
      " [  4   7  41   3   6 148  16  10   6  21]\n",
      " [ 16  24   5  12   4  43  65  13  13  34]\n",
      " [ 11   0   1   4   0   6   0  18   9   9]\n",
      " [215  47 151  53   5  92   4  91 102  97]\n",
      " [ 20  19   6   3   1  32  16  33  16 105]]\n"
     ]
    }
   ],
   "source": [
    "#classification report\n",
    "class_names = target.unique()\n",
    "print(classification_report(Ltest, y_pred, target_names=class_names))\n",
    "print(confusion_matrix(Ltest, y_pred))"
   ]
  },
  {
   "cell_type": "markdown",
   "id": "7adb2a72",
   "metadata": {},
   "source": [
    "# Decision Tree on Grayscale"
   ]
  },
  {
   "cell_type": "code",
   "execution_count": 74,
   "id": "8e38f8b5",
   "metadata": {},
   "outputs": [
    {
     "data": {
      "text/plain": [
       "0.4293085655314757"
      ]
     },
     "execution_count": 74,
     "metadata": {},
     "output_type": "execute_result"
    }
   ],
   "source": [
    "classifier_tree.fit(Ftrain, Ltrain)\n",
    "classifier_tree.score(Ftest,Ltest)"
   ]
  },
  {
   "cell_type": "code",
   "execution_count": 75,
   "id": "838a0a4d",
   "metadata": {},
   "outputs": [
    {
     "name": "stdout",
     "output_type": "stream",
     "text": [
      "                               precision    recall  f1-score   support\n",
      "\n",
      "               bacterial_spot       0.46      0.47      0.46       349\n",
      "                 early_blight       0.21      0.19      0.20       182\n",
      "                      healthy       0.58      0.53      0.56       258\n",
      "                  late_blight       0.40      0.36      0.38       316\n",
      "                    leaf_mold       0.29      0.35      0.32       145\n",
      "           septoria_leaf_spot       0.36      0.39      0.37       262\n",
      "                  target_spot       0.27      0.26      0.26       229\n",
      "          tomato_mosaic_virus       0.08      0.10      0.09        58\n",
      "tomato_yellow_leaf_curl_virus       0.55      0.53      0.54       857\n",
      "      two-spotted_spider_mite       0.39      0.44      0.41       251\n",
      "\n",
      "                     accuracy                           0.42      2907\n",
      "                    macro avg       0.36      0.36      0.36      2907\n",
      "                 weighted avg       0.43      0.42      0.43      2907\n",
      "\n",
      "[[164  20  15  12  15  16  12   3  84   8]\n",
      " [ 24  34   5  17   8   8  15   3  49  19]\n",
      " [ 11   7 138  14   5  20  24   4  24  11]\n",
      " [ 18  15  16 115  12  37  15  11  60  17]\n",
      " [ 10   9   2  12  51  12   8   6  28   7]\n",
      " [ 15  12   8  34   8 102  19   5  45  14]\n",
      " [ 12  15  13  17  12  31  59   3  26  41]\n",
      " [  4   1   4   4   7   6   1   6  19   6]\n",
      " [ 85  37  27  53  47  43  37  22 456  50]\n",
      " [ 16  13   9  10  11  10  30   8  34 110]]\n"
     ]
    }
   ],
   "source": [
    "#classification report\n",
    "y_predict = classifier_tree.fit(Ftrain, Ltrain).predict(Ftest)\n",
    "class_names = target.unique()\n",
    "print(classification_report(Ltest, y_predict, target_names=class_names))\n",
    "print(confusion_matrix(Ltest, y_predict))"
   ]
  },
  {
   "cell_type": "markdown",
   "id": "e42f549f",
   "metadata": {},
   "source": [
    "# KNN on Red channel data"
   ]
  },
  {
   "cell_type": "code",
   "execution_count": 76,
   "id": "cb75cbbd",
   "metadata": {},
   "outputs": [],
   "source": [
    "#reading numpy array data\n",
    "red_test = np.load('red_data.npy')\n",
    "#reading csv file\n",
    "red_df = pd.read_csv('red_data.csv')"
   ]
  },
  {
   "cell_type": "code",
   "execution_count": 77,
   "id": "7fda7839",
   "metadata": {},
   "outputs": [],
   "source": [
    "#reading each array and appending in the loaded\n",
    "loaded = []\n",
    "for i in red_test:\n",
    "    k = []\n",
    "    k = np.asarray(i,dtype='uint8')\n",
    "    loaded.append(k)\n",
    "#assigning the features and target\n",
    "features = loaded\n",
    "target = red_df['disease']\n",
    "#splitting the data\n",
    "Ftrain,Ftest,Ltrain,Ltest=train_test_split(features,target, test_size=0.20, random_state=20)\n",
    "#scaling the data\n",
    "Ftrain = scaler.fit_transform(Ftrain)\n",
    "Ftest = scaler.fit_transform(Ftest)"
   ]
  },
  {
   "cell_type": "code",
   "execution_count": 78,
   "id": "683839f2",
   "metadata": {},
   "outputs": [
    {
     "data": {
      "text/plain": [
       "0.5070519435844513"
      ]
     },
     "execution_count": 78,
     "metadata": {},
     "output_type": "execute_result"
    }
   ],
   "source": [
    "#building the model\n",
    "kmodel.fit(Ftrain,Ltrain)\n",
    "kmodel.score(Ftest,Ltest)"
   ]
  },
  {
   "cell_type": "code",
   "execution_count": 79,
   "id": "3f0b171c",
   "metadata": {},
   "outputs": [
    {
     "name": "stdout",
     "output_type": "stream",
     "text": [
      "                               precision    recall  f1-score   support\n",
      "\n",
      "               bacterial_spot       0.44      0.74      0.55       349\n",
      "                 early_blight       0.00      0.00      0.00       182\n",
      "                      healthy       0.38      0.71      0.50       258\n",
      "                  late_blight       0.48      0.31      0.37       316\n",
      "                    leaf_mold       0.63      0.44      0.52       145\n",
      "           septoria_leaf_spot       0.59      0.35      0.44       262\n",
      "                  target_spot       0.60      0.26      0.36       229\n",
      "          tomato_mosaic_virus       0.60      0.05      0.10        58\n",
      "tomato_yellow_leaf_curl_virus       0.57      0.66      0.61       857\n",
      "      two-spotted_spider_mite       0.54      0.62      0.58       251\n",
      "\n",
      "                     accuracy                           0.51      2907\n",
      "                    macro avg       0.48      0.41      0.40      2907\n",
      "                 weighted avg       0.50      0.51      0.48      2907\n",
      "\n",
      "[[257   0  31  17   1   2   0   0  41   0]\n",
      " [ 81   0  11   2   7   9  16   1  45  10]\n",
      " [  4   0 182  12   0   2   0   0  57   1]\n",
      " [ 34   0  51  97   8  36   5   0  71  14]\n",
      " [  8   0  20  17  64   4   2   0  26   4]\n",
      " [ 19   0  36  17   4  92   2   1  67  24]\n",
      " [ 57   0  22   1   0   3  60   0  42  44]\n",
      " [  1   0   6   1   1   1   0   3  38   7]\n",
      " [ 97   0 108  36  16   6   1   0 564  29]\n",
      " [ 29   0   6   4   0   1  14   0  42 155]]\n"
     ]
    },
    {
     "name": "stderr",
     "output_type": "stream",
     "text": [
      "C:\\Users\\ravic\\anaconda3\\lib\\site-packages\\sklearn\\metrics\\_classification.py:1248: UndefinedMetricWarning: Precision and F-score are ill-defined and being set to 0.0 in labels with no predicted samples. Use `zero_division` parameter to control this behavior.\n",
      "  _warn_prf(average, modifier, msg_start, len(result))\n",
      "C:\\Users\\ravic\\anaconda3\\lib\\site-packages\\sklearn\\metrics\\_classification.py:1248: UndefinedMetricWarning: Precision and F-score are ill-defined and being set to 0.0 in labels with no predicted samples. Use `zero_division` parameter to control this behavior.\n",
      "  _warn_prf(average, modifier, msg_start, len(result))\n",
      "C:\\Users\\ravic\\anaconda3\\lib\\site-packages\\sklearn\\metrics\\_classification.py:1248: UndefinedMetricWarning: Precision and F-score are ill-defined and being set to 0.0 in labels with no predicted samples. Use `zero_division` parameter to control this behavior.\n",
      "  _warn_prf(average, modifier, msg_start, len(result))\n"
     ]
    }
   ],
   "source": [
    "#classification report\n",
    "y_predict = kmodel.fit(Ftrain, Ltrain).predict(Ftest)\n",
    "class_names = target.unique()\n",
    "print(classification_report(Ltest, y_predict, target_names=class_names))\n",
    "print(confusion_matrix(Ltest, y_predict))"
   ]
  },
  {
   "cell_type": "markdown",
   "id": "ffcda594",
   "metadata": {},
   "source": [
    "# Logistic on Red channel data"
   ]
  },
  {
   "cell_type": "code",
   "execution_count": 80,
   "id": "1ed4037b",
   "metadata": {},
   "outputs": [
    {
     "data": {
      "text/plain": [
       "0.44410044719642244"
      ]
     },
     "execution_count": 80,
     "metadata": {},
     "output_type": "execute_result"
    }
   ],
   "source": [
    "#builiding the model\n",
    "model.fit(Ftrain,Ltrain)\n",
    "model.score(Ftest,Ltest)"
   ]
  },
  {
   "cell_type": "code",
   "execution_count": 81,
   "id": "19a4a62d",
   "metadata": {},
   "outputs": [
    {
     "name": "stdout",
     "output_type": "stream",
     "text": [
      "                               precision    recall  f1-score   support\n",
      "\n",
      "               bacterial_spot       0.55      0.51      0.53       349\n",
      "                 early_blight       0.20      0.16      0.18       182\n",
      "                      healthy       0.37      0.33      0.35       258\n",
      "                  late_blight       0.30      0.29      0.30       316\n",
      "                    leaf_mold       0.42      0.42      0.42       145\n",
      "           septoria_leaf_spot       0.33      0.32      0.33       262\n",
      "                  target_spot       0.32      0.28      0.30       229\n",
      "          tomato_mosaic_virus       0.16      0.21      0.18        58\n",
      "tomato_yellow_leaf_curl_virus       0.60      0.66      0.63       857\n",
      "      two-spotted_spider_mite       0.42      0.46      0.44       251\n",
      "\n",
      "                     accuracy                           0.44      2907\n",
      "                    macro avg       0.37      0.37      0.37      2907\n",
      "                 weighted avg       0.44      0.44      0.44      2907\n",
      "\n",
      "[[178  20  11  29   4  12  11   0  77   7]\n",
      " [ 19  29  13  13  13  14  20   0  49  12]\n",
      " [ 14   9  86  47  10  20  23   0  35  14]\n",
      " [ 10  22  34  93  17  45  18  13  52  12]\n",
      " [  7   5   2  22  61  13   1   5  24   5]\n",
      " [ 14  14  16  40   9  85  19   9  35  21]\n",
      " [ 24  17  27  10   5  16  64   2  23  41]\n",
      " [  0   1   0   3   4   1   1  12  34   2]\n",
      " [ 43  21  34  52  20  36  16  25 567  43]\n",
      " [ 12   7   7   3   2  18  24   8  54 116]]\n"
     ]
    }
   ],
   "source": [
    "#classification report\n",
    "y_predict = model.fit(Ftrain, Ltrain).predict(Ftest)\n",
    "class_names = target.unique()\n",
    "print(classification_report(Ltest, y_predict, target_names=class_names))\n",
    "print(confusion_matrix(Ltest, y_predict))"
   ]
  },
  {
   "cell_type": "markdown",
   "id": "dba6d5ce",
   "metadata": {},
   "source": [
    "# SVM(linear) on Red channel data"
   ]
  },
  {
   "cell_type": "code",
   "execution_count": 82,
   "id": "6ed153f7",
   "metadata": {},
   "outputs": [
    {
     "name": "stdout",
     "output_type": "stream",
     "text": [
      "0.44478844169246645\n"
     ]
    }
   ],
   "source": [
    "#building the model\n",
    "clf.fit(Ftrain,Ltrain)\n",
    "y_pred = clf.predict(Ftest)\n",
    "print(accuracy_score(Ltest,y_pred))"
   ]
  },
  {
   "cell_type": "code",
   "execution_count": 83,
   "id": "cb2cb836",
   "metadata": {},
   "outputs": [
    {
     "name": "stdout",
     "output_type": "stream",
     "text": [
      "                               precision    recall  f1-score   support\n",
      "\n",
      "               bacterial_spot       0.43      0.54      0.48       349\n",
      "                 early_blight       0.21      0.21      0.21       182\n",
      "                      healthy       0.43      0.42      0.42       258\n",
      "                  late_blight       0.34      0.37      0.35       316\n",
      "                    leaf_mold       0.43      0.41      0.42       145\n",
      "           septoria_leaf_spot       0.34      0.33      0.33       262\n",
      "                  target_spot       0.39      0.35      0.37       229\n",
      "          tomato_mosaic_virus       0.23      0.26      0.25        58\n",
      "tomato_yellow_leaf_curl_virus       0.61      0.59      0.60       857\n",
      "      two-spotted_spider_mite       0.48      0.37      0.42       251\n",
      "\n",
      "                     accuracy                           0.44      2907\n",
      "                    macro avg       0.39      0.39      0.39      2907\n",
      "                 weighted avg       0.45      0.44      0.45      2907\n",
      "\n",
      "[[190  25  16  26   1   9   3   0  73   6]\n",
      " [ 35  38   9   8  10  11  18   0  49   4]\n",
      " [ 35  10 109  45   3  14  13   0  23   6]\n",
      " [ 27  24  34 116  11  42  16   7  35   4]\n",
      " [  9   6   4  27  59  13   1   4  18   4]\n",
      " [ 22  15  17  46  11  87  24   4  24  12]\n",
      " [ 34  20  15   8   3  16  81   4  24  24]\n",
      " [  1   1   0   3   2   5   0  15  29   2]\n",
      " [ 68  29  43  59  32  37  21  26 504  38]\n",
      " [ 18  13   9   7   6  25  30   4  45  94]]\n"
     ]
    }
   ],
   "source": [
    "#classification report\n",
    "y_predict = clf.fit(Ftrain, Ltrain).predict(Ftest)\n",
    "class_names = target.unique()\n",
    "print(classification_report(Ltest, y_predict, target_names=class_names))\n",
    "print(confusion_matrix(Ltest, y_predict))"
   ]
  },
  {
   "cell_type": "markdown",
   "id": "c77b6aed",
   "metadata": {},
   "source": [
    "# SVM(poly) on Red data"
   ]
  },
  {
   "cell_type": "code",
   "execution_count": 84,
   "id": "d066e758",
   "metadata": {},
   "outputs": [
    {
     "name": "stdout",
     "output_type": "stream",
     "text": [
      "0.586171310629515\n"
     ]
    }
   ],
   "source": [
    "#building the model\n",
    "svm_poly.fit(Ftrain,Ltrain)\n",
    "y_pred = svm_poly.predict(Ftest)\n",
    "print(accuracy_score(Ltest,y_pred))"
   ]
  },
  {
   "cell_type": "code",
   "execution_count": 85,
   "id": "cea5d091",
   "metadata": {},
   "outputs": [
    {
     "name": "stdout",
     "output_type": "stream",
     "text": [
      "                               precision    recall  f1-score   support\n",
      "\n",
      "               bacterial_spot       0.63      0.58      0.61       349\n",
      "                 early_blight       0.48      0.08      0.13       182\n",
      "                      healthy       0.70      0.59      0.64       258\n",
      "                  late_blight       0.69      0.38      0.49       316\n",
      "                    leaf_mold       0.70      0.44      0.54       145\n",
      "           septoria_leaf_spot       0.66      0.47      0.55       262\n",
      "                  target_spot       0.60      0.46      0.52       229\n",
      "          tomato_mosaic_virus       0.67      0.03      0.07        58\n",
      "tomato_yellow_leaf_curl_virus       0.52      0.89      0.65       857\n",
      "      two-spotted_spider_mite       0.69      0.61      0.64       251\n",
      "\n",
      "                     accuracy                           0.59      2907\n",
      "                    macro avg       0.63      0.45      0.48      2907\n",
      "                 weighted avg       0.61      0.59      0.56      2907\n",
      "\n",
      "[[204   0   8   9   0   3   0   0 123   2]\n",
      " [ 42  14   2   7   6   2  32   0  70   7]\n",
      " [  1   0 152   0   1   0   1   0 102   1]\n",
      " [ 15  14  18 120  10  36  12   1  81   9]\n",
      " [  1   0   5  12  64   4   1   0  56   2]\n",
      " [  5   0   5  14   5 123   9   0  92   9]\n",
      " [ 13   0   7   0   0   5 106   0  75  23]\n",
      " [  0   0   0   0   1   1   0   2  54   0]\n",
      " [ 34   1  13  11   4  10   1   0 767  16]\n",
      " [  7   0   7   0   0   1  16   0  68 152]]\n"
     ]
    }
   ],
   "source": [
    "#classification report\n",
    "y_predict = svm_poly.fit(Ftrain, Ltrain).predict(Ftest)\n",
    "class_names = target.unique()\n",
    "print(classification_report(Ltest, y_predict, target_names=class_names))\n",
    "print(confusion_matrix(Ltest, y_predict))"
   ]
  },
  {
   "cell_type": "markdown",
   "id": "b1c7cc1d",
   "metadata": {},
   "source": [
    "# SVM(RBF) on Red data"
   ]
  },
  {
   "cell_type": "code",
   "execution_count": 86,
   "id": "d98d25ad",
   "metadata": {},
   "outputs": [
    {
     "name": "stdout",
     "output_type": "stream",
     "text": [
      "0.7007223942208463\n"
     ]
    }
   ],
   "source": [
    "#building the model\n",
    "svm_rbf.fit(Ftrain,Ltrain)\n",
    "y_pred = svm_rbf.predict(Ftest)\n",
    "print(accuracy_score(Ltest,y_pred))"
   ]
  },
  {
   "cell_type": "code",
   "execution_count": 87,
   "id": "e25383e4",
   "metadata": {},
   "outputs": [
    {
     "name": "stdout",
     "output_type": "stream",
     "text": [
      "                               precision    recall  f1-score   support\n",
      "\n",
      "               bacterial_spot       0.72      0.75      0.74       349\n",
      "                 early_blight       0.57      0.23      0.33       182\n",
      "                      healthy       0.80      0.90      0.85       258\n",
      "                  late_blight       0.65      0.67      0.66       316\n",
      "                    leaf_mold       0.75      0.54      0.63       145\n",
      "           septoria_leaf_spot       0.60      0.54      0.57       262\n",
      "                  target_spot       0.65      0.61      0.63       229\n",
      "          tomato_mosaic_virus       0.54      0.12      0.20        58\n",
      "tomato_yellow_leaf_curl_virus       0.72      0.86      0.79       857\n",
      "      two-spotted_spider_mite       0.71      0.72      0.71       251\n",
      "\n",
      "                     accuracy                           0.70      2907\n",
      "                    macro avg       0.67      0.60      0.61      2907\n",
      "                 weighted avg       0.69      0.70      0.69      2907\n",
      "\n",
      "[[263   0  10   9   1   7   1   0  58   0]\n",
      " [ 25  42   3  19   6   4  20   0  55   8]\n",
      " [  2   0 232   4   2   4   7   0   7   0]\n",
      " [  4  11  13 212   4  24  11   2  30   5]\n",
      " [  2   2   4  26  79  11   1   0  19   1]\n",
      " [ 10   2  10  30   3 142  16   0  35  14]\n",
      " [  8  10   5   5   0  11 139   1  17  33]\n",
      " [  0   0   0   0   2   6   0   7  37   6]\n",
      " [ 44   4  13  20   8  19   1   0 741   7]\n",
      " [  8   3   0   1   0   8  18   3  30 180]]\n"
     ]
    }
   ],
   "source": [
    "#classification report\n",
    "y_predict = svm_rbf.fit(Ftrain, Ltrain).predict(Ftest)\n",
    "class_names = target.unique()\n",
    "print(classification_report(Ltest, y_predict, target_names=class_names))\n",
    "print(confusion_matrix(Ltest, y_predict))"
   ]
  },
  {
   "cell_type": "markdown",
   "id": "8232431f",
   "metadata": {},
   "source": [
    "# SVM(sigmoid) on Red data"
   ]
  },
  {
   "cell_type": "code",
   "execution_count": 88,
   "id": "2332bd9a",
   "metadata": {},
   "outputs": [
    {
     "name": "stdout",
     "output_type": "stream",
     "text": [
      "0.3457172342621259\n"
     ]
    }
   ],
   "source": [
    "#building the model\n",
    "svm_si.fit(Ftrain,Ltrain)\n",
    "y_pred = svm_si.predict(Ftest)\n",
    "print(accuracy_score(Ltest,y_pred))"
   ]
  },
  {
   "cell_type": "code",
   "execution_count": 89,
   "id": "ca6e2c45",
   "metadata": {},
   "outputs": [
    {
     "name": "stdout",
     "output_type": "stream",
     "text": [
      "                               precision    recall  f1-score   support\n",
      "\n",
      "               bacterial_spot       0.41      0.52      0.46       349\n",
      "                 early_blight       0.07      0.02      0.03       182\n",
      "                      healthy       0.44      0.25      0.32       258\n",
      "                  late_blight       0.19      0.29      0.23       316\n",
      "                    leaf_mold       0.58      0.12      0.20       145\n",
      "           septoria_leaf_spot       0.18      0.38      0.24       262\n",
      "                  target_spot       0.26      0.19      0.22       229\n",
      "          tomato_mosaic_virus       0.00      0.00      0.00        58\n",
      "tomato_yellow_leaf_curl_virus       0.53      0.51      0.52       857\n",
      "      two-spotted_spider_mite       0.36      0.25      0.30       251\n",
      "\n",
      "                     accuracy                           0.35      2907\n",
      "                    macro avg       0.30      0.25      0.25      2907\n",
      "                 weighted avg       0.37      0.35      0.34      2907\n",
      "\n",
      "[[182   7  11  49   0  11  15   0  73   1]\n",
      " [ 48   3   3  26   4  32  17   0  44   5]\n",
      " [ 28   0  65  94   0  29   5   0  36   1]\n",
      " [ 26   6  21  93   2  94  16   2  48   8]\n",
      " [ 24   2   4  30  18  41   3   0  19   4]\n",
      " [  4   4  13  50   2 100  39   0  33  17]\n",
      " [ 33   5   5   8   0  76  43   0  28  31]\n",
      " [  3   0   0   2   1   5   0   0  46   1]\n",
      " [ 85   8  23 149   4  96   7   3 437  45]\n",
      " [ 12   6   3   1   0  86  19   0  60  64]]\n"
     ]
    }
   ],
   "source": [
    "#classification report\n",
    "y_predict = svm_si.fit(Ftrain, Ltrain).predict(Ftest)\n",
    "class_names = target.unique()\n",
    "print(classification_report(Ltest, y_predict, target_names=class_names))\n",
    "print(confusion_matrix(Ltest, y_predict))"
   ]
  },
  {
   "cell_type": "markdown",
   "id": "a670c4d4",
   "metadata": {},
   "source": [
    "# Random forest on Red channel data"
   ]
  },
  {
   "cell_type": "code",
   "execution_count": 90,
   "id": "9e816e9e",
   "metadata": {},
   "outputs": [
    {
     "data": {
      "text/plain": [
       "0.4755677907777013"
      ]
     },
     "execution_count": 90,
     "metadata": {},
     "output_type": "execute_result"
    }
   ],
   "source": [
    "#building the model\n",
    "classifier_rf.fit(Ftrain, Ltrain)\n",
    "classifier_rf.oob_score_"
   ]
  },
  {
   "cell_type": "code",
   "execution_count": 91,
   "id": "2c17baee",
   "metadata": {},
   "outputs": [
    {
     "name": "stdout",
     "output_type": "stream",
     "text": [
      "                               precision    recall  f1-score   support\n",
      "\n",
      "               bacterial_spot       0.66      0.48      0.55       349\n",
      "                 early_blight       0.00      0.00      0.00       182\n",
      "                      healthy       0.65      0.36      0.46       258\n",
      "                  late_blight       0.65      0.19      0.29       316\n",
      "                    leaf_mold       0.80      0.08      0.15       145\n",
      "           septoria_leaf_spot       0.54      0.48      0.51       262\n",
      "                  target_spot       0.79      0.17      0.27       229\n",
      "          tomato_mosaic_virus       0.00      0.00      0.00        58\n",
      "tomato_yellow_leaf_curl_virus       0.41      0.90      0.56       857\n",
      "      two-spotted_spider_mite       0.54      0.51      0.52       251\n",
      "\n",
      "                     accuracy                           0.48      2907\n",
      "                    macro avg       0.50      0.32      0.33      2907\n",
      "                 weighted avg       0.53      0.48      0.42      2907\n",
      "\n",
      "[[166   0  13   5   0   1   0   0 161   3]\n",
      " [ 22   0   0   4   0  18   3   0 122  13]\n",
      " [  2   0  93   2   0   0   0   0 160   1]\n",
      " [  5   0  11  59   2  47   3   0 182   7]\n",
      " [  4   0   2  11  12   9   0   0 103   4]\n",
      " [  3   0   7   1   1 126   2   0 110  12]\n",
      " [  3   0   0   0   0  12  38   0 114  62]\n",
      " [  0   0   0   0   0   1   0   0  55   2]\n",
      " [ 42   0  17   9   0  13   0   0 771   5]\n",
      " [  5   0   0   0   0   5   2   0 112 127]]\n"
     ]
    },
    {
     "name": "stderr",
     "output_type": "stream",
     "text": [
      "C:\\Users\\ravic\\anaconda3\\lib\\site-packages\\sklearn\\metrics\\_classification.py:1248: UndefinedMetricWarning: Precision and F-score are ill-defined and being set to 0.0 in labels with no predicted samples. Use `zero_division` parameter to control this behavior.\n",
      "  _warn_prf(average, modifier, msg_start, len(result))\n",
      "C:\\Users\\ravic\\anaconda3\\lib\\site-packages\\sklearn\\metrics\\_classification.py:1248: UndefinedMetricWarning: Precision and F-score are ill-defined and being set to 0.0 in labels with no predicted samples. Use `zero_division` parameter to control this behavior.\n",
      "  _warn_prf(average, modifier, msg_start, len(result))\n",
      "C:\\Users\\ravic\\anaconda3\\lib\\site-packages\\sklearn\\metrics\\_classification.py:1248: UndefinedMetricWarning: Precision and F-score are ill-defined and being set to 0.0 in labels with no predicted samples. Use `zero_division` parameter to control this behavior.\n",
      "  _warn_prf(average, modifier, msg_start, len(result))\n"
     ]
    }
   ],
   "source": [
    "#classification report\n",
    "y_predict = classifier_rf.fit(Ftrain, Ltrain).predict(Ftest)\n",
    "class_names = target.unique()\n",
    "print(classification_report(Ltest, y_predict, target_names=class_names))\n",
    "print(confusion_matrix(Ltest, y_predict))"
   ]
  },
  {
   "cell_type": "markdown",
   "id": "e1c2d95a",
   "metadata": {},
   "source": [
    "# Gaussian Naive Bayes on Red channel data"
   ]
  },
  {
   "cell_type": "code",
   "execution_count": 92,
   "id": "8ec0753c",
   "metadata": {},
   "outputs": [
    {
     "data": {
      "text/plain": [
       "GaussianNB()"
      ]
     },
     "execution_count": 92,
     "metadata": {},
     "output_type": "execute_result"
    }
   ],
   "source": [
    "#building the model\n",
    "gnb.fit(Ftrain, Ltrain)"
   ]
  },
  {
   "cell_type": "code",
   "execution_count": 93,
   "id": "9bd3c55d",
   "metadata": {},
   "outputs": [
    {
     "data": {
      "text/plain": [
       "0.38390092879256965"
      ]
     },
     "execution_count": 93,
     "metadata": {},
     "output_type": "execute_result"
    }
   ],
   "source": [
    "#predicting the model\n",
    "y_pred = gnb.predict(Ftest)\n",
    "metrics.accuracy_score(Ltest, y_pred)"
   ]
  },
  {
   "cell_type": "code",
   "execution_count": 94,
   "id": "9ac4f5ac",
   "metadata": {},
   "outputs": [
    {
     "name": "stdout",
     "output_type": "stream",
     "text": [
      "                               precision    recall  f1-score   support\n",
      "\n",
      "               bacterial_spot       0.46      0.73      0.56       349\n",
      "                 early_blight       0.22      0.24      0.23       182\n",
      "                      healthy       0.35      0.72      0.47       258\n",
      "                  late_blight       0.45      0.24      0.32       316\n",
      "                    leaf_mold       0.38      0.31      0.34       145\n",
      "           septoria_leaf_spot       0.35      0.46      0.40       262\n",
      "                  target_spot       0.50      0.40      0.45       229\n",
      "          tomato_mosaic_virus       0.14      0.64      0.24        58\n",
      "tomato_yellow_leaf_curl_virus       0.64      0.15      0.24       857\n",
      "      two-spotted_spider_mite       0.39      0.54      0.46       251\n",
      "\n",
      "                     accuracy                           0.38      2907\n",
      "                    macro avg       0.39      0.44      0.37      2907\n",
      "                 weighted avg       0.46      0.38      0.36      2907\n",
      "\n",
      "[[254   8  53   6   2   7   3   9   6   1]\n",
      " [ 56  44   3  22   9  10  15   3   9  11]\n",
      " [  9   2 186   6   8   5  13   1  23   5]\n",
      " [  4  44  90  77  16  43   8  15  11   8]\n",
      " [ 16   3   6  12  45  33   4  12   7   7]\n",
      " [  4   9  39  12   6 120  15  19   5  33]\n",
      " [ 17  19   2   7   3  17  92   9   2  61]\n",
      " [ 10   0   1   0   2   1   0  37   5   2]\n",
      " [173  57 158  26  27  74  10 126 125  81]\n",
      " [ 13  17   0   3   0  31  23  25   3 136]]\n"
     ]
    }
   ],
   "source": [
    "#classification report\n",
    "class_names = target.unique()\n",
    "print(classification_report(Ltest, y_pred, target_names=class_names))\n",
    "print(confusion_matrix(Ltest, y_pred))"
   ]
  },
  {
   "cell_type": "markdown",
   "id": "0ac88b2d",
   "metadata": {},
   "source": [
    "# Bernouli Naive bayes on Red data"
   ]
  },
  {
   "cell_type": "code",
   "execution_count": 95,
   "id": "5979c201",
   "metadata": {},
   "outputs": [
    {
     "data": {
      "text/plain": [
       "0.3347093223254214"
      ]
     },
     "execution_count": 95,
     "metadata": {},
     "output_type": "execute_result"
    }
   ],
   "source": [
    "#fitting the model\n",
    "bnb.fit(Ftrain, Ltrain)\n",
    "y_pred = bnb.predict(Ftest)\n",
    "metrics.accuracy_score(Ltest, y_pred)"
   ]
  },
  {
   "cell_type": "code",
   "execution_count": 96,
   "id": "662273ea",
   "metadata": {},
   "outputs": [
    {
     "name": "stdout",
     "output_type": "stream",
     "text": [
      "                               precision    recall  f1-score   support\n",
      "\n",
      "               bacterial_spot       0.41      0.74      0.53       349\n",
      "                 early_blight       0.16      0.12      0.14       182\n",
      "                      healthy       0.29      0.60      0.39       258\n",
      "                  late_blight       0.21      0.10      0.14       316\n",
      "                    leaf_mold       0.35      0.16      0.22       145\n",
      "           septoria_leaf_spot       0.31      0.49      0.38       262\n",
      "                  target_spot       0.43      0.36      0.39       229\n",
      "          tomato_mosaic_virus       0.12      0.36      0.18        58\n",
      "tomato_yellow_leaf_curl_virus       0.59      0.15      0.24       857\n",
      "      two-spotted_spider_mite       0.32      0.50      0.39       251\n",
      "\n",
      "                     accuracy                           0.33      2907\n",
      "                    macro avg       0.32      0.36      0.30      2907\n",
      "                 weighted avg       0.39      0.33      0.30      2907\n",
      "\n",
      "[[259   8  51   6   1   9   1   3  10   1]\n",
      " [ 77  22   5   4   4  25  18   5  13   9]\n",
      " [ 15   2 155  22   3  36  15   4   4   2]\n",
      " [ 34  20 102  32  13  61  12  11  16  15]\n",
      " [ 28   1  12  13  23  29   4   5   6  24]\n",
      " [  2   8  39  10   3 128  22   9   8  33]\n",
      " [ 13  27   3   6   3  35  82   6   8  46]\n",
      " [  7   0   0   3   0   5   0  21  14   8]\n",
      " [186  36 170  51  14  51   8  92 126 123]\n",
      " [ 11  11   1   3   2  39  30  22   7 125]]\n"
     ]
    }
   ],
   "source": [
    "#classification report\n",
    "class_names = target.unique()\n",
    "print(classification_report(Ltest, y_pred, target_names=class_names))\n",
    "print(confusion_matrix(Ltest, y_pred))"
   ]
  },
  {
   "cell_type": "markdown",
   "id": "0a606422",
   "metadata": {},
   "source": [
    "# Decision Tree on Red channel"
   ]
  },
  {
   "cell_type": "code",
   "execution_count": 97,
   "id": "2b6fe1e7",
   "metadata": {},
   "outputs": [
    {
     "data": {
      "text/plain": [
       "0.43584451324389406"
      ]
     },
     "execution_count": 97,
     "metadata": {},
     "output_type": "execute_result"
    }
   ],
   "source": [
    "#building the model\n",
    "classifier_tree.fit(Ftrain, Ltrain)\n",
    "classifier_tree.score(Ftest,Ltest)"
   ]
  },
  {
   "cell_type": "code",
   "execution_count": 98,
   "id": "7c5134cd",
   "metadata": {},
   "outputs": [
    {
     "name": "stdout",
     "output_type": "stream",
     "text": [
      "                               precision    recall  f1-score   support\n",
      "\n",
      "               bacterial_spot       0.48      0.48      0.48       349\n",
      "                 early_blight       0.17      0.15      0.16       182\n",
      "                      healthy       0.56      0.55      0.56       258\n",
      "                  late_blight       0.39      0.34      0.36       316\n",
      "                    leaf_mold       0.26      0.26      0.26       145\n",
      "           septoria_leaf_spot       0.34      0.45      0.39       262\n",
      "                  target_spot       0.28      0.26      0.27       229\n",
      "          tomato_mosaic_virus       0.09      0.10      0.10        58\n",
      "tomato_yellow_leaf_curl_virus       0.56      0.55      0.56       857\n",
      "      two-spotted_spider_mite       0.41      0.41      0.41       251\n",
      "\n",
      "                     accuracy                           0.43      2907\n",
      "                    macro avg       0.35      0.36      0.35      2907\n",
      "                 weighted avg       0.43      0.43      0.43      2907\n",
      "\n",
      "[[168  20  10  16   6  25  16   2  78   8]\n",
      " [ 31  27   5   8  16  16  23   4  41  11]\n",
      " [ 18   6 143  10  15  11  10   9  27   9]\n",
      " [ 19  10  15 108  17  47  25   8  56  11]\n",
      " [  5  11   9  19  37  20   4   4  28   8]\n",
      " [ 14   8  15  23  10 117  18   4  32  21]\n",
      " [ 16  20   9  17   6  17  60   5  39  40]\n",
      " [  1   2   3   2   4   8   3   6  24   5]\n",
      " [ 72  43  36  67  28  56  24  23 472  36]\n",
      " [  6  14   9  10   6  24  30   3  46 103]]\n"
     ]
    }
   ],
   "source": [
    "#classification report\n",
    "y_predict = classifier_tree.fit(Ftrain, Ltrain).predict(Ftest)\n",
    "class_names = target.unique()\n",
    "print(classification_report(Ltest, y_predict, target_names=class_names))\n",
    "print(confusion_matrix(Ltest, y_predict))"
   ]
  },
  {
   "cell_type": "markdown",
   "id": "21af7568",
   "metadata": {},
   "source": [
    "# KNN on green channel data"
   ]
  },
  {
   "cell_type": "code",
   "execution_count": 99,
   "id": "461b784b",
   "metadata": {},
   "outputs": [
    {
     "data": {
      "text/plain": [
       "0.48297213622291024"
      ]
     },
     "execution_count": 99,
     "metadata": {},
     "output_type": "execute_result"
    }
   ],
   "source": [
    "#reading numpy array data\n",
    "green_test = np.load('green_data.npy')\n",
    "#reading csv file\n",
    "green_df = pd.read_csv('green_data.csv')\n",
    "#reading each array and appending to loaded\n",
    "loaded = []\n",
    "for i in green_test:\n",
    "    k = []\n",
    "    k = np.asarray(i,dtype='uint8')\n",
    "    loaded.append(k)\n",
    "#assigning the features and target\n",
    "features = loaded\n",
    "target = green_df['disease']\n",
    "#splitting the data to test and train\n",
    "Ftrain,Ftest,Ltrain,Ltest=train_test_split(features,target, test_size=0.20, random_state=20)\n",
    "#scaling the data\n",
    "Ftrain = scaler.fit_transform(Ftrain)\n",
    "Ftest = scaler.fit_transform(Ftest)\n",
    "#building the model\n",
    "kmodel.fit(Ftrain,Ltrain)\n",
    "kmodel.score(Ftest,Ltest)"
   ]
  },
  {
   "cell_type": "code",
   "execution_count": 100,
   "id": "5a26601b",
   "metadata": {},
   "outputs": [
    {
     "name": "stdout",
     "output_type": "stream",
     "text": [
      "                               precision    recall  f1-score   support\n",
      "\n",
      "               bacterial_spot       0.35      0.76      0.48       349\n",
      "                 early_blight       0.00      0.00      0.00       182\n",
      "                      healthy       0.38      0.57      0.46       258\n",
      "                  late_blight       0.35      0.30      0.32       316\n",
      "                    leaf_mold       0.62      0.44      0.52       145\n",
      "           septoria_leaf_spot       0.58      0.41      0.48       262\n",
      "                  target_spot       0.71      0.13      0.22       229\n",
      "          tomato_mosaic_virus       1.00      0.02      0.03        58\n",
      "tomato_yellow_leaf_curl_virus       0.61      0.68      0.64       857\n",
      "      two-spotted_spider_mite       0.56      0.43      0.49       251\n",
      "\n",
      "                     accuracy                           0.48      2907\n",
      "                    macro avg       0.52      0.37      0.36      2907\n",
      "                 weighted avg       0.50      0.48      0.45      2907\n",
      "\n",
      "[[266   0  26  22   5   1   0   0  29   0]\n",
      " [ 99   0   6   4   7   8   5   0  44   9]\n",
      " [ 52   0 146  34   1   5   0   0  19   1]\n",
      " [ 53   0  43  96   4  32   0   0  75  13]\n",
      " [ 13   0  13  19  64   3   1   0  28   4]\n",
      " [ 19   0  39  29   6 107   2   0  52   8]\n",
      " [101   0   7   8   2   9  30   0  40  32]\n",
      " [  8   0   7   3   5   3   0   1  25   6]\n",
      " [ 99   0  92  46   8  13   1   0 585  13]\n",
      " [ 55   0   4  14   1   4   3   0  61 109]]\n"
     ]
    },
    {
     "name": "stderr",
     "output_type": "stream",
     "text": [
      "C:\\Users\\ravic\\anaconda3\\lib\\site-packages\\sklearn\\metrics\\_classification.py:1248: UndefinedMetricWarning: Precision and F-score are ill-defined and being set to 0.0 in labels with no predicted samples. Use `zero_division` parameter to control this behavior.\n",
      "  _warn_prf(average, modifier, msg_start, len(result))\n",
      "C:\\Users\\ravic\\anaconda3\\lib\\site-packages\\sklearn\\metrics\\_classification.py:1248: UndefinedMetricWarning: Precision and F-score are ill-defined and being set to 0.0 in labels with no predicted samples. Use `zero_division` parameter to control this behavior.\n",
      "  _warn_prf(average, modifier, msg_start, len(result))\n",
      "C:\\Users\\ravic\\anaconda3\\lib\\site-packages\\sklearn\\metrics\\_classification.py:1248: UndefinedMetricWarning: Precision and F-score are ill-defined and being set to 0.0 in labels with no predicted samples. Use `zero_division` parameter to control this behavior.\n",
      "  _warn_prf(average, modifier, msg_start, len(result))\n"
     ]
    }
   ],
   "source": [
    "#classification report\n",
    "y_predict = kmodel.fit(Ftrain, Ltrain).predict(Ftest)\n",
    "class_names = target.unique()\n",
    "print(classification_report(Ltest, y_predict, target_names=class_names))\n",
    "print(confusion_matrix(Ltest, y_predict))"
   ]
  },
  {
   "cell_type": "markdown",
   "id": "71f3ea86",
   "metadata": {},
   "source": [
    "# Logistic on Green channel data"
   ]
  },
  {
   "cell_type": "code",
   "execution_count": 101,
   "id": "28dad6b2",
   "metadata": {},
   "outputs": [
    {
     "data": {
      "text/plain": [
       "0.4454764361885105"
      ]
     },
     "execution_count": 101,
     "metadata": {},
     "output_type": "execute_result"
    }
   ],
   "source": [
    "#building the model\n",
    "model.fit(Ftrain,Ltrain)\n",
    "model.score(Ftest,Ltest)"
   ]
  },
  {
   "cell_type": "code",
   "execution_count": 102,
   "id": "fb6982d8",
   "metadata": {},
   "outputs": [
    {
     "name": "stdout",
     "output_type": "stream",
     "text": [
      "                               precision    recall  f1-score   support\n",
      "\n",
      "               bacterial_spot       0.53      0.50      0.51       349\n",
      "                 early_blight       0.21      0.17      0.19       182\n",
      "                      healthy       0.39      0.36      0.38       258\n",
      "                  late_blight       0.34      0.31      0.33       316\n",
      "                    leaf_mold       0.36      0.32      0.34       145\n",
      "           septoria_leaf_spot       0.31      0.31      0.31       262\n",
      "                  target_spot       0.26      0.22      0.24       229\n",
      "          tomato_mosaic_virus       0.17      0.21      0.19        58\n",
      "tomato_yellow_leaf_curl_virus       0.61      0.69      0.65       857\n",
      "      two-spotted_spider_mite       0.40      0.45      0.43       251\n",
      "\n",
      "                     accuracy                           0.45      2907\n",
      "                    macro avg       0.36      0.35      0.36      2907\n",
      "                 weighted avg       0.43      0.45      0.44      2907\n",
      "\n",
      "[[173  19  12  25   4  19  14   0  66  17]\n",
      " [ 31  31   6  18   9  12  21   2  37  15]\n",
      " [ 15   6  94  32   8  16  22   1  48  16]\n",
      " [ 13  25  25  99  22  45  16  11  46  14]\n",
      " [  7   4   3  22  47  16   7   6  24   9]\n",
      " [  8  11  27  32  13  81  21   9  44  16]\n",
      " [ 26  19  26  13   6  14  51   4  36  34]\n",
      " [  2   1   3   6   1   3   1  12  25   4]\n",
      " [ 35  17  40  38  16  39  17  19 594  42]\n",
      " [ 14  13   7   6   5  16  24   5  48 113]]\n"
     ]
    }
   ],
   "source": [
    "#classification report\n",
    "y_predict = model.fit(Ftrain, Ltrain).predict(Ftest)\n",
    "class_names = target.unique()\n",
    "print(classification_report(Ltest, y_predict, target_names=class_names))\n",
    "print(confusion_matrix(Ltest, y_predict))"
   ]
  },
  {
   "cell_type": "markdown",
   "id": "f62f0223",
   "metadata": {},
   "source": [
    "# SVM(linear) on green channel data"
   ]
  },
  {
   "cell_type": "code",
   "execution_count": 103,
   "id": "e89e7297",
   "metadata": {},
   "outputs": [
    {
     "name": "stdout",
     "output_type": "stream",
     "text": [
      "0.4286205710354317\n"
     ]
    }
   ],
   "source": [
    "#building the model\n",
    "clf.fit(Ftrain,Ltrain)\n",
    "y_pred = clf.predict(Ftest)\n",
    "print(accuracy_score(Ltest,y_pred))"
   ]
  },
  {
   "cell_type": "code",
   "execution_count": 104,
   "id": "356165a0",
   "metadata": {},
   "outputs": [
    {
     "name": "stdout",
     "output_type": "stream",
     "text": [
      "                               precision    recall  f1-score   support\n",
      "\n",
      "               bacterial_spot       0.39      0.49      0.43       349\n",
      "                 early_blight       0.15      0.16      0.15       182\n",
      "                      healthy       0.46      0.46      0.46       258\n",
      "                  late_blight       0.33      0.32      0.32       316\n",
      "                    leaf_mold       0.31      0.32      0.31       145\n",
      "           septoria_leaf_spot       0.32      0.27      0.29       262\n",
      "                  target_spot       0.33      0.29      0.31       229\n",
      "          tomato_mosaic_virus       0.19      0.22      0.21        58\n",
      "tomato_yellow_leaf_curl_virus       0.63      0.61      0.62       857\n",
      "      two-spotted_spider_mite       0.46      0.42      0.44       251\n",
      "\n",
      "                     accuracy                           0.43      2907\n",
      "                    macro avg       0.36      0.36      0.36      2907\n",
      "                 weighted avg       0.43      0.43      0.43      2907\n",
      "\n",
      "[[170  34  11  25   6   9  14   1  63  16]\n",
      " [ 42  29   4  13  12   4  25   1  34  18]\n",
      " [ 28   9 119  30   7  18  13   1  25   8]\n",
      " [ 21  27  35 101  22  38  18  11  32  11]\n",
      " [  8  13   4  29  47  10   5   7  17   5]\n",
      " [ 30  15  19  33  13  71  20   6  43  12]\n",
      " [ 42  17  15  10   9  11  67   3  35  20]\n",
      " [  6   1   2   8   1   5   2  13  19   1]\n",
      " [ 65  33  42  51  26  43  19  22 523  33]\n",
      " [ 22  15   5  10  11  13  23   2  44 106]]\n"
     ]
    }
   ],
   "source": [
    "#classification report\n",
    "y_predict = clf.fit(Ftrain, Ltrain).predict(Ftest)\n",
    "class_names = target.unique()\n",
    "print(classification_report(Ltest, y_predict, target_names=class_names))\n",
    "print(confusion_matrix(Ltest, y_predict))"
   ]
  },
  {
   "cell_type": "markdown",
   "id": "d64ddbd0",
   "metadata": {},
   "source": [
    "# SVM(poly) on Green data"
   ]
  },
  {
   "cell_type": "code",
   "execution_count": 105,
   "id": "fe7747a4",
   "metadata": {},
   "outputs": [
    {
     "name": "stdout",
     "output_type": "stream",
     "text": [
      "0.5311317509459924\n"
     ]
    }
   ],
   "source": [
    "#building the model\n",
    "svm_poly.fit(Ftrain,Ltrain)\n",
    "y_pred = svm_poly.predict(Ftest)\n",
    "print(accuracy_score(Ltest,y_pred))"
   ]
  },
  {
   "cell_type": "code",
   "execution_count": 106,
   "id": "c2c08920",
   "metadata": {},
   "outputs": [
    {
     "name": "stdout",
     "output_type": "stream",
     "text": [
      "                               precision    recall  f1-score   support\n",
      "\n",
      "               bacterial_spot       0.56      0.54      0.55       349\n",
      "                 early_blight       0.50      0.14      0.22       182\n",
      "                      healthy       0.65      0.54      0.59       258\n",
      "                  late_blight       0.69      0.20      0.31       316\n",
      "                    leaf_mold       0.64      0.26      0.37       145\n",
      "           septoria_leaf_spot       0.61      0.39      0.48       262\n",
      "                  target_spot       0.61      0.32      0.42       229\n",
      "          tomato_mosaic_virus       0.00      0.00      0.00        58\n",
      "tomato_yellow_leaf_curl_virus       0.46      0.91      0.61       857\n",
      "      two-spotted_spider_mite       0.76      0.54      0.63       251\n",
      "\n",
      "                     accuracy                           0.53      2907\n",
      "                    macro avg       0.55      0.38      0.42      2907\n",
      "                 weighted avg       0.57      0.53      0.50      2907\n",
      "\n",
      "[[188   0   9   2   0   2   1   0 146   1]\n",
      " [ 44  25   2   9   4   6  15   0  67  10]\n",
      " [  2   0 139   0   1   0   2   0 113   1]\n",
      " [ 18  20  17  63   8  36   6   1 140   7]\n",
      " [  4   1   3   5  38   6   1   1  85   1]\n",
      " [  5   0   7   4   4 102  12   0 128   0]\n",
      " [ 26   1  16   0   1   4  74   0  91  16]\n",
      " [  0   0   0   0   1   1   0   0  56   0]\n",
      " [ 31   2  19   8   1   6   3   0 780   7]\n",
      " [ 15   1   3   0   1   3   7   0  86 135]]\n"
     ]
    }
   ],
   "source": [
    "#classification report\n",
    "y_predict = svm_poly.fit(Ftrain, Ltrain).predict(Ftest)\n",
    "class_names = target.unique()\n",
    "print(classification_report(Ltest, y_predict, target_names=class_names))\n",
    "print(confusion_matrix(Ltest, y_predict))"
   ]
  },
  {
   "cell_type": "markdown",
   "id": "c497379e",
   "metadata": {},
   "source": [
    "# SVM(RBF) on green data"
   ]
  },
  {
   "cell_type": "code",
   "execution_count": 107,
   "id": "684010e1",
   "metadata": {},
   "outputs": [
    {
     "name": "stdout",
     "output_type": "stream",
     "text": [
      "0.7103543171654627\n"
     ]
    }
   ],
   "source": [
    "#building the model\n",
    "svm_rbf.fit(Ftrain,Ltrain)\n",
    "y_pred = svm_rbf.predict(Ftest)\n",
    "print(accuracy_score(Ltest,y_pred))"
   ]
  },
  {
   "cell_type": "code",
   "execution_count": 108,
   "id": "b4566ab3",
   "metadata": {},
   "outputs": [
    {
     "name": "stdout",
     "output_type": "stream",
     "text": [
      "                               precision    recall  f1-score   support\n",
      "\n",
      "               bacterial_spot       0.75      0.76      0.76       349\n",
      "                 early_blight       0.54      0.25      0.34       182\n",
      "                      healthy       0.78      0.87      0.82       258\n",
      "                  late_blight       0.67      0.66      0.67       316\n",
      "                    leaf_mold       0.70      0.57      0.63       145\n",
      "           septoria_leaf_spot       0.64      0.60      0.62       262\n",
      "                  target_spot       0.66      0.60      0.63       229\n",
      "          tomato_mosaic_virus       0.82      0.16      0.26        58\n",
      "tomato_yellow_leaf_curl_virus       0.72      0.88      0.79       857\n",
      "      two-spotted_spider_mite       0.76      0.71      0.73       251\n",
      "\n",
      "                     accuracy                           0.71      2907\n",
      "                    macro avg       0.70      0.61      0.63      2907\n",
      "                 weighted avg       0.70      0.71      0.70      2907\n",
      "\n",
      "[[265   1   8   8   3  11   1   0  52   0]\n",
      " [ 21  46   4  17   8   5  18   0  51  12]\n",
      " [  1   1 225   5   2   6  10   1   7   0]\n",
      " [  4  15   9 210   3  24   9   0  38   4]\n",
      " [  1   1   4  24  82   7   4   0  21   1]\n",
      " [  7   5  17  23   4 157  10   1  36   2]\n",
      " [ 11   5   9   6   3   7 138   0  26  24]\n",
      " [  2   0   1   0   3   8   0   9  29   6]\n",
      " [ 34   5  10  18   7  15   5   0 755   8]\n",
      " [  5   6   2   4   2   4  14   0  36 178]]\n"
     ]
    }
   ],
   "source": [
    "#classification report\n",
    "y_predict = svm_rbf.fit(Ftrain, Ltrain).predict(Ftest)\n",
    "class_names = target.unique()\n",
    "print(classification_report(Ltest, y_predict, target_names=class_names))\n",
    "print(confusion_matrix(Ltest, y_predict))"
   ]
  },
  {
   "cell_type": "markdown",
   "id": "3c889845",
   "metadata": {},
   "source": [
    "# SVM(sigmoid) on green data"
   ]
  },
  {
   "cell_type": "code",
   "execution_count": 109,
   "id": "68762982",
   "metadata": {},
   "outputs": [
    {
     "name": "stdout",
     "output_type": "stream",
     "text": [
      "0.29239766081871343\n"
     ]
    }
   ],
   "source": [
    "#building the model\n",
    "svm_si.fit(Ftrain,Ltrain)\n",
    "y_pred = svm_si.predict(Ftest)\n",
    "print(accuracy_score(Ltest,y_pred))"
   ]
  },
  {
   "cell_type": "code",
   "execution_count": 110,
   "id": "84c31d85",
   "metadata": {},
   "outputs": [
    {
     "name": "stdout",
     "output_type": "stream",
     "text": [
      "                               precision    recall  f1-score   support\n",
      "\n",
      "               bacterial_spot       0.36      0.42      0.39       349\n",
      "                 early_blight       0.15      0.05      0.08       182\n",
      "                      healthy       0.33      0.39      0.36       258\n",
      "                  late_blight       0.16      0.24      0.19       316\n",
      "                    leaf_mold       0.52      0.08      0.13       145\n",
      "           septoria_leaf_spot       0.13      0.27      0.17       262\n",
      "                  target_spot       0.28      0.07      0.11       229\n",
      "          tomato_mosaic_virus       0.00      0.00      0.00        58\n",
      "tomato_yellow_leaf_curl_virus       0.44      0.44      0.44       857\n",
      "      two-spotted_spider_mite       0.25      0.17      0.20       251\n",
      "\n",
      "                     accuracy                           0.29      2907\n",
      "                    macro avg       0.26      0.21      0.21      2907\n",
      "                 weighted avg       0.31      0.29      0.28      2907\n",
      "\n",
      "[[148  10  30  67   0  24   1   0  43  26]\n",
      " [ 49  10   2  39   3  25   8   0  26  20]\n",
      " [ 23   0 100  21   0  37   2   0  72   3]\n",
      " [ 24   6  50  75   4  77   6   0  61  13]\n",
      " [ 10   5   6  36  11  28   1   0  45   3]\n",
      " [  5   6  38  48   1  71  12   0  74   7]\n",
      " [ 24   3  15  22   0  74  16   0  55  20]\n",
      " [  6   0   5  14   0   3   0   0  28   2]\n",
      " [ 88  21  53 119   1 155   7   0 376  37]\n",
      " [ 30   5   6  27   1  65   5   0  69  43]]\n"
     ]
    },
    {
     "name": "stderr",
     "output_type": "stream",
     "text": [
      "C:\\Users\\ravic\\anaconda3\\lib\\site-packages\\sklearn\\metrics\\_classification.py:1248: UndefinedMetricWarning: Precision and F-score are ill-defined and being set to 0.0 in labels with no predicted samples. Use `zero_division` parameter to control this behavior.\n",
      "  _warn_prf(average, modifier, msg_start, len(result))\n",
      "C:\\Users\\ravic\\anaconda3\\lib\\site-packages\\sklearn\\metrics\\_classification.py:1248: UndefinedMetricWarning: Precision and F-score are ill-defined and being set to 0.0 in labels with no predicted samples. Use `zero_division` parameter to control this behavior.\n",
      "  _warn_prf(average, modifier, msg_start, len(result))\n",
      "C:\\Users\\ravic\\anaconda3\\lib\\site-packages\\sklearn\\metrics\\_classification.py:1248: UndefinedMetricWarning: Precision and F-score are ill-defined and being set to 0.0 in labels with no predicted samples. Use `zero_division` parameter to control this behavior.\n",
      "  _warn_prf(average, modifier, msg_start, len(result))\n"
     ]
    }
   ],
   "source": [
    "#classification report\n",
    "y_predict = svm_si.fit(Ftrain, Ltrain).predict(Ftest)\n",
    "class_names = target.unique()\n",
    "print(classification_report(Ltest, y_predict, target_names=class_names))\n",
    "print(confusion_matrix(Ltest, y_predict))"
   ]
  },
  {
   "cell_type": "markdown",
   "id": "4f8e565e",
   "metadata": {},
   "source": [
    "# Random Forest on green channel data"
   ]
  },
  {
   "cell_type": "code",
   "execution_count": 111,
   "id": "96c92f8f",
   "metadata": {},
   "outputs": [
    {
     "data": {
      "text/plain": [
       "0.4253269098417068"
      ]
     },
     "execution_count": 111,
     "metadata": {},
     "output_type": "execute_result"
    }
   ],
   "source": [
    "#building the model\n",
    "classifier_rf.fit(Ftrain, Ltrain)\n",
    "classifier_rf.oob_score_"
   ]
  },
  {
   "cell_type": "code",
   "execution_count": 112,
   "id": "b158d3b7",
   "metadata": {},
   "outputs": [
    {
     "name": "stdout",
     "output_type": "stream",
     "text": [
      "                               precision    recall  f1-score   support\n",
      "\n",
      "               bacterial_spot       0.56      0.46      0.51       349\n",
      "                 early_blight       0.00      0.00      0.00       182\n",
      "                      healthy       0.61      0.42      0.50       258\n",
      "                  late_blight       0.69      0.24      0.36       316\n",
      "                    leaf_mold       0.00      0.00      0.00       145\n",
      "           septoria_leaf_spot       0.60      0.43      0.50       262\n",
      "                  target_spot       0.00      0.00      0.00       229\n",
      "          tomato_mosaic_virus       0.00      0.00      0.00        58\n",
      "tomato_yellow_leaf_curl_virus       0.37      0.91      0.53       857\n",
      "      two-spotted_spider_mite       0.64      0.06      0.12       251\n",
      "\n",
      "                     accuracy                           0.43      2907\n",
      "                    macro avg       0.35      0.25      0.25      2907\n",
      "                 weighted avg       0.42      0.43      0.35      2907\n",
      "\n",
      "[[161   0   8   5   0   2   0   0 173   0]\n",
      " [ 31   0   2   1   0  18   0   0 129   1]\n",
      " [  1   0 109  10   0   0   0   0 138   0]\n",
      " [ 13   0  20  76   0  31   0   0 176   0]\n",
      " [ 12   0   1   3   0   5   0   0 124   0]\n",
      " [  0   0  17   8   0 113   0   0 124   0]\n",
      " [  5   0   4   1   0   8   0   0 204   7]\n",
      " [  2   0   3   1   0   0   0   0  52   0]\n",
      " [ 43   0  15   5   0   9   0   0 784   1]\n",
      " [ 18   0   0   0   0   2   0   0 215  16]]\n"
     ]
    },
    {
     "name": "stderr",
     "output_type": "stream",
     "text": [
      "C:\\Users\\ravic\\anaconda3\\lib\\site-packages\\sklearn\\metrics\\_classification.py:1248: UndefinedMetricWarning: Precision and F-score are ill-defined and being set to 0.0 in labels with no predicted samples. Use `zero_division` parameter to control this behavior.\n",
      "  _warn_prf(average, modifier, msg_start, len(result))\n",
      "C:\\Users\\ravic\\anaconda3\\lib\\site-packages\\sklearn\\metrics\\_classification.py:1248: UndefinedMetricWarning: Precision and F-score are ill-defined and being set to 0.0 in labels with no predicted samples. Use `zero_division` parameter to control this behavior.\n",
      "  _warn_prf(average, modifier, msg_start, len(result))\n",
      "C:\\Users\\ravic\\anaconda3\\lib\\site-packages\\sklearn\\metrics\\_classification.py:1248: UndefinedMetricWarning: Precision and F-score are ill-defined and being set to 0.0 in labels with no predicted samples. Use `zero_division` parameter to control this behavior.\n",
      "  _warn_prf(average, modifier, msg_start, len(result))\n"
     ]
    }
   ],
   "source": [
    "#classification report\n",
    "y_predict = classifier_rf.fit(Ftrain, Ltrain).predict(Ftest)\n",
    "class_names = target.unique()\n",
    "print(classification_report(Ltest, y_predict, target_names=class_names))\n",
    "print(confusion_matrix(Ltest, y_predict))"
   ]
  },
  {
   "cell_type": "markdown",
   "id": "e9b1cca9",
   "metadata": {},
   "source": [
    "# Gaussian Naive bayes on Green channel data"
   ]
  },
  {
   "cell_type": "code",
   "execution_count": 113,
   "id": "1136802c",
   "metadata": {},
   "outputs": [
    {
     "data": {
      "text/plain": [
       "0.35053319573443414"
      ]
     },
     "execution_count": 113,
     "metadata": {},
     "output_type": "execute_result"
    }
   ],
   "source": [
    "#building the model\n",
    "gnb.fit(Ftrain, Ltrain)\n",
    "y_pred = gnb.predict(Ftest)\n",
    "metrics.accuracy_score(Ltest, y_pred)"
   ]
  },
  {
   "cell_type": "code",
   "execution_count": 114,
   "id": "cb4c448e",
   "metadata": {},
   "outputs": [
    {
     "name": "stdout",
     "output_type": "stream",
     "text": [
      "                               precision    recall  f1-score   support\n",
      "\n",
      "               bacterial_spot       0.40      0.72      0.51       349\n",
      "                 early_blight       0.26      0.35      0.29       182\n",
      "                      healthy       0.35      0.63      0.45       258\n",
      "                  late_blight       0.41      0.22      0.29       316\n",
      "                    leaf_mold       0.41      0.29      0.34       145\n",
      "           septoria_leaf_spot       0.30      0.49      0.37       262\n",
      "                  target_spot       0.49      0.33      0.40       229\n",
      "          tomato_mosaic_virus       0.12      0.52      0.19        58\n",
      "tomato_yellow_leaf_curl_virus       0.56      0.11      0.19       857\n",
      "      two-spotted_spider_mite       0.35      0.38      0.37       251\n",
      "\n",
      "                     accuracy                           0.35      2907\n",
      "                    macro avg       0.36      0.40      0.34      2907\n",
      "                 weighted avg       0.42      0.35      0.32      2907\n",
      "\n",
      "[[251   8  38   1   6  11   2  21   7   4]\n",
      " [ 55  63   3  21   9   7  10   2   2  10]\n",
      " [ 10   2 163   6   7   6  17   9  29   9]\n",
      " [ 13  57  85  71   4  36  10  19   7  14]\n",
      " [ 20   3   6  13  42  29   2  21   5   4]\n",
      " [  3   7  48   8   7 129  12  18   8  22]\n",
      " [ 29  17   3  12  10  24  76  12   5  41]\n",
      " [ 11   1   5   1   1   2   0  30   3   4]\n",
      " [218  62 109  36  11 155   9  91  98  68]\n",
      " [ 21  27   4   6   6  32  17  31  11  96]]\n"
     ]
    }
   ],
   "source": [
    "#classification report\n",
    "class_names = target.unique()\n",
    "print(classification_report(Ltest, y_pred, target_names=class_names))\n",
    "print(confusion_matrix(Ltest, y_pred))"
   ]
  },
  {
   "cell_type": "markdown",
   "id": "9fb12c0c",
   "metadata": {},
   "source": [
    "# Bernouli Naive bayes on green data"
   ]
  },
  {
   "cell_type": "code",
   "execution_count": 115,
   "id": "b1608412",
   "metadata": {},
   "outputs": [
    {
     "data": {
      "text/plain": [
       "0.2844857241142071"
      ]
     },
     "execution_count": 115,
     "metadata": {},
     "output_type": "execute_result"
    }
   ],
   "source": [
    "#building the model\n",
    "bnb.fit(Ftrain, Ltrain)\n",
    "y_pred = bnb.predict(Ftest)\n",
    "metrics.accuracy_score(Ltest, y_pred)"
   ]
  },
  {
   "cell_type": "code",
   "execution_count": 116,
   "id": "3540eeb4",
   "metadata": {},
   "outputs": [
    {
     "name": "stdout",
     "output_type": "stream",
     "text": [
      "                               precision    recall  f1-score   support\n",
      "\n",
      "               bacterial_spot       0.37      0.72      0.49       349\n",
      "                 early_blight       0.17      0.18      0.17       182\n",
      "                      healthy       0.27      0.52      0.36       258\n",
      "                  late_blight       0.25      0.13      0.17       316\n",
      "                    leaf_mold       0.50      0.22      0.31       145\n",
      "           septoria_leaf_spot       0.28      0.57      0.37       262\n",
      "                  target_spot       0.40      0.20      0.27       229\n",
      "          tomato_mosaic_virus       0.07      0.31      0.11        58\n",
      "tomato_yellow_leaf_curl_virus       0.30      0.04      0.07       857\n",
      "      two-spotted_spider_mite       0.32      0.35      0.33       251\n",
      "\n",
      "                     accuracy                           0.28      2907\n",
      "                    macro avg       0.29      0.32      0.27      2907\n",
      "                 weighted avg       0.30      0.28      0.24      2907\n",
      "\n",
      "[[252  16  31   6   1  25   2  11   5   0]\n",
      " [ 78  32   5   8   5  23   9   8   7   7]\n",
      " [  7   2 133  20   1  22  17  29  20   7]\n",
      " [ 46  21  88  41   9  58   3  14  15  21]\n",
      " [ 31   3   4   7  32  38   5  14   5   6]\n",
      " [  4   6  49   5   3 150  14  10   5  16]\n",
      " [ 19  24   4  23   3  41  46  25  11  33]\n",
      " [ 14   0   5   3   1   4   0  18   5   8]\n",
      " [202  57 157  40   7 154   3 115  36  86]\n",
      " [ 33  25   8  10   2  27  15  31  13  87]]\n"
     ]
    }
   ],
   "source": [
    "#classification report\n",
    "class_names = target.unique()\n",
    "print(classification_report(Ltest, y_pred, target_names=class_names))\n",
    "print(confusion_matrix(Ltest, y_pred))"
   ]
  },
  {
   "cell_type": "markdown",
   "id": "5e2c336a",
   "metadata": {},
   "source": [
    "# Decision Tree on Green channel"
   ]
  },
  {
   "cell_type": "code",
   "execution_count": 117,
   "id": "11e8600c",
   "metadata": {},
   "outputs": [
    {
     "data": {
      "text/plain": [
       "0.413140694874441"
      ]
     },
     "execution_count": 117,
     "metadata": {},
     "output_type": "execute_result"
    }
   ],
   "source": [
    "#building the model\n",
    "classifier_tree.fit(Ftrain, Ltrain)\n",
    "classifier_tree.score(Ftest,Ltest)"
   ]
  },
  {
   "cell_type": "code",
   "execution_count": 118,
   "id": "ef10f4f8",
   "metadata": {},
   "outputs": [
    {
     "name": "stdout",
     "output_type": "stream",
     "text": [
      "                               precision    recall  f1-score   support\n",
      "\n",
      "               bacterial_spot       0.41      0.44      0.43       349\n",
      "                 early_blight       0.13      0.13      0.13       182\n",
      "                      healthy       0.56      0.56      0.56       258\n",
      "                  late_blight       0.39      0.32      0.35       316\n",
      "                    leaf_mold       0.21      0.26      0.23       145\n",
      "           septoria_leaf_spot       0.36      0.43      0.39       262\n",
      "                  target_spot       0.26      0.25      0.26       229\n",
      "          tomato_mosaic_virus       0.12      0.10      0.11        58\n",
      "tomato_yellow_leaf_curl_virus       0.58      0.53      0.55       857\n",
      "      two-spotted_spider_mite       0.34      0.41      0.37       251\n",
      "\n",
      "                     accuracy                           0.41      2907\n",
      "                    macro avg       0.34      0.34      0.34      2907\n",
      "                 weighted avg       0.42      0.41      0.41      2907\n",
      "\n",
      "[[155  30  17  17  15  14  16   1  69  15]\n",
      " [ 29  23  10  13   8  11  18   2  46  22]\n",
      " [ 10   7 144  20  12  12  10   5  22  16]\n",
      " [ 23  19  12 100  21  48  19   9  46  19]\n",
      " [ 11  11   3   9  37  21   9   5  24  15]\n",
      " [ 18  13  17  21   6 112  17   1  44  13]\n",
      " [ 20  18  11  11  14  16  58   2  29  50]\n",
      " [  6   0   3   5   9   7   5   6  13   4]\n",
      " [ 91  37  29  56  44  55  30  17 451  47]\n",
      " [ 14  18  13   5   7  11  38   2  39 104]]\n"
     ]
    }
   ],
   "source": [
    "#classification report\n",
    "y_predict = classifier_tree.fit(Ftrain, Ltrain).predict(Ftest)\n",
    "class_names = target.unique()\n",
    "print(classification_report(Ltest, y_predict, target_names=class_names))\n",
    "print(confusion_matrix(Ltest, y_predict))"
   ]
  },
  {
   "cell_type": "markdown",
   "id": "75817642",
   "metadata": {},
   "source": [
    "# KNN on blue channel data"
   ]
  },
  {
   "cell_type": "code",
   "execution_count": 119,
   "id": "531e3624",
   "metadata": {},
   "outputs": [
    {
     "data": {
      "text/plain": [
       "0.4864121087031304"
      ]
     },
     "execution_count": 119,
     "metadata": {},
     "output_type": "execute_result"
    }
   ],
   "source": [
    "#reading numpy array data\n",
    "blue_test = np.load('blue_data.npy')\n",
    "#reading csv file\n",
    "blue_df = pd.read_csv('blue_data.csv')\n",
    "#loading the data to loaded array\n",
    "loaded = []\n",
    "for i in gray_test:\n",
    "    k = []\n",
    "    k = np.asarray(i,dtype='uint8')\n",
    "    loaded.append(k)\n",
    "#assigning features and target\n",
    "features = loaded\n",
    "target = blue_df['disease']\n",
    "#splitting the data\n",
    "Ftrain,Ftest,Ltrain,Ltest=train_test_split(features,target, test_size=0.20, random_state=20)\n",
    "#scaling the data\n",
    "Ftrain = scaler.fit_transform(Ftrain)\n",
    "Ftest = scaler.fit_transform(Ftest)\n",
    "#fitting the model\n",
    "kmodel.fit(Ftrain,Ltrain)\n",
    "kmodel.score(Ftest,Ltest)"
   ]
  },
  {
   "cell_type": "code",
   "execution_count": 120,
   "id": "db90e093",
   "metadata": {},
   "outputs": [
    {
     "name": "stdout",
     "output_type": "stream",
     "text": [
      "                               precision    recall  f1-score   support\n",
      "\n",
      "               bacterial_spot       0.38      0.77      0.50       349\n",
      "                 early_blight       0.00      0.00      0.00       182\n",
      "                      healthy       0.38      0.60      0.46       258\n",
      "                  late_blight       0.37      0.29      0.32       316\n",
      "                    leaf_mold       0.74      0.46      0.56       145\n",
      "           septoria_leaf_spot       0.56      0.39      0.46       262\n",
      "                  target_spot       0.70      0.17      0.27       229\n",
      "          tomato_mosaic_virus       1.00      0.03      0.07        58\n",
      "tomato_yellow_leaf_curl_virus       0.57      0.66      0.61       857\n",
      "      two-spotted_spider_mite       0.58      0.49      0.53       251\n",
      "\n",
      "                     accuracy                           0.49      2907\n",
      "                    macro avg       0.53      0.39      0.38      2907\n",
      "                 weighted avg       0.50      0.49      0.46      2907\n",
      "\n",
      "[[269   0  29  18   1   1   0   0  31   0]\n",
      " [ 94   0   6   2   5  12   9   0  49   5]\n",
      " [ 25   0 156  28   0   9   0   0  39   1]\n",
      " [ 47   0  53  91   5  36   1   0  74   9]\n",
      " [ 13   0  12  19  66   2   1   0  29   3]\n",
      " [ 19   0  38  20   3 101   0   0  67  14]\n",
      " [ 87   0  10   5   0  10  38   0  47  32]\n",
      " [  2   0   6   3   3   0   0   2  36   6]\n",
      " [110   0 101  50   5   5   0   0 569  17]\n",
      " [ 51   0   4   8   1   4   5   0  56 122]]\n"
     ]
    },
    {
     "name": "stderr",
     "output_type": "stream",
     "text": [
      "C:\\Users\\ravic\\anaconda3\\lib\\site-packages\\sklearn\\metrics\\_classification.py:1248: UndefinedMetricWarning: Precision and F-score are ill-defined and being set to 0.0 in labels with no predicted samples. Use `zero_division` parameter to control this behavior.\n",
      "  _warn_prf(average, modifier, msg_start, len(result))\n",
      "C:\\Users\\ravic\\anaconda3\\lib\\site-packages\\sklearn\\metrics\\_classification.py:1248: UndefinedMetricWarning: Precision and F-score are ill-defined and being set to 0.0 in labels with no predicted samples. Use `zero_division` parameter to control this behavior.\n",
      "  _warn_prf(average, modifier, msg_start, len(result))\n",
      "C:\\Users\\ravic\\anaconda3\\lib\\site-packages\\sklearn\\metrics\\_classification.py:1248: UndefinedMetricWarning: Precision and F-score are ill-defined and being set to 0.0 in labels with no predicted samples. Use `zero_division` parameter to control this behavior.\n",
      "  _warn_prf(average, modifier, msg_start, len(result))\n"
     ]
    }
   ],
   "source": [
    "#classification report\n",
    "y_predict = kmodel.fit(Ftrain, Ltrain).predict(Ftest)\n",
    "class_names = target.unique()\n",
    "print(classification_report(Ltest, y_predict, target_names=class_names))\n",
    "print(confusion_matrix(Ltest, y_predict))"
   ]
  },
  {
   "cell_type": "markdown",
   "id": "f452a113",
   "metadata": {},
   "source": [
    "# logistic on blue channel data"
   ]
  },
  {
   "cell_type": "code",
   "execution_count": 121,
   "id": "de158586",
   "metadata": {},
   "outputs": [
    {
     "data": {
      "text/plain": [
       "0.4368765049879601"
      ]
     },
     "execution_count": 121,
     "metadata": {},
     "output_type": "execute_result"
    }
   ],
   "source": [
    "#building a model\n",
    "model.fit(Ftrain,Ltrain)\n",
    "model.score(Ftest,Ltest)"
   ]
  },
  {
   "cell_type": "code",
   "execution_count": 122,
   "id": "43a10821",
   "metadata": {},
   "outputs": [
    {
     "name": "stdout",
     "output_type": "stream",
     "text": [
      "                               precision    recall  f1-score   support\n",
      "\n",
      "               bacterial_spot       0.56      0.50      0.53       349\n",
      "                 early_blight       0.21      0.15      0.18       182\n",
      "                      healthy       0.35      0.30      0.32       258\n",
      "                  late_blight       0.31      0.31      0.31       316\n",
      "                    leaf_mold       0.41      0.39      0.40       145\n",
      "           septoria_leaf_spot       0.34      0.35      0.34       262\n",
      "                  target_spot       0.27      0.23      0.25       229\n",
      "          tomato_mosaic_virus       0.15      0.19      0.17        58\n",
      "tomato_yellow_leaf_curl_virus       0.58      0.66      0.62       857\n",
      "      two-spotted_spider_mite       0.42      0.45      0.43       251\n",
      "\n",
      "                     accuracy                           0.44      2907\n",
      "                    macro avg       0.36      0.35      0.36      2907\n",
      "                 weighted avg       0.43      0.44      0.43      2907\n",
      "\n",
      "[[175  18  14  25   3  15  12   0  76  11]\n",
      " [ 26  28  11  15  13  13  22   0  47   7]\n",
      " [ 14   5  78  50   6  22  22   0  45  16]\n",
      " [ 10  19  27  97  20  46  22  13  51  11]\n",
      " [  3   4   3  21  57  10   4   5  29   9]\n",
      " [  8  10  19  32  10  91  21   8  45  18]\n",
      " [ 27  14  24  10   7  18  53   5  33  38]\n",
      " [  1   1   0   4   0   3   1  11  34   3]\n",
      " [ 36  21  43  53  20  32  18  21 567  46]\n",
      " [ 13  12   6   5   3  18  22   8  51 113]]\n"
     ]
    }
   ],
   "source": [
    "#classification report\n",
    "y_predict = model.fit(Ftrain, Ltrain).predict(Ftest)\n",
    "class_names = target.unique()\n",
    "print(classification_report(Ltest, y_predict, target_names=class_names))\n",
    "print(confusion_matrix(Ltest, y_predict))"
   ]
  },
  {
   "cell_type": "markdown",
   "id": "c7585c1d",
   "metadata": {},
   "source": [
    "# SVM(linear) on blue channel data"
   ]
  },
  {
   "cell_type": "code",
   "execution_count": 123,
   "id": "06fb4a0f",
   "metadata": {},
   "outputs": [
    {
     "name": "stdout",
     "output_type": "stream",
     "text": [
      "0.42346061231510146\n"
     ]
    }
   ],
   "source": [
    "#fitting the model\n",
    "clf.fit(Ftrain,Ltrain)\n",
    "#predicting the model\n",
    "y_pred = clf.predict(Ftest)\n",
    "print(accuracy_score(Ltest,y_pred))"
   ]
  },
  {
   "cell_type": "code",
   "execution_count": 124,
   "id": "31601cac",
   "metadata": {},
   "outputs": [
    {
     "name": "stdout",
     "output_type": "stream",
     "text": [
      "                               precision    recall  f1-score   support\n",
      "\n",
      "               bacterial_spot       0.41      0.53      0.46       349\n",
      "                 early_blight       0.14      0.14      0.14       182\n",
      "                      healthy       0.43      0.43      0.43       258\n",
      "                  late_blight       0.29      0.29      0.29       316\n",
      "                    leaf_mold       0.34      0.35      0.35       145\n",
      "           septoria_leaf_spot       0.32      0.30      0.31       262\n",
      "                  target_spot       0.31      0.26      0.28       229\n",
      "          tomato_mosaic_virus       0.25      0.29      0.27        58\n",
      "tomato_yellow_leaf_curl_virus       0.61      0.59      0.60       857\n",
      "      two-spotted_spider_mite       0.49      0.43      0.46       251\n",
      "\n",
      "                     accuracy                           0.42      2907\n",
      "                    macro avg       0.36      0.36      0.36      2907\n",
      "                 weighted avg       0.42      0.42      0.42      2907\n",
      "\n",
      "[[185  30  11  27   3  13   5   0  67   8]\n",
      " [ 40  25   4  13  10   9  21   1  47  12]\n",
      " [ 39   8 111  37   5  16   9   0  29   4]\n",
      " [ 20  30  42  91  17  48  17   7  33  11]\n",
      " [  7   9   4  31  51  11   4   6  17   5]\n",
      " [ 23  14  21  33  15  78  28   5  36   9]\n",
      " [ 48  17  17   9  10   9  59   5  30  25]\n",
      " [  2   0   0   5   0   5   0  17  27   2]\n",
      " [ 67  34  45  61  28  38  20  23 507  34]\n",
      " [ 20  17   6   3  10  17  25   3  43 107]]\n"
     ]
    }
   ],
   "source": [
    "#classification report\n",
    "y_predict = clf.fit(Ftrain, Ltrain).predict(Ftest)\n",
    "class_names = target.unique()\n",
    "print(classification_report(Ltest, y_predict, target_names=class_names))\n",
    "print(confusion_matrix(Ltest, y_predict))"
   ]
  },
  {
   "cell_type": "markdown",
   "id": "20ada4d3",
   "metadata": {},
   "source": [
    "# SVM(poly) on blue data"
   ]
  },
  {
   "cell_type": "code",
   "execution_count": 125,
   "id": "29dc3434",
   "metadata": {},
   "outputs": [
    {
     "name": "stdout",
     "output_type": "stream",
     "text": [
      "0.5503955968352253\n"
     ]
    }
   ],
   "source": [
    "#fitting the model\n",
    "svm_poly.fit(Ftrain,Ltrain)\n",
    "y_pred = svm_poly.predict(Ftest)\n",
    "print(accuracy_score(Ltest,y_pred))"
   ]
  },
  {
   "cell_type": "code",
   "execution_count": 126,
   "id": "07a066f4",
   "metadata": {},
   "outputs": [
    {
     "name": "stdout",
     "output_type": "stream",
     "text": [
      "                               precision    recall  f1-score   support\n",
      "\n",
      "               bacterial_spot       0.57      0.56      0.56       349\n",
      "                 early_blight       0.49      0.12      0.19       182\n",
      "                      healthy       0.67      0.57      0.61       258\n",
      "                  late_blight       0.70      0.28      0.40       316\n",
      "                    leaf_mold       0.69      0.34      0.45       145\n",
      "           septoria_leaf_spot       0.63      0.42      0.50       262\n",
      "                  target_spot       0.56      0.36      0.44       229\n",
      "          tomato_mosaic_virus       0.00      0.00      0.00        58\n",
      "tomato_yellow_leaf_curl_virus       0.48      0.90      0.63       857\n",
      "      two-spotted_spider_mite       0.74      0.56      0.63       251\n",
      "\n",
      "                     accuracy                           0.55      2907\n",
      "                    macro avg       0.55      0.41      0.44      2907\n",
      "                 weighted avg       0.58      0.55      0.52      2907\n",
      "\n",
      "[[194   0   8   4   0   0   1   0 141   1]\n",
      " [ 42  21   3   7   6   7  22   0  65   9]\n",
      " [  2   0 146   1   0   2   2   0 104   1]\n",
      " [ 17  16  23  88  10  35  11   2 109   5]\n",
      " [  2   1   3   5  49   5   1   2  76   1]\n",
      " [  6   0   7  10   4 110  13   0 109   3]\n",
      " [ 21   2  11   0   0   4  82   0  88  21]\n",
      " [  0   0   0   0   1   1   0   0  56   0]\n",
      " [ 41   2  13  10   1   7   3   1 770   9]\n",
      " [ 14   1   4   0   0   3  12   0  77 140]]\n"
     ]
    }
   ],
   "source": [
    "#classification report\n",
    "y_predict = svm_poly.fit(Ftrain, Ltrain).predict(Ftest)\n",
    "class_names = target.unique()\n",
    "print(classification_report(Ltest, y_predict, target_names=class_names))\n",
    "print(confusion_matrix(Ltest, y_predict))"
   ]
  },
  {
   "cell_type": "markdown",
   "id": "f7c80dbc",
   "metadata": {},
   "source": [
    "# SVM(RBF) on blue data"
   ]
  },
  {
   "cell_type": "code",
   "execution_count": 127,
   "id": "4a39785b",
   "metadata": {},
   "outputs": [
    {
     "name": "stdout",
     "output_type": "stream",
     "text": [
      "0.7010663914688683\n"
     ]
    }
   ],
   "source": [
    "#building the model\n",
    "svm_rbf.fit(Ftrain,Ltrain)\n",
    "y_pred = svm_rbf.predict(Ftest)\n",
    "print(accuracy_score(Ltest,y_pred))"
   ]
  },
  {
   "cell_type": "code",
   "execution_count": 128,
   "id": "8c5ad3ff",
   "metadata": {},
   "outputs": [
    {
     "name": "stdout",
     "output_type": "stream",
     "text": [
      "                               precision    recall  f1-score   support\n",
      "\n",
      "               bacterial_spot       0.74      0.76      0.75       349\n",
      "                 early_blight       0.53      0.22      0.31       182\n",
      "                      healthy       0.79      0.88      0.83       258\n",
      "                  late_blight       0.66      0.66      0.66       316\n",
      "                    leaf_mold       0.79      0.54      0.64       145\n",
      "           septoria_leaf_spot       0.64      0.58      0.61       262\n",
      "                  target_spot       0.67      0.62      0.64       229\n",
      "          tomato_mosaic_virus       0.78      0.12      0.21        58\n",
      "tomato_yellow_leaf_curl_virus       0.70      0.87      0.77       857\n",
      "      two-spotted_spider_mite       0.72      0.70      0.71       251\n",
      "\n",
      "                     accuracy                           0.70      2907\n",
      "                    macro avg       0.70      0.59      0.61      2907\n",
      "                 weighted avg       0.70      0.70      0.69      2907\n",
      "\n",
      "[[264   2   8   9   0   6   1   0  59   0]\n",
      " [ 22  40   3  20   6   6  16   0  59  10]\n",
      " [  0   1 227   4   1   5  11   0   8   1]\n",
      " [  5  13  14 210   2  21   8   0  38   5]\n",
      " [  2   2   3  25  78   9   4   0  21   1]\n",
      " [  8   2  14  27   4 152  13   0  38   4]\n",
      " [ 11   5   5   4   1  10 142   1  22  28]\n",
      " [  0   0   0   0   1   6   0   7  38   6]\n",
      " [ 39   5  13  20   4  18   2   0 742  14]\n",
      " [  4   5   2   1   2   5  15   1  40 176]]\n"
     ]
    }
   ],
   "source": [
    "#classification report\n",
    "y_predict = svm_rbf.fit(Ftrain, Ltrain).predict(Ftest)\n",
    "class_names = target.unique()\n",
    "print(classification_report(Ltest, y_predict, target_names=class_names))\n",
    "print(confusion_matrix(Ltest, y_predict))"
   ]
  },
  {
   "cell_type": "markdown",
   "id": "9f324aba",
   "metadata": {},
   "source": [
    "# SVM(sigmoid) on blue data"
   ]
  },
  {
   "cell_type": "code",
   "execution_count": 129,
   "id": "ab91bceb",
   "metadata": {},
   "outputs": [
    {
     "name": "stdout",
     "output_type": "stream",
     "text": [
      "0.30787753697970416\n"
     ]
    }
   ],
   "source": [
    "#building the model\n",
    "svm_si.fit(Ftrain,Ltrain)\n",
    "y_pred = svm_si.predict(Ftest)\n",
    "print(accuracy_score(Ltest,y_pred))"
   ]
  },
  {
   "cell_type": "code",
   "execution_count": 130,
   "id": "a683edec",
   "metadata": {},
   "outputs": [
    {
     "name": "stdout",
     "output_type": "stream",
     "text": [
      "                               precision    recall  f1-score   support\n",
      "\n",
      "               bacterial_spot       0.41      0.45      0.43       349\n",
      "                 early_blight       0.19      0.05      0.09       182\n",
      "                      healthy       0.40      0.19      0.26       258\n",
      "                  late_blight       0.17      0.32      0.22       316\n",
      "                    leaf_mold       0.59      0.12      0.20       145\n",
      "           septoria_leaf_spot       0.16      0.40      0.23       262\n",
      "                  target_spot       0.25      0.09      0.13       229\n",
      "          tomato_mosaic_virus       0.00      0.00      0.00        58\n",
      "tomato_yellow_leaf_curl_virus       0.50      0.43      0.46       857\n",
      "      two-spotted_spider_mite       0.27      0.26      0.26       251\n",
      "\n",
      "                     accuracy                           0.31      2907\n",
      "                    macro avg       0.29      0.23      0.23      2907\n",
      "                 weighted avg       0.35      0.31      0.30      2907\n",
      "\n",
      "[[157   7   9  83   0  21   2   0  45  25]\n",
      " [ 51  10   2  29   1  29  10   0  29  21]\n",
      " [ 17   0  49  90   0  47   4   0  44   7]\n",
      " [ 18   6  15 100   4  91  11   0  53  18]\n",
      " [ 10   3   4  37  17  40   3   0  27   4]\n",
      " [  4   3   7  68   2 106  17   0  43  12]\n",
      " [ 26   5   9  18   0  85  21   0  38  27]\n",
      " [  3   0   1   8   1   6   0   0  36   3]\n",
      " [ 79  16  21 151   1 149   7   1 370  62]\n",
      " [ 21   3   6   7   3  81   9   0  56  65]]\n"
     ]
    }
   ],
   "source": [
    "#classification report\n",
    "y_predict = svm_si.fit(Ftrain, Ltrain).predict(Ftest)\n",
    "class_names = target.unique()\n",
    "print(classification_report(Ltest, y_predict, target_names=class_names))\n",
    "print(confusion_matrix(Ltest, y_predict))"
   ]
  },
  {
   "cell_type": "markdown",
   "id": "f4eb8c6c",
   "metadata": {},
   "source": [
    "# Random Forest on blue channel data"
   ]
  },
  {
   "cell_type": "code",
   "execution_count": 131,
   "id": "b71407b2",
   "metadata": {},
   "outputs": [
    {
     "data": {
      "text/plain": [
       "0.438575361321404"
      ]
     },
     "execution_count": 131,
     "metadata": {},
     "output_type": "execute_result"
    }
   ],
   "source": [
    "#building the model\n",
    "classifier_rf.fit(Ftrain, Ltrain)\n",
    "classifier_rf.oob_score_"
   ]
  },
  {
   "cell_type": "code",
   "execution_count": 132,
   "id": "f3cf2295",
   "metadata": {},
   "outputs": [
    {
     "name": "stdout",
     "output_type": "stream",
     "text": [
      "                               precision    recall  f1-score   support\n",
      "\n",
      "               bacterial_spot       0.63      0.46      0.53       349\n",
      "                 early_blight       0.00      0.00      0.00       182\n",
      "                      healthy       0.62      0.34      0.44       258\n",
      "                  late_blight       0.83      0.18      0.30       316\n",
      "                    leaf_mold       0.57      0.03      0.05       145\n",
      "           septoria_leaf_spot       0.58      0.47      0.52       262\n",
      "                  target_spot       0.85      0.07      0.14       229\n",
      "          tomato_mosaic_virus       0.00      0.00      0.00        58\n",
      "tomato_yellow_leaf_curl_virus       0.38      0.93      0.54       857\n",
      "      two-spotted_spider_mite       0.61      0.25      0.35       251\n",
      "\n",
      "                     accuracy                           0.45      2907\n",
      "                    macro avg       0.51      0.27      0.29      2907\n",
      "                 weighted avg       0.53      0.45      0.38      2907\n",
      "\n",
      "[[159   0   9   3   0   1   0   0 177   0]\n",
      " [ 29   0   1   1   0  17   1   0 131   2]\n",
      " [  2   0  89   4   0   0   0   0 162   1]\n",
      " [  7   0  16  58   2  36   1   0 193   3]\n",
      " [  3   0   0   0   4   7   1   0 127   3]\n",
      " [  2   0  18   2   1 122   0   0 114   3]\n",
      " [  4   0   0   0   0  12  17   0 169  27]\n",
      " [  1   0   0   0   0   1   0   0  56   0]\n",
      " [ 38   0  10   2   0  11   0   0 796   0]\n",
      " [  9   0   0   0   0   2   0   0 178  62]]\n"
     ]
    },
    {
     "name": "stderr",
     "output_type": "stream",
     "text": [
      "C:\\Users\\ravic\\anaconda3\\lib\\site-packages\\sklearn\\metrics\\_classification.py:1248: UndefinedMetricWarning: Precision and F-score are ill-defined and being set to 0.0 in labels with no predicted samples. Use `zero_division` parameter to control this behavior.\n",
      "  _warn_prf(average, modifier, msg_start, len(result))\n",
      "C:\\Users\\ravic\\anaconda3\\lib\\site-packages\\sklearn\\metrics\\_classification.py:1248: UndefinedMetricWarning: Precision and F-score are ill-defined and being set to 0.0 in labels with no predicted samples. Use `zero_division` parameter to control this behavior.\n",
      "  _warn_prf(average, modifier, msg_start, len(result))\n",
      "C:\\Users\\ravic\\anaconda3\\lib\\site-packages\\sklearn\\metrics\\_classification.py:1248: UndefinedMetricWarning: Precision and F-score are ill-defined and being set to 0.0 in labels with no predicted samples. Use `zero_division` parameter to control this behavior.\n",
      "  _warn_prf(average, modifier, msg_start, len(result))\n"
     ]
    }
   ],
   "source": [
    "#classification report\n",
    "y_predict = classifier_rf.fit(Ftrain, Ltrain).predict(Ftest)\n",
    "class_names = target.unique()\n",
    "print(classification_report(Ltest, y_predict, target_names=class_names))\n",
    "print(confusion_matrix(Ltest, y_predict))"
   ]
  },
  {
   "cell_type": "markdown",
   "id": "fb1ca20e",
   "metadata": {},
   "source": [
    "# Gaussian Naive bayes on blue channel data"
   ]
  },
  {
   "cell_type": "code",
   "execution_count": 133,
   "id": "11ea0b85",
   "metadata": {},
   "outputs": [
    {
     "data": {
      "text/plain": [
       "0.3667010663914689"
      ]
     },
     "execution_count": 133,
     "metadata": {},
     "output_type": "execute_result"
    }
   ],
   "source": [
    "#building model\n",
    "gnb.fit(Ftrain, Ltrain)\n",
    "y_pred = gnb.predict(Ftest)\n",
    "metrics.accuracy_score(Ltest, y_pred)"
   ]
  },
  {
   "cell_type": "code",
   "execution_count": 134,
   "id": "0743881e",
   "metadata": {},
   "outputs": [
    {
     "name": "stdout",
     "output_type": "stream",
     "text": [
      "                               precision    recall  f1-score   support\n",
      "\n",
      "               bacterial_spot       0.42      0.73      0.53       349\n",
      "                 early_blight       0.25      0.31      0.28       182\n",
      "                      healthy       0.32      0.66      0.43       258\n",
      "                  late_blight       0.41      0.23      0.29       316\n",
      "                    leaf_mold       0.45      0.31      0.37       145\n",
      "           septoria_leaf_spot       0.36      0.50      0.42       262\n",
      "                  target_spot       0.51      0.34      0.41       229\n",
      "          tomato_mosaic_virus       0.13      0.60      0.22        58\n",
      "tomato_yellow_leaf_curl_virus       0.61      0.14      0.23       857\n",
      "      two-spotted_spider_mite       0.36      0.42      0.39       251\n",
      "\n",
      "                     accuracy                           0.37      2907\n",
      "                    macro avg       0.38      0.42      0.36      2907\n",
      "                 weighted avg       0.45      0.37      0.34      2907\n",
      "\n",
      "[[254   9  45   2   3   8   3  14   8   3]\n",
      " [ 54  57   3  23   7   8   9   4   6  11]\n",
      " [ 10   2 169   7   9   4  14   6  27  10]\n",
      " [  8  54  98  72   9  36   6  13   9  11]\n",
      " [ 21   3   6  11  45  27   4  16   8   4]\n",
      " [  3   7  50   9   6 131  12  16   4  24]\n",
      " [ 25  19   1  11   6  25  77  13   4  48]\n",
      " [ 12   0   3   0   1   2   0  35   3   2]\n",
      " [204  57 143  34  10  91   8 114 121  75]\n",
      " [ 18  23   3   5   3  35  18  32   9 105]]\n"
     ]
    }
   ],
   "source": [
    "#classification report\n",
    "class_names = target.unique()\n",
    "print(classification_report(Ltest, y_pred, target_names=class_names))\n",
    "print(confusion_matrix(Ltest, y_pred))"
   ]
  },
  {
   "cell_type": "markdown",
   "id": "2ef4dbb7",
   "metadata": {},
   "source": [
    "# Bernouli Naive bayes on blue data"
   ]
  },
  {
   "cell_type": "code",
   "execution_count": 135,
   "id": "8b5c24cc",
   "metadata": {},
   "outputs": [
    {
     "data": {
      "text/plain": [
       "0.3202614379084967"
      ]
     },
     "execution_count": 135,
     "metadata": {},
     "output_type": "execute_result"
    }
   ],
   "source": [
    "#building the model\n",
    "bnb.fit(Ftrain, Ltrain)\n",
    "y_pred = bnb.predict(Ftest)\n",
    "metrics.accuracy_score(Ltest, y_pred)"
   ]
  },
  {
   "cell_type": "code",
   "execution_count": 136,
   "id": "dadfa0bc",
   "metadata": {},
   "outputs": [
    {
     "name": "stdout",
     "output_type": "stream",
     "text": [
      "                               precision    recall  f1-score   support\n",
      "\n",
      "               bacterial_spot       0.38      0.74      0.50       349\n",
      "                 early_blight       0.16      0.14      0.15       182\n",
      "                      healthy       0.28      0.54      0.37       258\n",
      "                  late_blight       0.19      0.09      0.12       316\n",
      "                    leaf_mold       0.53      0.28      0.37       145\n",
      "           septoria_leaf_spot       0.31      0.56      0.40       262\n",
      "                  target_spot       0.41      0.28      0.34       229\n",
      "          tomato_mosaic_virus       0.09      0.31      0.14        58\n",
      "tomato_yellow_leaf_curl_virus       0.53      0.12      0.19       857\n",
      "      two-spotted_spider_mite       0.35      0.42      0.38       251\n",
      "\n",
      "                     accuracy                           0.32      2907\n",
      "                    macro avg       0.32      0.35      0.30      2907\n",
      "                 weighted avg       0.37      0.32      0.29      2907\n",
      "\n",
      "[[258  10  43   7   1  13   3   5   9   0]\n",
      " [ 77  25   5   6   4  27  16   4  11   7]\n",
      " [ 12   1 140  26   2  23  24  13  10   7]\n",
      " [ 39  26 104  29  13  56   7  11  14  17]\n",
      " [ 27   2   7   7  41  34   7   9   4   7]\n",
      " [  4   7  41   3   6 148  16  10   6  21]\n",
      " [ 16  24   5  12   4  43  65  13  13  34]\n",
      " [ 11   0   1   4   0   6   0  18   9   9]\n",
      " [215  47 151  53   5  92   4  91 102  97]\n",
      " [ 20  19   6   3   1  32  16  33  16 105]]\n"
     ]
    }
   ],
   "source": [
    "#classification report\n",
    "class_names = target.unique()\n",
    "print(classification_report(Ltest, y_pred, target_names=class_names))\n",
    "print(confusion_matrix(Ltest, y_pred))"
   ]
  },
  {
   "cell_type": "markdown",
   "id": "a9f61b1f",
   "metadata": {},
   "source": [
    "# Decision Tree on Blue channel"
   ]
  },
  {
   "cell_type": "code",
   "execution_count": 137,
   "id": "abc489d3",
   "metadata": {},
   "outputs": [
    {
     "data": {
      "text/plain": [
       "0.4262125902992776"
      ]
     },
     "execution_count": 137,
     "metadata": {},
     "output_type": "execute_result"
    }
   ],
   "source": [
    "#building the model\n",
    "classifier_tree.fit(Ftrain, Ltrain)\n",
    "classifier_tree.score(Ftest,Ltest)"
   ]
  },
  {
   "cell_type": "code",
   "execution_count": 138,
   "id": "7047e0bb",
   "metadata": {},
   "outputs": [
    {
     "name": "stdout",
     "output_type": "stream",
     "text": [
      "                               precision    recall  f1-score   support\n",
      "\n",
      "               bacterial_spot       0.44      0.45      0.45       349\n",
      "                 early_blight       0.19      0.18      0.18       182\n",
      "                      healthy       0.60      0.55      0.58       258\n",
      "                  late_blight       0.43      0.37      0.40       316\n",
      "                    leaf_mold       0.27      0.33      0.30       145\n",
      "           septoria_leaf_spot       0.40      0.45      0.42       262\n",
      "                  target_spot       0.25      0.24      0.24       229\n",
      "          tomato_mosaic_virus       0.06      0.07      0.06        58\n",
      "tomato_yellow_leaf_curl_virus       0.53      0.52      0.53       857\n",
      "      two-spotted_spider_mite       0.39      0.42      0.40       251\n",
      "\n",
      "                     accuracy                           0.42      2907\n",
      "                    macro avg       0.36      0.36      0.36      2907\n",
      "                 weighted avg       0.42      0.42      0.42      2907\n",
      "\n",
      "[[157  23  12  15  16  22   8   3  82  11]\n",
      " [ 23  32   7  20  14   5  15   2  47  17]\n",
      " [  9   8 142   9   8  13  21   3  33  12]\n",
      " [ 19  16  12 118  11  37  17  10  61  15]\n",
      " [  9   9   3  13  48   9  11   4  35   4]\n",
      " [ 13   9   7  25   7 117  18   2  49  15]\n",
      " [ 19  21  10  10  13  27  54   2  41  32]\n",
      " [  3   1   4   4   6   7   3   4  20   6]\n",
      " [ 91  37  30  51  43  44  38  22 449  52]\n",
      " [ 11  12   8   8  14   9  34  14  36 105]]\n"
     ]
    }
   ],
   "source": [
    "#classification report\n",
    "y_predict = classifier_tree.fit(Ftrain, Ltrain).predict(Ftest)\n",
    "class_names = target.unique()\n",
    "print(classification_report(Ltest, y_predict, target_names=class_names))\n",
    "print(confusion_matrix(Ltest, y_predict))"
   ]
  }
 ],
 "metadata": {
  "kernelspec": {
   "display_name": "Python 3 (ipykernel)",
   "language": "python",
   "name": "python3"
  },
  "language_info": {
   "codemirror_mode": {
    "name": "ipython",
    "version": 3
   },
   "file_extension": ".py",
   "mimetype": "text/x-python",
   "name": "python",
   "nbconvert_exporter": "python",
   "pygments_lexer": "ipython3",
   "version": "3.9.12"
  }
 },
 "nbformat": 4,
 "nbformat_minor": 5
}
