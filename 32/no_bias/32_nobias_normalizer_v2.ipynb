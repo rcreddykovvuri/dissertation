{
 "cells": [
  {
   "cell_type": "code",
   "execution_count": 1,
   "id": "bcdb1517",
   "metadata": {},
   "outputs": [],
   "source": [
    "import numpy as np #importing numpy\n",
    "import pandas as pd #importing pandas\n",
    "import PIL #importing pillow for image processing\n",
    "from PIL import Image#importing image from pillow library\n",
    "import skimage#importing skimage library\n",
    "import os#importing os library\n",
    "import time#importing time library\n",
    "\n",
    "#Capture start time of the program\n",
    "start_time = time.time()"
   ]
  },
  {
   "cell_type": "code",
   "execution_count": 2,
   "id": "9ec45970",
   "metadata": {},
   "outputs": [],
   "source": [
    "#changing path\n",
    "os.chdir('D://DKIT//dissertation//Dataset_of_Tomato_Leaves//plantvillage//Preprocessed_data//32//32_no_bias_vector//')"
   ]
  },
  {
   "cell_type": "code",
   "execution_count": 3,
   "id": "4b677f27",
   "metadata": {},
   "outputs": [],
   "source": [
    "#importing normalizer function and assigning it to norm\n",
    "from sklearn.preprocessing import Normalizer\n",
    "norm = Normalizer()"
   ]
  },
  {
   "cell_type": "markdown",
   "id": "e1e76605",
   "metadata": {},
   "source": [
    "# RGB Data"
   ]
  },
  {
   "cell_type": "code",
   "execution_count": 4,
   "id": "9386938c",
   "metadata": {},
   "outputs": [],
   "source": [
    "#reading numpy array data\n",
    "rgb_test = np.load('rgb_data.npy')\n",
    "#reading csv file\n",
    "rgb_df = pd.read_csv('rgb_data.csv')"
   ]
  },
  {
   "cell_type": "code",
   "execution_count": 5,
   "id": "40f528b5",
   "metadata": {},
   "outputs": [],
   "source": [
    "features = pd.DataFrame(rgb_test)"
   ]
  },
  {
   "cell_type": "code",
   "execution_count": 6,
   "id": "fdd9a1f6",
   "metadata": {},
   "outputs": [],
   "source": [
    "features = features.values"
   ]
  },
  {
   "cell_type": "code",
   "execution_count": 7,
   "id": "c6d5658c",
   "metadata": {},
   "outputs": [],
   "source": [
    "#assigning target\n",
    "target = rgb_df['disease']\n",
    "#splitting the data to 80 percent and 20 percent\n",
    "from sklearn.model_selection import train_test_split\n",
    "Ftrain,Ftest,Ltrain,Ltest=train_test_split(features,target, test_size=0.20, random_state=24)"
   ]
  },
  {
   "cell_type": "code",
   "execution_count": 8,
   "id": "84a30a78",
   "metadata": {},
   "outputs": [],
   "source": [
    "Ftrain = norm.fit_transform(Ftrain)\n",
    "Ftest = norm.fit_transform(Ftest)"
   ]
  },
  {
   "cell_type": "code",
   "execution_count": 9,
   "id": "1fa0433e",
   "metadata": {},
   "outputs": [],
   "source": [
    "#importing classification report and confusion matrix\n",
    "from sklearn.metrics import classification_report, confusion_matrix"
   ]
  },
  {
   "cell_type": "markdown",
   "id": "d466ef5f",
   "metadata": {},
   "source": [
    "# SVM(poly) on RGB data"
   ]
  },
  {
   "cell_type": "code",
   "execution_count": 10,
   "id": "2427ed51",
   "metadata": {},
   "outputs": [
    {
     "name": "stdout",
     "output_type": "stream",
     "text": [
      "0.7219298245614035\n"
     ]
    }
   ],
   "source": [
    "from sklearn.svm import SVC\n",
    "from sklearn.metrics import accuracy_score\n",
    "\n",
    "svm_poly = SVC(kernel='poly')\n",
    "svm_poly.fit(Ftrain,Ltrain)\n",
    "y_pred = svm_poly.predict(Ftest)\n",
    "print(accuracy_score(Ltest,y_pred))"
   ]
  },
  {
   "cell_type": "code",
   "execution_count": 11,
   "id": "bf286604",
   "metadata": {},
   "outputs": [
    {
     "name": "stdout",
     "output_type": "stream",
     "text": [
      "                               precision    recall  f1-score   support\n",
      "\n",
      "               bacterial_spot       0.69      0.80      0.74       115\n",
      "                 early_blight       0.55      0.53      0.54       120\n",
      "                      healthy       0.86      0.86      0.86       125\n",
      "                  late_blight       0.63      0.68      0.66       125\n",
      "                    leaf_mold       0.77      0.76      0.76       127\n",
      "           septoria_leaf_spot       0.62      0.56      0.59       117\n",
      "                  target_spot       0.78      0.71      0.75       115\n",
      "          tomato_mosaic_virus       0.80      0.89      0.84        54\n",
      "tomato_yellow_leaf_curl_virus       0.88      0.82      0.85       114\n",
      "      two-spotted_spider_mite       0.69      0.71      0.70       128\n",
      "\n",
      "                     accuracy                           0.72      1140\n",
      "                    macro avg       0.73      0.73      0.73      1140\n",
      "                 weighted avg       0.72      0.72      0.72      1140\n",
      "\n",
      "[[ 92   6   0   4   0   7   0   0   6   0]\n",
      " [ 17  64   3  14   6   2   3   0   0  11]\n",
      " [  0   3 107   4   4   3   3   0   0   1]\n",
      " [  8  13   3  85   4   7   2   0   0   3]\n",
      " [  1   6   2   8  96   8   0   2   0   4]\n",
      " [  7   3   7   8  10  65   4   5   5   3]\n",
      " [  1  10   3   2   1   5  82   1   0  10]\n",
      " [  0   1   0   0   1   0   0  48   0   4]\n",
      " [  6   4   0   3   0   2   0   1  93   5]\n",
      " [  1   7   0   6   2   5  11   3   2  91]]\n"
     ]
    }
   ],
   "source": [
    "#classification report\n",
    "y_predict = svm_poly.fit(Ftrain, Ltrain).predict(Ftest)\n",
    "class_names = target.unique()\n",
    "print(classification_report(Ltest, y_predict, target_names=class_names))\n",
    "print(confusion_matrix(Ltest, y_predict))"
   ]
  },
  {
   "cell_type": "markdown",
   "id": "4101cb88",
   "metadata": {},
   "source": [
    "# SVM(RBF) on RGB data"
   ]
  },
  {
   "cell_type": "code",
   "execution_count": 12,
   "id": "235aaf3a",
   "metadata": {},
   "outputs": [
    {
     "name": "stdout",
     "output_type": "stream",
     "text": [
      "0.7333333333333333\n"
     ]
    }
   ],
   "source": [
    "svm_rbf = SVC(kernel='rbf')\n",
    "svm_rbf.fit(Ftrain,Ltrain)\n",
    "y_pred = svm_rbf.predict(Ftest)\n",
    "print(accuracy_score(Ltest,y_pred))"
   ]
  },
  {
   "cell_type": "code",
   "execution_count": 13,
   "id": "1c7ce3a6",
   "metadata": {},
   "outputs": [
    {
     "name": "stdout",
     "output_type": "stream",
     "text": [
      "                               precision    recall  f1-score   support\n",
      "\n",
      "               bacterial_spot       0.73      0.77      0.75       115\n",
      "                 early_blight       0.51      0.47      0.49       120\n",
      "                      healthy       0.83      0.92      0.87       125\n",
      "                  late_blight       0.72      0.72      0.72       125\n",
      "                    leaf_mold       0.83      0.78      0.80       127\n",
      "           septoria_leaf_spot       0.64      0.52      0.57       117\n",
      "                  target_spot       0.71      0.70      0.71       115\n",
      "          tomato_mosaic_virus       0.78      0.93      0.85        54\n",
      "tomato_yellow_leaf_curl_virus       0.84      0.86      0.85       114\n",
      "      two-spotted_spider_mite       0.71      0.76      0.73       128\n",
      "\n",
      "                     accuracy                           0.73      1140\n",
      "                    macro avg       0.73      0.74      0.74      1140\n",
      "                 weighted avg       0.73      0.73      0.73      1140\n",
      "\n",
      "[[ 88   2   2   4   0   9   3   0   7   0]\n",
      " [ 16  57   3  12   5   7  11   0   0   9]\n",
      " [  0   1 115   3   0   1   4   0   0   1]\n",
      " [  5  13   4  90   3   6   1   0   2   1]\n",
      " [  1   4   1   4  99  11   0   2   1   4]\n",
      " [  7   6   8   5  11  61   3   5   5   6]\n",
      " [  1  15   5   1   0   0  81   1   0  11]\n",
      " [  0   1   0   0   1   0   0  50   0   2]\n",
      " [  3   4   0   3   0   0   0   1  98   5]\n",
      " [  0   8   0   3   0   1  11   5   3  97]]\n"
     ]
    }
   ],
   "source": [
    "#classification report\n",
    "y_predict = svm_rbf.fit(Ftrain, Ltrain).predict(Ftest)\n",
    "class_names = target.unique()\n",
    "print(classification_report(Ltest, y_predict, target_names=class_names))\n",
    "print(confusion_matrix(Ltest, y_predict))"
   ]
  },
  {
   "cell_type": "markdown",
   "id": "670ea3cc",
   "metadata": {},
   "source": [
    "# SVM(sigmoid) on RGB data"
   ]
  },
  {
   "cell_type": "code",
   "execution_count": 14,
   "id": "8aaf1a20",
   "metadata": {},
   "outputs": [
    {
     "name": "stdout",
     "output_type": "stream",
     "text": [
      "0.1\n"
     ]
    }
   ],
   "source": [
    "svm_si = SVC(kernel='sigmoid')\n",
    "svm_si.fit(Ftrain,Ltrain)\n",
    "y_pred = svm_si.predict(Ftest)\n",
    "print(accuracy_score(Ltest,y_pred))"
   ]
  },
  {
   "cell_type": "code",
   "execution_count": 15,
   "id": "9beeb8fa",
   "metadata": {},
   "outputs": [
    {
     "name": "stdout",
     "output_type": "stream",
     "text": [
      "                               precision    recall  f1-score   support\n",
      "\n",
      "               bacterial_spot       0.00      0.00      0.00       115\n",
      "                 early_blight       0.00      0.00      0.00       120\n",
      "                      healthy       0.00      0.00      0.00       125\n",
      "                  late_blight       0.00      0.00      0.00       125\n",
      "                    leaf_mold       0.00      0.00      0.00       127\n",
      "           septoria_leaf_spot       0.00      0.00      0.00       117\n",
      "                  target_spot       0.00      0.00      0.00       115\n",
      "          tomato_mosaic_virus       0.00      0.00      0.00        54\n",
      "tomato_yellow_leaf_curl_virus       0.10      1.00      0.18       114\n",
      "      two-spotted_spider_mite       0.00      0.00      0.00       128\n",
      "\n",
      "                     accuracy                           0.10      1140\n",
      "                    macro avg       0.01      0.10      0.02      1140\n",
      "                 weighted avg       0.01      0.10      0.02      1140\n",
      "\n",
      "[[  0   0   0   0   0   0   0   0 115   0]\n",
      " [  0   0   0   0   0   0   0   0 120   0]\n",
      " [  0   0   0   0   0   0   0   0 125   0]\n",
      " [  0   0   0   0   0   0   2   0 123   0]\n",
      " [  0   0   0   0   0   0   0   0 127   0]\n",
      " [  0   0   0   0   0   0   0   0 117   0]\n",
      " [  0   0   0   0   0   0   0   0 115   0]\n",
      " [  0   0   0   0   0   0   0   0  54   0]\n",
      " [  0   0   0   0   0   0   0   0 114   0]\n",
      " [  0   0   0   0   0   0   0   0 128   0]]\n"
     ]
    },
    {
     "name": "stderr",
     "output_type": "stream",
     "text": [
      "C:\\Users\\ravic\\anaconda3\\lib\\site-packages\\sklearn\\metrics\\_classification.py:1248: UndefinedMetricWarning: Precision and F-score are ill-defined and being set to 0.0 in labels with no predicted samples. Use `zero_division` parameter to control this behavior.\n",
      "  _warn_prf(average, modifier, msg_start, len(result))\n",
      "C:\\Users\\ravic\\anaconda3\\lib\\site-packages\\sklearn\\metrics\\_classification.py:1248: UndefinedMetricWarning: Precision and F-score are ill-defined and being set to 0.0 in labels with no predicted samples. Use `zero_division` parameter to control this behavior.\n",
      "  _warn_prf(average, modifier, msg_start, len(result))\n",
      "C:\\Users\\ravic\\anaconda3\\lib\\site-packages\\sklearn\\metrics\\_classification.py:1248: UndefinedMetricWarning: Precision and F-score are ill-defined and being set to 0.0 in labels with no predicted samples. Use `zero_division` parameter to control this behavior.\n",
      "  _warn_prf(average, modifier, msg_start, len(result))\n"
     ]
    }
   ],
   "source": [
    "#classification report\n",
    "y_predict = svm_si.fit(Ftrain, Ltrain).predict(Ftest)\n",
    "class_names = target.unique()\n",
    "print(classification_report(Ltest, y_predict, target_names=class_names))\n",
    "print(confusion_matrix(Ltest, y_predict))"
   ]
  },
  {
   "cell_type": "markdown",
   "id": "f985c500",
   "metadata": {},
   "source": [
    "# Bernouli Naive bayes on RGB data"
   ]
  },
  {
   "cell_type": "code",
   "execution_count": 16,
   "id": "75a3f18f",
   "metadata": {},
   "outputs": [
    {
     "data": {
      "text/plain": [
       "0.2394736842105263"
      ]
     },
     "execution_count": 16,
     "metadata": {},
     "output_type": "execute_result"
    }
   ],
   "source": [
    "from sklearn.naive_bayes import BernoulliNB\n",
    "from sklearn import metrics\n",
    "bnb = BernoulliNB()\n",
    "bnb.fit(Ftrain, Ltrain)\n",
    "y_pred = bnb.predict(Ftest)\n",
    "metrics.accuracy_score(Ltest, y_pred)"
   ]
  },
  {
   "cell_type": "code",
   "execution_count": 17,
   "id": "694c01aa",
   "metadata": {},
   "outputs": [
    {
     "name": "stdout",
     "output_type": "stream",
     "text": [
      "                               precision    recall  f1-score   support\n",
      "\n",
      "               bacterial_spot       0.17      0.94      0.28       115\n",
      "                 early_blight       0.42      0.17      0.24       120\n",
      "                      healthy       0.30      0.13      0.18       125\n",
      "                  late_blight       0.60      0.05      0.09       125\n",
      "                    leaf_mold       0.41      0.20      0.27       127\n",
      "           septoria_leaf_spot       0.19      0.05      0.08       117\n",
      "                  target_spot       0.19      0.09      0.12       115\n",
      "          tomato_mosaic_virus       0.00      0.00      0.00        54\n",
      "tomato_yellow_leaf_curl_virus       0.47      0.50      0.48       114\n",
      "      two-spotted_spider_mite       0.22      0.19      0.20       128\n",
      "\n",
      "                     accuracy                           0.24      1140\n",
      "                    macro avg       0.30      0.23      0.19      1140\n",
      "                 weighted avg       0.32      0.24      0.20      1140\n",
      "\n",
      "[[108   0   2   0   1   0   1   0   0   3]\n",
      " [ 54  20   5   4  11   3   4   0  14   5]\n",
      " [ 80   1  16   0   4   7   5   0   1  11]\n",
      " [ 86   9   3   6   3   0   2   0  12   4]\n",
      " [ 62   5   4   0  26   4   6   0  12   8]\n",
      " [ 70   5   6   0   7   6   3   0   4  16]\n",
      " [ 67   2   8   0   8   3  10   0   5  12]\n",
      " [ 38   1   3   0   0   2   2   0   3   5]\n",
      " [ 25   3   3   0   1   2   3   0  57  20]\n",
      " [ 60   2   4   0   2   4  18   0  14  24]]\n"
     ]
    },
    {
     "name": "stderr",
     "output_type": "stream",
     "text": [
      "C:\\Users\\ravic\\anaconda3\\lib\\site-packages\\sklearn\\metrics\\_classification.py:1248: UndefinedMetricWarning: Precision and F-score are ill-defined and being set to 0.0 in labels with no predicted samples. Use `zero_division` parameter to control this behavior.\n",
      "  _warn_prf(average, modifier, msg_start, len(result))\n",
      "C:\\Users\\ravic\\anaconda3\\lib\\site-packages\\sklearn\\metrics\\_classification.py:1248: UndefinedMetricWarning: Precision and F-score are ill-defined and being set to 0.0 in labels with no predicted samples. Use `zero_division` parameter to control this behavior.\n",
      "  _warn_prf(average, modifier, msg_start, len(result))\n",
      "C:\\Users\\ravic\\anaconda3\\lib\\site-packages\\sklearn\\metrics\\_classification.py:1248: UndefinedMetricWarning: Precision and F-score are ill-defined and being set to 0.0 in labels with no predicted samples. Use `zero_division` parameter to control this behavior.\n",
      "  _warn_prf(average, modifier, msg_start, len(result))\n"
     ]
    }
   ],
   "source": [
    "class_names = target.unique()\n",
    "print(classification_report(Ltest, y_pred, target_names=class_names))\n",
    "print(confusion_matrix(Ltest, y_pred))"
   ]
  },
  {
   "cell_type": "markdown",
   "id": "67dd930c",
   "metadata": {},
   "source": [
    "# Multinomial Naive bayes on RGB data"
   ]
  },
  {
   "cell_type": "code",
   "execution_count": 18,
   "id": "3b80acde",
   "metadata": {},
   "outputs": [
    {
     "data": {
      "text/plain": [
       "0.2394736842105263"
      ]
     },
     "execution_count": 18,
     "metadata": {},
     "output_type": "execute_result"
    }
   ],
   "source": [
    "from sklearn.naive_bayes import MultinomialNB\n",
    "mnb = BernoulliNB()\n",
    "mnb.fit(Ftrain, Ltrain)\n",
    "y_pred = mnb.predict(Ftest)\n",
    "metrics.accuracy_score(Ltest, y_pred)"
   ]
  },
  {
   "cell_type": "code",
   "execution_count": 19,
   "id": "d6ed705b",
   "metadata": {},
   "outputs": [
    {
     "name": "stdout",
     "output_type": "stream",
     "text": [
      "                               precision    recall  f1-score   support\n",
      "\n",
      "               bacterial_spot       0.17      0.94      0.28       115\n",
      "                 early_blight       0.42      0.17      0.24       120\n",
      "                      healthy       0.30      0.13      0.18       125\n",
      "                  late_blight       0.60      0.05      0.09       125\n",
      "                    leaf_mold       0.41      0.20      0.27       127\n",
      "           septoria_leaf_spot       0.19      0.05      0.08       117\n",
      "                  target_spot       0.19      0.09      0.12       115\n",
      "          tomato_mosaic_virus       0.00      0.00      0.00        54\n",
      "tomato_yellow_leaf_curl_virus       0.47      0.50      0.48       114\n",
      "      two-spotted_spider_mite       0.22      0.19      0.20       128\n",
      "\n",
      "                     accuracy                           0.24      1140\n",
      "                    macro avg       0.30      0.23      0.19      1140\n",
      "                 weighted avg       0.32      0.24      0.20      1140\n",
      "\n",
      "[[108   0   2   0   1   0   1   0   0   3]\n",
      " [ 54  20   5   4  11   3   4   0  14   5]\n",
      " [ 80   1  16   0   4   7   5   0   1  11]\n",
      " [ 86   9   3   6   3   0   2   0  12   4]\n",
      " [ 62   5   4   0  26   4   6   0  12   8]\n",
      " [ 70   5   6   0   7   6   3   0   4  16]\n",
      " [ 67   2   8   0   8   3  10   0   5  12]\n",
      " [ 38   1   3   0   0   2   2   0   3   5]\n",
      " [ 25   3   3   0   1   2   3   0  57  20]\n",
      " [ 60   2   4   0   2   4  18   0  14  24]]\n"
     ]
    },
    {
     "name": "stderr",
     "output_type": "stream",
     "text": [
      "C:\\Users\\ravic\\anaconda3\\lib\\site-packages\\sklearn\\metrics\\_classification.py:1248: UndefinedMetricWarning: Precision and F-score are ill-defined and being set to 0.0 in labels with no predicted samples. Use `zero_division` parameter to control this behavior.\n",
      "  _warn_prf(average, modifier, msg_start, len(result))\n",
      "C:\\Users\\ravic\\anaconda3\\lib\\site-packages\\sklearn\\metrics\\_classification.py:1248: UndefinedMetricWarning: Precision and F-score are ill-defined and being set to 0.0 in labels with no predicted samples. Use `zero_division` parameter to control this behavior.\n",
      "  _warn_prf(average, modifier, msg_start, len(result))\n",
      "C:\\Users\\ravic\\anaconda3\\lib\\site-packages\\sklearn\\metrics\\_classification.py:1248: UndefinedMetricWarning: Precision and F-score are ill-defined and being set to 0.0 in labels with no predicted samples. Use `zero_division` parameter to control this behavior.\n",
      "  _warn_prf(average, modifier, msg_start, len(result))\n"
     ]
    }
   ],
   "source": [
    "class_names = target.unique()\n",
    "print(classification_report(Ltest, y_pred, target_names=class_names))\n",
    "print(confusion_matrix(Ltest, y_pred))"
   ]
  },
  {
   "cell_type": "markdown",
   "id": "0e8f617d",
   "metadata": {},
   "source": [
    "# Grayscale data"
   ]
  },
  {
   "cell_type": "code",
   "execution_count": 20,
   "id": "57a9845e",
   "metadata": {},
   "outputs": [],
   "source": [
    "#reading numpy array data\n",
    "gray_test = np.load('gray_test.npy')\n",
    "#reading csv file\n",
    "gray_df = pd.read_csv('gray_data.csv')"
   ]
  },
  {
   "cell_type": "code",
   "execution_count": 21,
   "id": "d3abef95",
   "metadata": {},
   "outputs": [],
   "source": [
    "#assigning features and target to split the data\n",
    "features = pd.DataFrame(gray_test)\n",
    "features = features.values\n",
    "target = gray_df['disease']"
   ]
  },
  {
   "cell_type": "code",
   "execution_count": 22,
   "id": "a86eb99c",
   "metadata": {},
   "outputs": [],
   "source": [
    "#splitting the data to train and test\n",
    "Ftrain,Ftest,Ltrain,Ltest=train_test_split(features,target, test_size=0.20, random_state=24)"
   ]
  },
  {
   "cell_type": "code",
   "execution_count": 23,
   "id": "8510a95b",
   "metadata": {},
   "outputs": [],
   "source": [
    "#applying normalizer scale on Ftrain and Ftest\n",
    "Ftrain = norm.fit_transform(Ftrain)\n",
    "Ftest = norm.fit_transform(Ftest)"
   ]
  },
  {
   "cell_type": "markdown",
   "id": "8bfc6d84",
   "metadata": {},
   "source": [
    "# SVM(poly) on grayscale data"
   ]
  },
  {
   "cell_type": "code",
   "execution_count": 24,
   "id": "c9665abf",
   "metadata": {},
   "outputs": [
    {
     "name": "stdout",
     "output_type": "stream",
     "text": [
      "0.4903508771929825\n"
     ]
    }
   ],
   "source": [
    "svm_poly.fit(Ftrain,Ltrain)\n",
    "y_pred = svm_poly.predict(Ftest)\n",
    "print(accuracy_score(Ltest,y_pred))"
   ]
  },
  {
   "cell_type": "code",
   "execution_count": 25,
   "id": "2456eda7",
   "metadata": {},
   "outputs": [
    {
     "name": "stdout",
     "output_type": "stream",
     "text": [
      "                               precision    recall  f1-score   support\n",
      "\n",
      "               bacterial_spot       0.55      0.62      0.58       115\n",
      "                 early_blight       0.37      0.43      0.40       120\n",
      "                      healthy       0.64      0.66      0.65       125\n",
      "                  late_blight       0.47      0.55      0.51       125\n",
      "                    leaf_mold       0.51      0.54      0.52       127\n",
      "           septoria_leaf_spot       0.38      0.30      0.34       117\n",
      "                  target_spot       0.45      0.43      0.44       115\n",
      "          tomato_mosaic_virus       0.46      0.43      0.44        54\n",
      "tomato_yellow_leaf_curl_virus       0.52      0.44      0.47       114\n",
      "      two-spotted_spider_mite       0.51      0.46      0.49       128\n",
      "\n",
      "                     accuracy                           0.49      1140\n",
      "                    macro avg       0.49      0.49      0.48      1140\n",
      "                 weighted avg       0.49      0.49      0.49      1140\n",
      "\n",
      "[[71  6  7  4  2  7  3  0 11  4]\n",
      " [14 52  1 12 11  2 13  0  6  9]\n",
      " [ 4  5 82  9  6 10  5  0  2  2]\n",
      " [ 8 15  7 69  8  6  2  2  4  4]\n",
      " [ 1  9  6 18 68  6  5  3  6  5]\n",
      " [12  9 12 13 15 35  9  3  5  4]\n",
      " [ 4 17  7  3  7  7 50  1  3 16]\n",
      " [ 2  2  2  1  4  7  4 23  4  5]\n",
      " [10  7  2 13  8  7  5  5 50  7]\n",
      " [ 3 18  3  4  4  4 14 13  6 59]]\n"
     ]
    }
   ],
   "source": [
    "#classification report\n",
    "y_predict = svm_poly.fit(Ftrain, Ltrain).predict(Ftest)\n",
    "class_names = target.unique()\n",
    "print(classification_report(Ltest, y_predict, target_names=class_names))\n",
    "print(confusion_matrix(Ltest, y_predict))"
   ]
  },
  {
   "cell_type": "markdown",
   "id": "bd417df9",
   "metadata": {},
   "source": [
    "# SVM(RBF) on grayscale data"
   ]
  },
  {
   "cell_type": "code",
   "execution_count": 26,
   "id": "67772464",
   "metadata": {},
   "outputs": [
    {
     "name": "stdout",
     "output_type": "stream",
     "text": [
      "0.5763157894736842\n"
     ]
    }
   ],
   "source": [
    "svm_rbf.fit(Ftrain,Ltrain)\n",
    "y_pred = svm_rbf.predict(Ftest)\n",
    "print(accuracy_score(Ltest,y_pred))"
   ]
  },
  {
   "cell_type": "code",
   "execution_count": 27,
   "id": "34bbfd97",
   "metadata": {},
   "outputs": [
    {
     "name": "stdout",
     "output_type": "stream",
     "text": [
      "                               precision    recall  f1-score   support\n",
      "\n",
      "               bacterial_spot       0.69      0.61      0.65       115\n",
      "                 early_blight       0.43      0.42      0.42       120\n",
      "                      healthy       0.68      0.83      0.75       125\n",
      "                  late_blight       0.62      0.60      0.61       125\n",
      "                    leaf_mold       0.63      0.60      0.61       127\n",
      "           septoria_leaf_spot       0.44      0.40      0.42       117\n",
      "                  target_spot       0.57      0.60      0.58       115\n",
      "          tomato_mosaic_virus       0.43      0.56      0.49        54\n",
      "tomato_yellow_leaf_curl_virus       0.58      0.55      0.57       114\n",
      "      two-spotted_spider_mite       0.58      0.57      0.58       128\n",
      "\n",
      "                     accuracy                           0.58      1140\n",
      "                    macro avg       0.57      0.57      0.57      1140\n",
      "                 weighted avg       0.58      0.58      0.57      1140\n",
      "\n",
      "[[ 70   3   9   5   4  11   2   1   8   2]\n",
      " [ 14  50   3  11   7   6  10   3   5  11]\n",
      " [  0   2 104   3   1   9   3   0   3   0]\n",
      " [  4  13   9  75   5   9   3   0   4   3]\n",
      " [  1   7   4   9  76   6   9   5   5   5]\n",
      " [  5   8  10   8  14  47   7   7   8   3]\n",
      " [  1  11   7   2   4   2  69   2   2  15]\n",
      " [  0   1   1   0   1   6   2  30   6   7]\n",
      " [  6   8   5   7   6   5   1   7  63   6]\n",
      " [  0  13   1   0   3   5  15  14   4  73]]\n"
     ]
    }
   ],
   "source": [
    "#classification report\n",
    "y_predict = svm_rbf.fit(Ftrain, Ltrain).predict(Ftest)\n",
    "class_names = target.unique()\n",
    "print(classification_report(Ltest, y_predict, target_names=class_names))\n",
    "print(confusion_matrix(Ltest, y_predict))"
   ]
  },
  {
   "cell_type": "markdown",
   "id": "c1ed23e8",
   "metadata": {},
   "source": [
    "# SVM(sigmoid) on Grayscale data"
   ]
  },
  {
   "cell_type": "code",
   "execution_count": 28,
   "id": "b79e8630",
   "metadata": {},
   "outputs": [
    {
     "name": "stdout",
     "output_type": "stream",
     "text": [
      "0.1\n"
     ]
    }
   ],
   "source": [
    "svm_si.fit(Ftrain,Ltrain)\n",
    "y_pred = svm_si.predict(Ftest)\n",
    "print(accuracy_score(Ltest,y_pred))"
   ]
  },
  {
   "cell_type": "code",
   "execution_count": 29,
   "id": "c64cd0a6",
   "metadata": {},
   "outputs": [
    {
     "name": "stdout",
     "output_type": "stream",
     "text": [
      "                               precision    recall  f1-score   support\n",
      "\n",
      "               bacterial_spot       0.00      0.00      0.00       115\n",
      "                 early_blight       0.00      0.00      0.00       120\n",
      "                      healthy       0.00      0.00      0.00       125\n",
      "                  late_blight       0.00      0.00      0.00       125\n",
      "                    leaf_mold       0.00      0.00      0.00       127\n",
      "           septoria_leaf_spot       0.00      0.00      0.00       117\n",
      "                  target_spot       0.00      0.00      0.00       115\n",
      "          tomato_mosaic_virus       0.00      0.00      0.00        54\n",
      "tomato_yellow_leaf_curl_virus       0.10      1.00      0.18       114\n",
      "      two-spotted_spider_mite       0.00      0.00      0.00       128\n",
      "\n",
      "                     accuracy                           0.10      1140\n",
      "                    macro avg       0.01      0.10      0.02      1140\n",
      "                 weighted avg       0.01      0.10      0.02      1140\n",
      "\n",
      "[[  0   0   0   0   0   0   0   0 115   0]\n",
      " [  0   0   0   0   0   0   0   0 120   0]\n",
      " [  0   0   0   0   0   0   0   0 125   0]\n",
      " [  0   0   0   0   0   0   0   0 125   0]\n",
      " [  0   0   0   0   0   0   0   0 127   0]\n",
      " [  0   0   0   0   0   0   0   0 117   0]\n",
      " [  0   0   0   0   0   0   0   0 115   0]\n",
      " [  0   0   0   0   0   0   0   0  54   0]\n",
      " [  0   0   0   0   0   0   0   0 114   0]\n",
      " [  0   0   0   0   0   0   0   0 128   0]]\n"
     ]
    },
    {
     "name": "stderr",
     "output_type": "stream",
     "text": [
      "C:\\Users\\ravic\\anaconda3\\lib\\site-packages\\sklearn\\metrics\\_classification.py:1248: UndefinedMetricWarning: Precision and F-score are ill-defined and being set to 0.0 in labels with no predicted samples. Use `zero_division` parameter to control this behavior.\n",
      "  _warn_prf(average, modifier, msg_start, len(result))\n",
      "C:\\Users\\ravic\\anaconda3\\lib\\site-packages\\sklearn\\metrics\\_classification.py:1248: UndefinedMetricWarning: Precision and F-score are ill-defined and being set to 0.0 in labels with no predicted samples. Use `zero_division` parameter to control this behavior.\n",
      "  _warn_prf(average, modifier, msg_start, len(result))\n",
      "C:\\Users\\ravic\\anaconda3\\lib\\site-packages\\sklearn\\metrics\\_classification.py:1248: UndefinedMetricWarning: Precision and F-score are ill-defined and being set to 0.0 in labels with no predicted samples. Use `zero_division` parameter to control this behavior.\n",
      "  _warn_prf(average, modifier, msg_start, len(result))\n"
     ]
    }
   ],
   "source": [
    "#classification report\n",
    "y_predict = svm_si.fit(Ftrain, Ltrain).predict(Ftest)\n",
    "class_names = target.unique()\n",
    "print(classification_report(Ltest, y_predict, target_names=class_names))\n",
    "print(confusion_matrix(Ltest, y_predict))"
   ]
  },
  {
   "cell_type": "markdown",
   "id": "8ba631c4",
   "metadata": {},
   "source": [
    "# Bernouli Naive bayes on grayscale data"
   ]
  },
  {
   "cell_type": "code",
   "execution_count": 30,
   "id": "f9c1d1df",
   "metadata": {},
   "outputs": [
    {
     "data": {
      "text/plain": [
       "0.10438596491228071"
      ]
     },
     "execution_count": 30,
     "metadata": {},
     "output_type": "execute_result"
    }
   ],
   "source": [
    "bnb.fit(Ftrain, Ltrain)\n",
    "y_pred = bnb.predict(Ftest)\n",
    "metrics.accuracy_score(Ltest, y_pred)"
   ]
  },
  {
   "cell_type": "code",
   "execution_count": 31,
   "id": "5349d0e6",
   "metadata": {},
   "outputs": [
    {
     "name": "stdout",
     "output_type": "stream",
     "text": [
      "                               precision    recall  f1-score   support\n",
      "\n",
      "               bacterial_spot       0.00      0.00      0.00       115\n",
      "                 early_blight       0.25      0.01      0.02       120\n",
      "                      healthy       0.50      0.01      0.02       125\n",
      "                  late_blight       1.00      0.02      0.05       125\n",
      "                    leaf_mold       0.00      0.00      0.00       127\n",
      "           septoria_leaf_spot       0.00      0.00      0.00       117\n",
      "                  target_spot       0.00      0.00      0.00       115\n",
      "          tomato_mosaic_virus       0.00      0.00      0.00        54\n",
      "tomato_yellow_leaf_curl_virus       0.10      1.00      0.18       114\n",
      "      two-spotted_spider_mite       0.00      0.00      0.00       128\n",
      "\n",
      "                     accuracy                           0.10      1140\n",
      "                    macro avg       0.19      0.10      0.03      1140\n",
      "                 weighted avg       0.20      0.10      0.03      1140\n",
      "\n",
      "[[  0   0   0   0   0   0   0   0 115   0]\n",
      " [  0   1   0   0   1   0   0   0 118   0]\n",
      " [  0   1   1   0   0   0   0   0 123   0]\n",
      " [  0   0   0   3   0   1   0   1 120   0]\n",
      " [  0   1   1   0   0   0   1   0 124   0]\n",
      " [  0   0   0   0   0   0   0   0 117   0]\n",
      " [  0   0   0   0   0   0   0   0 115   0]\n",
      " [  0   1   0   0   1   0   0   0  52   0]\n",
      " [  0   0   0   0   0   0   0   0 114   0]\n",
      " [  0   0   0   0   0   0   0   0 128   0]]\n"
     ]
    },
    {
     "name": "stderr",
     "output_type": "stream",
     "text": [
      "C:\\Users\\ravic\\anaconda3\\lib\\site-packages\\sklearn\\metrics\\_classification.py:1248: UndefinedMetricWarning: Precision and F-score are ill-defined and being set to 0.0 in labels with no predicted samples. Use `zero_division` parameter to control this behavior.\n",
      "  _warn_prf(average, modifier, msg_start, len(result))\n",
      "C:\\Users\\ravic\\anaconda3\\lib\\site-packages\\sklearn\\metrics\\_classification.py:1248: UndefinedMetricWarning: Precision and F-score are ill-defined and being set to 0.0 in labels with no predicted samples. Use `zero_division` parameter to control this behavior.\n",
      "  _warn_prf(average, modifier, msg_start, len(result))\n",
      "C:\\Users\\ravic\\anaconda3\\lib\\site-packages\\sklearn\\metrics\\_classification.py:1248: UndefinedMetricWarning: Precision and F-score are ill-defined and being set to 0.0 in labels with no predicted samples. Use `zero_division` parameter to control this behavior.\n",
      "  _warn_prf(average, modifier, msg_start, len(result))\n"
     ]
    }
   ],
   "source": [
    "class_names = target.unique()\n",
    "print(classification_report(Ltest, y_pred, target_names=class_names))\n",
    "print(confusion_matrix(Ltest, y_pred))"
   ]
  },
  {
   "cell_type": "markdown",
   "id": "20b31faf",
   "metadata": {},
   "source": [
    "# Multinomial Naive bayes on Grayscale data"
   ]
  },
  {
   "cell_type": "code",
   "execution_count": 32,
   "id": "5bf3d424",
   "metadata": {},
   "outputs": [
    {
     "data": {
      "text/plain": [
       "0.10438596491228071"
      ]
     },
     "execution_count": 32,
     "metadata": {},
     "output_type": "execute_result"
    }
   ],
   "source": [
    "mnb.fit(Ftrain, Ltrain)\n",
    "y_pred = mnb.predict(Ftest)\n",
    "metrics.accuracy_score(Ltest, y_pred)"
   ]
  },
  {
   "cell_type": "code",
   "execution_count": 33,
   "id": "6ed85664",
   "metadata": {},
   "outputs": [
    {
     "name": "stdout",
     "output_type": "stream",
     "text": [
      "                               precision    recall  f1-score   support\n",
      "\n",
      "               bacterial_spot       0.00      0.00      0.00       115\n",
      "                 early_blight       0.25      0.01      0.02       120\n",
      "                      healthy       0.50      0.01      0.02       125\n",
      "                  late_blight       1.00      0.02      0.05       125\n",
      "                    leaf_mold       0.00      0.00      0.00       127\n",
      "           septoria_leaf_spot       0.00      0.00      0.00       117\n",
      "                  target_spot       0.00      0.00      0.00       115\n",
      "          tomato_mosaic_virus       0.00      0.00      0.00        54\n",
      "tomato_yellow_leaf_curl_virus       0.10      1.00      0.18       114\n",
      "      two-spotted_spider_mite       0.00      0.00      0.00       128\n",
      "\n",
      "                     accuracy                           0.10      1140\n",
      "                    macro avg       0.19      0.10      0.03      1140\n",
      "                 weighted avg       0.20      0.10      0.03      1140\n",
      "\n",
      "[[  0   0   0   0   0   0   0   0 115   0]\n",
      " [  0   1   0   0   1   0   0   0 118   0]\n",
      " [  0   1   1   0   0   0   0   0 123   0]\n",
      " [  0   0   0   3   0   1   0   1 120   0]\n",
      " [  0   1   1   0   0   0   1   0 124   0]\n",
      " [  0   0   0   0   0   0   0   0 117   0]\n",
      " [  0   0   0   0   0   0   0   0 115   0]\n",
      " [  0   1   0   0   1   0   0   0  52   0]\n",
      " [  0   0   0   0   0   0   0   0 114   0]\n",
      " [  0   0   0   0   0   0   0   0 128   0]]\n"
     ]
    },
    {
     "name": "stderr",
     "output_type": "stream",
     "text": [
      "C:\\Users\\ravic\\anaconda3\\lib\\site-packages\\sklearn\\metrics\\_classification.py:1248: UndefinedMetricWarning: Precision and F-score are ill-defined and being set to 0.0 in labels with no predicted samples. Use `zero_division` parameter to control this behavior.\n",
      "  _warn_prf(average, modifier, msg_start, len(result))\n",
      "C:\\Users\\ravic\\anaconda3\\lib\\site-packages\\sklearn\\metrics\\_classification.py:1248: UndefinedMetricWarning: Precision and F-score are ill-defined and being set to 0.0 in labels with no predicted samples. Use `zero_division` parameter to control this behavior.\n",
      "  _warn_prf(average, modifier, msg_start, len(result))\n",
      "C:\\Users\\ravic\\anaconda3\\lib\\site-packages\\sklearn\\metrics\\_classification.py:1248: UndefinedMetricWarning: Precision and F-score are ill-defined and being set to 0.0 in labels with no predicted samples. Use `zero_division` parameter to control this behavior.\n",
      "  _warn_prf(average, modifier, msg_start, len(result))\n"
     ]
    }
   ],
   "source": [
    "class_names = target.unique()\n",
    "print(classification_report(Ltest, y_pred, target_names=class_names))\n",
    "print(confusion_matrix(Ltest, y_pred))"
   ]
  },
  {
   "cell_type": "markdown",
   "id": "6f5719a1",
   "metadata": {},
   "source": [
    "# Red Channel data"
   ]
  },
  {
   "cell_type": "code",
   "execution_count": 34,
   "id": "5f8b0e11",
   "metadata": {},
   "outputs": [],
   "source": [
    "#reading numpy array data\n",
    "red_test = np.load('red_data.npy')\n",
    "#reading csv file\n",
    "red_df = pd.read_csv('red_data.csv')\n",
    "#assigning features and target to split the data\n",
    "features = pd.DataFrame(red_test)\n",
    "features = features.values\n",
    "target = red_df['disease']\n",
    "#splitting the data to train and test\n",
    "Ftrain,Ftest,Ltrain,Ltest=train_test_split(features,target, test_size=0.20, random_state=24)"
   ]
  },
  {
   "cell_type": "code",
   "execution_count": 35,
   "id": "20f194d0",
   "metadata": {},
   "outputs": [],
   "source": [
    "#applying normalizer scale on Ftrain and Ftest\n",
    "Ftrain = norm.fit_transform(Ftrain)\n",
    "Ftest = norm.fit_transform(Ftest)"
   ]
  },
  {
   "cell_type": "markdown",
   "id": "c81dd4d2",
   "metadata": {},
   "source": [
    "# SVM(poly) on Red data"
   ]
  },
  {
   "cell_type": "code",
   "execution_count": 36,
   "id": "a9cb2e28",
   "metadata": {},
   "outputs": [
    {
     "name": "stdout",
     "output_type": "stream",
     "text": [
      "0.5043859649122807\n"
     ]
    }
   ],
   "source": [
    "svm_poly.fit(Ftrain,Ltrain)\n",
    "y_pred = svm_poly.predict(Ftest)\n",
    "print(accuracy_score(Ltest,y_pred))"
   ]
  },
  {
   "cell_type": "code",
   "execution_count": 37,
   "id": "35b2ceaf",
   "metadata": {},
   "outputs": [
    {
     "name": "stdout",
     "output_type": "stream",
     "text": [
      "                               precision    recall  f1-score   support\n",
      "\n",
      "               bacterial_spot       0.58      0.64      0.61       115\n",
      "                 early_blight       0.36      0.43      0.40       120\n",
      "                      healthy       0.67      0.68      0.67       125\n",
      "                  late_blight       0.45      0.54      0.49       125\n",
      "                    leaf_mold       0.53      0.50      0.51       127\n",
      "           septoria_leaf_spot       0.35      0.30      0.32       117\n",
      "                  target_spot       0.51      0.45      0.48       115\n",
      "          tomato_mosaic_virus       0.49      0.52      0.50        54\n",
      "tomato_yellow_leaf_curl_virus       0.54      0.46      0.50       114\n",
      "      two-spotted_spider_mite       0.56      0.52      0.54       128\n",
      "\n",
      "                     accuracy                           0.50      1140\n",
      "                    macro avg       0.50      0.50      0.50      1140\n",
      "                 weighted avg       0.51      0.50      0.50      1140\n",
      "\n",
      "[[74  9  3  6  2  9  5  0  7  0]\n",
      " [11 52  3 10  8  6 11  1 11  7]\n",
      " [ 4  4 85 10  7  5  3  0  3  4]\n",
      " [ 8 16  8 68  9  9  1  0  3  3]\n",
      " [ 2 11  6 19 63  7  3  4  6  6]\n",
      " [10 12 11 17 13 35  8  3  3  5]\n",
      " [ 8 14  6  4  5 10 52  0  2 14]\n",
      " [ 0  4  0  3  3  6  3 28  4  3]\n",
      " [ 9 10  3 13  8  2  2  6 52  9]\n",
      " [ 2 11  2  2  2 10 13 15  5 66]]\n"
     ]
    }
   ],
   "source": [
    "#classification report\n",
    "y_predict = svm_poly.fit(Ftrain, Ltrain).predict(Ftest)\n",
    "class_names = target.unique()\n",
    "print(classification_report(Ltest, y_predict, target_names=class_names))\n",
    "print(confusion_matrix(Ltest, y_predict))"
   ]
  },
  {
   "cell_type": "markdown",
   "id": "bcdfb873",
   "metadata": {},
   "source": [
    "# SVM(RBF) on Red data"
   ]
  },
  {
   "cell_type": "code",
   "execution_count": 38,
   "id": "5e806290",
   "metadata": {},
   "outputs": [
    {
     "name": "stdout",
     "output_type": "stream",
     "text": [
      "0.5807017543859649\n"
     ]
    }
   ],
   "source": [
    "svm_rbf.fit(Ftrain,Ltrain)\n",
    "y_pred = svm_rbf.predict(Ftest)\n",
    "print(accuracy_score(Ltest,y_pred))"
   ]
  },
  {
   "cell_type": "code",
   "execution_count": 39,
   "id": "e613add4",
   "metadata": {},
   "outputs": [
    {
     "name": "stdout",
     "output_type": "stream",
     "text": [
      "                               precision    recall  f1-score   support\n",
      "\n",
      "               bacterial_spot       0.68      0.56      0.61       115\n",
      "                 early_blight       0.46      0.40      0.43       120\n",
      "                      healthy       0.68      0.87      0.76       125\n",
      "                  late_blight       0.64      0.63      0.63       125\n",
      "                    leaf_mold       0.68      0.60      0.64       127\n",
      "           septoria_leaf_spot       0.44      0.42      0.43       117\n",
      "                  target_spot       0.55      0.60      0.57       115\n",
      "          tomato_mosaic_virus       0.48      0.67      0.56        54\n",
      "tomato_yellow_leaf_curl_virus       0.58      0.53      0.55       114\n",
      "      two-spotted_spider_mite       0.56      0.56      0.56       128\n",
      "\n",
      "                     accuracy                           0.58      1140\n",
      "                    macro avg       0.57      0.58      0.57      1140\n",
      "                 weighted avg       0.58      0.58      0.58      1140\n",
      "\n",
      "[[ 64   2   9   5   1  15   8   0   9   2]\n",
      " [ 14  48   5   7   7   8  15   2   5   9]\n",
      " [  0   1 109   3   1   6   2   0   2   1]\n",
      " [  4  10   9  79   4  10   1   1   5   2]\n",
      " [  1   5   9  12  76   8   5   3   3   5]\n",
      " [  3   6  10   6  14  49   9   6   8   6]\n",
      " [  0  12   5   3   3   0  69   3   3  17]\n",
      " [  0   2   0   0   3   3   0  36   4   6]\n",
      " [  7   5   3   9   3   7   1  10  60   9]\n",
      " [  1  13   2   0   0   6  15  14   5  72]]\n"
     ]
    }
   ],
   "source": [
    "#classification report\n",
    "y_predict = svm_rbf.fit(Ftrain, Ltrain).predict(Ftest)\n",
    "class_names = target.unique()\n",
    "print(classification_report(Ltest, y_predict, target_names=class_names))\n",
    "print(confusion_matrix(Ltest, y_predict))"
   ]
  },
  {
   "cell_type": "markdown",
   "id": "558a44ca",
   "metadata": {},
   "source": [
    "# SVM(sigmoid) on Red data"
   ]
  },
  {
   "cell_type": "code",
   "execution_count": 40,
   "id": "dfde7ca8",
   "metadata": {},
   "outputs": [
    {
     "name": "stdout",
     "output_type": "stream",
     "text": [
      "0.1\n"
     ]
    }
   ],
   "source": [
    "svm_si.fit(Ftrain,Ltrain)\n",
    "y_pred = svm_si.predict(Ftest)\n",
    "print(accuracy_score(Ltest,y_pred))"
   ]
  },
  {
   "cell_type": "code",
   "execution_count": 41,
   "id": "b58142f8",
   "metadata": {},
   "outputs": [
    {
     "name": "stdout",
     "output_type": "stream",
     "text": [
      "                               precision    recall  f1-score   support\n",
      "\n",
      "               bacterial_spot       0.00      0.00      0.00       115\n",
      "                 early_blight       0.00      0.00      0.00       120\n",
      "                      healthy       0.00      0.00      0.00       125\n",
      "                  late_blight       0.00      0.00      0.00       125\n",
      "                    leaf_mold       0.00      0.00      0.00       127\n",
      "           septoria_leaf_spot       0.00      0.00      0.00       117\n",
      "                  target_spot       0.00      0.00      0.00       115\n",
      "          tomato_mosaic_virus       0.00      0.00      0.00        54\n",
      "tomato_yellow_leaf_curl_virus       0.10      1.00      0.18       114\n",
      "      two-spotted_spider_mite       0.00      0.00      0.00       128\n",
      "\n",
      "                     accuracy                           0.10      1140\n",
      "                    macro avg       0.01      0.10      0.02      1140\n",
      "                 weighted avg       0.01      0.10      0.02      1140\n",
      "\n",
      "[[  0   0   0   0   0   0   0   0 115   0]\n",
      " [  0   0   0   0   0   0   0   0 120   0]\n",
      " [  0   0   0   0   0   0   0   0 125   0]\n",
      " [  0   0   1   0   0   0   1   0 123   0]\n",
      " [  0   0   0   0   0   0   0   0 127   0]\n",
      " [  0   0   0   0   0   0   0   0 117   0]\n",
      " [  0   0   0   0   0   0   0   0 115   0]\n",
      " [  0   0   0   0   0   0   0   0  54   0]\n",
      " [  0   0   0   0   0   0   0   0 114   0]\n",
      " [  0   0   0   0   0   0   0   0 128   0]]\n"
     ]
    },
    {
     "name": "stderr",
     "output_type": "stream",
     "text": [
      "C:\\Users\\ravic\\anaconda3\\lib\\site-packages\\sklearn\\metrics\\_classification.py:1248: UndefinedMetricWarning: Precision and F-score are ill-defined and being set to 0.0 in labels with no predicted samples. Use `zero_division` parameter to control this behavior.\n",
      "  _warn_prf(average, modifier, msg_start, len(result))\n",
      "C:\\Users\\ravic\\anaconda3\\lib\\site-packages\\sklearn\\metrics\\_classification.py:1248: UndefinedMetricWarning: Precision and F-score are ill-defined and being set to 0.0 in labels with no predicted samples. Use `zero_division` parameter to control this behavior.\n",
      "  _warn_prf(average, modifier, msg_start, len(result))\n",
      "C:\\Users\\ravic\\anaconda3\\lib\\site-packages\\sklearn\\metrics\\_classification.py:1248: UndefinedMetricWarning: Precision and F-score are ill-defined and being set to 0.0 in labels with no predicted samples. Use `zero_division` parameter to control this behavior.\n",
      "  _warn_prf(average, modifier, msg_start, len(result))\n"
     ]
    }
   ],
   "source": [
    "#classification report\n",
    "y_predict = svm_si.fit(Ftrain, Ltrain).predict(Ftest)\n",
    "class_names = target.unique()\n",
    "print(classification_report(Ltest, y_predict, target_names=class_names))\n",
    "print(confusion_matrix(Ltest, y_predict))"
   ]
  },
  {
   "cell_type": "markdown",
   "id": "5a175c93",
   "metadata": {},
   "source": [
    "# Bernouli Naive bayes on Red data"
   ]
  },
  {
   "cell_type": "code",
   "execution_count": 42,
   "id": "d65fa897",
   "metadata": {},
   "outputs": [
    {
     "data": {
      "text/plain": [
       "0.14649122807017545"
      ]
     },
     "execution_count": 42,
     "metadata": {},
     "output_type": "execute_result"
    }
   ],
   "source": [
    "bnb.fit(Ftrain, Ltrain)\n",
    "y_pred = bnb.predict(Ftest)\n",
    "metrics.accuracy_score(Ltest, y_pred)"
   ]
  },
  {
   "cell_type": "code",
   "execution_count": 43,
   "id": "bdadbf8a",
   "metadata": {},
   "outputs": [
    {
     "name": "stdout",
     "output_type": "stream",
     "text": [
      "                               precision    recall  f1-score   support\n",
      "\n",
      "               bacterial_spot       0.13      1.00      0.23       115\n",
      "                 early_blight       0.30      0.05      0.09       120\n",
      "                      healthy       0.07      0.02      0.03       125\n",
      "                  late_blight       0.80      0.03      0.06       125\n",
      "                    leaf_mold       0.34      0.10      0.16       127\n",
      "           septoria_leaf_spot       0.06      0.02      0.03       117\n",
      "                  target_spot       0.28      0.08      0.12       115\n",
      "          tomato_mosaic_virus       0.09      0.02      0.03        54\n",
      "tomato_yellow_leaf_curl_virus       0.25      0.09      0.13       114\n",
      "      two-spotted_spider_mite       0.20      0.04      0.07       128\n",
      "\n",
      "                     accuracy                           0.15      1140\n",
      "                    macro avg       0.25      0.14      0.09      1140\n",
      "                 weighted avg       0.26      0.15      0.10      1140\n",
      "\n",
      "[[115   0   0   0   0   0   0   0   0   0]\n",
      " [ 88   6   4   0   5   7   4   2   1   3]\n",
      " [108   0   2   0   1   3   3   2   4   2]\n",
      " [103   1   5   4   3   4   1   1   2   1]\n",
      " [ 76   5   4   1  13  12   6   1   7   2]\n",
      " [ 93   2   5   0   7   2   0   2   3   3]\n",
      " [ 76   3   4   0   5   4   9   1   7   6]\n",
      " [ 39   2   4   0   1   1   0   1   4   2]\n",
      " [ 98   1   0   0   0   1   3   0  10   1]\n",
      " [111   0   0   0   3   0   6   1   2   5]]\n"
     ]
    }
   ],
   "source": [
    "class_names = target.unique()\n",
    "print(classification_report(Ltest, y_pred, target_names=class_names))\n",
    "print(confusion_matrix(Ltest, y_pred))"
   ]
  },
  {
   "cell_type": "markdown",
   "id": "39255a27",
   "metadata": {},
   "source": [
    "# Multinomial Naive bayes on Red data"
   ]
  },
  {
   "cell_type": "code",
   "execution_count": 44,
   "id": "437843bc",
   "metadata": {},
   "outputs": [
    {
     "data": {
      "text/plain": [
       "0.14649122807017545"
      ]
     },
     "execution_count": 44,
     "metadata": {},
     "output_type": "execute_result"
    }
   ],
   "source": [
    "mnb.fit(Ftrain, Ltrain)\n",
    "y_pred = mnb.predict(Ftest)\n",
    "metrics.accuracy_score(Ltest, y_pred)"
   ]
  },
  {
   "cell_type": "code",
   "execution_count": 45,
   "id": "2bcb0431",
   "metadata": {},
   "outputs": [
    {
     "name": "stdout",
     "output_type": "stream",
     "text": [
      "                               precision    recall  f1-score   support\n",
      "\n",
      "               bacterial_spot       0.13      1.00      0.23       115\n",
      "                 early_blight       0.30      0.05      0.09       120\n",
      "                      healthy       0.07      0.02      0.03       125\n",
      "                  late_blight       0.80      0.03      0.06       125\n",
      "                    leaf_mold       0.34      0.10      0.16       127\n",
      "           septoria_leaf_spot       0.06      0.02      0.03       117\n",
      "                  target_spot       0.28      0.08      0.12       115\n",
      "          tomato_mosaic_virus       0.09      0.02      0.03        54\n",
      "tomato_yellow_leaf_curl_virus       0.25      0.09      0.13       114\n",
      "      two-spotted_spider_mite       0.20      0.04      0.07       128\n",
      "\n",
      "                     accuracy                           0.15      1140\n",
      "                    macro avg       0.25      0.14      0.09      1140\n",
      "                 weighted avg       0.26      0.15      0.10      1140\n",
      "\n",
      "[[115   0   0   0   0   0   0   0   0   0]\n",
      " [ 88   6   4   0   5   7   4   2   1   3]\n",
      " [108   0   2   0   1   3   3   2   4   2]\n",
      " [103   1   5   4   3   4   1   1   2   1]\n",
      " [ 76   5   4   1  13  12   6   1   7   2]\n",
      " [ 93   2   5   0   7   2   0   2   3   3]\n",
      " [ 76   3   4   0   5   4   9   1   7   6]\n",
      " [ 39   2   4   0   1   1   0   1   4   2]\n",
      " [ 98   1   0   0   0   1   3   0  10   1]\n",
      " [111   0   0   0   3   0   6   1   2   5]]\n"
     ]
    }
   ],
   "source": [
    "class_names = target.unique()\n",
    "print(classification_report(Ltest, y_pred, target_names=class_names))\n",
    "print(confusion_matrix(Ltest, y_pred))"
   ]
  },
  {
   "cell_type": "markdown",
   "id": "11e4cd00",
   "metadata": {},
   "source": [
    "# Green channel data"
   ]
  },
  {
   "cell_type": "code",
   "execution_count": 46,
   "id": "40feb467",
   "metadata": {},
   "outputs": [],
   "source": [
    "#reading numpy array data\n",
    "green_test = np.load('green_data.npy')\n",
    "#reading csv file\n",
    "green_df = pd.read_csv('green_data.csv')\n",
    "#assigning features and target to split the data\n",
    "features = pd.DataFrame(green_test)\n",
    "features = features.values\n",
    "target = green_df['disease']\n",
    "#splitting the data to train and test\n",
    "Ftrain,Ftest,Ltrain,Ltest=train_test_split(features,target, test_size=0.20, random_state=24)"
   ]
  },
  {
   "cell_type": "code",
   "execution_count": 47,
   "id": "f51b311e",
   "metadata": {},
   "outputs": [],
   "source": [
    "#applying normalizer scale on Ftrain and Ftest\n",
    "Ftrain = norm.fit_transform(Ftrain)\n",
    "Ftest = norm.fit_transform(Ftest)"
   ]
  },
  {
   "cell_type": "markdown",
   "id": "9aa0bc22",
   "metadata": {},
   "source": [
    "# SVM(poly) on green data"
   ]
  },
  {
   "cell_type": "code",
   "execution_count": 48,
   "id": "fe39c65e",
   "metadata": {},
   "outputs": [
    {
     "name": "stdout",
     "output_type": "stream",
     "text": [
      "0.49912280701754386\n"
     ]
    }
   ],
   "source": [
    "svm_poly.fit(Ftrain,Ltrain)\n",
    "y_pred = svm_poly.predict(Ftest)\n",
    "print(accuracy_score(Ltest,y_pred))"
   ]
  },
  {
   "cell_type": "code",
   "execution_count": 49,
   "id": "8423b846",
   "metadata": {},
   "outputs": [
    {
     "name": "stdout",
     "output_type": "stream",
     "text": [
      "                               precision    recall  f1-score   support\n",
      "\n",
      "               bacterial_spot       0.56      0.64      0.60       115\n",
      "                 early_blight       0.40      0.44      0.42       120\n",
      "                      healthy       0.65      0.64      0.64       125\n",
      "                  late_blight       0.46      0.55      0.50       125\n",
      "                    leaf_mold       0.48      0.52      0.50       127\n",
      "           septoria_leaf_spot       0.38      0.26      0.31       117\n",
      "                  target_spot       0.47      0.50      0.48       115\n",
      "          tomato_mosaic_virus       0.48      0.41      0.44        54\n",
      "tomato_yellow_leaf_curl_virus       0.55      0.50      0.53       114\n",
      "      two-spotted_spider_mite       0.54      0.48      0.50       128\n",
      "\n",
      "                     accuracy                           0.50      1140\n",
      "                    macro avg       0.50      0.49      0.49      1140\n",
      "                 weighted avg       0.50      0.50      0.50      1140\n",
      "\n",
      "[[74  8  7  3  3  5  3  1  8  3]\n",
      " [13 53  3  8 12  1 16  0  5  9]\n",
      " [ 2  4 80  9  7  6 10  1  1  5]\n",
      " [ 8 15  5 69  7  9  2  1  5  4]\n",
      " [ 2 10  4 21 66  5  6  2  8  3]\n",
      " [12  9 13 17 15 30  8  5  7  1]\n",
      " [ 4 10  5  5  7  5 57  1  3 18]\n",
      " [ 3  4  2  4  6  7  1 22  1  4]\n",
      " [ 9  6  1 12  8  8  5  2 57  6]\n",
      " [ 4 15  4  3  6  3 13 11  8 61]]\n"
     ]
    }
   ],
   "source": [
    "#classification report\n",
    "y_predict = svm_poly.fit(Ftrain, Ltrain).predict(Ftest)\n",
    "class_names = target.unique()\n",
    "print(classification_report(Ltest, y_predict, target_names=class_names))\n",
    "print(confusion_matrix(Ltest, y_predict))"
   ]
  },
  {
   "cell_type": "markdown",
   "id": "6112d4e4",
   "metadata": {},
   "source": [
    "# SVM(RBF) on green data"
   ]
  },
  {
   "cell_type": "code",
   "execution_count": 50,
   "id": "69be936f",
   "metadata": {},
   "outputs": [
    {
     "name": "stdout",
     "output_type": "stream",
     "text": [
      "0.5745614035087719\n"
     ]
    }
   ],
   "source": [
    "svm_rbf.fit(Ftrain,Ltrain)\n",
    "y_pred = svm_rbf.predict(Ftest)\n",
    "print(accuracy_score(Ltest,y_pred))"
   ]
  },
  {
   "cell_type": "code",
   "execution_count": 51,
   "id": "81b4c571",
   "metadata": {},
   "outputs": [
    {
     "name": "stdout",
     "output_type": "stream",
     "text": [
      "                               precision    recall  f1-score   support\n",
      "\n",
      "               bacterial_spot       0.67      0.59      0.63       115\n",
      "                 early_blight       0.42      0.42      0.42       120\n",
      "                      healthy       0.67      0.78      0.72       125\n",
      "                  late_blight       0.63      0.58      0.60       125\n",
      "                    leaf_mold       0.61      0.62      0.62       127\n",
      "           septoria_leaf_spot       0.42      0.44      0.43       117\n",
      "                  target_spot       0.61      0.59      0.60       115\n",
      "          tomato_mosaic_virus       0.50      0.52      0.51        54\n",
      "tomato_yellow_leaf_curl_virus       0.55      0.57      0.56       114\n",
      "      two-spotted_spider_mite       0.61      0.59      0.60       128\n",
      "\n",
      "                     accuracy                           0.57      1140\n",
      "                    macro avg       0.57      0.57      0.57      1140\n",
      "                 weighted avg       0.58      0.57      0.57      1140\n",
      "\n",
      "[[68  5  9  2  6 11  1  2  9  2]\n",
      " [16 50  3 11  9  7  7  1  6 10]\n",
      " [ 1  2 97  4  2 12  5  0  2  0]\n",
      " [ 4 12  6 72  7 10  3  1  8  2]\n",
      " [ 1  7  4 12 79  7  6  3  4  4]\n",
      " [ 3  6 13  4 14 52  7  5 11  2]\n",
      " [ 2 14  6  3  2  3 68  1  2 14]\n",
      " [ 0  1  0  1  3  9  0 28  6  6]\n",
      " [ 5  8  4  5  2  8  5  4 65  8]\n",
      " [ 1 13  2  0  5  5 10 11  5 76]]\n"
     ]
    }
   ],
   "source": [
    "#classification report\n",
    "y_predict = svm_rbf.fit(Ftrain, Ltrain).predict(Ftest)\n",
    "class_names = target.unique()\n",
    "print(classification_report(Ltest, y_predict, target_names=class_names))\n",
    "print(confusion_matrix(Ltest, y_predict))"
   ]
  },
  {
   "cell_type": "markdown",
   "id": "662d1937",
   "metadata": {},
   "source": [
    "# SVM(sigmoid) on green data"
   ]
  },
  {
   "cell_type": "code",
   "execution_count": 52,
   "id": "7f6adcca",
   "metadata": {},
   "outputs": [
    {
     "name": "stdout",
     "output_type": "stream",
     "text": [
      "0.1\n"
     ]
    }
   ],
   "source": [
    "svm_si.fit(Ftrain,Ltrain)\n",
    "y_pred = svm_si.predict(Ftest)\n",
    "print(accuracy_score(Ltest,y_pred))"
   ]
  },
  {
   "cell_type": "code",
   "execution_count": 53,
   "id": "251d68f3",
   "metadata": {},
   "outputs": [
    {
     "name": "stdout",
     "output_type": "stream",
     "text": [
      "                               precision    recall  f1-score   support\n",
      "\n",
      "               bacterial_spot       0.00      0.00      0.00       115\n",
      "                 early_blight       0.00      0.00      0.00       120\n",
      "                      healthy       0.00      0.00      0.00       125\n",
      "                  late_blight       0.00      0.00      0.00       125\n",
      "                    leaf_mold       0.00      0.00      0.00       127\n",
      "           septoria_leaf_spot       0.00      0.00      0.00       117\n",
      "                  target_spot       0.00      0.00      0.00       115\n",
      "          tomato_mosaic_virus       0.00      0.00      0.00        54\n",
      "tomato_yellow_leaf_curl_virus       0.10      1.00      0.18       114\n",
      "      two-spotted_spider_mite       0.00      0.00      0.00       128\n",
      "\n",
      "                     accuracy                           0.10      1140\n",
      "                    macro avg       0.01      0.10      0.02      1140\n",
      "                 weighted avg       0.01      0.10      0.02      1140\n",
      "\n",
      "[[  0   0   0   0   0   0   0   0 115   0]\n",
      " [  0   0   0   0   0   0   0   0 120   0]\n",
      " [  0   0   0   0   0   0   0   0 125   0]\n",
      " [  0   0   0   0   0   0   0   0 125   0]\n",
      " [  0   0   0   0   0   0   0   0 127   0]\n",
      " [  0   0   0   0   0   0   0   0 117   0]\n",
      " [  0   0   0   0   0   0   0   0 115   0]\n",
      " [  0   0   0   0   0   0   0   0  54   0]\n",
      " [  0   0   0   0   0   0   0   0 114   0]\n",
      " [  0   0   0   0   0   0   0   0 128   0]]\n"
     ]
    },
    {
     "name": "stderr",
     "output_type": "stream",
     "text": [
      "C:\\Users\\ravic\\anaconda3\\lib\\site-packages\\sklearn\\metrics\\_classification.py:1248: UndefinedMetricWarning: Precision and F-score are ill-defined and being set to 0.0 in labels with no predicted samples. Use `zero_division` parameter to control this behavior.\n",
      "  _warn_prf(average, modifier, msg_start, len(result))\n",
      "C:\\Users\\ravic\\anaconda3\\lib\\site-packages\\sklearn\\metrics\\_classification.py:1248: UndefinedMetricWarning: Precision and F-score are ill-defined and being set to 0.0 in labels with no predicted samples. Use `zero_division` parameter to control this behavior.\n",
      "  _warn_prf(average, modifier, msg_start, len(result))\n",
      "C:\\Users\\ravic\\anaconda3\\lib\\site-packages\\sklearn\\metrics\\_classification.py:1248: UndefinedMetricWarning: Precision and F-score are ill-defined and being set to 0.0 in labels with no predicted samples. Use `zero_division` parameter to control this behavior.\n",
      "  _warn_prf(average, modifier, msg_start, len(result))\n"
     ]
    }
   ],
   "source": [
    "#classification report\n",
    "y_predict = svm_si.fit(Ftrain, Ltrain).predict(Ftest)\n",
    "class_names = target.unique()\n",
    "print(classification_report(Ltest, y_predict, target_names=class_names))\n",
    "print(confusion_matrix(Ltest, y_predict))"
   ]
  },
  {
   "cell_type": "markdown",
   "id": "8aa412dd",
   "metadata": {},
   "source": [
    "# Bernouli Naive bayes on green data"
   ]
  },
  {
   "cell_type": "code",
   "execution_count": 54,
   "id": "b6622b8d",
   "metadata": {},
   "outputs": [
    {
     "data": {
      "text/plain": [
       "0.1368421052631579"
      ]
     },
     "execution_count": 54,
     "metadata": {},
     "output_type": "execute_result"
    }
   ],
   "source": [
    "bnb.fit(Ftrain, Ltrain)\n",
    "y_pred = bnb.predict(Ftest)\n",
    "metrics.accuracy_score(Ltest, y_pred)"
   ]
  },
  {
   "cell_type": "code",
   "execution_count": 55,
   "id": "f3c6b16f",
   "metadata": {},
   "outputs": [
    {
     "name": "stdout",
     "output_type": "stream",
     "text": [
      "                               precision    recall  f1-score   support\n",
      "\n",
      "               bacterial_spot       0.11      1.00      0.20       115\n",
      "                 early_blight       0.65      0.14      0.23       120\n",
      "                      healthy       0.27      0.05      0.08       125\n",
      "                  late_blight       0.80      0.03      0.06       125\n",
      "                    leaf_mold       0.37      0.11      0.17       127\n",
      "           septoria_leaf_spot       0.00      0.00      0.00       117\n",
      "                  target_spot       0.00      0.00      0.00       115\n",
      "          tomato_mosaic_virus       0.00      0.00      0.00        54\n",
      "tomato_yellow_leaf_curl_virus       0.00      0.00      0.00       114\n",
      "      two-spotted_spider_mite       0.00      0.00      0.00       128\n",
      "\n",
      "                     accuracy                           0.14      1140\n",
      "                    macro avg       0.22      0.13      0.08      1140\n",
      "                 weighted avg       0.24      0.14      0.08      1140\n",
      "\n",
      "[[115   0   0   0   0   0   0   0   0   0]\n",
      " [ 81  17   0   1  10   6   2   3   0   0]\n",
      " [107   2   6   0   3   5   2   0   0   0]\n",
      " [105   1   4   4   4   3   0   2   1   1]\n",
      " [ 99   3   4   0  14   5   0   1   1   0]\n",
      " [107   2   4   0   3   0   1   0   0   0]\n",
      " [112   0   1   0   0   2   0   0   0   0]\n",
      " [ 44   1   2   0   3   1   1   0   2   0]\n",
      " [113   0   0   0   1   0   0   0   0   0]\n",
      " [126   0   1   0   0   1   0   0   0   0]]\n"
     ]
    }
   ],
   "source": [
    "class_names = target.unique()\n",
    "print(classification_report(Ltest, y_pred, target_names=class_names))\n",
    "print(confusion_matrix(Ltest, y_pred))"
   ]
  },
  {
   "cell_type": "markdown",
   "id": "d144692e",
   "metadata": {},
   "source": [
    "# Multinomial Naive bayes on Green data"
   ]
  },
  {
   "cell_type": "code",
   "execution_count": 56,
   "id": "a7a34c33",
   "metadata": {},
   "outputs": [
    {
     "data": {
      "text/plain": [
       "0.1368421052631579"
      ]
     },
     "execution_count": 56,
     "metadata": {},
     "output_type": "execute_result"
    }
   ],
   "source": [
    "mnb.fit(Ftrain, Ltrain)\n",
    "y_pred = mnb.predict(Ftest)\n",
    "metrics.accuracy_score(Ltest, y_pred)"
   ]
  },
  {
   "cell_type": "code",
   "execution_count": 57,
   "id": "441ea45d",
   "metadata": {},
   "outputs": [
    {
     "name": "stdout",
     "output_type": "stream",
     "text": [
      "                               precision    recall  f1-score   support\n",
      "\n",
      "               bacterial_spot       0.11      1.00      0.20       115\n",
      "                 early_blight       0.65      0.14      0.23       120\n",
      "                      healthy       0.27      0.05      0.08       125\n",
      "                  late_blight       0.80      0.03      0.06       125\n",
      "                    leaf_mold       0.37      0.11      0.17       127\n",
      "           septoria_leaf_spot       0.00      0.00      0.00       117\n",
      "                  target_spot       0.00      0.00      0.00       115\n",
      "          tomato_mosaic_virus       0.00      0.00      0.00        54\n",
      "tomato_yellow_leaf_curl_virus       0.00      0.00      0.00       114\n",
      "      two-spotted_spider_mite       0.00      0.00      0.00       128\n",
      "\n",
      "                     accuracy                           0.14      1140\n",
      "                    macro avg       0.22      0.13      0.08      1140\n",
      "                 weighted avg       0.24      0.14      0.08      1140\n",
      "\n",
      "[[115   0   0   0   0   0   0   0   0   0]\n",
      " [ 81  17   0   1  10   6   2   3   0   0]\n",
      " [107   2   6   0   3   5   2   0   0   0]\n",
      " [105   1   4   4   4   3   0   2   1   1]\n",
      " [ 99   3   4   0  14   5   0   1   1   0]\n",
      " [107   2   4   0   3   0   1   0   0   0]\n",
      " [112   0   1   0   0   2   0   0   0   0]\n",
      " [ 44   1   2   0   3   1   1   0   2   0]\n",
      " [113   0   0   0   1   0   0   0   0   0]\n",
      " [126   0   1   0   0   1   0   0   0   0]]\n"
     ]
    }
   ],
   "source": [
    "class_names = target.unique()\n",
    "print(classification_report(Ltest, y_pred, target_names=class_names))\n",
    "print(confusion_matrix(Ltest, y_pred))"
   ]
  },
  {
   "cell_type": "markdown",
   "id": "a6a80ecb",
   "metadata": {},
   "source": [
    "# Blue channel data"
   ]
  },
  {
   "cell_type": "code",
   "execution_count": 58,
   "id": "06094596",
   "metadata": {},
   "outputs": [],
   "source": [
    "#reading numpy array data\n",
    "blue_test = np.load('blue_data.npy')\n",
    "#reading csv file\n",
    "blue_df = pd.read_csv('blue_data.csv')\n",
    "#assigning features and target to split the data\n",
    "features = pd.DataFrame(blue_test)\n",
    "features = features.values\n",
    "target = blue_df['disease']\n",
    "#splitting the data to train and test\n",
    "Ftrain,Ftest,Ltrain,Ltest=train_test_split(features,target, test_size=0.20, random_state=24)"
   ]
  },
  {
   "cell_type": "code",
   "execution_count": 59,
   "id": "b6b2ea4c",
   "metadata": {},
   "outputs": [],
   "source": [
    "#applying normalizer scale on Ftrain and Ftest\n",
    "Ftrain = norm.fit_transform(Ftrain)\n",
    "Ftest = norm.fit_transform(Ftest)"
   ]
  },
  {
   "cell_type": "markdown",
   "id": "4d40997b",
   "metadata": {},
   "source": [
    "# SVM(poly) on blue data"
   ]
  },
  {
   "cell_type": "code",
   "execution_count": 60,
   "id": "39b88095",
   "metadata": {},
   "outputs": [
    {
     "name": "stdout",
     "output_type": "stream",
     "text": [
      "0.5289473684210526\n"
     ]
    }
   ],
   "source": [
    "svm_poly.fit(Ftrain,Ltrain)\n",
    "y_pred = svm_poly.predict(Ftest)\n",
    "print(accuracy_score(Ltest,y_pred))"
   ]
  },
  {
   "cell_type": "code",
   "execution_count": 61,
   "id": "dc98d740",
   "metadata": {},
   "outputs": [
    {
     "name": "stdout",
     "output_type": "stream",
     "text": [
      "                               precision    recall  f1-score   support\n",
      "\n",
      "               bacterial_spot       0.53      0.70      0.61       115\n",
      "                 early_blight       0.33      0.37      0.35       120\n",
      "                      healthy       0.81      0.70      0.75       125\n",
      "                  late_blight       0.52      0.66      0.58       125\n",
      "                    leaf_mold       0.62      0.59      0.60       127\n",
      "           septoria_leaf_spot       0.38      0.32      0.35       117\n",
      "                  target_spot       0.39      0.36      0.37       115\n",
      "          tomato_mosaic_virus       0.43      0.54      0.48        54\n",
      "tomato_yellow_leaf_curl_virus       0.67      0.59      0.63       114\n",
      "      two-spotted_spider_mite       0.61      0.46      0.52       128\n",
      "\n",
      "                     accuracy                           0.53      1140\n",
      "                    macro avg       0.53      0.53      0.52      1140\n",
      "                 weighted avg       0.54      0.53      0.53      1140\n",
      "\n",
      "[[81  7  1  5  2 10  4  0  4  1]\n",
      " [13 44  4 14  6  6 12  2 13  6]\n",
      " [ 5  6 87  6  1  2 15  0  0  3]\n",
      " [ 7 14  3 82  5  7  2  2  0  3]\n",
      " [ 4 10  0 12 75  9  1  8  3  5]\n",
      " [13 13  3 13 15 38  4  7  8  3]\n",
      " [17 20  7  6  6  6 41  1  1 10]\n",
      " [ 0  1  0  8  1  8  3 29  1  3]\n",
      " [ 6  9  0  8  4 11  0  5 67  4]\n",
      " [ 6 10  2  4  6  3 22 13  3 59]]\n"
     ]
    }
   ],
   "source": [
    "#classification report\n",
    "y_predict = svm_poly.fit(Ftrain, Ltrain).predict(Ftest)\n",
    "class_names = target.unique()\n",
    "print(classification_report(Ltest, y_predict, target_names=class_names))\n",
    "print(confusion_matrix(Ltest, y_predict))"
   ]
  },
  {
   "cell_type": "markdown",
   "id": "5226f4f2",
   "metadata": {},
   "source": [
    "# SVM(RBF) on blue data"
   ]
  },
  {
   "cell_type": "code",
   "execution_count": 62,
   "id": "183a5680",
   "metadata": {},
   "outputs": [
    {
     "name": "stdout",
     "output_type": "stream",
     "text": [
      "0.5842105263157895\n"
     ]
    }
   ],
   "source": [
    "svm_rbf.fit(Ftrain,Ltrain)\n",
    "y_pred = svm_rbf.predict(Ftest)\n",
    "print(accuracy_score(Ltest,y_pred))"
   ]
  },
  {
   "cell_type": "code",
   "execution_count": 63,
   "id": "22270861",
   "metadata": {},
   "outputs": [
    {
     "name": "stdout",
     "output_type": "stream",
     "text": [
      "                               precision    recall  f1-score   support\n",
      "\n",
      "               bacterial_spot       0.56      0.68      0.61       115\n",
      "                 early_blight       0.39      0.37      0.38       120\n",
      "                      healthy       0.78      0.85      0.81       125\n",
      "                  late_blight       0.68      0.61      0.64       125\n",
      "                    leaf_mold       0.65      0.57      0.61       127\n",
      "           septoria_leaf_spot       0.43      0.31      0.36       117\n",
      "                  target_spot       0.55      0.56      0.55       115\n",
      "          tomato_mosaic_virus       0.47      0.67      0.55        54\n",
      "tomato_yellow_leaf_curl_virus       0.66      0.69      0.68       114\n",
      "      two-spotted_spider_mite       0.56      0.59      0.57       128\n",
      "\n",
      "                     accuracy                           0.58      1140\n",
      "                    macro avg       0.57      0.59      0.58      1140\n",
      "                 weighted avg       0.58      0.58      0.58      1140\n",
      "\n",
      "[[ 78   2   4   5   3   6   4   1   6   6]\n",
      " [ 15  44   5   9   7  10   9   1  12   8]\n",
      " [  0   4 106   1   1   0  12   0   0   1]\n",
      " [  5  15   8  76   6   7   2   3   1   2]\n",
      " [  7   7   0  11  72   9   5   3   2  11]\n",
      " [ 17   6   3   5  14  36   4  11  13   8]\n",
      " [ 10  15   9   1   2   2  64   2   0  10]\n",
      " [  0   1   0   1   4   4   0  36   3   5]\n",
      " [  6   8   1   2   1   5   0   5  79   7]\n",
      " [  1  11   0   1   1   4  17  15   3  75]]\n"
     ]
    }
   ],
   "source": [
    "#classification report\n",
    "y_predict = svm_rbf.fit(Ftrain, Ltrain).predict(Ftest)\n",
    "class_names = target.unique()\n",
    "print(classification_report(Ltest, y_predict, target_names=class_names))\n",
    "print(confusion_matrix(Ltest, y_predict))"
   ]
  },
  {
   "cell_type": "markdown",
   "id": "09f47e7e",
   "metadata": {},
   "source": [
    "# SVM(sigmoid) on blue data"
   ]
  },
  {
   "cell_type": "code",
   "execution_count": 64,
   "id": "4401c844",
   "metadata": {},
   "outputs": [
    {
     "name": "stdout",
     "output_type": "stream",
     "text": [
      "0.1\n"
     ]
    }
   ],
   "source": [
    "svm_si.fit(Ftrain,Ltrain)\n",
    "y_pred = svm_si.predict(Ftest)\n",
    "print(accuracy_score(Ltest,y_pred))"
   ]
  },
  {
   "cell_type": "code",
   "execution_count": 65,
   "id": "4372e59f",
   "metadata": {},
   "outputs": [
    {
     "name": "stdout",
     "output_type": "stream",
     "text": [
      "                               precision    recall  f1-score   support\n",
      "\n",
      "               bacterial_spot       0.00      0.00      0.00       115\n",
      "                 early_blight       0.00      0.00      0.00       120\n",
      "                      healthy       0.00      0.00      0.00       125\n",
      "                  late_blight       0.00      0.00      0.00       125\n",
      "                    leaf_mold       0.00      0.00      0.00       127\n",
      "           septoria_leaf_spot       0.00      0.00      0.00       117\n",
      "                  target_spot       0.00      0.00      0.00       115\n",
      "          tomato_mosaic_virus       0.00      0.00      0.00        54\n",
      "tomato_yellow_leaf_curl_virus       0.10      1.00      0.18       114\n",
      "      two-spotted_spider_mite       0.00      0.00      0.00       128\n",
      "\n",
      "                     accuracy                           0.10      1140\n",
      "                    macro avg       0.01      0.10      0.02      1140\n",
      "                 weighted avg       0.01      0.10      0.02      1140\n",
      "\n",
      "[[  0   0   0   0   0   0   0   0 115   0]\n",
      " [  0   0   0   0   0   0   0   0 120   0]\n",
      " [  0   0   0   0   0   0   0   0 125   0]\n",
      " [  0   0   2   0   0   0   2   0 121   0]\n",
      " [  0   0   0   0   0   0   0   0 127   0]\n",
      " [  0   0   0   0   0   0   0   0 117   0]\n",
      " [  0   0   0   0   0   0   0   0 115   0]\n",
      " [  0   0   0   0   0   0   0   0  54   0]\n",
      " [  0   0   0   0   0   0   0   0 114   0]\n",
      " [  0   0   0   0   0   0   0   0 128   0]]\n"
     ]
    },
    {
     "name": "stderr",
     "output_type": "stream",
     "text": [
      "C:\\Users\\ravic\\anaconda3\\lib\\site-packages\\sklearn\\metrics\\_classification.py:1248: UndefinedMetricWarning: Precision and F-score are ill-defined and being set to 0.0 in labels with no predicted samples. Use `zero_division` parameter to control this behavior.\n",
      "  _warn_prf(average, modifier, msg_start, len(result))\n",
      "C:\\Users\\ravic\\anaconda3\\lib\\site-packages\\sklearn\\metrics\\_classification.py:1248: UndefinedMetricWarning: Precision and F-score are ill-defined and being set to 0.0 in labels with no predicted samples. Use `zero_division` parameter to control this behavior.\n",
      "  _warn_prf(average, modifier, msg_start, len(result))\n",
      "C:\\Users\\ravic\\anaconda3\\lib\\site-packages\\sklearn\\metrics\\_classification.py:1248: UndefinedMetricWarning: Precision and F-score are ill-defined and being set to 0.0 in labels with no predicted samples. Use `zero_division` parameter to control this behavior.\n",
      "  _warn_prf(average, modifier, msg_start, len(result))\n"
     ]
    }
   ],
   "source": [
    "#classification report\n",
    "y_predict = svm_si.fit(Ftrain, Ltrain).predict(Ftest)\n",
    "class_names = target.unique()\n",
    "print(classification_report(Ltest, y_predict, target_names=class_names))\n",
    "print(confusion_matrix(Ltest, y_predict))"
   ]
  },
  {
   "cell_type": "markdown",
   "id": "7401f4ab",
   "metadata": {},
   "source": [
    "# Bernouli Naive bayes on blue data"
   ]
  },
  {
   "cell_type": "code",
   "execution_count": 66,
   "id": "a8ddf84b",
   "metadata": {},
   "outputs": [
    {
     "data": {
      "text/plain": [
       "0.23421052631578948"
      ]
     },
     "execution_count": 66,
     "metadata": {},
     "output_type": "execute_result"
    }
   ],
   "source": [
    "bnb.fit(Ftrain, Ltrain)\n",
    "y_pred = bnb.predict(Ftest)\n",
    "metrics.accuracy_score(Ltest, y_pred)"
   ]
  },
  {
   "cell_type": "code",
   "execution_count": 67,
   "id": "944621bd",
   "metadata": {},
   "outputs": [
    {
     "name": "stdout",
     "output_type": "stream",
     "text": [
      "                               precision    recall  f1-score   support\n",
      "\n",
      "               bacterial_spot       0.17      0.92      0.29       115\n",
      "                 early_blight       0.21      0.08      0.12       120\n",
      "                      healthy       0.28      0.14      0.19       125\n",
      "                  late_blight       0.42      0.10      0.17       125\n",
      "                    leaf_mold       0.39      0.20      0.27       127\n",
      "           septoria_leaf_spot       0.16      0.05      0.08       117\n",
      "                  target_spot       0.19      0.10      0.13       115\n",
      "          tomato_mosaic_virus       0.11      0.02      0.03        54\n",
      "tomato_yellow_leaf_curl_virus       0.47      0.49      0.48       114\n",
      "      two-spotted_spider_mite       0.24      0.16      0.19       128\n",
      "\n",
      "                     accuracy                           0.23      1140\n",
      "                    macro avg       0.26      0.23      0.19      1140\n",
      "                 weighted avg       0.27      0.23      0.20      1140\n",
      "\n",
      "[[106   0   2   0   1   0   3   0   0   3]\n",
      " [ 53  10   7  15   9   5   3   1  14   3]\n",
      " [ 75   1  18   0   7   7   5   0   1  11]\n",
      " [ 82   8   5  13   2   1   1   2   9   2]\n",
      " [ 61   5   3   3  26   5   6   0  11   7]\n",
      " [ 69   6   3   0   9   6   6   1   6  11]\n",
      " [ 63   5  10   0   8   3  11   0   7   8]\n",
      " [ 38   1   2   0   0   2   3   1   2   5]\n",
      " [ 23   5   4   0   2   4   4   2  56  14]\n",
      " [ 55   6  11   0   2   4  15   2  13  20]]\n"
     ]
    }
   ],
   "source": [
    "class_names = target.unique()\n",
    "print(classification_report(Ltest, y_pred, target_names=class_names))\n",
    "print(confusion_matrix(Ltest, y_pred))"
   ]
  },
  {
   "cell_type": "markdown",
   "id": "cbf0037b",
   "metadata": {},
   "source": [
    "# Multinomial Naive bayes on blue data"
   ]
  },
  {
   "cell_type": "code",
   "execution_count": 68,
   "id": "050a9f46",
   "metadata": {},
   "outputs": [
    {
     "data": {
      "text/plain": [
       "0.23421052631578948"
      ]
     },
     "execution_count": 68,
     "metadata": {},
     "output_type": "execute_result"
    }
   ],
   "source": [
    "mnb.fit(Ftrain, Ltrain)\n",
    "y_pred = mnb.predict(Ftest)\n",
    "metrics.accuracy_score(Ltest, y_pred)"
   ]
  },
  {
   "cell_type": "code",
   "execution_count": 69,
   "id": "9a916b04",
   "metadata": {},
   "outputs": [
    {
     "name": "stdout",
     "output_type": "stream",
     "text": [
      "                               precision    recall  f1-score   support\n",
      "\n",
      "               bacterial_spot       0.17      0.92      0.29       115\n",
      "                 early_blight       0.21      0.08      0.12       120\n",
      "                      healthy       0.28      0.14      0.19       125\n",
      "                  late_blight       0.42      0.10      0.17       125\n",
      "                    leaf_mold       0.39      0.20      0.27       127\n",
      "           septoria_leaf_spot       0.16      0.05      0.08       117\n",
      "                  target_spot       0.19      0.10      0.13       115\n",
      "          tomato_mosaic_virus       0.11      0.02      0.03        54\n",
      "tomato_yellow_leaf_curl_virus       0.47      0.49      0.48       114\n",
      "      two-spotted_spider_mite       0.24      0.16      0.19       128\n",
      "\n",
      "                     accuracy                           0.23      1140\n",
      "                    macro avg       0.26      0.23      0.19      1140\n",
      "                 weighted avg       0.27      0.23      0.20      1140\n",
      "\n",
      "[[106   0   2   0   1   0   3   0   0   3]\n",
      " [ 53  10   7  15   9   5   3   1  14   3]\n",
      " [ 75   1  18   0   7   7   5   0   1  11]\n",
      " [ 82   8   5  13   2   1   1   2   9   2]\n",
      " [ 61   5   3   3  26   5   6   0  11   7]\n",
      " [ 69   6   3   0   9   6   6   1   6  11]\n",
      " [ 63   5  10   0   8   3  11   0   7   8]\n",
      " [ 38   1   2   0   0   2   3   1   2   5]\n",
      " [ 23   5   4   0   2   4   4   2  56  14]\n",
      " [ 55   6  11   0   2   4  15   2  13  20]]\n"
     ]
    }
   ],
   "source": [
    "class_names = target.unique()\n",
    "print(classification_report(Ltest, y_pred, target_names=class_names))\n",
    "print(confusion_matrix(Ltest, y_pred))"
   ]
  },
  {
   "cell_type": "code",
   "execution_count": 70,
   "id": "195a0b21",
   "metadata": {},
   "outputs": [
    {
     "name": "stdout",
     "output_type": "stream",
     "text": [
      "616.2167928218842\n"
     ]
    }
   ],
   "source": [
    "end_time = time.time()\n",
    "print(end_time - start_time)"
   ]
  }
 ],
 "metadata": {
  "kernelspec": {
   "display_name": "Python 3 (ipykernel)",
   "language": "python",
   "name": "python3"
  },
  "language_info": {
   "codemirror_mode": {
    "name": "ipython",
    "version": 3
   },
   "file_extension": ".py",
   "mimetype": "text/x-python",
   "name": "python",
   "nbconvert_exporter": "python",
   "pygments_lexer": "ipython3",
   "version": "3.9.7"
  }
 },
 "nbformat": 4,
 "nbformat_minor": 5
}
