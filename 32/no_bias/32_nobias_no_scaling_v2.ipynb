{
 "cells": [
  {
   "cell_type": "code",
   "execution_count": 1,
   "id": "bcdb1517",
   "metadata": {},
   "outputs": [],
   "source": [
    "import numpy as np #importing numpy\n",
    "import pandas as pd #importing pandas\n",
    "import PIL #importing pillow for image processing\n",
    "from PIL import Image#importing image from pillow library\n",
    "import skimage#importing skimage library\n",
    "import os#importing os library\n",
    "import time#importing time library\n",
    "\n",
    "#Capture start time of the program\n",
    "start_time = time.time()"
   ]
  },
  {
   "cell_type": "code",
   "execution_count": 2,
   "id": "9ec45970",
   "metadata": {},
   "outputs": [],
   "source": [
    "#changing path\n",
    "os.chdir('D://DKIT//dissertation//Dataset_of_Tomato_Leaves//plantvillage//Preprocessed_data//32//32_no_bias_vector//')"
   ]
  },
  {
   "cell_type": "markdown",
   "id": "e1e76605",
   "metadata": {},
   "source": [
    "# RGB Data"
   ]
  },
  {
   "cell_type": "code",
   "execution_count": 3,
   "id": "9386938c",
   "metadata": {},
   "outputs": [],
   "source": [
    "#reading numpy array data\n",
    "rgb_test = np.load('rgb_data.npy')\n",
    "#reading csv file\n",
    "rgb_df = pd.read_csv('rgb_data.csv')"
   ]
  },
  {
   "cell_type": "code",
   "execution_count": 4,
   "id": "40f528b5",
   "metadata": {},
   "outputs": [],
   "source": [
    "features = pd.DataFrame(rgb_test)"
   ]
  },
  {
   "cell_type": "code",
   "execution_count": 5,
   "id": "fdd9a1f6",
   "metadata": {},
   "outputs": [],
   "source": [
    "features = features.values"
   ]
  },
  {
   "cell_type": "code",
   "execution_count": 6,
   "id": "c6d5658c",
   "metadata": {},
   "outputs": [],
   "source": [
    "#assigning target\n",
    "target = rgb_df['disease']\n",
    "#splitting the data to 80 percent and 20 percent\n",
    "from sklearn.model_selection import train_test_split\n",
    "Ftrain,Ftest,Ltrain,Ltest=train_test_split(features,target, test_size=0.20, random_state=24)"
   ]
  },
  {
   "cell_type": "code",
   "execution_count": 7,
   "id": "1fa0433e",
   "metadata": {},
   "outputs": [],
   "source": [
    "#importing classification report and confusion matrix\n",
    "from sklearn.metrics import classification_report, confusion_matrix"
   ]
  },
  {
   "cell_type": "markdown",
   "id": "d466ef5f",
   "metadata": {},
   "source": [
    "# SVM(poly) on RGB data"
   ]
  },
  {
   "cell_type": "code",
   "execution_count": 8,
   "id": "2427ed51",
   "metadata": {},
   "outputs": [
    {
     "name": "stdout",
     "output_type": "stream",
     "text": [
      "0.7228070175438597\n"
     ]
    }
   ],
   "source": [
    "from sklearn.svm import SVC\n",
    "from sklearn.metrics import accuracy_score\n",
    "\n",
    "svm_poly = SVC(kernel='poly')\n",
    "svm_poly.fit(Ftrain,Ltrain)\n",
    "y_pred = svm_poly.predict(Ftest)\n",
    "print(accuracy_score(Ltest,y_pred))"
   ]
  },
  {
   "cell_type": "code",
   "execution_count": 9,
   "id": "bf286604",
   "metadata": {},
   "outputs": [
    {
     "name": "stdout",
     "output_type": "stream",
     "text": [
      "                               precision    recall  f1-score   support\n",
      "\n",
      "               bacterial_spot       0.64      0.83      0.72       115\n",
      "                 early_blight       0.57      0.53      0.55       120\n",
      "                      healthy       0.85      0.84      0.84       125\n",
      "                  late_blight       0.71      0.72      0.72       125\n",
      "                    leaf_mold       0.78      0.75      0.76       127\n",
      "           septoria_leaf_spot       0.70      0.63      0.67       117\n",
      "                  target_spot       0.71      0.69      0.70       115\n",
      "          tomato_mosaic_virus       0.78      0.85      0.81        54\n",
      "tomato_yellow_leaf_curl_virus       0.85      0.81      0.83       114\n",
      "      two-spotted_spider_mite       0.68      0.66      0.67       128\n",
      "\n",
      "                     accuracy                           0.72      1140\n",
      "                    macro avg       0.73      0.73      0.73      1140\n",
      "                 weighted avg       0.72      0.72      0.72      1140\n",
      "\n",
      "[[ 96   6   2   4   0   0   0   0   7   0]\n",
      " [ 24  63   1   9   6   2   6   0   0   9]\n",
      " [  5   3 105   2   3   0   5   0   0   2]\n",
      " [  9  11   5  90   2   2   3   0   0   3]\n",
      " [  1   4   1   9  95  12   0   1   0   4]\n",
      " [  2   2   6   3  11  74   5   6   5   3]\n",
      " [  5  10   3   0   3   4  79   1   0  10]\n",
      " [  0   1   0   0   0   3   0  46   0   4]\n",
      " [  4   5   0   3   0   5   1   0  92   4]\n",
      " [  5   5   1   6   2   3  13   5   4  84]]\n"
     ]
    }
   ],
   "source": [
    "#classification report\n",
    "y_predict = svm_poly.fit(Ftrain, Ltrain).predict(Ftest)\n",
    "class_names = target.unique()\n",
    "print(classification_report(Ltest, y_predict, target_names=class_names))\n",
    "print(confusion_matrix(Ltest, y_predict))"
   ]
  },
  {
   "cell_type": "markdown",
   "id": "4101cb88",
   "metadata": {},
   "source": [
    "# SVM(RBF) on RGB data"
   ]
  },
  {
   "cell_type": "code",
   "execution_count": 10,
   "id": "235aaf3a",
   "metadata": {},
   "outputs": [
    {
     "name": "stdout",
     "output_type": "stream",
     "text": [
      "0.756140350877193\n"
     ]
    }
   ],
   "source": [
    "svm_rbf = SVC(kernel='rbf')\n",
    "svm_rbf.fit(Ftrain,Ltrain)\n",
    "y_pred = svm_rbf.predict(Ftest)\n",
    "print(accuracy_score(Ltest,y_pred))"
   ]
  },
  {
   "cell_type": "code",
   "execution_count": 11,
   "id": "1c7ce3a6",
   "metadata": {},
   "outputs": [
    {
     "name": "stdout",
     "output_type": "stream",
     "text": [
      "                               precision    recall  f1-score   support\n",
      "\n",
      "               bacterial_spot       0.72      0.84      0.78       115\n",
      "                 early_blight       0.58      0.51      0.54       120\n",
      "                      healthy       0.91      0.93      0.92       125\n",
      "                  late_blight       0.75      0.70      0.73       125\n",
      "                    leaf_mold       0.82      0.77      0.79       127\n",
      "           septoria_leaf_spot       0.70      0.63      0.67       117\n",
      "                  target_spot       0.71      0.72      0.72       115\n",
      "          tomato_mosaic_virus       0.75      0.89      0.81        54\n",
      "tomato_yellow_leaf_curl_virus       0.86      0.87      0.86       114\n",
      "      two-spotted_spider_mite       0.73      0.77      0.75       128\n",
      "\n",
      "                     accuracy                           0.76      1140\n",
      "                    macro avg       0.75      0.76      0.76      1140\n",
      "                 weighted avg       0.75      0.76      0.75      1140\n",
      "\n",
      "[[ 97   4   3   4   1   0   0   0   6   0]\n",
      " [ 21  61   3   9   4   3  10   0   0   9]\n",
      " [  0   1 116   2   0   1   5   0   0   0]\n",
      " [  2  11   3  88   4  10   2   0   2   3]\n",
      " [  0   2   1   5  98  13   1   2   1   4]\n",
      " [  1   2   1   6  10  74   6   6   6   5]\n",
      " [  6  11   1   0   1   2  83   1   0  10]\n",
      " [  0   2   0   0   1   1   0  48   0   2]\n",
      " [  4   2   0   3   1   1   0   1  99   3]\n",
      " [  4   9   0   0   0   0  10   6   1  98]]\n"
     ]
    }
   ],
   "source": [
    "#classification report\n",
    "y_predict = svm_rbf.fit(Ftrain, Ltrain).predict(Ftest)\n",
    "class_names = target.unique()\n",
    "print(classification_report(Ltest, y_predict, target_names=class_names))\n",
    "print(confusion_matrix(Ltest, y_predict))"
   ]
  },
  {
   "cell_type": "markdown",
   "id": "670ea3cc",
   "metadata": {},
   "source": [
    "# SVM(sigmoid) on RGB data"
   ]
  },
  {
   "cell_type": "code",
   "execution_count": 12,
   "id": "8aaf1a20",
   "metadata": {},
   "outputs": [
    {
     "name": "stdout",
     "output_type": "stream",
     "text": [
      "0.1\n"
     ]
    }
   ],
   "source": [
    "svm_si = SVC(kernel='sigmoid')\n",
    "svm_si.fit(Ftrain,Ltrain)\n",
    "y_pred = svm_si.predict(Ftest)\n",
    "print(accuracy_score(Ltest,y_pred))"
   ]
  },
  {
   "cell_type": "code",
   "execution_count": 13,
   "id": "9beeb8fa",
   "metadata": {},
   "outputs": [
    {
     "name": "stdout",
     "output_type": "stream",
     "text": [
      "                               precision    recall  f1-score   support\n",
      "\n",
      "               bacterial_spot       0.00      0.00      0.00       115\n",
      "                 early_blight       0.00      0.00      0.00       120\n",
      "                      healthy       0.00      0.00      0.00       125\n",
      "                  late_blight       0.00      0.00      0.00       125\n",
      "                    leaf_mold       0.00      0.00      0.00       127\n",
      "           septoria_leaf_spot       0.00      0.00      0.00       117\n",
      "                  target_spot       0.00      0.00      0.00       115\n",
      "          tomato_mosaic_virus       0.00      0.00      0.00        54\n",
      "tomato_yellow_leaf_curl_virus       0.10      1.00      0.18       114\n",
      "      two-spotted_spider_mite       0.00      0.00      0.00       128\n",
      "\n",
      "                     accuracy                           0.10      1140\n",
      "                    macro avg       0.01      0.10      0.02      1140\n",
      "                 weighted avg       0.01      0.10      0.02      1140\n",
      "\n",
      "[[  0   0   0   0   0   0   0   0 115   0]\n",
      " [  0   0   0   0   0   0   0   0 120   0]\n",
      " [  0   0   0   0   0   0   0   0 125   0]\n",
      " [  0   0   0   0   0   4   0   0 121   0]\n",
      " [  0   0   0   0   0   0   0   0 127   0]\n",
      " [  0   0   0   0   0   0   0   0 117   0]\n",
      " [  0   0   0   0   0   0   0   0 115   0]\n",
      " [  0   0   0   0   0   0   0   0  54   0]\n",
      " [  0   0   0   0   0   0   0   0 114   0]\n",
      " [  0   0   0   0   0   0   0   0 128   0]]\n"
     ]
    },
    {
     "name": "stderr",
     "output_type": "stream",
     "text": [
      "C:\\Users\\ravic\\anaconda3\\lib\\site-packages\\sklearn\\metrics\\_classification.py:1248: UndefinedMetricWarning: Precision and F-score are ill-defined and being set to 0.0 in labels with no predicted samples. Use `zero_division` parameter to control this behavior.\n",
      "  _warn_prf(average, modifier, msg_start, len(result))\n",
      "C:\\Users\\ravic\\anaconda3\\lib\\site-packages\\sklearn\\metrics\\_classification.py:1248: UndefinedMetricWarning: Precision and F-score are ill-defined and being set to 0.0 in labels with no predicted samples. Use `zero_division` parameter to control this behavior.\n",
      "  _warn_prf(average, modifier, msg_start, len(result))\n",
      "C:\\Users\\ravic\\anaconda3\\lib\\site-packages\\sklearn\\metrics\\_classification.py:1248: UndefinedMetricWarning: Precision and F-score are ill-defined and being set to 0.0 in labels with no predicted samples. Use `zero_division` parameter to control this behavior.\n",
      "  _warn_prf(average, modifier, msg_start, len(result))\n"
     ]
    }
   ],
   "source": [
    "#classification report\n",
    "y_predict = svm_si.fit(Ftrain, Ltrain).predict(Ftest)\n",
    "class_names = target.unique()\n",
    "print(classification_report(Ltest, y_predict, target_names=class_names))\n",
    "print(confusion_matrix(Ltest, y_predict))"
   ]
  },
  {
   "cell_type": "markdown",
   "id": "f985c500",
   "metadata": {},
   "source": [
    "# Bernouli Naive bayes on RGB data"
   ]
  },
  {
   "cell_type": "code",
   "execution_count": 14,
   "id": "75a3f18f",
   "metadata": {},
   "outputs": [
    {
     "data": {
      "text/plain": [
       "0.2394736842105263"
      ]
     },
     "execution_count": 14,
     "metadata": {},
     "output_type": "execute_result"
    }
   ],
   "source": [
    "from sklearn.naive_bayes import BernoulliNB\n",
    "from sklearn import metrics\n",
    "bnb = BernoulliNB()\n",
    "bnb.fit(Ftrain, Ltrain)\n",
    "y_pred = bnb.predict(Ftest)\n",
    "metrics.accuracy_score(Ltest, y_pred)"
   ]
  },
  {
   "cell_type": "code",
   "execution_count": 15,
   "id": "694c01aa",
   "metadata": {},
   "outputs": [
    {
     "name": "stdout",
     "output_type": "stream",
     "text": [
      "                               precision    recall  f1-score   support\n",
      "\n",
      "               bacterial_spot       0.17      0.94      0.28       115\n",
      "                 early_blight       0.42      0.17      0.24       120\n",
      "                      healthy       0.30      0.13      0.18       125\n",
      "                  late_blight       0.60      0.05      0.09       125\n",
      "                    leaf_mold       0.41      0.20      0.27       127\n",
      "           septoria_leaf_spot       0.19      0.05      0.08       117\n",
      "                  target_spot       0.19      0.09      0.12       115\n",
      "          tomato_mosaic_virus       0.00      0.00      0.00        54\n",
      "tomato_yellow_leaf_curl_virus       0.47      0.50      0.48       114\n",
      "      two-spotted_spider_mite       0.22      0.19      0.20       128\n",
      "\n",
      "                     accuracy                           0.24      1140\n",
      "                    macro avg       0.30      0.23      0.19      1140\n",
      "                 weighted avg       0.32      0.24      0.20      1140\n",
      "\n",
      "[[108   0   2   0   1   0   1   0   0   3]\n",
      " [ 54  20   5   4  11   3   4   0  14   5]\n",
      " [ 80   1  16   0   4   7   5   0   1  11]\n",
      " [ 86   9   3   6   3   0   2   0  12   4]\n",
      " [ 62   5   4   0  26   4   6   0  12   8]\n",
      " [ 70   5   6   0   7   6   3   0   4  16]\n",
      " [ 67   2   8   0   8   3  10   0   5  12]\n",
      " [ 38   1   3   0   0   2   2   0   3   5]\n",
      " [ 25   3   3   0   1   2   3   0  57  20]\n",
      " [ 60   2   4   0   2   4  18   0  14  24]]\n"
     ]
    },
    {
     "name": "stderr",
     "output_type": "stream",
     "text": [
      "C:\\Users\\ravic\\anaconda3\\lib\\site-packages\\sklearn\\metrics\\_classification.py:1248: UndefinedMetricWarning: Precision and F-score are ill-defined and being set to 0.0 in labels with no predicted samples. Use `zero_division` parameter to control this behavior.\n",
      "  _warn_prf(average, modifier, msg_start, len(result))\n",
      "C:\\Users\\ravic\\anaconda3\\lib\\site-packages\\sklearn\\metrics\\_classification.py:1248: UndefinedMetricWarning: Precision and F-score are ill-defined and being set to 0.0 in labels with no predicted samples. Use `zero_division` parameter to control this behavior.\n",
      "  _warn_prf(average, modifier, msg_start, len(result))\n",
      "C:\\Users\\ravic\\anaconda3\\lib\\site-packages\\sklearn\\metrics\\_classification.py:1248: UndefinedMetricWarning: Precision and F-score are ill-defined and being set to 0.0 in labels with no predicted samples. Use `zero_division` parameter to control this behavior.\n",
      "  _warn_prf(average, modifier, msg_start, len(result))\n"
     ]
    }
   ],
   "source": [
    "class_names = target.unique()\n",
    "print(classification_report(Ltest, y_pred, target_names=class_names))\n",
    "print(confusion_matrix(Ltest, y_pred))"
   ]
  },
  {
   "cell_type": "markdown",
   "id": "67dd930c",
   "metadata": {},
   "source": [
    "# Multinomial Naive bayes on RGB data"
   ]
  },
  {
   "cell_type": "code",
   "execution_count": 16,
   "id": "3b80acde",
   "metadata": {},
   "outputs": [
    {
     "data": {
      "text/plain": [
       "0.2394736842105263"
      ]
     },
     "execution_count": 16,
     "metadata": {},
     "output_type": "execute_result"
    }
   ],
   "source": [
    "from sklearn.naive_bayes import MultinomialNB\n",
    "mnb = BernoulliNB()\n",
    "mnb.fit(Ftrain, Ltrain)\n",
    "y_pred = mnb.predict(Ftest)\n",
    "metrics.accuracy_score(Ltest, y_pred)"
   ]
  },
  {
   "cell_type": "code",
   "execution_count": 17,
   "id": "d6ed705b",
   "metadata": {},
   "outputs": [
    {
     "name": "stdout",
     "output_type": "stream",
     "text": [
      "                               precision    recall  f1-score   support\n",
      "\n",
      "               bacterial_spot       0.17      0.94      0.28       115\n",
      "                 early_blight       0.42      0.17      0.24       120\n",
      "                      healthy       0.30      0.13      0.18       125\n",
      "                  late_blight       0.60      0.05      0.09       125\n",
      "                    leaf_mold       0.41      0.20      0.27       127\n",
      "           septoria_leaf_spot       0.19      0.05      0.08       117\n",
      "                  target_spot       0.19      0.09      0.12       115\n",
      "          tomato_mosaic_virus       0.00      0.00      0.00        54\n",
      "tomato_yellow_leaf_curl_virus       0.47      0.50      0.48       114\n",
      "      two-spotted_spider_mite       0.22      0.19      0.20       128\n",
      "\n",
      "                     accuracy                           0.24      1140\n",
      "                    macro avg       0.30      0.23      0.19      1140\n",
      "                 weighted avg       0.32      0.24      0.20      1140\n",
      "\n",
      "[[108   0   2   0   1   0   1   0   0   3]\n",
      " [ 54  20   5   4  11   3   4   0  14   5]\n",
      " [ 80   1  16   0   4   7   5   0   1  11]\n",
      " [ 86   9   3   6   3   0   2   0  12   4]\n",
      " [ 62   5   4   0  26   4   6   0  12   8]\n",
      " [ 70   5   6   0   7   6   3   0   4  16]\n",
      " [ 67   2   8   0   8   3  10   0   5  12]\n",
      " [ 38   1   3   0   0   2   2   0   3   5]\n",
      " [ 25   3   3   0   1   2   3   0  57  20]\n",
      " [ 60   2   4   0   2   4  18   0  14  24]]\n"
     ]
    },
    {
     "name": "stderr",
     "output_type": "stream",
     "text": [
      "C:\\Users\\ravic\\anaconda3\\lib\\site-packages\\sklearn\\metrics\\_classification.py:1248: UndefinedMetricWarning: Precision and F-score are ill-defined and being set to 0.0 in labels with no predicted samples. Use `zero_division` parameter to control this behavior.\n",
      "  _warn_prf(average, modifier, msg_start, len(result))\n",
      "C:\\Users\\ravic\\anaconda3\\lib\\site-packages\\sklearn\\metrics\\_classification.py:1248: UndefinedMetricWarning: Precision and F-score are ill-defined and being set to 0.0 in labels with no predicted samples. Use `zero_division` parameter to control this behavior.\n",
      "  _warn_prf(average, modifier, msg_start, len(result))\n",
      "C:\\Users\\ravic\\anaconda3\\lib\\site-packages\\sklearn\\metrics\\_classification.py:1248: UndefinedMetricWarning: Precision and F-score are ill-defined and being set to 0.0 in labels with no predicted samples. Use `zero_division` parameter to control this behavior.\n",
      "  _warn_prf(average, modifier, msg_start, len(result))\n"
     ]
    }
   ],
   "source": [
    "class_names = target.unique()\n",
    "print(classification_report(Ltest, y_pred, target_names=class_names))\n",
    "print(confusion_matrix(Ltest, y_pred))"
   ]
  },
  {
   "cell_type": "markdown",
   "id": "0e8f617d",
   "metadata": {},
   "source": [
    "# Grayscale data"
   ]
  },
  {
   "cell_type": "code",
   "execution_count": 18,
   "id": "57a9845e",
   "metadata": {},
   "outputs": [],
   "source": [
    "#reading numpy array data\n",
    "gray_test = np.load('gray_test.npy')\n",
    "#reading csv file\n",
    "gray_df = pd.read_csv('gray_data.csv')"
   ]
  },
  {
   "cell_type": "code",
   "execution_count": 19,
   "id": "d3abef95",
   "metadata": {},
   "outputs": [],
   "source": [
    "#assigning features and target to split the data\n",
    "features = pd.DataFrame(gray_test)\n",
    "features = features.values\n",
    "target = gray_df['disease']"
   ]
  },
  {
   "cell_type": "code",
   "execution_count": 20,
   "id": "a86eb99c",
   "metadata": {},
   "outputs": [],
   "source": [
    "#splitting the data to train and test\n",
    "Ftrain,Ftest,Ltrain,Ltest=train_test_split(features,target, test_size=0.20, random_state=24)"
   ]
  },
  {
   "cell_type": "markdown",
   "id": "8bfc6d84",
   "metadata": {},
   "source": [
    "# SVM(poly) on grayscale data"
   ]
  },
  {
   "cell_type": "code",
   "execution_count": 21,
   "id": "c9665abf",
   "metadata": {},
   "outputs": [
    {
     "name": "stdout",
     "output_type": "stream",
     "text": [
      "0.49122807017543857\n"
     ]
    }
   ],
   "source": [
    "svm_poly.fit(Ftrain,Ltrain)\n",
    "y_pred = svm_poly.predict(Ftest)\n",
    "print(accuracy_score(Ltest,y_pred))"
   ]
  },
  {
   "cell_type": "code",
   "execution_count": 22,
   "id": "2456eda7",
   "metadata": {},
   "outputs": [
    {
     "name": "stdout",
     "output_type": "stream",
     "text": [
      "                               precision    recall  f1-score   support\n",
      "\n",
      "               bacterial_spot       0.44      0.65      0.52       115\n",
      "                 early_blight       0.38      0.38      0.38       120\n",
      "                      healthy       0.66      0.63      0.65       125\n",
      "                  late_blight       0.54      0.47      0.50       125\n",
      "                    leaf_mold       0.55      0.55      0.55       127\n",
      "           septoria_leaf_spot       0.43      0.42      0.43       117\n",
      "                  target_spot       0.45      0.44      0.45       115\n",
      "          tomato_mosaic_virus       0.55      0.44      0.49        54\n",
      "tomato_yellow_leaf_curl_virus       0.44      0.42      0.43       114\n",
      "      two-spotted_spider_mite       0.53      0.46      0.49       128\n",
      "\n",
      "                     accuracy                           0.49      1140\n",
      "                    macro avg       0.50      0.49      0.49      1140\n",
      "                 weighted avg       0.50      0.49      0.49      1140\n",
      "\n",
      "[[75  7  8  4  2  4  4  0 10  1]\n",
      " [24 46  1  5 12  2 14  0  9  7]\n",
      " [12  3 79  4  7 11  5  0  2  2]\n",
      " [10 17  6 59  7 13  1  2  6  4]\n",
      " [ 4  9  5 13 70  5  5  4  8  4]\n",
      " [10  7 10  8  8 49 10  3  8  4]\n",
      " [13 10  5  2  6  7 51  0  4 17]\n",
      " [ 1  2  1  1  3  8  3 24  4  7]\n",
      " [13  7  2 12 10  9  4  3 48  6]\n",
      " [10 13  2  2  3  5 17  8  9 59]]\n"
     ]
    }
   ],
   "source": [
    "#classification report\n",
    "y_predict = svm_poly.fit(Ftrain, Ltrain).predict(Ftest)\n",
    "class_names = target.unique()\n",
    "print(classification_report(Ltest, y_predict, target_names=class_names))\n",
    "print(confusion_matrix(Ltest, y_predict))"
   ]
  },
  {
   "cell_type": "markdown",
   "id": "bd417df9",
   "metadata": {},
   "source": [
    "# SVM(RBF) on grayscale data"
   ]
  },
  {
   "cell_type": "code",
   "execution_count": 23,
   "id": "67772464",
   "metadata": {},
   "outputs": [
    {
     "name": "stdout",
     "output_type": "stream",
     "text": [
      "0.5912280701754385\n"
     ]
    }
   ],
   "source": [
    "svm_rbf.fit(Ftrain,Ltrain)\n",
    "y_pred = svm_rbf.predict(Ftest)\n",
    "print(accuracy_score(Ltest,y_pred))"
   ]
  },
  {
   "cell_type": "code",
   "execution_count": 24,
   "id": "34bbfd97",
   "metadata": {},
   "outputs": [
    {
     "name": "stdout",
     "output_type": "stream",
     "text": [
      "                               precision    recall  f1-score   support\n",
      "\n",
      "               bacterial_spot       0.64      0.65      0.64       115\n",
      "                 early_blight       0.47      0.44      0.46       120\n",
      "                      healthy       0.65      0.86      0.74       125\n",
      "                  late_blight       0.62      0.60      0.61       125\n",
      "                    leaf_mold       0.68      0.61      0.65       127\n",
      "           septoria_leaf_spot       0.54      0.47      0.50       117\n",
      "                  target_spot       0.56      0.57      0.56       115\n",
      "          tomato_mosaic_virus       0.46      0.57      0.51        54\n",
      "tomato_yellow_leaf_curl_virus       0.59      0.54      0.56       114\n",
      "      two-spotted_spider_mite       0.61      0.58      0.59       128\n",
      "\n",
      "                     accuracy                           0.59      1140\n",
      "                    macro avg       0.58      0.59      0.58      1140\n",
      "                 weighted avg       0.59      0.59      0.59      1140\n",
      "\n",
      "[[ 75   4  12   5   4   5   0   1   8   1]\n",
      " [ 20  53   1   8   8   5   9   3   6   7]\n",
      " [  0   2 107   3   1   3   7   0   2   0]\n",
      " [  3   9   9  75   4  14   3   0   5   3]\n",
      " [  3   5   5  10  78   7   5   3   8   3]\n",
      " [  0   5  17   7   9  55  10   8   3   3]\n",
      " [  5  12   6   2   2   1  65   1   2  19]\n",
      " [  0   2   1   0   1   5   3  31   6   5]\n",
      " [  7   6   6  11   5   3   1   7  61   7]\n",
      " [  5  14   1   0   2   3  13  13   3  74]]\n"
     ]
    }
   ],
   "source": [
    "#classification report\n",
    "y_predict = svm_rbf.fit(Ftrain, Ltrain).predict(Ftest)\n",
    "class_names = target.unique()\n",
    "print(classification_report(Ltest, y_predict, target_names=class_names))\n",
    "print(confusion_matrix(Ltest, y_predict))"
   ]
  },
  {
   "cell_type": "markdown",
   "id": "c1ed23e8",
   "metadata": {},
   "source": [
    "# SVM(sigmoid) on Grayscale data"
   ]
  },
  {
   "cell_type": "code",
   "execution_count": 25,
   "id": "b79e8630",
   "metadata": {},
   "outputs": [
    {
     "name": "stdout",
     "output_type": "stream",
     "text": [
      "0.08157894736842106\n"
     ]
    }
   ],
   "source": [
    "svm_si.fit(Ftrain,Ltrain)\n",
    "y_pred = svm_si.predict(Ftest)\n",
    "print(accuracy_score(Ltest,y_pred))"
   ]
  },
  {
   "cell_type": "code",
   "execution_count": 26,
   "id": "c64cd0a6",
   "metadata": {},
   "outputs": [
    {
     "name": "stdout",
     "output_type": "stream",
     "text": [
      "                               precision    recall  f1-score   support\n",
      "\n",
      "               bacterial_spot       0.04      0.26      0.07       115\n",
      "                 early_blight       0.00      0.00      0.00       120\n",
      "                      healthy       0.00      0.00      0.00       125\n",
      "                  late_blight       0.00      0.00      0.00       125\n",
      "                    leaf_mold       0.00      0.00      0.00       127\n",
      "           septoria_leaf_spot       0.00      0.00      0.00       117\n",
      "                  target_spot       0.00      0.00      0.00       115\n",
      "          tomato_mosaic_virus       0.00      0.00      0.00        54\n",
      "tomato_yellow_leaf_curl_virus       0.14      0.55      0.22       114\n",
      "      two-spotted_spider_mite       0.00      0.00      0.00       128\n",
      "\n",
      "                     accuracy                           0.08      1140\n",
      "                    macro avg       0.02      0.08      0.03      1140\n",
      "                 weighted avg       0.02      0.08      0.03      1140\n",
      "\n",
      "[[ 30   0   0   0   0   0   0   0  85   0]\n",
      " [ 41   0   0   0   0   0   0   0  79   0]\n",
      " [117   0   0   0   0   0   0   0   8   0]\n",
      " [102   0   0   0   0   4   0   0  19   0]\n",
      " [ 67   0   0   0   0   0   0   0  60   0]\n",
      " [100   0   0   0   0   0   0   0  17   0]\n",
      " [ 76   0   0   0   0   0   0   0  39   0]\n",
      " [ 37   0   0   0   0   0   0   0  17   0]\n",
      " [ 51   0   0   0   0   0   0   0  63   0]\n",
      " [ 66   0   0   0   0   0   0   0  62   0]]\n"
     ]
    },
    {
     "name": "stderr",
     "output_type": "stream",
     "text": [
      "C:\\Users\\ravic\\anaconda3\\lib\\site-packages\\sklearn\\metrics\\_classification.py:1248: UndefinedMetricWarning: Precision and F-score are ill-defined and being set to 0.0 in labels with no predicted samples. Use `zero_division` parameter to control this behavior.\n",
      "  _warn_prf(average, modifier, msg_start, len(result))\n",
      "C:\\Users\\ravic\\anaconda3\\lib\\site-packages\\sklearn\\metrics\\_classification.py:1248: UndefinedMetricWarning: Precision and F-score are ill-defined and being set to 0.0 in labels with no predicted samples. Use `zero_division` parameter to control this behavior.\n",
      "  _warn_prf(average, modifier, msg_start, len(result))\n",
      "C:\\Users\\ravic\\anaconda3\\lib\\site-packages\\sklearn\\metrics\\_classification.py:1248: UndefinedMetricWarning: Precision and F-score are ill-defined and being set to 0.0 in labels with no predicted samples. Use `zero_division` parameter to control this behavior.\n",
      "  _warn_prf(average, modifier, msg_start, len(result))\n"
     ]
    }
   ],
   "source": [
    "#classification report\n",
    "y_predict = svm_si.fit(Ftrain, Ltrain).predict(Ftest)\n",
    "class_names = target.unique()\n",
    "print(classification_report(Ltest, y_predict, target_names=class_names))\n",
    "print(confusion_matrix(Ltest, y_predict))"
   ]
  },
  {
   "cell_type": "markdown",
   "id": "8ba631c4",
   "metadata": {},
   "source": [
    "# Bernouli Naive bayes on grayscale data"
   ]
  },
  {
   "cell_type": "code",
   "execution_count": 27,
   "id": "f9c1d1df",
   "metadata": {},
   "outputs": [
    {
     "data": {
      "text/plain": [
       "0.10438596491228071"
      ]
     },
     "execution_count": 27,
     "metadata": {},
     "output_type": "execute_result"
    }
   ],
   "source": [
    "bnb.fit(Ftrain, Ltrain)\n",
    "y_pred = bnb.predict(Ftest)\n",
    "metrics.accuracy_score(Ltest, y_pred)"
   ]
  },
  {
   "cell_type": "code",
   "execution_count": 28,
   "id": "5349d0e6",
   "metadata": {},
   "outputs": [
    {
     "name": "stdout",
     "output_type": "stream",
     "text": [
      "                               precision    recall  f1-score   support\n",
      "\n",
      "               bacterial_spot       0.00      0.00      0.00       115\n",
      "                 early_blight       0.25      0.01      0.02       120\n",
      "                      healthy       0.50      0.01      0.02       125\n",
      "                  late_blight       1.00      0.02      0.05       125\n",
      "                    leaf_mold       0.00      0.00      0.00       127\n",
      "           septoria_leaf_spot       0.00      0.00      0.00       117\n",
      "                  target_spot       0.00      0.00      0.00       115\n",
      "          tomato_mosaic_virus       0.00      0.00      0.00        54\n",
      "tomato_yellow_leaf_curl_virus       0.10      1.00      0.18       114\n",
      "      two-spotted_spider_mite       0.00      0.00      0.00       128\n",
      "\n",
      "                     accuracy                           0.10      1140\n",
      "                    macro avg       0.19      0.10      0.03      1140\n",
      "                 weighted avg       0.20      0.10      0.03      1140\n",
      "\n",
      "[[  0   0   0   0   0   0   0   0 115   0]\n",
      " [  0   1   0   0   1   0   0   0 118   0]\n",
      " [  0   1   1   0   0   0   0   0 123   0]\n",
      " [  0   0   0   3   0   1   0   1 120   0]\n",
      " [  0   1   1   0   0   0   1   0 124   0]\n",
      " [  0   0   0   0   0   0   0   0 117   0]\n",
      " [  0   0   0   0   0   0   0   0 115   0]\n",
      " [  0   1   0   0   1   0   0   0  52   0]\n",
      " [  0   0   0   0   0   0   0   0 114   0]\n",
      " [  0   0   0   0   0   0   0   0 128   0]]\n"
     ]
    },
    {
     "name": "stderr",
     "output_type": "stream",
     "text": [
      "C:\\Users\\ravic\\anaconda3\\lib\\site-packages\\sklearn\\metrics\\_classification.py:1248: UndefinedMetricWarning: Precision and F-score are ill-defined and being set to 0.0 in labels with no predicted samples. Use `zero_division` parameter to control this behavior.\n",
      "  _warn_prf(average, modifier, msg_start, len(result))\n",
      "C:\\Users\\ravic\\anaconda3\\lib\\site-packages\\sklearn\\metrics\\_classification.py:1248: UndefinedMetricWarning: Precision and F-score are ill-defined and being set to 0.0 in labels with no predicted samples. Use `zero_division` parameter to control this behavior.\n",
      "  _warn_prf(average, modifier, msg_start, len(result))\n",
      "C:\\Users\\ravic\\anaconda3\\lib\\site-packages\\sklearn\\metrics\\_classification.py:1248: UndefinedMetricWarning: Precision and F-score are ill-defined and being set to 0.0 in labels with no predicted samples. Use `zero_division` parameter to control this behavior.\n",
      "  _warn_prf(average, modifier, msg_start, len(result))\n"
     ]
    }
   ],
   "source": [
    "class_names = target.unique()\n",
    "print(classification_report(Ltest, y_pred, target_names=class_names))\n",
    "print(confusion_matrix(Ltest, y_pred))"
   ]
  },
  {
   "cell_type": "markdown",
   "id": "20b31faf",
   "metadata": {},
   "source": [
    "# Multinomial Naive bayes on Grayscale data"
   ]
  },
  {
   "cell_type": "code",
   "execution_count": 29,
   "id": "5bf3d424",
   "metadata": {},
   "outputs": [
    {
     "data": {
      "text/plain": [
       "0.10438596491228071"
      ]
     },
     "execution_count": 29,
     "metadata": {},
     "output_type": "execute_result"
    }
   ],
   "source": [
    "mnb.fit(Ftrain, Ltrain)\n",
    "y_pred = mnb.predict(Ftest)\n",
    "metrics.accuracy_score(Ltest, y_pred)"
   ]
  },
  {
   "cell_type": "code",
   "execution_count": 30,
   "id": "6ed85664",
   "metadata": {},
   "outputs": [
    {
     "name": "stdout",
     "output_type": "stream",
     "text": [
      "                               precision    recall  f1-score   support\n",
      "\n",
      "               bacterial_spot       0.00      0.00      0.00       115\n",
      "                 early_blight       0.25      0.01      0.02       120\n",
      "                      healthy       0.50      0.01      0.02       125\n",
      "                  late_blight       1.00      0.02      0.05       125\n",
      "                    leaf_mold       0.00      0.00      0.00       127\n",
      "           septoria_leaf_spot       0.00      0.00      0.00       117\n",
      "                  target_spot       0.00      0.00      0.00       115\n",
      "          tomato_mosaic_virus       0.00      0.00      0.00        54\n",
      "tomato_yellow_leaf_curl_virus       0.10      1.00      0.18       114\n",
      "      two-spotted_spider_mite       0.00      0.00      0.00       128\n",
      "\n",
      "                     accuracy                           0.10      1140\n",
      "                    macro avg       0.19      0.10      0.03      1140\n",
      "                 weighted avg       0.20      0.10      0.03      1140\n",
      "\n",
      "[[  0   0   0   0   0   0   0   0 115   0]\n",
      " [  0   1   0   0   1   0   0   0 118   0]\n",
      " [  0   1   1   0   0   0   0   0 123   0]\n",
      " [  0   0   0   3   0   1   0   1 120   0]\n",
      " [  0   1   1   0   0   0   1   0 124   0]\n",
      " [  0   0   0   0   0   0   0   0 117   0]\n",
      " [  0   0   0   0   0   0   0   0 115   0]\n",
      " [  0   1   0   0   1   0   0   0  52   0]\n",
      " [  0   0   0   0   0   0   0   0 114   0]\n",
      " [  0   0   0   0   0   0   0   0 128   0]]\n"
     ]
    },
    {
     "name": "stderr",
     "output_type": "stream",
     "text": [
      "C:\\Users\\ravic\\anaconda3\\lib\\site-packages\\sklearn\\metrics\\_classification.py:1248: UndefinedMetricWarning: Precision and F-score are ill-defined and being set to 0.0 in labels with no predicted samples. Use `zero_division` parameter to control this behavior.\n",
      "  _warn_prf(average, modifier, msg_start, len(result))\n",
      "C:\\Users\\ravic\\anaconda3\\lib\\site-packages\\sklearn\\metrics\\_classification.py:1248: UndefinedMetricWarning: Precision and F-score are ill-defined and being set to 0.0 in labels with no predicted samples. Use `zero_division` parameter to control this behavior.\n",
      "  _warn_prf(average, modifier, msg_start, len(result))\n",
      "C:\\Users\\ravic\\anaconda3\\lib\\site-packages\\sklearn\\metrics\\_classification.py:1248: UndefinedMetricWarning: Precision and F-score are ill-defined and being set to 0.0 in labels with no predicted samples. Use `zero_division` parameter to control this behavior.\n",
      "  _warn_prf(average, modifier, msg_start, len(result))\n"
     ]
    }
   ],
   "source": [
    "class_names = target.unique()\n",
    "print(classification_report(Ltest, y_pred, target_names=class_names))\n",
    "print(confusion_matrix(Ltest, y_pred))"
   ]
  },
  {
   "cell_type": "markdown",
   "id": "6f5719a1",
   "metadata": {},
   "source": [
    "# Red Channel data"
   ]
  },
  {
   "cell_type": "code",
   "execution_count": 31,
   "id": "5f8b0e11",
   "metadata": {},
   "outputs": [],
   "source": [
    "#reading numpy array data\n",
    "red_test = np.load('red_data.npy')\n",
    "#reading csv file\n",
    "red_df = pd.read_csv('red_data.csv')\n",
    "#assigning features and target to split the data\n",
    "features = pd.DataFrame(red_test)\n",
    "features = features.values\n",
    "target = red_df['disease']\n",
    "#splitting the data to train and test\n",
    "Ftrain,Ftest,Ltrain,Ltest=train_test_split(features,target, test_size=0.20, random_state=24)"
   ]
  },
  {
   "cell_type": "markdown",
   "id": "c81dd4d2",
   "metadata": {},
   "source": [
    "# SVM(poly) on Red data"
   ]
  },
  {
   "cell_type": "code",
   "execution_count": 32,
   "id": "a9cb2e28",
   "metadata": {},
   "outputs": [
    {
     "name": "stdout",
     "output_type": "stream",
     "text": [
      "0.5166666666666667\n"
     ]
    }
   ],
   "source": [
    "svm_poly.fit(Ftrain,Ltrain)\n",
    "y_pred = svm_poly.predict(Ftest)\n",
    "print(accuracy_score(Ltest,y_pred))"
   ]
  },
  {
   "cell_type": "code",
   "execution_count": 33,
   "id": "35b2ceaf",
   "metadata": {},
   "outputs": [
    {
     "name": "stdout",
     "output_type": "stream",
     "text": [
      "                               precision    recall  f1-score   support\n",
      "\n",
      "               bacterial_spot       0.45      0.64      0.53       115\n",
      "                 early_blight       0.37      0.40      0.38       120\n",
      "                      healthy       0.68      0.63      0.66       125\n",
      "                  late_blight       0.57      0.51      0.54       125\n",
      "                    leaf_mold       0.62      0.58      0.60       127\n",
      "           septoria_leaf_spot       0.39      0.41      0.40       117\n",
      "                  target_spot       0.57      0.56      0.56       115\n",
      "          tomato_mosaic_virus       0.50      0.48      0.49        54\n",
      "tomato_yellow_leaf_curl_virus       0.53      0.46      0.49       114\n",
      "      two-spotted_spider_mite       0.55      0.47      0.50       128\n",
      "\n",
      "                     accuracy                           0.52      1140\n",
      "                    macro avg       0.52      0.51      0.52      1140\n",
      "                 weighted avg       0.52      0.52      0.52      1140\n",
      "\n",
      "[[74 14  4  6  2  5  1  0  9  0]\n",
      " [25 48  3  1  8  7 11  1  9  7]\n",
      " [11  2 79  5  7  9  3  0  4  5]\n",
      " [ 8 17  6 64  8 11  1  1  5  4]\n",
      " [ 2  8  7 12 74  9  2  3  5  5]\n",
      " [12  7  8 12  9 48  9  3  3  6]\n",
      " [13 13  2  2  1  7 64  0  1 12]\n",
      " [ 0  3  1  3  2  7  3 26  5  4]\n",
      " [ 8 10  4  7  8 10  3  5 52  7]\n",
      " [11  9  2  1  1 11 15 13  5 60]]\n"
     ]
    }
   ],
   "source": [
    "#classification report\n",
    "y_predict = svm_poly.fit(Ftrain, Ltrain).predict(Ftest)\n",
    "class_names = target.unique()\n",
    "print(classification_report(Ltest, y_predict, target_names=class_names))\n",
    "print(confusion_matrix(Ltest, y_predict))"
   ]
  },
  {
   "cell_type": "markdown",
   "id": "bcdfb873",
   "metadata": {},
   "source": [
    "# SVM(RBF) on Red data"
   ]
  },
  {
   "cell_type": "code",
   "execution_count": 34,
   "id": "5e806290",
   "metadata": {},
   "outputs": [
    {
     "name": "stdout",
     "output_type": "stream",
     "text": [
      "0.6078947368421053\n"
     ]
    }
   ],
   "source": [
    "svm_rbf.fit(Ftrain,Ltrain)\n",
    "y_pred = svm_rbf.predict(Ftest)\n",
    "print(accuracy_score(Ltest,y_pred))"
   ]
  },
  {
   "cell_type": "code",
   "execution_count": 35,
   "id": "e613add4",
   "metadata": {},
   "outputs": [
    {
     "name": "stdout",
     "output_type": "stream",
     "text": [
      "                               precision    recall  f1-score   support\n",
      "\n",
      "               bacterial_spot       0.63      0.61      0.62       115\n",
      "                 early_blight       0.55      0.45      0.49       120\n",
      "                      healthy       0.69      0.87      0.77       125\n",
      "                  late_blight       0.62      0.63      0.62       125\n",
      "                    leaf_mold       0.74      0.63      0.68       127\n",
      "           septoria_leaf_spot       0.53      0.48      0.50       117\n",
      "                  target_spot       0.59      0.65      0.62       115\n",
      "          tomato_mosaic_virus       0.47      0.61      0.53        54\n",
      "tomato_yellow_leaf_curl_virus       0.55      0.53      0.54       114\n",
      "      two-spotted_spider_mite       0.63      0.60      0.61       128\n",
      "\n",
      "                     accuracy                           0.61      1140\n",
      "                    macro avg       0.60      0.61      0.60      1140\n",
      "                 weighted avg       0.61      0.61      0.60      1140\n",
      "\n",
      "[[ 70   6  12   7   2   5   1   1  11   0]\n",
      " [ 18  54   2   6   5   9  10   1  10   5]\n",
      " [  0   0 109   6   3   1   3   0   3   0]\n",
      " [  2   8   8  79   4  13   3   2   4   2]\n",
      " [  3   4   3  11  80   8   6   2   6   4]\n",
      " [  2   4  13   9   8  56  10   5   5   5]\n",
      " [  4   9   3   2   0   3  75   2   1  16]\n",
      " [  0   0   1   0   2   1   2  33   8   7]\n",
      " [  8   4   8   8   3   6   1   9  60   7]\n",
      " [  4  10   0   0   1   3  16  15   2  77]]\n"
     ]
    }
   ],
   "source": [
    "#classification report\n",
    "y_predict = svm_rbf.fit(Ftrain, Ltrain).predict(Ftest)\n",
    "class_names = target.unique()\n",
    "print(classification_report(Ltest, y_predict, target_names=class_names))\n",
    "print(confusion_matrix(Ltest, y_predict))"
   ]
  },
  {
   "cell_type": "markdown",
   "id": "558a44ca",
   "metadata": {},
   "source": [
    "# SVM(sigmoid) on Red data"
   ]
  },
  {
   "cell_type": "code",
   "execution_count": 36,
   "id": "dfde7ca8",
   "metadata": {},
   "outputs": [
    {
     "name": "stdout",
     "output_type": "stream",
     "text": [
      "0.1\n"
     ]
    }
   ],
   "source": [
    "svm_si.fit(Ftrain,Ltrain)\n",
    "y_pred = svm_si.predict(Ftest)\n",
    "print(accuracy_score(Ltest,y_pred))"
   ]
  },
  {
   "cell_type": "code",
   "execution_count": 37,
   "id": "b58142f8",
   "metadata": {},
   "outputs": [
    {
     "name": "stdout",
     "output_type": "stream",
     "text": [
      "                               precision    recall  f1-score   support\n",
      "\n",
      "               bacterial_spot       0.00      0.00      0.00       115\n",
      "                 early_blight       0.00      0.00      0.00       120\n",
      "                      healthy       0.00      0.00      0.00       125\n",
      "                  late_blight       0.00      0.00      0.00       125\n",
      "                    leaf_mold       0.00      0.00      0.00       127\n",
      "           septoria_leaf_spot       0.00      0.00      0.00       117\n",
      "                  target_spot       0.00      0.00      0.00       115\n",
      "          tomato_mosaic_virus       0.00      0.00      0.00        54\n",
      "tomato_yellow_leaf_curl_virus       0.10      1.00      0.18       114\n",
      "      two-spotted_spider_mite       0.00      0.00      0.00       128\n",
      "\n",
      "                     accuracy                           0.10      1140\n",
      "                    macro avg       0.01      0.10      0.02      1140\n",
      "                 weighted avg       0.01      0.10      0.02      1140\n",
      "\n",
      "[[  0   0   0   0   0   0   0   0 115   0]\n",
      " [  0   0   0   0   0   0   0   0 120   0]\n",
      " [  0   0   0   0   0   0   0   0 125   0]\n",
      " [  0   0   0   0   0   4   0   0 121   0]\n",
      " [  0   0   0   0   0   0   0   0 127   0]\n",
      " [  0   0   0   0   0   0   0   0 117   0]\n",
      " [  0   0   0   0   0   0   0   0 115   0]\n",
      " [  0   0   0   0   0   0   0   0  54   0]\n",
      " [  0   0   0   0   0   0   0   0 114   0]\n",
      " [  0   0   0   0   0   0   0   0 128   0]]\n"
     ]
    },
    {
     "name": "stderr",
     "output_type": "stream",
     "text": [
      "C:\\Users\\ravic\\anaconda3\\lib\\site-packages\\sklearn\\metrics\\_classification.py:1248: UndefinedMetricWarning: Precision and F-score are ill-defined and being set to 0.0 in labels with no predicted samples. Use `zero_division` parameter to control this behavior.\n",
      "  _warn_prf(average, modifier, msg_start, len(result))\n",
      "C:\\Users\\ravic\\anaconda3\\lib\\site-packages\\sklearn\\metrics\\_classification.py:1248: UndefinedMetricWarning: Precision and F-score are ill-defined and being set to 0.0 in labels with no predicted samples. Use `zero_division` parameter to control this behavior.\n",
      "  _warn_prf(average, modifier, msg_start, len(result))\n",
      "C:\\Users\\ravic\\anaconda3\\lib\\site-packages\\sklearn\\metrics\\_classification.py:1248: UndefinedMetricWarning: Precision and F-score are ill-defined and being set to 0.0 in labels with no predicted samples. Use `zero_division` parameter to control this behavior.\n",
      "  _warn_prf(average, modifier, msg_start, len(result))\n"
     ]
    }
   ],
   "source": [
    "#classification report\n",
    "y_predict = svm_si.fit(Ftrain, Ltrain).predict(Ftest)\n",
    "class_names = target.unique()\n",
    "print(classification_report(Ltest, y_predict, target_names=class_names))\n",
    "print(confusion_matrix(Ltest, y_predict))"
   ]
  },
  {
   "cell_type": "markdown",
   "id": "5a175c93",
   "metadata": {},
   "source": [
    "# Bernouli Naive bayes on Red data"
   ]
  },
  {
   "cell_type": "code",
   "execution_count": 38,
   "id": "d65fa897",
   "metadata": {},
   "outputs": [
    {
     "data": {
      "text/plain": [
       "0.14649122807017545"
      ]
     },
     "execution_count": 38,
     "metadata": {},
     "output_type": "execute_result"
    }
   ],
   "source": [
    "bnb.fit(Ftrain, Ltrain)\n",
    "y_pred = bnb.predict(Ftest)\n",
    "metrics.accuracy_score(Ltest, y_pred)"
   ]
  },
  {
   "cell_type": "code",
   "execution_count": 39,
   "id": "bdadbf8a",
   "metadata": {},
   "outputs": [
    {
     "name": "stdout",
     "output_type": "stream",
     "text": [
      "                               precision    recall  f1-score   support\n",
      "\n",
      "               bacterial_spot       0.13      1.00      0.23       115\n",
      "                 early_blight       0.30      0.05      0.09       120\n",
      "                      healthy       0.07      0.02      0.03       125\n",
      "                  late_blight       0.80      0.03      0.06       125\n",
      "                    leaf_mold       0.34      0.10      0.16       127\n",
      "           septoria_leaf_spot       0.06      0.02      0.03       117\n",
      "                  target_spot       0.28      0.08      0.12       115\n",
      "          tomato_mosaic_virus       0.09      0.02      0.03        54\n",
      "tomato_yellow_leaf_curl_virus       0.25      0.09      0.13       114\n",
      "      two-spotted_spider_mite       0.20      0.04      0.07       128\n",
      "\n",
      "                     accuracy                           0.15      1140\n",
      "                    macro avg       0.25      0.14      0.09      1140\n",
      "                 weighted avg       0.26      0.15      0.10      1140\n",
      "\n",
      "[[115   0   0   0   0   0   0   0   0   0]\n",
      " [ 88   6   4   0   5   7   4   2   1   3]\n",
      " [108   0   2   0   1   3   3   2   4   2]\n",
      " [103   1   5   4   3   4   1   1   2   1]\n",
      " [ 76   5   4   1  13  12   6   1   7   2]\n",
      " [ 93   2   5   0   7   2   0   2   3   3]\n",
      " [ 76   3   4   0   5   4   9   1   7   6]\n",
      " [ 39   2   4   0   1   1   0   1   4   2]\n",
      " [ 98   1   0   0   0   1   3   0  10   1]\n",
      " [111   0   0   0   3   0   6   1   2   5]]\n"
     ]
    }
   ],
   "source": [
    "class_names = target.unique()\n",
    "print(classification_report(Ltest, y_pred, target_names=class_names))\n",
    "print(confusion_matrix(Ltest, y_pred))"
   ]
  },
  {
   "cell_type": "markdown",
   "id": "39255a27",
   "metadata": {},
   "source": [
    "# Multinomial Naive bayes on Red data"
   ]
  },
  {
   "cell_type": "code",
   "execution_count": 40,
   "id": "437843bc",
   "metadata": {},
   "outputs": [
    {
     "data": {
      "text/plain": [
       "0.14649122807017545"
      ]
     },
     "execution_count": 40,
     "metadata": {},
     "output_type": "execute_result"
    }
   ],
   "source": [
    "mnb.fit(Ftrain, Ltrain)\n",
    "y_pred = mnb.predict(Ftest)\n",
    "metrics.accuracy_score(Ltest, y_pred)"
   ]
  },
  {
   "cell_type": "code",
   "execution_count": 41,
   "id": "2bcb0431",
   "metadata": {},
   "outputs": [
    {
     "name": "stdout",
     "output_type": "stream",
     "text": [
      "                               precision    recall  f1-score   support\n",
      "\n",
      "               bacterial_spot       0.13      1.00      0.23       115\n",
      "                 early_blight       0.30      0.05      0.09       120\n",
      "                      healthy       0.07      0.02      0.03       125\n",
      "                  late_blight       0.80      0.03      0.06       125\n",
      "                    leaf_mold       0.34      0.10      0.16       127\n",
      "           septoria_leaf_spot       0.06      0.02      0.03       117\n",
      "                  target_spot       0.28      0.08      0.12       115\n",
      "          tomato_mosaic_virus       0.09      0.02      0.03        54\n",
      "tomato_yellow_leaf_curl_virus       0.25      0.09      0.13       114\n",
      "      two-spotted_spider_mite       0.20      0.04      0.07       128\n",
      "\n",
      "                     accuracy                           0.15      1140\n",
      "                    macro avg       0.25      0.14      0.09      1140\n",
      "                 weighted avg       0.26      0.15      0.10      1140\n",
      "\n",
      "[[115   0   0   0   0   0   0   0   0   0]\n",
      " [ 88   6   4   0   5   7   4   2   1   3]\n",
      " [108   0   2   0   1   3   3   2   4   2]\n",
      " [103   1   5   4   3   4   1   1   2   1]\n",
      " [ 76   5   4   1  13  12   6   1   7   2]\n",
      " [ 93   2   5   0   7   2   0   2   3   3]\n",
      " [ 76   3   4   0   5   4   9   1   7   6]\n",
      " [ 39   2   4   0   1   1   0   1   4   2]\n",
      " [ 98   1   0   0   0   1   3   0  10   1]\n",
      " [111   0   0   0   3   0   6   1   2   5]]\n"
     ]
    }
   ],
   "source": [
    "class_names = target.unique()\n",
    "print(classification_report(Ltest, y_pred, target_names=class_names))\n",
    "print(confusion_matrix(Ltest, y_pred))"
   ]
  },
  {
   "cell_type": "markdown",
   "id": "11e4cd00",
   "metadata": {},
   "source": [
    "# Green channel data"
   ]
  },
  {
   "cell_type": "code",
   "execution_count": 42,
   "id": "40feb467",
   "metadata": {},
   "outputs": [],
   "source": [
    "#reading numpy array data\n",
    "green_test = np.load('green_data.npy')\n",
    "#reading csv file\n",
    "green_df = pd.read_csv('green_data.csv')\n",
    "#assigning features and target to split the data\n",
    "features = pd.DataFrame(green_test)\n",
    "features = features.values\n",
    "target = green_df['disease']\n",
    "#splitting the data to train and test\n",
    "Ftrain,Ftest,Ltrain,Ltest=train_test_split(features,target, test_size=0.20, random_state=24)"
   ]
  },
  {
   "cell_type": "markdown",
   "id": "9aa0bc22",
   "metadata": {},
   "source": [
    "# SVM(poly) on green data"
   ]
  },
  {
   "cell_type": "code",
   "execution_count": 43,
   "id": "fe39c65e",
   "metadata": {},
   "outputs": [
    {
     "name": "stdout",
     "output_type": "stream",
     "text": [
      "0.48333333333333334\n"
     ]
    }
   ],
   "source": [
    "svm_poly.fit(Ftrain,Ltrain)\n",
    "y_pred = svm_poly.predict(Ftest)\n",
    "print(accuracy_score(Ltest,y_pred))"
   ]
  },
  {
   "cell_type": "code",
   "execution_count": 44,
   "id": "8423b846",
   "metadata": {},
   "outputs": [
    {
     "name": "stdout",
     "output_type": "stream",
     "text": [
      "                               precision    recall  f1-score   support\n",
      "\n",
      "               bacterial_spot       0.42      0.65      0.51       115\n",
      "                 early_blight       0.38      0.39      0.39       120\n",
      "                      healthy       0.65      0.63      0.64       125\n",
      "                  late_blight       0.54      0.49      0.51       125\n",
      "                    leaf_mold       0.50      0.52      0.51       127\n",
      "           septoria_leaf_spot       0.37      0.28      0.32       117\n",
      "                  target_spot       0.47      0.46      0.46       115\n",
      "          tomato_mosaic_virus       0.45      0.37      0.41        54\n",
      "tomato_yellow_leaf_curl_virus       0.52      0.46      0.49       114\n",
      "      two-spotted_spider_mite       0.52      0.50      0.51       128\n",
      "\n",
      "                     accuracy                           0.48      1140\n",
      "                    macro avg       0.48      0.48      0.48      1140\n",
      "                 weighted avg       0.49      0.48      0.48      1140\n",
      "\n",
      "[[75  9  7  4  3  3  4  0  7  3]\n",
      " [24 47  2  6 10  2 14  0  8  7]\n",
      " [11  4 79  3  6  8  8  2  0  4]\n",
      " [ 6 15  6 61  8 11  4  3  6  5]\n",
      " [ 2  9  6 16 66  8  5  3  7  5]\n",
      " [15  9 14 12  9 33  8  6  8  3]\n",
      " [14  9  3  2  9  3 53  1  3 18]\n",
      " [ 4  3  1  3  7  9  0 20  2  5]\n",
      " [15  7  1  6  9  8  2  4 53  9]\n",
      " [11 12  2  1  5  5 15  5  8 64]]\n"
     ]
    }
   ],
   "source": [
    "#classification report\n",
    "y_predict = svm_poly.fit(Ftrain, Ltrain).predict(Ftest)\n",
    "class_names = target.unique()\n",
    "print(classification_report(Ltest, y_predict, target_names=class_names))\n",
    "print(confusion_matrix(Ltest, y_predict))"
   ]
  },
  {
   "cell_type": "markdown",
   "id": "6112d4e4",
   "metadata": {},
   "source": [
    "# SVM(RBF) on green data"
   ]
  },
  {
   "cell_type": "code",
   "execution_count": 45,
   "id": "69be936f",
   "metadata": {},
   "outputs": [
    {
     "name": "stdout",
     "output_type": "stream",
     "text": [
      "0.606140350877193\n"
     ]
    }
   ],
   "source": [
    "svm_rbf.fit(Ftrain,Ltrain)\n",
    "y_pred = svm_rbf.predict(Ftest)\n",
    "print(accuracy_score(Ltest,y_pred))"
   ]
  },
  {
   "cell_type": "code",
   "execution_count": 46,
   "id": "81b4c571",
   "metadata": {},
   "outputs": [
    {
     "name": "stdout",
     "output_type": "stream",
     "text": [
      "                               precision    recall  f1-score   support\n",
      "\n",
      "               bacterial_spot       0.66      0.67      0.66       115\n",
      "                 early_blight       0.47      0.42      0.44       120\n",
      "                      healthy       0.67      0.86      0.75       125\n",
      "                  late_blight       0.68      0.61      0.64       125\n",
      "                    leaf_mold       0.62      0.64      0.63       127\n",
      "           septoria_leaf_spot       0.57      0.55      0.56       117\n",
      "                  target_spot       0.61      0.57      0.59       115\n",
      "          tomato_mosaic_virus       0.44      0.56      0.49        54\n",
      "tomato_yellow_leaf_curl_virus       0.61      0.57      0.59       114\n",
      "      two-spotted_spider_mite       0.62      0.59      0.60       128\n",
      "\n",
      "                     accuracy                           0.61      1140\n",
      "                    macro avg       0.60      0.60      0.60      1140\n",
      "                 weighted avg       0.61      0.61      0.60      1140\n",
      "\n",
      "[[ 77   3   8   2   6   5   0   3  10   1]\n",
      " [ 18  50   2   8  10   5  10   3   5   9]\n",
      " [  0   2 107   2   3   3   6   0   2   0]\n",
      " [  2   8   5  76   4  14   3   4   6   3]\n",
      " [  1   6   4  11  81   7   4   5   4   4]\n",
      " [  1   2  13   5   9  64  10   6   6   1]\n",
      " [  4  11   8   2   6   1  66   1   1  15]\n",
      " [  1   3   5   0   4   3   0  30   3   5]\n",
      " [  8   6   6   6   4   7   0   5  65   7]\n",
      " [  5  15   2   0   3   3  10  11   4  75]]\n"
     ]
    }
   ],
   "source": [
    "#classification report\n",
    "y_predict = svm_rbf.fit(Ftrain, Ltrain).predict(Ftest)\n",
    "class_names = target.unique()\n",
    "print(classification_report(Ltest, y_predict, target_names=class_names))\n",
    "print(confusion_matrix(Ltest, y_predict))"
   ]
  },
  {
   "cell_type": "markdown",
   "id": "662d1937",
   "metadata": {},
   "source": [
    "# SVM(sigmoid) on green data"
   ]
  },
  {
   "cell_type": "code",
   "execution_count": 47,
   "id": "7f6adcca",
   "metadata": {},
   "outputs": [
    {
     "name": "stdout",
     "output_type": "stream",
     "text": [
      "0.07631578947368421\n"
     ]
    }
   ],
   "source": [
    "svm_si.fit(Ftrain,Ltrain)\n",
    "y_pred = svm_si.predict(Ftest)\n",
    "print(accuracy_score(Ltest,y_pred))"
   ]
  },
  {
   "cell_type": "code",
   "execution_count": 48,
   "id": "251d68f3",
   "metadata": {},
   "outputs": [
    {
     "name": "stdout",
     "output_type": "stream",
     "text": [
      "                               precision    recall  f1-score   support\n",
      "\n",
      "               bacterial_spot       0.05      0.35      0.09       115\n",
      "                 early_blight       0.00      0.00      0.00       120\n",
      "                      healthy       0.00      0.00      0.00       125\n",
      "                  late_blight       0.00      0.00      0.00       125\n",
      "                    leaf_mold       0.00      0.00      0.00       127\n",
      "           septoria_leaf_spot       0.00      0.00      0.00       117\n",
      "                  target_spot       0.00      0.00      0.00       115\n",
      "          tomato_mosaic_virus       0.00      0.00      0.00        54\n",
      "tomato_yellow_leaf_curl_virus       0.15      0.41      0.22       114\n",
      "      two-spotted_spider_mite       0.00      0.00      0.00       128\n",
      "\n",
      "                     accuracy                           0.08      1140\n",
      "                    macro avg       0.02      0.08      0.03      1140\n",
      "                 weighted avg       0.02      0.08      0.03      1140\n",
      "\n",
      "[[ 40   0   0   0   0   0   0   0  75   0]\n",
      " [ 51   0   0   0   0   0   0   0  69   0]\n",
      " [124   0   0   0   0   0   0   0   1   0]\n",
      " [103   0   0   0   0   4   0   0  18   0]\n",
      " [ 98   0   0   0   0   0   0   0  29   0]\n",
      " [109   0   0   0   0   0   0   0   8   0]\n",
      " [ 96   0   0   0   0   0   0   0  19   0]\n",
      " [ 44   0   0   0   0   0   0   0  10   0]\n",
      " [ 67   0   0   0   0   0   0   0  47   0]\n",
      " [ 82   0   0   0   0   0   0   0  46   0]]\n"
     ]
    },
    {
     "name": "stderr",
     "output_type": "stream",
     "text": [
      "C:\\Users\\ravic\\anaconda3\\lib\\site-packages\\sklearn\\metrics\\_classification.py:1248: UndefinedMetricWarning: Precision and F-score are ill-defined and being set to 0.0 in labels with no predicted samples. Use `zero_division` parameter to control this behavior.\n",
      "  _warn_prf(average, modifier, msg_start, len(result))\n",
      "C:\\Users\\ravic\\anaconda3\\lib\\site-packages\\sklearn\\metrics\\_classification.py:1248: UndefinedMetricWarning: Precision and F-score are ill-defined and being set to 0.0 in labels with no predicted samples. Use `zero_division` parameter to control this behavior.\n",
      "  _warn_prf(average, modifier, msg_start, len(result))\n",
      "C:\\Users\\ravic\\anaconda3\\lib\\site-packages\\sklearn\\metrics\\_classification.py:1248: UndefinedMetricWarning: Precision and F-score are ill-defined and being set to 0.0 in labels with no predicted samples. Use `zero_division` parameter to control this behavior.\n",
      "  _warn_prf(average, modifier, msg_start, len(result))\n"
     ]
    }
   ],
   "source": [
    "#classification report\n",
    "y_predict = svm_si.fit(Ftrain, Ltrain).predict(Ftest)\n",
    "class_names = target.unique()\n",
    "print(classification_report(Ltest, y_predict, target_names=class_names))\n",
    "print(confusion_matrix(Ltest, y_predict))"
   ]
  },
  {
   "cell_type": "markdown",
   "id": "8aa412dd",
   "metadata": {},
   "source": [
    "# Bernouli Naive bayes on green data"
   ]
  },
  {
   "cell_type": "code",
   "execution_count": 49,
   "id": "b6622b8d",
   "metadata": {},
   "outputs": [
    {
     "data": {
      "text/plain": [
       "0.1368421052631579"
      ]
     },
     "execution_count": 49,
     "metadata": {},
     "output_type": "execute_result"
    }
   ],
   "source": [
    "bnb.fit(Ftrain, Ltrain)\n",
    "y_pred = bnb.predict(Ftest)\n",
    "metrics.accuracy_score(Ltest, y_pred)"
   ]
  },
  {
   "cell_type": "code",
   "execution_count": 50,
   "id": "f3c6b16f",
   "metadata": {},
   "outputs": [
    {
     "name": "stdout",
     "output_type": "stream",
     "text": [
      "                               precision    recall  f1-score   support\n",
      "\n",
      "               bacterial_spot       0.11      1.00      0.20       115\n",
      "                 early_blight       0.65      0.14      0.23       120\n",
      "                      healthy       0.27      0.05      0.08       125\n",
      "                  late_blight       0.80      0.03      0.06       125\n",
      "                    leaf_mold       0.37      0.11      0.17       127\n",
      "           septoria_leaf_spot       0.00      0.00      0.00       117\n",
      "                  target_spot       0.00      0.00      0.00       115\n",
      "          tomato_mosaic_virus       0.00      0.00      0.00        54\n",
      "tomato_yellow_leaf_curl_virus       0.00      0.00      0.00       114\n",
      "      two-spotted_spider_mite       0.00      0.00      0.00       128\n",
      "\n",
      "                     accuracy                           0.14      1140\n",
      "                    macro avg       0.22      0.13      0.08      1140\n",
      "                 weighted avg       0.24      0.14      0.08      1140\n",
      "\n",
      "[[115   0   0   0   0   0   0   0   0   0]\n",
      " [ 81  17   0   1  10   6   2   3   0   0]\n",
      " [107   2   6   0   3   5   2   0   0   0]\n",
      " [105   1   4   4   4   3   0   2   1   1]\n",
      " [ 99   3   4   0  14   5   0   1   1   0]\n",
      " [107   2   4   0   3   0   1   0   0   0]\n",
      " [112   0   1   0   0   2   0   0   0   0]\n",
      " [ 44   1   2   0   3   1   1   0   2   0]\n",
      " [113   0   0   0   1   0   0   0   0   0]\n",
      " [126   0   1   0   0   1   0   0   0   0]]\n"
     ]
    }
   ],
   "source": [
    "class_names = target.unique()\n",
    "print(classification_report(Ltest, y_pred, target_names=class_names))\n",
    "print(confusion_matrix(Ltest, y_pred))"
   ]
  },
  {
   "cell_type": "markdown",
   "id": "d144692e",
   "metadata": {},
   "source": [
    "# Multinomial Naive bayes on Green data"
   ]
  },
  {
   "cell_type": "code",
   "execution_count": 51,
   "id": "a7a34c33",
   "metadata": {},
   "outputs": [
    {
     "data": {
      "text/plain": [
       "0.1368421052631579"
      ]
     },
     "execution_count": 51,
     "metadata": {},
     "output_type": "execute_result"
    }
   ],
   "source": [
    "mnb.fit(Ftrain, Ltrain)\n",
    "y_pred = mnb.predict(Ftest)\n",
    "metrics.accuracy_score(Ltest, y_pred)"
   ]
  },
  {
   "cell_type": "code",
   "execution_count": 52,
   "id": "441ea45d",
   "metadata": {},
   "outputs": [
    {
     "name": "stdout",
     "output_type": "stream",
     "text": [
      "                               precision    recall  f1-score   support\n",
      "\n",
      "               bacterial_spot       0.11      1.00      0.20       115\n",
      "                 early_blight       0.65      0.14      0.23       120\n",
      "                      healthy       0.27      0.05      0.08       125\n",
      "                  late_blight       0.80      0.03      0.06       125\n",
      "                    leaf_mold       0.37      0.11      0.17       127\n",
      "           septoria_leaf_spot       0.00      0.00      0.00       117\n",
      "                  target_spot       0.00      0.00      0.00       115\n",
      "          tomato_mosaic_virus       0.00      0.00      0.00        54\n",
      "tomato_yellow_leaf_curl_virus       0.00      0.00      0.00       114\n",
      "      two-spotted_spider_mite       0.00      0.00      0.00       128\n",
      "\n",
      "                     accuracy                           0.14      1140\n",
      "                    macro avg       0.22      0.13      0.08      1140\n",
      "                 weighted avg       0.24      0.14      0.08      1140\n",
      "\n",
      "[[115   0   0   0   0   0   0   0   0   0]\n",
      " [ 81  17   0   1  10   6   2   3   0   0]\n",
      " [107   2   6   0   3   5   2   0   0   0]\n",
      " [105   1   4   4   4   3   0   2   1   1]\n",
      " [ 99   3   4   0  14   5   0   1   1   0]\n",
      " [107   2   4   0   3   0   1   0   0   0]\n",
      " [112   0   1   0   0   2   0   0   0   0]\n",
      " [ 44   1   2   0   3   1   1   0   2   0]\n",
      " [113   0   0   0   1   0   0   0   0   0]\n",
      " [126   0   1   0   0   1   0   0   0   0]]\n"
     ]
    }
   ],
   "source": [
    "class_names = target.unique()\n",
    "print(classification_report(Ltest, y_pred, target_names=class_names))\n",
    "print(confusion_matrix(Ltest, y_pred))"
   ]
  },
  {
   "cell_type": "markdown",
   "id": "a6a80ecb",
   "metadata": {},
   "source": [
    "# Blue channel data"
   ]
  },
  {
   "cell_type": "code",
   "execution_count": 53,
   "id": "06094596",
   "metadata": {},
   "outputs": [],
   "source": [
    "#reading numpy array data\n",
    "blue_test = np.load('blue_data.npy')\n",
    "#reading csv file\n",
    "blue_df = pd.read_csv('blue_data.csv')\n",
    "#assigning features and target to split the data\n",
    "features = pd.DataFrame(blue_test)\n",
    "features = features.values\n",
    "target = blue_df['disease']\n",
    "#splitting the data to train and test\n",
    "Ftrain,Ftest,Ltrain,Ltest=train_test_split(features,target, test_size=0.20, random_state=24)"
   ]
  },
  {
   "cell_type": "markdown",
   "id": "4d40997b",
   "metadata": {},
   "source": [
    "# SVM(poly) on blue data"
   ]
  },
  {
   "cell_type": "code",
   "execution_count": 54,
   "id": "39b88095",
   "metadata": {},
   "outputs": [
    {
     "name": "stdout",
     "output_type": "stream",
     "text": [
      "0.5359649122807018\n"
     ]
    }
   ],
   "source": [
    "svm_poly.fit(Ftrain,Ltrain)\n",
    "y_pred = svm_poly.predict(Ftest)\n",
    "print(accuracy_score(Ltest,y_pred))"
   ]
  },
  {
   "cell_type": "code",
   "execution_count": 55,
   "id": "dc98d740",
   "metadata": {},
   "outputs": [
    {
     "name": "stdout",
     "output_type": "stream",
     "text": [
      "                               precision    recall  f1-score   support\n",
      "\n",
      "               bacterial_spot       0.43      0.76      0.55       115\n",
      "                 early_blight       0.35      0.34      0.35       120\n",
      "                      healthy       0.81      0.70      0.76       125\n",
      "                  late_blight       0.57      0.58      0.57       125\n",
      "                    leaf_mold       0.59      0.61      0.60       127\n",
      "           septoria_leaf_spot       0.46      0.34      0.39       117\n",
      "                  target_spot       0.48      0.45      0.47       115\n",
      "          tomato_mosaic_virus       0.42      0.56      0.48        54\n",
      "tomato_yellow_leaf_curl_virus       0.76      0.60      0.67       114\n",
      "      two-spotted_spider_mite       0.55      0.44      0.49       128\n",
      "\n",
      "                     accuracy                           0.54      1140\n",
      "                    macro avg       0.54      0.54      0.53      1140\n",
      "                 weighted avg       0.55      0.54      0.54      1140\n",
      "\n",
      "[[87  6  0  8  1  3  0  0  7  3]\n",
      " [29 41  2 12  7  6  9  2  4  8]\n",
      " [12  5 88  3  3  0 11  0  0  3]\n",
      " [ 7 13  8 72  9  6  4  3  1  2]\n",
      " [ 4  6  0  9 77 10  6  8  1  6]\n",
      " [ 9 12  2  7 23 40  7  9  3  5]\n",
      " [20 13  7  4  5  3 52  1  0 10]\n",
      " [ 1  3  0  4  3  7  2 30  0  4]\n",
      " [11 11  0  5  2  7  0  6 68  4]\n",
      " [22  7  1  2  1  5 17 12  5 56]]\n"
     ]
    }
   ],
   "source": [
    "#classification report\n",
    "y_predict = svm_poly.fit(Ftrain, Ltrain).predict(Ftest)\n",
    "class_names = target.unique()\n",
    "print(classification_report(Ltest, y_predict, target_names=class_names))\n",
    "print(confusion_matrix(Ltest, y_predict))"
   ]
  },
  {
   "cell_type": "markdown",
   "id": "5226f4f2",
   "metadata": {},
   "source": [
    "# SVM(RBF) on blue data"
   ]
  },
  {
   "cell_type": "code",
   "execution_count": 56,
   "id": "183a5680",
   "metadata": {},
   "outputs": [
    {
     "name": "stdout",
     "output_type": "stream",
     "text": [
      "0.6412280701754386\n"
     ]
    }
   ],
   "source": [
    "svm_rbf.fit(Ftrain,Ltrain)\n",
    "y_pred = svm_rbf.predict(Ftest)\n",
    "print(accuracy_score(Ltest,y_pred))"
   ]
  },
  {
   "cell_type": "code",
   "execution_count": 57,
   "id": "22270861",
   "metadata": {},
   "outputs": [
    {
     "name": "stdout",
     "output_type": "stream",
     "text": [
      "                               precision    recall  f1-score   support\n",
      "\n",
      "               bacterial_spot       0.61      0.82      0.70       115\n",
      "                 early_blight       0.53      0.45      0.49       120\n",
      "                      healthy       0.84      0.84      0.84       125\n",
      "                  late_blight       0.70      0.61      0.65       125\n",
      "                    leaf_mold       0.70      0.60      0.65       127\n",
      "           septoria_leaf_spot       0.63      0.48      0.54       117\n",
      "                  target_spot       0.55      0.64      0.59       115\n",
      "          tomato_mosaic_virus       0.51      0.72      0.60        54\n",
      "tomato_yellow_leaf_curl_virus       0.71      0.79      0.75       114\n",
      "      two-spotted_spider_mite       0.58      0.52      0.55       128\n",
      "\n",
      "                     accuracy                           0.64      1140\n",
      "                    macro avg       0.64      0.65      0.64      1140\n",
      "                 weighted avg       0.64      0.64      0.64      1140\n",
      "\n",
      "[[ 94   2   2   4   2   0   0   0   8   3]\n",
      " [ 22  54   2   7   3   5  12   1   7   7]\n",
      " [  1   2 105   2   1   0  13   0   0   1]\n",
      " [  5  11   8  76   4   9   5   3   3   1]\n",
      " [  1   5   0   8  76  12  10   4   2   9]\n",
      " [  4   4   1   7  14  56   7  11   7   6]\n",
      " [  7  11   6   1   3   2  74   2   0   9]\n",
      " [  0   0   0   1   4   2   0  39   2   6]\n",
      " [  7   3   1   2   0   1   0   3  90   7]\n",
      " [ 14   9   0   1   1   2  13  13   8  67]]\n"
     ]
    }
   ],
   "source": [
    "#classification report\n",
    "y_predict = svm_rbf.fit(Ftrain, Ltrain).predict(Ftest)\n",
    "class_names = target.unique()\n",
    "print(classification_report(Ltest, y_predict, target_names=class_names))\n",
    "print(confusion_matrix(Ltest, y_predict))"
   ]
  },
  {
   "cell_type": "markdown",
   "id": "09f47e7e",
   "metadata": {},
   "source": [
    "# SVM(sigmoid) on blue data"
   ]
  },
  {
   "cell_type": "code",
   "execution_count": 58,
   "id": "4401c844",
   "metadata": {},
   "outputs": [
    {
     "name": "stdout",
     "output_type": "stream",
     "text": [
      "0.09298245614035087\n"
     ]
    }
   ],
   "source": [
    "svm_si.fit(Ftrain,Ltrain)\n",
    "y_pred = svm_si.predict(Ftest)\n",
    "print(accuracy_score(Ltest,y_pred))"
   ]
  },
  {
   "cell_type": "code",
   "execution_count": 59,
   "id": "4372e59f",
   "metadata": {},
   "outputs": [
    {
     "name": "stdout",
     "output_type": "stream",
     "text": [
      "                               precision    recall  f1-score   support\n",
      "\n",
      "               bacterial_spot       0.26      0.05      0.09       115\n",
      "                 early_blight       0.00      0.00      0.00       120\n",
      "                      healthy       0.00      0.00      0.00       125\n",
      "                  late_blight       0.00      0.00      0.00       125\n",
      "                    leaf_mold       0.00      0.00      0.00       127\n",
      "           septoria_leaf_spot       0.00      0.00      0.00       117\n",
      "                  target_spot       0.00      0.00      0.00       115\n",
      "          tomato_mosaic_virus       0.00      0.00      0.00        54\n",
      "tomato_yellow_leaf_curl_virus       0.09      0.88      0.16       114\n",
      "      two-spotted_spider_mite       0.00      0.00      0.00       128\n",
      "\n",
      "                     accuracy                           0.09      1140\n",
      "                    macro avg       0.04      0.09      0.03      1140\n",
      "                 weighted avg       0.04      0.09      0.03      1140\n",
      "\n",
      "[[  6   0   0   0   0   0   0   0 109   0]\n",
      " [  4   0   0   0   0   1   2   0 113   0]\n",
      " [  2   0   0   0   0   0   0   0 123   0]\n",
      " [  4   0   4   0   0   0   0   0 117   0]\n",
      " [  0   0   0   0   0   0   0   0 127   0]\n",
      " [  0   0   0   0   0   0   0   0 117   0]\n",
      " [  0   0   0   0   0   0   0   0 115   0]\n",
      " [  0   0   0   0   0   0   0   0  54   0]\n",
      " [  6   0   0   0   0   2   6   0 100   0]\n",
      " [  1   0   0   0   0   0   1   0 126   0]]\n"
     ]
    },
    {
     "name": "stderr",
     "output_type": "stream",
     "text": [
      "C:\\Users\\ravic\\anaconda3\\lib\\site-packages\\sklearn\\metrics\\_classification.py:1248: UndefinedMetricWarning: Precision and F-score are ill-defined and being set to 0.0 in labels with no predicted samples. Use `zero_division` parameter to control this behavior.\n",
      "  _warn_prf(average, modifier, msg_start, len(result))\n",
      "C:\\Users\\ravic\\anaconda3\\lib\\site-packages\\sklearn\\metrics\\_classification.py:1248: UndefinedMetricWarning: Precision and F-score are ill-defined and being set to 0.0 in labels with no predicted samples. Use `zero_division` parameter to control this behavior.\n",
      "  _warn_prf(average, modifier, msg_start, len(result))\n",
      "C:\\Users\\ravic\\anaconda3\\lib\\site-packages\\sklearn\\metrics\\_classification.py:1248: UndefinedMetricWarning: Precision and F-score are ill-defined and being set to 0.0 in labels with no predicted samples. Use `zero_division` parameter to control this behavior.\n",
      "  _warn_prf(average, modifier, msg_start, len(result))\n"
     ]
    }
   ],
   "source": [
    "#classification report\n",
    "y_predict = svm_si.fit(Ftrain, Ltrain).predict(Ftest)\n",
    "class_names = target.unique()\n",
    "print(classification_report(Ltest, y_predict, target_names=class_names))\n",
    "print(confusion_matrix(Ltest, y_predict))"
   ]
  },
  {
   "cell_type": "markdown",
   "id": "7401f4ab",
   "metadata": {},
   "source": [
    "# Bernouli Naive bayes on blue data"
   ]
  },
  {
   "cell_type": "code",
   "execution_count": 60,
   "id": "a8ddf84b",
   "metadata": {},
   "outputs": [
    {
     "data": {
      "text/plain": [
       "0.23421052631578948"
      ]
     },
     "execution_count": 60,
     "metadata": {},
     "output_type": "execute_result"
    }
   ],
   "source": [
    "bnb.fit(Ftrain, Ltrain)\n",
    "y_pred = bnb.predict(Ftest)\n",
    "metrics.accuracy_score(Ltest, y_pred)"
   ]
  },
  {
   "cell_type": "code",
   "execution_count": 61,
   "id": "944621bd",
   "metadata": {},
   "outputs": [
    {
     "name": "stdout",
     "output_type": "stream",
     "text": [
      "                               precision    recall  f1-score   support\n",
      "\n",
      "               bacterial_spot       0.17      0.92      0.29       115\n",
      "                 early_blight       0.21      0.08      0.12       120\n",
      "                      healthy       0.28      0.14      0.19       125\n",
      "                  late_blight       0.42      0.10      0.17       125\n",
      "                    leaf_mold       0.39      0.20      0.27       127\n",
      "           septoria_leaf_spot       0.16      0.05      0.08       117\n",
      "                  target_spot       0.19      0.10      0.13       115\n",
      "          tomato_mosaic_virus       0.11      0.02      0.03        54\n",
      "tomato_yellow_leaf_curl_virus       0.47      0.49      0.48       114\n",
      "      two-spotted_spider_mite       0.24      0.16      0.19       128\n",
      "\n",
      "                     accuracy                           0.23      1140\n",
      "                    macro avg       0.26      0.23      0.19      1140\n",
      "                 weighted avg       0.27      0.23      0.20      1140\n",
      "\n",
      "[[106   0   2   0   1   0   3   0   0   3]\n",
      " [ 53  10   7  15   9   5   3   1  14   3]\n",
      " [ 75   1  18   0   7   7   5   0   1  11]\n",
      " [ 82   8   5  13   2   1   1   2   9   2]\n",
      " [ 61   5   3   3  26   5   6   0  11   7]\n",
      " [ 69   6   3   0   9   6   6   1   6  11]\n",
      " [ 63   5  10   0   8   3  11   0   7   8]\n",
      " [ 38   1   2   0   0   2   3   1   2   5]\n",
      " [ 23   5   4   0   2   4   4   2  56  14]\n",
      " [ 55   6  11   0   2   4  15   2  13  20]]\n"
     ]
    }
   ],
   "source": [
    "class_names = target.unique()\n",
    "print(classification_report(Ltest, y_pred, target_names=class_names))\n",
    "print(confusion_matrix(Ltest, y_pred))"
   ]
  },
  {
   "cell_type": "markdown",
   "id": "cbf0037b",
   "metadata": {},
   "source": [
    "# Multinomial Naive bayes on blue data"
   ]
  },
  {
   "cell_type": "code",
   "execution_count": 62,
   "id": "050a9f46",
   "metadata": {},
   "outputs": [
    {
     "data": {
      "text/plain": [
       "0.23421052631578948"
      ]
     },
     "execution_count": 62,
     "metadata": {},
     "output_type": "execute_result"
    }
   ],
   "source": [
    "mnb.fit(Ftrain, Ltrain)\n",
    "y_pred = mnb.predict(Ftest)\n",
    "metrics.accuracy_score(Ltest, y_pred)"
   ]
  },
  {
   "cell_type": "code",
   "execution_count": 63,
   "id": "9a916b04",
   "metadata": {},
   "outputs": [
    {
     "name": "stdout",
     "output_type": "stream",
     "text": [
      "                               precision    recall  f1-score   support\n",
      "\n",
      "               bacterial_spot       0.17      0.92      0.29       115\n",
      "                 early_blight       0.21      0.08      0.12       120\n",
      "                      healthy       0.28      0.14      0.19       125\n",
      "                  late_blight       0.42      0.10      0.17       125\n",
      "                    leaf_mold       0.39      0.20      0.27       127\n",
      "           septoria_leaf_spot       0.16      0.05      0.08       117\n",
      "                  target_spot       0.19      0.10      0.13       115\n",
      "          tomato_mosaic_virus       0.11      0.02      0.03        54\n",
      "tomato_yellow_leaf_curl_virus       0.47      0.49      0.48       114\n",
      "      two-spotted_spider_mite       0.24      0.16      0.19       128\n",
      "\n",
      "                     accuracy                           0.23      1140\n",
      "                    macro avg       0.26      0.23      0.19      1140\n",
      "                 weighted avg       0.27      0.23      0.20      1140\n",
      "\n",
      "[[106   0   2   0   1   0   3   0   0   3]\n",
      " [ 53  10   7  15   9   5   3   1  14   3]\n",
      " [ 75   1  18   0   7   7   5   0   1  11]\n",
      " [ 82   8   5  13   2   1   1   2   9   2]\n",
      " [ 61   5   3   3  26   5   6   0  11   7]\n",
      " [ 69   6   3   0   9   6   6   1   6  11]\n",
      " [ 63   5  10   0   8   3  11   0   7   8]\n",
      " [ 38   1   2   0   0   2   3   1   2   5]\n",
      " [ 23   5   4   0   2   4   4   2  56  14]\n",
      " [ 55   6  11   0   2   4  15   2  13  20]]\n"
     ]
    }
   ],
   "source": [
    "class_names = target.unique()\n",
    "print(classification_report(Ltest, y_pred, target_names=class_names))\n",
    "print(confusion_matrix(Ltest, y_pred))"
   ]
  },
  {
   "cell_type": "code",
   "execution_count": 64,
   "id": "195a0b21",
   "metadata": {},
   "outputs": [
    {
     "name": "stdout",
     "output_type": "stream",
     "text": [
      "962.4176337718964\n"
     ]
    }
   ],
   "source": [
    "end_time = time.time()\n",
    "print(end_time - start_time)"
   ]
  }
 ],
 "metadata": {
  "kernelspec": {
   "display_name": "Python 3 (ipykernel)",
   "language": "python",
   "name": "python3"
  },
  "language_info": {
   "codemirror_mode": {
    "name": "ipython",
    "version": 3
   },
   "file_extension": ".py",
   "mimetype": "text/x-python",
   "name": "python",
   "nbconvert_exporter": "python",
   "pygments_lexer": "ipython3",
   "version": "3.9.7"
  }
 },
 "nbformat": 4,
 "nbformat_minor": 5
}
