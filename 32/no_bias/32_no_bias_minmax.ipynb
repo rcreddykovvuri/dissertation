{
 "cells": [
  {
   "cell_type": "code",
   "execution_count": 1,
   "id": "bcdb1517",
   "metadata": {},
   "outputs": [],
   "source": [
    "import numpy as np #importing numpy\n",
    "import pandas as pd #importing pandas\n",
    "import PIL #importing pillow for image processing\n",
    "from PIL import Image#importing image from pillow library\n",
    "import skimage#importing skimage library\n",
    "import os#importing os library\n",
    "import time#importing time library\n",
    "\n",
    "#Capture start time of the program\n",
    "start_time = time.time()"
   ]
  },
  {
   "cell_type": "code",
   "execution_count": 2,
   "id": "9ec45970",
   "metadata": {},
   "outputs": [],
   "source": [
    "os.chdir('D://DKIT//dissertation//Dataset_of_Tomato_Leaves//plantvillage//Preprocessed_data//32//32_no_bias_vector//')"
   ]
  },
  {
   "cell_type": "code",
   "execution_count": 3,
   "id": "cbc71f85",
   "metadata": {},
   "outputs": [],
   "source": [
    "#importing classification report and confusion matrix\n",
    "from sklearn.metrics import classification_report, confusion_matrix"
   ]
  },
  {
   "cell_type": "markdown",
   "id": "7139bf53",
   "metadata": {},
   "source": [
    "# KNN on rgb data"
   ]
  },
  {
   "cell_type": "code",
   "execution_count": 4,
   "id": "9386938c",
   "metadata": {},
   "outputs": [],
   "source": [
    "#reading numpy array data\n",
    "rgb_test = np.load('rgb_data.npy')\n",
    "#reading csv file\n",
    "rgb_df = pd.read_csv('rgb_data.csv')"
   ]
  },
  {
   "cell_type": "code",
   "execution_count": 5,
   "id": "4f95f2f6",
   "metadata": {},
   "outputs": [],
   "source": [
    "loaded = []\n",
    "for i in rgb_test:\n",
    "    k = []\n",
    "    k = np.asarray(i,dtype='uint8')\n",
    "    loaded.append(k)"
   ]
  },
  {
   "cell_type": "code",
   "execution_count": 6,
   "id": "c6d5658c",
   "metadata": {},
   "outputs": [],
   "source": [
    "features = loaded\n",
    "target = rgb_df['disease']\n",
    "from sklearn.preprocessing import MinMaxScaler\n",
    "minmax = MinMaxScaler()\n",
    "from sklearn.model_selection import train_test_split\n",
    "Ftrain,Ftest,Ltrain,Ltest=train_test_split(features,target, test_size=0.20, random_state=24)"
   ]
  },
  {
   "cell_type": "code",
   "execution_count": 7,
   "id": "8cc86824",
   "metadata": {},
   "outputs": [],
   "source": [
    "Ftrain = minmax.fit_transform(Ftrain)\n",
    "Ftest = minmax.fit_transform(Ftest)"
   ]
  },
  {
   "cell_type": "code",
   "execution_count": 8,
   "id": "6f1171c6",
   "metadata": {},
   "outputs": [],
   "source": [
    "from sklearn.neighbors import KNeighborsClassifier\n",
    "kmodel = KNeighborsClassifier(n_neighbors=75)"
   ]
  },
  {
   "cell_type": "code",
   "execution_count": 9,
   "id": "b9fdc978",
   "metadata": {},
   "outputs": [
    {
     "data": {
      "text/plain": [
       "0.4789473684210526"
      ]
     },
     "execution_count": 9,
     "metadata": {},
     "output_type": "execute_result"
    }
   ],
   "source": [
    "kmodel.fit(Ftrain,Ltrain)\n",
    "kmodel.score(Ftest,Ltest)"
   ]
  },
  {
   "cell_type": "code",
   "execution_count": 10,
   "id": "cc56686d",
   "metadata": {},
   "outputs": [
    {
     "name": "stdout",
     "output_type": "stream",
     "text": [
      "                               precision    recall  f1-score   support\n",
      "\n",
      "               bacterial_spot       0.34      0.72      0.46       115\n",
      "                 early_blight       1.00      0.02      0.03       120\n",
      "                      healthy       0.40      0.88      0.55       125\n",
      "                  late_blight       0.51      0.26      0.35       125\n",
      "                    leaf_mold       0.75      0.55      0.64       127\n",
      "           septoria_leaf_spot       0.60      0.41      0.49       117\n",
      "                  target_spot       0.51      0.39      0.44       115\n",
      "          tomato_mosaic_virus       0.60      0.50      0.55        54\n",
      "tomato_yellow_leaf_curl_virus       0.85      0.41      0.56       114\n",
      "      two-spotted_spider_mite       0.42      0.63      0.50       128\n",
      "\n",
      "                     accuracy                           0.48      1140\n",
      "                    macro avg       0.60      0.48      0.46      1140\n",
      "                 weighted avg       0.60      0.48      0.45      1140\n",
      "\n",
      "[[ 83   0  22   2   0   0   0   1   5   2]\n",
      " [ 60   2  12   2   6   5  16   2   0  15]\n",
      " [  1   0 110   7   0   0   2   1   0   4]\n",
      " [ 11   0  45  33   9  11   6   1   1   8]\n",
      " [  6   0  18   9  70   8   1   4   0  11]\n",
      " [  2   0  25   5   7  48   6   2   2  20]\n",
      " [ 14   0  26   0   0   1  45   1   0  28]\n",
      " [  2   0   6   5   1   1   0  27   0  12]\n",
      " [ 37   0   7   1   0   4   2   3  47  13]\n",
      " [ 28   0   2   1   0   2  11   3   0  81]]\n"
     ]
    }
   ],
   "source": [
    "#printing results of the kmodel\n",
    "y_predict = kmodel.fit(Ftrain, Ltrain).predict(Ftest)\n",
    "class_names = target.unique()\n",
    "print(classification_report(Ltest, y_predict, target_names=class_names))\n",
    "print(confusion_matrix(Ltest, y_predict))"
   ]
  },
  {
   "cell_type": "markdown",
   "id": "d5c58638",
   "metadata": {},
   "source": [
    "# Logistic on rgb data"
   ]
  },
  {
   "cell_type": "code",
   "execution_count": 11,
   "id": "a84836ef",
   "metadata": {},
   "outputs": [
    {
     "data": {
      "text/plain": [
       "0.6456140350877193"
      ]
     },
     "execution_count": 11,
     "metadata": {},
     "output_type": "execute_result"
    }
   ],
   "source": [
    "from sklearn.linear_model import LogisticRegression\n",
    "model=LogisticRegression(solver='lbfgs', max_iter=10000)\n",
    "model.fit(Ftrain,Ltrain)\n",
    "model.score(Ftest,Ltest)"
   ]
  },
  {
   "cell_type": "code",
   "execution_count": 12,
   "id": "a1f10c9f",
   "metadata": {},
   "outputs": [
    {
     "name": "stdout",
     "output_type": "stream",
     "text": [
      "                               precision    recall  f1-score   support\n",
      "\n",
      "               bacterial_spot       0.67      0.70      0.68       115\n",
      "                 early_blight       0.54      0.40      0.46       120\n",
      "                      healthy       0.63      0.74      0.68       125\n",
      "                  late_blight       0.63      0.52      0.57       125\n",
      "                    leaf_mold       0.77      0.63      0.69       127\n",
      "           septoria_leaf_spot       0.57      0.62      0.59       117\n",
      "                  target_spot       0.58      0.63      0.60       115\n",
      "          tomato_mosaic_virus       0.84      0.59      0.70        54\n",
      "tomato_yellow_leaf_curl_virus       0.85      0.77      0.81       114\n",
      "      two-spotted_spider_mite       0.58      0.83      0.68       128\n",
      "\n",
      "                     accuracy                           0.65      1140\n",
      "                    macro avg       0.66      0.64      0.65      1140\n",
      "                 weighted avg       0.65      0.65      0.64      1140\n",
      "\n",
      "[[ 80   8   7   5   1   2   2   0   8   2]\n",
      " [ 16  48   4  13   9   7   9   0   3  11]\n",
      " [  2   3  93   4   1   3  15   0   0   4]\n",
      " [  7   8  18  65   4   9   2   0   1  11]\n",
      " [  1   5  11   6  80  13   0   0   0  11]\n",
      " [  6   4   3   4   8  72   8   4   4   4]\n",
      " [  1   8   9   0   0   5  72   0   0  20]\n",
      " [  0   0   1   0   1   9   6  32   0   5]\n",
      " [  3   4   0   4   0   5   1   0  88   9]\n",
      " [  4   1   2   2   0   2   9   2   0 106]]\n"
     ]
    }
   ],
   "source": [
    "#classification report\n",
    "y_predict = model.fit(Ftrain, Ltrain).predict(Ftest)\n",
    "class_names = target.unique()\n",
    "print(classification_report(Ltest, y_predict, target_names=class_names))\n",
    "print(confusion_matrix(Ltest, y_predict))"
   ]
  },
  {
   "cell_type": "markdown",
   "id": "6fe194bc",
   "metadata": {},
   "source": [
    "# SVM on RGB data"
   ]
  },
  {
   "cell_type": "code",
   "execution_count": 13,
   "id": "2427ed51",
   "metadata": {},
   "outputs": [
    {
     "name": "stdout",
     "output_type": "stream",
     "text": [
      "0.6745614035087719\n"
     ]
    }
   ],
   "source": [
    "from sklearn.svm import SVC\n",
    "from sklearn.metrics import accuracy_score\n",
    "\n",
    "clf = SVC(kernel='linear')\n",
    "clf.fit(Ftrain,Ltrain)\n",
    "y_pred = clf.predict(Ftest)\n",
    "print(accuracy_score(Ltest,y_pred))"
   ]
  },
  {
   "cell_type": "code",
   "execution_count": 14,
   "id": "4103cc2e",
   "metadata": {},
   "outputs": [
    {
     "name": "stdout",
     "output_type": "stream",
     "text": [
      "                               precision    recall  f1-score   support\n",
      "\n",
      "               bacterial_spot       0.66      0.77      0.71       115\n",
      "                 early_blight       0.54      0.47      0.50       120\n",
      "                      healthy       0.79      0.85      0.82       125\n",
      "                  late_blight       0.64      0.66      0.65       125\n",
      "                    leaf_mold       0.84      0.64      0.72       127\n",
      "           septoria_leaf_spot       0.59      0.62      0.60       117\n",
      "                  target_spot       0.61      0.59      0.60       115\n",
      "          tomato_mosaic_virus       0.86      0.69      0.76        54\n",
      "tomato_yellow_leaf_curl_virus       0.83      0.76      0.79       114\n",
      "      two-spotted_spider_mite       0.57      0.70      0.63       128\n",
      "\n",
      "                     accuracy                           0.67      1140\n",
      "                    macro avg       0.69      0.67      0.68      1140\n",
      "                 weighted avg       0.68      0.67      0.67      1140\n",
      "\n",
      "[[ 89   7   1   7   0   0   2   0   7   2]\n",
      " [ 21  57   3  10   3   3   9   0   3  11]\n",
      " [  1   5 106   3   0   2   5   0   0   3]\n",
      " [ 12   9   5  83   3   9   0   0   0   4]\n",
      " [  1   6   5  12  81  13   0   1   0   8]\n",
      " [  1   2   5   9   8  72   6   3   3   8]\n",
      " [  1  11   9   0   0   6  68   0   0  20]\n",
      " [  0   1   0   0   0   5   4  37   1   6]\n",
      " [  5   5   0   3   0   9   1   0  87   4]\n",
      " [  4   3   1   3   2   4  16   2   4  89]]\n"
     ]
    }
   ],
   "source": [
    "#classification report\n",
    "y_predict = clf.fit(Ftrain, Ltrain).predict(Ftest)\n",
    "class_names = target.unique()\n",
    "print(classification_report(Ltest, y_predict, target_names=class_names))\n",
    "print(confusion_matrix(Ltest, y_predict))"
   ]
  },
  {
   "cell_type": "markdown",
   "id": "73bef6fa",
   "metadata": {},
   "source": [
    "# Random Forest on RGB "
   ]
  },
  {
   "cell_type": "code",
   "execution_count": 15,
   "id": "6bae5a92",
   "metadata": {},
   "outputs": [],
   "source": [
    "from sklearn.ensemble import RandomForestClassifier"
   ]
  },
  {
   "cell_type": "code",
   "execution_count": 16,
   "id": "1d08a15e",
   "metadata": {},
   "outputs": [],
   "source": [
    "classifier_rf = RandomForestClassifier(random_state=42, n_jobs=-1, max_depth=5,n_estimators=100, oob_score=True)"
   ]
  },
  {
   "cell_type": "code",
   "execution_count": 17,
   "id": "938ad007",
   "metadata": {},
   "outputs": [
    {
     "data": {
      "text/plain": [
       "RandomForestClassifier(max_depth=5, n_jobs=-1, oob_score=True, random_state=42)"
      ]
     },
     "execution_count": 17,
     "metadata": {},
     "output_type": "execute_result"
    }
   ],
   "source": [
    "classifier_rf.fit(Ftrain, Ltrain)"
   ]
  },
  {
   "cell_type": "code",
   "execution_count": 18,
   "id": "e1769cec",
   "metadata": {},
   "outputs": [
    {
     "data": {
      "text/plain": [
       "0.5382759377056372"
      ]
     },
     "execution_count": 18,
     "metadata": {},
     "output_type": "execute_result"
    }
   ],
   "source": [
    "classifier_rf.oob_score_"
   ]
  },
  {
   "cell_type": "code",
   "execution_count": 19,
   "id": "c144f9db",
   "metadata": {},
   "outputs": [
    {
     "name": "stdout",
     "output_type": "stream",
     "text": [
      "                               precision    recall  f1-score   support\n",
      "\n",
      "               bacterial_spot       0.56      0.56      0.56       115\n",
      "                 early_blight       0.57      0.10      0.17       120\n",
      "                      healthy       0.49      0.59      0.54       125\n",
      "                  late_blight       0.71      0.26      0.38       125\n",
      "                    leaf_mold       0.71      0.61      0.66       127\n",
      "           septoria_leaf_spot       0.44      0.58      0.50       117\n",
      "                  target_spot       0.33      0.83      0.47       115\n",
      "          tomato_mosaic_virus       0.00      0.00      0.00        54\n",
      "tomato_yellow_leaf_curl_virus       0.64      0.81      0.72       114\n",
      "      two-spotted_spider_mite       0.47      0.41      0.44       128\n",
      "\n",
      "                     accuracy                           0.50      1140\n",
      "                    macro avg       0.49      0.47      0.44      1140\n",
      "                 weighted avg       0.52      0.50      0.47      1140\n",
      "\n",
      "[[64  2 13  3  0  1 14  0 13  5]\n",
      " [30 12  3  4  6 16 32  0  9  8]\n",
      " [ 1  0 74  0  1  0 48  0  0  1]\n",
      " [ 2  2 40 32  8 24  9  0  5  3]\n",
      " [ 4  0  7  1 78 18 10  0  2  7]\n",
      " [ 0  0  9  2  8 68 10  0 10 10]\n",
      " [ 2  0  0  0  0 11 95  0  0  7]\n",
      " [ 1  0  3  1  8 11 10  0  5 15]\n",
      " [ 5  1  1  2  1  4  4  0 92  4]\n",
      " [ 6  4  1  0  0  2 54  1  7 53]]\n"
     ]
    }
   ],
   "source": [
    "y_predict = classifier_rf.fit(Ftrain, Ltrain).predict(Ftest)\n",
    "class_names = target.unique()\n",
    "print(classification_report(Ltest, y_predict, target_names=class_names))\n",
    "print(confusion_matrix(Ltest, y_predict))"
   ]
  },
  {
   "cell_type": "markdown",
   "id": "b6a094e4",
   "metadata": {},
   "source": [
    "# Naive Bayes on RGB data"
   ]
  },
  {
   "cell_type": "code",
   "execution_count": 20,
   "id": "a5bc755b",
   "metadata": {},
   "outputs": [
    {
     "data": {
      "text/plain": [
       "GaussianNB()"
      ]
     },
     "execution_count": 20,
     "metadata": {},
     "output_type": "execute_result"
    }
   ],
   "source": [
    "from sklearn.naive_bayes import GaussianNB\n",
    "gnb = GaussianNB()\n",
    "gnb.fit(Ftrain, Ltrain)"
   ]
  },
  {
   "cell_type": "code",
   "execution_count": 21,
   "id": "6d162dcc",
   "metadata": {},
   "outputs": [],
   "source": [
    "y_pred = gnb.predict(Ftest)"
   ]
  },
  {
   "cell_type": "code",
   "execution_count": 22,
   "id": "8f7b4bab",
   "metadata": {},
   "outputs": [
    {
     "data": {
      "text/plain": [
       "0.39473684210526316"
      ]
     },
     "execution_count": 22,
     "metadata": {},
     "output_type": "execute_result"
    }
   ],
   "source": [
    "from sklearn import metrics\n",
    "metrics.accuracy_score(Ltest, y_pred)"
   ]
  },
  {
   "cell_type": "code",
   "execution_count": 23,
   "id": "980b37c5",
   "metadata": {},
   "outputs": [
    {
     "name": "stdout",
     "output_type": "stream",
     "text": [
      "                               precision    recall  f1-score   support\n",
      "\n",
      "               bacterial_spot       0.56      0.53      0.55       115\n",
      "                 early_blight       0.42      0.28      0.34       120\n",
      "                      healthy       0.42      0.47      0.45       125\n",
      "                  late_blight       0.36      0.25      0.29       125\n",
      "                    leaf_mold       0.73      0.30      0.42       127\n",
      "           septoria_leaf_spot       0.22      0.56      0.32       117\n",
      "                  target_spot       0.41      0.36      0.38       115\n",
      "          tomato_mosaic_virus       0.31      0.46      0.37        54\n",
      "tomato_yellow_leaf_curl_virus       0.70      0.39      0.50       114\n",
      "      two-spotted_spider_mite       0.38      0.41      0.39       128\n",
      "\n",
      "                     accuracy                           0.39      1140\n",
      "                    macro avg       0.45      0.40      0.40      1140\n",
      "                 weighted avg       0.46      0.39      0.40      1140\n",
      "\n",
      "[[61  6 10  1  0 10 10  4  7  6]\n",
      " [20 34  2 23  5 17  6  4  1  8]\n",
      " [ 1  0 59  4  1 25 26  1  0  8]\n",
      " [ 1 12 51 31  1 20  0  4  3  2]\n",
      " [ 6  2  2  7 38 46  2 18  1  5]\n",
      " [ 0  2 14  3  5 65  3  5  5 15]\n",
      " [ 2  5  0 11  0 34 41  2  0 20]\n",
      " [ 1  0  1  0  2 16  0 25  1  8]\n",
      " [12  9  1  5  0 22  2  5 44 14]\n",
      " [ 4 11  0  1  0 36 11 12  1 52]]\n"
     ]
    }
   ],
   "source": [
    "class_names = target.unique()\n",
    "print(classification_report(Ltest, y_pred, target_names=class_names))\n",
    "print(confusion_matrix(Ltest, y_pred))"
   ]
  },
  {
   "cell_type": "markdown",
   "id": "0ce0377b",
   "metadata": {},
   "source": [
    "# Decision Tree on RGB data"
   ]
  },
  {
   "cell_type": "code",
   "execution_count": 24,
   "id": "b9bba328",
   "metadata": {},
   "outputs": [],
   "source": [
    "from sklearn.tree import DecisionTreeClassifier\n",
    "classifier_tree = DecisionTreeClassifier()"
   ]
  },
  {
   "cell_type": "code",
   "execution_count": 25,
   "id": "b98668ce",
   "metadata": {},
   "outputs": [
    {
     "data": {
      "text/plain": [
       "0.3570175438596491"
      ]
     },
     "execution_count": 25,
     "metadata": {},
     "output_type": "execute_result"
    }
   ],
   "source": [
    "classifier_tree.fit(Ftrain, Ltrain)\n",
    "classifier_tree.score(Ftest,Ltest)"
   ]
  },
  {
   "cell_type": "code",
   "execution_count": 26,
   "id": "9fb604d9",
   "metadata": {},
   "outputs": [
    {
     "name": "stdout",
     "output_type": "stream",
     "text": [
      "                               precision    recall  f1-score   support\n",
      "\n",
      "               bacterial_spot       0.40      0.34      0.37       115\n",
      "                 early_blight       0.25      0.26      0.25       120\n",
      "                      healthy       0.57      0.43      0.49       125\n",
      "                  late_blight       0.33      0.42      0.36       125\n",
      "                    leaf_mold       0.53      0.37      0.44       127\n",
      "           septoria_leaf_spot       0.42      0.50      0.45       117\n",
      "                  target_spot       0.25      0.34      0.29       115\n",
      "          tomato_mosaic_virus       0.20      0.19      0.19        54\n",
      "tomato_yellow_leaf_curl_virus       0.48      0.43      0.45       114\n",
      "      two-spotted_spider_mite       0.34      0.34      0.34       128\n",
      "\n",
      "                     accuracy                           0.37      1140\n",
      "                    macro avg       0.38      0.36      0.36      1140\n",
      "                 weighted avg       0.39      0.37      0.37      1140\n",
      "\n",
      "[[39 16  4 11  6  5 19  1  9  5]\n",
      " [14 31  4  8  6  9 17  6 12 13]\n",
      " [ 2  5 54 24  5  1 18  4  1 11]\n",
      " [ 9 17  7 52  4 23  7  1  2  3]\n",
      " [ 3  4  6 23 47 15  8  9  4  8]\n",
      " [ 2  7  4 10  4 58 11  2 11  8]\n",
      " [ 3 17  4 10  4  8 39  7  2 21]\n",
      " [ 2  4  5  5  7  7  7 10  2  5]\n",
      " [17 10  3  8  3  6  6  4 49  8]\n",
      " [ 6 14  3  9  3  6 26  7 11 43]]\n"
     ]
    }
   ],
   "source": [
    "y_predict = classifier_tree.fit(Ftrain, Ltrain).predict(Ftest)\n",
    "class_names = target.unique()\n",
    "print(classification_report(Ltest, y_predict, target_names=class_names))\n",
    "print(confusion_matrix(Ltest, y_predict))"
   ]
  },
  {
   "cell_type": "markdown",
   "id": "c9daaaee",
   "metadata": {},
   "source": [
    "# KNN on grayscale data"
   ]
  },
  {
   "cell_type": "code",
   "execution_count": 27,
   "id": "57a9845e",
   "metadata": {},
   "outputs": [],
   "source": [
    "#reading numpy array data\n",
    "gray_test = np.load('gray_test.npy')\n",
    "#reading csv file\n",
    "gray_df = pd.read_csv('gray_data.csv')"
   ]
  },
  {
   "cell_type": "code",
   "execution_count": 28,
   "id": "25d4fea2",
   "metadata": {},
   "outputs": [],
   "source": [
    "loaded = []\n",
    "for i in gray_test:\n",
    "    k = []\n",
    "    k = np.asarray(i,dtype='uint8')\n",
    "    loaded.append(k)"
   ]
  },
  {
   "cell_type": "code",
   "execution_count": 29,
   "id": "d3abef95",
   "metadata": {},
   "outputs": [],
   "source": [
    "features = loaded\n",
    "target = gray_df['disease']\n",
    "Ftrain,Ftest,Ltrain,Ltest=train_test_split(features,target, test_size=0.20, random_state=20)\n",
    "Ftrain = minmax.fit_transform(Ftrain)\n",
    "Ftest = minmax.fit_transform(Ftest)"
   ]
  },
  {
   "cell_type": "code",
   "execution_count": 30,
   "id": "6f75adfd",
   "metadata": {},
   "outputs": [
    {
     "data": {
      "text/plain": [
       "0.4087719298245614"
      ]
     },
     "execution_count": 30,
     "metadata": {},
     "output_type": "execute_result"
    }
   ],
   "source": [
    "kmodel.fit(Ftrain,Ltrain)\n",
    "kmodel.score(Ftest,Ltest)"
   ]
  },
  {
   "cell_type": "code",
   "execution_count": 31,
   "id": "77baa349",
   "metadata": {},
   "outputs": [
    {
     "name": "stdout",
     "output_type": "stream",
     "text": [
      "                               precision    recall  f1-score   support\n",
      "\n",
      "               bacterial_spot       0.32      0.71      0.44       124\n",
      "                 early_blight       0.67      0.02      0.03       114\n",
      "                      healthy       0.38      0.73      0.50       131\n",
      "                  late_blight       0.29      0.20      0.24       124\n",
      "                    leaf_mold       0.60      0.43      0.50       117\n",
      "           septoria_leaf_spot       0.43      0.47      0.45       114\n",
      "                  target_spot       0.48      0.28      0.35       111\n",
      "          tomato_mosaic_virus       0.34      0.18      0.24        60\n",
      "tomato_yellow_leaf_curl_virus       0.50      0.21      0.30       121\n",
      "      two-spotted_spider_mite       0.50      0.67      0.57       124\n",
      "\n",
      "                     accuracy                           0.41      1140\n",
      "                    macro avg       0.45      0.39      0.36      1140\n",
      "                 weighted avg       0.45      0.41      0.37      1140\n",
      "\n",
      "[[88  0 15  7  1  4  2  0  4  3]\n",
      " [59  2  9  1  8  7  9  2  5 12]\n",
      " [10  0 96  9  1  8  1  3  2  1]\n",
      " [22  0 33 25 10 17  2  1  5  9]\n",
      " [10  0 21  8 50  7  4  6  5  6]\n",
      " [ 5  1 26 13  4 54  3  2  1  5]\n",
      " [28  0 13  6  0  9 31  1  2 21]\n",
      " [ 3  0 13  6  5  9  1 11  1 11]\n",
      " [34  0 20  6  4  6  5  5 26 15]\n",
      " [18  0  4  4  0  6  7  1  1 83]]\n"
     ]
    }
   ],
   "source": [
    "#printing results of the kmodel\n",
    "y_predict = kmodel.fit(Ftrain, Ltrain).predict(Ftest)\n",
    "class_names = target.unique()\n",
    "print(classification_report(Ltest, y_predict, target_names=class_names))\n",
    "print(confusion_matrix(Ltest, y_predict))"
   ]
  },
  {
   "cell_type": "markdown",
   "id": "197eedfc",
   "metadata": {},
   "source": [
    "# Logistic on grayscale data"
   ]
  },
  {
   "cell_type": "code",
   "execution_count": 32,
   "id": "9fd6cafe",
   "metadata": {},
   "outputs": [
    {
     "data": {
      "text/plain": [
       "0.4"
      ]
     },
     "execution_count": 32,
     "metadata": {},
     "output_type": "execute_result"
    }
   ],
   "source": [
    "from sklearn.linear_model import LogisticRegression\n",
    "model=LogisticRegression(solver='lbfgs', max_iter=10000)\n",
    "model.fit(Ftrain,Ltrain)\n",
    "model.score(Ftest,Ltest)"
   ]
  },
  {
   "cell_type": "code",
   "execution_count": 33,
   "id": "20a6d97e",
   "metadata": {},
   "outputs": [
    {
     "name": "stdout",
     "output_type": "stream",
     "text": [
      "                               precision    recall  f1-score   support\n",
      "\n",
      "               bacterial_spot       0.47      0.51      0.49       124\n",
      "                 early_blight       0.26      0.25      0.26       114\n",
      "                      healthy       0.46      0.54      0.50       131\n",
      "                  late_blight       0.26      0.14      0.18       124\n",
      "                    leaf_mold       0.58      0.45      0.51       117\n",
      "           septoria_leaf_spot       0.40      0.32      0.36       114\n",
      "                  target_spot       0.30      0.30      0.30       111\n",
      "          tomato_mosaic_virus       0.39      0.15      0.22        60\n",
      "tomato_yellow_leaf_curl_virus       0.37      0.49      0.42       121\n",
      "      two-spotted_spider_mite       0.43      0.69      0.53       124\n",
      "\n",
      "                     accuracy                           0.40      1140\n",
      "                    macro avg       0.39      0.38      0.38      1140\n",
      "                 weighted avg       0.39      0.40      0.39      1140\n",
      "\n",
      "[[63 20 16  5  1  2  6  0  6  5]\n",
      " [22 29  2  3  4  2 23  0 11 18]\n",
      " [ 7  3 71  7  4  7  9  0 12 11]\n",
      " [11 20 17 17 15 18  9  0 12  5]\n",
      " [ 5  7 11 11 53  9  5  2  7  7]\n",
      " [ 2  3 15 16  5 37 10  5  7 14]\n",
      " [14 14  5  1  2  4 33  0 15 23]\n",
      " [ 3  0  3  1  4  7  0  9 23 10]\n",
      " [ 6  7  7  4  4  4  6  6 59 18]\n",
      " [ 2  7  7  1  0  2 10  1  9 85]]\n"
     ]
    }
   ],
   "source": [
    "#classification report\n",
    "y_predict = model.fit(Ftrain, Ltrain).predict(Ftest)\n",
    "class_names = target.unique()\n",
    "print(classification_report(Ltest, y_predict, target_names=class_names))\n",
    "print(confusion_matrix(Ltest, y_predict))"
   ]
  },
  {
   "cell_type": "markdown",
   "id": "5284f869",
   "metadata": {},
   "source": [
    "# SVM on Grayscale data"
   ]
  },
  {
   "cell_type": "code",
   "execution_count": 34,
   "id": "d0db5c80",
   "metadata": {},
   "outputs": [
    {
     "name": "stdout",
     "output_type": "stream",
     "text": [
      "0.4131578947368421\n"
     ]
    }
   ],
   "source": [
    "clf = SVC(kernel='linear')\n",
    "clf.fit(Ftrain,Ltrain)\n",
    "y_pred = clf.predict(Ftest)\n",
    "print(accuracy_score(Ltest,y_pred))"
   ]
  },
  {
   "cell_type": "code",
   "execution_count": 35,
   "id": "bcddcf24",
   "metadata": {},
   "outputs": [
    {
     "name": "stdout",
     "output_type": "stream",
     "text": [
      "                               precision    recall  f1-score   support\n",
      "\n",
      "               bacterial_spot       0.43      0.48      0.46       124\n",
      "                 early_blight       0.30      0.28      0.29       114\n",
      "                      healthy       0.55      0.52      0.53       131\n",
      "                  late_blight       0.37      0.27      0.31       124\n",
      "                    leaf_mold       0.58      0.49      0.53       117\n",
      "           septoria_leaf_spot       0.33      0.32      0.33       114\n",
      "                  target_spot       0.29      0.39      0.33       111\n",
      "          tomato_mosaic_virus       0.45      0.17      0.24        60\n",
      "tomato_yellow_leaf_curl_virus       0.36      0.48      0.41       121\n",
      "      two-spotted_spider_mite       0.51      0.58      0.55       124\n",
      "\n",
      "                     accuracy                           0.41      1140\n",
      "                    macro avg       0.42      0.40      0.40      1140\n",
      "                 weighted avg       0.42      0.41      0.41      1140\n",
      "\n",
      "[[60 11 10  4  3  5 10  0 15  6]\n",
      " [21 32  1  3  6  1 26  0 12 12]\n",
      " [11  5 68  7  4 10  7  0 13  6]\n",
      " [12 21  9 34  8 20 11  1  7  1]\n",
      " [ 3  8  7 13 57 10  6  1  7  5]\n",
      " [ 1  7 12 17 10 37 18  3  6  3]\n",
      " [15 11  3  2  2  5 43  0 11 19]\n",
      " [ 4  0  3  2  2  9  1 10 24  5]\n",
      " [ 7  6  9 10  4  4  8  4 58 11]\n",
      " [ 5  6  2  0  2 10 17  3  7 72]]\n"
     ]
    }
   ],
   "source": [
    "#classification report\n",
    "y_predict = clf.fit(Ftrain, Ltrain).predict(Ftest)\n",
    "class_names = target.unique()\n",
    "print(classification_report(Ltest, y_predict, target_names=class_names))\n",
    "print(confusion_matrix(Ltest, y_predict))"
   ]
  },
  {
   "cell_type": "markdown",
   "id": "576fd580",
   "metadata": {},
   "source": [
    "# Random Forest on Grayscale"
   ]
  },
  {
   "cell_type": "code",
   "execution_count": 36,
   "id": "9dfa979e",
   "metadata": {},
   "outputs": [
    {
     "data": {
      "text/plain": [
       "RandomForestClassifier(max_depth=5, n_jobs=-1, oob_score=True, random_state=42)"
      ]
     },
     "execution_count": 36,
     "metadata": {},
     "output_type": "execute_result"
    }
   ],
   "source": [
    "classifier_rf.fit(Ftrain, Ltrain)"
   ]
  },
  {
   "cell_type": "code",
   "execution_count": 37,
   "id": "2b4347ef",
   "metadata": {},
   "outputs": [
    {
     "data": {
      "text/plain": [
       "0.4538275937705637"
      ]
     },
     "execution_count": 37,
     "metadata": {},
     "output_type": "execute_result"
    }
   ],
   "source": [
    "classifier_rf.oob_score_"
   ]
  },
  {
   "cell_type": "code",
   "execution_count": 38,
   "id": "9263c32f",
   "metadata": {},
   "outputs": [
    {
     "name": "stdout",
     "output_type": "stream",
     "text": [
      "                               precision    recall  f1-score   support\n",
      "\n",
      "               bacterial_spot       0.50      0.59      0.54       124\n",
      "                 early_blight       0.34      0.16      0.22       114\n",
      "                      healthy       0.45      0.69      0.55       131\n",
      "                  late_blight       0.54      0.15      0.24       124\n",
      "                    leaf_mold       0.61      0.49      0.54       117\n",
      "           septoria_leaf_spot       0.42      0.59      0.49       114\n",
      "                  target_spot       0.32      0.68      0.44       111\n",
      "          tomato_mosaic_virus       0.00      0.00      0.00        60\n",
      "tomato_yellow_leaf_curl_virus       0.53      0.31      0.39       121\n",
      "      two-spotted_spider_mite       0.50      0.56      0.52       124\n",
      "\n",
      "                     accuracy                           0.45      1140\n",
      "                    macro avg       0.42      0.42      0.39      1140\n",
      "                 weighted avg       0.44      0.45      0.41      1140\n",
      "\n",
      "[[73  5 19  2  2  2 12  0  6  3]\n",
      " [33 18  1  0  5 23 22  0  8  4]\n",
      " [ 0  0 91  2  3  2 32  0  0  1]\n",
      " [ 6 13 33 19 10 23 13  0  3  4]\n",
      " [ 6  2 12  1 57 10 21  0  2  6]\n",
      " [ 2  0 18  4  6 67 11  0  1  5]\n",
      " [ 5  2  1  0  0 11 76  0  2 14]\n",
      " [ 2  1 11  1  7  8  6  0  5 19]\n",
      " [18 10 15  6  4  7  9  0 38 14]\n",
      " [ 2  2  1  0  0  7 36  0  7 69]]\n"
     ]
    },
    {
     "name": "stderr",
     "output_type": "stream",
     "text": [
      "C:\\Users\\ravic\\anaconda3\\lib\\site-packages\\sklearn\\metrics\\_classification.py:1318: UndefinedMetricWarning: Precision and F-score are ill-defined and being set to 0.0 in labels with no predicted samples. Use `zero_division` parameter to control this behavior.\n",
      "  _warn_prf(average, modifier, msg_start, len(result))\n",
      "C:\\Users\\ravic\\anaconda3\\lib\\site-packages\\sklearn\\metrics\\_classification.py:1318: UndefinedMetricWarning: Precision and F-score are ill-defined and being set to 0.0 in labels with no predicted samples. Use `zero_division` parameter to control this behavior.\n",
      "  _warn_prf(average, modifier, msg_start, len(result))\n",
      "C:\\Users\\ravic\\anaconda3\\lib\\site-packages\\sklearn\\metrics\\_classification.py:1318: UndefinedMetricWarning: Precision and F-score are ill-defined and being set to 0.0 in labels with no predicted samples. Use `zero_division` parameter to control this behavior.\n",
      "  _warn_prf(average, modifier, msg_start, len(result))\n"
     ]
    }
   ],
   "source": [
    "y_predict = classifier_rf.fit(Ftrain, Ltrain).predict(Ftest)\n",
    "class_names = target.unique()\n",
    "print(classification_report(Ltest, y_predict, target_names=class_names))\n",
    "print(confusion_matrix(Ltest, y_predict))"
   ]
  },
  {
   "cell_type": "markdown",
   "id": "8befce61",
   "metadata": {},
   "source": [
    "# Naive bayes on Grayscale"
   ]
  },
  {
   "cell_type": "code",
   "execution_count": 39,
   "id": "0d1a6d3b",
   "metadata": {},
   "outputs": [
    {
     "data": {
      "text/plain": [
       "GaussianNB()"
      ]
     },
     "execution_count": 39,
     "metadata": {},
     "output_type": "execute_result"
    }
   ],
   "source": [
    "gnb.fit(Ftrain, Ltrain)"
   ]
  },
  {
   "cell_type": "code",
   "execution_count": 40,
   "id": "053c9a09",
   "metadata": {},
   "outputs": [
    {
     "data": {
      "text/plain": [
       "0.3701754385964912"
      ]
     },
     "execution_count": 40,
     "metadata": {},
     "output_type": "execute_result"
    }
   ],
   "source": [
    "y_pred = gnb.predict(Ftest)\n",
    "metrics.accuracy_score(Ltest, y_pred)"
   ]
  },
  {
   "cell_type": "code",
   "execution_count": 41,
   "id": "22c98d80",
   "metadata": {},
   "outputs": [
    {
     "name": "stdout",
     "output_type": "stream",
     "text": [
      "                               precision    recall  f1-score   support\n",
      "\n",
      "               bacterial_spot       0.58      0.55      0.56       124\n",
      "                 early_blight       0.35      0.35      0.35       114\n",
      "                      healthy       0.43      0.50      0.46       131\n",
      "                  late_blight       0.33      0.23      0.27       124\n",
      "                    leaf_mold       0.65      0.19      0.29       117\n",
      "           septoria_leaf_spot       0.24      0.58      0.34       114\n",
      "                  target_spot       0.41      0.35      0.38       111\n",
      "          tomato_mosaic_virus       0.32      0.40      0.36        60\n",
      "tomato_yellow_leaf_curl_virus       0.29      0.12      0.17       121\n",
      "      two-spotted_spider_mite       0.37      0.44      0.41       124\n",
      "\n",
      "                     accuracy                           0.37      1140\n",
      "                    macro avg       0.40      0.37      0.36      1140\n",
      "                 weighted avg       0.40      0.37      0.36      1140\n",
      "\n",
      "[[68  7 13  3  0  8 13  2  4  6]\n",
      " [17 40  1 26  4 10  6  0  3  7]\n",
      " [ 0  1 66  3  5 20 16  3 12  5]\n",
      " [ 1 24 31 28  1 30  2  2  3  2]\n",
      " [ 5  4  5  9 22 35  4 17  5 11]\n",
      " [ 1  3 19  5  1 66  6  3  2  8]\n",
      " [ 2 11  0  8  0 28 39  2  1 20]\n",
      " [ 5  0  4  0  1 15  1 24  1  9]\n",
      " [17 11 15  3  0 22  3 12 14 24]\n",
      " [ 1 12  0  0  0 38  6  9  3 55]]\n"
     ]
    }
   ],
   "source": [
    "class_names = target.unique()\n",
    "print(classification_report(Ltest, y_pred, target_names=class_names))\n",
    "print(confusion_matrix(Ltest, y_pred))"
   ]
  },
  {
   "cell_type": "markdown",
   "id": "9a562db7",
   "metadata": {},
   "source": [
    "# Decision Tree on Grayscale"
   ]
  },
  {
   "cell_type": "code",
   "execution_count": 42,
   "id": "a4e9cd0d",
   "metadata": {},
   "outputs": [
    {
     "data": {
      "text/plain": [
       "0.30087719298245613"
      ]
     },
     "execution_count": 42,
     "metadata": {},
     "output_type": "execute_result"
    }
   ],
   "source": [
    "classifier_tree.fit(Ftrain, Ltrain)\n",
    "classifier_tree.score(Ftest,Ltest)"
   ]
  },
  {
   "cell_type": "code",
   "execution_count": 43,
   "id": "523c3773",
   "metadata": {},
   "outputs": [
    {
     "name": "stdout",
     "output_type": "stream",
     "text": [
      "                               precision    recall  f1-score   support\n",
      "\n",
      "               bacterial_spot       0.44      0.38      0.41       124\n",
      "                 early_blight       0.18      0.23      0.20       114\n",
      "                      healthy       0.56      0.44      0.49       131\n",
      "                  late_blight       0.30      0.31      0.31       124\n",
      "                    leaf_mold       0.35      0.28      0.31       117\n",
      "           septoria_leaf_spot       0.25      0.32      0.28       114\n",
      "                  target_spot       0.26      0.30      0.28       111\n",
      "          tomato_mosaic_virus       0.15      0.15      0.15        60\n",
      "tomato_yellow_leaf_curl_virus       0.25      0.21      0.23       121\n",
      "      two-spotted_spider_mite       0.34      0.35      0.34       124\n",
      "\n",
      "                     accuracy                           0.31      1140\n",
      "                    macro avg       0.31      0.30      0.30      1140\n",
      "                 weighted avg       0.32      0.31      0.31      1140\n",
      "\n",
      "[[47 12  3 12  5  9 12  7 14  3]\n",
      " [18 26  3 10 12 10  8  2 10 15]\n",
      " [ 4  4 57 10  6 15  9 10  8  8]\n",
      " [ 7 15 15 39  9 10  6  5 11  7]\n",
      " [ 7 16  3  7 33 13  9 10  8 11]\n",
      " [ 3 12  6 23 12 37 11  1  7  2]\n",
      " [ 5 16  2  8  3 20 33  1  6 17]\n",
      " [ 3  3  3  5  7  7  8  9  9  6]\n",
      " [11 19  7 11  4  8 11  9 25 16]\n",
      " [ 3 18  2  6  4 17 21  7  3 43]]\n"
     ]
    }
   ],
   "source": [
    "y_predict = classifier_tree.fit(Ftrain, Ltrain).predict(Ftest)\n",
    "class_names = target.unique()\n",
    "print(classification_report(Ltest, y_predict, target_names=class_names))\n",
    "print(confusion_matrix(Ltest, y_predict))"
   ]
  },
  {
   "cell_type": "markdown",
   "id": "e42f549f",
   "metadata": {},
   "source": [
    "# KNN on Red channel data"
   ]
  },
  {
   "cell_type": "code",
   "execution_count": 44,
   "id": "cb75cbbd",
   "metadata": {},
   "outputs": [],
   "source": [
    "#reading numpy array data\n",
    "gray_test = np.load('red_data.npy')\n",
    "#reading csv file\n",
    "gray_df = pd.read_csv('red_data.csv')"
   ]
  },
  {
   "cell_type": "code",
   "execution_count": 45,
   "id": "7fda7839",
   "metadata": {},
   "outputs": [],
   "source": [
    "loaded = []\n",
    "for i in gray_test:\n",
    "    k = []\n",
    "    k = np.asarray(i,dtype='uint8')\n",
    "    loaded.append(k)\n",
    "features = loaded\n",
    "target = gray_df['disease']\n",
    "Ftrain,Ftest,Ltrain,Ltest=train_test_split(features,target, test_size=0.20, random_state=20)\n",
    "Ftrain = minmax.fit_transform(Ftrain)\n",
    "Ftest = minmax.fit_transform(Ftest)"
   ]
  },
  {
   "cell_type": "code",
   "execution_count": 46,
   "id": "683839f2",
   "metadata": {},
   "outputs": [
    {
     "data": {
      "text/plain": [
       "0.4517543859649123"
      ]
     },
     "execution_count": 46,
     "metadata": {},
     "output_type": "execute_result"
    }
   ],
   "source": [
    "kmodel.fit(Ftrain,Ltrain)\n",
    "kmodel.score(Ftest,Ltest)"
   ]
  },
  {
   "cell_type": "code",
   "execution_count": 47,
   "id": "53bc7b93",
   "metadata": {},
   "outputs": [
    {
     "name": "stdout",
     "output_type": "stream",
     "text": [
      "                               precision    recall  f1-score   support\n",
      "\n",
      "               bacterial_spot       0.42      0.70      0.52       124\n",
      "                 early_blight       0.20      0.01      0.02       114\n",
      "                      healthy       0.45      0.82      0.58       131\n",
      "                  late_blight       0.36      0.29      0.32       124\n",
      "                    leaf_mold       0.60      0.42      0.49       117\n",
      "           septoria_leaf_spot       0.44      0.44      0.44       114\n",
      "                  target_spot       0.44      0.39      0.41       111\n",
      "          tomato_mosaic_virus       0.52      0.45      0.48        60\n",
      "tomato_yellow_leaf_curl_virus       0.45      0.21      0.29       121\n",
      "      two-spotted_spider_mite       0.48      0.72      0.58       124\n",
      "\n",
      "                     accuracy                           0.45      1140\n",
      "                    macro avg       0.44      0.44      0.41      1140\n",
      "                 weighted avg       0.43      0.45      0.41      1140\n",
      "\n",
      "[[ 87   1  15  12   1   6   1   0   1   0]\n",
      " [ 51   1   8   1  11   7  16   0   6  13]\n",
      " [  1   0 107   7   1   9   0   3   3   0]\n",
      " [ 14   0  22  36   8  21   4   2   7  10]\n",
      " [  5   0  24  13  49   4   7   3   5   7]\n",
      " [  4   0  17  14   4  50   4   5   2  14]\n",
      " [ 17   2  14   2   0   6  43   0   2  25]\n",
      " [  2   0   7   3   5   5   0  27   2   9]\n",
      " [ 25   1  21  10   3   3   7   8  26  17]\n",
      " [  3   0   3   2   0   3  16   4   4  89]]\n"
     ]
    }
   ],
   "source": [
    "#printing results of the kmodel\n",
    "y_predict = kmodel.fit(Ftrain, Ltrain).predict(Ftest)\n",
    "class_names = target.unique()\n",
    "print(classification_report(Ltest, y_predict, target_names=class_names))\n",
    "print(confusion_matrix(Ltest, y_predict))"
   ]
  },
  {
   "cell_type": "markdown",
   "id": "ffcda594",
   "metadata": {},
   "source": [
    "# Logistic on Red channel data"
   ]
  },
  {
   "cell_type": "code",
   "execution_count": 48,
   "id": "1ed4037b",
   "metadata": {},
   "outputs": [
    {
     "data": {
      "text/plain": [
       "0.40964912280701754"
      ]
     },
     "execution_count": 48,
     "metadata": {},
     "output_type": "execute_result"
    }
   ],
   "source": [
    "model.fit(Ftrain,Ltrain)\n",
    "model.score(Ftest,Ltest)"
   ]
  },
  {
   "cell_type": "code",
   "execution_count": 49,
   "id": "22b11f2e",
   "metadata": {},
   "outputs": [
    {
     "name": "stdout",
     "output_type": "stream",
     "text": [
      "                               precision    recall  f1-score   support\n",
      "\n",
      "               bacterial_spot       0.51      0.41      0.46       124\n",
      "                 early_blight       0.26      0.33      0.29       114\n",
      "                      healthy       0.53      0.60      0.56       131\n",
      "                  late_blight       0.22      0.16      0.19       124\n",
      "                    leaf_mold       0.60      0.48      0.53       117\n",
      "           septoria_leaf_spot       0.36      0.32      0.33       114\n",
      "                  target_spot       0.30      0.36      0.33       111\n",
      "          tomato_mosaic_virus       0.35      0.32      0.33        60\n",
      "tomato_yellow_leaf_curl_virus       0.40      0.38      0.39       121\n",
      "      two-spotted_spider_mite       0.52      0.66      0.58       124\n",
      "\n",
      "                     accuracy                           0.41      1140\n",
      "                    macro avg       0.40      0.40      0.40      1140\n",
      "                 weighted avg       0.41      0.41      0.41      1140\n",
      "\n",
      "[[51 30 12 12  2  5  8  1  2  1]\n",
      " [18 38  2  5  5  3 24  1 10  8]\n",
      " [ 3  5 79 11  3  7  8  0  9  6]\n",
      " [ 9 17 17 20  7 23 14  8  4  5]\n",
      " [ 5  8 10 10 56  8  6  3  7  4]\n",
      " [ 2  6 10 20  7 36 12  6  5 10]\n",
      " [ 5 21  7  1  2  5 40  0 11 19]\n",
      " [ 0  1  1  1  6  5  0 19 18  9]\n",
      " [ 7 11  5  8  5  5  7 13 46 14]\n",
      " [ 0  8  6  1  1  4 15  3  4 82]]\n"
     ]
    }
   ],
   "source": [
    "#classification report\n",
    "y_predict = model.fit(Ftrain, Ltrain).predict(Ftest)\n",
    "class_names = target.unique()\n",
    "print(classification_report(Ltest, y_predict, target_names=class_names))\n",
    "print(confusion_matrix(Ltest, y_predict))"
   ]
  },
  {
   "cell_type": "markdown",
   "id": "dba6d5ce",
   "metadata": {},
   "source": [
    "# SVM on Red channel data"
   ]
  },
  {
   "cell_type": "code",
   "execution_count": 50,
   "id": "6ed153f7",
   "metadata": {},
   "outputs": [
    {
     "name": "stdout",
     "output_type": "stream",
     "text": [
      "0.42105263157894735\n"
     ]
    }
   ],
   "source": [
    "clf.fit(Ftrain,Ltrain)\n",
    "y_pred = clf.predict(Ftest)\n",
    "print(accuracy_score(Ltest,y_pred))"
   ]
  },
  {
   "cell_type": "code",
   "execution_count": 51,
   "id": "3d2d1d59",
   "metadata": {},
   "outputs": [
    {
     "name": "stdout",
     "output_type": "stream",
     "text": [
      "                               precision    recall  f1-score   support\n",
      "\n",
      "               bacterial_spot       0.47      0.41      0.44       124\n",
      "                 early_blight       0.27      0.32      0.29       114\n",
      "                      healthy       0.49      0.58      0.53       131\n",
      "                  late_blight       0.27      0.22      0.24       124\n",
      "                    leaf_mold       0.62      0.45      0.52       117\n",
      "           septoria_leaf_spot       0.33      0.29      0.31       114\n",
      "                  target_spot       0.34      0.44      0.38       111\n",
      "          tomato_mosaic_virus       0.47      0.47      0.47        60\n",
      "tomato_yellow_leaf_curl_virus       0.43      0.43      0.43       121\n",
      "      two-spotted_spider_mite       0.58      0.60      0.59       124\n",
      "\n",
      "                     accuracy                           0.42      1140\n",
      "                    macro avg       0.43      0.42      0.42      1140\n",
      "                 weighted avg       0.43      0.42      0.42      1140\n",
      "\n",
      "[[51 27 12  9  1  4  7  2  9  2]\n",
      " [19 36  2  6  4  2 24  1 12  8]\n",
      " [11  5 76 12  2  6  9  0  9  1]\n",
      " [ 8 17 20 27  8 21 10  5  4  4]\n",
      " [ 2  6 13 15 53  9  6  3  6  4]\n",
      " [ 0  8 12 20  6 33 16  7  5  7]\n",
      " [ 8 17  4  0  1  8 49  0  8 16]\n",
      " [ 3  1  1  0  5  7  0 28 11  4]\n",
      " [ 6  7 12 10  5  3  9  8 52  9]\n",
      " [ 1  8  3  2  0  8 16  6  5 75]]\n"
     ]
    }
   ],
   "source": [
    "#classification report\n",
    "y_predict = clf.fit(Ftrain, Ltrain).predict(Ftest)\n",
    "class_names = target.unique()\n",
    "print(classification_report(Ltest, y_predict, target_names=class_names))\n",
    "print(confusion_matrix(Ltest, y_predict))"
   ]
  },
  {
   "cell_type": "markdown",
   "id": "a670c4d4",
   "metadata": {},
   "source": [
    "# Random forest on Red channel data"
   ]
  },
  {
   "cell_type": "code",
   "execution_count": 52,
   "id": "9e816e9e",
   "metadata": {},
   "outputs": [
    {
     "data": {
      "text/plain": [
       "0.46874314542662865"
      ]
     },
     "execution_count": 52,
     "metadata": {},
     "output_type": "execute_result"
    }
   ],
   "source": [
    "classifier_rf.fit(Ftrain, Ltrain)\n",
    "classifier_rf.oob_score_"
   ]
  },
  {
   "cell_type": "code",
   "execution_count": 53,
   "id": "6d5daf40",
   "metadata": {},
   "outputs": [
    {
     "name": "stdout",
     "output_type": "stream",
     "text": [
      "                               precision    recall  f1-score   support\n",
      "\n",
      "               bacterial_spot       0.56      0.55      0.55       124\n",
      "                 early_blight       0.27      0.11      0.15       114\n",
      "                      healthy       0.47      0.74      0.57       131\n",
      "                  late_blight       0.58      0.20      0.30       124\n",
      "                    leaf_mold       0.64      0.56      0.60       117\n",
      "           septoria_leaf_spot       0.44      0.60      0.51       114\n",
      "                  target_spot       0.38      0.68      0.49       111\n",
      "          tomato_mosaic_virus       0.00      0.00      0.00        60\n",
      "tomato_yellow_leaf_curl_virus       0.43      0.29      0.35       121\n",
      "      two-spotted_spider_mite       0.48      0.72      0.57       124\n",
      "\n",
      "                     accuracy                           0.47      1140\n",
      "                    macro avg       0.42      0.44      0.41      1140\n",
      "                 weighted avg       0.45      0.47      0.43      1140\n",
      "\n",
      "[[68  7 20  5  0  2 10  0  8  4]\n",
      " [29 12  3  0 11 22 20  0  9  8]\n",
      " [ 0  0 97  2  1  1 25  0  1  4]\n",
      " [ 5 11 24 25 10 24 12  0  5  8]\n",
      " [ 2  1 14  2 65  8 14  0  5  6]\n",
      " [ 2  0 18  3  2 68  9  0  1 11]\n",
      " [ 1  4  1  0  0  9 76  0  3 17]\n",
      " [ 1  1  7  0  5  9  5  0 10 22]\n",
      " [13  7 24  6  7  5  7  0 35 17]\n",
      " [ 1  2  0  0  0  5 23  0  4 89]]\n"
     ]
    },
    {
     "name": "stderr",
     "output_type": "stream",
     "text": [
      "C:\\Users\\ravic\\anaconda3\\lib\\site-packages\\sklearn\\metrics\\_classification.py:1318: UndefinedMetricWarning: Precision and F-score are ill-defined and being set to 0.0 in labels with no predicted samples. Use `zero_division` parameter to control this behavior.\n",
      "  _warn_prf(average, modifier, msg_start, len(result))\n",
      "C:\\Users\\ravic\\anaconda3\\lib\\site-packages\\sklearn\\metrics\\_classification.py:1318: UndefinedMetricWarning: Precision and F-score are ill-defined and being set to 0.0 in labels with no predicted samples. Use `zero_division` parameter to control this behavior.\n",
      "  _warn_prf(average, modifier, msg_start, len(result))\n",
      "C:\\Users\\ravic\\anaconda3\\lib\\site-packages\\sklearn\\metrics\\_classification.py:1318: UndefinedMetricWarning: Precision and F-score are ill-defined and being set to 0.0 in labels with no predicted samples. Use `zero_division` parameter to control this behavior.\n",
      "  _warn_prf(average, modifier, msg_start, len(result))\n"
     ]
    }
   ],
   "source": [
    "y_predict = classifier_rf.fit(Ftrain, Ltrain).predict(Ftest)\n",
    "class_names = target.unique()\n",
    "print(classification_report(Ltest, y_predict, target_names=class_names))\n",
    "print(confusion_matrix(Ltest, y_predict))"
   ]
  },
  {
   "cell_type": "markdown",
   "id": "e1c2d95a",
   "metadata": {},
   "source": [
    "# Naive Bayes on Red channel data"
   ]
  },
  {
   "cell_type": "code",
   "execution_count": 54,
   "id": "8ec0753c",
   "metadata": {},
   "outputs": [
    {
     "data": {
      "text/plain": [
       "GaussianNB()"
      ]
     },
     "execution_count": 54,
     "metadata": {},
     "output_type": "execute_result"
    }
   ],
   "source": [
    "gnb.fit(Ftrain, Ltrain)"
   ]
  },
  {
   "cell_type": "code",
   "execution_count": 55,
   "id": "9bd3c55d",
   "metadata": {},
   "outputs": [
    {
     "data": {
      "text/plain": [
       "0.39824561403508774"
      ]
     },
     "execution_count": 55,
     "metadata": {},
     "output_type": "execute_result"
    }
   ],
   "source": [
    "y_pred = gnb.predict(Ftest)\n",
    "metrics.accuracy_score(Ltest, y_pred)"
   ]
  },
  {
   "cell_type": "code",
   "execution_count": 56,
   "id": "fc44e44c",
   "metadata": {},
   "outputs": [
    {
     "name": "stdout",
     "output_type": "stream",
     "text": [
      "                               precision    recall  f1-score   support\n",
      "\n",
      "               bacterial_spot       0.58      0.57      0.58       124\n",
      "                 early_blight       0.37      0.32      0.35       114\n",
      "                      healthy       0.53      0.56      0.55       131\n",
      "                  late_blight       0.39      0.27      0.32       124\n",
      "                    leaf_mold       0.60      0.22      0.32       117\n",
      "           septoria_leaf_spot       0.23      0.53      0.32       114\n",
      "                  target_spot       0.45      0.41      0.42       111\n",
      "          tomato_mosaic_virus       0.33      0.35      0.34        60\n",
      "tomato_yellow_leaf_curl_virus       0.36      0.12      0.17       121\n",
      "      two-spotted_spider_mite       0.39      0.59      0.47       124\n",
      "\n",
      "                     accuracy                           0.40      1140\n",
      "                    macro avg       0.42      0.39      0.38      1140\n",
      "                 weighted avg       0.43      0.40      0.39      1140\n",
      "\n",
      "[[71  7 13  4  0  8 11  1  3  6]\n",
      " [19 37  1 22  8 10  7  0  2  8]\n",
      " [ 0  2 74  3  2 17 13  4  9  7]\n",
      " [ 0 18 20 33  2 38  2  4  4  3]\n",
      " [ 6  4  6  7 26 41  4 10  4  9]\n",
      " [ 1  5 11  7  1 60 10  3  2 14]\n",
      " [ 1  9  0  6  0 24 45  0  1 25]\n",
      " [ 4  0  1  0  2 11  1 21  0 20]\n",
      " [20 11 14  3  2 19  2 14 14 22]\n",
      " [ 0  7  0  0  0 31  6  7  0 73]]\n"
     ]
    }
   ],
   "source": [
    "class_names = target.unique()\n",
    "print(classification_report(Ltest, y_pred, target_names=class_names))\n",
    "print(confusion_matrix(Ltest, y_pred))"
   ]
  },
  {
   "cell_type": "markdown",
   "id": "1aad544a",
   "metadata": {},
   "source": [
    "# Decision Tree on Red channel"
   ]
  },
  {
   "cell_type": "code",
   "execution_count": 57,
   "id": "91934650",
   "metadata": {},
   "outputs": [
    {
     "data": {
      "text/plain": [
       "0.32456140350877194"
      ]
     },
     "execution_count": 57,
     "metadata": {},
     "output_type": "execute_result"
    }
   ],
   "source": [
    "classifier_tree.fit(Ftrain, Ltrain)\n",
    "classifier_tree.score(Ftest,Ltest)"
   ]
  },
  {
   "cell_type": "code",
   "execution_count": 58,
   "id": "897d5f1e",
   "metadata": {},
   "outputs": [
    {
     "name": "stdout",
     "output_type": "stream",
     "text": [
      "                               precision    recall  f1-score   support\n",
      "\n",
      "               bacterial_spot       0.43      0.30      0.35       124\n",
      "                 early_blight       0.22      0.26      0.24       114\n",
      "                      healthy       0.59      0.44      0.50       131\n",
      "                  late_blight       0.28      0.27      0.27       124\n",
      "                    leaf_mold       0.32      0.32      0.32       117\n",
      "           septoria_leaf_spot       0.24      0.32      0.28       114\n",
      "                  target_spot       0.27      0.36      0.31       111\n",
      "          tomato_mosaic_virus       0.21      0.13      0.16        60\n",
      "tomato_yellow_leaf_curl_virus       0.33      0.27      0.30       121\n",
      "      two-spotted_spider_mite       0.36      0.44      0.39       124\n",
      "\n",
      "                     accuracy                           0.32      1140\n",
      "                    macro avg       0.33      0.31      0.31      1140\n",
      "                 weighted avg       0.34      0.32      0.32      1140\n",
      "\n",
      "[[37 21  4 11 10  7  8  2 18  6]\n",
      " [15 30  5 13  9 12 12  0  5 13]\n",
      " [ 5  5 57  7  4 13 22  2  4 12]\n",
      " [ 5  6  4 33 16 25 10  3 17  5]\n",
      " [ 7 17  5 15 38 13  8  3  5  6]\n",
      " [ 4 13  5 19 13 37  9  3  2  9]\n",
      " [ 0 12  3  4  8 20 40  1  5 18]\n",
      " [ 1  5  2  3 10  7  4  8  8 12]\n",
      " [11 13  9  6  6 10  7  9 33 17]\n",
      " [ 1 12  2  5  5  8 26  8  3 54]]\n"
     ]
    }
   ],
   "source": [
    "y_predict = classifier_tree.fit(Ftrain, Ltrain).predict(Ftest)\n",
    "class_names = target.unique()\n",
    "print(classification_report(Ltest, y_predict, target_names=class_names))\n",
    "print(confusion_matrix(Ltest, y_predict))"
   ]
  },
  {
   "cell_type": "markdown",
   "id": "21af7568",
   "metadata": {},
   "source": [
    "# KNN on green channel data"
   ]
  },
  {
   "cell_type": "code",
   "execution_count": 59,
   "id": "461b784b",
   "metadata": {},
   "outputs": [
    {
     "data": {
      "text/plain": [
       "0.3780701754385965"
      ]
     },
     "execution_count": 59,
     "metadata": {},
     "output_type": "execute_result"
    }
   ],
   "source": [
    "#reading numpy array data\n",
    "gray_test = np.load('green_data.npy')\n",
    "#reading csv file\n",
    "gray_df = pd.read_csv('green_data.csv')\n",
    "loaded = []\n",
    "for i in gray_test:\n",
    "    k = []\n",
    "    k = np.asarray(i,dtype='uint8')\n",
    "    loaded.append(k)\n",
    "features = loaded\n",
    "target = gray_df['disease']\n",
    "Ftrain,Ftest,Ltrain,Ltest=train_test_split(features,target, test_size=0.20, random_state=20)\n",
    "Ftrain = minmax.fit_transform(Ftrain)\n",
    "Ftest = minmax.fit_transform(Ftest)\n",
    "kmodel.fit(Ftrain,Ltrain)\n",
    "kmodel.score(Ftest,Ltest)"
   ]
  },
  {
   "cell_type": "code",
   "execution_count": 60,
   "id": "5a4d4f1d",
   "metadata": {},
   "outputs": [
    {
     "name": "stdout",
     "output_type": "stream",
     "text": [
      "                               precision    recall  f1-score   support\n",
      "\n",
      "               bacterial_spot       0.31      0.71      0.43       124\n",
      "                 early_blight       0.40      0.02      0.03       114\n",
      "                      healthy       0.35      0.67      0.46       131\n",
      "                  late_blight       0.26      0.15      0.19       124\n",
      "                    leaf_mold       0.50      0.41      0.45       117\n",
      "           septoria_leaf_spot       0.36      0.47      0.41       114\n",
      "                  target_spot       0.53      0.23      0.33       111\n",
      "          tomato_mosaic_virus       0.27      0.07      0.11        60\n",
      "tomato_yellow_leaf_curl_virus       0.53      0.21      0.30       121\n",
      "      two-spotted_spider_mite       0.47      0.62      0.53       124\n",
      "\n",
      "                     accuracy                           0.38      1140\n",
      "                    macro avg       0.40      0.36      0.32      1140\n",
      "                 weighted avg       0.40      0.38      0.34      1140\n",
      "\n",
      "[[88  0 15  4  2  5  1  0  5  4]\n",
      " [60  2  9  1  9  6  5  1  5 16]\n",
      " [10  1 88 11  6 10  1  1  1  2]\n",
      " [23  1 35 19 10 20  1  0  6  9]\n",
      " [ 8  1 24 10 48  7  4  3  3  9]\n",
      " [ 5  0 33  9  5 54  1  1  0  6]\n",
      " [29  0 10  8  0 13 26  2  0 23]\n",
      " [ 3  0 16  4  9 14  2  4  1  7]\n",
      " [40  0 19  4  7  9  4  2 25 11]\n",
      " [22  0  5  4  0 10  4  1  1 77]]\n"
     ]
    }
   ],
   "source": [
    "#printing results of the kmodel\n",
    "y_predict = kmodel.fit(Ftrain, Ltrain).predict(Ftest)\n",
    "class_names = target.unique()\n",
    "print(classification_report(Ltest, y_predict, target_names=class_names))\n",
    "print(confusion_matrix(Ltest, y_predict))"
   ]
  },
  {
   "cell_type": "markdown",
   "id": "71f3ea86",
   "metadata": {},
   "source": [
    "# Logistic on Green channel data"
   ]
  },
  {
   "cell_type": "code",
   "execution_count": 61,
   "id": "28dad6b2",
   "metadata": {},
   "outputs": [
    {
     "data": {
      "text/plain": [
       "0.3956140350877193"
      ]
     },
     "execution_count": 61,
     "metadata": {},
     "output_type": "execute_result"
    }
   ],
   "source": [
    "model.fit(Ftrain,Ltrain)\n",
    "model.score(Ftest,Ltest)"
   ]
  },
  {
   "cell_type": "code",
   "execution_count": 62,
   "id": "3c0993f1",
   "metadata": {},
   "outputs": [
    {
     "name": "stdout",
     "output_type": "stream",
     "text": [
      "                               precision    recall  f1-score   support\n",
      "\n",
      "               bacterial_spot       0.43      0.46      0.44       124\n",
      "                 early_blight       0.30      0.24      0.26       114\n",
      "                      healthy       0.49      0.53      0.51       131\n",
      "                  late_blight       0.37      0.15      0.21       124\n",
      "                    leaf_mold       0.47      0.46      0.47       117\n",
      "           septoria_leaf_spot       0.41      0.33      0.37       114\n",
      "                  target_spot       0.26      0.25      0.26       111\n",
      "          tomato_mosaic_virus       0.40      0.10      0.16        60\n",
      "tomato_yellow_leaf_curl_virus       0.34      0.50      0.41       121\n",
      "      two-spotted_spider_mite       0.43      0.74      0.54       124\n",
      "\n",
      "                     accuracy                           0.40      1140\n",
      "                    macro avg       0.39      0.38      0.36      1140\n",
      "                 weighted avg       0.39      0.40      0.38      1140\n",
      "\n",
      "[[57 14 12  2  5  4  8  0 10 12]\n",
      " [28 27  3  2  4  2 18  0 11 19]\n",
      " [ 6  3 70  2  4  5 14  0 13 14]\n",
      " [10 16 11 18 21 20 11  1 11  5]\n",
      " [ 4  7 11  9 54  7  5  3  9  8]\n",
      " [ 1  1 18 13 12 38  9  1 10 11]\n",
      " [12 11  6  2  2  5 28  0 20 25]\n",
      " [ 6  0  3  0  6  5  1  6 23 10]\n",
      " [ 7  7  5  0  5  5  8  3 61 20]\n",
      " [ 2  4  5  1  2  2  6  1  9 92]]\n"
     ]
    }
   ],
   "source": [
    "#classification report\n",
    "y_predict = model.fit(Ftrain, Ltrain).predict(Ftest)\n",
    "class_names = target.unique()\n",
    "print(classification_report(Ltest, y_predict, target_names=class_names))\n",
    "print(confusion_matrix(Ltest, y_predict))"
   ]
  },
  {
   "cell_type": "markdown",
   "id": "f62f0223",
   "metadata": {},
   "source": [
    "# SVM on green channel data"
   ]
  },
  {
   "cell_type": "code",
   "execution_count": 63,
   "id": "e89e7297",
   "metadata": {},
   "outputs": [
    {
     "name": "stdout",
     "output_type": "stream",
     "text": [
      "0.41578947368421054\n"
     ]
    }
   ],
   "source": [
    "clf.fit(Ftrain,Ltrain)\n",
    "y_pred = clf.predict(Ftest)\n",
    "print(accuracy_score(Ltest,y_pred))"
   ]
  },
  {
   "cell_type": "code",
   "execution_count": 64,
   "id": "aaec32cf",
   "metadata": {},
   "outputs": [
    {
     "name": "stdout",
     "output_type": "stream",
     "text": [
      "                               precision    recall  f1-score   support\n",
      "\n",
      "               bacterial_spot       0.40      0.44      0.42       124\n",
      "                 early_blight       0.32      0.25      0.28       114\n",
      "                      healthy       0.46      0.56      0.50       131\n",
      "                  late_blight       0.45      0.25      0.32       124\n",
      "                    leaf_mold       0.52      0.50      0.51       117\n",
      "           septoria_leaf_spot       0.38      0.34      0.36       114\n",
      "                  target_spot       0.30      0.34      0.32       111\n",
      "          tomato_mosaic_virus       0.62      0.13      0.22        60\n",
      "tomato_yellow_leaf_curl_virus       0.37      0.54      0.44       121\n",
      "      two-spotted_spider_mite       0.51      0.63      0.56       124\n",
      "\n",
      "                     accuracy                           0.42      1140\n",
      "                    macro avg       0.43      0.40      0.39      1140\n",
      "                 weighted avg       0.42      0.42      0.41      1140\n",
      "\n",
      "[[54 11 16  1  3  3  9  0 19  8]\n",
      " [25 29  2  5  3  2 21  0 11 16]\n",
      " [11  4 73  3  5  7 10  0 10  8]\n",
      " [10 18 11 31 12 20 10  0  8  4]\n",
      " [ 3  6 11 10 59 10  7  2  5  4]\n",
      " [ 3  2 20 11 12 39 14  1  7  5]\n",
      " [17  9  4  2  5  3 38  1 16 16]\n",
      " [ 3  0  5  3  5  9  2  8 22  3]\n",
      " [ 6  5 13  3  6  4  7  1 65 11]\n",
      " [ 3  6  5  0  3  7  9  0 13 78]]\n"
     ]
    }
   ],
   "source": [
    "#classification report\n",
    "y_predict = clf.fit(Ftrain, Ltrain).predict(Ftest)\n",
    "class_names = target.unique()\n",
    "print(classification_report(Ltest, y_predict, target_names=class_names))\n",
    "print(confusion_matrix(Ltest, y_predict))"
   ]
  },
  {
   "cell_type": "markdown",
   "id": "4f8e565e",
   "metadata": {},
   "source": [
    "# Random Forest on green channel data"
   ]
  },
  {
   "cell_type": "code",
   "execution_count": 65,
   "id": "96c92f8f",
   "metadata": {},
   "outputs": [
    {
     "data": {
      "text/plain": [
       "0.4316736126343496"
      ]
     },
     "execution_count": 65,
     "metadata": {},
     "output_type": "execute_result"
    }
   ],
   "source": [
    "classifier_rf.fit(Ftrain, Ltrain)\n",
    "classifier_rf.oob_score_"
   ]
  },
  {
   "cell_type": "code",
   "execution_count": 66,
   "id": "a855ce64",
   "metadata": {},
   "outputs": [
    {
     "name": "stdout",
     "output_type": "stream",
     "text": [
      "                               precision    recall  f1-score   support\n",
      "\n",
      "               bacterial_spot       0.43      0.55      0.48       124\n",
      "                 early_blight       0.35      0.21      0.26       114\n",
      "                      healthy       0.43      0.53      0.47       131\n",
      "                  late_blight       0.51      0.16      0.25       124\n",
      "                    leaf_mold       0.60      0.45      0.52       117\n",
      "           septoria_leaf_spot       0.40      0.62      0.49       114\n",
      "                  target_spot       0.29      0.65      0.40       111\n",
      "          tomato_mosaic_virus       0.00      0.00      0.00        60\n",
      "tomato_yellow_leaf_curl_virus       0.53      0.40      0.45       121\n",
      "      two-spotted_spider_mite       0.50      0.44      0.47       124\n",
      "\n",
      "                     accuracy                           0.42      1140\n",
      "                    macro avg       0.40      0.40      0.38      1140\n",
      "                 weighted avg       0.43      0.42      0.40      1140\n",
      "\n",
      "[[68  8 13  3  2  1 20  0  6  3]\n",
      " [35 24  2  0  6 21 17  0  5  4]\n",
      " [ 0  0 69  3  4  2 41  0  9  3]\n",
      " [ 9 15 28 20  7 26 10  0  5  4]\n",
      " [ 9  3  7  1 53 19 14  0  1 10]\n",
      " [ 1  0 15  6  4 71  8  0  5  4]\n",
      " [ 6  2  2  0  1 15 72  0  3 10]\n",
      " [ 2  1 14  3  5  8 11  0  5 11]\n",
      " [20 10 10  3  6 10  8  0 48  6]\n",
      " [ 7  5  0  0  0  5 48  0  4 55]]\n"
     ]
    },
    {
     "name": "stderr",
     "output_type": "stream",
     "text": [
      "C:\\Users\\ravic\\anaconda3\\lib\\site-packages\\sklearn\\metrics\\_classification.py:1318: UndefinedMetricWarning: Precision and F-score are ill-defined and being set to 0.0 in labels with no predicted samples. Use `zero_division` parameter to control this behavior.\n",
      "  _warn_prf(average, modifier, msg_start, len(result))\n",
      "C:\\Users\\ravic\\anaconda3\\lib\\site-packages\\sklearn\\metrics\\_classification.py:1318: UndefinedMetricWarning: Precision and F-score are ill-defined and being set to 0.0 in labels with no predicted samples. Use `zero_division` parameter to control this behavior.\n",
      "  _warn_prf(average, modifier, msg_start, len(result))\n",
      "C:\\Users\\ravic\\anaconda3\\lib\\site-packages\\sklearn\\metrics\\_classification.py:1318: UndefinedMetricWarning: Precision and F-score are ill-defined and being set to 0.0 in labels with no predicted samples. Use `zero_division` parameter to control this behavior.\n",
      "  _warn_prf(average, modifier, msg_start, len(result))\n"
     ]
    }
   ],
   "source": [
    "y_predict = classifier_rf.fit(Ftrain, Ltrain).predict(Ftest)\n",
    "class_names = target.unique()\n",
    "print(classification_report(Ltest, y_predict, target_names=class_names))\n",
    "print(confusion_matrix(Ltest, y_predict))"
   ]
  },
  {
   "cell_type": "markdown",
   "id": "e9b1cca9",
   "metadata": {},
   "source": [
    "# Naive bayes on Green channel data"
   ]
  },
  {
   "cell_type": "code",
   "execution_count": 67,
   "id": "1136802c",
   "metadata": {},
   "outputs": [
    {
     "data": {
      "text/plain": [
       "0.35526315789473684"
      ]
     },
     "execution_count": 67,
     "metadata": {},
     "output_type": "execute_result"
    }
   ],
   "source": [
    "gnb.fit(Ftrain, Ltrain)\n",
    "GaussianNB()\n",
    "y_pred = gnb.predict(Ftest)\n",
    "metrics.accuracy_score(Ltest, y_pred)"
   ]
  },
  {
   "cell_type": "code",
   "execution_count": 68,
   "id": "08e6f602",
   "metadata": {},
   "outputs": [
    {
     "name": "stdout",
     "output_type": "stream",
     "text": [
      "                               precision    recall  f1-score   support\n",
      "\n",
      "               bacterial_spot       0.54      0.52      0.53       124\n",
      "                 early_blight       0.35      0.34      0.34       114\n",
      "                      healthy       0.42      0.46      0.44       131\n",
      "                  late_blight       0.33      0.25      0.28       124\n",
      "                    leaf_mold       0.64      0.20      0.30       117\n",
      "           septoria_leaf_spot       0.26      0.64      0.37       114\n",
      "                  target_spot       0.41      0.33      0.37       111\n",
      "          tomato_mosaic_virus       0.28      0.32      0.30        60\n",
      "tomato_yellow_leaf_curl_virus       0.17      0.09      0.12       121\n",
      "      two-spotted_spider_mite       0.37      0.39      0.38       124\n",
      "\n",
      "                     accuracy                           0.36      1140\n",
      "                    macro avg       0.38      0.35      0.34      1140\n",
      "                 weighted avg       0.38      0.36      0.35      1140\n",
      "\n",
      "[[64  7  9  3  0 10 11  8  6  6]\n",
      " [18 39  1 27  3  6  9  0  4  7]\n",
      " [ 0  0 60  4  5 22 15  4 18  3]\n",
      " [ 3 22 34 31  0 24  3  1  5  1]\n",
      " [ 7  3  6 11 23 36  4 14  4  9]\n",
      " [ 1  3 14  4  1 73  2  2  6  8]\n",
      " [ 2 12  0  8  1 28 37  2  2 19]\n",
      " [ 4  0  5  1  2 16  1 19  3  9]\n",
      " [17 14 13  3  1 30  3 10 11 19]\n",
      " [ 2 13  0  2  0 39  6  8  6 48]]\n"
     ]
    }
   ],
   "source": [
    "class_names = target.unique()\n",
    "print(classification_report(Ltest, y_pred, target_names=class_names))\n",
    "print(confusion_matrix(Ltest, y_pred))"
   ]
  },
  {
   "cell_type": "markdown",
   "id": "ad497b39",
   "metadata": {},
   "source": [
    "# Decision Tree on Green channel"
   ]
  },
  {
   "cell_type": "code",
   "execution_count": 69,
   "id": "458fe744",
   "metadata": {},
   "outputs": [
    {
     "data": {
      "text/plain": [
       "0.29385964912280704"
      ]
     },
     "execution_count": 69,
     "metadata": {},
     "output_type": "execute_result"
    }
   ],
   "source": [
    "classifier_tree.fit(Ftrain, Ltrain)\n",
    "classifier_tree.score(Ftest,Ltest)"
   ]
  },
  {
   "cell_type": "code",
   "execution_count": 70,
   "id": "60ea8164",
   "metadata": {},
   "outputs": [
    {
     "name": "stdout",
     "output_type": "stream",
     "text": [
      "                               precision    recall  f1-score   support\n",
      "\n",
      "               bacterial_spot       0.37      0.25      0.30       124\n",
      "                 early_blight       0.22      0.25      0.23       114\n",
      "                      healthy       0.47      0.36      0.41       131\n",
      "                  late_blight       0.26      0.27      0.27       124\n",
      "                    leaf_mold       0.25      0.32      0.28       117\n",
      "           septoria_leaf_spot       0.28      0.35      0.31       114\n",
      "                  target_spot       0.25      0.31      0.27       111\n",
      "          tomato_mosaic_virus       0.20      0.13      0.16        60\n",
      "tomato_yellow_leaf_curl_virus       0.30      0.26      0.28       121\n",
      "      two-spotted_spider_mite       0.30      0.31      0.30       124\n",
      "\n",
      "                     accuracy                           0.29      1140\n",
      "                    macro avg       0.29      0.28      0.28      1140\n",
      "                 weighted avg       0.30      0.29      0.29      1140\n",
      "\n",
      "[[31 14  3 11 11  7 13  4 13 17]\n",
      " [ 9 28  4  6 10  9 17  3 12 16]\n",
      " [ 5  2 47 20 16 12 12  2  6  9]\n",
      " [ 6 17 10 34 16 16  8  3 11  3]\n",
      " [ 5 11  5 15 37 14  9  5 12  4]\n",
      " [10  9  5 20  8 40  5  2  7  8]\n",
      " [ 3 11  6  9 11 12 34  4  2 19]\n",
      " [ 2  5  5  3 11  9  5  8  5  7]\n",
      " [12 14  6  5 15 16 10  5 31  7]\n",
      " [ 1 16 10  6 12  8 24  4  5 38]]\n"
     ]
    }
   ],
   "source": [
    "y_predict = classifier_tree.fit(Ftrain, Ltrain).predict(Ftest)\n",
    "class_names = target.unique()\n",
    "print(classification_report(Ltest, y_predict, target_names=class_names))\n",
    "print(confusion_matrix(Ltest, y_predict))"
   ]
  },
  {
   "cell_type": "markdown",
   "id": "75817642",
   "metadata": {},
   "source": [
    "# KNN on blue channel data"
   ]
  },
  {
   "cell_type": "code",
   "execution_count": 71,
   "id": "531e3624",
   "metadata": {},
   "outputs": [
    {
     "data": {
      "text/plain": [
       "0.48157894736842105"
      ]
     },
     "execution_count": 71,
     "metadata": {},
     "output_type": "execute_result"
    }
   ],
   "source": [
    "#reading numpy array data\n",
    "gray_test = np.load('blue_data.npy')\n",
    "#reading csv file\n",
    "gray_df = pd.read_csv('blue_data.csv')\n",
    "loaded = []\n",
    "for i in gray_test:\n",
    "    k = []\n",
    "    k = np.asarray(i,dtype='uint8')\n",
    "    loaded.append(k)\n",
    "features = loaded\n",
    "target = gray_df['disease']\n",
    "Ftrain,Ftest,Ltrain,Ltest=train_test_split(features,target, test_size=0.20, random_state=20)\n",
    "Ftrain = minmax.fit_transform(Ftrain)\n",
    "Ftest = minmax.fit_transform(Ftest)\n",
    "kmodel.fit(Ftrain,Ltrain)\n",
    "kmodel.score(Ftest,Ltest)"
   ]
  },
  {
   "cell_type": "code",
   "execution_count": 72,
   "id": "1314e157",
   "metadata": {},
   "outputs": [
    {
     "name": "stdout",
     "output_type": "stream",
     "text": [
      "                               precision    recall  f1-score   support\n",
      "\n",
      "               bacterial_spot       0.30      0.85      0.44       124\n",
      "                 early_blight       0.00      0.00      0.00       114\n",
      "                      healthy       0.56      0.85      0.67       131\n",
      "                  late_blight       0.57      0.31      0.41       124\n",
      "                    leaf_mold       0.51      0.61      0.55       117\n",
      "           septoria_leaf_spot       0.63      0.39      0.49       114\n",
      "                  target_spot       0.49      0.30      0.37       111\n",
      "          tomato_mosaic_virus       0.46      0.52      0.49        60\n",
      "tomato_yellow_leaf_curl_virus       0.81      0.36      0.50       121\n",
      "      two-spotted_spider_mite       0.58      0.56      0.57       124\n",
      "\n",
      "                     accuracy                           0.48      1140\n",
      "                    macro avg       0.49      0.48      0.45      1140\n",
      "                 weighted avg       0.50      0.48      0.45      1140\n",
      "\n",
      "[[106   0  10   1   2   2   0   0   2   1]\n",
      " [ 60   0  13   3   7   6  10   5   4   6]\n",
      " [  8   0 111   2   2   0   3   3   0   2]\n",
      " [ 28   0  20  39  17   9   3   2   1   5]\n",
      " [ 16   0   6   4  71   2   2   6   0  10]\n",
      " [ 21   0   5   2  25  45   2  12   0   2]\n",
      " [ 27   0  25   4   3   3  33   0   1  15]\n",
      " [  2   0   2  10  10   1   1  31   0   3]\n",
      " [ 58   0   0   2   3   3   1   5  44   5]\n",
      " [ 31   0   6   1   0   0  12   3   2  69]]\n"
     ]
    },
    {
     "name": "stderr",
     "output_type": "stream",
     "text": [
      "C:\\Users\\ravic\\anaconda3\\lib\\site-packages\\sklearn\\metrics\\_classification.py:1318: UndefinedMetricWarning: Precision and F-score are ill-defined and being set to 0.0 in labels with no predicted samples. Use `zero_division` parameter to control this behavior.\n",
      "  _warn_prf(average, modifier, msg_start, len(result))\n",
      "C:\\Users\\ravic\\anaconda3\\lib\\site-packages\\sklearn\\metrics\\_classification.py:1318: UndefinedMetricWarning: Precision and F-score are ill-defined and being set to 0.0 in labels with no predicted samples. Use `zero_division` parameter to control this behavior.\n",
      "  _warn_prf(average, modifier, msg_start, len(result))\n",
      "C:\\Users\\ravic\\anaconda3\\lib\\site-packages\\sklearn\\metrics\\_classification.py:1318: UndefinedMetricWarning: Precision and F-score are ill-defined and being set to 0.0 in labels with no predicted samples. Use `zero_division` parameter to control this behavior.\n",
      "  _warn_prf(average, modifier, msg_start, len(result))\n"
     ]
    }
   ],
   "source": [
    "#printing results of the kmodel\n",
    "y_predict = kmodel.fit(Ftrain, Ltrain).predict(Ftest)\n",
    "class_names = target.unique()\n",
    "print(classification_report(Ltest, y_predict, target_names=class_names))\n",
    "print(confusion_matrix(Ltest, y_predict))"
   ]
  },
  {
   "cell_type": "markdown",
   "id": "f452a113",
   "metadata": {},
   "source": [
    "# logistic on blue channel data"
   ]
  },
  {
   "cell_type": "code",
   "execution_count": 73,
   "id": "de158586",
   "metadata": {},
   "outputs": [
    {
     "data": {
      "text/plain": [
       "0.47368421052631576"
      ]
     },
     "execution_count": 73,
     "metadata": {},
     "output_type": "execute_result"
    }
   ],
   "source": [
    "model.fit(Ftrain,Ltrain)\n",
    "model.score(Ftest,Ltest)"
   ]
  },
  {
   "cell_type": "code",
   "execution_count": 74,
   "id": "489ce7e9",
   "metadata": {},
   "outputs": [
    {
     "name": "stdout",
     "output_type": "stream",
     "text": [
      "                               precision    recall  f1-score   support\n",
      "\n",
      "               bacterial_spot       0.62      0.49      0.55       124\n",
      "                 early_blight       0.24      0.21      0.23       114\n",
      "                      healthy       0.72      0.53      0.61       131\n",
      "                  late_blight       0.39      0.34      0.36       124\n",
      "                    leaf_mold       0.43      0.59      0.50       117\n",
      "           septoria_leaf_spot       0.35      0.32      0.34       114\n",
      "                  target_spot       0.36      0.47      0.41       111\n",
      "          tomato_mosaic_virus       0.51      0.32      0.39        60\n",
      "tomato_yellow_leaf_curl_virus       0.69      0.68      0.68       121\n",
      "      two-spotted_spider_mite       0.48      0.68      0.56       124\n",
      "\n",
      "                     accuracy                           0.47      1140\n",
      "                    macro avg       0.48      0.46      0.46      1140\n",
      "                 weighted avg       0.48      0.47      0.47      1140\n",
      "\n",
      "[[61 17  3  7  2  3  7  0 13 11]\n",
      " [14 24  4 12  5 11 22  1 10 11]\n",
      " [ 3  8 70 15  5  0 22  0  0  8]\n",
      " [ 8 11 10 42 18 17  8  3  2  5]\n",
      " [ 1 10  0  7 69 14  5  1  0 10]\n",
      " [ 1  6  0  8 28 37 14  8  3  9]\n",
      " [ 4 12  5  7  6  3 52  1  2 19]\n",
      " [ 0  2  0  4 16  8  1 19  2  8]\n",
      " [ 4  4  0  4  6  7  0  3 82 11]\n",
      " [ 3  4  5  1  4  5 12  1  5 84]]\n"
     ]
    }
   ],
   "source": [
    "#classification report\n",
    "y_predict = model.fit(Ftrain, Ltrain).predict(Ftest)\n",
    "class_names = target.unique()\n",
    "print(classification_report(Ltest, y_predict, target_names=class_names))\n",
    "print(confusion_matrix(Ltest, y_predict))"
   ]
  },
  {
   "cell_type": "markdown",
   "id": "c7585c1d",
   "metadata": {},
   "source": [
    "# SVM on blue channel data"
   ]
  },
  {
   "cell_type": "code",
   "execution_count": 75,
   "id": "06fb4a0f",
   "metadata": {},
   "outputs": [
    {
     "name": "stdout",
     "output_type": "stream",
     "text": [
      "0.4482456140350877\n"
     ]
    }
   ],
   "source": [
    "clf.fit(Ftrain,Ltrain)\n",
    "y_pred = clf.predict(Ftest)\n",
    "print(accuracy_score(Ltest,y_pred))"
   ]
  },
  {
   "cell_type": "code",
   "execution_count": 76,
   "id": "03a12a5f",
   "metadata": {},
   "outputs": [
    {
     "name": "stdout",
     "output_type": "stream",
     "text": [
      "                               precision    recall  f1-score   support\n",
      "\n",
      "               bacterial_spot       0.52      0.53      0.52       124\n",
      "                 early_blight       0.27      0.31      0.29       114\n",
      "                      healthy       0.73      0.53      0.62       131\n",
      "                  late_blight       0.40      0.35      0.37       124\n",
      "                    leaf_mold       0.43      0.56      0.49       117\n",
      "           septoria_leaf_spot       0.30      0.32      0.31       114\n",
      "                  target_spot       0.34      0.42      0.38       111\n",
      "          tomato_mosaic_virus       0.44      0.30      0.36        60\n",
      "tomato_yellow_leaf_curl_virus       0.68      0.64      0.66       121\n",
      "      two-spotted_spider_mite       0.48      0.42      0.45       124\n",
      "\n",
      "                     accuracy                           0.45      1140\n",
      "                    macro avg       0.46      0.44      0.44      1140\n",
      "                 weighted avg       0.46      0.45      0.45      1140\n",
      "\n",
      "[[66 16  3  4  4  3 10  0 13  5]\n",
      " [13 35  5 10  4 14 16  0  8  9]\n",
      " [ 6  9 70 12  3  2 25  0  0  4]\n",
      " [ 8 21  7 43 16 14  6  4  2  3]\n",
      " [ 1 10  0 14 66 16  4  0  1  5]\n",
      " [ 3 13  0  9 26 36 11  8  5  3]\n",
      " [ 7 13  6  5 10  7 47  1  1 14]\n",
      " [ 0  1  0  5 11 15  1 18  2  7]\n",
      " [11  5  1  3  7  5  1  4 78  6]\n",
      " [13  8  4  3  8  8 18  6  4 52]]\n"
     ]
    }
   ],
   "source": [
    "#classification report\n",
    "y_predict = clf.fit(Ftrain, Ltrain).predict(Ftest)\n",
    "class_names = target.unique()\n",
    "print(classification_report(Ltest, y_predict, target_names=class_names))\n",
    "print(confusion_matrix(Ltest, y_predict))"
   ]
  },
  {
   "cell_type": "markdown",
   "id": "f4eb8c6c",
   "metadata": {},
   "source": [
    "# Random Forest on blue channel data"
   ]
  },
  {
   "cell_type": "code",
   "execution_count": 77,
   "id": "b71407b2",
   "metadata": {},
   "outputs": [
    {
     "data": {
      "text/plain": [
       "0.49967098047817504"
      ]
     },
     "execution_count": 77,
     "metadata": {},
     "output_type": "execute_result"
    }
   ],
   "source": [
    "classifier_rf.fit(Ftrain, Ltrain)\n",
    "classifier_rf.oob_score_"
   ]
  },
  {
   "cell_type": "code",
   "execution_count": 78,
   "id": "f7d75463",
   "metadata": {},
   "outputs": [
    {
     "name": "stdout",
     "output_type": "stream",
     "text": [
      "                               precision    recall  f1-score   support\n",
      "\n",
      "               bacterial_spot       0.61      0.66      0.63       124\n",
      "                 early_blight       0.32      0.10      0.15       114\n",
      "                      healthy       0.62      0.72      0.67       131\n",
      "                  late_blight       0.67      0.26      0.37       124\n",
      "                    leaf_mold       0.55      0.60      0.57       117\n",
      "           septoria_leaf_spot       0.41      0.50      0.45       114\n",
      "                  target_spot       0.39      0.66      0.49       111\n",
      "          tomato_mosaic_virus       0.50      0.05      0.09        60\n",
      "tomato_yellow_leaf_curl_virus       0.58      0.85      0.69       121\n",
      "      two-spotted_spider_mite       0.45      0.49      0.47       124\n",
      "\n",
      "                     accuracy                           0.51      1140\n",
      "                    macro avg       0.51      0.49      0.46      1140\n",
      "                 weighted avg       0.51      0.51      0.48      1140\n",
      "\n",
      "[[ 82   4   6   3   0   1   8   0  16   4]\n",
      " [ 20  11   7   3   3  13  23   0  25   9]\n",
      " [  3   0  94   0   5   0  25   0   1   3]\n",
      " [  5  10  18  32  13  22  11   0   9   4]\n",
      " [  4   1   1   3  70  16   7   0   3  12]\n",
      " [  8   2   2   1  22  57   3   2   6  11]\n",
      " [  5   2  12   1   0   9  73   0   1   8]\n",
      " [  1   0   1   5  10  16   3   3   4  17]\n",
      " [  4   2   0   0   1   3   0   0 103   8]\n",
      " [  3   2  10   0   3   3  32   1   9  61]]\n"
     ]
    }
   ],
   "source": [
    "y_predict = classifier_rf.fit(Ftrain, Ltrain).predict(Ftest)\n",
    "class_names = target.unique()\n",
    "print(classification_report(Ltest, y_predict, target_names=class_names))\n",
    "print(confusion_matrix(Ltest, y_predict))"
   ]
  },
  {
   "cell_type": "markdown",
   "id": "fb1ca20e",
   "metadata": {},
   "source": [
    "# Naive bayes on blue channel data"
   ]
  },
  {
   "cell_type": "code",
   "execution_count": 79,
   "id": "11ea0b85",
   "metadata": {},
   "outputs": [
    {
     "data": {
      "text/plain": [
       "0.45614035087719296"
      ]
     },
     "execution_count": 79,
     "metadata": {},
     "output_type": "execute_result"
    }
   ],
   "source": [
    "gnb.fit(Ftrain, Ltrain)\n",
    "GaussianNB()\n",
    "y_pred = gnb.predict(Ftest)\n",
    "metrics.accuracy_score(Ltest, y_pred)"
   ]
  },
  {
   "cell_type": "code",
   "execution_count": 80,
   "id": "b8a32aab",
   "metadata": {},
   "outputs": [
    {
     "name": "stdout",
     "output_type": "stream",
     "text": [
      "                               precision    recall  f1-score   support\n",
      "\n",
      "               bacterial_spot       0.74      0.61      0.67       124\n",
      "                 early_blight       0.35      0.27      0.31       114\n",
      "                      healthy       0.71      0.53      0.61       131\n",
      "                  late_blight       0.35      0.22      0.27       124\n",
      "                    leaf_mold       0.68      0.49      0.57       117\n",
      "           septoria_leaf_spot       0.29      0.52      0.37       114\n",
      "                  target_spot       0.38      0.51      0.44       111\n",
      "          tomato_mosaic_virus       0.25      0.62      0.36        60\n",
      "tomato_yellow_leaf_curl_virus       0.70      0.63      0.66       121\n",
      "      two-spotted_spider_mite       0.38      0.24      0.29       124\n",
      "\n",
      "                     accuracy                           0.46      1140\n",
      "                    macro avg       0.48      0.46      0.45      1140\n",
      "                 weighted avg       0.50      0.46      0.46      1140\n",
      "\n",
      "[[76  4  6  2  0  2 14  2 10  8]\n",
      " [10 31  5 25  4 16  8  2  9  4]\n",
      " [ 3  3 70  3  3 10 31  5  0  3]\n",
      " [ 0 21 14 27  2 23  5 26  4  2]\n",
      " [ 0  3  0  4 57 27  6 11  1  8]\n",
      " [ 4  3  0  6 10 59  5 19  1  7]\n",
      " [ 0  6  2  8  2 25 57  3  1  7]\n",
      " [ 2  0  0  0  3 15  0 37  0  3]\n",
      " [ 6 10  0  2  3  7  0  9 76  8]\n",
      " [ 2  7  1  0  0 22 23 32  7 30]]\n"
     ]
    }
   ],
   "source": [
    "class_names = target.unique()\n",
    "print(classification_report(Ltest, y_pred, target_names=class_names))\n",
    "print(confusion_matrix(Ltest, y_pred))"
   ]
  },
  {
   "cell_type": "markdown",
   "id": "f125f7c4",
   "metadata": {},
   "source": [
    "# Decision Tree on blue channel"
   ]
  },
  {
   "cell_type": "code",
   "execution_count": 81,
   "id": "88bfbe14",
   "metadata": {},
   "outputs": [
    {
     "data": {
      "text/plain": [
       "0.33245614035087717"
      ]
     },
     "execution_count": 81,
     "metadata": {},
     "output_type": "execute_result"
    }
   ],
   "source": [
    "classifier_tree.fit(Ftrain, Ltrain)\n",
    "classifier_tree.score(Ftest,Ltest)"
   ]
  },
  {
   "cell_type": "code",
   "execution_count": 82,
   "id": "6e2c73b8",
   "metadata": {},
   "outputs": [
    {
     "name": "stdout",
     "output_type": "stream",
     "text": [
      "                               precision    recall  f1-score   support\n",
      "\n",
      "               bacterial_spot       0.42      0.31      0.36       124\n",
      "                 early_blight       0.17      0.18      0.18       114\n",
      "                      healthy       0.56      0.59      0.57       131\n",
      "                  late_blight       0.29      0.25      0.27       124\n",
      "                    leaf_mold       0.37      0.38      0.37       117\n",
      "           septoria_leaf_spot       0.24      0.31      0.27       114\n",
      "                  target_spot       0.25      0.28      0.26       111\n",
      "          tomato_mosaic_virus       0.17      0.22      0.19        60\n",
      "tomato_yellow_leaf_curl_virus       0.53      0.34      0.41       121\n",
      "      two-spotted_spider_mite       0.29      0.33      0.31       124\n",
      "\n",
      "                     accuracy                           0.33      1140\n",
      "                    macro avg       0.33      0.32      0.32      1140\n",
      "                 weighted avg       0.34      0.33      0.33      1140\n",
      "\n",
      "[[38 16  8  6  3 15 15  4  7 12]\n",
      " [10 21  9  8  9 18 13  4 10 12]\n",
      " [ 2  9 77 10  9  2  8  2  3  9]\n",
      " [11 17 11 31 14 17 10  3  4  6]\n",
      " [ 1  9  6  9 44 16 12 11  3  6]\n",
      " [ 4 13  6 18  7 35  9 13  0  9]\n",
      " [ 5 10  9  6 13 16 31  3  0 18]\n",
      " [ 5  5  1  5  9  8  6 13  1  7]\n",
      " [11 13  2  6  2 14  5  6 41 21]\n",
      " [ 3  9  9  7 10  7 14 16  8 41]]\n"
     ]
    }
   ],
   "source": [
    "y_predict = classifier_tree.fit(Ftrain, Ltrain).predict(Ftest)\n",
    "class_names = target.unique()\n",
    "print(classification_report(Ltest, y_predict, target_names=class_names))\n",
    "print(confusion_matrix(Ltest, y_predict))"
   ]
  }
 ],
 "metadata": {
  "kernelspec": {
   "display_name": "Python 3 (ipykernel)",
   "language": "python",
   "name": "python3"
  },
  "language_info": {
   "codemirror_mode": {
    "name": "ipython",
    "version": 3
   },
   "file_extension": ".py",
   "mimetype": "text/x-python",
   "name": "python",
   "nbconvert_exporter": "python",
   "pygments_lexer": "ipython3",
   "version": "3.9.12"
  }
 },
 "nbformat": 4,
 "nbformat_minor": 5
}
