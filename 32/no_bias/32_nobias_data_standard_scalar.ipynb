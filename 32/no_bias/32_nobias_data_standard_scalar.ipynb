{
 "cells": [
  {
   "cell_type": "code",
   "execution_count": 1,
   "id": "bcdb1517",
   "metadata": {},
   "outputs": [],
   "source": [
    "import numpy as np #importing numpy\n",
    "import pandas as pd #importing pandas\n",
    "import PIL #importing pillow for image processing\n",
    "from PIL import Image#importing image from pillow library\n",
    "import skimage#importing skimage library\n",
    "import os#importing os library\n",
    "import time#importing time library\n",
    "\n",
    "#Capture start time of the program\n",
    "start_time = time.time()"
   ]
  },
  {
   "cell_type": "code",
   "execution_count": 2,
   "id": "9b1ff8ae",
   "metadata": {},
   "outputs": [],
   "source": [
    "from string import digits\n",
    "#code to remove numbers in a string and assigning it to the variable\n",
    "r_digits = str.maketrans('', '', digits)\n",
    "#taking source data folder path to a varible\n",
    "rawdata_path = 'D://DKIT//dissertation//Dataset_of_Tomato_Leaves//plantvillage//Preprocessed_data//32//32_no_bias//'\n",
    "#changing current librbay to source data\n",
    "os.chdir(rawdata_path)\n",
    "#taking sub-directories to a list\n",
    "dirs = os.listdir()\n",
    "directories = []\n",
    "diseases = []\n",
    "#Taking directories into a list and extract disease name from folder name\n",
    "for x in dirs:\n",
    "    res = x.translate(r_digits).lower()\n",
    "    diseases.append(res)\n",
    "    temp = rawdata_path + x + '//'\n",
    "    directories.append(temp)"
   ]
  },
  {
   "cell_type": "code",
   "execution_count": 3,
   "id": "e67c4402",
   "metadata": {},
   "outputs": [],
   "source": [
    "for i in directories:\n",
    "    os.chdir(i)\n",
    "    pics = os.listdir()\n",
    "    #reading pics one by one in each directory\n",
    "    for j in pics:\n",
    "        image = Image.open(j,mode='r')\n",
    "        size = (32,32)\n",
    "        image = image.resize(size)\n",
    "        image = image.save(j)"
   ]
  },
  {
   "cell_type": "code",
   "execution_count": 4,
   "id": "0e3f1cdc",
   "metadata": {},
   "outputs": [],
   "source": [
    "#creating different dataframes for saving data in different vector forms\n",
    "#gray data\n",
    "gray_df = pd.DataFrame(columns=['mean','disease'])\n",
    "#rgb data\n",
    "rgb_df = pd.DataFrame(columns=['mean','disease'])\n",
    "#red data\n",
    "red_df = pd.DataFrame(columns=['mean','disease'])\n",
    "#green data\n",
    "green_df = pd.DataFrame(columns=['mean','disease'])\n",
    "#blue data\n",
    "blue_df = pd.DataFrame(columns=['mean','disease'])"
   ]
  },
  {
   "cell_type": "code",
   "execution_count": 5,
   "id": "d259b674",
   "metadata": {},
   "outputs": [],
   "source": [
    "#extracting data from images\n",
    "x = 0\n",
    "#creating enpty directories to save the vector from in to a list\n",
    "gray_test = []\n",
    "rgb_final = []\n",
    "red_final = []\n",
    "green_final = []\n",
    "blue_final = []\n",
    "disease = []\n",
    "#reading data directory by directory\n",
    "for i in directories:\n",
    "    os.chdir(i)\n",
    "    k = diseases[x]\n",
    "    pics = os.listdir()\n",
    "    #reading pics one by one in each directory\n",
    "    for j in pics:\n",
    "        temp_list = []\n",
    "        rgb_temp = []\n",
    "        red_temp = []\n",
    "        green_temp = []\n",
    "        blue_temp = []\n",
    "        gray = []\n",
    "        data = []\n",
    "        red = []\n",
    "        green = []\n",
    "        blue = []\n",
    "        #opening the image in rgb format\n",
    "        image = Image.open(j,mode='r')\n",
    "        data = image.convert('RGB')\n",
    "        data = np.array(data)\n",
    "        #extracting only red components\n",
    "        red = data[:,:,0]\n",
    "        #extracting only green components\n",
    "        green = data[:,:,1]\n",
    "        #extracting only blue components\n",
    "        blue = data[:,:,2]\n",
    "        data = data.ravel()\n",
    "        #saving rgb vector data into list\n",
    "        rgb_final.append(data)\n",
    "        rgb_temp.append(np.mean(data))\n",
    "        rgb_temp.append(k)\n",
    "        rgb_df.loc[len(rgb_df)] = rgb_temp\n",
    "        #saving red channel data into dataframe and vector data to a list.\n",
    "        red = red.ravel()\n",
    "        red_final.append(red)\n",
    "        red_temp.append(np.mean(red))\n",
    "        red_temp.append(k)\n",
    "        red_df.loc[len(red_df)] = red_temp\n",
    "        #saving blue channel data into dataframe and vector data to a list.\n",
    "        blue = blue.ravel()\n",
    "        blue_final.append(blue)\n",
    "        blue_temp.append(np.mean(blue))\n",
    "        blue_temp.append(k)\n",
    "        blue_df.loc[len(blue_df)] = blue_temp\n",
    "        #saving green channel data into dataframe and vector data to a list.\n",
    "        green = green.ravel()\n",
    "        green_final.append(green)\n",
    "        green_temp.append(np.mean(green))\n",
    "        green_temp.append(k)\n",
    "        green_df.loc[len(green_df)] = green_temp\n",
    "        #opening the image in gray format\n",
    "        gray = image.convert('L')\n",
    "        gray = np.array(gray)\n",
    "        gray = gray.ravel()\n",
    "        gray_test.append(gray)\n",
    "        temp_list.append(np.mean(gray))\n",
    "        temp_list.append(k)       \n",
    "        gray_df.loc[len(gray_df)] = temp_list\n",
    "    x = x+1"
   ]
  },
  {
   "cell_type": "code",
   "execution_count": 6,
   "id": "9ec45970",
   "metadata": {},
   "outputs": [],
   "source": [
    "#changing path\n",
    "os.chdir('D://DKIT//dissertation//Dataset_of_Tomato_Leaves//plantvillage//Preprocessed_data//32//32_no_bias_vector//')"
   ]
  },
  {
   "cell_type": "code",
   "execution_count": 7,
   "id": "9b5459ff",
   "metadata": {},
   "outputs": [],
   "source": [
    "#saving the lists as numpy arrays in the local system\n",
    "np.save('gray_test',gray_test)\n",
    "np.save('rgb_data',rgb_final)\n",
    "np.save('red_data',red_final)\n",
    "np.save('green_data',green_final)\n",
    "np.save('blue_data',blue_final)"
   ]
  },
  {
   "cell_type": "code",
   "execution_count": 8,
   "id": "681ad20a",
   "metadata": {},
   "outputs": [],
   "source": [
    "#saving the dataframe as csv files in the local system\n",
    "gray_df.to_csv('gray_data.csv',index=False)\n",
    "rgb_df.to_csv('rgb_data.csv',index=False)\n",
    "red_df.to_csv('red_data.csv',index=False)\n",
    "green_df.to_csv('green_data.csv',index=False)\n",
    "blue_df.to_csv('blue_data.csv',index=False)"
   ]
  },
  {
   "cell_type": "markdown",
   "id": "7139bf53",
   "metadata": {},
   "source": [
    "# KNN on rgb data"
   ]
  },
  {
   "cell_type": "code",
   "execution_count": 9,
   "id": "9386938c",
   "metadata": {},
   "outputs": [],
   "source": [
    "#reading numpy array data\n",
    "rgb_test = np.load('rgb_data.npy')\n",
    "#reading csv file\n",
    "rgb_df = pd.read_csv('rgb_data.csv')"
   ]
  },
  {
   "cell_type": "code",
   "execution_count": 10,
   "id": "05aa0a40",
   "metadata": {},
   "outputs": [],
   "source": [
    "loaded = []\n",
    "for i in rgb_test:\n",
    "    k = []\n",
    "    k = np.asarray(i,dtype='uint8')\n",
    "    loaded.append(k)"
   ]
  },
  {
   "cell_type": "code",
   "execution_count": 11,
   "id": "c6d5658c",
   "metadata": {},
   "outputs": [],
   "source": [
    "#assigning features and target\n",
    "features = loaded\n",
    "target = rgb_df['disease']\n",
    "#splitting the data to 80 percent and 20 percent\n",
    "from sklearn.model_selection import train_test_split\n",
    "Ftrain,Ftest,Ltrain,Ltest=train_test_split(features,target, test_size=0.20, random_state=24)\n",
    "#scaling the data using standard scaler\n",
    "from sklearn.preprocessing import StandardScaler\n",
    "scaler = StandardScaler()\n",
    "Ftrain = scaler.fit_transform(Ftrain)\n",
    "Ftest = scaler.fit_transform(Ftest)"
   ]
  },
  {
   "cell_type": "code",
   "execution_count": 12,
   "id": "6f1171c6",
   "metadata": {},
   "outputs": [],
   "source": [
    "#K-Model on the data\n",
    "from sklearn.neighbors import KNeighborsClassifier\n",
    "kmodel = KNeighborsClassifier(n_neighbors=75)"
   ]
  },
  {
   "cell_type": "code",
   "execution_count": 13,
   "id": "b9fdc978",
   "metadata": {},
   "outputs": [
    {
     "name": "stdout",
     "output_type": "stream",
     "text": [
      "0.4543859649122807\n"
     ]
    }
   ],
   "source": [
    "#k-model fitting and accuracy\n",
    "kmodel.fit(Ftrain,Ltrain)\n",
    "print(kmodel.score(Ftest,Ltest))"
   ]
  },
  {
   "cell_type": "code",
   "execution_count": 14,
   "id": "ee18e5c3",
   "metadata": {},
   "outputs": [],
   "source": [
    "#importing classification report and confusion matrix\n",
    "from sklearn.metrics import classification_report, confusion_matrix"
   ]
  },
  {
   "cell_type": "code",
   "execution_count": 15,
   "id": "bb8fbd00",
   "metadata": {},
   "outputs": [
    {
     "name": "stdout",
     "output_type": "stream",
     "text": [
      "                               precision    recall  f1-score   support\n",
      "\n",
      "               bacterial_spot       0.26      0.78      0.39       115\n",
      "                 early_blight       1.00      0.02      0.03       120\n",
      "                      healthy       0.42      0.85      0.56       125\n",
      "                  late_blight       0.46      0.22      0.30       125\n",
      "                    leaf_mold       0.75      0.58      0.65       127\n",
      "           septoria_leaf_spot       0.63      0.32      0.43       117\n",
      "                  target_spot       0.54      0.35      0.42       115\n",
      "          tomato_mosaic_virus       0.51      0.44      0.48        54\n",
      "tomato_yellow_leaf_curl_virus       0.83      0.39      0.53       114\n",
      "      two-spotted_spider_mite       0.48      0.56      0.52       128\n",
      "\n",
      "                     accuracy                           0.45      1140\n",
      "                    macro avg       0.59      0.45      0.43      1140\n",
      "                 weighted avg       0.59      0.45      0.43      1140\n",
      "\n",
      "[[ 90   0  16   4   0   1   0   0   4   0]\n",
      " [ 80   2   9   1   3   3   8   3   0  11]\n",
      " [  7   0 106   5   1   0   0   3   0   3]\n",
      " [ 14   0  51  28   8  10   5   2   1   6]\n",
      " [ 13   0  17   7  74   4   1   4   0   7]\n",
      " [ 10   0  23   4  11  38  10   5   3  13]\n",
      " [ 37   0  18   1   0   0  40   1   0  18]\n",
      " [  6   0   4   6   2   0   1  24   0  11]\n",
      " [ 45   0   8   3   0   1   2   2  44   9]\n",
      " [ 39   0   1   2   0   3   7   3   1  72]]\n"
     ]
    }
   ],
   "source": [
    "#printing results of the kmodel\n",
    "y_predict = kmodel.fit(Ftrain, Ltrain).predict(Ftest)\n",
    "class_names = target.unique()\n",
    "print(classification_report(Ltest, y_predict, target_names=class_names))\n",
    "print(confusion_matrix(Ltest, y_predict))"
   ]
  },
  {
   "cell_type": "markdown",
   "id": "d5c58638",
   "metadata": {},
   "source": [
    "# Logistic on rgb data"
   ]
  },
  {
   "cell_type": "code",
   "execution_count": 16,
   "id": "a84836ef",
   "metadata": {},
   "outputs": [
    {
     "name": "stdout",
     "output_type": "stream",
     "text": [
      "0.6280701754385964\n"
     ]
    }
   ],
   "source": [
    "#importing logistic data\n",
    "from sklearn.linear_model import LogisticRegression\n",
    "model=LogisticRegression(solver='lbfgs', max_iter=10000)\n",
    "model.fit(Ftrain,Ltrain)\n",
    "print(model.score(Ftest,Ltest))"
   ]
  },
  {
   "cell_type": "code",
   "execution_count": 17,
   "id": "8a6e84a1",
   "metadata": {},
   "outputs": [
    {
     "name": "stdout",
     "output_type": "stream",
     "text": [
      "                               precision    recall  f1-score   support\n",
      "\n",
      "               bacterial_spot       0.60      0.64      0.62       115\n",
      "                 early_blight       0.45      0.44      0.45       120\n",
      "                      healthy       0.74      0.63      0.68       125\n",
      "                  late_blight       0.56      0.60      0.58       125\n",
      "                    leaf_mold       0.69      0.65      0.67       127\n",
      "           septoria_leaf_spot       0.54      0.58      0.56       117\n",
      "                  target_spot       0.61      0.63      0.62       115\n",
      "          tomato_mosaic_virus       0.69      0.78      0.73        54\n",
      "tomato_yellow_leaf_curl_virus       0.79      0.78      0.79       114\n",
      "      two-spotted_spider_mite       0.67      0.62      0.65       128\n",
      "\n",
      "                     accuracy                           0.63      1140\n",
      "                    macro avg       0.63      0.64      0.63      1140\n",
      "                 weighted avg       0.63      0.63      0.63      1140\n",
      "\n",
      "[[74 17  3  8  1  2  1  0  9  0]\n",
      " [17 53  3 18 10  7  5  1  2  4]\n",
      " [ 4 11 79 10  2  3 14  0  0  2]\n",
      " [ 7 10 10 75  5 10  2  0  2  4]\n",
      " [ 0  8  5  8 83 13  0  3  1  6]\n",
      " [ 3  4  1  5 14 68  6  7  7  2]\n",
      " [ 4  8  3  1  1  7 73  2  0 16]\n",
      " [ 0  0  1  0  1  7  3 42  0  0]\n",
      " [ 6  4  0  4  1  3  1  1 89  5]\n",
      " [ 9  3  2  6  2  5 14  5  2 80]]\n"
     ]
    }
   ],
   "source": [
    "#classification report\n",
    "y_predict = model.fit(Ftrain, Ltrain).predict(Ftest)\n",
    "class_names = target.unique()\n",
    "print(classification_report(Ltest, y_predict, target_names=class_names))\n",
    "print(confusion_matrix(Ltest, y_predict))"
   ]
  },
  {
   "cell_type": "markdown",
   "id": "6fe194bc",
   "metadata": {},
   "source": [
    "# SVM(linear) on RGB data"
   ]
  },
  {
   "cell_type": "code",
   "execution_count": 18,
   "id": "2427ed51",
   "metadata": {},
   "outputs": [
    {
     "name": "stdout",
     "output_type": "stream",
     "text": [
      "0.6991228070175438\n"
     ]
    }
   ],
   "source": [
    "from sklearn.svm import SVC\n",
    "from sklearn.metrics import accuracy_score\n",
    "\n",
    "clf = SVC(kernel='linear')\n",
    "clf.fit(Ftrain,Ltrain)\n",
    "y_pred = clf.predict(Ftest)\n",
    "print(accuracy_score(Ltest,y_pred))"
   ]
  },
  {
   "cell_type": "code",
   "execution_count": 19,
   "id": "d3ce316a",
   "metadata": {},
   "outputs": [
    {
     "name": "stdout",
     "output_type": "stream",
     "text": [
      "                               precision    recall  f1-score   support\n",
      "\n",
      "               bacterial_spot       0.63      0.82      0.71       115\n",
      "                 early_blight       0.50      0.46      0.48       120\n",
      "                      healthy       0.85      0.79      0.82       125\n",
      "                  late_blight       0.67      0.67      0.67       125\n",
      "                    leaf_mold       0.77      0.75      0.76       127\n",
      "           septoria_leaf_spot       0.67      0.64      0.66       117\n",
      "                  target_spot       0.68      0.69      0.68       115\n",
      "          tomato_mosaic_virus       0.78      0.91      0.84        54\n",
      "tomato_yellow_leaf_curl_virus       0.82      0.82      0.82       114\n",
      "      two-spotted_spider_mite       0.68      0.58      0.62       128\n",
      "\n",
      "                     accuracy                           0.70      1140\n",
      "                    macro avg       0.70      0.71      0.71      1140\n",
      "                 weighted avg       0.70      0.70      0.70      1140\n",
      "\n",
      "[[94  5  1  8  0  0  0  0  7  0]\n",
      " [27 55  3 12  5  3  4  0  3  8]\n",
      " [ 3  4 99  3  5  1  8  0  0  2]\n",
      " [ 8  9  6 84  6  8  1  0  1  2]\n",
      " [ 0  6  3  6 95 10  0  2  0  5]\n",
      " [ 2  3  2  6  9 75  7  6  4  3]\n",
      " [ 2 14  3  0  0  5 79  1  0 11]\n",
      " [ 0  1  0  0  0  2  0 49  0  2]\n",
      " [ 6  5  0  3  0  4  1  0 93  2]\n",
      " [ 7  9  0  4  3  4 17  5  5 74]]\n"
     ]
    }
   ],
   "source": [
    "#classification report\n",
    "y_predict = clf.fit(Ftrain, Ltrain).predict(Ftest)\n",
    "class_names = target.unique()\n",
    "print(classification_report(Ltest, y_predict, target_names=class_names))\n",
    "print(confusion_matrix(Ltest, y_predict))"
   ]
  },
  {
   "cell_type": "markdown",
   "id": "cc0649d3",
   "metadata": {},
   "source": [
    "# SVM(poly) on RGB data"
   ]
  },
  {
   "cell_type": "code",
   "execution_count": 20,
   "id": "6f9925c1",
   "metadata": {},
   "outputs": [
    {
     "name": "stdout",
     "output_type": "stream",
     "text": [
      "0.6850877192982456\n"
     ]
    }
   ],
   "source": [
    "svm_poly = SVC(kernel='poly')\n",
    "svm_poly.fit(Ftrain,Ltrain)\n",
    "y_pred = svm_poly.predict(Ftest)\n",
    "print(accuracy_score(Ltest,y_pred))"
   ]
  },
  {
   "cell_type": "code",
   "execution_count": 21,
   "id": "691ece56",
   "metadata": {},
   "outputs": [
    {
     "name": "stdout",
     "output_type": "stream",
     "text": [
      "                               precision    recall  f1-score   support\n",
      "\n",
      "               bacterial_spot       0.49      0.85      0.62       115\n",
      "                 early_blight       0.80      0.30      0.44       120\n",
      "                      healthy       0.64      0.96      0.77       125\n",
      "                  late_blight       0.81      0.51      0.63       125\n",
      "                    leaf_mold       0.81      0.77      0.79       127\n",
      "           septoria_leaf_spot       0.75      0.56      0.64       117\n",
      "                  target_spot       0.61      0.76      0.67       115\n",
      "          tomato_mosaic_virus       0.78      0.52      0.62        54\n",
      "tomato_yellow_leaf_curl_virus       0.83      0.82      0.82       114\n",
      "      two-spotted_spider_mite       0.70      0.71      0.71       128\n",
      "\n",
      "                     accuracy                           0.69      1140\n",
      "                    macro avg       0.72      0.68      0.67      1140\n",
      "                 weighted avg       0.72      0.69      0.68      1140\n",
      "\n",
      "[[ 98   0   9   2   0   0   0   0   6   0]\n",
      " [ 40  36   8   7   3   3  14   0   2   7]\n",
      " [  0   0 120   1   0   0   4   0   0   0]\n",
      " [  7   4  22  64   8   7   5   0   3   5]\n",
      " [  5   2   4   2  98   6   4   2   0   4]\n",
      " [  6   0  12   1   8  66  12   2   5   5]\n",
      " [ 16   0   3   0   0   0  87   1   0   8]\n",
      " [  1   0   5   0   4   4   7  28   0   5]\n",
      " [ 10   1   0   2   0   2   0   1  93   5]\n",
      " [ 16   2   4   0   0   0  10   2   3  91]]\n"
     ]
    }
   ],
   "source": [
    "#classification report\n",
    "y_predict = svm_poly.fit(Ftrain, Ltrain).predict(Ftest)\n",
    "class_names = target.unique()\n",
    "print(classification_report(Ltest, y_predict, target_names=class_names))\n",
    "print(confusion_matrix(Ltest, y_predict))"
   ]
  },
  {
   "cell_type": "markdown",
   "id": "bd7a9c8c",
   "metadata": {},
   "source": [
    "# SVM(RBF) on RGB data"
   ]
  },
  {
   "cell_type": "code",
   "execution_count": 22,
   "id": "75cf5b70",
   "metadata": {},
   "outputs": [
    {
     "name": "stdout",
     "output_type": "stream",
     "text": [
      "0.7675438596491229\n"
     ]
    }
   ],
   "source": [
    "svm_rbf = SVC(kernel='rbf')\n",
    "svm_rbf.fit(Ftrain,Ltrain)\n",
    "y_pred = svm_rbf.predict(Ftest)\n",
    "print(accuracy_score(Ltest,y_pred))"
   ]
  },
  {
   "cell_type": "code",
   "execution_count": 23,
   "id": "d790ed6e",
   "metadata": {},
   "outputs": [
    {
     "name": "stdout",
     "output_type": "stream",
     "text": [
      "                               precision    recall  f1-score   support\n",
      "\n",
      "               bacterial_spot       0.77      0.86      0.81       115\n",
      "                 early_blight       0.55      0.56      0.55       120\n",
      "                      healthy       0.92      0.91      0.92       125\n",
      "                  late_blight       0.76      0.77      0.76       125\n",
      "                    leaf_mold       0.87      0.78      0.82       127\n",
      "           septoria_leaf_spot       0.76      0.65      0.70       117\n",
      "                  target_spot       0.70      0.71      0.71       115\n",
      "          tomato_mosaic_virus       0.78      0.83      0.80        54\n",
      "tomato_yellow_leaf_curl_virus       0.83      0.87      0.85       114\n",
      "      two-spotted_spider_mite       0.74      0.77      0.75       128\n",
      "\n",
      "                     accuracy                           0.77      1140\n",
      "                    macro avg       0.77      0.77      0.77      1140\n",
      "                 weighted avg       0.77      0.77      0.77      1140\n",
      "\n",
      "[[ 99   3   3   3   1   0   0   0   6   0]\n",
      " [ 17  67   3   9   3   3  10   0   1   7]\n",
      " [  0   3 114   1   0   0   7   0   0   0]\n",
      " [  1  10   3  96   2   6   3   0   2   2]\n",
      " [  0   6   1   5  99   9   1   1   1   4]\n",
      " [  1   3   0   7   7  76   5   5   7   6]\n",
      " [  4  16   0   0   1   2  82   1   0   9]\n",
      " [  0   2   0   0   1   3   0  45   0   3]\n",
      " [  3   3   0   4   0   1   0   1  99   3]\n",
      " [  3   9   0   1   0   0   9   5   3  98]]\n"
     ]
    }
   ],
   "source": [
    "#classification report\n",
    "y_predict = svm_rbf.fit(Ftrain, Ltrain).predict(Ftest)\n",
    "class_names = target.unique()\n",
    "print(classification_report(Ltest, y_predict, target_names=class_names))\n",
    "print(confusion_matrix(Ltest, y_predict))"
   ]
  },
  {
   "cell_type": "markdown",
   "id": "b4626fd1",
   "metadata": {},
   "source": [
    "# SVM(sigmoid) on RGB data"
   ]
  },
  {
   "cell_type": "code",
   "execution_count": 24,
   "id": "774b25b9",
   "metadata": {},
   "outputs": [
    {
     "name": "stdout",
     "output_type": "stream",
     "text": [
      "0.47017543859649125\n"
     ]
    }
   ],
   "source": [
    "svm_si = SVC(kernel='sigmoid')\n",
    "svm_si.fit(Ftrain,Ltrain)\n",
    "y_pred = svm_si.predict(Ftest)\n",
    "print(accuracy_score(Ltest,y_pred))"
   ]
  },
  {
   "cell_type": "code",
   "execution_count": 25,
   "id": "a5229cca",
   "metadata": {},
   "outputs": [
    {
     "name": "stdout",
     "output_type": "stream",
     "text": [
      "                               precision    recall  f1-score   support\n",
      "\n",
      "               bacterial_spot       0.42      0.52      0.47       115\n",
      "                 early_blight       0.38      0.25      0.30       120\n",
      "                      healthy       0.77      0.68      0.72       125\n",
      "                  late_blight       0.33      0.50      0.40       125\n",
      "                    leaf_mold       0.74      0.48      0.58       127\n",
      "           septoria_leaf_spot       0.23      0.46      0.31       117\n",
      "                  target_spot       0.48      0.43      0.45       115\n",
      "          tomato_mosaic_virus       0.68      0.56      0.61        54\n",
      "tomato_yellow_leaf_curl_virus       0.82      0.48      0.61       114\n",
      "      two-spotted_spider_mite       0.55      0.38      0.45       128\n",
      "\n",
      "                     accuracy                           0.47      1140\n",
      "                    macro avg       0.54      0.47      0.49      1140\n",
      "                 weighted avg       0.53      0.47      0.48      1140\n",
      "\n",
      "[[60 17  0 33  0  4  0  0  1  0]\n",
      " [35 30  2 23  3 12  6  0  2  7]\n",
      " [ 3  2 85  8  0 14 10  0  0  3]\n",
      " [ 7  6 11 63  6 20  7  1  0  4]\n",
      " [ 2  7  2 16 61 32  1  3  0  3]\n",
      " [ 1  2  3 19  8 54 15  4  4  7]\n",
      " [ 6 10  6  1  1 31 49  0  0 11]\n",
      " [ 0  0  0  0  2 20  2 30  0  0]\n",
      " [15  3  0 17  0 18  0  1 55  5]\n",
      " [13  2  1  9  1 30 13  5  5 49]]\n"
     ]
    }
   ],
   "source": [
    "#classification report\n",
    "y_predict = svm_si.fit(Ftrain, Ltrain).predict(Ftest)\n",
    "class_names = target.unique()\n",
    "print(classification_report(Ltest, y_predict, target_names=class_names))\n",
    "print(confusion_matrix(Ltest, y_predict))"
   ]
  },
  {
   "cell_type": "markdown",
   "id": "73bef6fa",
   "metadata": {},
   "source": [
    "# Random Forest on RGB "
   ]
  },
  {
   "cell_type": "code",
   "execution_count": 26,
   "id": "6bae5a92",
   "metadata": {},
   "outputs": [],
   "source": [
    "from sklearn.ensemble import RandomForestClassifier"
   ]
  },
  {
   "cell_type": "code",
   "execution_count": 27,
   "id": "1d08a15e",
   "metadata": {},
   "outputs": [],
   "source": [
    "classifier_rf = RandomForestClassifier(random_state=42, n_jobs=-1, max_depth=5,n_estimators=100, oob_score=True)"
   ]
  },
  {
   "cell_type": "code",
   "execution_count": 28,
   "id": "938ad007",
   "metadata": {},
   "outputs": [
    {
     "data": {
      "text/plain": [
       "RandomForestClassifier(max_depth=5, n_jobs=-1, oob_score=True, random_state=42)"
      ]
     },
     "execution_count": 28,
     "metadata": {},
     "output_type": "execute_result"
    }
   ],
   "source": [
    "classifier_rf.fit(Ftrain, Ltrain)"
   ]
  },
  {
   "cell_type": "code",
   "execution_count": 29,
   "id": "e1769cec",
   "metadata": {},
   "outputs": [
    {
     "data": {
      "text/plain": [
       "0.5373985523141039"
      ]
     },
     "execution_count": 29,
     "metadata": {},
     "output_type": "execute_result"
    }
   ],
   "source": [
    "classifier_rf.oob_score_"
   ]
  },
  {
   "cell_type": "code",
   "execution_count": 30,
   "id": "e8e6675c",
   "metadata": {},
   "outputs": [
    {
     "name": "stdout",
     "output_type": "stream",
     "text": [
      "                               precision    recall  f1-score   support\n",
      "\n",
      "               bacterial_spot       0.46      0.66      0.54       115\n",
      "                 early_blight       0.67      0.10      0.17       120\n",
      "                      healthy       0.64      0.89      0.74       125\n",
      "                  late_blight       0.66      0.35      0.46       125\n",
      "                    leaf_mold       0.62      0.69      0.65       127\n",
      "           septoria_leaf_spot       0.51      0.45      0.48       117\n",
      "                  target_spot       0.53      0.77      0.63       115\n",
      "          tomato_mosaic_virus       0.50      0.02      0.04        54\n",
      "tomato_yellow_leaf_curl_virus       0.52      0.85      0.64       114\n",
      "      two-spotted_spider_mite       0.53      0.47      0.50       128\n",
      "\n",
      "                     accuracy                           0.55      1140\n",
      "                    macro avg       0.56      0.53      0.49      1140\n",
      "                 weighted avg       0.57      0.55      0.51      1140\n",
      "\n",
      "[[ 76   0   8   6   0   1   2   0  21   1]\n",
      " [ 37  12   4   9   5   9  19   0  17   8]\n",
      " [  2   1 111   1   3   0   6   0   0   1]\n",
      " [  4   2  29  44  11  20   6   0   8   1]\n",
      " [  8   0   5   1  87   9   5   0   6   6]\n",
      " [  6   0   8   4  16  53   2   0  19   9]\n",
      " [ 10   0   5   0   1   3  89   0   0   7]\n",
      " [  3   0   1   1  15   6   4   1   5  18]\n",
      " [  7   0   1   1   1   2   2   0  97   3]\n",
      " [ 13   3   2   0   1   0  33   1  15  60]]\n"
     ]
    }
   ],
   "source": [
    "y_predict = classifier_rf.fit(Ftrain, Ltrain).predict(Ftest)\n",
    "class_names = target.unique()\n",
    "print(classification_report(Ltest, y_predict, target_names=class_names))\n",
    "print(confusion_matrix(Ltest, y_predict))"
   ]
  },
  {
   "cell_type": "markdown",
   "id": "b6a094e4",
   "metadata": {},
   "source": [
    "# Gaussian Naive Bayes on RGB data"
   ]
  },
  {
   "cell_type": "code",
   "execution_count": 31,
   "id": "a5bc755b",
   "metadata": {},
   "outputs": [
    {
     "data": {
      "text/plain": [
       "GaussianNB()"
      ]
     },
     "execution_count": 31,
     "metadata": {},
     "output_type": "execute_result"
    }
   ],
   "source": [
    "from sklearn.naive_bayes import GaussianNB\n",
    "gnb = GaussianNB()\n",
    "gnb.fit(Ftrain, Ltrain)"
   ]
  },
  {
   "cell_type": "code",
   "execution_count": 32,
   "id": "6d162dcc",
   "metadata": {},
   "outputs": [],
   "source": [
    "y_pred = gnb.predict(Ftest)"
   ]
  },
  {
   "cell_type": "code",
   "execution_count": 33,
   "id": "8f7b4bab",
   "metadata": {},
   "outputs": [
    {
     "data": {
      "text/plain": [
       "0.4570175438596491"
      ]
     },
     "execution_count": 33,
     "metadata": {},
     "output_type": "execute_result"
    }
   ],
   "source": [
    "from sklearn import metrics\n",
    "metrics.accuracy_score(Ltest, y_pred)"
   ]
  },
  {
   "cell_type": "code",
   "execution_count": 34,
   "id": "69742172",
   "metadata": {},
   "outputs": [
    {
     "name": "stdout",
     "output_type": "stream",
     "text": [
      "                               precision    recall  f1-score   support\n",
      "\n",
      "               bacterial_spot       0.45      0.69      0.55       115\n",
      "                 early_blight       0.37      0.32      0.34       120\n",
      "                      healthy       0.46      0.62      0.53       125\n",
      "                  late_blight       0.34      0.24      0.28       125\n",
      "                    leaf_mold       0.74      0.45      0.56       127\n",
      "           septoria_leaf_spot       0.41      0.41      0.41       117\n",
      "                  target_spot       0.50      0.44      0.47       115\n",
      "          tomato_mosaic_virus       0.36      0.69      0.47        54\n",
      "tomato_yellow_leaf_curl_virus       0.62      0.45      0.52       114\n",
      "      two-spotted_spider_mite       0.42      0.41      0.42       128\n",
      "\n",
      "                     accuracy                           0.46      1140\n",
      "                    macro avg       0.47      0.47      0.45      1140\n",
      "                 weighted avg       0.47      0.46      0.45      1140\n",
      "\n",
      "[[79  5 14  2  0  2  3  3  7  0]\n",
      " [32 38  1 21  4  6  5  3  3  7]\n",
      " [ 3  2 77  7  5  1 22  4  0  4]\n",
      " [ 2 14 53 30  3 12  2  2  5  2]\n",
      " [11  6  2  9 57 27  1 10  1  3]\n",
      " [ 0  4 17  2  6 48  6  8  9 17]\n",
      " [ 9 12  0  9  0  6 51  5  0 23]\n",
      " [ 6  0  0  0  2  4  0 37  3  2]\n",
      " [16 12  2  7  0  7  0  5 51 14]\n",
      " [16 10  0  2  0  5 12 27  3 53]]\n"
     ]
    }
   ],
   "source": [
    "class_names = target.unique()\n",
    "print(classification_report(Ltest, y_pred, target_names=class_names))\n",
    "print(confusion_matrix(Ltest, y_pred))"
   ]
  },
  {
   "cell_type": "markdown",
   "id": "d6160a05",
   "metadata": {},
   "source": [
    "# Bernouli Naive bayes on RGB data"
   ]
  },
  {
   "cell_type": "code",
   "execution_count": 35,
   "id": "a257e2b3",
   "metadata": {},
   "outputs": [],
   "source": [
    "from sklearn.naive_bayes import BernoulliNB"
   ]
  },
  {
   "cell_type": "code",
   "execution_count": 36,
   "id": "1b9e5ea9",
   "metadata": {},
   "outputs": [
    {
     "data": {
      "text/plain": [
       "BernoulliNB()"
      ]
     },
     "execution_count": 36,
     "metadata": {},
     "output_type": "execute_result"
    }
   ],
   "source": [
    "bnb = BernoulliNB()\n",
    "bnb.fit(Ftrain, Ltrain)"
   ]
  },
  {
   "cell_type": "code",
   "execution_count": 37,
   "id": "d471cc30",
   "metadata": {},
   "outputs": [],
   "source": [
    "y_pred = bnb.predict(Ftest)"
   ]
  },
  {
   "cell_type": "code",
   "execution_count": 38,
   "id": "4cdf2dc4",
   "metadata": {},
   "outputs": [
    {
     "data": {
      "text/plain": [
       "0.41578947368421054"
      ]
     },
     "execution_count": 38,
     "metadata": {},
     "output_type": "execute_result"
    }
   ],
   "source": [
    "metrics.accuracy_score(Ltest, y_pred)"
   ]
  },
  {
   "cell_type": "code",
   "execution_count": 39,
   "id": "4a24591c",
   "metadata": {},
   "outputs": [
    {
     "name": "stdout",
     "output_type": "stream",
     "text": [
      "                               precision    recall  f1-score   support\n",
      "\n",
      "               bacterial_spot       0.37      0.65      0.47       115\n",
      "                 early_blight       0.35      0.23      0.27       120\n",
      "                      healthy       0.41      0.57      0.48       125\n",
      "                  late_blight       0.21      0.11      0.15       125\n",
      "                    leaf_mold       0.68      0.41      0.51       127\n",
      "           septoria_leaf_spot       0.32      0.51      0.40       117\n",
      "                  target_spot       0.53      0.44      0.48       115\n",
      "          tomato_mosaic_virus       0.37      0.48      0.42        54\n",
      "tomato_yellow_leaf_curl_virus       0.64      0.42      0.51       114\n",
      "      two-spotted_spider_mite       0.43      0.39      0.41       128\n",
      "\n",
      "                     accuracy                           0.42      1140\n",
      "                    macro avg       0.43      0.42      0.41      1140\n",
      "                 weighted avg       0.43      0.42      0.41      1140\n",
      "\n",
      "[[75 10 12  9  0  3  0  1  4  1]\n",
      " [47 27  3  4  2 16 12  1  4  4]\n",
      " [ 4  1 71 11  4 10 15  6  0  3]\n",
      " [ 9  6 56 14  7 21  3  3  5  1]\n",
      " [14  2  7  3 52 31  1  7  2  8]\n",
      " [ 1  2 12  7  7 60  5  4  6 13]\n",
      " [10 14  4  5  0 16 51  0  0 15]\n",
      " [ 3  1  0  5  2 10  0 26  3  4]\n",
      " [23  4  5  5  1  8  0  2 48 18]\n",
      " [18 10  2  3  1 10 10 21  3 50]]\n"
     ]
    }
   ],
   "source": [
    "class_names = target.unique()\n",
    "print(classification_report(Ltest, y_pred, target_names=class_names))\n",
    "print(confusion_matrix(Ltest, y_pred))"
   ]
  },
  {
   "cell_type": "markdown",
   "id": "0d6e0d06",
   "metadata": {},
   "source": [
    "# Decision Tree on RGB data"
   ]
  },
  {
   "cell_type": "code",
   "execution_count": 40,
   "id": "a5fd6907",
   "metadata": {},
   "outputs": [],
   "source": [
    "from sklearn.tree import DecisionTreeClassifier\n",
    "classifier_tree = DecisionTreeClassifier()"
   ]
  },
  {
   "cell_type": "code",
   "execution_count": 41,
   "id": "63eb94fc",
   "metadata": {},
   "outputs": [
    {
     "data": {
      "text/plain": [
       "0.4368421052631579"
      ]
     },
     "execution_count": 41,
     "metadata": {},
     "output_type": "execute_result"
    }
   ],
   "source": [
    "classifier_tree.fit(Ftrain, Ltrain)\n",
    "classifier_tree.score(Ftest,Ltest)"
   ]
  },
  {
   "cell_type": "code",
   "execution_count": 42,
   "id": "2a796fe0",
   "metadata": {},
   "outputs": [
    {
     "name": "stdout",
     "output_type": "stream",
     "text": [
      "                               precision    recall  f1-score   support\n",
      "\n",
      "               bacterial_spot       0.52      0.53      0.52       115\n",
      "                 early_blight       0.20      0.21      0.20       120\n",
      "                      healthy       0.64      0.58      0.61       125\n",
      "                  late_blight       0.42      0.43      0.43       125\n",
      "                    leaf_mold       0.50      0.43      0.46       127\n",
      "           septoria_leaf_spot       0.41      0.44      0.42       117\n",
      "                  target_spot       0.40      0.41      0.41       115\n",
      "          tomato_mosaic_virus       0.25      0.35      0.29        54\n",
      "tomato_yellow_leaf_curl_virus       0.59      0.51      0.54       114\n",
      "      two-spotted_spider_mite       0.40      0.39      0.40       128\n",
      "\n",
      "                     accuracy                           0.43      1140\n",
      "                    macro avg       0.43      0.43      0.43      1140\n",
      "                 weighted avg       0.44      0.43      0.44      1140\n",
      "\n",
      "[[61 17  1  7  6  7  4  4  7  1]\n",
      " [17 25  4 18  6  7 12  6  6 19]\n",
      " [ 9  6 73  5  4  7  8  7  2  4]\n",
      " [ 8 12  9 54  6 15  6  8  3  4]\n",
      " [ 2 14  5 15 55  8  5 14  4  5]\n",
      " [ 5  8  7  7 11 52 12  4  6  5]\n",
      " [ 4 12  3  8  6 10 47  3  2 20]\n",
      " [ 1  6  3  3  7  6  2 19  2  5]\n",
      " [ 8  7  3  8  3  8  3  5 58 11]\n",
      " [ 3 18  6  4  6  8 18  6  9 50]]\n"
     ]
    }
   ],
   "source": [
    "y_predict = classifier_tree.fit(Ftrain, Ltrain).predict(Ftest)\n",
    "class_names = target.unique()\n",
    "print(classification_report(Ltest, y_predict, target_names=class_names))\n",
    "print(confusion_matrix(Ltest, y_predict))"
   ]
  },
  {
   "cell_type": "markdown",
   "id": "c9daaaee",
   "metadata": {},
   "source": [
    "# KNN on grayscale data"
   ]
  },
  {
   "cell_type": "code",
   "execution_count": 43,
   "id": "57a9845e",
   "metadata": {},
   "outputs": [],
   "source": [
    "#reading numpy array data\n",
    "gray_test = np.load('gray_test.npy')\n",
    "#reading csv file\n",
    "gray_df = pd.read_csv('gray_data.csv')"
   ]
  },
  {
   "cell_type": "code",
   "execution_count": 44,
   "id": "25d4fea2",
   "metadata": {},
   "outputs": [],
   "source": [
    "loaded = []\n",
    "for i in gray_test:\n",
    "    k = []\n",
    "    k = np.asarray(i,dtype='uint8')\n",
    "    loaded.append(k)"
   ]
  },
  {
   "cell_type": "code",
   "execution_count": 45,
   "id": "d3abef95",
   "metadata": {},
   "outputs": [],
   "source": [
    "features = loaded\n",
    "target = gray_df['disease']\n",
    "Ftrain,Ftest,Ltrain,Ltest=train_test_split(features,target, test_size=0.20, random_state=20)\n",
    "Ftrain = scaler.fit_transform(Ftrain)\n",
    "Ftest = scaler.fit_transform(Ftest)"
   ]
  },
  {
   "cell_type": "code",
   "execution_count": 46,
   "id": "6f75adfd",
   "metadata": {},
   "outputs": [
    {
     "data": {
      "text/plain": [
       "0.38859649122807016"
      ]
     },
     "execution_count": 46,
     "metadata": {},
     "output_type": "execute_result"
    }
   ],
   "source": [
    "kmodel.fit(Ftrain,Ltrain)\n",
    "kmodel.score(Ftest,Ltest)"
   ]
  },
  {
   "cell_type": "code",
   "execution_count": 47,
   "id": "db638452",
   "metadata": {},
   "outputs": [
    {
     "name": "stdout",
     "output_type": "stream",
     "text": [
      "                               precision    recall  f1-score   support\n",
      "\n",
      "               bacterial_spot       0.28      0.74      0.40       124\n",
      "                 early_blight       0.50      0.01      0.02       114\n",
      "                      healthy       0.38      0.71      0.50       131\n",
      "                  late_blight       0.31      0.23      0.26       124\n",
      "                    leaf_mold       0.50      0.49      0.49       117\n",
      "           septoria_leaf_spot       0.46      0.44      0.45       114\n",
      "                  target_spot       0.47      0.24      0.32       111\n",
      "          tomato_mosaic_virus       0.38      0.25      0.30        60\n",
      "tomato_yellow_leaf_curl_virus       0.44      0.12      0.19       121\n",
      "      two-spotted_spider_mite       0.55      0.52      0.53       124\n",
      "\n",
      "                     accuracy                           0.39      1140\n",
      "                    macro avg       0.43      0.38      0.35      1140\n",
      "                 weighted avg       0.43      0.39      0.35      1140\n",
      "\n",
      "[[92  0 13 10  2  2  0  0  4  1]\n",
      " [65  1  9  0 12  5  9  3  3  7]\n",
      " [14  0 93 10  2  7  0  2  2  1]\n",
      " [24  0 28 28 12 18  3  1  3  7]\n",
      " [12  0 24  7 57  4  2  5  2  4]\n",
      " [ 7  1 25  9  6 50  6  4  0  6]\n",
      " [41  0 12  6  0  6 27  2  2 15]\n",
      " [ 5  0 14  4  9  5  0 15  1  7]\n",
      " [41  0 20 11 15  3  4  6 15  6]\n",
      " [31  0  5  5  0  8  6  2  2 65]]\n"
     ]
    }
   ],
   "source": [
    "y_predict = kmodel.fit(Ftrain, Ltrain).predict(Ftest)\n",
    "class_names = target.unique()\n",
    "print(classification_report(Ltest, y_predict, target_names=class_names))\n",
    "print(confusion_matrix(Ltest, y_predict))"
   ]
  },
  {
   "cell_type": "markdown",
   "id": "197eedfc",
   "metadata": {},
   "source": [
    "# Logistic on grayscale data"
   ]
  },
  {
   "cell_type": "code",
   "execution_count": 48,
   "id": "9fd6cafe",
   "metadata": {},
   "outputs": [
    {
     "data": {
      "text/plain": [
       "0.3140350877192982"
      ]
     },
     "execution_count": 48,
     "metadata": {},
     "output_type": "execute_result"
    }
   ],
   "source": [
    "from sklearn.linear_model import LogisticRegression\n",
    "model=LogisticRegression(solver='lbfgs', max_iter=10000)\n",
    "model.fit(Ftrain,Ltrain)\n",
    "model.score(Ftest,Ltest)"
   ]
  },
  {
   "cell_type": "code",
   "execution_count": 49,
   "id": "ad468ab9",
   "metadata": {},
   "outputs": [
    {
     "name": "stdout",
     "output_type": "stream",
     "text": [
      "                               precision    recall  f1-score   support\n",
      "\n",
      "               bacterial_spot       0.48      0.41      0.44       124\n",
      "                 early_blight       0.25      0.30      0.27       114\n",
      "                      healthy       0.40      0.38      0.39       131\n",
      "                  late_blight       0.18      0.19      0.19       124\n",
      "                    leaf_mold       0.37      0.42      0.40       117\n",
      "           septoria_leaf_spot       0.26      0.27      0.27       114\n",
      "                  target_spot       0.20      0.18      0.19       111\n",
      "          tomato_mosaic_virus       0.25      0.22      0.23        60\n",
      "tomato_yellow_leaf_curl_virus       0.28      0.26      0.27       121\n",
      "      two-spotted_spider_mite       0.41      0.44      0.43       124\n",
      "\n",
      "                     accuracy                           0.31      1140\n",
      "                    macro avg       0.31      0.31      0.31      1140\n",
      "                 weighted avg       0.32      0.31      0.31      1140\n",
      "\n",
      "[[51 24  8  8  6  7  9  1  7  3]\n",
      " [17 34  4  9 10  3 15  0 11 11]\n",
      " [ 4  4 50 24  7 16 12  0 10  4]\n",
      " [ 6 14 11 24 22 20  6  6  8  7]\n",
      " [ 3 13 10 15 49 10  2  3  6  6]\n",
      " [ 5  7 14 21  6 31 10  4  6 10]\n",
      " [ 8 18 10  9  7  5 20  3 12 19]\n",
      " [ 2  2  4  4  9  9  1 13  9  7]\n",
      " [ 6 14  4 12 11  8  8 16 31 11]\n",
      " [ 5  7  9  6  4  8 15  5 10 55]]\n"
     ]
    }
   ],
   "source": [
    "y_predict = model.fit(Ftrain, Ltrain).predict(Ftest)\n",
    "class_names = target.unique()\n",
    "print(classification_report(Ltest, y_predict, target_names=class_names))\n",
    "print(confusion_matrix(Ltest, y_predict))"
   ]
  },
  {
   "cell_type": "markdown",
   "id": "5284f869",
   "metadata": {},
   "source": [
    "# SVM(linear) on Grayscale data"
   ]
  },
  {
   "cell_type": "code",
   "execution_count": 50,
   "id": "d0db5c80",
   "metadata": {},
   "outputs": [
    {
     "name": "stdout",
     "output_type": "stream",
     "text": [
      "0.3570175438596491\n"
     ]
    }
   ],
   "source": [
    "clf = SVC(kernel='linear')\n",
    "clf.fit(Ftrain,Ltrain)\n",
    "y_pred = clf.predict(Ftest)\n",
    "print(accuracy_score(Ltest,y_pred))"
   ]
  },
  {
   "cell_type": "code",
   "execution_count": 51,
   "id": "907d10fb",
   "metadata": {},
   "outputs": [
    {
     "name": "stdout",
     "output_type": "stream",
     "text": [
      "                               precision    recall  f1-score   support\n",
      "\n",
      "               bacterial_spot       0.33      0.44      0.38       124\n",
      "                 early_blight       0.26      0.35      0.30       114\n",
      "                      healthy       0.53      0.50      0.52       131\n",
      "                  late_blight       0.23      0.22      0.22       124\n",
      "                    leaf_mold       0.45      0.45      0.45       117\n",
      "           septoria_leaf_spot       0.28      0.26      0.27       114\n",
      "                  target_spot       0.28      0.26      0.27       111\n",
      "          tomato_mosaic_virus       0.35      0.28      0.31        60\n",
      "tomato_yellow_leaf_curl_virus       0.39      0.28      0.33       121\n",
      "      two-spotted_spider_mite       0.52      0.45      0.48       124\n",
      "\n",
      "                     accuracy                           0.36      1140\n",
      "                    macro avg       0.36      0.35      0.35      1140\n",
      "                 weighted avg       0.36      0.36      0.36      1140\n",
      "\n",
      "[[55 28 11  5  5  5  7  0  6  2]\n",
      " [26 40  4  5  6  4 18  0  5  6]\n",
      " [12  6 66 16  2 13  3  1  8  4]\n",
      " [12 23 11 27 12 21  7  3  5  3]\n",
      " [ 7  6  7 21 53  8  4  2  4  5]\n",
      " [ 7  7  8 21 13 30 13  8  1  6]\n",
      " [23 19  6  4  4  3 29  2  7 14]\n",
      " [ 7  1  1  1  5 12  0 17 10  6]\n",
      " [12 14  5 13 13  3 11 10 34  6]\n",
      " [ 7 12  5  5  5  9 12  6  7 56]]\n"
     ]
    }
   ],
   "source": [
    "y_predict = clf.fit(Ftrain, Ltrain).predict(Ftest)\n",
    "class_names = target.unique()\n",
    "print(classification_report(Ltest, y_predict, target_names=class_names))\n",
    "print(confusion_matrix(Ltest, y_predict))"
   ]
  },
  {
   "cell_type": "markdown",
   "id": "bb4df373",
   "metadata": {},
   "source": [
    "# SVM(poly) on grayscale data"
   ]
  },
  {
   "cell_type": "code",
   "execution_count": 52,
   "id": "a0d5bfda",
   "metadata": {},
   "outputs": [
    {
     "name": "stdout",
     "output_type": "stream",
     "text": [
      "0.5157894736842106\n"
     ]
    }
   ],
   "source": [
    "svm_poly = SVC(kernel='poly')\n",
    "svm_poly.fit(Ftrain,Ltrain)\n",
    "y_pred = svm_poly.predict(Ftest)\n",
    "print(accuracy_score(Ltest,y_pred))"
   ]
  },
  {
   "cell_type": "code",
   "execution_count": 53,
   "id": "d7fb339e",
   "metadata": {},
   "outputs": [
    {
     "name": "stdout",
     "output_type": "stream",
     "text": [
      "                               precision    recall  f1-score   support\n",
      "\n",
      "               bacterial_spot       0.50      0.68      0.57       124\n",
      "                 early_blight       0.55      0.21      0.30       114\n",
      "                      healthy       0.50      0.92      0.65       131\n",
      "                  late_blight       0.49      0.17      0.25       124\n",
      "                    leaf_mold       0.47      0.63      0.54       117\n",
      "           septoria_leaf_spot       0.68      0.44      0.53       114\n",
      "                  target_spot       0.48      0.60      0.53       111\n",
      "          tomato_mosaic_virus       0.60      0.05      0.09        60\n",
      "tomato_yellow_leaf_curl_virus       0.44      0.56      0.49       121\n",
      "      two-spotted_spider_mite       0.69      0.62      0.66       124\n",
      "\n",
      "                     accuracy                           0.52      1140\n",
      "                    macro avg       0.54      0.49      0.46      1140\n",
      "                 weighted avg       0.53      0.52      0.48      1140\n",
      "\n",
      "[[ 84   3  11   9   3   0   4   0  10   0]\n",
      " [ 32  24   3   3   9   1  25   0  11   6]\n",
      " [  3   0 120   0   3   0   3   0   2   0]\n",
      " [ 11  13  28  21  18  14   4   0  13   2]\n",
      " [  5   1  15   1  74   2  10   0   8   1]\n",
      " [  2   0  26   5  16  50   8   0   6   1]\n",
      " [ 15   0   8   0   3   1  67   0   7  10]\n",
      " [  1   0   7   0  19   3   1   3  19   7]\n",
      " [ 11   3  11   4   8   2   5   2  68   7]\n",
      " [  5   0  12   0   4   1  14   0  11  77]]\n"
     ]
    }
   ],
   "source": [
    "#classification report\n",
    "y_predict = svm_poly.fit(Ftrain, Ltrain).predict(Ftest)\n",
    "class_names = target.unique()\n",
    "print(classification_report(Ltest, y_predict, target_names=class_names))\n",
    "print(confusion_matrix(Ltest, y_predict))"
   ]
  },
  {
   "cell_type": "markdown",
   "id": "f8e82d44",
   "metadata": {},
   "source": [
    "# SVM(RBF) on grayscale data"
   ]
  },
  {
   "cell_type": "code",
   "execution_count": 54,
   "id": "67c0ee85",
   "metadata": {},
   "outputs": [
    {
     "name": "stdout",
     "output_type": "stream",
     "text": [
      "0.6333333333333333\n"
     ]
    }
   ],
   "source": [
    "svm_rbf = SVC(kernel='rbf')\n",
    "svm_rbf.fit(Ftrain,Ltrain)\n",
    "y_pred = svm_rbf.predict(Ftest)\n",
    "print(accuracy_score(Ltest,y_pred))"
   ]
  },
  {
   "cell_type": "code",
   "execution_count": 55,
   "id": "0001fe9e",
   "metadata": {},
   "outputs": [
    {
     "name": "stdout",
     "output_type": "stream",
     "text": [
      "                               precision    recall  f1-score   support\n",
      "\n",
      "               bacterial_spot       0.74      0.65      0.70       124\n",
      "                 early_blight       0.46      0.49      0.47       114\n",
      "                      healthy       0.70      0.86      0.77       131\n",
      "                  late_blight       0.63      0.56      0.59       124\n",
      "                    leaf_mold       0.69      0.65      0.67       117\n",
      "           septoria_leaf_spot       0.58      0.62      0.60       114\n",
      "                  target_spot       0.54      0.61      0.58       111\n",
      "          tomato_mosaic_virus       0.57      0.47      0.51        60\n",
      "tomato_yellow_leaf_curl_virus       0.65      0.60      0.63       121\n",
      "      two-spotted_spider_mite       0.73      0.70      0.72       124\n",
      "\n",
      "                     accuracy                           0.63      1140\n",
      "                    macro avg       0.63      0.62      0.62      1140\n",
      "                 weighted avg       0.64      0.63      0.63      1140\n",
      "\n",
      "[[ 81   7   8   6   3   5   3   0  10   1]\n",
      " [ 12  56   1  10   8   2  13   1   7   4]\n",
      " [  0   1 113   4   0   3   3   1   4   2]\n",
      " [  0  20   5  69   4  17   4   1   3   1]\n",
      " [  0   8   8   2  76   6   8   4   2   3]\n",
      " [  0   3   9  11   7  71   7   5   1   0]\n",
      " [  8  10   4   1   2   3  68   0   3  12]\n",
      " [  3   0   3   0   8   8   0  28   6   4]\n",
      " [  4  12   6   6   2   4   4   5  73   5]\n",
      " [  1   5   4   1   0   4  15   4   3  87]]\n"
     ]
    }
   ],
   "source": [
    "#classification report\n",
    "y_predict = svm_rbf.fit(Ftrain, Ltrain).predict(Ftest)\n",
    "class_names = target.unique()\n",
    "print(classification_report(Ltest, y_predict, target_names=class_names))\n",
    "print(confusion_matrix(Ltest, y_predict))"
   ]
  },
  {
   "cell_type": "markdown",
   "id": "2e75aafa",
   "metadata": {},
   "source": [
    "# SVM(sigmoid) on grayscale data"
   ]
  },
  {
   "cell_type": "code",
   "execution_count": 56,
   "id": "d9d20d3a",
   "metadata": {},
   "outputs": [
    {
     "name": "stdout",
     "output_type": "stream",
     "text": [
      "0.29210526315789476\n"
     ]
    }
   ],
   "source": [
    "svm_si = SVC(kernel='sigmoid')\n",
    "svm_si.fit(Ftrain,Ltrain)\n",
    "y_pred = svm_si.predict(Ftest)\n",
    "print(accuracy_score(Ltest,y_pred))"
   ]
  },
  {
   "cell_type": "code",
   "execution_count": 57,
   "id": "b4425048",
   "metadata": {},
   "outputs": [
    {
     "name": "stdout",
     "output_type": "stream",
     "text": [
      "                               precision    recall  f1-score   support\n",
      "\n",
      "               bacterial_spot       0.39      0.45      0.42       124\n",
      "                 early_blight       0.19      0.20      0.20       114\n",
      "                      healthy       0.43      0.39      0.41       131\n",
      "                  late_blight       0.20      0.17      0.18       124\n",
      "                    leaf_mold       0.56      0.27      0.37       117\n",
      "           septoria_leaf_spot       0.18      0.39      0.24       114\n",
      "                  target_spot       0.21      0.23      0.22       111\n",
      "          tomato_mosaic_virus       0.43      0.05      0.09        60\n",
      "tomato_yellow_leaf_curl_virus       0.31      0.32      0.31       121\n",
      "      two-spotted_spider_mite       0.43      0.31      0.36       124\n",
      "\n",
      "                     accuracy                           0.29      1140\n",
      "                    macro avg       0.33      0.28      0.28      1140\n",
      "                 weighted avg       0.33      0.29      0.29      1140\n",
      "\n",
      "[[56 24 11  9  2  7  4  0  8  3]\n",
      " [32 23  2  5  3 12 22  0  8  7]\n",
      " [11  3 51 25  0 24  9  0  7  1]\n",
      " [11 11 16 21  8 26 17  0 11  3]\n",
      " [ 4  9 10 17 32 28  4  1  9  3]\n",
      " [ 1  8 12 11  4 44 25  1  4  4]\n",
      " [12 17  4  3  0 29 26  0  6 14]\n",
      " [ 2  1  2  2  3 22  0  3 21  4]\n",
      " [14 14  8  8  4 18  3  1 39 12]\n",
      " [ 2 10  3  3  1 41 11  1 14 38]]\n"
     ]
    }
   ],
   "source": [
    "#classification report\n",
    "y_predict = svm_si.fit(Ftrain, Ltrain).predict(Ftest)\n",
    "class_names = target.unique()\n",
    "print(classification_report(Ltest, y_predict, target_names=class_names))\n",
    "print(confusion_matrix(Ltest, y_predict))"
   ]
  },
  {
   "cell_type": "markdown",
   "id": "576fd580",
   "metadata": {},
   "source": [
    "# Random Forest on Grayscale"
   ]
  },
  {
   "cell_type": "code",
   "execution_count": 58,
   "id": "9dfa979e",
   "metadata": {},
   "outputs": [
    {
     "data": {
      "text/plain": [
       "RandomForestClassifier(max_depth=5, n_jobs=-1, oob_score=True, random_state=42)"
      ]
     },
     "execution_count": 58,
     "metadata": {},
     "output_type": "execute_result"
    }
   ],
   "source": [
    "classifier_rf.fit(Ftrain, Ltrain)"
   ]
  },
  {
   "cell_type": "code",
   "execution_count": 59,
   "id": "2b4347ef",
   "metadata": {},
   "outputs": [
    {
     "data": {
      "text/plain": [
       "0.4536082474226804"
      ]
     },
     "execution_count": 59,
     "metadata": {},
     "output_type": "execute_result"
    }
   ],
   "source": [
    "classifier_rf.oob_score_"
   ]
  },
  {
   "cell_type": "code",
   "execution_count": 60,
   "id": "ce5db8b5",
   "metadata": {},
   "outputs": [
    {
     "name": "stdout",
     "output_type": "stream",
     "text": [
      "                               precision    recall  f1-score   support\n",
      "\n",
      "               bacterial_spot       0.45      0.64      0.52       124\n",
      "                 early_blight       0.38      0.14      0.21       114\n",
      "                      healthy       0.46      0.80      0.59       131\n",
      "                  late_blight       0.48      0.27      0.35       124\n",
      "                    leaf_mold       0.56      0.58      0.57       117\n",
      "           septoria_leaf_spot       0.55      0.47      0.51       114\n",
      "                  target_spot       0.42      0.71      0.53       111\n",
      "          tomato_mosaic_virus       0.00      0.00      0.00        60\n",
      "tomato_yellow_leaf_curl_virus       0.52      0.35      0.42       121\n",
      "      two-spotted_spider_mite       0.49      0.52      0.50       124\n",
      "\n",
      "                     accuracy                           0.48      1140\n",
      "                    macro avg       0.43      0.45      0.42      1140\n",
      "                 weighted avg       0.45      0.48      0.44      1140\n",
      "\n",
      "[[ 79   3  22   6   3   0   5   0   4   2]\n",
      " [ 42  16   4   1   5  12  23   0   5   6]\n",
      " [  1   0 105  10   2   0   7   0   3   3]\n",
      " [  8   9  22  34  13  19  12   0   1   6]\n",
      " [  8   1  17   2  68   1  12   0   2   6]\n",
      " [  2   0  20   6   9  54  12   0   1  10]\n",
      " [  8   4   6   0   1   4  79   0   2   7]\n",
      " [  2   1  11   3  11   5   3   0   9  15]\n",
      " [ 23   4  13   9   7   2   7   0  42  14]\n",
      " [  4   4   7   0   2   2  28   0  12  65]]\n"
     ]
    },
    {
     "name": "stderr",
     "output_type": "stream",
     "text": [
      "C:\\Users\\ravic\\anaconda3\\lib\\site-packages\\sklearn\\metrics\\_classification.py:1248: UndefinedMetricWarning: Precision and F-score are ill-defined and being set to 0.0 in labels with no predicted samples. Use `zero_division` parameter to control this behavior.\n",
      "  _warn_prf(average, modifier, msg_start, len(result))\n",
      "C:\\Users\\ravic\\anaconda3\\lib\\site-packages\\sklearn\\metrics\\_classification.py:1248: UndefinedMetricWarning: Precision and F-score are ill-defined and being set to 0.0 in labels with no predicted samples. Use `zero_division` parameter to control this behavior.\n",
      "  _warn_prf(average, modifier, msg_start, len(result))\n",
      "C:\\Users\\ravic\\anaconda3\\lib\\site-packages\\sklearn\\metrics\\_classification.py:1248: UndefinedMetricWarning: Precision and F-score are ill-defined and being set to 0.0 in labels with no predicted samples. Use `zero_division` parameter to control this behavior.\n",
      "  _warn_prf(average, modifier, msg_start, len(result))\n"
     ]
    }
   ],
   "source": [
    "y_predict = classifier_rf.fit(Ftrain, Ltrain).predict(Ftest)\n",
    "class_names = target.unique()\n",
    "print(classification_report(Ltest, y_predict, target_names=class_names))\n",
    "print(confusion_matrix(Ltest, y_predict))"
   ]
  },
  {
   "cell_type": "markdown",
   "id": "8befce61",
   "metadata": {},
   "source": [
    "# Gaussian Naive bayes on Grayscale"
   ]
  },
  {
   "cell_type": "code",
   "execution_count": 61,
   "id": "0d1a6d3b",
   "metadata": {},
   "outputs": [
    {
     "data": {
      "text/plain": [
       "GaussianNB()"
      ]
     },
     "execution_count": 61,
     "metadata": {},
     "output_type": "execute_result"
    }
   ],
   "source": [
    "gnb.fit(Ftrain, Ltrain)"
   ]
  },
  {
   "cell_type": "code",
   "execution_count": 62,
   "id": "053c9a09",
   "metadata": {},
   "outputs": [
    {
     "data": {
      "text/plain": [
       "0.4087719298245614"
      ]
     },
     "execution_count": 62,
     "metadata": {},
     "output_type": "execute_result"
    }
   ],
   "source": [
    "y_pred = gnb.predict(Ftest)\n",
    "metrics.accuracy_score(Ltest, y_pred)"
   ]
  },
  {
   "cell_type": "code",
   "execution_count": 63,
   "id": "0ea180f7",
   "metadata": {},
   "outputs": [
    {
     "name": "stdout",
     "output_type": "stream",
     "text": [
      "                               precision    recall  f1-score   support\n",
      "\n",
      "               bacterial_spot       0.47      0.69      0.56       124\n",
      "                 early_blight       0.38      0.39      0.39       114\n",
      "                      healthy       0.44      0.63      0.52       131\n",
      "                  late_blight       0.34      0.20      0.25       124\n",
      "                    leaf_mold       0.61      0.29      0.39       117\n",
      "           septoria_leaf_spot       0.37      0.47      0.42       114\n",
      "                  target_spot       0.50      0.38      0.43       111\n",
      "          tomato_mosaic_virus       0.29      0.57      0.39        60\n",
      "tomato_yellow_leaf_curl_virus       0.27      0.12      0.16       121\n",
      "      two-spotted_spider_mite       0.39      0.40      0.40       124\n",
      "\n",
      "                     accuracy                           0.41      1140\n",
      "                    macro avg       0.41      0.41      0.39      1140\n",
      "                 weighted avg       0.41      0.41      0.39      1140\n",
      "\n",
      "[[85  6 17  2  0  3  2  6  2  1]\n",
      " [21 45  1 17  4  5  7  2  4  8]\n",
      " [ 5  2 83  3  6  1  8  7 14  2]\n",
      " [ 3 25 34 25  3 21  4  4  1  4]\n",
      " [12  3  6  9 34 23  3 14  3 10]\n",
      " [ 2  2 22  6  1 54  7  5  3 12]\n",
      " [11 15  1  6  3  7 42  2  2 22]\n",
      " [ 7  0  5  0  2  5  0 34  2  5]\n",
      " [28 11 16  5  1 10  3 18 14 15]\n",
      " [ 6  8  3  1  2 16  8 24  6 50]]\n"
     ]
    }
   ],
   "source": [
    "class_names = target.unique()\n",
    "print(classification_report(Ltest, y_pred, target_names=class_names))\n",
    "print(confusion_matrix(Ltest, y_pred))"
   ]
  },
  {
   "cell_type": "markdown",
   "id": "d5b489a0",
   "metadata": {},
   "source": [
    "# Bernouli Naive bayes on grayscale data"
   ]
  },
  {
   "cell_type": "code",
   "execution_count": 64,
   "id": "05c41305",
   "metadata": {},
   "outputs": [
    {
     "data": {
      "text/plain": [
       "0.3447368421052632"
      ]
     },
     "execution_count": 64,
     "metadata": {},
     "output_type": "execute_result"
    }
   ],
   "source": [
    "bnb.fit(Ftrain, Ltrain)\n",
    "y_pred = bnb.predict(Ftest)\n",
    "metrics.accuracy_score(Ltest, y_pred)"
   ]
  },
  {
   "cell_type": "code",
   "execution_count": 65,
   "id": "40cc434f",
   "metadata": {},
   "outputs": [
    {
     "name": "stdout",
     "output_type": "stream",
     "text": [
      "                               precision    recall  f1-score   support\n",
      "\n",
      "               bacterial_spot       0.39      0.69      0.50       124\n",
      "                 early_blight       0.28      0.18      0.22       114\n",
      "                      healthy       0.40      0.54      0.46       131\n",
      "                  late_blight       0.15      0.08      0.10       124\n",
      "                    leaf_mold       0.63      0.31      0.41       117\n",
      "           septoria_leaf_spot       0.31      0.53      0.39       114\n",
      "                  target_spot       0.36      0.26      0.30       111\n",
      "          tomato_mosaic_virus       0.18      0.27      0.22        60\n",
      "tomato_yellow_leaf_curl_virus       0.17      0.09      0.12       121\n",
      "      two-spotted_spider_mite       0.44      0.44      0.44       124\n",
      "\n",
      "                     accuracy                           0.34      1140\n",
      "                    macro avg       0.33      0.34      0.32      1140\n",
      "                 weighted avg       0.34      0.34      0.32      1140\n",
      "\n",
      "[[85  5 14  6  2  4  1  1  5  1]\n",
      " [47 20  3  4  2 15 15  2  4  2]\n",
      " [ 5  1 71 13  4 12  6  7  8  4]\n",
      " [21  8 40 10  9 23  6  1  1  5]\n",
      " [10  5  9  8 36 23  5  7  6  8]\n",
      " [ 1  3 20  3  1 60  9  5  1 11]\n",
      " [ 7 10  2  6  1 19 29 12 11 14]\n",
      " [ 5  0  4  5  2 12  1 16  7  8]\n",
      " [31 10 12  8  0 13  2 17 11 17]\n",
      " [ 4  9  4  4  0 14  6 19  9 55]]\n"
     ]
    }
   ],
   "source": [
    "class_names = target.unique()\n",
    "print(classification_report(Ltest, y_pred, target_names=class_names))\n",
    "print(confusion_matrix(Ltest, y_pred))"
   ]
  },
  {
   "cell_type": "markdown",
   "id": "7adb2a72",
   "metadata": {},
   "source": [
    "# Decision Tree on Grayscale"
   ]
  },
  {
   "cell_type": "code",
   "execution_count": 66,
   "id": "8e38f8b5",
   "metadata": {},
   "outputs": [
    {
     "data": {
      "text/plain": [
       "0.33771929824561403"
      ]
     },
     "execution_count": 66,
     "metadata": {},
     "output_type": "execute_result"
    }
   ],
   "source": [
    "classifier_tree.fit(Ftrain, Ltrain)\n",
    "classifier_tree.score(Ftest,Ltest)"
   ]
  },
  {
   "cell_type": "code",
   "execution_count": 67,
   "id": "838a0a4d",
   "metadata": {},
   "outputs": [
    {
     "name": "stdout",
     "output_type": "stream",
     "text": [
      "                               precision    recall  f1-score   support\n",
      "\n",
      "               bacterial_spot       0.45      0.48      0.47       124\n",
      "                 early_blight       0.22      0.21      0.21       114\n",
      "                      healthy       0.69      0.57      0.62       131\n",
      "                  late_blight       0.33      0.34      0.34       124\n",
      "                    leaf_mold       0.36      0.40      0.38       117\n",
      "           septoria_leaf_spot       0.35      0.39      0.37       114\n",
      "                  target_spot       0.31      0.32      0.31       111\n",
      "          tomato_mosaic_virus       0.21      0.23      0.22        60\n",
      "tomato_yellow_leaf_curl_virus       0.30      0.27      0.29       121\n",
      "      two-spotted_spider_mite       0.35      0.31      0.33       124\n",
      "\n",
      "                     accuracy                           0.36      1140\n",
      "                    macro avg       0.36      0.35      0.35      1140\n",
      "                 weighted avg       0.37      0.36      0.36      1140\n",
      "\n",
      "[[60 11  4 10  6  4  7  1 15  6]\n",
      " [15 24  3 12 14  6 15  0 10 15]\n",
      " [ 4  5 75  9  3  9  6 10  5  5]\n",
      " [ 9 10  5 42  7 20  7 10 11  3]\n",
      " [ 5 12  1  8 47 13  3  5 10 13]\n",
      " [ 4  6  4 17 13 44 10  5  7  4]\n",
      " [ 7 10  5  7 11 11 36  5  5 14]\n",
      " [ 7  0  5  3 10  7  4 14  4  6]\n",
      " [18 16  4 12 10  7  9  6 33  6]\n",
      " [ 3 16  3  6 11  5 21 11  9 39]]\n"
     ]
    }
   ],
   "source": [
    "y_predict = classifier_tree.fit(Ftrain, Ltrain).predict(Ftest)\n",
    "class_names = target.unique()\n",
    "print(classification_report(Ltest, y_predict, target_names=class_names))\n",
    "print(confusion_matrix(Ltest, y_predict))"
   ]
  },
  {
   "cell_type": "markdown",
   "id": "e42f549f",
   "metadata": {},
   "source": [
    "# KNN on Red channel data"
   ]
  },
  {
   "cell_type": "code",
   "execution_count": 68,
   "id": "cb75cbbd",
   "metadata": {},
   "outputs": [],
   "source": [
    "#reading numpy array data\n",
    "red_test = np.load('red_data.npy')\n",
    "#reading csv file\n",
    "red_df = pd.read_csv('red_data.csv')"
   ]
  },
  {
   "cell_type": "code",
   "execution_count": 69,
   "id": "7fda7839",
   "metadata": {},
   "outputs": [],
   "source": [
    "loaded = []\n",
    "for i in red_test:\n",
    "    k = []\n",
    "    k = np.asarray(i,dtype='uint8')\n",
    "    loaded.append(k)\n",
    "features = loaded\n",
    "target = red_df['disease']\n",
    "Ftrain,Ftest,Ltrain,Ltest=train_test_split(features,target, test_size=0.20, random_state=20)\n",
    "scaler = StandardScaler()\n",
    "Ftrain = scaler.fit_transform(Ftrain)\n",
    "Ftest = scaler.fit_transform(Ftest)"
   ]
  },
  {
   "cell_type": "code",
   "execution_count": 70,
   "id": "683839f2",
   "metadata": {},
   "outputs": [
    {
     "data": {
      "text/plain": [
       "0.43508771929824563"
      ]
     },
     "execution_count": 70,
     "metadata": {},
     "output_type": "execute_result"
    }
   ],
   "source": [
    "kmodel.fit(Ftrain,Ltrain)\n",
    "kmodel.score(Ftest,Ltest)"
   ]
  },
  {
   "cell_type": "code",
   "execution_count": 71,
   "id": "3f0b171c",
   "metadata": {},
   "outputs": [
    {
     "name": "stdout",
     "output_type": "stream",
     "text": [
      "                               precision    recall  f1-score   support\n",
      "\n",
      "               bacterial_spot       0.35      0.71      0.47       124\n",
      "                 early_blight       0.67      0.02      0.03       114\n",
      "                      healthy       0.39      0.81      0.53       131\n",
      "                  late_blight       0.37      0.23      0.29       124\n",
      "                    leaf_mold       0.51      0.47      0.49       117\n",
      "           septoria_leaf_spot       0.49      0.33      0.40       114\n",
      "                  target_spot       0.43      0.32      0.37       111\n",
      "          tomato_mosaic_virus       0.55      0.52      0.53        60\n",
      "tomato_yellow_leaf_curl_virus       0.45      0.21      0.28       121\n",
      "      two-spotted_spider_mite       0.55      0.69      0.61       124\n",
      "\n",
      "                     accuracy                           0.44      1140\n",
      "                    macro avg       0.48      0.43      0.40      1140\n",
      "                 weighted avg       0.47      0.44      0.40      1140\n",
      "\n",
      "[[ 88   0  17  10   3   3   0   0   3   0]\n",
      " [ 55   2   8   0  13   5  16   1   6   8]\n",
      " [  6   0 106   6   2   6   0   2   3   0]\n",
      " [ 20   0  30  29  10  15   5   4   5   6]\n",
      " [  8   0  29   7  55   1   6   4   3   4]\n",
      " [  5   0  22  14   7  38   8   4   2  14]\n",
      " [ 28   0  21   2   1   3  36   1   3  16]\n",
      " [  2   0   9   2   6   1   0  31   2   7]\n",
      " [ 32   1  23   6  10   2   3   4  25  15]\n",
      " [  8   0   6   2   0   4   9   5   4  86]]\n"
     ]
    }
   ],
   "source": [
    "y_predict = kmodel.fit(Ftrain, Ltrain).predict(Ftest)\n",
    "class_names = target.unique()\n",
    "print(classification_report(Ltest, y_predict, target_names=class_names))\n",
    "print(confusion_matrix(Ltest, y_predict))"
   ]
  },
  {
   "cell_type": "markdown",
   "id": "ffcda594",
   "metadata": {},
   "source": [
    "# Logistic on Red channel data"
   ]
  },
  {
   "cell_type": "code",
   "execution_count": 72,
   "id": "1ed4037b",
   "metadata": {},
   "outputs": [
    {
     "data": {
      "text/plain": [
       "0.32894736842105265"
      ]
     },
     "execution_count": 72,
     "metadata": {},
     "output_type": "execute_result"
    }
   ],
   "source": [
    "model.fit(Ftrain,Ltrain)\n",
    "model.score(Ftest,Ltest)"
   ]
  },
  {
   "cell_type": "code",
   "execution_count": 73,
   "id": "19a4a62d",
   "metadata": {},
   "outputs": [
    {
     "name": "stdout",
     "output_type": "stream",
     "text": [
      "                               precision    recall  f1-score   support\n",
      "\n",
      "               bacterial_spot       0.52      0.46      0.49       124\n",
      "                 early_blight       0.25      0.29      0.27       114\n",
      "                      healthy       0.40      0.37      0.38       131\n",
      "                  late_blight       0.17      0.18      0.17       124\n",
      "                    leaf_mold       0.39      0.44      0.41       117\n",
      "           septoria_leaf_spot       0.26      0.25      0.25       114\n",
      "                  target_spot       0.28      0.27      0.27       111\n",
      "          tomato_mosaic_virus       0.25      0.20      0.22        60\n",
      "tomato_yellow_leaf_curl_virus       0.31      0.27      0.29       121\n",
      "      two-spotted_spider_mite       0.43      0.49      0.46       124\n",
      "\n",
      "                     accuracy                           0.33      1140\n",
      "                    macro avg       0.32      0.32      0.32      1140\n",
      "                 weighted avg       0.33      0.33      0.33      1140\n",
      "\n",
      "[[57 22  8 11  4  4  8  1  5  4]\n",
      " [15 33  4 11 11  2 16  1 12  9]\n",
      " [ 4  2 48 29  9 15 10  0  9  5]\n",
      " [ 6 16 14 22 17 23  6  5  8  7]\n",
      " [ 4 12 14 11 51 10  2  2  5  6]\n",
      " [ 3  5 15 22  9 28 11  7  2 12]\n",
      " [ 6 20  6  4  5  5 30  3 13 19]\n",
      " [ 3  3  2  4 10  8  0 12 11  7]\n",
      " [ 7 13  4 13 13  5  7 15 33 11]\n",
      " [ 4  8  5  5  2  9 18  2 10 61]]\n"
     ]
    }
   ],
   "source": [
    "y_predict = model.fit(Ftrain, Ltrain).predict(Ftest)\n",
    "class_names = target.unique()\n",
    "print(classification_report(Ltest, y_predict, target_names=class_names))\n",
    "print(confusion_matrix(Ltest, y_predict))"
   ]
  },
  {
   "cell_type": "markdown",
   "id": "dba6d5ce",
   "metadata": {},
   "source": [
    "# SVM(linear) on Red channel data"
   ]
  },
  {
   "cell_type": "code",
   "execution_count": 74,
   "id": "6ed153f7",
   "metadata": {},
   "outputs": [
    {
     "name": "stdout",
     "output_type": "stream",
     "text": [
      "0.37719298245614036\n"
     ]
    }
   ],
   "source": [
    "clf.fit(Ftrain,Ltrain)\n",
    "y_pred = clf.predict(Ftest)\n",
    "print(accuracy_score(Ltest,y_pred))"
   ]
  },
  {
   "cell_type": "code",
   "execution_count": 75,
   "id": "cb2cb836",
   "metadata": {},
   "outputs": [
    {
     "name": "stdout",
     "output_type": "stream",
     "text": [
      "                               precision    recall  f1-score   support\n",
      "\n",
      "               bacterial_spot       0.36      0.48      0.41       124\n",
      "                 early_blight       0.26      0.33      0.29       114\n",
      "                      healthy       0.51      0.49      0.50       131\n",
      "                  late_blight       0.25      0.25      0.25       124\n",
      "                    leaf_mold       0.46      0.44      0.45       117\n",
      "           septoria_leaf_spot       0.28      0.27      0.27       114\n",
      "                  target_spot       0.28      0.26      0.27       111\n",
      "          tomato_mosaic_virus       0.43      0.33      0.37        60\n",
      "tomato_yellow_leaf_curl_virus       0.40      0.31      0.35       121\n",
      "      two-spotted_spider_mite       0.59      0.56      0.57       124\n",
      "\n",
      "                     accuracy                           0.38      1140\n",
      "                    macro avg       0.38      0.37      0.37      1140\n",
      "                 weighted avg       0.38      0.38      0.38      1140\n",
      "\n",
      "[[59 27  9  5  4  8  6  1  3  2]\n",
      " [23 38  3  6 10  5 18  2  5  4]\n",
      " [11  6 64 18  7  8  4  0 11  2]\n",
      " [16 14 18 31  8 17  9  4  6  1]\n",
      " [10  6  9 18 51 11  4  0  4  4]\n",
      " [ 4  9  8 24  8 31 13  7  3  7]\n",
      " [19 22  5  3  3  9 29  0  8 13]\n",
      " [ 4  2  1  1  6  8  1 20 11  6]\n",
      " [11 12  6 13 11  7  6  9 38  8]\n",
      " [ 5 11  3  3  2  8 14  4  5 69]]\n"
     ]
    }
   ],
   "source": [
    "y_predict = clf.fit(Ftrain, Ltrain).predict(Ftest)\n",
    "class_names = target.unique()\n",
    "print(classification_report(Ltest, y_predict, target_names=class_names))\n",
    "print(confusion_matrix(Ltest, y_predict))"
   ]
  },
  {
   "cell_type": "markdown",
   "id": "c77b6aed",
   "metadata": {},
   "source": [
    "# SVM(poly) on Red data"
   ]
  },
  {
   "cell_type": "code",
   "execution_count": 76,
   "id": "d066e758",
   "metadata": {},
   "outputs": [
    {
     "name": "stdout",
     "output_type": "stream",
     "text": [
      "0.5412280701754386\n"
     ]
    }
   ],
   "source": [
    "svm_poly.fit(Ftrain,Ltrain)\n",
    "y_pred = svm_poly.predict(Ftest)\n",
    "print(accuracy_score(Ltest,y_pred))"
   ]
  },
  {
   "cell_type": "code",
   "execution_count": 77,
   "id": "cea5d091",
   "metadata": {},
   "outputs": [
    {
     "name": "stdout",
     "output_type": "stream",
     "text": [
      "                               precision    recall  f1-score   support\n",
      "\n",
      "               bacterial_spot       0.57      0.59      0.58       124\n",
      "                 early_blight       0.49      0.17      0.25       114\n",
      "                      healthy       0.47      0.96      0.63       131\n",
      "                  late_blight       0.63      0.31      0.42       124\n",
      "                    leaf_mold       0.68      0.59      0.63       117\n",
      "           septoria_leaf_spot       0.64      0.48      0.55       114\n",
      "                  target_spot       0.45      0.70      0.55       111\n",
      "          tomato_mosaic_virus       0.62      0.13      0.22        60\n",
      "tomato_yellow_leaf_curl_virus       0.46      0.59      0.52       121\n",
      "      two-spotted_spider_mite       0.70      0.64      0.67       124\n",
      "\n",
      "                     accuracy                           0.54      1140\n",
      "                    macro avg       0.57      0.52      0.50      1140\n",
      "                 weighted avg       0.57      0.54      0.52      1140\n",
      "\n",
      "[[ 73   4  19   7   1   3   4   0  13   0]\n",
      " [ 28  19   7   3   7   1  29   0  13   7]\n",
      " [  1   0 126   1   1   0   0   0   2   0]\n",
      " [  8  10  22  39   6  19   9   0  10   1]\n",
      " [  0   2  28   2  69   0   7   0   7   2]\n",
      " [  5   1  16   7   6  55  11   2   8   3]\n",
      " [  5   1  10   0   0   1  78   0   7   9]\n",
      " [  0   0  13   0   8   5   5   8  15   6]\n",
      " [  7   2  17   3   3   2   7   3  71   6]\n",
      " [  0   0  12   0   0   0  25   0   8  79]]\n"
     ]
    }
   ],
   "source": [
    "#classification report\n",
    "y_predict = svm_poly.fit(Ftrain, Ltrain).predict(Ftest)\n",
    "class_names = target.unique()\n",
    "print(classification_report(Ltest, y_predict, target_names=class_names))\n",
    "print(confusion_matrix(Ltest, y_predict))"
   ]
  },
  {
   "cell_type": "markdown",
   "id": "b1c7cc1d",
   "metadata": {},
   "source": [
    "# SVM(RBF) on Red data"
   ]
  },
  {
   "cell_type": "code",
   "execution_count": 78,
   "id": "d98d25ad",
   "metadata": {},
   "outputs": [
    {
     "name": "stdout",
     "output_type": "stream",
     "text": [
      "0.6464912280701754\n"
     ]
    }
   ],
   "source": [
    "svm_rbf.fit(Ftrain,Ltrain)\n",
    "y_pred = svm_rbf.predict(Ftest)\n",
    "print(accuracy_score(Ltest,y_pred))"
   ]
  },
  {
   "cell_type": "code",
   "execution_count": 79,
   "id": "e25383e4",
   "metadata": {},
   "outputs": [
    {
     "name": "stdout",
     "output_type": "stream",
     "text": [
      "                               precision    recall  f1-score   support\n",
      "\n",
      "               bacterial_spot       0.71      0.66      0.68       124\n",
      "                 early_blight       0.47      0.46      0.46       114\n",
      "                      healthy       0.75      0.89      0.82       131\n",
      "                  late_blight       0.59      0.57      0.58       124\n",
      "                    leaf_mold       0.70      0.66      0.68       117\n",
      "           septoria_leaf_spot       0.55      0.54      0.54       114\n",
      "                  target_spot       0.60      0.68      0.64       111\n",
      "          tomato_mosaic_virus       0.64      0.58      0.61        60\n",
      "tomato_yellow_leaf_curl_virus       0.69      0.58      0.63       121\n",
      "      two-spotted_spider_mite       0.71      0.77      0.74       124\n",
      "\n",
      "                     accuracy                           0.65      1140\n",
      "                    macro avg       0.64      0.64      0.64      1140\n",
      "                 weighted avg       0.64      0.65      0.64      1140\n",
      "\n",
      "[[ 82   8   7   9   2   6   3   0   7   0]\n",
      " [ 17  52   1  11   7   5  12   0   3   6]\n",
      " [  0   2 117   3   2   1   1   1   3   1]\n",
      " [  1  22   5  71   2  15   4   3   1   0]\n",
      " [  1   7   5  11  77   6   5   2   1   2]\n",
      " [  1   4   8  11   9  61   7   6   4   3]\n",
      " [  5   7   3   0   0   2  76   0   4  14]\n",
      " [  2   1   1   0   6   5   0  35   5   5]\n",
      " [  7   7   6   5   5   5   4   4  70   8]\n",
      " [  0   1   2   0   0   4  14   4   3  96]]\n"
     ]
    }
   ],
   "source": [
    "#classification report\n",
    "y_predict = svm_rbf.fit(Ftrain, Ltrain).predict(Ftest)\n",
    "class_names = target.unique()\n",
    "print(classification_report(Ltest, y_predict, target_names=class_names))\n",
    "print(confusion_matrix(Ltest, y_predict))"
   ]
  },
  {
   "cell_type": "markdown",
   "id": "8232431f",
   "metadata": {},
   "source": [
    "# SVM(sigmoid) on Red data"
   ]
  },
  {
   "cell_type": "code",
   "execution_count": 80,
   "id": "2332bd9a",
   "metadata": {},
   "outputs": [
    {
     "name": "stdout",
     "output_type": "stream",
     "text": [
      "0.30701754385964913\n"
     ]
    }
   ],
   "source": [
    "svm_si.fit(Ftrain,Ltrain)\n",
    "y_pred = svm_si.predict(Ftest)\n",
    "print(accuracy_score(Ltest,y_pred))"
   ]
  },
  {
   "cell_type": "code",
   "execution_count": 81,
   "id": "ca6e2c45",
   "metadata": {},
   "outputs": [
    {
     "name": "stdout",
     "output_type": "stream",
     "text": [
      "                               precision    recall  f1-score   support\n",
      "\n",
      "               bacterial_spot       0.38      0.42      0.40       124\n",
      "                 early_blight       0.14      0.11      0.13       114\n",
      "                      healthy       0.51      0.38      0.44       131\n",
      "                  late_blight       0.19      0.20      0.20       124\n",
      "                    leaf_mold       0.29      0.32      0.30       117\n",
      "           septoria_leaf_spot       0.19      0.45      0.26       114\n",
      "                  target_spot       0.37      0.31      0.33       111\n",
      "          tomato_mosaic_virus       0.33      0.10      0.15        60\n",
      "tomato_yellow_leaf_curl_virus       0.39      0.26      0.31       121\n",
      "      two-spotted_spider_mite       0.54      0.41      0.47       124\n",
      "\n",
      "                     accuracy                           0.31      1140\n",
      "                    macro avg       0.33      0.30      0.30      1140\n",
      "                 weighted avg       0.34      0.31      0.31      1140\n",
      "\n",
      "[[52 25  7 17  9  5  4  0  3  2]\n",
      " [32 13  1 10 12 19 18  0  5  4]\n",
      " [ 7  0 50 41  9 15  3  0  5  1]\n",
      " [ 8 11 16 25 17 35  7  0  4  1]\n",
      " [13  6  6 10 37 32  6  0  6  1]\n",
      " [ 2  3  9 14 20 51  4  2  3  6]\n",
      " [10 14  5  2  0 28 34  0  5 13]\n",
      " [ 2  1  0  1  7 24  0  6 13  6]\n",
      " [12 10  3  9 16 18  4  8 31 10]\n",
      " [ 0  7  1  0  1 44 13  2  5 51]]\n"
     ]
    }
   ],
   "source": [
    "#classification report\n",
    "y_predict = svm_si.fit(Ftrain, Ltrain).predict(Ftest)\n",
    "class_names = target.unique()\n",
    "print(classification_report(Ltest, y_predict, target_names=class_names))\n",
    "print(confusion_matrix(Ltest, y_predict))"
   ]
  },
  {
   "cell_type": "markdown",
   "id": "a670c4d4",
   "metadata": {},
   "source": [
    "# Random forest on Red channel data"
   ]
  },
  {
   "cell_type": "code",
   "execution_count": 82,
   "id": "9e816e9e",
   "metadata": {},
   "outputs": [
    {
     "data": {
      "text/plain": [
       "0.4674270673393288"
      ]
     },
     "execution_count": 82,
     "metadata": {},
     "output_type": "execute_result"
    }
   ],
   "source": [
    "classifier_rf.fit(Ftrain, Ltrain)\n",
    "classifier_rf.oob_score_"
   ]
  },
  {
   "cell_type": "code",
   "execution_count": 83,
   "id": "2c17baee",
   "metadata": {},
   "outputs": [
    {
     "name": "stdout",
     "output_type": "stream",
     "text": [
      "                               precision    recall  f1-score   support\n",
      "\n",
      "               bacterial_spot       0.48      0.59      0.53       124\n",
      "                 early_blight       0.37      0.12      0.18       114\n",
      "                      healthy       0.49      0.87      0.63       131\n",
      "                  late_blight       0.45      0.24      0.31       124\n",
      "                    leaf_mold       0.54      0.57      0.56       117\n",
      "           septoria_leaf_spot       0.53      0.46      0.49       114\n",
      "                  target_spot       0.45      0.71      0.55       111\n",
      "          tomato_mosaic_virus       0.00      0.00      0.00        60\n",
      "tomato_yellow_leaf_curl_virus       0.40      0.31      0.35       121\n",
      "      two-spotted_spider_mite       0.50      0.64      0.56       124\n",
      "\n",
      "                     accuracy                           0.48      1140\n",
      "                    macro avg       0.42      0.45      0.42      1140\n",
      "                 weighted avg       0.44      0.48      0.44      1140\n",
      "\n",
      "[[ 73   8  20   8   1   1   6   0   6   1]\n",
      " [ 36  14   3   0  11  11  24   0   7   8]\n",
      " [  0   0 114   6   4   0   5   0   2   0]\n",
      " [  7   7  26  30  12  21  10   0   5   6]\n",
      " [  5   1  17   6  67   2   7   0   4   8]\n",
      " [  2   0  15   9   8  52  10   0   4  14]\n",
      " [  7   2   4   0   0   4  79   0   4  11]\n",
      " [  1   0  10   0   8   3   5   0  17  16]\n",
      " [ 20   5  17   8  13   4   1   0  38  15]\n",
      " [  1   1   5   0   0   1  28   0   9  79]]\n"
     ]
    },
    {
     "name": "stderr",
     "output_type": "stream",
     "text": [
      "C:\\Users\\ravic\\anaconda3\\lib\\site-packages\\sklearn\\metrics\\_classification.py:1248: UndefinedMetricWarning: Precision and F-score are ill-defined and being set to 0.0 in labels with no predicted samples. Use `zero_division` parameter to control this behavior.\n",
      "  _warn_prf(average, modifier, msg_start, len(result))\n",
      "C:\\Users\\ravic\\anaconda3\\lib\\site-packages\\sklearn\\metrics\\_classification.py:1248: UndefinedMetricWarning: Precision and F-score are ill-defined and being set to 0.0 in labels with no predicted samples. Use `zero_division` parameter to control this behavior.\n",
      "  _warn_prf(average, modifier, msg_start, len(result))\n",
      "C:\\Users\\ravic\\anaconda3\\lib\\site-packages\\sklearn\\metrics\\_classification.py:1248: UndefinedMetricWarning: Precision and F-score are ill-defined and being set to 0.0 in labels with no predicted samples. Use `zero_division` parameter to control this behavior.\n",
      "  _warn_prf(average, modifier, msg_start, len(result))\n"
     ]
    }
   ],
   "source": [
    "y_predict = classifier_rf.fit(Ftrain, Ltrain).predict(Ftest)\n",
    "class_names = target.unique()\n",
    "print(classification_report(Ltest, y_predict, target_names=class_names))\n",
    "print(confusion_matrix(Ltest, y_predict))"
   ]
  },
  {
   "cell_type": "markdown",
   "id": "e1c2d95a",
   "metadata": {},
   "source": [
    "# Gaussian Naive Bayes on Red channel data"
   ]
  },
  {
   "cell_type": "code",
   "execution_count": 84,
   "id": "8ec0753c",
   "metadata": {},
   "outputs": [
    {
     "data": {
      "text/plain": [
       "GaussianNB()"
      ]
     },
     "execution_count": 84,
     "metadata": {},
     "output_type": "execute_result"
    }
   ],
   "source": [
    "gnb.fit(Ftrain, Ltrain)"
   ]
  },
  {
   "cell_type": "code",
   "execution_count": 85,
   "id": "9bd3c55d",
   "metadata": {},
   "outputs": [
    {
     "data": {
      "text/plain": [
       "0.4412280701754386"
      ]
     },
     "execution_count": 85,
     "metadata": {},
     "output_type": "execute_result"
    }
   ],
   "source": [
    "y_pred = gnb.predict(Ftest)\n",
    "metrics.accuracy_score(Ltest, y_pred)"
   ]
  },
  {
   "cell_type": "code",
   "execution_count": 86,
   "id": "9ac4f5ac",
   "metadata": {},
   "outputs": [
    {
     "name": "stdout",
     "output_type": "stream",
     "text": [
      "                               precision    recall  f1-score   support\n",
      "\n",
      "               bacterial_spot       0.47      0.68      0.55       124\n",
      "                 early_blight       0.30      0.26      0.28       114\n",
      "                      healthy       0.52      0.74      0.61       131\n",
      "                  late_blight       0.38      0.24      0.30       124\n",
      "                    leaf_mold       0.59      0.38      0.46       117\n",
      "           septoria_leaf_spot       0.38      0.45      0.41       114\n",
      "                  target_spot       0.54      0.44      0.49       111\n",
      "          tomato_mosaic_virus       0.40      0.58      0.47        60\n",
      "tomato_yellow_leaf_curl_virus       0.31      0.12      0.18       121\n",
      "      two-spotted_spider_mite       0.42      0.55      0.48       124\n",
      "\n",
      "                     accuracy                           0.44      1140\n",
      "                    macro avg       0.43      0.44      0.42      1140\n",
      "                 weighted avg       0.43      0.44      0.42      1140\n",
      "\n",
      "[[84  6 17  5  0  2  3  3  4  0]\n",
      " [32 30  0 18  9  7 11  0  1  6]\n",
      " [ 5  0 97  2  8  4  1  3 10  1]\n",
      " [ 2 25 35 30  3 18  3  2  2  4]\n",
      " [ 6  5  5  7 44 23  4  7  4 12]\n",
      " [ 3  4 14  6  3 51  7  4  6 16]\n",
      " [ 9 14  0  4  1  6 49  2  1 25]\n",
      " [ 5  0  3  0  2  3  0 35  2 10]\n",
      " [33 10 14  7  3  8  1 12 15 18]\n",
      " [ 1  5  1  0  1 13 11 20  4 68]]\n"
     ]
    }
   ],
   "source": [
    "class_names = target.unique()\n",
    "print(classification_report(Ltest, y_pred, target_names=class_names))\n",
    "print(confusion_matrix(Ltest, y_pred))"
   ]
  },
  {
   "cell_type": "markdown",
   "id": "0ac88b2d",
   "metadata": {},
   "source": [
    "# Bernouli Naive bayes on Red data"
   ]
  },
  {
   "cell_type": "code",
   "execution_count": 87,
   "id": "5979c201",
   "metadata": {},
   "outputs": [
    {
     "data": {
      "text/plain": [
       "0.35526315789473684"
      ]
     },
     "execution_count": 87,
     "metadata": {},
     "output_type": "execute_result"
    }
   ],
   "source": [
    "bnb.fit(Ftrain, Ltrain)\n",
    "y_pred = bnb.predict(Ftest)\n",
    "metrics.accuracy_score(Ltest, y_pred)"
   ]
  },
  {
   "cell_type": "code",
   "execution_count": 88,
   "id": "662273ea",
   "metadata": {},
   "outputs": [
    {
     "name": "stdout",
     "output_type": "stream",
     "text": [
      "                               precision    recall  f1-score   support\n",
      "\n",
      "               bacterial_spot       0.38      0.69      0.49       124\n",
      "                 early_blight       0.19      0.11      0.13       114\n",
      "                      healthy       0.42      0.56      0.48       131\n",
      "                  late_blight       0.22      0.11      0.15       124\n",
      "                    leaf_mold       0.55      0.20      0.29       117\n",
      "           septoria_leaf_spot       0.28      0.48      0.35       114\n",
      "                  target_spot       0.42      0.37      0.39       111\n",
      "          tomato_mosaic_virus       0.33      0.33      0.33        60\n",
      "tomato_yellow_leaf_curl_virus       0.26      0.14      0.18       121\n",
      "      two-spotted_spider_mite       0.42      0.52      0.46       124\n",
      "\n",
      "                     accuracy                           0.36      1140\n",
      "                    macro avg       0.35      0.35      0.33      1140\n",
      "                 weighted avg       0.35      0.36      0.33      1140\n",
      "\n",
      "[[86  3 17  4  1  7  1  0  4  1]\n",
      " [50 12  3  3  4 14 16  3  4  5]\n",
      " [ 7  1 73 18  3 12  3  3  9  2]\n",
      " [18 14 36 14  2 26  9  0  4  1]\n",
      " [19  2  8  5 23 29  5  4  6 16]\n",
      " [ 1  5 18  6  1 55  6  1  3 18]\n",
      " [ 6 13  2  6  1 20 41  4  5 13]\n",
      " [ 4  0  1  0  3 10  0 20  9 13]\n",
      " [35  7 14  5  4  6  3 11 17 19]\n",
      " [ 0  7  0  3  0 17 14 15  4 64]]\n"
     ]
    }
   ],
   "source": [
    "class_names = target.unique()\n",
    "print(classification_report(Ltest, y_pred, target_names=class_names))\n",
    "print(confusion_matrix(Ltest, y_pred))"
   ]
  },
  {
   "cell_type": "markdown",
   "id": "0a606422",
   "metadata": {},
   "source": [
    "# Decision Tree on Red channel"
   ]
  },
  {
   "cell_type": "code",
   "execution_count": 89,
   "id": "2b6fe1e7",
   "metadata": {},
   "outputs": [
    {
     "data": {
      "text/plain": [
       "0.3587719298245614"
      ]
     },
     "execution_count": 89,
     "metadata": {},
     "output_type": "execute_result"
    }
   ],
   "source": [
    "classifier_tree.fit(Ftrain, Ltrain)\n",
    "classifier_tree.score(Ftest,Ltest)"
   ]
  },
  {
   "cell_type": "code",
   "execution_count": 90,
   "id": "7c5134cd",
   "metadata": {},
   "outputs": [
    {
     "name": "stdout",
     "output_type": "stream",
     "text": [
      "                               precision    recall  f1-score   support\n",
      "\n",
      "               bacterial_spot       0.38      0.34      0.36       124\n",
      "                 early_blight       0.23      0.26      0.25       114\n",
      "                      healthy       0.54      0.55      0.55       131\n",
      "                  late_blight       0.35      0.28      0.31       124\n",
      "                    leaf_mold       0.40      0.41      0.41       117\n",
      "           septoria_leaf_spot       0.33      0.35      0.34       114\n",
      "                  target_spot       0.29      0.32      0.31       111\n",
      "          tomato_mosaic_virus       0.20      0.15      0.17        60\n",
      "tomato_yellow_leaf_curl_virus       0.36      0.36      0.36       121\n",
      "      two-spotted_spider_mite       0.44      0.48      0.46       124\n",
      "\n",
      "                     accuracy                           0.36      1140\n",
      "                    macro avg       0.35      0.35      0.35      1140\n",
      "                 weighted avg       0.36      0.36      0.36      1140\n",
      "\n",
      "[[42 21  9  9  8  9  6  1 13  6]\n",
      " [16 30  4 13  7  7 14  1  6 16]\n",
      " [ 6  4 72  8  6  6  9  7  9  4]\n",
      " [ 9 14  5 35 13 21 12  2  9  4]\n",
      " [ 6 14 11  4 48 10  8  2  6  8]\n",
      " [ 3 11 12 12  8 40 12  2  8  6]\n",
      " [ 7 13  9  5  4  7 36  5  7 18]\n",
      " [ 1  2  2  2 13  7  5  9 11  8]\n",
      " [15 12  6 11  7  8  6  7 44  5]\n",
      " [ 5  7  3  1  5  8 17 10  8 60]]\n"
     ]
    }
   ],
   "source": [
    "y_predict = classifier_tree.fit(Ftrain, Ltrain).predict(Ftest)\n",
    "class_names = target.unique()\n",
    "print(classification_report(Ltest, y_predict, target_names=class_names))\n",
    "print(confusion_matrix(Ltest, y_predict))"
   ]
  },
  {
   "cell_type": "markdown",
   "id": "21af7568",
   "metadata": {},
   "source": [
    "# KNN on green channel data"
   ]
  },
  {
   "cell_type": "code",
   "execution_count": 91,
   "id": "461b784b",
   "metadata": {},
   "outputs": [
    {
     "data": {
      "text/plain": [
       "0.3570175438596491"
      ]
     },
     "execution_count": 91,
     "metadata": {},
     "output_type": "execute_result"
    }
   ],
   "source": [
    "#reading numpy array data\n",
    "green_test = np.load('green_data.npy')\n",
    "#reading csv file\n",
    "green_df = pd.read_csv('green_data.csv')\n",
    "loaded = []\n",
    "for i in green_test:\n",
    "    k = []\n",
    "    k = np.asarray(i,dtype='uint8')\n",
    "    loaded.append(k)\n",
    "features = loaded\n",
    "target = green_df['disease']\n",
    "Ftrain,Ftest,Ltrain,Ltest=train_test_split(features,target, test_size=0.20, random_state=20)\n",
    "scaler = StandardScaler()\n",
    "Ftrain = scaler.fit_transform(Ftrain)\n",
    "Ftest = scaler.fit_transform(Ftest)\n",
    "kmodel.fit(Ftrain,Ltrain)\n",
    "kmodel.score(Ftest,Ltest)"
   ]
  },
  {
   "cell_type": "code",
   "execution_count": 92,
   "id": "5a26601b",
   "metadata": {},
   "outputs": [
    {
     "name": "stdout",
     "output_type": "stream",
     "text": [
      "                               precision    recall  f1-score   support\n",
      "\n",
      "               bacterial_spot       0.25      0.75      0.38       124\n",
      "                 early_blight       0.00      0.00      0.00       114\n",
      "                      healthy       0.37      0.64      0.47       131\n",
      "                  late_blight       0.28      0.19      0.22       124\n",
      "                    leaf_mold       0.41      0.51      0.46       117\n",
      "           septoria_leaf_spot       0.47      0.39      0.43       114\n",
      "                  target_spot       0.47      0.19      0.27       111\n",
      "          tomato_mosaic_virus       0.25      0.12      0.16        60\n",
      "tomato_yellow_leaf_curl_virus       0.66      0.16      0.25       121\n",
      "      two-spotted_spider_mite       0.48      0.44      0.46       124\n",
      "\n",
      "                     accuracy                           0.36      1140\n",
      "                    macro avg       0.36      0.34      0.31      1140\n",
      "                 weighted avg       0.37      0.36      0.32      1140\n",
      "\n",
      "[[93  0 14  6  4  1  0  1  3  2]\n",
      " [72  0  6  1 11  2  8  2  3  9]\n",
      " [18  1 84 11 11  2  0  3  1  0]\n",
      " [26  0 32 23 12 17  2  3  1  8]\n",
      " [14  0 23  7 60  2  1  5  0  5]\n",
      " [ 8  0 29  9 11 45  4  3  0  5]\n",
      " [50  0  8  6  2  8 21  2  0 14]\n",
      " [ 4  0 11  6 16  7  0  7  0  9]\n",
      " [44  0 18  9 12  6  3  2 19  8]\n",
      " [40  0  4  5  7  5  6  0  2 55]]\n"
     ]
    }
   ],
   "source": [
    "y_predict = kmodel.fit(Ftrain, Ltrain).predict(Ftest)\n",
    "class_names = target.unique()\n",
    "print(classification_report(Ltest, y_predict, target_names=class_names))\n",
    "print(confusion_matrix(Ltest, y_predict))"
   ]
  },
  {
   "cell_type": "markdown",
   "id": "71f3ea86",
   "metadata": {},
   "source": [
    "# Logistic on Green channel data"
   ]
  },
  {
   "cell_type": "code",
   "execution_count": 93,
   "id": "28dad6b2",
   "metadata": {},
   "outputs": [
    {
     "data": {
      "text/plain": [
       "0.32456140350877194"
      ]
     },
     "execution_count": 93,
     "metadata": {},
     "output_type": "execute_result"
    }
   ],
   "source": [
    "model.fit(Ftrain,Ltrain)\n",
    "model.score(Ftest,Ltest)"
   ]
  },
  {
   "cell_type": "code",
   "execution_count": 94,
   "id": "fb6982d8",
   "metadata": {},
   "outputs": [
    {
     "name": "stdout",
     "output_type": "stream",
     "text": [
      "                               precision    recall  f1-score   support\n",
      "\n",
      "               bacterial_spot       0.45      0.40      0.42       124\n",
      "                 early_blight       0.29      0.32      0.31       114\n",
      "                      healthy       0.44      0.41      0.43       131\n",
      "                  late_blight       0.20      0.24      0.22       124\n",
      "                    leaf_mold       0.41      0.44      0.43       117\n",
      "           septoria_leaf_spot       0.28      0.28      0.28       114\n",
      "                  target_spot       0.18      0.17      0.18       111\n",
      "          tomato_mosaic_virus       0.23      0.17      0.19        60\n",
      "tomato_yellow_leaf_curl_virus       0.32      0.29      0.30       121\n",
      "      two-spotted_spider_mite       0.39      0.41      0.40       124\n",
      "\n",
      "                     accuracy                           0.32      1140\n",
      "                    macro avg       0.32      0.31      0.32      1140\n",
      "                 weighted avg       0.33      0.32      0.32      1140\n",
      "\n",
      "[[50 20  4 10  8  7 12  1  7  5]\n",
      " [15 37  6 13  7  3 16  0  7 10]\n",
      " [ 5  3 54 20  4 17 12  0 11  5]\n",
      " [ 6 16 11 30 19 17  6  5  5  9]\n",
      " [ 5 12 10 15 52  9  3  2  4  5]\n",
      " [ 3  6 16 22  9 32  8  2  7  9]\n",
      " [11 17  8 10  6  4 19  2 14 20]\n",
      " [ 4  1  3  7  9 10  2 10 10  4]\n",
      " [ 9 10  5 12  9  7  7 15 35 12]\n",
      " [ 4  6  6 10  4  7 20  6 10 51]]\n"
     ]
    }
   ],
   "source": [
    "y_predict = model.fit(Ftrain, Ltrain).predict(Ftest)\n",
    "class_names = target.unique()\n",
    "print(classification_report(Ltest, y_predict, target_names=class_names))\n",
    "print(confusion_matrix(Ltest, y_predict))"
   ]
  },
  {
   "cell_type": "markdown",
   "id": "f62f0223",
   "metadata": {},
   "source": [
    "# SVM(linear) on green channel data"
   ]
  },
  {
   "cell_type": "code",
   "execution_count": 95,
   "id": "e89e7297",
   "metadata": {},
   "outputs": [
    {
     "name": "stdout",
     "output_type": "stream",
     "text": [
      "0.3675438596491228\n"
     ]
    }
   ],
   "source": [
    "clf.fit(Ftrain,Ltrain)\n",
    "y_pred = clf.predict(Ftest)\n",
    "print(accuracy_score(Ltest,y_pred))"
   ]
  },
  {
   "cell_type": "code",
   "execution_count": 96,
   "id": "356165a0",
   "metadata": {},
   "outputs": [
    {
     "name": "stdout",
     "output_type": "stream",
     "text": [
      "                               precision    recall  f1-score   support\n",
      "\n",
      "               bacterial_spot       0.35      0.48      0.40       124\n",
      "                 early_blight       0.27      0.34      0.30       114\n",
      "                      healthy       0.52      0.53      0.52       131\n",
      "                  late_blight       0.25      0.26      0.25       124\n",
      "                    leaf_mold       0.42      0.43      0.43       117\n",
      "           septoria_leaf_spot       0.32      0.31      0.31       114\n",
      "                  target_spot       0.23      0.22      0.22       111\n",
      "          tomato_mosaic_virus       0.39      0.27      0.32        60\n",
      "tomato_yellow_leaf_curl_virus       0.42      0.31      0.36       121\n",
      "      two-spotted_spider_mite       0.57      0.46      0.51       124\n",
      "\n",
      "                     accuracy                           0.37      1140\n",
      "                    macro avg       0.37      0.36      0.36      1140\n",
      "                 weighted avg       0.38      0.37      0.37      1140\n",
      "\n",
      "[[59 25  7  3  4  9  8  1  6  2]\n",
      " [26 39  2  7  4  3 20  1  5  7]\n",
      " [ 9  6 69 11  2 18  7  1  4  4]\n",
      " [17 20  9 32 14 14  9  3  3  3]\n",
      " [ 8  8 10 19 50  8  4  1  5  4]\n",
      " [ 8  5 12 20 13 35 11  2  6  2]\n",
      " [21 18  6  8  6  7 24  2  7 12]\n",
      " [ 4  1  4 10  3  9  0 16 10  3]\n",
      " [13 11  9 10 15  4  8  7 38  6]\n",
      " [ 6 11  4  8  7  4 13  7  7 57]]\n"
     ]
    }
   ],
   "source": [
    "y_predict = clf.fit(Ftrain, Ltrain).predict(Ftest)\n",
    "class_names = target.unique()\n",
    "print(classification_report(Ltest, y_predict, target_names=class_names))\n",
    "print(confusion_matrix(Ltest, y_predict))"
   ]
  },
  {
   "cell_type": "markdown",
   "id": "d64ddbd0",
   "metadata": {},
   "source": [
    "# SVM(poly) on Green data"
   ]
  },
  {
   "cell_type": "code",
   "execution_count": 97,
   "id": "fe7747a4",
   "metadata": {},
   "outputs": [
    {
     "name": "stdout",
     "output_type": "stream",
     "text": [
      "0.48157894736842105\n"
     ]
    }
   ],
   "source": [
    "svm_poly.fit(Ftrain,Ltrain)\n",
    "y_pred = svm_poly.predict(Ftest)\n",
    "print(accuracy_score(Ltest,y_pred))"
   ]
  },
  {
   "cell_type": "code",
   "execution_count": 98,
   "id": "c2c08920",
   "metadata": {},
   "outputs": [
    {
     "name": "stdout",
     "output_type": "stream",
     "text": [
      "                               precision    recall  f1-score   support\n",
      "\n",
      "               bacterial_spot       0.43      0.74      0.55       124\n",
      "                 early_blight       0.54      0.25      0.34       114\n",
      "                      healthy       0.49      0.73      0.59       131\n",
      "                  late_blight       0.62      0.13      0.21       124\n",
      "                    leaf_mold       0.34      0.74      0.46       117\n",
      "           septoria_leaf_spot       0.65      0.46      0.54       114\n",
      "                  target_spot       0.46      0.53      0.50       111\n",
      "          tomato_mosaic_virus       0.29      0.03      0.06        60\n",
      "tomato_yellow_leaf_curl_virus       0.57      0.39      0.46       121\n",
      "      two-spotted_spider_mite       0.69      0.56      0.62       124\n",
      "\n",
      "                     accuracy                           0.48      1140\n",
      "                    macro avg       0.51      0.46      0.43      1140\n",
      "                 weighted avg       0.52      0.48      0.45      1140\n",
      "\n",
      "[[92  3 11  2  4  5  2  0  4  1]\n",
      " [32 28  5  3  8  2 22  1  7  6]\n",
      " [ 8  0 96  0 21  0  4  0  2  0]\n",
      " [17 12 23 16 31 13  4  1  3  4]\n",
      " [ 6  1 10  1 86  1  6  1  3  2]\n",
      " [ 3  0 17  2 27 53 10  1  1  0]\n",
      " [22  2  7  0  8  0 59  0  5  8]\n",
      " [ 5  0  5  0 36  3  1  2  4  4]\n",
      " [16  5 13  2 20  4  7  1 47  6]\n",
      " [12  1  8  0 15  0 12  0  6 70]]\n"
     ]
    }
   ],
   "source": [
    "#classification report\n",
    "y_predict = svm_poly.fit(Ftrain, Ltrain).predict(Ftest)\n",
    "class_names = target.unique()\n",
    "print(classification_report(Ltest, y_predict, target_names=class_names))\n",
    "print(confusion_matrix(Ltest, y_predict))"
   ]
  },
  {
   "cell_type": "markdown",
   "id": "c497379e",
   "metadata": {},
   "source": [
    "# SVM(RBF) on green data"
   ]
  },
  {
   "cell_type": "code",
   "execution_count": 99,
   "id": "684010e1",
   "metadata": {},
   "outputs": [
    {
     "name": "stdout",
     "output_type": "stream",
     "text": [
      "0.6271929824561403\n"
     ]
    }
   ],
   "source": [
    "svm_rbf.fit(Ftrain,Ltrain)\n",
    "y_pred = svm_rbf.predict(Ftest)\n",
    "print(accuracy_score(Ltest,y_pred))"
   ]
  },
  {
   "cell_type": "code",
   "execution_count": 100,
   "id": "b4566ab3",
   "metadata": {},
   "outputs": [
    {
     "name": "stdout",
     "output_type": "stream",
     "text": [
      "                               precision    recall  f1-score   support\n",
      "\n",
      "               bacterial_spot       0.74      0.69      0.71       124\n",
      "                 early_blight       0.44      0.46      0.45       114\n",
      "                      healthy       0.69      0.83      0.76       131\n",
      "                  late_blight       0.63      0.56      0.59       124\n",
      "                    leaf_mold       0.66      0.63      0.65       117\n",
      "           septoria_leaf_spot       0.58      0.67      0.62       114\n",
      "                  target_spot       0.54      0.60      0.57       111\n",
      "          tomato_mosaic_virus       0.57      0.43      0.49        60\n",
      "tomato_yellow_leaf_curl_virus       0.65      0.56      0.60       121\n",
      "      two-spotted_spider_mite       0.73      0.72      0.72       124\n",
      "\n",
      "                     accuracy                           0.63      1140\n",
      "                    macro avg       0.62      0.61      0.62      1140\n",
      "                 weighted avg       0.63      0.63      0.63      1140\n",
      "\n",
      "[[ 85   5   6   2   2   7   2   1  10   4]\n",
      " [ 14  52   2  13   8   1  13   1   6   4]\n",
      " [  0   1 109   2   2   3   6   1   5   2]\n",
      " [  0  21   4  69   1  18   6   1   3   1]\n",
      " [  0   8   7   6  74   4   8   5   1   4]\n",
      " [  0   4   9   8  10  76   5   1   0   1]\n",
      " [  5  12   3   2   2   4  67   0   4  12]\n",
      " [  2   0   4   0   8  11   2  26   5   2]\n",
      " [  7  10   7   6   5   6   4   5  68   3]\n",
      " [  2   5   6   1   0   1  12   5   3  89]]\n"
     ]
    }
   ],
   "source": [
    "#classification report\n",
    "y_predict = svm_rbf.fit(Ftrain, Ltrain).predict(Ftest)\n",
    "class_names = target.unique()\n",
    "print(classification_report(Ltest, y_predict, target_names=class_names))\n",
    "print(confusion_matrix(Ltest, y_predict))"
   ]
  },
  {
   "cell_type": "markdown",
   "id": "3c889845",
   "metadata": {},
   "source": [
    "# SVM(sigmoid) on green data"
   ]
  },
  {
   "cell_type": "code",
   "execution_count": 101,
   "id": "68762982",
   "metadata": {},
   "outputs": [
    {
     "name": "stdout",
     "output_type": "stream",
     "text": [
      "0.28157894736842104\n"
     ]
    }
   ],
   "source": [
    "svm_si.fit(Ftrain,Ltrain)\n",
    "y_pred = svm_si.predict(Ftest)\n",
    "print(accuracy_score(Ltest,y_pred))"
   ]
  },
  {
   "cell_type": "code",
   "execution_count": 102,
   "id": "84c31d85",
   "metadata": {},
   "outputs": [
    {
     "name": "stdout",
     "output_type": "stream",
     "text": [
      "                               precision    recall  f1-score   support\n",
      "\n",
      "               bacterial_spot       0.36      0.41      0.38       124\n",
      "                 early_blight       0.17      0.17      0.17       114\n",
      "                      healthy       0.46      0.44      0.45       131\n",
      "                  late_blight       0.20      0.27      0.23       124\n",
      "                    leaf_mold       0.50      0.26      0.35       117\n",
      "           septoria_leaf_spot       0.17      0.39      0.24       114\n",
      "                  target_spot       0.20      0.21      0.20       111\n",
      "          tomato_mosaic_virus       0.33      0.03      0.06        60\n",
      "tomato_yellow_leaf_curl_virus       0.31      0.18      0.23       121\n",
      "      two-spotted_spider_mite       0.45      0.31      0.36       124\n",
      "\n",
      "                     accuracy                           0.28      1140\n",
      "                    macro avg       0.32      0.27      0.27      1140\n",
      "                 weighted avg       0.32      0.28      0.28      1140\n",
      "\n",
      "[[51 22 10 16  3 11  6  0  2  3]\n",
      " [31 19  1 13  0 13 22  0  4 11]\n",
      " [ 8  1 57 19  3 27  9  0  4  3]\n",
      " [13 13 12 34  8 24 14  0  3  3]\n",
      " [ 3 10  6 32 31 25  3  1  4  2]\n",
      " [ 1  5 18  8  6 44 25  0  5  2]\n",
      " [15 13  6  6  2 28 23  0  6 12]\n",
      " [ 5  0  1 14  5 17  1  2 11  4]\n",
      " [12 14 11 24  0 24  4  3 22  7]\n",
      " [ 3 12  3  8  4 39  8  0  9 38]]\n"
     ]
    }
   ],
   "source": [
    "#classification report\n",
    "y_predict = svm_si.fit(Ftrain, Ltrain).predict(Ftest)\n",
    "class_names = target.unique()\n",
    "print(classification_report(Ltest, y_predict, target_names=class_names))\n",
    "print(confusion_matrix(Ltest, y_predict))"
   ]
  },
  {
   "cell_type": "markdown",
   "id": "4f8e565e",
   "metadata": {},
   "source": [
    "# Random Forest on green channel data"
   ]
  },
  {
   "cell_type": "code",
   "execution_count": 103,
   "id": "96c92f8f",
   "metadata": {},
   "outputs": [
    {
     "data": {
      "text/plain": [
       "0.4338670761131827"
      ]
     },
     "execution_count": 103,
     "metadata": {},
     "output_type": "execute_result"
    }
   ],
   "source": [
    "classifier_rf.fit(Ftrain, Ltrain)\n",
    "classifier_rf.oob_score_"
   ]
  },
  {
   "cell_type": "code",
   "execution_count": 104,
   "id": "b158d3b7",
   "metadata": {},
   "outputs": [
    {
     "name": "stdout",
     "output_type": "stream",
     "text": [
      "                               precision    recall  f1-score   support\n",
      "\n",
      "               bacterial_spot       0.42      0.63      0.50       124\n",
      "                 early_blight       0.37      0.19      0.25       114\n",
      "                      healthy       0.43      0.70      0.54       131\n",
      "                  late_blight       0.44      0.27      0.34       124\n",
      "                    leaf_mold       0.47      0.51      0.49       117\n",
      "           septoria_leaf_spot       0.53      0.46      0.50       114\n",
      "                  target_spot       0.37      0.69      0.48       111\n",
      "          tomato_mosaic_virus       0.00      0.00      0.00        60\n",
      "tomato_yellow_leaf_curl_virus       0.61      0.33      0.43       121\n",
      "      two-spotted_spider_mite       0.52      0.44      0.47       124\n",
      "\n",
      "                     accuracy                           0.45      1140\n",
      "                    macro avg       0.42      0.42      0.40      1140\n",
      "                 weighted avg       0.44      0.45      0.42      1140\n",
      "\n",
      "[[78  3 20  3  6  0  8  0  3  3]\n",
      " [39 22  2  1  7 14 20  0  4  5]\n",
      " [ 1  0 92 14  5  0 13  0  3  3]\n",
      " [12 13 20 34 10 20  9  0  2  4]\n",
      " [ 8  4 16  3 60  3 18  0  2  3]\n",
      " [ 1  1 16 12 10 53 12  0  2  7]\n",
      " [10  2  6  0  1  4 77  0  2  9]\n",
      " [ 3  0 18  6 11  3  6  0  4  9]\n",
      " [23 10 13  5 14  1  8  0 40  7]\n",
      " [10  5  9  0  4  2 36  0  4 54]]\n"
     ]
    },
    {
     "name": "stderr",
     "output_type": "stream",
     "text": [
      "C:\\Users\\ravic\\anaconda3\\lib\\site-packages\\sklearn\\metrics\\_classification.py:1248: UndefinedMetricWarning: Precision and F-score are ill-defined and being set to 0.0 in labels with no predicted samples. Use `zero_division` parameter to control this behavior.\n",
      "  _warn_prf(average, modifier, msg_start, len(result))\n",
      "C:\\Users\\ravic\\anaconda3\\lib\\site-packages\\sklearn\\metrics\\_classification.py:1248: UndefinedMetricWarning: Precision and F-score are ill-defined and being set to 0.0 in labels with no predicted samples. Use `zero_division` parameter to control this behavior.\n",
      "  _warn_prf(average, modifier, msg_start, len(result))\n",
      "C:\\Users\\ravic\\anaconda3\\lib\\site-packages\\sklearn\\metrics\\_classification.py:1248: UndefinedMetricWarning: Precision and F-score are ill-defined and being set to 0.0 in labels with no predicted samples. Use `zero_division` parameter to control this behavior.\n",
      "  _warn_prf(average, modifier, msg_start, len(result))\n"
     ]
    }
   ],
   "source": [
    "y_predict = classifier_rf.fit(Ftrain, Ltrain).predict(Ftest)\n",
    "class_names = target.unique()\n",
    "print(classification_report(Ltest, y_predict, target_names=class_names))\n",
    "print(confusion_matrix(Ltest, y_predict))"
   ]
  },
  {
   "cell_type": "markdown",
   "id": "e9b1cca9",
   "metadata": {},
   "source": [
    "# Gaussian Naive bayes on Green channel data"
   ]
  },
  {
   "cell_type": "code",
   "execution_count": 105,
   "id": "1136802c",
   "metadata": {},
   "outputs": [
    {
     "data": {
      "text/plain": [
       "0.3850877192982456"
      ]
     },
     "execution_count": 105,
     "metadata": {},
     "output_type": "execute_result"
    }
   ],
   "source": [
    "gnb.fit(Ftrain, Ltrain)\n",
    "y_pred = gnb.predict(Ftest)\n",
    "metrics.accuracy_score(Ltest, y_pred)"
   ]
  },
  {
   "cell_type": "code",
   "execution_count": 106,
   "id": "cb4c448e",
   "metadata": {},
   "outputs": [
    {
     "name": "stdout",
     "output_type": "stream",
     "text": [
      "                               precision    recall  f1-score   support\n",
      "\n",
      "               bacterial_spot       0.45      0.66      0.53       124\n",
      "                 early_blight       0.37      0.40      0.38       114\n",
      "                      healthy       0.42      0.63      0.51       131\n",
      "                  late_blight       0.32      0.19      0.24       124\n",
      "                    leaf_mold       0.56      0.23      0.33       117\n",
      "           septoria_leaf_spot       0.36      0.45      0.40       114\n",
      "                  target_spot       0.51      0.36      0.42       111\n",
      "          tomato_mosaic_virus       0.26      0.52      0.34        60\n",
      "tomato_yellow_leaf_curl_virus       0.19      0.08      0.11       121\n",
      "      two-spotted_spider_mite       0.38      0.36      0.37       124\n",
      "\n",
      "                     accuracy                           0.39      1140\n",
      "                    macro avg       0.38      0.39      0.36      1140\n",
      "                 weighted avg       0.39      0.39      0.37      1140\n",
      "\n",
      "[[82  7 16  1  0  2  1  8  6  1]\n",
      " [21 46  2 18  2  4  7  4  4  6]\n",
      " [ 7  3 83  3  6  1  6  8 12  2]\n",
      " [ 4 24 34 24  2 19  6  4  3  4]\n",
      " [12  4  9  9 27 23  3 19  4  7]\n",
      " [ 1  3 21  6  4 51  6  6  2 14]\n",
      " [11 17  3  7  4  7 40  1  2 19]\n",
      " [ 7  0  8  1  2  3  1 31  1  6]\n",
      " [29 11 14  4  0 20  2 16 10 15]\n",
      " [ 9 11  6  1  1 13  6 23  9 45]]\n"
     ]
    }
   ],
   "source": [
    "class_names = target.unique()\n",
    "print(classification_report(Ltest, y_pred, target_names=class_names))\n",
    "print(confusion_matrix(Ltest, y_pred))"
   ]
  },
  {
   "cell_type": "markdown",
   "id": "9fb12c0c",
   "metadata": {},
   "source": [
    "# Bernouli Naive bayes on green data"
   ]
  },
  {
   "cell_type": "code",
   "execution_count": 107,
   "id": "b1608412",
   "metadata": {},
   "outputs": [
    {
     "data": {
      "text/plain": [
       "0.32280701754385965"
      ]
     },
     "execution_count": 107,
     "metadata": {},
     "output_type": "execute_result"
    }
   ],
   "source": [
    "bnb.fit(Ftrain, Ltrain)\n",
    "y_pred = bnb.predict(Ftest)\n",
    "metrics.accuracy_score(Ltest, y_pred)"
   ]
  },
  {
   "cell_type": "code",
   "execution_count": 108,
   "id": "3540eeb4",
   "metadata": {},
   "outputs": [
    {
     "name": "stdout",
     "output_type": "stream",
     "text": [
      "                               precision    recall  f1-score   support\n",
      "\n",
      "               bacterial_spot       0.38      0.68      0.49       124\n",
      "                 early_blight       0.26      0.18      0.21       114\n",
      "                      healthy       0.39      0.53      0.45       131\n",
      "                  late_blight       0.19      0.09      0.12       124\n",
      "                    leaf_mold       0.59      0.22      0.32       117\n",
      "           septoria_leaf_spot       0.31      0.56      0.40       114\n",
      "                  target_spot       0.34      0.21      0.26       111\n",
      "          tomato_mosaic_virus       0.15      0.30      0.20        60\n",
      "tomato_yellow_leaf_curl_virus       0.05      0.02      0.03       121\n",
      "      two-spotted_spider_mite       0.45      0.40      0.42       124\n",
      "\n",
      "                     accuracy                           0.32      1140\n",
      "                    macro avg       0.31      0.32      0.29      1140\n",
      "                 weighted avg       0.32      0.32      0.30      1140\n",
      "\n",
      "[[84  6 12  5  1  8  1  3  3  1]\n",
      " [47 20  4  5  1 10 15  6  4  2]\n",
      " [ 3  1 70  9  3  8  5 18 13  1]\n",
      " [22  7 37 11  8 23  5  3  2  6]\n",
      " [14  6  9  7 26 26  8 14  3  4]\n",
      " [ 1  3 19  2  2 64  5  9  0  9]\n",
      " [ 8  9  2  6  0 17 23 18 13 15]\n",
      " [ 5  0  5  6  2 12  1 18  4  7]\n",
      " [26 14 16  4  1 23  2 18  3 14]\n",
      " [ 9 10  6  4  0 15  3 17 11 49]]\n"
     ]
    }
   ],
   "source": [
    "class_names = target.unique()\n",
    "print(classification_report(Ltest, y_pred, target_names=class_names))\n",
    "print(confusion_matrix(Ltest, y_pred))"
   ]
  },
  {
   "cell_type": "markdown",
   "id": "5e2c336a",
   "metadata": {},
   "source": [
    "# Decision Tree on Green channel"
   ]
  },
  {
   "cell_type": "code",
   "execution_count": 109,
   "id": "11e8600c",
   "metadata": {},
   "outputs": [
    {
     "data": {
      "text/plain": [
       "0.33596491228070174"
      ]
     },
     "execution_count": 109,
     "metadata": {},
     "output_type": "execute_result"
    }
   ],
   "source": [
    "classifier_tree.fit(Ftrain, Ltrain)\n",
    "classifier_tree.score(Ftest,Ltest)"
   ]
  },
  {
   "cell_type": "code",
   "execution_count": 110,
   "id": "ef10f4f8",
   "metadata": {},
   "outputs": [
    {
     "name": "stdout",
     "output_type": "stream",
     "text": [
      "                               precision    recall  f1-score   support\n",
      "\n",
      "               bacterial_spot       0.43      0.39      0.41       124\n",
      "                 early_blight       0.24      0.24      0.24       114\n",
      "                      healthy       0.52      0.51      0.52       131\n",
      "                  late_blight       0.38      0.31      0.34       124\n",
      "                    leaf_mold       0.33      0.38      0.36       117\n",
      "           septoria_leaf_spot       0.31      0.39      0.35       114\n",
      "                  target_spot       0.25      0.26      0.26       111\n",
      "          tomato_mosaic_virus       0.27      0.25      0.26        60\n",
      "tomato_yellow_leaf_curl_virus       0.27      0.27      0.27       121\n",
      "      two-spotted_spider_mite       0.39      0.36      0.38       124\n",
      "\n",
      "                     accuracy                           0.34      1140\n",
      "                    macro avg       0.34      0.34      0.34      1140\n",
      "                 weighted avg       0.35      0.34      0.34      1140\n",
      "\n",
      "[[48 15  4  6 11  8  5  5 17  5]\n",
      " [14 27  3  4  9 10 14  7 12 14]\n",
      " [ 8  2 67 10  3 12 11  2 11  5]\n",
      " [ 8  9  4 38 19 17 11  5  9  4]\n",
      " [ 5 10  7 11 45 13  4  6 10  6]\n",
      " [ 3  7  9 13 10 44 10  1 10  7]\n",
      " [11 14 13  4 11 10 29  3  6 10]\n",
      " [ 3  3  6  8  6  5  2 15  4  8]\n",
      " [ 8 14  9  3 15 17  7  4 33 11]\n",
      " [ 3 12  7  4  7  5 22  8 11 45]]\n"
     ]
    }
   ],
   "source": [
    "y_predict = classifier_tree.fit(Ftrain, Ltrain).predict(Ftest)\n",
    "class_names = target.unique()\n",
    "print(classification_report(Ltest, y_predict, target_names=class_names))\n",
    "print(confusion_matrix(Ltest, y_predict))"
   ]
  },
  {
   "cell_type": "markdown",
   "id": "75817642",
   "metadata": {},
   "source": [
    "# KNN on blue channel data"
   ]
  },
  {
   "cell_type": "code",
   "execution_count": 111,
   "id": "531e3624",
   "metadata": {},
   "outputs": [
    {
     "data": {
      "text/plain": [
       "0.38859649122807016"
      ]
     },
     "execution_count": 111,
     "metadata": {},
     "output_type": "execute_result"
    }
   ],
   "source": [
    "#reading numpy array data\n",
    "blue_test = np.load('blue_data.npy')\n",
    "#reading csv file\n",
    "blue_df = pd.read_csv('blue_data.csv')\n",
    "loaded = []\n",
    "for i in gray_test:\n",
    "    k = []\n",
    "    k = np.asarray(i,dtype='uint8')\n",
    "    loaded.append(k)\n",
    "features = loaded\n",
    "target = blue_df['disease']\n",
    "Ftrain,Ftest,Ltrain,Ltest=train_test_split(features,target, test_size=0.20, random_state=20)\n",
    "Ftrain = scaler.fit_transform(Ftrain)\n",
    "Ftest = scaler.fit_transform(Ftest)\n",
    "kmodel.fit(Ftrain,Ltrain)\n",
    "kmodel.score(Ftest,Ltest)"
   ]
  },
  {
   "cell_type": "code",
   "execution_count": 112,
   "id": "db90e093",
   "metadata": {},
   "outputs": [
    {
     "name": "stdout",
     "output_type": "stream",
     "text": [
      "                               precision    recall  f1-score   support\n",
      "\n",
      "               bacterial_spot       0.28      0.74      0.40       124\n",
      "                 early_blight       0.50      0.01      0.02       114\n",
      "                      healthy       0.38      0.71      0.50       131\n",
      "                  late_blight       0.31      0.23      0.26       124\n",
      "                    leaf_mold       0.50      0.49      0.49       117\n",
      "           septoria_leaf_spot       0.46      0.44      0.45       114\n",
      "                  target_spot       0.47      0.24      0.32       111\n",
      "          tomato_mosaic_virus       0.38      0.25      0.30        60\n",
      "tomato_yellow_leaf_curl_virus       0.44      0.12      0.19       121\n",
      "      two-spotted_spider_mite       0.55      0.52      0.53       124\n",
      "\n",
      "                     accuracy                           0.39      1140\n",
      "                    macro avg       0.43      0.38      0.35      1140\n",
      "                 weighted avg       0.43      0.39      0.35      1140\n",
      "\n",
      "[[92  0 13 10  2  2  0  0  4  1]\n",
      " [65  1  9  0 12  5  9  3  3  7]\n",
      " [14  0 93 10  2  7  0  2  2  1]\n",
      " [24  0 28 28 12 18  3  1  3  7]\n",
      " [12  0 24  7 57  4  2  5  2  4]\n",
      " [ 7  1 25  9  6 50  6  4  0  6]\n",
      " [41  0 12  6  0  6 27  2  2 15]\n",
      " [ 5  0 14  4  9  5  0 15  1  7]\n",
      " [41  0 20 11 15  3  4  6 15  6]\n",
      " [31  0  5  5  0  8  6  2  2 65]]\n"
     ]
    }
   ],
   "source": [
    "y_predict = kmodel.fit(Ftrain, Ltrain).predict(Ftest)\n",
    "class_names = target.unique()\n",
    "print(classification_report(Ltest, y_predict, target_names=class_names))\n",
    "print(confusion_matrix(Ltest, y_predict))"
   ]
  },
  {
   "cell_type": "markdown",
   "id": "f452a113",
   "metadata": {},
   "source": [
    "# logistic on blue channel data"
   ]
  },
  {
   "cell_type": "code",
   "execution_count": 113,
   "id": "de158586",
   "metadata": {},
   "outputs": [
    {
     "data": {
      "text/plain": [
       "0.3140350877192982"
      ]
     },
     "execution_count": 113,
     "metadata": {},
     "output_type": "execute_result"
    }
   ],
   "source": [
    "model.fit(Ftrain,Ltrain)\n",
    "model.score(Ftest,Ltest)"
   ]
  },
  {
   "cell_type": "code",
   "execution_count": 114,
   "id": "43a10821",
   "metadata": {},
   "outputs": [
    {
     "name": "stdout",
     "output_type": "stream",
     "text": [
      "                               precision    recall  f1-score   support\n",
      "\n",
      "               bacterial_spot       0.48      0.41      0.44       124\n",
      "                 early_blight       0.25      0.30      0.27       114\n",
      "                      healthy       0.40      0.38      0.39       131\n",
      "                  late_blight       0.18      0.19      0.19       124\n",
      "                    leaf_mold       0.37      0.42      0.40       117\n",
      "           septoria_leaf_spot       0.26      0.27      0.27       114\n",
      "                  target_spot       0.20      0.18      0.19       111\n",
      "          tomato_mosaic_virus       0.25      0.22      0.23        60\n",
      "tomato_yellow_leaf_curl_virus       0.28      0.26      0.27       121\n",
      "      two-spotted_spider_mite       0.41      0.44      0.43       124\n",
      "\n",
      "                     accuracy                           0.31      1140\n",
      "                    macro avg       0.31      0.31      0.31      1140\n",
      "                 weighted avg       0.32      0.31      0.31      1140\n",
      "\n",
      "[[51 24  8  8  6  7  9  1  7  3]\n",
      " [17 34  4  9 10  3 15  0 11 11]\n",
      " [ 4  4 50 24  7 16 12  0 10  4]\n",
      " [ 6 14 11 24 22 20  6  6  8  7]\n",
      " [ 3 13 10 15 49 10  2  3  6  6]\n",
      " [ 5  7 14 21  6 31 10  4  6 10]\n",
      " [ 8 18 10  9  7  5 20  3 12 19]\n",
      " [ 2  2  4  4  9  9  1 13  9  7]\n",
      " [ 6 14  4 12 11  8  8 16 31 11]\n",
      " [ 5  7  9  6  4  8 15  5 10 55]]\n"
     ]
    }
   ],
   "source": [
    "y_predict = model.fit(Ftrain, Ltrain).predict(Ftest)\n",
    "class_names = target.unique()\n",
    "print(classification_report(Ltest, y_predict, target_names=class_names))\n",
    "print(confusion_matrix(Ltest, y_predict))"
   ]
  },
  {
   "cell_type": "markdown",
   "id": "c7585c1d",
   "metadata": {},
   "source": [
    "# SVM(linear) on blue channel data"
   ]
  },
  {
   "cell_type": "code",
   "execution_count": 115,
   "id": "06fb4a0f",
   "metadata": {},
   "outputs": [
    {
     "name": "stdout",
     "output_type": "stream",
     "text": [
      "0.3570175438596491\n"
     ]
    }
   ],
   "source": [
    "clf.fit(Ftrain,Ltrain)\n",
    "y_pred = clf.predict(Ftest)\n",
    "print(accuracy_score(Ltest,y_pred))"
   ]
  },
  {
   "cell_type": "code",
   "execution_count": 116,
   "id": "31601cac",
   "metadata": {},
   "outputs": [
    {
     "name": "stdout",
     "output_type": "stream",
     "text": [
      "                               precision    recall  f1-score   support\n",
      "\n",
      "               bacterial_spot       0.33      0.44      0.38       124\n",
      "                 early_blight       0.26      0.35      0.30       114\n",
      "                      healthy       0.53      0.50      0.52       131\n",
      "                  late_blight       0.23      0.22      0.22       124\n",
      "                    leaf_mold       0.45      0.45      0.45       117\n",
      "           septoria_leaf_spot       0.28      0.26      0.27       114\n",
      "                  target_spot       0.28      0.26      0.27       111\n",
      "          tomato_mosaic_virus       0.35      0.28      0.31        60\n",
      "tomato_yellow_leaf_curl_virus       0.39      0.28      0.33       121\n",
      "      two-spotted_spider_mite       0.52      0.45      0.48       124\n",
      "\n",
      "                     accuracy                           0.36      1140\n",
      "                    macro avg       0.36      0.35      0.35      1140\n",
      "                 weighted avg       0.36      0.36      0.36      1140\n",
      "\n",
      "[[55 28 11  5  5  5  7  0  6  2]\n",
      " [26 40  4  5  6  4 18  0  5  6]\n",
      " [12  6 66 16  2 13  3  1  8  4]\n",
      " [12 23 11 27 12 21  7  3  5  3]\n",
      " [ 7  6  7 21 53  8  4  2  4  5]\n",
      " [ 7  7  8 21 13 30 13  8  1  6]\n",
      " [23 19  6  4  4  3 29  2  7 14]\n",
      " [ 7  1  1  1  5 12  0 17 10  6]\n",
      " [12 14  5 13 13  3 11 10 34  6]\n",
      " [ 7 12  5  5  5  9 12  6  7 56]]\n"
     ]
    }
   ],
   "source": [
    "y_predict = clf.fit(Ftrain, Ltrain).predict(Ftest)\n",
    "class_names = target.unique()\n",
    "print(classification_report(Ltest, y_predict, target_names=class_names))\n",
    "print(confusion_matrix(Ltest, y_predict))"
   ]
  },
  {
   "cell_type": "markdown",
   "id": "20ada4d3",
   "metadata": {},
   "source": [
    "# SVM(poly) on blue data"
   ]
  },
  {
   "cell_type": "code",
   "execution_count": 117,
   "id": "29dc3434",
   "metadata": {},
   "outputs": [
    {
     "name": "stdout",
     "output_type": "stream",
     "text": [
      "0.5157894736842106\n"
     ]
    }
   ],
   "source": [
    "svm_poly.fit(Ftrain,Ltrain)\n",
    "y_pred = svm_poly.predict(Ftest)\n",
    "print(accuracy_score(Ltest,y_pred))"
   ]
  },
  {
   "cell_type": "code",
   "execution_count": 118,
   "id": "07a066f4",
   "metadata": {},
   "outputs": [
    {
     "name": "stdout",
     "output_type": "stream",
     "text": [
      "                               precision    recall  f1-score   support\n",
      "\n",
      "               bacterial_spot       0.50      0.68      0.57       124\n",
      "                 early_blight       0.55      0.21      0.30       114\n",
      "                      healthy       0.50      0.92      0.65       131\n",
      "                  late_blight       0.49      0.17      0.25       124\n",
      "                    leaf_mold       0.47      0.63      0.54       117\n",
      "           septoria_leaf_spot       0.68      0.44      0.53       114\n",
      "                  target_spot       0.48      0.60      0.53       111\n",
      "          tomato_mosaic_virus       0.60      0.05      0.09        60\n",
      "tomato_yellow_leaf_curl_virus       0.44      0.56      0.49       121\n",
      "      two-spotted_spider_mite       0.69      0.62      0.66       124\n",
      "\n",
      "                     accuracy                           0.52      1140\n",
      "                    macro avg       0.54      0.49      0.46      1140\n",
      "                 weighted avg       0.53      0.52      0.48      1140\n",
      "\n",
      "[[ 84   3  11   9   3   0   4   0  10   0]\n",
      " [ 32  24   3   3   9   1  25   0  11   6]\n",
      " [  3   0 120   0   3   0   3   0   2   0]\n",
      " [ 11  13  28  21  18  14   4   0  13   2]\n",
      " [  5   1  15   1  74   2  10   0   8   1]\n",
      " [  2   0  26   5  16  50   8   0   6   1]\n",
      " [ 15   0   8   0   3   1  67   0   7  10]\n",
      " [  1   0   7   0  19   3   1   3  19   7]\n",
      " [ 11   3  11   4   8   2   5   2  68   7]\n",
      " [  5   0  12   0   4   1  14   0  11  77]]\n"
     ]
    }
   ],
   "source": [
    "#classification report\n",
    "y_predict = svm_poly.fit(Ftrain, Ltrain).predict(Ftest)\n",
    "class_names = target.unique()\n",
    "print(classification_report(Ltest, y_predict, target_names=class_names))\n",
    "print(confusion_matrix(Ltest, y_predict))"
   ]
  },
  {
   "cell_type": "markdown",
   "id": "f7c80dbc",
   "metadata": {},
   "source": [
    "# SVM(RBF) on blue data"
   ]
  },
  {
   "cell_type": "code",
   "execution_count": 119,
   "id": "4a39785b",
   "metadata": {},
   "outputs": [
    {
     "name": "stdout",
     "output_type": "stream",
     "text": [
      "0.6333333333333333\n"
     ]
    }
   ],
   "source": [
    "svm_rbf.fit(Ftrain,Ltrain)\n",
    "y_pred = svm_rbf.predict(Ftest)\n",
    "print(accuracy_score(Ltest,y_pred))"
   ]
  },
  {
   "cell_type": "code",
   "execution_count": 120,
   "id": "8c5ad3ff",
   "metadata": {},
   "outputs": [
    {
     "name": "stdout",
     "output_type": "stream",
     "text": [
      "                               precision    recall  f1-score   support\n",
      "\n",
      "               bacterial_spot       0.74      0.65      0.70       124\n",
      "                 early_blight       0.46      0.49      0.47       114\n",
      "                      healthy       0.70      0.86      0.77       131\n",
      "                  late_blight       0.63      0.56      0.59       124\n",
      "                    leaf_mold       0.69      0.65      0.67       117\n",
      "           septoria_leaf_spot       0.58      0.62      0.60       114\n",
      "                  target_spot       0.54      0.61      0.58       111\n",
      "          tomato_mosaic_virus       0.57      0.47      0.51        60\n",
      "tomato_yellow_leaf_curl_virus       0.65      0.60      0.63       121\n",
      "      two-spotted_spider_mite       0.73      0.70      0.72       124\n",
      "\n",
      "                     accuracy                           0.63      1140\n",
      "                    macro avg       0.63      0.62      0.62      1140\n",
      "                 weighted avg       0.64      0.63      0.63      1140\n",
      "\n",
      "[[ 81   7   8   6   3   5   3   0  10   1]\n",
      " [ 12  56   1  10   8   2  13   1   7   4]\n",
      " [  0   1 113   4   0   3   3   1   4   2]\n",
      " [  0  20   5  69   4  17   4   1   3   1]\n",
      " [  0   8   8   2  76   6   8   4   2   3]\n",
      " [  0   3   9  11   7  71   7   5   1   0]\n",
      " [  8  10   4   1   2   3  68   0   3  12]\n",
      " [  3   0   3   0   8   8   0  28   6   4]\n",
      " [  4  12   6   6   2   4   4   5  73   5]\n",
      " [  1   5   4   1   0   4  15   4   3  87]]\n"
     ]
    }
   ],
   "source": [
    "#classification report\n",
    "y_predict = svm_rbf.fit(Ftrain, Ltrain).predict(Ftest)\n",
    "class_names = target.unique()\n",
    "print(classification_report(Ltest, y_predict, target_names=class_names))\n",
    "print(confusion_matrix(Ltest, y_predict))"
   ]
  },
  {
   "cell_type": "markdown",
   "id": "9f324aba",
   "metadata": {},
   "source": [
    "# SVM(sigmoid) on blue data"
   ]
  },
  {
   "cell_type": "code",
   "execution_count": 121,
   "id": "ab91bceb",
   "metadata": {},
   "outputs": [
    {
     "name": "stdout",
     "output_type": "stream",
     "text": [
      "0.29210526315789476\n"
     ]
    }
   ],
   "source": [
    "svm_si.fit(Ftrain,Ltrain)\n",
    "y_pred = svm_si.predict(Ftest)\n",
    "print(accuracy_score(Ltest,y_pred))"
   ]
  },
  {
   "cell_type": "code",
   "execution_count": 122,
   "id": "a683edec",
   "metadata": {},
   "outputs": [
    {
     "name": "stdout",
     "output_type": "stream",
     "text": [
      "                               precision    recall  f1-score   support\n",
      "\n",
      "               bacterial_spot       0.39      0.45      0.42       124\n",
      "                 early_blight       0.19      0.20      0.20       114\n",
      "                      healthy       0.43      0.39      0.41       131\n",
      "                  late_blight       0.20      0.17      0.18       124\n",
      "                    leaf_mold       0.56      0.27      0.37       117\n",
      "           septoria_leaf_spot       0.18      0.39      0.24       114\n",
      "                  target_spot       0.21      0.23      0.22       111\n",
      "          tomato_mosaic_virus       0.43      0.05      0.09        60\n",
      "tomato_yellow_leaf_curl_virus       0.31      0.32      0.31       121\n",
      "      two-spotted_spider_mite       0.43      0.31      0.36       124\n",
      "\n",
      "                     accuracy                           0.29      1140\n",
      "                    macro avg       0.33      0.28      0.28      1140\n",
      "                 weighted avg       0.33      0.29      0.29      1140\n",
      "\n",
      "[[56 24 11  9  2  7  4  0  8  3]\n",
      " [32 23  2  5  3 12 22  0  8  7]\n",
      " [11  3 51 25  0 24  9  0  7  1]\n",
      " [11 11 16 21  8 26 17  0 11  3]\n",
      " [ 4  9 10 17 32 28  4  1  9  3]\n",
      " [ 1  8 12 11  4 44 25  1  4  4]\n",
      " [12 17  4  3  0 29 26  0  6 14]\n",
      " [ 2  1  2  2  3 22  0  3 21  4]\n",
      " [14 14  8  8  4 18  3  1 39 12]\n",
      " [ 2 10  3  3  1 41 11  1 14 38]]\n"
     ]
    }
   ],
   "source": [
    "#classification report\n",
    "y_predict = svm_si.fit(Ftrain, Ltrain).predict(Ftest)\n",
    "class_names = target.unique()\n",
    "print(classification_report(Ltest, y_predict, target_names=class_names))\n",
    "print(confusion_matrix(Ltest, y_predict))"
   ]
  },
  {
   "cell_type": "markdown",
   "id": "f4eb8c6c",
   "metadata": {},
   "source": [
    "# Random Forest on blue channel data"
   ]
  },
  {
   "cell_type": "code",
   "execution_count": 123,
   "id": "b71407b2",
   "metadata": {},
   "outputs": [
    {
     "data": {
      "text/plain": [
       "0.4536082474226804"
      ]
     },
     "execution_count": 123,
     "metadata": {},
     "output_type": "execute_result"
    }
   ],
   "source": [
    "classifier_rf.fit(Ftrain, Ltrain)\n",
    "classifier_rf.oob_score_"
   ]
  },
  {
   "cell_type": "code",
   "execution_count": 124,
   "id": "f3cf2295",
   "metadata": {},
   "outputs": [
    {
     "name": "stdout",
     "output_type": "stream",
     "text": [
      "                               precision    recall  f1-score   support\n",
      "\n",
      "               bacterial_spot       0.45      0.64      0.52       124\n",
      "                 early_blight       0.38      0.14      0.21       114\n",
      "                      healthy       0.46      0.80      0.59       131\n",
      "                  late_blight       0.48      0.27      0.35       124\n",
      "                    leaf_mold       0.56      0.58      0.57       117\n",
      "           septoria_leaf_spot       0.55      0.47      0.51       114\n",
      "                  target_spot       0.42      0.71      0.53       111\n",
      "          tomato_mosaic_virus       0.00      0.00      0.00        60\n",
      "tomato_yellow_leaf_curl_virus       0.52      0.35      0.42       121\n",
      "      two-spotted_spider_mite       0.49      0.52      0.50       124\n",
      "\n",
      "                     accuracy                           0.48      1140\n",
      "                    macro avg       0.43      0.45      0.42      1140\n",
      "                 weighted avg       0.45      0.48      0.44      1140\n",
      "\n",
      "[[ 79   3  22   6   3   0   5   0   4   2]\n",
      " [ 42  16   4   1   5  12  23   0   5   6]\n",
      " [  1   0 105  10   2   0   7   0   3   3]\n",
      " [  8   9  22  34  13  19  12   0   1   6]\n",
      " [  8   1  17   2  68   1  12   0   2   6]\n",
      " [  2   0  20   6   9  54  12   0   1  10]\n",
      " [  8   4   6   0   1   4  79   0   2   7]\n",
      " [  2   1  11   3  11   5   3   0   9  15]\n",
      " [ 23   4  13   9   7   2   7   0  42  14]\n",
      " [  4   4   7   0   2   2  28   0  12  65]]\n"
     ]
    },
    {
     "name": "stderr",
     "output_type": "stream",
     "text": [
      "C:\\Users\\ravic\\anaconda3\\lib\\site-packages\\sklearn\\metrics\\_classification.py:1248: UndefinedMetricWarning: Precision and F-score are ill-defined and being set to 0.0 in labels with no predicted samples. Use `zero_division` parameter to control this behavior.\n",
      "  _warn_prf(average, modifier, msg_start, len(result))\n",
      "C:\\Users\\ravic\\anaconda3\\lib\\site-packages\\sklearn\\metrics\\_classification.py:1248: UndefinedMetricWarning: Precision and F-score are ill-defined and being set to 0.0 in labels with no predicted samples. Use `zero_division` parameter to control this behavior.\n",
      "  _warn_prf(average, modifier, msg_start, len(result))\n",
      "C:\\Users\\ravic\\anaconda3\\lib\\site-packages\\sklearn\\metrics\\_classification.py:1248: UndefinedMetricWarning: Precision and F-score are ill-defined and being set to 0.0 in labels with no predicted samples. Use `zero_division` parameter to control this behavior.\n",
      "  _warn_prf(average, modifier, msg_start, len(result))\n"
     ]
    }
   ],
   "source": [
    "y_predict = classifier_rf.fit(Ftrain, Ltrain).predict(Ftest)\n",
    "class_names = target.unique()\n",
    "print(classification_report(Ltest, y_predict, target_names=class_names))\n",
    "print(confusion_matrix(Ltest, y_predict))"
   ]
  },
  {
   "cell_type": "markdown",
   "id": "fb1ca20e",
   "metadata": {},
   "source": [
    "# Gaussian Naive bayes on blue channel data"
   ]
  },
  {
   "cell_type": "code",
   "execution_count": 125,
   "id": "11ea0b85",
   "metadata": {},
   "outputs": [
    {
     "data": {
      "text/plain": [
       "0.4087719298245614"
      ]
     },
     "execution_count": 125,
     "metadata": {},
     "output_type": "execute_result"
    }
   ],
   "source": [
    "gnb.fit(Ftrain, Ltrain)\n",
    "y_pred = gnb.predict(Ftest)\n",
    "metrics.accuracy_score(Ltest, y_pred)"
   ]
  },
  {
   "cell_type": "code",
   "execution_count": 126,
   "id": "0743881e",
   "metadata": {},
   "outputs": [
    {
     "name": "stdout",
     "output_type": "stream",
     "text": [
      "                               precision    recall  f1-score   support\n",
      "\n",
      "               bacterial_spot       0.47      0.69      0.56       124\n",
      "                 early_blight       0.38      0.39      0.39       114\n",
      "                      healthy       0.44      0.63      0.52       131\n",
      "                  late_blight       0.34      0.20      0.25       124\n",
      "                    leaf_mold       0.61      0.29      0.39       117\n",
      "           septoria_leaf_spot       0.37      0.47      0.42       114\n",
      "                  target_spot       0.50      0.38      0.43       111\n",
      "          tomato_mosaic_virus       0.29      0.57      0.39        60\n",
      "tomato_yellow_leaf_curl_virus       0.27      0.12      0.16       121\n",
      "      two-spotted_spider_mite       0.39      0.40      0.40       124\n",
      "\n",
      "                     accuracy                           0.41      1140\n",
      "                    macro avg       0.41      0.41      0.39      1140\n",
      "                 weighted avg       0.41      0.41      0.39      1140\n",
      "\n",
      "[[85  6 17  2  0  3  2  6  2  1]\n",
      " [21 45  1 17  4  5  7  2  4  8]\n",
      " [ 5  2 83  3  6  1  8  7 14  2]\n",
      " [ 3 25 34 25  3 21  4  4  1  4]\n",
      " [12  3  6  9 34 23  3 14  3 10]\n",
      " [ 2  2 22  6  1 54  7  5  3 12]\n",
      " [11 15  1  6  3  7 42  2  2 22]\n",
      " [ 7  0  5  0  2  5  0 34  2  5]\n",
      " [28 11 16  5  1 10  3 18 14 15]\n",
      " [ 6  8  3  1  2 16  8 24  6 50]]\n"
     ]
    }
   ],
   "source": [
    "class_names = target.unique()\n",
    "print(classification_report(Ltest, y_pred, target_names=class_names))\n",
    "print(confusion_matrix(Ltest, y_pred))"
   ]
  },
  {
   "cell_type": "markdown",
   "id": "2ef4dbb7",
   "metadata": {},
   "source": [
    "# Bernouli Naive bayes on blue data"
   ]
  },
  {
   "cell_type": "code",
   "execution_count": 127,
   "id": "8b5c24cc",
   "metadata": {},
   "outputs": [
    {
     "data": {
      "text/plain": [
       "0.3447368421052632"
      ]
     },
     "execution_count": 127,
     "metadata": {},
     "output_type": "execute_result"
    }
   ],
   "source": [
    "bnb.fit(Ftrain, Ltrain)\n",
    "y_pred = bnb.predict(Ftest)\n",
    "metrics.accuracy_score(Ltest, y_pred)"
   ]
  },
  {
   "cell_type": "code",
   "execution_count": 128,
   "id": "dadfa0bc",
   "metadata": {},
   "outputs": [
    {
     "name": "stdout",
     "output_type": "stream",
     "text": [
      "                               precision    recall  f1-score   support\n",
      "\n",
      "               bacterial_spot       0.39      0.69      0.50       124\n",
      "                 early_blight       0.28      0.18      0.22       114\n",
      "                      healthy       0.40      0.54      0.46       131\n",
      "                  late_blight       0.15      0.08      0.10       124\n",
      "                    leaf_mold       0.63      0.31      0.41       117\n",
      "           septoria_leaf_spot       0.31      0.53      0.39       114\n",
      "                  target_spot       0.36      0.26      0.30       111\n",
      "          tomato_mosaic_virus       0.18      0.27      0.22        60\n",
      "tomato_yellow_leaf_curl_virus       0.17      0.09      0.12       121\n",
      "      two-spotted_spider_mite       0.44      0.44      0.44       124\n",
      "\n",
      "                     accuracy                           0.34      1140\n",
      "                    macro avg       0.33      0.34      0.32      1140\n",
      "                 weighted avg       0.34      0.34      0.32      1140\n",
      "\n",
      "[[85  5 14  6  2  4  1  1  5  1]\n",
      " [47 20  3  4  2 15 15  2  4  2]\n",
      " [ 5  1 71 13  4 12  6  7  8  4]\n",
      " [21  8 40 10  9 23  6  1  1  5]\n",
      " [10  5  9  8 36 23  5  7  6  8]\n",
      " [ 1  3 20  3  1 60  9  5  1 11]\n",
      " [ 7 10  2  6  1 19 29 12 11 14]\n",
      " [ 5  0  4  5  2 12  1 16  7  8]\n",
      " [31 10 12  8  0 13  2 17 11 17]\n",
      " [ 4  9  4  4  0 14  6 19  9 55]]\n"
     ]
    }
   ],
   "source": [
    "class_names = target.unique()\n",
    "print(classification_report(Ltest, y_pred, target_names=class_names))\n",
    "print(confusion_matrix(Ltest, y_pred))"
   ]
  },
  {
   "cell_type": "markdown",
   "id": "a9f61b1f",
   "metadata": {},
   "source": [
    "# Decision Tree on Blue channel"
   ]
  },
  {
   "cell_type": "code",
   "execution_count": 129,
   "id": "abc489d3",
   "metadata": {},
   "outputs": [
    {
     "data": {
      "text/plain": [
       "0.34649122807017546"
      ]
     },
     "execution_count": 129,
     "metadata": {},
     "output_type": "execute_result"
    }
   ],
   "source": [
    "classifier_tree.fit(Ftrain, Ltrain)\n",
    "classifier_tree.score(Ftest,Ltest)"
   ]
  },
  {
   "cell_type": "code",
   "execution_count": 130,
   "id": "7047e0bb",
   "metadata": {},
   "outputs": [
    {
     "name": "stdout",
     "output_type": "stream",
     "text": [
      "                               precision    recall  f1-score   support\n",
      "\n",
      "               bacterial_spot       0.40      0.42      0.41       124\n",
      "                 early_blight       0.18      0.19      0.18       114\n",
      "                      healthy       0.61      0.60      0.61       131\n",
      "                  late_blight       0.33      0.32      0.33       124\n",
      "                    leaf_mold       0.37      0.38      0.37       117\n",
      "           septoria_leaf_spot       0.36      0.36      0.36       114\n",
      "                  target_spot       0.30      0.31      0.30       111\n",
      "          tomato_mosaic_virus       0.14      0.13      0.13        60\n",
      "tomato_yellow_leaf_curl_virus       0.30      0.26      0.28       121\n",
      "      two-spotted_spider_mite       0.27      0.27      0.27       124\n",
      "\n",
      "                     accuracy                           0.34      1140\n",
      "                    macro avg       0.32      0.32      0.32      1140\n",
      "                 weighted avg       0.34      0.34      0.34      1140\n",
      "\n",
      "[[52 17  8  8  6  1  7  2 15  8]\n",
      " [20 22  3  8 13  5 13  0  9 21]\n",
      " [ 5  8 79  9  4  9  3  7  1  6]\n",
      " [11  8  6 40  9 16  9  5 13  7]\n",
      " [ 8 14  3 12 45 13  2  7  6  7]\n",
      " [ 3  8  4 19  9 41 14  4  9  3]\n",
      " [ 4 14  5  8 10  9 34  6  4 17]\n",
      " [ 6  3  8  3  7 10  3  8  4  8]\n",
      " [16 16  7  8  9  6  7  7 31 14]\n",
      " [ 5 14  6  7 11  5 20 13 10 33]]\n"
     ]
    }
   ],
   "source": [
    "y_predict = classifier_tree.fit(Ftrain, Ltrain).predict(Ftest)\n",
    "class_names = target.unique()\n",
    "print(classification_report(Ltest, y_predict, target_names=class_names))\n",
    "print(confusion_matrix(Ltest, y_predict))"
   ]
  },
  {
   "cell_type": "code",
   "execution_count": 131,
   "id": "0bde61c7",
   "metadata": {},
   "outputs": [
    {
     "name": "stdout",
     "output_type": "stream",
     "text": [
      "755.3951661586761\n"
     ]
    }
   ],
   "source": [
    "end_time = time.time()\n",
    "print(end_time - start_time)"
   ]
  }
 ],
 "metadata": {
  "kernelspec": {
   "display_name": "Python 3 (ipykernel)",
   "language": "python",
   "name": "python3"
  },
  "language_info": {
   "codemirror_mode": {
    "name": "ipython",
    "version": 3
   },
   "file_extension": ".py",
   "mimetype": "text/x-python",
   "name": "python",
   "nbconvert_exporter": "python",
   "pygments_lexer": "ipython3",
   "version": "3.9.7"
  }
 },
 "nbformat": 4,
 "nbformat_minor": 5
}
