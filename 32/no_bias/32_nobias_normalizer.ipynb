{
 "cells": [
  {
   "cell_type": "code",
   "execution_count": 1,
   "id": "bcdb1517",
   "metadata": {},
   "outputs": [],
   "source": [
    "import numpy as np #importing numpy\n",
    "import pandas as pd #importing pandas\n",
    "import PIL #importing pillow for image processing\n",
    "from PIL import Image#importing image from pillow library\n",
    "import skimage#importing skimage library\n",
    "import os#importing os library\n",
    "import time#importing time library\n",
    "\n",
    "#Capture start time of the program\n",
    "start_time = time.time()"
   ]
  },
  {
   "cell_type": "code",
   "execution_count": 2,
   "id": "9ec45970",
   "metadata": {},
   "outputs": [],
   "source": [
    "os.chdir('D://DKIT//dissertation//Dataset_of_Tomato_Leaves//plantvillage//Preprocessed_data//32//32_no_bias_vector//')"
   ]
  },
  {
   "cell_type": "code",
   "execution_count": 3,
   "id": "cbc71f85",
   "metadata": {},
   "outputs": [],
   "source": [
    "#importing classification report and confusion matrix\n",
    "from sklearn.metrics import classification_report, confusion_matrix"
   ]
  },
  {
   "cell_type": "markdown",
   "id": "7139bf53",
   "metadata": {},
   "source": [
    "# KNN on rgb data"
   ]
  },
  {
   "cell_type": "code",
   "execution_count": 4,
   "id": "9386938c",
   "metadata": {},
   "outputs": [],
   "source": [
    "#reading numpy array data\n",
    "rgb_test = np.load('rgb_data.npy')\n",
    "#reading csv file\n",
    "rgb_df = pd.read_csv('rgb_data.csv')"
   ]
  },
  {
   "cell_type": "code",
   "execution_count": 5,
   "id": "4f95f2f6",
   "metadata": {},
   "outputs": [],
   "source": [
    "loaded = []\n",
    "for i in rgb_test:\n",
    "    k = []\n",
    "    k = np.asarray(i,dtype='uint8')\n",
    "    loaded.append(k)"
   ]
  },
  {
   "cell_type": "code",
   "execution_count": 6,
   "id": "c6d5658c",
   "metadata": {},
   "outputs": [],
   "source": [
    "features = loaded\n",
    "target = rgb_df['disease']\n",
    "from sklearn.preprocessing import Normalizer\n",
    "norm = Normalizer()\n",
    "from sklearn.model_selection import train_test_split\n",
    "Ftrain,Ftest,Ltrain,Ltest=train_test_split(features,target, test_size=0.20, random_state=24)"
   ]
  },
  {
   "cell_type": "code",
   "execution_count": 7,
   "id": "8cc86824",
   "metadata": {},
   "outputs": [],
   "source": [
    "Ftrain = norm.fit_transform(Ftrain)\n",
    "Ftest = norm.fit_transform(Ftest)"
   ]
  },
  {
   "cell_type": "code",
   "execution_count": 8,
   "id": "6f1171c6",
   "metadata": {},
   "outputs": [],
   "source": [
    "from sklearn.neighbors import KNeighborsClassifier\n",
    "kmodel = KNeighborsClassifier(n_neighbors=75)"
   ]
  },
  {
   "cell_type": "code",
   "execution_count": 9,
   "id": "b9fdc978",
   "metadata": {},
   "outputs": [
    {
     "data": {
      "text/plain": [
       "0.4421052631578947"
      ]
     },
     "execution_count": 9,
     "metadata": {},
     "output_type": "execute_result"
    }
   ],
   "source": [
    "kmodel.fit(Ftrain,Ltrain)\n",
    "kmodel.score(Ftest,Ltest)"
   ]
  },
  {
   "cell_type": "code",
   "execution_count": 10,
   "id": "cc56686d",
   "metadata": {},
   "outputs": [
    {
     "name": "stdout",
     "output_type": "stream",
     "text": [
      "                               precision    recall  f1-score   support\n",
      "\n",
      "               bacterial_spot       0.25      0.67      0.36       115\n",
      "                 early_blight       0.67      0.02      0.03       120\n",
      "                      healthy       0.40      0.84      0.54       125\n",
      "                  late_blight       0.56      0.35      0.43       125\n",
      "                    leaf_mold       0.70      0.58      0.64       127\n",
      "           septoria_leaf_spot       0.39      0.32      0.35       117\n",
      "                  target_spot       0.67      0.12      0.21       115\n",
      "          tomato_mosaic_virus       0.57      0.65      0.61        54\n",
      "tomato_yellow_leaf_curl_virus       0.83      0.39      0.54       114\n",
      "      two-spotted_spider_mite       0.47      0.55      0.51       128\n",
      "\n",
      "                     accuracy                           0.44      1140\n",
      "                    macro avg       0.55      0.45      0.42      1140\n",
      "                 weighted avg       0.55      0.44      0.41      1140\n",
      "\n",
      "[[ 77   0  17   2   0  11   0   1   4   3]\n",
      " [ 67   2  13   3   9   7   4   4   0  11]\n",
      " [  7   0 105   6   1   2   0   2   0   2]\n",
      " [ 20   1  36  44   9   7   0   1   1   6]\n",
      " [  6   0  18  10  74   8   0   4   0   7]\n",
      " [ 16   0  34   5   9  37   0   5   2   9]\n",
      " [ 50   0  22   1   0   5  14   2   0  21]\n",
      " [  0   0   3   4   3   0   0  35   0   9]\n",
      " [ 35   0   9   2   1  10   0   1  45  11]\n",
      " [ 29   0   6   2   0   9   3   6   2  71]]\n"
     ]
    }
   ],
   "source": [
    "#printing results of the kmodel\n",
    "y_predict = kmodel.fit(Ftrain, Ltrain).predict(Ftest)\n",
    "class_names = target.unique()\n",
    "print(classification_report(Ltest, y_predict, target_names=class_names))\n",
    "print(confusion_matrix(Ltest, y_predict))"
   ]
  },
  {
   "cell_type": "markdown",
   "id": "d5c58638",
   "metadata": {},
   "source": [
    "# Logistic on rgb data"
   ]
  },
  {
   "cell_type": "code",
   "execution_count": 11,
   "id": "a84836ef",
   "metadata": {},
   "outputs": [
    {
     "data": {
      "text/plain": [
       "0.5201754385964912"
      ]
     },
     "execution_count": 11,
     "metadata": {},
     "output_type": "execute_result"
    }
   ],
   "source": [
    "from sklearn.linear_model import LogisticRegression\n",
    "model=LogisticRegression(solver='lbfgs', max_iter=10000)\n",
    "model.fit(Ftrain,Ltrain)\n",
    "model.score(Ftest,Ltest)"
   ]
  },
  {
   "cell_type": "code",
   "execution_count": 12,
   "id": "a1f10c9f",
   "metadata": {},
   "outputs": [
    {
     "name": "stdout",
     "output_type": "stream",
     "text": [
      "                               precision    recall  f1-score   support\n",
      "\n",
      "               bacterial_spot       0.50      0.50      0.50       115\n",
      "                 early_blight       0.44      0.32      0.37       120\n",
      "                      healthy       0.47      0.78      0.59       125\n",
      "                  late_blight       0.54      0.30      0.39       125\n",
      "                    leaf_mold       0.59      0.71      0.65       127\n",
      "           septoria_leaf_spot       0.42      0.24      0.31       117\n",
      "                  target_spot       0.51      0.34      0.41       115\n",
      "          tomato_mosaic_virus       0.71      0.41      0.52        54\n",
      "tomato_yellow_leaf_curl_virus       0.68      0.82      0.74       114\n",
      "      two-spotted_spider_mite       0.45      0.70      0.55       128\n",
      "\n",
      "                     accuracy                           0.52      1140\n",
      "                    macro avg       0.53      0.51      0.50      1140\n",
      "                 weighted avg       0.52      0.52      0.50      1140\n",
      "\n",
      "[[57  7 10  4  2  5  1  0 19 10]\n",
      " [15 38  4 13 14  2  8  0  3 23]\n",
      " [ 0  0 98  3  2  4 13  0  0  5]\n",
      " [ 5  9 51 38  8  4  1  0  1  8]\n",
      " [ 2  1  9  3 90 13  1  1  1  6]\n",
      " [12  4 16  3 20 28  6  0 16 12]\n",
      " [12 14 15  4  2  0 39  1  0 28]\n",
      " [ 0  1  1  0 13  4  1 22  2 10]\n",
      " [ 5  5  0  2  0  0  0  1 93  8]\n",
      " [ 6  7  3  1  1  6  6  6  2 90]]\n"
     ]
    }
   ],
   "source": [
    "#classification report\n",
    "y_predict = model.fit(Ftrain, Ltrain).predict(Ftest)\n",
    "class_names = target.unique()\n",
    "print(classification_report(Ltest, y_predict, target_names=class_names))\n",
    "print(confusion_matrix(Ltest, y_predict))"
   ]
  },
  {
   "cell_type": "markdown",
   "id": "6fe194bc",
   "metadata": {},
   "source": [
    "# SVM on RGB data"
   ]
  },
  {
   "cell_type": "code",
   "execution_count": 13,
   "id": "2427ed51",
   "metadata": {},
   "outputs": [
    {
     "name": "stdout",
     "output_type": "stream",
     "text": [
      "0.5657894736842105\n"
     ]
    }
   ],
   "source": [
    "from sklearn.svm import SVC\n",
    "from sklearn.metrics import accuracy_score\n",
    "\n",
    "clf = SVC(kernel='linear')\n",
    "clf.fit(Ftrain,Ltrain)\n",
    "y_pred = clf.predict(Ftest)\n",
    "print(accuracy_score(Ltest,y_pred))"
   ]
  },
  {
   "cell_type": "code",
   "execution_count": 14,
   "id": "4103cc2e",
   "metadata": {},
   "outputs": [
    {
     "name": "stdout",
     "output_type": "stream",
     "text": [
      "                               precision    recall  f1-score   support\n",
      "\n",
      "               bacterial_spot       0.50      0.49      0.50       115\n",
      "                 early_blight       0.46      0.36      0.40       120\n",
      "                      healthy       0.57      0.80      0.67       125\n",
      "                  late_blight       0.66      0.37      0.47       125\n",
      "                    leaf_mold       0.69      0.67      0.68       127\n",
      "           septoria_leaf_spot       0.34      0.33      0.34       117\n",
      "                  target_spot       0.54      0.63      0.58       115\n",
      "          tomato_mosaic_virus       0.70      0.48      0.57        54\n",
      "tomato_yellow_leaf_curl_virus       0.79      0.83      0.81       114\n",
      "      two-spotted_spider_mite       0.51      0.65      0.57       128\n",
      "\n",
      "                     accuracy                           0.57      1140\n",
      "                    macro avg       0.58      0.56      0.56      1140\n",
      "                 weighted avg       0.57      0.57      0.56      1140\n",
      "\n",
      "[[ 56   9   6   4   1  16   6   0   9   8]\n",
      " [ 15  43   4   8  10   6  14   0   2  18]\n",
      " [  1   0 100   1   1   7  12   0   0   3]\n",
      " [  6  14  39  46   3   7   3   0   1   6]\n",
      " [  3   2   7   2  85  16   5   1   1   5]\n",
      " [ 13   5  10   3  16  39  10   1  10  10]\n",
      " [  6   7   5   3   2   0  72   1   0  19]\n",
      " [  0   2   1   1   5  11   2  26   0   6]\n",
      " [  4   4   0   1   0   3   0   1  95   6]\n",
      " [  7   8   2   1   0   9   9   7   2  83]]\n"
     ]
    }
   ],
   "source": [
    "#classification report\n",
    "y_predict = clf.fit(Ftrain, Ltrain).predict(Ftest)\n",
    "class_names = target.unique()\n",
    "print(classification_report(Ltest, y_predict, target_names=class_names))\n",
    "print(confusion_matrix(Ltest, y_predict))"
   ]
  },
  {
   "cell_type": "markdown",
   "id": "73bef6fa",
   "metadata": {},
   "source": [
    "# Random Forest on RGB "
   ]
  },
  {
   "cell_type": "code",
   "execution_count": 15,
   "id": "6bae5a92",
   "metadata": {},
   "outputs": [],
   "source": [
    "from sklearn.ensemble import RandomForestClassifier"
   ]
  },
  {
   "cell_type": "code",
   "execution_count": 16,
   "id": "1d08a15e",
   "metadata": {},
   "outputs": [],
   "source": [
    "classifier_rf = RandomForestClassifier(random_state=42, n_jobs=-1, max_depth=5,n_estimators=100, oob_score=True)"
   ]
  },
  {
   "cell_type": "code",
   "execution_count": 17,
   "id": "938ad007",
   "metadata": {},
   "outputs": [
    {
     "data": {
      "text/plain": [
       "RandomForestClassifier(max_depth=5, n_jobs=-1, oob_score=True, random_state=42)"
      ]
     },
     "execution_count": 17,
     "metadata": {},
     "output_type": "execute_result"
    }
   ],
   "source": [
    "classifier_rf.fit(Ftrain, Ltrain)"
   ]
  },
  {
   "cell_type": "code",
   "execution_count": 18,
   "id": "e1769cec",
   "metadata": {},
   "outputs": [
    {
     "data": {
      "text/plain": [
       "0.5325729326606712"
      ]
     },
     "execution_count": 18,
     "metadata": {},
     "output_type": "execute_result"
    }
   ],
   "source": [
    "classifier_rf.oob_score_"
   ]
  },
  {
   "cell_type": "code",
   "execution_count": 19,
   "id": "c144f9db",
   "metadata": {},
   "outputs": [
    {
     "name": "stdout",
     "output_type": "stream",
     "text": [
      "                               precision    recall  f1-score   support\n",
      "\n",
      "               bacterial_spot       0.42      0.60      0.49       115\n",
      "                 early_blight       0.47      0.12      0.19       120\n",
      "                      healthy       0.66      0.89      0.76       125\n",
      "                  late_blight       0.77      0.54      0.63       125\n",
      "                    leaf_mold       0.60      0.65      0.62       127\n",
      "           septoria_leaf_spot       0.29      0.32      0.31       117\n",
      "                  target_spot       0.49      0.61      0.54       115\n",
      "          tomato_mosaic_virus       1.00      0.04      0.07        54\n",
      "tomato_yellow_leaf_curl_virus       0.58      0.84      0.69       114\n",
      "      two-spotted_spider_mite       0.50      0.41      0.45       128\n",
      "\n",
      "                     accuracy                           0.53      1140\n",
      "                    macro avg       0.58      0.50      0.47      1140\n",
      "                 weighted avg       0.55      0.53      0.50      1140\n",
      "\n",
      "[[ 69   1   5   1   0  13   9   0  12   5]\n",
      " [ 36  14   3   7   6  14  14   0  13  13]\n",
      " [  0   1 111   0   0   6   7   0   0   0]\n",
      " [  7   7  14  67   8   8   8   0   5   1]\n",
      " [  3   1   4   6  83  22   0   0   4   4]\n",
      " [ 11   0  10   2  25  38   9   0  18   4]\n",
      " [ 14   3  15   0   2   2  70   0   1   8]\n",
      " [  1   0   1   1  13  21   0   2   2  13]\n",
      " [  5   1   0   3   0   2   1   0  96   6]\n",
      " [ 19   2   6   0   2   6  26   0  14  53]]\n"
     ]
    }
   ],
   "source": [
    "y_predict = classifier_rf.fit(Ftrain, Ltrain).predict(Ftest)\n",
    "class_names = target.unique()\n",
    "print(classification_report(Ltest, y_predict, target_names=class_names))\n",
    "print(confusion_matrix(Ltest, y_predict))"
   ]
  },
  {
   "cell_type": "markdown",
   "id": "b6a094e4",
   "metadata": {},
   "source": [
    "# Naive Bayes on RGB data"
   ]
  },
  {
   "cell_type": "code",
   "execution_count": 20,
   "id": "a5bc755b",
   "metadata": {},
   "outputs": [
    {
     "data": {
      "text/plain": [
       "GaussianNB()"
      ]
     },
     "execution_count": 20,
     "metadata": {},
     "output_type": "execute_result"
    }
   ],
   "source": [
    "from sklearn.naive_bayes import GaussianNB\n",
    "gnb = GaussianNB()\n",
    "gnb.fit(Ftrain, Ltrain)"
   ]
  },
  {
   "cell_type": "code",
   "execution_count": 21,
   "id": "6d162dcc",
   "metadata": {},
   "outputs": [],
   "source": [
    "y_pred = gnb.predict(Ftest)"
   ]
  },
  {
   "cell_type": "code",
   "execution_count": 22,
   "id": "8f7b4bab",
   "metadata": {},
   "outputs": [
    {
     "data": {
      "text/plain": [
       "0.46228070175438596"
      ]
     },
     "execution_count": 22,
     "metadata": {},
     "output_type": "execute_result"
    }
   ],
   "source": [
    "from sklearn import metrics\n",
    "metrics.accuracy_score(Ltest, y_pred)"
   ]
  },
  {
   "cell_type": "code",
   "execution_count": 23,
   "id": "980b37c5",
   "metadata": {},
   "outputs": [
    {
     "name": "stdout",
     "output_type": "stream",
     "text": [
      "                               precision    recall  f1-score   support\n",
      "\n",
      "               bacterial_spot       0.52      0.57      0.54       115\n",
      "                 early_blight       0.35      0.38      0.36       120\n",
      "                      healthy       0.44      0.67      0.53       125\n",
      "                  late_blight       0.34      0.18      0.24       125\n",
      "                    leaf_mold       0.67      0.55      0.60       127\n",
      "           septoria_leaf_spot       0.33      0.21      0.25       117\n",
      "                  target_spot       0.51      0.42      0.46       115\n",
      "          tomato_mosaic_virus       0.32      0.87      0.47        54\n",
      "tomato_yellow_leaf_curl_virus       0.84      0.50      0.63       114\n",
      "      two-spotted_spider_mite       0.45      0.50      0.47       128\n",
      "\n",
      "                     accuracy                           0.46      1140\n",
      "                    macro avg       0.48      0.48      0.46      1140\n",
      "                 weighted avg       0.48      0.46      0.45      1140\n",
      "\n",
      "[[65  7 15  3  0 10  3  3  3  6]\n",
      " [15 45  3 17  5  0  9  7  2 17]\n",
      " [ 0  0 84  7  5  8 14  4  0  3]\n",
      " [ 3 20 51 23  4 11  4  6  1  2]\n",
      " [ 3  7  2  6 70  8  5 21  0  5]\n",
      " [13  8 21  2 17 24  4 14  4 10]\n",
      " [14 15  3  5  1  1 48  6  0 22]\n",
      " [ 1  2  0  0  3  1  0 47  0  0]\n",
      " [ 9 12  5  5  0  2  0 10 57 14]\n",
      " [ 2 11  7  0  0  8  8 27  1 64]]\n"
     ]
    }
   ],
   "source": [
    "class_names = target.unique()\n",
    "print(classification_report(Ltest, y_pred, target_names=class_names))\n",
    "print(confusion_matrix(Ltest, y_pred))"
   ]
  },
  {
   "cell_type": "markdown",
   "id": "0ce0377b",
   "metadata": {},
   "source": [
    "# Decision Tree on RGB data"
   ]
  },
  {
   "cell_type": "code",
   "execution_count": 24,
   "id": "b9bba328",
   "metadata": {},
   "outputs": [],
   "source": [
    "from sklearn.tree import DecisionTreeClassifier\n",
    "classifier_tree = DecisionTreeClassifier()"
   ]
  },
  {
   "cell_type": "code",
   "execution_count": 25,
   "id": "b98668ce",
   "metadata": {},
   "outputs": [
    {
     "data": {
      "text/plain": [
       "0.40614035087719297"
      ]
     },
     "execution_count": 25,
     "metadata": {},
     "output_type": "execute_result"
    }
   ],
   "source": [
    "classifier_tree.fit(Ftrain, Ltrain)\n",
    "classifier_tree.score(Ftest,Ltest)"
   ]
  },
  {
   "cell_type": "code",
   "execution_count": 26,
   "id": "9fb604d9",
   "metadata": {},
   "outputs": [
    {
     "name": "stdout",
     "output_type": "stream",
     "text": [
      "                               precision    recall  f1-score   support\n",
      "\n",
      "               bacterial_spot       0.31      0.34      0.33       115\n",
      "                 early_blight       0.27      0.28      0.27       120\n",
      "                      healthy       0.65      0.74      0.69       125\n",
      "                  late_blight       0.37      0.33      0.35       125\n",
      "                    leaf_mold       0.54      0.55      0.54       127\n",
      "           septoria_leaf_spot       0.36      0.34      0.35       117\n",
      "                  target_spot       0.31      0.29      0.30       115\n",
      "          tomato_mosaic_virus       0.27      0.35      0.30        54\n",
      "tomato_yellow_leaf_curl_virus       0.50      0.48      0.49       114\n",
      "      two-spotted_spider_mite       0.41      0.37      0.39       128\n",
      "\n",
      "                     accuracy                           0.41      1140\n",
      "                    macro avg       0.40      0.41      0.40      1140\n",
      "                 weighted avg       0.41      0.41      0.41      1140\n",
      "\n",
      "[[39 26  1  8  4  6 10  4 11  6]\n",
      " [16 33  6 12 10  8 12  7  9  7]\n",
      " [ 2  3 92  2  2  5 12  2  2  3]\n",
      " [12  8 10 41  9 17 13  6  2  7]\n",
      " [ 6  6  5 10 70  8  1  8  8  5]\n",
      " [10 12  5 11 16 40  2  7  6  8]\n",
      " [16 14 12  7  5  6 33  6  2 14]\n",
      " [ 4  1  1  2  8  6  5 19  1  7]\n",
      " [13  7  4  6  3 12  0  2 55 12]\n",
      " [ 6 11  5 11  3  4 18 10 13 47]]\n"
     ]
    }
   ],
   "source": [
    "y_predict = classifier_tree.fit(Ftrain, Ltrain).predict(Ftest)\n",
    "class_names = target.unique()\n",
    "print(classification_report(Ltest, y_predict, target_names=class_names))\n",
    "print(confusion_matrix(Ltest, y_predict))"
   ]
  },
  {
   "cell_type": "markdown",
   "id": "c9daaaee",
   "metadata": {},
   "source": [
    "# KNN on grayscale data"
   ]
  },
  {
   "cell_type": "code",
   "execution_count": 27,
   "id": "57a9845e",
   "metadata": {},
   "outputs": [],
   "source": [
    "#reading numpy array data\n",
    "gray_test = np.load('gray_test.npy')\n",
    "#reading csv file\n",
    "gray_df = pd.read_csv('gray_data.csv')"
   ]
  },
  {
   "cell_type": "code",
   "execution_count": 28,
   "id": "25d4fea2",
   "metadata": {},
   "outputs": [],
   "source": [
    "loaded = []\n",
    "for i in gray_test:\n",
    "    k = []\n",
    "    k = np.asarray(i,dtype='uint8')\n",
    "    loaded.append(k)"
   ]
  },
  {
   "cell_type": "code",
   "execution_count": 29,
   "id": "d3abef95",
   "metadata": {},
   "outputs": [],
   "source": [
    "features = loaded\n",
    "target = gray_df['disease']\n",
    "Ftrain,Ftest,Ltrain,Ltest=train_test_split(features,target, test_size=0.20, random_state=20)\n",
    "Ftrain = norm.fit_transform(Ftrain)\n",
    "Ftest = norm.fit_transform(Ftest)"
   ]
  },
  {
   "cell_type": "code",
   "execution_count": 30,
   "id": "6f75adfd",
   "metadata": {},
   "outputs": [
    {
     "data": {
      "text/plain": [
       "0.3473684210526316"
      ]
     },
     "execution_count": 30,
     "metadata": {},
     "output_type": "execute_result"
    }
   ],
   "source": [
    "kmodel.fit(Ftrain,Ltrain)\n",
    "kmodel.score(Ftest,Ltest)"
   ]
  },
  {
   "cell_type": "code",
   "execution_count": 31,
   "id": "77baa349",
   "metadata": {},
   "outputs": [
    {
     "name": "stdout",
     "output_type": "stream",
     "text": [
      "                               precision    recall  f1-score   support\n",
      "\n",
      "               bacterial_spot       0.26      0.69      0.37       124\n",
      "                 early_blight       0.00      0.00      0.00       114\n",
      "                      healthy       0.37      0.59      0.46       131\n",
      "                  late_blight       0.32      0.21      0.25       124\n",
      "                    leaf_mold       0.47      0.50      0.49       117\n",
      "           septoria_leaf_spot       0.23      0.39      0.29       114\n",
      "                  target_spot       0.40      0.07      0.12       111\n",
      "          tomato_mosaic_virus       0.30      0.15      0.20        60\n",
      "tomato_yellow_leaf_curl_virus       0.49      0.17      0.26       121\n",
      "      two-spotted_spider_mite       0.62      0.53      0.57       124\n",
      "\n",
      "                     accuracy                           0.35      1140\n",
      "                    macro avg       0.35      0.33      0.30      1140\n",
      "                 weighted avg       0.35      0.35      0.31      1140\n",
      "\n",
      "[[86  0 13 10  1 13  0  0  1  0]\n",
      " [80  0  3  1 12  7  4  2  4  1]\n",
      " [ 5  0 77  4  4 36  0  1  2  2]\n",
      " [26  1 29 26 21 13  0  0  7  1]\n",
      " [ 9  0 22  5 59 14  2  2  3  1]\n",
      " [14  0 23 10 13 44  1  3  1  5]\n",
      " [60  0  9  5  1 15  8  2  0 11]\n",
      " [ 0  0 10  5  9 17  0  9  1  9]\n",
      " [33  0 15 10  5 17  1  8 21 11]\n",
      " [22  1  5  5  0 15  4  3  3 66]]\n"
     ]
    }
   ],
   "source": [
    "#printing results of the kmodel\n",
    "y_predict = kmodel.fit(Ftrain, Ltrain).predict(Ftest)\n",
    "class_names = target.unique()\n",
    "print(classification_report(Ltest, y_predict, target_names=class_names))\n",
    "print(confusion_matrix(Ltest, y_predict))"
   ]
  },
  {
   "cell_type": "markdown",
   "id": "197eedfc",
   "metadata": {},
   "source": [
    "# Logistic on grayscale data"
   ]
  },
  {
   "cell_type": "code",
   "execution_count": 32,
   "id": "9fd6cafe",
   "metadata": {},
   "outputs": [
    {
     "data": {
      "text/plain": [
       "0.3736842105263158"
      ]
     },
     "execution_count": 32,
     "metadata": {},
     "output_type": "execute_result"
    }
   ],
   "source": [
    "from sklearn.linear_model import LogisticRegression\n",
    "model=LogisticRegression(solver='lbfgs', max_iter=10000)\n",
    "model.fit(Ftrain,Ltrain)\n",
    "model.score(Ftest,Ltest)"
   ]
  },
  {
   "cell_type": "code",
   "execution_count": 33,
   "id": "20a6d97e",
   "metadata": {},
   "outputs": [
    {
     "name": "stdout",
     "output_type": "stream",
     "text": [
      "                               precision    recall  f1-score   support\n",
      "\n",
      "               bacterial_spot       0.46      0.43      0.44       124\n",
      "                 early_blight       0.33      0.36      0.34       114\n",
      "                      healthy       0.38      0.66      0.48       131\n",
      "                  late_blight       0.37      0.11      0.17       124\n",
      "                    leaf_mold       0.49      0.52      0.51       117\n",
      "           septoria_leaf_spot       0.23      0.11      0.15       114\n",
      "                  target_spot       0.32      0.32      0.32       111\n",
      "          tomato_mosaic_virus       0.00      0.00      0.00        60\n",
      "tomato_yellow_leaf_curl_virus       0.28      0.37      0.32       121\n",
      "      two-spotted_spider_mite       0.42      0.63      0.50       124\n",
      "\n",
      "                     accuracy                           0.37      1140\n",
      "                    macro avg       0.33      0.35      0.32      1140\n",
      "                 weighted avg       0.35      0.37      0.34      1140\n",
      "\n",
      "[[53 14 21  3  1  3  9  0  5 15]\n",
      " [17 41  4  2  6  2 17  0 10 15]\n",
      " [ 1  2 86  2  4  9 14  0  7  6]\n",
      " [ 5 16 37 14 20  8  7  0 12  5]\n",
      " [ 5  5  9  7 61  8  4  0 10  8]\n",
      " [ 9  8 29  4 21 13  7  0 11 12]\n",
      " [15 15  5  2  4  2 35  0 12 21]\n",
      " [ 0  0  6  0  7  3  3  0 35  6]\n",
      " [10 16 20  4  0  2  3  0 45 21]\n",
      " [ 0  9  9  0  0  6 11  0 11 78]]\n"
     ]
    },
    {
     "name": "stderr",
     "output_type": "stream",
     "text": [
      "C:\\Users\\ravic\\anaconda3\\lib\\site-packages\\sklearn\\metrics\\_classification.py:1248: UndefinedMetricWarning: Precision and F-score are ill-defined and being set to 0.0 in labels with no predicted samples. Use `zero_division` parameter to control this behavior.\n",
      "  _warn_prf(average, modifier, msg_start, len(result))\n",
      "C:\\Users\\ravic\\anaconda3\\lib\\site-packages\\sklearn\\metrics\\_classification.py:1248: UndefinedMetricWarning: Precision and F-score are ill-defined and being set to 0.0 in labels with no predicted samples. Use `zero_division` parameter to control this behavior.\n",
      "  _warn_prf(average, modifier, msg_start, len(result))\n",
      "C:\\Users\\ravic\\anaconda3\\lib\\site-packages\\sklearn\\metrics\\_classification.py:1248: UndefinedMetricWarning: Precision and F-score are ill-defined and being set to 0.0 in labels with no predicted samples. Use `zero_division` parameter to control this behavior.\n",
      "  _warn_prf(average, modifier, msg_start, len(result))\n"
     ]
    }
   ],
   "source": [
    "#classification report\n",
    "y_predict = model.fit(Ftrain, Ltrain).predict(Ftest)\n",
    "class_names = target.unique()\n",
    "print(classification_report(Ltest, y_predict, target_names=class_names))\n",
    "print(confusion_matrix(Ltest, y_predict))"
   ]
  },
  {
   "cell_type": "markdown",
   "id": "5284f869",
   "metadata": {},
   "source": [
    "# SVM on Grayscale data"
   ]
  },
  {
   "cell_type": "code",
   "execution_count": 34,
   "id": "d0db5c80",
   "metadata": {},
   "outputs": [
    {
     "name": "stdout",
     "output_type": "stream",
     "text": [
      "0.3701754385964912\n"
     ]
    }
   ],
   "source": [
    "clf = SVC(kernel='linear')\n",
    "clf.fit(Ftrain,Ltrain)\n",
    "y_pred = clf.predict(Ftest)\n",
    "print(accuracy_score(Ltest,y_pred))"
   ]
  },
  {
   "cell_type": "code",
   "execution_count": 35,
   "id": "bcddcf24",
   "metadata": {},
   "outputs": [
    {
     "name": "stdout",
     "output_type": "stream",
     "text": [
      "                               precision    recall  f1-score   support\n",
      "\n",
      "               bacterial_spot       0.46      0.34      0.39       124\n",
      "                 early_blight       0.34      0.33      0.33       114\n",
      "                      healthy       0.37      0.69      0.48       131\n",
      "                  late_blight       0.43      0.08      0.14       124\n",
      "                    leaf_mold       0.56      0.46      0.50       117\n",
      "           septoria_leaf_spot       0.21      0.18      0.20       114\n",
      "                  target_spot       0.32      0.43      0.37       111\n",
      "          tomato_mosaic_virus       0.00      0.00      0.00        60\n",
      "tomato_yellow_leaf_curl_virus       0.29      0.38      0.33       121\n",
      "      two-spotted_spider_mite       0.44      0.59      0.51       124\n",
      "\n",
      "                     accuracy                           0.37      1140\n",
      "                    macro avg       0.34      0.35      0.32      1140\n",
      "                 weighted avg       0.36      0.37      0.34      1140\n",
      "\n",
      "[[42 17 23  1  1  4 14  0  7 15]\n",
      " [16 38  4  1  5  4 19  0 11 16]\n",
      " [ 0  1 90  0  1 14 17  0  6  2]\n",
      " [ 8 14 45 10 12 13  6  0 13  3]\n",
      " [ 4  5 15  6 54 10  4  0 11  8]\n",
      " [ 4  7 30  3 17 21 16  0 11  5]\n",
      " [10 10  5  0  3  6 48  0 10 19]\n",
      " [ 0  0  4  0  4 14  2  0 30  6]\n",
      " [ 7 13 22  2  0  7  6  0 46 18]\n",
      " [ 0  8  8  0  0  7 16  0 12 73]]\n"
     ]
    },
    {
     "name": "stderr",
     "output_type": "stream",
     "text": [
      "C:\\Users\\ravic\\anaconda3\\lib\\site-packages\\sklearn\\metrics\\_classification.py:1248: UndefinedMetricWarning: Precision and F-score are ill-defined and being set to 0.0 in labels with no predicted samples. Use `zero_division` parameter to control this behavior.\n",
      "  _warn_prf(average, modifier, msg_start, len(result))\n",
      "C:\\Users\\ravic\\anaconda3\\lib\\site-packages\\sklearn\\metrics\\_classification.py:1248: UndefinedMetricWarning: Precision and F-score are ill-defined and being set to 0.0 in labels with no predicted samples. Use `zero_division` parameter to control this behavior.\n",
      "  _warn_prf(average, modifier, msg_start, len(result))\n",
      "C:\\Users\\ravic\\anaconda3\\lib\\site-packages\\sklearn\\metrics\\_classification.py:1248: UndefinedMetricWarning: Precision and F-score are ill-defined and being set to 0.0 in labels with no predicted samples. Use `zero_division` parameter to control this behavior.\n",
      "  _warn_prf(average, modifier, msg_start, len(result))\n"
     ]
    }
   ],
   "source": [
    "#classification report\n",
    "y_predict = clf.fit(Ftrain, Ltrain).predict(Ftest)\n",
    "class_names = target.unique()\n",
    "print(classification_report(Ltest, y_predict, target_names=class_names))\n",
    "print(confusion_matrix(Ltest, y_predict))"
   ]
  },
  {
   "cell_type": "markdown",
   "id": "576fd580",
   "metadata": {},
   "source": [
    "# Random Forest on Grayscale"
   ]
  },
  {
   "cell_type": "code",
   "execution_count": 36,
   "id": "9dfa979e",
   "metadata": {},
   "outputs": [
    {
     "data": {
      "text/plain": [
       "RandomForestClassifier(max_depth=5, n_jobs=-1, oob_score=True, random_state=42)"
      ]
     },
     "execution_count": 36,
     "metadata": {},
     "output_type": "execute_result"
    }
   ],
   "source": [
    "classifier_rf.fit(Ftrain, Ltrain)"
   ]
  },
  {
   "cell_type": "code",
   "execution_count": 37,
   "id": "2b4347ef",
   "metadata": {},
   "outputs": [
    {
     "data": {
      "text/plain": [
       "0.42377714411055056"
      ]
     },
     "execution_count": 37,
     "metadata": {},
     "output_type": "execute_result"
    }
   ],
   "source": [
    "classifier_rf.oob_score_"
   ]
  },
  {
   "cell_type": "code",
   "execution_count": 38,
   "id": "9263c32f",
   "metadata": {},
   "outputs": [
    {
     "name": "stdout",
     "output_type": "stream",
     "text": [
      "                               precision    recall  f1-score   support\n",
      "\n",
      "               bacterial_spot       0.43      0.56      0.49       124\n",
      "                 early_blight       0.35      0.28      0.31       114\n",
      "                      healthy       0.52      0.69      0.59       131\n",
      "                  late_blight       0.57      0.32      0.41       124\n",
      "                    leaf_mold       0.50      0.55      0.52       117\n",
      "           septoria_leaf_spot       0.29      0.24      0.26       114\n",
      "                  target_spot       0.41      0.65      0.50       111\n",
      "          tomato_mosaic_virus       0.00      0.00      0.00        60\n",
      "tomato_yellow_leaf_curl_virus       0.44      0.30      0.35       121\n",
      "      two-spotted_spider_mite       0.44      0.59      0.51       124\n",
      "\n",
      "                     accuracy                           0.44      1140\n",
      "                    macro avg       0.40      0.42      0.40      1140\n",
      "                 weighted avg       0.42      0.44      0.42      1140\n",
      "\n",
      "[[70  9 11  9  1  7 12  0  4  1]\n",
      " [39 32  4  1  8  2 15  0  6  7]\n",
      " [ 0  0 90  1  7 18 12  0  0  3]\n",
      " [14 22 14 40 13  9  5  0  3  4]\n",
      " [ 4  3 15  2 64  8  9  0  7  5]\n",
      " [ 3  5 17  7 18 27 12  0 11 14]\n",
      " [ 4  9  6  0  0  2 72  0  3 15]\n",
      " [ 0  0  5  0 13  6  4  0  9 23]\n",
      " [18 10 10 10  5  9  3  0 36 20]\n",
      " [ 9  2  2  0  0  4 31  0  3 73]]\n"
     ]
    },
    {
     "name": "stderr",
     "output_type": "stream",
     "text": [
      "C:\\Users\\ravic\\anaconda3\\lib\\site-packages\\sklearn\\metrics\\_classification.py:1248: UndefinedMetricWarning: Precision and F-score are ill-defined and being set to 0.0 in labels with no predicted samples. Use `zero_division` parameter to control this behavior.\n",
      "  _warn_prf(average, modifier, msg_start, len(result))\n",
      "C:\\Users\\ravic\\anaconda3\\lib\\site-packages\\sklearn\\metrics\\_classification.py:1248: UndefinedMetricWarning: Precision and F-score are ill-defined and being set to 0.0 in labels with no predicted samples. Use `zero_division` parameter to control this behavior.\n",
      "  _warn_prf(average, modifier, msg_start, len(result))\n",
      "C:\\Users\\ravic\\anaconda3\\lib\\site-packages\\sklearn\\metrics\\_classification.py:1248: UndefinedMetricWarning: Precision and F-score are ill-defined and being set to 0.0 in labels with no predicted samples. Use `zero_division` parameter to control this behavior.\n",
      "  _warn_prf(average, modifier, msg_start, len(result))\n"
     ]
    }
   ],
   "source": [
    "y_predict = classifier_rf.fit(Ftrain, Ltrain).predict(Ftest)\n",
    "class_names = target.unique()\n",
    "print(classification_report(Ltest, y_predict, target_names=class_names))\n",
    "print(confusion_matrix(Ltest, y_predict))"
   ]
  },
  {
   "cell_type": "markdown",
   "id": "8befce61",
   "metadata": {},
   "source": [
    "# Naive bayes on Grayscale"
   ]
  },
  {
   "cell_type": "code",
   "execution_count": 39,
   "id": "0d1a6d3b",
   "metadata": {},
   "outputs": [
    {
     "data": {
      "text/plain": [
       "GaussianNB()"
      ]
     },
     "execution_count": 39,
     "metadata": {},
     "output_type": "execute_result"
    }
   ],
   "source": [
    "gnb.fit(Ftrain, Ltrain)"
   ]
  },
  {
   "cell_type": "code",
   "execution_count": 40,
   "id": "053c9a09",
   "metadata": {},
   "outputs": [
    {
     "data": {
      "text/plain": [
       "0.38859649122807016"
      ]
     },
     "execution_count": 40,
     "metadata": {},
     "output_type": "execute_result"
    }
   ],
   "source": [
    "y_pred = gnb.predict(Ftest)\n",
    "metrics.accuracy_score(Ltest, y_pred)"
   ]
  },
  {
   "cell_type": "code",
   "execution_count": 41,
   "id": "22c98d80",
   "metadata": {},
   "outputs": [
    {
     "name": "stdout",
     "output_type": "stream",
     "text": [
      "                               precision    recall  f1-score   support\n",
      "\n",
      "               bacterial_spot       0.49      0.56      0.52       124\n",
      "                 early_blight       0.37      0.51      0.43       114\n",
      "                      healthy       0.39      0.63      0.48       131\n",
      "                  late_blight       0.39      0.20      0.27       124\n",
      "                    leaf_mold       0.55      0.43      0.48       117\n",
      "           septoria_leaf_spot       0.24      0.12      0.16       114\n",
      "                  target_spot       0.41      0.32      0.36       111\n",
      "          tomato_mosaic_virus       0.26      0.63      0.37        60\n",
      "tomato_yellow_leaf_curl_virus       0.27      0.15      0.19       121\n",
      "      two-spotted_spider_mite       0.44      0.44      0.44       124\n",
      "\n",
      "                     accuracy                           0.39      1140\n",
      "                    macro avg       0.38      0.40      0.37      1140\n",
      "                 weighted avg       0.39      0.39      0.37      1140\n",
      "\n",
      "[[69 15 16  3  0  8  3  3  2  5]\n",
      " [15 58  1 12  3  2 10  2  7  4]\n",
      " [ 0  0 82  4  8  7 11  6 12  1]\n",
      " [ 2 31 38 25  6  4  5 11  2  0]\n",
      " [ 2  5 16  7 50  3  5 16  7  6]\n",
      " [12  4 27  5 16 14  5 22  4  5]\n",
      " [22 19  0  3  3  4 35  3  5 17]\n",
      " [ 2  0  5  0  4  4  0 38  4  3]\n",
      " [11 13 18  5  0  8  5 16 18 27]\n",
      " [ 5 11  7  0  1  4  7 29  6 54]]\n"
     ]
    }
   ],
   "source": [
    "class_names = target.unique()\n",
    "print(classification_report(Ltest, y_pred, target_names=class_names))\n",
    "print(confusion_matrix(Ltest, y_pred))"
   ]
  },
  {
   "cell_type": "markdown",
   "id": "9a562db7",
   "metadata": {},
   "source": [
    "# Decision Tree on Grayscale"
   ]
  },
  {
   "cell_type": "code",
   "execution_count": 42,
   "id": "a4e9cd0d",
   "metadata": {},
   "outputs": [
    {
     "data": {
      "text/plain": [
       "0.3307017543859649"
      ]
     },
     "execution_count": 42,
     "metadata": {},
     "output_type": "execute_result"
    }
   ],
   "source": [
    "classifier_tree.fit(Ftrain, Ltrain)\n",
    "classifier_tree.score(Ftest,Ltest)"
   ]
  },
  {
   "cell_type": "code",
   "execution_count": 43,
   "id": "523c3773",
   "metadata": {},
   "outputs": [
    {
     "name": "stdout",
     "output_type": "stream",
     "text": [
      "                               precision    recall  f1-score   support\n",
      "\n",
      "               bacterial_spot       0.37      0.40      0.38       124\n",
      "                 early_blight       0.20      0.22      0.21       114\n",
      "                      healthy       0.62      0.46      0.53       131\n",
      "                  late_blight       0.35      0.33      0.34       124\n",
      "                    leaf_mold       0.33      0.33      0.33       117\n",
      "           septoria_leaf_spot       0.27      0.31      0.29       114\n",
      "                  target_spot       0.21      0.21      0.21       111\n",
      "          tomato_mosaic_virus       0.17      0.22      0.19        60\n",
      "tomato_yellow_leaf_curl_virus       0.27      0.26      0.27       121\n",
      "      two-spotted_spider_mite       0.36      0.35      0.36       124\n",
      "\n",
      "                     accuracy                           0.32      1140\n",
      "                    macro avg       0.32      0.31      0.31      1140\n",
      "                 weighted avg       0.33      0.32      0.32      1140\n",
      "\n",
      "[[49 15  3 12  8 10  4  3  9 11]\n",
      " [22 25  3  9  7  9 12  2 15 10]\n",
      " [ 5  6 60  7  8 15 10  8  6  6]\n",
      " [13 20  4 41 10  9  7  9  7  4]\n",
      " [ 5 11  3 12 39 17  7  8 10  5]\n",
      " [11 12  7  8  9 35  9 12  4  7]\n",
      " [ 7 13  8  9  8 10 23  3 13 17]\n",
      " [ 1  1  4  6  9  9  5 13 10  2]\n",
      " [14 14  3  3 11  9 14  8 32 13]\n",
      " [ 5 10  2 11  8  7 18  9 11 43]]\n"
     ]
    }
   ],
   "source": [
    "y_predict = classifier_tree.fit(Ftrain, Ltrain).predict(Ftest)\n",
    "class_names = target.unique()\n",
    "print(classification_report(Ltest, y_predict, target_names=class_names))\n",
    "print(confusion_matrix(Ltest, y_predict))"
   ]
  },
  {
   "cell_type": "markdown",
   "id": "e42f549f",
   "metadata": {},
   "source": [
    "# KNN on Red channel data"
   ]
  },
  {
   "cell_type": "code",
   "execution_count": 44,
   "id": "cb75cbbd",
   "metadata": {},
   "outputs": [],
   "source": [
    "#reading numpy array data\n",
    "gray_test = np.load('red_data.npy')\n",
    "#reading csv file\n",
    "gray_df = pd.read_csv('red_data.csv')"
   ]
  },
  {
   "cell_type": "code",
   "execution_count": 45,
   "id": "7fda7839",
   "metadata": {},
   "outputs": [],
   "source": [
    "loaded = []\n",
    "for i in gray_test:\n",
    "    k = []\n",
    "    k = np.asarray(i,dtype='uint8')\n",
    "    loaded.append(k)\n",
    "features = loaded\n",
    "target = gray_df['disease']\n",
    "Ftrain,Ftest,Ltrain,Ltest=train_test_split(features,target, test_size=0.20, random_state=20)\n",
    "Ftrain = norm.fit_transform(Ftrain)\n",
    "Ftest = norm.fit_transform(Ftest)"
   ]
  },
  {
   "cell_type": "code",
   "execution_count": 46,
   "id": "683839f2",
   "metadata": {},
   "outputs": [
    {
     "data": {
      "text/plain": [
       "0.3763157894736842"
      ]
     },
     "execution_count": 46,
     "metadata": {},
     "output_type": "execute_result"
    }
   ],
   "source": [
    "kmodel.fit(Ftrain,Ltrain)\n",
    "kmodel.score(Ftest,Ltest)"
   ]
  },
  {
   "cell_type": "code",
   "execution_count": 47,
   "id": "53bc7b93",
   "metadata": {},
   "outputs": [
    {
     "name": "stdout",
     "output_type": "stream",
     "text": [
      "                               precision    recall  f1-score   support\n",
      "\n",
      "               bacterial_spot       0.32      0.68      0.44       124\n",
      "                 early_blight       0.00      0.00      0.00       114\n",
      "                      healthy       0.34      0.69      0.45       131\n",
      "                  late_blight       0.43      0.26      0.32       124\n",
      "                    leaf_mold       0.60      0.44      0.51       117\n",
      "           septoria_leaf_spot       0.21      0.29      0.24       114\n",
      "                  target_spot       0.38      0.16      0.23       111\n",
      "          tomato_mosaic_virus       0.51      0.42      0.46        60\n",
      "tomato_yellow_leaf_curl_virus       0.45      0.23      0.31       121\n",
      "      two-spotted_spider_mite       0.50      0.54      0.52       124\n",
      "\n",
      "                     accuracy                           0.38      1140\n",
      "                    macro avg       0.37      0.37      0.35      1140\n",
      "                 weighted avg       0.37      0.38      0.35      1140\n",
      "\n",
      "[[84  1 13  9  1 13  1  0  2  0]\n",
      " [61  0  8  0  6  9  9  4  8  9]\n",
      " [ 1  0 90  4  1 30  0  1  4  0]\n",
      " [21  1 31 32 11 17  2  2  6  1]\n",
      " [ 7  0 29  3 52 10  4  2  6  4]\n",
      " [11  0 33 11  9 33  3  6  2  6]\n",
      " [37  0 23  2  0 15 18  0  2 14]\n",
      " [ 0  0  7  2  5  7  1 25  1 12]\n",
      " [23  0 17 10  1 12  2  8 28 20]\n",
      " [15  0 14  2  0 14  8  1  3 67]]\n"
     ]
    }
   ],
   "source": [
    "#printing results of the kmodel\n",
    "y_predict = kmodel.fit(Ftrain, Ltrain).predict(Ftest)\n",
    "class_names = target.unique()\n",
    "print(classification_report(Ltest, y_predict, target_names=class_names))\n",
    "print(confusion_matrix(Ltest, y_predict))"
   ]
  },
  {
   "cell_type": "markdown",
   "id": "ffcda594",
   "metadata": {},
   "source": [
    "# Logistic on Red channel data"
   ]
  },
  {
   "cell_type": "code",
   "execution_count": 48,
   "id": "1ed4037b",
   "metadata": {},
   "outputs": [
    {
     "data": {
      "text/plain": [
       "0.38596491228070173"
      ]
     },
     "execution_count": 48,
     "metadata": {},
     "output_type": "execute_result"
    }
   ],
   "source": [
    "model.fit(Ftrain,Ltrain)\n",
    "model.score(Ftest,Ltest)"
   ]
  },
  {
   "cell_type": "code",
   "execution_count": 49,
   "id": "22b11f2e",
   "metadata": {},
   "outputs": [
    {
     "name": "stdout",
     "output_type": "stream",
     "text": [
      "                               precision    recall  f1-score   support\n",
      "\n",
      "               bacterial_spot       0.43      0.45      0.44       124\n",
      "                 early_blight       0.27      0.24      0.25       114\n",
      "                      healthy       0.44      0.70      0.54       131\n",
      "                  late_blight       0.35      0.17      0.23       124\n",
      "                    leaf_mold       0.49      0.52      0.50       117\n",
      "           septoria_leaf_spot       0.25      0.13      0.17       114\n",
      "                  target_spot       0.34      0.35      0.35       111\n",
      "          tomato_mosaic_virus       0.00      0.00      0.00        60\n",
      "tomato_yellow_leaf_curl_virus       0.30      0.40      0.35       121\n",
      "      two-spotted_spider_mite       0.44      0.65      0.52       124\n",
      "\n",
      "                     accuracy                           0.39      1140\n",
      "                    macro avg       0.33      0.36      0.34      1140\n",
      "                 weighted avg       0.35      0.39      0.36      1140\n",
      "\n",
      "[[56 13 16  9  1  6 10  0  3 10]\n",
      " [25 27  4  3  4  4 23  0 12 12]\n",
      " [ 0  1 92  2  4 12 11  0  5  4]\n",
      " [ 8 12 31 21 22  7  7  0 13  3]\n",
      " [ 7  3 14  8 61  6  3  0  8  7]\n",
      " [ 8 10 19 11 22 15  8  0  8 13]\n",
      " [13 17  6  0  1  3 39  0 11 21]\n",
      " [ 0  0  2  0  7  0  1  0 40 10]\n",
      " [12 11 15  6  3  2  1  0 49 22]\n",
      " [ 2  6  9  0  0  4 11  0 12 80]]\n"
     ]
    },
    {
     "name": "stderr",
     "output_type": "stream",
     "text": [
      "C:\\Users\\ravic\\anaconda3\\lib\\site-packages\\sklearn\\metrics\\_classification.py:1248: UndefinedMetricWarning: Precision and F-score are ill-defined and being set to 0.0 in labels with no predicted samples. Use `zero_division` parameter to control this behavior.\n",
      "  _warn_prf(average, modifier, msg_start, len(result))\n",
      "C:\\Users\\ravic\\anaconda3\\lib\\site-packages\\sklearn\\metrics\\_classification.py:1248: UndefinedMetricWarning: Precision and F-score are ill-defined and being set to 0.0 in labels with no predicted samples. Use `zero_division` parameter to control this behavior.\n",
      "  _warn_prf(average, modifier, msg_start, len(result))\n",
      "C:\\Users\\ravic\\anaconda3\\lib\\site-packages\\sklearn\\metrics\\_classification.py:1248: UndefinedMetricWarning: Precision and F-score are ill-defined and being set to 0.0 in labels with no predicted samples. Use `zero_division` parameter to control this behavior.\n",
      "  _warn_prf(average, modifier, msg_start, len(result))\n"
     ]
    }
   ],
   "source": [
    "#classification report\n",
    "y_predict = model.fit(Ftrain, Ltrain).predict(Ftest)\n",
    "class_names = target.unique()\n",
    "print(classification_report(Ltest, y_predict, target_names=class_names))\n",
    "print(confusion_matrix(Ltest, y_predict))"
   ]
  },
  {
   "cell_type": "markdown",
   "id": "dba6d5ce",
   "metadata": {},
   "source": [
    "# SVM on Red channel data"
   ]
  },
  {
   "cell_type": "code",
   "execution_count": 50,
   "id": "6ed153f7",
   "metadata": {},
   "outputs": [
    {
     "name": "stdout",
     "output_type": "stream",
     "text": [
      "0.39649122807017545\n"
     ]
    }
   ],
   "source": [
    "clf.fit(Ftrain,Ltrain)\n",
    "y_pred = clf.predict(Ftest)\n",
    "print(accuracy_score(Ltest,y_pred))"
   ]
  },
  {
   "cell_type": "code",
   "execution_count": 51,
   "id": "3d2d1d59",
   "metadata": {},
   "outputs": [
    {
     "name": "stdout",
     "output_type": "stream",
     "text": [
      "                               precision    recall  f1-score   support\n",
      "\n",
      "               bacterial_spot       0.51      0.46      0.49       124\n",
      "                 early_blight       0.30      0.23      0.26       114\n",
      "                      healthy       0.39      0.73      0.51       131\n",
      "                  late_blight       0.40      0.13      0.20       124\n",
      "                    leaf_mold       0.59      0.44      0.51       117\n",
      "           septoria_leaf_spot       0.22      0.16      0.18       114\n",
      "                  target_spot       0.39      0.50      0.44       111\n",
      "          tomato_mosaic_virus       0.00      0.00      0.00        60\n",
      "tomato_yellow_leaf_curl_virus       0.31      0.45      0.37       121\n",
      "      two-spotted_spider_mite       0.46      0.62      0.53       124\n",
      "\n",
      "                     accuracy                           0.40      1140\n",
      "                    macro avg       0.36      0.37      0.35      1140\n",
      "                 weighted avg       0.38      0.40      0.37      1140\n",
      "\n",
      "[[57 11 22  4  1  6 11  0  4  8]\n",
      " [21 26  3  2  4  5 25  0 14 14]\n",
      " [ 0  1 95  1  1 14 10  0  6  3]\n",
      " [ 9 13 44 16 11  9  6  0 14  2]\n",
      " [ 5  4 21  8 52  8  5  0  8  6]\n",
      " [ 4  9 28  5 14 18 12  0 11 13]\n",
      " [ 6  9  3  0  1  6 56  0 10 20]\n",
      " [ 0  0  2  0  4  4  1  0 40  9]\n",
      " [ 8  8 18  4  0  7  4  0 55 17]\n",
      " [ 1  5  8  0  0  5 15  0 13 77]]\n"
     ]
    },
    {
     "name": "stderr",
     "output_type": "stream",
     "text": [
      "C:\\Users\\ravic\\anaconda3\\lib\\site-packages\\sklearn\\metrics\\_classification.py:1248: UndefinedMetricWarning: Precision and F-score are ill-defined and being set to 0.0 in labels with no predicted samples. Use `zero_division` parameter to control this behavior.\n",
      "  _warn_prf(average, modifier, msg_start, len(result))\n",
      "C:\\Users\\ravic\\anaconda3\\lib\\site-packages\\sklearn\\metrics\\_classification.py:1248: UndefinedMetricWarning: Precision and F-score are ill-defined and being set to 0.0 in labels with no predicted samples. Use `zero_division` parameter to control this behavior.\n",
      "  _warn_prf(average, modifier, msg_start, len(result))\n",
      "C:\\Users\\ravic\\anaconda3\\lib\\site-packages\\sklearn\\metrics\\_classification.py:1248: UndefinedMetricWarning: Precision and F-score are ill-defined and being set to 0.0 in labels with no predicted samples. Use `zero_division` parameter to control this behavior.\n",
      "  _warn_prf(average, modifier, msg_start, len(result))\n"
     ]
    }
   ],
   "source": [
    "#classification report\n",
    "y_predict = clf.fit(Ftrain, Ltrain).predict(Ftest)\n",
    "class_names = target.unique()\n",
    "print(classification_report(Ltest, y_predict, target_names=class_names))\n",
    "print(confusion_matrix(Ltest, y_predict))"
   ]
  },
  {
   "cell_type": "markdown",
   "id": "a670c4d4",
   "metadata": {},
   "source": [
    "# Random forest on Red channel data"
   ]
  },
  {
   "cell_type": "code",
   "execution_count": 52,
   "id": "9e816e9e",
   "metadata": {},
   "outputs": [
    {
     "data": {
      "text/plain": [
       "0.4382540030708489"
      ]
     },
     "execution_count": 52,
     "metadata": {},
     "output_type": "execute_result"
    }
   ],
   "source": [
    "classifier_rf.fit(Ftrain, Ltrain)\n",
    "classifier_rf.oob_score_"
   ]
  },
  {
   "cell_type": "code",
   "execution_count": 53,
   "id": "6d5daf40",
   "metadata": {},
   "outputs": [
    {
     "name": "stdout",
     "output_type": "stream",
     "text": [
      "                               precision    recall  f1-score   support\n",
      "\n",
      "               bacterial_spot       0.47      0.58      0.52       124\n",
      "                 early_blight       0.33      0.22      0.26       114\n",
      "                      healthy       0.54      0.82      0.65       131\n",
      "                  late_blight       0.50      0.33      0.40       124\n",
      "                    leaf_mold       0.53      0.56      0.55       117\n",
      "           septoria_leaf_spot       0.25      0.13      0.17       114\n",
      "                  target_spot       0.44      0.64      0.52       111\n",
      "          tomato_mosaic_virus       1.00      0.05      0.10        60\n",
      "tomato_yellow_leaf_curl_virus       0.46      0.39      0.42       121\n",
      "      two-spotted_spider_mite       0.42      0.61      0.50       124\n",
      "\n",
      "                     accuracy                           0.46      1140\n",
      "                    macro avg       0.49      0.43      0.41      1140\n",
      "                 weighted avg       0.47      0.46      0.43      1140\n",
      "\n",
      "[[ 72   7  11  12   1   6   8   0   4   3]\n",
      " [ 36  25   5   1   8   3  20   0   7   9]\n",
      " [  0   0 107   2   4   7   8   0   1   2]\n",
      " [ 12  22  17  41  13   7   4   0   4   4]\n",
      " [  3   0  17   7  66   5   5   0   7   7]\n",
      " [  3   8  21   8  19  15  13   0   8  19]\n",
      " [  7   7   3   0   0   2  71   0   5  16]\n",
      " [  0   0   2   0  10   6   2   3  13  24]\n",
      " [ 15   4   7  10   4   6   5   0  47  23]\n",
      " [  5   2   7   1   0   2  24   0   7  76]]\n"
     ]
    }
   ],
   "source": [
    "y_predict = classifier_rf.fit(Ftrain, Ltrain).predict(Ftest)\n",
    "class_names = target.unique()\n",
    "print(classification_report(Ltest, y_predict, target_names=class_names))\n",
    "print(confusion_matrix(Ltest, y_predict))"
   ]
  },
  {
   "cell_type": "markdown",
   "id": "e1c2d95a",
   "metadata": {},
   "source": [
    "# Naive Bayes on Red channel data"
   ]
  },
  {
   "cell_type": "code",
   "execution_count": 54,
   "id": "8ec0753c",
   "metadata": {},
   "outputs": [
    {
     "data": {
      "text/plain": [
       "GaussianNB()"
      ]
     },
     "execution_count": 54,
     "metadata": {},
     "output_type": "execute_result"
    }
   ],
   "source": [
    "gnb.fit(Ftrain, Ltrain)"
   ]
  },
  {
   "cell_type": "code",
   "execution_count": 55,
   "id": "9bd3c55d",
   "metadata": {},
   "outputs": [
    {
     "data": {
      "text/plain": [
       "0.3894736842105263"
      ]
     },
     "execution_count": 55,
     "metadata": {},
     "output_type": "execute_result"
    }
   ],
   "source": [
    "y_pred = gnb.predict(Ftest)\n",
    "metrics.accuracy_score(Ltest, y_pred)"
   ]
  },
  {
   "cell_type": "code",
   "execution_count": 56,
   "id": "fc44e44c",
   "metadata": {},
   "outputs": [
    {
     "name": "stdout",
     "output_type": "stream",
     "text": [
      "                               precision    recall  f1-score   support\n",
      "\n",
      "               bacterial_spot       0.46      0.50      0.48       124\n",
      "                 early_blight       0.37      0.43      0.40       114\n",
      "                      healthy       0.39      0.68      0.50       131\n",
      "                  late_blight       0.42      0.23      0.30       124\n",
      "                    leaf_mold       0.51      0.45      0.48       117\n",
      "           septoria_leaf_spot       0.21      0.11      0.14       114\n",
      "                  target_spot       0.41      0.34      0.37       111\n",
      "          tomato_mosaic_virus       0.31      0.72      0.44        60\n",
      "tomato_yellow_leaf_curl_virus       0.40      0.17      0.24       121\n",
      "      two-spotted_spider_mite       0.36      0.39      0.37       124\n",
      "\n",
      "                     accuracy                           0.39      1140\n",
      "                    macro avg       0.38      0.40      0.37      1140\n",
      "                 weighted avg       0.39      0.39      0.37      1140\n",
      "\n",
      "[[62 11 18  5  0  8  9  3  0  8]\n",
      " [20 49  2 12  5  4 10  1  5  6]\n",
      " [ 0  2 89  2  8 10  6  3  7  4]\n",
      " [ 5 27 37 29  8  3  4  8  3  0]\n",
      " [ 1  5 17  8 53  4  5 15  1  8]\n",
      " [ 7  8 27  6 18 12  8 16  3  9]\n",
      " [18 15  3  2  4  2 38  3  4 22]\n",
      " [ 0  0  4  0  5  1  1 43  3  3]\n",
      " [15 10 19  5  2  9  3 11 21 26]\n",
      " [ 8  6 10  0  0  4  9 34  5 48]]\n"
     ]
    }
   ],
   "source": [
    "class_names = target.unique()\n",
    "print(classification_report(Ltest, y_pred, target_names=class_names))\n",
    "print(confusion_matrix(Ltest, y_pred))"
   ]
  },
  {
   "cell_type": "markdown",
   "id": "1aad544a",
   "metadata": {},
   "source": [
    "# Decision Tree on Red channel"
   ]
  },
  {
   "cell_type": "code",
   "execution_count": 57,
   "id": "91934650",
   "metadata": {},
   "outputs": [
    {
     "data": {
      "text/plain": [
       "0.33596491228070174"
      ]
     },
     "execution_count": 57,
     "metadata": {},
     "output_type": "execute_result"
    }
   ],
   "source": [
    "classifier_tree.fit(Ftrain, Ltrain)\n",
    "classifier_tree.score(Ftest,Ltest)"
   ]
  },
  {
   "cell_type": "code",
   "execution_count": 58,
   "id": "897d5f1e",
   "metadata": {},
   "outputs": [
    {
     "name": "stdout",
     "output_type": "stream",
     "text": [
      "                               precision    recall  f1-score   support\n",
      "\n",
      "               bacterial_spot       0.38      0.40      0.39       124\n",
      "                 early_blight       0.21      0.20      0.21       114\n",
      "                      healthy       0.58      0.50      0.54       131\n",
      "                  late_blight       0.37      0.31      0.34       124\n",
      "                    leaf_mold       0.39      0.38      0.38       117\n",
      "           septoria_leaf_spot       0.23      0.27      0.25       114\n",
      "                  target_spot       0.25      0.30      0.27       111\n",
      "          tomato_mosaic_virus       0.27      0.30      0.29        60\n",
      "tomato_yellow_leaf_curl_virus       0.29      0.29      0.29       121\n",
      "      two-spotted_spider_mite       0.36      0.34      0.35       124\n",
      "\n",
      "                     accuracy                           0.33      1140\n",
      "                    macro avg       0.33      0.33      0.33      1140\n",
      "                 weighted avg       0.34      0.33      0.34      1140\n",
      "\n",
      "[[49  9  4 12  3 16 13  3  6  9]\n",
      " [20 23  4 11  7 10 18  3 10  8]\n",
      " [11  2 66  3  7 14  9  2  6 11]\n",
      " [13 15  7 39  8 14  9  4 12  3]\n",
      " [ 6  8 10  6 44 16  2 10  9  6]\n",
      " [ 6  9  4  8 14 31 17  5 12  8]\n",
      " [ 7 13  6  8 11  8 33  1 12 12]\n",
      " [ 0  1  1  2  7  9  8 18  5  9]\n",
      " [10 13  3 11  7 12  9 11 35 10]\n",
      " [ 7 14  8  6  6  6 13  9 13 42]]\n"
     ]
    }
   ],
   "source": [
    "y_predict = classifier_tree.fit(Ftrain, Ltrain).predict(Ftest)\n",
    "class_names = target.unique()\n",
    "print(classification_report(Ltest, y_predict, target_names=class_names))\n",
    "print(confusion_matrix(Ltest, y_predict))"
   ]
  },
  {
   "cell_type": "markdown",
   "id": "21af7568",
   "metadata": {},
   "source": [
    "# KNN on green channel data"
   ]
  },
  {
   "cell_type": "code",
   "execution_count": 59,
   "id": "461b784b",
   "metadata": {},
   "outputs": [
    {
     "data": {
      "text/plain": [
       "0.32894736842105265"
      ]
     },
     "execution_count": 59,
     "metadata": {},
     "output_type": "execute_result"
    }
   ],
   "source": [
    "#reading numpy array data\n",
    "gray_test = np.load('green_data.npy')\n",
    "#reading csv file\n",
    "gray_df = pd.read_csv('green_data.csv')\n",
    "loaded = []\n",
    "for i in gray_test:\n",
    "    k = []\n",
    "    k = np.asarray(i,dtype='uint8')\n",
    "    loaded.append(k)\n",
    "features = loaded\n",
    "target = gray_df['disease']\n",
    "Ftrain,Ftest,Ltrain,Ltest=train_test_split(features,target, test_size=0.20, random_state=20)\n",
    "Ftrain = norm.fit_transform(Ftrain)\n",
    "Ftest = norm.fit_transform(Ftest)\n",
    "kmodel.fit(Ftrain,Ltrain)\n",
    "kmodel.score(Ftest,Ltest)"
   ]
  },
  {
   "cell_type": "code",
   "execution_count": 60,
   "id": "5a4d4f1d",
   "metadata": {},
   "outputs": [
    {
     "name": "stdout",
     "output_type": "stream",
     "text": [
      "                               precision    recall  f1-score   support\n",
      "\n",
      "               bacterial_spot       0.24      0.67      0.35       124\n",
      "                 early_blight       0.00      0.00      0.00       114\n",
      "                      healthy       0.36      0.56      0.44       131\n",
      "                  late_blight       0.31      0.19      0.23       124\n",
      "                    leaf_mold       0.38      0.54      0.45       117\n",
      "           septoria_leaf_spot       0.20      0.33      0.25       114\n",
      "                  target_spot       0.44      0.06      0.11       111\n",
      "          tomato_mosaic_virus       0.38      0.08      0.14        60\n",
      "tomato_yellow_leaf_curl_virus       0.51      0.17      0.26       121\n",
      "      two-spotted_spider_mite       0.66      0.50      0.57       124\n",
      "\n",
      "                     accuracy                           0.33      1140\n",
      "                    macro avg       0.35      0.31      0.28      1140\n",
      "                 weighted avg       0.35      0.33      0.29      1140\n",
      "\n",
      "[[83  0 12  7  4 16  0  0  2  0]\n",
      " [82  0  2  1 13  8  2  1  3  2]\n",
      " [ 7  0 73  5  5 36  0  1  2  2]\n",
      " [24  0 30 23 23 15  0  0  5  4]\n",
      " [10  0 20  7 63 12  1  1  3  0]\n",
      " [13  1 28  9 21 38  1  1  0  2]\n",
      " [61  0  5  6  7 14  7  0  1 10]\n",
      " [ 1  0  9  5 13 21  0  5  1  5]\n",
      " [41  0 18  6 11 13  1  3 21  7]\n",
      " [27  0  3  5  6 13  4  1  3 62]]\n"
     ]
    }
   ],
   "source": [
    "#printing results of the kmodel\n",
    "y_predict = kmodel.fit(Ftrain, Ltrain).predict(Ftest)\n",
    "class_names = target.unique()\n",
    "print(classification_report(Ltest, y_predict, target_names=class_names))\n",
    "print(confusion_matrix(Ltest, y_predict))"
   ]
  },
  {
   "cell_type": "markdown",
   "id": "71f3ea86",
   "metadata": {},
   "source": [
    "# Logistic on Green channel data"
   ]
  },
  {
   "cell_type": "code",
   "execution_count": 61,
   "id": "28dad6b2",
   "metadata": {},
   "outputs": [
    {
     "data": {
      "text/plain": [
       "0.37105263157894736"
      ]
     },
     "execution_count": 61,
     "metadata": {},
     "output_type": "execute_result"
    }
   ],
   "source": [
    "model.fit(Ftrain,Ltrain)\n",
    "model.score(Ftest,Ltest)"
   ]
  },
  {
   "cell_type": "code",
   "execution_count": 62,
   "id": "3c0993f1",
   "metadata": {},
   "outputs": [
    {
     "name": "stdout",
     "output_type": "stream",
     "text": [
      "                               precision    recall  f1-score   support\n",
      "\n",
      "               bacterial_spot       0.45      0.34      0.39       124\n",
      "                 early_blight       0.34      0.44      0.38       114\n",
      "                      healthy       0.36      0.63      0.46       131\n",
      "                  late_blight       0.36      0.13      0.19       124\n",
      "                    leaf_mold       0.47      0.50      0.49       117\n",
      "           septoria_leaf_spot       0.27      0.12      0.17       114\n",
      "                  target_spot       0.31      0.30      0.31       111\n",
      "          tomato_mosaic_virus       0.00      0.00      0.00        60\n",
      "tomato_yellow_leaf_curl_virus       0.30      0.40      0.34       121\n",
      "      two-spotted_spider_mite       0.43      0.62      0.51       124\n",
      "\n",
      "                     accuracy                           0.37      1140\n",
      "                    macro avg       0.33      0.35      0.32      1140\n",
      "                 weighted avg       0.35      0.37      0.34      1140\n",
      "\n",
      "[[42 21 22  4  2  1 10  0  8 14]\n",
      " [15 50  4  2  5  0 15  0  8 15]\n",
      " [ 1  1 83  2  5  7 16  0 11  5]\n",
      " [ 5 21 34 16 18  6  7  0 12  5]\n",
      " [ 3  5 11 11 59  7  3  0 10  8]\n",
      " [ 9  8 33  4 20 14  7  0 11  8]\n",
      " [13 13  5  2  4  4 33  0 15 22]\n",
      " [ 0  0 11  0  7  5  1  0 30  6]\n",
      " [ 5 17 17  4  3  3  4  0 49 19]\n",
      " [ 0 10  9  0  3  5  9  0 11 77]]\n"
     ]
    },
    {
     "name": "stderr",
     "output_type": "stream",
     "text": [
      "C:\\Users\\ravic\\anaconda3\\lib\\site-packages\\sklearn\\metrics\\_classification.py:1248: UndefinedMetricWarning: Precision and F-score are ill-defined and being set to 0.0 in labels with no predicted samples. Use `zero_division` parameter to control this behavior.\n",
      "  _warn_prf(average, modifier, msg_start, len(result))\n",
      "C:\\Users\\ravic\\anaconda3\\lib\\site-packages\\sklearn\\metrics\\_classification.py:1248: UndefinedMetricWarning: Precision and F-score are ill-defined and being set to 0.0 in labels with no predicted samples. Use `zero_division` parameter to control this behavior.\n",
      "  _warn_prf(average, modifier, msg_start, len(result))\n",
      "C:\\Users\\ravic\\anaconda3\\lib\\site-packages\\sklearn\\metrics\\_classification.py:1248: UndefinedMetricWarning: Precision and F-score are ill-defined and being set to 0.0 in labels with no predicted samples. Use `zero_division` parameter to control this behavior.\n",
      "  _warn_prf(average, modifier, msg_start, len(result))\n"
     ]
    }
   ],
   "source": [
    "#classification report\n",
    "y_predict = model.fit(Ftrain, Ltrain).predict(Ftest)\n",
    "class_names = target.unique()\n",
    "print(classification_report(Ltest, y_predict, target_names=class_names))\n",
    "print(confusion_matrix(Ltest, y_predict))"
   ]
  },
  {
   "cell_type": "markdown",
   "id": "f62f0223",
   "metadata": {},
   "source": [
    "# SVM on green channel data"
   ]
  },
  {
   "cell_type": "code",
   "execution_count": 63,
   "id": "e89e7297",
   "metadata": {},
   "outputs": [
    {
     "name": "stdout",
     "output_type": "stream",
     "text": [
      "0.37105263157894736\n"
     ]
    }
   ],
   "source": [
    "clf.fit(Ftrain,Ltrain)\n",
    "y_pred = clf.predict(Ftest)\n",
    "print(accuracy_score(Ltest,y_pred))"
   ]
  },
  {
   "cell_type": "code",
   "execution_count": 64,
   "id": "aaec32cf",
   "metadata": {},
   "outputs": [
    {
     "name": "stdout",
     "output_type": "stream",
     "text": [
      "                               precision    recall  f1-score   support\n",
      "\n",
      "               bacterial_spot       0.48      0.35      0.41       124\n",
      "                 early_blight       0.35      0.39      0.37       114\n",
      "                      healthy       0.34      0.62      0.44       131\n",
      "                  late_blight       0.30      0.06      0.10       124\n",
      "                    leaf_mold       0.52      0.48      0.50       117\n",
      "           septoria_leaf_spot       0.19      0.17      0.18       114\n",
      "                  target_spot       0.30      0.44      0.36       111\n",
      "          tomato_mosaic_virus       0.00      0.00      0.00        60\n",
      "tomato_yellow_leaf_curl_virus       0.34      0.36      0.35       121\n",
      "      two-spotted_spider_mite       0.49      0.64      0.55       124\n",
      "\n",
      "                     accuracy                           0.37      1140\n",
      "                    macro avg       0.33      0.35      0.32      1140\n",
      "                 weighted avg       0.35      0.37      0.34      1140\n",
      "\n",
      "[[44 16 21  1  1  7 17  0  5 12]\n",
      " [16 44  4  2  4  3 22  0  8 11]\n",
      " [ 0  1 81  0  4 12 22  0  7  4]\n",
      " [ 6 22 41  7 15 13  9  0  8  3]\n",
      " [ 3  5 17  5 56 10  4  0 11  6]\n",
      " [ 6  6 31  2 19 19 15  0  9  7]\n",
      " [10  9  4  2  2  6 49  0 10 19]\n",
      " [ 0  0  8  0  3 18  4  0 24  3]\n",
      " [ 6 15 22  4  1  5  7  0 44 17]\n",
      " [ 0  9  7  0  2  9 14  0  4 79]]\n"
     ]
    },
    {
     "name": "stderr",
     "output_type": "stream",
     "text": [
      "C:\\Users\\ravic\\anaconda3\\lib\\site-packages\\sklearn\\metrics\\_classification.py:1248: UndefinedMetricWarning: Precision and F-score are ill-defined and being set to 0.0 in labels with no predicted samples. Use `zero_division` parameter to control this behavior.\n",
      "  _warn_prf(average, modifier, msg_start, len(result))\n",
      "C:\\Users\\ravic\\anaconda3\\lib\\site-packages\\sklearn\\metrics\\_classification.py:1248: UndefinedMetricWarning: Precision and F-score are ill-defined and being set to 0.0 in labels with no predicted samples. Use `zero_division` parameter to control this behavior.\n",
      "  _warn_prf(average, modifier, msg_start, len(result))\n",
      "C:\\Users\\ravic\\anaconda3\\lib\\site-packages\\sklearn\\metrics\\_classification.py:1248: UndefinedMetricWarning: Precision and F-score are ill-defined and being set to 0.0 in labels with no predicted samples. Use `zero_division` parameter to control this behavior.\n",
      "  _warn_prf(average, modifier, msg_start, len(result))\n"
     ]
    }
   ],
   "source": [
    "#classification report\n",
    "y_predict = clf.fit(Ftrain, Ltrain).predict(Ftest)\n",
    "class_names = target.unique()\n",
    "print(classification_report(Ltest, y_predict, target_names=class_names))\n",
    "print(confusion_matrix(Ltest, y_predict))"
   ]
  },
  {
   "cell_type": "markdown",
   "id": "4f8e565e",
   "metadata": {},
   "source": [
    "# Random Forest on green channel data"
   ]
  },
  {
   "cell_type": "code",
   "execution_count": 65,
   "id": "96c92f8f",
   "metadata": {},
   "outputs": [
    {
     "data": {
      "text/plain": [
       "0.43496380785259925"
      ]
     },
     "execution_count": 65,
     "metadata": {},
     "output_type": "execute_result"
    }
   ],
   "source": [
    "classifier_rf.fit(Ftrain, Ltrain)\n",
    "classifier_rf.oob_score_"
   ]
  },
  {
   "cell_type": "code",
   "execution_count": 66,
   "id": "a855ce64",
   "metadata": {},
   "outputs": [
    {
     "name": "stdout",
     "output_type": "stream",
     "text": [
      "                               precision    recall  f1-score   support\n",
      "\n",
      "               bacterial_spot       0.46      0.54      0.50       124\n",
      "                 early_blight       0.43      0.38      0.40       114\n",
      "                      healthy       0.56      0.64      0.60       131\n",
      "                  late_blight       0.56      0.31      0.40       124\n",
      "                    leaf_mold       0.46      0.54      0.49       117\n",
      "           septoria_leaf_spot       0.28      0.39      0.33       114\n",
      "                  target_spot       0.42      0.68      0.52       111\n",
      "          tomato_mosaic_virus       0.00      0.00      0.00        60\n",
      "tomato_yellow_leaf_curl_virus       0.55      0.31      0.39       121\n",
      "      two-spotted_spider_mite       0.54      0.60      0.57       124\n",
      "\n",
      "                     accuracy                           0.46      1140\n",
      "                    macro avg       0.43      0.44      0.42      1140\n",
      "                 weighted avg       0.45      0.46      0.44      1140\n",
      "\n",
      "[[67  5  8  7  3 13 15  0  6  0]\n",
      " [34 43  4  1  4  7 12  0  3  6]\n",
      " [ 0  0 84  0  7 27 13  0  0  0]\n",
      " [13 23 12 38 14 10  6  0  4  4]\n",
      " [ 3  3 10  7 63 12 11  0  3  5]\n",
      " [ 3  0 11  8 27 45  8  0  5  7]\n",
      " [ 2  6  3  1  4  3 75  0  3 14]\n",
      " [ 0  0  7  0 10 21  5  0  5 12]\n",
      " [15 13  8  6  5 12 10  0 37 15]\n",
      " [ 8  6  3  0  1  8 22  0  1 75]]\n"
     ]
    },
    {
     "name": "stderr",
     "output_type": "stream",
     "text": [
      "C:\\Users\\ravic\\anaconda3\\lib\\site-packages\\sklearn\\metrics\\_classification.py:1248: UndefinedMetricWarning: Precision and F-score are ill-defined and being set to 0.0 in labels with no predicted samples. Use `zero_division` parameter to control this behavior.\n",
      "  _warn_prf(average, modifier, msg_start, len(result))\n",
      "C:\\Users\\ravic\\anaconda3\\lib\\site-packages\\sklearn\\metrics\\_classification.py:1248: UndefinedMetricWarning: Precision and F-score are ill-defined and being set to 0.0 in labels with no predicted samples. Use `zero_division` parameter to control this behavior.\n",
      "  _warn_prf(average, modifier, msg_start, len(result))\n",
      "C:\\Users\\ravic\\anaconda3\\lib\\site-packages\\sklearn\\metrics\\_classification.py:1248: UndefinedMetricWarning: Precision and F-score are ill-defined and being set to 0.0 in labels with no predicted samples. Use `zero_division` parameter to control this behavior.\n",
      "  _warn_prf(average, modifier, msg_start, len(result))\n"
     ]
    }
   ],
   "source": [
    "y_predict = classifier_rf.fit(Ftrain, Ltrain).predict(Ftest)\n",
    "class_names = target.unique()\n",
    "print(classification_report(Ltest, y_predict, target_names=class_names))\n",
    "print(confusion_matrix(Ltest, y_predict))"
   ]
  },
  {
   "cell_type": "markdown",
   "id": "e9b1cca9",
   "metadata": {},
   "source": [
    "# Naive bayes on Green channel data"
   ]
  },
  {
   "cell_type": "code",
   "execution_count": 67,
   "id": "1136802c",
   "metadata": {},
   "outputs": [
    {
     "data": {
      "text/plain": [
       "0.3675438596491228"
      ]
     },
     "execution_count": 67,
     "metadata": {},
     "output_type": "execute_result"
    }
   ],
   "source": [
    "gnb.fit(Ftrain, Ltrain)\n",
    "GaussianNB()\n",
    "y_pred = gnb.predict(Ftest)\n",
    "metrics.accuracy_score(Ltest, y_pred)"
   ]
  },
  {
   "cell_type": "code",
   "execution_count": 68,
   "id": "08e6f602",
   "metadata": {},
   "outputs": [
    {
     "name": "stdout",
     "output_type": "stream",
     "text": [
      "                               precision    recall  f1-score   support\n",
      "\n",
      "               bacterial_spot       0.47      0.56      0.51       124\n",
      "                 early_blight       0.36      0.47      0.41       114\n",
      "                      healthy       0.38      0.60      0.47       131\n",
      "                  late_blight       0.35      0.18      0.24       124\n",
      "                    leaf_mold       0.50      0.37      0.42       117\n",
      "           septoria_leaf_spot       0.17      0.09      0.12       114\n",
      "                  target_spot       0.42      0.31      0.36       111\n",
      "          tomato_mosaic_virus       0.24      0.60      0.34        60\n",
      "tomato_yellow_leaf_curl_virus       0.29      0.16      0.20       121\n",
      "      two-spotted_spider_mite       0.40      0.42      0.41       124\n",
      "\n",
      "                     accuracy                           0.37      1140\n",
      "                    macro avg       0.36      0.38      0.35      1140\n",
      "                 weighted avg       0.37      0.37      0.35      1140\n",
      "\n",
      "[[70 14 14  2  2  8  3  6  3  2]\n",
      " [17 54  2 12  4  2  7  3  4  9]\n",
      " [ 0  0 79  4  8  4 12  9 12  3]\n",
      " [ 3 33 29 22  5  8  5 14  4  1]\n",
      " [ 4  5 19  9 43  5  3 15  6  8]\n",
      " [13  3 26  6 17 10  5 25  4  5]\n",
      " [23 18  0  3  3  2 34  3  5 20]\n",
      " [ 3  0  8  0  3  5  0 36  3  2]\n",
      " [ 9 13 23  4  0  9  4 13 19 27]\n",
      " [ 8 12  7  0  1  6  7 26  5 52]]\n"
     ]
    }
   ],
   "source": [
    "class_names = target.unique()\n",
    "print(classification_report(Ltest, y_pred, target_names=class_names))\n",
    "print(confusion_matrix(Ltest, y_pred))"
   ]
  },
  {
   "cell_type": "markdown",
   "id": "ad497b39",
   "metadata": {},
   "source": [
    "# Decision Tree on Green channel"
   ]
  },
  {
   "cell_type": "code",
   "execution_count": 69,
   "id": "458fe744",
   "metadata": {},
   "outputs": [
    {
     "data": {
      "text/plain": [
       "0.29473684210526313"
      ]
     },
     "execution_count": 69,
     "metadata": {},
     "output_type": "execute_result"
    }
   ],
   "source": [
    "classifier_tree.fit(Ftrain, Ltrain)\n",
    "classifier_tree.score(Ftest,Ltest)"
   ]
  },
  {
   "cell_type": "code",
   "execution_count": 70,
   "id": "60ea8164",
   "metadata": {},
   "outputs": [
    {
     "name": "stdout",
     "output_type": "stream",
     "text": [
      "                               precision    recall  f1-score   support\n",
      "\n",
      "               bacterial_spot       0.43      0.38      0.40       124\n",
      "                 early_blight       0.21      0.23      0.22       114\n",
      "                      healthy       0.47      0.47      0.47       131\n",
      "                  late_blight       0.34      0.31      0.32       124\n",
      "                    leaf_mold       0.26      0.24      0.25       117\n",
      "           septoria_leaf_spot       0.24      0.26      0.25       114\n",
      "                  target_spot       0.25      0.25      0.25       111\n",
      "          tomato_mosaic_virus       0.17      0.17      0.17        60\n",
      "tomato_yellow_leaf_curl_virus       0.24      0.24      0.24       121\n",
      "      two-spotted_spider_mite       0.33      0.38      0.35       124\n",
      "\n",
      "                     accuracy                           0.30      1140\n",
      "                    macro avg       0.29      0.29      0.29      1140\n",
      "                 weighted avg       0.30      0.30      0.30      1140\n",
      "\n",
      "[[47 11  5  8  5 10 11  3 15  9]\n",
      " [15 26  5 13  7  7 11  3 16 11]\n",
      " [ 4  7 61  9  6 12  9  8 10  5]\n",
      " [ 4 15 13 38 15 10  1  6 14  8]\n",
      " [ 4 13  6  7 28 14 10 12 10 13]\n",
      " [ 9  9 11 14  9 30  7  4 10 11]\n",
      " [ 3 10 11  9  5 18 28  4  5 18]\n",
      " [ 3  3  5  4  7 11  6 10  4  7]\n",
      " [10 15  8  8 14  5 12  5 29 15]\n",
      " [11 13  5  3 10  7 17  3  8 47]]\n"
     ]
    }
   ],
   "source": [
    "y_predict = classifier_tree.fit(Ftrain, Ltrain).predict(Ftest)\n",
    "class_names = target.unique()\n",
    "print(classification_report(Ltest, y_predict, target_names=class_names))\n",
    "print(confusion_matrix(Ltest, y_predict))"
   ]
  },
  {
   "cell_type": "markdown",
   "id": "75817642",
   "metadata": {},
   "source": [
    "# KNN on blue channel data"
   ]
  },
  {
   "cell_type": "code",
   "execution_count": 71,
   "id": "531e3624",
   "metadata": {},
   "outputs": [
    {
     "data": {
      "text/plain": [
       "0.4087719298245614"
      ]
     },
     "execution_count": 71,
     "metadata": {},
     "output_type": "execute_result"
    }
   ],
   "source": [
    "#reading numpy array data\n",
    "gray_test = np.load('blue_data.npy')\n",
    "#reading csv file\n",
    "gray_df = pd.read_csv('blue_data.csv')\n",
    "loaded = []\n",
    "for i in gray_test:\n",
    "    k = []\n",
    "    k = np.asarray(i,dtype='uint8')\n",
    "    loaded.append(k)\n",
    "features = loaded\n",
    "target = gray_df['disease']\n",
    "Ftrain,Ftest,Ltrain,Ltest=train_test_split(features,target, test_size=0.20, random_state=20)\n",
    "Ftrain = norm.fit_transform(Ftrain)\n",
    "Ftest = norm.fit_transform(Ftest)\n",
    "kmodel.fit(Ftrain,Ltrain)\n",
    "kmodel.score(Ftest,Ltest)"
   ]
  },
  {
   "cell_type": "code",
   "execution_count": 72,
   "id": "1314e157",
   "metadata": {},
   "outputs": [
    {
     "name": "stdout",
     "output_type": "stream",
     "text": [
      "                               precision    recall  f1-score   support\n",
      "\n",
      "               bacterial_spot       0.23      0.84      0.36       124\n",
      "                 early_blight       0.50      0.01      0.02       114\n",
      "                      healthy       0.48      0.75      0.59       131\n",
      "                  late_blight       0.60      0.31      0.41       124\n",
      "                    leaf_mold       0.49      0.61      0.54       117\n",
      "           septoria_leaf_spot       0.45      0.32      0.37       114\n",
      "                  target_spot       0.24      0.04      0.06       111\n",
      "          tomato_mosaic_virus       0.36      0.32      0.34        60\n",
      "tomato_yellow_leaf_curl_virus       0.80      0.27      0.41       121\n",
      "      two-spotted_spider_mite       0.70      0.50      0.58       124\n",
      "\n",
      "                     accuracy                           0.41      1140\n",
      "                    macro avg       0.49      0.40      0.37      1140\n",
      "                 weighted avg       0.50      0.41      0.38      1140\n",
      "\n",
      "[[104   0  11   2   2   5   0   0   0   0]\n",
      " [ 76   1  11   4   8   3   6   2   2   1]\n",
      " [ 21   0  98   0   4   2   0   3   0   3]\n",
      " [ 28   0  25  38  21   7   0   2   2   1]\n",
      " [ 18   0  10   4  71   5   1   5   0   3]\n",
      " [ 34   0   8   3  21  36   1   9   0   2]\n",
      " [ 75   0  22   2   1   1   4   1   1   4]\n",
      " [  3   0   7   9   9   6   0  19   0   7]\n",
      " [ 55   1   0   1   6  11   0   9  33   5]\n",
      " [ 33   0  12   0   2   4   5   3   3  62]]\n"
     ]
    }
   ],
   "source": [
    "#printing results of the kmodel\n",
    "y_predict = kmodel.fit(Ftrain, Ltrain).predict(Ftest)\n",
    "class_names = target.unique()\n",
    "print(classification_report(Ltest, y_predict, target_names=class_names))\n",
    "print(confusion_matrix(Ltest, y_predict))"
   ]
  },
  {
   "cell_type": "markdown",
   "id": "f452a113",
   "metadata": {},
   "source": [
    "# logistic on blue channel data"
   ]
  },
  {
   "cell_type": "code",
   "execution_count": 73,
   "id": "de158586",
   "metadata": {},
   "outputs": [
    {
     "data": {
      "text/plain": [
       "0.47017543859649125"
      ]
     },
     "execution_count": 73,
     "metadata": {},
     "output_type": "execute_result"
    }
   ],
   "source": [
    "model.fit(Ftrain,Ltrain)\n",
    "model.score(Ftest,Ltest)"
   ]
  },
  {
   "cell_type": "code",
   "execution_count": 74,
   "id": "489ce7e9",
   "metadata": {},
   "outputs": [
    {
     "name": "stdout",
     "output_type": "stream",
     "text": [
      "                               precision    recall  f1-score   support\n",
      "\n",
      "               bacterial_spot       0.46      0.44      0.45       124\n",
      "                 early_blight       0.37      0.28      0.32       114\n",
      "                      healthy       0.56      0.75      0.64       131\n",
      "                  late_blight       0.48      0.34      0.40       124\n",
      "                    leaf_mold       0.51      0.60      0.55       117\n",
      "           septoria_leaf_spot       0.33      0.15      0.21       114\n",
      "                  target_spot       0.33      0.32      0.33       111\n",
      "          tomato_mosaic_virus       0.56      0.17      0.26        60\n",
      "tomato_yellow_leaf_curl_virus       0.53      0.81      0.64       121\n",
      "      two-spotted_spider_mite       0.45      0.64      0.53       124\n",
      "\n",
      "                     accuracy                           0.47      1140\n",
      "                    macro avg       0.46      0.45      0.43      1140\n",
      "                 weighted avg       0.46      0.47      0.45      1140\n",
      "\n",
      "[[54  7  9  3  2  3 15  0 16 15]\n",
      " [ 9 32 12 10  6  3 11  0 20 11]\n",
      " [ 2  3 98  4  1  0 18  0  0  5]\n",
      " [ 5 13 19 42 18  7  6  1  8  5]\n",
      " [ 6  4  4  5 70  6  2  0 10 10]\n",
      " [18 12  4  7 23 17  6  3 14 10]\n",
      " [16  8 21  5  0  2 36  0  5 18]\n",
      " [ 0  0  3  8 14  7  0 10  6 12]\n",
      " [ 3  2  0  2  3  2  1  1 98  9]\n",
      " [ 4  5  6  1  1  4 13  3  8 79]]\n"
     ]
    }
   ],
   "source": [
    "#classification report\n",
    "y_predict = model.fit(Ftrain, Ltrain).predict(Ftest)\n",
    "class_names = target.unique()\n",
    "print(classification_report(Ltest, y_predict, target_names=class_names))\n",
    "print(confusion_matrix(Ltest, y_predict))"
   ]
  },
  {
   "cell_type": "markdown",
   "id": "c7585c1d",
   "metadata": {},
   "source": [
    "# SVM on blue channel data"
   ]
  },
  {
   "cell_type": "code",
   "execution_count": 75,
   "id": "06fb4a0f",
   "metadata": {},
   "outputs": [
    {
     "name": "stdout",
     "output_type": "stream",
     "text": [
      "0.4842105263157895\n"
     ]
    }
   ],
   "source": [
    "clf.fit(Ftrain,Ltrain)\n",
    "y_pred = clf.predict(Ftest)\n",
    "print(accuracy_score(Ltest,y_pred))"
   ]
  },
  {
   "cell_type": "code",
   "execution_count": 76,
   "id": "03a12a5f",
   "metadata": {},
   "outputs": [
    {
     "name": "stdout",
     "output_type": "stream",
     "text": [
      "                               precision    recall  f1-score   support\n",
      "\n",
      "               bacterial_spot       0.42      0.47      0.44       124\n",
      "                 early_blight       0.36      0.24      0.29       114\n",
      "                      healthy       0.71      0.67      0.69       131\n",
      "                  late_blight       0.55      0.39      0.45       124\n",
      "                    leaf_mold       0.59      0.57      0.58       117\n",
      "           septoria_leaf_spot       0.28      0.23      0.25       114\n",
      "                  target_spot       0.35      0.50      0.41       111\n",
      "          tomato_mosaic_virus       0.60      0.10      0.17        60\n",
      "tomato_yellow_leaf_curl_virus       0.59      0.79      0.67       121\n",
      "      two-spotted_spider_mite       0.46      0.66      0.54       124\n",
      "\n",
      "                     accuracy                           0.48      1140\n",
      "                    macro avg       0.49      0.46      0.45      1140\n",
      "                 weighted avg       0.49      0.48      0.47      1140\n",
      "\n",
      "[[58  5  8  2  0  8 17  0 11 15]\n",
      " [17 27  7  8  3  8 15  0 17 12]\n",
      " [ 2  2 88  2  1  0 32  0  0  4]\n",
      " [ 6 17 10 48 12 10  8  0  8  5]\n",
      " [ 8  2  0  7 67  8  7  0  6 12]\n",
      " [21 11  0  6 19 26  9  2 10 10]\n",
      " [17  5  8  3  0  2 55  0  4 17]\n",
      " [ 0  0  0  8 10 19  1  6  3 13]\n",
      " [ 3  3  0  3  2  4  1  1 95  9]\n",
      " [ 7  3  3  1  0  7 13  1  7 82]]\n"
     ]
    }
   ],
   "source": [
    "#classification report\n",
    "y_predict = clf.fit(Ftrain, Ltrain).predict(Ftest)\n",
    "class_names = target.unique()\n",
    "print(classification_report(Ltest, y_predict, target_names=class_names))\n",
    "print(confusion_matrix(Ltest, y_predict))"
   ]
  },
  {
   "cell_type": "markdown",
   "id": "f4eb8c6c",
   "metadata": {},
   "source": [
    "# Random Forest on blue channel data"
   ]
  },
  {
   "cell_type": "code",
   "execution_count": 77,
   "id": "b71407b2",
   "metadata": {},
   "outputs": [
    {
     "data": {
      "text/plain": [
       "0.445492432550998"
      ]
     },
     "execution_count": 77,
     "metadata": {},
     "output_type": "execute_result"
    }
   ],
   "source": [
    "classifier_rf.fit(Ftrain, Ltrain)\n",
    "classifier_rf.oob_score_"
   ]
  },
  {
   "cell_type": "code",
   "execution_count": 78,
   "id": "f7d75463",
   "metadata": {},
   "outputs": [
    {
     "name": "stdout",
     "output_type": "stream",
     "text": [
      "                               precision    recall  f1-score   support\n",
      "\n",
      "               bacterial_spot       0.41      0.60      0.49       124\n",
      "                 early_blight       0.30      0.12      0.17       114\n",
      "                      healthy       0.68      0.83      0.75       131\n",
      "                  late_blight       0.63      0.32      0.43       124\n",
      "                    leaf_mold       0.56      0.59      0.57       117\n",
      "           septoria_leaf_spot       0.31      0.19      0.24       114\n",
      "                  target_spot       0.39      0.46      0.42       111\n",
      "          tomato_mosaic_virus       0.00      0.00      0.00        60\n",
      "tomato_yellow_leaf_curl_virus       0.45      0.85      0.59       121\n",
      "      two-spotted_spider_mite       0.45      0.50      0.48       124\n",
      "\n",
      "                     accuracy                           0.48      1140\n",
      "                    macro avg       0.42      0.45      0.41      1140\n",
      "                 weighted avg       0.45      0.48      0.44      1140\n",
      "\n",
      "[[ 74   4   5   4   0   6  14   0  16   1]\n",
      " [ 28  14   8   6   6   5  12   0  30   5]\n",
      " [  0   0 109   0   2   1  13   0   0   6]\n",
      " [  9  14  13  40  14  12   5   0  13   4]\n",
      " [ 10   3   0   2  69  10   4   0  12   7]\n",
      " [ 22   6   3   3  21  22   7   0  21   9]\n",
      " [ 24   2  15   1   0   2  51   0   4  12]\n",
      " [  2   0   0   4  10   8   2   0  11  23]\n",
      " [  2   3   0   2   2   1   0   0 103   8]\n",
      " [  8   0   7   1   0   5  22   0  19  62]]\n"
     ]
    },
    {
     "name": "stderr",
     "output_type": "stream",
     "text": [
      "C:\\Users\\ravic\\anaconda3\\lib\\site-packages\\sklearn\\metrics\\_classification.py:1248: UndefinedMetricWarning: Precision and F-score are ill-defined and being set to 0.0 in labels with no predicted samples. Use `zero_division` parameter to control this behavior.\n",
      "  _warn_prf(average, modifier, msg_start, len(result))\n",
      "C:\\Users\\ravic\\anaconda3\\lib\\site-packages\\sklearn\\metrics\\_classification.py:1248: UndefinedMetricWarning: Precision and F-score are ill-defined and being set to 0.0 in labels with no predicted samples. Use `zero_division` parameter to control this behavior.\n",
      "  _warn_prf(average, modifier, msg_start, len(result))\n",
      "C:\\Users\\ravic\\anaconda3\\lib\\site-packages\\sklearn\\metrics\\_classification.py:1248: UndefinedMetricWarning: Precision and F-score are ill-defined and being set to 0.0 in labels with no predicted samples. Use `zero_division` parameter to control this behavior.\n",
      "  _warn_prf(average, modifier, msg_start, len(result))\n"
     ]
    }
   ],
   "source": [
    "y_predict = classifier_rf.fit(Ftrain, Ltrain).predict(Ftest)\n",
    "class_names = target.unique()\n",
    "print(classification_report(Ltest, y_predict, target_names=class_names))\n",
    "print(confusion_matrix(Ltest, y_predict))"
   ]
  },
  {
   "cell_type": "markdown",
   "id": "fb1ca20e",
   "metadata": {},
   "source": [
    "# Naive bayes on blue channel data"
   ]
  },
  {
   "cell_type": "code",
   "execution_count": 79,
   "id": "11ea0b85",
   "metadata": {},
   "outputs": [
    {
     "data": {
      "text/plain": [
       "0.46228070175438596"
      ]
     },
     "execution_count": 79,
     "metadata": {},
     "output_type": "execute_result"
    }
   ],
   "source": [
    "gnb.fit(Ftrain, Ltrain)\n",
    "GaussianNB()\n",
    "y_pred = gnb.predict(Ftest)\n",
    "metrics.accuracy_score(Ltest, y_pred)"
   ]
  },
  {
   "cell_type": "code",
   "execution_count": 80,
   "id": "b8a32aab",
   "metadata": {},
   "outputs": [
    {
     "name": "stdout",
     "output_type": "stream",
     "text": [
      "                               precision    recall  f1-score   support\n",
      "\n",
      "               bacterial_spot       0.55      0.63      0.59       124\n",
      "                 early_blight       0.33      0.43      0.38       114\n",
      "                      healthy       0.54      0.65      0.59       131\n",
      "                  late_blight       0.38      0.15      0.22       124\n",
      "                    leaf_mold       0.62      0.56      0.59       117\n",
      "           septoria_leaf_spot       0.33      0.14      0.20       114\n",
      "                  target_spot       0.42      0.35      0.38       111\n",
      "          tomato_mosaic_virus       0.31      0.77      0.44        60\n",
      "tomato_yellow_leaf_curl_virus       0.61      0.62      0.61       121\n",
      "      two-spotted_spider_mite       0.42      0.44      0.43       124\n",
      "\n",
      "                     accuracy                           0.46      1140\n",
      "                    macro avg       0.45      0.47      0.44      1140\n",
      "                 weighted avg       0.46      0.46      0.45      1140\n",
      "\n",
      "[[78 10  8  1  0  7  4  1  7  8]\n",
      " [14 49  5 12  4  4  4  1 14  7]\n",
      " [ 0  4 85  3  6  0 21  5  0  7]\n",
      " [ 2 34 23 19  6  2  7 21  6  4]\n",
      " [ 5  7  5  4 66  2  3 12  4  9]\n",
      " [24  7  4  5 16 16  1 23  7 11]\n",
      " [15 19 12  2  2  5 39  3  3 11]\n",
      " [ 0  0  1  0  5  3  0 46  2  3]\n",
      " [ 1 13  0  2  1  5  0  9 75 15]\n",
      " [ 2  4 13  2  1  4 13 26  5 54]]\n"
     ]
    }
   ],
   "source": [
    "class_names = target.unique()\n",
    "print(classification_report(Ltest, y_pred, target_names=class_names))\n",
    "print(confusion_matrix(Ltest, y_pred))"
   ]
  },
  {
   "cell_type": "markdown",
   "id": "f125f7c4",
   "metadata": {},
   "source": [
    "# Decision Tree on blue channel"
   ]
  },
  {
   "cell_type": "code",
   "execution_count": 81,
   "id": "88bfbe14",
   "metadata": {},
   "outputs": [
    {
     "data": {
      "text/plain": [
       "0.34912280701754383"
      ]
     },
     "execution_count": 81,
     "metadata": {},
     "output_type": "execute_result"
    }
   ],
   "source": [
    "classifier_tree.fit(Ftrain, Ltrain)\n",
    "classifier_tree.score(Ftest,Ltest)"
   ]
  },
  {
   "cell_type": "code",
   "execution_count": 82,
   "id": "6e2c73b8",
   "metadata": {},
   "outputs": [
    {
     "name": "stdout",
     "output_type": "stream",
     "text": [
      "                               precision    recall  f1-score   support\n",
      "\n",
      "               bacterial_spot       0.43      0.39      0.41       124\n",
      "                 early_blight       0.20      0.23      0.21       114\n",
      "                      healthy       0.69      0.60      0.64       131\n",
      "                  late_blight       0.33      0.28      0.30       124\n",
      "                    leaf_mold       0.44      0.44      0.44       117\n",
      "           septoria_leaf_spot       0.19      0.22      0.21       114\n",
      "                  target_spot       0.28      0.32      0.30       111\n",
      "          tomato_mosaic_virus       0.23      0.17      0.19        60\n",
      "tomato_yellow_leaf_curl_virus       0.42      0.40      0.41       121\n",
      "      two-spotted_spider_mite       0.37      0.43      0.39       124\n",
      "\n",
      "                     accuracy                           0.36      1140\n",
      "                    macro avg       0.36      0.35      0.35      1140\n",
      "                 weighted avg       0.37      0.36      0.36      1140\n",
      "\n",
      "[[48 25  4  3  3 10 13  3  4 11]\n",
      " [12 26  4  9  8 13 18  4 12  8]\n",
      " [ 3  7 79  7  3  6 12  4  0 10]\n",
      " [12 14 12 35 13 16  5  3  6  8]\n",
      " [ 5  7  2 17 52 12  5  2  7  8]\n",
      " [11 15  3 10 16 25  8  5 10 11]\n",
      " [ 9 14  5  5  5  9 35  0 12 17]\n",
      " [ 0  5  0  5  7 11  9 10  5  8]\n",
      " [ 6 10  0  6  7 16  6 10 49 11]\n",
      " [ 6  9  5  9  3 11 13  2 13 53]]\n"
     ]
    }
   ],
   "source": [
    "y_predict = classifier_tree.fit(Ftrain, Ltrain).predict(Ftest)\n",
    "class_names = target.unique()\n",
    "print(classification_report(Ltest, y_predict, target_names=class_names))\n",
    "print(confusion_matrix(Ltest, y_predict))"
   ]
  }
 ],
 "metadata": {
  "kernelspec": {
   "display_name": "Python 3 (ipykernel)",
   "language": "python",
   "name": "python3"
  },
  "language_info": {
   "codemirror_mode": {
    "name": "ipython",
    "version": 3
   },
   "file_extension": ".py",
   "mimetype": "text/x-python",
   "name": "python",
   "nbconvert_exporter": "python",
   "pygments_lexer": "ipython3",
   "version": "3.9.7"
  }
 },
 "nbformat": 4,
 "nbformat_minor": 5
}
