{
 "cells": [
  {
   "cell_type": "code",
   "execution_count": 1,
   "id": "bcdb1517",
   "metadata": {},
   "outputs": [],
   "source": [
    "import numpy as np #importing numpy\n",
    "import pandas as pd #importing pandas\n",
    "import PIL #importing pillow for image processing\n",
    "from PIL import Image#importing image from pillow library\n",
    "import skimage#importing skimage library\n",
    "import os#importing os library\n",
    "import time#importing time library\n",
    "\n",
    "#Capture start time of the program\n",
    "start_time = time.time()"
   ]
  },
  {
   "cell_type": "code",
   "execution_count": 2,
   "id": "9ec45970",
   "metadata": {},
   "outputs": [],
   "source": [
    "#changing path\n",
    "os.chdir('D://DKIT//dissertation//Dataset_of_Tomato_Leaves//plantvillage//Preprocessed_data//32//32_no_bias_vector//')"
   ]
  },
  {
   "cell_type": "markdown",
   "id": "7139bf53",
   "metadata": {},
   "source": [
    "# KNN on rgb data"
   ]
  },
  {
   "cell_type": "code",
   "execution_count": 3,
   "id": "9386938c",
   "metadata": {},
   "outputs": [],
   "source": [
    "#reading numpy array data\n",
    "rgb_test = np.load('rgb_data.npy')\n",
    "#reading csv file\n",
    "rgb_df = pd.read_csv('rgb_data.csv')"
   ]
  },
  {
   "cell_type": "code",
   "execution_count": 4,
   "id": "0f303e1a",
   "metadata": {},
   "outputs": [
    {
     "data": {
      "image/png": "[encoded data removed]",
      "text/plain": [
       "<Figure size 432x288 with 1 Axes>"
      ]
     },
     "metadata": {
      "needs_background": "light"
     },
     "output_type": "display_data"
    }
   ],
   "source": [
    "import seaborn as sns\n",
    "import matplotlib.pyplot as plt\n",
    "sns.countplot(data = rgb_df,x='disease')\n",
    "plt.xticks(rotation = 90)\n",
    "plt.show()"
   ]
  },
  {
   "cell_type": "code",
   "execution_count": 5,
   "id": "432ded34",
   "metadata": {},
   "outputs": [
    {
     "name": "stdout",
     "output_type": "stream",
     "text": [
      "(5699, 2)\n"
     ]
    }
   ],
   "source": [
    "print(rgb_df.shape)"
   ]
  },
  {
   "cell_type": "code",
   "execution_count": 6,
   "id": "40f528b5",
   "metadata": {},
   "outputs": [],
   "source": [
    "loaded = []\n",
    "for i in rgb_test:\n",
    "    k = []\n",
    "    k = np.asarray(i,dtype='uint8')\n",
    "    loaded.append(k)"
   ]
  },
  {
   "cell_type": "code",
   "execution_count": 7,
   "id": "c6d5658c",
   "metadata": {},
   "outputs": [],
   "source": [
    "#assigning features and target\n",
    "features = loaded\n",
    "target = rgb_df['disease']\n",
    "#splitting the data to 80 percent and 20 percent\n",
    "from sklearn.model_selection import train_test_split\n",
    "Ftrain,Ftest,Ltrain,Ltest=train_test_split(features,target, test_size=0.20, random_state=24)"
   ]
  },
  {
   "cell_type": "code",
   "execution_count": 8,
   "id": "6f1171c6",
   "metadata": {},
   "outputs": [],
   "source": [
    "#K-Model on the data\n",
    "from sklearn.neighbors import KNeighborsClassifier\n",
    "kmodel = KNeighborsClassifier(n_neighbors=75)"
   ]
  },
  {
   "cell_type": "code",
   "execution_count": 9,
   "id": "b9fdc978",
   "metadata": {},
   "outputs": [
    {
     "name": "stdout",
     "output_type": "stream",
     "text": [
      "0.4456140350877193\n"
     ]
    }
   ],
   "source": [
    "#k-model fitting and accuracy\n",
    "kmodel.fit(Ftrain,Ltrain)\n",
    "print(kmodel.score(Ftest,Ltest))"
   ]
  },
  {
   "cell_type": "code",
   "execution_count": 10,
   "id": "1fa0433e",
   "metadata": {},
   "outputs": [],
   "source": [
    "#importing classification report and confusion matrix\n",
    "from sklearn.metrics import classification_report, confusion_matrix"
   ]
  },
  {
   "cell_type": "code",
   "execution_count": 11,
   "id": "c5085d40",
   "metadata": {},
   "outputs": [
    {
     "name": "stdout",
     "output_type": "stream",
     "text": [
      "                               precision    recall  f1-score   support\n",
      "\n",
      "               bacterial_spot       0.28      0.76      0.41       115\n",
      "                 early_blight       1.00      0.02      0.03       120\n",
      "                      healthy       0.37      0.84      0.51       125\n",
      "                  late_blight       0.41      0.24      0.30       125\n",
      "                    leaf_mold       0.70      0.58      0.64       127\n",
      "           septoria_leaf_spot       0.69      0.30      0.42       117\n",
      "                  target_spot       0.58      0.31      0.41       115\n",
      "          tomato_mosaic_virus       0.45      0.52      0.48        54\n",
      "tomato_yellow_leaf_curl_virus       0.86      0.37      0.52       114\n",
      "      two-spotted_spider_mite       0.49      0.54      0.51       128\n",
      "\n",
      "                     accuracy                           0.45      1140\n",
      "                    macro avg       0.58      0.45      0.42      1140\n",
      "                 weighted avg       0.59      0.45      0.42      1140\n",
      "\n",
      "[[ 87   0  22   3   0   1   0   0   2   0]\n",
      " [ 76   2  13   1   6   1   8   5   0   8]\n",
      " [  7   0 105   8   1   0   0   2   0   2]\n",
      " [ 14   0  49  30   9  10   4   2   1   6]\n",
      " [  9   0  23  11  74   1   0   6   0   3]\n",
      " [  6   0  26   6  12  35   6   8   3  15]\n",
      " [ 31   0  26   1   0   0  36   2   0  19]\n",
      " [  3   0   5   6   3   0   0  28   0   9]\n",
      " [ 42   0  10   4   0   1   1   4  42  10]\n",
      " [ 36   0   4   3   1   2   7   5   1  69]]\n"
     ]
    }
   ],
   "source": [
    "#printing results of the kmodel\n",
    "y_predict = kmodel.fit(Ftrain, Ltrain).predict(Ftest)\n",
    "class_names = target.unique()\n",
    "print(classification_report(Ltest, y_predict, target_names=class_names))\n",
    "print(confusion_matrix(Ltest, y_predict))"
   ]
  },
  {
   "cell_type": "markdown",
   "id": "d5c58638",
   "metadata": {},
   "source": [
    "# Logistic on rgb data"
   ]
  },
  {
   "cell_type": "code",
   "execution_count": 12,
   "id": "a84836ef",
   "metadata": {},
   "outputs": [
    {
     "name": "stdout",
     "output_type": "stream",
     "text": [
      "0.5622807017543859\n"
     ]
    }
   ],
   "source": [
    "#importing logistic data\n",
    "from sklearn.linear_model import LogisticRegression\n",
    "model=LogisticRegression(solver='lbfgs', max_iter=10000)\n",
    "model.fit(Ftrain,Ltrain)\n",
    "print(model.score(Ftest,Ltest))"
   ]
  },
  {
   "cell_type": "code",
   "execution_count": 13,
   "id": "bb13d9a1",
   "metadata": {},
   "outputs": [
    {
     "name": "stdout",
     "output_type": "stream",
     "text": [
      "                               precision    recall  f1-score   support\n",
      "\n",
      "               bacterial_spot       0.48      0.62      0.54       115\n",
      "                 early_blight       0.41      0.38      0.40       120\n",
      "                      healthy       0.60      0.54      0.57       125\n",
      "                  late_blight       0.50      0.56      0.53       125\n",
      "                    leaf_mold       0.63      0.63      0.63       127\n",
      "           septoria_leaf_spot       0.43      0.38      0.40       117\n",
      "                  target_spot       0.56      0.55      0.55       115\n",
      "          tomato_mosaic_virus       0.67      0.76      0.71        54\n",
      "tomato_yellow_leaf_curl_virus       0.81      0.75      0.78       114\n",
      "      two-spotted_spider_mite       0.62      0.57      0.59       128\n",
      "\n",
      "                     accuracy                           0.56      1140\n",
      "                    macro avg       0.57      0.57      0.57      1140\n",
      "                 weighted avg       0.56      0.56      0.56      1140\n",
      "\n",
      "[[71 13  4  6  1  8  2  0  8  2]\n",
      " [19 46  4 17 12  8  4  0  2  8]\n",
      " [ 5 10 68 11  3  9 18  0  0  1]\n",
      " [ 9 10  9 70  6 10  2  1  4  4]\n",
      " [ 2  8  9  9 80  9  0  5  1  4]\n",
      " [12  5  5 11 18 44  6  9  3  4]\n",
      " [ 6  9 12  3  1  4 63  1  0 16]\n",
      " [ 0  0  1  0  2  4  4 41  0  2]\n",
      " [10  4  0  6  1  2  1  1 85  4]\n",
      " [13  7  2  7  3  5 13  3  2 73]]\n"
     ]
    }
   ],
   "source": [
    "#classification report\n",
    "y_predict = model.fit(Ftrain, Ltrain).predict(Ftest)\n",
    "class_names = target.unique()\n",
    "print(classification_report(Ltest, y_predict, target_names=class_names))\n",
    "print(confusion_matrix(Ltest, y_predict))"
   ]
  },
  {
   "cell_type": "markdown",
   "id": "6fe194bc",
   "metadata": {},
   "source": [
    "# SVM on RGB data"
   ]
  },
  {
   "cell_type": "code",
   "execution_count": 14,
   "id": "2427ed51",
   "metadata": {},
   "outputs": [
    {
     "name": "stdout",
     "output_type": "stream",
     "text": [
      "0.6929824561403509\n"
     ]
    }
   ],
   "source": [
    "from sklearn.svm import SVC\n",
    "from sklearn.metrics import accuracy_score\n",
    "\n",
    "clf = SVC(kernel='linear')\n",
    "clf.fit(Ftrain,Ltrain)\n",
    "y_pred = clf.predict(Ftest)\n",
    "print(accuracy_score(Ltest,y_pred))"
   ]
  },
  {
   "cell_type": "code",
   "execution_count": 15,
   "id": "bf286604",
   "metadata": {},
   "outputs": [
    {
     "name": "stdout",
     "output_type": "stream",
     "text": [
      "                               precision    recall  f1-score   support\n",
      "\n",
      "               bacterial_spot       0.66      0.83      0.73       115\n",
      "                 early_blight       0.51      0.47      0.49       120\n",
      "                      healthy       0.82      0.78      0.80       125\n",
      "                  late_blight       0.61      0.66      0.64       125\n",
      "                    leaf_mold       0.74      0.75      0.75       127\n",
      "           septoria_leaf_spot       0.67      0.60      0.63       117\n",
      "                  target_spot       0.69      0.67      0.68       115\n",
      "          tomato_mosaic_virus       0.76      0.89      0.82        54\n",
      "tomato_yellow_leaf_curl_virus       0.82      0.80      0.81       114\n",
      "      two-spotted_spider_mite       0.68      0.60      0.64       128\n",
      "\n",
      "                     accuracy                           0.69      1140\n",
      "                    macro avg       0.70      0.70      0.70      1140\n",
      "                 weighted avg       0.69      0.69      0.69      1140\n",
      "\n",
      "[[95  4  1  7  1  0  0  0  7  0]\n",
      " [23 56  3 14  5  2  7  0  3  7]\n",
      " [ 2  4 98  6  6  1  6  0  0  2]\n",
      " [ 9  9  4 83  7  8  1  0  1  3]\n",
      " [ 0  6  4  9 95  7  0  2  0  4]\n",
      " [ 3  2  4  8 11 70  5  6  4  4]\n",
      " [ 2 13  4  0  0  6 77  1  0 12]\n",
      " [ 0  1  0  0  0  3  0 48  0  2]\n",
      " [ 5  6  0  4  0  5  1  0 91  2]\n",
      " [ 6  9  1  4  3  3 14  6  5 77]]\n"
     ]
    }
   ],
   "source": [
    "#classification report\n",
    "y_predict = clf.fit(Ftrain, Ltrain).predict(Ftest)\n",
    "class_names = target.unique()\n",
    "print(classification_report(Ltest, y_predict, target_names=class_names))\n",
    "print(confusion_matrix(Ltest, y_predict))"
   ]
  },
  {
   "cell_type": "markdown",
   "id": "73bef6fa",
   "metadata": {},
   "source": [
    "# Random Forest on RGB "
   ]
  },
  {
   "cell_type": "code",
   "execution_count": 16,
   "id": "6bae5a92",
   "metadata": {},
   "outputs": [],
   "source": [
    "from sklearn.ensemble import RandomForestClassifier"
   ]
  },
  {
   "cell_type": "code",
   "execution_count": 17,
   "id": "1d08a15e",
   "metadata": {},
   "outputs": [],
   "source": [
    "classifier_rf = RandomForestClassifier(random_state=42, n_jobs=-1, max_depth=5,n_estimators=100, oob_score=True)"
   ]
  },
  {
   "cell_type": "code",
   "execution_count": 18,
   "id": "938ad007",
   "metadata": {},
   "outputs": [
    {
     "data": {
      "text/plain": [
       "RandomForestClassifier(max_depth=5, n_jobs=-1, oob_score=True, random_state=42)"
      ]
     },
     "execution_count": 18,
     "metadata": {},
     "output_type": "execute_result"
    }
   ],
   "source": [
    "classifier_rf.fit(Ftrain, Ltrain)"
   ]
  },
  {
   "cell_type": "code",
   "execution_count": 19,
   "id": "e1769cec",
   "metadata": {},
   "outputs": [
    {
     "data": {
      "text/plain": [
       "0.5384952840535205"
      ]
     },
     "execution_count": 19,
     "metadata": {},
     "output_type": "execute_result"
    }
   ],
   "source": [
    "classifier_rf.oob_score_"
   ]
  },
  {
   "cell_type": "code",
   "execution_count": 20,
   "id": "13c0682e",
   "metadata": {},
   "outputs": [
    {
     "name": "stdout",
     "output_type": "stream",
     "text": [
      "                               precision    recall  f1-score   support\n",
      "\n",
      "               bacterial_spot       0.47      0.64      0.55       115\n",
      "                 early_blight       0.61      0.09      0.16       120\n",
      "                      healthy       0.61      0.91      0.73       125\n",
      "                  late_blight       0.65      0.34      0.44       125\n",
      "                    leaf_mold       0.61      0.68      0.64       127\n",
      "           septoria_leaf_spot       0.50      0.43      0.46       117\n",
      "                  target_spot       0.49      0.76      0.60       115\n",
      "          tomato_mosaic_virus       0.50      0.02      0.04        54\n",
      "tomato_yellow_leaf_curl_virus       0.54      0.83      0.65       114\n",
      "      two-spotted_spider_mite       0.48      0.45      0.46       128\n",
      "\n",
      "                     accuracy                           0.54      1140\n",
      "                    macro avg       0.55      0.51      0.47      1140\n",
      "                 weighted avg       0.55      0.54      0.50      1140\n",
      "\n",
      "[[ 74   0  11   5   0   1   2   0  21   1]\n",
      " [ 36  11   5   8   5   8  24   0  16   7]\n",
      " [  3   1 114   0   3   0   3   0   0   1]\n",
      " [  3   2  32  42  11  20   7   0   7   1]\n",
      " [  8   0   5   2  86   9   6   0   5   6]\n",
      " [  4   0  10   6  16  50   3   0  14  14]\n",
      " [  8   0   6   0   1   4  87   0   0   9]\n",
      " [  2   0   1   1  15   6   6   1   5  17]\n",
      " [  7   1   1   1   1   2   1   0  95   5]\n",
      " [ 11   3   3   0   2   0  37   1  14  57]]\n"
     ]
    }
   ],
   "source": [
    "y_predict = classifier_rf.fit(Ftrain, Ltrain).predict(Ftest)\n",
    "class_names = target.unique()\n",
    "print(classification_report(Ltest, y_predict, target_names=class_names))\n",
    "print(confusion_matrix(Ltest, y_predict))"
   ]
  },
  {
   "cell_type": "markdown",
   "id": "b6a094e4",
   "metadata": {},
   "source": [
    "# Naive Bayes on RGB data"
   ]
  },
  {
   "cell_type": "code",
   "execution_count": 21,
   "id": "a5bc755b",
   "metadata": {},
   "outputs": [
    {
     "data": {
      "text/plain": [
       "GaussianNB()"
      ]
     },
     "execution_count": 21,
     "metadata": {},
     "output_type": "execute_result"
    }
   ],
   "source": [
    "from sklearn.naive_bayes import GaussianNB\n",
    "gnb = GaussianNB()\n",
    "gnb.fit(Ftrain, Ltrain)"
   ]
  },
  {
   "cell_type": "code",
   "execution_count": 22,
   "id": "6d162dcc",
   "metadata": {},
   "outputs": [],
   "source": [
    "y_pred = gnb.predict(Ftest)"
   ]
  },
  {
   "cell_type": "code",
   "execution_count": 23,
   "id": "8f7b4bab",
   "metadata": {},
   "outputs": [
    {
     "data": {
      "text/plain": [
       "0.45614035087719296"
      ]
     },
     "execution_count": 23,
     "metadata": {},
     "output_type": "execute_result"
    }
   ],
   "source": [
    "from sklearn import metrics\n",
    "metrics.accuracy_score(Ltest, y_pred)"
   ]
  },
  {
   "cell_type": "code",
   "execution_count": 24,
   "id": "935808af",
   "metadata": {},
   "outputs": [
    {
     "name": "stdout",
     "output_type": "stream",
     "text": [
      "                               precision    recall  f1-score   support\n",
      "\n",
      "               bacterial_spot       0.48      0.70      0.57       115\n",
      "                 early_blight       0.38      0.28      0.32       120\n",
      "                      healthy       0.46      0.68      0.55       125\n",
      "                  late_blight       0.37      0.22      0.27       125\n",
      "                    leaf_mold       0.76      0.42      0.54       127\n",
      "           septoria_leaf_spot       0.36      0.40      0.38       117\n",
      "                  target_spot       0.51      0.43      0.46       115\n",
      "          tomato_mosaic_virus       0.31      0.72      0.44        54\n",
      "tomato_yellow_leaf_curl_virus       0.65      0.46      0.54       114\n",
      "      two-spotted_spider_mite       0.42      0.43      0.43       128\n",
      "\n",
      "                     accuracy                           0.46      1140\n",
      "                    macro avg       0.47      0.47      0.45      1140\n",
      "                 weighted avg       0.48      0.46      0.45      1140\n",
      "\n",
      "[[80  3 15  1  0  2  3  4  7  0]\n",
      " [32 33  2 20  5  7  6  5  3  7]\n",
      " [ 2  0 85  5  5  3 16  4  0  5]\n",
      " [ 2 15 55 27  1 13  2  3  5  2]\n",
      " [10  4  3  5 53 30  2 15  1  4]\n",
      " [ 0  3 19  2  5 47  6 11  7 17]\n",
      " [ 8 11  1  8  0  7 49  5  0 26]\n",
      " [ 4  0  1  0  1  4  0 39  3  2]\n",
      " [16  8  2  4  0 10  0 10 52 12]\n",
      " [14 10  0  1  0  6 12 28  2 55]]\n"
     ]
    }
   ],
   "source": [
    "class_names = target.unique()\n",
    "print(classification_report(Ltest, y_pred, target_names=class_names))\n",
    "print(confusion_matrix(Ltest, y_pred))"
   ]
  },
  {
   "cell_type": "markdown",
   "id": "75bb69d9",
   "metadata": {},
   "source": [
    "# Decision Tree on RGB data"
   ]
  },
  {
   "cell_type": "code",
   "execution_count": 25,
   "id": "6a765709",
   "metadata": {},
   "outputs": [],
   "source": [
    "from sklearn.tree import DecisionTreeClassifier\n",
    "classifier_tree = DecisionTreeClassifier()"
   ]
  },
  {
   "cell_type": "code",
   "execution_count": 26,
   "id": "feb5f853",
   "metadata": {},
   "outputs": [
    {
     "data": {
      "text/plain": [
       "0.437719298245614"
      ]
     },
     "execution_count": 26,
     "metadata": {},
     "output_type": "execute_result"
    }
   ],
   "source": [
    "classifier_tree.fit(Ftrain, Ltrain)\n",
    "classifier_tree.score(Ftest,Ltest)"
   ]
  },
  {
   "cell_type": "code",
   "execution_count": 27,
   "id": "1bdf54ae",
   "metadata": {},
   "outputs": [
    {
     "name": "stdout",
     "output_type": "stream",
     "text": [
      "                               precision    recall  f1-score   support\n",
      "\n",
      "               bacterial_spot       0.46      0.51      0.49       115\n",
      "                 early_blight       0.28      0.26      0.27       120\n",
      "                      healthy       0.65      0.67      0.66       125\n",
      "                  late_blight       0.39      0.41      0.40       125\n",
      "                    leaf_mold       0.53      0.48      0.50       127\n",
      "           septoria_leaf_spot       0.46      0.49      0.47       117\n",
      "                  target_spot       0.39      0.37      0.38       115\n",
      "          tomato_mosaic_virus       0.22      0.24      0.23        54\n",
      "tomato_yellow_leaf_curl_virus       0.58      0.45      0.50       114\n",
      "      two-spotted_spider_mite       0.33      0.37      0.35       128\n",
      "\n",
      "                     accuracy                           0.44      1140\n",
      "                    macro avg       0.43      0.42      0.43      1140\n",
      "                 weighted avg       0.44      0.44      0.44      1140\n",
      "\n",
      "[[59 19  6 11  3  4  5  1  4  3]\n",
      " [17 31  6 11 11  8  8  2  9 17]\n",
      " [ 5  5 84  6  6  3  8  2  1  5]\n",
      " [10 12  8 51  6 16 11  2  3  6]\n",
      " [ 3  5  5 13 61  8  2 16  5  9]\n",
      " [ 8  7  2 10  4 57  9  5  5 10]\n",
      " [ 3 10  8  6  3 10 43  3  1 28]\n",
      " [ 2  3  3 10  8  6  1 13  2  6]\n",
      " [16 10  3  4  5  9  0  5 51 11]\n",
      " [ 5 10  5 10  8  4 23  9  7 47]]\n"
     ]
    }
   ],
   "source": [
    "y_predict = classifier_tree.fit(Ftrain, Ltrain).predict(Ftest)\n",
    "class_names = target.unique()\n",
    "print(classification_report(Ltest, y_predict, target_names=class_names))\n",
    "print(confusion_matrix(Ltest, y_predict))"
   ]
  },
  {
   "cell_type": "markdown",
   "id": "c9daaaee",
   "metadata": {},
   "source": [
    "# KNN on grayscale data"
   ]
  },
  {
   "cell_type": "code",
   "execution_count": 28,
   "id": "57a9845e",
   "metadata": {},
   "outputs": [],
   "source": [
    "#reading numpy array data\n",
    "gray_test = np.load('gray_test.npy')\n",
    "#reading csv file\n",
    "gray_df = pd.read_csv('gray_data.csv')"
   ]
  },
  {
   "cell_type": "code",
   "execution_count": 29,
   "id": "25d4fea2",
   "metadata": {},
   "outputs": [],
   "source": [
    "loaded = []\n",
    "for i in gray_test:\n",
    "    k = []\n",
    "    k = np.asarray(i,dtype='uint8')\n",
    "    loaded.append(k)"
   ]
  },
  {
   "cell_type": "code",
   "execution_count": 30,
   "id": "d3abef95",
   "metadata": {},
   "outputs": [],
   "source": [
    "features = loaded\n",
    "target = gray_df['disease']"
   ]
  },
  {
   "cell_type": "code",
   "execution_count": 31,
   "id": "6f75adfd",
   "metadata": {},
   "outputs": [
    {
     "data": {
      "text/plain": [
       "0.4456140350877193"
      ]
     },
     "execution_count": 31,
     "metadata": {},
     "output_type": "execute_result"
    }
   ],
   "source": [
    "kmodel.fit(Ftrain,Ltrain)\n",
    "kmodel.score(Ftest,Ltest)"
   ]
  },
  {
   "cell_type": "code",
   "execution_count": 32,
   "id": "20df9552",
   "metadata": {},
   "outputs": [
    {
     "name": "stdout",
     "output_type": "stream",
     "text": [
      "                               precision    recall  f1-score   support\n",
      "\n",
      "               bacterial_spot       0.28      0.76      0.41       115\n",
      "                 early_blight       1.00      0.02      0.03       120\n",
      "                      healthy       0.37      0.84      0.51       125\n",
      "                  late_blight       0.41      0.24      0.30       125\n",
      "                    leaf_mold       0.70      0.58      0.64       127\n",
      "           septoria_leaf_spot       0.69      0.30      0.42       117\n",
      "                  target_spot       0.58      0.31      0.41       115\n",
      "          tomato_mosaic_virus       0.45      0.52      0.48        54\n",
      "tomato_yellow_leaf_curl_virus       0.86      0.37      0.52       114\n",
      "      two-spotted_spider_mite       0.49      0.54      0.51       128\n",
      "\n",
      "                     accuracy                           0.45      1140\n",
      "                    macro avg       0.58      0.45      0.42      1140\n",
      "                 weighted avg       0.59      0.45      0.42      1140\n",
      "\n",
      "[[ 87   0  22   3   0   1   0   0   2   0]\n",
      " [ 76   2  13   1   6   1   8   5   0   8]\n",
      " [  7   0 105   8   1   0   0   2   0   2]\n",
      " [ 14   0  49  30   9  10   4   2   1   6]\n",
      " [  9   0  23  11  74   1   0   6   0   3]\n",
      " [  6   0  26   6  12  35   6   8   3  15]\n",
      " [ 31   0  26   1   0   0  36   2   0  19]\n",
      " [  3   0   5   6   3   0   0  28   0   9]\n",
      " [ 42   0  10   4   0   1   1   4  42  10]\n",
      " [ 36   0   4   3   1   2   7   5   1  69]]\n"
     ]
    }
   ],
   "source": [
    "y_predict = kmodel.fit(Ftrain, Ltrain).predict(Ftest)\n",
    "class_names = target.unique()\n",
    "print(classification_report(Ltest, y_predict, target_names=class_names))\n",
    "print(confusion_matrix(Ltest, y_predict))"
   ]
  },
  {
   "cell_type": "markdown",
   "id": "197eedfc",
   "metadata": {},
   "source": [
    "# Logistic on grayscale data"
   ]
  },
  {
   "cell_type": "code",
   "execution_count": 33,
   "id": "9fd6cafe",
   "metadata": {},
   "outputs": [
    {
     "data": {
      "text/plain": [
       "0.5622807017543859"
      ]
     },
     "execution_count": 33,
     "metadata": {},
     "output_type": "execute_result"
    }
   ],
   "source": [
    "from sklearn.linear_model import LogisticRegression\n",
    "model=LogisticRegression(solver='lbfgs', max_iter=10000)\n",
    "model.fit(Ftrain,Ltrain)\n",
    "model.score(Ftest,Ltest)"
   ]
  },
  {
   "cell_type": "code",
   "execution_count": 34,
   "id": "834920c5",
   "metadata": {},
   "outputs": [
    {
     "name": "stdout",
     "output_type": "stream",
     "text": [
      "                               precision    recall  f1-score   support\n",
      "\n",
      "               bacterial_spot       0.48      0.62      0.54       115\n",
      "                 early_blight       0.41      0.38      0.40       120\n",
      "                      healthy       0.60      0.54      0.57       125\n",
      "                  late_blight       0.50      0.56      0.53       125\n",
      "                    leaf_mold       0.63      0.63      0.63       127\n",
      "           septoria_leaf_spot       0.43      0.38      0.40       117\n",
      "                  target_spot       0.56      0.55      0.55       115\n",
      "          tomato_mosaic_virus       0.67      0.76      0.71        54\n",
      "tomato_yellow_leaf_curl_virus       0.81      0.75      0.78       114\n",
      "      two-spotted_spider_mite       0.62      0.57      0.59       128\n",
      "\n",
      "                     accuracy                           0.56      1140\n",
      "                    macro avg       0.57      0.57      0.57      1140\n",
      "                 weighted avg       0.56      0.56      0.56      1140\n",
      "\n",
      "[[71 13  4  6  1  8  2  0  8  2]\n",
      " [19 46  4 17 12  8  4  0  2  8]\n",
      " [ 5 10 68 11  3  9 18  0  0  1]\n",
      " [ 9 10  9 70  6 10  2  1  4  4]\n",
      " [ 2  8  9  9 80  9  0  5  1  4]\n",
      " [12  5  5 11 18 44  6  9  3  4]\n",
      " [ 6  9 12  3  1  4 63  1  0 16]\n",
      " [ 0  0  1  0  2  4  4 41  0  2]\n",
      " [10  4  0  6  1  2  1  1 85  4]\n",
      " [13  7  2  7  3  5 13  3  2 73]]\n"
     ]
    }
   ],
   "source": [
    "y_predict = model.fit(Ftrain, Ltrain).predict(Ftest)\n",
    "class_names = target.unique()\n",
    "print(classification_report(Ltest, y_predict, target_names=class_names))\n",
    "print(confusion_matrix(Ltest, y_predict))"
   ]
  },
  {
   "cell_type": "markdown",
   "id": "5284f869",
   "metadata": {},
   "source": [
    "# SVM on Grayscale data"
   ]
  },
  {
   "cell_type": "code",
   "execution_count": 35,
   "id": "d0db5c80",
   "metadata": {},
   "outputs": [
    {
     "name": "stdout",
     "output_type": "stream",
     "text": [
      "0.6929824561403509\n"
     ]
    }
   ],
   "source": [
    "clf = SVC(kernel='linear')\n",
    "clf.fit(Ftrain,Ltrain)\n",
    "y_pred = clf.predict(Ftest)\n",
    "print(accuracy_score(Ltest,y_pred))"
   ]
  },
  {
   "cell_type": "code",
   "execution_count": 36,
   "id": "05d3b675",
   "metadata": {},
   "outputs": [
    {
     "name": "stdout",
     "output_type": "stream",
     "text": [
      "                               precision    recall  f1-score   support\n",
      "\n",
      "               bacterial_spot       0.66      0.83      0.73       115\n",
      "                 early_blight       0.51      0.47      0.49       120\n",
      "                      healthy       0.82      0.78      0.80       125\n",
      "                  late_blight       0.61      0.66      0.64       125\n",
      "                    leaf_mold       0.74      0.75      0.75       127\n",
      "           septoria_leaf_spot       0.67      0.60      0.63       117\n",
      "                  target_spot       0.69      0.67      0.68       115\n",
      "          tomato_mosaic_virus       0.76      0.89      0.82        54\n",
      "tomato_yellow_leaf_curl_virus       0.82      0.80      0.81       114\n",
      "      two-spotted_spider_mite       0.68      0.60      0.64       128\n",
      "\n",
      "                     accuracy                           0.69      1140\n",
      "                    macro avg       0.70      0.70      0.70      1140\n",
      "                 weighted avg       0.69      0.69      0.69      1140\n",
      "\n",
      "[[95  4  1  7  1  0  0  0  7  0]\n",
      " [23 56  3 14  5  2  7  0  3  7]\n",
      " [ 2  4 98  6  6  1  6  0  0  2]\n",
      " [ 9  9  4 83  7  8  1  0  1  3]\n",
      " [ 0  6  4  9 95  7  0  2  0  4]\n",
      " [ 3  2  4  8 11 70  5  6  4  4]\n",
      " [ 2 13  4  0  0  6 77  1  0 12]\n",
      " [ 0  1  0  0  0  3  0 48  0  2]\n",
      " [ 5  6  0  4  0  5  1  0 91  2]\n",
      " [ 6  9  1  4  3  3 14  6  5 77]]\n"
     ]
    }
   ],
   "source": [
    "y_predict = clf.fit(Ftrain, Ltrain).predict(Ftest)\n",
    "class_names = target.unique()\n",
    "print(classification_report(Ltest, y_predict, target_names=class_names))\n",
    "print(confusion_matrix(Ltest, y_predict))"
   ]
  },
  {
   "cell_type": "markdown",
   "id": "576fd580",
   "metadata": {},
   "source": [
    "# Random Forest on Grayscale"
   ]
  },
  {
   "cell_type": "code",
   "execution_count": 37,
   "id": "9dfa979e",
   "metadata": {},
   "outputs": [
    {
     "data": {
      "text/plain": [
       "RandomForestClassifier(max_depth=5, n_jobs=-1, oob_score=True, random_state=42)"
      ]
     },
     "execution_count": 37,
     "metadata": {},
     "output_type": "execute_result"
    }
   ],
   "source": [
    "classifier_rf.fit(Ftrain, Ltrain)"
   ]
  },
  {
   "cell_type": "code",
   "execution_count": 38,
   "id": "2b4347ef",
   "metadata": {},
   "outputs": [
    {
     "data": {
      "text/plain": [
       "0.5384952840535205"
      ]
     },
     "execution_count": 38,
     "metadata": {},
     "output_type": "execute_result"
    }
   ],
   "source": [
    "classifier_rf.oob_score_"
   ]
  },
  {
   "cell_type": "code",
   "execution_count": 39,
   "id": "8b7d285d",
   "metadata": {},
   "outputs": [
    {
     "name": "stdout",
     "output_type": "stream",
     "text": [
      "                               precision    recall  f1-score   support\n",
      "\n",
      "               bacterial_spot       0.47      0.64      0.55       115\n",
      "                 early_blight       0.61      0.09      0.16       120\n",
      "                      healthy       0.61      0.91      0.73       125\n",
      "                  late_blight       0.65      0.34      0.44       125\n",
      "                    leaf_mold       0.61      0.68      0.64       127\n",
      "           septoria_leaf_spot       0.50      0.43      0.46       117\n",
      "                  target_spot       0.49      0.76      0.60       115\n",
      "          tomato_mosaic_virus       0.50      0.02      0.04        54\n",
      "tomato_yellow_leaf_curl_virus       0.54      0.83      0.65       114\n",
      "      two-spotted_spider_mite       0.48      0.45      0.46       128\n",
      "\n",
      "                     accuracy                           0.54      1140\n",
      "                    macro avg       0.55      0.51      0.47      1140\n",
      "                 weighted avg       0.55      0.54      0.50      1140\n",
      "\n",
      "[[ 74   0  11   5   0   1   2   0  21   1]\n",
      " [ 36  11   5   8   5   8  24   0  16   7]\n",
      " [  3   1 114   0   3   0   3   0   0   1]\n",
      " [  3   2  32  42  11  20   7   0   7   1]\n",
      " [  8   0   5   2  86   9   6   0   5   6]\n",
      " [  4   0  10   6  16  50   3   0  14  14]\n",
      " [  8   0   6   0   1   4  87   0   0   9]\n",
      " [  2   0   1   1  15   6   6   1   5  17]\n",
      " [  7   1   1   1   1   2   1   0  95   5]\n",
      " [ 11   3   3   0   2   0  37   1  14  57]]\n"
     ]
    }
   ],
   "source": [
    "y_predict = classifier_rf.fit(Ftrain, Ltrain).predict(Ftest)\n",
    "class_names = target.unique()\n",
    "print(classification_report(Ltest, y_predict, target_names=class_names))\n",
    "print(confusion_matrix(Ltest, y_predict))"
   ]
  },
  {
   "cell_type": "markdown",
   "id": "8befce61",
   "metadata": {},
   "source": [
    "# Naive bayes on Grayscale"
   ]
  },
  {
   "cell_type": "code",
   "execution_count": 40,
   "id": "0d1a6d3b",
   "metadata": {},
   "outputs": [
    {
     "data": {
      "text/plain": [
       "GaussianNB()"
      ]
     },
     "execution_count": 40,
     "metadata": {},
     "output_type": "execute_result"
    }
   ],
   "source": [
    "gnb.fit(Ftrain, Ltrain)"
   ]
  },
  {
   "cell_type": "code",
   "execution_count": 41,
   "id": "053c9a09",
   "metadata": {},
   "outputs": [
    {
     "data": {
      "text/plain": [
       "0.45614035087719296"
      ]
     },
     "execution_count": 41,
     "metadata": {},
     "output_type": "execute_result"
    }
   ],
   "source": [
    "y_pred = gnb.predict(Ftest)\n",
    "metrics.accuracy_score(Ltest, y_pred)"
   ]
  },
  {
   "cell_type": "code",
   "execution_count": 42,
   "id": "0e53ae2c",
   "metadata": {},
   "outputs": [
    {
     "name": "stdout",
     "output_type": "stream",
     "text": [
      "                               precision    recall  f1-score   support\n",
      "\n",
      "               bacterial_spot       0.48      0.70      0.57       115\n",
      "                 early_blight       0.38      0.28      0.32       120\n",
      "                      healthy       0.46      0.68      0.55       125\n",
      "                  late_blight       0.37      0.22      0.27       125\n",
      "                    leaf_mold       0.76      0.42      0.54       127\n",
      "           septoria_leaf_spot       0.36      0.40      0.38       117\n",
      "                  target_spot       0.51      0.43      0.46       115\n",
      "          tomato_mosaic_virus       0.31      0.72      0.44        54\n",
      "tomato_yellow_leaf_curl_virus       0.65      0.46      0.54       114\n",
      "      two-spotted_spider_mite       0.42      0.43      0.43       128\n",
      "\n",
      "                     accuracy                           0.46      1140\n",
      "                    macro avg       0.47      0.47      0.45      1140\n",
      "                 weighted avg       0.48      0.46      0.45      1140\n",
      "\n",
      "[[80  3 15  1  0  2  3  4  7  0]\n",
      " [32 33  2 20  5  7  6  5  3  7]\n",
      " [ 2  0 85  5  5  3 16  4  0  5]\n",
      " [ 2 15 55 27  1 13  2  3  5  2]\n",
      " [10  4  3  5 53 30  2 15  1  4]\n",
      " [ 0  3 19  2  5 47  6 11  7 17]\n",
      " [ 8 11  1  8  0  7 49  5  0 26]\n",
      " [ 4  0  1  0  1  4  0 39  3  2]\n",
      " [16  8  2  4  0 10  0 10 52 12]\n",
      " [14 10  0  1  0  6 12 28  2 55]]\n"
     ]
    }
   ],
   "source": [
    "class_names = target.unique()\n",
    "print(classification_report(Ltest, y_pred, target_names=class_names))\n",
    "print(confusion_matrix(Ltest, y_pred))"
   ]
  },
  {
   "cell_type": "markdown",
   "id": "af8a8fca",
   "metadata": {},
   "source": [
    "# Decision Tree on Grayscale"
   ]
  },
  {
   "cell_type": "code",
   "execution_count": 43,
   "id": "4d1eb3ec",
   "metadata": {},
   "outputs": [
    {
     "data": {
      "text/plain": [
       "0.437719298245614"
      ]
     },
     "execution_count": 43,
     "metadata": {},
     "output_type": "execute_result"
    }
   ],
   "source": [
    "classifier_tree.fit(Ftrain, Ltrain)\n",
    "classifier_tree.score(Ftest,Ltest)"
   ]
  },
  {
   "cell_type": "code",
   "execution_count": 44,
   "id": "5e93e78c",
   "metadata": {},
   "outputs": [
    {
     "name": "stdout",
     "output_type": "stream",
     "text": [
      "                               precision    recall  f1-score   support\n",
      "\n",
      "               bacterial_spot       0.44      0.50      0.46       115\n",
      "                 early_blight       0.24      0.24      0.24       120\n",
      "                      healthy       0.63      0.68      0.65       125\n",
      "                  late_blight       0.44      0.40      0.42       125\n",
      "                    leaf_mold       0.56      0.48      0.52       127\n",
      "           septoria_leaf_spot       0.45      0.46      0.45       117\n",
      "                  target_spot       0.39      0.43      0.41       115\n",
      "          tomato_mosaic_virus       0.27      0.31      0.29        54\n",
      "tomato_yellow_leaf_curl_virus       0.56      0.46      0.50       114\n",
      "      two-spotted_spider_mite       0.36      0.37      0.37       128\n",
      "\n",
      "                     accuracy                           0.44      1140\n",
      "                    macro avg       0.43      0.43      0.43      1140\n",
      "                 weighted avg       0.44      0.44      0.44      1140\n",
      "\n",
      "[[57 21  7  8  3  3  6  3  5  2]\n",
      " [24 29  3  7  7  9 10  4  7 20]\n",
      " [ 4  6 85  5  4  2 10  5  1  3]\n",
      " [11 13  5 50  5 15  9  6  5  6]\n",
      " [ 3  5  6 10 61 10  7 14  3  8]\n",
      " [ 6  7  6 11  8 54  9  5  5  6]\n",
      " [ 4 12 12  2  4  5 49  2  2 23]\n",
      " [ 3  4  4  3  5  7  2 17  3  6]\n",
      " [12 13  3  9  6  8  0  3 52  8]\n",
      " [ 7 10  4  8  5  8 24  5 10 47]]\n"
     ]
    }
   ],
   "source": [
    "y_predict = classifier_tree.fit(Ftrain, Ltrain).predict(Ftest)\n",
    "class_names = target.unique()\n",
    "print(classification_report(Ltest, y_predict, target_names=class_names))\n",
    "print(confusion_matrix(Ltest, y_predict))"
   ]
  },
  {
   "cell_type": "markdown",
   "id": "e42f549f",
   "metadata": {},
   "source": [
    "# KNN on Red channel data"
   ]
  },
  {
   "cell_type": "code",
   "execution_count": 45,
   "id": "cb75cbbd",
   "metadata": {},
   "outputs": [],
   "source": [
    "#reading numpy array data\n",
    "red_test = np.load('red_data.npy')\n",
    "#reading csv file\n",
    "red_df = pd.read_csv('red_data.csv')"
   ]
  },
  {
   "cell_type": "code",
   "execution_count": 46,
   "id": "7fda7839",
   "metadata": {},
   "outputs": [],
   "source": [
    "loaded = []\n",
    "for i in red_test:\n",
    "    k = []\n",
    "    k = np.asarray(i,dtype='uint8')\n",
    "    loaded.append(k)\n",
    "features = loaded\n",
    "target = red_df['disease']"
   ]
  },
  {
   "cell_type": "code",
   "execution_count": 47,
   "id": "683839f2",
   "metadata": {},
   "outputs": [
    {
     "data": {
      "text/plain": [
       "0.4456140350877193"
      ]
     },
     "execution_count": 47,
     "metadata": {},
     "output_type": "execute_result"
    }
   ],
   "source": [
    "kmodel.fit(Ftrain,Ltrain)\n",
    "kmodel.score(Ftest,Ltest)"
   ]
  },
  {
   "cell_type": "code",
   "execution_count": 48,
   "id": "a5863749",
   "metadata": {},
   "outputs": [
    {
     "name": "stdout",
     "output_type": "stream",
     "text": [
      "                               precision    recall  f1-score   support\n",
      "\n",
      "               bacterial_spot       0.28      0.76      0.41       115\n",
      "                 early_blight       1.00      0.02      0.03       120\n",
      "                      healthy       0.37      0.84      0.51       125\n",
      "                  late_blight       0.41      0.24      0.30       125\n",
      "                    leaf_mold       0.70      0.58      0.64       127\n",
      "           septoria_leaf_spot       0.69      0.30      0.42       117\n",
      "                  target_spot       0.58      0.31      0.41       115\n",
      "          tomato_mosaic_virus       0.45      0.52      0.48        54\n",
      "tomato_yellow_leaf_curl_virus       0.86      0.37      0.52       114\n",
      "      two-spotted_spider_mite       0.49      0.54      0.51       128\n",
      "\n",
      "                     accuracy                           0.45      1140\n",
      "                    macro avg       0.58      0.45      0.42      1140\n",
      "                 weighted avg       0.59      0.45      0.42      1140\n",
      "\n",
      "[[ 87   0  22   3   0   1   0   0   2   0]\n",
      " [ 76   2  13   1   6   1   8   5   0   8]\n",
      " [  7   0 105   8   1   0   0   2   0   2]\n",
      " [ 14   0  49  30   9  10   4   2   1   6]\n",
      " [  9   0  23  11  74   1   0   6   0   3]\n",
      " [  6   0  26   6  12  35   6   8   3  15]\n",
      " [ 31   0  26   1   0   0  36   2   0  19]\n",
      " [  3   0   5   6   3   0   0  28   0   9]\n",
      " [ 42   0  10   4   0   1   1   4  42  10]\n",
      " [ 36   0   4   3   1   2   7   5   1  69]]\n"
     ]
    }
   ],
   "source": [
    "y_predict = kmodel.fit(Ftrain, Ltrain).predict(Ftest)\n",
    "class_names = target.unique()\n",
    "print(classification_report(Ltest, y_predict, target_names=class_names))\n",
    "print(confusion_matrix(Ltest, y_predict))"
   ]
  },
  {
   "cell_type": "markdown",
   "id": "ffcda594",
   "metadata": {},
   "source": [
    "# Logistic on Red channel data"
   ]
  },
  {
   "cell_type": "code",
   "execution_count": 49,
   "id": "1ed4037b",
   "metadata": {},
   "outputs": [
    {
     "data": {
      "text/plain": [
       "0.5622807017543859"
      ]
     },
     "execution_count": 49,
     "metadata": {},
     "output_type": "execute_result"
    }
   ],
   "source": [
    "model.fit(Ftrain,Ltrain)\n",
    "model.score(Ftest,Ltest)"
   ]
  },
  {
   "cell_type": "code",
   "execution_count": 50,
   "id": "19a14de1",
   "metadata": {},
   "outputs": [
    {
     "name": "stdout",
     "output_type": "stream",
     "text": [
      "                               precision    recall  f1-score   support\n",
      "\n",
      "               bacterial_spot       0.48      0.62      0.54       115\n",
      "                 early_blight       0.41      0.38      0.40       120\n",
      "                      healthy       0.60      0.54      0.57       125\n",
      "                  late_blight       0.50      0.56      0.53       125\n",
      "                    leaf_mold       0.63      0.63      0.63       127\n",
      "           septoria_leaf_spot       0.43      0.38      0.40       117\n",
      "                  target_spot       0.56      0.55      0.55       115\n",
      "          tomato_mosaic_virus       0.67      0.76      0.71        54\n",
      "tomato_yellow_leaf_curl_virus       0.81      0.75      0.78       114\n",
      "      two-spotted_spider_mite       0.62      0.57      0.59       128\n",
      "\n",
      "                     accuracy                           0.56      1140\n",
      "                    macro avg       0.57      0.57      0.57      1140\n",
      "                 weighted avg       0.56      0.56      0.56      1140\n",
      "\n",
      "[[71 13  4  6  1  8  2  0  8  2]\n",
      " [19 46  4 17 12  8  4  0  2  8]\n",
      " [ 5 10 68 11  3  9 18  0  0  1]\n",
      " [ 9 10  9 70  6 10  2  1  4  4]\n",
      " [ 2  8  9  9 80  9  0  5  1  4]\n",
      " [12  5  5 11 18 44  6  9  3  4]\n",
      " [ 6  9 12  3  1  4 63  1  0 16]\n",
      " [ 0  0  1  0  2  4  4 41  0  2]\n",
      " [10  4  0  6  1  2  1  1 85  4]\n",
      " [13  7  2  7  3  5 13  3  2 73]]\n"
     ]
    }
   ],
   "source": [
    "y_predict = model.fit(Ftrain, Ltrain).predict(Ftest)\n",
    "class_names = target.unique()\n",
    "print(classification_report(Ltest, y_predict, target_names=class_names))\n",
    "print(confusion_matrix(Ltest, y_predict))"
   ]
  },
  {
   "cell_type": "markdown",
   "id": "dba6d5ce",
   "metadata": {},
   "source": [
    "# SVM on Red channel data"
   ]
  },
  {
   "cell_type": "code",
   "execution_count": 51,
   "id": "6ed153f7",
   "metadata": {},
   "outputs": [
    {
     "name": "stdout",
     "output_type": "stream",
     "text": [
      "0.6929824561403509\n"
     ]
    }
   ],
   "source": [
    "clf.fit(Ftrain,Ltrain)\n",
    "y_pred = clf.predict(Ftest)\n",
    "print(accuracy_score(Ltest,y_pred))"
   ]
  },
  {
   "cell_type": "code",
   "execution_count": 52,
   "id": "369f8272",
   "metadata": {},
   "outputs": [
    {
     "name": "stdout",
     "output_type": "stream",
     "text": [
      "                               precision    recall  f1-score   support\n",
      "\n",
      "               bacterial_spot       0.66      0.83      0.73       115\n",
      "                 early_blight       0.51      0.47      0.49       120\n",
      "                      healthy       0.82      0.78      0.80       125\n",
      "                  late_blight       0.61      0.66      0.64       125\n",
      "                    leaf_mold       0.74      0.75      0.75       127\n",
      "           septoria_leaf_spot       0.67      0.60      0.63       117\n",
      "                  target_spot       0.69      0.67      0.68       115\n",
      "          tomato_mosaic_virus       0.76      0.89      0.82        54\n",
      "tomato_yellow_leaf_curl_virus       0.82      0.80      0.81       114\n",
      "      two-spotted_spider_mite       0.68      0.60      0.64       128\n",
      "\n",
      "                     accuracy                           0.69      1140\n",
      "                    macro avg       0.70      0.70      0.70      1140\n",
      "                 weighted avg       0.69      0.69      0.69      1140\n",
      "\n",
      "[[95  4  1  7  1  0  0  0  7  0]\n",
      " [23 56  3 14  5  2  7  0  3  7]\n",
      " [ 2  4 98  6  6  1  6  0  0  2]\n",
      " [ 9  9  4 83  7  8  1  0  1  3]\n",
      " [ 0  6  4  9 95  7  0  2  0  4]\n",
      " [ 3  2  4  8 11 70  5  6  4  4]\n",
      " [ 2 13  4  0  0  6 77  1  0 12]\n",
      " [ 0  1  0  0  0  3  0 48  0  2]\n",
      " [ 5  6  0  4  0  5  1  0 91  2]\n",
      " [ 6  9  1  4  3  3 14  6  5 77]]\n"
     ]
    }
   ],
   "source": [
    "y_predict = clf.fit(Ftrain, Ltrain).predict(Ftest)\n",
    "class_names = target.unique()\n",
    "print(classification_report(Ltest, y_predict, target_names=class_names))\n",
    "print(confusion_matrix(Ltest, y_predict))"
   ]
  },
  {
   "cell_type": "markdown",
   "id": "a670c4d4",
   "metadata": {},
   "source": [
    "# Random forest on Red channel data"
   ]
  },
  {
   "cell_type": "code",
   "execution_count": 53,
   "id": "9e816e9e",
   "metadata": {},
   "outputs": [
    {
     "data": {
      "text/plain": [
       "0.5384952840535205"
      ]
     },
     "execution_count": 53,
     "metadata": {},
     "output_type": "execute_result"
    }
   ],
   "source": [
    "classifier_rf.fit(Ftrain, Ltrain)\n",
    "classifier_rf.oob_score_"
   ]
  },
  {
   "cell_type": "code",
   "execution_count": 54,
   "id": "e404f49d",
   "metadata": {},
   "outputs": [
    {
     "name": "stdout",
     "output_type": "stream",
     "text": [
      "                               precision    recall  f1-score   support\n",
      "\n",
      "               bacterial_spot       0.47      0.64      0.55       115\n",
      "                 early_blight       0.61      0.09      0.16       120\n",
      "                      healthy       0.61      0.91      0.73       125\n",
      "                  late_blight       0.65      0.34      0.44       125\n",
      "                    leaf_mold       0.61      0.68      0.64       127\n",
      "           septoria_leaf_spot       0.50      0.43      0.46       117\n",
      "                  target_spot       0.49      0.76      0.60       115\n",
      "          tomato_mosaic_virus       0.50      0.02      0.04        54\n",
      "tomato_yellow_leaf_curl_virus       0.54      0.83      0.65       114\n",
      "      two-spotted_spider_mite       0.48      0.45      0.46       128\n",
      "\n",
      "                     accuracy                           0.54      1140\n",
      "                    macro avg       0.55      0.51      0.47      1140\n",
      "                 weighted avg       0.55      0.54      0.50      1140\n",
      "\n",
      "[[ 74   0  11   5   0   1   2   0  21   1]\n",
      " [ 36  11   5   8   5   8  24   0  16   7]\n",
      " [  3   1 114   0   3   0   3   0   0   1]\n",
      " [  3   2  32  42  11  20   7   0   7   1]\n",
      " [  8   0   5   2  86   9   6   0   5   6]\n",
      " [  4   0  10   6  16  50   3   0  14  14]\n",
      " [  8   0   6   0   1   4  87   0   0   9]\n",
      " [  2   0   1   1  15   6   6   1   5  17]\n",
      " [  7   1   1   1   1   2   1   0  95   5]\n",
      " [ 11   3   3   0   2   0  37   1  14  57]]\n"
     ]
    }
   ],
   "source": [
    "y_predict = classifier_rf.fit(Ftrain, Ltrain).predict(Ftest)\n",
    "class_names = target.unique()\n",
    "print(classification_report(Ltest, y_predict, target_names=class_names))\n",
    "print(confusion_matrix(Ltest, y_predict))"
   ]
  },
  {
   "cell_type": "markdown",
   "id": "e1c2d95a",
   "metadata": {},
   "source": [
    "# Naive Bayes on Red channel data"
   ]
  },
  {
   "cell_type": "code",
   "execution_count": 55,
   "id": "8ec0753c",
   "metadata": {},
   "outputs": [
    {
     "data": {
      "text/plain": [
       "GaussianNB()"
      ]
     },
     "execution_count": 55,
     "metadata": {},
     "output_type": "execute_result"
    }
   ],
   "source": [
    "gnb.fit(Ftrain, Ltrain)"
   ]
  },
  {
   "cell_type": "code",
   "execution_count": 56,
   "id": "9bd3c55d",
   "metadata": {},
   "outputs": [
    {
     "data": {
      "text/plain": [
       "0.45614035087719296"
      ]
     },
     "execution_count": 56,
     "metadata": {},
     "output_type": "execute_result"
    }
   ],
   "source": [
    "y_pred = gnb.predict(Ftest)\n",
    "metrics.accuracy_score(Ltest, y_pred)"
   ]
  },
  {
   "cell_type": "code",
   "execution_count": 57,
   "id": "4c3f9eb9",
   "metadata": {},
   "outputs": [
    {
     "name": "stdout",
     "output_type": "stream",
     "text": [
      "                               precision    recall  f1-score   support\n",
      "\n",
      "               bacterial_spot       0.48      0.70      0.57       115\n",
      "                 early_blight       0.38      0.28      0.32       120\n",
      "                      healthy       0.46      0.68      0.55       125\n",
      "                  late_blight       0.37      0.22      0.27       125\n",
      "                    leaf_mold       0.76      0.42      0.54       127\n",
      "           septoria_leaf_spot       0.36      0.40      0.38       117\n",
      "                  target_spot       0.51      0.43      0.46       115\n",
      "          tomato_mosaic_virus       0.31      0.72      0.44        54\n",
      "tomato_yellow_leaf_curl_virus       0.65      0.46      0.54       114\n",
      "      two-spotted_spider_mite       0.42      0.43      0.43       128\n",
      "\n",
      "                     accuracy                           0.46      1140\n",
      "                    macro avg       0.47      0.47      0.45      1140\n",
      "                 weighted avg       0.48      0.46      0.45      1140\n",
      "\n",
      "[[80  3 15  1  0  2  3  4  7  0]\n",
      " [32 33  2 20  5  7  6  5  3  7]\n",
      " [ 2  0 85  5  5  3 16  4  0  5]\n",
      " [ 2 15 55 27  1 13  2  3  5  2]\n",
      " [10  4  3  5 53 30  2 15  1  4]\n",
      " [ 0  3 19  2  5 47  6 11  7 17]\n",
      " [ 8 11  1  8  0  7 49  5  0 26]\n",
      " [ 4  0  1  0  1  4  0 39  3  2]\n",
      " [16  8  2  4  0 10  0 10 52 12]\n",
      " [14 10  0  1  0  6 12 28  2 55]]\n"
     ]
    }
   ],
   "source": [
    "class_names = target.unique()\n",
    "print(classification_report(Ltest, y_pred, target_names=class_names))\n",
    "print(confusion_matrix(Ltest, y_pred))"
   ]
  },
  {
   "cell_type": "markdown",
   "id": "b34954bd",
   "metadata": {},
   "source": [
    "# Decision Tree on Red channel"
   ]
  },
  {
   "cell_type": "code",
   "execution_count": 58,
   "id": "3ce8ed83",
   "metadata": {},
   "outputs": [
    {
     "data": {
      "text/plain": [
       "0.4201754385964912"
      ]
     },
     "execution_count": 58,
     "metadata": {},
     "output_type": "execute_result"
    }
   ],
   "source": [
    "classifier_tree.fit(Ftrain, Ltrain)\n",
    "classifier_tree.score(Ftest,Ltest)"
   ]
  },
  {
   "cell_type": "code",
   "execution_count": 59,
   "id": "78b012af",
   "metadata": {},
   "outputs": [
    {
     "name": "stdout",
     "output_type": "stream",
     "text": [
      "                               precision    recall  f1-score   support\n",
      "\n",
      "               bacterial_spot       0.51      0.47      0.49       115\n",
      "                 early_blight       0.25      0.25      0.25       120\n",
      "                      healthy       0.65      0.65      0.65       125\n",
      "                  late_blight       0.45      0.42      0.43       125\n",
      "                    leaf_mold       0.53      0.53      0.53       127\n",
      "           septoria_leaf_spot       0.42      0.42      0.42       117\n",
      "                  target_spot       0.39      0.41      0.40       115\n",
      "          tomato_mosaic_virus       0.18      0.26      0.21        54\n",
      "tomato_yellow_leaf_curl_virus       0.50      0.46      0.47       114\n",
      "      two-spotted_spider_mite       0.38      0.38      0.38       128\n",
      "\n",
      "                     accuracy                           0.43      1140\n",
      "                    macro avg       0.43      0.42      0.42      1140\n",
      "                 weighted avg       0.44      0.43      0.44      1140\n",
      "\n",
      "[[54 20  5  7  4  5  5  3 10  2]\n",
      " [14 30  4  8  9  7  8  6 14 20]\n",
      " [ 4  4 81  6  6  4 11  5  1  3]\n",
      " [ 9 15  7 52  7 20  6  4  3  2]\n",
      " [ 1  8  4  8 67  7  6 12  4 10]\n",
      " [ 6  6  6 12 10 49  7 10  5  6]\n",
      " [ 2 12 10  4  5  7 47  7  2 19]\n",
      " [ 1  5  4  6  7  6  3 14  3  5]\n",
      " [12  8  2  5  6 10  3  6 52 10]\n",
      " [ 3 13  2  7  6  3 23 12 11 48]]\n"
     ]
    }
   ],
   "source": [
    "y_predict = classifier_tree.fit(Ftrain, Ltrain).predict(Ftest)\n",
    "class_names = target.unique()\n",
    "print(classification_report(Ltest, y_predict, target_names=class_names))\n",
    "print(confusion_matrix(Ltest, y_predict))"
   ]
  },
  {
   "cell_type": "markdown",
   "id": "21af7568",
   "metadata": {},
   "source": [
    "# KNN on green channel data"
   ]
  },
  {
   "cell_type": "code",
   "execution_count": 60,
   "id": "461b784b",
   "metadata": {},
   "outputs": [
    {
     "data": {
      "text/plain": [
       "0.4456140350877193"
      ]
     },
     "execution_count": 60,
     "metadata": {},
     "output_type": "execute_result"
    }
   ],
   "source": [
    "#reading numpy array data\n",
    "green_test = np.load('green_data.npy')\n",
    "#reading csv file\n",
    "green_df = pd.read_csv('green_data.csv')\n",
    "loaded = []\n",
    "for i in green_test:\n",
    "    k = []\n",
    "    k = np.asarray(i,dtype='uint8')\n",
    "    loaded.append(k)\n",
    "features = loaded\n",
    "target = green_df['disease']\n",
    "kmodel.fit(Ftrain,Ltrain)\n",
    "kmodel.score(Ftest,Ltest)"
   ]
  },
  {
   "cell_type": "code",
   "execution_count": 61,
   "id": "3b84096d",
   "metadata": {},
   "outputs": [
    {
     "name": "stdout",
     "output_type": "stream",
     "text": [
      "                               precision    recall  f1-score   support\n",
      "\n",
      "               bacterial_spot       0.28      0.76      0.41       115\n",
      "                 early_blight       1.00      0.02      0.03       120\n",
      "                      healthy       0.37      0.84      0.51       125\n",
      "                  late_blight       0.41      0.24      0.30       125\n",
      "                    leaf_mold       0.70      0.58      0.64       127\n",
      "           septoria_leaf_spot       0.69      0.30      0.42       117\n",
      "                  target_spot       0.58      0.31      0.41       115\n",
      "          tomato_mosaic_virus       0.45      0.52      0.48        54\n",
      "tomato_yellow_leaf_curl_virus       0.86      0.37      0.52       114\n",
      "      two-spotted_spider_mite       0.49      0.54      0.51       128\n",
      "\n",
      "                     accuracy                           0.45      1140\n",
      "                    macro avg       0.58      0.45      0.42      1140\n",
      "                 weighted avg       0.59      0.45      0.42      1140\n",
      "\n",
      "[[ 87   0  22   3   0   1   0   0   2   0]\n",
      " [ 76   2  13   1   6   1   8   5   0   8]\n",
      " [  7   0 105   8   1   0   0   2   0   2]\n",
      " [ 14   0  49  30   9  10   4   2   1   6]\n",
      " [  9   0  23  11  74   1   0   6   0   3]\n",
      " [  6   0  26   6  12  35   6   8   3  15]\n",
      " [ 31   0  26   1   0   0  36   2   0  19]\n",
      " [  3   0   5   6   3   0   0  28   0   9]\n",
      " [ 42   0  10   4   0   1   1   4  42  10]\n",
      " [ 36   0   4   3   1   2   7   5   1  69]]\n"
     ]
    }
   ],
   "source": [
    "y_predict = kmodel.fit(Ftrain, Ltrain).predict(Ftest)\n",
    "class_names = target.unique()\n",
    "print(classification_report(Ltest, y_predict, target_names=class_names))\n",
    "print(confusion_matrix(Ltest, y_predict))"
   ]
  },
  {
   "cell_type": "markdown",
   "id": "71f3ea86",
   "metadata": {},
   "source": [
    "# Logistic on Green channel data"
   ]
  },
  {
   "cell_type": "code",
   "execution_count": 62,
   "id": "28dad6b2",
   "metadata": {},
   "outputs": [
    {
     "data": {
      "text/plain": [
       "0.5622807017543859"
      ]
     },
     "execution_count": 62,
     "metadata": {},
     "output_type": "execute_result"
    }
   ],
   "source": [
    "model.fit(Ftrain,Ltrain)\n",
    "model.score(Ftest,Ltest)"
   ]
  },
  {
   "cell_type": "code",
   "execution_count": 63,
   "id": "839a329f",
   "metadata": {},
   "outputs": [
    {
     "name": "stdout",
     "output_type": "stream",
     "text": [
      "                               precision    recall  f1-score   support\n",
      "\n",
      "               bacterial_spot       0.48      0.62      0.54       115\n",
      "                 early_blight       0.41      0.38      0.40       120\n",
      "                      healthy       0.60      0.54      0.57       125\n",
      "                  late_blight       0.50      0.56      0.53       125\n",
      "                    leaf_mold       0.63      0.63      0.63       127\n",
      "           septoria_leaf_spot       0.43      0.38      0.40       117\n",
      "                  target_spot       0.56      0.55      0.55       115\n",
      "          tomato_mosaic_virus       0.67      0.76      0.71        54\n",
      "tomato_yellow_leaf_curl_virus       0.81      0.75      0.78       114\n",
      "      two-spotted_spider_mite       0.62      0.57      0.59       128\n",
      "\n",
      "                     accuracy                           0.56      1140\n",
      "                    macro avg       0.57      0.57      0.57      1140\n",
      "                 weighted avg       0.56      0.56      0.56      1140\n",
      "\n",
      "[[71 13  4  6  1  8  2  0  8  2]\n",
      " [19 46  4 17 12  8  4  0  2  8]\n",
      " [ 5 10 68 11  3  9 18  0  0  1]\n",
      " [ 9 10  9 70  6 10  2  1  4  4]\n",
      " [ 2  8  9  9 80  9  0  5  1  4]\n",
      " [12  5  5 11 18 44  6  9  3  4]\n",
      " [ 6  9 12  3  1  4 63  1  0 16]\n",
      " [ 0  0  1  0  2  4  4 41  0  2]\n",
      " [10  4  0  6  1  2  1  1 85  4]\n",
      " [13  7  2  7  3  5 13  3  2 73]]\n"
     ]
    }
   ],
   "source": [
    "y_predict = model.fit(Ftrain, Ltrain).predict(Ftest)\n",
    "class_names = target.unique()\n",
    "print(classification_report(Ltest, y_predict, target_names=class_names))\n",
    "print(confusion_matrix(Ltest, y_predict))"
   ]
  },
  {
   "cell_type": "markdown",
   "id": "f62f0223",
   "metadata": {},
   "source": [
    "# SVM on green channel data"
   ]
  },
  {
   "cell_type": "code",
   "execution_count": 64,
   "id": "e89e7297",
   "metadata": {},
   "outputs": [
    {
     "name": "stdout",
     "output_type": "stream",
     "text": [
      "0.6929824561403509\n"
     ]
    }
   ],
   "source": [
    "clf.fit(Ftrain,Ltrain)\n",
    "y_pred = clf.predict(Ftest)\n",
    "print(accuracy_score(Ltest,y_pred))"
   ]
  },
  {
   "cell_type": "code",
   "execution_count": 65,
   "id": "0a214a95",
   "metadata": {},
   "outputs": [
    {
     "name": "stdout",
     "output_type": "stream",
     "text": [
      "                               precision    recall  f1-score   support\n",
      "\n",
      "               bacterial_spot       0.66      0.83      0.73       115\n",
      "                 early_blight       0.51      0.47      0.49       120\n",
      "                      healthy       0.82      0.78      0.80       125\n",
      "                  late_blight       0.61      0.66      0.64       125\n",
      "                    leaf_mold       0.74      0.75      0.75       127\n",
      "           septoria_leaf_spot       0.67      0.60      0.63       117\n",
      "                  target_spot       0.69      0.67      0.68       115\n",
      "          tomato_mosaic_virus       0.76      0.89      0.82        54\n",
      "tomato_yellow_leaf_curl_virus       0.82      0.80      0.81       114\n",
      "      two-spotted_spider_mite       0.68      0.60      0.64       128\n",
      "\n",
      "                     accuracy                           0.69      1140\n",
      "                    macro avg       0.70      0.70      0.70      1140\n",
      "                 weighted avg       0.69      0.69      0.69      1140\n",
      "\n",
      "[[95  4  1  7  1  0  0  0  7  0]\n",
      " [23 56  3 14  5  2  7  0  3  7]\n",
      " [ 2  4 98  6  6  1  6  0  0  2]\n",
      " [ 9  9  4 83  7  8  1  0  1  3]\n",
      " [ 0  6  4  9 95  7  0  2  0  4]\n",
      " [ 3  2  4  8 11 70  5  6  4  4]\n",
      " [ 2 13  4  0  0  6 77  1  0 12]\n",
      " [ 0  1  0  0  0  3  0 48  0  2]\n",
      " [ 5  6  0  4  0  5  1  0 91  2]\n",
      " [ 6  9  1  4  3  3 14  6  5 77]]\n"
     ]
    }
   ],
   "source": [
    "y_predict = clf.fit(Ftrain, Ltrain).predict(Ftest)\n",
    "class_names = target.unique()\n",
    "print(classification_report(Ltest, y_predict, target_names=class_names))\n",
    "print(confusion_matrix(Ltest, y_predict))"
   ]
  },
  {
   "cell_type": "markdown",
   "id": "4f8e565e",
   "metadata": {},
   "source": [
    "# Random Forest on green channel data"
   ]
  },
  {
   "cell_type": "code",
   "execution_count": 66,
   "id": "96c92f8f",
   "metadata": {},
   "outputs": [
    {
     "data": {
      "text/plain": [
       "0.5384952840535205"
      ]
     },
     "execution_count": 66,
     "metadata": {},
     "output_type": "execute_result"
    }
   ],
   "source": [
    "classifier_rf.fit(Ftrain, Ltrain)\n",
    "classifier_rf.oob_score_"
   ]
  },
  {
   "cell_type": "code",
   "execution_count": 67,
   "id": "a8f818ad",
   "metadata": {},
   "outputs": [
    {
     "name": "stdout",
     "output_type": "stream",
     "text": [
      "                               precision    recall  f1-score   support\n",
      "\n",
      "               bacterial_spot       0.47      0.64      0.55       115\n",
      "                 early_blight       0.61      0.09      0.16       120\n",
      "                      healthy       0.61      0.91      0.73       125\n",
      "                  late_blight       0.65      0.34      0.44       125\n",
      "                    leaf_mold       0.61      0.68      0.64       127\n",
      "           septoria_leaf_spot       0.50      0.43      0.46       117\n",
      "                  target_spot       0.49      0.76      0.60       115\n",
      "          tomato_mosaic_virus       0.50      0.02      0.04        54\n",
      "tomato_yellow_leaf_curl_virus       0.54      0.83      0.65       114\n",
      "      two-spotted_spider_mite       0.48      0.45      0.46       128\n",
      "\n",
      "                     accuracy                           0.54      1140\n",
      "                    macro avg       0.55      0.51      0.47      1140\n",
      "                 weighted avg       0.55      0.54      0.50      1140\n",
      "\n",
      "[[ 74   0  11   5   0   1   2   0  21   1]\n",
      " [ 36  11   5   8   5   8  24   0  16   7]\n",
      " [  3   1 114   0   3   0   3   0   0   1]\n",
      " [  3   2  32  42  11  20   7   0   7   1]\n",
      " [  8   0   5   2  86   9   6   0   5   6]\n",
      " [  4   0  10   6  16  50   3   0  14  14]\n",
      " [  8   0   6   0   1   4  87   0   0   9]\n",
      " [  2   0   1   1  15   6   6   1   5  17]\n",
      " [  7   1   1   1   1   2   1   0  95   5]\n",
      " [ 11   3   3   0   2   0  37   1  14  57]]\n"
     ]
    }
   ],
   "source": [
    "y_predict = classifier_rf.fit(Ftrain, Ltrain).predict(Ftest)\n",
    "class_names = target.unique()\n",
    "print(classification_report(Ltest, y_predict, target_names=class_names))\n",
    "print(confusion_matrix(Ltest, y_predict))"
   ]
  },
  {
   "cell_type": "markdown",
   "id": "e9b1cca9",
   "metadata": {},
   "source": [
    "# Naive bayes on Green channel data"
   ]
  },
  {
   "cell_type": "code",
   "execution_count": 68,
   "id": "1136802c",
   "metadata": {},
   "outputs": [
    {
     "data": {
      "text/plain": [
       "0.45614035087719296"
      ]
     },
     "execution_count": 68,
     "metadata": {},
     "output_type": "execute_result"
    }
   ],
   "source": [
    "gnb.fit(Ftrain, Ltrain)\n",
    "y_pred = gnb.predict(Ftest)\n",
    "metrics.accuracy_score(Ltest, y_pred)"
   ]
  },
  {
   "cell_type": "code",
   "execution_count": 69,
   "id": "413e42be",
   "metadata": {},
   "outputs": [
    {
     "name": "stdout",
     "output_type": "stream",
     "text": [
      "                               precision    recall  f1-score   support\n",
      "\n",
      "               bacterial_spot       0.48      0.70      0.57       115\n",
      "                 early_blight       0.38      0.28      0.32       120\n",
      "                      healthy       0.46      0.68      0.55       125\n",
      "                  late_blight       0.37      0.22      0.27       125\n",
      "                    leaf_mold       0.76      0.42      0.54       127\n",
      "           septoria_leaf_spot       0.36      0.40      0.38       117\n",
      "                  target_spot       0.51      0.43      0.46       115\n",
      "          tomato_mosaic_virus       0.31      0.72      0.44        54\n",
      "tomato_yellow_leaf_curl_virus       0.65      0.46      0.54       114\n",
      "      two-spotted_spider_mite       0.42      0.43      0.43       128\n",
      "\n",
      "                     accuracy                           0.46      1140\n",
      "                    macro avg       0.47      0.47      0.45      1140\n",
      "                 weighted avg       0.48      0.46      0.45      1140\n",
      "\n",
      "[[80  3 15  1  0  2  3  4  7  0]\n",
      " [32 33  2 20  5  7  6  5  3  7]\n",
      " [ 2  0 85  5  5  3 16  4  0  5]\n",
      " [ 2 15 55 27  1 13  2  3  5  2]\n",
      " [10  4  3  5 53 30  2 15  1  4]\n",
      " [ 0  3 19  2  5 47  6 11  7 17]\n",
      " [ 8 11  1  8  0  7 49  5  0 26]\n",
      " [ 4  0  1  0  1  4  0 39  3  2]\n",
      " [16  8  2  4  0 10  0 10 52 12]\n",
      " [14 10  0  1  0  6 12 28  2 55]]\n"
     ]
    }
   ],
   "source": [
    "class_names = target.unique()\n",
    "print(classification_report(Ltest, y_pred, target_names=class_names))\n",
    "print(confusion_matrix(Ltest, y_pred))"
   ]
  },
  {
   "cell_type": "markdown",
   "id": "9002e08b",
   "metadata": {},
   "source": [
    "# Decision Tree on Green channel"
   ]
  },
  {
   "cell_type": "code",
   "execution_count": 70,
   "id": "6b115934",
   "metadata": {},
   "outputs": [
    {
     "data": {
      "text/plain": [
       "0.44649122807017544"
      ]
     },
     "execution_count": 70,
     "metadata": {},
     "output_type": "execute_result"
    }
   ],
   "source": [
    "classifier_tree.fit(Ftrain, Ltrain)\n",
    "classifier_tree.score(Ftest,Ltest)"
   ]
  },
  {
   "cell_type": "code",
   "execution_count": 71,
   "id": "a1694af3",
   "metadata": {},
   "outputs": [
    {
     "name": "stdout",
     "output_type": "stream",
     "text": [
      "                               precision    recall  f1-score   support\n",
      "\n",
      "               bacterial_spot       0.49      0.51      0.50       115\n",
      "                 early_blight       0.25      0.24      0.25       120\n",
      "                      healthy       0.62      0.68      0.65       125\n",
      "                  late_blight       0.50      0.43      0.46       125\n",
      "                    leaf_mold       0.54      0.52      0.53       127\n",
      "           septoria_leaf_spot       0.42      0.48      0.45       117\n",
      "                  target_spot       0.38      0.39      0.39       115\n",
      "          tomato_mosaic_virus       0.25      0.28      0.26        54\n",
      "tomato_yellow_leaf_curl_virus       0.55      0.47      0.51       114\n",
      "      two-spotted_spider_mite       0.34      0.34      0.34       128\n",
      "\n",
      "                     accuracy                           0.44      1140\n",
      "                    macro avg       0.43      0.43      0.43      1140\n",
      "                 weighted avg       0.44      0.44      0.44      1140\n",
      "\n",
      "[[59 19  3  7  5  1  7  4  7  3]\n",
      " [20 29  7  7  6  8  7  6 10 20]\n",
      " [ 6  4 85  6  5  3  7  5  1  3]\n",
      " [ 4 11 10 54  6 22  6  4  2  6]\n",
      " [ 2  3  5  8 66  9  8 14  4  8]\n",
      " [ 7  8  2 10  9 56 10  2  7  6]\n",
      " [ 1 11 10  3  5 12 45  3  2 23]\n",
      " [ 0  6  6  2  9  4  3 15  3  6]\n",
      " [15 10  2  5  7 10  0  1 54 10]\n",
      " [ 6 13  8  6  5  7 25  6  9 43]]\n"
     ]
    }
   ],
   "source": [
    "y_predict = classifier_tree.fit(Ftrain, Ltrain).predict(Ftest)\n",
    "class_names = target.unique()\n",
    "print(classification_report(Ltest, y_predict, target_names=class_names))\n",
    "print(confusion_matrix(Ltest, y_predict))"
   ]
  },
  {
   "cell_type": "markdown",
   "id": "75817642",
   "metadata": {},
   "source": [
    "# KNN on blue channel data"
   ]
  },
  {
   "cell_type": "code",
   "execution_count": 72,
   "id": "531e3624",
   "metadata": {},
   "outputs": [
    {
     "data": {
      "text/plain": [
       "0.4456140350877193"
      ]
     },
     "execution_count": 72,
     "metadata": {},
     "output_type": "execute_result"
    }
   ],
   "source": [
    "#reading numpy array data\n",
    "blue_test = np.load('blue_data.npy')\n",
    "#reading csv file\n",
    "blue_df = pd.read_csv('blue_data.csv')\n",
    "loaded = []\n",
    "for i in gray_test:\n",
    "    k = []\n",
    "    k = np.asarray(i,dtype='uint8')\n",
    "    loaded.append(k)\n",
    "features = loaded\n",
    "target = blue_df['disease']\n",
    "kmodel.fit(Ftrain,Ltrain)\n",
    "kmodel.score(Ftest,Ltest)"
   ]
  },
  {
   "cell_type": "code",
   "execution_count": 73,
   "id": "16330eb3",
   "metadata": {},
   "outputs": [
    {
     "name": "stdout",
     "output_type": "stream",
     "text": [
      "                               precision    recall  f1-score   support\n",
      "\n",
      "               bacterial_spot       0.28      0.76      0.41       115\n",
      "                 early_blight       1.00      0.02      0.03       120\n",
      "                      healthy       0.37      0.84      0.51       125\n",
      "                  late_blight       0.41      0.24      0.30       125\n",
      "                    leaf_mold       0.70      0.58      0.64       127\n",
      "           septoria_leaf_spot       0.69      0.30      0.42       117\n",
      "                  target_spot       0.58      0.31      0.41       115\n",
      "          tomato_mosaic_virus       0.45      0.52      0.48        54\n",
      "tomato_yellow_leaf_curl_virus       0.86      0.37      0.52       114\n",
      "      two-spotted_spider_mite       0.49      0.54      0.51       128\n",
      "\n",
      "                     accuracy                           0.45      1140\n",
      "                    macro avg       0.58      0.45      0.42      1140\n",
      "                 weighted avg       0.59      0.45      0.42      1140\n",
      "\n",
      "[[ 87   0  22   3   0   1   0   0   2   0]\n",
      " [ 76   2  13   1   6   1   8   5   0   8]\n",
      " [  7   0 105   8   1   0   0   2   0   2]\n",
      " [ 14   0  49  30   9  10   4   2   1   6]\n",
      " [  9   0  23  11  74   1   0   6   0   3]\n",
      " [  6   0  26   6  12  35   6   8   3  15]\n",
      " [ 31   0  26   1   0   0  36   2   0  19]\n",
      " [  3   0   5   6   3   0   0  28   0   9]\n",
      " [ 42   0  10   4   0   1   1   4  42  10]\n",
      " [ 36   0   4   3   1   2   7   5   1  69]]\n"
     ]
    }
   ],
   "source": [
    "y_predict = kmodel.fit(Ftrain, Ltrain).predict(Ftest)\n",
    "class_names = target.unique()\n",
    "print(classification_report(Ltest, y_predict, target_names=class_names))\n",
    "print(confusion_matrix(Ltest, y_predict))"
   ]
  },
  {
   "cell_type": "markdown",
   "id": "f452a113",
   "metadata": {},
   "source": [
    "# logistic on blue channel data"
   ]
  },
  {
   "cell_type": "code",
   "execution_count": 74,
   "id": "de158586",
   "metadata": {},
   "outputs": [
    {
     "data": {
      "text/plain": [
       "0.5622807017543859"
      ]
     },
     "execution_count": 74,
     "metadata": {},
     "output_type": "execute_result"
    }
   ],
   "source": [
    "model.fit(Ftrain,Ltrain)\n",
    "model.score(Ftest,Ltest)"
   ]
  },
  {
   "cell_type": "code",
   "execution_count": 75,
   "id": "30e98a1a",
   "metadata": {},
   "outputs": [
    {
     "name": "stdout",
     "output_type": "stream",
     "text": [
      "                               precision    recall  f1-score   support\n",
      "\n",
      "               bacterial_spot       0.48      0.62      0.54       115\n",
      "                 early_blight       0.41      0.38      0.40       120\n",
      "                      healthy       0.60      0.54      0.57       125\n",
      "                  late_blight       0.50      0.56      0.53       125\n",
      "                    leaf_mold       0.63      0.63      0.63       127\n",
      "           septoria_leaf_spot       0.43      0.38      0.40       117\n",
      "                  target_spot       0.56      0.55      0.55       115\n",
      "          tomato_mosaic_virus       0.67      0.76      0.71        54\n",
      "tomato_yellow_leaf_curl_virus       0.81      0.75      0.78       114\n",
      "      two-spotted_spider_mite       0.62      0.57      0.59       128\n",
      "\n",
      "                     accuracy                           0.56      1140\n",
      "                    macro avg       0.57      0.57      0.57      1140\n",
      "                 weighted avg       0.56      0.56      0.56      1140\n",
      "\n",
      "[[71 13  4  6  1  8  2  0  8  2]\n",
      " [19 46  4 17 12  8  4  0  2  8]\n",
      " [ 5 10 68 11  3  9 18  0  0  1]\n",
      " [ 9 10  9 70  6 10  2  1  4  4]\n",
      " [ 2  8  9  9 80  9  0  5  1  4]\n",
      " [12  5  5 11 18 44  6  9  3  4]\n",
      " [ 6  9 12  3  1  4 63  1  0 16]\n",
      " [ 0  0  1  0  2  4  4 41  0  2]\n",
      " [10  4  0  6  1  2  1  1 85  4]\n",
      " [13  7  2  7  3  5 13  3  2 73]]\n"
     ]
    }
   ],
   "source": [
    "y_predict = model.fit(Ftrain, Ltrain).predict(Ftest)\n",
    "class_names = target.unique()\n",
    "print(classification_report(Ltest, y_predict, target_names=class_names))\n",
    "print(confusion_matrix(Ltest, y_predict))"
   ]
  },
  {
   "cell_type": "markdown",
   "id": "c7585c1d",
   "metadata": {},
   "source": [
    "# SVM on blue channel data"
   ]
  },
  {
   "cell_type": "code",
   "execution_count": 76,
   "id": "06fb4a0f",
   "metadata": {},
   "outputs": [
    {
     "name": "stdout",
     "output_type": "stream",
     "text": [
      "0.6929824561403509\n"
     ]
    }
   ],
   "source": [
    "clf.fit(Ftrain,Ltrain)\n",
    "y_pred = clf.predict(Ftest)\n",
    "print(accuracy_score(Ltest,y_pred))"
   ]
  },
  {
   "cell_type": "code",
   "execution_count": 77,
   "id": "6e1082ce",
   "metadata": {},
   "outputs": [
    {
     "name": "stdout",
     "output_type": "stream",
     "text": [
      "                               precision    recall  f1-score   support\n",
      "\n",
      "               bacterial_spot       0.66      0.83      0.73       115\n",
      "                 early_blight       0.51      0.47      0.49       120\n",
      "                      healthy       0.82      0.78      0.80       125\n",
      "                  late_blight       0.61      0.66      0.64       125\n",
      "                    leaf_mold       0.74      0.75      0.75       127\n",
      "           septoria_leaf_spot       0.67      0.60      0.63       117\n",
      "                  target_spot       0.69      0.67      0.68       115\n",
      "          tomato_mosaic_virus       0.76      0.89      0.82        54\n",
      "tomato_yellow_leaf_curl_virus       0.82      0.80      0.81       114\n",
      "      two-spotted_spider_mite       0.68      0.60      0.64       128\n",
      "\n",
      "                     accuracy                           0.69      1140\n",
      "                    macro avg       0.70      0.70      0.70      1140\n",
      "                 weighted avg       0.69      0.69      0.69      1140\n",
      "\n",
      "[[95  4  1  7  1  0  0  0  7  0]\n",
      " [23 56  3 14  5  2  7  0  3  7]\n",
      " [ 2  4 98  6  6  1  6  0  0  2]\n",
      " [ 9  9  4 83  7  8  1  0  1  3]\n",
      " [ 0  6  4  9 95  7  0  2  0  4]\n",
      " [ 3  2  4  8 11 70  5  6  4  4]\n",
      " [ 2 13  4  0  0  6 77  1  0 12]\n",
      " [ 0  1  0  0  0  3  0 48  0  2]\n",
      " [ 5  6  0  4  0  5  1  0 91  2]\n",
      " [ 6  9  1  4  3  3 14  6  5 77]]\n"
     ]
    }
   ],
   "source": [
    "y_predict = clf.fit(Ftrain, Ltrain).predict(Ftest)\n",
    "class_names = target.unique()\n",
    "print(classification_report(Ltest, y_predict, target_names=class_names))\n",
    "print(confusion_matrix(Ltest, y_predict))"
   ]
  },
  {
   "cell_type": "markdown",
   "id": "f4eb8c6c",
   "metadata": {},
   "source": [
    "# Random Forest on blue channel data"
   ]
  },
  {
   "cell_type": "code",
   "execution_count": 78,
   "id": "b71407b2",
   "metadata": {},
   "outputs": [
    {
     "data": {
      "text/plain": [
       "0.5384952840535205"
      ]
     },
     "execution_count": 78,
     "metadata": {},
     "output_type": "execute_result"
    }
   ],
   "source": [
    "classifier_rf.fit(Ftrain, Ltrain)\n",
    "classifier_rf.oob_score_"
   ]
  },
  {
   "cell_type": "code",
   "execution_count": 79,
   "id": "aa723da2",
   "metadata": {},
   "outputs": [
    {
     "name": "stdout",
     "output_type": "stream",
     "text": [
      "                               precision    recall  f1-score   support\n",
      "\n",
      "               bacterial_spot       0.47      0.64      0.55       115\n",
      "                 early_blight       0.61      0.09      0.16       120\n",
      "                      healthy       0.61      0.91      0.73       125\n",
      "                  late_blight       0.65      0.34      0.44       125\n",
      "                    leaf_mold       0.61      0.68      0.64       127\n",
      "           septoria_leaf_spot       0.50      0.43      0.46       117\n",
      "                  target_spot       0.49      0.76      0.60       115\n",
      "          tomato_mosaic_virus       0.50      0.02      0.04        54\n",
      "tomato_yellow_leaf_curl_virus       0.54      0.83      0.65       114\n",
      "      two-spotted_spider_mite       0.48      0.45      0.46       128\n",
      "\n",
      "                     accuracy                           0.54      1140\n",
      "                    macro avg       0.55      0.51      0.47      1140\n",
      "                 weighted avg       0.55      0.54      0.50      1140\n",
      "\n",
      "[[ 74   0  11   5   0   1   2   0  21   1]\n",
      " [ 36  11   5   8   5   8  24   0  16   7]\n",
      " [  3   1 114   0   3   0   3   0   0   1]\n",
      " [  3   2  32  42  11  20   7   0   7   1]\n",
      " [  8   0   5   2  86   9   6   0   5   6]\n",
      " [  4   0  10   6  16  50   3   0  14  14]\n",
      " [  8   0   6   0   1   4  87   0   0   9]\n",
      " [  2   0   1   1  15   6   6   1   5  17]\n",
      " [  7   1   1   1   1   2   1   0  95   5]\n",
      " [ 11   3   3   0   2   0  37   1  14  57]]\n"
     ]
    }
   ],
   "source": [
    "y_predict = classifier_rf.fit(Ftrain, Ltrain).predict(Ftest)\n",
    "class_names = target.unique()\n",
    "print(classification_report(Ltest, y_predict, target_names=class_names))\n",
    "print(confusion_matrix(Ltest, y_predict))"
   ]
  },
  {
   "cell_type": "markdown",
   "id": "fb1ca20e",
   "metadata": {},
   "source": [
    "# Naive bayes on blue channel data"
   ]
  },
  {
   "cell_type": "code",
   "execution_count": 80,
   "id": "11ea0b85",
   "metadata": {},
   "outputs": [
    {
     "data": {
      "text/plain": [
       "0.45614035087719296"
      ]
     },
     "execution_count": 80,
     "metadata": {},
     "output_type": "execute_result"
    }
   ],
   "source": [
    "gnb.fit(Ftrain, Ltrain)\n",
    "y_pred = gnb.predict(Ftest)\n",
    "metrics.accuracy_score(Ltest, y_pred)"
   ]
  },
  {
   "cell_type": "code",
   "execution_count": 81,
   "id": "ca5ce1db",
   "metadata": {},
   "outputs": [
    {
     "name": "stdout",
     "output_type": "stream",
     "text": [
      "                               precision    recall  f1-score   support\n",
      "\n",
      "               bacterial_spot       0.48      0.70      0.57       115\n",
      "                 early_blight       0.38      0.28      0.32       120\n",
      "                      healthy       0.46      0.68      0.55       125\n",
      "                  late_blight       0.37      0.22      0.27       125\n",
      "                    leaf_mold       0.76      0.42      0.54       127\n",
      "           septoria_leaf_spot       0.36      0.40      0.38       117\n",
      "                  target_spot       0.51      0.43      0.46       115\n",
      "          tomato_mosaic_virus       0.31      0.72      0.44        54\n",
      "tomato_yellow_leaf_curl_virus       0.65      0.46      0.54       114\n",
      "      two-spotted_spider_mite       0.42      0.43      0.43       128\n",
      "\n",
      "                     accuracy                           0.46      1140\n",
      "                    macro avg       0.47      0.47      0.45      1140\n",
      "                 weighted avg       0.48      0.46      0.45      1140\n",
      "\n",
      "[[80  3 15  1  0  2  3  4  7  0]\n",
      " [32 33  2 20  5  7  6  5  3  7]\n",
      " [ 2  0 85  5  5  3 16  4  0  5]\n",
      " [ 2 15 55 27  1 13  2  3  5  2]\n",
      " [10  4  3  5 53 30  2 15  1  4]\n",
      " [ 0  3 19  2  5 47  6 11  7 17]\n",
      " [ 8 11  1  8  0  7 49  5  0 26]\n",
      " [ 4  0  1  0  1  4  0 39  3  2]\n",
      " [16  8  2  4  0 10  0 10 52 12]\n",
      " [14 10  0  1  0  6 12 28  2 55]]\n"
     ]
    }
   ],
   "source": [
    "class_names = target.unique()\n",
    "print(classification_report(Ltest, y_pred, target_names=class_names))\n",
    "print(confusion_matrix(Ltest, y_pred))"
   ]
  },
  {
   "cell_type": "markdown",
   "id": "d9c9d428",
   "metadata": {},
   "source": [
    "# Decision Tree on Blue channel"
   ]
  },
  {
   "cell_type": "code",
   "execution_count": 82,
   "id": "cbeebfa6",
   "metadata": {},
   "outputs": [
    {
     "data": {
      "text/plain": [
       "0.4298245614035088"
      ]
     },
     "execution_count": 82,
     "metadata": {},
     "output_type": "execute_result"
    }
   ],
   "source": [
    "classifier_tree.fit(Ftrain, Ltrain)\n",
    "classifier_tree.score(Ftest,Ltest)"
   ]
  },
  {
   "cell_type": "code",
   "execution_count": 84,
   "id": "f9a48e01",
   "metadata": {},
   "outputs": [
    {
     "name": "stdout",
     "output_type": "stream",
     "text": [
      "                               precision    recall  f1-score   support\n",
      "\n",
      "               bacterial_spot       0.47      0.50      0.49       115\n",
      "                 early_blight       0.27      0.28      0.27       120\n",
      "                      healthy       0.63      0.67      0.65       125\n",
      "                  late_blight       0.45      0.44      0.44       125\n",
      "                    leaf_mold       0.50      0.46      0.48       127\n",
      "           septoria_leaf_spot       0.41      0.42      0.41       117\n",
      "                  target_spot       0.42      0.43      0.42       115\n",
      "          tomato_mosaic_virus       0.18      0.26      0.21        54\n",
      "tomato_yellow_leaf_curl_virus       0.57      0.44      0.50       114\n",
      "      two-spotted_spider_mite       0.38      0.36      0.37       128\n",
      "\n",
      "                     accuracy                           0.44      1140\n",
      "                    macro avg       0.43      0.42      0.42      1140\n",
      "                 weighted avg       0.44      0.44      0.44      1140\n",
      "\n",
      "[[57 20  4  9  1  3  5  2 11  3]\n",
      " [15 33  7 11 11  8 10  7  6 12]\n",
      " [ 6  3 84  8  5  2  9  4  1  3]\n",
      " [ 7 13  8 55  5 21  4  3  2  7]\n",
      " [ 3  4  8  7 59 10  3 18  4 11]\n",
      " [ 7 10  2 12  9 49 10  7  4  7]\n",
      " [ 2  9  8  4  6 10 49  8  1 18]\n",
      " [ 2  5  3  6  6  5  5 14  1  7]\n",
      " [17  9  5  4  8  7  2  6 50  6]\n",
      " [ 4 16  5  7  7  5 21  9  8 46]]\n"
     ]
    }
   ],
   "source": [
    "y_predict = classifier_tree.fit(Ftrain, Ltrain).predict(Ftest)\n",
    "class_names = target.unique()\n",
    "print(classification_report(Ltest, y_predict, target_names=class_names))\n",
    "print(confusion_matrix(Ltest, y_predict))"
   ]
  }
 ],
 "metadata": {
  "kernelspec": {
   "display_name": "Python 3 (ipykernel)",
   "language": "python",
   "name": "python3"
  },
  "language_info": {
   "codemirror_mode": {
    "name": "ipython",
    "version": 3
   },
   "file_extension": ".py",
   "mimetype": "text/x-python",
   "name": "python",
   "nbconvert_exporter": "python",
   "pygments_lexer": "ipython3",
   "version": "3.9.12"
  }
 },
 "nbformat": 4,
 "nbformat_minor": 5
}
