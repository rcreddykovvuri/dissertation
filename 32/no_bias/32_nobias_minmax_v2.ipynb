{
 "cells": [
  {
   "cell_type": "code",
   "execution_count": 1,
   "id": "bcdb1517",
   "metadata": {},
   "outputs": [],
   "source": [
    "import numpy as np #importing numpy\n",
    "import pandas as pd #importing pandas\n",
    "import PIL #importing pillow for image processing\n",
    "from PIL import Image#importing image from pillow library\n",
    "import skimage#importing skimage library\n",
    "import os#importing os library\n",
    "import time#importing time library\n",
    "\n",
    "#Capture start time of the program\n",
    "start_time = time.time()"
   ]
  },
  {
   "cell_type": "code",
   "execution_count": 2,
   "id": "9ec45970",
   "metadata": {},
   "outputs": [],
   "source": [
    "#changing path\n",
    "os.chdir('D://DKIT//dissertation//Dataset_of_Tomato_Leaves//plantvillage//Preprocessed_data//32//32_no_bias_vector//')"
   ]
  },
  {
   "cell_type": "code",
   "execution_count": 3,
   "id": "ebe79cf6",
   "metadata": {},
   "outputs": [],
   "source": [
    "from sklearn.preprocessing import MinMaxScaler\n",
    "minmax = MinMaxScaler()"
   ]
  },
  {
   "cell_type": "markdown",
   "id": "e1e76605",
   "metadata": {},
   "source": [
    "# RGB Data"
   ]
  },
  {
   "cell_type": "code",
   "execution_count": 4,
   "id": "9386938c",
   "metadata": {},
   "outputs": [],
   "source": [
    "#reading numpy array data\n",
    "rgb_test = np.load('rgb_data.npy')\n",
    "#reading csv file\n",
    "rgb_df = pd.read_csv('rgb_data.csv')"
   ]
  },
  {
   "cell_type": "code",
   "execution_count": 5,
   "id": "40f528b5",
   "metadata": {},
   "outputs": [],
   "source": [
    "features = pd.DataFrame(rgb_test)"
   ]
  },
  {
   "cell_type": "code",
   "execution_count": 6,
   "id": "fdd9a1f6",
   "metadata": {},
   "outputs": [],
   "source": [
    "features = features.values"
   ]
  },
  {
   "cell_type": "code",
   "execution_count": 7,
   "id": "c6d5658c",
   "metadata": {},
   "outputs": [],
   "source": [
    "#assigning target\n",
    "target = rgb_df['disease']\n",
    "#splitting the data to 80 percent and 20 percent\n",
    "from sklearn.model_selection import train_test_split\n",
    "Ftrain,Ftest,Ltrain,Ltest=train_test_split(features,target, test_size=0.20, random_state=24)"
   ]
  },
  {
   "cell_type": "code",
   "execution_count": 8,
   "id": "c1415437",
   "metadata": {},
   "outputs": [],
   "source": [
    "Ftrain = minmax.fit_transform(Ftrain)\n",
    "Ftest = minmax.fit_transform(Ftest)"
   ]
  },
  {
   "cell_type": "code",
   "execution_count": 9,
   "id": "1fa0433e",
   "metadata": {},
   "outputs": [],
   "source": [
    "#importing classification report and confusion matrix\n",
    "from sklearn.metrics import classification_report, confusion_matrix"
   ]
  },
  {
   "cell_type": "markdown",
   "id": "d466ef5f",
   "metadata": {},
   "source": [
    "# SVM(poly) on RGB data"
   ]
  },
  {
   "cell_type": "code",
   "execution_count": 10,
   "id": "2427ed51",
   "metadata": {},
   "outputs": [
    {
     "name": "stdout",
     "output_type": "stream",
     "text": [
      "0.7087719298245614\n"
     ]
    }
   ],
   "source": [
    "from sklearn.svm import SVC\n",
    "from sklearn.metrics import accuracy_score\n",
    "\n",
    "svm_poly = SVC(kernel='poly')\n",
    "svm_poly.fit(Ftrain,Ltrain)\n",
    "y_pred = svm_poly.predict(Ftest)\n",
    "print(accuracy_score(Ltest,y_pred))"
   ]
  },
  {
   "cell_type": "code",
   "execution_count": 11,
   "id": "bf286604",
   "metadata": {},
   "outputs": [
    {
     "name": "stdout",
     "output_type": "stream",
     "text": [
      "                               precision    recall  f1-score   support\n",
      "\n",
      "               bacterial_spot       0.60      0.88      0.72       115\n",
      "                 early_blight       0.65      0.44      0.52       120\n",
      "                      healthy       0.81      0.87      0.84       125\n",
      "                  late_blight       0.66      0.68      0.67       125\n",
      "                    leaf_mold       0.86      0.67      0.75       127\n",
      "           septoria_leaf_spot       0.70      0.61      0.65       117\n",
      "                  target_spot       0.66      0.70      0.68       115\n",
      "          tomato_mosaic_virus       0.84      0.70      0.77        54\n",
      "tomato_yellow_leaf_curl_virus       0.89      0.78      0.83       114\n",
      "      two-spotted_spider_mite       0.60      0.75      0.67       128\n",
      "\n",
      "                     accuracy                           0.71      1140\n",
      "                    macro avg       0.73      0.71      0.71      1140\n",
      "                 weighted avg       0.72      0.71      0.71      1140\n",
      "\n",
      "[[101   3   1   4   0   0   1   0   5   0]\n",
      " [ 27  53   3   9   3   1  11   0   0  13]\n",
      " [  4   2 109   1   1   1   4   0   0   3]\n",
      " [ 16   9   5  85   1   3   3   0   0   3]\n",
      " [  3   3   3  15  85  11   0   1   0   6]\n",
      " [  3   2   7   8   7  71   6   4   3   6]\n",
      " [  4   3   6   0   0   3  81   0   0  18]\n",
      " [  0   1   0   0   0   3   4  38   0   8]\n",
      " [  7   4   0   2   0   6   0   0  89   6]\n",
      " [  2   2   1   5   2   3  12   2   3  96]]\n"
     ]
    }
   ],
   "source": [
    "#classification report\n",
    "y_predict = svm_poly.fit(Ftrain, Ltrain).predict(Ftest)\n",
    "class_names = target.unique()\n",
    "print(classification_report(Ltest, y_predict, target_names=class_names))\n",
    "print(confusion_matrix(Ltest, y_predict))"
   ]
  },
  {
   "cell_type": "markdown",
   "id": "4101cb88",
   "metadata": {},
   "source": [
    "# SVM(RBF) on RGB data"
   ]
  },
  {
   "cell_type": "code",
   "execution_count": 12,
   "id": "235aaf3a",
   "metadata": {},
   "outputs": [
    {
     "name": "stdout",
     "output_type": "stream",
     "text": [
      "0.7359649122807017\n"
     ]
    }
   ],
   "source": [
    "svm_rbf = SVC(kernel='rbf')\n",
    "svm_rbf.fit(Ftrain,Ltrain)\n",
    "y_pred = svm_rbf.predict(Ftest)\n",
    "print(accuracy_score(Ltest,y_pred))"
   ]
  },
  {
   "cell_type": "code",
   "execution_count": 13,
   "id": "1c7ce3a6",
   "metadata": {},
   "outputs": [
    {
     "name": "stdout",
     "output_type": "stream",
     "text": [
      "                               precision    recall  f1-score   support\n",
      "\n",
      "               bacterial_spot       0.76      0.80      0.78       115\n",
      "                 early_blight       0.60      0.47      0.52       120\n",
      "                      healthy       0.94      0.86      0.90       125\n",
      "                  late_blight       0.67      0.81      0.73       125\n",
      "                    leaf_mold       0.90      0.65      0.76       127\n",
      "           septoria_leaf_spot       0.62      0.75      0.68       117\n",
      "                  target_spot       0.66      0.73      0.69       115\n",
      "          tomato_mosaic_virus       0.80      0.59      0.68        54\n",
      "tomato_yellow_leaf_curl_virus       0.85      0.82      0.84       114\n",
      "      two-spotted_spider_mite       0.68      0.80      0.74       128\n",
      "\n",
      "                     accuracy                           0.74      1140\n",
      "                    macro avg       0.75      0.73      0.73      1140\n",
      "                 weighted avg       0.75      0.74      0.74      1140\n",
      "\n",
      "[[ 92   4   2   4   0   2   3   0   7   1]\n",
      " [ 20  56   2  12   3   6  11   0   1   9]\n",
      " [  0   0 107   4   0   1  10   0   0   3]\n",
      " [  1   9   2 101   2   6   1   0   2   1]\n",
      " [  0   4   1   9  83  22   3   1   0   4]\n",
      " [  1   2   0   8   3  88   4   3   5   3]\n",
      " [  0   9   0   3   0   4  84   0   0  15]\n",
      " [  0   2   0   1   0  10   3  32   0   6]\n",
      " [  3   3   0   6   1   1   0   1  94   5]\n",
      " [  4   5   0   2   0   3   8   3   1 102]]\n"
     ]
    }
   ],
   "source": [
    "#classification report\n",
    "y_predict = svm_rbf.fit(Ftrain, Ltrain).predict(Ftest)\n",
    "class_names = target.unique()\n",
    "print(classification_report(Ltest, y_predict, target_names=class_names))\n",
    "print(confusion_matrix(Ltest, y_predict))"
   ]
  },
  {
   "cell_type": "markdown",
   "id": "670ea3cc",
   "metadata": {},
   "source": [
    "# SVM(sigmoid) on RGB data"
   ]
  },
  {
   "cell_type": "code",
   "execution_count": 14,
   "id": "8aaf1a20",
   "metadata": {},
   "outputs": [
    {
     "name": "stdout",
     "output_type": "stream",
     "text": [
      "0.1\n"
     ]
    }
   ],
   "source": [
    "svm_si = SVC(kernel='sigmoid')\n",
    "svm_si.fit(Ftrain,Ltrain)\n",
    "y_pred = svm_si.predict(Ftest)\n",
    "print(accuracy_score(Ltest,y_pred))"
   ]
  },
  {
   "cell_type": "code",
   "execution_count": 15,
   "id": "9beeb8fa",
   "metadata": {},
   "outputs": [
    {
     "name": "stdout",
     "output_type": "stream",
     "text": [
      "                               precision    recall  f1-score   support\n",
      "\n",
      "               bacterial_spot       0.00      0.00      0.00       115\n",
      "                 early_blight       0.00      0.00      0.00       120\n",
      "                      healthy       0.00      0.00      0.00       125\n",
      "                  late_blight       0.00      0.00      0.00       125\n",
      "                    leaf_mold       0.00      0.00      0.00       127\n",
      "           septoria_leaf_spot       0.00      0.00      0.00       117\n",
      "                  target_spot       0.00      0.00      0.00       115\n",
      "          tomato_mosaic_virus       0.00      0.00      0.00        54\n",
      "tomato_yellow_leaf_curl_virus       0.10      1.00      0.18       114\n",
      "      two-spotted_spider_mite       0.00      0.00      0.00       128\n",
      "\n",
      "                     accuracy                           0.10      1140\n",
      "                    macro avg       0.01      0.10      0.02      1140\n",
      "                 weighted avg       0.01      0.10      0.02      1140\n",
      "\n",
      "[[  0   0   0   0   0   0   0   0 115   0]\n",
      " [  0   0   0   0   0   0   0   0 120   0]\n",
      " [  0   0   0   0   0   0   0   0 125   0]\n",
      " [  0   0   0   0   0   4   0   0 121   0]\n",
      " [  0   0   0   0   0   0   0   0 127   0]\n",
      " [  0   0   0   0   0   0   0   0 117   0]\n",
      " [  0   0   0   0   0   0   0   0 115   0]\n",
      " [  0   0   0   0   0   0   0   0  54   0]\n",
      " [  0   0   0   0   0   0   0   0 114   0]\n",
      " [  0   0   0   0   0   0   0   0 128   0]]\n"
     ]
    },
    {
     "name": "stderr",
     "output_type": "stream",
     "text": [
      "C:\\Users\\ravic\\anaconda3\\lib\\site-packages\\sklearn\\metrics\\_classification.py:1318: UndefinedMetricWarning: Precision and F-score are ill-defined and being set to 0.0 in labels with no predicted samples. Use `zero_division` parameter to control this behavior.\n",
      "  _warn_prf(average, modifier, msg_start, len(result))\n",
      "C:\\Users\\ravic\\anaconda3\\lib\\site-packages\\sklearn\\metrics\\_classification.py:1318: UndefinedMetricWarning: Precision and F-score are ill-defined and being set to 0.0 in labels with no predicted samples. Use `zero_division` parameter to control this behavior.\n",
      "  _warn_prf(average, modifier, msg_start, len(result))\n",
      "C:\\Users\\ravic\\anaconda3\\lib\\site-packages\\sklearn\\metrics\\_classification.py:1318: UndefinedMetricWarning: Precision and F-score are ill-defined and being set to 0.0 in labels with no predicted samples. Use `zero_division` parameter to control this behavior.\n",
      "  _warn_prf(average, modifier, msg_start, len(result))\n"
     ]
    }
   ],
   "source": [
    "#classification report\n",
    "y_predict = svm_si.fit(Ftrain, Ltrain).predict(Ftest)\n",
    "class_names = target.unique()\n",
    "print(classification_report(Ltest, y_predict, target_names=class_names))\n",
    "print(confusion_matrix(Ltest, y_predict))"
   ]
  },
  {
   "cell_type": "markdown",
   "id": "f985c500",
   "metadata": {},
   "source": [
    "# Bernouli Naive bayes on RGB data"
   ]
  },
  {
   "cell_type": "code",
   "execution_count": 16,
   "id": "75a3f18f",
   "metadata": {},
   "outputs": [
    {
     "data": {
      "text/plain": [
       "0.23771929824561402"
      ]
     },
     "execution_count": 16,
     "metadata": {},
     "output_type": "execute_result"
    }
   ],
   "source": [
    "from sklearn.naive_bayes import BernoulliNB\n",
    "from sklearn import metrics\n",
    "bnb = BernoulliNB()\n",
    "bnb.fit(Ftrain, Ltrain)\n",
    "y_pred = bnb.predict(Ftest)\n",
    "metrics.accuracy_score(Ltest, y_pred)"
   ]
  },
  {
   "cell_type": "code",
   "execution_count": 17,
   "id": "694c01aa",
   "metadata": {},
   "outputs": [
    {
     "name": "stdout",
     "output_type": "stream",
     "text": [
      "                               precision    recall  f1-score   support\n",
      "\n",
      "               bacterial_spot       0.17      0.94      0.28       115\n",
      "                 early_blight       0.37      0.15      0.21       120\n",
      "                      healthy       0.29      0.12      0.17       125\n",
      "                  late_blight       0.60      0.05      0.09       125\n",
      "                    leaf_mold       0.42      0.22      0.29       127\n",
      "           septoria_leaf_spot       0.17      0.04      0.07       117\n",
      "                  target_spot       0.19      0.09      0.12       115\n",
      "          tomato_mosaic_virus       0.00      0.00      0.00        54\n",
      "tomato_yellow_leaf_curl_virus       0.47      0.50      0.49       114\n",
      "      two-spotted_spider_mite       0.23      0.19      0.21       128\n",
      "\n",
      "                     accuracy                           0.24      1140\n",
      "                    macro avg       0.29      0.23      0.19      1140\n",
      "                 weighted avg       0.31      0.24      0.20      1140\n",
      "\n",
      "[[108   0   2   0   1   0   1   0   0   3]\n",
      " [ 54  18   5   4  11   3   5   1  14   5]\n",
      " [ 80   1  15   0   5   7   4   1   2  10]\n",
      " [ 86   9   3   6   3   0   2   0  12   4]\n",
      " [ 62   7   2   0  28   3   6   1  10   8]\n",
      " [ 70   6   7   0   6   5   3   0   4  16]\n",
      " [ 67   2   8   0   9   4  10   0   5  10]\n",
      " [ 38   1   3   0   0   2   2   0   3   5]\n",
      " [ 25   3   3   0   1   2   3   0  57  20]\n",
      " [ 60   2   4   0   2   4  18   0  14  24]]\n"
     ]
    }
   ],
   "source": [
    "class_names = target.unique()\n",
    "print(classification_report(Ltest, y_pred, target_names=class_names))\n",
    "print(confusion_matrix(Ltest, y_pred))"
   ]
  },
  {
   "cell_type": "markdown",
   "id": "67dd930c",
   "metadata": {},
   "source": [
    "# Multinomial Naive bayes on RGB data"
   ]
  },
  {
   "cell_type": "code",
   "execution_count": 18,
   "id": "3b80acde",
   "metadata": {},
   "outputs": [
    {
     "data": {
      "text/plain": [
       "0.4263157894736842"
      ]
     },
     "execution_count": 18,
     "metadata": {},
     "output_type": "execute_result"
    }
   ],
   "source": [
    "from sklearn.naive_bayes import MultinomialNB\n",
    "mnb = MultinomialNB()\n",
    "mnb.fit(Ftrain, Ltrain)\n",
    "y_pred = mnb.predict(Ftest)\n",
    "metrics.accuracy_score(Ltest, y_pred)"
   ]
  },
  {
   "cell_type": "code",
   "execution_count": 19,
   "id": "d6ed705b",
   "metadata": {},
   "outputs": [
    {
     "name": "stdout",
     "output_type": "stream",
     "text": [
      "                               precision    recall  f1-score   support\n",
      "\n",
      "               bacterial_spot       0.32      0.36      0.34       115\n",
      "                 early_blight       0.25      0.28      0.26       120\n",
      "                      healthy       0.40      0.74      0.52       125\n",
      "                  late_blight       0.32      0.26      0.29       125\n",
      "                    leaf_mold       0.66      0.55      0.60       127\n",
      "           septoria_leaf_spot       0.29      0.13      0.18       117\n",
      "                  target_spot       0.43      0.23      0.30       115\n",
      "          tomato_mosaic_virus       0.47      0.74      0.57        54\n",
      "tomato_yellow_leaf_curl_virus       0.81      0.64      0.72       114\n",
      "      two-spotted_spider_mite       0.42      0.49      0.45       128\n",
      "\n",
      "                     accuracy                           0.43      1140\n",
      "                    macro avg       0.44      0.44      0.42      1140\n",
      "                 weighted avg       0.43      0.43      0.41      1140\n",
      "\n",
      "[[41 29 13 10  0  9  3  1  4  5]\n",
      " [25 34  9  8 10  2  6  3  2 21]\n",
      " [ 0  0 92 13  1  5  9  1  0  4]\n",
      " [ 8  8 56 32  6  2  1  4  1  7]\n",
      " [ 4  3 15  9 70  8  2  8  0  8]\n",
      " [12  9 16 17 16 15  5  6 10 11]\n",
      " [13 32 20  2  1  0 26  2  0 19]\n",
      " [ 0  2  1  1  2  0  4 40  0  4]\n",
      " [11 10  3  4  0  2  1  1 73  9]\n",
      " [13 11  6  3  0  9  3 20  0 63]]\n"
     ]
    }
   ],
   "source": [
    "class_names = target.unique()\n",
    "print(classification_report(Ltest, y_pred, target_names=class_names))\n",
    "print(confusion_matrix(Ltest, y_pred))"
   ]
  },
  {
   "cell_type": "markdown",
   "id": "0e8f617d",
   "metadata": {},
   "source": [
    "# Grayscale data"
   ]
  },
  {
   "cell_type": "code",
   "execution_count": 20,
   "id": "57a9845e",
   "metadata": {},
   "outputs": [],
   "source": [
    "#reading numpy array data\n",
    "gray_test = np.load('gray_test.npy')\n",
    "#reading csv file\n",
    "gray_df = pd.read_csv('gray_data.csv')"
   ]
  },
  {
   "cell_type": "code",
   "execution_count": 21,
   "id": "d3abef95",
   "metadata": {},
   "outputs": [],
   "source": [
    "#assigning features and target to split the data\n",
    "features = pd.DataFrame(gray_test)\n",
    "features = features.values\n",
    "target = gray_df['disease']"
   ]
  },
  {
   "cell_type": "code",
   "execution_count": 22,
   "id": "a86eb99c",
   "metadata": {},
   "outputs": [],
   "source": [
    "#splitting the data to train and test\n",
    "Ftrain,Ftest,Ltrain,Ltest=train_test_split(features,target, test_size=0.20, random_state=24)"
   ]
  },
  {
   "cell_type": "code",
   "execution_count": 23,
   "id": "01626fe0",
   "metadata": {},
   "outputs": [],
   "source": [
    "Ftrain = minmax.fit_transform(Ftrain)\n",
    "Ftest = minmax.fit_transform(Ftest)"
   ]
  },
  {
   "cell_type": "markdown",
   "id": "8bfc6d84",
   "metadata": {},
   "source": [
    "# SVM(poly) on grayscale data"
   ]
  },
  {
   "cell_type": "code",
   "execution_count": 24,
   "id": "c9665abf",
   "metadata": {},
   "outputs": [
    {
     "name": "stdout",
     "output_type": "stream",
     "text": [
      "0.46403508771929824\n"
     ]
    }
   ],
   "source": [
    "svm_poly.fit(Ftrain,Ltrain)\n",
    "y_pred = svm_poly.predict(Ftest)\n",
    "print(accuracy_score(Ltest,y_pred))"
   ]
  },
  {
   "cell_type": "code",
   "execution_count": 25,
   "id": "2456eda7",
   "metadata": {},
   "outputs": [
    {
     "name": "stdout",
     "output_type": "stream",
     "text": [
      "                               precision    recall  f1-score   support\n",
      "\n",
      "               bacterial_spot       0.46      0.54      0.49       115\n",
      "                 early_blight       0.49      0.23      0.31       120\n",
      "                      healthy       0.53      0.70      0.60       125\n",
      "                  late_blight       0.52      0.45      0.48       125\n",
      "                    leaf_mold       0.61      0.46      0.53       127\n",
      "           septoria_leaf_spot       0.39      0.35      0.37       117\n",
      "                  target_spot       0.35      0.58      0.44       115\n",
      "          tomato_mosaic_virus       0.58      0.28      0.38        54\n",
      "tomato_yellow_leaf_curl_virus       0.56      0.33      0.42       114\n",
      "      two-spotted_spider_mite       0.41      0.59      0.49       128\n",
      "\n",
      "                     accuracy                           0.46      1140\n",
      "                    macro avg       0.49      0.45      0.45      1140\n",
      "                 weighted avg       0.48      0.46      0.46      1140\n",
      "\n",
      "[[62  4  9  5  1  4 17  0  6  7]\n",
      " [19 27  5  4  9  3 30  0  6 17]\n",
      " [ 7  0 88  4  3  8  6  0  2  7]\n",
      " [11  9 12 56  8 10  4  1  4 10]\n",
      " [ 1  3 13 15 59 10 12  3  4  7]\n",
      " [ 9  2 18  9  5 41 17  2  3 11]\n",
      " [ 4  0  9  3  5  6 67  0  1 20]\n",
      " [ 2  1  2  1  0  8  7 15  2 16]\n",
      " [13  4  7 10  7  9 10  2 38 14]\n",
      " [ 8  5  4  1  0  7 22  3  2 76]]\n"
     ]
    }
   ],
   "source": [
    "#classification report\n",
    "y_predict = svm_poly.fit(Ftrain, Ltrain).predict(Ftest)\n",
    "class_names = target.unique()\n",
    "print(classification_report(Ltest, y_predict, target_names=class_names))\n",
    "print(confusion_matrix(Ltest, y_predict))"
   ]
  },
  {
   "cell_type": "markdown",
   "id": "bd417df9",
   "metadata": {},
   "source": [
    "# SVM(RBF) on grayscale data"
   ]
  },
  {
   "cell_type": "code",
   "execution_count": 26,
   "id": "67772464",
   "metadata": {},
   "outputs": [
    {
     "name": "stdout",
     "output_type": "stream",
     "text": [
      "0.5666666666666667\n"
     ]
    }
   ],
   "source": [
    "svm_rbf.fit(Ftrain,Ltrain)\n",
    "y_pred = svm_rbf.predict(Ftest)\n",
    "print(accuracy_score(Ltest,y_pred))"
   ]
  },
  {
   "cell_type": "code",
   "execution_count": 27,
   "id": "34bbfd97",
   "metadata": {},
   "outputs": [
    {
     "name": "stdout",
     "output_type": "stream",
     "text": [
      "                               precision    recall  f1-score   support\n",
      "\n",
      "               bacterial_spot       0.71      0.53      0.61       115\n",
      "                 early_blight       0.44      0.36      0.39       120\n",
      "                      healthy       0.67      0.70      0.69       125\n",
      "                  late_blight       0.52      0.73      0.61       125\n",
      "                    leaf_mold       0.70      0.47      0.56       127\n",
      "           septoria_leaf_spot       0.46      0.61      0.53       117\n",
      "                  target_spot       0.51      0.63      0.56       115\n",
      "          tomato_mosaic_virus       0.49      0.33      0.40        54\n",
      "tomato_yellow_leaf_curl_virus       0.62      0.48      0.54       114\n",
      "      two-spotted_spider_mite       0.60      0.68      0.64       128\n",
      "\n",
      "                     accuracy                           0.57      1140\n",
      "                    macro avg       0.57      0.55      0.55      1140\n",
      "                 weighted avg       0.58      0.57      0.56      1140\n",
      "\n",
      "[[61  6 14  5  3  5  9  1  8  3]\n",
      " [16 43  2 15  7  7 13  4  3 10]\n",
      " [ 0  0 88  8  1 10 13  0  2  3]\n",
      " [ 1  8  5 91  3 10  2  0  3  2]\n",
      " [ 2  5  6 21 60 15  5  3  6  4]\n",
      " [ 0  4 10 12  5 71  6  2  5  2]\n",
      " [ 0 10  1 11  0  8 72  0  0 13]\n",
      " [ 0  2  1  0  1 14  3 18  5 10]\n",
      " [ 4  9  4 12  4  7  4  4 55 11]\n",
      " [ 2 11  0  0  2  6 13  5  2 87]]\n"
     ]
    }
   ],
   "source": [
    "#classification report\n",
    "y_predict = svm_rbf.fit(Ftrain, Ltrain).predict(Ftest)\n",
    "class_names = target.unique()\n",
    "print(classification_report(Ltest, y_predict, target_names=class_names))\n",
    "print(confusion_matrix(Ltest, y_predict))"
   ]
  },
  {
   "cell_type": "markdown",
   "id": "c1ed23e8",
   "metadata": {},
   "source": [
    "# SVM(sigmoid) on Grayscale data"
   ]
  },
  {
   "cell_type": "code",
   "execution_count": 28,
   "id": "b79e8630",
   "metadata": {},
   "outputs": [
    {
     "name": "stdout",
     "output_type": "stream",
     "text": [
      "0.0780701754385965\n"
     ]
    }
   ],
   "source": [
    "svm_si.fit(Ftrain,Ltrain)\n",
    "y_pred = svm_si.predict(Ftest)\n",
    "print(accuracy_score(Ltest,y_pred))"
   ]
  },
  {
   "cell_type": "code",
   "execution_count": 29,
   "id": "c64cd0a6",
   "metadata": {},
   "outputs": [
    {
     "name": "stdout",
     "output_type": "stream",
     "text": [
      "                               precision    recall  f1-score   support\n",
      "\n",
      "               bacterial_spot       0.05      0.37      0.09       115\n",
      "                 early_blight       0.00      0.00      0.00       120\n",
      "                      healthy       0.00      0.00      0.00       125\n",
      "                  late_blight       0.00      0.00      0.00       125\n",
      "                    leaf_mold       0.00      0.00      0.00       127\n",
      "           septoria_leaf_spot       0.00      0.00      0.00       117\n",
      "                  target_spot       0.00      0.00      0.00       115\n",
      "          tomato_mosaic_virus       0.00      0.00      0.00        54\n",
      "tomato_yellow_leaf_curl_virus       0.16      0.41      0.23       114\n",
      "      two-spotted_spider_mite       0.00      0.00      0.00       128\n",
      "\n",
      "                     accuracy                           0.08      1140\n",
      "                    macro avg       0.02      0.08      0.03      1140\n",
      "                 weighted avg       0.02      0.08      0.03      1140\n",
      "\n",
      "[[ 42   0   0   0   0   0   0   0  73   0]\n",
      " [ 56   0   0   0   0   0   0   0  64   0]\n",
      " [124   0   0   0   0   0   0   0   1   0]\n",
      " [107   0   0   0   0   4   0   0  14   0]\n",
      " [102   0   0   0   0   0   0   0  25   0]\n",
      " [112   0   0   0   0   0   0   0   5   0]\n",
      " [ 99   0   0   0   0   0   0   0  16   0]\n",
      " [ 46   0   0   0   0   0   0   0   8   0]\n",
      " [ 67   0   0   0   0   0   0   0  47   0]\n",
      " [ 87   0   0   0   0   0   0   0  41   0]]\n"
     ]
    },
    {
     "name": "stderr",
     "output_type": "stream",
     "text": [
      "C:\\Users\\ravic\\anaconda3\\lib\\site-packages\\sklearn\\metrics\\_classification.py:1318: UndefinedMetricWarning: Precision and F-score are ill-defined and being set to 0.0 in labels with no predicted samples. Use `zero_division` parameter to control this behavior.\n",
      "  _warn_prf(average, modifier, msg_start, len(result))\n",
      "C:\\Users\\ravic\\anaconda3\\lib\\site-packages\\sklearn\\metrics\\_classification.py:1318: UndefinedMetricWarning: Precision and F-score are ill-defined and being set to 0.0 in labels with no predicted samples. Use `zero_division` parameter to control this behavior.\n",
      "  _warn_prf(average, modifier, msg_start, len(result))\n",
      "C:\\Users\\ravic\\anaconda3\\lib\\site-packages\\sklearn\\metrics\\_classification.py:1318: UndefinedMetricWarning: Precision and F-score are ill-defined and being set to 0.0 in labels with no predicted samples. Use `zero_division` parameter to control this behavior.\n",
      "  _warn_prf(average, modifier, msg_start, len(result))\n"
     ]
    }
   ],
   "source": [
    "#classification report\n",
    "y_predict = svm_si.fit(Ftrain, Ltrain).predict(Ftest)\n",
    "class_names = target.unique()\n",
    "print(classification_report(Ltest, y_predict, target_names=class_names))\n",
    "print(confusion_matrix(Ltest, y_predict))"
   ]
  },
  {
   "cell_type": "markdown",
   "id": "8ba631c4",
   "metadata": {},
   "source": [
    "# Bernouli Naive bayes on grayscale data"
   ]
  },
  {
   "cell_type": "code",
   "execution_count": 30,
   "id": "f9c1d1df",
   "metadata": {},
   "outputs": [
    {
     "data": {
      "text/plain": [
       "0.12017543859649123"
      ]
     },
     "execution_count": 30,
     "metadata": {},
     "output_type": "execute_result"
    }
   ],
   "source": [
    "bnb.fit(Ftrain, Ltrain)\n",
    "y_pred = bnb.predict(Ftest)\n",
    "metrics.accuracy_score(Ltest, y_pred)"
   ]
  },
  {
   "cell_type": "code",
   "execution_count": 31,
   "id": "5349d0e6",
   "metadata": {},
   "outputs": [
    {
     "name": "stdout",
     "output_type": "stream",
     "text": [
      "                               precision    recall  f1-score   support\n",
      "\n",
      "               bacterial_spot       0.11      1.00      0.20       115\n",
      "                 early_blight       0.12      0.03      0.04       120\n",
      "                      healthy       0.31      0.04      0.07       125\n",
      "                  late_blight       0.57      0.03      0.06       125\n",
      "                    leaf_mold       0.21      0.03      0.05       127\n",
      "           septoria_leaf_spot       0.20      0.02      0.03       117\n",
      "                  target_spot       0.14      0.01      0.02       115\n",
      "          tomato_mosaic_virus       0.23      0.06      0.09        54\n",
      "tomato_yellow_leaf_curl_virus       0.00      0.00      0.00       114\n",
      "      two-spotted_spider_mite       0.00      0.00      0.00       128\n",
      "\n",
      "                     accuracy                           0.12      1140\n",
      "                    macro avg       0.19      0.12      0.06      1140\n",
      "                 weighted avg       0.19      0.12      0.05      1140\n",
      "\n",
      "[[115   0   0   0   0   0   0   0   0   0]\n",
      " [104   3   3   1   3   1   2   3   0   0]\n",
      " [113   3   5   0   2   1   0   0   0   1]\n",
      " [108   2   2   4   2   2   0   3   0   2]\n",
      " [110   4   2   2   4   2   1   2   0   0]\n",
      " [104   5   1   0   2   2   1   2   0   0]\n",
      " [105   4   1   0   1   1   1   0   1   1]\n",
      " [ 45   1   1   0   2   1   1   3   0   0]\n",
      " [112   1   0   0   0   0   1   0   0   0]\n",
      " [123   1   1   0   3   0   0   0   0   0]]\n"
     ]
    }
   ],
   "source": [
    "class_names = target.unique()\n",
    "print(classification_report(Ltest, y_pred, target_names=class_names))\n",
    "print(confusion_matrix(Ltest, y_pred))"
   ]
  },
  {
   "cell_type": "markdown",
   "id": "20b31faf",
   "metadata": {},
   "source": [
    "# Multinomial Naive bayes on Grayscale data"
   ]
  },
  {
   "cell_type": "code",
   "execution_count": 32,
   "id": "5bf3d424",
   "metadata": {},
   "outputs": [
    {
     "data": {
      "text/plain": [
       "0.2956140350877193"
      ]
     },
     "execution_count": 32,
     "metadata": {},
     "output_type": "execute_result"
    }
   ],
   "source": [
    "mnb.fit(Ftrain, Ltrain)\n",
    "y_pred = mnb.predict(Ftest)\n",
    "metrics.accuracy_score(Ltest, y_pred)"
   ]
  },
  {
   "cell_type": "code",
   "execution_count": 33,
   "id": "6ed85664",
   "metadata": {},
   "outputs": [
    {
     "name": "stdout",
     "output_type": "stream",
     "text": [
      "                               precision    recall  f1-score   support\n",
      "\n",
      "               bacterial_spot       0.26      0.24      0.25       115\n",
      "                 early_blight       0.24      0.28      0.26       120\n",
      "                      healthy       0.28      0.70      0.40       125\n",
      "                  late_blight       0.17      0.06      0.08       125\n",
      "                    leaf_mold       0.57      0.43      0.49       127\n",
      "           septoria_leaf_spot       0.25      0.13      0.17       117\n",
      "                  target_spot       0.39      0.20      0.26       115\n",
      "          tomato_mosaic_virus       0.34      0.20      0.26        54\n",
      "tomato_yellow_leaf_curl_virus       0.17      0.20      0.19       114\n",
      "      two-spotted_spider_mite       0.36      0.42      0.39       128\n",
      "\n",
      "                     accuracy                           0.30      1140\n",
      "                    macro avg       0.30      0.29      0.27      1140\n",
      "                 weighted avg       0.30      0.30      0.28      1140\n",
      "\n",
      "[[28 34 25  1  3  3  3  0  9  9]\n",
      " [20 34 12  3 11  0  7  2 11 20]\n",
      " [ 1  0 88  2  2 19  4  0  8  1]\n",
      " [ 8  6 74  7  9  4  1  4  7  5]\n",
      " [ 2  5 20 14 54  6  2  5 10  9]\n",
      " [ 6  9 36  7 12 15 10  1 10 11]\n",
      " [14 24 18  2  2  2 23  1  8 21]\n",
      " [ 0  1  2  3  0  2  4 11 24  7]\n",
      " [14 19 35  1  1  3  3  2 23 13]\n",
      " [16 12  9  2  0  5  2  6 22 54]]\n"
     ]
    }
   ],
   "source": [
    "class_names = target.unique()\n",
    "print(classification_report(Ltest, y_pred, target_names=class_names))\n",
    "print(confusion_matrix(Ltest, y_pred))"
   ]
  },
  {
   "cell_type": "markdown",
   "id": "6f5719a1",
   "metadata": {},
   "source": [
    "# Red Channel data"
   ]
  },
  {
   "cell_type": "code",
   "execution_count": 34,
   "id": "5f8b0e11",
   "metadata": {},
   "outputs": [],
   "source": [
    "#reading numpy array data\n",
    "red_test = np.load('red_data.npy')\n",
    "#reading csv file\n",
    "red_df = pd.read_csv('red_data.csv')\n",
    "#assigning features and target to split the data\n",
    "features = pd.DataFrame(red_test)\n",
    "features = features.values\n",
    "target = red_df['disease']\n",
    "#splitting the data to train and test\n",
    "Ftrain,Ftest,Ltrain,Ltest=train_test_split(features,target, test_size=0.20, random_state=24)"
   ]
  },
  {
   "cell_type": "code",
   "execution_count": 35,
   "id": "04272862",
   "metadata": {},
   "outputs": [],
   "source": [
    "Ftrain = minmax.fit_transform(Ftrain)\n",
    "Ftest = minmax.fit_transform(Ftest)"
   ]
  },
  {
   "cell_type": "markdown",
   "id": "c81dd4d2",
   "metadata": {},
   "source": [
    "# SVM(poly) on Red data"
   ]
  },
  {
   "cell_type": "code",
   "execution_count": 36,
   "id": "a9cb2e28",
   "metadata": {},
   "outputs": [
    {
     "name": "stdout",
     "output_type": "stream",
     "text": [
      "0.5\n"
     ]
    }
   ],
   "source": [
    "svm_poly.fit(Ftrain,Ltrain)\n",
    "y_pred = svm_poly.predict(Ftest)\n",
    "print(accuracy_score(Ltest,y_pred))"
   ]
  },
  {
   "cell_type": "code",
   "execution_count": 37,
   "id": "35b2ceaf",
   "metadata": {},
   "outputs": [
    {
     "name": "stdout",
     "output_type": "stream",
     "text": [
      "                               precision    recall  f1-score   support\n",
      "\n",
      "               bacterial_spot       0.47      0.59      0.52       115\n",
      "                 early_blight       0.49      0.23      0.31       120\n",
      "                      healthy       0.57      0.73      0.64       125\n",
      "                  late_blight       0.55      0.51      0.53       125\n",
      "                    leaf_mold       0.66      0.50      0.57       127\n",
      "           septoria_leaf_spot       0.41      0.34      0.37       117\n",
      "                  target_spot       0.43      0.61      0.50       115\n",
      "          tomato_mosaic_virus       0.63      0.35      0.45        54\n",
      "tomato_yellow_leaf_curl_virus       0.60      0.36      0.45       114\n",
      "      two-spotted_spider_mite       0.42      0.67      0.51       128\n",
      "\n",
      "                     accuracy                           0.50      1140\n",
      "                    macro avg       0.52      0.49      0.49      1140\n",
      "                 weighted avg       0.52      0.50      0.49      1140\n",
      "\n",
      "[[68  5  9  7  2  5  9  0  4  6]\n",
      " [23 27  3  2 11  4 26  0  5 19]\n",
      " [ 9  0 91  4  1  6  2  0  3  9]\n",
      " [ 9 10 14 64  7  8  1  0  4  8]\n",
      " [ 2  5 12 14 64  7  6  4  4  9]\n",
      " [ 7  2 16 12  6 40 17  1  3 13]\n",
      " [ 7  1  5  1  1  5 70  0  0 25]\n",
      " [ 0  0  2  2  2  5  7 19  3 14]\n",
      " [17  3  6 10  3  9  4  3 41 18]\n",
      " [ 3  2  2  1  0  9 21  3  1 86]]\n"
     ]
    }
   ],
   "source": [
    "#classification report\n",
    "y_predict = svm_poly.fit(Ftrain, Ltrain).predict(Ftest)\n",
    "class_names = target.unique()\n",
    "print(classification_report(Ltest, y_predict, target_names=class_names))\n",
    "print(confusion_matrix(Ltest, y_predict))"
   ]
  },
  {
   "cell_type": "markdown",
   "id": "bcdfb873",
   "metadata": {},
   "source": [
    "# SVM(RBF) on Red data"
   ]
  },
  {
   "cell_type": "code",
   "execution_count": 38,
   "id": "5e806290",
   "metadata": {},
   "outputs": [
    {
     "name": "stdout",
     "output_type": "stream",
     "text": [
      "0.5815789473684211\n"
     ]
    }
   ],
   "source": [
    "svm_rbf.fit(Ftrain,Ltrain)\n",
    "y_pred = svm_rbf.predict(Ftest)\n",
    "print(accuracy_score(Ltest,y_pred))"
   ]
  },
  {
   "cell_type": "code",
   "execution_count": 39,
   "id": "e613add4",
   "metadata": {},
   "outputs": [
    {
     "name": "stdout",
     "output_type": "stream",
     "text": [
      "                               precision    recall  f1-score   support\n",
      "\n",
      "               bacterial_spot       0.66      0.57      0.61       115\n",
      "                 early_blight       0.53      0.41      0.46       120\n",
      "                      healthy       0.70      0.72      0.71       125\n",
      "                  late_blight       0.54      0.72      0.62       125\n",
      "                    leaf_mold       0.76      0.51      0.61       127\n",
      "           septoria_leaf_spot       0.45      0.64      0.53       117\n",
      "                  target_spot       0.53      0.60      0.56       115\n",
      "          tomato_mosaic_virus       0.61      0.41      0.49        54\n",
      "tomato_yellow_leaf_curl_virus       0.63      0.43      0.51       114\n",
      "      two-spotted_spider_mite       0.55      0.70      0.62       128\n",
      "\n",
      "                     accuracy                           0.58      1140\n",
      "                    macro avg       0.60      0.57      0.57      1140\n",
      "                 weighted avg       0.60      0.58      0.58      1140\n",
      "\n",
      "[[65  4 10  8  2  7  6  1  9  3]\n",
      " [17 49  2 11  5  8 12  1  4 11]\n",
      " [ 0  0 90  8  1 11  9  0  2  4]\n",
      " [ 3  7  4 90  3 11  2  0  3  2]\n",
      " [ 2  5  7 17 65 14  5  2  5  5]\n",
      " [ 1  2  8 12  6 75  9  1  0  3]\n",
      " [ 0  9  0  5  0  9 69  0  0 23]\n",
      " [ 0  1  1  1  1  8  3 22  5 12]\n",
      " [ 8  7  6 14  2 14  1  4 49  9]\n",
      " [ 3  8  0  0  0  8 14  5  1 89]]\n"
     ]
    }
   ],
   "source": [
    "#classification report\n",
    "y_predict = svm_rbf.fit(Ftrain, Ltrain).predict(Ftest)\n",
    "class_names = target.unique()\n",
    "print(classification_report(Ltest, y_predict, target_names=class_names))\n",
    "print(confusion_matrix(Ltest, y_predict))"
   ]
  },
  {
   "cell_type": "markdown",
   "id": "558a44ca",
   "metadata": {},
   "source": [
    "# SVM(sigmoid) on Red data"
   ]
  },
  {
   "cell_type": "code",
   "execution_count": 40,
   "id": "dfde7ca8",
   "metadata": {},
   "outputs": [
    {
     "name": "stdout",
     "output_type": "stream",
     "text": [
      "0.1\n"
     ]
    }
   ],
   "source": [
    "svm_si.fit(Ftrain,Ltrain)\n",
    "y_pred = svm_si.predict(Ftest)\n",
    "print(accuracy_score(Ltest,y_pred))"
   ]
  },
  {
   "cell_type": "code",
   "execution_count": 41,
   "id": "b58142f8",
   "metadata": {},
   "outputs": [
    {
     "name": "stdout",
     "output_type": "stream",
     "text": [
      "                               precision    recall  f1-score   support\n",
      "\n",
      "               bacterial_spot       0.00      0.00      0.00       115\n",
      "                 early_blight       0.00      0.00      0.00       120\n",
      "                      healthy       0.00      0.00      0.00       125\n",
      "                  late_blight       0.00      0.00      0.00       125\n",
      "                    leaf_mold       0.00      0.00      0.00       127\n",
      "           septoria_leaf_spot       0.00      0.00      0.00       117\n",
      "                  target_spot       0.00      0.00      0.00       115\n",
      "          tomato_mosaic_virus       0.00      0.00      0.00        54\n",
      "tomato_yellow_leaf_curl_virus       0.10      1.00      0.18       114\n",
      "      two-spotted_spider_mite       0.00      0.00      0.00       128\n",
      "\n",
      "                     accuracy                           0.10      1140\n",
      "                    macro avg       0.01      0.10      0.02      1140\n",
      "                 weighted avg       0.01      0.10      0.02      1140\n",
      "\n",
      "[[  0   0   0   0   0   0   0   0 115   0]\n",
      " [  0   0   0   0   0   0   0   0 120   0]\n",
      " [  0   0   0   0   0   0   0   0 125   0]\n",
      " [  0   0   0   0   0   4   0   0 121   0]\n",
      " [  0   0   0   0   0   0   0   0 127   0]\n",
      " [  0   0   0   0   0   0   0   0 117   0]\n",
      " [  0   0   0   0   0   0   0   0 115   0]\n",
      " [  0   0   0   0   0   0   0   0  54   0]\n",
      " [  0   0   0   0   0   0   0   0 114   0]\n",
      " [  0   0   0   0   0   0   0   0 128   0]]\n"
     ]
    },
    {
     "name": "stderr",
     "output_type": "stream",
     "text": [
      "C:\\Users\\ravic\\anaconda3\\lib\\site-packages\\sklearn\\metrics\\_classification.py:1318: UndefinedMetricWarning: Precision and F-score are ill-defined and being set to 0.0 in labels with no predicted samples. Use `zero_division` parameter to control this behavior.\n",
      "  _warn_prf(average, modifier, msg_start, len(result))\n",
      "C:\\Users\\ravic\\anaconda3\\lib\\site-packages\\sklearn\\metrics\\_classification.py:1318: UndefinedMetricWarning: Precision and F-score are ill-defined and being set to 0.0 in labels with no predicted samples. Use `zero_division` parameter to control this behavior.\n",
      "  _warn_prf(average, modifier, msg_start, len(result))\n",
      "C:\\Users\\ravic\\anaconda3\\lib\\site-packages\\sklearn\\metrics\\_classification.py:1318: UndefinedMetricWarning: Precision and F-score are ill-defined and being set to 0.0 in labels with no predicted samples. Use `zero_division` parameter to control this behavior.\n",
      "  _warn_prf(average, modifier, msg_start, len(result))\n"
     ]
    }
   ],
   "source": [
    "#classification report\n",
    "y_predict = svm_si.fit(Ftrain, Ltrain).predict(Ftest)\n",
    "class_names = target.unique()\n",
    "print(classification_report(Ltest, y_predict, target_names=class_names))\n",
    "print(confusion_matrix(Ltest, y_predict))"
   ]
  },
  {
   "cell_type": "markdown",
   "id": "5a175c93",
   "metadata": {},
   "source": [
    "# Bernouli Naive bayes on Red data"
   ]
  },
  {
   "cell_type": "code",
   "execution_count": 42,
   "id": "d65fa897",
   "metadata": {},
   "outputs": [
    {
     "data": {
      "text/plain": [
       "0.14912280701754385"
      ]
     },
     "execution_count": 42,
     "metadata": {},
     "output_type": "execute_result"
    }
   ],
   "source": [
    "bnb.fit(Ftrain, Ltrain)\n",
    "y_pred = bnb.predict(Ftest)\n",
    "metrics.accuracy_score(Ltest, y_pred)"
   ]
  },
  {
   "cell_type": "code",
   "execution_count": 43,
   "id": "bdadbf8a",
   "metadata": {},
   "outputs": [
    {
     "name": "stdout",
     "output_type": "stream",
     "text": [
      "                               precision    recall  f1-score   support\n",
      "\n",
      "               bacterial_spot       0.13      1.00      0.23       115\n",
      "                 early_blight       0.25      0.04      0.07       120\n",
      "                      healthy       0.06      0.02      0.03       125\n",
      "                  late_blight       0.80      0.03      0.06       125\n",
      "                    leaf_mold       0.33      0.11      0.17       127\n",
      "           septoria_leaf_spot       0.06      0.02      0.03       117\n",
      "                  target_spot       0.28      0.09      0.13       115\n",
      "          tomato_mosaic_virus       0.15      0.04      0.06        54\n",
      "tomato_yellow_leaf_curl_virus       0.23      0.10      0.14       114\n",
      "      two-spotted_spider_mite       0.21      0.04      0.07       128\n",
      "\n",
      "                     accuracy                           0.15      1140\n",
      "                    macro avg       0.25      0.15      0.10      1140\n",
      "                 weighted avg       0.26      0.15      0.10      1140\n",
      "\n",
      "[[115   0   0   0   0   0   0   0   0   0]\n",
      " [ 85   5   4   0   6   7   5   3   2   3]\n",
      " [108   0   2   0   1   3   3   2   4   2]\n",
      " [101   1   5   4   4   5   1   1   2   1]\n",
      " [ 73   6   5   1  14  10   6   1  10   1]\n",
      " [ 93   2   6   0   7   2   0   2   4   1]\n",
      " [ 74   2   5   0   5   5  10   1   6   7]\n",
      " [ 35   3   3   0   1   1   0   2   6   3]\n",
      " [ 94   1   0   0   1   1   5   0  11   1]\n",
      " [108   0   1   0   3   1   6   1   3   5]]\n"
     ]
    }
   ],
   "source": [
    "class_names = target.unique()\n",
    "print(classification_report(Ltest, y_pred, target_names=class_names))\n",
    "print(confusion_matrix(Ltest, y_pred))"
   ]
  },
  {
   "cell_type": "markdown",
   "id": "39255a27",
   "metadata": {},
   "source": [
    "# Multinomial Naive bayes on Red data"
   ]
  },
  {
   "cell_type": "code",
   "execution_count": 44,
   "id": "437843bc",
   "metadata": {},
   "outputs": [
    {
     "data": {
      "text/plain": [
       "0.3087719298245614"
      ]
     },
     "execution_count": 44,
     "metadata": {},
     "output_type": "execute_result"
    }
   ],
   "source": [
    "mnb.fit(Ftrain, Ltrain)\n",
    "y_pred = mnb.predict(Ftest)\n",
    "metrics.accuracy_score(Ltest, y_pred)"
   ]
  },
  {
   "cell_type": "code",
   "execution_count": 45,
   "id": "2bcb0431",
   "metadata": {},
   "outputs": [
    {
     "name": "stdout",
     "output_type": "stream",
     "text": [
      "                               precision    recall  f1-score   support\n",
      "\n",
      "               bacterial_spot       0.29      0.38      0.33       115\n",
      "                 early_blight       0.25      0.20      0.22       120\n",
      "                      healthy       0.29      0.73      0.42       125\n",
      "                  late_blight       0.20      0.14      0.17       125\n",
      "                    leaf_mold       0.60      0.45      0.51       127\n",
      "           septoria_leaf_spot       0.18      0.10      0.13       117\n",
      "                  target_spot       0.42      0.21      0.28       115\n",
      "          tomato_mosaic_virus       0.41      0.33      0.37        54\n",
      "tomato_yellow_leaf_curl_virus       0.17      0.15      0.16       114\n",
      "      two-spotted_spider_mite       0.37      0.37      0.37       128\n",
      "\n",
      "                     accuracy                           0.31      1140\n",
      "                    macro avg       0.32      0.31      0.30      1140\n",
      "                 weighted avg       0.31      0.31      0.29      1140\n",
      "\n",
      "[[44 18 26  4  1  7  1  0  5  9]\n",
      " [30 24 13  4  9  5  9  0 11 15]\n",
      " [ 0  0 91 10  1 15  3  0  4  1]\n",
      " [ 8  4 69 18  7  9  0  1  6  3]\n",
      " [ 6  5 26 17 57  5  1  1  3  6]\n",
      " [ 9  4 31 16 16 12  8  5  8  8]\n",
      " [18 21 21  0  1  2 24  0  8 20]\n",
      " [ 0  1  0  2  2  0  2 18 23  6]\n",
      " [18  9 20 20  1  3  5 10 17 11]\n",
      " [21  9 12  1  0  9  4  9 16 47]]\n"
     ]
    }
   ],
   "source": [
    "class_names = target.unique()\n",
    "print(classification_report(Ltest, y_pred, target_names=class_names))\n",
    "print(confusion_matrix(Ltest, y_pred))"
   ]
  },
  {
   "cell_type": "markdown",
   "id": "11e4cd00",
   "metadata": {},
   "source": [
    "# Green channel data"
   ]
  },
  {
   "cell_type": "code",
   "execution_count": 46,
   "id": "40feb467",
   "metadata": {},
   "outputs": [],
   "source": [
    "#reading numpy array data\n",
    "green_test = np.load('green_data.npy')\n",
    "#reading csv file\n",
    "green_df = pd.read_csv('green_data.csv')\n",
    "#assigning features and target to split the data\n",
    "features = pd.DataFrame(green_test)\n",
    "features = features.values\n",
    "target = green_df['disease']\n",
    "#splitting the data to train and test\n",
    "Ftrain,Ftest,Ltrain,Ltest=train_test_split(features,target, test_size=0.20, random_state=24)"
   ]
  },
  {
   "cell_type": "code",
   "execution_count": 47,
   "id": "a2171acd",
   "metadata": {},
   "outputs": [],
   "source": [
    "Ftrain = minmax.fit_transform(Ftrain)\n",
    "Ftest = minmax.fit_transform(Ftest)"
   ]
  },
  {
   "cell_type": "markdown",
   "id": "9aa0bc22",
   "metadata": {},
   "source": [
    "# SVM(poly) on green data"
   ]
  },
  {
   "cell_type": "code",
   "execution_count": 48,
   "id": "fe39c65e",
   "metadata": {},
   "outputs": [
    {
     "name": "stdout",
     "output_type": "stream",
     "text": [
      "0.4570175438596491\n"
     ]
    }
   ],
   "source": [
    "svm_poly.fit(Ftrain,Ltrain)\n",
    "y_pred = svm_poly.predict(Ftest)\n",
    "print(accuracy_score(Ltest,y_pred))"
   ]
  },
  {
   "cell_type": "code",
   "execution_count": 49,
   "id": "8423b846",
   "metadata": {},
   "outputs": [
    {
     "name": "stdout",
     "output_type": "stream",
     "text": [
      "                               precision    recall  f1-score   support\n",
      "\n",
      "               bacterial_spot       0.52      0.50      0.51       115\n",
      "                 early_blight       0.44      0.23      0.30       120\n",
      "                      healthy       0.58      0.65      0.61       125\n",
      "                  late_blight       0.48      0.50      0.49       125\n",
      "                    leaf_mold       0.53      0.45      0.49       127\n",
      "           septoria_leaf_spot       0.41      0.25      0.31       117\n",
      "                  target_spot       0.33      0.63      0.44       115\n",
      "          tomato_mosaic_virus       0.48      0.22      0.30        54\n",
      "tomato_yellow_leaf_curl_virus       0.49      0.46      0.47       114\n",
      "      two-spotted_spider_mite       0.40      0.55      0.47       128\n",
      "\n",
      "                     accuracy                           0.46      1140\n",
      "                    macro avg       0.47      0.44      0.44      1140\n",
      "                 weighted avg       0.47      0.46      0.45      1140\n",
      "\n",
      "[[57  4  9  5  2  1 18  0  8 11]\n",
      " [15 27  2  7  9  1 36  0  9 14]\n",
      " [ 5  1 81  5  4  4 11  0  2 12]\n",
      " [ 5  9  7 63  9  9  5  3  5 10]\n",
      " [ 3  3 11 17 57  7 12  4  6  7]\n",
      " [ 9  3 20 14  8 29 18  1  9  6]\n",
      " [ 3  2  3  1  6  2 73  1  4 20]\n",
      " [ 1  2  1  6  5  5  9 12  3 10]\n",
      " [ 6  5  3 10  6  8  9  2 52 13]\n",
      " [ 5  5  3  2  1  5 27  2  8 70]]\n"
     ]
    }
   ],
   "source": [
    "#classification report\n",
    "y_predict = svm_poly.fit(Ftrain, Ltrain).predict(Ftest)\n",
    "class_names = target.unique()\n",
    "print(classification_report(Ltest, y_predict, target_names=class_names))\n",
    "print(confusion_matrix(Ltest, y_predict))"
   ]
  },
  {
   "cell_type": "markdown",
   "id": "6112d4e4",
   "metadata": {},
   "source": [
    "# SVM(RBF) on green data"
   ]
  },
  {
   "cell_type": "code",
   "execution_count": 50,
   "id": "69be936f",
   "metadata": {},
   "outputs": [
    {
     "name": "stdout",
     "output_type": "stream",
     "text": [
      "0.5596491228070175\n"
     ]
    }
   ],
   "source": [
    "svm_rbf.fit(Ftrain,Ltrain)\n",
    "y_pred = svm_rbf.predict(Ftest)\n",
    "print(accuracy_score(Ltest,y_pred))"
   ]
  },
  {
   "cell_type": "code",
   "execution_count": 51,
   "id": "81b4c571",
   "metadata": {},
   "outputs": [
    {
     "name": "stdout",
     "output_type": "stream",
     "text": [
      "                               precision    recall  f1-score   support\n",
      "\n",
      "               bacterial_spot       0.70      0.51      0.59       115\n",
      "                 early_blight       0.44      0.39      0.41       120\n",
      "                      healthy       0.72      0.65      0.68       125\n",
      "                  late_blight       0.54      0.65      0.59       125\n",
      "                    leaf_mold       0.72      0.48      0.58       127\n",
      "           septoria_leaf_spot       0.47      0.57      0.51       117\n",
      "                  target_spot       0.46      0.63      0.53       115\n",
      "          tomato_mosaic_virus       0.49      0.33      0.40        54\n",
      "tomato_yellow_leaf_curl_virus       0.55      0.55      0.55       114\n",
      "      two-spotted_spider_mite       0.60      0.69      0.64       128\n",
      "\n",
      "                     accuracy                           0.56      1140\n",
      "                    macro avg       0.57      0.55      0.55      1140\n",
      "                 weighted avg       0.57      0.56      0.56      1140\n",
      "\n",
      "[[59  4 10  2  4  3 13  1 14  5]\n",
      " [14 47  2 13  7  5 16  1  4 11]\n",
      " [ 0  1 81  6  1  9 23  0  2  2]\n",
      " [ 0  9  3 81  4 11  3  2  9  3]\n",
      " [ 1  7  3 22 61 12  5  6  6  4]\n",
      " [ 2  4  6 15  5 67  6  2  9  1]\n",
      " [ 0 12  2  5  1  8 73  0  0 14]\n",
      " [ 1  3  2  0  1 14  2 18  4  9]\n",
      " [ 5  8  4  7  1  8  4  4 63 10]\n",
      " [ 2 12  0  0  0  7 13  3  3 88]]\n"
     ]
    }
   ],
   "source": [
    "#classification report\n",
    "y_predict = svm_rbf.fit(Ftrain, Ltrain).predict(Ftest)\n",
    "class_names = target.unique()\n",
    "print(classification_report(Ltest, y_predict, target_names=class_names))\n",
    "print(confusion_matrix(Ltest, y_predict))"
   ]
  },
  {
   "cell_type": "markdown",
   "id": "662d1937",
   "metadata": {},
   "source": [
    "# SVM(sigmoid) on green data"
   ]
  },
  {
   "cell_type": "code",
   "execution_count": 52,
   "id": "7f6adcca",
   "metadata": {},
   "outputs": [
    {
     "name": "stdout",
     "output_type": "stream",
     "text": [
      "0.08421052631578947\n"
     ]
    }
   ],
   "source": [
    "svm_si.fit(Ftrain,Ltrain)\n",
    "y_pred = svm_si.predict(Ftest)\n",
    "print(accuracy_score(Ltest,y_pred))"
   ]
  },
  {
   "cell_type": "code",
   "execution_count": 53,
   "id": "251d68f3",
   "metadata": {},
   "outputs": [
    {
     "name": "stdout",
     "output_type": "stream",
     "text": [
      "                               precision    recall  f1-score   support\n",
      "\n",
      "               bacterial_spot       0.07      0.52      0.12       115\n",
      "                 early_blight       0.00      0.00      0.00       120\n",
      "                      healthy       0.00      0.00      0.00       125\n",
      "                  late_blight       0.00      0.00      0.00       125\n",
      "                    leaf_mold       0.00      0.00      0.00       127\n",
      "           septoria_leaf_spot       0.00      0.00      0.00       117\n",
      "                  target_spot       0.00      0.00      0.00       115\n",
      "          tomato_mosaic_virus       0.00      0.00      0.00        54\n",
      "tomato_yellow_leaf_curl_virus       0.16      0.32      0.21       114\n",
      "      two-spotted_spider_mite       0.00      0.00      0.00       128\n",
      "\n",
      "                     accuracy                           0.08      1140\n",
      "                    macro avg       0.02      0.08      0.03      1140\n",
      "                 weighted avg       0.02      0.08      0.03      1140\n",
      "\n",
      "[[ 60   0   0   0   0   0   0   0  55   0]\n",
      " [ 67   0   0   0   0   0   0   0  53   0]\n",
      " [125   0   0   0   0   0   0   0   0   0]\n",
      " [109   0   0   0   0   4   0   0  12   0]\n",
      " [108   0   0   0   0   0   0   0  19   0]\n",
      " [113   0   0   0   0   0   0   0   4   0]\n",
      " [108   0   0   0   0   0   0   0   7   0]\n",
      " [ 50   0   0   0   0   0   0   0   4   0]\n",
      " [ 78   0   0   0   0   0   0   0  36   0]\n",
      " [ 95   0   0   0   0   0   0   0  33   0]]\n"
     ]
    },
    {
     "name": "stderr",
     "output_type": "stream",
     "text": [
      "C:\\Users\\ravic\\anaconda3\\lib\\site-packages\\sklearn\\metrics\\_classification.py:1318: UndefinedMetricWarning: Precision and F-score are ill-defined and being set to 0.0 in labels with no predicted samples. Use `zero_division` parameter to control this behavior.\n",
      "  _warn_prf(average, modifier, msg_start, len(result))\n",
      "C:\\Users\\ravic\\anaconda3\\lib\\site-packages\\sklearn\\metrics\\_classification.py:1318: UndefinedMetricWarning: Precision and F-score are ill-defined and being set to 0.0 in labels with no predicted samples. Use `zero_division` parameter to control this behavior.\n",
      "  _warn_prf(average, modifier, msg_start, len(result))\n",
      "C:\\Users\\ravic\\anaconda3\\lib\\site-packages\\sklearn\\metrics\\_classification.py:1318: UndefinedMetricWarning: Precision and F-score are ill-defined and being set to 0.0 in labels with no predicted samples. Use `zero_division` parameter to control this behavior.\n",
      "  _warn_prf(average, modifier, msg_start, len(result))\n"
     ]
    }
   ],
   "source": [
    "#classification report\n",
    "y_predict = svm_si.fit(Ftrain, Ltrain).predict(Ftest)\n",
    "class_names = target.unique()\n",
    "print(classification_report(Ltest, y_predict, target_names=class_names))\n",
    "print(confusion_matrix(Ltest, y_predict))"
   ]
  },
  {
   "cell_type": "markdown",
   "id": "8aa412dd",
   "metadata": {},
   "source": [
    "# Bernouli Naive bayes on green data"
   ]
  },
  {
   "cell_type": "code",
   "execution_count": 54,
   "id": "b6622b8d",
   "metadata": {},
   "outputs": [
    {
     "data": {
      "text/plain": [
       "0.1394736842105263"
      ]
     },
     "execution_count": 54,
     "metadata": {},
     "output_type": "execute_result"
    }
   ],
   "source": [
    "bnb.fit(Ftrain, Ltrain)\n",
    "y_pred = bnb.predict(Ftest)\n",
    "metrics.accuracy_score(Ltest, y_pred)"
   ]
  },
  {
   "cell_type": "code",
   "execution_count": 55,
   "id": "f3c6b16f",
   "metadata": {},
   "outputs": [
    {
     "name": "stdout",
     "output_type": "stream",
     "text": [
      "                               precision    recall  f1-score   support\n",
      "\n",
      "               bacterial_spot       0.12      1.00      0.21       115\n",
      "                 early_blight       0.54      0.12      0.20       120\n",
      "                      healthy       0.23      0.04      0.07       125\n",
      "                  late_blight       0.67      0.03      0.06       125\n",
      "                    leaf_mold       0.33      0.12      0.17       127\n",
      "           septoria_leaf_spot       0.07      0.02      0.03       117\n",
      "                  target_spot       0.14      0.01      0.02       115\n",
      "          tomato_mosaic_virus       0.05      0.02      0.03        54\n",
      "tomato_yellow_leaf_curl_virus       0.50      0.01      0.02       114\n",
      "      two-spotted_spider_mite       0.00      0.00      0.00       128\n",
      "\n",
      "                     accuracy                           0.14      1140\n",
      "                    macro avg       0.26      0.14      0.08      1140\n",
      "                 weighted avg       0.28      0.14      0.08      1140\n",
      "\n",
      "[[115   0   0   0   0   0   0   0   0   0]\n",
      " [ 75  15   2   2  12   3   2   8   0   1]\n",
      " [103   3   5   0   6   6   2   0   0   0]\n",
      " [101   2   4   4   3   3   0   6   0   2]\n",
      " [ 96   3   4   0  15   5   0   4   0   0]\n",
      " [102   2   3   0   5   2   1   2   0   0]\n",
      " [108   0   2   0   0   3   1   0   0   1]\n",
      " [ 44   2   1   0   2   2   1   1   1   0]\n",
      " [109   1   0   0   2   1   0   0   1   0]\n",
      " [124   0   1   0   1   2   0   0   0   0]]\n"
     ]
    }
   ],
   "source": [
    "class_names = target.unique()\n",
    "print(classification_report(Ltest, y_pred, target_names=class_names))\n",
    "print(confusion_matrix(Ltest, y_pred))"
   ]
  },
  {
   "cell_type": "markdown",
   "id": "d144692e",
   "metadata": {},
   "source": [
    "# Multinomial Naive bayes on Green data"
   ]
  },
  {
   "cell_type": "code",
   "execution_count": 56,
   "id": "a7a34c33",
   "metadata": {},
   "outputs": [
    {
     "data": {
      "text/plain": [
       "0.29035087719298247"
      ]
     },
     "execution_count": 56,
     "metadata": {},
     "output_type": "execute_result"
    }
   ],
   "source": [
    "mnb.fit(Ftrain, Ltrain)\n",
    "y_pred = mnb.predict(Ftest)\n",
    "metrics.accuracy_score(Ltest, y_pred)"
   ]
  },
  {
   "cell_type": "code",
   "execution_count": 57,
   "id": "441ea45d",
   "metadata": {},
   "outputs": [
    {
     "name": "stdout",
     "output_type": "stream",
     "text": [
      "                               precision    recall  f1-score   support\n",
      "\n",
      "               bacterial_spot       0.24      0.18      0.21       115\n",
      "                 early_blight       0.25      0.38      0.30       120\n",
      "                      healthy       0.28      0.58      0.38       125\n",
      "                  late_blight       0.17      0.11      0.13       125\n",
      "                    leaf_mold       0.60      0.36      0.45       127\n",
      "           septoria_leaf_spot       0.23      0.07      0.11       117\n",
      "                  target_spot       0.30      0.16      0.21       115\n",
      "          tomato_mosaic_virus       0.29      0.26      0.27        54\n",
      "tomato_yellow_leaf_curl_virus       0.20      0.24      0.22       114\n",
      "      two-spotted_spider_mite       0.38      0.51      0.43       128\n",
      "\n",
      "                     accuracy                           0.29      1140\n",
      "                    macro avg       0.29      0.28      0.27      1140\n",
      "                 weighted avg       0.30      0.29      0.27      1140\n",
      "\n",
      "[[21 40 19  4  3  2  6  0 10 10]\n",
      " [14 45  8  9 10  0  6  2  6 20]\n",
      " [ 2  0 73  4  2 10 13  2 18  1]\n",
      " [ 4 13 62 14  5  3  2  6  8  8]\n",
      " [ 2 11 14 18 46  3  2  7 15  9]\n",
      " [ 5  8 33 11  9  8  9  2 15 17]\n",
      " [13 24 15  8  1  5 18  2  5 24]\n",
      " [ 3  3  2  8  1  0  0 14 18  5]\n",
      " [14 23 31  2  0  0  2  2 27 13]\n",
      " [10 13  4  5  0  4  2 12 13 65]]\n"
     ]
    }
   ],
   "source": [
    "class_names = target.unique()\n",
    "print(classification_report(Ltest, y_pred, target_names=class_names))\n",
    "print(confusion_matrix(Ltest, y_pred))"
   ]
  },
  {
   "cell_type": "markdown",
   "id": "a6a80ecb",
   "metadata": {},
   "source": [
    "# Blue channel data"
   ]
  },
  {
   "cell_type": "code",
   "execution_count": 58,
   "id": "06094596",
   "metadata": {},
   "outputs": [],
   "source": [
    "#reading numpy array data\n",
    "blue_test = np.load('blue_data.npy')\n",
    "#reading csv file\n",
    "blue_df = pd.read_csv('blue_data.csv')\n",
    "#assigning features and target to split the data\n",
    "features = pd.DataFrame(blue_test)\n",
    "features = features.values\n",
    "target = blue_df['disease']\n",
    "#splitting the data to train and test\n",
    "Ftrain,Ftest,Ltrain,Ltest=train_test_split(features,target, test_size=0.20, random_state=24)"
   ]
  },
  {
   "cell_type": "code",
   "execution_count": 59,
   "id": "5b51b26a",
   "metadata": {},
   "outputs": [],
   "source": [
    "Ftrain = minmax.fit_transform(Ftrain)\n",
    "Ftest = minmax.fit_transform(Ftest)"
   ]
  },
  {
   "cell_type": "markdown",
   "id": "4d40997b",
   "metadata": {},
   "source": [
    "# SVM(poly) on blue data"
   ]
  },
  {
   "cell_type": "code",
   "execution_count": 60,
   "id": "39b88095",
   "metadata": {},
   "outputs": [
    {
     "name": "stdout",
     "output_type": "stream",
     "text": [
      "0.5\n"
     ]
    }
   ],
   "source": [
    "svm_poly.fit(Ftrain,Ltrain)\n",
    "y_pred = svm_poly.predict(Ftest)\n",
    "print(accuracy_score(Ltest,y_pred))"
   ]
  },
  {
   "cell_type": "code",
   "execution_count": 61,
   "id": "dc98d740",
   "metadata": {},
   "outputs": [
    {
     "name": "stdout",
     "output_type": "stream",
     "text": [
      "                               precision    recall  f1-score   support\n",
      "\n",
      "               bacterial_spot       0.41      0.63      0.50       115\n",
      "                 early_blight       0.35      0.40      0.37       120\n",
      "                      healthy       0.60      0.81      0.69       125\n",
      "                  late_blight       0.64      0.41      0.50       125\n",
      "                    leaf_mold       0.62      0.55      0.58       127\n",
      "           septoria_leaf_spot       0.36      0.38      0.37       117\n",
      "                  target_spot       0.42      0.50      0.46       115\n",
      "          tomato_mosaic_virus       0.44      0.44      0.44        54\n",
      "tomato_yellow_leaf_curl_virus       0.84      0.46      0.59       114\n",
      "      two-spotted_spider_mite       0.57      0.38      0.45       128\n",
      "\n",
      "                     accuracy                           0.50      1140\n",
      "                    macro avg       0.52      0.50      0.50      1140\n",
      "                 weighted avg       0.53      0.50      0.50      1140\n",
      "\n",
      "[[ 73  12  11   3   1   7   4   0   2   2]\n",
      " [ 25  48   7   7   6   6  14   1   1   5]\n",
      " [  8   1 101   2   1   0  11   0   0   1]\n",
      " [  7  15  24  51  10   7   4   4   1   2]\n",
      " [  4  10   1   7  70  20   6   5   0   4]\n",
      " [  5  14   5   4  19  45  11   6   3   5]\n",
      " [ 18  10  15   1   3   4  58   1   0   5]\n",
      " [  2   3   0   1   1  13   3  24   0   7]\n",
      " [ 17  16   1   2   1  13   2   5  52   5]\n",
      " [ 20   8   2   2   1   9  26   9   3  48]]\n"
     ]
    }
   ],
   "source": [
    "#classification report\n",
    "y_predict = svm_poly.fit(Ftrain, Ltrain).predict(Ftest)\n",
    "class_names = target.unique()\n",
    "print(classification_report(Ltest, y_predict, target_names=class_names))\n",
    "print(confusion_matrix(Ltest, y_predict))"
   ]
  },
  {
   "cell_type": "markdown",
   "id": "5226f4f2",
   "metadata": {},
   "source": [
    "# SVM(RBF) on blue data"
   ]
  },
  {
   "cell_type": "code",
   "execution_count": 62,
   "id": "183a5680",
   "metadata": {},
   "outputs": [
    {
     "name": "stdout",
     "output_type": "stream",
     "text": [
      "0.6333333333333333\n"
     ]
    }
   ],
   "source": [
    "svm_rbf.fit(Ftrain,Ltrain)\n",
    "y_pred = svm_rbf.predict(Ftest)\n",
    "print(accuracy_score(Ltest,y_pred))"
   ]
  },
  {
   "cell_type": "code",
   "execution_count": 63,
   "id": "22270861",
   "metadata": {},
   "outputs": [
    {
     "name": "stdout",
     "output_type": "stream",
     "text": [
      "                               precision    recall  f1-score   support\n",
      "\n",
      "               bacterial_spot       0.66      0.77      0.71       115\n",
      "                 early_blight       0.47      0.47      0.47       120\n",
      "                      healthy       0.75      0.86      0.80       125\n",
      "                  late_blight       0.68      0.63      0.65       125\n",
      "                    leaf_mold       0.76      0.58      0.66       127\n",
      "           septoria_leaf_spot       0.56      0.57      0.57       117\n",
      "                  target_spot       0.49      0.62      0.54       115\n",
      "          tomato_mosaic_virus       0.60      0.65      0.62        54\n",
      "tomato_yellow_leaf_curl_virus       0.80      0.68      0.73       114\n",
      "      two-spotted_spider_mite       0.62      0.53      0.57       128\n",
      "\n",
      "                     accuracy                           0.63      1140\n",
      "                    macro avg       0.64      0.63      0.63      1140\n",
      "                 weighted avg       0.64      0.63      0.63      1140\n",
      "\n",
      "[[ 88   5   5   3   1   1   3   0   5   4]\n",
      " [ 17  56   7   8   3   7  12   1   3   6]\n",
      " [  1   2 107   2   0   0  12   0   0   1]\n",
      " [  2  11  10  79   4   9   5   3   1   1]\n",
      " [  1   4   0   9  74  20  10   2   0   7]\n",
      " [  3   6   1   7   8  67   9   8   4   4]\n",
      " [  5  11   9   3   5   5  71   0   0   6]\n",
      " [  0   1   1   1   2   5   3  35   1   5]\n",
      " [  7  11   1   4   0   3   2   1  77   8]\n",
      " [ 10  12   1   1   1   3  19   8   5  68]]\n"
     ]
    }
   ],
   "source": [
    "#classification report\n",
    "y_predict = svm_rbf.fit(Ftrain, Ltrain).predict(Ftest)\n",
    "class_names = target.unique()\n",
    "print(classification_report(Ltest, y_predict, target_names=class_names))\n",
    "print(confusion_matrix(Ltest, y_predict))"
   ]
  },
  {
   "cell_type": "markdown",
   "id": "09f47e7e",
   "metadata": {},
   "source": [
    "# SVM(sigmoid) on blue data"
   ]
  },
  {
   "cell_type": "code",
   "execution_count": 64,
   "id": "4401c844",
   "metadata": {},
   "outputs": [
    {
     "name": "stdout",
     "output_type": "stream",
     "text": [
      "0.0956140350877193\n"
     ]
    }
   ],
   "source": [
    "svm_si.fit(Ftrain,Ltrain)\n",
    "y_pred = svm_si.predict(Ftest)\n",
    "print(accuracy_score(Ltest,y_pred))"
   ]
  },
  {
   "cell_type": "code",
   "execution_count": 65,
   "id": "4372e59f",
   "metadata": {},
   "outputs": [
    {
     "name": "stdout",
     "output_type": "stream",
     "text": [
      "                               precision    recall  f1-score   support\n",
      "\n",
      "               bacterial_spot       0.00      0.00      0.00       115\n",
      "                 early_blight       0.00      0.00      0.00       120\n",
      "                      healthy       0.00      0.00      0.00       125\n",
      "                  late_blight       0.00      0.00      0.00       125\n",
      "                    leaf_mold       0.00      0.00      0.00       127\n",
      "           septoria_leaf_spot       0.00      0.00      0.00       117\n",
      "                  target_spot       0.00      0.00      0.00       115\n",
      "          tomato_mosaic_virus       0.00      0.00      0.00        54\n",
      "tomato_yellow_leaf_curl_virus       0.10      0.96      0.18       114\n",
      "      two-spotted_spider_mite       0.00      0.00      0.00       128\n",
      "\n",
      "                     accuracy                           0.10      1140\n",
      "                    macro avg       0.01      0.10      0.02      1140\n",
      "                 weighted avg       0.01      0.10      0.02      1140\n",
      "\n",
      "[[  0   0   0   0   0   0   0   0 115   0]\n",
      " [  3   0   0   0   0   0   0   0 117   0]\n",
      " [  0   0   0   0   0   0   0   0 125   0]\n",
      " [  0   0   4   0   0   0   0   0 121   0]\n",
      " [  0   0   0   0   0   0   0   0 127   0]\n",
      " [  0   0   0   0   0   0   0   0 117   0]\n",
      " [  0   0   0   0   0   0   0   0 115   0]\n",
      " [  0   0   0   0   0   0   0   0  54   0]\n",
      " [  3   0   0   0   0   0   2   0 109   0]\n",
      " [  1   0   0   0   0   0   0   0 127   0]]\n"
     ]
    },
    {
     "name": "stderr",
     "output_type": "stream",
     "text": [
      "C:\\Users\\ravic\\anaconda3\\lib\\site-packages\\sklearn\\metrics\\_classification.py:1318: UndefinedMetricWarning: Precision and F-score are ill-defined and being set to 0.0 in labels with no predicted samples. Use `zero_division` parameter to control this behavior.\n",
      "  _warn_prf(average, modifier, msg_start, len(result))\n",
      "C:\\Users\\ravic\\anaconda3\\lib\\site-packages\\sklearn\\metrics\\_classification.py:1318: UndefinedMetricWarning: Precision and F-score are ill-defined and being set to 0.0 in labels with no predicted samples. Use `zero_division` parameter to control this behavior.\n",
      "  _warn_prf(average, modifier, msg_start, len(result))\n",
      "C:\\Users\\ravic\\anaconda3\\lib\\site-packages\\sklearn\\metrics\\_classification.py:1318: UndefinedMetricWarning: Precision and F-score are ill-defined and being set to 0.0 in labels with no predicted samples. Use `zero_division` parameter to control this behavior.\n",
      "  _warn_prf(average, modifier, msg_start, len(result))\n"
     ]
    }
   ],
   "source": [
    "#classification report\n",
    "y_predict = svm_si.fit(Ftrain, Ltrain).predict(Ftest)\n",
    "class_names = target.unique()\n",
    "print(classification_report(Ltest, y_predict, target_names=class_names))\n",
    "print(confusion_matrix(Ltest, y_predict))"
   ]
  },
  {
   "cell_type": "markdown",
   "id": "7401f4ab",
   "metadata": {},
   "source": [
    "# Bernouli Naive bayes on blue data"
   ]
  },
  {
   "cell_type": "code",
   "execution_count": 66,
   "id": "a8ddf84b",
   "metadata": {},
   "outputs": [
    {
     "data": {
      "text/plain": [
       "0.23333333333333334"
      ]
     },
     "execution_count": 66,
     "metadata": {},
     "output_type": "execute_result"
    }
   ],
   "source": [
    "bnb.fit(Ftrain, Ltrain)\n",
    "y_pred = bnb.predict(Ftest)\n",
    "metrics.accuracy_score(Ltest, y_pred)"
   ]
  },
  {
   "cell_type": "code",
   "execution_count": 67,
   "id": "944621bd",
   "metadata": {},
   "outputs": [
    {
     "name": "stdout",
     "output_type": "stream",
     "text": [
      "                               precision    recall  f1-score   support\n",
      "\n",
      "               bacterial_spot       0.17      0.92      0.29       115\n",
      "                 early_blight       0.20      0.07      0.11       120\n",
      "                      healthy       0.28      0.14      0.19       125\n",
      "                  late_blight       0.41      0.10      0.17       125\n",
      "                    leaf_mold       0.39      0.20      0.27       127\n",
      "           septoria_leaf_spot       0.16      0.05      0.08       117\n",
      "                  target_spot       0.19      0.10      0.13       115\n",
      "          tomato_mosaic_virus       0.11      0.02      0.03        54\n",
      "tomato_yellow_leaf_curl_virus       0.47      0.49      0.48       114\n",
      "      two-spotted_spider_mite       0.24      0.16      0.19       128\n",
      "\n",
      "                     accuracy                           0.23      1140\n",
      "                    macro avg       0.26      0.23      0.19      1140\n",
      "                 weighted avg       0.27      0.23      0.20      1140\n",
      "\n",
      "[[106   0   2   0   1   0   3   0   0   3]\n",
      " [ 53   9   6  16   9   6   3   1  14   3]\n",
      " [ 75   1  18   0   7   7   5   0   1  11]\n",
      " [ 82   8   5  13   2   1   1   2   9   2]\n",
      " [ 61   5   3   3  26   5   6   0  11   7]\n",
      " [ 69   6   3   0   9   6   6   1   6  11]\n",
      " [ 63   5  10   0   8   3  11   0   7   8]\n",
      " [ 38   1   2   0   0   2   3   1   2   5]\n",
      " [ 23   5   4   0   2   4   4   2  56  14]\n",
      " [ 55   6  11   0   2   4  15   2  13  20]]\n"
     ]
    }
   ],
   "source": [
    "class_names = target.unique()\n",
    "print(classification_report(Ltest, y_pred, target_names=class_names))\n",
    "print(confusion_matrix(Ltest, y_pred))"
   ]
  },
  {
   "cell_type": "markdown",
   "id": "cbf0037b",
   "metadata": {},
   "source": [
    "# Multinomial Naive bayes on blue data"
   ]
  },
  {
   "cell_type": "code",
   "execution_count": 68,
   "id": "050a9f46",
   "metadata": {},
   "outputs": [
    {
     "data": {
      "text/plain": [
       "0.3912280701754386"
      ]
     },
     "execution_count": 68,
     "metadata": {},
     "output_type": "execute_result"
    }
   ],
   "source": [
    "mnb.fit(Ftrain, Ltrain)\n",
    "y_pred = mnb.predict(Ftest)\n",
    "metrics.accuracy_score(Ltest, y_pred)"
   ]
  },
  {
   "cell_type": "code",
   "execution_count": 69,
   "id": "9a916b04",
   "metadata": {},
   "outputs": [
    {
     "name": "stdout",
     "output_type": "stream",
     "text": [
      "                               precision    recall  f1-score   support\n",
      "\n",
      "               bacterial_spot       0.31      0.37      0.33       115\n",
      "                 early_blight       0.18      0.22      0.20       120\n",
      "                      healthy       0.42      0.70      0.53       125\n",
      "                  late_blight       0.40      0.27      0.32       125\n",
      "                    leaf_mold       0.57      0.62      0.59       127\n",
      "           septoria_leaf_spot       0.19      0.05      0.08       117\n",
      "                  target_spot       0.29      0.17      0.22       115\n",
      "          tomato_mosaic_virus       0.39      0.50      0.44        54\n",
      "tomato_yellow_leaf_curl_virus       0.55      0.67      0.60       114\n",
      "      two-spotted_spider_mite       0.40      0.38      0.39       128\n",
      "\n",
      "                     accuracy                           0.39      1140\n",
      "                    macro avg       0.37      0.39      0.37      1140\n",
      "                 weighted avg       0.37      0.39      0.37      1140\n",
      "\n",
      "[[42 29  8  2  3  3  9  1  8 10]\n",
      " [17 26 16  7 12  2  7  3 19 11]\n",
      " [ 1  5 88 15  0  0 13  0  0  3]\n",
      " [ 8  7 48 34 11  2  3  5  4  3]\n",
      " [ 7  2  7  6 79  5  3  4  3 11]\n",
      " [13 17  6 10 24  6  5  7 18 11]\n",
      " [19 32 27  3  1  2 20  0  0 11]\n",
      " [ 0  2  0  6  4  4  2 27  4  5]\n",
      " [11  6  0  2  4  4  1  2 76  8]\n",
      " [19 15  9  0  1  3  6 21  6 48]]\n"
     ]
    }
   ],
   "source": [
    "class_names = target.unique()\n",
    "print(classification_report(Ltest, y_pred, target_names=class_names))\n",
    "print(confusion_matrix(Ltest, y_pred))"
   ]
  },
  {
   "cell_type": "code",
   "execution_count": 70,
   "id": "195a0b21",
   "metadata": {},
   "outputs": [
    {
     "name": "stdout",
     "output_type": "stream",
     "text": [
      "597.8855538368225\n"
     ]
    }
   ],
   "source": [
    "end_time = time.time()\n",
    "print(end_time - start_time)"
   ]
  }
 ],
 "metadata": {
  "kernelspec": {
   "display_name": "Python 3 (ipykernel)",
   "language": "python",
   "name": "python3"
  },
  "language_info": {
   "codemirror_mode": {
    "name": "ipython",
    "version": 3
   },
   "file_extension": ".py",
   "mimetype": "text/x-python",
   "name": "python",
   "nbconvert_exporter": "python",
   "pygments_lexer": "ipython3",
   "version": "3.9.12"
  }
 },
 "nbformat": 4,
 "nbformat_minor": 5
}
