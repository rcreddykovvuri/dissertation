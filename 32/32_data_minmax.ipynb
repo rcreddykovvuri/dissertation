{
 "cells": [
  {
   "cell_type": "code",
   "execution_count": 1,
   "id": "bcdb1517",
   "metadata": {},
   "outputs": [],
   "source": [
    "import numpy as np #importing numpy\n",
    "import pandas as pd #importing pandas\n",
    "import PIL #importing pillow for image processing\n",
    "from PIL import Image#importing image from pillow library\n",
    "import skimage#importing skimage library\n",
    "import os#importing os library\n",
    "import time#importing time library\n",
    "\n",
    "#Capture start time of the program\n",
    "start_time = time.time()"
   ]
  },
  {
   "cell_type": "code",
   "execution_count": 2,
   "id": "9ec45970",
   "metadata": {},
   "outputs": [],
   "source": [
    "os.chdir('D://DKIT//dissertation//Dataset_of_Tomato_Leaves//plantvillage//Preprocessed_data//32//vector//')"
   ]
  },
  {
   "cell_type": "code",
   "execution_count": 3,
   "id": "cbc71f85",
   "metadata": {},
   "outputs": [],
   "source": [
    "#importing classification report and confusion matrix\n",
    "from sklearn.metrics import classification_report, confusion_matrix"
   ]
  },
  {
   "cell_type": "markdown",
   "id": "7139bf53",
   "metadata": {},
   "source": [
    "# KNN on rgb data"
   ]
  },
  {
   "cell_type": "code",
   "execution_count": 4,
   "id": "9386938c",
   "metadata": {},
   "outputs": [],
   "source": [
    "#reading numpy array data\n",
    "rgb_test = np.load('rgb_data.npy')\n",
    "#reading csv file\n",
    "rgb_df = pd.read_csv('rgb_data.csv')"
   ]
  },
  {
   "cell_type": "code",
   "execution_count": 5,
   "id": "4f95f2f6",
   "metadata": {},
   "outputs": [],
   "source": [
    "loaded = []\n",
    "for i in rgb_test:\n",
    "    k = []\n",
    "    k = np.asarray(i,dtype='uint8')\n",
    "    loaded.append(k)"
   ]
  },
  {
   "cell_type": "code",
   "execution_count": 6,
   "id": "c6d5658c",
   "metadata": {},
   "outputs": [],
   "source": [
    "features = loaded\n",
    "target = rgb_df['disease']\n",
    "from sklearn.preprocessing import MinMaxScaler\n",
    "minmax = MinMaxScaler()\n",
    "from sklearn.model_selection import train_test_split\n",
    "Ftrain,Ftest,Ltrain,Ltest=train_test_split(features,target, test_size=0.20, random_state=24)"
   ]
  },
  {
   "cell_type": "code",
   "execution_count": 7,
   "id": "8cc86824",
   "metadata": {},
   "outputs": [],
   "source": [
    "Ftrain = minmax.fit_transform(Ftrain)\n",
    "Ftest = minmax.fit_transform(Ftest)"
   ]
  },
  {
   "cell_type": "code",
   "execution_count": 8,
   "id": "6f1171c6",
   "metadata": {},
   "outputs": [],
   "source": [
    "from sklearn.neighbors import KNeighborsClassifier\n",
    "kmodel = KNeighborsClassifier(n_neighbors=120)"
   ]
  },
  {
   "cell_type": "code",
   "execution_count": 9,
   "id": "b9fdc978",
   "metadata": {},
   "outputs": [
    {
     "data": {
      "text/plain": [
       "0.5772273821809426"
      ]
     },
     "execution_count": 9,
     "metadata": {},
     "output_type": "execute_result"
    }
   ],
   "source": [
    "kmodel.fit(Ftrain,Ltrain)\n",
    "kmodel.score(Ftest,Ltest)"
   ]
  },
  {
   "cell_type": "code",
   "execution_count": 10,
   "id": "cc56686d",
   "metadata": {},
   "outputs": [
    {
     "name": "stdout",
     "output_type": "stream",
     "text": [
      "                               precision    recall  f1-score   support\n",
      "\n",
      "               bacterial_spot       0.39      0.80      0.52       345\n",
      "                 early_blight       0.00      0.00      0.00       153\n",
      "                      healthy       0.42      0.85      0.56       234\n",
      "                  late_blight       0.51      0.43      0.47       309\n",
      "                    leaf_mold       0.69      0.50      0.58       145\n",
      "           septoria_leaf_spot       0.65      0.36      0.46       293\n",
      "                  target_spot       0.67      0.28      0.40       240\n",
      "          tomato_mosaic_virus       0.38      0.06      0.10        54\n",
      "tomato_yellow_leaf_curl_virus       0.85      0.78      0.81       854\n",
      "      two-spotted_spider_mite       0.51      0.56      0.53       280\n",
      "\n",
      "                     accuracy                           0.58      2907\n",
      "                    macro avg       0.51      0.46      0.44      2907\n",
      "                 weighted avg       0.60      0.58      0.56      2907\n",
      "\n",
      "[[276   0  36  14   0   0   0   0  17   2]\n",
      " [ 87   0  15   5   1   7  14   0  14  10]\n",
      " [ 18   0 198  12   0   0   1   0   1   4]\n",
      " [ 51   0  47 133  15  32   1   1  17  12]\n",
      " [ 15   0  19  22  73   0   0   1   6   9]\n",
      " [ 21   0  40  44  13 106  10   1  30  28]\n",
      " [ 69   0  52   3   0   6  68   1   2  39]\n",
      " [  4   0  11  13   4   1   0   3   3  15]\n",
      " [112   0  35   1   0  10   0   0 664  32]\n",
      " [ 57   0  17  12   0   1   8   1  27 157]]\n"
     ]
    },
    {
     "name": "stderr",
     "output_type": "stream",
     "text": [
      "C:\\Users\\ravic\\anaconda3\\lib\\site-packages\\sklearn\\metrics\\_classification.py:1318: UndefinedMetricWarning: Precision and F-score are ill-defined and being set to 0.0 in labels with no predicted samples. Use `zero_division` parameter to control this behavior.\n",
      "  _warn_prf(average, modifier, msg_start, len(result))\n",
      "C:\\Users\\ravic\\anaconda3\\lib\\site-packages\\sklearn\\metrics\\_classification.py:1318: UndefinedMetricWarning: Precision and F-score are ill-defined and being set to 0.0 in labels with no predicted samples. Use `zero_division` parameter to control this behavior.\n",
      "  _warn_prf(average, modifier, msg_start, len(result))\n",
      "C:\\Users\\ravic\\anaconda3\\lib\\site-packages\\sklearn\\metrics\\_classification.py:1318: UndefinedMetricWarning: Precision and F-score are ill-defined and being set to 0.0 in labels with no predicted samples. Use `zero_division` parameter to control this behavior.\n",
      "  _warn_prf(average, modifier, msg_start, len(result))\n"
     ]
    }
   ],
   "source": [
    "#printing results of the kmodel\n",
    "y_predict = kmodel.fit(Ftrain, Ltrain).predict(Ftest)\n",
    "class_names = target.unique()\n",
    "print(classification_report(Ltest, y_predict, target_names=class_names))\n",
    "print(confusion_matrix(Ltest, y_predict))"
   ]
  },
  {
   "cell_type": "markdown",
   "id": "d5c58638",
   "metadata": {},
   "source": [
    "# Logistic on rgb data"
   ]
  },
  {
   "cell_type": "code",
   "execution_count": 11,
   "id": "a84836ef",
   "metadata": {},
   "outputs": [
    {
     "data": {
      "text/plain": [
       "0.739250085999312"
      ]
     },
     "execution_count": 11,
     "metadata": {},
     "output_type": "execute_result"
    }
   ],
   "source": [
    "from sklearn.linear_model import LogisticRegression\n",
    "model=LogisticRegression(solver='lbfgs', max_iter=10000)\n",
    "model.fit(Ftrain,Ltrain)\n",
    "model.score(Ftest,Ltest)"
   ]
  },
  {
   "cell_type": "code",
   "execution_count": 12,
   "id": "a1f10c9f",
   "metadata": {},
   "outputs": [
    {
     "name": "stdout",
     "output_type": "stream",
     "text": [
      "                               precision    recall  f1-score   support\n",
      "\n",
      "               bacterial_spot       0.76      0.78      0.77       345\n",
      "                 early_blight       0.40      0.42      0.41       153\n",
      "                      healthy       0.72      0.75      0.74       234\n",
      "                  late_blight       0.59      0.65      0.62       309\n",
      "                    leaf_mold       0.63      0.63      0.63       145\n",
      "           septoria_leaf_spot       0.76      0.65      0.70       293\n",
      "                  target_spot       0.64      0.64      0.64       240\n",
      "          tomato_mosaic_virus       0.73      0.80      0.76        54\n",
      "tomato_yellow_leaf_curl_virus       0.93      0.88      0.91       854\n",
      "      two-spotted_spider_mite       0.67      0.76      0.71       280\n",
      "\n",
      "                     accuracy                           0.74      2907\n",
      "                    macro avg       0.68      0.69      0.69      2907\n",
      "                 weighted avg       0.75      0.74      0.74      2907\n",
      "\n",
      "[[270  24   8  22   0   2   5   0  13   1]\n",
      " [ 18  64   2  28   2   4  17   4   4  10]\n",
      " [  4   5 175  22   6   1  15   0   0   6]\n",
      " [ 14  27  17 200  13  10   3   1  10  14]\n",
      " [  0   8   6   9  92  18   2   0   4   6]\n",
      " [  4   7   7  17  18 189  16   9  10  16]\n",
      " [  2  10  22   4   4  11 153   0   0  34]\n",
      " [  0   0   0   0   2   5   2  43   0   2]\n",
      " [ 38   6   0  25   7   5   8   0 751  14]\n",
      " [  6   8   5  11   1   4  19   2  12 212]]\n"
     ]
    }
   ],
   "source": [
    "#classification report\n",
    "y_predict = model.fit(Ftrain, Ltrain).predict(Ftest)\n",
    "class_names = target.unique()\n",
    "print(classification_report(Ltest, y_predict, target_names=class_names))\n",
    "print(confusion_matrix(Ltest, y_predict))"
   ]
  },
  {
   "cell_type": "markdown",
   "id": "6fe194bc",
   "metadata": {},
   "source": [
    "# SVM on RGB data"
   ]
  },
  {
   "cell_type": "code",
   "execution_count": 13,
   "id": "2427ed51",
   "metadata": {},
   "outputs": [
    {
     "name": "stdout",
     "output_type": "stream",
     "text": [
      "0.7354661162710698\n"
     ]
    }
   ],
   "source": [
    "from sklearn.svm import SVC\n",
    "from sklearn.metrics import accuracy_score\n",
    "\n",
    "clf = SVC(kernel='linear')\n",
    "clf.fit(Ftrain,Ltrain)\n",
    "y_pred = clf.predict(Ftest)\n",
    "print(accuracy_score(Ltest,y_pred))"
   ]
  },
  {
   "cell_type": "code",
   "execution_count": 14,
   "id": "4103cc2e",
   "metadata": {},
   "outputs": [
    {
     "name": "stdout",
     "output_type": "stream",
     "text": [
      "                               precision    recall  f1-score   support\n",
      "\n",
      "               bacterial_spot       0.68      0.83      0.75       345\n",
      "                 early_blight       0.33      0.44      0.38       153\n",
      "                      healthy       0.74      0.83      0.78       234\n",
      "                  late_blight       0.61      0.66      0.63       309\n",
      "                    leaf_mold       0.69      0.60      0.64       145\n",
      "           septoria_leaf_spot       0.73      0.66      0.69       293\n",
      "                  target_spot       0.68      0.57      0.62       240\n",
      "          tomato_mosaic_virus       0.80      0.80      0.80        54\n",
      "tomato_yellow_leaf_curl_virus       0.95      0.87      0.91       854\n",
      "      two-spotted_spider_mite       0.71      0.68      0.69       280\n",
      "\n",
      "                     accuracy                           0.74      2907\n",
      "                    macro avg       0.69      0.69      0.69      2907\n",
      "                 weighted avg       0.75      0.74      0.74      2907\n",
      "\n",
      "[[286  27   4  14   0   2   2   0   9   1]\n",
      " [ 27  67   3  29   1   4   7   0   4  11]\n",
      " [  4   4 195  11   4   2  10   0   0   4]\n",
      " [ 23  31  18 204   8   8   2   0   7   8]\n",
      " [  2   5   6  14  87  21   1   3   3   3]\n",
      " [  5  14  14  24  10 192  14   6   4  10]\n",
      " [  4  33  16   3   5   9 136   1   0  33]\n",
      " [  0   0   0   0   1  10   0  43   0   0]\n",
      " [ 60   6   0  24   3   5   8   0 739   9]\n",
      " [  8  15   9  12   7  10  19   1  10 189]]\n"
     ]
    }
   ],
   "source": [
    "#classification report\n",
    "y_predict = clf.fit(Ftrain, Ltrain).predict(Ftest)\n",
    "class_names = target.unique()\n",
    "print(classification_report(Ltest, y_predict, target_names=class_names))\n",
    "print(confusion_matrix(Ltest, y_predict))"
   ]
  },
  {
   "cell_type": "markdown",
   "id": "73bef6fa",
   "metadata": {},
   "source": [
    "# Random Forest on RGB "
   ]
  },
  {
   "cell_type": "code",
   "execution_count": 15,
   "id": "6bae5a92",
   "metadata": {},
   "outputs": [],
   "source": [
    "from sklearn.ensemble import RandomForestClassifier"
   ]
  },
  {
   "cell_type": "code",
   "execution_count": 16,
   "id": "1d08a15e",
   "metadata": {},
   "outputs": [],
   "source": [
    "classifier_rf = RandomForestClassifier(random_state=42, n_jobs=-1, max_depth=5,n_estimators=100, oob_score=True)"
   ]
  },
  {
   "cell_type": "code",
   "execution_count": 17,
   "id": "938ad007",
   "metadata": {},
   "outputs": [
    {
     "data": {
      "text/plain": [
       "RandomForestClassifier(max_depth=5, n_jobs=-1, oob_score=True, random_state=42)"
      ]
     },
     "execution_count": 17,
     "metadata": {},
     "output_type": "execute_result"
    }
   ],
   "source": [
    "classifier_rf.fit(Ftrain, Ltrain)"
   ]
  },
  {
   "cell_type": "code",
   "execution_count": 18,
   "id": "e1769cec",
   "metadata": {},
   "outputs": [
    {
     "data": {
      "text/plain": [
       "0.5580695113558155"
      ]
     },
     "execution_count": 18,
     "metadata": {},
     "output_type": "execute_result"
    }
   ],
   "source": [
    "classifier_rf.oob_score_"
   ]
  },
  {
   "cell_type": "code",
   "execution_count": 19,
   "id": "c144f9db",
   "metadata": {},
   "outputs": [
    {
     "name": "stdout",
     "output_type": "stream",
     "text": [
      "                               precision    recall  f1-score   support\n",
      "\n",
      "               bacterial_spot       0.77      0.58      0.66       345\n",
      "                 early_blight       0.00      0.00      0.00       153\n",
      "                      healthy       0.49      0.91      0.63       234\n",
      "                  late_blight       0.60      0.25      0.35       309\n",
      "                    leaf_mold       0.80      0.31      0.45       145\n",
      "           septoria_leaf_spot       0.52      0.51      0.51       293\n",
      "                  target_spot       0.45      0.48      0.47       240\n",
      "          tomato_mosaic_virus       0.00      0.00      0.00        54\n",
      "tomato_yellow_leaf_curl_virus       0.58      0.96      0.72       854\n",
      "      two-spotted_spider_mite       0.76      0.16      0.27       280\n",
      "\n",
      "                     accuracy                           0.57      2907\n",
      "                    macro avg       0.50      0.42      0.41      2907\n",
      "                 weighted avg       0.57      0.57      0.52      2907\n",
      "\n",
      "[[201   0  33   6   0   1   7   0  97   0]\n",
      " [ 20   0   8   3   0  25  19   0  74   4]\n",
      " [  1   0 214   4   0   1   5   0   9   0]\n",
      " [  2   0  89  76   4  45  20   0  72   1]\n",
      " [  7   0  30  15  45   8   8   0  32   0]\n",
      " [  7   0  17  12   5 150   6   0  95   1]\n",
      " [  4   0  23   2   0  36 116   0  55   4]\n",
      " [  3   0  12   5   1   5   3   0  22   3]\n",
      " [  8   0   8   2   1  12   3   0 819   1]\n",
      " [  8   0   7   1   0   7  69   0 143  45]]\n"
     ]
    },
    {
     "name": "stderr",
     "output_type": "stream",
     "text": [
      "C:\\Users\\ravic\\anaconda3\\lib\\site-packages\\sklearn\\metrics\\_classification.py:1318: UndefinedMetricWarning: Precision and F-score are ill-defined and being set to 0.0 in labels with no predicted samples. Use `zero_division` parameter to control this behavior.\n",
      "  _warn_prf(average, modifier, msg_start, len(result))\n",
      "C:\\Users\\ravic\\anaconda3\\lib\\site-packages\\sklearn\\metrics\\_classification.py:1318: UndefinedMetricWarning: Precision and F-score are ill-defined and being set to 0.0 in labels with no predicted samples. Use `zero_division` parameter to control this behavior.\n",
      "  _warn_prf(average, modifier, msg_start, len(result))\n",
      "C:\\Users\\ravic\\anaconda3\\lib\\site-packages\\sklearn\\metrics\\_classification.py:1318: UndefinedMetricWarning: Precision and F-score are ill-defined and being set to 0.0 in labels with no predicted samples. Use `zero_division` parameter to control this behavior.\n",
      "  _warn_prf(average, modifier, msg_start, len(result))\n"
     ]
    }
   ],
   "source": [
    "y_predict = classifier_rf.fit(Ftrain, Ltrain).predict(Ftest)\n",
    "class_names = target.unique()\n",
    "print(classification_report(Ltest, y_predict, target_names=class_names))\n",
    "print(confusion_matrix(Ltest, y_predict))"
   ]
  },
  {
   "cell_type": "markdown",
   "id": "b6a094e4",
   "metadata": {},
   "source": [
    "# Naive Bayes on RGB data"
   ]
  },
  {
   "cell_type": "code",
   "execution_count": 20,
   "id": "a5bc755b",
   "metadata": {},
   "outputs": [
    {
     "data": {
      "text/plain": [
       "GaussianNB()"
      ]
     },
     "execution_count": 20,
     "metadata": {},
     "output_type": "execute_result"
    }
   ],
   "source": [
    "from sklearn.naive_bayes import GaussianNB\n",
    "gnb = GaussianNB()\n",
    "gnb.fit(Ftrain, Ltrain)"
   ]
  },
  {
   "cell_type": "code",
   "execution_count": 21,
   "id": "6d162dcc",
   "metadata": {},
   "outputs": [],
   "source": [
    "y_pred = gnb.predict(Ftest)"
   ]
  },
  {
   "cell_type": "code",
   "execution_count": 22,
   "id": "8f7b4bab",
   "metadata": {},
   "outputs": [
    {
     "data": {
      "text/plain": [
       "0.4915720674234606"
      ]
     },
     "execution_count": 22,
     "metadata": {},
     "output_type": "execute_result"
    }
   ],
   "source": [
    "from sklearn import metrics\n",
    "metrics.accuracy_score(Ltest, y_pred)"
   ]
  },
  {
   "cell_type": "code",
   "execution_count": 23,
   "id": "980b37c5",
   "metadata": {},
   "outputs": [
    {
     "name": "stdout",
     "output_type": "stream",
     "text": [
      "                               precision    recall  f1-score   support\n",
      "\n",
      "               bacterial_spot       0.61      0.68      0.64       345\n",
      "                 early_blight       0.23      0.29      0.26       153\n",
      "                      healthy       0.42      0.67      0.52       234\n",
      "                  late_blight       0.48      0.35      0.40       309\n",
      "                    leaf_mold       0.59      0.43      0.50       145\n",
      "           septoria_leaf_spot       0.34      0.55      0.42       293\n",
      "                  target_spot       0.48      0.44      0.46       240\n",
      "          tomato_mosaic_virus       0.20      0.65      0.30        54\n",
      "tomato_yellow_leaf_curl_virus       0.90      0.46      0.61       854\n",
      "      two-spotted_spider_mite       0.41      0.46      0.44       280\n",
      "\n",
      "                     accuracy                           0.49      2907\n",
      "                    macro avg       0.46      0.50      0.45      2907\n",
      "                 weighted avg       0.58      0.49      0.51      2907\n",
      "\n",
      "[[235  11  34   8   2   8  12   7  20   8]\n",
      " [ 25  45   2  29   0  12  23   4   6   7]\n",
      " [  1   3 156  14   5  11  30   6   0   8]\n",
      " [  0  38  88 107  13  40   4  10   4   5]\n",
      " [  4   4   6  14  62  29   2  18   2   4]\n",
      " [  3   8  39  11  13 160  19  14   9  17]\n",
      " [  6  12   5  13   2  45 106  10   1  40]\n",
      " [  2   0   4   0   2   9   1  35   0   1]\n",
      " [ 98  50  34  22   6 101   5  50 394  94]\n",
      " [ 11  25   1   7   0  58  20  25   4 129]]\n"
     ]
    }
   ],
   "source": [
    "class_names = target.unique()\n",
    "print(classification_report(Ltest, y_pred, target_names=class_names))\n",
    "print(confusion_matrix(Ltest, y_pred))"
   ]
  },
  {
   "cell_type": "markdown",
   "id": "0ce0377b",
   "metadata": {},
   "source": [
    "# Decision Tree on RGB data"
   ]
  },
  {
   "cell_type": "code",
   "execution_count": 24,
   "id": "b9bba328",
   "metadata": {},
   "outputs": [],
   "source": [
    "from sklearn.tree import DecisionTreeClassifier\n",
    "classifier_tree = DecisionTreeClassifier()"
   ]
  },
  {
   "cell_type": "code",
   "execution_count": 25,
   "id": "b98668ce",
   "metadata": {},
   "outputs": [
    {
     "data": {
      "text/plain": [
       "0.45786033711730306"
      ]
     },
     "execution_count": 25,
     "metadata": {},
     "output_type": "execute_result"
    }
   ],
   "source": [
    "classifier_tree.fit(Ftrain, Ltrain)\n",
    "classifier_tree.score(Ftest,Ltest)"
   ]
  },
  {
   "cell_type": "code",
   "execution_count": 26,
   "id": "9fb604d9",
   "metadata": {},
   "outputs": [
    {
     "name": "stdout",
     "output_type": "stream",
     "text": [
      "                               precision    recall  f1-score   support\n",
      "\n",
      "               bacterial_spot       0.45      0.49      0.47       345\n",
      "                 early_blight       0.11      0.14      0.12       153\n",
      "                      healthy       0.63      0.64      0.64       234\n",
      "                  late_blight       0.40      0.43      0.41       309\n",
      "                    leaf_mold       0.34      0.37      0.36       145\n",
      "           septoria_leaf_spot       0.39      0.42      0.41       293\n",
      "                  target_spot       0.29      0.35      0.31       240\n",
      "          tomato_mosaic_virus       0.06      0.07      0.07        54\n",
      "tomato_yellow_leaf_curl_virus       0.77      0.60      0.67       854\n",
      "      two-spotted_spider_mite       0.33      0.31      0.32       280\n",
      "\n",
      "                     accuracy                           0.46      2907\n",
      "                    macro avg       0.38      0.38      0.38      2907\n",
      "                 weighted avg       0.49      0.46      0.47      2907\n",
      "\n",
      "[[169  39  19  24   8  15  10   8  33  20]\n",
      " [ 20  22   5  14   8  12  25   2  17  28]\n",
      " [  6   3 150  27   7  10  19   4   4   4]\n",
      " [ 22  22  19 132  21  43   9   4  22  15]\n",
      " [  5   9   3  23  54  16  10   7   9   9]\n",
      " [ 14  12  10  29  18 123  33  13  28  13]\n",
      " [ 16  26  10  15   8  28  83   6  15  33]\n",
      " [  0   4   4  10   7   8  10   4   2   5]\n",
      " [101  36  11  43  17  40  27  16 515  48]\n",
      " [ 20  27   7  17  11  18  65   2  27  86]]\n"
     ]
    }
   ],
   "source": [
    "y_predict = classifier_tree.fit(Ftrain, Ltrain).predict(Ftest)\n",
    "class_names = target.unique()\n",
    "print(classification_report(Ltest, y_predict, target_names=class_names))\n",
    "print(confusion_matrix(Ltest, y_predict))"
   ]
  },
  {
   "cell_type": "markdown",
   "id": "c9daaaee",
   "metadata": {},
   "source": [
    "# KNN on grayscale data"
   ]
  },
  {
   "cell_type": "code",
   "execution_count": 27,
   "id": "57a9845e",
   "metadata": {},
   "outputs": [],
   "source": [
    "#reading numpy array data\n",
    "gray_test = np.load('gray_test.npy')\n",
    "#reading csv file\n",
    "gray_df = pd.read_csv('gray_data.csv')"
   ]
  },
  {
   "cell_type": "code",
   "execution_count": 28,
   "id": "25d4fea2",
   "metadata": {},
   "outputs": [],
   "source": [
    "loaded = []\n",
    "for i in gray_test:\n",
    "    k = []\n",
    "    k = np.asarray(i,dtype='uint8')\n",
    "    loaded.append(k)"
   ]
  },
  {
   "cell_type": "code",
   "execution_count": 29,
   "id": "d3abef95",
   "metadata": {},
   "outputs": [],
   "source": [
    "features = loaded\n",
    "target = gray_df['disease']\n",
    "Ftrain,Ftest,Ltrain,Ltest=train_test_split(features,target, test_size=0.20, random_state=20)\n",
    "Ftrain = minmax.fit_transform(Ftrain)\n",
    "Ftest = minmax.fit_transform(Ftest)"
   ]
  },
  {
   "cell_type": "code",
   "execution_count": 30,
   "id": "6f75adfd",
   "metadata": {},
   "outputs": [
    {
     "data": {
      "text/plain": [
       "0.4544203646370829"
      ]
     },
     "execution_count": 30,
     "metadata": {},
     "output_type": "execute_result"
    }
   ],
   "source": [
    "kmodel.fit(Ftrain,Ltrain)\n",
    "kmodel.score(Ftest,Ltest)"
   ]
  },
  {
   "cell_type": "code",
   "execution_count": 31,
   "id": "77baa349",
   "metadata": {},
   "outputs": [
    {
     "name": "stdout",
     "output_type": "stream",
     "text": [
      "                               precision    recall  f1-score   support\n",
      "\n",
      "               bacterial_spot       0.42      0.73      0.54       349\n",
      "                 early_blight       0.00      0.00      0.00       182\n",
      "                      healthy       0.32      0.62      0.43       258\n",
      "                  late_blight       0.30      0.23      0.26       316\n",
      "                    leaf_mold       0.79      0.34      0.48       145\n",
      "           septoria_leaf_spot       0.54      0.34      0.42       262\n",
      "                  target_spot       0.64      0.09      0.16       229\n",
      "          tomato_mosaic_virus       0.00      0.00      0.00        58\n",
      "tomato_yellow_leaf_curl_virus       0.52      0.65      0.58       857\n",
      "      two-spotted_spider_mite       0.51      0.45      0.48       251\n",
      "\n",
      "                     accuracy                           0.45      2907\n",
      "                    macro avg       0.40      0.35      0.33      2907\n",
      "                 weighted avg       0.45      0.45      0.42      2907\n",
      "\n",
      "[[256   0  34  19   0   2   0   0  38   0]\n",
      " [ 82   0  11   5   4   8   4   0  61   7]\n",
      " [  8   0 160  32   0   7   0   0  50   1]\n",
      " [ 43   0  73  74   2  34   0   0  75  15]\n",
      " [  8   0  25  19  50   2   2   0  35   4]\n",
      " [ 12   0  44  20   3  89   1   0  80  13]\n",
      " [ 50   0  26   7   0   8  21   0  76  41]\n",
      " [  2   0   8   4   1   1   0   0  39   3]\n",
      " [103   0 106  53   3   9   0   0 558  25]\n",
      " [ 41   0   7  16   0   6   5   0  63 113]]\n"
     ]
    },
    {
     "name": "stderr",
     "output_type": "stream",
     "text": [
      "C:\\Users\\ravic\\anaconda3\\lib\\site-packages\\sklearn\\metrics\\_classification.py:1318: UndefinedMetricWarning: Precision and F-score are ill-defined and being set to 0.0 in labels with no predicted samples. Use `zero_division` parameter to control this behavior.\n",
      "  _warn_prf(average, modifier, msg_start, len(result))\n",
      "C:\\Users\\ravic\\anaconda3\\lib\\site-packages\\sklearn\\metrics\\_classification.py:1318: UndefinedMetricWarning: Precision and F-score are ill-defined and being set to 0.0 in labels with no predicted samples. Use `zero_division` parameter to control this behavior.\n",
      "  _warn_prf(average, modifier, msg_start, len(result))\n",
      "C:\\Users\\ravic\\anaconda3\\lib\\site-packages\\sklearn\\metrics\\_classification.py:1318: UndefinedMetricWarning: Precision and F-score are ill-defined and being set to 0.0 in labels with no predicted samples. Use `zero_division` parameter to control this behavior.\n",
      "  _warn_prf(average, modifier, msg_start, len(result))\n"
     ]
    }
   ],
   "source": [
    "#printing results of the kmodel\n",
    "y_predict = kmodel.fit(Ftrain, Ltrain).predict(Ftest)\n",
    "class_names = target.unique()\n",
    "print(classification_report(Ltest, y_predict, target_names=class_names))\n",
    "print(confusion_matrix(Ltest, y_predict))"
   ]
  },
  {
   "cell_type": "markdown",
   "id": "197eedfc",
   "metadata": {},
   "source": [
    "# Logistic on grayscale data"
   ]
  },
  {
   "cell_type": "code",
   "execution_count": 32,
   "id": "9fd6cafe",
   "metadata": {},
   "outputs": [
    {
     "data": {
      "text/plain": [
       "0.47506019951840384"
      ]
     },
     "execution_count": 32,
     "metadata": {},
     "output_type": "execute_result"
    }
   ],
   "source": [
    "from sklearn.linear_model import LogisticRegression\n",
    "model=LogisticRegression(solver='lbfgs', max_iter=10000)\n",
    "model.fit(Ftrain,Ltrain)\n",
    "model.score(Ftest,Ltest)"
   ]
  },
  {
   "cell_type": "code",
   "execution_count": 33,
   "id": "20a6d97e",
   "metadata": {},
   "outputs": [
    {
     "name": "stdout",
     "output_type": "stream",
     "text": [
      "                               precision    recall  f1-score   support\n",
      "\n",
      "               bacterial_spot       0.55      0.57      0.56       349\n",
      "                 early_blight       0.24      0.09      0.13       182\n",
      "                      healthy       0.42      0.47      0.44       258\n",
      "                  late_blight       0.32      0.35      0.34       316\n",
      "                    leaf_mold       0.48      0.39      0.43       145\n",
      "           septoria_leaf_spot       0.40      0.30      0.34       262\n",
      "                  target_spot       0.34      0.35      0.35       229\n",
      "          tomato_mosaic_virus       0.24      0.21      0.22        58\n",
      "tomato_yellow_leaf_curl_virus       0.62      0.67      0.64       857\n",
      "      two-spotted_spider_mite       0.42      0.53      0.47       251\n",
      "\n",
      "                     accuracy                           0.48      2907\n",
      "                    macro avg       0.40      0.39      0.39      2907\n",
      "                 weighted avg       0.46      0.48      0.47      2907\n",
      "\n",
      "[[198   4  21  31   1   8  13   0  61  12]\n",
      " [ 35  16   6  16  11   5  30   0  49  14]\n",
      " [ 14   3 120  44   2   7  24   0  25  19]\n",
      " [ 14  17  34 112  17  32  18  12  47  13]\n",
      " [  2   3   2  29  56   8   5   5  29   6]\n",
      " [  9   7  24  39  13  78  28   6  36  22]\n",
      " [ 27   5  20  11   3   9  81   3  28  42]\n",
      " [  0   0   0   3   1   1   1  12  35   5]\n",
      " [ 44   8  51  62  10  34  15  10 575  48]\n",
      " [ 15   5   5   4   2  11  25   2  49 133]]\n"
     ]
    }
   ],
   "source": [
    "#classification report\n",
    "y_predict = model.fit(Ftrain, Ltrain).predict(Ftest)\n",
    "class_names = target.unique()\n",
    "print(classification_report(Ltest, y_predict, target_names=class_names))\n",
    "print(confusion_matrix(Ltest, y_predict))"
   ]
  },
  {
   "cell_type": "markdown",
   "id": "5284f869",
   "metadata": {},
   "source": [
    "# SVM on Grayscale data"
   ]
  },
  {
   "cell_type": "code",
   "execution_count": 34,
   "id": "d0db5c80",
   "metadata": {},
   "outputs": [
    {
     "name": "stdout",
     "output_type": "stream",
     "text": [
      "0.4915720674234606\n"
     ]
    }
   ],
   "source": [
    "clf = SVC(kernel='linear')\n",
    "clf.fit(Ftrain,Ltrain)\n",
    "y_pred = clf.predict(Ftest)\n",
    "print(accuracy_score(Ltest,y_pred))"
   ]
  },
  {
   "cell_type": "code",
   "execution_count": 35,
   "id": "bcddcf24",
   "metadata": {},
   "outputs": [
    {
     "name": "stdout",
     "output_type": "stream",
     "text": [
      "                               precision    recall  f1-score   support\n",
      "\n",
      "               bacterial_spot       0.56      0.52      0.54       349\n",
      "                 early_blight       0.28      0.18      0.22       182\n",
      "                      healthy       0.42      0.61      0.50       258\n",
      "                  late_blight       0.38      0.36      0.37       316\n",
      "                    leaf_mold       0.46      0.37      0.41       145\n",
      "           septoria_leaf_spot       0.39      0.34      0.36       262\n",
      "                  target_spot       0.41      0.35      0.38       229\n",
      "          tomato_mosaic_virus       0.24      0.26      0.25        58\n",
      "tomato_yellow_leaf_curl_virus       0.61      0.69      0.65       857\n",
      "      two-spotted_spider_mite       0.52      0.47      0.49       251\n",
      "\n",
      "                     accuracy                           0.49      2907\n",
      "                    macro avg       0.43      0.41      0.42      2907\n",
      "                 weighted avg       0.48      0.49      0.48      2907\n",
      "\n",
      "[[180  15  29  26   1   9   8   0  72   9]\n",
      " [ 25  32   5  11  11  10  25   0  51  12]\n",
      " [ 14   2 158  30   4  10  13   1  19   7]\n",
      " [ 12  17  48 115  14  36  11  12  41  10]\n",
      " [  4   4   5  30  54   9   2   4  24   9]\n",
      " [  9  10  32  35  13  88  24   3  42   6]\n",
      " [ 28   8  26   9   4   9  80   3  32  30]\n",
      " [  0   0   0   3   1   3   0  15  35   1]\n",
      " [ 38  17  63  43  11  35  12  22 589  27]\n",
      " [ 12   9   8   4   4  14  22   3  57 118]]\n"
     ]
    }
   ],
   "source": [
    "#classification report\n",
    "y_predict = clf.fit(Ftrain, Ltrain).predict(Ftest)\n",
    "class_names = target.unique()\n",
    "print(classification_report(Ltest, y_predict, target_names=class_names))\n",
    "print(confusion_matrix(Ltest, y_predict))"
   ]
  },
  {
   "cell_type": "markdown",
   "id": "576fd580",
   "metadata": {},
   "source": [
    "# Random Forest on Grayscale"
   ]
  },
  {
   "cell_type": "code",
   "execution_count": 36,
   "id": "9dfa979e",
   "metadata": {},
   "outputs": [
    {
     "data": {
      "text/plain": [
       "RandomForestClassifier(max_depth=5, n_jobs=-1, oob_score=True, random_state=42)"
      ]
     },
     "execution_count": 36,
     "metadata": {},
     "output_type": "execute_result"
    }
   ],
   "source": [
    "classifier_rf.fit(Ftrain, Ltrain)"
   ]
  },
  {
   "cell_type": "code",
   "execution_count": 37,
   "id": "2b4347ef",
   "metadata": {},
   "outputs": [
    {
     "data": {
      "text/plain": [
       "0.4386613902271163"
      ]
     },
     "execution_count": 37,
     "metadata": {},
     "output_type": "execute_result"
    }
   ],
   "source": [
    "classifier_rf.oob_score_"
   ]
  },
  {
   "cell_type": "code",
   "execution_count": 38,
   "id": "9263c32f",
   "metadata": {},
   "outputs": [
    {
     "name": "stdout",
     "output_type": "stream",
     "text": [
      "                               precision    recall  f1-score   support\n",
      "\n",
      "               bacterial_spot       0.66      0.36      0.46       349\n",
      "                 early_blight       0.00      0.00      0.00       182\n",
      "                      healthy       0.70      0.33      0.45       258\n",
      "                  late_blight       0.90      0.15      0.25       316\n",
      "                    leaf_mold       0.40      0.01      0.03       145\n",
      "           septoria_leaf_spot       0.48      0.55      0.51       262\n",
      "                  target_spot       0.78      0.08      0.14       229\n",
      "          tomato_mosaic_virus       0.00      0.00      0.00        58\n",
      "tomato_yellow_leaf_curl_virus       0.38      0.94      0.54       857\n",
      "      two-spotted_spider_mite       0.63      0.31      0.42       251\n",
      "\n",
      "                     accuracy                           0.45      2907\n",
      "                    macro avg       0.49      0.27      0.28      2907\n",
      "                 weighted avg       0.53      0.45      0.38      2907\n",
      "\n",
      "[[125   0   7   0   0   5   0   0 211   1]\n",
      " [ 19   0   0   1   0  24   1   0 136   1]\n",
      " [  0   0  86   1   0   0   0   0 169   2]\n",
      " [  6   0  10  46   2  45   2   0 202   3]\n",
      " [  2   0   1   1   2  11   1   0 121   6]\n",
      " [  1   0  10   1   1 143   0   0 103   3]\n",
      " [  1   0   0   0   0  40  18   0 141  29]\n",
      " [  1   0   0   0   0   1   0   0  56   0]\n",
      " [ 29   0   8   1   0  16   0   0 803   0]\n",
      " [  6   0   0   0   0  10   1   0 156  78]]\n"
     ]
    },
    {
     "name": "stderr",
     "output_type": "stream",
     "text": [
      "C:\\Users\\ravic\\anaconda3\\lib\\site-packages\\sklearn\\metrics\\_classification.py:1318: UndefinedMetricWarning: Precision and F-score are ill-defined and being set to 0.0 in labels with no predicted samples. Use `zero_division` parameter to control this behavior.\n",
      "  _warn_prf(average, modifier, msg_start, len(result))\n",
      "C:\\Users\\ravic\\anaconda3\\lib\\site-packages\\sklearn\\metrics\\_classification.py:1318: UndefinedMetricWarning: Precision and F-score are ill-defined and being set to 0.0 in labels with no predicted samples. Use `zero_division` parameter to control this behavior.\n",
      "  _warn_prf(average, modifier, msg_start, len(result))\n",
      "C:\\Users\\ravic\\anaconda3\\lib\\site-packages\\sklearn\\metrics\\_classification.py:1318: UndefinedMetricWarning: Precision and F-score are ill-defined and being set to 0.0 in labels with no predicted samples. Use `zero_division` parameter to control this behavior.\n",
      "  _warn_prf(average, modifier, msg_start, len(result))\n"
     ]
    }
   ],
   "source": [
    "y_predict = classifier_rf.fit(Ftrain, Ltrain).predict(Ftest)\n",
    "class_names = target.unique()\n",
    "print(classification_report(Ltest, y_predict, target_names=class_names))\n",
    "print(confusion_matrix(Ltest, y_predict))"
   ]
  },
  {
   "cell_type": "markdown",
   "id": "8befce61",
   "metadata": {},
   "source": [
    "# Naive bayes on Grayscale"
   ]
  },
  {
   "cell_type": "code",
   "execution_count": 39,
   "id": "0d1a6d3b",
   "metadata": {},
   "outputs": [
    {
     "data": {
      "text/plain": [
       "GaussianNB()"
      ]
     },
     "execution_count": 39,
     "metadata": {},
     "output_type": "execute_result"
    }
   ],
   "source": [
    "gnb.fit(Ftrain, Ltrain)"
   ]
  },
  {
   "cell_type": "code",
   "execution_count": 40,
   "id": "053c9a09",
   "metadata": {},
   "outputs": [
    {
     "data": {
      "text/plain": [
       "0.35500515995872034"
      ]
     },
     "execution_count": 40,
     "metadata": {},
     "output_type": "execute_result"
    }
   ],
   "source": [
    "y_pred = gnb.predict(Ftest)\n",
    "metrics.accuracy_score(Ltest, y_pred)"
   ]
  },
  {
   "cell_type": "code",
   "execution_count": 41,
   "id": "22c98d80",
   "metadata": {},
   "outputs": [
    {
     "name": "stdout",
     "output_type": "stream",
     "text": [
      "                               precision    recall  f1-score   support\n",
      "\n",
      "               bacterial_spot       0.47      0.67      0.55       349\n",
      "                 early_blight       0.23      0.26      0.25       182\n",
      "                      healthy       0.33      0.60      0.42       258\n",
      "                  late_blight       0.39      0.26      0.31       316\n",
      "                    leaf_mold       0.50      0.26      0.34       145\n",
      "           septoria_leaf_spot       0.26      0.59      0.36       262\n",
      "                  target_spot       0.41      0.28      0.34       229\n",
      "          tomato_mosaic_virus       0.13      0.45      0.20        58\n",
      "tomato_yellow_leaf_curl_virus       0.65      0.15      0.24       857\n",
      "      two-spotted_spider_mite       0.35      0.41      0.38       251\n",
      "\n",
      "                     accuracy                           0.36      2907\n",
      "                    macro avg       0.37      0.39      0.34      2907\n",
      "                 weighted avg       0.45      0.36      0.34      2907\n",
      "\n",
      "[[235  11  43   3   2  20   9  14   6   6]\n",
      " [ 43  48   5  32   5  17  11   4   5  12]\n",
      " [  3   1 155   9   4  35  16   1  25   9]\n",
      " [  7  45  93  83   6  53   7   5   9   8]\n",
      " [ 13   4   7  11  38  39   4  20   5   4]\n",
      " [  3   6  41  11   5 154  12   9   5  16]\n",
      " [ 11  13   3  20   2  60  65   7   2  46]\n",
      " [  9   0   3   0   1   5   1  26   6   7]\n",
      " [165  56 123  36  11 150  15  97 126  78]\n",
      " [ 12  21   0   7   2  63  18  21   5 102]]\n"
     ]
    }
   ],
   "source": [
    "class_names = target.unique()\n",
    "print(classification_report(Ltest, y_pred, target_names=class_names))\n",
    "print(confusion_matrix(Ltest, y_pred))"
   ]
  },
  {
   "cell_type": "markdown",
   "id": "9a562db7",
   "metadata": {},
   "source": [
    "# Decision Tree on Grayscale"
   ]
  },
  {
   "cell_type": "code",
   "execution_count": 42,
   "id": "a4e9cd0d",
   "metadata": {},
   "outputs": [
    {
     "data": {
      "text/plain": [
       "0.3746130030959752"
      ]
     },
     "execution_count": 42,
     "metadata": {},
     "output_type": "execute_result"
    }
   ],
   "source": [
    "classifier_tree.fit(Ftrain, Ltrain)\n",
    "classifier_tree.score(Ftest,Ltest)"
   ]
  },
  {
   "cell_type": "code",
   "execution_count": 43,
   "id": "523c3773",
   "metadata": {},
   "outputs": [
    {
     "name": "stdout",
     "output_type": "stream",
     "text": [
      "                               precision    recall  f1-score   support\n",
      "\n",
      "               bacterial_spot       0.41      0.39      0.40       349\n",
      "                 early_blight       0.19      0.19      0.19       182\n",
      "                      healthy       0.46      0.34      0.39       258\n",
      "                  late_blight       0.38      0.33      0.36       316\n",
      "                    leaf_mold       0.25      0.30      0.27       145\n",
      "           septoria_leaf_spot       0.29      0.37      0.33       262\n",
      "                  target_spot       0.23      0.24      0.24       229\n",
      "          tomato_mosaic_virus       0.10      0.07      0.08        58\n",
      "tomato_yellow_leaf_curl_virus       0.52      0.51      0.52       857\n",
      "      two-spotted_spider_mite       0.33      0.40      0.36       251\n",
      "\n",
      "                     accuracy                           0.38      2907\n",
      "                    macro avg       0.32      0.31      0.31      2907\n",
      "                 weighted avg       0.38      0.38      0.38      2907\n",
      "\n",
      "[[136  27  14  17  25  17  15   1  82  15]\n",
      " [ 25  35   5  21  12  13  16   2  36  17]\n",
      " [ 15  15  89  14   5  32  24   2  47  15]\n",
      " [ 20  20  16 105  12  51  15   5  57  15]\n",
      " [  8  10   7  12  44  12   8   2  32  10]\n",
      " [ 12  16   7  38   9  96  19   2  44  19]\n",
      " [  8  18  15  10  16  29  55   2  35  41]\n",
      " [  4   1   2   4   6   5   1   4  22   9]\n",
      " [ 92  37  29  46  34  59  44  15 434  67]\n",
      " [ 12  10  11   8  14  13  40   4  38 101]]\n"
     ]
    }
   ],
   "source": [
    "y_predict = classifier_tree.fit(Ftrain, Ltrain).predict(Ftest)\n",
    "class_names = target.unique()\n",
    "print(classification_report(Ltest, y_predict, target_names=class_names))\n",
    "print(confusion_matrix(Ltest, y_predict))"
   ]
  },
  {
   "cell_type": "markdown",
   "id": "e42f549f",
   "metadata": {},
   "source": [
    "# KNN on Red channel data"
   ]
  },
  {
   "cell_type": "code",
   "execution_count": 44,
   "id": "cb75cbbd",
   "metadata": {},
   "outputs": [],
   "source": [
    "#reading numpy array data\n",
    "gray_test = np.load('red_data.npy')\n",
    "#reading csv file\n",
    "gray_df = pd.read_csv('red_data.csv')"
   ]
  },
  {
   "cell_type": "code",
   "execution_count": 45,
   "id": "7fda7839",
   "metadata": {},
   "outputs": [],
   "source": [
    "loaded = []\n",
    "for i in gray_test:\n",
    "    k = []\n",
    "    k = np.asarray(i,dtype='uint8')\n",
    "    loaded.append(k)\n",
    "features = loaded\n",
    "target = gray_df['disease']\n",
    "Ftrain,Ftest,Ltrain,Ltest=train_test_split(features,target, test_size=0.20, random_state=20)\n",
    "Ftrain = minmax.fit_transform(Ftrain)\n",
    "Ftest = minmax.fit_transform(Ftest)"
   ]
  },
  {
   "cell_type": "code",
   "execution_count": 46,
   "id": "683839f2",
   "metadata": {},
   "outputs": [
    {
     "data": {
      "text/plain": [
       "0.4846921224630203"
      ]
     },
     "execution_count": 46,
     "metadata": {},
     "output_type": "execute_result"
    }
   ],
   "source": [
    "kmodel.fit(Ftrain,Ltrain)\n",
    "kmodel.score(Ftest,Ltest)"
   ]
  },
  {
   "cell_type": "code",
   "execution_count": 47,
   "id": "53bc7b93",
   "metadata": {},
   "outputs": [
    {
     "name": "stdout",
     "output_type": "stream",
     "text": [
      "                               precision    recall  f1-score   support\n",
      "\n",
      "               bacterial_spot       0.47      0.69      0.56       349\n",
      "                 early_blight       0.00      0.00      0.00       182\n",
      "                      healthy       0.37      0.71      0.48       258\n",
      "                  late_blight       0.39      0.33      0.36       316\n",
      "                    leaf_mold       0.67      0.37      0.48       145\n",
      "           septoria_leaf_spot       0.57      0.34      0.43       262\n",
      "                  target_spot       0.56      0.17      0.26       229\n",
      "          tomato_mosaic_virus       0.50      0.02      0.03        58\n",
      "tomato_yellow_leaf_curl_virus       0.54      0.64      0.58       857\n",
      "      two-spotted_spider_mite       0.51      0.59      0.55       251\n",
      "\n",
      "                     accuracy                           0.48      2907\n",
      "                    macro avg       0.46      0.39      0.37      2907\n",
      "                 weighted avg       0.47      0.48      0.45      2907\n",
      "\n",
      "[[242   0  37  22   0   0   0   0  48   0]\n",
      " [ 69   0  18   3   5   6   8   0  59  14]\n",
      " [  3   0 183  16   0   1   0   0  54   1]\n",
      " [ 36   0  47 104   7  36   4   0  68  14]\n",
      " [  4   0  22  22  54   4   2   0  33   4]\n",
      " [ 13   0  37  28   4  89   3   1  66  21]\n",
      " [ 39   0  34   3   0   6  39   0  58  50]\n",
      " [  0   0   4   5   1   1   0   1  39   7]\n",
      " [ 89   0 110  57  10   8   1   0 548  34]\n",
      " [ 23   0   8   6   0   4  13   0  48 149]]\n"
     ]
    },
    {
     "name": "stderr",
     "output_type": "stream",
     "text": [
      "C:\\Users\\ravic\\anaconda3\\lib\\site-packages\\sklearn\\metrics\\_classification.py:1318: UndefinedMetricWarning: Precision and F-score are ill-defined and being set to 0.0 in labels with no predicted samples. Use `zero_division` parameter to control this behavior.\n",
      "  _warn_prf(average, modifier, msg_start, len(result))\n",
      "C:\\Users\\ravic\\anaconda3\\lib\\site-packages\\sklearn\\metrics\\_classification.py:1318: UndefinedMetricWarning: Precision and F-score are ill-defined and being set to 0.0 in labels with no predicted samples. Use `zero_division` parameter to control this behavior.\n",
      "  _warn_prf(average, modifier, msg_start, len(result))\n",
      "C:\\Users\\ravic\\anaconda3\\lib\\site-packages\\sklearn\\metrics\\_classification.py:1318: UndefinedMetricWarning: Precision and F-score are ill-defined and being set to 0.0 in labels with no predicted samples. Use `zero_division` parameter to control this behavior.\n",
      "  _warn_prf(average, modifier, msg_start, len(result))\n"
     ]
    }
   ],
   "source": [
    "#printing results of the kmodel\n",
    "y_predict = kmodel.fit(Ftrain, Ltrain).predict(Ftest)\n",
    "class_names = target.unique()\n",
    "print(classification_report(Ltest, y_predict, target_names=class_names))\n",
    "print(confusion_matrix(Ltest, y_predict))"
   ]
  },
  {
   "cell_type": "markdown",
   "id": "ffcda594",
   "metadata": {},
   "source": [
    "# Logistic on Red channel data"
   ]
  },
  {
   "cell_type": "code",
   "execution_count": 48,
   "id": "1ed4037b",
   "metadata": {},
   "outputs": [
    {
     "data": {
      "text/plain": [
       "0.4877880976952184"
      ]
     },
     "execution_count": 48,
     "metadata": {},
     "output_type": "execute_result"
    }
   ],
   "source": [
    "model.fit(Ftrain,Ltrain)\n",
    "model.score(Ftest,Ltest)"
   ]
  },
  {
   "cell_type": "code",
   "execution_count": 49,
   "id": "22b11f2e",
   "metadata": {},
   "outputs": [
    {
     "name": "stdout",
     "output_type": "stream",
     "text": [
      "                               precision    recall  f1-score   support\n",
      "\n",
      "               bacterial_spot       0.59      0.59      0.59       349\n",
      "                 early_blight       0.30      0.10      0.15       182\n",
      "                      healthy       0.44      0.42      0.43       258\n",
      "                  late_blight       0.30      0.35      0.32       316\n",
      "                    leaf_mold       0.58      0.41      0.48       145\n",
      "           septoria_leaf_spot       0.41      0.28      0.33       262\n",
      "                  target_spot       0.38      0.45      0.41       229\n",
      "          tomato_mosaic_virus       0.21      0.17      0.19        58\n",
      "tomato_yellow_leaf_curl_virus       0.62      0.69      0.65       857\n",
      "      two-spotted_spider_mite       0.45      0.56      0.50       251\n",
      "\n",
      "                     accuracy                           0.49      2907\n",
      "                    macro avg       0.43      0.40      0.41      2907\n",
      "                 weighted avg       0.48      0.49      0.48      2907\n",
      "\n",
      "[[205   5  16  37   1   6  12   0  62   5]\n",
      " [ 33  19   6  13  10   8  29   1  55   8]\n",
      " [  9   5 108  56   2   8  29   0  28  13]\n",
      " [ 15  10  38 112  10  32  17   6  60  16]\n",
      " [  3   3   4  27  60  10   3   4  25   6]\n",
      " [ 10   8  16  51   8  73  31   7  32  26]\n",
      " [ 19   3  15   8   2   7 103   2  24  46]\n",
      " [  0   0   0   2   3   1   1  10  37   4]\n",
      " [ 43   8  41  68   7  23  17  16 588  46]\n",
      " [ 11   3   4   4   1  12  29   2  45 140]]\n"
     ]
    }
   ],
   "source": [
    "#classification report\n",
    "y_predict = model.fit(Ftrain, Ltrain).predict(Ftest)\n",
    "class_names = target.unique()\n",
    "print(classification_report(Ltest, y_predict, target_names=class_names))\n",
    "print(confusion_matrix(Ltest, y_predict))"
   ]
  },
  {
   "cell_type": "markdown",
   "id": "dba6d5ce",
   "metadata": {},
   "source": [
    "# SVM on Red channel data"
   ]
  },
  {
   "cell_type": "code",
   "execution_count": 50,
   "id": "6ed153f7",
   "metadata": {},
   "outputs": [
    {
     "name": "stdout",
     "output_type": "stream",
     "text": [
      "0.5087719298245614\n"
     ]
    }
   ],
   "source": [
    "clf.fit(Ftrain,Ltrain)\n",
    "y_pred = clf.predict(Ftest)\n",
    "print(accuracy_score(Ltest,y_pred))"
   ]
  },
  {
   "cell_type": "code",
   "execution_count": 51,
   "id": "3d2d1d59",
   "metadata": {},
   "outputs": [
    {
     "name": "stdout",
     "output_type": "stream",
     "text": [
      "                               precision    recall  f1-score   support\n",
      "\n",
      "               bacterial_spot       0.59      0.51      0.55       349\n",
      "                 early_blight       0.24      0.15      0.18       182\n",
      "                      healthy       0.48      0.64      0.55       258\n",
      "                  late_blight       0.37      0.40      0.39       316\n",
      "                    leaf_mold       0.50      0.39      0.44       145\n",
      "           septoria_leaf_spot       0.40      0.31      0.35       262\n",
      "                  target_spot       0.42      0.41      0.42       229\n",
      "          tomato_mosaic_virus       0.28      0.29      0.29        58\n",
      "tomato_yellow_leaf_curl_virus       0.62      0.71      0.66       857\n",
      "      two-spotted_spider_mite       0.54      0.49      0.52       251\n",
      "\n",
      "                     accuracy                           0.51      2907\n",
      "                    macro avg       0.44      0.43      0.43      2907\n",
      "                 weighted avg       0.50      0.51      0.50      2907\n",
      "\n",
      "[[177  15  23  32   0   6  10   0  81   5]\n",
      " [ 28  27   6  12  11  10  24   2  54   8]\n",
      " [ 11   2 165  32   5   8   7   0  25   3]\n",
      " [ 10  21  44 126   8  34  13   6  44  10]\n",
      " [  0   6   5  37  56  10   2   0  24   5]\n",
      " [  9   7  21  45  13  82  28   4  38  15]\n",
      " [ 20  14  19   5   2  14  95   2  28  30]\n",
      " [  0   0   0   1   3   2   0  17  33   2]\n",
      " [ 35  13  57  41  11  21  19  23 610  27]\n",
      " [  8   7   6   6   3  20  27   7  43 124]]\n"
     ]
    }
   ],
   "source": [
    "#classification report\n",
    "y_predict = clf.fit(Ftrain, Ltrain).predict(Ftest)\n",
    "class_names = target.unique()\n",
    "print(classification_report(Ltest, y_predict, target_names=class_names))\n",
    "print(confusion_matrix(Ltest, y_predict))"
   ]
  },
  {
   "cell_type": "markdown",
   "id": "a670c4d4",
   "metadata": {},
   "source": [
    "# Random forest on Red channel data"
   ]
  },
  {
   "cell_type": "code",
   "execution_count": 52,
   "id": "9e816e9e",
   "metadata": {},
   "outputs": [
    {
     "data": {
      "text/plain": [
       "0.4755677907777013"
      ]
     },
     "execution_count": 52,
     "metadata": {},
     "output_type": "execute_result"
    }
   ],
   "source": [
    "classifier_rf.fit(Ftrain, Ltrain)\n",
    "classifier_rf.oob_score_"
   ]
  },
  {
   "cell_type": "code",
   "execution_count": 53,
   "id": "6d5daf40",
   "metadata": {},
   "outputs": [
    {
     "name": "stdout",
     "output_type": "stream",
     "text": [
      "                               precision    recall  f1-score   support\n",
      "\n",
      "               bacterial_spot       0.70      0.41      0.52       349\n",
      "                 early_blight       0.00      0.00      0.00       182\n",
      "                      healthy       0.65      0.33      0.44       258\n",
      "                  late_blight       0.62      0.19      0.29       316\n",
      "                    leaf_mold       0.70      0.05      0.09       145\n",
      "           septoria_leaf_spot       0.48      0.52      0.50       262\n",
      "                  target_spot       0.78      0.15      0.26       229\n",
      "          tomato_mosaic_virus       0.00      0.00      0.00        58\n",
      "tomato_yellow_leaf_curl_virus       0.42      0.90      0.57       857\n",
      "      two-spotted_spider_mite       0.49      0.55      0.52       251\n",
      "\n",
      "                     accuracy                           0.48      2907\n",
      "                    macro avg       0.48      0.31      0.32      2907\n",
      "                 weighted avg       0.51      0.48      0.42      2907\n",
      "\n",
      "[[144   0  10   6   0   1   1   0 183   4]\n",
      " [ 18   0   0   6   0  22   2   0 117  17]\n",
      " [  0   0  86   2   0   3   3   0 158   6]\n",
      " [  3   0   8  59   2  58   2   0 178   6]\n",
      " [  2   0   4  11   7  17   0   0  96   8]\n",
      " [  2   0   8   1   1 137   2   0  99  12]\n",
      " [  1   0   0   0   0  23  35   0  90  80]\n",
      " [  0   0   0   0   0   1   0   0  55   2]\n",
      " [ 32   0  16  10   0  17   0   0 775   7]\n",
      " [  3   0   0   0   0   9   0   0 100 139]]\n"
     ]
    },
    {
     "name": "stderr",
     "output_type": "stream",
     "text": [
      "C:\\Users\\ravic\\anaconda3\\lib\\site-packages\\sklearn\\metrics\\_classification.py:1318: UndefinedMetricWarning: Precision and F-score are ill-defined and being set to 0.0 in labels with no predicted samples. Use `zero_division` parameter to control this behavior.\n",
      "  _warn_prf(average, modifier, msg_start, len(result))\n",
      "C:\\Users\\ravic\\anaconda3\\lib\\site-packages\\sklearn\\metrics\\_classification.py:1318: UndefinedMetricWarning: Precision and F-score are ill-defined and being set to 0.0 in labels with no predicted samples. Use `zero_division` parameter to control this behavior.\n",
      "  _warn_prf(average, modifier, msg_start, len(result))\n",
      "C:\\Users\\ravic\\anaconda3\\lib\\site-packages\\sklearn\\metrics\\_classification.py:1318: UndefinedMetricWarning: Precision and F-score are ill-defined and being set to 0.0 in labels with no predicted samples. Use `zero_division` parameter to control this behavior.\n",
      "  _warn_prf(average, modifier, msg_start, len(result))\n"
     ]
    }
   ],
   "source": [
    "y_predict = classifier_rf.fit(Ftrain, Ltrain).predict(Ftest)\n",
    "class_names = target.unique()\n",
    "print(classification_report(Ltest, y_predict, target_names=class_names))\n",
    "print(confusion_matrix(Ltest, y_predict))"
   ]
  },
  {
   "cell_type": "markdown",
   "id": "e1c2d95a",
   "metadata": {},
   "source": [
    "# Naive Bayes on Red channel data"
   ]
  },
  {
   "cell_type": "code",
   "execution_count": 54,
   "id": "8ec0753c",
   "metadata": {},
   "outputs": [
    {
     "data": {
      "text/plain": [
       "GaussianNB()"
      ]
     },
     "execution_count": 54,
     "metadata": {},
     "output_type": "execute_result"
    }
   ],
   "source": [
    "gnb.fit(Ftrain, Ltrain)"
   ]
  },
  {
   "cell_type": "code",
   "execution_count": 55,
   "id": "9bd3c55d",
   "metadata": {},
   "outputs": [
    {
     "data": {
      "text/plain": [
       "0.37323701410388715"
      ]
     },
     "execution_count": 55,
     "metadata": {},
     "output_type": "execute_result"
    }
   ],
   "source": [
    "y_pred = gnb.predict(Ftest)\n",
    "metrics.accuracy_score(Ltest, y_pred)"
   ]
  },
  {
   "cell_type": "code",
   "execution_count": 56,
   "id": "fc44e44c",
   "metadata": {},
   "outputs": [
    {
     "name": "stdout",
     "output_type": "stream",
     "text": [
      "                               precision    recall  f1-score   support\n",
      "\n",
      "               bacterial_spot       0.48      0.67      0.56       349\n",
      "                 early_blight       0.23      0.21      0.22       182\n",
      "                      healthy       0.35      0.66      0.45       258\n",
      "                  late_blight       0.42      0.28      0.33       316\n",
      "                    leaf_mold       0.44      0.24      0.31       145\n",
      "           septoria_leaf_spot       0.27      0.55      0.36       262\n",
      "                  target_spot       0.49      0.38      0.43       229\n",
      "          tomato_mosaic_virus       0.15      0.53      0.23        58\n",
      "tomato_yellow_leaf_curl_virus       0.68      0.15      0.24       857\n",
      "      two-spotted_spider_mite       0.36      0.51      0.42       251\n",
      "\n",
      "                     accuracy                           0.37      2907\n",
      "                    macro avg       0.38      0.42      0.36      2907\n",
      "                 weighted avg       0.47      0.37      0.35      2907\n",
      "\n",
      "[[235  11  46   6   1  16  11  13   7   3]\n",
      " [ 50  39   4  29   8  18  10   5   8  11]\n",
      " [  3   1 171   8   4  30  12   0  19  10]\n",
      " [  4  36  86  87   9  56   6  12  11   9]\n",
      " [ 14   3   7  15  35  48   3  10   4   6]\n",
      " [  3   8  35  15   5 143  13   6   4  30]\n",
      " [  8  13   1  13   2  35  88   3   1  65]\n",
      " [  8   0   0   0   0   4   1  31   5   9]\n",
      " [152  48 144  29  16 121  16 115 128  88]\n",
      " [ 10  14   0   6   0  52  21  18   2 128]]\n"
     ]
    }
   ],
   "source": [
    "class_names = target.unique()\n",
    "print(classification_report(Ltest, y_pred, target_names=class_names))\n",
    "print(confusion_matrix(Ltest, y_pred))"
   ]
  },
  {
   "cell_type": "markdown",
   "id": "1aad544a",
   "metadata": {},
   "source": [
    "# Decision Tree on Red channel"
   ]
  },
  {
   "cell_type": "code",
   "execution_count": 57,
   "id": "91934650",
   "metadata": {},
   "outputs": [
    {
     "data": {
      "text/plain": [
       "0.4162366701066392"
      ]
     },
     "execution_count": 57,
     "metadata": {},
     "output_type": "execute_result"
    }
   ],
   "source": [
    "classifier_tree.fit(Ftrain, Ltrain)\n",
    "classifier_tree.score(Ftest,Ltest)"
   ]
  },
  {
   "cell_type": "code",
   "execution_count": 58,
   "id": "897d5f1e",
   "metadata": {},
   "outputs": [
    {
     "name": "stdout",
     "output_type": "stream",
     "text": [
      "                               precision    recall  f1-score   support\n",
      "\n",
      "               bacterial_spot       0.48      0.46      0.47       349\n",
      "                 early_blight       0.12      0.10      0.11       182\n",
      "                      healthy       0.56      0.50      0.53       258\n",
      "                  late_blight       0.36      0.35      0.36       316\n",
      "                    leaf_mold       0.27      0.30      0.28       145\n",
      "           septoria_leaf_spot       0.32      0.39      0.35       262\n",
      "                  target_spot       0.30      0.33      0.31       229\n",
      "          tomato_mosaic_virus       0.10      0.12      0.11        58\n",
      "tomato_yellow_leaf_curl_virus       0.58      0.53      0.55       857\n",
      "      two-spotted_spider_mite       0.32      0.35      0.33       251\n",
      "\n",
      "                     accuracy                           0.41      2907\n",
      "                    macro avg       0.34      0.34      0.34      2907\n",
      "                 weighted avg       0.42      0.41      0.41      2907\n",
      "\n",
      "[[161  32  10  16   7  18  13   7  73  12]\n",
      " [ 23  19   9  17  14  15  22   3  45  15]\n",
      " [ 15   4 129  14   9  13  29   4  25  16]\n",
      " [ 21  22  15 111  21  37  19   5  45  20]\n",
      " [  4   9   3  19  43  16   7   8  30   6]\n",
      " [ 17  10  12  39   8 102  19   2  24  29]\n",
      " [ 13  10   8  11  13  26  76   1  24  47]\n",
      " [  0   1   2   4   5   5   3   7  25   6]\n",
      " [ 70  40  34  65  30  64  32  27 454  41]\n",
      " [ 12  13   7  12  10  22  37   6  43  89]]\n"
     ]
    }
   ],
   "source": [
    "y_predict = classifier_tree.fit(Ftrain, Ltrain).predict(Ftest)\n",
    "class_names = target.unique()\n",
    "print(classification_report(Ltest, y_predict, target_names=class_names))\n",
    "print(confusion_matrix(Ltest, y_predict))"
   ]
  },
  {
   "cell_type": "markdown",
   "id": "21af7568",
   "metadata": {},
   "source": [
    "# KNN on green channel data"
   ]
  },
  {
   "cell_type": "code",
   "execution_count": 59,
   "id": "461b784b",
   "metadata": {},
   "outputs": [
    {
     "data": {
      "text/plain": [
       "0.4544203646370829"
      ]
     },
     "execution_count": 59,
     "metadata": {},
     "output_type": "execute_result"
    }
   ],
   "source": [
    "#reading numpy array data\n",
    "gray_test = np.load('green_data.npy')\n",
    "#reading csv file\n",
    "gray_df = pd.read_csv('green_data.csv')\n",
    "loaded = []\n",
    "for i in gray_test:\n",
    "    k = []\n",
    "    k = np.asarray(i,dtype='uint8')\n",
    "    loaded.append(k)\n",
    "features = loaded\n",
    "target = gray_df['disease']\n",
    "Ftrain,Ftest,Ltrain,Ltest=train_test_split(features,target, test_size=0.20, random_state=20)\n",
    "Ftrain = minmax.fit_transform(Ftrain)\n",
    "Ftest = minmax.fit_transform(Ftest)\n",
    "kmodel.fit(Ftrain,Ltrain)\n",
    "kmodel.score(Ftest,Ltest)"
   ]
  },
  {
   "cell_type": "code",
   "execution_count": 60,
   "id": "5a4d4f1d",
   "metadata": {},
   "outputs": [
    {
     "name": "stdout",
     "output_type": "stream",
     "text": [
      "                               precision    recall  f1-score   support\n",
      "\n",
      "               bacterial_spot       0.38      0.74      0.51       349\n",
      "                 early_blight       0.00      0.00      0.00       182\n",
      "                      healthy       0.33      0.58      0.42       258\n",
      "                  late_blight       0.27      0.23      0.25       316\n",
      "                    leaf_mold       0.70      0.31      0.43       145\n",
      "           septoria_leaf_spot       0.53      0.37      0.43       262\n",
      "                  target_spot       0.52      0.07      0.13       229\n",
      "          tomato_mosaic_virus       0.00      0.00      0.00        58\n",
      "tomato_yellow_leaf_curl_virus       0.56      0.67      0.61       857\n",
      "      two-spotted_spider_mite       0.53      0.42      0.47       251\n",
      "\n",
      "                     accuracy                           0.45      2907\n",
      "                    macro avg       0.38      0.34      0.32      2907\n",
      "                 weighted avg       0.44      0.45      0.42      2907\n",
      "\n",
      "[[259   0  32  22   0   1   0   0  35   0]\n",
      " [ 90   0  10   5   5   8   4   0  52   8]\n",
      " [ 24   0 150  48   0   5   0   0  30   1]\n",
      " [ 46   0  67  73   1  34   1   0  80  14]\n",
      " [ 17   0  19  21  45   4   2   0  35   2]\n",
      " [ 13   0  52  23   4  96   2   0  66   6]\n",
      " [ 67   0  19  15   1  13  17   0  58  39]\n",
      " [  9   0   6   6   2   2   0   0  30   3]\n",
      " [104   0  99  41   5  11   1   0 575  21]\n",
      " [ 45   0   4  21   1   7   6   0  61 106]]\n"
     ]
    },
    {
     "name": "stderr",
     "output_type": "stream",
     "text": [
      "C:\\Users\\ravic\\anaconda3\\lib\\site-packages\\sklearn\\metrics\\_classification.py:1318: UndefinedMetricWarning: Precision and F-score are ill-defined and being set to 0.0 in labels with no predicted samples. Use `zero_division` parameter to control this behavior.\n",
      "  _warn_prf(average, modifier, msg_start, len(result))\n",
      "C:\\Users\\ravic\\anaconda3\\lib\\site-packages\\sklearn\\metrics\\_classification.py:1318: UndefinedMetricWarning: Precision and F-score are ill-defined and being set to 0.0 in labels with no predicted samples. Use `zero_division` parameter to control this behavior.\n",
      "  _warn_prf(average, modifier, msg_start, len(result))\n",
      "C:\\Users\\ravic\\anaconda3\\lib\\site-packages\\sklearn\\metrics\\_classification.py:1318: UndefinedMetricWarning: Precision and F-score are ill-defined and being set to 0.0 in labels with no predicted samples. Use `zero_division` parameter to control this behavior.\n",
      "  _warn_prf(average, modifier, msg_start, len(result))\n"
     ]
    }
   ],
   "source": [
    "#printing results of the kmodel\n",
    "y_predict = kmodel.fit(Ftrain, Ltrain).predict(Ftest)\n",
    "class_names = target.unique()\n",
    "print(classification_report(Ltest, y_predict, target_names=class_names))\n",
    "print(confusion_matrix(Ltest, y_predict))"
   ]
  },
  {
   "cell_type": "markdown",
   "id": "71f3ea86",
   "metadata": {},
   "source": [
    "# Logistic on Green channel data"
   ]
  },
  {
   "cell_type": "code",
   "execution_count": 61,
   "id": "28dad6b2",
   "metadata": {},
   "outputs": [
    {
     "data": {
      "text/plain": [
       "0.478844169246646"
      ]
     },
     "execution_count": 61,
     "metadata": {},
     "output_type": "execute_result"
    }
   ],
   "source": [
    "model.fit(Ftrain,Ltrain)\n",
    "model.score(Ftest,Ltest)"
   ]
  },
  {
   "cell_type": "code",
   "execution_count": 62,
   "id": "3c0993f1",
   "metadata": {},
   "outputs": [
    {
     "name": "stdout",
     "output_type": "stream",
     "text": [
      "                               precision    recall  f1-score   support\n",
      "\n",
      "               bacterial_spot       0.50      0.54      0.52       349\n",
      "                 early_blight       0.26      0.11      0.15       182\n",
      "                      healthy       0.46      0.40      0.43       258\n",
      "                  late_blight       0.39      0.35      0.37       316\n",
      "                    leaf_mold       0.50      0.29      0.37       145\n",
      "           septoria_leaf_spot       0.40      0.29      0.34       262\n",
      "                  target_spot       0.32      0.31      0.32       229\n",
      "          tomato_mosaic_virus       0.37      0.12      0.18        58\n",
      "tomato_yellow_leaf_curl_virus       0.58      0.76      0.65       857\n",
      "      two-spotted_spider_mite       0.41      0.49      0.45       251\n",
      "\n",
      "                     accuracy                           0.48      2907\n",
      "                    macro avg       0.42      0.37      0.38      2907\n",
      "                 weighted avg       0.46      0.48      0.46      2907\n",
      "\n",
      "[[190   7  13  22   1  11  15   0  75  15]\n",
      " [ 39  20   5  15   4   3  27   0  51  18]\n",
      " [ 23   3 102  29   2   8  20   0  50  21]\n",
      " [ 17  20  23 112  14  30  17   6  62  15]\n",
      " [  6   3   2  28  42   7   7   3  40   7]\n",
      " [  8   6  25  30   9  76  29   1  62  16]\n",
      " [ 38   4  14   7   4   7  72   0  42  41]\n",
      " [  2   0   1   5   1   3   1   7  33   5]\n",
      " [ 38   7  31  37   5  37  14   2 648  38]\n",
      " [ 16   8   5   3   2   8  23   0  63 123]]\n"
     ]
    }
   ],
   "source": [
    "#classification report\n",
    "y_predict = model.fit(Ftrain, Ltrain).predict(Ftest)\n",
    "class_names = target.unique()\n",
    "print(classification_report(Ltest, y_predict, target_names=class_names))\n",
    "print(confusion_matrix(Ltest, y_predict))"
   ]
  },
  {
   "cell_type": "markdown",
   "id": "f62f0223",
   "metadata": {},
   "source": [
    "# SVM on green channel data"
   ]
  },
  {
   "cell_type": "code",
   "execution_count": 63,
   "id": "e89e7297",
   "metadata": {},
   "outputs": [
    {
     "name": "stdout",
     "output_type": "stream",
     "text": [
      "0.49638802889576883\n"
     ]
    }
   ],
   "source": [
    "clf.fit(Ftrain,Ltrain)\n",
    "y_pred = clf.predict(Ftest)\n",
    "print(accuracy_score(Ltest,y_pred))"
   ]
  },
  {
   "cell_type": "code",
   "execution_count": 64,
   "id": "aaec32cf",
   "metadata": {},
   "outputs": [
    {
     "name": "stdout",
     "output_type": "stream",
     "text": [
      "                               precision    recall  f1-score   support\n",
      "\n",
      "               bacterial_spot       0.48      0.57      0.52       349\n",
      "                 early_blight       0.28      0.18      0.22       182\n",
      "                      healthy       0.46      0.57      0.51       258\n",
      "                  late_blight       0.44      0.31      0.36       316\n",
      "                    leaf_mold       0.45      0.29      0.35       145\n",
      "           septoria_leaf_spot       0.41      0.34      0.38       262\n",
      "                  target_spot       0.37      0.37      0.37       229\n",
      "          tomato_mosaic_virus       0.32      0.17      0.22        58\n",
      "tomato_yellow_leaf_curl_virus       0.60      0.73      0.66       857\n",
      "      two-spotted_spider_mite       0.49      0.44      0.47       251\n",
      "\n",
      "                     accuracy                           0.50      2907\n",
      "                    macro avg       0.43      0.40      0.41      2907\n",
      "                 weighted avg       0.48      0.50      0.48      2907\n",
      "\n",
      "[[200   9  29  13   2  11  11   0  63  11]\n",
      " [ 38  33   4  10   6   7  23   1  45  15]\n",
      " [ 18   1 146  17   6  10  15   0  33  12]\n",
      " [ 21  27  29  98  15  36  14   7  58  11]\n",
      " [ 15   5   2  27  42   5   6   4  34   5]\n",
      " [ 15   8  27  26   9  90  25   1  52   9]\n",
      " [ 38   9  25   5   3   7  84   2  34  22]\n",
      " [  5   0   2   4   0   2   3  10  30   2]\n",
      " [ 48  14  48  21   7  38  19   6 629  27]\n",
      " [ 18  10   6   2   3  12  27   0  62 111]]\n"
     ]
    }
   ],
   "source": [
    "#classification report\n",
    "y_predict = clf.fit(Ftrain, Ltrain).predict(Ftest)\n",
    "class_names = target.unique()\n",
    "print(classification_report(Ltest, y_predict, target_names=class_names))\n",
    "print(confusion_matrix(Ltest, y_predict))"
   ]
  },
  {
   "cell_type": "markdown",
   "id": "4f8e565e",
   "metadata": {},
   "source": [
    "# Random Forest on green channel data"
   ]
  },
  {
   "cell_type": "code",
   "execution_count": 65,
   "id": "96c92f8f",
   "metadata": {},
   "outputs": [
    {
     "data": {
      "text/plain": [
       "0.42541293874741914"
      ]
     },
     "execution_count": 65,
     "metadata": {},
     "output_type": "execute_result"
    }
   ],
   "source": [
    "classifier_rf.fit(Ftrain, Ltrain)\n",
    "classifier_rf.oob_score_"
   ]
  },
  {
   "cell_type": "code",
   "execution_count": 66,
   "id": "a855ce64",
   "metadata": {},
   "outputs": [
    {
     "name": "stdout",
     "output_type": "stream",
     "text": [
      "                               precision    recall  f1-score   support\n",
      "\n",
      "               bacterial_spot       0.61      0.38      0.47       349\n",
      "                 early_blight       0.00      0.00      0.00       182\n",
      "                      healthy       0.59      0.39      0.47       258\n",
      "                  late_blight       0.78      0.18      0.30       316\n",
      "                    leaf_mold       0.00      0.00      0.00       145\n",
      "           septoria_leaf_spot       0.50      0.49      0.49       262\n",
      "                  target_spot       0.00      0.00      0.00       229\n",
      "          tomato_mosaic_virus       0.00      0.00      0.00        58\n",
      "tomato_yellow_leaf_curl_virus       0.37      0.93      0.53       857\n",
      "      two-spotted_spider_mite       0.71      0.04      0.08       251\n",
      "\n",
      "                     accuracy                           0.42      2907\n",
      "                    macro avg       0.36      0.24      0.23      2907\n",
      "                 weighted avg       0.43      0.42      0.34      2907\n",
      "\n",
      "[[132   0  11   3   0   3   0   0 200   0]\n",
      " [ 24   0   1   0   0  24   0   0 133   0]\n",
      " [  0   0 101   2   0   0   0   0 155   0]\n",
      " [  8   0  25  58   0  39   0   0 185   1]\n",
      " [  9   0   2   2   0  10   0   0 122   0]\n",
      " [  0   0  18   3   0 129   0   0 112   0]\n",
      " [  3   0   5   0   0  29   0   0 189   3]\n",
      " [  1   0   0   1   0   1   0   0  55   0]\n",
      " [ 33   0   8   5   0  14   0   0 797   0]\n",
      " [  7   0   0   0   0  11   0   0 223  10]]\n"
     ]
    },
    {
     "name": "stderr",
     "output_type": "stream",
     "text": [
      "C:\\Users\\ravic\\anaconda3\\lib\\site-packages\\sklearn\\metrics\\_classification.py:1318: UndefinedMetricWarning: Precision and F-score are ill-defined and being set to 0.0 in labels with no predicted samples. Use `zero_division` parameter to control this behavior.\n",
      "  _warn_prf(average, modifier, msg_start, len(result))\n",
      "C:\\Users\\ravic\\anaconda3\\lib\\site-packages\\sklearn\\metrics\\_classification.py:1318: UndefinedMetricWarning: Precision and F-score are ill-defined and being set to 0.0 in labels with no predicted samples. Use `zero_division` parameter to control this behavior.\n",
      "  _warn_prf(average, modifier, msg_start, len(result))\n",
      "C:\\Users\\ravic\\anaconda3\\lib\\site-packages\\sklearn\\metrics\\_classification.py:1318: UndefinedMetricWarning: Precision and F-score are ill-defined and being set to 0.0 in labels with no predicted samples. Use `zero_division` parameter to control this behavior.\n",
      "  _warn_prf(average, modifier, msg_start, len(result))\n"
     ]
    }
   ],
   "source": [
    "y_predict = classifier_rf.fit(Ftrain, Ltrain).predict(Ftest)\n",
    "class_names = target.unique()\n",
    "print(classification_report(Ltest, y_predict, target_names=class_names))\n",
    "print(confusion_matrix(Ltest, y_predict))"
   ]
  },
  {
   "cell_type": "markdown",
   "id": "e9b1cca9",
   "metadata": {},
   "source": [
    "# Naive bayes on Green channel data"
   ]
  },
  {
   "cell_type": "code",
   "execution_count": 67,
   "id": "1136802c",
   "metadata": {},
   "outputs": [
    {
     "data": {
      "text/plain": [
       "0.33126934984520123"
      ]
     },
     "execution_count": 67,
     "metadata": {},
     "output_type": "execute_result"
    }
   ],
   "source": [
    "gnb.fit(Ftrain, Ltrain)\n",
    "GaussianNB()\n",
    "y_pred = gnb.predict(Ftest)\n",
    "metrics.accuracy_score(Ltest, y_pred)"
   ]
  },
  {
   "cell_type": "code",
   "execution_count": 68,
   "id": "08e6f602",
   "metadata": {},
   "outputs": [
    {
     "name": "stdout",
     "output_type": "stream",
     "text": [
      "                               precision    recall  f1-score   support\n",
      "\n",
      "               bacterial_spot       0.43      0.60      0.50       349\n",
      "                 early_blight       0.23      0.29      0.25       182\n",
      "                      healthy       0.38      0.58      0.46       258\n",
      "                  late_blight       0.42      0.27      0.33       316\n",
      "                    leaf_mold       0.43      0.25      0.32       145\n",
      "           septoria_leaf_spot       0.23      0.60      0.33       262\n",
      "                  target_spot       0.41      0.28      0.34       229\n",
      "          tomato_mosaic_virus       0.12      0.40      0.18        58\n",
      "tomato_yellow_leaf_curl_virus       0.51      0.11      0.19       857\n",
      "      two-spotted_spider_mite       0.31      0.35      0.33       251\n",
      "\n",
      "                     accuracy                           0.33      2907\n",
      "                    macro avg       0.35      0.37      0.32      2907\n",
      "                 weighted avg       0.40      0.33      0.31      2907\n",
      "\n",
      "[[211  13  31   2   4  28  15  24   7  14]\n",
      " [ 43  52   5  31   6  15   9   4   3  14]\n",
      " [  1   0 149   6   5  32  17   3  35  10]\n",
      " [  7  48  85  85   4  47   7  12  10  11]\n",
      " [ 15   4   6  12  36  40   3  20   4   5]\n",
      " [  1   4  42  10   4 156  10   8  13  14]\n",
      " [ 14  14   1  18   4  60  65   8   5  40]\n",
      " [  9   0   5   0   2   5   1  23   6   7]\n",
      " [172  68  70  28  12 234  15  80  98  80]\n",
      " [ 15  28   0   9   6  62  15  16  12  88]]\n"
     ]
    }
   ],
   "source": [
    "class_names = target.unique()\n",
    "print(classification_report(Ltest, y_pred, target_names=class_names))\n",
    "print(confusion_matrix(Ltest, y_pred))"
   ]
  },
  {
   "cell_type": "markdown",
   "id": "ad497b39",
   "metadata": {},
   "source": [
    "# Decision Tree on Green channel"
   ]
  },
  {
   "cell_type": "code",
   "execution_count": 69,
   "id": "458fe744",
   "metadata": {},
   "outputs": [
    {
     "data": {
      "text/plain": [
       "0.3759889920880633"
      ]
     },
     "execution_count": 69,
     "metadata": {},
     "output_type": "execute_result"
    }
   ],
   "source": [
    "classifier_tree.fit(Ftrain, Ltrain)\n",
    "classifier_tree.score(Ftest,Ltest)"
   ]
  },
  {
   "cell_type": "code",
   "execution_count": 70,
   "id": "60ea8164",
   "metadata": {},
   "outputs": [
    {
     "name": "stdout",
     "output_type": "stream",
     "text": [
      "                               precision    recall  f1-score   support\n",
      "\n",
      "               bacterial_spot       0.35      0.35      0.35       349\n",
      "                 early_blight       0.14      0.13      0.14       182\n",
      "                      healthy       0.44      0.42      0.43       258\n",
      "                  late_blight       0.33      0.28      0.30       316\n",
      "                    leaf_mold       0.21      0.24      0.23       145\n",
      "           septoria_leaf_spot       0.33      0.48      0.39       262\n",
      "                  target_spot       0.24      0.27      0.25       229\n",
      "          tomato_mosaic_virus       0.10      0.07      0.08        58\n",
      "tomato_yellow_leaf_curl_virus       0.56      0.49      0.52       857\n",
      "      two-spotted_spider_mite       0.31      0.35      0.33       251\n",
      "\n",
      "                     accuracy                           0.37      2907\n",
      "                    macro avg       0.30      0.31      0.30      2907\n",
      "                 weighted avg       0.38      0.37      0.37      2907\n",
      "\n",
      "[[123  28  19  16  10  22  43   3  60  25]\n",
      " [ 22  24   6  19  13  16  22   0  40  20]\n",
      " [ 15   6 109  13   8  27  18   4  41  17]\n",
      " [ 28  13  21  90  22  52  16   3  50  21]\n",
      " [ 11  10  11  13  35  23   4   2  27   9]\n",
      " [ 15  13  21  26   8 126  13   4  27   9]\n",
      " [ 13  18  16  20   7  22  61   5  26  41]\n",
      " [  8   1   3   3   7   4   5   4  19   4]\n",
      " [ 99  36  32  63  38  74  38  13 417  47]\n",
      " [ 18  18   8  12  16  15  37   3  36  88]]\n"
     ]
    }
   ],
   "source": [
    "y_predict = classifier_tree.fit(Ftrain, Ltrain).predict(Ftest)\n",
    "class_names = target.unique()\n",
    "print(classification_report(Ltest, y_predict, target_names=class_names))\n",
    "print(confusion_matrix(Ltest, y_predict))"
   ]
  },
  {
   "cell_type": "markdown",
   "id": "75817642",
   "metadata": {},
   "source": [
    "# KNN on blue channel data"
   ]
  },
  {
   "cell_type": "code",
   "execution_count": 71,
   "id": "531e3624",
   "metadata": {},
   "outputs": [
    {
     "data": {
      "text/plain": [
       "0.542827657378741"
      ]
     },
     "execution_count": 71,
     "metadata": {},
     "output_type": "execute_result"
    }
   ],
   "source": [
    "#reading numpy array data\n",
    "gray_test = np.load('blue_data.npy')\n",
    "#reading csv file\n",
    "gray_df = pd.read_csv('blue_data.csv')\n",
    "loaded = []\n",
    "for i in gray_test:\n",
    "    k = []\n",
    "    k = np.asarray(i,dtype='uint8')\n",
    "    loaded.append(k)\n",
    "features = loaded\n",
    "target = gray_df['disease']\n",
    "Ftrain,Ftest,Ltrain,Ltest=train_test_split(features,target, test_size=0.20, random_state=20)\n",
    "Ftrain = minmax.fit_transform(Ftrain)\n",
    "Ftest = minmax.fit_transform(Ftest)\n",
    "kmodel.fit(Ftrain,Ltrain)\n",
    "kmodel.score(Ftest,Ltest)"
   ]
  },
  {
   "cell_type": "code",
   "execution_count": 72,
   "id": "1314e157",
   "metadata": {},
   "outputs": [
    {
     "name": "stdout",
     "output_type": "stream",
     "text": [
      "                               precision    recall  f1-score   support\n",
      "\n",
      "               bacterial_spot       0.33      0.85      0.47       349\n",
      "                 early_blight       0.00      0.00      0.00       182\n",
      "                      healthy       0.48      0.88      0.62       258\n",
      "                  late_blight       0.55      0.39      0.45       316\n",
      "                    leaf_mold       0.66      0.59      0.63       145\n",
      "           septoria_leaf_spot       0.59      0.52      0.55       262\n",
      "                  target_spot       0.53      0.20      0.29       229\n",
      "          tomato_mosaic_virus       0.50      0.12      0.19        58\n",
      "tomato_yellow_leaf_curl_virus       0.88      0.63      0.74       857\n",
      "      two-spotted_spider_mite       0.51      0.47      0.49       251\n",
      "\n",
      "                     accuracy                           0.54      2907\n",
      "                    macro avg       0.50      0.46      0.44      2907\n",
      "                 weighted avg       0.58      0.54      0.53      2907\n",
      "\n",
      "[[296   0  35   8   0   3   0   0   4   3]\n",
      " [101   0  19   7   6   5  13   0  21  10]\n",
      " [ 16   0 226  10   1   0   1   0   0   4]\n",
      " [ 55   0  51 122  10  38   7   1  21  11]\n",
      " [ 13   0   7  11  86  11   5   2   2   8]\n",
      " [ 46   0  10  16  20 137   5   1  12  15]\n",
      " [ 59   0  72  13   0  12  45   1   0  27]\n",
      " [  3   0   6  17   2   7   2   7   0  14]\n",
      " [239   0  13  17   5  17   2   2 541  21]\n",
      " [ 81   0  27   2   0   4   5   0  14 118]]\n"
     ]
    },
    {
     "name": "stderr",
     "output_type": "stream",
     "text": [
      "C:\\Users\\ravic\\anaconda3\\lib\\site-packages\\sklearn\\metrics\\_classification.py:1318: UndefinedMetricWarning: Precision and F-score are ill-defined and being set to 0.0 in labels with no predicted samples. Use `zero_division` parameter to control this behavior.\n",
      "  _warn_prf(average, modifier, msg_start, len(result))\n",
      "C:\\Users\\ravic\\anaconda3\\lib\\site-packages\\sklearn\\metrics\\_classification.py:1318: UndefinedMetricWarning: Precision and F-score are ill-defined and being set to 0.0 in labels with no predicted samples. Use `zero_division` parameter to control this behavior.\n",
      "  _warn_prf(average, modifier, msg_start, len(result))\n",
      "C:\\Users\\ravic\\anaconda3\\lib\\site-packages\\sklearn\\metrics\\_classification.py:1318: UndefinedMetricWarning: Precision and F-score are ill-defined and being set to 0.0 in labels with no predicted samples. Use `zero_division` parameter to control this behavior.\n",
      "  _warn_prf(average, modifier, msg_start, len(result))\n"
     ]
    }
   ],
   "source": [
    "#printing results of the kmodel\n",
    "y_predict = kmodel.fit(Ftrain, Ltrain).predict(Ftest)\n",
    "class_names = target.unique()\n",
    "print(classification_report(Ltest, y_predict, target_names=class_names))\n",
    "print(confusion_matrix(Ltest, y_predict))"
   ]
  },
  {
   "cell_type": "markdown",
   "id": "f452a113",
   "metadata": {},
   "source": [
    "# logistic on blue channel data"
   ]
  },
  {
   "cell_type": "code",
   "execution_count": 73,
   "id": "de158586",
   "metadata": {},
   "outputs": [
    {
     "data": {
      "text/plain": [
       "0.5359477124183006"
      ]
     },
     "execution_count": 73,
     "metadata": {},
     "output_type": "execute_result"
    }
   ],
   "source": [
    "model.fit(Ftrain,Ltrain)\n",
    "model.score(Ftest,Ltest)"
   ]
  },
  {
   "cell_type": "code",
   "execution_count": 74,
   "id": "489ce7e9",
   "metadata": {},
   "outputs": [
    {
     "name": "stdout",
     "output_type": "stream",
     "text": [
      "                               precision    recall  f1-score   support\n",
      "\n",
      "               bacterial_spot       0.55      0.53      0.54       349\n",
      "                 early_blight       0.20      0.07      0.11       182\n",
      "                      healthy       0.52      0.71      0.60       258\n",
      "                  late_blight       0.45      0.45      0.45       316\n",
      "                    leaf_mold       0.51      0.56      0.53       145\n",
      "           septoria_leaf_spot       0.48      0.31      0.37       262\n",
      "                  target_spot       0.30      0.42      0.35       229\n",
      "          tomato_mosaic_virus       0.33      0.36      0.34        58\n",
      "tomato_yellow_leaf_curl_virus       0.84      0.72      0.77       857\n",
      "      two-spotted_spider_mite       0.36      0.56      0.44       251\n",
      "\n",
      "                     accuracy                           0.54      2907\n",
      "                    macro avg       0.45      0.47      0.45      2907\n",
      "                 weighted avg       0.55      0.54      0.53      2907\n",
      "\n",
      "[[186   8  31  22   0   1  29   0  33  39]\n",
      " [ 29  13  13  19   9  11  35   3  31  19]\n",
      " [  3   2 182  21   2   1  35   0   0  12]\n",
      " [ 17  10  42 142  20  22  22   6  19  16]\n",
      " [  0   3   2  18  81  17   7   5   0  12]\n",
      " [ 12   8   1  20  28  80  45  13  19  36]\n",
      " [ 11   0  56  16   1   7  97   2   0  39]\n",
      " [  1   0   2  10   2   6   5  21   2   9]\n",
      " [ 61  14   7  40  11  15  15   7 615  72]\n",
      " [ 19   6  15   5   5   6  34   7  13 141]]\n"
     ]
    }
   ],
   "source": [
    "#classification report\n",
    "y_predict = model.fit(Ftrain, Ltrain).predict(Ftest)\n",
    "class_names = target.unique()\n",
    "print(classification_report(Ltest, y_predict, target_names=class_names))\n",
    "print(confusion_matrix(Ltest, y_predict))"
   ]
  },
  {
   "cell_type": "markdown",
   "id": "c7585c1d",
   "metadata": {},
   "source": [
    "# SVM on blue channel data"
   ]
  },
  {
   "cell_type": "code",
   "execution_count": 75,
   "id": "06fb4a0f",
   "metadata": {},
   "outputs": [
    {
     "name": "stdout",
     "output_type": "stream",
     "text": [
      "0.5352597179222566\n"
     ]
    }
   ],
   "source": [
    "clf.fit(Ftrain,Ltrain)\n",
    "y_pred = clf.predict(Ftest)\n",
    "print(accuracy_score(Ltest,y_pred))"
   ]
  },
  {
   "cell_type": "code",
   "execution_count": 76,
   "id": "03a12a5f",
   "metadata": {},
   "outputs": [
    {
     "name": "stdout",
     "output_type": "stream",
     "text": [
      "                               precision    recall  f1-score   support\n",
      "\n",
      "               bacterial_spot       0.54      0.56      0.55       349\n",
      "                 early_blight       0.22      0.21      0.22       182\n",
      "                      healthy       0.51      0.80      0.62       258\n",
      "                  late_blight       0.46      0.41      0.43       316\n",
      "                    leaf_mold       0.47      0.50      0.49       145\n",
      "           septoria_leaf_spot       0.43      0.27      0.33       262\n",
      "                  target_spot       0.33      0.37      0.35       229\n",
      "          tomato_mosaic_virus       0.29      0.41      0.34        58\n",
      "tomato_yellow_leaf_curl_virus       0.85      0.70      0.77       857\n",
      "      two-spotted_spider_mite       0.41      0.52      0.46       251\n",
      "\n",
      "                     accuracy                           0.54      2907\n",
      "                    macro avg       0.45      0.48      0.46      2907\n",
      "                 weighted avg       0.55      0.54      0.54      2907\n",
      "\n",
      "[[196  17  34  19   3   0  16   1  36  27]\n",
      " [ 24  38  13  16   8  11  28   3  25  16]\n",
      " [  2   6 206  20   2   0  14   0   0   8]\n",
      " [ 19  23  45 129  16  19  22  12  17  14]\n",
      " [  1   8   1  21  73  18   6   7   3   7]\n",
      " [  9  25   9  26  27  72  31  16  17  30]\n",
      " [ 16  11  64   8   7   7  85   2   1  28]\n",
      " [  0   0   4   8   4   6   3  24   1   8]\n",
      " [ 71  33   8  31  12  24  19   8 603  48]\n",
      " [ 26   9  18   4   2  11  32  11   8 130]]\n"
     ]
    }
   ],
   "source": [
    "#classification report\n",
    "y_predict = clf.fit(Ftrain, Ltrain).predict(Ftest)\n",
    "class_names = target.unique()\n",
    "print(classification_report(Ltest, y_predict, target_names=class_names))\n",
    "print(confusion_matrix(Ltest, y_predict))"
   ]
  },
  {
   "cell_type": "markdown",
   "id": "f4eb8c6c",
   "metadata": {},
   "source": [
    "# Random Forest on blue channel data"
   ]
  },
  {
   "cell_type": "code",
   "execution_count": 77,
   "id": "b71407b2",
   "metadata": {},
   "outputs": [
    {
     "data": {
      "text/plain": [
       "0.5362181693048864"
      ]
     },
     "execution_count": 77,
     "metadata": {},
     "output_type": "execute_result"
    }
   ],
   "source": [
    "classifier_rf.fit(Ftrain, Ltrain)\n",
    "classifier_rf.oob_score_"
   ]
  },
  {
   "cell_type": "code",
   "execution_count": 78,
   "id": "f7d75463",
   "metadata": {},
   "outputs": [
    {
     "name": "stdout",
     "output_type": "stream",
     "text": [
      "                               precision    recall  f1-score   support\n",
      "\n",
      "               bacterial_spot       0.69      0.55      0.61       349\n",
      "                 early_blight       0.00      0.00      0.00       182\n",
      "                      healthy       0.42      0.89      0.57       258\n",
      "                  late_blight       0.48      0.23      0.31       316\n",
      "                    leaf_mold       0.82      0.31      0.45       145\n",
      "           septoria_leaf_spot       0.46      0.55      0.50       262\n",
      "                  target_spot       0.36      0.17      0.23       229\n",
      "          tomato_mosaic_virus       0.00      0.00      0.00        58\n",
      "tomato_yellow_leaf_curl_virus       0.60      0.93      0.73       857\n",
      "      two-spotted_spider_mite       0.51      0.24      0.32       251\n",
      "\n",
      "                     accuracy                           0.54      2907\n",
      "                    macro avg       0.43      0.39      0.37      2907\n",
      "                 weighted avg       0.50      0.54      0.49      2907\n",
      "\n",
      "[[193   0  44  11   0   4   5   0  90   2]\n",
      " [ 20   0  13  12   1  22  10   0  98   6]\n",
      " [  7   0 230   4   1   1   6   0   7   2]\n",
      " [  7   0  90  72   5  52  10   0  72   8]\n",
      " [  3   0   8  17  45  30   6   0  32   4]\n",
      " [ 14   0   8  14   2 145   6   0  68   5]\n",
      " [  9   0  93   5   0  35  38   0  32  17]\n",
      " [  0   0   9   5   1   8   2   0  22  11]\n",
      " [ 24   0   8   5   0  14   3   0 801   2]\n",
      " [  3   0  44   4   0   4  21   0 116  59]]\n"
     ]
    },
    {
     "name": "stderr",
     "output_type": "stream",
     "text": [
      "C:\\Users\\ravic\\anaconda3\\lib\\site-packages\\sklearn\\metrics\\_classification.py:1318: UndefinedMetricWarning: Precision and F-score are ill-defined and being set to 0.0 in labels with no predicted samples. Use `zero_division` parameter to control this behavior.\n",
      "  _warn_prf(average, modifier, msg_start, len(result))\n",
      "C:\\Users\\ravic\\anaconda3\\lib\\site-packages\\sklearn\\metrics\\_classification.py:1318: UndefinedMetricWarning: Precision and F-score are ill-defined and being set to 0.0 in labels with no predicted samples. Use `zero_division` parameter to control this behavior.\n",
      "  _warn_prf(average, modifier, msg_start, len(result))\n",
      "C:\\Users\\ravic\\anaconda3\\lib\\site-packages\\sklearn\\metrics\\_classification.py:1318: UndefinedMetricWarning: Precision and F-score are ill-defined and being set to 0.0 in labels with no predicted samples. Use `zero_division` parameter to control this behavior.\n",
      "  _warn_prf(average, modifier, msg_start, len(result))\n"
     ]
    }
   ],
   "source": [
    "y_predict = classifier_rf.fit(Ftrain, Ltrain).predict(Ftest)\n",
    "class_names = target.unique()\n",
    "print(classification_report(Ltest, y_predict, target_names=class_names))\n",
    "print(confusion_matrix(Ltest, y_predict))"
   ]
  },
  {
   "cell_type": "markdown",
   "id": "fb1ca20e",
   "metadata": {},
   "source": [
    "# Naive bayes on blue channel data"
   ]
  },
  {
   "cell_type": "code",
   "execution_count": 79,
   "id": "11ea0b85",
   "metadata": {},
   "outputs": [
    {
     "data": {
      "text/plain": [
       "0.5018919848641211"
      ]
     },
     "execution_count": 79,
     "metadata": {},
     "output_type": "execute_result"
    }
   ],
   "source": [
    "gnb.fit(Ftrain, Ltrain)\n",
    "GaussianNB()\n",
    "y_pred = gnb.predict(Ftest)\n",
    "metrics.accuracy_score(Ltest, y_pred)"
   ]
  },
  {
   "cell_type": "code",
   "execution_count": 80,
   "id": "b8a32aab",
   "metadata": {},
   "outputs": [
    {
     "name": "stdout",
     "output_type": "stream",
     "text": [
      "                               precision    recall  f1-score   support\n",
      "\n",
      "               bacterial_spot       0.64      0.64      0.64       349\n",
      "                 early_blight       0.20      0.22      0.21       182\n",
      "                      healthy       0.52      0.64      0.57       258\n",
      "                  late_blight       0.46      0.29      0.35       316\n",
      "                    leaf_mold       0.55      0.52      0.53       145\n",
      "           septoria_leaf_spot       0.40      0.50      0.45       262\n",
      "                  target_spot       0.37      0.50      0.43       229\n",
      "          tomato_mosaic_virus       0.17      0.76      0.27        58\n",
      "tomato_yellow_leaf_curl_virus       0.88      0.58      0.70       857\n",
      "      two-spotted_spider_mite       0.32      0.31      0.31       251\n",
      "\n",
      "                     accuracy                           0.50      2907\n",
      "                    macro avg       0.45      0.49      0.45      2907\n",
      "                 weighted avg       0.57      0.50      0.52      2907\n",
      "\n",
      "[[222  13  39   7   1   1  21   6  18  21]\n",
      " [ 16  40   7  30  10  20  20   5  21  13]\n",
      " [  5   1 164   9   5   7  64   0   0   3]\n",
      " [  3  39  70  91  13  34  16  37  10   3]\n",
      " [  2   2   2   9  75  28   6  16   1   4]\n",
      " [ 15  11   4  15  19 132  14  30   7  15]\n",
      " [  4   9  17  15   0  43 114  12   0  15]\n",
      " [  1   0   1   0   3   5   1  44   1   2]\n",
      " [ 69  64   8  19   7  26  11  67 500  86]\n",
      " [  8  22   5   5   4  33  38  48  11  77]]\n"
     ]
    }
   ],
   "source": [
    "class_names = target.unique()\n",
    "print(classification_report(Ltest, y_pred, target_names=class_names))\n",
    "print(confusion_matrix(Ltest, y_pred))"
   ]
  },
  {
   "cell_type": "markdown",
   "id": "f125f7c4",
   "metadata": {},
   "source": [
    "# Decision Tree on blue channel"
   ]
  },
  {
   "cell_type": "code",
   "execution_count": 81,
   "id": "88bfbe14",
   "metadata": {},
   "outputs": [
    {
     "data": {
      "text/plain": [
       "0.4086687306501548"
      ]
     },
     "execution_count": 81,
     "metadata": {},
     "output_type": "execute_result"
    }
   ],
   "source": [
    "classifier_tree.fit(Ftrain, Ltrain)\n",
    "classifier_tree.score(Ftest,Ltest)"
   ]
  },
  {
   "cell_type": "code",
   "execution_count": 82,
   "id": "6e2c73b8",
   "metadata": {},
   "outputs": [
    {
     "name": "stdout",
     "output_type": "stream",
     "text": [
      "                               precision    recall  f1-score   support\n",
      "\n",
      "               bacterial_spot       0.42      0.44      0.43       349\n",
      "                 early_blight       0.15      0.13      0.14       182\n",
      "                      healthy       0.52      0.57      0.54       258\n",
      "                  late_blight       0.35      0.40      0.37       316\n",
      "                    leaf_mold       0.28      0.34      0.30       145\n",
      "           septoria_leaf_spot       0.31      0.31      0.31       262\n",
      "                  target_spot       0.20      0.25      0.23       229\n",
      "          tomato_mosaic_virus       0.04      0.05      0.04        58\n",
      "tomato_yellow_leaf_curl_virus       0.73      0.54      0.62       857\n",
      "      two-spotted_spider_mite       0.30      0.37      0.33       251\n",
      "\n",
      "                     accuracy                           0.41      2907\n",
      "                    macro avg       0.33      0.34      0.33      2907\n",
      "                 weighted avg       0.44      0.41      0.42      2907\n",
      "\n",
      "[[154  18  31  10  11  19  41   6  35  24]\n",
      " [ 27  23  13  18  10  15  25   4  31  16]\n",
      " [ 13  12 147  21  10   8  26   5   2  14]\n",
      " [ 21  19  20 125  23  33  20  17  14  24]\n",
      " [  0   9   2  27  49  23  11   4  12   8]\n",
      " [ 17  12   6  53  10  80  31  10  31  12]\n",
      " [ 16  12  27  37  12  16  58   9  13  29]\n",
      " [  3   0   7   9   4  11  10   3   3   8]\n",
      " [101  39  15  38  31  46  34  12 463  78]\n",
      " [ 13  11  17  24  18   8  27   9  32  92]]\n"
     ]
    }
   ],
   "source": [
    "y_predict = classifier_tree.fit(Ftrain, Ltrain).predict(Ftest)\n",
    "class_names = target.unique()\n",
    "print(classification_report(Ltest, y_predict, target_names=class_names))\n",
    "print(confusion_matrix(Ltest, y_predict))"
   ]
  }
 ],
 "metadata": {
  "kernelspec": {
   "display_name": "Python 3 (ipykernel)",
   "language": "python",
   "name": "python3"
  },
  "language_info": {
   "codemirror_mode": {
    "name": "ipython",
    "version": 3
   },
   "file_extension": ".py",
   "mimetype": "text/x-python",
   "name": "python",
   "nbconvert_exporter": "python",
   "pygments_lexer": "ipython3",
   "version": "3.9.12"
  }
 },
 "nbformat": 4,
 "nbformat_minor": 5
}
