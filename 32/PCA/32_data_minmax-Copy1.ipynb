{
 "cells": [
  {
   "cell_type": "code",
   "execution_count": 1,
   "id": "bcdb1517",
   "metadata": {},
   "outputs": [],
   "source": [
    "import numpy as np #importing numpy\n",
    "import pandas as pd #importing pandas\n",
    "import PIL #importing pillow for image processing\n",
    "from PIL import Image#importing image from pillow library\n",
    "import skimage#importing skimage library\n",
    "import os#importing os library\n",
    "import time#importing time library\n",
    "\n",
    "#Capture start time of the program\n",
    "start_time = time.time()"
   ]
  },
  {
   "cell_type": "code",
   "execution_count": 2,
   "id": "cbc71f85",
   "metadata": {},
   "outputs": [],
   "source": [
    "#importing classification report and confusion matrix\n",
    "from sklearn.metrics import classification_report, confusion_matrix"
   ]
  },
  {
   "cell_type": "markdown",
   "id": "7139bf53",
   "metadata": {},
   "source": [
    "# KNN on rgb data"
   ]
  },
  {
   "cell_type": "code",
   "execution_count": 3,
   "id": "9386938c",
   "metadata": {},
   "outputs": [],
   "source": [
    "#reading numpy array data\n",
    "os.chdir('D://DKIT//dissertation//Dataset_of_Tomato_Leaves//plantvillage//Preprocessed_data//32//PCA//')\n",
    "features = pd.read_csv('rgb.csv')\n",
    "#reading csv file\n",
    "os.chdir('D://DKIT//dissertation//Dataset_of_Tomato_Leaves//plantvillage//Preprocessed_data//32//vector//')\n",
    "rgb_df = pd.read_csv('rgb_data.csv')"
   ]
  },
  {
   "cell_type": "code",
   "execution_count": 4,
   "id": "c6d5658c",
   "metadata": {},
   "outputs": [],
   "source": [
    "#assigning target\n",
    "target = rgb_df['disease']\n",
    "#import minmaxscaler and assigning it to the minmax\n",
    "from sklearn.preprocessing import MinMaxScaler\n",
    "minmax = MinMaxScaler()\n",
    "#importing train test split\n",
    "from sklearn.model_selection import train_test_split\n",
    "Ftrain,Ftest,Ltrain,Ltest=train_test_split(features,target, test_size=0.20, random_state=24)"
   ]
  },
  {
   "cell_type": "code",
   "execution_count": 5,
   "id": "8cc86824",
   "metadata": {},
   "outputs": [],
   "source": [
    "#scaling the data using minmax\n",
    "Ftrain = minmax.fit_transform(Ftrain)\n",
    "Ftest = minmax.fit_transform(Ftest)"
   ]
  },
  {
   "cell_type": "code",
   "execution_count": 6,
   "id": "6f1171c6",
   "metadata": {},
   "outputs": [],
   "source": [
    "#importing knn classifier \n",
    "from sklearn.neighbors import KNeighborsClassifier\n",
    "kmodel = KNeighborsClassifier(n_neighbors=120)"
   ]
  },
  {
   "cell_type": "code",
   "execution_count": 7,
   "id": "b9fdc978",
   "metadata": {},
   "outputs": [
    {
     "data": {
      "text/plain": [
       "0.5545235638114895"
      ]
     },
     "execution_count": 7,
     "metadata": {},
     "output_type": "execute_result"
    }
   ],
   "source": [
    "#fitting the model\n",
    "kmodel.fit(Ftrain,Ltrain)\n",
    "kmodel.score(Ftest,Ltest)"
   ]
  },
  {
   "cell_type": "code",
   "execution_count": 8,
   "id": "cc56686d",
   "metadata": {},
   "outputs": [
    {
     "name": "stdout",
     "output_type": "stream",
     "text": [
      "                               precision    recall  f1-score   support\n",
      "\n",
      "               bacterial_spot       0.39      0.74      0.51       345\n",
      "                 early_blight       0.63      0.08      0.14       153\n",
      "                      healthy       0.44      0.88      0.59       234\n",
      "                  late_blight       0.62      0.41      0.50       309\n",
      "                    leaf_mold       0.40      0.34      0.37       145\n",
      "           septoria_leaf_spot       0.65      0.23      0.33       293\n",
      "                  target_spot       0.37      0.55      0.44       240\n",
      "          tomato_mosaic_virus       0.00      0.00      0.00        54\n",
      "tomato_yellow_leaf_curl_virus       0.86      0.83      0.84       854\n",
      "      two-spotted_spider_mite       0.36      0.21      0.27       280\n",
      "\n",
      "                     accuracy                           0.55      2907\n",
      "                    macro avg       0.47      0.43      0.40      2907\n",
      "                 weighted avg       0.58      0.55      0.53      2907\n",
      "\n",
      "[[254   0  13  14   4   2  13   0  38   7]\n",
      " [ 73  12   5   4   9   3  27   0   9  11]\n",
      " [  3   0 206  12   7   1   4   1   0   0]\n",
      " [ 44   2  54 127   9  12  27   0  17  17]\n",
      " [ 21   0  38   7  49   0  22   0   4   4]\n",
      " [ 19   1  69  30  13  66  35   0  29  31]\n",
      " [ 41   3  29   0  21   1 133   0   0  12]\n",
      " [ 10   0  22   0   4   1  11   0   0   6]\n",
      " [100   1   3   6   1  14   6   0 706  17]\n",
      " [ 80   0  28   4   6   2  81   0  20  59]]\n"
     ]
    }
   ],
   "source": [
    "#printing results of the kmodel\n",
    "y_predict = kmodel.predict(Ftest)\n",
    "class_names = target.unique()\n",
    "print(classification_report(Ltest, y_predict, target_names=class_names))\n",
    "print(confusion_matrix(Ltest, y_predict))"
   ]
  },
  {
   "cell_type": "markdown",
   "id": "d5c58638",
   "metadata": {},
   "source": [
    "# Logistic on rgb data"
   ]
  },
  {
   "cell_type": "code",
   "execution_count": 9,
   "id": "a84836ef",
   "metadata": {},
   "outputs": [
    {
     "data": {
      "text/plain": [
       "0.48434812521499826"
      ]
     },
     "execution_count": 9,
     "metadata": {},
     "output_type": "execute_result"
    }
   ],
   "source": [
    "#importing logistic regression\n",
    "from sklearn.linear_model import LogisticRegression\n",
    "model=LogisticRegression(solver='lbfgs', max_iter=10000)\n",
    "#fitting the model\n",
    "model.fit(Ftrain,Ltrain)\n",
    "model.score(Ftest,Ltest)"
   ]
  },
  {
   "cell_type": "code",
   "execution_count": 10,
   "id": "a1f10c9f",
   "metadata": {},
   "outputs": [
    {
     "name": "stdout",
     "output_type": "stream",
     "text": [
      "                               precision    recall  f1-score   support\n",
      "\n",
      "               bacterial_spot       0.38      0.72      0.50       345\n",
      "                 early_blight       0.12      0.01      0.01       153\n",
      "                      healthy       0.36      0.76      0.49       234\n",
      "                  late_blight       0.18      0.15      0.16       309\n",
      "                    leaf_mold       0.25      0.32      0.28       145\n",
      "           septoria_leaf_spot       0.47      0.21      0.29       293\n",
      "                  target_spot       0.34      0.36      0.35       240\n",
      "          tomato_mosaic_virus       0.00      0.00      0.00        54\n",
      "tomato_yellow_leaf_curl_virus       0.84      0.83      0.83       854\n",
      "      two-spotted_spider_mite       0.38      0.12      0.18       280\n",
      "\n",
      "                     accuracy                           0.48      2907\n",
      "                    macro avg       0.33      0.35      0.31      2907\n",
      "                 weighted avg       0.47      0.48      0.45      2907\n",
      "\n",
      "[[248   1   8  38   9   0   9   0  32   0]\n",
      " [ 81   1   9   4  19   8  17   0   8   6]\n",
      " [  5   0 179  34  15   0   1   0   0   0]\n",
      " [ 45   0 134  47  18  17  20   0  20   8]\n",
      " [ 14   1  40  17  46   5  17   0   5   0]\n",
      " [ 14   1  56  43  21  62  38   0  37  21]\n",
      " [ 39   1  37  17  47   6  86   0   1   6]\n",
      " [  6   0  14  12   3   3  12   0   0   4]\n",
      " [101   0   0  21   1  14   2   0 705  10]\n",
      " [ 98   3  18  30   6  16  48   0  27  34]]\n"
     ]
    },
    {
     "name": "stderr",
     "output_type": "stream",
     "text": [
      "C:\\Users\\ravic\\anaconda3\\lib\\site-packages\\sklearn\\metrics\\_classification.py:1318: UndefinedMetricWarning: Precision and F-score are ill-defined and being set to 0.0 in labels with no predicted samples. Use `zero_division` parameter to control this behavior.\n",
      "  _warn_prf(average, modifier, msg_start, len(result))\n",
      "C:\\Users\\ravic\\anaconda3\\lib\\site-packages\\sklearn\\metrics\\_classification.py:1318: UndefinedMetricWarning: Precision and F-score are ill-defined and being set to 0.0 in labels with no predicted samples. Use `zero_division` parameter to control this behavior.\n",
      "  _warn_prf(average, modifier, msg_start, len(result))\n",
      "C:\\Users\\ravic\\anaconda3\\lib\\site-packages\\sklearn\\metrics\\_classification.py:1318: UndefinedMetricWarning: Precision and F-score are ill-defined and being set to 0.0 in labels with no predicted samples. Use `zero_division` parameter to control this behavior.\n",
      "  _warn_prf(average, modifier, msg_start, len(result))\n"
     ]
    }
   ],
   "source": [
    "#classification report\n",
    "y_predict = model.predict(Ftest)\n",
    "class_names = target.unique()\n",
    "print(classification_report(Ltest, y_predict, target_names=class_names))\n",
    "print(confusion_matrix(Ltest, y_predict))"
   ]
  },
  {
   "cell_type": "markdown",
   "id": "6fe194bc",
   "metadata": {},
   "source": [
    "# SVM on RGB data"
   ]
  },
  {
   "cell_type": "code",
   "execution_count": 11,
   "id": "2427ed51",
   "metadata": {},
   "outputs": [
    {
     "name": "stdout",
     "output_type": "stream",
     "text": [
      "0.5091159270725835\n"
     ]
    }
   ],
   "source": [
    "#importing svm algorithm\n",
    "from sklearn.svm import SVC\n",
    "#importing accuracy score\n",
    "from sklearn.metrics import accuracy_score\n",
    "#building the model\n",
    "clf = SVC(kernel='linear')\n",
    "#fitting the model\n",
    "clf.fit(Ftrain,Ltrain)\n",
    "y_pred = clf.predict(Ftest)\n",
    "print(accuracy_score(Ltest,y_pred))"
   ]
  },
  {
   "cell_type": "code",
   "execution_count": 12,
   "id": "4103cc2e",
   "metadata": {},
   "outputs": [
    {
     "name": "stdout",
     "output_type": "stream",
     "text": [
      "                               precision    recall  f1-score   support\n",
      "\n",
      "               bacterial_spot       0.39      0.77      0.52       345\n",
      "                 early_blight       0.20      0.02      0.04       153\n",
      "                      healthy       0.37      0.76      0.49       234\n",
      "                  late_blight       0.22      0.11      0.15       309\n",
      "                    leaf_mold       0.36      0.37      0.36       145\n",
      "           septoria_leaf_spot       0.48      0.20      0.29       293\n",
      "                  target_spot       0.38      0.60      0.47       240\n",
      "          tomato_mosaic_virus       0.00      0.00      0.00        54\n",
      "tomato_yellow_leaf_curl_virus       0.86      0.82      0.84       854\n",
      "      two-spotted_spider_mite       0.42      0.15      0.23       280\n",
      "\n",
      "                     accuracy                           0.51      2907\n",
      "                    macro avg       0.37      0.38      0.34      2907\n",
      "                 weighted avg       0.50      0.51      0.47      2907\n",
      "\n",
      "[[265   3   9  29   2   3   7   0  26   1]\n",
      " [ 83   3   8   4   8   4  29   0   7   7]\n",
      " [  4   0 179  14  29   0   8   0   0   0]\n",
      " [ 48   1 141  35  11  20  27   0  19   7]\n",
      " [ 19   1  31   9  53   4  25   0   3   0]\n",
      " [ 23   1  48  31  20  60  55   0  33  22]\n",
      " [ 34   2  31   2  19   4 144   0   0   4]\n",
      " [  5   0  21   4   4   2  15   0   0   3]\n",
      " [108   0   1  10   0  19   3   0 698  15]\n",
      " [ 90   4  21  22   1   9  66   0  24  43]]\n"
     ]
    },
    {
     "name": "stderr",
     "output_type": "stream",
     "text": [
      "C:\\Users\\ravic\\anaconda3\\lib\\site-packages\\sklearn\\metrics\\_classification.py:1318: UndefinedMetricWarning: Precision and F-score are ill-defined and being set to 0.0 in labels with no predicted samples. Use `zero_division` parameter to control this behavior.\n",
      "  _warn_prf(average, modifier, msg_start, len(result))\n",
      "C:\\Users\\ravic\\anaconda3\\lib\\site-packages\\sklearn\\metrics\\_classification.py:1318: UndefinedMetricWarning: Precision and F-score are ill-defined and being set to 0.0 in labels with no predicted samples. Use `zero_division` parameter to control this behavior.\n",
      "  _warn_prf(average, modifier, msg_start, len(result))\n",
      "C:\\Users\\ravic\\anaconda3\\lib\\site-packages\\sklearn\\metrics\\_classification.py:1318: UndefinedMetricWarning: Precision and F-score are ill-defined and being set to 0.0 in labels with no predicted samples. Use `zero_division` parameter to control this behavior.\n",
      "  _warn_prf(average, modifier, msg_start, len(result))\n"
     ]
    }
   ],
   "source": [
    "#classification report\n",
    "y_predict = clf.predict(Ftest)\n",
    "class_names = target.unique()\n",
    "print(classification_report(Ltest, y_predict, target_names=class_names))\n",
    "print(confusion_matrix(Ltest, y_predict))"
   ]
  },
  {
   "cell_type": "markdown",
   "id": "73bef6fa",
   "metadata": {},
   "source": [
    "# Random Forest on RGB "
   ]
  },
  {
   "cell_type": "code",
   "execution_count": 13,
   "id": "6bae5a92",
   "metadata": {},
   "outputs": [],
   "source": [
    "#importing random forest\n",
    "from sklearn.ensemble import RandomForestClassifier"
   ]
  },
  {
   "cell_type": "code",
   "execution_count": 14,
   "id": "1d08a15e",
   "metadata": {},
   "outputs": [],
   "source": [
    "#building the random forest\n",
    "classifier_rf = RandomForestClassifier(random_state=42, n_jobs=-1, max_depth=5,n_estimators=100, oob_score=True)"
   ]
  },
  {
   "cell_type": "code",
   "execution_count": 15,
   "id": "938ad007",
   "metadata": {},
   "outputs": [
    {
     "data": {
      "text/plain": [
       "RandomForestClassifier(max_depth=5, n_jobs=-1, oob_score=True, random_state=42)"
      ]
     },
     "execution_count": 15,
     "metadata": {},
     "output_type": "execute_result"
    }
   ],
   "source": [
    "#fitting the model\n",
    "classifier_rf.fit(Ftrain, Ltrain)"
   ]
  },
  {
   "cell_type": "code",
   "execution_count": 16,
   "id": "e1769cec",
   "metadata": {},
   "outputs": [
    {
     "data": {
      "text/plain": [
       "0.5646077081899519"
      ]
     },
     "execution_count": 16,
     "metadata": {},
     "output_type": "execute_result"
    }
   ],
   "source": [
    "#getting score\n",
    "classifier_rf.oob_score_"
   ]
  },
  {
   "cell_type": "code",
   "execution_count": 17,
   "id": "c144f9db",
   "metadata": {},
   "outputs": [
    {
     "name": "stdout",
     "output_type": "stream",
     "text": [
      "                               precision    recall  f1-score   support\n",
      "\n",
      "               bacterial_spot       0.37      0.76      0.50       345\n",
      "                 early_blight       0.75      0.02      0.04       153\n",
      "                      healthy       0.35      0.88      0.50       234\n",
      "                  late_blight       0.43      0.15      0.22       309\n",
      "                    leaf_mold       0.29      0.32      0.31       145\n",
      "           septoria_leaf_spot       0.51      0.24      0.33       293\n",
      "                  target_spot       0.35      0.33      0.34       240\n",
      "          tomato_mosaic_virus       0.00      0.00      0.00        54\n",
      "tomato_yellow_leaf_curl_virus       0.85      0.82      0.83       854\n",
      "      two-spotted_spider_mite       0.40      0.23      0.29       280\n",
      "\n",
      "                     accuracy                           0.51      2907\n",
      "                    macro avg       0.43      0.37      0.34      2907\n",
      "                 weighted avg       0.54      0.51      0.47      2907\n",
      "\n",
      "[[262   0  19  15   5   2   3   0  37   2]\n",
      " [ 84   3  10   0  12   6  17   0  10  11]\n",
      " [  5   0 205   3  18   1   2   0   0   0]\n",
      " [ 45   0 136  46  11  28  11   0  21  11]\n",
      " [ 25   0  46   4  47   4  10   0   4   5]\n",
      " [ 25   0  64  19  10  71  38   0  31  35]\n",
      " [ 62   0  40   0  45   5  78   0   0  10]\n",
      " [  8   0  23   0   8   2   9   0   0   4]\n",
      " [105   0   6  14   1  10   3   0 697  18]\n",
      " [ 89   1  38   6   4   9  53   0  16  64]]\n"
     ]
    },
    {
     "name": "stderr",
     "output_type": "stream",
     "text": [
      "C:\\Users\\ravic\\anaconda3\\lib\\site-packages\\sklearn\\metrics\\_classification.py:1318: UndefinedMetricWarning: Precision and F-score are ill-defined and being set to 0.0 in labels with no predicted samples. Use `zero_division` parameter to control this behavior.\n",
      "  _warn_prf(average, modifier, msg_start, len(result))\n",
      "C:\\Users\\ravic\\anaconda3\\lib\\site-packages\\sklearn\\metrics\\_classification.py:1318: UndefinedMetricWarning: Precision and F-score are ill-defined and being set to 0.0 in labels with no predicted samples. Use `zero_division` parameter to control this behavior.\n",
      "  _warn_prf(average, modifier, msg_start, len(result))\n",
      "C:\\Users\\ravic\\anaconda3\\lib\\site-packages\\sklearn\\metrics\\_classification.py:1318: UndefinedMetricWarning: Precision and F-score are ill-defined and being set to 0.0 in labels with no predicted samples. Use `zero_division` parameter to control this behavior.\n",
      "  _warn_prf(average, modifier, msg_start, len(result))\n"
     ]
    }
   ],
   "source": [
    "#classification report\n",
    "y_predict = classifier_rf.predict(Ftest)\n",
    "class_names = target.unique()\n",
    "print(classification_report(Ltest, y_predict, target_names=class_names))\n",
    "print(confusion_matrix(Ltest, y_predict))"
   ]
  },
  {
   "cell_type": "markdown",
   "id": "b6a094e4",
   "metadata": {},
   "source": [
    "# Naive Bayes on RGB data"
   ]
  },
  {
   "cell_type": "code",
   "execution_count": 18,
   "id": "a5bc755b",
   "metadata": {},
   "outputs": [
    {
     "data": {
      "text/plain": [
       "GaussianNB()"
      ]
     },
     "execution_count": 18,
     "metadata": {},
     "output_type": "execute_result"
    }
   ],
   "source": [
    "#getting naive bayes from sklearn\n",
    "from sklearn.naive_bayes import GaussianNB\n",
    "gnb = GaussianNB()\n",
    "#fitting the model\n",
    "gnb.fit(Ftrain, Ltrain)"
   ]
  },
  {
   "cell_type": "code",
   "execution_count": 19,
   "id": "6d162dcc",
   "metadata": {},
   "outputs": [],
   "source": [
    "#predicting the outputs\n",
    "y_pred = gnb.predict(Ftest)"
   ]
  },
  {
   "cell_type": "code",
   "execution_count": 20,
   "id": "8f7b4bab",
   "metadata": {},
   "outputs": [
    {
     "data": {
      "text/plain": [
       "0.5104919160646715"
      ]
     },
     "execution_count": 20,
     "metadata": {},
     "output_type": "execute_result"
    }
   ],
   "source": [
    "#importing metrics\n",
    "from sklearn import metrics\n",
    "metrics.accuracy_score(Ltest, y_pred)"
   ]
  },
  {
   "cell_type": "code",
   "execution_count": 21,
   "id": "980b37c5",
   "metadata": {},
   "outputs": [
    {
     "name": "stderr",
     "output_type": "stream",
     "text": [
      "C:\\Users\\ravic\\anaconda3\\lib\\site-packages\\sklearn\\metrics\\_classification.py:1318: UndefinedMetricWarning: Precision and F-score are ill-defined and being set to 0.0 in labels with no predicted samples. Use `zero_division` parameter to control this behavior.\n",
      "  _warn_prf(average, modifier, msg_start, len(result))\n",
      "C:\\Users\\ravic\\anaconda3\\lib\\site-packages\\sklearn\\metrics\\_classification.py:1318: UndefinedMetricWarning: Precision and F-score are ill-defined and being set to 0.0 in labels with no predicted samples. Use `zero_division` parameter to control this behavior.\n",
      "  _warn_prf(average, modifier, msg_start, len(result))\n"
     ]
    },
    {
     "name": "stdout",
     "output_type": "stream",
     "text": [
      "                               precision    recall  f1-score   support\n",
      "\n",
      "               bacterial_spot       0.39      0.69      0.50       345\n",
      "                 early_blight       0.31      0.19      0.24       153\n",
      "                      healthy       0.41      0.73      0.52       234\n",
      "                  late_blight       0.39      0.27      0.32       309\n",
      "                    leaf_mold       0.24      0.32      0.28       145\n",
      "           septoria_leaf_spot       0.66      0.18      0.29       293\n",
      "                  target_spot       0.38      0.52      0.44       240\n",
      "          tomato_mosaic_virus       0.00      0.00      0.00        54\n",
      "tomato_yellow_leaf_curl_virus       0.85      0.78      0.82       854\n",
      "      two-spotted_spider_mite       0.40      0.25      0.31       280\n",
      "\n",
      "                     accuracy                           0.51      2907\n",
      "                    macro avg       0.40      0.39      0.37      2907\n",
      "                 weighted avg       0.53      0.51      0.49      2907\n",
      "\n",
      "[[238  20  16  25   4   0   4   0  35   3]\n",
      " [ 61  29   4  10   9   1  19   0   6  14]\n",
      " [  4   0 171  29  26   0   4   0   0   0]\n",
      " [ 35  11  97  82  16  13  21   0  22  12]\n",
      " [ 17   5  28  21  46   2  19   0   3   4]\n",
      " [ 19   4  48  20  41  54  37   0  36  34]\n",
      " [ 32   9  17   6  37   3 124   0   1  11]\n",
      " [  6   1  17   2   7   0  17   0   0   4]\n",
      " [131   5   2  11   0   6   5   0 670  24]\n",
      " [ 73   9  21   5   3   3  80   0  16  70]]\n"
     ]
    },
    {
     "name": "stderr",
     "output_type": "stream",
     "text": [
      "C:\\Users\\ravic\\anaconda3\\lib\\site-packages\\sklearn\\metrics\\_classification.py:1318: UndefinedMetricWarning: Precision and F-score are ill-defined and being set to 0.0 in labels with no predicted samples. Use `zero_division` parameter to control this behavior.\n",
      "  _warn_prf(average, modifier, msg_start, len(result))\n"
     ]
    }
   ],
   "source": [
    "#classification report\n",
    "class_names = target.unique()\n",
    "print(classification_report(Ltest, y_pred, target_names=class_names))\n",
    "print(confusion_matrix(Ltest, y_pred))"
   ]
  },
  {
   "cell_type": "markdown",
   "id": "0ce0377b",
   "metadata": {},
   "source": [
    "# Decision Tree on RGB data"
   ]
  },
  {
   "cell_type": "code",
   "execution_count": 22,
   "id": "b9bba328",
   "metadata": {},
   "outputs": [],
   "source": [
    "#importing decision tree from sklearn\n",
    "from sklearn.tree import DecisionTreeClassifier\n",
    "classifier_tree = DecisionTreeClassifier()"
   ]
  },
  {
   "cell_type": "code",
   "execution_count": 23,
   "id": "b98668ce",
   "metadata": {},
   "outputs": [
    {
     "data": {
      "text/plain": [
       "0.40385276917784657"
      ]
     },
     "execution_count": 23,
     "metadata": {},
     "output_type": "execute_result"
    }
   ],
   "source": [
    "#fitting the model\n",
    "classifier_tree.fit(Ftrain, Ltrain)\n",
    "classifier_tree.score(Ftest,Ltest)"
   ]
  },
  {
   "cell_type": "code",
   "execution_count": 24,
   "id": "9fb604d9",
   "metadata": {},
   "outputs": [
    {
     "name": "stdout",
     "output_type": "stream",
     "text": [
      "                               precision    recall  f1-score   support\n",
      "\n",
      "               bacterial_spot       0.32      0.44      0.37       345\n",
      "                 early_blight       0.14      0.21      0.17       153\n",
      "                      healthy       0.39      0.36      0.37       234\n",
      "                  late_blight       0.34      0.43      0.38       309\n",
      "                    leaf_mold       0.21      0.41      0.28       145\n",
      "           septoria_leaf_spot       0.35      0.27      0.31       293\n",
      "                  target_spot       0.25      0.23      0.24       240\n",
      "          tomato_mosaic_virus       0.07      0.09      0.08        54\n",
      "tomato_yellow_leaf_curl_virus       0.85      0.63      0.73       854\n",
      "      two-spotted_spider_mite       0.22      0.10      0.14       280\n",
      "\n",
      "                     accuracy                           0.40      2907\n",
      "                    macro avg       0.31      0.32      0.31      2907\n",
      "                 weighted avg       0.45      0.40      0.42      2907\n",
      "\n",
      "[[153  41   6  45  22  19  12   2  33  12]\n",
      " [ 37  32   3  24  12   8  15   3  11   8]\n",
      " [  3   3  84  44  60  13   7  18   0   2]\n",
      " [ 31  20  30 134  19  27  15   3  12  18]\n",
      " [ 18   4  18  14  60   5  15   4   3   4]\n",
      " [ 24  22  23  47  34  80  23  10  20  10]\n",
      " [ 27  37  20  16  44  15  55  14   0  12]\n",
      " [  3   5  12   4   8   5   9   5   0   3]\n",
      " [129  41   2  45   5  40  10   6 542  34]\n",
      " [ 60  21  20  26  26  14  61   5  18  29]]\n"
     ]
    }
   ],
   "source": [
    "#classification report\n",
    "y_predict = classifier_tree.predict(Ftest)\n",
    "class_names = target.unique()\n",
    "print(classification_report(Ltest, y_predict, target_names=class_names))\n",
    "print(confusion_matrix(Ltest, y_predict))"
   ]
  },
  {
   "cell_type": "markdown",
   "id": "c9daaaee",
   "metadata": {},
   "source": [
    "# KNN on grayscale data"
   ]
  },
  {
   "cell_type": "code",
   "execution_count": 25,
   "id": "57a9845e",
   "metadata": {},
   "outputs": [],
   "source": [
    "#reading numpy array data\n",
    "os.chdir('D://DKIT//dissertation//Dataset_of_Tomato_Leaves//plantvillage//Preprocessed_data//32//PCA//')\n",
    "features = pd.read_csv('gray.csv')\n",
    "#reading csv file\n",
    "os.chdir('D://DKIT//dissertation//Dataset_of_Tomato_Leaves//plantvillage//Preprocessed_data//32//vector//')\n",
    "gray_df = pd.read_csv('gray_data.csv')"
   ]
  },
  {
   "cell_type": "code",
   "execution_count": 26,
   "id": "d3abef95",
   "metadata": {},
   "outputs": [],
   "source": [
    "#assigning disease to target\n",
    "target = gray_df['disease']\n",
    "#splitting the grayscale data\n",
    "Ftrain,Ftest,Ltrain,Ltest=train_test_split(features,target, test_size=0.20, random_state=20)\n",
    "#scaling the data using minmax\n",
    "Ftrain = minmax.fit_transform(Ftrain)\n",
    "Ftest = minmax.fit_transform(Ftest)"
   ]
  },
  {
   "cell_type": "code",
   "execution_count": 27,
   "id": "6f75adfd",
   "metadata": {},
   "outputs": [
    {
     "data": {
      "text/plain": [
       "0.4055727554179567"
      ]
     },
     "execution_count": 27,
     "metadata": {},
     "output_type": "execute_result"
    }
   ],
   "source": [
    "#fitting the model\n",
    "kmodel.fit(Ftrain,Ltrain)\n",
    "kmodel.score(Ftest,Ltest)"
   ]
  },
  {
   "cell_type": "code",
   "execution_count": 28,
   "id": "77baa349",
   "metadata": {},
   "outputs": [
    {
     "name": "stdout",
     "output_type": "stream",
     "text": [
      "                               precision    recall  f1-score   support\n",
      "\n",
      "               bacterial_spot       0.39      0.15      0.22       349\n",
      "                 early_blight       0.60      0.02      0.03       182\n",
      "                      healthy       0.47      0.48      0.48       258\n",
      "                  late_blight       0.40      0.24      0.30       316\n",
      "                    leaf_mold       0.61      0.16      0.25       145\n",
      "           septoria_leaf_spot       0.47      0.42      0.44       262\n",
      "                  target_spot       0.31      0.19      0.24       229\n",
      "          tomato_mosaic_virus       0.00      0.00      0.00        58\n",
      "tomato_yellow_leaf_curl_virus       0.41      0.79      0.54       857\n",
      "      two-spotted_spider_mite       0.29      0.27      0.28       251\n",
      "\n",
      "                     accuracy                           0.41      2907\n",
      "                    macro avg       0.39      0.27      0.28      2907\n",
      "                 weighted avg       0.41      0.41      0.36      2907\n",
      "\n",
      "[[ 54   0  12  11   1   0   4   0 261   6]\n",
      " [ 21   3   4  10   1   7  10   0 109  17]\n",
      " [  0   0 123  34   2  11   7   0  61  20]\n",
      " [  6   1  22  77   4  28  10   0 156  12]\n",
      " [  9   1  13  11  23  25   3   0  50  10]\n",
      " [  0   0  15  16   4 109   9   0  88  21]\n",
      " [  5   0   4   5   2  21  44   0  94  54]\n",
      " [  4   0   4   0   0   5   8   0  29   8]\n",
      " [ 32   0  59  26   1  17  21   0 677  24]\n",
      " [  7   0   3   2   0  11  24   0 135  69]]\n"
     ]
    },
    {
     "name": "stderr",
     "output_type": "stream",
     "text": [
      "C:\\Users\\ravic\\anaconda3\\lib\\site-packages\\sklearn\\metrics\\_classification.py:1318: UndefinedMetricWarning: Precision and F-score are ill-defined and being set to 0.0 in labels with no predicted samples. Use `zero_division` parameter to control this behavior.\n",
      "  _warn_prf(average, modifier, msg_start, len(result))\n",
      "C:\\Users\\ravic\\anaconda3\\lib\\site-packages\\sklearn\\metrics\\_classification.py:1318: UndefinedMetricWarning: Precision and F-score are ill-defined and being set to 0.0 in labels with no predicted samples. Use `zero_division` parameter to control this behavior.\n",
      "  _warn_prf(average, modifier, msg_start, len(result))\n",
      "C:\\Users\\ravic\\anaconda3\\lib\\site-packages\\sklearn\\metrics\\_classification.py:1318: UndefinedMetricWarning: Precision and F-score are ill-defined and being set to 0.0 in labels with no predicted samples. Use `zero_division` parameter to control this behavior.\n",
      "  _warn_prf(average, modifier, msg_start, len(result))\n"
     ]
    }
   ],
   "source": [
    "#printing results of the kmodel\n",
    "y_predict = kmodel.predict(Ftest)\n",
    "class_names = target.unique()\n",
    "print(classification_report(Ltest, y_predict, target_names=class_names))\n",
    "print(confusion_matrix(Ltest, y_predict))"
   ]
  },
  {
   "cell_type": "markdown",
   "id": "197eedfc",
   "metadata": {},
   "source": [
    "# Logistic on grayscale data"
   ]
  },
  {
   "cell_type": "code",
   "execution_count": 29,
   "id": "9fd6cafe",
   "metadata": {},
   "outputs": [
    {
     "data": {
      "text/plain": [
       "0.30340557275541796"
      ]
     },
     "execution_count": 29,
     "metadata": {},
     "output_type": "execute_result"
    }
   ],
   "source": [
    "#applying logistic regression on grayscale data\n",
    "model.fit(Ftrain,Ltrain)\n",
    "model.score(Ftest,Ltest)"
   ]
  },
  {
   "cell_type": "code",
   "execution_count": 30,
   "id": "20a6d97e",
   "metadata": {},
   "outputs": [
    {
     "name": "stdout",
     "output_type": "stream",
     "text": [
      "                               precision    recall  f1-score   support\n",
      "\n",
      "               bacterial_spot       0.38      0.21      0.27       349\n",
      "                 early_blight       0.00      0.00      0.00       182\n",
      "                      healthy       0.35      0.22      0.27       258\n",
      "                  late_blight       0.62      0.03      0.05       316\n",
      "                    leaf_mold       0.35      0.08      0.12       145\n",
      "           septoria_leaf_spot       0.36      0.36      0.36       262\n",
      "                  target_spot       0.00      0.00      0.00       229\n",
      "          tomato_mosaic_virus       0.00      0.00      0.00        58\n",
      "tomato_yellow_leaf_curl_virus       0.30      0.71      0.42       857\n",
      "      two-spotted_spider_mite       0.15      0.12      0.14       251\n",
      "\n",
      "                     accuracy                           0.30      2907\n",
      "                    macro avg       0.25      0.17      0.16      2907\n",
      "                 weighted avg       0.29      0.30      0.24      2907\n",
      "\n",
      "[[ 74   0  11   2   0   8   0   0 250   4]\n",
      " [ 22   0   1   1   4   6   0   0 129  19]\n",
      " [  0   0  57   0   0   6   0   0 195   0]\n",
      " [ 14   1  32   8  13  38   1   0 183  26]\n",
      " [  3   0   2   1  11  19   0   0 104   5]\n",
      " [  0   0  10   1   3  95   0   0 128  25]\n",
      " [  1   0   0   0   0  12   0   0 192  24]\n",
      " [  2   0   0   0   0   2   0   0  53   1]\n",
      " [ 67   0  50   0   0  61   0   0 606  73]\n",
      " [ 13   0   2   0   0  18   0   0 187  31]]\n"
     ]
    },
    {
     "name": "stderr",
     "output_type": "stream",
     "text": [
      "C:\\Users\\ravic\\anaconda3\\lib\\site-packages\\sklearn\\metrics\\_classification.py:1318: UndefinedMetricWarning: Precision and F-score are ill-defined and being set to 0.0 in labels with no predicted samples. Use `zero_division` parameter to control this behavior.\n",
      "  _warn_prf(average, modifier, msg_start, len(result))\n",
      "C:\\Users\\ravic\\anaconda3\\lib\\site-packages\\sklearn\\metrics\\_classification.py:1318: UndefinedMetricWarning: Precision and F-score are ill-defined and being set to 0.0 in labels with no predicted samples. Use `zero_division` parameter to control this behavior.\n",
      "  _warn_prf(average, modifier, msg_start, len(result))\n",
      "C:\\Users\\ravic\\anaconda3\\lib\\site-packages\\sklearn\\metrics\\_classification.py:1318: UndefinedMetricWarning: Precision and F-score are ill-defined and being set to 0.0 in labels with no predicted samples. Use `zero_division` parameter to control this behavior.\n",
      "  _warn_prf(average, modifier, msg_start, len(result))\n"
     ]
    }
   ],
   "source": [
    "#classification report\n",
    "y_predict = model.predict(Ftest)\n",
    "class_names = target.unique()\n",
    "print(classification_report(Ltest, y_predict, target_names=class_names))\n",
    "print(confusion_matrix(Ltest, y_predict))"
   ]
  },
  {
   "cell_type": "markdown",
   "id": "5284f869",
   "metadata": {},
   "source": [
    "# SVM on Grayscale data"
   ]
  },
  {
   "cell_type": "code",
   "execution_count": 31,
   "id": "d0db5c80",
   "metadata": {},
   "outputs": [
    {
     "name": "stdout",
     "output_type": "stream",
     "text": [
      "0.3202614379084967\n"
     ]
    }
   ],
   "source": [
    "#applying svm on grayscale data\n",
    "clf.fit(Ftrain,Ltrain)\n",
    "y_pred = clf.predict(Ftest)\n",
    "print(accuracy_score(Ltest,y_pred))"
   ]
  },
  {
   "cell_type": "code",
   "execution_count": 32,
   "id": "bcddcf24",
   "metadata": {},
   "outputs": [
    {
     "name": "stdout",
     "output_type": "stream",
     "text": [
      "                               precision    recall  f1-score   support\n",
      "\n",
      "               bacterial_spot       0.00      0.00      0.00       349\n",
      "                 early_blight       0.00      0.00      0.00       182\n",
      "                      healthy       0.00      0.00      0.00       258\n",
      "                  late_blight       0.67      0.01      0.01       316\n",
      "                    leaf_mold       0.50      0.06      0.11       145\n",
      "           septoria_leaf_spot       0.54      0.28      0.37       262\n",
      "                  target_spot       0.00      0.00      0.00       229\n",
      "          tomato_mosaic_virus       0.00      0.00      0.00        58\n",
      "tomato_yellow_leaf_curl_virus       0.31      0.99      0.47       857\n",
      "      two-spotted_spider_mite       0.00      0.00      0.00       251\n",
      "\n",
      "                     accuracy                           0.32      2907\n",
      "                    macro avg       0.20      0.13      0.10      2907\n",
      "                 weighted avg       0.24      0.32      0.18      2907\n",
      "\n",
      "[[  0   0   0   0   0   2   0   0 347   0]\n",
      " [  0   0   0   1   2   4   0   0 175   0]\n",
      " [  0   0   0   0   0   0   0   0 258   0]\n",
      " [  0   1   0   2   4  28   0   0 281   0]\n",
      " [  0   0   0   0   9  13   0   0 123   0]\n",
      " [  0   0   0   0   3  74   0   0 185   0]\n",
      " [  0   0   0   0   0   1   0   0 228   0]\n",
      " [  0   0   0   0   0   1   0   0  57   0]\n",
      " [  0   0   0   0   0  11   0   0 846   0]\n",
      " [  0   0   0   0   0   2   0   0 249   0]]\n"
     ]
    },
    {
     "name": "stderr",
     "output_type": "stream",
     "text": [
      "C:\\Users\\ravic\\anaconda3\\lib\\site-packages\\sklearn\\metrics\\_classification.py:1318: UndefinedMetricWarning: Precision and F-score are ill-defined and being set to 0.0 in labels with no predicted samples. Use `zero_division` parameter to control this behavior.\n",
      "  _warn_prf(average, modifier, msg_start, len(result))\n",
      "C:\\Users\\ravic\\anaconda3\\lib\\site-packages\\sklearn\\metrics\\_classification.py:1318: UndefinedMetricWarning: Precision and F-score are ill-defined and being set to 0.0 in labels with no predicted samples. Use `zero_division` parameter to control this behavior.\n",
      "  _warn_prf(average, modifier, msg_start, len(result))\n",
      "C:\\Users\\ravic\\anaconda3\\lib\\site-packages\\sklearn\\metrics\\_classification.py:1318: UndefinedMetricWarning: Precision and F-score are ill-defined and being set to 0.0 in labels with no predicted samples. Use `zero_division` parameter to control this behavior.\n",
      "  _warn_prf(average, modifier, msg_start, len(result))\n"
     ]
    }
   ],
   "source": [
    "#classification report\n",
    "y_predict = clf.predict(Ftest)\n",
    "class_names = target.unique()\n",
    "print(classification_report(Ltest, y_predict, target_names=class_names))\n",
    "print(confusion_matrix(Ltest, y_predict))"
   ]
  },
  {
   "cell_type": "markdown",
   "id": "576fd580",
   "metadata": {},
   "source": [
    "# Random Forest on Grayscale"
   ]
  },
  {
   "cell_type": "code",
   "execution_count": 33,
   "id": "9dfa979e",
   "metadata": {},
   "outputs": [
    {
     "data": {
      "text/plain": [
       "RandomForestClassifier(max_depth=5, n_jobs=-1, oob_score=True, random_state=42)"
      ]
     },
     "execution_count": 33,
     "metadata": {},
     "output_type": "execute_result"
    }
   ],
   "source": [
    "#applying random forest on grayscale data\n",
    "classifier_rf.fit(Ftrain, Ltrain)"
   ]
  },
  {
   "cell_type": "code",
   "execution_count": 34,
   "id": "2b4347ef",
   "metadata": {},
   "outputs": [
    {
     "data": {
      "text/plain": [
       "0.41397109428768064"
      ]
     },
     "execution_count": 34,
     "metadata": {},
     "output_type": "execute_result"
    }
   ],
   "source": [
    "#printing accuracy\n",
    "classifier_rf.oob_score_"
   ]
  },
  {
   "cell_type": "code",
   "execution_count": 35,
   "id": "9263c32f",
   "metadata": {},
   "outputs": [
    {
     "name": "stdout",
     "output_type": "stream",
     "text": [
      "                               precision    recall  f1-score   support\n",
      "\n",
      "               bacterial_spot       0.45      0.16      0.24       349\n",
      "                 early_blight       0.43      0.02      0.03       182\n",
      "                      healthy       0.38      0.02      0.04       258\n",
      "                  late_blight       0.66      0.12      0.20       316\n",
      "                    leaf_mold       0.59      0.09      0.16       145\n",
      "           septoria_leaf_spot       0.42      0.46      0.44       262\n",
      "                  target_spot       0.40      0.03      0.05       229\n",
      "          tomato_mosaic_virus       0.00      0.00      0.00        58\n",
      "tomato_yellow_leaf_curl_virus       0.37      0.88      0.52       857\n",
      "      two-spotted_spider_mite       0.24      0.31      0.27       251\n",
      "\n",
      "                     accuracy                           0.37      2907\n",
      "                    macro avg       0.39      0.21      0.19      2907\n",
      "                 weighted avg       0.41      0.37      0.28      2907\n",
      "\n",
      "[[ 57   0   0   1   0   3   0   0 282   6]\n",
      " [ 19   3   0   8   1   7   1   0 116  27]\n",
      " [  0   0   6   0   2   2   3   0 224  21]\n",
      " [  1   2   0  38   4  44   1   0 205  21]\n",
      " [  6   0   0   9  13  27   0   0  81   9]\n",
      " [  1   0   1   2   2 120   0   0 113  23]\n",
      " [  4   1   0   0   0  26   6   0 101  91]\n",
      " [  3   0   0   0   0   4   0   0  38  13]\n",
      " [ 32   1   9   0   0  25   3   0 755  32]\n",
      " [  4   0   0   0   0  29   1   0 140  77]]\n"
     ]
    },
    {
     "name": "stderr",
     "output_type": "stream",
     "text": [
      "C:\\Users\\ravic\\anaconda3\\lib\\site-packages\\sklearn\\metrics\\_classification.py:1318: UndefinedMetricWarning: Precision and F-score are ill-defined and being set to 0.0 in labels with no predicted samples. Use `zero_division` parameter to control this behavior.\n",
      "  _warn_prf(average, modifier, msg_start, len(result))\n",
      "C:\\Users\\ravic\\anaconda3\\lib\\site-packages\\sklearn\\metrics\\_classification.py:1318: UndefinedMetricWarning: Precision and F-score are ill-defined and being set to 0.0 in labels with no predicted samples. Use `zero_division` parameter to control this behavior.\n",
      "  _warn_prf(average, modifier, msg_start, len(result))\n",
      "C:\\Users\\ravic\\anaconda3\\lib\\site-packages\\sklearn\\metrics\\_classification.py:1318: UndefinedMetricWarning: Precision and F-score are ill-defined and being set to 0.0 in labels with no predicted samples. Use `zero_division` parameter to control this behavior.\n",
      "  _warn_prf(average, modifier, msg_start, len(result))\n"
     ]
    }
   ],
   "source": [
    "#classification report\n",
    "y_predict = classifier_rf.predict(Ftest)\n",
    "class_names = target.unique()\n",
    "print(classification_report(Ltest, y_predict, target_names=class_names))\n",
    "print(confusion_matrix(Ltest, y_predict))"
   ]
  },
  {
   "cell_type": "markdown",
   "id": "8befce61",
   "metadata": {},
   "source": [
    "# Naive bayes on Grayscale"
   ]
  },
  {
   "cell_type": "code",
   "execution_count": 36,
   "id": "0d1a6d3b",
   "metadata": {},
   "outputs": [
    {
     "data": {
      "text/plain": [
       "GaussianNB()"
      ]
     },
     "execution_count": 36,
     "metadata": {},
     "output_type": "execute_result"
    }
   ],
   "source": [
    "#fitting naive bayes on grayscale data\n",
    "gnb.fit(Ftrain, Ltrain)"
   ]
  },
  {
   "cell_type": "code",
   "execution_count": 37,
   "id": "053c9a09",
   "metadata": {},
   "outputs": [
    {
     "data": {
      "text/plain": [
       "0.33161334709322327"
      ]
     },
     "execution_count": 37,
     "metadata": {},
     "output_type": "execute_result"
    }
   ],
   "source": [
    "#predict the output\n",
    "y_pred = gnb.predict(Ftest)\n",
    "metrics.accuracy_score(Ltest, y_pred)"
   ]
  },
  {
   "cell_type": "code",
   "execution_count": 38,
   "id": "22c98d80",
   "metadata": {},
   "outputs": [
    {
     "name": "stdout",
     "output_type": "stream",
     "text": [
      "                               precision    recall  f1-score   support\n",
      "\n",
      "               bacterial_spot       0.40      0.19      0.26       349\n",
      "                 early_blight       0.13      0.26      0.17       182\n",
      "                      healthy       0.42      0.28      0.34       258\n",
      "                  late_blight       0.24      0.24      0.24       316\n",
      "                    leaf_mold       0.57      0.11      0.18       145\n",
      "           septoria_leaf_spot       0.27      0.27      0.27       262\n",
      "                  target_spot       0.34      0.19      0.24       229\n",
      "          tomato_mosaic_virus       0.00      0.00      0.00        58\n",
      "tomato_yellow_leaf_curl_virus       0.40      0.61      0.48       857\n",
      "      two-spotted_spider_mite       0.27      0.20      0.23       251\n",
      "\n",
      "                     accuracy                           0.33      2907\n",
      "                    macro avg       0.31      0.23      0.24      2907\n",
      "                 weighted avg       0.34      0.33      0.31      2907\n",
      "\n",
      "[[ 68  55   4  10   0   4   3   0 199   6]\n",
      " [ 21  47   4  13   2   7   8   0  65  15]\n",
      " [  1   5  73  22   1  28   9   0 119   0]\n",
      " [  3  54  25  75   6  27   5   0 110  11]\n",
      " [  9  12   3  17  16  22   3   0  58   5]\n",
      " [  1  11  16  86   2  70   3   0  61  12]\n",
      " [  2  35   0  21   1  19  43   0  49  59]\n",
      " [  4   4   0   1   0   8   6   0  31   4]\n",
      " [ 54  95  48  58   0  42  12   0 521  27]\n",
      " [  5  38   0   9   0  30  35   0  83  51]]\n"
     ]
    },
    {
     "name": "stderr",
     "output_type": "stream",
     "text": [
      "C:\\Users\\ravic\\anaconda3\\lib\\site-packages\\sklearn\\metrics\\_classification.py:1318: UndefinedMetricWarning: Precision and F-score are ill-defined and being set to 0.0 in labels with no predicted samples. Use `zero_division` parameter to control this behavior.\n",
      "  _warn_prf(average, modifier, msg_start, len(result))\n",
      "C:\\Users\\ravic\\anaconda3\\lib\\site-packages\\sklearn\\metrics\\_classification.py:1318: UndefinedMetricWarning: Precision and F-score are ill-defined and being set to 0.0 in labels with no predicted samples. Use `zero_division` parameter to control this behavior.\n",
      "  _warn_prf(average, modifier, msg_start, len(result))\n",
      "C:\\Users\\ravic\\anaconda3\\lib\\site-packages\\sklearn\\metrics\\_classification.py:1318: UndefinedMetricWarning: Precision and F-score are ill-defined and being set to 0.0 in labels with no predicted samples. Use `zero_division` parameter to control this behavior.\n",
      "  _warn_prf(average, modifier, msg_start, len(result))\n"
     ]
    }
   ],
   "source": [
    "#classification report\n",
    "class_names = target.unique()\n",
    "print(classification_report(Ltest, y_pred, target_names=class_names))\n",
    "print(confusion_matrix(Ltest, y_pred))"
   ]
  },
  {
   "cell_type": "markdown",
   "id": "9a562db7",
   "metadata": {},
   "source": [
    "# Decision Tree on Grayscale"
   ]
  },
  {
   "cell_type": "code",
   "execution_count": 39,
   "id": "a4e9cd0d",
   "metadata": {},
   "outputs": [
    {
     "data": {
      "text/plain": [
       "0.26831785345717235"
      ]
     },
     "execution_count": 39,
     "metadata": {},
     "output_type": "execute_result"
    }
   ],
   "source": [
    "classifier_tree.fit(Ftrain, Ltrain)\n",
    "classifier_tree.score(Ftest,Ltest)"
   ]
  },
  {
   "cell_type": "code",
   "execution_count": 40,
   "id": "523c3773",
   "metadata": {},
   "outputs": [
    {
     "name": "stdout",
     "output_type": "stream",
     "text": [
      "                               precision    recall  f1-score   support\n",
      "\n",
      "               bacterial_spot       0.25      0.17      0.21       349\n",
      "                 early_blight       0.13      0.20      0.16       182\n",
      "                      healthy       0.33      0.14      0.20       258\n",
      "                  late_blight       0.22      0.28      0.25       316\n",
      "                    leaf_mold       0.13      0.12      0.12       145\n",
      "           septoria_leaf_spot       0.26      0.37      0.30       262\n",
      "                  target_spot       0.18      0.14      0.16       229\n",
      "          tomato_mosaic_virus       0.04      0.03      0.04        58\n",
      "tomato_yellow_leaf_curl_virus       0.37      0.41      0.39       857\n",
      "      two-spotted_spider_mite       0.19      0.14      0.16       251\n",
      "\n",
      "                     accuracy                           0.26      2907\n",
      "                    macro avg       0.21      0.20      0.20      2907\n",
      "                 weighted avg       0.26      0.26      0.25      2907\n",
      "\n",
      "[[ 61  35   7  31   9  19  18   1 148  20]\n",
      " [ 18  37   0  30   4  10   9   2  57  15]\n",
      " [ 25   8  37  47   8  29  13   4  70  17]\n",
      " [ 26  28  19  90  14  43  10   4  72  10]\n",
      " [ 10   7   8  13  17  34  17   9  22   8]\n",
      " [ 16  19   3  40   8  97  12   5  60   2]\n",
      " [  5  34   2  30   7  29  33  10  56  23]\n",
      " [  5   4   1   5   1   8   7   2  20   5]\n",
      " [ 69  75  36  99  57  78  38   7 348  50]\n",
      " [  5  28   0  26   9  29  28   6  85  35]]\n"
     ]
    }
   ],
   "source": [
    "#classification report code\n",
    "y_predict = classifier_tree.fit(Ftrain, Ltrain).predict(Ftest)\n",
    "class_names = target.unique()\n",
    "print(classification_report(Ltest, y_predict, target_names=class_names))\n",
    "print(confusion_matrix(Ltest, y_predict))"
   ]
  },
  {
   "cell_type": "markdown",
   "id": "e42f549f",
   "metadata": {},
   "source": [
    "# KNN on Red channel data"
   ]
  },
  {
   "cell_type": "code",
   "execution_count": 41,
   "id": "cb75cbbd",
   "metadata": {},
   "outputs": [],
   "source": [
    "#reading numpy array data\n",
    "os.chdir('D://DKIT//dissertation//Dataset_of_Tomato_Leaves//plantvillage//Preprocessed_data//32//PCA//')\n",
    "features = pd.read_csv('red.csv')\n",
    "#reading csv file\n",
    "os.chdir('D://DKIT//dissertation//Dataset_of_Tomato_Leaves//plantvillage//Preprocessed_data//32//vector//')\n",
    "gray_df = pd.read_csv('red_data.csv')"
   ]
  },
  {
   "cell_type": "code",
   "execution_count": 42,
   "id": "7fda7839",
   "metadata": {},
   "outputs": [],
   "source": [
    "#assigning disease column\n",
    "target = gray_df['disease']\n",
    "#splitting the data\n",
    "Ftrain,Ftest,Ltrain,Ltest=train_test_split(features,target, test_size=0.20, random_state=20)\n",
    "#scaling the data\n",
    "Ftrain = minmax.fit_transform(Ftrain)\n",
    "Ftest = minmax.fit_transform(Ftest)"
   ]
  },
  {
   "cell_type": "code",
   "execution_count": 43,
   "id": "683839f2",
   "metadata": {},
   "outputs": [
    {
     "data": {
      "text/plain": [
       "0.37530099759201924"
      ]
     },
     "execution_count": 43,
     "metadata": {},
     "output_type": "execute_result"
    }
   ],
   "source": [
    "#fitting the model\n",
    "kmodel.fit(Ftrain,Ltrain)\n",
    "kmodel.score(Ftest,Ltest)"
   ]
  },
  {
   "cell_type": "code",
   "execution_count": 44,
   "id": "53bc7b93",
   "metadata": {},
   "outputs": [
    {
     "name": "stdout",
     "output_type": "stream",
     "text": [
      "                               precision    recall  f1-score   support\n",
      "\n",
      "               bacterial_spot       0.46      0.13      0.20       349\n",
      "                 early_blight       0.50      0.01      0.01       182\n",
      "                      healthy       0.47      0.31      0.37       258\n",
      "                  late_blight       0.36      0.19      0.25       316\n",
      "                    leaf_mold       0.55      0.25      0.34       145\n",
      "           septoria_leaf_spot       0.39      0.36      0.37       262\n",
      "                  target_spot       0.24      0.10      0.14       229\n",
      "          tomato_mosaic_virus       0.00      0.00      0.00        58\n",
      "tomato_yellow_leaf_curl_virus       0.39      0.80      0.53       857\n",
      "      two-spotted_spider_mite       0.21      0.27      0.24       251\n",
      "\n",
      "                     accuracy                           0.38      2907\n",
      "                    macro avg       0.36      0.24      0.25      2907\n",
      "                 weighted avg       0.38      0.38      0.32      2907\n",
      "\n",
      "[[ 45   0   5  13   1   1   5   0 272   7]\n",
      " [ 13   1   3   7   8  10   5   0 117  18]\n",
      " [  0   0  79  45   2  11   6   0  90  25]\n",
      " [  2   1   9  61  10  39   7   0 169  18]\n",
      " [  5   0   8  10  36  21   1   0  57   7]\n",
      " [  1   0   8   7   7  95   9   0 105  30]\n",
      " [  1   0   4   3   1  18  22   0  96  84]\n",
      " [  4   0   2   0   0   4   3   0  28  17]\n",
      " [ 23   0  50  21   1  20  13   0 684  45]\n",
      " [  3   0   0   2   0  27  21   0 130  68]]\n"
     ]
    },
    {
     "name": "stderr",
     "output_type": "stream",
     "text": [
      "C:\\Users\\ravic\\anaconda3\\lib\\site-packages\\sklearn\\metrics\\_classification.py:1318: UndefinedMetricWarning: Precision and F-score are ill-defined and being set to 0.0 in labels with no predicted samples. Use `zero_division` parameter to control this behavior.\n",
      "  _warn_prf(average, modifier, msg_start, len(result))\n",
      "C:\\Users\\ravic\\anaconda3\\lib\\site-packages\\sklearn\\metrics\\_classification.py:1318: UndefinedMetricWarning: Precision and F-score are ill-defined and being set to 0.0 in labels with no predicted samples. Use `zero_division` parameter to control this behavior.\n",
      "  _warn_prf(average, modifier, msg_start, len(result))\n",
      "C:\\Users\\ravic\\anaconda3\\lib\\site-packages\\sklearn\\metrics\\_classification.py:1318: UndefinedMetricWarning: Precision and F-score are ill-defined and being set to 0.0 in labels with no predicted samples. Use `zero_division` parameter to control this behavior.\n",
      "  _warn_prf(average, modifier, msg_start, len(result))\n"
     ]
    }
   ],
   "source": [
    "#printing results of the kmodel\n",
    "y_predict = kmodel.predict(Ftest)\n",
    "class_names = target.unique()\n",
    "print(classification_report(Ltest, y_predict, target_names=class_names))\n",
    "print(confusion_matrix(Ltest, y_predict))"
   ]
  },
  {
   "cell_type": "markdown",
   "id": "ffcda594",
   "metadata": {},
   "source": [
    "# Logistic on Red channel data"
   ]
  },
  {
   "cell_type": "code",
   "execution_count": 45,
   "id": "1ed4037b",
   "metadata": {},
   "outputs": [
    {
     "data": {
      "text/plain": [
       "0.3113175094599243"
      ]
     },
     "execution_count": 45,
     "metadata": {},
     "output_type": "execute_result"
    }
   ],
   "source": [
    "model.fit(Ftrain,Ltrain)\n",
    "model.score(Ftest,Ltest)"
   ]
  },
  {
   "cell_type": "code",
   "execution_count": 46,
   "id": "22b11f2e",
   "metadata": {},
   "outputs": [
    {
     "name": "stdout",
     "output_type": "stream",
     "text": [
      "                               precision    recall  f1-score   support\n",
      "\n",
      "               bacterial_spot       0.49      0.12      0.19       349\n",
      "                 early_blight       0.00      0.00      0.00       182\n",
      "                      healthy       0.27      0.06      0.10       258\n",
      "                  late_blight       0.32      0.11      0.17       316\n",
      "                    leaf_mold       0.41      0.11      0.17       145\n",
      "           septoria_leaf_spot       0.26      0.40      0.31       262\n",
      "                  target_spot       0.00      0.00      0.00       229\n",
      "          tomato_mosaic_virus       0.00      0.00      0.00        58\n",
      "tomato_yellow_leaf_curl_virus       0.33      0.73      0.45       857\n",
      "      two-spotted_spider_mite       0.22      0.27      0.24       251\n",
      "\n",
      "                     accuracy                           0.31      2907\n",
      "                    macro avg       0.23      0.18      0.16      2907\n",
      "                 weighted avg       0.28      0.31      0.24      2907\n",
      "\n",
      "[[ 41   0   6  15   0  14   0   0 272   1]\n",
      " [  9   0   1   3   4  14   1   0 132  18]\n",
      " [  0   0  15  25   1  16   0   0 201   0]\n",
      " [  6   0  12  36  14  81   0   0 139  28]\n",
      " [  1   0   0   3  16  36   0   0  84   5]\n",
      " [  1   0   5  12   3 104   0   0  95  42]\n",
      " [  0   0   0   0   0  18   0   0 165  46]\n",
      " [  0   0   0   0   0   6   0   0  49   3]\n",
      " [ 22   0  16  17   1  74   0   0 626 101]\n",
      " [  3   0   0   0   0  38   0   0 143  67]]\n"
     ]
    },
    {
     "name": "stderr",
     "output_type": "stream",
     "text": [
      "C:\\Users\\ravic\\anaconda3\\lib\\site-packages\\sklearn\\metrics\\_classification.py:1318: UndefinedMetricWarning: Precision and F-score are ill-defined and being set to 0.0 in labels with no predicted samples. Use `zero_division` parameter to control this behavior.\n",
      "  _warn_prf(average, modifier, msg_start, len(result))\n",
      "C:\\Users\\ravic\\anaconda3\\lib\\site-packages\\sklearn\\metrics\\_classification.py:1318: UndefinedMetricWarning: Precision and F-score are ill-defined and being set to 0.0 in labels with no predicted samples. Use `zero_division` parameter to control this behavior.\n",
      "  _warn_prf(average, modifier, msg_start, len(result))\n",
      "C:\\Users\\ravic\\anaconda3\\lib\\site-packages\\sklearn\\metrics\\_classification.py:1318: UndefinedMetricWarning: Precision and F-score are ill-defined and being set to 0.0 in labels with no predicted samples. Use `zero_division` parameter to control this behavior.\n",
      "  _warn_prf(average, modifier, msg_start, len(result))\n"
     ]
    }
   ],
   "source": [
    "#classification report\n",
    "y_predict = model.predict(Ftest)\n",
    "class_names = target.unique()\n",
    "print(classification_report(Ltest, y_predict, target_names=class_names))\n",
    "print(confusion_matrix(Ltest, y_predict))"
   ]
  },
  {
   "cell_type": "markdown",
   "id": "dba6d5ce",
   "metadata": {},
   "source": [
    "# SVM on Red channel data"
   ]
  },
  {
   "cell_type": "code",
   "execution_count": 47,
   "id": "6ed153f7",
   "metadata": {},
   "outputs": [
    {
     "name": "stdout",
     "output_type": "stream",
     "text": [
      "0.32748538011695905\n"
     ]
    }
   ],
   "source": [
    "clf.fit(Ftrain,Ltrain)\n",
    "y_pred = clf.predict(Ftest)\n",
    "print(accuracy_score(Ltest,y_pred))"
   ]
  },
  {
   "cell_type": "code",
   "execution_count": 48,
   "id": "3d2d1d59",
   "metadata": {},
   "outputs": [
    {
     "name": "stdout",
     "output_type": "stream",
     "text": [
      "                               precision    recall  f1-score   support\n",
      "\n",
      "               bacterial_spot       0.00      0.00      0.00       349\n",
      "                 early_blight       0.00      0.00      0.00       182\n",
      "                      healthy       0.00      0.00      0.00       258\n",
      "                  late_blight       0.26      0.02      0.04       316\n",
      "                    leaf_mold       0.43      0.18      0.25       145\n",
      "           septoria_leaf_spot       0.39      0.35      0.37       262\n",
      "                  target_spot       0.00      0.00      0.00       229\n",
      "          tomato_mosaic_virus       0.00      0.00      0.00        58\n",
      "tomato_yellow_leaf_curl_virus       0.32      0.96      0.48       857\n",
      "      two-spotted_spider_mite       0.00      0.00      0.00       251\n",
      "\n",
      "                     accuracy                           0.33      2907\n",
      "                    macro avg       0.14      0.15      0.11      2907\n",
      "                 weighted avg       0.18      0.33      0.19      2907\n",
      "\n",
      "[[  0   0   0   2   1   4   0   0 342   0]\n",
      " [  0   0   0   2   8  12   0   0 160   0]\n",
      " [  0   0   0   2   1   0   0   0 255   0]\n",
      " [  0   0   0   6  19  46   0   0 244   1]\n",
      " [  0   0   0   5  26  18   0   0  95   1]\n",
      " [  0   0   0   1   3  93   0   0 165   0]\n",
      " [  0   0   0   1   0  11   0   0 217   0]\n",
      " [  0   0   0   0   0   3   0   0  55   0]\n",
      " [  0   0   0   3   2  25   0   0 827   0]\n",
      " [  0   0   0   1   0  24   0   0 226   0]]\n"
     ]
    },
    {
     "name": "stderr",
     "output_type": "stream",
     "text": [
      "C:\\Users\\ravic\\anaconda3\\lib\\site-packages\\sklearn\\metrics\\_classification.py:1318: UndefinedMetricWarning: Precision and F-score are ill-defined and being set to 0.0 in labels with no predicted samples. Use `zero_division` parameter to control this behavior.\n",
      "  _warn_prf(average, modifier, msg_start, len(result))\n",
      "C:\\Users\\ravic\\anaconda3\\lib\\site-packages\\sklearn\\metrics\\_classification.py:1318: UndefinedMetricWarning: Precision and F-score are ill-defined and being set to 0.0 in labels with no predicted samples. Use `zero_division` parameter to control this behavior.\n",
      "  _warn_prf(average, modifier, msg_start, len(result))\n",
      "C:\\Users\\ravic\\anaconda3\\lib\\site-packages\\sklearn\\metrics\\_classification.py:1318: UndefinedMetricWarning: Precision and F-score are ill-defined and being set to 0.0 in labels with no predicted samples. Use `zero_division` parameter to control this behavior.\n",
      "  _warn_prf(average, modifier, msg_start, len(result))\n"
     ]
    }
   ],
   "source": [
    "#classification report\n",
    "y_predict = clf.predict(Ftest)\n",
    "class_names = target.unique()\n",
    "print(classification_report(Ltest, y_predict, target_names=class_names))\n",
    "print(confusion_matrix(Ltest, y_predict))"
   ]
  },
  {
   "cell_type": "markdown",
   "id": "a670c4d4",
   "metadata": {},
   "source": [
    "# Random forest on Red channel data"
   ]
  },
  {
   "cell_type": "code",
   "execution_count": 49,
   "id": "9e816e9e",
   "metadata": {},
   "outputs": [
    {
     "data": {
      "text/plain": [
       "0.41302477632484513"
      ]
     },
     "execution_count": 49,
     "metadata": {},
     "output_type": "execute_result"
    }
   ],
   "source": [
    "classifier_rf.fit(Ftrain, Ltrain)\n",
    "classifier_rf.oob_score_"
   ]
  },
  {
   "cell_type": "code",
   "execution_count": 50,
   "id": "6d5daf40",
   "metadata": {},
   "outputs": [
    {
     "name": "stdout",
     "output_type": "stream",
     "text": [
      "                               precision    recall  f1-score   support\n",
      "\n",
      "               bacterial_spot       0.47      0.12      0.19       349\n",
      "                 early_blight       0.00      0.00      0.00       182\n",
      "                      healthy       0.00      0.00      0.00       258\n",
      "                  late_blight       0.70      0.10      0.18       316\n",
      "                    leaf_mold       0.53      0.19      0.28       145\n",
      "           septoria_leaf_spot       0.31      0.48      0.38       262\n",
      "                  target_spot       0.00      0.00      0.00       229\n",
      "          tomato_mosaic_virus       0.00      0.00      0.00        58\n",
      "tomato_yellow_leaf_curl_virus       0.38      0.84      0.52       857\n",
      "      two-spotted_spider_mite       0.20      0.33      0.25       251\n",
      "\n",
      "                     accuracy                           0.36      2907\n",
      "                    macro avg       0.26      0.21      0.18      2907\n",
      "                 weighted avg       0.32      0.36      0.27      2907\n",
      "\n",
      "[[ 42   0   0   4   0   5   0   0 285  13]\n",
      " [ 17   0   0   6   4  20   0   0 113  22]\n",
      " [  0   0   0   0   4  13   0   0 215  26]\n",
      " [  1   0   0  32   5  61   0   0 194  23]\n",
      " [  5   0   0   3  28  42   0   0  59   8]\n",
      " [  1   0   0   1   5 127   0   0  91  37]\n",
      " [  0   0   0   0   3  36   0   0  69 121]\n",
      " [  1   0   0   0   0  10   0   0  26  21]\n",
      " [ 20   0   0   0   4  44   0   0 719  70]\n",
      " [  2   0   0   0   0  50   1   0 114  84]]\n"
     ]
    },
    {
     "name": "stderr",
     "output_type": "stream",
     "text": [
      "C:\\Users\\ravic\\anaconda3\\lib\\site-packages\\sklearn\\metrics\\_classification.py:1318: UndefinedMetricWarning: Precision and F-score are ill-defined and being set to 0.0 in labels with no predicted samples. Use `zero_division` parameter to control this behavior.\n",
      "  _warn_prf(average, modifier, msg_start, len(result))\n",
      "C:\\Users\\ravic\\anaconda3\\lib\\site-packages\\sklearn\\metrics\\_classification.py:1318: UndefinedMetricWarning: Precision and F-score are ill-defined and being set to 0.0 in labels with no predicted samples. Use `zero_division` parameter to control this behavior.\n",
      "  _warn_prf(average, modifier, msg_start, len(result))\n",
      "C:\\Users\\ravic\\anaconda3\\lib\\site-packages\\sklearn\\metrics\\_classification.py:1318: UndefinedMetricWarning: Precision and F-score are ill-defined and being set to 0.0 in labels with no predicted samples. Use `zero_division` parameter to control this behavior.\n",
      "  _warn_prf(average, modifier, msg_start, len(result))\n"
     ]
    }
   ],
   "source": [
    "#classification report of random forest\n",
    "y_predict = classifier_rf.predict(Ftest)\n",
    "class_names = target.unique()\n",
    "print(classification_report(Ltest, y_predict, target_names=class_names))\n",
    "print(confusion_matrix(Ltest, y_predict))"
   ]
  },
  {
   "cell_type": "markdown",
   "id": "e1c2d95a",
   "metadata": {},
   "source": [
    "# Naive Bayes on Red channel data"
   ]
  },
  {
   "cell_type": "code",
   "execution_count": 51,
   "id": "8ec0753c",
   "metadata": {},
   "outputs": [
    {
     "data": {
      "text/plain": [
       "GaussianNB()"
      ]
     },
     "execution_count": 51,
     "metadata": {},
     "output_type": "execute_result"
    }
   ],
   "source": [
    "gnb.fit(Ftrain, Ltrain)"
   ]
  },
  {
   "cell_type": "code",
   "execution_count": 52,
   "id": "9bd3c55d",
   "metadata": {},
   "outputs": [
    {
     "data": {
      "text/plain": [
       "0.3667010663914689"
      ]
     },
     "execution_count": 52,
     "metadata": {},
     "output_type": "execute_result"
    }
   ],
   "source": [
    "#printing accuracy\n",
    "y_pred = gnb.predict(Ftest)\n",
    "metrics.accuracy_score(Ltest, y_pred)"
   ]
  },
  {
   "cell_type": "code",
   "execution_count": 53,
   "id": "fc44e44c",
   "metadata": {},
   "outputs": [
    {
     "name": "stdout",
     "output_type": "stream",
     "text": [
      "                               precision    recall  f1-score   support\n",
      "\n",
      "               bacterial_spot       0.62      0.18      0.28       349\n",
      "                 early_blight       0.19      0.16      0.17       182\n",
      "                      healthy       0.52      0.29      0.38       258\n",
      "                  late_blight       0.34      0.22      0.27       316\n",
      "                    leaf_mold       0.47      0.21      0.29       145\n",
      "           septoria_leaf_spot       0.22      0.24      0.23       262\n",
      "                  target_spot       0.43      0.09      0.14       229\n",
      "          tomato_mosaic_virus       0.00      0.00      0.00        58\n",
      "tomato_yellow_leaf_curl_virus       0.40      0.70      0.51       857\n",
      "      two-spotted_spider_mite       0.28      0.45      0.34       251\n",
      "\n",
      "                     accuracy                           0.37      2907\n",
      "                    macro avg       0.35      0.25      0.26      2907\n",
      "                 weighted avg       0.39      0.37      0.33      2907\n",
      "\n",
      "[[ 63  19   6   6   1   4   1   0 238  11]\n",
      " [  8  29   1  11  10  11   3   0  88  21]\n",
      " [  0   0  76   5   2  16   1   0 152   6]\n",
      " [  1  35   7  69  10  32   3   0 144  15]\n",
      " [  2   9   4  14  31  26   1   0  50   8]\n",
      " [  1  10   8  70   6  62   3   0  78  24]\n",
      " [  0   4   0   7   2  33  20   0  49 114]\n",
      " [  1   1   0   1   0   6   0   0  32  17]\n",
      " [ 24  39  43  17   4  44   8   0 604  74]\n",
      " [  2   7   0   2   0  49   7   0  72 112]]\n"
     ]
    },
    {
     "name": "stderr",
     "output_type": "stream",
     "text": [
      "C:\\Users\\ravic\\anaconda3\\lib\\site-packages\\sklearn\\metrics\\_classification.py:1318: UndefinedMetricWarning: Precision and F-score are ill-defined and being set to 0.0 in labels with no predicted samples. Use `zero_division` parameter to control this behavior.\n",
      "  _warn_prf(average, modifier, msg_start, len(result))\n",
      "C:\\Users\\ravic\\anaconda3\\lib\\site-packages\\sklearn\\metrics\\_classification.py:1318: UndefinedMetricWarning: Precision and F-score are ill-defined and being set to 0.0 in labels with no predicted samples. Use `zero_division` parameter to control this behavior.\n",
      "  _warn_prf(average, modifier, msg_start, len(result))\n",
      "C:\\Users\\ravic\\anaconda3\\lib\\site-packages\\sklearn\\metrics\\_classification.py:1318: UndefinedMetricWarning: Precision and F-score are ill-defined and being set to 0.0 in labels with no predicted samples. Use `zero_division` parameter to control this behavior.\n",
      "  _warn_prf(average, modifier, msg_start, len(result))\n"
     ]
    }
   ],
   "source": [
    "#calssification report\n",
    "class_names = target.unique()\n",
    "print(classification_report(Ltest, y_pred, target_names=class_names))\n",
    "print(confusion_matrix(Ltest, y_pred))"
   ]
  },
  {
   "cell_type": "markdown",
   "id": "1aad544a",
   "metadata": {},
   "source": [
    "# Decision Tree on Red channel"
   ]
  },
  {
   "cell_type": "code",
   "execution_count": 54,
   "id": "91934650",
   "metadata": {},
   "outputs": [
    {
     "data": {
      "text/plain": [
       "0.2696938424492604"
      ]
     },
     "execution_count": 54,
     "metadata": {},
     "output_type": "execute_result"
    }
   ],
   "source": [
    "classifier_tree.fit(Ftrain, Ltrain)\n",
    "classifier_tree.score(Ftest,Ltest)"
   ]
  },
  {
   "cell_type": "code",
   "execution_count": 55,
   "id": "897d5f1e",
   "metadata": {},
   "outputs": [
    {
     "name": "stdout",
     "output_type": "stream",
     "text": [
      "                               precision    recall  f1-score   support\n",
      "\n",
      "               bacterial_spot       0.32      0.17      0.22       349\n",
      "                 early_blight       0.11      0.13      0.12       182\n",
      "                      healthy       0.37      0.11      0.17       258\n",
      "                  late_blight       0.23      0.27      0.25       316\n",
      "                    leaf_mold       0.22      0.17      0.19       145\n",
      "           septoria_leaf_spot       0.22      0.36      0.28       262\n",
      "                  target_spot       0.16      0.15      0.15       229\n",
      "          tomato_mosaic_virus       0.02      0.02      0.02        58\n",
      "tomato_yellow_leaf_curl_virus       0.39      0.48      0.43       857\n",
      "      two-spotted_spider_mite       0.11      0.08      0.09       251\n",
      "\n",
      "                     accuracy                           0.27      2907\n",
      "                    macro avg       0.21      0.19      0.19      2907\n",
      "                 weighted avg       0.27      0.27      0.26      2907\n",
      "\n",
      "[[ 60  20   3  24  12  13  16   2 184  15]\n",
      " [ 14  23   1  22  10  17  23   3  57  12]\n",
      " [  6  12  28  52  17  31  21   8  66  17]\n",
      " [ 20  20   7  85   8  61  11   3  80  21]\n",
      " [  6   7   1  21  24  36   7   5  28  10]\n",
      " [  3  16   4  51   6  94   9   4  63  12]\n",
      " [  3  41   1  16  10  27  34  11  52  34]\n",
      " [  4   4   0   5   0   7  17   1  15   5]\n",
      " [ 69  54  30  75  19  88  42  15 414  51]\n",
      " [  3  14   0  18   3  46  32   4 110  21]]\n"
     ]
    }
   ],
   "source": [
    "#classification report on red channel\n",
    "y_predict = classifier_tree.predict(Ftest)\n",
    "class_names = target.unique()\n",
    "print(classification_report(Ltest, y_predict, target_names=class_names))\n",
    "print(confusion_matrix(Ltest, y_predict))"
   ]
  },
  {
   "cell_type": "markdown",
   "id": "21af7568",
   "metadata": {},
   "source": [
    "# KNN on green channel data"
   ]
  },
  {
   "cell_type": "code",
   "execution_count": 56,
   "id": "461b784b",
   "metadata": {},
   "outputs": [
    {
     "data": {
      "text/plain": [
       "0.4286205710354317"
      ]
     },
     "execution_count": 56,
     "metadata": {},
     "output_type": "execute_result"
    }
   ],
   "source": [
    "#reading numpy array data\n",
    "os.chdir('D://DKIT//dissertation//Dataset_of_Tomato_Leaves//plantvillage//Preprocessed_data//32//PCA//')\n",
    "features = pd.read_csv('green.csv')\n",
    "#reading csv file\n",
    "os.chdir('D://DKIT//dissertation//Dataset_of_Tomato_Leaves//plantvillage//Preprocessed_data//32//vector//')\n",
    "#reading csv file\n",
    "gray_df = pd.read_csv('green_data.csv')\n",
    "#assigning target\n",
    "target = gray_df['disease']\n",
    "Ftrain,Ftest,Ltrain,Ltest=train_test_split(features,target, test_size=0.20, random_state=20)\n",
    "#scaling the data using minmax\n",
    "Ftrain = minmax.fit_transform(Ftrain)\n",
    "Ftest = minmax.fit_transform(Ftest)\n",
    "kmodel.fit(Ftrain,Ltrain)\n",
    "kmodel.score(Ftest,Ltest)"
   ]
  },
  {
   "cell_type": "code",
   "execution_count": 57,
   "id": "5a4d4f1d",
   "metadata": {},
   "outputs": [
    {
     "name": "stdout",
     "output_type": "stream",
     "text": [
      "                               precision    recall  f1-score   support\n",
      "\n",
      "               bacterial_spot       0.37      0.27      0.31       349\n",
      "                 early_blight       0.43      0.02      0.03       182\n",
      "                      healthy       0.48      0.61      0.54       258\n",
      "                  late_blight       0.45      0.28      0.35       316\n",
      "                    leaf_mold       0.62      0.10      0.18       145\n",
      "           septoria_leaf_spot       0.60      0.38      0.47       262\n",
      "                  target_spot       0.34      0.25      0.29       229\n",
      "          tomato_mosaic_virus       0.00      0.00      0.00        58\n",
      "tomato_yellow_leaf_curl_virus       0.44      0.75      0.55       857\n",
      "      two-spotted_spider_mite       0.29      0.33      0.31       251\n",
      "\n",
      "                     accuracy                           0.43      2907\n",
      "                    macro avg       0.40      0.30      0.30      2907\n",
      "                 weighted avg       0.43      0.43      0.39      2907\n",
      "\n",
      "[[ 94   0  21   6   0   1   1   0 214  12]\n",
      " [ 32   3   3  12   1   5  11   0  95  20]\n",
      " [  3   0 158  26   1   4   7   0  44  15]\n",
      " [ 10   3  28  89   2  20  15   0 130  19]\n",
      " [ 12   1  19   9  15  13   6   0  54  16]\n",
      " [  0   0  22  18   4 100  12   0  84  22]\n",
      " [ 14   0  12   4   1  11  58   0  75  54]\n",
      " [ 10   0   6   1   0   3   7   0  25   6]\n",
      " [ 65   0  51  28   0   6  26   0 647  34]\n",
      " [ 17   0   6   3   0   4  26   0 113  82]]\n"
     ]
    },
    {
     "name": "stderr",
     "output_type": "stream",
     "text": [
      "C:\\Users\\ravic\\anaconda3\\lib\\site-packages\\sklearn\\metrics\\_classification.py:1318: UndefinedMetricWarning: Precision and F-score are ill-defined and being set to 0.0 in labels with no predicted samples. Use `zero_division` parameter to control this behavior.\n",
      "  _warn_prf(average, modifier, msg_start, len(result))\n",
      "C:\\Users\\ravic\\anaconda3\\lib\\site-packages\\sklearn\\metrics\\_classification.py:1318: UndefinedMetricWarning: Precision and F-score are ill-defined and being set to 0.0 in labels with no predicted samples. Use `zero_division` parameter to control this behavior.\n",
      "  _warn_prf(average, modifier, msg_start, len(result))\n",
      "C:\\Users\\ravic\\anaconda3\\lib\\site-packages\\sklearn\\metrics\\_classification.py:1318: UndefinedMetricWarning: Precision and F-score are ill-defined and being set to 0.0 in labels with no predicted samples. Use `zero_division` parameter to control this behavior.\n",
      "  _warn_prf(average, modifier, msg_start, len(result))\n"
     ]
    }
   ],
   "source": [
    "#printing results of the kmodel\n",
    "y_predict = kmodel.predict(Ftest)\n",
    "class_names = target.unique()\n",
    "print(classification_report(Ltest, y_predict, target_names=class_names))\n",
    "print(confusion_matrix(Ltest, y_predict))"
   ]
  },
  {
   "cell_type": "markdown",
   "id": "71f3ea86",
   "metadata": {},
   "source": [
    "# Logistic on Green channel data"
   ]
  },
  {
   "cell_type": "code",
   "execution_count": 58,
   "id": "28dad6b2",
   "metadata": {},
   "outputs": [
    {
     "data": {
      "text/plain": [
       "0.2917096663226694"
      ]
     },
     "execution_count": 58,
     "metadata": {},
     "output_type": "execute_result"
    }
   ],
   "source": [
    "model.fit(Ftrain,Ltrain)\n",
    "model.score(Ftest,Ltest)"
   ]
  },
  {
   "cell_type": "code",
   "execution_count": 59,
   "id": "3c0993f1",
   "metadata": {},
   "outputs": [
    {
     "name": "stdout",
     "output_type": "stream",
     "text": [
      "                               precision    recall  f1-score   support\n",
      "\n",
      "               bacterial_spot       0.35      0.38      0.36       349\n",
      "                 early_blight       0.00      0.00      0.00       182\n",
      "                      healthy       0.15      0.04      0.06       258\n",
      "                  late_blight       0.75      0.03      0.05       316\n",
      "                    leaf_mold       0.28      0.06      0.09       145\n",
      "           septoria_leaf_spot       0.47      0.29      0.36       262\n",
      "                  target_spot       0.00      0.00      0.00       229\n",
      "          tomato_mosaic_virus       0.00      0.00      0.00        58\n",
      "tomato_yellow_leaf_curl_virus       0.29      0.69      0.41       857\n",
      "      two-spotted_spider_mite       0.12      0.09      0.10       251\n",
      "\n",
      "                     accuracy                           0.29      2907\n",
      "                    macro avg       0.24      0.16      0.14      2907\n",
      "                 weighted avg       0.29      0.29      0.22      2907\n",
      "\n",
      "[[131   1   5   0   0   4   0   0 196  12]\n",
      " [ 45   0   0   0   5   4   0   0 102  26]\n",
      " [  1   0  10   0   0   1   0   0 246   0]\n",
      " [ 21   3  17   9  13  27   0   0 199  27]\n",
      " [  8   0   1   0   8   5   0   0 119   4]\n",
      " [  0   0   5   1   3  76   0   0 160  17]\n",
      " [ 10   0   0   0   0   2   0   0 201  16]\n",
      " [  3   0   0   0   0   1   0   0  53   1]\n",
      " [128   0  29   2   0  39   0   0 591  68]\n",
      " [ 30   0   1   0   0   3   0   0 194  23]]\n"
     ]
    },
    {
     "name": "stderr",
     "output_type": "stream",
     "text": [
      "C:\\Users\\ravic\\anaconda3\\lib\\site-packages\\sklearn\\metrics\\_classification.py:1318: UndefinedMetricWarning: Precision and F-score are ill-defined and being set to 0.0 in labels with no predicted samples. Use `zero_division` parameter to control this behavior.\n",
      "  _warn_prf(average, modifier, msg_start, len(result))\n",
      "C:\\Users\\ravic\\anaconda3\\lib\\site-packages\\sklearn\\metrics\\_classification.py:1318: UndefinedMetricWarning: Precision and F-score are ill-defined and being set to 0.0 in labels with no predicted samples. Use `zero_division` parameter to control this behavior.\n",
      "  _warn_prf(average, modifier, msg_start, len(result))\n",
      "C:\\Users\\ravic\\anaconda3\\lib\\site-packages\\sklearn\\metrics\\_classification.py:1318: UndefinedMetricWarning: Precision and F-score are ill-defined and being set to 0.0 in labels with no predicted samples. Use `zero_division` parameter to control this behavior.\n",
      "  _warn_prf(average, modifier, msg_start, len(result))\n"
     ]
    }
   ],
   "source": [
    "#classification report\n",
    "y_predict = model.predict(Ftest)\n",
    "class_names = target.unique()\n",
    "print(classification_report(Ltest, y_predict, target_names=class_names))\n",
    "print(confusion_matrix(Ltest, y_predict))"
   ]
  },
  {
   "cell_type": "markdown",
   "id": "f62f0223",
   "metadata": {},
   "source": [
    "# SVM on green channel data"
   ]
  },
  {
   "cell_type": "code",
   "execution_count": 60,
   "id": "e89e7297",
   "metadata": {},
   "outputs": [
    {
     "name": "stdout",
     "output_type": "stream",
     "text": [
      "0.29480564155486755\n"
     ]
    }
   ],
   "source": [
    "clf.fit(Ftrain,Ltrain)\n",
    "y_pred = clf.predict(Ftest)\n",
    "print(accuracy_score(Ltest,y_pred))"
   ]
  },
  {
   "cell_type": "code",
   "execution_count": 61,
   "id": "aaec32cf",
   "metadata": {},
   "outputs": [
    {
     "name": "stdout",
     "output_type": "stream",
     "text": [
      "                               precision    recall  f1-score   support\n",
      "\n",
      "               bacterial_spot       0.00      0.00      0.00       349\n",
      "                 early_blight       0.00      0.00      0.00       182\n",
      "                      healthy       0.00      0.00      0.00       258\n",
      "                  late_blight       0.00      0.00      0.00       316\n",
      "                    leaf_mold       0.00      0.00      0.00       145\n",
      "           septoria_leaf_spot       0.00      0.00      0.00       262\n",
      "                  target_spot       0.00      0.00      0.00       229\n",
      "          tomato_mosaic_virus       0.00      0.00      0.00        58\n",
      "tomato_yellow_leaf_curl_virus       0.29      1.00      0.46       857\n",
      "      two-spotted_spider_mite       0.00      0.00      0.00       251\n",
      "\n",
      "                     accuracy                           0.29      2907\n",
      "                    macro avg       0.03      0.10      0.05      2907\n",
      "                 weighted avg       0.09      0.29      0.13      2907\n",
      "\n",
      "[[  0   0   0   0   0   0   0   0 349   0]\n",
      " [  0   0   0   0   0   0   0   0 182   0]\n",
      " [  0   0   0   0   0   0   0   0 258   0]\n",
      " [  0   0   0   0   0   0   0   0 316   0]\n",
      " [  0   0   0   0   0   0   0   0 145   0]\n",
      " [  0   0   0   0   0   0   0   0 262   0]\n",
      " [  0   0   0   0   0   0   0   0 229   0]\n",
      " [  0   0   0   0   0   0   0   0  58   0]\n",
      " [  0   0   0   0   0   0   0   0 857   0]\n",
      " [  0   0   0   0   0   0   0   0 251   0]]\n"
     ]
    },
    {
     "name": "stderr",
     "output_type": "stream",
     "text": [
      "C:\\Users\\ravic\\anaconda3\\lib\\site-packages\\sklearn\\metrics\\_classification.py:1318: UndefinedMetricWarning: Precision and F-score are ill-defined and being set to 0.0 in labels with no predicted samples. Use `zero_division` parameter to control this behavior.\n",
      "  _warn_prf(average, modifier, msg_start, len(result))\n",
      "C:\\Users\\ravic\\anaconda3\\lib\\site-packages\\sklearn\\metrics\\_classification.py:1318: UndefinedMetricWarning: Precision and F-score are ill-defined and being set to 0.0 in labels with no predicted samples. Use `zero_division` parameter to control this behavior.\n",
      "  _warn_prf(average, modifier, msg_start, len(result))\n",
      "C:\\Users\\ravic\\anaconda3\\lib\\site-packages\\sklearn\\metrics\\_classification.py:1318: UndefinedMetricWarning: Precision and F-score are ill-defined and being set to 0.0 in labels with no predicted samples. Use `zero_division` parameter to control this behavior.\n",
      "  _warn_prf(average, modifier, msg_start, len(result))\n"
     ]
    }
   ],
   "source": [
    "#classification report\n",
    "y_predict = clf.predict(Ftest)\n",
    "class_names = target.unique()\n",
    "print(classification_report(Ltest, y_predict, target_names=class_names))\n",
    "print(confusion_matrix(Ltest, y_predict))"
   ]
  },
  {
   "cell_type": "markdown",
   "id": "4f8e565e",
   "metadata": {},
   "source": [
    "# Random Forest on green channel data"
   ]
  },
  {
   "cell_type": "code",
   "execution_count": 62,
   "id": "96c92f8f",
   "metadata": {},
   "outputs": [
    {
     "data": {
      "text/plain": [
       "0.405970406056435"
      ]
     },
     "execution_count": 62,
     "metadata": {},
     "output_type": "execute_result"
    }
   ],
   "source": [
    "classifier_rf.fit(Ftrain, Ltrain)\n",
    "classifier_rf.oob_score_"
   ]
  },
  {
   "cell_type": "code",
   "execution_count": 63,
   "id": "a855ce64",
   "metadata": {},
   "outputs": [
    {
     "name": "stdout",
     "output_type": "stream",
     "text": [
      "                               precision    recall  f1-score   support\n",
      "\n",
      "               bacterial_spot       0.38      0.10      0.16       349\n",
      "                 early_blight       1.00      0.01      0.01       182\n",
      "                      healthy       0.53      0.07      0.13       258\n",
      "                  late_blight       0.63      0.16      0.25       316\n",
      "                    leaf_mold       0.53      0.06      0.11       145\n",
      "           septoria_leaf_spot       0.55      0.39      0.46       262\n",
      "                  target_spot       0.50      0.02      0.03       229\n",
      "          tomato_mosaic_virus       0.00      0.00      0.00        58\n",
      "tomato_yellow_leaf_curl_virus       0.36      0.92      0.51       857\n",
      "      two-spotted_spider_mite       0.32      0.34      0.33       251\n",
      "\n",
      "                     accuracy                           0.38      2907\n",
      "                    macro avg       0.48      0.21      0.20      2907\n",
      "                 weighted avg       0.47      0.38      0.29      2907\n",
      "\n",
      "[[ 36   0   0   0   0   2   0   0 308   3]\n",
      " [ 15   1   1  16   1   4   3   0 116  25]\n",
      " [  0   0  19   0   1   1   0   0 224  13]\n",
      " [  1   0   7  49   2  30   0   0 206  21]\n",
      " [  2   0   0  10   9  10   0   0 107   7]\n",
      " [  0   0   2   3   2 102   0   0 134  19]\n",
      " [  4   0   1   0   1  13   4   0 136  70]\n",
      " [  2   0   2   0   0   2   0   0  47   5]\n",
      " [ 31   0   4   0   0  12   1   0 789  20]\n",
      " [  4   0   0   0   1   8   0   0 153  85]]\n"
     ]
    },
    {
     "name": "stderr",
     "output_type": "stream",
     "text": [
      "C:\\Users\\ravic\\anaconda3\\lib\\site-packages\\sklearn\\metrics\\_classification.py:1318: UndefinedMetricWarning: Precision and F-score are ill-defined and being set to 0.0 in labels with no predicted samples. Use `zero_division` parameter to control this behavior.\n",
      "  _warn_prf(average, modifier, msg_start, len(result))\n",
      "C:\\Users\\ravic\\anaconda3\\lib\\site-packages\\sklearn\\metrics\\_classification.py:1318: UndefinedMetricWarning: Precision and F-score are ill-defined and being set to 0.0 in labels with no predicted samples. Use `zero_division` parameter to control this behavior.\n",
      "  _warn_prf(average, modifier, msg_start, len(result))\n",
      "C:\\Users\\ravic\\anaconda3\\lib\\site-packages\\sklearn\\metrics\\_classification.py:1318: UndefinedMetricWarning: Precision and F-score are ill-defined and being set to 0.0 in labels with no predicted samples. Use `zero_division` parameter to control this behavior.\n",
      "  _warn_prf(average, modifier, msg_start, len(result))\n"
     ]
    }
   ],
   "source": [
    "#classification report on green channel data\n",
    "y_predict = classifier_rf.predict(Ftest)\n",
    "class_names = target.unique()\n",
    "print(classification_report(Ltest, y_predict, target_names=class_names))\n",
    "print(confusion_matrix(Ltest, y_predict))"
   ]
  },
  {
   "cell_type": "markdown",
   "id": "e9b1cca9",
   "metadata": {},
   "source": [
    "# Naive bayes on Green channel data"
   ]
  },
  {
   "cell_type": "code",
   "execution_count": 64,
   "id": "1136802c",
   "metadata": {},
   "outputs": [
    {
     "data": {
      "text/plain": [
       "0.3113175094599243"
      ]
     },
     "execution_count": 64,
     "metadata": {},
     "output_type": "execute_result"
    }
   ],
   "source": [
    "gnb.fit(Ftrain, Ltrain)\n",
    "GaussianNB()\n",
    "y_pred = gnb.predict(Ftest)\n",
    "metrics.accuracy_score(Ltest, y_pred)"
   ]
  },
  {
   "cell_type": "code",
   "execution_count": 65,
   "id": "08e6f602",
   "metadata": {},
   "outputs": [
    {
     "name": "stdout",
     "output_type": "stream",
     "text": [
      "                               precision    recall  f1-score   support\n",
      "\n",
      "               bacterial_spot       0.36      0.26      0.30       349\n",
      "                 early_blight       0.11      0.30      0.16       182\n",
      "                      healthy       0.42      0.31      0.36       258\n",
      "                  late_blight       0.21      0.28      0.24       316\n",
      "                    leaf_mold       0.48      0.08      0.13       145\n",
      "           septoria_leaf_spot       0.40      0.28      0.33       262\n",
      "                  target_spot       0.29      0.19      0.23       229\n",
      "          tomato_mosaic_virus       0.00      0.00      0.00        58\n",
      "tomato_yellow_leaf_curl_virus       0.41      0.50      0.45       857\n",
      "      two-spotted_spider_mite       0.22      0.14      0.17       251\n",
      "\n",
      "                     accuracy                           0.31      2907\n",
      "                    macro avg       0.29      0.23      0.24      2907\n",
      "                 weighted avg       0.33      0.31      0.31      2907\n",
      "\n",
      "[[ 90  83   6  23   0   4   7   0 126  10]\n",
      " [ 24  54   4  17   2   3  10   0  54  14]\n",
      " [  1  14  81  40   1  13  10   0  97   1]\n",
      " [  5  53  43  90   5  21   8   0  79  12]\n",
      " [ 13  19   3  18  11  11   3   0  64   3]\n",
      " [  0  16  21  84   1  74   7   0  58   1]\n",
      " [  5  64   0  22   2  10  43   0  44  39]\n",
      " [  6   8   3   5   0   4   4   0  24   4]\n",
      " [ 92 121  31 103   1  34  11   0 427  37]\n",
      " [ 11  60   0  22   0  10  44   0  69  35]]\n"
     ]
    },
    {
     "name": "stderr",
     "output_type": "stream",
     "text": [
      "C:\\Users\\ravic\\anaconda3\\lib\\site-packages\\sklearn\\metrics\\_classification.py:1318: UndefinedMetricWarning: Precision and F-score are ill-defined and being set to 0.0 in labels with no predicted samples. Use `zero_division` parameter to control this behavior.\n",
      "  _warn_prf(average, modifier, msg_start, len(result))\n",
      "C:\\Users\\ravic\\anaconda3\\lib\\site-packages\\sklearn\\metrics\\_classification.py:1318: UndefinedMetricWarning: Precision and F-score are ill-defined and being set to 0.0 in labels with no predicted samples. Use `zero_division` parameter to control this behavior.\n",
      "  _warn_prf(average, modifier, msg_start, len(result))\n",
      "C:\\Users\\ravic\\anaconda3\\lib\\site-packages\\sklearn\\metrics\\_classification.py:1318: UndefinedMetricWarning: Precision and F-score are ill-defined and being set to 0.0 in labels with no predicted samples. Use `zero_division` parameter to control this behavior.\n",
      "  _warn_prf(average, modifier, msg_start, len(result))\n"
     ]
    }
   ],
   "source": [
    "#classification report of naive bayes\n",
    "class_names = target.unique()\n",
    "print(classification_report(Ltest, y_pred, target_names=class_names))\n",
    "print(confusion_matrix(Ltest, y_pred))"
   ]
  },
  {
   "cell_type": "markdown",
   "id": "ad497b39",
   "metadata": {},
   "source": [
    "# Decision Tree on Green channel"
   ]
  },
  {
   "cell_type": "code",
   "execution_count": 66,
   "id": "458fe744",
   "metadata": {},
   "outputs": [
    {
     "data": {
      "text/plain": [
       "0.304437564499484"
      ]
     },
     "execution_count": 66,
     "metadata": {},
     "output_type": "execute_result"
    }
   ],
   "source": [
    "classifier_tree.fit(Ftrain, Ltrain)\n",
    "classifier_tree.score(Ftest,Ltest)"
   ]
  },
  {
   "cell_type": "code",
   "execution_count": 67,
   "id": "60ea8164",
   "metadata": {},
   "outputs": [
    {
     "name": "stdout",
     "output_type": "stream",
     "text": [
      "                               precision    recall  f1-score   support\n",
      "\n",
      "               bacterial_spot       0.26      0.23      0.24       349\n",
      "                 early_blight       0.16      0.21      0.18       182\n",
      "                      healthy       0.43      0.22      0.29       258\n",
      "                  late_blight       0.22      0.35      0.27       316\n",
      "                    leaf_mold       0.19      0.13      0.16       145\n",
      "           septoria_leaf_spot       0.31      0.37      0.34       262\n",
      "                  target_spot       0.19      0.19      0.19       229\n",
      "          tomato_mosaic_virus       0.11      0.09      0.10        58\n",
      "tomato_yellow_leaf_curl_virus       0.47      0.45      0.46       857\n",
      "      two-spotted_spider_mite       0.21      0.20      0.20       251\n",
      "\n",
      "                     accuracy                           0.30      2907\n",
      "                    macro avg       0.26      0.24      0.24      2907\n",
      "                 weighted avg       0.32      0.30      0.30      2907\n",
      "\n",
      "[[ 79  34  10  60   6  16  21   2  98  23]\n",
      " [ 14  38   3  30   7   7  17   2  42  22]\n",
      " [ 21   2  57  47   6  32  20   4  54  15]\n",
      " [ 24  24  18 110  14  42  17   3  50  14]\n",
      " [ 15  10  13  10  19  17   8   5  32  16]\n",
      " [ 16  10   3  49   4  98  16   3  54   9]\n",
      " [ 10  32   5  43   8  14  43   3  39  32]\n",
      " [  3   2   5   6   2   5   4   5  14  12]\n",
      " [102  65  15 102  28  70  36  14 387  38]\n",
      " [ 16  21   4  40   6  16  39   4  56  49]]\n"
     ]
    }
   ],
   "source": [
    "#classification report of green channel data\n",
    "y_predict = classifier_tree.predict(Ftest)\n",
    "class_names = target.unique()\n",
    "print(classification_report(Ltest, y_predict, target_names=class_names))\n",
    "print(confusion_matrix(Ltest, y_predict))"
   ]
  },
  {
   "cell_type": "markdown",
   "id": "75817642",
   "metadata": {},
   "source": [
    "# KNN on blue channel data"
   ]
  },
  {
   "cell_type": "code",
   "execution_count": 68,
   "id": "531e3624",
   "metadata": {},
   "outputs": [
    {
     "data": {
      "text/plain": [
       "0.5266597867217062"
      ]
     },
     "execution_count": 68,
     "metadata": {},
     "output_type": "execute_result"
    }
   ],
   "source": [
    "#reading numpy array data\n",
    "os.chdir('D://DKIT//dissertation//Dataset_of_Tomato_Leaves//plantvillage//Preprocessed_data//32//PCA//')\n",
    "features = pd.read_csv('blue.csv')\n",
    "#reading csv file\n",
    "os.chdir('D://DKIT//dissertation//Dataset_of_Tomato_Leaves//plantvillage//Preprocessed_data//32//vector//')\n",
    "blue_df = pd.read_csv('blue_data.csv')\n",
    "#assigning target\n",
    "target = blue_df['disease']\n",
    "#splitting the data\n",
    "Ftrain,Ftest,Ltrain,Ltest=train_test_split(features,target, test_size=0.20, random_state=20)\n",
    "#scaling the data using minmax\n",
    "Ftrain = minmax.fit_transform(Ftrain)\n",
    "Ftest = minmax.fit_transform(Ftest)\n",
    "#fitting the model\n",
    "kmodel.fit(Ftrain,Ltrain)\n",
    "kmodel.score(Ftest,Ltest)"
   ]
  },
  {
   "cell_type": "code",
   "execution_count": 69,
   "id": "1314e157",
   "metadata": {},
   "outputs": [
    {
     "name": "stdout",
     "output_type": "stream",
     "text": [
      "                               precision    recall  f1-score   support\n",
      "\n",
      "               bacterial_spot       0.60      0.28      0.38       349\n",
      "                 early_blight       0.50      0.03      0.06       182\n",
      "                      healthy       0.56      0.69      0.62       258\n",
      "                  late_blight       0.64      0.37      0.47       316\n",
      "                    leaf_mold       0.61      0.50      0.55       145\n",
      "           septoria_leaf_spot       0.45      0.58      0.51       262\n",
      "                  target_spot       0.30      0.38      0.33       229\n",
      "          tomato_mosaic_virus       0.00      0.00      0.00        58\n",
      "tomato_yellow_leaf_curl_virus       0.65      0.84      0.73       857\n",
      "      two-spotted_spider_mite       0.28      0.43      0.34       251\n",
      "\n",
      "                     accuracy                           0.53      2907\n",
      "                    macro avg       0.46      0.41      0.40      2907\n",
      "                 weighted avg       0.53      0.53      0.50      2907\n",
      "\n",
      "[[ 97   0  20   6   2   5  34   1 135  49]\n",
      " [  8   6  10   7  10  18  21   1  78  23]\n",
      " [  1   0 177  36   5   7  16   1   0  15]\n",
      " [  1   2  42 116  13  41  25   0  52  24]\n",
      " [  0   1   9   5  72  32   5   0   8  13]\n",
      " [  3   1  11   3  11 153  16   0  40  24]\n",
      " [  3   0  25   4   2  31  86   1   7  70]\n",
      " [  0   0   6   0   0  14  14   0   2  22]\n",
      " [ 36   2   3   4   3  28  21   0 716  44]\n",
      " [ 14   0  11   0   0  13  47   0  58 108]]\n"
     ]
    }
   ],
   "source": [
    "#printing results of the kmodel\n",
    "y_predict = kmodel.fit(Ftrain, Ltrain).predict(Ftest)\n",
    "class_names = target.unique()\n",
    "print(classification_report(Ltest, y_predict, target_names=class_names))\n",
    "print(confusion_matrix(Ltest, y_predict))"
   ]
  },
  {
   "cell_type": "markdown",
   "id": "f452a113",
   "metadata": {},
   "source": [
    "# logistic on blue channel data"
   ]
  },
  {
   "cell_type": "code",
   "execution_count": 70,
   "id": "de158586",
   "metadata": {},
   "outputs": [
    {
     "data": {
      "text/plain": [
       "0.43412452700378396"
      ]
     },
     "execution_count": 70,
     "metadata": {},
     "output_type": "execute_result"
    }
   ],
   "source": [
    "model.fit(Ftrain,Ltrain)\n",
    "model.score(Ftest,Ltest)"
   ]
  },
  {
   "cell_type": "code",
   "execution_count": 71,
   "id": "489ce7e9",
   "metadata": {},
   "outputs": [
    {
     "name": "stdout",
     "output_type": "stream",
     "text": [
      "                               precision    recall  f1-score   support\n",
      "\n",
      "               bacterial_spot       0.45      0.12      0.19       349\n",
      "                 early_blight       0.00      0.00      0.00       182\n",
      "                      healthy       0.48      0.60      0.54       258\n",
      "                  late_blight       0.29      0.19      0.23       316\n",
      "                    leaf_mold       0.62      0.39      0.48       145\n",
      "           septoria_leaf_spot       0.22      0.71      0.34       262\n",
      "                  target_spot       0.15      0.04      0.06       229\n",
      "          tomato_mosaic_virus       0.00      0.00      0.00        58\n",
      "tomato_yellow_leaf_curl_virus       0.60      0.87      0.71       857\n",
      "      two-spotted_spider_mite       0.16      0.05      0.07       251\n",
      "\n",
      "                     accuracy                           0.43      2907\n",
      "                    macro avg       0.30      0.30      0.26      2907\n",
      "                 weighted avg       0.38      0.43      0.37      2907\n",
      "\n",
      "[[ 42   0  11  34   2  25   3   0 211  21]\n",
      " [  8   0   7  14   4  57   4   0  85   3]\n",
      " [  0   0 155  40   1  41  15   0   1   5]\n",
      " [  8   0  92  61  16  81   9   0  45   4]\n",
      " [  0   0   6  13  56  50   6   0  14   0]\n",
      " [  1   0   7   7   7 185   5   0  43   7]\n",
      " [  2   0  30  15   1 152   9   0   9  11]\n",
      " [  0   0   3   6   0  41   2   0   4   2]\n",
      " [ 21   0   3  10   3  65   2   0 742  11]\n",
      " [ 11   0   7  10   0 133   5   0  73  12]]\n"
     ]
    },
    {
     "name": "stderr",
     "output_type": "stream",
     "text": [
      "C:\\Users\\ravic\\anaconda3\\lib\\site-packages\\sklearn\\metrics\\_classification.py:1318: UndefinedMetricWarning: Precision and F-score are ill-defined and being set to 0.0 in labels with no predicted samples. Use `zero_division` parameter to control this behavior.\n",
      "  _warn_prf(average, modifier, msg_start, len(result))\n",
      "C:\\Users\\ravic\\anaconda3\\lib\\site-packages\\sklearn\\metrics\\_classification.py:1318: UndefinedMetricWarning: Precision and F-score are ill-defined and being set to 0.0 in labels with no predicted samples. Use `zero_division` parameter to control this behavior.\n",
      "  _warn_prf(average, modifier, msg_start, len(result))\n",
      "C:\\Users\\ravic\\anaconda3\\lib\\site-packages\\sklearn\\metrics\\_classification.py:1318: UndefinedMetricWarning: Precision and F-score are ill-defined and being set to 0.0 in labels with no predicted samples. Use `zero_division` parameter to control this behavior.\n",
      "  _warn_prf(average, modifier, msg_start, len(result))\n"
     ]
    }
   ],
   "source": [
    "#classification report\n",
    "y_predict = model.fit(Ftrain, Ltrain).predict(Ftest)\n",
    "class_names = target.unique()\n",
    "print(classification_report(Ltest, y_predict, target_names=class_names))\n",
    "print(confusion_matrix(Ltest, y_predict))"
   ]
  },
  {
   "cell_type": "markdown",
   "id": "c7585c1d",
   "metadata": {},
   "source": [
    "# SVM on blue channel data"
   ]
  },
  {
   "cell_type": "code",
   "execution_count": 72,
   "id": "06fb4a0f",
   "metadata": {},
   "outputs": [
    {
     "name": "stdout",
     "output_type": "stream",
     "text": [
      "0.44203646370829036\n"
     ]
    }
   ],
   "source": [
    "clf.fit(Ftrain,Ltrain)\n",
    "y_pred = clf.predict(Ftest)\n",
    "print(accuracy_score(Ltest,y_pred))"
   ]
  },
  {
   "cell_type": "code",
   "execution_count": 73,
   "id": "03a12a5f",
   "metadata": {},
   "outputs": [
    {
     "name": "stdout",
     "output_type": "stream",
     "text": [
      "                               precision    recall  f1-score   support\n",
      "\n",
      "               bacterial_spot       0.44      0.13      0.20       349\n",
      "                 early_blight       0.00      0.00      0.00       182\n",
      "                      healthy       0.45      0.71      0.55       258\n",
      "                  late_blight       0.35      0.12      0.18       316\n",
      "                    leaf_mold       0.54      0.34      0.42       145\n",
      "           septoria_leaf_spot       0.23      0.68      0.35       262\n",
      "                  target_spot       0.23      0.13      0.16       229\n",
      "          tomato_mosaic_virus       0.00      0.00      0.00        58\n",
      "tomato_yellow_leaf_curl_virus       0.62      0.86      0.72       857\n",
      "      two-spotted_spider_mite       0.21      0.10      0.14       251\n",
      "\n",
      "                     accuracy                           0.44      2907\n",
      "                    macro avg       0.31      0.31      0.27      2907\n",
      "                 weighted avg       0.40      0.44      0.38      2907\n",
      "\n",
      "[[ 44   0  17  22   1  17   9   0 201  38]\n",
      " [ 10   0  11   8   5  55   6   0  80   7]\n",
      " [  1   0 183  13   2  30  26   0   1   2]\n",
      " [  9   0 112  39  20  75  14   0  44   3]\n",
      " [  0   0  14   5  50  57   6   0  11   2]\n",
      " [  1   0  12   4   9 177  10   0  41   8]\n",
      " [  3   0  37   7   2 131  29   0   7  13]\n",
      " [  0   0   5   4   0  37   5   0   2   5]\n",
      " [ 22   0   5   4   3  61   8   0 737  17]\n",
      " [ 11   0  12   4   0 116  11   0  71  26]]\n"
     ]
    },
    {
     "name": "stderr",
     "output_type": "stream",
     "text": [
      "C:\\Users\\ravic\\anaconda3\\lib\\site-packages\\sklearn\\metrics\\_classification.py:1318: UndefinedMetricWarning: Precision and F-score are ill-defined and being set to 0.0 in labels with no predicted samples. Use `zero_division` parameter to control this behavior.\n",
      "  _warn_prf(average, modifier, msg_start, len(result))\n",
      "C:\\Users\\ravic\\anaconda3\\lib\\site-packages\\sklearn\\metrics\\_classification.py:1318: UndefinedMetricWarning: Precision and F-score are ill-defined and being set to 0.0 in labels with no predicted samples. Use `zero_division` parameter to control this behavior.\n",
      "  _warn_prf(average, modifier, msg_start, len(result))\n",
      "C:\\Users\\ravic\\anaconda3\\lib\\site-packages\\sklearn\\metrics\\_classification.py:1318: UndefinedMetricWarning: Precision and F-score are ill-defined and being set to 0.0 in labels with no predicted samples. Use `zero_division` parameter to control this behavior.\n",
      "  _warn_prf(average, modifier, msg_start, len(result))\n"
     ]
    }
   ],
   "source": [
    "#classification report\n",
    "y_predict = clf.fit(Ftrain, Ltrain).predict(Ftest)\n",
    "class_names = target.unique()\n",
    "print(classification_report(Ltest, y_predict, target_names=class_names))\n",
    "print(confusion_matrix(Ltest, y_predict))"
   ]
  },
  {
   "cell_type": "markdown",
   "id": "f4eb8c6c",
   "metadata": {},
   "source": [
    "# Random Forest on blue channel data"
   ]
  },
  {
   "cell_type": "code",
   "execution_count": 74,
   "id": "b71407b2",
   "metadata": {},
   "outputs": [
    {
     "data": {
      "text/plain": [
       "0.5034411562284927"
      ]
     },
     "execution_count": 74,
     "metadata": {},
     "output_type": "execute_result"
    }
   ],
   "source": [
    "classifier_rf.fit(Ftrain, Ltrain)\n",
    "classifier_rf.oob_score_"
   ]
  },
  {
   "cell_type": "code",
   "execution_count": 75,
   "id": "f7d75463",
   "metadata": {},
   "outputs": [
    {
     "name": "stdout",
     "output_type": "stream",
     "text": [
      "                               precision    recall  f1-score   support\n",
      "\n",
      "               bacterial_spot       0.49      0.24      0.32       349\n",
      "                 early_blight       0.00      0.00      0.00       182\n",
      "                      healthy       0.44      0.69      0.53       258\n",
      "                  late_blight       0.68      0.16      0.26       316\n",
      "                    leaf_mold       0.62      0.33      0.43       145\n",
      "           septoria_leaf_spot       0.28      0.71      0.40       262\n",
      "                  target_spot       0.21      0.05      0.08       229\n",
      "          tomato_mosaic_virus       0.00      0.00      0.00        58\n",
      "tomato_yellow_leaf_curl_virus       0.68      0.79      0.73       857\n",
      "      two-spotted_spider_mite       0.20      0.37      0.26       251\n",
      "\n",
      "                     accuracy                           0.46      2907\n",
      "                    macro avg       0.36      0.33      0.30      2907\n",
      "                 weighted avg       0.46      0.46      0.42      2907\n",
      "\n",
      "[[ 84   0  34   3   1  15   2   0 134  76]\n",
      " [ 11   0  16  14   4  40   2   0  62  33]\n",
      " [  2   0 177   0   4  24  15   0   1  35]\n",
      " [  6   0 106  52   9  83   6   0  33  21]\n",
      " [  0   0   8   0  48  75   1   0   4   9]\n",
      " [  6   0   9   1   5 186   0   0  32  23]\n",
      " [  7   0  30   1   1  84  12   0   3  91]\n",
      " [  4   0   3   2   0  26   4   0   0  19]\n",
      " [ 32   0  13   3   6  54   7   0 677  65]\n",
      " [ 18   0   9   1   0  73   7   0  50  93]]\n"
     ]
    },
    {
     "name": "stderr",
     "output_type": "stream",
     "text": [
      "C:\\Users\\ravic\\anaconda3\\lib\\site-packages\\sklearn\\metrics\\_classification.py:1318: UndefinedMetricWarning: Precision and F-score are ill-defined and being set to 0.0 in labels with no predicted samples. Use `zero_division` parameter to control this behavior.\n",
      "  _warn_prf(average, modifier, msg_start, len(result))\n",
      "C:\\Users\\ravic\\anaconda3\\lib\\site-packages\\sklearn\\metrics\\_classification.py:1318: UndefinedMetricWarning: Precision and F-score are ill-defined and being set to 0.0 in labels with no predicted samples. Use `zero_division` parameter to control this behavior.\n",
      "  _warn_prf(average, modifier, msg_start, len(result))\n",
      "C:\\Users\\ravic\\anaconda3\\lib\\site-packages\\sklearn\\metrics\\_classification.py:1318: UndefinedMetricWarning: Precision and F-score are ill-defined and being set to 0.0 in labels with no predicted samples. Use `zero_division` parameter to control this behavior.\n",
      "  _warn_prf(average, modifier, msg_start, len(result))\n"
     ]
    }
   ],
   "source": [
    "#getting classification report\n",
    "y_predict = classifier_rf.predict(Ftest)\n",
    "class_names = target.unique()\n",
    "print(classification_report(Ltest, y_predict, target_names=class_names))\n",
    "print(confusion_matrix(Ltest, y_predict))"
   ]
  },
  {
   "cell_type": "markdown",
   "id": "fb1ca20e",
   "metadata": {},
   "source": [
    "# Naive bayes on blue channel data"
   ]
  },
  {
   "cell_type": "code",
   "execution_count": 76,
   "id": "11ea0b85",
   "metadata": {},
   "outputs": [
    {
     "data": {
      "text/plain": [
       "0.47058823529411764"
      ]
     },
     "execution_count": 76,
     "metadata": {},
     "output_type": "execute_result"
    }
   ],
   "source": [
    "gnb.fit(Ftrain, Ltrain)\n",
    "GaussianNB()\n",
    "y_pred = gnb.predict(Ftest)\n",
    "metrics.accuracy_score(Ltest, y_pred)"
   ]
  },
  {
   "cell_type": "code",
   "execution_count": 77,
   "id": "b8a32aab",
   "metadata": {},
   "outputs": [
    {
     "name": "stdout",
     "output_type": "stream",
     "text": [
      "                               precision    recall  f1-score   support\n",
      "\n",
      "               bacterial_spot       0.58      0.19      0.29       349\n",
      "                 early_blight       0.24      0.13      0.17       182\n",
      "                      healthy       0.58      0.62      0.60       258\n",
      "                  late_blight       0.39      0.27      0.32       316\n",
      "                    leaf_mold       0.54      0.52      0.53       145\n",
      "           septoria_leaf_spot       0.30      0.48      0.37       262\n",
      "                  target_spot       0.29      0.52      0.37       229\n",
      "          tomato_mosaic_virus       0.00      0.00      0.00        58\n",
      "tomato_yellow_leaf_curl_virus       0.67      0.77      0.72       857\n",
      "      two-spotted_spider_mite       0.20      0.20      0.20       251\n",
      "\n",
      "                     accuracy                           0.47      2907\n",
      "                    macro avg       0.38      0.37      0.36      2907\n",
      "                 weighted avg       0.47      0.47      0.45      2907\n",
      "\n",
      "[[ 67   2  14  10   4   6  31   0 154  61]\n",
      " [  8  23   4  12   8  19  29   0  60  19]\n",
      " [  0   0 161  17  11  18  50   0   1   0]\n",
      " [  2  27  80  86  18  46  23   0  23  11]\n",
      " [  0   7   3  11  75  34   6   0   6   3]\n",
      " [  4   3   3  55   9 125  15   0  30  18]\n",
      " [  3   2   8  13   5  51 119   0   5  23]\n",
      " [  2   0   0   7   1  21  17   0   0  10]\n",
      " [ 21  28   2   7   5  51  29   0 663  51]\n",
      " [  9   3   3   5   2  41  87   0  52  49]]\n"
     ]
    },
    {
     "name": "stderr",
     "output_type": "stream",
     "text": [
      "C:\\Users\\ravic\\anaconda3\\lib\\site-packages\\sklearn\\metrics\\_classification.py:1318: UndefinedMetricWarning: Precision and F-score are ill-defined and being set to 0.0 in labels with no predicted samples. Use `zero_division` parameter to control this behavior.\n",
      "  _warn_prf(average, modifier, msg_start, len(result))\n",
      "C:\\Users\\ravic\\anaconda3\\lib\\site-packages\\sklearn\\metrics\\_classification.py:1318: UndefinedMetricWarning: Precision and F-score are ill-defined and being set to 0.0 in labels with no predicted samples. Use `zero_division` parameter to control this behavior.\n",
      "  _warn_prf(average, modifier, msg_start, len(result))\n",
      "C:\\Users\\ravic\\anaconda3\\lib\\site-packages\\sklearn\\metrics\\_classification.py:1318: UndefinedMetricWarning: Precision and F-score are ill-defined and being set to 0.0 in labels with no predicted samples. Use `zero_division` parameter to control this behavior.\n",
      "  _warn_prf(average, modifier, msg_start, len(result))\n"
     ]
    }
   ],
   "source": [
    "#classification report of naive bayes\n",
    "class_names = target.unique()\n",
    "print(classification_report(Ltest, y_pred, target_names=class_names))\n",
    "print(confusion_matrix(Ltest, y_pred))"
   ]
  },
  {
   "cell_type": "markdown",
   "id": "f125f7c4",
   "metadata": {},
   "source": [
    "# Decision Tree on blue channel"
   ]
  },
  {
   "cell_type": "code",
   "execution_count": 78,
   "id": "88bfbe14",
   "metadata": {},
   "outputs": [
    {
     "data": {
      "text/plain": [
       "0.3629170966632267"
      ]
     },
     "execution_count": 78,
     "metadata": {},
     "output_type": "execute_result"
    }
   ],
   "source": [
    "classifier_tree.fit(Ftrain, Ltrain)\n",
    "classifier_tree.score(Ftest,Ltest)"
   ]
  },
  {
   "cell_type": "code",
   "execution_count": 79,
   "id": "6e2c73b8",
   "metadata": {},
   "outputs": [
    {
     "name": "stdout",
     "output_type": "stream",
     "text": [
      "                               precision    recall  f1-score   support\n",
      "\n",
      "               bacterial_spot       0.34      0.15      0.21       349\n",
      "                 early_blight       0.13      0.14      0.13       182\n",
      "                      healthy       0.55      0.34      0.42       258\n",
      "                  late_blight       0.31      0.36      0.33       316\n",
      "                    leaf_mold       0.29      0.28      0.28       145\n",
      "           septoria_leaf_spot       0.26      0.42      0.32       262\n",
      "                  target_spot       0.21      0.26      0.23       229\n",
      "          tomato_mosaic_virus       0.04      0.09      0.06        58\n",
      "tomato_yellow_leaf_curl_virus       0.63      0.60      0.62       857\n",
      "      two-spotted_spider_mite       0.18      0.16      0.17       251\n",
      "\n",
      "                     accuracy                           0.36      2907\n",
      "                    macro avg       0.29      0.28      0.28      2907\n",
      "                 weighted avg       0.39      0.36      0.37      2907\n",
      "\n",
      "[[ 52  15  14  18  13  23  43   9 123  39]\n",
      " [ 10  26   7  27   4  23  12   7  48  18]\n",
      " [  3   6  89  65   7  24  29  16   3  16]\n",
      " [ 13  24  29 114  18  43  28  10  26  11]\n",
      " [  2   7   4  27  41  37   9  11   3   4]\n",
      " [  3  13   3  37  19 111  12   8  38  18]\n",
      " [  5  19   8  24  13  42  59  21  16  22]\n",
      " [  2   2   2   5   0  17  11   5  10   4]\n",
      " [ 52  67   4  33  22  62  30  11 517  59]\n",
      " [ 13  26   3  15   6  43  44  23  37  41]]\n"
     ]
    }
   ],
   "source": [
    "#code for classification report\n",
    "y_predict = classifier_tree.predict(Ftest)\n",
    "class_names = target.unique()\n",
    "print(classification_report(Ltest, y_predict, target_names=class_names))\n",
    "print(confusion_matrix(Ltest, y_predict))"
   ]
  },
  {
   "cell_type": "code",
   "execution_count": 80,
   "id": "50b3d9c4",
   "metadata": {},
   "outputs": [],
   "source": [
    "end_time = time.time()\n",
    "time_taken = (end_time - start_time)/60"
   ]
  },
  {
   "cell_type": "code",
   "execution_count": 83,
   "id": "3ccf8669",
   "metadata": {},
   "outputs": [
    {
     "name": "stdout",
     "output_type": "stream",
     "text": [
      "Total minutes taken for code execution is:  0.7291720747947693\n"
     ]
    }
   ],
   "source": [
    "print('Total minutes taken for code execution is: ' ,time_taken)"
   ]
  }
 ],
 "metadata": {
  "kernelspec": {
   "display_name": "Python 3 (ipykernel)",
   "language": "python",
   "name": "python3"
  },
  "language_info": {
   "codemirror_mode": {
    "name": "ipython",
    "version": 3
   },
   "file_extension": ".py",
   "mimetype": "text/x-python",
   "name": "python",
   "nbconvert_exporter": "python",
   "pygments_lexer": "ipython3",
   "version": "3.9.12"
  }
 },
 "nbformat": 4,
 "nbformat_minor": 5
}
