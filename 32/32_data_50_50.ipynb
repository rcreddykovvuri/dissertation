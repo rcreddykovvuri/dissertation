{
 "cells": [
  {
   "cell_type": "code",
   "execution_count": 1,
   "id": "bcdb1517",
   "metadata": {},
   "outputs": [],
   "source": [
    "import numpy as np #importing numpy\n",
    "import pandas as pd #importing pandas\n",
    "import PIL #importing pillow for image processing\n",
    "from PIL import Image#importing image from pillow library\n",
    "import skimage#importing skimage library\n",
    "import os#importing os library\n",
    "import time#importing time library\n",
    "\n",
    "#Capture start time of the program\n",
    "start_time = time.time()"
   ]
  },
  {
   "cell_type": "code",
   "execution_count": 2,
   "id": "9ec45970",
   "metadata": {},
   "outputs": [],
   "source": [
    "#changing path\n",
    "os.chdir('D://DKIT//dissertation//Dataset_of_Tomato_Leaves//plantvillage//Preprocessed_data//32//vector//')"
   ]
  },
  {
   "cell_type": "markdown",
   "id": "7139bf53",
   "metadata": {},
   "source": [
    "# KNN on rgb data"
   ]
  },
  {
   "cell_type": "code",
   "execution_count": 3,
   "id": "9386938c",
   "metadata": {},
   "outputs": [],
   "source": [
    "#reading numpy array data\n",
    "rgb_test = np.load('rgb_data.npy')\n",
    "#reading csv file\n",
    "rgb_df = pd.read_csv('rgb_data.csv')"
   ]
  },
  {
   "cell_type": "code",
   "execution_count": 4,
   "id": "05aa0a40",
   "metadata": {},
   "outputs": [],
   "source": [
    "loaded = []\n",
    "for i in rgb_test:\n",
    "    k = []\n",
    "    k = np.asarray(i,dtype='uint8')\n",
    "    loaded.append(k)"
   ]
  },
  {
   "cell_type": "code",
   "execution_count": 5,
   "id": "c6d5658c",
   "metadata": {},
   "outputs": [],
   "source": [
    "#assigning features and target\n",
    "features = loaded\n",
    "target = rgb_df['disease']\n",
    "#splitting the data to 80 percent and 20 percent\n",
    "from sklearn.model_selection import train_test_split\n",
    "Ftrain,Ftest,Ltrain,Ltest=train_test_split(features,target, test_size=0.50, random_state=24)"
   ]
  },
  {
   "cell_type": "code",
   "execution_count": 6,
   "id": "6f1171c6",
   "metadata": {},
   "outputs": [],
   "source": [
    "#K-Model on the data\n",
    "from sklearn.neighbors import KNeighborsClassifier\n",
    "kmodel = KNeighborsClassifier(n_neighbors=120)"
   ]
  },
  {
   "cell_type": "code",
   "execution_count": 7,
   "id": "b9fdc978",
   "metadata": {},
   "outputs": [
    {
     "name": "stdout",
     "output_type": "stream",
     "text": [
      "0.5360583539774291\n"
     ]
    }
   ],
   "source": [
    "#k-model fitting and accuracy\n",
    "kmodel.fit(Ftrain,Ltrain)\n",
    "print(kmodel.score(Ftest,Ltest))"
   ]
  },
  {
   "cell_type": "code",
   "execution_count": 8,
   "id": "ee18e5c3",
   "metadata": {},
   "outputs": [],
   "source": [
    "#importing classification report and confusion matrix\n",
    "from sklearn.metrics import classification_report, confusion_matrix"
   ]
  },
  {
   "cell_type": "code",
   "execution_count": 9,
   "id": "bb8fbd00",
   "metadata": {},
   "outputs": [
    {
     "name": "stderr",
     "output_type": "stream",
     "text": [
      "C:\\Users\\ravic\\anaconda3\\lib\\site-packages\\sklearn\\metrics\\_classification.py:1248: UndefinedMetricWarning: Precision and F-score are ill-defined and being set to 0.0 in labels with no predicted samples. Use `zero_division` parameter to control this behavior.\n",
      "  _warn_prf(average, modifier, msg_start, len(result))\n",
      "C:\\Users\\ravic\\anaconda3\\lib\\site-packages\\sklearn\\metrics\\_classification.py:1248: UndefinedMetricWarning: Precision and F-score are ill-defined and being set to 0.0 in labels with no predicted samples. Use `zero_division` parameter to control this behavior.\n",
      "  _warn_prf(average, modifier, msg_start, len(result))\n"
     ]
    },
    {
     "name": "stdout",
     "output_type": "stream",
     "text": [
      "                               precision    recall  f1-score   support\n",
      "\n",
      "               bacterial_spot       0.38      0.77      0.51       904\n",
      "                 early_blight       0.00      0.00      0.00       396\n",
      "                      healthy       0.38      0.78      0.51       621\n",
      "                  late_blight       0.43      0.32      0.37       768\n",
      "                    leaf_mold       0.73      0.46      0.56       367\n",
      "           septoria_leaf_spot       0.68      0.29      0.40       699\n",
      "                  target_spot       0.51      0.14      0.22       567\n",
      "          tomato_mosaic_virus       0.58      0.08      0.14       136\n",
      "tomato_yellow_leaf_curl_virus       0.75      0.79      0.77      2119\n",
      "      two-spotted_spider_mite       0.52      0.49      0.50       689\n",
      "\n",
      "                     accuracy                           0.54      7266\n",
      "                    macro avg       0.50      0.41      0.40      7266\n",
      "                 weighted avg       0.55      0.54      0.50      7266\n",
      "\n",
      "[[ 698    0   90   37    0    0    0    0   74    5]\n",
      " [ 219    0   27   10    4    9   28    0   79   20]\n",
      " [  60    0  483   48    0    0    8    0    4   18]\n",
      " [ 126    0  185  247   23   61   11    1   84   30]\n",
      " [  36    0   60   50  168   10    1    1   28   13]\n",
      " [  46    0  138   91   28  200   17    5  107   67]\n",
      " [ 219    0  109   20    0    5   80    1   38   95]\n",
      " [  10    0   21   28    6    2    1   11   27   30]\n",
      " [ 264    0  124   14    0    7    0    0 1673   37]\n",
      " [ 162    0   44   23    1    2   10    0  112  335]]\n"
     ]
    },
    {
     "name": "stderr",
     "output_type": "stream",
     "text": [
      "C:\\Users\\ravic\\anaconda3\\lib\\site-packages\\sklearn\\metrics\\_classification.py:1248: UndefinedMetricWarning: Precision and F-score are ill-defined and being set to 0.0 in labels with no predicted samples. Use `zero_division` parameter to control this behavior.\n",
      "  _warn_prf(average, modifier, msg_start, len(result))\n"
     ]
    }
   ],
   "source": [
    "#printing results of the kmodel\n",
    "y_predict = kmodel.fit(Ftrain, Ltrain).predict(Ftest)\n",
    "class_names = target.unique()\n",
    "print(classification_report(Ltest, y_predict, target_names=class_names))\n",
    "print(confusion_matrix(Ltest, y_predict))"
   ]
  },
  {
   "cell_type": "markdown",
   "id": "d5c58638",
   "metadata": {},
   "source": [
    "# Logistic on rgb data"
   ]
  },
  {
   "cell_type": "code",
   "execution_count": 10,
   "id": "a84836ef",
   "metadata": {},
   "outputs": [
    {
     "name": "stdout",
     "output_type": "stream",
     "text": [
      "0.6245527112579136\n"
     ]
    },
    {
     "name": "stderr",
     "output_type": "stream",
     "text": [
      "C:\\Users\\ravic\\anaconda3\\lib\\site-packages\\sklearn\\linear_model\\_logistic.py:763: ConvergenceWarning: lbfgs failed to converge (status=1):\n",
      "STOP: TOTAL NO. of ITERATIONS REACHED LIMIT.\n",
      "\n",
      "Increase the number of iterations (max_iter) or scale the data as shown in:\n",
      "    https://scikit-learn.org/stable/modules/preprocessing.html\n",
      "Please also refer to the documentation for alternative solver options:\n",
      "    https://scikit-learn.org/stable/modules/linear_model.html#logistic-regression\n",
      "  n_iter_i = _check_optimize_result(\n"
     ]
    }
   ],
   "source": [
    "#importing logistic data\n",
    "from sklearn.linear_model import LogisticRegression\n",
    "model=LogisticRegression(solver='lbfgs', max_iter=10000)\n",
    "model.fit(Ftrain,Ltrain)\n",
    "print(model.score(Ftest,Ltest))"
   ]
  },
  {
   "cell_type": "code",
   "execution_count": 11,
   "id": "8a6e84a1",
   "metadata": {},
   "outputs": [
    {
     "name": "stderr",
     "output_type": "stream",
     "text": [
      "C:\\Users\\ravic\\anaconda3\\lib\\site-packages\\sklearn\\linear_model\\_logistic.py:763: ConvergenceWarning: lbfgs failed to converge (status=1):\n",
      "STOP: TOTAL NO. of ITERATIONS REACHED LIMIT.\n",
      "\n",
      "Increase the number of iterations (max_iter) or scale the data as shown in:\n",
      "    https://scikit-learn.org/stable/modules/preprocessing.html\n",
      "Please also refer to the documentation for alternative solver options:\n",
      "    https://scikit-learn.org/stable/modules/linear_model.html#logistic-regression\n",
      "  n_iter_i = _check_optimize_result(\n"
     ]
    },
    {
     "name": "stdout",
     "output_type": "stream",
     "text": [
      "                               precision    recall  f1-score   support\n",
      "\n",
      "               bacterial_spot       0.60      0.64      0.62       904\n",
      "                 early_blight       0.29      0.28      0.29       396\n",
      "                      healthy       0.60      0.58      0.59       621\n",
      "                  late_blight       0.53      0.49      0.51       768\n",
      "                    leaf_mold       0.57      0.55      0.56       367\n",
      "           septoria_leaf_spot       0.50      0.55      0.52       699\n",
      "                  target_spot       0.45      0.44      0.45       567\n",
      "          tomato_mosaic_virus       0.65      0.60      0.63       136\n",
      "tomato_yellow_leaf_curl_virus       0.84      0.86      0.85      2119\n",
      "      two-spotted_spider_mite       0.58      0.53      0.56       689\n",
      "\n",
      "                     accuracy                           0.62      7266\n",
      "                    macro avg       0.56      0.55      0.56      7266\n",
      "                 weighted avg       0.62      0.62      0.62      7266\n",
      "\n",
      "[[ 583   53   28   53    4   26   33    0  110   14]\n",
      " [  74  111   21   44   20   25   30    1   39   31]\n",
      " [  11   25  359   51    9   52   94    0    3   17]\n",
      " [  65   66   57  378   29   76   14    3   46   34]\n",
      " [  10   12   14   30  203   65    5    3   15   10]\n",
      " [  45   23   22   57   46  384   31   23   42   26]\n",
      " [  31   30   61   30   14   53  252    7    9   80]\n",
      " [   0    0    4    1   13   16    6   82    4   10]\n",
      " [ 117   28    3   39   12   50   10    1 1821   38]\n",
      " [  43   31   26   31    8   28   84    6   67  365]]\n"
     ]
    }
   ],
   "source": [
    "#classification report\n",
    "y_predict = model.fit(Ftrain, Ltrain).predict(Ftest)\n",
    "class_names = target.unique()\n",
    "print(classification_report(Ltest, y_predict, target_names=class_names))\n",
    "print(confusion_matrix(Ltest, y_predict))"
   ]
  },
  {
   "cell_type": "markdown",
   "id": "6fe194bc",
   "metadata": {},
   "source": [
    "# SVM(linear) on RGB data"
   ]
  },
  {
   "cell_type": "code",
   "execution_count": 12,
   "id": "2427ed51",
   "metadata": {},
   "outputs": [
    {
     "name": "stdout",
     "output_type": "stream",
     "text": [
      "0.7281860721167079\n"
     ]
    }
   ],
   "source": [
    "from sklearn.svm import SVC\n",
    "from sklearn.metrics import accuracy_score\n",
    "\n",
    "clf = SVC(kernel='linear')\n",
    "clf.fit(Ftrain,Ltrain)\n",
    "y_pred = clf.predict(Ftest)\n",
    "print(accuracy_score(Ltest,y_pred))"
   ]
  },
  {
   "cell_type": "code",
   "execution_count": 13,
   "id": "d3ce316a",
   "metadata": {},
   "outputs": [
    {
     "name": "stdout",
     "output_type": "stream",
     "text": [
      "                               precision    recall  f1-score   support\n",
      "\n",
      "               bacterial_spot       0.66      0.80      0.72       904\n",
      "                 early_blight       0.37      0.37      0.37       396\n",
      "                      healthy       0.78      0.79      0.79       621\n",
      "                  late_blight       0.61      0.60      0.60       768\n",
      "                    leaf_mold       0.67      0.60      0.63       367\n",
      "           septoria_leaf_spot       0.70      0.69      0.70       699\n",
      "                  target_spot       0.63      0.59      0.61       567\n",
      "          tomato_mosaic_virus       0.76      0.77      0.77       136\n",
      "tomato_yellow_leaf_curl_virus       0.89      0.89      0.89      2119\n",
      "      two-spotted_spider_mite       0.74      0.65      0.69       689\n",
      "\n",
      "                     accuracy                           0.73      7266\n",
      "                    macro avg       0.68      0.68      0.68      7266\n",
      "                 weighted avg       0.73      0.73      0.73      7266\n",
      "\n",
      "[[ 721   35   10   35    0    5    7    0   88    3]\n",
      " [  85  145    6   44   14   13   37    0   31   21]\n",
      " [  10   17  493   43    4   11   36    0    1    6]\n",
      " [  81   67   37  462   27   41    7    0   29   17]\n",
      " [   6   10   11   41  221   47    3    4   13   11]\n",
      " [   8   18   17   58   39  482   23   21   16   17]\n",
      " [  20   56   40    7    6   34  337    3    3   61]\n",
      " [   0    0    0    1    4   19    1  105    0    6]\n",
      " [ 142   13    1   42    3   13    8    0 1879   18]\n",
      " [  18   29   16   28   14   20   73    5   40  446]]\n"
     ]
    }
   ],
   "source": [
    "#classification report\n",
    "y_predict = clf.fit(Ftrain, Ltrain).predict(Ftest)\n",
    "class_names = target.unique()\n",
    "print(classification_report(Ltest, y_predict, target_names=class_names))\n",
    "print(confusion_matrix(Ltest, y_predict))"
   ]
  },
  {
   "cell_type": "markdown",
   "id": "cc0649d3",
   "metadata": {},
   "source": [
    "# SVM(poly) on RGB data"
   ]
  },
  {
   "cell_type": "code",
   "execution_count": 14,
   "id": "6f9925c1",
   "metadata": {},
   "outputs": [
    {
     "name": "stdout",
     "output_type": "stream",
     "text": [
      "0.7766308835672997\n"
     ]
    }
   ],
   "source": [
    "svm_poly = SVC(kernel='poly')\n",
    "svm_poly.fit(Ftrain,Ltrain)\n",
    "y_pred = svm_poly.predict(Ftest)\n",
    "print(accuracy_score(Ltest,y_pred))"
   ]
  },
  {
   "cell_type": "code",
   "execution_count": 15,
   "id": "691ece56",
   "metadata": {},
   "outputs": [
    {
     "name": "stdout",
     "output_type": "stream",
     "text": [
      "                               precision    recall  f1-score   support\n",
      "\n",
      "               bacterial_spot       0.71      0.87      0.78       904\n",
      "                 early_blight       0.44      0.42      0.43       396\n",
      "                      healthy       0.85      0.85      0.85       621\n",
      "                  late_blight       0.70      0.68      0.69       768\n",
      "                    leaf_mold       0.72      0.68      0.70       367\n",
      "           septoria_leaf_spot       0.77      0.68      0.72       699\n",
      "                  target_spot       0.67      0.63      0.65       567\n",
      "          tomato_mosaic_virus       0.81      0.83      0.82       136\n",
      "tomato_yellow_leaf_curl_virus       0.92      0.92      0.92      2119\n",
      "      two-spotted_spider_mite       0.74      0.71      0.73       689\n",
      "\n",
      "                     accuracy                           0.78      7266\n",
      "                    macro avg       0.73      0.73      0.73      7266\n",
      "                 weighted avg       0.78      0.78      0.78      7266\n",
      "\n",
      "[[ 785   19    6   29    1    4    3    0   57    0]\n",
      " [  76  167    8   45    5   11   30    0   26   28]\n",
      " [  11   11  527   25    4    7   34    0    1    1]\n",
      " [  57   75   17  520   24   23   12    0   24   16]\n",
      " [   6   13    6   23  251   42    6    3    6   11]\n",
      " [  15   27   21   44   38  476   19   17   21   21]\n",
      " [  29   43   22   10    8   22  357    3    4   69]\n",
      " [   0    0    0    0    5   12    1  113    1    4]\n",
      " [  91    9    0   26    2    9    8    0 1955   19]\n",
      " [  28   19   11   18   13   14   65    3   26  492]]\n"
     ]
    }
   ],
   "source": [
    "#classification report\n",
    "y_predict = svm_poly.fit(Ftrain, Ltrain).predict(Ftest)\n",
    "class_names = target.unique()\n",
    "print(classification_report(Ltest, y_predict, target_names=class_names))\n",
    "print(confusion_matrix(Ltest, y_predict))"
   ]
  },
  {
   "cell_type": "markdown",
   "id": "bd7a9c8c",
   "metadata": {},
   "source": [
    "# SVM(RBF) on RGB data"
   ]
  },
  {
   "cell_type": "code",
   "execution_count": 16,
   "id": "75cf5b70",
   "metadata": {},
   "outputs": [
    {
     "name": "stdout",
     "output_type": "stream",
     "text": [
      "0.8198458574181118\n"
     ]
    }
   ],
   "source": [
    "svm_rbf = SVC(kernel='rbf')\n",
    "svm_rbf.fit(Ftrain,Ltrain)\n",
    "y_pred = svm_rbf.predict(Ftest)\n",
    "print(accuracy_score(Ltest,y_pred))"
   ]
  },
  {
   "cell_type": "code",
   "execution_count": 17,
   "id": "d790ed6e",
   "metadata": {},
   "outputs": [
    {
     "name": "stdout",
     "output_type": "stream",
     "text": [
      "                               precision    recall  f1-score   support\n",
      "\n",
      "               bacterial_spot       0.83      0.86      0.85       904\n",
      "                 early_blight       0.55      0.38      0.45       396\n",
      "                      healthy       0.91      0.94      0.92       621\n",
      "                  late_blight       0.76      0.77      0.77       768\n",
      "                    leaf_mold       0.79      0.68      0.73       367\n",
      "           septoria_leaf_spot       0.77      0.75      0.76       699\n",
      "                  target_spot       0.72      0.71      0.72       567\n",
      "          tomato_mosaic_virus       0.74      0.69      0.71       136\n",
      "tomato_yellow_leaf_curl_virus       0.90      0.96      0.93      2119\n",
      "      two-spotted_spider_mite       0.80      0.79      0.80       689\n",
      "\n",
      "                     accuracy                           0.82      7266\n",
      "                    macro avg       0.78      0.75      0.76      7266\n",
      "                 weighted avg       0.81      0.82      0.81      7266\n",
      "\n",
      "[[ 778    6    5   17    0    3    6    0   87    2]\n",
      " [  63  151    5   67    7   12   37    2   33   19]\n",
      " [   0    6  582    7    4    2   19    0    0    1]\n",
      " [   9   43   12  592   17   39   18    6   23    9]\n",
      " [   3    8    0   27  248   46    5    5   11   14]\n",
      " [  10   12    7   36   25  524   20   10   36   19]\n",
      " [  19   27   22   10    1   21  405    3    6   53]\n",
      " [   0    5    0    3   10   16    2   94    1    5]\n",
      " [  39    5    0    8    1   10    4    0 2036   16]\n",
      " [  14   11    7    8    2   11   46    7   36  547]]\n"
     ]
    }
   ],
   "source": [
    "#classification report\n",
    "y_predict = svm_rbf.fit(Ftrain, Ltrain).predict(Ftest)\n",
    "class_names = target.unique()\n",
    "print(classification_report(Ltest, y_predict, target_names=class_names))\n",
    "print(confusion_matrix(Ltest, y_predict))"
   ]
  },
  {
   "cell_type": "markdown",
   "id": "b4626fd1",
   "metadata": {},
   "source": [
    "# SVM(sigmoid) on RGB data"
   ]
  },
  {
   "cell_type": "code",
   "execution_count": 18,
   "id": "774b25b9",
   "metadata": {},
   "outputs": [
    {
     "name": "stdout",
     "output_type": "stream",
     "text": [
      "0.29149463253509494\n"
     ]
    }
   ],
   "source": [
    "svm_si = SVC(kernel='sigmoid')\n",
    "svm_si.fit(Ftrain,Ltrain)\n",
    "y_pred = svm_si.predict(Ftest)\n",
    "print(accuracy_score(Ltest,y_pred))"
   ]
  },
  {
   "cell_type": "code",
   "execution_count": 19,
   "id": "a5229cca",
   "metadata": {},
   "outputs": [
    {
     "name": "stdout",
     "output_type": "stream",
     "text": [
      "                               precision    recall  f1-score   support\n",
      "\n",
      "               bacterial_spot       0.00      0.00      0.00       904\n",
      "                 early_blight       0.00      0.00      0.00       396\n",
      "                      healthy       0.00      0.00      0.00       621\n",
      "                  late_blight       0.00      0.00      0.00       768\n",
      "                    leaf_mold       0.00      0.00      0.00       367\n",
      "           septoria_leaf_spot       0.00      0.00      0.00       699\n",
      "                  target_spot       0.00      0.00      0.00       567\n",
      "          tomato_mosaic_virus       0.00      0.00      0.00       136\n",
      "tomato_yellow_leaf_curl_virus       0.29      1.00      0.45      2119\n",
      "      two-spotted_spider_mite       0.00      0.00      0.00       689\n",
      "\n",
      "                     accuracy                           0.29      7266\n",
      "                    macro avg       0.03      0.10      0.05      7266\n",
      "                 weighted avg       0.09      0.29      0.13      7266\n",
      "\n",
      "[[   0    0    0    0    0    0    0    0  904    0]\n",
      " [   0    0    0    0    0    0    0    0  396    0]\n",
      " [   0    0    0    0    0    0    0    0  621    0]\n",
      " [   0    0    0    0    0   68    0    0  700    0]\n",
      " [   1    0    0    0    0    0    0    0  366    0]\n",
      " [   0    0    0    0    0    0    0    0  699    0]\n",
      " [   0    0    0    0    0    1    0    0  566    0]\n",
      " [   0    0    0    0    0    0    0    0  136    0]\n",
      " [   1    0    0    0    0    0    0    0 2118    0]\n",
      " [   1    0    0    0    0    0    0    0  688    0]]\n"
     ]
    },
    {
     "name": "stderr",
     "output_type": "stream",
     "text": [
      "C:\\Users\\ravic\\anaconda3\\lib\\site-packages\\sklearn\\metrics\\_classification.py:1248: UndefinedMetricWarning: Precision and F-score are ill-defined and being set to 0.0 in labels with no predicted samples. Use `zero_division` parameter to control this behavior.\n",
      "  _warn_prf(average, modifier, msg_start, len(result))\n",
      "C:\\Users\\ravic\\anaconda3\\lib\\site-packages\\sklearn\\metrics\\_classification.py:1248: UndefinedMetricWarning: Precision and F-score are ill-defined and being set to 0.0 in labels with no predicted samples. Use `zero_division` parameter to control this behavior.\n",
      "  _warn_prf(average, modifier, msg_start, len(result))\n",
      "C:\\Users\\ravic\\anaconda3\\lib\\site-packages\\sklearn\\metrics\\_classification.py:1248: UndefinedMetricWarning: Precision and F-score are ill-defined and being set to 0.0 in labels with no predicted samples. Use `zero_division` parameter to control this behavior.\n",
      "  _warn_prf(average, modifier, msg_start, len(result))\n"
     ]
    }
   ],
   "source": [
    "#classification report\n",
    "y_predict = svm_si.fit(Ftrain, Ltrain).predict(Ftest)\n",
    "class_names = target.unique()\n",
    "print(classification_report(Ltest, y_predict, target_names=class_names))\n",
    "print(confusion_matrix(Ltest, y_predict))"
   ]
  },
  {
   "cell_type": "markdown",
   "id": "73bef6fa",
   "metadata": {},
   "source": [
    "# Random Forest on RGB "
   ]
  },
  {
   "cell_type": "code",
   "execution_count": 20,
   "id": "6bae5a92",
   "metadata": {},
   "outputs": [],
   "source": [
    "from sklearn.ensemble import RandomForestClassifier"
   ]
  },
  {
   "cell_type": "code",
   "execution_count": 21,
   "id": "1d08a15e",
   "metadata": {},
   "outputs": [],
   "source": [
    "classifier_rf = RandomForestClassifier(random_state=42, n_jobs=-1, max_depth=5,n_estimators=100, oob_score=True)"
   ]
  },
  {
   "cell_type": "code",
   "execution_count": 22,
   "id": "938ad007",
   "metadata": {},
   "outputs": [
    {
     "data": {
      "text/plain": [
       "RandomForestClassifier(max_depth=5, n_jobs=-1, oob_score=True, random_state=42)"
      ]
     },
     "execution_count": 22,
     "metadata": {},
     "output_type": "execute_result"
    }
   ],
   "source": [
    "classifier_rf.fit(Ftrain, Ltrain)"
   ]
  },
  {
   "cell_type": "code",
   "execution_count": 23,
   "id": "e1769cec",
   "metadata": {},
   "outputs": [
    {
     "data": {
      "text/plain": [
       "0.5570543702684102"
      ]
     },
     "execution_count": 23,
     "metadata": {},
     "output_type": "execute_result"
    }
   ],
   "source": [
    "classifier_rf.oob_score_"
   ]
  },
  {
   "cell_type": "code",
   "execution_count": 24,
   "id": "e8e6675c",
   "metadata": {},
   "outputs": [
    {
     "name": "stderr",
     "output_type": "stream",
     "text": [
      "C:\\Users\\ravic\\anaconda3\\lib\\site-packages\\sklearn\\metrics\\_classification.py:1248: UndefinedMetricWarning: Precision and F-score are ill-defined and being set to 0.0 in labels with no predicted samples. Use `zero_division` parameter to control this behavior.\n",
      "  _warn_prf(average, modifier, msg_start, len(result))\n",
      "C:\\Users\\ravic\\anaconda3\\lib\\site-packages\\sklearn\\metrics\\_classification.py:1248: UndefinedMetricWarning: Precision and F-score are ill-defined and being set to 0.0 in labels with no predicted samples. Use `zero_division` parameter to control this behavior.\n",
      "  _warn_prf(average, modifier, msg_start, len(result))\n",
      "C:\\Users\\ravic\\anaconda3\\lib\\site-packages\\sklearn\\metrics\\_classification.py:1248: UndefinedMetricWarning: Precision and F-score are ill-defined and being set to 0.0 in labels with no predicted samples. Use `zero_division` parameter to control this behavior.\n",
      "  _warn_prf(average, modifier, msg_start, len(result))\n"
     ]
    },
    {
     "name": "stdout",
     "output_type": "stream",
     "text": [
      "                               precision    recall  f1-score   support\n",
      "\n",
      "               bacterial_spot       0.72      0.50      0.59       904\n",
      "                 early_blight       0.00      0.00      0.00       396\n",
      "                      healthy       0.58      0.90      0.70       621\n",
      "                  late_blight       0.69      0.29      0.41       768\n",
      "                    leaf_mold       0.74      0.36      0.48       367\n",
      "           septoria_leaf_spot       0.55      0.44      0.49       699\n",
      "                  target_spot       0.55      0.40      0.46       567\n",
      "          tomato_mosaic_virus       0.00      0.00      0.00       136\n",
      "tomato_yellow_leaf_curl_virus       0.51      0.98      0.68      2119\n",
      "      two-spotted_spider_mite       0.71      0.15      0.25       689\n",
      "\n",
      "                     accuracy                           0.56      7266\n",
      "                    macro avg       0.51      0.40      0.41      7266\n",
      "                 weighted avg       0.56      0.56      0.51      7266\n",
      "\n",
      "[[ 456    0   56   16    0    2   11    0  363    0]\n",
      " [  50    0   15    9    1   40   36    0  240    5]\n",
      " [   3    0  558    7    1    1    2    0   48    1]\n",
      " [  17    0  146  223   12   99   17    0  250    4]\n",
      " [  20    0   47   26  131   26    4    0  113    0]\n",
      " [  13    0   34   24   22  308   10    0  285    3]\n",
      " [  25    0   65    7    0   47  224    0  174   25]\n",
      " [   5    0   15    7    9   12    2    0   80    6]\n",
      " [  10    0    7    2    0   14    1    0 2085    0]\n",
      " [  30    0   21    4    1   12   98    0  417  106]]\n"
     ]
    }
   ],
   "source": [
    "y_predict = classifier_rf.fit(Ftrain, Ltrain).predict(Ftest)\n",
    "class_names = target.unique()\n",
    "print(classification_report(Ltest, y_predict, target_names=class_names))\n",
    "print(confusion_matrix(Ltest, y_predict))"
   ]
  },
  {
   "cell_type": "markdown",
   "id": "b6a094e4",
   "metadata": {},
   "source": [
    "# Gaussian Naive Bayes on RGB data"
   ]
  },
  {
   "cell_type": "code",
   "execution_count": 25,
   "id": "a5bc755b",
   "metadata": {},
   "outputs": [
    {
     "data": {
      "text/plain": [
       "GaussianNB()"
      ]
     },
     "execution_count": 25,
     "metadata": {},
     "output_type": "execute_result"
    }
   ],
   "source": [
    "from sklearn.naive_bayes import GaussianNB\n",
    "gnb = GaussianNB()\n",
    "gnb.fit(Ftrain, Ltrain)"
   ]
  },
  {
   "cell_type": "code",
   "execution_count": 26,
   "id": "6d162dcc",
   "metadata": {},
   "outputs": [],
   "source": [
    "y_pred = gnb.predict(Ftest)"
   ]
  },
  {
   "cell_type": "code",
   "execution_count": 27,
   "id": "8f7b4bab",
   "metadata": {},
   "outputs": [
    {
     "data": {
      "text/plain": [
       "0.506468483347096"
      ]
     },
     "execution_count": 27,
     "metadata": {},
     "output_type": "execute_result"
    }
   ],
   "source": [
    "from sklearn import metrics\n",
    "metrics.accuracy_score(Ltest, y_pred)"
   ]
  },
  {
   "cell_type": "code",
   "execution_count": 28,
   "id": "69742172",
   "metadata": {},
   "outputs": [
    {
     "name": "stdout",
     "output_type": "stream",
     "text": [
      "                               precision    recall  f1-score   support\n",
      "\n",
      "               bacterial_spot       0.53      0.75      0.62       904\n",
      "                 early_blight       0.24      0.33      0.28       396\n",
      "                      healthy       0.46      0.71      0.56       621\n",
      "                  late_blight       0.50      0.29      0.37       768\n",
      "                    leaf_mold       0.54      0.44      0.48       367\n",
      "           septoria_leaf_spot       0.43      0.46      0.44       699\n",
      "                  target_spot       0.52      0.47      0.49       567\n",
      "          tomato_mosaic_virus       0.18      0.67      0.29       136\n",
      "tomato_yellow_leaf_curl_virus       0.87      0.50      0.63      2119\n",
      "      two-spotted_spider_mite       0.41      0.46      0.43       689\n",
      "\n",
      "                     accuracy                           0.51      7266\n",
      "                    macro avg       0.47      0.51      0.46      7266\n",
      "                 weighted avg       0.58      0.51      0.52      7266\n",
      "\n",
      "[[ 678   19   83   15    1   13   17   14   57    7]\n",
      " [  87  130    5   55   12   24   34    8   19   22]\n",
      " [  18   15  439   14   19    9   56   19    4   28]\n",
      " [  10  120  220  226   35   76   19   34   15   13]\n",
      " [  22   17   10   30  161   55    4   46    6   16]\n",
      " [  16   21   84   21   45  320   43   65   31   53]\n",
      " [  36   41    8   27   11   42  267   32    2  101]\n",
      " [  16    1    5    1    4    6    0   91    8    4]\n",
      " [ 358  106   94   50    9  140    9   91 1052  210]\n",
      " [  38   62    9   12    3   64   68   98   19  316]]\n"
     ]
    }
   ],
   "source": [
    "class_names = target.unique()\n",
    "print(classification_report(Ltest, y_pred, target_names=class_names))\n",
    "print(confusion_matrix(Ltest, y_pred))"
   ]
  },
  {
   "cell_type": "markdown",
   "id": "d6160a05",
   "metadata": {},
   "source": [
    "# Bernouli Naive bayes on RGB data"
   ]
  },
  {
   "cell_type": "code",
   "execution_count": 29,
   "id": "a257e2b3",
   "metadata": {},
   "outputs": [],
   "source": [
    "from sklearn.naive_bayes import BernoulliNB"
   ]
  },
  {
   "cell_type": "code",
   "execution_count": 30,
   "id": "1b9e5ea9",
   "metadata": {},
   "outputs": [
    {
     "data": {
      "text/plain": [
       "BernoulliNB()"
      ]
     },
     "execution_count": 30,
     "metadata": {},
     "output_type": "execute_result"
    }
   ],
   "source": [
    "bnb = BernoulliNB()\n",
    "bnb.fit(Ftrain, Ltrain)"
   ]
  },
  {
   "cell_type": "code",
   "execution_count": 31,
   "id": "d471cc30",
   "metadata": {},
   "outputs": [],
   "source": [
    "y_pred = bnb.predict(Ftest)"
   ]
  },
  {
   "cell_type": "code",
   "execution_count": 32,
   "id": "4cdf2dc4",
   "metadata": {},
   "outputs": [
    {
     "data": {
      "text/plain": [
       "0.35494082025873935"
      ]
     },
     "execution_count": 32,
     "metadata": {},
     "output_type": "execute_result"
    }
   ],
   "source": [
    "metrics.accuracy_score(Ltest, y_pred)"
   ]
  },
  {
   "cell_type": "code",
   "execution_count": 33,
   "id": "4a24591c",
   "metadata": {},
   "outputs": [
    {
     "name": "stdout",
     "output_type": "stream",
     "text": [
      "                               precision    recall  f1-score   support\n",
      "\n",
      "               bacterial_spot       0.23      0.95      0.37       904\n",
      "                 early_blight       0.28      0.17      0.21       396\n",
      "                      healthy       0.30      0.16      0.21       621\n",
      "                  late_blight       0.71      0.12      0.20       768\n",
      "                    leaf_mold       0.25      0.11      0.15       367\n",
      "           septoria_leaf_spot       0.21      0.08      0.12       699\n",
      "                  target_spot       0.25      0.06      0.09       567\n",
      "          tomato_mosaic_virus       0.12      0.01      0.01       136\n",
      "tomato_yellow_leaf_curl_virus       0.73      0.58      0.64      2119\n",
      "      two-spotted_spider_mite       0.20      0.17      0.19       689\n",
      "\n",
      "                     accuracy                           0.35      7266\n",
      "                    macro avg       0.33      0.24      0.22      7266\n",
      "                 weighted avg       0.43      0.35      0.33      7266\n",
      "\n",
      "[[ 855    0    8    0    4    4    2    0   14   17]\n",
      " [ 164   68   20   25   16   21    3    3   49   27]\n",
      " [ 372   15   97    0   22   30   14    1   29   41]\n",
      " [ 391   78   20   90   28   32   10    1   89   29]\n",
      " [ 202   18   17    2   40   30   10    0   35   13]\n",
      " [ 401   34   44    9   24   56   14    2   61   54]\n",
      " [ 378    5   24    0    9   26   33    0   41   51]\n",
      " [ 105    0    3    0    0    3    5    1   10    9]\n",
      " [ 537   20   37    1   13   42   26    0 1220  223]\n",
      " [ 349    2   55    0    1   19   14    0  130  119]]\n"
     ]
    }
   ],
   "source": [
    "class_names = target.unique()\n",
    "print(classification_report(Ltest, y_pred, target_names=class_names))\n",
    "print(confusion_matrix(Ltest, y_pred))"
   ]
  },
  {
   "cell_type": "markdown",
   "id": "0d6e0d06",
   "metadata": {},
   "source": [
    "# Decision Tree on RGB data"
   ]
  },
  {
   "cell_type": "code",
   "execution_count": 34,
   "id": "a5fd6907",
   "metadata": {},
   "outputs": [],
   "source": [
    "from sklearn.tree import DecisionTreeClassifier\n",
    "classifier_tree = DecisionTreeClassifier()"
   ]
  },
  {
   "cell_type": "code",
   "execution_count": 35,
   "id": "63eb94fc",
   "metadata": {},
   "outputs": [
    {
     "data": {
      "text/plain": [
       "0.47811725846407926"
      ]
     },
     "execution_count": 35,
     "metadata": {},
     "output_type": "execute_result"
    }
   ],
   "source": [
    "classifier_tree.fit(Ftrain, Ltrain)\n",
    "classifier_tree.score(Ftest,Ltest)"
   ]
  },
  {
   "cell_type": "code",
   "execution_count": 36,
   "id": "2a796fe0",
   "metadata": {},
   "outputs": [
    {
     "name": "stdout",
     "output_type": "stream",
     "text": [
      "                               precision    recall  f1-score   support\n",
      "\n",
      "               bacterial_spot       0.51      0.50      0.51       904\n",
      "                 early_blight       0.13      0.13      0.13       396\n",
      "                      healthy       0.59      0.59      0.59       621\n",
      "                  late_blight       0.41      0.39      0.40       768\n",
      "                    leaf_mold       0.40      0.37      0.39       367\n",
      "           septoria_leaf_spot       0.40      0.41      0.41       699\n",
      "                  target_spot       0.27      0.29      0.28       567\n",
      "          tomato_mosaic_virus       0.09      0.12      0.10       136\n",
      "tomato_yellow_leaf_curl_virus       0.72      0.71      0.72      2119\n",
      "      two-spotted_spider_mite       0.36      0.35      0.35       689\n",
      "\n",
      "                     accuracy                           0.48      7266\n",
      "                    macro avg       0.39      0.39      0.39      7266\n",
      "                 weighted avg       0.49      0.48      0.49      7266\n",
      "\n",
      "[[ 451   69   29   43   11   45   54    6  163   33]\n",
      " [  61   53   16   53   22   28   48   14   59   42]\n",
      " [  20   21  364   54   13   25   49   19   22   34]\n",
      " [  46   57   58  300   37   84   42   26   75   43]\n",
      " [  15   15   20   45  136   38   15   29   33   21]\n",
      " [  28   47   25   69   30  290   49   23   97   41]\n",
      " [  49   44   58   32   17   50  163   17   40   97]\n",
      " [   9    3   12   24   23   13    9   17   13   13]\n",
      " [ 150   69   13   76   30  102   51   21 1507  100]\n",
      " [  50   39   24   43   19   45  122   21   86  240]]\n"
     ]
    }
   ],
   "source": [
    "y_predict = classifier_tree.fit(Ftrain, Ltrain).predict(Ftest)\n",
    "class_names = target.unique()\n",
    "print(classification_report(Ltest, y_predict, target_names=class_names))\n",
    "print(confusion_matrix(Ltest, y_predict))"
   ]
  },
  {
   "cell_type": "markdown",
   "id": "c9daaaee",
   "metadata": {},
   "source": [
    "# KNN on grayscale data"
   ]
  },
  {
   "cell_type": "code",
   "execution_count": 37,
   "id": "57a9845e",
   "metadata": {},
   "outputs": [],
   "source": [
    "#reading numpy array data\n",
    "gray_test = np.load('gray_test.npy')\n",
    "#reading csv file\n",
    "gray_df = pd.read_csv('gray_data.csv')"
   ]
  },
  {
   "cell_type": "code",
   "execution_count": 38,
   "id": "25d4fea2",
   "metadata": {},
   "outputs": [],
   "source": [
    "loaded = []\n",
    "for i in gray_test:\n",
    "    k = []\n",
    "    k = np.asarray(i,dtype='uint8')\n",
    "    loaded.append(k)"
   ]
  },
  {
   "cell_type": "code",
   "execution_count": 39,
   "id": "d3abef95",
   "metadata": {},
   "outputs": [],
   "source": [
    "features = loaded\n",
    "target = gray_df['disease']\n",
    "Ftrain,Ftest,Ltrain,Ltest=train_test_split(features,target, test_size=0.50, random_state=20)"
   ]
  },
  {
   "cell_type": "code",
   "execution_count": 40,
   "id": "6f75adfd",
   "metadata": {},
   "outputs": [
    {
     "data": {
      "text/plain": [
       "0.4438480594549959"
      ]
     },
     "execution_count": 40,
     "metadata": {},
     "output_type": "execute_result"
    }
   ],
   "source": [
    "kmodel.fit(Ftrain,Ltrain)\n",
    "kmodel.score(Ftest,Ltest)"
   ]
  },
  {
   "cell_type": "code",
   "execution_count": 41,
   "id": "db638452",
   "metadata": {},
   "outputs": [
    {
     "name": "stderr",
     "output_type": "stream",
     "text": [
      "C:\\Users\\ravic\\anaconda3\\lib\\site-packages\\sklearn\\metrics\\_classification.py:1248: UndefinedMetricWarning: Precision and F-score are ill-defined and being set to 0.0 in labels with no predicted samples. Use `zero_division` parameter to control this behavior.\n",
      "  _warn_prf(average, modifier, msg_start, len(result))\n",
      "C:\\Users\\ravic\\anaconda3\\lib\\site-packages\\sklearn\\metrics\\_classification.py:1248: UndefinedMetricWarning: Precision and F-score are ill-defined and being set to 0.0 in labels with no predicted samples. Use `zero_division` parameter to control this behavior.\n",
      "  _warn_prf(average, modifier, msg_start, len(result))\n",
      "C:\\Users\\ravic\\anaconda3\\lib\\site-packages\\sklearn\\metrics\\_classification.py:1248: UndefinedMetricWarning: Precision and F-score are ill-defined and being set to 0.0 in labels with no predicted samples. Use `zero_division` parameter to control this behavior.\n",
      "  _warn_prf(average, modifier, msg_start, len(result))\n"
     ]
    },
    {
     "name": "stdout",
     "output_type": "stream",
     "text": [
      "                               precision    recall  f1-score   support\n",
      "\n",
      "               bacterial_spot       0.36      0.75      0.49       838\n",
      "                 early_blight       0.00      0.00      0.00       421\n",
      "                      healthy       0.33      0.59      0.42       665\n",
      "                  late_blight       0.30      0.24      0.27       749\n",
      "                    leaf_mold       0.58      0.30      0.40       364\n",
      "           septoria_leaf_spot       0.64      0.31      0.42       686\n",
      "                  target_spot       0.79      0.03      0.06       569\n",
      "          tomato_mosaic_virus       1.00      0.01      0.01       145\n",
      "tomato_yellow_leaf_curl_virus       0.52      0.67      0.58      2163\n",
      "      two-spotted_spider_mite       0.58      0.36      0.45       666\n",
      "\n",
      "                     accuracy                           0.44      7266\n",
      "                    macro avg       0.51      0.33      0.31      7266\n",
      "                 weighted avg       0.48      0.44      0.40      7266\n",
      "\n",
      "[[ 629    0   69   41    1    1    0    0   97    0]\n",
      " [ 206    0   17   12   11   16    3    0  134   22]\n",
      " [  78    0  390   58    1   10    0    0  125    3]\n",
      " [ 101    0  178  182   23   56    1    0  186   22]\n",
      " [  43    0   43   44  111    6    0    0  112    5]\n",
      " [  41    0  118   56   27  211    0    0  214   19]\n",
      " [ 227    0   42   26    0   10   19    0  173   72]\n",
      " [   4    0   18   15    7    4    0    1   89    7]\n",
      " [ 272    0  280  126    8   10    0    0 1441   26]\n",
      " [ 152    0   18   39    1    4    1    0  210  241]]\n"
     ]
    }
   ],
   "source": [
    "y_predict = kmodel.fit(Ftrain, Ltrain).predict(Ftest)\n",
    "class_names = target.unique()\n",
    "print(classification_report(Ltest, y_predict, target_names=class_names))\n",
    "print(confusion_matrix(Ltest, y_predict))"
   ]
  },
  {
   "cell_type": "markdown",
   "id": "197eedfc",
   "metadata": {},
   "source": [
    "# Logistic on grayscale data"
   ]
  },
  {
   "cell_type": "code",
   "execution_count": 42,
   "id": "9fd6cafe",
   "metadata": {},
   "outputs": [
    {
     "name": "stderr",
     "output_type": "stream",
     "text": [
      "C:\\Users\\ravic\\anaconda3\\lib\\site-packages\\sklearn\\linear_model\\_logistic.py:763: ConvergenceWarning: lbfgs failed to converge (status=1):\n",
      "STOP: TOTAL NO. of ITERATIONS REACHED LIMIT.\n",
      "\n",
      "Increase the number of iterations (max_iter) or scale the data as shown in:\n",
      "    https://scikit-learn.org/stable/modules/preprocessing.html\n",
      "Please also refer to the documentation for alternative solver options:\n",
      "    https://scikit-learn.org/stable/modules/linear_model.html#logistic-regression\n",
      "  n_iter_i = _check_optimize_result(\n"
     ]
    },
    {
     "data": {
      "text/plain": [
       "0.34434351775392236"
      ]
     },
     "execution_count": 42,
     "metadata": {},
     "output_type": "execute_result"
    }
   ],
   "source": [
    "from sklearn.linear_model import LogisticRegression\n",
    "model=LogisticRegression(solver='lbfgs', max_iter=10000)\n",
    "model.fit(Ftrain,Ltrain)\n",
    "model.score(Ftest,Ltest)"
   ]
  },
  {
   "cell_type": "code",
   "execution_count": 43,
   "id": "ad468ab9",
   "metadata": {},
   "outputs": [
    {
     "name": "stderr",
     "output_type": "stream",
     "text": [
      "C:\\Users\\ravic\\anaconda3\\lib\\site-packages\\sklearn\\linear_model\\_logistic.py:763: ConvergenceWarning: lbfgs failed to converge (status=1):\n",
      "STOP: TOTAL NO. of ITERATIONS REACHED LIMIT.\n",
      "\n",
      "Increase the number of iterations (max_iter) or scale the data as shown in:\n",
      "    https://scikit-learn.org/stable/modules/preprocessing.html\n",
      "Please also refer to the documentation for alternative solver options:\n",
      "    https://scikit-learn.org/stable/modules/linear_model.html#logistic-regression\n",
      "  n_iter_i = _check_optimize_result(\n"
     ]
    },
    {
     "name": "stdout",
     "output_type": "stream",
     "text": [
      "                               precision    recall  f1-score   support\n",
      "\n",
      "               bacterial_spot       0.46      0.44      0.45       838\n",
      "                 early_blight       0.15      0.17      0.16       421\n",
      "                      healthy       0.32      0.33      0.33       665\n",
      "                  late_blight       0.26      0.25      0.25       749\n",
      "                    leaf_mold       0.20      0.29      0.24       364\n",
      "           septoria_leaf_spot       0.18      0.16      0.17       686\n",
      "                  target_spot       0.19      0.18      0.19       569\n",
      "          tomato_mosaic_virus       0.10      0.20      0.13       145\n",
      "tomato_yellow_leaf_curl_virus       0.56      0.51      0.54      2163\n",
      "      two-spotted_spider_mite       0.30      0.31      0.30       666\n",
      "\n",
      "                     accuracy                           0.34      7266\n",
      "                    macro avg       0.27      0.28      0.28      7266\n",
      "                 weighted avg       0.36      0.34      0.35      7266\n",
      "\n",
      "[[ 366   52   47   58   18   54   46    3  145   49]\n",
      " [  53   70   29   31   33   28   50    5   83   39]\n",
      " [  36   41  222   90   36   55   56    8   77   44]\n",
      " [  37   49   83  186   72  109   43   38  105   27]\n",
      " [  11   16   20   47  104   43   25   14   66   18]\n",
      " [  63   28   64   95   61  108   50   35  137   45]\n",
      " [  67   46   69   31   25   44  104   21   64   98]\n",
      " [   4    2    6    9   18    8    6   29   53   10]\n",
      " [ 112  105  132  129  114  111   92  104 1106  158]\n",
      " [  39   46   23   35   28   45   73   38  132  207]]\n"
     ]
    }
   ],
   "source": [
    "y_predict = model.fit(Ftrain, Ltrain).predict(Ftest)\n",
    "class_names = target.unique()\n",
    "print(classification_report(Ltest, y_predict, target_names=class_names))\n",
    "print(confusion_matrix(Ltest, y_predict))"
   ]
  },
  {
   "cell_type": "markdown",
   "id": "5284f869",
   "metadata": {},
   "source": [
    "# SVM(linear) on Grayscale data"
   ]
  },
  {
   "cell_type": "code",
   "execution_count": 44,
   "id": "d0db5c80",
   "metadata": {},
   "outputs": [
    {
     "name": "stdout",
     "output_type": "stream",
     "text": [
      "0.3868703550784476\n"
     ]
    }
   ],
   "source": [
    "clf = SVC(kernel='linear')\n",
    "clf.fit(Ftrain,Ltrain)\n",
    "y_pred = clf.predict(Ftest)\n",
    "print(accuracy_score(Ltest,y_pred))"
   ]
  },
  {
   "cell_type": "code",
   "execution_count": 45,
   "id": "907d10fb",
   "metadata": {},
   "outputs": [
    {
     "name": "stdout",
     "output_type": "stream",
     "text": [
      "                               precision    recall  f1-score   support\n",
      "\n",
      "               bacterial_spot       0.34      0.54      0.42       838\n",
      "                 early_blight       0.16      0.21      0.18       421\n",
      "                      healthy       0.42      0.45      0.44       665\n",
      "                  late_blight       0.32      0.30      0.31       749\n",
      "                    leaf_mold       0.29      0.34      0.31       364\n",
      "           septoria_leaf_spot       0.30      0.30      0.30       686\n",
      "                  target_spot       0.27      0.24      0.25       569\n",
      "          tomato_mosaic_virus       0.18      0.22      0.20       145\n",
      "tomato_yellow_leaf_curl_virus       0.62      0.46      0.53      2163\n",
      "      two-spotted_spider_mite       0.43      0.36      0.39       666\n",
      "\n",
      "                     accuracy                           0.39      7266\n",
      "                    macro avg       0.33      0.34      0.33      7266\n",
      "                 weighted avg       0.41      0.39      0.39      7266\n",
      "\n",
      "[[ 453   76   44   47    8   29   30    2  123   26]\n",
      " [  99   87   11   36   31   15   38    0   74   30]\n",
      " [  98   25  301   68   24   45   39    4   37   24]\n",
      " [  85   71   84  228   48   98   28   18   60   29]\n",
      " [  28   20   11   55  122   40   10   12   56   10]\n",
      " [  84   30   62   86   38  209   47   21   74   35]\n",
      " [ 110   54   43   24   18   50  135    8   54   73]\n",
      " [  14    2    5   10   19   10    7   32   42    4]\n",
      " [ 307  108  137  130  101  139   87   66 1003   85]\n",
      " [  64   59   19   20   18   53   78   15   99  241]]\n"
     ]
    }
   ],
   "source": [
    "y_predict = clf.fit(Ftrain, Ltrain).predict(Ftest)\n",
    "class_names = target.unique()\n",
    "print(classification_report(Ltest, y_predict, target_names=class_names))\n",
    "print(confusion_matrix(Ltest, y_predict))"
   ]
  },
  {
   "cell_type": "markdown",
   "id": "bb4df373",
   "metadata": {},
   "source": [
    "# SVM(poly) on grayscale data"
   ]
  },
  {
   "cell_type": "code",
   "execution_count": 46,
   "id": "a0d5bfda",
   "metadata": {},
   "outputs": [
    {
     "name": "stdout",
     "output_type": "stream",
     "text": [
      "0.5407376823561795\n"
     ]
    }
   ],
   "source": [
    "svm_poly = SVC(kernel='poly')\n",
    "svm_poly.fit(Ftrain,Ltrain)\n",
    "y_pred = svm_poly.predict(Ftest)\n",
    "print(accuracy_score(Ltest,y_pred))"
   ]
  },
  {
   "cell_type": "code",
   "execution_count": 47,
   "id": "d7fb339e",
   "metadata": {},
   "outputs": [
    {
     "name": "stdout",
     "output_type": "stream",
     "text": [
      "                               precision    recall  f1-score   support\n",
      "\n",
      "               bacterial_spot       0.45      0.69      0.54       838\n",
      "                 early_blight       0.21      0.20      0.21       421\n",
      "                      healthy       0.66      0.61      0.63       665\n",
      "                  late_blight       0.54      0.47      0.50       749\n",
      "                    leaf_mold       0.43      0.44      0.43       364\n",
      "           septoria_leaf_spot       0.44      0.41      0.42       686\n",
      "                  target_spot       0.40      0.36      0.38       569\n",
      "          tomato_mosaic_virus       0.23      0.24      0.24       145\n",
      "tomato_yellow_leaf_curl_virus       0.73      0.69      0.71      2163\n",
      "      two-spotted_spider_mite       0.59      0.52      0.55       666\n",
      "\n",
      "                     accuracy                           0.54      7266\n",
      "                    macro avg       0.47      0.46      0.46      7266\n",
      "                 weighted avg       0.55      0.54      0.54      7266\n",
      "\n",
      "[[ 579   24   25   36    9   30    9    1  119    6]\n",
      " [  95   84    7   41   21   12   40    1   88   32]\n",
      " [  73   15  403   25   16   45   38    3   33   14]\n",
      " [  73   70   29  354   39   60   29   12   68   15]\n",
      " [  22   16   11   44  159   33   19   10   39   11]\n",
      " [  77   32   44   64   50  280   30   24   64   21]\n",
      " [  97   55   20   14    9   47  202    6   42   77]\n",
      " [   2    1    1    7   21   17   12   35   37   12]\n",
      " [ 231   63   64   68   38   76   42   43 1486   52]\n",
      " [  47   36    8    6   11   41   83   15   72  347]]\n"
     ]
    }
   ],
   "source": [
    "#classification report\n",
    "y_predict = svm_poly.fit(Ftrain, Ltrain).predict(Ftest)\n",
    "class_names = target.unique()\n",
    "print(classification_report(Ltest, y_predict, target_names=class_names))\n",
    "print(confusion_matrix(Ltest, y_predict))"
   ]
  },
  {
   "cell_type": "markdown",
   "id": "f8e82d44",
   "metadata": {},
   "source": [
    "# SVM(RBF) on grayscale data"
   ]
  },
  {
   "cell_type": "code",
   "execution_count": 48,
   "id": "67c0ee85",
   "metadata": {},
   "outputs": [
    {
     "name": "stdout",
     "output_type": "stream",
     "text": [
      "0.6738232865400495\n"
     ]
    }
   ],
   "source": [
    "svm_rbf = SVC(kernel='rbf')\n",
    "svm_rbf.fit(Ftrain,Ltrain)\n",
    "y_pred = svm_rbf.predict(Ftest)\n",
    "print(accuracy_score(Ltest,y_pred))"
   ]
  },
  {
   "cell_type": "code",
   "execution_count": 49,
   "id": "0001fe9e",
   "metadata": {},
   "outputs": [
    {
     "name": "stdout",
     "output_type": "stream",
     "text": [
      "                               precision    recall  f1-score   support\n",
      "\n",
      "               bacterial_spot       0.73      0.71      0.72       838\n",
      "                 early_blight       0.47      0.17      0.25       421\n",
      "                      healthy       0.74      0.81      0.77       665\n",
      "                  late_blight       0.64      0.63      0.63       749\n",
      "                    leaf_mold       0.70      0.43      0.53       364\n",
      "           septoria_leaf_spot       0.62      0.59      0.61       686\n",
      "                  target_spot       0.64      0.53      0.58       569\n",
      "          tomato_mosaic_virus       1.00      0.01      0.01       145\n",
      "tomato_yellow_leaf_curl_virus       0.67      0.88      0.76      2163\n",
      "      two-spotted_spider_mite       0.70      0.70      0.70       666\n",
      "\n",
      "                     accuracy                           0.67      7266\n",
      "                    macro avg       0.69      0.54      0.56      7266\n",
      "                 weighted avg       0.67      0.67      0.65      7266\n",
      "\n",
      "[[ 591    2   29   28    1   15    1    0  169    2]\n",
      " [  52   73    4   60   16   15   41    0  132   28]\n",
      " [   0    2  538   11    2   30   30    0   46    6]\n",
      " [   7   32   31  470   12   49   12    0  127    9]\n",
      " [   8    9    9   53  155   36    6    0   80    8]\n",
      " [  21    4   41   54   18  408   24    0  102   14]\n",
      " [  33   10   19   20    5   33  299    0   71   79]\n",
      " [   0    0    1    3    8   15    1    1   99   17]\n",
      " [  76    7   50   38    4   46   13    0 1898   31]\n",
      " [  17   15    6    2    1   14   42    0  106  463]]\n"
     ]
    }
   ],
   "source": [
    "#classification report\n",
    "y_predict = svm_rbf.fit(Ftrain, Ltrain).predict(Ftest)\n",
    "class_names = target.unique()\n",
    "print(classification_report(Ltest, y_predict, target_names=class_names))\n",
    "print(confusion_matrix(Ltest, y_predict))"
   ]
  },
  {
   "cell_type": "markdown",
   "id": "2e75aafa",
   "metadata": {},
   "source": [
    "# SVM(sigmoid) on grayscale data"
   ]
  },
  {
   "cell_type": "code",
   "execution_count": 50,
   "id": "d9d20d3a",
   "metadata": {},
   "outputs": [
    {
     "name": "stdout",
     "output_type": "stream",
     "text": [
      "0.24883016790531243\n"
     ]
    }
   ],
   "source": [
    "svm_si = SVC(kernel='sigmoid')\n",
    "svm_si.fit(Ftrain,Ltrain)\n",
    "y_pred = svm_si.predict(Ftest)\n",
    "print(accuracy_score(Ltest,y_pred))"
   ]
  },
  {
   "cell_type": "code",
   "execution_count": 51,
   "id": "b4425048",
   "metadata": {},
   "outputs": [
    {
     "name": "stdout",
     "output_type": "stream",
     "text": [
      "                               precision    recall  f1-score   support\n",
      "\n",
      "               bacterial_spot       0.06      0.10      0.08       838\n",
      "                 early_blight       0.00      0.00      0.00       421\n",
      "                      healthy       0.00      0.00      0.00       665\n",
      "                  late_blight       0.00      0.00      0.00       749\n",
      "                    leaf_mold       0.00      0.00      0.00       364\n",
      "           septoria_leaf_spot       0.00      0.00      0.00       686\n",
      "                  target_spot       0.00      0.00      0.00       569\n",
      "          tomato_mosaic_virus       0.00      0.00      0.00       145\n",
      "tomato_yellow_leaf_curl_virus       0.29      0.80      0.43      2163\n",
      "      two-spotted_spider_mite       0.00      0.00      0.00       666\n",
      "\n",
      "                     accuracy                           0.25      7266\n",
      "                    macro avg       0.04      0.09      0.05      7266\n",
      "                 weighted avg       0.09      0.25      0.14      7266\n",
      "\n",
      "[[  80    0    0    0    0    0    0    0  758    0]\n",
      " [  14    0    0    0    0    0    0    0  407    0]\n",
      " [ 137    0    0    0    0    0    0    0  528    0]\n",
      " [ 218    0    0    0    0   53    0    0  478    0]\n",
      " [  56    0    0    0    0    0    0    0  308    0]\n",
      " [ 302    0    0    0    0    0    0    0  384    0]\n",
      " [  14    0    0    0    0    1    0    0  554    0]\n",
      " [   8    0    0    0    0    0    0    0  137    0]\n",
      " [ 434    0    0    0    0    1    0    0 1728    0]\n",
      " [  25    0    0    0    0    0    0    0  641    0]]\n"
     ]
    },
    {
     "name": "stderr",
     "output_type": "stream",
     "text": [
      "C:\\Users\\ravic\\anaconda3\\lib\\site-packages\\sklearn\\metrics\\_classification.py:1248: UndefinedMetricWarning: Precision and F-score are ill-defined and being set to 0.0 in labels with no predicted samples. Use `zero_division` parameter to control this behavior.\n",
      "  _warn_prf(average, modifier, msg_start, len(result))\n",
      "C:\\Users\\ravic\\anaconda3\\lib\\site-packages\\sklearn\\metrics\\_classification.py:1248: UndefinedMetricWarning: Precision and F-score are ill-defined and being set to 0.0 in labels with no predicted samples. Use `zero_division` parameter to control this behavior.\n",
      "  _warn_prf(average, modifier, msg_start, len(result))\n",
      "C:\\Users\\ravic\\anaconda3\\lib\\site-packages\\sklearn\\metrics\\_classification.py:1248: UndefinedMetricWarning: Precision and F-score are ill-defined and being set to 0.0 in labels with no predicted samples. Use `zero_division` parameter to control this behavior.\n",
      "  _warn_prf(average, modifier, msg_start, len(result))\n"
     ]
    }
   ],
   "source": [
    "#classification report\n",
    "y_predict = svm_si.fit(Ftrain, Ltrain).predict(Ftest)\n",
    "class_names = target.unique()\n",
    "print(classification_report(Ltest, y_predict, target_names=class_names))\n",
    "print(confusion_matrix(Ltest, y_predict))"
   ]
  },
  {
   "cell_type": "markdown",
   "id": "576fd580",
   "metadata": {},
   "source": [
    "# Random Forest on Grayscale"
   ]
  },
  {
   "cell_type": "code",
   "execution_count": 52,
   "id": "9dfa979e",
   "metadata": {},
   "outputs": [
    {
     "data": {
      "text/plain": [
       "RandomForestClassifier(max_depth=5, n_jobs=-1, oob_score=True, random_state=42)"
      ]
     },
     "execution_count": 52,
     "metadata": {},
     "output_type": "execute_result"
    }
   ],
   "source": [
    "classifier_rf.fit(Ftrain, Ltrain)"
   ]
  },
  {
   "cell_type": "code",
   "execution_count": 53,
   "id": "2b4347ef",
   "metadata": {},
   "outputs": [
    {
     "data": {
      "text/plain": [
       "0.4428079834824501"
      ]
     },
     "execution_count": 53,
     "metadata": {},
     "output_type": "execute_result"
    }
   ],
   "source": [
    "classifier_rf.oob_score_"
   ]
  },
  {
   "cell_type": "code",
   "execution_count": 54,
   "id": "ce5db8b5",
   "metadata": {},
   "outputs": [
    {
     "name": "stdout",
     "output_type": "stream",
     "text": [
      "                               precision    recall  f1-score   support\n",
      "\n",
      "               bacterial_spot       0.62      0.43      0.51       838\n",
      "                 early_blight       0.00      0.00      0.00       421\n",
      "                      healthy       0.56      0.28      0.37       665\n",
      "                  late_blight       0.68      0.22      0.33       749\n",
      "                    leaf_mold       0.67      0.03      0.05       364\n",
      "           septoria_leaf_spot       0.58      0.45      0.50       686\n",
      "                  target_spot       0.86      0.03      0.06       569\n",
      "          tomato_mosaic_virus       0.00      0.00      0.00       145\n",
      "tomato_yellow_leaf_curl_virus       0.37      0.92      0.53      2163\n",
      "      two-spotted_spider_mite       0.69      0.18      0.29       666\n",
      "\n",
      "                     accuracy                           0.43      7266\n",
      "                    macro avg       0.50      0.25      0.26      7266\n",
      "                 weighted avg       0.52      0.43      0.37      7266\n",
      "\n",
      "[[ 358    0   29    8    0    2    0    0  441    0]\n",
      " [  56    0    2    5    1   45    2    0  305    5]\n",
      " [   4    0  186   20    0    1    0    0  453    1]\n",
      " [  21    0   25  165    2   75    0    0  458    3]\n",
      " [  13    0    3    7   10   12    0    0  319    0]\n",
      " [   7    0   38   12    2  306    1    0  318    2]\n",
      " [  18    0    2    7    0   43   18    0  438   43]\n",
      " [   2    0    1    0    0    4    0    0  138    0]\n",
      " [  76    0   46   19    0   26    0    0 1996    0]\n",
      " [  24    0    0    0    0   15    0    0  506  121]]\n"
     ]
    },
    {
     "name": "stderr",
     "output_type": "stream",
     "text": [
      "C:\\Users\\ravic\\anaconda3\\lib\\site-packages\\sklearn\\metrics\\_classification.py:1248: UndefinedMetricWarning: Precision and F-score are ill-defined and being set to 0.0 in labels with no predicted samples. Use `zero_division` parameter to control this behavior.\n",
      "  _warn_prf(average, modifier, msg_start, len(result))\n",
      "C:\\Users\\ravic\\anaconda3\\lib\\site-packages\\sklearn\\metrics\\_classification.py:1248: UndefinedMetricWarning: Precision and F-score are ill-defined and being set to 0.0 in labels with no predicted samples. Use `zero_division` parameter to control this behavior.\n",
      "  _warn_prf(average, modifier, msg_start, len(result))\n",
      "C:\\Users\\ravic\\anaconda3\\lib\\site-packages\\sklearn\\metrics\\_classification.py:1248: UndefinedMetricWarning: Precision and F-score are ill-defined and being set to 0.0 in labels with no predicted samples. Use `zero_division` parameter to control this behavior.\n",
      "  _warn_prf(average, modifier, msg_start, len(result))\n"
     ]
    }
   ],
   "source": [
    "y_predict = classifier_rf.fit(Ftrain, Ltrain).predict(Ftest)\n",
    "class_names = target.unique()\n",
    "print(classification_report(Ltest, y_predict, target_names=class_names))\n",
    "print(confusion_matrix(Ltest, y_predict))"
   ]
  },
  {
   "cell_type": "markdown",
   "id": "8befce61",
   "metadata": {},
   "source": [
    "# Gaussian Naive bayes on Grayscale"
   ]
  },
  {
   "cell_type": "code",
   "execution_count": 55,
   "id": "0d1a6d3b",
   "metadata": {},
   "outputs": [
    {
     "data": {
      "text/plain": [
       "GaussianNB()"
      ]
     },
     "execution_count": 55,
     "metadata": {},
     "output_type": "execute_result"
    }
   ],
   "source": [
    "gnb.fit(Ftrain, Ltrain)"
   ]
  },
  {
   "cell_type": "code",
   "execution_count": 56,
   "id": "053c9a09",
   "metadata": {},
   "outputs": [
    {
     "data": {
      "text/plain": [
       "0.3603082851637765"
      ]
     },
     "execution_count": 56,
     "metadata": {},
     "output_type": "execute_result"
    }
   ],
   "source": [
    "y_pred = gnb.predict(Ftest)\n",
    "metrics.accuracy_score(Ltest, y_pred)"
   ]
  },
  {
   "cell_type": "code",
   "execution_count": 57,
   "id": "0ea180f7",
   "metadata": {},
   "outputs": [
    {
     "name": "stdout",
     "output_type": "stream",
     "text": [
      "                               precision    recall  f1-score   support\n",
      "\n",
      "               bacterial_spot       0.42      0.73      0.53       838\n",
      "                 early_blight       0.25      0.31      0.28       421\n",
      "                      healthy       0.33      0.63      0.43       665\n",
      "                  late_blight       0.44      0.23      0.30       749\n",
      "                    leaf_mold       0.39      0.28      0.32       364\n",
      "           septoria_leaf_spot       0.34      0.47      0.39       686\n",
      "                  target_spot       0.50      0.34      0.41       569\n",
      "          tomato_mosaic_virus       0.11      0.52      0.18       145\n",
      "tomato_yellow_leaf_curl_virus       0.61      0.15      0.24      2163\n",
      "      two-spotted_spider_mite       0.35      0.39      0.37       666\n",
      "\n",
      "                     accuracy                           0.36      7266\n",
      "                    macro avg       0.37      0.41      0.35      7266\n",
      "                 weighted avg       0.44      0.36      0.34      7266\n",
      "\n",
      "[[615  17  98  11   6  22   7  33  21   8]\n",
      " [115 130   9  54  16  23  25   8  13  28]\n",
      " [ 18   4 422  15  22  30  44  27  62  21]\n",
      " [ 22 126 231 174  24  90  13  28  20  21]\n",
      " [ 56  15  14  20 101  71   6  44  21  16]\n",
      " [ 10  16 132  14  26 324  28  53  21  62]\n",
      " [ 60  32   9  30  10  71 193  34  13 117]\n",
      " [ 22   0  10   1   5   9   1  75  14   8]\n",
      " [502 123 366  60  35 228  22 295 326 206]\n",
      " [ 55  61   7  13  16  94  44  93  25 258]]\n"
     ]
    }
   ],
   "source": [
    "class_names = target.unique()\n",
    "print(classification_report(Ltest, y_pred, target_names=class_names))\n",
    "print(confusion_matrix(Ltest, y_pred))"
   ]
  },
  {
   "cell_type": "markdown",
   "id": "d5b489a0",
   "metadata": {},
   "source": [
    "# Bernouli Naive bayes on grayscale data"
   ]
  },
  {
   "cell_type": "code",
   "execution_count": 58,
   "id": "05c41305",
   "metadata": {},
   "outputs": [
    {
     "data": {
      "text/plain": [
       "0.3048444811450592"
      ]
     },
     "execution_count": 58,
     "metadata": {},
     "output_type": "execute_result"
    }
   ],
   "source": [
    "bnb.fit(Ftrain, Ltrain)\n",
    "y_pred = bnb.predict(Ftest)\n",
    "metrics.accuracy_score(Ltest, y_pred)"
   ]
  },
  {
   "cell_type": "code",
   "execution_count": 59,
   "id": "40cc434f",
   "metadata": {},
   "outputs": [
    {
     "name": "stdout",
     "output_type": "stream",
     "text": [
      "                               precision    recall  f1-score   support\n",
      "\n",
      "               bacterial_spot       0.00      0.00      0.00       838\n",
      "                 early_blight       0.50      0.00      0.00       421\n",
      "                      healthy       0.25      0.00      0.00       665\n",
      "                  late_blight       1.00      0.06      0.12       749\n",
      "                    leaf_mold       0.38      0.01      0.02       364\n",
      "           septoria_leaf_spot       0.00      0.00      0.00       686\n",
      "                  target_spot       0.00      0.00      0.00       569\n",
      "          tomato_mosaic_virus       0.00      0.00      0.00       145\n",
      "tomato_yellow_leaf_curl_virus       0.30      1.00      0.46      2163\n",
      "      two-spotted_spider_mite       0.00      0.00      0.00       666\n",
      "\n",
      "                     accuracy                           0.30      7266\n",
      "                    macro avg       0.24      0.11      0.06      7266\n",
      "                 weighted avg       0.26      0.30      0.15      7266\n",
      "\n",
      "[[   0    0    0    0    0    0    0    0  838    0]\n",
      " [   6    1    1    0    1    0    0    0  412    0]\n",
      " [   5    0    1    0    3    3    0    0  653    0]\n",
      " [   1    0    1   47    1    0    1    5  693    0]\n",
      " [   2    0    1    0    3    0    0    0  358    0]\n",
      " [   3    1    0    0    0    0    2    0  680    0]\n",
      " [   0    0    0    0    0    0    0    0  569    0]\n",
      " [   1    0    0    0    0    0    0    0  144    0]\n",
      " [   0    0    0    0    0    0    0    0 2163    0]\n",
      " [   0    0    0    0    0    0    0    0  666    0]]\n"
     ]
    },
    {
     "name": "stderr",
     "output_type": "stream",
     "text": [
      "C:\\Users\\ravic\\anaconda3\\lib\\site-packages\\sklearn\\metrics\\_classification.py:1248: UndefinedMetricWarning: Precision and F-score are ill-defined and being set to 0.0 in labels with no predicted samples. Use `zero_division` parameter to control this behavior.\n",
      "  _warn_prf(average, modifier, msg_start, len(result))\n",
      "C:\\Users\\ravic\\anaconda3\\lib\\site-packages\\sklearn\\metrics\\_classification.py:1248: UndefinedMetricWarning: Precision and F-score are ill-defined and being set to 0.0 in labels with no predicted samples. Use `zero_division` parameter to control this behavior.\n",
      "  _warn_prf(average, modifier, msg_start, len(result))\n",
      "C:\\Users\\ravic\\anaconda3\\lib\\site-packages\\sklearn\\metrics\\_classification.py:1248: UndefinedMetricWarning: Precision and F-score are ill-defined and being set to 0.0 in labels with no predicted samples. Use `zero_division` parameter to control this behavior.\n",
      "  _warn_prf(average, modifier, msg_start, len(result))\n"
     ]
    }
   ],
   "source": [
    "class_names = target.unique()\n",
    "print(classification_report(Ltest, y_pred, target_names=class_names))\n",
    "print(confusion_matrix(Ltest, y_pred))"
   ]
  },
  {
   "cell_type": "markdown",
   "id": "7adb2a72",
   "metadata": {},
   "source": [
    "# Decision Tree on Grayscale"
   ]
  },
  {
   "cell_type": "code",
   "execution_count": 60,
   "id": "8e38f8b5",
   "metadata": {},
   "outputs": [
    {
     "data": {
      "text/plain": [
       "0.3977429121937792"
      ]
     },
     "execution_count": 60,
     "metadata": {},
     "output_type": "execute_result"
    }
   ],
   "source": [
    "classifier_tree.fit(Ftrain, Ltrain)\n",
    "classifier_tree.score(Ftest,Ltest)"
   ]
  },
  {
   "cell_type": "code",
   "execution_count": 61,
   "id": "838a0a4d",
   "metadata": {},
   "outputs": [
    {
     "name": "stdout",
     "output_type": "stream",
     "text": [
      "                               precision    recall  f1-score   support\n",
      "\n",
      "               bacterial_spot       0.39      0.43      0.41       838\n",
      "                 early_blight       0.15      0.14      0.14       421\n",
      "                      healthy       0.50      0.45      0.47       665\n",
      "                  late_blight       0.39      0.37      0.38       749\n",
      "                    leaf_mold       0.21      0.23      0.22       364\n",
      "           septoria_leaf_spot       0.36      0.42      0.39       686\n",
      "                  target_spot       0.26      0.25      0.26       569\n",
      "          tomato_mosaic_virus       0.05      0.06      0.05       145\n",
      "tomato_yellow_leaf_curl_virus       0.54      0.53      0.53      2163\n",
      "      two-spotted_spider_mite       0.40      0.38      0.39       666\n",
      "\n",
      "                     accuracy                           0.40      7266\n",
      "                    macro avg       0.33      0.33      0.32      7266\n",
      "                 weighted avg       0.40      0.40      0.40      7266\n",
      "\n",
      "[[ 361   55   32   39   36   43   33    9  195   35]\n",
      " [  66   57    9   36   30   38   39   10   91   45]\n",
      " [  48   12  297   43   24   62   55   15   91   18]\n",
      " [  44   29   42  278   34   91   41   13  145   32]\n",
      " [  32   20   17   36   85   34   28   19   76   17]\n",
      " [  49   22   34   71   38  286   31    9  115   31]\n",
      " [  42   28   46   45   32   58  145   10   98   65]\n",
      " [   5    4    9   10   12   22   10    8   49   16]\n",
      " [ 230  108   80  128   81  130   97   49 1136  124]\n",
      " [  48   41   29   20   24   32   81   18  118  255]]\n"
     ]
    }
   ],
   "source": [
    "y_predict = classifier_tree.fit(Ftrain, Ltrain).predict(Ftest)\n",
    "class_names = target.unique()\n",
    "print(classification_report(Ltest, y_predict, target_names=class_names))\n",
    "print(confusion_matrix(Ltest, y_predict))"
   ]
  },
  {
   "cell_type": "markdown",
   "id": "e42f549f",
   "metadata": {},
   "source": [
    "# KNN on Red channel data"
   ]
  },
  {
   "cell_type": "code",
   "execution_count": 62,
   "id": "cb75cbbd",
   "metadata": {},
   "outputs": [],
   "source": [
    "#reading numpy array data\n",
    "red_test = np.load('red_data.npy')\n",
    "#reading csv file\n",
    "red_df = pd.read_csv('red_data.csv')"
   ]
  },
  {
   "cell_type": "code",
   "execution_count": 63,
   "id": "7fda7839",
   "metadata": {},
   "outputs": [],
   "source": [
    "loaded = []\n",
    "for i in red_test:\n",
    "    k = []\n",
    "    k = np.asarray(i,dtype='uint8')\n",
    "    loaded.append(k)\n",
    "features = loaded\n",
    "target = red_df['disease']\n",
    "Ftrain,Ftest,Ltrain,Ltest=train_test_split(features,target, test_size=0.50, random_state=20)"
   ]
  },
  {
   "cell_type": "code",
   "execution_count": 64,
   "id": "683839f2",
   "metadata": {},
   "outputs": [
    {
     "data": {
      "text/plain": [
       "0.47178640242224057"
      ]
     },
     "execution_count": 64,
     "metadata": {},
     "output_type": "execute_result"
    }
   ],
   "source": [
    "kmodel.fit(Ftrain,Ltrain)\n",
    "kmodel.score(Ftest,Ltest)"
   ]
  },
  {
   "cell_type": "code",
   "execution_count": 65,
   "id": "3f0b171c",
   "metadata": {},
   "outputs": [
    {
     "name": "stdout",
     "output_type": "stream",
     "text": [
      "                               precision    recall  f1-score   support\n",
      "\n",
      "               bacterial_spot       0.43      0.72      0.54       838\n",
      "                 early_blight       0.00      0.00      0.00       421\n",
      "                      healthy       0.35      0.67      0.46       665\n",
      "                  late_blight       0.41      0.31      0.36       749\n",
      "                    leaf_mold       0.57      0.32      0.41       364\n",
      "           septoria_leaf_spot       0.61      0.30      0.40       686\n",
      "                  target_spot       0.66      0.09      0.16       569\n",
      "          tomato_mosaic_virus       0.50      0.01      0.03       145\n",
      "tomato_yellow_leaf_curl_virus       0.51      0.65      0.58      2163\n",
      "      two-spotted_spider_mite       0.55      0.53      0.54       666\n",
      "\n",
      "                     accuracy                           0.47      7266\n",
      "                    macro avg       0.46      0.36      0.35      7266\n",
      "                 weighted avg       0.48      0.47      0.43      7266\n",
      "\n",
      "[[ 607    0   84   47    0    2    0    0   97    1]\n",
      " [ 168    0   34    7   14   15   11    0  139   33]\n",
      " [  19    0  443   36    1    3    0    0  161    2]\n",
      " [  69    0  149  234   24   72    4    0  169   28]\n",
      " [  25    0   63   32  118    6    2    0  111    7]\n",
      " [  38    0   94   69   21  203    3    2  203   53]\n",
      " [ 154    0   67    9    1   13   50    0  176   99]\n",
      " [   1    0   17    5    3    3    0    2  104   10]\n",
      " [ 241    0  315  100   26   13    0    0 1416   52]\n",
      " [  84    0   16   26    0    4    6    0  175  355]]\n"
     ]
    },
    {
     "name": "stderr",
     "output_type": "stream",
     "text": [
      "C:\\Users\\ravic\\anaconda3\\lib\\site-packages\\sklearn\\metrics\\_classification.py:1248: UndefinedMetricWarning: Precision and F-score are ill-defined and being set to 0.0 in labels with no predicted samples. Use `zero_division` parameter to control this behavior.\n",
      "  _warn_prf(average, modifier, msg_start, len(result))\n",
      "C:\\Users\\ravic\\anaconda3\\lib\\site-packages\\sklearn\\metrics\\_classification.py:1248: UndefinedMetricWarning: Precision and F-score are ill-defined and being set to 0.0 in labels with no predicted samples. Use `zero_division` parameter to control this behavior.\n",
      "  _warn_prf(average, modifier, msg_start, len(result))\n",
      "C:\\Users\\ravic\\anaconda3\\lib\\site-packages\\sklearn\\metrics\\_classification.py:1248: UndefinedMetricWarning: Precision and F-score are ill-defined and being set to 0.0 in labels with no predicted samples. Use `zero_division` parameter to control this behavior.\n",
      "  _warn_prf(average, modifier, msg_start, len(result))\n"
     ]
    }
   ],
   "source": [
    "y_predict = kmodel.fit(Ftrain, Ltrain).predict(Ftest)\n",
    "class_names = target.unique()\n",
    "print(classification_report(Ltest, y_predict, target_names=class_names))\n",
    "print(confusion_matrix(Ltest, y_predict))"
   ]
  },
  {
   "cell_type": "markdown",
   "id": "ffcda594",
   "metadata": {},
   "source": [
    "# Logistic on Red channel data"
   ]
  },
  {
   "cell_type": "code",
   "execution_count": 66,
   "id": "1ed4037b",
   "metadata": {},
   "outputs": [
    {
     "name": "stderr",
     "output_type": "stream",
     "text": [
      "C:\\Users\\ravic\\anaconda3\\lib\\site-packages\\sklearn\\linear_model\\_logistic.py:763: ConvergenceWarning: lbfgs failed to converge (status=1):\n",
      "STOP: TOTAL NO. of ITERATIONS REACHED LIMIT.\n",
      "\n",
      "Increase the number of iterations (max_iter) or scale the data as shown in:\n",
      "    https://scikit-learn.org/stable/modules/preprocessing.html\n",
      "Please also refer to the documentation for alternative solver options:\n",
      "    https://scikit-learn.org/stable/modules/linear_model.html#logistic-regression\n",
      "  n_iter_i = _check_optimize_result(\n"
     ]
    },
    {
     "data": {
      "text/plain": [
       "0.34516928158546656"
      ]
     },
     "execution_count": 66,
     "metadata": {},
     "output_type": "execute_result"
    }
   ],
   "source": [
    "model.fit(Ftrain,Ltrain)\n",
    "model.score(Ftest,Ltest)"
   ]
  },
  {
   "cell_type": "code",
   "execution_count": 67,
   "id": "19a4a62d",
   "metadata": {},
   "outputs": [
    {
     "name": "stderr",
     "output_type": "stream",
     "text": [
      "C:\\Users\\ravic\\anaconda3\\lib\\site-packages\\sklearn\\linear_model\\_logistic.py:763: ConvergenceWarning: lbfgs failed to converge (status=1):\n",
      "STOP: TOTAL NO. of ITERATIONS REACHED LIMIT.\n",
      "\n",
      "Increase the number of iterations (max_iter) or scale the data as shown in:\n",
      "    https://scikit-learn.org/stable/modules/preprocessing.html\n",
      "Please also refer to the documentation for alternative solver options:\n",
      "    https://scikit-learn.org/stable/modules/linear_model.html#logistic-regression\n",
      "  n_iter_i = _check_optimize_result(\n"
     ]
    },
    {
     "name": "stdout",
     "output_type": "stream",
     "text": [
      "                               precision    recall  f1-score   support\n",
      "\n",
      "               bacterial_spot       0.43      0.43      0.43       838\n",
      "                 early_blight       0.13      0.14      0.14       421\n",
      "                      healthy       0.31      0.31      0.31       665\n",
      "                  late_blight       0.27      0.26      0.26       749\n",
      "                    leaf_mold       0.21      0.27      0.23       364\n",
      "           septoria_leaf_spot       0.21      0.20      0.21       686\n",
      "                  target_spot       0.20      0.20      0.20       569\n",
      "          tomato_mosaic_virus       0.11      0.20      0.14       145\n",
      "tomato_yellow_leaf_curl_virus       0.57      0.51      0.54      2163\n",
      "      two-spotted_spider_mite       0.31      0.31      0.31       666\n",
      "\n",
      "                     accuracy                           0.35      7266\n",
      "                    macro avg       0.27      0.28      0.28      7266\n",
      "                 weighted avg       0.36      0.35      0.35      7266\n",
      "\n",
      "[[ 364   55   42   58   19   60   54    2  138   46]\n",
      " [  63   60   35   33   34   34   48    6   75   33]\n",
      " [  46   40  206   89   28   58   68    7   81   42]\n",
      " [  42   48   88  192   63  118   44   30  100   24]\n",
      " [  16   20   20   46   99   42   16   15   68   22]\n",
      " [  72   28   49  103   59  139   44   31  117   44]\n",
      " [  63   50   75   28   26   44  114   11   65   93]\n",
      " [   2    1    4   11   14    6    7   29   61   10]\n",
      " [ 130  114  124  116  113  112   99  105 1101  149]\n",
      " [  45   38   30   35   26   48   77   26  137  204]]\n"
     ]
    }
   ],
   "source": [
    "y_predict = model.fit(Ftrain, Ltrain).predict(Ftest)\n",
    "class_names = target.unique()\n",
    "print(classification_report(Ltest, y_predict, target_names=class_names))\n",
    "print(confusion_matrix(Ltest, y_predict))"
   ]
  },
  {
   "cell_type": "markdown",
   "id": "dba6d5ce",
   "metadata": {},
   "source": [
    "# SVM(linear) on Red channel data"
   ]
  },
  {
   "cell_type": "code",
   "execution_count": 68,
   "id": "6ed153f7",
   "metadata": {},
   "outputs": [
    {
     "name": "stdout",
     "output_type": "stream",
     "text": [
      "0.41150564271951556\n"
     ]
    }
   ],
   "source": [
    "clf.fit(Ftrain,Ltrain)\n",
    "y_pred = clf.predict(Ftest)\n",
    "print(accuracy_score(Ltest,y_pred))"
   ]
  },
  {
   "cell_type": "code",
   "execution_count": 69,
   "id": "cb2cb836",
   "metadata": {},
   "outputs": [
    {
     "name": "stdout",
     "output_type": "stream",
     "text": [
      "                               precision    recall  f1-score   support\n",
      "\n",
      "               bacterial_spot       0.37      0.58      0.45       838\n",
      "                 early_blight       0.18      0.20      0.19       421\n",
      "                      healthy       0.47      0.46      0.47       665\n",
      "                  late_blight       0.32      0.31      0.32       749\n",
      "                    leaf_mold       0.34      0.34      0.34       364\n",
      "           septoria_leaf_spot       0.30      0.32      0.31       686\n",
      "                  target_spot       0.32      0.30      0.31       569\n",
      "          tomato_mosaic_virus       0.25      0.30      0.27       145\n",
      "tomato_yellow_leaf_curl_virus       0.63      0.49      0.55      2163\n",
      "      two-spotted_spider_mite       0.45      0.38      0.41       666\n",
      "\n",
      "                     accuracy                           0.41      7266\n",
      "                    macro avg       0.36      0.37      0.36      7266\n",
      "                 weighted avg       0.43      0.41      0.42      7266\n",
      "\n",
      "[[ 484   61   38   54    3   31   22    1  125   19]\n",
      " [ 107   86   17   25   29   32   33    2   72   18]\n",
      " [ 104   29  309   65   16   55   30    0   36   21]\n",
      " [  83   58   77  235   52  108   28   14   70   24]\n",
      " [  33   16   13   55  125   41   10    9   55    7]\n",
      " [  73   31   40  107   40  218   53   26   65   33]\n",
      " [  94   49   22   26    6   55  170    4   54   89]\n",
      " [   5    2    2    9   12    8    6   44   50    7]\n",
      " [ 292  110  130  139   70  113   90   67 1065   87]\n",
      " [  45   43   12   21   16   73   94   11   97  254]]\n"
     ]
    }
   ],
   "source": [
    "y_predict = clf.fit(Ftrain, Ltrain).predict(Ftest)\n",
    "class_names = target.unique()\n",
    "print(classification_report(Ltest, y_predict, target_names=class_names))\n",
    "print(confusion_matrix(Ltest, y_predict))"
   ]
  },
  {
   "cell_type": "markdown",
   "id": "c77b6aed",
   "metadata": {},
   "source": [
    "# SVM(poly) on Red data"
   ]
  },
  {
   "cell_type": "code",
   "execution_count": 70,
   "id": "d066e758",
   "metadata": {},
   "outputs": [
    {
     "name": "stdout",
     "output_type": "stream",
     "text": [
      "0.5638590696394165\n"
     ]
    }
   ],
   "source": [
    "svm_poly.fit(Ftrain,Ltrain)\n",
    "y_pred = svm_poly.predict(Ftest)\n",
    "print(accuracy_score(Ltest,y_pred))"
   ]
  },
  {
   "cell_type": "code",
   "execution_count": 71,
   "id": "cea5d091",
   "metadata": {},
   "outputs": [
    {
     "name": "stdout",
     "output_type": "stream",
     "text": [
      "                               precision    recall  f1-score   support\n",
      "\n",
      "               bacterial_spot       0.48      0.69      0.57       838\n",
      "                 early_blight       0.23      0.20      0.21       421\n",
      "                      healthy       0.70      0.66      0.68       665\n",
      "                  late_blight       0.55      0.47      0.50       749\n",
      "                    leaf_mold       0.47      0.42      0.45       364\n",
      "           septoria_leaf_spot       0.42      0.44      0.43       686\n",
      "                  target_spot       0.45      0.42      0.44       569\n",
      "          tomato_mosaic_virus       0.30      0.32      0.31       145\n",
      "tomato_yellow_leaf_curl_virus       0.74      0.71      0.72      2163\n",
      "      two-spotted_spider_mite       0.59      0.56      0.57       666\n",
      "\n",
      "                     accuracy                           0.56      7266\n",
      "                    macro avg       0.49      0.49      0.49      7266\n",
      "                 weighted avg       0.57      0.56      0.56      7266\n",
      "\n",
      "[[ 582   26   25   34    4   32    6    0  125    4]\n",
      " [ 102   85   10   39   21   22   38    0   81   23]\n",
      " [  56   17  442   24   13   48   22    2   30   11]\n",
      " [  72   68   25  349   30   84   25    8   69   19]\n",
      " [  24   16   12   38  154   38   10   16   51    5]\n",
      " [  68   29   23   70   38  300   43   28   50   37]\n",
      " [  66   42   17    8    3   66  241    2   33   91]\n",
      " [   0    2    1    6   15   13    8   46   42   12]\n",
      " [ 208   49   63   63   42   59   55   42 1528   54]\n",
      " [  31   36    9    4    7   52   90   11   56  370]]\n"
     ]
    }
   ],
   "source": [
    "#classification report\n",
    "y_predict = svm_poly.fit(Ftrain, Ltrain).predict(Ftest)\n",
    "class_names = target.unique()\n",
    "print(classification_report(Ltest, y_predict, target_names=class_names))\n",
    "print(confusion_matrix(Ltest, y_predict))"
   ]
  },
  {
   "cell_type": "markdown",
   "id": "b1c7cc1d",
   "metadata": {},
   "source": [
    "# SVM(RBF) on Red data"
   ]
  },
  {
   "cell_type": "code",
   "execution_count": 72,
   "id": "d98d25ad",
   "metadata": {},
   "outputs": [
    {
     "name": "stdout",
     "output_type": "stream",
     "text": [
      "0.6729975227085053\n"
     ]
    }
   ],
   "source": [
    "svm_rbf.fit(Ftrain,Ltrain)\n",
    "y_pred = svm_rbf.predict(Ftest)\n",
    "print(accuracy_score(Ltest,y_pred))"
   ]
  },
  {
   "cell_type": "code",
   "execution_count": 73,
   "id": "e25383e4",
   "metadata": {},
   "outputs": [
    {
     "name": "stdout",
     "output_type": "stream",
     "text": [
      "                               precision    recall  f1-score   support\n",
      "\n",
      "               bacterial_spot       0.73      0.69      0.71       838\n",
      "                 early_blight       0.52      0.17      0.26       421\n",
      "                      healthy       0.76      0.83      0.80       665\n",
      "                  late_blight       0.62      0.63      0.63       749\n",
      "                    leaf_mold       0.67      0.46      0.54       364\n",
      "           septoria_leaf_spot       0.58      0.53      0.55       686\n",
      "                  target_spot       0.64      0.54      0.58       569\n",
      "          tomato_mosaic_virus       0.60      0.02      0.04       145\n",
      "tomato_yellow_leaf_curl_virus       0.69      0.88      0.77      2163\n",
      "      two-spotted_spider_mite       0.67      0.72      0.69       666\n",
      "\n",
      "                     accuracy                           0.67      7266\n",
      "                    macro avg       0.65      0.55      0.56      7266\n",
      "                 weighted avg       0.66      0.67      0.65      7266\n",
      "\n",
      "[[ 581    3   32   34    1   27    0    0  156    4]\n",
      " [  55   73    8   61   16   17   37    0  129   25]\n",
      " [   3    1  554   13    4   20   16    0   49    5]\n",
      " [   8   33   28  470   15   62   16    1  107    9]\n",
      " [   5    3   12   52  167   33    6    0   77    9]\n",
      " [  25    5   24   74   19  363   33    1  110   32]\n",
      " [  33    7   16   12    1   31  306    0   58  105]\n",
      " [   0    0    1    1    9   15    0    3   98   18]\n",
      " [  78   10   46   34   16   43   10    0 1893   33]\n",
      " [  11    5    4    2    1   20   57    0   86  480]]\n"
     ]
    }
   ],
   "source": [
    "#classification report\n",
    "y_predict = svm_rbf.fit(Ftrain, Ltrain).predict(Ftest)\n",
    "class_names = target.unique()\n",
    "print(classification_report(Ltest, y_predict, target_names=class_names))\n",
    "print(confusion_matrix(Ltest, y_predict))"
   ]
  },
  {
   "cell_type": "markdown",
   "id": "8232431f",
   "metadata": {},
   "source": [
    "# SVM(sigmoid) on Red data"
   ]
  },
  {
   "cell_type": "code",
   "execution_count": 74,
   "id": "2332bd9a",
   "metadata": {},
   "outputs": [
    {
     "name": "stdout",
     "output_type": "stream",
     "text": [
      "0.2597027250206441\n"
     ]
    }
   ],
   "source": [
    "svm_si.fit(Ftrain,Ltrain)\n",
    "y_pred = svm_si.predict(Ftest)\n",
    "print(accuracy_score(Ltest,y_pred))"
   ]
  },
  {
   "cell_type": "code",
   "execution_count": 75,
   "id": "ca6e2c45",
   "metadata": {},
   "outputs": [
    {
     "name": "stdout",
     "output_type": "stream",
     "text": [
      "                               precision    recall  f1-score   support\n",
      "\n",
      "               bacterial_spot       0.07      0.13      0.09       838\n",
      "                 early_blight       0.00      0.00      0.00       421\n",
      "                      healthy       0.00      0.00      0.00       665\n",
      "                  late_blight       0.00      0.00      0.00       749\n",
      "                    leaf_mold       0.00      0.00      0.00       364\n",
      "           septoria_leaf_spot       0.00      0.00      0.00       686\n",
      "                  target_spot       0.00      0.00      0.00       569\n",
      "          tomato_mosaic_virus       0.00      0.00      0.00       145\n",
      "tomato_yellow_leaf_curl_virus       0.32      0.82      0.46      2163\n",
      "      two-spotted_spider_mite       0.00      0.00      0.00       666\n",
      "\n",
      "                     accuracy                           0.26      7266\n",
      "                    macro avg       0.04      0.10      0.06      7266\n",
      "                 weighted avg       0.10      0.26      0.15      7266\n",
      "\n",
      "[[ 113    0    0    0    0    0    0    0  725    0]\n",
      " [  38    0    0    0    0    0    0    0  383    0]\n",
      " [ 164    0    0    0    0    0    0    0  501    0]\n",
      " [ 355    0    0    0    0   41    0   13  340    0]\n",
      " [  86    0    0    0    0    1    0    0  277    0]\n",
      " [ 366    0    0    0    0    0    0    0  320    0]\n",
      " [  35    0    0    0    0    1    0    0  533    0]\n",
      " [  16    0    0    0    0    0    0    0  129    0]\n",
      " [ 388    0    0    0    0    1    0    0 1774    0]\n",
      " [  79    0    0    0    0    0    0    0  587    0]]\n"
     ]
    },
    {
     "name": "stderr",
     "output_type": "stream",
     "text": [
      "C:\\Users\\ravic\\anaconda3\\lib\\site-packages\\sklearn\\metrics\\_classification.py:1248: UndefinedMetricWarning: Precision and F-score are ill-defined and being set to 0.0 in labels with no predicted samples. Use `zero_division` parameter to control this behavior.\n",
      "  _warn_prf(average, modifier, msg_start, len(result))\n",
      "C:\\Users\\ravic\\anaconda3\\lib\\site-packages\\sklearn\\metrics\\_classification.py:1248: UndefinedMetricWarning: Precision and F-score are ill-defined and being set to 0.0 in labels with no predicted samples. Use `zero_division` parameter to control this behavior.\n",
      "  _warn_prf(average, modifier, msg_start, len(result))\n",
      "C:\\Users\\ravic\\anaconda3\\lib\\site-packages\\sklearn\\metrics\\_classification.py:1248: UndefinedMetricWarning: Precision and F-score are ill-defined and being set to 0.0 in labels with no predicted samples. Use `zero_division` parameter to control this behavior.\n",
      "  _warn_prf(average, modifier, msg_start, len(result))\n"
     ]
    }
   ],
   "source": [
    "#classification report\n",
    "y_predict = svm_si.fit(Ftrain, Ltrain).predict(Ftest)\n",
    "class_names = target.unique()\n",
    "print(classification_report(Ltest, y_predict, target_names=class_names))\n",
    "print(confusion_matrix(Ltest, y_predict))"
   ]
  },
  {
   "cell_type": "markdown",
   "id": "a670c4d4",
   "metadata": {},
   "source": [
    "# Random forest on Red channel data"
   ]
  },
  {
   "cell_type": "code",
   "execution_count": 76,
   "id": "9e816e9e",
   "metadata": {},
   "outputs": [
    {
     "data": {
      "text/plain": [
       "0.4703372333103923"
      ]
     },
     "execution_count": 76,
     "metadata": {},
     "output_type": "execute_result"
    }
   ],
   "source": [
    "classifier_rf.fit(Ftrain, Ltrain)\n",
    "classifier_rf.oob_score_"
   ]
  },
  {
   "cell_type": "code",
   "execution_count": 77,
   "id": "2c17baee",
   "metadata": {},
   "outputs": [
    {
     "name": "stdout",
     "output_type": "stream",
     "text": [
      "                               precision    recall  f1-score   support\n",
      "\n",
      "               bacterial_spot       0.64      0.43      0.51       838\n",
      "                 early_blight       0.00      0.00      0.00       421\n",
      "                      healthy       0.58      0.28      0.38       665\n",
      "                  late_blight       0.63      0.23      0.34       749\n",
      "                    leaf_mold       0.68      0.06      0.11       364\n",
      "           septoria_leaf_spot       0.53      0.47      0.49       686\n",
      "                  target_spot       0.88      0.09      0.16       569\n",
      "          tomato_mosaic_virus       0.00      0.00      0.00       145\n",
      "tomato_yellow_leaf_curl_virus       0.40      0.91      0.56      2163\n",
      "      two-spotted_spider_mite       0.54      0.47      0.50       666\n",
      "\n",
      "                     accuracy                           0.47      7266\n",
      "                    macro avg       0.49      0.29      0.31      7266\n",
      "                 weighted avg       0.51      0.47      0.41      7266\n",
      "\n",
      "[[ 357    0   31   17    0    1    0    0  429    3]\n",
      " [  51    0    1   13    2   50    1    0  275   28]\n",
      " [   2    0  189    8    0    2    1    0  460    3]\n",
      " [  12    0   22  175    4  104    1    0  414   17]\n",
      " [  12    0    4   22   21   21    1    0  271   12]\n",
      " [   9    0   19   13    4  319    2    0  293   27]\n",
      " [  13    0    0    4    0   46   49    0  299  158]\n",
      " [   1    0    0    1    0    6    0    0  132    5]\n",
      " [  79    0   59   24    0   30    0    0 1959   12]\n",
      " [  19    0    0    0    0   26    1    0  309  311]]\n"
     ]
    },
    {
     "name": "stderr",
     "output_type": "stream",
     "text": [
      "C:\\Users\\ravic\\anaconda3\\lib\\site-packages\\sklearn\\metrics\\_classification.py:1248: UndefinedMetricWarning: Precision and F-score are ill-defined and being set to 0.0 in labels with no predicted samples. Use `zero_division` parameter to control this behavior.\n",
      "  _warn_prf(average, modifier, msg_start, len(result))\n",
      "C:\\Users\\ravic\\anaconda3\\lib\\site-packages\\sklearn\\metrics\\_classification.py:1248: UndefinedMetricWarning: Precision and F-score are ill-defined and being set to 0.0 in labels with no predicted samples. Use `zero_division` parameter to control this behavior.\n",
      "  _warn_prf(average, modifier, msg_start, len(result))\n",
      "C:\\Users\\ravic\\anaconda3\\lib\\site-packages\\sklearn\\metrics\\_classification.py:1248: UndefinedMetricWarning: Precision and F-score are ill-defined and being set to 0.0 in labels with no predicted samples. Use `zero_division` parameter to control this behavior.\n",
      "  _warn_prf(average, modifier, msg_start, len(result))\n"
     ]
    }
   ],
   "source": [
    "y_predict = classifier_rf.fit(Ftrain, Ltrain).predict(Ftest)\n",
    "class_names = target.unique()\n",
    "print(classification_report(Ltest, y_predict, target_names=class_names))\n",
    "print(confusion_matrix(Ltest, y_predict))"
   ]
  },
  {
   "cell_type": "markdown",
   "id": "e1c2d95a",
   "metadata": {},
   "source": [
    "# Gaussian Naive Bayes on Red channel data"
   ]
  },
  {
   "cell_type": "code",
   "execution_count": 78,
   "id": "8ec0753c",
   "metadata": {},
   "outputs": [
    {
     "data": {
      "text/plain": [
       "GaussianNB()"
      ]
     },
     "execution_count": 78,
     "metadata": {},
     "output_type": "execute_result"
    }
   ],
   "source": [
    "gnb.fit(Ftrain, Ltrain)"
   ]
  },
  {
   "cell_type": "code",
   "execution_count": 79,
   "id": "9bd3c55d",
   "metadata": {},
   "outputs": [
    {
     "data": {
      "text/plain": [
       "0.38508120011010183"
      ]
     },
     "execution_count": 79,
     "metadata": {},
     "output_type": "execute_result"
    }
   ],
   "source": [
    "y_pred = gnb.predict(Ftest)\n",
    "metrics.accuracy_score(Ltest, y_pred)"
   ]
  },
  {
   "cell_type": "code",
   "execution_count": 80,
   "id": "9ac4f5ac",
   "metadata": {},
   "outputs": [
    {
     "name": "stdout",
     "output_type": "stream",
     "text": [
      "                               precision    recall  f1-score   support\n",
      "\n",
      "               bacterial_spot       0.45      0.72      0.55       838\n",
      "                 early_blight       0.24      0.27      0.25       421\n",
      "                      healthy       0.35      0.71      0.47       665\n",
      "                  late_blight       0.49      0.27      0.35       749\n",
      "                    leaf_mold       0.35      0.27      0.30       364\n",
      "           septoria_leaf_spot       0.35      0.44      0.39       686\n",
      "                  target_spot       0.50      0.39      0.44       569\n",
      "          tomato_mosaic_virus       0.13      0.60      0.22       145\n",
      "tomato_yellow_leaf_curl_virus       0.64      0.16      0.25      2163\n",
      "      two-spotted_spider_mite       0.39      0.55      0.45       666\n",
      "\n",
      "                     accuracy                           0.39      7266\n",
      "                    macro avg       0.39      0.44      0.37      7266\n",
      "                 weighted avg       0.47      0.39      0.36      7266\n",
      "\n",
      "[[601  17 118  15  10  20   9  20  24   4]\n",
      " [122 112  12  51  18  24  31   6  16  29]\n",
      " [ 12   3 471  17  15  27  37  14  52  17]\n",
      " [ 14  93 223 200  26 115  15  20  24  19]\n",
      " [ 41  18  10  31  97  81   6  36  21  23]\n",
      " [ 14  22 102  23  21 303  37  52  26  86]\n",
      " [ 45  41   5  13   6  48 220  30   9 152]\n",
      " [ 18   1   4   0   6   8   0  87  12   9]\n",
      " [450 118 394  51  71 168  26 312 344 229]\n",
      " [ 28  42   1   6   5  74  60  76  11 363]]\n"
     ]
    }
   ],
   "source": [
    "class_names = target.unique()\n",
    "print(classification_report(Ltest, y_pred, target_names=class_names))\n",
    "print(confusion_matrix(Ltest, y_pred))"
   ]
  },
  {
   "cell_type": "markdown",
   "id": "0ac88b2d",
   "metadata": {},
   "source": [
    "# Bernouli Naive bayes on Red data"
   ]
  },
  {
   "cell_type": "code",
   "execution_count": 81,
   "id": "5979c201",
   "metadata": {},
   "outputs": [
    {
     "data": {
      "text/plain": [
       "0.304018717313515"
      ]
     },
     "execution_count": 81,
     "metadata": {},
     "output_type": "execute_result"
    }
   ],
   "source": [
    "bnb.fit(Ftrain, Ltrain)\n",
    "y_pred = bnb.predict(Ftest)\n",
    "metrics.accuracy_score(Ltest, y_pred)"
   ]
  },
  {
   "cell_type": "code",
   "execution_count": 82,
   "id": "662273ea",
   "metadata": {},
   "outputs": [
    {
     "name": "stdout",
     "output_type": "stream",
     "text": [
      "                               precision    recall  f1-score   support\n",
      "\n",
      "               bacterial_spot       0.00      0.00      0.00       838\n",
      "                 early_blight       0.17      0.04      0.06       421\n",
      "                      healthy       0.21      0.03      0.05       665\n",
      "                  late_blight       0.89      0.07      0.14       749\n",
      "                    leaf_mold       0.17      0.04      0.06       364\n",
      "           septoria_leaf_spot       0.17      0.04      0.07       686\n",
      "                  target_spot       0.17      0.02      0.04       569\n",
      "          tomato_mosaic_virus       0.03      0.01      0.02       145\n",
      "tomato_yellow_leaf_curl_virus       0.31      0.95      0.47      2163\n",
      "      two-spotted_spider_mite       0.10      0.01      0.01       666\n",
      "\n",
      "                     accuracy                           0.30      7266\n",
      "                    macro avg       0.22      0.12      0.09      7266\n",
      "                 weighted avg       0.26      0.30      0.18      7266\n",
      "\n",
      "[[   0    1    0    0    0    0    1    0  836    0]\n",
      " [   7   15   10    4   14   17    8   12  333    1]\n",
      " [   1    9   17    0    5   21    7    7  597    1]\n",
      " [   6   18   11   56   12   28    4    6  606    2]\n",
      " [   3   13   11    1   13   29    6    7  278    3]\n",
      " [   3    9   12    2   17   28   11   17  582    5]\n",
      " [   1    5    7    0    5   18   13    4  506   10]\n",
      " [   0    1    4    0    2    2    1    2  132    1]\n",
      " [   1   14    8    0    7   15   22   13 2060   23]\n",
      " [   0    1    1    0    1    5    3    1  649    5]]\n"
     ]
    }
   ],
   "source": [
    "class_names = target.unique()\n",
    "print(classification_report(Ltest, y_pred, target_names=class_names))\n",
    "print(confusion_matrix(Ltest, y_pred))"
   ]
  },
  {
   "cell_type": "markdown",
   "id": "0a606422",
   "metadata": {},
   "source": [
    "# Decision Tree on Red channel"
   ]
  },
  {
   "cell_type": "code",
   "execution_count": 83,
   "id": "2b6fe1e7",
   "metadata": {},
   "outputs": [
    {
     "data": {
      "text/plain": [
       "0.4179741260666116"
      ]
     },
     "execution_count": 83,
     "metadata": {},
     "output_type": "execute_result"
    }
   ],
   "source": [
    "classifier_tree.fit(Ftrain, Ltrain)\n",
    "classifier_tree.score(Ftest,Ltest)"
   ]
  },
  {
   "cell_type": "code",
   "execution_count": 84,
   "id": "7c5134cd",
   "metadata": {},
   "outputs": [
    {
     "name": "stdout",
     "output_type": "stream",
     "text": [
      "                               precision    recall  f1-score   support\n",
      "\n",
      "               bacterial_spot       0.48      0.48      0.48       838\n",
      "                 early_blight       0.14      0.13      0.14       421\n",
      "                      healthy       0.56      0.50      0.53       665\n",
      "                  late_blight       0.34      0.33      0.34       749\n",
      "                    leaf_mold       0.23      0.25      0.24       364\n",
      "           septoria_leaf_spot       0.32      0.37      0.34       686\n",
      "                  target_spot       0.28      0.27      0.28       569\n",
      "          tomato_mosaic_virus       0.09      0.12      0.10       145\n",
      "tomato_yellow_leaf_curl_virus       0.56      0.55      0.55      2163\n",
      "      two-spotted_spider_mite       0.38      0.38      0.38       666\n",
      "\n",
      "                     accuracy                           0.41      7266\n",
      "                    macro avg       0.34      0.34      0.34      7266\n",
      "                 weighted avg       0.42      0.41      0.41      7266\n",
      "\n",
      "[[ 405   49   28   54   24   39   21   13  180   25]\n",
      " [  48   55    9   49   24   36   43    8  113   36]\n",
      " [  25   15  330   45   31   49   35   13   93   29]\n",
      " [  57   45   41  249   41  101   34   17  124   40]\n",
      " [  17   15   17   34   92   41   19   18   78   33]\n",
      " [  44   32   31   71   37  251   54   12  115   39]\n",
      " [  38   39   21   48   16   69  155   14   75   94]\n",
      " [   2    6    5    9   12   12    5   17   55   22]\n",
      " [ 191  107   89  146   91  130   77   55 1185   92]\n",
      " [  23   26   20   24   24   56  114   28   97  254]]\n"
     ]
    }
   ],
   "source": [
    "y_predict = classifier_tree.fit(Ftrain, Ltrain).predict(Ftest)\n",
    "class_names = target.unique()\n",
    "print(classification_report(Ltest, y_predict, target_names=class_names))\n",
    "print(confusion_matrix(Ltest, y_predict))"
   ]
  },
  {
   "cell_type": "markdown",
   "id": "21af7568",
   "metadata": {},
   "source": [
    "# KNN on green channel data"
   ]
  },
  {
   "cell_type": "code",
   "execution_count": 85,
   "id": "461b784b",
   "metadata": {},
   "outputs": [
    {
     "data": {
      "text/plain": [
       "0.4347646573080099"
      ]
     },
     "execution_count": 85,
     "metadata": {},
     "output_type": "execute_result"
    }
   ],
   "source": [
    "#reading numpy array data\n",
    "green_test = np.load('green_data.npy')\n",
    "#reading csv file\n",
    "green_df = pd.read_csv('green_data.csv')\n",
    "loaded = []\n",
    "for i in green_test:\n",
    "    k = []\n",
    "    k = np.asarray(i,dtype='uint8')\n",
    "    loaded.append(k)\n",
    "features = loaded\n",
    "target = green_df['disease']\n",
    "Ftrain,Ftest,Ltrain,Ltest=train_test_split(features,target, test_size=0.50, random_state=20)\n",
    "kmodel.fit(Ftrain,Ltrain)\n",
    "kmodel.score(Ftest,Ltest)"
   ]
  },
  {
   "cell_type": "code",
   "execution_count": 86,
   "id": "5a26601b",
   "metadata": {},
   "outputs": [
    {
     "name": "stdout",
     "output_type": "stream",
     "text": [
      "                               precision    recall  f1-score   support\n",
      "\n",
      "               bacterial_spot       0.32      0.76      0.45       838\n",
      "                 early_blight       0.00      0.00      0.00       421\n",
      "                      healthy       0.31      0.55      0.40       665\n",
      "                  late_blight       0.27      0.25      0.26       749\n",
      "                    leaf_mold       0.57      0.28      0.38       364\n",
      "           septoria_leaf_spot       0.67      0.31      0.43       686\n",
      "                  target_spot       0.68      0.02      0.04       569\n",
      "          tomato_mosaic_virus       0.00      0.00      0.00       145\n",
      "tomato_yellow_leaf_curl_virus       0.57      0.65      0.61      2163\n",
      "      two-spotted_spider_mite       0.59      0.34      0.43       666\n",
      "\n",
      "                     accuracy                           0.43      7266\n",
      "                    macro avg       0.40      0.32      0.30      7266\n",
      "                 weighted avg       0.46      0.43      0.40      7266\n",
      "\n",
      "[[ 641    0   66   45    2    1    0    0   83    0]\n",
      " [ 236    0   13   16    6   11    2    0  117   20]\n",
      " [ 162    0  363   83    1    4    1    0   50    1]\n",
      " [ 114    0  167  185   16   58    1    0  187   21]\n",
      " [  69    0   35   50  102    3    0    0   98    7]\n",
      " [  43    0  140   79   23  215    0    0  166   20]\n",
      " [ 267    0   34   38    2   12   13    0  131   72]\n",
      " [  16    0   21   20   10    2    0    0   70    6]\n",
      " [ 286    0  311  117   14    9    0    0 1413   13]\n",
      " [ 181    0   20   50    3    6    2    0  177  227]]\n"
     ]
    },
    {
     "name": "stderr",
     "output_type": "stream",
     "text": [
      "C:\\Users\\ravic\\anaconda3\\lib\\site-packages\\sklearn\\metrics\\_classification.py:1248: UndefinedMetricWarning: Precision and F-score are ill-defined and being set to 0.0 in labels with no predicted samples. Use `zero_division` parameter to control this behavior.\n",
      "  _warn_prf(average, modifier, msg_start, len(result))\n",
      "C:\\Users\\ravic\\anaconda3\\lib\\site-packages\\sklearn\\metrics\\_classification.py:1248: UndefinedMetricWarning: Precision and F-score are ill-defined and being set to 0.0 in labels with no predicted samples. Use `zero_division` parameter to control this behavior.\n",
      "  _warn_prf(average, modifier, msg_start, len(result))\n",
      "C:\\Users\\ravic\\anaconda3\\lib\\site-packages\\sklearn\\metrics\\_classification.py:1248: UndefinedMetricWarning: Precision and F-score are ill-defined and being set to 0.0 in labels with no predicted samples. Use `zero_division` parameter to control this behavior.\n",
      "  _warn_prf(average, modifier, msg_start, len(result))\n"
     ]
    }
   ],
   "source": [
    "y_predict = kmodel.fit(Ftrain, Ltrain).predict(Ftest)\n",
    "class_names = target.unique()\n",
    "print(classification_report(Ltest, y_predict, target_names=class_names))\n",
    "print(confusion_matrix(Ltest, y_predict))"
   ]
  },
  {
   "cell_type": "markdown",
   "id": "71f3ea86",
   "metadata": {},
   "source": [
    "# Logistic on Green channel data"
   ]
  },
  {
   "cell_type": "code",
   "execution_count": 87,
   "id": "28dad6b2",
   "metadata": {},
   "outputs": [
    {
     "name": "stderr",
     "output_type": "stream",
     "text": [
      "C:\\Users\\ravic\\anaconda3\\lib\\site-packages\\sklearn\\linear_model\\_logistic.py:763: ConvergenceWarning: lbfgs failed to converge (status=1):\n",
      "STOP: TOTAL NO. of ITERATIONS REACHED LIMIT.\n",
      "\n",
      "Increase the number of iterations (max_iter) or scale the data as shown in:\n",
      "    https://scikit-learn.org/stable/modules/preprocessing.html\n",
      "Please also refer to the documentation for alternative solver options:\n",
      "    https://scikit-learn.org/stable/modules/linear_model.html#logistic-regression\n",
      "  n_iter_i = _check_optimize_result(\n"
     ]
    },
    {
     "data": {
      "text/plain": [
       "0.3620974401321222"
      ]
     },
     "execution_count": 87,
     "metadata": {},
     "output_type": "execute_result"
    }
   ],
   "source": [
    "model.fit(Ftrain,Ltrain)\n",
    "model.score(Ftest,Ltest)"
   ]
  },
  {
   "cell_type": "code",
   "execution_count": 88,
   "id": "fb6982d8",
   "metadata": {},
   "outputs": [
    {
     "name": "stderr",
     "output_type": "stream",
     "text": [
      "C:\\Users\\ravic\\anaconda3\\lib\\site-packages\\sklearn\\linear_model\\_logistic.py:763: ConvergenceWarning: lbfgs failed to converge (status=1):\n",
      "STOP: TOTAL NO. of ITERATIONS REACHED LIMIT.\n",
      "\n",
      "Increase the number of iterations (max_iter) or scale the data as shown in:\n",
      "    https://scikit-learn.org/stable/modules/preprocessing.html\n",
      "Please also refer to the documentation for alternative solver options:\n",
      "    https://scikit-learn.org/stable/modules/linear_model.html#logistic-regression\n",
      "  n_iter_i = _check_optimize_result(\n"
     ]
    },
    {
     "name": "stdout",
     "output_type": "stream",
     "text": [
      "                               precision    recall  f1-score   support\n",
      "\n",
      "               bacterial_spot       0.47      0.45      0.46       838\n",
      "                 early_blight       0.17      0.19      0.18       421\n",
      "                      healthy       0.35      0.35      0.35       665\n",
      "                  late_blight       0.27      0.25      0.26       749\n",
      "                    leaf_mold       0.20      0.27      0.23       364\n",
      "           septoria_leaf_spot       0.20      0.19      0.19       686\n",
      "                  target_spot       0.20      0.19      0.19       569\n",
      "          tomato_mosaic_virus       0.07      0.15      0.10       145\n",
      "tomato_yellow_leaf_curl_virus       0.59      0.54      0.57      2163\n",
      "      two-spotted_spider_mite       0.32      0.33      0.33       666\n",
      "\n",
      "                     accuracy                           0.36      7266\n",
      "                    macro avg       0.29      0.29      0.29      7266\n",
      "                 weighted avg       0.38      0.36      0.37      7266\n",
      "\n",
      "[[ 375   51   41   61   18   45   46    2  152   47]\n",
      " [  51   81   33   30   28   25   50    6   74   43]\n",
      " [  43   44  234   69   35   60   58   15   62   45]\n",
      " [  29   63   58  188   73  118   45   48   98   29]\n",
      " [  20   16   15   49   98   43   21   19   62   21]\n",
      " [  61   24   61   92   60  127   44   35  141   41]\n",
      " [  65   48   61   32   29   49  107   29   55   94]\n",
      " [   7    4    8   13   13    8    9   22   49   12]\n",
      " [ 115   96  118  126  113  113   84   87 1178  133]\n",
      " [  33   47   31   31   23   46   66   42  126  221]]\n"
     ]
    }
   ],
   "source": [
    "y_predict = model.fit(Ftrain, Ltrain).predict(Ftest)\n",
    "class_names = target.unique()\n",
    "print(classification_report(Ltest, y_predict, target_names=class_names))\n",
    "print(confusion_matrix(Ltest, y_predict))"
   ]
  },
  {
   "cell_type": "markdown",
   "id": "f62f0223",
   "metadata": {},
   "source": [
    "# SVM(linear) on green channel data"
   ]
  },
  {
   "cell_type": "code",
   "execution_count": 89,
   "id": "e89e7297",
   "metadata": {},
   "outputs": [
    {
     "name": "stdout",
     "output_type": "stream",
     "text": [
      "0.38329204514175613\n"
     ]
    }
   ],
   "source": [
    "clf.fit(Ftrain,Ltrain)\n",
    "y_pred = clf.predict(Ftest)\n",
    "print(accuracy_score(Ltest,y_pred))"
   ]
  },
  {
   "cell_type": "code",
   "execution_count": 90,
   "id": "356165a0",
   "metadata": {},
   "outputs": [
    {
     "name": "stdout",
     "output_type": "stream",
     "text": [
      "                               precision    recall  f1-score   support\n",
      "\n",
      "               bacterial_spot       0.33      0.52      0.40       838\n",
      "                 early_blight       0.17      0.21      0.19       421\n",
      "                      healthy       0.43      0.43      0.43       665\n",
      "                  late_blight       0.34      0.33      0.33       749\n",
      "                    leaf_mold       0.25      0.30      0.27       364\n",
      "           septoria_leaf_spot       0.29      0.28      0.28       686\n",
      "                  target_spot       0.27      0.24      0.25       569\n",
      "          tomato_mosaic_virus       0.13      0.16      0.14       145\n",
      "tomato_yellow_leaf_curl_virus       0.62      0.49      0.54      2163\n",
      "      two-spotted_spider_mite       0.40      0.33      0.36       666\n",
      "\n",
      "                     accuracy                           0.38      7266\n",
      "                    macro avg       0.32      0.33      0.32      7266\n",
      "                 weighted avg       0.41      0.38      0.39      7266\n",
      "\n",
      "[[ 433   80   36   54   16   30   34    2  119   34]\n",
      " [ 103   88   10   36   32   12   44    1   66   29]\n",
      " [ 107   23  289   65   26   50   41    5   35   24]\n",
      " [  79   74   62  245   56   88   28   22   71   24]\n",
      " [  41   19   17   57  108   40   12   14   46   10]\n",
      " [  88   28   63   94   39  193   41   15   95   30]\n",
      " [ 107   47   46   29   16   40  136    9   61   78]\n",
      " [  13    3    7   15   22   13    8   23   37    4]\n",
      " [ 270  102  129  107   88  161   92   70 1050   94]\n",
      " [  69   62   16   27   22   47   76   14  113  220]]\n"
     ]
    }
   ],
   "source": [
    "y_predict = clf.fit(Ftrain, Ltrain).predict(Ftest)\n",
    "class_names = target.unique()\n",
    "print(classification_report(Ltest, y_predict, target_names=class_names))\n",
    "print(confusion_matrix(Ltest, y_predict))"
   ]
  },
  {
   "cell_type": "markdown",
   "id": "d64ddbd0",
   "metadata": {},
   "source": [
    "# SVM(poly) on Green data"
   ]
  },
  {
   "cell_type": "code",
   "execution_count": 91,
   "id": "fe7747a4",
   "metadata": {},
   "outputs": [
    {
     "name": "stdout",
     "output_type": "stream",
     "text": [
      "0.5412881915772089\n"
     ]
    }
   ],
   "source": [
    "svm_poly.fit(Ftrain,Ltrain)\n",
    "y_pred = svm_poly.predict(Ftest)\n",
    "print(accuracy_score(Ltest,y_pred))"
   ]
  },
  {
   "cell_type": "code",
   "execution_count": 92,
   "id": "c2c08920",
   "metadata": {},
   "outputs": [
    {
     "name": "stdout",
     "output_type": "stream",
     "text": [
      "                               precision    recall  f1-score   support\n",
      "\n",
      "               bacterial_spot       0.46      0.72      0.56       838\n",
      "                 early_blight       0.19      0.18      0.19       421\n",
      "                      healthy       0.65      0.59      0.62       665\n",
      "                  late_blight       0.53      0.48      0.50       749\n",
      "                    leaf_mold       0.38      0.43      0.41       364\n",
      "           septoria_leaf_spot       0.42      0.38      0.40       686\n",
      "                  target_spot       0.39      0.35      0.37       569\n",
      "          tomato_mosaic_virus       0.22      0.21      0.22       145\n",
      "tomato_yellow_leaf_curl_virus       0.74      0.69      0.72      2163\n",
      "      two-spotted_spider_mite       0.60      0.53      0.56       666\n",
      "\n",
      "                     accuracy                           0.54      7266\n",
      "                    macro avg       0.46      0.46      0.45      7266\n",
      "                 weighted avg       0.55      0.54      0.54      7266\n",
      "\n",
      "[[ 600   28   23   42   13   25    8    1   93    5]\n",
      " [ 111   76    5   40   22    8   40    2   83   34]\n",
      " [  72   18  392   25   23   48   48    2   23   14]\n",
      " [  61   72   26  358   41   60   29   10   74   18]\n",
      " [  31   20   11   39  158   39   14   14   26   12]\n",
      " [  90   30   48   63   52  263   29   17   72   22]\n",
      " [ 100   52   29   13   18   31  198   10   47   71]\n",
      " [   7    4    5   10   23   18   12   30   26   10]\n",
      " [ 196   62   52   77   48   96   41   34 1503   54]\n",
      " [  41   31   12    6   15   35   86   14   71  355]]\n"
     ]
    }
   ],
   "source": [
    "#classification report\n",
    "y_predict = svm_poly.fit(Ftrain, Ltrain).predict(Ftest)\n",
    "class_names = target.unique()\n",
    "print(classification_report(Ltest, y_predict, target_names=class_names))\n",
    "print(confusion_matrix(Ltest, y_predict))"
   ]
  },
  {
   "cell_type": "markdown",
   "id": "c497379e",
   "metadata": {},
   "source": [
    "# SVM(RBF) on green data"
   ]
  },
  {
   "cell_type": "code",
   "execution_count": 93,
   "id": "684010e1",
   "metadata": {},
   "outputs": [
    {
     "name": "stdout",
     "output_type": "stream",
     "text": [
      "0.677401596476741\n"
     ]
    }
   ],
   "source": [
    "svm_rbf.fit(Ftrain,Ltrain)\n",
    "y_pred = svm_rbf.predict(Ftest)\n",
    "print(accuracy_score(Ltest,y_pred))"
   ]
  },
  {
   "cell_type": "code",
   "execution_count": 94,
   "id": "b4566ab3",
   "metadata": {},
   "outputs": [
    {
     "name": "stdout",
     "output_type": "stream",
     "text": [
      "                               precision    recall  f1-score   support\n",
      "\n",
      "               bacterial_spot       0.74      0.70      0.72       838\n",
      "                 early_blight       0.45      0.16      0.23       421\n",
      "                      healthy       0.77      0.82      0.79       665\n",
      "                  late_blight       0.64      0.62      0.63       749\n",
      "                    leaf_mold       0.60      0.43      0.50       364\n",
      "           septoria_leaf_spot       0.64      0.60      0.62       686\n",
      "                  target_spot       0.63      0.52      0.57       569\n",
      "          tomato_mosaic_virus       0.50      0.02      0.04       145\n",
      "tomato_yellow_leaf_curl_virus       0.68      0.89      0.77      2163\n",
      "      two-spotted_spider_mite       0.70      0.69      0.70       666\n",
      "\n",
      "                     accuracy                           0.68      7266\n",
      "                    macro avg       0.63      0.55      0.56      7266\n",
      "                 weighted avg       0.66      0.68      0.66      7266\n",
      "\n",
      "[[ 589    2   28   21   10   17    2    0  167    2]\n",
      " [  56   67    4   62   16   12   47    0  129   28]\n",
      " [   2    0  542   13    4   25   30    0   43    6]\n",
      " [   8   31   19  468   16   52   11    0  132   12]\n",
      " [  10   10   10   51  157   39    9    2   67    9]\n",
      " [  20    3   39   49   21  412   23    1  109    9]\n",
      " [  30   14   23   22   10   25  294    0   76   75]\n",
      " [   4    0    6    4   18   18    2    3   73   17]\n",
      " [  64    8   29   35    9   37   13    0 1929   39]\n",
      " [  17   15    7    7    2   11   38    0  108  461]]\n"
     ]
    }
   ],
   "source": [
    "#classification report\n",
    "y_predict = svm_rbf.fit(Ftrain, Ltrain).predict(Ftest)\n",
    "class_names = target.unique()\n",
    "print(classification_report(Ltest, y_predict, target_names=class_names))\n",
    "print(confusion_matrix(Ltest, y_predict))"
   ]
  },
  {
   "cell_type": "markdown",
   "id": "3c889845",
   "metadata": {},
   "source": [
    "# SVM(sigmoid) on green data"
   ]
  },
  {
   "cell_type": "code",
   "execution_count": 95,
   "id": "68762982",
   "metadata": {},
   "outputs": [
    {
     "name": "stdout",
     "output_type": "stream",
     "text": [
      "0.28075970272502065\n"
     ]
    }
   ],
   "source": [
    "svm_si.fit(Ftrain,Ltrain)\n",
    "y_pred = svm_si.predict(Ftest)\n",
    "print(accuracy_score(Ltest,y_pred))"
   ]
  },
  {
   "cell_type": "code",
   "execution_count": 96,
   "id": "84c31d85",
   "metadata": {},
   "outputs": [
    {
     "name": "stdout",
     "output_type": "stream",
     "text": [
      "                               precision    recall  f1-score   support\n",
      "\n",
      "               bacterial_spot       0.06      0.02      0.03       838\n",
      "                 early_blight       0.00      0.00      0.00       421\n",
      "                      healthy       0.00      0.00      0.00       665\n",
      "                  late_blight       0.00      0.00      0.00       749\n",
      "                    leaf_mold       0.00      0.00      0.00       364\n",
      "           septoria_leaf_spot       0.00      0.00      0.00       686\n",
      "                  target_spot       0.00      0.00      0.00       569\n",
      "          tomato_mosaic_virus       0.00      0.00      0.00       145\n",
      "tomato_yellow_leaf_curl_virus       0.29      0.94      0.44      2163\n",
      "      two-spotted_spider_mite       0.00      0.00      0.00       666\n",
      "\n",
      "                     accuracy                           0.28      7266\n",
      "                    macro avg       0.03      0.10      0.05      7266\n",
      "                 weighted avg       0.09      0.28      0.14      7266\n",
      "\n",
      "[[  14    0    0    0    0    0    0    0  824    0]\n",
      " [   3    0    0    0    0    0    0    0  418    0]\n",
      " [   0    0    0    0    0    0    0    0  665    0]\n",
      " [  20    0    0    0    0   50    0    0  679    0]\n",
      " [   0    0    0    0    0    0    0    0  364    0]\n",
      " [  72    0    0    0    0    0    0    0  614    0]\n",
      " [   1    0    0    0    0    0    0    0  568    0]\n",
      " [   2    0    0    0    0    0    0    0  143    0]\n",
      " [ 137    0    0    0    0    0    0    0 2026    0]\n",
      " [   0    0    0    0    0    0    0    0  666    0]]\n"
     ]
    },
    {
     "name": "stderr",
     "output_type": "stream",
     "text": [
      "C:\\Users\\ravic\\anaconda3\\lib\\site-packages\\sklearn\\metrics\\_classification.py:1248: UndefinedMetricWarning: Precision and F-score are ill-defined and being set to 0.0 in labels with no predicted samples. Use `zero_division` parameter to control this behavior.\n",
      "  _warn_prf(average, modifier, msg_start, len(result))\n",
      "C:\\Users\\ravic\\anaconda3\\lib\\site-packages\\sklearn\\metrics\\_classification.py:1248: UndefinedMetricWarning: Precision and F-score are ill-defined and being set to 0.0 in labels with no predicted samples. Use `zero_division` parameter to control this behavior.\n",
      "  _warn_prf(average, modifier, msg_start, len(result))\n",
      "C:\\Users\\ravic\\anaconda3\\lib\\site-packages\\sklearn\\metrics\\_classification.py:1248: UndefinedMetricWarning: Precision and F-score are ill-defined and being set to 0.0 in labels with no predicted samples. Use `zero_division` parameter to control this behavior.\n",
      "  _warn_prf(average, modifier, msg_start, len(result))\n"
     ]
    }
   ],
   "source": [
    "#classification report\n",
    "y_predict = svm_si.fit(Ftrain, Ltrain).predict(Ftest)\n",
    "class_names = target.unique()\n",
    "print(classification_report(Ltest, y_predict, target_names=class_names))\n",
    "print(confusion_matrix(Ltest, y_predict))"
   ]
  },
  {
   "cell_type": "markdown",
   "id": "4f8e565e",
   "metadata": {},
   "source": [
    "# Random Forest on green channel data"
   ]
  },
  {
   "cell_type": "code",
   "execution_count": 97,
   "id": "96c92f8f",
   "metadata": {},
   "outputs": [
    {
     "data": {
      "text/plain": [
       "0.4236751548520303"
      ]
     },
     "execution_count": 97,
     "metadata": {},
     "output_type": "execute_result"
    }
   ],
   "source": [
    "classifier_rf.fit(Ftrain, Ltrain)\n",
    "classifier_rf.oob_score_"
   ]
  },
  {
   "cell_type": "code",
   "execution_count": 98,
   "id": "b158d3b7",
   "metadata": {},
   "outputs": [
    {
     "name": "stdout",
     "output_type": "stream",
     "text": [
      "                               precision    recall  f1-score   support\n",
      "\n",
      "               bacterial_spot       0.60      0.45      0.51       838\n",
      "                 early_blight       0.00      0.00      0.00       421\n",
      "                      healthy       0.62      0.34      0.44       665\n",
      "                  late_blight       0.64      0.24      0.35       749\n",
      "                    leaf_mold       0.00      0.00      0.00       364\n",
      "           septoria_leaf_spot       0.59      0.40      0.48       686\n",
      "                  target_spot       1.00      0.00      0.00       569\n",
      "          tomato_mosaic_virus       0.00      0.00      0.00       145\n",
      "tomato_yellow_leaf_curl_virus       0.37      0.93      0.53      2163\n",
      "      two-spotted_spider_mite       0.73      0.01      0.02       666\n",
      "\n",
      "                     accuracy                           0.42      7266\n",
      "                    macro avg       0.45      0.24      0.23      7266\n",
      "                 weighted avg       0.50      0.42      0.34      7266\n",
      "\n",
      "[[ 375    0   24   15    0    0    0    0  424    0]\n",
      " [  64    0    4    5    0   40    0    0  308    0]\n",
      " [   2    0  224   22    0    1    0    0  416    0]\n",
      " [  28    0   29  182    0   71    0    0  438    1]\n",
      " [  26    0    5    4    0    9    0    0  320    0]\n",
      " [   7    0   41   27    0  275    0    0  336    0]\n",
      " [  17    0    7    5    0   32    1    0  505    2]\n",
      " [   2    0    2    6    0    1    0    0  134    0]\n",
      " [  81    0   24   18    0   18    0    0 2022    0]\n",
      " [  27    0    1    0    0   16    0    0  614    8]]\n"
     ]
    },
    {
     "name": "stderr",
     "output_type": "stream",
     "text": [
      "C:\\Users\\ravic\\anaconda3\\lib\\site-packages\\sklearn\\metrics\\_classification.py:1248: UndefinedMetricWarning: Precision and F-score are ill-defined and being set to 0.0 in labels with no predicted samples. Use `zero_division` parameter to control this behavior.\n",
      "  _warn_prf(average, modifier, msg_start, len(result))\n",
      "C:\\Users\\ravic\\anaconda3\\lib\\site-packages\\sklearn\\metrics\\_classification.py:1248: UndefinedMetricWarning: Precision and F-score are ill-defined and being set to 0.0 in labels with no predicted samples. Use `zero_division` parameter to control this behavior.\n",
      "  _warn_prf(average, modifier, msg_start, len(result))\n",
      "C:\\Users\\ravic\\anaconda3\\lib\\site-packages\\sklearn\\metrics\\_classification.py:1248: UndefinedMetricWarning: Precision and F-score are ill-defined and being set to 0.0 in labels with no predicted samples. Use `zero_division` parameter to control this behavior.\n",
      "  _warn_prf(average, modifier, msg_start, len(result))\n"
     ]
    }
   ],
   "source": [
    "y_predict = classifier_rf.fit(Ftrain, Ltrain).predict(Ftest)\n",
    "class_names = target.unique()\n",
    "print(classification_report(Ltest, y_predict, target_names=class_names))\n",
    "print(confusion_matrix(Ltest, y_predict))"
   ]
  },
  {
   "cell_type": "markdown",
   "id": "e9b1cca9",
   "metadata": {},
   "source": [
    "# Gaussian Naive bayes on Green channel data"
   ]
  },
  {
   "cell_type": "code",
   "execution_count": 99,
   "id": "1136802c",
   "metadata": {},
   "outputs": [
    {
     "data": {
      "text/plain": [
       "0.3385631709331131"
      ]
     },
     "execution_count": 99,
     "metadata": {},
     "output_type": "execute_result"
    }
   ],
   "source": [
    "gnb.fit(Ftrain, Ltrain)\n",
    "y_pred = gnb.predict(Ftest)\n",
    "metrics.accuracy_score(Ltest, y_pred)"
   ]
  },
  {
   "cell_type": "code",
   "execution_count": 100,
   "id": "cb4c448e",
   "metadata": {},
   "outputs": [
    {
     "name": "stdout",
     "output_type": "stream",
     "text": [
      "                               precision    recall  f1-score   support\n",
      "\n",
      "               bacterial_spot       0.41      0.71      0.52       838\n",
      "                 early_blight       0.25      0.34      0.29       421\n",
      "                      healthy       0.34      0.59      0.43       665\n",
      "                  late_blight       0.42      0.21      0.28       749\n",
      "                    leaf_mold       0.32      0.27      0.29       364\n",
      "           septoria_leaf_spot       0.28      0.47      0.35       686\n",
      "                  target_spot       0.48      0.32      0.39       569\n",
      "          tomato_mosaic_virus       0.11      0.51      0.18       145\n",
      "tomato_yellow_leaf_curl_virus       0.55      0.12      0.19      2163\n",
      "      two-spotted_spider_mite       0.34      0.36      0.35       666\n",
      "\n",
      "                     accuracy                           0.34      7266\n",
      "                    macro avg       0.35      0.39      0.33      7266\n",
      "                 weighted avg       0.41      0.34      0.32      7266\n",
      "\n",
      "[[593  17  84   7  12  32   8  60  15  10]\n",
      " [114 145   7  53  16  22  21   9   8  26]\n",
      " [ 17   4 395  13  29  27  56  38  64  22]\n",
      " [ 22 145 215 158  16  95  14  38  23  23]\n",
      " [ 50  17  14  23  97  73   6  54  13  17]\n",
      " [  5  12 135  13  33 321  25  53  33  56]\n",
      " [ 67  34  10  33  27  69 184  36  11  98]\n",
      " [ 23   0  14   2   6   8   3  74   8   7]\n",
      " [508 137 290  62  43 404  24 247 255 193]\n",
      " [ 65  74   8  15  24  91  40  74  37 238]]\n"
     ]
    }
   ],
   "source": [
    "class_names = target.unique()\n",
    "print(classification_report(Ltest, y_pred, target_names=class_names))\n",
    "print(confusion_matrix(Ltest, y_pred))"
   ]
  },
  {
   "cell_type": "markdown",
   "id": "9fb12c0c",
   "metadata": {},
   "source": [
    "# Bernouli Naive bayes on green data"
   ]
  },
  {
   "cell_type": "code",
   "execution_count": 101,
   "id": "b1608412",
   "metadata": {},
   "outputs": [
    {
     "data": {
      "text/plain": [
       "0.315028901734104"
      ]
     },
     "execution_count": 101,
     "metadata": {},
     "output_type": "execute_result"
    }
   ],
   "source": [
    "bnb.fit(Ftrain, Ltrain)\n",
    "y_pred = bnb.predict(Ftest)\n",
    "metrics.accuracy_score(Ltest, y_pred)"
   ]
  },
  {
   "cell_type": "code",
   "execution_count": 102,
   "id": "3540eeb4",
   "metadata": {},
   "outputs": [
    {
     "name": "stdout",
     "output_type": "stream",
     "text": [
      "                               precision    recall  f1-score   support\n",
      "\n",
      "               bacterial_spot       0.00      0.00      0.00       838\n",
      "                 early_blight       0.36      0.07      0.12       421\n",
      "                      healthy       0.20      0.02      0.04       665\n",
      "                  late_blight       0.88      0.08      0.14       749\n",
      "                    leaf_mold       0.34      0.04      0.07       364\n",
      "           septoria_leaf_spot       0.15      0.02      0.03       686\n",
      "                  target_spot       0.11      0.00      0.01       569\n",
      "          tomato_mosaic_virus       0.00      0.00      0.00       145\n",
      "tomato_yellow_leaf_curl_virus       0.32      1.00      0.48      2163\n",
      "      two-spotted_spider_mite       0.00      0.00      0.00       666\n",
      "\n",
      "                     accuracy                           0.32      7266\n",
      "                    macro avg       0.24      0.12      0.09      7266\n",
      "                 weighted avg       0.26      0.32      0.17      7266\n",
      "\n",
      "[[   0    0    0    0    0    0    0    0  838    0]\n",
      " [   2   29   24    4    6   20    3    8  323    2]\n",
      " [   4    9   13    0    2   15    3    0  619    0]\n",
      " [  10   21    8   57   16   22    4   20  585    6]\n",
      " [   4    8    6    0   15    8    2    1  320    0]\n",
      " [   5   12    9    4    4   13    4    3  632    0]\n",
      " [   0    0    2    0    0    3    2    0  562    0]\n",
      " [   1    1    2    0    1    3    1    0  136    0]\n",
      " [   1    0    2    0    0    0    0    0 2160    0]\n",
      " [   0    0    0    0    0    0    0    0  666    0]]\n"
     ]
    }
   ],
   "source": [
    "class_names = target.unique()\n",
    "print(classification_report(Ltest, y_pred, target_names=class_names))\n",
    "print(confusion_matrix(Ltest, y_pred))"
   ]
  },
  {
   "cell_type": "markdown",
   "id": "5e2c336a",
   "metadata": {},
   "source": [
    "# Decision Tree on Green channel"
   ]
  },
  {
   "cell_type": "code",
   "execution_count": 103,
   "id": "11e8600c",
   "metadata": {},
   "outputs": [
    {
     "data": {
      "text/plain": [
       "0.413570052298376"
      ]
     },
     "execution_count": 103,
     "metadata": {},
     "output_type": "execute_result"
    }
   ],
   "source": [
    "classifier_tree.fit(Ftrain, Ltrain)\n",
    "classifier_tree.score(Ftest,Ltest)"
   ]
  },
  {
   "cell_type": "code",
   "execution_count": 104,
   "id": "ef10f4f8",
   "metadata": {},
   "outputs": [
    {
     "name": "stdout",
     "output_type": "stream",
     "text": [
      "                               precision    recall  f1-score   support\n",
      "\n",
      "               bacterial_spot       0.41      0.44      0.42       838\n",
      "                 early_blight       0.17      0.16      0.16       421\n",
      "                      healthy       0.53      0.47      0.50       665\n",
      "                  late_blight       0.38      0.38      0.38       749\n",
      "                    leaf_mold       0.20      0.21      0.21       364\n",
      "           septoria_leaf_spot       0.38      0.42      0.40       686\n",
      "                  target_spot       0.23      0.21      0.22       569\n",
      "          tomato_mosaic_virus       0.09      0.12      0.10       145\n",
      "tomato_yellow_leaf_curl_virus       0.58      0.57      0.57      2163\n",
      "      two-spotted_spider_mite       0.36      0.35      0.36       666\n",
      "\n",
      "                     accuracy                           0.41      7266\n",
      "                    macro avg       0.33      0.33      0.33      7266\n",
      "                 weighted avg       0.42      0.41      0.41      7266\n",
      "\n",
      "[[ 371   56   28   37   32   45   27   20  199   23]\n",
      " [  60   67   13   40   26   26   45    9   89   46]\n",
      " [  38   17  313   40   33   64   33   14   84   29]\n",
      " [  51   54   31  282   41   79   35   11  119   46]\n",
      " [  34   17   23   44   78   33   25   14   74   22]\n",
      " [  42   29   48   76   25  291   36   11  102   26]\n",
      " [  42   45   36   41   33   49  121   18   92   92]\n",
      " [   8    6   13    9   15   16   11   17   35   15]\n",
      " [ 228   68   70  139   69  125   83   43 1226  112]\n",
      " [  39   41   21   34   29   31  110   22  106  233]]\n"
     ]
    }
   ],
   "source": [
    "y_predict = classifier_tree.fit(Ftrain, Ltrain).predict(Ftest)\n",
    "class_names = target.unique()\n",
    "print(classification_report(Ltest, y_predict, target_names=class_names))\n",
    "print(confusion_matrix(Ltest, y_predict))"
   ]
  },
  {
   "cell_type": "markdown",
   "id": "75817642",
   "metadata": {},
   "source": [
    "# KNN on blue channel data"
   ]
  },
  {
   "cell_type": "code",
   "execution_count": 105,
   "id": "531e3624",
   "metadata": {},
   "outputs": [
    {
     "data": {
      "text/plain": [
       "0.4438480594549959"
      ]
     },
     "execution_count": 105,
     "metadata": {},
     "output_type": "execute_result"
    }
   ],
   "source": [
    "#reading numpy array data\n",
    "blue_test = np.load('blue_data.npy')\n",
    "#reading csv file\n",
    "blue_df = pd.read_csv('blue_data.csv')\n",
    "loaded = []\n",
    "for i in gray_test:\n",
    "    k = []\n",
    "    k = np.asarray(i,dtype='uint8')\n",
    "    loaded.append(k)\n",
    "features = loaded\n",
    "target = blue_df['disease']\n",
    "Ftrain,Ftest,Ltrain,Ltest=train_test_split(features,target, test_size=0.50, random_state=20)\n",
    "kmodel.fit(Ftrain,Ltrain)\n",
    "kmodel.score(Ftest,Ltest)"
   ]
  },
  {
   "cell_type": "code",
   "execution_count": 106,
   "id": "db90e093",
   "metadata": {},
   "outputs": [
    {
     "name": "stdout",
     "output_type": "stream",
     "text": [
      "                               precision    recall  f1-score   support\n",
      "\n",
      "               bacterial_spot       0.36      0.75      0.49       838\n",
      "                 early_blight       0.00      0.00      0.00       421\n",
      "                      healthy       0.33      0.59      0.42       665\n",
      "                  late_blight       0.30      0.24      0.27       749\n",
      "                    leaf_mold       0.58      0.30      0.40       364\n",
      "           septoria_leaf_spot       0.64      0.31      0.42       686\n",
      "                  target_spot       0.79      0.03      0.06       569\n",
      "          tomato_mosaic_virus       1.00      0.01      0.01       145\n",
      "tomato_yellow_leaf_curl_virus       0.52      0.67      0.58      2163\n",
      "      two-spotted_spider_mite       0.58      0.36      0.45       666\n",
      "\n",
      "                     accuracy                           0.44      7266\n",
      "                    macro avg       0.51      0.33      0.31      7266\n",
      "                 weighted avg       0.48      0.44      0.40      7266\n",
      "\n",
      "[[ 629    0   69   41    1    1    0    0   97    0]\n",
      " [ 206    0   17   12   11   16    3    0  134   22]\n",
      " [  78    0  390   58    1   10    0    0  125    3]\n",
      " [ 101    0  178  182   23   56    1    0  186   22]\n",
      " [  43    0   43   44  111    6    0    0  112    5]\n",
      " [  41    0  118   56   27  211    0    0  214   19]\n",
      " [ 227    0   42   26    0   10   19    0  173   72]\n",
      " [   4    0   18   15    7    4    0    1   89    7]\n",
      " [ 272    0  280  126    8   10    0    0 1441   26]\n",
      " [ 152    0   18   39    1    4    1    0  210  241]]\n"
     ]
    },
    {
     "name": "stderr",
     "output_type": "stream",
     "text": [
      "C:\\Users\\ravic\\anaconda3\\lib\\site-packages\\sklearn\\metrics\\_classification.py:1248: UndefinedMetricWarning: Precision and F-score are ill-defined and being set to 0.0 in labels with no predicted samples. Use `zero_division` parameter to control this behavior.\n",
      "  _warn_prf(average, modifier, msg_start, len(result))\n",
      "C:\\Users\\ravic\\anaconda3\\lib\\site-packages\\sklearn\\metrics\\_classification.py:1248: UndefinedMetricWarning: Precision and F-score are ill-defined and being set to 0.0 in labels with no predicted samples. Use `zero_division` parameter to control this behavior.\n",
      "  _warn_prf(average, modifier, msg_start, len(result))\n",
      "C:\\Users\\ravic\\anaconda3\\lib\\site-packages\\sklearn\\metrics\\_classification.py:1248: UndefinedMetricWarning: Precision and F-score are ill-defined and being set to 0.0 in labels with no predicted samples. Use `zero_division` parameter to control this behavior.\n",
      "  _warn_prf(average, modifier, msg_start, len(result))\n"
     ]
    }
   ],
   "source": [
    "y_predict = kmodel.fit(Ftrain, Ltrain).predict(Ftest)\n",
    "class_names = target.unique()\n",
    "print(classification_report(Ltest, y_predict, target_names=class_names))\n",
    "print(confusion_matrix(Ltest, y_predict))"
   ]
  },
  {
   "cell_type": "markdown",
   "id": "f452a113",
   "metadata": {},
   "source": [
    "# logistic on blue channel data"
   ]
  },
  {
   "cell_type": "code",
   "execution_count": 107,
   "id": "de158586",
   "metadata": {},
   "outputs": [
    {
     "name": "stderr",
     "output_type": "stream",
     "text": [
      "C:\\Users\\ravic\\anaconda3\\lib\\site-packages\\sklearn\\linear_model\\_logistic.py:763: ConvergenceWarning: lbfgs failed to converge (status=1):\n",
      "STOP: TOTAL NO. of ITERATIONS REACHED LIMIT.\n",
      "\n",
      "Increase the number of iterations (max_iter) or scale the data as shown in:\n",
      "    https://scikit-learn.org/stable/modules/preprocessing.html\n",
      "Please also refer to the documentation for alternative solver options:\n",
      "    https://scikit-learn.org/stable/modules/linear_model.html#logistic-regression\n",
      "  n_iter_i = _check_optimize_result(\n"
     ]
    },
    {
     "data": {
      "text/plain": [
       "0.34434351775392236"
      ]
     },
     "execution_count": 107,
     "metadata": {},
     "output_type": "execute_result"
    }
   ],
   "source": [
    "model.fit(Ftrain,Ltrain)\n",
    "model.score(Ftest,Ltest)"
   ]
  },
  {
   "cell_type": "code",
   "execution_count": 108,
   "id": "43a10821",
   "metadata": {},
   "outputs": [
    {
     "name": "stdout",
     "output_type": "stream",
     "text": [
      "                               precision    recall  f1-score   support\n",
      "\n",
      "               bacterial_spot       0.46      0.44      0.45       838\n",
      "                 early_blight       0.15      0.17      0.16       421\n",
      "                      healthy       0.32      0.33      0.33       665\n",
      "                  late_blight       0.26      0.25      0.25       749\n",
      "                    leaf_mold       0.20      0.29      0.24       364\n",
      "           septoria_leaf_spot       0.18      0.16      0.17       686\n",
      "                  target_spot       0.19      0.18      0.19       569\n",
      "          tomato_mosaic_virus       0.10      0.20      0.13       145\n",
      "tomato_yellow_leaf_curl_virus       0.56      0.51      0.54      2163\n",
      "      two-spotted_spider_mite       0.30      0.31      0.30       666\n",
      "\n",
      "                     accuracy                           0.34      7266\n",
      "                    macro avg       0.27      0.28      0.28      7266\n",
      "                 weighted avg       0.36      0.34      0.35      7266\n",
      "\n",
      "[[ 366   52   47   58   18   54   46    3  145   49]\n",
      " [  53   70   29   31   33   28   50    5   83   39]\n",
      " [  36   41  222   90   36   55   56    8   77   44]\n",
      " [  37   49   83  186   72  109   43   38  105   27]\n",
      " [  11   16   20   47  104   43   25   14   66   18]\n",
      " [  63   28   64   95   61  108   50   35  137   45]\n",
      " [  67   46   69   31   25   44  104   21   64   98]\n",
      " [   4    2    6    9   18    8    6   29   53   10]\n",
      " [ 112  105  132  129  114  111   92  104 1106  158]\n",
      " [  39   46   23   35   28   45   73   38  132  207]]\n"
     ]
    },
    {
     "name": "stderr",
     "output_type": "stream",
     "text": [
      "C:\\Users\\ravic\\anaconda3\\lib\\site-packages\\sklearn\\linear_model\\_logistic.py:763: ConvergenceWarning: lbfgs failed to converge (status=1):\n",
      "STOP: TOTAL NO. of ITERATIONS REACHED LIMIT.\n",
      "\n",
      "Increase the number of iterations (max_iter) or scale the data as shown in:\n",
      "    https://scikit-learn.org/stable/modules/preprocessing.html\n",
      "Please also refer to the documentation for alternative solver options:\n",
      "    https://scikit-learn.org/stable/modules/linear_model.html#logistic-regression\n",
      "  n_iter_i = _check_optimize_result(\n"
     ]
    }
   ],
   "source": [
    "y_predict = model.fit(Ftrain, Ltrain).predict(Ftest)\n",
    "class_names = target.unique()\n",
    "print(classification_report(Ltest, y_predict, target_names=class_names))\n",
    "print(confusion_matrix(Ltest, y_predict))"
   ]
  },
  {
   "cell_type": "markdown",
   "id": "c7585c1d",
   "metadata": {},
   "source": [
    "# SVM(linear) on blue channel data"
   ]
  },
  {
   "cell_type": "code",
   "execution_count": 109,
   "id": "06fb4a0f",
   "metadata": {},
   "outputs": [
    {
     "name": "stdout",
     "output_type": "stream",
     "text": [
      "0.3868703550784476\n"
     ]
    }
   ],
   "source": [
    "clf.fit(Ftrain,Ltrain)\n",
    "y_pred = clf.predict(Ftest)\n",
    "print(accuracy_score(Ltest,y_pred))"
   ]
  },
  {
   "cell_type": "code",
   "execution_count": 110,
   "id": "31601cac",
   "metadata": {},
   "outputs": [
    {
     "name": "stdout",
     "output_type": "stream",
     "text": [
      "                               precision    recall  f1-score   support\n",
      "\n",
      "               bacterial_spot       0.34      0.54      0.42       838\n",
      "                 early_blight       0.16      0.21      0.18       421\n",
      "                      healthy       0.42      0.45      0.44       665\n",
      "                  late_blight       0.32      0.30      0.31       749\n",
      "                    leaf_mold       0.29      0.34      0.31       364\n",
      "           septoria_leaf_spot       0.30      0.30      0.30       686\n",
      "                  target_spot       0.27      0.24      0.25       569\n",
      "          tomato_mosaic_virus       0.18      0.22      0.20       145\n",
      "tomato_yellow_leaf_curl_virus       0.62      0.46      0.53      2163\n",
      "      two-spotted_spider_mite       0.43      0.36      0.39       666\n",
      "\n",
      "                     accuracy                           0.39      7266\n",
      "                    macro avg       0.33      0.34      0.33      7266\n",
      "                 weighted avg       0.41      0.39      0.39      7266\n",
      "\n",
      "[[ 453   76   44   47    8   29   30    2  123   26]\n",
      " [  99   87   11   36   31   15   38    0   74   30]\n",
      " [  98   25  301   68   24   45   39    4   37   24]\n",
      " [  85   71   84  228   48   98   28   18   60   29]\n",
      " [  28   20   11   55  122   40   10   12   56   10]\n",
      " [  84   30   62   86   38  209   47   21   74   35]\n",
      " [ 110   54   43   24   18   50  135    8   54   73]\n",
      " [  14    2    5   10   19   10    7   32   42    4]\n",
      " [ 307  108  137  130  101  139   87   66 1003   85]\n",
      " [  64   59   19   20   18   53   78   15   99  241]]\n"
     ]
    }
   ],
   "source": [
    "y_predict = clf.fit(Ftrain, Ltrain).predict(Ftest)\n",
    "class_names = target.unique()\n",
    "print(classification_report(Ltest, y_predict, target_names=class_names))\n",
    "print(confusion_matrix(Ltest, y_predict))"
   ]
  },
  {
   "cell_type": "markdown",
   "id": "20ada4d3",
   "metadata": {},
   "source": [
    "# SVM(poly) on blue data"
   ]
  },
  {
   "cell_type": "code",
   "execution_count": 111,
   "id": "29dc3434",
   "metadata": {},
   "outputs": [
    {
     "name": "stdout",
     "output_type": "stream",
     "text": [
      "0.5407376823561795\n"
     ]
    }
   ],
   "source": [
    "svm_poly.fit(Ftrain,Ltrain)\n",
    "y_pred = svm_poly.predict(Ftest)\n",
    "print(accuracy_score(Ltest,y_pred))"
   ]
  },
  {
   "cell_type": "code",
   "execution_count": 112,
   "id": "07a066f4",
   "metadata": {},
   "outputs": [
    {
     "name": "stdout",
     "output_type": "stream",
     "text": [
      "                               precision    recall  f1-score   support\n",
      "\n",
      "               bacterial_spot       0.45      0.69      0.54       838\n",
      "                 early_blight       0.21      0.20      0.21       421\n",
      "                      healthy       0.66      0.61      0.63       665\n",
      "                  late_blight       0.54      0.47      0.50       749\n",
      "                    leaf_mold       0.43      0.44      0.43       364\n",
      "           septoria_leaf_spot       0.44      0.41      0.42       686\n",
      "                  target_spot       0.40      0.36      0.38       569\n",
      "          tomato_mosaic_virus       0.23      0.24      0.24       145\n",
      "tomato_yellow_leaf_curl_virus       0.73      0.69      0.71      2163\n",
      "      two-spotted_spider_mite       0.59      0.52      0.55       666\n",
      "\n",
      "                     accuracy                           0.54      7266\n",
      "                    macro avg       0.47      0.46      0.46      7266\n",
      "                 weighted avg       0.55      0.54      0.54      7266\n",
      "\n",
      "[[ 579   24   25   36    9   30    9    1  119    6]\n",
      " [  95   84    7   41   21   12   40    1   88   32]\n",
      " [  73   15  403   25   16   45   38    3   33   14]\n",
      " [  73   70   29  354   39   60   29   12   68   15]\n",
      " [  22   16   11   44  159   33   19   10   39   11]\n",
      " [  77   32   44   64   50  280   30   24   64   21]\n",
      " [  97   55   20   14    9   47  202    6   42   77]\n",
      " [   2    1    1    7   21   17   12   35   37   12]\n",
      " [ 231   63   64   68   38   76   42   43 1486   52]\n",
      " [  47   36    8    6   11   41   83   15   72  347]]\n"
     ]
    }
   ],
   "source": [
    "#classification report\n",
    "y_predict = svm_poly.fit(Ftrain, Ltrain).predict(Ftest)\n",
    "class_names = target.unique()\n",
    "print(classification_report(Ltest, y_predict, target_names=class_names))\n",
    "print(confusion_matrix(Ltest, y_predict))"
   ]
  },
  {
   "cell_type": "markdown",
   "id": "f7c80dbc",
   "metadata": {},
   "source": [
    "# SVM(RBF) on blue data"
   ]
  },
  {
   "cell_type": "code",
   "execution_count": 113,
   "id": "4a39785b",
   "metadata": {},
   "outputs": [
    {
     "name": "stdout",
     "output_type": "stream",
     "text": [
      "0.6738232865400495\n"
     ]
    }
   ],
   "source": [
    "svm_rbf.fit(Ftrain,Ltrain)\n",
    "y_pred = svm_rbf.predict(Ftest)\n",
    "print(accuracy_score(Ltest,y_pred))"
   ]
  },
  {
   "cell_type": "code",
   "execution_count": 114,
   "id": "8c5ad3ff",
   "metadata": {},
   "outputs": [
    {
     "name": "stdout",
     "output_type": "stream",
     "text": [
      "                               precision    recall  f1-score   support\n",
      "\n",
      "               bacterial_spot       0.73      0.71      0.72       838\n",
      "                 early_blight       0.47      0.17      0.25       421\n",
      "                      healthy       0.74      0.81      0.77       665\n",
      "                  late_blight       0.64      0.63      0.63       749\n",
      "                    leaf_mold       0.70      0.43      0.53       364\n",
      "           septoria_leaf_spot       0.62      0.59      0.61       686\n",
      "                  target_spot       0.64      0.53      0.58       569\n",
      "          tomato_mosaic_virus       1.00      0.01      0.01       145\n",
      "tomato_yellow_leaf_curl_virus       0.67      0.88      0.76      2163\n",
      "      two-spotted_spider_mite       0.70      0.70      0.70       666\n",
      "\n",
      "                     accuracy                           0.67      7266\n",
      "                    macro avg       0.69      0.54      0.56      7266\n",
      "                 weighted avg       0.67      0.67      0.65      7266\n",
      "\n",
      "[[ 591    2   29   28    1   15    1    0  169    2]\n",
      " [  52   73    4   60   16   15   41    0  132   28]\n",
      " [   0    2  538   11    2   30   30    0   46    6]\n",
      " [   7   32   31  470   12   49   12    0  127    9]\n",
      " [   8    9    9   53  155   36    6    0   80    8]\n",
      " [  21    4   41   54   18  408   24    0  102   14]\n",
      " [  33   10   19   20    5   33  299    0   71   79]\n",
      " [   0    0    1    3    8   15    1    1   99   17]\n",
      " [  76    7   50   38    4   46   13    0 1898   31]\n",
      " [  17   15    6    2    1   14   42    0  106  463]]\n"
     ]
    }
   ],
   "source": [
    "#classification report\n",
    "y_predict = svm_rbf.fit(Ftrain, Ltrain).predict(Ftest)\n",
    "class_names = target.unique()\n",
    "print(classification_report(Ltest, y_predict, target_names=class_names))\n",
    "print(confusion_matrix(Ltest, y_predict))"
   ]
  },
  {
   "cell_type": "markdown",
   "id": "9f324aba",
   "metadata": {},
   "source": [
    "# SVM(sigmoid) on blue data"
   ]
  },
  {
   "cell_type": "code",
   "execution_count": 115,
   "id": "ab91bceb",
   "metadata": {},
   "outputs": [
    {
     "name": "stdout",
     "output_type": "stream",
     "text": [
      "0.24883016790531243\n"
     ]
    }
   ],
   "source": [
    "svm_si.fit(Ftrain,Ltrain)\n",
    "y_pred = svm_si.predict(Ftest)\n",
    "print(accuracy_score(Ltest,y_pred))"
   ]
  },
  {
   "cell_type": "code",
   "execution_count": 116,
   "id": "a683edec",
   "metadata": {},
   "outputs": [
    {
     "name": "stdout",
     "output_type": "stream",
     "text": [
      "                               precision    recall  f1-score   support\n",
      "\n",
      "               bacterial_spot       0.06      0.10      0.08       838\n",
      "                 early_blight       0.00      0.00      0.00       421\n",
      "                      healthy       0.00      0.00      0.00       665\n",
      "                  late_blight       0.00      0.00      0.00       749\n",
      "                    leaf_mold       0.00      0.00      0.00       364\n",
      "           septoria_leaf_spot       0.00      0.00      0.00       686\n",
      "                  target_spot       0.00      0.00      0.00       569\n",
      "          tomato_mosaic_virus       0.00      0.00      0.00       145\n",
      "tomato_yellow_leaf_curl_virus       0.29      0.80      0.43      2163\n",
      "      two-spotted_spider_mite       0.00      0.00      0.00       666\n",
      "\n",
      "                     accuracy                           0.25      7266\n",
      "                    macro avg       0.04      0.09      0.05      7266\n",
      "                 weighted avg       0.09      0.25      0.14      7266\n",
      "\n",
      "[[  80    0    0    0    0    0    0    0  758    0]\n",
      " [  14    0    0    0    0    0    0    0  407    0]\n",
      " [ 137    0    0    0    0    0    0    0  528    0]\n",
      " [ 218    0    0    0    0   53    0    0  478    0]\n",
      " [  56    0    0    0    0    0    0    0  308    0]\n",
      " [ 302    0    0    0    0    0    0    0  384    0]\n",
      " [  14    0    0    0    0    1    0    0  554    0]\n",
      " [   8    0    0    0    0    0    0    0  137    0]\n",
      " [ 434    0    0    0    0    1    0    0 1728    0]\n",
      " [  25    0    0    0    0    0    0    0  641    0]]\n"
     ]
    },
    {
     "name": "stderr",
     "output_type": "stream",
     "text": [
      "C:\\Users\\ravic\\anaconda3\\lib\\site-packages\\sklearn\\metrics\\_classification.py:1248: UndefinedMetricWarning: Precision and F-score are ill-defined and being set to 0.0 in labels with no predicted samples. Use `zero_division` parameter to control this behavior.\n",
      "  _warn_prf(average, modifier, msg_start, len(result))\n",
      "C:\\Users\\ravic\\anaconda3\\lib\\site-packages\\sklearn\\metrics\\_classification.py:1248: UndefinedMetricWarning: Precision and F-score are ill-defined and being set to 0.0 in labels with no predicted samples. Use `zero_division` parameter to control this behavior.\n",
      "  _warn_prf(average, modifier, msg_start, len(result))\n",
      "C:\\Users\\ravic\\anaconda3\\lib\\site-packages\\sklearn\\metrics\\_classification.py:1248: UndefinedMetricWarning: Precision and F-score are ill-defined and being set to 0.0 in labels with no predicted samples. Use `zero_division` parameter to control this behavior.\n",
      "  _warn_prf(average, modifier, msg_start, len(result))\n"
     ]
    }
   ],
   "source": [
    "#classification report\n",
    "y_predict = svm_si.fit(Ftrain, Ltrain).predict(Ftest)\n",
    "class_names = target.unique()\n",
    "print(classification_report(Ltest, y_predict, target_names=class_names))\n",
    "print(confusion_matrix(Ltest, y_predict))"
   ]
  },
  {
   "cell_type": "markdown",
   "id": "f4eb8c6c",
   "metadata": {},
   "source": [
    "# Random Forest on blue channel data"
   ]
  },
  {
   "cell_type": "code",
   "execution_count": 117,
   "id": "b71407b2",
   "metadata": {},
   "outputs": [
    {
     "data": {
      "text/plain": [
       "0.4428079834824501"
      ]
     },
     "execution_count": 117,
     "metadata": {},
     "output_type": "execute_result"
    }
   ],
   "source": [
    "classifier_rf.fit(Ftrain, Ltrain)\n",
    "classifier_rf.oob_score_"
   ]
  },
  {
   "cell_type": "code",
   "execution_count": 118,
   "id": "f3cf2295",
   "metadata": {},
   "outputs": [
    {
     "name": "stdout",
     "output_type": "stream",
     "text": [
      "                               precision    recall  f1-score   support\n",
      "\n",
      "               bacterial_spot       0.62      0.43      0.51       838\n",
      "                 early_blight       0.00      0.00      0.00       421\n",
      "                      healthy       0.56      0.28      0.37       665\n",
      "                  late_blight       0.68      0.22      0.33       749\n",
      "                    leaf_mold       0.67      0.03      0.05       364\n",
      "           septoria_leaf_spot       0.58      0.45      0.50       686\n",
      "                  target_spot       0.86      0.03      0.06       569\n",
      "          tomato_mosaic_virus       0.00      0.00      0.00       145\n",
      "tomato_yellow_leaf_curl_virus       0.37      0.92      0.53      2163\n",
      "      two-spotted_spider_mite       0.69      0.18      0.29       666\n",
      "\n",
      "                     accuracy                           0.43      7266\n",
      "                    macro avg       0.50      0.25      0.26      7266\n",
      "                 weighted avg       0.52      0.43      0.37      7266\n",
      "\n",
      "[[ 358    0   29    8    0    2    0    0  441    0]\n",
      " [  56    0    2    5    1   45    2    0  305    5]\n",
      " [   4    0  186   20    0    1    0    0  453    1]\n",
      " [  21    0   25  165    2   75    0    0  458    3]\n",
      " [  13    0    3    7   10   12    0    0  319    0]\n",
      " [   7    0   38   12    2  306    1    0  318    2]\n",
      " [  18    0    2    7    0   43   18    0  438   43]\n",
      " [   2    0    1    0    0    4    0    0  138    0]\n",
      " [  76    0   46   19    0   26    0    0 1996    0]\n",
      " [  24    0    0    0    0   15    0    0  506  121]]\n"
     ]
    },
    {
     "name": "stderr",
     "output_type": "stream",
     "text": [
      "C:\\Users\\ravic\\anaconda3\\lib\\site-packages\\sklearn\\metrics\\_classification.py:1248: UndefinedMetricWarning: Precision and F-score are ill-defined and being set to 0.0 in labels with no predicted samples. Use `zero_division` parameter to control this behavior.\n",
      "  _warn_prf(average, modifier, msg_start, len(result))\n",
      "C:\\Users\\ravic\\anaconda3\\lib\\site-packages\\sklearn\\metrics\\_classification.py:1248: UndefinedMetricWarning: Precision and F-score are ill-defined and being set to 0.0 in labels with no predicted samples. Use `zero_division` parameter to control this behavior.\n",
      "  _warn_prf(average, modifier, msg_start, len(result))\n",
      "C:\\Users\\ravic\\anaconda3\\lib\\site-packages\\sklearn\\metrics\\_classification.py:1248: UndefinedMetricWarning: Precision and F-score are ill-defined and being set to 0.0 in labels with no predicted samples. Use `zero_division` parameter to control this behavior.\n",
      "  _warn_prf(average, modifier, msg_start, len(result))\n"
     ]
    }
   ],
   "source": [
    "y_predict = classifier_rf.fit(Ftrain, Ltrain).predict(Ftest)\n",
    "class_names = target.unique()\n",
    "print(classification_report(Ltest, y_predict, target_names=class_names))\n",
    "print(confusion_matrix(Ltest, y_predict))"
   ]
  },
  {
   "cell_type": "markdown",
   "id": "fb1ca20e",
   "metadata": {},
   "source": [
    "# Gaussian Naive bayes on blue channel data"
   ]
  },
  {
   "cell_type": "code",
   "execution_count": 119,
   "id": "11ea0b85",
   "metadata": {},
   "outputs": [
    {
     "data": {
      "text/plain": [
       "0.3603082851637765"
      ]
     },
     "execution_count": 119,
     "metadata": {},
     "output_type": "execute_result"
    }
   ],
   "source": [
    "gnb.fit(Ftrain, Ltrain)\n",
    "y_pred = gnb.predict(Ftest)\n",
    "metrics.accuracy_score(Ltest, y_pred)"
   ]
  },
  {
   "cell_type": "code",
   "execution_count": 120,
   "id": "0743881e",
   "metadata": {},
   "outputs": [
    {
     "name": "stdout",
     "output_type": "stream",
     "text": [
      "                               precision    recall  f1-score   support\n",
      "\n",
      "               bacterial_spot       0.42      0.73      0.53       838\n",
      "                 early_blight       0.25      0.31      0.28       421\n",
      "                      healthy       0.33      0.63      0.43       665\n",
      "                  late_blight       0.44      0.23      0.30       749\n",
      "                    leaf_mold       0.39      0.28      0.32       364\n",
      "           septoria_leaf_spot       0.34      0.47      0.39       686\n",
      "                  target_spot       0.50      0.34      0.41       569\n",
      "          tomato_mosaic_virus       0.11      0.52      0.18       145\n",
      "tomato_yellow_leaf_curl_virus       0.61      0.15      0.24      2163\n",
      "      two-spotted_spider_mite       0.35      0.39      0.37       666\n",
      "\n",
      "                     accuracy                           0.36      7266\n",
      "                    macro avg       0.37      0.41      0.35      7266\n",
      "                 weighted avg       0.44      0.36      0.34      7266\n",
      "\n",
      "[[615  17  98  11   6  22   7  33  21   8]\n",
      " [115 130   9  54  16  23  25   8  13  28]\n",
      " [ 18   4 422  15  22  30  44  27  62  21]\n",
      " [ 22 126 231 174  24  90  13  28  20  21]\n",
      " [ 56  15  14  20 101  71   6  44  21  16]\n",
      " [ 10  16 132  14  26 324  28  53  21  62]\n",
      " [ 60  32   9  30  10  71 193  34  13 117]\n",
      " [ 22   0  10   1   5   9   1  75  14   8]\n",
      " [502 123 366  60  35 228  22 295 326 206]\n",
      " [ 55  61   7  13  16  94  44  93  25 258]]\n"
     ]
    }
   ],
   "source": [
    "class_names = target.unique()\n",
    "print(classification_report(Ltest, y_pred, target_names=class_names))\n",
    "print(confusion_matrix(Ltest, y_pred))"
   ]
  },
  {
   "cell_type": "markdown",
   "id": "2ef4dbb7",
   "metadata": {},
   "source": [
    "# Bernouli Naive bayes on blue data"
   ]
  },
  {
   "cell_type": "code",
   "execution_count": 121,
   "id": "8b5c24cc",
   "metadata": {},
   "outputs": [
    {
     "data": {
      "text/plain": [
       "0.3048444811450592"
      ]
     },
     "execution_count": 121,
     "metadata": {},
     "output_type": "execute_result"
    }
   ],
   "source": [
    "bnb.fit(Ftrain, Ltrain)\n",
    "y_pred = bnb.predict(Ftest)\n",
    "metrics.accuracy_score(Ltest, y_pred)"
   ]
  },
  {
   "cell_type": "code",
   "execution_count": 122,
   "id": "dadfa0bc",
   "metadata": {},
   "outputs": [
    {
     "name": "stdout",
     "output_type": "stream",
     "text": [
      "                               precision    recall  f1-score   support\n",
      "\n",
      "               bacterial_spot       0.00      0.00      0.00       838\n",
      "                 early_blight       0.50      0.00      0.00       421\n",
      "                      healthy       0.25      0.00      0.00       665\n",
      "                  late_blight       1.00      0.06      0.12       749\n",
      "                    leaf_mold       0.38      0.01      0.02       364\n",
      "           septoria_leaf_spot       0.00      0.00      0.00       686\n",
      "                  target_spot       0.00      0.00      0.00       569\n",
      "          tomato_mosaic_virus       0.00      0.00      0.00       145\n",
      "tomato_yellow_leaf_curl_virus       0.30      1.00      0.46      2163\n",
      "      two-spotted_spider_mite       0.00      0.00      0.00       666\n",
      "\n",
      "                     accuracy                           0.30      7266\n",
      "                    macro avg       0.24      0.11      0.06      7266\n",
      "                 weighted avg       0.26      0.30      0.15      7266\n",
      "\n",
      "[[   0    0    0    0    0    0    0    0  838    0]\n",
      " [   6    1    1    0    1    0    0    0  412    0]\n",
      " [   5    0    1    0    3    3    0    0  653    0]\n",
      " [   1    0    1   47    1    0    1    5  693    0]\n",
      " [   2    0    1    0    3    0    0    0  358    0]\n",
      " [   3    1    0    0    0    0    2    0  680    0]\n",
      " [   0    0    0    0    0    0    0    0  569    0]\n",
      " [   1    0    0    0    0    0    0    0  144    0]\n",
      " [   0    0    0    0    0    0    0    0 2163    0]\n",
      " [   0    0    0    0    0    0    0    0  666    0]]\n"
     ]
    },
    {
     "name": "stderr",
     "output_type": "stream",
     "text": [
      "C:\\Users\\ravic\\anaconda3\\lib\\site-packages\\sklearn\\metrics\\_classification.py:1248: UndefinedMetricWarning: Precision and F-score are ill-defined and being set to 0.0 in labels with no predicted samples. Use `zero_division` parameter to control this behavior.\n",
      "  _warn_prf(average, modifier, msg_start, len(result))\n",
      "C:\\Users\\ravic\\anaconda3\\lib\\site-packages\\sklearn\\metrics\\_classification.py:1248: UndefinedMetricWarning: Precision and F-score are ill-defined and being set to 0.0 in labels with no predicted samples. Use `zero_division` parameter to control this behavior.\n",
      "  _warn_prf(average, modifier, msg_start, len(result))\n",
      "C:\\Users\\ravic\\anaconda3\\lib\\site-packages\\sklearn\\metrics\\_classification.py:1248: UndefinedMetricWarning: Precision and F-score are ill-defined and being set to 0.0 in labels with no predicted samples. Use `zero_division` parameter to control this behavior.\n",
      "  _warn_prf(average, modifier, msg_start, len(result))\n"
     ]
    }
   ],
   "source": [
    "class_names = target.unique()\n",
    "print(classification_report(Ltest, y_pred, target_names=class_names))\n",
    "print(confusion_matrix(Ltest, y_pred))"
   ]
  },
  {
   "cell_type": "markdown",
   "id": "a9f61b1f",
   "metadata": {},
   "source": [
    "# Decision Tree on Blue channel"
   ]
  },
  {
   "cell_type": "code",
   "execution_count": 123,
   "id": "abc489d3",
   "metadata": {},
   "outputs": [
    {
     "data": {
      "text/plain": [
       "0.3985686760253234"
      ]
     },
     "execution_count": 123,
     "metadata": {},
     "output_type": "execute_result"
    }
   ],
   "source": [
    "classifier_tree.fit(Ftrain, Ltrain)\n",
    "classifier_tree.score(Ftest,Ltest)"
   ]
  },
  {
   "cell_type": "code",
   "execution_count": 124,
   "id": "7047e0bb",
   "metadata": {},
   "outputs": [
    {
     "name": "stdout",
     "output_type": "stream",
     "text": [
      "                               precision    recall  f1-score   support\n",
      "\n",
      "               bacterial_spot       0.40      0.44      0.42       838\n",
      "                 early_blight       0.12      0.10      0.11       421\n",
      "                      healthy       0.47      0.42      0.44       665\n",
      "                  late_blight       0.37      0.37      0.37       749\n",
      "                    leaf_mold       0.24      0.26      0.25       364\n",
      "           septoria_leaf_spot       0.36      0.42      0.39       686\n",
      "                  target_spot       0.26      0.25      0.25       569\n",
      "          tomato_mosaic_virus       0.06      0.06      0.06       145\n",
      "tomato_yellow_leaf_curl_virus       0.54      0.52      0.53      2163\n",
      "      two-spotted_spider_mite       0.39      0.38      0.38       666\n",
      "\n",
      "                     accuracy                           0.40      7266\n",
      "                    macro avg       0.32      0.32      0.32      7266\n",
      "                 weighted avg       0.40      0.40      0.39      7266\n",
      "\n",
      "[[ 367   51   29   48   33   39   36   10  190   35]\n",
      " [  59   41   10   36   40   40   40    7   97   51]\n",
      " [  49   12  279   58   21   57   49   17   98   25]\n",
      " [  48   34   45  279   35   77   38   11  150   32]\n",
      " [  27   18   18   38   94   38   22    6   81   22]\n",
      " [  47   20   36   70   33  286   42    9  105   38]\n",
      " [  45   31   39   32   33   65  143   17   93   71]\n",
      " [   6    6    8   13    6   17   15    8   50   16]\n",
      " [ 233   93  102  151   79  139   88   41 1124  113]\n",
      " [  47   39   28   35   25   30   82   15  112  253]]\n"
     ]
    }
   ],
   "source": [
    "y_predict = classifier_tree.fit(Ftrain, Ltrain).predict(Ftest)\n",
    "class_names = target.unique()\n",
    "print(classification_report(Ltest, y_predict, target_names=class_names))\n",
    "print(confusion_matrix(Ltest, y_predict))"
   ]
  }
 ],
 "metadata": {
  "kernelspec": {
   "display_name": "Python 3 (ipykernel)",
   "language": "python",
   "name": "python3"
  },
  "language_info": {
   "codemirror_mode": {
    "name": "ipython",
    "version": 3
   },
   "file_extension": ".py",
   "mimetype": "text/x-python",
   "name": "python",
   "nbconvert_exporter": "python",
   "pygments_lexer": "ipython3",
   "version": "3.9.7"
  }
 },
 "nbformat": 4,
 "nbformat_minor": 5
}
