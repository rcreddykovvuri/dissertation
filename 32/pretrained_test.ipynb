{
 "cells": [
  {
   "cell_type": "code",
   "execution_count": 12,
   "id": "1782bb54",
   "metadata": {},
   "outputs": [],
   "source": [
    "import numpy as np #importing numpy\n",
    "import pandas as pd #importing pandas\n",
    "import PIL #importing pillow for image processing\n",
    "from PIL import Image#importing image from pillow library\n",
    "import skimage#importing skimage library\n",
    "import os#importing os library\n",
    "import time#importing time library\n",
    "import pickle \n",
    "import pyreadstat as psav"
   ]
  },
  {
   "cell_type": "code",
   "execution_count": 13,
   "id": "4d1a9d05",
   "metadata": {},
   "outputs": [],
   "source": [
    "os.chdir('D://')"
   ]
  },
  {
   "cell_type": "code",
   "execution_count": 14,
   "id": "352f10cc",
   "metadata": {},
   "outputs": [],
   "source": [
    "filename = 'svm.sav'"
   ]
  },
  {
   "cell_type": "code",
   "execution_count": 15,
   "id": "6f045507",
   "metadata": {},
   "outputs": [],
   "source": [
    "loaded_model = pickle.load(open(filename, 'rb'))"
   ]
  },
  {
   "cell_type": "code",
   "execution_count": 23,
   "id": "86f34e0a",
   "metadata": {},
   "outputs": [],
   "source": [
    "image = Image.open('tomato-leaf.jpg',mode='r')\n",
    "size = (32,32)\n",
    "image = image.resize(size)\n",
    "data1 = image.convert('RGB')\n",
    "data1 = np.array(data1)\n",
    "data1 = data1.ravel()"
   ]
  },
  {
   "cell_type": "code",
   "execution_count": 24,
   "id": "071af933",
   "metadata": {},
   "outputs": [],
   "source": [
    "test = pd.DataFrame(data1)\n",
    "data = test.transpose()"
   ]
  },
  {
   "cell_type": "code",
   "execution_count": 25,
   "id": "7006ef2e",
   "metadata": {},
   "outputs": [],
   "source": [
    "data2 = data.values"
   ]
  },
  {
   "cell_type": "code",
   "execution_count": 26,
   "id": "9ad06f18",
   "metadata": {},
   "outputs": [],
   "source": [
    "prediction = loaded_model.predict(data2)"
   ]
  },
  {
   "cell_type": "code",
   "execution_count": 27,
   "id": "90f9044e",
   "metadata": {},
   "outputs": [
    {
     "name": "stdout",
     "output_type": "stream",
     "text": [
      "['septoria_leaf_spot']\n"
     ]
    }
   ],
   "source": [
    "print(prediction)"
   ]
  }
 ],
 "metadata": {
  "kernelspec": {
   "display_name": "Python 3 (ipykernel)",
   "language": "python",
   "name": "python3"
  },
  "language_info": {
   "codemirror_mode": {
    "name": "ipython",
    "version": 3
   },
   "file_extension": ".py",
   "mimetype": "text/x-python",
   "name": "python",
   "nbconvert_exporter": "python",
   "pygments_lexer": "ipython3",
   "version": "3.9.7"
  }
 },
 "nbformat": 4,
 "nbformat_minor": 5
}
