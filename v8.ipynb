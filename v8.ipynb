{
 "cells": [
  {
   "cell_type": "code",
   "execution_count": 1,
   "id": "164440f9",
   "metadata": {},
   "outputs": [],
   "source": [
    "import numpy as np #importing numpy\n",
    "import pandas as pd #importing pandas\n",
    "import PIL #importing pillow for image processing\n",
    "from PIL import Image#importing image from pillow library\n",
    "import skimage#importing skimage library\n",
    "import os#importing os library\n",
    "import time#importing time library\n",
    "\n",
    "#Capture start time of the program\n",
    "start_time = time.time()"
   ]
  },
  {
   "cell_type": "code",
   "execution_count": 2,
   "id": "b323a63e",
   "metadata": {},
   "outputs": [],
   "source": [
    "from string import digits\n",
    "#code to remove numbers in a string and assigning it to the variable\n",
    "r_digits = str.maketrans('', '', digits)\n",
    "#taking source data folder path to a varible\n",
    "rawdata_path = 'D://DKIT//dissertation//Dataset_of_Tomato Leaves//plantvillage//Preprocessed_data//Preprocessed_data//'\n",
    "#changing current librbay to source data\n",
    "os.chdir(rawdata_path)\n",
    "#taking sub-directories to a list\n",
    "dirs = os.listdir()\n",
    "directories = []\n",
    "diseases = []\n",
    "#Taking directories into a list and extract disease name from folder name\n",
    "for x in dirs:\n",
    "    res = x.translate(r_digits).lower()\n",
    "    diseases.append(res)\n",
    "    temp = rawdata_path + x + '//'\n",
    "    directories.append(temp)"
   ]
  },
  {
   "cell_type": "code",
   "execution_count": 3,
   "id": "8c494810",
   "metadata": {},
   "outputs": [
    {
     "name": "stdout",
     "output_type": "stream",
     "text": [
      "['bacterial_spot', 'early_blight', 'healthy', 'late_blight', 'leaf_mold', 'septoria_leaf_spot', 'target_spot', 'tomato_mosaic_virus', 'tomato_yellow_leaf_curl_virus', 'two-spotted_spider_mite']\n",
      "['D://DKIT//dissertation//Dataset_of_Tomato Leaves//plantvillage//Preprocessed_data//Preprocessed_data//Bacterial_spot227//', 'D://DKIT//dissertation//Dataset_of_Tomato Leaves//plantvillage//Preprocessed_data//Preprocessed_data//Early_blight227//', 'D://DKIT//dissertation//Dataset_of_Tomato Leaves//plantvillage//Preprocessed_data//Preprocessed_data//healthy227//', 'D://DKIT//dissertation//Dataset_of_Tomato Leaves//plantvillage//Preprocessed_data//Preprocessed_data//Late_blight227//', 'D://DKIT//dissertation//Dataset_of_Tomato Leaves//plantvillage//Preprocessed_data//Preprocessed_data//Leaf_Mold227//', 'D://DKIT//dissertation//Dataset_of_Tomato Leaves//plantvillage//Preprocessed_data//Preprocessed_data//Septoria_leaf_spot227//', 'D://DKIT//dissertation//Dataset_of_Tomato Leaves//plantvillage//Preprocessed_data//Preprocessed_data//Target_Spot227//', 'D://DKIT//dissertation//Dataset_of_Tomato Leaves//plantvillage//Preprocessed_data//Preprocessed_data//Tomato_mosaic_virus227//', 'D://DKIT//dissertation//Dataset_of_Tomato Leaves//plantvillage//Preprocessed_data//Preprocessed_data//Tomato_Yellow_Leaf_Curl_Virus227//', 'D://DKIT//dissertation//Dataset_of_Tomato Leaves//plantvillage//Preprocessed_data//Preprocessed_data//Two-spotted_spider_mite227//']\n"
     ]
    }
   ],
   "source": [
    "#printing diseases and directories after extracting\n",
    "print(diseases)\n",
    "print(directories)"
   ]
  },
  {
   "cell_type": "code",
   "execution_count": 4,
   "id": "c8006400",
   "metadata": {},
   "outputs": [],
   "source": [
    "\n",
    "gray_df = pd.DataFrame(columns=['gray_single','disease'])\n",
    "rgb_df = pd.DataFrame(columns=['rgb_single','disease'])"
   ]
  },
  {
   "cell_type": "code",
   "execution_count": 5,
   "id": "9220e4fc",
   "metadata": {},
   "outputs": [],
   "source": [
    "x = 0\n",
    "y=0\n",
    "gray_test = []\n",
    "gray_final = []\n",
    "disease = []\n",
    "rgb_final = []\n",
    "\n",
    "for i in directories:\n",
    "    os.chdir(i)\n",
    "    k = diseases[x]\n",
    "    pics = os.listdir()\n",
    "    for j in pics:\n",
    "        temp_list = []\n",
    "        rgb_temp = []\n",
    "        gray = []\n",
    "        data = []\n",
    "        image = Image.open(j,mode='r')\n",
    "        data = image.convert('RGB')\n",
    "        data = np.array(data)\n",
    "        data = data.ravel()\n",
    "        rgb_temp.append(data)\n",
    "        rgb_temp.append(k)\n",
    "        gray = image.convert('L')\n",
    "        gray = np.array(gray)\n",
    "        gray = gray.ravel()\n",
    "        gray_test.append(gray)\n",
    "        temp_list.append(gray)\n",
    "        temp_list.append(k)\n",
    "               \n",
    "        gray_df.loc[len(gray_df)] = temp_list\n",
    "        rgb_df.loc[len(rgb_df)] = rgb_temp\n",
    "    x = x+1"
   ]
  },
  {
   "cell_type": "code",
   "execution_count": 6,
   "id": "75e2eebb",
   "metadata": {},
   "outputs": [
    {
     "data": {
      "text/html": [
       "<div>\n",
       "<style scoped>\n",
       "    .dataframe tbody tr th:only-of-type {\n",
       "        vertical-align: middle;\n",
       "    }\n",
       "\n",
       "    .dataframe tbody tr th {\n",
       "        vertical-align: top;\n",
       "    }\n",
       "\n",
       "    .dataframe thead th {\n",
       "        text-align: right;\n",
       "    }\n",
       "</style>\n",
       "<table border=\"1\" class=\"dataframe\">\n",
       "  <thead>\n",
       "    <tr style=\"text-align: right;\">\n",
       "      <th></th>\n",
       "      <th>rgb_single</th>\n",
       "      <th>disease</th>\n",
       "    </tr>\n",
       "  </thead>\n",
       "  <tbody>\n",
       "    <tr>\n",
       "      <th>0</th>\n",
       "      <td>[151, 145, 145, 152, 146, 146, 153, 147, 147, ...</td>\n",
       "      <td>bacterial_spot</td>\n",
       "    </tr>\n",
       "    <tr>\n",
       "      <th>1</th>\n",
       "      <td>[170, 164, 164, 166, 160, 160, 165, 159, 159, ...</td>\n",
       "      <td>bacterial_spot</td>\n",
       "    </tr>\n",
       "    <tr>\n",
       "      <th>2</th>\n",
       "      <td>[128, 129, 123, 127, 128, 122, 126, 127, 121, ...</td>\n",
       "      <td>bacterial_spot</td>\n",
       "    </tr>\n",
       "    <tr>\n",
       "      <th>3</th>\n",
       "      <td>[119, 115, 114, 121, 117, 116, 121, 117, 116, ...</td>\n",
       "      <td>bacterial_spot</td>\n",
       "    </tr>\n",
       "    <tr>\n",
       "      <th>4</th>\n",
       "      <td>[173, 173, 173, 170, 170, 170, 169, 169, 169, ...</td>\n",
       "      <td>bacterial_spot</td>\n",
       "    </tr>\n",
       "    <tr>\n",
       "      <th>...</th>\n",
       "      <td>...</td>\n",
       "      <td>...</td>\n",
       "    </tr>\n",
       "    <tr>\n",
       "      <th>14526</th>\n",
       "      <td>[128, 113, 116, 129, 114, 117, 142, 127, 130, ...</td>\n",
       "      <td>two-spotted_spider_mite</td>\n",
       "    </tr>\n",
       "    <tr>\n",
       "      <th>14527</th>\n",
       "      <td>[127, 114, 123, 128, 115, 124, 122, 109, 118, ...</td>\n",
       "      <td>two-spotted_spider_mite</td>\n",
       "    </tr>\n",
       "    <tr>\n",
       "      <th>14528</th>\n",
       "      <td>[145, 133, 135, 119, 107, 109, 114, 102, 104, ...</td>\n",
       "      <td>two-spotted_spider_mite</td>\n",
       "    </tr>\n",
       "    <tr>\n",
       "      <th>14529</th>\n",
       "      <td>[181, 170, 178, 184, 173, 181, 183, 172, 180, ...</td>\n",
       "      <td>two-spotted_spider_mite</td>\n",
       "    </tr>\n",
       "    <tr>\n",
       "      <th>14530</th>\n",
       "      <td>[91, 79, 81, 111, 99, 101, 105, 93, 95, 103, 9...</td>\n",
       "      <td>two-spotted_spider_mite</td>\n",
       "    </tr>\n",
       "  </tbody>\n",
       "</table>\n",
       "<p>14531 rows × 2 columns</p>\n",
       "</div>"
      ],
      "text/plain": [
       "                                              rgb_single  \\\n",
       "0      [151, 145, 145, 152, 146, 146, 153, 147, 147, ...   \n",
       "1      [170, 164, 164, 166, 160, 160, 165, 159, 159, ...   \n",
       "2      [128, 129, 123, 127, 128, 122, 126, 127, 121, ...   \n",
       "3      [119, 115, 114, 121, 117, 116, 121, 117, 116, ...   \n",
       "4      [173, 173, 173, 170, 170, 170, 169, 169, 169, ...   \n",
       "...                                                  ...   \n",
       "14526  [128, 113, 116, 129, 114, 117, 142, 127, 130, ...   \n",
       "14527  [127, 114, 123, 128, 115, 124, 122, 109, 118, ...   \n",
       "14528  [145, 133, 135, 119, 107, 109, 114, 102, 104, ...   \n",
       "14529  [181, 170, 178, 184, 173, 181, 183, 172, 180, ...   \n",
       "14530  [91, 79, 81, 111, 99, 101, 105, 93, 95, 103, 9...   \n",
       "\n",
       "                       disease  \n",
       "0               bacterial_spot  \n",
       "1               bacterial_spot  \n",
       "2               bacterial_spot  \n",
       "3               bacterial_spot  \n",
       "4               bacterial_spot  \n",
       "...                        ...  \n",
       "14526  two-spotted_spider_mite  \n",
       "14527  two-spotted_spider_mite  \n",
       "14528  two-spotted_spider_mite  \n",
       "14529  two-spotted_spider_mite  \n",
       "14530  two-spotted_spider_mite  \n",
       "\n",
       "[14531 rows x 2 columns]"
      ]
     },
     "execution_count": 6,
     "metadata": {},
     "output_type": "execute_result"
    }
   ],
   "source": [
    "rgb_df"
   ]
  },
  {
   "cell_type": "code",
   "execution_count": 7,
   "id": "25789bd2",
   "metadata": {},
   "outputs": [
    {
     "name": "stdout",
     "output_type": "stream",
     "text": [
      "<class 'pandas.core.frame.DataFrame'>\n",
      "Int64Index: 14531 entries, 0 to 14530\n",
      "Data columns (total 2 columns):\n",
      " #   Column      Non-Null Count  Dtype \n",
      "---  ------      --------------  ----- \n",
      " 0   rgb_single  14531 non-null  object\n",
      " 1   disease     14531 non-null  object\n",
      "dtypes: object(2)\n",
      "memory usage: 340.6+ KB\n"
     ]
    }
   ],
   "source": [
    "rgb_df.info()"
   ]
  },
  {
   "cell_type": "code",
   "execution_count": 8,
   "id": "5ca1e220",
   "metadata": {},
   "outputs": [],
   "source": [
    "disease = list(gray_df['disease'])"
   ]
  },
  {
   "cell_type": "markdown",
   "id": "5749f9cb",
   "metadata": {},
   "source": [
    "# logistic on grayscale data"
   ]
  },
  {
   "cell_type": "code",
   "execution_count": 9,
   "id": "95fc6cf7",
   "metadata": {},
   "outputs": [],
   "source": [
    "features = gray_test\n",
    "target = gray_df['disease']\n",
    "from sklearn.linear_model import LogisticRegression\n",
    "from sklearn.model_selection import train_test_split\n",
    "Ftrain,Ftest,Ltrain,Ltest=train_test_split(features,target, test_size=0.20, random_state=24)\n",
    "from sklearn.preprocessing import StandardScaler\n",
    "scaler = StandardScaler()\n",
    "scaler.fit(Ftrain)\n",
    "Ftrain = scaler.transform(Ftrain)\n",
    "Ftest = scaler.transform(Ftest)"
   ]
  },
  {
   "cell_type": "code",
   "execution_count": null,
   "id": "500aa012",
   "metadata": {},
   "outputs": [],
   "source": [
    "model=LogisticRegression(solver='lbfgs', max_iter=10000)\n",
    "model.fit(Ftrain,Ltrain)\n",
    "model.score(Ftest,Ltest)"
   ]
  },
  {
   "cell_type": "code",
   "execution_count": null,
   "id": "16496599",
   "metadata": {},
   "outputs": [],
   "source": []
  },
  {
   "cell_type": "code",
   "execution_count": null,
   "id": "124309db",
   "metadata": {},
   "outputs": [],
   "source": [
    "features = gray_df.copy()\n",
    "features.drop(columns=['disease'],inplace=True)\n",
    "target = gray_df['disease']"
   ]
  },
  {
   "cell_type": "code",
   "execution_count": null,
   "id": "634db357",
   "metadata": {},
   "outputs": [],
   "source": [
    "from sklearn.linear_model import LogisticRegression\n",
    "from sklearn.model_selection import train_test_split\n",
    "Ftrain,Ftest,Ltrain,Ltest=train_test_split(features,target, test_size=0.20, random_state=24)"
   ]
  },
  {
   "cell_type": "code",
   "execution_count": null,
   "id": "c556cd2e",
   "metadata": {},
   "outputs": [],
   "source": [
    "#from sklearn.preprocessing import StandardScaler\n",
    "#scaler = StandardScaler()\n",
    "#scaler.fit(Ftrain)\n",
    "#Ftrain = scaler.transform(Ftrain)\n",
    "#Ftest = scaler.transform(Ftest)"
   ]
  },
  {
   "cell_type": "code",
   "execution_count": null,
   "id": "fb65ee47",
   "metadata": {},
   "outputs": [],
   "source": [
    "model=LogisticRegression()\n",
    "model.fit(Ftrain,Ltrain)\n",
    "model.score(Ftest,Ltest)"
   ]
  },
  {
   "cell_type": "markdown",
   "id": "5bd72649",
   "metadata": {},
   "source": [
    "# Logistic on rgb data"
   ]
  },
  {
   "cell_type": "code",
   "execution_count": null,
   "id": "cbe340b2",
   "metadata": {},
   "outputs": [],
   "source": [
    "rgb_features = rgb_df.copy()\n",
    "rgb_features.drop(columns=['disease'],inplace=True)\n",
    "rgb_target = rgb_df['disease']"
   ]
  },
  {
   "cell_type": "code",
   "execution_count": null,
   "id": "1df905f1",
   "metadata": {},
   "outputs": [],
   "source": [
    "Ftrain,Ftest,Ltrain,Ltest=train_test_split(rgb_features,rgb_target, test_size=0.20, random_state=24)"
   ]
  },
  {
   "cell_type": "code",
   "execution_count": null,
   "id": "69a03a7e",
   "metadata": {},
   "outputs": [],
   "source": [
    "scaler.fit(Ftrain)\n",
    "Ftrain = scaler.transform(Ftrain)\n",
    "Ftest = scaler.transform(Ftest)"
   ]
  },
  {
   "cell_type": "code",
   "execution_count": null,
   "id": "af4522f3",
   "metadata": {},
   "outputs": [],
   "source": [
    "model.fit(Ftrain,Ltrain)\n",
    "model.score(Ftest,Ltest)"
   ]
  },
  {
   "cell_type": "code",
   "execution_count": null,
   "id": "a1625be1",
   "metadata": {},
   "outputs": [],
   "source": [
    "print('time taken by the program to run: %s'% (time.time()-start_time))"
   ]
  },
  {
   "cell_type": "code",
   "execution_count": null,
   "id": "c13114f7",
   "metadata": {},
   "outputs": [],
   "source": []
  }
 ],
 "metadata": {
  "kernelspec": {
   "display_name": "Python 3 (ipykernel)",
   "language": "python",
   "name": "python3"
  },
  "language_info": {
   "codemirror_mode": {
    "name": "ipython",
    "version": 3
   },
   "file_extension": ".py",
   "mimetype": "text/x-python",
   "name": "python",
   "nbconvert_exporter": "python",
   "pygments_lexer": "ipython3",
   "version": "3.9.7"
  }
 },
 "nbformat": 4,
 "nbformat_minor": 5
}
